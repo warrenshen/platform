{
 "cells": [
  {
   "cell_type": "code",
   "execution_count": null,
   "metadata": {},
   "outputs": [],
   "source": [
    "import pandas as pd"
   ]
  },
  {
   "cell_type": "code",
   "execution_count": null,
   "metadata": {},
   "outputs": [],
   "source": [
    "df = pd.read_excel('../metrc/customer_revenue.xlsx')"
   ]
  },
  {
   "cell_type": "code",
   "execution_count": null,
   "metadata": {},
   "outputs": [],
   "source": [
    "df.info()"
   ]
  },
  {
   "cell_type": "code",
   "execution_count": null,
   "metadata": {},
   "outputs": [],
   "source": [
    "df.head()"
   ]
  },
  {
   "cell_type": "code",
   "execution_count": null,
   "metadata": {},
   "outputs": [],
   "source": [
    "# df_all[['client', 'date']].groupby('client', as_index=False).max()\n",
    "# df[['Customers', 'Type']].groupby('')\n",
    "df['last_value'] = df.iloc[:, 1:].ffill(axis=1).iloc[:, -1]"
   ]
  },
  {
   "cell_type": "code",
   "execution_count": null,
   "metadata": {},
   "outputs": [],
   "source": [
    "# grouped_multiple = df.groupby(['Team', 'Pos']).agg({'Age': ['mean', 'min', 'max']})\n",
    "\n",
    "df_revenue = df[df['Type'] == 'Revenue']\n",
    "df_tot_revenue = df[df['Type'] == 'Total Revenue']\n",
    "df_ebitda = df[df['Type'] == 'EBITDA']\n",
    "df_income = df[df['Type'] == 'Net Income']"
   ]
  },
  {
   "cell_type": "code",
   "execution_count": null,
   "metadata": {},
   "outputs": [],
   "source": [
    "# df.info()"
   ]
  },
  {
   "cell_type": "code",
   "execution_count": null,
   "metadata": {},
   "outputs": [],
   "source": [
    "# df_revenue.info()"
   ]
  },
  {
   "cell_type": "code",
   "execution_count": null,
   "metadata": {},
   "outputs": [],
   "source": [
    "# df_revenue['last_value'] = df_revenue['last_value'].astype(int)"
   ]
  },
  {
   "cell_type": "code",
   "execution_count": null,
   "metadata": {},
   "outputs": [],
   "source": [
    "# df_revenue[['Customers', 'last_value']].style.format('{:,}')\n",
    "df_rev_lv = df_revenue[['Customers', 'last_value']]"
   ]
  },
  {
   "cell_type": "code",
   "execution_count": null,
   "metadata": {},
   "outputs": [],
   "source": [
    "df_tot_rev_lv = df_tot_revenue[['Customers', 'last_value']]\n",
    "df_ebitda_lv = df_ebitda[['Customers', 'last_value']]\n",
    "df_income_lv = df_income[['Customers', 'last_value']]"
   ]
  },
  {
   "cell_type": "code",
   "execution_count": null,
   "metadata": {},
   "outputs": [],
   "source": [
    "type(df_ebitda_lv)"
   ]
  },
  {
   "cell_type": "code",
   "execution_count": null,
   "metadata": {},
   "outputs": [],
   "source": [
    "\n",
    "# df.rename(columns={\"A\": \"a\", \"B\": \"c\"})\n",
    "\n",
    "df_rev_lv.rename(columns={'last_value':'revenue'}, inplace=True)\n",
    "df_tot_rev_lv.rename(columns={'last_value':'total_revenue'}, inplace=True)\n",
    "df_ebitda_lv.rename(columns={'last_value':'ebitda'}, inplace=True)\n",
    "df_income_lv.rename(columns={'last_value':'net_income'}, inplace=True)"
   ]
  },
  {
   "cell_type": "code",
   "execution_count": null,
   "metadata": {},
   "outputs": [],
   "source": [
    "pd.concat([df_rev_lv,df_tot_rev_lv,df_ebitda_lv,df_income_lv]).reindex()\n",
    "# pd.merge([df_rev_lv,df_tot_rev_lv,df_ebitda_lv,df_income_lv])\n",
    "# esult = pd.concat([df1, df4], axis=1).reindex(df1.index)"
   ]
  },
  {
   "cell_type": "code",
   "execution_count": null,
   "metadata": {},
   "outputs": [],
   "source": [
    "df_income_lv['net_income'] = df_income_lv['net_income'].astype(int)"
   ]
  },
  {
   "cell_type": "code",
   "execution_count": null,
   "metadata": {},
   "outputs": [],
   "source": [
    "df_income_lv = df_income_lv.reset_index(drop='True')"
   ]
  },
  {
   "cell_type": "code",
   "execution_count": null,
   "metadata": {},
   "outputs": [],
   "source": [
    "df_ebitda_lv['ebitda'] = df_ebitda_lv['ebitda'].astype(int)"
   ]
  },
  {
   "cell_type": "code",
   "execution_count": null,
   "metadata": {},
   "outputs": [],
   "source": [
    "df_all_1 = pd.merge(df_income_lv, df_ebitda_lv, on='Customers', how='left')"
   ]
  },
  {
   "cell_type": "code",
   "execution_count": null,
   "metadata": {},
   "outputs": [],
   "source": [
    "df_tot_rev_lv['total_revenue'] = df_tot_rev_lv['total_revenue'].astype(int)"
   ]
  },
  {
   "cell_type": "code",
   "execution_count": null,
   "metadata": {},
   "outputs": [],
   "source": [
    "df_all_2 = pd.merge(df_all_1, df_tot_rev_lv, on='Customers', how='left')"
   ]
  },
  {
   "cell_type": "code",
   "execution_count": null,
   "metadata": {},
   "outputs": [],
   "source": [
    "df_all_3 = pd.merge(df_all_2, df_rev_lv, on='Customers', how='left')"
   ]
  },
  {
   "cell_type": "code",
   "execution_count": null,
   "metadata": {},
   "outputs": [],
   "source": [
    "df_all = df_all_3[['Customers', 'revenue','total_revenue','ebitda','net_income']]"
   ]
  },
  {
   "cell_type": "code",
   "execution_count": null,
   "metadata": {},
   "outputs": [],
   "source": [
    "df_all.to_excel('../metrc/customer_revenue_summary.xlsx')\n",
    "\n",
    "# df_final.to_csv('../credit_score_files/credit_score_2020_09_03_v6.csv', index=False)"
   ]
  },
  {
   "cell_type": "code",
   "execution_count": null,
   "metadata": {},
   "outputs": [],
   "source": []
  }
 ],
 "metadata": {
  "kernelspec": {
   "display_name": "Python 3",
   "language": "python",
   "name": "python3"
  },
  "language_info": {
   "codemirror_mode": {
    "name": "ipython",
    "version": 3
   },
   "file_extension": ".py",
   "mimetype": "text/x-python",
   "name": "python",
   "nbconvert_exporter": "python",
   "pygments_lexer": "ipython3",
   "version": "3.7.3"
  }
 },
 "nbformat": 4,
 "nbformat_minor": 2
}
