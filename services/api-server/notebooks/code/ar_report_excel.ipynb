{
 "cells": [
  {
   "cell_type": "markdown",
   "metadata": {},
   "source": [
    "Goals\n",
    "\n",
    "read in names from AR report\n",
    "clean names\n",
    "\n",
    "read in sql database\n",
    "clean names\n",
    "\n",
    "match on clean names\n",
    "\n",
    "export both ar report names and sql database to excel\n"
   ]
  },
  {
   "cell_type": "code",
   "execution_count": null,
   "metadata": {},
   "outputs": [],
   "source": [
    "import pandas as pd"
   ]
  },
  {
   "cell_type": "code",
   "execution_count": null,
   "metadata": {},
   "outputs": [],
   "source": [
    "df_all = pd.read_excel('../ar_reports_manual_sql_export/star_manufacturing_ar.xlsx')"
   ]
  },
  {
   "cell_type": "code",
   "execution_count": null,
   "metadata": {},
   "outputs": [],
   "source": [
    "df_all"
   ]
  },
  {
   "cell_type": "code",
   "execution_count": null,
   "metadata": {},
   "outputs": [],
   "source": [
    "df_all['name_legal_clean'] = df_all['ar_account']"
   ]
  },
  {
   "cell_type": "code",
   "execution_count": null,
   "metadata": {},
   "outputs": [],
   "source": [
    "pd.set_option('mode.chained_assignment', None)\n",
    "\n",
    "df_all['name_legal_clean'] = df_all['name_legal_clean'].str.lower() \n",
    "df_all['name_legal_clean'] = df_all['name_legal_clean'].str.replace(r\"\\b, inc.\\b\", \"\")\n",
    "df_all['name_legal_clean'] = df_all['name_legal_clean'].str.replace(r\"\\binc.\\b\", \"\")\n",
    "df_all['name_legal_clean'] = df_all['name_legal_clean'].str.replace(r\"\\binc\\b\", \"\")\n",
    "df_all['name_legal_clean'] = df_all['name_legal_clean'].str.replace(r\"\\b, llc.\\b\", \"\") \n",
    "df_all['name_legal_clean'] = df_all['name_legal_clean'].str.replace(r\"\\b, llc\\b\", \"\")\n",
    "df_all['name_legal_clean'] = df_all['name_legal_clean'].str.replace(r\"\\b, l.l.c.\\b\", \"\") \n",
    "df_all['name_legal_clean'] = df_all['name_legal_clean'].str.replace(r\"\\bllc\\b\", \"\")\n",
    "df_all['name_legal_clean'] = df_all['name_legal_clean'].str.replace(r\"\\bcorp.\\b\", \"\")\n",
    "df_all['name_legal_clean'] = df_all['name_legal_clean'].str.replace(r\"\\bcorp\\b\", \"\")\n",
    "df_all['name_legal_clean'] = df_all['name_legal_clean'].str.replace(r\"\\bcorporation\\b\", \"\")\n",
    "df_all['name_legal_clean'] = df_all['name_legal_clean'].str.replace(r\"\\bco.\\b\", \"\")\n",
    "df_all['name_legal_clean'] = df_all['name_legal_clean'].str.replace(r\"\\bco\\b\", \"\")\n",
    "df_all['name_legal_clean'] = df_all['name_legal_clean'].str.replace(\",\", \"\")\n",
    "df_all['name_legal_clean'] = df_all['name_legal_clean'].str.replace(\".\", \"\")\n",
    "df_all['name_legal_clean'] = df_all['name_legal_clean'].str.replace(\"'\", \"\")\n",
    "df_all['name_legal_clean'] = df_all['name_legal_clean'].str.strip()"
   ]
  },
  {
   "cell_type": "code",
   "execution_count": null,
   "metadata": {},
   "outputs": [],
   "source": [
    "df_all.to_excel('../ar_reports_manual_sql_export/star_manufacturing_ar_edited.xlsx', index=False)"
   ]
  },
  {
   "cell_type": "code",
   "execution_count": null,
   "metadata": {},
   "outputs": [],
   "source": []
  }
 ],
 "metadata": {
  "kernelspec": {
   "display_name": "Python 3",
   "language": "python",
   "name": "python3"
  },
  "language_info": {
   "codemirror_mode": {
    "name": "ipython",
    "version": 3
   },
   "file_extension": ".py",
   "mimetype": "text/x-python",
   "name": "python",
   "nbconvert_exporter": "python",
   "pygments_lexer": "ipython3",
   "version": "3.7.3"
  }
 },
 "nbformat": 4,
 "nbformat_minor": 2
}
