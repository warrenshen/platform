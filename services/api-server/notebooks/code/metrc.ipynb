{
 "cells": [
  {
   "cell_type": "code",
   "execution_count": null,
   "metadata": {},
   "outputs": [],
   "source": [
    "import pandas as pd\n",
    "from datetime import date\n",
    "from functools import reduce"
   ]
  },
  {
   "cell_type": "code",
   "execution_count": null,
   "metadata": {},
   "outputs": [],
   "source": [
    "# df = pd.read_csv('../metrc/Med for America transfers.csv')"
   ]
  },
  {
   "cell_type": "code",
   "execution_count": null,
   "metadata": {},
   "outputs": [],
   "source": [
    "df = pd.read_excel('../metrc/Med for America 10.31.2020.xlsx')"
   ]
  },
  {
   "cell_type": "code",
   "execution_count": null,
   "metadata": {},
   "outputs": [],
   "source": [
    "df.info()"
   ]
  },
  {
   "cell_type": "code",
   "execution_count": null,
   "metadata": {},
   "outputs": [],
   "source": [
    "df['Item'] = df['Item'].str.lower()"
   ]
  },
  {
   "cell_type": "code",
   "execution_count": null,
   "metadata": {},
   "outputs": [],
   "source": [
    "df['Created Adj'] = pd.to_datetime(df['Created Adj'], format= '%m/%d/%Y')"
   ]
  },
  {
   "cell_type": "code",
   "execution_count": null,
   "metadata": {},
   "outputs": [],
   "source": [
    "df_fill = df[~df['Shipper Dollar Amount'].isnull()]"
   ]
  },
  {
   "cell_type": "code",
   "execution_count": null,
   "metadata": {},
   "outputs": [],
   "source": [
    "len(df_fill)"
   ]
  },
  {
   "cell_type": "code",
   "execution_count": null,
   "metadata": {},
   "outputs": [],
   "source": [
    "df_fill_ovr_2 = df_fill[df_fill['Per Unit of Measure'] > 2]"
   ]
  },
  {
   "cell_type": "code",
   "execution_count": null,
   "metadata": {},
   "outputs": [],
   "source": [
    "len(df_fill_ovr_2)"
   ]
  },
  {
   "cell_type": "code",
   "execution_count": null,
   "metadata": {},
   "outputs": [],
   "source": [
    "df_fill_ovr_2['Created Adj'].unique()"
   ]
  },
  {
   "cell_type": "code",
   "execution_count": null,
   "metadata": {},
   "outputs": [],
   "source": [
    "df_rct = df_fill_ovr_2[df_fill_ovr_2['Created Adj'] == pd.Timestamp(date(2020, 10, 1))]\n",
    "len(df_rct)"
   ]
  },
  {
   "cell_type": "code",
   "execution_count": null,
   "metadata": {},
   "outputs": [],
   "source": [
    "list_mean = df_rct.groupby(by='Item')['Per Unit of Measure'].mean()\n",
    "list_mean.rename(\"mean_2020_07_01\", inplace=True)\n",
    "len(list_mean)"
   ]
  },
  {
   "cell_type": "code",
   "execution_count": null,
   "metadata": {},
   "outputs": [],
   "source": [
    "# list_mean_2 = df_rct.groupby(by='Item')['Per Unit of Measure'].mean()\n",
    "# list_mean_2.rename(\"mean_2020_08_01\", inplace=True)\n",
    "# len(list_mean_2)\n",
    "# list_mean_3 = df_rct.groupby(by='Item')['Per Unit of Measure'].mean()\n",
    "# list_mean_3.rename(\"mean_2020_09_01\", inplace=True)\n",
    "# len(list_mean_3)\n",
    "# list_mean_4 = df_rct.groupby(by='Item')['Per Unit of Measure'].mean()\n",
    "# list_mean_4.rename(\"mean_2020_10_01\", inplace=True)\n",
    "# len(list_mean_4)\n",
    "# list_mean_5 = df_fill_ovr_2.groupby(by='Item')['Per Unit of Measure'].mean()\n",
    "# list_mean_5.rename(\"mean_overall\", inplace=True)\n",
    "# len(list_mean_5)"
   ]
  },
  {
   "cell_type": "code",
   "execution_count": null,
   "metadata": {},
   "outputs": [],
   "source": []
  },
  {
   "cell_type": "code",
   "execution_count": null,
   "metadata": {},
   "outputs": [],
   "source": []
  },
  {
   "cell_type": "code",
   "execution_count": null,
   "metadata": {},
   "outputs": [],
   "source": []
  },
  {
   "cell_type": "code",
   "execution_count": null,
   "metadata": {},
   "outputs": [],
   "source": []
  },
  {
   "cell_type": "code",
   "execution_count": null,
   "metadata": {},
   "outputs": [],
   "source": [
    "data_frames = [list_mean, list_mean_2, list_mean_3, list_mean_4, list_mean_5]"
   ]
  },
  {
   "cell_type": "code",
   "execution_count": null,
   "metadata": {},
   "outputs": [],
   "source": [
    "df_sums = reduce(lambda left,right: pd.merge(left,right,on=['Item'], how='outer'), data_frames)\n",
    "df_sums.head(2)"
   ]
  },
  {
   "cell_type": "code",
   "execution_count": null,
   "metadata": {},
   "outputs": [],
   "source": [
    "len(df_sums)"
   ]
  },
  {
   "cell_type": "code",
   "execution_count": null,
   "metadata": {},
   "outputs": [],
   "source": [
    "df_sums.info()"
   ]
  },
  {
   "cell_type": "code",
   "execution_count": null,
   "metadata": {},
   "outputs": [],
   "source": [
    "91+71"
   ]
  },
  {
   "cell_type": "code",
   "execution_count": null,
   "metadata": {},
   "outputs": [],
   "source": [
    "df_all = df_all.merge(df_sums, on='Item', how='left')"
   ]
  },
  {
   "cell_type": "code",
   "execution_count": null,
   "metadata": {},
   "outputs": [],
   "source": [
    "df_all.info()"
   ]
  },
  {
   "cell_type": "code",
   "execution_count": null,
   "metadata": {},
   "outputs": [],
   "source": [
    "df_sums.to_csv('../metrc/Dreamfields_price_summary_10_31_20.csv')"
   ]
  },
  {
   "cell_type": "code",
   "execution_count": null,
   "metadata": {},
   "outputs": [],
   "source": [
    "# df_all = df_sums"
   ]
  },
  {
   "cell_type": "code",
   "execution_count": null,
   "metadata": {},
   "outputs": [],
   "source": [
    "# df_sums.rename(columns={\"mean\": \"overall_mean\", \"min\": \"overall_min\", \"max\": \"overall_max\"}, inplace=True)\n",
    "\n",
    "# list_min.rename(\"min_2020_06_01\", inplace=True)\n",
    "# list_max.rename(\"max_2020_06_01\", inplace=True)\n",
    "\n",
    "# list_min = df_rct.groupby(by='Item')['Per Unit of Measure'].min()\n",
    "# list_max = df_rct.groupby(by='Item')['Per Unit of Measure'].max()"
   ]
  }
 ],
 "metadata": {
  "kernelspec": {
   "display_name": "Python 3",
   "language": "python",
   "name": "python3"
  },
  "language_info": {
   "codemirror_mode": {
    "name": "ipython",
    "version": 3
   },
   "file_extension": ".py",
   "mimetype": "text/x-python",
   "name": "python",
   "nbconvert_exporter": "python",
   "pygments_lexer": "ipython3",
   "version": "3.7.3"
  }
 },
 "nbformat": 4,
 "nbformat_minor": 2
}
