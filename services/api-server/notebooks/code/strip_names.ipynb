{
 "cells": [
  {
   "cell_type": "code",
   "execution_count": null,
   "metadata": {},
   "outputs": [],
   "source": [
    "import pandas as pd\n",
    "import pyodbc\n",
    "from pathlib import Path\n",
    "from sqlalchemy import create_engine\n",
    "import numpy as np\n",
    "import urllib"
   ]
  },
  {
   "cell_type": "code",
   "execution_count": null,
   "metadata": {},
   "outputs": [],
   "source": [
    "df = pd.read_csv('../ar_reports/Vendor Payor List.csv')"
   ]
  },
  {
   "cell_type": "code",
   "execution_count": null,
   "metadata": {},
   "outputs": [],
   "source": [
    "df.rename(columns={'Company Name':'contract_name', 'DBA':'DBA_1', 'DBA.1':'DBA_2'}, inplace=True)"
   ]
  },
  {
   "cell_type": "code",
   "execution_count": null,
   "metadata": {},
   "outputs": [],
   "source": [
    "df.head(1)"
   ]
  },
  {
   "cell_type": "code",
   "execution_count": null,
   "metadata": {},
   "outputs": [],
   "source": [
    "df['contract_name'] = df['contract_name'].str.lower() \n",
    "df['contract_name'] = df['contract_name'].str.replace(r\"\\b, inc.\\b\", \"\")\n",
    "df['contract_name'] = df['contract_name'].str.replace(r\"\\binc.\\b\", \"\")\n",
    "df['contract_name'] = df['contract_name'].str.replace(r\"\\binc\\b\", \"\")\n",
    "df['contract_name'] = df['contract_name'].str.replace(r\"\\b, llc.\\b\", \"\") \n",
    "df['contract_name'] = df['contract_name'].str.replace(r\"\\b, llc\\b\", \"\")\n",
    "df['contract_name'] = df['contract_name'].str.replace(r\"\\b ltd\\b\", \"\")\n",
    "df['contract_name'] = df['contract_name'].str.replace(r\"\\b, ltd.\\b\", \"\")\n",
    "df['contract_name'] = df['contract_name'].str.replace(r\"\\b, l.l.c.\\b\", \"\") \n",
    "df['contract_name'] = df['contract_name'].str.replace(r\"\\bllc\\b\", \"\")\n",
    "df['contract_name'] = df['contract_name'].str.replace(r\"\\bcorp.\\b\", \"\")\n",
    "df['contract_name'] = df['contract_name'].str.replace(r\"\\bcorp\\b\", \"\")\n",
    "df['contract_name'] = df['contract_name'].str.replace(r\"\\bcorporation\\b\", \"\")\n",
    "df['contract_name'] = df['contract_name'].str.replace(r\"\\bco.\\b\", \"\")\n",
    "df['contract_name'] = df['contract_name'].str.replace(r\"\\bco\\b\", \"\")\n",
    "df['contract_name'] = df['contract_name'].str.replace(\",\", \"\")\n",
    "df['contract_name'] = df['contract_name'].str.replace(\".\", \"\")\n",
    "df['contract_name'] = df['contract_name'].str.replace(\"'\", \"\")\n",
    "df['contract_name'] = df['contract_name'].str.strip()"
   ]
  },
  {
   "cell_type": "code",
   "execution_count": null,
   "metadata": {},
   "outputs": [],
   "source": [
    "df['DBA_1'] = df['DBA_1'].str.lower() \n",
    "df['DBA_1'] = df['DBA_1'].str.replace(r\"\\b, inc.\\b\", \"\")\n",
    "df['DBA_1'] = df['DBA_1'].str.replace(r\"\\binc.\\b\", \"\")\n",
    "df['DBA_1'] = df['DBA_1'].str.replace(r\"\\binc\\b\", \"\")\n",
    "df['DBA_1'] = df['DBA_1'].str.replace(r\"\\b, llc.\\b\", \"\") \n",
    "df['DBA_1'] = df['DBA_1'].str.replace(r\"\\b, llc\\b\", \"\")\n",
    "df['DBA_1'] = df['DBA_1'].str.replace(r\"\\b ltd\\b\", \"\")\n",
    "df['DBA_1'] = df['DBA_1'].str.replace(r\"\\b, l.l.c.\\b\", \"\") \n",
    "df['DBA_1'] = df['DBA_1'].str.replace(r\"\\bllc\\b\", \"\")\n",
    "df['DBA_1'] = df['DBA_1'].str.replace(r\"\\bcorp.\\b\", \"\")\n",
    "df['DBA_1'] = df['DBA_1'].str.replace(r\"\\bcorp\\b\", \"\")\n",
    "df['DBA_1'] = df['DBA_1'].str.replace(r\"\\bcorporation\\b\", \"\")\n",
    "df['DBA_1'] = df['DBA_1'].str.replace(r\"\\bco.\\b\", \"\")\n",
    "df['DBA_1'] = df['DBA_1'].str.replace(r\"\\bco\\b\", \"\")\n",
    "df['DBA_1'] = df['DBA_1'].str.replace(\",\", \"\")\n",
    "df['DBA_1'] = df['DBA_1'].str.replace(\".\", \"\")\n",
    "df['DBA_1'] = df['DBA_1'].str.replace(\"'\", \"\")\n",
    "df['DBA_1'] = df['DBA_1'].str.strip()"
   ]
  },
  {
   "cell_type": "code",
   "execution_count": null,
   "metadata": {},
   "outputs": [],
   "source": [
    "df['DBA_2'] = df['DBA_2'].str.lower() \n",
    "df['DBA_2'] = df['DBA_2'].str.replace(r\"\\b, inc.\\b\", \"\")\n",
    "df['DBA_2'] = df['DBA_2'].str.replace(r\"\\binc.\\b\", \"\")\n",
    "df['DBA_2'] = df['DBA_2'].str.replace(r\"\\binc\\b\", \"\")\n",
    "df['DBA_2'] = df['DBA_2'].str.replace(r\"\\b, llc.\\b\", \"\") \n",
    "df['DBA_2'] = df['DBA_2'].str.replace(r\"\\b, llc\\b\", \"\")\n",
    "df['DBA_2'] = df['DBA_2'].str.replace(r\"\\b ltd\\b\", \"\")\n",
    "df['DBA_2'] = df['DBA_2'].str.replace(r\"\\b, l.l.c.\\b\", \"\") \n",
    "df['DBA_2'] = df['DBA_2'].str.replace(r\"\\bllc\\b\", \"\")\n",
    "df['DBA_2'] = df['DBA_2'].str.replace(r\"\\bcorp.\\b\", \"\")\n",
    "df['DBA_2'] = df['DBA_2'].str.replace(r\"\\bcorp\\b\", \"\")\n",
    "df['DBA_2'] = df['DBA_2'].str.replace(r\"\\bcorporation\\b\", \"\")\n",
    "df['DBA_2'] = df['DBA_2'].str.replace(r\"\\bco.\\b\", \"\")\n",
    "df['DBA_2'] = df['DBA_2'].str.replace(r\"\\bco\\b\", \"\")\n",
    "df['DBA_2'] = df['DBA_2'].str.replace(\",\", \"\")\n",
    "df['DBA_2'] = df['DBA_2'].str.replace(\".\", \"\")\n",
    "df['DBA_2'] = df['DBA_2'].str.replace(\"'\", \"\")\n",
    "df['DBA_2'] = df['DBA_2'].str.strip()"
   ]
  },
  {
   "cell_type": "code",
   "execution_count": null,
   "metadata": {},
   "outputs": [],
   "source": [
    "df['contract_name'] = df['contract_name'].str.title()\n",
    "df['DBA_1'] = df['DBA_1'].str.title()\n",
    "df['DBA_2'] = df['DBA_2'].str.title()"
   ]
  },
  {
   "cell_type": "code",
   "execution_count": null,
   "metadata": {},
   "outputs": [],
   "source": [
    "df.to_csv('../ar_reports/vendor_payor.csv')"
   ]
  },
  {
   "cell_type": "code",
   "execution_count": null,
   "metadata": {},
   "outputs": [],
   "source": []
  }
 ],
 "metadata": {
  "kernelspec": {
   "display_name": "Python 3",
   "language": "python",
   "name": "python3"
  },
  "language_info": {
   "codemirror_mode": {
    "name": "ipython",
    "version": 3
   },
   "file_extension": ".py",
   "mimetype": "text/x-python",
   "name": "python",
   "nbconvert_exporter": "python",
   "pygments_lexer": "ipython3",
   "version": "3.7.3"
  }
 },
 "nbformat": 4,
 "nbformat_minor": 2
}
