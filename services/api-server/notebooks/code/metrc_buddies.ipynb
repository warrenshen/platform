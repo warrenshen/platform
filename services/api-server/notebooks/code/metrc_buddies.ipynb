{
 "cells": [
  {
   "cell_type": "code",
   "execution_count": null,
   "metadata": {},
   "outputs": [],
   "source": [
    "import pandas as pd\n",
    "from datetime import date\n",
    "from functools import reduce"
   ]
  },
  {
   "cell_type": "code",
   "execution_count": null,
   "metadata": {},
   "outputs": [],
   "source": [
    "# df = pd.read_csv('../metrc/Buddies Transfers August 2020 1 year.csv')\n",
    "\n",
    "df = pd.read_csv('../metrc/WholesaleTransfers_GO_12.30.19_6.27.20.csv')"
   ]
  },
  {
   "cell_type": "code",
   "execution_count": null,
   "metadata": {},
   "outputs": [],
   "source": [
    "df.info()"
   ]
  },
  {
   "cell_type": "code",
   "execution_count": null,
   "metadata": {},
   "outputs": [],
   "source": [
    "df['Item'] = df['Item'].str.lower()"
   ]
  },
  {
   "cell_type": "code",
   "execution_count": null,
   "metadata": {},
   "outputs": [],
   "source": [
    "df['Created Adj'] = pd.to_datetime(df['Created Adj'], format= '%m/%d/%Y')"
   ]
  },
  {
   "cell_type": "code",
   "execution_count": null,
   "metadata": {},
   "outputs": [],
   "source": [
    "df_fill = df[~df['Shipper Dollar Amount'].isnull()]"
   ]
  },
  {
   "cell_type": "code",
   "execution_count": null,
   "metadata": {},
   "outputs": [],
   "source": [
    "df_fill_ovr_2 = df_fill[df_fill['Per Unit of Measure'] > 2]"
   ]
  },
  {
   "cell_type": "code",
   "execution_count": null,
   "metadata": {},
   "outputs": [],
   "source": [
    "list_mean = df_fill_ovr_2.groupby(by='Item')['Per Unit of Measure'].mean()\n",
    "list_min = df_fill_ovr_2.groupby(by='Item')['Per Unit of Measure'].min()\n",
    "list_max = df_fill_ovr_2.groupby(by='Item')['Per Unit of Measure'].max()"
   ]
  },
  {
   "cell_type": "code",
   "execution_count": null,
   "metadata": {},
   "outputs": [],
   "source": [
    "list_mean.rename(\"mean\", inplace=True)\n",
    "list_min.rename(\"min\", inplace=True)\n",
    "list_max.rename(\"max\", inplace=True)\n",
    "len(list_mean)"
   ]
  },
  {
   "cell_type": "code",
   "execution_count": null,
   "metadata": {},
   "outputs": [],
   "source": [
    "data_frames = [list_mean, list_min, list_max]"
   ]
  },
  {
   "cell_type": "code",
   "execution_count": null,
   "metadata": {},
   "outputs": [],
   "source": [
    "df_rct_sums = reduce(lambda left,right: pd.merge(left,right,on=['Item'], how='outer'), data_frames)"
   ]
  },
  {
   "cell_type": "code",
   "execution_count": null,
   "metadata": {},
   "outputs": [],
   "source": [
    "df_rct_sums.to_csv('../metrc/python_export/df_all.csv', index=True)"
   ]
  },
  {
   "cell_type": "code",
   "execution_count": null,
   "metadata": {},
   "outputs": [],
   "source": [
    "df_fill['Created Adj'].unique()"
   ]
  },
  {
   "cell_type": "code",
   "execution_count": null,
   "metadata": {},
   "outputs": [],
   "source": [
    "len(df_rct)\n",
    "len(df_rct_ovr_2)\n",
    "# df_2019_10.groupby(by='Item')['Per Unit of Measure'].value_counts()"
   ]
  },
  {
   "cell_type": "code",
   "execution_count": null,
   "metadata": {},
   "outputs": [],
   "source": [
    "df_rct = df_fill[df_fill['Created Adj'] == pd.Timestamp(date(2020, 7, 1))]"
   ]
  },
  {
   "cell_type": "code",
   "execution_count": null,
   "metadata": {},
   "outputs": [],
   "source": [
    "df_rct_ovr_2 = df_rct[df_rct['Per Unit of Measure'] > 2]"
   ]
  },
  {
   "cell_type": "code",
   "execution_count": null,
   "metadata": {},
   "outputs": [],
   "source": [
    "list_mean = df_rct_ovr_2.groupby(by='Item')['Per Unit of Measure'].mean()\n",
    "list_min = df_rct_ovr_2.groupby(by='Item')['Per Unit of Measure'].min()\n",
    "list_max = df_rct_ovr_2.groupby(by='Item')['Per Unit of Measure'].max()"
   ]
  },
  {
   "cell_type": "code",
   "execution_count": null,
   "metadata": {},
   "outputs": [],
   "source": [
    "list_mean.rename(\"mean\", inplace=True)\n",
    "list_min.rename(\"min\", inplace=True)\n",
    "list_max.rename(\"max\", inplace=True)\n",
    "len(list_mean)"
   ]
  },
  {
   "cell_type": "code",
   "execution_count": null,
   "metadata": {},
   "outputs": [],
   "source": [
    "data_frames = [list_mean, list_min, list_max]"
   ]
  },
  {
   "cell_type": "code",
   "execution_count": null,
   "metadata": {},
   "outputs": [],
   "source": [
    "df_rct_sums = reduce(lambda left,right: pd.merge(left,right,on=['Item'], how='outer'), data_frames)"
   ]
  },
  {
   "cell_type": "code",
   "execution_count": null,
   "metadata": {},
   "outputs": [],
   "source": [
    "df_rct_sums.to_csv('../metrc/python_export/df_2020_07.csv', index=True)"
   ]
  },
  {
   "cell_type": "code",
   "execution_count": null,
   "metadata": {},
   "outputs": [],
   "source": [
    "df_rct_sums"
   ]
  },
  {
   "cell_type": "code",
   "execution_count": null,
   "metadata": {},
   "outputs": [],
   "source": [
    "from pathlib import Path"
   ]
  },
  {
   "cell_type": "code",
   "execution_count": null,
   "metadata": {},
   "outputs": [],
   "source": [
    "filenames = Path('../metrc/python_export').glob('*.csv')"
   ]
  },
  {
   "cell_type": "code",
   "execution_count": null,
   "metadata": {},
   "outputs": [],
   "source": [
    "filenames"
   ]
  },
  {
   "cell_type": "code",
   "execution_count": null,
   "metadata": {},
   "outputs": [],
   "source": [
    "list_of_dfs = [pd.read_csv(file) for file in filenames]"
   ]
  },
  {
   "cell_type": "code",
   "execution_count": null,
   "metadata": {},
   "outputs": [],
   "source": [
    "list_of_dfs"
   ]
  },
  {
   "cell_type": "code",
   "execution_count": null,
   "metadata": {},
   "outputs": [],
   "source": [
    "# df_new = pd.read_csv('../metrc/python_export/df_2020_06.csv')"
   ]
  },
  {
   "cell_type": "code",
   "execution_count": null,
   "metadata": {},
   "outputs": [],
   "source": [
    "# df_new"
   ]
  },
  {
   "cell_type": "code",
   "execution_count": null,
   "metadata": {},
   "outputs": [],
   "source": [
    "for dataframe, file in zip(list_of_dfs, filenames):\n",
    "    Dataframe['file'] = file\n",
    "df_file = pd.concat(list_of_dfs, ignore_index=True, sort=False)"
   ]
  },
  {
   "cell_type": "code",
   "execution_count": null,
   "metadata": {},
   "outputs": [],
   "source": [
    "df_file"
   ]
  },
  {
   "cell_type": "code",
   "execution_count": null,
   "metadata": {},
   "outputs": [],
   "source": [
    "df_groupby = df_file.groupby(by='Item').mean()"
   ]
  },
  {
   "cell_type": "code",
   "execution_count": null,
   "metadata": {},
   "outputs": [],
   "source": [
    "df_groupby.to_csv('../metrc/python_export/df_list_items_v2.csv', index=True)"
   ]
  },
  {
   "cell_type": "code",
   "execution_count": null,
   "metadata": {},
   "outputs": [],
   "source": [
    "df_unique = pd.read_csv('../metrc/python_export/unique_names.csv')"
   ]
  },
  {
   "cell_type": "code",
   "execution_count": null,
   "metadata": {},
   "outputs": [],
   "source": [
    "df_unique.rename(columns={'item': 'Item'}, inplace=True)"
   ]
  },
  {
   "cell_type": "code",
   "execution_count": null,
   "metadata": {},
   "outputs": [],
   "source": [
    "df_2019_10 = pd.read_csv('../metrc/python_export/df_2019_10.csv')"
   ]
  },
  {
   "cell_type": "code",
   "execution_count": null,
   "metadata": {},
   "outputs": [],
   "source": [
    "df_2019_11 = pd.read_csv('../metrc/python_export/df_2019_11.csv')"
   ]
  },
  {
   "cell_type": "code",
   "execution_count": null,
   "metadata": {},
   "outputs": [],
   "source": [
    "df_2019_12 = pd.read_csv('../metrc/python_export/df_2019_12.csv')"
   ]
  },
  {
   "cell_type": "code",
   "execution_count": null,
   "metadata": {},
   "outputs": [],
   "source": [
    "df_2020_01 = pd.read_csv('../metrc/python_export/df_2020_01.csv')"
   ]
  },
  {
   "cell_type": "code",
   "execution_count": null,
   "metadata": {},
   "outputs": [],
   "source": [
    "df_2020_02 = pd.read_csv('../metrc/python_export/df_2020_02.csv')"
   ]
  },
  {
   "cell_type": "code",
   "execution_count": null,
   "metadata": {},
   "outputs": [],
   "source": [
    "df_2020_03 = pd.read_csv('../metrc/python_export/df_2020_03.csv')"
   ]
  },
  {
   "cell_type": "code",
   "execution_count": null,
   "metadata": {},
   "outputs": [],
   "source": [
    "df_2020_04 = pd.read_csv('../metrc/python_export/df_2020_04.csv')"
   ]
  },
  {
   "cell_type": "code",
   "execution_count": null,
   "metadata": {},
   "outputs": [],
   "source": [
    "df_2020_05 = pd.read_csv('../metrc/python_export/df_2020_05.csv')"
   ]
  },
  {
   "cell_type": "code",
   "execution_count": null,
   "metadata": {},
   "outputs": [],
   "source": [
    "df_2020_06 = pd.read_csv('../metrc/python_export/df_2020_06.csv')"
   ]
  },
  {
   "cell_type": "code",
   "execution_count": null,
   "metadata": {},
   "outputs": [],
   "source": [
    "df_2020_07 = pd.read_csv('../metrc/python_export/df_2020_07.csv')"
   ]
  },
  {
   "cell_type": "code",
   "execution_count": null,
   "metadata": {},
   "outputs": [],
   "source": [
    "df_2019_10.drop(columns='date', inplace=True)\n",
    "df_2019_11.drop(columns='date', inplace=True)\n",
    "df_2019_12.drop(columns='date', inplace=True)\n",
    "df_2020_01.drop(columns='date', inplace=True)\n",
    "df_2020_02.drop(columns='date', inplace=True)\n",
    "df_2020_03.drop(columns='date', inplace=True)\n",
    "df_2020_04.drop(columns='date', inplace=True)\n",
    "df_2020_05.drop(columns='date', inplace=True)\n",
    "df_2020_06.drop(columns='date', inplace=True)\n",
    "df_2020_07.drop(columns='date', inplace=True)"
   ]
  },
  {
   "cell_type": "code",
   "execution_count": null,
   "metadata": {},
   "outputs": [],
   "source": [
    "# df_2019_10.rename(columns={'mean': '2019_10_mean', 'min': '2019_10_min', 'max': '2019_10_max' }, inplace=True)\n",
    "# df_2019_10.drop(columns='date', inplace=True)"
   ]
  },
  {
   "cell_type": "code",
   "execution_count": null,
   "metadata": {},
   "outputs": [],
   "source": [
    "# df_2019_11.rename(columns={'mean': '2019_11_mean', 'min': '2019_11_min', 'max': '2019_11_max' }, inplace=True)\n",
    "# df_2019_11.drop(columns='date', inplace=True)"
   ]
  },
  {
   "cell_type": "code",
   "execution_count": null,
   "metadata": {},
   "outputs": [],
   "source": [
    "df_all = df_unique.merge(df_2019_10, on='Item', how='left')"
   ]
  },
  {
   "cell_type": "code",
   "execution_count": null,
   "metadata": {},
   "outputs": [],
   "source": [
    "df_all = df_all.merge(df_2019_11, on='Item', how='left', suffixes=('_2019_10', '_2019_11'))"
   ]
  },
  {
   "cell_type": "code",
   "execution_count": null,
   "metadata": {},
   "outputs": [],
   "source": [
    "df_all = df_all.merge(df_2019_12, on='Item', how='left')"
   ]
  },
  {
   "cell_type": "code",
   "execution_count": null,
   "metadata": {},
   "outputs": [],
   "source": [
    "df_all = df_all.merge(df_2020_01, on='Item', how='left', suffixes=('_2019_12', '_2020_01'))"
   ]
  },
  {
   "cell_type": "code",
   "execution_count": null,
   "metadata": {},
   "outputs": [],
   "source": [
    "df_all = df_all.merge(df_2020_02, on='Item', how='left')"
   ]
  },
  {
   "cell_type": "code",
   "execution_count": null,
   "metadata": {},
   "outputs": [],
   "source": [
    "df_all = df_all.merge(df_2020_03, on='Item', how='left', suffixes=('_2020_02', '_2020_03'))"
   ]
  },
  {
   "cell_type": "code",
   "execution_count": null,
   "metadata": {},
   "outputs": [],
   "source": [
    "df_all = df_all.merge(df_2020_04, on='Item', how='left')"
   ]
  },
  {
   "cell_type": "code",
   "execution_count": null,
   "metadata": {},
   "outputs": [],
   "source": [
    "df_all = df_all.merge(df_2020_05, on='Item', how='left', suffixes=('_2020_04', '_2020_05'))"
   ]
  },
  {
   "cell_type": "code",
   "execution_count": null,
   "metadata": {},
   "outputs": [],
   "source": [
    "df_all = df_all.merge(df_2020_06, on='Item', how='left')"
   ]
  },
  {
   "cell_type": "code",
   "execution_count": null,
   "metadata": {},
   "outputs": [],
   "source": [
    "df_all = df_all.merge(df_2020_07, on='Item', how='left', suffixes=('_2020_06', '_2020_07'))"
   ]
  },
  {
   "cell_type": "code",
   "execution_count": null,
   "metadata": {},
   "outputs": [],
   "source": [
    "df_all_mo = pd.read_csv('../metrc/python_export/df_all.csv')"
   ]
  },
  {
   "cell_type": "code",
   "execution_count": null,
   "metadata": {},
   "outputs": [],
   "source": [
    "df_all = df_all.merge(df_all_mo, on='Item', how='left')"
   ]
  },
  {
   "cell_type": "code",
   "execution_count": null,
   "metadata": {},
   "outputs": [],
   "source": [
    "df_all.rename(columns={'mean':'mean_all', 'min': 'min_all', 'max': 'max_all'}, inplace=True)"
   ]
  },
  {
   "cell_type": "code",
   "execution_count": null,
   "metadata": {},
   "outputs": [],
   "source": [
    "df_all.to_csv('../metrc/python_export/df_combined.csv', index=False)"
   ]
  },
  {
   "cell_type": "markdown",
   "metadata": {},
   "source": [
    "## Notes"
   ]
  },
  {
   "cell_type": "code",
   "execution_count": null,
   "metadata": {},
   "outputs": [],
   "source": [
    "# df_all['name_legal_clean'].str.replace(r\"\\b, inc.\\b\", \"\")\n",
    "\n",
    "# df_fill['Created'].str.replace(r\"\\b+\\b\",\"\")"
   ]
  }
 ],
 "metadata": {
  "kernelspec": {
   "display_name": "Python 3",
   "language": "python",
   "name": "python3"
  },
  "language_info": {
   "codemirror_mode": {
    "name": "ipython",
    "version": 3
   },
   "file_extension": ".py",
   "mimetype": "text/x-python",
   "name": "python",
   "nbconvert_exporter": "python",
   "pygments_lexer": "ipython3",
   "version": "3.7.3"
  }
 },
 "nbformat": 4,
 "nbformat_minor": 2
}
