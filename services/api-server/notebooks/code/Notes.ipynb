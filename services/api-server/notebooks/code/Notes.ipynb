{
 "cells": [
  {
   "cell_type": "markdown",
   "metadata": {},
   "source": [
    "# Notes clean_combine"
   ]
  },
  {
   "cell_type": "code",
   "execution_count": null,
   "metadata": {},
   "outputs": [],
   "source": [
    "# pd.merge(company_nan, df_roll_name_only, left_on='name_legal_clean', \n",
    "#          right_on='company_roll_up', how='left', suffixes=('', '_y'))"
   ]
  },
  {
   "cell_type": "code",
   "execution_count": null,
   "metadata": {},
   "outputs": [],
   "source": [
    "# combine on roll up id\n",
    "# export to excel and fill out company name\n",
    "# combine from existing sql database\n",
    "# drop duplicates on main\n",
    "# alter items\n",
    "# add items\n",
    "# alter contact info on main from edited file\n",
    "# add contact info items\n",
    "# alter company roll up names\n",
    "# add items"
   ]
  },
  {
   "cell_type": "code",
   "execution_count": null,
   "metadata": {},
   "outputs": [],
   "source": [
    "#need to do this after bringing in table\n",
    "\n",
    "# df_roll = df_all[['license_number', 'roll_up_id', 'company_roll_up']]"
   ]
  },
  {
   "cell_type": "code",
   "execution_count": null,
   "metadata": {},
   "outputs": [],
   "source": [
    "# df_all['name_legal'] = df_all['name_legal'].str.lower()\n",
    "# df_all['name_legal'] = df_all['name_legal'].str.strip()"
   ]
  },
  {
   "cell_type": "code",
   "execution_count": null,
   "metadata": {},
   "outputs": [],
   "source": [
    "# df_main = df_all[['license_number','license_category','license_description','license_adult','license_medicinal',\n",
    "#                        'license_annual','license_provisional','name_legal','name_dba','date_issue','date_expiration',\n",
    "#                        'status_active','status_canceled','status_expired','status_revoked','status_surrendered',\n",
    "#                        'status_suspended','business_description','business_company_type','in_db']]"
   ]
  },
  {
   "cell_type": "code",
   "execution_count": null,
   "metadata": {},
   "outputs": [],
   "source": [
    "# df_main['name_legal'] = df_main['name_legal'].str.lower()\n",
    "# df_main['name_legal'] = df_main['name_legal'].str.strip()"
   ]
  },
  {
   "cell_type": "code",
   "execution_count": null,
   "metadata": {},
   "outputs": [],
   "source": [
    "# df_contact = df_all[['license_number','contact_email','contact_phone','contact_website','contact_owner_1','contact_owner_2'\n",
    "#                     ,'contact_owner_3','contact_owner_4','contact_owner_5','contact_owner_6','contact_owner_7','contact_street'\n",
    "#                     ,'contact_city','contact_county','contact_state','contact_zip']]"
   ]
  },
  {
   "cell_type": "code",
   "execution_count": null,
   "metadata": {},
   "outputs": [],
   "source": [
    "# cnxn = pyodbc.connect('Trusted_Connection=yes',\n",
    "#                       server = 'DESKTOP-KA6KCMH\\SQLEXPRESS', \n",
    "#                       driver = '{ODBC Driver 17 for SQL Server}',\n",
    "#                       database = 'ca_cannabis_v2'\n",
    "#                       )\n",
    "\n",
    "# sql_main = pd.read_sql(\"SELECT * FROM ca_main\", cnxn)"
   ]
  },
  {
   "cell_type": "code",
   "execution_count": null,
   "metadata": {},
   "outputs": [],
   "source": [
    "# sql_main = pd.read_sql(\"SELECT * FROM ca_main\", cnxn)"
   ]
  },
  {
   "cell_type": "code",
   "execution_count": null,
   "metadata": {},
   "outputs": [],
   "source": [
    "# cnn = pyodbc.connect('Trusted_Connection=yes',\n",
    "#                       server = 'DESKTOP-KA6KCMH\\SQLEXPRESS', \n",
    "#                       driver = '{ODBC Driver 17 for SQL Server}',\n",
    "#                       database = 'ca_cannabis_v1'\n",
    "#                       )"
   ]
  },
  {
   "cell_type": "code",
   "execution_count": null,
   "metadata": {},
   "outputs": [],
   "source": [
    "# df_main_comb = sql_main.append(df_main, ignore_index=True)"
   ]
  },
  {
   "cell_type": "code",
   "execution_count": null,
   "metadata": {},
   "outputs": [],
   "source": [
    "# df_all.drop(df_all[df_all['name_legal'].isnull()].index, inplace=True)\n",
    "# df_all.reset_index(drop=True, inplace=True)"
   ]
  },
  {
   "cell_type": "code",
   "execution_count": null,
   "metadata": {},
   "outputs": [],
   "source": [
    "# df_main_comb['name_legal'] = df_main_comb['name_legal'].str.strip()\n",
    "# df_main_comb['name_dba'] = df_main_comb['name_dba'].str.strip()"
   ]
  },
  {
   "cell_type": "code",
   "execution_count": null,
   "metadata": {},
   "outputs": [],
   "source": [
    "# df_main_comb.fillna(0, inplace=True)"
   ]
  },
  {
   "cell_type": "code",
   "execution_count": null,
   "metadata": {},
   "outputs": [],
   "source": [
    "# len(df_main_comb.drop_duplicates(subset=['license_number'], keep='last'))"
   ]
  },
  {
   "cell_type": "code",
   "execution_count": null,
   "metadata": {},
   "outputs": [],
   "source": [
    "# df_drop = df_main_comb.drop_duplicates(subset=['license_number', 'license_category', 'license_description',\n",
    "#        'license_adult', 'license_medicinal', 'license_annual',\n",
    "#        'license_provisional', 'name_legal', 'name_dba', 'date_issue',\n",
    "#        'date_expiration', 'status_active', 'status_canceled', 'status_expired',\n",
    "#        'status_revoked', 'status_surrendered', 'status_suspended',\n",
    "#        'business_description', 'business_company_type'], keep='first')"
   ]
  },
  {
   "cell_type": "code",
   "execution_count": null,
   "metadata": {},
   "outputs": [],
   "source": [
    "# df_drop = df_drop.drop_duplicates(subset='license_number', keep='last')"
   ]
  },
  {
   "cell_type": "code",
   "execution_count": null,
   "metadata": {},
   "outputs": [],
   "source": [
    "# df_drop.reset_index(drop=True, inplace=True)"
   ]
  },
  {
   "cell_type": "code",
   "execution_count": null,
   "metadata": {},
   "outputs": [],
   "source": [
    "# len(df_main_comb.drop_duplicates(subset=['license_number', 'license_category', 'license_description',\n",
    "#        'license_adult', 'license_medicinal', 'license_annual',\n",
    "#        'license_provisional', 'name_legal', 'name_dba', 'date_issue',\n",
    "#        'date_expiration', 'status_active', 'status_canceled', 'status_expired',\n",
    "#        'status_revoked', 'status_surrendered', 'status_suspended',\n",
    "#        'business_description', 'business_company_type'], keep='first'))"
   ]
  },
  {
   "cell_type": "code",
   "execution_count": null,
   "metadata": {},
   "outputs": [],
   "source": [
    "# df_check = df_main_comb.drop_duplicates(subset=['license_number', 'license_category', 'license_description',\n",
    "#        'license_adult', 'license_medicinal', 'license_annual',\n",
    "#        'license_provisional', 'name_legal', 'name_dba', 'date_issue',\n",
    "#        'date_expiration', 'status_active', 'status_canceled', 'status_expired',\n",
    "#        'status_revoked', 'status_surrendered', 'status_suspended',\n",
    "#        'business_description', 'business_company_type'], keep='first')"
   ]
  },
  {
   "cell_type": "code",
   "execution_count": null,
   "metadata": {},
   "outputs": [],
   "source": [
    "# df_main_comb[df_main_comb['license_number'] == 'CCL19-0001088']\n",
    "# df_main_comb.iloc[1799] == df_main_comb.iloc[20817]\n",
    "# sql_main[sql_main['license_number'] == 'CCL19-0001137']\n",
    "# sql_main.iloc[1799] == df_main.iloc[12261]\n",
    "# df_main[df_main['license_number'] == 'CCL19-0001137']\n",
    "# df_check['name_legal'].iloc[5096]\n",
    "# df_check.iloc[5096] == df_check.iloc[8602]"
   ]
  },
  {
   "cell_type": "code",
   "execution_count": null,
   "metadata": {},
   "outputs": [],
   "source": [
    "# df_main[df_main['license_number'].str.contains(\"Temp\")]\n",
    "# df_all.drop(df_all[df_all['license_number'].str.contains(\"TEMP\")].index, inplace=True)"
   ]
  },
  {
   "cell_type": "markdown",
   "metadata": {},
   "source": [
    "step 4: take new rows, use in combined database from all 3 tables. assign unique id. change any contact info or roll up info as needed.\n",
    "step 5: alter contact and roll up info via sql\n",
    "\n",
    "deletes rows where name_legal is nothing. but maybe if blank use owner name?\n",
    "\n",
    "also maybe i should delete all the owner names? can probably limit it to just the first 2?"
   ]
  },
  {
   "cell_type": "code",
   "execution_count": null,
   "metadata": {},
   "outputs": [],
   "source": [
    "# pd.to_datetime('today', format=%YY%mm%dd)\n",
    "# pd.to_datetime('today').strftime(\"%m/%d/%Y\")\n",
    "# pd.datetime(2020, 3, 12)"
   ]
  },
  {
   "cell_type": "code",
   "execution_count": null,
   "metadata": {},
   "outputs": [],
   "source": [
    "# for row in df.itertuples():\n",
    "#     print(row.A)\n",
    "#     print(row.Index)\n",
    "    \n",
    "# for row in df1_dum.itertuples():\n",
    "#     print(row.Index)\n",
    "\n",
    "# for i in df1_dum['Adult-Use'].itterrows():\n",
    "#     print(i)\n",
    "\n",
    "# cult_biz.drop(columns=['City - County', 'Owner Name'], inplace=True)"
   ]
  },
  {
   "cell_type": "code",
   "execution_count": null,
   "metadata": {},
   "outputs": [],
   "source": [
    "# if 'Adult-Use' not in df_adult.columns:\n",
    "#     df_adult['Adult-Use'] = 0\n",
    "# if 'Annual Adult-Use' not in df_adult.columns:\n",
    "#     df_adult['Annual Adult-Use'] = 0\n",
    "# if 'Provisional Adult-Use' not in df_adult.columns:\n",
    "#     df_adult['Provisional Adult-Use'] = 0\n",
    "# if 'Annual Medicinal' not in df_adult.columns:\n",
    "#     df_adult['Annual Medicinal'] = 0\n",
    "# if 'Provisional Medicinal' not in df_adult.columns:\n",
    "#     df_adult['Provisional Medicinal'] = 0"
   ]
  },
  {
   "cell_type": "code",
   "execution_count": null,
   "metadata": {},
   "outputs": [],
   "source": [
    "# cult_df[cult_df['Legal Business Name'] == \"\"]\n",
    "# cult_df.sort_values(by='Legal Business Name')"
   ]
  },
  {
   "cell_type": "code",
   "execution_count": null,
   "metadata": {},
   "outputs": [],
   "source": [
    "# cult_df[cult_df['license_number'] == 'TAL18-0009829']\n",
    "\n",
    "# df1_dum.drop(columns='status_about to expire', inplace=True)\n",
    "# df_file.drop(df_file[df_file['license_number'] == 'License Number'].index, inplace=True)"
   ]
  },
  {
   "cell_type": "code",
   "execution_count": null,
   "metadata": {},
   "outputs": [],
   "source": [
    "# df_address[1] = df_address[1].str.replace(\"County\", \"\")\n",
    "# df_address[0] = df_address[0].str.lower()\n",
    "# df_address[0] = df_address[0].str.strip()\n",
    "# df_address[1] = df_address[1].str.lower()\n",
    "# df_address[1] = df_address[1].str.strip()"
   ]
  },
  {
   "cell_type": "code",
   "execution_count": null,
   "metadata": {},
   "outputs": [],
   "source": [
    "# df_address = cult_df['city_county'].str.split(' - ', expand=True)\n",
    "# df_address.rename(columns={0: 'contact_city', 1: 'contact_county'}, inplace=True)\n",
    "# df_new_items = pd.concat([df_new_items, df_address], axis=1)\n",
    "# df_new_items.drop(columns=['city_county'], inplace=True)"
   ]
  },
  {
   "cell_type": "code",
   "execution_count": null,
   "metadata": {},
   "outputs": [],
   "source": [
    "# df_new_items.rename(columns={\n",
    "# 'main_license_type' : 'license_category',\n",
    "# 'issue_date' : 'date_issue',\n",
    "# 'expiration_date' : 'date_expiration',\n",
    "# }, inplace=True)"
   ]
  },
  {
   "cell_type": "code",
   "execution_count": null,
   "metadata": {},
   "outputs": [],
   "source": [
    "# cnxn = pyodbc.connect('Trusted_Connection=yes',\n",
    "#                       server = 'DESKTOP-KA6KCMH\\SQLEXPRESS', \n",
    "#                       driver = '{ODBC Driver 17 for SQL Server}',\n",
    "#                       database = 'ca_cannabis_v2'\n",
    "#                       )"
   ]
  },
  {
   "cell_type": "code",
   "execution_count": null,
   "metadata": {},
   "outputs": [],
   "source": [
    "#don't need anymore bc of change earlier\n",
    "# df_file.columns = map(str.lower, df_file.columns)"
   ]
  },
  {
   "cell_type": "code",
   "execution_count": null,
   "metadata": {},
   "outputs": [],
   "source": [
    "# df_file[df_file.duplicated(subset='License_Number')]"
   ]
  },
  {
   "cell_type": "code",
   "execution_count": null,
   "metadata": {},
   "outputs": [],
   "source": [
    "# df_control.rename(columns={\n",
    "# 'license_type' : 'license_description',\n",
    "# 'business_structure' : 'business_company_type',\n",
    "# 'issue_date' : 'date_issue',\n",
    "# 'expiration_date' : 'date_expiration',\n",
    "# 'activities' : 'business_description',\n",
    "# 'main_license_type' : 'license_category',\n",
    "# 'name' : 'name_legal',\n",
    "# 'dba' : 'name_dba',\n",
    "# 'email' : 'contact_email',\n",
    "# 'phone' : 'contact_phone',\n",
    "# 'website' : 'contact_website',\n",
    "# 'owner_1' : 'contact_owner_1',\n",
    "# 'owner_2' : 'contact_owner_2',\n",
    "# 'owner_3' : 'contact_owner_3',\n",
    "# 'owner_4' : 'contact_owner_4',\n",
    "# 'owner_5' : 'contact_owner_5',\n",
    "# 'owner_6' : 'contact_owner_6',\n",
    "# 'owner_7' : 'contact_owner_7',\n",
    "# 'street' : 'contact_street',\n",
    "# 'zip' : 'contact_zip',\n",
    "# 'county' : 'contact_county',\n",
    "# 'state' : 'contact_state'\n",
    "# }, inplace=True)"
   ]
  },
  {
   "cell_type": "code",
   "execution_count": null,
   "metadata": {},
   "outputs": [],
   "source": [
    "# df_control.columns = map(str.lower, df_control.columns)"
   ]
  },
  {
   "cell_type": "code",
   "execution_count": null,
   "metadata": {},
   "outputs": [],
   "source": [
    "# df_all.drop(columns=['business_owner', 'business_contact_information', 'premise_address', 'status_curr', 'adult_medicinal', 'in_db'], inplace=True)"
   ]
  },
  {
   "cell_type": "code",
   "execution_count": null,
   "metadata": {},
   "outputs": [],
   "source": [
    "# df_file_m.rename(columns={\n",
    "# #     'business_legal_name': 'name_legal',\n",
    "# #                   'business_dba_name': 'name_dba',\n",
    "# #                   'premises_city': 'contact_city',\n",
    "# #                   'effective_date': 'date_issue',\n",
    "# #                   'expiration_date': 'date_expiration',\n",
    "# #                   'premises_county': 'contact_county',\n",
    "# #                   'premises_email': 'contact_email',\n",
    "# #                   'license_type': 'license_description'\n",
    "# #                   'premises_phone': 'contact_phone'\n",
    "#                          }, inplace=True)\n",
    "\n",
    "# df_new_items.drop(columns={'in_db'}, inplace=True)"
   ]
  },
  {
   "cell_type": "code",
   "execution_count": null,
   "metadata": {},
   "outputs": [],
   "source": [
    "# cult_df[cult_df['name'].str.contains(\"dba\", na=False)]\n",
    "# cult_df['name'] = cult_df['name'].str.lower()\n",
    "# cult_df['name_legal'].str.split(\"dba\", expand=True)\n",
    "# cult_df.rename(columns={'name_legal': 'name'}, inplace=True)"
   ]
  },
  {
   "cell_type": "code",
   "execution_count": null,
   "metadata": {},
   "outputs": [],
   "source": [
    "# df_roll[df_roll['license_number'] == 'C10-0000668-LIC']"
   ]
  },
  {
   "cell_type": "code",
   "execution_count": null,
   "metadata": {},
   "outputs": [],
   "source": [
    "# main_all[main_all['license_number'] == 'CCL18-0001811']\n",
    "# main_all.iloc[400] == main_all.iloc[8996]\n",
    "# sql_main[sql_main['license_number'] == 'C12-0000294-LIC']\n",
    "# main_all['date_expiration'][main_all['license_number'] == 'CCL18-0000976']\n",
    "# main_all.iloc[711] == main_all.iloc[9313]\n",
    "# main_all.iloc[8587] == main_all.iloc[17653]"
   ]
  },
  {
   "cell_type": "code",
   "execution_count": null,
   "metadata": {},
   "outputs": [],
   "source": [
    "# currently equals 0\n",
    "# df_populated['in_db']\n",
    "# df_populated['date_uploaded']"
   ]
  },
  {
   "cell_type": "code",
   "execution_count": null,
   "metadata": {},
   "outputs": [],
   "source": [
    "# df_final[df_final['name_legal'].isnull()]\n",
    "# df_final['name_legal'].iloc[0]\n",
    "# df_all[df_all['name_legal'] == \"\"]\n",
    "# df_final[df_final['name_legal'] == \"\"]"
   ]
  },
  {
   "cell_type": "markdown",
   "metadata": {},
   "source": [
    "# AR report Notes"
   ]
  },
  {
   "cell_type": "markdown",
   "metadata": {},
   "source": [
    "1) left to right\n",
    "2) right to left\n",
    "\n",
    "count how many negatives there are? find their locations? find how many positives?\n",
    "find the most right negative number?\n",
    "\n",
    "separate out each loop so that if there are multiple negatives ([10, -10, 10, -10]) it will be catched"
   ]
  },
  {
   "cell_type": "code",
   "execution_count": null,
   "metadata": {},
   "outputs": [],
   "source": [
    "# data =[\n",
    "# [-10, 0, 10, 10],\n",
    "# [-10, -10, 0, 30], \n",
    "# [0, -10, 20, 10],\n",
    "# [0, 0, -10, 40],\n",
    "# [20, -10, -10, 0],\n",
    "# [10, 10, 30, -10],\n",
    "# [10, 20, -10, -10], \n",
    "# [40, -10, -10, -10],\n",
    "# [10, -10, 10, -10],\n",
    "# [10, 20, -10, 0],\n",
    "# [30, -10, -10, 0],\n",
    "# [0, -10, 100, -50]\n",
    "# ]"
   ]
  },
  {
   "cell_type": "code",
   "execution_count": null,
   "metadata": {},
   "outputs": [],
   "source": [
    "# test_df = pd.DataFrame(data, columns=['curr', '30_day', '60_day', '90_day'])"
   ]
  },
  {
   "cell_type": "code",
   "execution_count": null,
   "metadata": {},
   "outputs": [],
   "source": [
    "# count the number of negatives\n",
    "# test_df['neg_count'] = test_df.apply(lambda x: pd.Series([(x < 0).sum()]), axis=1)"
   ]
  },
  {
   "cell_type": "code",
   "execution_count": null,
   "metadata": {},
   "outputs": [],
   "source": [
    "# for x in range(len(test_df)):\n",
    "#     if test_df['90_day'].iloc[x] < 0:\n",
    "#         val1 = test_df['90_day'].iloc[x] + test_df['60_day'].iloc[x] #s1: 0\n",
    "#         if val1 < 0:\n",
    "#             val2 = test_df['30_day'].iloc[x] + val1 #s2: -30, s3: 0\n",
    "#             if val2 < 0:\n",
    "#                 val3 = test_df['curr'].iloc[x] + val2 #s2: +10\n",
    "#                 test_df['90_day'].iloc[x] = 0\n",
    "#                 test_df['60_day'].iloc[x] = 0\n",
    "#                 test_df['30_day'].iloc[x] = 0\n",
    "#                 test_df['curr'].iloc[x] = val3\n",
    "#             else:\n",
    "#                 test_df['90_day'].iloc[x] = 0\n",
    "#                 test_df['60_day'].iloc[x] = 0\n",
    "#                 test_df['30_day'].iloc[x] = val2\n",
    "#         else:\n",
    "#             test_df['90_day'].iloc[x] = 0\n",
    "#             test_df['60_day'].iloc[x] = val1"
   ]
  },
  {
   "cell_type": "code",
   "execution_count": null,
   "metadata": {},
   "outputs": [],
   "source": [
    "# for x in range(len(test_df)):\n",
    "#     if test_df['60_day'].iloc[x] < 0:\n",
    "#         val1 = test_df['60_day'].iloc[x] + test_df['30_day'].iloc[x] #10\n",
    "#         if val1 < 0:\n",
    "#             val2 = test_df['curr'].iloc[x] + val1\n",
    "#             test_df['60_day'].iloc[x] = 0\n",
    "#             test_df['30_day'].iloc[x] = 0\n",
    "#             test_df['curr'].iloc[x] = val2    \n",
    "#         else:\n",
    "#             test_df['60_day'].iloc[x] = 0\n",
    "#             test_df['30_day'].iloc[x] = val1            "
   ]
  },
  {
   "cell_type": "code",
   "execution_count": null,
   "metadata": {},
   "outputs": [],
   "source": [
    "# for x in range(len(test_df)):\n",
    "#     if test_df['30_day'].iloc[x] < 0:\n",
    "#         val1 = test_df['30_day'].iloc[x] + test_df['curr'].iloc[x]\n",
    "#         test_df['30_day'].iloc[x] = 0\n",
    "#         test_df['curr'].iloc[x] = val1"
   ]
  },
  {
   "cell_type": "code",
   "execution_count": null,
   "metadata": {},
   "outputs": [],
   "source": [
    "# for x in range(len(test_df)):\n",
    "#     if test_df['curr'].iloc[x] < 0:\n",
    "#         val1 = test_df['curr'].iloc[x] + test_df['30_day'].iloc[x] #s1: 0\n",
    "#         if val1 < 0:\n",
    "#             val2 = test_df['60_day'].iloc[x] + val1 #s2: -30, s3: 0\n",
    "#             if val2 < 0:\n",
    "#                 val3 = test_df['90_day'].iloc[x] + val2 #s2: +10\n",
    "#                 test_df['curr'].iloc[x] = 0\n",
    "#                 test_df['30_day'].iloc[x] = 0\n",
    "#                 test_df['60_day'].iloc[x] = 0\n",
    "#                 test_df['90_day'].iloc[x] = val3\n",
    "#             else:\n",
    "#                 test_df['curr'].iloc[x] = 0\n",
    "#                 test_df['30_day'].iloc[x] = 0\n",
    "#                 test_df['60_day'].iloc[x] = val2\n",
    "#         else:\n",
    "#             test_df['curr'].iloc[x] = 0\n",
    "#             test_df['30_day'].iloc[x] = val1"
   ]
  },
  {
   "cell_type": "code",
   "execution_count": null,
   "metadata": {},
   "outputs": [],
   "source": [
    "# df_names_removed = df_names_nan.apply(lambda x: x.drop_duplicates(), axis=1)\n",
    "# df2 = df_names_removed.apply(lambda x:pd.Series(x.dropna().values), axis=1)"
   ]
  },
  {
   "cell_type": "code",
   "execution_count": null,
   "metadata": {},
   "outputs": [],
   "source": [
    "# df_sums.to_csv('./df_sums.csv', index=False)"
   ]
  },
  {
   "cell_type": "code",
   "execution_count": null,
   "metadata": {},
   "outputs": [],
   "source": [
    "# df_sums.iloc[:,3:9]\n",
    "# df_sums.iloc[:,[3:9]].apply(lambda x: 0 if x < 0 else x)\n",
    "# sum_amt_clean.merge(sum_days_over, on='state_license', how='left')\n",
    "# pd.concat([sum_days_over, sum_amt_clean], axis=1, join='inner')\n",
    "# len(sum_days_over)\n",
    "# ar_clip.groupby('state_license', as_index=False)['days_over_due'].sum()\n",
    "# type(sum_days_over)\n",
    "# ar.sort_values(by='1-30_days')"
   ]
  },
  {
   "cell_type": "code",
   "execution_count": null,
   "metadata": {},
   "outputs": [],
   "source": [
    "# float(ar['30_day_test'])\n",
    "# ar['30_day_test']\n",
    "# ar['30_day_float'].dtype\n",
    "# ar['30_day_test'] = ar.astype({'30_day_test': float})\n",
    "# ar.astype({'1-30_days': float})"
   ]
  },
  {
   "cell_type": "code",
   "execution_count": null,
   "metadata": {},
   "outputs": [],
   "source": [
    "# train_test['past_due_96'] = train_test.iloc[:,[5,13]].apply(lambda x: \n",
    "#                           1 if (x.loc['past_due_30'] > 95) \n",
    "#                           else x, axis=1)"
   ]
  },
  {
   "cell_type": "code",
   "execution_count": null,
   "metadata": {},
   "outputs": [],
   "source": [
    "# ar.columns.get_loc(\"1-30_days\")\n",
    "# ar.sort_values(by='1-30 Days')\n",
    "# pd.datetime(2020, 2, 25)"
   ]
  },
  {
   "cell_type": "code",
   "execution_count": null,
   "metadata": {},
   "outputs": [],
   "source": [
    "# count_days_over = ar_clip.groupby('state_license', as_index=False)['days_over_due'].count()\n",
    "# count_orig_amt_clean = ar_clip.groupby('state_license', as_index=False)['orig_amt_clean'].count()\n",
    "# count_bal_out_clean = ar_clip.groupby('state_license', as_index=False)['bal_out_clean'].count()\n",
    "# count_current_clean = ar_clip.groupby('state_license', as_index=False)['current_clean'].count()\n",
    "# count_30_day_clean = ar_clip.groupby('state_license', as_index=False)['30_day_clean'].count()\n",
    "# count_60_day_clean = ar_clip.groupby('state_license', as_index=False)['60_day_clean'].count()\n",
    "# sum_90_day_clean = ar_clip.groupby('state_license', as_index=False)['90_day_clean'].sum()\n",
    "# sum_over_90_day_clean = ar_clip.groupby('state_license', as_index=False)['over_90_day_clean'].sum()"
   ]
  },
  {
   "cell_type": "code",
   "execution_count": null,
   "metadata": {},
   "outputs": [],
   "source": [
    "# data =[\n",
    "#     [50, 0, -10, 5], #subtract to the left, positive left over\n",
    "#     [5, 0, -10, 5], #subtract to the left, negative left over, subtract to the right\n",
    "#     [10, 0, -10, 0], #subtract to the left, nothing left over\n",
    "\n",
    "# #     [0, -50, 0, 0], #nowhere to subtract, this becomes 0\n",
    "    \n",
    "# #     [0, -50, 0, 10], # subtract to the right, negative left over, goes to 0\n",
    "#     [0, -50, 100, 0], #subtract to the right, positive left over\n",
    "#      [0, -50, 50, 0], #subtract to the right, nothing left over\n",
    "#     [-100, 20, 20, 20], #subtract all to the right, positive left over\n",
    "    \n",
    "#     [0, 0, 0, 0], #nothing to do\n",
    "#     [0, 60, 0, 0], #nothing to do\n",
    "    \n",
    "    \n",
    "# ]\n",
    "   "
   ]
  },
  {
   "cell_type": "code",
   "execution_count": null,
   "metadata": {},
   "outputs": [],
   "source": [
    "# for x in range(len(test_df)):\n",
    "#     if test_df['curr'].iloc[x] < 0:\n",
    "        \n",
    "#         #first test if 0 or postive?\n",
    "# #         total_val = test_df['curr'].iloc[x] + test_df['30_day'].iloc[x] + test_df['60_day'].iloc[x] + test_df['90_day'].iloc[x]\n",
    "# #         if outstanding balance = 0, then 0\n",
    "            \n",
    "#         if test_df['30_day'].iloc[x] > 0:\n",
    "#         elif test_df[]\n",
    "            \n",
    "#             val1 = test_df['30_day'].iloc[x] + test_df['curr'].iloc[x] #-80\n",
    "#             test_df['curr'].iloc[x] = 0\n",
    "#             if val1 < 0:\n",
    "#                 val2 = test_df['60_day'].iloc[x] + val1\n",
    "#                 test_df['30_day'].iloc[x] = 0\n",
    "\n",
    "#                 print(test_df['30_day'].iloc[x])\n",
    "#                 if val2 < 0:\n",
    "#                     test_df['60_day'].iloc[x] = 0\n",
    "#                     val3 = test_df['90_day'].iloc[x] + val2\n",
    "#                     if val3 >= 0:\n",
    "#                         test_df['90_day'].iloc[x] = val3\n",
    "#                     else:\n",
    "#                         test_df['90_day'].iloc[x] = 0\n",
    "        "
   ]
  },
  {
   "cell_type": "code",
   "execution_count": null,
   "metadata": {},
   "outputs": [],
   "source": [
    "# test_df.apply(lambda x: pd.array([(x < 0).sum()]))\n",
    "# dfObj.apply(lambda x: x + 5, axis=1)\n",
    "# test_df.apply(lambda x: pd.S)\n",
    "\n",
    "# In [11]: df.groupby('A').C.apply(lambda x: pd.Series([(x < 0).sum(), (x >= 0).sum()])).unstack()\n",
    "# Out[111]: \n",
    "#      0  1\n",
    "# A        \n",
    "# bar  2  1\n",
    "# foo  2  3\n",
    "\n",
    "# [2 rows x 2 columns]\n",
    "\n",
    "# df_sums.iloc[:,[3:9]].apply(lambda x: 0 if x < 0 else x)\n",
    "# test_df.iloc[:,[0]].apply(lambda x: 0 if x < 0 else x)\n",
    "# df.iloc[lambda x: x.index % 2 == 0]\n",
    "# test_df.iloc[lambda x: x > 0]\n",
    "# test_df.sum(axis=1)\n",
    "# for x in range(len(test_df)):\n",
    "#     print(test_df.iloc[x].sum)\n",
    "#     print(test_df.iloc[x])\n",
    "#     if test_df['90_day'].iloc[x] < 0:\n",
    "\n",
    "# for index, row in test_df.iterrows():\n",
    "# #     print(row['curr'], row['30_day'])\n",
    "#     count1 = row['curr']\n",
    "#     count2 = row['30_day']\n",
    "#     count3 = row['60_day']\n",
    "#     count4 = row['90_day']\n",
    "#     if count1 or count2 or count3 or count4 \n",
    "        "
   ]
  },
  {
   "cell_type": "code",
   "execution_count": null,
   "metadata": {},
   "outputs": [],
   "source": [
    "# ar_clip.isnull().sum()\n",
    "# df_all.drop(df_all[df_all['name_legal'].isnull()].index, inplace=True)\n",
    "# ar_clip.drop(ar_clip[ar_clip['state_license'].isnull()].index, inplace=True)"
   ]
  },
  {
   "cell_type": "code",
   "execution_count": null,
   "metadata": {},
   "outputs": [],
   "source": [
    "# names_missing = df_edited_null['company_roll_up'].unique()\n",
    "# max_val = df_edited['roll_up_id'].max() + 1\n",
    "# print(\"hello_\" +str(max_val))"
   ]
  },
  {
   "cell_type": "code",
   "execution_count": null,
   "metadata": {},
   "outputs": [],
   "source": [
    "# ar_clip = ar[['state_license', 'ar_account', 'company', \n",
    "#    'days_over_due', \n",
    "#    'orig_amt_clean', 'bal_out_clean', 'current_clean', \n",
    "#    '30_day_clean','60_day_clean', '90_day_clean', 'over_90_day_clean', \n",
    "#    'orig_amt_clean_binary', 'bal_out_clean_binary', 'current_clean_binary',\n",
    "#    '30_day_binary', '60_day_binary', '90_day_binary', 'over_90_day_binary'\n",
    "#   ]]"
   ]
  },
  {
   "cell_type": "code",
   "execution_count": null,
   "metadata": {},
   "outputs": [],
   "source": [
    "# ar_null_license = ar_clip[ar_clip['state_license'].isnull()]\n",
    "# ar_full_license = ar_clip[~ar_clip['state_license'].isnull()]"
   ]
  },
  {
   "cell_type": "code",
   "execution_count": null,
   "metadata": {},
   "outputs": [],
   "source": [
    "# test_df['neg_count'] = test_df.apply(lambda x: pd.Series([(x < 0).sum()]), axis=1)"
   ]
  },
  {
   "cell_type": "code",
   "execution_count": null,
   "metadata": {},
   "outputs": [],
   "source": []
  }
 ],
 "metadata": {
  "kernelspec": {
   "display_name": "Python 3",
   "language": "python",
   "name": "python3"
  },
  "language_info": {
   "codemirror_mode": {
    "name": "ipython",
    "version": 3
   },
   "file_extension": ".py",
   "mimetype": "text/x-python",
   "name": "python",
   "nbconvert_exporter": "python",
   "pygments_lexer": "ipython3",
   "version": "3.7.3"
  }
 },
 "nbformat": 4,
 "nbformat_minor": 2
}
