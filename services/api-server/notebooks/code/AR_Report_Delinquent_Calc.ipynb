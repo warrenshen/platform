{
 "cells": [
  {
   "cell_type": "code",
   "execution_count": null,
   "metadata": {},
   "outputs": [],
   "source": [
    "import pandas as pd\n",
    "from functools import reduce\n",
    "import numpy as np"
   ]
  },
  {
   "cell_type": "code",
   "execution_count": null,
   "metadata": {},
   "outputs": [],
   "source": [
    "# df_dec = pd.read_csv('../ar_reports/orig/kiva_ar_2019_12_31.csv')\n",
    "# df_dec.drop(columns='Unnamed: 16', inplace=True)"
   ]
  },
  {
   "cell_type": "code",
   "execution_count": null,
   "metadata": {},
   "outputs": [],
   "source": [
    "# df_ar = pd.read_csv('../ar_reports/orig/kiva_ar_2019_12_31.csv')"
   ]
  },
  {
   "cell_type": "code",
   "execution_count": null,
   "metadata": {},
   "outputs": [],
   "source": [
    "# df_ar = pd.read_csv('../ar_reports/orig/legion_of_bloom_detail.csv')"
   ]
  },
  {
   "cell_type": "code",
   "execution_count": null,
   "metadata": {},
   "outputs": [],
   "source": [
    "df_ar = pd.read_csv('../ar_reports/orig/desert_road_ar.csv')"
   ]
  },
  {
   "cell_type": "code",
   "execution_count": null,
   "metadata": {},
   "outputs": [],
   "source": [
    "len(df_ar)"
   ]
  },
  {
   "cell_type": "code",
   "execution_count": null,
   "metadata": {},
   "outputs": [],
   "source": [
    "df_ar.head(1)"
   ]
  },
  {
   "cell_type": "markdown",
   "metadata": {},
   "source": [
    "separate out the line items that are negative"
   ]
  },
  {
   "cell_type": "code",
   "execution_count": null,
   "metadata": {},
   "outputs": [],
   "source": [
    "df_curr_neg = df_ar[df_ar['current'] < 0]\n",
    "df_30_neg = df_ar[df_ar['30_days'] < 0]\n",
    "df_60_neg = df_ar[df_ar['60_days'] < 0]\n",
    "df_90_neg = df_ar[df_ar['90_days'] < 0]\n",
    "df_ovr_90_neg = df_ar[df_ar['over_90_days'] < 0]"
   ]
  },
  {
   "cell_type": "markdown",
   "metadata": {},
   "source": [
    "group together the negative items by ar account"
   ]
  },
  {
   "cell_type": "code",
   "execution_count": null,
   "metadata": {},
   "outputs": [],
   "source": [
    "sum_curr = df_curr_neg.groupby('ar_account', as_index=False)['current'].sum()\n",
    "sum_30 = df_30_neg.groupby('ar_account', as_index=False)['30_days'].sum()\n",
    "sum_60 = df_60_neg.groupby('ar_account', as_index=False)['60_days'].sum()\n",
    "sum_90 = df_90_neg.groupby('ar_account', as_index=False)['90_days'].sum()\n",
    "sum_ovr_90 = df_ovr_90_neg.groupby('ar_account', as_index=False)['over_90_days'].sum()"
   ]
  },
  {
   "cell_type": "code",
   "execution_count": null,
   "metadata": {},
   "outputs": [],
   "source": [
    "dataframes = [sum_curr, sum_30, sum_60, sum_90, sum_ovr_90]"
   ]
  },
  {
   "cell_type": "code",
   "execution_count": null,
   "metadata": {},
   "outputs": [],
   "source": [
    "df_all_neg = reduce(lambda left, right: pd.merge(left,right, on=['ar_account'], how='outer'), dataframes)"
   ]
  },
  {
   "cell_type": "code",
   "execution_count": null,
   "metadata": {},
   "outputs": [],
   "source": [
    "len(df_all_neg)"
   ]
  },
  {
   "cell_type": "code",
   "execution_count": null,
   "metadata": {},
   "outputs": [],
   "source": [
    "df_all_neg.head(1)"
   ]
  },
  {
   "cell_type": "code",
   "execution_count": null,
   "metadata": {},
   "outputs": [],
   "source": [
    "df_all_neg.fillna(0, inplace=True)"
   ]
  },
  {
   "cell_type": "markdown",
   "metadata": {},
   "source": [
    "combine all the negatives into one amount"
   ]
  },
  {
   "cell_type": "code",
   "execution_count": null,
   "metadata": {},
   "outputs": [],
   "source": [
    "df_all_neg['amount'] = df_all_neg['current'] + df_all_neg['30_days'] + df_all_neg['60_days'] + df_all_neg['90_days'] + df_all_neg['over_90_days']"
   ]
  },
  {
   "cell_type": "markdown",
   "metadata": {},
   "source": [
    "separate out the positive line items"
   ]
  },
  {
   "cell_type": "code",
   "execution_count": null,
   "metadata": {},
   "outputs": [],
   "source": [
    "df_curr_pos = df_ar[df_ar['current'] > 0]\n",
    "df_30_pos = df_ar[df_ar['30_days'] > 0]\n",
    "df_60_pos = df_ar[df_ar['60_days'] > 0]\n",
    "df_90_pos = df_ar[df_ar['90_days'] > 0]\n",
    "df_ovr_90_pos = df_ar[df_ar['over_90_days'] > 0]"
   ]
  },
  {
   "cell_type": "code",
   "execution_count": null,
   "metadata": {},
   "outputs": [],
   "source": [
    "# dataframes_2 = [df_curr_pos, df_30_pos, df_60_pos, df_90_pos, df_ovr_90_pos]"
   ]
  },
  {
   "cell_type": "code",
   "execution_count": null,
   "metadata": {},
   "outputs": [],
   "source": [
    "df_curr_pos.head(1)"
   ]
  },
  {
   "cell_type": "markdown",
   "metadata": {},
   "source": [
    "take the ar account, days over due, and the amount over"
   ]
  },
  {
   "cell_type": "code",
   "execution_count": null,
   "metadata": {},
   "outputs": [],
   "source": [
    "df_curr_pos.iloc[:2, [2, 8, 11]]"
   ]
  },
  {
   "cell_type": "code",
   "execution_count": null,
   "metadata": {},
   "outputs": [],
   "source": [
    "df_curr_pos_2 = df_curr_pos.iloc[:, [2, 8, 11]]\n",
    "df_30_pos_2 = df_30_pos.iloc[:, [2, 8 , 12]]\n",
    "df_60_pos_2 = df_60_pos.iloc[:, [2, 8 , 13]]\n",
    "df_90_pos_2 = df_90_pos.iloc[:, [2, 8 , 14]]\n",
    "df_90_ovr_pos_2 = df_ovr_90_pos.iloc[:, [2, 8 , 15]]"
   ]
  },
  {
   "cell_type": "markdown",
   "metadata": {},
   "source": [
    "for each DPD type, group the positives together"
   ]
  },
  {
   "cell_type": "code",
   "execution_count": null,
   "metadata": {},
   "outputs": [],
   "source": [
    "df_curr_pos_3 = df_curr_pos_2.groupby('ar_account', as_index=False).sum()\n",
    "df_curr_pos_3.rename(columns={'current': 'amount'}, inplace=True)"
   ]
  },
  {
   "cell_type": "code",
   "execution_count": null,
   "metadata": {},
   "outputs": [],
   "source": [
    "df_30_pos_3 = df_30_pos_2.groupby(['ar_account', 'days_over_due'], as_index=False).sum()\n",
    "df_30_pos_3.rename(columns={'30_days': 'amount'}, inplace=True)"
   ]
  },
  {
   "cell_type": "code",
   "execution_count": null,
   "metadata": {},
   "outputs": [],
   "source": [
    "df_60_pos_3 = df_60_pos_2.groupby(['ar_account', 'days_over_due'], as_index=False).sum()\n",
    "df_60_pos_3.rename(columns={'60_days': 'amount'}, inplace=True)"
   ]
  },
  {
   "cell_type": "code",
   "execution_count": null,
   "metadata": {},
   "outputs": [],
   "source": [
    "df_90_pos_3 = df_90_pos_2.groupby(['ar_account', 'days_over_due'], as_index=False).sum()\n",
    "df_90_pos_3.rename(columns={'90_days': 'amount'}, inplace=True)"
   ]
  },
  {
   "cell_type": "code",
   "execution_count": null,
   "metadata": {},
   "outputs": [],
   "source": [
    "df_90_ovr_pos_3 = df_90_ovr_pos_2.groupby(['ar_account', 'days_over_due'], as_index=False).sum()\n",
    "df_90_ovr_pos_3.rename(columns={'over_90_days': 'amount'}, inplace=True)"
   ]
  },
  {
   "cell_type": "code",
   "execution_count": null,
   "metadata": {},
   "outputs": [],
   "source": [
    "df_all_pos = df_curr_pos_3.append(df_30_pos_3)"
   ]
  },
  {
   "cell_type": "code",
   "execution_count": null,
   "metadata": {},
   "outputs": [],
   "source": [
    "df_all_pos = df_all_pos.append(df_60_pos_3)"
   ]
  },
  {
   "cell_type": "code",
   "execution_count": null,
   "metadata": {},
   "outputs": [],
   "source": [
    "df_all_pos = df_all_pos.append(df_90_pos_3)"
   ]
  },
  {
   "cell_type": "code",
   "execution_count": null,
   "metadata": {},
   "outputs": [],
   "source": [
    "df_all_pos = df_all_pos.append(df_90_ovr_pos_3)"
   ]
  },
  {
   "cell_type": "code",
   "execution_count": null,
   "metadata": {},
   "outputs": [],
   "source": [
    "df_all_neg.iloc[:2, [0, 6]]"
   ]
  },
  {
   "cell_type": "markdown",
   "metadata": {},
   "source": [
    "ar_account and amount"
   ]
  },
  {
   "cell_type": "code",
   "execution_count": null,
   "metadata": {},
   "outputs": [],
   "source": [
    "df_all_neg_2 = df_all_neg.iloc[:, [0,6]]"
   ]
  },
  {
   "cell_type": "code",
   "execution_count": null,
   "metadata": {},
   "outputs": [],
   "source": [
    "df_all_neg_2.head(1)"
   ]
  },
  {
   "cell_type": "code",
   "execution_count": null,
   "metadata": {},
   "outputs": [],
   "source": [
    "len(df_all_neg_2)"
   ]
  },
  {
   "cell_type": "code",
   "execution_count": null,
   "metadata": {},
   "outputs": [],
   "source": [
    "len(df_all_pos)"
   ]
  },
  {
   "cell_type": "code",
   "execution_count": null,
   "metadata": {},
   "outputs": [],
   "source": [
    "df_all_pos['in_neg'] = df_all_pos['ar_account'].isin(df_all_neg_2['ar_account']).astype(int)"
   ]
  },
  {
   "cell_type": "code",
   "execution_count": null,
   "metadata": {},
   "outputs": [],
   "source": [
    "df_pos_in = df_all_pos[df_all_pos['in_neg'] == 1]"
   ]
  },
  {
   "cell_type": "code",
   "execution_count": null,
   "metadata": {},
   "outputs": [],
   "source": [
    "df_pos_out = df_all_pos[df_all_pos['in_neg'] == 0]"
   ]
  },
  {
   "cell_type": "code",
   "execution_count": null,
   "metadata": {},
   "outputs": [],
   "source": [
    "df_all_neg_2['in_pos'] = df_all_neg_2['ar_account'].isin(df_pos_in['ar_account']).astype(int)"
   ]
  },
  {
   "cell_type": "code",
   "execution_count": null,
   "metadata": {},
   "outputs": [],
   "source": [
    "df_neg_in = df_all_neg_2[df_all_neg_2['in_pos'] == 1]"
   ]
  },
  {
   "cell_type": "code",
   "execution_count": null,
   "metadata": {},
   "outputs": [],
   "source": [
    "df_neg_out = df_all_neg_2[df_all_neg_2['in_pos'] == 0]"
   ]
  },
  {
   "cell_type": "code",
   "execution_count": null,
   "metadata": {},
   "outputs": [],
   "source": [
    "df_pos_in.reset_index(drop=True, inplace=True)"
   ]
  },
  {
   "cell_type": "code",
   "execution_count": null,
   "metadata": {},
   "outputs": [],
   "source": [
    "df_neg_in.reset_index(drop=True, inplace=True)"
   ]
  },
  {
   "cell_type": "code",
   "execution_count": null,
   "metadata": {},
   "outputs": [],
   "source": [
    "# df_pos_in"
   ]
  },
  {
   "cell_type": "code",
   "execution_count": null,
   "metadata": {},
   "outputs": [],
   "source": [
    "pd.set_option('mode.chained_assignment', None)\n",
    "\n",
    "for x in range(len(df_neg_in)):\n",
    "    name_neg = df_neg_in['ar_account'].iloc[x]\n",
    "    amount_neg = df_neg_in['amount'].iloc[x]\n",
    "    name_count = df_pos_in['ar_account'].value_counts()[name_neg]\n",
    "    for i in range(name_count):\n",
    "        idmax = df_pos_in['days_over_due'].where(df_pos_in['ar_account'] == name_neg).idxmax()\n",
    "        val1 = df_pos_in['amount'].iloc[idmax] + amount_neg\n",
    "        if val1 <= 0:\n",
    "            df_pos_in['amount'].iloc[idmax] = 0\n",
    "            df_pos_in['days_over_due'].iloc[idmax] = 0\n",
    "            amount_neg = val1\n",
    "        else:\n",
    "            df_pos_in['amount'].iloc[idmax] = val1\n",
    "            break"
   ]
  },
  {
   "cell_type": "code",
   "execution_count": null,
   "metadata": {},
   "outputs": [],
   "source": [
    "# df_all_pos[df_all_pos['in_neg'] == 1]"
   ]
  },
  {
   "cell_type": "code",
   "execution_count": null,
   "metadata": {},
   "outputs": [],
   "source": [
    "df_all_pos[df_all_pos['days_over_due'] >=270]"
   ]
  },
  {
   "cell_type": "code",
   "execution_count": null,
   "metadata": {},
   "outputs": [],
   "source": [
    "df_over_270 = df_pos_in[df_pos_in['days_over_due'] >= 270]"
   ]
  },
  {
   "cell_type": "code",
   "execution_count": null,
   "metadata": {},
   "outputs": [],
   "source": [
    "df_over_270.head()"
   ]
  },
  {
   "cell_type": "code",
   "execution_count": null,
   "metadata": {},
   "outputs": [],
   "source": [
    "df_groupby = df_over_270.groupby('ar_account', as_index=False)['amount'].sum()"
   ]
  },
  {
   "cell_type": "code",
   "execution_count": null,
   "metadata": {},
   "outputs": [],
   "source": [
    "# df_groupby"
   ]
  },
  {
   "cell_type": "code",
   "execution_count": null,
   "metadata": {},
   "outputs": [],
   "source": [
    "df_delinq = df_groupby[df_groupby['amount'] >= 500]"
   ]
  },
  {
   "cell_type": "code",
   "execution_count": null,
   "metadata": {},
   "outputs": [],
   "source": [
    "# df_delinq"
   ]
  },
  {
   "cell_type": "code",
   "execution_count": null,
   "metadata": {},
   "outputs": [],
   "source": [
    "df_pos_over_270 = df_pos_out[df_pos_out['days_over_due'] >= 270]"
   ]
  },
  {
   "cell_type": "code",
   "execution_count": null,
   "metadata": {},
   "outputs": [],
   "source": [
    "df_pos_groupby = df_pos_over_270.groupby('ar_account', as_index=False)['amount'].sum()"
   ]
  },
  {
   "cell_type": "code",
   "execution_count": null,
   "metadata": {},
   "outputs": [],
   "source": [
    "df_pos_delinq = df_pos_groupby[df_pos_groupby['amount'] >= 500]"
   ]
  },
  {
   "cell_type": "code",
   "execution_count": null,
   "metadata": {},
   "outputs": [],
   "source": [
    "df_all_delinq = df_pos_delinq.append(df_delinq)"
   ]
  },
  {
   "cell_type": "code",
   "execution_count": null,
   "metadata": {},
   "outputs": [],
   "source": []
  },
  {
   "cell_type": "code",
   "execution_count": null,
   "metadata": {},
   "outputs": [],
   "source": [
    "df_all_delinq.to_csv('../ar_reports/orig/no_neg/kiva_delinq_12_31_2019.csv', index=False)"
   ]
  },
  {
   "cell_type": "code",
   "execution_count": null,
   "metadata": {},
   "outputs": [],
   "source": []
  },
  {
   "cell_type": "markdown",
   "metadata": {},
   "source": [
    "# Test"
   ]
  },
  {
   "cell_type": "markdown",
   "metadata": {},
   "source": [
    "### Kiva"
   ]
  },
  {
   "cell_type": "code",
   "execution_count": null,
   "metadata": {},
   "outputs": [],
   "source": [
    "# df_ar.drop(columns='Unnamed: 16', inplace=True)\n",
    "\n",
    "# df_ar.columns = map(str.lower, df_ar.columns)\n",
    "# df_ar.columns = df_ar.columns.str.replace(\" \", \"_\")\n",
    "\n",
    "# df_ar.rename(columns={'1-30_days': '30_days', '31-60_days': '60_days', '61-90_days': '90_days', '91+_days': 'over_90_days'}, inplace=True)\n",
    "\n",
    "# df_ar.rename(columns={'over_90':'over_90_days'}, inplace=True)\n",
    "\n",
    "# df_ar.replace(\" \", 0, inplace=True)\n",
    "\n",
    "# df_ar[['current', '30_days', '60_days', '90_days', 'over_90']] = df_ar[['current', '30_days', '60_days', '90_days', 'over_90']].apply(pd.to_numeric)\n",
    "\n",
    "# df_sep[df_sep['state_license'] == 'C9-0000295-LIC']"
   ]
  },
  {
   "cell_type": "code",
   "execution_count": null,
   "metadata": {},
   "outputs": [],
   "source": [
    "# data_neg = [['Rachel', -10], ['Brittany', -5], ['Connor', -15], ['Evelyn', -20]]"
   ]
  },
  {
   "cell_type": "code",
   "execution_count": null,
   "metadata": {},
   "outputs": [],
   "source": [
    "# df_test = pd.DataFrame(data_neg, columns=['Name', 'Amount'])"
   ]
  },
  {
   "cell_type": "code",
   "execution_count": null,
   "metadata": {},
   "outputs": [],
   "source": [
    "# data_pos = [['Rachel', 40, 5], ['Rachel', 30, 5], ['Rachel', 20, 31], ['Brittany', 60, 0], \n",
    "#            ['Brittany', 50, 34], ['Brittany', 40, 10], ['Evelyn', 100, 10], ['Evelyn', 90, 5], ['Connor', 0, 42]]"
   ]
  },
  {
   "cell_type": "code",
   "execution_count": null,
   "metadata": {},
   "outputs": [],
   "source": [
    "# df_test_pos = pd.DataFrame(data_pos, columns=['Name', 'Days','Amount'])"
   ]
  },
  {
   "cell_type": "code",
   "execution_count": null,
   "metadata": {},
   "outputs": [],
   "source": [
    "# df_test_pos['Days'].index(max(df_test_pos['Days']))\n",
    "# df_test_pos['Days'].idxmax()\n",
    "# df_test_pos['Days'].where(df_test_pos['Name'] == 'Evelyn').idxmax()"
   ]
  },
  {
   "cell_type": "code",
   "execution_count": null,
   "metadata": {},
   "outputs": [],
   "source": [
    "# for x in range(len(df_test)):\n",
    "#     name_neg = df_test['Name'].iloc[x]\n",
    "#     amount_neg = df_test['Amount'].iloc[x]\n",
    "#     name_count = df_test_pos['Name'].value_counts()[name_neg]\n",
    "#     for i in range(name_count):\n",
    "#         idmax = df_test_pos['Days'].where(df_test_pos['Name'] == name_neg).idxmax()\n",
    "#         val1 = df_test_pos['Amount'].iloc[idmax] + amount_neg\n",
    "#         if val1 <= 0:\n",
    "#             df_test_pos['Amount'].iloc[idmax] = 0\n",
    "#             df_test_pos['Days'].iloc[idmax] = 0\n",
    "#             amount_neg = val1\n",
    "#         else:\n",
    "#             df_test_pos['Amount'].iloc[idmax] = val1\n",
    "#             break"
   ]
  },
  {
   "cell_type": "markdown",
   "metadata": {},
   "source": [
    "# Old, first run"
   ]
  },
  {
   "cell_type": "code",
   "execution_count": null,
   "metadata": {},
   "outputs": [],
   "source": [
    "# df_30_pos_2.groupby('ar_account', as_index=False).sum()"
   ]
  },
  {
   "cell_type": "code",
   "execution_count": null,
   "metadata": {},
   "outputs": [],
   "source": [
    "# df_curr_pos_2.append(df_30_pos_2, sort=False)"
   ]
  },
  {
   "cell_type": "code",
   "execution_count": null,
   "metadata": {},
   "outputs": [],
   "source": [
    "# df_all_pos = reduce(lambda left, right: pd.merge(left, right, on=['ar_account'], how='left'), dataframes_2)"
   ]
  },
  {
   "cell_type": "code",
   "execution_count": null,
   "metadata": {},
   "outputs": [],
   "source": [
    "# df_sep.columns.get_loc('30_days')"
   ]
  },
  {
   "cell_type": "code",
   "execution_count": null,
   "metadata": {},
   "outputs": [],
   "source": [
    "# df_sep[df_sep['30_days'] > 0].iloc[:,[2, 8, 12]]"
   ]
  },
  {
   "cell_type": "code",
   "execution_count": null,
   "metadata": {},
   "outputs": [],
   "source": [
    "# df_sep_over = df_sep[df_sep['Days Over Due'] >= 270]"
   ]
  },
  {
   "cell_type": "code",
   "execution_count": null,
   "metadata": {},
   "outputs": [],
   "source": [
    "# df_sep_over['91+ Days'] = \n",
    "# df_sep_over.astype({'91+ Days': float})\n",
    "# df_sep_over.info()"
   ]
  },
  {
   "cell_type": "code",
   "execution_count": null,
   "metadata": {},
   "outputs": [],
   "source": [
    "# df_sep_91 = df_sep_over.groupby('AR Account', as_index=False)['91+ Days'].sum()"
   ]
  },
  {
   "cell_type": "code",
   "execution_count": null,
   "metadata": {},
   "outputs": [],
   "source": [
    "# df_sep_bal = df_sep.groupby('AR Account', as_index=False)['Balance Outstanding'].sum()"
   ]
  },
  {
   "cell_type": "code",
   "execution_count": null,
   "metadata": {},
   "outputs": [],
   "source": [
    "# df_sep_merge = pd.merge(df_sep_91, df_sep_bal)"
   ]
  },
  {
   "cell_type": "code",
   "execution_count": null,
   "metadata": {},
   "outputs": [],
   "source": [
    "#doesn't make sense to count because it's including negatives?\n",
    "# df_sep_over.groupby('AR Account', as_index=False)['91+ Days'].count()"
   ]
  },
  {
   "cell_type": "code",
   "execution_count": null,
   "metadata": {},
   "outputs": [],
   "source": [
    "# df_sep_500 = df_sep_merge[df_sep_merge['91+ Days'] >=500]"
   ]
  },
  {
   "cell_type": "code",
   "execution_count": null,
   "metadata": {},
   "outputs": [],
   "source": [
    "# df_sep_500['percentage'] = df_sep_500['91+ Days'] / df_sep_500['Balance Outstanding']"
   ]
  },
  {
   "cell_type": "code",
   "execution_count": null,
   "metadata": {},
   "outputs": [],
   "source": [
    "# df_sep_500"
   ]
  },
  {
   "cell_type": "markdown",
   "metadata": {},
   "source": [
    "# Notes"
   ]
  },
  {
   "cell_type": "code",
   "execution_count": null,
   "metadata": {},
   "outputs": [],
   "source": [
    "# df_sep.drop(columns='91+ Days', inplace=True)\n",
    "# df_sep.astype({'91+ Days':float})\n",
    "# df_sep.rename(columns={'91+Days': '91+ Days'}, inplace=True)"
   ]
  },
  {
   "cell_type": "code",
   "execution_count": null,
   "metadata": {},
   "outputs": [],
   "source": [
    "# pd.set_option('mode.chained_assignment', None)\n",
    "# df_sep['current'] = df_sep[['current']].convert_objects(convert_numeric=True).fillna(0)\n",
    "# df_sep['1-30_days'] = df_sep[['1-30_days']].convert_objects(convert_numeric=True).fillna(0)\n",
    "# df_sep['31-60_days'] = df_sep[['31-60_days']].convert_objects(convert_numeric=True).fillna(0)\n",
    "# df_sep['61-90_days'] = df_sep[['61-90_days']].convert_objects(convert_numeric=True).fillna(0)\n",
    "# df_sep['91+ Days'] = df_sep[['91+ Days']].convert_objects(convert_numeric=True).fillna(0)\n",
    "\n",
    "# df_sep[['current']].infer_objects().fillna(0)\n"
   ]
  },
  {
   "cell_type": "code",
   "execution_count": null,
   "metadata": {},
   "outputs": [],
   "source": [
    "# df['A B C D'.split()].apply(np.argsort, axis=1).values\n",
    "# df_test_pos['Days'].apply(np.argsort).values"
   ]
  },
  {
   "cell_type": "code",
   "execution_count": null,
   "metadata": {},
   "outputs": [],
   "source": [
    "# for x in range(len(df_test)):\n",
    "#     name_neg = df_test['Name'].iloc[x]\n",
    "#     amount_neg = df_test['Amount'].iloc[x]\n",
    "#     name_count = df_test_pos['Name'].value_counts()[name_neg]\n",
    "#     for i in range(name_count):\n",
    "#         idmax = df_test_pos['Days'].where(df_test_pos['Name'] == name_neg).idxmax()\n",
    "#         val1 = df_test_pos['Amount'].iloc[idmax] + amount_neg\n",
    "#         print(val1)\n",
    "#         if val1 > 0:\n",
    "#             print(val1)\n",
    "#         else:\n",
    "#             print(\"nothing\")\n",
    "#             break"
   ]
  },
  {
   "cell_type": "code",
   "execution_count": null,
   "metadata": {},
   "outputs": [],
   "source": [
    "# df_test_pos['Name'].value_counts()\n",
    "# df_test_pos['Name'].value_counts()['Rachel']"
   ]
  },
  {
   "cell_type": "code",
   "execution_count": null,
   "metadata": {},
   "outputs": [],
   "source": [
    "# a.index(min(a))"
   ]
  },
  {
   "cell_type": "code",
   "execution_count": null,
   "metadata": {},
   "outputs": [],
   "source": [
    "# df_test_pos.index(max(df_test_pos['Days'].where(df_test_pos['Name'] == 'Rachel')))"
   ]
  },
  {
   "cell_type": "code",
   "execution_count": null,
   "metadata": {},
   "outputs": [],
   "source": [
    "# df_test_pos['Days'].get_loc(100)"
   ]
  },
  {
   "cell_type": "code",
   "execution_count": null,
   "metadata": {},
   "outputs": [],
   "source": [
    "# for x in range(len(df_test)):\n",
    "#     print(df_test['Amount'].iloc[x])\n",
    "#     val1 = df_test['Amount'].iloc[x]\n",
    "#     name1 = df_test['Name'].iloc[x]\n",
    "    \n",
    "#     df_test_pos['Name'] == name1\n",
    "\n",
    "# df_test_pos[(df_test_pos['Name'] == 'Rachel') & (df_test_pos['Days'].max())]\n",
    "\n",
    "# np.argmax(df_test_pos['Days'])"
   ]
  },
  {
   "cell_type": "code",
   "execution_count": null,
   "metadata": {},
   "outputs": [],
   "source": [
    "# df_curr_pos_2.groupby('days_over_due').sum()"
   ]
  },
  {
   "cell_type": "code",
   "execution_count": null,
   "metadata": {},
   "outputs": [],
   "source": [
    "# df_all_neg_2.rename(columns={'total_neg': 'amount'}, inplace=True)"
   ]
  },
  {
   "cell_type": "code",
   "execution_count": null,
   "metadata": {},
   "outputs": [],
   "source": [
    "# df_all_neg_2[df_all_neg_2['ar_account'] == 'Limited Boutique Supply']\n",
    "# df_all_pos[df_all_pos['ar_account'] == 'Limited Boutique Supply']"
   ]
  },
  {
   "cell_type": "code",
   "execution_count": null,
   "metadata": {},
   "outputs": [],
   "source": [
    "\n",
    "# df_feb = pd.read_csv('../ar_reports/orig/kiva_ar_2020_02_25.csv')"
   ]
  },
  {
   "cell_type": "code",
   "execution_count": null,
   "metadata": {},
   "outputs": [],
   "source": [
    "# pd.to_numeric(df_sep[['current'], ['30_days']])\n",
    "# df[['A', 'C']].apply(pd.to_numeric) "
   ]
  },
  {
   "cell_type": "code",
   "execution_count": null,
   "metadata": {},
   "outputs": [],
   "source": [
    "# df_all_pos[df_all_pos['ar_account'] == 'Eaze - NC3 Systems, Inc.']"
   ]
  }
 ],
 "metadata": {
  "kernelspec": {
   "display_name": "Python 3",
   "language": "python",
   "name": "python3"
  },
  "language_info": {
   "codemirror_mode": {
    "name": "ipython",
    "version": 3
   },
   "file_extension": ".py",
   "mimetype": "text/x-python",
   "name": "python",
   "nbconvert_exporter": "python",
   "pygments_lexer": "ipython3",
   "version": "3.7.3"
  }
 },
 "nbformat": 4,
 "nbformat_minor": 2
}
