{
 "cells": [
  {
   "cell_type": "code",
   "execution_count": null,
   "metadata": {},
   "outputs": [],
   "source": [
    "import pandas as pd\n",
    "import numpy as np\n",
    "from functools import reduce\n",
    "import pyodbc\n",
    "from sqlalchemy import create_engine\n",
    "import urllib"
   ]
  },
  {
   "cell_type": "code",
   "execution_count": null,
   "metadata": {},
   "outputs": [],
   "source": [
    "pd.options.display.min_rows = 100"
   ]
  },
  {
   "cell_type": "markdown",
   "metadata": {},
   "source": [
    "### need to do each report separtely. for delinq - if one line item is over 270 days then need to mark in csv file that all the line items for that ar account also have 1 for delinq for when it is merged later on"
   ]
  },
  {
   "cell_type": "code",
   "execution_count": null,
   "metadata": {},
   "outputs": [],
   "source": [
    "file = \"kind_origin_cannabis_ar\""
   ]
  },
  {
   "cell_type": "code",
   "execution_count": null,
   "metadata": {},
   "outputs": [],
   "source": [
    "# ar = pd.read_csv('../ar_reports/orig/desert_road_ar_02_29_2020.csv')"
   ]
  },
  {
   "cell_type": "code",
   "execution_count": null,
   "metadata": {},
   "outputs": [],
   "source": [
    "ar = pd.read_csv(f'../ar_reports/orig/{file}.csv')"
   ]
  },
  {
   "cell_type": "code",
   "execution_count": null,
   "metadata": {},
   "outputs": [],
   "source": [
    "ar"
   ]
  },
  {
   "cell_type": "code",
   "execution_count": null,
   "metadata": {},
   "outputs": [],
   "source": [
    "ar.dtypes"
   ]
  },
  {
   "cell_type": "code",
   "execution_count": null,
   "metadata": {
    "scrolled": true
   },
   "outputs": [],
   "source": [
    "ar.info()"
   ]
  },
  {
   "cell_type": "code",
   "execution_count": null,
   "metadata": {},
   "outputs": [],
   "source": [
    "ar.head(2)"
   ]
  },
  {
   "cell_type": "code",
   "execution_count": null,
   "metadata": {},
   "outputs": [],
   "source": [
    "ar.shape"
   ]
  },
  {
   "cell_type": "code",
   "execution_count": null,
   "metadata": {},
   "outputs": [],
   "source": [
    "# ar[ar['license_number'].isnull()]"
   ]
  },
  {
   "cell_type": "code",
   "execution_count": null,
   "metadata": {},
   "outputs": [],
   "source": [
    "# ar_final = ar[~ar['state_license'].isnull()]"
   ]
  },
  {
   "cell_type": "code",
   "execution_count": null,
   "metadata": {},
   "outputs": [],
   "source": [
    "# ar_final = ar"
   ]
  },
  {
   "cell_type": "code",
   "execution_count": null,
   "metadata": {},
   "outputs": [],
   "source": [
    "ar_final = ar[ar['license_number'] != '0']"
   ]
  },
  {
   "cell_type": "code",
   "execution_count": null,
   "metadata": {},
   "outputs": [],
   "source": [
    "# This should fix the negative sum of dpd in the combined list\n",
    "days_over_due = []\n",
    "for days in ar_final['days_over_due']:\n",
    "    if days < 0:\n",
    "        days = 0\n",
    "    days_over_due.append(days)\n",
    "ar_final['days_over_due'] = days_over_due"
   ]
  },
  {
   "cell_type": "code",
   "execution_count": null,
   "metadata": {},
   "outputs": [],
   "source": []
  },
  {
   "cell_type": "code",
   "execution_count": null,
   "metadata": {},
   "outputs": [],
   "source": [
    "# list2 = ar_final[ar_final['bal_out'] < 0].index\n",
    "# len(list2)"
   ]
  },
  {
   "cell_type": "code",
   "execution_count": null,
   "metadata": {},
   "outputs": [],
   "source": [
    "# pd.set_option('mode.chained_assignment', None)\n",
    "\n",
    "# ar_final['orig_amt'].loc[list2] = 0\n",
    "# ar_final['bal_out'].loc[list2] = 0\n",
    "# ar_final['current'].loc[list2] = 0\n",
    "# ar_final['30_days'].loc[list2] = 0\n",
    "# ar_final['60_days'].loc[list2] = 0\n",
    "# ar_final['90_days'].loc[list2] = 0\n",
    "# ar_final['over_90_days'].loc[list2] = 0"
   ]
  },
  {
   "cell_type": "code",
   "execution_count": null,
   "metadata": {},
   "outputs": [],
   "source": []
  },
  {
   "cell_type": "code",
   "execution_count": null,
   "metadata": {},
   "outputs": [],
   "source": [
    "# Idk why the above code was missing some negatives, but this clears that up\n",
    "\n",
    "for col in ['current', '30_days', '60_days', '90_days', 'over_90_days']:\n",
    "    cleaned_data = []\n",
    "    for num in ar_final[col]:\n",
    "        if num < 0:\n",
    "            num = 0\n",
    "        cleaned_data.append(num)\n",
    "    ar_final[col] = cleaned_data\n",
    "    \n",
    "for n in range(len(ar_final)):\n",
    "    if ar_final['orig_amt'].iloc[n] < 0:\n",
    "        ar_final['orig_amt'].iloc[n] = 0"
   ]
  },
  {
   "cell_type": "code",
   "execution_count": null,
   "metadata": {},
   "outputs": [],
   "source": [
    "ar_final"
   ]
  },
  {
   "cell_type": "code",
   "execution_count": null,
   "metadata": {},
   "outputs": [],
   "source": []
  },
  {
   "cell_type": "code",
   "execution_count": null,
   "metadata": {},
   "outputs": [],
   "source": []
  },
  {
   "cell_type": "code",
   "execution_count": null,
   "metadata": {},
   "outputs": [],
   "source": []
  },
  {
   "cell_type": "code",
   "execution_count": null,
   "metadata": {},
   "outputs": [],
   "source": [
    "count_payor = ar_final.groupby(['ar_account', 'date'], as_index=False)['license_number'].count()\n",
    "count_payor.rename(columns={'license_number': 'count_payor'}, inplace=True)"
   ]
  },
  {
   "cell_type": "code",
   "execution_count": null,
   "metadata": {},
   "outputs": [],
   "source": [
    "count_payor"
   ]
  },
  {
   "cell_type": "code",
   "execution_count": null,
   "metadata": {},
   "outputs": [],
   "source": []
  },
  {
   "cell_type": "code",
   "execution_count": null,
   "metadata": {},
   "outputs": [],
   "source": [
    "sum_days_over = ar_final.groupby(['ar_account', 'date'], as_index=False)['days_over_due'].sum()\n",
    "sum_orig_amt_clean = ar_final.groupby(['ar_account', 'date'], as_index=False)['orig_amt'].sum()\n",
    "sum_bal_out_clean = ar_final.groupby(['ar_account', 'date'], as_index=False)['bal_out'].sum()\n",
    "sum_current_clean = ar_final.groupby(['ar_account', 'date'], as_index=False)['current'].sum()\n",
    "sum_30_day_clean = ar_final.groupby(['ar_account', 'date'], as_index=False)['30_days'].sum()\n",
    "sum_60_day_clean = ar_final.groupby(['ar_account', 'date'], as_index=False)['60_days'].sum()\n",
    "sum_90_day_clean = ar_final.groupby(['ar_account', 'date'], as_index=False)['90_days'].sum()\n",
    "sum_over_90_day_clean = ar_final.groupby(['ar_account', 'date'], as_index=False)['over_90_days'].sum()"
   ]
  },
  {
   "cell_type": "code",
   "execution_count": null,
   "metadata": {},
   "outputs": [],
   "source": [
    "# Wrote this before I realized I sould just fix the one two below\n",
    "# count_payor.merge(sum_days_over).merge(sum_orig_amt_clean).merge(sum_bal_out_clean).merge(sum_current_clean).merge(sum_30_day_clean).merge(sum_60_day_clean).merge(sum_90_day_clean).merge(sum_over_90_day_clean)"
   ]
  },
  {
   "cell_type": "code",
   "execution_count": null,
   "metadata": {},
   "outputs": [],
   "source": [
    "count_payor"
   ]
  },
  {
   "cell_type": "code",
   "execution_count": null,
   "metadata": {},
   "outputs": [],
   "source": []
  },
  {
   "cell_type": "code",
   "execution_count": null,
   "metadata": {},
   "outputs": [],
   "source": [
    "data_frames = [count_payor, sum_days_over, sum_orig_amt_clean, sum_bal_out_clean, sum_current_clean, sum_30_day_clean,\n",
    "               sum_60_day_clean, sum_90_day_clean, sum_over_90_day_clean]"
   ]
  },
  {
   "cell_type": "code",
   "execution_count": null,
   "metadata": {},
   "outputs": [],
   "source": [
    "df_sums = reduce(lambda left,right: pd.merge(left,right,on=['ar_account', 'date'], how='outer'), data_frames)"
   ]
  },
  {
   "cell_type": "code",
   "execution_count": null,
   "metadata": {},
   "outputs": [],
   "source": [
    "df_sums.head()"
   ]
  },
  {
   "cell_type": "code",
   "execution_count": null,
   "metadata": {},
   "outputs": [],
   "source": []
  },
  {
   "cell_type": "code",
   "execution_count": null,
   "metadata": {},
   "outputs": [],
   "source": [
    "ar_final"
   ]
  },
  {
   "cell_type": "code",
   "execution_count": null,
   "metadata": {},
   "outputs": [],
   "source": []
  },
  {
   "cell_type": "code",
   "execution_count": null,
   "metadata": {},
   "outputs": [],
   "source": [
    "ar_final['delinquent'] = 0"
   ]
  },
  {
   "cell_type": "code",
   "execution_count": null,
   "metadata": {},
   "outputs": [],
   "source": []
  },
  {
   "cell_type": "code",
   "execution_count": null,
   "metadata": {},
   "outputs": [],
   "source": [
    "ar_to_merge = ar_final[['license_number', 'license_provided', 'ar_account', 'date', 'client', 'summary','delinquent']]"
   ]
  },
  {
   "cell_type": "code",
   "execution_count": null,
   "metadata": {},
   "outputs": [],
   "source": [
    "pd.set_option('mode.chained_assignment', None)\n",
    "\n",
    "ar_to_merge.drop_duplicates(subset='ar_account', keep='first', inplace=True)"
   ]
  },
  {
   "cell_type": "code",
   "execution_count": null,
   "metadata": {},
   "outputs": [],
   "source": []
  },
  {
   "cell_type": "code",
   "execution_count": null,
   "metadata": {},
   "outputs": [],
   "source": [
    "df_sums = pd.merge(df_sums, ar_to_merge.drop(columns={'date'}), on=['ar_account'], how='outer')"
   ]
  },
  {
   "cell_type": "code",
   "execution_count": null,
   "metadata": {},
   "outputs": [],
   "source": [
    "df_sums.rename(columns={'days_over_due': 'sum_days_over'}, inplace=True)"
   ]
  },
  {
   "cell_type": "code",
   "execution_count": null,
   "metadata": {},
   "outputs": [],
   "source": [
    "df_sums"
   ]
  },
  {
   "cell_type": "code",
   "execution_count": null,
   "metadata": {},
   "outputs": [],
   "source": []
  },
  {
   "cell_type": "code",
   "execution_count": null,
   "metadata": {},
   "outputs": [],
   "source": [
    "df_final = df_sums[['license_number', \n",
    "          'license_provided',\n",
    "          'ar_account', \n",
    "          'count_payor', \n",
    "          'sum_days_over',\n",
    "           'orig_amt', \n",
    "          'bal_out', \n",
    "          'current', \n",
    "          '30_days', \n",
    "          '60_days', \n",
    "          '90_days',\n",
    "           'over_90_days', \n",
    "          'delinquent', \n",
    "          'date', \n",
    "          'client', \n",
    "          'summary'\n",
    "       ]]"
   ]
  },
  {
   "cell_type": "code",
   "execution_count": null,
   "metadata": {},
   "outputs": [],
   "source": [
    "df_final"
   ]
  },
  {
   "cell_type": "code",
   "execution_count": null,
   "metadata": {
    "scrolled": true
   },
   "outputs": [],
   "source": [
    "df_final[df_final['delinquent'] == 1]"
   ]
  },
  {
   "cell_type": "code",
   "execution_count": null,
   "metadata": {},
   "outputs": [],
   "source": [
    "df_final"
   ]
  },
  {
   "cell_type": "code",
   "execution_count": null,
   "metadata": {},
   "outputs": [],
   "source": []
  },
  {
   "cell_type": "code",
   "execution_count": null,
   "metadata": {},
   "outputs": [],
   "source": []
  },
  {
   "cell_type": "code",
   "execution_count": null,
   "metadata": {},
   "outputs": [],
   "source": [
    "# This code should remove the negatives that were previousloy missed\n",
    "\n",
    "df_final['not_neg'] = df_final['bal_out'] > 0\n",
    "\n",
    "df_final\n",
    "\n",
    "df_not_neg = df_final[df_final['not_neg'] == True]\n",
    "df_not_neg = df_not_neg.reset_index().drop(columns={'not_neg', 'index'})"
   ]
  },
  {
   "cell_type": "code",
   "execution_count": null,
   "metadata": {},
   "outputs": [],
   "source": [
    "df_not_neg"
   ]
  },
  {
   "cell_type": "code",
   "execution_count": null,
   "metadata": {},
   "outputs": [],
   "source": []
  },
  {
   "cell_type": "code",
   "execution_count": null,
   "metadata": {},
   "outputs": [],
   "source": [
    "df_not_neg.to_csv(f'../ar_reports/orig/no_neg/{file}_no_neg.csv', index=False)"
   ]
  },
  {
   "cell_type": "code",
   "execution_count": null,
   "metadata": {},
   "outputs": [],
   "source": [
    "# df_final.to_csv(f'../ar_reports/orig/no_neg/{file}_no_neg.csv', index=False)"
   ]
  },
  {
   "cell_type": "code",
   "execution_count": null,
   "metadata": {},
   "outputs": [],
   "source": []
  }
 ],
 "metadata": {
  "kernelspec": {
   "display_name": "Python 3",
   "language": "python",
   "name": "python3"
  },
  "language_info": {
   "codemirror_mode": {
    "name": "ipython",
    "version": 3
   },
   "file_extension": ".py",
   "mimetype": "text/x-python",
   "name": "python",
   "nbconvert_exporter": "python",
   "pygments_lexer": "ipython3",
   "version": "3.7.3"
  }
 },
 "nbformat": 4,
 "nbformat_minor": 2
}
