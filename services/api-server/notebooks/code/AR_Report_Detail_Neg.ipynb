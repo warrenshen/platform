{
 "cells": [
  {
   "cell_type": "code",
   "execution_count": null,
   "metadata": {},
   "outputs": [],
   "source": [
    "import pandas as pd\n",
    "import numpy as np\n",
    "from functools import reduce\n",
    "import pyodbc\n",
    "from sqlalchemy import create_engine\n",
    "import urllib"
   ]
  },
  {
   "cell_type": "code",
   "execution_count": null,
   "metadata": {},
   "outputs": [],
   "source": [
    "# ar = pd.read_csv('../ar_reports/orig/legion_of_bloom_detail.csv')\n",
    "# ar = pd.read_csv('../ar_reports/orig/biscotti_ar.csv')\n",
    "# ar = pd.read_csv('../ar_reports/orig/elefante_ar.csv')\n",
    "# ar = pd.read_csv('../ar_reports/orig/dna_organics_ar.csv')\n",
    "# ar = pd.read_csv('../ar_reports/orig/jc_rad_ar.csv')\n",
    "# ar = pd.read_csv('../ar_reports/orig/mgvs_ar.csv')\n",
    "# ar = pd.read_csv('../ar_reports/orig/crown_genetics_ar.csv')\n",
    "# ar = pd.read_csv('../ar_reports/orig/lifted_ar.csv')\n",
    "# ar = pd.read_csv('../ar_reports/orig/herer_ar.csv')\n",
    "# ar = pd.read_csv('../ar_reports/orig/sd_strains_ar.csv')"
   ]
  },
  {
   "cell_type": "code",
   "execution_count": null,
   "metadata": {},
   "outputs": [],
   "source": [
    "file = \"bear_extraction_ar\""
   ]
  },
  {
   "cell_type": "code",
   "execution_count": null,
   "metadata": {},
   "outputs": [],
   "source": [
    "ar = pd.read_csv(f'../ar_reports/orig/{file}.csv')"
   ]
  },
  {
   "cell_type": "code",
   "execution_count": null,
   "metadata": {},
   "outputs": [],
   "source": []
  },
  {
   "cell_type": "code",
   "execution_count": null,
   "metadata": {},
   "outputs": [],
   "source": [
    "ar.head(2)"
   ]
  },
  {
   "cell_type": "code",
   "execution_count": null,
   "metadata": {},
   "outputs": [],
   "source": [
    "ar.info()"
   ]
  },
  {
   "cell_type": "code",
   "execution_count": null,
   "metadata": {},
   "outputs": [],
   "source": [
    "# ar_null_license = ar[ar['state_license'].isnull()]\n",
    "# ar_full_license = ar[~ar['state_license'].isnull()]"
   ]
  },
  {
   "cell_type": "code",
   "execution_count": null,
   "metadata": {},
   "outputs": [],
   "source": [
    "ar_final = ar[ar['license_number'] != '0']"
   ]
  },
  {
   "cell_type": "code",
   "execution_count": null,
   "metadata": {},
   "outputs": [],
   "source": [
    "ar_final"
   ]
  },
  {
   "cell_type": "code",
   "execution_count": null,
   "metadata": {},
   "outputs": [],
   "source": [
    "ar_final[ar_final['days_over_due'] <0]"
   ]
  },
  {
   "cell_type": "code",
   "execution_count": null,
   "metadata": {},
   "outputs": [],
   "source": [
    "for i in range(len(ar_final)):\n",
    "    if ar_final['days_over_due'].iloc[i] < 0:\n",
    "        ar_final['days_over_due'].iloc[i] = 0\n",
    "    if ar_final['orig_amt'].iloc[i] < 0:\n",
    "        ar_final['orig_amt'].iloc[i] = 0\n",
    "    if ar_final['current'].iloc[i] < 0:\n",
    "        ar_final['current'].iloc[i] = 0\n",
    "    if ar_final['30_days'].iloc[i] < 0:\n",
    "        ar_final['30_days'].iloc[i] = 0\n",
    "    if ar_final['60_days'].iloc[i] < 0:\n",
    "        ar_final['60_days'].iloc[i] = 0\n",
    "    if ar_final['90_days'].iloc[i] < 0:\n",
    "        ar_final['90_days'].iloc[i] = 0\n",
    "    if ar_final['over_90_days'].iloc[i] < 0:\n",
    "        ar_final['over_90_days'].iloc[i] = 0"
   ]
  },
  {
   "cell_type": "code",
   "execution_count": null,
   "metadata": {},
   "outputs": [],
   "source": [
    "count_payor = ar_final.groupby(['ar_account', 'date'], as_index=False)['license_number'].count()"
   ]
  },
  {
   "cell_type": "code",
   "execution_count": null,
   "metadata": {},
   "outputs": [],
   "source": [
    "# count_payor = ar_final.groupby('ar_account', as_index=False)['license_number'].count()"
   ]
  },
  {
   "cell_type": "code",
   "execution_count": null,
   "metadata": {},
   "outputs": [],
   "source": [
    "count_payor.head()"
   ]
  },
  {
   "cell_type": "code",
   "execution_count": null,
   "metadata": {},
   "outputs": [],
   "source": [
    "count_payor.rename(columns={'license_number': 'count_payor'}, inplace=True)"
   ]
  },
  {
   "cell_type": "code",
   "execution_count": null,
   "metadata": {},
   "outputs": [],
   "source": [
    "sum_days_over = ar_final.groupby(['ar_account', 'date'], as_index=False)['days_over_due'].sum()\n",
    "sum_orig_amt_clean = ar_final.groupby(['ar_account', 'date'], as_index=False)['orig_amt'].sum()\n",
    "sum_bal_out_clean = ar_final.groupby(['ar_account', 'date'], as_index=False)['bal_out'].sum()\n",
    "sum_current_clean = ar_final.groupby(['ar_account', 'date'], as_index=False)['current'].sum()\n",
    "sum_30_day_clean = ar_final.groupby(['ar_account', 'date'], as_index=False)['30_days'].sum()\n",
    "sum_60_day_clean = ar_final.groupby(['ar_account', 'date'], as_index=False)['60_days'].sum()\n",
    "sum_90_day_clean = ar_final.groupby(['ar_account', 'date'], as_index=False)['90_days'].sum()\n",
    "sum_over_90_day_clean = ar_final.groupby(['ar_account', 'date'], as_index=False)['over_90_days'].sum()"
   ]
  },
  {
   "cell_type": "code",
   "execution_count": null,
   "metadata": {},
   "outputs": [],
   "source": [
    "# sum_delinquent_clean = ar_final.groupby(['ar_account', 'date'], as_index=False)['delinquent'].max()"
   ]
  },
  {
   "cell_type": "code",
   "execution_count": null,
   "metadata": {},
   "outputs": [],
   "source": [
    "# sum_delinquent_clean"
   ]
  },
  {
   "cell_type": "code",
   "execution_count": null,
   "metadata": {},
   "outputs": [],
   "source": [
    "# sum_days_over = ar_final.groupby('ar_account', as_index=False)['days_over_due'].sum()\n",
    "# sum_orig_amt_clean = ar_final.groupby('ar_account', as_index=False)['orig_amt'].sum()\n",
    "# sum_bal_out_clean = ar_final.groupby('ar_account', as_index=False)['bal_out'].sum()\n",
    "# sum_current_clean = ar_final.groupby('ar_account', as_index=False)['current'].sum()\n",
    "# sum_30_day_clean = ar_final.groupby('ar_account', as_index=False)['30_days'].sum()\n",
    "# sum_60_day_clean = ar_final.groupby('ar_account', as_index=False)['60_days'].sum()\n",
    "# sum_90_day_clean = ar_final.groupby('ar_account', as_index=False)['90_days'].sum()\n",
    "# sum_over_90_day_clean = ar_final.groupby('ar_account', as_index=False)['over_90_days'].sum()"
   ]
  },
  {
   "cell_type": "code",
   "execution_count": null,
   "metadata": {},
   "outputs": [],
   "source": [
    "data_frames = [count_payor, sum_days_over, sum_orig_amt_clean, sum_bal_out_clean, sum_current_clean, sum_30_day_clean,\n",
    "               sum_60_day_clean, sum_90_day_clean, sum_over_90_day_clean]\n",
    "#               sum_delinquent_clean]"
   ]
  },
  {
   "cell_type": "code",
   "execution_count": null,
   "metadata": {},
   "outputs": [],
   "source": [
    "df_sums = reduce(lambda left,right: pd.merge(left,right,on=['ar_account', 'date'], how='outer'), data_frames)"
   ]
  },
  {
   "cell_type": "code",
   "execution_count": null,
   "metadata": {},
   "outputs": [],
   "source": [
    "# df_sums = reduce(lambda left,right: pd.merge(left,right,on=['ar_account'], how='outer'), data_frames)"
   ]
  },
  {
   "cell_type": "code",
   "execution_count": null,
   "metadata": {},
   "outputs": [],
   "source": [
    "df_sums"
   ]
  },
  {
   "cell_type": "code",
   "execution_count": null,
   "metadata": {},
   "outputs": [],
   "source": [
    "ar_to_merge = ar_final[['license_number', 'ar_account']]"
   ]
  },
  {
   "cell_type": "code",
   "execution_count": null,
   "metadata": {},
   "outputs": [],
   "source": [
    "len(ar_to_merge)"
   ]
  },
  {
   "cell_type": "code",
   "execution_count": null,
   "metadata": {},
   "outputs": [],
   "source": [
    "ar_to_merge"
   ]
  },
  {
   "cell_type": "markdown",
   "metadata": {},
   "source": [
    "drop duplicates in the list that has the license numbers associated with all ar accounts from file"
   ]
  },
  {
   "cell_type": "code",
   "execution_count": null,
   "metadata": {},
   "outputs": [],
   "source": [
    "pd.set_option('mode.chained_assignment', None)\n",
    "\n",
    "ar_to_merge.drop_duplicates(subset='ar_account', keep='first', inplace=True)"
   ]
  },
  {
   "cell_type": "code",
   "execution_count": null,
   "metadata": {},
   "outputs": [],
   "source": [
    "df_sums = pd.merge(df_sums, ar_to_merge, on='ar_account', how='outer')"
   ]
  },
  {
   "cell_type": "code",
   "execution_count": null,
   "metadata": {},
   "outputs": [],
   "source": [
    "df_sums"
   ]
  },
  {
   "cell_type": "code",
   "execution_count": null,
   "metadata": {},
   "outputs": [],
   "source": [
    "list2 = df_sums[df_sums['bal_out'] < 0].index\n",
    "len(list2)"
   ]
  },
  {
   "cell_type": "code",
   "execution_count": null,
   "metadata": {},
   "outputs": [],
   "source": [
    "pd.set_option('mode.chained_assignment', None)\n",
    "\n",
    "df_sums['orig_amt'].loc[list2] = 0\n",
    "df_sums['bal_out'].loc[list2] = 0\n",
    "df_sums['current'].loc[list2] = 0\n",
    "df_sums['30_days'].loc[list2] = 0\n",
    "df_sums['60_days'].loc[list2] = 0\n",
    "df_sums['90_days'].loc[list2] = 0\n",
    "df_sums['over_90_days'].loc[list2] = 0"
   ]
  },
  {
   "cell_type": "code",
   "execution_count": null,
   "metadata": {},
   "outputs": [],
   "source": [
    "for x in range(len(df_sums)):\n",
    "    if df_sums['over_90_days'].iloc[x] < 0:\n",
    "        val1 = df_sums['over_90_days'].iloc[x] + df_sums['90_days'].iloc[x]\n",
    "        if val1 < 0:\n",
    "            val2 = df_sums['60_days'].iloc[x] + val1\n",
    "            if val2 < 0:\n",
    "                val3 = df_sums['30_days'].iloc[x] + val2\n",
    "                if val3 < 0:\n",
    "                    val4 = df_sums['current'].iloc[x] + val3\n",
    "                    df_sums['over_90_days'].iloc[x] = 0\n",
    "                    df_sums['90_days'].iloc[x] = 0\n",
    "                    df_sums['60_days'].iloc[x] = 0\n",
    "                    df_sums['30_days'].iloc[x] = 0\n",
    "                    df_sums['current'].iloc[x] = val4\n",
    "                else:\n",
    "                    df_sums['over_90_days'].iloc[x] = 0\n",
    "                    df_sums['90_days'].iloc[x] = 0\n",
    "                    df_sums['60_days'].iloc[x] = 0\n",
    "                    df_sums['30_days'].iloc[x] = val3\n",
    "            else:\n",
    "                df_sums['over_90_days'].iloc[x] = 0\n",
    "                df_sums['90_days'].iloc[x] = 0\n",
    "                df_sums['60_days'].iloc[x] = val2\n",
    "        else:\n",
    "            df_sums['over_90_days'].iloc[x] = 0\n",
    "            df_sums['90_days'].iloc[x] = val1\n",
    "                    "
   ]
  },
  {
   "cell_type": "code",
   "execution_count": null,
   "metadata": {},
   "outputs": [],
   "source": [
    "for x in range(len(df_sums)):\n",
    "    if df_sums['90_days'].iloc[x] < 0:\n",
    "        val1 = df_sums['90_days'].iloc[x] + df_sums['60_days'].iloc[x]\n",
    "        if val1 < 0:\n",
    "            val2 = df_sums['30_days'].iloc[x] + val1\n",
    "            if val2 < 0:\n",
    "                val3 = df_sums['current'].iloc[x] + val2\n",
    "                df_sums['90_days'].iloc[x] = 0\n",
    "                df_sums['60_days'].iloc[x] = 0\n",
    "                df_sums['30_days'].iloc[x] = 0\n",
    "                df_sums['current'].iloc[x] = val3\n",
    "            else:\n",
    "                df_sums['90_days'].iloc[x] = 0\n",
    "                df_sums['60_days'].iloc[x] = 0\n",
    "                df_sums['30_days'].iloc[x] = val2\n",
    "        else:\n",
    "            df_sums['90_days'].iloc[x] = 0\n",
    "            df_sums['60_days'].iloc[x] = val1\n",
    "          "
   ]
  },
  {
   "cell_type": "code",
   "execution_count": null,
   "metadata": {},
   "outputs": [],
   "source": [
    "for x in range(len(df_sums)):\n",
    "    if df_sums['60_days'].iloc[x] < 0:\n",
    "        val1 = df_sums['60_days'].iloc[x] + df_sums['30_days'].iloc[x]\n",
    "        if val1 < 0:\n",
    "            val2 = df_sums['current'].iloc[x] + val1\n",
    "            df_sums['60_days'].iloc[x] = 0\n",
    "            df_sums['30_days'].iloc[x] = 0\n",
    "            df_sums['current'].iloc[x] = val2\n",
    "        else:\n",
    "            df_sums['60_days'].iloc[x] = 0\n",
    "            df_sums['30_days'].iloc[x] = val1"
   ]
  },
  {
   "cell_type": "code",
   "execution_count": null,
   "metadata": {},
   "outputs": [],
   "source": [
    "for x in range(len(df_sums)):\n",
    "    if df_sums['30_days'].iloc[x] < 0:\n",
    "        val1 = df_sums['30_days'].iloc[x] + df_sums['current'].iloc[x]\n",
    "        df_sums['30_days'].iloc[x] = 0\n",
    "        df_sums['current'].iloc[x] = val1"
   ]
  },
  {
   "cell_type": "code",
   "execution_count": null,
   "metadata": {},
   "outputs": [],
   "source": [
    "for x in range(len(df_sums)):\n",
    "    if df_sums['current'].iloc[x] < 0:\n",
    "        val1 = df_sums['current'].iloc[x] + df_sums['30_days'].iloc[x]\n",
    "        if val1 < 0:\n",
    "            val2 = df_sums['60_days'].iloc[x] + val1\n",
    "            if val2 < 0:\n",
    "                val3 = df_sums['90_days'].iloc[x] + val2\n",
    "                if val3 < 0:\n",
    "                    val4 = df_sums['over_90_days'].iloc[x] + val3\n",
    "                    df_sums['current'].iloc[x] = 0\n",
    "                    df_sums['30_days'].iloc[x] = 0\n",
    "                    df_sums['60_days'].iloc[x] = 0\n",
    "                    df_sums['90_days'].iloc[x] = 0\n",
    "                    df_sums['over_90_days'].iloc[x] = val4\n",
    "                else:\n",
    "                    df_sums['current'].iloc[x] = 0\n",
    "                    df_sums['30_days'].iloc[x] = 0\n",
    "                    df_sums['60_days'].iloc[x] = 0\n",
    "                    df_sums['over_90_days'].iloc[x] = val3\n",
    "            else:\n",
    "                df_sums['current'].iloc[x] = 0\n",
    "                df_sums['30_days'].iloc[x] = 0\n",
    "                df_sums['60_days'].iloc[x] = val2\n",
    "        else:\n",
    "            df_sums['current'].iloc[x] = 0\n",
    "            df_sums['30_days'].iloc[x] = val1\n",
    "                    "
   ]
  },
  {
   "cell_type": "code",
   "execution_count": null,
   "metadata": {},
   "outputs": [],
   "source": [
    "df_sums.head(1)"
   ]
  },
  {
   "cell_type": "code",
   "execution_count": null,
   "metadata": {},
   "outputs": [],
   "source": [
    "list1 = df_sums.iloc[:,5:9].apply(lambda x: pd.Series([(x < 0).sum()]), axis=1)\n",
    "max(list1)"
   ]
  },
  {
   "cell_type": "code",
   "execution_count": null,
   "metadata": {},
   "outputs": [],
   "source": [
    "df_final = df_sums"
   ]
  },
  {
   "cell_type": "code",
   "execution_count": null,
   "metadata": {},
   "outputs": [],
   "source": [
    "df_final"
   ]
  },
  {
   "cell_type": "code",
   "execution_count": null,
   "metadata": {},
   "outputs": [],
   "source": [
    "# df_final['date'] = pd.datetime(2019, 6, 30)\n",
    "# df_final['client'] = 'Kiva'"
   ]
  },
  {
   "cell_type": "code",
   "execution_count": null,
   "metadata": {},
   "outputs": [],
   "source": [
    "df_final['summary'] = 0"
   ]
  },
  {
   "cell_type": "code",
   "execution_count": null,
   "metadata": {},
   "outputs": [],
   "source": [
    "df_final['license_provided'] = 0"
   ]
  },
  {
   "cell_type": "code",
   "execution_count": null,
   "metadata": {},
   "outputs": [],
   "source": [
    "df_final"
   ]
  },
  {
   "cell_type": "code",
   "execution_count": null,
   "metadata": {},
   "outputs": [],
   "source": [
    "df_final.rename(columns={'days_over_due': 'sum_days_over'}, inplace=True)"
   ]
  },
  {
   "cell_type": "code",
   "execution_count": null,
   "metadata": {},
   "outputs": [],
   "source": [
    "df_final['delinquent'] = 0"
   ]
  },
  {
   "cell_type": "code",
   "execution_count": null,
   "metadata": {},
   "outputs": [],
   "source": [
    "df_final = df_final[['license_number', \n",
    "          'license_provided',\n",
    "          'ar_account', \n",
    "          'count_payor', \n",
    "          'sum_days_over',\n",
    "           'orig_amt', \n",
    "          'bal_out', \n",
    "          'current', \n",
    "          '30_days', \n",
    "          '60_days', \n",
    "          '90_days',\n",
    "           'over_90_days', \n",
    "          'delinquent', \n",
    "          'date', \n",
    "          'client', \n",
    "          'summary'\n",
    "       ]]"
   ]
  },
  {
   "cell_type": "code",
   "execution_count": null,
   "metadata": {},
   "outputs": [],
   "source": [
    "df_final.to_csv(f'../ar_reports/orig/no_neg/{file}.csv', index=False)"
   ]
  },
  {
   "cell_type": "code",
   "execution_count": null,
   "metadata": {},
   "outputs": [],
   "source": []
  },
  {
   "cell_type": "code",
   "execution_count": null,
   "metadata": {},
   "outputs": [],
   "source": []
  },
  {
   "cell_type": "code",
   "execution_count": null,
   "metadata": {},
   "outputs": [],
   "source": [
    "# df_delinq = pd.read_csv('../ar_reports/orig/no_neg/LOB_delinq.csv')\n",
    "# df_delinq.head(1)\n",
    "# df_final['delinquent'] = df_final['ar_account'].isin(df_delinq['ar_account']).astype(int)\n",
    "# len(df_final[df_final['delinquent'] == 1])"
   ]
  },
  {
   "cell_type": "code",
   "execution_count": null,
   "metadata": {},
   "outputs": [],
   "source": [
    "# ar.drop(columns='Unnamed: 15', inplace=True)"
   ]
  },
  {
   "cell_type": "code",
   "execution_count": null,
   "metadata": {},
   "outputs": [],
   "source": [
    "# df_sums.rename(columns={'state_license': 'license_number'}, inplace=True)aaaa"
   ]
  },
  {
   "cell_type": "code",
   "execution_count": null,
   "metadata": {},
   "outputs": [],
   "source": [
    "# ar_full_license = ar[~ar['state_license'].isnull()]\n",
    "# ar_missing = ar_null_license['ar_account'].unique()\n",
    "# num_vals = len(ar_missing)\n",
    "# array_list = []\n",
    "# max_val = 0\n",
    "# for i in range(num_vals):\n",
    "#     array_list.append(\"assign_\" + str(max_val))\n",
    "#     max_val += 1\n",
    "# id_array = np.asarray(array_list)\n",
    "# pd_miss_fill = pd.DataFrame({'ar_account': ar_missing, 'state_license': id_array})\n",
    "# ar_null_pd = ar_null_license.drop(columns='state_license')\n",
    "# ar_fill = ar_null_pd.merge(pd_miss_fill, on='ar_account', how='left')\n",
    "# ar_final = ar_full_license.append(ar_fill, sort=False, ignore_index=True)"
   ]
  }
 ],
 "metadata": {
  "kernelspec": {
   "display_name": "Python 3",
   "language": "python",
   "name": "python3"
  },
  "language_info": {
   "codemirror_mode": {
    "name": "ipython",
    "version": 3
   },
   "file_extension": ".py",
   "mimetype": "text/x-python",
   "name": "python",
   "nbconvert_exporter": "python",
   "pygments_lexer": "ipython3",
   "version": "3.7.3"
  }
 },
 "nbformat": 4,
 "nbformat_minor": 2
}
