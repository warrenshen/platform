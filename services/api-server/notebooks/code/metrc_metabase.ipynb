{
 "cells": [
  {
   "cell_type": "code",
   "execution_count": null,
   "metadata": {},
   "outputs": [],
   "source": [
    "import pandas as pd\n",
    "import seaborn as sns\n",
    "import matplotlib.pyplot as plt\n",
    "import numpy as np\n",
    "import matplotlib.patches as mpatches"
   ]
  },
  {
   "cell_type": "code",
   "execution_count": null,
   "metadata": {},
   "outputs": [],
   "source": [
    "df = pd.read_excel('../metrc/dreamfields outgoing wholesale transfers.xlsx')"
   ]
  },
  {
   "cell_type": "code",
   "execution_count": null,
   "metadata": {},
   "outputs": [],
   "source": [
    "df.info()"
   ]
  },
  {
   "cell_type": "code",
   "execution_count": null,
   "metadata": {},
   "outputs": [],
   "source": [
    "sns.boxplot(x=df['shipper_wholesale_price'])"
   ]
  },
  {
   "cell_type": "code",
   "execution_count": null,
   "metadata": {},
   "outputs": [],
   "source": [
    "df[df['shipper_wholesale_price'] > 1000000]"
   ]
  },
  {
   "cell_type": "code",
   "execution_count": null,
   "metadata": {},
   "outputs": [],
   "source": [
    "df.drop([29469], inplace=True)"
   ]
  },
  {
   "cell_type": "code",
   "execution_count": null,
   "metadata": {},
   "outputs": [],
   "source": [
    "sns.boxplot(x=df['shipper_wholesale_price'])"
   ]
  },
  {
   "cell_type": "code",
   "execution_count": null,
   "metadata": {},
   "outputs": [],
   "source": [
    "df[df['shipper_wholesale_price'] < 1]"
   ]
  },
  {
   "cell_type": "code",
   "execution_count": null,
   "metadata": {},
   "outputs": [],
   "source": [
    "df_1 = df[df['shipper_wholesale_price'] > 1]"
   ]
  },
  {
   "cell_type": "code",
   "execution_count": null,
   "metadata": {},
   "outputs": [],
   "source": [
    "df_1"
   ]
  },
  {
   "cell_type": "code",
   "execution_count": null,
   "metadata": {},
   "outputs": [],
   "source": [
    "sns.boxplot(x=df_1['shipper_wholesale_price'])"
   ]
  },
  {
   "cell_type": "code",
   "execution_count": null,
   "metadata": {},
   "outputs": [],
   "source": [
    "#sum wholesale price off of date"
   ]
  },
  {
   "cell_type": "code",
   "execution_count": null,
   "metadata": {},
   "outputs": [],
   "source": [
    "df_month = df_1.resample('M', on='created_date').shipper_wholesale_price.sum()"
   ]
  },
  {
   "cell_type": "code",
   "execution_count": null,
   "metadata": {},
   "outputs": [],
   "source": [
    "df_month = df_month.to_frame()"
   ]
  },
  {
   "cell_type": "code",
   "execution_count": null,
   "metadata": {},
   "outputs": [],
   "source": [
    "df_month=df_month.reset_index()"
   ]
  },
  {
   "cell_type": "code",
   "execution_count": null,
   "metadata": {},
   "outputs": [],
   "source": [
    "df_month.info()"
   ]
  },
  {
   "cell_type": "code",
   "execution_count": null,
   "metadata": {},
   "outputs": [],
   "source": [
    "df_june = df_month.drop([6])"
   ]
  },
  {
   "cell_type": "code",
   "execution_count": null,
   "metadata": {},
   "outputs": [],
   "source": [
    "df_june"
   ]
  },
  {
   "cell_type": "code",
   "execution_count": null,
   "metadata": {},
   "outputs": [],
   "source": [
    "#sns.set(style='darkgrid')\n",
    "#ax = sns.barplot(x=\"created_date\", y='shipper_wholesale_price', data= df_month, color='blue')\n",
    "\n",
    "\n",
    "fig, ax = plt.subplots(figsize = (12,6))    \n",
    "fig = sns.barplot(x = \"created_date\", y = \"shipper_wholesale_price\", data = df_june, color= 'salmon', ax=ax)\n",
    "\n",
    "x_dates = df_month['created_date'].dt.strftime('%m-%d-%Y').sort_values().unique()\n",
    "ax.set_xticklabels(labels=x_dates, rotation=45, ha='right')\n",
    "\n",
    "ylabels = ['{:,.2f}'.format(y) for y in ax.get_yticks()]\n",
    "ax.set_yticklabels(ylabels)\n",
    "\n",
    "\n",
    "plt.tight_layout()\n"
   ]
  },
  {
   "cell_type": "code",
   "execution_count": null,
   "metadata": {},
   "outputs": [],
   "source": [
    "import pyodbc\n",
    "from pathlib import Path\n",
    "from sqlalchemy import create_engine"
   ]
  },
  {
   "cell_type": "code",
   "execution_count": null,
   "metadata": {},
   "outputs": [],
   "source": [
    "cnxn = pyodbc.connect(server = 'bespoke-database-1.cmevrozrcs7c.us-west-2.rds.amazonaws.com', \n",
    "                      driver = '{ODBC Driver 17 for SQL Server}',\n",
    "                      database = 'ar_reports',\n",
    "                      UID = 'admin',\n",
    "                      PWD = 'N19lrqxnurTUJLJT6GFe')"
   ]
  },
  {
   "cell_type": "code",
   "execution_count": null,
   "metadata": {},
   "outputs": [],
   "source": [
    "sql_ar = pd.read_sql(\"SELECT * FROM ar_data\", cnxn)"
   ]
  },
  {
   "cell_type": "code",
   "execution_count": null,
   "metadata": {},
   "outputs": [],
   "source": [
    "sql_ar.to_excel('../ar_reports_manual_sql_export/ar_all.xlsx')"
   ]
  },
  {
   "cell_type": "code",
   "execution_count": null,
   "metadata": {},
   "outputs": [],
   "source": [
    "ar_headwaters = sql_ar[sql_ar['client'] == 'Headwaters']"
   ]
  },
  {
   "cell_type": "code",
   "execution_count": null,
   "metadata": {},
   "outputs": [],
   "source": [
    "ar_headwaters.groupby('date').sum()"
   ]
  },
  {
   "cell_type": "code",
   "execution_count": null,
   "metadata": {},
   "outputs": [],
   "source": [
    "sql_df = sql_ar[sql_ar['license_number'] == 'C11-0000314-LIC']"
   ]
  },
  {
   "cell_type": "code",
   "execution_count": null,
   "metadata": {},
   "outputs": [],
   "source": [
    "sql_ar[sql_ar['license_number'] == 'CDPH-10003525']"
   ]
  },
  {
   "cell_type": "code",
   "execution_count": null,
   "metadata": {},
   "outputs": [],
   "source": [
    "sql_df.groupby(by='client').sum().style.format('{:,}')"
   ]
  },
  {
   "cell_type": "code",
   "execution_count": null,
   "metadata": {},
   "outputs": [],
   "source": [
    "# sql_df.groupby(by='date').sum()"
   ]
  },
  {
   "cell_type": "code",
   "execution_count": null,
   "metadata": {},
   "outputs": [],
   "source": [
    "# sql_df.groupby(by='client').count()"
   ]
  },
  {
   "cell_type": "code",
   "execution_count": null,
   "metadata": {},
   "outputs": [],
   "source": [
    "# sql_df[sql_df['client'] == 'Headwaters'].groupby('date').sum().style.format('{:,}')"
   ]
  },
  {
   "cell_type": "code",
   "execution_count": null,
   "metadata": {},
   "outputs": [],
   "source": [
    "# sql_df[sql_df['client'] == 'Green Rocket'].groupby('date').sum().style.format('{:,}')"
   ]
  },
  {
   "cell_type": "code",
   "execution_count": null,
   "metadata": {},
   "outputs": [],
   "source": [
    "s_curr = sql_df.resample('M', on='date').current.sum()\n",
    "s_30 = sql_df.resample('M', on='date')['30_days'].sum()\n",
    "s_60 = sql_df.resample('M', on='date')['60_days'].sum()\n",
    "s_90 = sql_df.resample('M', on='date')['90_days'].sum()\n",
    "s_ovr = sql_df.resample('M', on='date').over_90_days.sum()"
   ]
  },
  {
   "cell_type": "code",
   "execution_count": null,
   "metadata": {},
   "outputs": [],
   "source": [
    "s_all = pd.concat([s_curr, s_30, s_60, s_90, s_ovr], axis=1)"
   ]
  },
  {
   "cell_type": "code",
   "execution_count": null,
   "metadata": {},
   "outputs": [],
   "source": [
    "s_bal = sql_df.resample('M', on='date')['bal_out'].sum()"
   ]
  },
  {
   "cell_type": "code",
   "execution_count": null,
   "metadata": {},
   "outputs": [],
   "source": [
    "s_all = pd.concat([s_all, s_bal], axis=1)"
   ]
  },
  {
   "cell_type": "code",
   "execution_count": null,
   "metadata": {},
   "outputs": [],
   "source": [
    "s_all = s_all.reset_index()"
   ]
  },
  {
   "cell_type": "code",
   "execution_count": null,
   "metadata": {},
   "outputs": [],
   "source": []
  },
  {
   "cell_type": "code",
   "execution_count": null,
   "metadata": {},
   "outputs": [],
   "source": [
    "ax = s_all.reset_index().plot(x = \"date\", y = ['current', '30_days', '60_days', '90_days','over_90_days'], kind=\"bar\",stacked=True,figsize=(10,10))\n",
    "\n",
    "x_labels = s_all['date'].dt.strftime('%Y-%m-%d')\n",
    "ax.set_xticklabels(x_labels)\n",
    "\n",
    "plt.show()"
   ]
  },
  {
   "cell_type": "code",
   "execution_count": null,
   "metadata": {},
   "outputs": [],
   "source": [
    "\n",
    "\n",
    "# ax = df.plot(kind='bar')\n",
    "# x_labels = df.index.strftime('%b')\n",
    "# ax.set_xticklabels(x_labels)\n",
    "\n",
    "# x_dates = s_all['date'].dt.strftime('%Y-%m-%d').sort_values().unique()\n",
    "# ax.set_xticklabels(labels=x_dates, rotation=45, ha='right')\n",
    "\n",
    "# fig, ax = plt.subplots(figsize=(10, 10))\n",
    "\n",
    "# fig1 = sns.barplot(x=\"date\", y='over_90_days', data=s_all, color='darkgreen')\n",
    "\n",
    "# fig2 = sns.barplot(x=\"date\", y='90_days', data=s_all, color='lightgreen')\n",
    "\n",
    "# fig3 = sns.barplot(x=\"date\", y='60_days', data=s_all, color='darkblue')\n",
    "\n",
    "# fig4 = sns.barplot(x=\"date\", y='30_days', data=s_all, color='lightblue')\n",
    "\n",
    "# fig5 = sns.barplot(x=\"date\", y='current', data=s_all, color='purple')\n",
    "\n",
    "# fig3 = sns.barplot(x=\"date\", y='90_days', data=s_all, color='lightgreen')\n",
    "\n",
    "# fig4 = sns.barplot(x=\"date\", y='over_90_days', data=s_all, color='darkgreen')\n",
    "\n",
    "# x_dates = s_all['date'].dt.strftime('%Y-%m-%d').sort_values().unique()\n",
    "# ax.set_xticklabels(labels=x_dates, rotation=45, ha='right')\n",
    "\n",
    "# ylabels = ['{:,.2f}'.format(y) for y in ax.get_yticks()]\n",
    "# ax.set_yticklabels(ylabels)\n",
    "\n",
    "# plt.tight_layout()\n",
    "\n",
    "# df=pd.DataFrame(earnings,index=employees)\n",
    "\n",
    "# df.plot(kind=\"bar\",stacked=True,figsize=(10,8))\n",
    "# plt.legend(loc=\"lower left\",bbox_to_anchor=(0.8,1.0))\n",
    "# plt.show()"
   ]
  }
 ],
 "metadata": {
  "kernelspec": {
   "display_name": "Python 3",
   "language": "python",
   "name": "python3"
  },
  "language_info": {
   "codemirror_mode": {
    "name": "ipython",
    "version": 3
   },
   "file_extension": ".py",
   "mimetype": "text/x-python",
   "name": "python",
   "nbconvert_exporter": "python",
   "pygments_lexer": "ipython3",
   "version": "3.7.3"
  }
 },
 "nbformat": 4,
 "nbformat_minor": 2
}
