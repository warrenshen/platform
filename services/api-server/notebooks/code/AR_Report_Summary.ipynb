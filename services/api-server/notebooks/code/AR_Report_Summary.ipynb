{
 "cells": [
  {
   "cell_type": "code",
   "execution_count": null,
   "metadata": {},
   "outputs": [],
   "source": [
    "import pandas as pd"
   ]
  },
  {
   "cell_type": "code",
   "execution_count": null,
   "metadata": {},
   "outputs": [],
   "source": [
    "# ar = pd.read_csv('../ar_reports/orig/reroc_ar.csv')\n",
    "# ar = pd.read_csv('../ar_reports/orig/herbl_ar.csv')"
   ]
  },
  {
   "cell_type": "code",
   "execution_count": null,
   "metadata": {},
   "outputs": [],
   "source": [
    "file= \"buddies_ar_10_04_2021\""
   ]
  },
  {
   "cell_type": "code",
   "execution_count": null,
   "metadata": {},
   "outputs": [],
   "source": [
    "ar = pd.read_csv(f'../ar_reports/orig/{file}.csv')"
   ]
  },
  {
   "cell_type": "code",
   "execution_count": null,
   "metadata": {},
   "outputs": [],
   "source": [
    "ar.info()"
   ]
  },
  {
   "cell_type": "code",
   "execution_count": null,
   "metadata": {},
   "outputs": [],
   "source": [
    "ar"
   ]
  },
  {
   "cell_type": "code",
   "execution_count": null,
   "metadata": {},
   "outputs": [],
   "source": [
    "ar.sort_values(by='current')"
   ]
  },
  {
   "cell_type": "code",
   "execution_count": null,
   "metadata": {},
   "outputs": [],
   "source": [
    "for num in ar.bal_out:\n",
    "    print(float(num))"
   ]
  },
  {
   "cell_type": "code",
   "execution_count": null,
   "metadata": {},
   "outputs": [],
   "source": [
    "ar.bal_out.astype(float)"
   ]
  },
  {
   "cell_type": "code",
   "execution_count": null,
   "metadata": {},
   "outputs": [],
   "source": [
    "# ar.fillna(0, inplace=True)"
   ]
  },
  {
   "cell_type": "code",
   "execution_count": null,
   "metadata": {},
   "outputs": [],
   "source": []
  },
  {
   "cell_type": "markdown",
   "metadata": {},
   "source": [
    "## if total is less than 0, whole row is 0"
   ]
  },
  {
   "cell_type": "code",
   "execution_count": null,
   "metadata": {},
   "outputs": [],
   "source": [
    "list_500 = ar[ar['bal_out'] < 0].index"
   ]
  },
  {
   "cell_type": "code",
   "execution_count": null,
   "metadata": {},
   "outputs": [],
   "source": [
    "ar['current'].loc[list_500] = 0\n",
    "ar['30_days'].loc[list_500] = 0\n",
    "ar['60_days'].loc[list_500] = 0\n",
    "ar['90_days'].loc[list_500] = 0\n",
    "ar['over_90_days'].loc[list_500] = 0\n",
    "ar['bal_out'].loc[list_500] = 0"
   ]
  },
  {
   "cell_type": "markdown",
   "metadata": {},
   "source": [
    "## apply negatives to the postitives, right to left"
   ]
  },
  {
   "cell_type": "code",
   "execution_count": null,
   "metadata": {},
   "outputs": [],
   "source": [
    "for x in range(len(ar)):\n",
    "    if ar['over_90_days'].iloc[x] < 0:\n",
    "        val1 = ar['over_90_days'].iloc[x] + ar['90_days'].iloc[x]\n",
    "        if val1 < 0:\n",
    "            val2 = ar['60_days'].iloc[x] + val1\n",
    "            if val2 < 0:\n",
    "                val3 = ar['30_days'].iloc[x] + val2\n",
    "                if val3 < 0:\n",
    "                    val4 = ar['current'].iloc[x] + val3\n",
    "                    ar['over_90_days'].iloc[x] = 0\n",
    "                    ar['90_days'].iloc[x] = 0\n",
    "                    ar['60_days'].iloc[x] = 0\n",
    "                    ar['30_days'].iloc[x] = 0\n",
    "                    ar['current'].iloc[x] = val4\n",
    "                else:\n",
    "                    ar['over_90_days'].iloc[x] = 0\n",
    "                    ar['90_days'].iloc[x] = 0\n",
    "                    ar['60_days'].iloc[x] = 0\n",
    "                    ar['30_days'].iloc[x] = val3\n",
    "            else:\n",
    "                ar['over_90_days'].iloc[x] = 0\n",
    "                ar['90_days'].iloc[x] = 0\n",
    "                ar['60_days'].iloc[x] = val2\n",
    "        else:\n",
    "            ar['over_90_days'].iloc[x] = 0\n",
    "            ar['90_days'].iloc[x] = val1\n",
    "                    "
   ]
  },
  {
   "cell_type": "code",
   "execution_count": null,
   "metadata": {},
   "outputs": [],
   "source": [
    "for x in range(len(ar)):\n",
    "    if ar['90_days'].iloc[x] < 0:\n",
    "        val1 = ar['90_days'].iloc[x] + ar['60_days'].iloc[x]\n",
    "        if val1 < 0:\n",
    "            val2 = ar['30_days'].iloc[x] + val1\n",
    "            if val2 < 0:\n",
    "                val3 = ar['current'].iloc[x] + val2\n",
    "                ar['90_days'].iloc[x] = 0\n",
    "                ar['60_days'].iloc[x] = 0\n",
    "                ar['30_days'].iloc[x] = 0\n",
    "                ar['current'].iloc[x] = val3\n",
    "            else:\n",
    "                ar['90_days'].iloc[x] = 0\n",
    "                ar['60_days'].iloc[x] = 0\n",
    "                ar['30_days'].iloc[x] = val2\n",
    "        else:\n",
    "            ar['90_days'].iloc[x] = 0\n",
    "            ar['60_days'].iloc[x] = val1\n",
    "          "
   ]
  },
  {
   "cell_type": "code",
   "execution_count": null,
   "metadata": {},
   "outputs": [],
   "source": [
    "for x in range(len(ar)):\n",
    "    if ar['60_days'].iloc[x] < 0:\n",
    "        val1 = ar['60_days'].iloc[x] + ar['30_days'].iloc[x]\n",
    "        if val1 < 0:\n",
    "            val2 = ar['current'].iloc[x] + val1\n",
    "            ar['60_days'].iloc[x] = 0\n",
    "            ar['30_days'].iloc[x] = 0\n",
    "            ar['current'].iloc[x] = val2\n",
    "        else:\n",
    "            ar['60_days'].iloc[x] = 0\n",
    "            ar['30_days'].iloc[x] = val1"
   ]
  },
  {
   "cell_type": "code",
   "execution_count": null,
   "metadata": {},
   "outputs": [],
   "source": [
    "for x in range(len(ar)):\n",
    "    if ar['30_days'].iloc[x] < 0:\n",
    "        val1 = ar['30_days'].iloc[x] + ar['current'].iloc[x]\n",
    "        ar['30_days'].iloc[x] = 0\n",
    "        ar['current'].iloc[x] = val1"
   ]
  },
  {
   "cell_type": "code",
   "execution_count": null,
   "metadata": {},
   "outputs": [],
   "source": []
  },
  {
   "cell_type": "code",
   "execution_count": null,
   "metadata": {},
   "outputs": [],
   "source": []
  },
  {
   "cell_type": "markdown",
   "metadata": {},
   "source": [
    "### Remove â€™ and â€"
   ]
  },
  {
   "cell_type": "code",
   "execution_count": null,
   "metadata": {},
   "outputs": [],
   "source": [
    "ar[ar['ar_account'].str.contains(\"’\", \"'\")]"
   ]
  },
  {
   "cell_type": "code",
   "execution_count": null,
   "metadata": {},
   "outputs": [],
   "source": [
    "ar['ar_account'] = ar['ar_account'].str.replace(\"’\", \"'\")"
   ]
  },
  {
   "cell_type": "code",
   "execution_count": null,
   "metadata": {},
   "outputs": [],
   "source": []
  },
  {
   "cell_type": "code",
   "execution_count": null,
   "metadata": {},
   "outputs": [],
   "source": []
  },
  {
   "cell_type": "code",
   "execution_count": null,
   "metadata": {},
   "outputs": [],
   "source": []
  },
  {
   "cell_type": "markdown",
   "metadata": {},
   "source": [
    "## apply negatives to postives, left to right"
   ]
  },
  {
   "cell_type": "code",
   "execution_count": null,
   "metadata": {},
   "outputs": [],
   "source": [
    "# x=1\n",
    "# for n in ar['current']:\n",
    "#     print(x, float(n))\n",
    "#     x+=1"
   ]
  },
  {
   "cell_type": "code",
   "execution_count": null,
   "metadata": {},
   "outputs": [],
   "source": [
    "for x in range(len(ar)):\n",
    "    if ar['current'].iloc[x] < 0:\n",
    "        val1 = ar['current'].iloc[x] + ar['30_days'].iloc[x]\n",
    "        if val1 < 0:\n",
    "            val2 = ar['60_days'].iloc[x] + val1\n",
    "            if val2 < 0:\n",
    "                val3 = ar['90_days'].iloc[x] + val2\n",
    "                if val3 < 0:\n",
    "                    val4 = ar['over_90_days'].iloc[x] + val3\n",
    "                    ar['current'].iloc[x] = 0\n",
    "                    ar['30_days'].iloc[x] = 0\n",
    "                    ar['60_days'].iloc[x] = 0\n",
    "                    ar['90_days'].iloc[x] = 0\n",
    "                    ar['over_90_days'].iloc[x] = val4\n",
    "                else:\n",
    "                    ar['current'].iloc[x] = 0\n",
    "                    ar['30_days'].iloc[x] = 0\n",
    "                    ar['60_days'].iloc[x] = 0\n",
    "                    ar['90_days'].iloc[x] = val3\n",
    "            else:\n",
    "                ar['current'].iloc[x] = 0\n",
    "                ar['30_days'].iloc[x] = 0\n",
    "                ar['60_days'].iloc[x] = val2\n",
    "        else:\n",
    "            ar['current'].iloc[x] = 0\n",
    "            ar['30_days'].iloc[x] = val1\n",
    "                    "
   ]
  },
  {
   "cell_type": "code",
   "execution_count": null,
   "metadata": {},
   "outputs": [],
   "source": [
    "ar['count_payor'] = 1"
   ]
  },
  {
   "cell_type": "code",
   "execution_count": null,
   "metadata": {},
   "outputs": [],
   "source": [
    "ar['delinquent'] = 0"
   ]
  },
  {
   "cell_type": "code",
   "execution_count": null,
   "metadata": {},
   "outputs": [],
   "source": [
    "ar.rename(columns={'days_over_due':'sum_days_over'}, inplace=True)"
   ]
  },
  {
   "cell_type": "code",
   "execution_count": null,
   "metadata": {},
   "outputs": [],
   "source": [
    "ar = ar[['license_number', 'license_provided', 'ar_account', 'count_payor',\n",
    "       'sum_days_over', 'orig_amt', 'bal_out', 'current', '30_days', '60_days',\n",
    "       '90_days', 'over_90_days', 'delinquent', 'date', 'client', 'summary']]"
   ]
  },
  {
   "cell_type": "code",
   "execution_count": null,
   "metadata": {},
   "outputs": [],
   "source": [
    "ar.to_csv(f'../ar_reports/orig/no_neg/{file}_no_neg.csv', index=False)"
   ]
  },
  {
   "cell_type": "code",
   "execution_count": null,
   "metadata": {},
   "outputs": [],
   "source": []
  },
  {
   "cell_type": "code",
   "execution_count": null,
   "metadata": {},
   "outputs": [],
   "source": [
    "print(stop)"
   ]
  },
  {
   "cell_type": "code",
   "execution_count": null,
   "metadata": {},
   "outputs": [],
   "source": []
  },
  {
   "cell_type": "code",
   "execution_count": null,
   "metadata": {},
   "outputs": [],
   "source": []
  },
  {
   "cell_type": "code",
   "execution_count": null,
   "metadata": {},
   "outputs": [],
   "source": [
    "# ar['license_provided'] = 0\n",
    "# ar['summary'] = 1\n",
    "# ar['count_payor'] = 0\n",
    "# ar.rename(columns={'days_over_due': 'sum_days_over'}, inplace=True)\n",
    "# ar['sum_days_over'] = 0\n",
    "# ar['orig_amt'] = 0\n",
    "# ar['delinquent'] = 0"
   ]
  },
  {
   "cell_type": "code",
   "execution_count": null,
   "metadata": {},
   "outputs": [],
   "source": [
    "\n",
    "# ar.rename(columns={'total': 'bal_out'}, inplace=True)"
   ]
  },
  {
   "cell_type": "code",
   "execution_count": null,
   "metadata": {},
   "outputs": [],
   "source": [
    "# ar = pd.read_csv('../ar_reports/humboldt_farms_ar_final.csv')\n",
    "# ar = pd.read_csv('../ar_reports/orig/ar_nabis.csv')\n",
    "# ar = pd.read_csv('../ar_reports/orig/humboldt_ar_finalized_04_29.csv')\n",
    "# ar = pd.read_csv('../ar_reports/orig/legion_of_bloom_summary.csv')\n",
    "# ar = pd.read_csv('../ar_reports/orig/apex_ar.csv')\n",
    "# ar = pd.read_csv('../ar_reports/orig/buddies_ar.csv')\n",
    "# ar = pd.read_csv('../ar_reports/orig/headwaters_ar.csv')\n",
    "# ar = pd.read_csv('../ar_reports/orig/shryne_ar.csv')\n",
    "# ar = pd.read_csv('../ar_reports/orig/thirty_one_labs_ar.csv')\n",
    "# ar = pd.read_csv('../ar_reports/orig/henrys_ar.csv')\n",
    "# ar = pd.read_csv('../ar_reports/orig/big_petes_ar.csv')\n",
    "# ar = pd.read_csv('../ar_reports/orig/guild_extracts_ar.csv')\n",
    "# ar = pd.read_csv('../ar_reports/orig/chemistry_ar.csv')\n",
    "# ar = pd.read_csv('../ar_reports/orig/dompen_ar.csv')\n",
    "# ar = pd.read_csv('../ar_reports/orig/left_coast_ar.csv')\n",
    "# ar = pd.read_csv('../ar_reports/orig/leune_ar.csv')\n",
    "# ar = pd.read_csv('../ar_reports/orig/tri_state_ar.csv')\n",
    "# ar = pd.read_csv('../ar_reports/orig/friendly_farms_ar.csv')\n",
    "# ar = pd.read_csv('../ar_reports/orig/sho_products_ar.csv')\n",
    "# ar = pd.read_csv('../ar_reports/orig/abstrax_tech_ar.csv')\n",
    "# ar = pd.read_csv('../ar_reports/orig/pure_beauty_ar.csv')\n",
    "# ar = pd.read_csv('../ar_reports/orig/mankind_cannabis_ar.csv')\n",
    "# ar = pd.read_csv('../ar_reports/orig/palomar_craft_cannabis_ar.csv')\n",
    "\n",
    "# ar = pd.read_csv('../ar_reports/orig/island_ar.csv')\n",
    "# ar = pd.read_csv('../ar_reports/orig/pacific_dutch_group_ar.csv')\n",
    "# ar = pd.read_csv('../ar_reports/orig/eel_river_organics_ar.csv')\n",
    "# ar = pd.read_csv('../ar_reports/orig/thc_design_ar.csv')\n",
    "# ar = pd.read_csv('../ar_reports/orig/greenleaf_processors_centurion_ar.csv')\n",
    "# ar = pd.read_csv('../ar_reports/orig/smoke_tree_group_ar.csv')\n",
    "# ar = pd.read_csv('../ar_reports/orig/wildseed_oil_ar.csv')\n",
    "# ar = pd.read_csv('../ar_reports/orig/true_humboldt_ar.csv')\n",
    "# ar = pd.read_csv('../ar_reports/orig/humboldt_apothecary_ar.csv')\n",
    "# ar = pd.read_csv('../ar_reports/orig/dionymed_ar.csv')\n",
    "# ar = pd.read_csv('../ar_reports/orig/legends_distribution_ar.csv')\n",
    "# ar = pd.read_csv('../ar_reports/orig/herbology_ar.csv')\n",
    "# ar = pd.read_csv('../ar_reports/orig/grupo_flor_ar.csv')\n",
    "# ar = pd.read_csv('../ar_reports/orig/umbrla_ar.csv')\n",
    "# ar = pd.read_csv('../ar_reports/orig/seed_2_soul_ar.csv')\n",
    "# ar = pd.read_csv('../ar_reports/orig/norcal_distru_ar.csv')\n",
    "# ar = pd.read_csv('../ar_reports/orig/zrp_group_ar.csv')\n",
    "# ar = pd.read_csv('../ar_reports/orig/cann_nug_ar.csv')\n",
    "# ar = pd.read_csv('../ar_reports/orig/ccsac_nug_ar.csv')"
   ]
  },
  {
   "cell_type": "markdown",
   "metadata": {},
   "source": [
    "# Kiva"
   ]
  },
  {
   "cell_type": "code",
   "execution_count": null,
   "metadata": {},
   "outputs": [],
   "source": [
    "# df_kiva = pd.read_csv('../ar_reports/kiva_ar_edited_2020_02_25.csv')"
   ]
  },
  {
   "cell_type": "code",
   "execution_count": null,
   "metadata": {},
   "outputs": [],
   "source": [
    "# df_kiva"
   ]
  },
  {
   "cell_type": "code",
   "execution_count": null,
   "metadata": {},
   "outputs": [],
   "source": [
    "for x in range(len(df_kiva)):\n",
    "    if df_kiva['current'].iloc[x] < 500:\n",
    "        df_kiva['current'].iloc[x] = 0\n",
    "    if df_kiva['30_days'].iloc[x] < 500:\n",
    "        df_kiva['30_days'].iloc[x] = 0\n",
    "    if df_kiva['60_days'].iloc[x] < 500:\n",
    "        df_kiva['60_days'].iloc[x] = 0\n",
    "    if df_kiva['90_days'].iloc[x] < 500:\n",
    "        df_kiva['90_days'].iloc[x] = 0\n",
    "    if df_kiva['over_90_days'].iloc[x] < 500:\n",
    "        df_kiva['over_90_days'].iloc[x] = 0"
   ]
  },
  {
   "cell_type": "code",
   "execution_count": null,
   "metadata": {},
   "outputs": [],
   "source": [
    "df_kiva = df_kiva[['license_number', \n",
    "        'license_provided', \n",
    "        'ar_account', \n",
    "        'count_payor',\n",
    "       'sum_days_over', \n",
    "        'orig_amt', \n",
    "        'bal_out', \n",
    "        'current', \n",
    "        '30_days', \n",
    "        '60_days',\n",
    "       '90_days', \n",
    "        'over_90_days', \n",
    "        'delinquent', \n",
    "        'date',\n",
    "        'client', \n",
    "       'summary']]"
   ]
  },
  {
   "cell_type": "code",
   "execution_count": null,
   "metadata": {},
   "outputs": [],
   "source": [
    "df_kiva.rename(columns={'ar_client':'client'}, inplace=True)"
   ]
  },
  {
   "cell_type": "code",
   "execution_count": null,
   "metadata": {},
   "outputs": [],
   "source": [
    "df_kiva.rename(columns={'state_license':'license_number'}, inplace=True)"
   ]
  },
  {
   "cell_type": "code",
   "execution_count": null,
   "metadata": {},
   "outputs": [],
   "source": [
    "df_kiva.rename(columns={'license provided':'license_provided'}, inplace=True)"
   ]
  },
  {
   "cell_type": "code",
   "execution_count": null,
   "metadata": {},
   "outputs": [],
   "source": [
    "ar['count_payor'] = 0"
   ]
  },
  {
   "cell_type": "code",
   "execution_count": null,
   "metadata": {},
   "outputs": [],
   "source": [
    "ar['sum_days_over'] = 0"
   ]
  },
  {
   "cell_type": "code",
   "execution_count": null,
   "metadata": {},
   "outputs": [],
   "source": [
    "ar['orig_amt'] = 0"
   ]
  },
  {
   "cell_type": "code",
   "execution_count": null,
   "metadata": {},
   "outputs": [],
   "source": [
    "ar['delinquent'] = 0"
   ]
  },
  {
   "cell_type": "code",
   "execution_count": null,
   "metadata": {},
   "outputs": [],
   "source": [
    "ar.rename(columns={'company': 'ar_account'}, inplace=True)"
   ]
  },
  {
   "cell_type": "code",
   "execution_count": null,
   "metadata": {},
   "outputs": [],
   "source": [
    "ar.rename(columns={'total': 'bal_out'}, inplace=True)"
   ]
  },
  {
   "cell_type": "code",
   "execution_count": null,
   "metadata": {},
   "outputs": [],
   "source": []
  },
  {
   "cell_type": "code",
   "execution_count": null,
   "metadata": {},
   "outputs": [],
   "source": [
    "ar = ar[['license_number',\n",
    "    'license_provided',\n",
    "    'ar_account', \n",
    "    'count_payor',\n",
    "    'sum_days_over',\n",
    "    'orig_amt',\n",
    "    'bal_out',\n",
    "    'current', \n",
    "    '30_days', \n",
    "    '60_days', \n",
    "    '90_days', \n",
    "    'over_90_days',\n",
    "    'delinquent',\n",
    "    'date', \n",
    "    'client', \n",
    "    'summary']]"
   ]
  },
  {
   "cell_type": "code",
   "execution_count": null,
   "metadata": {},
   "outputs": [],
   "source": [
    "df_all = df_kiva.append(ar)"
   ]
  },
  {
   "cell_type": "code",
   "execution_count": null,
   "metadata": {},
   "outputs": [],
   "source": [
    "df_all"
   ]
  },
  {
   "cell_type": "code",
   "execution_count": null,
   "metadata": {},
   "outputs": [],
   "source": [
    "df_all.to_csv('../ar_reports/kiva_hr_ar_combined.csv', index=False)"
   ]
  },
  {
   "cell_type": "code",
   "execution_count": null,
   "metadata": {},
   "outputs": [],
   "source": [
    "ar.head()"
   ]
  },
  {
   "cell_type": "code",
   "execution_count": null,
   "metadata": {},
   "outputs": [],
   "source": [
    "df_kiva.to_csv('../ar_reports/df_kiva_04_23_20.csv', index=False)"
   ]
  },
  {
   "cell_type": "code",
   "execution_count": null,
   "metadata": {},
   "outputs": [],
   "source": [
    "# import pyodbc"
   ]
  },
  {
   "cell_type": "code",
   "execution_count": null,
   "metadata": {},
   "outputs": [],
   "source": [
    "# cnxn = pyodbc.connect(server = 'bespoke-database-1.cmevrozrcs7c.us-west-2.rds.amazonaws.com', \n",
    "#                       driver = '{ODBC Driver 17 for SQL Server}',\n",
    "#                       database = 'ca_cannabis',\n",
    "#                       UID = 'admin',\n",
    "#                       PWD = 'N19lrqxnurTUJLJT6GFe')"
   ]
  },
  {
   "cell_type": "code",
   "execution_count": null,
   "metadata": {},
   "outputs": [],
   "source": [
    "# df_ar = pd.read_sql(\"SELECT * FROM ar_report\", cnxn)"
   ]
  },
  {
   "cell_type": "code",
   "execution_count": null,
   "metadata": {},
   "outputs": [],
   "source": [
    "# ar['current'] = ar['current'].str.replace(\",\", \"\")\n",
    "# ar['30_days'] = ar['30_days'].str.replace(\",\", \"\")\n",
    "# ar['60_days'] = ar['60_days'].str.replace(\",\", \"\")\n",
    "# ar['90_days'] = ar['90_days'].str.replace(\",\", \"\")\n",
    "# ar['over_90_days'] = ar['over_90_days'].str.replace(\",\", \"\")\n",
    "# ar['total'] = ar['total'].str.replace(\",\", \"\")\n",
    "\n",
    "# ar['current'] = ar['current'].astype(float)\n",
    "# ar['30_days'] = ar['30_days'].astype(float)\n",
    "# ar['60_days'] = ar['60_days'].astype(float)\n",
    "# ar['90_days'] = ar['90_days'].astype(float)\n",
    "# ar['over_90_days'] = ar['over_90_days'].astype(float)\n",
    "# ar['total'] = ar['total'].astype(float)\n",
    "\n",
    "# ar.drop(columns='date', inplace=True)\n",
    "# ar['date_file'] = pd.datetime(2019, 12, 31)\n",
    "\n",
    "# ar[ar.duplicated(subset='ar_company_name')]"
   ]
  },
  {
   "cell_type": "code",
   "execution_count": null,
   "metadata": {},
   "outputs": [],
   "source": [
    "# for x in range(len(ar)):\n",
    "#     if ar['current'].iloc[x] < 500:\n",
    "#         ar['current'].iloc[x] = 0\n",
    "#     if ar['30_days'].iloc[x] < 500:\n",
    "#         ar['30_days'].iloc[x] = 0\n",
    "#     if ar['60_days'].iloc[x] < 500:\n",
    "#         ar['60_days'].iloc[x] = 0\n",
    "#     if ar['90_days'].iloc[x] < 500:\n",
    "#         ar['90_days'].iloc[x] = 0\n",
    "#     if ar['over_90_days'].iloc[x] < 500:\n",
    "#         ar['over_90_days'].iloc[x] = 0\n",
    "\n",
    "# ar[(ar['30_days'] > 0) & (ar['30_days'] < 500)]\n",
    "\n",
    "# ar.to_csv('../ar_reports/orig/no_neg/humboldt_ar_no_neg_04_29.csv', index=False)"
   ]
  },
  {
   "cell_type": "code",
   "execution_count": null,
   "metadata": {},
   "outputs": [],
   "source": [
    "# ar = pd.read_csv('../ar_reports/orig/ccsac_nug_ar.csv')\n",
    "# ar = pd.read_csv('../ar_reports/orig/la_vida_verde_ar.csv')\n",
    "# ar = pd.read_csv('../ar_reports/orig/papas_herb_ar.csv')\n",
    "# ar = pd.read_csv('../ar_reports/orig/big_sur_ar.csv')\n",
    "# ar = pd.read_csv('../ar_reports/orig/aster_farms_ar.csv')\n",
    "# ar = pd.read_csv('../ar_reports/orig/somatik_ar.csv')\n",
    "# ar = pd.read_csv('../ar_reports/orig/accentian_ar.csv')\n",
    "# ar = pd.read_csv('../ar_reports/orig/radiant_farms_ar.csv')\n",
    "# ar = pd.read_csv('../ar_reports/orig/fume_ar.csv')\n",
    "# ar = pd.read_csv('../ar_reports/orig/gold_seal_ar.csv')\n",
    "# ar = pd.read_csv('../ar_reports/orig/caliber_ar.csv')\n",
    "# ar = pd.read_csv('../ar_reports/orig/space_coyote_ar.csv')\n",
    "# ar = pd.read_csv('../ar_reports/orig/besito_ar.csv')\n",
    "# ar = pd.read_csv('../ar_reports/orig/bloomfield_ar.csv')\n",
    "# ar = pd.read_csv('../ar_reports/orig/hqp_ar.csv')\n",
    "# ar = pd.read_csv('../ar_reports/orig/htc_solutions_ar.csv')\n",
    "# ar = pd.read_csv('../ar_reports/orig/norcal_cannabis_ar.csv')\n",
    "# ar = pd.read_csv('../ar_reports/orig/norcal_distru_ar.csv')\n",
    "# ar = pd.read_csv('../ar_reports/orig/nuvata_ar.csv')\n",
    "# ar = pd.read_csv('../ar_reports/orig/oz_distribution_ar.csv')\n",
    "# ar = pd.read_csv('../ar_reports/orig/pura_cali_ar.csv')\n",
    "# ar = pd.read_csv('../ar_reports/orig/hyperion_ar.csv')"
   ]
  }
 ],
 "metadata": {
  "kernelspec": {
   "display_name": "Python 3",
   "language": "python",
   "name": "python3"
  },
  "language_info": {
   "codemirror_mode": {
    "name": "ipython",
    "version": 3
   },
   "file_extension": ".py",
   "mimetype": "text/x-python",
   "name": "python",
   "nbconvert_exporter": "python",
   "pygments_lexer": "ipython3",
   "version": "3.7.3"
  }
 },
 "nbformat": 4,
 "nbformat_minor": 2
}
