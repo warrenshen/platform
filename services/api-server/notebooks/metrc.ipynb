{
 "cells": [
  {
   "cell_type": "code",
   "execution_count": 41,
   "id": "8092581f-e6e4-4f1d-ac0a-f06bbb2b5584",
   "metadata": {},
   "outputs": [],
   "source": [
    "import base64\n",
    "import requests\n",
    "import os\n",
    "from dotenv import load_dotenv\n",
    "from mypy_extensions import TypedDict\n",
    "from typing import Dict\n",
    "from requests.auth import HTTPBasicAuth\n",
    "from dateutil import parser\n",
    "\n",
    "load_dotenv('../.env')\n",
    "\n",
    "user_key = os.environ.get('METRC_USER_KEY')\n",
    "vendor_key_CA = os.environ.get('METRC_VENDOR_KEY_CA')\n",
    "\n",
    "if not user_key or not vendor_key_CA:\n",
    "    raise Exception('METRC_USER_KEY or METRC_VENDOR_KEY_CA not set')\n",
    "\n",
    "auth_dict = {'vendor_key': vendor_key_CA, 'user_key': user_key}\n"
   ]
  },
  {
   "cell_type": "code",
   "execution_count": 76,
   "id": "82f8517b-dd22-4eae-b2dd-00b8bcaad38e",
   "metadata": {},
   "outputs": [
    {
     "name": "stdout",
     "output_type": "stream",
     "text": [
      "https://api-ca.metrc.com/transfers/v1/incoming?licenseNumber=CCL19-0001462&lastModifiedStart=2021-04-02T00:00:00\n",
      "b'[{\"Id\":1756041,\"ManifestNumber\":\"0001756041\",\"ShipmentLicenseType\":\"Licensed\",\"ShipperFacilityLicenseNumber\":\"C11-0001005-LIC\",\"ShipperFacilityName\":\"HUMBOLDT SEED COMPANY, LLC\",\"Name\":null,\"TransporterFacilityLicenseNumber\":\"\",\"TransporterFacilityName\":\"\",\"DriverName\":\"\",\"DriverOccupationalLicenseNumber\":\"\",\"DriverVehicleLicenseNumber\":\"\",\"VehicleMake\":\"\",\"VehicleModel\":\"\",\"VehicleLicensePlateNumber\":\"\",\"DeliveryCount\":1,\"ReceivedDeliveryCount\":1,\"PackageCount\":1,\"ReceivedPackageCount\":1,\"ContainsPlantPackage\":false,\"ContainsProductPackage\":true,\"ContainsTradeSample\":false,\"ContainsDonation\":false,\"ContainsTestingSample\":false,\"ContainsProductRequiresRemediation\":false,\"ContainsRemediatedProductPackage\":false,\"CreatedDateTime\":\"2021-04-01T00:23:31+00:00\",\"CreatedByUserName\":\"Halie Pennington\",\"LastModified\":\"2021-04-02T10:54:00-07:00\",\"DeliveryId\":1757041,\"RecipientFacilityLicenseNumber\":\"CCL19-0001462\",\"RecipientFacilityName\":\"Kalifornia Green Akres\",\"ShipmentTypeName\":\"Transfer\",\"ShipmentTransactionType\":\"Standard\",\"EstimatedDepartureDateTime\":\"2021-03-31T17:25:00.000\",\"ActualDepartureDateTime\":null,\"EstimatedArrivalDateTime\":\"2021-03-31T18:25:00.000\",\"ActualArrivalDateTime\":null,\"DeliveryPackageCount\":1,\"DeliveryReceivedPackageCount\":1,\"ReceivedDateTime\":\"2021-04-02T17:53:59+00:00\",\"EstimatedReturnDepartureDateTime\":null,\"ActualReturnDepartureDateTime\":null,\"EstimatedReturnArrivalDateTime\":null,\"ActualReturnArrivalDateTime\":null},{\"Id\":1732169,\"ManifestNumber\":\"0001732169\",\"ShipmentLicenseType\":\"Licensed\",\"ShipperFacilityLicenseNumber\":\"CCL19-0005494\",\"ShipperFacilityName\":\"Half Moon Grow Nursery Inc\",\"Name\":null,\"TransporterFacilityLicenseNumber\":\"\",\"TransporterFacilityName\":\"\",\"DriverName\":\"\",\"DriverOccupationalLicenseNumber\":\"\",\"DriverVehicleLicenseNumber\":\"\",\"VehicleMake\":\"\",\"VehicleModel\":\"\",\"VehicleLicensePlateNumber\":\"\",\"DeliveryCount\":1,\"ReceivedDeliveryCount\":1,\"PackageCount\":13,\"ReceivedPackageCount\":13,\"ContainsPlantPackage\":true,\"ContainsProductPackage\":false,\"ContainsTradeSample\":false,\"ContainsDonation\":false,\"ContainsTestingSample\":false,\"ContainsProductRequiresRemediation\":false,\"ContainsRemediatedProductPackage\":false,\"CreatedDateTime\":\"2021-03-25T23:41:02+00:00\",\"CreatedByUserName\":\"Andrew Rodriguez\",\"LastModified\":\"2021-04-02T10:54:07-07:00\",\"DeliveryId\":1733169,\"RecipientFacilityLicenseNumber\":\"CCL19-0001462\",\"RecipientFacilityName\":\"Kalifornia Green Akres\",\"ShipmentTypeName\":\"Transfer\",\"ShipmentTransactionType\":\"Standard\",\"EstimatedDepartureDateTime\":\"2021-03-29T08:00:00.000\",\"ActualDepartureDateTime\":null,\"EstimatedArrivalDateTime\":\"2021-03-29T17:00:00.000\",\"ActualArrivalDateTime\":null,\"DeliveryPackageCount\":13,\"DeliveryReceivedPackageCount\":13,\"ReceivedDateTime\":\"2021-04-02T17:54:07+00:00\",\"EstimatedReturnDepartureDateTime\":null,\"ActualReturnDepartureDateTime\":null,\"EstimatedReturnArrivalDateTime\":null,\"ActualReturnArrivalDateTime\":null}]'\n"
     ]
    }
   ],
   "source": [
    "licenses = [\n",
    "    'CCL19-0001462',\n",
    "]\n",
    "\n",
    "class REST(object):\n",
    "    \n",
    "    def __init__(self, auth_dict, license_id):\n",
    "        self.auth = HTTPBasicAuth(auth_dict['vendor_key'], auth_dict['user_key'])\n",
    "        self.license_id = license_id\n",
    "        self.base_url = 'https://api-ca.metrc.com'\n",
    "        \n",
    "    def get(self, path, time_range=None):\n",
    "        url = self.base_url + path\n",
    "        url += '?licenseNumber=' + self.license_id\n",
    "        \n",
    "        if time_range:\n",
    "            if len(time_range) == 1:\n",
    "                lastModifiedStart = parser.parse(time_range[0]).isoformat()\n",
    "                url += '&lastModifiedStart=' + lastModifiedStart                \n",
    "            else:\n",
    "                lastModifiedStart = parser.parse(time_range[0]).isoformat()\n",
    "                lastModifiedEnd = parser.parse(time_range[1]).isoformat()\n",
    "                url += '&lastModifiedStart=' + lastModifiedStart + '&lastModifiedEnd=' + lastModifiedEnd\n",
    "        \n",
    "        print(url)\n",
    "        resp = requests.get(url, auth=self.auth)\n",
    "        \n",
    "        if not resp.ok:\n",
    "            raise Exception('Code: {}. Reason: {}. Response: {}'.format(resp.status_code, resp.reason, resp.content))\n",
    "        \n",
    "        return resp\n",
    "\n",
    "license_id = licenses[0]\n",
    "rest = REST(auth_dict=auth_dict, license_id=license_id)\n",
    "#resp = rest.get('/facilities/v1')\n",
    "#resp = rest.get('/sales/v1/receipts/active')\n",
    "#resp = rest.get('/transfers/v1/types')\n",
    "resp = rest.get('/transfers/v1/incoming', time_range=['04/02/2021'])\n",
    "print(resp.content)"
   ]
  },
  {
   "cell_type": "code",
   "execution_count": null,
   "id": "b0982ef5-b71a-4980-896b-7d17ab38e92f",
   "metadata": {},
   "outputs": [],
   "source": []
  }
 ],
 "metadata": {
  "kernelspec": {
   "display_name": "Python 3",
   "language": "python",
   "name": "python3"
  },
  "language_info": {
   "codemirror_mode": {
    "name": "ipython",
    "version": 3
   },
   "file_extension": ".py",
   "mimetype": "text/x-python",
   "name": "python",
   "nbconvert_exporter": "python",
   "pygments_lexer": "ipython3",
   "version": "3.7.7"
  }
 },
 "nbformat": 4,
 "nbformat_minor": 5
}
