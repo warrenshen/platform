{
 "cells": [
  {
   "cell_type": "code",
   "execution_count": 1,
   "id": "8092581f-e6e4-4f1d-ac0a-f06bbb2b5584",
   "metadata": {},
   "outputs": [],
   "source": [
    "import base64\n",
    "import requests\n",
    "import os\n",
    "from dotenv import load_dotenv\n",
    "from mypy_extensions import TypedDict\n",
    "from typing import Dict\n",
    "from requests.auth import HTTPBasicAuth\n",
    "\n",
    "load_dotenv('../.env')\n",
    "\n",
    "user_key = os.environ.get('METRC_USER_KEY')\n",
    "vendor_key_CA = os.environ.get('METRC_VENDOR_KEY_CA')\n",
    "\n",
    "if not user_key or not vendor_key_CA:\n",
    "    raise Exception('METRC_USER_KEY or METRC_VENDOR_KEY_CA not set')\n",
    "\n",
    "auth_dict = {'vendor_key': vendor_key_CA, 'user_key': user_key}\n"
   ]
  },
  {
   "cell_type": "code",
   "execution_count": 4,
   "id": "82f8517b-dd22-4eae-b2dd-00b8bcaad38e",
   "metadata": {},
   "outputs": [
    {
     "name": "stdout",
     "output_type": "stream",
     "text": [
      "https://api-ca.metrc.com/transfers/v1/types?licenseNumber=C11-0000752-LIC\n",
      "b'[{\"Name\":\"Return\",\"ForLicensedShipments\":true,\"ForExternalIncomingShipments\":true,\"ForExternalOutgoingShipments\":true,\"RequiresDestinationGrossWeight\":false,\"RequiresPackagesGrossWeight\":false},{\"Name\":\"State Authorized\",\"ForLicensedShipments\":true,\"ForExternalIncomingShipments\":false,\"ForExternalOutgoingShipments\":false,\"RequiresDestinationGrossWeight\":false,\"RequiresPackagesGrossWeight\":false},{\"Name\":\"Transfer\",\"ForLicensedShipments\":true,\"ForExternalIncomingShipments\":true,\"ForExternalOutgoingShipments\":true,\"RequiresDestinationGrossWeight\":false,\"RequiresPackagesGrossWeight\":false},{\"Name\":\"Wholesale Manifest\",\"ForLicensedShipments\":true,\"ForExternalIncomingShipments\":true,\"ForExternalOutgoingShipments\":true,\"RequiresDestinationGrossWeight\":false,\"RequiresPackagesGrossWeight\":false}]'\n"
     ]
    }
   ],
   "source": [
    "licenses = [\n",
    "    'C11-0000752-LIC',\n",
    "    'C11-0000995-LIC',\n",
    "    'CC11-0000578-LIC',\n",
    "    'CCL19-0001462',\n",
    "    'CDPH-1000316'\n",
    "]\n",
    "\n",
    "class REST(object):\n",
    "    \n",
    "    def __init__(self, auth_dict, license_id):\n",
    "        self.auth = HTTPBasicAuth(auth_dict['vendor_key'], auth_dict['user_key'])\n",
    "        self.license_id = license_id\n",
    "        self.base_url = 'https://api-ca.metrc.com'\n",
    "        \n",
    "    def get(self, path):\n",
    "        url = self.base_url + path\n",
    "        url += '?licenseNumber=' + self.license_id\n",
    "        print(url)\n",
    "        return requests.get(url, auth=self.auth)\n",
    "        \n",
    "licenses = [licenses[0]]\n",
    "for i in range(len(licenses)):\n",
    "    license_id = licenses[i]\n",
    "    rest = REST(auth_dict=auth_dict, license_id=license_id)\n",
    "    #resp = rest.get('/facilities/v1')\n",
    "    #resp = rest.get('/sales/v1/receipts/active')\n",
    "    resp = rest.get('/transfers/v1/types')\n",
    "    #resp = rest.get('/transfers/v1/incoming')\n",
    "    print(resp.content)"
   ]
  },
  {
   "cell_type": "code",
   "execution_count": null,
   "id": "b0982ef5-b71a-4980-896b-7d17ab38e92f",
   "metadata": {},
   "outputs": [],
   "source": []
  }
 ],
 "metadata": {
  "kernelspec": {
   "display_name": "Python 3",
   "language": "python",
   "name": "python3"
  },
  "language_info": {
   "codemirror_mode": {
    "name": "ipython",
    "version": 3
   },
   "file_extension": ".py",
   "mimetype": "text/x-python",
   "name": "python",
   "nbconvert_exporter": "python",
   "pygments_lexer": "ipython3",
   "version": "3.7.7"
  }
 },
 "nbformat": 4,
 "nbformat_minor": 5
}
