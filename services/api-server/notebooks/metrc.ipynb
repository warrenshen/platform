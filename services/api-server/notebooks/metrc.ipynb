{
 "cells": [
  {
   "cell_type": "code",
   "execution_count": 144,
   "id": "8092581f-e6e4-4f1d-ac0a-f06bbb2b5584",
   "metadata": {},
   "outputs": [],
   "source": [
    "import base64\n",
    "import json\n",
    "import requests\n",
    "import os\n",
    "from dotenv import load_dotenv\n",
    "from mypy_extensions import TypedDict\n",
    "from typing import Dict, List\n",
    "from requests.auth import HTTPBasicAuth\n",
    "from dateutil import parser\n",
    "\n",
    "load_dotenv('../.env')\n",
    "\n",
    "user_key = os.environ.get('METRC_USER_KEY')\n",
    "vendor_key_CA = os.environ.get('METRC_VENDOR_KEY_CA')\n",
    "\n",
    "if not user_key or not vendor_key_CA:\n",
    "    raise Exception('METRC_USER_KEY or METRC_VENDOR_KEY_CA not set')\n",
    "\n",
    "auth_dict = {'vendor_key': vendor_key_CA, 'user_key': user_key}\n"
   ]
  },
  {
   "cell_type": "code",
   "execution_count": 147,
   "id": "82f8517b-dd22-4eae-b2dd-00b8bcaad38e",
   "metadata": {},
   "outputs": [],
   "source": [
    "licenses = [\n",
    "    'CCL19-0001462',\n",
    "]\n",
    "\n",
    "class REST(object):\n",
    "    \n",
    "    def __init__(self, auth_dict, license_id):\n",
    "        self.auth = HTTPBasicAuth(auth_dict['vendor_key'], auth_dict['user_key'])\n",
    "        self.license_id = license_id\n",
    "        self.base_url = 'https://api-ca.metrc.com'\n",
    "        \n",
    "    def get(self, path, time_range=None):\n",
    "        url = self.base_url + path\n",
    "        \n",
    "        needs_q_mark = '?' not in path\n",
    "        if needs_q_mark:\n",
    "            url += '?licenseNumber=' + self.license_id\n",
    "        else:\n",
    "            url += '&licenseNumber=' + self.license_id\n",
    "        \n",
    "        if time_range:\n",
    "            if len(time_range) == 1:\n",
    "                lastModifiedStart = parser.parse(time_range[0]).isoformat()\n",
    "                url += '&lastModifiedStart=' + lastModifiedStart                \n",
    "            else:\n",
    "                lastModifiedStart = parser.parse(time_range[0]).isoformat()\n",
    "                lastModifiedEnd = parser.parse(time_range[1]).isoformat()\n",
    "                url += '&lastModifiedStart=' + lastModifiedStart + '&lastModifiedEnd=' + lastModifiedEnd\n",
    "        \n",
    "        print(url)\n",
    "        resp = requests.get(url, auth=self.auth)\n",
    "        \n",
    "        if not resp.ok:\n",
    "            raise Exception('Code: {}. Reason: {}. Response: {}'.format(resp.status_code, resp.reason, resp.content))\n",
    "        \n",
    "        return resp\n",
    "\n",
    "license_id = licenses[0]\n",
    "rest = REST(auth_dict=auth_dict, license_id=license_id)"
   ]
  },
  {
   "cell_type": "code",
   "execution_count": 142,
   "id": "b0982ef5-b71a-4980-896b-7d17ab38e92f",
   "metadata": {},
   "outputs": [],
   "source": [
    "\n",
    "def _dicts_to_rows(dicts, col_specs) -> List[str]:\n",
    "    \n",
    "    title_row = []\n",
    "    rows = []\n",
    "        \n",
    "    for t in dicts:\n",
    "        row = []\n",
    "        for i in range(len(col_specs)):\n",
    "            col_spec = col_specs[i]\n",
    "            if len(rows) == 0: # its the first row we are dealing with \n",
    "                title_row.append(col_spec[0])\n",
    "\n",
    "            key_name = col_spec[1]\n",
    "            val = t[key_name]\n",
    "            if val is None:\n",
    "                val = ''\n",
    "            row.append('{}'.format(val))\n",
    "\n",
    "        rows.append(row)\n",
    "        \n",
    "    return [title_row] + rows\n",
    "\n",
    "class TransferPackages(object):\n",
    "    \n",
    "    def __init__(self, transfer_packages: List[Dict]) -> None:\n",
    "        self._packages = transfer_packages\n",
    "        \n",
    "    def to_rows(self) -> List[str]:\n",
    "        col_specs = [\n",
    "            ('Package Id', 'PackageId'),\n",
    "            ('Package', 'PackageLabel'),\n",
    "            ('Package Type', 'PackageType'),\n",
    "            ('Item', 'ProductName'),\n",
    "            ('Item Category', 'ProductCategoryName'),\n",
    "            ('Item Strain Name', 'ItemStrainName'),\n",
    "            ('Item State', 'ShipmentPackageState'),\n",
    "            ('Received Qty', 'ReceivedQuantity'),\n",
    "            ('UoM', 'ReceivedUnitOfMeasureName'),\n",
    "            ('Item Unit Qty', 'ItemUnitQuantity'),\n",
    "            ('Item Unit Weight', 'ItemUnitWeight'),\n",
    "            ('Is Testing Sample', 'IsTestingSample')\n",
    "            # ReceiverDollarAmount\n",
    "        ]\n",
    "        return _dicts_to_rows(self._packages, col_specs)\n",
    "\n",
    "class Transfers(object):\n",
    "    \n",
    "    def __init__(self, transfers: List[Dict]) -> None:\n",
    "        self._transfers = transfers\n",
    "    \n",
    "    @staticmethod\n",
    "    def build(transfers: List[Dict]) -> 'Transfers':\n",
    "        return Transfers(transfers)\n",
    "    \n",
    "    def get_delivery_ids(self) -> List[str]:\n",
    "        return [t['DeliveryId'] for t in self._transfers]\n",
    "    \n",
    "    def to_rows(self) -> List[str]:\n",
    "        col_specs = [\n",
    "            ('Manifest', 'ManifestNumber'),\n",
    "            ('Origin Lic', 'ShipperFacilityLicenseNumber'),\n",
    "            ('Origin Facility', 'ShipperFacilityName'),\n",
    "            # Origin Facility Type\n",
    "            ('Dest Lic', 'RecipientFacilityLicenseNumber'),\n",
    "            ('Destination Facility', 'RecipientFacilityName'),\n",
    "            ('Type', 'ShipmentTypeName'),\n",
    "            ('Received', 'ReceivedDateTime'),\n",
    "            ('Num Packages', 'PackageCount')\n",
    "        ]\n",
    "        \n",
    "        return _dicts_to_rows(self._transfers, col_specs)\n"
   ]
  },
  {
   "cell_type": "code",
   "execution_count": null,
   "id": "43c890d2-9e4c-4fc7-8e56-c9f9ae4d2a1d",
   "metadata": {},
   "outputs": [],
   "source": [
    "#resp = rest.get('/facilities/v1')\n",
    "#resp = rest.get('/sales/v1/receipts/active')\n",
    "#resp = rest.get('/transfers/v1/types')\n",
    "resp = rest.get('/transfers/v1/incoming', time_range=['04/02/2021'])\n",
    "transfers = json.loads(resp.content)\n",
    "print('Found {} transfers'.format(len(transfers)))"
   ]
  },
  {
   "cell_type": "code",
   "execution_count": 112,
   "id": "39919ef0-ddaa-4cdc-9bab-a00a60432de1",
   "metadata": {},
   "outputs": [
    {
     "name": "stdout",
     "output_type": "stream",
     "text": [
      "['Manifest', 'Origin Lic', 'Origin Facility', 'Dest Lic', 'Destination Facility', 'Type', 'Received', 'Num Packages']\n",
      "['0001756041', 'C11-0001005-LIC', 'HUMBOLDT SEED COMPANY, LLC', 'CCL19-0001462', 'Kalifornia Green Akres', 'Transfer', '2021-04-02T17:53:59+00:00', 1]\n",
      "['0001732169', 'CCL19-0005494', 'Half Moon Grow Nursery Inc', 'CCL19-0001462', 'Kalifornia Green Akres', 'Transfer', '2021-04-02T17:54:07+00:00', 13]\n"
     ]
    }
   ],
   "source": [
    "\n",
    "transfers_obj = Transfers.build(transfers)\n",
    "    \n",
    "for row in transfers_obj.to_rows():\n",
    "    print(row)\n",
    "    \n",
    "transfer_ids = transfers_obj.get_delivery_ids()"
   ]
  },
  {
   "cell_type": "code",
   "execution_count": 102,
   "id": "8ad74f07-c128-40ca-bddb-493f78aecdb4",
   "metadata": {},
   "outputs": [
    {
     "data": {
      "text/plain": [
       "[1757041, 1733169]"
      ]
     },
     "execution_count": 102,
     "metadata": {},
     "output_type": "execute_result"
    }
   ],
   "source": [
    "# Want to ignore testing license transfers (why they want to look at type)\n",
    "transfer_ids\n",
    "#rest.get('/packages/v1/0001756041')"
   ]
  },
  {
   "cell_type": "code",
   "execution_count": 132,
   "id": "c9193b86-1194-4c3e-8bfe-c96b7ed061cb",
   "metadata": {},
   "outputs": [
    {
     "name": "stdout",
     "output_type": "stream",
     "text": [
      "https://api-ca.metrc.com/transfers/v1/delivery/1733169/packages?licenseNumber=CCL19-0001462\n"
     ]
    }
   ],
   "source": [
    "transfer_id = transfer_ids[1]\n",
    "resp = rest.get(f'/transfers/v1/delivery/{transfer_id}/packages')\n",
    "t_packages_json = json.loads(resp.content)"
   ]
  },
  {
   "cell_type": "code",
   "execution_count": 162,
   "id": "dcb46160-c1f7-4fe4-885f-f7aded429460",
   "metadata": {},
   "outputs": [],
   "source": [
    "transfer_packages = TransferPackages(t_packages_json)\n",
    "transfer_rows = transfer_packages.to_rows()\n",
    "\n",
    "def get_transfer_rows():\n",
    "    return transfer_rows"
   ]
  },
  {
   "cell_type": "code",
   "execution_count": 148,
   "id": "fbcf44bc-253d-4f53-8de5-76a0b32082fc",
   "metadata": {},
   "outputs": [
    {
     "name": "stdout",
     "output_type": "stream",
     "text": [
      "https://api-ca.metrc.com/labtests/v1/results?packageId=12747498&licenseNumber=CCL19-0001462\n"
     ]
    },
    {
     "ename": "Exception",
     "evalue": "Code: 401. Reason: Unauthorized. Response: b''",
     "output_type": "error",
     "traceback": [
      "\u001b[0;31m---------------------------------------------------------------------------\u001b[0m",
      "\u001b[0;31mException\u001b[0m                                 Traceback (most recent call last)",
      "\u001b[0;32m<ipython-input-148-a372027c77b9>\u001b[0m in \u001b[0;36m<module>\u001b[0;34m\u001b[0m\n\u001b[1;32m      1\u001b[0m \u001b[0mpackage_id\u001b[0m \u001b[0;34m=\u001b[0m \u001b[0;34m'12747498'\u001b[0m\u001b[0;34m\u001b[0m\u001b[0;34m\u001b[0m\u001b[0m\n\u001b[0;32m----> 2\u001b[0;31m \u001b[0mresp\u001b[0m \u001b[0;34m=\u001b[0m \u001b[0mrest\u001b[0m\u001b[0;34m.\u001b[0m\u001b[0mget\u001b[0m\u001b[0;34m(\u001b[0m\u001b[0;34mf'/labtests/v1/results?packageId={package_id}'\u001b[0m\u001b[0;34m)\u001b[0m\u001b[0;34m\u001b[0m\u001b[0;34m\u001b[0m\u001b[0m\n\u001b[0m",
      "\u001b[0;32m<ipython-input-147-c7e6b45aa592>\u001b[0m in \u001b[0;36mget\u001b[0;34m(self, path, time_range)\u001b[0m\n\u001b[1;32m     32\u001b[0m \u001b[0;34m\u001b[0m\u001b[0m\n\u001b[1;32m     33\u001b[0m         \u001b[0;32mif\u001b[0m \u001b[0;32mnot\u001b[0m \u001b[0mresp\u001b[0m\u001b[0;34m.\u001b[0m\u001b[0mok\u001b[0m\u001b[0;34m:\u001b[0m\u001b[0;34m\u001b[0m\u001b[0;34m\u001b[0m\u001b[0m\n\u001b[0;32m---> 34\u001b[0;31m             \u001b[0;32mraise\u001b[0m \u001b[0mException\u001b[0m\u001b[0;34m(\u001b[0m\u001b[0;34m'Code: {}. Reason: {}. Response: {}'\u001b[0m\u001b[0;34m.\u001b[0m\u001b[0mformat\u001b[0m\u001b[0;34m(\u001b[0m\u001b[0mresp\u001b[0m\u001b[0;34m.\u001b[0m\u001b[0mstatus_code\u001b[0m\u001b[0;34m,\u001b[0m \u001b[0mresp\u001b[0m\u001b[0;34m.\u001b[0m\u001b[0mreason\u001b[0m\u001b[0;34m,\u001b[0m \u001b[0mresp\u001b[0m\u001b[0;34m.\u001b[0m\u001b[0mcontent\u001b[0m\u001b[0;34m)\u001b[0m\u001b[0;34m)\u001b[0m\u001b[0;34m\u001b[0m\u001b[0;34m\u001b[0m\u001b[0m\n\u001b[0m\u001b[1;32m     35\u001b[0m \u001b[0;34m\u001b[0m\u001b[0m\n\u001b[1;32m     36\u001b[0m         \u001b[0;32mreturn\u001b[0m \u001b[0mresp\u001b[0m\u001b[0;34m\u001b[0m\u001b[0;34m\u001b[0m\u001b[0m\n",
      "\u001b[0;31mException\u001b[0m: Code: 401. Reason: Unauthorized. Response: b''"
     ]
    }
   ],
   "source": [
    "#package_id = '12747498'\n",
    "#resp = rest.get(f'/labtests/v1/results?packageId={package_id}')"
   ]
  },
  {
   "cell_type": "code",
   "execution_count": 164,
   "id": "4f63f850-9f6a-4d72-9367-51b4022a5371",
   "metadata": {},
   "outputs": [
    {
     "data": {
      "text/html": [
       "<div>License Number: <input type=\"text\" id=\"license-id\"></input></div>\n",
       "<br>\n",
       "<button onclick=\"onSubmit\">Submit</button>\n",
       "<script>\n",
       "function onSubmit() {\n",
       "    let res = IPython.notebook.kernel.execute(\"get_transfer_rows()\");\n",
       "}\n",
       "</script>\n"
      ],
      "text/plain": [
       "<IPython.core.display.HTML object>"
      ]
     },
     "metadata": {},
     "output_type": "display_data"
    }
   ],
   "source": [
    "%%html\n",
    "<div>License Number: <input type=\"text\" id=\"license-id\"></input></div>\n",
    "<br>\n",
    "<button onclick=\"onSubmit\">Submit</button>\n",
    "<script>\n",
    "function onSubmit() {\n",
    "    let res = IPython.notebook.kernel.execute(\"get_transfer_rows()\");\n",
    "}\n",
    "</script>"
   ]
  },
  {
   "cell_type": "code",
   "execution_count": null,
   "id": "f52558d4-8bd4-43dd-b334-e9085411d122",
   "metadata": {},
   "outputs": [],
   "source": []
  }
 ],
 "metadata": {
  "kernelspec": {
   "display_name": "Python 3",
   "language": "python",
   "name": "python3"
  },
  "language_info": {
   "codemirror_mode": {
    "name": "ipython",
    "version": 3
   },
   "file_extension": ".py",
   "mimetype": "text/x-python",
   "name": "python",
   "nbconvert_exporter": "python",
   "pygments_lexer": "ipython3",
   "version": "3.7.7"
  }
 },
 "nbformat": 4,
 "nbformat_minor": 5
}
