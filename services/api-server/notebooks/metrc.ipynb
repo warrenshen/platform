{
 "cells": [
  {
   "cell_type": "code",
   "execution_count": 25,
   "id": "8092581f-e6e4-4f1d-ac0a-f06bbb2b5584",
   "metadata": {},
   "outputs": [],
   "source": [
    "import base64\n",
    "import requests\n",
    "import os\n",
    "from dotenv import load_dotenv\n",
    "from mypy_extensions import TypedDict\n",
    "from typing import Dict\n",
    "from requests.auth import HTTPBasicAuth\n",
    "from dateutil import parser\n",
    "\n",
    "load_dotenv('../.env')\n",
    "\n",
    "user_key = os.environ.get('METRC_USER_KEY')\n",
    "vendor_key_CA = os.environ.get('METRC_VENDOR_KEY_CA')\n",
    "\n",
    "if not user_key or not vendor_key_CA:\n",
    "    raise Exception('METRC_USER_KEY or METRC_VENDOR_KEY_CA not set')\n",
    "\n",
    "auth_dict = {'vendor_key': vendor_key_CA, 'user_key': user_key}\n"
   ]
  },
  {
   "cell_type": "code",
   "execution_count": 26,
   "id": "82f8517b-dd22-4eae-b2dd-00b8bcaad38e",
   "metadata": {},
   "outputs": [
    {
     "name": "stdout",
     "output_type": "stream",
     "text": [
      "https://api-ca.metrc.com/transfers/v1/incoming?licenseNumber=C11-0000752-LIC&lastModifiedStart=2021-04-12T00:00:00&lastModifiedEnd=2021-04-13T00:00:00\n"
     ]
    },
    {
     "ename": "Exception",
     "evalue": "Code: 401. Reason: Unauthorized",
     "output_type": "error",
     "traceback": [
      "\u001b[0;31m---------------------------------------------------------------------------\u001b[0m",
      "\u001b[0;31mException\u001b[0m                                 Traceback (most recent call last)",
      "\u001b[0;32m<ipython-input-26-0ac81ce4c0df>\u001b[0m in \u001b[0;36m<module>\u001b[0;34m\u001b[0m\n\u001b[1;32m     37\u001b[0m     \u001b[0;31m#resp = rest.get('/sales/v1/receipts/active')\u001b[0m\u001b[0;34m\u001b[0m\u001b[0;34m\u001b[0m\u001b[0;34m\u001b[0m\u001b[0m\n\u001b[1;32m     38\u001b[0m     \u001b[0;31m#resp = rest.get('/transfers/v1/types')\u001b[0m\u001b[0;34m\u001b[0m\u001b[0;34m\u001b[0m\u001b[0;34m\u001b[0m\u001b[0m\n\u001b[0;32m---> 39\u001b[0;31m     \u001b[0mresp\u001b[0m \u001b[0;34m=\u001b[0m \u001b[0mrest\u001b[0m\u001b[0;34m.\u001b[0m\u001b[0mget\u001b[0m\u001b[0;34m(\u001b[0m\u001b[0;34m'/transfers/v1/incoming'\u001b[0m\u001b[0;34m,\u001b[0m \u001b[0mtime_range\u001b[0m\u001b[0;34m=\u001b[0m\u001b[0;34m(\u001b[0m\u001b[0;34m'04/12/2021'\u001b[0m\u001b[0;34m,\u001b[0m \u001b[0;34m'04/13/2021'\u001b[0m\u001b[0;34m)\u001b[0m\u001b[0;34m)\u001b[0m\u001b[0;34m\u001b[0m\u001b[0;34m\u001b[0m\u001b[0m\n\u001b[0m\u001b[1;32m     40\u001b[0m     \u001b[0mprint\u001b[0m\u001b[0;34m(\u001b[0m\u001b[0mresp\u001b[0m\u001b[0;34m.\u001b[0m\u001b[0mcontent\u001b[0m\u001b[0;34m)\u001b[0m\u001b[0;34m\u001b[0m\u001b[0;34m\u001b[0m\u001b[0m\n",
      "\u001b[0;32m<ipython-input-26-0ac81ce4c0df>\u001b[0m in \u001b[0;36mget\u001b[0;34m(self, path, time_range)\u001b[0m\n\u001b[1;32m     26\u001b[0m         \u001b[0mresp\u001b[0m \u001b[0;34m=\u001b[0m \u001b[0mrequests\u001b[0m\u001b[0;34m.\u001b[0m\u001b[0mget\u001b[0m\u001b[0;34m(\u001b[0m\u001b[0murl\u001b[0m\u001b[0;34m,\u001b[0m \u001b[0mauth\u001b[0m\u001b[0;34m=\u001b[0m\u001b[0mself\u001b[0m\u001b[0;34m.\u001b[0m\u001b[0mauth\u001b[0m\u001b[0;34m)\u001b[0m\u001b[0;34m\u001b[0m\u001b[0;34m\u001b[0m\u001b[0m\n\u001b[1;32m     27\u001b[0m         \u001b[0;32mif\u001b[0m \u001b[0;32mnot\u001b[0m \u001b[0mresp\u001b[0m\u001b[0;34m.\u001b[0m\u001b[0mok\u001b[0m\u001b[0;34m:\u001b[0m\u001b[0;34m\u001b[0m\u001b[0;34m\u001b[0m\u001b[0m\n\u001b[0;32m---> 28\u001b[0;31m             \u001b[0;32mraise\u001b[0m \u001b[0mException\u001b[0m\u001b[0;34m(\u001b[0m\u001b[0;34m'Code: {}. Reason: {}'\u001b[0m\u001b[0;34m.\u001b[0m\u001b[0mformat\u001b[0m\u001b[0;34m(\u001b[0m\u001b[0mresp\u001b[0m\u001b[0;34m.\u001b[0m\u001b[0mstatus_code\u001b[0m\u001b[0;34m,\u001b[0m \u001b[0mresp\u001b[0m\u001b[0;34m.\u001b[0m\u001b[0mreason\u001b[0m\u001b[0;34m)\u001b[0m\u001b[0;34m)\u001b[0m\u001b[0;34m\u001b[0m\u001b[0;34m\u001b[0m\u001b[0m\n\u001b[0m\u001b[1;32m     29\u001b[0m \u001b[0;34m\u001b[0m\u001b[0m\n\u001b[1;32m     30\u001b[0m         \u001b[0;32mreturn\u001b[0m \u001b[0mresp\u001b[0m\u001b[0;34m.\u001b[0m\u001b[0mcontent\u001b[0m\u001b[0;34m\u001b[0m\u001b[0;34m\u001b[0m\u001b[0m\n",
      "\u001b[0;31mException\u001b[0m: Code: 401. Reason: Unauthorized"
     ]
    }
   ],
   "source": [
    "licenses = [\n",
    "    'C11-0000752-LIC',\n",
    "    'C11-0000995-LIC',\n",
    "    'CC11-0000578-LIC',\n",
    "    'CCL19-0001462',\n",
    "    'CDPH-1000316'\n",
    "]\n",
    "\n",
    "class REST(object):\n",
    "    \n",
    "    def __init__(self, auth_dict, license_id):\n",
    "        self.auth = HTTPBasicAuth(auth_dict['vendor_key'], auth_dict['user_key'])\n",
    "        self.license_id = license_id\n",
    "        self.base_url = 'https://api-ca.metrc.com'\n",
    "        \n",
    "    def get(self, path, time_range=None):\n",
    "        url = self.base_url + path\n",
    "        url += '?licenseNumber=' + self.license_id\n",
    "        \n",
    "        if time_range:\n",
    "            lastModifiedStart = parser.parse(time_range[0]).isoformat()\n",
    "            lastModifiedEnd = parser.parse(time_range[1]).isoformat()\n",
    "            url += '&lastModifiedStart=' + lastModifiedStart + '&lastModifiedEnd=' + lastModifiedEnd\n",
    "        \n",
    "        print(url)\n",
    "        resp = requests.get(url, auth=self.auth)\n",
    "        if not resp.ok:\n",
    "            raise Exception('Code: {}. Reason: {}'.format(resp.status_code, resp.reason))\n",
    "        \n",
    "        return resp.content\n",
    "        \n",
    "licenses = [licenses[0]]\n",
    "for i in range(len(licenses)):\n",
    "    license_id = licenses[i]\n",
    "    rest = REST(auth_dict=auth_dict, license_id=license_id)\n",
    "    #resp = rest.get('/facilities/v1')\n",
    "    #resp = rest.get('/sales/v1/receipts/active')\n",
    "    #resp = rest.get('/transfers/v1/types')\n",
    "    resp = rest.get('/transfers/v1/incoming', time_range=('04/12/2021', '04/13/2021'))\n",
    "    print(resp.content)"
   ]
  },
  {
   "cell_type": "code",
   "execution_count": null,
   "id": "b0982ef5-b71a-4980-896b-7d17ab38e92f",
   "metadata": {},
   "outputs": [],
   "source": []
  }
 ],
 "metadata": {
  "kernelspec": {
   "display_name": "Python 3",
   "language": "python",
   "name": "python3"
  },
  "language_info": {
   "codemirror_mode": {
    "name": "ipython",
    "version": 3
   },
   "file_extension": ".py",
   "mimetype": "text/x-python",
   "name": "python",
   "nbconvert_exporter": "python",
   "pygments_lexer": "ipython3",
   "version": "3.7.7"
  }
 },
 "nbformat": 4,
 "nbformat_minor": 5
}
