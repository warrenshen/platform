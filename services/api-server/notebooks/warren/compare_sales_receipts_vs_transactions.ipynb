{
 "cells": [
  {
   "cell_type": "code",
   "execution_count": 65,
   "id": "7292a620-8ede-48a5-a0fb-79ee22d73949",
   "metadata": {},
   "outputs": [],
   "source": [
    "import json\n",
    "import os\n",
    "import pandas\n",
    "import pyarrow\n",
    "import sys\n",
    "\n",
    "from dotenv import load_dotenv\n",
    "from sqlalchemy import create_engine\n",
    "from os import path\n",
    "\n",
    "load_dotenv(verbose=True)\n",
    "BIGQUERY_CREDENTIALS_PATH = os.environ.get('BIGQUERY_CREDENTIALS_PATH')"
   ]
  },
  {
   "cell_type": "code",
   "execution_count": 83,
   "id": "7e033a58-7746-4088-b8de-2224bd51adaf",
   "metadata": {},
   "outputs": [
    {
     "name": "stdout",
     "output_type": "stream",
     "text": [
      "The autoreload extension is already loaded. To reload it, use:\n",
      "  %reload_ext autoreload\n"
     ]
    }
   ],
   "source": [
    "sys.path.append(path.realpath(path.join(os.getcwd(), \"../core\")))\n",
    "import create_queries\n",
    "%load_ext autoreload\n",
    "%autoreload 2"
   ]
  },
  {
   "cell_type": "code",
   "execution_count": 133,
   "id": "4a80e7e3-53f7-4c90-805d-dc79b6b58250",
   "metadata": {},
   "outputs": [],
   "source": [
    "COMPANY_IDENTIFIER = 'PL'\n",
    "SALES_TRANSACTIONS_START_DATE = '2020-01-01'"
   ]
  },
  {
   "cell_type": "code",
   "execution_count": 134,
   "id": "f561d2c4-4ad2-4b3a-bd06-0fdee9f4bdcb",
   "metadata": {},
   "outputs": [],
   "source": [
    "# company_sales_receipts_query = create_queries.create_company_sales_receipts_query(COMPANY_IDENTIFIER, SALES_TRANSACTIONS_START_DATE)\n",
    "company_sales_receipts_with_transactions_query = create_queries.create_company_sales_receipts_with_transactions_query(COMPANY_IDENTIFIER, SALES_TRANSACTIONS_START_DATE)\n",
    "\n",
    "engine = create_engine('bigquery://bespoke-financial/ProdMetrcData', credentials_path=os.path.expanduser(BIGQUERY_CREDENTIALS_PATH))\n",
    "\n",
    "# company_sales_receipts_dataframe = pandas.read_sql_query(company_sales_receipts_query, engine)\n",
    "company_sales_receipts_with_transactions_dataframe = pandas.read_sql_query(company_sales_receipts_with_transactions_query, engine)"
   ]
  },
  {
   "cell_type": "code",
   "execution_count": 136,
   "id": "60f85e03-aedd-43cf-bf86-54c2c64caaf1",
   "metadata": {},
   "outputs": [],
   "source": [
    "sales_receipts_dataframe = company_sales_receipts_with_transactions_dataframe\n",
    "fn = lambda row: f'{row.sales_datetime.year}-{\"0\" if row.sales_datetime.month < 10 else \"\"}{row.sales_datetime.month}'\n",
    "col = sales_receipts_dataframe.apply(fn, axis=1)\n",
    "sales_receipts_dataframe = sales_receipts_dataframe.assign(sales_month=col.values)"
   ]
  },
  {
   "cell_type": "code",
   "execution_count": 137,
   "id": "a7491265-655e-41a4-8160-76a4e56113bc",
   "metadata": {},
   "outputs": [],
   "source": [
    "sales_receipts_records = sales_receipts_dataframe.to_dict('records')"
   ]
  },
  {
   "cell_type": "code",
   "execution_count": 139,
   "id": "f3cdbb76-22fd-4561-a596-a3a2d2c3afca",
   "metadata": {},
   "outputs": [],
   "source": [
    "receipt_number_to_transactions = {}\n",
    "for sales_receipt_record in sales_receipts_records:\n",
    "    receipt_number = sales_receipt_record['receipt_number']\n",
    "    if receipt_number in receipt_number_to_transactions:\n",
    "        receipt_number_to_transactions[receipt_number] += [sales_receipt_record]\n",
    "    else:\n",
    "        receipt_number_to_transactions[receipt_number] = [sales_receipt_record]"
   ]
  },
  {
   "cell_type": "code",
   "execution_count": 144,
   "id": "5410e2eb-7224-4444-abd0-71b451bc14ac",
   "metadata": {},
   "outputs": [
    {
     "name": "stdout",
     "output_type": "stream",
     "text": [
      "# mismatch receipt vs transactions: 110369 (22.989949487059313%)\n",
      "# missing transactions: 487 (0.10144248294537313%)\n",
      "# total: 480075\n",
      "# mismatch receipt vs transactions (transactions over): 109905 (99.57959209560656%)\n",
      "# mismatch receipt vs transactions (transactions under): 464 (0.4204079043934438%)\n"
     ]
    }
   ],
   "source": [
    "import math\n",
    "\n",
    "def float_eq(a: float, b: float) -> bool:\n",
    "\treturn math.isclose(a, b, abs_tol=0.01)\n",
    "\n",
    "mismatch_count = 0 # Count of receipts where receipt total price does not match transactions total price.\n",
    "missing_count = 0 # Count of receipts with no transactions.\n",
    "total_count = 0 # Count of receipts (including those missing transactions).\n",
    "\n",
    "mismatch_over_count = 0\n",
    "mismatch_under_count = 0\n",
    "\n",
    "month_to_mismatch_count = {}\n",
    "month_to_missing_count = {}\n",
    "\n",
    "month_to_mismatch_over_count = {}\n",
    "month_to_mismatch_under_count = {}\n",
    "\n",
    "example_mismatch_over_receipts = []\n",
    "example_mismatch_under_receipts = []\n",
    "\n",
    "for receipt_number, receipt_transactions in list(receipt_number_to_transactions.items()):\n",
    "    receipt_total_price = receipt_transactions[0]['rt_total_price']\n",
    "    receipt_sales_month = receipt_transactions[0]['sales_month']\n",
    "    total_count += 1\n",
    "\n",
    "    if len(receipt_transactions) == 1 and receipt_transactions[0]['tx_id'] == None:\n",
    "        missing_count += 1\n",
    "        if receipt_sales_month not in month_to_missing_count:\n",
    "            month_to_missing_count[receipt_sales_month] = 0\n",
    "        month_to_missing_count[receipt_sales_month] += 1\n",
    "        continue\n",
    "\n",
    "    transactions_total_price = sum(receipt_transaction['tx_total_price'] for receipt_transaction in receipt_transactions)\n",
    "    if not float_eq(receipt_total_price, transactions_total_price):\n",
    "        mismatch_count += 1\n",
    "        if receipt_total_price < transactions_total_price:\n",
    "            mismatch_over_count += 1\n",
    "            example_mismatch_over_receipts += [(receipt_number, receipt_transactions)]\n",
    "        else:\n",
    "            mismatch_under_count += 1\n",
    "            example_mismatch_under_receipts += [(receipt_number, receipt_transactions)]\n",
    "\n",
    "        if receipt_sales_month not in month_to_mismatch_count:\n",
    "            month_to_mismatch_count[receipt_sales_month] = 0\n",
    "        month_to_mismatch_count[receipt_sales_month] += 1\n",
    "        continue\n",
    "\n",
    "print(f'# mismatch receipt vs transactions: {mismatch_count} ({mismatch_count / total_count * 100}%)')\n",
    "print(f'# missing transactions: {missing_count} ({missing_count / total_count * 100}%)')\n",
    "print(f'# total: {total_count}')\n",
    "\n",
    "print(f'# mismatch receipt vs transactions (transactions over): {mismatch_over_count} ({mismatch_over_count / mismatch_count * 100}%)')\n",
    "print(f'# mismatch receipt vs transactions (transactions under): {mismatch_under_count} ({mismatch_under_count / mismatch_count * 100}%)')"
   ]
  },
  {
   "cell_type": "code",
   "execution_count": 145,
   "id": "478797f0-2aa6-4f7a-8d1e-abe53d27aadb",
   "metadata": {},
   "outputs": [
    {
     "data": {
      "text/plain": [
       "{'2021-07': 31,\n",
       " '2020-12': 62,\n",
       " '2020-11': 93,\n",
       " '2020-10': 14,\n",
       " '2020-09': 24,\n",
       " '2020-08': 38,\n",
       " '2020-07': 3,\n",
       " '2020-06': 77,\n",
       " '2020-05': 47,\n",
       " '2020-04': 33,\n",
       " '2020-03': 6,\n",
       " '2020-02': 15,\n",
       " '2020-01': 44}"
      ]
     },
     "execution_count": 145,
     "metadata": {},
     "output_type": "execute_result"
    }
   ],
   "source": [
    "month_to_missing_count"
   ]
  },
  {
   "cell_type": "code",
   "execution_count": 146,
   "id": "ac4f655d-92db-44a6-86d7-27e340248bf0",
   "metadata": {},
   "outputs": [
    {
     "data": {
      "text/plain": [
       "{'2021-10': 404,\n",
       " '2021-07': 5118,\n",
       " '2021-06': 27293,\n",
       " '2021-05': 17605,\n",
       " '2021-04': 20073,\n",
       " '2021-03': 11961,\n",
       " '2021-02': 2405,\n",
       " '2021-01': 25493,\n",
       " '2020-12': 1,\n",
       " '2020-11': 2,\n",
       " '2020-08': 2,\n",
       " '2020-07': 3,\n",
       " '2020-05': 3,\n",
       " '2020-02': 2,\n",
       " '2020-01': 4}"
      ]
     },
     "execution_count": 146,
     "metadata": {},
     "output_type": "execute_result"
    }
   ],
   "source": [
    "month_to_mismatch_count"
   ]
  },
  {
   "cell_type": "code",
   "execution_count": 147,
   "id": "1b8ff132-b6b1-471b-b0f6-76805e623c9e",
   "metadata": {},
   "outputs": [
    {
     "data": {
      "text/plain": [
       "('0135083778',\n",
       " [{'rt_id': '25f3d3ed-4407-479c-af8a-9abdc8e912a3',\n",
       "   'license_number': 'C10-0000241-LIC',\n",
       "   'receipt_number': '0135083778',\n",
       "   'rt_type': 'active',\n",
       "   'sales_customer_type': 'Consumer',\n",
       "   'sales_datetime': Timestamp('2021-10-09 14:46:17+0000', tz='UTC'),\n",
       "   'total_packages': 3,\n",
       "   'rt_total_price': 75.97,\n",
       "   'tx_id': 'dc8b69de-4d24-4a20-a2ea-eaec0938cbfa',\n",
       "   'tx_type': 'active',\n",
       "   'tx_package_id': '18180500',\n",
       "   'tx_package_label': '1A4060300008410000001329',\n",
       "   'tx_product_name': 'Maui wowie',\n",
       "   'tx_product_category_name': 'Vape Cartridge (weight - each)',\n",
       "   'tx_unit_of_measure': 'Each',\n",
       "   'tx_quantity_sold': 1.0,\n",
       "   'tx_total_price': 34.99,\n",
       "   'sales_month': '2021-10'},\n",
       "  {'rt_id': '25f3d3ed-4407-479c-af8a-9abdc8e912a3',\n",
       "   'license_number': 'C10-0000241-LIC',\n",
       "   'receipt_number': '0135083778',\n",
       "   'rt_type': 'active',\n",
       "   'sales_customer_type': 'Consumer',\n",
       "   'sales_datetime': Timestamp('2021-10-09 14:46:17+0000', tz='UTC'),\n",
       "   'total_packages': 3,\n",
       "   'rt_total_price': 75.97,\n",
       "   'tx_id': 'b281506d-bbf2-4eef-ab63-4651a5156823',\n",
       "   'tx_type': 'active',\n",
       "   'tx_package_id': '17252554',\n",
       "   'tx_package_label': '1A4060300006E2E000099170',\n",
       "   'tx_product_name': 'KE - THC Indica Mango 100mg - 43g',\n",
       "   'tx_product_category_name': 'Edible (weight - each)',\n",
       "   'tx_unit_of_measure': 'Each',\n",
       "   'tx_quantity_sold': 1.0,\n",
       "   'tx_total_price': 14.99,\n",
       "   'sales_month': '2021-10'},\n",
       "  {'rt_id': '25f3d3ed-4407-479c-af8a-9abdc8e912a3',\n",
       "   'license_number': 'C10-0000241-LIC',\n",
       "   'receipt_number': '0135083778',\n",
       "   'rt_type': 'active',\n",
       "   'sales_customer_type': 'Consumer',\n",
       "   'sales_datetime': Timestamp('2021-10-09 14:46:17+0000', tz='UTC'),\n",
       "   'total_packages': 3,\n",
       "   'rt_total_price': 75.97,\n",
       "   'tx_id': '5d82bd61-56be-4402-96a8-e956afd6cdb1',\n",
       "   'tx_type': 'active',\n",
       "   'tx_package_id': '17252554',\n",
       "   'tx_package_label': '1A4060300006E2E000099170',\n",
       "   'tx_product_name': 'KE - THC Indica Mango 100mg - 43g',\n",
       "   'tx_product_category_name': 'Edible (weight - each)',\n",
       "   'tx_unit_of_measure': 'Each',\n",
       "   'tx_quantity_sold': 1.0,\n",
       "   'tx_total_price': 14.99,\n",
       "   'sales_month': '2021-10'},\n",
       "  {'rt_id': '25f3d3ed-4407-479c-af8a-9abdc8e912a3',\n",
       "   'license_number': 'C10-0000241-LIC',\n",
       "   'receipt_number': '0135083778',\n",
       "   'rt_type': 'active',\n",
       "   'sales_customer_type': 'Consumer',\n",
       "   'sales_datetime': Timestamp('2021-10-09 14:46:17+0000', tz='UTC'),\n",
       "   'total_packages': 3,\n",
       "   'rt_total_price': 75.97,\n",
       "   'tx_id': 'fb3c5eda-66ad-4389-953f-766d0cb8c32c',\n",
       "   'tx_type': 'active',\n",
       "   'tx_package_id': '18180500',\n",
       "   'tx_package_label': '1A4060300008410000001329',\n",
       "   'tx_product_name': 'Maui wowie',\n",
       "   'tx_product_category_name': 'Vape Cartridge (weight - each)',\n",
       "   'tx_unit_of_measure': 'Each',\n",
       "   'tx_quantity_sold': 1.0,\n",
       "   'tx_total_price': 34.99,\n",
       "   'sales_month': '2021-10'},\n",
       "  {'rt_id': '25f3d3ed-4407-479c-af8a-9abdc8e912a3',\n",
       "   'license_number': 'C10-0000241-LIC',\n",
       "   'receipt_number': '0135083778',\n",
       "   'rt_type': 'active',\n",
       "   'sales_customer_type': 'Consumer',\n",
       "   'sales_datetime': Timestamp('2021-10-09 14:46:17+0000', tz='UTC'),\n",
       "   'total_packages': 3,\n",
       "   'rt_total_price': 75.97,\n",
       "   'tx_id': '24b0518b-9660-445e-abf2-9dca9077ecb4',\n",
       "   'tx_type': 'active',\n",
       "   'tx_package_id': '17970004',\n",
       "   'tx_package_label': '1A406030000A429000123716',\n",
       "   'tx_product_name': 'STIIIZY - STIIIZY - Blue Dream Pod - 0.5g - 0.5ml',\n",
       "   'tx_product_category_name': 'Vape Cartridge (volume - each)',\n",
       "   'tx_unit_of_measure': 'Each',\n",
       "   'tx_quantity_sold': 1.0,\n",
       "   'tx_total_price': 25.99,\n",
       "   'sales_month': '2021-10'},\n",
       "  {'rt_id': '25f3d3ed-4407-479c-af8a-9abdc8e912a3',\n",
       "   'license_number': 'C10-0000241-LIC',\n",
       "   'receipt_number': '0135083778',\n",
       "   'rt_type': 'active',\n",
       "   'sales_customer_type': 'Consumer',\n",
       "   'sales_datetime': Timestamp('2021-10-09 14:46:17+0000', tz='UTC'),\n",
       "   'total_packages': 3,\n",
       "   'rt_total_price': 75.97,\n",
       "   'tx_id': 'ea518145-c331-44f6-be79-74dcfdb70d76',\n",
       "   'tx_type': 'active',\n",
       "   'tx_package_id': '17970004',\n",
       "   'tx_package_label': '1A406030000A429000123716',\n",
       "   'tx_product_name': 'STIIIZY - STIIIZY - Blue Dream Pod - 0.5g - 0.5ml',\n",
       "   'tx_product_category_name': 'Vape Cartridge (volume - each)',\n",
       "   'tx_unit_of_measure': 'Each',\n",
       "   'tx_quantity_sold': 1.0,\n",
       "   'tx_total_price': 25.99,\n",
       "   'sales_month': '2021-10'}])"
      ]
     },
     "execution_count": 147,
     "metadata": {},
     "output_type": "execute_result"
    }
   ],
   "source": [
    "example_mismatch_over_receipts[0]"
   ]
  },
  {
   "cell_type": "code",
   "execution_count": 148,
   "id": "647c896d-63d6-45f2-a240-2ea38c3e2c34",
   "metadata": {},
   "outputs": [
    {
     "data": {
      "text/plain": [
       "('0135047120',\n",
       " [{'rt_id': '9457afc7-9124-4069-b145-2a3c79d9e2b8',\n",
       "   'license_number': 'C10-0000241-LIC',\n",
       "   'receipt_number': '0135047120',\n",
       "   'rt_type': 'active',\n",
       "   'sales_customer_type': 'Consumer',\n",
       "   'sales_datetime': Timestamp('2021-10-09 12:23:14+0000', tz='UTC'),\n",
       "   'total_packages': 1,\n",
       "   'rt_total_price': -27.54,\n",
       "   'tx_id': 'fad5ffd9-a858-4f3e-9bbd-66e21f6fc5e7',\n",
       "   'tx_type': 'active',\n",
       "   'tx_package_id': '17969853',\n",
       "   'tx_package_label': '1A406030000A429000123686',\n",
       "   'tx_product_name': 'LIIIL - Blue Dream Disposable - 0.5g',\n",
       "   'tx_product_category_name': 'Vape Cartridge (weight - each)',\n",
       "   'tx_unit_of_measure': 'Each',\n",
       "   'tx_quantity_sold': -1.0,\n",
       "   'tx_total_price': -27.54,\n",
       "   'sales_month': '2021-10'},\n",
       "  {'rt_id': '9457afc7-9124-4069-b145-2a3c79d9e2b8',\n",
       "   'license_number': 'C10-0000241-LIC',\n",
       "   'receipt_number': '0135047120',\n",
       "   'rt_type': 'active',\n",
       "   'sales_customer_type': 'Consumer',\n",
       "   'sales_datetime': Timestamp('2021-10-09 12:23:14+0000', tz='UTC'),\n",
       "   'total_packages': 1,\n",
       "   'rt_total_price': -27.54,\n",
       "   'tx_id': 'd4badd19-96a9-447c-944a-04eaca87645c',\n",
       "   'tx_type': 'active',\n",
       "   'tx_package_id': '17969853',\n",
       "   'tx_package_label': '1A406030000A429000123686',\n",
       "   'tx_product_name': 'LIIIL - Blue Dream Disposable - 0.5g',\n",
       "   'tx_product_category_name': 'Vape Cartridge (weight - each)',\n",
       "   'tx_unit_of_measure': 'Each',\n",
       "   'tx_quantity_sold': -1.0,\n",
       "   'tx_total_price': -27.54,\n",
       "   'sales_month': '2021-10'}])"
      ]
     },
     "execution_count": 148,
     "metadata": {},
     "output_type": "execute_result"
    }
   ],
   "source": [
    "example_mismatch_under_receipts[0]"
   ]
  },
  {
   "cell_type": "code",
   "execution_count": null,
   "id": "cdb0cadc-ee6e-47e9-a442-e849a2dc3796",
   "metadata": {},
   "outputs": [],
   "source": []
  }
 ],
 "metadata": {
  "kernelspec": {
   "display_name": "Python 3",
   "language": "python",
   "name": "python3"
  },
  "language_info": {
   "codemirror_mode": {
    "name": "ipython",
    "version": 3
   },
   "file_extension": ".py",
   "mimetype": "text/x-python",
   "name": "python",
   "nbconvert_exporter": "python",
   "pygments_lexer": "ipython3",
   "version": "3.7.7"
  }
 },
 "nbformat": 4,
 "nbformat_minor": 5
}
