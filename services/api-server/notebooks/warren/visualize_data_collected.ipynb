{
 "cells": [
  {
   "cell_type": "code",
   "execution_count": null,
   "id": "c3a7b1de-faa7-4f28-8b73-30e6488fd169",
   "metadata": {},
   "outputs": [],
   "source": [
    "import json\n",
    "import os\n",
    "import pandas\n",
    "import pyarrow\n",
    "import sys\n",
    "\n",
    "from dotenv import load_dotenv\n",
    "from sqlalchemy import create_engine\n",
    "from os import path\n",
    "\n",
    "load_dotenv(verbose=True)\n",
    "BIGQUERY_CREDENTIALS_PATH = os.environ.get('BIGQUERY_CREDENTIALS_PATH')\n",
    "engine = create_engine('bigquery://bespoke-financial/ProdMetrcData', credentials_path=os.path.expanduser(BIGQUERY_CREDENTIALS_PATH))\n",
    "\n",
    "sys.path.append(path.realpath(path.join(os.getcwd(), \"../core\")))\n",
    "import create_queries\n",
    "import prepare_data\n",
    "%load_ext autoreload\n",
    "%autoreload 2"
   ]
  },
  {
   "cell_type": "code",
   "execution_count": null,
   "id": "7434faf6-37c7-4379-96ef-d349c1ea49c7",
   "metadata": {},
   "outputs": [],
   "source": []
  },
  {
   "cell_type": "markdown",
   "id": "0284f7fd-4950-4db9-b031-19fa46ec593a",
   "metadata": {},
   "source": [
    "## Sales receipts"
   ]
  },
  {
   "cell_type": "code",
   "execution_count": null,
   "id": "e5574fd1-c853-4a3c-b343-c87e0f6c4b43",
   "metadata": {},
   "outputs": [],
   "source": [
    "sales_receipts_for_analysis_query = create_queries.create_sales_receipts_for_analysis_query()\n",
    "sales_receipts_for_analysis_dataframe = pandas.read_sql_query(sales_receipts_for_analysis_query, engine)"
   ]
  },
  {
   "cell_type": "code",
   "execution_count": null,
   "id": "fb0a8242-06b7-4707-9c9b-0aef82013ec2",
   "metadata": {},
   "outputs": [],
   "source": [
    "sales_receipts_for_analysis_dataframe['count'].sum()"
   ]
  },
  {
   "cell_type": "code",
   "execution_count": null,
   "id": "77941388-bc75-43bd-8914-ec9ac055f899",
   "metadata": {},
   "outputs": [],
   "source": [
    "analysis_dataframe = sales_receipts_for_analysis_dataframe.sort_values(['created_week']).reset_index(drop=True)\n",
    "analysis_dataframe = analysis_dataframe.groupby(['created_week']).sum()\n",
    "cum_analysis_dataframe = analysis_dataframe.cumsum()\n",
    "cum_analysis_dataframe"
   ]
  },
  {
   "cell_type": "code",
   "execution_count": null,
   "id": "4a6482a3-be8a-46e1-a938-4baace092baa",
   "metadata": {},
   "outputs": [],
   "source": [
    "cum_analysis_dataframe.groupby(['created_week'])['count'].sum().plot.bar(figsize=(24, 8))"
   ]
  },
  {
   "cell_type": "code",
   "execution_count": null,
   "id": "f996f047-2ff4-4bd3-baaa-c1f3caaebd59",
   "metadata": {},
   "outputs": [],
   "source": []
  },
  {
   "cell_type": "markdown",
   "id": "f640b71b-69d9-47d3-85ca-1c5ea5569b1d",
   "metadata": {},
   "source": [
    "## Incoming transfers"
   ]
  },
  {
   "cell_type": "code",
   "execution_count": null,
   "id": "33cc5f85-ca9d-444e-8363-eb2fe6f76c5c",
   "metadata": {},
   "outputs": [],
   "source": [
    "incoming_transfers_for_analysis_query = create_queries.create_transfers_for_analysis_query()\n",
    "incoming_transfers_for_analysis_dataframe = pandas.read_sql_query(incoming_transfers_for_analysis_query, engine)"
   ]
  },
  {
   "cell_type": "code",
   "execution_count": null,
   "id": "53453371-8ff2-4804-b0e8-4fe8a29c5294",
   "metadata": {},
   "outputs": [],
   "source": [
    "incoming_transfers_for_analysis_dataframe['count'].sum()"
   ]
  },
  {
   "cell_type": "code",
   "execution_count": null,
   "id": "790add50-e5ea-4db2-97c1-1f8d4f1ffe07",
   "metadata": {},
   "outputs": [],
   "source": [
    "analysis_dataframe = incoming_transfers_for_analysis_dataframe.sort_values(['created_week']).reset_index(drop=True)\n",
    "analysis_dataframe = analysis_dataframe.groupby(['created_week']).sum()\n",
    "cum_analysis_dataframe = analysis_dataframe.cumsum()\n",
    "cum_analysis_dataframe"
   ]
  },
  {
   "cell_type": "code",
   "execution_count": null,
   "id": "ee5b1c1d-bd73-41ad-9a45-7d862e1b294c",
   "metadata": {},
   "outputs": [],
   "source": [
    "cum_analysis_dataframe.groupby(['created_week'])['count'].sum().plot.bar(figsize=(24, 8))"
   ]
  },
  {
   "cell_type": "code",
   "execution_count": null,
   "id": "ba9d57da-1ddb-47bf-b93e-341af4b80dbc",
   "metadata": {},
   "outputs": [],
   "source": []
  },
  {
   "cell_type": "markdown",
   "id": "b0302e1e-75ee-4c97-9e1d-6b6fa3014b3e",
   "metadata": {},
   "source": [
    "## Incoming transfer packages"
   ]
  },
  {
   "cell_type": "code",
   "execution_count": null,
   "id": "fc96d7ed-08d0-4d5f-8866-0765ff334175",
   "metadata": {},
   "outputs": [],
   "source": [
    "incoming_transfer_packages_for_analysis_query = create_queries.create_incoming_transfer_packages_for_analysis_query()\n",
    "incoming_transfer_packages_for_analysis_dataframe = pandas.read_sql_query(incoming_transfer_packages_for_analysis_query, engine)"
   ]
  },
  {
   "cell_type": "code",
   "execution_count": null,
   "id": "dbf48d80-610c-4c4c-92c6-41a035fc97a9",
   "metadata": {},
   "outputs": [],
   "source": [
    "incoming_transfer_packages_for_analysis_dataframe['count'].sum()"
   ]
  },
  {
   "cell_type": "code",
   "execution_count": null,
   "id": "99c062f8-61a8-4467-8fe5-1009c4abdec3",
   "metadata": {},
   "outputs": [],
   "source": [
    "analysis_dataframe = incoming_transfer_packages_for_analysis_dataframe.sort_values(['created_week']).reset_index(drop=True)\n",
    "analysis_dataframe = analysis_dataframe.groupby(['created_week']).sum()\n",
    "cum_analysis_dataframe = analysis_dataframe.cumsum()\n",
    "cum_analysis_dataframe"
   ]
  },
  {
   "cell_type": "code",
   "execution_count": null,
   "id": "f4ee63de-11d9-48a4-9b05-48d7e184d13f",
   "metadata": {},
   "outputs": [],
   "source": [
    "cum_analysis_dataframe.groupby(['created_week'])['count'].sum().plot.bar(figsize=(24, 8))"
   ]
  },
  {
   "cell_type": "code",
   "execution_count": null,
   "id": "290d6095-a48c-42c4-9460-dd510648df9d",
   "metadata": {},
   "outputs": [],
   "source": []
  },
  {
   "cell_type": "code",
   "execution_count": null,
   "id": "4be84760-f4e1-42c8-8a5d-6ad7e31d86c5",
   "metadata": {},
   "outputs": [],
   "source": []
  },
  {
   "cell_type": "code",
   "execution_count": null,
   "id": "cd12e888-f120-4ef3-af17-22fedf18f829",
   "metadata": {},
   "outputs": [],
   "source": []
  },
  {
   "cell_type": "code",
   "execution_count": null,
   "id": "0b03c8ef-d211-4a89-aa03-5bd001640db0",
   "metadata": {},
   "outputs": [],
   "source": []
  },
  {
   "cell_type": "code",
   "execution_count": null,
   "id": "7e631582-d355-48d1-a780-a521ccc393b6",
   "metadata": {},
   "outputs": [],
   "source": []
  },
  {
   "cell_type": "code",
   "execution_count": null,
   "id": "f1a1e58d-9822-451b-a44a-1fe6a699f5a9",
   "metadata": {},
   "outputs": [],
   "source": []
  },
  {
   "cell_type": "code",
   "execution_count": null,
   "id": "ad1ccba9-4289-42bb-9bbd-8b79748a0b42",
   "metadata": {},
   "outputs": [],
   "source": []
  }
 ],
 "metadata": {
  "kernelspec": {
   "display_name": "Python 3",
   "language": "python",
   "name": "python3"
  },
  "language_info": {
   "codemirror_mode": {
    "name": "ipython",
    "version": 3
   },
   "file_extension": ".py",
   "mimetype": "text/x-python",
   "name": "python",
   "nbconvert_exporter": "python",
   "pygments_lexer": "ipython3",
   "version": "3.7.7"
  }
 },
 "nbformat": 4,
 "nbformat_minor": 5
}
