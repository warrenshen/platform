{
 "cells": [
  {
   "cell_type": "code",
   "execution_count": null,
   "id": "c3a7b1de-faa7-4f28-8b73-30e6488fd169",
   "metadata": {},
   "outputs": [],
   "source": [
    "import json\n",
    "import os\n",
    "import pandas\n",
    "import pyarrow\n",
    "import sys\n",
    "\n",
    "from dotenv import load_dotenv\n",
    "from sqlalchemy import create_engine\n",
    "from os import path\n",
    "\n",
    "load_dotenv(verbose=True)\n",
    "BIGQUERY_CREDENTIALS_PATH = os.environ.get('BIGQUERY_CREDENTIALS_PATH')\n",
    "engine = create_engine('bigquery://bespoke-financial/ProdMetrcData', credentials_path=os.path.expanduser(BIGQUERY_CREDENTIALS_PATH))\n",
    "\n",
    "sys.path.append(path.realpath(path.join(os.getcwd(), \"../core\")))\n",
    "import create_queries\n",
    "import prepare_data\n",
    "%load_ext autoreload\n",
    "%autoreload 2"
   ]
  },
  {
   "cell_type": "code",
   "execution_count": null,
   "id": "7434faf6-37c7-4379-96ef-d349c1ea49c7",
   "metadata": {},
   "outputs": [],
   "source": []
  },
  {
   "cell_type": "code",
   "execution_count": null,
   "id": "e5574fd1-c853-4a3c-b343-c87e0f6c4b43",
   "metadata": {},
   "outputs": [],
   "source": [
    "sales_receipts_for_analysis_query = create_queries.create_sales_receipts_for_analysis_query()\n",
    "sales_receipts_for_analysis_dataframe = pandas.read_sql_query(sales_receipts_for_analysis_query, engine)"
   ]
  },
  {
   "cell_type": "code",
   "execution_count": null,
   "id": "fb0a8242-06b7-4707-9c9b-0aef82013ec2",
   "metadata": {},
   "outputs": [],
   "source": [
    "sales_receipts_for_analysis_dataframe['count'].sum()"
   ]
  },
  {
   "cell_type": "code",
   "execution_count": null,
   "id": "77941388-bc75-43bd-8914-ec9ac055f899",
   "metadata": {},
   "outputs": [],
   "source": [
    "analysis_dataframe = sales_receipts_for_analysis_dataframe.sort_values(['created_week']).reset_index(drop=True)\n",
    "analysis_dataframe = analysis_dataframe.groupby(['created_week']).sum()\n",
    "cum_analysis_dataframe = analysis_dataframe.cumsum()\n",
    "cum_analysis_dataframe"
   ]
  },
  {
   "cell_type": "code",
   "execution_count": null,
   "id": "4a6482a3-be8a-46e1-a938-4baace092baa",
   "metadata": {},
   "outputs": [],
   "source": [
    "cum_analysis_dataframe.groupby(['created_week'])['count'].sum().plot.bar(figsize=(24, 8))"
   ]
  },
  {
   "cell_type": "code",
   "execution_count": null,
   "id": "f996f047-2ff4-4bd3-baaa-c1f3caaebd59",
   "metadata": {},
   "outputs": [],
   "source": []
  }
 ],
 "metadata": {
  "kernelspec": {
   "display_name": "Python 3",
   "language": "python",
   "name": "python3"
  },
  "language_info": {
   "codemirror_mode": {
    "name": "ipython",
    "version": 3
   },
   "file_extension": ".py",
   "mimetype": "text/x-python",
   "name": "python",
   "nbconvert_exporter": "python",
   "pygments_lexer": "ipython3",
   "version": "3.7.7"
  }
 },
 "nbformat": 4,
 "nbformat_minor": 5
}
