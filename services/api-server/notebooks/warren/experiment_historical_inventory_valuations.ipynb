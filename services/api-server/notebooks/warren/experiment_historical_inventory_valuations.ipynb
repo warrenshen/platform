{
 "cells": [
  {
   "cell_type": "code",
   "execution_count": 8,
   "id": "170c442e-f0fb-4421-a3bf-5f87863f8277",
   "metadata": {},
   "outputs": [],
   "source": [
    "import json\n",
    "import os\n",
    "import numpy\n",
    "import pandas\n",
    "import pyarrow\n",
    "import sys\n",
    "\n",
    "from datetime import date\n",
    "from os import path\n",
    "from dotenv import load_dotenv\n",
    "from sqlalchemy import create_engine\n",
    "\n",
    "# Steps to install\n",
    "# 1. pip install sqlalchemy-bigquery google-cloud-bigquery-storage pyarrow\n",
    "# 2. Copy the credentials file to wherever you set BIGQUERY_CREDENTIALS_PATH to\n",
    "\n",
    "load_dotenv(verbose=True)\n",
    "BIGQUERY_CREDENTIALS_PATH = os.environ.get('BIGQUERY_CREDENTIALS_PATH')\n",
    "engine = create_engine('bigquery://bespoke-financial/ProdMetrcData', credentials_path=os.path.expanduser(BIGQUERY_CREDENTIALS_PATH))"
   ]
  },
  {
   "cell_type": "code",
   "execution_count": 2,
   "id": "38f9a288-03bc-43c5-82f8-a7c5a55f7286",
   "metadata": {},
   "outputs": [],
   "source": [
    "sys.path.append(path.realpath(path.join(os.getcwd(), \"../core\")))\n",
    "import create_queries\n",
    "%load_ext autoreload\n",
    "%autoreload 2"
   ]
  },
  {
   "cell_type": "code",
   "execution_count": 3,
   "id": "fbfe06bc-cc79-41cc-814e-1d2166177496",
   "metadata": {},
   "outputs": [
    {
     "name": "stdout",
     "output_type": "stream",
     "text": [
      "Today is 11/01/2021\n"
     ]
    }
   ],
   "source": [
    "COMPANY_NAME = 'RA'\n",
    "COMPANY_IDENTIFIER = 'RA'\n",
    "TRANSFER_PACKAGES_START_DATE = '2020-01-01'\n",
    "SALES_TRANSACTIONS_START_DATE = '2020-01-01'\n",
    "INVENTORY_DATES = [\n",
    "    '01/31/2020',\n",
    "    '02/28/2020',\n",
    "    '03/31/2020',\n",
    "    '04/30/2020',\n",
    "    '05/31/2020',\n",
    "    '06/30/2020',\n",
    "    '07/31/2020',\n",
    "    '08/31/2020',\n",
    "    '09/30/2020',\n",
    "    '10/31/2020',\n",
    "    '11/30/2020',\n",
    "    '12/31/2020',\n",
    "    '01/31/2021',\n",
    "    '02/28/2021',\n",
    "    '03/31/2021',\n",
    "    '04/30/2021',\n",
    "    '05/31/2021',\n",
    "    '06/30/2021',\n",
    "    '07/31/2021',\n",
    "    '08/31/2021',\n",
    "    '09/30/2021',\n",
    "]\n",
    "ANALYSIS_PARAMS = {\n",
    "    'sold_threshold': 1.0\n",
    "}\n",
    "TODAY_DATE = date.today().strftime('%m/%d/%Y')\n",
    "INVENTORY_DATES.append(TODAY_DATE)\n",
    "print('Today is {}'.format(TODAY_DATE))"
   ]
  },
  {
   "cell_type": "code",
   "execution_count": 4,
   "id": "d9eccd84-a327-4299-8876-456c6c9f574c",
   "metadata": {},
   "outputs": [],
   "source": [
    "# Download packages, sales transactions, incoming / outgoing tranfers\n",
    "\n",
    "company_incoming_transfer_packages_query = create_queries.create_company_incoming_transfer_packages_query(COMPANY_IDENTIFIER, TRANSFER_PACKAGES_START_DATE)\n",
    "company_outgoing_transfer_packages_query = create_queries.create_company_outgoing_transfer_packages_query(COMPANY_IDENTIFIER, TRANSFER_PACKAGES_START_DATE)\n",
    "company_sales_transactions_query = create_queries.create_company_sales_transactions_query(COMPANY_IDENTIFIER, SALES_TRANSACTIONS_START_DATE)\n",
    "company_inventory_packages_query = create_queries.create_company_inventory_packages_query(COMPANY_IDENTIFIER)\n",
    "\n",
    "company_incoming_transfer_packages_dataframe = pandas.read_sql_query(company_incoming_transfer_packages_query, engine)\n",
    "company_outgoing_transfer_packages_dataframe = pandas.read_sql_query(company_outgoing_transfer_packages_query, engine)\n",
    "company_sales_transactions_dataframe = pandas.read_sql_query(company_sales_transactions_query, engine)\n",
    "company_inventory_packages_dataframe = pandas.read_sql_query(company_inventory_packages_query, engine)"
   ]
  },
  {
   "cell_type": "code",
   "execution_count": 6,
   "id": "106a034d-fb76-4e8e-bce6-4e3b525b175e",
   "metadata": {},
   "outputs": [],
   "source": [
    "sys.path.append(path.realpath(path.join(os.getcwd(), \"../../scripts/analysis\")))\n",
    "sys.path.append(path.realpath(path.join(os.getcwd(), \"../../src\")))\n",
    "\n",
    "from util import active_inventory_util as util"
   ]
  },
  {
   "cell_type": "code",
   "execution_count": 12,
   "id": "c2af6220-2ebc-4447-a17e-0e3d9f3a7bbd",
   "metadata": {},
   "outputs": [],
   "source": [
    "d = util.Download()\n",
    "d.download_dataframes(\n",
    "    incoming_transfer_packages_dataframe=company_incoming_transfer_packages_dataframe,\n",
    "    outgoing_transfer_packages_dataframe=company_outgoing_transfer_packages_dataframe,\n",
    "    sales_transactions_dataframe=company_sales_transactions_dataframe,\n",
    "    engine=engine,\n",
    ")"
   ]
  },
  {
   "cell_type": "code",
   "execution_count": 16,
   "id": "5fbbbfe7-87c0-4409-9e6a-b6dc2b63ce54",
   "metadata": {
    "tags": []
   },
   "outputs": [
    {
     "name": "stdout",
     "output_type": "stream",
     "text": [
      "Only outgoing: 7\n",
      "Only incoming: 1581\n",
      "Only sold: 0\n",
      "In and out: 37\n",
      "In and sold at least once 4205\n",
      "In and sold many times 4068\n",
      "Total pkgs: 5806\n"
     ]
    }
   ],
   "source": [
    "q = util.Query()\n",
    "q.inventory_dates = INVENTORY_DATES\n",
    "q.company_name = COMPANY_NAME\n",
    "\n",
    "id_to_history = util.get_histories(d)\n",
    "util.print_counts(id_to_history)"
   ]
  },
  {
   "cell_type": "code",
   "execution_count": 20,
   "id": "4de368e2-44ab-4885-86d2-54b989f091f2",
   "metadata": {
    "tags": []
   },
   "outputs": [
    {
     "name": "stdout",
     "output_type": "stream",
     "text": [
      "01/31/2020\n",
      "# packages in inventory: 0\n",
      "$ valuation of inventory: 0\n",
      "\n",
      "02/28/2020\n",
      "# packages in inventory: 46\n",
      "$ valuation of inventory: 2478.8496045197735\n",
      "\n",
      "03/31/2020\n",
      "# packages in inventory: 230\n",
      "$ valuation of inventory: 25827.89276419717\n",
      "\n",
      "04/30/2020\n",
      "# packages in inventory: 546\n",
      "$ valuation of inventory: 57450.98082941316\n",
      "\n",
      "05/31/2020\n",
      "# packages in inventory: 720\n",
      "$ valuation of inventory: 53243.7757484291\n",
      "\n",
      "06/30/2020\n",
      "# packages in inventory: 889\n",
      "$ valuation of inventory: 53071.83812988744\n",
      "\n",
      "07/31/2020\n",
      "# packages in inventory: 1048\n",
      "$ valuation of inventory: 69668.59659548789\n",
      "\n",
      "08/31/2020\n",
      "# packages in inventory: 1319\n",
      "$ valuation of inventory: 111217.69815247356\n",
      "\n",
      "09/30/2020\n",
      "# packages in inventory: 1537\n",
      "$ valuation of inventory: 146117.560307431\n",
      "\n",
      "10/31/2020\n",
      "# packages in inventory: 1802\n",
      "$ valuation of inventory: 186346.34521140804\n",
      "\n",
      "11/30/2020\n",
      "# packages in inventory: 1815\n",
      "$ valuation of inventory: 141868.17218673232\n",
      "\n",
      "12/31/2020\n",
      "# packages in inventory: 1926\n",
      "$ valuation of inventory: 128358.62086632919\n",
      "\n",
      "01/31/2021\n",
      "# packages in inventory: 2138\n",
      "$ valuation of inventory: 137233.34504209933\n",
      "\n",
      "02/28/2021\n",
      "# packages in inventory: 2326\n",
      "$ valuation of inventory: 125398.47395152971\n",
      "\n",
      "03/31/2021\n",
      "# packages in inventory: 2444\n",
      "$ valuation of inventory: 125780.8721868799\n",
      "\n",
      "04/30/2021\n",
      "# packages in inventory: 2605\n",
      "$ valuation of inventory: 168007.10789699407\n",
      "\n",
      "05/31/2021\n",
      "# packages in inventory: 2794\n",
      "$ valuation of inventory: 175367.65237156913\n",
      "\n",
      "06/30/2021\n",
      "# packages in inventory: 2936\n",
      "$ valuation of inventory: 161499.03986173804\n",
      "\n",
      "07/31/2021\n",
      "# packages in inventory: 3112\n",
      "$ valuation of inventory: 160013.624766192\n",
      "\n",
      "08/31/2021\n",
      "# packages in inventory: 3249\n",
      "$ valuation of inventory: 162738.89938540265\n",
      "\n",
      "09/30/2021\n",
      "# packages in inventory: 3411\n",
      "$ valuation of inventory: 175072.7016424703\n",
      "\n",
      "11/01/2021\n",
      "# packages in inventory: 3597\n",
      "$ valuation of inventory: 174202.9159326794\n",
      "\n"
     ]
    }
   ],
   "source": [
    "import math\n",
    "\n",
    "import importlib\n",
    "importlib.reload(util)\n",
    "\n",
    "date_to_inventory_packages_dataframe = {}\n",
    "id_to_history = util.get_histories(d)\n",
    "\n",
    "inventory_valuations = []\n",
    "\n",
    "for inventory_date in INVENTORY_DATES:\n",
    "    print(inventory_date)\n",
    "    \n",
    "    computed_inventory_package_records = util.create_inventory_dataframe_by_date(\n",
    "        id_to_history, inventory_date, params=ANALYSIS_PARAMS)    \n",
    "    computed_inventory_packages_dataframe = pandas.DataFrame(\n",
    "        computed_inventory_package_records,\n",
    "        columns=util.get_inventory_column_names(),\n",
    "    )\n",
    "    date_to_inventory_packages_dataframe[inventory_date] = computed_inventory_packages_dataframe\n",
    "    in_inventory_computed_inventory_packages_dataframe = computed_inventory_packages_dataframe[computed_inventory_packages_dataframe['is_in_inventory'] == 'true']\n",
    "    \n",
    "    print(f'# packages in inventory: {len(in_inventory_computed_inventory_packages_dataframe.index)}')\n",
    "    \n",
    "    inventory_with_incoming_transfer_packages_dataframe = in_inventory_computed_inventory_packages_dataframe \\\n",
    "        .astype({'package_id': 'int64'}) \\\n",
    "        .merge(\n",
    "            company_incoming_transfer_packages_dataframe.astype({'package_id': 'int64'}),\n",
    "            on='package_id',\n",
    "            how='inner',\n",
    "            suffixes=('_l', '_r')\n",
    "        )\n",
    "\n",
    "    inventory_with_cost_records = inventory_with_incoming_transfer_packages_dataframe.to_dict('record')\n",
    "\n",
    "    total_valuation_cost = 0\n",
    "\n",
    "    for inventory_with_cost_record in inventory_with_cost_records:\n",
    "        incoming_shipped_price = inventory_with_cost_record['shipper_wholesale_price']\n",
    "        if math.isnan(incoming_shipped_price):\n",
    "            incoming_shipped_price = 0\n",
    "        incoming_shipped_quantity = inventory_with_cost_record['shipped_quantity']\n",
    "        current_quantity = inventory_with_cost_record['quantity']\n",
    "        total_valuation_cost += float(current_quantity) * (incoming_shipped_price / incoming_shipped_quantity)\n",
    "    \n",
    "    print(f'$ valuation of inventory: {total_valuation_cost}')\n",
    "    print('')\n",
    "    \n",
    "    inventory_valuations += [total_valuation_cost]"
   ]
  },
  {
   "cell_type": "code",
   "execution_count": null,
   "id": "3f0852b3-815e-497c-950e-7490beb95cda",
   "metadata": {},
   "outputs": [],
   "source": []
  },
  {
   "cell_type": "code",
   "execution_count": 25,
   "id": "30646599-bf6c-4e1c-b4e5-5b72e5c3f8d7",
   "metadata": {},
   "outputs": [],
   "source": [
    "company_sales_receipts_query = create_queries.create_company_sales_receipts_query(COMPANY_IDENTIFIER, SALES_TRANSACTIONS_START_DATE)\n",
    "\n",
    "engine = create_engine('bigquery://bespoke-financial/ProdMetrcData', credentials_path=os.path.expanduser(BIGQUERY_CREDENTIALS_PATH))\n",
    "\n",
    "company_sales_receipts_dataframe = pandas.read_sql_query(company_sales_receipts_query, engine)"
   ]
  },
  {
   "cell_type": "code",
   "execution_count": 26,
   "id": "447dea44-3887-47ab-b6fa-12c7beef4fec",
   "metadata": {},
   "outputs": [],
   "source": [
    "fn = lambda row: f'{row.sales_datetime.year}-{\"0\" if row.sales_datetime.month < 10 else \"\"}{row.sales_datetime.month}'\n",
    "col = company_sales_receipts_dataframe.apply(fn, axis=1)\n",
    "company_sales_receipts_dataframe = company_sales_receipts_dataframe.assign(sales_month=col.values)"
   ]
  },
  {
   "cell_type": "code",
   "execution_count": 27,
   "id": "ae1d6a42-ca71-48e0-aa90-8233d32341f0",
   "metadata": {},
   "outputs": [
    {
     "data": {
      "text/plain": [
       "sales_month\n",
       "2020-03     33886.44\n",
       "2020-04     88659.34\n",
       "2020-05    135380.48\n",
       "2020-06    148263.48\n",
       "2020-07    174943.68\n",
       "2020-08    186034.10\n",
       "2020-09    199931.81\n",
       "2020-10    207834.38\n",
       "2020-11    200319.70\n",
       "2020-12    220334.99\n",
       "2021-01    216208.37\n",
       "2021-02    189439.27\n",
       "2021-03    212136.22\n",
       "2021-04    238124.90\n",
       "2021-05    248644.73\n",
       "2021-06    220601.48\n",
       "2021-07    219837.94\n",
       "2021-08    214533.51\n",
       "2021-09    180901.27\n",
       "2021-10    181787.15\n",
       "2021-11      5361.39\n",
       "Name: total_price, dtype: float64"
      ]
     },
     "execution_count": 27,
     "metadata": {},
     "output_type": "execute_result"
    }
   ],
   "source": [
    "# company_sales_receipts_dataframe.groupby(['sales_month'])['total_price'].sum().plot.bar(figsize=(24, 8), stacked=True)\n",
    "gmv_by_month_dataframe = company_sales_receipts_dataframe.groupby(['sales_month'])['total_price'].sum()\n",
    "gmv_by_month_dataframe"
   ]
  },
  {
   "cell_type": "code",
   "execution_count": 28,
   "id": "fab60dfb-6f67-40fb-b29a-412a533d41aa",
   "metadata": {},
   "outputs": [
    {
     "data": {
      "text/plain": [
       "[33886.439999999966,\n",
       " 88659.33999999978,\n",
       " 135380.48,\n",
       " 148263.47999999986,\n",
       " 174943.6799999999,\n",
       " 186034.10000000027,\n",
       " 199931.81,\n",
       " 207834.3800000001,\n",
       " 200319.69999999978,\n",
       " 220334.98999999976,\n",
       " 216208.37,\n",
       " 189439.27000000022,\n",
       " 212136.21999999997,\n",
       " 238124.90000000005,\n",
       " 248644.7299999998,\n",
       " 220601.4799999999,\n",
       " 219837.94000000015,\n",
       " 214533.50999999992,\n",
       " 180901.26999999958,\n",
       " 181787.14999999976,\n",
       " 5361.3899999999985]"
      ]
     },
     "execution_count": 28,
     "metadata": {},
     "output_type": "execute_result"
    }
   ],
   "source": [
    "list(gmv_by_month_dataframe.array)"
   ]
  },
  {
   "cell_type": "code",
   "execution_count": 31,
   "id": "3477cdac-af5a-4dc1-a5eb-0189830e265b",
   "metadata": {},
   "outputs": [
    {
     "data": {
      "text/plain": [
       "(22, 22, 22)"
      ]
     },
     "execution_count": 31,
     "metadata": {},
     "output_type": "execute_result"
    }
   ],
   "source": [
    "# Super hacky left pad of array with None values such that array lengths match up.\n",
    "len(INVENTORY_DATES), len(inventory_valuations), len([None] + list(gmv_by_month_dataframe.array))"
   ]
  },
  {
   "cell_type": "code",
   "execution_count": 32,
   "id": "b3b3e844-6de2-4a8b-b7f0-67a28ecf690b",
   "metadata": {},
   "outputs": [
    {
     "data": {
      "image/png": "[encoded data removed]",
      "text/plain": [
       "<Figure size 1728x864 with 1 Axes>"
      ]
     },
     "metadata": {
      "needs_background": "light"
     },
     "output_type": "display_data"
    }
   ],
   "source": [
    "import matplotlib.pyplot as plt\n",
    "\n",
    "df = pandas.DataFrame({\n",
    "    'x_values': INVENTORY_DATES,\n",
    "    'inventory': inventory_valuations,\n",
    "    'revenue': [None] + list(gmv_by_month_dataframe.array),\n",
    "})\n",
    " \n",
    "# multiple line plots\n",
    "plt.figure(figsize=(24, 12))\n",
    "plt.plot( 'x_values', 'inventory', data=df, marker='o', markerfacecolor='blue', markersize=12, color='skyblue', linewidth=4)\n",
    "plt.plot( 'x_values', 'revenue', data=df, marker='o', color='olive', linewidth=2)\n",
    "\n",
    "# show legend\n",
    "plt.legend()\n",
    "\n",
    "# show graph\n",
    "plt.show()"
   ]
  },
  {
   "cell_type": "code",
   "execution_count": null,
   "id": "1790b309-6974-4a83-8782-a0c9a6a08908",
   "metadata": {},
   "outputs": [],
   "source": []
  },
  {
   "cell_type": "code",
   "execution_count": null,
   "id": "3262aa7d-cd94-4201-8c4c-277feeea96a8",
   "metadata": {},
   "outputs": [],
   "source": []
  },
  {
   "cell_type": "code",
   "execution_count": null,
   "id": "9e4fa9c5-7a79-41a7-9426-b52006a80e9b",
   "metadata": {},
   "outputs": [],
   "source": []
  }
 ],
 "metadata": {
  "kernelspec": {
   "display_name": "Python 3",
   "language": "python",
   "name": "python3"
  },
  "language_info": {
   "codemirror_mode": {
    "name": "ipython",
    "version": 3
   },
   "file_extension": ".py",
   "mimetype": "text/x-python",
   "name": "python",
   "nbconvert_exporter": "python",
   "pygments_lexer": "ipython3",
   "version": "3.7.7"
  }
 },
 "nbformat": 4,
 "nbformat_minor": 5
}
