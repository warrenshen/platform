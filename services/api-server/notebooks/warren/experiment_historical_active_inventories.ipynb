{
 "cells": [
  {
   "cell_type": "code",
   "execution_count": 2,
   "id": "170c442e-f0fb-4421-a3bf-5f87863f8277",
   "metadata": {},
   "outputs": [],
   "source": [
    "import json\n",
    "import os\n",
    "import numpy\n",
    "import pandas\n",
    "import pyarrow\n",
    "import sys\n",
    "\n",
    "from datetime import date\n",
    "from os import path\n",
    "from dotenv import load_dotenv\n",
    "from sqlalchemy import create_engine\n",
    "\n",
    "# Steps to install\n",
    "# 1. pip install sqlalchemy-bigquery google-cloud-bigquery-storage pyarrow\n",
    "# 2. Copy the credentials file to wherever you set BIGQUERY_CREDENTIALS_PATH to\n",
    "\n",
    "load_dotenv(verbose=True)\n",
    "BIGQUERY_CREDENTIALS_PATH = os.environ.get('BIGQUERY_CREDENTIALS_PATH')"
   ]
  },
  {
   "cell_type": "code",
   "execution_count": 94,
   "id": "38f9a288-03bc-43c5-82f8-a7c5a55f7286",
   "metadata": {},
   "outputs": [
    {
     "name": "stdout",
     "output_type": "stream",
     "text": [
      "The autoreload extension is already loaded. To reload it, use:\n",
      "  %reload_ext autoreload\n"
     ]
    }
   ],
   "source": [
    "sys.path.append(path.realpath(path.join(os.getcwd(), \"../core\")))\n",
    "import create_queries\n",
    "%load_ext autoreload\n",
    "%autoreload 2"
   ]
  },
  {
   "cell_type": "code",
   "execution_count": 56,
   "id": "fbfe06bc-cc79-41cc-814e-1d2166177496",
   "metadata": {},
   "outputs": [
    {
     "name": "stdout",
     "output_type": "stream",
     "text": [
      "Today is 10/23/2021\n"
     ]
    }
   ],
   "source": [
    "COMPANY_NAME = 'Royal Apothecary'\n",
    "COMPANY_IDENTIFIER = 'RA'\n",
    "TRANSFER_PACKAGES_START_DATE = '2020-01-01'\n",
    "SALES_TRANSACTIONS_START_DATE = '2020-01-01'\n",
    "INVENTORY_DATES = [\n",
    "    '09/30/2020',\n",
    "    '10/31/2020',\n",
    "    '11/30/2020',\n",
    "    '12/31/2020',\n",
    "    '01/31/2021',\n",
    "    '02/28/2021',\n",
    "    '03/31/2021',\n",
    "    '04/30/2021',\n",
    "    '05/31/2021',\n",
    "    '06/30/2021',\n",
    "    '07/31/2021',\n",
    "    '08/31/2021',\n",
    "    '09/30/2021',\n",
    "]\n",
    "ANALYSIS_PARAMS = {\n",
    "    'sold_threshold': 1.0\n",
    "}\n",
    "TODAY_DATE = date.today().strftime('%m/%d/%Y')\n",
    "INVENTORY_DATES.append(TODAY_DATE)\n",
    "print('Today is {}'.format(TODAY_DATE))"
   ]
  },
  {
   "cell_type": "code",
   "execution_count": 124,
   "id": "d9eccd84-a327-4299-8876-456c6c9f574c",
   "metadata": {},
   "outputs": [],
   "source": [
    "# Download packages, sales transactions, incoming / outgoing tranfers\n",
    "\n",
    "company_incoming_transfer_packages_query = create_queries.create_company_incoming_transfer_packages_query(COMPANY_IDENTIFIER, TRANSFER_PACKAGES_START_DATE)\n",
    "company_outgoing_transfer_packages_query = create_queries.create_company_outgoing_transfer_packages_query(COMPANY_IDENTIFIER, TRANSFER_PACKAGES_START_DATE)\n",
    "company_sales_transactions_query = create_queries.create_company_sales_transactions_query(COMPANY_IDENTIFIER, SALES_TRANSACTIONS_START_DATE)\n",
    "company_inventory_packages_query = create_queries.create_company_inventory_packages_query(COMPANY_IDENTIFIER)\n",
    "\n",
    "engine = create_engine('bigquery://bespoke-financial/ProdMetrcData', credentials_path=os.path.expanduser(BIGQUERY_CREDENTIALS_PATH))\n",
    "company_incoming_transfer_packages_dataframe = pandas.read_sql_query(company_incoming_transfer_packages_query, engine)\n",
    "company_outgoing_transfer_packages_dataframe = pandas.read_sql_query(company_outgoing_transfer_packages_query, engine)\n",
    "company_sales_transactions_dataframe = pandas.read_sql_query(company_sales_transactions_query, engine)\n",
    "company_inventory_packages_dataframe = pandas.read_sql_query(company_inventory_packages_query, engine)"
   ]
  },
  {
   "cell_type": "code",
   "execution_count": 17,
   "id": "106a034d-fb76-4e8e-bce6-4e3b525b175e",
   "metadata": {},
   "outputs": [],
   "source": [
    "sys.path.append(path.realpath(path.join(os.getcwd(), \"../../scripts/analysis\")))\n",
    "sys.path.append(path.realpath(path.join(os.getcwd(), \"../../src\")))\n",
    "\n",
    "from util import active_inventory_util as util"
   ]
  },
  {
   "cell_type": "code",
   "execution_count": 125,
   "id": "c2af6220-2ebc-4447-a17e-0e3d9f3a7bbd",
   "metadata": {},
   "outputs": [],
   "source": [
    "d = util.Download()\n",
    "d.download_dataframes(\n",
    "    incoming_transfer_packages_dataframe=company_incoming_transfer_packages_dataframe,\n",
    "    outgoing_transfer_packages_dataframe=company_outgoing_transfer_packages_dataframe,\n",
    "    sales_transactions_dataframe=company_sales_transactions_dataframe,\n",
    ")"
   ]
  },
  {
   "cell_type": "code",
   "execution_count": 126,
   "id": "5fbbbfe7-87c0-4409-9e6a-b6dc2b63ce54",
   "metadata": {
    "tags": []
   },
   "outputs": [
    {
     "name": "stdout",
     "output_type": "stream",
     "text": [
      "Only outgoing: 7\n",
      "Only incoming: 1540\n",
      "In and out: 8\n",
      "In and sold at least once 4074\n",
      "In and sold many times 3946\n",
      "Total pkgs: 5672\n",
      "Wrote result to out/Royal Apothecary_inventory_by_month.xls\n",
      "Excluded 91 / 5672 packages from consideration (1.60%)\n",
      "  MANY_INCOMING: 40 times\n",
      "  MISSING_INCOMING: 51 times\n"
     ]
    }
   ],
   "source": [
    "# Check for how many packages are excluded from analysis,\n",
    "# seeing less then 2% is really good\n",
    "q = util.Query()\n",
    "q.inventory_dates = INVENTORY_DATES\n",
    "q.company_name = COMPANY_NAME\n",
    "\n",
    "id_to_history = util.get_histories(d)\n",
    "util.print_counts(id_to_history)\n",
    "util.create_inventory_xlsx(id_to_history, q, params=ANALYSIS_PARAMS)"
   ]
  },
  {
   "cell_type": "code",
   "execution_count": 140,
   "id": "4de368e2-44ab-4885-86d2-54b989f091f2",
   "metadata": {
    "tags": []
   },
   "outputs": [],
   "source": [
    "import importlib\n",
    "importlib.reload(util)\n",
    "\n",
    "# TODO(dlluncor): Just for debugging to make this faster\n",
    "INVENTORY_DATES = [TODAY_DATE]\n",
    "\n",
    "date_to_inventory_packages_dataframe = {}\n",
    "id_to_history = util.get_histories(d)\n",
    "\n",
    "for inventory_date in INVENTORY_DATES:\n",
    "    computed_inventory_package_records = util.create_inventory_dataframe_by_date(\n",
    "        id_to_history, inventory_date, params=ANALYSIS_PARAMS)\n",
    "    computed_inventory_packages_dataframe = pandas.DataFrame(\n",
    "        computed_inventory_package_records,\n",
    "        columns=[\n",
    "            'package_id',\n",
    "            'arrived_ate',\n",
    "            'product_category_name',\n",
    "            'product_name',\n",
    "            'quantity',\n",
    "            'sold_date',\n",
    "        ]\n",
    "    )\n",
    "    date_to_inventory_packages_dataframe[inventory_date] = computed_inventory_packages_dataframe"
   ]
  },
  {
   "cell_type": "code",
   "execution_count": 132,
   "id": "896c2893-bc7b-4295-84e3-fd4a11632b45",
   "metadata": {},
   "outputs": [],
   "source": [
    "from_packages_inventory_dataframe = company_inventory_packages_dataframe[[\n",
    "    'package_id',\n",
    "    'packaged_date',\n",
    "    'product_category_name',\n",
    "    'product_name',\n",
    "    'quantity',\n",
    "]].sort_values('package_id')"
   ]
  },
  {
   "cell_type": "code",
   "execution_count": 145,
   "id": "57fff6ae-4e9e-4b40-9a2e-b9c032737e96",
   "metadata": {},
   "outputs": [
    {
     "name": "stdout",
     "output_type": "stream",
     "text": [
      "\n",
      "Package 3497652 arrived on 04/07/2020 with quantity 350 and price $625.0. {'package_row_id': '946ee344-1995-4182-922c-a8d9797cfc6a', 'delivery_type': 'INCOMING_FROM_VENDOR', 'license_number': 'C10-0000596-LIC', 'manifest_number': '0000447208', 'created_date': datetime.date(2020, 4, 7), 'received_datetime': Timestamp('2020-04-07 23:11:56+0000', tz='UTC'), 'shipper_facility_license_number': 'C12-0000175-LIC', 'shipper_facility_name': 'CONNECTED TRANSPORTATION PARTNERS INC.', 'recipient_facility_license_number': 'C10-0000596-LIC', 'recipient_facility_name': 'ROYAL APOTHECARY L.L.C.', 'shipment_type_name': 'Wholesale Manifest', 'shipment_transaction_type': 'Wholesale', 'package_id': '3497652', 'package_label': '1A4060300009F02000075117', 'type': 'transfer_incoming', 'shipment_package_state': 'Accepted', 'is_testing_sample': False, 'is_trade_sample': False, 'product_category_name': 'Flower', 'product_name': 'Old Pal Ready To Roll 0.5oz Indica', 'package_lab_results_status': 'passed', 'shipper_wholesale_price': 625.0, 'shipped_quantity': 350.0, 'shipped_unit_of_measure': 'Grams', 'received_quantity': 350.0, 'received_unit_of_measure': 'Grams', 'item_unit_weight': nan, 'item_unit_weight_unit_of_measure_name': None}\n",
      "Package 3497652 sold on 04/23/2020 14.0 (Grams) for $52.2\n",
      "Package 3497652 sold on 04/30/2020 14.0 (Grams) for $52.2\n",
      "Package 3497652 sold on 05/01/2020 14.0 (Grams) for $52.2\n",
      "Package 3497652 sold on 05/03/2020 14.0 (Grams) for $52.2\n",
      "Package 3497652 sold on 05/04/2020 14.0 (Grams) for $58.0\n",
      "Package 3497652 sold on 05/05/2020 14.0 (Grams) for $52.2\n",
      "Package 3497652 sold on 05/07/2020 14.0 (Grams) for $58.0\n",
      "Package 3497652 sold on 05/08/2020 14.0 (Grams) for $52.2\n",
      "Package 3497652 sold on 05/09/2020 14.0 (Grams) for $52.2\n",
      "Package 3497652 sold on 05/14/2020 14.0 (Grams) for $58.0\n",
      "Package 3497652 sold on 05/25/2020 14.0 (Grams) for $52.2\n",
      "Package 3497652 sold on 05/25/2020 14.0 (Grams) for $52.2\n",
      "Package 3497652 sold on 05/30/2020 14.0 (Grams) for $52.2\n",
      "Package 3497652 sold on 06/04/2020 14.0 (Grams) for $58.0\n",
      "Package 3497652 sold on 06/05/2020 14.0 (Grams) for $58.0\n",
      "Package 3497652 sold on 06/05/2020 14.0 (Grams) for $51.4\n",
      "Package 3497652 sold on 06/06/2020 14.0 (Grams) for $51.98\n",
      "Package 3497652 sold on 06/07/2020 14.0 (Grams) for $51.4\n",
      "Package 3497652 sold on 06/10/2020 14.0 (Grams) for $58.0\n",
      "Package 3497652 sold on 06/20/2020 14.0 (Grams) for $52.2\n",
      "Package 3497652 sold on 06/21/2020 14.0 (Grams) for $52.2\n",
      "Package 3497652 sold on 06/21/2020 14.0 (Grams) for $58.0\n",
      "Package 3497652 sold on 06/21/2020 14.0 (Grams) for $52.2\n",
      "Package 3497652 has a remaining quantity of 28.0\n"
     ]
    }
   ],
   "source": [
    "# For debugging individual package histories\n",
    "import importlib\n",
    "importlib.reload(util)\n",
    "\n",
    "# Missing transactions?\n",
    "# 5189649\n",
    "\n",
    "# Using grams or missing transactions?\n",
    "\n",
    "PACKAGE_IDS = [\n",
    "    '3497652'\n",
    "]\n",
    "\n",
    "util.analyze_specific_package_histories(d, PACKAGE_IDS, params=ANALYSIS_PARAMS)"
   ]
  },
  {
   "cell_type": "code",
   "execution_count": 141,
   "id": "62e6af4a-8e8f-4321-8cfa-ee4353442b50",
   "metadata": {},
   "outputs": [
    {
     "name": "stdout",
     "output_type": "stream",
     "text": [
      "Pct of # inventory matching: 93.35%\n",
      "Accuracy of quantities: 90.39%\n",
      "Pct of # inventory packages over-estimated: 6.74%\n",
      "Pct of # quantity over-estimated: 0.15%\n",
      "Avg quantity delta: 0.53\n",
      "Avg quantity: 5.53\n",
      "\n",
      "Num matching packages: 3325\n",
      "Num actual packages not computed: 237\n",
      "Num computed packages not in actual: 240\n",
      "\n",
      "Computed has these extra package IDs; first 20\n",
      "3066734; computed quantity 7\n",
      "3068717; computed quantity 1\n",
      "3507112; computed quantity 1\n",
      "7610314; computed quantity 2\n",
      "11763122; computed quantity 3\n",
      "3067619; computed quantity 3\n",
      "3068158; computed quantity 7\n",
      "5189649; computed quantity 20\n",
      "3068721; computed quantity 1\n",
      "9736065; computed quantity 1\n",
      "8749830; computed quantity 1\n",
      "2756443; computed quantity 1\n",
      "3080665; computed quantity 2\n",
      "10190890; computed quantity 12\n",
      "9266371; computed quantity 1\n",
      "3804483; computed quantity 2\n",
      "10190896; computed quantity 16\n",
      "3833973; computed quantity 1\n",
      "3455807; computed quantity 1\n",
      "3497652; computed quantity 28\n",
      "5945936; computed quantity 3\n",
      "\n",
      "Computed is missing these package IDs; first 20\n",
      "11502395; quantity: 1.0\n",
      "11081320; quantity: 1.0\n",
      "14788710; quantity: 1.0\n",
      "17470279; quantity: 1.0\n",
      "18350488; quantity: 20.0\n",
      "16375241; quantity: 1.0\n",
      "17394015; quantity: 3.0\n",
      "17759867; quantity: 1.0\n",
      "15913791; quantity: 4.0\n",
      "16034700; quantity: 1.0\n",
      "17481957; quantity: 1.0\n",
      "15914209; quantity: 7.0\n",
      "16892481; quantity: 22.0\n",
      "18559237; quantity: 44.0\n",
      "16034697; quantity: 1.0\n",
      "3363939; quantity: 3.5\n",
      "18851079; quantity: 10.0\n",
      "14548735; quantity: 1.0\n",
      "18851033; quantity: 8.0\n",
      "12908137; quantity: 1.0\n",
      "14285733; quantity: 1.0\n"
     ]
    }
   ],
   "source": [
    "import importlib\n",
    "importlib.reload(util)\n",
    "\n",
    "util.compare_inventory_dataframes(\n",
    "    computed=date_to_inventory_packages_dataframe[TODAY_DATE],\n",
    "    actual=from_packages_inventory_dataframe\n",
    ")"
   ]
  },
  {
   "cell_type": "code",
   "execution_count": null,
   "id": "00398424-7c84-4fb3-80d4-b8576ae2effb",
   "metadata": {},
   "outputs": [],
   "source": [
    "#### Unused, previously used code\n",
    "\n",
    "\n",
    "\n",
    "####"
   ]
  },
  {
   "cell_type": "code",
   "execution_count": null,
   "id": "baba47dd-1068-45a3-9ddf-91fd15efec46",
   "metadata": {},
   "outputs": [],
   "source": [
    "# Get dataframe TODAYS_DATE\n",
    "\n",
    "today_inventory_package_records = util.create_inventory_dataframe_by_date(id_to_history, TODAY_DATE)\n",
    "today_inventory_packages_dataframe = pandas.DataFrame(\n",
    "    today_inventory_package_records,\n",
    "    columns=[\n",
    "        'package_id',\n",
    "        'arrived_date',\n",
    "        'product_category_name',\n",
    "        'product_name',\n",
    "        'current_quantity',\n",
    "        'sold_date',\n",
    "    ]\n",
    ")\n",
    "today_inventory_packages_dataframe.sort_values('package_id')"
   ]
  },
  {
   "cell_type": "code",
   "execution_count": null,
   "id": "623688d4-791c-4757-890e-d866adb46a4c",
   "metadata": {},
   "outputs": [],
   "source": [
    "# Some extra analysis on inventory\n"
   ]
  },
  {
   "cell_type": "code",
   "execution_count": null,
   "id": "dabbbd07-da26-4665-b17a-f924c04a97dc",
   "metadata": {},
   "outputs": [],
   "source": [
    "incoming_transfer_packages_dataframe = company_incoming_transfer_packages_dataframe[[\n",
    "#     'date_type',\n",
    "#     'transfer_row_id',\n",
    "#     'delivery_row_id',\n",
    "#     'package_row_id',\n",
    "    'delivery_type',\n",
    "    'manifest_number',\n",
    "    'created_date',\n",
    "    'received_datetime',\n",
    "    'shipper_facility_license_number',\n",
    "    'shipper_facility_name',\n",
    "    'recipient_facility_license_number',\n",
    "    'recipient_facility_name',\n",
    "    'shipment_type_name',\n",
    "    'shipment_transaction_type',\n",
    "    'package_id',\n",
    "    'package_label',\n",
    "    'type',\n",
    "    'product_category_name',\n",
    "    'product_name',\n",
    "    'shipper_wholesale_price',\n",
    "    'shipped_quantity',\n",
    "    'package_lab_results_status',\n",
    "    'shipment_package_state',\n",
    "    'is_testing_sample',\n",
    "    'is_trade_sample'\n",
    "]]\n",
    "incoming_transfer_packages_dataframe"
   ]
  },
  {
   "cell_type": "code",
   "execution_count": null,
   "id": "7f189fdd-1339-4a2f-ace2-e9d06e3553cd",
   "metadata": {},
   "outputs": [],
   "source": [
    "\n",
    "import math\n",
    "\n",
    "for inventory_date, inventory_packages_dataframe in date_to_inventory_packages_dataframe.items():\n",
    "    print(inventory_date)\n",
    "    print(f'# of packages in inventory: {len(inventory_packages_dataframe.index)}')\n",
    "\n",
    "    inventory_with_incoming_transfer_packages_dataframe = inventory_packages_dataframe \\\n",
    "        .astype({'package_id': 'int64'}) \\\n",
    "        .merge(\n",
    "            incoming_transfer_packages_dataframe.astype({'package_id': 'int64'}),\n",
    "            on='package_id',\n",
    "            how='inner',\n",
    "            suffixes=('_l', '_r')\n",
    "        )\n",
    "    #     print(f'# of packages in inventory with incoming package: {len(inventory_with_incoming_transfer_packages_dataframe.index)}')\n",
    "\n",
    "    inventory_with_cost_records = inventory_with_incoming_transfer_packages_dataframe.to_dict('record')\n",
    "\n",
    "    total_valuation_cost = 0\n",
    "\n",
    "    for inventory_with_cost_record in inventory_with_cost_records:\n",
    "        incoming_shipped_price = inventory_with_cost_record['shipper_wholesale_price']\n",
    "        if math.isnan(incoming_shipped_price):\n",
    "            incoming_shipped_price = 0\n",
    "        incoming_shipped_quantity = inventory_with_cost_record['shipped_quantity']\n",
    "        current_quantity = inventory_with_cost_record['Current Quantity']\n",
    "        total_valuation_cost += float(current_quantity) * (incoming_shipped_price / incoming_shipped_quantity)\n",
    "\n",
    "    print(f'Inventory valuation (based on COST): ${total_valuation_cost}')\n",
    "    print('')"
   ]
  },
  {
   "cell_type": "code",
   "execution_count": null,
   "id": "7009d4b1-a66a-4cac-b775-8e39af707e62",
   "metadata": {},
   "outputs": [],
   "source": [
    "company_inventory_packages_dataframe\n",
    "company_sales_transactions_dataframe\n",
    "company_outgoing_transfer_packages_dataframe\n",
    "company_incoming_transfer_packages_dataframe"
   ]
  }
 ],
 "metadata": {
  "kernelspec": {
   "display_name": "Python 3",
   "language": "python",
   "name": "python3"
  },
  "language_info": {
   "codemirror_mode": {
    "name": "ipython",
    "version": 3
   },
   "file_extension": ".py",
   "mimetype": "text/x-python",
   "name": "python",
   "nbconvert_exporter": "python",
   "pygments_lexer": "ipython3",
   "version": "3.7.7"
  }
 },
 "nbformat": 4,
 "nbformat_minor": 5
}
