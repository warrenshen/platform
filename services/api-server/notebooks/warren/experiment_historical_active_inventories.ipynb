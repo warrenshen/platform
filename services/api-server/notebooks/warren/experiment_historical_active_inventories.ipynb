{
 "cells": [
  {
   "cell_type": "code",
   "execution_count": 2,
   "id": "170c442e-f0fb-4421-a3bf-5f87863f8277",
   "metadata": {},
   "outputs": [],
   "source": [
    "import json\n",
    "import os\n",
    "import numpy\n",
    "import pandas\n",
    "import pyarrow\n",
    "import sys\n",
    "\n",
    "from datetime import date\n",
    "from os import path\n",
    "from dotenv import load_dotenv\n",
    "from sqlalchemy import create_engine\n",
    "\n",
    "# Steps to install\n",
    "# 1. pip install sqlalchemy-bigquery google-cloud-bigquery-storage pyarrow\n",
    "# 2. Copy the credentials file to wherever you set BIGQUERY_CREDENTIALS_PATH to\n",
    "\n",
    "load_dotenv(verbose=True)\n",
    "BIGQUERY_CREDENTIALS_PATH = os.environ.get('BIGQUERY_CREDENTIALS_PATH')"
   ]
  },
  {
   "cell_type": "code",
   "execution_count": 3,
   "id": "38f9a288-03bc-43c5-82f8-a7c5a55f7286",
   "metadata": {},
   "outputs": [],
   "source": [
    "sys.path.append(path.realpath(path.join(os.getcwd(), \"../core\")))\n",
    "import create_queries\n",
    "%load_ext autoreload\n",
    "%autoreload 2"
   ]
  },
  {
   "cell_type": "code",
   "execution_count": 56,
   "id": "fbfe06bc-cc79-41cc-814e-1d2166177496",
   "metadata": {},
   "outputs": [
    {
     "name": "stdout",
     "output_type": "stream",
     "text": [
      "Today is 10/23/2021\n"
     ]
    }
   ],
   "source": [
    "COMPANY_NAME = 'Royal Apothecary'\n",
    "COMPANY_IDENTIFIER = 'RA'\n",
    "TRANSFER_PACKAGES_START_DATE = '2020-01-01'\n",
    "SALES_TRANSACTIONS_START_DATE = '2020-01-01'\n",
    "INVENTORY_DATES = [\n",
    "    '09/30/2020',\n",
    "    '10/31/2020',\n",
    "    '11/30/2020',\n",
    "    '12/31/2020',\n",
    "    '01/31/2021',\n",
    "    '02/28/2021',\n",
    "    '03/31/2021',\n",
    "    '04/30/2021',\n",
    "    '05/31/2021',\n",
    "    '06/30/2021',\n",
    "    '07/31/2021',\n",
    "    '08/31/2021',\n",
    "    '09/30/2021',\n",
    "]\n",
    "ANALYSIS_PARAMS = {\n",
    "    'sold_threshold': 1.0\n",
    "}\n",
    "TODAY_DATE = date.today().strftime('%m/%d/%Y')\n",
    "INVENTORY_DATES.append(TODAY_DATE)\n",
    "print('Today is {}'.format(TODAY_DATE))"
   ]
  },
  {
   "cell_type": "code",
   "execution_count": 5,
   "id": "d9eccd84-a327-4299-8876-456c6c9f574c",
   "metadata": {},
   "outputs": [],
   "source": [
    "# Download packages, sales transactions, incoming / outgoing tranfers\n",
    "\n",
    "company_incoming_transfer_packages_query = create_queries.create_company_incoming_transfer_packages_query(COMPANY_IDENTIFIER, TRANSFER_PACKAGES_START_DATE)\n",
    "company_outgoing_transfer_packages_query = create_queries.create_company_outgoing_transfer_packages_query(COMPANY_IDENTIFIER, TRANSFER_PACKAGES_START_DATE)\n",
    "company_sales_transactions_query = create_queries.create_company_sales_transactions_query(COMPANY_IDENTIFIER, SALES_TRANSACTIONS_START_DATE)\n",
    "company_inventory_packages_query = create_queries.create_company_inventory_packages_query(COMPANY_IDENTIFIER)\n",
    "\n",
    "engine = create_engine('bigquery://bespoke-financial/ProdMetrcData', credentials_path=os.path.expanduser(BIGQUERY_CREDENTIALS_PATH))\n",
    "company_incoming_transfer_packages_dataframe = pandas.read_sql_query(company_incoming_transfer_packages_query, engine)\n",
    "company_outgoing_transfer_packages_dataframe = pandas.read_sql_query(company_outgoing_transfer_packages_query, engine)\n",
    "company_sales_transactions_dataframe = pandas.read_sql_query(company_sales_transactions_query, engine)\n",
    "company_inventory_packages_dataframe = pandas.read_sql_query(company_inventory_packages_query, engine)"
   ]
  },
  {
   "cell_type": "code",
   "execution_count": 17,
   "id": "106a034d-fb76-4e8e-bce6-4e3b525b175e",
   "metadata": {},
   "outputs": [],
   "source": [
    "sys.path.append(path.realpath(path.join(os.getcwd(), \"../../scripts/analysis\")))\n",
    "sys.path.append(path.realpath(path.join(os.getcwd(), \"../../src\")))\n",
    "\n",
    "from util import active_inventory_util as util"
   ]
  },
  {
   "cell_type": "code",
   "execution_count": 7,
   "id": "c2af6220-2ebc-4447-a17e-0e3d9f3a7bbd",
   "metadata": {},
   "outputs": [],
   "source": [
    "d = util.Download()\n",
    "d.download_dataframes(\n",
    "    incoming_transfer_packages_dataframe=company_incoming_transfer_packages_dataframe,\n",
    "    outgoing_transfer_packages_dataframe=company_outgoing_transfer_packages_dataframe,\n",
    "    sales_transactions_dataframe=company_sales_transactions_dataframe,\n",
    ")"
   ]
  },
  {
   "cell_type": "code",
   "execution_count": 57,
   "id": "5fbbbfe7-87c0-4409-9e6a-b6dc2b63ce54",
   "metadata": {
    "tags": []
   },
   "outputs": [
    {
     "name": "stdout",
     "output_type": "stream",
     "text": [
      "Only outgoing: 7\n",
      "Only incoming: 1525\n",
      "In and out: 8\n",
      "In and sold at least once 4058\n",
      "In and sold many times 3928\n",
      "Total pkgs: 5634\n",
      "Wrote result to out/Royal Apothecary_inventory_by_month.xls\n",
      "Excluded 84 / 5634 packages from consideration (1.49%)\n",
      "  MANY_INCOMING: 40 times\n",
      "  MISSING_INCOMING: 44 times\n"
     ]
    }
   ],
   "source": [
    "# Check for how many packages are excluded from analysis,\n",
    "# seeing less then 2% is really good\n",
    "q = util.Query()\n",
    "q.inventory_dates = INVENTORY_DATES\n",
    "q.company_name = COMPANY_NAME\n",
    "\n",
    "id_to_history = util.get_histories(d)\n",
    "util.print_counts(id_to_history)\n",
    "util.create_inventory_xlsx(id_to_history, q, params=ANALYSIS_PARAMS)"
   ]
  },
  {
   "cell_type": "code",
   "execution_count": 79,
   "id": "4de368e2-44ab-4885-86d2-54b989f091f2",
   "metadata": {
    "tags": []
   },
   "outputs": [],
   "source": [
    "import importlib\n",
    "importlib.reload(util)\n",
    "\n",
    "# TODO(dlluncor): Just for debugging to make this faster\n",
    "INVENTORY_DATES = [TODAY_DATE]\n",
    "\n",
    "date_to_inventory_packages_dataframe = {}\n",
    "id_to_history = util.get_histories(d)\n",
    "\n",
    "for inventory_date in INVENTORY_DATES:\n",
    "    computed_inventory_package_records = util.create_inventory_dataframe_by_date(\n",
    "        id_to_history, inventory_date, params=ANALYSIS_PARAMS)\n",
    "    computed_inventory_packages_dataframe = pandas.DataFrame(\n",
    "        computed_inventory_package_records,\n",
    "        columns=[\n",
    "            'package_id',\n",
    "            'arrived_ate',\n",
    "            'product_category_name',\n",
    "            'product_name',\n",
    "            'quantity',\n",
    "            'sold_date',\n",
    "        ]\n",
    "    )\n",
    "    date_to_inventory_packages_dataframe[inventory_date] = computed_inventory_packages_dataframe"
   ]
  },
  {
   "cell_type": "code",
   "execution_count": 71,
   "id": "896c2893-bc7b-4295-84e3-fd4a11632b45",
   "metadata": {},
   "outputs": [],
   "source": [
    "from_packages_inventory_dataframe = company_inventory_packages_dataframe[[\n",
    "    'package_id',\n",
    "    'packaged_date',\n",
    "    'product_category_name',\n",
    "    'product_name',\n",
    "    'quantity',\n",
    "]].sort_values('package_id')"
   ]
  },
  {
   "cell_type": "code",
   "execution_count": 81,
   "id": "57fff6ae-4e9e-4b40-9a2e-b9c032737e96",
   "metadata": {},
   "outputs": [],
   "source": [
    "# For debugging individual package histories\n",
    "import importlib\n",
    "importlib.reload(util)\n",
    "\n",
    "PACKAGE_IDS = [\n",
    "]\n",
    "\n",
    "util.analyze_specific_package_histories(d, PACKAGE_IDS, params=ANALYSIS_PARAMS)"
   ]
  },
  {
   "cell_type": "code",
   "execution_count": 80,
   "id": "62e6af4a-8e8f-4321-8cfa-ee4353442b50",
   "metadata": {},
   "outputs": [
    {
     "name": "stdout",
     "output_type": "stream",
     "text": [
      "Pct of inventory matching: 98.87%\n",
      "Accuracy of quantities: 95.41%\n",
      "\n",
      "Avg quantity delta: 0.21\n",
      "Avg quantity: 4.51\n",
      "\n",
      "Num matching packages: 3251\n",
      "Num actual packages not computed: 37\n",
      "Num computed packages not in actual: 1788\n",
      "\n",
      "Missing package IDs first 100\n",
      "18350488\n",
      "5851167\n",
      "15914209\n",
      "3363939\n",
      "3579952\n",
      "13949469\n",
      "18350490\n",
      "16892489\n",
      "14285733\n",
      "14734419\n",
      "7471921\n",
      "17324730\n",
      "14734413\n",
      "9760520\n",
      "10450332\n",
      "5409712\n",
      "5673996\n",
      "14733678\n",
      "18350484\n",
      "14673166\n",
      "5751573\n",
      "12591172\n",
      "10450331\n",
      "16892488\n",
      "4218828\n",
      "18350489\n",
      "17324726\n",
      "18350486\n",
      "16892491\n",
      "18350483\n",
      "15914129\n",
      "16892476\n",
      "16892486\n",
      "14734411\n",
      "15913790\n",
      "9760519\n",
      "17324734\n"
     ]
    }
   ],
   "source": [
    "import importlib\n",
    "importlib.reload(util)\n",
    "\n",
    "util.compare_inventory_dataframes(\n",
    "    computed=date_to_inventory_packages_dataframe[TODAY_DATE],\n",
    "    actual=from_packages_inventory_dataframe\n",
    ")"
   ]
  },
  {
   "cell_type": "code",
   "execution_count": null,
   "id": "00398424-7c84-4fb3-80d4-b8576ae2effb",
   "metadata": {},
   "outputs": [],
   "source": [
    "#### Unused, previously used code\n",
    "\n",
    "\n",
    "\n",
    "####"
   ]
  },
  {
   "cell_type": "code",
   "execution_count": null,
   "id": "baba47dd-1068-45a3-9ddf-91fd15efec46",
   "metadata": {},
   "outputs": [],
   "source": [
    "# Get dataframe TODAYS_DATE\n",
    "\n",
    "today_inventory_package_records = util.create_inventory_dataframe_by_date(id_to_history, TODAY_DATE)\n",
    "today_inventory_packages_dataframe = pandas.DataFrame(\n",
    "    today_inventory_package_records,\n",
    "    columns=[\n",
    "        'package_id',\n",
    "        'arrived_date',\n",
    "        'product_category_name',\n",
    "        'product_name',\n",
    "        'current_quantity',\n",
    "        'sold_date',\n",
    "    ]\n",
    ")\n",
    "today_inventory_packages_dataframe.sort_values('package_id')"
   ]
  },
  {
   "cell_type": "code",
   "execution_count": null,
   "id": "623688d4-791c-4757-890e-d866adb46a4c",
   "metadata": {},
   "outputs": [],
   "source": [
    "# Some extra analysis on inventory\n"
   ]
  },
  {
   "cell_type": "code",
   "execution_count": null,
   "id": "dabbbd07-da26-4665-b17a-f924c04a97dc",
   "metadata": {},
   "outputs": [],
   "source": [
    "incoming_transfer_packages_dataframe = company_incoming_transfer_packages_dataframe[[\n",
    "#     'date_type',\n",
    "#     'transfer_row_id',\n",
    "#     'delivery_row_id',\n",
    "#     'package_row_id',\n",
    "    'delivery_type',\n",
    "    'manifest_number',\n",
    "    'created_date',\n",
    "    'received_datetime',\n",
    "    'shipper_facility_license_number',\n",
    "    'shipper_facility_name',\n",
    "    'recipient_facility_license_number',\n",
    "    'recipient_facility_name',\n",
    "    'shipment_type_name',\n",
    "    'shipment_transaction_type',\n",
    "    'package_id',\n",
    "    'package_label',\n",
    "    'type',\n",
    "    'product_category_name',\n",
    "    'product_name',\n",
    "    'shipper_wholesale_price',\n",
    "    'shipped_quantity',\n",
    "    'package_lab_results_status',\n",
    "    'shipment_package_state',\n",
    "    'is_testing_sample',\n",
    "    'is_trade_sample'\n",
    "]]\n",
    "incoming_transfer_packages_dataframe"
   ]
  },
  {
   "cell_type": "code",
   "execution_count": null,
   "id": "7f189fdd-1339-4a2f-ace2-e9d06e3553cd",
   "metadata": {},
   "outputs": [],
   "source": [
    "\n",
    "import math\n",
    "\n",
    "for inventory_date, inventory_packages_dataframe in date_to_inventory_packages_dataframe.items():\n",
    "    print(inventory_date)\n",
    "    print(f'# of packages in inventory: {len(inventory_packages_dataframe.index)}')\n",
    "\n",
    "    inventory_with_incoming_transfer_packages_dataframe = inventory_packages_dataframe \\\n",
    "        .astype({'package_id': 'int64'}) \\\n",
    "        .merge(\n",
    "            incoming_transfer_packages_dataframe.astype({'package_id': 'int64'}),\n",
    "            on='package_id',\n",
    "            how='inner',\n",
    "            suffixes=('_l', '_r')\n",
    "        )\n",
    "    #     print(f'# of packages in inventory with incoming package: {len(inventory_with_incoming_transfer_packages_dataframe.index)}')\n",
    "\n",
    "    inventory_with_cost_records = inventory_with_incoming_transfer_packages_dataframe.to_dict('record')\n",
    "\n",
    "    total_valuation_cost = 0\n",
    "\n",
    "    for inventory_with_cost_record in inventory_with_cost_records:\n",
    "        incoming_shipped_price = inventory_with_cost_record['shipper_wholesale_price']\n",
    "        if math.isnan(incoming_shipped_price):\n",
    "            incoming_shipped_price = 0\n",
    "        incoming_shipped_quantity = inventory_with_cost_record['shipped_quantity']\n",
    "        current_quantity = inventory_with_cost_record['Current Quantity']\n",
    "        total_valuation_cost += float(current_quantity) * (incoming_shipped_price / incoming_shipped_quantity)\n",
    "\n",
    "    print(f'Inventory valuation (based on COST): ${total_valuation_cost}')\n",
    "    print('')"
   ]
  },
  {
   "cell_type": "code",
   "execution_count": null,
   "id": "7009d4b1-a66a-4cac-b775-8e39af707e62",
   "metadata": {},
   "outputs": [],
   "source": [
    "company_inventory_packages_dataframe\n",
    "company_sales_transactions_dataframe\n",
    "company_outgoing_transfer_packages_dataframe\n",
    "company_incoming_transfer_packages_dataframe"
   ]
  }
 ],
 "metadata": {
  "kernelspec": {
   "display_name": "Python 3",
   "language": "python",
   "name": "python3"
  },
  "language_info": {
   "codemirror_mode": {
    "name": "ipython",
    "version": 3
   },
   "file_extension": ".py",
   "mimetype": "text/x-python",
   "name": "python",
   "nbconvert_exporter": "python",
   "pygments_lexer": "ipython3",
   "version": "3.7.7"
  }
 },
 "nbformat": 4,
 "nbformat_minor": 5
}
