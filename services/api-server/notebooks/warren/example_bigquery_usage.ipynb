{
 "cells": [
  {
   "cell_type": "code",
   "execution_count": null,
   "id": "34d0f265-43cd-47cb-ac2c-b577a23473e9",
   "metadata": {},
   "outputs": [],
   "source": [
    "import json\n",
    "import pandas\n",
    "import pyarrow\n",
    "from sqlalchemy import create_engine\n",
    "\n",
    "# Steps to install\n",
    "# 1. pip install google-cloud-bigquery-storage pyarrow matplotlib sqlalchemy-bigquery\n",
    "# 2. Copy the credentials file to wherever you set BIGQUERY_CREDENTIALS_PATH to"
   ]
  },
  {
   "cell_type": "code",
   "execution_count": null,
   "id": "ae4c4e0e-a3d6-4f4d-a3fb-b4302ae8d90e",
   "metadata": {},
   "outputs": [],
   "source": [
    "import os\n",
    "from dotenv import load_dotenv\n",
    "\n",
    "load_dotenv(verbose=True)\n",
    "BIGQUERY_CREDENTIALS_PATH = os.environ.get('BIGQUERY_CREDENTIALS_PATH')"
   ]
  },
  {
   "cell_type": "code",
   "execution_count": null,
   "id": "30042a89-45a5-4134-a5fb-4baa6a8184c7",
   "metadata": {},
   "outputs": [],
   "source": [
    "COMPANY_IDENTIFER = 'HPCC'\n",
    "TRANSFER_PACKAGES_START_DATE = '2020-01-01'\n",
    "SALES_TRANSACTIONS_START_DATE = '2020-01-01'\n",
    "\n",
    "company_total_sales_transactions_count_query = f\"\"\"\n",
    "    select\n",
    "        count(*) as total_count\n",
    "    from\n",
    "        companies\n",
    "        inner join metrc_sales_receipts on companies.id = metrc_sales_receipts.company_id\n",
    "        inner join metrc_sales_transactions on metrc_sales_receipts.id = metrc_sales_transactions.receipt_row_id\n",
    "    where\n",
    "        True\n",
    "        and companies.identifier = '{COMPANY_IDENTIFER}'\n",
    "\"\"\"\n",
    "\n",
    "company_count_incoming_transfer_packages_query = f\"\"\"\n",
    "    select\n",
    "        date_trunc(metrc_transfers.created_date, month) as date_type,\n",
    "        metrc_transfer_packages.product_category_name,\n",
    "        count(metrc_transfer_packages.id) as count\n",
    "    from\n",
    "        company_deliveries\n",
    "        inner join companies on company_deliveries.company_id = companies.id\n",
    "        inner join metrc_transfers on company_deliveries.transfer_row_id = metrc_transfers.id\n",
    "        inner join metrc_deliveries on metrc_transfers.id = metrc_deliveries.transfer_row_id\n",
    "        inner join metrc_transfer_packages on metrc_deliveries.id = metrc_transfer_packages.delivery_row_id\n",
    "    where\n",
    "        True\n",
    "        and companies.identifier = '{COMPANY_IDENTIFER}'\n",
    "        and metrc_transfers.created_date >= '{SALES_TRANSACTIONS_START_DATE}'\n",
    "        and (\n",
    "            company_deliveries.delivery_type = 'INCOMING_FROM_VENDOR' or\n",
    "            company_deliveries.delivery_type = 'INCOMING_UNKNOWN'\n",
    "        )\n",
    "    group by\n",
    "        1,\n",
    "        2\n",
    "    order by\n",
    "        1 asc,\n",
    "        2 asc\n",
    "\"\"\"\n",
    "\n",
    "company_total_gmv_from_receipts_query = f\"\"\"\n",
    "    select\n",
    "        date_trunc(metrc_sales_receipts.sales_datetime, month) as date_type,\n",
    "        sum(metrc_sales_receipts.total_price) as total_gmv\n",
    "    from\n",
    "        companies\n",
    "        inner join metrc_sales_receipts on companies.id = metrc_sales_receipts.company_id\n",
    "    where\n",
    "        True\n",
    "        and companies.identifier = '{COMPANY_IDENTIFER}'\n",
    "        and metrc_sales_receipts.sales_datetime >= '{SALES_TRANSACTIONS_START_DATE}'\n",
    "    group by\n",
    "        1\n",
    "    order by\n",
    "        1 asc\n",
    "\"\"\"\n",
    "\n",
    "company_total_gmv_from_transactions_query = f\"\"\"\n",
    "    select\n",
    "        date_trunc(metrc_sales_receipts.sales_datetime, month) as date_type,\n",
    "        metrc_sales_transactions.product_category_name,\n",
    "        sum(metrc_sales_transactions.total_price) as total_gmv\n",
    "    from\n",
    "        companies\n",
    "        inner join metrc_sales_receipts on companies.id = metrc_sales_receipts.company_id\n",
    "        inner join metrc_sales_transactions on metrc_sales_receipts.id = metrc_sales_transactions.receipt_row_id\n",
    "    where\n",
    "        True\n",
    "        and companies.identifier = '{COMPANY_IDENTIFER}'\n",
    "        and metrc_sales_receipts.sales_datetime >= '{SALES_TRANSACTIONS_START_DATE}'\n",
    "    group by\n",
    "        1,\n",
    "        2\n",
    "    order by\n",
    "        1 asc,\n",
    "        2 asc\n",
    "\"\"\"\n",
    "\n",
    "engine = create_engine('bigquery://bespoke-financial/ProdMetrcData', credentials_path=os.path.expanduser(BIGQUERY_CREDENTIALS_PATH))\n",
    "# test = pandas.read_sql_query(incoming_transfer_packages_query, engine)\n",
    "# company_total_sales_transactions_count_dataframe = pandas.read_sql_query(company_total_sales_transactions_count_query, engine)\n",
    "# company_count_incoming_transfer_packages_dataframe = pandas.read_sql_query(company_count_incoming_transfer_packages_query, engine)\n",
    "company_total_gmv_from_receipts_dataframe = pandas.read_sql_query(company_total_gmv_from_receipts_query, engine)\n",
    "company_total_gmv_from_transactions_dataframe = pandas.read_sql_query(company_total_gmv_query, engine)"
   ]
  },
  {
   "cell_type": "code",
   "execution_count": null,
   "id": "ab6714fc-998b-433d-9815-ea24866125f2",
   "metadata": {},
   "outputs": [],
   "source": []
  },
  {
   "cell_type": "markdown",
   "id": "8a57f9a5-dc2d-4424-b7f2-01bb03d91e97",
   "metadata": {},
   "source": [
    "## Count sales transactions all time"
   ]
  },
  {
   "cell_type": "code",
   "execution_count": null,
   "id": "f3ecd808-14ef-4bef-832e-5ad864d6a9b5",
   "metadata": {},
   "outputs": [],
   "source": [
    "company_total_sales_transactions_count_dataframe"
   ]
  },
  {
   "cell_type": "code",
   "execution_count": null,
   "id": "660610fb-79be-415e-aa2c-8287b9001c48",
   "metadata": {},
   "outputs": [],
   "source": []
  },
  {
   "cell_type": "markdown",
   "id": "efad804d-806b-44da-be78-4911bf42f005",
   "metadata": {},
   "source": [
    "## Count incoming transfer packages by date"
   ]
  },
  {
   "cell_type": "code",
   "execution_count": null,
   "id": "0b2cef8a-6841-424b-aa1c-1829c1a10c42",
   "metadata": {},
   "outputs": [],
   "source": [
    "company_count_incoming_transfer_packages_dataframe"
   ]
  },
  {
   "cell_type": "code",
   "execution_count": null,
   "id": "57401f75-2501-491b-a7c4-92f49374379a",
   "metadata": {},
   "outputs": [],
   "source": [
    "company_count_incoming_transfer_packages_dataframe.groupby(['date_type'])['count'].sum()"
   ]
  },
  {
   "cell_type": "code",
   "execution_count": null,
   "id": "22003b1d-eca0-4042-88df-11639fc20e3f",
   "metadata": {},
   "outputs": [],
   "source": [
    "company_count_incoming_transfer_packages_dataframe.groupby(['date_type', 'product_category_name'])['count'].sum().unstack().plot.bar(figsize=(24, 8), stacked=True)"
   ]
  },
  {
   "cell_type": "code",
   "execution_count": null,
   "id": "b5c97021-7146-408d-a6d1-d45789f97261",
   "metadata": {},
   "outputs": [],
   "source": []
  },
  {
   "cell_type": "markdown",
   "id": "33f0ba87-cd82-4ef8-92cc-c4d8e4708d7a",
   "metadata": {},
   "source": [
    "## Total GMV from sales receipts by date"
   ]
  },
  {
   "cell_type": "code",
   "execution_count": null,
   "id": "6819a64e-6f9b-4b80-9e2c-85ae3931e507",
   "metadata": {},
   "outputs": [],
   "source": [
    "company_total_gmv_from_receipts_dataframe"
   ]
  },
  {
   "cell_type": "code",
   "execution_count": null,
   "id": "4c242ad6-72a1-4a10-8bc4-a25e6090d93e",
   "metadata": {},
   "outputs": [],
   "source": [
    "company_total_gmv_from_receipts_dataframe['total_gmv'].plot.bar(figsize=(24, 8), stacked=True)"
   ]
  },
  {
   "cell_type": "code",
   "execution_count": null,
   "id": "13458fa7-5e71-4553-9722-5452031334a3",
   "metadata": {},
   "outputs": [],
   "source": []
  },
  {
   "cell_type": "code",
   "execution_count": null,
   "id": "a92df717-6ea5-417f-80cd-0cf7a7b8535b",
   "metadata": {},
   "outputs": [],
   "source": [
    "company_total_gmv_from_transactions_dataframe"
   ]
  },
  {
   "cell_type": "code",
   "execution_count": null,
   "id": "08d2ab03-280a-4963-9331-3671722ef233",
   "metadata": {},
   "outputs": [],
   "source": [
    "company_total_gmv_from_transactions_dataframe.groupby(['date_type'])['total_gmv'].sum()"
   ]
  },
  {
   "cell_type": "code",
   "execution_count": null,
   "id": "809c7abd-8274-44a2-9d17-7dfe27adf6d7",
   "metadata": {
    "tags": []
   },
   "outputs": [],
   "source": [
    "company_total_gmv_from_transactions_dataframe.groupby(['date_type', 'product_category_name'])['total_gmv'].sum().unstack().plot.bar(figsize=(24, 8), stacked=True)"
   ]
  },
  {
   "cell_type": "code",
   "execution_count": null,
   "id": "ba155561-744a-4d32-b642-33c25318fee8",
   "metadata": {},
   "outputs": [],
   "source": []
  }
 ],
 "metadata": {
  "kernelspec": {
   "display_name": "Python 3",
   "language": "python",
   "name": "python3"
  },
  "language_info": {
   "codemirror_mode": {
    "name": "ipython",
    "version": 3
   },
   "file_extension": ".py",
   "mimetype": "text/x-python",
   "name": "python",
   "nbconvert_exporter": "python",
   "pygments_lexer": "ipython3",
   "version": "3.7.7"
  }
 },
 "nbformat": 4,
 "nbformat_minor": 5
}
