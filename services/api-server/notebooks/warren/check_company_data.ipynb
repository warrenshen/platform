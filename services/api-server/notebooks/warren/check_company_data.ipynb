{
 "cells": [
  {
   "cell_type": "code",
   "execution_count": null,
   "id": "17064e54-fe0f-43e3-a00d-b2776aa5b753",
   "metadata": {},
   "outputs": [],
   "source": [
    "import json\n",
    "import os\n",
    "import pandas\n",
    "import pyarrow\n",
    "import sys\n",
    "\n",
    "from dotenv import load_dotenv\n",
    "from sqlalchemy import create_engine\n",
    "from os import path\n",
    "\n",
    "load_dotenv(verbose=True)\n",
    "BIGQUERY_CREDENTIALS_PATH = os.environ.get('BIGQUERY_CREDENTIALS_PATH')\n",
    "engine = create_engine('bigquery://bespoke-financial/ProdMetrcData', credentials_path=os.path.expanduser(BIGQUERY_CREDENTIALS_PATH))\n",
    "\n",
    "sys.path.append(path.realpath(path.join(os.getcwd(), \"../core\")))\n",
    "\n",
    "import create_queries\n",
    "import prepare_data\n",
    "\n",
    "%load_ext autoreload\n",
    "%autoreload 2"
   ]
  },
  {
   "cell_type": "code",
   "execution_count": null,
   "id": "038c31ef-3af0-4b64-89b3-32c35769e7b2",
   "metadata": {},
   "outputs": [],
   "source": [
    "COMPANY_IDENTIFIER = 'IDC'\n",
    "TRANSFER_PACKAGES_START_DATE = '2020-01-01'\n",
    "SALES_TRANSACTIONS_START_DATE = '2020-01-01'"
   ]
  },
  {
   "cell_type": "code",
   "execution_count": null,
   "id": "61cc4333-fcbf-4d35-ad5f-09cfb5b17486",
   "metadata": {},
   "outputs": [],
   "source": [
    "company_licenses_query = create_queries.create_company_licenses_query(COMPANY_IDENTIFIER)\n",
    "company_download_summaries_query = create_queries.create_company_download_summaries_query(COMPANY_IDENTIFIER, TRANSFER_PACKAGES_START_DATE)\n",
    "company_incoming_transfer_packages_query = create_queries.create_company_incoming_transfer_packages_query(COMPANY_IDENTIFIER, TRANSFER_PACKAGES_START_DATE)\n",
    "company_unknown_transfer_packages_query = create_queries.create_company_unknown_transfer_packages_query(COMPANY_IDENTIFIER, TRANSFER_PACKAGES_START_DATE)\n",
    "company_sales_receipts_query = create_queries.create_company_sales_receipts_query(COMPANY_IDENTIFIER, SALES_TRANSACTIONS_START_DATE)\n",
    "company_sales_receipts_with_transactions_query = create_queries.create_company_sales_receipts_with_transactions_query(COMPANY_IDENTIFIER, SALES_TRANSACTIONS_START_DATE)\n",
    "\n",
    "company_licenses_dataframe = pandas.read_sql_query(company_licenses_query, engine)\n",
    "company_download_summaries_dataframe = pandas.read_sql_query(company_download_summaries_query, engine)\n",
    "company_incoming_transfer_packages_dataframe = pandas.read_sql_query(company_incoming_transfer_packages_query, engine)\n",
    "company_unknown_transfer_packages_dataframe = pandas.read_sql_query(company_unknown_transfer_packages_query, engine)\n",
    "company_sales_receipts_dataframe = pandas.read_sql_query(company_sales_receipts_query, engine)\n",
    "company_sales_receipts_with_transactions_dataframe = pandas.read_sql_query(company_sales_receipts_with_transactions_query, engine)"
   ]
  },
  {
   "cell_type": "code",
   "execution_count": null,
   "id": "6112742b-5c23-4b16-aaa7-f7a83bbabd9b",
   "metadata": {},
   "outputs": [],
   "source": []
  },
  {
   "cell_type": "markdown",
   "id": "f92f4693-1f2f-4e92-90cc-14966f747bb7",
   "metadata": {},
   "source": [
    "## Licenses"
   ]
  },
  {
   "cell_type": "code",
   "execution_count": null,
   "id": "3208011e-5b05-46dc-84b9-8033a5cd4674",
   "metadata": {},
   "outputs": [],
   "source": [
    "company_licenses_dataframe"
   ]
  },
  {
   "cell_type": "code",
   "execution_count": null,
   "id": "ed268a14-8944-478b-b89f-45b28326db28",
   "metadata": {},
   "outputs": [],
   "source": []
  },
  {
   "cell_type": "markdown",
   "id": "73995911-1fc5-4b51-8fcd-89ad3ab67231",
   "metadata": {},
   "source": [
    "## Download summaries"
   ]
  },
  {
   "cell_type": "code",
   "execution_count": null,
   "id": "247d8d53-94bc-4c34-bb6e-b74c26a35a1f",
   "metadata": {},
   "outputs": [],
   "source": [
    "license_numbers = company_download_summaries_dataframe['license_number'].unique()\n",
    "download_summary_records = company_download_summaries_dataframe.to_dict('records')\n",
    "\n",
    "license_number_to_download_summary_records = {}\n",
    "\n",
    "for license_number in license_numbers:\n",
    "    license_number_to_download_summary_records[license_number] = list(filter(\n",
    "        lambda download_summary_record: download_summary_record['license_number'] == license_number,\n",
    "        download_summary_records\n",
    "    ))\n",
    "\n",
    "bad_count = 0\n",
    "\n",
    "for license_number, download_summary_records in license_number_to_download_summary_records.items():\n",
    "    print(f'Verifying download summaries for license {license_number}...')\n",
    "    print(f'Earliest download summary: {download_summary_records[-1][\"date\"]}')\n",
    "    print(f'Latest download summary: {download_summary_records[0][\"date\"]}')\n",
    "    for download_summary_record in download_summary_records:\n",
    "        if download_summary_record['status'] != 'completed':\n",
    "            bad_count += 1\n",
    "            print(f'Found bad download summary for license {license_number} on date {download_summary_record[\"date\"]}')\n",
    "    print('')\n",
    "\n",
    "if bad_count > 0:\n",
    "    print(f'[FAILURE] Found a total of {bad_count} bad download summaries')\n",
    "else:\n",
    "    print(f'[SUCCESS] All download summaries look good!')"
   ]
  },
  {
   "cell_type": "code",
   "execution_count": null,
   "id": "990860df-9f26-48c4-96e3-35ad99f5d45f",
   "metadata": {},
   "outputs": [],
   "source": []
  },
  {
   "cell_type": "markdown",
   "id": "22f31807",
   "metadata": {},
   "source": [
    "## Transfer packages"
   ]
  },
  {
   "cell_type": "code",
   "execution_count": null,
   "id": "75e1b33e",
   "metadata": {},
   "outputs": [],
   "source": [
    "company_unknown_transfer_package_records = company_unknown_transfer_packages_dataframe.to_dict('records')\n",
    "unknown_count = len(company_unknown_transfer_package_records)\n",
    "if unknown_count > 0:\n",
    "    print(f'[FAILURE] Found a total of {unknown_count} unknown transfer packages')\n",
    "else:\n",
    "    print(f'[SUCCESS] No unknown transfer packages!')"
   ]
  },
  {
   "cell_type": "code",
   "execution_count": null,
   "id": "fd886646",
   "metadata": {},
   "outputs": [],
   "source": []
  },
  {
   "cell_type": "code",
   "execution_count": null,
   "id": "6b23d121",
   "metadata": {},
   "outputs": [],
   "source": [
    "fn = lambda row: f'{row.created_date.year}-{\"0\" if row.created_date.month < 10 else \"\"}{row.created_date.month}'\n",
    "col = company_incoming_transfer_packages_dataframe.apply(fn, axis=1)\n",
    "company_incoming_transfer_packages_dataframe = company_incoming_transfer_packages_dataframe.assign(created_month=col.values)"
   ]
  },
  {
   "cell_type": "code",
   "execution_count": null,
   "id": "85ed995e",
   "metadata": {},
   "outputs": [],
   "source": [
    "company_incoming_transfer_packages_dataframe.groupby(['created_month'])['shipped_quantity'].sum().plot.bar(figsize=(24, 8), stacked=True)"
   ]
  },
  {
   "cell_type": "code",
   "execution_count": null,
   "id": "9925f973",
   "metadata": {},
   "outputs": [],
   "source": []
  },
  {
   "cell_type": "markdown",
   "id": "8d2af509-8c63-467d-ad64-3b5d06f93de1",
   "metadata": {},
   "source": [
    "## Sales GMV month-over-month from metrc_sales_receipts"
   ]
  },
  {
   "cell_type": "code",
   "execution_count": null,
   "id": "e216d407-7ef2-4b17-9d55-9d3aac451cc1",
   "metadata": {},
   "outputs": [],
   "source": [
    "fn = lambda row: f'{row.sales_datetime.year}-{\"0\" if row.sales_datetime.month < 10 else \"\"}{row.sales_datetime.month}'\n",
    "col = company_sales_receipts_dataframe.apply(fn, axis=1)\n",
    "company_sales_receipts_dataframe = company_sales_receipts_dataframe.assign(sales_month=col.values)"
   ]
  },
  {
   "cell_type": "code",
   "execution_count": null,
   "id": "5877cd3f-b5bf-483d-b960-e4fe10781b3e",
   "metadata": {},
   "outputs": [],
   "source": [
    "company_sales_receipts_dataframe.groupby(['sales_month'])['total_price'].sum().plot.bar(figsize=(24, 8), stacked=True)"
   ]
  },
  {
   "cell_type": "code",
   "execution_count": null,
   "id": "cfc285cc-4990-4ee4-a97b-9a1bf4e8ee68",
   "metadata": {},
   "outputs": [],
   "source": []
  },
  {
   "cell_type": "markdown",
   "id": "06d5d54a-7790-41cd-a44c-e401b06b4cde",
   "metadata": {},
   "source": [
    "## Sales GMV month-over-month from metrc_sales_transactions"
   ]
  },
  {
   "cell_type": "code",
   "execution_count": null,
   "id": "54e232ef-5871-401c-9716-254f6242d138",
   "metadata": {},
   "outputs": [],
   "source": [
    "deduped_sales_receipts_with_transactions_dataframe = prepare_data.dedupe_sales_transactions(company_sales_receipts_with_transactions_dataframe)"
   ]
  },
  {
   "cell_type": "code",
   "execution_count": null,
   "id": "e3e1dd13-efba-4740-89de-8a3766681bd7",
   "metadata": {},
   "outputs": [],
   "source": [
    "fn = lambda row: f'{row.sales_datetime.year}-{\"0\" if row.sales_datetime.month < 10 else \"\"}{row.sales_datetime.month}'\n",
    "col = deduped_sales_receipts_with_transactions_dataframe.apply(fn, axis=1)\n",
    "deduped_sales_receipts_with_transactions_dataframe = deduped_sales_receipts_with_transactions_dataframe.assign(sales_month=col.values)"
   ]
  },
  {
   "cell_type": "code",
   "execution_count": null,
   "id": "103bb6f6-bfe6-4932-bed7-755afe8d5a14",
   "metadata": {},
   "outputs": [],
   "source": [
    "# Sales GMV month-over-month by product category name\n",
    "deduped_sales_receipts_with_transactions_dataframe.groupby(['sales_month', 'tx_product_category_name'])['tx_total_price'].sum().unstack().plot.bar(figsize=(24, 8), stacked=True)"
   ]
  },
  {
   "cell_type": "code",
   "execution_count": null,
   "id": "0c954f89-222a-4507-9338-b97cf55a11cb",
   "metadata": {},
   "outputs": [],
   "source": []
  },
  {
   "cell_type": "markdown",
   "id": "b02839ed",
   "metadata": {},
   "source": [
    "## Search for missing incoming transfer packages"
   ]
  },
  {
   "cell_type": "code",
   "execution_count": null,
   "id": "81c1de53",
   "metadata": {},
   "outputs": [],
   "source": [
    "incoming_transfer_package_records = company_incoming_transfer_packages_dataframe.to_dict('records')\n",
    "incoming_transfer_package_ids_set = set([incoming_transfer_package_record['package_id'] for incoming_transfer_package_record in incoming_transfer_package_records])\n",
    "\n",
    "missing_count = 0\n",
    "total_count = 0\n",
    "\n",
    "# Count of missing incoming transfer packages by month.\n",
    "# Missing incoming transfer package falls into then month when 1st sales transaction for that package is sold.\n",
    "month_to_missing_count = {}\n",
    "\n",
    "example_missing_package_ids = []\n",
    "\n",
    "processed_receipt_numbers_set = set([])\n",
    "sales_receipt_with_transactions_records = deduped_sales_receipts_with_transactions_dataframe.to_dict('records')\n",
    "for sales_receipt_with_transaction_record in sales_receipt_with_transactions_records:\n",
    "    tx_package_id = sales_receipt_with_transaction_record['tx_package_id']\n",
    "    receipt_number = sales_receipt_with_transaction_record['receipt_number']\n",
    "    receipt_sales_month = sales_receipt_with_transaction_record['sales_month']\n",
    "\n",
    "    total_count += 1\n",
    "\n",
    "    if tx_package_id in incoming_transfer_package_ids_set:\n",
    "        continue\n",
    "    else:\n",
    "        example_missing_package_ids += [tx_package_id]\n",
    "        missing_count += 1\n",
    "        \n",
    "        if receipt_number not in processed_receipt_numbers_set:\n",
    "            processed_receipt_numbers_set.add(receipt_number)\n",
    "            if receipt_sales_month not in month_to_missing_count:\n",
    "                month_to_missing_count[receipt_sales_month] = 0\n",
    "            month_to_missing_count[receipt_sales_month] += 1\n",
    "\n",
    "        continue\n",
    "        \n",
    "print(f'# transactions missing incoming transfer package: {missing_count} ({missing_count / total_count * 100}%)')\n",
    "print(f'# transactions total: {total_count}')"
   ]
  },
  {
   "cell_type": "code",
   "execution_count": null,
   "id": "a2e378e7",
   "metadata": {},
   "outputs": [],
   "source": [
    "month_to_missing_count"
   ]
  },
  {
   "cell_type": "code",
   "execution_count": null,
   "id": "93a724be",
   "metadata": {},
   "outputs": [],
   "source": []
  },
  {
   "cell_type": "markdown",
   "id": "0da2e8ce-e643-4fee-aca6-cd61b3becc21",
   "metadata": {},
   "source": [
    "## Search for missing metrc_sales_transactions"
   ]
  },
  {
   "cell_type": "code",
   "execution_count": null,
   "id": "cbc30296-afa8-42f8-a16b-72fe045395c6",
   "metadata": {},
   "outputs": [],
   "source": [
    "sales_receipt_with_transactions_records = deduped_sales_receipts_with_transactions_dataframe.to_dict('records')\n",
    "\n",
    "receipt_number_to_transactions = {}\n",
    "for sales_receipt_with_transaction_record in sales_receipt_with_transactions_records:\n",
    "    receipt_number = sales_receipt_with_transaction_record['receipt_number']\n",
    "    if receipt_number in receipt_number_to_transactions:\n",
    "        receipt_number_to_transactions[receipt_number] += [sales_receipt_with_transaction_record]\n",
    "    else:\n",
    "        receipt_number_to_transactions[receipt_number] = [sales_receipt_with_transaction_record]"
   ]
  },
  {
   "cell_type": "code",
   "execution_count": null,
   "id": "c8f876a8-09ef-4582-9ed9-958d3e97b4a5",
   "metadata": {},
   "outputs": [],
   "source": [
    "import math\n",
    "\n",
    "def float_eq(receipt_total_price: float, transactions_total_price: float, num_transactions: int) -> bool:\n",
    "    # For every additional transaction, increase threshold by 0.01 (a penny).\n",
    "    threshold = num_transactions * 0.1\n",
    "    return math.isclose(receipt_total_price, transactions_total_price, abs_tol=threshold)\n",
    "\n",
    "mismatch_count = 0 # Count of receipts where receipt total price does not match transactions total price.\n",
    "missing_count = 0 # Count of receipts with no transactions.\n",
    "total_count = 0 # Count of receipts (including those missing transactions).\n",
    "\n",
    "mismatch_over_count = 0\n",
    "mismatch_under_count = 0\n",
    "\n",
    "month_to_mismatch_count = {}\n",
    "month_to_missing_count = {}\n",
    "\n",
    "month_to_mismatch_over_count = {}\n",
    "month_to_mismatch_under_count = {}\n",
    "\n",
    "example_mismatch_over_receipts = []\n",
    "example_mismatch_under_receipts = []\n",
    "\n",
    "for receipt_number, receipt_transactions in list(receipt_number_to_transactions.items()):\n",
    "    receipt_total_price = receipt_transactions[0]['rt_total_price']\n",
    "    receipt_sales_month = receipt_transactions[0]['sales_month']\n",
    "\n",
    "    total_count += 1\n",
    "\n",
    "    if len(receipt_transactions) == 1 and receipt_transactions[0]['tx_package_id'] == None:\n",
    "        missing_count += 1\n",
    "        if receipt_sales_month not in month_to_missing_count:\n",
    "            month_to_missing_count[receipt_sales_month] = 0\n",
    "        month_to_missing_count[receipt_sales_month] += 1\n",
    "        continue\n",
    "\n",
    "    transactions_total_price = sum(receipt_transaction['tx_total_price'] for receipt_transaction in receipt_transactions)\n",
    "    if not float_eq(receipt_total_price, transactions_total_price, len(receipt_transactions)):\n",
    "        mismatch_count += 1\n",
    "        if receipt_total_price < transactions_total_price:\n",
    "            mismatch_over_count += 1\n",
    "            example_mismatch_over_receipts += [(receipt_number, receipt_transactions)]\n",
    "        else:\n",
    "            mismatch_under_count += 1\n",
    "            example_mismatch_under_receipts += [(receipt_number, receipt_transactions)]\n",
    "\n",
    "        if receipt_sales_month not in month_to_mismatch_count:\n",
    "            month_to_mismatch_count[receipt_sales_month] = 0\n",
    "        month_to_mismatch_count[receipt_sales_month] += 1\n",
    "        continue\n",
    "\n",
    "print(f'# receipts with mismatching transactions: {mismatch_count} ({mismatch_count / total_count * 100}%)')\n",
    "print(f'# receipts missing transactions: {missing_count} ({missing_count / total_count * 100}%)')\n",
    "print(f'# receipts total: {total_count}')\n",
    "\n",
    "if mismatch_count:\n",
    "    print(f'# mismatch receipt vs transactions (transactions over): {mismatch_over_count} ({mismatch_over_count / mismatch_count * 100}%)')\n",
    "    print(f'# mismatch receipt vs transactions (transactions under): {mismatch_under_count} ({mismatch_under_count / mismatch_count * 100}%)')"
   ]
  },
  {
   "cell_type": "code",
   "execution_count": null,
   "id": "f1b0bbdd-7df5-40cc-8633-e60e4891fbce",
   "metadata": {},
   "outputs": [],
   "source": [
    "month_to_missing_count"
   ]
  },
  {
   "cell_type": "code",
   "execution_count": null,
   "id": "0050b730-986c-4408-bdff-6edcd35bd831",
   "metadata": {},
   "outputs": [],
   "source": [
    "for example_mismatch_over_receipt in example_mismatch_over_receipts[:10]:\n",
    "    receipt_number, receipt_transactions = example_mismatch_over_receipt\n",
    "    first_receipt_transaction = receipt_transactions[0]\n",
    "    print(receipt_number)\n",
    "    for receipt_transaction in receipt_transactions:\n",
    "        print(receipt_transaction)\n",
    "    print('---')"
   ]
  },
  {
   "cell_type": "code",
   "execution_count": null,
   "id": "4a6052ce-2d34-4a49-93ad-58a95f4a8a70",
   "metadata": {},
   "outputs": [],
   "source": []
  },
  {
   "cell_type": "markdown",
   "id": "fee5cafe",
   "metadata": {},
   "source": [
    "## Export data"
   ]
  },
  {
   "cell_type": "code",
   "execution_count": null,
   "id": "d83a55cf-72f6-4fa1-8fb9-b896aef8c7df",
   "metadata": {},
   "outputs": [],
   "source": [
    "# Flip flag if you want to export data to files.\n",
    "is_export_enabled = False"
   ]
  },
  {
   "cell_type": "code",
   "execution_count": null,
   "id": "4ca50c05",
   "metadata": {},
   "outputs": [],
   "source": [
    "import time\n",
    "from datetime import date\n",
    "\n",
    "TODAY_DATE = date.today().strftime('%m-%d-%Y')\n",
    "NOW = int(time.time())\n",
    "\n",
    "export_sales_transactions_dataframe = deduped_sales_receipts_with_transactions_dataframe\n",
    "\n",
    "date_columns = export_sales_transactions_dataframe.select_dtypes(include=['datetime64[ns, UTC]']).columns\n",
    "for date_column in date_columns:\n",
    "    export_sales_transactions_dataframe[date_column] = export_sales_transactions_dataframe[date_column].dt.date\n",
    "\n",
    "sales_transactions_xlsx_file_name = f'~/Downloads/{COMPANY_IDENTIFIER}_sales_transactions_{SALES_TRANSACTIONS_START_DATE}_{TODAY_DATE}_{NOW}.xlsx'\n",
    "sales_transactions_csv_file_name = f'~/Downloads/{COMPANY_IDENTIFIER}_sales_transactions_{SALES_TRANSACTIONS_START_DATE}_{TODAY_DATE}_{NOW}.csv'\n",
    "\n",
    "if is_export_enabled:\n",
    "    num_sales_transactions = len(export_sales_transactions_dataframe.index)\n",
    "    print(f'Exported {num_sales_transactions} sales transactions to files...')\n",
    "    export_sales_transactions_dataframe.reset_index().to_excel(sales_transactions_xlsx_file_name)\n",
    "    export_sales_transactions_dataframe.reset_index().to_csv(sales_transactions_csv_file_name)\n",
    "    print(f'Exported {num_sales_transactions} sales transactions to files')"
   ]
  },
  {
   "cell_type": "code",
   "execution_count": null,
   "id": "6dfba055",
   "metadata": {},
   "outputs": [],
   "source": []
  },
  {
   "cell_type": "code",
   "execution_count": null,
   "id": "5f11c88f",
   "metadata": {},
   "outputs": [],
   "source": []
  },
  {
   "cell_type": "code",
   "execution_count": null,
   "id": "884cdade",
   "metadata": {},
   "outputs": [],
   "source": []
  }
 ],
 "metadata": {
  "kernelspec": {
   "display_name": "Python 3",
   "language": "python",
   "name": "python3"
  },
  "language_info": {
   "codemirror_mode": {
    "name": "ipython",
    "version": 3
   },
   "file_extension": ".py",
   "mimetype": "text/x-python",
   "name": "python",
   "nbconvert_exporter": "python",
   "pygments_lexer": "ipython3",
   "version": "3.7.7"
  }
 },
 "nbformat": 4,
 "nbformat_minor": 5
}
