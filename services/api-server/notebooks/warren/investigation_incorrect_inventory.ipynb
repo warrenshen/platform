{
 "cells": [
  {
   "cell_type": "code",
   "execution_count": null,
   "id": "2f698f2d-4bfb-496c-9d7a-d7923b21cd09",
   "metadata": {},
   "outputs": [],
   "source": [
    "import json\n",
    "import os\n",
    "import pandas\n",
    "import pyarrow\n",
    "import sys\n",
    "\n",
    "from dotenv import load_dotenv\n",
    "from sqlalchemy import create_engine\n",
    "from os import path\n",
    "\n",
    "load_dotenv(verbose=True)\n",
    "BIGQUERY_CREDENTIALS_PATH = os.environ.get('BIGQUERY_CREDENTIALS_PATH')\n",
    "engine = create_engine('bigquery://bespoke-financial/ProdMetrcData', credentials_path=os.path.expanduser(BIGQUERY_CREDENTIALS_PATH))\n",
    "\n",
    "sys.path.append(path.realpath(path.join(os.getcwd(), \"../core\")))\n",
    "import create_queries\n",
    "import prepare_data\n",
    "%load_ext autoreload\n",
    "%autoreload 2"
   ]
  },
  {
   "cell_type": "code",
   "execution_count": null,
   "id": "43858800-53b6-4272-96f6-520c662803c6",
   "metadata": {},
   "outputs": [],
   "source": [
    "pandas.set_option('display.max_rows', 50)"
   ]
  },
  {
   "cell_type": "code",
   "execution_count": null,
   "id": "ba143854-67ee-4095-9dab-2379b6823187",
   "metadata": {},
   "outputs": [],
   "source": [
    "COMPANY_IDENTIFIER = 'CSC'\n",
    "TRANSFER_PACKAGES_START_DATE = '2020-01-01'\n",
    "SALES_TRANSACTIONS_START_DATE = '2020-01-01'"
   ]
  },
  {
   "cell_type": "code",
   "execution_count": null,
   "id": "ba0cc75f-9654-455b-be74-08ec47afe177",
   "metadata": {},
   "outputs": [],
   "source": [
    "company_incoming_transfer_packages_query = create_queries.create_company_incoming_transfer_packages_query(\n",
    "    COMPANY_IDENTIFIER,\n",
    "    TRANSFER_PACKAGES_START_DATE,\n",
    "    product_name='Camino Gummies Midnight Blueberry',\n",
    ")\n",
    "company_outgoing_transfer_packages_query = create_queries.create_company_outgoing_transfer_packages_query(\n",
    "    COMPANY_IDENTIFIER,\n",
    "    TRANSFER_PACKAGES_START_DATE,\n",
    "    product_name='Camino Gummies Midnight Blueberry',\n",
    ")\n",
    "company_inventory_packages_query = create_queries.create_company_inventory_packages_query(\n",
    "    COMPANY_IDENTIFIER,\n",
    "    include_quantity_zero=True,\n",
    "    product_name='Camino Gummies Midnight Blueberry',\n",
    ")\n",
    "company_sales_transactions_query = create_queries.create_company_sales_transactions_by_product_name(\n",
    "    COMPANY_IDENTIFIER,\n",
    "    product_name='Camino Gummies Midnight Blueberry',\n",
    ")\n",
    "company_incoming_transfer_packages_dataframe = pandas.read_sql_query(company_incoming_transfer_packages_query, engine)\n",
    "company_outgoing_transfer_packages_dataframe = pandas.read_sql_query(company_outgoing_transfer_packages_query, engine)\n",
    "company_inventory_packages_dataframe = pandas.read_sql_query(company_inventory_packages_query, engine)\n",
    "company_sales_transactions_dataframe = pandas.read_sql_query(company_sales_transactions_query, engine)"
   ]
  },
  {
   "cell_type": "code",
   "execution_count": null,
   "id": "0087bc7f-723d-47cf-b9e3-4a1e28137158",
   "metadata": {},
   "outputs": [],
   "source": [
    "company_incoming_transfer_packages_dataframe = company_incoming_transfer_packages_dataframe[[\n",
    "    'delivery_type',\n",
    "    'created_date',\n",
    "    'received_datetime',\n",
    "#     'shipment_transaction_type',\n",
    "#     'shipper_facility_license_number', 'shipper_facility_name',\n",
    "#     'recipient_facility_license_number', 'recipient_facility_name',\n",
    "#     'shipment_type_name', 'shipment_transaction_type_1',\n",
    "    'package_id',\n",
    "    'package_label',\n",
    "#     'type', 'source_package_labels',\n",
    "#     'source_harvest_names', 'shipment_package_state', 'is_testing_sample',\n",
    "#     'is_trade_sample',\n",
    "    'product_category_name',\n",
    "    'product_name',\n",
    "#     'package_lab_results_status', 'shipper_wholesale_price',\n",
    "#     'shipped_quantity', 'shipped_unit_of_measure',\n",
    "    'receiver_wholesale_price',\n",
    "    'received_quantity',\n",
    "    'received_unit_of_measure',\n",
    "#     'receiver_wholesale_price_1',\n",
    "#     'item_unit_weight', 'item_unit_weight_unit_of_measure_name'\n",
    "]]"
   ]
  },
  {
   "cell_type": "code",
   "execution_count": null,
   "id": "06a7521e-bab2-42f4-8bbc-6be0593c742f",
   "metadata": {},
   "outputs": [],
   "source": [
    "company_incoming_transfer_packages_dataframe"
   ]
  },
  {
   "cell_type": "code",
   "execution_count": null,
   "id": "609adae0-b62b-4fa1-b286-2bb6d537a74a",
   "metadata": {},
   "outputs": [],
   "source": [
    "company_outgoing_transfer_packages_dataframe.columns"
   ]
  },
  {
   "cell_type": "code",
   "execution_count": null,
   "id": "d0fd5ecc-dbad-4bad-aea6-7cc2ab495c7f",
   "metadata": {},
   "outputs": [],
   "source": [
    "company_outgoing_transfer_packages_dataframe = company_outgoing_transfer_packages_dataframe[[\n",
    "    'delivery_type',\n",
    "    'license_number',\n",
    "#     'manifest_number',\n",
    "    'created_date',\n",
    "    'received_datetime',\n",
    "#     'shipper_facility_license_number',\n",
    "#     'shipper_facility_name', 'recipient_facility_license_number',\n",
    "#     'recipient_facility_name', 'shipment_type_name',\n",
    "#     'shipment_transaction_type',\n",
    "    'package_id',\n",
    "    'package_label',\n",
    "#     'type',\n",
    "#     'source_package_labels', 'source_harvest_names',\n",
    "#     'shipment_package_state', 'is_testing_sample', 'is_trade_sample',\n",
    "#     'product_category_name', 'product_name', 'package_lab_results_status',\n",
    "#     'shipper_wholesale_price', 'shipped_quantity',\n",
    "#     'shipped_unit_of_measure',\n",
    "    'received_quantity',\n",
    "    'received_unit_of_measure',\n",
    "    'receiver_wholesale_price',\n",
    "#     'item_unit_weight', 'item_unit_weight_unit_of_measure_name'\n",
    "]]"
   ]
  },
  {
   "cell_type": "code",
   "execution_count": null,
   "id": "1bbee9ad-43e3-4712-867e-32b5d341d3b4",
   "metadata": {},
   "outputs": [],
   "source": [
    "company_outgoing_transfer_packages_dataframe"
   ]
  },
  {
   "cell_type": "code",
   "execution_count": null,
   "id": "7052d47e-e3bc-4666-8ea0-3fda6c7d2078",
   "metadata": {},
   "outputs": [],
   "source": [
    "incoming_package_ids_set = set(list(company_incoming_transfer_packages_dataframe['package_id']))\n",
    "inventory_package_ids_set = set(list(company_inventory_packages_dataframe['package_id']))\n",
    "sales_transaction_package_ids_set = set(list(company_sales_transactions_dataframe['package_id']))\n",
    "len(incoming_package_ids_set), len(inventory_package_ids_set), len(sales_transaction_package_ids_set)"
   ]
  },
  {
   "cell_type": "code",
   "execution_count": null,
   "id": "c68b9859-d5b9-4d4b-a231-8739c8d0282b",
   "metadata": {},
   "outputs": [],
   "source": [
    "company_inventory_packages_dataframe"
   ]
  },
  {
   "cell_type": "code",
   "execution_count": null,
   "id": "ed384c1b-38aa-49af-a515-f07891343f82",
   "metadata": {},
   "outputs": [],
   "source": [
    "# company_inventory_packages_dataframe = company_inventory_packages_dataframe.merge(\n",
    "#     company_incoming_transfer_packages_dataframe,\n",
    "#     on='package_id',\n",
    "#     how='inner',\n",
    "#     suffixes=('_l', '_r'),\n",
    "# )\n",
    "company_inventory_packages_dataframe = company_inventory_packages_dataframe.sort_values('received_datetime', ascending=False)\n",
    "company_inventory_packages_dataframe.columns"
   ]
  },
  {
   "cell_type": "code",
   "execution_count": null,
   "id": "f505cbe7-a746-4404-891d-90cf20701a6a",
   "metadata": {},
   "outputs": [],
   "source": [
    "company_inventory_packages_dataframe = company_inventory_packages_dataframe[[\n",
    "    'package_id',\n",
    "    'packaged_date',\n",
    "    'received_datetime',\n",
    "    'quantity',\n",
    "    'received_quantity',\n",
    "    'receiver_wholesale_price',\n",
    "    'received_unit_of_measure',\n",
    "]]\n",
    "company_inventory_packages_dataframe.head(50)"
   ]
  },
  {
   "cell_type": "code",
   "execution_count": null,
   "id": "ec61996a-4696-4215-a896-87f501f7bb81",
   "metadata": {},
   "outputs": [],
   "source": [
    "company_inventory_packages_dataframe['received_quantity'].sum() - company_inventory_packages_dataframe['quantity'].sum()"
   ]
  },
  {
   "cell_type": "code",
   "execution_count": null,
   "id": "e6e1a945-37bc-4719-bbdf-51777426c433",
   "metadata": {},
   "outputs": [],
   "source": [
    "company_sales_transactions_dataframe"
   ]
  },
  {
   "cell_type": "code",
   "execution_count": null,
   "id": "c2c86eaa-7659-4612-8035-aac27f93f157",
   "metadata": {},
   "outputs": [],
   "source": [
    "company_sales_transactions_dataframe['quantity_sold'].sum()"
   ]
  },
  {
   "cell_type": "code",
   "execution_count": null,
   "id": "3fa8aa5d-f678-4dbf-a30c-0ff04ca43c6b",
   "metadata": {},
   "outputs": [],
   "source": []
  },
  {
   "cell_type": "code",
   "execution_count": null,
   "id": "ff4ed649-a77a-46d3-968e-a3f5318e04a2",
   "metadata": {},
   "outputs": [],
   "source": [
    "for sales_transaction_package_id in list(sales_transaction_package_ids_set):\n",
    "    if sales_transaction_package_id not in inventory_package_ids_set:\n",
    "        print(sales_transaction_package_id)"
   ]
  },
  {
   "cell_type": "code",
   "execution_count": null,
   "id": "c90e4d37-ff76-47e0-b315-344ccde7802f",
   "metadata": {},
   "outputs": [],
   "source": []
  },
  {
   "cell_type": "code",
   "execution_count": null,
   "id": "d023d290-8496-4c58-ac22-9cd6893fad24",
   "metadata": {},
   "outputs": [],
   "source": [
    "company_inventory_package_records = company_inventory_packages_dataframe.to_dict('records')\n",
    "company_sales_transaction_records = company_sales_transactions_dataframe.to_dict('records')"
   ]
  },
  {
   "cell_type": "code",
   "execution_count": null,
   "id": "a5228df4-ec82-42e7-abd3-5728afe380c2",
   "metadata": {},
   "outputs": [],
   "source": [
    "company_inventory_package_records[:1], company_sales_transaction_records[:1]"
   ]
  },
  {
   "cell_type": "code",
   "execution_count": null,
   "id": "a395008c-043a-476f-82ee-ba321d89dc47",
   "metadata": {},
   "outputs": [],
   "source": [
    "company_inventory_package_tuples = [('incoming', r['received_datetime'], r['package_id'], r['received_quantity']) for r in company_inventory_package_records]\n",
    "company_inventory_package_tuples[:2]"
   ]
  },
  {
   "cell_type": "code",
   "execution_count": null,
   "id": "0dd31e52-7a7b-4bf6-8aa2-1787b54a1df6",
   "metadata": {},
   "outputs": [],
   "source": [
    "company_sales_transaction_tuples = [('sale', r['sales_datetime'], r['package_id'], r['quantity_sold']) for r in company_sales_transaction_records]\n",
    "company_sales_transaction_tuples[:2]"
   ]
  },
  {
   "cell_type": "code",
   "execution_count": null,
   "id": "99cc193a-6e55-4351-ae91-541bf9702373",
   "metadata": {},
   "outputs": [],
   "source": [
    "mixed_tuples = company_inventory_package_tuples + company_sales_transaction_tuples\n",
    "mixed_tuples = sorted(mixed_tuples, key=lambda t: t[1])"
   ]
  },
  {
   "cell_type": "code",
   "execution_count": null,
   "id": "a3c85140-4773-4414-9398-cf23c6aeffd0",
   "metadata": {},
   "outputs": [],
   "source": [
    "for mixed_tuple in mixed_tuples:\n",
    "    print(mixed_tuple)"
   ]
  },
  {
   "cell_type": "code",
   "execution_count": null,
   "id": "33dd1ec1-39f0-4ec2-8fd1-1297c82f38a5",
   "metadata": {},
   "outputs": [],
   "source": []
  }
 ],
 "metadata": {
  "kernelspec": {
   "display_name": "Python 3",
   "language": "python",
   "name": "python3"
  },
  "language_info": {
   "codemirror_mode": {
    "name": "ipython",
    "version": 3
   },
   "file_extension": ".py",
   "mimetype": "text/x-python",
   "name": "python",
   "nbconvert_exporter": "python",
   "pygments_lexer": "ipython3",
   "version": "3.7.7"
  }
 },
 "nbformat": 4,
 "nbformat_minor": 5
}
