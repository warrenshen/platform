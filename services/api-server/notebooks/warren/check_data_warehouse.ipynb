{
 "cells": [
  {
   "cell_type": "code",
   "execution_count": 1,
   "id": "34d0f265-43cd-47cb-ac2c-b577a23473e9",
   "metadata": {},
   "outputs": [],
   "source": [
    "import json\n",
    "import pandas\n",
    "import pyarrow\n",
    "from sqlalchemy import create_engine\n",
    "\n",
    "# Steps to install\n",
    "# 1. pip install sqlalchemy-bigquery google-cloud-bigquery-storage pyarrow\n",
    "# 2. Copy the credentials file to wherever you set BIGQUERY_CREDENTIALS_PATH to"
   ]
  },
  {
   "cell_type": "code",
   "execution_count": 2,
   "id": "ae4c4e0e-a3d6-4f4d-a3fb-b4302ae8d90e",
   "metadata": {},
   "outputs": [],
   "source": [
    "import os\n",
    "from dotenv import load_dotenv\n",
    "\n",
    "load_dotenv(verbose=True)\n",
    "BIGQUERY_CREDENTIALS_PATH = os.environ.get('BIGQUERY_CREDENTIALS_PATH')"
   ]
  },
  {
   "cell_type": "code",
   "execution_count": 3,
   "id": "30042a89-45a5-4134-a5fb-4baa6a8184c7",
   "metadata": {},
   "outputs": [],
   "source": [
    "table_row_counts_query = \"\"\"\n",
    "    select\n",
    "        table_id,\n",
    "        row_count\n",
    "    from\n",
    "        bespoke-financial.ProdMetrcData.__TABLES__\n",
    "    order by\n",
    "        row_count desc\n",
    "\"\"\"\n",
    "\n",
    "engine = create_engine('bigquery://bespoke-financial/ProdMetrcData', credentials_path=os.path.expanduser(BIGQUERY_CREDENTIALS_PATH))\n",
    "table_row_counts = pandas.read_sql_query(table_row_counts_query, engine)"
   ]
  },
  {
   "cell_type": "code",
   "execution_count": 4,
   "id": "6819a64e-6f9b-4b80-9e2c-85ae3931e507",
   "metadata": {},
   "outputs": [
    {
     "data": {
      "text/html": [
       "<div>\n",
       "<style scoped>\n",
       "    .dataframe tbody tr th:only-of-type {\n",
       "        vertical-align: middle;\n",
       "    }\n",
       "\n",
       "    .dataframe tbody tr th {\n",
       "        vertical-align: top;\n",
       "    }\n",
       "\n",
       "    .dataframe thead th {\n",
       "        text-align: right;\n",
       "    }\n",
       "</style>\n",
       "<table border=\"1\" class=\"dataframe\">\n",
       "  <thead>\n",
       "    <tr style=\"text-align: right;\">\n",
       "      <th></th>\n",
       "      <th>table_id</th>\n",
       "      <th>row_count</th>\n",
       "    </tr>\n",
       "  </thead>\n",
       "  <tbody>\n",
       "    <tr>\n",
       "      <th>0</th>\n",
       "      <td>metrc_sales_transactions</td>\n",
       "      <td>8552586</td>\n",
       "    </tr>\n",
       "    <tr>\n",
       "      <th>1</th>\n",
       "      <td>metrc_sales_receipts</td>\n",
       "      <td>2706786</td>\n",
       "    </tr>\n",
       "    <tr>\n",
       "      <th>2</th>\n",
       "      <td>metrc_transfer_packages</td>\n",
       "      <td>754408</td>\n",
       "    </tr>\n",
       "    <tr>\n",
       "      <th>3</th>\n",
       "      <td>metrc_packages</td>\n",
       "      <td>468527</td>\n",
       "    </tr>\n",
       "    <tr>\n",
       "      <th>4</th>\n",
       "      <td>company_deliveries</td>\n",
       "      <td>102859</td>\n",
       "    </tr>\n",
       "    <tr>\n",
       "      <th>5</th>\n",
       "      <td>metrc_transfers</td>\n",
       "      <td>92019</td>\n",
       "    </tr>\n",
       "    <tr>\n",
       "      <th>6</th>\n",
       "      <td>metrc_deliveries</td>\n",
       "      <td>91827</td>\n",
       "    </tr>\n",
       "    <tr>\n",
       "      <th>7</th>\n",
       "      <td>metrc_plant_batches</td>\n",
       "      <td>82734</td>\n",
       "    </tr>\n",
       "    <tr>\n",
       "      <th>8</th>\n",
       "      <td>company_licenses</td>\n",
       "      <td>24252</td>\n",
       "    </tr>\n",
       "    <tr>\n",
       "      <th>9</th>\n",
       "      <td>metrc_download_summaries</td>\n",
       "      <td>9224</td>\n",
       "    </tr>\n",
       "    <tr>\n",
       "      <th>10</th>\n",
       "      <td>companies</td>\n",
       "      <td>422</td>\n",
       "    </tr>\n",
       "    <tr>\n",
       "      <th>11</th>\n",
       "      <td>metrc_api_keys</td>\n",
       "      <td>30</td>\n",
       "    </tr>\n",
       "  </tbody>\n",
       "</table>\n",
       "</div>"
      ],
      "text/plain": [
       "                    table_id  row_count\n",
       "0   metrc_sales_transactions    8552586\n",
       "1       metrc_sales_receipts    2706786\n",
       "2    metrc_transfer_packages     754408\n",
       "3             metrc_packages     468527\n",
       "4         company_deliveries     102859\n",
       "5            metrc_transfers      92019\n",
       "6           metrc_deliveries      91827\n",
       "7        metrc_plant_batches      82734\n",
       "8           company_licenses      24252\n",
       "9   metrc_download_summaries       9224\n",
       "10                 companies        422\n",
       "11            metrc_api_keys         30"
      ]
     },
     "execution_count": 4,
     "metadata": {},
     "output_type": "execute_result"
    }
   ],
   "source": [
    "table_row_counts"
   ]
  },
  {
   "cell_type": "code",
   "execution_count": null,
   "id": "3a2908ee-6139-4dac-ac8b-e52b672345fa",
   "metadata": {},
   "outputs": [],
   "source": []
  }
 ],
 "metadata": {
  "kernelspec": {
   "display_name": "Python 3",
   "language": "python",
   "name": "python3"
  },
  "language_info": {
   "codemirror_mode": {
    "name": "ipython",
    "version": 3
   },
   "file_extension": ".py",
   "mimetype": "text/x-python",
   "name": "python",
   "nbconvert_exporter": "python",
   "pygments_lexer": "ipython3",
   "version": "3.7.7"
  }
 },
 "nbformat": 4,
 "nbformat_minor": 5
}
