{
 "cells": [
  {
   "cell_type": "code",
   "execution_count": 1,
   "id": "34d0f265-43cd-47cb-ac2c-b577a23473e9",
   "metadata": {},
   "outputs": [],
   "source": [
    "import json\n",
    "import pandas\n",
    "import pyarrow\n",
    "from sqlalchemy import create_engine\n",
    "\n",
    "# Steps to install\n",
    "# 1. pip install sqlalchemy-bigquery google-cloud-bigquery-storage pyarrow\n",
    "# 2. Copy the credentials file to wherever you set BIGQUERY_CREDENTIALS_PATH to"
   ]
  },
  {
   "cell_type": "code",
   "execution_count": 2,
   "id": "ae4c4e0e-a3d6-4f4d-a3fb-b4302ae8d90e",
   "metadata": {},
   "outputs": [],
   "source": [
    "import os\n",
    "from dotenv import load_dotenv\n",
    "\n",
    "load_dotenv(verbose=True)\n",
    "BIGQUERY_CREDENTIALS_PATH = os.environ.get('BIGQUERY_CREDENTIALS_PATH')"
   ]
  },
  {
   "cell_type": "code",
   "execution_count": 5,
   "id": "30042a89-45a5-4134-a5fb-4baa6a8184c7",
   "metadata": {},
   "outputs": [],
   "source": [
    "table_row_counts_query = \"\"\"\n",
    "    select\n",
    "        table_id,\n",
    "        row_count\n",
    "    from\n",
    "        bespoke-financial.ProdMetrcData.__TABLES__\n",
    "    order by\n",
    "        row_count desc\n",
    "\"\"\"\n",
    "\n",
    "engine = create_engine('bigquery://bespoke-financial/ProdMetrcData', credentials_path=os.path.expanduser(BIGQUERY_CREDENTIALS_PATH))\n",
    "table_row_counts = pandas.read_sql_query(table_row_counts_query, engine)"
   ]
  },
  {
   "cell_type": "code",
   "execution_count": 6,
   "id": "6819a64e-6f9b-4b80-9e2c-85ae3931e507",
   "metadata": {},
   "outputs": [
    {
     "data": {
      "text/html": [
       "<div>\n",
       "<style scoped>\n",
       "    .dataframe tbody tr th:only-of-type {\n",
       "        vertical-align: middle;\n",
       "    }\n",
       "\n",
       "    .dataframe tbody tr th {\n",
       "        vertical-align: top;\n",
       "    }\n",
       "\n",
       "    .dataframe thead th {\n",
       "        text-align: right;\n",
       "    }\n",
       "</style>\n",
       "<table border=\"1\" class=\"dataframe\">\n",
       "  <thead>\n",
       "    <tr style=\"text-align: right;\">\n",
       "      <th></th>\n",
       "      <th>table_id</th>\n",
       "      <th>row_count</th>\n",
       "    </tr>\n",
       "  </thead>\n",
       "  <tbody>\n",
       "    <tr>\n",
       "      <th>0</th>\n",
       "      <td>metrc_sales_transactions</td>\n",
       "      <td>3723857</td>\n",
       "    </tr>\n",
       "    <tr>\n",
       "      <th>1</th>\n",
       "      <td>metrc_sales_receipts</td>\n",
       "      <td>1840242</td>\n",
       "    </tr>\n",
       "    <tr>\n",
       "      <th>2</th>\n",
       "      <td>metrc_transfer_packages</td>\n",
       "      <td>578188</td>\n",
       "    </tr>\n",
       "    <tr>\n",
       "      <th>3</th>\n",
       "      <td>metrc_packages</td>\n",
       "      <td>400638</td>\n",
       "    </tr>\n",
       "    <tr>\n",
       "      <th>4</th>\n",
       "      <td>company_deliveries</td>\n",
       "      <td>94917</td>\n",
       "    </tr>\n",
       "    <tr>\n",
       "      <th>5</th>\n",
       "      <td>metrc_deliveries</td>\n",
       "      <td>83137</td>\n",
       "    </tr>\n",
       "    <tr>\n",
       "      <th>6</th>\n",
       "      <td>metrc_transfers</td>\n",
       "      <td>81612</td>\n",
       "    </tr>\n",
       "    <tr>\n",
       "      <th>7</th>\n",
       "      <td>metrc_plant_batches</td>\n",
       "      <td>81000</td>\n",
       "    </tr>\n",
       "    <tr>\n",
       "      <th>8</th>\n",
       "      <td>companies</td>\n",
       "      <td>417</td>\n",
       "    </tr>\n",
       "    <tr>\n",
       "      <th>9</th>\n",
       "      <td>metrc_api_keys</td>\n",
       "      <td>27</td>\n",
       "    </tr>\n",
       "  </tbody>\n",
       "</table>\n",
       "</div>"
      ],
      "text/plain": [
       "                   table_id  row_count\n",
       "0  metrc_sales_transactions    3723857\n",
       "1      metrc_sales_receipts    1840242\n",
       "2   metrc_transfer_packages     578188\n",
       "3            metrc_packages     400638\n",
       "4        company_deliveries      94917\n",
       "5          metrc_deliveries      83137\n",
       "6           metrc_transfers      81612\n",
       "7       metrc_plant_batches      81000\n",
       "8                 companies        417\n",
       "9            metrc_api_keys         27"
      ]
     },
     "execution_count": 6,
     "metadata": {},
     "output_type": "execute_result"
    }
   ],
   "source": [
    "table_row_counts"
   ]
  },
  {
   "cell_type": "code",
   "execution_count": 13,
   "id": "ba155561-744a-4d32-b642-33c25318fee8",
   "metadata": {},
   "outputs": [],
   "source": [
    "sales_receipts_missing_receipt_id_count_query = \"\"\"\n",
    "    select\n",
    "        count(*)\n",
    "    from\n",
    "        metrc_sales_receipts\n",
    "    where\n",
    "        metrc_sales_receipts.receipt_id is null\n",
    "\"\"\"\n",
    "\n",
    "sales_receipts_missing_updated_at_count_query = \"\"\"\n",
    "    select\n",
    "        count(*)\n",
    "    from\n",
    "        metrc_sales_receipts\n",
    "    where\n",
    "        metrc_sales_receipts.updated_at is null\n",
    "\"\"\"\n",
    "\n",
    "engine = create_engine('bigquery://bespoke-financial/ProdMetrcData', credentials_path=os.path.expanduser(BIGQUERY_CREDENTIALS_PATH))\n",
    "sales_receipts_missing_receipt_id_count = pandas.read_sql_query(sales_receipts_missing_receipt_id_count_query, engine)\n",
    "sales_receipts_missing_updated_at_count = pandas.read_sql_query(sales_receipts_missing_updated_at_count_query, engine)"
   ]
  },
  {
   "cell_type": "code",
   "execution_count": 14,
   "id": "4b065ea4-3f65-464e-9c6e-f5d0df270465",
   "metadata": {},
   "outputs": [
    {
     "data": {
      "text/html": [
       "<div>\n",
       "<style scoped>\n",
       "    .dataframe tbody tr th:only-of-type {\n",
       "        vertical-align: middle;\n",
       "    }\n",
       "\n",
       "    .dataframe tbody tr th {\n",
       "        vertical-align: top;\n",
       "    }\n",
       "\n",
       "    .dataframe thead th {\n",
       "        text-align: right;\n",
       "    }\n",
       "</style>\n",
       "<table border=\"1\" class=\"dataframe\">\n",
       "  <thead>\n",
       "    <tr style=\"text-align: right;\">\n",
       "      <th></th>\n",
       "      <th>f0_</th>\n",
       "    </tr>\n",
       "  </thead>\n",
       "  <tbody>\n",
       "    <tr>\n",
       "      <th>0</th>\n",
       "      <td>0</td>\n",
       "    </tr>\n",
       "  </tbody>\n",
       "</table>\n",
       "</div>"
      ],
      "text/plain": [
       "   f0_\n",
       "0    0"
      ]
     },
     "execution_count": 14,
     "metadata": {},
     "output_type": "execute_result"
    }
   ],
   "source": [
    "sales_receipts_missing_receipt_id_count"
   ]
  },
  {
   "cell_type": "code",
   "execution_count": 15,
   "id": "3e4aeef3-60f9-41d4-bfde-279f6498cb9a",
   "metadata": {},
   "outputs": [
    {
     "data": {
      "text/html": [
       "<div>\n",
       "<style scoped>\n",
       "    .dataframe tbody tr th:only-of-type {\n",
       "        vertical-align: middle;\n",
       "    }\n",
       "\n",
       "    .dataframe tbody tr th {\n",
       "        vertical-align: top;\n",
       "    }\n",
       "\n",
       "    .dataframe thead th {\n",
       "        text-align: right;\n",
       "    }\n",
       "</style>\n",
       "<table border=\"1\" class=\"dataframe\">\n",
       "  <thead>\n",
       "    <tr style=\"text-align: right;\">\n",
       "      <th></th>\n",
       "      <th>f0_</th>\n",
       "    </tr>\n",
       "  </thead>\n",
       "  <tbody>\n",
       "    <tr>\n",
       "      <th>0</th>\n",
       "      <td>0</td>\n",
       "    </tr>\n",
       "  </tbody>\n",
       "</table>\n",
       "</div>"
      ],
      "text/plain": [
       "   f0_\n",
       "0    0"
      ]
     },
     "execution_count": 15,
     "metadata": {},
     "output_type": "execute_result"
    }
   ],
   "source": [
    "sales_receipts_missing_updated_at_count"
   ]
  },
  {
   "cell_type": "code",
   "execution_count": null,
   "id": "3a2908ee-6139-4dac-ac8b-e52b672345fa",
   "metadata": {},
   "outputs": [],
   "source": []
  }
 ],
 "metadata": {
  "kernelspec": {
   "display_name": "Python 3",
   "language": "python",
   "name": "python3"
  },
  "language_info": {
   "codemirror_mode": {
    "name": "ipython",
    "version": 3
   },
   "file_extension": ".py",
   "mimetype": "text/x-python",
   "name": "python",
   "nbconvert_exporter": "python",
   "pygments_lexer": "ipython3",
   "version": "3.7.7"
  }
 },
 "nbformat": 4,
 "nbformat_minor": 5
}
