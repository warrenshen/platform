{
 "cells": [
  {
   "cell_type": "code",
   "execution_count": null,
   "id": "34d0f265-43cd-47cb-ac2c-b577a23473e9",
   "metadata": {},
   "outputs": [],
   "source": [
    "import json\n",
    "import os\n",
    "import pandas\n",
    "import pyarrow\n",
    "import sys\n",
    "\n",
    "from dotenv import load_dotenv\n",
    "from sqlalchemy import create_engine\n",
    "from os import path\n",
    "\n",
    "load_dotenv(verbose=True)\n",
    "BIGQUERY_CREDENTIALS_PATH = os.environ.get('BIGQUERY_CREDENTIALS_PATH')"
   ]
  },
  {
   "cell_type": "code",
   "execution_count": null,
   "id": "ae4c4e0e-a3d6-4f4d-a3fb-b4302ae8d90e",
   "metadata": {},
   "outputs": [],
   "source": [
    "sys.path.append(path.realpath(path.join(os.getcwd(), \"../core\")))\n",
    "import create_queries\n",
    "import prepare_data\n",
    "%load_ext autoreload\n",
    "%autoreload 2"
   ]
  },
  {
   "cell_type": "code",
   "execution_count": null,
   "id": "0ecc56e8-5d09-4051-b080-bde9c5835bf5",
   "metadata": {},
   "outputs": [],
   "source": [
    "COMPANY_IDENTIFIER = 'RA'\n",
    "TRANSFER_PACKAGES_START_DATE = '2021-01-01'\n",
    "TRANSFER_PACKAGES_END_DATE = '2021-09-30'\n",
    "SALES_TRANSACTIONS_START_DATE = '2021-06-01'\n",
    "SALES_TRANSACTIONS_END_DATE = '2021-09-30'"
   ]
  },
  {
   "cell_type": "code",
   "execution_count": null,
   "id": "30042a89-45a5-4134-a5fb-4baa6a8184c7",
   "metadata": {},
   "outputs": [],
   "source": [
    "company_incoming_transfer_packages_query = create_queries.create_company_incoming_transfer_packages_query(\n",
    "    company_identifier=COMPANY_IDENTIFIER,\n",
    "    start_date=TRANSFER_PACKAGES_START_DATE,\n",
    "    end_date=TRANSFER_PACKAGES_END_DATE,\n",
    ")\n",
    "company_sales_receipts_query = f\"\"\"\n",
    "    select\n",
    "        metrc_sales_receipts.receipt_id,\n",
    "        metrc_sales_receipts.receipt_number,\n",
    "        metrc_sales_receipts.type,\n",
    "        metrc_sales_receipts.sales_customer_type,\n",
    "        metrc_sales_receipts.sales_datetime,\n",
    "        metrc_sales_receipts.total_packages,\n",
    "        metrc_sales_receipts.total_price\n",
    "    from\n",
    "        metrc_sales_receipts\n",
    "        inner join companies on metrc_sales_receipts.company_id = companies.id\n",
    "    where\n",
    "        True\n",
    "        and companies.identifier = '{COMPANY_IDENTIFIER}'\n",
    "        and metrc_sales_receipts.sales_datetime >= '{SALES_TRANSACTIONS_START_DATE}'\n",
    "        and metrc_sales_receipts.sales_datetime <= '{SALES_TRANSACTIONS_END_DATE}'\n",
    "    order by\n",
    "        metrc_sales_receipts.sales_datetime desc\n",
    "\"\"\"\n",
    "company_sales_transactions_query = f\"\"\"\n",
    "    select\n",
    "        metrc_sales_transactions.receipt_id,\n",
    "        metrc_sales_transactions.package_id,\n",
    "        metrc_sales_transactions.package_label,\n",
    "        metrc_sales_transactions.product_name,\n",
    "        metrc_sales_transactions.product_category_name,\n",
    "        metrc_sales_transactions.unit_of_measure,\n",
    "        metrc_sales_transactions.quantity_sold,\n",
    "        metrc_sales_transactions.total_price\n",
    "    from\n",
    "        metrc_sales_receipts\n",
    "        inner join companies on metrc_sales_receipts.company_id = companies.id\n",
    "        left outer join metrc_sales_transactions on metrc_sales_receipts.id = metrc_sales_transactions.receipt_row_id\n",
    "    where\n",
    "        True\n",
    "        and companies.identifier = '{COMPANY_IDENTIFIER}'\n",
    "        and metrc_sales_receipts.sales_datetime >= '{SALES_TRANSACTIONS_START_DATE}'\n",
    "        and metrc_sales_receipts.sales_datetime <= '{SALES_TRANSACTIONS_END_DATE}'\n",
    "    order by\n",
    "        metrc_sales_receipts.sales_datetime desc\n",
    "\"\"\"\n",
    "\n",
    "engine = create_engine('bigquery://bespoke-financial/ProdMetrcData', credentials_path=os.path.expanduser(BIGQUERY_CREDENTIALS_PATH))\n",
    "\n",
    "company_incoming_transfer_packages_dataframe = pandas.read_sql_query(company_incoming_transfer_packages_query, engine)\n",
    "company_sales_receipts_dataframe = pandas.read_sql_query(company_sales_receipts_query, engine)\n",
    "company_sales_transactions_dataframe = pandas.read_sql_query(company_sales_transactions_query, engine)"
   ]
  },
  {
   "cell_type": "code",
   "execution_count": null,
   "id": "ab6714fc-998b-433d-9815-ea24866125f2",
   "metadata": {},
   "outputs": [],
   "source": []
  },
  {
   "cell_type": "code",
   "execution_count": null,
   "id": "502afb9a-8010-4699-a4d9-d44d4b966afd",
   "metadata": {},
   "outputs": [],
   "source": [
    "company_incoming_transfer_packages_dataframe.columns"
   ]
  },
  {
   "cell_type": "code",
   "execution_count": null,
   "id": "c17a41e0-870d-4aa2-a331-f55871061b74",
   "metadata": {},
   "outputs": [],
   "source": [
    "company_incoming_transfer_packages_dataframe = company_incoming_transfer_packages_dataframe[[\n",
    "    'created_date',\n",
    "    'shipment_transaction_type',\n",
    "    'package_id',\n",
    "    'package_label',\n",
    "    'product_category_name',\n",
    "    'product_name',\n",
    "    'shipper_wholesale_price',\n",
    "    'shipped_quantity',\n",
    "    'shipped_unit_of_measure',\n",
    "    'item_unit_weight',\n",
    "    'item_unit_weight_unit_of_measure_name',\n",
    "]]\n",
    "company_incoming_transfer_packages_dataframe"
   ]
  },
  {
   "cell_type": "code",
   "execution_count": null,
   "id": "5a52c0c1-3749-44db-8497-2b733def1e8b",
   "metadata": {},
   "outputs": [],
   "source": [
    "company_sales_receipts_dataframe"
   ]
  },
  {
   "cell_type": "code",
   "execution_count": null,
   "id": "ca8f0284-8b94-4c2e-a130-9dbc62bdb5ec",
   "metadata": {},
   "outputs": [],
   "source": [
    "company_sales_transactions_dataframe"
   ]
  },
  {
   "cell_type": "code",
   "execution_count": null,
   "id": "13b7d530-c196-443e-ba1b-729e51823176",
   "metadata": {},
   "outputs": [],
   "source": []
  },
  {
   "cell_type": "code",
   "execution_count": null,
   "id": "388965ea-ade1-4c33-9de8-792da4ea806e",
   "metadata": {},
   "outputs": [],
   "source": [
    "import time\n",
    "\n",
    "incoming_packages_xlsx_file_name = f'~/Downloads/take_home_incoming_packages_{round(time.time())}.xlsx'\n",
    "sales_receipts_xlsx_file_name = f'~/Downloads/take_home_sales_receipts_{round(time.time())}.xlsx'\n",
    "sales_transactions_xlsx_file_name = f'~/Downloads/take_home_sales_transactions_{round(time.time())}.xlsx'\n",
    "\n",
    "company_sales_receipts_dataframe['sales_datetime'] = company_sales_receipts_dataframe['sales_datetime'].apply(lambda a: pandas.to_datetime(a).date()) \n",
    "\n",
    "company_incoming_transfer_packages_dataframe.to_excel(incoming_packages_xlsx_file_name, index=False)\n",
    "company_sales_receipts_dataframe.to_excel(sales_receipts_xlsx_file_name, index=False)\n",
    "company_sales_transactions_dataframe.to_excel(sales_transactions_xlsx_file_name, index=False)"
   ]
  }
 ],
 "metadata": {
  "kernelspec": {
   "display_name": "Python 3",
   "language": "python",
   "name": "python3"
  },
  "language_info": {
   "codemirror_mode": {
    "name": "ipython",
    "version": 3
   },
   "file_extension": ".py",
   "mimetype": "text/x-python",
   "name": "python",
   "nbconvert_exporter": "python",
   "pygments_lexer": "ipython3",
   "version": "3.7.7"
  }
 },
 "nbformat": 4,
 "nbformat_minor": 5
}
