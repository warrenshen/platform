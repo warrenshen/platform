{
 "cells": [
  {
   "cell_type": "code",
   "execution_count": null,
   "id": "2f698f2d-4bfb-496c-9d7a-d7923b21cd09",
   "metadata": {},
   "outputs": [],
   "source": [
    "import json\n",
    "import os\n",
    "import pandas\n",
    "import pyarrow\n",
    "import sys\n",
    "\n",
    "from dotenv import load_dotenv\n",
    "from sqlalchemy import create_engine\n",
    "from os import path\n",
    "\n",
    "load_dotenv(verbose=True)\n",
    "BIGQUERY_CREDENTIALS_PATH = os.environ.get('BIGQUERY_CREDENTIALS_PATH')\n",
    "engine = create_engine('bigquery://bespoke-financial/ProdMetrcData', credentials_path=os.path.expanduser(BIGQUERY_CREDENTIALS_PATH))\n",
    "\n",
    "sys.path.append(path.realpath(path.join(os.getcwd(), \"../core\")))\n",
    "import create_queries\n",
    "import prepare_data\n",
    "%load_ext autoreload\n",
    "%autoreload 2"
   ]
  },
  {
   "cell_type": "code",
   "execution_count": null,
   "id": "ba143854-67ee-4095-9dab-2379b6823187",
   "metadata": {},
   "outputs": [],
   "source": [
    "COMPANY_IDENTIFIER = 'CCC'\n",
    "SALES_TRANSACTIONS_START_DATE = '2020-01-01'"
   ]
  },
  {
   "cell_type": "code",
   "execution_count": null,
   "id": "ba0cc75f-9654-455b-be74-08ec47afe177",
   "metadata": {},
   "outputs": [],
   "source": [
    "company_sales_receipts_query = create_queries.create_company_sales_receipts_query(COMPANY_IDENTIFIER, SALES_TRANSACTIONS_START_DATE)\n",
    "\n",
    "company_sales_receipts_dataframe = pandas.read_sql_query(company_sales_receipts_query, engine)"
   ]
  },
  {
   "cell_type": "code",
   "execution_count": null,
   "id": "e03fe32e-6b39-4542-a77a-f9738bdde338",
   "metadata": {},
   "outputs": [],
   "source": [
    "company_sales_receipts_dataframe.columns"
   ]
  },
  {
   "cell_type": "code",
   "execution_count": null,
   "id": "86d1f878-7a2d-42c2-9597-38821d7ac2ba",
   "metadata": {},
   "outputs": [],
   "source": [
    "company_sales_receipts_dataframe = company_sales_receipts_dataframe[[\n",
    "    'receipt_id',\n",
    "    'receipt_number',\n",
    "    'sales_datetime',\n",
    "    'license_number',\n",
    "]]"
   ]
  },
  {
   "cell_type": "code",
   "execution_count": null,
   "id": "8c22a559-f906-4f78-ab2a-672493198342",
   "metadata": {},
   "outputs": [],
   "source": [
    "company_sales_receipts_dataframe['receipt_id'] = company_sales_receipts_dataframe['receipt_id'].apply(lambda receipt_id: int(receipt_id))"
   ]
  },
  {
   "cell_type": "code",
   "execution_count": null,
   "id": "33c88696-2002-4d96-9b05-6f51efe128a9",
   "metadata": {},
   "outputs": [],
   "source": [
    "company_sales_receipts_dataframe = company_sales_receipts_dataframe.sort_values(by=['receipt_id'])"
   ]
  },
  {
   "cell_type": "code",
   "execution_count": null,
   "id": "d338d403-7a2d-4d8e-9960-6193f45bab50",
   "metadata": {},
   "outputs": [],
   "source": [
    "company_sales_receipts_dataframe"
   ]
  },
  {
   "cell_type": "code",
   "execution_count": null,
   "id": "4c7de3d9-8f8d-4c08-a152-4b08e5838087",
   "metadata": {},
   "outputs": [],
   "source": [
    "sales_receipt_records = company_sales_receipts_dataframe.to_dict('records')\n",
    "sales_receipt_records[:5]"
   ]
  },
  {
   "cell_type": "code",
   "execution_count": null,
   "id": "c55fa01c-66f9-4679-8fcd-9571e8ba7505",
   "metadata": {},
   "outputs": [],
   "source": [
    "previous_receipt_id = None\n",
    "previous_sales_datetime = None\n",
    "\n",
    "THRESHOLD = 500\n",
    "\n",
    "for sales_receipt_record in sales_receipt_records:\n",
    "    receipt_id = sales_receipt_record['receipt_id']\n",
    "    sales_datetime = sales_receipt_record['sales_datetime']\n",
    "\n",
    "    if (\n",
    "        previous_receipt_id and\n",
    "        receipt_id - previous_receipt_id > THRESHOLD and\n",
    "        sales_datetime - previous_sales_datetime > pandas.Timedelta('1 days')\n",
    "    ):\n",
    "        print(f'Receipt ID {receipt_id} ({sales_datetime}) and previous receipt ID {previous_receipt_id} ({previous_sales_datetime}) are far apart')\n",
    "\n",
    "    previous_receipt_id = receipt_id\n",
    "    previous_sales_datetime = sales_datetime"
   ]
  },
  {
   "cell_type": "code",
   "execution_count": null,
   "id": "b46f6ea8-b814-4c60-a5e1-4c749487b5dc",
   "metadata": {},
   "outputs": [],
   "source": []
  },
  {
   "cell_type": "code",
   "execution_count": null,
   "id": "0f8f9d67-edcb-4b46-a876-b3d909aa087a",
   "metadata": {},
   "outputs": [],
   "source": []
  },
  {
   "cell_type": "code",
   "execution_count": null,
   "id": "f40175d0-e092-4b88-8029-90eda739171a",
   "metadata": {},
   "outputs": [],
   "source": [
    "company_sales_receipts_dataframe.sort_values(by=['sales_datetime'])"
   ]
  },
  {
   "cell_type": "code",
   "execution_count": null,
   "id": "a5228df4-ec82-42e7-abd3-5728afe380c2",
   "metadata": {},
   "outputs": [],
   "source": []
  }
 ],
 "metadata": {
  "kernelspec": {
   "display_name": "Python 3",
   "language": "python",
   "name": "python3"
  },
  "language_info": {
   "codemirror_mode": {
    "name": "ipython",
    "version": 3
   },
   "file_extension": ".py",
   "mimetype": "text/x-python",
   "name": "python",
   "nbconvert_exporter": "python",
   "pygments_lexer": "ipython3",
   "version": "3.7.7"
  }
 },
 "nbformat": 4,
 "nbformat_minor": 5
}
