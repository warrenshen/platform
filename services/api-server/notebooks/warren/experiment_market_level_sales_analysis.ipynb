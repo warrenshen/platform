{
 "cells": [
  {
   "cell_type": "code",
   "execution_count": null,
   "id": "b733155f-ecc9-40bd-8ef9-4451495bd7cf",
   "metadata": {},
   "outputs": [],
   "source": [
    "import json\n",
    "import os\n",
    "import numpy\n",
    "import pandas\n",
    "import pyarrow\n",
    "import sys\n",
    "\n",
    "from datetime import date\n",
    "from os import path\n",
    "from dotenv import load_dotenv\n",
    "from sqlalchemy import create_engine\n",
    "\n",
    "# Steps to install\n",
    "# 1. pip install sqlalchemy-bigquery google-cloud-bigquery-storage pyarrow\n",
    "# 2. Copy the credentials file to wherever you set BIGQUERY_CREDENTIALS_PATH to\n",
    "\n",
    "load_dotenv(verbose=True)\n",
    "BIGQUERY_CREDENTIALS_PATH = os.environ.get('BIGQUERY_CREDENTIALS_PATH')\n",
    "\n",
    "engine = create_engine('bigquery://bespoke-financial/ProdMetrcData', credentials_path=os.path.expanduser(BIGQUERY_CREDENTIALS_PATH))"
   ]
  },
  {
   "cell_type": "code",
   "execution_count": null,
   "id": "69bb070f-5da4-4f96-a27c-b693940d70d5",
   "metadata": {},
   "outputs": [],
   "source": [
    "sys.path.append(path.realpath(path.join(os.getcwd(), \"../core\")))\n",
    "\n",
    "import create_queries\n",
    "import prepare_data\n",
    "\n",
    "%load_ext autoreload\n",
    "%autoreload 2"
   ]
  },
  {
   "cell_type": "code",
   "execution_count": null,
   "id": "dd6ba651-cf78-4f65-875e-03803f9ec03d",
   "metadata": {},
   "outputs": [],
   "source": [
    "def get_company_weekly_gmv_dataframe(company_identifier, start_date):\n",
    "    company_weekly_gmv_by_receipts_query = create_queries.create_company_weekly_gmv_by_receipts_query(company_identifier, start_date)\n",
    "    company_weekly_gmv_by_receipts_dataframe = pandas.read_sql_query(company_weekly_gmv_by_receipts_query, engine)\n",
    "    return company_weekly_gmv_by_receipts_dataframe\n",
    "\n",
    "def get_company_monthly_gmv_dataframe(company_identifier, start_date):\n",
    "    company_monthly_gmv_by_receipts_query = create_queries.create_company_monthly_gmv_by_receipts_query(company_identifier, start_date)\n",
    "    company_monthly_gmv_by_receipts_dataframe = pandas.read_sql_query(company_monthly_gmv_by_receipts_query, engine)\n",
    "    return company_monthly_gmv_by_receipts_dataframe"
   ]
  },
  {
   "cell_type": "code",
   "execution_count": null,
   "id": "0ce46612-8530-475b-80b6-7698b0712d05",
   "metadata": {},
   "outputs": [],
   "source": [
    "def get_company_monthly_units_sold_dataframe(company_identifier, start_date):\n",
    "    company_sales_transactions_query = create_queries.create_company_sales_receipts_with_transactions_query(company_identifier, start_date)\n",
    "    company_sales_transactions_dataframe = pandas.read_sql_query(company_sales_transactions_query, engine)\n",
    "    company_sales_transactions_dataframe = prepare_data.dedupe_sales_transactions(company_sales_transactions_dataframe)\n",
    "    return company_sales_transactions_dataframe.groupby('sales_month')['tx_quantity_sold'].sum()\n",
    "\n",
    "def get_company_monthly_units_sold_by_product_category_name_dataframe(company_identifier, start_date):\n",
    "    company_sales_transactions_query = create_queries.create_company_sales_receipts_with_transactions_query(company_identifier, start_date)\n",
    "    company_sales_transactions_dataframe = pandas.read_sql_query(company_sales_transactions_query, engine)\n",
    "    company_sales_transactions_dataframe = prepare_data.dedupe_sales_transactions(company_sales_transactions_dataframe)\n",
    "    return company_sales_transactions_dataframe.groupby(['sales_month', 'tx_product_category_name'])['tx_quantity_sold'].sum().unstack()"
   ]
  },
  {
   "cell_type": "code",
   "execution_count": null,
   "id": "d75f3ea0-9d73-466f-bd8c-699f8475f095",
   "metadata": {},
   "outputs": [],
   "source": []
  },
  {
   "cell_type": "code",
   "execution_count": null,
   "id": "8e7bc37e-98d2-4ae2-a18b-6591d036929d",
   "metadata": {},
   "outputs": [],
   "source": [
    "# Royal Apothecary\n",
    "company_monthly_gmv_by_receipts_dataframe = get_company_monthly_gmv_dataframe(company_identifier='RA', start_date='2020-01-01')\n",
    "company_monthly_gmv_by_receipts_dataframe.set_index('sales_month').plot.bar(figsize=(24, 8))"
   ]
  },
  {
   "cell_type": "code",
   "execution_count": null,
   "id": "79681dad-9534-4c62-9cd4-064118e5fd0b",
   "metadata": {},
   "outputs": [],
   "source": [
    "company_monthly_units_sold_dataframe = get_company_monthly_units_sold_dataframe(company_identifier='RA', start_date='2020-01-01')\n",
    "company_monthly_units_sold_dataframe.plot.bar(figsize=(24, 8))"
   ]
  },
  {
   "cell_type": "code",
   "execution_count": null,
   "id": "3fb22ed8-57ab-45b2-8799-dd9fdba78c4f",
   "metadata": {},
   "outputs": [],
   "source": [
    "company_monthly_units_sold_by_product_category_name_dataframe = get_company_monthly_units_sold_by_product_category_name_dataframe(company_identifier='RA', start_date='2020-01-01')\n",
    "company_monthly_units_sold_by_product_category_name_dataframe.plot.bar(figsize=(24, 8), stacked=True)"
   ]
  },
  {
   "cell_type": "code",
   "execution_count": null,
   "id": "6839be99-6d6f-4048-8de9-a4a3fe0dcfef",
   "metadata": {},
   "outputs": [],
   "source": []
  },
  {
   "cell_type": "code",
   "execution_count": null,
   "id": "669e9592-4b35-427c-aa60-6115ffeea2af",
   "metadata": {},
   "outputs": [],
   "source": [
    "# HPCC\n",
    "company_monthly_gmv_by_receipts_dataframe = get_company_monthly_gmv_dataframe(company_identifier='HPCC', start_date='2020-01-01')\n",
    "company_monthly_gmv_by_receipts_dataframe.set_index('sales_month').plot.bar(figsize=(24, 8))"
   ]
  },
  {
   "cell_type": "code",
   "execution_count": null,
   "id": "94944c67-0c53-4b8b-9290-e1f488f38873",
   "metadata": {},
   "outputs": [],
   "source": [
    "company_monthly_units_sold_by_product_category_name_dataframe = get_company_monthly_units_sold_by_product_category_name_dataframe(company_identifier='HPCC', start_date='2020-01-01')\n",
    "company_monthly_units_sold_by_product_category_name_dataframe.plot.bar(figsize=(24, 8), stacked=True)"
   ]
  },
  {
   "cell_type": "code",
   "execution_count": null,
   "id": "0afad3e6-d1a8-454b-a51a-2d50a3b54624",
   "metadata": {},
   "outputs": [],
   "source": []
  },
  {
   "cell_type": "code",
   "execution_count": null,
   "id": "5ca29a43-06a8-401c-896c-2502cc2c1726",
   "metadata": {},
   "outputs": [],
   "source": [
    "# Sovereign\n",
    "company_monthly_gmv_by_receipts_dataframe = get_company_monthly_gmv_dataframe(company_identifier='SO', start_date='2020-01-01')\n",
    "company_monthly_gmv_by_receipts_dataframe.set_index('sales_month').plot.bar(figsize=(24, 8))"
   ]
  },
  {
   "cell_type": "code",
   "execution_count": null,
   "id": "a3f0250b-da6b-4347-b8e7-69cc612081f8",
   "metadata": {},
   "outputs": [],
   "source": [
    "company_monthly_units_sold_dataframe = get_company_monthly_units_sold_dataframe(company_identifier='SO', start_date='2020-01-01')\n",
    "company_monthly_units_sold_dataframe.plot.bar(figsize=(24, 8))"
   ]
  },
  {
   "cell_type": "code",
   "execution_count": null,
   "id": "ecf089d3-b36c-45fc-8b73-8a1d1ed77ebc",
   "metadata": {},
   "outputs": [],
   "source": [
    "company_monthly_units_sold_by_product_category_name_dataframe = get_company_monthly_units_sold_by_product_category_name_dataframe(company_identifier='SO', start_date='2020-01-01')\n",
    "company_monthly_units_sold_by_product_category_name_dataframe.plot.bar(figsize=(24, 8), stacked=True)"
   ]
  },
  {
   "cell_type": "code",
   "execution_count": null,
   "id": "5b5d85b3-5daf-44cf-a12a-b58a73f27637",
   "metadata": {},
   "outputs": [],
   "source": []
  },
  {
   "cell_type": "code",
   "execution_count": null,
   "id": "12611586-0fae-4570-842d-1b89af7c50b4",
   "metadata": {},
   "outputs": [],
   "source": [
    "# Calm and Collective\n",
    "company_monthly_gmv_by_receipts_dataframe = get_company_monthly_gmv_dataframe(company_identifier='CC', start_date='2020-01-01')\n",
    "company_monthly_gmv_by_receipts_dataframe.set_index('sales_month').plot.bar(figsize=(24, 8))"
   ]
  },
  {
   "cell_type": "code",
   "execution_count": null,
   "id": "18a191b1-8ed0-4de2-a5da-999f8f985727",
   "metadata": {},
   "outputs": [],
   "source": [
    "company_monthly_units_sold_dataframe = get_company_monthly_units_sold_dataframe(company_identifier='CC', start_date='2020-01-01')\n",
    "company_monthly_units_sold_dataframe.plot.bar(figsize=(24, 8))"
   ]
  },
  {
   "cell_type": "code",
   "execution_count": null,
   "id": "cb4c35fa-79c5-4720-8ec6-e577dbfeec79",
   "metadata": {},
   "outputs": [],
   "source": [
    "company_monthly_units_sold_by_product_category_name_dataframe = get_company_monthly_units_sold_by_product_category_name_dataframe(company_identifier='CC', start_date='2020-01-01')\n",
    "company_monthly_units_sold_by_product_category_name_dataframe.plot.bar(figsize=(24, 8), stacked=True)"
   ]
  },
  {
   "cell_type": "code",
   "execution_count": null,
   "id": "72512b78-20fd-4244-987f-a75f793a41ae",
   "metadata": {},
   "outputs": [],
   "source": []
  },
  {
   "cell_type": "code",
   "execution_count": null,
   "id": "98c7b580-94a0-4b0e-a848-e570594099be",
   "metadata": {},
   "outputs": [],
   "source": [
    "# Embarc\n",
    "company_monthly_gmv_by_receipts_dataframe = get_company_monthly_gmv_dataframe(company_identifier='EM', start_date='2020-01-01')\n",
    "company_monthly_gmv_by_receipts_dataframe.set_index('sales_month').plot.bar(figsize=(24, 8))"
   ]
  },
  {
   "cell_type": "code",
   "execution_count": null,
   "id": "e81109b2-4b36-4bca-a0e6-41df4da207f6",
   "metadata": {},
   "outputs": [],
   "source": [
    "company_monthly_units_sold_dataframe = get_company_monthly_units_sold_dataframe(company_identifier='EM', start_date='2020-01-01')\n",
    "company_monthly_units_sold_dataframe.plot.bar(figsize=(24, 8))"
   ]
  },
  {
   "cell_type": "code",
   "execution_count": null,
   "id": "ef2416b8-65c6-494c-9d5c-b88a6dff36b7",
   "metadata": {},
   "outputs": [],
   "source": [
    "company_monthly_units_sold_by_product_category_name_dataframe = get_company_monthly_units_sold_by_product_category_name_dataframe(company_identifier='EM', start_date='2020-01-01')\n",
    "company_monthly_units_sold_by_product_category_name_dataframe.plot.bar(figsize=(24, 8), stacked=True)"
   ]
  },
  {
   "cell_type": "code",
   "execution_count": null,
   "id": "c3ea0f2a-461a-4348-9ee0-b22e0276b9df",
   "metadata": {},
   "outputs": [],
   "source": []
  },
  {
   "cell_type": "code",
   "execution_count": null,
   "id": "dd3b2d12-35ed-469c-94aa-257966d9fa5d",
   "metadata": {},
   "outputs": [],
   "source": [
    "# Moonflower Delivery\n",
    "company_monthly_gmv_by_receipts_dataframe = get_company_monthly_gmv_dataframe(company_identifier='MD', start_date='2020-01-01')\n",
    "company_monthly_gmv_by_receipts_dataframe.set_index('sales_month').plot.bar(figsize=(24, 8))"
   ]
  },
  {
   "cell_type": "code",
   "execution_count": null,
   "id": "75b50da6-d84e-4e84-9841-4fb2cc36f245",
   "metadata": {},
   "outputs": [],
   "source": [
    "company_monthly_units_sold_dataframe = get_company_monthly_units_sold_dataframe(company_identifier='MD', start_date='2020-01-01')\n",
    "company_monthly_units_sold_dataframe.plot.bar(figsize=(24, 8))"
   ]
  },
  {
   "cell_type": "code",
   "execution_count": null,
   "id": "8494902e-934f-46df-908c-70b68a433ef1",
   "metadata": {},
   "outputs": [],
   "source": [
    "company_monthly_units_sold_by_product_category_name_dataframe = get_company_monthly_units_sold_by_product_category_name_dataframe(company_identifier='MD', start_date='2020-01-01')\n",
    "company_monthly_units_sold_by_product_category_name_dataframe.plot.bar(figsize=(24, 8), stacked=True)"
   ]
  },
  {
   "cell_type": "code",
   "execution_count": null,
   "id": "ea8dbbe8-f6d2-48cd-9b0b-ecbc0d5b207c",
   "metadata": {},
   "outputs": [],
   "source": []
  },
  {
   "cell_type": "code",
   "execution_count": null,
   "id": "5d3b8df8-5448-4b99-b62f-5c39aefb1c14",
   "metadata": {},
   "outputs": [],
   "source": [
    "# MedLeaf\n",
    "company_monthly_gmv_by_receipts_dataframe = get_company_monthly_gmv_dataframe(company_identifier='ML', start_date='2020-01-01')\n",
    "company_monthly_gmv_by_receipts_dataframe.set_index('sales_month').plot.bar(figsize=(24, 8))"
   ]
  },
  {
   "cell_type": "code",
   "execution_count": null,
   "id": "d70cf52a-b919-4f4f-aae1-abc8593dd698",
   "metadata": {},
   "outputs": [],
   "source": [
    "company_monthly_units_sold_dataframe = get_company_monthly_units_sold_dataframe(company_identifier='ML', start_date='2020-01-01')\n",
    "company_monthly_units_sold_dataframe.set_index('sales_month').plot.bar(figsize=(24, 8))"
   ]
  },
  {
   "cell_type": "code",
   "execution_count": null,
   "id": "d7b5aaa2-6b3e-4c1d-8248-800f0015f41b",
   "metadata": {},
   "outputs": [],
   "source": [
    "company_monthly_units_sold_by_product_category_name_dataframe = get_company_monthly_units_sold_by_product_category_name_dataframe(company_identifier='ML', start_date='2020-01-01')\n",
    "company_monthly_units_sold_by_product_category_name_dataframe.plot.bar(figsize=(24, 8), stacked=True)"
   ]
  },
  {
   "cell_type": "code",
   "execution_count": null,
   "id": "a8da298c-f891-4d30-b99c-f6d353effffb",
   "metadata": {},
   "outputs": [],
   "source": []
  },
  {
   "cell_type": "code",
   "execution_count": null,
   "id": "2ccd16fb-4b50-41d6-ad44-870909470035",
   "metadata": {},
   "outputs": [],
   "source": [
    "# Medicine Woman\n",
    "company_monthly_gmv_by_receipts_dataframe = get_company_monthly_gmv_dataframe(company_identifier='MW', start_date='2020-01-01')\n",
    "company_monthly_gmv_by_receipts_dataframe.set_index('sales_month').plot.bar(figsize=(24, 8))"
   ]
  },
  {
   "cell_type": "code",
   "execution_count": null,
   "id": "3a38e8e6-642f-46af-9895-f0f5e97749a0",
   "metadata": {},
   "outputs": [],
   "source": [
    "company_monthly_units_sold_by_product_category_name_dataframe = get_company_monthly_units_sold_by_product_category_name_dataframe(company_identifier='MW', start_date='2020-01-01')\n",
    "company_monthly_units_sold_by_product_category_name_dataframe.plot.bar(figsize=(24, 8), stacked=True)"
   ]
  },
  {
   "cell_type": "code",
   "execution_count": null,
   "id": "f63104be-50b6-44f4-8ab4-3dca9c552138",
   "metadata": {},
   "outputs": [],
   "source": []
  },
  {
   "cell_type": "code",
   "execution_count": null,
   "id": "90563742-080a-4805-aa46-675778ab9531",
   "metadata": {},
   "outputs": [],
   "source": [
    "# Grupo Flor\n",
    "company_monthly_gmv_by_receipts_dataframe = get_company_monthly_gmv_dataframe(company_identifier='GF', start_date='2020-01-01')\n",
    "company_monthly_gmv_by_receipts_dataframe.set_index('sales_month').plot.bar(figsize=(24, 8))"
   ]
  },
  {
   "cell_type": "code",
   "execution_count": null,
   "id": "4593817b-a9eb-456e-b106-30ce99e036d4",
   "metadata": {},
   "outputs": [],
   "source": [
    "# Purple Lotus\n",
    "company_monthly_gmv_by_receipts_dataframe = get_company_monthly_gmv_dataframe(company_identifier='PL', start_date='2020-01-01')\n",
    "company_monthly_gmv_by_receipts_dataframe.set_index('sales_month').plot.bar(figsize=(24, 8))"
   ]
  },
  {
   "cell_type": "code",
   "execution_count": null,
   "id": "7c26ee73-76bc-41fe-bd92-c244610c118e",
   "metadata": {},
   "outputs": [],
   "source": [
    "# Eskar Holdings\n",
    "company_monthly_gmv_by_receipts_dataframe = get_company_monthly_gmv_dataframe(company_identifier='EH', start_date='2020-01-01')\n",
    "company_monthly_gmv_by_receipts_dataframe.set_index('sales_month').plot.bar(figsize=(24, 8))"
   ]
  },
  {
   "cell_type": "code",
   "execution_count": null,
   "id": "ac1988f3-91f6-469d-a947-3df70f8a7068",
   "metadata": {},
   "outputs": [],
   "source": [
    "company_weekly_gmv_by_receipts_dataframe = get_company_weekly_gmv_dataframe(company_identifier='EH', start_date='2020-01-01')\n",
    "company_weekly_gmv_by_receipts_dataframe.set_index('sales_week').plot.bar(figsize=(24, 8))"
   ]
  },
  {
   "cell_type": "code",
   "execution_count": null,
   "id": "1d6ce637-26e6-4bf2-a219-1e2737061890",
   "metadata": {},
   "outputs": [],
   "source": []
  }
 ],
 "metadata": {
  "kernelspec": {
   "display_name": "Python 3",
   "language": "python",
   "name": "python3"
  },
  "language_info": {
   "codemirror_mode": {
    "name": "ipython",
    "version": 3
   },
   "file_extension": ".py",
   "mimetype": "text/x-python",
   "name": "python",
   "nbconvert_exporter": "python",
   "pygments_lexer": "ipython3",
   "version": "3.7.7"
  }
 },
 "nbformat": 4,
 "nbformat_minor": 5
}
