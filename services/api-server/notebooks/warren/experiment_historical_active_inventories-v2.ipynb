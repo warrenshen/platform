{
 "cells": [
  {
   "cell_type": "code",
   "execution_count": 292,
   "id": "170c442e-f0fb-4421-a3bf-5f87863f8277",
   "metadata": {},
   "outputs": [],
   "source": [
    "import json\n",
    "import os\n",
    "import numpy\n",
    "import pandas\n",
    "import pyarrow\n",
    "import sys\n",
    "\n",
    "from datetime import date\n",
    "from os import path\n",
    "from dotenv import load_dotenv\n",
    "from sqlalchemy import create_engine\n",
    "\n",
    "# Steps to install\n",
    "# 1. pip install sqlalchemy-bigquery google-cloud-bigquery-storage pyarrow\n",
    "# 2. Copy the credentials file to wherever you set BIGQUERY_CREDENTIALS_PATH to\n",
    "\n",
    "load_dotenv(verbose=True)\n",
    "BIGQUERY_CREDENTIALS_PATH = os.environ.get('BIGQUERY_CREDENTIALS_PATH')"
   ]
  },
  {
   "cell_type": "code",
   "execution_count": 293,
   "id": "38f9a288-03bc-43c5-82f8-a7c5a55f7286",
   "metadata": {},
   "outputs": [
    {
     "name": "stdout",
     "output_type": "stream",
     "text": [
      "The autoreload extension is already loaded. To reload it, use:\n",
      "  %reload_ext autoreload\n"
     ]
    }
   ],
   "source": [
    "sys.path.append(path.realpath(path.join(os.getcwd(), \"../core\")))\n",
    "import create_queries\n",
    "%load_ext autoreload\n",
    "%autoreload 2"
   ]
  },
  {
   "cell_type": "code",
   "execution_count": 294,
   "id": "fbfe06bc-cc79-41cc-814e-1d2166177496",
   "metadata": {},
   "outputs": [
    {
     "name": "stdout",
     "output_type": "stream",
     "text": [
      "Today is 10/31/2021\n"
     ]
    }
   ],
   "source": [
    "COMPANY_NAME = 'BBF'\n",
    "COMPANY_IDENTIFIER = 'BBF'\n",
    "TRANSFER_PACKAGES_START_DATE = '2019-01-01'\n",
    "SALES_TRANSACTIONS_START_DATE = '2019-01-01'\n",
    "INVENTORY_DATES = [\n",
    "    '09/30/2020',\n",
    "    '10/31/2020',\n",
    "    '11/30/2020',\n",
    "    '12/31/2020',\n",
    "    '01/31/2021',\n",
    "    '02/28/2021',\n",
    "    '03/31/2021',\n",
    "    '04/30/2021',\n",
    "    '05/31/2021',\n",
    "    '06/30/2021',\n",
    "    '07/31/2021',\n",
    "    '08/31/2021',\n",
    "    '09/30/2021',\n",
    "]\n",
    "ANALYSIS_PARAMS = {\n",
    "    'sold_threshold': 1.0\n",
    "}\n",
    "TODAY_DATE = date.today().strftime('%m/%d/%Y')\n",
    "INVENTORY_DATES.append(TODAY_DATE)\n",
    "print('Today is {}'.format(TODAY_DATE))"
   ]
  },
  {
   "cell_type": "code",
   "execution_count": 295,
   "id": "d9eccd84-a327-4299-8876-456c6c9f574c",
   "metadata": {},
   "outputs": [],
   "source": [
    "# Download packages, sales transactions, incoming / outgoing tranfers\n",
    "\n",
    "company_incoming_transfer_packages_query = create_queries.create_company_incoming_transfer_packages_query(COMPANY_IDENTIFIER, TRANSFER_PACKAGES_START_DATE)\n",
    "company_outgoing_transfer_packages_query = create_queries.create_company_outgoing_transfer_packages_query(COMPANY_IDENTIFIER, TRANSFER_PACKAGES_START_DATE)\n",
    "company_sales_transactions_query = create_queries.create_company_sales_transactions_query(COMPANY_IDENTIFIER, SALES_TRANSACTIONS_START_DATE)\n",
    "company_inventory_packages_query = create_queries.create_company_inventory_packages_query(\n",
    "    COMPANY_IDENTIFIER, include_quantity_zero=True)\n",
    "\n",
    "engine = create_engine('bigquery://bespoke-financial/ProdMetrcData', credentials_path=os.path.expanduser(BIGQUERY_CREDENTIALS_PATH))\n",
    "company_incoming_transfer_packages_dataframe = pandas.read_sql_query(company_incoming_transfer_packages_query, engine)\n",
    "company_outgoing_transfer_packages_dataframe = pandas.read_sql_query(company_outgoing_transfer_packages_query, engine)\n",
    "company_sales_transactions_dataframe = pandas.read_sql_query(company_sales_transactions_query, engine)\n",
    "company_inventory_packages_dataframe = pandas.read_sql_query(company_inventory_packages_query, engine)"
   ]
  },
  {
   "cell_type": "code",
   "execution_count": 296,
   "id": "106a034d-fb76-4e8e-bce6-4e3b525b175e",
   "metadata": {},
   "outputs": [],
   "source": [
    "sys.path.append(path.realpath(path.join(os.getcwd(), \"../../scripts/analysis\")))\n",
    "sys.path.append(path.realpath(path.join(os.getcwd(), \"../../src\")))\n",
    "\n",
    "from util import active_inventory_util as util"
   ]
  },
  {
   "cell_type": "code",
   "execution_count": 323,
   "id": "c2af6220-2ebc-4447-a17e-0e3d9f3a7bbd",
   "metadata": {},
   "outputs": [
    {
     "name": "stdout",
     "output_type": "stream",
     "text": [
      "WARN: package 1404181 is missing a sourceproductionbatchnumber and an incoming pkg\n",
      "WARN: package 882535 is missing a sourceproductionbatchnumber and an incoming pkg\n",
      "WARN: package 943375 is missing a sourceproductionbatchnumber and an incoming pkg\n",
      "WARN: package 939603 is missing a sourceproductionbatchnumber and an incoming pkg\n",
      "WARN: package 1480915 is missing a sourceproductionbatchnumber and an incoming pkg\n",
      "WARN: package 1143130 is missing a sourceproductionbatchnumber and an incoming pkg\n",
      "WARN: package 999491 is missing a sourceproductionbatchnumber and an incoming pkg\n",
      "WARN: package 1041172 is missing a sourceproductionbatchnumber and an incoming pkg\n",
      "WARN: package 1063602 is missing a sourceproductionbatchnumber and an incoming pkg\n",
      "WARN: package 999497 is missing a sourceproductionbatchnumber and an incoming pkg\n",
      "WARN: package 1309319 is missing a sourceproductionbatchnumber and an incoming pkg\n",
      "WARN: package 1089736 is missing a sourceproductionbatchnumber and an incoming pkg\n",
      "WARN: package 1273602 is missing a sourceproductionbatchnumber and an incoming pkg\n",
      "WARN: package 1234073 is missing a sourceproductionbatchnumber and an incoming pkg\n",
      "WARN: package 1464915 is missing a sourceproductionbatchnumber and an incoming pkg\n",
      "WARN: package 1402663 is missing a sourceproductionbatchnumber and an incoming pkg\n",
      "WARN: package 1535038 is missing a sourceproductionbatchnumber and an incoming pkg\n",
      "WARN: package 1471242 is missing a sourceproductionbatchnumber and an incoming pkg\n",
      "WARN: package 1887912 is missing a sourceproductionbatchnumber and an incoming pkg\n",
      "WARN: package 1582423 is missing a sourceproductionbatchnumber and an incoming pkg\n",
      "WARN: package 2703154 is missing a sourceproductionbatchnumber and an incoming pkg\n",
      "WARN: package 2792543 is missing a sourceproductionbatchnumber and an incoming pkg\n",
      "WARN: package 1907095 is missing a sourceproductionbatchnumber and an incoming pkg\n",
      "WARN: package 1943197 is missing a sourceproductionbatchnumber and an incoming pkg\n",
      "WARN: package 1985716 is missing a sourceproductionbatchnumber and an incoming pkg\n",
      "WARN: package 2004870 is missing a sourceproductionbatchnumber and an incoming pkg\n",
      "WARN: package 2005683 is missing a sourceproductionbatchnumber and an incoming pkg\n",
      "WARN: package 2663711 is missing a sourceproductionbatchnumber and an incoming pkg\n",
      "WARN: package 2520101 is missing a sourceproductionbatchnumber and an incoming pkg\n",
      "WARN: package 2662709 is missing a sourceproductionbatchnumber and an incoming pkg\n",
      "WARN: package 2665111 is missing a sourceproductionbatchnumber and an incoming pkg\n",
      "WARN: package 2864894 is missing a sourceproductionbatchnumber and an incoming pkg\n",
      "WARN: package 882523 is missing a sourceproductionbatchnumber and an incoming pkg\n",
      "WARN: package 882525 is missing a sourceproductionbatchnumber and an incoming pkg\n",
      "WARN: package 848191 is missing a sourceproductionbatchnumber and an incoming pkg\n",
      "WARN: package 882513 is missing a sourceproductionbatchnumber and an incoming pkg\n",
      "WARN: package 1025003 is missing a sourceproductionbatchnumber and an incoming pkg\n",
      "WARN: package 1552643 is missing a sourceproductionbatchnumber and an incoming pkg\n",
      "WARN: package 919749 is missing a sourceproductionbatchnumber and an incoming pkg\n",
      "WARN: package 935310 is missing a sourceproductionbatchnumber and an incoming pkg\n",
      "WARN: package 1073318 is missing a sourceproductionbatchnumber and an incoming pkg\n",
      "WARN: package 1413424 is missing a sourceproductionbatchnumber and an incoming pkg\n",
      "WARN: package 1214015 is missing a sourceproductionbatchnumber and an incoming pkg\n",
      "WARN: package 1185665 is missing a sourceproductionbatchnumber and an incoming pkg\n",
      "WARN: package 1208018 is missing a sourceproductionbatchnumber and an incoming pkg\n",
      "WARN: package 2641506 is missing a sourceproductionbatchnumber and an incoming pkg\n",
      "WARN: package 1518747 is missing a sourceproductionbatchnumber and an incoming pkg\n",
      "WARN: package 1429090 is missing a sourceproductionbatchnumber and an incoming pkg\n",
      "WARN: package 1266986 is missing a sourceproductionbatchnumber and an incoming pkg\n",
      "WARN: package 1397841 is missing a sourceproductionbatchnumber and an incoming pkg\n",
      "WARN: package 1387465 is missing a sourceproductionbatchnumber and an incoming pkg\n",
      "WARN: package 1451865 is missing a sourceproductionbatchnumber and an incoming pkg\n",
      "WARN: package 1491201 is missing a sourceproductionbatchnumber and an incoming pkg\n",
      "WARN: package 1492028 is missing a sourceproductionbatchnumber and an incoming pkg\n",
      "WARN: package 1578730 is missing a sourceproductionbatchnumber and an incoming pkg\n",
      "WARN: package 1631118 is missing a sourceproductionbatchnumber and an incoming pkg\n",
      "WARN: package 1799892 is missing a sourceproductionbatchnumber and an incoming pkg\n",
      "WARN: package 1930238 is missing a sourceproductionbatchnumber and an incoming pkg\n",
      "WARN: package 1934761 is missing a sourceproductionbatchnumber and an incoming pkg\n",
      "WARN: package 2005050 is missing a sourceproductionbatchnumber and an incoming pkg\n",
      "WARN: package 2254423 is missing a sourceproductionbatchnumber and an incoming pkg\n",
      "WARN: package 2601921 is missing a sourceproductionbatchnumber and an incoming pkg\n",
      "WARN: package 2261829 is missing a sourceproductionbatchnumber and an incoming pkg\n",
      "WARN: package 2261973 is missing a sourceproductionbatchnumber and an incoming pkg\n",
      "WARN: package 2264132 is missing a sourceproductionbatchnumber and an incoming pkg\n",
      "WARN: package 2680202 is missing a sourceproductionbatchnumber and an incoming pkg\n",
      "WARN: package 2840831 is missing a sourceproductionbatchnumber and an incoming pkg\n",
      "WARN: package 1043710 is missing a sourceproductionbatchnumber and an incoming pkg\n",
      "WARN: package 871642 is missing a sourceproductionbatchnumber and an incoming pkg\n",
      "WARN: package 959600 is missing a sourceproductionbatchnumber and an incoming pkg\n",
      "WARN: package 1786375 is missing a sourceproductionbatchnumber and an incoming pkg\n",
      "WARN: package 882532 is missing a sourceproductionbatchnumber and an incoming pkg\n",
      "WARN: package 882522 is missing a sourceproductionbatchnumber and an incoming pkg\n",
      "WARN: package 882526 is missing a sourceproductionbatchnumber and an incoming pkg\n",
      "WARN: package 848175 is missing a sourceproductionbatchnumber and an incoming pkg\n",
      "WARN: package 882509 is missing a sourceproductionbatchnumber and an incoming pkg\n",
      "WARN: package 991116 is missing a sourceproductionbatchnumber and an incoming pkg\n",
      "WARN: package 1041168 is missing a sourceproductionbatchnumber and an incoming pkg\n",
      "WARN: package 1195820 is missing a sourceproductionbatchnumber and an incoming pkg\n",
      "WARN: package 967065 is missing a sourceproductionbatchnumber and an incoming pkg\n",
      "WARN: package 1293503 is missing a sourceproductionbatchnumber and an incoming pkg\n",
      "WARN: package 1007606 is missing a sourceproductionbatchnumber and an incoming pkg\n",
      "WARN: package 1314356 is missing a sourceproductionbatchnumber and an incoming pkg\n",
      "WARN: package 1065158 is missing a sourceproductionbatchnumber and an incoming pkg\n",
      "WARN: package 1482716 is missing a sourceproductionbatchnumber and an incoming pkg\n",
      "WARN: package 1065969 is missing a sourceproductionbatchnumber and an incoming pkg\n",
      "WARN: package 1071847 is missing a sourceproductionbatchnumber and an incoming pkg\n",
      "WARN: package 1165311 is missing a sourceproductionbatchnumber and an incoming pkg\n",
      "WARN: package 1558645 is missing a sourceproductionbatchnumber and an incoming pkg\n",
      "WARN: package 1202245 is missing a sourceproductionbatchnumber and an incoming pkg\n",
      "WARN: package 1328333 is missing a sourceproductionbatchnumber and an incoming pkg\n",
      "WARN: package 1372942 is missing a sourceproductionbatchnumber and an incoming pkg\n",
      "WARN: package 1867320 is missing a sourceproductionbatchnumber and an incoming pkg\n",
      "WARN: package 1328917 is missing a sourceproductionbatchnumber and an incoming pkg\n",
      "WARN: package 1393115 is missing a sourceproductionbatchnumber and an incoming pkg\n",
      "WARN: package 1675999 is missing a sourceproductionbatchnumber and an incoming pkg\n",
      "WARN: package 1827249 is missing a sourceproductionbatchnumber and an incoming pkg\n",
      "WARN: package 1377202 is missing a sourceproductionbatchnumber and an incoming pkg\n",
      "WARN: package 1537665 is missing a sourceproductionbatchnumber and an incoming pkg\n",
      "WARN: package 1423238 is missing a sourceproductionbatchnumber and an incoming pkg\n",
      "WARN: package 1522132 is missing a sourceproductionbatchnumber and an incoming pkg\n",
      "WARN: package 1594904 is missing a sourceproductionbatchnumber and an incoming pkg\n",
      "WARN: package 1594905 is missing a sourceproductionbatchnumber and an incoming pkg\n",
      "WARN: package 1837903 is missing a sourceproductionbatchnumber and an incoming pkg\n",
      "WARN: package 1763130 is missing a sourceproductionbatchnumber and an incoming pkg\n",
      "WARN: package 1977857 is missing a sourceproductionbatchnumber and an incoming pkg\n",
      "WARN: package 2240201 is missing a sourceproductionbatchnumber and an incoming pkg\n",
      "WARN: package 2384625 is missing a sourceproductionbatchnumber and an incoming pkg\n",
      "WARN: package 2799335 is missing a sourceproductionbatchnumber and an incoming pkg\n",
      "WARN: package 2478563 is missing a sourceproductionbatchnumber and an incoming pkg\n",
      "WARN: package 2629917 is missing a sourceproductionbatchnumber and an incoming pkg\n",
      "WARN: package 2788743 is missing a sourceproductionbatchnumber and an incoming pkg\n",
      "WARN: package 2639409 is missing a sourceproductionbatchnumber and an incoming pkg\n",
      "WARN: package 2681730 is missing a sourceproductionbatchnumber and an incoming pkg\n",
      "WARN: package 2682267 is missing a sourceproductionbatchnumber and an incoming pkg\n",
      "WARN: package 2703793 is missing a sourceproductionbatchnumber and an incoming pkg\n",
      "WARN: package 1814625 is missing a sourceproductionbatchnumber and an incoming pkg\n",
      "WARN: package 1043711 is missing a sourceproductionbatchnumber and an incoming pkg\n",
      "WARN: package 875170 is missing a sourceproductionbatchnumber and an incoming pkg\n",
      "WARN: package 900113 is missing a sourceproductionbatchnumber and an incoming pkg\n",
      "WARN: package 923541 is missing a sourceproductionbatchnumber and an incoming pkg\n",
      "WARN: package 882520 is missing a sourceproductionbatchnumber and an incoming pkg\n",
      "WARN: package 882517 is missing a sourceproductionbatchnumber and an incoming pkg\n",
      "WARN: package 725714 is missing a sourceproductionbatchnumber and an incoming pkg\n",
      "WARN: package 882515 is missing a sourceproductionbatchnumber and an incoming pkg\n",
      "WARN: package 882531 is missing a sourceproductionbatchnumber and an incoming pkg\n",
      "WARN: package 882534 is missing a sourceproductionbatchnumber and an incoming pkg\n",
      "WARN: package 847234 is missing a sourceproductionbatchnumber and an incoming pkg\n",
      "WARN: package 882510 is missing a sourceproductionbatchnumber and an incoming pkg\n",
      "WARN: package 882518 is missing a sourceproductionbatchnumber and an incoming pkg\n",
      "WARN: package 1137725 is missing a sourceproductionbatchnumber and an incoming pkg\n",
      "WARN: package 1049562 is missing a sourceproductionbatchnumber and an incoming pkg\n",
      "WARN: package 1504056 is missing a sourceproductionbatchnumber and an incoming pkg\n",
      "WARN: package 991629 is missing a sourceproductionbatchnumber and an incoming pkg\n",
      "WARN: package 1089054 is missing a sourceproductionbatchnumber and an incoming pkg\n",
      "WARN: package 1099326 is missing a sourceproductionbatchnumber and an incoming pkg\n",
      "WARN: package 1177725 is missing a sourceproductionbatchnumber and an incoming pkg\n",
      "WARN: package 1273722 is missing a sourceproductionbatchnumber and an incoming pkg\n",
      "WARN: package 1413082 is missing a sourceproductionbatchnumber and an incoming pkg\n",
      "WARN: package 1614214 is missing a sourceproductionbatchnumber and an incoming pkg\n",
      "WARN: package 1427507 is missing a sourceproductionbatchnumber and an incoming pkg\n",
      "WARN: package 1436613 is missing a sourceproductionbatchnumber and an incoming pkg\n",
      "WARN: package 1472534 is missing a sourceproductionbatchnumber and an incoming pkg\n",
      "WARN: package 1971724 is missing a sourceproductionbatchnumber and an incoming pkg\n",
      "WARN: package 1601587 is missing a sourceproductionbatchnumber and an incoming pkg\n",
      "WARN: package 1642678 is missing a sourceproductionbatchnumber and an incoming pkg\n",
      "WARN: package 1680255 is missing a sourceproductionbatchnumber and an incoming pkg\n",
      "WARN: package 1746829 is missing a sourceproductionbatchnumber and an incoming pkg\n",
      "WARN: package 1927157 is missing a sourceproductionbatchnumber and an incoming pkg\n",
      "WARN: package 2257477 is missing a sourceproductionbatchnumber and an incoming pkg\n",
      "WARN: package 2602133 is missing a sourceproductionbatchnumber and an incoming pkg\n",
      "WARN: package 2293111 is missing a sourceproductionbatchnumber and an incoming pkg\n",
      "WARN: package 2476913 is missing a sourceproductionbatchnumber and an incoming pkg\n",
      "WARN: package 2493730 is missing a sourceproductionbatchnumber and an incoming pkg\n",
      "WARN: package 2513842 is missing a sourceproductionbatchnumber and an incoming pkg\n",
      "WARN: package 2514752 is missing a sourceproductionbatchnumber and an incoming pkg\n",
      "WARN: package 2703836 is missing a sourceproductionbatchnumber and an incoming pkg\n",
      "WARN: package 963319 is missing a sourceproductionbatchnumber and an incoming pkg\n",
      "WARN: package 983720 is missing a sourceproductionbatchnumber and an incoming pkg\n",
      "WARN: package 895301 is missing a sourceproductionbatchnumber and an incoming pkg\n",
      "WARN: package 1786403 is missing a sourceproductionbatchnumber and an incoming pkg\n"
     ]
    }
   ],
   "source": [
    "d = util.Download()\n",
    "d.download_dataframes(\n",
    "    incoming_transfer_packages_dataframe=company_incoming_transfer_packages_dataframe,\n",
    "    outgoing_transfer_packages_dataframe=company_outgoing_transfer_packages_dataframe,\n",
    "    sales_transactions_dataframe=company_sales_transactions_dataframe,\n",
    "    engine=engine\n",
    ")"
   ]
  },
  {
   "cell_type": "code",
   "execution_count": 325,
   "id": "d7f880d6-a954-40e5-b23c-573c6935c6a7",
   "metadata": {},
   "outputs": [
    {
     "data": {
      "text/plain": [
       "11"
      ]
     },
     "execution_count": 325,
     "metadata": {},
     "output_type": "execute_result"
    }
   ],
   "source": [
    "len(d.parent_packages_records)"
   ]
  },
  {
   "cell_type": "code",
   "execution_count": 320,
   "id": "3dafe2ed-1094-428e-8af8-4f793cde92e8",
   "metadata": {},
   "outputs": [],
   "source": [
    "production_batch_numbers = set([])\n",
    "for pkg in d.missing_incoming_pkg_package_records:\n",
    "    production_batch_numbers.add(pkg['package_payload']['sourceproductionbatchnumbers'])"
   ]
  },
  {
   "cell_type": "code",
   "execution_count": 335,
   "id": "a9567098-f365-4bd1-b7b7-c7702d383e93",
   "metadata": {},
   "outputs": [
    {
     "name": "stdout",
     "output_type": "stream",
     "text": [
      "SFVM22103312-1\n",
      "BRYM22103312-1\n",
      "TOGM22101272-4\n",
      "WDCM12103282-1\n",
      "TOGM22101272-4\n",
      "BRYM22103312-1\n",
      "BRYM22103312-1\n",
      "WDCM12103282-1\n",
      "WDCM12103282-1\n",
      "SFVM22103312-1\n",
      "BRYM22103312-1\n",
      "MACM22103312-6\n",
      "MACM22103312-6\n"
     ]
    }
   ],
   "source": [
    "# Child to parent package_id\n",
    "\n",
    "productionbatchnum_to_package_id = {}\n",
    "child_to_parent_package_id = {}\n",
    "\n",
    "for parent_record in d.parent_packages_records:\n",
    "    production_batch_num = parent_record['package_payload']['productionbatchnumber']\n",
    "    package_id = parent_record['package_id']\n",
    "    if not production_batch_num:\n",
    "        print(f'Parent package {package_id} is missing a productionbatchnumber')\n",
    "        continue\n",
    "    productionbatchnum_to_package_id[parent_record['package_payload']['productionbatchnumber']] = package_id\n",
    "\n",
    "num_orphans = 0\n",
    "has_number_but_no_parent = 0\n",
    "\n",
    "for pkg in d.missing_incoming_pkg_package_records:\n",
    "    batch_no = pkg['package_payload']['sourceproductionbatchnumbers']\n",
    "    if not batch_no:\n",
    "        num_orphans += 1\n",
    "        continue\n",
    "    \n",
    "    if batch_no not in productionbatchnum_to_package_id:\n",
    "        num_orphans += 1\n",
    "        has_number_but_no_parent += 1\n",
    "        print(batch_no)\n",
    "        continue\n",
    "    \n",
    "    parent_package_id = productionbatchnum_to_package_id[batch_no]\n",
    "    child_to_parent_package_id[pkg['package_id']] = parent_package_id\n",
    "    "
   ]
  },
  {
   "cell_type": "code",
   "execution_count": 330,
   "id": "6ea1c685-0492-4bbe-a69b-542e550d6351",
   "metadata": {},
   "outputs": [
    {
     "data": {
      "text/plain": [
       "31"
      ]
     },
     "execution_count": 330,
     "metadata": {},
     "output_type": "execute_result"
    }
   ],
   "source": [
    "len(child_to_parent_package_id.keys())"
   ]
  },
  {
   "cell_type": "code",
   "execution_count": 332,
   "id": "4194e648-7af7-4a3d-adc0-0071fdc14ee4",
   "metadata": {},
   "outputs": [
    {
     "data": {
      "text/plain": [
       "174"
      ]
     },
     "execution_count": 332,
     "metadata": {},
     "output_type": "execute_result"
    }
   ],
   "source": [
    "num_orphans"
   ]
  },
  {
   "cell_type": "code",
   "execution_count": 334,
   "id": "fbb89fe4-112e-483c-85c4-8dccc838a6bf",
   "metadata": {},
   "outputs": [
    {
     "data": {
      "text/plain": [
       "13"
      ]
     },
     "execution_count": 334,
     "metadata": {},
     "output_type": "execute_result"
    }
   ],
   "source": [
    "has_number_but_no_parent"
   ]
  },
  {
   "cell_type": "code",
   "execution_count": 310,
   "id": "5fbbbfe7-87c0-4409-9e6a-b6dc2b63ce54",
   "metadata": {
    "tags": []
   },
   "outputs": [
    {
     "name": "stdout",
     "output_type": "stream",
     "text": [
      "Only outgoing: 43\n",
      "Only incoming: 136\n",
      "Only sold: 205\n",
      "In and out: 25\n",
      "In and sold at least once 533\n",
      "In and sold many times 510\n",
      "Total pkgs: 930\n",
      "Wrote result to out/BBF_inventory_by_month.xls\n",
      "Excluded 248 / 930 packages from consideration (26.67%)\n",
      "  MISSING_INCOMING: 248 times\n"
     ]
    }
   ],
   "source": [
    "# Check for how many packages are excluded from analysis,\n",
    "# seeing less then 2% is really good\n",
    "q = util.Query()\n",
    "q.inventory_dates = INVENTORY_DATES\n",
    "q.company_name = COMPANY_NAME\n",
    "\n",
    "id_to_history = util.get_histories(d)\n",
    "util.print_counts(id_to_history)\n",
    "util.create_inventory_xlsx(id_to_history, q, params=ANALYSIS_PARAMS)"
   ]
  },
  {
   "cell_type": "code",
   "execution_count": null,
   "id": "82399d10-38a8-4a3d-91f7-48ac2c4dd463",
   "metadata": {},
   "outputs": [],
   "source": [
    "# Find parent - child relationship information, e.g.,\n",
    "# 1. Search for all packages which match based on sourceproductionbatchnumbers\n",
    "#\n",
    "# 2. Match these to metrc_packages.productionbatchnumber\n",
    "#\n",
    "# 3. Create an incoming pkg for the PackageHistory\n",
    "#.    where sourceproductionbatchnumber = metrc_packages.productionbatchnumber"
   ]
  },
  {
   "cell_type": "code",
   "execution_count": 289,
   "id": "4de368e2-44ab-4885-86d2-54b989f091f2",
   "metadata": {
    "tags": []
   },
   "outputs": [
    {
     "name": "stdout",
     "output_type": "stream",
     "text": [
      "WARN: package #5172609 does not have a shipped quantity\n",
      "WARN: package #848108 does not have a shipped quantity\n"
     ]
    }
   ],
   "source": [
    "import importlib\n",
    "importlib.reload(util)\n",
    "\n",
    "INVENTORY_DATES = [TODAY_DATE]\n",
    "\n",
    "date_to_inventory_packages_dataframe = {}\n",
    "\n",
    "id_to_history = util.get_histories(d)\n",
    "\n",
    "for inventory_date in INVENTORY_DATES:\n",
    "    computed_inventory_package_records = util.create_inventory_dataframe_by_date(\n",
    "        id_to_history, inventory_date, params=ANALYSIS_PARAMS)    \n",
    "    computed_inventory_packages_dataframe = pandas.DataFrame(\n",
    "        computed_inventory_package_records,\n",
    "        columns=[\n",
    "            'package_id',\n",
    "            'license_number',\n",
    "            'arrived_date',\n",
    "            'product_category_name',\n",
    "            'product_name',\n",
    "            'quantity',\n",
    "            'sold_date',\n",
    "            'is_in_inventory'\n",
    "        ]\n",
    "    )\n",
    "    date_to_inventory_packages_dataframe[inventory_date] = computed_inventory_packages_dataframe"
   ]
  },
  {
   "cell_type": "code",
   "execution_count": 302,
   "id": "896c2893-bc7b-4295-84e3-fd4a11632b45",
   "metadata": {},
   "outputs": [],
   "source": [
    "from_packages_inventory_dataframe = company_inventory_packages_dataframe[[\n",
    "    'package_id',\n",
    "    'packaged_date',\n",
    "    'product_category_name',\n",
    "    'product_name',\n",
    "    'quantity',\n",
    "]].sort_values('package_id')\n",
    "\n",
    "package_id_to_actual_row = {}\n",
    "for index, row in from_packages_inventory_dataframe.iterrows():\n",
    "    package_id_to_actual_row[str(row['package_id'])] = row"
   ]
  },
  {
   "cell_type": "code",
   "execution_count": 309,
   "id": "3ef448ed-e183-49f6-afb1-b65d1c60b68a",
   "metadata": {},
   "outputs": [
    {
     "name": "stdout",
     "output_type": "stream",
     "text": [
      "! Missing in metrc_packages\n",
      "INCOMING\n",
      "{'package_row_id': 'b31568a5-0c54-4ecc-89bf-bb62b1b11cea', 'delivery_type': 'INCOMING_FROM_VENDOR', 'license_number': 'MR281525', 'manifest_number': '0000198704', 'created_date': datetime.date(2020, 8, 4), 'received_datetime': datetime.datetime(2020, 8, 4, 17, 23, 9, tzinfo=<UTC>), 'shipper_facility_license_number': 'MP281303', 'shipper_facility_name': 'SIRA NATURALS, INC.', 'recipient_facility_license_number': 'MR281525', 'recipient_facility_name': 'Boston Bud Factory Inc.', 'shipment_type_name': 'Unaffiliated Transfer', 'shipment_transaction_type': 'Wholesale', 'package_id': '622839', 'package_label': '1A40A030000025A000013437', 'type': 'transfer', 'shipment_package_state': 'Accepted', 'is_testing_sample': False, 'is_trade_sample': False, 'product_category_name': 'Infused (edible)', 'product_name': 'M00000247627: Wicked Sour Watermelon Gummies 5mg 20pk', 'package_lab_results_status': 'passed', 'shipper_wholesale_price': 0.01, 'shipped_quantity': 60.0, 'shipped_unit_of_measure': 'Each', 'received_quantity': 60.0, 'received_unit_of_measure': 'Each', 'item_unit_weight': None, 'item_unit_weight_unit_of_measure_name': None, 'received_date': datetime.date(2020, 8, 4), 'date_to_txs': OrderedDict()}\n",
      "\n",
      "INCOMING\n",
      "{'package_row_id': '771dad27-6825-4ce2-876d-1891d4508559', 'delivery_type': 'INCOMING_FROM_VENDOR', 'license_number': 'MR281525', 'manifest_number': '0000144623', 'created_date': datetime.date(2020, 6, 26), 'received_datetime': datetime.datetime(2020, 6, 29, 19, 10, 55, tzinfo=<UTC>), 'shipper_facility_license_number': 'MP281303', 'shipper_facility_name': 'SIRA NATURALS, INC.', 'recipient_facility_license_number': 'MR281525', 'recipient_facility_name': 'Boston Bud Factory Inc.', 'shipment_type_name': 'Unaffiliated Transfer', 'shipment_transaction_type': 'Wholesale', 'package_id': '622839', 'package_label': '1A40A030000025A000013437', 'type': 'transfer', 'shipment_package_state': 'Accepted', 'is_testing_sample': False, 'is_trade_sample': False, 'product_category_name': 'Infused (edible)', 'product_name': 'M00000247627: Wicked Sour Watermelon Gummies 5mg 20pk', 'package_lab_results_status': 'passed', 'shipper_wholesale_price': 900.0, 'shipped_quantity': 60.0, 'shipped_unit_of_measure': 'Each', 'received_quantity': 60.0, 'received_unit_of_measure': 'Each', 'item_unit_weight': None, 'item_unit_weight_unit_of_measure_name': None, 'received_date': datetime.date(2020, 6, 29), 'date_to_txs': OrderedDict()}\n",
      "\n",
      "OUTGOING\n",
      "{'package_row_id': '3ca0021b-e90d-4a47-ab9a-13b3230a8c67', 'delivery_type': 'OUTGOING_TO_PAYOR', 'license_number': 'MR281525', 'manifest_number': '0000190301', 'created_date': datetime.date(2020, 7, 28), 'received_datetime': datetime.datetime(2020, 7, 29, 21, 24, 45, tzinfo=<UTC>), 'shipper_facility_license_number': 'MR281525', 'shipper_facility_name': 'Boston Bud Factory Inc.', 'recipient_facility_license_number': 'MP281303', 'recipient_facility_name': 'SIRA NATURALS, INC.', 'shipment_type_name': 'Unaffiliated Transfer', 'shipment_transaction_type': 'Wholesale', 'package_id': '622839', 'package_label': '1A40A030000025A000013437', 'type': 'transfer', 'shipment_package_state': 'Accepted', 'is_testing_sample': False, 'is_trade_sample': False, 'product_category_name': 'Infused (edible)', 'product_name': 'M00000247627: Wicked Sour Watermelon Gummies 5mg 20pk', 'package_lab_results_status': 'passed', 'shipper_wholesale_price': 1.0, 'shipped_quantity': 60.0, 'shipped_unit_of_measure': 'Each', 'received_quantity': 60.0, 'received_unit_of_measure': 'Each', 'item_unit_weight': None, 'item_unit_weight_unit_of_measure_name': None, 'received_date': datetime.date(2020, 7, 29), 'date_to_txs': OrderedDict()}\n",
      "\n",
      "\n",
      "Package 622839 arrived on 06/29/2020 with quantity 60 and price $900.0.\n",
      "\n",
      "Package 622839 is outgoing on 07/29/2020 with quantity 60\n",
      "\n",
      "Package 622839 arrived on 08/04/2020 with quantity 60 and price $0.01.\n",
      "Package 622839 sold on 08/04/2020 1.0 (Each) for $40.0\n",
      "Package 622839 sold on 08/08/2020 1.0 (Each) for $40.0\n",
      "Package 622839 sold on 08/13/2020 1.0 (Each) for $40.0\n",
      "Package 622839 sold on 08/13/2020 1.0 (Each) for $16.5\n",
      "Package 622839 sold on 08/18/2020 1.0 (Each) for $16.5\n",
      "Package 622839 sold on 08/21/2020 1.0 (Each) for $16.5\n",
      "Package 622839 sold on 08/22/2020 1.0 (Each) for $40.0\n",
      "Package 622839 sold on 09/02/2020 1.0 (Each) for $40.0\n",
      "Package 622839 sold on 09/03/2020 1.0 (Each) for $40.0\n",
      "Package 622839 sold on 09/15/2020 1.0 (Each) for $40.0\n",
      "Package 622839 sold on 09/16/2020 1.0 (Each) for $40.0\n",
      "Package 622839 sold on 09/16/2020 1.0 (Each) for $40.0\n",
      "Package 622839 sold on 09/17/2020 1.0 (Each) for $40.0\n",
      "Package 622839 sold on 09/25/2020 1.0 (Each) for $40.0\n",
      "Package 622839 sold on 09/25/2020 1.0 (Each) for $40.0\n",
      "Package 622839 sold on 09/26/2020 1.0 (Each) for $40.0\n",
      "Package 622839 sold on 09/27/2020 3.0 (Each) for $120.0\n",
      "Package 622839 sold on 09/28/2020 1.0 (Each) for $40.0\n",
      "Package 622839 sold on 09/29/2020 1.0 (Each) for $40.0\n",
      "Package 622839 sold on 09/30/2020 1.0 (Each) for $40.0\n",
      "Package 622839 sold on 10/01/2020 2.0 (Each) for $80.0\n",
      "Package 622839 sold on 10/02/2020 2.0 (Each) for $80.0\n",
      "Package 622839 sold on 10/03/2020 1.0 (Each) for $40.0\n",
      "Package 622839 sold on 10/03/2020 1.0 (Each) for $40.0\n",
      "Package 622839 sold on 10/08/2020 1.0 (Each) for $40.0\n",
      "Package 622839 sold on 10/09/2020 1.0 (Each) for $40.0\n",
      "Package 622839 sold on 10/10/2020 1.0 (Each) for $40.0\n",
      "Package 622839 sold on 10/14/2020 1.0 (Each) for $40.0\n",
      "Package 622839 sold on 10/16/2020 1.0 (Each) for $40.0\n",
      "Package 622839 sold on 10/19/2020 1.0 (Each) for $40.0\n",
      "Package 622839 sold on 10/22/2020 1.0 (Each) for $40.0\n",
      "Package 622839 has a remaining quantity of 25.0\n"
     ]
    }
   ],
   "source": [
    "# For debugging individual package histories\n",
    "# You have to run the above block to reload the package_id_to_history array\n",
    "\n",
    "import importlib\n",
    "importlib.reload(util)\n",
    "\n",
    "# Missing transactions?\n",
    "# 5189649\n",
    "\n",
    "# Using grams or missing transactions?\n",
    "#WARN: seeing an incoming package for #19083030 with no received_datetime\n",
    "#WARN: seeing an incoming package for #19087962 with no received_datetime\n",
    "#WARN: seeing an incoming package for #19083120 with no received_datetime\n",
    "#WARN: seeing an incoming package for #19083028 with no received_datetime\n",
    "#Exception: FATAL error, could not find a transfer to insert a tx with date\n",
    "#2021-10-22 11:58:45+00:00 into for package 18218608\n",
    "\n",
    "PACKAGE_IDS = [\n",
    "    '622839'\n",
    "]\n",
    "\n",
    "util.analyze_specific_package_histories(\n",
    "    d, package_id_to_actual_row, PACKAGE_IDS, params=ANALYSIS_PARAMS)"
   ]
  },
  {
   "cell_type": "code",
   "execution_count": 291,
   "id": "62e6af4a-8e8f-4321-8cfa-ee4353442b50",
   "metadata": {
    "tags": []
   },
   "outputs": [
    {
     "name": "stdout",
     "output_type": "stream",
     "text": [
      "Pct of # inventory matching: 90.92% (2052 / 2257)\n",
      "Accuracy of quantities: 98.91%\n",
      "Pct of # inventory packages over-estimated: 2.61%\n",
      "Pct of # quantity over-estimated: 0.04%\n",
      "Avg quantity delta: 0.13\n",
      "Avg quantity: 11.81\n",
      "\n",
      "Num matching packages: 2052\n",
      "Num actual packages not computed: 205\n",
      "  but computed at some point: 0, e.g., 0.00% of non-computed packages\n",
      "  avg quantity from actual packages 0.00\n",
      "Num computed packages not in actual: 59\n",
      "  but in actual inventory at some point: 19\n",
      "\n",
      "Computed has these extra package IDs; first 10\n",
      "4465593; computed quantity 185\n",
      "15863661; computed quantity 71\n",
      "3987073; computed quantity 65\n",
      "9804525; computed quantity 64\n",
      "17539625; computed quantity 52\n",
      "17539602; computed quantity 52\n",
      "17539609; computed quantity 52\n",
      "17539613; computed quantity 52\n",
      "17539620; computed quantity 52\n",
      "9804668; computed quantity 50\n",
      "4426074; computed quantity 46\n",
      "\n",
      "Computed is missing these package IDs; first 10\n",
      "18733266; quantity: 95.0\n",
      "18978158; quantity: 92.0\n",
      "18733189; quantity: 77.0\n",
      "18673122; quantity: 73.0\n",
      "18420668; quantity: 72.0\n",
      "18338589; quantity: 65.0\n",
      "18814301; quantity: 64.0\n",
      "19060081; quantity: 64.0\n",
      "18254738; quantity: 61.0\n",
      "18346532; quantity: 60.0\n",
      "18254739; quantity: 55.0\n"
     ]
    }
   ],
   "source": [
    "import importlib\n",
    "importlib.reload(util)\n",
    "\n",
    "res = util.compare_inventory_dataframes(\n",
    "    computed=date_to_inventory_packages_dataframe[TODAY_DATE],\n",
    "    actual=from_packages_inventory_dataframe,\n",
    "    options={\n",
    "        'num_errors_to_show': 10,\n",
    "        'accept_computed_when_sold_out': True\n",
    "    }\n",
    ")\n",
    "\n",
    "# Two categories for: Num actual packages not computed: 229\n",
    "# 1. Actual has a package that we've never seen\n",
    "# 2. Actual has a package that we've sold out of, and that's why it's in the inventory\n",
    "\n",
    "# Two categories for: Num computed packages not in actual: 237\n",
    "# 1. We never saw the package in the actual inventory\n",
    "# 2. Actual inventory is sold out, but we think it's not sold out in computed"
   ]
  },
  {
   "cell_type": "code",
   "execution_count": 270,
   "id": "3a8844de-f684-4aca-a769-a90366b58d20",
   "metadata": {},
   "outputs": [
    {
     "data": {
      "text/html": [
       "<div>\n",
       "<style scoped>\n",
       "    .dataframe tbody tr th:only-of-type {\n",
       "        vertical-align: middle;\n",
       "    }\n",
       "\n",
       "    .dataframe tbody tr th {\n",
       "        vertical-align: top;\n",
       "    }\n",
       "\n",
       "    .dataframe thead th {\n",
       "        text-align: right;\n",
       "    }\n",
       "</style>\n",
       "<table border=\"1\" class=\"dataframe\">\n",
       "  <thead>\n",
       "    <tr style=\"text-align: right;\">\n",
       "      <th></th>\n",
       "      <th>identifier</th>\n",
       "      <th>license_number</th>\n",
       "      <th>type</th>\n",
       "      <th>package_id</th>\n",
       "      <th>package_label</th>\n",
       "      <th>product_category_name</th>\n",
       "      <th>product_name</th>\n",
       "      <th>archiveddate</th>\n",
       "      <th>finisheddate</th>\n",
       "      <th>quantity</th>\n",
       "    </tr>\n",
       "  </thead>\n",
       "  <tbody>\n",
       "    <tr>\n",
       "      <th>0</th>\n",
       "      <td>HPCC</td>\n",
       "      <td>C10-0000064-LIC</td>\n",
       "      <td>inactive</td>\n",
       "      <td>766095</td>\n",
       "      <td>1A406030000339D000000028</td>\n",
       "      <td>Leaf</td>\n",
       "      <td>wedding crasher trim</td>\n",
       "      <td>None</td>\n",
       "      <td>2020-02-22</td>\n",
       "      <td>0.0</td>\n",
       "    </tr>\n",
       "  </tbody>\n",
       "</table>\n",
       "</div>"
      ],
      "text/plain": [
       "  identifier   license_number      type package_id             package_label  \\\n",
       "0       HPCC  C10-0000064-LIC  inactive     766095  1A406030000339D000000028   \n",
       "\n",
       "  product_category_name          product_name archiveddate finisheddate  \\\n",
       "0                  Leaf  wedding crasher trim         None   2020-02-22   \n",
       "\n",
       "   quantity  \n",
       "0       0.0  "
      ]
     },
     "execution_count": 270,
     "metadata": {},
     "output_type": "execute_result"
    }
   ],
   "source": [
    "inactive_packages_df = pandas.read_sql_query(\n",
    "    util.are_packages_inactive_query(['766095']),\n",
    "    engine\n",
    ")\n",
    "inactive_packages_df"
   ]
  },
  {
   "cell_type": "code",
   "execution_count": null,
   "id": "e113b6eb-5fdb-4678-aef0-ada64e52e10d",
   "metadata": {},
   "outputs": [],
   "source": []
  },
  {
   "cell_type": "code",
   "execution_count": 273,
   "id": "b49d76a3-de1b-4803-8dc1-665aec186020",
   "metadata": {},
   "outputs": [
    {
     "data": {
      "text/html": [
       "<div>\n",
       "<style scoped>\n",
       "    .dataframe tbody tr th:only-of-type {\n",
       "        vertical-align: middle;\n",
       "    }\n",
       "\n",
       "    .dataframe tbody tr th {\n",
       "        vertical-align: top;\n",
       "    }\n",
       "\n",
       "    .dataframe thead th {\n",
       "        text-align: right;\n",
       "    }\n",
       "</style>\n",
       "<table border=\"1\" class=\"dataframe\">\n",
       "  <thead>\n",
       "    <tr style=\"text-align: right;\">\n",
       "      <th></th>\n",
       "      <th>identifier</th>\n",
       "      <th>delivery_type</th>\n",
       "      <th>updated_at</th>\n",
       "      <th>package_id</th>\n",
       "      <th>package_label</th>\n",
       "      <th>shipped_quantity</th>\n",
       "      <th>shipper_wholesale_price</th>\n",
       "      <th>shipper_facility_name</th>\n",
       "      <th>shipper_facility_license_number</th>\n",
       "      <th>recipient_facility_name</th>\n",
       "      <th>recipient_facility_license_number</th>\n",
       "    </tr>\n",
       "  </thead>\n",
       "  <tbody>\n",
       "    <tr>\n",
       "      <th>0</th>\n",
       "      <td>HPCC</td>\n",
       "      <td>INCOMING_UNKNOWN</td>\n",
       "      <td>2021-09-19 01:10:07.977000+00:00</td>\n",
       "      <td>766095</td>\n",
       "      <td>1A406030000339D000000028</td>\n",
       "      <td>7500.0</td>\n",
       "      <td>900.0</td>\n",
       "      <td>GREEN SPECTRUM TRADING, INC.</td>\n",
       "      <td>C11-0000760-LIC</td>\n",
       "      <td>HUENEME PATIENT CONSUMER COLLECTIVE, LLC.</td>\n",
       "      <td>C10-0000064-LIC</td>\n",
       "    </tr>\n",
       "  </tbody>\n",
       "</table>\n",
       "</div>"
      ],
      "text/plain": [
       "  identifier     delivery_type                       updated_at package_id  \\\n",
       "0       HPCC  INCOMING_UNKNOWN 2021-09-19 01:10:07.977000+00:00     766095   \n",
       "\n",
       "              package_label  shipped_quantity  shipper_wholesale_price  \\\n",
       "0  1A406030000339D000000028            7500.0                    900.0   \n",
       "\n",
       "          shipper_facility_name shipper_facility_license_number  \\\n",
       "0  GREEN SPECTRUM TRADING, INC.                 C11-0000760-LIC   \n",
       "\n",
       "                     recipient_facility_name recipient_facility_license_number  \n",
       "0  HUENEME PATIENT CONSUMER COLLECTIVE, LLC.                   C10-0000064-LIC  "
      ]
     },
     "execution_count": 273,
     "metadata": {},
     "output_type": "execute_result"
    }
   ],
   "source": [
    "# Find transfer packages in data warehouse by package_id.\n",
    "\n",
    "def create_transfer_packages_by_package_id_query(package_id):\n",
    "    return f\"\"\"\n",
    "        select\n",
    "            companies.identifier,\n",
    "            company_deliveries.delivery_type,\n",
    "            company_deliveries.updated_at,\n",
    "            metrc_transfer_packages.package_id,\n",
    "            metrc_transfer_packages.package_label,\n",
    "            metrc_transfer_packages.shipped_quantity,\n",
    "            metrc_transfer_packages.shipper_wholesale_price,\n",
    "            metrc_transfers.shipper_facility_name,\n",
    "            metrc_transfers.shipper_facility_license_number,\n",
    "            metrc_deliveries.recipient_facility_name,\n",
    "            metrc_deliveries.recipient_facility_license_number\n",
    "        from\n",
    "            metrc_transfer_packages\n",
    "            inner join metrc_deliveries on metrc_transfer_packages.delivery_row_id = metrc_deliveries.id\n",
    "            inner join metrc_transfers on metrc_deliveries.transfer_row_id = metrc_transfers.id\n",
    "            inner join company_deliveries on metrc_transfers.id = company_deliveries.transfer_row_id\n",
    "            inner join companies on company_deliveries.company_id = companies.id\n",
    "        where\n",
    "            True\n",
    "            and metrc_transfer_packages.package_id = '{package_id}'\n",
    "    \"\"\"\n",
    "\n",
    "transfer_packages_by_package_id_query = create_transfer_packages_by_package_id_query(\n",
    "    766095)\n",
    "transfer_packages_by_package_id_dataframe = pandas.read_sql_query(transfer_packages_by_package_id_query, engine)\n",
    "transfer_packages_by_package_id_dataframe"
   ]
  },
  {
   "cell_type": "code",
   "execution_count": 18,
   "id": "ed3893b4-fa29-49de-84da-ea10a6ae15a5",
   "metadata": {},
   "outputs": [
    {
     "data": {
      "text/html": [
       "<div>\n",
       "<style scoped>\n",
       "    .dataframe tbody tr th:only-of-type {\n",
       "        vertical-align: middle;\n",
       "    }\n",
       "\n",
       "    .dataframe tbody tr th {\n",
       "        vertical-align: top;\n",
       "    }\n",
       "\n",
       "    .dataframe thead th {\n",
       "        text-align: right;\n",
       "    }\n",
       "</style>\n",
       "<table border=\"1\" class=\"dataframe\">\n",
       "  <thead>\n",
       "    <tr style=\"text-align: right;\">\n",
       "      <th></th>\n",
       "      <th>identifier</th>\n",
       "      <th>package_id</th>\n",
       "      <th>package_label</th>\n",
       "      <th>quantity</th>\n",
       "    </tr>\n",
       "  </thead>\n",
       "  <tbody>\n",
       "    <tr>\n",
       "      <th>0</th>\n",
       "      <td>RA</td>\n",
       "      <td>17481729</td>\n",
       "      <td>1A4060300003BC9000058384</td>\n",
       "      <td>1.0</td>\n",
       "    </tr>\n",
       "  </tbody>\n",
       "</table>\n",
       "</div>"
      ],
      "text/plain": [
       "  identifier package_id             package_label  quantity\n",
       "0         RA   17481729  1A4060300003BC9000058384       1.0"
      ]
     },
     "execution_count": 18,
     "metadata": {},
     "output_type": "execute_result"
    }
   ],
   "source": [
    "# Find packages in data warehouse by package_id.\n",
    "\n",
    "def create_packages_by_package_id_query(package_id):\n",
    "    return f\"\"\"\n",
    "        select\n",
    "            companies.identifier,\n",
    "            metrc_packages.package_id,\n",
    "            metrc_packages.package_label,\n",
    "            metrc_packages.quantity\n",
    "        from\n",
    "            metrc_packages\n",
    "            inner join companies on metrc_packages.company_id = companies.id\n",
    "        where\n",
    "            True\n",
    "            and metrc_packages.package_id = '{package_id}'\n",
    "    \"\"\"\n",
    "\n",
    "packages_by_package_id_query = create_packages_by_package_id_query(17481729)\n",
    "packages_by_package_id_dataframe = pandas.read_sql_query(packages_by_package_id_query, engine)\n",
    "packages_by_package_id_dataframe"
   ]
  },
  {
   "cell_type": "code",
   "execution_count": 33,
   "id": "57fff6ae-4e9e-4b40-9a2e-b9c032737e96",
   "metadata": {
    "tags": []
   },
   "outputs": [
    {
     "name": "stdout",
     "output_type": "stream",
     "text": [
      "\n",
      "Package 5751573 arrived on 07/13/2020 with quantity 280 and price $350.0. {'package_row_id': '4544aa24-1a3d-494b-b312-de17db773e79', 'delivery_type': 'INCOMING_FROM_VENDOR', 'license_number': 'C10-0000596-LIC', 'manifest_number': '0000767939', 'created_date': datetime.date(2020, 7, 13), 'received_datetime': Timestamp('2020-07-15 00:56:06+0000', tz='UTC'), 'shipper_facility_license_number': 'C11-0000349-LIC', 'shipper_facility_name': 'MISSION HILLS PATIENTS COLLECTIVE', 'recipient_facility_license_number': 'C10-0000596-LIC', 'recipient_facility_name': 'ROYAL APOTHECARY L.L.C.', 'shipment_type_name': 'Wholesale Manifest', 'shipment_transaction_type': 'Wholesale', 'package_id': '5751573', 'package_label': '1A4060300003D59000009129', 'type': 'transfer_incoming', 'shipment_package_state': 'Accepted', 'is_testing_sample': False, 'is_trade_sample': False, 'product_category_name': 'Flower', 'product_name': 'Rich & Ruthless - CPT Kush Ride (28 GM Flower - SMS) (#112-CPTK-YF0420) #1884', 'package_lab_results_status': 'passed', 'shipper_wholesale_price': 350.0, 'shipped_quantity': 280.0, 'shipped_unit_of_measure': 'Grams', 'received_quantity': 280.0, 'received_unit_of_measure': 'Grams', 'item_unit_weight': nan, 'item_unit_weight_unit_of_measure_name': None}\n",
      "Package 5751573 sold on 07/18/2020 28.0 (Grams) for $62.55\n",
      "Package 5751573 sold on 07/18/2020 28.0 (Grams) for $62.55\n",
      "Package 5751573 sold on 07/18/2020 28.0 (Grams) for $62.55\n",
      "Package 5751573 sold on 07/21/2020 28.0 (Grams) for $70.55\n",
      "Package 5751573 sold on 07/22/2020 28.0 (Grams) for $70.55\n",
      "Package 5751573 sold on 07/24/2020 28.0 (Grams) for $80.0\n",
      "Package 5751573 sold on 08/01/2020 28.0 (Grams) for $80.0\n",
      "Package 5751573 sold on 08/14/2020 28.0 (Grams) for $80.0\n",
      "Package 5751573 sold on 08/29/2020 28.0 (Grams) for $68.0\n",
      "Package 5751573 sold on 09/01/2020 28.0 (Grams) for $68.0\n",
      "Package 5751573 marked as SOLD since it is more than 100.0% sold\n",
      "Package 5751573 took 50 days to sell with profit margin 50.34%\n",
      "Package 5751573 sold on 09/25/2020 28.0 (Grams) for $72.0\n",
      "Package 5751573 took 50 days to sell with profit margin 54.94%\n",
      "Package 5751573 has a remaining quantity of -28.0\n"
     ]
    }
   ],
   "source": []
  },
  {
   "cell_type": "code",
   "execution_count": 61,
   "id": "3f0852b3-815e-497c-950e-7490beb95cda",
   "metadata": {},
   "outputs": [],
   "source": [
    "from bespoke.metrc.common import metrc_common_util\n",
    "\n",
    "rest = metrc_common_util.get_rest_helper_for_debug(\n",
    "    us_state='CA',\n",
    "    license_number='C10-0000596-LIC'\n",
    ")"
   ]
  },
  {
   "cell_type": "code",
   "execution_count": 62,
   "id": "543e3c37-b0a8-493d-a265-b05462601b14",
   "metadata": {},
   "outputs": [],
   "source": [
    "resp = rest.get('/sales/v1/receipts/36748697')"
   ]
  },
  {
   "cell_type": "code",
   "execution_count": 66,
   "id": "a7c4e2e6-5594-401c-aef3-e9600559586e",
   "metadata": {},
   "outputs": [
    {
     "data": {
      "text/plain": [
       "{'Id': 36748697,\n",
       " 'ReceiptNumber': '0036748697',\n",
       " 'SalesDateTime': '2020-07-18T15:48:25.790',\n",
       " 'SalesCustomerType': 'Consumer',\n",
       " 'PatientLicenseNumber': '',\n",
       " 'CaregiverLicenseNumber': '',\n",
       " 'IdentificationMethod': '',\n",
       " 'TotalPackages': 1,\n",
       " 'TotalPrice': 62.55,\n",
       " 'Transactions': [{'PackageId': 5751573,\n",
       "   'PackageLabel': '1A4060300003D59000009129',\n",
       "   'ProductName': 'Rich & Ruthless - CPT Kush Ride (28 GM Flower - SMS) (#112-CPTK-YF0420) #1884',\n",
       "   'ProductCategoryName': 'Flower',\n",
       "   'ItemStrainName': 'CPT Kush Ride',\n",
       "   'ItemUnitCbdPercent': None,\n",
       "   'ItemUnitCbdContent': None,\n",
       "   'ItemUnitCbdContentUnitOfMeasureName': None,\n",
       "   'ItemUnitCbdContentDose': None,\n",
       "   'ItemUnitCbdContentDoseUnitOfMeasureName': None,\n",
       "   'ItemUnitThcPercent': None,\n",
       "   'ItemUnitThcContent': None,\n",
       "   'ItemUnitThcContentUnitOfMeasureName': None,\n",
       "   'ItemUnitThcContentDose': None,\n",
       "   'ItemUnitThcContentDoseUnitOfMeasureName': None,\n",
       "   'ItemUnitVolume': None,\n",
       "   'ItemUnitVolumeUnitOfMeasureName': None,\n",
       "   'ItemUnitWeight': None,\n",
       "   'ItemUnitWeightUnitOfMeasureName': None,\n",
       "   'ItemServingSize': '',\n",
       "   'ItemSupplyDurationDays': None,\n",
       "   'ItemUnitQuantity': None,\n",
       "   'ItemUnitQuantityUnitOfMeasureName': None,\n",
       "   'QuantitySold': 28.0,\n",
       "   'UnitOfMeasureName': 'Grams',\n",
       "   'UnitOfMeasureAbbreviation': 'g',\n",
       "   'TotalPrice': 62.55,\n",
       "   'SalesDeliveryState': None,\n",
       "   'ArchivedDate': None,\n",
       "   'RecordedDateTime': '0001-01-01T00:00:00+00:00',\n",
       "   'RecordedByUserName': None,\n",
       "   'LastModified': '2020-07-18T22:48:27+00:00'}],\n",
       " 'IsFinal': False,\n",
       " 'ArchivedDate': None,\n",
       " 'RecordedDateTime': '2020-07-18T22:48:27+00:00',\n",
       " 'RecordedByUserName': 'Jason Lee',\n",
       " 'LastModified': '2020-07-18T22:48:27+00:00'}"
      ]
     },
     "execution_count": 66,
     "metadata": {},
     "output_type": "execute_result"
    }
   ],
   "source": [
    "json.loads(resp.content)"
   ]
  },
  {
   "cell_type": "code",
   "execution_count": 69,
   "id": "ef1888bb-b83e-4b68-8716-4eb9926d395e",
   "metadata": {},
   "outputs": [],
   "source": [
    "resp2 = rest.get('/sales/v1/receipts/36803933')"
   ]
  },
  {
   "cell_type": "code",
   "execution_count": 70,
   "id": "183f7efe-f844-4113-85b4-ed8782197ed6",
   "metadata": {},
   "outputs": [
    {
     "data": {
      "text/plain": [
       "{'Id': 36803933,\n",
       " 'ReceiptNumber': '0036803933',\n",
       " 'SalesDateTime': '2020-07-18T19:24:11.890',\n",
       " 'SalesCustomerType': 'Consumer',\n",
       " 'PatientLicenseNumber': '',\n",
       " 'CaregiverLicenseNumber': '',\n",
       " 'IdentificationMethod': '',\n",
       " 'TotalPackages': 1,\n",
       " 'TotalPrice': 62.55,\n",
       " 'Transactions': [{'PackageId': 5751573,\n",
       "   'PackageLabel': '1A4060300003D59000009129',\n",
       "   'ProductName': 'Rich & Ruthless - CPT Kush Ride (28 GM Flower - SMS) (#112-CPTK-YF0420) #1884',\n",
       "   'ProductCategoryName': 'Flower',\n",
       "   'ItemStrainName': 'CPT Kush Ride',\n",
       "   'ItemUnitCbdPercent': None,\n",
       "   'ItemUnitCbdContent': None,\n",
       "   'ItemUnitCbdContentUnitOfMeasureName': None,\n",
       "   'ItemUnitCbdContentDose': None,\n",
       "   'ItemUnitCbdContentDoseUnitOfMeasureName': None,\n",
       "   'ItemUnitThcPercent': None,\n",
       "   'ItemUnitThcContent': None,\n",
       "   'ItemUnitThcContentUnitOfMeasureName': None,\n",
       "   'ItemUnitThcContentDose': None,\n",
       "   'ItemUnitThcContentDoseUnitOfMeasureName': None,\n",
       "   'ItemUnitVolume': None,\n",
       "   'ItemUnitVolumeUnitOfMeasureName': None,\n",
       "   'ItemUnitWeight': None,\n",
       "   'ItemUnitWeightUnitOfMeasureName': None,\n",
       "   'ItemServingSize': '',\n",
       "   'ItemSupplyDurationDays': None,\n",
       "   'ItemUnitQuantity': None,\n",
       "   'ItemUnitQuantityUnitOfMeasureName': None,\n",
       "   'QuantitySold': 28.0,\n",
       "   'UnitOfMeasureName': 'Grams',\n",
       "   'UnitOfMeasureAbbreviation': 'g',\n",
       "   'TotalPrice': 62.55,\n",
       "   'SalesDeliveryState': None,\n",
       "   'ArchivedDate': None,\n",
       "   'RecordedDateTime': '0001-01-01T00:00:00+00:00',\n",
       "   'RecordedByUserName': None,\n",
       "   'LastModified': '2020-07-19T02:24:14+00:00'}],\n",
       " 'IsFinal': False,\n",
       " 'ArchivedDate': None,\n",
       " 'RecordedDateTime': '2020-07-19T02:24:14+00:00',\n",
       " 'RecordedByUserName': 'Jason Lee',\n",
       " 'LastModified': '2020-07-19T02:24:14+00:00'}"
      ]
     },
     "execution_count": 70,
     "metadata": {},
     "output_type": "execute_result"
    }
   ],
   "source": [
    "json.loads(resp2.content)"
   ]
  },
  {
   "cell_type": "code",
   "execution_count": null,
   "id": "09b26d1f-0763-4ce4-a368-95d9a6d3a03e",
   "metadata": {},
   "outputs": [],
   "source": []
  }
 ],
 "metadata": {
  "kernelspec": {
   "display_name": "Python 3",
   "language": "python",
   "name": "python3"
  },
  "language_info": {
   "codemirror_mode": {
    "name": "ipython",
    "version": 3
   },
   "file_extension": ".py",
   "mimetype": "text/x-python",
   "name": "python",
   "nbconvert_exporter": "python",
   "pygments_lexer": "ipython3",
   "version": "3.7.7"
  }
 },
 "nbformat": 4,
 "nbformat_minor": 5
}
