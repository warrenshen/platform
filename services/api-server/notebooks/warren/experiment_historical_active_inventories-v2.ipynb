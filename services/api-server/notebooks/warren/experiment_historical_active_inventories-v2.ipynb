{
 "cells": [
  {
   "cell_type": "code",
   "execution_count": 691,
   "id": "170c442e-f0fb-4421-a3bf-5f87863f8277",
   "metadata": {},
   "outputs": [],
   "source": [
    "import json\n",
    "import os\n",
    "import numpy\n",
    "import pandas\n",
    "import pyarrow\n",
    "import sys\n",
    "\n",
    "from datetime import date\n",
    "from os import path\n",
    "from dotenv import load_dotenv\n",
    "from sqlalchemy import create_engine\n",
    "\n",
    "# Steps to install\n",
    "# 1. pip install sqlalchemy-bigquery google-cloud-bigquery-storage pyarrow\n",
    "# 2. Copy the credentials file to wherever you set BIGQUERY_CREDENTIALS_PATH to\n",
    "\n",
    "load_dotenv(verbose=True)\n",
    "BIGQUERY_CREDENTIALS_PATH = os.environ.get('BIGQUERY_CREDENTIALS_PATH')"
   ]
  },
  {
   "cell_type": "code",
   "execution_count": 692,
   "id": "38f9a288-03bc-43c5-82f8-a7c5a55f7286",
   "metadata": {},
   "outputs": [
    {
     "name": "stdout",
     "output_type": "stream",
     "text": [
      "The autoreload extension is already loaded. To reload it, use:\n",
      "  %reload_ext autoreload\n"
     ]
    }
   ],
   "source": [
    "sys.path.append(path.realpath(path.join(os.getcwd(), \"../../src\")))\n",
    "\n",
    "from bespoke.inventory.analysis.shared import create_queries\n",
    "%load_ext autoreload\n",
    "%autoreload 2"
   ]
  },
  {
   "cell_type": "code",
   "execution_count": 755,
   "id": "fbfe06bc-cc79-41cc-814e-1d2166177496",
   "metadata": {},
   "outputs": [
    {
     "name": "stdout",
     "output_type": "stream",
     "text": [
      "Today is 11/09/2021\n"
     ]
    }
   ],
   "source": [
    "COMPANY_NAME = 'BBF'\n",
    "COMPANY_IDENTIFIER = 'BBF'\n",
    "TRANSFER_PACKAGES_START_DATE = '2019-01-01'\n",
    "SALES_TRANSACTIONS_START_DATE = '2019-01-01'\n",
    "INVENTORY_DATES = [\n",
    "    '09/30/2020',\n",
    "    '10/31/2020',\n",
    "    '11/30/2020',\n",
    "    '12/31/2020',\n",
    "    '01/31/2021',\n",
    "    '02/28/2021',\n",
    "    '03/31/2021',\n",
    "    '04/30/2021',\n",
    "    '05/31/2021',\n",
    "    '06/30/2021',\n",
    "    '07/31/2021',\n",
    "    '08/31/2021',\n",
    "    '09/30/2021',\n",
    "]\n",
    "\n",
    "# NOTE: I overwrote the Shake/Trim numbers because\n",
    "# they didn't seem right, and used the Shake / Trim (by strain)\n",
    "# numbers.\n",
    "company_pricing_table = {\n",
    "    'Buds': {'Grams': 3.21, 'Pounds': 1750.48}, \n",
    "    'Concentrate': {'Grams': 32.92, 'Pounds': 14931.64}, \n",
    "    'Concentrate (Each)': {'Each': 9.41}, \n",
    "    'Infused (edible)': {'Each': 5.38}, \n",
    "    'Infused (non-edible)': {'Each': 36.37}, \n",
    "    'Infused Beverage': {'Each': 2.5}, \n",
    "    'Raw Pre-Rolls': {'Grams': 5.86, 'Pounds': 2657.77}, \n",
    "    'Shake/Trim': {'Grams': 0.4, 'Pounds': 182.19}, \n",
    "    'Shake/Trim (by strain)': {'Grams': 0.4, 'Pounds': 182.19}, \n",
    "    'Vape Product': {'Each': 11.24}, \n",
    "    'Concentrate (Bulk)': {'Grams': 32.92, 'Pounds': 14931.64}\n",
    "}\n",
    "ANALYSIS_PARAMS = {\n",
    "    'sold_threshold': 1.0,\n",
    "    'find_parent_child_relationships': False,\n",
    "    'use_prices_to_fill_missing_incoming': True,\n",
    "    'external_pricing_data_config': {\n",
    "        'category_to_fixed_prices': company_pricing_table\n",
    "    }\n",
    "}\n",
    "TODAY_DATE = date.today().strftime('%m/%d/%Y')\n",
    "INVENTORY_DATES.append(TODAY_DATE)\n",
    "print('Today is {}'.format(TODAY_DATE))"
   ]
  },
  {
   "cell_type": "code",
   "execution_count": 643,
   "id": "d9eccd84-a327-4299-8876-456c6c9f574c",
   "metadata": {},
   "outputs": [],
   "source": [
    "# Download packages, sales transactions, incoming / outgoing tranfers\n",
    "\n",
    "company_incoming_transfer_packages_query = create_queries.create_company_incoming_transfer_packages_query(COMPANY_IDENTIFIER, TRANSFER_PACKAGES_START_DATE)\n",
    "company_outgoing_transfer_packages_query = create_queries.create_company_outgoing_transfer_packages_query(COMPANY_IDENTIFIER, TRANSFER_PACKAGES_START_DATE)\n",
    "company_sales_transactions_query = create_queries.create_company_sales_transactions_query(COMPANY_IDENTIFIER, SALES_TRANSACTIONS_START_DATE)\n",
    "company_sales_receipts_query = create_queries.create_company_sales_receipts_query(COMPANY_IDENTIFIER, SALES_TRANSACTIONS_START_DATE)\n",
    "company_inventory_packages_query = create_queries.create_company_inventory_packages_query(\n",
    "    COMPANY_IDENTIFIER, include_quantity_zero=True)\n",
    "\n",
    "engine = create_engine('bigquery://bespoke-financial/ProdMetrcData', credentials_path=os.path.expanduser(BIGQUERY_CREDENTIALS_PATH))\n",
    "company_incoming_transfer_packages_dataframe = pandas.read_sql_query(company_incoming_transfer_packages_query, engine)\n",
    "company_outgoing_transfer_packages_dataframe = pandas.read_sql_query(company_outgoing_transfer_packages_query, engine)\n",
    "company_sales_transactions_dataframe = pandas.read_sql_query(company_sales_transactions_query, engine)\n",
    "company_sales_receipts_dataframe = pandas.read_sql_query(company_sales_receipts_query, engine)\n",
    "company_inventory_packages_dataframe = pandas.read_sql_query(company_inventory_packages_query, engine)"
   ]
  },
  {
   "cell_type": "code",
   "execution_count": 644,
   "id": "b6d72201-f200-439a-832e-610e06d5729d",
   "metadata": {},
   "outputs": [
    {
     "data": {
      "text/plain": [
       "0"
      ]
     },
     "execution_count": 644,
     "metadata": {},
     "output_type": "execute_result"
    }
   ],
   "source": [
    "company_unknown_transfer_packages_query = create_queries.create_company_unknown_transfer_packages_query(COMPANY_IDENTIFIER, TRANSFER_PACKAGES_START_DATE)\n",
    "unknown_transfers_df = pandas.read_sql_query(company_unknown_transfer_packages_query, engine)\n",
    "len(unknown_transfers_df)\n"
   ]
  },
  {
   "cell_type": "code",
   "execution_count": 756,
   "id": "106a034d-fb76-4e8e-bce6-4e3b525b175e",
   "metadata": {},
   "outputs": [
    {
     "data": {
      "text/plain": [
       "<module 'bespoke.inventory.analysis.inventory_valuations_util' from '/Users/davidlluncor/GitHub/platform/services/api-server/src/bespoke/inventory/analysis/inventory_valuations_util.py'>"
      ]
     },
     "execution_count": 756,
     "metadata": {},
     "output_type": "execute_result"
    }
   ],
   "source": [
    "from bespoke.inventory.analysis import active_inventory_util as util\n",
    "from bespoke.inventory.analysis import inventory_valuations_util as valuations_util\n",
    "import importlib\n",
    "\n",
    "importlib.reload(util)\n",
    "importlib.reload(valuations_util)"
   ]
  },
  {
   "cell_type": "code",
   "execution_count": 757,
   "id": "c2af6220-2ebc-4447-a17e-0e3d9f3a7bbd",
   "metadata": {},
   "outputs": [],
   "source": [
    "d = util.Download()\n",
    "sql_helper = util.BigQuerySQLHelper(engine)\n",
    "d.download_dataframes(\n",
    "    incoming_transfer_packages_dataframe=company_incoming_transfer_packages_dataframe,\n",
    "    outgoing_transfer_packages_dataframe=company_outgoing_transfer_packages_dataframe,\n",
    "    sales_transactions_dataframe=company_sales_transactions_dataframe,\n",
    "    sales_receipts_dataframe=company_sales_receipts_dataframe,\n",
    "    inventory_packages_dataframe=company_inventory_packages_dataframe,\n",
    "    sql_helper=sql_helper\n",
    ")"
   ]
  },
  {
   "cell_type": "code",
   "execution_count": 502,
   "id": "f1822c3d-69d7-452a-91b4-040b6f23968c",
   "metadata": {},
   "outputs": [],
   "source": [
    "d.child_to_parent_package_id_override = {\n",
    "}"
   ]
  },
  {
   "cell_type": "code",
   "execution_count": 758,
   "id": "5fbbbfe7-87c0-4409-9e6a-b6dc2b63ce54",
   "metadata": {
    "tags": []
   },
   "outputs": [
    {
     "name": "stdout",
     "output_type": "stream",
     "text": [
      "Only outgoing: 43\n",
      "Only incoming: 184\n",
      "Sold packages missing pricing information: 0 (0.00% of packages)\n",
      "In and out: 25\n",
      "In and sold at least once 746\n",
      "In and sold many times 723\n",
      "\n",
      " Num parent packages: 0\n",
      " num matched child packages: 239\n",
      "Total pkgs: 986\n",
      "Wrote result to out/BBF_inventory_by_month.xls\n",
      "Excluded 43 / 986 packages from consideration (4.36%)\n",
      "  MISSING_INCOMING: 43 times\n"
     ]
    }
   ],
   "source": [
    "importlib.reload(util)\n",
    "importlib.reload(valuations_util)\n",
    "\n",
    "# Check for how many packages are excluded from analysis,\n",
    "# seeing less then 2% is really good\n",
    "q = util.Query()\n",
    "q.inventory_dates = INVENTORY_DATES\n",
    "q.company_name = COMPANY_NAME\n",
    "\n",
    "id_to_history = util.get_histories(d, ANALYSIS_PARAMS)\n",
    "util.print_counts(id_to_history)\n",
    "util.create_inventory_xlsx(id_to_history, q, params=ANALYSIS_PARAMS, \n",
    "                           show_debug_package_ids=False)"
   ]
  },
  {
   "cell_type": "code",
   "execution_count": 740,
   "id": "352a6fbd-34f9-4cd1-8509-38c326bf0e67",
   "metadata": {},
   "outputs": [
    {
     "name": "stdout",
     "output_type": "stream",
     "text": [
      "DEBUGGING PACKAGE_ID=1001679\n",
      "! Missing in metrc_packages\n",
      "Excluding package 1001679 because it doesnt have an incoming package\n",
      "CHILD TO PARENT MATCHING ANALYSIS\n",
      "\n",
      "DEBUGGING PACKAGE_ID=2818227\n",
      "! Missing in metrc_packages\n",
      "Excluding package 2818227 because it doesnt have an incoming package\n",
      "CHILD TO PARENT MATCHING ANALYSIS\n",
      "\n"
     ]
    }
   ],
   "source": [
    "# For debugging individual package histories\n",
    "# You have to run the above block to reload the package_id_to_history array\n",
    "\n",
    "import importlib\n",
    "importlib.reload(util)\n",
    "importlib.reload(valuations_util)\n",
    "\n",
    "# Missing transactions?\n",
    "# 5189649\n",
    "\n",
    "# Using grams or missing transactions?\n",
    "#WARN: seeing an incoming package for #19083030 with no received_datetime\n",
    "#Exception: FATAL error, could not find a transfer to insert a tx with date\n",
    "#2021-10-22 11:58:45+00:00 into for package 18218608\n",
    "\n",
    "# '2818807' - child\n",
    "\n",
    "PACKAGE_IDS = [\n",
    "  '1001679', '2818227'\n",
    "]\n",
    "\n",
    "util.analyze_specific_package_histories(\n",
    "    d, package_id_to_actual_row, PACKAGE_IDS, params=ANALYSIS_PARAMS)"
   ]
  },
  {
   "cell_type": "code",
   "execution_count": 650,
   "id": "da7de22a-df0a-4430-830e-0cf460ea3e03",
   "metadata": {},
   "outputs": [
    {
     "name": "stdout",
     "output_type": "stream",
     "text": [
      "11 - Number of parent packages\n",
      "\n",
      "207 - Child packages with parents\n",
      "32 - orphans; child packages with (no source product batch num)\n",
      "0 - no matching parent; child packages that have a source batch number, but no parent\n"
     ]
    }
   ],
   "source": [
    "util.run_orphan_analysis(d, id_to_history)"
   ]
  },
  {
   "cell_type": "code",
   "execution_count": 759,
   "id": "4de368e2-44ab-4885-86d2-54b989f091f2",
   "metadata": {
    "tags": []
   },
   "outputs": [
    {
     "name": "stdout",
     "output_type": "stream",
     "text": [
      "# packages in inventory: 73\n",
      "# packages in inventory: 80\n",
      "# packages in inventory: 89\n",
      "# packages in inventory: 74\n",
      "# packages in inventory: 107\n",
      "# packages in inventory: 127\n",
      "# packages in inventory: 138\n",
      "# packages in inventory: 159\n",
      "# packages in inventory: 177\n",
      "# packages in inventory: 209\n",
      "# packages in inventory: 189\n",
      "# packages in inventory: 233\n",
      "# packages in inventory: 245\n",
      "# packages in inventory: 252\n"
     ]
    }
   ],
   "source": [
    "import importlib\n",
    "importlib.reload(util)\n",
    "importlib.reload(valuations_util)\n",
    "\n",
    "#INVENTORY_DATES = [TODAY_DATE]\n",
    "\n",
    "date_to_inventory_packages_dataframe = {}\n",
    "\n",
    "id_to_history = util.get_histories(d, ANALYSIS_PARAMS)\n",
    "inventory_valuations = []\n",
    "\n",
    "for inventory_date in INVENTORY_DATES:\n",
    "    computed_inventory_package_records = util.create_inventory_dataframe_by_date(\n",
    "        id_to_history, inventory_date, params=ANALYSIS_PARAMS)    \n",
    "    computed_inventory_packages_dataframe = pandas.DataFrame(\n",
    "        computed_inventory_package_records,\n",
    "        columns=util.get_inventory_column_names()\n",
    "    )\n",
    "    date_to_inventory_packages_dataframe[inventory_date] = computed_inventory_packages_dataframe\n",
    "    inventory_valuations.append(valuations_util.get_total_valuation_for_date(\n",
    "        computed_inventory_packages_dataframe=computed_inventory_packages_dataframe,\n",
    "        company_incoming_transfer_packages_dataframe=company_incoming_transfer_packages_dataframe\n",
    "    ))"
   ]
  },
  {
   "cell_type": "code",
   "execution_count": 760,
   "id": "048bdebf-b1a9-4340-bef0-3171525a4007",
   "metadata": {},
   "outputs": [
    {
     "name": "stdout",
     "output_type": "stream",
     "text": [
      "Wrote result to out/BBF_cogs_summary.xls\n"
     ]
    }
   ],
   "source": [
    "import importlib\n",
    "importlib.reload(util)\n",
    "importlib.reload(valuations_util)\n",
    "\n",
    "# Do the COGS summary too\n",
    "topdown_cogs_rows = util.create_top_down_cogs_summary_for_all_dates(\n",
    "    d, ANALYSIS_PARAMS\n",
    ")\n",
    "\n",
    "bottomsup_cogs_rows = util.create_cogs_summary_for_all_dates(\n",
    "  id_to_history, ANALYSIS_PARAMS\n",
    ")\n",
    "util.write_cogs_xlsx(\n",
    "    topdown_cogs_rows=topdown_cogs_rows, \n",
    "    bottoms_up_cogs_rows=bottomsup_cogs_rows,\n",
    "    company_name=COMPANY_NAME\n",
    ")"
   ]
  },
  {
   "cell_type": "code",
   "execution_count": 761,
   "id": "896c2893-bc7b-4295-84e3-fd4a11632b45",
   "metadata": {},
   "outputs": [],
   "source": [
    "from_packages_inventory_dataframe = company_inventory_packages_dataframe[[\n",
    "    'package_id',\n",
    "    'packaged_date',\n",
    "    'unit_of_measure',\n",
    "    'product_category_name',\n",
    "    'product_name',\n",
    "    'quantity',\n",
    "]].sort_values('package_id')\n",
    "\n",
    "package_id_to_actual_row = {}\n",
    "for index, row in from_packages_inventory_dataframe.iterrows():\n",
    "    package_id_to_actual_row[str(row['package_id'])] = row"
   ]
  },
  {
   "cell_type": "code",
   "execution_count": 762,
   "id": "62e6af4a-8e8f-4321-8cfa-ee4353442b50",
   "metadata": {
    "tags": []
   },
   "outputs": [
    {
     "name": "stdout",
     "output_type": "stream",
     "text": [
      "Pct of # inventory matching: 100.00% (252 / 252)\n",
      "Accuracy of quantities: 95.17%\n",
      "Pct of # inventory packages over-estimated: 0.00%\n",
      "Pct of # quantity over-estimated: 0.00%\n",
      "Avg quantity delta: 7.04\n",
      "Avg quantity: 145.61\n",
      "\n",
      "Num matching packages: 252\n",
      "Num actual packages not computed: 0\n",
      "  but computed at some point: 0, e.g., 0.00% of non-computed packages\n",
      "  avg quantity from actual packages 0.00\n",
      "Num computed packages not in actual: 0\n",
      "  but in actual inventory at some point: 0\n",
      "\n",
      "Computed has these extra package IDs; first 100\n",
      "\n",
      "Computed is missing these package IDs; first 100\n"
     ]
    }
   ],
   "source": [
    "import importlib\n",
    "importlib.reload(util)\n",
    "importlib.reload(valuations_util)\n",
    "\n",
    "res = util.compare_inventory_dataframes(\n",
    "    computed=date_to_inventory_packages_dataframe[TODAY_DATE],\n",
    "    actual=from_packages_inventory_dataframe,\n",
    "    options={\n",
    "        'num_errors_to_show': 100,\n",
    "        'accept_computed_when_sold_out': True\n",
    "    }\n",
    ")\n",
    "\n",
    "# Two categories for: Num actual packages not computed: 229\n",
    "# 1. Actual has a package that we've never seen\n",
    "# 2. Actual has a package that we've sold out of, and that's why it's in the inventory\n",
    "\n",
    "# Two categories for: Num computed packages not in actual: 237\n",
    "# 1. We never saw the package in the actual inventory\n",
    "# 2. Actual inventory is sold out, but we think it's not sold out in computed"
   ]
  },
  {
   "cell_type": "code",
   "execution_count": 636,
   "id": "736d9312-7a2f-4b6f-9a4c-9d0d37c76c8a",
   "metadata": {},
   "outputs": [
    {
     "data": {
      "text/plain": [
       "{'computed_extra_package_ids': set(),\n",
       " 'computed_missing_actual_package_ids': ['2818807',\n",
       "  '2229543',\n",
       "  '2818701',\n",
       "  '2817078',\n",
       "  '2250543',\n",
       "  '2229684',\n",
       "  '2083306',\n",
       "  '2885707',\n",
       "  '1279890',\n",
       "  '2816849',\n",
       "  '2059498',\n",
       "  '1279888',\n",
       "  '1280225',\n",
       "  '1970101',\n",
       "  '1279887']}"
      ]
     },
     "execution_count": 636,
     "metadata": {},
     "output_type": "execute_result"
    }
   ],
   "source": [
    "res"
   ]
  },
  {
   "cell_type": "code",
   "execution_count": 763,
   "id": "6cfd4d4e-ec3f-403a-96bf-31ebcefaa193",
   "metadata": {},
   "outputs": [
    {
     "data": {
      "image/png": "[encoded data removed]",
      "text/plain": [
       "<Figure size 1728x864 with 1 Axes>"
      ]
     },
     "metadata": {
      "needs_background": "light"
     },
     "output_type": "display_data"
    }
   ],
   "source": [
    "import importlib\n",
    "importlib.reload(util)\n",
    "importlib.reload(valuations_util)\n",
    "\n",
    "valuations_util.plot_inventory_and_revenue(\n",
    "    q=q,\n",
    "    sales_receipts_dataframe=d.sales_receipts_dataframe,\n",
    "    inventory_valuations=inventory_valuations\n",
    ")"
   ]
  },
  {
   "cell_type": "code",
   "execution_count": null,
   "id": "35ef5560-5610-49b5-bfa8-67af83a561dc",
   "metadata": {},
   "outputs": [],
   "source": []
  },
  {
   "cell_type": "code",
   "execution_count": 270,
   "id": "3a8844de-f684-4aca-a769-a90366b58d20",
   "metadata": {},
   "outputs": [
    {
     "data": {
      "text/html": [
       "<div>\n",
       "<style scoped>\n",
       "    .dataframe tbody tr th:only-of-type {\n",
       "        vertical-align: middle;\n",
       "    }\n",
       "\n",
       "    .dataframe tbody tr th {\n",
       "        vertical-align: top;\n",
       "    }\n",
       "\n",
       "    .dataframe thead th {\n",
       "        text-align: right;\n",
       "    }\n",
       "</style>\n",
       "<table border=\"1\" class=\"dataframe\">\n",
       "  <thead>\n",
       "    <tr style=\"text-align: right;\">\n",
       "      <th></th>\n",
       "      <th>identifier</th>\n",
       "      <th>license_number</th>\n",
       "      <th>type</th>\n",
       "      <th>package_id</th>\n",
       "      <th>package_label</th>\n",
       "      <th>product_category_name</th>\n",
       "      <th>product_name</th>\n",
       "      <th>archiveddate</th>\n",
       "      <th>finisheddate</th>\n",
       "      <th>quantity</th>\n",
       "    </tr>\n",
       "  </thead>\n",
       "  <tbody>\n",
       "    <tr>\n",
       "      <th>0</th>\n",
       "      <td>HPCC</td>\n",
       "      <td>C10-0000064-LIC</td>\n",
       "      <td>inactive</td>\n",
       "      <td>766095</td>\n",
       "      <td>1A406030000339D000000028</td>\n",
       "      <td>Leaf</td>\n",
       "      <td>wedding crasher trim</td>\n",
       "      <td>None</td>\n",
       "      <td>2020-02-22</td>\n",
       "      <td>0.0</td>\n",
       "    </tr>\n",
       "  </tbody>\n",
       "</table>\n",
       "</div>"
      ],
      "text/plain": [
       "  identifier   license_number      type package_id             package_label  \\\n",
       "0       HPCC  C10-0000064-LIC  inactive     766095  1A406030000339D000000028   \n",
       "\n",
       "  product_category_name          product_name archiveddate finisheddate  \\\n",
       "0                  Leaf  wedding crasher trim         None   2020-02-22   \n",
       "\n",
       "   quantity  \n",
       "0       0.0  "
      ]
     },
     "execution_count": 270,
     "metadata": {},
     "output_type": "execute_result"
    }
   ],
   "source": [
    "inactive_packages_df = pandas.read_sql_query(\n",
    "    util.are_packages_inactive_query(['766095']),\n",
    "    engine\n",
    ")\n",
    "inactive_packages_df"
   ]
  },
  {
   "cell_type": "code",
   "execution_count": null,
   "id": "e113b6eb-5fdb-4678-aef0-ada64e52e10d",
   "metadata": {},
   "outputs": [],
   "source": []
  },
  {
   "cell_type": "code",
   "execution_count": 531,
   "id": "b49d76a3-de1b-4803-8dc1-665aec186020",
   "metadata": {},
   "outputs": [
    {
     "data": {
      "text/html": [
       "<div>\n",
       "<style scoped>\n",
       "    .dataframe tbody tr th:only-of-type {\n",
       "        vertical-align: middle;\n",
       "    }\n",
       "\n",
       "    .dataframe tbody tr th {\n",
       "        vertical-align: top;\n",
       "    }\n",
       "\n",
       "    .dataframe thead th {\n",
       "        text-align: right;\n",
       "    }\n",
       "</style>\n",
       "<table border=\"1\" class=\"dataframe\">\n",
       "  <thead>\n",
       "    <tr style=\"text-align: right;\">\n",
       "      <th></th>\n",
       "      <th>identifier</th>\n",
       "      <th>delivery_type</th>\n",
       "      <th>updated_at</th>\n",
       "      <th>package_id</th>\n",
       "      <th>package_label</th>\n",
       "      <th>shipped_quantity</th>\n",
       "      <th>shipper_wholesale_price</th>\n",
       "      <th>shipper_facility_name</th>\n",
       "      <th>shipper_facility_license_number</th>\n",
       "      <th>recipient_facility_name</th>\n",
       "      <th>...</th>\n",
       "      <th>itemunitvolume</th>\n",
       "      <th>itemunitvolumeunitofmeasurename</th>\n",
       "      <th>shipperwholesaleprice</th>\n",
       "      <th>receiverwholesaleprice</th>\n",
       "      <th>remediationdate</th>\n",
       "      <th>itemunitthccontent</th>\n",
       "      <th>itemunitthccontentunitofmeasurename</th>\n",
       "      <th>grossunitofweightname</th>\n",
       "      <th>itemunitcbdcontent</th>\n",
       "      <th>itemunitcbdcontentunitofmeasurename</th>\n",
       "    </tr>\n",
       "  </thead>\n",
       "  <tbody>\n",
       "    <tr>\n",
       "      <th>0</th>\n",
       "      <td>BBF</td>\n",
       "      <td>INCOMING_UNKNOWN</td>\n",
       "      <td>2021-10-28 23:47:40.803000+00:00</td>\n",
       "      <td>2213735</td>\n",
       "      <td>1A40A0300004845000000300</td>\n",
       "      <td>1.395</td>\n",
       "      <td>0.01</td>\n",
       "      <td>Pure Industries, Inc.</td>\n",
       "      <td>MC281411</td>\n",
       "      <td>Boston Bud Factory Inc.</td>\n",
       "      <td>...</td>\n",
       "      <td>None</td>\n",
       "      <td>None</td>\n",
       "      <td>0.01</td>\n",
       "      <td>0.01</td>\n",
       "      <td>None</td>\n",
       "      <td>None</td>\n",
       "      <td>None</td>\n",
       "      <td>None</td>\n",
       "      <td>None</td>\n",
       "      <td>None</td>\n",
       "    </tr>\n",
       "  </tbody>\n",
       "</table>\n",
       "<p>1 rows × 47 columns</p>\n",
       "</div>"
      ],
      "text/plain": [
       "  identifier     delivery_type                       updated_at package_id  \\\n",
       "0        BBF  INCOMING_UNKNOWN 2021-10-28 23:47:40.803000+00:00    2213735   \n",
       "\n",
       "              package_label  shipped_quantity  shipper_wholesale_price  \\\n",
       "0  1A40A0300004845000000300             1.395                     0.01   \n",
       "\n",
       "   shipper_facility_name shipper_facility_license_number  \\\n",
       "0  Pure Industries, Inc.                        MC281411   \n",
       "\n",
       "   recipient_facility_name  ... itemunitvolume  \\\n",
       "0  Boston Bud Factory Inc.  ...           None   \n",
       "\n",
       "   itemunitvolumeunitofmeasurename shipperwholesaleprice  \\\n",
       "0                             None                  0.01   \n",
       "\n",
       "  receiverwholesaleprice remediationdate itemunitthccontent  \\\n",
       "0                   0.01            None               None   \n",
       "\n",
       "  itemunitthccontentunitofmeasurename grossunitofweightname  \\\n",
       "0                                None                  None   \n",
       "\n",
       "  itemunitcbdcontent itemunitcbdcontentunitofmeasurename  \n",
       "0               None                                None  \n",
       "\n",
       "[1 rows x 47 columns]"
      ]
     },
     "execution_count": 531,
     "metadata": {},
     "output_type": "execute_result"
    }
   ],
   "source": [
    "# Find transfer packages in data warehouse by package_id.\n",
    "\n",
    "def create_transfer_packages_by_package_id_query(package_id):\n",
    "    return f\"\"\"\n",
    "        select\n",
    "            companies.identifier,\n",
    "            company_deliveries.delivery_type,\n",
    "            company_deliveries.updated_at,\n",
    "            metrc_transfer_packages.package_id,\n",
    "            metrc_transfer_packages.package_label,\n",
    "            metrc_transfer_packages.shipped_quantity,\n",
    "            metrc_transfer_packages.shipper_wholesale_price,\n",
    "            metrc_transfers.shipper_facility_name,\n",
    "            metrc_transfers.shipper_facility_license_number,\n",
    "            metrc_deliveries.recipient_facility_name,\n",
    "            metrc_deliveries.recipient_facility_license_number,\n",
    "            metrc_transfer_packages.package_payload.*\n",
    "        from\n",
    "            metrc_transfer_packages\n",
    "            inner join metrc_deliveries on metrc_transfer_packages.delivery_row_id = metrc_deliveries.id\n",
    "            inner join metrc_transfers on metrc_deliveries.transfer_row_id = metrc_transfers.id\n",
    "            inner join company_deliveries on metrc_transfers.id = company_deliveries.transfer_row_id\n",
    "            inner join companies on company_deliveries.company_id = companies.id\n",
    "        where\n",
    "            True\n",
    "            and metrc_transfer_packages.package_id = '{package_id}'\n",
    "    \"\"\"\n",
    "\n",
    "transfer_packages_by_package_id_query = create_transfer_packages_by_package_id_query(\n",
    "    2213735)\n",
    "transfer_packages_by_package_id_dataframe = pandas.read_sql_query(transfer_packages_by_package_id_query, engine)\n",
    "transfer_packages_by_package_id_dataframe"
   ]
  },
  {
   "cell_type": "code",
   "execution_count": 535,
   "id": "3c30352e-9bb8-45c9-92c4-e5e878a9e614",
   "metadata": {},
   "outputs": [
    {
     "data": {
      "text/plain": [
       "0    0.01\n",
       "Name: receiverwholesaleprice, dtype: float64"
      ]
     },
     "execution_count": 535,
     "metadata": {},
     "output_type": "execute_result"
    }
   ],
   "source": [
    "transfer_packages_by_package_id_dataframe['receiverwholesaleprice']"
   ]
  },
  {
   "cell_type": "code",
   "execution_count": 534,
   "id": "e1d7a231-a5cb-4f04-be6e-537f2088f61b",
   "metadata": {},
   "outputs": [
    {
     "data": {
      "text/plain": [
       "<PandasArray>\n",
       "[                                                 'BBF',\n",
       "                                     'INCOMING_UNKNOWN',\n",
       " Timestamp('2021-10-28 23:47:40.803000+0000', tz='UTC'),\n",
       "                                              '2213735',\n",
       "                             '1A40A0300004845000000300',\n",
       "                                                  1.395,\n",
       "                                                   0.01,\n",
       "                                'Pure Industries, Inc.',\n",
       "                                             'MC281411',\n",
       "                              'Boston Bud Factory Inc.',\n",
       "                                             'MR281525',\n",
       "                                                2213735,\n",
       "                             '1A40A0300004845000000300',\n",
       "                                              'Product',\n",
       "                              \"5/17/21- Pinky's Advice\",\n",
       "   '1A40A0300004845000000080, 1A40A0300004845000000135',\n",
       "                    \"M00000757406: Pinky's Advice Buds\",\n",
       "                                                 'Buds',\n",
       "                                       \"Pinky's Advice\",\n",
       "                                                   None,\n",
       "                                                   None,\n",
       "                                                     '',\n",
       "                                           'TestPassed',\n",
       "                                                  False,\n",
       "                                                  False,\n",
       "                                                  False,\n",
       "                                                  False,\n",
       "                                                  False,\n",
       "                                                  False,\n",
       "                                                  False,\n",
       "                                                  False,\n",
       "                                             'Accepted',\n",
       "                                                  1.395,\n",
       "                                               'Pounds',\n",
       "                                                  628.0,\n",
       "                                                'Grams',\n",
       "                                               '724872',\n",
       "                                                   None,\n",
       "                                                   None,\n",
       "                                                   0.01,\n",
       "                                                   0.01,\n",
       "                                                   None,\n",
       "                                                   None,\n",
       "                                                   None,\n",
       "                                                   None,\n",
       "                                                   None,\n",
       "                                                   None]\n",
       "Length: 47, dtype: object"
      ]
     },
     "execution_count": 534,
     "metadata": {},
     "output_type": "execute_result"
    }
   ],
   "source": [
    "transfer_packages_by_package_id_dataframe.iloc[0].array"
   ]
  },
  {
   "cell_type": "code",
   "execution_count": 525,
   "id": "4e60f4d8-4e65-4c4c-b865-14d7551aece6",
   "metadata": {},
   "outputs": [
    {
     "data": {
      "text/plain": [
       "Index(['identifier', 'delivery_type', 'updated_at', 'package_id',\n",
       "       'package_label', 'shipped_quantity', 'shipper_wholesale_price',\n",
       "       'shipper_facility_name', 'shipper_facility_license_number',\n",
       "       'recipient_facility_name', 'recipient_facility_license_number',\n",
       "       'packageid', 'packagelabel', 'packagetype', 'sourceharvestnames',\n",
       "       'sourcepackagelabels', 'productname', 'productcategoryname',\n",
       "       'itemstrainname', 'itemunitweight', 'itemunitweightunitofmeasurename',\n",
       "       'itemservingsize', 'labtestingstate', 'istradesample',\n",
       "       'istradesamplepersistent', 'sourcepackageistradesample', 'isdonation',\n",
       "       'sourcepackageisdonation', 'istestingsample',\n",
       "       'productrequiresremediation', 'containsremediatedproduct',\n",
       "       'shipmentpackagestate', 'shippedquantity', 'shippedunitofmeasurename',\n",
       "       'receivedquantity', 'receivedunitofmeasurename', 'deliveryid',\n",
       "       'itemunitvolume', 'itemunitvolumeunitofmeasurename',\n",
       "       'shipperwholesaleprice', 'receiverwholesaleprice', 'remediationdate',\n",
       "       'itemunitthccontent', 'itemunitthccontentunitofmeasurename',\n",
       "       'grossunitofweightname', 'itemunitcbdcontent',\n",
       "       'itemunitcbdcontentunitofmeasurename'],\n",
       "      dtype='object')"
      ]
     },
     "execution_count": 525,
     "metadata": {},
     "output_type": "execute_result"
    }
   ],
   "source": [
    "transfer_packages_by_package_id_dataframe.columns"
   ]
  },
  {
   "cell_type": "code",
   "execution_count": 490,
   "id": "ed3893b4-fa29-49de-84da-ea10a6ae15a5",
   "metadata": {},
   "outputs": [
    {
     "data": {
      "text/html": [
       "<div>\n",
       "<style scoped>\n",
       "    .dataframe tbody tr th:only-of-type {\n",
       "        vertical-align: middle;\n",
       "    }\n",
       "\n",
       "    .dataframe tbody tr th {\n",
       "        vertical-align: top;\n",
       "    }\n",
       "\n",
       "    .dataframe thead th {\n",
       "        text-align: right;\n",
       "    }\n",
       "</style>\n",
       "<table border=\"1\" class=\"dataframe\">\n",
       "  <thead>\n",
       "    <tr style=\"text-align: right;\">\n",
       "      <th></th>\n",
       "      <th>identifier</th>\n",
       "      <th>package_id</th>\n",
       "      <th>package_label</th>\n",
       "      <th>quantity</th>\n",
       "      <th>id</th>\n",
       "      <th>label</th>\n",
       "      <th>packagetype</th>\n",
       "      <th>sourceharvestnames</th>\n",
       "      <th>quantity_1</th>\n",
       "      <th>unitofmeasurename</th>\n",
       "      <th>...</th>\n",
       "      <th>locationname</th>\n",
       "      <th>locationtypename</th>\n",
       "      <th>itemunitvolume</th>\n",
       "      <th>itemunitvolumeunitofmeasurename</th>\n",
       "      <th>archiveddate</th>\n",
       "      <th>itemunitthccontent</th>\n",
       "      <th>itemunitthccontentunitofmeasurename</th>\n",
       "      <th>remediationdate</th>\n",
       "      <th>itemunitcbdcontent</th>\n",
       "      <th>itemunitcbdcontentunitofmeasurename</th>\n",
       "    </tr>\n",
       "  </thead>\n",
       "  <tbody>\n",
       "    <tr>\n",
       "      <th>0</th>\n",
       "      <td>RA</td>\n",
       "      <td>17481729</td>\n",
       "      <td>1A4060300003BC9000058384</td>\n",
       "      <td>1.0</td>\n",
       "      <td>17481729</td>\n",
       "      <td>1A4060300003BC9000058384</td>\n",
       "      <td>Product</td>\n",
       "      <td>A062221R08GEL, S062821R06GEL</td>\n",
       "      <td>0.0</td>\n",
       "      <td>Each</td>\n",
       "      <td>...</td>\n",
       "      <td>None</td>\n",
       "      <td>None</td>\n",
       "      <td>None</td>\n",
       "      <td>None</td>\n",
       "      <td>None</td>\n",
       "      <td>None</td>\n",
       "      <td>None</td>\n",
       "      <td>None</td>\n",
       "      <td>None</td>\n",
       "      <td>None</td>\n",
       "    </tr>\n",
       "  </tbody>\n",
       "</table>\n",
       "<p>1 rows × 68 columns</p>\n",
       "</div>"
      ],
      "text/plain": [
       "  identifier package_id             package_label  quantity        id  \\\n",
       "0         RA   17481729  1A4060300003BC9000058384       1.0  17481729   \n",
       "\n",
       "                      label packagetype            sourceharvestnames  \\\n",
       "0  1A4060300003BC9000058384     Product  A062221R08GEL, S062821R06GEL   \n",
       "\n",
       "   quantity_1 unitofmeasurename  ... locationname locationtypename  \\\n",
       "0         0.0              Each  ...         None             None   \n",
       "\n",
       "  itemunitvolume itemunitvolumeunitofmeasurename archiveddate  \\\n",
       "0           None                            None         None   \n",
       "\n",
       "  itemunitthccontent itemunitthccontentunitofmeasurename remediationdate  \\\n",
       "0               None                                None            None   \n",
       "\n",
       "  itemunitcbdcontent  itemunitcbdcontentunitofmeasurename  \n",
       "0               None                                 None  \n",
       "\n",
       "[1 rows x 68 columns]"
      ]
     },
     "execution_count": 490,
     "metadata": {},
     "output_type": "execute_result"
    }
   ],
   "source": [
    "# Find packages in data warehouse by package_id.\n",
    "\n",
    "def create_packages_by_package_id_query(package_id):\n",
    "    return f\"\"\"\n",
    "        select\n",
    "            companies.identifier,\n",
    "            metrc_packages.package_id,\n",
    "            metrc_packages.package_label,\n",
    "            metrc_packages.quantity,\n",
    "            metrc_packages.package_payload.*\n",
    "        from\n",
    "            metrc_packages\n",
    "            inner join companies on metrc_packages.company_id = companies.id\n",
    "        where\n",
    "            True\n",
    "            and metrc_packages.package_id = '{package_id}'\n",
    "    \"\"\"\n",
    "\n",
    "packages_by_package_id_query = create_packages_by_package_id_query(17481729)\n",
    "packages_by_package_id_dataframe = pandas.read_sql_query(packages_by_package_id_query, engine)\n",
    "packages_by_package_id_dataframe"
   ]
  },
  {
   "cell_type": "code",
   "execution_count": 491,
   "id": "57fff6ae-4e9e-4b40-9a2e-b9c032737e96",
   "metadata": {
    "tags": []
   },
   "outputs": [
    {
     "data": {
      "text/plain": [
       "Index(['identifier', 'package_id', 'package_label', 'quantity', 'id', 'label',\n",
       "       'packagetype', 'sourceharvestnames', 'quantity_1', 'unitofmeasurename',\n",
       "       'unitofmeasureabbreviation', 'patientlicensenumber',\n",
       "       'itemfromfacilitylicensenumber', 'itemfromfacilityname', 'note',\n",
       "       'packageddate', 'initiallabtestingstate', 'labtestingstate',\n",
       "       'labtestingstatedate', 'isproductionbatch', 'productionbatchnumber',\n",
       "       'sourceproductionbatchnumbers', 'istradesample',\n",
       "       'istradesamplepersistent', 'sourcepackageistradesample', 'isdonation',\n",
       "       'isdonationpersistent', 'sourcepackageisdonation', 'istestingsample',\n",
       "       'isprocessvalidationtestingsample', 'productrequiresremediation',\n",
       "       'containsremediatedproduct', 'isonhold', 'lastmodified', 'itemid',\n",
       "       'itemname', 'itemproductcategoryname', 'itemproductcategorytype',\n",
       "       'itemquantitytype', 'itemdefaultlabtestingstate',\n",
       "       'itemunitofmeasurename', 'itemapprovalstatus',\n",
       "       'itemapprovalstatusdatetime', 'itemstrainid', 'itemstrainname',\n",
       "       'itemadministrationmethod', 'itemservingsize', 'itempublicingredients',\n",
       "       'itemdescription', 'itemisused', 'itemunitweight',\n",
       "       'itemunitweightunitofmeasurename', 'receiveddatetime',\n",
       "       'receivedfrommanifestnumber', 'receivedfromfacilitylicensenumber',\n",
       "       'receivedfromfacilityname', 'finisheddate', 'locationid',\n",
       "       'locationname', 'locationtypename', 'itemunitvolume',\n",
       "       'itemunitvolumeunitofmeasurename', 'archiveddate', 'itemunitthccontent',\n",
       "       'itemunitthccontentunitofmeasurename', 'remediationdate',\n",
       "       'itemunitcbdcontent', 'itemunitcbdcontentunitofmeasurename'],\n",
       "      dtype='object')"
      ]
     },
     "execution_count": 491,
     "metadata": {},
     "output_type": "execute_result"
    }
   ],
   "source": [
    "packages_by_package_id_dataframe.columns"
   ]
  },
  {
   "cell_type": "code",
   "execution_count": 392,
   "id": "3f0852b3-815e-497c-950e-7490beb95cda",
   "metadata": {},
   "outputs": [],
   "source": [
    "from bespoke.metrc.common import metrc_common_util\n",
    "\n",
    "rest = metrc_common_util.get_rest_helper_for_debug(\n",
    "    us_state='MA',\n",
    "    license_number='MR281525'\n",
    ")"
   ]
  },
  {
   "cell_type": "code",
   "execution_count": 360,
   "id": "543e3c37-b0a8-493d-a265-b05462601b14",
   "metadata": {},
   "outputs": [
    {
     "name": "stdout",
     "output_type": "stream",
     "text": [
      "https://api-ca.metrc.com/transfers/v1/rejected?licenseNumber=C10-0000596-LIC&lastModifiedStart=2020-01-01T00:00:00\n"
     ]
    }
   ],
   "source": [
    "from dateutil import parser\n",
    "from datetime import timedelta\n",
    "\n",
    "start_date = parser.parse('2020/01/01').date()\n",
    "end_date = parser.parse('2020/01/01').date()\n",
    "\n",
    "cur_date = start_date\n",
    "\n",
    "while cur_date <= end_date:\n",
    "    cur_date_str = cur_date.strftime('%m/%d/%Y')\n",
    "    resp = rest.get('/transfers/v1/rejected', time_range=[cur_date_str])\n",
    "    transfers = json.loads(resp.content)\n",
    "    if len(transfers) > 0:\n",
    "        print('FOUND SOME')\n",
    "        break\n",
    "        \n",
    "    cur_date = cur_date + timedelta(days=1)\n",
    "    "
   ]
  },
  {
   "cell_type": "code",
   "execution_count": 394,
   "id": "a7c4e2e6-5594-401c-aef3-e9600559586e",
   "metadata": {},
   "outputs": [
    {
     "name": "stdout",
     "output_type": "stream",
     "text": [
      "https://api-ma.metrc.com/packages/v1/967657?licenseNumber=MR281525\n"
     ]
    }
   ],
   "source": [
    "resp = rest.get('/packages/v1/967657')"
   ]
  },
  {
   "cell_type": "code",
   "execution_count": 391,
   "id": "6e2a02b1-0849-437a-a2cc-5199ca7de15f",
   "metadata": {},
   "outputs": [],
   "source": [
    "os.environ['JUPYTER_NOTEBOOK_METRC_API_KEY'] = ''"
   ]
  },
  {
   "cell_type": "code",
   "execution_count": 390,
   "id": "792c100c-35d2-48c5-bdd9-43e61e9ca797",
   "metadata": {},
   "outputs": [],
   "source": [
    "os.environ['METRC_VENDOR_KEY_MA'] = ''"
   ]
  },
  {
   "cell_type": "code",
   "execution_count": 750,
   "id": "c0ed2846-02c0-4d88-8bd0-7149b69a0269",
   "metadata": {},
   "outputs": [],
   "source": [
    "pricing_table = {'Buds': {'Grams': 3.207749486491558, 'Pounds': 1750.4774029280713},\n",
    " 'Concentrate': {'Grams': 32.91866028708134, 'Pounds': 14931.640956937797},\n",
    " 'Concentrate (Each)': {'Each': 9.407892857142858},\n",
    " 'Infused (edible)': {'Each': 5.380780767534184},\n",
    " 'Infused (non-edible)': {'Each': 36.36986301369863},\n",
    " 'Infused Beverage': {'Each': 2.5},\n",
    " 'Raw Pre-Rolls': {'Grams': 5.859388272870396, 'Pounds': 2657.7716454678284},\n",
    " 'Shake/Trim': {'Grams': 0.0013664149586479683, 'Pounds': 0.6197948939230492},\n",
    " 'Shake/Trim (by strain)': {'Grams': 0.40165429042904294,\n",
    "  'Pounds': 182.18717290429043},\n",
    " 'Vape Product': {'Each': 11.236736401673639},\n",
    " 'Concentrate (Bulk)': {'Grams': 32.91866028708134,\n",
    "  'Pounds': 14931.640956937797}}"
   ]
  },
  {
   "cell_type": "code",
   "execution_count": 754,
   "id": "ee37e5c1-900b-4b97-8efd-f37973484c3d",
   "metadata": {},
   "outputs": [
    {
     "name": "stdout",
     "output_type": "stream",
     "text": [
      "{'Buds': {'Grams': 3.21, 'Pounds': 1750.48}, 'Concentrate': {'Grams': 32.92, 'Pounds': 14931.64}, 'Concentrate (Each)': {'Each': 9.41}, 'Infused (edible)': {'Each': 5.38}, 'Infused (non-edible)': {'Each': 36.37}, 'Infused Beverage': {'Each': 2.5}, 'Raw Pre-Rolls': {'Grams': 5.86, 'Pounds': 2657.77}, 'Shake/Trim': {'Grams': 0.0, 'Pounds': 0.62}, 'Shake/Trim (by strain)': {'Grams': 0.4, 'Pounds': 182.19}, 'Vape Product': {'Each': 11.24}, 'Concentrate (Bulk)': {'Grams': 32.92, 'Pounds': 14931.64}}\n"
     ]
    }
   ],
   "source": [
    "def _round_pricing_table(pricing_table):\n",
    "    toplevel_keys = list(pricing_table.keys())\n",
    "    for k in toplevel_keys:\n",
    "        v = pricing_table[k]\n",
    "        sub_keys = list(v.keys())\n",
    "        for subkey in sub_keys:\n",
    "            v[subkey] = round(v[subkey], 2)\n",
    "            \n",
    "    return pricing_table\n",
    "    \n",
    "print(_round_pricing_table(pricing_table))"
   ]
  },
  {
   "cell_type": "code",
   "execution_count": null,
   "id": "18e0ee96-486a-41c9-8e0d-57b0216753cc",
   "metadata": {},
   "outputs": [],
   "source": []
  }
 ],
 "metadata": {
  "kernelspec": {
   "display_name": "Python 3",
   "language": "python",
   "name": "python3"
  },
  "language_info": {
   "codemirror_mode": {
    "name": "ipython",
    "version": 3
   },
   "file_extension": ".py",
   "mimetype": "text/x-python",
   "name": "python",
   "nbconvert_exporter": "python",
   "pygments_lexer": "ipython3",
   "version": "3.7.7"
  }
 },
 "nbformat": 4,
 "nbformat_minor": 5
}
