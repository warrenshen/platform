{
 "cells": [
  {
   "cell_type": "code",
   "execution_count": 1,
   "id": "170c442e-f0fb-4421-a3bf-5f87863f8277",
   "metadata": {},
   "outputs": [],
   "source": [
    "import json\n",
    "import os\n",
    "import numpy\n",
    "import pandas\n",
    "import pyarrow\n",
    "import sys\n",
    "\n",
    "from datetime import date\n",
    "from os import path\n",
    "from dotenv import load_dotenv\n",
    "from sqlalchemy import create_engine\n",
    "\n",
    "# Steps to install\n",
    "# 1. pip install sqlalchemy-bigquery google-cloud-bigquery-storage pyarrow\n",
    "# 2. Copy the credentials file to wherever you set BIGQUERY_CREDENTIALS_PATH to\n",
    "\n",
    "load_dotenv(verbose=True)\n",
    "BIGQUERY_CREDENTIALS_PATH = os.environ.get('BIGQUERY_CREDENTIALS_PATH')"
   ]
  },
  {
   "cell_type": "code",
   "execution_count": 2,
   "id": "38f9a288-03bc-43c5-82f8-a7c5a55f7286",
   "metadata": {},
   "outputs": [],
   "source": [
    "sys.path.append(path.realpath(path.join(os.getcwd(), \"../core\")))\n",
    "import create_queries\n",
    "%load_ext autoreload\n",
    "%autoreload 2"
   ]
  },
  {
   "cell_type": "code",
   "execution_count": 3,
   "id": "fbfe06bc-cc79-41cc-814e-1d2166177496",
   "metadata": {},
   "outputs": [
    {
     "name": "stdout",
     "output_type": "stream",
     "text": [
      "Today is 10/26/2021\n"
     ]
    }
   ],
   "source": [
    "COMPANY_NAME = 'Royal Apothecary'\n",
    "COMPANY_IDENTIFIER = 'RA'\n",
    "TRANSFER_PACKAGES_START_DATE = '2020-01-01'\n",
    "SALES_TRANSACTIONS_START_DATE = '2020-01-01'\n",
    "INVENTORY_DATES = [\n",
    "    '09/30/2020',\n",
    "    '10/31/2020',\n",
    "    '11/30/2020',\n",
    "    '12/31/2020',\n",
    "    '01/31/2021',\n",
    "    '02/28/2021',\n",
    "    '03/31/2021',\n",
    "    '04/30/2021',\n",
    "    '05/31/2021',\n",
    "    '06/30/2021',\n",
    "    '07/31/2021',\n",
    "    '08/31/2021',\n",
    "    '09/30/2021',\n",
    "]\n",
    "ANALYSIS_PARAMS = {\n",
    "    'sold_threshold': 1.0\n",
    "}\n",
    "TODAY_DATE = date.today().strftime('%m/%d/%Y')\n",
    "INVENTORY_DATES.append(TODAY_DATE)\n",
    "print('Today is {}'.format(TODAY_DATE))"
   ]
  },
  {
   "cell_type": "code",
   "execution_count": 4,
   "id": "d9eccd84-a327-4299-8876-456c6c9f574c",
   "metadata": {},
   "outputs": [],
   "source": [
    "# Download packages, sales transactions, incoming / outgoing tranfers\n",
    "\n",
    "company_incoming_transfer_packages_query = create_queries.create_company_incoming_transfer_packages_query(COMPANY_IDENTIFIER, TRANSFER_PACKAGES_START_DATE)\n",
    "company_outgoing_transfer_packages_query = create_queries.create_company_outgoing_transfer_packages_query(COMPANY_IDENTIFIER, TRANSFER_PACKAGES_START_DATE)\n",
    "company_sales_transactions_query = create_queries.create_company_sales_transactions_query(COMPANY_IDENTIFIER, SALES_TRANSACTIONS_START_DATE)\n",
    "company_inventory_packages_query = create_queries.create_company_inventory_packages_query(COMPANY_IDENTIFIER)\n",
    "\n",
    "engine = create_engine('bigquery://bespoke-financial/ProdMetrcData', credentials_path=os.path.expanduser(BIGQUERY_CREDENTIALS_PATH))\n",
    "company_incoming_transfer_packages_dataframe = pandas.read_sql_query(company_incoming_transfer_packages_query, engine)\n",
    "company_outgoing_transfer_packages_dataframe = pandas.read_sql_query(company_outgoing_transfer_packages_query, engine)\n",
    "company_sales_transactions_dataframe = pandas.read_sql_query(company_sales_transactions_query, engine)\n",
    "company_inventory_packages_dataframe = pandas.read_sql_query(company_inventory_packages_query, engine)"
   ]
  },
  {
   "cell_type": "code",
   "execution_count": 5,
   "id": "106a034d-fb76-4e8e-bce6-4e3b525b175e",
   "metadata": {},
   "outputs": [],
   "source": [
    "sys.path.append(path.realpath(path.join(os.getcwd(), \"../../scripts/analysis\")))\n",
    "sys.path.append(path.realpath(path.join(os.getcwd(), \"../../src\")))\n",
    "\n",
    "from util import active_inventory_util as util"
   ]
  },
  {
   "cell_type": "code",
   "execution_count": 6,
   "id": "c2af6220-2ebc-4447-a17e-0e3d9f3a7bbd",
   "metadata": {},
   "outputs": [],
   "source": [
    "d = util.Download()\n",
    "d.download_dataframes(\n",
    "    incoming_transfer_packages_dataframe=company_incoming_transfer_packages_dataframe,\n",
    "    outgoing_transfer_packages_dataframe=company_outgoing_transfer_packages_dataframe,\n",
    "    sales_transactions_dataframe=company_sales_transactions_dataframe,\n",
    ")"
   ]
  },
  {
   "cell_type": "code",
   "execution_count": 15,
   "id": "5fbbbfe7-87c0-4409-9e6a-b6dc2b63ce54",
   "metadata": {
    "tags": []
   },
   "outputs": [
    {
     "name": "stdout",
     "output_type": "stream",
     "text": [
      "Only outgoing: 7\n",
      "Only incoming: 1531\n",
      "Only sold: 11\n",
      "In and out: 37\n",
      "In and sold at least once 4123\n",
      "In and sold many times 3995\n",
      "Total pkgs: 5687\n",
      "Wrote result to out/Royal Apothecary_inventory_by_month.xls\n",
      "Excluded 18 / 5687 packages from consideration (0.32%)\n",
      "  MISSING_INCOMING: 18 times\n"
     ]
    }
   ],
   "source": [
    "# Check for how many packages are excluded from analysis,\n",
    "# seeing less then 2% is really good\n",
    "q = util.Query()\n",
    "q.inventory_dates = INVENTORY_DATES\n",
    "q.company_name = COMPANY_NAME\n",
    "\n",
    "id_to_history = util.get_histories(d)\n",
    "util.print_counts(id_to_history)\n",
    "util.create_inventory_xlsx(id_to_history, q, params=ANALYSIS_PARAMS)"
   ]
  },
  {
   "cell_type": "code",
   "execution_count": 18,
   "id": "4de368e2-44ab-4885-86d2-54b989f091f2",
   "metadata": {
    "tags": []
   },
   "outputs": [],
   "source": [
    "import importlib\n",
    "importlib.reload(util)\n",
    "\n",
    "# TODO(dlluncor): Just for debugging to make this faster\n",
    "INVENTORY_DATES = [TODAY_DATE]\n",
    "\n",
    "date_to_inventory_packages_dataframe = {}\n",
    "id_to_history = util.get_histories(d)\n",
    "\n",
    "for inventory_date in INVENTORY_DATES:\n",
    "    computed_inventory_package_records = util.create_inventory_dataframe_by_date(\n",
    "        id_to_history, inventory_date, params=ANALYSIS_PARAMS)    \n",
    "    computed_inventory_packages_dataframe = pandas.DataFrame(\n",
    "        computed_inventory_package_records,\n",
    "        columns=[\n",
    "            'package_id',\n",
    "            'license_number',\n",
    "            'arrived_date',\n",
    "            'product_category_name',\n",
    "            'product_name',\n",
    "            'quantity',\n",
    "            'sold_date',\n",
    "            'is_in_inventory'\n",
    "        ]\n",
    "    )\n",
    "    date_to_inventory_packages_dataframe[inventory_date] = computed_inventory_packages_dataframe"
   ]
  },
  {
   "cell_type": "code",
   "execution_count": 19,
   "id": "896c2893-bc7b-4295-84e3-fd4a11632b45",
   "metadata": {},
   "outputs": [],
   "source": [
    "from_packages_inventory_dataframe = company_inventory_packages_dataframe[[\n",
    "    'package_id',\n",
    "    'packaged_date',\n",
    "    'product_category_name',\n",
    "    'product_name',\n",
    "    'quantity',\n",
    "]].sort_values('package_id')"
   ]
  },
  {
   "cell_type": "code",
   "execution_count": null,
   "id": "62e6af4a-8e8f-4321-8cfa-ee4353442b50",
   "metadata": {
    "tags": []
   },
   "outputs": [],
   "source": [
    "import importlib\n",
    "importlib.reload(util)\n",
    "\n",
    "util.compare_inventory_dataframes(\n",
    "    computed=date_to_inventory_packages_dataframe[TODAY_DATE],\n",
    "    actual=from_packages_inventory_dataframe\n",
    ")\n",
    "\n",
    "# Two categories for: Num actual packages not computed: 229\n",
    "# 1. Actual has a package that we've never seen\n",
    "# 2. Actual has a package that we've sold out of, and that's why it's in the inventory\n",
    "\n",
    "# Two categories for: Num computed packages not in actual: 237\n",
    "# 1. We never saw the package in the actual inventory\n",
    "# 2. Actual inventory is sold out, but we think it's not sold out in computed"
   ]
  },
  {
   "cell_type": "code",
   "execution_count": null,
   "id": "3a8844de-f684-4aca-a769-a90366b58d20",
   "metadata": {},
   "outputs": [],
   "source": []
  },
  {
   "cell_type": "code",
   "execution_count": null,
   "id": "e113b6eb-5fdb-4678-aef0-ada64e52e10d",
   "metadata": {},
   "outputs": [],
   "source": []
  },
  {
   "cell_type": "code",
   "execution_count": 12,
   "id": "b49d76a3-de1b-4803-8dc1-665aec186020",
   "metadata": {},
   "outputs": [
    {
     "data": {
      "text/html": [
       "<div>\n",
       "<style scoped>\n",
       "    .dataframe tbody tr th:only-of-type {\n",
       "        vertical-align: middle;\n",
       "    }\n",
       "\n",
       "    .dataframe tbody tr th {\n",
       "        vertical-align: top;\n",
       "    }\n",
       "\n",
       "    .dataframe thead th {\n",
       "        text-align: right;\n",
       "    }\n",
       "</style>\n",
       "<table border=\"1\" class=\"dataframe\">\n",
       "  <thead>\n",
       "    <tr style=\"text-align: right;\">\n",
       "      <th></th>\n",
       "      <th>identifier</th>\n",
       "      <th>delivery_type</th>\n",
       "      <th>updated_at</th>\n",
       "      <th>package_id</th>\n",
       "      <th>package_label</th>\n",
       "      <th>shipped_quantity</th>\n",
       "      <th>shipper_wholesale_price</th>\n",
       "      <th>shipper_facility_name</th>\n",
       "      <th>shipper_facility_license_number</th>\n",
       "      <th>recipient_facility_name</th>\n",
       "      <th>recipient_facility_license_number</th>\n",
       "    </tr>\n",
       "  </thead>\n",
       "  <tbody>\n",
       "    <tr>\n",
       "      <th>0</th>\n",
       "      <td>DEMO1</td>\n",
       "      <td>UNKNOWN</td>\n",
       "      <td>2021-10-21 03:27:52.013000+00:00</td>\n",
       "      <td>18851052</td>\n",
       "      <td>1A406030000A800000020093</td>\n",
       "      <td>10.0</td>\n",
       "      <td>16.0</td>\n",
       "      <td>EVERGREEN MANAGEMENT SERVICES, LLC</td>\n",
       "      <td>C11-0000470-LIC</td>\n",
       "      <td>ROYAL APOTHECARY L.L.C.</td>\n",
       "      <td>C10-0000596-LIC</td>\n",
       "    </tr>\n",
       "  </tbody>\n",
       "</table>\n",
       "</div>"
      ],
      "text/plain": [
       "  identifier delivery_type                       updated_at package_id  \\\n",
       "0      DEMO1       UNKNOWN 2021-10-21 03:27:52.013000+00:00   18851052   \n",
       "\n",
       "              package_label  shipped_quantity  shipper_wholesale_price  \\\n",
       "0  1A406030000A800000020093              10.0                     16.0   \n",
       "\n",
       "                shipper_facility_name shipper_facility_license_number  \\\n",
       "0  EVERGREEN MANAGEMENT SERVICES, LLC                 C11-0000470-LIC   \n",
       "\n",
       "   recipient_facility_name recipient_facility_license_number  \n",
       "0  ROYAL APOTHECARY L.L.C.                   C10-0000596-LIC  "
      ]
     },
     "execution_count": 12,
     "metadata": {},
     "output_type": "execute_result"
    }
   ],
   "source": [
    "# Find transfer packages in data warehouse by package_id.\n",
    "\n",
    "def create_transfer_packages_by_package_id_query(package_id):\n",
    "    return f\"\"\"\n",
    "        select\n",
    "            companies.identifier,\n",
    "            company_deliveries.delivery_type,\n",
    "            company_deliveries.updated_at,\n",
    "            metrc_transfer_packages.package_id,\n",
    "            metrc_transfer_packages.package_label,\n",
    "            metrc_transfer_packages.shipped_quantity,\n",
    "            metrc_transfer_packages.shipper_wholesale_price,\n",
    "            metrc_transfers.shipper_facility_name,\n",
    "            metrc_transfers.shipper_facility_license_number,\n",
    "            metrc_deliveries.recipient_facility_name,\n",
    "            metrc_deliveries.recipient_facility_license_number\n",
    "        from\n",
    "            metrc_transfer_packages\n",
    "            inner join metrc_deliveries on metrc_transfer_packages.delivery_row_id = metrc_deliveries.id\n",
    "            inner join metrc_transfers on metrc_deliveries.transfer_row_id = metrc_transfers.id\n",
    "            inner join company_deliveries on metrc_transfers.id = company_deliveries.transfer_row_id\n",
    "            inner join companies on company_deliveries.company_id = companies.id\n",
    "        where\n",
    "            True\n",
    "            and metrc_transfer_packages.package_id = '{package_id}'\n",
    "    \"\"\"\n",
    "\n",
    "transfer_packages_by_package_id_query = create_transfer_packages_by_package_id_query(18851052)\n",
    "transfer_packages_by_package_id_dataframe = pandas.read_sql_query(transfer_packages_by_package_id_query, engine)\n",
    "transfer_packages_by_package_id_dataframe"
   ]
  },
  {
   "cell_type": "code",
   "execution_count": null,
   "id": "c0e6d489-46e4-4bdd-83cc-d431bf6acea4",
   "metadata": {},
   "outputs": [],
   "source": []
  },
  {
   "cell_type": "code",
   "execution_count": 18,
   "id": "ed3893b4-fa29-49de-84da-ea10a6ae15a5",
   "metadata": {},
   "outputs": [
    {
     "data": {
      "text/html": [
       "<div>\n",
       "<style scoped>\n",
       "    .dataframe tbody tr th:only-of-type {\n",
       "        vertical-align: middle;\n",
       "    }\n",
       "\n",
       "    .dataframe tbody tr th {\n",
       "        vertical-align: top;\n",
       "    }\n",
       "\n",
       "    .dataframe thead th {\n",
       "        text-align: right;\n",
       "    }\n",
       "</style>\n",
       "<table border=\"1\" class=\"dataframe\">\n",
       "  <thead>\n",
       "    <tr style=\"text-align: right;\">\n",
       "      <th></th>\n",
       "      <th>identifier</th>\n",
       "      <th>package_id</th>\n",
       "      <th>package_label</th>\n",
       "      <th>quantity</th>\n",
       "    </tr>\n",
       "  </thead>\n",
       "  <tbody>\n",
       "    <tr>\n",
       "      <th>0</th>\n",
       "      <td>RA</td>\n",
       "      <td>17481729</td>\n",
       "      <td>1A4060300003BC9000058384</td>\n",
       "      <td>1.0</td>\n",
       "    </tr>\n",
       "  </tbody>\n",
       "</table>\n",
       "</div>"
      ],
      "text/plain": [
       "  identifier package_id             package_label  quantity\n",
       "0         RA   17481729  1A4060300003BC9000058384       1.0"
      ]
     },
     "execution_count": 18,
     "metadata": {},
     "output_type": "execute_result"
    }
   ],
   "source": [
    "# Find packages in data warehouse by package_id.\n",
    "\n",
    "def create_packages_by_package_id_query(package_id):\n",
    "    return f\"\"\"\n",
    "        select\n",
    "            companies.identifier,\n",
    "            metrc_packages.package_id,\n",
    "            metrc_packages.package_label,\n",
    "            metrc_packages.quantity\n",
    "        from\n",
    "            metrc_packages\n",
    "            inner join companies on metrc_packages.company_id = companies.id\n",
    "        where\n",
    "            True\n",
    "            and metrc_packages.package_id = '{package_id}'\n",
    "    \"\"\"\n",
    "\n",
    "packages_by_package_id_query = create_packages_by_package_id_query(17481729)\n",
    "packages_by_package_id_dataframe = pandas.read_sql_query(packages_by_package_id_query, engine)\n",
    "packages_by_package_id_dataframe"
   ]
  },
  {
   "cell_type": "code",
   "execution_count": 11,
   "id": "57fff6ae-4e9e-4b40-9a2e-b9c032737e96",
   "metadata": {
    "tags": []
   },
   "outputs": [
    {
     "name": "stdout",
     "output_type": "stream",
     "text": [
      "\n",
      "Package 17481729 arrived on 09/01/2021 with quantity 1 and price $0.01. {'package_row_id': '00014b78-f1ce-402c-ab76-bf5a749169e7', 'delivery_type': 'INCOMING_FROM_VENDOR', 'license_number': 'C10-0000596-LIC', 'manifest_number': '0002392964', 'created_date': datetime.date(2021, 9, 1), 'received_datetime': Timestamp('2021-09-10 02:53:08+0000', tz='UTC'), 'shipper_facility_license_number': 'C11-0000335-LIC', 'shipper_facility_name': 'GB2 LLC', 'recipient_facility_license_number': 'C10-0000596-LIC', 'recipient_facility_name': 'ROYAL APOTHECARY L.L.C.', 'shipment_type_name': 'Wholesale Manifest', 'shipment_transaction_type': 'Wholesale', 'package_id': '17481729', 'package_label': '1A4060300003BC9000058384', 'type': 'transfer_incoming', 'shipment_package_state': 'Accepted', 'is_testing_sample': False, 'is_trade_sample': False, 'product_category_name': 'Flower (packaged eighth - each)', 'product_name': 'LL Italian Ice Cream 3.5g Bag G072621GEL-LL', 'package_lab_results_status': 'passed', 'shipper_wholesale_price': 0.01, 'shipped_quantity': 1.0, 'shipped_unit_of_measure': 'Each', 'received_quantity': 1.0, 'received_unit_of_measure': 'Each', 'item_unit_weight': 3.5, 'item_unit_weight_unit_of_measure_name': 'Grams'}\n",
      "Package 17481729 sold on 10/04/2021 1.0 (Each) for $31.5\n",
      "Package 17481729 marked as SOLD since it is more than 100.0% sold\n",
      "Package 17481729 took 33 days to sell with profit margin 99.97%\n",
      "Package 17481729 has a remaining quantity of 0.0\n"
     ]
    }
   ],
   "source": [
    "# For debugging individual package histories\n",
    "import importlib\n",
    "importlib.reload(util)\n",
    "\n",
    "# Missing transactions?\n",
    "# 5189649\n",
    "\n",
    "# Using grams or missing transactions?\n",
    "\n",
    "PACKAGE_IDS = [\n",
    "    '17481729'\n",
    "]\n",
    "\n",
    "util.analyze_specific_package_histories(d, PACKAGE_IDS, params=ANALYSIS_PARAMS)"
   ]
  },
  {
   "cell_type": "code",
   "execution_count": null,
   "id": "3f0852b3-815e-497c-950e-7490beb95cda",
   "metadata": {},
   "outputs": [],
   "source": []
  }
 ],
 "metadata": {
  "kernelspec": {
   "display_name": "Python 3",
   "language": "python",
   "name": "python3"
  },
  "language_info": {
   "codemirror_mode": {
    "name": "ipython",
    "version": 3
   },
   "file_extension": ".py",
   "mimetype": "text/x-python",
   "name": "python",
   "nbconvert_exporter": "python",
   "pygments_lexer": "ipython3",
   "version": "3.7.7"
  }
 },
 "nbformat": 4,
 "nbformat_minor": 5
}
