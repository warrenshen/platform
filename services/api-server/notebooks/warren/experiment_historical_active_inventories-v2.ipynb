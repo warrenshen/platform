{
 "cells": [
  {
   "cell_type": "code",
   "execution_count": 268,
   "id": "170c442e-f0fb-4421-a3bf-5f87863f8277",
   "metadata": {},
   "outputs": [],
   "source": [
    "import json\n",
    "import os\n",
    "import numpy\n",
    "import pandas\n",
    "import pyarrow\n",
    "import sys\n",
    "\n",
    "from datetime import date\n",
    "from os import path\n",
    "from dotenv import load_dotenv\n",
    "from sqlalchemy import create_engine\n",
    "\n",
    "# Steps to install\n",
    "# 1. pip install sqlalchemy-bigquery google-cloud-bigquery-storage pyarrow\n",
    "# 2. Copy the credentials file to wherever you set BIGQUERY_CREDENTIALS_PATH to\n",
    "\n",
    "load_dotenv(verbose=True)\n",
    "BIGQUERY_CREDENTIALS_PATH = os.environ.get('BIGQUERY_CREDENTIALS_PATH')"
   ]
  },
  {
   "cell_type": "code",
   "execution_count": 252,
   "id": "38f9a288-03bc-43c5-82f8-a7c5a55f7286",
   "metadata": {},
   "outputs": [
    {
     "name": "stdout",
     "output_type": "stream",
     "text": [
      "The autoreload extension is already loaded. To reload it, use:\n",
      "  %reload_ext autoreload\n"
     ]
    }
   ],
   "source": [
    "sys.path.append(path.realpath(path.join(os.getcwd(), \"../core\")))\n",
    "import create_queries\n",
    "%load_ext autoreload\n",
    "%autoreload 2"
   ]
  },
  {
   "cell_type": "code",
   "execution_count": 253,
   "id": "fbfe06bc-cc79-41cc-814e-1d2166177496",
   "metadata": {},
   "outputs": [
    {
     "name": "stdout",
     "output_type": "stream",
     "text": [
      "Today is 10/29/2021\n"
     ]
    }
   ],
   "source": [
    "COMPANY_NAME = 'HPCC'\n",
    "COMPANY_IDENTIFIER = 'HPCC'\n",
    "TRANSFER_PACKAGES_START_DATE = '2019-01-01'\n",
    "SALES_TRANSACTIONS_START_DATE = '2019-01-01'\n",
    "INVENTORY_DATES = [\n",
    "    '09/30/2020',\n",
    "    '10/31/2020',\n",
    "    '11/30/2020',\n",
    "    '12/31/2020',\n",
    "    '01/31/2021',\n",
    "    '02/28/2021',\n",
    "    '03/31/2021',\n",
    "    '04/30/2021',\n",
    "    '05/31/2021',\n",
    "    '06/30/2021',\n",
    "    '07/31/2021',\n",
    "    '08/31/2021',\n",
    "    '09/30/2021',\n",
    "]\n",
    "ANALYSIS_PARAMS = {\n",
    "    'sold_threshold': 1.0\n",
    "}\n",
    "TODAY_DATE = date.today().strftime('%m/%d/%Y')\n",
    "INVENTORY_DATES.append(TODAY_DATE)\n",
    "print('Today is {}'.format(TODAY_DATE))"
   ]
  },
  {
   "cell_type": "code",
   "execution_count": 254,
   "id": "d9eccd84-a327-4299-8876-456c6c9f574c",
   "metadata": {},
   "outputs": [],
   "source": [
    "# Download packages, sales transactions, incoming / outgoing tranfers\n",
    "\n",
    "company_incoming_transfer_packages_query = create_queries.create_company_incoming_transfer_packages_query(COMPANY_IDENTIFIER, TRANSFER_PACKAGES_START_DATE)\n",
    "company_outgoing_transfer_packages_query = create_queries.create_company_outgoing_transfer_packages_query(COMPANY_IDENTIFIER, TRANSFER_PACKAGES_START_DATE)\n",
    "company_sales_transactions_query = create_queries.create_company_sales_transactions_query(COMPANY_IDENTIFIER, SALES_TRANSACTIONS_START_DATE)\n",
    "company_inventory_packages_query = create_queries.create_company_inventory_packages_query(\n",
    "    COMPANY_IDENTIFIER, include_quantity_zero=True)\n",
    "\n",
    "engine = create_engine('bigquery://bespoke-financial/ProdMetrcData', credentials_path=os.path.expanduser(BIGQUERY_CREDENTIALS_PATH))\n",
    "company_incoming_transfer_packages_dataframe = pandas.read_sql_query(company_incoming_transfer_packages_query, engine)\n",
    "company_outgoing_transfer_packages_dataframe = pandas.read_sql_query(company_outgoing_transfer_packages_query, engine)\n",
    "company_sales_transactions_dataframe = pandas.read_sql_query(company_sales_transactions_query, engine)\n",
    "company_inventory_packages_dataframe = pandas.read_sql_query(company_inventory_packages_query, engine)"
   ]
  },
  {
   "cell_type": "code",
   "execution_count": 255,
   "id": "106a034d-fb76-4e8e-bce6-4e3b525b175e",
   "metadata": {},
   "outputs": [],
   "source": [
    "sys.path.append(path.realpath(path.join(os.getcwd(), \"../../scripts/analysis\")))\n",
    "sys.path.append(path.realpath(path.join(os.getcwd(), \"../../src\")))\n",
    "\n",
    "from util import active_inventory_util as util"
   ]
  },
  {
   "cell_type": "code",
   "execution_count": 260,
   "id": "c2af6220-2ebc-4447-a17e-0e3d9f3a7bbd",
   "metadata": {},
   "outputs": [],
   "source": [
    "d = util.Download()\n",
    "d.download_dataframes(\n",
    "    incoming_transfer_packages_dataframe=company_incoming_transfer_packages_dataframe,\n",
    "    outgoing_transfer_packages_dataframe=company_outgoing_transfer_packages_dataframe,\n",
    "    sales_transactions_dataframe=company_sales_transactions_dataframe,\n",
    ")"
   ]
  },
  {
   "cell_type": "code",
   "execution_count": 264,
   "id": "5fbbbfe7-87c0-4409-9e6a-b6dc2b63ce54",
   "metadata": {
    "tags": []
   },
   "outputs": [
    {
     "name": "stdout",
     "output_type": "stream",
     "text": [
      "Only outgoing: 211\n",
      "Only incoming: 5135\n",
      "Only sold: 1835\n",
      "In and out: 60\n",
      "In and sold at least once 42911\n",
      "In and sold many times 39286\n",
      "Total pkgs: 50105\n",
      "WARN: package #5172609 does not have a shipped quantity\n",
      "WARN: package #848108 does not have a shipped quantity\n",
      "Wrote result to out/HPCC_inventory_by_month.xls\n",
      "Excluded 2389 / 50105 packages from consideration (4.77%)\n",
      "  OUT_OF_ORDER_DATES: 344 times\n",
      "  MISSING_INCOMING: 2045 times\n"
     ]
    }
   ],
   "source": [
    "# Check for how many packages are excluded from analysis,\n",
    "# seeing less then 2% is really good\n",
    "q = util.Query()\n",
    "q.inventory_dates = INVENTORY_DATES\n",
    "q.company_name = COMPANY_NAME\n",
    "\n",
    "id_to_history = util.get_histories(d)\n",
    "util.print_counts(id_to_history)\n",
    "util.create_inventory_xlsx(id_to_history, q, params=ANALYSIS_PARAMS)"
   ]
  },
  {
   "cell_type": "code",
   "execution_count": 274,
   "id": "27fe4d97-d29a-488a-985c-df5ad455a6d7",
   "metadata": {},
   "outputs": [],
   "source": [
    "all_inactive_packages_df = pandas.read_sql_query(\n",
    "    util.are_packages_inactive_query(list(id_to_history.keys())),\n",
    "    engine\n",
    ")"
   ]
  },
  {
   "cell_type": "code",
   "execution_count": 284,
   "id": "4de368e2-44ab-4885-86d2-54b989f091f2",
   "metadata": {
    "tags": []
   },
   "outputs": [
    {
     "name": "stdout",
     "output_type": "stream",
     "text": [
      "WARN: package #5172609 does not have a shipped quantity\n",
      "WARN: package #848108 does not have a shipped quantity\n"
     ]
    }
   ],
   "source": [
    "import importlib\n",
    "importlib.reload(util)\n",
    "\n",
    "INVENTORY_DATES = [TODAY_DATE]\n",
    "\n",
    "date_to_inventory_packages_dataframe = {}\n",
    "id_to_history = util.get_histories(d)\n",
    "\n",
    "#package_id_to_inactive_package = {}\n",
    "\n",
    "all_inactive_packages = all_inactive_packages_df.to_dict('records')\n",
    "for inactive_pkg in all_inactive_packages:\n",
    "    if inactive_pkg['package_id'] in id_to_history:\n",
    "        id_to_history[inactive_pkg['package_id']].inactive_pkg = inactive_pkg\n",
    "        \n",
    "    #package_id_to_inactive_package[inactive_pkg['package_id']] = inactive_pkg\n",
    "\n",
    "for inventory_date in INVENTORY_DATES:\n",
    "    computed_inventory_package_records = util.create_inventory_dataframe_by_date(\n",
    "        id_to_history, inventory_date, params=ANALYSIS_PARAMS)    \n",
    "    computed_inventory_packages_dataframe = pandas.DataFrame(\n",
    "        computed_inventory_package_records,\n",
    "        columns=[\n",
    "            'package_id',\n",
    "            'license_number',\n",
    "            'arrived_date',\n",
    "            'product_category_name',\n",
    "            'product_name',\n",
    "            'quantity',\n",
    "            'sold_date',\n",
    "            'is_in_inventory'\n",
    "        ]\n",
    "    )\n",
    "    date_to_inventory_packages_dataframe[inventory_date] = computed_inventory_packages_dataframe"
   ]
  },
  {
   "cell_type": "code",
   "execution_count": 285,
   "id": "896c2893-bc7b-4295-84e3-fd4a11632b45",
   "metadata": {},
   "outputs": [],
   "source": [
    "from_packages_inventory_dataframe = company_inventory_packages_dataframe[[\n",
    "    'package_id',\n",
    "    'packaged_date',\n",
    "    'product_category_name',\n",
    "    'product_name',\n",
    "    'quantity',\n",
    "]].sort_values('package_id')\n",
    "\n",
    "package_id_to_actual_row = {}\n",
    "for index, row in from_packages_inventory_dataframe.iterrows():\n",
    "    package_id_to_actual_row[str(row['package_id'])] = row"
   ]
  },
  {
   "cell_type": "code",
   "execution_count": 272,
   "id": "3ef448ed-e183-49f6-afb1-b65d1c60b68a",
   "metadata": {},
   "outputs": [
    {
     "name": "stdout",
     "output_type": "stream",
     "text": [
      "! Missing in metrc_packages\n",
      "{'package_row_id': '9034cf26-0524-4796-a757-49afe6435f54', 'delivery_type': 'INCOMING_FROM_VENDOR', 'license_number': 'C10-0000064-LIC', 'manifest_number': '0000234671', 'created_date': datetime.date(2020, 1, 7), 'received_datetime': datetime.datetime(2020, 1, 8, 1, 46, 32, tzinfo=<UTC>), 'shipper_facility_license_number': 'C11-0000760-LIC', 'shipper_facility_name': 'GREEN SPECTRUM TRADING, INC.', 'recipient_facility_license_number': 'C10-0000064-LIC', 'recipient_facility_name': 'HUENEME PATIENT CONSUMER COLLECTIVE, LLC.', 'shipment_type_name': 'Wholesale Manifest', 'shipment_transaction_type': 'Wholesale', 'package_id': '766095', 'package_label': '1A406030000339D000000028', 'type': 'transfer_incoming', 'shipment_package_state': 'Accepted', 'is_testing_sample': False, 'is_trade_sample': False, 'product_category_name': 'Leaf', 'product_name': 'wedding crasher trim', 'package_lab_results_status': 'failed', 'shipper_wholesale_price': 900.0, 'shipped_quantity': 7500.0, 'shipped_unit_of_measure': 'Grams', 'received_quantity': 7500.0, 'received_unit_of_measure': 'Grams', 'item_unit_weight': nan, 'item_unit_weight_unit_of_measure_name': None, 'received_date': datetime.date(2020, 1, 8), 'date_to_txs': OrderedDict()}\n",
      "\n",
      "Package 766095 arrived on 01/08/2020 with quantity 7500 and price $900.0.\n",
      "Package 766095 has a remaining quantity of 7500\n"
     ]
    }
   ],
   "source": [
    "# For debugging individual package histories\n",
    "# You have to run the above block to reload the package_id_to_history array\n",
    "\n",
    "import importlib\n",
    "importlib.reload(util)\n",
    "\n",
    "# Missing transactions?\n",
    "# 5189649\n",
    "\n",
    "# Using grams or missing transactions?\n",
    "#WARN: seeing an incoming package for #19083030 with no received_datetime\n",
    "#WARN: seeing an incoming package for #19087962 with no received_datetime\n",
    "#WARN: seeing an incoming package for #19083120 with no received_datetime\n",
    "#WARN: seeing an incoming package for #19083028 with no received_datetime\n",
    "#Exception: FATAL error, could not find a transfer to insert a tx with date\n",
    "#2021-10-22 11:58:45+00:00 into for package 18218608\n",
    "\n",
    "PACKAGE_IDS = [\n",
    "    '766095'\n",
    "]\n",
    "\n",
    "util.analyze_specific_package_histories(\n",
    "    d, package_id_to_actual_row, PACKAGE_IDS, params=ANALYSIS_PARAMS)"
   ]
  },
  {
   "cell_type": "code",
   "execution_count": 286,
   "id": "62e6af4a-8e8f-4321-8cfa-ee4353442b50",
   "metadata": {
    "tags": []
   },
   "outputs": [
    {
     "name": "stdout",
     "output_type": "stream",
     "text": [
      "Pct of # inventory matching: 90.92% (2052 / 2257)\n",
      "Accuracy of quantities: 98.91%\n",
      "Pct of # inventory packages over-estimated: 2.61%\n",
      "Pct of # quantity over-estimated: 0.04%\n",
      "Avg quantity delta: 0.13\n",
      "Avg quantity: 11.81\n",
      "\n",
      "Num matching packages: 2052\n",
      "Num actual packages not computed: 205\n",
      "  but computed at some point: 0, e.g., 0.00% of non-computed packages\n",
      "  avg quantity from actual packages 0.00\n",
      "Num computed packages not in actual: 59\n",
      "  but in actual inventory at some point: 19\n",
      "\n",
      "Computed has these extra package IDs; first 10\n",
      "4465593; computed quantity 185\n",
      "15863661; computed quantity 71\n",
      "3987073; computed quantity 65\n",
      "9804525; computed quantity 64\n",
      "17539625; computed quantity 52\n",
      "17539602; computed quantity 52\n",
      "17539609; computed quantity 52\n",
      "17539613; computed quantity 52\n",
      "17539620; computed quantity 52\n",
      "9804668; computed quantity 50\n",
      "4426074; computed quantity 46\n",
      "\n",
      "Computed is missing these package IDs; first 10\n",
      "18733266; quantity: 95.0\n",
      "18978158; quantity: 92.0\n",
      "18733189; quantity: 77.0\n",
      "18673122; quantity: 73.0\n",
      "18420668; quantity: 72.0\n",
      "18338589; quantity: 65.0\n",
      "18814301; quantity: 64.0\n",
      "19060081; quantity: 64.0\n",
      "18254738; quantity: 61.0\n",
      "18346532; quantity: 60.0\n",
      "18254739; quantity: 55.0\n"
     ]
    }
   ],
   "source": [
    "import importlib\n",
    "importlib.reload(util)\n",
    "\n",
    "res = util.compare_inventory_dataframes(\n",
    "    computed=date_to_inventory_packages_dataframe[TODAY_DATE],\n",
    "    actual=from_packages_inventory_dataframe,\n",
    "    options={\n",
    "        'num_errors_to_show': 10,\n",
    "        'accept_computed_when_sold_out': True\n",
    "    }\n",
    ")\n",
    "\n",
    "# Two categories for: Num actual packages not computed: 229\n",
    "# 1. Actual has a package that we've never seen\n",
    "# 2. Actual has a package that we've sold out of, and that's why it's in the inventory\n",
    "\n",
    "# Two categories for: Num computed packages not in actual: 237\n",
    "# 1. We never saw the package in the actual inventory\n",
    "# 2. Actual inventory is sold out, but we think it's not sold out in computed"
   ]
  },
  {
   "cell_type": "code",
   "execution_count": 270,
   "id": "3a8844de-f684-4aca-a769-a90366b58d20",
   "metadata": {},
   "outputs": [
    {
     "data": {
      "text/html": [
       "<div>\n",
       "<style scoped>\n",
       "    .dataframe tbody tr th:only-of-type {\n",
       "        vertical-align: middle;\n",
       "    }\n",
       "\n",
       "    .dataframe tbody tr th {\n",
       "        vertical-align: top;\n",
       "    }\n",
       "\n",
       "    .dataframe thead th {\n",
       "        text-align: right;\n",
       "    }\n",
       "</style>\n",
       "<table border=\"1\" class=\"dataframe\">\n",
       "  <thead>\n",
       "    <tr style=\"text-align: right;\">\n",
       "      <th></th>\n",
       "      <th>identifier</th>\n",
       "      <th>license_number</th>\n",
       "      <th>type</th>\n",
       "      <th>package_id</th>\n",
       "      <th>package_label</th>\n",
       "      <th>product_category_name</th>\n",
       "      <th>product_name</th>\n",
       "      <th>archiveddate</th>\n",
       "      <th>finisheddate</th>\n",
       "      <th>quantity</th>\n",
       "    </tr>\n",
       "  </thead>\n",
       "  <tbody>\n",
       "    <tr>\n",
       "      <th>0</th>\n",
       "      <td>HPCC</td>\n",
       "      <td>C10-0000064-LIC</td>\n",
       "      <td>inactive</td>\n",
       "      <td>766095</td>\n",
       "      <td>1A406030000339D000000028</td>\n",
       "      <td>Leaf</td>\n",
       "      <td>wedding crasher trim</td>\n",
       "      <td>None</td>\n",
       "      <td>2020-02-22</td>\n",
       "      <td>0.0</td>\n",
       "    </tr>\n",
       "  </tbody>\n",
       "</table>\n",
       "</div>"
      ],
      "text/plain": [
       "  identifier   license_number      type package_id             package_label  \\\n",
       "0       HPCC  C10-0000064-LIC  inactive     766095  1A406030000339D000000028   \n",
       "\n",
       "  product_category_name          product_name archiveddate finisheddate  \\\n",
       "0                  Leaf  wedding crasher trim         None   2020-02-22   \n",
       "\n",
       "   quantity  \n",
       "0       0.0  "
      ]
     },
     "execution_count": 270,
     "metadata": {},
     "output_type": "execute_result"
    }
   ],
   "source": [
    "inactive_packages_df = pandas.read_sql_query(\n",
    "    util.are_packages_inactive_query(['766095']),\n",
    "    engine\n",
    ")\n",
    "inactive_packages_df"
   ]
  },
  {
   "cell_type": "code",
   "execution_count": null,
   "id": "e113b6eb-5fdb-4678-aef0-ada64e52e10d",
   "metadata": {},
   "outputs": [],
   "source": []
  },
  {
   "cell_type": "code",
   "execution_count": 273,
   "id": "b49d76a3-de1b-4803-8dc1-665aec186020",
   "metadata": {},
   "outputs": [
    {
     "data": {
      "text/html": [
       "<div>\n",
       "<style scoped>\n",
       "    .dataframe tbody tr th:only-of-type {\n",
       "        vertical-align: middle;\n",
       "    }\n",
       "\n",
       "    .dataframe tbody tr th {\n",
       "        vertical-align: top;\n",
       "    }\n",
       "\n",
       "    .dataframe thead th {\n",
       "        text-align: right;\n",
       "    }\n",
       "</style>\n",
       "<table border=\"1\" class=\"dataframe\">\n",
       "  <thead>\n",
       "    <tr style=\"text-align: right;\">\n",
       "      <th></th>\n",
       "      <th>identifier</th>\n",
       "      <th>delivery_type</th>\n",
       "      <th>updated_at</th>\n",
       "      <th>package_id</th>\n",
       "      <th>package_label</th>\n",
       "      <th>shipped_quantity</th>\n",
       "      <th>shipper_wholesale_price</th>\n",
       "      <th>shipper_facility_name</th>\n",
       "      <th>shipper_facility_license_number</th>\n",
       "      <th>recipient_facility_name</th>\n",
       "      <th>recipient_facility_license_number</th>\n",
       "    </tr>\n",
       "  </thead>\n",
       "  <tbody>\n",
       "    <tr>\n",
       "      <th>0</th>\n",
       "      <td>HPCC</td>\n",
       "      <td>INCOMING_UNKNOWN</td>\n",
       "      <td>2021-09-19 01:10:07.977000+00:00</td>\n",
       "      <td>766095</td>\n",
       "      <td>1A406030000339D000000028</td>\n",
       "      <td>7500.0</td>\n",
       "      <td>900.0</td>\n",
       "      <td>GREEN SPECTRUM TRADING, INC.</td>\n",
       "      <td>C11-0000760-LIC</td>\n",
       "      <td>HUENEME PATIENT CONSUMER COLLECTIVE, LLC.</td>\n",
       "      <td>C10-0000064-LIC</td>\n",
       "    </tr>\n",
       "  </tbody>\n",
       "</table>\n",
       "</div>"
      ],
      "text/plain": [
       "  identifier     delivery_type                       updated_at package_id  \\\n",
       "0       HPCC  INCOMING_UNKNOWN 2021-09-19 01:10:07.977000+00:00     766095   \n",
       "\n",
       "              package_label  shipped_quantity  shipper_wholesale_price  \\\n",
       "0  1A406030000339D000000028            7500.0                    900.0   \n",
       "\n",
       "          shipper_facility_name shipper_facility_license_number  \\\n",
       "0  GREEN SPECTRUM TRADING, INC.                 C11-0000760-LIC   \n",
       "\n",
       "                     recipient_facility_name recipient_facility_license_number  \n",
       "0  HUENEME PATIENT CONSUMER COLLECTIVE, LLC.                   C10-0000064-LIC  "
      ]
     },
     "execution_count": 273,
     "metadata": {},
     "output_type": "execute_result"
    }
   ],
   "source": [
    "# Find transfer packages in data warehouse by package_id.\n",
    "\n",
    "def create_transfer_packages_by_package_id_query(package_id):\n",
    "    return f\"\"\"\n",
    "        select\n",
    "            companies.identifier,\n",
    "            company_deliveries.delivery_type,\n",
    "            company_deliveries.updated_at,\n",
    "            metrc_transfer_packages.package_id,\n",
    "            metrc_transfer_packages.package_label,\n",
    "            metrc_transfer_packages.shipped_quantity,\n",
    "            metrc_transfer_packages.shipper_wholesale_price,\n",
    "            metrc_transfers.shipper_facility_name,\n",
    "            metrc_transfers.shipper_facility_license_number,\n",
    "            metrc_deliveries.recipient_facility_name,\n",
    "            metrc_deliveries.recipient_facility_license_number\n",
    "        from\n",
    "            metrc_transfer_packages\n",
    "            inner join metrc_deliveries on metrc_transfer_packages.delivery_row_id = metrc_deliveries.id\n",
    "            inner join metrc_transfers on metrc_deliveries.transfer_row_id = metrc_transfers.id\n",
    "            inner join company_deliveries on metrc_transfers.id = company_deliveries.transfer_row_id\n",
    "            inner join companies on company_deliveries.company_id = companies.id\n",
    "        where\n",
    "            True\n",
    "            and metrc_transfer_packages.package_id = '{package_id}'\n",
    "    \"\"\"\n",
    "\n",
    "transfer_packages_by_package_id_query = create_transfer_packages_by_package_id_query(\n",
    "    766095)\n",
    "transfer_packages_by_package_id_dataframe = pandas.read_sql_query(transfer_packages_by_package_id_query, engine)\n",
    "transfer_packages_by_package_id_dataframe"
   ]
  },
  {
   "cell_type": "code",
   "execution_count": 18,
   "id": "ed3893b4-fa29-49de-84da-ea10a6ae15a5",
   "metadata": {},
   "outputs": [
    {
     "data": {
      "text/html": [
       "<div>\n",
       "<style scoped>\n",
       "    .dataframe tbody tr th:only-of-type {\n",
       "        vertical-align: middle;\n",
       "    }\n",
       "\n",
       "    .dataframe tbody tr th {\n",
       "        vertical-align: top;\n",
       "    }\n",
       "\n",
       "    .dataframe thead th {\n",
       "        text-align: right;\n",
       "    }\n",
       "</style>\n",
       "<table border=\"1\" class=\"dataframe\">\n",
       "  <thead>\n",
       "    <tr style=\"text-align: right;\">\n",
       "      <th></th>\n",
       "      <th>identifier</th>\n",
       "      <th>package_id</th>\n",
       "      <th>package_label</th>\n",
       "      <th>quantity</th>\n",
       "    </tr>\n",
       "  </thead>\n",
       "  <tbody>\n",
       "    <tr>\n",
       "      <th>0</th>\n",
       "      <td>RA</td>\n",
       "      <td>17481729</td>\n",
       "      <td>1A4060300003BC9000058384</td>\n",
       "      <td>1.0</td>\n",
       "    </tr>\n",
       "  </tbody>\n",
       "</table>\n",
       "</div>"
      ],
      "text/plain": [
       "  identifier package_id             package_label  quantity\n",
       "0         RA   17481729  1A4060300003BC9000058384       1.0"
      ]
     },
     "execution_count": 18,
     "metadata": {},
     "output_type": "execute_result"
    }
   ],
   "source": [
    "# Find packages in data warehouse by package_id.\n",
    "\n",
    "def create_packages_by_package_id_query(package_id):\n",
    "    return f\"\"\"\n",
    "        select\n",
    "            companies.identifier,\n",
    "            metrc_packages.package_id,\n",
    "            metrc_packages.package_label,\n",
    "            metrc_packages.quantity\n",
    "        from\n",
    "            metrc_packages\n",
    "            inner join companies on metrc_packages.company_id = companies.id\n",
    "        where\n",
    "            True\n",
    "            and metrc_packages.package_id = '{package_id}'\n",
    "    \"\"\"\n",
    "\n",
    "packages_by_package_id_query = create_packages_by_package_id_query(17481729)\n",
    "packages_by_package_id_dataframe = pandas.read_sql_query(packages_by_package_id_query, engine)\n",
    "packages_by_package_id_dataframe"
   ]
  },
  {
   "cell_type": "code",
   "execution_count": 33,
   "id": "57fff6ae-4e9e-4b40-9a2e-b9c032737e96",
   "metadata": {
    "tags": []
   },
   "outputs": [
    {
     "name": "stdout",
     "output_type": "stream",
     "text": [
      "\n",
      "Package 5751573 arrived on 07/13/2020 with quantity 280 and price $350.0. {'package_row_id': '4544aa24-1a3d-494b-b312-de17db773e79', 'delivery_type': 'INCOMING_FROM_VENDOR', 'license_number': 'C10-0000596-LIC', 'manifest_number': '0000767939', 'created_date': datetime.date(2020, 7, 13), 'received_datetime': Timestamp('2020-07-15 00:56:06+0000', tz='UTC'), 'shipper_facility_license_number': 'C11-0000349-LIC', 'shipper_facility_name': 'MISSION HILLS PATIENTS COLLECTIVE', 'recipient_facility_license_number': 'C10-0000596-LIC', 'recipient_facility_name': 'ROYAL APOTHECARY L.L.C.', 'shipment_type_name': 'Wholesale Manifest', 'shipment_transaction_type': 'Wholesale', 'package_id': '5751573', 'package_label': '1A4060300003D59000009129', 'type': 'transfer_incoming', 'shipment_package_state': 'Accepted', 'is_testing_sample': False, 'is_trade_sample': False, 'product_category_name': 'Flower', 'product_name': 'Rich & Ruthless - CPT Kush Ride (28 GM Flower - SMS) (#112-CPTK-YF0420) #1884', 'package_lab_results_status': 'passed', 'shipper_wholesale_price': 350.0, 'shipped_quantity': 280.0, 'shipped_unit_of_measure': 'Grams', 'received_quantity': 280.0, 'received_unit_of_measure': 'Grams', 'item_unit_weight': nan, 'item_unit_weight_unit_of_measure_name': None}\n",
      "Package 5751573 sold on 07/18/2020 28.0 (Grams) for $62.55\n",
      "Package 5751573 sold on 07/18/2020 28.0 (Grams) for $62.55\n",
      "Package 5751573 sold on 07/18/2020 28.0 (Grams) for $62.55\n",
      "Package 5751573 sold on 07/21/2020 28.0 (Grams) for $70.55\n",
      "Package 5751573 sold on 07/22/2020 28.0 (Grams) for $70.55\n",
      "Package 5751573 sold on 07/24/2020 28.0 (Grams) for $80.0\n",
      "Package 5751573 sold on 08/01/2020 28.0 (Grams) for $80.0\n",
      "Package 5751573 sold on 08/14/2020 28.0 (Grams) for $80.0\n",
      "Package 5751573 sold on 08/29/2020 28.0 (Grams) for $68.0\n",
      "Package 5751573 sold on 09/01/2020 28.0 (Grams) for $68.0\n",
      "Package 5751573 marked as SOLD since it is more than 100.0% sold\n",
      "Package 5751573 took 50 days to sell with profit margin 50.34%\n",
      "Package 5751573 sold on 09/25/2020 28.0 (Grams) for $72.0\n",
      "Package 5751573 took 50 days to sell with profit margin 54.94%\n",
      "Package 5751573 has a remaining quantity of -28.0\n"
     ]
    }
   ],
   "source": []
  },
  {
   "cell_type": "code",
   "execution_count": 61,
   "id": "3f0852b3-815e-497c-950e-7490beb95cda",
   "metadata": {},
   "outputs": [],
   "source": [
    "from bespoke.metrc.common import metrc_common_util\n",
    "\n",
    "rest = metrc_common_util.get_rest_helper_for_debug(\n",
    "    us_state='CA',\n",
    "    license_number='C10-0000596-LIC'\n",
    ")"
   ]
  },
  {
   "cell_type": "code",
   "execution_count": 62,
   "id": "543e3c37-b0a8-493d-a265-b05462601b14",
   "metadata": {},
   "outputs": [],
   "source": [
    "resp = rest.get('/sales/v1/receipts/36748697')"
   ]
  },
  {
   "cell_type": "code",
   "execution_count": 66,
   "id": "a7c4e2e6-5594-401c-aef3-e9600559586e",
   "metadata": {},
   "outputs": [
    {
     "data": {
      "text/plain": [
       "{'Id': 36748697,\n",
       " 'ReceiptNumber': '0036748697',\n",
       " 'SalesDateTime': '2020-07-18T15:48:25.790',\n",
       " 'SalesCustomerType': 'Consumer',\n",
       " 'PatientLicenseNumber': '',\n",
       " 'CaregiverLicenseNumber': '',\n",
       " 'IdentificationMethod': '',\n",
       " 'TotalPackages': 1,\n",
       " 'TotalPrice': 62.55,\n",
       " 'Transactions': [{'PackageId': 5751573,\n",
       "   'PackageLabel': '1A4060300003D59000009129',\n",
       "   'ProductName': 'Rich & Ruthless - CPT Kush Ride (28 GM Flower - SMS) (#112-CPTK-YF0420) #1884',\n",
       "   'ProductCategoryName': 'Flower',\n",
       "   'ItemStrainName': 'CPT Kush Ride',\n",
       "   'ItemUnitCbdPercent': None,\n",
       "   'ItemUnitCbdContent': None,\n",
       "   'ItemUnitCbdContentUnitOfMeasureName': None,\n",
       "   'ItemUnitCbdContentDose': None,\n",
       "   'ItemUnitCbdContentDoseUnitOfMeasureName': None,\n",
       "   'ItemUnitThcPercent': None,\n",
       "   'ItemUnitThcContent': None,\n",
       "   'ItemUnitThcContentUnitOfMeasureName': None,\n",
       "   'ItemUnitThcContentDose': None,\n",
       "   'ItemUnitThcContentDoseUnitOfMeasureName': None,\n",
       "   'ItemUnitVolume': None,\n",
       "   'ItemUnitVolumeUnitOfMeasureName': None,\n",
       "   'ItemUnitWeight': None,\n",
       "   'ItemUnitWeightUnitOfMeasureName': None,\n",
       "   'ItemServingSize': '',\n",
       "   'ItemSupplyDurationDays': None,\n",
       "   'ItemUnitQuantity': None,\n",
       "   'ItemUnitQuantityUnitOfMeasureName': None,\n",
       "   'QuantitySold': 28.0,\n",
       "   'UnitOfMeasureName': 'Grams',\n",
       "   'UnitOfMeasureAbbreviation': 'g',\n",
       "   'TotalPrice': 62.55,\n",
       "   'SalesDeliveryState': None,\n",
       "   'ArchivedDate': None,\n",
       "   'RecordedDateTime': '0001-01-01T00:00:00+00:00',\n",
       "   'RecordedByUserName': None,\n",
       "   'LastModified': '2020-07-18T22:48:27+00:00'}],\n",
       " 'IsFinal': False,\n",
       " 'ArchivedDate': None,\n",
       " 'RecordedDateTime': '2020-07-18T22:48:27+00:00',\n",
       " 'RecordedByUserName': 'Jason Lee',\n",
       " 'LastModified': '2020-07-18T22:48:27+00:00'}"
      ]
     },
     "execution_count": 66,
     "metadata": {},
     "output_type": "execute_result"
    }
   ],
   "source": [
    "json.loads(resp.content)"
   ]
  },
  {
   "cell_type": "code",
   "execution_count": 69,
   "id": "ef1888bb-b83e-4b68-8716-4eb9926d395e",
   "metadata": {},
   "outputs": [],
   "source": [
    "resp2 = rest.get('/sales/v1/receipts/36803933')"
   ]
  },
  {
   "cell_type": "code",
   "execution_count": 70,
   "id": "183f7efe-f844-4113-85b4-ed8782197ed6",
   "metadata": {},
   "outputs": [
    {
     "data": {
      "text/plain": [
       "{'Id': 36803933,\n",
       " 'ReceiptNumber': '0036803933',\n",
       " 'SalesDateTime': '2020-07-18T19:24:11.890',\n",
       " 'SalesCustomerType': 'Consumer',\n",
       " 'PatientLicenseNumber': '',\n",
       " 'CaregiverLicenseNumber': '',\n",
       " 'IdentificationMethod': '',\n",
       " 'TotalPackages': 1,\n",
       " 'TotalPrice': 62.55,\n",
       " 'Transactions': [{'PackageId': 5751573,\n",
       "   'PackageLabel': '1A4060300003D59000009129',\n",
       "   'ProductName': 'Rich & Ruthless - CPT Kush Ride (28 GM Flower - SMS) (#112-CPTK-YF0420) #1884',\n",
       "   'ProductCategoryName': 'Flower',\n",
       "   'ItemStrainName': 'CPT Kush Ride',\n",
       "   'ItemUnitCbdPercent': None,\n",
       "   'ItemUnitCbdContent': None,\n",
       "   'ItemUnitCbdContentUnitOfMeasureName': None,\n",
       "   'ItemUnitCbdContentDose': None,\n",
       "   'ItemUnitCbdContentDoseUnitOfMeasureName': None,\n",
       "   'ItemUnitThcPercent': None,\n",
       "   'ItemUnitThcContent': None,\n",
       "   'ItemUnitThcContentUnitOfMeasureName': None,\n",
       "   'ItemUnitThcContentDose': None,\n",
       "   'ItemUnitThcContentDoseUnitOfMeasureName': None,\n",
       "   'ItemUnitVolume': None,\n",
       "   'ItemUnitVolumeUnitOfMeasureName': None,\n",
       "   'ItemUnitWeight': None,\n",
       "   'ItemUnitWeightUnitOfMeasureName': None,\n",
       "   'ItemServingSize': '',\n",
       "   'ItemSupplyDurationDays': None,\n",
       "   'ItemUnitQuantity': None,\n",
       "   'ItemUnitQuantityUnitOfMeasureName': None,\n",
       "   'QuantitySold': 28.0,\n",
       "   'UnitOfMeasureName': 'Grams',\n",
       "   'UnitOfMeasureAbbreviation': 'g',\n",
       "   'TotalPrice': 62.55,\n",
       "   'SalesDeliveryState': None,\n",
       "   'ArchivedDate': None,\n",
       "   'RecordedDateTime': '0001-01-01T00:00:00+00:00',\n",
       "   'RecordedByUserName': None,\n",
       "   'LastModified': '2020-07-19T02:24:14+00:00'}],\n",
       " 'IsFinal': False,\n",
       " 'ArchivedDate': None,\n",
       " 'RecordedDateTime': '2020-07-19T02:24:14+00:00',\n",
       " 'RecordedByUserName': 'Jason Lee',\n",
       " 'LastModified': '2020-07-19T02:24:14+00:00'}"
      ]
     },
     "execution_count": 70,
     "metadata": {},
     "output_type": "execute_result"
    }
   ],
   "source": [
    "json.loads(resp2.content)"
   ]
  },
  {
   "cell_type": "code",
   "execution_count": null,
   "id": "09b26d1f-0763-4ce4-a368-95d9a6d3a03e",
   "metadata": {},
   "outputs": [],
   "source": []
  }
 ],
 "metadata": {
  "kernelspec": {
   "display_name": "Python 3",
   "language": "python",
   "name": "python3"
  },
  "language_info": {
   "codemirror_mode": {
    "name": "ipython",
    "version": 3
   },
   "file_extension": ".py",
   "mimetype": "text/x-python",
   "name": "python",
   "nbconvert_exporter": "python",
   "pygments_lexer": "ipython3",
   "version": "3.7.7"
  }
 },
 "nbformat": 4,
 "nbformat_minor": 5
}
