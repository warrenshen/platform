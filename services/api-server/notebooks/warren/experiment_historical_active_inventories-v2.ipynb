{
 "cells": [
  {
   "cell_type": "code",
   "execution_count": 57,
   "id": "170c442e-f0fb-4421-a3bf-5f87863f8277",
   "metadata": {},
   "outputs": [],
   "source": [
    "import json\n",
    "import os\n",
    "import numpy\n",
    "import pandas\n",
    "import pyarrow\n",
    "import sys\n",
    "\n",
    "from datetime import date\n",
    "from os import path\n",
    "from dotenv import load_dotenv\n",
    "from sqlalchemy import create_engine\n",
    "\n",
    "# Steps to install\n",
    "# 1. pip install sqlalchemy-bigquery google-cloud-bigquery-storage pyarrow\n",
    "# 2. Copy the credentials file to wherever you set BIGQUERY_CREDENTIALS_PATH to\n",
    "\n",
    "load_dotenv(verbose=True)\n",
    "BIGQUERY_CREDENTIALS_PATH = os.environ.get('BIGQUERY_CREDENTIALS_PATH')"
   ]
  },
  {
   "cell_type": "code",
   "execution_count": 2,
   "id": "38f9a288-03bc-43c5-82f8-a7c5a55f7286",
   "metadata": {},
   "outputs": [],
   "source": [
    "sys.path.append(path.realpath(path.join(os.getcwd(), \"../core\")))\n",
    "import create_queries\n",
    "%load_ext autoreload\n",
    "%autoreload 2"
   ]
  },
  {
   "cell_type": "code",
   "execution_count": 3,
   "id": "fbfe06bc-cc79-41cc-814e-1d2166177496",
   "metadata": {},
   "outputs": [
    {
     "name": "stdout",
     "output_type": "stream",
     "text": [
      "Today is 10/26/2021\n"
     ]
    }
   ],
   "source": [
    "COMPANY_NAME = 'Royal Apothecary'\n",
    "COMPANY_IDENTIFIER = 'RA'\n",
    "TRANSFER_PACKAGES_START_DATE = '2020-01-01'\n",
    "SALES_TRANSACTIONS_START_DATE = '2020-01-01'\n",
    "INVENTORY_DATES = [\n",
    "    '09/30/2020',\n",
    "    '10/31/2020',\n",
    "    '11/30/2020',\n",
    "    '12/31/2020',\n",
    "    '01/31/2021',\n",
    "    '02/28/2021',\n",
    "    '03/31/2021',\n",
    "    '04/30/2021',\n",
    "    '05/31/2021',\n",
    "    '06/30/2021',\n",
    "    '07/31/2021',\n",
    "    '08/31/2021',\n",
    "    '09/30/2021',\n",
    "]\n",
    "ANALYSIS_PARAMS = {\n",
    "    'sold_threshold': 1.0\n",
    "}\n",
    "TODAY_DATE = date.today().strftime('%m/%d/%Y')\n",
    "INVENTORY_DATES.append(TODAY_DATE)\n",
    "print('Today is {}'.format(TODAY_DATE))"
   ]
  },
  {
   "cell_type": "code",
   "execution_count": 4,
   "id": "d9eccd84-a327-4299-8876-456c6c9f574c",
   "metadata": {},
   "outputs": [],
   "source": [
    "# Download packages, sales transactions, incoming / outgoing tranfers\n",
    "\n",
    "company_incoming_transfer_packages_query = create_queries.create_company_incoming_transfer_packages_query(COMPANY_IDENTIFIER, TRANSFER_PACKAGES_START_DATE)\n",
    "company_outgoing_transfer_packages_query = create_queries.create_company_outgoing_transfer_packages_query(COMPANY_IDENTIFIER, TRANSFER_PACKAGES_START_DATE)\n",
    "company_sales_transactions_query = create_queries.create_company_sales_transactions_query(COMPANY_IDENTIFIER, SALES_TRANSACTIONS_START_DATE)\n",
    "company_inventory_packages_query = create_queries.create_company_inventory_packages_query(COMPANY_IDENTIFIER)\n",
    "\n",
    "engine = create_engine('bigquery://bespoke-financial/ProdMetrcData', credentials_path=os.path.expanduser(BIGQUERY_CREDENTIALS_PATH))\n",
    "company_incoming_transfer_packages_dataframe = pandas.read_sql_query(company_incoming_transfer_packages_query, engine)\n",
    "company_outgoing_transfer_packages_dataframe = pandas.read_sql_query(company_outgoing_transfer_packages_query, engine)\n",
    "company_sales_transactions_dataframe = pandas.read_sql_query(company_sales_transactions_query, engine)\n",
    "company_inventory_packages_dataframe = pandas.read_sql_query(company_inventory_packages_query, engine)"
   ]
  },
  {
   "cell_type": "code",
   "execution_count": 5,
   "id": "106a034d-fb76-4e8e-bce6-4e3b525b175e",
   "metadata": {},
   "outputs": [],
   "source": [
    "sys.path.append(path.realpath(path.join(os.getcwd(), \"../../scripts/analysis\")))\n",
    "sys.path.append(path.realpath(path.join(os.getcwd(), \"../../src\")))\n",
    "\n",
    "from util import active_inventory_util as util"
   ]
  },
  {
   "cell_type": "code",
   "execution_count": 6,
   "id": "c2af6220-2ebc-4447-a17e-0e3d9f3a7bbd",
   "metadata": {},
   "outputs": [],
   "source": [
    "d = util.Download()\n",
    "d.download_dataframes(\n",
    "    incoming_transfer_packages_dataframe=company_incoming_transfer_packages_dataframe,\n",
    "    outgoing_transfer_packages_dataframe=company_outgoing_transfer_packages_dataframe,\n",
    "    sales_transactions_dataframe=company_sales_transactions_dataframe,\n",
    ")"
   ]
  },
  {
   "cell_type": "code",
   "execution_count": 15,
   "id": "5fbbbfe7-87c0-4409-9e6a-b6dc2b63ce54",
   "metadata": {
    "tags": []
   },
   "outputs": [
    {
     "name": "stdout",
     "output_type": "stream",
     "text": [
      "Only outgoing: 7\n",
      "Only incoming: 1531\n",
      "Only sold: 11\n",
      "In and out: 37\n",
      "In and sold at least once 4123\n",
      "In and sold many times 3995\n",
      "Total pkgs: 5687\n",
      "Wrote result to out/Royal Apothecary_inventory_by_month.xls\n",
      "Excluded 18 / 5687 packages from consideration (0.32%)\n",
      "  MISSING_INCOMING: 18 times\n"
     ]
    }
   ],
   "source": [
    "# Check for how many packages are excluded from analysis,\n",
    "# seeing less then 2% is really good\n",
    "q = util.Query()\n",
    "q.inventory_dates = INVENTORY_DATES\n",
    "q.company_name = COMPANY_NAME\n",
    "\n",
    "id_to_history = util.get_histories(d)\n",
    "util.print_counts(id_to_history)\n",
    "util.create_inventory_xlsx(id_to_history, q, params=ANALYSIS_PARAMS)"
   ]
  },
  {
   "cell_type": "code",
   "execution_count": 94,
   "id": "4de368e2-44ab-4885-86d2-54b989f091f2",
   "metadata": {
    "tags": []
   },
   "outputs": [],
   "source": [
    "import importlib\n",
    "importlib.reload(util)\n",
    "\n",
    "# TODO(dlluncor): Just for debugging to make this faster\n",
    "INVENTORY_DATES = [TODAY_DATE]\n",
    "\n",
    "date_to_inventory_packages_dataframe = {}\n",
    "id_to_history = util.get_histories(d)\n",
    "\n",
    "for inventory_date in INVENTORY_DATES:\n",
    "    computed_inventory_package_records = util.create_inventory_dataframe_by_date(\n",
    "        id_to_history, inventory_date, params=ANALYSIS_PARAMS)    \n",
    "    computed_inventory_packages_dataframe = pandas.DataFrame(\n",
    "        computed_inventory_package_records,\n",
    "        columns=[\n",
    "            'package_id',\n",
    "            'license_number',\n",
    "            'arrived_date',\n",
    "            'product_category_name',\n",
    "            'product_name',\n",
    "            'quantity',\n",
    "            'sold_date',\n",
    "            'is_in_inventory'\n",
    "        ]\n",
    "    )\n",
    "    date_to_inventory_packages_dataframe[inventory_date] = computed_inventory_packages_dataframe"
   ]
  },
  {
   "cell_type": "code",
   "execution_count": 19,
   "id": "896c2893-bc7b-4295-84e3-fd4a11632b45",
   "metadata": {},
   "outputs": [],
   "source": [
    "from_packages_inventory_dataframe = company_inventory_packages_dataframe[[\n",
    "    'package_id',\n",
    "    'packaged_date',\n",
    "    'product_category_name',\n",
    "    'product_name',\n",
    "    'quantity',\n",
    "]].sort_values('package_id')"
   ]
  },
  {
   "cell_type": "code",
   "execution_count": 99,
   "id": "3ef448ed-e183-49f6-afb1-b65d1c60b68a",
   "metadata": {},
   "outputs": [
    {
     "name": "stdout",
     "output_type": "stream",
     "text": [
      "\n",
      "Package 14734411 arrived on 06/01/2021 with quantity 64 and price $nan.\n",
      "\n",
      "Package 14734411 arrived on 06/01/2021 with quantity 64 and price $nan.\n",
      "Package 14734411 sold on 06/02/2021 1.0 (Each) for $55.0\n",
      "Package 14734411 sold on 06/03/2021 1.0 (Each) for $49.5\n",
      "Package 14734411 sold on 06/03/2021 1.0 (Each) for $55.0\n",
      "Package 14734411 sold on 06/03/2021 1.0 (Each) for $55.0\n",
      "Package 14734411 sold on 06/03/2021 1.0 (Each) for $49.5\n",
      "Package 14734411 sold on 06/04/2021 1.0 (Each) for $55.0\n",
      "Package 14734411 sold on 06/04/2021 1.0 (Each) for $49.5\n",
      "Package 14734411 sold on 06/04/2021 1.0 (Each) for $55.0\n",
      "Package 14734411 sold on 06/05/2021 1.0 (Each) for $46.75\n",
      "Package 14734411 sold on 06/06/2021 1.0 (Each) for $55.0\n",
      "Package 14734411 sold on 06/06/2021 1.0 (Each) for $46.75\n",
      "Package 14734411 sold on 06/06/2021 1.0 (Each) for $46.75\n",
      "Package 14734411 sold on 06/07/2021 1.0 (Each) for $49.5\n",
      "Package 14734411 sold on 06/07/2021 1.0 (Each) for $30.25\n",
      "Package 14734411 sold on 06/07/2021 1.0 (Each) for $55.0\n",
      "Package 14734411 sold on 06/07/2021 1.0 (Each) for $49.5\n",
      "Package 14734411 sold on 06/07/2021 1.0 (Each) for $55.0\n",
      "Package 14734411 sold on 06/07/2021 1.0 (Each) for $55.0\n",
      "Package 14734411 sold on 06/07/2021 1.0 (Each) for $55.0\n",
      "Package 14734411 sold on 06/08/2021 1.0 (Each) for $49.5\n",
      "Package 14734411 sold on 06/09/2021 1.0 (Each) for $46.75\n",
      "Package 14734411 sold on 06/09/2021 1.0 (Each) for $55.0\n",
      "Package 14734411 sold on 06/10/2021 1.0 (Each) for $55.0\n",
      "Package 14734411 sold on 06/11/2021 1.0 (Each) for $49.5\n",
      "Package 14734411 sold on 06/11/2021 1.0 (Each) for $55.0\n",
      "Package 14734411 sold on 06/13/2021 1.0 (Each) for $49.5\n",
      "Package 14734411 sold on 06/14/2021 1.0 (Each) for $55.0\n",
      "Package 14734411 sold on 06/14/2021 1.0 (Each) for $46.75\n",
      "Package 14734411 sold on 06/16/2021 1.0 (Each) for $46.75\n",
      "Package 14734411 sold on 06/17/2021 1.0 (Each) for $55.0\n",
      "Package 14734411 sold on 06/20/2021 1.0 (Each) for $55.0\n",
      "Package 14734411 sold on 06/20/2021 1.0 (Each) for $55.0\n",
      "Package 14734411 sold on 06/28/2021 1.0 (Each) for $55.0\n",
      "Package 14734411 sold on 06/29/2021 1.0 (Each) for $46.75\n",
      "Package 14734411 sold on 06/30/2021 1.0 (Each) for $50.0\n",
      "Package 14734411 sold on 07/03/2021 1.0 (Each) for $45.0\n",
      "Package 14734411 sold on 07/05/2021 1.0 (Each) for $50.0\n",
      "Package 14734411 sold on 07/06/2021 1.0 (Each) for $50.0\n",
      "Package 14734411 sold on 07/09/2021 1.0 (Each) for $50.0\n",
      "Package 14734411 sold on 07/09/2021 1.0 (Each) for $45.0\n",
      "Package 14734411 sold on 07/13/2021 1.0 (Each) for $42.5\n",
      "Package 14734411 sold on 07/13/2021 1.0 (Each) for $42.5\n",
      "Package 14734411 sold on 07/16/2021 1.0 (Each) for $45.0\n",
      "Package 14734411 sold on 07/16/2021 1.0 (Each) for $50.0\n",
      "Package 14734411 sold on 07/20/2021 1.0 (Each) for $40.0\n",
      "Package 14734411 sold on 07/25/2021 1.0 (Each) for $50.0\n",
      "Package 14734411 sold on 07/26/2021 1.0 (Each) for $42.5\n",
      "Package 14734411 sold on 07/27/2021 1.0 (Each) for $40.73\n",
      "Package 14734411 sold on 07/27/2021 1.0 (Each) for $45.0\n",
      "Package 14734411 sold on 07/30/2021 1.0 (Each) for $42.5\n",
      "Package 14734411 sold on 08/02/2021 1.0 (Each) for $42.5\n",
      "Package 14734411 sold on 08/02/2021 1.0 (Each) for $50.0\n",
      "Package 14734411 sold on 08/05/2021 1.0 (Each) for $42.5\n",
      "Package 14734411 sold on 08/23/2021 1.0 (Each) for $50.0\n",
      "Package 14734411 sold on 09/04/2021 1.0 (Each) for $50.0\n",
      "Package 14734411 has a remaining quantity of 9.0\n"
     ]
    }
   ],
   "source": [
    "# For debugging individual package histories\n",
    "import importlib\n",
    "importlib.reload(util)\n",
    "\n",
    "# Missing transactions?\n",
    "# 5189649\n",
    "\n",
    "# Using grams or missing transactions?\n",
    "\n",
    "PACKAGE_IDS = [\n",
    "    '14734411'\n",
    "]\n",
    "\n",
    "util.analyze_specific_package_histories(d, PACKAGE_IDS, params=ANALYSIS_PARAMS)"
   ]
  },
  {
   "cell_type": "code",
   "execution_count": 100,
   "id": "62e6af4a-8e8f-4321-8cfa-ee4353442b50",
   "metadata": {
    "tags": []
   },
   "outputs": [
    {
     "name": "stdout",
     "output_type": "stream",
     "text": [
      "Pct of # inventory matching: 99.35%\n",
      "Accuracy of quantities: 97.64%\n",
      "Pct of # inventory packages over-estimated: 7.69%\n",
      "Pct of # quantity over-estimated: 0.12%\n",
      "Avg quantity delta: 0.13\n",
      "Avg quantity: 5.55\n",
      "\n",
      "Num matching packages: 3539\n",
      "Num actual packages not computed: 23\n",
      "  but computed at some point: 0, e.g., 0.00% of non-computed packages\n",
      "  avg quantity from actual packages 0.00\n",
      "Num computed packages not in actual: 274\n",
      "  but in actual inventory at some point: 0\n",
      "\n",
      "Computed has these extra package IDs; first 10\n",
      "8973206; computed quantity 638\n",
      "3576925; computed quantity 97\n",
      "12664646; computed quantity 92\n",
      "3578093; computed quantity 84\n",
      "11763124; computed quantity 66\n",
      "17562729; computed quantity 64\n",
      "9821427; computed quantity 63\n",
      "11763119; computed quantity 53\n",
      "11677191; computed quantity 43\n",
      "17481959; computed quantity 40\n",
      "5262621; computed quantity 38\n",
      "\n",
      "Computed is missing these package IDs; first 10\n",
      "18851064; quantity: 10.0\n",
      "18851082; quantity: 10.0\n",
      "18851084; quantity: 10.0\n",
      "18862535; quantity: 10.0\n",
      "18861595; quantity: 10.0\n",
      "18982058; quantity: 10.0\n",
      "18851045; quantity: 10.0\n",
      "18851093; quantity: 10.0\n",
      "18863125; quantity: 10.0\n",
      "18865156; quantity: 10.0\n",
      "18865151; quantity: 10.0\n"
     ]
    }
   ],
   "source": [
    "import importlib\n",
    "importlib.reload(util)\n",
    "\n",
    "res = util.compare_inventory_dataframes(\n",
    "    computed=date_to_inventory_packages_dataframe[TODAY_DATE],\n",
    "    actual=from_packages_inventory_dataframe,\n",
    "    options={\n",
    "        'num_errors_to_show': 10,\n",
    "        'accept_computed_when_sold_out': True\n",
    "    }\n",
    ")\n",
    "\n",
    "# Two categories for: Num actual packages not computed: 229\n",
    "# 1. Actual has a package that we've never seen\n",
    "# 2. Actual has a package that we've sold out of, and that's why it's in the inventory\n",
    "\n",
    "# Two categories for: Num computed packages not in actual: 237\n",
    "# 1. We never saw the package in the actual inventory\n",
    "# 2. Actual inventory is sold out, but we think it's not sold out in computed"
   ]
  },
  {
   "cell_type": "code",
   "execution_count": 51,
   "id": "3a8844de-f684-4aca-a769-a90366b58d20",
   "metadata": {},
   "outputs": [
    {
     "data": {
      "text/html": [
       "<div>\n",
       "<style scoped>\n",
       "    .dataframe tbody tr th:only-of-type {\n",
       "        vertical-align: middle;\n",
       "    }\n",
       "\n",
       "    .dataframe tbody tr th {\n",
       "        vertical-align: top;\n",
       "    }\n",
       "\n",
       "    .dataframe thead th {\n",
       "        text-align: right;\n",
       "    }\n",
       "</style>\n",
       "<table border=\"1\" class=\"dataframe\">\n",
       "  <thead>\n",
       "    <tr style=\"text-align: right;\">\n",
       "      <th></th>\n",
       "      <th>identifier</th>\n",
       "      <th>type</th>\n",
       "      <th>package_id</th>\n",
       "      <th>package_label</th>\n",
       "      <th>quantity</th>\n",
       "    </tr>\n",
       "  </thead>\n",
       "  <tbody>\n",
       "  </tbody>\n",
       "</table>\n",
       "</div>"
      ],
      "text/plain": [
       "Empty DataFrame\n",
       "Columns: [identifier, type, package_id, package_label, quantity]\n",
       "Index: []"
      ]
     },
     "execution_count": 51,
     "metadata": {},
     "output_type": "execute_result"
    }
   ],
   "source": [
    "inactive_packages_df = pandas.read_sql_query(\n",
    "    util.are_packages_inactive_query(res['computed_extra_package_ids']),\n",
    "    engine\n",
    ")\n",
    "inactive_packages_df"
   ]
  },
  {
   "cell_type": "code",
   "execution_count": null,
   "id": "e113b6eb-5fdb-4678-aef0-ada64e52e10d",
   "metadata": {},
   "outputs": [],
   "source": []
  },
  {
   "cell_type": "code",
   "execution_count": 39,
   "id": "b49d76a3-de1b-4803-8dc1-665aec186020",
   "metadata": {},
   "outputs": [
    {
     "data": {
      "text/html": [
       "<div>\n",
       "<style scoped>\n",
       "    .dataframe tbody tr th:only-of-type {\n",
       "        vertical-align: middle;\n",
       "    }\n",
       "\n",
       "    .dataframe tbody tr th {\n",
       "        vertical-align: top;\n",
       "    }\n",
       "\n",
       "    .dataframe thead th {\n",
       "        text-align: right;\n",
       "    }\n",
       "</style>\n",
       "<table border=\"1\" class=\"dataframe\">\n",
       "  <thead>\n",
       "    <tr style=\"text-align: right;\">\n",
       "      <th></th>\n",
       "      <th>identifier</th>\n",
       "      <th>delivery_type</th>\n",
       "      <th>updated_at</th>\n",
       "      <th>package_id</th>\n",
       "      <th>package_label</th>\n",
       "      <th>shipped_quantity</th>\n",
       "      <th>shipper_wholesale_price</th>\n",
       "      <th>shipper_facility_name</th>\n",
       "      <th>shipper_facility_license_number</th>\n",
       "      <th>recipient_facility_name</th>\n",
       "      <th>recipient_facility_license_number</th>\n",
       "    </tr>\n",
       "  </thead>\n",
       "  <tbody>\n",
       "    <tr>\n",
       "      <th>0</th>\n",
       "      <td>None</td>\n",
       "      <td>OUTGOING_TO_PAYOR</td>\n",
       "      <td>2021-09-19 19:55:04.741000+00:00</td>\n",
       "      <td>8973206</td>\n",
       "      <td>1A40603000042E6000000001</td>\n",
       "      <td>1573.0</td>\n",
       "      <td>None</td>\n",
       "      <td>THE HEALING HEART COLLECTIVE</td>\n",
       "      <td>C11-0000059-LIC</td>\n",
       "      <td>ROYAL APOTHECARY L.L.C.</td>\n",
       "      <td>C10-0000596-LIC</td>\n",
       "    </tr>\n",
       "    <tr>\n",
       "      <th>1</th>\n",
       "      <td>RA</td>\n",
       "      <td>INCOMING_FROM_VENDOR</td>\n",
       "      <td>2021-09-19 19:55:04.822000+00:00</td>\n",
       "      <td>8973206</td>\n",
       "      <td>1A40603000042E6000000001</td>\n",
       "      <td>1573.0</td>\n",
       "      <td>None</td>\n",
       "      <td>THE HEALING HEART COLLECTIVE</td>\n",
       "      <td>C11-0000059-LIC</td>\n",
       "      <td>ROYAL APOTHECARY L.L.C.</td>\n",
       "      <td>C10-0000596-LIC</td>\n",
       "    </tr>\n",
       "  </tbody>\n",
       "</table>\n",
       "</div>"
      ],
      "text/plain": [
       "  identifier         delivery_type                       updated_at  \\\n",
       "0       None     OUTGOING_TO_PAYOR 2021-09-19 19:55:04.741000+00:00   \n",
       "1         RA  INCOMING_FROM_VENDOR 2021-09-19 19:55:04.822000+00:00   \n",
       "\n",
       "  package_id             package_label  shipped_quantity  \\\n",
       "0    8973206  1A40603000042E6000000001            1573.0   \n",
       "1    8973206  1A40603000042E6000000001            1573.0   \n",
       "\n",
       "  shipper_wholesale_price         shipper_facility_name  \\\n",
       "0                    None  THE HEALING HEART COLLECTIVE   \n",
       "1                    None  THE HEALING HEART COLLECTIVE   \n",
       "\n",
       "  shipper_facility_license_number  recipient_facility_name  \\\n",
       "0                 C11-0000059-LIC  ROYAL APOTHECARY L.L.C.   \n",
       "1                 C11-0000059-LIC  ROYAL APOTHECARY L.L.C.   \n",
       "\n",
       "  recipient_facility_license_number  \n",
       "0                   C10-0000596-LIC  \n",
       "1                   C10-0000596-LIC  "
      ]
     },
     "execution_count": 39,
     "metadata": {},
     "output_type": "execute_result"
    }
   ],
   "source": [
    "# Find transfer packages in data warehouse by package_id.\n",
    "\n",
    "def create_transfer_packages_by_package_id_query(package_id):\n",
    "    return f\"\"\"\n",
    "        select\n",
    "            companies.identifier,\n",
    "            company_deliveries.delivery_type,\n",
    "            company_deliveries.updated_at,\n",
    "            metrc_transfer_packages.package_id,\n",
    "            metrc_transfer_packages.package_label,\n",
    "            metrc_transfer_packages.shipped_quantity,\n",
    "            metrc_transfer_packages.shipper_wholesale_price,\n",
    "            metrc_transfers.shipper_facility_name,\n",
    "            metrc_transfers.shipper_facility_license_number,\n",
    "            metrc_deliveries.recipient_facility_name,\n",
    "            metrc_deliveries.recipient_facility_license_number\n",
    "        from\n",
    "            metrc_transfer_packages\n",
    "            inner join metrc_deliveries on metrc_transfer_packages.delivery_row_id = metrc_deliveries.id\n",
    "            inner join metrc_transfers on metrc_deliveries.transfer_row_id = metrc_transfers.id\n",
    "            inner join company_deliveries on metrc_transfers.id = company_deliveries.transfer_row_id\n",
    "            inner join companies on company_deliveries.company_id = companies.id\n",
    "        where\n",
    "            True\n",
    "            and metrc_transfer_packages.package_id = '{package_id}'\n",
    "    \"\"\"\n",
    "\n",
    "transfer_packages_by_package_id_query = create_transfer_packages_by_package_id_query(\n",
    "    8973206)\n",
    "transfer_packages_by_package_id_dataframe = pandas.read_sql_query(transfer_packages_by_package_id_query, engine)\n",
    "transfer_packages_by_package_id_dataframe"
   ]
  },
  {
   "cell_type": "code",
   "execution_count": 18,
   "id": "ed3893b4-fa29-49de-84da-ea10a6ae15a5",
   "metadata": {},
   "outputs": [
    {
     "data": {
      "text/html": [
       "<div>\n",
       "<style scoped>\n",
       "    .dataframe tbody tr th:only-of-type {\n",
       "        vertical-align: middle;\n",
       "    }\n",
       "\n",
       "    .dataframe tbody tr th {\n",
       "        vertical-align: top;\n",
       "    }\n",
       "\n",
       "    .dataframe thead th {\n",
       "        text-align: right;\n",
       "    }\n",
       "</style>\n",
       "<table border=\"1\" class=\"dataframe\">\n",
       "  <thead>\n",
       "    <tr style=\"text-align: right;\">\n",
       "      <th></th>\n",
       "      <th>identifier</th>\n",
       "      <th>package_id</th>\n",
       "      <th>package_label</th>\n",
       "      <th>quantity</th>\n",
       "    </tr>\n",
       "  </thead>\n",
       "  <tbody>\n",
       "    <tr>\n",
       "      <th>0</th>\n",
       "      <td>RA</td>\n",
       "      <td>17481729</td>\n",
       "      <td>1A4060300003BC9000058384</td>\n",
       "      <td>1.0</td>\n",
       "    </tr>\n",
       "  </tbody>\n",
       "</table>\n",
       "</div>"
      ],
      "text/plain": [
       "  identifier package_id             package_label  quantity\n",
       "0         RA   17481729  1A4060300003BC9000058384       1.0"
      ]
     },
     "execution_count": 18,
     "metadata": {},
     "output_type": "execute_result"
    }
   ],
   "source": [
    "# Find packages in data warehouse by package_id.\n",
    "\n",
    "def create_packages_by_package_id_query(package_id):\n",
    "    return f\"\"\"\n",
    "        select\n",
    "            companies.identifier,\n",
    "            metrc_packages.package_id,\n",
    "            metrc_packages.package_label,\n",
    "            metrc_packages.quantity\n",
    "        from\n",
    "            metrc_packages\n",
    "            inner join companies on metrc_packages.company_id = companies.id\n",
    "        where\n",
    "            True\n",
    "            and metrc_packages.package_id = '{package_id}'\n",
    "    \"\"\"\n",
    "\n",
    "packages_by_package_id_query = create_packages_by_package_id_query(17481729)\n",
    "packages_by_package_id_dataframe = pandas.read_sql_query(packages_by_package_id_query, engine)\n",
    "packages_by_package_id_dataframe"
   ]
  },
  {
   "cell_type": "code",
   "execution_count": 33,
   "id": "57fff6ae-4e9e-4b40-9a2e-b9c032737e96",
   "metadata": {
    "tags": []
   },
   "outputs": [
    {
     "name": "stdout",
     "output_type": "stream",
     "text": [
      "\n",
      "Package 5751573 arrived on 07/13/2020 with quantity 280 and price $350.0. {'package_row_id': '4544aa24-1a3d-494b-b312-de17db773e79', 'delivery_type': 'INCOMING_FROM_VENDOR', 'license_number': 'C10-0000596-LIC', 'manifest_number': '0000767939', 'created_date': datetime.date(2020, 7, 13), 'received_datetime': Timestamp('2020-07-15 00:56:06+0000', tz='UTC'), 'shipper_facility_license_number': 'C11-0000349-LIC', 'shipper_facility_name': 'MISSION HILLS PATIENTS COLLECTIVE', 'recipient_facility_license_number': 'C10-0000596-LIC', 'recipient_facility_name': 'ROYAL APOTHECARY L.L.C.', 'shipment_type_name': 'Wholesale Manifest', 'shipment_transaction_type': 'Wholesale', 'package_id': '5751573', 'package_label': '1A4060300003D59000009129', 'type': 'transfer_incoming', 'shipment_package_state': 'Accepted', 'is_testing_sample': False, 'is_trade_sample': False, 'product_category_name': 'Flower', 'product_name': 'Rich & Ruthless - CPT Kush Ride (28 GM Flower - SMS) (#112-CPTK-YF0420) #1884', 'package_lab_results_status': 'passed', 'shipper_wholesale_price': 350.0, 'shipped_quantity': 280.0, 'shipped_unit_of_measure': 'Grams', 'received_quantity': 280.0, 'received_unit_of_measure': 'Grams', 'item_unit_weight': nan, 'item_unit_weight_unit_of_measure_name': None}\n",
      "Package 5751573 sold on 07/18/2020 28.0 (Grams) for $62.55\n",
      "Package 5751573 sold on 07/18/2020 28.0 (Grams) for $62.55\n",
      "Package 5751573 sold on 07/18/2020 28.0 (Grams) for $62.55\n",
      "Package 5751573 sold on 07/21/2020 28.0 (Grams) for $70.55\n",
      "Package 5751573 sold on 07/22/2020 28.0 (Grams) for $70.55\n",
      "Package 5751573 sold on 07/24/2020 28.0 (Grams) for $80.0\n",
      "Package 5751573 sold on 08/01/2020 28.0 (Grams) for $80.0\n",
      "Package 5751573 sold on 08/14/2020 28.0 (Grams) for $80.0\n",
      "Package 5751573 sold on 08/29/2020 28.0 (Grams) for $68.0\n",
      "Package 5751573 sold on 09/01/2020 28.0 (Grams) for $68.0\n",
      "Package 5751573 marked as SOLD since it is more than 100.0% sold\n",
      "Package 5751573 took 50 days to sell with profit margin 50.34%\n",
      "Package 5751573 sold on 09/25/2020 28.0 (Grams) for $72.0\n",
      "Package 5751573 took 50 days to sell with profit margin 54.94%\n",
      "Package 5751573 has a remaining quantity of -28.0\n"
     ]
    }
   ],
   "source": []
  },
  {
   "cell_type": "code",
   "execution_count": 61,
   "id": "3f0852b3-815e-497c-950e-7490beb95cda",
   "metadata": {},
   "outputs": [],
   "source": [
    "from bespoke.metrc.common import metrc_common_util\n",
    "\n",
    "rest = metrc_common_util.get_rest_helper_for_debug(\n",
    "    us_state='CA',\n",
    "    license_number='C10-0000596-LIC'\n",
    ")"
   ]
  },
  {
   "cell_type": "code",
   "execution_count": 62,
   "id": "543e3c37-b0a8-493d-a265-b05462601b14",
   "metadata": {},
   "outputs": [],
   "source": [
    "resp = rest.get('/sales/v1/receipts/36748697')"
   ]
  },
  {
   "cell_type": "code",
   "execution_count": 66,
   "id": "a7c4e2e6-5594-401c-aef3-e9600559586e",
   "metadata": {},
   "outputs": [
    {
     "data": {
      "text/plain": [
       "{'Id': 36748697,\n",
       " 'ReceiptNumber': '0036748697',\n",
       " 'SalesDateTime': '2020-07-18T15:48:25.790',\n",
       " 'SalesCustomerType': 'Consumer',\n",
       " 'PatientLicenseNumber': '',\n",
       " 'CaregiverLicenseNumber': '',\n",
       " 'IdentificationMethod': '',\n",
       " 'TotalPackages': 1,\n",
       " 'TotalPrice': 62.55,\n",
       " 'Transactions': [{'PackageId': 5751573,\n",
       "   'PackageLabel': '1A4060300003D59000009129',\n",
       "   'ProductName': 'Rich & Ruthless - CPT Kush Ride (28 GM Flower - SMS) (#112-CPTK-YF0420) #1884',\n",
       "   'ProductCategoryName': 'Flower',\n",
       "   'ItemStrainName': 'CPT Kush Ride',\n",
       "   'ItemUnitCbdPercent': None,\n",
       "   'ItemUnitCbdContent': None,\n",
       "   'ItemUnitCbdContentUnitOfMeasureName': None,\n",
       "   'ItemUnitCbdContentDose': None,\n",
       "   'ItemUnitCbdContentDoseUnitOfMeasureName': None,\n",
       "   'ItemUnitThcPercent': None,\n",
       "   'ItemUnitThcContent': None,\n",
       "   'ItemUnitThcContentUnitOfMeasureName': None,\n",
       "   'ItemUnitThcContentDose': None,\n",
       "   'ItemUnitThcContentDoseUnitOfMeasureName': None,\n",
       "   'ItemUnitVolume': None,\n",
       "   'ItemUnitVolumeUnitOfMeasureName': None,\n",
       "   'ItemUnitWeight': None,\n",
       "   'ItemUnitWeightUnitOfMeasureName': None,\n",
       "   'ItemServingSize': '',\n",
       "   'ItemSupplyDurationDays': None,\n",
       "   'ItemUnitQuantity': None,\n",
       "   'ItemUnitQuantityUnitOfMeasureName': None,\n",
       "   'QuantitySold': 28.0,\n",
       "   'UnitOfMeasureName': 'Grams',\n",
       "   'UnitOfMeasureAbbreviation': 'g',\n",
       "   'TotalPrice': 62.55,\n",
       "   'SalesDeliveryState': None,\n",
       "   'ArchivedDate': None,\n",
       "   'RecordedDateTime': '0001-01-01T00:00:00+00:00',\n",
       "   'RecordedByUserName': None,\n",
       "   'LastModified': '2020-07-18T22:48:27+00:00'}],\n",
       " 'IsFinal': False,\n",
       " 'ArchivedDate': None,\n",
       " 'RecordedDateTime': '2020-07-18T22:48:27+00:00',\n",
       " 'RecordedByUserName': 'Jason Lee',\n",
       " 'LastModified': '2020-07-18T22:48:27+00:00'}"
      ]
     },
     "execution_count": 66,
     "metadata": {},
     "output_type": "execute_result"
    }
   ],
   "source": [
    "json.loads(resp.content)"
   ]
  },
  {
   "cell_type": "code",
   "execution_count": 69,
   "id": "ef1888bb-b83e-4b68-8716-4eb9926d395e",
   "metadata": {},
   "outputs": [],
   "source": [
    "resp2 = rest.get('/sales/v1/receipts/36803933')"
   ]
  },
  {
   "cell_type": "code",
   "execution_count": 70,
   "id": "183f7efe-f844-4113-85b4-ed8782197ed6",
   "metadata": {},
   "outputs": [
    {
     "data": {
      "text/plain": [
       "{'Id': 36803933,\n",
       " 'ReceiptNumber': '0036803933',\n",
       " 'SalesDateTime': '2020-07-18T19:24:11.890',\n",
       " 'SalesCustomerType': 'Consumer',\n",
       " 'PatientLicenseNumber': '',\n",
       " 'CaregiverLicenseNumber': '',\n",
       " 'IdentificationMethod': '',\n",
       " 'TotalPackages': 1,\n",
       " 'TotalPrice': 62.55,\n",
       " 'Transactions': [{'PackageId': 5751573,\n",
       "   'PackageLabel': '1A4060300003D59000009129',\n",
       "   'ProductName': 'Rich & Ruthless - CPT Kush Ride (28 GM Flower - SMS) (#112-CPTK-YF0420) #1884',\n",
       "   'ProductCategoryName': 'Flower',\n",
       "   'ItemStrainName': 'CPT Kush Ride',\n",
       "   'ItemUnitCbdPercent': None,\n",
       "   'ItemUnitCbdContent': None,\n",
       "   'ItemUnitCbdContentUnitOfMeasureName': None,\n",
       "   'ItemUnitCbdContentDose': None,\n",
       "   'ItemUnitCbdContentDoseUnitOfMeasureName': None,\n",
       "   'ItemUnitThcPercent': None,\n",
       "   'ItemUnitThcContent': None,\n",
       "   'ItemUnitThcContentUnitOfMeasureName': None,\n",
       "   'ItemUnitThcContentDose': None,\n",
       "   'ItemUnitThcContentDoseUnitOfMeasureName': None,\n",
       "   'ItemUnitVolume': None,\n",
       "   'ItemUnitVolumeUnitOfMeasureName': None,\n",
       "   'ItemUnitWeight': None,\n",
       "   'ItemUnitWeightUnitOfMeasureName': None,\n",
       "   'ItemServingSize': '',\n",
       "   'ItemSupplyDurationDays': None,\n",
       "   'ItemUnitQuantity': None,\n",
       "   'ItemUnitQuantityUnitOfMeasureName': None,\n",
       "   'QuantitySold': 28.0,\n",
       "   'UnitOfMeasureName': 'Grams',\n",
       "   'UnitOfMeasureAbbreviation': 'g',\n",
       "   'TotalPrice': 62.55,\n",
       "   'SalesDeliveryState': None,\n",
       "   'ArchivedDate': None,\n",
       "   'RecordedDateTime': '0001-01-01T00:00:00+00:00',\n",
       "   'RecordedByUserName': None,\n",
       "   'LastModified': '2020-07-19T02:24:14+00:00'}],\n",
       " 'IsFinal': False,\n",
       " 'ArchivedDate': None,\n",
       " 'RecordedDateTime': '2020-07-19T02:24:14+00:00',\n",
       " 'RecordedByUserName': 'Jason Lee',\n",
       " 'LastModified': '2020-07-19T02:24:14+00:00'}"
      ]
     },
     "execution_count": 70,
     "metadata": {},
     "output_type": "execute_result"
    }
   ],
   "source": [
    "json.loads(resp2.content)"
   ]
  },
  {
   "cell_type": "code",
   "execution_count": null,
   "id": "09b26d1f-0763-4ce4-a368-95d9a6d3a03e",
   "metadata": {},
   "outputs": [],
   "source": []
  }
 ],
 "metadata": {
  "kernelspec": {
   "display_name": "Python 3",
   "language": "python",
   "name": "python3"
  },
  "language_info": {
   "codemirror_mode": {
    "name": "ipython",
    "version": 3
   },
   "file_extension": ".py",
   "mimetype": "text/x-python",
   "name": "python",
   "nbconvert_exporter": "python",
   "pygments_lexer": "ipython3",
   "version": "3.7.7"
  }
 },
 "nbformat": 4,
 "nbformat_minor": 5
}
