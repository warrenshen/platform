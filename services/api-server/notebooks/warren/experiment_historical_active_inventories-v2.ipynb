{
 "cells": [
  {
   "cell_type": "code",
   "execution_count": 426,
   "id": "170c442e-f0fb-4421-a3bf-5f87863f8277",
   "metadata": {},
   "outputs": [],
   "source": [
    "import json\n",
    "import os\n",
    "import numpy\n",
    "import pandas\n",
    "import pyarrow\n",
    "import sys\n",
    "\n",
    "from datetime import date\n",
    "from os import path\n",
    "from dotenv import load_dotenv\n",
    "from sqlalchemy import create_engine\n",
    "\n",
    "# Steps to install\n",
    "# 1. pip install sqlalchemy-bigquery google-cloud-bigquery-storage pyarrow\n",
    "# 2. Copy the credentials file to wherever you set BIGQUERY_CREDENTIALS_PATH to\n",
    "\n",
    "load_dotenv(verbose=True)\n",
    "BIGQUERY_CREDENTIALS_PATH = os.environ.get('BIGQUERY_CREDENTIALS_PATH')"
   ]
  },
  {
   "cell_type": "code",
   "execution_count": 427,
   "id": "38f9a288-03bc-43c5-82f8-a7c5a55f7286",
   "metadata": {},
   "outputs": [
    {
     "name": "stdout",
     "output_type": "stream",
     "text": [
      "The autoreload extension is already loaded. To reload it, use:\n",
      "  %reload_ext autoreload\n"
     ]
    }
   ],
   "source": [
    "sys.path.append(path.realpath(path.join(os.getcwd(), \"../core\")))\n",
    "import create_queries\n",
    "%load_ext autoreload\n",
    "%autoreload 2"
   ]
  },
  {
   "cell_type": "code",
   "execution_count": 428,
   "id": "fbfe06bc-cc79-41cc-814e-1d2166177496",
   "metadata": {},
   "outputs": [
    {
     "name": "stdout",
     "output_type": "stream",
     "text": [
      "Today is 11/02/2021\n"
     ]
    }
   ],
   "source": [
    "COMPANY_NAME = 'BBF'\n",
    "COMPANY_IDENTIFIER = 'BBF'\n",
    "TRANSFER_PACKAGES_START_DATE = '2019-01-01'\n",
    "SALES_TRANSACTIONS_START_DATE = '2019-01-01'\n",
    "INVENTORY_DATES = [\n",
    "    '09/30/2020',\n",
    "    '10/31/2020',\n",
    "    '11/30/2020',\n",
    "    '12/31/2020',\n",
    "    '01/31/2021',\n",
    "    '02/28/2021',\n",
    "    '03/31/2021',\n",
    "    '04/30/2021',\n",
    "    '05/31/2021',\n",
    "    '06/30/2021',\n",
    "    '07/31/2021',\n",
    "    '08/31/2021',\n",
    "    '09/30/2021',\n",
    "]\n",
    "ANALYSIS_PARAMS = {\n",
    "    'sold_threshold': 1.0\n",
    "}\n",
    "TODAY_DATE = date.today().strftime('%m/%d/%Y')\n",
    "INVENTORY_DATES.append(TODAY_DATE)\n",
    "print('Today is {}'.format(TODAY_DATE))"
   ]
  },
  {
   "cell_type": "code",
   "execution_count": 429,
   "id": "d9eccd84-a327-4299-8876-456c6c9f574c",
   "metadata": {},
   "outputs": [],
   "source": [
    "# Download packages, sales transactions, incoming / outgoing tranfers\n",
    "\n",
    "company_incoming_transfer_packages_query = create_queries.create_company_incoming_transfer_packages_query(COMPANY_IDENTIFIER, TRANSFER_PACKAGES_START_DATE)\n",
    "company_outgoing_transfer_packages_query = create_queries.create_company_outgoing_transfer_packages_query(COMPANY_IDENTIFIER, TRANSFER_PACKAGES_START_DATE)\n",
    "company_sales_transactions_query = create_queries.create_company_sales_transactions_query(COMPANY_IDENTIFIER, SALES_TRANSACTIONS_START_DATE)\n",
    "company_inventory_packages_query = create_queries.create_company_inventory_packages_query(\n",
    "    COMPANY_IDENTIFIER, include_quantity_zero=True)\n",
    "\n",
    "engine = create_engine('bigquery://bespoke-financial/ProdMetrcData', credentials_path=os.path.expanduser(BIGQUERY_CREDENTIALS_PATH))\n",
    "company_incoming_transfer_packages_dataframe = pandas.read_sql_query(company_incoming_transfer_packages_query, engine)\n",
    "company_outgoing_transfer_packages_dataframe = pandas.read_sql_query(company_outgoing_transfer_packages_query, engine)\n",
    "company_sales_transactions_dataframe = pandas.read_sql_query(company_sales_transactions_query, engine)\n",
    "company_inventory_packages_dataframe = pandas.read_sql_query(company_inventory_packages_query, engine)"
   ]
  },
  {
   "cell_type": "code",
   "execution_count": 430,
   "id": "b6d72201-f200-439a-832e-610e06d5729d",
   "metadata": {},
   "outputs": [
    {
     "data": {
      "text/plain": [
       "0"
      ]
     },
     "execution_count": 430,
     "metadata": {},
     "output_type": "execute_result"
    }
   ],
   "source": [
    "company_unknown_transfer_packages_query = create_queries.create_company_unknown_transfer_packages_query(COMPANY_IDENTIFIER, TRANSFER_PACKAGES_START_DATE)\n",
    "unknown_transfers_df = pandas.read_sql_query(company_unknown_transfer_packages_query, engine)\n",
    "len(unknown_transfers_df)\n"
   ]
  },
  {
   "cell_type": "code",
   "execution_count": 431,
   "id": "106a034d-fb76-4e8e-bce6-4e3b525b175e",
   "metadata": {},
   "outputs": [
    {
     "data": {
      "text/plain": [
       "<module 'util.active_inventory_util' from '/Users/davidlluncor/GitHub/platform/services/api-server/scripts/analysis/util/active_inventory_util.py'>"
      ]
     },
     "execution_count": 431,
     "metadata": {},
     "output_type": "execute_result"
    }
   ],
   "source": [
    "sys.path.append(path.realpath(path.join(os.getcwd(), \"../../scripts/analysis\")))\n",
    "sys.path.append(path.realpath(path.join(os.getcwd(), \"../../src\")))\n",
    "\n",
    "from util import active_inventory_util as util\n",
    "\n",
    "import importlib\n",
    "importlib.reload(util)"
   ]
  },
  {
   "cell_type": "code",
   "execution_count": 432,
   "id": "c2af6220-2ebc-4447-a17e-0e3d9f3a7bbd",
   "metadata": {},
   "outputs": [],
   "source": [
    "d = util.Download()\n",
    "d.download_dataframes(\n",
    "    incoming_transfer_packages_dataframe=company_incoming_transfer_packages_dataframe,\n",
    "    outgoing_transfer_packages_dataframe=company_outgoing_transfer_packages_dataframe,\n",
    "    sales_transactions_dataframe=company_sales_transactions_dataframe,\n",
    "    inventory_packages_dataframe=company_inventory_packages_dataframe,\n",
    "    engine=engine\n",
    ")"
   ]
  },
  {
   "cell_type": "code",
   "execution_count": 433,
   "id": "4194e648-7af7-4a3d-adc0-0071fdc14ee4",
   "metadata": {},
   "outputs": [
    {
     "name": "stdout",
     "output_type": "stream",
     "text": [
      "11 - Number of parent packages\n",
      "\n",
      "31 - Child packages with parents\n",
      "161 - orphans; child packages with (no source product batch num)\n",
      "13 - no matching parent; child packages that have a source batch number, but no parent\n"
     ]
    }
   ],
   "source": [
    "util.run_orphan_analysis(d)"
   ]
  },
  {
   "cell_type": "code",
   "execution_count": 435,
   "id": "5fbbbfe7-87c0-4409-9e6a-b6dc2b63ce54",
   "metadata": {
    "tags": []
   },
   "outputs": [
    {
     "name": "stdout",
     "output_type": "stream",
     "text": [
      "Only outgoing: 43\n",
      "Only incoming: 135\n",
      "Only sold, no incoming: 174\n",
      "In and out: 25\n",
      "In and sold at least once 565\n",
      "In and sold many times 540\n",
      "\n",
      " Num parent packages: 11\n",
      " num matched child packages: 31\n",
      "Total pkgs: 930\n",
      "Wrote result to out/BBF_inventory_by_month.xls\n",
      "Excluded 233 / 930 packages from consideration (25.05%)\n",
      "  MISSING_INCOMING: 217 times\n",
      "  CHILD_MISSING_INVENTORY_PACKAGE: 16 times\n"
     ]
    }
   ],
   "source": [
    "# Check for how many packages are excluded from analysis,\n",
    "# seeing less then 2% is really good\n",
    "q = util.Query()\n",
    "q.inventory_dates = INVENTORY_DATES\n",
    "q.company_name = COMPANY_NAME\n",
    "\n",
    "id_to_history = util.get_histories(d)\n",
    "util.print_counts(id_to_history)\n",
    "util.create_inventory_xlsx(id_to_history, q, params=ANALYSIS_PARAMS)"
   ]
  },
  {
   "cell_type": "code",
   "execution_count": null,
   "id": "4de368e2-44ab-4885-86d2-54b989f091f2",
   "metadata": {
    "tags": []
   },
   "outputs": [],
   "source": [
    "import importlib\n",
    "importlib.reload(util)\n",
    "\n",
    "INVENTORY_DATES = [TODAY_DATE]\n",
    "\n",
    "date_to_inventory_packages_dataframe = {}\n",
    "\n",
    "id_to_history = util.get_histories(d)\n",
    "\n",
    "for inventory_date in INVENTORY_DATES:\n",
    "    computed_inventory_package_records = util.create_inventory_dataframe_by_date(\n",
    "        id_to_history, inventory_date, params=ANALYSIS_PARAMS)    \n",
    "    computed_inventory_packages_dataframe = pandas.DataFrame(\n",
    "        computed_inventory_package_records,\n",
    "        columns=util.get_inventory_column_names()\n",
    "    )\n",
    "    date_to_inventory_packages_dataframe[inventory_date] = computed_inventory_packages_dataframe"
   ]
  },
  {
   "cell_type": "code",
   "execution_count": 443,
   "id": "896c2893-bc7b-4295-84e3-fd4a11632b45",
   "metadata": {},
   "outputs": [],
   "source": [
    "from_packages_inventory_dataframe = company_inventory_packages_dataframe[[\n",
    "    'package_id',\n",
    "    'packaged_date',\n",
    "    'unit_of_measure',\n",
    "    'product_category_name',\n",
    "    'product_name',\n",
    "    'quantity',\n",
    "]].sort_values('package_id')\n",
    "\n",
    "package_id_to_actual_row = {}\n",
    "for index, row in from_packages_inventory_dataframe.iterrows():\n",
    "    package_id_to_actual_row[str(row['package_id'])] = row"
   ]
  },
  {
   "cell_type": "code",
   "execution_count": 389,
   "id": "3ef448ed-e183-49f6-afb1-b65d1c60b68a",
   "metadata": {},
   "outputs": [
    {
     "name": "stdout",
     "output_type": "stream",
     "text": [
      "! Missing in metrc_packages\n",
      "Excluding package 1195820 because it doesnt have an incoming package\n"
     ]
    }
   ],
   "source": [
    "# For debugging individual package histories\n",
    "# You have to run the above block to reload the package_id_to_history array\n",
    "\n",
    "import importlib\n",
    "importlib.reload(util)\n",
    "\n",
    "# Missing transactions?\n",
    "# 5189649\n",
    "\n",
    "# Using grams or missing transactions?\n",
    "#WARN: seeing an incoming package for #19083030 with no received_datetime\n",
    "#WARN: seeing an incoming package for #19087962 with no received_datetime\n",
    "#WARN: seeing an incoming package for #19083120 with no received_datetime\n",
    "#WARN: seeing an incoming package for #19083028 with no received_datetime\n",
    "#Exception: FATAL error, could not find a transfer to insert a tx with date\n",
    "#2021-10-22 11:58:45+00:00 into for package 18218608\n",
    "\n",
    "PACKAGE_IDS = [\n",
    "    '1195820'\n",
    "]\n",
    "\n",
    "util.analyze_specific_package_histories(\n",
    "    d, package_id_to_actual_row, PACKAGE_IDS, params=ANALYSIS_PARAMS)"
   ]
  },
  {
   "cell_type": "code",
   "execution_count": 444,
   "id": "62e6af4a-8e8f-4321-8cfa-ee4353442b50",
   "metadata": {
    "tags": []
   },
   "outputs": [
    {
     "name": "stdout",
     "output_type": "stream",
     "text": [
      "Pct of # inventory matching: 73.42% (174 / 237)\n",
      "Accuracy of quantities: 93.42%\n",
      "Pct of # inventory packages over-estimated: 0.00%\n",
      "Pct of # quantity over-estimated: 0.00%\n",
      "Avg quantity delta: 10.24\n",
      "Avg quantity: 155.68\n",
      "\n",
      "Num matching packages: 174\n",
      "Num actual packages not computed: 63\n",
      "  but computed at some point: 0, e.g., 0.00% of non-computed packages\n",
      "  avg quantity from actual packages 0.00\n",
      "Num computed packages not in actual: 0\n",
      "  but in actual inventory at some point: 0\n",
      "\n",
      "Computed has these extra package IDs; first 10\n",
      "\n",
      "Computed is missing these package IDs; first 10\n",
      "2818807: actual quantity 1000.0 (Grams)\n",
      "2618260: actual quantity 805.6 (Grams)\n",
      "2408926: actual quantity 375.5 (Grams)\n",
      "2681730: actual quantity 357.0 (Grams)\n",
      "2312110: actual quantity 329.8 (Grams)\n",
      "2312109: actual quantity 321.2 (Grams)\n",
      "2682267: actual quantity 304.5 (Grams)\n",
      "2229543: actual quantity 271.3 (Grams)\n",
      "2818701: actual quantity 255.5 (Grams)\n",
      "2817078: actual quantity 249.9 (Grams)\n",
      "2662709: actual quantity 249.0 (Grams)\n"
     ]
    }
   ],
   "source": [
    "import importlib\n",
    "importlib.reload(util)\n",
    "\n",
    "res = util.compare_inventory_dataframes(\n",
    "    computed=date_to_inventory_packages_dataframe[TODAY_DATE],\n",
    "    actual=from_packages_inventory_dataframe,\n",
    "    options={\n",
    "        'num_errors_to_show': 10,\n",
    "        'accept_computed_when_sold_out': True\n",
    "    }\n",
    ")\n",
    "\n",
    "# Two categories for: Num actual packages not computed: 229\n",
    "# 1. Actual has a package that we've never seen\n",
    "# 2. Actual has a package that we've sold out of, and that's why it's in the inventory\n",
    "\n",
    "# Two categories for: Num computed packages not in actual: 237\n",
    "# 1. We never saw the package in the actual inventory\n",
    "# 2. Actual inventory is sold out, but we think it's not sold out in computed"
   ]
  },
  {
   "cell_type": "code",
   "execution_count": 270,
   "id": "3a8844de-f684-4aca-a769-a90366b58d20",
   "metadata": {},
   "outputs": [
    {
     "data": {
      "text/html": [
       "<div>\n",
       "<style scoped>\n",
       "    .dataframe tbody tr th:only-of-type {\n",
       "        vertical-align: middle;\n",
       "    }\n",
       "\n",
       "    .dataframe tbody tr th {\n",
       "        vertical-align: top;\n",
       "    }\n",
       "\n",
       "    .dataframe thead th {\n",
       "        text-align: right;\n",
       "    }\n",
       "</style>\n",
       "<table border=\"1\" class=\"dataframe\">\n",
       "  <thead>\n",
       "    <tr style=\"text-align: right;\">\n",
       "      <th></th>\n",
       "      <th>identifier</th>\n",
       "      <th>license_number</th>\n",
       "      <th>type</th>\n",
       "      <th>package_id</th>\n",
       "      <th>package_label</th>\n",
       "      <th>product_category_name</th>\n",
       "      <th>product_name</th>\n",
       "      <th>archiveddate</th>\n",
       "      <th>finisheddate</th>\n",
       "      <th>quantity</th>\n",
       "    </tr>\n",
       "  </thead>\n",
       "  <tbody>\n",
       "    <tr>\n",
       "      <th>0</th>\n",
       "      <td>HPCC</td>\n",
       "      <td>C10-0000064-LIC</td>\n",
       "      <td>inactive</td>\n",
       "      <td>766095</td>\n",
       "      <td>1A406030000339D000000028</td>\n",
       "      <td>Leaf</td>\n",
       "      <td>wedding crasher trim</td>\n",
       "      <td>None</td>\n",
       "      <td>2020-02-22</td>\n",
       "      <td>0.0</td>\n",
       "    </tr>\n",
       "  </tbody>\n",
       "</table>\n",
       "</div>"
      ],
      "text/plain": [
       "  identifier   license_number      type package_id             package_label  \\\n",
       "0       HPCC  C10-0000064-LIC  inactive     766095  1A406030000339D000000028   \n",
       "\n",
       "  product_category_name          product_name archiveddate finisheddate  \\\n",
       "0                  Leaf  wedding crasher trim         None   2020-02-22   \n",
       "\n",
       "   quantity  \n",
       "0       0.0  "
      ]
     },
     "execution_count": 270,
     "metadata": {},
     "output_type": "execute_result"
    }
   ],
   "source": [
    "inactive_packages_df = pandas.read_sql_query(\n",
    "    util.are_packages_inactive_query(['766095']),\n",
    "    engine\n",
    ")\n",
    "inactive_packages_df"
   ]
  },
  {
   "cell_type": "code",
   "execution_count": null,
   "id": "e113b6eb-5fdb-4678-aef0-ada64e52e10d",
   "metadata": {},
   "outputs": [],
   "source": []
  },
  {
   "cell_type": "code",
   "execution_count": 273,
   "id": "b49d76a3-de1b-4803-8dc1-665aec186020",
   "metadata": {},
   "outputs": [
    {
     "data": {
      "text/html": [
       "<div>\n",
       "<style scoped>\n",
       "    .dataframe tbody tr th:only-of-type {\n",
       "        vertical-align: middle;\n",
       "    }\n",
       "\n",
       "    .dataframe tbody tr th {\n",
       "        vertical-align: top;\n",
       "    }\n",
       "\n",
       "    .dataframe thead th {\n",
       "        text-align: right;\n",
       "    }\n",
       "</style>\n",
       "<table border=\"1\" class=\"dataframe\">\n",
       "  <thead>\n",
       "    <tr style=\"text-align: right;\">\n",
       "      <th></th>\n",
       "      <th>identifier</th>\n",
       "      <th>delivery_type</th>\n",
       "      <th>updated_at</th>\n",
       "      <th>package_id</th>\n",
       "      <th>package_label</th>\n",
       "      <th>shipped_quantity</th>\n",
       "      <th>shipper_wholesale_price</th>\n",
       "      <th>shipper_facility_name</th>\n",
       "      <th>shipper_facility_license_number</th>\n",
       "      <th>recipient_facility_name</th>\n",
       "      <th>recipient_facility_license_number</th>\n",
       "    </tr>\n",
       "  </thead>\n",
       "  <tbody>\n",
       "    <tr>\n",
       "      <th>0</th>\n",
       "      <td>HPCC</td>\n",
       "      <td>INCOMING_UNKNOWN</td>\n",
       "      <td>2021-09-19 01:10:07.977000+00:00</td>\n",
       "      <td>766095</td>\n",
       "      <td>1A406030000339D000000028</td>\n",
       "      <td>7500.0</td>\n",
       "      <td>900.0</td>\n",
       "      <td>GREEN SPECTRUM TRADING, INC.</td>\n",
       "      <td>C11-0000760-LIC</td>\n",
       "      <td>HUENEME PATIENT CONSUMER COLLECTIVE, LLC.</td>\n",
       "      <td>C10-0000064-LIC</td>\n",
       "    </tr>\n",
       "  </tbody>\n",
       "</table>\n",
       "</div>"
      ],
      "text/plain": [
       "  identifier     delivery_type                       updated_at package_id  \\\n",
       "0       HPCC  INCOMING_UNKNOWN 2021-09-19 01:10:07.977000+00:00     766095   \n",
       "\n",
       "              package_label  shipped_quantity  shipper_wholesale_price  \\\n",
       "0  1A406030000339D000000028            7500.0                    900.0   \n",
       "\n",
       "          shipper_facility_name shipper_facility_license_number  \\\n",
       "0  GREEN SPECTRUM TRADING, INC.                 C11-0000760-LIC   \n",
       "\n",
       "                     recipient_facility_name recipient_facility_license_number  \n",
       "0  HUENEME PATIENT CONSUMER COLLECTIVE, LLC.                   C10-0000064-LIC  "
      ]
     },
     "execution_count": 273,
     "metadata": {},
     "output_type": "execute_result"
    }
   ],
   "source": [
    "# Find transfer packages in data warehouse by package_id.\n",
    "\n",
    "def create_transfer_packages_by_package_id_query(package_id):\n",
    "    return f\"\"\"\n",
    "        select\n",
    "            companies.identifier,\n",
    "            company_deliveries.delivery_type,\n",
    "            company_deliveries.updated_at,\n",
    "            metrc_transfer_packages.package_id,\n",
    "            metrc_transfer_packages.package_label,\n",
    "            metrc_transfer_packages.shipped_quantity,\n",
    "            metrc_transfer_packages.shipper_wholesale_price,\n",
    "            metrc_transfers.shipper_facility_name,\n",
    "            metrc_transfers.shipper_facility_license_number,\n",
    "            metrc_deliveries.recipient_facility_name,\n",
    "            metrc_deliveries.recipient_facility_license_number\n",
    "        from\n",
    "            metrc_transfer_packages\n",
    "            inner join metrc_deliveries on metrc_transfer_packages.delivery_row_id = metrc_deliveries.id\n",
    "            inner join metrc_transfers on metrc_deliveries.transfer_row_id = metrc_transfers.id\n",
    "            inner join company_deliveries on metrc_transfers.id = company_deliveries.transfer_row_id\n",
    "            inner join companies on company_deliveries.company_id = companies.id\n",
    "        where\n",
    "            True\n",
    "            and metrc_transfer_packages.package_id = '{package_id}'\n",
    "    \"\"\"\n",
    "\n",
    "transfer_packages_by_package_id_query = create_transfer_packages_by_package_id_query(\n",
    "    766095)\n",
    "transfer_packages_by_package_id_dataframe = pandas.read_sql_query(transfer_packages_by_package_id_query, engine)\n",
    "transfer_packages_by_package_id_dataframe"
   ]
  },
  {
   "cell_type": "code",
   "execution_count": 18,
   "id": "ed3893b4-fa29-49de-84da-ea10a6ae15a5",
   "metadata": {},
   "outputs": [
    {
     "data": {
      "text/html": [
       "<div>\n",
       "<style scoped>\n",
       "    .dataframe tbody tr th:only-of-type {\n",
       "        vertical-align: middle;\n",
       "    }\n",
       "\n",
       "    .dataframe tbody tr th {\n",
       "        vertical-align: top;\n",
       "    }\n",
       "\n",
       "    .dataframe thead th {\n",
       "        text-align: right;\n",
       "    }\n",
       "</style>\n",
       "<table border=\"1\" class=\"dataframe\">\n",
       "  <thead>\n",
       "    <tr style=\"text-align: right;\">\n",
       "      <th></th>\n",
       "      <th>identifier</th>\n",
       "      <th>package_id</th>\n",
       "      <th>package_label</th>\n",
       "      <th>quantity</th>\n",
       "    </tr>\n",
       "  </thead>\n",
       "  <tbody>\n",
       "    <tr>\n",
       "      <th>0</th>\n",
       "      <td>RA</td>\n",
       "      <td>17481729</td>\n",
       "      <td>1A4060300003BC9000058384</td>\n",
       "      <td>1.0</td>\n",
       "    </tr>\n",
       "  </tbody>\n",
       "</table>\n",
       "</div>"
      ],
      "text/plain": [
       "  identifier package_id             package_label  quantity\n",
       "0         RA   17481729  1A4060300003BC9000058384       1.0"
      ]
     },
     "execution_count": 18,
     "metadata": {},
     "output_type": "execute_result"
    }
   ],
   "source": [
    "# Find packages in data warehouse by package_id.\n",
    "\n",
    "def create_packages_by_package_id_query(package_id):\n",
    "    return f\"\"\"\n",
    "        select\n",
    "            companies.identifier,\n",
    "            metrc_packages.package_id,\n",
    "            metrc_packages.package_label,\n",
    "            metrc_packages.quantity\n",
    "        from\n",
    "            metrc_packages\n",
    "            inner join companies on metrc_packages.company_id = companies.id\n",
    "        where\n",
    "            True\n",
    "            and metrc_packages.package_id = '{package_id}'\n",
    "    \"\"\"\n",
    "\n",
    "packages_by_package_id_query = create_packages_by_package_id_query(17481729)\n",
    "packages_by_package_id_dataframe = pandas.read_sql_query(packages_by_package_id_query, engine)\n",
    "packages_by_package_id_dataframe"
   ]
  },
  {
   "cell_type": "code",
   "execution_count": 33,
   "id": "57fff6ae-4e9e-4b40-9a2e-b9c032737e96",
   "metadata": {
    "tags": []
   },
   "outputs": [
    {
     "name": "stdout",
     "output_type": "stream",
     "text": [
      "\n",
      "Package 5751573 arrived on 07/13/2020 with quantity 280 and price $350.0. {'package_row_id': '4544aa24-1a3d-494b-b312-de17db773e79', 'delivery_type': 'INCOMING_FROM_VENDOR', 'license_number': 'C10-0000596-LIC', 'manifest_number': '0000767939', 'created_date': datetime.date(2020, 7, 13), 'received_datetime': Timestamp('2020-07-15 00:56:06+0000', tz='UTC'), 'shipper_facility_license_number': 'C11-0000349-LIC', 'shipper_facility_name': 'MISSION HILLS PATIENTS COLLECTIVE', 'recipient_facility_license_number': 'C10-0000596-LIC', 'recipient_facility_name': 'ROYAL APOTHECARY L.L.C.', 'shipment_type_name': 'Wholesale Manifest', 'shipment_transaction_type': 'Wholesale', 'package_id': '5751573', 'package_label': '1A4060300003D59000009129', 'type': 'transfer_incoming', 'shipment_package_state': 'Accepted', 'is_testing_sample': False, 'is_trade_sample': False, 'product_category_name': 'Flower', 'product_name': 'Rich & Ruthless - CPT Kush Ride (28 GM Flower - SMS) (#112-CPTK-YF0420) #1884', 'package_lab_results_status': 'passed', 'shipper_wholesale_price': 350.0, 'shipped_quantity': 280.0, 'shipped_unit_of_measure': 'Grams', 'received_quantity': 280.0, 'received_unit_of_measure': 'Grams', 'item_unit_weight': nan, 'item_unit_weight_unit_of_measure_name': None}\n",
      "Package 5751573 sold on 07/18/2020 28.0 (Grams) for $62.55\n",
      "Package 5751573 sold on 07/18/2020 28.0 (Grams) for $62.55\n",
      "Package 5751573 sold on 07/18/2020 28.0 (Grams) for $62.55\n",
      "Package 5751573 sold on 07/21/2020 28.0 (Grams) for $70.55\n",
      "Package 5751573 sold on 07/22/2020 28.0 (Grams) for $70.55\n",
      "Package 5751573 sold on 07/24/2020 28.0 (Grams) for $80.0\n",
      "Package 5751573 sold on 08/01/2020 28.0 (Grams) for $80.0\n",
      "Package 5751573 sold on 08/14/2020 28.0 (Grams) for $80.0\n",
      "Package 5751573 sold on 08/29/2020 28.0 (Grams) for $68.0\n",
      "Package 5751573 sold on 09/01/2020 28.0 (Grams) for $68.0\n",
      "Package 5751573 marked as SOLD since it is more than 100.0% sold\n",
      "Package 5751573 took 50 days to sell with profit margin 50.34%\n",
      "Package 5751573 sold on 09/25/2020 28.0 (Grams) for $72.0\n",
      "Package 5751573 took 50 days to sell with profit margin 54.94%\n",
      "Package 5751573 has a remaining quantity of -28.0\n"
     ]
    }
   ],
   "source": []
  },
  {
   "cell_type": "code",
   "execution_count": 392,
   "id": "3f0852b3-815e-497c-950e-7490beb95cda",
   "metadata": {},
   "outputs": [],
   "source": [
    "from bespoke.metrc.common import metrc_common_util\n",
    "\n",
    "rest = metrc_common_util.get_rest_helper_for_debug(\n",
    "    us_state='MA',\n",
    "    license_number='MR281525'\n",
    ")"
   ]
  },
  {
   "cell_type": "code",
   "execution_count": 360,
   "id": "543e3c37-b0a8-493d-a265-b05462601b14",
   "metadata": {},
   "outputs": [
    {
     "name": "stdout",
     "output_type": "stream",
     "text": [
      "https://api-ca.metrc.com/transfers/v1/rejected?licenseNumber=C10-0000596-LIC&lastModifiedStart=2020-01-01T00:00:00\n"
     ]
    }
   ],
   "source": [
    "from dateutil import parser\n",
    "from datetime import timedelta\n",
    "\n",
    "start_date = parser.parse('2020/01/01').date()\n",
    "end_date = parser.parse('2020/01/01').date()\n",
    "\n",
    "cur_date = start_date\n",
    "\n",
    "while cur_date <= end_date:\n",
    "    cur_date_str = cur_date.strftime('%m/%d/%Y')\n",
    "    resp = rest.get('/transfers/v1/rejected', time_range=[cur_date_str])\n",
    "    transfers = json.loads(resp.content)\n",
    "    if len(transfers) > 0:\n",
    "        print('FOUND SOME')\n",
    "        break\n",
    "        \n",
    "    cur_date = cur_date + timedelta(days=1)\n",
    "    "
   ]
  },
  {
   "cell_type": "code",
   "execution_count": 394,
   "id": "a7c4e2e6-5594-401c-aef3-e9600559586e",
   "metadata": {},
   "outputs": [
    {
     "name": "stdout",
     "output_type": "stream",
     "text": [
      "https://api-ma.metrc.com/packages/v1/967657?licenseNumber=MR281525\n"
     ]
    }
   ],
   "source": [
    "resp = rest.get('/packages/v1/967657')"
   ]
  },
  {
   "cell_type": "code",
   "execution_count": 395,
   "id": "a0175cdd-ce4f-44f3-95d5-aefac57efde0",
   "metadata": {},
   "outputs": [
    {
     "data": {
      "text/plain": [
       "{'Id': 967657,\n",
       " 'Label': '1A40A01000008FE000007148',\n",
       " 'PackageType': 'Product',\n",
       " 'SourceHarvestNames': 'LACo-200617',\n",
       " 'LocationId': 76101,\n",
       " 'LocationName': 'Boston Bud Factory - Vault',\n",
       " 'LocationTypeName': 'Default Location Type',\n",
       " 'Quantity': 0.0,\n",
       " 'UnitOfMeasureName': 'Grams',\n",
       " 'UnitOfMeasureAbbreviation': 'g',\n",
       " 'PatientLicenseNumber': '',\n",
       " 'ItemFromFacilityLicenseNumber': 'RMD685-C',\n",
       " 'ItemFromFacilityName': 'Holistic Industries, Inc.',\n",
       " 'Note': '',\n",
       " 'PackagedDate': '2020-09-11',\n",
       " 'InitialLabTestingState': 'TestPassed',\n",
       " 'LabTestingState': 'TestPassed',\n",
       " 'LabTestingStateDate': '2020-09-11',\n",
       " 'IsProductionBatch': False,\n",
       " 'ProductionBatchNumber': 'LACo-200617-001H',\n",
       " 'SourceProductionBatchNumbers': '',\n",
       " 'IsTradeSample': False,\n",
       " 'IsTradeSamplePersistent': False,\n",
       " 'SourcePackageIsTradeSample': False,\n",
       " 'IsDonation': False,\n",
       " 'IsDonationPersistent': False,\n",
       " 'SourcePackageIsDonation': False,\n",
       " 'IsTestingSample': False,\n",
       " 'IsProcessValidationTestingSample': False,\n",
       " 'ProductRequiresRemediation': False,\n",
       " 'ContainsRemediatedProduct': False,\n",
       " 'RemediationDate': None,\n",
       " 'ReceivedDateTime': '2020-09-30T18:22:21+00:00',\n",
       " 'ReceivedFromManifestNumber': '0000271227',\n",
       " 'ReceivedFromFacilityLicenseNumber': 'RMD685-C',\n",
       " 'ReceivedFromFacilityName': 'Holistic Industries, Inc.',\n",
       " 'IsOnHold': False,\n",
       " 'ArchivedDate': None,\n",
       " 'FinishedDate': '2020-11-13',\n",
       " 'LastModified': '2020-11-14T12:07:44-05:00',\n",
       " 'Item': {'Id': 187013,\n",
       "  'Name': 'LA Confidential Bulk Smalls QP Strane',\n",
       "  'ProductCategoryName': 'Buds',\n",
       "  'ProductCategoryType': 'Buds',\n",
       "  'QuantityType': 'WeightBased',\n",
       "  'DefaultLabTestingState': 'NotSubmitted',\n",
       "  'UnitOfMeasureName': 'Grams',\n",
       "  'ApprovalStatus': 'Approved',\n",
       "  'ApprovalStatusDateTime': '0001-01-01T00:00:00+00:00',\n",
       "  'StrainId': 16161,\n",
       "  'StrainName': 'LA Confidential',\n",
       "  'AdministrationMethod': '',\n",
       "  'UnitCbdPercent': None,\n",
       "  'UnitCbdContent': None,\n",
       "  'UnitCbdContentUnitOfMeasureName': None,\n",
       "  'UnitCbdContentDose': None,\n",
       "  'UnitCbdContentDoseUnitOfMeasureName': None,\n",
       "  'UnitThcPercent': None,\n",
       "  'UnitThcContent': None,\n",
       "  'UnitThcContentUnitOfMeasureName': None,\n",
       "  'UnitThcContentDose': None,\n",
       "  'UnitThcContentDoseUnitOfMeasureName': None,\n",
       "  'UnitVolume': None,\n",
       "  'UnitVolumeUnitOfMeasureName': None,\n",
       "  'UnitWeight': None,\n",
       "  'UnitWeightUnitOfMeasureName': None,\n",
       "  'ServingSize': '',\n",
       "  'SupplyDurationDays': None,\n",
       "  'NumberOfDoses': None,\n",
       "  'UnitQuantity': None,\n",
       "  'UnitQuantityUnitOfMeasureName': None,\n",
       "  'PublicIngredients': '',\n",
       "  'Description': '',\n",
       "  'IsUsed': False}}"
      ]
     },
     "execution_count": 395,
     "metadata": {},
     "output_type": "execute_result"
    }
   ],
   "source": [
    "json.loads(resp.content)"
   ]
  },
  {
   "cell_type": "code",
   "execution_count": 344,
   "id": "adb26e21-c876-467c-8eb2-640dae258580",
   "metadata": {},
   "outputs": [
    {
     "name": "stdout",
     "output_type": "stream",
     "text": [
      "The dotenv extension is already loaded. To reload it, use:\n",
      "  %reload_ext dotenv\n"
     ]
    }
   ],
   "source": [
    "%load_ext dotenv\n",
    "%dotenv"
   ]
  },
  {
   "cell_type": "code",
   "execution_count": 391,
   "id": "6e2a02b1-0849-437a-a2cc-5199ca7de15f",
   "metadata": {},
   "outputs": [],
   "source": [
    "os.environ['JUPYTER_NOTEBOOK_METRC_API_KEY'] = 'RjQcNRb90rhBOEjIF8H4lW9yFDoBQzI24EHSeIsODt5PF14q'"
   ]
  },
  {
   "cell_type": "code",
   "execution_count": 390,
   "id": "792c100c-35d2-48c5-bdd9-43e61e9ca797",
   "metadata": {},
   "outputs": [],
   "source": [
    "os.environ['METRC_VENDOR_KEY_MA'] = 'P0M8h22Xaj2KVn-CYOBqWsAhmi2xrpQO2JFS85a5noVD4tUz'"
   ]
  },
  {
   "cell_type": "code",
   "execution_count": null,
   "id": "c0ed2846-02c0-4d88-8bd0-7149b69a0269",
   "metadata": {},
   "outputs": [],
   "source": []
  }
 ],
 "metadata": {
  "kernelspec": {
   "display_name": "Python 3",
   "language": "python",
   "name": "python3"
  },
  "language_info": {
   "codemirror_mode": {
    "name": "ipython",
    "version": 3
   },
   "file_extension": ".py",
   "mimetype": "text/x-python",
   "name": "python",
   "nbconvert_exporter": "python",
   "pygments_lexer": "ipython3",
   "version": "3.7.7"
  }
 },
 "nbformat": 4,
 "nbformat_minor": 5
}
