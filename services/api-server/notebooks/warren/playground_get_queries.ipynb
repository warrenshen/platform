{
 "cells": [
  {
   "cell_type": "code",
   "execution_count": null,
   "id": "848ad068-4087-4ae8-b2a2-a14fb827a11f",
   "metadata": {},
   "outputs": [],
   "source": [
    "import json\n",
    "import os\n",
    "import numpy\n",
    "import pandas\n",
    "import pyarrow\n",
    "import sys\n",
    "\n",
    "from datetime import date\n",
    "from os import path\n",
    "from dotenv import load_dotenv\n",
    "from sqlalchemy import create_engine\n",
    "\n",
    "# Steps to install\n",
    "# 1. pip install sqlalchemy-bigquery google-cloud-bigquery-storage pyarrow\n",
    "# 2. Copy the credentials file to wherever you set BIGQUERY_CREDENTIALS_PATH to\n",
    "\n",
    "load_dotenv(verbose=True)\n",
    "BIGQUERY_CREDENTIALS_PATH = os.environ.get('BIGQUERY_CREDENTIALS_PATH')\n",
    "engine = create_engine('bigquery://bespoke-financial/ProdMetrcData', credentials_path=os.path.expanduser(BIGQUERY_CREDENTIALS_PATH))\n",
    "\n",
    "sys.path.append(path.realpath(path.join(os.getcwd(), \"../core\")))\n",
    "sys.path.append(path.realpath(path.join(os.getcwd(), \"../../src\")))\n",
    "\n",
    "import create_queries\n",
    "import prepare_data"
   ]
  },
  {
   "cell_type": "code",
   "execution_count": null,
   "id": "42174559-a1b6-4956-bbb5-26d8e6a82dbd",
   "metadata": {},
   "outputs": [],
   "source": []
  },
  {
   "cell_type": "code",
   "execution_count": null,
   "id": "aa85cec7-18a5-40f2-a61e-279688e96f88",
   "metadata": {},
   "outputs": [],
   "source": []
  },
  {
   "cell_type": "code",
   "execution_count": null,
   "id": "193c45f3-5286-4980-a7af-369c21579b51",
   "metadata": {},
   "outputs": [],
   "source": [
    "PACKAGE_ID = 7520845"
   ]
  },
  {
   "cell_type": "code",
   "execution_count": null,
   "id": "12a35343-d389-420e-af49-d9319bcc809c",
   "metadata": {},
   "outputs": [],
   "source": []
  },
  {
   "cell_type": "code",
   "execution_count": null,
   "id": "15d6d145-bf4d-4dfb-8b73-65b07d763422",
   "metadata": {},
   "outputs": [],
   "source": [
    "#\n",
    "def create_transfer_packages_by_package_id_query(package_id):\n",
    "    return f\"\"\"\n",
    "        select\n",
    "            companies.identifier,\n",
    "            company_deliveries.delivery_type,\n",
    "            company_deliveries.updated_at,\n",
    "            metrc_deliveries.received_datetime,\n",
    "            metrc_transfer_packages.package_id,\n",
    "            metrc_transfer_packages.package_label,\n",
    "            metrc_transfer_packages.package_payload.packagetype,\n",
    "            metrc_transfer_packages.shipped_quantity,\n",
    "            metrc_transfer_packages.package_payload.shipperwholesaleprice,\n",
    "            metrc_transfer_packages.received_quantity,\n",
    "            metrc_transfer_packages.package_payload.receiverwholesaleprice,\n",
    "            metrc_transfers.transfer_payload.shipmenttransactiontype,\n",
    "            metrc_transfers.shipment_type_name,\n",
    "            metrc_transfers.shipper_facility_name,\n",
    "            metrc_transfers.shipper_facility_license_number,\n",
    "            metrc_deliveries.recipient_facility_name,\n",
    "            metrc_deliveries.recipient_facility_license_number,\n",
    "            metrc_transfers.*,\n",
    "            metrc_transfer_packages.*\n",
    "        from\n",
    "            metrc_transfer_packages\n",
    "            inner join metrc_deliveries on metrc_transfer_packages.delivery_row_id = metrc_deliveries.id\n",
    "            inner join metrc_transfers on metrc_deliveries.transfer_row_id = metrc_transfers.id\n",
    "            inner join company_deliveries on metrc_transfers.id = company_deliveries.transfer_row_id\n",
    "            inner join companies on company_deliveries.company_id = companies.id\n",
    "        where\n",
    "            True\n",
    "            and metrc_transfer_packages.package_id = '{package_id}'\n",
    "    \"\"\"\n",
    "\n",
    "transfer_packages_by_package_id_query = create_transfer_packages_by_package_id_query(PACKAGE_ID)\n",
    "transfer_packages_by_package_id_dataframe = pandas.read_sql_query(transfer_packages_by_package_id_query, engine)\n",
    "transfer_packages_by_package_id_dataframe"
   ]
  },
  {
   "cell_type": "code",
   "execution_count": null,
   "id": "31d35354-5884-4411-aede-8154d8ade51a",
   "metadata": {},
   "outputs": [],
   "source": [
    "transfer_packages_by_package_id_dataframe.to_dict('records')[0]"
   ]
  },
  {
   "cell_type": "code",
   "execution_count": null,
   "id": "a6e4b3a3-ef63-4259-bbd2-95df709e164a",
   "metadata": {},
   "outputs": [],
   "source": []
  },
  {
   "cell_type": "code",
   "execution_count": null,
   "id": "24f1fc6b-4711-4bae-affe-4f8a9694e06d",
   "metadata": {},
   "outputs": [],
   "source": [
    "# Find packages in data warehouse by package_label.\n",
    "\n",
    "packages_by_package_label_query = create_queries.create_packages_by_package_label_query('1A40603000075FF000000096')\n",
    "packages_by_package_label_dataframe = pandas.read_sql_query(packages_by_package_label_query, engine)\n",
    "packages_by_package_label_dataframe"
   ]
  },
  {
   "cell_type": "code",
   "execution_count": null,
   "id": "77d3ac24-e87c-4ae2-905a-a29dc5d41a79",
   "metadata": {},
   "outputs": [],
   "source": []
  },
  {
   "cell_type": "code",
   "execution_count": null,
   "id": "32a23073-08e9-4bf7-99f4-bc5ae012ffe7",
   "metadata": {},
   "outputs": [],
   "source": [
    "# Find packages in data warehouse by package_id.\n",
    "\n",
    "def create_packages_by_package_id_query(package_id):\n",
    "    return f\"\"\"\n",
    "        select\n",
    "            companies.identifier,\n",
    "            metrc_packages.type,\n",
    "            metrc_packages.package_type,\n",
    "            metrc_packages.product_category_name,\n",
    "            metrc_packages.product_name,\n",
    "            metrc_packages.package_id,\n",
    "            metrc_packages.package_label,\n",
    "            metrc_packages.quantity,\n",
    "            metrc_packages.unit_of_measure\n",
    "        from\n",
    "            metrc_packages\n",
    "            left outer join companies on metrc_packages.company_id = companies.id\n",
    "        where\n",
    "            True\n",
    "            and metrc_packages.package_id = '{package_id}'\n",
    "    \"\"\"\n",
    "\n",
    "packages_by_package_id_query = create_packages_by_package_id_query(PACKAGE_ID)\n",
    "packages_by_package_id_dataframe = pandas.read_sql_query(packages_by_package_id_query, engine)\n",
    "packages_by_package_id_dataframe"
   ]
  },
  {
   "cell_type": "code",
   "execution_count": null,
   "id": "ca6a6a7a-b2ce-4c69-8eb8-64780238c1d0",
   "metadata": {},
   "outputs": [],
   "source": []
  },
  {
   "cell_type": "code",
   "execution_count": null,
   "id": "06d2883d-885b-492d-b5a8-02c8a9d6fb4d",
   "metadata": {},
   "outputs": [],
   "source": [
    "def create_sales_transactions_by_package_id_query(package_id):\n",
    "    return f\"\"\"\n",
    "        select\n",
    "            companies.identifier,\n",
    "            metrc_sales_receipts.type,\n",
    "            metrc_sales_receipts.created_at,\n",
    "            metrc_sales_receipts.updated_at,\n",
    "            metrc_sales_receipts.last_modified_at,\n",
    "            metrc_sales_receipts.is_final,\n",
    "            metrc_sales_transactions.is_deleted,\n",
    "            metrc_sales_receipts.receipt_id,\n",
    "            metrc_sales_receipts.receipt_number,\n",
    "            metrc_sales_receipts.sales_datetime,\n",
    "            metrc_sales_transactions.package_id,\n",
    "            metrc_sales_transactions.package_label,\n",
    "            metrc_sales_transactions.unit_of_measure,\n",
    "            metrc_sales_transactions.quantity_sold,\n",
    "            metrc_sales_transactions.total_price\n",
    "        from\n",
    "            metrc_sales_transactions\n",
    "            left outer join metrc_sales_receipts on metrc_sales_transactions.receipt_row_id = metrc_sales_receipts.id\n",
    "            left outer join companies on metrc_sales_receipts.company_id = companies.id\n",
    "        where\n",
    "            True\n",
    "            and metrc_sales_transactions.package_id = '{package_id}'\n",
    "    \"\"\"\n",
    "\n",
    "sales_transactions_by_package_id_query = create_sales_transactions_by_package_id_query(PACKAGE_ID)\n",
    "sales_transactions_by_package_id_dataframe = pandas.read_sql_query(sales_transactions_by_package_id_query, engine)\n",
    "sales_transactions_by_package_id_dataframe.sort_values('sales_datetime')"
   ]
  },
  {
   "cell_type": "code",
   "execution_count": null,
   "id": "182e510d-ff13-4fc1-99d2-945cadc07ce3",
   "metadata": {},
   "outputs": [],
   "source": []
  },
  {
   "cell_type": "code",
   "execution_count": null,
   "id": "b7be6cfb-dd4b-4608-a035-4e180c91c995",
   "metadata": {},
   "outputs": [],
   "source": []
  },
  {
   "cell_type": "code",
   "execution_count": null,
   "id": "08a4b289-9613-41c7-85ad-2551b9631fbd",
   "metadata": {},
   "outputs": [],
   "source": []
  },
  {
   "cell_type": "code",
   "execution_count": null,
   "id": "33d227a4-69f0-4b6a-a26f-1a800b8b9e35",
   "metadata": {},
   "outputs": [],
   "source": []
  },
  {
   "cell_type": "code",
   "execution_count": null,
   "id": "fe14c668-cea7-47ed-ba0d-09c86caf47e5",
   "metadata": {},
   "outputs": [],
   "source": []
  },
  {
   "cell_type": "code",
   "execution_count": null,
   "id": "130cc30a-8f10-4299-95bc-a913e7b8e586",
   "metadata": {},
   "outputs": [],
   "source": []
  },
  {
   "cell_type": "code",
   "execution_count": null,
   "id": "adf7ff73-fbee-4e9a-81e4-d8160b17755d",
   "metadata": {},
   "outputs": [],
   "source": []
  },
  {
   "cell_type": "code",
   "execution_count": null,
   "id": "371fb651-73be-4263-bd02-9a9703569959",
   "metadata": {},
   "outputs": [],
   "source": []
  },
  {
   "cell_type": "code",
   "execution_count": null,
   "id": "05007a71-f577-4142-8615-664ebb3bf58b",
   "metadata": {},
   "outputs": [],
   "source": [
    "def create_sales_transactions_is_deleted_counts_query():\n",
    "    return f\"\"\"\n",
    "        select\n",
    "            metrc_sales_transactions.is_deleted,\n",
    "            count(*)\n",
    "        from\n",
    "            metrc_sales_transactions\n",
    "        where\n",
    "            True\n",
    "        group by\n",
    "            metrc_sales_transactions.is_deleted\n",
    "    \"\"\"\n",
    "\n",
    "sales_transactions_is_deleted_counts_query = create_sales_transactions_is_deleted_counts_query()\n",
    "sales_transactions_is_deleted_counts_dataframe = pandas.read_sql_query(sales_transactions_is_deleted_counts_query, engine)\n",
    "sales_transactions_is_deleted_counts_dataframe"
   ]
  },
  {
   "cell_type": "code",
   "execution_count": null,
   "id": "0cd5256f-64fd-4dd1-82f7-b06f28cde398",
   "metadata": {},
   "outputs": [],
   "source": [
    "def create_sales_transactions_is_deleted_query():\n",
    "    return f\"\"\"\n",
    "        select\n",
    "            companies.identifier,\n",
    "            metrc_sales_transactions.is_deleted,\n",
    "            metrc_sales_transactions.package_id,\n",
    "            metrc_sales_transactions.package_label\n",
    "        from\n",
    "            metrc_sales_transactions\n",
    "            left outer join metrc_sales_receipts on metrc_sales_transactions.receipt_row_id = metrc_sales_receipts.id\n",
    "            left outer join companies on metrc_sales_receipts.company_id = companies.id\n",
    "        where\n",
    "            metrc_sales_transactions.is_deleted = True\n",
    "    \"\"\"\n",
    "\n",
    "sales_transactions_is_deleted_query = create_sales_transactions_is_deleted_query()\n",
    "sales_transactions_is_deleted_dataframe = pandas.read_sql_query(sales_transactions_is_deleted_query, engine)\n",
    "sales_transactions_is_deleted_dataframe"
   ]
  },
  {
   "cell_type": "code",
   "execution_count": null,
   "id": "afe15dc3-1d33-4b4f-acf8-58cc13b6a756",
   "metadata": {},
   "outputs": [],
   "source": [
    "def create_sales_transactions_by_package_id_query(package_id):\n",
    "    return f\"\"\"\n",
    "        select\n",
    "            companies.identifier,\n",
    "            metrc_sales_receipts.type,\n",
    "            metrc_sales_receipts.last_modified_at,\n",
    "            metrc_sales_receipts.is_final,\n",
    "            metrc_sales_transactions.is_deleted,\n",
    "            metrc_sales_receipts.receipt_id,\n",
    "            metrc_sales_receipts.receipt_number,\n",
    "            metrc_sales_receipts.sales_datetime,\n",
    "            metrc_sales_transactions.package_id,\n",
    "            metrc_sales_transactions.package_label,\n",
    "            metrc_sales_transactions.unit_of_measure,\n",
    "            metrc_sales_transactions.quantity_sold,\n",
    "            metrc_sales_transactions.total_price\n",
    "        from\n",
    "            metrc_sales_transactions\n",
    "            left outer join metrc_sales_receipts on metrc_sales_transactions.receipt_row_id = metrc_sales_receipts.id\n",
    "            left outer join companies on metrc_sales_receipts.company_id = companies.id\n",
    "        where\n",
    "            True\n",
    "            and metrc_sales_transactions.package_id = '{package_id}'\n",
    "    \"\"\"\n",
    "\n",
    "sales_transactions_by_package_id_query = create_sales_transactions_by_package_id_query(18149539)\n",
    "sales_transactions_by_package_id_dataframe = pandas.read_sql_query(sales_transactions_by_package_id_query, engine)\n",
    "sales_transactions_by_package_id_dataframe.sort_values('sales_datetime')"
   ]
  },
  {
   "cell_type": "code",
   "execution_count": null,
   "id": "56bdeaa0-4beb-4785-a2c1-3267094dee5a",
   "metadata": {},
   "outputs": [],
   "source": []
  },
  {
   "cell_type": "code",
   "execution_count": null,
   "id": "f1352888-c1b7-4589-8dd3-6570f53c8a64",
   "metadata": {},
   "outputs": [],
   "source": []
  }
 ],
 "metadata": {
  "kernelspec": {
   "display_name": "Python 3",
   "language": "python",
   "name": "python3"
  },
  "language_info": {
   "codemirror_mode": {
    "name": "ipython",
    "version": 3
   },
   "file_extension": ".py",
   "mimetype": "text/x-python",
   "name": "python",
   "nbconvert_exporter": "python",
   "pygments_lexer": "ipython3",
   "version": "3.7.7"
  }
 },
 "nbformat": 4,
 "nbformat_minor": 5
}
