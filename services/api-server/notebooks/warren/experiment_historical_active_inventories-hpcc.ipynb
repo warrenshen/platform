{
 "cells": [
  {
   "cell_type": "code",
   "execution_count": 106,
   "id": "170c442e-f0fb-4421-a3bf-5f87863f8277",
   "metadata": {},
   "outputs": [],
   "source": [
    "import json\n",
    "import os\n",
    "import numpy\n",
    "import pandas\n",
    "import pyarrow\n",
    "import sys\n",
    "\n",
    "from datetime import date\n",
    "from os import path\n",
    "from dotenv import load_dotenv\n",
    "from sqlalchemy import create_engine\n",
    "\n",
    "# Steps to install\n",
    "# 1. pip install sqlalchemy-bigquery google-cloud-bigquery-storage pyarrow\n",
    "# 2. Copy the credentials file to wherever you set BIGQUERY_CREDENTIALS_PATH to\n",
    "load_dotenv(verbose=True)\n",
    "BIGQUERY_CREDENTIALS_PATH = os.environ.get('BIGQUERY_CREDENTIALS_PATH')\n",
    "engine = create_engine('bigquery://bespoke-financial/ProdMetrcData', credentials_path=os.path.expanduser(BIGQUERY_CREDENTIALS_PATH))"
   ]
  },
  {
   "cell_type": "code",
   "execution_count": 107,
   "id": "38f9a288-03bc-43c5-82f8-a7c5a55f7286",
   "metadata": {},
   "outputs": [
    {
     "name": "stdout",
     "output_type": "stream",
     "text": [
      "The autoreload extension is already loaded. To reload it, use:\n",
      "  %reload_ext autoreload\n"
     ]
    }
   ],
   "source": [
    "sys.path.append(path.realpath(path.join(os.getcwd(), \"../../scripts/analysis\")))\n",
    "sys.path.append(path.realpath(path.join(os.getcwd(), \"../../src\")))\n",
    "\n",
    "from util import active_inventory_util as util\n",
    "\n",
    "sys.path.append(path.realpath(path.join(os.getcwd(), \"../core\")))\n",
    "import create_queries\n",
    "%load_ext autoreload\n",
    "%autoreload 2"
   ]
  },
  {
   "cell_type": "code",
   "execution_count": 108,
   "id": "fbfe06bc-cc79-41cc-814e-1d2166177496",
   "metadata": {},
   "outputs": [
    {
     "name": "stdout",
     "output_type": "stream",
     "text": [
      "Today is 10/31/2021\n"
     ]
    }
   ],
   "source": [
    "COMPANY_NAME = 'HPCC'\n",
    "COMPANY_IDENTIFIER = 'HPCC'\n",
    "TRANSFER_PACKAGES_START_DATE = '2019-01-01'\n",
    "SALES_TRANSACTIONS_START_DATE = '2019-01-01'\n",
    "INVENTORY_DATES = [\n",
    "    '09/30/2020',\n",
    "    '10/31/2020',\n",
    "    '11/30/2020',\n",
    "    '12/31/2020',\n",
    "    '01/31/2021',\n",
    "    '02/28/2021',\n",
    "    '03/31/2021',\n",
    "    '04/30/2021',\n",
    "    '05/31/2021',\n",
    "    '06/30/2021',\n",
    "    '07/31/2021',\n",
    "    '08/31/2021',\n",
    "    '09/30/2021',\n",
    "]\n",
    "ANALYSIS_PARAMS = {\n",
    "    'sold_threshold': 1.0\n",
    "}\n",
    "TODAY_DATE = date.today().strftime('%m/%d/%Y')\n",
    "INVENTORY_DATES.append(TODAY_DATE)\n",
    "print('Today is {}'.format(TODAY_DATE))"
   ]
  },
  {
   "cell_type": "code",
   "execution_count": 109,
   "id": "d9eccd84-a327-4299-8876-456c6c9f574c",
   "metadata": {},
   "outputs": [],
   "source": [
    "# Download packages, sales transactions, incoming / outgoing tranfers\n",
    "\n",
    "company_licenses_query = create_queries.create_company_licenses_query(COMPANY_IDENTIFIER)\n",
    "company_incoming_transfer_packages_query = create_queries.create_company_incoming_transfer_packages_query(COMPANY_IDENTIFIER, TRANSFER_PACKAGES_START_DATE)\n",
    "company_outgoing_transfer_packages_query = create_queries.create_company_outgoing_transfer_packages_query(COMPANY_IDENTIFIER, TRANSFER_PACKAGES_START_DATE)\n",
    "company_sales_transactions_query = create_queries.create_company_sales_transactions_query(COMPANY_IDENTIFIER, SALES_TRANSACTIONS_START_DATE)\n",
    "company_inventory_packages_query = create_queries.create_company_inventory_packages_query(\n",
    "    COMPANY_IDENTIFIER, include_quantity_zero=True)\n",
    "\n",
    "company_licenses_dataframe = pandas.read_sql_query(company_licenses_query, engine)\n",
    "company_incoming_transfer_packages_dataframe = pandas.read_sql_query(company_incoming_transfer_packages_query, engine)\n",
    "company_outgoing_transfer_packages_dataframe = pandas.read_sql_query(company_outgoing_transfer_packages_query, engine)\n",
    "company_sales_transactions_dataframe = pandas.read_sql_query(company_sales_transactions_query, engine)\n",
    "company_inventory_packages_dataframe = pandas.read_sql_query(company_inventory_packages_query, engine)"
   ]
  },
  {
   "cell_type": "code",
   "execution_count": 110,
   "id": "0c684f1c",
   "metadata": {},
   "outputs": [
    {
     "data": {
      "text/html": [
       "<div>\n",
       "<style scoped>\n",
       "    .dataframe tbody tr th:only-of-type {\n",
       "        vertical-align: middle;\n",
       "    }\n",
       "\n",
       "    .dataframe tbody tr th {\n",
       "        vertical-align: top;\n",
       "    }\n",
       "\n",
       "    .dataframe thead th {\n",
       "        text-align: right;\n",
       "    }\n",
       "</style>\n",
       "<table border=\"1\" class=\"dataframe\">\n",
       "  <thead>\n",
       "    <tr style=\"text-align: right;\">\n",
       "      <th></th>\n",
       "      <th>us_state</th>\n",
       "      <th>license_number</th>\n",
       "      <th>license_category</th>\n",
       "      <th>legal_name</th>\n",
       "      <th>is_current</th>\n",
       "      <th>license_status</th>\n",
       "      <th>rollup_id</th>\n",
       "      <th>license_description</th>\n",
       "    </tr>\n",
       "  </thead>\n",
       "  <tbody>\n",
       "    <tr>\n",
       "      <th>0</th>\n",
       "      <td>CA</td>\n",
       "      <td>C10-0000005-LIC</td>\n",
       "      <td>Retailer</td>\n",
       "      <td>DPC SF, LLC</td>\n",
       "      <td>True</td>\n",
       "      <td>Active</td>\n",
       "      <td>CA-01004</td>\n",
       "      <td>Retailer</td>\n",
       "    </tr>\n",
       "    <tr>\n",
       "      <th>1</th>\n",
       "      <td>CA</td>\n",
       "      <td>C10-0000064-LIC</td>\n",
       "      <td>Retailer</td>\n",
       "      <td>HUENEME PATIENT CONSUMER COLLECTIVE, LLC.</td>\n",
       "      <td>True</td>\n",
       "      <td>Active</td>\n",
       "      <td>CA-01805</td>\n",
       "      <td>Retailer</td>\n",
       "    </tr>\n",
       "  </tbody>\n",
       "</table>\n",
       "</div>"
      ],
      "text/plain": [
       "  us_state   license_number license_category  \\\n",
       "0       CA  C10-0000005-LIC         Retailer   \n",
       "1       CA  C10-0000064-LIC         Retailer   \n",
       "\n",
       "                                  legal_name  is_current license_status  \\\n",
       "0                                DPC SF, LLC        True         Active   \n",
       "1  HUENEME PATIENT CONSUMER COLLECTIVE, LLC.        True         Active   \n",
       "\n",
       "  rollup_id license_description  \n",
       "0  CA-01004            Retailer  \n",
       "1  CA-01805            Retailer  "
      ]
     },
     "execution_count": 110,
     "metadata": {},
     "output_type": "execute_result"
    }
   ],
   "source": [
    "company_licenses_dataframe"
   ]
  },
  {
   "cell_type": "code",
   "execution_count": null,
   "id": "d85b8c0a",
   "metadata": {},
   "outputs": [],
   "source": []
  },
  {
   "cell_type": "code",
   "execution_count": 117,
   "id": "389e2e26",
   "metadata": {},
   "outputs": [
    {
     "name": "stdout",
     "output_type": "stream",
     "text": [
      "Filtering incoming transfer packages to only \"Accepted\" shipment package state...\n",
      "Before filter # of incoming transfer packages: 48001\n",
      "After filter # of incoming transfer packages: 47727\n"
     ]
    }
   ],
   "source": [
    "print(f'Filtering incoming transfer packages to only \"Accepted\" shipment package state...')\n",
    "print(f'Before filter # of incoming transfer packages: {len(company_incoming_transfer_packages_dataframe.index)}')\n",
    "company_incoming_transfer_packages_dataframe = company_incoming_transfer_packages_dataframe[\n",
    "    company_incoming_transfer_packages_dataframe['shipment_package_state'] == 'Accepted'\n",
    "]\n",
    "print(f'After filter # of incoming transfer packages: {len(company_incoming_transfer_packages_dataframe.index)}')"
   ]
  },
  {
   "cell_type": "code",
   "execution_count": 118,
   "id": "c2af6220-2ebc-4447-a17e-0e3d9f3a7bbd",
   "metadata": {},
   "outputs": [],
   "source": [
    "d = util.Download()\n",
    "d.download_dataframes(\n",
    "    incoming_transfer_packages_dataframe=company_incoming_transfer_packages_dataframe,\n",
    "    outgoing_transfer_packages_dataframe=company_outgoing_transfer_packages_dataframe,\n",
    "    sales_transactions_dataframe=company_sales_transactions_dataframe,\n",
    "    engine=engine,\n",
    ")"
   ]
  },
  {
   "cell_type": "code",
   "execution_count": 119,
   "id": "4de368e2-44ab-4885-86d2-54b989f091f2",
   "metadata": {
    "tags": []
   },
   "outputs": [
    {
     "name": "stdout",
     "output_type": "stream",
     "text": [
      "WARN: package #5172609 does not have a shipped quantity\n",
      "WARN: package #848108 does not have a shipped quantity\n"
     ]
    }
   ],
   "source": [
    "import importlib\n",
    "importlib.reload(util)\n",
    "\n",
    "# TODO(dlluncor): Just for debugging to make this faster\n",
    "INVENTORY_DATES = [TODAY_DATE]\n",
    "\n",
    "date_to_inventory_packages_dataframe = {}\n",
    "id_to_history = util.get_histories(d)\n",
    "\n",
    "for inventory_date in INVENTORY_DATES:\n",
    "    computed_inventory_package_records = util.create_inventory_dataframe_by_date(\n",
    "        id_to_history,\n",
    "        inventory_date,\n",
    "        params=ANALYSIS_PARAMS,\n",
    "    )\n",
    "    computed_inventory_packages_dataframe = pandas.DataFrame(\n",
    "        computed_inventory_package_records,\n",
    "        columns=util.get_inventory_column_names(),\n",
    "    )\n",
    "    date_to_inventory_packages_dataframe[inventory_date] = computed_inventory_packages_dataframe"
   ]
  },
  {
   "cell_type": "code",
   "execution_count": 128,
   "id": "896c2893-bc7b-4295-84e3-fd4a11632b45",
   "metadata": {},
   "outputs": [],
   "source": [
    "from_packages_inventory_dataframe = company_inventory_packages_dataframe[[\n",
    "    'package_id',\n",
    "    'packaged_date',\n",
    "    'product_category_name',\n",
    "    'product_name',\n",
    "    'quantity',\n",
    "    'unit_of_measure',\n",
    "]].sort_values('package_id')"
   ]
  },
  {
   "cell_type": "code",
   "execution_count": 121,
   "id": "62e6af4a-8e8f-4321-8cfa-ee4353442b50",
   "metadata": {
    "tags": []
   },
   "outputs": [
    {
     "name": "stdout",
     "output_type": "stream",
     "text": [
      "Pct of # inventory matching: 89.15% (1856 / 2082)\n",
      "Accuracy of quantities: 92.76%\n",
      "Pct of # inventory packages over-estimated: 1.92%\n",
      "Pct of # quantity over-estimated: 0.02%\n",
      "Avg quantity delta: 0.91\n",
      "Avg quantity: 12.51\n",
      "\n",
      "Num matching packages: 1856\n",
      "Num actual packages not computed: 226\n",
      "  but computed at some point: 0, e.g., 0.00% of non-computed packages\n",
      "  avg quantity from actual packages 0.00\n",
      "Num computed packages not in actual: 40\n",
      "  but in actual inventory at some point: 19\n",
      "\n",
      "Computed has these extra package IDs; first 20\n",
      "4465593: computed quantity 185 (Grams)\n",
      "3987073: computed quantity 65 (Each)\n",
      "4426074: computed quantity 46 (Each)\n",
      "3463140: computed quantity 25 (Each)\n",
      "3383175: computed quantity 21 (Each)\n",
      "4381611: computed quantity 20 (Each)\n",
      "19027319: computed quantity 20 (Each)\n",
      "3707140: computed quantity 17 (Each)\n",
      "3995488: computed quantity 15 (Each)\n",
      "3992450: computed quantity 12 (Each)\n",
      "3453980: computed quantity 7 (Each)\n",
      "1875607: computed quantity 5 (Each)\n",
      "12964622: computed quantity 3 (Each)\n",
      "2717169: computed quantity 3 (Grams)\n",
      "13400491: computed quantity 2 (Each)\n",
      "17712310: computed quantity 2 (Each)\n",
      "17507548: computed quantity 2 (Each)\n",
      "13080351: computed quantity 2 (Each)\n",
      "17012131: computed quantity 1 (Each)\n",
      "13065440: computed quantity 1 (Each)\n",
      "12334759: computed quantity 1 (Each)\n",
      "\n",
      "Computed is missing these package IDs; first 20\n",
      "18733266: actual quantity 91.0 (Each)\n",
      "18978158: actual quantity 83.0 (Each)\n",
      "18420668: actual quantity 67.0 (Each)\n",
      "18814301: actual quantity 63.0 (Each)\n",
      "19060081: actual quantity 61.0 (Each)\n",
      "18733189: actual quantity 60.0 (Each)\n",
      "18338589: actual quantity 60.0 (Each)\n",
      "18346532: actual quantity 59.0 (Each)\n",
      "18673122: actual quantity 57.0 (Each)\n",
      "18254738: actual quantity 52.0 (Each)\n",
      "18708353: actual quantity 50.0 (Each)\n",
      "18708506: actual quantity 50.0 (Each)\n",
      "18733271: actual quantity 47.0 (Each)\n",
      "18254739: actual quantity 44.0 (Each)\n",
      "18420669: actual quantity 43.0 (Each)\n",
      "18425942: actual quantity 41.0 (Each)\n",
      "18708344: actual quantity 40.0 (Each)\n",
      "18425938: actual quantity 40.0 (Each)\n",
      "18708349: actual quantity 40.0 (Each)\n",
      "18703609: actual quantity 39.0 (Each)\n",
      "18708094: actual quantity 37.0 (Each)\n"
     ]
    }
   ],
   "source": [
    "import importlib\n",
    "importlib.reload(util)\n",
    "\n",
    "res = util.compare_inventory_dataframes(\n",
    "    computed=date_to_inventory_packages_dataframe[TODAY_DATE],\n",
    "    actual=from_packages_inventory_dataframe,\n",
    "    options={\n",
    "        'num_errors_to_show': 20,\n",
    "        'accept_computed_when_sold_out': True\n",
    "    }\n",
    ")\n",
    "\n",
    "# Two categories for: Num actual packages not computed: 229\n",
    "# 1. Actual has a package that we've never seen\n",
    "# 2. Actual has a package that we've sold out of, and that's why it's in the inventory\n",
    "\n",
    "# Two categories for: Num computed packages not in actual: 237\n",
    "# 1. We never saw the package in the actual inventory\n",
    "# 2. Actual inventory is sold out, but we think it's not sold out in computed"
   ]
  },
  {
   "cell_type": "code",
   "execution_count": 130,
   "id": "3ef448ed-e183-49f6-afb1-b65d1c60b68a",
   "metadata": {},
   "outputs": [
    {
     "name": "stdout",
     "output_type": "stream",
     "text": [
      "Matching metrc_package:\n",
      "license_number                                         C10-0000005-LIC\n",
      "package_id                                                    18420668\n",
      "package_label                                 1A4060300024735000017552\n",
      "type                                                            active\n",
      "packaged_date                                               2021-10-04\n",
      "package_type                                                   Product\n",
      "product_name             Korova Preroll - M.A.C. One - 1g / Case of 50\n",
      "product_category_name                                  Pre-Roll Flower\n",
      "quantity                                                          67.0\n",
      "unit_of_measure                                                   Each\n",
      "is_testing_sample                                                False\n",
      "is_trade_sample                                                  False\n",
      "is_on_hold                                                       False\n",
      "archived_date                                                     None\n",
      "finished_date                                                     None\n",
      "Name: 1082, dtype: object\n",
      "\n",
      "Excluding package 18420668 because it doesnt have an incoming package\n"
     ]
    }
   ],
   "source": [
    "# For debugging individual package histories\n",
    "# You have to run the above block to reload the package_id_to_history array\n",
    "\n",
    "import importlib\n",
    "importlib.reload(util)\n",
    "\n",
    "PACKAGE_IDS = [\n",
    "    '18420668'\n",
    "]\n",
    "\n",
    "package_id_to_actual_row = {}\n",
    "for index, row in company_inventory_packages_dataframe.iterrows():\n",
    "    package_id_to_actual_row[str(row['package_id'])] = row\n",
    "\n",
    "util.analyze_specific_package_histories(\n",
    "    d,\n",
    "    package_id_to_actual_row,\n",
    "    PACKAGE_IDS,\n",
    "    params=ANALYSIS_PARAMS,\n",
    ")"
   ]
  },
  {
   "cell_type": "code",
   "execution_count": null,
   "id": "00699298",
   "metadata": {},
   "outputs": [],
   "source": []
  },
  {
   "cell_type": "code",
   "execution_count": null,
   "id": "67d692e7",
   "metadata": {},
   "outputs": [],
   "source": []
  },
  {
   "cell_type": "code",
   "execution_count": null,
   "id": "89e4a755",
   "metadata": {},
   "outputs": [],
   "source": []
  },
  {
   "cell_type": "code",
   "execution_count": null,
   "id": "e3320d85",
   "metadata": {},
   "outputs": [],
   "source": []
  },
  {
   "cell_type": "code",
   "execution_count": null,
   "id": "4e6de8be",
   "metadata": {},
   "outputs": [],
   "source": []
  },
  {
   "cell_type": "code",
   "execution_count": null,
   "id": "cf0b7d09",
   "metadata": {},
   "outputs": [],
   "source": []
  },
  {
   "cell_type": "code",
   "execution_count": null,
   "id": "87491c02",
   "metadata": {},
   "outputs": [],
   "source": []
  },
  {
   "cell_type": "code",
   "execution_count": null,
   "id": "ae2948a1",
   "metadata": {},
   "outputs": [],
   "source": []
  },
  {
   "cell_type": "code",
   "execution_count": 123,
   "id": "3a8844de-f684-4aca-a769-a90366b58d20",
   "metadata": {},
   "outputs": [],
   "source": [
    "inactive_packages_df = pandas.read_sql_query(\n",
    "    util.are_packages_inactive_query(res['computed_extra_package_ids']),\n",
    "    engine\n",
    ")"
   ]
  },
  {
   "cell_type": "code",
   "execution_count": 124,
   "id": "e113b6eb-5fdb-4678-aef0-ada64e52e10d",
   "metadata": {},
   "outputs": [
    {
     "data": {
      "text/html": [
       "<div>\n",
       "<style scoped>\n",
       "    .dataframe tbody tr th:only-of-type {\n",
       "        vertical-align: middle;\n",
       "    }\n",
       "\n",
       "    .dataframe tbody tr th {\n",
       "        vertical-align: top;\n",
       "    }\n",
       "\n",
       "    .dataframe thead th {\n",
       "        text-align: right;\n",
       "    }\n",
       "</style>\n",
       "<table border=\"1\" class=\"dataframe\">\n",
       "  <thead>\n",
       "    <tr style=\"text-align: right;\">\n",
       "      <th></th>\n",
       "      <th>identifier</th>\n",
       "      <th>license_number</th>\n",
       "      <th>type</th>\n",
       "      <th>package_id</th>\n",
       "      <th>package_label</th>\n",
       "      <th>product_category_name</th>\n",
       "      <th>product_name</th>\n",
       "      <th>archiveddate</th>\n",
       "      <th>finisheddate</th>\n",
       "      <th>quantity</th>\n",
       "    </tr>\n",
       "  </thead>\n",
       "  <tbody>\n",
       "  </tbody>\n",
       "</table>\n",
       "</div>"
      ],
      "text/plain": [
       "Empty DataFrame\n",
       "Columns: [identifier, license_number, type, package_id, package_label, product_category_name, product_name, archiveddate, finisheddate, quantity]\n",
       "Index: []"
      ]
     },
     "execution_count": 124,
     "metadata": {},
     "output_type": "execute_result"
    }
   ],
   "source": [
    "inactive_packages_df[inactive_packages_df['package_id'] == '107500']"
   ]
  },
  {
   "cell_type": "code",
   "execution_count": null,
   "id": "e6a8371c",
   "metadata": {},
   "outputs": [],
   "source": []
  }
 ],
 "metadata": {
  "kernelspec": {
   "display_name": "Python 3",
   "language": "python",
   "name": "python3"
  },
  "language_info": {
   "codemirror_mode": {
    "name": "ipython",
    "version": 3
   },
   "file_extension": ".py",
   "mimetype": "text/x-python",
   "name": "python",
   "nbconvert_exporter": "python",
   "pygments_lexer": "ipython3",
   "version": "3.7.7"
  }
 },
 "nbformat": 4,
 "nbformat_minor": 5
}
