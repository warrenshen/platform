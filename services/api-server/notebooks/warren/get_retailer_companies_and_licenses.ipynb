{
 "cells": [
  {
   "cell_type": "code",
   "execution_count": null,
   "id": "396b4c29-3f6f-48d4-a513-907e255eb78c",
   "metadata": {},
   "outputs": [],
   "source": [
    "import json\n",
    "import os\n",
    "import pandas\n",
    "import pyarrow\n",
    "import sys\n",
    "\n",
    "from datetime import date\n",
    "from dotenv import load_dotenv\n",
    "from sqlalchemy import create_engine\n",
    "from os import path\n",
    "\n",
    "load_dotenv(verbose=True)\n",
    "BIGQUERY_CREDENTIALS_PATH = os.environ.get('BIGQUERY_CREDENTIALS_PATH')\n",
    "engine = create_engine('bigquery://bespoke-financial/ProdMetrcData', credentials_path=os.path.expanduser(BIGQUERY_CREDENTIALS_PATH))\n",
    "\n",
    "sys.path.append(path.realpath(path.join(os.getcwd(), \"../core\")))\n",
    "sys.path.append(path.realpath(path.join(os.getcwd(), \"../../src\")))\n",
    "\n",
    "import create_queries\n",
    "import prepare_data\n",
    "\n",
    "from bespoke.inventory.analysis.shared import download_util\n",
    "from bespoke.inventory.analysis import active_inventory_util as util\n",
    "from bespoke.inventory.analysis import inventory_valuations_util as valuations_util\n",
    "\n",
    "%load_ext autoreload\n",
    "%autoreload 2"
   ]
  },
  {
   "cell_type": "code",
   "execution_count": null,
   "id": "881e5a76-aef0-40bd-844b-9bab0b0b539e",
   "metadata": {},
   "outputs": [],
   "source": [
    "metrc_download_summary_companies_query = create_queries.create_metrc_download_summary_companies_query()\n",
    "metrc_download_summary_companies_dataframe = pandas.read_sql_query(metrc_download_summary_companies_query, engine)"
   ]
  },
  {
   "cell_type": "code",
   "execution_count": null,
   "id": "80935641-a5de-4ff2-beb2-b0561e8ea5ee",
   "metadata": {},
   "outputs": [],
   "source": []
  },
  {
   "cell_type": "code",
   "execution_count": null,
   "id": "01e75d43-50ec-4741-960d-7011fe542773",
   "metadata": {},
   "outputs": [],
   "source": [
    "company_records = metrc_download_summary_companies_dataframe.to_dict('records')"
   ]
  },
  {
   "cell_type": "code",
   "execution_count": null,
   "id": "9c3fd918-85a2-42fc-9b90-5e4a9cc37814",
   "metadata": {},
   "outputs": [],
   "source": [
    "company_to_retailer_licenses = {}\n",
    "\n",
    "for company_record in company_records:\n",
    "    company_identifier = company_record['identifier']\n",
    "    company_name = company_record['name']\n",
    "    print(f'Checking if company {company_identifier} holds any Retailer licenses...')\n",
    "    company_licenses_query = create_queries.create_company_licenses_query(company_identifier)\n",
    "    company_licenses_dataframe = pandas.read_sql_query(company_licenses_query, engine)\n",
    "    company_license_records = company_licenses_dataframe.to_dict('records')\n",
    "    for company_license_record in company_license_records:\n",
    "        license_number = company_license_record['license_number']\n",
    "        license_category = company_license_record['license_category']\n",
    "        key = (company_identifier, company_name)\n",
    "        if license_category == 'Retailer':\n",
    "            if key not in company_to_retailer_licenses:\n",
    "                company_to_retailer_licenses[key] = []\n",
    "            company_to_retailer_licenses[key].append(license_number)"
   ]
  },
  {
   "cell_type": "code",
   "execution_count": null,
   "id": "8611e827-7f32-4db2-a186-1152546144d7",
   "metadata": {},
   "outputs": [],
   "source": [
    "for company_tuple, retailer_licenses in company_to_retailer_licenses.items():\n",
    "    company_identifier, company_name = company_tuple\n",
    "    print(f'Company {company_name} ({company_identifier}) holds Retailer licenses: {retailer_licenses}')"
   ]
  },
  {
   "cell_type": "code",
   "execution_count": null,
   "id": "ef5c2070-9ac6-4824-849b-fa2fb546b4e3",
   "metadata": {},
   "outputs": [],
   "source": [
    "len(company_to_retailer_licenses.keys())"
   ]
  },
  {
   "cell_type": "code",
   "execution_count": null,
   "id": "2bd1aeeb-a968-496f-86c1-57d0e26914cb",
   "metadata": {},
   "outputs": [],
   "source": []
  },
  {
   "cell_type": "code",
   "execution_count": null,
   "id": "fb2357a7-4e82-4141-8723-9a1b468bf825",
   "metadata": {},
   "outputs": [],
   "source": [
    "# Output to copy to XLSX\n",
    "retailer_company_tuples = []\n",
    "\n",
    "for company_tuple, retailer_licenses in company_to_retailer_licenses.items():\n",
    "    company_identifier, company_name = company_tuple\n",
    "    company_licenses = \";\".join(retailer_licenses)\n",
    "    retailer_company_tuples.append((company_name, company_identifier, company_licenses))"
   ]
  },
  {
   "cell_type": "code",
   "execution_count": null,
   "id": "90cc46c1-3672-4660-ab1c-6d2de05b1027",
   "metadata": {},
   "outputs": [],
   "source": [
    "retailer_companies_dataframe = pandas.DataFrame(retailer_company_tuples)\n",
    "retailer_companies_dataframe"
   ]
  },
  {
   "cell_type": "code",
   "execution_count": null,
   "id": "af88872a-dcd9-48ef-aa71-c28a393a549b",
   "metadata": {},
   "outputs": [],
   "source": [
    "import time\n",
    "from datetime import date\n",
    "\n",
    "TODAY_DATE = date.today().strftime('%m-%d-%Y')\n",
    "NOW = int(time.time())\n",
    "\n",
    "retailer_companies_file_name = f'~/Downloads/retailer_companies_file_name_{TODAY_DATE}_{NOW}'\n",
    "\n",
    "num_retailer_companies = len(retailer_companies_dataframe.index)\n",
    "print(f'Exporting {num_retailer_companies} retailer companies to files...')\n",
    "retailer_companies_dataframe.reset_index().to_excel(f'{retailer_companies_file_name}.xlsx')\n",
    "# export_incoming_transfer_packages_dataframe.reset_index().to_csv(f'{incoming_transfer_packages_file_name}.csv')\n",
    "print(f'Exported {num_retailer_companies} retailer companies to files')"
   ]
  },
  {
   "cell_type": "code",
   "execution_count": null,
   "id": "4d039046-60c9-4f8c-ae92-d3d195df71a5",
   "metadata": {},
   "outputs": [],
   "source": []
  }
 ],
 "metadata": {
  "kernelspec": {
   "display_name": "Python 3",
   "language": "python",
   "name": "python3"
  },
  "language_info": {
   "codemirror_mode": {
    "name": "ipython",
    "version": 3
   },
   "file_extension": ".py",
   "mimetype": "text/x-python",
   "name": "python",
   "nbconvert_exporter": "python",
   "pygments_lexer": "ipython3",
   "version": "3.7.7"
  }
 },
 "nbformat": 4,
 "nbformat_minor": 5
}
