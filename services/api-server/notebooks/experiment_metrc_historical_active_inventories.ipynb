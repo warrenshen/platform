{
 "cells": [
  {
   "cell_type": "code",
   "execution_count": 5,
   "id": "f0848de3-aace-4106-b0f3-127dda4ff3d1",
   "metadata": {},
   "outputs": [],
   "source": [
    "import json\n",
    "import pandas"
   ]
  },
  {
   "cell_type": "code",
   "execution_count": 6,
   "id": "c2af6220-2ebc-4447-a17e-0e3d9f3a7bbd",
   "metadata": {},
   "outputs": [
    {
     "data": {
      "text/plain": [
       "Index(['date_type', 'transfer_row_id', 'delivery_row_id', 'package_row_id',\n",
       "       'delivery_type', 'manifest_number', 'created_date',\n",
       "       'shipper_facility_license_number', 'shipper_facility_name',\n",
       "       'recipient_facility_license_number', 'recipient_facility_name',\n",
       "       'shipment_type_name', 'shipment_transaction_type', 'package_id',\n",
       "       'package_label', 'type', 'product_category_name', 'product_name',\n",
       "       'shipper_wholesale_price', 'shipped_quantity', 'lab_results_status'],\n",
       "      dtype='object')"
      ]
     },
     "execution_count": 6,
     "metadata": {},
     "output_type": "execute_result"
    }
   ],
   "source": [
    "raw_incoming_transfers_dataframe = pandas.read_excel('data/royal_apothecary_incoming_transfer_packages_2021.xlsx', header=0)\n",
    "raw_incoming_transfers_dataframe.columns"
   ]
  },
  {
   "cell_type": "code",
   "execution_count": 7,
   "id": "6e565b15-55ea-4766-9917-111cd4a4af4e",
   "metadata": {},
   "outputs": [
    {
     "data": {
      "text/plain": [
       "[{'date_type': Timestamp('2021-01-01 00:00:00'),\n",
       "  'transfer_row_id': 'e90544bd-cfe6-4fc4-8cc5-33b4cd0fb680',\n",
       "  'delivery_row_id': '1a3003bd-10a1-4de3-a6fa-1645c5cf3f71',\n",
       "  'package_row_id': 'a1be21b6-72f5-422c-b821-7d2e8f772999',\n",
       "  'delivery_type': 'INCOMING_FROM_VENDOR',\n",
       "  'manifest_number': 1421236.0,\n",
       "  'created_date': Timestamp('2021-01-05 00:00:00'),\n",
       "  'shipper_facility_license_number': 'C11-0001106-LIC',\n",
       "  'shipper_facility_name': 'GREEN EARTH OPERATIONS, INC.',\n",
       "  'recipient_facility_license_number': 'C10-0000596-LIC',\n",
       "  'recipient_facility_name': 'ROYAL APOTHECARY L.L.C.',\n",
       "  'shipment_type_name': 'Transfer',\n",
       "  'shipment_transaction_type': 'Standard',\n",
       "  'package_id': 10549184.0,\n",
       "  'package_label': '1A406030000CD7A000000024',\n",
       "  'type': 'transfer_incoming',\n",
       "  'product_category_name': 'Flower (packaged eighth - each)',\n",
       "  'product_name': '3.5g Jars Cosmic Ice Cream Cake',\n",
       "  'shipper_wholesale_price': nan,\n",
       "  'shipped_quantity': 64.0,\n",
       "  'lab_results_status': 'passed'},\n",
       " {'date_type': Timestamp('2021-01-01 00:00:00'),\n",
       "  'transfer_row_id': 'e90544bd-cfe6-4fc4-8cc5-33b4cd0fb680',\n",
       "  'delivery_row_id': '1a3003bd-10a1-4de3-a6fa-1645c5cf3f71',\n",
       "  'package_row_id': '4322279c-3959-4594-a456-0bfab8a70f95',\n",
       "  'delivery_type': 'INCOMING_FROM_VENDOR',\n",
       "  'manifest_number': 1421236.0,\n",
       "  'created_date': Timestamp('2021-01-05 00:00:00'),\n",
       "  'shipper_facility_license_number': 'C11-0001106-LIC',\n",
       "  'shipper_facility_name': 'GREEN EARTH OPERATIONS, INC.',\n",
       "  'recipient_facility_license_number': 'C10-0000596-LIC',\n",
       "  'recipient_facility_name': 'ROYAL APOTHECARY L.L.C.',\n",
       "  'shipment_type_name': 'Transfer',\n",
       "  'shipment_transaction_type': 'Standard',\n",
       "  'package_id': 10548777.0,\n",
       "  'package_label': '1A406030000CD7A000000023',\n",
       "  'type': 'transfer_incoming',\n",
       "  'product_category_name': 'Pre-Roll Flower',\n",
       "  'product_name': '.75g AVOG Pre-Roll',\n",
       "  'shipper_wholesale_price': nan,\n",
       "  'shipped_quantity': 64.0,\n",
       "  'lab_results_status': 'passed'}]"
      ]
     },
     "execution_count": 7,
     "metadata": {},
     "output_type": "execute_result"
    }
   ],
   "source": [
    "raw_incoming_transfers_dataframe.to_dict('records')[:2]"
   ]
  },
  {
   "cell_type": "code",
   "execution_count": 8,
   "id": "9c698452-b70f-49b7-b7f1-f97820897ed2",
   "metadata": {},
   "outputs": [],
   "source": [
    "import time\n",
    "\n",
    "xlsx_file_name = f'~/Downloads/export_data_{round(time.time())}.xlsx'\n",
    "raw_incoming_transfers_dataframe.to_excel(xlsx_file_name, index=False)"
   ]
  },
  {
   "cell_type": "code",
   "execution_count": null,
   "id": "a327338b-2a10-466a-ad24-8a758ba6d864",
   "metadata": {},
   "outputs": [],
   "source": []
  }
 ],
 "metadata": {
  "kernelspec": {
   "display_name": "Python 3",
   "language": "python",
   "name": "python3"
  },
  "language_info": {
   "codemirror_mode": {
    "name": "ipython",
    "version": 3
   },
   "file_extension": ".py",
   "mimetype": "text/x-python",
   "name": "python",
   "nbconvert_exporter": "python",
   "pygments_lexer": "ipython3",
   "version": "3.7.7"
  }
 },
 "nbformat": 4,
 "nbformat_minor": 5
}
