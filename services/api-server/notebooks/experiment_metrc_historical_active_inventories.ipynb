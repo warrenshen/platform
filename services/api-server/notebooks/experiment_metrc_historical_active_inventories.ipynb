{
 "cells": [
  {
   "cell_type": "code",
   "execution_count": 2,
   "id": "f0848de3-aace-4106-b0f3-127dda4ff3d1",
   "metadata": {},
   "outputs": [],
   "source": [
    "import json\n",
    "import pandas"
   ]
  },
  {
   "cell_type": "code",
   "execution_count": 14,
   "id": "c2af6220-2ebc-4447-a17e-0e3d9f3a7bbd",
   "metadata": {},
   "outputs": [
    {
     "name": "stderr",
     "output_type": "stream",
     "text": [
      "/Users/davidlluncor/GitHub/venvs/bespoke/lib/python3.7/site-packages/openpyxl/styles/stylesheet.py:221: UserWarning: Workbook contains no default style, apply openpyxl's default\n",
      "  warn(\"Workbook contains no default style, apply openpyxl's default\")\n"
     ]
    },
    {
     "name": "stdout",
     "output_type": "stream",
     "text": [
      "Opening file data/royal/royal_apothecary_incoming_transfer_packages_20210101_20210905.xlsx with columns Index(['date_type', 'transfer_row_id', 'delivery_row_id', 'package_row_id',\n",
      "       'delivery_type', 'manifest_number', 'created_date', 'received_datetime',\n",
      "       'shipper_facility_license_number', 'shipper_facility_name',\n",
      "       'recipient_facility_license_number', 'recipient_facility_name',\n",
      "       'shipment_type_name', 'shipment_transaction_type', 'package_id',\n",
      "       'package_label', 'type', 'product_category_name', 'product_name',\n",
      "       'shipper_wholesale_price', 'shipped_quantity', 'lab_results_status'],\n",
      "      dtype='object')\n",
      "Opening file data/royal/royal_apothecary_outgoing_transfer_packages_20210101_20210905.xlsx with columns Index(['date_type', 'transfer_row_id', 'delivery_row_id', 'package_row_id',\n",
      "       'delivery_type', 'manifest_number', 'created_date',\n",
      "       'shipper_facility_license_number', 'shipper_facility_name',\n",
      "       'recipient_facility_license_number', 'recipient_facility_name',\n",
      "       'shipment_type_name', 'shipment_transaction_type', 'package_id',\n",
      "       'package_label', 'type', 'product_category_name', 'product_name',\n",
      "       'shipper_wholesale_price', 'shipped_quantity', 'lab_results_status'],\n",
      "      dtype='object')\n"
     ]
    },
    {
     "name": "stderr",
     "output_type": "stream",
     "text": [
      "/Users/davidlluncor/GitHub/venvs/bespoke/lib/python3.7/site-packages/openpyxl/styles/stylesheet.py:221: UserWarning: Workbook contains no default style, apply openpyxl's default\n",
      "  warn(\"Workbook contains no default style, apply openpyxl's default\")\n",
      "/Users/davidlluncor/GitHub/venvs/bespoke/lib/python3.7/site-packages/openpyxl/styles/stylesheet.py:221: UserWarning: Workbook contains no default style, apply openpyxl's default\n",
      "  warn(\"Workbook contains no default style, apply openpyxl's default\")\n"
     ]
    },
    {
     "name": "stdout",
     "output_type": "stream",
     "text": [
      "Opening file data/royal/royal_apothecary_active_inventory_20210906.xlsx with columns Index(['identifier', 'license_number', 'last_modified_at', 'package_id',\n",
      "       'package_label', 'type', 'packaged_date', 'package_type',\n",
      "       'product_name', 'product_category_name', 'quantity', 'unit_of_measure'],\n",
      "      dtype='object')\n"
     ]
    }
   ],
   "source": [
    "class Download(object):\n",
    "    \n",
    "    def __init__(self, incoming_file, outgoing_file, packages_file):\n",
    "        self.incoming_records = self._file_as_dict_records(incoming_file)\n",
    "        self.outgoing_records = self._file_as_dict_records(outgoing_file)\n",
    "        self.packages_records = self._file_as_dict_records(packages_file)\n",
    "    \n",
    "    def _file_as_dict_records(self, filepath):\n",
    "        df = pandas.read_excel(filepath, converters={'package_id':str})\n",
    "        print('Opening file {} with columns {}'.format(filepath, df.columns))\n",
    "        return df.to_dict('records')\n",
    "    \n",
    "d = Download(\n",
    "    incoming_file='data/royal/royal_apothecary_incoming_transfer_packages_20210101_20210905.xlsx',\n",
    "    outgoing_file='data/royal/royal_apothecary_outgoing_transfer_packages_20210101_20210905.xlsx',\n",
    "    packages_file='data/royal/royal_apothecary_active_inventory_20210906.xlsx',\n",
    ")"
   ]
  },
  {
   "cell_type": "code",
   "execution_count": 19,
   "id": "9c698452-b70f-49b7-b7f1-f97820897ed2",
   "metadata": {},
   "outputs": [],
   "source": [
    "from typing import Dict, List, Tuple\n",
    "\n",
    "class PackageHistory():\n",
    "    \n",
    "    def __init__(self):\n",
    "        self.incomings = []\n",
    "        self.outgoings = []\n",
    "        self.pkg = None\n",
    "        \n",
    "    \n",
    "def get_histories(d: Download) -> Dict[str, PackageHistory]:\n",
    "    package_id_to_history = {}\n",
    "    \n",
    "    for in_r in d.incoming_records:\n",
    "        package_id = in_r['package_id']\n",
    "        if package_id not in package_id_to_history:\n",
    "            package_id_to_history[package_id] = PackageHistory()\n",
    "            \n",
    "        history = package_id_to_history[package_id]\n",
    "        history.incomings.append(in_r)\n",
    "\n",
    "    for out_r in d.outgoing_records:\n",
    "        package_id = out_r['package_id']\n",
    "        if package_id not in package_id_to_history:\n",
    "            package_id_to_history[package_id] = PackageHistory()\n",
    "            \n",
    "        history = package_id_to_history[package_id]\n",
    "        history.outgoings.append(out_r)\n",
    "        \n",
    "    \n",
    "    for pkg_r in d.packages_records:\n",
    "        package_id = pkg_r['package_id']\n",
    "        if package_id not in package_id_to_history:\n",
    "            package_id_to_history[package_id] = PackageHistory()\n",
    "            \n",
    "        history = package_id_to_history[package_id]\n",
    "        history.pkg = pkg_r\n",
    "        \n",
    "    return package_id_to_history\n",
    "    \n",
    "id_to_history = get_histories(d)"
   ]
  },
  {
   "cell_type": "code",
   "execution_count": 29,
   "id": "95f6ea3f-adfe-46a3-bbf4-f402f3a7ba4f",
   "metadata": {},
   "outputs": [
    {
     "name": "stdout",
     "output_type": "stream",
     "text": [
      "Only outgoing: 33\n",
      "Only incoming: 2255\n",
      "In and out: 1\n",
      "Inventory no transfers: 908\n",
      "Cur inventory: 1471\n",
      "Total pkgs: 3197\n"
     ]
    }
   ],
   "source": [
    "def print_counts(id_to_history):\n",
    "    only_incoming = 0\n",
    "    only_outgoing = 0\n",
    "    outgoing_and_incoming = 0\n",
    "    current_inventory = 0\n",
    "    inventory_with_no_transfers = 0\n",
    "    total_seen = 0\n",
    "\n",
    "    for package_id, history in id_to_history.items():\n",
    "        if history.outgoings and not history.incomings:\n",
    "            only_outgoing += 1\n",
    "\n",
    "        if history.incomings and not history.outgoings:\n",
    "            only_incoming += 1\n",
    "\n",
    "        if history.pkg:\n",
    "            current_inventory += 1\n",
    "            \n",
    "        if history.outgoings and history.incomings:\n",
    "            outgoing_and_incoming += 1\n",
    "            \n",
    "        if history.pkg and not history.outgoings and not history.incomings:\n",
    "            inventory_with_no_transfers += 1\n",
    "\n",
    "        total_seen += 1\n",
    "\n",
    "    print(f'Only outgoing: {only_outgoing}')\n",
    "    print(f'Only incoming: {only_incoming}')\n",
    "    print(f'In and out: {outgoing_and_incoming}')\n",
    "    print(f'Inventory no transfers: {inventory_with_no_transfers}')\n",
    "    print(f'Cur inventory: {current_inventory}')\n",
    "    print(f'Total pkgs: {total_seen}')\n",
    "    \n",
    "print_counts(id_to_history)"
   ]
  },
  {
   "cell_type": "code",
   "execution_count": null,
   "id": "a327338b-2a10-466a-ad24-8a758ba6d864",
   "metadata": {},
   "outputs": [],
   "source": [
    "import time\n",
    "\n",
    "xlsx_file_name = f'~/Downloads/export_data_{round(time.time())}.xlsx'\n",
    "raw_incoming_transfers_dataframe.to_excel(xlsx_file_name, index=False)"
   ]
  }
 ],
 "metadata": {
  "kernelspec": {
   "display_name": "Python 3",
   "language": "python",
   "name": "python3"
  },
  "language_info": {
   "codemirror_mode": {
    "name": "ipython",
    "version": 3
   },
   "file_extension": ".py",
   "mimetype": "text/x-python",
   "name": "python",
   "nbconvert_exporter": "python",
   "pygments_lexer": "ipython3",
   "version": "3.7.7"
  }
 },
 "nbformat": 4,
 "nbformat_minor": 5
}
