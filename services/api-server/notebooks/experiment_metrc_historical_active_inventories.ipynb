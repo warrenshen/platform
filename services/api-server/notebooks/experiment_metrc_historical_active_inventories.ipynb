{
 "cells": [
  {
   "cell_type": "code",
   "execution_count": 174,
   "id": "f0848de3-aace-4106-b0f3-127dda4ff3d1",
   "metadata": {},
   "outputs": [
    {
     "name": "stdout",
     "output_type": "stream",
     "text": [
      "The autoreload extension is already loaded. To reload it, use:\n",
      "  %reload_ext autoreload\n"
     ]
    }
   ],
   "source": [
    "import json\n",
    "import pandas\n",
    "import numpy\n",
    "import os\n",
    "import sys\n",
    "from os import path\n",
    "\n",
    "company_name = 'Royal_Apothecary'\n",
    "INCOMING_TRANSFERS_FILE = 'data/royal/royal_apothecary_incoming_transfer_packages_20210101_20210905.xlsx'\n",
    "OUTGOING_TRANSFERS_FILE = 'data/royal/royal_apothecary_outgoing_transfer_packages_20210101_20210905.xlsx'\n",
    "PACKAGES_FILE = 'data/royal/royal_apothecary_active_inventory_20210906.xlsx'\n",
    "SALES_TRANSACTIONS_FILE = 'data/royal/royal_apothecary_sales_transactions_20210101_20210905.xlsx'\n",
    "\n",
    "inventory_dates = [\n",
    "    '05/31/2021',\n",
    "    '06/30/2021',\n",
    "    '07/31/2021',\n",
    "    '08/31/2021',\n",
    "]\n",
    "%load_ext autoreload\n"
   ]
  },
  {
   "cell_type": "code",
   "execution_count": 157,
   "id": "c2af6220-2ebc-4447-a17e-0e3d9f3a7bbd",
   "metadata": {},
   "outputs": [
    {
     "name": "stderr",
     "output_type": "stream",
     "text": [
      "/Users/davidlluncor/GitHub/venvs/bespoke/lib/python3.7/site-packages/openpyxl/styles/stylesheet.py:221: UserWarning: Workbook contains no default style, apply openpyxl's default\n",
      "  warn(\"Workbook contains no default style, apply openpyxl's default\")\n"
     ]
    },
    {
     "name": "stdout",
     "output_type": "stream",
     "text": [
      "Opening file data/royal/royal_apothecary_incoming_transfer_packages_20210101_20210905.xlsx with columns Index(['date_type', 'transfer_row_id', 'delivery_row_id', 'package_row_id',\n",
      "       'delivery_type', 'manifest_number', 'created_date', 'received_datetime',\n",
      "       'shipper_facility_license_number', 'shipper_facility_name',\n",
      "       'recipient_facility_license_number', 'recipient_facility_name',\n",
      "       'shipment_type_name', 'shipment_transaction_type', 'package_id',\n",
      "       'package_label', 'type', 'product_category_name', 'product_name',\n",
      "       'shipper_wholesale_price', 'shipped_quantity', 'lab_results_status'],\n",
      "      dtype='object')\n",
      "Opening file data/royal/royal_apothecary_outgoing_transfer_packages_20210101_20210905.xlsx with columns Index(['date_type', 'transfer_row_id', 'delivery_row_id', 'package_row_id',\n",
      "       'delivery_type', 'manifest_number', 'created_date',\n",
      "       'shipper_facility_license_number', 'shipper_facility_name',\n",
      "       'recipient_facility_license_number', 'recipient_facility_name',\n",
      "       'shipment_type_name', 'shipment_transaction_type', 'package_id',\n",
      "       'package_label', 'type', 'product_category_name', 'product_name',\n",
      "       'shipper_wholesale_price', 'shipped_quantity', 'lab_results_status'],\n",
      "      dtype='object')\n"
     ]
    },
    {
     "name": "stderr",
     "output_type": "stream",
     "text": [
      "/Users/davidlluncor/GitHub/venvs/bespoke/lib/python3.7/site-packages/openpyxl/styles/stylesheet.py:221: UserWarning: Workbook contains no default style, apply openpyxl's default\n",
      "  warn(\"Workbook contains no default style, apply openpyxl's default\")\n",
      "/Users/davidlluncor/GitHub/venvs/bespoke/lib/python3.7/site-packages/openpyxl/styles/stylesheet.py:221: UserWarning: Workbook contains no default style, apply openpyxl's default\n",
      "  warn(\"Workbook contains no default style, apply openpyxl's default\")\n"
     ]
    },
    {
     "name": "stdout",
     "output_type": "stream",
     "text": [
      "Opening file data/royal/royal_apothecary_active_inventory_20210906.xlsx with columns Index(['identifier', 'license_number', 'last_modified_at', 'package_id',\n",
      "       'package_label', 'type', 'packaged_date', 'package_type',\n",
      "       'product_name', 'product_category_name', 'quantity', 'unit_of_measure'],\n",
      "      dtype='object')\n"
     ]
    },
    {
     "name": "stderr",
     "output_type": "stream",
     "text": [
      "/Users/davidlluncor/GitHub/venvs/bespoke/lib/python3.7/site-packages/openpyxl/styles/stylesheet.py:221: UserWarning: Workbook contains no default style, apply openpyxl's default\n",
      "  warn(\"Workbook contains no default style, apply openpyxl's default\")\n"
     ]
    },
    {
     "name": "stdout",
     "output_type": "stream",
     "text": [
      "Opening file data/royal/royal_apothecary_sales_transactions_20210101_20210905.xlsx with columns Index(['date_type', 'id', 'last_modified_at', 'receipt_id', 'receipt_number',\n",
      "       'receipt_type', 'sales_customer_type', 'sales_datetime',\n",
      "       'total_packages', 'total_price', 'tx_type', 'tx_package_id',\n",
      "       'tx_package_label', 'tx_product_name', 'tx_product_category_name',\n",
      "       'tx_unit_of_measure', 'tx_quantity_sold', 'tx_total_price'],\n",
      "      dtype='object')\n"
     ]
    }
   ],
   "source": [
    "class Download(object):\n",
    "    \n",
    "    def __init__(self, \n",
    "                 incoming_file, outgoing_file, packages_file,\n",
    "                 sales_transactions_file):\n",
    "        self.incoming_records = self._file_as_dict_records(incoming_file)\n",
    "        self.outgoing_records = self._file_as_dict_records(outgoing_file)\n",
    "        self.packages_records = self._file_as_dict_records(packages_file)\n",
    "        self.sales_tx_records = self._file_as_dict_records(sales_transactions_file)\n",
    "    \n",
    "    def _file_as_dict_records(self, filepath):\n",
    "        df = pandas.read_excel(filepath, converters={\n",
    "            'package_id': str,\n",
    "            'tx_package_id': str\n",
    "        })\n",
    "        print('Opening file {} with columns {}'.format(filepath, df.columns))\n",
    "        return df.to_dict('records')\n",
    "\n",
    "d = Download(\n",
    "    incoming_file=INCOMING_TRANSFERS_FILE,\n",
    "    outgoing_file=OUTGOING_TRANSFERS_FILE,\n",
    "    packages_file=PACKAGES_FILE,\n",
    "    sales_transactions_file=SALES_TRANSACTIONS_FILE,\n",
    ")"
   ]
  },
  {
   "cell_type": "code",
   "execution_count": 206,
   "id": "9c698452-b70f-49b7-b7f1-f97820897ed2",
   "metadata": {},
   "outputs": [],
   "source": [
    "%autoreload 2\n",
    "\n",
    "sys.path.append(path.realpath(path.join(os.getcwd(), \"../scripts/analysis\")))\n",
    "sys.path.append(path.realpath(path.join(os.getcwd(), \"../src\")))\n",
    "\n",
    "from util import active_inventory_util as util"
   ]
  },
  {
   "cell_type": "code",
   "execution_count": 207,
   "id": "5fbbbfe7-87c0-4409-9e6a-b6dc2b63ce54",
   "metadata": {},
   "outputs": [
    {
     "name": "stdout",
     "output_type": "stream",
     "text": [
      "Wrote result to Royal_Apothecary_inventory_by_month.xls\n",
      "Hello there\n",
      "Excluded 1703 / 3958 packages from consideration (43.03%)\n",
      "  MANY_INCOMING: 1 times\n",
      "  MISSING_INCOMING: 1702 times\n"
     ]
    }
   ],
   "source": [
    "q = util.Query()\n",
    "q.inventory_dates = inventory_dates\n",
    "q.company_name = company_name\n",
    "\n",
    "id_to_history = util.get_histories(d)\n",
    "util.create_inventory_xlsx(id_to_history, q)"
   ]
  },
  {
   "cell_type": "code",
   "execution_count": null,
   "id": "4de368e2-44ab-4885-86d2-54b989f091f2",
   "metadata": {},
   "outputs": [],
   "source": []
  }
 ],
 "metadata": {
  "kernelspec": {
   "display_name": "Python 3",
   "language": "python",
   "name": "python3"
  },
  "language_info": {
   "codemirror_mode": {
    "name": "ipython",
    "version": 3
   },
   "file_extension": ".py",
   "mimetype": "text/x-python",
   "name": "python",
   "nbconvert_exporter": "python",
   "pygments_lexer": "ipython3",
   "version": "3.7.7"
  }
 },
 "nbformat": 4,
 "nbformat_minor": 5
}
