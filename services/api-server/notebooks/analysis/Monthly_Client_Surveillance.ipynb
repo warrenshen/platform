{
 "cells": [
  {
   "cell_type": "code",
   "execution_count": 2,
   "id": "a1df46ef",
   "metadata": {},
   "outputs": [],
   "source": [
    "import warnings\n",
    "warnings.filterwarnings('ignore')"
   ]
  },
  {
   "cell_type": "code",
   "execution_count": 3,
   "id": "17064e54-fe0f-43e3-a00d-b2776aa5b753",
   "metadata": {},
   "outputs": [],
   "source": [
    "import json\n",
    "import numpy \n",
    "import os\n",
    "import pandas as pd\n",
    "import matplotlib.pyplot as plt\n",
    "%matplotlib inline  \n",
    "import pyarrow\n",
    "import sys\n",
    "\n",
    "from datetime import date\n",
    "from dotenv import load_dotenv\n",
    "from sqlalchemy import create_engine\n",
    "from os import path\n",
    "from typing import List,Dict, Tuple\n",
    "from collections import defaultdict\n",
    "pd.set_option(\"display.max_columns\", None)\n",
    "\n",
    "load_dotenv(verbose=True)\n",
    "BIGQUERY_CREDENTIALS_PATH = os.environ.get('BIGQUERY_CREDENTIALS_PATH')\n",
    "engine = create_engine('bigquery://bespoke-financial/ProdMetrcData', credentials_path=os.path.expanduser(BIGQUERY_CREDENTIALS_PATH))\n",
    "\n",
    "sys.path.append(path.realpath(path.join(os.getcwd(), \"../core\")))\n",
    "sys.path.append(path.realpath(path.join(os.getcwd(), \"../../src\")))\n",
    "sys.path.append(path.realpath(path.join(os.getcwd(), \"../../scripts\")))\n",
    "\n",
    "import create_queries\n",
    "import prepare_data\n",
    "\n",
    "from bespoke.inventory.analysis.shared import download_util, inventory_types\n",
    "from bespoke.inventory.analysis import active_inventory_util as util\n",
    "from bespoke.inventory.analysis import inventory_valuations_util as valuations_util\n",
    "\n",
    "%load_ext autoreload\n",
    "%autoreload 2"
   ]
  },
  {
   "cell_type": "code",
   "execution_count": 4,
   "id": "89297f22",
   "metadata": {},
   "outputs": [],
   "source": [
    "from underwriting import client_surveillance_jupyter"
   ]
  },
  {
   "cell_type": "code",
   "execution_count": 6,
   "id": "038c31ef-3af0-4b64-89b3-32c35769e7b2",
   "metadata": {},
   "outputs": [],
   "source": [
    "COMPANY_IDENTIFIER = ['99HT']\n",
    "TRANSFER_PACKAGES_START_DATE = '2020-01-01'\n",
    "SALES_TRANSACTIONS_START_DATE = '2020-01-01'"
   ]
  },
  {
   "cell_type": "code",
   "execution_count": 7,
   "id": "7892d4f2-ef44-45ff-aea9-681fc6c86b34",
   "metadata": {},
   "outputs": [],
   "source": [
    "#fetch download report and lisences\n",
    "company_licenses_query = create_queries.create_company_licenses_query(COMPANY_IDENTIFIER)\n",
    "company_download_summaries_query = create_queries.create_company_download_summaries_query(COMPANY_IDENTIFIER, TRANSFER_PACKAGES_START_DATE)\n",
    "\n",
    "company_licenses_dataframe = pd.read_sql_query(company_licenses_query, engine)\n",
    "company_download_summaries_dataframe = pd.read_sql_query(company_download_summaries_query, engine)"
   ]
  },
  {
   "cell_type": "code",
   "execution_count": 8,
   "id": "54fa9801",
   "metadata": {},
   "outputs": [
    {
     "data": {
      "text/html": [
       "<div>\n",
       "<style scoped>\n",
       "    .dataframe tbody tr th:only-of-type {\n",
       "        vertical-align: middle;\n",
       "    }\n",
       "\n",
       "    .dataframe tbody tr th {\n",
       "        vertical-align: top;\n",
       "    }\n",
       "\n",
       "    .dataframe thead th {\n",
       "        text-align: right;\n",
       "    }\n",
       "</style>\n",
       "<table border=\"1\" class=\"dataframe\">\n",
       "  <thead>\n",
       "    <tr style=\"text-align: right;\">\n",
       "      <th></th>\n",
       "      <th>us_state</th>\n",
       "      <th>license_number</th>\n",
       "      <th>license_category</th>\n",
       "      <th>legal_name</th>\n",
       "      <th>is_current</th>\n",
       "      <th>license_status</th>\n",
       "      <th>rollup_id</th>\n",
       "      <th>license_description</th>\n",
       "      <th>company_id</th>\n",
       "      <th>facility_row_id</th>\n",
       "    </tr>\n",
       "  </thead>\n",
       "  <tbody>\n",
       "    <tr>\n",
       "      <th>0</th>\n",
       "      <td>CA</td>\n",
       "      <td>C10-0000279-LIC</td>\n",
       "      <td>Retailer</td>\n",
       "      <td>99 HIGHTIDE COLLECTIVE</td>\n",
       "      <td>True</td>\n",
       "      <td>Active</td>\n",
       "      <td>CA-00095</td>\n",
       "      <td>Retailer</td>\n",
       "      <td>54013296-4d58-48bb-bd1b-a6e7b2d17aa3</td>\n",
       "      <td>bfe0b8b2-15f7-44cc-adce-ea909be06c47</td>\n",
       "    </tr>\n",
       "  </tbody>\n",
       "</table>\n",
       "</div>"
      ],
      "text/plain": [
       "  us_state   license_number license_category              legal_name  \\\n",
       "0       CA  C10-0000279-LIC         Retailer  99 HIGHTIDE COLLECTIVE   \n",
       "\n",
       "   is_current license_status rollup_id license_description  \\\n",
       "0        True         Active  CA-00095            Retailer   \n",
       "\n",
       "                             company_id                       facility_row_id  \n",
       "0  54013296-4d58-48bb-bd1b-a6e7b2d17aa3  bfe0b8b2-15f7-44cc-adce-ea909be06c47  "
      ]
     },
     "execution_count": 8,
     "metadata": {},
     "output_type": "execute_result"
    }
   ],
   "source": [
    "company_licenses_dataframe"
   ]
  },
  {
   "cell_type": "markdown",
   "id": "5ddb460b",
   "metadata": {},
   "source": [
    "## Check download status summaries"
   ]
  },
  {
   "cell_type": "code",
   "execution_count": 9,
   "id": "cec4010a",
   "metadata": {},
   "outputs": [],
   "source": [
    "license_numbers = company_download_summaries_dataframe['license_number'].unique()\n",
    "download_summary_records = company_download_summaries_dataframe.to_dict('records')"
   ]
  },
  {
   "cell_type": "code",
   "execution_count": 10,
   "id": "2d720e85",
   "metadata": {},
   "outputs": [
    {
     "data": {
      "text/plain": [
       "array(['C10-0000279-LIC'], dtype=object)"
      ]
     },
     "execution_count": 10,
     "metadata": {},
     "output_type": "execute_result"
    }
   ],
   "source": [
    "license_numbers"
   ]
  },
  {
   "cell_type": "code",
   "execution_count": 11,
   "id": "cc634d6a",
   "metadata": {
    "scrolled": true
   },
   "outputs": [
    {
     "name": "stdout",
     "output_type": "stream",
     "text": [
      "Verifying download summaries for license C10-0000279-LIC...\n",
      "Earliest download summary: 2021-01-01\n",
      "Latest download summary: 2022-04-23\n",
      "Found bad download summary for license C10-0000279-LIC on date 2022-03-09\n",
      "\n",
      "[FAILURE] Found a total of 1 bad download summaries\n"
     ]
    }
   ],
   "source": [
    "bad_download_history = client_surveillance_jupyter.check_company_license_download(license_numbers,download_summary_records)"
   ]
  },
  {
   "cell_type": "code",
   "execution_count": 12,
   "id": "931a4474",
   "metadata": {},
   "outputs": [
    {
     "data": {
      "text/plain": [
       "defaultdict(list, {'C10-0000279-LIC': [datetime.date(2022, 3, 9)]})"
      ]
     },
     "execution_count": 12,
     "metadata": {},
     "output_type": "execute_result"
    }
   ],
   "source": [
    "bad_download_history"
   ]
  },
  {
   "cell_type": "markdown",
   "id": "5edcc0c3",
   "metadata": {},
   "source": [
    "## Choose license numbers"
   ]
  },
  {
   "cell_type": "code",
   "execution_count": 13,
   "id": "1eb753d1",
   "metadata": {},
   "outputs": [
    {
     "data": {
      "text/plain": [
       "['C10-0000279-LIC']"
      ]
     },
     "execution_count": 13,
     "metadata": {},
     "output_type": "execute_result"
    }
   ],
   "source": [
    "# get list of retailer license numbers\n",
    "license_numbers = list(company_licenses_dataframe[company_licenses_dataframe['license_category'].isin(['Retailer', 'Multiple'])]['license_number'].unique())\n",
    "license_numbers"
   ]
  },
  {
   "cell_type": "markdown",
   "id": "aee3310e",
   "metadata": {},
   "source": [
    "# License check"
   ]
  },
  {
   "cell_type": "code",
   "execution_count": 14,
   "id": "1baaa63a",
   "metadata": {},
   "outputs": [
    {
     "data": {
      "text/html": [
       "<div>\n",
       "<style scoped>\n",
       "    .dataframe tbody tr th:only-of-type {\n",
       "        vertical-align: middle;\n",
       "    }\n",
       "\n",
       "    .dataframe tbody tr th {\n",
       "        vertical-align: top;\n",
       "    }\n",
       "\n",
       "    .dataframe thead th {\n",
       "        text-align: right;\n",
       "    }\n",
       "</style>\n",
       "<table border=\"1\" class=\"dataframe\">\n",
       "  <thead>\n",
       "    <tr style=\"text-align: right;\">\n",
       "      <th></th>\n",
       "      <th>us_state</th>\n",
       "      <th>license_number</th>\n",
       "      <th>license_category</th>\n",
       "      <th>legal_name</th>\n",
       "      <th>is_current</th>\n",
       "      <th>license_status</th>\n",
       "      <th>rollup_id</th>\n",
       "      <th>license_description</th>\n",
       "      <th>company_id</th>\n",
       "      <th>facility_row_id</th>\n",
       "    </tr>\n",
       "  </thead>\n",
       "  <tbody>\n",
       "    <tr>\n",
       "      <th>0</th>\n",
       "      <td>CA</td>\n",
       "      <td>C10-0000279-LIC</td>\n",
       "      <td>Retailer</td>\n",
       "      <td>99 HIGHTIDE COLLECTIVE</td>\n",
       "      <td>True</td>\n",
       "      <td>Active</td>\n",
       "      <td>CA-00095</td>\n",
       "      <td>Retailer</td>\n",
       "      <td>54013296-4d58-48bb-bd1b-a6e7b2d17aa3</td>\n",
       "      <td>bfe0b8b2-15f7-44cc-adce-ea909be06c47</td>\n",
       "    </tr>\n",
       "  </tbody>\n",
       "</table>\n",
       "</div>"
      ],
      "text/plain": [
       "  us_state   license_number license_category              legal_name  \\\n",
       "0       CA  C10-0000279-LIC         Retailer  99 HIGHTIDE COLLECTIVE   \n",
       "\n",
       "   is_current license_status rollup_id license_description  \\\n",
       "0        True         Active  CA-00095            Retailer   \n",
       "\n",
       "                             company_id                       facility_row_id  \n",
       "0  54013296-4d58-48bb-bd1b-a6e7b2d17aa3  bfe0b8b2-15f7-44cc-adce-ea909be06c47  "
      ]
     },
     "execution_count": 14,
     "metadata": {},
     "output_type": "execute_result"
    }
   ],
   "source": [
    "company_licenses_dataframe"
   ]
  },
  {
   "cell_type": "code",
   "execution_count": 15,
   "id": "f09f402a",
   "metadata": {},
   "outputs": [
    {
     "data": {
      "text/plain": [
       "'CA'"
      ]
     },
     "execution_count": 15,
     "metadata": {},
     "output_type": "execute_result"
    }
   ],
   "source": [
    "company_state = list(company_licenses_dataframe['us_state'].unique())[0]\n",
    "company_state"
   ]
  },
  {
   "cell_type": "code",
   "execution_count": 16,
   "id": "d853cfe6",
   "metadata": {},
   "outputs": [
    {
     "data": {
      "text/html": [
       "<div>\n",
       "<style scoped>\n",
       "    .dataframe tbody tr th:only-of-type {\n",
       "        vertical-align: middle;\n",
       "    }\n",
       "\n",
       "    .dataframe tbody tr th {\n",
       "        vertical-align: top;\n",
       "    }\n",
       "\n",
       "    .dataframe thead th {\n",
       "        text-align: right;\n",
       "    }\n",
       "</style>\n",
       "<table border=\"1\" class=\"dataframe\">\n",
       "  <thead>\n",
       "    <tr style=\"text-align: right;\">\n",
       "      <th></th>\n",
       "      <th>license_number</th>\n",
       "      <th>license_category</th>\n",
       "      <th>is_current</th>\n",
       "      <th>license_status</th>\n",
       "      <th>us_state</th>\n",
       "      <th>license_check</th>\n",
       "    </tr>\n",
       "  </thead>\n",
       "  <tbody>\n",
       "    <tr>\n",
       "      <th>0</th>\n",
       "      <td>C10-0000279-LIC</td>\n",
       "      <td>Retailer</td>\n",
       "      <td>True</td>\n",
       "      <td>Active</td>\n",
       "      <td>CA</td>\n",
       "      <td>YES</td>\n",
       "    </tr>\n",
       "  </tbody>\n",
       "</table>\n",
       "</div>"
      ],
      "text/plain": [
       "    license_number license_category  is_current license_status us_state  \\\n",
       "0  C10-0000279-LIC         Retailer        True         Active       CA   \n",
       "\n",
       "  license_check  \n",
       "0           YES  "
      ]
     },
     "execution_count": 16,
     "metadata": {},
     "output_type": "execute_result"
    }
   ],
   "source": [
    "retial_license_check_df = company_licenses_dataframe[company_licenses_dataframe['license_number'].isin(license_numbers)][['license_number','license_category','is_current','license_status','us_state']].reset_index(drop = True)\n",
    "retial_license_check_df['license_check'] = ['YES' if retial_license_check_df['license_status'][i] == 'Active' or str(retial_license_check_df['is_current'][i]) == 'True' else 'NO' for i in range(len(retial_license_check_df))]\n",
    "retial_license_check_df\n"
   ]
  },
  {
   "cell_type": "markdown",
   "id": "8e35183a",
   "metadata": {},
   "source": [
    "## Pull data"
   ]
  },
  {
   "cell_type": "code",
   "execution_count": 17,
   "id": "61cc4333-fcbf-4d35-ad5f-09cfb5b17486",
   "metadata": {},
   "outputs": [],
   "source": [
    "company_incoming_transfer_packages_query = create_queries.create_company_incoming_transfer_packages_query(\n",
    "    COMPANY_IDENTIFIER,\n",
    "    TRANSFER_PACKAGES_START_DATE,\n",
    "    license_numbers=license_numbers,\n",
    ")\n",
    "company_outgoing_transfer_packages_query = create_queries.create_company_outgoing_transfer_packages_query(\n",
    "    COMPANY_IDENTIFIER,\n",
    "    TRANSFER_PACKAGES_START_DATE,\n",
    "    license_numbers=license_numbers,\n",
    ")\n",
    "company_unknown_transfer_packages_query = create_queries.create_company_unknown_transfer_packages_query(\n",
    "    COMPANY_IDENTIFIER,\n",
    "    TRANSFER_PACKAGES_START_DATE,\n",
    "#     license_numbers=license_numbers,\n",
    ")\n",
    "company_sales_transactions_query = create_queries.create_company_sales_transactions_query(\n",
    "    COMPANY_IDENTIFIER,\n",
    "    SALES_TRANSACTIONS_START_DATE,\n",
    "    license_numbers=license_numbers,\n",
    ")\n",
    "company_sales_receipts_query = create_queries.create_company_sales_receipts_query(\n",
    "    COMPANY_IDENTIFIER,\n",
    "    SALES_TRANSACTIONS_START_DATE,\n",
    "    license_numbers=license_numbers,\n",
    ")\n",
    "company_sales_receipts_with_transactions_query = create_queries.create_company_sales_receipts_with_transactions_query(\n",
    "    COMPANY_IDENTIFIER,\n",
    "    SALES_TRANSACTIONS_START_DATE,\n",
    "    license_numbers=license_numbers,\n",
    ")\n",
    "company_inventory_packages_query = create_queries.create_company_inventory_packages_query(\n",
    "    COMPANY_IDENTIFIER,\n",
    "    include_quantity_zero=True,\n",
    "    license_numbers=license_numbers,\n",
    ")\n",
    "\n",
    "company_incoming_transfer_packages_dataframe = pd.read_sql_query(company_incoming_transfer_packages_query, engine)\n",
    "company_outgoing_transfer_packages_dataframe = pd.read_sql_query(company_outgoing_transfer_packages_query, engine)\n",
    "company_unknown_transfer_packages_dataframe = pd.read_sql_query(company_unknown_transfer_packages_query, engine)\n",
    "company_sales_transactions_dataframe = pd.read_sql_query(company_sales_transactions_query, engine)\n",
    "company_sales_receipts_dataframe = pd.read_sql_query(company_sales_receipts_query, engine)\n",
    "company_sales_receipts_with_transactions_dataframe = pd.read_sql_query(company_sales_receipts_with_transactions_query, engine)\n",
    "company_inventory_packages_dataframe = pd.read_sql_query(company_inventory_packages_query, engine)"
   ]
  },
  {
   "cell_type": "code",
   "execution_count": 18,
   "id": "72800636",
   "metadata": {},
   "outputs": [
    {
     "data": {
      "text/plain": [
       "array(['C10-0000279-LIC'], dtype=object)"
      ]
     },
     "execution_count": 18,
     "metadata": {},
     "output_type": "execute_result"
    }
   ],
   "source": [
    "#make sure we did pulled all location's data\n",
    "company_incoming_transfer_packages_dataframe['license_number'].unique()"
   ]
  },
  {
   "cell_type": "code",
   "execution_count": 19,
   "id": "f2e41170",
   "metadata": {},
   "outputs": [
    {
     "data": {
      "text/plain": [
       "array(['C10-0000279-LIC'], dtype=object)"
      ]
     },
     "execution_count": 19,
     "metadata": {},
     "output_type": "execute_result"
    }
   ],
   "source": [
    "company_sales_receipts_with_transactions_dataframe['license_number'].unique()"
   ]
  },
  {
   "cell_type": "code",
   "execution_count": 20,
   "id": "31da29cf",
   "metadata": {},
   "outputs": [
    {
     "data": {
      "text/plain": [
       "array(['C10-0000279-LIC'], dtype=object)"
      ]
     },
     "execution_count": 20,
     "metadata": {},
     "output_type": "execute_result"
    }
   ],
   "source": [
    "company_inventory_packages_dataframe['license_number'].unique()"
   ]
  },
  {
   "cell_type": "markdown",
   "id": "22f31807",
   "metadata": {},
   "source": [
    "## Unknown transfer packages"
   ]
  },
  {
   "cell_type": "code",
   "execution_count": 21,
   "id": "f3a6daad",
   "metadata": {},
   "outputs": [
    {
     "name": "stdout",
     "output_type": "stream",
     "text": [
      "[SUCCESS] No unknown transfer packages!\n"
     ]
    },
    {
     "data": {
      "text/plain": [
       "0"
      ]
     },
     "execution_count": 21,
     "metadata": {},
     "output_type": "execute_result"
    }
   ],
   "source": [
    "unknown_package_count = client_surveillance_jupyter.check_unknown_transfer_packages(company_unknown_transfer_packages_dataframe)\n",
    "unknown_package_count"
   ]
  },
  {
   "cell_type": "markdown",
   "id": "e045f647",
   "metadata": {},
   "source": [
    "## Receiver wholesale price coverage"
   ]
  },
  {
   "cell_type": "code",
   "execution_count": 22,
   "id": "fc28651c",
   "metadata": {},
   "outputs": [
    {
     "data": {
      "text/plain": [
       "(3957, 32)"
      ]
     },
     "execution_count": 22,
     "metadata": {},
     "output_type": "execute_result"
    }
   ],
   "source": [
    "company_incoming_transfer_packages_dataframe[company_incoming_transfer_packages_dataframe['receiver_wholesale_price'].notnull()].shape"
   ]
  },
  {
   "cell_type": "code",
   "execution_count": 23,
   "id": "09992a21",
   "metadata": {},
   "outputs": [
    {
     "data": {
      "text/plain": [
       "(4210, 32)"
      ]
     },
     "execution_count": 23,
     "metadata": {},
     "output_type": "execute_result"
    }
   ],
   "source": [
    "company_incoming_transfer_packages_dataframe.shape"
   ]
  },
  {
   "cell_type": "code",
   "execution_count": 24,
   "id": "44df31d7",
   "metadata": {},
   "outputs": [
    {
     "name": "stdout",
     "output_type": "stream",
     "text": [
      "94.0% of incoming transfer packages have receiver wholesale price\n"
     ]
    }
   ],
   "source": [
    "rwp_coverage = client_surveillance_jupyter.check_receiver_wholesale_price_coverage(company_incoming_transfer_packages_dataframe)\n"
   ]
  },
  {
   "cell_type": "markdown",
   "id": "e632a6c8",
   "metadata": {},
   "source": [
    "## dedupe sales transactions"
   ]
  },
  {
   "cell_type": "code",
   "execution_count": 25,
   "id": "54e232ef-5871-401c-9716-254f6242d138",
   "metadata": {},
   "outputs": [],
   "source": [
    "deduped_sales_receipts_with_transactions_dataframe = prepare_data.dedupe_sales_transactions(company_sales_receipts_with_transactions_dataframe)"
   ]
  },
  {
   "cell_type": "code",
   "execution_count": 26,
   "id": "3aa67466",
   "metadata": {},
   "outputs": [],
   "source": [
    "deduped_sales_receipts_with_transactions_dataframe['sales_month'] = deduped_sales_receipts_with_transactions_dataframe['sales_datetime'].dt.strftime('%Y-%m')"
   ]
  },
  {
   "cell_type": "code",
   "execution_count": 27,
   "id": "7a8bf4d7",
   "metadata": {},
   "outputs": [
    {
     "data": {
      "text/plain": [
       "array(['C10-0000279-LIC'], dtype=object)"
      ]
     },
     "execution_count": 27,
     "metadata": {},
     "output_type": "execute_result"
    }
   ],
   "source": [
    "#check we have all locations\n",
    "deduped_sales_receipts_with_transactions_dataframe['license_number'].unique()"
   ]
  },
  {
   "cell_type": "markdown",
   "id": "b02839ed",
   "metadata": {},
   "source": [
    "## Trxns missing incoming transfer packages"
   ]
  },
  {
   "cell_type": "code",
   "execution_count": 28,
   "id": "cd0b5a90",
   "metadata": {},
   "outputs": [
    {
     "name": "stdout",
     "output_type": "stream",
     "text": [
      "# transactions missing incoming transfer package: 8390 (7.595234646581692%)\n",
      "# transactions total: 110464\n"
     ]
    }
   ],
   "source": [
    "incoming_transfer_package_coverage,incoming_transfer_package_coverage_missing = client_surveillance_jupyter.check_incoming_transfer_package_coverage(company_incoming_transfer_packages_dataframe,deduped_sales_receipts_with_transactions_dataframe)"
   ]
  },
  {
   "cell_type": "code",
   "execution_count": 29,
   "id": "6be6dd2a",
   "metadata": {},
   "outputs": [
    {
     "data": {
      "text/plain": [
       "sales_month\n",
       "2020-05       1\n",
       "2020-07       1\n",
       "2020-08       2\n",
       "2020-10       1\n",
       "2020-11       7\n",
       "2020-12     146\n",
       "2021-01    2262\n",
       "2021-02     545\n",
       "2021-03     399\n",
       "2021-04     242\n",
       "2021-05     324\n",
       "2021-06     250\n",
       "2021-07     256\n",
       "2021-08     170\n",
       "2021-09      72\n",
       "2021-10      34\n",
       "2021-11      85\n",
       "2021-12     166\n",
       "2022-01     280\n",
       "2022-02     333\n",
       "2022-03     166\n",
       "2022-04      83\n",
       "dtype: int64"
      ]
     },
     "execution_count": 29,
     "metadata": {},
     "output_type": "execute_result"
    }
   ],
   "source": [
    "month_to_missing_count = incoming_transfer_package_coverage_missing[['sales_month','receipt_number']].groupby(['sales_month']).apply(lambda x: len(x['receipt_number'].unique()))\n",
    "month_to_missing_count\n"
   ]
  },
  {
   "cell_type": "markdown",
   "id": "0da2e8ce-e643-4fee-aca6-cd61b3becc21",
   "metadata": {},
   "source": [
    "## Receipts missing metrc_sales_transactions"
   ]
  },
  {
   "cell_type": "code",
   "execution_count": 30,
   "id": "cbc30296-afa8-42f8-a16b-72fe045395c6",
   "metadata": {},
   "outputs": [],
   "source": [
    "sales_receipt_with_transactions_records = deduped_sales_receipts_with_transactions_dataframe.to_dict('records')\n",
    "\n",
    "receipt_number_to_transactions = {}\n",
    "for sales_receipt_with_transaction_record in sales_receipt_with_transactions_records:\n",
    "    receipt_number = sales_receipt_with_transaction_record['receipt_number']\n",
    "    if receipt_number in receipt_number_to_transactions:\n",
    "        receipt_number_to_transactions[receipt_number] += [sales_receipt_with_transaction_record]\n",
    "    else:\n",
    "        receipt_number_to_transactions[receipt_number] = [sales_receipt_with_transaction_record]"
   ]
  },
  {
   "cell_type": "code",
   "execution_count": 31,
   "id": "c8f876a8-09ef-4582-9ed9-958d3e97b4a5",
   "metadata": {},
   "outputs": [
    {
     "name": "stdout",
     "output_type": "stream",
     "text": [
      "# receipts with mismatching transactions: 0 (0.0%)\n",
      "# receipts missing transactions: 0 (0.0%)\n",
      "# receipts total: 51136\n"
     ]
    }
   ],
   "source": [
    "import math\n",
    "\n",
    "def float_eq(receipt_total_price: float, transactions_total_price: float, num_transactions: int) -> bool:\n",
    "    # For every additional transaction, increase threshold by 0.01 (a penny).\n",
    "    threshold = num_transactions * 0.01\n",
    "    return math.isclose(receipt_total_price, transactions_total_price, abs_tol=threshold)\n",
    "\n",
    "mismatch_count = 0 # Count of receipts where receipt total price does not match transactions total price.\n",
    "missing_count = 0 # Count of receipts with no transactions.\n",
    "total_count = 0 # Count of receipts (including those missing transactions).\n",
    "\n",
    "mismatch_over_count = 0\n",
    "mismatch_under_count = 0\n",
    "\n",
    "month_to_mismatch_count = {}\n",
    "month_to_missing_count = {}\n",
    "\n",
    "month_to_mismatch_over_count = {}\n",
    "month_to_mismatch_under_count = {}\n",
    "\n",
    "example_mismatch_over_receipts = []\n",
    "example_mismatch_under_receipts = []\n",
    "\n",
    "for receipt_number, receipt_transactions in list(receipt_number_to_transactions.items()):\n",
    "    receipt_total_price = receipt_transactions[0]['rt_total_price']\n",
    "    receipt_sales_month = receipt_transactions[0]['sales_month']\n",
    "    receipt_total_packages = receipt_transactions[0]['total_packages']\n",
    "\n",
    "    total_count += 1\n",
    "\n",
    "    if len(receipt_transactions) == 1 and receipt_transactions[0]['tx_package_id'] == None:\n",
    "        missing_count += 1\n",
    "        if receipt_sales_month not in month_to_missing_count:\n",
    "            month_to_missing_count[receipt_sales_month] = 0\n",
    "        month_to_missing_count[receipt_sales_month] += 1\n",
    "        continue\n",
    "\n",
    "    # Check whether 'total_packages' field of sales receipt matches number of transactions related to receipt.\n",
    "    if receipt_total_packages != len(receipt_transactions):\n",
    "        missing_count += 1\n",
    "        if receipt_sales_month not in month_to_missing_count:\n",
    "            month_to_missing_count[receipt_sales_month] = 0\n",
    "        month_to_missing_count[receipt_sales_month] += 1\n",
    "        continue\n",
    "\n",
    "    transactions_total_price = sum(receipt_transaction['tx_total_price'] for receipt_transaction in receipt_transactions)\n",
    "    if not float_eq(receipt_total_price, transactions_total_price, len(receipt_transactions)):\n",
    "        mismatch_count += 1\n",
    "        if receipt_total_price < transactions_total_price:\n",
    "            mismatch_over_count += 1\n",
    "            example_mismatch_over_receipts += [(receipt_number, receipt_transactions)]\n",
    "        else:\n",
    "            mismatch_under_count += 1\n",
    "            example_mismatch_under_receipts += [(receipt_number, receipt_transactions)]\n",
    "\n",
    "        if receipt_sales_month not in month_to_mismatch_count:\n",
    "            month_to_mismatch_count[receipt_sales_month] = 0\n",
    "        month_to_mismatch_count[receipt_sales_month] += 1\n",
    "        continue\n",
    "\n",
    "print(f'# receipts with mismatching transactions: {mismatch_count} ({mismatch_count / total_count * 100}%)')\n",
    "print(f'# receipts missing transactions: {missing_count} ({missing_count / total_count * 100}%)')\n",
    "print(f'# receipts total: {total_count}')\n",
    "\n",
    "if mismatch_count:\n",
    "    print(f'# mismatch receipt vs transactions (transactions over): {mismatch_over_count} ({mismatch_over_count / mismatch_count * 100}%)')\n",
    "    print(f'# mismatch receipt vs transactions (transactions under): {mismatch_under_count} ({mismatch_under_count / mismatch_count * 100}%)')"
   ]
  },
  {
   "cell_type": "code",
   "execution_count": 32,
   "id": "e1ab76b8",
   "metadata": {},
   "outputs": [],
   "source": [
    "company_sales_receipts_dataframe['sales_month'] = company_sales_receipts_dataframe['sales_datetime'].dt.strftime('%Y-%m')"
   ]
  },
  {
   "cell_type": "code",
   "execution_count": 33,
   "id": "1eb6b9f3",
   "metadata": {},
   "outputs": [
    {
     "data": {
      "text/plain": [
       "<AxesSubplot:xlabel='sales_month'>"
      ]
     },
     "execution_count": 33,
     "metadata": {},
     "output_type": "execute_result"
    },
    {
     "data": {
      "image/png": "[encoded data removed]",
      "text/plain": [
       "<Figure size 1728x576 with 1 Axes>"
      ]
     },
     "metadata": {
      "needs_background": "light"
     },
     "output_type": "display_data"
    }
   ],
   "source": [
    "deduped_sales_receipts_with_transactions_dataframe.groupby(['sales_month'])['tx_total_price'].sum().plot.bar(figsize=(24, 8), stacked=True)"
   ]
  },
  {
   "cell_type": "markdown",
   "id": "40a054de",
   "metadata": {},
   "source": [
    "# Vendor churn"
   ]
  },
  {
   "cell_type": "code",
   "execution_count": 34,
   "id": "c18451c1",
   "metadata": {},
   "outputs": [],
   "source": [
    "WINDOW = 4\n",
    "VC_START_DATE = '2020-01-01'\n",
    "VC_END_DATE = '2022-04-01'\n",
    "VC_MONTH_LIST = ['2022-01-01','2022-02-01','2022-03-01','2022-04-01']\n",
    "VC_MONTH_END = VC_MONTH_LIST[-1]"
   ]
  },
  {
   "cell_type": "code",
   "execution_count": 35,
   "id": "247358ea",
   "metadata": {},
   "outputs": [
    {
     "data": {
      "text/plain": [
       "['C10-0000279-LIC']"
      ]
     },
     "execution_count": 35,
     "metadata": {},
     "output_type": "execute_result"
    }
   ],
   "source": [
    "license_numbers"
   ]
  },
  {
   "cell_type": "code",
   "execution_count": 36,
   "id": "dd3f7bd4",
   "metadata": {},
   "outputs": [],
   "source": [
    "churn,vc_matrix = client_surveillance_jupyter.calculate_vendor_churn(company_incoming_transfer_packages_dataframe,license_numbers,WINDOW,VC_START_DATE,VC_END_DATE,VC_MONTH_LIST,VC_MONTH_END)\n"
   ]
  },
  {
   "cell_type": "code",
   "execution_count": 37,
   "id": "b5fcd834",
   "metadata": {},
   "outputs": [],
   "source": [
    "churn_short,vc_matrix_short = client_surveillance_jupyter.calculate_vendor_churn_short(company_incoming_transfer_packages_dataframe,license_numbers,VC_START_DATE,VC_END_DATE,VC_MONTH_LIST,VC_MONTH_END)\n"
   ]
  },
  {
   "cell_type": "code",
   "execution_count": 38,
   "id": "85aaa685",
   "metadata": {},
   "outputs": [
    {
     "data": {
      "image/png": "[encoded data removed]",
      "text/plain": [
       "<Figure size 864x576 with 1 Axes>"
      ]
     },
     "metadata": {
      "needs_background": "light"
     },
     "output_type": "display_data"
    }
   ],
   "source": [
    "ax = churn['%_inactive'].plot(marker = 'o',figsize = (12,8),label = 'VC old')\n",
    "ax = churn_short['%_inactive'].plot(marker = 'o',figsize = (12,8),label = 'VC short')\n",
    "vals = ax.get_yticks()\n",
    "ax.set_yticklabels(['{:,.2%}'.format(x) for x in vals])\n",
    "ax = plt.title('Rolling 4m vendor churn')\n",
    "ax = plt.legend()"
   ]
  },
  {
   "cell_type": "markdown",
   "id": "21b8b232",
   "metadata": {},
   "source": [
    "# Receiver wholesale price outlier check"
   ]
  },
  {
   "cell_type": "code",
   "execution_count": 39,
   "id": "00fbd51c",
   "metadata": {},
   "outputs": [
    {
     "name": "stdout",
     "output_type": "stream",
     "text": [
      "printing per unit incoming by package ID summary ...\n",
      "max per unit incoming: 819.0 from package ID: 14968244\n",
      "min per unit incoming: 5e-05 from package ID: 11487679\n",
      "\n"
     ]
    }
   ],
   "source": [
    "per_unit_incoming_package_sort,per_unit_incoming_product_sort = client_surveillance_jupyter.check_per_unit_incoming(company_incoming_transfer_packages_dataframe)\n"
   ]
  },
  {
   "cell_type": "code",
   "execution_count": 40,
   "id": "1f93f801",
   "metadata": {},
   "outputs": [
    {
     "name": "stdout",
     "output_type": "stream",
     "text": [
      "Top 5 per unit incoming packages\n"
     ]
    },
    {
     "data": {
      "text/html": [
       "<div>\n",
       "<style scoped>\n",
       "    .dataframe tbody tr th:only-of-type {\n",
       "        vertical-align: middle;\n",
       "    }\n",
       "\n",
       "    .dataframe tbody tr th {\n",
       "        vertical-align: top;\n",
       "    }\n",
       "\n",
       "    .dataframe thead th {\n",
       "        text-align: right;\n",
       "    }\n",
       "</style>\n",
       "<table border=\"1\" class=\"dataframe\">\n",
       "  <thead>\n",
       "    <tr style=\"text-align: right;\">\n",
       "      <th></th>\n",
       "      <th>package_id</th>\n",
       "      <th>per_unit_incoming</th>\n",
       "    </tr>\n",
       "  </thead>\n",
       "  <tbody>\n",
       "    <tr>\n",
       "      <th>0</th>\n",
       "      <td>14968244</td>\n",
       "      <td>819.0</td>\n",
       "    </tr>\n",
       "    <tr>\n",
       "      <th>1</th>\n",
       "      <td>10878789</td>\n",
       "      <td>350.0</td>\n",
       "    </tr>\n",
       "    <tr>\n",
       "      <th>2</th>\n",
       "      <td>23054172</td>\n",
       "      <td>200.0</td>\n",
       "    </tr>\n",
       "    <tr>\n",
       "      <th>3</th>\n",
       "      <td>17352701</td>\n",
       "      <td>180.0</td>\n",
       "    </tr>\n",
       "    <tr>\n",
       "      <th>4</th>\n",
       "      <td>23054555</td>\n",
       "      <td>100.0</td>\n",
       "    </tr>\n",
       "    <tr>\n",
       "      <th>5</th>\n",
       "      <td>16085581</td>\n",
       "      <td>85.0</td>\n",
       "    </tr>\n",
       "    <tr>\n",
       "      <th>6</th>\n",
       "      <td>17593036</td>\n",
       "      <td>85.0</td>\n",
       "    </tr>\n",
       "    <tr>\n",
       "      <th>7</th>\n",
       "      <td>17762549</td>\n",
       "      <td>85.0</td>\n",
       "    </tr>\n",
       "    <tr>\n",
       "      <th>8</th>\n",
       "      <td>16085584</td>\n",
       "      <td>85.0</td>\n",
       "    </tr>\n",
       "    <tr>\n",
       "      <th>9</th>\n",
       "      <td>21722057</td>\n",
       "      <td>75.0</td>\n",
       "    </tr>\n",
       "    <tr>\n",
       "      <th>10</th>\n",
       "      <td>22796415</td>\n",
       "      <td>75.0</td>\n",
       "    </tr>\n",
       "    <tr>\n",
       "      <th>11</th>\n",
       "      <td>19949350</td>\n",
       "      <td>75.0</td>\n",
       "    </tr>\n",
       "    <tr>\n",
       "      <th>12</th>\n",
       "      <td>22796414</td>\n",
       "      <td>75.0</td>\n",
       "    </tr>\n",
       "    <tr>\n",
       "      <th>13</th>\n",
       "      <td>19949769</td>\n",
       "      <td>75.0</td>\n",
       "    </tr>\n",
       "    <tr>\n",
       "      <th>14</th>\n",
       "      <td>22796413</td>\n",
       "      <td>75.0</td>\n",
       "    </tr>\n",
       "    <tr>\n",
       "      <th>15</th>\n",
       "      <td>21722018</td>\n",
       "      <td>75.0</td>\n",
       "    </tr>\n",
       "    <tr>\n",
       "      <th>16</th>\n",
       "      <td>19161838</td>\n",
       "      <td>75.0</td>\n",
       "    </tr>\n",
       "    <tr>\n",
       "      <th>17</th>\n",
       "      <td>19231471</td>\n",
       "      <td>75.0</td>\n",
       "    </tr>\n",
       "    <tr>\n",
       "      <th>18</th>\n",
       "      <td>13438639</td>\n",
       "      <td>60.0</td>\n",
       "    </tr>\n",
       "    <tr>\n",
       "      <th>19</th>\n",
       "      <td>13306100</td>\n",
       "      <td>60.0</td>\n",
       "    </tr>\n",
       "  </tbody>\n",
       "</table>\n",
       "</div>"
      ],
      "text/plain": [
       "   package_id  per_unit_incoming\n",
       "0    14968244              819.0\n",
       "1    10878789              350.0\n",
       "2    23054172              200.0\n",
       "3    17352701              180.0\n",
       "4    23054555              100.0\n",
       "5    16085581               85.0\n",
       "6    17593036               85.0\n",
       "7    17762549               85.0\n",
       "8    16085584               85.0\n",
       "9    21722057               75.0\n",
       "10   22796415               75.0\n",
       "11   19949350               75.0\n",
       "12   22796414               75.0\n",
       "13   19949769               75.0\n",
       "14   22796413               75.0\n",
       "15   21722018               75.0\n",
       "16   19161838               75.0\n",
       "17   19231471               75.0\n",
       "18   13438639               60.0\n",
       "19   13306100               60.0"
      ]
     },
     "execution_count": 40,
     "metadata": {},
     "output_type": "execute_result"
    }
   ],
   "source": [
    "# top 5\n",
    "print('Top 5 per unit incoming packages')\n",
    "per_unit_incoming_package_sort.head(20)"
   ]
  },
  {
   "cell_type": "code",
   "execution_count": 41,
   "id": "acc93f68",
   "metadata": {},
   "outputs": [
    {
     "name": "stdout",
     "output_type": "stream",
     "text": [
      "Bottom 5 per unit incoming packages\n"
     ]
    },
    {
     "data": {
      "text/html": [
       "<div>\n",
       "<style scoped>\n",
       "    .dataframe tbody tr th:only-of-type {\n",
       "        vertical-align: middle;\n",
       "    }\n",
       "\n",
       "    .dataframe tbody tr th {\n",
       "        vertical-align: top;\n",
       "    }\n",
       "\n",
       "    .dataframe thead th {\n",
       "        text-align: right;\n",
       "    }\n",
       "</style>\n",
       "<table border=\"1\" class=\"dataframe\">\n",
       "  <thead>\n",
       "    <tr style=\"text-align: right;\">\n",
       "      <th></th>\n",
       "      <th>package_id</th>\n",
       "      <th>per_unit_incoming</th>\n",
       "    </tr>\n",
       "  </thead>\n",
       "  <tbody>\n",
       "    <tr>\n",
       "      <th>4024</th>\n",
       "      <td>14968227</td>\n",
       "      <td>0.000159</td>\n",
       "    </tr>\n",
       "    <tr>\n",
       "      <th>4025</th>\n",
       "      <td>11487683</td>\n",
       "      <td>0.000100</td>\n",
       "    </tr>\n",
       "    <tr>\n",
       "      <th>4026</th>\n",
       "      <td>11487623</td>\n",
       "      <td>0.000067</td>\n",
       "    </tr>\n",
       "    <tr>\n",
       "      <th>4027</th>\n",
       "      <td>11576524</td>\n",
       "      <td>0.000067</td>\n",
       "    </tr>\n",
       "    <tr>\n",
       "      <th>4028</th>\n",
       "      <td>11487679</td>\n",
       "      <td>0.000050</td>\n",
       "    </tr>\n",
       "  </tbody>\n",
       "</table>\n",
       "</div>"
      ],
      "text/plain": [
       "     package_id  per_unit_incoming\n",
       "4024   14968227           0.000159\n",
       "4025   11487683           0.000100\n",
       "4026   11487623           0.000067\n",
       "4027   11576524           0.000067\n",
       "4028   11487679           0.000050"
      ]
     },
     "execution_count": 41,
     "metadata": {},
     "output_type": "execute_result"
    }
   ],
   "source": [
    "print('Bottom 5 per unit incoming packages')\n",
    "per_unit_incoming_package_sort.dropna().tail(5)\n"
   ]
  },
  {
   "cell_type": "code",
   "execution_count": 42,
   "id": "9daf6bf3",
   "metadata": {},
   "outputs": [
    {
     "data": {
      "text/html": [
       "<div>\n",
       "<style scoped>\n",
       "    .dataframe tbody tr th:only-of-type {\n",
       "        vertical-align: middle;\n",
       "    }\n",
       "\n",
       "    .dataframe tbody tr th {\n",
       "        vertical-align: top;\n",
       "    }\n",
       "\n",
       "    .dataframe thead th {\n",
       "        text-align: right;\n",
       "    }\n",
       "</style>\n",
       "<table border=\"1\" class=\"dataframe\">\n",
       "  <thead>\n",
       "    <tr style=\"text-align: right;\">\n",
       "      <th></th>\n",
       "      <th>delivery_type</th>\n",
       "      <th>license_number</th>\n",
       "      <th>manifest_number</th>\n",
       "      <th>created_date</th>\n",
       "      <th>received_datetime</th>\n",
       "      <th>shipment_transaction_type</th>\n",
       "      <th>shipper_facility_license_number</th>\n",
       "      <th>shipper_facility_name</th>\n",
       "      <th>recipient_facility_license_number</th>\n",
       "      <th>recipient_facility_name</th>\n",
       "      <th>shipment_type_name</th>\n",
       "      <th>shipment_transaction_type_1</th>\n",
       "      <th>package_id</th>\n",
       "      <th>package_label</th>\n",
       "      <th>type</th>\n",
       "      <th>source_package_labels</th>\n",
       "      <th>source_harvest_names</th>\n",
       "      <th>shipment_package_state</th>\n",
       "      <th>is_testing_sample</th>\n",
       "      <th>is_trade_sample</th>\n",
       "      <th>product_category_name</th>\n",
       "      <th>product_name</th>\n",
       "      <th>package_lab_results_status</th>\n",
       "      <th>shipper_wholesale_price</th>\n",
       "      <th>shipped_quantity</th>\n",
       "      <th>shipped_unit_of_measure</th>\n",
       "      <th>receiver_wholesale_price</th>\n",
       "      <th>received_quantity</th>\n",
       "      <th>received_unit_of_measure</th>\n",
       "      <th>receiver_wholesale_price_1</th>\n",
       "      <th>item_unit_weight</th>\n",
       "      <th>item_unit_weight_unit_of_measure_name</th>\n",
       "      <th>per_unit_incoming</th>\n",
       "    </tr>\n",
       "  </thead>\n",
       "  <tbody>\n",
       "  </tbody>\n",
       "</table>\n",
       "</div>"
      ],
      "text/plain": [
       "Empty DataFrame\n",
       "Columns: [delivery_type, license_number, manifest_number, created_date, received_datetime, shipment_transaction_type, shipper_facility_license_number, shipper_facility_name, recipient_facility_license_number, recipient_facility_name, shipment_type_name, shipment_transaction_type_1, package_id, package_label, type, source_package_labels, source_harvest_names, shipment_package_state, is_testing_sample, is_trade_sample, product_category_name, product_name, package_lab_results_status, shipper_wholesale_price, shipped_quantity, shipped_unit_of_measure, receiver_wholesale_price, received_quantity, received_unit_of_measure, receiver_wholesale_price_1, item_unit_weight, item_unit_weight_unit_of_measure_name, per_unit_incoming]\n",
       "Index: []"
      ]
     },
     "execution_count": 42,
     "metadata": {},
     "output_type": "execute_result"
    }
   ],
   "source": [
    "# look at large cost items if any\n",
    "company_incoming_transfer_packages_dataframe[company_incoming_transfer_packages_dataframe['per_unit_incoming'] > 10000]"
   ]
  },
  {
   "cell_type": "markdown",
   "id": "84b21f91-5b47-4407-8579-7e29714d60e4",
   "metadata": {},
   "source": [
    "# COGS analysis"
   ]
  },
  {
   "cell_type": "code",
   "execution_count": 43,
   "id": "2be2ff6a",
   "metadata": {},
   "outputs": [],
   "source": [
    "df_in = company_incoming_transfer_packages_dataframe[company_incoming_transfer_packages_dataframe['per_unit_incoming'] <= 10000]\n",
    "df_inventory = company_inventory_packages_dataframe\n",
    "df_sales = deduped_sales_receipts_with_transactions_dataframe"
   ]
  },
  {
   "cell_type": "code",
   "execution_count": 44,
   "id": "4126dddb",
   "metadata": {},
   "outputs": [],
   "source": [
    "df_summary_simp,df_cogs_average_product = client_surveillance_jupyter.cogs_analysis(df_in,df_sales,'monthly',company_state)\n"
   ]
  },
  {
   "cell_type": "code",
   "execution_count": 45,
   "id": "90cf57b0",
   "metadata": {},
   "outputs": [
    {
     "data": {
      "text/html": [
       "<div>\n",
       "<style scoped>\n",
       "    .dataframe tbody tr th:only-of-type {\n",
       "        vertical-align: middle;\n",
       "    }\n",
       "\n",
       "    .dataframe tbody tr th {\n",
       "        vertical-align: top;\n",
       "    }\n",
       "\n",
       "    .dataframe thead th {\n",
       "        text-align: right;\n",
       "    }\n",
       "</style>\n",
       "<table border=\"1\" class=\"dataframe\">\n",
       "  <thead>\n",
       "    <tr style=\"text-align: right;\">\n",
       "      <th></th>\n",
       "      <th>date</th>\n",
       "      <th>revenue</th>\n",
       "      <th>cogs</th>\n",
       "      <th>margin_$</th>\n",
       "      <th>margin_%</th>\n",
       "      <th>total_count_incoming</th>\n",
       "      <th>product_count</th>\n",
       "      <th>count_incoming</th>\n",
       "      <th>coverage</th>\n",
       "      <th>total_count</th>\n",
       "      <th>revenue_after_tax</th>\n",
       "      <th>cogs_after_tax</th>\n",
       "      <th>margin_$_after_tax</th>\n",
       "      <th>margin_%_after_tax</th>\n",
       "      <th>gm_past_quarter</th>\n",
       "      <th>gm_past_2quarters</th>\n",
       "      <th>gm_past_3quarters</th>\n",
       "      <th>sum_cogs_past_3months</th>\n",
       "      <th>gm_past_quarter_after_tax</th>\n",
       "      <th>gm_past_2quarters_after_tax</th>\n",
       "      <th>gm_past_3quarters_after_tax</th>\n",
       "      <th>gm_final</th>\n",
       "      <th>gm_past_quarter_final</th>\n",
       "      <th>gm_past_2quarters_final</th>\n",
       "      <th>gm_past_3quarters_final</th>\n",
       "      <th>revenue_change</th>\n",
       "    </tr>\n",
       "    <tr>\n",
       "      <th>date</th>\n",
       "      <th></th>\n",
       "      <th></th>\n",
       "      <th></th>\n",
       "      <th></th>\n",
       "      <th></th>\n",
       "      <th></th>\n",
       "      <th></th>\n",
       "      <th></th>\n",
       "      <th></th>\n",
       "      <th></th>\n",
       "      <th></th>\n",
       "      <th></th>\n",
       "      <th></th>\n",
       "      <th></th>\n",
       "      <th></th>\n",
       "      <th></th>\n",
       "      <th></th>\n",
       "      <th></th>\n",
       "      <th></th>\n",
       "      <th></th>\n",
       "      <th></th>\n",
       "      <th></th>\n",
       "      <th></th>\n",
       "      <th></th>\n",
       "      <th></th>\n",
       "      <th></th>\n",
       "    </tr>\n",
       "  </thead>\n",
       "  <tbody>\n",
       "    <tr>\n",
       "      <th>2021-01</th>\n",
       "      <td>2021-01</td>\n",
       "      <td>291646.25</td>\n",
       "      <td>69820.681173</td>\n",
       "      <td>221825.568827</td>\n",
       "      <td>0.760598</td>\n",
       "      <td>4810.0</td>\n",
       "      <td>2005.0</td>\n",
       "      <td>2805</td>\n",
       "      <td>0.696294</td>\n",
       "      <td>6908</td>\n",
       "      <td>335393.1875</td>\n",
       "      <td>88672.265090</td>\n",
       "      <td>246720.922410</td>\n",
       "      <td>0.735617</td>\n",
       "      <td>NaN</td>\n",
       "      <td>NaN</td>\n",
       "      <td>NaN</td>\n",
       "      <td>NaN</td>\n",
       "      <td>NaN</td>\n",
       "      <td>NaN</td>\n",
       "      <td>NaN</td>\n",
       "      <td>0.735617</td>\n",
       "      <td>NaN</td>\n",
       "      <td>NaN</td>\n",
       "      <td>NaN</td>\n",
       "      <td>NaN</td>\n",
       "    </tr>\n",
       "    <tr>\n",
       "      <th>2021-02</th>\n",
       "      <td>2021-02</td>\n",
       "      <td>262906.73</td>\n",
       "      <td>85244.682175</td>\n",
       "      <td>177662.047825</td>\n",
       "      <td>0.675761</td>\n",
       "      <td>5464.0</td>\n",
       "      <td>377.0</td>\n",
       "      <td>5087</td>\n",
       "      <td>0.948611</td>\n",
       "      <td>5760</td>\n",
       "      <td>302342.7395</td>\n",
       "      <td>108260.746362</td>\n",
       "      <td>194081.993138</td>\n",
       "      <td>0.641927</td>\n",
       "      <td>NaN</td>\n",
       "      <td>NaN</td>\n",
       "      <td>NaN</td>\n",
       "      <td>NaN</td>\n",
       "      <td>NaN</td>\n",
       "      <td>NaN</td>\n",
       "      <td>NaN</td>\n",
       "      <td>0.641927</td>\n",
       "      <td>NaN</td>\n",
       "      <td>NaN</td>\n",
       "      <td>NaN</td>\n",
       "      <td>-0.098542</td>\n",
       "    </tr>\n",
       "    <tr>\n",
       "      <th>2021-03</th>\n",
       "      <td>2021-03</td>\n",
       "      <td>315154.72</td>\n",
       "      <td>99796.521792</td>\n",
       "      <td>215358.198208</td>\n",
       "      <td>0.683341</td>\n",
       "      <td>6902.0</td>\n",
       "      <td>159.0</td>\n",
       "      <td>6743</td>\n",
       "      <td>0.951475</td>\n",
       "      <td>7254</td>\n",
       "      <td>362427.9280</td>\n",
       "      <td>126741.582676</td>\n",
       "      <td>235686.345324</td>\n",
       "      <td>0.650299</td>\n",
       "      <td>0.706567</td>\n",
       "      <td>NaN</td>\n",
       "      <td>NaN</td>\n",
       "      <td>254861.885140</td>\n",
       "      <td>0.675948</td>\n",
       "      <td>NaN</td>\n",
       "      <td>NaN</td>\n",
       "      <td>0.650299</td>\n",
       "      <td>0.675948</td>\n",
       "      <td>NaN</td>\n",
       "      <td>NaN</td>\n",
       "      <td>0.198732</td>\n",
       "    </tr>\n",
       "    <tr>\n",
       "      <th>2021-04</th>\n",
       "      <td>2021-04</td>\n",
       "      <td>329925.48</td>\n",
       "      <td>100825.215287</td>\n",
       "      <td>229100.264713</td>\n",
       "      <td>0.694400</td>\n",
       "      <td>7081.0</td>\n",
       "      <td>112.0</td>\n",
       "      <td>6969</td>\n",
       "      <td>0.931465</td>\n",
       "      <td>7602</td>\n",
       "      <td>379414.3020</td>\n",
       "      <td>128048.023414</td>\n",
       "      <td>251366.278586</td>\n",
       "      <td>0.662511</td>\n",
       "      <td>0.684501</td>\n",
       "      <td>NaN</td>\n",
       "      <td>NaN</td>\n",
       "      <td>285866.419253</td>\n",
       "      <td>0.651579</td>\n",
       "      <td>NaN</td>\n",
       "      <td>NaN</td>\n",
       "      <td>0.662511</td>\n",
       "      <td>0.651579</td>\n",
       "      <td>NaN</td>\n",
       "      <td>NaN</td>\n",
       "      <td>0.046868</td>\n",
       "    </tr>\n",
       "    <tr>\n",
       "      <th>2021-05</th>\n",
       "      <td>2021-05</td>\n",
       "      <td>336793.80</td>\n",
       "      <td>98971.770002</td>\n",
       "      <td>237822.029998</td>\n",
       "      <td>0.706135</td>\n",
       "      <td>7286.0</td>\n",
       "      <td>131.0</td>\n",
       "      <td>7155</td>\n",
       "      <td>0.918326</td>\n",
       "      <td>7934</td>\n",
       "      <td>387312.8700</td>\n",
       "      <td>125694.147903</td>\n",
       "      <td>261618.722097</td>\n",
       "      <td>0.675471</td>\n",
       "      <td>0.694626</td>\n",
       "      <td>NaN</td>\n",
       "      <td>NaN</td>\n",
       "      <td>299593.507081</td>\n",
       "      <td>0.662760</td>\n",
       "      <td>NaN</td>\n",
       "      <td>NaN</td>\n",
       "      <td>0.675471</td>\n",
       "      <td>0.662760</td>\n",
       "      <td>NaN</td>\n",
       "      <td>NaN</td>\n",
       "      <td>0.020818</td>\n",
       "    </tr>\n",
       "    <tr>\n",
       "      <th>2021-06</th>\n",
       "      <td>2021-06</td>\n",
       "      <td>324788.69</td>\n",
       "      <td>98014.813307</td>\n",
       "      <td>226773.876693</td>\n",
       "      <td>0.698220</td>\n",
       "      <td>6860.0</td>\n",
       "      <td>114.0</td>\n",
       "      <td>6746</td>\n",
       "      <td>0.926026</td>\n",
       "      <td>7408</td>\n",
       "      <td>373506.9935</td>\n",
       "      <td>124478.812900</td>\n",
       "      <td>249028.180600</td>\n",
       "      <td>0.666730</td>\n",
       "      <td>0.699585</td>\n",
       "      <td>0.703076</td>\n",
       "      <td>NaN</td>\n",
       "      <td>297811.798596</td>\n",
       "      <td>0.668237</td>\n",
       "      <td>0.672092</td>\n",
       "      <td>NaN</td>\n",
       "      <td>0.666730</td>\n",
       "      <td>0.668237</td>\n",
       "      <td>0.672092</td>\n",
       "      <td>NaN</td>\n",
       "      <td>-0.035645</td>\n",
       "    </tr>\n",
       "    <tr>\n",
       "      <th>2021-07</th>\n",
       "      <td>2021-07</td>\n",
       "      <td>350888.53</td>\n",
       "      <td>110945.118678</td>\n",
       "      <td>239943.411322</td>\n",
       "      <td>0.683817</td>\n",
       "      <td>7866.0</td>\n",
       "      <td>40.0</td>\n",
       "      <td>7826</td>\n",
       "      <td>0.954843</td>\n",
       "      <td>8238</td>\n",
       "      <td>403521.8095</td>\n",
       "      <td>140900.300722</td>\n",
       "      <td>262621.508778</td>\n",
       "      <td>0.650824</td>\n",
       "      <td>0.696057</td>\n",
       "      <td>0.690279</td>\n",
       "      <td>NaN</td>\n",
       "      <td>307931.701988</td>\n",
       "      <td>0.664341</td>\n",
       "      <td>0.657960</td>\n",
       "      <td>NaN</td>\n",
       "      <td>0.650824</td>\n",
       "      <td>0.664341</td>\n",
       "      <td>0.657960</td>\n",
       "      <td>NaN</td>\n",
       "      <td>0.080359</td>\n",
       "    </tr>\n",
       "    <tr>\n",
       "      <th>2021-08</th>\n",
       "      <td>2021-08</td>\n",
       "      <td>392729.34</td>\n",
       "      <td>124638.398749</td>\n",
       "      <td>268090.941251</td>\n",
       "      <td>0.682635</td>\n",
       "      <td>8926.0</td>\n",
       "      <td>22.0</td>\n",
       "      <td>8904</td>\n",
       "      <td>0.974880</td>\n",
       "      <td>9156</td>\n",
       "      <td>451638.7410</td>\n",
       "      <td>158290.766411</td>\n",
       "      <td>293347.974589</td>\n",
       "      <td>0.649519</td>\n",
       "      <td>0.688224</td>\n",
       "      <td>0.691425</td>\n",
       "      <td>NaN</td>\n",
       "      <td>333598.330734</td>\n",
       "      <td>0.655691</td>\n",
       "      <td>0.659226</td>\n",
       "      <td>NaN</td>\n",
       "      <td>0.649519</td>\n",
       "      <td>0.655691</td>\n",
       "      <td>0.659226</td>\n",
       "      <td>NaN</td>\n",
       "      <td>0.119242</td>\n",
       "    </tr>\n",
       "    <tr>\n",
       "      <th>2021-09</th>\n",
       "      <td>2021-09</td>\n",
       "      <td>330288.52</td>\n",
       "      <td>116389.637758</td>\n",
       "      <td>213898.882242</td>\n",
       "      <td>0.647612</td>\n",
       "      <td>7341.0</td>\n",
       "      <td>3.0</td>\n",
       "      <td>7338</td>\n",
       "      <td>0.987357</td>\n",
       "      <td>7435</td>\n",
       "      <td>379831.7980</td>\n",
       "      <td>147814.839953</td>\n",
       "      <td>232016.958047</td>\n",
       "      <td>0.610841</td>\n",
       "      <td>0.671355</td>\n",
       "      <td>0.685470</td>\n",
       "      <td>0.692502</td>\n",
       "      <td>351973.155185</td>\n",
       "      <td>0.637061</td>\n",
       "      <td>0.652649</td>\n",
       "      <td>0.660415</td>\n",
       "      <td>0.610841</td>\n",
       "      <td>0.637061</td>\n",
       "      <td>0.652649</td>\n",
       "      <td>0.660415</td>\n",
       "      <td>-0.158992</td>\n",
       "    </tr>\n",
       "    <tr>\n",
       "      <th>2021-10</th>\n",
       "      <td>2021-10</td>\n",
       "      <td>303442.81</td>\n",
       "      <td>110226.093350</td>\n",
       "      <td>193216.716650</td>\n",
       "      <td>0.636748</td>\n",
       "      <td>7192.0</td>\n",
       "      <td>1.0</td>\n",
       "      <td>7191</td>\n",
       "      <td>0.994194</td>\n",
       "      <td>7234</td>\n",
       "      <td>348959.2315</td>\n",
       "      <td>139987.138555</td>\n",
       "      <td>208972.092945</td>\n",
       "      <td>0.598844</td>\n",
       "      <td>0.655665</td>\n",
       "      <td>0.675861</td>\n",
       "      <td>0.678741</td>\n",
       "      <td>351254.129857</td>\n",
       "      <td>0.619735</td>\n",
       "      <td>0.642038</td>\n",
       "      <td>0.645218</td>\n",
       "      <td>0.598844</td>\n",
       "      <td>0.619735</td>\n",
       "      <td>0.642038</td>\n",
       "      <td>0.645218</td>\n",
       "      <td>-0.081280</td>\n",
       "    </tr>\n",
       "    <tr>\n",
       "      <th>2021-11</th>\n",
       "      <td>2021-11</td>\n",
       "      <td>272483.40</td>\n",
       "      <td>100834.560551</td>\n",
       "      <td>171648.839449</td>\n",
       "      <td>0.629942</td>\n",
       "      <td>6136.0</td>\n",
       "      <td>4.0</td>\n",
       "      <td>6132</td>\n",
       "      <td>0.983649</td>\n",
       "      <td>6238</td>\n",
       "      <td>313355.9100</td>\n",
       "      <td>128059.891899</td>\n",
       "      <td>185296.018101</td>\n",
       "      <td>0.591328</td>\n",
       "      <td>0.638101</td>\n",
       "      <td>0.663162</td>\n",
       "      <td>0.673650</td>\n",
       "      <td>327450.291659</td>\n",
       "      <td>0.600338</td>\n",
       "      <td>0.628014</td>\n",
       "      <td>0.639596</td>\n",
       "      <td>0.591328</td>\n",
       "      <td>0.600338</td>\n",
       "      <td>0.628014</td>\n",
       "      <td>0.639596</td>\n",
       "      <td>-0.102027</td>\n",
       "    </tr>\n",
       "    <tr>\n",
       "      <th>2021-12</th>\n",
       "      <td>2021-12</td>\n",
       "      <td>280374.54</td>\n",
       "      <td>97510.497888</td>\n",
       "      <td>182864.042112</td>\n",
       "      <td>0.652213</td>\n",
       "      <td>6153.0</td>\n",
       "      <td>11.0</td>\n",
       "      <td>6142</td>\n",
       "      <td>0.962158</td>\n",
       "      <td>6395</td>\n",
       "      <td>322430.7210</td>\n",
       "      <td>123838.332318</td>\n",
       "      <td>198592.388682</td>\n",
       "      <td>0.615923</td>\n",
       "      <td>0.639635</td>\n",
       "      <td>0.655495</td>\n",
       "      <td>0.670192</td>\n",
       "      <td>308571.151789</td>\n",
       "      <td>0.602031</td>\n",
       "      <td>0.619546</td>\n",
       "      <td>0.635777</td>\n",
       "      <td>0.615923</td>\n",
       "      <td>0.602031</td>\n",
       "      <td>0.619546</td>\n",
       "      <td>0.635777</td>\n",
       "      <td>0.028960</td>\n",
       "    </tr>\n",
       "    <tr>\n",
       "      <th>2022-01</th>\n",
       "      <td>2022-01</td>\n",
       "      <td>267428.10</td>\n",
       "      <td>88971.932900</td>\n",
       "      <td>178456.167100</td>\n",
       "      <td>0.667305</td>\n",
       "      <td>5688.0</td>\n",
       "      <td>47.0</td>\n",
       "      <td>5641</td>\n",
       "      <td>0.949266</td>\n",
       "      <td>5992</td>\n",
       "      <td>307542.3150</td>\n",
       "      <td>112994.354783</td>\n",
       "      <td>194547.960217</td>\n",
       "      <td>0.632589</td>\n",
       "      <td>0.649820</td>\n",
       "      <td>0.652743</td>\n",
       "      <td>0.667181</td>\n",
       "      <td>287316.991339</td>\n",
       "      <td>0.613280</td>\n",
       "      <td>0.616507</td>\n",
       "      <td>0.632452</td>\n",
       "      <td>0.632589</td>\n",
       "      <td>0.613280</td>\n",
       "      <td>0.616507</td>\n",
       "      <td>0.632452</td>\n",
       "      <td>-0.046176</td>\n",
       "    </tr>\n",
       "    <tr>\n",
       "      <th>2022-02</th>\n",
       "      <td>2022-02</td>\n",
       "      <td>262622.33</td>\n",
       "      <td>80371.499641</td>\n",
       "      <td>182250.830359</td>\n",
       "      <td>0.693965</td>\n",
       "      <td>5396.0</td>\n",
       "      <td>61.0</td>\n",
       "      <td>5335</td>\n",
       "      <td>0.942204</td>\n",
       "      <td>5727</td>\n",
       "      <td>302015.6795</td>\n",
       "      <td>102071.804544</td>\n",
       "      <td>199943.874956</td>\n",
       "      <td>0.662031</td>\n",
       "      <td>0.671161</td>\n",
       "      <td>0.654631</td>\n",
       "      <td>0.665829</td>\n",
       "      <td>266853.930429</td>\n",
       "      <td>0.636848</td>\n",
       "      <td>0.618593</td>\n",
       "      <td>0.630959</td>\n",
       "      <td>0.662031</td>\n",
       "      <td>0.636848</td>\n",
       "      <td>0.618593</td>\n",
       "      <td>0.630959</td>\n",
       "      <td>-0.017970</td>\n",
       "    </tr>\n",
       "    <tr>\n",
       "      <th>2022-03</th>\n",
       "      <td>2022-03</td>\n",
       "      <td>263931.68</td>\n",
       "      <td>83719.067505</td>\n",
       "      <td>180212.612495</td>\n",
       "      <td>0.682800</td>\n",
       "      <td>5708.0</td>\n",
       "      <td>48.0</td>\n",
       "      <td>5660</td>\n",
       "      <td>0.970583</td>\n",
       "      <td>5881</td>\n",
       "      <td>303521.4320</td>\n",
       "      <td>106323.215732</td>\n",
       "      <td>197198.216268</td>\n",
       "      <td>0.649701</td>\n",
       "      <td>0.681357</td>\n",
       "      <td>0.660496</td>\n",
       "      <td>0.664115</td>\n",
       "      <td>253062.500046</td>\n",
       "      <td>0.648107</td>\n",
       "      <td>0.625069</td>\n",
       "      <td>0.629067</td>\n",
       "      <td>0.649701</td>\n",
       "      <td>0.648107</td>\n",
       "      <td>0.625069</td>\n",
       "      <td>0.629067</td>\n",
       "      <td>0.004986</td>\n",
       "    </tr>\n",
       "    <tr>\n",
       "      <th>2022-04</th>\n",
       "      <td>2022-04</td>\n",
       "      <td>204691.58</td>\n",
       "      <td>65149.025811</td>\n",
       "      <td>139542.554189</td>\n",
       "      <td>0.681721</td>\n",
       "      <td>4832.0</td>\n",
       "      <td>8.0</td>\n",
       "      <td>4824</td>\n",
       "      <td>0.978534</td>\n",
       "      <td>4938</td>\n",
       "      <td>235395.3170</td>\n",
       "      <td>82739.262780</td>\n",
       "      <td>152656.054220</td>\n",
       "      <td>0.648509</td>\n",
       "      <td>0.686162</td>\n",
       "      <td>0.667991</td>\n",
       "      <td>0.663883</td>\n",
       "      <td>229239.592957</td>\n",
       "      <td>0.653414</td>\n",
       "      <td>0.633347</td>\n",
       "      <td>0.628810</td>\n",
       "      <td>0.648509</td>\n",
       "      <td>0.653414</td>\n",
       "      <td>0.633347</td>\n",
       "      <td>0.628810</td>\n",
       "      <td>-0.224452</td>\n",
       "    </tr>\n",
       "  </tbody>\n",
       "</table>\n",
       "</div>"
      ],
      "text/plain": [
       "            date    revenue           cogs       margin_$  margin_%  \\\n",
       "date                                                                  \n",
       "2021-01  2021-01  291646.25   69820.681173  221825.568827  0.760598   \n",
       "2021-02  2021-02  262906.73   85244.682175  177662.047825  0.675761   \n",
       "2021-03  2021-03  315154.72   99796.521792  215358.198208  0.683341   \n",
       "2021-04  2021-04  329925.48  100825.215287  229100.264713  0.694400   \n",
       "2021-05  2021-05  336793.80   98971.770002  237822.029998  0.706135   \n",
       "2021-06  2021-06  324788.69   98014.813307  226773.876693  0.698220   \n",
       "2021-07  2021-07  350888.53  110945.118678  239943.411322  0.683817   \n",
       "2021-08  2021-08  392729.34  124638.398749  268090.941251  0.682635   \n",
       "2021-09  2021-09  330288.52  116389.637758  213898.882242  0.647612   \n",
       "2021-10  2021-10  303442.81  110226.093350  193216.716650  0.636748   \n",
       "2021-11  2021-11  272483.40  100834.560551  171648.839449  0.629942   \n",
       "2021-12  2021-12  280374.54   97510.497888  182864.042112  0.652213   \n",
       "2022-01  2022-01  267428.10   88971.932900  178456.167100  0.667305   \n",
       "2022-02  2022-02  262622.33   80371.499641  182250.830359  0.693965   \n",
       "2022-03  2022-03  263931.68   83719.067505  180212.612495  0.682800   \n",
       "2022-04  2022-04  204691.58   65149.025811  139542.554189  0.681721   \n",
       "\n",
       "         total_count_incoming  product_count  count_incoming  coverage  \\\n",
       "date                                                                     \n",
       "2021-01                4810.0         2005.0            2805  0.696294   \n",
       "2021-02                5464.0          377.0            5087  0.948611   \n",
       "2021-03                6902.0          159.0            6743  0.951475   \n",
       "2021-04                7081.0          112.0            6969  0.931465   \n",
       "2021-05                7286.0          131.0            7155  0.918326   \n",
       "2021-06                6860.0          114.0            6746  0.926026   \n",
       "2021-07                7866.0           40.0            7826  0.954843   \n",
       "2021-08                8926.0           22.0            8904  0.974880   \n",
       "2021-09                7341.0            3.0            7338  0.987357   \n",
       "2021-10                7192.0            1.0            7191  0.994194   \n",
       "2021-11                6136.0            4.0            6132  0.983649   \n",
       "2021-12                6153.0           11.0            6142  0.962158   \n",
       "2022-01                5688.0           47.0            5641  0.949266   \n",
       "2022-02                5396.0           61.0            5335  0.942204   \n",
       "2022-03                5708.0           48.0            5660  0.970583   \n",
       "2022-04                4832.0            8.0            4824  0.978534   \n",
       "\n",
       "         total_count  revenue_after_tax  cogs_after_tax  margin_$_after_tax  \\\n",
       "date                                                                          \n",
       "2021-01         6908        335393.1875    88672.265090       246720.922410   \n",
       "2021-02         5760        302342.7395   108260.746362       194081.993138   \n",
       "2021-03         7254        362427.9280   126741.582676       235686.345324   \n",
       "2021-04         7602        379414.3020   128048.023414       251366.278586   \n",
       "2021-05         7934        387312.8700   125694.147903       261618.722097   \n",
       "2021-06         7408        373506.9935   124478.812900       249028.180600   \n",
       "2021-07         8238        403521.8095   140900.300722       262621.508778   \n",
       "2021-08         9156        451638.7410   158290.766411       293347.974589   \n",
       "2021-09         7435        379831.7980   147814.839953       232016.958047   \n",
       "2021-10         7234        348959.2315   139987.138555       208972.092945   \n",
       "2021-11         6238        313355.9100   128059.891899       185296.018101   \n",
       "2021-12         6395        322430.7210   123838.332318       198592.388682   \n",
       "2022-01         5992        307542.3150   112994.354783       194547.960217   \n",
       "2022-02         5727        302015.6795   102071.804544       199943.874956   \n",
       "2022-03         5881        303521.4320   106323.215732       197198.216268   \n",
       "2022-04         4938        235395.3170    82739.262780       152656.054220   \n",
       "\n",
       "         margin_%_after_tax  gm_past_quarter  gm_past_2quarters  \\\n",
       "date                                                              \n",
       "2021-01            0.735617              NaN                NaN   \n",
       "2021-02            0.641927              NaN                NaN   \n",
       "2021-03            0.650299         0.706567                NaN   \n",
       "2021-04            0.662511         0.684501                NaN   \n",
       "2021-05            0.675471         0.694626                NaN   \n",
       "2021-06            0.666730         0.699585           0.703076   \n",
       "2021-07            0.650824         0.696057           0.690279   \n",
       "2021-08            0.649519         0.688224           0.691425   \n",
       "2021-09            0.610841         0.671355           0.685470   \n",
       "2021-10            0.598844         0.655665           0.675861   \n",
       "2021-11            0.591328         0.638101           0.663162   \n",
       "2021-12            0.615923         0.639635           0.655495   \n",
       "2022-01            0.632589         0.649820           0.652743   \n",
       "2022-02            0.662031         0.671161           0.654631   \n",
       "2022-03            0.649701         0.681357           0.660496   \n",
       "2022-04            0.648509         0.686162           0.667991   \n",
       "\n",
       "         gm_past_3quarters  sum_cogs_past_3months  gm_past_quarter_after_tax  \\\n",
       "date                                                                           \n",
       "2021-01                NaN                    NaN                        NaN   \n",
       "2021-02                NaN                    NaN                        NaN   \n",
       "2021-03                NaN          254861.885140                   0.675948   \n",
       "2021-04                NaN          285866.419253                   0.651579   \n",
       "2021-05                NaN          299593.507081                   0.662760   \n",
       "2021-06                NaN          297811.798596                   0.668237   \n",
       "2021-07                NaN          307931.701988                   0.664341   \n",
       "2021-08                NaN          333598.330734                   0.655691   \n",
       "2021-09           0.692502          351973.155185                   0.637061   \n",
       "2021-10           0.678741          351254.129857                   0.619735   \n",
       "2021-11           0.673650          327450.291659                   0.600338   \n",
       "2021-12           0.670192          308571.151789                   0.602031   \n",
       "2022-01           0.667181          287316.991339                   0.613280   \n",
       "2022-02           0.665829          266853.930429                   0.636848   \n",
       "2022-03           0.664115          253062.500046                   0.648107   \n",
       "2022-04           0.663883          229239.592957                   0.653414   \n",
       "\n",
       "         gm_past_2quarters_after_tax  gm_past_3quarters_after_tax  gm_final  \\\n",
       "date                                                                          \n",
       "2021-01                          NaN                          NaN  0.735617   \n",
       "2021-02                          NaN                          NaN  0.641927   \n",
       "2021-03                          NaN                          NaN  0.650299   \n",
       "2021-04                          NaN                          NaN  0.662511   \n",
       "2021-05                          NaN                          NaN  0.675471   \n",
       "2021-06                     0.672092                          NaN  0.666730   \n",
       "2021-07                     0.657960                          NaN  0.650824   \n",
       "2021-08                     0.659226                          NaN  0.649519   \n",
       "2021-09                     0.652649                     0.660415  0.610841   \n",
       "2021-10                     0.642038                     0.645218  0.598844   \n",
       "2021-11                     0.628014                     0.639596  0.591328   \n",
       "2021-12                     0.619546                     0.635777  0.615923   \n",
       "2022-01                     0.616507                     0.632452  0.632589   \n",
       "2022-02                     0.618593                     0.630959  0.662031   \n",
       "2022-03                     0.625069                     0.629067  0.649701   \n",
       "2022-04                     0.633347                     0.628810  0.648509   \n",
       "\n",
       "         gm_past_quarter_final  gm_past_2quarters_final  \\\n",
       "date                                                      \n",
       "2021-01                    NaN                      NaN   \n",
       "2021-02                    NaN                      NaN   \n",
       "2021-03               0.675948                      NaN   \n",
       "2021-04               0.651579                      NaN   \n",
       "2021-05               0.662760                      NaN   \n",
       "2021-06               0.668237                 0.672092   \n",
       "2021-07               0.664341                 0.657960   \n",
       "2021-08               0.655691                 0.659226   \n",
       "2021-09               0.637061                 0.652649   \n",
       "2021-10               0.619735                 0.642038   \n",
       "2021-11               0.600338                 0.628014   \n",
       "2021-12               0.602031                 0.619546   \n",
       "2022-01               0.613280                 0.616507   \n",
       "2022-02               0.636848                 0.618593   \n",
       "2022-03               0.648107                 0.625069   \n",
       "2022-04               0.653414                 0.633347   \n",
       "\n",
       "         gm_past_3quarters_final  revenue_change  \n",
       "date                                              \n",
       "2021-01                      NaN             NaN  \n",
       "2021-02                      NaN       -0.098542  \n",
       "2021-03                      NaN        0.198732  \n",
       "2021-04                      NaN        0.046868  \n",
       "2021-05                      NaN        0.020818  \n",
       "2021-06                      NaN       -0.035645  \n",
       "2021-07                      NaN        0.080359  \n",
       "2021-08                      NaN        0.119242  \n",
       "2021-09                 0.660415       -0.158992  \n",
       "2021-10                 0.645218       -0.081280  \n",
       "2021-11                 0.639596       -0.102027  \n",
       "2021-12                 0.635777        0.028960  \n",
       "2022-01                 0.632452       -0.046176  \n",
       "2022-02                 0.630959       -0.017970  \n",
       "2022-03                 0.629067        0.004986  \n",
       "2022-04                 0.628810       -0.224452  "
      ]
     },
     "execution_count": 45,
     "metadata": {},
     "output_type": "execute_result"
    }
   ],
   "source": [
    "df_summary_simp"
   ]
  },
  {
   "cell_type": "markdown",
   "id": "acb65de6",
   "metadata": {},
   "source": [
    "# Revenue change vs state"
   ]
  },
  {
   "cell_type": "code",
   "execution_count": 46,
   "id": "7619fb05",
   "metadata": {},
   "outputs": [
    {
     "data": {
      "text/plain": [
       "7.8"
      ]
     },
     "execution_count": 46,
     "metadata": {},
     "output_type": "execute_result"
    }
   ],
   "source": [
    "a = client_surveillance_jupyter.get_gmv_change(company_state,df_summary_simp)\n",
    "round(a.dropna()['total'].sum(),2)"
   ]
  },
  {
   "cell_type": "code",
   "execution_count": 47,
   "id": "a5491879",
   "metadata": {},
   "outputs": [
    {
     "data": {
      "text/html": [
       "<div>\n",
       "<style scoped>\n",
       "    .dataframe tbody tr th:only-of-type {\n",
       "        vertical-align: middle;\n",
       "    }\n",
       "\n",
       "    .dataframe tbody tr th {\n",
       "        vertical-align: top;\n",
       "    }\n",
       "\n",
       "    .dataframe thead th {\n",
       "        text-align: right;\n",
       "    }\n",
       "</style>\n",
       "<table border=\"1\" class=\"dataframe\">\n",
       "  <thead>\n",
       "    <tr style=\"text-align: right;\">\n",
       "      <th></th>\n",
       "      <th>sum_gmv</th>\n",
       "      <th>sum_gmv_change</th>\n",
       "      <th>sum_gmv_change_ca</th>\n",
       "      <th>weight</th>\n",
       "      <th>variance</th>\n",
       "      <th>points</th>\n",
       "      <th>total</th>\n",
       "    </tr>\n",
       "  </thead>\n",
       "  <tbody>\n",
       "    <tr>\n",
       "      <th>2020Q1</th>\n",
       "      <td>0.00</td>\n",
       "      <td>NaN</td>\n",
       "      <td>NaN</td>\n",
       "      <td>NaN</td>\n",
       "      <td>NaN</td>\n",
       "      <td>10</td>\n",
       "      <td>NaN</td>\n",
       "    </tr>\n",
       "    <tr>\n",
       "      <th>2020Q2</th>\n",
       "      <td>0.00</td>\n",
       "      <td>NaN</td>\n",
       "      <td>NaN</td>\n",
       "      <td>NaN</td>\n",
       "      <td>NaN</td>\n",
       "      <td>10</td>\n",
       "      <td>NaN</td>\n",
       "    </tr>\n",
       "    <tr>\n",
       "      <th>2020Q3</th>\n",
       "      <td>0.00</td>\n",
       "      <td>NaN</td>\n",
       "      <td>NaN</td>\n",
       "      <td>NaN</td>\n",
       "      <td>NaN</td>\n",
       "      <td>10</td>\n",
       "      <td>NaN</td>\n",
       "    </tr>\n",
       "    <tr>\n",
       "      <th>2020Q4</th>\n",
       "      <td>0.00</td>\n",
       "      <td>NaN</td>\n",
       "      <td>0.17</td>\n",
       "      <td>0.04</td>\n",
       "      <td>NaN</td>\n",
       "      <td>10</td>\n",
       "      <td>0.4</td>\n",
       "    </tr>\n",
       "    <tr>\n",
       "      <th>2021Q1</th>\n",
       "      <td>869707.70</td>\n",
       "      <td>NaN</td>\n",
       "      <td>-0.05</td>\n",
       "      <td>0.28</td>\n",
       "      <td>NaN</td>\n",
       "      <td>10</td>\n",
       "      <td>2.8</td>\n",
       "    </tr>\n",
       "    <tr>\n",
       "      <th>2021Q2</th>\n",
       "      <td>991507.97</td>\n",
       "      <td>0.140047</td>\n",
       "      <td>0.02</td>\n",
       "      <td>0.52</td>\n",
       "      <td>0.120047</td>\n",
       "      <td>10</td>\n",
       "      <td>5.2</td>\n",
       "    </tr>\n",
       "    <tr>\n",
       "      <th>2021Q3</th>\n",
       "      <td>1073906.39</td>\n",
       "      <td>0.083104</td>\n",
       "      <td>-0.11</td>\n",
       "      <td>0.76</td>\n",
       "      <td>0.193104</td>\n",
       "      <td>10</td>\n",
       "      <td>7.6</td>\n",
       "    </tr>\n",
       "    <tr>\n",
       "      <th>2021Q4</th>\n",
       "      <td>856300.75</td>\n",
       "      <td>-0.202630</td>\n",
       "      <td>0.00</td>\n",
       "      <td>1.00</td>\n",
       "      <td>-0.202630</td>\n",
       "      <td>-5</td>\n",
       "      <td>-5.0</td>\n",
       "    </tr>\n",
       "  </tbody>\n",
       "</table>\n",
       "</div>"
      ],
      "text/plain": [
       "           sum_gmv  sum_gmv_change  sum_gmv_change_ca  weight  variance  \\\n",
       "2020Q1        0.00             NaN                NaN     NaN       NaN   \n",
       "2020Q2        0.00             NaN                NaN     NaN       NaN   \n",
       "2020Q3        0.00             NaN                NaN     NaN       NaN   \n",
       "2020Q4        0.00             NaN               0.17    0.04       NaN   \n",
       "2021Q1   869707.70             NaN              -0.05    0.28       NaN   \n",
       "2021Q2   991507.97        0.140047               0.02    0.52  0.120047   \n",
       "2021Q3  1073906.39        0.083104              -0.11    0.76  0.193104   \n",
       "2021Q4   856300.75       -0.202630               0.00    1.00 -0.202630   \n",
       "\n",
       "        points  total  \n",
       "2020Q1      10    NaN  \n",
       "2020Q2      10    NaN  \n",
       "2020Q3      10    NaN  \n",
       "2020Q4      10    0.4  \n",
       "2021Q1      10    2.8  \n",
       "2021Q2      10    5.2  \n",
       "2021Q3      10    7.6  \n",
       "2021Q4      -5   -5.0  "
      ]
     },
     "execution_count": 47,
     "metadata": {},
     "output_type": "execute_result"
    }
   ],
   "source": [
    "a"
   ]
  },
  {
   "cell_type": "markdown",
   "id": "ec024f55",
   "metadata": {},
   "source": [
    "# Inventory"
   ]
  },
  {
   "cell_type": "code",
   "execution_count": 48,
   "id": "298ac0f2",
   "metadata": {},
   "outputs": [
    {
     "data": {
      "text/plain": [
       "datetime.date(2022, 5, 5)"
      ]
     },
     "execution_count": 48,
     "metadata": {},
     "output_type": "execute_result"
    }
   ],
   "source": [
    "today = date.today()\n",
    "today"
   ]
  },
  {
   "cell_type": "code",
   "execution_count": 49,
   "id": "bd64953d",
   "metadata": {},
   "outputs": [
    {
     "data": {
      "text/plain": [
       "['99HT']"
      ]
     },
     "execution_count": 49,
     "metadata": {},
     "output_type": "execute_result"
    }
   ],
   "source": [
    "COMPANY_IDENTIFIER"
   ]
  },
  {
   "cell_type": "code",
   "execution_count": 50,
   "id": "7178d8cc",
   "metadata": {},
   "outputs": [
    {
     "data": {
      "text/plain": [
       "['C10-0000279-LIC']"
      ]
     },
     "execution_count": 50,
     "metadata": {},
     "output_type": "execute_result"
    }
   ],
   "source": [
    "license_numbers"
   ]
  },
  {
   "cell_type": "code",
   "execution_count": 51,
   "id": "21ca80d4",
   "metadata": {},
   "outputs": [],
   "source": [
    "df_inventory_license = client_surveillance_jupyter.calculate_inventory_valuation(df_in,df_inventory,license_numbers,today)"
   ]
  },
  {
   "cell_type": "code",
   "execution_count": 52,
   "id": "1a63eef1",
   "metadata": {},
   "outputs": [
    {
     "data": {
      "text/html": [
       "<div>\n",
       "<style scoped>\n",
       "    .dataframe tbody tr th:only-of-type {\n",
       "        vertical-align: middle;\n",
       "    }\n",
       "\n",
       "    .dataframe tbody tr th {\n",
       "        vertical-align: top;\n",
       "    }\n",
       "\n",
       "    .dataframe thead th {\n",
       "        text-align: right;\n",
       "    }\n",
       "</style>\n",
       "<table border=\"1\" class=\"dataframe\">\n",
       "  <thead>\n",
       "    <tr style=\"text-align: right;\">\n",
       "      <th></th>\n",
       "      <th>date</th>\n",
       "      <th>value</th>\n",
       "      <th>value_after_tax</th>\n",
       "      <th>total_incoming</th>\n",
       "      <th>total</th>\n",
       "      <th>coverage</th>\n",
       "      <th>license</th>\n",
       "      <th>legal_name</th>\n",
       "    </tr>\n",
       "  </thead>\n",
       "  <tbody>\n",
       "    <tr>\n",
       "      <th>0</th>\n",
       "      <td>2022-05-05</td>\n",
       "      <td>126426.911773</td>\n",
       "      <td>160562.177951</td>\n",
       "      <td>738</td>\n",
       "      <td>797</td>\n",
       "      <td>0.925972</td>\n",
       "      <td>[C10-0000279-LIC]</td>\n",
       "      <td>99 HIGHTIDE COLLECTIVE</td>\n",
       "    </tr>\n",
       "  </tbody>\n",
       "</table>\n",
       "</div>"
      ],
      "text/plain": [
       "         date          value value_after_tax total_incoming total  coverage  \\\n",
       "0  2022-05-05  126426.911773   160562.177951            738   797  0.925972   \n",
       "\n",
       "             license              legal_name  \n",
       "0  [C10-0000279-LIC]  99 HIGHTIDE COLLECTIVE  "
      ]
     },
     "execution_count": 52,
     "metadata": {},
     "output_type": "execute_result"
    }
   ],
   "source": [
    "df_inventory_license"
   ]
  },
  {
   "cell_type": "code",
   "execution_count": 53,
   "id": "556abe59",
   "metadata": {},
   "outputs": [],
   "source": [
    "df_inventory_license_msrp = client_surveillance_jupyter.calculate_msrp_based_inventory_valuation(df_in,df_sales,df_inventory,license_numbers,today)"
   ]
  },
  {
   "cell_type": "code",
   "execution_count": 54,
   "id": "7b7ba5a2",
   "metadata": {},
   "outputs": [
    {
     "data": {
      "text/html": [
       "<div>\n",
       "<style scoped>\n",
       "    .dataframe tbody tr th:only-of-type {\n",
       "        vertical-align: middle;\n",
       "    }\n",
       "\n",
       "    .dataframe tbody tr th {\n",
       "        vertical-align: top;\n",
       "    }\n",
       "\n",
       "    .dataframe thead th {\n",
       "        text-align: right;\n",
       "    }\n",
       "</style>\n",
       "<table border=\"1\" class=\"dataframe\">\n",
       "  <thead>\n",
       "    <tr style=\"text-align: right;\">\n",
       "      <th></th>\n",
       "      <th>date</th>\n",
       "      <th>value</th>\n",
       "      <th>total_incoming</th>\n",
       "      <th>total</th>\n",
       "      <th>coverage</th>\n",
       "      <th>license</th>\n",
       "      <th>legal_name</th>\n",
       "    </tr>\n",
       "  </thead>\n",
       "  <tbody>\n",
       "    <tr>\n",
       "      <th>0</th>\n",
       "      <td>2022-05-05</td>\n",
       "      <td>414733.689922</td>\n",
       "      <td>668</td>\n",
       "      <td>797</td>\n",
       "      <td>0.838143</td>\n",
       "      <td>[C10-0000279-LIC]</td>\n",
       "      <td>99 HIGHTIDE COLLECTIVE</td>\n",
       "    </tr>\n",
       "  </tbody>\n",
       "</table>\n",
       "</div>"
      ],
      "text/plain": [
       "         date          value total_incoming total  coverage  \\\n",
       "0  2022-05-05  414733.689922            668   797  0.838143   \n",
       "\n",
       "             license              legal_name  \n",
       "0  [C10-0000279-LIC]  99 HIGHTIDE COLLECTIVE  "
      ]
     },
     "execution_count": 54,
     "metadata": {},
     "output_type": "execute_result"
    }
   ],
   "source": [
    "df_inventory_license_msrp"
   ]
  },
  {
   "cell_type": "code",
   "execution_count": 55,
   "id": "16256c8f",
   "metadata": {},
   "outputs": [],
   "source": [
    "current_month = '2022-04'\n",
    "full_score = 45"
   ]
  },
  {
   "cell_type": "markdown",
   "id": "fa2be8e0",
   "metadata": {},
   "source": [
    "# Create Template: updated"
   ]
  },
  {
   "cell_type": "code",
   "execution_count": 56,
   "id": "c24cd3eb",
   "metadata": {},
   "outputs": [
    {
     "data": {
      "text/plain": [
       "['C10-0000279-LIC']"
      ]
     },
     "execution_count": 56,
     "metadata": {},
     "output_type": "execute_result"
    }
   ],
   "source": [
    "license_numbers"
   ]
  },
  {
   "cell_type": "code",
   "execution_count": 57,
   "id": "e1560d01",
   "metadata": {},
   "outputs": [
    {
     "name": "stdout",
     "output_type": "stream",
     "text": [
      "0.9418665718948696 True\n",
      "0.9259723964868256 True\n",
      "7.252873292334507 10\n",
      "0.22439021484060578 0\n"
     ]
    }
   ],
   "source": [
    "template_new_ = client_surveillance_jupyter.create_template_new(a,df_summary_simp,df_inventory_license,df_inventory_license_msrp,churn_short,retial_license_check_df,license_numbers,company_state,current_month)\n",
    "\n"
   ]
  },
  {
   "cell_type": "code",
   "execution_count": 58,
   "id": "011b5be2",
   "metadata": {},
   "outputs": [
    {
     "data": {
      "text/html": [
       "<div>\n",
       "<style scoped>\n",
       "    .dataframe tbody tr th:only-of-type {\n",
       "        vertical-align: middle;\n",
       "    }\n",
       "\n",
       "    .dataframe tbody tr th {\n",
       "        vertical-align: top;\n",
       "    }\n",
       "\n",
       "    .dataframe thead th {\n",
       "        text-align: right;\n",
       "    }\n",
       "</style>\n",
       "<table border=\"1\" class=\"dataframe\">\n",
       "  <thead>\n",
       "    <tr style=\"text-align: right;\">\n",
       "      <th></th>\n",
       "      <th>0</th>\n",
       "      <th>1</th>\n",
       "    </tr>\n",
       "  </thead>\n",
       "  <tbody>\n",
       "    <tr>\n",
       "      <th>0</th>\n",
       "      <td>legal name</td>\n",
       "      <td>99 HIGHTIDE COLLECTIVE</td>\n",
       "    </tr>\n",
       "    <tr>\n",
       "      <th>1</th>\n",
       "      <td>date</td>\n",
       "      <td>2022-04</td>\n",
       "    </tr>\n",
       "    <tr>\n",
       "      <th>2</th>\n",
       "      <td>license</td>\n",
       "      <td>[C10-0000279-LIC]</td>\n",
       "    </tr>\n",
       "    <tr>\n",
       "      <th>3</th>\n",
       "      <td>license is current</td>\n",
       "      <td>True</td>\n",
       "    </tr>\n",
       "    <tr>\n",
       "      <th>4</th>\n",
       "      <td>license is active</td>\n",
       "      <td>Active</td>\n",
       "    </tr>\n",
       "    <tr>\n",
       "      <th>5</th>\n",
       "      <td>license check</td>\n",
       "      <td>YES</td>\n",
       "    </tr>\n",
       "    <tr>\n",
       "      <th>6</th>\n",
       "      <td>metrc cogs coverage</td>\n",
       "      <td>0.941867</td>\n",
       "    </tr>\n",
       "    <tr>\n",
       "      <th>7</th>\n",
       "      <td>metrc cogs coverage reliable ?</td>\n",
       "      <td>True</td>\n",
       "    </tr>\n",
       "    <tr>\n",
       "      <th>8</th>\n",
       "      <td>metrc inventory coverage</td>\n",
       "      <td>0.925972</td>\n",
       "    </tr>\n",
       "    <tr>\n",
       "      <th>9</th>\n",
       "      <td>metrc inventory coverage reliable ?</td>\n",
       "      <td>True</td>\n",
       "    </tr>\n",
       "    <tr>\n",
       "      <th>10</th>\n",
       "      <td>inventory turnover</td>\n",
       "      <td>7.252873</td>\n",
       "    </tr>\n",
       "    <tr>\n",
       "      <th>11</th>\n",
       "      <td>inventory turnover score</td>\n",
       "      <td>10</td>\n",
       "    </tr>\n",
       "    <tr>\n",
       "      <th>12</th>\n",
       "      <td>GM past quarter</td>\n",
       "      <td>0.653414</td>\n",
       "    </tr>\n",
       "    <tr>\n",
       "      <th>13</th>\n",
       "      <td>GM score past quarter</td>\n",
       "      <td>5</td>\n",
       "    </tr>\n",
       "    <tr>\n",
       "      <th>14</th>\n",
       "      <td>GM past 2 quarters</td>\n",
       "      <td>0.633347</td>\n",
       "    </tr>\n",
       "    <tr>\n",
       "      <th>15</th>\n",
       "      <td>GM score past 2 quarters</td>\n",
       "      <td>5</td>\n",
       "    </tr>\n",
       "    <tr>\n",
       "      <th>16</th>\n",
       "      <td>GM past 3 quarters</td>\n",
       "      <td>0.62881</td>\n",
       "    </tr>\n",
       "    <tr>\n",
       "      <th>17</th>\n",
       "      <td>GM score past 3 quarters</td>\n",
       "      <td>5</td>\n",
       "    </tr>\n",
       "    <tr>\n",
       "      <th>18</th>\n",
       "      <td>vendor churn</td>\n",
       "      <td>0.22439</td>\n",
       "    </tr>\n",
       "    <tr>\n",
       "      <th>19</th>\n",
       "      <td>vendor churn score</td>\n",
       "      <td>0</td>\n",
       "    </tr>\n",
       "    <tr>\n",
       "      <th>20</th>\n",
       "      <td>revenue vs state change score</td>\n",
       "      <td>7.8</td>\n",
       "    </tr>\n",
       "    <tr>\n",
       "      <th>21</th>\n",
       "      <td>inventory valuation</td>\n",
       "      <td>126426.91</td>\n",
       "    </tr>\n",
       "    <tr>\n",
       "      <th>22</th>\n",
       "      <td>inventory valuation after tax (CA only)</td>\n",
       "      <td>160562.18</td>\n",
       "    </tr>\n",
       "    <tr>\n",
       "      <th>23</th>\n",
       "      <td>inventory valuation (msrp based)</td>\n",
       "      <td>414733.69</td>\n",
       "    </tr>\n",
       "    <tr>\n",
       "      <th>24</th>\n",
       "      <td>sum_cogs_past_3months</td>\n",
       "      <td>229239.59</td>\n",
       "    </tr>\n",
       "    <tr>\n",
       "      <th>25</th>\n",
       "      <td>sum_cogs_past_3months after tax (CA only)</td>\n",
       "      <td>291134.28</td>\n",
       "    </tr>\n",
       "    <tr>\n",
       "      <th>26</th>\n",
       "      <td>total score</td>\n",
       "      <td>32.8</td>\n",
       "    </tr>\n",
       "    <tr>\n",
       "      <th>27</th>\n",
       "      <td>interest rate (UW)</td>\n",
       "      <td>0.2044</td>\n",
       "    </tr>\n",
       "    <tr>\n",
       "      <th>28</th>\n",
       "      <td>credit limit</td>\n",
       "      <td>160000.0</td>\n",
       "    </tr>\n",
       "  </tbody>\n",
       "</table>\n",
       "</div>"
      ],
      "text/plain": [
       "                                            0                       1\n",
       "0                                  legal name  99 HIGHTIDE COLLECTIVE\n",
       "1                                        date                 2022-04\n",
       "2                                     license       [C10-0000279-LIC]\n",
       "3                          license is current                    True\n",
       "4                           license is active                  Active\n",
       "5                               license check                     YES\n",
       "6                         metrc cogs coverage                0.941867\n",
       "7              metrc cogs coverage reliable ?                    True\n",
       "8                    metrc inventory coverage                0.925972\n",
       "9         metrc inventory coverage reliable ?                    True\n",
       "10                         inventory turnover                7.252873\n",
       "11                   inventory turnover score                      10\n",
       "12                            GM past quarter                0.653414\n",
       "13                      GM score past quarter                       5\n",
       "14                         GM past 2 quarters                0.633347\n",
       "15                   GM score past 2 quarters                       5\n",
       "16                         GM past 3 quarters                 0.62881\n",
       "17                   GM score past 3 quarters                       5\n",
       "18                               vendor churn                 0.22439\n",
       "19                         vendor churn score                       0\n",
       "20              revenue vs state change score                     7.8\n",
       "21                        inventory valuation               126426.91\n",
       "22    inventory valuation after tax (CA only)               160562.18\n",
       "23           inventory valuation (msrp based)               414733.69\n",
       "24                      sum_cogs_past_3months               229239.59\n",
       "25  sum_cogs_past_3months after tax (CA only)               291134.28\n",
       "26                                total score                    32.8\n",
       "27                         interest rate (UW)                  0.2044\n",
       "28                               credit limit                160000.0"
      ]
     },
     "execution_count": 58,
     "metadata": {},
     "output_type": "execute_result"
    }
   ],
   "source": [
    "template_new_"
   ]
  },
  {
   "cell_type": "markdown",
   "id": "cd8b1dd5",
   "metadata": {},
   "source": [
    "# Output data "
   ]
  },
  {
   "cell_type": "code",
   "execution_count": null,
   "id": "a4f8210c",
   "metadata": {},
   "outputs": [],
   "source": [
    "license_numbers"
   ]
  },
  {
   "cell_type": "markdown",
   "id": "14ae903f",
   "metadata": {},
   "source": [
    "## others"
   ]
  },
  {
   "cell_type": "code",
   "execution_count": null,
   "id": "2b7a7751",
   "metadata": {},
   "outputs": [],
   "source": [
    "# for only 1 license\n",
    "license_number = license_numbers[0]\n",
    "template_new_.to_csv('../analysis/surveillance/'+COMPANY_IDENTIFIER[0]+'/'+current_month + '/template/' + COMPANY_IDENTIFIER[0] + '_'+ str(today) + '_' +license_number +'_template.csv')\n",
    "df_inventory_license.to_csv('../analysis/surveillance/'+COMPANY_IDENTIFIER[0]+'/'+current_month +'/INV/' + COMPANY_IDENTIFIER[0] + '_'+ str(today) + '_' +license_number +'_inventory_val.csv')\n",
    "df_summary_simp.to_csv('surveillance/'+COMPANY_IDENTIFIER[0]+'/'+current_month +'/COGS/' + COMPANY_IDENTIFIER[0] + '_'+ VC_END_DATE + '_' +license_number +'_cogs.csv')\n",
    "vc_matrix_short.to_csv('surveillance/'+COMPANY_IDENTIFIER[0]+'/'+current_month +'/VC/' + COMPANY_IDENTIFIER[0] + '_'+ VC_END_DATE + '_' +license_number +'_vc_matrix.csv')\n",
    "churn_short.to_csv('surveillance/'+COMPANY_IDENTIFIER[0]+'/'+current_month +'/VC/' + COMPANY_IDENTIFIER[0] + '_'+ VC_END_DATE + '_' +license_number +'_vc.csv')\n",
    "a.to_csv('surveillance/'+COMPANY_IDENTIFIER[0]+'/'+current_month +'/rev_change_vs_state/' + COMPANY_IDENTIFIER[0] + '_'+ VC_END_DATE + '_' +license_number +'_rev_change_vs_state.csv')\n",
    "#retial_license_check_df\n",
    "\n"
   ]
  },
  {
   "cell_type": "markdown",
   "id": "45de9098",
   "metadata": {},
   "source": [
    "# Appendix"
   ]
  },
  {
   "cell_type": "code",
   "execution_count": 1,
   "id": "5ca9b7eb",
   "metadata": {},
   "outputs": [],
   "source": [
    "# def calculate_quarterly_sum_gmv_ma_short(cogs_analysis_df):\n",
    "\n",
    "#     gmv_df = cogs_analysis_df[(cogs_analysis_df['date'] >= '2021-09')&(cogs_analysis_df['date'] <= '2022-02')][['revenue_change']]\n",
    "#     gmv_df['sum_gmv_change_ma'] = [-0.07,0.09,-0.11,0.02]\n",
    "#     gmv_df['weight'] = [0.76,0.84,0.92,1]\n",
    "#     gmv_df['variance'] = gmv_df['revenue_change'] - gmv_df['sum_gmv_change_ma']\n",
    "#     gmv_df['points'] = [gmv_change_variance_point_mapping(n) for n in gmv_df['variance']]\n",
    "#     gmv_df.replace([numpy.inf, -numpy.inf], numpy.nan, inplace=True)\n",
    "#     gmv_df['total'] = gmv_df['points'] * gmv_df['weight']\n",
    "#     return gmv_df\n",
    "    "
   ]
  },
  {
   "cell_type": "code",
   "execution_count": null,
   "id": "f1dc004e",
   "metadata": {},
   "outputs": [],
   "source": []
  }
 ],
 "metadata": {
  "kernelspec": {
   "display_name": "Python 3",
   "language": "python",
   "name": "python3"
  },
  "language_info": {
   "codemirror_mode": {
    "name": "ipython",
    "version": 3
   },
   "file_extension": ".py",
   "mimetype": "text/x-python",
   "name": "python",
   "nbconvert_exporter": "python",
   "pygments_lexer": "ipython3",
   "version": "3.8.10"
  }
 },
 "nbformat": 4,
 "nbformat_minor": 5
}
