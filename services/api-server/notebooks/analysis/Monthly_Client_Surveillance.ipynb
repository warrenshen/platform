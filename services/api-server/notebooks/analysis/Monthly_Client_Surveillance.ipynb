{
 "cells": [
  {
   "cell_type": "code",
   "execution_count": 1,
   "id": "a1df46ef",
   "metadata": {},
   "outputs": [],
   "source": [
    "import warnings\n",
    "warnings.filterwarnings('ignore')"
   ]
  },
  {
   "cell_type": "code",
   "execution_count": 2,
   "id": "17064e54-fe0f-43e3-a00d-b2776aa5b753",
   "metadata": {},
   "outputs": [],
   "source": [
    "import json\n",
    "import numpy \n",
    "import os\n",
    "import pandas as pd\n",
    "import matplotlib.pyplot as plt\n",
    "%matplotlib inline  \n",
    "import pyarrow\n",
    "import sys\n",
    "\n",
    "from datetime import date\n",
    "from dotenv import load_dotenv\n",
    "from sqlalchemy import create_engine\n",
    "from os import path\n",
    "from typing import List,Dict, Tuple\n",
    "from collections import defaultdict\n",
    "pd.set_option(\"display.max_columns\", None)\n",
    "\n",
    "load_dotenv(verbose=True)\n",
    "BIGQUERY_CREDENTIALS_PATH = os.environ.get('BIGQUERY_CREDENTIALS_PATH')\n",
    "engine = create_engine('bigquery://bespoke-financial/ProdMetrcData', credentials_path=os.path.expanduser(BIGQUERY_CREDENTIALS_PATH))\n",
    "\n",
    "sys.path.append(path.realpath(path.join(os.getcwd(), \"../core\")))\n",
    "sys.path.append(path.realpath(path.join(os.getcwd(), \"../../src\")))\n",
    "\n",
    "import create_queries\n",
    "import prepare_data\n",
    "\n",
    "from bespoke.inventory.analysis.shared import download_util, inventory_types\n",
    "from bespoke.inventory.analysis import active_inventory_util as util\n",
    "from bespoke.inventory.analysis import inventory_valuations_util as valuations_util\n",
    "\n",
    "%load_ext autoreload\n",
    "%autoreload 2"
   ]
  },
  {
   "cell_type": "code",
   "execution_count": 3,
   "id": "0e3aa203",
   "metadata": {},
   "outputs": [],
   "source": [
    "# Define company name and date ranges"
   ]
  },
  {
   "cell_type": "code",
   "execution_count": 71,
   "id": "038c31ef-3af0-4b64-89b3-32c35769e7b2",
   "metadata": {},
   "outputs": [],
   "source": [
    "COMPANY_IDENTIFIER = ['IDC']\n",
    "TRANSFER_PACKAGES_START_DATE = '2020-01-01'\n",
    "SALES_TRANSACTIONS_START_DATE = '2020-01-01'"
   ]
  },
  {
   "cell_type": "code",
   "execution_count": 5,
   "id": "7892d4f2-ef44-45ff-aea9-681fc6c86b34",
   "metadata": {},
   "outputs": [],
   "source": [
    "#fetch download report and lisences\n",
    "company_licenses_query = create_queries.create_company_licenses_query(COMPANY_IDENTIFIER)\n",
    "company_download_summaries_query = create_queries.create_company_download_summaries_query(COMPANY_IDENTIFIER, TRANSFER_PACKAGES_START_DATE)\n",
    "\n",
    "company_licenses_dataframe = pd.read_sql_query(company_licenses_query, engine)\n",
    "company_download_summaries_dataframe = pd.read_sql_query(company_download_summaries_query, engine)"
   ]
  },
  {
   "cell_type": "code",
   "execution_count": 6,
   "id": "b6b54a34",
   "metadata": {},
   "outputs": [
    {
     "name": "stdout",
     "output_type": "stream",
     "text": [
      "\n",
      "\t\tselect\n",
      "\t\t\tcompanies.id as company_id,\n",
      "\t\t\tcompanies.identifier as company_identifier,\n",
      "\t\t\tmetrc_download_summaries.license_number,\n",
      "\t\t\tmetrc_download_summaries.date,\n",
      "\t\t\tmetrc_download_summaries.status\n",
      "\t\tfrom\n",
      "\t\t\tmetrc_download_summaries\n",
      "\t\t\tinner join companies on metrc_download_summaries.company_id = companies.id\n",
      "\t\twhere\n",
      "\t\t\tTrue\n",
      "\t\t\tand companies.identifier in (\"IDC\")\n",
      "\t\t\tand metrc_download_summaries.date >= \"2020-01-01\"\n",
      "\t\t\t\n",
      "\t\torder by\n",
      "\t\t\tdate desc\n",
      "\t\n"
     ]
    }
   ],
   "source": [
    "print(company_download_summaries_query)"
   ]
  },
  {
   "cell_type": "markdown",
   "id": "5ddb460b",
   "metadata": {},
   "source": [
    "## Check download status summaries"
   ]
  },
  {
   "cell_type": "code",
   "execution_count": 7,
   "id": "cec4010a",
   "metadata": {},
   "outputs": [],
   "source": [
    "license_numbers = company_download_summaries_dataframe['license_number'].unique()\n",
    "download_summary_records = company_download_summaries_dataframe.to_dict('records')"
   ]
  },
  {
   "cell_type": "code",
   "execution_count": 8,
   "id": "2d720e85",
   "metadata": {},
   "outputs": [
    {
     "data": {
      "text/plain": [
       "array(['C9-0000320-LIC'], dtype=object)"
      ]
     },
     "execution_count": 8,
     "metadata": {},
     "output_type": "execute_result"
    }
   ],
   "source": [
    "license_numbers"
   ]
  },
  {
   "cell_type": "code",
   "execution_count": 9,
   "id": "773e238b",
   "metadata": {},
   "outputs": [],
   "source": [
    "def check_company_license_download(license_numbers: List[str],download_summary_records: List[Dict[str,str]]) -> Dict[str,str]:\n",
    "    license_number_to_download_summary_records = {}\n",
    "\n",
    "    for license_number in license_numbers:\n",
    "        license_number_to_download_summary_records[license_number] = list(filter(\n",
    "            lambda download_summary_record: download_summary_record['license_number'] == license_number,\n",
    "            download_summary_records\n",
    "        ))\n",
    "\n",
    "    bad_count = 0\n",
    "    bad_history = defaultdict(list)\n",
    "    for license_number, download_summary_records in license_number_to_download_summary_records.items():\n",
    "        print(f'Verifying download summaries for license {license_number}...')\n",
    "        print(f'Earliest download summary: {download_summary_records[-1][\"date\"]}')\n",
    "        print(f'Latest download summary: {download_summary_records[0][\"date\"]}')\n",
    "        for download_summary_record in download_summary_records:\n",
    "            if download_summary_record['status'] != 'completed':\n",
    "                bad_count += 1\n",
    "                print(f'Found bad download summary for license {license_number} on date {download_summary_record[\"date\"]}') \n",
    "                bad_history[license_number].append(download_summary_record['date'])            \n",
    "        \n",
    "        print('')\n",
    "    if bad_count > 0:\n",
    "        print(f'[FAILURE] Found a total of {bad_count} bad download summaries')\n",
    "    else:\n",
    "        print(f'[SUCCESS] All download summaries look good!')\n",
    "    return bad_history\n",
    "\n"
   ]
  },
  {
   "cell_type": "code",
   "execution_count": 10,
   "id": "cc634d6a",
   "metadata": {
    "scrolled": true
   },
   "outputs": [
    {
     "name": "stdout",
     "output_type": "stream",
     "text": [
      "Verifying download summaries for license C9-0000320-LIC...\n",
      "Earliest download summary: 2020-01-01\n",
      "Latest download summary: 2022-02-22\n",
      "\n",
      "[SUCCESS] All download summaries look good!\n"
     ]
    }
   ],
   "source": [
    "bad_download_history = check_company_license_download(license_numbers,download_summary_records)"
   ]
  },
  {
   "cell_type": "code",
   "execution_count": 11,
   "id": "931a4474",
   "metadata": {},
   "outputs": [
    {
     "data": {
      "text/plain": [
       "defaultdict(list, {})"
      ]
     },
     "execution_count": 11,
     "metadata": {},
     "output_type": "execute_result"
    }
   ],
   "source": [
    "bad_download_history"
   ]
  },
  {
   "cell_type": "markdown",
   "id": "5edcc0c3",
   "metadata": {},
   "source": [
    "## Choose license numbers"
   ]
  },
  {
   "cell_type": "code",
   "execution_count": 12,
   "id": "1eb753d1",
   "metadata": {},
   "outputs": [
    {
     "data": {
      "text/plain": [
       "['C9-0000320-LIC']"
      ]
     },
     "execution_count": 12,
     "metadata": {},
     "output_type": "execute_result"
    }
   ],
   "source": [
    "# get list of retailer license numbers\n",
    "license_numbers = list(company_licenses_dataframe[company_licenses_dataframe['license_category'].isin(['Retailer', 'Multiple'])]['license_number'].unique())\n",
    "license_numbers"
   ]
  },
  {
   "cell_type": "code",
   "execution_count": 13,
   "id": "7db6cf1b",
   "metadata": {},
   "outputs": [],
   "source": [
    "# run this if only has 1 license, or only want 1 license\n",
    "#license_numbers = [license_numbers[0]]\n",
    "#license_numbers"
   ]
  },
  {
   "cell_type": "markdown",
   "id": "aee3310e",
   "metadata": {},
   "source": [
    "# License check"
   ]
  },
  {
   "cell_type": "code",
   "execution_count": 14,
   "id": "d853cfe6",
   "metadata": {},
   "outputs": [],
   "source": [
    "retial_license_check_df = company_licenses_dataframe[company_licenses_dataframe['license_number'].isin(license_numbers)][['license_number','license_category','is_current','license_status']].reset_index(drop = True)\n",
    "retial_license_check_df['license_check'] = ['YES' if retial_license_check_df['license_status'][i] == 'Active' or str(retial_license_check_df['is_current'][i]) == 'True' else 'NO' for i in range(len(retial_license_check_df))]\n"
   ]
  },
  {
   "cell_type": "code",
   "execution_count": 15,
   "id": "3f3595db",
   "metadata": {},
   "outputs": [
    {
     "data": {
      "text/html": [
       "<div>\n",
       "<style scoped>\n",
       "    .dataframe tbody tr th:only-of-type {\n",
       "        vertical-align: middle;\n",
       "    }\n",
       "\n",
       "    .dataframe tbody tr th {\n",
       "        vertical-align: top;\n",
       "    }\n",
       "\n",
       "    .dataframe thead th {\n",
       "        text-align: right;\n",
       "    }\n",
       "</style>\n",
       "<table border=\"1\" class=\"dataframe\">\n",
       "  <thead>\n",
       "    <tr style=\"text-align: right;\">\n",
       "      <th></th>\n",
       "      <th>license_number</th>\n",
       "      <th>license_category</th>\n",
       "      <th>is_current</th>\n",
       "      <th>license_status</th>\n",
       "      <th>license_check</th>\n",
       "    </tr>\n",
       "  </thead>\n",
       "  <tbody>\n",
       "    <tr>\n",
       "      <th>0</th>\n",
       "      <td>C9-0000320-LIC</td>\n",
       "      <td>Retailer</td>\n",
       "      <td>True</td>\n",
       "      <td>Active</td>\n",
       "      <td>YES</td>\n",
       "    </tr>\n",
       "  </tbody>\n",
       "</table>\n",
       "</div>"
      ],
      "text/plain": [
       "   license_number license_category  is_current license_status license_check\n",
       "0  C9-0000320-LIC         Retailer        True         Active           YES"
      ]
     },
     "execution_count": 15,
     "metadata": {},
     "output_type": "execute_result"
    }
   ],
   "source": [
    "retial_license_check_df"
   ]
  },
  {
   "cell_type": "markdown",
   "id": "8e35183a",
   "metadata": {},
   "source": [
    "## Pull data"
   ]
  },
  {
   "cell_type": "code",
   "execution_count": 16,
   "id": "61cc4333-fcbf-4d35-ad5f-09cfb5b17486",
   "metadata": {},
   "outputs": [],
   "source": [
    "company_incoming_transfer_packages_query = create_queries.create_company_incoming_transfer_packages_query(\n",
    "    COMPANY_IDENTIFIER,\n",
    "    TRANSFER_PACKAGES_START_DATE,\n",
    "    license_numbers=license_numbers,\n",
    ")\n",
    "company_outgoing_transfer_packages_query = create_queries.create_company_outgoing_transfer_packages_query(\n",
    "    COMPANY_IDENTIFIER,\n",
    "    TRANSFER_PACKAGES_START_DATE,\n",
    "    license_numbers=license_numbers,\n",
    ")\n",
    "company_unknown_transfer_packages_query = create_queries.create_company_unknown_transfer_packages_query(\n",
    "    COMPANY_IDENTIFIER,\n",
    "    TRANSFER_PACKAGES_START_DATE,\n",
    "#     license_numbers=license_numbers,\n",
    ")\n",
    "company_sales_transactions_query = create_queries.create_company_sales_transactions_query(\n",
    "    COMPANY_IDENTIFIER,\n",
    "    SALES_TRANSACTIONS_START_DATE,\n",
    "    license_numbers=license_numbers,\n",
    ")\n",
    "company_sales_receipts_query = create_queries.create_company_sales_receipts_query(\n",
    "    COMPANY_IDENTIFIER,\n",
    "    SALES_TRANSACTIONS_START_DATE,\n",
    "    license_numbers=license_numbers,\n",
    ")\n",
    "company_sales_receipts_with_transactions_query = create_queries.create_company_sales_receipts_with_transactions_query(\n",
    "    COMPANY_IDENTIFIER,\n",
    "    SALES_TRANSACTIONS_START_DATE,\n",
    "    license_numbers=license_numbers,\n",
    ")\n",
    "company_inventory_packages_query = create_queries.create_company_inventory_packages_query(\n",
    "    COMPANY_IDENTIFIER,\n",
    "    include_quantity_zero=True,\n",
    "    license_numbers=license_numbers,\n",
    ")\n",
    "\n",
    "company_incoming_transfer_packages_dataframe = pd.read_sql_query(company_incoming_transfer_packages_query, engine)\n",
    "company_outgoing_transfer_packages_dataframe = pd.read_sql_query(company_outgoing_transfer_packages_query, engine)\n",
    "company_unknown_transfer_packages_dataframe = pd.read_sql_query(company_unknown_transfer_packages_query, engine)\n",
    "company_sales_transactions_dataframe = pd.read_sql_query(company_sales_transactions_query, engine)\n",
    "company_sales_receipts_dataframe = pd.read_sql_query(company_sales_receipts_query, engine)\n",
    "company_sales_receipts_with_transactions_dataframe = pd.read_sql_query(company_sales_receipts_with_transactions_query, engine)\n",
    "company_inventory_packages_dataframe = pd.read_sql_query(company_inventory_packages_query, engine)"
   ]
  },
  {
   "cell_type": "code",
   "execution_count": 17,
   "id": "72800636",
   "metadata": {},
   "outputs": [
    {
     "data": {
      "text/plain": [
       "array(['C9-0000320-LIC'], dtype=object)"
      ]
     },
     "execution_count": 17,
     "metadata": {},
     "output_type": "execute_result"
    }
   ],
   "source": [
    "#make sure we did pulled all location's data\n",
    "company_incoming_transfer_packages_dataframe['license_number'].unique()"
   ]
  },
  {
   "cell_type": "code",
   "execution_count": 18,
   "id": "f2e41170",
   "metadata": {},
   "outputs": [
    {
     "data": {
      "text/plain": [
       "array(['C9-0000320-LIC'], dtype=object)"
      ]
     },
     "execution_count": 18,
     "metadata": {},
     "output_type": "execute_result"
    }
   ],
   "source": [
    "company_sales_receipts_with_transactions_dataframe['license_number'].unique()"
   ]
  },
  {
   "cell_type": "code",
   "execution_count": 19,
   "id": "31da29cf",
   "metadata": {},
   "outputs": [
    {
     "data": {
      "text/plain": [
       "array(['C9-0000320-LIC'], dtype=object)"
      ]
     },
     "execution_count": 19,
     "metadata": {},
     "output_type": "execute_result"
    }
   ],
   "source": [
    "company_inventory_packages_dataframe['license_number'].unique()"
   ]
  },
  {
   "cell_type": "markdown",
   "id": "22f31807",
   "metadata": {},
   "source": [
    "## Unknown transfer packages"
   ]
  },
  {
   "cell_type": "code",
   "execution_count": 20,
   "id": "aef77c6f",
   "metadata": {},
   "outputs": [],
   "source": [
    "def check_unknown_transfer_packages(unknown_transfer_df: pd.DataFrame) -> int:\n",
    "    unknown_package_count = unknown_transfer_df.shape[0]\n",
    "    if unknown_package_count > 0:\n",
    "        print(f'[FAILURE] Found a total of {unknown_package_count} unknown transfer packages')\n",
    "    else:\n",
    "        print(f'[SUCCESS] No unknown transfer packages!')\n",
    "    return unknown_package_count"
   ]
  },
  {
   "cell_type": "code",
   "execution_count": 21,
   "id": "f3a6daad",
   "metadata": {},
   "outputs": [
    {
     "name": "stdout",
     "output_type": "stream",
     "text": [
      "[SUCCESS] No unknown transfer packages!\n"
     ]
    },
    {
     "data": {
      "text/plain": [
       "0"
      ]
     },
     "execution_count": 21,
     "metadata": {},
     "output_type": "execute_result"
    }
   ],
   "source": [
    "unknown_package_count = check_unknown_transfer_packages(company_unknown_transfer_packages_dataframe)\n",
    "unknown_package_count"
   ]
  },
  {
   "cell_type": "markdown",
   "id": "e045f647",
   "metadata": {},
   "source": [
    "## Receiver wholesale price coverage"
   ]
  },
  {
   "cell_type": "code",
   "execution_count": 22,
   "id": "623f7f7e",
   "metadata": {},
   "outputs": [],
   "source": [
    "def check_receiver_wholesale_price_coverage(incoming_transfer_df: pd.DataFrame) -> float:\n",
    "    rwp_exists_count = incoming_transfer_df[incoming_transfer_df['receiver_wholesale_price'].notnull()].shape[0]\n",
    "    total_count = incoming_transfer_df.shape[0]\n",
    "    rwp_coverage = round(rwp_exists_count / total_count, 2) * 100\n",
    "    print(f'{rwp_coverage}% of incoming transfer packages have receiver wholesale price')\n",
    "    return rwp_coverage"
   ]
  },
  {
   "cell_type": "code",
   "execution_count": 23,
   "id": "fc28651c",
   "metadata": {},
   "outputs": [
    {
     "data": {
      "text/plain": [
       "(2828, 32)"
      ]
     },
     "execution_count": 23,
     "metadata": {},
     "output_type": "execute_result"
    }
   ],
   "source": [
    "company_incoming_transfer_packages_dataframe[company_incoming_transfer_packages_dataframe['receiver_wholesale_price'].notnull()].shape"
   ]
  },
  {
   "cell_type": "code",
   "execution_count": 24,
   "id": "09992a21",
   "metadata": {},
   "outputs": [
    {
     "data": {
      "text/plain": [
       "(2964, 32)"
      ]
     },
     "execution_count": 24,
     "metadata": {},
     "output_type": "execute_result"
    }
   ],
   "source": [
    "company_incoming_transfer_packages_dataframe.shape"
   ]
  },
  {
   "cell_type": "code",
   "execution_count": 25,
   "id": "44df31d7",
   "metadata": {},
   "outputs": [
    {
     "name": "stdout",
     "output_type": "stream",
     "text": [
      "95.0% of incoming transfer packages have receiver wholesale price\n"
     ]
    }
   ],
   "source": [
    "rwp_coverage = check_receiver_wholesale_price_coverage(company_incoming_transfer_packages_dataframe)\n"
   ]
  },
  {
   "cell_type": "markdown",
   "id": "e632a6c8",
   "metadata": {},
   "source": [
    "## dedupe sales transactions"
   ]
  },
  {
   "cell_type": "code",
   "execution_count": 26,
   "id": "54e232ef-5871-401c-9716-254f6242d138",
   "metadata": {},
   "outputs": [],
   "source": [
    "deduped_sales_receipts_with_transactions_dataframe = prepare_data.dedupe_sales_transactions(company_sales_receipts_with_transactions_dataframe)"
   ]
  },
  {
   "cell_type": "code",
   "execution_count": 27,
   "id": "3aa67466",
   "metadata": {},
   "outputs": [],
   "source": [
    "deduped_sales_receipts_with_transactions_dataframe['sales_month'] = deduped_sales_receipts_with_transactions_dataframe['sales_datetime'].dt.strftime('%Y-%m')"
   ]
  },
  {
   "cell_type": "code",
   "execution_count": 28,
   "id": "7a8bf4d7",
   "metadata": {},
   "outputs": [
    {
     "data": {
      "text/plain": [
       "array(['C9-0000320-LIC'], dtype=object)"
      ]
     },
     "execution_count": 28,
     "metadata": {},
     "output_type": "execute_result"
    }
   ],
   "source": [
    "#check we have all locations\n",
    "deduped_sales_receipts_with_transactions_dataframe['license_number'].unique()"
   ]
  },
  {
   "cell_type": "markdown",
   "id": "b02839ed",
   "metadata": {},
   "source": [
    "## Trxns missing incoming transfer packages"
   ]
  },
  {
   "cell_type": "code",
   "execution_count": 29,
   "id": "c3a98c0f",
   "metadata": {},
   "outputs": [],
   "source": [
    "def check_incoming_transfer_package_coverage(incoming_transfer_df: pd.DataFrame,sales_df: pd.DataFrame) -> Tuple[List,pd.DataFrame]:\n",
    "    package_transfer_sales_merged = pd.merge(sales_df,incoming_transfer_df,left_on='tx_package_id', right_on='package_id', how='left')\n",
    "    package_transfer_sales_merged_missed = package_transfer_sales_merged[package_transfer_sales_merged['package_id'].isnull()]\n",
    "    count_trxn_missed = package_transfer_sales_merged_missed.shape[0]\n",
    "    count_total_trxn = sales_df.shape[0]\n",
    "    missed_ratio = count_trxn_missed/ count_total_trxn\n",
    "    print(f'# transactions missing incoming transfer package: {count_trxn_missed} ({count_trxn_missed / count_total_trxn * 100}%)')\n",
    "    print(f'# transactions total: {count_total_trxn}')\n",
    "    return missed_ratio,package_transfer_sales_merged_missed"
   ]
  },
  {
   "cell_type": "code",
   "execution_count": 30,
   "id": "cd0b5a90",
   "metadata": {},
   "outputs": [
    {
     "name": "stdout",
     "output_type": "stream",
     "text": [
      "# transactions missing incoming transfer package: 0 (0.0%)\n",
      "# transactions total: 111241\n"
     ]
    }
   ],
   "source": [
    "incoming_transfer_package_coverage,incoming_transfer_package_coverage_missing = check_incoming_transfer_package_coverage(company_incoming_transfer_packages_dataframe,deduped_sales_receipts_with_transactions_dataframe)"
   ]
  },
  {
   "cell_type": "code",
   "execution_count": 31,
   "id": "6be6dd2a",
   "metadata": {},
   "outputs": [
    {
     "data": {
      "text/html": [
       "<div>\n",
       "<style scoped>\n",
       "    .dataframe tbody tr th:only-of-type {\n",
       "        vertical-align: middle;\n",
       "    }\n",
       "\n",
       "    .dataframe tbody tr th {\n",
       "        vertical-align: top;\n",
       "    }\n",
       "\n",
       "    .dataframe thead th {\n",
       "        text-align: right;\n",
       "    }\n",
       "</style>\n",
       "<table border=\"1\" class=\"dataframe\">\n",
       "  <thead>\n",
       "    <tr style=\"text-align: right;\">\n",
       "      <th></th>\n",
       "      <th>sales_month</th>\n",
       "      <th>receipt_number</th>\n",
       "    </tr>\n",
       "    <tr>\n",
       "      <th>sales_month</th>\n",
       "      <th></th>\n",
       "      <th></th>\n",
       "    </tr>\n",
       "  </thead>\n",
       "  <tbody>\n",
       "  </tbody>\n",
       "</table>\n",
       "</div>"
      ],
      "text/plain": [
       "Empty DataFrame\n",
       "Columns: [sales_month, receipt_number]\n",
       "Index: []"
      ]
     },
     "execution_count": 31,
     "metadata": {},
     "output_type": "execute_result"
    }
   ],
   "source": [
    "month_to_missing_count = incoming_transfer_package_coverage_missing[['sales_month','receipt_number']].groupby(['sales_month']).apply(lambda x: len(x['receipt_number'].unique()))\n",
    "month_to_missing_count\n"
   ]
  },
  {
   "cell_type": "markdown",
   "id": "0da2e8ce-e643-4fee-aca6-cd61b3becc21",
   "metadata": {},
   "source": [
    "## Receipts missing metrc_sales_transactions"
   ]
  },
  {
   "cell_type": "code",
   "execution_count": 32,
   "id": "cbc30296-afa8-42f8-a16b-72fe045395c6",
   "metadata": {},
   "outputs": [],
   "source": [
    "sales_receipt_with_transactions_records = deduped_sales_receipts_with_transactions_dataframe.to_dict('records')\n",
    "\n",
    "receipt_number_to_transactions = {}\n",
    "for sales_receipt_with_transaction_record in sales_receipt_with_transactions_records:\n",
    "    receipt_number = sales_receipt_with_transaction_record['receipt_number']\n",
    "    if receipt_number in receipt_number_to_transactions:\n",
    "        receipt_number_to_transactions[receipt_number] += [sales_receipt_with_transaction_record]\n",
    "    else:\n",
    "        receipt_number_to_transactions[receipt_number] = [sales_receipt_with_transaction_record]"
   ]
  },
  {
   "cell_type": "code",
   "execution_count": 33,
   "id": "c8f876a8-09ef-4582-9ed9-958d3e97b4a5",
   "metadata": {},
   "outputs": [
    {
     "name": "stdout",
     "output_type": "stream",
     "text": [
      "# receipts with mismatching transactions: 0 (0.0%)\n",
      "# receipts missing transactions: 0 (0.0%)\n",
      "# receipts total: 60628\n"
     ]
    }
   ],
   "source": [
    "import math\n",
    "\n",
    "def float_eq(receipt_total_price: float, transactions_total_price: float, num_transactions: int) -> bool:\n",
    "    # For every additional transaction, increase threshold by 0.01 (a penny).\n",
    "    threshold = num_transactions * 0.1\n",
    "    return math.isclose(receipt_total_price, transactions_total_price, abs_tol=threshold)\n",
    "\n",
    "mismatch_count = 0 # Count of receipts where receipt total price does not match transactions total price.\n",
    "missing_count = 0 # Count of receipts with no transactions.\n",
    "total_count = 0 # Count of receipts (including those missing transactions).\n",
    "\n",
    "mismatch_over_count = 0\n",
    "mismatch_under_count = 0\n",
    "\n",
    "month_to_mismatch_count = {}\n",
    "month_to_missing_count = {}\n",
    "\n",
    "month_to_mismatch_over_count = {}\n",
    "month_to_mismatch_under_count = {}\n",
    "\n",
    "example_mismatch_over_receipts = []\n",
    "example_mismatch_under_receipts = []\n",
    "\n",
    "for receipt_number, receipt_transactions in list(receipt_number_to_transactions.items()):\n",
    "    receipt_total_price = receipt_transactions[0]['rt_total_price']\n",
    "    receipt_sales_month = receipt_transactions[0]['sales_month']\n",
    "    receipt_total_packages = receipt_transactions[0]['total_packages']\n",
    "\n",
    "    total_count += 1\n",
    "\n",
    "    if len(receipt_transactions) == 1 and receipt_transactions[0]['tx_package_id'] == None:\n",
    "        missing_count += 1\n",
    "        if receipt_sales_month not in month_to_missing_count:\n",
    "            month_to_missing_count[receipt_sales_month] = 0\n",
    "        month_to_missing_count[receipt_sales_month] += 1\n",
    "        continue\n",
    "\n",
    "    # Check whether 'total_packages' field of sales receipt matches number of transactions related to receipt.\n",
    "    if receipt_total_packages != len(receipt_transactions):\n",
    "        missing_count += 1\n",
    "        if receipt_sales_month not in month_to_missing_count:\n",
    "            month_to_missing_count[receipt_sales_month] = 0\n",
    "        month_to_missing_count[receipt_sales_month] += 1\n",
    "        continue\n",
    "\n",
    "    transactions_total_price = sum(receipt_transaction['tx_total_price'] for receipt_transaction in receipt_transactions)\n",
    "    if not float_eq(receipt_total_price, transactions_total_price, len(receipt_transactions)):\n",
    "        mismatch_count += 1\n",
    "        if receipt_total_price < transactions_total_price:\n",
    "            mismatch_over_count += 1\n",
    "            example_mismatch_over_receipts += [(receipt_number, receipt_transactions)]\n",
    "        else:\n",
    "            mismatch_under_count += 1\n",
    "            example_mismatch_under_receipts += [(receipt_number, receipt_transactions)]\n",
    "\n",
    "        if receipt_sales_month not in month_to_mismatch_count:\n",
    "            month_to_mismatch_count[receipt_sales_month] = 0\n",
    "        month_to_mismatch_count[receipt_sales_month] += 1\n",
    "        continue\n",
    "\n",
    "print(f'# receipts with mismatching transactions: {mismatch_count} ({mismatch_count / total_count * 100}%)')\n",
    "print(f'# receipts missing transactions: {missing_count} ({missing_count / total_count * 100}%)')\n",
    "print(f'# receipts total: {total_count}')\n",
    "\n",
    "if mismatch_count:\n",
    "    print(f'# mismatch receipt vs transactions (transactions over): {mismatch_over_count} ({mismatch_over_count / mismatch_count * 100}%)')\n",
    "    print(f'# mismatch receipt vs transactions (transactions under): {mismatch_under_count} ({mismatch_under_count / mismatch_count * 100}%)')"
   ]
  },
  {
   "cell_type": "code",
   "execution_count": 34,
   "id": "e1ab76b8",
   "metadata": {},
   "outputs": [],
   "source": [
    "company_sales_receipts_dataframe['sales_month'] = company_sales_receipts_dataframe['sales_datetime'].dt.strftime('%Y-%m')"
   ]
  },
  {
   "cell_type": "code",
   "execution_count": 35,
   "id": "1eb6b9f3",
   "metadata": {},
   "outputs": [
    {
     "data": {
      "text/plain": [
       "<AxesSubplot:xlabel='sales_month'>"
      ]
     },
     "execution_count": 35,
     "metadata": {},
     "output_type": "execute_result"
    },
    {
     "data": {
      "image/png": "[encoded data removed]",
      "text/plain": [
       "<Figure size 1728x576 with 1 Axes>"
      ]
     },
     "metadata": {
      "needs_background": "light"
     },
     "output_type": "display_data"
    }
   ],
   "source": [
    "company_sales_receipts_dataframe.groupby(['sales_month'])['total_price'].sum().plot.bar(figsize=(24, 8), stacked=True)"
   ]
  },
  {
   "cell_type": "markdown",
   "id": "78d3c466",
   "metadata": {},
   "source": [
    "# For Embarc only"
   ]
  },
  {
   "cell_type": "code",
   "execution_count": null,
   "id": "de5b324f",
   "metadata": {},
   "outputs": [],
   "source": [
    "if COMPANY_IDENTIFIER == ['EMA','EMM','EMT']:\n",
    "    #incoming transfer\n",
    "    company_incoming_transfer_packages_dataframe_ema = company_incoming_transfer_packages_dataframe[company_incoming_transfer_packages_dataframe['license_number'] == 'C10-0000774-LIC']\n",
    "    company_incoming_transfer_packages_dataframe_emm = company_incoming_transfer_packages_dataframe[company_incoming_transfer_packages_dataframe['license_number'] == 'C10-0000786-LIC']\n",
    "    company_incoming_transfer_packages_dataframe_emt = company_incoming_transfer_packages_dataframe[company_incoming_transfer_packages_dataframe['license_number'] == 'C10-0000695-LIC']\n",
    "    #sales & receipt\n",
    "    deduped_sales_receipts_with_transactions_dataframe_ema = deduped_sales_receipts_with_transactions_dataframe[deduped_sales_receipts_with_transactions_dataframe['license_number'] == 'C10-0000774-LIC']\n",
    "    deduped_sales_receipts_with_transactions_dataframe_emm = deduped_sales_receipts_with_transactions_dataframe[deduped_sales_receipts_with_transactions_dataframe['license_number'] == 'C10-0000786-LIC']\n",
    "    deduped_sales_receipts_with_transactions_dataframe_emt = deduped_sales_receipts_with_transactions_dataframe[deduped_sales_receipts_with_transactions_dataframe['license_number'] == 'C10-0000695-LIC']\n",
    "    #inventory\n",
    "    company_inventory_packages_dataframe_ema = company_inventory_packages_dataframe[company_inventory_packages_dataframe['license_number'] == 'C10-0000774-LIC']\n",
    "    company_inventory_packages_dataframe_emm = company_inventory_packages_dataframe[company_inventory_packages_dataframe['license_number'] == 'C10-0000786-LIC']\n",
    "    company_inventory_packages_dataframe_emt = company_inventory_packages_dataframe[company_inventory_packages_dataframe['license_number'] == 'C10-0000695-LIC']\n",
    "    "
   ]
  },
  {
   "cell_type": "markdown",
   "id": "2ea0583a",
   "metadata": {},
   "source": [
    "# For BUD"
   ]
  },
  {
   "cell_type": "code",
   "execution_count": null,
   "id": "652466fe",
   "metadata": {},
   "outputs": [],
   "source": [
    "if COMPANY_IDENTIFIER == ['BUD']:\n",
    "    #incoming transfer\n",
    "    company_incoming_transfer_packages_dataframe_sac = company_incoming_transfer_packages_dataframe[company_incoming_transfer_packages_dataframe['license_number'] == 'C9-0000399-LIC']\n",
    "    company_incoming_transfer_packages_dataframe_fresno = company_incoming_transfer_packages_dataframe[company_incoming_transfer_packages_dataframe['license_number'] == 'C9-0000467-LIC']\n",
    "    company_incoming_transfer_packages_dataframe_la = company_incoming_transfer_packages_dataframe[company_incoming_transfer_packages_dataframe['license_number'] == 'C9-0000464-LIC']\n",
    "    #sales & receipt\n",
    "    deduped_sales_receipts_with_transactions_dataframe_sac = deduped_sales_receipts_with_transactions_dataframe[deduped_sales_receipts_with_transactions_dataframe['license_number'] == 'C9-0000399-LIC']\n",
    "    deduped_sales_receipts_with_transactions_dataframe_fresno = deduped_sales_receipts_with_transactions_dataframe[deduped_sales_receipts_with_transactions_dataframe['license_number'] == 'C9-0000467-LIC']\n",
    "    deduped_sales_receipts_with_transactions_dataframe_la = deduped_sales_receipts_with_transactions_dataframe[deduped_sales_receipts_with_transactions_dataframe['license_number'] == 'C9-0000464-LIC']\n",
    "    #inventory\n",
    "    company_inventory_packages_dataframe_sac = company_inventory_packages_dataframe[company_inventory_packages_dataframe['license_number'] == 'C9-0000399-LIC']\n",
    "    company_inventory_packages_dataframe_fresno = company_inventory_packages_dataframe[company_inventory_packages_dataframe['license_number'] == 'C9-0000467-LIC']\n",
    "    company_inventory_packages_dataframe_la = company_inventory_packages_dataframe[company_inventory_packages_dataframe['license_number'] == 'C9-0000464-LIC']\n",
    "    "
   ]
  },
  {
   "cell_type": "code",
   "execution_count": null,
   "id": "3082b624",
   "metadata": {},
   "outputs": [],
   "source": [
    "company_inventory_packages_dataframe_la['license_number'].unique()"
   ]
  },
  {
   "cell_type": "markdown",
   "id": "40a054de",
   "metadata": {},
   "source": [
    "# Vendor churn"
   ]
  },
  {
   "cell_type": "code",
   "execution_count": 36,
   "id": "c18451c1",
   "metadata": {},
   "outputs": [],
   "source": [
    "WINDOW = 4\n",
    "VC_START_DATE = '2020-01-01'\n",
    "VC_END_DATE = '2022-02-01'\n",
    "VC_MONTH_LIST = ['2021-10-01','2021-11-01','2021-12-01','2022-01-01']\n",
    "VC_MONTH_END = VC_MONTH_LIST[-1]"
   ]
  },
  {
   "cell_type": "code",
   "execution_count": 37,
   "id": "9be2c5b3",
   "metadata": {},
   "outputs": [],
   "source": [
    "def calculate_vendor_churn(incoming_transfer_df,license_list,vc_windown,vc_start_date,vc_end_date,vc_month_list,vc_month_end):\n",
    "    df_vendor_churn = incoming_transfer_df[incoming_transfer_df['license_number'].isin(license_list)]\n",
    "    df_vendor_churn['year_month'] = pd.to_datetime(df_vendor_churn['created_date']).dt.strftime(\"%Y-%m\")\n",
    "    vc = df_vendor_churn[['year_month','shipper_facility_name','shipper_wholesale_price']].groupby(['year_month','shipper_facility_name']).sum().reset_index()\n",
    "    vc= vc.assign(year_month=lambda df:pd.to_datetime(df['year_month']))\n",
    "\n",
    "    vc_full = (\n",
    "        vc\n",
    "        .groupby('shipper_facility_name').apply(\n",
    "            lambda df: df.merge(\n",
    "            pd.Series(\n",
    "                None, \n",
    "                index = pd.date_range(start = vc_start_date, end = vc_end_date, freq = 'MS'), \n",
    "                name='__place_holder'\n",
    "            ), \n",
    "            how ='right',\n",
    "            left_on = 'year_month', \n",
    "            right_index=True,\n",
    "        ).assign(\n",
    "            **{\n",
    "                \"shipper_facility_name\": lambda df_: df_.shipper_facility_name.dropna().unique()[0],\n",
    "                \"shipper_wholesale_price\": lambda df_: df_.shipper_wholesale_price.fillna(0),\n",
    "            }\n",
    "        )\n",
    "        .drop('__place_holder', axis=1)\n",
    "        )\n",
    "    ).reset_index(drop=True)\n",
    "    \n",
    "    rolling_4m_sum =  vc_full.groupby('shipper_facility_name').apply(\n",
    "    lambda df: df.set_index('year_month').sort_index().rolling(vc_windown).sum()\n",
    "    )\n",
    "    rolling_4m_sum.columns = ['rolling_4m_total_price']\n",
    "    facility_monthly_running_total = vc_full.groupby('shipper_facility_name').apply(\n",
    "        lambda df: df.set_index('year_month').sort_index()['shipper_wholesale_price'].cumsum().to_frame()\n",
    "    )\n",
    "    facility_monthly_running_total.columns = ['facility_running_total']\n",
    "    monthly_running_total = facility_monthly_running_total.reset_index().groupby('year_month')['facility_running_total'].sum().to_frame()\n",
    "    monthly_running_total.columns = ['monthly_running_total']\n",
    "\n",
    "    vc_result = rolling_4m_sum.merge(\n",
    "        facility_monthly_running_total,\n",
    "        how='inner',\n",
    "        left_index=True,\n",
    "        right_index=True\n",
    "    ).reset_index().merge(\n",
    "        monthly_running_total,\n",
    "        how='left',\n",
    "        on = 'year_month'\n",
    "    )\n",
    "    vc_result['%_total'] = vc_result['facility_running_total'] / vc_result['monthly_running_total']\n",
    "    vc_result['last_4m_active'] = vc_result['rolling_4m_total_price'] > 0\n",
    "    vc_result ['significant'] = vc_result['%_total'] > 0.001\n",
    "    vc_result['measure'] = vc_result.apply(\n",
    "    lambda row: \"Active\"  if (row['last_4m_active'] & row['significant']) else (\"Inactive\" if row['significant'] else \"Exclude\"),\n",
    "    axis=1\n",
    "    )\n",
    "    #churn\n",
    "    churn = vc_result.groupby(['year_month']).apply(lambda x: x[x['measure'] == 'Inactive']['%_total'].sum()).reset_index()\n",
    "    churn.columns = ['year_month','%_inactive']\n",
    "    churn.index = churn.year_month\n",
    "    \n",
    "    # output vendor churn matrix\n",
    "    vc_data = vc_full[vc_full['year_month'] <= VC_MONTH_END]\n",
    "    vc_data['year_month'] = vc_data['year_month'].astype(str)\n",
    "    vc_matrix = pd.pivot_table(vc_data, values='shipper_wholesale_price', index='shipper_facility_name',\n",
    "    columns='year_month', fill_value=0).reset_index()\n",
    "    vc_matrix['facility_total'] = vc_matrix.sum(axis= 1)\n",
    "    vc_matrix['grand_total'] = vc_matrix['facility_total'].sum()\n",
    "    vc_matrix['perc_total'] = vc_matrix['facility_total'] / vc_matrix['grand_total']\n",
    "    vc_matrix['last_4m_total'] = vc_matrix[VC_MONTH_LIST].sum(axis = 1)\n",
    "    vc_matrix['last_4m_active'] = vc_matrix['last_4m_total'] > 0\n",
    "    vc_matrix ['significant'] = vc_matrix['perc_total'] > 0.001\n",
    "    vc_matrix['measure'] = vc_matrix.apply(\n",
    "        lambda row: \"Active\"  if (row['last_4m_active'] & row['significant']) else (\"Inactive\" if row['significant'] else \"Exclude\"),\n",
    "        axis=1\n",
    "    )\n",
    "    return churn, vc_matrix\n",
    "    \n"
   ]
  },
  {
   "cell_type": "markdown",
   "id": "e2b0390d",
   "metadata": {},
   "source": [
    "## embarc"
   ]
  },
  {
   "cell_type": "code",
   "execution_count": null,
   "id": "6198bc51",
   "metadata": {},
   "outputs": [],
   "source": [
    "churn_ema,vc_matrix_ema = calculate_vendor_churn(company_incoming_transfer_packages_dataframe_ema,['C10-0000774-LIC'],WINDOW,VC_START_DATE,VC_END_DATE,VC_MONTH_LIST,VC_MONTH_END)\n",
    "churn_emm,vc_matrix_emm = calculate_vendor_churn(company_incoming_transfer_packages_dataframe_emm,['C10-0000786-LIC'],WINDOW,VC_START_DATE,VC_END_DATE,VC_MONTH_LIST,VC_MONTH_END)\n",
    "churn_emt,vc_matrix_emt = calculate_vendor_churn(company_incoming_transfer_packages_dataframe_emt,['C10-0000695-LIC'],WINDOW,VC_START_DATE,VC_END_DATE,VC_MONTH_LIST,VC_MONTH_END)\n",
    "\n"
   ]
  },
  {
   "cell_type": "markdown",
   "id": "f7da5cff",
   "metadata": {},
   "source": [
    "## BUD"
   ]
  },
  {
   "cell_type": "code",
   "execution_count": null,
   "id": "f0587da2",
   "metadata": {},
   "outputs": [],
   "source": [
    "churn_sac,vc_matrix_sac = calculate_vendor_churn(company_incoming_transfer_packages_dataframe_sac,['C9-0000399-LIC'],WINDOW,VC_START_DATE,VC_END_DATE,VC_MONTH_LIST,VC_MONTH_END)\n",
    "churn_fresno,vc_matrix_fresno = calculate_vendor_churn(company_incoming_transfer_packages_dataframe_fresno,['C9-0000467-LIC'],WINDOW,VC_START_DATE,VC_END_DATE,VC_MONTH_LIST,VC_MONTH_END)\n",
    "churn_la,vc_matrix_la = calculate_vendor_churn(company_incoming_transfer_packages_dataframe_la,['C9-0000464-LIC'],WINDOW,VC_START_DATE,VC_END_DATE,VC_MONTH_LIST,VC_MONTH_END)\n",
    "\n"
   ]
  },
  {
   "cell_type": "code",
   "execution_count": null,
   "id": "78dfd852",
   "metadata": {},
   "outputs": [],
   "source": [
    "churn_la"
   ]
  },
  {
   "cell_type": "code",
   "execution_count": null,
   "id": "d1768e7a",
   "metadata": {},
   "outputs": [],
   "source": [
    "ax = churn_la['%_inactive'].plot(marker = 'o',figsize = (12,8))\n",
    "vals = ax.get_yticks()\n",
    "ax.set_yticklabels(['{:,.2%}'.format(x) for x in vals])\n",
    "ax = plt.title('Rolling 4m vendor churn')"
   ]
  },
  {
   "cell_type": "markdown",
   "id": "3ddb8b90",
   "metadata": {},
   "source": [
    "## other"
   ]
  },
  {
   "cell_type": "code",
   "execution_count": 38,
   "id": "247358ea",
   "metadata": {},
   "outputs": [
    {
     "data": {
      "text/plain": [
       "['C9-0000320-LIC']"
      ]
     },
     "execution_count": 38,
     "metadata": {},
     "output_type": "execute_result"
    }
   ],
   "source": [
    "license_numbers"
   ]
  },
  {
   "cell_type": "code",
   "execution_count": 39,
   "id": "dd3f7bd4",
   "metadata": {},
   "outputs": [],
   "source": [
    "churn,vc_matrix = calculate_vendor_churn(company_incoming_transfer_packages_dataframe,license_numbers,WINDOW,VC_START_DATE,VC_END_DATE,VC_MONTH_LIST,VC_MONTH_END)"
   ]
  },
  {
   "cell_type": "code",
   "execution_count": 40,
   "id": "a94b5168",
   "metadata": {},
   "outputs": [
    {
     "data": {
      "text/html": [
       "<div>\n",
       "<style scoped>\n",
       "    .dataframe tbody tr th:only-of-type {\n",
       "        vertical-align: middle;\n",
       "    }\n",
       "\n",
       "    .dataframe tbody tr th {\n",
       "        vertical-align: top;\n",
       "    }\n",
       "\n",
       "    .dataframe thead th {\n",
       "        text-align: right;\n",
       "    }\n",
       "</style>\n",
       "<table border=\"1\" class=\"dataframe\">\n",
       "  <thead>\n",
       "    <tr style=\"text-align: right;\">\n",
       "      <th></th>\n",
       "      <th>year_month</th>\n",
       "      <th>%_inactive</th>\n",
       "    </tr>\n",
       "    <tr>\n",
       "      <th>year_month</th>\n",
       "      <th></th>\n",
       "      <th></th>\n",
       "    </tr>\n",
       "  </thead>\n",
       "  <tbody>\n",
       "    <tr>\n",
       "      <th>2020-01-01</th>\n",
       "      <td>2020-01-01</td>\n",
       "      <td>0.000000</td>\n",
       "    </tr>\n",
       "    <tr>\n",
       "      <th>2020-02-01</th>\n",
       "      <td>2020-02-01</td>\n",
       "      <td>0.000000</td>\n",
       "    </tr>\n",
       "    <tr>\n",
       "      <th>2020-03-01</th>\n",
       "      <td>2020-03-01</td>\n",
       "      <td>1.000000</td>\n",
       "    </tr>\n",
       "    <tr>\n",
       "      <th>2020-04-01</th>\n",
       "      <td>2020-04-01</td>\n",
       "      <td>0.000000</td>\n",
       "    </tr>\n",
       "    <tr>\n",
       "      <th>2020-05-01</th>\n",
       "      <td>2020-05-01</td>\n",
       "      <td>0.000000</td>\n",
       "    </tr>\n",
       "    <tr>\n",
       "      <th>2020-06-01</th>\n",
       "      <td>2020-06-01</td>\n",
       "      <td>0.000000</td>\n",
       "    </tr>\n",
       "    <tr>\n",
       "      <th>2020-07-01</th>\n",
       "      <td>2020-07-01</td>\n",
       "      <td>0.000000</td>\n",
       "    </tr>\n",
       "    <tr>\n",
       "      <th>2020-08-01</th>\n",
       "      <td>2020-08-01</td>\n",
       "      <td>0.101428</td>\n",
       "    </tr>\n",
       "    <tr>\n",
       "      <th>2020-09-01</th>\n",
       "      <td>2020-09-01</td>\n",
       "      <td>0.084768</td>\n",
       "    </tr>\n",
       "    <tr>\n",
       "      <th>2020-10-01</th>\n",
       "      <td>2020-10-01</td>\n",
       "      <td>0.082292</td>\n",
       "    </tr>\n",
       "    <tr>\n",
       "      <th>2020-11-01</th>\n",
       "      <td>2020-11-01</td>\n",
       "      <td>0.090126</td>\n",
       "    </tr>\n",
       "    <tr>\n",
       "      <th>2020-12-01</th>\n",
       "      <td>2020-12-01</td>\n",
       "      <td>0.079892</td>\n",
       "    </tr>\n",
       "    <tr>\n",
       "      <th>2021-01-01</th>\n",
       "      <td>2021-01-01</td>\n",
       "      <td>0.093750</td>\n",
       "    </tr>\n",
       "    <tr>\n",
       "      <th>2021-02-01</th>\n",
       "      <td>2021-02-01</td>\n",
       "      <td>0.074921</td>\n",
       "    </tr>\n",
       "    <tr>\n",
       "      <th>2021-03-01</th>\n",
       "      <td>2021-03-01</td>\n",
       "      <td>0.073124</td>\n",
       "    </tr>\n",
       "    <tr>\n",
       "      <th>2021-04-01</th>\n",
       "      <td>2021-04-01</td>\n",
       "      <td>0.177905</td>\n",
       "    </tr>\n",
       "    <tr>\n",
       "      <th>2021-05-01</th>\n",
       "      <td>2021-05-01</td>\n",
       "      <td>0.171518</td>\n",
       "    </tr>\n",
       "    <tr>\n",
       "      <th>2021-06-01</th>\n",
       "      <td>2021-06-01</td>\n",
       "      <td>0.206193</td>\n",
       "    </tr>\n",
       "    <tr>\n",
       "      <th>2021-07-01</th>\n",
       "      <td>2021-07-01</td>\n",
       "      <td>0.282205</td>\n",
       "    </tr>\n",
       "    <tr>\n",
       "      <th>2021-08-01</th>\n",
       "      <td>2021-08-01</td>\n",
       "      <td>0.290189</td>\n",
       "    </tr>\n",
       "    <tr>\n",
       "      <th>2021-09-01</th>\n",
       "      <td>2021-09-01</td>\n",
       "      <td>0.421334</td>\n",
       "    </tr>\n",
       "    <tr>\n",
       "      <th>2021-10-01</th>\n",
       "      <td>2021-10-01</td>\n",
       "      <td>0.379433</td>\n",
       "    </tr>\n",
       "    <tr>\n",
       "      <th>2021-11-01</th>\n",
       "      <td>2021-11-01</td>\n",
       "      <td>0.381738</td>\n",
       "    </tr>\n",
       "    <tr>\n",
       "      <th>2021-12-01</th>\n",
       "      <td>2021-12-01</td>\n",
       "      <td>0.357214</td>\n",
       "    </tr>\n",
       "    <tr>\n",
       "      <th>2022-01-01</th>\n",
       "      <td>2022-01-01</td>\n",
       "      <td>0.335399</td>\n",
       "    </tr>\n",
       "    <tr>\n",
       "      <th>2022-02-01</th>\n",
       "      <td>2022-02-01</td>\n",
       "      <td>0.438943</td>\n",
       "    </tr>\n",
       "  </tbody>\n",
       "</table>\n",
       "</div>"
      ],
      "text/plain": [
       "           year_month  %_inactive\n",
       "year_month                       \n",
       "2020-01-01 2020-01-01    0.000000\n",
       "2020-02-01 2020-02-01    0.000000\n",
       "2020-03-01 2020-03-01    1.000000\n",
       "2020-04-01 2020-04-01    0.000000\n",
       "2020-05-01 2020-05-01    0.000000\n",
       "2020-06-01 2020-06-01    0.000000\n",
       "2020-07-01 2020-07-01    0.000000\n",
       "2020-08-01 2020-08-01    0.101428\n",
       "2020-09-01 2020-09-01    0.084768\n",
       "2020-10-01 2020-10-01    0.082292\n",
       "2020-11-01 2020-11-01    0.090126\n",
       "2020-12-01 2020-12-01    0.079892\n",
       "2021-01-01 2021-01-01    0.093750\n",
       "2021-02-01 2021-02-01    0.074921\n",
       "2021-03-01 2021-03-01    0.073124\n",
       "2021-04-01 2021-04-01    0.177905\n",
       "2021-05-01 2021-05-01    0.171518\n",
       "2021-06-01 2021-06-01    0.206193\n",
       "2021-07-01 2021-07-01    0.282205\n",
       "2021-08-01 2021-08-01    0.290189\n",
       "2021-09-01 2021-09-01    0.421334\n",
       "2021-10-01 2021-10-01    0.379433\n",
       "2021-11-01 2021-11-01    0.381738\n",
       "2021-12-01 2021-12-01    0.357214\n",
       "2022-01-01 2022-01-01    0.335399\n",
       "2022-02-01 2022-02-01    0.438943"
      ]
     },
     "execution_count": 40,
     "metadata": {},
     "output_type": "execute_result"
    }
   ],
   "source": [
    "churn"
   ]
  },
  {
   "cell_type": "code",
   "execution_count": 41,
   "id": "4bcde04c",
   "metadata": {},
   "outputs": [
    {
     "data": {
      "image/png": "[encoded data removed]",
      "text/plain": [
       "<Figure size 864x576 with 1 Axes>"
      ]
     },
     "metadata": {
      "needs_background": "light"
     },
     "output_type": "display_data"
    }
   ],
   "source": [
    "ax = churn['%_inactive'].plot(marker = 'o',figsize = (12,8))\n",
    "vals = ax.get_yticks()\n",
    "ax.set_yticklabels(['{:,.2%}'.format(x) for x in vals])\n",
    "ax = plt.title('Rolling 4m vendor churn')"
   ]
  },
  {
   "cell_type": "markdown",
   "id": "21b8b232",
   "metadata": {},
   "source": [
    "# Receiver wholesale price outlier check"
   ]
  },
  {
   "cell_type": "code",
   "execution_count": 42,
   "id": "7291b9c2",
   "metadata": {},
   "outputs": [],
   "source": [
    "def check_per_unit_incoming(incoming_transfer_df: pd.DataFrame) -> Tuple[pd.DataFrame,pd.DataFrame]:\n",
    "    incoming_transfer_df['per_unit_incoming'] = incoming_transfer_df['shipper_wholesale_price'] / incoming_transfer_df['shipped_quantity']\n",
    "    # by package ID\n",
    "    per_unit_incoming_package_sort = incoming_transfer_df[['package_id','per_unit_incoming']].groupby(['package_id']).mean().sort_values(by = 'per_unit_incoming',ascending = False).reset_index()\n",
    "    per_unit_incoming_package_top5 = per_unit_incoming_package_sort[0:5]\n",
    "    print('printing per unit incoming by package ID summary ...')\n",
    "    print(f'max per unit incoming: {per_unit_incoming_package_sort[\"per_unit_incoming\"][0]}' + f' from package ID: {per_unit_incoming_package_sort[\"package_id\"][0]}')\n",
    "    print(f'min per unit incoming: {per_unit_incoming_package_sort.dropna()[\"per_unit_incoming\"][-1:].values[0]}' + f' from package ID: {per_unit_incoming_package_sort.dropna()[\"package_id\"][-1:].values[0]}')\n",
    "    #print(per_unit_incoming_package_top5)\n",
    "    print('')\n",
    "    \n",
    "    #by product name\n",
    "    per_unit_incoming_product_sort = incoming_transfer_df[['product_name','per_unit_incoming']].groupby(['product_name']).max().sort_values(by = 'per_unit_incoming',ascending = False).reset_index()\n",
    "    per_unit_incoming_product_top5 = per_unit_incoming_product_sort[0:5]\n",
    "    #print('printing per unit incoming by product name summary ...')\n",
    "    #print(f'max per unit incoming: {per_unit_incoming_product_sort[\"per_unit_incoming\"][0]}' + f' from product name: {per_unit_incoming_product_sort[\"product_name\"][0]}')\n",
    "    #print(f'min per unit incoming: {per_unit_incoming_product_sort.dropna()[\"per_unit_incoming\"][-1:].values[0]}' + f' from product_name: {per_unit_incoming_product_sort.dropna()[\"product_name\"][-1:].values[0]}')\n",
    "    #print(per_unit_incoming_product_top5)\n",
    "    return per_unit_incoming_package_sort,per_unit_incoming_product_sort\n"
   ]
  },
  {
   "cell_type": "code",
   "execution_count": 43,
   "id": "00fbd51c",
   "metadata": {},
   "outputs": [
    {
     "name": "stdout",
     "output_type": "stream",
     "text": [
      "printing per unit incoming by package ID summary ...\n",
      "max per unit incoming: inf from package ID: 13270560\n",
      "min per unit incoming: 4.098360655737705e-05 from package ID: 15924786\n",
      "\n"
     ]
    }
   ],
   "source": [
    "per_unit_incoming_package_sort,per_unit_incoming_product_sort = check_per_unit_incoming(company_incoming_transfer_packages_dataframe)\n"
   ]
  },
  {
   "cell_type": "code",
   "execution_count": 44,
   "id": "1f93f801",
   "metadata": {},
   "outputs": [
    {
     "name": "stdout",
     "output_type": "stream",
     "text": [
      "Top 5 per unit incoming packages\n"
     ]
    },
    {
     "data": {
      "text/html": [
       "<div>\n",
       "<style scoped>\n",
       "    .dataframe tbody tr th:only-of-type {\n",
       "        vertical-align: middle;\n",
       "    }\n",
       "\n",
       "    .dataframe tbody tr th {\n",
       "        vertical-align: top;\n",
       "    }\n",
       "\n",
       "    .dataframe thead th {\n",
       "        text-align: right;\n",
       "    }\n",
       "</style>\n",
       "<table border=\"1\" class=\"dataframe\">\n",
       "  <thead>\n",
       "    <tr style=\"text-align: right;\">\n",
       "      <th></th>\n",
       "      <th>package_id</th>\n",
       "      <th>per_unit_incoming</th>\n",
       "    </tr>\n",
       "  </thead>\n",
       "  <tbody>\n",
       "    <tr>\n",
       "      <th>0</th>\n",
       "      <td>13270560</td>\n",
       "      <td>inf</td>\n",
       "    </tr>\n",
       "    <tr>\n",
       "      <th>1</th>\n",
       "      <td>3742569</td>\n",
       "      <td>95.25</td>\n",
       "    </tr>\n",
       "    <tr>\n",
       "      <th>2</th>\n",
       "      <td>14217381</td>\n",
       "      <td>68.00</td>\n",
       "    </tr>\n",
       "    <tr>\n",
       "      <th>3</th>\n",
       "      <td>22032877</td>\n",
       "      <td>65.00</td>\n",
       "    </tr>\n",
       "    <tr>\n",
       "      <th>4</th>\n",
       "      <td>22033473</td>\n",
       "      <td>65.00</td>\n",
       "    </tr>\n",
       "  </tbody>\n",
       "</table>\n",
       "</div>"
      ],
      "text/plain": [
       "  package_id  per_unit_incoming\n",
       "0   13270560                inf\n",
       "1    3742569              95.25\n",
       "2   14217381              68.00\n",
       "3   22032877              65.00\n",
       "4   22033473              65.00"
      ]
     },
     "execution_count": 44,
     "metadata": {},
     "output_type": "execute_result"
    }
   ],
   "source": [
    "# top 5\n",
    "print('Top 5 per unit incoming packages')\n",
    "per_unit_incoming_package_sort.head(5)"
   ]
  },
  {
   "cell_type": "code",
   "execution_count": 45,
   "id": "acc93f68",
   "metadata": {},
   "outputs": [
    {
     "name": "stdout",
     "output_type": "stream",
     "text": [
      "Bottom 5 per unit incoming packages\n"
     ]
    },
    {
     "data": {
      "text/html": [
       "<div>\n",
       "<style scoped>\n",
       "    .dataframe tbody tr th:only-of-type {\n",
       "        vertical-align: middle;\n",
       "    }\n",
       "\n",
       "    .dataframe tbody tr th {\n",
       "        vertical-align: top;\n",
       "    }\n",
       "\n",
       "    .dataframe thead th {\n",
       "        text-align: right;\n",
       "    }\n",
       "</style>\n",
       "<table border=\"1\" class=\"dataframe\">\n",
       "  <thead>\n",
       "    <tr style=\"text-align: right;\">\n",
       "      <th></th>\n",
       "      <th>package_id</th>\n",
       "      <th>per_unit_incoming</th>\n",
       "    </tr>\n",
       "  </thead>\n",
       "  <tbody>\n",
       "    <tr>\n",
       "      <th>2924</th>\n",
       "      <td>13477892</td>\n",
       "      <td>0.000052</td>\n",
       "    </tr>\n",
       "    <tr>\n",
       "      <th>2925</th>\n",
       "      <td>19103721</td>\n",
       "      <td>0.000050</td>\n",
       "    </tr>\n",
       "    <tr>\n",
       "      <th>2926</th>\n",
       "      <td>15844126</td>\n",
       "      <td>0.000044</td>\n",
       "    </tr>\n",
       "    <tr>\n",
       "      <th>2927</th>\n",
       "      <td>15844802</td>\n",
       "      <td>0.000041</td>\n",
       "    </tr>\n",
       "    <tr>\n",
       "      <th>2928</th>\n",
       "      <td>15924786</td>\n",
       "      <td>0.000041</td>\n",
       "    </tr>\n",
       "  </tbody>\n",
       "</table>\n",
       "</div>"
      ],
      "text/plain": [
       "     package_id  per_unit_incoming\n",
       "2924   13477892           0.000052\n",
       "2925   19103721           0.000050\n",
       "2926   15844126           0.000044\n",
       "2927   15844802           0.000041\n",
       "2928   15924786           0.000041"
      ]
     },
     "execution_count": 45,
     "metadata": {},
     "output_type": "execute_result"
    }
   ],
   "source": [
    "print('Bottom 5 per unit incoming packages')\n",
    "per_unit_incoming_package_sort.dropna().tail(5)\n"
   ]
  },
  {
   "cell_type": "code",
   "execution_count": 46,
   "id": "9daf6bf3",
   "metadata": {},
   "outputs": [
    {
     "data": {
      "text/html": [
       "<div>\n",
       "<style scoped>\n",
       "    .dataframe tbody tr th:only-of-type {\n",
       "        vertical-align: middle;\n",
       "    }\n",
       "\n",
       "    .dataframe tbody tr th {\n",
       "        vertical-align: top;\n",
       "    }\n",
       "\n",
       "    .dataframe thead th {\n",
       "        text-align: right;\n",
       "    }\n",
       "</style>\n",
       "<table border=\"1\" class=\"dataframe\">\n",
       "  <thead>\n",
       "    <tr style=\"text-align: right;\">\n",
       "      <th></th>\n",
       "      <th>delivery_type</th>\n",
       "      <th>license_number</th>\n",
       "      <th>manifest_number</th>\n",
       "      <th>created_date</th>\n",
       "      <th>received_datetime</th>\n",
       "      <th>shipment_transaction_type</th>\n",
       "      <th>shipper_facility_license_number</th>\n",
       "      <th>shipper_facility_name</th>\n",
       "      <th>recipient_facility_license_number</th>\n",
       "      <th>recipient_facility_name</th>\n",
       "      <th>shipment_type_name</th>\n",
       "      <th>shipment_transaction_type_1</th>\n",
       "      <th>package_id</th>\n",
       "      <th>package_label</th>\n",
       "      <th>type</th>\n",
       "      <th>source_package_labels</th>\n",
       "      <th>source_harvest_names</th>\n",
       "      <th>shipment_package_state</th>\n",
       "      <th>is_testing_sample</th>\n",
       "      <th>is_trade_sample</th>\n",
       "      <th>product_category_name</th>\n",
       "      <th>product_name</th>\n",
       "      <th>package_lab_results_status</th>\n",
       "      <th>shipper_wholesale_price</th>\n",
       "      <th>shipped_quantity</th>\n",
       "      <th>shipped_unit_of_measure</th>\n",
       "      <th>receiver_wholesale_price</th>\n",
       "      <th>received_quantity</th>\n",
       "      <th>received_unit_of_measure</th>\n",
       "      <th>receiver_wholesale_price_1</th>\n",
       "      <th>item_unit_weight</th>\n",
       "      <th>item_unit_weight_unit_of_measure_name</th>\n",
       "      <th>per_unit_incoming</th>\n",
       "    </tr>\n",
       "  </thead>\n",
       "  <tbody>\n",
       "    <tr>\n",
       "      <th>1586</th>\n",
       "      <td>INCOMING_FROM_VENDOR</td>\n",
       "      <td>C9-0000320-LIC</td>\n",
       "      <td>0001807555</td>\n",
       "      <td>2021-04-13</td>\n",
       "      <td>2021-04-15 23:26:34+00:00</td>\n",
       "      <td>Wholesale</td>\n",
       "      <td>C11-0000032-LIC</td>\n",
       "      <td>CI DISTRIBUTION LLC</td>\n",
       "      <td>C9-0000320-LIC</td>\n",
       "      <td>IN DA CUT LLC</td>\n",
       "      <td>Wholesale Manifest</td>\n",
       "      <td>Wholesale</td>\n",
       "      <td>13270560</td>\n",
       "      <td>1A406030000326B000059660</td>\n",
       "      <td>transfer</td>\n",
       "      <td>1A406030000326B000056181</td>\n",
       "      <td>Chem D 2/15/21</td>\n",
       "      <td>Accepted</td>\n",
       "      <td>False</td>\n",
       "      <td>False</td>\n",
       "      <td>Flower (packaged eighth - each)</td>\n",
       "      <td>Claybourne Co. 3.5g - Sample - Chem Dawg</td>\n",
       "      <td>passed</td>\n",
       "      <td>0.01</td>\n",
       "      <td>0.0</td>\n",
       "      <td>Each</td>\n",
       "      <td>0.01</td>\n",
       "      <td>1.0</td>\n",
       "      <td>Each</td>\n",
       "      <td>0.01</td>\n",
       "      <td>3.5</td>\n",
       "      <td>Grams</td>\n",
       "      <td>inf</td>\n",
       "    </tr>\n",
       "  </tbody>\n",
       "</table>\n",
       "</div>"
      ],
      "text/plain": [
       "             delivery_type  license_number manifest_number created_date  \\\n",
       "1586  INCOMING_FROM_VENDOR  C9-0000320-LIC      0001807555   2021-04-13   \n",
       "\n",
       "             received_datetime shipment_transaction_type  \\\n",
       "1586 2021-04-15 23:26:34+00:00                 Wholesale   \n",
       "\n",
       "     shipper_facility_license_number shipper_facility_name  \\\n",
       "1586                 C11-0000032-LIC   CI DISTRIBUTION LLC   \n",
       "\n",
       "     recipient_facility_license_number recipient_facility_name  \\\n",
       "1586                    C9-0000320-LIC           IN DA CUT LLC   \n",
       "\n",
       "      shipment_type_name shipment_transaction_type_1 package_id  \\\n",
       "1586  Wholesale Manifest                   Wholesale   13270560   \n",
       "\n",
       "                 package_label      type     source_package_labels  \\\n",
       "1586  1A406030000326B000059660  transfer  1A406030000326B000056181   \n",
       "\n",
       "     source_harvest_names shipment_package_state  is_testing_sample  \\\n",
       "1586       Chem D 2/15/21               Accepted              False   \n",
       "\n",
       "      is_trade_sample            product_category_name  \\\n",
       "1586            False  Flower (packaged eighth - each)   \n",
       "\n",
       "                                  product_name package_lab_results_status  \\\n",
       "1586  Claybourne Co. 3.5g - Sample - Chem Dawg                     passed   \n",
       "\n",
       "      shipper_wholesale_price  shipped_quantity shipped_unit_of_measure  \\\n",
       "1586                     0.01               0.0                    Each   \n",
       "\n",
       "      receiver_wholesale_price  received_quantity received_unit_of_measure  \\\n",
       "1586                      0.01                1.0                     Each   \n",
       "\n",
       "      receiver_wholesale_price_1  item_unit_weight  \\\n",
       "1586                        0.01               3.5   \n",
       "\n",
       "     item_unit_weight_unit_of_measure_name  per_unit_incoming  \n",
       "1586                                 Grams                inf  "
      ]
     },
     "execution_count": 46,
     "metadata": {},
     "output_type": "execute_result"
    }
   ],
   "source": [
    "company_incoming_transfer_packages_dataframe[company_incoming_transfer_packages_dataframe['per_unit_incoming'] > 10000]"
   ]
  },
  {
   "cell_type": "markdown",
   "id": "84b21f91-5b47-4407-8579-7e29714d60e4",
   "metadata": {},
   "source": [
    "# COGS analysis"
   ]
  },
  {
   "cell_type": "code",
   "execution_count": 47,
   "id": "e57a2ec3",
   "metadata": {},
   "outputs": [],
   "source": [
    "def cogs_analysis(df_in:pd.DataFrame,df_sales:pd.DataFrame,freq: str) -> Tuple[pd.DataFrame,pd.DataFrame]:\n",
    "    df_sales['per_unit'] = df_sales['tx_total_price'] / df_sales['tx_quantity_sold']\n",
    "    # set frequency\n",
    "    if freq == 'monthly':\n",
    "        df_sales['date'] = df_sales['sales_datetime'].dt.strftime(\"%Y-%m\")\n",
    "    elif freq == 'weekly':\n",
    "        df_sales['date'] = df_sales['sales_datetime'].dt.strftime(\"%Y-%W\")\n",
    "        df_sales['week'] = df_sales['sales_datetime'].dt.strftime(\"%W\")\n",
    "    # total # of trxns\n",
    "    s_total_count = df_sales.groupby('date')['tx_total_price'].count()\n",
    "    df_total_count = pd.Series(s_total_count).to_frame()\n",
    "    df_total_count = df_total_count.reset_index()\n",
    "    df_total_count.rename(columns={'tx_total_price':'total_count'}, inplace=True)\n",
    "    # revenue\n",
    "    s_revenue = df_sales.groupby('date')['tx_total_price'].sum()\n",
    "    df_revenue = pd.Series(s_revenue).to_frame()\n",
    "    df_revenue = df_revenue.reset_index()\n",
    "    df_revenue.rename(columns={'tx_total_price': 'revenue'}, inplace=True)\n",
    "\n",
    "    df_in['per_unit_incoming'] = df_in['shipper_wholesale_price'] / df_in['shipped_quantity']\n",
    "    \n",
    "    # per unit price by package id\n",
    "    df_in_price = df_in[df_in['shipper_wholesale_price'].notnull()]\n",
    "    average_incoming_package_id = df_in_price.groupby('package_id')['per_unit_incoming'].mean()\n",
    "    df_avg_incoming_price = pd.Series(average_incoming_package_id).to_frame()\n",
    "    df_avg_incoming_price = df_avg_incoming_price.reset_index()\n",
    "    # per unit price by product name\n",
    "    average_incoming_product = df_in_price.groupby('product_name')['per_unit_incoming'].mean()\n",
    "    df_avg_product = pd.Series(average_incoming_product).to_frame()\n",
    "    df_avg_product = df_avg_product.reset_index()\n",
    "    df_avg_product.rename(columns={'per_unit_incoming':'per_unit_product'}, inplace=True)\n",
    "\n",
    "    # merge with (cogs by package id)\n",
    "    df_cogs_package_id = pd.merge(df_sales, df_avg_incoming_price, left_on='tx_package_id', right_on='package_id', how='left')\n",
    "    df_cogs_package_id['total_incoming'] = df_cogs_package_id['per_unit_incoming'] * df_cogs_package_id['tx_quantity_sold']\n",
    "    df_cogs_package_id.replace([numpy.inf], numpy.nan, inplace=True)\n",
    "    df_cogs_package_id_notnull = df_cogs_package_id[df_cogs_package_id['total_incoming'].notnull()]\n",
    "\n",
    "    # sum cogs by package id\n",
    "    s_cogs = df_cogs_package_id_notnull.groupby('date')['total_incoming'].sum()\n",
    "    df_cogs_id = pd.Series(s_cogs).to_frame()\n",
    "    df_cogs_id = df_cogs_id.reset_index()\n",
    "    # count # of trxn by package id\n",
    "    s_cogs_count = df_cogs_package_id_notnull.groupby('date')['total_incoming'].count()\n",
    "    df_cogs_count = pd.Series(s_cogs_count).to_frame()\n",
    "    df_cogs_count = df_cogs_count.reset_index()\n",
    "    df_cogs_count.rename(columns={'total_incoming':'count_incoming'}, inplace=True)\n",
    "    \n",
    "    # merge with (cogs by product name)\n",
    "    df_cogs_average_product = pd.merge(df_cogs_package_id, df_avg_product, left_on='tx_product_name', right_on='product_name', how='left')\n",
    "    df_cogs_average_product['total_product'] = df_cogs_average_product['tx_quantity_sold'] * df_cogs_average_product['per_unit_product']\n",
    "    df_cogs_null = df_cogs_average_product[df_cogs_average_product['per_unit_incoming'].isnull()]\n",
    "    df_cogs_product = df_cogs_null[df_cogs_null['per_unit_product'].notnull()]\n",
    "    # sum cogs filldown by product name\n",
    "    product_sum = df_cogs_product.groupby('date')['total_product'].sum()\n",
    "    df_product_sum = pd.Series(product_sum).to_frame()\n",
    "    df_product_sum = df_product_sum.reset_index()\n",
    "    df_product_sum.rename(columns={'total_product':'product_sum'}, inplace=True)\n",
    "    # count # of trxn filldown by product name\n",
    "    product_count = df_cogs_product.groupby('date')['total_product'].count()\n",
    "    df_product_count = pd.Series(product_count).to_frame()\n",
    "    df_product_count = df_product_count.reset_index()\n",
    "    df_product_count.rename(columns={'total_product':'product_count'}, inplace=True)\n",
    "    df_cogs_product_df = pd.merge(df_product_sum, df_product_count)\n",
    "    \n",
    "    # prepare summary\n",
    "    df_summary = pd.merge(df_revenue, df_cogs_product_df, how='left')\n",
    "    df_summary = pd.merge(df_summary, df_cogs_id, how='left')\n",
    "    df_summary['product_sum'] = df_summary['product_sum'].fillna(0)\n",
    "    df_summary['product_count'] = df_summary['product_count'].fillna(0)\n",
    "    # total cogs = by product id cogs + by product name cogs\n",
    "    df_summary['cogs'] = df_summary['total_incoming'] + df_summary['product_sum']\n",
    "    df_summary = pd.merge(df_summary, df_cogs_count)\n",
    "    df_summary = pd.merge(df_summary, df_total_count)\n",
    "    # total count = by package id count + by product count\n",
    "    df_summary['total_count_incoming'] = df_summary['count_incoming'] + df_summary['product_count']\n",
    "    df_summary['margin_$'] = df_summary['revenue'] - df_summary['cogs']\n",
    "    df_summary['margin_%'] = df_summary['margin_$'] / df_summary['revenue']\n",
    "    df_summary['coverage'] = df_summary['total_count_incoming'] / df_summary['total_count']\n",
    "    df_summary_simp = df_summary[['date', 'revenue', 'cogs', 'margin_$', 'margin_%', 'total_count_incoming','product_count','count_incoming', 'coverage']]\n",
    "    \n",
    "    return df_summary_simp,df_cogs_average_product\n",
    "\n",
    "\n"
   ]
  },
  {
   "cell_type": "code",
   "execution_count": 48,
   "id": "2be2ff6a",
   "metadata": {},
   "outputs": [],
   "source": [
    "df_in = company_incoming_transfer_packages_dataframe[company_incoming_transfer_packages_dataframe['per_unit_incoming'] <= 10000]\n",
    "df_inventory = company_inventory_packages_dataframe\n",
    "df_sales = deduped_sales_receipts_with_transactions_dataframe"
   ]
  },
  {
   "cell_type": "markdown",
   "id": "f3ea6a61",
   "metadata": {},
   "source": [
    "## others"
   ]
  },
  {
   "cell_type": "code",
   "execution_count": 49,
   "id": "4126dddb",
   "metadata": {},
   "outputs": [],
   "source": [
    "df_summary_simp,df_cogs_average_product = cogs_analysis(df_in,df_sales,'monthly')\n",
    "df_summary_simp['gm_past_quarter'] = df_summary_simp[['margin_%']].rolling(3).mean().values\n",
    "df_summary_simp['gm_past_2quarters'] = df_summary_simp[['margin_%']].rolling(6).mean().values\n",
    "df_summary_simp['gm_past_3quarters'] = df_summary_simp[['margin_%']].rolling(9).mean().values\n",
    "df_summary_simp['sum_cogs_past_3months'] = df_summary_simp[['cogs']].rolling(3).sum().values\n",
    "df_summary_simp['revenue_change'] = df_summary_simp['revenue'].pct_change()\n",
    "df_summary_simp.index = df_summary_simp.date \n"
   ]
  },
  {
   "cell_type": "code",
   "execution_count": 50,
   "id": "9a9ab6ad",
   "metadata": {},
   "outputs": [
    {
     "data": {
      "text/html": [
       "<div>\n",
       "<style scoped>\n",
       "    .dataframe tbody tr th:only-of-type {\n",
       "        vertical-align: middle;\n",
       "    }\n",
       "\n",
       "    .dataframe tbody tr th {\n",
       "        vertical-align: top;\n",
       "    }\n",
       "\n",
       "    .dataframe thead th {\n",
       "        text-align: right;\n",
       "    }\n",
       "</style>\n",
       "<table border=\"1\" class=\"dataframe\">\n",
       "  <thead>\n",
       "    <tr style=\"text-align: right;\">\n",
       "      <th></th>\n",
       "      <th>date</th>\n",
       "      <th>revenue</th>\n",
       "      <th>cogs</th>\n",
       "      <th>margin_$</th>\n",
       "      <th>margin_%</th>\n",
       "      <th>total_count_incoming</th>\n",
       "      <th>product_count</th>\n",
       "      <th>count_incoming</th>\n",
       "      <th>coverage</th>\n",
       "      <th>gm_past_quarter</th>\n",
       "      <th>gm_past_2quarters</th>\n",
       "      <th>gm_past_3quarters</th>\n",
       "      <th>sum_cogs_past_3months</th>\n",
       "      <th>revenue_change</th>\n",
       "    </tr>\n",
       "    <tr>\n",
       "      <th>date</th>\n",
       "      <th></th>\n",
       "      <th></th>\n",
       "      <th></th>\n",
       "      <th></th>\n",
       "      <th></th>\n",
       "      <th></th>\n",
       "      <th></th>\n",
       "      <th></th>\n",
       "      <th></th>\n",
       "      <th></th>\n",
       "      <th></th>\n",
       "      <th></th>\n",
       "      <th></th>\n",
       "      <th></th>\n",
       "    </tr>\n",
       "  </thead>\n",
       "  <tbody>\n",
       "    <tr>\n",
       "      <th>2020-04</th>\n",
       "      <td>2020-04</td>\n",
       "      <td>18656.38</td>\n",
       "      <td>14948.454981</td>\n",
       "      <td>3707.925019</td>\n",
       "      <td>0.198748</td>\n",
       "      <td>657.0</td>\n",
       "      <td>0.0</td>\n",
       "      <td>657</td>\n",
       "      <td>1.000000</td>\n",
       "      <td>NaN</td>\n",
       "      <td>NaN</td>\n",
       "      <td>NaN</td>\n",
       "      <td>NaN</td>\n",
       "      <td>NaN</td>\n",
       "    </tr>\n",
       "    <tr>\n",
       "      <th>2020-05</th>\n",
       "      <td>2020-05</td>\n",
       "      <td>74564.97</td>\n",
       "      <td>69500.871150</td>\n",
       "      <td>5064.098850</td>\n",
       "      <td>0.067915</td>\n",
       "      <td>2503.0</td>\n",
       "      <td>0.0</td>\n",
       "      <td>2503</td>\n",
       "      <td>0.999601</td>\n",
       "      <td>NaN</td>\n",
       "      <td>NaN</td>\n",
       "      <td>NaN</td>\n",
       "      <td>NaN</td>\n",
       "      <td>2.996754</td>\n",
       "    </tr>\n",
       "    <tr>\n",
       "      <th>2020-06</th>\n",
       "      <td>2020-06</td>\n",
       "      <td>91486.89</td>\n",
       "      <td>80547.794344</td>\n",
       "      <td>10939.095656</td>\n",
       "      <td>0.119570</td>\n",
       "      <td>2593.0</td>\n",
       "      <td>0.0</td>\n",
       "      <td>2593</td>\n",
       "      <td>0.989695</td>\n",
       "      <td>0.128745</td>\n",
       "      <td>NaN</td>\n",
       "      <td>NaN</td>\n",
       "      <td>164997.120475</td>\n",
       "      <td>0.226942</td>\n",
       "    </tr>\n",
       "    <tr>\n",
       "      <th>2020-07</th>\n",
       "      <td>2020-07</td>\n",
       "      <td>114290.13</td>\n",
       "      <td>84833.127031</td>\n",
       "      <td>29457.002969</td>\n",
       "      <td>0.257739</td>\n",
       "      <td>3261.0</td>\n",
       "      <td>0.0</td>\n",
       "      <td>3261</td>\n",
       "      <td>0.979868</td>\n",
       "      <td>0.148408</td>\n",
       "      <td>NaN</td>\n",
       "      <td>NaN</td>\n",
       "      <td>234881.792526</td>\n",
       "      <td>0.249251</td>\n",
       "    </tr>\n",
       "    <tr>\n",
       "      <th>2020-08</th>\n",
       "      <td>2020-08</td>\n",
       "      <td>134714.98</td>\n",
       "      <td>59473.702028</td>\n",
       "      <td>75241.277972</td>\n",
       "      <td>0.558522</td>\n",
       "      <td>3812.0</td>\n",
       "      <td>0.0</td>\n",
       "      <td>3812</td>\n",
       "      <td>0.940770</td>\n",
       "      <td>0.311944</td>\n",
       "      <td>NaN</td>\n",
       "      <td>NaN</td>\n",
       "      <td>224854.623404</td>\n",
       "      <td>0.178711</td>\n",
       "    </tr>\n",
       "    <tr>\n",
       "      <th>2020-09</th>\n",
       "      <td>2020-09</td>\n",
       "      <td>141376.77</td>\n",
       "      <td>65886.789717</td>\n",
       "      <td>75489.980283</td>\n",
       "      <td>0.533963</td>\n",
       "      <td>4185.0</td>\n",
       "      <td>0.0</td>\n",
       "      <td>4185</td>\n",
       "      <td>0.978490</td>\n",
       "      <td>0.450075</td>\n",
       "      <td>0.289410</td>\n",
       "      <td>NaN</td>\n",
       "      <td>210193.618777</td>\n",
       "      <td>0.049451</td>\n",
       "    </tr>\n",
       "    <tr>\n",
       "      <th>2020-10</th>\n",
       "      <td>2020-10</td>\n",
       "      <td>155566.91</td>\n",
       "      <td>72436.845785</td>\n",
       "      <td>83130.064215</td>\n",
       "      <td>0.534369</td>\n",
       "      <td>4535.0</td>\n",
       "      <td>0.0</td>\n",
       "      <td>4535</td>\n",
       "      <td>0.971092</td>\n",
       "      <td>0.542285</td>\n",
       "      <td>0.345346</td>\n",
       "      <td>NaN</td>\n",
       "      <td>197797.337531</td>\n",
       "      <td>0.100371</td>\n",
       "    </tr>\n",
       "    <tr>\n",
       "      <th>2020-11</th>\n",
       "      <td>2020-11</td>\n",
       "      <td>139322.57</td>\n",
       "      <td>67399.664293</td>\n",
       "      <td>71922.905707</td>\n",
       "      <td>0.516233</td>\n",
       "      <td>4280.0</td>\n",
       "      <td>0.0</td>\n",
       "      <td>4280</td>\n",
       "      <td>0.965922</td>\n",
       "      <td>0.528188</td>\n",
       "      <td>0.420066</td>\n",
       "      <td>NaN</td>\n",
       "      <td>205723.299795</td>\n",
       "      <td>-0.104420</td>\n",
       "    </tr>\n",
       "    <tr>\n",
       "      <th>2020-12</th>\n",
       "      <td>2020-12</td>\n",
       "      <td>118430.74</td>\n",
       "      <td>52953.669375</td>\n",
       "      <td>65477.070625</td>\n",
       "      <td>0.552872</td>\n",
       "      <td>3619.0</td>\n",
       "      <td>0.0</td>\n",
       "      <td>3619</td>\n",
       "      <td>0.917829</td>\n",
       "      <td>0.534491</td>\n",
       "      <td>0.492283</td>\n",
       "      <td>0.371103</td>\n",
       "      <td>192790.179453</td>\n",
       "      <td>-0.149953</td>\n",
       "    </tr>\n",
       "    <tr>\n",
       "      <th>2021-01</th>\n",
       "      <td>2021-01</td>\n",
       "      <td>148138.47</td>\n",
       "      <td>72652.472991</td>\n",
       "      <td>75485.997009</td>\n",
       "      <td>0.509564</td>\n",
       "      <td>4659.0</td>\n",
       "      <td>0.0</td>\n",
       "      <td>4659</td>\n",
       "      <td>0.918754</td>\n",
       "      <td>0.526223</td>\n",
       "      <td>0.534254</td>\n",
       "      <td>0.405639</td>\n",
       "      <td>193005.806659</td>\n",
       "      <td>0.250845</td>\n",
       "    </tr>\n",
       "    <tr>\n",
       "      <th>2021-02</th>\n",
       "      <td>2021-02</td>\n",
       "      <td>139669.88</td>\n",
       "      <td>71032.194125</td>\n",
       "      <td>68637.685875</td>\n",
       "      <td>0.491428</td>\n",
       "      <td>4883.0</td>\n",
       "      <td>0.0</td>\n",
       "      <td>4883</td>\n",
       "      <td>0.973097</td>\n",
       "      <td>0.517955</td>\n",
       "      <td>0.523071</td>\n",
       "      <td>0.452696</td>\n",
       "      <td>196638.336491</td>\n",
       "      <td>-0.057167</td>\n",
       "    </tr>\n",
       "    <tr>\n",
       "      <th>2021-03</th>\n",
       "      <td>2021-03</td>\n",
       "      <td>115482.74</td>\n",
       "      <td>61623.765373</td>\n",
       "      <td>53858.974627</td>\n",
       "      <td>0.466381</td>\n",
       "      <td>4002.0</td>\n",
       "      <td>0.0</td>\n",
       "      <td>4002</td>\n",
       "      <td>0.972067</td>\n",
       "      <td>0.489124</td>\n",
       "      <td>0.511808</td>\n",
       "      <td>0.491230</td>\n",
       "      <td>205308.432489</td>\n",
       "      <td>-0.173174</td>\n",
       "    </tr>\n",
       "    <tr>\n",
       "      <th>2021-04</th>\n",
       "      <td>2021-04</td>\n",
       "      <td>181885.84</td>\n",
       "      <td>102444.943056</td>\n",
       "      <td>79440.896944</td>\n",
       "      <td>0.436762</td>\n",
       "      <td>6352.0</td>\n",
       "      <td>0.0</td>\n",
       "      <td>6352</td>\n",
       "      <td>0.999213</td>\n",
       "      <td>0.464857</td>\n",
       "      <td>0.495540</td>\n",
       "      <td>0.511122</td>\n",
       "      <td>235100.902554</td>\n",
       "      <td>0.575005</td>\n",
       "    </tr>\n",
       "    <tr>\n",
       "      <th>2021-05</th>\n",
       "      <td>2021-05</td>\n",
       "      <td>174288.96</td>\n",
       "      <td>90304.660989</td>\n",
       "      <td>83984.299011</td>\n",
       "      <td>0.481868</td>\n",
       "      <td>5865.0</td>\n",
       "      <td>0.0</td>\n",
       "      <td>5865</td>\n",
       "      <td>0.999830</td>\n",
       "      <td>0.461671</td>\n",
       "      <td>0.489813</td>\n",
       "      <td>0.502604</td>\n",
       "      <td>254373.369418</td>\n",
       "      <td>-0.041767</td>\n",
       "    </tr>\n",
       "    <tr>\n",
       "      <th>2021-06</th>\n",
       "      <td>2021-06</td>\n",
       "      <td>165237.20</td>\n",
       "      <td>92627.387268</td>\n",
       "      <td>72609.812732</td>\n",
       "      <td>0.439428</td>\n",
       "      <td>5679.0</td>\n",
       "      <td>0.0</td>\n",
       "      <td>5679</td>\n",
       "      <td>0.990235</td>\n",
       "      <td>0.452686</td>\n",
       "      <td>0.470905</td>\n",
       "      <td>0.492101</td>\n",
       "      <td>285376.991313</td>\n",
       "      <td>-0.051935</td>\n",
       "    </tr>\n",
       "    <tr>\n",
       "      <th>2021-07</th>\n",
       "      <td>2021-07</td>\n",
       "      <td>155519.82</td>\n",
       "      <td>73296.236457</td>\n",
       "      <td>82223.583543</td>\n",
       "      <td>0.528702</td>\n",
       "      <td>5481.0</td>\n",
       "      <td>8.0</td>\n",
       "      <td>5473</td>\n",
       "      <td>0.995098</td>\n",
       "      <td>0.483333</td>\n",
       "      <td>0.474095</td>\n",
       "      <td>0.491471</td>\n",
       "      <td>256228.284714</td>\n",
       "      <td>-0.058809</td>\n",
       "    </tr>\n",
       "    <tr>\n",
       "      <th>2021-08</th>\n",
       "      <td>2021-08</td>\n",
       "      <td>176548.49</td>\n",
       "      <td>89916.400346</td>\n",
       "      <td>86632.089654</td>\n",
       "      <td>0.490699</td>\n",
       "      <td>6642.0</td>\n",
       "      <td>49.0</td>\n",
       "      <td>6593</td>\n",
       "      <td>0.989866</td>\n",
       "      <td>0.486276</td>\n",
       "      <td>0.473973</td>\n",
       "      <td>0.488634</td>\n",
       "      <td>255840.024071</td>\n",
       "      <td>0.135215</td>\n",
       "    </tr>\n",
       "    <tr>\n",
       "      <th>2021-09</th>\n",
       "      <td>2021-09</td>\n",
       "      <td>171724.07</td>\n",
       "      <td>91246.263680</td>\n",
       "      <td>80477.806320</td>\n",
       "      <td>0.468646</td>\n",
       "      <td>6734.0</td>\n",
       "      <td>0.0</td>\n",
       "      <td>6734</td>\n",
       "      <td>0.999852</td>\n",
       "      <td>0.496015</td>\n",
       "      <td>0.474351</td>\n",
       "      <td>0.479275</td>\n",
       "      <td>254458.900483</td>\n",
       "      <td>-0.027326</td>\n",
       "    </tr>\n",
       "    <tr>\n",
       "      <th>2021-10</th>\n",
       "      <td>2021-10</td>\n",
       "      <td>187078.52</td>\n",
       "      <td>100788.071881</td>\n",
       "      <td>86290.448119</td>\n",
       "      <td>0.461253</td>\n",
       "      <td>6406.0</td>\n",
       "      <td>5.0</td>\n",
       "      <td>6401</td>\n",
       "      <td>0.999844</td>\n",
       "      <td>0.473532</td>\n",
       "      <td>0.478432</td>\n",
       "      <td>0.473907</td>\n",
       "      <td>281950.735907</td>\n",
       "      <td>0.089413</td>\n",
       "    </tr>\n",
       "    <tr>\n",
       "      <th>2021-11</th>\n",
       "      <td>2021-11</td>\n",
       "      <td>186328.85</td>\n",
       "      <td>95771.675040</td>\n",
       "      <td>90557.174960</td>\n",
       "      <td>0.486007</td>\n",
       "      <td>6615.0</td>\n",
       "      <td>5.0</td>\n",
       "      <td>6610</td>\n",
       "      <td>1.000000</td>\n",
       "      <td>0.471969</td>\n",
       "      <td>0.479122</td>\n",
       "      <td>0.473305</td>\n",
       "      <td>287806.010602</td>\n",
       "      <td>-0.004007</td>\n",
       "    </tr>\n",
       "    <tr>\n",
       "      <th>2021-12</th>\n",
       "      <td>2021-12</td>\n",
       "      <td>165158.60</td>\n",
       "      <td>83069.776650</td>\n",
       "      <td>82088.823350</td>\n",
       "      <td>0.497030</td>\n",
       "      <td>6150.0</td>\n",
       "      <td>0.0</td>\n",
       "      <td>6150</td>\n",
       "      <td>1.000000</td>\n",
       "      <td>0.481430</td>\n",
       "      <td>0.488723</td>\n",
       "      <td>0.476711</td>\n",
       "      <td>279629.523571</td>\n",
       "      <td>-0.113618</td>\n",
       "    </tr>\n",
       "    <tr>\n",
       "      <th>2022-01</th>\n",
       "      <td>2022-01</td>\n",
       "      <td>178263.32</td>\n",
       "      <td>79404.543248</td>\n",
       "      <td>98858.776752</td>\n",
       "      <td>0.554566</td>\n",
       "      <td>6040.0</td>\n",
       "      <td>1.0</td>\n",
       "      <td>6039</td>\n",
       "      <td>1.000000</td>\n",
       "      <td>0.512535</td>\n",
       "      <td>0.493033</td>\n",
       "      <td>0.489800</td>\n",
       "      <td>258245.994938</td>\n",
       "      <td>0.079346</td>\n",
       "    </tr>\n",
       "    <tr>\n",
       "      <th>2022-02</th>\n",
       "      <td>2022-02</td>\n",
       "      <td>131038.82</td>\n",
       "      <td>58943.178125</td>\n",
       "      <td>72095.641875</td>\n",
       "      <td>0.550185</td>\n",
       "      <td>4430.0</td>\n",
       "      <td>0.0</td>\n",
       "      <td>4430</td>\n",
       "      <td>1.000000</td>\n",
       "      <td>0.533927</td>\n",
       "      <td>0.502948</td>\n",
       "      <td>0.497391</td>\n",
       "      <td>221417.498023</td>\n",
       "      <td>-0.264914</td>\n",
       "    </tr>\n",
       "  </tbody>\n",
       "</table>\n",
       "</div>"
      ],
      "text/plain": [
       "            date    revenue           cogs      margin_$  margin_%  \\\n",
       "date                                                                 \n",
       "2020-04  2020-04   18656.38   14948.454981   3707.925019  0.198748   \n",
       "2020-05  2020-05   74564.97   69500.871150   5064.098850  0.067915   \n",
       "2020-06  2020-06   91486.89   80547.794344  10939.095656  0.119570   \n",
       "2020-07  2020-07  114290.13   84833.127031  29457.002969  0.257739   \n",
       "2020-08  2020-08  134714.98   59473.702028  75241.277972  0.558522   \n",
       "2020-09  2020-09  141376.77   65886.789717  75489.980283  0.533963   \n",
       "2020-10  2020-10  155566.91   72436.845785  83130.064215  0.534369   \n",
       "2020-11  2020-11  139322.57   67399.664293  71922.905707  0.516233   \n",
       "2020-12  2020-12  118430.74   52953.669375  65477.070625  0.552872   \n",
       "2021-01  2021-01  148138.47   72652.472991  75485.997009  0.509564   \n",
       "2021-02  2021-02  139669.88   71032.194125  68637.685875  0.491428   \n",
       "2021-03  2021-03  115482.74   61623.765373  53858.974627  0.466381   \n",
       "2021-04  2021-04  181885.84  102444.943056  79440.896944  0.436762   \n",
       "2021-05  2021-05  174288.96   90304.660989  83984.299011  0.481868   \n",
       "2021-06  2021-06  165237.20   92627.387268  72609.812732  0.439428   \n",
       "2021-07  2021-07  155519.82   73296.236457  82223.583543  0.528702   \n",
       "2021-08  2021-08  176548.49   89916.400346  86632.089654  0.490699   \n",
       "2021-09  2021-09  171724.07   91246.263680  80477.806320  0.468646   \n",
       "2021-10  2021-10  187078.52  100788.071881  86290.448119  0.461253   \n",
       "2021-11  2021-11  186328.85   95771.675040  90557.174960  0.486007   \n",
       "2021-12  2021-12  165158.60   83069.776650  82088.823350  0.497030   \n",
       "2022-01  2022-01  178263.32   79404.543248  98858.776752  0.554566   \n",
       "2022-02  2022-02  131038.82   58943.178125  72095.641875  0.550185   \n",
       "\n",
       "         total_count_incoming  product_count  count_incoming  coverage  \\\n",
       "date                                                                     \n",
       "2020-04                 657.0            0.0             657  1.000000   \n",
       "2020-05                2503.0            0.0            2503  0.999601   \n",
       "2020-06                2593.0            0.0            2593  0.989695   \n",
       "2020-07                3261.0            0.0            3261  0.979868   \n",
       "2020-08                3812.0            0.0            3812  0.940770   \n",
       "2020-09                4185.0            0.0            4185  0.978490   \n",
       "2020-10                4535.0            0.0            4535  0.971092   \n",
       "2020-11                4280.0            0.0            4280  0.965922   \n",
       "2020-12                3619.0            0.0            3619  0.917829   \n",
       "2021-01                4659.0            0.0            4659  0.918754   \n",
       "2021-02                4883.0            0.0            4883  0.973097   \n",
       "2021-03                4002.0            0.0            4002  0.972067   \n",
       "2021-04                6352.0            0.0            6352  0.999213   \n",
       "2021-05                5865.0            0.0            5865  0.999830   \n",
       "2021-06                5679.0            0.0            5679  0.990235   \n",
       "2021-07                5481.0            8.0            5473  0.995098   \n",
       "2021-08                6642.0           49.0            6593  0.989866   \n",
       "2021-09                6734.0            0.0            6734  0.999852   \n",
       "2021-10                6406.0            5.0            6401  0.999844   \n",
       "2021-11                6615.0            5.0            6610  1.000000   \n",
       "2021-12                6150.0            0.0            6150  1.000000   \n",
       "2022-01                6040.0            1.0            6039  1.000000   \n",
       "2022-02                4430.0            0.0            4430  1.000000   \n",
       "\n",
       "         gm_past_quarter  gm_past_2quarters  gm_past_3quarters  \\\n",
       "date                                                             \n",
       "2020-04              NaN                NaN                NaN   \n",
       "2020-05              NaN                NaN                NaN   \n",
       "2020-06         0.128745                NaN                NaN   \n",
       "2020-07         0.148408                NaN                NaN   \n",
       "2020-08         0.311944                NaN                NaN   \n",
       "2020-09         0.450075           0.289410                NaN   \n",
       "2020-10         0.542285           0.345346                NaN   \n",
       "2020-11         0.528188           0.420066                NaN   \n",
       "2020-12         0.534491           0.492283           0.371103   \n",
       "2021-01         0.526223           0.534254           0.405639   \n",
       "2021-02         0.517955           0.523071           0.452696   \n",
       "2021-03         0.489124           0.511808           0.491230   \n",
       "2021-04         0.464857           0.495540           0.511122   \n",
       "2021-05         0.461671           0.489813           0.502604   \n",
       "2021-06         0.452686           0.470905           0.492101   \n",
       "2021-07         0.483333           0.474095           0.491471   \n",
       "2021-08         0.486276           0.473973           0.488634   \n",
       "2021-09         0.496015           0.474351           0.479275   \n",
       "2021-10         0.473532           0.478432           0.473907   \n",
       "2021-11         0.471969           0.479122           0.473305   \n",
       "2021-12         0.481430           0.488723           0.476711   \n",
       "2022-01         0.512535           0.493033           0.489800   \n",
       "2022-02         0.533927           0.502948           0.497391   \n",
       "\n",
       "         sum_cogs_past_3months  revenue_change  \n",
       "date                                            \n",
       "2020-04                    NaN             NaN  \n",
       "2020-05                    NaN        2.996754  \n",
       "2020-06          164997.120475        0.226942  \n",
       "2020-07          234881.792526        0.249251  \n",
       "2020-08          224854.623404        0.178711  \n",
       "2020-09          210193.618777        0.049451  \n",
       "2020-10          197797.337531        0.100371  \n",
       "2020-11          205723.299795       -0.104420  \n",
       "2020-12          192790.179453       -0.149953  \n",
       "2021-01          193005.806659        0.250845  \n",
       "2021-02          196638.336491       -0.057167  \n",
       "2021-03          205308.432489       -0.173174  \n",
       "2021-04          235100.902554        0.575005  \n",
       "2021-05          254373.369418       -0.041767  \n",
       "2021-06          285376.991313       -0.051935  \n",
       "2021-07          256228.284714       -0.058809  \n",
       "2021-08          255840.024071        0.135215  \n",
       "2021-09          254458.900483       -0.027326  \n",
       "2021-10          281950.735907        0.089413  \n",
       "2021-11          287806.010602       -0.004007  \n",
       "2021-12          279629.523571       -0.113618  \n",
       "2022-01          258245.994938        0.079346  \n",
       "2022-02          221417.498023       -0.264914  "
      ]
     },
     "execution_count": 50,
     "metadata": {},
     "output_type": "execute_result"
    }
   ],
   "source": [
    "df_summary_simp"
   ]
  },
  {
   "cell_type": "markdown",
   "id": "acb65de6",
   "metadata": {},
   "source": [
    "# Revenue change vs state"
   ]
  },
  {
   "cell_type": "code",
   "execution_count": 51,
   "id": "2fa9394c",
   "metadata": {},
   "outputs": [],
   "source": [
    "def gmv_change_variance_point_mapping(x):\n",
    "    if x < -0.1:\n",
    "        return -5\n",
    "    elif x >= -0.1 and x <-0.05:\n",
    "        return -2.5\n",
    "    elif x >= -0.05 and x < 0:\n",
    "        return 0\n",
    "    elif x >= 0 and x < 0.05:\n",
    "        return 5\n",
    "    else:\n",
    "        return 10\n",
    "    "
   ]
  },
  {
   "cell_type": "markdown",
   "id": "d79f67f1",
   "metadata": {},
   "source": [
    "### for CA"
   ]
  },
  {
   "cell_type": "code",
   "execution_count": 52,
   "id": "ce9bab85",
   "metadata": {},
   "outputs": [],
   "source": [
    "def calculate_quarterly_sum_gmv_ca(cogs_analysis_df):\n",
    "    #2020\n",
    "    sum_gmv_q1_2020 = cogs_analysis_df[(cogs_analysis_df['date']>= '2020-01')&(cogs_analysis_df['date']<= '2020-03')]['revenue'].sum()\n",
    "    sum_gmv_q2_2020 = cogs_analysis_df[(cogs_analysis_df['date']>= '2020-04')&(cogs_analysis_df['date']<= '2020-06')]['revenue'].sum()\n",
    "    sum_gmv_q3_2020 = cogs_analysis_df[(cogs_analysis_df['date']>= '2020-07')&(cogs_analysis_df['date']<= '2020-09')]['revenue'].sum()\n",
    "    sum_gmv_q4_2020 = cogs_analysis_df[(cogs_analysis_df['date']>= '2020-10')&(cogs_analysis_df['date']<= '2020-12')]['revenue'].sum()\n",
    "    #2021\n",
    "    sum_gmv_q1_2021 = cogs_analysis_df[(cogs_analysis_df['date']>= '2021-01')&(cogs_analysis_df['date']<= '2021-03')]['revenue'].sum()\n",
    "    sum_gmv_q2_2021 = cogs_analysis_df[(cogs_analysis_df['date']>= '2021-04')&(cogs_analysis_df['date']<= '2021-06')]['revenue'].sum()\n",
    "    sum_gmv_q3_2021 = cogs_analysis_df[(cogs_analysis_df['date']>= '2021-07')&(cogs_analysis_df['date']<= '2021-09')]['revenue'].sum()\n",
    "    sum_gmv_q4_2021 = cogs_analysis_df[(cogs_analysis_df['date']>= '2021-10')&(cogs_analysis_df['date']<= '2021-12')]['revenue'].sum()\n",
    "    gmv_df = pd.DataFrame([sum_gmv_q1_2020,sum_gmv_q2_2020,sum_gmv_q3_2020,sum_gmv_q4_2020,\\\n",
    "                  sum_gmv_q1_2021,sum_gmv_q2_2021,sum_gmv_q3_2021,sum_gmv_q4_2021])\n",
    "    gmv_df.columns = ['sum_gmv']\n",
    "    gmv_df['sum_gmv_change'] = gmv_df['sum_gmv'].pct_change().values\n",
    "    gmv_df['sum_gmv_change_ca'] = [0.1,0.19,0.19,0.16,-0.07,0.01,-0.1,numpy.nan]\n",
    "    gmv_df['weight'] = [numpy.nan,numpy.nan,0.04,0.28,0.52,0.76,1,numpy.nan]\n",
    "    gmv_df['variance'] = gmv_df['sum_gmv_change'] - gmv_df['sum_gmv_change_ca']\n",
    "    gmv_df['points'] = [gmv_change_variance_point_mapping(n) for n in gmv_df['variance']]\n",
    "    gmv_df.replace([numpy.inf, -numpy.inf], numpy.nan, inplace=True)\n",
    "    gmv_df['total'] = gmv_df['points'] * gmv_df['weight']\n",
    "    gmv_df.index = ['2020Q1','2020Q2','2020Q3','2020Q4','2021Q1','2021Q2','2021Q3','2021Q4']\n",
    "    #gmv_df = gmv_df.dropna()\n",
    "    return gmv_df\n",
    "    "
   ]
  },
  {
   "cell_type": "code",
   "execution_count": 53,
   "id": "d9295eab",
   "metadata": {},
   "outputs": [
    {
     "data": {
      "text/html": [
       "<div>\n",
       "<style scoped>\n",
       "    .dataframe tbody tr th:only-of-type {\n",
       "        vertical-align: middle;\n",
       "    }\n",
       "\n",
       "    .dataframe tbody tr th {\n",
       "        vertical-align: top;\n",
       "    }\n",
       "\n",
       "    .dataframe thead th {\n",
       "        text-align: right;\n",
       "    }\n",
       "</style>\n",
       "<table border=\"1\" class=\"dataframe\">\n",
       "  <thead>\n",
       "    <tr style=\"text-align: right;\">\n",
       "      <th></th>\n",
       "      <th>sum_gmv</th>\n",
       "      <th>sum_gmv_change</th>\n",
       "      <th>sum_gmv_change_ca</th>\n",
       "      <th>weight</th>\n",
       "      <th>variance</th>\n",
       "      <th>points</th>\n",
       "      <th>total</th>\n",
       "    </tr>\n",
       "  </thead>\n",
       "  <tbody>\n",
       "    <tr>\n",
       "      <th>2020Q1</th>\n",
       "      <td>0.00</td>\n",
       "      <td>NaN</td>\n",
       "      <td>0.10</td>\n",
       "      <td>NaN</td>\n",
       "      <td>NaN</td>\n",
       "      <td>10</td>\n",
       "      <td>NaN</td>\n",
       "    </tr>\n",
       "    <tr>\n",
       "      <th>2020Q2</th>\n",
       "      <td>184708.24</td>\n",
       "      <td>NaN</td>\n",
       "      <td>0.19</td>\n",
       "      <td>NaN</td>\n",
       "      <td>NaN</td>\n",
       "      <td>10</td>\n",
       "      <td>NaN</td>\n",
       "    </tr>\n",
       "    <tr>\n",
       "      <th>2020Q3</th>\n",
       "      <td>390381.88</td>\n",
       "      <td>1.113505</td>\n",
       "      <td>0.19</td>\n",
       "      <td>0.04</td>\n",
       "      <td>0.923505</td>\n",
       "      <td>10</td>\n",
       "      <td>0.4</td>\n",
       "    </tr>\n",
       "    <tr>\n",
       "      <th>2020Q4</th>\n",
       "      <td>413320.22</td>\n",
       "      <td>0.058759</td>\n",
       "      <td>0.16</td>\n",
       "      <td>0.28</td>\n",
       "      <td>-0.101241</td>\n",
       "      <td>-5</td>\n",
       "      <td>-1.4</td>\n",
       "    </tr>\n",
       "    <tr>\n",
       "      <th>2021Q1</th>\n",
       "      <td>403291.09</td>\n",
       "      <td>-0.024265</td>\n",
       "      <td>-0.07</td>\n",
       "      <td>0.52</td>\n",
       "      <td>0.045735</td>\n",
       "      <td>5</td>\n",
       "      <td>2.6</td>\n",
       "    </tr>\n",
       "    <tr>\n",
       "      <th>2021Q2</th>\n",
       "      <td>521412.00</td>\n",
       "      <td>0.292892</td>\n",
       "      <td>0.01</td>\n",
       "      <td>0.76</td>\n",
       "      <td>0.282892</td>\n",
       "      <td>10</td>\n",
       "      <td>7.6</td>\n",
       "    </tr>\n",
       "    <tr>\n",
       "      <th>2021Q3</th>\n",
       "      <td>503792.38</td>\n",
       "      <td>-0.033792</td>\n",
       "      <td>-0.10</td>\n",
       "      <td>1.00</td>\n",
       "      <td>0.066208</td>\n",
       "      <td>10</td>\n",
       "      <td>10.0</td>\n",
       "    </tr>\n",
       "    <tr>\n",
       "      <th>2021Q4</th>\n",
       "      <td>538565.97</td>\n",
       "      <td>0.069024</td>\n",
       "      <td>NaN</td>\n",
       "      <td>NaN</td>\n",
       "      <td>NaN</td>\n",
       "      <td>10</td>\n",
       "      <td>NaN</td>\n",
       "    </tr>\n",
       "  </tbody>\n",
       "</table>\n",
       "</div>"
      ],
      "text/plain": [
       "          sum_gmv  sum_gmv_change  sum_gmv_change_ca  weight  variance  \\\n",
       "2020Q1       0.00             NaN               0.10     NaN       NaN   \n",
       "2020Q2  184708.24             NaN               0.19     NaN       NaN   \n",
       "2020Q3  390381.88        1.113505               0.19    0.04  0.923505   \n",
       "2020Q4  413320.22        0.058759               0.16    0.28 -0.101241   \n",
       "2021Q1  403291.09       -0.024265              -0.07    0.52  0.045735   \n",
       "2021Q2  521412.00        0.292892               0.01    0.76  0.282892   \n",
       "2021Q3  503792.38       -0.033792              -0.10    1.00  0.066208   \n",
       "2021Q4  538565.97        0.069024                NaN     NaN       NaN   \n",
       "\n",
       "        points  total  \n",
       "2020Q1      10    NaN  \n",
       "2020Q2      10    NaN  \n",
       "2020Q3      10    0.4  \n",
       "2020Q4      -5   -1.4  \n",
       "2021Q1       5    2.6  \n",
       "2021Q2      10    7.6  \n",
       "2021Q3      10   10.0  \n",
       "2021Q4      10    NaN  "
      ]
     },
     "execution_count": 53,
     "metadata": {},
     "output_type": "execute_result"
    }
   ],
   "source": [
    "a = calculate_quarterly_sum_gmv_ca(df_summary_simp)\n",
    "a"
   ]
  },
  {
   "cell_type": "code",
   "execution_count": 54,
   "id": "2c2b77fc",
   "metadata": {},
   "outputs": [
    {
     "data": {
      "text/plain": [
       "19.2"
      ]
     },
     "execution_count": 54,
     "metadata": {},
     "output_type": "execute_result"
    }
   ],
   "source": [
    "round(a.dropna()['total'].sum(),2)"
   ]
  },
  {
   "cell_type": "markdown",
   "id": "c00b967e",
   "metadata": {},
   "source": [
    "### FOR MA"
   ]
  },
  {
   "cell_type": "code",
   "execution_count": null,
   "id": "7cd790cb",
   "metadata": {},
   "outputs": [],
   "source": [
    "def calculate_quarterly_sum_gmv_ma(cogs_analysis_df):\n",
    "\n",
    "    gmv_df = cogs_analysis_df[(cogs_analysis_df['date'] >= '2021-09')&(cogs_analysis_df['date'] <= '2022-01')][['revenue_change']]\n",
    "    gmv_df['sum_gmv_change_ma'] = [-0.07,0.01,-0.07,0.09,-0.11]\n",
    "    gmv_df['weight'] = [0.68,0.76,0.84,0.92,1]\n",
    "    gmv_df['variance'] = gmv_df['revenue_change'] - gmv_df['sum_gmv_change_ma']\n",
    "    gmv_df['points'] = [gmv_change_variance_point_mapping(n) for n in gmv_df['variance']]\n",
    "    gmv_df.replace([numpy.inf, -numpy.inf], numpy.nan, inplace=True)\n",
    "    gmv_df['total'] = gmv_df['points'] * gmv_df['weight']\n",
    "    return gmv_df\n",
    "    "
   ]
  },
  {
   "cell_type": "code",
   "execution_count": null,
   "id": "86d31be1",
   "metadata": {},
   "outputs": [],
   "source": [
    "a = calculate_quarterly_sum_gmv_ma(df_summary_simp)"
   ]
  },
  {
   "cell_type": "code",
   "execution_count": null,
   "id": "205bd18e",
   "metadata": {},
   "outputs": [],
   "source": [
    "a"
   ]
  },
  {
   "cell_type": "code",
   "execution_count": null,
   "id": "8c2c4291",
   "metadata": {},
   "outputs": [],
   "source": [
    "round(a.dropna()['total'].sum(),2)"
   ]
  },
  {
   "cell_type": "markdown",
   "id": "5ae6ea1e",
   "metadata": {},
   "source": [
    "### FOR CO"
   ]
  },
  {
   "cell_type": "code",
   "execution_count": null,
   "id": "7302e340",
   "metadata": {},
   "outputs": [],
   "source": [
    "def calculate_quarterly_sum_gmv_co(cogs_analysis_df):\n",
    "\n",
    "    gmv_df = cogs_analysis_df[(cogs_analysis_df['date'] >= '2020-12')&(cogs_analysis_df['date'] <= '2021-11')][['revenue_change']]\n",
    "    gmv_df['sum_gmv_change_co'] = [0.06,0.01,-0.11,0.23,-0.01,-0.06,-0.03,0.1,-0.06,-0.05,-0.03,-0.11]\n",
    "    gmv_df['weight'] = [0.12,0.2,0.28,0.36,0.44,0.52,0.6,0.68,0.76,0.84,0.92,1]\n",
    "    gmv_df['variance'] = gmv_df['revenue_change'] - gmv_df['sum_gmv_change_co']\n",
    "    gmv_df['points'] = [gmv_change_variance_point_mapping(n) for n in gmv_df['variance']]\n",
    "    gmv_df.replace([numpy.inf, -numpy.inf], numpy.nan, inplace=True)\n",
    "    gmv_df['total'] = gmv_df['points'] * gmv_df['weight']\n",
    "    return gmv_df\n",
    "    "
   ]
  },
  {
   "cell_type": "code",
   "execution_count": null,
   "id": "9cd9f09e",
   "metadata": {},
   "outputs": [],
   "source": [
    "a = calculate_quarterly_sum_gmv_co(df_summary_simp)"
   ]
  },
  {
   "cell_type": "code",
   "execution_count": null,
   "id": "107d5172",
   "metadata": {},
   "outputs": [],
   "source": [
    "a"
   ]
  },
  {
   "cell_type": "code",
   "execution_count": null,
   "id": "918a8468",
   "metadata": {},
   "outputs": [],
   "source": [
    "round(a.dropna()['total'].sum(),2)"
   ]
  },
  {
   "cell_type": "markdown",
   "id": "c0e17ec9",
   "metadata": {},
   "source": [
    "# embarc"
   ]
  },
  {
   "cell_type": "markdown",
   "id": "51938fbe",
   "metadata": {},
   "source": [
    "### ema"
   ]
  },
  {
   "cell_type": "code",
   "execution_count": null,
   "id": "70ca817f",
   "metadata": {},
   "outputs": [],
   "source": [
    "df_inventory_ema = company_inventory_packages_dataframe_ema\n",
    "df_sales_ema = deduped_sales_receipts_with_transactions_dataframe_ema"
   ]
  },
  {
   "cell_type": "code",
   "execution_count": null,
   "id": "ffe10e42",
   "metadata": {},
   "outputs": [],
   "source": [
    "df_summary_simp_ema,_ = cogs_analysis(df_in,df_sales_ema,'monthly')\n",
    "df_summary_simp_ema['gm_past_quarter'] = df_summary_simp_ema[['margin_%']].rolling(3).mean().values\n",
    "df_summary_simp_ema['gm_past_2quarters'] = df_summary_simp_ema[['margin_%']].rolling(6).mean().values\n",
    "df_summary_simp_ema['gm_past_3quarters'] = df_summary_simp_ema[['margin_%']].rolling(9).mean().values\n",
    "df_summary_simp_ema['sum_cogs_past_3months'] = df_summary_simp_ema[['cogs']].rolling(3).sum().values\n",
    "df_summary_simp_ema['revenue_change'] = df_summary_simp_ema['revenue'].pct_change()\n",
    "df_summary_simp_ema.index = df_summary_simp_ema.date"
   ]
  },
  {
   "cell_type": "code",
   "execution_count": null,
   "id": "bfd6b21e",
   "metadata": {},
   "outputs": [],
   "source": [
    "df_summary_simp_ema"
   ]
  },
  {
   "cell_type": "code",
   "execution_count": null,
   "id": "cf185efb",
   "metadata": {},
   "outputs": [],
   "source": [
    "ema_revenue_vs_state = calculate_quarterly_sum_gmv_ca(df_summary_simp_ema)\n",
    "ema_revenue_vs_state"
   ]
  },
  {
   "cell_type": "code",
   "execution_count": null,
   "id": "14adfccc",
   "metadata": {},
   "outputs": [],
   "source": [
    "round(ema_revenue_vs_state.dropna()['total'].sum(),2)"
   ]
  },
  {
   "cell_type": "markdown",
   "id": "12763c6e",
   "metadata": {},
   "source": [
    "### emm"
   ]
  },
  {
   "cell_type": "code",
   "execution_count": null,
   "id": "9309b61e",
   "metadata": {},
   "outputs": [],
   "source": [
    "df_inventory_emm = company_inventory_packages_dataframe_emm\n",
    "df_sales_emm = deduped_sales_receipts_with_transactions_dataframe_emm"
   ]
  },
  {
   "cell_type": "code",
   "execution_count": null,
   "id": "5b99a55f",
   "metadata": {},
   "outputs": [],
   "source": [
    "df_summary_simp_emm,_ = cogs_analysis(df_in,df_sales_emm,'monthly')\n",
    "df_summary_simp_emm['gm_past_quarter'] = df_summary_simp_emm[['margin_%']].rolling(3).mean().values\n",
    "df_summary_simp_emm['gm_past_2quarters'] = df_summary_simp_emm[['margin_%']].rolling(6).mean().values\n",
    "df_summary_simp_emm['gm_past_3quarters'] = df_summary_simp_emm[['margin_%']].rolling(9).mean().values\n",
    "df_summary_simp_emm['sum_cogs_past_3months'] = df_summary_simp_emm[['cogs']].rolling(3).sum().values\n",
    "df_summary_simp_emm['revenue_change'] = df_summary_simp_emm['revenue'].pct_change()\n",
    "df_summary_simp_emm.index = df_summary_simp_emm.date"
   ]
  },
  {
   "cell_type": "code",
   "execution_count": null,
   "id": "d713ab79",
   "metadata": {},
   "outputs": [],
   "source": [
    "df_summary_simp_emm"
   ]
  },
  {
   "cell_type": "code",
   "execution_count": null,
   "id": "8888302b",
   "metadata": {},
   "outputs": [],
   "source": [
    "emm_revenue_vs_state = calculate_quarterly_sum_gmv_ca(df_summary_simp_emm)\n",
    "emm_revenue_vs_state"
   ]
  },
  {
   "cell_type": "code",
   "execution_count": null,
   "id": "354a45f9",
   "metadata": {},
   "outputs": [],
   "source": [
    "round(emm_revenue_vs_state.dropna()['total'].sum(),2)"
   ]
  },
  {
   "cell_type": "markdown",
   "id": "83638880",
   "metadata": {},
   "source": [
    "### emt"
   ]
  },
  {
   "cell_type": "code",
   "execution_count": null,
   "id": "9bfec513",
   "metadata": {},
   "outputs": [],
   "source": [
    "df_inventory_emt = company_inventory_packages_dataframe_emt\n",
    "df_sales_emt = deduped_sales_receipts_with_transactions_dataframe_emt"
   ]
  },
  {
   "cell_type": "code",
   "execution_count": null,
   "id": "fe7c9702",
   "metadata": {},
   "outputs": [],
   "source": [
    "df_summary_simp_emt,_ = cogs_analysis(df_in,df_sales_emt,'monthly')\n",
    "df_summary_simp_emt['gm_past_quarter'] = df_summary_simp_emt[['margin_%']].rolling(3).mean().values\n",
    "df_summary_simp_emt['gm_past_2quarters'] = df_summary_simp_emt[['margin_%']].rolling(6).mean().values\n",
    "df_summary_simp_emt['gm_past_3quarters'] = df_summary_simp_emt[['margin_%']].rolling(9).mean().values\n",
    "df_summary_simp_emt['sum_cogs_past_3months'] = df_summary_simp_emt[['cogs']].rolling(3).sum().values\n",
    "df_summary_simp_emt['revenue_change'] = df_summary_simp_emt['revenue'].pct_change()\n",
    "df_summary_simp_emt.index = df_summary_simp_emt.date"
   ]
  },
  {
   "cell_type": "code",
   "execution_count": null,
   "id": "0d232c9c",
   "metadata": {},
   "outputs": [],
   "source": [
    "df_summary_simp_emt"
   ]
  },
  {
   "cell_type": "code",
   "execution_count": null,
   "id": "969c03ce",
   "metadata": {},
   "outputs": [],
   "source": [
    "emt_revenue_vs_state = calculate_quarterly_sum_gmv_ca(df_summary_simp_emt)\n",
    "emt_revenue_vs_state"
   ]
  },
  {
   "cell_type": "code",
   "execution_count": null,
   "id": "c28c1451",
   "metadata": {},
   "outputs": [],
   "source": [
    "round(emt_revenue_vs_state.dropna()['total'].sum(),2)"
   ]
  },
  {
   "cell_type": "markdown",
   "id": "4cd754eb",
   "metadata": {},
   "source": [
    "## BUD"
   ]
  },
  {
   "cell_type": "markdown",
   "id": "5a3002e5",
   "metadata": {},
   "source": [
    "### sac"
   ]
  },
  {
   "cell_type": "code",
   "execution_count": null,
   "id": "9022c43d",
   "metadata": {},
   "outputs": [],
   "source": [
    "df_inventory_sac = company_inventory_packages_dataframe_sac\n",
    "df_sales_sac = deduped_sales_receipts_with_transactions_dataframe_sac"
   ]
  },
  {
   "cell_type": "code",
   "execution_count": null,
   "id": "e1c9bc88",
   "metadata": {},
   "outputs": [],
   "source": [
    "df_summary_simp_sac,_ = cogs_analysis(df_in,df_sales_sac,'monthly')\n",
    "df_summary_simp_sac['gm_past_quarter'] = df_summary_simp_sac[['margin_%']].rolling(3).mean().values\n",
    "df_summary_simp_sac['gm_past_2quarters'] = df_summary_simp_sac[['margin_%']].rolling(6).mean().values\n",
    "df_summary_simp_sac['gm_past_3quarters'] = df_summary_simp_sac[['margin_%']].rolling(9).mean().values\n",
    "df_summary_simp_sac['sum_cogs_past_3months'] = df_summary_simp_sac[['cogs']].rolling(3).sum().values\n",
    "df_summary_simp_sac['revenue_change'] = df_summary_simp_sac['revenue'].pct_change()\n",
    "df_summary_simp_sac.index = df_summary_simp_sac.date"
   ]
  },
  {
   "cell_type": "code",
   "execution_count": null,
   "id": "c666195e",
   "metadata": {},
   "outputs": [],
   "source": [
    "df_summary_simp_sac"
   ]
  },
  {
   "cell_type": "code",
   "execution_count": null,
   "id": "f2c82214",
   "metadata": {},
   "outputs": [],
   "source": [
    "sac_revenue_vs_state = calculate_quarterly_sum_gmv_ca(df_summary_simp_sac)\n",
    "round(sac_revenue_vs_state.dropna()['total'].sum(),2)"
   ]
  },
  {
   "cell_type": "code",
   "execution_count": null,
   "id": "db69ec59",
   "metadata": {},
   "outputs": [],
   "source": [
    "sac_revenue_vs_state"
   ]
  },
  {
   "cell_type": "markdown",
   "id": "936c9244",
   "metadata": {},
   "source": [
    "### fresno"
   ]
  },
  {
   "cell_type": "code",
   "execution_count": null,
   "id": "fdc26817",
   "metadata": {},
   "outputs": [],
   "source": [
    "df_inventory_fresno = company_inventory_packages_dataframe_fresno\n",
    "df_sales_fresno = deduped_sales_receipts_with_transactions_dataframe_fresno"
   ]
  },
  {
   "cell_type": "code",
   "execution_count": null,
   "id": "cbc91181",
   "metadata": {},
   "outputs": [],
   "source": [
    "df_summary_simp_fresno,_ = cogs_analysis(df_in,df_sales_fresno,'monthly')\n",
    "df_summary_simp_fresno['gm_past_quarter'] = df_summary_simp_fresno[['margin_%']].rolling(3).mean().values\n",
    "df_summary_simp_fresno['gm_past_2quarters'] = df_summary_simp_fresno[['margin_%']].rolling(6).mean().values\n",
    "df_summary_simp_fresno['gm_past_3quarters'] = df_summary_simp_fresno[['margin_%']].rolling(9).mean().values\n",
    "df_summary_simp_fresno['sum_cogs_past_3months'] = df_summary_simp_fresno[['cogs']].rolling(3).sum().values\n",
    "df_summary_simp_fresno['revenue_change'] = df_summary_simp_fresno['revenue'].pct_change()\n",
    "df_summary_simp_fresno.index = df_summary_simp_fresno.date"
   ]
  },
  {
   "cell_type": "code",
   "execution_count": null,
   "id": "93e3128f",
   "metadata": {},
   "outputs": [],
   "source": [
    "df_summary_simp_fresno"
   ]
  },
  {
   "cell_type": "code",
   "execution_count": null,
   "id": "078b9876",
   "metadata": {},
   "outputs": [],
   "source": [
    "fresno_revenue_vs_state = calculate_quarterly_sum_gmv_ca(df_summary_simp_fresno)\n",
    "fresno_revenue_vs_state\n",
    "round(fresno_revenue_vs_state.dropna()['total'].sum(),2)"
   ]
  },
  {
   "cell_type": "code",
   "execution_count": null,
   "id": "bbaaf383",
   "metadata": {},
   "outputs": [],
   "source": [
    "fresno_revenue_vs_state"
   ]
  },
  {
   "cell_type": "markdown",
   "id": "efa115e4",
   "metadata": {},
   "source": [
    "### LA"
   ]
  },
  {
   "cell_type": "code",
   "execution_count": null,
   "id": "b43912d7",
   "metadata": {},
   "outputs": [],
   "source": [
    "df_inventory_la = company_inventory_packages_dataframe_la\n",
    "df_sales_la = deduped_sales_receipts_with_transactions_dataframe_la"
   ]
  },
  {
   "cell_type": "code",
   "execution_count": null,
   "id": "561baef2",
   "metadata": {},
   "outputs": [],
   "source": [
    "df_summary_simp_la,_ = cogs_analysis(df_in,df_sales_la,'monthly')\n",
    "df_summary_simp_la['gm_past_quarter'] = df_summary_simp_la[['margin_%']].rolling(3).mean().values\n",
    "df_summary_simp_la['gm_past_2quarters'] = df_summary_simp_la[['margin_%']].rolling(6).mean().values\n",
    "df_summary_simp_la['gm_past_3quarters'] = df_summary_simp_la[['margin_%']].rolling(9).mean().values\n",
    "df_summary_simp_la['sum_cogs_past_3months'] = df_summary_simp_la[['cogs']].rolling(3).sum().values\n",
    "df_summary_simp_la['revenue_change'] = df_summary_simp_la['revenue'].pct_change()\n",
    "df_summary_simp_la.index = df_summary_simp_la.date"
   ]
  },
  {
   "cell_type": "code",
   "execution_count": null,
   "id": "bc69f173",
   "metadata": {},
   "outputs": [],
   "source": [
    "df_summary_simp_la"
   ]
  },
  {
   "cell_type": "code",
   "execution_count": null,
   "id": "dea4914a",
   "metadata": {},
   "outputs": [],
   "source": [
    "la_revenue_vs_state = calculate_quarterly_sum_gmv_ca(df_summary_simp_la)\n",
    "la_revenue_vs_state\n",
    "round(la_revenue_vs_state.dropna()['total'].sum(),2)"
   ]
  },
  {
   "cell_type": "code",
   "execution_count": null,
   "id": "b1b7c632",
   "metadata": {},
   "outputs": [],
   "source": [
    "la_revenue_vs_state"
   ]
  },
  {
   "cell_type": "markdown",
   "id": "ec024f55",
   "metadata": {},
   "source": [
    "# Inventory"
   ]
  },
  {
   "cell_type": "code",
   "execution_count": 55,
   "id": "298ac0f2",
   "metadata": {},
   "outputs": [
    {
     "data": {
      "text/plain": [
       "datetime.date(2022, 2, 22)"
      ]
     },
     "execution_count": 55,
     "metadata": {},
     "output_type": "execute_result"
    }
   ],
   "source": [
    "today = date.today()\n",
    "today"
   ]
  },
  {
   "cell_type": "code",
   "execution_count": 56,
   "id": "bd64953d",
   "metadata": {},
   "outputs": [
    {
     "data": {
      "text/plain": [
       "['IDC']"
      ]
     },
     "execution_count": 56,
     "metadata": {},
     "output_type": "execute_result"
    }
   ],
   "source": [
    "COMPANY_IDENTIFIER"
   ]
  },
  {
   "cell_type": "code",
   "execution_count": 57,
   "id": "7178d8cc",
   "metadata": {},
   "outputs": [
    {
     "data": {
      "text/plain": [
       "['C9-0000320-LIC']"
      ]
     },
     "execution_count": 57,
     "metadata": {},
     "output_type": "execute_result"
    }
   ],
   "source": [
    "license_numbers"
   ]
  },
  {
   "cell_type": "code",
   "execution_count": 58,
   "id": "6e68a52e",
   "metadata": {},
   "outputs": [],
   "source": [
    "def calculate_inventory_valuation(incoming_transfer_df,sales_df,inventory_df,license_list):\n",
    "    # legal name\n",
    "    legal_name = incoming_transfer_df[incoming_transfer_df['license_number'].isin(license_list)]['recipient_facility_name'].values[0]\n",
    "    # process df_in and df_sales\n",
    "    sales_df['per_unit'] = sales_df['tx_total_price'] / sales_df['tx_quantity_sold']\n",
    "    sales_df['year_month'] = sales_df['sales_datetime'].dt.strftime(\"%Y-%m\")\n",
    "    incoming_transfer_df['per_unit_incoming'] = incoming_transfer_df['shipper_wholesale_price'] / incoming_transfer_df['shipped_quantity']\n",
    "    incoming_transfer_df_price = incoming_transfer_df[incoming_transfer_df['shipper_wholesale_price'].notnull()]\n",
    "    # by package id\n",
    "    average_incoming_package_id = incoming_transfer_df_price.groupby('package_id')['per_unit_incoming'].mean()\n",
    "    df_avg_incoming_price = pd.Series(average_incoming_package_id).to_frame()\n",
    "    df_avg_incoming_price = df_avg_incoming_price.reset_index()\n",
    "    # by product\n",
    "    average_incoming_product = incoming_transfer_df_price.groupby('product_name')['per_unit_incoming'].mean()\n",
    "    df_avg_product = pd.Series(average_incoming_product).to_frame()\n",
    "    df_avg_product = df_avg_product.reset_index()\n",
    "    df_avg_product.rename(columns={'per_unit_incoming':'per_unit_product'}, inplace=True)\n",
    "    #calculate inventory\n",
    "    df_inventory_incoming = pd.merge(inventory_df, df_avg_incoming_price, on='package_id', how='left')\n",
    "    df_inventory_incoming.replace([numpy.inf], numpy.nan, inplace=True)\n",
    "    df_inv_null = df_inventory_incoming[df_inventory_incoming['per_unit_incoming'].isnull()]\n",
    "    df_inv_product = pd.merge(df_inv_null, df_avg_product, on='product_name', how='left')\n",
    "    df_inv_product.replace([numpy.inf], numpy.nan, inplace=True)\n",
    "    df_inv_product_price = df_inv_product[df_inv_product['per_unit_product'].notnull()]\n",
    "    df_inv_product_price['total_price'] = df_inv_product_price['quantity'] * df_inv_product_price['per_unit_product']\n",
    "    \n",
    "    inventory_product_value = df_inv_product_price['total_price'].sum()\n",
    "    df_inventory_incoming['total_price'] = df_inventory_incoming['quantity'] * df_inventory_incoming['per_unit_incoming']\n",
    "    inventory_value = df_inventory_incoming['total_price'].sum()\n",
    "    total_inv_value = inventory_product_value + inventory_value\n",
    "    inv_count_product = df_inv_product_price['per_unit_product'].count()\n",
    "    inv_count_incoming = df_inventory_incoming['per_unit_incoming'].count()\n",
    "    inv_count_total = df_inventory_incoming['quantity'].count()\n",
    "    inv_total_incoming = inv_count_product + inv_count_incoming\n",
    "    inventory_coverage = inv_total_incoming / inv_count_total\n",
    "    # prepare data\n",
    "    data = [[today], \n",
    "            [total_inv_value], \n",
    "            [inv_total_incoming], \n",
    "            [inv_count_total], \n",
    "            [inventory_coverage],\n",
    "            [license_list],\n",
    "            [legal_name]]\n",
    "    df_inventory_license = pd.DataFrame(data).T\n",
    "    df_inventory_license.columns = ['date','value','total_incoming','total','coverage','license','legal_name']\n",
    "    return df_inventory_license\n",
    "    "
   ]
  },
  {
   "cell_type": "markdown",
   "id": "d4037d15",
   "metadata": {},
   "source": [
    "## embarc"
   ]
  },
  {
   "cell_type": "code",
   "execution_count": null,
   "id": "99417777",
   "metadata": {},
   "outputs": [],
   "source": [
    "df_inventory_license_ema = calculate_inventory_valuation(df_in,df_sales_ema,df_inventory_ema,['C10-0000774-LIC'])\n",
    "df_inventory_license_emm = calculate_inventory_valuation(df_in,df_sales_emm,df_inventory_emm,['C10-0000786-LIC'])\n",
    "df_inventory_license_emt = calculate_inventory_valuation(df_in,df_sales_emt,df_inventory_emt,['C10-0000695-LIC'])"
   ]
  },
  {
   "cell_type": "code",
   "execution_count": null,
   "id": "e9e56e19",
   "metadata": {},
   "outputs": [],
   "source": [
    "df_inventory_license_emm"
   ]
  },
  {
   "cell_type": "markdown",
   "id": "0a0ec4ea",
   "metadata": {},
   "source": [
    "##  bud"
   ]
  },
  {
   "cell_type": "code",
   "execution_count": null,
   "id": "96eddfe2",
   "metadata": {},
   "outputs": [],
   "source": [
    "df_inventory_license_sac = calculate_inventory_valuation(df_in,df_sales_sac,df_inventory_sac,['C9-0000399-LIC'])\n",
    "df_inventory_license_fresno = calculate_inventory_valuation(df_in,df_sales_fresno,df_inventory_fresno,['C9-0000467-LIC'])\n",
    "df_inventory_license_la = calculate_inventory_valuation(df_in,df_sales_la,df_inventory_la,['C9-0000464-LIC'])"
   ]
  },
  {
   "cell_type": "code",
   "execution_count": null,
   "id": "a7fa7dd4",
   "metadata": {},
   "outputs": [],
   "source": [
    "df_inventory_license_sac"
   ]
  },
  {
   "cell_type": "code",
   "execution_count": null,
   "id": "bc4d4bad",
   "metadata": {},
   "outputs": [],
   "source": [
    "294273.194583/14669.35059"
   ]
  },
  {
   "cell_type": "markdown",
   "id": "49d89a79",
   "metadata": {},
   "source": [
    "## others"
   ]
  },
  {
   "cell_type": "code",
   "execution_count": 59,
   "id": "21ca80d4",
   "metadata": {},
   "outputs": [],
   "source": [
    "df_inventory_license = calculate_inventory_valuation(df_in,df_sales,df_inventory,license_numbers)"
   ]
  },
  {
   "cell_type": "code",
   "execution_count": 60,
   "id": "6786b2a3",
   "metadata": {},
   "outputs": [
    {
     "data": {
      "text/html": [
       "<div>\n",
       "<style scoped>\n",
       "    .dataframe tbody tr th:only-of-type {\n",
       "        vertical-align: middle;\n",
       "    }\n",
       "\n",
       "    .dataframe tbody tr th {\n",
       "        vertical-align: top;\n",
       "    }\n",
       "\n",
       "    .dataframe thead th {\n",
       "        text-align: right;\n",
       "    }\n",
       "</style>\n",
       "<table border=\"1\" class=\"dataframe\">\n",
       "  <thead>\n",
       "    <tr style=\"text-align: right;\">\n",
       "      <th></th>\n",
       "      <th>date</th>\n",
       "      <th>value</th>\n",
       "      <th>total_incoming</th>\n",
       "      <th>total</th>\n",
       "      <th>coverage</th>\n",
       "      <th>license</th>\n",
       "      <th>legal_name</th>\n",
       "    </tr>\n",
       "  </thead>\n",
       "  <tbody>\n",
       "    <tr>\n",
       "      <th>0</th>\n",
       "      <td>2022-02-22</td>\n",
       "      <td>332134.881961</td>\n",
       "      <td>2824</td>\n",
       "      <td>2856</td>\n",
       "      <td>0.988796</td>\n",
       "      <td>[C9-0000320-LIC]</td>\n",
       "      <td>IN DA CUT LLC</td>\n",
       "    </tr>\n",
       "  </tbody>\n",
       "</table>\n",
       "</div>"
      ],
      "text/plain": [
       "         date          value total_incoming total  coverage           license  \\\n",
       "0  2022-02-22  332134.881961           2824  2856  0.988796  [C9-0000320-LIC]   \n",
       "\n",
       "      legal_name  \n",
       "0  IN DA CUT LLC  "
      ]
     },
     "execution_count": 60,
     "metadata": {},
     "output_type": "execute_result"
    }
   ],
   "source": [
    "df_inventory_license"
   ]
  },
  {
   "cell_type": "markdown",
   "id": "4d31d1df",
   "metadata": {},
   "source": [
    "# Create Template"
   ]
  },
  {
   "cell_type": "code",
   "execution_count": 61,
   "id": "16256c8f",
   "metadata": {},
   "outputs": [],
   "source": [
    "current_month = '2022-01'"
   ]
  },
  {
   "cell_type": "code",
   "execution_count": 62,
   "id": "50c0a7c5",
   "metadata": {},
   "outputs": [],
   "source": [
    "def create_template(df_gmv_state,df_cogs_analysis,df_inventory_analysis,df_churn,df_license_check,license_list):\n",
    "    # cogs coverage check\n",
    "    metrc_cogs_coverage_current = df_cogs_analysis[df_cogs_analysis['coverage'] > 0]['coverage'].mean()\n",
    "    metrc_cogs_coverage_current_reliable = metrc_cogs_coverage_current > 0.75\n",
    "    print(metrc_cogs_coverage_current,metrc_cogs_coverage_current_reliable)\n",
    "    # inventory coverage check\n",
    "    metrc_inventory_coverage_current = df_inventory_analysis.coverage.values[0]\n",
    "    metrc_inventory_coverage_current_reliable = metrc_inventory_coverage_current > 0.75\n",
    "    print(metrc_inventory_coverage_current,metrc_inventory_coverage_current_reliable)\n",
    "    # inventory TO\n",
    "    inventory_to_df = pd.DataFrame(df_cogs_analysis['sum_cogs_past_3months'] / df_inventory_analysis.value.values[0] * 4)\n",
    "    inventory_to_df.columns = ['inventory_TO']\n",
    "    inventory_to_current = inventory_to_df.loc[current_month]['inventory_TO']\n",
    "    inventory_to_current_score = 0 if inventory_to_current < 6 else 10\n",
    "    print(inventory_to_current,inventory_to_current_score)\n",
    "    # vendor churn score\n",
    "    vendor_churn_current = df_churn.loc[current_month]['%_inactive'].values[0]\n",
    "    vendor_churn_current_score = 0 if vendor_churn_current > 0.45 else 10\n",
    "    print(vendor_churn_current,vendor_churn_current_score)\n",
    "    # margin score\n",
    "    # gm past 1,2,3 quarters\n",
    "    gm_past_quarter = df_cogs_analysis.loc[current_month]['gm_past_quarter']\n",
    "    gm_past_2quarters = df_cogs_analysis.loc[current_month]['gm_past_2quarters']\n",
    "    gm_past_3quarters = df_cogs_analysis.loc[current_month]['gm_past_3quarters']\n",
    "    # gm scores past 1,2,3 quarters\n",
    "    gm_past_quarter_score = 5 if df_cogs_analysis.loc[current_month]['gm_past_quarter'] >= 0.5 else 0\n",
    "    gm_past_2quarters_score = 10 if df_cogs_analysis.loc[current_month]['gm_past_2quarters'] >= 0.5 else 0\n",
    "    gm_past_3quarters_score = 15 if df_cogs_analysis.loc[current_month]['gm_past_3quarters'] >= 0.5 else 0\n",
    "    # revenue change\n",
    "    monthly_revenue_change = df_cogs_analysis.loc[current_month]['revenue_change']\n",
    "    # revenue vs state score\n",
    "    revenue_state_score = min(round(df_gmv_state.dropna()['total'].sum(),2),10)\n",
    "    template_data = pd.DataFrame([\n",
    "              ['license is current',df_license_check[df_license_check['license_number'].isin(license_list)].reset_index().is_current[0]],\n",
    "              ['license is active',df_license_check[df_license_check['license_number'].isin(license_list)].reset_index().license_status[0]],\n",
    "              ['license check',df_license_check[df_license_check['license_number'].isin(license_list)].reset_index().license_check[0]],\n",
    "              ['metrc cogs coverage',metrc_cogs_coverage_current],\n",
    "              ['metrc cogs coverage reliable ?',metrc_cogs_coverage_current_reliable],\n",
    "              ['metrc inventory coverage',metrc_inventory_coverage_current],\n",
    "              ['metrc inventory coverage reliable ?',metrc_inventory_coverage_current_reliable],\n",
    "              ['inventory turnover',inventory_to_current],\n",
    "              ['inventory turnover score',inventory_to_current_score],\n",
    "              ['GM past quarter',gm_past_quarter],\n",
    "              ['GM score past quarter',gm_past_quarter_score],\n",
    "              ['GM past 2 quarters',gm_past_2quarters],\n",
    "              ['GM score past 2 quarters',gm_past_2quarters_score],\n",
    "              ['GM past 3 quarters',gm_past_3quarters],\n",
    "              ['GM score past 3 quarters',gm_past_3quarters_score],\n",
    "              ['vendor churn',vendor_churn_current],\n",
    "              ['vendor churn score',vendor_churn_current_score],\n",
    "             # ['monthly revenue change',monthly_revenue_change],\n",
    "              ['revenue vs state change score',revenue_state_score],\n",
    "              ['total score',inventory_to_current_score+gm_past_quarter_score+gm_past_2quarters_score+gm_past_3quarters_score+\\\n",
    "              vendor_churn_current_score+revenue_state_score]\n",
    "        \n",
    "             ])\n",
    "    return template_data\n"
   ]
  },
  {
   "cell_type": "markdown",
   "id": "e1131c4e",
   "metadata": {},
   "source": [
    "## embarc"
   ]
  },
  {
   "cell_type": "code",
   "execution_count": null,
   "id": "75e2f680",
   "metadata": {},
   "outputs": [],
   "source": [
    "tempalte_ema = create_template(ema_revenue_vs_state,df_summary_simp_ema,df_inventory_license_ema,churn_ema,retial_license_check_df,['C10-0000774-LIC'])\n",
    "tempalte_ema\n",
    "\n"
   ]
  },
  {
   "cell_type": "code",
   "execution_count": null,
   "id": "e103c7a3",
   "metadata": {},
   "outputs": [],
   "source": [
    "tempalte_emm = create_template(emm_revenue_vs_state,df_summary_simp_emm,df_inventory_license_emm,churn_emm,retial_license_check_df,['C10-0000786-LIC'])\n",
    "tempalte_emm\n",
    "\n"
   ]
  },
  {
   "cell_type": "code",
   "execution_count": null,
   "id": "fbfcdce3",
   "metadata": {},
   "outputs": [],
   "source": [
    "tempalte_emt = create_template(emt_revenue_vs_state,df_summary_simp_emt,df_inventory_license_emt,churn_emt,retial_license_check_df,['C10-0000695-LIC'])\n",
    "tempalte_emt\n",
    "\n"
   ]
  },
  {
   "cell_type": "markdown",
   "id": "c8e24b29",
   "metadata": {},
   "source": [
    "## BUD"
   ]
  },
  {
   "cell_type": "code",
   "execution_count": null,
   "id": "0d2481b7",
   "metadata": {},
   "outputs": [],
   "source": [
    "tempalte_sac = create_template(sac_revenue_vs_state,df_summary_simp_sac,df_inventory_license_sac,churn_sac,retial_license_check_df,['C9-0000399-LIC'])\n",
    "tempalte_sac\n",
    "\n"
   ]
  },
  {
   "cell_type": "code",
   "execution_count": null,
   "id": "ca12d5f4",
   "metadata": {},
   "outputs": [],
   "source": [
    "tempalte_fresno = create_template(fresno_revenue_vs_state,df_summary_simp_fresno,df_inventory_license_fresno,churn_fresno,retial_license_check_df,['C9-0000467-LIC'])\n",
    "tempalte_fresno\n",
    "\n"
   ]
  },
  {
   "cell_type": "code",
   "execution_count": null,
   "id": "cda965f5",
   "metadata": {},
   "outputs": [],
   "source": [
    "tempalte_la = create_template(la_revenue_vs_state,df_summary_simp_la,df_inventory_license_la,churn_la,retial_license_check_df,['C9-0000464-LIC'])\n",
    "tempalte_la\n",
    "\n"
   ]
  },
  {
   "cell_type": "code",
   "execution_count": null,
   "id": "179f352c",
   "metadata": {},
   "outputs": [],
   "source": []
  },
  {
   "cell_type": "code",
   "execution_count": null,
   "id": "e3b67ab5",
   "metadata": {},
   "outputs": [],
   "source": []
  },
  {
   "cell_type": "markdown",
   "id": "2992b1c3",
   "metadata": {},
   "source": [
    "## other"
   ]
  },
  {
   "cell_type": "code",
   "execution_count": 63,
   "id": "b11ab32c",
   "metadata": {},
   "outputs": [
    {
     "name": "stdout",
     "output_type": "stream",
     "text": [
      "0.9817878719324716 True\n",
      "0.988795518207283 True\n",
      "3.1101339722448365 0\n",
      "0.33539920192127065 10\n"
     ]
    }
   ],
   "source": [
    "template_ = create_template(a,df_summary_simp,df_inventory_license,churn,retial_license_check_df,license_numbers)"
   ]
  },
  {
   "cell_type": "code",
   "execution_count": 64,
   "id": "fc0b9a1c",
   "metadata": {},
   "outputs": [
    {
     "data": {
      "text/html": [
       "<div>\n",
       "<style scoped>\n",
       "    .dataframe tbody tr th:only-of-type {\n",
       "        vertical-align: middle;\n",
       "    }\n",
       "\n",
       "    .dataframe tbody tr th {\n",
       "        vertical-align: top;\n",
       "    }\n",
       "\n",
       "    .dataframe thead th {\n",
       "        text-align: right;\n",
       "    }\n",
       "</style>\n",
       "<table border=\"1\" class=\"dataframe\">\n",
       "  <thead>\n",
       "    <tr style=\"text-align: right;\">\n",
       "      <th></th>\n",
       "      <th>0</th>\n",
       "      <th>1</th>\n",
       "    </tr>\n",
       "  </thead>\n",
       "  <tbody>\n",
       "    <tr>\n",
       "      <th>0</th>\n",
       "      <td>license is current</td>\n",
       "      <td>True</td>\n",
       "    </tr>\n",
       "    <tr>\n",
       "      <th>1</th>\n",
       "      <td>license is active</td>\n",
       "      <td>Active</td>\n",
       "    </tr>\n",
       "    <tr>\n",
       "      <th>2</th>\n",
       "      <td>license check</td>\n",
       "      <td>YES</td>\n",
       "    </tr>\n",
       "    <tr>\n",
       "      <th>3</th>\n",
       "      <td>metrc cogs coverage</td>\n",
       "      <td>0.981788</td>\n",
       "    </tr>\n",
       "    <tr>\n",
       "      <th>4</th>\n",
       "      <td>metrc cogs coverage reliable ?</td>\n",
       "      <td>True</td>\n",
       "    </tr>\n",
       "    <tr>\n",
       "      <th>5</th>\n",
       "      <td>metrc inventory coverage</td>\n",
       "      <td>0.988796</td>\n",
       "    </tr>\n",
       "    <tr>\n",
       "      <th>6</th>\n",
       "      <td>metrc inventory coverage reliable ?</td>\n",
       "      <td>True</td>\n",
       "    </tr>\n",
       "    <tr>\n",
       "      <th>7</th>\n",
       "      <td>inventory turnover</td>\n",
       "      <td>3.110134</td>\n",
       "    </tr>\n",
       "    <tr>\n",
       "      <th>8</th>\n",
       "      <td>inventory turnover score</td>\n",
       "      <td>0</td>\n",
       "    </tr>\n",
       "    <tr>\n",
       "      <th>9</th>\n",
       "      <td>GM past quarter</td>\n",
       "      <td>0.512535</td>\n",
       "    </tr>\n",
       "    <tr>\n",
       "      <th>10</th>\n",
       "      <td>GM score past quarter</td>\n",
       "      <td>5</td>\n",
       "    </tr>\n",
       "    <tr>\n",
       "      <th>11</th>\n",
       "      <td>GM past 2 quarters</td>\n",
       "      <td>0.493033</td>\n",
       "    </tr>\n",
       "    <tr>\n",
       "      <th>12</th>\n",
       "      <td>GM score past 2 quarters</td>\n",
       "      <td>0</td>\n",
       "    </tr>\n",
       "    <tr>\n",
       "      <th>13</th>\n",
       "      <td>GM past 3 quarters</td>\n",
       "      <td>0.4898</td>\n",
       "    </tr>\n",
       "    <tr>\n",
       "      <th>14</th>\n",
       "      <td>GM score past 3 quarters</td>\n",
       "      <td>0</td>\n",
       "    </tr>\n",
       "    <tr>\n",
       "      <th>15</th>\n",
       "      <td>vendor churn</td>\n",
       "      <td>0.335399</td>\n",
       "    </tr>\n",
       "    <tr>\n",
       "      <th>16</th>\n",
       "      <td>vendor churn score</td>\n",
       "      <td>10</td>\n",
       "    </tr>\n",
       "    <tr>\n",
       "      <th>17</th>\n",
       "      <td>revenue vs state change score</td>\n",
       "      <td>10</td>\n",
       "    </tr>\n",
       "    <tr>\n",
       "      <th>18</th>\n",
       "      <td>total score</td>\n",
       "      <td>25</td>\n",
       "    </tr>\n",
       "  </tbody>\n",
       "</table>\n",
       "</div>"
      ],
      "text/plain": [
       "                                      0         1\n",
       "0                    license is current      True\n",
       "1                     license is active    Active\n",
       "2                         license check       YES\n",
       "3                   metrc cogs coverage  0.981788\n",
       "4        metrc cogs coverage reliable ?      True\n",
       "5              metrc inventory coverage  0.988796\n",
       "6   metrc inventory coverage reliable ?      True\n",
       "7                    inventory turnover  3.110134\n",
       "8              inventory turnover score         0\n",
       "9                       GM past quarter  0.512535\n",
       "10                GM score past quarter         5\n",
       "11                   GM past 2 quarters  0.493033\n",
       "12             GM score past 2 quarters         0\n",
       "13                   GM past 3 quarters    0.4898\n",
       "14             GM score past 3 quarters         0\n",
       "15                         vendor churn  0.335399\n",
       "16                   vendor churn score        10\n",
       "17        revenue vs state change score        10\n",
       "18                          total score        25"
      ]
     },
     "execution_count": 64,
     "metadata": {},
     "output_type": "execute_result"
    }
   ],
   "source": [
    "template_"
   ]
  },
  {
   "cell_type": "markdown",
   "id": "cd8b1dd5",
   "metadata": {},
   "source": [
    "# Output data "
   ]
  },
  {
   "cell_type": "code",
   "execution_count": 69,
   "id": "a4f8210c",
   "metadata": {},
   "outputs": [
    {
     "data": {
      "text/plain": [
       "['C9-0000320-LIC']"
      ]
     },
     "execution_count": 69,
     "metadata": {},
     "output_type": "execute_result"
    }
   ],
   "source": [
    "license_numbers"
   ]
  },
  {
   "cell_type": "markdown",
   "id": "109d32fa",
   "metadata": {},
   "source": [
    "## embarc"
   ]
  },
  {
   "cell_type": "code",
   "execution_count": 66,
   "id": "4521e67c",
   "metadata": {},
   "outputs": [
    {
     "ename": "NameError",
     "evalue": "name 'tempalte_ema' is not defined",
     "output_type": "error",
     "traceback": [
      "\u001b[0;31m---------------------------------------------------------------------------\u001b[0m",
      "\u001b[0;31mNameError\u001b[0m                                 Traceback (most recent call last)",
      "\u001b[0;32m<ipython-input-66-40190b0f99f5>\u001b[0m in \u001b[0;36m<module>\u001b[0;34m\u001b[0m\n\u001b[1;32m      2\u001b[0m \u001b[0mlicense_number\u001b[0m \u001b[0;34m=\u001b[0m \u001b[0;34m'C10-0000774-LIC'\u001b[0m\u001b[0;34m\u001b[0m\u001b[0;34m\u001b[0m\u001b[0m\n\u001b[1;32m      3\u001b[0m \u001b[0mCOMPANY_IDENTIFIER\u001b[0m \u001b[0;34m=\u001b[0m \u001b[0;34m'EMA'\u001b[0m\u001b[0;34m\u001b[0m\u001b[0;34m\u001b[0m\u001b[0m\n\u001b[0;32m----> 4\u001b[0;31m \u001b[0mtempalte_ema\u001b[0m\u001b[0;34m.\u001b[0m\u001b[0mto_csv\u001b[0m\u001b[0;34m(\u001b[0m\u001b[0;34m'../analysis/surveillance/'\u001b[0m\u001b[0;34m+\u001b[0m\u001b[0mCOMPANY_IDENTIFIER\u001b[0m\u001b[0;34m+\u001b[0m\u001b[0;34m'/'\u001b[0m\u001b[0;34m+\u001b[0m\u001b[0mcurrent_month\u001b[0m \u001b[0;34m+\u001b[0m \u001b[0;34m'/template/'\u001b[0m \u001b[0;34m+\u001b[0m \u001b[0mCOMPANY_IDENTIFIER\u001b[0m \u001b[0;34m+\u001b[0m \u001b[0;34m'_'\u001b[0m\u001b[0;34m+\u001b[0m \u001b[0mstr\u001b[0m\u001b[0;34m(\u001b[0m\u001b[0mtoday\u001b[0m\u001b[0;34m)\u001b[0m \u001b[0;34m+\u001b[0m \u001b[0;34m'_'\u001b[0m \u001b[0;34m+\u001b[0m\u001b[0mlicense_number\u001b[0m \u001b[0;34m+\u001b[0m\u001b[0;34m'_template.csv'\u001b[0m\u001b[0;34m)\u001b[0m\u001b[0;34m\u001b[0m\u001b[0;34m\u001b[0m\u001b[0m\n\u001b[0m\u001b[1;32m      5\u001b[0m \u001b[0mdf_inventory_license_ema\u001b[0m\u001b[0;34m.\u001b[0m\u001b[0mto_csv\u001b[0m\u001b[0;34m(\u001b[0m\u001b[0;34m'../analysis/surveillance/'\u001b[0m\u001b[0;34m+\u001b[0m\u001b[0mCOMPANY_IDENTIFIER\u001b[0m\u001b[0;34m+\u001b[0m\u001b[0;34m'/'\u001b[0m\u001b[0;34m+\u001b[0m\u001b[0mcurrent_month\u001b[0m \u001b[0;34m+\u001b[0m\u001b[0;34m'/INV/'\u001b[0m \u001b[0;34m+\u001b[0m \u001b[0mCOMPANY_IDENTIFIER\u001b[0m \u001b[0;34m+\u001b[0m \u001b[0;34m'_'\u001b[0m\u001b[0;34m+\u001b[0m \u001b[0mstr\u001b[0m\u001b[0;34m(\u001b[0m\u001b[0mtoday\u001b[0m\u001b[0;34m)\u001b[0m \u001b[0;34m+\u001b[0m \u001b[0;34m'_'\u001b[0m \u001b[0;34m+\u001b[0m\u001b[0mlicense_number\u001b[0m \u001b[0;34m+\u001b[0m\u001b[0;34m'_inventory_val.csv'\u001b[0m\u001b[0;34m)\u001b[0m\u001b[0;34m\u001b[0m\u001b[0;34m\u001b[0m\u001b[0m\n\u001b[1;32m      6\u001b[0m \u001b[0mdf_summary_simp_ema\u001b[0m\u001b[0;34m.\u001b[0m\u001b[0mto_csv\u001b[0m\u001b[0;34m(\u001b[0m\u001b[0;34m'surveillance/'\u001b[0m\u001b[0;34m+\u001b[0m\u001b[0mCOMPANY_IDENTIFIER\u001b[0m\u001b[0;34m+\u001b[0m\u001b[0;34m'/'\u001b[0m\u001b[0;34m+\u001b[0m\u001b[0mcurrent_month\u001b[0m \u001b[0;34m+\u001b[0m\u001b[0;34m'/COGS/'\u001b[0m \u001b[0;34m+\u001b[0m \u001b[0mCOMPANY_IDENTIFIER\u001b[0m \u001b[0;34m+\u001b[0m \u001b[0;34m'_'\u001b[0m\u001b[0;34m+\u001b[0m \u001b[0mVC_END_DATE\u001b[0m \u001b[0;34m+\u001b[0m \u001b[0;34m'_'\u001b[0m \u001b[0;34m+\u001b[0m\u001b[0mlicense_number\u001b[0m \u001b[0;34m+\u001b[0m\u001b[0;34m'_cogs.csv'\u001b[0m\u001b[0;34m)\u001b[0m\u001b[0;34m\u001b[0m\u001b[0;34m\u001b[0m\u001b[0m\n",
      "\u001b[0;31mNameError\u001b[0m: name 'tempalte_ema' is not defined"
     ]
    }
   ],
   "source": [
    "# ema\n",
    "license_number = 'C10-0000774-LIC'\n",
    "COMPANY_IDENTIFIER = 'EMA'\n",
    "tempalte_ema.to_csv('../analysis/surveillance/'+COMPANY_IDENTIFIER+'/'+current_month + '/template/' + COMPANY_IDENTIFIER + '_'+ str(today) + '_' +license_number +'_template.csv')\n",
    "df_inventory_license_ema.to_csv('../analysis/surveillance/'+COMPANY_IDENTIFIER+'/'+current_month +'/INV/' + COMPANY_IDENTIFIER + '_'+ str(today) + '_' +license_number +'_inventory_val.csv')\n",
    "df_summary_simp_ema.to_csv('surveillance/'+COMPANY_IDENTIFIER+'/'+current_month +'/COGS/' + COMPANY_IDENTIFIER + '_'+ VC_END_DATE + '_' +license_number +'_cogs.csv')\n",
    "vc_matrix_ema.to_csv('surveillance/'+COMPANY_IDENTIFIER+'/'+current_month +'/VC/' + COMPANY_IDENTIFIER + '_'+ VC_END_DATE + '_' +license_number +'_vc_matrix.csv')\n",
    "churn_ema.to_csv('surveillance/'+COMPANY_IDENTIFIER+'/'+current_month +'/VC/' + COMPANY_IDENTIFIER + '_'+ VC_END_DATE + '_' +license_number +'_vc.csv')\n",
    "ema_revenue_vs_state.to_csv('surveillance/'+COMPANY_IDENTIFIER+'/'+current_month +'/rev_change_vs_state/' + COMPANY_IDENTIFIER + '_'+ VC_END_DATE + '_' +license_number +'_rev_change_vs_state.csv')\n",
    "\n"
   ]
  },
  {
   "cell_type": "code",
   "execution_count": 67,
   "id": "e9b1bd6b",
   "metadata": {},
   "outputs": [
    {
     "ename": "NameError",
     "evalue": "name 'tempalte_emm' is not defined",
     "output_type": "error",
     "traceback": [
      "\u001b[0;31m---------------------------------------------------------------------------\u001b[0m",
      "\u001b[0;31mNameError\u001b[0m                                 Traceback (most recent call last)",
      "\u001b[0;32m<ipython-input-67-565d7fdc1b2e>\u001b[0m in \u001b[0;36m<module>\u001b[0;34m\u001b[0m\n\u001b[1;32m      2\u001b[0m \u001b[0mlicense_number\u001b[0m \u001b[0;34m=\u001b[0m \u001b[0;34m'C10-0000786-LIC'\u001b[0m\u001b[0;34m\u001b[0m\u001b[0;34m\u001b[0m\u001b[0m\n\u001b[1;32m      3\u001b[0m \u001b[0mCOMPANY_IDENTIFIER\u001b[0m \u001b[0;34m=\u001b[0m \u001b[0;34m'EMM'\u001b[0m\u001b[0;34m\u001b[0m\u001b[0;34m\u001b[0m\u001b[0m\n\u001b[0;32m----> 4\u001b[0;31m \u001b[0mtempalte_emm\u001b[0m\u001b[0;34m.\u001b[0m\u001b[0mto_csv\u001b[0m\u001b[0;34m(\u001b[0m\u001b[0;34m'../analysis/surveillance/'\u001b[0m\u001b[0;34m+\u001b[0m\u001b[0mCOMPANY_IDENTIFIER\u001b[0m\u001b[0;34m+\u001b[0m\u001b[0;34m'/'\u001b[0m\u001b[0;34m+\u001b[0m\u001b[0mcurrent_month\u001b[0m \u001b[0;34m+\u001b[0m \u001b[0;34m'/template/'\u001b[0m \u001b[0;34m+\u001b[0m \u001b[0mCOMPANY_IDENTIFIER\u001b[0m \u001b[0;34m+\u001b[0m \u001b[0;34m'_'\u001b[0m\u001b[0;34m+\u001b[0m \u001b[0mstr\u001b[0m\u001b[0;34m(\u001b[0m\u001b[0mtoday\u001b[0m\u001b[0;34m)\u001b[0m \u001b[0;34m+\u001b[0m \u001b[0;34m'_'\u001b[0m \u001b[0;34m+\u001b[0m\u001b[0mlicense_number\u001b[0m \u001b[0;34m+\u001b[0m\u001b[0;34m'_template.csv'\u001b[0m\u001b[0;34m)\u001b[0m\u001b[0;34m\u001b[0m\u001b[0;34m\u001b[0m\u001b[0m\n\u001b[0m\u001b[1;32m      5\u001b[0m \u001b[0mdf_inventory_license_emm\u001b[0m\u001b[0;34m.\u001b[0m\u001b[0mto_csv\u001b[0m\u001b[0;34m(\u001b[0m\u001b[0;34m'../analysis/surveillance/'\u001b[0m\u001b[0;34m+\u001b[0m\u001b[0mCOMPANY_IDENTIFIER\u001b[0m\u001b[0;34m+\u001b[0m\u001b[0;34m'/'\u001b[0m\u001b[0;34m+\u001b[0m\u001b[0mcurrent_month\u001b[0m \u001b[0;34m+\u001b[0m\u001b[0;34m'/INV/'\u001b[0m \u001b[0;34m+\u001b[0m \u001b[0mCOMPANY_IDENTIFIER\u001b[0m \u001b[0;34m+\u001b[0m \u001b[0;34m'_'\u001b[0m\u001b[0;34m+\u001b[0m \u001b[0mstr\u001b[0m\u001b[0;34m(\u001b[0m\u001b[0mtoday\u001b[0m\u001b[0;34m)\u001b[0m \u001b[0;34m+\u001b[0m \u001b[0;34m'_'\u001b[0m \u001b[0;34m+\u001b[0m\u001b[0mlicense_number\u001b[0m \u001b[0;34m+\u001b[0m\u001b[0;34m'_inventory_val.csv'\u001b[0m\u001b[0;34m)\u001b[0m\u001b[0;34m\u001b[0m\u001b[0;34m\u001b[0m\u001b[0m\n\u001b[1;32m      6\u001b[0m \u001b[0mdf_summary_simp_emm\u001b[0m\u001b[0;34m.\u001b[0m\u001b[0mto_csv\u001b[0m\u001b[0;34m(\u001b[0m\u001b[0;34m'surveillance/'\u001b[0m\u001b[0;34m+\u001b[0m\u001b[0mCOMPANY_IDENTIFIER\u001b[0m\u001b[0;34m+\u001b[0m\u001b[0;34m'/'\u001b[0m\u001b[0;34m+\u001b[0m\u001b[0mcurrent_month\u001b[0m \u001b[0;34m+\u001b[0m\u001b[0;34m'/COGS/'\u001b[0m \u001b[0;34m+\u001b[0m \u001b[0mCOMPANY_IDENTIFIER\u001b[0m \u001b[0;34m+\u001b[0m \u001b[0;34m'_'\u001b[0m\u001b[0;34m+\u001b[0m \u001b[0mVC_END_DATE\u001b[0m \u001b[0;34m+\u001b[0m \u001b[0;34m'_'\u001b[0m \u001b[0;34m+\u001b[0m\u001b[0mlicense_number\u001b[0m \u001b[0;34m+\u001b[0m\u001b[0;34m'_cogs.csv'\u001b[0m\u001b[0;34m)\u001b[0m\u001b[0;34m\u001b[0m\u001b[0;34m\u001b[0m\u001b[0m\n",
      "\u001b[0;31mNameError\u001b[0m: name 'tempalte_emm' is not defined"
     ]
    }
   ],
   "source": [
    "# emm\n",
    "license_number = 'C10-0000786-LIC'\n",
    "COMPANY_IDENTIFIER = 'EMM'\n",
    "tempalte_emm.to_csv('../analysis/surveillance/'+COMPANY_IDENTIFIER+'/'+current_month + '/template/' + COMPANY_IDENTIFIER + '_'+ str(today) + '_' +license_number +'_template.csv')\n",
    "df_inventory_license_emm.to_csv('../analysis/surveillance/'+COMPANY_IDENTIFIER+'/'+current_month +'/INV/' + COMPANY_IDENTIFIER + '_'+ str(today) + '_' +license_number +'_inventory_val.csv')\n",
    "df_summary_simp_emm.to_csv('surveillance/'+COMPANY_IDENTIFIER+'/'+current_month +'/COGS/' + COMPANY_IDENTIFIER + '_'+ VC_END_DATE + '_' +license_number +'_cogs.csv')\n",
    "vc_matrix_emm.to_csv('surveillance/'+COMPANY_IDENTIFIER+'/'+current_month +'/VC/' + COMPANY_IDENTIFIER + '_'+ VC_END_DATE + '_' +license_number +'_vc_matrix.csv')\n",
    "churn_emm.to_csv('surveillance/'+COMPANY_IDENTIFIER+'/'+current_month +'/VC/' + COMPANY_IDENTIFIER + '_'+ VC_END_DATE + '_' +license_number +'_vc.csv')\n",
    "emm_revenue_vs_state.to_csv('surveillance/'+COMPANY_IDENTIFIER+'/'+current_month +'/rev_change_vs_state/' + COMPANY_IDENTIFIER + '_'+ VC_END_DATE + '_' +license_number +'_rev_change_vs_state.csv')\n",
    "\n"
   ]
  },
  {
   "cell_type": "code",
   "execution_count": null,
   "id": "c3b35c83",
   "metadata": {},
   "outputs": [],
   "source": [
    "# emt\n",
    "license_number = 'C10-0000695-LIC'\n",
    "COMPANY_IDENTIFIER = 'EMT'\n",
    "tempalte_emt.to_csv('../analysis/surveillance/'+COMPANY_IDENTIFIER+'/'+current_month + '/template/' + COMPANY_IDENTIFIER + '_'+ str(today) + '_' +license_number +'_template.csv')\n",
    "df_inventory_license_emt.to_csv('../analysis/surveillance/'+COMPANY_IDENTIFIER+'/'+current_month +'/INV/' + COMPANY_IDENTIFIER + '_'+ str(today) + '_' +license_number +'_inventory_val.csv')\n",
    "df_summary_simp_emt.to_csv('surveillance/'+COMPANY_IDENTIFIER+'/'+current_month +'/COGS/' + COMPANY_IDENTIFIER + '_'+ VC_END_DATE + '_' +license_number +'_cogs.csv')\n",
    "vc_matrix_emt.to_csv('surveillance/'+COMPANY_IDENTIFIER+'/'+current_month +'/VC/' + COMPANY_IDENTIFIER + '_'+ VC_END_DATE + '_' +license_number +'_vc_matrix.csv')\n",
    "churn_emt.to_csv('surveillance/'+COMPANY_IDENTIFIER+'/'+current_month +'/VC/' + COMPANY_IDENTIFIER + '_'+ VC_END_DATE + '_' +license_number +'_vc.csv')\n",
    "emt_revenue_vs_state.to_csv('surveillance/'+COMPANY_IDENTIFIER+'/'+current_month +'/rev_change_vs_state/' + COMPANY_IDENTIFIER + '_'+ VC_END_DATE + '_' +license_number +'_rev_change_vs_state.csv')\n",
    "\n"
   ]
  },
  {
   "cell_type": "code",
   "execution_count": null,
   "id": "34812837",
   "metadata": {},
   "outputs": [],
   "source": [
    "# COMPANY_IDENTIFIER = ['VS']\n",
    "\n",
    "# # only for VS so far.. combined licenses\n",
    "\n",
    "# template_.to_csv('../analysis/surveillance/'+COMPANY_IDENTIFIER[0]+'/'+current_month + '/template/' + COMPANY_IDENTIFIER[0] + '_'+ str(today) + '_' +'_template.csv')\n",
    "# df_inventory_license.to_csv('../analysis/surveillance/'+COMPANY_IDENTIFIER[0]+'/'+current_month +'/INV/' + COMPANY_IDENTIFIER[0] + '_'+ str(today) + '_' +'_inventory_val.csv')\n",
    "# df_summary_simp.to_csv('surveillance/'+COMPANY_IDENTIFIER[0]+'/'+current_month +'/COGS/' + COMPANY_IDENTIFIER[0] + '_'+ VC_END_DATE + '_'  +'_cogs.csv')\n",
    "# vc_matrix.to_csv('surveillance/'+COMPANY_IDENTIFIER[0]+'/'+current_month +'/VC/' + COMPANY_IDENTIFIER[0] + '_'+ VC_END_DATE + '_'  +'_vc_matrix.csv')\n",
    "# churn.to_csv('surveillance/'+COMPANY_IDENTIFIER[0]+'/'+current_month +'/VC/' + COMPANY_IDENTIFIER[0] + '_'+ VC_END_DATE + '_'  +'_vc.csv')\n",
    "# a.to_csv('surveillance/'+COMPANY_IDENTIFIER[0]+'/'+current_month +'/rev_change_vs_state/' + COMPANY_IDENTIFIER[0] + '_'+ VC_END_DATE  +'_rev_change_vs_state.csv')\n",
    "\n"
   ]
  },
  {
   "cell_type": "markdown",
   "id": "14ae903f",
   "metadata": {},
   "source": [
    "## others"
   ]
  },
  {
   "cell_type": "code",
   "execution_count": 72,
   "id": "2b7a7751",
   "metadata": {},
   "outputs": [],
   "source": [
    "# for only 1 license\n",
    "license_number = license_numbers[0]\n",
    "template_.to_csv('../analysis/surveillance/'+COMPANY_IDENTIFIER[0]+'/'+current_month + '/template/' + COMPANY_IDENTIFIER[0] + '_'+ str(today) + '_' +license_number +'_template.csv')\n",
    "df_inventory_license.to_csv('../analysis/surveillance/'+COMPANY_IDENTIFIER[0]+'/'+current_month +'/INV/' + COMPANY_IDENTIFIER[0] + '_'+ str(today) + '_' +license_number +'_inventory_val.csv')\n",
    "df_summary_simp.to_csv('surveillance/'+COMPANY_IDENTIFIER[0]+'/'+current_month +'/COGS/' + COMPANY_IDENTIFIER[0] + '_'+ VC_END_DATE + '_' +license_number +'_cogs.csv')\n",
    "vc_matrix.to_csv('surveillance/'+COMPANY_IDENTIFIER[0]+'/'+current_month +'/VC/' + COMPANY_IDENTIFIER[0] + '_'+ VC_END_DATE + '_' +license_number +'_vc_matrix.csv')\n",
    "churn.to_csv('surveillance/'+COMPANY_IDENTIFIER[0]+'/'+current_month +'/VC/' + COMPANY_IDENTIFIER[0] + '_'+ VC_END_DATE + '_' +license_number +'_vc.csv')\n",
    "a.to_csv('surveillance/'+COMPANY_IDENTIFIER[0]+'/'+current_month +'/rev_change_vs_state/' + COMPANY_IDENTIFIER[0] + '_'+ VC_END_DATE + '_' +license_number +'_rev_change_vs_state.csv')\n",
    "#retial_license_check_df\n",
    "\n"
   ]
  },
  {
   "cell_type": "markdown",
   "id": "d9f7cf23",
   "metadata": {},
   "source": [
    "## BUD"
   ]
  },
  {
   "cell_type": "code",
   "execution_count": null,
   "id": "9b787f3e",
   "metadata": {},
   "outputs": [],
   "source": [
    "# SAC\n",
    "license_number = 'C9-0000399-LIC'\n",
    "COMPANY_IDENTIFIER = 'BUD_sac'\n",
    "tempalte_sac.to_csv('../analysis/surveillance/'+COMPANY_IDENTIFIER+'/'+current_month + '/template/' + COMPANY_IDENTIFIER + '_'+ str(today) + '_' +license_number +'_template.csv')\n",
    "df_inventory_license_sac.to_csv('../analysis/surveillance/'+COMPANY_IDENTIFIER+'/'+current_month +'/INV/' + COMPANY_IDENTIFIER + '_'+ str(today) + '_' +license_number +'_inventory_val.csv')\n",
    "df_summary_simp_sac.to_csv('surveillance/'+COMPANY_IDENTIFIER+'/'+current_month +'/COGS/' + COMPANY_IDENTIFIER + '_'+ VC_END_DATE + '_' +license_number +'_cogs.csv')\n",
    "vc_matrix_sac.to_csv('surveillance/'+COMPANY_IDENTIFIER+'/'+current_month +'/VC/' + COMPANY_IDENTIFIER + '_'+ VC_END_DATE + '_' +license_number +'_vc_matrix.csv')\n",
    "churn_sac.to_csv('surveillance/'+COMPANY_IDENTIFIER+'/'+current_month +'/VC/' + COMPANY_IDENTIFIER + '_'+ VC_END_DATE + '_' +license_number +'_vc.csv')\n",
    "sac_revenue_vs_state.to_csv('surveillance/'+COMPANY_IDENTIFIER+'/'+current_month +'/rev_change_vs_state/' + COMPANY_IDENTIFIER + '_'+ VC_END_DATE + '_' +license_number +'_rev_change_vs_state.csv')\n",
    "\n"
   ]
  },
  {
   "cell_type": "code",
   "execution_count": null,
   "id": "b09eb164",
   "metadata": {},
   "outputs": [],
   "source": [
    "# fresno\n",
    "license_number = 'C9-0000467-LIC'\n",
    "COMPANY_IDENTIFIER = 'BUD_fresno'\n",
    "tempalte_fresno.to_csv('../analysis/surveillance/'+COMPANY_IDENTIFIER+'/'+current_month + '/template/' + COMPANY_IDENTIFIER + '_'+ str(today) + '_' +license_number +'_template.csv')\n",
    "df_inventory_license_fresno.to_csv('../analysis/surveillance/'+COMPANY_IDENTIFIER+'/'+current_month +'/INV/' + COMPANY_IDENTIFIER + '_'+ str(today) + '_' +license_number +'_inventory_val.csv')\n",
    "df_summary_simp_fresno.to_csv('surveillance/'+COMPANY_IDENTIFIER+'/'+current_month +'/COGS/' + COMPANY_IDENTIFIER + '_'+ VC_END_DATE + '_' +license_number +'_cogs.csv')\n",
    "vc_matrix_fresno.to_csv('surveillance/'+COMPANY_IDENTIFIER+'/'+current_month +'/VC/' + COMPANY_IDENTIFIER + '_'+ VC_END_DATE + '_' +license_number +'_vc_matrix.csv')\n",
    "churn_fresno.to_csv('surveillance/'+COMPANY_IDENTIFIER+'/'+current_month +'/VC/' + COMPANY_IDENTIFIER + '_'+ VC_END_DATE + '_' +license_number +'_vc.csv')\n",
    "fresno_revenue_vs_state.to_csv('surveillance/'+COMPANY_IDENTIFIER+'/'+current_month +'/rev_change_vs_state/' + COMPANY_IDENTIFIER + '_'+ VC_END_DATE + '_' +license_number +'_rev_change_vs_state.csv')\n",
    "\n"
   ]
  },
  {
   "cell_type": "code",
   "execution_count": null,
   "id": "dd530989",
   "metadata": {},
   "outputs": [],
   "source": [
    "# la\n",
    "license_number = 'C9-0000464-LIC'\n",
    "COMPANY_IDENTIFIER = 'BUD_la'\n",
    "tempalte_la.to_csv('../analysis/surveillance/'+COMPANY_IDENTIFIER+'/'+current_month + '/template/' + COMPANY_IDENTIFIER + '_'+ str(today) + '_' +license_number +'_template.csv')\n",
    "df_inventory_license_la.to_csv('../analysis/surveillance/'+COMPANY_IDENTIFIER+'/'+current_month +'/INV/' + COMPANY_IDENTIFIER + '_'+ str(today) + '_' +license_number +'_inventory_val.csv')\n",
    "df_summary_simp_la.to_csv('surveillance/'+COMPANY_IDENTIFIER+'/'+current_month +'/COGS/' + COMPANY_IDENTIFIER + '_'+ VC_END_DATE + '_' +license_number +'_cogs.csv')\n",
    "vc_matrix_la.to_csv('surveillance/'+COMPANY_IDENTIFIER+'/'+current_month +'/VC/' + COMPANY_IDENTIFIER + '_'+ VC_END_DATE + '_' +license_number +'_vc_matrix.csv')\n",
    "churn_la.to_csv('surveillance/'+COMPANY_IDENTIFIER+'/'+current_month +'/VC/' + COMPANY_IDENTIFIER + '_'+ VC_END_DATE + '_' +license_number +'_vc.csv')\n",
    "la_revenue_vs_state.to_csv('surveillance/'+COMPANY_IDENTIFIER+'/'+current_month +'/rev_change_vs_state/' + COMPANY_IDENTIFIER + '_'+ VC_END_DATE + '_' +license_number +'_rev_change_vs_state.csv')\n",
    "\n"
   ]
  },
  {
   "cell_type": "code",
   "execution_count": null,
   "id": "22e51cbe",
   "metadata": {},
   "outputs": [],
   "source": []
  },
  {
   "cell_type": "markdown",
   "id": "8f49616a",
   "metadata": {},
   "source": [
    "# ~ THE END ~"
   ]
  },
  {
   "cell_type": "code",
   "execution_count": null,
   "id": "e56f8e63",
   "metadata": {},
   "outputs": [],
   "source": [
    "df_vendor_churn = company_incoming_transfer_packages_dataframe[company_incoming_transfer_packages_dataframe['license_number'].isin(license_numbers)]\n",
    "df_vendor_churn['year_month'] = pd.to_datetime(df_vendor_churn['created_date']).dt.strftime(\"%Y-%m\")\n",
    "vc = df_vendor_churn[['year_month','shipper_facility_name','shipper_wholesale_price']].groupby(['year_month','shipper_facility_name']).sum().reset_index()\n",
    "vc= vc.assign(year_month=lambda df:pd.to_datetime(df['year_month']))\n",
    "\n",
    "# make `vc` a long-table version of the spreadsheet, where all conpanies have a continuous year_month starting from \n",
    "# 2020-01-01 to 2022-01-01\n",
    "#################\n",
    "vc_full = (\n",
    "    vc\n",
    "    .groupby('shipper_facility_name').apply(\n",
    "        lambda df: df.merge(\n",
    "        pd.Series(\n",
    "            None, \n",
    "            index = pd.date_range(start='2020-01-01', end= vc_end_date, freq = 'MS'), \n",
    "            name='__place_holder'\n",
    "        ), \n",
    "        how ='right',\n",
    "        left_on = 'year_month', \n",
    "        right_index=True,\n",
    "    ).assign(\n",
    "        **{\n",
    "            \"shipper_facility_name\": lambda df_: df_.shipper_facility_name.dropna().unique()[0],\n",
    "            \"shipper_wholesale_price\": lambda df_: df_.shipper_wholesale_price.fillna(0),\n",
    "        }\n",
    "    )\n",
    "    .drop('__place_holder', axis=1)\n",
    "    )\n",
    ").reset_index(drop=True)\n",
    "\n",
    "#################\n",
    "rolling_4m_sum =  vc_full.groupby('shipper_facility_name').apply(\n",
    "    lambda df: df.set_index('year_month').sort_index().rolling(window).sum()\n",
    ")\n",
    "rolling_4m_sum.columns = ['rolling_4m_total_price']\n",
    "\n",
    "\n",
    "facility_monthly_running_total = vc_full.groupby('shipper_facility_name').apply(\n",
    "    lambda df: df.set_index('year_month').sort_index()['shipper_wholesale_price'].cumsum().to_frame()\n",
    ")\n",
    "facility_monthly_running_total.columns = ['facility_running_total']\n",
    "\n",
    "monthly_running_total = facility_monthly_running_total.reset_index().groupby('year_month')['facility_running_total'].sum().to_frame()\n",
    "monthly_running_total.columns = ['monthly_running_total']\n",
    "#################\n",
    "vc_result = rolling_4m_sum.merge(\n",
    "    facility_monthly_running_total,\n",
    "    how='inner',\n",
    "    left_index=True,\n",
    "    right_index=True\n",
    ").reset_index().merge(\n",
    "    monthly_running_total,\n",
    "    how='left',\n",
    "    on = 'year_month'\n",
    ")\n",
    "#################\n",
    "\n",
    "vc_result['%_total'] = vc_result['facility_running_total'] / vc_result['monthly_running_total']\n",
    "vc_result['last_4m_active'] = vc_result['rolling_4m_total_price'] > 0\n",
    "vc_result ['significant'] = vc_result['%_total'] > 0.001\n",
    "vc_result['measure'] = vc_result.apply(\n",
    "    lambda row: \"Active\"  if (row['last_4m_active'] & row['significant']) else (\"Inactive\" if row['significant'] else \"Exclude\"),\n",
    "    axis=1\n",
    ")\n",
    "churn = vc_result.groupby(['year_month']).apply(lambda x: x[x['measure'] == 'Inactive']['%_total'].sum()).reset_index()\n",
    "churn.columns = ['year_month','%_inactive']\n",
    "churn.index = churn.year_month\n",
    "\n",
    "VC_MONTH_LIST = ['2021-10-01','2021-11-01','2021-12-01','2022-01-01']\n",
    "VC_MONTH_END = VC_MONTH_LIST[-1]\n",
    "# output vendor churn matrix\n",
    "vc_data = vc_full[vc_full['year_month'] <= VC_MONTH_END]\n",
    "vc_data['year_month'] = vc_data['year_month'].astype(str)\n",
    "vc_matrix = pd.pivot_table(vc_data, values='shipper_wholesale_price', index='shipper_facility_name',\n",
    "                    columns='year_month', fill_value=0).reset_index()\n",
    "\n",
    "vc_matrix['facility_total'] = vc_matrix.sum(axis= 1)\n",
    "vc_matrix['grand_total'] = vc_matrix['facility_total'].sum()\n",
    "vc_matrix['perc_total'] = vc_matrix['facility_total'] / vc_matrix['grand_total']\n",
    "vc_matrix['last_4m_total'] = vc_matrix[VC_MONTH_LIST].sum(axis = 1)\n",
    "vc_matrix['last_4m_active'] = vc_matrix['last_4m_total'] > 0\n",
    "vc_matrix ['significant'] = vc_matrix['perc_total'] > 0.001\n",
    "vc_matrix['measure'] = vc_matrix.apply(\n",
    "    lambda row: \"Active\"  if (row['last_4m_active'] & row['significant']) else (\"Inactive\" if row['significant'] else \"Exclude\"),\n",
    "    axis=1\n",
    ")\n"
   ]
  },
  {
   "cell_type": "markdown",
   "id": "6933c7a0",
   "metadata": {},
   "source": [
    "# COGS analysis with further filldown using product category name"
   ]
  },
  {
   "cell_type": "code",
   "execution_count": null,
   "id": "d00e13a6",
   "metadata": {},
   "outputs": [],
   "source": [
    "def cogs_analysis_fill_by_product_category(df_in:pd.DataFrame,df_out:pd.DataFrame,df_inventory:pd.DataFrame,df_sales:pd.DataFrame,freq: str) -> pd.DataFrame:\n",
    "    df_sales['per_unit'] = df_sales['tx_total_price'] / df_sales['tx_quantity_sold']\n",
    "    # set frequency\n",
    "    if freq == 'monthly':\n",
    "        df_sales['date'] = df_sales['sales_datetime'].dt.strftime(\"%Y-%m\")\n",
    "\n",
    "    elif freq == 'weekly':\n",
    "        df_sales['date'] = df_sales['sales_datetime'].dt.strftime(\"%Y-%W\")\n",
    "\n",
    "    # total # trxns    \n",
    "    s_total_count = df_sales.groupby('date')['tx_total_price'].count()\n",
    "    df_total_count = pd.Series(s_total_count).to_frame()\n",
    "    df_total_count = df_total_count.reset_index()\n",
    "    df_total_count.rename(columns={'tx_total_price':'total_count'}, inplace=True)\n",
    "    # revenue\n",
    "    s_revenue = df_sales.groupby('date')['tx_total_price'].sum()\n",
    "    df_revenue = pd.Series(s_revenue).to_frame()\n",
    "    df_revenue = df_revenue.reset_index()\n",
    "    df_revenue.rename(columns={'tx_total_price': 'revenue'}, inplace=True)\n",
    "\n",
    "    df_in['per_unit_incoming'] = df_in['shipper_wholesale_price'] / df_in['shipped_quantity']\n",
    "    \n",
    "    # per unit price by package id\n",
    "    df_in_price = df_in[df_in['shipper_wholesale_price'].notnull()]\n",
    "    average_incoming_package_id = df_in_price.groupby('package_id')['per_unit_incoming'].mean()\n",
    "    df_avg_incoming_price = pd.Series(average_incoming_package_id).to_frame()\n",
    "    df_avg_incoming_price = df_avg_incoming_price.reset_index()\n",
    "    # per unit price by product name\n",
    "    average_incoming_product = df_in_price.groupby('product_name')['per_unit_incoming'].mean()\n",
    "    df_avg_product = pd.Series(average_incoming_product).to_frame()\n",
    "    df_avg_product = df_avg_product.reset_index()\n",
    "    df_avg_product.rename(columns={'per_unit_incoming':'per_unit_product'}, inplace=True)\n",
    "    # per unit price by product category name\n",
    "    average_incoming_product_category = df_in_price.groupby('product_category_name')['per_unit_incoming'].mean()\n",
    "    df_avg_product_cat = pd.Series(average_incoming_product_category).to_frame()\n",
    "    df_avg_product_cat = df_avg_product_cat.reset_index()\n",
    "    df_avg_product_cat.rename(columns={'per_unit_incoming':'per_unit_product_cat'}, inplace=True)\n",
    "    \n",
    "    # merge with (cogs by package id)\n",
    "    df_cogs_package_id = pd.merge(df_sales, df_avg_incoming_price, left_on='tx_package_id', right_on='package_id', how='left')\n",
    "    df_cogs_package_id['total_incoming'] = df_cogs_package_id['per_unit_incoming'] * df_cogs_package_id['tx_quantity_sold']\n",
    "    df_cogs_package_id.replace([numpy.inf], numpy.nan, inplace=True)\n",
    "    df_cogs_package_id_notnull = df_cogs_package_id[df_cogs_package_id['total_incoming'].notnull()]\n",
    "    # sum cogs by package id\n",
    "    s_cogs = df_cogs_package_id_notnull.groupby('date')['total_incoming'].sum()\n",
    "    df_cogs_id = pd.Series(s_cogs).to_frame()\n",
    "    df_cogs_id = df_cogs_id.reset_index()\n",
    "    # count # of trxns by package id\n",
    "    s_cogs_count = df_cogs_package_id_notnull.groupby('date')['total_incoming'].count()\n",
    "    df_cogs_count = pd.Series(s_cogs_count).to_frame()\n",
    "    df_cogs_count = df_cogs_count.reset_index()\n",
    "    df_cogs_count.rename(columns={'total_incoming':'count_incoming'}, inplace=True)\n",
    "    \n",
    "    # merge with (cogs by product name)\n",
    "    df_cogs_average_product = pd.merge(df_cogs_package_id, df_avg_product, left_on='tx_product_name', right_on='product_name', how='left')\n",
    "    df_cogs_average_product['total_product'] = df_cogs_average_product['tx_quantity_sold'] * df_cogs_average_product['per_unit_product']\n",
    "    # merge with (cogs by product category name)\n",
    "    df_cogs_average_product_cat = pd.merge(df_cogs_average_product, df_avg_product_cat, left_on='tx_product_category_name', right_on='product_category_name', how='left')\n",
    "    df_cogs_average_product_cat['total_product_cat'] = df_cogs_average_product_cat['tx_quantity_sold'] * df_cogs_average_product_cat['per_unit_product_cat']\n",
    "    df_cogs_null = df_cogs_average_product_cat[df_cogs_average_product_cat['per_unit_incoming'].isnull()]\n",
    "    df_cogs_product = df_cogs_null[(df_cogs_null['per_unit_product'].notnull())]\n",
    "    df_cogs_product_null = df_cogs_average_product_cat[(df_cogs_average_product_cat['per_unit_incoming'].isnull())&(df_cogs_average_product_cat['per_unit_product'].isnull())]\n",
    "    df_cogs_product_cat = df_cogs_product_null[df_cogs_product_null['per_unit_product_cat'].notnull()]\n",
    "    \n",
    "    # sum cogs filldown by product name\n",
    "    product_sum = df_cogs_product.groupby('date')['total_product'].sum()\n",
    "    df_product_sum = pd.Series(product_sum).to_frame()\n",
    "    df_product_sum = df_product_sum.reset_index()\n",
    "    df_product_sum.rename(columns={'total_product':'product_sum'}, inplace=True)\n",
    "    # count # of trxn filldown by product name\n",
    "    product_count = df_cogs_product.groupby('date')['total_product'].count()\n",
    "    df_product_count = pd.Series(product_count).to_frame()\n",
    "    df_product_count = df_product_count.reset_index()\n",
    "    df_product_count.rename(columns={'total_product':'product_count'}, inplace=True)\n",
    "    df_cogs_product_df = pd.merge(df_product_sum, df_product_count)\n",
    "    \n",
    "    # sum cogs filldown by product category name\n",
    "    product_cat_sum = df_cogs_product_cat.groupby('date')['total_product_cat'].sum()\n",
    "    df_product_cat_sum = pd.Series(product_cat_sum).to_frame()\n",
    "    df_product_cat_sum = df_product_cat_sum.reset_index()\n",
    "    df_product_cat_sum.rename(columns={'total_product_cat':'product_cat_sum'}, inplace=True)\n",
    "    # count # of trxn filldown by product category name\n",
    "    product_cat_count = df_cogs_product_cat.groupby('date')['total_product_cat'].count()\n",
    "    df_product_cat_count = pd.Series(product_cat_count).to_frame()\n",
    "    df_product_cat_count = df_product_cat_count.reset_index()\n",
    "    df_product_cat_count.rename(columns={'total_product_cat':'product_cat_count'}, inplace=True)\n",
    "    df_cogs_product_cat_df = pd.merge(df_product_cat_sum, df_product_cat_count)\n",
    "    \n",
    "    # prepare summary\n",
    "    df_summary = pd.merge(df_revenue, df_cogs_product_df, how='left')\n",
    "    df_summary = pd.merge(df_summary, df_cogs_product_cat_df, how='left')\n",
    "    df_summary = pd.merge(df_summary, df_cogs_id, how='left')\n",
    "    df_summary['product_sum'] = df_summary['product_sum'].fillna(0)\n",
    "    df_summary['product_count'] = df_summary['product_count'].fillna(0)\n",
    "    df_summary['product_cat_sum'] = df_summary['product_cat_sum'].fillna(0)\n",
    "    df_summary['product_cat_count'] = df_summary['product_cat_count'].fillna(0)\n",
    "    # total cogs = by product id cogs + by product name cogs + by product category name cogs\n",
    "    df_summary['cogs'] = df_summary['total_incoming'] + df_summary['product_sum'] + df_summary['product_cat_sum']\n",
    "    df_summary = pd.merge(df_summary, df_cogs_count)\n",
    "    df_summary = pd.merge(df_summary, df_total_count)\n",
    "    # total count = by package id count + by product count + by product category count\n",
    "    df_summary['total_count_incoming'] = df_summary['count_incoming'] + df_summary['product_count'] + df_summary['product_cat_count']\n",
    "    df_summary['margin_$'] = df_summary['revenue'] - df_summary['cogs']\n",
    "    df_summary['margin_%'] = df_summary['margin_$'] / df_summary['revenue']\n",
    "    df_summary['coverage'] = df_summary['total_count_incoming'] / df_summary['total_count']\n",
    "    df_summary_simp = df_summary[['date', 'revenue', 'cogs', 'margin_$', 'margin_%', 'total_count_incoming','product_count','product_cat_count','total_count','count_incoming', 'coverage']]\n",
    "    df_summary_simp.index = df_summary_simp.date\n",
    "    return df_summary_simp,df_cogs_average_product_cat\n",
    "\n",
    "\n"
   ]
  },
  {
   "cell_type": "code",
   "execution_count": null,
   "id": "9e79a6a5",
   "metadata": {},
   "outputs": [],
   "source": [
    "df_in = company_incoming_transfer_packages_dataframe\n",
    "df_out = company_outgoing_transfer_packages_dataframe\n",
    "df_inventory = company_inventory_packages_dataframe\n",
    "df_sales = deduped_sales_receipts_with_transactions_dataframe"
   ]
  },
  {
   "cell_type": "code",
   "execution_count": null,
   "id": "2ce67c5c",
   "metadata": {},
   "outputs": [],
   "source": [
    "df_summary_simp_cat_monthly,df_cogs_average_product_cat_monthly = cogs_analysis_fill_by_product_category(df_in,df_out,df_inventory,df_sales,'monthly')\n",
    "df_summary_simp_cat_weekly,df_cogs_average_product_cat_weekly = cogs_analysis_fill_by_product_category(df_in,df_out,df_inventory,df_sales,'weekly')\n",
    "\n",
    "\n"
   ]
  },
  {
   "cell_type": "code",
   "execution_count": null,
   "id": "6326e10a",
   "metadata": {},
   "outputs": [],
   "source": [
    "df_summary_simp_cat_monthly.tail()"
   ]
  },
  {
   "cell_type": "markdown",
   "id": "ac49f113",
   "metadata": {},
   "source": [
    "# inventory .."
   ]
  },
  {
   "cell_type": "code",
   "execution_count": null,
   "id": "ae713988",
   "metadata": {},
   "outputs": [],
   "source": [
    "legal_name = df_in[df_in['license_number'].isin(license_numbers)]['recipient_facility_name'].values[0]\n",
    "legal_name\n",
    "\n",
    "df_sales['per_unit'] = df_sales['tx_total_price'] / df_sales['tx_quantity_sold']\n",
    "df_sales['year_month'] = df_sales['sales_datetime'].dt.strftime(\"%Y-%m\")\n",
    "df_in['per_unit_incoming'] = df_in['shipper_wholesale_price'] / df_in['shipped_quantity']\n",
    "df_in_price = df_in[df_in['shipper_wholesale_price'].notnull()]\n",
    "average_incoming_package_id = df_in_price.groupby('package_id')['per_unit_incoming'].mean()\n",
    "df_avg_incoming_price = pd.Series(average_incoming_package_id).to_frame()\n",
    "df_avg_incoming_price = df_avg_incoming_price.reset_index()\n",
    "average_incoming_product = df_in_price.groupby('product_name')['per_unit_incoming'].mean()\n",
    "df_avg_product = pd.Series(average_incoming_product).to_frame()\n",
    "df_avg_product = df_avg_product.reset_index()\n",
    "df_avg_product.rename(columns={'per_unit_incoming':'per_unit_product'}, inplace=True)\n",
    "df_inventory_incoming = pd.merge(df_inventory, df_avg_incoming_price, on='package_id', how='left')\n",
    "df_inventory_incoming.replace([numpy.inf], numpy.nan, inplace=True)\n",
    "df_inv_null = df_inventory_incoming[df_inventory_incoming['per_unit_incoming'].isnull()]\n",
    "df_inv_product = pd.merge(df_inv_null, df_avg_product, on='product_name', how='left')\n",
    "df_inv_product.replace([numpy.inf], numpy.nan, inplace=True)\n",
    "df_inv_product_price = df_inv_product[df_inv_product['per_unit_product'].notnull()]\n",
    "df_inv_product_price['total_price'] = df_inv_product_price['quantity'] * df_inv_product_price['per_unit_product']\n",
    "inventory_product_value = df_inv_product_price['total_price'].sum()\n",
    "df_inventory_incoming['total_price'] = df_inventory_incoming['quantity'] * df_inventory_incoming['per_unit_incoming']\n",
    "inventory_value = df_inventory_incoming['total_price'].sum()\n",
    "total_inv_value = inventory_product_value + inventory_value\n",
    "inv_count_product = df_inv_product_price['per_unit_product'].count()\n",
    "inv_count_incoming = df_inventory_incoming['per_unit_incoming'].count()\n",
    "inv_count_total = df_inventory_incoming['quantity'].count()\n",
    "inv_total_incoming = inv_count_product + inv_count_incoming\n",
    "\n",
    "inventory_coverage = inv_total_incoming / inv_count_total\n",
    "print(f'{inventory_coverage:,.0%}')\n",
    "\n",
    "data = [[today], \n",
    "        [total_inv_value], \n",
    "        [inv_total_incoming], \n",
    "        [inv_count_total], \n",
    "        [inventory_coverage],\n",
    "        [license_numbers],\n",
    "        [legal_name]]\n",
    "\n",
    "df_inventory_license = pd.DataFrame(data).T\n",
    "df_inventory_license.columns = ['date','value','total_incoming','total','coverage','license','legal_name']\n",
    "df_inventory_license"
   ]
  }
 ],
 "metadata": {
  "kernelspec": {
   "display_name": "Python 3",
   "language": "python",
   "name": "python3"
  },
  "language_info": {
   "codemirror_mode": {
    "name": "ipython",
    "version": 3
   },
   "file_extension": ".py",
   "mimetype": "text/x-python",
   "name": "python",
   "nbconvert_exporter": "python",
   "pygments_lexer": "ipython3",
   "version": "3.8.10"
  }
 },
 "nbformat": 4,
 "nbformat_minor": 5
}
