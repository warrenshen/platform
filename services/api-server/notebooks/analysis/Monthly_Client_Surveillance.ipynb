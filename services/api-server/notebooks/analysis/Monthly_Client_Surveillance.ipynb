{
 "cells": [
  {
   "cell_type": "code",
   "execution_count": 1,
   "id": "a1df46ef",
   "metadata": {},
   "outputs": [],
   "source": [
    "import warnings\n",
    "warnings.filterwarnings('ignore')"
   ]
  },
  {
   "cell_type": "code",
   "execution_count": 2,
   "id": "17064e54-fe0f-43e3-a00d-b2776aa5b753",
   "metadata": {},
   "outputs": [],
   "source": [
    "import json\n",
    "import numpy \n",
    "import os\n",
    "import pandas as pd\n",
    "import matplotlib.pyplot as plt\n",
    "%matplotlib inline  \n",
    "import pyarrow\n",
    "import sys\n",
    "\n",
    "from datetime import date\n",
    "from dotenv import load_dotenv\n",
    "from sqlalchemy import create_engine\n",
    "from os import path\n",
    "from typing import List,Dict, Tuple\n",
    "from collections import defaultdict\n",
    "pd.set_option(\"display.max_columns\", None)\n",
    "\n",
    "load_dotenv(verbose=True)\n",
    "BIGQUERY_CREDENTIALS_PATH = os.environ.get('BIGQUERY_CREDENTIALS_PATH')\n",
    "engine = create_engine('bigquery://bespoke-financial/ProdMetrcData', credentials_path=os.path.expanduser(BIGQUERY_CREDENTIALS_PATH))\n",
    "\n",
    "sys.path.append(path.realpath(path.join(os.getcwd(), \"../core\")))\n",
    "sys.path.append(path.realpath(path.join(os.getcwd(), \"../../src\")))\n",
    "\n",
    "import create_queries\n",
    "import prepare_data\n",
    "\n",
    "from bespoke.inventory.analysis.shared import download_util, inventory_types\n",
    "from bespoke.inventory.analysis import active_inventory_util as util\n",
    "from bespoke.inventory.analysis import inventory_valuations_util as valuations_util\n",
    "\n",
    "%load_ext autoreload\n",
    "%autoreload 2"
   ]
  },
  {
   "cell_type": "code",
   "execution_count": 3,
   "id": "0e3aa203",
   "metadata": {},
   "outputs": [],
   "source": [
    "# Define company name and date ranges"
   ]
  },
  {
   "cell_type": "code",
   "execution_count": 4,
   "id": "038c31ef-3af0-4b64-89b3-32c35769e7b2",
   "metadata": {},
   "outputs": [],
   "source": [
    "COMPANY_IDENTIFIER = ['ST']\n",
    "TRANSFER_PACKAGES_START_DATE = '2020-01-01'\n",
    "SALES_TRANSACTIONS_START_DATE = '2020-01-01'"
   ]
  },
  {
   "cell_type": "code",
   "execution_count": 5,
   "id": "7892d4f2-ef44-45ff-aea9-681fc6c86b34",
   "metadata": {},
   "outputs": [],
   "source": [
    "#fetch download report and lisences\n",
    "company_licenses_query = create_queries.create_company_licenses_query(COMPANY_IDENTIFIER)\n",
    "company_download_summaries_query = create_queries.create_company_download_summaries_query(COMPANY_IDENTIFIER, TRANSFER_PACKAGES_START_DATE)\n",
    "\n",
    "company_licenses_dataframe = pd.read_sql_query(company_licenses_query, engine)\n",
    "company_download_summaries_dataframe = pd.read_sql_query(company_download_summaries_query, engine)"
   ]
  },
  {
   "cell_type": "code",
   "execution_count": 6,
   "id": "54fa9801",
   "metadata": {},
   "outputs": [
    {
     "data": {
      "text/html": [
       "<div>\n",
       "<style scoped>\n",
       "    .dataframe tbody tr th:only-of-type {\n",
       "        vertical-align: middle;\n",
       "    }\n",
       "\n",
       "    .dataframe tbody tr th {\n",
       "        vertical-align: top;\n",
       "    }\n",
       "\n",
       "    .dataframe thead th {\n",
       "        text-align: right;\n",
       "    }\n",
       "</style>\n",
       "<table border=\"1\" class=\"dataframe\">\n",
       "  <thead>\n",
       "    <tr style=\"text-align: right;\">\n",
       "      <th></th>\n",
       "      <th>us_state</th>\n",
       "      <th>license_number</th>\n",
       "      <th>license_category</th>\n",
       "      <th>legal_name</th>\n",
       "      <th>is_current</th>\n",
       "      <th>license_status</th>\n",
       "      <th>rollup_id</th>\n",
       "      <th>license_description</th>\n",
       "      <th>company_id</th>\n",
       "      <th>facility_row_id</th>\n",
       "    </tr>\n",
       "  </thead>\n",
       "  <tbody>\n",
       "    <tr>\n",
       "      <th>0</th>\n",
       "      <td>CA</td>\n",
       "      <td>C9-0000323-LIC</td>\n",
       "      <td>Retailer</td>\n",
       "      <td>MAKE YOUR MARK SF</td>\n",
       "      <td>True</td>\n",
       "      <td>Active</td>\n",
       "      <td>CA-04255</td>\n",
       "      <td>Retailer-Non-Storefront</td>\n",
       "      <td>c097c60c-3431-4fe0-8c1a-273da2d195bb</td>\n",
       "      <td>6cce2045-ccbe-485a-bc2b-45e8d3651e8a</td>\n",
       "    </tr>\n",
       "  </tbody>\n",
       "</table>\n",
       "</div>"
      ],
      "text/plain": [
       "  us_state  license_number license_category         legal_name  is_current  \\\n",
       "0       CA  C9-0000323-LIC         Retailer  MAKE YOUR MARK SF        True   \n",
       "\n",
       "  license_status rollup_id      license_description  \\\n",
       "0         Active  CA-04255  Retailer-Non-Storefront   \n",
       "\n",
       "                             company_id                       facility_row_id  \n",
       "0  c097c60c-3431-4fe0-8c1a-273da2d195bb  6cce2045-ccbe-485a-bc2b-45e8d3651e8a  "
      ]
     },
     "execution_count": 6,
     "metadata": {},
     "output_type": "execute_result"
    }
   ],
   "source": [
    "company_licenses_dataframe"
   ]
  },
  {
   "cell_type": "markdown",
   "id": "5ddb460b",
   "metadata": {},
   "source": [
    "## Check download status summaries"
   ]
  },
  {
   "cell_type": "code",
   "execution_count": 7,
   "id": "cec4010a",
   "metadata": {},
   "outputs": [],
   "source": [
    "license_numbers = company_download_summaries_dataframe['license_number'].unique()\n",
    "download_summary_records = company_download_summaries_dataframe.to_dict('records')"
   ]
  },
  {
   "cell_type": "code",
   "execution_count": 8,
   "id": "2d720e85",
   "metadata": {},
   "outputs": [
    {
     "data": {
      "text/plain": [
       "array(['C12-0000359-LIC', 'C9-0000323-LIC'], dtype=object)"
      ]
     },
     "execution_count": 8,
     "metadata": {},
     "output_type": "execute_result"
    }
   ],
   "source": [
    "license_numbers"
   ]
  },
  {
   "cell_type": "code",
   "execution_count": 9,
   "id": "773e238b",
   "metadata": {},
   "outputs": [],
   "source": [
    "def check_company_license_download(license_numbers: List[str],download_summary_records: List[Dict[str,str]]) -> Dict[str,str]:\n",
    "    license_number_to_download_summary_records = {}\n",
    "\n",
    "    for license_number in license_numbers:\n",
    "        license_number_to_download_summary_records[license_number] = list(filter(\n",
    "            lambda download_summary_record: download_summary_record['license_number'] == license_number,\n",
    "            download_summary_records\n",
    "        ))\n",
    "\n",
    "    bad_count = 0\n",
    "    bad_history = defaultdict(list)\n",
    "    for license_number, download_summary_records in license_number_to_download_summary_records.items():\n",
    "        print(f'Verifying download summaries for license {license_number}...')\n",
    "        print(f'Earliest download summary: {download_summary_records[-1][\"date\"]}')\n",
    "        print(f'Latest download summary: {download_summary_records[0][\"date\"]}')\n",
    "        for download_summary_record in download_summary_records:\n",
    "            if download_summary_record['status'] != 'completed':\n",
    "                bad_count += 1\n",
    "                print(f'Found bad download summary for license {license_number} on date {download_summary_record[\"date\"]}') \n",
    "                bad_history[license_number].append(download_summary_record['date'])            \n",
    "        \n",
    "        print('')\n",
    "    if bad_count > 0:\n",
    "        print(f'[FAILURE] Found a total of {bad_count} bad download summaries')\n",
    "    else:\n",
    "        print(f'[SUCCESS] All download summaries look good!')\n",
    "    return bad_history\n",
    "\n"
   ]
  },
  {
   "cell_type": "code",
   "execution_count": 10,
   "id": "cc634d6a",
   "metadata": {
    "scrolled": true
   },
   "outputs": [
    {
     "name": "stdout",
     "output_type": "stream",
     "text": [
      "Verifying download summaries for license C12-0000359-LIC...\n",
      "Earliest download summary: 2022-01-03\n",
      "Latest download summary: 2022-03-25\n",
      "\n",
      "Verifying download summaries for license C9-0000323-LIC...\n",
      "Earliest download summary: 2020-01-01\n",
      "Latest download summary: 2022-03-25\n",
      "\n",
      "[SUCCESS] All download summaries look good!\n"
     ]
    }
   ],
   "source": [
    "bad_download_history = check_company_license_download(license_numbers,download_summary_records)"
   ]
  },
  {
   "cell_type": "code",
   "execution_count": 11,
   "id": "931a4474",
   "metadata": {},
   "outputs": [
    {
     "data": {
      "text/plain": [
       "defaultdict(list, {})"
      ]
     },
     "execution_count": 11,
     "metadata": {},
     "output_type": "execute_result"
    }
   ],
   "source": [
    "bad_download_history"
   ]
  },
  {
   "cell_type": "markdown",
   "id": "5edcc0c3",
   "metadata": {},
   "source": [
    "## Choose license numbers"
   ]
  },
  {
   "cell_type": "code",
   "execution_count": 12,
   "id": "1eb753d1",
   "metadata": {},
   "outputs": [
    {
     "data": {
      "text/plain": [
       "['C9-0000323-LIC']"
      ]
     },
     "execution_count": 12,
     "metadata": {},
     "output_type": "execute_result"
    }
   ],
   "source": [
    "# get list of retailer license numbers\n",
    "license_numbers = list(company_licenses_dataframe[company_licenses_dataframe['license_category'].isin(['Retailer', 'Multiple'])]['license_number'].unique())\n",
    "license_numbers"
   ]
  },
  {
   "cell_type": "code",
   "execution_count": 13,
   "id": "01a741e1",
   "metadata": {},
   "outputs": [],
   "source": [
    "#license_numbers = ['402R-00808']"
   ]
  },
  {
   "cell_type": "code",
   "execution_count": null,
   "id": "279000c4",
   "metadata": {},
   "outputs": [],
   "source": [
    "#for BUD only\n",
    "#license_numbers = ['C9-0000464-LIC',\n",
    "# 'C9-0000467-LIC',\n",
    "# 'C9-0000399-LIC']"
   ]
  },
  {
   "cell_type": "code",
   "execution_count": null,
   "id": "7db6cf1b",
   "metadata": {},
   "outputs": [],
   "source": [
    "# run this if only has 1 license, or only want 1 license\n",
    "#license_numbers = [license_numbers[0]]\n",
    "#license_numbers"
   ]
  },
  {
   "cell_type": "markdown",
   "id": "aee3310e",
   "metadata": {},
   "source": [
    "# License check"
   ]
  },
  {
   "cell_type": "code",
   "execution_count": 14,
   "id": "d853cfe6",
   "metadata": {},
   "outputs": [],
   "source": [
    "retial_license_check_df = company_licenses_dataframe[company_licenses_dataframe['license_number'].isin(license_numbers)][['license_number','license_category','is_current','license_status']].reset_index(drop = True)\n",
    "retial_license_check_df['license_check'] = ['YES' if retial_license_check_df['license_status'][i] == 'Active' or str(retial_license_check_df['is_current'][i]) == 'True' else 'NO' for i in range(len(retial_license_check_df))]\n"
   ]
  },
  {
   "cell_type": "code",
   "execution_count": 15,
   "id": "3f3595db",
   "metadata": {},
   "outputs": [
    {
     "data": {
      "text/html": [
       "<div>\n",
       "<style scoped>\n",
       "    .dataframe tbody tr th:only-of-type {\n",
       "        vertical-align: middle;\n",
       "    }\n",
       "\n",
       "    .dataframe tbody tr th {\n",
       "        vertical-align: top;\n",
       "    }\n",
       "\n",
       "    .dataframe thead th {\n",
       "        text-align: right;\n",
       "    }\n",
       "</style>\n",
       "<table border=\"1\" class=\"dataframe\">\n",
       "  <thead>\n",
       "    <tr style=\"text-align: right;\">\n",
       "      <th></th>\n",
       "      <th>license_number</th>\n",
       "      <th>license_category</th>\n",
       "      <th>is_current</th>\n",
       "      <th>license_status</th>\n",
       "      <th>license_check</th>\n",
       "    </tr>\n",
       "  </thead>\n",
       "  <tbody>\n",
       "    <tr>\n",
       "      <th>0</th>\n",
       "      <td>C9-0000323-LIC</td>\n",
       "      <td>Retailer</td>\n",
       "      <td>True</td>\n",
       "      <td>Active</td>\n",
       "      <td>YES</td>\n",
       "    </tr>\n",
       "  </tbody>\n",
       "</table>\n",
       "</div>"
      ],
      "text/plain": [
       "   license_number license_category  is_current license_status license_check\n",
       "0  C9-0000323-LIC         Retailer        True         Active           YES"
      ]
     },
     "execution_count": 15,
     "metadata": {},
     "output_type": "execute_result"
    }
   ],
   "source": [
    "retial_license_check_df"
   ]
  },
  {
   "cell_type": "markdown",
   "id": "8e35183a",
   "metadata": {},
   "source": [
    "## Pull data"
   ]
  },
  {
   "cell_type": "code",
   "execution_count": 16,
   "id": "61cc4333-fcbf-4d35-ad5f-09cfb5b17486",
   "metadata": {},
   "outputs": [],
   "source": [
    "company_incoming_transfer_packages_query = create_queries.create_company_incoming_transfer_packages_query(\n",
    "    COMPANY_IDENTIFIER,\n",
    "    TRANSFER_PACKAGES_START_DATE,\n",
    "    license_numbers=license_numbers,\n",
    ")\n",
    "company_outgoing_transfer_packages_query = create_queries.create_company_outgoing_transfer_packages_query(\n",
    "    COMPANY_IDENTIFIER,\n",
    "    TRANSFER_PACKAGES_START_DATE,\n",
    "    license_numbers=license_numbers,\n",
    ")\n",
    "company_unknown_transfer_packages_query = create_queries.create_company_unknown_transfer_packages_query(\n",
    "    COMPANY_IDENTIFIER,\n",
    "    TRANSFER_PACKAGES_START_DATE,\n",
    "#     license_numbers=license_numbers,\n",
    ")\n",
    "company_sales_transactions_query = create_queries.create_company_sales_transactions_query(\n",
    "    COMPANY_IDENTIFIER,\n",
    "    SALES_TRANSACTIONS_START_DATE,\n",
    "    license_numbers=license_numbers,\n",
    ")\n",
    "company_sales_receipts_query = create_queries.create_company_sales_receipts_query(\n",
    "    COMPANY_IDENTIFIER,\n",
    "    SALES_TRANSACTIONS_START_DATE,\n",
    "    license_numbers=license_numbers,\n",
    ")\n",
    "company_sales_receipts_with_transactions_query = create_queries.create_company_sales_receipts_with_transactions_query(\n",
    "    COMPANY_IDENTIFIER,\n",
    "    SALES_TRANSACTIONS_START_DATE,\n",
    "    license_numbers=license_numbers,\n",
    ")\n",
    "company_inventory_packages_query = create_queries.create_company_inventory_packages_query(\n",
    "    COMPANY_IDENTIFIER,\n",
    "    include_quantity_zero=True,\n",
    "    license_numbers=license_numbers,\n",
    ")\n",
    "\n",
    "company_incoming_transfer_packages_dataframe = pd.read_sql_query(company_incoming_transfer_packages_query, engine)\n",
    "company_outgoing_transfer_packages_dataframe = pd.read_sql_query(company_outgoing_transfer_packages_query, engine)\n",
    "company_unknown_transfer_packages_dataframe = pd.read_sql_query(company_unknown_transfer_packages_query, engine)\n",
    "company_sales_transactions_dataframe = pd.read_sql_query(company_sales_transactions_query, engine)\n",
    "company_sales_receipts_dataframe = pd.read_sql_query(company_sales_receipts_query, engine)\n",
    "company_sales_receipts_with_transactions_dataframe = pd.read_sql_query(company_sales_receipts_with_transactions_query, engine)\n",
    "company_inventory_packages_dataframe = pd.read_sql_query(company_inventory_packages_query, engine)"
   ]
  },
  {
   "cell_type": "code",
   "execution_count": 17,
   "id": "72800636",
   "metadata": {},
   "outputs": [
    {
     "data": {
      "text/plain": [
       "array(['C9-0000323-LIC'], dtype=object)"
      ]
     },
     "execution_count": 17,
     "metadata": {},
     "output_type": "execute_result"
    }
   ],
   "source": [
    "#make sure we did pulled all location's data\n",
    "company_incoming_transfer_packages_dataframe['license_number'].unique()"
   ]
  },
  {
   "cell_type": "code",
   "execution_count": 18,
   "id": "f2e41170",
   "metadata": {},
   "outputs": [
    {
     "data": {
      "text/plain": [
       "array(['C9-0000323-LIC'], dtype=object)"
      ]
     },
     "execution_count": 18,
     "metadata": {},
     "output_type": "execute_result"
    }
   ],
   "source": [
    "company_sales_receipts_with_transactions_dataframe['license_number'].unique()"
   ]
  },
  {
   "cell_type": "code",
   "execution_count": 19,
   "id": "31da29cf",
   "metadata": {},
   "outputs": [
    {
     "data": {
      "text/plain": [
       "array(['C9-0000323-LIC'], dtype=object)"
      ]
     },
     "execution_count": 19,
     "metadata": {},
     "output_type": "execute_result"
    }
   ],
   "source": [
    "company_inventory_packages_dataframe['license_number'].unique()"
   ]
  },
  {
   "cell_type": "code",
   "execution_count": 20,
   "id": "c7f3109b",
   "metadata": {},
   "outputs": [],
   "source": [
    "#company_inventory_packages_dataframe"
   ]
  },
  {
   "cell_type": "markdown",
   "id": "22f31807",
   "metadata": {},
   "source": [
    "## Unknown transfer packages"
   ]
  },
  {
   "cell_type": "code",
   "execution_count": 21,
   "id": "aef77c6f",
   "metadata": {},
   "outputs": [],
   "source": [
    "def check_unknown_transfer_packages(unknown_transfer_df: pd.DataFrame) -> int:\n",
    "    unknown_package_count = unknown_transfer_df.shape[0]\n",
    "    if unknown_package_count > 0:\n",
    "        print(f'[FAILURE] Found a total of {unknown_package_count} unknown transfer packages')\n",
    "    else:\n",
    "        print(f'[SUCCESS] No unknown transfer packages!')\n",
    "    return unknown_package_count"
   ]
  },
  {
   "cell_type": "code",
   "execution_count": 22,
   "id": "f3a6daad",
   "metadata": {},
   "outputs": [
    {
     "name": "stdout",
     "output_type": "stream",
     "text": [
      "[SUCCESS] No unknown transfer packages!\n"
     ]
    },
    {
     "data": {
      "text/plain": [
       "0"
      ]
     },
     "execution_count": 22,
     "metadata": {},
     "output_type": "execute_result"
    }
   ],
   "source": [
    "unknown_package_count = check_unknown_transfer_packages(company_unknown_transfer_packages_dataframe)\n",
    "unknown_package_count"
   ]
  },
  {
   "cell_type": "markdown",
   "id": "e045f647",
   "metadata": {},
   "source": [
    "## Receiver wholesale price coverage"
   ]
  },
  {
   "cell_type": "code",
   "execution_count": 23,
   "id": "623f7f7e",
   "metadata": {},
   "outputs": [],
   "source": [
    "def check_receiver_wholesale_price_coverage(incoming_transfer_df: pd.DataFrame) -> float:\n",
    "    rwp_exists_count = incoming_transfer_df[incoming_transfer_df['receiver_wholesale_price'].notnull()].shape[0]\n",
    "    total_count = incoming_transfer_df.shape[0]\n",
    "    rwp_coverage = round(rwp_exists_count / total_count, 2) * 100\n",
    "    print(f'{rwp_coverage}% of incoming transfer packages have receiver wholesale price')\n",
    "    return rwp_coverage"
   ]
  },
  {
   "cell_type": "code",
   "execution_count": 24,
   "id": "fc28651c",
   "metadata": {},
   "outputs": [
    {
     "data": {
      "text/plain": [
       "(4472, 32)"
      ]
     },
     "execution_count": 24,
     "metadata": {},
     "output_type": "execute_result"
    }
   ],
   "source": [
    "company_incoming_transfer_packages_dataframe[company_incoming_transfer_packages_dataframe['receiver_wholesale_price'].notnull()].shape"
   ]
  },
  {
   "cell_type": "code",
   "execution_count": 25,
   "id": "09992a21",
   "metadata": {},
   "outputs": [
    {
     "data": {
      "text/plain": [
       "(4647, 32)"
      ]
     },
     "execution_count": 25,
     "metadata": {},
     "output_type": "execute_result"
    }
   ],
   "source": [
    "company_incoming_transfer_packages_dataframe.shape"
   ]
  },
  {
   "cell_type": "code",
   "execution_count": 26,
   "id": "44df31d7",
   "metadata": {},
   "outputs": [
    {
     "name": "stdout",
     "output_type": "stream",
     "text": [
      "96.0% of incoming transfer packages have receiver wholesale price\n"
     ]
    }
   ],
   "source": [
    "rwp_coverage = check_receiver_wholesale_price_coverage(company_incoming_transfer_packages_dataframe)\n"
   ]
  },
  {
   "cell_type": "markdown",
   "id": "e632a6c8",
   "metadata": {},
   "source": [
    "## dedupe sales transactions"
   ]
  },
  {
   "cell_type": "code",
   "execution_count": 27,
   "id": "54e232ef-5871-401c-9716-254f6242d138",
   "metadata": {},
   "outputs": [],
   "source": [
    "deduped_sales_receipts_with_transactions_dataframe = prepare_data.dedupe_sales_transactions(company_sales_receipts_with_transactions_dataframe)"
   ]
  },
  {
   "cell_type": "code",
   "execution_count": 28,
   "id": "3aa67466",
   "metadata": {},
   "outputs": [],
   "source": [
    "deduped_sales_receipts_with_transactions_dataframe['sales_month'] = deduped_sales_receipts_with_transactions_dataframe['sales_datetime'].dt.strftime('%Y-%m')"
   ]
  },
  {
   "cell_type": "code",
   "execution_count": 29,
   "id": "7a8bf4d7",
   "metadata": {},
   "outputs": [
    {
     "data": {
      "text/plain": [
       "array(['C9-0000323-LIC'], dtype=object)"
      ]
     },
     "execution_count": 29,
     "metadata": {},
     "output_type": "execute_result"
    }
   ],
   "source": [
    "#check we have all locations\n",
    "deduped_sales_receipts_with_transactions_dataframe['license_number'].unique()"
   ]
  },
  {
   "cell_type": "markdown",
   "id": "b02839ed",
   "metadata": {},
   "source": [
    "## Trxns missing incoming transfer packages"
   ]
  },
  {
   "cell_type": "code",
   "execution_count": 30,
   "id": "c3a98c0f",
   "metadata": {},
   "outputs": [],
   "source": [
    "def check_incoming_transfer_package_coverage(incoming_transfer_df: pd.DataFrame,sales_df: pd.DataFrame) -> Tuple[List,pd.DataFrame]:\n",
    "    package_transfer_sales_merged = pd.merge(sales_df,incoming_transfer_df,left_on='tx_package_id', right_on='package_id', how='left')\n",
    "    package_transfer_sales_merged_missed = package_transfer_sales_merged[package_transfer_sales_merged['package_id'].isnull()]\n",
    "    count_trxn_missed = package_transfer_sales_merged_missed.shape[0]\n",
    "    count_total_trxn = sales_df.shape[0]\n",
    "    missed_ratio = count_trxn_missed/ count_total_trxn\n",
    "    print(f'# transactions missing incoming transfer package: {count_trxn_missed} ({count_trxn_missed / count_total_trxn * 100}%)')\n",
    "    print(f'# transactions total: {count_total_trxn}')\n",
    "    return missed_ratio,package_transfer_sales_merged_missed"
   ]
  },
  {
   "cell_type": "code",
   "execution_count": 31,
   "id": "cd0b5a90",
   "metadata": {},
   "outputs": [
    {
     "name": "stdout",
     "output_type": "stream",
     "text": [
      "# transactions missing incoming transfer package: 685 (0.6604701390361958%)\n",
      "# transactions total: 103714\n"
     ]
    }
   ],
   "source": [
    "incoming_transfer_package_coverage,incoming_transfer_package_coverage_missing = check_incoming_transfer_package_coverage(company_incoming_transfer_packages_dataframe,deduped_sales_receipts_with_transactions_dataframe)"
   ]
  },
  {
   "cell_type": "code",
   "execution_count": 32,
   "id": "6be6dd2a",
   "metadata": {},
   "outputs": [
    {
     "data": {
      "text/plain": [
       "sales_month\n",
       "2020-01    137\n",
       "2020-02    184\n",
       "2020-03     70\n",
       "2020-04      8\n",
       "2020-05      2\n",
       "2022-03    119\n",
       "dtype: int64"
      ]
     },
     "execution_count": 32,
     "metadata": {},
     "output_type": "execute_result"
    }
   ],
   "source": [
    "month_to_missing_count = incoming_transfer_package_coverage_missing[['sales_month','receipt_number']].groupby(['sales_month']).apply(lambda x: len(x['receipt_number'].unique()))\n",
    "month_to_missing_count\n"
   ]
  },
  {
   "cell_type": "markdown",
   "id": "0da2e8ce-e643-4fee-aca6-cd61b3becc21",
   "metadata": {},
   "source": [
    "## Receipts missing metrc_sales_transactions"
   ]
  },
  {
   "cell_type": "code",
   "execution_count": 33,
   "id": "cbc30296-afa8-42f8-a16b-72fe045395c6",
   "metadata": {},
   "outputs": [],
   "source": [
    "sales_receipt_with_transactions_records = deduped_sales_receipts_with_transactions_dataframe.to_dict('records')\n",
    "\n",
    "receipt_number_to_transactions = {}\n",
    "for sales_receipt_with_transaction_record in sales_receipt_with_transactions_records:\n",
    "    receipt_number = sales_receipt_with_transaction_record['receipt_number']\n",
    "    if receipt_number in receipt_number_to_transactions:\n",
    "        receipt_number_to_transactions[receipt_number] += [sales_receipt_with_transaction_record]\n",
    "    else:\n",
    "        receipt_number_to_transactions[receipt_number] = [sales_receipt_with_transaction_record]"
   ]
  },
  {
   "cell_type": "code",
   "execution_count": 34,
   "id": "c8f876a8-09ef-4582-9ed9-958d3e97b4a5",
   "metadata": {},
   "outputs": [
    {
     "name": "stdout",
     "output_type": "stream",
     "text": [
      "# receipts with mismatching transactions: 0 (0.0%)\n",
      "# receipts missing transactions: 0 (0.0%)\n",
      "# receipts total: 49595\n"
     ]
    }
   ],
   "source": [
    "import math\n",
    "\n",
    "def float_eq(receipt_total_price: float, transactions_total_price: float, num_transactions: int) -> bool:\n",
    "    # For every additional transaction, increase threshold by 0.01 (a penny).\n",
    "    threshold = num_transactions * 0.01\n",
    "    return math.isclose(receipt_total_price, transactions_total_price, abs_tol=threshold)\n",
    "\n",
    "mismatch_count = 0 # Count of receipts where receipt total price does not match transactions total price.\n",
    "missing_count = 0 # Count of receipts with no transactions.\n",
    "total_count = 0 # Count of receipts (including those missing transactions).\n",
    "\n",
    "mismatch_over_count = 0\n",
    "mismatch_under_count = 0\n",
    "\n",
    "month_to_mismatch_count = {}\n",
    "month_to_missing_count = {}\n",
    "\n",
    "month_to_mismatch_over_count = {}\n",
    "month_to_mismatch_under_count = {}\n",
    "\n",
    "example_mismatch_over_receipts = []\n",
    "example_mismatch_under_receipts = []\n",
    "\n",
    "for receipt_number, receipt_transactions in list(receipt_number_to_transactions.items()):\n",
    "    receipt_total_price = receipt_transactions[0]['rt_total_price']\n",
    "    receipt_sales_month = receipt_transactions[0]['sales_month']\n",
    "    receipt_total_packages = receipt_transactions[0]['total_packages']\n",
    "\n",
    "    total_count += 1\n",
    "\n",
    "    if len(receipt_transactions) == 1 and receipt_transactions[0]['tx_package_id'] == None:\n",
    "        missing_count += 1\n",
    "        if receipt_sales_month not in month_to_missing_count:\n",
    "            month_to_missing_count[receipt_sales_month] = 0\n",
    "        month_to_missing_count[receipt_sales_month] += 1\n",
    "        continue\n",
    "\n",
    "    # Check whether 'total_packages' field of sales receipt matches number of transactions related to receipt.\n",
    "    if receipt_total_packages != len(receipt_transactions):\n",
    "        missing_count += 1\n",
    "        if receipt_sales_month not in month_to_missing_count:\n",
    "            month_to_missing_count[receipt_sales_month] = 0\n",
    "        month_to_missing_count[receipt_sales_month] += 1\n",
    "        continue\n",
    "\n",
    "    transactions_total_price = sum(receipt_transaction['tx_total_price'] for receipt_transaction in receipt_transactions)\n",
    "    if not float_eq(receipt_total_price, transactions_total_price, len(receipt_transactions)):\n",
    "        mismatch_count += 1\n",
    "        if receipt_total_price < transactions_total_price:\n",
    "            mismatch_over_count += 1\n",
    "            example_mismatch_over_receipts += [(receipt_number, receipt_transactions)]\n",
    "        else:\n",
    "            mismatch_under_count += 1\n",
    "            example_mismatch_under_receipts += [(receipt_number, receipt_transactions)]\n",
    "\n",
    "        if receipt_sales_month not in month_to_mismatch_count:\n",
    "            month_to_mismatch_count[receipt_sales_month] = 0\n",
    "        month_to_mismatch_count[receipt_sales_month] += 1\n",
    "        continue\n",
    "\n",
    "print(f'# receipts with mismatching transactions: {mismatch_count} ({mismatch_count / total_count * 100}%)')\n",
    "print(f'# receipts missing transactions: {missing_count} ({missing_count / total_count * 100}%)')\n",
    "print(f'# receipts total: {total_count}')\n",
    "\n",
    "if mismatch_count:\n",
    "    print(f'# mismatch receipt vs transactions (transactions over): {mismatch_over_count} ({mismatch_over_count / mismatch_count * 100}%)')\n",
    "    print(f'# mismatch receipt vs transactions (transactions under): {mismatch_under_count} ({mismatch_under_count / mismatch_count * 100}%)')"
   ]
  },
  {
   "cell_type": "code",
   "execution_count": 35,
   "id": "e1ab76b8",
   "metadata": {},
   "outputs": [],
   "source": [
    "company_sales_receipts_dataframe['sales_month'] = company_sales_receipts_dataframe['sales_datetime'].dt.strftime('%Y-%m')"
   ]
  },
  {
   "cell_type": "code",
   "execution_count": 36,
   "id": "1eb6b9f3",
   "metadata": {},
   "outputs": [
    {
     "data": {
      "text/plain": [
       "<AxesSubplot:xlabel='sales_month'>"
      ]
     },
     "execution_count": 36,
     "metadata": {},
     "output_type": "execute_result"
    },
    {
     "data": {
      "image/png": "[encoded data removed]",
      "text/plain": [
       "<Figure size 1728x576 with 1 Axes>"
      ]
     },
     "metadata": {
      "needs_background": "light"
     },
     "output_type": "display_data"
    }
   ],
   "source": [
    "deduped_sales_receipts_with_transactions_dataframe.groupby(['sales_month'])['tx_total_price'].sum().plot.bar(figsize=(24, 8), stacked=True)"
   ]
  },
  {
   "cell_type": "markdown",
   "id": "78d3c466",
   "metadata": {},
   "source": [
    "# For Embarc only"
   ]
  },
  {
   "cell_type": "code",
   "execution_count": null,
   "id": "de5b324f",
   "metadata": {},
   "outputs": [],
   "source": [
    "if COMPANY_IDENTIFIER == ['EMA','EMM','EMT','EMF']:\n",
    "    #incoming transfer\n",
    "    company_incoming_transfer_packages_dataframe_ema = company_incoming_transfer_packages_dataframe[company_incoming_transfer_packages_dataframe['license_number'] == 'C10-0000774-LIC']\n",
    "    company_incoming_transfer_packages_dataframe_emm = company_incoming_transfer_packages_dataframe[company_incoming_transfer_packages_dataframe['license_number'] == 'C10-0000786-LIC']\n",
    "    company_incoming_transfer_packages_dataframe_emt = company_incoming_transfer_packages_dataframe[company_incoming_transfer_packages_dataframe['license_number'] == 'C10-0000695-LIC']\n",
    "    company_incoming_transfer_packages_dataframe_emf = company_incoming_transfer_packages_dataframe[company_incoming_transfer_packages_dataframe['license_number'] == 'C10-0000939-LIC']\n",
    "    #sales & receipt\n",
    "    deduped_sales_receipts_with_transactions_dataframe_ema = deduped_sales_receipts_with_transactions_dataframe[deduped_sales_receipts_with_transactions_dataframe['license_number'] == 'C10-0000774-LIC']\n",
    "    deduped_sales_receipts_with_transactions_dataframe_emm = deduped_sales_receipts_with_transactions_dataframe[deduped_sales_receipts_with_transactions_dataframe['license_number'] == 'C10-0000786-LIC']\n",
    "    deduped_sales_receipts_with_transactions_dataframe_emt = deduped_sales_receipts_with_transactions_dataframe[deduped_sales_receipts_with_transactions_dataframe['license_number'] == 'C10-0000695-LIC']\n",
    "    deduped_sales_receipts_with_transactions_dataframe_emf = deduped_sales_receipts_with_transactions_dataframe[deduped_sales_receipts_with_transactions_dataframe['license_number'] == 'C10-0000939-LIC']\n",
    "    #inventory\n",
    "    company_inventory_packages_dataframe_ema = company_inventory_packages_dataframe[company_inventory_packages_dataframe['license_number'] == 'C10-0000774-LIC']\n",
    "    company_inventory_packages_dataframe_emm = company_inventory_packages_dataframe[company_inventory_packages_dataframe['license_number'] == 'C10-0000786-LIC']\n",
    "    company_inventory_packages_dataframe_emt = company_inventory_packages_dataframe[company_inventory_packages_dataframe['license_number'] == 'C10-0000695-LIC']\n",
    "    company_inventory_packages_dataframe_emf = company_inventory_packages_dataframe[company_inventory_packages_dataframe['license_number'] == 'C10-0000939-LIC']\n",
    "    "
   ]
  },
  {
   "cell_type": "markdown",
   "id": "2ea0583a",
   "metadata": {},
   "source": [
    "# For BUD only"
   ]
  },
  {
   "cell_type": "code",
   "execution_count": null,
   "id": "652466fe",
   "metadata": {},
   "outputs": [],
   "source": [
    "if COMPANY_IDENTIFIER == ['BUD']:\n",
    "    #incoming transfer\n",
    "    company_incoming_transfer_packages_dataframe_sac = company_incoming_transfer_packages_dataframe[company_incoming_transfer_packages_dataframe['license_number'] == 'C9-0000399-LIC']\n",
    "    company_incoming_transfer_packages_dataframe_fresno = company_incoming_transfer_packages_dataframe[company_incoming_transfer_packages_dataframe['license_number'] == 'C9-0000467-LIC']\n",
    "    company_incoming_transfer_packages_dataframe_la = company_incoming_transfer_packages_dataframe[company_incoming_transfer_packages_dataframe['license_number'] == 'C9-0000464-LIC']\n",
    "    #sales & receipt\n",
    "    deduped_sales_receipts_with_transactions_dataframe_sac = deduped_sales_receipts_with_transactions_dataframe[deduped_sales_receipts_with_transactions_dataframe['license_number'] == 'C9-0000399-LIC']\n",
    "    deduped_sales_receipts_with_transactions_dataframe_fresno = deduped_sales_receipts_with_transactions_dataframe[deduped_sales_receipts_with_transactions_dataframe['license_number'] == 'C9-0000467-LIC']\n",
    "    deduped_sales_receipts_with_transactions_dataframe_la = deduped_sales_receipts_with_transactions_dataframe[deduped_sales_receipts_with_transactions_dataframe['license_number'] == 'C9-0000464-LIC']\n",
    "\n",
    "    \n",
    "    #inventory\n",
    "    company_inventory_packages_dataframe_sac = company_inventory_packages_dataframe[company_inventory_packages_dataframe['license_number'] == 'C9-0000399-LIC']\n",
    "    company_inventory_packages_dataframe_fresno = company_inventory_packages_dataframe[company_inventory_packages_dataframe['license_number'] == 'C9-0000467-LIC']\n",
    "    company_inventory_packages_dataframe_la = company_inventory_packages_dataframe[company_inventory_packages_dataframe['license_number'] == 'C9-0000464-LIC']\n",
    "\n",
    "    "
   ]
  },
  {
   "cell_type": "markdown",
   "id": "40a054de",
   "metadata": {},
   "source": [
    "# Vendor churn"
   ]
  },
  {
   "cell_type": "code",
   "execution_count": 37,
   "id": "c18451c1",
   "metadata": {},
   "outputs": [],
   "source": [
    "WINDOW = 4\n",
    "VC_START_DATE = '2020-01-01'\n",
    "VC_END_DATE = '2022-03-01'\n",
    "VC_MONTH_LIST = ['2021-11-01','2021-12-01','2022-01-01','2022-02-01']\n",
    "VC_MONTH_END = VC_MONTH_LIST[-1]"
   ]
  },
  {
   "cell_type": "code",
   "execution_count": 38,
   "id": "9be2c5b3",
   "metadata": {},
   "outputs": [],
   "source": [
    "def calculate_vendor_churn(incoming_transfer_df,license_list,vc_windown,vc_start_date,vc_end_date,vc_month_list,vc_month_end):\n",
    "    df_vendor_churn = incoming_transfer_df[incoming_transfer_df['license_number'].isin(license_list)]\n",
    "    df_vendor_churn['year_month'] = pd.to_datetime(df_vendor_churn['created_date']).dt.strftime(\"%Y-%m\")\n",
    "    vc = df_vendor_churn[['year_month','shipper_facility_name','shipper_wholesale_price']].groupby(['year_month','shipper_facility_name']).sum().reset_index()\n",
    "    vc= vc.assign(year_month=lambda df:pd.to_datetime(df['year_month']))\n",
    "\n",
    "    vc_full = (\n",
    "        vc\n",
    "        .groupby('shipper_facility_name').apply(\n",
    "            lambda df: df.merge(\n",
    "            pd.Series(\n",
    "                None, \n",
    "                index = pd.date_range(start = vc_start_date, end = vc_end_date, freq = 'MS'), \n",
    "                name='__place_holder'\n",
    "            ), \n",
    "            how ='right',\n",
    "            left_on = 'year_month', \n",
    "            right_index=True,\n",
    "        ).assign(\n",
    "            **{\n",
    "                \"shipper_facility_name\": lambda df_: df_.shipper_facility_name.dropna().unique()[0],\n",
    "                \"shipper_wholesale_price\": lambda df_: df_.shipper_wholesale_price.fillna(0),\n",
    "            }\n",
    "        )\n",
    "        .drop('__place_holder', axis=1)\n",
    "        )\n",
    "    ).reset_index(drop=True)\n",
    "    \n",
    "    rolling_4m_sum =  vc_full.groupby('shipper_facility_name').apply(\n",
    "    lambda df: df.set_index('year_month').sort_index().rolling(vc_windown).sum()\n",
    "    )\n",
    "    rolling_4m_sum.columns = ['rolling_4m_total_price']\n",
    "    facility_monthly_running_total = vc_full.groupby('shipper_facility_name').apply(\n",
    "        lambda df: df.set_index('year_month').sort_index()['shipper_wholesale_price'].cumsum().to_frame()\n",
    "    )\n",
    "    facility_monthly_running_total.columns = ['facility_running_total']\n",
    "    monthly_running_total = facility_monthly_running_total.reset_index().groupby('year_month')['facility_running_total'].sum().to_frame()\n",
    "    monthly_running_total.columns = ['monthly_running_total']\n",
    "\n",
    "    vc_result = rolling_4m_sum.merge(\n",
    "        facility_monthly_running_total,\n",
    "        how='inner',\n",
    "        left_index=True,\n",
    "        right_index=True\n",
    "    ).reset_index().merge(\n",
    "        monthly_running_total,\n",
    "        how='left',\n",
    "        on = 'year_month'\n",
    "    )\n",
    "    vc_result['%_total'] = vc_result['facility_running_total'] / vc_result['monthly_running_total']\n",
    "    vc_result['last_4m_active'] = vc_result['rolling_4m_total_price'] > 0\n",
    "    vc_result ['significant'] = vc_result['%_total'] > 0.001\n",
    "    vc_result['measure'] = vc_result.apply(\n",
    "    lambda row: \"Active\"  if (row['last_4m_active'] & row['significant']) else (\"Inactive\" if row['significant'] else \"Exclude\"),\n",
    "    axis=1\n",
    "    )\n",
    "    #churn\n",
    "    churn = vc_result.groupby(['year_month']).apply(lambda x: x[x['measure'] == 'Inactive']['%_total'].sum()).reset_index()\n",
    "    churn.columns = ['year_month','%_inactive']\n",
    "    churn.index = churn.year_month\n",
    "    \n",
    "    # output vendor churn matrix\n",
    "    vc_data = vc_full[vc_full['year_month'] <= VC_MONTH_END]\n",
    "    vc_data['year_month'] = vc_data['year_month'].astype(str)\n",
    "    vc_matrix = pd.pivot_table(vc_data, values='shipper_wholesale_price', index='shipper_facility_name',\n",
    "    columns='year_month', fill_value=0).reset_index()\n",
    "    vc_matrix['facility_total'] = vc_matrix.sum(axis= 1)\n",
    "    vc_matrix['grand_total'] = vc_matrix['facility_total'].sum()\n",
    "    vc_matrix['perc_total'] = vc_matrix['facility_total'] / vc_matrix['grand_total']\n",
    "    vc_matrix['last_4m_total'] = vc_matrix[VC_MONTH_LIST].sum(axis = 1)\n",
    "    vc_matrix['last_4m_active'] = vc_matrix['last_4m_total'] > 0\n",
    "    vc_matrix ['significant'] = vc_matrix['perc_total'] > 0.001\n",
    "    vc_matrix['measure'] = vc_matrix.apply(\n",
    "        lambda row: \"Active\"  if (row['last_4m_active'] & row['significant']) else (\"Inactive\" if row['significant'] else \"Exclude\"),\n",
    "        axis=1\n",
    "    )\n",
    "    return churn, vc_matrix\n",
    "    \n"
   ]
  },
  {
   "cell_type": "markdown",
   "id": "e2b0390d",
   "metadata": {},
   "source": [
    "## embarc only"
   ]
  },
  {
   "cell_type": "code",
   "execution_count": null,
   "id": "6198bc51",
   "metadata": {},
   "outputs": [],
   "source": [
    "churn_ema,vc_matrix_ema = calculate_vendor_churn(company_incoming_transfer_packages_dataframe_ema,['C10-0000774-LIC'],WINDOW,VC_START_DATE,VC_END_DATE,VC_MONTH_LIST,VC_MONTH_END)\n",
    "churn_emm,vc_matrix_emm = calculate_vendor_churn(company_incoming_transfer_packages_dataframe_emm,['C10-0000786-LIC'],WINDOW,VC_START_DATE,VC_END_DATE,VC_MONTH_LIST,VC_MONTH_END)\n",
    "churn_emt,vc_matrix_emt = calculate_vendor_churn(company_incoming_transfer_packages_dataframe_emt,['C10-0000695-LIC'],WINDOW,VC_START_DATE,VC_END_DATE,VC_MONTH_LIST,VC_MONTH_END)\n",
    "churn_emf,vc_matrix_emf = calculate_vendor_churn(company_incoming_transfer_packages_dataframe_emf,['C10-0000939-LIC'],WINDOW,VC_START_DATE,VC_END_DATE,VC_MONTH_LIST,VC_MONTH_END)\n",
    "\n"
   ]
  },
  {
   "cell_type": "markdown",
   "id": "f7da5cff",
   "metadata": {},
   "source": [
    "## BUD only"
   ]
  },
  {
   "cell_type": "code",
   "execution_count": null,
   "id": "f0587da2",
   "metadata": {},
   "outputs": [],
   "source": [
    "churn_sac,vc_matrix_sac = calculate_vendor_churn(company_incoming_transfer_packages_dataframe_sac,['C9-0000399-LIC'],WINDOW,VC_START_DATE,VC_END_DATE,VC_MONTH_LIST,VC_MONTH_END)\n",
    "churn_fresno,vc_matrix_fresno = calculate_vendor_churn(company_incoming_transfer_packages_dataframe_fresno,['C9-0000467-LIC'],WINDOW,VC_START_DATE,VC_END_DATE,VC_MONTH_LIST,VC_MONTH_END)\n",
    "churn_la,vc_matrix_la = calculate_vendor_churn(company_incoming_transfer_packages_dataframe_la,['C9-0000464-LIC'],WINDOW,VC_START_DATE,VC_END_DATE,VC_MONTH_LIST,VC_MONTH_END)\n",
    "\n",
    "\n"
   ]
  },
  {
   "cell_type": "code",
   "execution_count": null,
   "id": "d1768e7a",
   "metadata": {},
   "outputs": [],
   "source": [
    "# ax = churn_la['%_inactive'].plot(marker = 'o',figsize = (12,8))\n",
    "# vals = ax.get_yticks()\n",
    "# ax.set_yticklabels(['{:,.2%}'.format(x) for x in vals])\n",
    "# ax = plt.title('Rolling 4m vendor churn')"
   ]
  },
  {
   "cell_type": "markdown",
   "id": "3ddb8b90",
   "metadata": {},
   "source": [
    "## Others"
   ]
  },
  {
   "cell_type": "code",
   "execution_count": 39,
   "id": "247358ea",
   "metadata": {},
   "outputs": [
    {
     "data": {
      "text/plain": [
       "['C9-0000323-LIC']"
      ]
     },
     "execution_count": 39,
     "metadata": {},
     "output_type": "execute_result"
    }
   ],
   "source": [
    "license_numbers"
   ]
  },
  {
   "cell_type": "code",
   "execution_count": null,
   "id": "2bce7efc",
   "metadata": {},
   "outputs": [],
   "source": [
    "# TJR\n",
    "#test = company_incoming_transfer_packages_dataframe[(company_incoming_transfer_packages_dataframe['shipper_facility_name'] != 'PRUSSIAN STICKS LLC')&(company_incoming_transfer_packages_dataframe['shipper_facility_name'] != 'PRUSSIAN STICKS, LLC')]\n"
   ]
  },
  {
   "cell_type": "code",
   "execution_count": 40,
   "id": "dd3f7bd4",
   "metadata": {},
   "outputs": [],
   "source": [
    "churn,vc_matrix = calculate_vendor_churn(company_incoming_transfer_packages_dataframe,license_numbers,WINDOW,VC_START_DATE,VC_END_DATE,VC_MONTH_LIST,VC_MONTH_END)"
   ]
  },
  {
   "cell_type": "code",
   "execution_count": 41,
   "id": "705f0f39",
   "metadata": {},
   "outputs": [
    {
     "data": {
      "text/plain": [
       "['C9-0000323-LIC']"
      ]
     },
     "execution_count": 41,
     "metadata": {},
     "output_type": "execute_result"
    }
   ],
   "source": [
    "license_numbers"
   ]
  },
  {
   "cell_type": "code",
   "execution_count": 42,
   "id": "4bcde04c",
   "metadata": {},
   "outputs": [
    {
     "data": {
      "image/png": "[encoded data removed]",
      "text/plain": [
       "<Figure size 864x576 with 1 Axes>"
      ]
     },
     "metadata": {
      "needs_background": "light"
     },
     "output_type": "display_data"
    }
   ],
   "source": [
    "ax = churn['%_inactive'].plot(marker = 'o',figsize = (12,8))\n",
    "vals = ax.get_yticks()\n",
    "ax.set_yticklabels(['{:,.2%}'.format(x) for x in vals])\n",
    "ax = plt.title('Rolling 4m vendor churn')"
   ]
  },
  {
   "cell_type": "markdown",
   "id": "21b8b232",
   "metadata": {},
   "source": [
    "# Receiver wholesale price outlier check"
   ]
  },
  {
   "cell_type": "code",
   "execution_count": 43,
   "id": "7291b9c2",
   "metadata": {},
   "outputs": [],
   "source": [
    "def check_per_unit_incoming(incoming_transfer_df: pd.DataFrame) -> Tuple[pd.DataFrame,pd.DataFrame]:\n",
    "    incoming_transfer_df['per_unit_incoming'] = incoming_transfer_df['shipper_wholesale_price'] / incoming_transfer_df['shipped_quantity']\n",
    "    # by package ID\n",
    "    per_unit_incoming_package_sort = incoming_transfer_df[['package_id','per_unit_incoming']].groupby(['package_id']).mean().sort_values(by = 'per_unit_incoming',ascending = False).reset_index()\n",
    "    per_unit_incoming_package_top5 = per_unit_incoming_package_sort[0:5]\n",
    "    print('printing per unit incoming by package ID summary ...')\n",
    "    print(f'max per unit incoming: {per_unit_incoming_package_sort[\"per_unit_incoming\"][0]}' + f' from package ID: {per_unit_incoming_package_sort[\"package_id\"][0]}')\n",
    "    print(f'min per unit incoming: {per_unit_incoming_package_sort.dropna()[\"per_unit_incoming\"][-1:].values[0]}' + f' from package ID: {per_unit_incoming_package_sort.dropna()[\"package_id\"][-1:].values[0]}')\n",
    "    #print(per_unit_incoming_package_top5)\n",
    "    print('')\n",
    "    #by product name\n",
    "    per_unit_incoming_product_sort = incoming_transfer_df[['product_name','per_unit_incoming']].groupby(['product_name']).max().sort_values(by = 'per_unit_incoming',ascending = False).reset_index()\n",
    "    per_unit_incoming_product_top5 = per_unit_incoming_product_sort[0:5]\n",
    "    return per_unit_incoming_package_sort,per_unit_incoming_product_sort\n"
   ]
  },
  {
   "cell_type": "code",
   "execution_count": 44,
   "id": "00fbd51c",
   "metadata": {},
   "outputs": [
    {
     "name": "stdout",
     "output_type": "stream",
     "text": [
      "printing per unit incoming by package ID summary ...\n",
      "max per unit incoming: 18018.0 from package ID: 12987653\n",
      "min per unit incoming: 0.0003125 from package ID: 21032219\n",
      "\n"
     ]
    }
   ],
   "source": [
    "per_unit_incoming_package_sort,per_unit_incoming_product_sort = check_per_unit_incoming(company_incoming_transfer_packages_dataframe)\n"
   ]
  },
  {
   "cell_type": "code",
   "execution_count": 45,
   "id": "1f93f801",
   "metadata": {},
   "outputs": [
    {
     "name": "stdout",
     "output_type": "stream",
     "text": [
      "Top 5 per unit incoming packages\n"
     ]
    },
    {
     "data": {
      "text/html": [
       "<div>\n",
       "<style scoped>\n",
       "    .dataframe tbody tr th:only-of-type {\n",
       "        vertical-align: middle;\n",
       "    }\n",
       "\n",
       "    .dataframe tbody tr th {\n",
       "        vertical-align: top;\n",
       "    }\n",
       "\n",
       "    .dataframe thead th {\n",
       "        text-align: right;\n",
       "    }\n",
       "</style>\n",
       "<table border=\"1\" class=\"dataframe\">\n",
       "  <thead>\n",
       "    <tr style=\"text-align: right;\">\n",
       "      <th></th>\n",
       "      <th>package_id</th>\n",
       "      <th>per_unit_incoming</th>\n",
       "    </tr>\n",
       "  </thead>\n",
       "  <tbody>\n",
       "    <tr>\n",
       "      <th>0</th>\n",
       "      <td>12987653</td>\n",
       "      <td>18018.0</td>\n",
       "    </tr>\n",
       "    <tr>\n",
       "      <th>1</th>\n",
       "      <td>17188048</td>\n",
       "      <td>200.0</td>\n",
       "    </tr>\n",
       "    <tr>\n",
       "      <th>2</th>\n",
       "      <td>23053094</td>\n",
       "      <td>100.0</td>\n",
       "    </tr>\n",
       "    <tr>\n",
       "      <th>3</th>\n",
       "      <td>13780107</td>\n",
       "      <td>100.0</td>\n",
       "    </tr>\n",
       "    <tr>\n",
       "      <th>4</th>\n",
       "      <td>19312713</td>\n",
       "      <td>100.0</td>\n",
       "    </tr>\n",
       "    <tr>\n",
       "      <th>5</th>\n",
       "      <td>19312711</td>\n",
       "      <td>100.0</td>\n",
       "    </tr>\n",
       "    <tr>\n",
       "      <th>6</th>\n",
       "      <td>11126902</td>\n",
       "      <td>100.0</td>\n",
       "    </tr>\n",
       "    <tr>\n",
       "      <th>7</th>\n",
       "      <td>11126905</td>\n",
       "      <td>100.0</td>\n",
       "    </tr>\n",
       "    <tr>\n",
       "      <th>8</th>\n",
       "      <td>23511057</td>\n",
       "      <td>100.0</td>\n",
       "    </tr>\n",
       "    <tr>\n",
       "      <th>9</th>\n",
       "      <td>23512311</td>\n",
       "      <td>100.0</td>\n",
       "    </tr>\n",
       "    <tr>\n",
       "      <th>10</th>\n",
       "      <td>23512310</td>\n",
       "      <td>100.0</td>\n",
       "    </tr>\n",
       "    <tr>\n",
       "      <th>11</th>\n",
       "      <td>23511495</td>\n",
       "      <td>100.0</td>\n",
       "    </tr>\n",
       "    <tr>\n",
       "      <th>12</th>\n",
       "      <td>23051173</td>\n",
       "      <td>100.0</td>\n",
       "    </tr>\n",
       "    <tr>\n",
       "      <th>13</th>\n",
       "      <td>15577884</td>\n",
       "      <td>100.0</td>\n",
       "    </tr>\n",
       "    <tr>\n",
       "      <th>14</th>\n",
       "      <td>21429497</td>\n",
       "      <td>100.0</td>\n",
       "    </tr>\n",
       "    <tr>\n",
       "      <th>15</th>\n",
       "      <td>21540906</td>\n",
       "      <td>100.0</td>\n",
       "    </tr>\n",
       "    <tr>\n",
       "      <th>16</th>\n",
       "      <td>23051172</td>\n",
       "      <td>100.0</td>\n",
       "    </tr>\n",
       "    <tr>\n",
       "      <th>17</th>\n",
       "      <td>13780106</td>\n",
       "      <td>100.0</td>\n",
       "    </tr>\n",
       "    <tr>\n",
       "      <th>18</th>\n",
       "      <td>3426162</td>\n",
       "      <td>90.0</td>\n",
       "    </tr>\n",
       "    <tr>\n",
       "      <th>19</th>\n",
       "      <td>3426163</td>\n",
       "      <td>90.0</td>\n",
       "    </tr>\n",
       "  </tbody>\n",
       "</table>\n",
       "</div>"
      ],
      "text/plain": [
       "   package_id  per_unit_incoming\n",
       "0    12987653            18018.0\n",
       "1    17188048              200.0\n",
       "2    23053094              100.0\n",
       "3    13780107              100.0\n",
       "4    19312713              100.0\n",
       "5    19312711              100.0\n",
       "6    11126902              100.0\n",
       "7    11126905              100.0\n",
       "8    23511057              100.0\n",
       "9    23512311              100.0\n",
       "10   23512310              100.0\n",
       "11   23511495              100.0\n",
       "12   23051173              100.0\n",
       "13   15577884              100.0\n",
       "14   21429497              100.0\n",
       "15   21540906              100.0\n",
       "16   23051172              100.0\n",
       "17   13780106              100.0\n",
       "18    3426162               90.0\n",
       "19    3426163               90.0"
      ]
     },
     "execution_count": 45,
     "metadata": {},
     "output_type": "execute_result"
    }
   ],
   "source": [
    "# top 5\n",
    "print('Top 5 per unit incoming packages')\n",
    "per_unit_incoming_package_sort.head(20)"
   ]
  },
  {
   "cell_type": "code",
   "execution_count": 46,
   "id": "acc93f68",
   "metadata": {},
   "outputs": [
    {
     "name": "stdout",
     "output_type": "stream",
     "text": [
      "Bottom 5 per unit incoming packages\n"
     ]
    },
    {
     "data": {
      "text/html": [
       "<div>\n",
       "<style scoped>\n",
       "    .dataframe tbody tr th:only-of-type {\n",
       "        vertical-align: middle;\n",
       "    }\n",
       "\n",
       "    .dataframe tbody tr th {\n",
       "        vertical-align: top;\n",
       "    }\n",
       "\n",
       "    .dataframe thead th {\n",
       "        text-align: right;\n",
       "    }\n",
       "</style>\n",
       "<table border=\"1\" class=\"dataframe\">\n",
       "  <thead>\n",
       "    <tr style=\"text-align: right;\">\n",
       "      <th></th>\n",
       "      <th>package_id</th>\n",
       "      <th>per_unit_incoming</th>\n",
       "    </tr>\n",
       "  </thead>\n",
       "  <tbody>\n",
       "    <tr>\n",
       "      <th>4596</th>\n",
       "      <td>13406396</td>\n",
       "      <td>0.000400</td>\n",
       "    </tr>\n",
       "    <tr>\n",
       "      <th>4597</th>\n",
       "      <td>5363090</td>\n",
       "      <td>0.000400</td>\n",
       "    </tr>\n",
       "    <tr>\n",
       "      <th>4598</th>\n",
       "      <td>13406395</td>\n",
       "      <td>0.000400</td>\n",
       "    </tr>\n",
       "    <tr>\n",
       "      <th>4599</th>\n",
       "      <td>3105181</td>\n",
       "      <td>0.000357</td>\n",
       "    </tr>\n",
       "    <tr>\n",
       "      <th>4600</th>\n",
       "      <td>21032219</td>\n",
       "      <td>0.000313</td>\n",
       "    </tr>\n",
       "  </tbody>\n",
       "</table>\n",
       "</div>"
      ],
      "text/plain": [
       "     package_id  per_unit_incoming\n",
       "4596   13406396           0.000400\n",
       "4597    5363090           0.000400\n",
       "4598   13406395           0.000400\n",
       "4599    3105181           0.000357\n",
       "4600   21032219           0.000313"
      ]
     },
     "execution_count": 46,
     "metadata": {},
     "output_type": "execute_result"
    }
   ],
   "source": [
    "print('Bottom 5 per unit incoming packages')\n",
    "per_unit_incoming_package_sort.dropna().tail(5)\n"
   ]
  },
  {
   "cell_type": "code",
   "execution_count": 47,
   "id": "9daf6bf3",
   "metadata": {},
   "outputs": [
    {
     "data": {
      "text/html": [
       "<div>\n",
       "<style scoped>\n",
       "    .dataframe tbody tr th:only-of-type {\n",
       "        vertical-align: middle;\n",
       "    }\n",
       "\n",
       "    .dataframe tbody tr th {\n",
       "        vertical-align: top;\n",
       "    }\n",
       "\n",
       "    .dataframe thead th {\n",
       "        text-align: right;\n",
       "    }\n",
       "</style>\n",
       "<table border=\"1\" class=\"dataframe\">\n",
       "  <thead>\n",
       "    <tr style=\"text-align: right;\">\n",
       "      <th></th>\n",
       "      <th>delivery_type</th>\n",
       "      <th>license_number</th>\n",
       "      <th>manifest_number</th>\n",
       "      <th>created_date</th>\n",
       "      <th>received_datetime</th>\n",
       "      <th>shipment_transaction_type</th>\n",
       "      <th>shipper_facility_license_number</th>\n",
       "      <th>shipper_facility_name</th>\n",
       "      <th>recipient_facility_license_number</th>\n",
       "      <th>recipient_facility_name</th>\n",
       "      <th>shipment_type_name</th>\n",
       "      <th>shipment_transaction_type_1</th>\n",
       "      <th>package_id</th>\n",
       "      <th>package_label</th>\n",
       "      <th>type</th>\n",
       "      <th>source_package_labels</th>\n",
       "      <th>source_harvest_names</th>\n",
       "      <th>shipment_package_state</th>\n",
       "      <th>is_testing_sample</th>\n",
       "      <th>is_trade_sample</th>\n",
       "      <th>product_category_name</th>\n",
       "      <th>product_name</th>\n",
       "      <th>package_lab_results_status</th>\n",
       "      <th>shipper_wholesale_price</th>\n",
       "      <th>shipped_quantity</th>\n",
       "      <th>shipped_unit_of_measure</th>\n",
       "      <th>receiver_wholesale_price</th>\n",
       "      <th>received_quantity</th>\n",
       "      <th>received_unit_of_measure</th>\n",
       "      <th>receiver_wholesale_price_1</th>\n",
       "      <th>item_unit_weight</th>\n",
       "      <th>item_unit_weight_unit_of_measure_name</th>\n",
       "      <th>per_unit_incoming</th>\n",
       "    </tr>\n",
       "  </thead>\n",
       "  <tbody>\n",
       "    <tr>\n",
       "      <th>2432</th>\n",
       "      <td>INCOMING_FROM_VENDOR</td>\n",
       "      <td>C9-0000323-LIC</td>\n",
       "      <td>0001766506</td>\n",
       "      <td>2021-04-03</td>\n",
       "      <td>2021-04-08 22:25:59+00:00</td>\n",
       "      <td>Wholesale</td>\n",
       "      <td>C11-0000586-LIC</td>\n",
       "      <td>JBTB HOLDINGS INC</td>\n",
       "      <td>C9-0000323-LIC</td>\n",
       "      <td>MAKE YOUR MARK SF INC</td>\n",
       "      <td>Wholesale Manifest</td>\n",
       "      <td>Wholesale</td>\n",
       "      <td>12987653</td>\n",
       "      <td>1A4060300008D22000163792</td>\n",
       "      <td>transfer</td>\n",
       "      <td>1A4060300008D22000160454</td>\n",
       "      <td>191029BD, 191029BLJ, 191030BD, 20' #1, 20' #2,...</td>\n",
       "      <td>Accepted</td>\n",
       "      <td>False</td>\n",
       "      <td>False</td>\n",
       "      <td>Vape Cartridge (volume - each)</td>\n",
       "      <td>STIIIZY - Blue Burst Pod - 1.0g</td>\n",
       "      <td>passed</td>\n",
       "      <td>630630.0</td>\n",
       "      <td>35.0</td>\n",
       "      <td>Each</td>\n",
       "      <td>630630.0</td>\n",
       "      <td>35.0</td>\n",
       "      <td>Each</td>\n",
       "      <td>630630.0</td>\n",
       "      <td>NaN</td>\n",
       "      <td>None</td>\n",
       "      <td>18018.0</td>\n",
       "    </tr>\n",
       "  </tbody>\n",
       "</table>\n",
       "</div>"
      ],
      "text/plain": [
       "             delivery_type  license_number manifest_number created_date  \\\n",
       "2432  INCOMING_FROM_VENDOR  C9-0000323-LIC      0001766506   2021-04-03   \n",
       "\n",
       "             received_datetime shipment_transaction_type  \\\n",
       "2432 2021-04-08 22:25:59+00:00                 Wholesale   \n",
       "\n",
       "     shipper_facility_license_number shipper_facility_name  \\\n",
       "2432                 C11-0000586-LIC     JBTB HOLDINGS INC   \n",
       "\n",
       "     recipient_facility_license_number recipient_facility_name  \\\n",
       "2432                    C9-0000323-LIC   MAKE YOUR MARK SF INC   \n",
       "\n",
       "      shipment_type_name shipment_transaction_type_1 package_id  \\\n",
       "2432  Wholesale Manifest                   Wholesale   12987653   \n",
       "\n",
       "                 package_label      type     source_package_labels  \\\n",
       "2432  1A4060300008D22000163792  transfer  1A4060300008D22000160454   \n",
       "\n",
       "                                   source_harvest_names  \\\n",
       "2432  191029BD, 191029BLJ, 191030BD, 20' #1, 20' #2,...   \n",
       "\n",
       "     shipment_package_state  is_testing_sample  is_trade_sample  \\\n",
       "2432               Accepted              False            False   \n",
       "\n",
       "               product_category_name                     product_name  \\\n",
       "2432  Vape Cartridge (volume - each)  STIIIZY - Blue Burst Pod - 1.0g   \n",
       "\n",
       "     package_lab_results_status  shipper_wholesale_price  shipped_quantity  \\\n",
       "2432                     passed                 630630.0              35.0   \n",
       "\n",
       "     shipped_unit_of_measure  receiver_wholesale_price  received_quantity  \\\n",
       "2432                    Each                  630630.0               35.0   \n",
       "\n",
       "     received_unit_of_measure  receiver_wholesale_price_1  item_unit_weight  \\\n",
       "2432                     Each                    630630.0               NaN   \n",
       "\n",
       "     item_unit_weight_unit_of_measure_name  per_unit_incoming  \n",
       "2432                                  None            18018.0  "
      ]
     },
     "execution_count": 47,
     "metadata": {},
     "output_type": "execute_result"
    }
   ],
   "source": [
    "# look at large cost items if any\n",
    "company_incoming_transfer_packages_dataframe[company_incoming_transfer_packages_dataframe['per_unit_incoming'] > 10000]"
   ]
  },
  {
   "cell_type": "markdown",
   "id": "84b21f91-5b47-4407-8579-7e29714d60e4",
   "metadata": {},
   "source": [
    "# COGS analysis"
   ]
  },
  {
   "cell_type": "code",
   "execution_count": 48,
   "id": "e57a2ec3",
   "metadata": {},
   "outputs": [],
   "source": [
    "def cogs_analysis(df_in:pd.DataFrame,df_sales:pd.DataFrame,freq: str) -> Tuple[pd.DataFrame,pd.DataFrame]:\n",
    "    df_sales['per_unit'] = df_sales['tx_total_price'] / df_sales['tx_quantity_sold']\n",
    "    # set frequency\n",
    "    if freq == 'monthly':\n",
    "        df_sales['date'] = df_sales['sales_datetime'].dt.strftime(\"%Y-%m\")\n",
    "    elif freq == 'weekly':\n",
    "        df_sales['date'] = df_sales['sales_datetime'].dt.strftime(\"%Y-%W\")\n",
    "        df_sales['week'] = df_sales['sales_datetime'].dt.strftime(\"%W\")\n",
    "    # total # of trxns\n",
    "    s_total_count = df_sales.groupby('date')['tx_total_price'].count()\n",
    "    df_total_count = pd.Series(s_total_count).to_frame()\n",
    "    df_total_count = df_total_count.reset_index()\n",
    "    df_total_count.rename(columns={'tx_total_price':'total_count'}, inplace=True)\n",
    "    # revenue\n",
    "    s_revenue = df_sales.groupby('date')['tx_total_price'].sum()\n",
    "    df_revenue = pd.Series(s_revenue).to_frame()\n",
    "    df_revenue = df_revenue.reset_index()\n",
    "    df_revenue.rename(columns={'tx_total_price': 'revenue'}, inplace=True)\n",
    "\n",
    "    df_in['per_unit_incoming'] = df_in['shipper_wholesale_price'] / df_in['shipped_quantity']\n",
    "    \n",
    "    # per unit price by package id\n",
    "    df_in_price = df_in[df_in['shipper_wholesale_price'].notnull()]\n",
    "    average_incoming_package_id = df_in_price.groupby('package_id')['per_unit_incoming'].mean()\n",
    "    df_avg_incoming_price = pd.Series(average_incoming_package_id).to_frame()\n",
    "    df_avg_incoming_price = df_avg_incoming_price.reset_index()\n",
    "    # per unit price by product name\n",
    "    average_incoming_product = df_in_price.groupby('product_name')['per_unit_incoming'].mean()\n",
    "    df_avg_product = pd.Series(average_incoming_product).to_frame()\n",
    "    df_avg_product = df_avg_product.reset_index()\n",
    "    df_avg_product.rename(columns={'per_unit_incoming':'per_unit_product'}, inplace=True)\n",
    "\n",
    "    # merge with (cogs by package id)\n",
    "    df_cogs_package_id = pd.merge(df_sales, df_avg_incoming_price, left_on='tx_package_id', right_on='package_id', how='left')\n",
    "    df_cogs_package_id['total_incoming'] = df_cogs_package_id['per_unit_incoming'] * df_cogs_package_id['tx_quantity_sold']\n",
    "    df_cogs_package_id.replace([numpy.inf], numpy.nan, inplace=True)\n",
    "    df_cogs_package_id_notnull = df_cogs_package_id[df_cogs_package_id['total_incoming'].notnull()]\n",
    "\n",
    "    # sum cogs by package id\n",
    "    s_cogs = df_cogs_package_id_notnull.groupby('date')['total_incoming'].sum()\n",
    "    df_cogs_id = pd.Series(s_cogs).to_frame()\n",
    "    df_cogs_id = df_cogs_id.reset_index()\n",
    "    # count # of trxn by package id\n",
    "    s_cogs_count = df_cogs_package_id_notnull.groupby('date')['total_incoming'].count()\n",
    "    df_cogs_count = pd.Series(s_cogs_count).to_frame()\n",
    "    df_cogs_count = df_cogs_count.reset_index()\n",
    "    df_cogs_count.rename(columns={'total_incoming':'count_incoming'}, inplace=True)\n",
    "    \n",
    "    # merge with (cogs by product name)\n",
    "    df_cogs_average_product = pd.merge(df_cogs_package_id, df_avg_product, left_on='tx_product_name', right_on='product_name', how='left')\n",
    "\n",
    "    df_cogs_average_product['total_product'] = df_cogs_average_product['tx_quantity_sold'] * df_cogs_average_product['per_unit_product']\n",
    "    df_cogs_null = df_cogs_average_product[df_cogs_average_product['per_unit_incoming'].isnull()]\n",
    "    df_cogs_product = df_cogs_null[df_cogs_null['per_unit_product'].notnull()]\n",
    "    # sum cogs filldown by product name\n",
    "    product_sum = df_cogs_product.groupby('date')['total_product'].sum()\n",
    "    df_product_sum = pd.Series(product_sum).to_frame()\n",
    "    df_product_sum = df_product_sum.reset_index()\n",
    "    df_product_sum.rename(columns={'total_product':'product_sum'}, inplace=True)\n",
    "    # count # of trxn filldown by product name\n",
    "    product_count = df_cogs_product.groupby('date')['total_product'].count()\n",
    "    df_product_count = pd.Series(product_count).to_frame()\n",
    "    df_product_count = df_product_count.reset_index()\n",
    "    df_product_count.rename(columns={'total_product':'product_count'}, inplace=True)\n",
    "    df_cogs_product_df = pd.merge(df_product_sum, df_product_count)\n",
    "    \n",
    "    # prepare summary\n",
    "    df_summary = pd.merge(df_revenue, df_cogs_product_df, how='left')\n",
    "    df_summary = pd.merge(df_summary, df_cogs_id, how='left')\n",
    "    df_summary['product_sum'] = df_summary['product_sum'].fillna(0)\n",
    "    df_summary['product_count'] = df_summary['product_count'].fillna(0)\n",
    "    # total cogs = by product id cogs + by product name cogs\n",
    "    df_summary['cogs'] = df_summary['total_incoming'] + df_summary['product_sum']\n",
    "    df_summary = pd.merge(df_summary, df_cogs_count)\n",
    "    df_summary = pd.merge(df_summary, df_total_count)\n",
    "    # total count = by package id count + by product count\n",
    "    df_summary['total_count_incoming'] = df_summary['count_incoming'] + df_summary['product_count']\n",
    "    df_summary['margin_$'] = df_summary['revenue'] - df_summary['cogs']\n",
    "    df_summary['margin_%'] = df_summary['margin_$'] / df_summary['revenue']\n",
    "    df_summary['coverage'] = df_summary['total_count_incoming'] / df_summary['total_count']\n",
    "    df_summary_simp = df_summary[['date', 'revenue', 'cogs', 'margin_$', 'margin_%', 'total_count_incoming','product_count','count_incoming', 'coverage','total_count']]\n",
    "    \n",
    "    return df_summary_simp,df_cogs_average_product\n",
    "\n",
    "\n"
   ]
  },
  {
   "cell_type": "code",
   "execution_count": 49,
   "id": "594885ff",
   "metadata": {},
   "outputs": [],
   "source": [
    "def cogs_analysis_uom(df_in:pd.DataFrame,df_sales:pd.DataFrame,freq: str) -> Tuple[pd.DataFrame,pd.DataFrame]:\n",
    "    df_sales['per_unit'] = df_sales['tx_total_price'] / df_sales['tx_quantity_sold']\n",
    "    # set frequency\n",
    "    if freq == 'monthly':\n",
    "        df_sales['date'] = df_sales['sales_datetime'].dt.strftime(\"%Y-%m\")\n",
    "    elif freq == 'weekly':\n",
    "        df_sales['date'] = df_sales['sales_datetime'].dt.strftime(\"%Y-%W\")\n",
    "        df_sales['week'] = df_sales['sales_datetime'].dt.strftime(\"%W\")\n",
    "    # total # of trxns\n",
    "    s_total_count = df_sales.groupby('date')['tx_total_price'].count()\n",
    "    df_total_count = pd.Series(s_total_count).to_frame()\n",
    "    df_total_count = df_total_count.reset_index()\n",
    "    df_total_count.rename(columns={'tx_total_price':'total_count'}, inplace=True)\n",
    "    # revenue\n",
    "    s_revenue = df_sales.groupby('date')['tx_total_price'].sum()\n",
    "    df_revenue = pd.Series(s_revenue).to_frame()\n",
    "    df_revenue = df_revenue.reset_index()\n",
    "    df_revenue.rename(columns={'tx_total_price': 'revenue'}, inplace=True)\n",
    "\n",
    "    df_in['per_unit_incoming'] = df_in['shipper_wholesale_price'] / df_in['shipped_quantity']\n",
    "    \n",
    "    # per unit price by package id\n",
    "    df_in_price = df_in[df_in['shipper_wholesale_price'].notnull()]\n",
    "    average_incoming_package_id = df_in_price.groupby(['package_id','shipped_unit_of_measure'])['per_unit_incoming'].mean()\n",
    "    df_avg_incoming_price = pd.Series(average_incoming_package_id).to_frame()\n",
    "    df_avg_incoming_price = df_avg_incoming_price.reset_index()\n",
    "    # per unit price by product name\n",
    "    average_incoming_product = df_in_price.groupby(['product_name','shipped_unit_of_measure'])['per_unit_incoming'].mean()\n",
    "    df_avg_product = pd.Series(average_incoming_product).to_frame()\n",
    "    df_avg_product = df_avg_product.reset_index()\n",
    "    df_avg_product.rename(columns={'per_unit_incoming':'per_unit_product'}, inplace=True)\n",
    "\n",
    "    # merge with (cogs by package id)\n",
    "    df_cogs_package_id = pd.merge(df_sales, df_avg_incoming_price, left_on=['tx_package_id','tx_unit_of_measure'], right_on=['package_id','shipped_unit_of_measure'], how='left')\n",
    "    df_cogs_package_id['total_incoming'] = df_cogs_package_id['per_unit_incoming'] * df_cogs_package_id['tx_quantity_sold']\n",
    "    df_cogs_package_id.replace([numpy.inf], numpy.nan, inplace=True)\n",
    "    df_cogs_package_id_notnull = df_cogs_package_id[df_cogs_package_id['total_incoming'].notnull()]\n",
    "\n",
    "    # sum cogs by package id\n",
    "    s_cogs = df_cogs_package_id_notnull.groupby('date')['total_incoming'].sum()\n",
    "    df_cogs_id = pd.Series(s_cogs).to_frame()\n",
    "    df_cogs_id = df_cogs_id.reset_index()\n",
    "    # count # of trxn by package id\n",
    "    s_cogs_count = df_cogs_package_id_notnull.groupby('date')['total_incoming'].count()\n",
    "    df_cogs_count = pd.Series(s_cogs_count).to_frame()\n",
    "    df_cogs_count = df_cogs_count.reset_index()\n",
    "    df_cogs_count.rename(columns={'total_incoming':'count_incoming'}, inplace=True)\n",
    "    \n",
    "    # merge with (cogs by product name)\n",
    "    df_cogs_average_product = pd.merge(df_cogs_package_id, df_avg_product, left_on=['tx_product_name','tx_unit_of_measure'], right_on=['product_name','shipped_unit_of_measure'], how='left')\n",
    "    df_cogs_average_product['total_product'] = df_cogs_average_product['tx_quantity_sold'] * df_cogs_average_product['per_unit_product']\n",
    "    df_cogs_null = df_cogs_average_product[df_cogs_average_product['per_unit_incoming'].isnull()]\n",
    "    df_cogs_product = df_cogs_null[df_cogs_null['per_unit_product'].notnull()]\n",
    "    # sum cogs filldown by product name\n",
    "    product_sum = df_cogs_product.groupby('date')['total_product'].sum()\n",
    "    df_product_sum = pd.Series(product_sum).to_frame()\n",
    "    df_product_sum = df_product_sum.reset_index()\n",
    "    df_product_sum.rename(columns={'total_product':'product_sum'}, inplace=True)\n",
    "    # count # of trxn filldown by product name\n",
    "    product_count = df_cogs_product.groupby('date')['total_product'].count()\n",
    "    df_product_count = pd.Series(product_count).to_frame()\n",
    "    df_product_count = df_product_count.reset_index()\n",
    "    df_product_count.rename(columns={'total_product':'product_count'}, inplace=True)\n",
    "    df_cogs_product_df = pd.merge(df_product_sum, df_product_count)\n",
    "    \n",
    "    # prepare summary\n",
    "    df_summary = pd.merge(df_revenue, df_cogs_product_df, how='left')\n",
    "    df_summary = pd.merge(df_summary, df_cogs_id, how='left')\n",
    "    df_summary['product_sum'] = df_summary['product_sum'].fillna(0)\n",
    "    df_summary['product_count'] = df_summary['product_count'].fillna(0)\n",
    "    # total cogs = by product id cogs + by product name cogs\n",
    "    df_summary['cogs'] = df_summary['total_incoming'] + df_summary['product_sum']\n",
    "    df_summary = pd.merge(df_summary, df_cogs_count)\n",
    "    df_summary = pd.merge(df_summary, df_total_count)\n",
    "    # total count = by package id count + by product count\n",
    "    df_summary['total_count_incoming'] = df_summary['count_incoming'] + df_summary['product_count']\n",
    "    df_summary['margin_$'] = df_summary['revenue'] - df_summary['cogs']\n",
    "    df_summary['margin_%'] = df_summary['margin_$'] / df_summary['revenue']\n",
    "    df_summary['coverage'] = df_summary['total_count_incoming'] / df_summary['total_count']\n",
    "    df_summary_simp = df_summary[['date', 'revenue', 'cogs', 'margin_$', 'margin_%', 'total_count_incoming','product_count','count_incoming', 'coverage','total_count']]\n",
    "    \n",
    "    return df_summary_simp,df_avg_product\n",
    "\n",
    "\n"
   ]
  },
  {
   "cell_type": "code",
   "execution_count": 50,
   "id": "2be2ff6a",
   "metadata": {},
   "outputs": [],
   "source": [
    "df_in = company_incoming_transfer_packages_dataframe[company_incoming_transfer_packages_dataframe['per_unit_incoming'] <= 10000]\n",
    "df_inventory = company_inventory_packages_dataframe\n",
    "df_sales = deduped_sales_receipts_with_transactions_dataframe"
   ]
  },
  {
   "cell_type": "markdown",
   "id": "f3ea6a61",
   "metadata": {},
   "source": [
    "## For Others"
   ]
  },
  {
   "cell_type": "code",
   "execution_count": 51,
   "id": "4126dddb",
   "metadata": {},
   "outputs": [],
   "source": [
    "df_summary_simp,df_cogs_average_product = cogs_analysis(df_in,df_sales,'monthly')\n",
    "#tax treatment\n",
    "df_summary_simp['revenue_after_tax'] = df_summary_simp['revenue'] * 1.15\n",
    "df_summary_simp['cogs_after_tax'] = df_summary_simp['cogs'] * 1.27\n",
    "df_summary_simp['margin_$_after_tax'] = df_summary_simp['revenue_after_tax'] - df_summary_simp['cogs_after_tax']\n",
    "df_summary_simp['margin_%_after_tax'] = df_summary_simp['margin_$_after_tax'] / df_summary_simp['revenue_after_tax']\n",
    "# past quarter pre tax\n",
    "df_summary_simp['gm_past_quarter'] = df_summary_simp[['margin_%']].rolling(3).mean().values\n",
    "df_summary_simp['gm_past_2quarters'] = df_summary_simp[['margin_%']].rolling(6).mean().values\n",
    "df_summary_simp['gm_past_3quarters'] = df_summary_simp[['margin_%']].rolling(9).mean().values\n",
    "df_summary_simp['sum_cogs_past_3months'] = df_summary_simp[['cogs']].rolling(3).sum().values\n",
    "# past quarter after tax\n",
    "df_summary_simp['gm_past_quarter_after_tax'] = df_summary_simp[['margin_%_after_tax']].rolling(3).mean().values\n",
    "df_summary_simp['gm_past_2quarters_after_tax'] = df_summary_simp[['margin_%_after_tax']].rolling(6).mean().values\n",
    "df_summary_simp['gm_past_3quarters_after_tax'] = df_summary_simp[['margin_%_after_tax']].rolling(9).mean().values\n",
    "# revenue change\n",
    "df_summary_simp['revenue_change'] = df_summary_simp['revenue'].pct_change()\n",
    "df_summary_simp.index = df_summary_simp.date \n"
   ]
  },
  {
   "cell_type": "code",
   "execution_count": 52,
   "id": "ee1fa6bd",
   "metadata": {},
   "outputs": [
    {
     "data": {
      "text/plain": [
       "0.989387172603436"
      ]
     },
     "execution_count": 52,
     "metadata": {},
     "output_type": "execute_result"
    }
   ],
   "source": [
    "df_summary_simp['coverage'].mean()"
   ]
  },
  {
   "cell_type": "code",
   "execution_count": 53,
   "id": "90cf57b0",
   "metadata": {},
   "outputs": [
    {
     "data": {
      "text/html": [
       "<div>\n",
       "<style scoped>\n",
       "    .dataframe tbody tr th:only-of-type {\n",
       "        vertical-align: middle;\n",
       "    }\n",
       "\n",
       "    .dataframe tbody tr th {\n",
       "        vertical-align: top;\n",
       "    }\n",
       "\n",
       "    .dataframe thead th {\n",
       "        text-align: right;\n",
       "    }\n",
       "</style>\n",
       "<table border=\"1\" class=\"dataframe\">\n",
       "  <thead>\n",
       "    <tr style=\"text-align: right;\">\n",
       "      <th></th>\n",
       "      <th>date</th>\n",
       "      <th>revenue</th>\n",
       "      <th>cogs</th>\n",
       "      <th>margin_$</th>\n",
       "      <th>margin_%</th>\n",
       "      <th>total_count_incoming</th>\n",
       "      <th>product_count</th>\n",
       "      <th>count_incoming</th>\n",
       "      <th>coverage</th>\n",
       "      <th>total_count</th>\n",
       "      <th>revenue_after_tax</th>\n",
       "      <th>cogs_after_tax</th>\n",
       "      <th>margin_$_after_tax</th>\n",
       "      <th>margin_%_after_tax</th>\n",
       "      <th>gm_past_quarter</th>\n",
       "      <th>gm_past_2quarters</th>\n",
       "      <th>gm_past_3quarters</th>\n",
       "      <th>sum_cogs_past_3months</th>\n",
       "      <th>gm_past_quarter_after_tax</th>\n",
       "      <th>gm_past_2quarters_after_tax</th>\n",
       "      <th>gm_past_3quarters_after_tax</th>\n",
       "      <th>revenue_change</th>\n",
       "    </tr>\n",
       "    <tr>\n",
       "      <th>date</th>\n",
       "      <th></th>\n",
       "      <th></th>\n",
       "      <th></th>\n",
       "      <th></th>\n",
       "      <th></th>\n",
       "      <th></th>\n",
       "      <th></th>\n",
       "      <th></th>\n",
       "      <th></th>\n",
       "      <th></th>\n",
       "      <th></th>\n",
       "      <th></th>\n",
       "      <th></th>\n",
       "      <th></th>\n",
       "      <th></th>\n",
       "      <th></th>\n",
       "      <th></th>\n",
       "      <th></th>\n",
       "      <th></th>\n",
       "      <th></th>\n",
       "      <th></th>\n",
       "      <th></th>\n",
       "    </tr>\n",
       "  </thead>\n",
       "  <tbody>\n",
       "    <tr>\n",
       "      <th>2020-01</th>\n",
       "      <td>2020-01</td>\n",
       "      <td>32006.67</td>\n",
       "      <td>13921.532667</td>\n",
       "      <td>18085.137333</td>\n",
       "      <td>0.565043</td>\n",
       "      <td>819.0</td>\n",
       "      <td>77.0</td>\n",
       "      <td>742</td>\n",
       "      <td>0.863924</td>\n",
       "      <td>948</td>\n",
       "      <td>36807.6705</td>\n",
       "      <td>17680.346487</td>\n",
       "      <td>19127.324013</td>\n",
       "      <td>0.519656</td>\n",
       "      <td>NaN</td>\n",
       "      <td>NaN</td>\n",
       "      <td>NaN</td>\n",
       "      <td>NaN</td>\n",
       "      <td>NaN</td>\n",
       "      <td>NaN</td>\n",
       "      <td>NaN</td>\n",
       "      <td>NaN</td>\n",
       "    </tr>\n",
       "    <tr>\n",
       "      <th>2020-02</th>\n",
       "      <td>2020-02</td>\n",
       "      <td>58493.48</td>\n",
       "      <td>24960.558000</td>\n",
       "      <td>33532.922000</td>\n",
       "      <td>0.573276</td>\n",
       "      <td>1489.0</td>\n",
       "      <td>78.0</td>\n",
       "      <td>1411</td>\n",
       "      <td>0.893758</td>\n",
       "      <td>1666</td>\n",
       "      <td>67267.5020</td>\n",
       "      <td>31699.908660</td>\n",
       "      <td>35567.593340</td>\n",
       "      <td>0.528749</td>\n",
       "      <td>NaN</td>\n",
       "      <td>NaN</td>\n",
       "      <td>NaN</td>\n",
       "      <td>NaN</td>\n",
       "      <td>NaN</td>\n",
       "      <td>NaN</td>\n",
       "      <td>NaN</td>\n",
       "      <td>0.827540</td>\n",
       "    </tr>\n",
       "    <tr>\n",
       "      <th>2020-03</th>\n",
       "      <td>2020-03</td>\n",
       "      <td>109750.11</td>\n",
       "      <td>52557.535000</td>\n",
       "      <td>57192.575000</td>\n",
       "      <td>0.521116</td>\n",
       "      <td>2758.0</td>\n",
       "      <td>36.0</td>\n",
       "      <td>2722</td>\n",
       "      <td>0.987115</td>\n",
       "      <td>2794</td>\n",
       "      <td>126212.6265</td>\n",
       "      <td>66748.069450</td>\n",
       "      <td>59464.557050</td>\n",
       "      <td>0.471146</td>\n",
       "      <td>0.553145</td>\n",
       "      <td>NaN</td>\n",
       "      <td>NaN</td>\n",
       "      <td>91439.625667</td>\n",
       "      <td>0.506517</td>\n",
       "      <td>NaN</td>\n",
       "      <td>NaN</td>\n",
       "      <td>0.876279</td>\n",
       "    </tr>\n",
       "    <tr>\n",
       "      <th>2020-04</th>\n",
       "      <td>2020-04</td>\n",
       "      <td>139949.25</td>\n",
       "      <td>68316.725000</td>\n",
       "      <td>71632.525000</td>\n",
       "      <td>0.511846</td>\n",
       "      <td>3514.0</td>\n",
       "      <td>0.0</td>\n",
       "      <td>3514</td>\n",
       "      <td>0.997729</td>\n",
       "      <td>3522</td>\n",
       "      <td>160941.6375</td>\n",
       "      <td>86762.240750</td>\n",
       "      <td>74179.396750</td>\n",
       "      <td>0.460909</td>\n",
       "      <td>0.535413</td>\n",
       "      <td>NaN</td>\n",
       "      <td>NaN</td>\n",
       "      <td>145834.818000</td>\n",
       "      <td>0.486934</td>\n",
       "      <td>NaN</td>\n",
       "      <td>NaN</td>\n",
       "      <td>0.275163</td>\n",
       "    </tr>\n",
       "    <tr>\n",
       "      <th>2020-05</th>\n",
       "      <td>2020-05</td>\n",
       "      <td>155540.53</td>\n",
       "      <td>76684.730000</td>\n",
       "      <td>78855.800000</td>\n",
       "      <td>0.506979</td>\n",
       "      <td>3890.0</td>\n",
       "      <td>0.0</td>\n",
       "      <td>3890</td>\n",
       "      <td>0.999486</td>\n",
       "      <td>3892</td>\n",
       "      <td>178871.6095</td>\n",
       "      <td>97389.607100</td>\n",
       "      <td>81482.002400</td>\n",
       "      <td>0.455533</td>\n",
       "      <td>0.513314</td>\n",
       "      <td>NaN</td>\n",
       "      <td>NaN</td>\n",
       "      <td>197558.990000</td>\n",
       "      <td>0.462529</td>\n",
       "      <td>NaN</td>\n",
       "      <td>NaN</td>\n",
       "      <td>0.111407</td>\n",
       "    </tr>\n",
       "    <tr>\n",
       "      <th>2020-06</th>\n",
       "      <td>2020-06</td>\n",
       "      <td>175084.13</td>\n",
       "      <td>86453.783000</td>\n",
       "      <td>88630.347000</td>\n",
       "      <td>0.506216</td>\n",
       "      <td>4138.0</td>\n",
       "      <td>0.0</td>\n",
       "      <td>4138</td>\n",
       "      <td>1.000000</td>\n",
       "      <td>4138</td>\n",
       "      <td>201346.7495</td>\n",
       "      <td>109796.304410</td>\n",
       "      <td>91550.445090</td>\n",
       "      <td>0.454690</td>\n",
       "      <td>0.508347</td>\n",
       "      <td>0.530746</td>\n",
       "      <td>NaN</td>\n",
       "      <td>231455.238000</td>\n",
       "      <td>0.457044</td>\n",
       "      <td>0.481780</td>\n",
       "      <td>NaN</td>\n",
       "      <td>0.125650</td>\n",
       "    </tr>\n",
       "    <tr>\n",
       "      <th>2020-07</th>\n",
       "      <td>2020-07</td>\n",
       "      <td>177390.11</td>\n",
       "      <td>85920.877500</td>\n",
       "      <td>91469.232500</td>\n",
       "      <td>0.515639</td>\n",
       "      <td>4284.0</td>\n",
       "      <td>0.0</td>\n",
       "      <td>4284</td>\n",
       "      <td>1.000000</td>\n",
       "      <td>4284</td>\n",
       "      <td>203998.6265</td>\n",
       "      <td>109119.514425</td>\n",
       "      <td>94879.112075</td>\n",
       "      <td>0.465097</td>\n",
       "      <td>0.509611</td>\n",
       "      <td>0.522512</td>\n",
       "      <td>NaN</td>\n",
       "      <td>249059.390500</td>\n",
       "      <td>0.458440</td>\n",
       "      <td>0.472687</td>\n",
       "      <td>NaN</td>\n",
       "      <td>0.013171</td>\n",
       "    </tr>\n",
       "    <tr>\n",
       "      <th>2020-08</th>\n",
       "      <td>2020-08</td>\n",
       "      <td>181439.36</td>\n",
       "      <td>87586.082500</td>\n",
       "      <td>93853.277500</td>\n",
       "      <td>0.517271</td>\n",
       "      <td>4353.0</td>\n",
       "      <td>0.0</td>\n",
       "      <td>4353</td>\n",
       "      <td>1.000000</td>\n",
       "      <td>4353</td>\n",
       "      <td>208655.2640</td>\n",
       "      <td>111234.324775</td>\n",
       "      <td>97420.939225</td>\n",
       "      <td>0.466899</td>\n",
       "      <td>0.513042</td>\n",
       "      <td>0.513178</td>\n",
       "      <td>NaN</td>\n",
       "      <td>259960.743000</td>\n",
       "      <td>0.462229</td>\n",
       "      <td>0.462379</td>\n",
       "      <td>NaN</td>\n",
       "      <td>0.022827</td>\n",
       "    </tr>\n",
       "    <tr>\n",
       "      <th>2020-09</th>\n",
       "      <td>2020-09</td>\n",
       "      <td>166193.00</td>\n",
       "      <td>81380.561385</td>\n",
       "      <td>84812.438615</td>\n",
       "      <td>0.510325</td>\n",
       "      <td>3931.0</td>\n",
       "      <td>0.0</td>\n",
       "      <td>3931</td>\n",
       "      <td>1.000000</td>\n",
       "      <td>3931</td>\n",
       "      <td>191121.9500</td>\n",
       "      <td>103353.312958</td>\n",
       "      <td>87768.637042</td>\n",
       "      <td>0.459228</td>\n",
       "      <td>0.514412</td>\n",
       "      <td>0.511379</td>\n",
       "      <td>0.525301</td>\n",
       "      <td>254887.521385</td>\n",
       "      <td>0.463741</td>\n",
       "      <td>0.460393</td>\n",
       "      <td>0.475767</td>\n",
       "      <td>-0.084030</td>\n",
       "    </tr>\n",
       "    <tr>\n",
       "      <th>2020-10</th>\n",
       "      <td>2020-10</td>\n",
       "      <td>167239.04</td>\n",
       "      <td>81601.440693</td>\n",
       "      <td>85637.599307</td>\n",
       "      <td>0.512067</td>\n",
       "      <td>3970.0</td>\n",
       "      <td>0.0</td>\n",
       "      <td>3970</td>\n",
       "      <td>1.000000</td>\n",
       "      <td>3970</td>\n",
       "      <td>192324.8960</td>\n",
       "      <td>103633.829681</td>\n",
       "      <td>88691.066319</td>\n",
       "      <td>0.461152</td>\n",
       "      <td>0.513221</td>\n",
       "      <td>0.511416</td>\n",
       "      <td>0.519415</td>\n",
       "      <td>250568.084578</td>\n",
       "      <td>0.462427</td>\n",
       "      <td>0.460433</td>\n",
       "      <td>0.469267</td>\n",
       "      <td>0.006294</td>\n",
       "    </tr>\n",
       "    <tr>\n",
       "      <th>2020-11</th>\n",
       "      <td>2020-11</td>\n",
       "      <td>149926.86</td>\n",
       "      <td>72504.344653</td>\n",
       "      <td>77422.515347</td>\n",
       "      <td>0.516402</td>\n",
       "      <td>3864.0</td>\n",
       "      <td>0.0</td>\n",
       "      <td>3864</td>\n",
       "      <td>1.000000</td>\n",
       "      <td>3864</td>\n",
       "      <td>172415.8890</td>\n",
       "      <td>92080.517709</td>\n",
       "      <td>80335.371291</td>\n",
       "      <td>0.465939</td>\n",
       "      <td>0.512931</td>\n",
       "      <td>0.512987</td>\n",
       "      <td>0.513096</td>\n",
       "      <td>235486.346731</td>\n",
       "      <td>0.462107</td>\n",
       "      <td>0.462168</td>\n",
       "      <td>0.462288</td>\n",
       "      <td>-0.103518</td>\n",
       "    </tr>\n",
       "    <tr>\n",
       "      <th>2020-12</th>\n",
       "      <td>2020-12</td>\n",
       "      <td>162974.97</td>\n",
       "      <td>79380.028808</td>\n",
       "      <td>83594.941192</td>\n",
       "      <td>0.512931</td>\n",
       "      <td>4066.0</td>\n",
       "      <td>0.0</td>\n",
       "      <td>4066</td>\n",
       "      <td>1.000000</td>\n",
       "      <td>4066</td>\n",
       "      <td>187421.2155</td>\n",
       "      <td>100812.636586</td>\n",
       "      <td>86608.578914</td>\n",
       "      <td>0.462107</td>\n",
       "      <td>0.513800</td>\n",
       "      <td>0.514106</td>\n",
       "      <td>0.512186</td>\n",
       "      <td>233485.814154</td>\n",
       "      <td>0.463066</td>\n",
       "      <td>0.463404</td>\n",
       "      <td>0.461284</td>\n",
       "      <td>0.087030</td>\n",
       "    </tr>\n",
       "    <tr>\n",
       "      <th>2021-01</th>\n",
       "      <td>2021-01</td>\n",
       "      <td>155429.69</td>\n",
       "      <td>74599.697500</td>\n",
       "      <td>80829.992500</td>\n",
       "      <td>0.520042</td>\n",
       "      <td>3826.0</td>\n",
       "      <td>0.0</td>\n",
       "      <td>3826</td>\n",
       "      <td>0.996354</td>\n",
       "      <td>3840</td>\n",
       "      <td>178744.1435</td>\n",
       "      <td>94741.615825</td>\n",
       "      <td>84002.527675</td>\n",
       "      <td>0.469960</td>\n",
       "      <td>0.516458</td>\n",
       "      <td>0.514840</td>\n",
       "      <td>0.513097</td>\n",
       "      <td>226484.070960</td>\n",
       "      <td>0.466002</td>\n",
       "      <td>0.464214</td>\n",
       "      <td>0.462290</td>\n",
       "      <td>-0.046297</td>\n",
       "    </tr>\n",
       "    <tr>\n",
       "      <th>2021-02</th>\n",
       "      <td>2021-02</td>\n",
       "      <td>131654.94</td>\n",
       "      <td>64104.520000</td>\n",
       "      <td>67550.420000</td>\n",
       "      <td>0.513087</td>\n",
       "      <td>3200.0</td>\n",
       "      <td>0.0</td>\n",
       "      <td>3200</td>\n",
       "      <td>1.000000</td>\n",
       "      <td>3200</td>\n",
       "      <td>151403.1810</td>\n",
       "      <td>81412.740400</td>\n",
       "      <td>69990.440600</td>\n",
       "      <td>0.462279</td>\n",
       "      <td>0.515353</td>\n",
       "      <td>0.514142</td>\n",
       "      <td>0.513775</td>\n",
       "      <td>218084.246308</td>\n",
       "      <td>0.464782</td>\n",
       "      <td>0.463444</td>\n",
       "      <td>0.463039</td>\n",
       "      <td>-0.152961</td>\n",
       "    </tr>\n",
       "    <tr>\n",
       "      <th>2021-03</th>\n",
       "      <td>2021-03</td>\n",
       "      <td>162168.27</td>\n",
       "      <td>81224.790000</td>\n",
       "      <td>80943.480000</td>\n",
       "      <td>0.499133</td>\n",
       "      <td>4053.0</td>\n",
       "      <td>0.0</td>\n",
       "      <td>4053</td>\n",
       "      <td>1.000000</td>\n",
       "      <td>4053</td>\n",
       "      <td>186493.5105</td>\n",
       "      <td>103155.483300</td>\n",
       "      <td>83338.027200</td>\n",
       "      <td>0.446868</td>\n",
       "      <td>0.510754</td>\n",
       "      <td>0.512277</td>\n",
       "      <td>0.512988</td>\n",
       "      <td>219929.007500</td>\n",
       "      <td>0.459702</td>\n",
       "      <td>0.461384</td>\n",
       "      <td>0.462170</td>\n",
       "      <td>0.231767</td>\n",
       "    </tr>\n",
       "    <tr>\n",
       "      <th>2021-04</th>\n",
       "      <td>2021-04</td>\n",
       "      <td>161352.58</td>\n",
       "      <td>79101.280400</td>\n",
       "      <td>82251.299600</td>\n",
       "      <td>0.509761</td>\n",
       "      <td>4270.0</td>\n",
       "      <td>16.0</td>\n",
       "      <td>4254</td>\n",
       "      <td>1.000000</td>\n",
       "      <td>4270</td>\n",
       "      <td>185555.4670</td>\n",
       "      <td>100458.626108</td>\n",
       "      <td>85096.840892</td>\n",
       "      <td>0.458606</td>\n",
       "      <td>0.507327</td>\n",
       "      <td>0.511893</td>\n",
       "      <td>0.512335</td>\n",
       "      <td>224430.590400</td>\n",
       "      <td>0.455918</td>\n",
       "      <td>0.460960</td>\n",
       "      <td>0.461449</td>\n",
       "      <td>-0.005030</td>\n",
       "    </tr>\n",
       "    <tr>\n",
       "      <th>2021-05</th>\n",
       "      <td>2021-05</td>\n",
       "      <td>169113.99</td>\n",
       "      <td>82414.746913</td>\n",
       "      <td>86699.243087</td>\n",
       "      <td>0.512667</td>\n",
       "      <td>4483.0</td>\n",
       "      <td>15.0</td>\n",
       "      <td>4468</td>\n",
       "      <td>1.000000</td>\n",
       "      <td>4483</td>\n",
       "      <td>194481.0885</td>\n",
       "      <td>104666.728579</td>\n",
       "      <td>89814.359921</td>\n",
       "      <td>0.461815</td>\n",
       "      <td>0.507187</td>\n",
       "      <td>0.511270</td>\n",
       "      <td>0.511824</td>\n",
       "      <td>242740.817313</td>\n",
       "      <td>0.455763</td>\n",
       "      <td>0.460272</td>\n",
       "      <td>0.460884</td>\n",
       "      <td>0.048102</td>\n",
       "    </tr>\n",
       "    <tr>\n",
       "      <th>2021-06</th>\n",
       "      <td>2021-06</td>\n",
       "      <td>170428.97</td>\n",
       "      <td>85003.179587</td>\n",
       "      <td>85425.790413</td>\n",
       "      <td>0.501240</td>\n",
       "      <td>4403.0</td>\n",
       "      <td>3.0</td>\n",
       "      <td>4400</td>\n",
       "      <td>1.000000</td>\n",
       "      <td>4403</td>\n",
       "      <td>195993.3155</td>\n",
       "      <td>107954.038076</td>\n",
       "      <td>88039.277424</td>\n",
       "      <td>0.449195</td>\n",
       "      <td>0.507890</td>\n",
       "      <td>0.509322</td>\n",
       "      <td>0.510814</td>\n",
       "      <td>246519.206900</td>\n",
       "      <td>0.456539</td>\n",
       "      <td>0.458121</td>\n",
       "      <td>0.459769</td>\n",
       "      <td>0.007776</td>\n",
       "    </tr>\n",
       "    <tr>\n",
       "      <th>2021-07</th>\n",
       "      <td>2021-07</td>\n",
       "      <td>174425.04</td>\n",
       "      <td>87001.086667</td>\n",
       "      <td>87423.953333</td>\n",
       "      <td>0.501212</td>\n",
       "      <td>4512.0</td>\n",
       "      <td>0.0</td>\n",
       "      <td>4512</td>\n",
       "      <td>1.000000</td>\n",
       "      <td>4512</td>\n",
       "      <td>200588.7960</td>\n",
       "      <td>110491.380067</td>\n",
       "      <td>90097.415933</td>\n",
       "      <td>0.449165</td>\n",
       "      <td>0.505040</td>\n",
       "      <td>0.506183</td>\n",
       "      <td>0.509608</td>\n",
       "      <td>254419.013167</td>\n",
       "      <td>0.453392</td>\n",
       "      <td>0.454655</td>\n",
       "      <td>0.458437</td>\n",
       "      <td>0.023447</td>\n",
       "    </tr>\n",
       "    <tr>\n",
       "      <th>2021-08</th>\n",
       "      <td>2021-08</td>\n",
       "      <td>172890.19</td>\n",
       "      <td>85367.473542</td>\n",
       "      <td>87522.716458</td>\n",
       "      <td>0.506233</td>\n",
       "      <td>4405.0</td>\n",
       "      <td>0.0</td>\n",
       "      <td>4405</td>\n",
       "      <td>1.000000</td>\n",
       "      <td>4405</td>\n",
       "      <td>198823.7185</td>\n",
       "      <td>108416.691398</td>\n",
       "      <td>90407.027102</td>\n",
       "      <td>0.454709</td>\n",
       "      <td>0.502895</td>\n",
       "      <td>0.505041</td>\n",
       "      <td>0.508479</td>\n",
       "      <td>257371.739796</td>\n",
       "      <td>0.451023</td>\n",
       "      <td>0.453393</td>\n",
       "      <td>0.457189</td>\n",
       "      <td>-0.008799</td>\n",
       "    </tr>\n",
       "    <tr>\n",
       "      <th>2021-09</th>\n",
       "      <td>2021-09</td>\n",
       "      <td>158467.89</td>\n",
       "      <td>76648.060625</td>\n",
       "      <td>81819.829375</td>\n",
       "      <td>0.516318</td>\n",
       "      <td>4045.0</td>\n",
       "      <td>0.0</td>\n",
       "      <td>4045</td>\n",
       "      <td>1.000000</td>\n",
       "      <td>4045</td>\n",
       "      <td>182238.0735</td>\n",
       "      <td>97343.036994</td>\n",
       "      <td>84895.036506</td>\n",
       "      <td>0.465847</td>\n",
       "      <td>0.507921</td>\n",
       "      <td>0.507905</td>\n",
       "      <td>0.508855</td>\n",
       "      <td>249016.620833</td>\n",
       "      <td>0.456574</td>\n",
       "      <td>0.456556</td>\n",
       "      <td>0.457605</td>\n",
       "      <td>-0.083419</td>\n",
       "    </tr>\n",
       "    <tr>\n",
       "      <th>2021-10</th>\n",
       "      <td>2021-10</td>\n",
       "      <td>157435.28</td>\n",
       "      <td>75323.235000</td>\n",
       "      <td>82112.045000</td>\n",
       "      <td>0.521561</td>\n",
       "      <td>4041.0</td>\n",
       "      <td>0.0</td>\n",
       "      <td>4041</td>\n",
       "      <td>1.000000</td>\n",
       "      <td>4041</td>\n",
       "      <td>181050.5720</td>\n",
       "      <td>95660.508450</td>\n",
       "      <td>85390.063550</td>\n",
       "      <td>0.471637</td>\n",
       "      <td>0.514704</td>\n",
       "      <td>0.509872</td>\n",
       "      <td>0.509024</td>\n",
       "      <td>237338.769167</td>\n",
       "      <td>0.464064</td>\n",
       "      <td>0.458728</td>\n",
       "      <td>0.457791</td>\n",
       "      <td>-0.006516</td>\n",
       "    </tr>\n",
       "    <tr>\n",
       "      <th>2021-11</th>\n",
       "      <td>2021-11</td>\n",
       "      <td>157538.08</td>\n",
       "      <td>77445.546563</td>\n",
       "      <td>80092.533437</td>\n",
       "      <td>0.508401</td>\n",
       "      <td>4246.0</td>\n",
       "      <td>0.0</td>\n",
       "      <td>4246</td>\n",
       "      <td>1.000000</td>\n",
       "      <td>4246</td>\n",
       "      <td>181168.7920</td>\n",
       "      <td>98355.844134</td>\n",
       "      <td>82812.947866</td>\n",
       "      <td>0.457104</td>\n",
       "      <td>0.515427</td>\n",
       "      <td>0.509161</td>\n",
       "      <td>0.508503</td>\n",
       "      <td>229416.842187</td>\n",
       "      <td>0.464862</td>\n",
       "      <td>0.457943</td>\n",
       "      <td>0.457216</td>\n",
       "      <td>0.000653</td>\n",
       "    </tr>\n",
       "    <tr>\n",
       "      <th>2021-12</th>\n",
       "      <td>2021-12</td>\n",
       "      <td>177219.92</td>\n",
       "      <td>82407.406125</td>\n",
       "      <td>94812.513875</td>\n",
       "      <td>0.534999</td>\n",
       "      <td>4680.0</td>\n",
       "      <td>0.0</td>\n",
       "      <td>4680</td>\n",
       "      <td>1.000000</td>\n",
       "      <td>4680</td>\n",
       "      <td>203802.9080</td>\n",
       "      <td>104657.405779</td>\n",
       "      <td>99145.502221</td>\n",
       "      <td>0.486477</td>\n",
       "      <td>0.521654</td>\n",
       "      <td>0.514787</td>\n",
       "      <td>0.512488</td>\n",
       "      <td>235176.187688</td>\n",
       "      <td>0.471739</td>\n",
       "      <td>0.464156</td>\n",
       "      <td>0.461617</td>\n",
       "      <td>0.124934</td>\n",
       "    </tr>\n",
       "    <tr>\n",
       "      <th>2022-01</th>\n",
       "      <td>2022-01</td>\n",
       "      <td>170373.96</td>\n",
       "      <td>80760.749125</td>\n",
       "      <td>89613.210875</td>\n",
       "      <td>0.525980</td>\n",
       "      <td>4587.0</td>\n",
       "      <td>0.0</td>\n",
       "      <td>4587</td>\n",
       "      <td>1.000000</td>\n",
       "      <td>4587</td>\n",
       "      <td>195930.0540</td>\n",
       "      <td>102566.151389</td>\n",
       "      <td>93363.902611</td>\n",
       "      <td>0.476516</td>\n",
       "      <td>0.523127</td>\n",
       "      <td>0.518915</td>\n",
       "      <td>0.514290</td>\n",
       "      <td>240613.701812</td>\n",
       "      <td>0.473366</td>\n",
       "      <td>0.468715</td>\n",
       "      <td>0.463607</td>\n",
       "      <td>-0.038630</td>\n",
       "    </tr>\n",
       "    <tr>\n",
       "      <th>2022-02</th>\n",
       "      <td>2022-02</td>\n",
       "      <td>140525.51</td>\n",
       "      <td>65287.135062</td>\n",
       "      <td>75238.374938</td>\n",
       "      <td>0.535407</td>\n",
       "      <td>3828.0</td>\n",
       "      <td>0.0</td>\n",
       "      <td>3828</td>\n",
       "      <td>1.000000</td>\n",
       "      <td>3828</td>\n",
       "      <td>161604.3365</td>\n",
       "      <td>82914.661529</td>\n",
       "      <td>78689.674971</td>\n",
       "      <td>0.486928</td>\n",
       "      <td>0.532129</td>\n",
       "      <td>0.523778</td>\n",
       "      <td>0.516817</td>\n",
       "      <td>228455.290313</td>\n",
       "      <td>0.483307</td>\n",
       "      <td>0.474085</td>\n",
       "      <td>0.466398</td>\n",
       "      <td>-0.175194</td>\n",
       "    </tr>\n",
       "    <tr>\n",
       "      <th>2022-03</th>\n",
       "      <td>2022-03</td>\n",
       "      <td>146537.33</td>\n",
       "      <td>69262.620000</td>\n",
       "      <td>77274.710000</td>\n",
       "      <td>0.527338</td>\n",
       "      <td>3601.0</td>\n",
       "      <td>53.0</td>\n",
       "      <td>3548</td>\n",
       "      <td>0.975088</td>\n",
       "      <td>3693</td>\n",
       "      <td>168517.9295</td>\n",
       "      <td>87963.527400</td>\n",
       "      <td>80554.402100</td>\n",
       "      <td>0.478017</td>\n",
       "      <td>0.529575</td>\n",
       "      <td>0.525614</td>\n",
       "      <td>0.519717</td>\n",
       "      <td>215310.504187</td>\n",
       "      <td>0.480487</td>\n",
       "      <td>0.476113</td>\n",
       "      <td>0.469600</td>\n",
       "      <td>0.042781</td>\n",
       "    </tr>\n",
       "  </tbody>\n",
       "</table>\n",
       "</div>"
      ],
      "text/plain": [
       "            date    revenue          cogs      margin_$  margin_%  \\\n",
       "date                                                                \n",
       "2020-01  2020-01   32006.67  13921.532667  18085.137333  0.565043   \n",
       "2020-02  2020-02   58493.48  24960.558000  33532.922000  0.573276   \n",
       "2020-03  2020-03  109750.11  52557.535000  57192.575000  0.521116   \n",
       "2020-04  2020-04  139949.25  68316.725000  71632.525000  0.511846   \n",
       "2020-05  2020-05  155540.53  76684.730000  78855.800000  0.506979   \n",
       "2020-06  2020-06  175084.13  86453.783000  88630.347000  0.506216   \n",
       "2020-07  2020-07  177390.11  85920.877500  91469.232500  0.515639   \n",
       "2020-08  2020-08  181439.36  87586.082500  93853.277500  0.517271   \n",
       "2020-09  2020-09  166193.00  81380.561385  84812.438615  0.510325   \n",
       "2020-10  2020-10  167239.04  81601.440693  85637.599307  0.512067   \n",
       "2020-11  2020-11  149926.86  72504.344653  77422.515347  0.516402   \n",
       "2020-12  2020-12  162974.97  79380.028808  83594.941192  0.512931   \n",
       "2021-01  2021-01  155429.69  74599.697500  80829.992500  0.520042   \n",
       "2021-02  2021-02  131654.94  64104.520000  67550.420000  0.513087   \n",
       "2021-03  2021-03  162168.27  81224.790000  80943.480000  0.499133   \n",
       "2021-04  2021-04  161352.58  79101.280400  82251.299600  0.509761   \n",
       "2021-05  2021-05  169113.99  82414.746913  86699.243087  0.512667   \n",
       "2021-06  2021-06  170428.97  85003.179587  85425.790413  0.501240   \n",
       "2021-07  2021-07  174425.04  87001.086667  87423.953333  0.501212   \n",
       "2021-08  2021-08  172890.19  85367.473542  87522.716458  0.506233   \n",
       "2021-09  2021-09  158467.89  76648.060625  81819.829375  0.516318   \n",
       "2021-10  2021-10  157435.28  75323.235000  82112.045000  0.521561   \n",
       "2021-11  2021-11  157538.08  77445.546563  80092.533437  0.508401   \n",
       "2021-12  2021-12  177219.92  82407.406125  94812.513875  0.534999   \n",
       "2022-01  2022-01  170373.96  80760.749125  89613.210875  0.525980   \n",
       "2022-02  2022-02  140525.51  65287.135062  75238.374938  0.535407   \n",
       "2022-03  2022-03  146537.33  69262.620000  77274.710000  0.527338   \n",
       "\n",
       "         total_count_incoming  product_count  count_incoming  coverage  \\\n",
       "date                                                                     \n",
       "2020-01                 819.0           77.0             742  0.863924   \n",
       "2020-02                1489.0           78.0            1411  0.893758   \n",
       "2020-03                2758.0           36.0            2722  0.987115   \n",
       "2020-04                3514.0            0.0            3514  0.997729   \n",
       "2020-05                3890.0            0.0            3890  0.999486   \n",
       "2020-06                4138.0            0.0            4138  1.000000   \n",
       "2020-07                4284.0            0.0            4284  1.000000   \n",
       "2020-08                4353.0            0.0            4353  1.000000   \n",
       "2020-09                3931.0            0.0            3931  1.000000   \n",
       "2020-10                3970.0            0.0            3970  1.000000   \n",
       "2020-11                3864.0            0.0            3864  1.000000   \n",
       "2020-12                4066.0            0.0            4066  1.000000   \n",
       "2021-01                3826.0            0.0            3826  0.996354   \n",
       "2021-02                3200.0            0.0            3200  1.000000   \n",
       "2021-03                4053.0            0.0            4053  1.000000   \n",
       "2021-04                4270.0           16.0            4254  1.000000   \n",
       "2021-05                4483.0           15.0            4468  1.000000   \n",
       "2021-06                4403.0            3.0            4400  1.000000   \n",
       "2021-07                4512.0            0.0            4512  1.000000   \n",
       "2021-08                4405.0            0.0            4405  1.000000   \n",
       "2021-09                4045.0            0.0            4045  1.000000   \n",
       "2021-10                4041.0            0.0            4041  1.000000   \n",
       "2021-11                4246.0            0.0            4246  1.000000   \n",
       "2021-12                4680.0            0.0            4680  1.000000   \n",
       "2022-01                4587.0            0.0            4587  1.000000   \n",
       "2022-02                3828.0            0.0            3828  1.000000   \n",
       "2022-03                3601.0           53.0            3548  0.975088   \n",
       "\n",
       "         total_count  revenue_after_tax  cogs_after_tax  margin_$_after_tax  \\\n",
       "date                                                                          \n",
       "2020-01          948         36807.6705    17680.346487        19127.324013   \n",
       "2020-02         1666         67267.5020    31699.908660        35567.593340   \n",
       "2020-03         2794        126212.6265    66748.069450        59464.557050   \n",
       "2020-04         3522        160941.6375    86762.240750        74179.396750   \n",
       "2020-05         3892        178871.6095    97389.607100        81482.002400   \n",
       "2020-06         4138        201346.7495   109796.304410        91550.445090   \n",
       "2020-07         4284        203998.6265   109119.514425        94879.112075   \n",
       "2020-08         4353        208655.2640   111234.324775        97420.939225   \n",
       "2020-09         3931        191121.9500   103353.312958        87768.637042   \n",
       "2020-10         3970        192324.8960   103633.829681        88691.066319   \n",
       "2020-11         3864        172415.8890    92080.517709        80335.371291   \n",
       "2020-12         4066        187421.2155   100812.636586        86608.578914   \n",
       "2021-01         3840        178744.1435    94741.615825        84002.527675   \n",
       "2021-02         3200        151403.1810    81412.740400        69990.440600   \n",
       "2021-03         4053        186493.5105   103155.483300        83338.027200   \n",
       "2021-04         4270        185555.4670   100458.626108        85096.840892   \n",
       "2021-05         4483        194481.0885   104666.728579        89814.359921   \n",
       "2021-06         4403        195993.3155   107954.038076        88039.277424   \n",
       "2021-07         4512        200588.7960   110491.380067        90097.415933   \n",
       "2021-08         4405        198823.7185   108416.691398        90407.027102   \n",
       "2021-09         4045        182238.0735    97343.036994        84895.036506   \n",
       "2021-10         4041        181050.5720    95660.508450        85390.063550   \n",
       "2021-11         4246        181168.7920    98355.844134        82812.947866   \n",
       "2021-12         4680        203802.9080   104657.405779        99145.502221   \n",
       "2022-01         4587        195930.0540   102566.151389        93363.902611   \n",
       "2022-02         3828        161604.3365    82914.661529        78689.674971   \n",
       "2022-03         3693        168517.9295    87963.527400        80554.402100   \n",
       "\n",
       "         margin_%_after_tax  gm_past_quarter  gm_past_2quarters  \\\n",
       "date                                                              \n",
       "2020-01            0.519656              NaN                NaN   \n",
       "2020-02            0.528749              NaN                NaN   \n",
       "2020-03            0.471146         0.553145                NaN   \n",
       "2020-04            0.460909         0.535413                NaN   \n",
       "2020-05            0.455533         0.513314                NaN   \n",
       "2020-06            0.454690         0.508347           0.530746   \n",
       "2020-07            0.465097         0.509611           0.522512   \n",
       "2020-08            0.466899         0.513042           0.513178   \n",
       "2020-09            0.459228         0.514412           0.511379   \n",
       "2020-10            0.461152         0.513221           0.511416   \n",
       "2020-11            0.465939         0.512931           0.512987   \n",
       "2020-12            0.462107         0.513800           0.514106   \n",
       "2021-01            0.469960         0.516458           0.514840   \n",
       "2021-02            0.462279         0.515353           0.514142   \n",
       "2021-03            0.446868         0.510754           0.512277   \n",
       "2021-04            0.458606         0.507327           0.511893   \n",
       "2021-05            0.461815         0.507187           0.511270   \n",
       "2021-06            0.449195         0.507890           0.509322   \n",
       "2021-07            0.449165         0.505040           0.506183   \n",
       "2021-08            0.454709         0.502895           0.505041   \n",
       "2021-09            0.465847         0.507921           0.507905   \n",
       "2021-10            0.471637         0.514704           0.509872   \n",
       "2021-11            0.457104         0.515427           0.509161   \n",
       "2021-12            0.486477         0.521654           0.514787   \n",
       "2022-01            0.476516         0.523127           0.518915   \n",
       "2022-02            0.486928         0.532129           0.523778   \n",
       "2022-03            0.478017         0.529575           0.525614   \n",
       "\n",
       "         gm_past_3quarters  sum_cogs_past_3months  gm_past_quarter_after_tax  \\\n",
       "date                                                                           \n",
       "2020-01                NaN                    NaN                        NaN   \n",
       "2020-02                NaN                    NaN                        NaN   \n",
       "2020-03                NaN           91439.625667                   0.506517   \n",
       "2020-04                NaN          145834.818000                   0.486934   \n",
       "2020-05                NaN          197558.990000                   0.462529   \n",
       "2020-06                NaN          231455.238000                   0.457044   \n",
       "2020-07                NaN          249059.390500                   0.458440   \n",
       "2020-08                NaN          259960.743000                   0.462229   \n",
       "2020-09           0.525301          254887.521385                   0.463741   \n",
       "2020-10           0.519415          250568.084578                   0.462427   \n",
       "2020-11           0.513096          235486.346731                   0.462107   \n",
       "2020-12           0.512186          233485.814154                   0.463066   \n",
       "2021-01           0.513097          226484.070960                   0.466002   \n",
       "2021-02           0.513775          218084.246308                   0.464782   \n",
       "2021-03           0.512988          219929.007500                   0.459702   \n",
       "2021-04           0.512335          224430.590400                   0.455918   \n",
       "2021-05           0.511824          242740.817313                   0.455763   \n",
       "2021-06           0.510814          246519.206900                   0.456539   \n",
       "2021-07           0.509608          254419.013167                   0.453392   \n",
       "2021-08           0.508479          257371.739796                   0.451023   \n",
       "2021-09           0.508855          249016.620833                   0.456574   \n",
       "2021-10           0.509024          237338.769167                   0.464064   \n",
       "2021-11           0.508503          229416.842187                   0.464862   \n",
       "2021-12           0.512488          235176.187688                   0.471739   \n",
       "2022-01           0.514290          240613.701812                   0.473366   \n",
       "2022-02           0.516817          228455.290313                   0.483307   \n",
       "2022-03           0.519717          215310.504187                   0.480487   \n",
       "\n",
       "         gm_past_2quarters_after_tax  gm_past_3quarters_after_tax  \\\n",
       "date                                                                \n",
       "2020-01                          NaN                          NaN   \n",
       "2020-02                          NaN                          NaN   \n",
       "2020-03                          NaN                          NaN   \n",
       "2020-04                          NaN                          NaN   \n",
       "2020-05                          NaN                          NaN   \n",
       "2020-06                     0.481780                          NaN   \n",
       "2020-07                     0.472687                          NaN   \n",
       "2020-08                     0.462379                          NaN   \n",
       "2020-09                     0.460393                     0.475767   \n",
       "2020-10                     0.460433                     0.469267   \n",
       "2020-11                     0.462168                     0.462288   \n",
       "2020-12                     0.463404                     0.461284   \n",
       "2021-01                     0.464214                     0.462290   \n",
       "2021-02                     0.463444                     0.463039   \n",
       "2021-03                     0.461384                     0.462170   \n",
       "2021-04                     0.460960                     0.461449   \n",
       "2021-05                     0.460272                     0.460884   \n",
       "2021-06                     0.458121                     0.459769   \n",
       "2021-07                     0.454655                     0.458437   \n",
       "2021-08                     0.453393                     0.457189   \n",
       "2021-09                     0.456556                     0.457605   \n",
       "2021-10                     0.458728                     0.457791   \n",
       "2021-11                     0.457943                     0.457216   \n",
       "2021-12                     0.464156                     0.461617   \n",
       "2022-01                     0.468715                     0.463607   \n",
       "2022-02                     0.474085                     0.466398   \n",
       "2022-03                     0.476113                     0.469600   \n",
       "\n",
       "         revenue_change  \n",
       "date                     \n",
       "2020-01             NaN  \n",
       "2020-02        0.827540  \n",
       "2020-03        0.876279  \n",
       "2020-04        0.275163  \n",
       "2020-05        0.111407  \n",
       "2020-06        0.125650  \n",
       "2020-07        0.013171  \n",
       "2020-08        0.022827  \n",
       "2020-09       -0.084030  \n",
       "2020-10        0.006294  \n",
       "2020-11       -0.103518  \n",
       "2020-12        0.087030  \n",
       "2021-01       -0.046297  \n",
       "2021-02       -0.152961  \n",
       "2021-03        0.231767  \n",
       "2021-04       -0.005030  \n",
       "2021-05        0.048102  \n",
       "2021-06        0.007776  \n",
       "2021-07        0.023447  \n",
       "2021-08       -0.008799  \n",
       "2021-09       -0.083419  \n",
       "2021-10       -0.006516  \n",
       "2021-11        0.000653  \n",
       "2021-12        0.124934  \n",
       "2022-01       -0.038630  \n",
       "2022-02       -0.175194  \n",
       "2022-03        0.042781  "
      ]
     },
     "execution_count": 53,
     "metadata": {},
     "output_type": "execute_result"
    }
   ],
   "source": [
    "df_summary_simp"
   ]
  },
  {
   "cell_type": "markdown",
   "id": "acb65de6",
   "metadata": {},
   "source": [
    "# Revenue change vs state"
   ]
  },
  {
   "cell_type": "code",
   "execution_count": 54,
   "id": "2fa9394c",
   "metadata": {},
   "outputs": [],
   "source": [
    "def gmv_change_variance_point_mapping(x):\n",
    "    if x < -0.1:\n",
    "        return -5\n",
    "    elif x >= -0.1 and x <-0.05:\n",
    "        return -2.5\n",
    "    elif x >= -0.05 and x < 0:\n",
    "        return 0\n",
    "    elif x >= 0 and x < 0.05:\n",
    "        return 5\n",
    "    else:\n",
    "        return 10\n",
    "    "
   ]
  },
  {
   "cell_type": "markdown",
   "id": "d79f67f1",
   "metadata": {},
   "source": [
    "### for CA"
   ]
  },
  {
   "cell_type": "code",
   "execution_count": 55,
   "id": "ce9bab85",
   "metadata": {},
   "outputs": [],
   "source": [
    "def calculate_quarterly_sum_gmv_ca(cogs_analysis_df):\n",
    "    #2020\n",
    "    sum_gmv_q1_2020 = cogs_analysis_df[(cogs_analysis_df['date']>= '2020-01')&(cogs_analysis_df['date']<= '2020-03')]['revenue'].sum()\n",
    "    sum_gmv_q2_2020 = cogs_analysis_df[(cogs_analysis_df['date']>= '2020-04')&(cogs_analysis_df['date']<= '2020-06')]['revenue'].sum()\n",
    "    sum_gmv_q3_2020 = cogs_analysis_df[(cogs_analysis_df['date']>= '2020-07')&(cogs_analysis_df['date']<= '2020-09')]['revenue'].sum()\n",
    "    sum_gmv_q4_2020 = cogs_analysis_df[(cogs_analysis_df['date']>= '2020-10')&(cogs_analysis_df['date']<= '2020-12')]['revenue'].sum()\n",
    "    #2021\n",
    "    sum_gmv_q1_2021 = cogs_analysis_df[(cogs_analysis_df['date']>= '2021-01')&(cogs_analysis_df['date']<= '2021-03')]['revenue'].sum()\n",
    "    sum_gmv_q2_2021 = cogs_analysis_df[(cogs_analysis_df['date']>= '2021-04')&(cogs_analysis_df['date']<= '2021-06')]['revenue'].sum()\n",
    "    sum_gmv_q3_2021 = cogs_analysis_df[(cogs_analysis_df['date']>= '2021-07')&(cogs_analysis_df['date']<= '2021-09')]['revenue'].sum()\n",
    "    sum_gmv_q4_2021 = cogs_analysis_df[(cogs_analysis_df['date']>= '2021-10')&(cogs_analysis_df['date']<= '2021-12')]['revenue'].sum()\n",
    "    gmv_df = pd.DataFrame([sum_gmv_q1_2020,sum_gmv_q2_2020,sum_gmv_q3_2020,sum_gmv_q4_2020,\\\n",
    "                  sum_gmv_q1_2021,sum_gmv_q2_2021,sum_gmv_q3_2021,sum_gmv_q4_2021])\n",
    "    gmv_df.columns = ['sum_gmv']\n",
    "    gmv_df['sum_gmv_change'] = gmv_df['sum_gmv'].pct_change().values\n",
    "    gmv_df['sum_gmv_change_ca'] = [numpy.nan,numpy.nan,numpy.nan,0.17,-0.05,0.02,-0.11,0]\n",
    "    gmv_df['weight'] = [numpy.nan,numpy.nan,numpy.nan,0.04,0.28,0.52,0.76,1]\n",
    "    gmv_df['variance'] = gmv_df['sum_gmv_change'] - gmv_df['sum_gmv_change_ca']\n",
    "    gmv_df['points'] = [gmv_change_variance_point_mapping(n) for n in gmv_df['variance']]\n",
    "    gmv_df.replace([numpy.inf, -numpy.inf], numpy.nan, inplace=True)\n",
    "    gmv_df['total'] = gmv_df['points'] * gmv_df['weight']\n",
    "    gmv_df.index = ['2020Q1','2020Q2','2020Q3','2020Q4','2021Q1','2021Q2','2021Q3','2021Q4']\n",
    "    #gmv_df = gmv_df.dropna()\n",
    "    return gmv_df\n",
    "    "
   ]
  },
  {
   "cell_type": "code",
   "execution_count": 56,
   "id": "d9295eab",
   "metadata": {},
   "outputs": [
    {
     "data": {
      "text/html": [
       "<div>\n",
       "<style scoped>\n",
       "    .dataframe tbody tr th:only-of-type {\n",
       "        vertical-align: middle;\n",
       "    }\n",
       "\n",
       "    .dataframe tbody tr th {\n",
       "        vertical-align: top;\n",
       "    }\n",
       "\n",
       "    .dataframe thead th {\n",
       "        text-align: right;\n",
       "    }\n",
       "</style>\n",
       "<table border=\"1\" class=\"dataframe\">\n",
       "  <thead>\n",
       "    <tr style=\"text-align: right;\">\n",
       "      <th></th>\n",
       "      <th>sum_gmv</th>\n",
       "      <th>sum_gmv_change</th>\n",
       "      <th>sum_gmv_change_ca</th>\n",
       "      <th>weight</th>\n",
       "      <th>variance</th>\n",
       "      <th>points</th>\n",
       "      <th>total</th>\n",
       "    </tr>\n",
       "  </thead>\n",
       "  <tbody>\n",
       "    <tr>\n",
       "      <th>2020Q1</th>\n",
       "      <td>200250.26</td>\n",
       "      <td>NaN</td>\n",
       "      <td>NaN</td>\n",
       "      <td>NaN</td>\n",
       "      <td>NaN</td>\n",
       "      <td>10</td>\n",
       "      <td>NaN</td>\n",
       "    </tr>\n",
       "    <tr>\n",
       "      <th>2020Q2</th>\n",
       "      <td>470573.91</td>\n",
       "      <td>1.349929</td>\n",
       "      <td>NaN</td>\n",
       "      <td>NaN</td>\n",
       "      <td>NaN</td>\n",
       "      <td>10</td>\n",
       "      <td>NaN</td>\n",
       "    </tr>\n",
       "    <tr>\n",
       "      <th>2020Q3</th>\n",
       "      <td>525022.47</td>\n",
       "      <td>0.115707</td>\n",
       "      <td>NaN</td>\n",
       "      <td>NaN</td>\n",
       "      <td>NaN</td>\n",
       "      <td>10</td>\n",
       "      <td>NaN</td>\n",
       "    </tr>\n",
       "    <tr>\n",
       "      <th>2020Q4</th>\n",
       "      <td>480140.87</td>\n",
       "      <td>-0.085485</td>\n",
       "      <td>0.17</td>\n",
       "      <td>0.04</td>\n",
       "      <td>-0.255485</td>\n",
       "      <td>-5</td>\n",
       "      <td>-0.2</td>\n",
       "    </tr>\n",
       "    <tr>\n",
       "      <th>2021Q1</th>\n",
       "      <td>449252.90</td>\n",
       "      <td>-0.064331</td>\n",
       "      <td>-0.05</td>\n",
       "      <td>0.28</td>\n",
       "      <td>-0.014331</td>\n",
       "      <td>0</td>\n",
       "      <td>0.0</td>\n",
       "    </tr>\n",
       "    <tr>\n",
       "      <th>2021Q2</th>\n",
       "      <td>500895.54</td>\n",
       "      <td>0.114952</td>\n",
       "      <td>0.02</td>\n",
       "      <td>0.52</td>\n",
       "      <td>0.094952</td>\n",
       "      <td>10</td>\n",
       "      <td>5.2</td>\n",
       "    </tr>\n",
       "    <tr>\n",
       "      <th>2021Q3</th>\n",
       "      <td>505783.12</td>\n",
       "      <td>0.009758</td>\n",
       "      <td>-0.11</td>\n",
       "      <td>0.76</td>\n",
       "      <td>0.119758</td>\n",
       "      <td>10</td>\n",
       "      <td>7.6</td>\n",
       "    </tr>\n",
       "    <tr>\n",
       "      <th>2021Q4</th>\n",
       "      <td>492193.28</td>\n",
       "      <td>-0.026869</td>\n",
       "      <td>0.00</td>\n",
       "      <td>1.00</td>\n",
       "      <td>-0.026869</td>\n",
       "      <td>0</td>\n",
       "      <td>0.0</td>\n",
       "    </tr>\n",
       "  </tbody>\n",
       "</table>\n",
       "</div>"
      ],
      "text/plain": [
       "          sum_gmv  sum_gmv_change  sum_gmv_change_ca  weight  variance  \\\n",
       "2020Q1  200250.26             NaN                NaN     NaN       NaN   \n",
       "2020Q2  470573.91        1.349929                NaN     NaN       NaN   \n",
       "2020Q3  525022.47        0.115707                NaN     NaN       NaN   \n",
       "2020Q4  480140.87       -0.085485               0.17    0.04 -0.255485   \n",
       "2021Q1  449252.90       -0.064331              -0.05    0.28 -0.014331   \n",
       "2021Q2  500895.54        0.114952               0.02    0.52  0.094952   \n",
       "2021Q3  505783.12        0.009758              -0.11    0.76  0.119758   \n",
       "2021Q4  492193.28       -0.026869               0.00    1.00 -0.026869   \n",
       "\n",
       "        points  total  \n",
       "2020Q1      10    NaN  \n",
       "2020Q2      10    NaN  \n",
       "2020Q3      10    NaN  \n",
       "2020Q4      -5   -0.2  \n",
       "2021Q1       0    0.0  \n",
       "2021Q2      10    5.2  \n",
       "2021Q3      10    7.6  \n",
       "2021Q4       0    0.0  "
      ]
     },
     "execution_count": 56,
     "metadata": {},
     "output_type": "execute_result"
    }
   ],
   "source": [
    "a = calculate_quarterly_sum_gmv_ca(df_summary_simp)\n",
    "a"
   ]
  },
  {
   "cell_type": "code",
   "execution_count": 57,
   "id": "2c2b77fc",
   "metadata": {},
   "outputs": [
    {
     "data": {
      "text/plain": [
       "12.6"
      ]
     },
     "execution_count": 57,
     "metadata": {},
     "output_type": "execute_result"
    }
   ],
   "source": [
    "round(a.dropna()['total'].sum(),2)"
   ]
  },
  {
   "cell_type": "markdown",
   "id": "c00b967e",
   "metadata": {},
   "source": [
    "### FOR MA"
   ]
  },
  {
   "cell_type": "code",
   "execution_count": null,
   "id": "7cd790cb",
   "metadata": {},
   "outputs": [],
   "source": [
    "def calculate_quarterly_sum_gmv_ma(cogs_analysis_df):\n",
    "\n",
    "    gmv_df = cogs_analysis_df[(cogs_analysis_df['date'] >= '2021-09')&(cogs_analysis_df['date'] <= '2022-02')][['revenue_change']]\n",
    "    gmv_df['sum_gmv_change_ma'] = [-0.07,0.01,-0.07,0.09,-0.11,0.02]\n",
    "    gmv_df['weight'] = [0.6,0.68,0.76,0.84,0.92,1]\n",
    "    gmv_df['variance'] = gmv_df['revenue_change'] - gmv_df['sum_gmv_change_ma']\n",
    "    gmv_df['points'] = [gmv_change_variance_point_mapping(n) for n in gmv_df['variance']]\n",
    "    gmv_df.replace([numpy.inf, -numpy.inf], numpy.nan, inplace=True)\n",
    "    gmv_df['total'] = gmv_df['points'] * gmv_df['weight']\n",
    "    return gmv_df\n",
    "    "
   ]
  },
  {
   "cell_type": "code",
   "execution_count": null,
   "id": "86d31be1",
   "metadata": {},
   "outputs": [],
   "source": [
    "a = calculate_quarterly_sum_gmv_ma(df_summary_simp)"
   ]
  },
  {
   "cell_type": "code",
   "execution_count": null,
   "id": "205bd18e",
   "metadata": {},
   "outputs": [],
   "source": [
    "a"
   ]
  },
  {
   "cell_type": "code",
   "execution_count": null,
   "id": "8c2c4291",
   "metadata": {},
   "outputs": [],
   "source": [
    "round(a.dropna()['total'].sum(),2)"
   ]
  },
  {
   "cell_type": "markdown",
   "id": "5ae6ea1e",
   "metadata": {},
   "source": [
    "### FOR CO"
   ]
  },
  {
   "cell_type": "code",
   "execution_count": null,
   "id": "7302e340",
   "metadata": {},
   "outputs": [],
   "source": [
    "def calculate_quarterly_sum_gmv_co(cogs_analysis_df):\n",
    "\n",
    "    gmv_df = cogs_analysis_df[(cogs_analysis_df['date'] >= '2021-01')&(cogs_analysis_df['date'] <= '2022-01')][['revenue_change']]\n",
    "    gmv_df['sum_gmv_change_co'] = [0.01,-0.11,0.23,-0.01,-0.06,-0.03,0.1,-0.06,-0.05,-0.03,-0.11,0.06,0.09]\n",
    "    gmv_df['weight'] = [0.04,0.12,0.2,0.28,0.36,0.44,0.52,0.6,0.68,0.76,0.84,0.92,1]\n",
    "    gmv_df['variance'] = gmv_df['revenue_change'] - gmv_df['sum_gmv_change_co']\n",
    "    gmv_df['points'] = [gmv_change_variance_point_mapping(n) for n in gmv_df['variance']]\n",
    "    gmv_df.replace([numpy.inf, -numpy.inf], numpy.nan, inplace=True)\n",
    "    gmv_df['total'] = gmv_df['points'] * gmv_df['weight']\n",
    "    return gmv_df\n",
    "    "
   ]
  },
  {
   "cell_type": "code",
   "execution_count": null,
   "id": "9cd9f09e",
   "metadata": {},
   "outputs": [],
   "source": [
    "a = calculate_quarterly_sum_gmv_co(df_summary_simp)"
   ]
  },
  {
   "cell_type": "code",
   "execution_count": null,
   "id": "107d5172",
   "metadata": {},
   "outputs": [],
   "source": [
    "a"
   ]
  },
  {
   "cell_type": "code",
   "execution_count": null,
   "id": "918a8468",
   "metadata": {},
   "outputs": [],
   "source": [
    "round(a.dropna()['total'].sum(),2)"
   ]
  },
  {
   "cell_type": "markdown",
   "id": "4d7f6893",
   "metadata": {},
   "source": [
    "### FOR MI"
   ]
  },
  {
   "cell_type": "code",
   "execution_count": null,
   "id": "406b4f35",
   "metadata": {},
   "outputs": [],
   "source": [
    "def calculate_quarterly_sum_gmv_mi(cogs_analysis_df):\n",
    "\n",
    "    gmv_df = cogs_analysis_df[(cogs_analysis_df['date'] >= '2021-01')&(cogs_analysis_df['date'] <= '2022-01')][['revenue_change']]\n",
    "    gmv_df['sum_gmv_change_mi'] = [-0.06,0.36,0.01,-0.07,-0.02,0.12,-0.11,-0.04,-0.01,-0.1,0.06,-0.11]\n",
    "    gmv_df['weight'] = [0.12,0.2,0.28,0.36,0.44,0.52,0.6,0.68,0.76,0.84,0.92,1]\n",
    "    gmv_df['variance'] = gmv_df['revenue_change'] - gmv_df['sum_gmv_change_mi']\n",
    "    gmv_df['points'] = [gmv_change_variance_point_mapping(n) for n in gmv_df['variance']]\n",
    "    gmv_df.replace([numpy.inf, -numpy.inf], numpy.nan, inplace=True)\n",
    "    gmv_df['total'] = gmv_df['points'] * gmv_df['weight']\n",
    "    return gmv_df\n",
    "    "
   ]
  },
  {
   "cell_type": "code",
   "execution_count": null,
   "id": "54a764d9",
   "metadata": {},
   "outputs": [],
   "source": [
    "a = calculate_quarterly_sum_gmv_mi(df_summary_simp)"
   ]
  },
  {
   "cell_type": "code",
   "execution_count": null,
   "id": "70e3ae07",
   "metadata": {},
   "outputs": [],
   "source": [
    "a"
   ]
  },
  {
   "cell_type": "code",
   "execution_count": null,
   "id": "eacaf3ce",
   "metadata": {},
   "outputs": [],
   "source": [
    "round(a.dropna()['total'].sum(),2)"
   ]
  },
  {
   "cell_type": "markdown",
   "id": "c0e17ec9",
   "metadata": {},
   "source": [
    "# embarc only"
   ]
  },
  {
   "cell_type": "markdown",
   "id": "51938fbe",
   "metadata": {},
   "source": [
    "### ema"
   ]
  },
  {
   "cell_type": "code",
   "execution_count": null,
   "id": "70ca817f",
   "metadata": {},
   "outputs": [],
   "source": [
    "df_inventory_ema = company_inventory_packages_dataframe_ema\n",
    "df_sales_ema = deduped_sales_receipts_with_transactions_dataframe_ema"
   ]
  },
  {
   "cell_type": "code",
   "execution_count": null,
   "id": "ffe10e42",
   "metadata": {},
   "outputs": [],
   "source": [
    "df_summary_simp_ema,_ = cogs_analysis(df_in,df_sales_ema,'monthly')\n",
    "#tax treatment\n",
    "df_summary_simp_ema['revenue_after_tax'] = df_summary_simp_ema['revenue'] * 1.15\n",
    "df_summary_simp_ema['cogs_after_tax'] = df_summary_simp_ema['cogs'] * 1.27\n",
    "df_summary_simp_ema['margin_$_after_tax'] = df_summary_simp_ema['revenue_after_tax'] - df_summary_simp_ema['cogs_after_tax']\n",
    "df_summary_simp_ema['margin_%_after_tax'] = df_summary_simp_ema['margin_$_after_tax'] / df_summary_simp_ema['revenue_after_tax']\n",
    "# past quarter pre tax\n",
    "df_summary_simp_ema['gm_past_quarter'] = df_summary_simp_ema[['margin_%']].rolling(3).mean().values\n",
    "df_summary_simp_ema['gm_past_2quarters'] = df_summary_simp_ema[['margin_%']].rolling(6).mean().values\n",
    "df_summary_simp_ema['gm_past_3quarters'] = df_summary_simp_ema[['margin_%']].rolling(9).mean().values\n",
    "df_summary_simp_ema['sum_cogs_past_3months'] = df_summary_simp_ema[['cogs']].rolling(3).sum().values\n",
    "# past quarter after tax\n",
    "df_summary_simp_ema['gm_past_quarter_after_tax'] = df_summary_simp_ema[['margin_%_after_tax']].rolling(3).mean().values\n",
    "df_summary_simp_ema['gm_past_2quarters_after_tax'] = df_summary_simp_ema[['margin_%_after_tax']].rolling(6).mean().values\n",
    "df_summary_simp_ema['gm_past_3quarters_after_tax'] = df_summary_simp_ema[['margin_%_after_tax']].rolling(9).mean().values\n",
    "# revenue change\n",
    "df_summary_simp_ema['revenue_change'] = df_summary_simp_ema['revenue'].pct_change()\n",
    "df_summary_simp_ema.index = df_summary_simp_ema.date \n",
    "\n",
    "\n",
    "\n"
   ]
  },
  {
   "cell_type": "code",
   "execution_count": null,
   "id": "bfd6b21e",
   "metadata": {},
   "outputs": [],
   "source": [
    "df_summary_simp_ema"
   ]
  },
  {
   "cell_type": "code",
   "execution_count": null,
   "id": "cf185efb",
   "metadata": {},
   "outputs": [],
   "source": [
    "ema_revenue_vs_state = calculate_quarterly_sum_gmv_ca(df_summary_simp_ema)\n",
    "ema_revenue_vs_state"
   ]
  },
  {
   "cell_type": "code",
   "execution_count": null,
   "id": "14adfccc",
   "metadata": {},
   "outputs": [],
   "source": [
    "round(ema_revenue_vs_state.dropna()['total'].sum(),2)"
   ]
  },
  {
   "cell_type": "markdown",
   "id": "12763c6e",
   "metadata": {},
   "source": [
    "### emm"
   ]
  },
  {
   "cell_type": "code",
   "execution_count": null,
   "id": "9309b61e",
   "metadata": {},
   "outputs": [],
   "source": [
    "df_inventory_emm = company_inventory_packages_dataframe_emm\n",
    "df_sales_emm = deduped_sales_receipts_with_transactions_dataframe_emm"
   ]
  },
  {
   "cell_type": "code",
   "execution_count": null,
   "id": "5b99a55f",
   "metadata": {},
   "outputs": [],
   "source": [
    "df_summary_simp_emm,_ = cogs_analysis(df_in,df_sales_emm,'monthly')\n",
    "#tax treatment\n",
    "df_summary_simp_emm['revenue_after_tax'] = df_summary_simp_emm['revenue'] * 1.15\n",
    "df_summary_simp_emm['cogs_after_tax'] = df_summary_simp_emm['cogs'] * 1.27\n",
    "df_summary_simp_emm['margin_$_after_tax'] = df_summary_simp_emm['revenue_after_tax'] - df_summary_simp_emm['cogs_after_tax']\n",
    "df_summary_simp_emm['margin_%_after_tax'] = df_summary_simp_emm['margin_$_after_tax'] / df_summary_simp_emm['revenue_after_tax']\n",
    "# past quarter pre tax\n",
    "df_summary_simp_emm['gm_past_quarter'] = df_summary_simp_emm[['margin_%']].rolling(3).mean().values\n",
    "df_summary_simp_emm['gm_past_2quarters'] = df_summary_simp_emm[['margin_%']].rolling(6).mean().values\n",
    "df_summary_simp_emm['gm_past_3quarters'] = df_summary_simp_emm[['margin_%']].rolling(9).mean().values\n",
    "df_summary_simp_emm['sum_cogs_past_3months'] = df_summary_simp_emm[['cogs']].rolling(3).sum().values\n",
    "# past quarter after tax\n",
    "df_summary_simp_emm['gm_past_quarter_after_tax'] = df_summary_simp_emm[['margin_%_after_tax']].rolling(3).mean().values\n",
    "df_summary_simp_emm['gm_past_2quarters_after_tax'] = df_summary_simp_emm[['margin_%_after_tax']].rolling(6).mean().values\n",
    "df_summary_simp_emm['gm_past_3quarters_after_tax'] = df_summary_simp_emm[['margin_%_after_tax']].rolling(9).mean().values\n",
    "# revenue change\n",
    "df_summary_simp_emm['revenue_change'] = df_summary_simp_emm['revenue'].pct_change()\n",
    "df_summary_simp_emm.index = df_summary_simp_emm.date \n",
    "\n",
    "\n"
   ]
  },
  {
   "cell_type": "code",
   "execution_count": null,
   "id": "d713ab79",
   "metadata": {},
   "outputs": [],
   "source": [
    "df_summary_simp_emm"
   ]
  },
  {
   "cell_type": "code",
   "execution_count": null,
   "id": "8888302b",
   "metadata": {},
   "outputs": [],
   "source": [
    "emm_revenue_vs_state = calculate_quarterly_sum_gmv_ca(df_summary_simp_emm)\n",
    "emm_revenue_vs_state"
   ]
  },
  {
   "cell_type": "code",
   "execution_count": null,
   "id": "354a45f9",
   "metadata": {},
   "outputs": [],
   "source": [
    "round(emm_revenue_vs_state.dropna()['total'].sum(),2)"
   ]
  },
  {
   "cell_type": "markdown",
   "id": "83638880",
   "metadata": {},
   "source": [
    "### emt"
   ]
  },
  {
   "cell_type": "code",
   "execution_count": null,
   "id": "9bfec513",
   "metadata": {},
   "outputs": [],
   "source": [
    "df_inventory_emt = company_inventory_packages_dataframe_emt\n",
    "df_sales_emt = deduped_sales_receipts_with_transactions_dataframe_emt"
   ]
  },
  {
   "cell_type": "code",
   "execution_count": null,
   "id": "fe7c9702",
   "metadata": {},
   "outputs": [],
   "source": [
    "df_summary_simp_emt,_ = cogs_analysis(df_in,df_sales_emt,'monthly')\n",
    "#tax treatment\n",
    "df_summary_simp_emt['revenue_after_tax'] = df_summary_simp_emt['revenue'] * 1.15\n",
    "df_summary_simp_emt['cogs_after_tax'] = df_summary_simp_emt['cogs'] * 1.27\n",
    "df_summary_simp_emt['margin_$_after_tax'] = df_summary_simp_emt['revenue_after_tax'] - df_summary_simp_emt['cogs_after_tax']\n",
    "df_summary_simp_emt['margin_%_after_tax'] = df_summary_simp_emt['margin_$_after_tax'] / df_summary_simp_emt['revenue_after_tax']\n",
    "# past quarter pre tax\n",
    "df_summary_simp_emt['gm_past_quarter'] = df_summary_simp_emt[['margin_%']].rolling(3).mean().values\n",
    "df_summary_simp_emt['gm_past_2quarters'] = df_summary_simp_emt[['margin_%']].rolling(6).mean().values\n",
    "df_summary_simp_emt['gm_past_3quarters'] = df_summary_simp_emt[['margin_%']].rolling(9).mean().values\n",
    "df_summary_simp_emt['sum_cogs_past_3months'] = df_summary_simp_emt[['cogs']].rolling(3).sum().values\n",
    "# past quarter after tax\n",
    "df_summary_simp_emt['gm_past_quarter_after_tax'] = df_summary_simp_emt[['margin_%_after_tax']].rolling(3).mean().values\n",
    "df_summary_simp_emt['gm_past_2quarters_after_tax'] = df_summary_simp_emt[['margin_%_after_tax']].rolling(6).mean().values\n",
    "df_summary_simp_emt['gm_past_3quarters_after_tax'] = df_summary_simp_emt[['margin_%_after_tax']].rolling(9).mean().values\n",
    "# revenue change\n",
    "df_summary_simp_emt['revenue_change'] = df_summary_simp_emt['revenue'].pct_change()\n",
    "df_summary_simp_emt.index = df_summary_simp_emt.date \n"
   ]
  },
  {
   "cell_type": "code",
   "execution_count": null,
   "id": "0d232c9c",
   "metadata": {},
   "outputs": [],
   "source": [
    "df_summary_simp_emt"
   ]
  },
  {
   "cell_type": "code",
   "execution_count": null,
   "id": "969c03ce",
   "metadata": {},
   "outputs": [],
   "source": [
    "emt_revenue_vs_state = calculate_quarterly_sum_gmv_ca(df_summary_simp_emt)\n",
    "emt_revenue_vs_state"
   ]
  },
  {
   "cell_type": "code",
   "execution_count": null,
   "id": "c28c1451",
   "metadata": {},
   "outputs": [],
   "source": [
    "round(emt_revenue_vs_state.dropna()['total'].sum(),2)"
   ]
  },
  {
   "cell_type": "markdown",
   "id": "9e6e1c4d",
   "metadata": {},
   "source": [
    "### EMF"
   ]
  },
  {
   "cell_type": "code",
   "execution_count": null,
   "id": "56e77dfe",
   "metadata": {},
   "outputs": [],
   "source": [
    "df_inventory_emf = company_inventory_packages_dataframe_emf\n",
    "df_sales_emf = deduped_sales_receipts_with_transactions_dataframe_emf"
   ]
  },
  {
   "cell_type": "code",
   "execution_count": null,
   "id": "d1331450",
   "metadata": {},
   "outputs": [],
   "source": [
    "df_summary_simp_emf,_ = cogs_analysis(df_in,df_sales_emf,'monthly')\n",
    "#tax treatment\n",
    "df_summary_simp_emf['revenue_after_tax'] = df_summary_simp_emf['revenue'] * 1.15\n",
    "df_summary_simp_emf['cogs_after_tax'] = df_summary_simp_emf['cogs'] * 1.27\n",
    "df_summary_simp_emf['margin_$_after_tax'] = df_summary_simp_emf['revenue_after_tax'] - df_summary_simp_emf['cogs_after_tax']\n",
    "df_summary_simp_emf['margin_%_after_tax'] = df_summary_simp_emf['margin_$_after_tax'] / df_summary_simp_emf['revenue_after_tax']\n",
    "# past quarter pre tax\n",
    "df_summary_simp_emf['gm_past_quarter'] = df_summary_simp_emf[['margin_%']].rolling(3).mean().values\n",
    "df_summary_simp_emf['gm_past_2quarters'] = df_summary_simp_emf[['margin_%']].rolling(6).mean().values\n",
    "df_summary_simp_emf['gm_past_3quarters'] = df_summary_simp_emf[['margin_%']].rolling(9).mean().values\n",
    "df_summary_simp_emf['sum_cogs_past_3months'] = df_summary_simp_emf[['cogs']].rolling(3).sum().values\n",
    "# past quarter after tax\n",
    "df_summary_simp_emf['gm_past_quarter_after_tax'] = df_summary_simp_emf[['margin_%_after_tax']].rolling(3).mean().values\n",
    "df_summary_simp_emf['gm_past_2quarters_after_tax'] = df_summary_simp_emf[['margin_%_after_tax']].rolling(6).mean().values\n",
    "df_summary_simp_emf['gm_past_3quarters_after_tax'] = df_summary_simp_emf[['margin_%_after_tax']].rolling(9).mean().values\n",
    "# revenue change\n",
    "df_summary_simp_emf['revenue_change'] = df_summary_simp_emf['revenue'].pct_change()\n",
    "df_summary_simp_emf.index = df_summary_simp_emf.date \n"
   ]
  },
  {
   "cell_type": "code",
   "execution_count": null,
   "id": "7de2868f",
   "metadata": {},
   "outputs": [],
   "source": [
    "df_summary_simp_emf"
   ]
  },
  {
   "cell_type": "code",
   "execution_count": null,
   "id": "8ceedbdb",
   "metadata": {},
   "outputs": [],
   "source": [
    "emf_revenue_vs_state = calculate_quarterly_sum_gmv_ca(df_summary_simp_emf)\n",
    "emf_revenue_vs_state"
   ]
  },
  {
   "cell_type": "code",
   "execution_count": null,
   "id": "0b7068a9",
   "metadata": {},
   "outputs": [],
   "source": [
    "round(emf_revenue_vs_state.dropna()['total'].sum(),2)"
   ]
  },
  {
   "cell_type": "markdown",
   "id": "4cd754eb",
   "metadata": {},
   "source": [
    "## BUD only"
   ]
  },
  {
   "cell_type": "markdown",
   "id": "5a3002e5",
   "metadata": {},
   "source": [
    "### sac"
   ]
  },
  {
   "cell_type": "code",
   "execution_count": null,
   "id": "9022c43d",
   "metadata": {},
   "outputs": [],
   "source": [
    "df_inventory_sac = company_inventory_packages_dataframe_sac\n",
    "df_sales_sac = deduped_sales_receipts_with_transactions_dataframe_sac"
   ]
  },
  {
   "cell_type": "code",
   "execution_count": null,
   "id": "e1c9bc88",
   "metadata": {},
   "outputs": [],
   "source": [
    "df_summary_simp_sac,_ = cogs_analysis(df_in,df_sales_sac,'monthly')\n",
    "#tax treatment\n",
    "df_summary_simp_sac['revenue_after_tax'] = df_summary_simp_sac['revenue'] * 1.15\n",
    "df_summary_simp_sac['cogs_after_tax'] = df_summary_simp_sac['cogs'] * 1.27\n",
    "df_summary_simp_sac['margin_$_after_tax'] = df_summary_simp_sac['revenue_after_tax'] - df_summary_simp_sac['cogs_after_tax']\n",
    "df_summary_simp_sac['margin_%_after_tax'] = df_summary_simp_sac['margin_$_after_tax'] / df_summary_simp_sac['revenue_after_tax']\n",
    "# past quarter pre tax\n",
    "df_summary_simp_sac['gm_past_quarter'] = df_summary_simp_sac[['margin_%']].rolling(3).mean().values\n",
    "df_summary_simp_sac['gm_past_2quarters'] = df_summary_simp_sac[['margin_%']].rolling(6).mean().values\n",
    "df_summary_simp_sac['gm_past_3quarters'] = df_summary_simp_sac[['margin_%']].rolling(9).mean().values\n",
    "df_summary_simp_sac['sum_cogs_past_3months'] = df_summary_simp_sac[['cogs']].rolling(3).sum().values\n",
    "# past quarter after tax\n",
    "df_summary_simp_sac['gm_past_quarter_after_tax'] = df_summary_simp_sac[['margin_%_after_tax']].rolling(3).mean().values\n",
    "df_summary_simp_sac['gm_past_2quarters_after_tax'] = df_summary_simp_sac[['margin_%_after_tax']].rolling(6).mean().values\n",
    "df_summary_simp_sac['gm_past_3quarters_after_tax'] = df_summary_simp_sac[['margin_%_after_tax']].rolling(9).mean().values\n",
    "# revenue change\n",
    "df_summary_simp_sac['revenue_change'] = df_summary_simp_sac['revenue'].pct_change()\n",
    "df_summary_simp_sac.index = df_summary_simp_sac.date \n",
    "\n"
   ]
  },
  {
   "cell_type": "code",
   "execution_count": null,
   "id": "c666195e",
   "metadata": {},
   "outputs": [],
   "source": [
    "df_summary_simp_sac"
   ]
  },
  {
   "cell_type": "code",
   "execution_count": null,
   "id": "f2c82214",
   "metadata": {},
   "outputs": [],
   "source": [
    "sac_revenue_vs_state = calculate_quarterly_sum_gmv_ca(df_summary_simp_sac)\n",
    "round(sac_revenue_vs_state.dropna()['total'].sum(),2)"
   ]
  },
  {
   "cell_type": "code",
   "execution_count": null,
   "id": "db69ec59",
   "metadata": {},
   "outputs": [],
   "source": [
    "sac_revenue_vs_state"
   ]
  },
  {
   "cell_type": "markdown",
   "id": "936c9244",
   "metadata": {},
   "source": [
    "### fresno"
   ]
  },
  {
   "cell_type": "code",
   "execution_count": null,
   "id": "fdc26817",
   "metadata": {},
   "outputs": [],
   "source": [
    "df_inventory_fresno = company_inventory_packages_dataframe_fresno\n",
    "df_sales_fresno = deduped_sales_receipts_with_transactions_dataframe_fresno"
   ]
  },
  {
   "cell_type": "code",
   "execution_count": null,
   "id": "cbc91181",
   "metadata": {},
   "outputs": [],
   "source": [
    "df_summary_simp_fresno,_ = cogs_analysis(df_in,df_sales_fresno,'monthly')\n",
    "#tax treatment\n",
    "df_summary_simp_fresno['revenue_after_tax'] = df_summary_simp_fresno['revenue'] * 1.15\n",
    "df_summary_simp_fresno['cogs_after_tax'] = df_summary_simp_fresno['cogs'] * 1.27\n",
    "df_summary_simp_fresno['margin_$_after_tax'] = df_summary_simp_fresno['revenue_after_tax'] - df_summary_simp_fresno['cogs_after_tax']\n",
    "df_summary_simp_fresno['margin_%_after_tax'] = df_summary_simp_fresno['margin_$_after_tax'] / df_summary_simp_fresno['revenue_after_tax']\n",
    "# past quarter pre tax\n",
    "df_summary_simp_fresno['gm_past_quarter'] = df_summary_simp_fresno[['margin_%']].rolling(3).mean().values\n",
    "df_summary_simp_fresno['gm_past_2quarters'] = df_summary_simp_fresno[['margin_%']].rolling(6).mean().values\n",
    "df_summary_simp_fresno['gm_past_3quarters'] = df_summary_simp_fresno[['margin_%']].rolling(9).mean().values\n",
    "df_summary_simp_fresno['sum_cogs_past_3months'] = df_summary_simp_fresno[['cogs']].rolling(3).sum().values\n",
    "# past quarter after tax\n",
    "df_summary_simp_fresno['gm_past_quarter_after_tax'] = df_summary_simp_fresno[['margin_%_after_tax']].rolling(3).mean().values\n",
    "df_summary_simp_fresno['gm_past_2quarters_after_tax'] = df_summary_simp_fresno[['margin_%_after_tax']].rolling(6).mean().values\n",
    "df_summary_simp_fresno['gm_past_3quarters_after_tax'] = df_summary_simp_fresno[['margin_%_after_tax']].rolling(9).mean().values\n",
    "# revenue change\n",
    "df_summary_simp_fresno['revenue_change'] = df_summary_simp_fresno['revenue'].pct_change()\n",
    "df_summary_simp_fresno.index = df_summary_simp_fresno.date \n",
    "\n"
   ]
  },
  {
   "cell_type": "code",
   "execution_count": null,
   "id": "93e3128f",
   "metadata": {},
   "outputs": [],
   "source": [
    "df_summary_simp_fresno"
   ]
  },
  {
   "cell_type": "code",
   "execution_count": null,
   "id": "078b9876",
   "metadata": {},
   "outputs": [],
   "source": [
    "fresno_revenue_vs_state = calculate_quarterly_sum_gmv_ca(df_summary_simp_fresno)\n",
    "fresno_revenue_vs_state\n",
    "round(fresno_revenue_vs_state.dropna()['total'].sum(),2)"
   ]
  },
  {
   "cell_type": "code",
   "execution_count": null,
   "id": "bbaaf383",
   "metadata": {},
   "outputs": [],
   "source": [
    "fresno_revenue_vs_state"
   ]
  },
  {
   "cell_type": "markdown",
   "id": "efa115e4",
   "metadata": {},
   "source": [
    "### LA"
   ]
  },
  {
   "cell_type": "code",
   "execution_count": null,
   "id": "b43912d7",
   "metadata": {},
   "outputs": [],
   "source": [
    "df_inventory_la = company_inventory_packages_dataframe_la\n",
    "df_sales_la = deduped_sales_receipts_with_transactions_dataframe_la"
   ]
  },
  {
   "cell_type": "code",
   "execution_count": null,
   "id": "561baef2",
   "metadata": {},
   "outputs": [],
   "source": [
    "df_summary_simp_la,_ = cogs_analysis(df_in,df_sales_la,'monthly')\n",
    "#tax treatment\n",
    "df_summary_simp_la['revenue_after_tax'] = df_summary_simp_la['revenue'] * 1.15\n",
    "df_summary_simp_la['cogs_after_tax'] = df_summary_simp_la['cogs'] * 1.27\n",
    "df_summary_simp_la['margin_$_after_tax'] = df_summary_simp_la['revenue_after_tax'] - df_summary_simp_la['cogs_after_tax']\n",
    "df_summary_simp_la['margin_%_after_tax'] = df_summary_simp_la['margin_$_after_tax'] / df_summary_simp_la['revenue_after_tax']\n",
    "# past quarter pre tax\n",
    "df_summary_simp_la['gm_past_quarter'] = df_summary_simp_la[['margin_%']].rolling(3).mean().values\n",
    "df_summary_simp_la['gm_past_2quarters'] = df_summary_simp_la[['margin_%']].rolling(6).mean().values\n",
    "df_summary_simp_la['gm_past_3quarters'] = df_summary_simp_la[['margin_%']].rolling(9).mean().values\n",
    "df_summary_simp_la['sum_cogs_past_3months'] = df_summary_simp_la[['cogs']].rolling(3).sum().values\n",
    "# past quarter after tax\n",
    "df_summary_simp_la['gm_past_quarter_after_tax'] = df_summary_simp_la[['margin_%_after_tax']].rolling(3).mean().values\n",
    "df_summary_simp_la['gm_past_2quarters_after_tax'] = df_summary_simp_la[['margin_%_after_tax']].rolling(6).mean().values\n",
    "df_summary_simp_la['gm_past_3quarters_after_tax'] = df_summary_simp_la[['margin_%_after_tax']].rolling(9).mean().values\n",
    "# revenue change\n",
    "df_summary_simp_la['revenue_change'] = df_summary_simp_la['revenue'].pct_change()\n",
    "df_summary_simp_la.index = df_summary_simp_la.date \n",
    "\n"
   ]
  },
  {
   "cell_type": "code",
   "execution_count": null,
   "id": "bc69f173",
   "metadata": {},
   "outputs": [],
   "source": [
    "df_summary_simp_la"
   ]
  },
  {
   "cell_type": "code",
   "execution_count": null,
   "id": "dea4914a",
   "metadata": {},
   "outputs": [],
   "source": [
    "la_revenue_vs_state = calculate_quarterly_sum_gmv_ca(df_summary_simp_la)\n",
    "la_revenue_vs_state\n",
    "round(la_revenue_vs_state.dropna()['total'].sum(),2)"
   ]
  },
  {
   "cell_type": "code",
   "execution_count": null,
   "id": "b1b7c632",
   "metadata": {},
   "outputs": [],
   "source": [
    "la_revenue_vs_state"
   ]
  },
  {
   "cell_type": "markdown",
   "id": "ec024f55",
   "metadata": {},
   "source": [
    "# Inventory"
   ]
  },
  {
   "cell_type": "code",
   "execution_count": 58,
   "id": "298ac0f2",
   "metadata": {},
   "outputs": [
    {
     "data": {
      "text/plain": [
       "datetime.date(2022, 3, 25)"
      ]
     },
     "execution_count": 58,
     "metadata": {},
     "output_type": "execute_result"
    }
   ],
   "source": [
    "today = date.today()\n",
    "today"
   ]
  },
  {
   "cell_type": "code",
   "execution_count": 59,
   "id": "bd64953d",
   "metadata": {},
   "outputs": [
    {
     "data": {
      "text/plain": [
       "['ST']"
      ]
     },
     "execution_count": 59,
     "metadata": {},
     "output_type": "execute_result"
    }
   ],
   "source": [
    "COMPANY_IDENTIFIER"
   ]
  },
  {
   "cell_type": "code",
   "execution_count": 60,
   "id": "7178d8cc",
   "metadata": {},
   "outputs": [
    {
     "data": {
      "text/plain": [
       "['C9-0000323-LIC']"
      ]
     },
     "execution_count": 60,
     "metadata": {},
     "output_type": "execute_result"
    }
   ],
   "source": [
    "license_numbers"
   ]
  },
  {
   "cell_type": "code",
   "execution_count": 65,
   "id": "8bc48508",
   "metadata": {},
   "outputs": [],
   "source": [
    "def calculate_inventory_valuation(incoming_transfer_df,sales_df,inventory_df,license_list):\n",
    "    # legal name\n",
    "    legal_name = incoming_transfer_df[incoming_transfer_df['license_number'].isin(license_list)]['recipient_facility_name'].values[0]\n",
    "    # process df_in and df_sales\n",
    "    sales_df['per_unit'] = sales_df['tx_total_price'] / sales_df['tx_quantity_sold']\n",
    "    sales_df['year_month'] = sales_df['sales_datetime'].dt.strftime(\"%Y-%m\")\n",
    "    incoming_transfer_df['per_unit_incoming'] = incoming_transfer_df['shipper_wholesale_price'] / incoming_transfer_df['shipped_quantity']\n",
    "    incoming_transfer_df_price = incoming_transfer_df[incoming_transfer_df['shipper_wholesale_price'].notnull()]\n",
    "    # by package id\n",
    "    average_incoming_package_id = incoming_transfer_df_price.groupby(['package_id'])['per_unit_incoming'].mean()\n",
    "    df_avg_incoming_price = pd.Series(average_incoming_package_id).to_frame()\n",
    "    df_avg_incoming_price = df_avg_incoming_price.reset_index()\n",
    "    # by product\n",
    "    average_incoming_product = incoming_transfer_df_price.groupby(['product_name'])['per_unit_incoming'].mean()\n",
    "    df_avg_product = pd.Series(average_incoming_product).to_frame()\n",
    "    df_avg_product = df_avg_product.reset_index()\n",
    "    df_avg_product.rename(columns={'per_unit_incoming':'per_unit_product'}, inplace=True)\n",
    "    #calculate inventory\n",
    "    df_inventory_incoming = pd.merge(inventory_df, df_avg_incoming_price, left_on=['package_id'],right_on = ['package_id'], how='left')\n",
    "    #left_on=['tx_product_name','tx_unit_of_measure'], right_on=['product_name','shipped_unit_of_measure'], how='left'\n",
    "    df_inventory_incoming.replace([numpy.inf], numpy.nan, inplace=True)\n",
    "    df_inv_null = df_inventory_incoming[df_inventory_incoming['per_unit_incoming'].isnull()]\n",
    "    df_inv_product = pd.merge(df_inv_null, df_avg_product, left_on=['product_name'],right_on = ['product_name'], how='left')\n",
    "    df_inv_product.replace([numpy.inf], numpy.nan, inplace=True)\n",
    "    df_inv_product_price = df_inv_product[df_inv_product['per_unit_product'].notnull()]\n",
    "    df_inv_product_price['total_price'] = df_inv_product_price['quantity'] * df_inv_product_price['per_unit_product']\n",
    "    \n",
    "    inventory_product_value = df_inv_product_price['total_price'].sum()\n",
    "    df_inventory_incoming['total_price'] = df_inventory_incoming['quantity'] * df_inventory_incoming['per_unit_incoming']\n",
    "    inventory_value = df_inventory_incoming['total_price'].sum()\n",
    "    total_inv_value = inventory_product_value + inventory_value\n",
    "    total_inv_value_after_tax = (inventory_product_value + inventory_value) * 1.27\n",
    "    inv_count_product = df_inv_product_price['per_unit_product'].count()\n",
    "    inv_count_incoming = df_inventory_incoming['per_unit_incoming'].count()\n",
    "    inv_count_total = df_inventory_incoming['quantity'].count()\n",
    "    inv_total_incoming = inv_count_product + inv_count_incoming\n",
    "    inventory_coverage = inv_total_incoming / inv_count_total\n",
    "    # prepare data\n",
    "    data = [[today], \n",
    "            [total_inv_value], \n",
    "            [total_inv_value_after_tax],\n",
    "            [inv_total_incoming], \n",
    "            [inv_count_total], \n",
    "            [inventory_coverage],\n",
    "            [license_list],\n",
    "            [legal_name]]\n",
    "    df_inventory_license = pd.DataFrame(data).T\n",
    "    df_inventory_license.columns = ['date','value','value_after_tax','total_incoming','total','coverage','license','legal_name']\n",
    "    return df_inventory_license\n",
    "    "
   ]
  },
  {
   "cell_type": "code",
   "execution_count": null,
   "id": "6e68a52e",
   "metadata": {},
   "outputs": [],
   "source": [
    "def calculate_inventory_valuation_new(incoming_transfer_df,sales_df,inventory_df,license_list):\n",
    "    # legal name\n",
    "    legal_name = incoming_transfer_df[incoming_transfer_df['license_number'].isin(license_list)]['recipient_facility_name'].values[0]\n",
    "    # process df_in and df_sales\n",
    "    sales_df['per_unit'] = sales_df['tx_total_price'] / sales_df['tx_quantity_sold']\n",
    "    sales_df['year_month'] = sales_df['sales_datetime'].dt.strftime(\"%Y-%m\")\n",
    "    incoming_transfer_df['per_unit_incoming'] = incoming_transfer_df['shipper_wholesale_price'] / incoming_transfer_df['shipped_quantity']\n",
    "    incoming_transfer_df_price = incoming_transfer_df[incoming_transfer_df['shipper_wholesale_price'].notnull()]\n",
    "    # by package id\n",
    "    average_incoming_package_id = incoming_transfer_df_price.groupby(['package_id','shipped_unit_of_measure'])['per_unit_incoming'].mean()\n",
    "    df_avg_incoming_price = pd.Series(average_incoming_package_id).to_frame()\n",
    "    df_avg_incoming_price = df_avg_incoming_price.reset_index()\n",
    "    # by product\n",
    "    average_incoming_product = incoming_transfer_df_price.groupby(['product_name','shipped_unit_of_measure'])['per_unit_incoming'].mean()\n",
    "    df_avg_product = pd.Series(average_incoming_product).to_frame()\n",
    "    df_avg_product = df_avg_product.reset_index()\n",
    "    df_avg_product.rename(columns={'per_unit_incoming':'per_unit_product'}, inplace=True)\n",
    "    #calculate inventory\n",
    "    df_inventory_incoming = pd.merge(inventory_df, df_avg_incoming_price, left_on=['package_id','unit_of_measure'],right_on = ['package_id','shipped_unit_of_measure'], how='left')\n",
    "    #left_on=['tx_product_name','tx_unit_of_measure'], right_on=['product_name','shipped_unit_of_measure'], how='left'\n",
    "    df_inventory_incoming.replace([numpy.inf], numpy.nan, inplace=True)\n",
    "    df_inv_null = df_inventory_incoming[df_inventory_incoming['per_unit_incoming'].isnull()]\n",
    "    df_inv_product = pd.merge(df_inv_null, df_avg_product, left_on=['product_name','unit_of_measure'],right_on = ['product_name','shipped_unit_of_measure'], how='left')\n",
    "    df_inv_product.replace([numpy.inf], numpy.nan, inplace=True)\n",
    "    df_inv_product_price = df_inv_product[df_inv_product['per_unit_product'].notnull()]\n",
    "    df_inv_product_price['total_price'] = df_inv_product_price['quantity'] * df_inv_product_price['per_unit_product']\n",
    "    \n",
    "    inventory_product_value = df_inv_product_price['total_price'].sum()\n",
    "    df_inventory_incoming['total_price'] = df_inventory_incoming['quantity'] * df_inventory_incoming['per_unit_incoming']\n",
    "    inventory_value = df_inventory_incoming['total_price'].sum()\n",
    "    total_inv_value = inventory_product_value + inventory_value\n",
    "    inv_count_product = df_inv_product_price['per_unit_product'].count()\n",
    "    inv_count_incoming = df_inventory_incoming['per_unit_incoming'].count()\n",
    "    inv_count_total = df_inventory_incoming['quantity'].count()\n",
    "    inv_total_incoming = inv_count_product + inv_count_incoming\n",
    "    inventory_coverage = inv_total_incoming / inv_count_total\n",
    "    # prepare data\n",
    "    data = [[today], \n",
    "            [total_inv_value], \n",
    "            [inv_total_incoming], \n",
    "            [inv_count_total], \n",
    "            [inventory_coverage],\n",
    "            [license_list],\n",
    "            [legal_name]]\n",
    "    df_inventory_license = pd.DataFrame(data).T\n",
    "    df_inventory_license.columns = ['date','value','total_incoming','total','coverage','license','legal_name']\n",
    "    return df_inventory_license\n",
    "    "
   ]
  },
  {
   "cell_type": "markdown",
   "id": "d4037d15",
   "metadata": {},
   "source": [
    "## embarc only"
   ]
  },
  {
   "cell_type": "code",
   "execution_count": null,
   "id": "99417777",
   "metadata": {},
   "outputs": [],
   "source": [
    "df_inventory_license_ema = calculate_inventory_valuation(df_in,df_sales_ema,df_inventory_ema,['C10-0000774-LIC'])\n",
    "df_inventory_license_emm = calculate_inventory_valuation(df_in,df_sales_emm,df_inventory_emm,['C10-0000786-LIC'])\n",
    "df_inventory_license_emt = calculate_inventory_valuation(df_in,df_sales_emt,df_inventory_emt,['C10-0000695-LIC'])\n",
    "df_inventory_license_emf = calculate_inventory_valuation(df_in,df_sales_emt,df_inventory_emt,['C10-0000939-LIC'])"
   ]
  },
  {
   "cell_type": "code",
   "execution_count": null,
   "id": "e9e56e19",
   "metadata": {},
   "outputs": [],
   "source": [
    "df_inventory_license_emf"
   ]
  },
  {
   "cell_type": "markdown",
   "id": "0a0ec4ea",
   "metadata": {},
   "source": [
    "##  bud only"
   ]
  },
  {
   "cell_type": "code",
   "execution_count": null,
   "id": "96eddfe2",
   "metadata": {},
   "outputs": [],
   "source": [
    "df_inventory_license_sac = calculate_inventory_valuation(df_in,df_sales_sac,df_inventory_sac,['C9-0000399-LIC'])\n",
    "df_inventory_license_fresno = calculate_inventory_valuation(df_in,df_sales_fresno,df_inventory_fresno,['C9-0000467-LIC'])\n",
    "df_inventory_license_la = calculate_inventory_valuation(df_in,df_sales_la,df_inventory_la,['C9-0000464-LIC'])\n",
    "\n"
   ]
  },
  {
   "cell_type": "code",
   "execution_count": null,
   "id": "a7fa7dd4",
   "metadata": {},
   "outputs": [],
   "source": [
    "df_inventory_license_sac"
   ]
  },
  {
   "cell_type": "markdown",
   "id": "49d89a79",
   "metadata": {},
   "source": [
    "## For others"
   ]
  },
  {
   "cell_type": "code",
   "execution_count": 66,
   "id": "21ca80d4",
   "metadata": {},
   "outputs": [],
   "source": [
    "df_inventory_license = calculate_inventory_valuation(df_in,df_sales,df_inventory,license_numbers)"
   ]
  },
  {
   "cell_type": "code",
   "execution_count": 86,
   "id": "87b802cd",
   "metadata": {},
   "outputs": [
    {
     "data": {
      "text/plain": [
       "'CA'"
      ]
     },
     "execution_count": 86,
     "metadata": {},
     "output_type": "execute_result"
    }
   ],
   "source": []
  },
  {
   "cell_type": "code",
   "execution_count": 71,
   "id": "1a63eef1",
   "metadata": {},
   "outputs": [
    {
     "data": {
      "text/html": [
       "<div>\n",
       "<style scoped>\n",
       "    .dataframe tbody tr th:only-of-type {\n",
       "        vertical-align: middle;\n",
       "    }\n",
       "\n",
       "    .dataframe tbody tr th {\n",
       "        vertical-align: top;\n",
       "    }\n",
       "\n",
       "    .dataframe thead th {\n",
       "        text-align: right;\n",
       "    }\n",
       "</style>\n",
       "<table border=\"1\" class=\"dataframe\">\n",
       "  <thead>\n",
       "    <tr style=\"text-align: right;\">\n",
       "      <th></th>\n",
       "      <th>date</th>\n",
       "      <th>value</th>\n",
       "      <th>value_after_tax</th>\n",
       "      <th>total_incoming</th>\n",
       "      <th>total</th>\n",
       "      <th>coverage</th>\n",
       "      <th>license</th>\n",
       "      <th>legal_name</th>\n",
       "    </tr>\n",
       "  </thead>\n",
       "  <tbody>\n",
       "    <tr>\n",
       "      <th>0</th>\n",
       "      <td>2022-03-25</td>\n",
       "      <td>65057.527675</td>\n",
       "      <td>82623.060147</td>\n",
       "      <td>545</td>\n",
       "      <td>549</td>\n",
       "      <td>0.992714</td>\n",
       "      <td>[C9-0000323-LIC]</td>\n",
       "      <td>MAKE YOUR MARK SF INC</td>\n",
       "    </tr>\n",
       "  </tbody>\n",
       "</table>\n",
       "</div>"
      ],
      "text/plain": [
       "         date         value value_after_tax total_incoming total  coverage  \\\n",
       "0  2022-03-25  65057.527675    82623.060147            545   549  0.992714   \n",
       "\n",
       "            license             legal_name  \n",
       "0  [C9-0000323-LIC]  MAKE YOUR MARK SF INC  "
      ]
     },
     "execution_count": 71,
     "metadata": {},
     "output_type": "execute_result"
    }
   ],
   "source": [
    "df_inventory_license"
   ]
  },
  {
   "cell_type": "markdown",
   "id": "4d31d1df",
   "metadata": {},
   "source": [
    "# Create Template"
   ]
  },
  {
   "cell_type": "code",
   "execution_count": 74,
   "id": "16256c8f",
   "metadata": {},
   "outputs": [],
   "source": [
    "current_month = '2022-02'"
   ]
  },
  {
   "cell_type": "code",
   "execution_count": 96,
   "id": "50c0a7c5",
   "metadata": {},
   "outputs": [],
   "source": [
    "# create template file with after tax inventory valuation and also credit limit\n",
    "def create_template(df_gmv_state,df_cogs_analysis,df_inventory_analysis,df_churn,df_license_check,license_list,df_company_license):\n",
    "    # cogs coverage check\n",
    "    metrc_cogs_coverage_current = df_cogs_analysis[df_cogs_analysis['coverage'] > 0]['coverage'].mean()\n",
    "    metrc_cogs_coverage_current_reliable = metrc_cogs_coverage_current > 0.75\n",
    "    print(metrc_cogs_coverage_current,metrc_cogs_coverage_current_reliable)\n",
    "    # inventory coverage check\n",
    "    metrc_inventory_coverage_current = df_inventory_analysis.coverage.values[0]\n",
    "    metrc_inventory_coverage_current_reliable = metrc_inventory_coverage_current > 0.75\n",
    "    print(metrc_inventory_coverage_current,metrc_inventory_coverage_current_reliable)\n",
    "    # inventory TO\n",
    "    inventory_to_df = pd.DataFrame(df_cogs_analysis['sum_cogs_past_3months'] / df_inventory_analysis.value.values[0] * 4)\n",
    "    inventory_to_df.columns = ['inventory_TO']\n",
    "    inventory_to_current = inventory_to_df.loc[current_month]['inventory_TO']\n",
    "    inventory_to_current_score = 0 if inventory_to_current < 6 else 10\n",
    "    print(inventory_to_current,inventory_to_current_score)\n",
    "    #inventory valuation\n",
    "    inventory = df_inventory_analysis['value'][0]\n",
    "    if df_company_license['us_state'][0] == 'CA':\n",
    "        inventory_after_tax = df_inventory_analysis['value_after_tax'][0]\n",
    "    else:\n",
    "        inventory_after_tax = inventory\n",
    "    # credit limit\n",
    "    credit_limit = round(min(df_cogs_analysis['sum_cogs_past_3months'].loc[current_month],inventory_after_tax),-4)\n",
    "    # vendor churn score\n",
    "    vendor_churn_current = df_churn.loc[current_month]['%_inactive'].values[0]\n",
    "    vendor_churn_current_score = 0 if vendor_churn_current > 0.45 else 10\n",
    "    print(vendor_churn_current,vendor_churn_current_score)\n",
    "    # margin score\n",
    "    # gm past 1,2,3 quarters\n",
    "    gm_past_quarter = df_cogs_analysis.loc[current_month]['gm_past_quarter']\n",
    "    gm_past_2quarters = df_cogs_analysis.loc[current_month]['gm_past_2quarters']\n",
    "    gm_past_3quarters = df_cogs_analysis.loc[current_month]['gm_past_3quarters']\n",
    "    # gm past 1,2,3 quarters after tax\n",
    "    gm_past_quarter_after_tax = df_cogs_analysis.loc[current_month]['gm_past_quarter_after_tax']\n",
    "    gm_past_2quarters_after_tax = df_cogs_analysis.loc[current_month]['gm_past_2quarters_after_tax']\n",
    "    gm_past_3quarters_after_tax = df_cogs_analysis.loc[current_month]['gm_past_3quarters_after_tax']\n",
    "    \n",
    "    # gm scores past 1,2,3 quarters\n",
    "    gm_past_quarter_score = 5 if df_cogs_analysis.loc[current_month]['gm_past_quarter'] >= 0.5 else 0\n",
    "    gm_past_2quarters_score = 10 if df_cogs_analysis.loc[current_month]['gm_past_2quarters'] >= 0.5 else 0\n",
    "    gm_past_3quarters_score = 15 if df_cogs_analysis.loc[current_month]['gm_past_3quarters'] >= 0.5 else 0\n",
    "    # gm scores past 1,2,3 quarters after tax (use 0.49 as threshold)\n",
    "    gm_past_quarter_score_after_tax_49 = 5 if df_cogs_analysis.loc[current_month]['gm_past_quarter_after_tax'] >= 0.49 else 0\n",
    "    gm_past_2quarters_score_after_tax_49 = 10 if df_cogs_analysis.loc[current_month]['gm_past_2quarters_after_tax'] >= 0.49 else 0\n",
    "    gm_past_3quarters_score_after_tax_49 = 15 if df_cogs_analysis.loc[current_month]['gm_past_3quarters_after_tax'] >= 0.49 else 0\n",
    "    # gm scores past 1,2,3 quarters after tax (use 0.51 as threshold)\n",
    "    gm_past_quarter_score_after_tax_51 = 5 if df_cogs_analysis.loc[current_month]['gm_past_quarter_after_tax'] >= 0.51 else 0\n",
    "    gm_past_2quarters_score_after_tax_51 = 10 if df_cogs_analysis.loc[current_month]['gm_past_2quarters_after_tax'] >= 0.51 else 0\n",
    "    gm_past_3quarters_score_after_tax_51 = 15 if df_cogs_analysis.loc[current_month]['gm_past_3quarters_after_tax'] >= 0.51 else 0\n",
    "    \n",
    "    # revenue change\n",
    "    monthly_revenue_change = df_cogs_analysis.loc[current_month]['revenue_change']\n",
    "    # revenue vs state score\n",
    "    revenue_state_score = min(round(df_gmv_state.dropna()['total'].sum(),2),10)\n",
    "    template_data = pd.DataFrame([\n",
    "              ['license is current',df_license_check[df_license_check['license_number'].isin(license_list)].reset_index().is_current[0]],\n",
    "              ['license is active',df_license_check[df_license_check['license_number'].isin(license_list)].reset_index().license_status[0]],\n",
    "              ['license check',df_license_check[df_license_check['license_number'].isin(license_list)].reset_index().license_check[0]],\n",
    "              ['metrc cogs coverage',metrc_cogs_coverage_current],\n",
    "              ['metrc cogs coverage reliable ?',metrc_cogs_coverage_current_reliable],\n",
    "              ['metrc inventory coverage',metrc_inventory_coverage_current],\n",
    "              ['metrc inventory coverage reliable ?',metrc_inventory_coverage_current_reliable],\n",
    "              ['inventory turnover',inventory_to_current],\n",
    "              ['inventory turnover score',inventory_to_current_score],\n",
    "              # gm\n",
    "              ['GM past quarter',gm_past_quarter],\n",
    "              ['GM score past quarter',gm_past_quarter_score],\n",
    "              ['GM past 2 quarters',gm_past_2quarters],\n",
    "              ['GM score past 2 quarters',gm_past_2quarters_score],\n",
    "              ['GM past 3 quarters',gm_past_3quarters],\n",
    "              ['GM score past 3 quarters',gm_past_3quarters_score],\n",
    "              # gm after tax\n",
    "              ['GM past quarter after tax',gm_past_quarter_after_tax],\n",
    "              ['GM score past quarter after tax (49)',gm_past_quarter_score_after_tax_49],\n",
    "              ['GM score past quarter after tax (51)',gm_past_quarter_score_after_tax_51],\n",
    "              ['GM past 2 quarters after tax',gm_past_2quarters_after_tax],\n",
    "              ['GM score past 2 quarters after tax (49)',gm_past_2quarters_score_after_tax_49],\n",
    "              ['GM score past 2 quarters after tax (51)',gm_past_2quarters_score_after_tax_51],\n",
    "              ['GM past 3 quarters after tax',gm_past_3quarters_after_tax],\n",
    "              ['GM score past 3 quarters after tax (49)',gm_past_3quarters_score_after_tax_49],\n",
    "              ['GM score past 3 quarters after tax (51)',gm_past_3quarters_score_after_tax_51],\n",
    "              # vendor churn\n",
    "              ['vendor churn',vendor_churn_current],\n",
    "              ['vendor churn score',vendor_churn_current_score],\n",
    "              # revenue trend vs state\n",
    "              ['revenue vs state change score',revenue_state_score],\n",
    "              # inventory valuation\n",
    "              ['inventory valuation',round(inventory,2)],\n",
    "              ['inventory valuation after tax',round(inventory_after_tax,2)],\n",
    "              # total score\n",
    "              ['total score',inventory_to_current_score+gm_past_quarter_score+gm_past_2quarters_score+gm_past_3quarters_score+\\\n",
    "              vendor_churn_current_score+revenue_state_score],\n",
    "              ['total score (49)',inventory_to_current_score + gm_past_quarter_score_after_tax_49 + gm_past_2quarters_score_after_tax_49 + gm_past_3quarters_score_after_tax_49 + \\\n",
    "              vendor_churn_current_score+revenue_state_score],\n",
    "              ['total score (51)',inventory_to_current_score + gm_past_quarter_score_after_tax_51 + gm_past_2quarters_score_after_tax_51 + gm_past_3quarters_score_after_tax_51 + \\\n",
    "              vendor_churn_current_score+revenue_state_score],\n",
    "              ['credit limit',credit_limit],\n",
    "        \n",
    "        \n",
    "             ])\n",
    "    return template_data\n"
   ]
  },
  {
   "cell_type": "markdown",
   "id": "e1131c4e",
   "metadata": {},
   "source": [
    "## embarc only"
   ]
  },
  {
   "cell_type": "code",
   "execution_count": null,
   "id": "75e2f680",
   "metadata": {},
   "outputs": [],
   "source": [
    "tempalte_ema = create_template(ema_revenue_vs_state,df_summary_simp_ema,df_inventory_license_ema,churn_ema,retial_license_check_df,['C10-0000774-LIC'])\n",
    "tempalte_ema\n",
    "\n"
   ]
  },
  {
   "cell_type": "code",
   "execution_count": null,
   "id": "90f2a319",
   "metadata": {},
   "outputs": [],
   "source": [
    "# # ema\n",
    "# license_number = 'C10-0000774-LIC'\n",
    "# COMPANY_IDENTIFIER = 'EMA'\n",
    "# tempalte_ema.to_csv('../analysis/surveillance/'+COMPANY_IDENTIFIER+'/'+current_month + '/template/' + COMPANY_IDENTIFIER + '_'+ str(today) + '_' +license_number +'_template_test.csv')"
   ]
  },
  {
   "cell_type": "code",
   "execution_count": null,
   "id": "e103c7a3",
   "metadata": {},
   "outputs": [],
   "source": [
    "tempalte_emm = create_template(emm_revenue_vs_state,df_summary_simp_emm,df_inventory_license_emm,churn_emm,retial_license_check_df,['C10-0000786-LIC'])\n",
    "tempalte_emm\n",
    "\n"
   ]
  },
  {
   "cell_type": "code",
   "execution_count": null,
   "id": "cb206e8e",
   "metadata": {},
   "outputs": [],
   "source": [
    "# # emm\n",
    "# license_number = 'C10-0000786-LIC'\n",
    "# COMPANY_IDENTIFIER = 'EMM'\n",
    "# tempalte_emm.to_csv('../analysis/surveillance/'+COMPANY_IDENTIFIER+'/'+current_month + '/template/' + COMPANY_IDENTIFIER + '_'+ str(today) + '_' +license_number +'_template_test.csv')"
   ]
  },
  {
   "cell_type": "code",
   "execution_count": null,
   "id": "fbfcdce3",
   "metadata": {},
   "outputs": [],
   "source": [
    "tempalte_emt = create_template(emt_revenue_vs_state,df_summary_simp_emt,df_inventory_license_emt,churn_emt,retial_license_check_df,['C10-0000695-LIC'])\n",
    "tempalte_emt\n",
    "\n"
   ]
  },
  {
   "cell_type": "code",
   "execution_count": null,
   "id": "148c7118",
   "metadata": {},
   "outputs": [],
   "source": [
    "# # emt\n",
    "# license_number = 'C10-0000695-LIC'\n",
    "# COMPANY_IDENTIFIER = 'EMT'\n",
    "# tempalte_emt.to_csv('../analysis/surveillance/'+COMPANY_IDENTIFIER+'/'+current_month + '/template/' + COMPANY_IDENTIFIER + '_'+ str(today) + '_' +license_number +'_template_test.csv')"
   ]
  },
  {
   "cell_type": "code",
   "execution_count": null,
   "id": "5c298583",
   "metadata": {},
   "outputs": [],
   "source": [
    "tempalte_emf = create_template(emf_revenue_vs_state,df_summary_simp_emf,df_inventory_license_emf,churn_emf,retial_license_check_df,['C10-0000939-LIC'])\n",
    "tempalte_emf\n",
    "\n"
   ]
  },
  {
   "cell_type": "markdown",
   "id": "c8e24b29",
   "metadata": {},
   "source": [
    "## BUD only"
   ]
  },
  {
   "cell_type": "code",
   "execution_count": null,
   "id": "0d2481b7",
   "metadata": {},
   "outputs": [],
   "source": [
    "tempalte_sac = create_template(sac_revenue_vs_state,df_summary_simp_sac,df_inventory_license_sac,churn_sac,retial_license_check_df,['C9-0000399-LIC'])\n",
    "tempalte_sac\n",
    "\n"
   ]
  },
  {
   "cell_type": "code",
   "execution_count": null,
   "id": "5f8498c9",
   "metadata": {},
   "outputs": [],
   "source": [
    "# SAC\n",
    "license_number = 'C9-0000399-LIC'\n",
    "COMPANY_IDENTIFIER = 'BUD_sac'\n",
    "tempalte_sac.to_csv('../analysis/surveillance/'+COMPANY_IDENTIFIER+'/'+current_month + '/template/' + COMPANY_IDENTIFIER + '_'+ str(today) + '_' +license_number +'_template_test.csv')\n",
    "\n"
   ]
  },
  {
   "cell_type": "code",
   "execution_count": null,
   "id": "ca12d5f4",
   "metadata": {},
   "outputs": [],
   "source": [
    "tempalte_fresno = create_template(fresno_revenue_vs_state,df_summary_simp_fresno,df_inventory_license_fresno,churn_fresno,retial_license_check_df,['C9-0000467-LIC'])\n",
    "tempalte_fresno\n",
    "\n"
   ]
  },
  {
   "cell_type": "code",
   "execution_count": null,
   "id": "6667a656",
   "metadata": {},
   "outputs": [],
   "source": [
    "# fresno\n",
    "license_number = 'C9-0000467-LIC'\n",
    "COMPANY_IDENTIFIER = 'BUD_fresno'\n",
    "tempalte_fresno.to_csv('../analysis/surveillance/'+COMPANY_IDENTIFIER+'/'+current_month + '/template/' + COMPANY_IDENTIFIER + '_'+ str(today) + '_' +license_number +'_template_test.csv')\n"
   ]
  },
  {
   "cell_type": "code",
   "execution_count": null,
   "id": "cda965f5",
   "metadata": {},
   "outputs": [],
   "source": [
    "tempalte_la = create_template(la_revenue_vs_state,df_summary_simp_la,df_inventory_license_la,churn_la,retial_license_check_df,['C9-0000464-LIC'])\n",
    "tempalte_la\n",
    "\n"
   ]
  },
  {
   "cell_type": "code",
   "execution_count": null,
   "id": "8fec4e00",
   "metadata": {},
   "outputs": [],
   "source": [
    "# la\n",
    "license_number = 'C9-0000464-LIC'\n",
    "COMPANY_IDENTIFIER = 'BUD_la'\n",
    "tempalte_la.to_csv('../analysis/surveillance/'+COMPANY_IDENTIFIER+'/'+current_month + '/template/' + COMPANY_IDENTIFIER + '_'+ str(today) + '_' +license_number +'_template_test.csv')\n"
   ]
  },
  {
   "cell_type": "markdown",
   "id": "2992b1c3",
   "metadata": {},
   "source": [
    "## For others"
   ]
  },
  {
   "cell_type": "code",
   "execution_count": 97,
   "id": "b11ab32c",
   "metadata": {},
   "outputs": [
    {
     "name": "stdout",
     "output_type": "stream",
     "text": [
      "0.989387172603436 True\n",
      "0.9927140255009107 True\n",
      "14.046355493472216 10\n",
      "0.45659033440213226 0\n"
     ]
    }
   ],
   "source": [
    "template_ = create_template(a,df_summary_simp,df_inventory_license,churn,retial_license_check_df,license_numbers,company_licenses_dataframe)"
   ]
  },
  {
   "cell_type": "code",
   "execution_count": 98,
   "id": "fc0b9a1c",
   "metadata": {},
   "outputs": [
    {
     "data": {
      "text/html": [
       "<div>\n",
       "<style scoped>\n",
       "    .dataframe tbody tr th:only-of-type {\n",
       "        vertical-align: middle;\n",
       "    }\n",
       "\n",
       "    .dataframe tbody tr th {\n",
       "        vertical-align: top;\n",
       "    }\n",
       "\n",
       "    .dataframe thead th {\n",
       "        text-align: right;\n",
       "    }\n",
       "</style>\n",
       "<table border=\"1\" class=\"dataframe\">\n",
       "  <thead>\n",
       "    <tr style=\"text-align: right;\">\n",
       "      <th></th>\n",
       "      <th>0</th>\n",
       "      <th>1</th>\n",
       "    </tr>\n",
       "  </thead>\n",
       "  <tbody>\n",
       "    <tr>\n",
       "      <th>0</th>\n",
       "      <td>license is current</td>\n",
       "      <td>True</td>\n",
       "    </tr>\n",
       "    <tr>\n",
       "      <th>1</th>\n",
       "      <td>license is active</td>\n",
       "      <td>Active</td>\n",
       "    </tr>\n",
       "    <tr>\n",
       "      <th>2</th>\n",
       "      <td>license check</td>\n",
       "      <td>YES</td>\n",
       "    </tr>\n",
       "    <tr>\n",
       "      <th>3</th>\n",
       "      <td>metrc cogs coverage</td>\n",
       "      <td>0.989387</td>\n",
       "    </tr>\n",
       "    <tr>\n",
       "      <th>4</th>\n",
       "      <td>metrc cogs coverage reliable ?</td>\n",
       "      <td>True</td>\n",
       "    </tr>\n",
       "    <tr>\n",
       "      <th>5</th>\n",
       "      <td>metrc inventory coverage</td>\n",
       "      <td>0.992714</td>\n",
       "    </tr>\n",
       "    <tr>\n",
       "      <th>6</th>\n",
       "      <td>metrc inventory coverage reliable ?</td>\n",
       "      <td>True</td>\n",
       "    </tr>\n",
       "    <tr>\n",
       "      <th>7</th>\n",
       "      <td>inventory turnover</td>\n",
       "      <td>14.046355</td>\n",
       "    </tr>\n",
       "    <tr>\n",
       "      <th>8</th>\n",
       "      <td>inventory turnover score</td>\n",
       "      <td>10</td>\n",
       "    </tr>\n",
       "    <tr>\n",
       "      <th>9</th>\n",
       "      <td>GM past quarter</td>\n",
       "      <td>0.532129</td>\n",
       "    </tr>\n",
       "    <tr>\n",
       "      <th>10</th>\n",
       "      <td>GM score past quarter</td>\n",
       "      <td>5</td>\n",
       "    </tr>\n",
       "    <tr>\n",
       "      <th>11</th>\n",
       "      <td>GM past 2 quarters</td>\n",
       "      <td>0.523778</td>\n",
       "    </tr>\n",
       "    <tr>\n",
       "      <th>12</th>\n",
       "      <td>GM score past 2 quarters</td>\n",
       "      <td>10</td>\n",
       "    </tr>\n",
       "    <tr>\n",
       "      <th>13</th>\n",
       "      <td>GM past 3 quarters</td>\n",
       "      <td>0.516817</td>\n",
       "    </tr>\n",
       "    <tr>\n",
       "      <th>14</th>\n",
       "      <td>GM score past 3 quarters</td>\n",
       "      <td>15</td>\n",
       "    </tr>\n",
       "    <tr>\n",
       "      <th>15</th>\n",
       "      <td>GM past quarter after tax</td>\n",
       "      <td>0.483307</td>\n",
       "    </tr>\n",
       "    <tr>\n",
       "      <th>16</th>\n",
       "      <td>GM score past quarter after tax (49)</td>\n",
       "      <td>0</td>\n",
       "    </tr>\n",
       "    <tr>\n",
       "      <th>17</th>\n",
       "      <td>GM score past quarter after tax (51)</td>\n",
       "      <td>0</td>\n",
       "    </tr>\n",
       "    <tr>\n",
       "      <th>18</th>\n",
       "      <td>GM past 2 quarters after tax</td>\n",
       "      <td>0.474085</td>\n",
       "    </tr>\n",
       "    <tr>\n",
       "      <th>19</th>\n",
       "      <td>GM score past 2 quarters after tax (49)</td>\n",
       "      <td>0</td>\n",
       "    </tr>\n",
       "    <tr>\n",
       "      <th>20</th>\n",
       "      <td>GM score past 2 quarters after tax (51)</td>\n",
       "      <td>0</td>\n",
       "    </tr>\n",
       "    <tr>\n",
       "      <th>21</th>\n",
       "      <td>GM past 3 quarters after tax</td>\n",
       "      <td>0.466398</td>\n",
       "    </tr>\n",
       "    <tr>\n",
       "      <th>22</th>\n",
       "      <td>GM score past 3 quarters after tax (49)</td>\n",
       "      <td>0</td>\n",
       "    </tr>\n",
       "    <tr>\n",
       "      <th>23</th>\n",
       "      <td>GM score past 3 quarters after tax (51)</td>\n",
       "      <td>0</td>\n",
       "    </tr>\n",
       "    <tr>\n",
       "      <th>24</th>\n",
       "      <td>vendor churn</td>\n",
       "      <td>0.45659</td>\n",
       "    </tr>\n",
       "    <tr>\n",
       "      <th>25</th>\n",
       "      <td>vendor churn score</td>\n",
       "      <td>0</td>\n",
       "    </tr>\n",
       "    <tr>\n",
       "      <th>26</th>\n",
       "      <td>revenue vs state change score</td>\n",
       "      <td>10</td>\n",
       "    </tr>\n",
       "    <tr>\n",
       "      <th>27</th>\n",
       "      <td>inventory valuation</td>\n",
       "      <td>65057.53</td>\n",
       "    </tr>\n",
       "    <tr>\n",
       "      <th>28</th>\n",
       "      <td>inventory valuation after tax</td>\n",
       "      <td>82623.06</td>\n",
       "    </tr>\n",
       "    <tr>\n",
       "      <th>29</th>\n",
       "      <td>total score</td>\n",
       "      <td>50</td>\n",
       "    </tr>\n",
       "    <tr>\n",
       "      <th>30</th>\n",
       "      <td>total score (49)</td>\n",
       "      <td>20</td>\n",
       "    </tr>\n",
       "    <tr>\n",
       "      <th>31</th>\n",
       "      <td>total score (51)</td>\n",
       "      <td>20</td>\n",
       "    </tr>\n",
       "    <tr>\n",
       "      <th>32</th>\n",
       "      <td>credit limit</td>\n",
       "      <td>80000.0</td>\n",
       "    </tr>\n",
       "  </tbody>\n",
       "</table>\n",
       "</div>"
      ],
      "text/plain": [
       "                                          0          1\n",
       "0                        license is current       True\n",
       "1                         license is active     Active\n",
       "2                             license check        YES\n",
       "3                       metrc cogs coverage   0.989387\n",
       "4            metrc cogs coverage reliable ?       True\n",
       "5                  metrc inventory coverage   0.992714\n",
       "6       metrc inventory coverage reliable ?       True\n",
       "7                        inventory turnover  14.046355\n",
       "8                  inventory turnover score         10\n",
       "9                           GM past quarter   0.532129\n",
       "10                    GM score past quarter          5\n",
       "11                       GM past 2 quarters   0.523778\n",
       "12                 GM score past 2 quarters         10\n",
       "13                       GM past 3 quarters   0.516817\n",
       "14                 GM score past 3 quarters         15\n",
       "15                GM past quarter after tax   0.483307\n",
       "16     GM score past quarter after tax (49)          0\n",
       "17     GM score past quarter after tax (51)          0\n",
       "18             GM past 2 quarters after tax   0.474085\n",
       "19  GM score past 2 quarters after tax (49)          0\n",
       "20  GM score past 2 quarters after tax (51)          0\n",
       "21             GM past 3 quarters after tax   0.466398\n",
       "22  GM score past 3 quarters after tax (49)          0\n",
       "23  GM score past 3 quarters after tax (51)          0\n",
       "24                             vendor churn    0.45659\n",
       "25                       vendor churn score          0\n",
       "26            revenue vs state change score         10\n",
       "27                      inventory valuation   65057.53\n",
       "28            inventory valuation after tax   82623.06\n",
       "29                              total score         50\n",
       "30                         total score (49)         20\n",
       "31                         total score (51)         20\n",
       "32                             credit limit    80000.0"
      ]
     },
     "execution_count": 98,
     "metadata": {},
     "output_type": "execute_result"
    }
   ],
   "source": [
    "template_"
   ]
  },
  {
   "cell_type": "code",
   "execution_count": null,
   "id": "7ca63c02",
   "metadata": {},
   "outputs": [],
   "source": [
    "#license_number = license_numbers[0]\n",
    "#template_.to_csv('../analysis/surveillance/'+COMPANY_IDENTIFIER[0]+'/'+current_month + '/template/' + COMPANY_IDENTIFIER[0] + '_'+ str(today) + '_' +license_number +'_template_test.csv')"
   ]
  },
  {
   "cell_type": "markdown",
   "id": "cd8b1dd5",
   "metadata": {},
   "source": [
    "# Output data "
   ]
  },
  {
   "cell_type": "code",
   "execution_count": null,
   "id": "a4f8210c",
   "metadata": {},
   "outputs": [],
   "source": [
    "license_numbers"
   ]
  },
  {
   "cell_type": "markdown",
   "id": "109d32fa",
   "metadata": {},
   "source": [
    "## embarc"
   ]
  },
  {
   "cell_type": "code",
   "execution_count": null,
   "id": "4521e67c",
   "metadata": {},
   "outputs": [],
   "source": [
    "# ema\n",
    "license_number = 'C10-0000774-LIC'\n",
    "COMPANY_IDENTIFIER = 'EMA'\n",
    "tempalte_ema.to_csv('../analysis/surveillance/'+COMPANY_IDENTIFIER+'/'+current_month + '/template/' + COMPANY_IDENTIFIER + '_'+ str(today) + '_' +license_number +'_template.csv')\n",
    "df_inventory_license_ema.to_csv('../analysis/surveillance/'+COMPANY_IDENTIFIER+'/'+current_month +'/INV/' + COMPANY_IDENTIFIER + '_'+ str(today) + '_' +license_number +'_inventory_val.csv')\n",
    "df_summary_simp_ema.to_csv('surveillance/'+COMPANY_IDENTIFIER+'/'+current_month +'/COGS/' + COMPANY_IDENTIFIER + '_'+ VC_END_DATE + '_' +license_number +'_cogs.csv')\n",
    "vc_matrix_ema.to_csv('surveillance/'+COMPANY_IDENTIFIER+'/'+current_month +'/VC/' + COMPANY_IDENTIFIER + '_'+ VC_END_DATE + '_' +license_number +'_vc_matrix.csv')\n",
    "churn_ema.to_csv('surveillance/'+COMPANY_IDENTIFIER+'/'+current_month +'/VC/' + COMPANY_IDENTIFIER + '_'+ VC_END_DATE + '_' +license_number +'_vc.csv')\n",
    "ema_revenue_vs_state.to_csv('surveillance/'+COMPANY_IDENTIFIER+'/'+current_month +'/rev_change_vs_state/' + COMPANY_IDENTIFIER + '_'+ VC_END_DATE + '_' +license_number +'_rev_change_vs_state.csv')\n",
    "\n"
   ]
  },
  {
   "cell_type": "code",
   "execution_count": null,
   "id": "e9b1bd6b",
   "metadata": {},
   "outputs": [],
   "source": [
    "# emm\n",
    "license_number = 'C10-0000786-LIC'\n",
    "COMPANY_IDENTIFIER = 'EMM'\n",
    "tempalte_emm.to_csv('../analysis/surveillance/'+COMPANY_IDENTIFIER+'/'+current_month + '/template/' + COMPANY_IDENTIFIER + '_'+ str(today) + '_' +license_number +'_template.csv')\n",
    "df_inventory_license_emm.to_csv('../analysis/surveillance/'+COMPANY_IDENTIFIER+'/'+current_month +'/INV/' + COMPANY_IDENTIFIER + '_'+ str(today) + '_' +license_number +'_inventory_val.csv')\n",
    "df_summary_simp_emm.to_csv('surveillance/'+COMPANY_IDENTIFIER+'/'+current_month +'/COGS/' + COMPANY_IDENTIFIER + '_'+ VC_END_DATE + '_' +license_number +'_cogs.csv')\n",
    "vc_matrix_emm.to_csv('surveillance/'+COMPANY_IDENTIFIER+'/'+current_month +'/VC/' + COMPANY_IDENTIFIER + '_'+ VC_END_DATE + '_' +license_number +'_vc_matrix.csv')\n",
    "churn_emm.to_csv('surveillance/'+COMPANY_IDENTIFIER+'/'+current_month +'/VC/' + COMPANY_IDENTIFIER + '_'+ VC_END_DATE + '_' +license_number +'_vc.csv')\n",
    "emm_revenue_vs_state.to_csv('surveillance/'+COMPANY_IDENTIFIER+'/'+current_month +'/rev_change_vs_state/' + COMPANY_IDENTIFIER + '_'+ VC_END_DATE + '_' +license_number +'_rev_change_vs_state.csv')\n",
    "\n"
   ]
  },
  {
   "cell_type": "code",
   "execution_count": null,
   "id": "c3b35c83",
   "metadata": {},
   "outputs": [],
   "source": [
    "# emt\n",
    "license_number = 'C10-0000695-LIC'\n",
    "COMPANY_IDENTIFIER = 'EMT'\n",
    "tempalte_emt.to_csv('../analysis/surveillance/'+COMPANY_IDENTIFIER+'/'+current_month + '/template/' + COMPANY_IDENTIFIER + '_'+ str(today) + '_' +license_number +'_template.csv')\n",
    "df_inventory_license_emt.to_csv('../analysis/surveillance/'+COMPANY_IDENTIFIER+'/'+current_month +'/INV/' + COMPANY_IDENTIFIER + '_'+ str(today) + '_' +license_number +'_inventory_val.csv')\n",
    "df_summary_simp_emt.to_csv('surveillance/'+COMPANY_IDENTIFIER+'/'+current_month +'/COGS/' + COMPANY_IDENTIFIER + '_'+ VC_END_DATE + '_' +license_number +'_cogs.csv')\n",
    "vc_matrix_emt.to_csv('surveillance/'+COMPANY_IDENTIFIER+'/'+current_month +'/VC/' + COMPANY_IDENTIFIER + '_'+ VC_END_DATE + '_' +license_number +'_vc_matrix.csv')\n",
    "churn_emt.to_csv('surveillance/'+COMPANY_IDENTIFIER+'/'+current_month +'/VC/' + COMPANY_IDENTIFIER + '_'+ VC_END_DATE + '_' +license_number +'_vc.csv')\n",
    "emt_revenue_vs_state.to_csv('surveillance/'+COMPANY_IDENTIFIER+'/'+current_month +'/rev_change_vs_state/' + COMPANY_IDENTIFIER + '_'+ VC_END_DATE + '_' +license_number +'_rev_change_vs_state.csv')\n",
    "\n"
   ]
  },
  {
   "cell_type": "code",
   "execution_count": null,
   "id": "8853282a",
   "metadata": {},
   "outputs": [],
   "source": [
    "# emf\n",
    "license_number = 'C10-0000939-LIC'\n",
    "COMPANY_IDENTIFIER = 'EMF'\n",
    "tempalte_emf.to_csv('../analysis/surveillance/'+COMPANY_IDENTIFIER+'/'+current_month + '/template/' + COMPANY_IDENTIFIER + '_'+ str(today) + '_' +license_number +'_template.csv')\n",
    "df_inventory_license_emf.to_csv('../analysis/surveillance/'+COMPANY_IDENTIFIER+'/'+current_month +'/INV/' + COMPANY_IDENTIFIER + '_'+ str(today) + '_' +license_number +'_inventory_val.csv')\n",
    "df_summary_simp_emf.to_csv('surveillance/'+COMPANY_IDENTIFIER+'/'+current_month +'/COGS/' + COMPANY_IDENTIFIER + '_'+ VC_END_DATE + '_' +license_number +'_cogs.csv')\n",
    "vc_matrix_emf.to_csv('surveillance/'+COMPANY_IDENTIFIER+'/'+current_month +'/VC/' + COMPANY_IDENTIFIER + '_'+ VC_END_DATE + '_' +license_number +'_vc_matrix.csv')\n",
    "churn_emf.to_csv('surveillance/'+COMPANY_IDENTIFIER+'/'+current_month +'/VC/' + COMPANY_IDENTIFIER + '_'+ VC_END_DATE + '_' +license_number +'_vc.csv')\n",
    "emf_revenue_vs_state.to_csv('surveillance/'+COMPANY_IDENTIFIER+'/'+current_month +'/rev_change_vs_state/' + COMPANY_IDENTIFIER + '_'+ VC_END_DATE + '_' +license_number +'_rev_change_vs_state.csv')\n",
    "\n"
   ]
  },
  {
   "cell_type": "code",
   "execution_count": null,
   "id": "34812837",
   "metadata": {},
   "outputs": [],
   "source": [
    "# #COMPANY_IDENTIFIER = ['VS']\n",
    "\n",
    "# # only for VS so far.. combined licenses\n",
    "\n",
    "# template_.to_csv('../analysis/surveillance/'+COMPANY_IDENTIFIER[0]+'/'+current_month + '/template/' + COMPANY_IDENTIFIER[0] + '_'+ str(today) + '_' +'_template.csv')\n",
    "# df_inventory_license.to_csv('../analysis/surveillance/'+COMPANY_IDENTIFIER[0]+'/'+current_month +'/INV/' + COMPANY_IDENTIFIER[0] + '_'+ str(today) + '_' +'_inventory_val.csv')\n",
    "# df_summary_simp.to_csv('surveillance/'+COMPANY_IDENTIFIER[0]+'/'+current_month +'/COGS/' + COMPANY_IDENTIFIER[0] + '_'+ VC_END_DATE + '_'  +'_cogs.csv')\n",
    "# vc_matrix.to_csv('surveillance/'+COMPANY_IDENTIFIER[0]+'/'+current_month +'/VC/' + COMPANY_IDENTIFIER[0] + '_'+ VC_END_DATE + '_'  +'_vc_matrix.csv')\n",
    "# churn.to_csv('surveillance/'+COMPANY_IDENTIFIER[0]+'/'+current_month +'/VC/' + COMPANY_IDENTIFIER[0] + '_'+ VC_END_DATE + '_'  +'_vc.csv')\n",
    "# a.to_csv('surveillance/'+COMPANY_IDENTIFIER[0]+'/'+current_month +'/rev_change_vs_state/' + COMPANY_IDENTIFIER[0] + '_'+ VC_END_DATE  +'_rev_change_vs_state.csv')\n",
    "\n"
   ]
  },
  {
   "cell_type": "code",
   "execution_count": null,
   "id": "adb358af",
   "metadata": {},
   "outputs": [],
   "source": [
    "\n",
    "template_.to_csv('../analysis/surveillance/'+COMPANY_IDENTIFIER[0]+'/'+current_month + '/template/' + COMPANY_IDENTIFIER[0] + '_'+ str(today) + '_' +'_template.csv')\n",
    "df_inventory_license.to_csv('../analysis/surveillance/'+COMPANY_IDENTIFIER[0]+'/'+current_month +'/INV/' + COMPANY_IDENTIFIER[0] + '_'+ str(today) + '_' +'_inventory_val.csv')\n",
    "df_summary_simp.to_csv('surveillance/'+COMPANY_IDENTIFIER[0]+'/'+current_month +'/COGS/' + COMPANY_IDENTIFIER[0] + '_'+ VC_END_DATE + '_'  +'_cogs.csv')\n",
    "vc_matrix.to_csv('surveillance/'+COMPANY_IDENTIFIER[0]+'/'+current_month +'/VC/' + COMPANY_IDENTIFIER[0] + '_'+ VC_END_DATE + '_'  +'_vc_matrix.csv')\n",
    "churn.to_csv('surveillance/'+COMPANY_IDENTIFIER[0]+'/'+current_month +'/VC/' + COMPANY_IDENTIFIER[0] + '_'+ VC_END_DATE + '_'  +'_vc.csv')\n",
    "a.to_csv('surveillance/'+COMPANY_IDENTIFIER[0]+'/'+current_month +'/rev_change_vs_state/' + COMPANY_IDENTIFIER[0] + '_'+ VC_END_DATE  +'_rev_change_vs_state.csv')\n",
    "\n"
   ]
  },
  {
   "cell_type": "markdown",
   "id": "14ae903f",
   "metadata": {},
   "source": [
    "## others"
   ]
  },
  {
   "cell_type": "code",
   "execution_count": null,
   "id": "2b7a7751",
   "metadata": {},
   "outputs": [],
   "source": [
    "# for only 1 license\n",
    "license_number = license_numbers[0]\n",
    "template_.to_csv('../analysis/surveillance/'+COMPANY_IDENTIFIER[0]+'/'+current_month + '/template/' + COMPANY_IDENTIFIER[0] + '_'+ str(today) + '_' +license_number +'_template.csv')\n",
    "df_inventory_license.to_csv('../analysis/surveillance/'+COMPANY_IDENTIFIER[0]+'/'+current_month +'/INV/' + COMPANY_IDENTIFIER[0] + '_'+ str(today) + '_' +license_number +'_inventory_val.csv')\n",
    "df_summary_simp.to_csv('surveillance/'+COMPANY_IDENTIFIER[0]+'/'+current_month +'/COGS/' + COMPANY_IDENTIFIER[0] + '_'+ VC_END_DATE + '_' +license_number +'_cogs.csv')\n",
    "vc_matrix.to_csv('surveillance/'+COMPANY_IDENTIFIER[0]+'/'+current_month +'/VC/' + COMPANY_IDENTIFIER[0] + '_'+ VC_END_DATE + '_' +license_number +'_vc_matrix.csv')\n",
    "churn.to_csv('surveillance/'+COMPANY_IDENTIFIER[0]+'/'+current_month +'/VC/' + COMPANY_IDENTIFIER[0] + '_'+ VC_END_DATE + '_' +license_number +'_vc.csv')\n",
    "a.to_csv('surveillance/'+COMPANY_IDENTIFIER[0]+'/'+current_month +'/rev_change_vs_state/' + COMPANY_IDENTIFIER[0] + '_'+ VC_END_DATE + '_' +license_number +'_rev_change_vs_state.csv')\n",
    "#retial_license_check_df\n",
    "\n"
   ]
  },
  {
   "cell_type": "markdown",
   "id": "d9f7cf23",
   "metadata": {},
   "source": [
    "## BUD"
   ]
  },
  {
   "cell_type": "code",
   "execution_count": null,
   "id": "9b787f3e",
   "metadata": {},
   "outputs": [],
   "source": [
    "# SAC\n",
    "license_number = 'C9-0000399-LIC'\n",
    "COMPANY_IDENTIFIER = 'BUD_sac'\n",
    "tempalte_sac.to_csv('../analysis/surveillance/'+COMPANY_IDENTIFIER+'/'+current_month + '/template/' + COMPANY_IDENTIFIER + '_'+ str(today) + '_' +license_number +'_template.csv')\n",
    "df_inventory_license_sac.to_csv('../analysis/surveillance/'+COMPANY_IDENTIFIER+'/'+current_month +'/INV/' + COMPANY_IDENTIFIER + '_'+ str(today) + '_' +license_number +'_inventory_val.csv')\n",
    "df_summary_simp_sac.to_csv('surveillance/'+COMPANY_IDENTIFIER+'/'+current_month +'/COGS/' + COMPANY_IDENTIFIER + '_'+ VC_END_DATE + '_' +license_number +'_cogs.csv')\n",
    "vc_matrix_sac.to_csv('surveillance/'+COMPANY_IDENTIFIER+'/'+current_month +'/VC/' + COMPANY_IDENTIFIER + '_'+ VC_END_DATE + '_' +license_number +'_vc_matrix.csv')\n",
    "churn_sac.to_csv('surveillance/'+COMPANY_IDENTIFIER+'/'+current_month +'/VC/' + COMPANY_IDENTIFIER + '_'+ VC_END_DATE + '_' +license_number +'_vc.csv')\n",
    "sac_revenue_vs_state.to_csv('surveillance/'+COMPANY_IDENTIFIER+'/'+current_month +'/rev_change_vs_state/' + COMPANY_IDENTIFIER + '_'+ VC_END_DATE + '_' +license_number +'_rev_change_vs_state.csv')\n",
    "\n"
   ]
  },
  {
   "cell_type": "code",
   "execution_count": null,
   "id": "b09eb164",
   "metadata": {},
   "outputs": [],
   "source": [
    "# fresno\n",
    "license_number = 'C9-0000467-LIC'\n",
    "COMPANY_IDENTIFIER = 'BUD_fresno'\n",
    "tempalte_fresno.to_csv('../analysis/surveillance/'+COMPANY_IDENTIFIER+'/'+current_month + '/template/' + COMPANY_IDENTIFIER + '_'+ str(today) + '_' +license_number +'_template.csv')\n",
    "df_inventory_license_fresno.to_csv('../analysis/surveillance/'+COMPANY_IDENTIFIER+'/'+current_month +'/INV/' + COMPANY_IDENTIFIER + '_'+ str(today) + '_' +license_number +'_inventory_val.csv')\n",
    "df_summary_simp_fresno.to_csv('surveillance/'+COMPANY_IDENTIFIER+'/'+current_month +'/COGS/' + COMPANY_IDENTIFIER + '_'+ VC_END_DATE + '_' +license_number +'_cogs.csv')\n",
    "vc_matrix_fresno.to_csv('surveillance/'+COMPANY_IDENTIFIER+'/'+current_month +'/VC/' + COMPANY_IDENTIFIER + '_'+ VC_END_DATE + '_' +license_number +'_vc_matrix.csv')\n",
    "churn_fresno.to_csv('surveillance/'+COMPANY_IDENTIFIER+'/'+current_month +'/VC/' + COMPANY_IDENTIFIER + '_'+ VC_END_DATE + '_' +license_number +'_vc.csv')\n",
    "fresno_revenue_vs_state.to_csv('surveillance/'+COMPANY_IDENTIFIER+'/'+current_month +'/rev_change_vs_state/' + COMPANY_IDENTIFIER + '_'+ VC_END_DATE + '_' +license_number +'_rev_change_vs_state.csv')\n",
    "\n"
   ]
  },
  {
   "cell_type": "code",
   "execution_count": null,
   "id": "dd530989",
   "metadata": {},
   "outputs": [],
   "source": [
    "# la\n",
    "license_number = 'C9-0000464-LIC'\n",
    "COMPANY_IDENTIFIER = 'BUD_la'\n",
    "tempalte_la.to_csv('../analysis/surveillance/'+COMPANY_IDENTIFIER+'/'+current_month + '/template/' + COMPANY_IDENTIFIER + '_'+ str(today) + '_' +license_number +'_template.csv')\n",
    "df_inventory_license_la.to_csv('../analysis/surveillance/'+COMPANY_IDENTIFIER+'/'+current_month +'/INV/' + COMPANY_IDENTIFIER + '_'+ str(today) + '_' +license_number +'_inventory_val.csv')\n",
    "df_summary_simp_la.to_csv('surveillance/'+COMPANY_IDENTIFIER+'/'+current_month +'/COGS/' + COMPANY_IDENTIFIER + '_'+ VC_END_DATE + '_' +license_number +'_cogs.csv')\n",
    "vc_matrix_la.to_csv('surveillance/'+COMPANY_IDENTIFIER+'/'+current_month +'/VC/' + COMPANY_IDENTIFIER + '_'+ VC_END_DATE + '_' +license_number +'_vc_matrix.csv')\n",
    "churn_la.to_csv('surveillance/'+COMPANY_IDENTIFIER+'/'+current_month +'/VC/' + COMPANY_IDENTIFIER + '_'+ VC_END_DATE + '_' +license_number +'_vc.csv')\n",
    "la_revenue_vs_state.to_csv('surveillance/'+COMPANY_IDENTIFIER+'/'+current_month +'/rev_change_vs_state/' + COMPANY_IDENTIFIER + '_'+ VC_END_DATE + '_' +license_number +'_rev_change_vs_state.csv')\n",
    "\n"
   ]
  },
  {
   "cell_type": "markdown",
   "id": "8f49616a",
   "metadata": {},
   "source": [
    "# ~ THE END ~"
   ]
  },
  {
   "cell_type": "code",
   "execution_count": null,
   "id": "e56f8e63",
   "metadata": {},
   "outputs": [],
   "source": [
    "df_vendor_churn = company_incoming_transfer_packages_dataframe[company_incoming_transfer_packages_dataframe['license_number'].isin(license_numbers)]\n",
    "df_vendor_churn['year_month'] = pd.to_datetime(df_vendor_churn['created_date']).dt.strftime(\"%Y-%m\")\n",
    "vc = df_vendor_churn[['year_month','shipper_facility_name','shipper_wholesale_price']].groupby(['year_month','shipper_facility_name']).sum().reset_index()\n",
    "vc= vc.assign(year_month=lambda df:pd.to_datetime(df['year_month']))\n",
    "\n",
    "# make `vc` a long-table version of the spreadsheet, where all conpanies have a continuous year_month starting from \n",
    "# 2020-01-01 to 2022-01-01\n",
    "#################\n",
    "vc_full = (\n",
    "    vc\n",
    "    .groupby('shipper_facility_name').apply(\n",
    "        lambda df: df.merge(\n",
    "        pd.Series(\n",
    "            None, \n",
    "            index = pd.date_range(start='2020-01-01', end= vc_end_date, freq = 'MS'), \n",
    "            name='__place_holder'\n",
    "        ), \n",
    "        how ='right',\n",
    "        left_on = 'year_month', \n",
    "        right_index=True,\n",
    "    ).assign(\n",
    "        **{\n",
    "            \"shipper_facility_name\": lambda df_: df_.shipper_facility_name.dropna().unique()[0],\n",
    "            \"shipper_wholesale_price\": lambda df_: df_.shipper_wholesale_price.fillna(0),\n",
    "        }\n",
    "    )\n",
    "    .drop('__place_holder', axis=1)\n",
    "    )\n",
    ").reset_index(drop=True)\n",
    "\n",
    "#################\n",
    "rolling_4m_sum =  vc_full.groupby('shipper_facility_name').apply(\n",
    "    lambda df: df.set_index('year_month').sort_index().rolling(window).sum()\n",
    ")\n",
    "rolling_4m_sum.columns = ['rolling_4m_total_price']\n",
    "\n",
    "\n",
    "facility_monthly_running_total = vc_full.groupby('shipper_facility_name').apply(\n",
    "    lambda df: df.set_index('year_month').sort_index()['shipper_wholesale_price'].cumsum().to_frame()\n",
    ")\n",
    "facility_monthly_running_total.columns = ['facility_running_total']\n",
    "\n",
    "monthly_running_total = facility_monthly_running_total.reset_index().groupby('year_month')['facility_running_total'].sum().to_frame()\n",
    "monthly_running_total.columns = ['monthly_running_total']\n",
    "#################\n",
    "vc_result = rolling_4m_sum.merge(\n",
    "    facility_monthly_running_total,\n",
    "    how='inner',\n",
    "    left_index=True,\n",
    "    right_index=True\n",
    ").reset_index().merge(\n",
    "    monthly_running_total,\n",
    "    how='left',\n",
    "    on = 'year_month'\n",
    ")\n",
    "#################\n",
    "\n",
    "vc_result['%_total'] = vc_result['facility_running_total'] / vc_result['monthly_running_total']\n",
    "vc_result['last_4m_active'] = vc_result['rolling_4m_total_price'] > 0\n",
    "vc_result ['significant'] = vc_result['%_total'] > 0.001\n",
    "vc_result['measure'] = vc_result.apply(\n",
    "    lambda row: \"Active\"  if (row['last_4m_active'] & row['significant']) else (\"Inactive\" if row['significant'] else \"Exclude\"),\n",
    "    axis=1\n",
    ")\n",
    "churn = vc_result.groupby(['year_month']).apply(lambda x: x[x['measure'] == 'Inactive']['%_total'].sum()).reset_index()\n",
    "churn.columns = ['year_month','%_inactive']\n",
    "churn.index = churn.year_month\n",
    "\n",
    "VC_MONTH_LIST = ['2021-10-01','2021-11-01','2021-12-01','2022-01-01']\n",
    "VC_MONTH_END = VC_MONTH_LIST[-1]\n",
    "# output vendor churn matrix\n",
    "vc_data = vc_full[vc_full['year_month'] <= VC_MONTH_END]\n",
    "vc_data['year_month'] = vc_data['year_month'].astype(str)\n",
    "vc_matrix = pd.pivot_table(vc_data, values='shipper_wholesale_price', index='shipper_facility_name',\n",
    "                    columns='year_month', fill_value=0).reset_index()\n",
    "\n",
    "vc_matrix['facility_total'] = vc_matrix.sum(axis= 1)\n",
    "vc_matrix['grand_total'] = vc_matrix['facility_total'].sum()\n",
    "vc_matrix['perc_total'] = vc_matrix['facility_total'] / vc_matrix['grand_total']\n",
    "vc_matrix['last_4m_total'] = vc_matrix[VC_MONTH_LIST].sum(axis = 1)\n",
    "vc_matrix['last_4m_active'] = vc_matrix['last_4m_total'] > 0\n",
    "vc_matrix ['significant'] = vc_matrix['perc_total'] > 0.001\n",
    "vc_matrix['measure'] = vc_matrix.apply(\n",
    "    lambda row: \"Active\"  if (row['last_4m_active'] & row['significant']) else (\"Inactive\" if row['significant'] else \"Exclude\"),\n",
    "    axis=1\n",
    ")\n"
   ]
  },
  {
   "cell_type": "markdown",
   "id": "6933c7a0",
   "metadata": {},
   "source": [
    "# COGS analysis with further filldown using product category name"
   ]
  },
  {
   "cell_type": "code",
   "execution_count": null,
   "id": "d00e13a6",
   "metadata": {},
   "outputs": [],
   "source": [
    "def cogs_analysis_fill_by_product_category(df_in:pd.DataFrame,df_out:pd.DataFrame,df_inventory:pd.DataFrame,df_sales:pd.DataFrame,freq: str) -> pd.DataFrame:\n",
    "    df_sales['per_unit'] = df_sales['tx_total_price'] / df_sales['tx_quantity_sold']\n",
    "    # set frequency\n",
    "    if freq == 'monthly':\n",
    "        df_sales['date'] = df_sales['sales_datetime'].dt.strftime(\"%Y-%m\")\n",
    "\n",
    "    elif freq == 'weekly':\n",
    "        df_sales['date'] = df_sales['sales_datetime'].dt.strftime(\"%Y-%W\")\n",
    "\n",
    "    # total # trxns    \n",
    "    s_total_count = df_sales.groupby('date')['tx_total_price'].count()\n",
    "    df_total_count = pd.Series(s_total_count).to_frame()\n",
    "    df_total_count = df_total_count.reset_index()\n",
    "    df_total_count.rename(columns={'tx_total_price':'total_count'}, inplace=True)\n",
    "    # revenue\n",
    "    s_revenue = df_sales.groupby('date')['tx_total_price'].sum()\n",
    "    df_revenue = pd.Series(s_revenue).to_frame()\n",
    "    df_revenue = df_revenue.reset_index()\n",
    "    df_revenue.rename(columns={'tx_total_price': 'revenue'}, inplace=True)\n",
    "\n",
    "    df_in['per_unit_incoming'] = df_in['shipper_wholesale_price'] / df_in['shipped_quantity']\n",
    "    \n",
    "    # per unit price by package id\n",
    "    df_in_price = df_in[df_in['shipper_wholesale_price'].notnull()]\n",
    "    average_incoming_package_id = df_in_price.groupby('package_id')['per_unit_incoming'].mean()\n",
    "    df_avg_incoming_price = pd.Series(average_incoming_package_id).to_frame()\n",
    "    df_avg_incoming_price = df_avg_incoming_price.reset_index()\n",
    "    # per unit price by product name\n",
    "    average_incoming_product = df_in_price.groupby('product_name')['per_unit_incoming'].mean()\n",
    "    df_avg_product = pd.Series(average_incoming_product).to_frame()\n",
    "    df_avg_product = df_avg_product.reset_index()\n",
    "    df_avg_product.rename(columns={'per_unit_incoming':'per_unit_product'}, inplace=True)\n",
    "    # per unit price by product category name\n",
    "    average_incoming_product_category = df_in_price.groupby('product_category_name')['per_unit_incoming'].mean()\n",
    "    df_avg_product_cat = pd.Series(average_incoming_product_category).to_frame()\n",
    "    df_avg_product_cat = df_avg_product_cat.reset_index()\n",
    "    df_avg_product_cat.rename(columns={'per_unit_incoming':'per_unit_product_cat'}, inplace=True)\n",
    "    \n",
    "    # merge with (cogs by package id)\n",
    "    df_cogs_package_id = pd.merge(df_sales, df_avg_incoming_price, left_on='tx_package_id', right_on='package_id', how='left')\n",
    "    df_cogs_package_id['total_incoming'] = df_cogs_package_id['per_unit_incoming'] * df_cogs_package_id['tx_quantity_sold']\n",
    "    df_cogs_package_id.replace([numpy.inf], numpy.nan, inplace=True)\n",
    "    df_cogs_package_id_notnull = df_cogs_package_id[df_cogs_package_id['total_incoming'].notnull()]\n",
    "    # sum cogs by package id\n",
    "    s_cogs = df_cogs_package_id_notnull.groupby('date')['total_incoming'].sum()\n",
    "    df_cogs_id = pd.Series(s_cogs).to_frame()\n",
    "    df_cogs_id = df_cogs_id.reset_index()\n",
    "    # count # of trxns by package id\n",
    "    s_cogs_count = df_cogs_package_id_notnull.groupby('date')['total_incoming'].count()\n",
    "    df_cogs_count = pd.Series(s_cogs_count).to_frame()\n",
    "    df_cogs_count = df_cogs_count.reset_index()\n",
    "    df_cogs_count.rename(columns={'total_incoming':'count_incoming'}, inplace=True)\n",
    "    \n",
    "    # merge with (cogs by product name)\n",
    "    df_cogs_average_product = pd.merge(df_cogs_package_id, df_avg_product, left_on='tx_product_name', right_on='product_name', how='left')\n",
    "    df_cogs_average_product['total_product'] = df_cogs_average_product['tx_quantity_sold'] * df_cogs_average_product['per_unit_product']\n",
    "    # merge with (cogs by product category name)\n",
    "    df_cogs_average_product_cat = pd.merge(df_cogs_average_product, df_avg_product_cat, left_on='tx_product_category_name', right_on='product_category_name', how='left')\n",
    "    df_cogs_average_product_cat['total_product_cat'] = df_cogs_average_product_cat['tx_quantity_sold'] * df_cogs_average_product_cat['per_unit_product_cat']\n",
    "    df_cogs_null = df_cogs_average_product_cat[df_cogs_average_product_cat['per_unit_incoming'].isnull()]\n",
    "    df_cogs_product = df_cogs_null[(df_cogs_null['per_unit_product'].notnull())]\n",
    "    df_cogs_product_null = df_cogs_average_product_cat[(df_cogs_average_product_cat['per_unit_incoming'].isnull())&(df_cogs_average_product_cat['per_unit_product'].isnull())]\n",
    "    df_cogs_product_cat = df_cogs_product_null[df_cogs_product_null['per_unit_product_cat'].notnull()]\n",
    "    \n",
    "    # sum cogs filldown by product name\n",
    "    product_sum = df_cogs_product.groupby('date')['total_product'].sum()\n",
    "    df_product_sum = pd.Series(product_sum).to_frame()\n",
    "    df_product_sum = df_product_sum.reset_index()\n",
    "    df_product_sum.rename(columns={'total_product':'product_sum'}, inplace=True)\n",
    "    # count # of trxn filldown by product name\n",
    "    product_count = df_cogs_product.groupby('date')['total_product'].count()\n",
    "    df_product_count = pd.Series(product_count).to_frame()\n",
    "    df_product_count = df_product_count.reset_index()\n",
    "    df_product_count.rename(columns={'total_product':'product_count'}, inplace=True)\n",
    "    df_cogs_product_df = pd.merge(df_product_sum, df_product_count)\n",
    "    \n",
    "    # sum cogs filldown by product category name\n",
    "    product_cat_sum = df_cogs_product_cat.groupby('date')['total_product_cat'].sum()\n",
    "    df_product_cat_sum = pd.Series(product_cat_sum).to_frame()\n",
    "    df_product_cat_sum = df_product_cat_sum.reset_index()\n",
    "    df_product_cat_sum.rename(columns={'total_product_cat':'product_cat_sum'}, inplace=True)\n",
    "    # count # of trxn filldown by product category name\n",
    "    product_cat_count = df_cogs_product_cat.groupby('date')['total_product_cat'].count()\n",
    "    df_product_cat_count = pd.Series(product_cat_count).to_frame()\n",
    "    df_product_cat_count = df_product_cat_count.reset_index()\n",
    "    df_product_cat_count.rename(columns={'total_product_cat':'product_cat_count'}, inplace=True)\n",
    "    df_cogs_product_cat_df = pd.merge(df_product_cat_sum, df_product_cat_count)\n",
    "    \n",
    "    # prepare summary\n",
    "    df_summary = pd.merge(df_revenue, df_cogs_product_df, how='left')\n",
    "    df_summary = pd.merge(df_summary, df_cogs_product_cat_df, how='left')\n",
    "    df_summary = pd.merge(df_summary, df_cogs_id, how='left')\n",
    "    df_summary['product_sum'] = df_summary['product_sum'].fillna(0)\n",
    "    df_summary['product_count'] = df_summary['product_count'].fillna(0)\n",
    "    df_summary['product_cat_sum'] = df_summary['product_cat_sum'].fillna(0)\n",
    "    df_summary['product_cat_count'] = df_summary['product_cat_count'].fillna(0)\n",
    "    # total cogs = by product id cogs + by product name cogs + by product category name cogs\n",
    "    df_summary['cogs'] = df_summary['total_incoming'] + df_summary['product_sum'] + df_summary['product_cat_sum']\n",
    "    df_summary = pd.merge(df_summary, df_cogs_count)\n",
    "    df_summary = pd.merge(df_summary, df_total_count)\n",
    "    # total count = by package id count + by product count + by product category count\n",
    "    df_summary['total_count_incoming'] = df_summary['count_incoming'] + df_summary['product_count'] + df_summary['product_cat_count']\n",
    "    df_summary['margin_$'] = df_summary['revenue'] - df_summary['cogs']\n",
    "    df_summary['margin_%'] = df_summary['margin_$'] / df_summary['revenue']\n",
    "    df_summary['coverage'] = df_summary['total_count_incoming'] / df_summary['total_count']\n",
    "    df_summary_simp = df_summary[['date', 'revenue', 'cogs', 'margin_$', 'margin_%', 'total_count_incoming','product_count','product_cat_count','total_count','count_incoming', 'coverage']]\n",
    "    df_summary_simp.index = df_summary_simp.date\n",
    "    return df_summary_simp,df_cogs_average_product_cat\n",
    "\n",
    "\n"
   ]
  },
  {
   "cell_type": "code",
   "execution_count": null,
   "id": "9e79a6a5",
   "metadata": {},
   "outputs": [],
   "source": [
    "df_in = company_incoming_transfer_packages_dataframe\n",
    "df_out = company_outgoing_transfer_packages_dataframe\n",
    "df_inventory = company_inventory_packages_dataframe\n",
    "df_sales = deduped_sales_receipts_with_transactions_dataframe"
   ]
  },
  {
   "cell_type": "code",
   "execution_count": null,
   "id": "2ce67c5c",
   "metadata": {},
   "outputs": [],
   "source": [
    "df_summary_simp_cat_monthly,df_cogs_average_product_cat_monthly = cogs_analysis_fill_by_product_category(df_in,df_out,df_inventory,df_sales,'monthly')\n",
    "df_summary_simp_cat_weekly,df_cogs_average_product_cat_weekly = cogs_analysis_fill_by_product_category(df_in,df_out,df_inventory,df_sales,'weekly')\n",
    "\n",
    "\n"
   ]
  },
  {
   "cell_type": "code",
   "execution_count": null,
   "id": "6326e10a",
   "metadata": {},
   "outputs": [],
   "source": [
    "df_summary_simp_cat_monthly.tail()"
   ]
  },
  {
   "cell_type": "markdown",
   "id": "ac49f113",
   "metadata": {},
   "source": [
    "# inventory .."
   ]
  },
  {
   "cell_type": "code",
   "execution_count": null,
   "id": "ae713988",
   "metadata": {},
   "outputs": [],
   "source": [
    "legal_name = df_in[df_in['license_number'].isin(license_numbers)]['recipient_facility_name'].values[0]\n",
    "legal_name\n",
    "\n",
    "df_sales['per_unit'] = df_sales['tx_total_price'] / df_sales['tx_quantity_sold']\n",
    "df_sales['year_month'] = df_sales['sales_datetime'].dt.strftime(\"%Y-%m\")\n",
    "df_in['per_unit_incoming'] = df_in['shipper_wholesale_price'] / df_in['shipped_quantity']\n",
    "df_in_price = df_in[df_in['shipper_wholesale_price'].notnull()]\n",
    "average_incoming_package_id = df_in_price.groupby('package_id')['per_unit_incoming'].mean()\n",
    "df_avg_incoming_price = pd.Series(average_incoming_package_id).to_frame()\n",
    "df_avg_incoming_price = df_avg_incoming_price.reset_index()\n",
    "average_incoming_product = df_in_price.groupby('product_name')['per_unit_incoming'].mean()\n",
    "df_avg_product = pd.Series(average_incoming_product).to_frame()\n",
    "df_avg_product = df_avg_product.reset_index()\n",
    "df_avg_product.rename(columns={'per_unit_incoming':'per_unit_product'}, inplace=True)\n",
    "df_inventory_incoming = pd.merge(df_inventory, df_avg_incoming_price, on='package_id', how='left')\n",
    "df_inventory_incoming.replace([numpy.inf], numpy.nan, inplace=True)\n",
    "df_inv_null = df_inventory_incoming[df_inventory_incoming['per_unit_incoming'].isnull()]\n",
    "df_inv_product = pd.merge(df_inv_null, df_avg_product, on='product_name', how='left')\n",
    "df_inv_product.replace([numpy.inf], numpy.nan, inplace=True)\n",
    "df_inv_product_price = df_inv_product[df_inv_product['per_unit_product'].notnull()]\n",
    "df_inv_product_price['total_price'] = df_inv_product_price['quantity'] * df_inv_product_price['per_unit_product']\n",
    "inventory_product_value = df_inv_product_price['total_price'].sum()\n",
    "df_inventory_incoming['total_price'] = df_inventory_incoming['quantity'] * df_inventory_incoming['per_unit_incoming']\n",
    "inventory_value = df_inventory_incoming['total_price'].sum()\n",
    "total_inv_value = inventory_product_value + inventory_value\n",
    "inv_count_product = df_inv_product_price['per_unit_product'].count()\n",
    "inv_count_incoming = df_inventory_incoming['per_unit_incoming'].count()\n",
    "inv_count_total = df_inventory_incoming['quantity'].count()\n",
    "inv_total_incoming = inv_count_product + inv_count_incoming\n",
    "\n",
    "inventory_coverage = inv_total_incoming / inv_count_total\n",
    "print(f'{inventory_coverage:,.0%}')\n",
    "\n",
    "data = [[today], \n",
    "        [total_inv_value], \n",
    "        [inv_total_incoming], \n",
    "        [inv_count_total], \n",
    "        [inventory_coverage],\n",
    "        [license_numbers],\n",
    "        [legal_name]]\n",
    "\n",
    "df_inventory_license = pd.DataFrame(data).T\n",
    "df_inventory_license.columns = ['date','value','total_incoming','total','coverage','license','legal_name']\n",
    "df_inventory_license"
   ]
  }
 ],
 "metadata": {
  "kernelspec": {
   "display_name": "Python 3",
   "language": "python",
   "name": "python3"
  },
  "language_info": {
   "codemirror_mode": {
    "name": "ipython",
    "version": 3
   },
   "file_extension": ".py",
   "mimetype": "text/x-python",
   "name": "python",
   "nbconvert_exporter": "python",
   "pygments_lexer": "ipython3",
   "version": "3.8.10"
  }
 },
 "nbformat": 4,
 "nbformat_minor": 5
}
