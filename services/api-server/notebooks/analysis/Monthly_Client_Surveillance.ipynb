{
 "cells": [
  {
   "cell_type": "code",
   "execution_count": null,
   "id": "a1df46ef",
   "metadata": {},
   "outputs": [],
   "source": [
    "import warnings\n",
    "warnings.filterwarnings('ignore')"
   ]
  },
  {
   "cell_type": "code",
   "execution_count": null,
   "id": "17064e54-fe0f-43e3-a00d-b2776aa5b753",
   "metadata": {},
   "outputs": [],
   "source": [
    "import json\n",
    "import numpy \n",
    "import os\n",
    "import pandas as pd\n",
    "import matplotlib.pyplot as plt\n",
    "%matplotlib inline  \n",
    "import pyarrow\n",
    "import sys\n",
    "\n",
    "from datetime import date\n",
    "from dotenv import load_dotenv\n",
    "from sqlalchemy import create_engine\n",
    "from os import path\n",
    "from typing import List,Dict, Tuple\n",
    "from collections import defaultdict\n",
    "pd.set_option(\"display.max_columns\", None)\n",
    "\n",
    "load_dotenv(verbose=True)\n",
    "BIGQUERY_CREDENTIALS_PATH = os.environ.get('BIGQUERY_CREDENTIALS_PATH')\n",
    "engine = create_engine('bigquery://bespoke-financial/ProdMetrcData', credentials_path=os.path.expanduser(BIGQUERY_CREDENTIALS_PATH))\n",
    "\n",
    "sys.path.append(path.realpath(path.join(os.getcwd(), \"../core\")))\n",
    "sys.path.append(path.realpath(path.join(os.getcwd(), \"../../src\")))\n",
    "\n",
    "import create_queries\n",
    "import prepare_data\n",
    "\n",
    "from bespoke.inventory.analysis.shared import download_util, inventory_types\n",
    "from bespoke.inventory.analysis import active_inventory_util as util\n",
    "from bespoke.inventory.analysis import inventory_valuations_util as valuations_util\n",
    "\n",
    "%load_ext autoreload\n",
    "%autoreload 2"
   ]
  },
  {
   "cell_type": "code",
   "execution_count": null,
   "id": "0e3aa203",
   "metadata": {},
   "outputs": [],
   "source": [
    "# Define company name and date ranges"
   ]
  },
  {
   "cell_type": "code",
   "execution_count": null,
   "id": "038c31ef-3af0-4b64-89b3-32c35769e7b2",
   "metadata": {},
   "outputs": [],
   "source": [
    "# CHANGE ME\n",
    "COMPANY_IDENTIFIER = ['GRG']\n",
    "TRANSFER_PACKAGES_START_DATE = '2020-01-01'\n",
    "SALES_TRANSACTIONS_START_DATE = '2020-01-01'"
   ]
  },
  {
   "cell_type": "code",
   "execution_count": null,
   "id": "7892d4f2-ef44-45ff-aea9-681fc6c86b34",
   "metadata": {},
   "outputs": [],
   "source": [
    "#fetch download report and lisences\n",
    "company_licenses_query = create_queries.create_company_licenses_query(COMPANY_IDENTIFIER)\n",
    "company_download_summaries_query = create_queries.create_company_download_summaries_query(COMPANY_IDENTIFIER, TRANSFER_PACKAGES_START_DATE)\n",
    "\n",
    "company_licenses_dataframe = pd.read_sql_query(company_licenses_query, engine)\n",
    "company_download_summaries_dataframe = pd.read_sql_query(company_download_summaries_query, engine)"
   ]
  },
  {
   "cell_type": "code",
   "execution_count": null,
   "id": "b6b54a34",
   "metadata": {},
   "outputs": [],
   "source": [
    "print(company_download_summaries_query)"
   ]
  },
  {
   "cell_type": "markdown",
   "id": "5ddb460b",
   "metadata": {},
   "source": [
    "## Check download status summaries"
   ]
  },
  {
   "cell_type": "code",
   "execution_count": null,
   "id": "cec4010a",
   "metadata": {},
   "outputs": [],
   "source": [
    "license_numbers = company_download_summaries_dataframe['license_number'].unique()\n",
    "download_summary_records = company_download_summaries_dataframe.to_dict('records')"
   ]
  },
  {
   "cell_type": "code",
   "execution_count": null,
   "id": "2d720e85",
   "metadata": {},
   "outputs": [],
   "source": [
    "license_numbers"
   ]
  },
  {
   "cell_type": "code",
   "execution_count": null,
   "id": "773e238b",
   "metadata": {},
   "outputs": [],
   "source": [
    "def check_company_license_download(license_numbers: List[str],download_summary_records: List[Dict[str,str]]) -> Dict[str,str]:\n",
    "    license_number_to_download_summary_records = {}\n",
    "\n",
    "    for license_number in license_numbers:\n",
    "        license_number_to_download_summary_records[license_number] = list(filter(\n",
    "            lambda download_summary_record: download_summary_record['license_number'] == license_number,\n",
    "            download_summary_records\n",
    "        ))\n",
    "\n",
    "    bad_count = 0\n",
    "    bad_history = defaultdict(list)\n",
    "    for license_number, download_summary_records in license_number_to_download_summary_records.items():\n",
    "        print(f'Verifying download summaries for license {license_number}...')\n",
    "        print(f'Earliest download summary: {download_summary_records[-1][\"date\"]}')\n",
    "        print(f'Latest download summary: {download_summary_records[0][\"date\"]}')\n",
    "        for download_summary_record in download_summary_records:\n",
    "            if download_summary_record['status'] != 'completed':\n",
    "                bad_count += 1\n",
    "                print(f'Found bad download summary for license {license_number} on date {download_summary_record[\"date\"]}') \n",
    "                bad_history[license_number].append(download_summary_record['date'])            \n",
    "        \n",
    "        print('')\n",
    "    if bad_count > 0:\n",
    "        print(f'[FAILURE] Found a total of {bad_count} bad download summaries')\n",
    "    else:\n",
    "        print(f'[SUCCESS] All download summaries look good!')\n",
    "    return bad_history\n",
    "\n"
   ]
  },
  {
   "cell_type": "code",
   "execution_count": null,
   "id": "cc634d6a",
   "metadata": {
    "scrolled": true
   },
   "outputs": [],
   "source": [
    "bad_download_history = check_company_license_download(license_numbers,download_summary_records)"
   ]
  },
  {
   "cell_type": "code",
   "execution_count": null,
   "id": "931a4474",
   "metadata": {},
   "outputs": [],
   "source": [
    "bad_download_history"
   ]
  },
  {
   "cell_type": "markdown",
   "id": "5edcc0c3",
   "metadata": {},
   "source": [
    "## Choose license numbers"
   ]
  },
  {
   "cell_type": "code",
   "execution_count": null,
   "id": "1eb753d1",
   "metadata": {},
   "outputs": [],
   "source": [
    "# get list of retailer license numbers\n",
    "license_numbers = list(company_licenses_dataframe[company_licenses_dataframe['license_category'].isin(['Retailer', 'Multiple'])]['license_number'].unique())\n",
    "license_numbers"
   ]
  },
  {
   "cell_type": "code",
   "execution_count": null,
   "id": "7db6cf1b",
   "metadata": {},
   "outputs": [],
   "source": [
    "# run this if only has 1 license, or only want 1 license\n",
    "#license_numbers = [license_numbers[0]]\n",
    "#license_numbers"
   ]
  },
  {
   "cell_type": "markdown",
   "id": "de2db9a0",
   "metadata": {},
   "source": [
    "## Pull data"
   ]
  },
  {
   "cell_type": "code",
   "execution_count": null,
   "id": "61cc4333-fcbf-4d35-ad5f-09cfb5b17486",
   "metadata": {},
   "outputs": [],
   "source": [
    "company_incoming_transfer_packages_query = create_queries.create_company_incoming_transfer_packages_query(\n",
    "    COMPANY_IDENTIFIER,\n",
    "    TRANSFER_PACKAGES_START_DATE,\n",
    "    license_numbers=license_numbers,\n",
    ")\n",
    "company_outgoing_transfer_packages_query = create_queries.create_company_outgoing_transfer_packages_query(\n",
    "    COMPANY_IDENTIFIER,\n",
    "    TRANSFER_PACKAGES_START_DATE,\n",
    "    license_numbers=license_numbers,\n",
    ")\n",
    "company_unknown_transfer_packages_query = create_queries.create_company_unknown_transfer_packages_query(\n",
    "    COMPANY_IDENTIFIER,\n",
    "    TRANSFER_PACKAGES_START_DATE,\n",
    "#     license_numbers=license_numbers,\n",
    ")\n",
    "company_sales_transactions_query = create_queries.create_company_sales_transactions_query(\n",
    "    COMPANY_IDENTIFIER,\n",
    "    SALES_TRANSACTIONS_START_DATE,\n",
    "    license_numbers=license_numbers,\n",
    ")\n",
    "company_sales_receipts_query = create_queries.create_company_sales_receipts_query(\n",
    "    COMPANY_IDENTIFIER,\n",
    "    SALES_TRANSACTIONS_START_DATE,\n",
    "    license_numbers=license_numbers,\n",
    ")\n",
    "company_sales_receipts_with_transactions_query = create_queries.create_company_sales_receipts_with_transactions_query(\n",
    "    COMPANY_IDENTIFIER,\n",
    "    SALES_TRANSACTIONS_START_DATE,\n",
    "    license_numbers=license_numbers,\n",
    ")\n",
    "company_inventory_packages_query = create_queries.create_company_inventory_packages_query(\n",
    "    COMPANY_IDENTIFIER,\n",
    "    include_quantity_zero=True,\n",
    "    license_numbers=license_numbers,\n",
    ")\n",
    "\n",
    "company_incoming_transfer_packages_dataframe = pd.read_sql_query(company_incoming_transfer_packages_query, engine)\n",
    "company_outgoing_transfer_packages_dataframe = pd.read_sql_query(company_outgoing_transfer_packages_query, engine)\n",
    "company_unknown_transfer_packages_dataframe = pd.read_sql_query(company_unknown_transfer_packages_query, engine)\n",
    "company_sales_transactions_dataframe = pd.read_sql_query(company_sales_transactions_query, engine)\n",
    "company_sales_receipts_dataframe = pd.read_sql_query(company_sales_receipts_query, engine)\n",
    "company_sales_receipts_with_transactions_dataframe = pd.read_sql_query(company_sales_receipts_with_transactions_query, engine)\n",
    "company_inventory_packages_dataframe = pd.read_sql_query(company_inventory_packages_query, engine)"
   ]
  },
  {
   "cell_type": "markdown",
   "id": "22f31807",
   "metadata": {},
   "source": [
    "## Unknown transfer packages"
   ]
  },
  {
   "cell_type": "code",
   "execution_count": null,
   "id": "aef77c6f",
   "metadata": {},
   "outputs": [],
   "source": [
    "def check_unknown_transfer_packages(unknown_transfer_df: pd.DataFrame) -> int:\n",
    "    unknown_package_count = unknown_transfer_df.shape[0]\n",
    "    if unknown_package_count > 0:\n",
    "        print(f'[FAILURE] Found a total of {unknown_package_count} unknown transfer packages')\n",
    "    else:\n",
    "        print(f'[SUCCESS] No unknown transfer packages!')\n",
    "    return unknown_package_count"
   ]
  },
  {
   "cell_type": "code",
   "execution_count": null,
   "id": "f3a6daad",
   "metadata": {},
   "outputs": [],
   "source": [
    "unknown_package_count = check_unknown_transfer_packages(company_unknown_transfer_packages_dataframe)\n",
    "unknown_package_count"
   ]
  },
  {
   "cell_type": "markdown",
   "id": "e045f647",
   "metadata": {},
   "source": [
    "## Receiver wholesale price coverage"
   ]
  },
  {
   "cell_type": "code",
   "execution_count": null,
   "id": "623f7f7e",
   "metadata": {},
   "outputs": [],
   "source": [
    "def check_receiver_wholesale_price_coverage(incoming_transfer_df: pd.DataFrame) -> float:\n",
    "    rwp_exists_count = incoming_transfer_df[incoming_transfer_df['receiver_wholesale_price'].notnull()].shape[0]\n",
    "    total_count = incoming_transfer_df.shape[0]\n",
    "    rwp_coverage = round(rwp_exists_count / total_count, 2) * 100\n",
    "    print(f'{rwp_coverage}% of incoming transfer packages have receiver wholesale price')\n",
    "    return rwp_coverage"
   ]
  },
  {
   "cell_type": "code",
   "execution_count": null,
   "id": "fc28651c",
   "metadata": {},
   "outputs": [],
   "source": [
    "company_incoming_transfer_packages_dataframe[company_incoming_transfer_packages_dataframe['receiver_wholesale_price'].notnull()].shape"
   ]
  },
  {
   "cell_type": "code",
   "execution_count": null,
   "id": "09992a21",
   "metadata": {},
   "outputs": [],
   "source": [
    "company_incoming_transfer_packages_dataframe.shape"
   ]
  },
  {
   "cell_type": "code",
   "execution_count": null,
   "id": "44df31d7",
   "metadata": {},
   "outputs": [],
   "source": [
    "rwp_coverage = check_receiver_wholesale_price_coverage(company_incoming_transfer_packages_dataframe)\n"
   ]
  },
  {
   "cell_type": "markdown",
   "id": "b69846cc",
   "metadata": {},
   "source": [
    "## dedupe sales transactions"
   ]
  },
  {
   "cell_type": "code",
   "execution_count": null,
   "id": "54e232ef-5871-401c-9716-254f6242d138",
   "metadata": {},
   "outputs": [],
   "source": [
    "deduped_sales_receipts_with_transactions_dataframe = prepare_data.dedupe_sales_transactions(company_sales_receipts_with_transactions_dataframe)"
   ]
  },
  {
   "cell_type": "code",
   "execution_count": null,
   "id": "3aa67466",
   "metadata": {},
   "outputs": [],
   "source": [
    "deduped_sales_receipts_with_transactions_dataframe['sales_month'] = deduped_sales_receipts_with_transactions_dataframe['sales_datetime'].dt.strftime('%Y-%m')"
   ]
  },
  {
   "cell_type": "markdown",
   "id": "b02839ed",
   "metadata": {},
   "source": [
    "## Trxns missing incoming transfer packages"
   ]
  },
  {
   "cell_type": "code",
   "execution_count": null,
   "id": "c3a98c0f",
   "metadata": {},
   "outputs": [],
   "source": [
    "def check_incoming_transfer_package_coverage(incoming_transfer_df: pd.DataFrame,sales_df: pd.DataFrame) -> Tuple[List,pd.DataFrame]:\n",
    "    package_transfer_sales_merged = pd.merge(sales_df,incoming_transfer_df,left_on='tx_package_id', right_on='package_id', how='left')\n",
    "    package_transfer_sales_merged_missed = package_transfer_sales_merged[package_transfer_sales_merged['package_id'].isnull()]\n",
    "    count_trxn_missed = package_transfer_sales_merged_missed.shape[0]\n",
    "    count_total_trxn = sales_df.shape[0]\n",
    "    missed_ratio = count_trxn_missed/ count_total_trxn\n",
    "    print(f'# transactions missing incoming transfer package: {count_trxn_missed} ({count_trxn_missed / count_total_trxn * 100}%)')\n",
    "    print(f'# transactions total: {count_total_trxn}')\n",
    "    return missed_ratio,package_transfer_sales_merged_missed"
   ]
  },
  {
   "cell_type": "code",
   "execution_count": null,
   "id": "64d0ec4c",
   "metadata": {},
   "outputs": [],
   "source": [
    "deduped_sales_receipts_with_transactions_dataframe = prepare_data.dedupe_sales_transactions(company_sales_receipts_with_transactions_dataframe)\n",
    "deduped_sales_receipts_with_transactions_dataframe['sales_month'] = deduped_sales_receipts_with_transactions_dataframe['sales_datetime'].dt.strftime('%Y-%m')"
   ]
  },
  {
   "cell_type": "code",
   "execution_count": null,
   "id": "cd0b5a90",
   "metadata": {},
   "outputs": [],
   "source": [
    "incoming_transfer_package_coverage,incoming_transfer_package_coverage_missing = check_incoming_transfer_package_coverage(company_incoming_transfer_packages_dataframe,deduped_sales_receipts_with_transactions_dataframe)"
   ]
  },
  {
   "cell_type": "code",
   "execution_count": null,
   "id": "6be6dd2a",
   "metadata": {},
   "outputs": [],
   "source": [
    "month_to_missing_count = incoming_transfer_package_coverage_missing[['sales_month','receipt_number']].groupby(['sales_month']).apply(lambda x: len(x['receipt_number'].unique()))\n",
    "month_to_missing_count\n"
   ]
  },
  {
   "cell_type": "markdown",
   "id": "0da2e8ce-e643-4fee-aca6-cd61b3becc21",
   "metadata": {},
   "source": [
    "## Receipts missing metrc_sales_transactions"
   ]
  },
  {
   "cell_type": "code",
   "execution_count": null,
   "id": "cbc30296-afa8-42f8-a16b-72fe045395c6",
   "metadata": {},
   "outputs": [],
   "source": [
    "sales_receipt_with_transactions_records = deduped_sales_receipts_with_transactions_dataframe.to_dict('records')\n",
    "\n",
    "receipt_number_to_transactions = {}\n",
    "for sales_receipt_with_transaction_record in sales_receipt_with_transactions_records:\n",
    "    receipt_number = sales_receipt_with_transaction_record['receipt_number']\n",
    "    if receipt_number in receipt_number_to_transactions:\n",
    "        receipt_number_to_transactions[receipt_number] += [sales_receipt_with_transaction_record]\n",
    "    else:\n",
    "        receipt_number_to_transactions[receipt_number] = [sales_receipt_with_transaction_record]"
   ]
  },
  {
   "cell_type": "code",
   "execution_count": null,
   "id": "c8f876a8-09ef-4582-9ed9-958d3e97b4a5",
   "metadata": {},
   "outputs": [],
   "source": [
    "import math\n",
    "\n",
    "def float_eq(receipt_total_price: float, transactions_total_price: float, num_transactions: int) -> bool:\n",
    "    # For every additional transaction, increase threshold by 0.01 (a penny).\n",
    "    threshold = num_transactions * 0.1\n",
    "    return math.isclose(receipt_total_price, transactions_total_price, abs_tol=threshold)\n",
    "\n",
    "mismatch_count = 0 # Count of receipts where receipt total price does not match transactions total price.\n",
    "missing_count = 0 # Count of receipts with no transactions.\n",
    "total_count = 0 # Count of receipts (including those missing transactions).\n",
    "\n",
    "mismatch_over_count = 0\n",
    "mismatch_under_count = 0\n",
    "\n",
    "month_to_mismatch_count = {}\n",
    "month_to_missing_count = {}\n",
    "\n",
    "month_to_mismatch_over_count = {}\n",
    "month_to_mismatch_under_count = {}\n",
    "\n",
    "example_mismatch_over_receipts = []\n",
    "example_mismatch_under_receipts = []\n",
    "\n",
    "for receipt_number, receipt_transactions in list(receipt_number_to_transactions.items()):\n",
    "    receipt_total_price = receipt_transactions[0]['rt_total_price']\n",
    "    receipt_sales_month = receipt_transactions[0]['sales_month']\n",
    "    receipt_total_packages = receipt_transactions[0]['total_packages']\n",
    "\n",
    "    total_count += 1\n",
    "\n",
    "    if len(receipt_transactions) == 1 and receipt_transactions[0]['tx_package_id'] == None:\n",
    "        missing_count += 1\n",
    "        if receipt_sales_month not in month_to_missing_count:\n",
    "            month_to_missing_count[receipt_sales_month] = 0\n",
    "        month_to_missing_count[receipt_sales_month] += 1\n",
    "        continue\n",
    "\n",
    "    # Check whether 'total_packages' field of sales receipt matches number of transactions related to receipt.\n",
    "    if receipt_total_packages != len(receipt_transactions):\n",
    "        missing_count += 1\n",
    "        if receipt_sales_month not in month_to_missing_count:\n",
    "            month_to_missing_count[receipt_sales_month] = 0\n",
    "        month_to_missing_count[receipt_sales_month] += 1\n",
    "        continue\n",
    "\n",
    "    transactions_total_price = sum(receipt_transaction['tx_total_price'] for receipt_transaction in receipt_transactions)\n",
    "    if not float_eq(receipt_total_price, transactions_total_price, len(receipt_transactions)):\n",
    "        mismatch_count += 1\n",
    "        if receipt_total_price < transactions_total_price:\n",
    "            mismatch_over_count += 1\n",
    "            example_mismatch_over_receipts += [(receipt_number, receipt_transactions)]\n",
    "        else:\n",
    "            mismatch_under_count += 1\n",
    "            example_mismatch_under_receipts += [(receipt_number, receipt_transactions)]\n",
    "\n",
    "        if receipt_sales_month not in month_to_mismatch_count:\n",
    "            month_to_mismatch_count[receipt_sales_month] = 0\n",
    "        month_to_mismatch_count[receipt_sales_month] += 1\n",
    "        continue\n",
    "\n",
    "print(f'# receipts with mismatching transactions: {mismatch_count} ({mismatch_count / total_count * 100}%)')\n",
    "print(f'# receipts missing transactions: {missing_count} ({missing_count / total_count * 100}%)')\n",
    "print(f'# receipts total: {total_count}')\n",
    "\n",
    "if mismatch_count:\n",
    "    print(f'# mismatch receipt vs transactions (transactions over): {mismatch_over_count} ({mismatch_over_count / mismatch_count * 100}%)')\n",
    "    print(f'# mismatch receipt vs transactions (transactions under): {mismatch_under_count} ({mismatch_under_count / mismatch_count * 100}%)')"
   ]
  },
  {
   "cell_type": "markdown",
   "id": "40a054de",
   "metadata": {},
   "source": [
    "# Vendor churn"
   ]
  },
  {
   "cell_type": "code",
   "execution_count": null,
   "id": "c18451c1",
   "metadata": {},
   "outputs": [],
   "source": [
    "window = 4\n",
    "vc_start_date = '2020-01-01'\n",
    "vc_end_date = '2022-02-01'"
   ]
  },
  {
   "cell_type": "code",
   "execution_count": null,
   "id": "af9827ac",
   "metadata": {},
   "outputs": [],
   "source": [
    "license_numbers"
   ]
  },
  {
   "cell_type": "code",
   "execution_count": null,
   "id": "43c7c055",
   "metadata": {},
   "outputs": [],
   "source": [
    "df_vendor_churn = company_incoming_transfer_packages_dataframe[company_incoming_transfer_packages_dataframe['license_number'].isin(license_numbers)]\n",
    "df_vendor_churn['year_month'] = pd.to_datetime(df_vendor_churn['created_date']).dt.strftime(\"%Y-%m\")\n",
    "vc = df_vendor_churn[['year_month','shipper_facility_name','shipper_wholesale_price']].groupby(['year_month','shipper_facility_name']).sum().reset_index()\n",
    "vc= vc.assign(year_month=lambda df:pd.to_datetime(df['year_month']))\n"
   ]
  },
  {
   "cell_type": "code",
   "execution_count": null,
   "id": "ea2bbad5",
   "metadata": {},
   "outputs": [],
   "source": [
    "# make `vc` a long-table version of the spreadsheet, where all conpanies have a continuous year_month starting from \n",
    "# 2020-01-01 to 2022-01-01\n",
    "\n",
    "vc_full = (\n",
    "    vc\n",
    "    .groupby('shipper_facility_name').apply(\n",
    "        lambda df: df.merge(\n",
    "        pd.Series(\n",
    "            None, \n",
    "            index = pd.date_range(start='2020-01-01', end= vc_end_date, freq = 'MS'), \n",
    "            name='__place_holder'\n",
    "        ), \n",
    "        how ='right',\n",
    "        left_on = 'year_month', \n",
    "        right_index=True,\n",
    "    ).assign(\n",
    "        **{\n",
    "            \"shipper_facility_name\": lambda df_: df_.shipper_facility_name.dropna().unique()[0],\n",
    "            \"shipper_wholesale_price\": lambda df_: df_.shipper_wholesale_price.fillna(0),\n",
    "        }\n",
    "    )\n",
    "    .drop('__place_holder', axis=1)\n",
    "    )\n",
    ").reset_index(drop=True)"
   ]
  },
  {
   "cell_type": "code",
   "execution_count": null,
   "id": "c9c014c8",
   "metadata": {},
   "outputs": [],
   "source": [
    "rolling_4m_sum =  vc_full.groupby('shipper_facility_name').apply(\n",
    "    lambda df: df.set_index('year_month').sort_index().rolling(window).sum()\n",
    ")\n",
    "rolling_4m_sum.columns = ['rolling_4m_total_price']\n",
    "\n",
    "\n",
    "facility_monthly_running_total = vc_full.groupby('shipper_facility_name').apply(\n",
    "    lambda df: df.set_index('year_month').sort_index()['shipper_wholesale_price'].cumsum().to_frame()\n",
    ")\n",
    "facility_monthly_running_total.columns = ['facility_running_total']\n",
    "\n",
    "monthly_running_total = facility_monthly_running_total.reset_index().groupby('year_month')['facility_running_total'].sum().to_frame()\n",
    "monthly_running_total.columns = ['monthly_running_total']\n"
   ]
  },
  {
   "cell_type": "code",
   "execution_count": null,
   "id": "8b8895f2",
   "metadata": {},
   "outputs": [],
   "source": [
    "vc_result = rolling_4m_sum.merge(\n",
    "    facility_monthly_running_total,\n",
    "    how='inner',\n",
    "    left_index=True,\n",
    "    right_index=True\n",
    ").reset_index().merge(\n",
    "    monthly_running_total,\n",
    "    how='left',\n",
    "    on = 'year_month'\n",
    ")"
   ]
  },
  {
   "cell_type": "code",
   "execution_count": null,
   "id": "424dd545",
   "metadata": {},
   "outputs": [],
   "source": [
    "vc_result['%_total'] = vc_result['facility_running_total'] / vc_result['monthly_running_total']"
   ]
  },
  {
   "cell_type": "code",
   "execution_count": null,
   "id": "5ffdd963",
   "metadata": {},
   "outputs": [],
   "source": [
    "vc_result['last_4m_active'] = vc_result['rolling_4m_total_price'] > 0"
   ]
  },
  {
   "cell_type": "code",
   "execution_count": null,
   "id": "7081f551",
   "metadata": {},
   "outputs": [],
   "source": [
    "vc_result ['significant'] = vc_result['%_total'] > 0.001"
   ]
  },
  {
   "cell_type": "code",
   "execution_count": null,
   "id": "4f34f17d",
   "metadata": {},
   "outputs": [],
   "source": [
    "vc_result['measure'] = vc_result.apply(\n",
    "    lambda row: \"Active\"  if (row['last_4m_active'] & row['significant']) else (\"Inactive\" if row['significant'] else \"Exclude\"),\n",
    "    axis=1\n",
    ")"
   ]
  },
  {
   "cell_type": "code",
   "execution_count": null,
   "id": "d3e3b05e",
   "metadata": {},
   "outputs": [],
   "source": [
    "churn = vc_result.groupby(['year_month']).apply(lambda x: x[x['measure'] == 'Inactive']['%_total'].sum()).reset_index()\n",
    "churn.columns = ['year_month','%_inactive']\n",
    "churn.index = churn.year_month\n",
    "\n"
   ]
  },
  {
   "cell_type": "code",
   "execution_count": null,
   "id": "c35a7da0",
   "metadata": {},
   "outputs": [],
   "source": [
    "ax = churn['%_inactive'].plot(marker = 'o',figsize = (12,8))\n",
    "vals = ax.get_yticks()\n",
    "ax.set_yticklabels(['{:,.2%}'.format(x) for x in vals])\n",
    "ax = plt.title('Rolling 4m vendor churn')"
   ]
  },
  {
   "cell_type": "code",
   "execution_count": null,
   "id": "9664ce28",
   "metadata": {},
   "outputs": [],
   "source": [
    "churn"
   ]
  },
  {
   "cell_type": "code",
   "execution_count": null,
   "id": "d98d82fa",
   "metadata": {},
   "outputs": [],
   "source": [
    "VC_MONTH_LIST = ['2021-10-01','2021-11-01','2021-12-01','2022-01-01']\n",
    "VC_MONTH_END = VC_MONTH_LIST[-1]"
   ]
  },
  {
   "cell_type": "code",
   "execution_count": null,
   "id": "a19fc132",
   "metadata": {},
   "outputs": [],
   "source": [
    "# output vendor churn matrix\n",
    "vc_data = vc_full[vc_full['year_month'] <= VC_MONTH_END]\n",
    "vc_data['year_month'] = vc_data['year_month'].astype(str)\n",
    "vc_matrix = pd.pivot_table(vc_data, values='shipper_wholesale_price', index='shipper_facility_name',\n",
    "                    columns='year_month', fill_value=0).reset_index()"
   ]
  },
  {
   "cell_type": "code",
   "execution_count": null,
   "id": "15a81c37",
   "metadata": {},
   "outputs": [],
   "source": [
    "vc_matrix['facility_total'] = vc_matrix.sum(axis= 1)\n",
    "vc_matrix['grand_total'] = vc_matrix['facility_total'].sum()\n",
    "vc_matrix['perc_total'] = vc_matrix['facility_total'] / vc_matrix['grand_total']\n",
    "vc_matrix['last_4m_total'] = vc_matrix[VC_MONTH_LIST].sum(axis = 1)"
   ]
  },
  {
   "cell_type": "code",
   "execution_count": null,
   "id": "67cdbb3d",
   "metadata": {},
   "outputs": [],
   "source": [
    "vc_matrix['last_4m_active'] = vc_matrix['last_4m_total'] > 0\n",
    "vc_matrix ['significant'] = vc_matrix['perc_total'] > 0.001\n",
    "vc_matrix['measure'] = vc_matrix.apply(\n",
    "    lambda row: \"Active\"  if (row['last_4m_active'] & row['significant']) else (\"Inactive\" if row['significant'] else \"Exclude\"),\n",
    "    axis=1\n",
    ")"
   ]
  },
  {
   "cell_type": "markdown",
   "id": "21b8b232",
   "metadata": {},
   "source": [
    "# Receiver wholesale price outlier check"
   ]
  },
  {
   "cell_type": "code",
   "execution_count": null,
   "id": "7291b9c2",
   "metadata": {},
   "outputs": [],
   "source": [
    "def check_per_unit_incoming(incoming_transfer_df: pd.DataFrame) -> Tuple[pd.DataFrame,pd.DataFrame]:\n",
    "    incoming_transfer_df['per_unit_incoming'] = incoming_transfer_df['shipper_wholesale_price'] / incoming_transfer_df['shipped_quantity']\n",
    "    # by package ID\n",
    "    per_unit_incoming_package_sort = incoming_transfer_df[['package_id','per_unit_incoming']].groupby(['package_id']).mean().sort_values(by = 'per_unit_incoming',ascending = False).reset_index()\n",
    "    per_unit_incoming_package_top5 = per_unit_incoming_package_sort[0:5]\n",
    "    print('printing per unit incoming by package ID summary ...')\n",
    "    print(f'max per unit incoming: {per_unit_incoming_package_sort[\"per_unit_incoming\"][0]}' + f' from package ID: {per_unit_incoming_package_sort[\"package_id\"][0]}')\n",
    "    print(f'min per unit incoming: {per_unit_incoming_package_sort.dropna()[\"per_unit_incoming\"][-1:].values[0]}' + f' from package ID: {per_unit_incoming_package_sort.dropna()[\"package_id\"][-1:].values[0]}')\n",
    "    #print(per_unit_incoming_package_top5)\n",
    "    print('')\n",
    "    \n",
    "    #by product name\n",
    "    per_unit_incoming_product_sort = incoming_transfer_df[['product_name','per_unit_incoming']].groupby(['product_name']).max().sort_values(by = 'per_unit_incoming',ascending = False).reset_index()\n",
    "    per_unit_incoming_product_top5 = per_unit_incoming_product_sort[0:5]\n",
    "    #print('printing per unit incoming by product name summary ...')\n",
    "    #print(f'max per unit incoming: {per_unit_incoming_product_sort[\"per_unit_incoming\"][0]}' + f' from product name: {per_unit_incoming_product_sort[\"product_name\"][0]}')\n",
    "    #print(f'min per unit incoming: {per_unit_incoming_product_sort.dropna()[\"per_unit_incoming\"][-1:].values[0]}' + f' from product_name: {per_unit_incoming_product_sort.dropna()[\"product_name\"][-1:].values[0]}')\n",
    "    #print(per_unit_incoming_product_top5)\n",
    "    return per_unit_incoming_package_sort,per_unit_incoming_product_sort\n"
   ]
  },
  {
   "cell_type": "code",
   "execution_count": null,
   "id": "00fbd51c",
   "metadata": {},
   "outputs": [],
   "source": [
    "per_unit_incoming_package_sort,per_unit_incoming_product_sort = check_per_unit_incoming(company_incoming_transfer_packages_dataframe)\n"
   ]
  },
  {
   "cell_type": "code",
   "execution_count": null,
   "id": "1f93f801",
   "metadata": {},
   "outputs": [],
   "source": [
    "# top 5\n",
    "print('Top 5 per unit incoming packages')\n",
    "per_unit_incoming_package_sort.head(5)"
   ]
  },
  {
   "cell_type": "code",
   "execution_count": null,
   "id": "acc93f68",
   "metadata": {},
   "outputs": [],
   "source": [
    "print('Bottom 5 per unit incoming packages')\n",
    "per_unit_incoming_package_sort.dropna().tail(5)\n"
   ]
  },
  {
   "cell_type": "code",
   "execution_count": null,
   "id": "74096824",
   "metadata": {},
   "outputs": [],
   "source": [
    "company_incoming_transfer_packages_dataframe[company_incoming_transfer_packages_dataframe['per_unit_incoming'] > 10000]"
   ]
  },
  {
   "cell_type": "markdown",
   "id": "84b21f91-5b47-4407-8579-7e29714d60e4",
   "metadata": {},
   "source": [
    "# COGS analysis"
   ]
  },
  {
   "cell_type": "code",
   "execution_count": null,
   "id": "e57a2ec3",
   "metadata": {},
   "outputs": [],
   "source": [
    "def cogs_analysis(df_in:pd.DataFrame,df_out:pd.DataFrame,df_inventory:pd.DataFrame,df_sales:pd.DataFrame,freq: str) -> Tuple[pd.DataFrame,pd.DataFrame]:\n",
    "    df_sales['per_unit'] = df_sales['tx_total_price'] / df_sales['tx_quantity_sold']\n",
    "    # set frequency\n",
    "    if freq == 'monthly':\n",
    "        df_sales['date'] = df_sales['sales_datetime'].dt.strftime(\"%Y-%m\")\n",
    "    elif freq == 'weekly':\n",
    "        df_sales['date'] = df_sales['sales_datetime'].dt.strftime(\"%Y-%W\")\n",
    "        df_sales['week'] = df_sales['sales_datetime'].dt.strftime(\"%W\")\n",
    "    # total # of trxns\n",
    "    s_total_count = df_sales.groupby('date')['tx_total_price'].count()\n",
    "    df_total_count = pd.Series(s_total_count).to_frame()\n",
    "    df_total_count = df_total_count.reset_index()\n",
    "    df_total_count.rename(columns={'tx_total_price':'total_count'}, inplace=True)\n",
    "    # revenue\n",
    "    s_revenue = df_sales.groupby('date')['tx_total_price'].sum()\n",
    "    df_revenue = pd.Series(s_revenue).to_frame()\n",
    "    df_revenue = df_revenue.reset_index()\n",
    "    df_revenue.rename(columns={'tx_total_price': 'revenue'}, inplace=True)\n",
    "\n",
    "    df_in['per_unit_incoming'] = df_in['shipper_wholesale_price'] / df_in['shipped_quantity']\n",
    "    \n",
    "    # per unit price by package id\n",
    "    df_in_price = df_in[df_in['shipper_wholesale_price'].notnull()]\n",
    "    average_incoming_package_id = df_in_price.groupby('package_id')['per_unit_incoming'].mean()\n",
    "    df_avg_incoming_price = pd.Series(average_incoming_package_id).to_frame()\n",
    "    df_avg_incoming_price = df_avg_incoming_price.reset_index()\n",
    "    # per unit price by product name\n",
    "    average_incoming_product = df_in_price.groupby('product_name')['per_unit_incoming'].mean()\n",
    "    df_avg_product = pd.Series(average_incoming_product).to_frame()\n",
    "    df_avg_product = df_avg_product.reset_index()\n",
    "    df_avg_product.rename(columns={'per_unit_incoming':'per_unit_product'}, inplace=True)\n",
    "\n",
    "    # merge with (cogs by package id)\n",
    "    df_cogs_package_id = pd.merge(df_sales, df_avg_incoming_price, left_on='tx_package_id', right_on='package_id', how='left')\n",
    "    df_cogs_package_id['total_incoming'] = df_cogs_package_id['per_unit_incoming'] * df_cogs_package_id['tx_quantity_sold']\n",
    "    df_cogs_package_id.replace([numpy.inf], numpy.nan, inplace=True)\n",
    "    df_cogs_package_id_notnull = df_cogs_package_id[df_cogs_package_id['total_incoming'].notnull()]\n",
    "\n",
    "    # sum cogs by package id\n",
    "    s_cogs = df_cogs_package_id_notnull.groupby('date')['total_incoming'].sum()\n",
    "    df_cogs_id = pd.Series(s_cogs).to_frame()\n",
    "    df_cogs_id = df_cogs_id.reset_index()\n",
    "    # count # of trxn by package id\n",
    "    s_cogs_count = df_cogs_package_id_notnull.groupby('date')['total_incoming'].count()\n",
    "    df_cogs_count = pd.Series(s_cogs_count).to_frame()\n",
    "    df_cogs_count = df_cogs_count.reset_index()\n",
    "    df_cogs_count.rename(columns={'total_incoming':'count_incoming'}, inplace=True)\n",
    "    \n",
    "    # merge with (cogs by product name)\n",
    "    df_cogs_average_product = pd.merge(df_cogs_package_id, df_avg_product, left_on='tx_product_name', right_on='product_name', how='left')\n",
    "    df_cogs_average_product['total_product'] = df_cogs_average_product['tx_quantity_sold'] * df_cogs_average_product['per_unit_product']\n",
    "    df_cogs_null = df_cogs_average_product[df_cogs_average_product['per_unit_incoming'].isnull()]\n",
    "    df_cogs_product = df_cogs_null[df_cogs_null['per_unit_product'].notnull()]\n",
    "    # sum cogs filldown by product name\n",
    "    product_sum = df_cogs_product.groupby('date')['total_product'].sum()\n",
    "    df_product_sum = pd.Series(product_sum).to_frame()\n",
    "    df_product_sum = df_product_sum.reset_index()\n",
    "    df_product_sum.rename(columns={'total_product':'product_sum'}, inplace=True)\n",
    "    # count # of trxn filldown by product name\n",
    "    product_count = df_cogs_product.groupby('date')['total_product'].count()\n",
    "    df_product_count = pd.Series(product_count).to_frame()\n",
    "    df_product_count = df_product_count.reset_index()\n",
    "    df_product_count.rename(columns={'total_product':'product_count'}, inplace=True)\n",
    "    df_cogs_product_df = pd.merge(df_product_sum, df_product_count)\n",
    "    \n",
    "    # prepare summary\n",
    "    df_summary = pd.merge(df_revenue, df_cogs_product_df, how='left')\n",
    "    df_summary = pd.merge(df_summary, df_cogs_id, how='left')\n",
    "    df_summary['product_sum'] = df_summary['product_sum'].fillna(0)\n",
    "    df_summary['product_count'] = df_summary['product_count'].fillna(0)\n",
    "    # total cogs = by product id cogs + by product name cogs\n",
    "    df_summary['cogs'] = df_summary['total_incoming'] + df_summary['product_sum']\n",
    "    df_summary = pd.merge(df_summary, df_cogs_count)\n",
    "    df_summary = pd.merge(df_summary, df_total_count)\n",
    "    # total count = by package id count + by product count\n",
    "    df_summary['total_count_incoming'] = df_summary['count_incoming'] + df_summary['product_count']\n",
    "    df_summary['margin_$'] = df_summary['revenue'] - df_summary['cogs']\n",
    "    df_summary['margin_%'] = df_summary['margin_$'] / df_summary['revenue']\n",
    "    df_summary['coverage'] = df_summary['total_count_incoming'] / df_summary['total_count']\n",
    "    df_summary_simp = df_summary[['date', 'revenue', 'cogs', 'margin_$', 'margin_%', 'total_count_incoming','product_count','count_incoming', 'coverage']]\n",
    "    \n",
    "    return df_summary_simp,df_cogs_average_product\n",
    "\n",
    "\n"
   ]
  },
  {
   "cell_type": "code",
   "execution_count": null,
   "id": "ad3d305f",
   "metadata": {},
   "outputs": [],
   "source": [
    "\"\"\"\n",
    "df_in = company_incoming_transfer_packages_dataframe[company_incoming_transfer_packages_dataframe['per_unit_incoming'] <= 10000]\n",
    "df_out = company_outgoing_transfer_packages_dataframe\n",
    "df_inventory = company_inventory_packages_dataframe\n",
    "df_sales = deduped_sales_receipts_with_transactions_dataframe\n",
    "\"\"\""
   ]
  },
  {
   "cell_type": "code",
   "execution_count": null,
   "id": "0cacb9a7-cb4f-4ce4-8820-8ab37285629c",
   "metadata": {},
   "outputs": [],
   "source": [
    "df_in = company_incoming_transfer_packages_dataframe[company_incoming_transfer_packages_dataframe['per_unit_incoming'] <= 10000]\n",
    "df_out = company_outgoing_transfer_packages_dataframe\n",
    "df_inventory = company_inventory_packages_dataframe\n",
    "df_sales = deduped_sales_receipts_with_transactions_dataframe"
   ]
  },
  {
   "cell_type": "code",
   "execution_count": null,
   "id": "4126dddb",
   "metadata": {},
   "outputs": [],
   "source": [
    "df_summary_simp,df_cogs_average_product = cogs_analysis(df_in,df_out,df_inventory,df_sales,'monthly')\n",
    "df_summary_simp['gm_past_quarter'] = df_summary_simp[['margin_%']].rolling(3).mean().values\n",
    "df_summary_simp['gm_past_2quarters'] = df_summary_simp[['margin_%']].rolling(6).mean().values\n",
    "df_summary_simp['gm_past_3quarters'] = df_summary_simp[['margin_%']].rolling(9).mean().values\n",
    "df_summary_simp['sum_cogs_past_3months'] = df_summary_simp[['cogs']].rolling(3).sum().values\n",
    "df_summary_simp.index = df_summary_simp.date\n"
   ]
  },
  {
   "cell_type": "code",
   "execution_count": null,
   "id": "4834a910",
   "metadata": {},
   "outputs": [],
   "source": [
    "df_summary_simp"
   ]
  },
  {
   "cell_type": "markdown",
   "id": "2e230198",
   "metadata": {},
   "source": [
    "# COGS analysis with further filldown using product category name"
   ]
  },
  {
   "cell_type": "code",
   "execution_count": null,
   "id": "5d10bd94",
   "metadata": {},
   "outputs": [],
   "source": [
    "def cogs_analysis_fill_by_product_category(df_in:pd.DataFrame,df_out:pd.DataFrame,df_inventory:pd.DataFrame,df_sales:pd.DataFrame,freq: str) -> pd.DataFrame:\n",
    "    df_sales['per_unit'] = df_sales['tx_total_price'] / df_sales['tx_quantity_sold']\n",
    "    # set frequency\n",
    "    if freq == 'monthly':\n",
    "        df_sales['date'] = df_sales['sales_datetime'].dt.strftime(\"%Y-%m\")\n",
    "\n",
    "    elif freq == 'weekly':\n",
    "        df_sales['date'] = df_sales['sales_datetime'].dt.strftime(\"%Y-%W\")\n",
    "\n",
    "    # total # trxns    \n",
    "    s_total_count = df_sales.groupby('date')['tx_total_price'].count()\n",
    "    df_total_count = pd.Series(s_total_count).to_frame()\n",
    "    df_total_count = df_total_count.reset_index()\n",
    "    df_total_count.rename(columns={'tx_total_price':'total_count'}, inplace=True)\n",
    "    # revenue\n",
    "    s_revenue = df_sales.groupby('date')['tx_total_price'].sum()\n",
    "    df_revenue = pd.Series(s_revenue).to_frame()\n",
    "    df_revenue = df_revenue.reset_index()\n",
    "    df_revenue.rename(columns={'tx_total_price': 'revenue'}, inplace=True)\n",
    "\n",
    "    df_in['per_unit_incoming'] = df_in['shipper_wholesale_price'] / df_in['shipped_quantity']\n",
    "    \n",
    "    # per unit price by package id\n",
    "    df_in_price = df_in[df_in['shipper_wholesale_price'].notnull()]\n",
    "    average_incoming_package_id = df_in_price.groupby('package_id')['per_unit_incoming'].mean()\n",
    "    df_avg_incoming_price = pd.Series(average_incoming_package_id).to_frame()\n",
    "    df_avg_incoming_price = df_avg_incoming_price.reset_index()\n",
    "    # per unit price by product name\n",
    "    average_incoming_product = df_in_price.groupby('product_name')['per_unit_incoming'].mean()\n",
    "    df_avg_product = pd.Series(average_incoming_product).to_frame()\n",
    "    df_avg_product = df_avg_product.reset_index()\n",
    "    df_avg_product.rename(columns={'per_unit_incoming':'per_unit_product'}, inplace=True)\n",
    "    # per unit price by product category name\n",
    "    average_incoming_product_category = df_in_price.groupby('product_category_name')['per_unit_incoming'].mean()\n",
    "    df_avg_product_cat = pd.Series(average_incoming_product_category).to_frame()\n",
    "    df_avg_product_cat = df_avg_product_cat.reset_index()\n",
    "    df_avg_product_cat.rename(columns={'per_unit_incoming':'per_unit_product_cat'}, inplace=True)\n",
    "    \n",
    "    # merge with (cogs by package id)\n",
    "    df_cogs_package_id = pd.merge(df_sales, df_avg_incoming_price, left_on='tx_package_id', right_on='package_id', how='left')\n",
    "    df_cogs_package_id['total_incoming'] = df_cogs_package_id['per_unit_incoming'] * df_cogs_package_id['tx_quantity_sold']\n",
    "    df_cogs_package_id.replace([numpy.inf], numpy.nan, inplace=True)\n",
    "    df_cogs_package_id_notnull = df_cogs_package_id[df_cogs_package_id['total_incoming'].notnull()]\n",
    "    # sum cogs by package id\n",
    "    s_cogs = df_cogs_package_id_notnull.groupby('date')['total_incoming'].sum()\n",
    "    df_cogs_id = pd.Series(s_cogs).to_frame()\n",
    "    df_cogs_id = df_cogs_id.reset_index()\n",
    "    # count # of trxns by package id\n",
    "    s_cogs_count = df_cogs_package_id_notnull.groupby('date')['total_incoming'].count()\n",
    "    df_cogs_count = pd.Series(s_cogs_count).to_frame()\n",
    "    df_cogs_count = df_cogs_count.reset_index()\n",
    "    df_cogs_count.rename(columns={'total_incoming':'count_incoming'}, inplace=True)\n",
    "    \n",
    "    # merge with (cogs by product name)\n",
    "    df_cogs_average_product = pd.merge(df_cogs_package_id, df_avg_product, left_on='tx_product_name', right_on='product_name', how='left')\n",
    "    df_cogs_average_product['total_product'] = df_cogs_average_product['tx_quantity_sold'] * df_cogs_average_product['per_unit_product']\n",
    "    # merge with (cogs by product category name)\n",
    "    df_cogs_average_product_cat = pd.merge(df_cogs_average_product, df_avg_product_cat, left_on='tx_product_category_name', right_on='product_category_name', how='left')\n",
    "    df_cogs_average_product_cat['total_product_cat'] = df_cogs_average_product_cat['tx_quantity_sold'] * df_cogs_average_product_cat['per_unit_product_cat']\n",
    "    df_cogs_null = df_cogs_average_product_cat[df_cogs_average_product_cat['per_unit_incoming'].isnull()]\n",
    "    df_cogs_product = df_cogs_null[(df_cogs_null['per_unit_product'].notnull())]\n",
    "    df_cogs_product_null = df_cogs_average_product_cat[(df_cogs_average_product_cat['per_unit_incoming'].isnull())&(df_cogs_average_product_cat['per_unit_product'].isnull())]\n",
    "    df_cogs_product_cat = df_cogs_product_null[df_cogs_product_null['per_unit_product_cat'].notnull()]\n",
    "    \n",
    "    # sum cogs filldown by product name\n",
    "    product_sum = df_cogs_product.groupby('date')['total_product'].sum()\n",
    "    df_product_sum = pd.Series(product_sum).to_frame()\n",
    "    df_product_sum = df_product_sum.reset_index()\n",
    "    df_product_sum.rename(columns={'total_product':'product_sum'}, inplace=True)\n",
    "    # count # of trxn filldown by product name\n",
    "    product_count = df_cogs_product.groupby('date')['total_product'].count()\n",
    "    df_product_count = pd.Series(product_count).to_frame()\n",
    "    df_product_count = df_product_count.reset_index()\n",
    "    df_product_count.rename(columns={'total_product':'product_count'}, inplace=True)\n",
    "    df_cogs_product_df = pd.merge(df_product_sum, df_product_count)\n",
    "    \n",
    "    # sum cogs filldown by product category name\n",
    "    product_cat_sum = df_cogs_product_cat.groupby('date')['total_product_cat'].sum()\n",
    "    df_product_cat_sum = pd.Series(product_cat_sum).to_frame()\n",
    "    df_product_cat_sum = df_product_cat_sum.reset_index()\n",
    "    df_product_cat_sum.rename(columns={'total_product_cat':'product_cat_sum'}, inplace=True)\n",
    "    # count # of trxn filldown by product category name\n",
    "    product_cat_count = df_cogs_product_cat.groupby('date')['total_product_cat'].count()\n",
    "    df_product_cat_count = pd.Series(product_cat_count).to_frame()\n",
    "    df_product_cat_count = df_product_cat_count.reset_index()\n",
    "    df_product_cat_count.rename(columns={'total_product_cat':'product_cat_count'}, inplace=True)\n",
    "    df_cogs_product_cat_df = pd.merge(df_product_cat_sum, df_product_cat_count)\n",
    "    \n",
    "    # prepare summary\n",
    "    df_summary = pd.merge(df_revenue, df_cogs_product_df, how='left')\n",
    "    df_summary = pd.merge(df_summary, df_cogs_product_cat_df, how='left')\n",
    "    df_summary = pd.merge(df_summary, df_cogs_id, how='left')\n",
    "    df_summary['product_sum'] = df_summary['product_sum'].fillna(0)\n",
    "    df_summary['product_count'] = df_summary['product_count'].fillna(0)\n",
    "    df_summary['product_cat_sum'] = df_summary['product_cat_sum'].fillna(0)\n",
    "    df_summary['product_cat_count'] = df_summary['product_cat_count'].fillna(0)\n",
    "    # total cogs = by product id cogs + by product name cogs + by product category name cogs\n",
    "    df_summary['cogs'] = df_summary['total_incoming'] + df_summary['product_sum'] + df_summary['product_cat_sum']\n",
    "    df_summary = pd.merge(df_summary, df_cogs_count)\n",
    "    df_summary = pd.merge(df_summary, df_total_count)\n",
    "    # total count = by package id count + by product count + by product category count\n",
    "    df_summary['total_count_incoming'] = df_summary['count_incoming'] + df_summary['product_count'] + df_summary['product_cat_count']\n",
    "    df_summary['margin_$'] = df_summary['revenue'] - df_summary['cogs']\n",
    "    df_summary['margin_%'] = df_summary['margin_$'] / df_summary['revenue']\n",
    "    df_summary['coverage'] = df_summary['total_count_incoming'] / df_summary['total_count']\n",
    "    df_summary_simp = df_summary[['date', 'revenue', 'cogs', 'margin_$', 'margin_%', 'total_count_incoming','product_count','product_cat_count','total_count','count_incoming', 'coverage']]\n",
    "    df_summary_simp.index = df_summary_simp.date\n",
    "    return df_summary_simp,df_cogs_average_product_cat\n",
    "\n",
    "\n"
   ]
  },
  {
   "cell_type": "code",
   "execution_count": null,
   "id": "3cb13278",
   "metadata": {},
   "outputs": [],
   "source": [
    "df_in = company_incoming_transfer_packages_dataframe\n",
    "df_out = company_outgoing_transfer_packages_dataframe\n",
    "df_inventory = company_inventory_packages_dataframe\n",
    "df_sales = deduped_sales_receipts_with_transactions_dataframe"
   ]
  },
  {
   "cell_type": "code",
   "execution_count": null,
   "id": "bef710d3",
   "metadata": {},
   "outputs": [],
   "source": [
    "df_summary_simp_cat_monthly,df_cogs_average_product_cat_monthly = cogs_analysis_fill_by_product_category(df_in,df_out,df_inventory,df_sales,'monthly')\n",
    "df_summary_simp_cat_weekly,df_cogs_average_product_cat_weekly = cogs_analysis_fill_by_product_category(df_in,df_out,df_inventory,df_sales,'weekly')\n",
    "\n",
    "\n"
   ]
  },
  {
   "cell_type": "code",
   "execution_count": null,
   "id": "ac67e617",
   "metadata": {},
   "outputs": [],
   "source": [
    "df_summary_simp_cat_monthly.tail()"
   ]
  },
  {
   "cell_type": "code",
   "execution_count": null,
   "id": "a9d7ab60",
   "metadata": {},
   "outputs": [],
   "source": [
    "df_summary_simp.tail()"
   ]
  },
  {
   "cell_type": "code",
   "execution_count": null,
   "id": "c5e0ae45",
   "metadata": {},
   "outputs": [],
   "source": [
    "#df_summary_simp_cat_monthly.to_csv('surveillance/'+COMPANY_IDENTIFIER[0]+'/COGS/' + COMPANY_IDENTIFIER[0] + '_'+ vc_end_date + '_' +license_number +'_cogs_pc_filldown.csv')\n",
    "\n"
   ]
  },
  {
   "cell_type": "markdown",
   "id": "8429bf53",
   "metadata": {},
   "source": [
    "# Inventory"
   ]
  },
  {
   "cell_type": "code",
   "execution_count": null,
   "id": "2092045c",
   "metadata": {},
   "outputs": [],
   "source": [
    "today = date.today()\n",
    "today"
   ]
  },
  {
   "cell_type": "code",
   "execution_count": null,
   "id": "690c0314",
   "metadata": {},
   "outputs": [],
   "source": [
    "COMPANY_IDENTIFIER"
   ]
  },
  {
   "cell_type": "code",
   "execution_count": null,
   "id": "fe493744",
   "metadata": {},
   "outputs": [],
   "source": [
    "license_numbers"
   ]
  },
  {
   "cell_type": "code",
   "execution_count": null,
   "id": "082b9dfc",
   "metadata": {},
   "outputs": [],
   "source": [
    "import numpy as np"
   ]
  },
  {
   "cell_type": "code",
   "execution_count": null,
   "id": "c49fd54d",
   "metadata": {},
   "outputs": [],
   "source": [
    "legal_name = df_in[df_in['license_number'].isin(license_numbers)]['recipient_facility_name'][0]\n",
    "legal_name"
   ]
  },
  {
   "cell_type": "code",
   "execution_count": null,
   "id": "27f6485d",
   "metadata": {},
   "outputs": [],
   "source": [
    "df_sales['per_unit'] = df_sales['tx_total_price'] / df_sales['tx_quantity_sold']\n",
    "df_sales['year_month'] = df_sales['sales_datetime'].dt.strftime(\"%Y-%m\")"
   ]
  },
  {
   "cell_type": "code",
   "execution_count": null,
   "id": "dbcc550d",
   "metadata": {},
   "outputs": [],
   "source": [
    "df_in['per_unit_incoming'] = df_in['shipper_wholesale_price'] / df_in['shipped_quantity']\n",
    "df_in_price = df_in[df_in['shipper_wholesale_price'].notnull()]"
   ]
  },
  {
   "cell_type": "code",
   "execution_count": null,
   "id": "05ef6cf3",
   "metadata": {},
   "outputs": [],
   "source": [
    "average_incoming_package_id = df_in_price.groupby('package_id')['per_unit_incoming'].mean()\n",
    "df_avg_incoming_price = pd.Series(average_incoming_package_id).to_frame()\n",
    "df_avg_incoming_price = df_avg_incoming_price.reset_index()"
   ]
  },
  {
   "cell_type": "code",
   "execution_count": null,
   "id": "d78d976e",
   "metadata": {},
   "outputs": [],
   "source": [
    "average_incoming_product = df_in_price.groupby('product_name')['per_unit_incoming'].mean()\n",
    "df_avg_product = pd.Series(average_incoming_product).to_frame()\n",
    "df_avg_product = df_avg_product.reset_index()\n",
    "df_avg_product.rename(columns={'per_unit_incoming':'per_unit_product'}, inplace=True)"
   ]
  },
  {
   "cell_type": "code",
   "execution_count": null,
   "id": "ade526ca",
   "metadata": {},
   "outputs": [],
   "source": [
    "df_inventory_incoming = pd.merge(df_inventory, df_avg_incoming_price, on='package_id', how='left')\n",
    "df_inventory_incoming.replace([np.inf], np.nan, inplace=True)\n",
    "df_inv_null = df_inventory_incoming[df_inventory_incoming['per_unit_incoming'].isnull()]\n",
    "df_inv_product = pd.merge(df_inv_null, df_avg_product, on='product_name', how='left')\n",
    "df_inv_product.replace([np.inf], np.nan, inplace=True)\n",
    "df_inv_product_price = df_inv_product[df_inv_product['per_unit_product'].notnull()]\n",
    "df_inv_product_price['total_price'] = df_inv_product_price['quantity'] * df_inv_product_price['per_unit_product']"
   ]
  },
  {
   "cell_type": "code",
   "execution_count": null,
   "id": "075a5d73",
   "metadata": {},
   "outputs": [],
   "source": [
    "inventory_product_value = df_inv_product_price['total_price'].sum()"
   ]
  },
  {
   "cell_type": "code",
   "execution_count": null,
   "id": "a947587e",
   "metadata": {},
   "outputs": [],
   "source": [
    "df_inventory_incoming['total_price'] = df_inventory_incoming['quantity'] * df_inventory_incoming['per_unit_incoming']\n",
    "inventory_value = df_inventory_incoming['total_price'].sum()\n",
    "total_inv_value = inventory_product_value + inventory_value\n",
    "inv_count_product = df_inv_product_price['per_unit_product'].count()\n",
    "inv_count_incoming = df_inventory_incoming['per_unit_incoming'].count()\n",
    "inv_count_total = df_inventory_incoming['quantity'].count()\n",
    "inv_total_incoming = inv_count_product + inv_count_incoming\n",
    "\n",
    "inventory_coverage = inv_total_incoming / inv_count_total\n",
    "print(f'{inventory_coverage:,.0%}')\n",
    "\n",
    "data = [[today], \n",
    "        [total_inv_value], \n",
    "        [inv_total_incoming], \n",
    "        [inv_count_total], \n",
    "        [inventory_coverage],\n",
    "        [license_numbers],\n",
    "        [legal_name]]\n",
    "\n",
    "df_inventory_license = pd.DataFrame(data).T\n",
    "df_inventory_license.columns = ['date','value','total_incoming','total','coverage','license','legal_name']\n",
    "df_inventory_license"
   ]
  },
  {
   "cell_type": "markdown",
   "id": "c7847fa2",
   "metadata": {},
   "source": [
    "# Create Template"
   ]
  },
  {
   "cell_type": "code",
   "execution_count": null,
   "id": "c3c2e4df",
   "metadata": {},
   "outputs": [],
   "source": [
    "current_month = '2022-01'"
   ]
  },
  {
   "cell_type": "code",
   "execution_count": null,
   "id": "bbb51e82",
   "metadata": {},
   "outputs": [],
   "source": [
    "metrc_cogs_coverage_current = df_summary_simp[df_summary_simp['coverage'] > 0]['coverage'].mean()\n",
    "metrc_cogs_coverage_current_reliable = metrc_cogs_coverage_current > 0.75\n",
    "print(metrc_cogs_coverage_current,metrc_cogs_coverage_current_reliable)"
   ]
  },
  {
   "cell_type": "code",
   "execution_count": null,
   "id": "b35c1a17",
   "metadata": {},
   "outputs": [],
   "source": [
    "metrc_inventory_coverage_current = df_inventory_license.coverage.values[0]\n",
    "metrc_inventory_coverage_current_reliable = metrc_inventory_coverage_current > 0.75\n",
    "print(metrc_inventory_coverage_current,metrc_inventory_coverage_current_reliable)"
   ]
  },
  {
   "cell_type": "code",
   "execution_count": null,
   "id": "9f41ae7a",
   "metadata": {},
   "outputs": [],
   "source": [
    "inventory_to_df = pd.DataFrame(df_summary_simp['sum_cogs_past_3months'] / df_inventory_license.value.values[0] * 4)\n",
    "inventory_to_df.columns = ['inventory_TO']\n",
    "inventory_to_df"
   ]
  },
  {
   "cell_type": "code",
   "execution_count": null,
   "id": "ca2da3d7",
   "metadata": {},
   "outputs": [],
   "source": [
    "inventory_to_current = inventory_to_df.loc[current_month]['inventory_TO']\n",
    "inventory_to_current_score = 0 if inventory_to_current < 6 else 10\n",
    "print(inventory_to_current,inventory_to_current_score)"
   ]
  },
  {
   "cell_type": "code",
   "execution_count": null,
   "id": "72eb7108",
   "metadata": {},
   "outputs": [],
   "source": [
    "vendor_churn_current = churn.loc[current_month]['%_inactive'].values[0]\n",
    "vendor_churn_current_score = 0 if vendor_churn_current > 0.45 else 10\n",
    "print(vendor_churn_current,vendor_churn_current_score)"
   ]
  },
  {
   "cell_type": "code",
   "execution_count": null,
   "id": "27444ccd",
   "metadata": {},
   "outputs": [],
   "source": [
    "# gm past 1,2,3 quarters\n",
    "gm_past_quarter = df_summary_simp.loc[current_month]['gm_past_quarter']\n",
    "gm_past_2quarters = df_summary_simp.loc[current_month]['gm_past_2quarters']\n",
    "gm_past_3quarters = df_summary_simp.loc[current_month]['gm_past_3quarters']\n",
    "# gm scores past 1,2,3 quarters\n",
    "gm_past_quarter_score = 5 if df_summary_simp.loc[current_month]['gm_past_quarter'] >= 0.5 else 0\n",
    "gm_past_2quarters_score = 10 if df_summary_simp.loc[current_month]['gm_past_2quarters'] >= 0.5 else 0\n",
    "gm_past_3quarters_score = 15 if df_summary_simp.loc[current_month]['gm_past_3quarters'] >= 0.5 else 0"
   ]
  },
  {
   "cell_type": "code",
   "execution_count": null,
   "id": "ab362915",
   "metadata": {},
   "outputs": [],
   "source": [
    "template_data = pd.DataFrame([['metrc cogs coverage',metrc_cogs_coverage_current],\n",
    "              ['metrc cogs coverage reliable ?',metrc_cogs_coverage_current_reliable],\n",
    "              ['metrc inventory coverage',metrc_inventory_coverage_current],\n",
    "              ['metrc inventory coverage reliable ?',metrc_inventory_coverage_current_reliable],\n",
    "              ['inventory turnover',inventory_to_current],\n",
    "              ['inventory turnover score',inventory_to_current_score],\n",
    "              ['GM past quarter',gm_past_quarter],\n",
    "              ['GM score past quarter',gm_past_quarter_score],\n",
    "              ['GM past 2 quarters',gm_past_2quarters],\n",
    "              ['GM score past 2 quarters',gm_past_2quarters_score],\n",
    "              ['GM past 3 quarters',gm_past_3quarters],\n",
    "              ['GM score past 3 quarters',gm_past_3quarters_score],\n",
    "              ['vendor churn',vendor_churn_current],\n",
    "              ['vendor churn score',vendor_churn_current_score]\n",
    "             ])"
   ]
  },
  {
   "cell_type": "code",
   "execution_count": null,
   "id": "b2f46360",
   "metadata": {},
   "outputs": [],
   "source": [
    "template_data"
   ]
  },
  {
   "cell_type": "markdown",
   "id": "58d4e961",
   "metadata": {},
   "source": [
    "# Output data "
   ]
  },
  {
   "cell_type": "code",
   "execution_count": null,
   "id": "26bfa65f",
   "metadata": {},
   "outputs": [],
   "source": [
    "\"\"\"\n",
    "\n",
    "# only for VS so far.. combined licenses\n",
    "\n",
    "template_data.to_csv('../analysis/surveillance/'+COMPANY_IDENTIFIER[0]+'/'+current_month + '/template/' + COMPANY_IDENTIFIER[0] + '_'+ str(today) + '_' +'_template.csv')\n",
    "df_inventory_license.to_csv('../analysis/surveillance/'+COMPANY_IDENTIFIER[0]+'/'+current_month +'/INV/' + COMPANY_IDENTIFIER[0] + '_'+ str(today) + '_' +'_inventory_val.csv')\n",
    "df_summary_simp.to_csv('surveillance/'+COMPANY_IDENTIFIER[0]+'/'+current_month +'/COGS/' + COMPANY_IDENTIFIER[0] + '_'+ vc_end_date + '_'  +'_cogs.csv')\n",
    "vc_matrix.to_csv('surveillance/'+COMPANY_IDENTIFIER[0]+'/'+current_month +'/VC/' + COMPANY_IDENTIFIER[0] + '_'+ vc_end_date + '_'  +'_vc_matrix.csv')\n",
    "churn.to_csv('surveillance/'+COMPANY_IDENTIFIER[0]+'/'+current_month +'/VC/' + COMPANY_IDENTIFIER[0] + '_'+ vc_end_date + '_'  +'_vc.csv')\n",
    "\n",
    "\n",
    "\n",
    "\"\"\""
   ]
  },
  {
   "cell_type": "code",
   "execution_count": null,
   "id": "15d0ce2e",
   "metadata": {},
   "outputs": [],
   "source": [
    "# for only 1 license\n",
    "license_number = license_numbers[0]\n",
    "template_data.to_csv('../analysis/surveillance/'+COMPANY_IDENTIFIER[0]+'/'+current_month + '/template/' + COMPANY_IDENTIFIER[0] + '_'+ str(today) + '_' +license_number +'_template.csv')\n",
    "df_inventory_license.to_csv('../analysis/surveillance/'+COMPANY_IDENTIFIER[0]+'/'+current_month +'/INV/' + COMPANY_IDENTIFIER[0] + '_'+ str(today) + '_' +license_number +'_inventory_val.csv')\n",
    "df_summary_simp.to_csv('surveillance/'+COMPANY_IDENTIFIER[0]+'/'+current_month +'/COGS/' + COMPANY_IDENTIFIER[0] + '_'+ vc_end_date + '_' +license_number +'_cogs.csv')\n",
    "vc_matrix.to_csv('surveillance/'+COMPANY_IDENTIFIER[0]+'/'+current_month +'/VC/' + COMPANY_IDENTIFIER[0] + '_'+ vc_end_date + '_' +license_number +'_vc_matrix.csv')\n",
    "churn.to_csv('surveillance/'+COMPANY_IDENTIFIER[0]+'/'+current_month +'/VC/' + COMPANY_IDENTIFIER[0] + '_'+ vc_end_date + '_' +license_number +'_vc.csv')\n",
    "\n",
    "\n"
   ]
  },
  {
   "cell_type": "markdown",
   "id": "8f49616a",
   "metadata": {},
   "source": [
    "# ~ THE END ~"
   ]
  }
 ],
 "metadata": {
  "kernelspec": {
   "display_name": "Python 3",
   "language": "python",
   "name": "python3"
  },
  "language_info": {
   "codemirror_mode": {
    "name": "ipython",
    "version": 3
   },
   "file_extension": ".py",
   "mimetype": "text/x-python",
   "name": "python",
   "nbconvert_exporter": "python",
   "pygments_lexer": "ipython3",
   "version": "3.8.10"
  }
 },
 "nbformat": 4,
 "nbformat_minor": 5
}
