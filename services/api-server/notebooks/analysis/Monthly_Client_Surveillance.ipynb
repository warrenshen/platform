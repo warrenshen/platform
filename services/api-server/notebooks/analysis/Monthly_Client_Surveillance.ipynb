{
 "cells": [
  {
   "cell_type": "code",
   "execution_count": 1,
   "id": "a1df46ef",
   "metadata": {},
   "outputs": [],
   "source": [
    "import warnings\n",
    "warnings.filterwarnings('ignore')"
   ]
  },
  {
   "cell_type": "code",
   "execution_count": 2,
   "id": "17064e54-fe0f-43e3-a00d-b2776aa5b753",
   "metadata": {},
   "outputs": [],
   "source": [
    "import json\n",
    "import numpy \n",
    "import os\n",
    "import pandas as pd\n",
    "import matplotlib.pyplot as plt\n",
    "%matplotlib inline  \n",
    "import pyarrow\n",
    "import sys\n",
    "\n",
    "from datetime import date\n",
    "from dotenv import load_dotenv\n",
    "from sqlalchemy import create_engine\n",
    "from os import path\n",
    "from typing import List,Dict, Tuple\n",
    "from collections import defaultdict\n",
    "pd.set_option(\"display.max_columns\", None)\n",
    "\n",
    "load_dotenv(verbose=True)\n",
    "BIGQUERY_CREDENTIALS_PATH = os.environ.get('BIGQUERY_CREDENTIALS_PATH')\n",
    "engine = create_engine('bigquery://bespoke-financial/ProdMetrcData', credentials_path=os.path.expanduser(BIGQUERY_CREDENTIALS_PATH))\n",
    "\n",
    "sys.path.append(path.realpath(path.join(os.getcwd(), \"../core\")))\n",
    "sys.path.append(path.realpath(path.join(os.getcwd(), \"../../src\")))\n",
    "\n",
    "import create_queries\n",
    "import prepare_data\n",
    "\n",
    "from bespoke.inventory.analysis.shared import download_util, inventory_types\n",
    "from bespoke.inventory.analysis import active_inventory_util as util\n",
    "from bespoke.inventory.analysis import inventory_valuations_util as valuations_util\n",
    "\n",
    "%load_ext autoreload\n",
    "%autoreload 2"
   ]
  },
  {
   "cell_type": "code",
   "execution_count": 3,
   "id": "0e3aa203",
   "metadata": {},
   "outputs": [],
   "source": [
    "# Define company name and date ranges"
   ]
  },
  {
   "cell_type": "code",
   "execution_count": 4,
   "id": "038c31ef-3af0-4b64-89b3-32c35769e7b2",
   "metadata": {},
   "outputs": [],
   "source": [
    "COMPANY_IDENTIFIER = ['EMA','EMM','EMT','EMF']\n",
    "TRANSFER_PACKAGES_START_DATE = '2020-01-01'\n",
    "SALES_TRANSACTIONS_START_DATE = '2020-01-01'"
   ]
  },
  {
   "cell_type": "code",
   "execution_count": 5,
   "id": "7892d4f2-ef44-45ff-aea9-681fc6c86b34",
   "metadata": {},
   "outputs": [],
   "source": [
    "#fetch download report and lisences\n",
    "company_licenses_query = create_queries.create_company_licenses_query(COMPANY_IDENTIFIER)\n",
    "company_download_summaries_query = create_queries.create_company_download_summaries_query(COMPANY_IDENTIFIER, TRANSFER_PACKAGES_START_DATE)\n",
    "\n",
    "company_licenses_dataframe = pd.read_sql_query(company_licenses_query, engine)\n",
    "company_download_summaries_dataframe = pd.read_sql_query(company_download_summaries_query, engine)"
   ]
  },
  {
   "cell_type": "code",
   "execution_count": 6,
   "id": "54fa9801",
   "metadata": {},
   "outputs": [
    {
     "data": {
      "text/html": [
       "<div>\n",
       "<style scoped>\n",
       "    .dataframe tbody tr th:only-of-type {\n",
       "        vertical-align: middle;\n",
       "    }\n",
       "\n",
       "    .dataframe tbody tr th {\n",
       "        vertical-align: top;\n",
       "    }\n",
       "\n",
       "    .dataframe thead th {\n",
       "        text-align: right;\n",
       "    }\n",
       "</style>\n",
       "<table border=\"1\" class=\"dataframe\">\n",
       "  <thead>\n",
       "    <tr style=\"text-align: right;\">\n",
       "      <th></th>\n",
       "      <th>us_state</th>\n",
       "      <th>license_number</th>\n",
       "      <th>license_category</th>\n",
       "      <th>legal_name</th>\n",
       "      <th>is_current</th>\n",
       "      <th>license_status</th>\n",
       "      <th>rollup_id</th>\n",
       "      <th>license_description</th>\n",
       "      <th>company_id</th>\n",
       "      <th>facility_row_id</th>\n",
       "    </tr>\n",
       "  </thead>\n",
       "  <tbody>\n",
       "    <tr>\n",
       "      <th>0</th>\n",
       "      <td>CA</td>\n",
       "      <td>C10-0000695-LIC</td>\n",
       "      <td>Retailer</td>\n",
       "      <td>EMBARC TAHOE LLC</td>\n",
       "      <td>True</td>\n",
       "      <td>Active</td>\n",
       "      <td>CA-04530</td>\n",
       "      <td>Retailer</td>\n",
       "      <td>465b4790-33c5-4228-adf3-5ee9f4edf62e</td>\n",
       "      <td>350aeac8-1a9b-4c7e-b62d-a439bcc4b7fb</td>\n",
       "    </tr>\n",
       "    <tr>\n",
       "      <th>1</th>\n",
       "      <td>CA</td>\n",
       "      <td>C10-0000774-LIC</td>\n",
       "      <td>Retailer</td>\n",
       "      <td>alameda patients group llc</td>\n",
       "      <td>True</td>\n",
       "      <td>Active</td>\n",
       "      <td>CA-05437</td>\n",
       "      <td>Retailer</td>\n",
       "      <td>bc8d06ac-e6a4-406a-afb7-c4c0d8481522</td>\n",
       "      <td>8e104bcf-e0f2-46bb-ac63-14482463074f</td>\n",
       "    </tr>\n",
       "    <tr>\n",
       "      <th>2</th>\n",
       "      <td>CA</td>\n",
       "      <td>C10-0000786-LIC</td>\n",
       "      <td>Retailer</td>\n",
       "      <td>Embarc Martinez LLC</td>\n",
       "      <td>True</td>\n",
       "      <td>Active</td>\n",
       "      <td>CA-04530</td>\n",
       "      <td>Retailer</td>\n",
       "      <td>e4947919-767e-4a36-828f-ec8c03469591</td>\n",
       "      <td>db4badd6-18b6-4cff-b4d6-62c4b5f4bf16</td>\n",
       "    </tr>\n",
       "    <tr>\n",
       "      <th>3</th>\n",
       "      <td>CA</td>\n",
       "      <td>C10-0000939-LIC</td>\n",
       "      <td>Retailer</td>\n",
       "      <td>Responsible And Compliant Retail Fairfield LLC</td>\n",
       "      <td>True</td>\n",
       "      <td>Active</td>\n",
       "      <td>CA-04530</td>\n",
       "      <td>Retailer</td>\n",
       "      <td>4633ceb1-7b64-48d1-93db-4b030bfb7c6a</td>\n",
       "      <td>4ee65532-edaa-412f-ae6e-e63a2682f9db</td>\n",
       "    </tr>\n",
       "  </tbody>\n",
       "</table>\n",
       "</div>"
      ],
      "text/plain": [
       "  us_state   license_number license_category  \\\n",
       "0       CA  C10-0000695-LIC         Retailer   \n",
       "1       CA  C10-0000774-LIC         Retailer   \n",
       "2       CA  C10-0000786-LIC         Retailer   \n",
       "3       CA  C10-0000939-LIC         Retailer   \n",
       "\n",
       "                                       legal_name  is_current license_status  \\\n",
       "0                                EMBARC TAHOE LLC        True         Active   \n",
       "1                      alameda patients group llc        True         Active   \n",
       "2                             Embarc Martinez LLC        True         Active   \n",
       "3  Responsible And Compliant Retail Fairfield LLC        True         Active   \n",
       "\n",
       "  rollup_id license_description                            company_id  \\\n",
       "0  CA-04530            Retailer  465b4790-33c5-4228-adf3-5ee9f4edf62e   \n",
       "1  CA-05437            Retailer  bc8d06ac-e6a4-406a-afb7-c4c0d8481522   \n",
       "2  CA-04530            Retailer  e4947919-767e-4a36-828f-ec8c03469591   \n",
       "3  CA-04530            Retailer  4633ceb1-7b64-48d1-93db-4b030bfb7c6a   \n",
       "\n",
       "                        facility_row_id  \n",
       "0  350aeac8-1a9b-4c7e-b62d-a439bcc4b7fb  \n",
       "1  8e104bcf-e0f2-46bb-ac63-14482463074f  \n",
       "2  db4badd6-18b6-4cff-b4d6-62c4b5f4bf16  \n",
       "3  4ee65532-edaa-412f-ae6e-e63a2682f9db  "
      ]
     },
     "execution_count": 6,
     "metadata": {},
     "output_type": "execute_result"
    }
   ],
   "source": [
    "company_licenses_dataframe"
   ]
  },
  {
   "cell_type": "markdown",
   "id": "5ddb460b",
   "metadata": {},
   "source": [
    "## Check download status summaries"
   ]
  },
  {
   "cell_type": "code",
   "execution_count": 7,
   "id": "cec4010a",
   "metadata": {},
   "outputs": [],
   "source": [
    "license_numbers = company_download_summaries_dataframe['license_number'].unique()\n",
    "download_summary_records = company_download_summaries_dataframe.to_dict('records')"
   ]
  },
  {
   "cell_type": "code",
   "execution_count": 8,
   "id": "2d720e85",
   "metadata": {},
   "outputs": [
    {
     "data": {
      "text/plain": [
       "array(['C10-0000695-LIC', 'C10-0000939-LIC', 'C10-0000774-LIC',\n",
       "       'C10-0000786-LIC'], dtype=object)"
      ]
     },
     "execution_count": 8,
     "metadata": {},
     "output_type": "execute_result"
    }
   ],
   "source": [
    "license_numbers"
   ]
  },
  {
   "cell_type": "code",
   "execution_count": 9,
   "id": "773e238b",
   "metadata": {},
   "outputs": [],
   "source": [
    "def check_company_license_download(license_numbers: List[str],download_summary_records: List[Dict[str,str]]) -> Dict[str,str]:\n",
    "    license_number_to_download_summary_records = {}\n",
    "\n",
    "    for license_number in license_numbers:\n",
    "        license_number_to_download_summary_records[license_number] = list(filter(\n",
    "            lambda download_summary_record: download_summary_record['license_number'] == license_number,\n",
    "            download_summary_records\n",
    "        ))\n",
    "\n",
    "    bad_count = 0\n",
    "    bad_history = defaultdict(list)\n",
    "    for license_number, download_summary_records in license_number_to_download_summary_records.items():\n",
    "        print(f'Verifying download summaries for license {license_number}...')\n",
    "        print(f'Earliest download summary: {download_summary_records[-1][\"date\"]}')\n",
    "        print(f'Latest download summary: {download_summary_records[0][\"date\"]}')\n",
    "        for download_summary_record in download_summary_records:\n",
    "            if download_summary_record['status'] != 'completed':\n",
    "                bad_count += 1\n",
    "                print(f'Found bad download summary for license {license_number} on date {download_summary_record[\"date\"]}') \n",
    "                bad_history[license_number].append(download_summary_record['date'])            \n",
    "        \n",
    "        print('')\n",
    "    if bad_count > 0:\n",
    "        print(f'[FAILURE] Found a total of {bad_count} bad download summaries')\n",
    "    else:\n",
    "        print(f'[SUCCESS] All download summaries look good!')\n",
    "    return bad_history\n",
    "\n"
   ]
  },
  {
   "cell_type": "code",
   "execution_count": 10,
   "id": "cc634d6a",
   "metadata": {
    "scrolled": true
   },
   "outputs": [
    {
     "name": "stdout",
     "output_type": "stream",
     "text": [
      "Verifying download summaries for license C10-0000695-LIC...\n",
      "Earliest download summary: 2021-10-12\n",
      "Latest download summary: 2022-05-04\n",
      "\n",
      "Verifying download summaries for license C10-0000939-LIC...\n",
      "Earliest download summary: 2021-10-01\n",
      "Latest download summary: 2022-05-04\n",
      "\n",
      "Verifying download summaries for license C10-0000774-LIC...\n",
      "Earliest download summary: 2021-10-12\n",
      "Latest download summary: 2022-05-03\n",
      "\n",
      "Verifying download summaries for license C10-0000786-LIC...\n",
      "Earliest download summary: 2021-10-12\n",
      "Latest download summary: 2022-05-03\n",
      "Found bad download summary for license C10-0000786-LIC on date 2022-03-11\n",
      "Found bad download summary for license C10-0000786-LIC on date 2022-03-10\n",
      "Found bad download summary for license C10-0000786-LIC on date 2022-03-09\n",
      "\n",
      "[FAILURE] Found a total of 3 bad download summaries\n"
     ]
    }
   ],
   "source": [
    "bad_download_history = check_company_license_download(license_numbers,download_summary_records)"
   ]
  },
  {
   "cell_type": "code",
   "execution_count": 11,
   "id": "931a4474",
   "metadata": {},
   "outputs": [
    {
     "data": {
      "text/plain": [
       "defaultdict(list,\n",
       "            {'C10-0000786-LIC': [datetime.date(2022, 3, 11),\n",
       "              datetime.date(2022, 3, 10),\n",
       "              datetime.date(2022, 3, 9)]})"
      ]
     },
     "execution_count": 11,
     "metadata": {},
     "output_type": "execute_result"
    }
   ],
   "source": [
    "bad_download_history"
   ]
  },
  {
   "cell_type": "markdown",
   "id": "5edcc0c3",
   "metadata": {},
   "source": [
    "## Choose license numbers"
   ]
  },
  {
   "cell_type": "code",
   "execution_count": 12,
   "id": "1eb753d1",
   "metadata": {},
   "outputs": [
    {
     "data": {
      "text/plain": [
       "['C10-0000695-LIC', 'C10-0000774-LIC', 'C10-0000786-LIC', 'C10-0000939-LIC']"
      ]
     },
     "execution_count": 12,
     "metadata": {},
     "output_type": "execute_result"
    }
   ],
   "source": [
    "# get list of retailer license numbers\n",
    "license_numbers = list(company_licenses_dataframe[company_licenses_dataframe['license_category'].isin(['Retailer', 'Multiple'])]['license_number'].unique())\n",
    "license_numbers"
   ]
  },
  {
   "cell_type": "code",
   "execution_count": 13,
   "id": "f02492a0",
   "metadata": {},
   "outputs": [],
   "source": [
    "#license_numbers = ['C10-0000670-LIC']"
   ]
  },
  {
   "cell_type": "code",
   "execution_count": 14,
   "id": "7db6cf1b",
   "metadata": {},
   "outputs": [],
   "source": [
    "# run this if only has 1 license, or only want 1 license CSC\n",
    "#license_numbers = [license_numbers[0]]\n",
    "#license_numbers"
   ]
  },
  {
   "cell_type": "markdown",
   "id": "aee3310e",
   "metadata": {},
   "source": [
    "# License check"
   ]
  },
  {
   "cell_type": "code",
   "execution_count": 15,
   "id": "1baaa63a",
   "metadata": {},
   "outputs": [
    {
     "data": {
      "text/html": [
       "<div>\n",
       "<style scoped>\n",
       "    .dataframe tbody tr th:only-of-type {\n",
       "        vertical-align: middle;\n",
       "    }\n",
       "\n",
       "    .dataframe tbody tr th {\n",
       "        vertical-align: top;\n",
       "    }\n",
       "\n",
       "    .dataframe thead th {\n",
       "        text-align: right;\n",
       "    }\n",
       "</style>\n",
       "<table border=\"1\" class=\"dataframe\">\n",
       "  <thead>\n",
       "    <tr style=\"text-align: right;\">\n",
       "      <th></th>\n",
       "      <th>us_state</th>\n",
       "      <th>license_number</th>\n",
       "      <th>license_category</th>\n",
       "      <th>legal_name</th>\n",
       "      <th>is_current</th>\n",
       "      <th>license_status</th>\n",
       "      <th>rollup_id</th>\n",
       "      <th>license_description</th>\n",
       "      <th>company_id</th>\n",
       "      <th>facility_row_id</th>\n",
       "    </tr>\n",
       "  </thead>\n",
       "  <tbody>\n",
       "    <tr>\n",
       "      <th>0</th>\n",
       "      <td>CA</td>\n",
       "      <td>C10-0000695-LIC</td>\n",
       "      <td>Retailer</td>\n",
       "      <td>EMBARC TAHOE LLC</td>\n",
       "      <td>True</td>\n",
       "      <td>Active</td>\n",
       "      <td>CA-04530</td>\n",
       "      <td>Retailer</td>\n",
       "      <td>465b4790-33c5-4228-adf3-5ee9f4edf62e</td>\n",
       "      <td>350aeac8-1a9b-4c7e-b62d-a439bcc4b7fb</td>\n",
       "    </tr>\n",
       "    <tr>\n",
       "      <th>1</th>\n",
       "      <td>CA</td>\n",
       "      <td>C10-0000774-LIC</td>\n",
       "      <td>Retailer</td>\n",
       "      <td>alameda patients group llc</td>\n",
       "      <td>True</td>\n",
       "      <td>Active</td>\n",
       "      <td>CA-05437</td>\n",
       "      <td>Retailer</td>\n",
       "      <td>bc8d06ac-e6a4-406a-afb7-c4c0d8481522</td>\n",
       "      <td>8e104bcf-e0f2-46bb-ac63-14482463074f</td>\n",
       "    </tr>\n",
       "    <tr>\n",
       "      <th>2</th>\n",
       "      <td>CA</td>\n",
       "      <td>C10-0000786-LIC</td>\n",
       "      <td>Retailer</td>\n",
       "      <td>Embarc Martinez LLC</td>\n",
       "      <td>True</td>\n",
       "      <td>Active</td>\n",
       "      <td>CA-04530</td>\n",
       "      <td>Retailer</td>\n",
       "      <td>e4947919-767e-4a36-828f-ec8c03469591</td>\n",
       "      <td>db4badd6-18b6-4cff-b4d6-62c4b5f4bf16</td>\n",
       "    </tr>\n",
       "    <tr>\n",
       "      <th>3</th>\n",
       "      <td>CA</td>\n",
       "      <td>C10-0000939-LIC</td>\n",
       "      <td>Retailer</td>\n",
       "      <td>Responsible And Compliant Retail Fairfield LLC</td>\n",
       "      <td>True</td>\n",
       "      <td>Active</td>\n",
       "      <td>CA-04530</td>\n",
       "      <td>Retailer</td>\n",
       "      <td>4633ceb1-7b64-48d1-93db-4b030bfb7c6a</td>\n",
       "      <td>4ee65532-edaa-412f-ae6e-e63a2682f9db</td>\n",
       "    </tr>\n",
       "  </tbody>\n",
       "</table>\n",
       "</div>"
      ],
      "text/plain": [
       "  us_state   license_number license_category  \\\n",
       "0       CA  C10-0000695-LIC         Retailer   \n",
       "1       CA  C10-0000774-LIC         Retailer   \n",
       "2       CA  C10-0000786-LIC         Retailer   \n",
       "3       CA  C10-0000939-LIC         Retailer   \n",
       "\n",
       "                                       legal_name  is_current license_status  \\\n",
       "0                                EMBARC TAHOE LLC        True         Active   \n",
       "1                      alameda patients group llc        True         Active   \n",
       "2                             Embarc Martinez LLC        True         Active   \n",
       "3  Responsible And Compliant Retail Fairfield LLC        True         Active   \n",
       "\n",
       "  rollup_id license_description                            company_id  \\\n",
       "0  CA-04530            Retailer  465b4790-33c5-4228-adf3-5ee9f4edf62e   \n",
       "1  CA-05437            Retailer  bc8d06ac-e6a4-406a-afb7-c4c0d8481522   \n",
       "2  CA-04530            Retailer  e4947919-767e-4a36-828f-ec8c03469591   \n",
       "3  CA-04530            Retailer  4633ceb1-7b64-48d1-93db-4b030bfb7c6a   \n",
       "\n",
       "                        facility_row_id  \n",
       "0  350aeac8-1a9b-4c7e-b62d-a439bcc4b7fb  \n",
       "1  8e104bcf-e0f2-46bb-ac63-14482463074f  \n",
       "2  db4badd6-18b6-4cff-b4d6-62c4b5f4bf16  \n",
       "3  4ee65532-edaa-412f-ae6e-e63a2682f9db  "
      ]
     },
     "execution_count": 15,
     "metadata": {},
     "output_type": "execute_result"
    }
   ],
   "source": [
    "company_licenses_dataframe"
   ]
  },
  {
   "cell_type": "code",
   "execution_count": 16,
   "id": "f09f402a",
   "metadata": {},
   "outputs": [
    {
     "data": {
      "text/plain": [
       "'CA'"
      ]
     },
     "execution_count": 16,
     "metadata": {},
     "output_type": "execute_result"
    }
   ],
   "source": [
    "company_state = list(company_licenses_dataframe['us_state'].unique())[0]\n",
    "company_state"
   ]
  },
  {
   "cell_type": "code",
   "execution_count": 17,
   "id": "d853cfe6",
   "metadata": {},
   "outputs": [],
   "source": [
    "retial_license_check_df = company_licenses_dataframe[company_licenses_dataframe['license_number'].isin(license_numbers)][['license_number','license_category','is_current','license_status','us_state']].reset_index(drop = True)\n",
    "retial_license_check_df['license_check'] = ['YES' if retial_license_check_df['license_status'][i] == 'Active' or str(retial_license_check_df['is_current'][i]) == 'True' else 'NO' for i in range(len(retial_license_check_df))]\n"
   ]
  },
  {
   "cell_type": "code",
   "execution_count": 18,
   "id": "3f3595db",
   "metadata": {},
   "outputs": [
    {
     "data": {
      "text/html": [
       "<div>\n",
       "<style scoped>\n",
       "    .dataframe tbody tr th:only-of-type {\n",
       "        vertical-align: middle;\n",
       "    }\n",
       "\n",
       "    .dataframe tbody tr th {\n",
       "        vertical-align: top;\n",
       "    }\n",
       "\n",
       "    .dataframe thead th {\n",
       "        text-align: right;\n",
       "    }\n",
       "</style>\n",
       "<table border=\"1\" class=\"dataframe\">\n",
       "  <thead>\n",
       "    <tr style=\"text-align: right;\">\n",
       "      <th></th>\n",
       "      <th>license_number</th>\n",
       "      <th>license_category</th>\n",
       "      <th>is_current</th>\n",
       "      <th>license_status</th>\n",
       "      <th>us_state</th>\n",
       "      <th>license_check</th>\n",
       "    </tr>\n",
       "  </thead>\n",
       "  <tbody>\n",
       "    <tr>\n",
       "      <th>0</th>\n",
       "      <td>C10-0000695-LIC</td>\n",
       "      <td>Retailer</td>\n",
       "      <td>True</td>\n",
       "      <td>Active</td>\n",
       "      <td>CA</td>\n",
       "      <td>YES</td>\n",
       "    </tr>\n",
       "    <tr>\n",
       "      <th>1</th>\n",
       "      <td>C10-0000774-LIC</td>\n",
       "      <td>Retailer</td>\n",
       "      <td>True</td>\n",
       "      <td>Active</td>\n",
       "      <td>CA</td>\n",
       "      <td>YES</td>\n",
       "    </tr>\n",
       "    <tr>\n",
       "      <th>2</th>\n",
       "      <td>C10-0000786-LIC</td>\n",
       "      <td>Retailer</td>\n",
       "      <td>True</td>\n",
       "      <td>Active</td>\n",
       "      <td>CA</td>\n",
       "      <td>YES</td>\n",
       "    </tr>\n",
       "    <tr>\n",
       "      <th>3</th>\n",
       "      <td>C10-0000939-LIC</td>\n",
       "      <td>Retailer</td>\n",
       "      <td>True</td>\n",
       "      <td>Active</td>\n",
       "      <td>CA</td>\n",
       "      <td>YES</td>\n",
       "    </tr>\n",
       "  </tbody>\n",
       "</table>\n",
       "</div>"
      ],
      "text/plain": [
       "    license_number license_category  is_current license_status us_state  \\\n",
       "0  C10-0000695-LIC         Retailer        True         Active       CA   \n",
       "1  C10-0000774-LIC         Retailer        True         Active       CA   \n",
       "2  C10-0000786-LIC         Retailer        True         Active       CA   \n",
       "3  C10-0000939-LIC         Retailer        True         Active       CA   \n",
       "\n",
       "  license_check  \n",
       "0           YES  \n",
       "1           YES  \n",
       "2           YES  \n",
       "3           YES  "
      ]
     },
     "execution_count": 18,
     "metadata": {},
     "output_type": "execute_result"
    }
   ],
   "source": [
    "retial_license_check_df"
   ]
  },
  {
   "cell_type": "markdown",
   "id": "8e35183a",
   "metadata": {},
   "source": [
    "## Pull data"
   ]
  },
  {
   "cell_type": "code",
   "execution_count": 19,
   "id": "61cc4333-fcbf-4d35-ad5f-09cfb5b17486",
   "metadata": {},
   "outputs": [],
   "source": [
    "company_incoming_transfer_packages_query = create_queries.create_company_incoming_transfer_packages_query(\n",
    "    COMPANY_IDENTIFIER,\n",
    "    TRANSFER_PACKAGES_START_DATE,\n",
    "    license_numbers=license_numbers,\n",
    ")\n",
    "company_outgoing_transfer_packages_query = create_queries.create_company_outgoing_transfer_packages_query(\n",
    "    COMPANY_IDENTIFIER,\n",
    "    TRANSFER_PACKAGES_START_DATE,\n",
    "    license_numbers=license_numbers,\n",
    ")\n",
    "company_unknown_transfer_packages_query = create_queries.create_company_unknown_transfer_packages_query(\n",
    "    COMPANY_IDENTIFIER,\n",
    "    TRANSFER_PACKAGES_START_DATE,\n",
    "#     license_numbers=license_numbers,\n",
    ")\n",
    "company_sales_transactions_query = create_queries.create_company_sales_transactions_query(\n",
    "    COMPANY_IDENTIFIER,\n",
    "    SALES_TRANSACTIONS_START_DATE,\n",
    "    license_numbers=license_numbers,\n",
    ")\n",
    "company_sales_receipts_query = create_queries.create_company_sales_receipts_query(\n",
    "    COMPANY_IDENTIFIER,\n",
    "    SALES_TRANSACTIONS_START_DATE,\n",
    "    license_numbers=license_numbers,\n",
    ")\n",
    "company_sales_receipts_with_transactions_query = create_queries.create_company_sales_receipts_with_transactions_query(\n",
    "    COMPANY_IDENTIFIER,\n",
    "    SALES_TRANSACTIONS_START_DATE,\n",
    "    license_numbers=license_numbers,\n",
    ")\n",
    "company_inventory_packages_query = create_queries.create_company_inventory_packages_query(\n",
    "    COMPANY_IDENTIFIER,\n",
    "    include_quantity_zero=True,\n",
    "    license_numbers=license_numbers,\n",
    ")\n",
    "\n",
    "company_incoming_transfer_packages_dataframe = pd.read_sql_query(company_incoming_transfer_packages_query, engine)\n",
    "company_outgoing_transfer_packages_dataframe = pd.read_sql_query(company_outgoing_transfer_packages_query, engine)\n",
    "company_unknown_transfer_packages_dataframe = pd.read_sql_query(company_unknown_transfer_packages_query, engine)\n",
    "company_sales_transactions_dataframe = pd.read_sql_query(company_sales_transactions_query, engine)\n",
    "company_sales_receipts_dataframe = pd.read_sql_query(company_sales_receipts_query, engine)\n",
    "company_sales_receipts_with_transactions_dataframe = pd.read_sql_query(company_sales_receipts_with_transactions_query, engine)\n",
    "company_inventory_packages_dataframe = pd.read_sql_query(company_inventory_packages_query, engine)"
   ]
  },
  {
   "cell_type": "code",
   "execution_count": 20,
   "id": "72800636",
   "metadata": {},
   "outputs": [
    {
     "data": {
      "text/plain": [
       "array(['C10-0000774-LIC', 'C10-0000786-LIC', 'C10-0000695-LIC',\n",
       "       'C10-0000939-LIC'], dtype=object)"
      ]
     },
     "execution_count": 20,
     "metadata": {},
     "output_type": "execute_result"
    }
   ],
   "source": [
    "#make sure we did pulled all location's data\n",
    "company_incoming_transfer_packages_dataframe['license_number'].unique()"
   ]
  },
  {
   "cell_type": "code",
   "execution_count": 21,
   "id": "f2e41170",
   "metadata": {},
   "outputs": [
    {
     "data": {
      "text/plain": [
       "array(['C10-0000695-LIC', 'C10-0000786-LIC', 'C10-0000939-LIC',\n",
       "       'C10-0000774-LIC'], dtype=object)"
      ]
     },
     "execution_count": 21,
     "metadata": {},
     "output_type": "execute_result"
    }
   ],
   "source": [
    "company_sales_receipts_with_transactions_dataframe['license_number'].unique()"
   ]
  },
  {
   "cell_type": "code",
   "execution_count": 22,
   "id": "31da29cf",
   "metadata": {},
   "outputs": [
    {
     "data": {
      "text/plain": [
       "array(['C10-0000774-LIC', 'C10-0000786-LIC', 'C10-0000695-LIC',\n",
       "       'C10-0000939-LIC'], dtype=object)"
      ]
     },
     "execution_count": 22,
     "metadata": {},
     "output_type": "execute_result"
    }
   ],
   "source": [
    "company_inventory_packages_dataframe['license_number'].unique()"
   ]
  },
  {
   "cell_type": "markdown",
   "id": "22f31807",
   "metadata": {},
   "source": [
    "## Unknown transfer packages"
   ]
  },
  {
   "cell_type": "code",
   "execution_count": 23,
   "id": "aef77c6f",
   "metadata": {},
   "outputs": [],
   "source": [
    "def check_unknown_transfer_packages(unknown_transfer_df: pd.DataFrame) -> int:\n",
    "    unknown_package_count = unknown_transfer_df.shape[0]\n",
    "    if unknown_package_count > 0:\n",
    "        print(f'[FAILURE] Found a total of {unknown_package_count} unknown transfer packages')\n",
    "    else:\n",
    "        print(f'[SUCCESS] No unknown transfer packages!')\n",
    "    return unknown_package_count"
   ]
  },
  {
   "cell_type": "code",
   "execution_count": 24,
   "id": "f3a6daad",
   "metadata": {},
   "outputs": [
    {
     "name": "stdout",
     "output_type": "stream",
     "text": [
      "[FAILURE] Found a total of 42 unknown transfer packages\n"
     ]
    },
    {
     "data": {
      "text/plain": [
       "42"
      ]
     },
     "execution_count": 24,
     "metadata": {},
     "output_type": "execute_result"
    }
   ],
   "source": [
    "unknown_package_count = check_unknown_transfer_packages(company_unknown_transfer_packages_dataframe)\n",
    "unknown_package_count"
   ]
  },
  {
   "cell_type": "markdown",
   "id": "e045f647",
   "metadata": {},
   "source": [
    "## Receiver wholesale price coverage"
   ]
  },
  {
   "cell_type": "code",
   "execution_count": 25,
   "id": "623f7f7e",
   "metadata": {},
   "outputs": [],
   "source": [
    "def check_receiver_wholesale_price_coverage(incoming_transfer_df: pd.DataFrame) -> float:\n",
    "    rwp_exists_count = incoming_transfer_df[incoming_transfer_df['receiver_wholesale_price'].notnull()].shape[0]\n",
    "    total_count = incoming_transfer_df.shape[0]\n",
    "    rwp_coverage = round(rwp_exists_count / total_count, 2) * 100\n",
    "    print(f'{rwp_coverage}% of incoming transfer packages have receiver wholesale price')\n",
    "    return rwp_coverage"
   ]
  },
  {
   "cell_type": "code",
   "execution_count": 26,
   "id": "fc28651c",
   "metadata": {},
   "outputs": [
    {
     "data": {
      "text/plain": [
       "(24901, 32)"
      ]
     },
     "execution_count": 26,
     "metadata": {},
     "output_type": "execute_result"
    }
   ],
   "source": [
    "company_incoming_transfer_packages_dataframe[company_incoming_transfer_packages_dataframe['receiver_wholesale_price'].notnull()].shape"
   ]
  },
  {
   "cell_type": "code",
   "execution_count": 27,
   "id": "09992a21",
   "metadata": {},
   "outputs": [
    {
     "data": {
      "text/plain": [
       "(25778, 32)"
      ]
     },
     "execution_count": 27,
     "metadata": {},
     "output_type": "execute_result"
    }
   ],
   "source": [
    "company_incoming_transfer_packages_dataframe.shape"
   ]
  },
  {
   "cell_type": "code",
   "execution_count": 28,
   "id": "44df31d7",
   "metadata": {},
   "outputs": [
    {
     "name": "stdout",
     "output_type": "stream",
     "text": [
      "97.0% of incoming transfer packages have receiver wholesale price\n"
     ]
    }
   ],
   "source": [
    "rwp_coverage = check_receiver_wholesale_price_coverage(company_incoming_transfer_packages_dataframe)\n"
   ]
  },
  {
   "cell_type": "markdown",
   "id": "e632a6c8",
   "metadata": {},
   "source": [
    "## dedupe sales transactions"
   ]
  },
  {
   "cell_type": "code",
   "execution_count": 29,
   "id": "54e232ef-5871-401c-9716-254f6242d138",
   "metadata": {},
   "outputs": [],
   "source": [
    "deduped_sales_receipts_with_transactions_dataframe = prepare_data.dedupe_sales_transactions(company_sales_receipts_with_transactions_dataframe)"
   ]
  },
  {
   "cell_type": "code",
   "execution_count": 30,
   "id": "3aa67466",
   "metadata": {},
   "outputs": [],
   "source": [
    "deduped_sales_receipts_with_transactions_dataframe['sales_month'] = deduped_sales_receipts_with_transactions_dataframe['sales_datetime'].dt.strftime('%Y-%m')"
   ]
  },
  {
   "cell_type": "code",
   "execution_count": 31,
   "id": "7a8bf4d7",
   "metadata": {},
   "outputs": [
    {
     "data": {
      "text/plain": [
       "array(['C10-0000695-LIC', 'C10-0000786-LIC', 'C10-0000939-LIC',\n",
       "       'C10-0000774-LIC'], dtype=object)"
      ]
     },
     "execution_count": 31,
     "metadata": {},
     "output_type": "execute_result"
    }
   ],
   "source": [
    "#check we have all locations\n",
    "deduped_sales_receipts_with_transactions_dataframe['license_number'].unique()"
   ]
  },
  {
   "cell_type": "markdown",
   "id": "b02839ed",
   "metadata": {},
   "source": [
    "## Trxns missing incoming transfer packages"
   ]
  },
  {
   "cell_type": "code",
   "execution_count": 32,
   "id": "c3a98c0f",
   "metadata": {},
   "outputs": [],
   "source": [
    "def check_incoming_transfer_package_coverage(incoming_transfer_df: pd.DataFrame,sales_df: pd.DataFrame) -> Tuple[List,pd.DataFrame]:\n",
    "    package_transfer_sales_merged = pd.merge(sales_df,incoming_transfer_df,left_on='tx_package_id', right_on='package_id', how='left')\n",
    "    package_transfer_sales_merged_missed = package_transfer_sales_merged[package_transfer_sales_merged['package_id'].isnull()]\n",
    "    count_trxn_missed = package_transfer_sales_merged_missed.shape[0]\n",
    "    count_total_trxn = sales_df.shape[0]\n",
    "    missed_ratio = count_trxn_missed/ count_total_trxn\n",
    "    print(f'# transactions missing incoming transfer package: {count_trxn_missed} ({count_trxn_missed / count_total_trxn * 100}%)')\n",
    "    print(f'# transactions total: {count_total_trxn}')\n",
    "    return missed_ratio,package_transfer_sales_merged_missed"
   ]
  },
  {
   "cell_type": "code",
   "execution_count": 33,
   "id": "cd0b5a90",
   "metadata": {},
   "outputs": [
    {
     "name": "stdout",
     "output_type": "stream",
     "text": [
      "# transactions missing incoming transfer package: 828 (0.15234086083625564%)\n",
      "# transactions total: 543518\n"
     ]
    }
   ],
   "source": [
    "incoming_transfer_package_coverage,incoming_transfer_package_coverage_missing = check_incoming_transfer_package_coverage(company_incoming_transfer_packages_dataframe,deduped_sales_receipts_with_transactions_dataframe)"
   ]
  },
  {
   "cell_type": "code",
   "execution_count": 34,
   "id": "6be6dd2a",
   "metadata": {},
   "outputs": [
    {
     "data": {
      "text/plain": [
       "sales_month\n",
       "2022-04    610\n",
       "2022-05     89\n",
       "dtype: int64"
      ]
     },
     "execution_count": 34,
     "metadata": {},
     "output_type": "execute_result"
    }
   ],
   "source": [
    "month_to_missing_count = incoming_transfer_package_coverage_missing[['sales_month','receipt_number']].groupby(['sales_month']).apply(lambda x: len(x['receipt_number'].unique()))\n",
    "month_to_missing_count\n"
   ]
  },
  {
   "cell_type": "markdown",
   "id": "0da2e8ce-e643-4fee-aca6-cd61b3becc21",
   "metadata": {},
   "source": [
    "## Receipts missing metrc_sales_transactions"
   ]
  },
  {
   "cell_type": "code",
   "execution_count": 35,
   "id": "cbc30296-afa8-42f8-a16b-72fe045395c6",
   "metadata": {},
   "outputs": [],
   "source": [
    "sales_receipt_with_transactions_records = deduped_sales_receipts_with_transactions_dataframe.to_dict('records')\n",
    "\n",
    "receipt_number_to_transactions = {}\n",
    "for sales_receipt_with_transaction_record in sales_receipt_with_transactions_records:\n",
    "    receipt_number = sales_receipt_with_transaction_record['receipt_number']\n",
    "    if receipt_number in receipt_number_to_transactions:\n",
    "        receipt_number_to_transactions[receipt_number] += [sales_receipt_with_transaction_record]\n",
    "    else:\n",
    "        receipt_number_to_transactions[receipt_number] = [sales_receipt_with_transaction_record]"
   ]
  },
  {
   "cell_type": "code",
   "execution_count": 36,
   "id": "c8f876a8-09ef-4582-9ed9-958d3e97b4a5",
   "metadata": {},
   "outputs": [
    {
     "name": "stdout",
     "output_type": "stream",
     "text": [
      "# receipts with mismatching transactions: 0 (0.0%)\n",
      "# receipts missing transactions: 0 (0.0%)\n",
      "# receipts total: 252798\n"
     ]
    }
   ],
   "source": [
    "import math\n",
    "\n",
    "def float_eq(receipt_total_price: float, transactions_total_price: float, num_transactions: int) -> bool:\n",
    "    # For every additional transaction, increase threshold by 0.01 (a penny).\n",
    "    threshold = num_transactions * 0.01\n",
    "    return math.isclose(receipt_total_price, transactions_total_price, abs_tol=threshold)\n",
    "\n",
    "mismatch_count = 0 # Count of receipts where receipt total price does not match transactions total price.\n",
    "missing_count = 0 # Count of receipts with no transactions.\n",
    "total_count = 0 # Count of receipts (including those missing transactions).\n",
    "\n",
    "mismatch_over_count = 0\n",
    "mismatch_under_count = 0\n",
    "\n",
    "month_to_mismatch_count = {}\n",
    "month_to_missing_count = {}\n",
    "\n",
    "month_to_mismatch_over_count = {}\n",
    "month_to_mismatch_under_count = {}\n",
    "\n",
    "example_mismatch_over_receipts = []\n",
    "example_mismatch_under_receipts = []\n",
    "\n",
    "for receipt_number, receipt_transactions in list(receipt_number_to_transactions.items()):\n",
    "    receipt_total_price = receipt_transactions[0]['rt_total_price']\n",
    "    receipt_sales_month = receipt_transactions[0]['sales_month']\n",
    "    receipt_total_packages = receipt_transactions[0]['total_packages']\n",
    "\n",
    "    total_count += 1\n",
    "\n",
    "    if len(receipt_transactions) == 1 and receipt_transactions[0]['tx_package_id'] == None:\n",
    "        missing_count += 1\n",
    "        if receipt_sales_month not in month_to_missing_count:\n",
    "            month_to_missing_count[receipt_sales_month] = 0\n",
    "        month_to_missing_count[receipt_sales_month] += 1\n",
    "        continue\n",
    "\n",
    "    # Check whether 'total_packages' field of sales receipt matches number of transactions related to receipt.\n",
    "    if receipt_total_packages != len(receipt_transactions):\n",
    "        missing_count += 1\n",
    "        if receipt_sales_month not in month_to_missing_count:\n",
    "            month_to_missing_count[receipt_sales_month] = 0\n",
    "        month_to_missing_count[receipt_sales_month] += 1\n",
    "        continue\n",
    "\n",
    "    transactions_total_price = sum(receipt_transaction['tx_total_price'] for receipt_transaction in receipt_transactions)\n",
    "    if not float_eq(receipt_total_price, transactions_total_price, len(receipt_transactions)):\n",
    "        mismatch_count += 1\n",
    "        if receipt_total_price < transactions_total_price:\n",
    "            mismatch_over_count += 1\n",
    "            example_mismatch_over_receipts += [(receipt_number, receipt_transactions)]\n",
    "        else:\n",
    "            mismatch_under_count += 1\n",
    "            example_mismatch_under_receipts += [(receipt_number, receipt_transactions)]\n",
    "\n",
    "        if receipt_sales_month not in month_to_mismatch_count:\n",
    "            month_to_mismatch_count[receipt_sales_month] = 0\n",
    "        month_to_mismatch_count[receipt_sales_month] += 1\n",
    "        continue\n",
    "\n",
    "print(f'# receipts with mismatching transactions: {mismatch_count} ({mismatch_count / total_count * 100}%)')\n",
    "print(f'# receipts missing transactions: {missing_count} ({missing_count / total_count * 100}%)')\n",
    "print(f'# receipts total: {total_count}')\n",
    "\n",
    "if mismatch_count:\n",
    "    print(f'# mismatch receipt vs transactions (transactions over): {mismatch_over_count} ({mismatch_over_count / mismatch_count * 100}%)')\n",
    "    print(f'# mismatch receipt vs transactions (transactions under): {mismatch_under_count} ({mismatch_under_count / mismatch_count * 100}%)')"
   ]
  },
  {
   "cell_type": "code",
   "execution_count": 37,
   "id": "e1ab76b8",
   "metadata": {},
   "outputs": [],
   "source": [
    "company_sales_receipts_dataframe['sales_month'] = company_sales_receipts_dataframe['sales_datetime'].dt.strftime('%Y-%m')"
   ]
  },
  {
   "cell_type": "code",
   "execution_count": 38,
   "id": "1eb6b9f3",
   "metadata": {},
   "outputs": [
    {
     "data": {
      "text/plain": [
       "<AxesSubplot:xlabel='sales_month'>"
      ]
     },
     "execution_count": 38,
     "metadata": {},
     "output_type": "execute_result"
    },
    {
     "data": {
      "image/png": "[encoded data removed]",
      "text/plain": [
       "<Figure size 1728x576 with 1 Axes>"
      ]
     },
     "metadata": {
      "needs_background": "light"
     },
     "output_type": "display_data"
    }
   ],
   "source": [
    "deduped_sales_receipts_with_transactions_dataframe.groupby(['sales_month'])['tx_total_price'].sum().plot.bar(figsize=(24, 8), stacked=True)"
   ]
  },
  {
   "cell_type": "markdown",
   "id": "78d3c466",
   "metadata": {},
   "source": [
    "# For Embarc only"
   ]
  },
  {
   "cell_type": "code",
   "execution_count": 39,
   "id": "de5b324f",
   "metadata": {},
   "outputs": [],
   "source": [
    "if COMPANY_IDENTIFIER == ['EMA','EMM','EMT','EMF']:\n",
    "    #incoming transfer\n",
    "    company_incoming_transfer_packages_dataframe_ema = company_incoming_transfer_packages_dataframe[company_incoming_transfer_packages_dataframe['license_number'] == 'C10-0000774-LIC']\n",
    "    company_incoming_transfer_packages_dataframe_emm = company_incoming_transfer_packages_dataframe[company_incoming_transfer_packages_dataframe['license_number'] == 'C10-0000786-LIC']\n",
    "    company_incoming_transfer_packages_dataframe_emt = company_incoming_transfer_packages_dataframe[company_incoming_transfer_packages_dataframe['license_number'] == 'C10-0000695-LIC']\n",
    "    company_incoming_transfer_packages_dataframe_emf = company_incoming_transfer_packages_dataframe[company_incoming_transfer_packages_dataframe['license_number'] == 'C10-0000939-LIC']\n",
    "    #sales & receipt\n",
    "    deduped_sales_receipts_with_transactions_dataframe_ema = deduped_sales_receipts_with_transactions_dataframe[deduped_sales_receipts_with_transactions_dataframe['license_number'] == 'C10-0000774-LIC']\n",
    "    deduped_sales_receipts_with_transactions_dataframe_emm = deduped_sales_receipts_with_transactions_dataframe[deduped_sales_receipts_with_transactions_dataframe['license_number'] == 'C10-0000786-LIC']\n",
    "    deduped_sales_receipts_with_transactions_dataframe_emt = deduped_sales_receipts_with_transactions_dataframe[deduped_sales_receipts_with_transactions_dataframe['license_number'] == 'C10-0000695-LIC']\n",
    "    deduped_sales_receipts_with_transactions_dataframe_emf = deduped_sales_receipts_with_transactions_dataframe[deduped_sales_receipts_with_transactions_dataframe['license_number'] == 'C10-0000939-LIC']\n",
    "    #inventory\n",
    "    company_inventory_packages_dataframe_ema = company_inventory_packages_dataframe[company_inventory_packages_dataframe['license_number'] == 'C10-0000774-LIC']\n",
    "    company_inventory_packages_dataframe_emm = company_inventory_packages_dataframe[company_inventory_packages_dataframe['license_number'] == 'C10-0000786-LIC']\n",
    "    company_inventory_packages_dataframe_emt = company_inventory_packages_dataframe[company_inventory_packages_dataframe['license_number'] == 'C10-0000695-LIC']\n",
    "    company_inventory_packages_dataframe_emf = company_inventory_packages_dataframe[company_inventory_packages_dataframe['license_number'] == 'C10-0000939-LIC']\n",
    "    "
   ]
  },
  {
   "cell_type": "markdown",
   "id": "2ea0583a",
   "metadata": {},
   "source": [
    "# For BUD only"
   ]
  },
  {
   "cell_type": "code",
   "execution_count": null,
   "id": "652466fe",
   "metadata": {},
   "outputs": [],
   "source": [
    "# if COMPANY_IDENTIFIER == ['BUD']:\n",
    "#     #incoming transfer\n",
    "#     company_incoming_transfer_packages_dataframe_sac = company_incoming_transfer_packages_dataframe[company_incoming_transfer_packages_dataframe['license_number'] == 'C9-0000399-LIC']\n",
    "#     company_incoming_transfer_packages_dataframe_fresno = company_incoming_transfer_packages_dataframe[company_incoming_transfer_packages_dataframe['license_number'] == 'C9-0000467-LIC']\n",
    "#     company_incoming_transfer_packages_dataframe_la = company_incoming_transfer_packages_dataframe[company_incoming_transfer_packages_dataframe['license_number'] == 'C9-0000464-LIC']\n",
    "#     #sales & receipt\n",
    "#     deduped_sales_receipts_with_transactions_dataframe_sac = deduped_sales_receipts_with_transactions_dataframe[deduped_sales_receipts_with_transactions_dataframe['license_number'] == 'C9-0000399-LIC']\n",
    "#     deduped_sales_receipts_with_transactions_dataframe_fresno = deduped_sales_receipts_with_transactions_dataframe[deduped_sales_receipts_with_transactions_dataframe['license_number'] == 'C9-0000467-LIC']\n",
    "#     deduped_sales_receipts_with_transactions_dataframe_la = deduped_sales_receipts_with_transactions_dataframe[deduped_sales_receipts_with_transactions_dataframe['license_number'] == 'C9-0000464-LIC']\n",
    "\n",
    "    \n",
    "#     #inventory\n",
    "#     company_inventory_packages_dataframe_sac = company_inventory_packages_dataframe[company_inventory_packages_dataframe['license_number'] == 'C9-0000399-LIC']\n",
    "#     company_inventory_packages_dataframe_fresno = company_inventory_packages_dataframe[company_inventory_packages_dataframe['license_number'] == 'C9-0000467-LIC']\n",
    "#     company_inventory_packages_dataframe_la = company_inventory_packages_dataframe[company_inventory_packages_dataframe['license_number'] == 'C9-0000464-LIC']\n",
    "\n",
    "    "
   ]
  },
  {
   "cell_type": "markdown",
   "id": "40a054de",
   "metadata": {},
   "source": [
    "# Vendor churn"
   ]
  },
  {
   "cell_type": "code",
   "execution_count": 41,
   "id": "c18451c1",
   "metadata": {},
   "outputs": [],
   "source": [
    "WINDOW = 4\n",
    "VC_START_DATE = '2020-01-01'\n",
    "VC_END_DATE = '2022-04-01'\n",
    "VC_MONTH_LIST = ['2021-12-01','2022-01-01','2022-02-01','2022-03-01']\n",
    "VC_MONTH_END = VC_MONTH_LIST[-1]"
   ]
  },
  {
   "cell_type": "code",
   "execution_count": 42,
   "id": "9be2c5b3",
   "metadata": {},
   "outputs": [],
   "source": [
    "def calculate_vendor_churn(incoming_transfer_df,license_list,vc_windown,vc_start_date,vc_end_date,vc_month_list,vc_month_end):\n",
    "    df_vendor_churn = incoming_transfer_df[incoming_transfer_df['license_number'].isin(license_list)]\n",
    "    df_vendor_churn['year_month'] = pd.to_datetime(df_vendor_churn['created_date']).dt.strftime(\"%Y-%m\")\n",
    "    vc = df_vendor_churn[['year_month','shipper_facility_name','shipper_wholesale_price']].groupby(['year_month','shipper_facility_name']).sum().reset_index()\n",
    "    vc= vc.assign(year_month=lambda df:pd.to_datetime(df['year_month']))\n",
    "\n",
    "    vc_full = (\n",
    "        vc\n",
    "        .groupby('shipper_facility_name').apply(\n",
    "            lambda df: df.merge(\n",
    "            pd.Series(\n",
    "                None, \n",
    "                index = pd.date_range(start = vc_start_date, end = vc_end_date, freq = 'MS'), \n",
    "                name='__place_holder'\n",
    "            ), \n",
    "            how ='right',\n",
    "            left_on = 'year_month', \n",
    "            right_index=True,\n",
    "        ).assign(\n",
    "            **{\n",
    "                \"shipper_wholesale_price\": lambda df_: df_.shipper_wholesale_price.fillna(0),\n",
    "            }\n",
    "        )\n",
    "        .drop(['__place_holder', 'shipper_facility_name'], axis=1)\n",
    "        )\n",
    "    ).reset_index().drop(['level_1'], axis=1)\n",
    "    \n",
    "    rolling_4m_sum =  vc_full.groupby('shipper_facility_name').apply(\n",
    "    lambda df: df.set_index('year_month').sort_index().rolling(vc_windown).sum()\n",
    "    )\n",
    "    rolling_4m_sum.columns = ['rolling_4m_total_price']\n",
    "    facility_monthly_running_total = vc_full.groupby('shipper_facility_name').apply(\n",
    "        lambda df: df.set_index('year_month').sort_index()['shipper_wholesale_price'].cumsum().to_frame()\n",
    "    )\n",
    "    facility_monthly_running_total.columns = ['facility_running_total']\n",
    "    monthly_running_total = facility_monthly_running_total.reset_index().groupby('year_month')['facility_running_total'].sum().to_frame()\n",
    "    monthly_running_total.columns = ['monthly_running_total']\n",
    "\n",
    "    vc_result = rolling_4m_sum.merge(\n",
    "        facility_monthly_running_total,\n",
    "        how='inner',\n",
    "        left_index=True,\n",
    "        right_index=True\n",
    "    ).reset_index().merge(\n",
    "        monthly_running_total,\n",
    "        how='left',\n",
    "        on = 'year_month'\n",
    "    )\n",
    "    vc_result['%_total'] = vc_result['facility_running_total'] / vc_result['monthly_running_total']\n",
    "    vc_result['last_4m_active'] = vc_result['rolling_4m_total_price'] > 0\n",
    "    vc_result ['significant'] = vc_result['%_total'] > 0.001\n",
    "    vc_result['measure'] = vc_result.apply(\n",
    "    lambda row: \"Active\"  if (row['last_4m_active'] & row['significant']) else (\"Inactive\" if row['significant'] else \"Exclude\"),\n",
    "    axis=1\n",
    "    )\n",
    "    #churn\n",
    "    churn = vc_result.groupby(['year_month']).apply(lambda x: x[x['measure'] == 'Inactive']['%_total'].sum()).reset_index()\n",
    "    churn.columns = ['year_month','%_inactive']\n",
    "    churn.index = churn.year_month\n",
    "    \n",
    "    # output vendor churn matrix\n",
    "    vc_data = vc_full[vc_full['year_month'] <= VC_MONTH_END]\n",
    "    vc_data['year_month'] = vc_data['year_month'].astype(str)\n",
    "    vc_matrix = pd.pivot_table(vc_data, values='shipper_wholesale_price', index='shipper_facility_name',\n",
    "    columns='year_month', fill_value=0).reset_index()\n",
    "    vc_matrix['facility_total'] = vc_matrix.sum(axis= 1)\n",
    "    vc_matrix['grand_total'] = vc_matrix['facility_total'].sum()\n",
    "    vc_matrix['perc_total'] = vc_matrix['facility_total'] / vc_matrix['grand_total']\n",
    "    vc_matrix['last_4m_total'] = vc_matrix[VC_MONTH_LIST].sum(axis = 1)\n",
    "    vc_matrix['last_4m_active'] = vc_matrix['last_4m_total'] > 0\n",
    "    vc_matrix ['significant'] = vc_matrix['perc_total'] > 0.001\n",
    "    vc_matrix['measure'] = vc_matrix.apply(\n",
    "        lambda row: \"Active\"  if (row['last_4m_active'] & row['significant']) else (\"Inactive\" if row['significant'] else \"Exclude\"),\n",
    "        axis=1\n",
    "    )\n",
    "    return churn, vc_matrix\n",
    "    \n"
   ]
  },
  {
   "cell_type": "code",
   "execution_count": 43,
   "id": "1b037f73",
   "metadata": {},
   "outputs": [],
   "source": [
    "def calculate_vendor_churn_short(incoming_transfer_df,license_list,vc_start_date,vc_end_date,vc_month_list,vc_month_end):\n",
    "    df_vendor_churn = incoming_transfer_df[incoming_transfer_df['license_number'].isin(license_list)]\n",
    "    df_vendor_churn['year_month'] = pd.to_datetime(df_vendor_churn['created_date']).dt.strftime(\"%Y-%m\")\n",
    "    vc = df_vendor_churn[['year_month','shipper_facility_name','shipper_wholesale_price']].groupby(['year_month','shipper_facility_name']).sum().reset_index()\n",
    "    vc= vc.assign(year_month=lambda df:pd.to_datetime(df['year_month']))\n",
    "\n",
    "    vc_full = (\n",
    "        vc\n",
    "        .groupby('shipper_facility_name').apply(\n",
    "            lambda df: df.merge(\n",
    "            pd.Series(\n",
    "                None, \n",
    "                index = pd.date_range(start = vc_start_date, end = vc_end_date, freq = 'MS'), \n",
    "                name='__place_holder'\n",
    "            ), \n",
    "            how ='right',\n",
    "            left_on = 'year_month', \n",
    "            right_index=True,\n",
    "        ).assign(\n",
    "            **{\n",
    "                \"shipper_wholesale_price\": lambda df_: df_.shipper_wholesale_price.fillna(0),\n",
    "            }\n",
    "        )\n",
    "        .drop(['__place_holder', 'shipper_facility_name'], axis=1)\n",
    "        )\n",
    "    ).reset_index().drop(['level_1'], axis=1)\n",
    "    \n",
    "    \n",
    "    # cast any purchase under $ 100 to be 0\n",
    "    indices = vc_full[vc_full['shipper_wholesale_price'] < 100].index.to_list()\n",
    "    vc_full.loc[indices,'shipper_wholesale_price'] = 0\n",
    "    \n",
    "    #rolling_4m_sum\n",
    "    rolling_4m_sum =  vc_full.groupby('shipper_facility_name').apply(\n",
    "    lambda df: df.set_index('year_month').sort_index().rolling(4).sum()\n",
    "    )\n",
    "    rolling_4m_sum.columns = ['rolling_4m_total_price']\n",
    "    \n",
    "    #facility_monthly_running_total\n",
    "    facility_monthly_running_total = vc_full.groupby('shipper_facility_name').apply(\n",
    "        lambda df: df.set_index('year_month').sort_index()['shipper_wholesale_price'].rolling(window = 12).sum().to_frame()\n",
    "    )\n",
    "    facility_monthly_running_total.columns = ['facility_running_total']\n",
    "    \n",
    "    #monthly_running_total\n",
    "    monthly_running_total = facility_monthly_running_total.reset_index().groupby('year_month')['facility_running_total'].sum().to_frame()\n",
    "    monthly_running_total.columns = ['monthly_running_total']\n",
    "\n",
    "    vc_result = rolling_4m_sum.merge(\n",
    "        facility_monthly_running_total,\n",
    "        how='inner',\n",
    "        left_index=True,\n",
    "        right_index=True\n",
    "    ).reset_index().merge(\n",
    "        monthly_running_total,\n",
    "        how='left',\n",
    "        on = 'year_month'\n",
    "    )\n",
    "    vc_result['%_total'] = vc_result['facility_running_total'] / vc_result['monthly_running_total']\n",
    "    vc_result['last_4m_active'] = vc_result['rolling_4m_total_price'] > 0\n",
    "    vc_result ['significant'] = vc_result['%_total'] > 0.001\n",
    "    vc_result['measure'] = vc_result.apply(\n",
    "    lambda row: \"Active\"  if (row['last_4m_active'] & row['significant']) else (\"Inactive\" if row['significant'] else \"Exclude\"),\n",
    "    axis=1\n",
    "    )\n",
    "    #churn\n",
    "    churn = vc_result.groupby(['year_month']).apply(lambda x: x[x['measure'] == 'Inactive']['%_total'].sum()).reset_index()\n",
    "    churn.columns = ['year_month','%_inactive']\n",
    "    churn.index = churn.year_month\n",
    "    \n",
    "    # output vendor churn matrix\n",
    "    vc_data = vc_full[vc_full['year_month'] <= VC_MONTH_END]\n",
    "    vc_data['year_month'] = vc_data['year_month'].astype(str)\n",
    "    vc_matrix = pd.pivot_table(vc_data, values='shipper_wholesale_price', index='shipper_facility_name',\n",
    "    columns='year_month', fill_value=0).reset_index()\n",
    "    vc_matrix['facility_total'] = vc_matrix.iloc[: , -12:].sum(axis = 1)\n",
    "    vc_matrix['grand_total'] = vc_matrix['facility_total'].sum()\n",
    "    vc_matrix['perc_total'] = vc_matrix['facility_total'] / vc_matrix['grand_total']\n",
    "    vc_matrix['last_4m_total'] = vc_matrix[vc_month_list].sum(axis = 1)\n",
    "    vc_matrix['last_4m_active'] = vc_matrix['last_4m_total'] > 0\n",
    "    vc_matrix ['significant'] = vc_matrix['perc_total'] > 0.001\n",
    "    vc_matrix['measure'] = vc_matrix.apply(\n",
    "        lambda row: \"Active\"  if (row['last_4m_active'] & row['significant']) else (\"Inactive\" if row['significant'] else \"Exclude\"),\n",
    "        axis=1\n",
    "    )\n",
    "    return churn, vc_matrix\n",
    "    \n"
   ]
  },
  {
   "cell_type": "markdown",
   "id": "e2b0390d",
   "metadata": {},
   "source": [
    "## embarc only"
   ]
  },
  {
   "cell_type": "code",
   "execution_count": 45,
   "id": "6198bc51",
   "metadata": {},
   "outputs": [],
   "source": [
    "churn_ema,vc_matrix_ema = calculate_vendor_churn(company_incoming_transfer_packages_dataframe_ema,['C10-0000774-LIC'],WINDOW,VC_START_DATE,VC_END_DATE,VC_MONTH_LIST,VC_MONTH_END)\n",
    "churn_emm,vc_matrix_emm = calculate_vendor_churn(company_incoming_transfer_packages_dataframe_emm,['C10-0000786-LIC'],WINDOW,VC_START_DATE,VC_END_DATE,VC_MONTH_LIST,VC_MONTH_END)\n",
    "churn_emt,vc_matrix_emt = calculate_vendor_churn(company_incoming_transfer_packages_dataframe_emt,['C10-0000695-LIC'],WINDOW,VC_START_DATE,VC_END_DATE,VC_MONTH_LIST,VC_MONTH_END)\n",
    "churn_emf,vc_matrix_emf = calculate_vendor_churn(company_incoming_transfer_packages_dataframe_emf,['C10-0000939-LIC'],WINDOW,VC_START_DATE,VC_END_DATE,VC_MONTH_LIST,VC_MONTH_END)\n",
    "\n"
   ]
  },
  {
   "cell_type": "code",
   "execution_count": 46,
   "id": "2803ec5f",
   "metadata": {},
   "outputs": [],
   "source": [
    "churn_ema_short,vc_matrix_ema_short = calculate_vendor_churn_short(company_incoming_transfer_packages_dataframe_ema,['C10-0000774-LIC'],VC_START_DATE,VC_END_DATE,VC_MONTH_LIST,VC_MONTH_END)\n",
    "churn_emm_short,vc_matrix_emm_short = calculate_vendor_churn_short(company_incoming_transfer_packages_dataframe_emm,['C10-0000786-LIC'],VC_START_DATE,VC_END_DATE,VC_MONTH_LIST,VC_MONTH_END)\n",
    "churn_emt_short,vc_matrix_emt_short = calculate_vendor_churn_short(company_incoming_transfer_packages_dataframe_emt,['C10-0000695-LIC'],VC_START_DATE,VC_END_DATE,VC_MONTH_LIST,VC_MONTH_END)\n",
    "churn_emf_short,vc_matrix_emf_short = calculate_vendor_churn_short(company_incoming_transfer_packages_dataframe_emf,['C10-0000939-LIC'],VC_START_DATE,VC_END_DATE,VC_MONTH_LIST,VC_MONTH_END)\n",
    "\n"
   ]
  },
  {
   "cell_type": "code",
   "execution_count": 47,
   "id": "00da318a",
   "metadata": {},
   "outputs": [
    {
     "data": {
      "image/png": "[encoded data removed]",
      "text/plain": [
       "<Figure size 864x576 with 1 Axes>"
      ]
     },
     "metadata": {
      "needs_background": "light"
     },
     "output_type": "display_data"
    }
   ],
   "source": [
    "ax = churn_ema['%_inactive'].plot(marker = 'o',figsize = (12,8),label = 'VC old')\n",
    "ax = churn_ema_short['%_inactive'].plot(marker = 'o',figsize = (12,8),label = 'VC short')\n",
    "vals = ax.get_yticks()\n",
    "ax.set_yticklabels(['{:,.2%}'.format(x) for x in vals])\n",
    "ax = plt.title('Rolling 4m vendor churn')\n",
    "ax = plt.legend()"
   ]
  },
  {
   "cell_type": "markdown",
   "id": "f7da5cff",
   "metadata": {},
   "source": [
    "## BUD only"
   ]
  },
  {
   "cell_type": "code",
   "execution_count": null,
   "id": "f0587da2",
   "metadata": {},
   "outputs": [],
   "source": [
    "# churn_sac,vc_matrix_sac = calculate_vendor_churn(company_incoming_transfer_packages_dataframe_sac,['C9-0000399-LIC'],WINDOW,VC_START_DATE,VC_END_DATE,VC_MONTH_LIST,VC_MONTH_END)\n",
    "# churn_fresno,vc_matrix_fresno = calculate_vendor_churn(company_incoming_transfer_packages_dataframe_fresno,['C9-0000467-LIC'],WINDOW,VC_START_DATE,VC_END_DATE,VC_MONTH_LIST,VC_MONTH_END)\n",
    "# churn_la,vc_matrix_la = calculate_vendor_churn(company_incoming_transfer_packages_dataframe_la,['C9-0000464-LIC'],WINDOW,VC_START_DATE,VC_END_DATE,VC_MONTH_LIST,VC_MONTH_END)\n",
    "\n",
    "\n"
   ]
  },
  {
   "cell_type": "code",
   "execution_count": null,
   "id": "d1768e7a",
   "metadata": {},
   "outputs": [],
   "source": [
    "# ax = churn_la['%_inactive'].plot(marker = 'o',figsize = (12,8))\n",
    "# vals = ax.get_yticks()\n",
    "# ax.set_yticklabels(['{:,.2%}'.format(x) for x in vals])\n",
    "# ax = plt.title('Rolling 4m vendor churn')"
   ]
  },
  {
   "cell_type": "markdown",
   "id": "3ddb8b90",
   "metadata": {},
   "source": [
    "## Others"
   ]
  },
  {
   "cell_type": "code",
   "execution_count": null,
   "id": "247358ea",
   "metadata": {},
   "outputs": [],
   "source": [
    "license_numbers"
   ]
  },
  {
   "cell_type": "code",
   "execution_count": null,
   "id": "dd3f7bd4",
   "metadata": {},
   "outputs": [],
   "source": [
    "churn,vc_matrix = calculate_vendor_churn(company_incoming_transfer_packages_dataframe,license_numbers,WINDOW,VC_START_DATE,VC_END_DATE,VC_MONTH_LIST,VC_MONTH_END)\n",
    "\n"
   ]
  },
  {
   "cell_type": "code",
   "execution_count": null,
   "id": "b5fcd834",
   "metadata": {},
   "outputs": [],
   "source": [
    "churn_short,vc_matrix_short = calculate_vendor_churn_short(company_incoming_transfer_packages_dataframe,license_numbers,VC_START_DATE,VC_END_DATE,VC_MONTH_LIST,VC_MONTH_END)\n",
    "\n"
   ]
  },
  {
   "cell_type": "code",
   "execution_count": null,
   "id": "3d9cf514",
   "metadata": {},
   "outputs": [],
   "source": [
    "churn_short"
   ]
  },
  {
   "cell_type": "code",
   "execution_count": null,
   "id": "85aaa685",
   "metadata": {},
   "outputs": [],
   "source": [
    "ax = churn['%_inactive'].plot(marker = 'o',figsize = (12,8),label = 'VC old')\n",
    "ax = churn_short['%_inactive'].plot(marker = 'o',figsize = (12,8),label = 'VC short')\n",
    "vals = ax.get_yticks()\n",
    "ax.set_yticklabels(['{:,.2%}'.format(x) for x in vals])\n",
    "ax = plt.title('Rolling 4m vendor churn')\n",
    "ax = plt.legend()"
   ]
  },
  {
   "cell_type": "code",
   "execution_count": null,
   "id": "f6951a83",
   "metadata": {},
   "outputs": [],
   "source": [
    "#current_month = '2022-03'"
   ]
  },
  {
   "cell_type": "code",
   "execution_count": null,
   "id": "40154f05",
   "metadata": {},
   "outputs": [],
   "source": [
    "#vc_matrix_short.to_csv('surveillance/'+COMPANY_IDENTIFIER[0]+'/'+current_month +'/VC/' + COMPANY_IDENTIFIER[0] + '_'+ VC_END_DATE + '_'  +'_vc_matrix.csv')\n",
    "#churn_short.to_csv('surveillance/'+COMPANY_IDENTIFIER[0]+'/'+current_month +'/VC/' + COMPANY_IDENTIFIER[0] + '_'+ VC_END_DATE + '_'  +'_vc.csv')"
   ]
  },
  {
   "cell_type": "markdown",
   "id": "21b8b232",
   "metadata": {},
   "source": [
    "# Receiver wholesale price outlier check"
   ]
  },
  {
   "cell_type": "code",
   "execution_count": null,
   "id": "7291b9c2",
   "metadata": {},
   "outputs": [],
   "source": [
    "def check_per_unit_incoming(incoming_transfer_df: pd.DataFrame) -> Tuple[pd.DataFrame,pd.DataFrame]:\n",
    "    incoming_transfer_df['per_unit_incoming'] = incoming_transfer_df['shipper_wholesale_price'] / incoming_transfer_df['shipped_quantity']\n",
    "    # by package ID\n",
    "    per_unit_incoming_package_sort = incoming_transfer_df[['package_id','per_unit_incoming']].groupby(['package_id']).mean().sort_values(by = 'per_unit_incoming',ascending = False).reset_index()\n",
    "    per_unit_incoming_package_top5 = per_unit_incoming_package_sort[0:5]\n",
    "    print('printing per unit incoming by package ID summary ...')\n",
    "    print(f'max per unit incoming: {per_unit_incoming_package_sort[\"per_unit_incoming\"][0]}' + f' from package ID: {per_unit_incoming_package_sort[\"package_id\"][0]}')\n",
    "    print(f'min per unit incoming: {per_unit_incoming_package_sort.dropna()[\"per_unit_incoming\"][-1:].values[0]}' + f' from package ID: {per_unit_incoming_package_sort.dropna()[\"package_id\"][-1:].values[0]}')\n",
    "    #print(per_unit_incoming_package_top5)\n",
    "    print('')\n",
    "    #by product name\n",
    "    per_unit_incoming_product_sort = incoming_transfer_df[['product_name','per_unit_incoming']].groupby(['product_name']).max().sort_values(by = 'per_unit_incoming',ascending = False).reset_index()\n",
    "    per_unit_incoming_product_top5 = per_unit_incoming_product_sort[0:5]\n",
    "    return per_unit_incoming_package_sort,per_unit_incoming_product_sort\n"
   ]
  },
  {
   "cell_type": "code",
   "execution_count": null,
   "id": "00fbd51c",
   "metadata": {},
   "outputs": [],
   "source": [
    "per_unit_incoming_package_sort,per_unit_incoming_product_sort = check_per_unit_incoming(company_incoming_transfer_packages_dataframe)\n"
   ]
  },
  {
   "cell_type": "code",
   "execution_count": null,
   "id": "1f93f801",
   "metadata": {},
   "outputs": [],
   "source": [
    "# top 5\n",
    "print('Top 5 per unit incoming packages')\n",
    "per_unit_incoming_package_sort.head(20)"
   ]
  },
  {
   "cell_type": "code",
   "execution_count": null,
   "id": "acc93f68",
   "metadata": {},
   "outputs": [],
   "source": [
    "print('Bottom 5 per unit incoming packages')\n",
    "per_unit_incoming_package_sort.dropna().tail(5)\n"
   ]
  },
  {
   "cell_type": "code",
   "execution_count": null,
   "id": "9daf6bf3",
   "metadata": {},
   "outputs": [],
   "source": [
    "# look at large cost items if any\n",
    "company_incoming_transfer_packages_dataframe[company_incoming_transfer_packages_dataframe['per_unit_incoming'] > 10000]"
   ]
  },
  {
   "cell_type": "markdown",
   "id": "84b21f91-5b47-4407-8579-7e29714d60e4",
   "metadata": {},
   "source": [
    "# COGS analysis"
   ]
  },
  {
   "cell_type": "code",
   "execution_count": null,
   "id": "e57a2ec3",
   "metadata": {},
   "outputs": [],
   "source": [
    "def cogs_analysis(df_in:pd.DataFrame,df_sales:pd.DataFrame,freq: str) -> Tuple[pd.DataFrame,pd.DataFrame]:\n",
    "    df_sales['per_unit'] = df_sales['tx_total_price'] / df_sales['tx_quantity_sold']\n",
    "    # set frequency\n",
    "    if freq == 'monthly':\n",
    "        df_sales['date'] = df_sales['sales_datetime'].dt.strftime(\"%Y-%m\")\n",
    "    elif freq == 'weekly':\n",
    "        df_sales['date'] = df_sales['sales_datetime'].dt.strftime(\"%Y-%W\")\n",
    "        df_sales['week'] = df_sales['sales_datetime'].dt.strftime(\"%W\")\n",
    "    # total # of trxns\n",
    "    s_total_count = df_sales.groupby('date')['tx_total_price'].count()\n",
    "    df_total_count = pd.Series(s_total_count).to_frame()\n",
    "    df_total_count = df_total_count.reset_index()\n",
    "    df_total_count.rename(columns={'tx_total_price':'total_count'}, inplace=True)\n",
    "    # revenue\n",
    "    s_revenue = df_sales.groupby('date')['tx_total_price'].sum()\n",
    "    df_revenue = pd.Series(s_revenue).to_frame()\n",
    "    df_revenue = df_revenue.reset_index()\n",
    "    df_revenue.rename(columns={'tx_total_price': 'revenue'}, inplace=True)\n",
    "\n",
    "    df_in['per_unit_incoming'] = df_in['shipper_wholesale_price'] / df_in['shipped_quantity']\n",
    "    \n",
    "    # per unit price by package id\n",
    "    df_in_price = df_in[df_in['shipper_wholesale_price'].notnull()]\n",
    "    average_incoming_package_id = df_in_price.groupby('package_id')['per_unit_incoming'].mean()\n",
    "    df_avg_incoming_price = pd.Series(average_incoming_package_id).to_frame()\n",
    "    df_avg_incoming_price = df_avg_incoming_price.reset_index()\n",
    "    # per unit price by product name\n",
    "    average_incoming_product = df_in_price.groupby('product_name')['per_unit_incoming'].mean()\n",
    "    df_avg_product = pd.Series(average_incoming_product).to_frame()\n",
    "    df_avg_product = df_avg_product.reset_index()\n",
    "    df_avg_product.rename(columns={'per_unit_incoming':'per_unit_product'}, inplace=True)\n",
    "\n",
    "    # merge with (cogs by package id)\n",
    "    df_cogs_package_id = pd.merge(df_sales, df_avg_incoming_price, left_on='tx_package_id', right_on='package_id', how='left')\n",
    "    df_cogs_package_id['total_incoming'] = df_cogs_package_id['per_unit_incoming'] * df_cogs_package_id['tx_quantity_sold']\n",
    "    df_cogs_package_id.replace([numpy.inf], numpy.nan, inplace=True)\n",
    "    df_cogs_package_id_notnull = df_cogs_package_id[df_cogs_package_id['total_incoming'].notnull()]\n",
    "\n",
    "    # sum cogs by package id\n",
    "    s_cogs = df_cogs_package_id_notnull.groupby('date')['total_incoming'].sum()\n",
    "    df_cogs_id = pd.Series(s_cogs).to_frame()\n",
    "    df_cogs_id = df_cogs_id.reset_index()\n",
    "    # count # of trxn by package id\n",
    "    s_cogs_count = df_cogs_package_id_notnull.groupby('date')['total_incoming'].count()\n",
    "    df_cogs_count = pd.Series(s_cogs_count).to_frame()\n",
    "    df_cogs_count = df_cogs_count.reset_index()\n",
    "    df_cogs_count.rename(columns={'total_incoming':'count_incoming'}, inplace=True)\n",
    "    \n",
    "    # merge with (cogs by product name)\n",
    "    df_cogs_average_product = pd.merge(df_cogs_package_id, df_avg_product, left_on='tx_product_name', right_on='product_name', how='left')\n",
    "\n",
    "    df_cogs_average_product['total_product'] = df_cogs_average_product['tx_quantity_sold'] * df_cogs_average_product['per_unit_product']\n",
    "    df_cogs_null = df_cogs_average_product[df_cogs_average_product['per_unit_incoming'].isnull()]\n",
    "    df_cogs_product = df_cogs_null[df_cogs_null['per_unit_product'].notnull()]\n",
    "    # sum cogs filldown by product name\n",
    "    product_sum = df_cogs_product.groupby('date')['total_product'].sum()\n",
    "    df_product_sum = pd.Series(product_sum).to_frame()\n",
    "    df_product_sum = df_product_sum.reset_index()\n",
    "    df_product_sum.rename(columns={'total_product':'product_sum'}, inplace=True)\n",
    "    # count # of trxn filldown by product name\n",
    "    product_count = df_cogs_product.groupby('date')['total_product'].count()\n",
    "    df_product_count = pd.Series(product_count).to_frame()\n",
    "    df_product_count = df_product_count.reset_index()\n",
    "    df_product_count.rename(columns={'total_product':'product_count'}, inplace=True)\n",
    "    df_cogs_product_df = pd.merge(df_product_sum, df_product_count)\n",
    "    \n",
    "    # prepare summary\n",
    "    df_summary = pd.merge(df_revenue, df_cogs_product_df, how='left')\n",
    "    df_summary = pd.merge(df_summary, df_cogs_id, how='left')\n",
    "    df_summary['product_sum'] = df_summary['product_sum'].fillna(0)\n",
    "    df_summary['product_count'] = df_summary['product_count'].fillna(0)\n",
    "    # total cogs = by product id cogs + by product name cogs\n",
    "    df_summary['cogs'] = df_summary['total_incoming'] + df_summary['product_sum']\n",
    "    df_summary = pd.merge(df_summary, df_cogs_count)\n",
    "    df_summary = pd.merge(df_summary, df_total_count)\n",
    "    # total count = by package id count + by product count\n",
    "    df_summary['total_count_incoming'] = df_summary['count_incoming'] + df_summary['product_count']\n",
    "    df_summary['margin_$'] = df_summary['revenue'] - df_summary['cogs']\n",
    "    df_summary['margin_%'] = df_summary['margin_$'] / df_summary['revenue']\n",
    "    df_summary['coverage'] = df_summary['total_count_incoming'] / df_summary['total_count']\n",
    "    df_summary_simp = df_summary[['date', 'revenue', 'cogs', 'margin_$', 'margin_%', 'total_count_incoming','product_count','count_incoming', 'coverage','total_count']]\n",
    "\n",
    "    #tax treatment\n",
    "    df_summary_simp['revenue_after_tax'] = df_summary_simp['revenue'] * 1.15\n",
    "    df_summary_simp['cogs_after_tax'] = df_summary_simp['cogs'] * 1.27\n",
    "    df_summary_simp['margin_$_after_tax'] = df_summary_simp['revenue_after_tax'] - df_summary_simp['cogs_after_tax']\n",
    "    df_summary_simp['margin_%_after_tax'] = df_summary_simp['margin_$_after_tax'] / df_summary_simp['revenue_after_tax']\n",
    "    # past quarter pre tax\n",
    "    df_summary_simp['gm_past_quarter'] = df_summary_simp[['margin_%']].rolling(3).mean().values\n",
    "    df_summary_simp['gm_past_2quarters'] = df_summary_simp[['margin_%']].rolling(6).mean().values\n",
    "    df_summary_simp['gm_past_3quarters'] = df_summary_simp[['margin_%']].rolling(9).mean().values\n",
    "    df_summary_simp['sum_cogs_past_3months'] = df_summary_simp[['cogs']].rolling(3).sum().values\n",
    "    # past quarter after tax\n",
    "    df_summary_simp['gm_past_quarter_after_tax'] = df_summary_simp[['margin_%_after_tax']].rolling(3).mean().values\n",
    "    df_summary_simp['gm_past_2quarters_after_tax'] = df_summary_simp[['margin_%_after_tax']].rolling(6).mean().values\n",
    "    df_summary_simp['gm_past_3quarters_after_tax'] = df_summary_simp[['margin_%_after_tax']].rolling(9).mean().values\n",
    "    # revenue change\n",
    "    #df_summary_simp['revenue_change'] = df_summary_simp['revenue'].pct_change()\n",
    "\n",
    "    if company_state == 'CA':\n",
    "        df_summary_simp['gm_final'] = df_summary_simp['margin_%_after_tax']\n",
    "        \n",
    "        df_summary_simp['gm_past_quarter_final'] = df_summary_simp['gm_past_quarter_after_tax']\n",
    "        df_summary_simp['gm_past_2quarters_final'] = df_summary_simp['gm_past_2quarters_after_tax']\n",
    "        df_summary_simp['gm_past_3quarters_final'] = df_summary_simp['gm_past_3quarters_after_tax']\n",
    "    else:\n",
    "        df_summary_simp['gm_final'] = df_summary_simp['margin_%']\n",
    "        df_summary_simp['gm_past_quarter_final'] = df_summary_simp['gm_past_quarter']\n",
    "        df_summary_simp['gm_past_2quarters_final'] = df_summary_simp['gm_past_2quarters']\n",
    "        df_summary_simp['gm_past_3quarters_final'] = df_summary_simp['gm_past_3quarters']\n",
    "    df_summary_simp['revenue_change'] = df_summary_simp['revenue'].pct_change().values\n",
    "    df_summary_simp.index = df_summary_simp.date \n",
    "    \n",
    "    return df_summary_simp,df_cogs_average_product\n",
    "\n",
    "\n"
   ]
  },
  {
   "cell_type": "code",
   "execution_count": null,
   "id": "2be2ff6a",
   "metadata": {},
   "outputs": [],
   "source": [
    "df_in = company_incoming_transfer_packages_dataframe[company_incoming_transfer_packages_dataframe['per_unit_incoming'] <= 10000]\n",
    "df_inventory = company_inventory_packages_dataframe\n",
    "df_sales = deduped_sales_receipts_with_transactions_dataframe"
   ]
  },
  {
   "cell_type": "markdown",
   "id": "f3ea6a61",
   "metadata": {},
   "source": [
    "## For Others"
   ]
  },
  {
   "cell_type": "code",
   "execution_count": null,
   "id": "4126dddb",
   "metadata": {},
   "outputs": [],
   "source": [
    "df_summary_simp,df_cogs_average_product = cogs_analysis(df_in,df_sales,'monthly')\n"
   ]
  },
  {
   "cell_type": "code",
   "execution_count": null,
   "id": "90cf57b0",
   "metadata": {},
   "outputs": [],
   "source": [
    "df_summary_simp"
   ]
  },
  {
   "cell_type": "code",
   "execution_count": null,
   "id": "71b1e080",
   "metadata": {},
   "outputs": [],
   "source": [
    "#df_summary_simp[['margin_%','coverage']].plot(figsize = (10,7),marker = 'o')"
   ]
  },
  {
   "cell_type": "markdown",
   "id": "acb65de6",
   "metadata": {},
   "source": [
    "# Revenue change vs state"
   ]
  },
  {
   "cell_type": "code",
   "execution_count": null,
   "id": "2fa9394c",
   "metadata": {},
   "outputs": [],
   "source": [
    "def gmv_change_variance_point_mapping(x):\n",
    "    if x < -0.1:\n",
    "        return -5\n",
    "    elif x >= -0.1 and x <-0.05:\n",
    "        return -2.5\n",
    "    elif x >= -0.05 and x < 0:\n",
    "        return 0\n",
    "    elif x >= 0 and x < 0.05:\n",
    "        return 5\n",
    "    else:\n",
    "        return 10\n",
    "    "
   ]
  },
  {
   "cell_type": "markdown",
   "id": "d79f67f1",
   "metadata": {},
   "source": [
    "### for CA"
   ]
  },
  {
   "cell_type": "code",
   "execution_count": null,
   "id": "ce9bab85",
   "metadata": {},
   "outputs": [],
   "source": [
    "def calculate_quarterly_sum_gmv_ca(cogs_analysis_df):\n",
    "    #2020\n",
    "    sum_gmv_q1_2020 = cogs_analysis_df[(cogs_analysis_df['date']>= '2020-01')&(cogs_analysis_df['date']<= '2020-03')]['revenue'].sum()\n",
    "    sum_gmv_q2_2020 = cogs_analysis_df[(cogs_analysis_df['date']>= '2020-04')&(cogs_analysis_df['date']<= '2020-06')]['revenue'].sum()\n",
    "    sum_gmv_q3_2020 = cogs_analysis_df[(cogs_analysis_df['date']>= '2020-07')&(cogs_analysis_df['date']<= '2020-09')]['revenue'].sum()\n",
    "    sum_gmv_q4_2020 = cogs_analysis_df[(cogs_analysis_df['date']>= '2020-10')&(cogs_analysis_df['date']<= '2020-12')]['revenue'].sum()\n",
    "    #2021\n",
    "    sum_gmv_q1_2021 = cogs_analysis_df[(cogs_analysis_df['date']>= '2021-01')&(cogs_analysis_df['date']<= '2021-03')]['revenue'].sum()\n",
    "    sum_gmv_q2_2021 = cogs_analysis_df[(cogs_analysis_df['date']>= '2021-04')&(cogs_analysis_df['date']<= '2021-06')]['revenue'].sum()\n",
    "    sum_gmv_q3_2021 = cogs_analysis_df[(cogs_analysis_df['date']>= '2021-07')&(cogs_analysis_df['date']<= '2021-09')]['revenue'].sum()\n",
    "    sum_gmv_q4_2021 = cogs_analysis_df[(cogs_analysis_df['date']>= '2021-10')&(cogs_analysis_df['date']<= '2021-12')]['revenue'].sum()\n",
    "    gmv_df = pd.DataFrame([sum_gmv_q1_2020,sum_gmv_q2_2020,sum_gmv_q3_2020,sum_gmv_q4_2020,\\\n",
    "                  sum_gmv_q1_2021,sum_gmv_q2_2021,sum_gmv_q3_2021,sum_gmv_q4_2021])\n",
    "    gmv_df.columns = ['sum_gmv']\n",
    "    gmv_df['sum_gmv_change'] = gmv_df['sum_gmv'].pct_change().values\n",
    "    gmv_df['sum_gmv_change_ca'] = [numpy.nan,numpy.nan,numpy.nan,0.17,-0.05,0.02,-0.11,0]\n",
    "    gmv_df['weight'] = [numpy.nan,numpy.nan,numpy.nan,0.04,0.28,0.52,0.76,1]\n",
    "    gmv_df['variance'] = gmv_df['sum_gmv_change'] - gmv_df['sum_gmv_change_ca']\n",
    "    gmv_df['points'] = [gmv_change_variance_point_mapping(n) for n in gmv_df['variance']]\n",
    "    gmv_df.replace([numpy.inf, -numpy.inf], numpy.nan, inplace=True)\n",
    "    gmv_df['total'] = gmv_df['points'] * gmv_df['weight']\n",
    "    gmv_df.index = ['2020Q1','2020Q2','2020Q3','2020Q4','2021Q1','2021Q2','2021Q3','2021Q4']\n",
    "    #gmv_df = gmv_df.dropna()\n",
    "    return gmv_df\n",
    "    "
   ]
  },
  {
   "cell_type": "code",
   "execution_count": null,
   "id": "d9295eab",
   "metadata": {},
   "outputs": [],
   "source": [
    "a = calculate_quarterly_sum_gmv_ca(df_summary_simp)\n",
    "a"
   ]
  },
  {
   "cell_type": "code",
   "execution_count": null,
   "id": "2c2b77fc",
   "metadata": {},
   "outputs": [],
   "source": [
    "round(a.dropna()['total'].sum(),2)"
   ]
  },
  {
   "cell_type": "markdown",
   "id": "c00b967e",
   "metadata": {},
   "source": [
    "### FOR MA"
   ]
  },
  {
   "cell_type": "code",
   "execution_count": null,
   "id": "7cd790cb",
   "metadata": {},
   "outputs": [],
   "source": [
    "def calculate_quarterly_sum_gmv_ma(cogs_analysis_df):\n",
    "\n",
    "    gmv_df = cogs_analysis_df[(cogs_analysis_df['date'] >= '2021-09')&(cogs_analysis_df['date'] <= '2022-03')][['revenue_change']]\n",
    "    gmv_df['sum_gmv_change_ma'] = [-0.07,0.01,-0.07,0.09,-0.11,0.02,0.05]\n",
    "    gmv_df['weight'] = [0.52,0.6,0.68,0.76,0.84,0.92,1]\n",
    "    gmv_df['variance'] = gmv_df['revenue_change'] - gmv_df['sum_gmv_change_ma']\n",
    "    gmv_df['points'] = [gmv_change_variance_point_mapping(n) for n in gmv_df['variance']]\n",
    "    gmv_df.replace([numpy.inf, -numpy.inf], numpy.nan, inplace=True)\n",
    "    gmv_df['total'] = gmv_df['points'] * gmv_df['weight']\n",
    "    return gmv_df\n",
    "    "
   ]
  },
  {
   "cell_type": "code",
   "execution_count": null,
   "id": "057018f1",
   "metadata": {},
   "outputs": [],
   "source": [
    "# def calculate_quarterly_sum_gmv_ma_short(cogs_analysis_df):\n",
    "\n",
    "#     gmv_df = cogs_analysis_df[(cogs_analysis_df['date'] >= '2021-09')&(cogs_analysis_df['date'] <= '2022-02')][['revenue_change']]\n",
    "#     gmv_df['sum_gmv_change_ma'] = [-0.07,0.09,-0.11,0.02]\n",
    "#     gmv_df['weight'] = [0.76,0.84,0.92,1]\n",
    "#     gmv_df['variance'] = gmv_df['revenue_change'] - gmv_df['sum_gmv_change_ma']\n",
    "#     gmv_df['points'] = [gmv_change_variance_point_mapping(n) for n in gmv_df['variance']]\n",
    "#     gmv_df.replace([numpy.inf, -numpy.inf], numpy.nan, inplace=True)\n",
    "#     gmv_df['total'] = gmv_df['points'] * gmv_df['weight']\n",
    "#     return gmv_df\n",
    "    "
   ]
  },
  {
   "cell_type": "code",
   "execution_count": null,
   "id": "86d31be1",
   "metadata": {},
   "outputs": [],
   "source": [
    "a = calculate_quarterly_sum_gmv_ma(df_summary_simp)"
   ]
  },
  {
   "cell_type": "code",
   "execution_count": null,
   "id": "205bd18e",
   "metadata": {},
   "outputs": [],
   "source": [
    "a"
   ]
  },
  {
   "cell_type": "code",
   "execution_count": null,
   "id": "8c2c4291",
   "metadata": {},
   "outputs": [],
   "source": [
    "round(a.dropna()['total'].sum(),2)"
   ]
  },
  {
   "cell_type": "markdown",
   "id": "5ae6ea1e",
   "metadata": {},
   "source": [
    "### FOR CO"
   ]
  },
  {
   "cell_type": "code",
   "execution_count": null,
   "id": "7302e340",
   "metadata": {},
   "outputs": [],
   "source": [
    "def calculate_quarterly_sum_gmv_co(cogs_analysis_df):\n",
    "\n",
    "    gmv_df = cogs_analysis_df[(cogs_analysis_df['date'] >= '2021-02')&(cogs_analysis_df['date'] <= '2022-02')][['revenue_change']]\n",
    "    gmv_df['sum_gmv_change_co'] = [-0.11,0.23,-0.01,-0.06,-0.03,0.1,-0.06,-0.05,-0.03,-0.11,0.06,0.09,-0.16]\n",
    "    gmv_df['weight'] = [0.04,0.12,0.2,0.28,0.36,0.44,0.52,0.6,0.68,0.76,0.84,0.92,1]\n",
    "    gmv_df['variance'] = gmv_df['revenue_change'] - gmv_df['sum_gmv_change_co']\n",
    "    gmv_df['points'] = [gmv_change_variance_point_mapping(n) for n in gmv_df['variance']]\n",
    "    gmv_df.replace([numpy.inf, -numpy.inf], numpy.nan, inplace=True)\n",
    "    gmv_df['total'] = gmv_df['points'] * gmv_df['weight']\n",
    "    return gmv_df\n",
    "    "
   ]
  },
  {
   "cell_type": "code",
   "execution_count": null,
   "id": "9cd9f09e",
   "metadata": {},
   "outputs": [],
   "source": [
    "a = calculate_quarterly_sum_gmv_co(df_summary_simp)"
   ]
  },
  {
   "cell_type": "code",
   "execution_count": null,
   "id": "107d5172",
   "metadata": {},
   "outputs": [],
   "source": [
    "a"
   ]
  },
  {
   "cell_type": "code",
   "execution_count": null,
   "id": "918a8468",
   "metadata": {},
   "outputs": [],
   "source": [
    "round(a.dropna()['total'].sum(),2)"
   ]
  },
  {
   "cell_type": "markdown",
   "id": "4d7f6893",
   "metadata": {},
   "source": [
    "### FOR MI"
   ]
  },
  {
   "cell_type": "code",
   "execution_count": null,
   "id": "406b4f35",
   "metadata": {},
   "outputs": [],
   "source": [
    "def calculate_quarterly_sum_gmv_mi(cogs_analysis_df):\n",
    "\n",
    "    gmv_df = cogs_analysis_df[(cogs_analysis_df['date'] >= '2021-03')&(cogs_analysis_df['date'] <= '2022-03')][['revenue_change']]\n",
    "    gmv_df['sum_gmv_change_mi'] = [0.36,0.01,-0.07,-0.02,0.12,-0.11,-0.04,-0.01,-0.1,0.06,-0.11,0.01,-0.09]\n",
    "    gmv_df['weight'] = [0.04,0.12,0.2,0.28,0.36,0.44,0.52,0.6,0.68,0.76,0.84,0.92,1]\n",
    "    gmv_df['variance'] = gmv_df['revenue_change'] - gmv_df['sum_gmv_change_mi']\n",
    "    gmv_df['points'] = [gmv_change_variance_point_mapping(n) for n in gmv_df['variance']]\n",
    "    gmv_df.replace([numpy.inf, -numpy.inf], numpy.nan, inplace=True)\n",
    "    gmv_df['total'] = gmv_df['points'] * gmv_df['weight']\n",
    "    return gmv_df\n",
    "    "
   ]
  },
  {
   "cell_type": "code",
   "execution_count": null,
   "id": "54a764d9",
   "metadata": {},
   "outputs": [],
   "source": [
    "a = calculate_quarterly_sum_gmv_mi(df_summary_simp)"
   ]
  },
  {
   "cell_type": "code",
   "execution_count": null,
   "id": "70e3ae07",
   "metadata": {},
   "outputs": [],
   "source": [
    "a"
   ]
  },
  {
   "cell_type": "code",
   "execution_count": null,
   "id": "eacaf3ce",
   "metadata": {},
   "outputs": [],
   "source": [
    "round(a.dropna()['total'].sum(),2)"
   ]
  },
  {
   "cell_type": "markdown",
   "id": "c0e17ec9",
   "metadata": {},
   "source": [
    "# embarc only"
   ]
  },
  {
   "cell_type": "markdown",
   "id": "51938fbe",
   "metadata": {},
   "source": [
    "### ema"
   ]
  },
  {
   "cell_type": "code",
   "execution_count": null,
   "id": "70ca817f",
   "metadata": {},
   "outputs": [],
   "source": [
    "df_inventory_ema = company_inventory_packages_dataframe_ema\n",
    "df_sales_ema = deduped_sales_receipts_with_transactions_dataframe_ema"
   ]
  },
  {
   "cell_type": "code",
   "execution_count": null,
   "id": "ffe10e42",
   "metadata": {},
   "outputs": [],
   "source": [
    "df_summary_simp_ema,_ = cogs_analysis(df_in,df_sales_ema,'monthly')\n",
    "\n"
   ]
  },
  {
   "cell_type": "code",
   "execution_count": null,
   "id": "bfd6b21e",
   "metadata": {},
   "outputs": [],
   "source": [
    "df_summary_simp_ema"
   ]
  },
  {
   "cell_type": "code",
   "execution_count": null,
   "id": "cf185efb",
   "metadata": {},
   "outputs": [],
   "source": [
    "ema_revenue_vs_state = calculate_quarterly_sum_gmv_ca(df_summary_simp_ema)\n",
    "ema_revenue_vs_state"
   ]
  },
  {
   "cell_type": "code",
   "execution_count": null,
   "id": "14adfccc",
   "metadata": {},
   "outputs": [],
   "source": [
    "round(ema_revenue_vs_state.dropna()['total'].sum(),2)"
   ]
  },
  {
   "cell_type": "markdown",
   "id": "12763c6e",
   "metadata": {},
   "source": [
    "### emm"
   ]
  },
  {
   "cell_type": "code",
   "execution_count": null,
   "id": "9309b61e",
   "metadata": {},
   "outputs": [],
   "source": [
    "df_inventory_emm = company_inventory_packages_dataframe_emm\n",
    "df_sales_emm = deduped_sales_receipts_with_transactions_dataframe_emm"
   ]
  },
  {
   "cell_type": "code",
   "execution_count": null,
   "id": "5b99a55f",
   "metadata": {},
   "outputs": [],
   "source": [
    "df_summary_simp_emm,_ = cogs_analysis(df_in,df_sales_emm,'monthly')\n"
   ]
  },
  {
   "cell_type": "code",
   "execution_count": null,
   "id": "d713ab79",
   "metadata": {},
   "outputs": [],
   "source": [
    "df_summary_simp_emm"
   ]
  },
  {
   "cell_type": "code",
   "execution_count": null,
   "id": "8888302b",
   "metadata": {},
   "outputs": [],
   "source": [
    "emm_revenue_vs_state = calculate_quarterly_sum_gmv_ca(df_summary_simp_emm)\n",
    "emm_revenue_vs_state"
   ]
  },
  {
   "cell_type": "code",
   "execution_count": null,
   "id": "354a45f9",
   "metadata": {},
   "outputs": [],
   "source": [
    "round(emm_revenue_vs_state.dropna()['total'].sum(),2)"
   ]
  },
  {
   "cell_type": "markdown",
   "id": "83638880",
   "metadata": {},
   "source": [
    "### emt"
   ]
  },
  {
   "cell_type": "code",
   "execution_count": null,
   "id": "9bfec513",
   "metadata": {},
   "outputs": [],
   "source": [
    "df_inventory_emt = company_inventory_packages_dataframe_emt\n",
    "df_sales_emt = deduped_sales_receipts_with_transactions_dataframe_emt"
   ]
  },
  {
   "cell_type": "code",
   "execution_count": null,
   "id": "fe7c9702",
   "metadata": {},
   "outputs": [],
   "source": [
    "df_summary_simp_emt,_ = cogs_analysis(df_in,df_sales_emt,'monthly')\n"
   ]
  },
  {
   "cell_type": "code",
   "execution_count": null,
   "id": "0d232c9c",
   "metadata": {},
   "outputs": [],
   "source": [
    "df_summary_simp_emt"
   ]
  },
  {
   "cell_type": "code",
   "execution_count": null,
   "id": "969c03ce",
   "metadata": {},
   "outputs": [],
   "source": [
    "emt_revenue_vs_state = calculate_quarterly_sum_gmv_ca(df_summary_simp_emt)\n",
    "emt_revenue_vs_state"
   ]
  },
  {
   "cell_type": "code",
   "execution_count": null,
   "id": "c28c1451",
   "metadata": {},
   "outputs": [],
   "source": [
    "round(emt_revenue_vs_state.dropna()['total'].sum(),2)"
   ]
  },
  {
   "cell_type": "markdown",
   "id": "9e6e1c4d",
   "metadata": {},
   "source": [
    "### EMF"
   ]
  },
  {
   "cell_type": "code",
   "execution_count": null,
   "id": "56e77dfe",
   "metadata": {},
   "outputs": [],
   "source": [
    "df_inventory_emf = company_inventory_packages_dataframe_emf\n",
    "df_sales_emf = deduped_sales_receipts_with_transactions_dataframe_emf"
   ]
  },
  {
   "cell_type": "code",
   "execution_count": null,
   "id": "d1331450",
   "metadata": {},
   "outputs": [],
   "source": [
    "df_summary_simp_emf,_ = cogs_analysis(df_in,df_sales_emf,'monthly')\n"
   ]
  },
  {
   "cell_type": "code",
   "execution_count": null,
   "id": "7de2868f",
   "metadata": {},
   "outputs": [],
   "source": [
    "df_summary_simp_emf"
   ]
  },
  {
   "cell_type": "code",
   "execution_count": null,
   "id": "8ceedbdb",
   "metadata": {},
   "outputs": [],
   "source": [
    "emf_revenue_vs_state = calculate_quarterly_sum_gmv_ca(df_summary_simp_emf)\n",
    "emf_revenue_vs_state"
   ]
  },
  {
   "cell_type": "code",
   "execution_count": null,
   "id": "0b7068a9",
   "metadata": {},
   "outputs": [],
   "source": [
    "round(emf_revenue_vs_state.dropna()['total'].sum(),2)"
   ]
  },
  {
   "cell_type": "markdown",
   "id": "4cd754eb",
   "metadata": {},
   "source": [
    "## BUD only"
   ]
  },
  {
   "cell_type": "markdown",
   "id": "5a3002e5",
   "metadata": {},
   "source": [
    "### sac"
   ]
  },
  {
   "cell_type": "code",
   "execution_count": null,
   "id": "9022c43d",
   "metadata": {},
   "outputs": [],
   "source": [
    "# df_inventory_sac = company_inventory_packages_dataframe_sac\n",
    "# df_sales_sac = deduped_sales_receipts_with_transactions_dataframe_sac"
   ]
  },
  {
   "cell_type": "code",
   "execution_count": null,
   "id": "e1c9bc88",
   "metadata": {},
   "outputs": [],
   "source": [
    "# df_summary_simp_sac,_ = cogs_analysis(df_in,df_sales_sac,'monthly')"
   ]
  },
  {
   "cell_type": "code",
   "execution_count": null,
   "id": "f2c82214",
   "metadata": {},
   "outputs": [],
   "source": [
    "# sac_revenue_vs_state = calculate_quarterly_sum_gmv_ca(df_summary_simp_sac)\n",
    "# round(sac_revenue_vs_state.dropna()['total'].sum(),2)"
   ]
  },
  {
   "cell_type": "markdown",
   "id": "936c9244",
   "metadata": {},
   "source": [
    "### fresno"
   ]
  },
  {
   "cell_type": "code",
   "execution_count": null,
   "id": "fdc26817",
   "metadata": {},
   "outputs": [],
   "source": [
    "# df_inventory_fresno = company_inventory_packages_dataframe_fresno\n",
    "# df_sales_fresno = deduped_sales_receipts_with_transactions_dataframe_fresno"
   ]
  },
  {
   "cell_type": "code",
   "execution_count": null,
   "id": "cbc91181",
   "metadata": {},
   "outputs": [],
   "source": [
    "# df_summary_simp_fresno,_ = cogs_analysis(df_in,df_sales_fresno,'monthly')"
   ]
  },
  {
   "cell_type": "code",
   "execution_count": null,
   "id": "078b9876",
   "metadata": {},
   "outputs": [],
   "source": [
    "# fresno_revenue_vs_state = calculate_quarterly_sum_gmv_ca(df_summary_simp_fresno)\n",
    "# fresno_revenue_vs_state\n",
    "# round(fresno_revenue_vs_state.dropna()['total'].sum(),2)"
   ]
  },
  {
   "cell_type": "markdown",
   "id": "efa115e4",
   "metadata": {},
   "source": [
    "### LA"
   ]
  },
  {
   "cell_type": "code",
   "execution_count": null,
   "id": "b43912d7",
   "metadata": {},
   "outputs": [],
   "source": [
    "# df_inventory_la = company_inventory_packages_dataframe_la\n",
    "# df_sales_la = deduped_sales_receipts_with_transactions_dataframe_la"
   ]
  },
  {
   "cell_type": "code",
   "execution_count": null,
   "id": "561baef2",
   "metadata": {},
   "outputs": [],
   "source": [
    "# df_summary_simp_la,_ = cogs_analysis(df_in,df_sales_la,'monthly')"
   ]
  },
  {
   "cell_type": "code",
   "execution_count": null,
   "id": "dea4914a",
   "metadata": {},
   "outputs": [],
   "source": [
    "# la_revenue_vs_state = calculate_quarterly_sum_gmv_ca(df_summary_simp_la)\n",
    "# la_revenue_vs_state\n",
    "# round(la_revenue_vs_state.dropna()['total'].sum(),2)"
   ]
  },
  {
   "cell_type": "markdown",
   "id": "ec024f55",
   "metadata": {},
   "source": [
    "# Inventory"
   ]
  },
  {
   "cell_type": "code",
   "execution_count": null,
   "id": "298ac0f2",
   "metadata": {},
   "outputs": [],
   "source": [
    "today = date.today()\n",
    "today"
   ]
  },
  {
   "cell_type": "code",
   "execution_count": null,
   "id": "bd64953d",
   "metadata": {},
   "outputs": [],
   "source": [
    "COMPANY_IDENTIFIER"
   ]
  },
  {
   "cell_type": "code",
   "execution_count": null,
   "id": "7178d8cc",
   "metadata": {},
   "outputs": [],
   "source": [
    "license_numbers"
   ]
  },
  {
   "cell_type": "code",
   "execution_count": null,
   "id": "8bc48508",
   "metadata": {},
   "outputs": [],
   "source": [
    "def calculate_inventory_valuation(incoming_transfer_df,inventory_df,license_list):\n",
    "    # legal name\n",
    "    legal_name = incoming_transfer_df[incoming_transfer_df['license_number'].isin(license_list)]['recipient_facility_name'].values[0]\n",
    "    # process df_in and df_sales\n",
    "    incoming_transfer_df['per_unit_incoming'] = incoming_transfer_df['shipper_wholesale_price'] / incoming_transfer_df['shipped_quantity']\n",
    "    incoming_transfer_df_price = incoming_transfer_df[incoming_transfer_df['shipper_wholesale_price'].notnull()]\n",
    "    # by package id\n",
    "    average_incoming_package_id = incoming_transfer_df_price.groupby(['package_id'])['per_unit_incoming'].mean()\n",
    "    df_avg_incoming_price = pd.Series(average_incoming_package_id).to_frame()\n",
    "    df_avg_incoming_price = df_avg_incoming_price.reset_index()\n",
    "    # by product\n",
    "    average_incoming_product = incoming_transfer_df_price.groupby(['product_name'])['per_unit_incoming'].mean()\n",
    "    df_avg_product = pd.Series(average_incoming_product).to_frame()\n",
    "    df_avg_product = df_avg_product.reset_index()\n",
    "    df_avg_product.rename(columns={'per_unit_incoming':'per_unit_product'}, inplace=True)\n",
    "    #calculate inventory\n",
    "    df_inventory_incoming = pd.merge(inventory_df, df_avg_incoming_price, left_on=['package_id'],right_on = ['package_id'], how='left')\n",
    "    #left_on=['tx_product_name','tx_unit_of_measure'], right_on=['product_name','shipped_unit_of_measure'], how='left'\n",
    "    df_inventory_incoming.replace([numpy.inf], numpy.nan, inplace=True)\n",
    "    df_inv_null = df_inventory_incoming[df_inventory_incoming['per_unit_incoming'].isnull()]\n",
    "    df_inv_product = pd.merge(df_inv_null, df_avg_product, left_on=['product_name'],right_on = ['product_name'], how='left')\n",
    "    df_inv_product.replace([numpy.inf], numpy.nan, inplace=True)\n",
    "    df_inv_product_price = df_inv_product[df_inv_product['per_unit_product'].notnull()]\n",
    "    df_inv_product_price['total_price'] = df_inv_product_price['quantity'] * df_inv_product_price['per_unit_product']\n",
    "    \n",
    "    inventory_product_value = df_inv_product_price['total_price'].sum()\n",
    "    df_inventory_incoming['total_price'] = df_inventory_incoming['quantity'] * df_inventory_incoming['per_unit_incoming']\n",
    "    inventory_value = df_inventory_incoming['total_price'].sum()\n",
    "    total_inv_value = inventory_product_value + inventory_value\n",
    "    total_inv_value_after_tax = (inventory_product_value + inventory_value) * 1.27\n",
    "    inv_count_product = df_inv_product_price['per_unit_product'].count()\n",
    "    inv_count_incoming = df_inventory_incoming['per_unit_incoming'].count()\n",
    "    inv_count_total = df_inventory_incoming['quantity'].count()\n",
    "    inv_total_incoming = inv_count_product + inv_count_incoming\n",
    "    inventory_coverage = inv_total_incoming / inv_count_total\n",
    "    # prepare data\n",
    "    data = [[today], \n",
    "            [total_inv_value], \n",
    "            [total_inv_value_after_tax],\n",
    "            [inv_total_incoming], \n",
    "            [inv_count_total], \n",
    "            [inventory_coverage],\n",
    "            [license_list],\n",
    "            [legal_name]]\n",
    "    df_inventory_license = pd.DataFrame(data).T\n",
    "    df_inventory_license.columns = ['date','value','value_after_tax','total_incoming','total','coverage','license','legal_name']\n",
    "    return df_inventory_license\n",
    "    "
   ]
  },
  {
   "cell_type": "code",
   "execution_count": null,
   "id": "30c93c88",
   "metadata": {},
   "outputs": [],
   "source": [
    "def calculate_msrp_based_inventory_valuation(incoming_transfer_df,sales_df,inventory_df,license_list):\n",
    "    # legal name\n",
    "    legal_name = incoming_transfer_df[incoming_transfer_df['license_number'].isin(license_list)]['recipient_facility_name'].values[0]\n",
    "    # process df_in and df_sales\n",
    "    sales_df['per_unit'] = sales_df['tx_total_price'] / sales_df['tx_quantity_sold']\n",
    "    sales_df['year_month'] = sales_df['sales_datetime'].dt.strftime(\"%Y-%m\")    \n",
    "    # per unit msrp by package id\n",
    "    df_msrp = sales_df[sales_df['tx_total_price'].notnull()]\n",
    "    average_msrp_package_id = df_msrp.groupby('tx_package_id')['per_unit'].mean()\n",
    "    df_avg_msrp_package_id = pd.Series(average_msrp_package_id).to_frame()\n",
    "    df_avg_msrp_package_id = df_avg_msrp_package_id.reset_index()\n",
    "    # per unit msrp by product name\n",
    "    average_msrp_product = df_msrp.groupby('tx_product_name')['per_unit'].mean()\n",
    "    df_avg_msrp_product = pd.Series(average_msrp_product).to_frame()\n",
    "    df_avg_msrp_product = df_avg_msrp_product.reset_index()\n",
    "    df_avg_msrp_product.rename(columns={'per_unit':'per_unit_product'}, inplace=True)\n",
    "    \n",
    "    #calculate inventory\n",
    "    #merge with per unit msrp by package id\n",
    "    df_inventory_package_id = pd.merge(inventory_df, df_avg_msrp_package_id, left_on=['package_id'],right_on = ['tx_package_id'], how='left')\n",
    "    df_inventory_package_id.replace([numpy.inf], numpy.nan, inplace=True)\n",
    "    # merge with per unit msrp by product\n",
    "    df_inv_null = df_inventory_package_id[df_inventory_package_id['per_unit'].isnull()]\n",
    "    df_inv_product = pd.merge(df_inv_null, df_avg_msrp_product, left_on=['product_name'],right_on = ['tx_product_name'], how='left')\n",
    "    df_inv_product.replace([numpy.inf], numpy.nan, inplace=True)\n",
    "    df_inv_product_price = df_inv_product[df_inv_product['per_unit_product'].notnull()]\n",
    "    df_inv_product_price['total_price'] = df_inv_product_price['quantity'] * df_inv_product_price['per_unit_product']\n",
    "    inventory_product_value = df_inv_product_price['total_price'].sum()\n",
    "    \n",
    "    df_inventory_package_id['total_price'] = df_inventory_package_id['quantity'] * df_inventory_package_id['per_unit']\n",
    "    inventory_package_id_value = df_inventory_package_id['total_price'].sum()\n",
    "    total_inv_value = inventory_product_value + inventory_package_id_value\n",
    "    inv_count_product = df_inv_product_price['per_unit_product'].count()\n",
    "    inv_count_package_id = df_inventory_package_id['per_unit'].count()\n",
    "    inv_count_total = df_inventory_package_id['quantity'].count()\n",
    "    inv_total_mapped = inv_count_product + inv_count_package_id\n",
    "    inventory_coverage = inv_total_mapped / inv_count_total\n",
    "    # prepare data\n",
    "    data = [[today], \n",
    "            [total_inv_value], \n",
    "            [inv_total_mapped], \n",
    "            [inv_count_total], \n",
    "            [inventory_coverage],\n",
    "            [license_list],\n",
    "            [legal_name]\n",
    "            ]\n",
    "    df_inventory_license = pd.DataFrame(data).T\n",
    "    df_inventory_license.columns = ['date','value','total_incoming','total','coverage','license','legal_name']\n",
    "    return df_inventory_license\n",
    "    "
   ]
  },
  {
   "cell_type": "markdown",
   "id": "d4037d15",
   "metadata": {},
   "source": [
    "## embarc only"
   ]
  },
  {
   "cell_type": "code",
   "execution_count": null,
   "id": "99417777",
   "metadata": {},
   "outputs": [],
   "source": [
    "df_inventory_license_ema_msrp = calculate_msrp_based_inventory_valuation(df_in,df_sales_ema,df_inventory_ema,['C10-0000774-LIC'])\n",
    "df_inventory_license_emm_msrp = calculate_msrp_based_inventory_valuation(df_in,df_sales_emm,df_inventory_emm,['C10-0000786-LIC'])\n",
    "df_inventory_license_emt_msrp = calculate_msrp_based_inventory_valuation(df_in,df_sales_emt,df_inventory_emt,['C10-0000695-LIC'])\n",
    "df_inventory_license_emf_msrp = calculate_msrp_based_inventory_valuation(df_in,df_sales_emf,df_inventory_emf,['C10-0000939-LIC'])"
   ]
  },
  {
   "cell_type": "code",
   "execution_count": null,
   "id": "e555fb32",
   "metadata": {},
   "outputs": [],
   "source": [
    "df_inventory_license_ema_msrp"
   ]
  },
  {
   "cell_type": "code",
   "execution_count": null,
   "id": "e9e56e19",
   "metadata": {},
   "outputs": [],
   "source": [
    "df_inventory_license_ema = calculate_inventory_valuation(df_in,df_inventory_ema,['C10-0000774-LIC'])\n",
    "df_inventory_license_emm = calculate_inventory_valuation(df_in,df_inventory_emm,['C10-0000786-LIC'])\n",
    "df_inventory_license_emt = calculate_inventory_valuation(df_in,df_inventory_emt,['C10-0000695-LIC'])\n",
    "df_inventory_license_emf = calculate_inventory_valuation(df_in,df_inventory_emf,['C10-0000939-LIC'])"
   ]
  },
  {
   "cell_type": "code",
   "execution_count": null,
   "id": "6e0467ff",
   "metadata": {},
   "outputs": [],
   "source": [
    "df_inventory_license_ema"
   ]
  },
  {
   "cell_type": "markdown",
   "id": "0a0ec4ea",
   "metadata": {},
   "source": [
    "##  bud only"
   ]
  },
  {
   "cell_type": "code",
   "execution_count": null,
   "id": "96eddfe2",
   "metadata": {},
   "outputs": [],
   "source": [
    "# df_inventory_license_sac = calculate_inventory_valuation(df_in,df_sales_sac,df_inventory_sac,['C9-0000399-LIC'])\n",
    "# df_inventory_license_fresno = calculate_inventory_valuation(df_in,df_sales_fresno,df_inventory_fresno,['C9-0000467-LIC'])\n",
    "# df_inventory_license_la = calculate_inventory_valuation(df_in,df_sales_la,df_inventory_la,['C9-0000464-LIC'])\n",
    "\n"
   ]
  },
  {
   "cell_type": "code",
   "execution_count": null,
   "id": "a7fa7dd4",
   "metadata": {},
   "outputs": [],
   "source": [
    "# df_inventory_license_sac"
   ]
  },
  {
   "cell_type": "markdown",
   "id": "49d89a79",
   "metadata": {},
   "source": [
    "## For others"
   ]
  },
  {
   "cell_type": "code",
   "execution_count": null,
   "id": "21ca80d4",
   "metadata": {},
   "outputs": [],
   "source": [
    "df_inventory_license = calculate_inventory_valuation(df_in,df_inventory,license_numbers)"
   ]
  },
  {
   "cell_type": "code",
   "execution_count": null,
   "id": "1a63eef1",
   "metadata": {},
   "outputs": [],
   "source": [
    "df_inventory_license"
   ]
  },
  {
   "cell_type": "code",
   "execution_count": null,
   "id": "556abe59",
   "metadata": {},
   "outputs": [],
   "source": [
    "df_inventory_license_msrp = calculate_msrp_based_inventory_valuation(df_in,df_sales,df_inventory,license_numbers)"
   ]
  },
  {
   "cell_type": "code",
   "execution_count": null,
   "id": "7b7ba5a2",
   "metadata": {},
   "outputs": [],
   "source": [
    "df_inventory_license_msrp"
   ]
  },
  {
   "cell_type": "markdown",
   "id": "4d31d1df",
   "metadata": {},
   "source": [
    "# Create Template"
   ]
  },
  {
   "cell_type": "code",
   "execution_count": null,
   "id": "16256c8f",
   "metadata": {},
   "outputs": [],
   "source": [
    "current_month = '2022-03'"
   ]
  },
  {
   "cell_type": "markdown",
   "id": "fa2be8e0",
   "metadata": {},
   "source": [
    "# Create Template: updated"
   ]
  },
  {
   "cell_type": "code",
   "execution_count": null,
   "id": "396194f6",
   "metadata": {},
   "outputs": [],
   "source": [
    "def get_gm_perc_thresholds(state):\n",
    "    if state == 'CA':\n",
    "        return [[0.41,0.47,0.56],[0.41,0.47,0.56],[0.42,0.48,0.56]]\n",
    "    elif state == 'CO':\n",
    "        return [[0.48,0.57,0.63],[0.48,0.57,0.63],[0.49,0.57,0.62]]\n",
    "    elif state == 'MI':\n",
    "        return [[0.43,0.48,0.54],[0.49,0.53,0.57],[0.54,0.56,0.58]]\n",
    "    elif state == 'MA':\n",
    "        return [[0.53,0.54,0.56],[0.54,0.54,0.56],[0.53,0.53,0.55]]\n",
    "    else:\n",
    "        return None\n",
    "        "
   ]
  },
  {
   "cell_type": "code",
   "execution_count": null,
   "id": "878bbd30",
   "metadata": {},
   "outputs": [],
   "source": [
    "def get_gm_perc_scores(threshold,gm_3,gm_6,gm_9):\n",
    "    # 3m score\n",
    "    if gm_3 <= threshold[0][0]:\n",
    "        score_3m = -2\n",
    "    elif threshold[0][0] < gm_3 <= threshold[0][1]:\n",
    "        score_3m = 0\n",
    "    elif threshold[0][1] < gm_3 <= threshold[0][2]:\n",
    "        score_3m = 5\n",
    "    elif gm_3 > threshold[0][2]:\n",
    "        score_3m = 5\n",
    "    else:\n",
    "        score_3m = 0\n",
    "    # 6m score\n",
    "    if gm_6 <= threshold[1][0]:\n",
    "        score_6m = -2\n",
    "    elif threshold[1][0] < gm_6 <= threshold[1][1]:\n",
    "        score_6m = 0\n",
    "    elif threshold[1][1] < gm_6 <= threshold[1][2]:\n",
    "        score_6m = 5\n",
    "    elif gm_6 > threshold[1][2]:\n",
    "        score_6m = 5\n",
    "    else:\n",
    "        score_6m = 0\n",
    "    # 9m score\n",
    "    if gm_9 <= threshold[2][0]:\n",
    "        score_9m = -2\n",
    "    elif threshold[2][0] < gm_9 <= threshold[2][1]:\n",
    "        score_9m = 0\n",
    "    elif threshold[2][1] < gm_9 <= threshold[2][2]:\n",
    "        score_9m = 5\n",
    "    elif gm_9 > threshold[2][2]:\n",
    "        score_9m = 5\n",
    "    else:\n",
    "        score_9m = 0\n",
    "    return score_3m,score_6m,score_9m\n",
    "    "
   ]
  },
  {
   "cell_type": "code",
   "execution_count": null,
   "id": "a5ba9543",
   "metadata": {},
   "outputs": [],
   "source": [
    "# create template file with after tax inventory valuation and also credit limit\n",
    "def create_template_new(df_rev_vs_state,df_cogs_analysis,df_inventory_analysis,df_inventory_analysis_msrp,df_churn,df_license_check,license_list,state_):\n",
    "    #legal name\n",
    "    legal_name = df_inventory_analysis['legal_name'][0]\n",
    "    # cogs coverage check\n",
    "    metrc_cogs_coverage_current = df_cogs_analysis[df_cogs_analysis['coverage'] > 0]['coverage'].mean()\n",
    "    metrc_cogs_coverage_current_reliable = metrc_cogs_coverage_current > 0.75\n",
    "    print(metrc_cogs_coverage_current,metrc_cogs_coverage_current_reliable)\n",
    "    \n",
    "    # inventory coverage check\n",
    "    metrc_inventory_coverage_current = df_inventory_analysis.coverage.values[0]\n",
    "    metrc_inventory_coverage_current_reliable = metrc_inventory_coverage_current > 0.75\n",
    "    print(metrc_inventory_coverage_current,metrc_inventory_coverage_current_reliable)\n",
    "    \n",
    "    # inventory TO\n",
    "    inventory_to_current = df_cogs_analysis.loc[current_month]['sum_cogs_past_3months'] / df_inventory_analysis.value[0] * 4\n",
    "    inventory_to_current_score = 0 if inventory_to_current < 6 else 10\n",
    "    print(inventory_to_current,inventory_to_current_score)\n",
    "    \n",
    "    #inventory valuation\n",
    "    inventory = df_inventory_analysis['value'][0]\n",
    "    if state_ == 'CA':\n",
    "        inventory_after_tax = df_inventory_analysis['value_after_tax'][0]\n",
    "        sum_cogs_past_3months_after_tax = df_cogs_analysis['sum_cogs_past_3months'].loc[current_month] * 1.27\n",
    "    else:\n",
    "        inventory_after_tax = inventory\n",
    "        sum_cogs_past_3months_after_tax = df_cogs_analysis['sum_cogs_past_3months'].loc[current_month] \n",
    "        \n",
    "    #inventory valuation msrp based\n",
    "    inventory_msrp = df_inventory_analysis_msrp['value'][0]\n",
    "    \n",
    "    # past 3m cogs with tax\n",
    "    \n",
    "    sum_cogs_past_3months = df_cogs_analysis['sum_cogs_past_3months'].loc[current_month] \n",
    "        \n",
    "    # credit limit\n",
    "    credit_limit = round(min(sum_cogs_past_3months_after_tax,inventory_after_tax),-4)\n",
    "    \n",
    "    # vendor churn score\n",
    "    vendor_churn_current = df_churn.loc[current_month]['%_inactive'].values[0]\n",
    "    vendor_churn_current_score = 0 if vendor_churn_current > 0.2 else 10\n",
    "    print(vendor_churn_current,vendor_churn_current_score)\n",
    "    # margin score\n",
    "    if df_cogs_analysis.shape[0] < 10:\n",
    "        gm_past_quarter = df_cogs_analysis.loc[current_month]['gm_final']\n",
    "        gm_past_2quarters = df_cogs_analysis.shift(1).loc[current_month]['gm_final']\n",
    "        gm_past_3quarters = df_cogs_analysis.shift(2).loc[current_month]['gm_final']\n",
    "    else:\n",
    "        # gm past 1,2,3 quarters (after tax if CA else pre tax)\n",
    "        gm_past_quarter = df_cogs_analysis.loc[current_month]['gm_past_quarter_final']\n",
    "        gm_past_2quarters = df_cogs_analysis.loc[current_month]['gm_past_2quarters_final']\n",
    "        gm_past_3quarters = df_cogs_analysis.loc[current_month]['gm_past_3quarters_final']\n",
    "\n",
    "    gm_past_quarter_score,gm_past_2quarters_score,gm_past_3quarters_score = get_gm_perc_scores(get_gm_perc_thresholds(state_),\\\n",
    "                                                                                              gm_past_quarter,\\\n",
    "                                                                                              gm_past_2quarters,\\\n",
    "                                                                                              gm_past_3quarters)\n",
    "    # revenue vs state score\n",
    "    revenue_state_score = min(round(df_rev_vs_state.dropna()['total'].sum(),2),10)\n",
    "    \n",
    "    # all templates\n",
    "    template_data = pd.DataFrame([\n",
    "              ['legal name',legal_name],\n",
    "              ['date',current_month],\n",
    "              ['license',license_list],\n",
    "              ['license is current',df_license_check[df_license_check['license_number'].isin(license_list)].reset_index().is_current[0]],\n",
    "              ['license is active',df_license_check[df_license_check['license_number'].isin(license_list)].reset_index().license_status[0]],\n",
    "              ['license check',df_license_check[df_license_check['license_number'].isin(license_list)].reset_index().license_check[0]],\n",
    "              ['metrc cogs coverage',metrc_cogs_coverage_current],\n",
    "              ['metrc cogs coverage reliable ?',metrc_cogs_coverage_current_reliable],\n",
    "              ['metrc inventory coverage',metrc_inventory_coverage_current],\n",
    "              ['metrc inventory coverage reliable ?',metrc_inventory_coverage_current_reliable],\n",
    "              ['inventory turnover',inventory_to_current],\n",
    "              ['inventory turnover score',inventory_to_current_score],\n",
    "              # gm\n",
    "              ['GM past quarter',gm_past_quarter],\n",
    "              ['GM score past quarter',gm_past_quarter_score],\n",
    "              ['GM past 2 quarters',gm_past_2quarters],\n",
    "              ['GM score past 2 quarters',gm_past_2quarters_score],\n",
    "              ['GM past 3 quarters',gm_past_3quarters],\n",
    "              ['GM score past 3 quarters',gm_past_3quarters_score],\n",
    "              # vendor churn\n",
    "              ['vendor churn',vendor_churn_current],\n",
    "              ['vendor churn score',vendor_churn_current_score],\n",
    "              # revenue trend vs state\n",
    "              ['revenue vs state change score',revenue_state_score],\n",
    "              # inventory valuation\n",
    "              ['inventory valuation',round(inventory,2)],\n",
    "              ['inventory valuation after tax (CA only)',round(inventory_after_tax,2)],\n",
    "              # inventory valuation msrp based\n",
    "              ['inventory valuation (msrp based)',round(inventory_msrp,2)],\n",
    "              # sum past 3m cogs afte tax\n",
    "              ['sum_cogs_past_3months',round(sum_cogs_past_3months,2)],\n",
    "              ['sum_cogs_past_3months after tax (CA only)',round(sum_cogs_past_3months_after_tax,2)],\n",
    "\n",
    "              # total score\n",
    "              ['total score',inventory_to_current_score+gm_past_quarter_score+gm_past_2quarters_score+gm_past_3quarters_score+\\\n",
    "              vendor_churn_current_score+revenue_state_score],\n",
    "              ['credit limit',credit_limit],\n",
    "        \n",
    "        \n",
    "             ])\n",
    "    return template_data\n"
   ]
  },
  {
   "cell_type": "markdown",
   "id": "e1131c4e",
   "metadata": {},
   "source": [
    "## embarc only"
   ]
  },
  {
   "cell_type": "code",
   "execution_count": null,
   "id": "85ff19a7",
   "metadata": {},
   "outputs": [],
   "source": [
    "company_licenses_dataframe"
   ]
  },
  {
   "cell_type": "code",
   "execution_count": null,
   "id": "75e2f680",
   "metadata": {},
   "outputs": [],
   "source": [
    "tempalte_ema = create_template_new(ema_revenue_vs_state,df_summary_simp_ema,df_inventory_license_ema,df_inventory_license_ema_msrp,churn_ema_short,retial_license_check_df,['C10-0000774-LIC'],\\\n",
    "                               company_state)\n",
    "tempalte_ema\n",
    "\n"
   ]
  },
  {
   "cell_type": "code",
   "execution_count": null,
   "id": "e103c7a3",
   "metadata": {},
   "outputs": [],
   "source": [
    "tempalte_emm = create_template_new(emm_revenue_vs_state,df_summary_simp_emm,df_inventory_license_emm,df_inventory_license_emm_msrp,churn_emm_short,retial_license_check_df,['C10-0000786-LIC'],\\\n",
    "                                   company_state)\n",
    "tempalte_emm\n",
    "\n"
   ]
  },
  {
   "cell_type": "code",
   "execution_count": null,
   "id": "fbfcdce3",
   "metadata": {},
   "outputs": [],
   "source": [
    "tempalte_emt = create_template_new(emt_revenue_vs_state,df_summary_simp_emt,df_inventory_license_emt,df_inventory_license_emt_msrp,churn_emt_short,retial_license_check_df,['C10-0000695-LIC'],\\\n",
    "company_state)\n",
    "tempalte_emt\n",
    "\n"
   ]
  },
  {
   "cell_type": "code",
   "execution_count": null,
   "id": "bf824d20",
   "metadata": {},
   "outputs": [],
   "source": [
    "df_summary_simp_emf"
   ]
  },
  {
   "cell_type": "code",
   "execution_count": null,
   "id": "5c298583",
   "metadata": {},
   "outputs": [],
   "source": [
    "tempalte_emf = create_template_new(emf_revenue_vs_state,df_summary_simp_emf,df_inventory_license_emf,df_inventory_license_emf_msrp,churn_emf_short,retial_license_check_df,['C10-0000939-LIC'],\\\n",
    "company_state)\n",
    "tempalte_emf\n",
    "\n"
   ]
  },
  {
   "cell_type": "markdown",
   "id": "c8e24b29",
   "metadata": {},
   "source": [
    "## BUD only"
   ]
  },
  {
   "cell_type": "code",
   "execution_count": null,
   "id": "0d2481b7",
   "metadata": {},
   "outputs": [],
   "source": [
    "# tempalte_sac = create_template(sac_revenue_vs_state,df_summary_simp_sac,df_inventory_license_sac,churn_sac,retial_license_check_df,['C9-0000399-LIC'])\n",
    "# tempalte_sac\n",
    "\n",
    "\n",
    "# # SAC\n",
    "# license_number = 'C9-0000399-LIC'\n",
    "# COMPANY_IDENTIFIER = 'BUD_sac'\n",
    "# tempalte_sac.to_csv('../analysis/surveillance/'+COMPANY_IDENTIFIER+'/'+current_month + '/template/' + COMPANY_IDENTIFIER + '_'+ str(today) + '_' +license_number +'_template_test.csv')\n",
    "\n",
    "\n"
   ]
  },
  {
   "cell_type": "code",
   "execution_count": null,
   "id": "ca12d5f4",
   "metadata": {},
   "outputs": [],
   "source": [
    "# tempalte_fresno = create_template(fresno_revenue_vs_state,df_summary_simp_fresno,df_inventory_license_fresno,churn_fresno,retial_license_check_df,['C9-0000467-LIC'])\n",
    "# tempalte_fresno\n",
    "\n",
    "\n",
    "# # fresno\n",
    "# license_number = 'C9-0000467-LIC'\n",
    "# COMPANY_IDENTIFIER = 'BUD_fresno'\n",
    "# tempalte_fresno.to_csv('../analysis/surveillance/'+COMPANY_IDENTIFIER+'/'+current_month + '/template/' + COMPANY_IDENTIFIER + '_'+ str(today) + '_' +license_number +'_template_test.csv')\n",
    "\n"
   ]
  },
  {
   "cell_type": "code",
   "execution_count": null,
   "id": "cda965f5",
   "metadata": {},
   "outputs": [],
   "source": [
    "# tempalte_la = create_template(la_revenue_vs_state,df_summary_simp_la,df_inventory_license_la,churn_la,retial_license_check_df,['C9-0000464-LIC'])\n",
    "# tempalte_la\n",
    "\n",
    "# # la\n",
    "# license_number = 'C9-0000464-LIC'\n",
    "# COMPANY_IDENTIFIER = 'BUD_la'\n",
    "# tempalte_la.to_csv('../analysis/surveillance/'+COMPANY_IDENTIFIER+'/'+current_month + '/template/' + COMPANY_IDENTIFIER + '_'+ str(today) + '_' +license_number +'_template_test.csv')\n",
    "\n",
    "\n"
   ]
  },
  {
   "cell_type": "markdown",
   "id": "2992b1c3",
   "metadata": {},
   "source": [
    "## For others"
   ]
  },
  {
   "cell_type": "code",
   "execution_count": null,
   "id": "c24cd3eb",
   "metadata": {},
   "outputs": [],
   "source": [
    "license_numbers"
   ]
  },
  {
   "cell_type": "code",
   "execution_count": null,
   "id": "e1560d01",
   "metadata": {},
   "outputs": [],
   "source": [
    "template_new_ = create_template_new(a,df_summary_simp,df_inventory_license,df_inventory_license_msrp,churn_short,retial_license_check_df,license_numbers,company_state)\n",
    "\n"
   ]
  },
  {
   "cell_type": "code",
   "execution_count": null,
   "id": "011b5be2",
   "metadata": {},
   "outputs": [],
   "source": [
    "template_new_"
   ]
  },
  {
   "cell_type": "markdown",
   "id": "cd8b1dd5",
   "metadata": {},
   "source": [
    "# Output data "
   ]
  },
  {
   "cell_type": "code",
   "execution_count": null,
   "id": "a4f8210c",
   "metadata": {},
   "outputs": [],
   "source": [
    "license_numbers"
   ]
  },
  {
   "cell_type": "markdown",
   "id": "109d32fa",
   "metadata": {},
   "source": [
    "## embarc"
   ]
  },
  {
   "cell_type": "code",
   "execution_count": null,
   "id": "4521e67c",
   "metadata": {},
   "outputs": [],
   "source": [
    "# ema\n",
    "license_number = 'C10-0000774-LIC'\n",
    "COMPANY_IDENTIFIER = 'EMA'\n",
    "tempalte_ema.to_csv('../analysis/surveillance/'+COMPANY_IDENTIFIER+'/'+current_month + '/template/' + COMPANY_IDENTIFIER + '_'+ str(today) + '_' +license_number +'_template.csv')\n",
    "df_inventory_license_ema.to_csv('../analysis/surveillance/'+COMPANY_IDENTIFIER+'/'+current_month +'/INV/' + COMPANY_IDENTIFIER + '_'+ str(today) + '_' +license_number +'_inventory_val.csv')\n",
    "df_inventory_license_ema_msrp.to_csv('../analysis/surveillance/'+COMPANY_IDENTIFIER+'/'+current_month +'/INV/' + COMPANY_IDENTIFIER + '_'+ str(today) + '_' +license_number +'_inventory_val_msrp.csv')\n",
    "df_summary_simp_ema.to_csv('surveillance/'+COMPANY_IDENTIFIER+'/'+current_month +'/COGS/' + COMPANY_IDENTIFIER + '_'+ VC_END_DATE + '_' +license_number +'_cogs.csv')\n",
    "vc_matrix_ema_short.to_csv('surveillance/'+COMPANY_IDENTIFIER+'/'+current_month +'/VC/' + COMPANY_IDENTIFIER + '_'+ VC_END_DATE + '_' +license_number +'_vc_matrix.csv')\n",
    "churn_ema_short.to_csv('surveillance/'+COMPANY_IDENTIFIER+'/'+current_month +'/VC/' + COMPANY_IDENTIFIER + '_'+ VC_END_DATE + '_' +license_number +'_vc.csv')\n",
    "ema_revenue_vs_state.to_csv('surveillance/'+COMPANY_IDENTIFIER+'/'+current_month +'/rev_change_vs_state/' + COMPANY_IDENTIFIER + '_'+ VC_END_DATE + '_' +license_number +'_rev_change_vs_state.csv')\n",
    "\n"
   ]
  },
  {
   "cell_type": "code",
   "execution_count": null,
   "id": "e9b1bd6b",
   "metadata": {},
   "outputs": [],
   "source": [
    "# emm\n",
    "license_number = 'C10-0000786-LIC'\n",
    "COMPANY_IDENTIFIER = 'EMM'\n",
    "tempalte_emm.to_csv('../analysis/surveillance/'+COMPANY_IDENTIFIER+'/'+current_month + '/template/' + COMPANY_IDENTIFIER + '_'+ str(today) + '_' +license_number +'_template.csv')\n",
    "df_inventory_license_emm.to_csv('../analysis/surveillance/'+COMPANY_IDENTIFIER+'/'+current_month +'/INV/' + COMPANY_IDENTIFIER + '_'+ str(today) + '_' +license_number +'_inventory_val.csv')\n",
    "df_inventory_license_emm_msrp.to_csv('../analysis/surveillance/'+COMPANY_IDENTIFIER+'/'+current_month +'/INV/' + COMPANY_IDENTIFIER + '_'+ str(today) + '_' +license_number +'_inventory_val_msrp.csv')\n",
    "df_summary_simp_emm.to_csv('surveillance/'+COMPANY_IDENTIFIER+'/'+current_month +'/COGS/' + COMPANY_IDENTIFIER + '_'+ VC_END_DATE + '_' +license_number +'_cogs.csv')\n",
    "vc_matrix_emm_short.to_csv('surveillance/'+COMPANY_IDENTIFIER+'/'+current_month +'/VC/' + COMPANY_IDENTIFIER + '_'+ VC_END_DATE + '_' +license_number +'_vc_matrix.csv')\n",
    "churn_emm_short.to_csv('surveillance/'+COMPANY_IDENTIFIER+'/'+current_month +'/VC/' + COMPANY_IDENTIFIER + '_'+ VC_END_DATE + '_' +license_number +'_vc.csv')\n",
    "emm_revenue_vs_state.to_csv('surveillance/'+COMPANY_IDENTIFIER+'/'+current_month +'/rev_change_vs_state/' + COMPANY_IDENTIFIER + '_'+ VC_END_DATE + '_' +license_number +'_rev_change_vs_state.csv')\n",
    "\n"
   ]
  },
  {
   "cell_type": "code",
   "execution_count": null,
   "id": "c3b35c83",
   "metadata": {},
   "outputs": [],
   "source": [
    "# emt\n",
    "license_number = 'C10-0000695-LIC'\n",
    "COMPANY_IDENTIFIER = 'EMT'\n",
    "tempalte_emt.to_csv('../analysis/surveillance/'+COMPANY_IDENTIFIER+'/'+current_month + '/template/' + COMPANY_IDENTIFIER + '_'+ str(today) + '_' +license_number +'_template.csv')\n",
    "df_inventory_license_emt.to_csv('../analysis/surveillance/'+COMPANY_IDENTIFIER+'/'+current_month +'/INV/' + COMPANY_IDENTIFIER + '_'+ str(today) + '_' +license_number +'_inventory_val.csv')\n",
    "df_inventory_license_emt_msrp.to_csv('../analysis/surveillance/'+COMPANY_IDENTIFIER+'/'+current_month +'/INV/' + COMPANY_IDENTIFIER + '_'+ str(today) + '_' +license_number +'_inventory_val_msrp.csv')\n",
    "\n",
    "df_summary_simp_emt.to_csv('surveillance/'+COMPANY_IDENTIFIER+'/'+current_month +'/COGS/' + COMPANY_IDENTIFIER + '_'+ VC_END_DATE + '_' +license_number +'_cogs.csv')\n",
    "vc_matrix_emt_short.to_csv('surveillance/'+COMPANY_IDENTIFIER+'/'+current_month +'/VC/' + COMPANY_IDENTIFIER + '_'+ VC_END_DATE + '_' +license_number +'_vc_matrix.csv')\n",
    "churn_emt_short.to_csv('surveillance/'+COMPANY_IDENTIFIER+'/'+current_month +'/VC/' + COMPANY_IDENTIFIER + '_'+ VC_END_DATE + '_' +license_number +'_vc.csv')\n",
    "emt_revenue_vs_state.to_csv('surveillance/'+COMPANY_IDENTIFIER+'/'+current_month +'/rev_change_vs_state/' + COMPANY_IDENTIFIER + '_'+ VC_END_DATE + '_' +license_number +'_rev_change_vs_state.csv')\n",
    "\n"
   ]
  },
  {
   "cell_type": "code",
   "execution_count": null,
   "id": "8853282a",
   "metadata": {},
   "outputs": [],
   "source": [
    "# emf\n",
    "license_number = 'C10-0000939-LIC'\n",
    "COMPANY_IDENTIFIER = 'EMF'\n",
    "tempalte_emf.to_csv('../analysis/surveillance/'+COMPANY_IDENTIFIER+'/'+current_month + '/template/' + COMPANY_IDENTIFIER + '_'+ str(today) + '_' +license_number +'_template.csv')\n",
    "df_inventory_license_emf.to_csv('../analysis/surveillance/'+COMPANY_IDENTIFIER+'/'+current_month +'/INV/' + COMPANY_IDENTIFIER + '_'+ str(today) + '_' +license_number +'_inventory_val.csv')\n",
    "df_inventory_license_emf_msrp.to_csv('../analysis/surveillance/'+COMPANY_IDENTIFIER+'/'+current_month +'/INV/' + COMPANY_IDENTIFIER + '_'+ str(today) + '_' +license_number +'_inventory_val_msrp.csv')\n",
    "\n",
    "df_summary_simp_emf.to_csv('surveillance/'+COMPANY_IDENTIFIER+'/'+current_month +'/COGS/' + COMPANY_IDENTIFIER + '_'+ VC_END_DATE + '_' +license_number +'_cogs.csv')\n",
    "vc_matrix_emf_short.to_csv('surveillance/'+COMPANY_IDENTIFIER+'/'+current_month +'/VC/' + COMPANY_IDENTIFIER + '_'+ VC_END_DATE + '_' +license_number +'_vc_matrix.csv')\n",
    "churn_emf_short.to_csv('surveillance/'+COMPANY_IDENTIFIER+'/'+current_month +'/VC/' + COMPANY_IDENTIFIER + '_'+ VC_END_DATE + '_' +license_number +'_vc.csv')\n",
    "emf_revenue_vs_state.to_csv('surveillance/'+COMPANY_IDENTIFIER+'/'+current_month +'/rev_change_vs_state/' + COMPANY_IDENTIFIER + '_'+ VC_END_DATE + '_' +license_number +'_rev_change_vs_state.csv')\n",
    "\n"
   ]
  },
  {
   "cell_type": "code",
   "execution_count": null,
   "id": "34812837",
   "metadata": {},
   "outputs": [],
   "source": [
    "# #COMPANY_IDENTIFIER = ['VS']\n",
    "\n",
    "# # only for VS so far.. combined licenses\n",
    "\n",
    "# template_new_.to_csv('../analysis/surveillance/'+COMPANY_IDENTIFIER[0]+'/'+current_month + '/template/' + COMPANY_IDENTIFIER[0] + '_'+ str(today) + '_' +'_template.csv')\n",
    "# df_inventory_license.to_csv('../analysis/surveillance/'+COMPANY_IDENTIFIER[0]+'/'+current_month +'/INV/' + COMPANY_IDENTIFIER[0] + '_'+ str(today) + '_' +'_inventory_val.csv')\n",
    "# df_summary_simp.to_csv('surveillance/'+COMPANY_IDENTIFIER[0]+'/'+current_month +'/COGS/' + COMPANY_IDENTIFIER[0] + '_'+ VC_END_DATE + '_'  +'_cogs.csv')\n",
    "# vc_matrix_short.to_csv('surveillance/'+COMPANY_IDENTIFIER[0]+'/'+current_month +'/VC/' + COMPANY_IDENTIFIER[0] + '_'+ VC_END_DATE + '_'  +'_vc_matrix.csv')\n",
    "# churn_short.to_csv('surveillance/'+COMPANY_IDENTIFIER[0]+'/'+current_month +'/VC/' + COMPANY_IDENTIFIER[0] + '_'+ VC_END_DATE + '_'  +'_vc.csv')\n",
    "# a.to_csv('surveillance/'+COMPANY_IDENTIFIER[0]+'/'+current_month +'/rev_change_vs_state/' + COMPANY_IDENTIFIER[0] + '_'+ VC_END_DATE  +'_rev_change_vs_state.csv')\n",
    "\n"
   ]
  },
  {
   "cell_type": "markdown",
   "id": "14ae903f",
   "metadata": {},
   "source": [
    "## others"
   ]
  },
  {
   "cell_type": "code",
   "execution_count": null,
   "id": "2b7a7751",
   "metadata": {},
   "outputs": [],
   "source": [
    "# for only 1 license\n",
    "license_number = license_numbers[0]\n",
    "template_new_.to_csv('../analysis/surveillance/'+COMPANY_IDENTIFIER[0]+'/'+current_month + '/template/' + COMPANY_IDENTIFIER[0] + '_'+ str(today) + '_' +license_number +'_template.csv')\n",
    "df_inventory_license.to_csv('../analysis/surveillance/'+COMPANY_IDENTIFIER[0]+'/'+current_month +'/INV/' + COMPANY_IDENTIFIER[0] + '_'+ str(today) + '_' +license_number +'_inventory_val.csv')\n",
    "df_summary_simp.to_csv('surveillance/'+COMPANY_IDENTIFIER[0]+'/'+current_month +'/COGS/' + COMPANY_IDENTIFIER[0] + '_'+ VC_END_DATE + '_' +license_number +'_cogs.csv')\n",
    "vc_matrix_short.to_csv('surveillance/'+COMPANY_IDENTIFIER[0]+'/'+current_month +'/VC/' + COMPANY_IDENTIFIER[0] + '_'+ VC_END_DATE + '_' +license_number +'_vc_matrix.csv')\n",
    "churn_short.to_csv('surveillance/'+COMPANY_IDENTIFIER[0]+'/'+current_month +'/VC/' + COMPANY_IDENTIFIER[0] + '_'+ VC_END_DATE + '_' +license_number +'_vc.csv')\n",
    "a.to_csv('surveillance/'+COMPANY_IDENTIFIER[0]+'/'+current_month +'/rev_change_vs_state/' + COMPANY_IDENTIFIER[0] + '_'+ VC_END_DATE + '_' +license_number +'_rev_change_vs_state.csv')\n",
    "#retial_license_check_df\n",
    "\n"
   ]
  },
  {
   "cell_type": "markdown",
   "id": "d9f7cf23",
   "metadata": {},
   "source": [
    "## BUD"
   ]
  },
  {
   "cell_type": "code",
   "execution_count": null,
   "id": "9b787f3e",
   "metadata": {},
   "outputs": [],
   "source": [
    "# # SAC\n",
    "# license_number = 'C9-0000399-LIC'\n",
    "# COMPANY_IDENTIFIER = 'BUD_sac'\n",
    "# tempalte_sac.to_csv('../analysis/surveillance/'+COMPANY_IDENTIFIER+'/'+current_month + '/template/' + COMPANY_IDENTIFIER + '_'+ str(today) + '_' +license_number +'_template.csv')\n",
    "# df_inventory_license_sac.to_csv('../analysis/surveillance/'+COMPANY_IDENTIFIER+'/'+current_month +'/INV/' + COMPANY_IDENTIFIER + '_'+ str(today) + '_' +license_number +'_inventory_val.csv')\n",
    "# df_summary_simp_sac.to_csv('surveillance/'+COMPANY_IDENTIFIER+'/'+current_month +'/COGS/' + COMPANY_IDENTIFIER + '_'+ VC_END_DATE + '_' +license_number +'_cogs.csv')\n",
    "# vc_matrix_sac.to_csv('surveillance/'+COMPANY_IDENTIFIER+'/'+current_month +'/VC/' + COMPANY_IDENTIFIER + '_'+ VC_END_DATE + '_' +license_number +'_vc_matrix.csv')\n",
    "# churn_sac.to_csv('surveillance/'+COMPANY_IDENTIFIER+'/'+current_month +'/VC/' + COMPANY_IDENTIFIER + '_'+ VC_END_DATE + '_' +license_number +'_vc.csv')\n",
    "# sac_revenue_vs_state.to_csv('surveillance/'+COMPANY_IDENTIFIER+'/'+current_month +'/rev_change_vs_state/' + COMPANY_IDENTIFIER + '_'+ VC_END_DATE + '_' +license_number +'_rev_change_vs_state.csv')\n",
    "\n"
   ]
  },
  {
   "cell_type": "code",
   "execution_count": null,
   "id": "b09eb164",
   "metadata": {},
   "outputs": [],
   "source": [
    "# # fresno\n",
    "# license_number = 'C9-0000467-LIC'\n",
    "# COMPANY_IDENTIFIER = 'BUD_fresno'\n",
    "# tempalte_fresno.to_csv('../analysis/surveillance/'+COMPANY_IDENTIFIER+'/'+current_month + '/template/' + COMPANY_IDENTIFIER + '_'+ str(today) + '_' +license_number +'_template.csv')\n",
    "# df_inventory_license_fresno.to_csv('../analysis/surveillance/'+COMPANY_IDENTIFIER+'/'+current_month +'/INV/' + COMPANY_IDENTIFIER + '_'+ str(today) + '_' +license_number +'_inventory_val.csv')\n",
    "# df_summary_simp_fresno.to_csv('surveillance/'+COMPANY_IDENTIFIER+'/'+current_month +'/COGS/' + COMPANY_IDENTIFIER + '_'+ VC_END_DATE + '_' +license_number +'_cogs.csv')\n",
    "# vc_matrix_fresno.to_csv('surveillance/'+COMPANY_IDENTIFIER+'/'+current_month +'/VC/' + COMPANY_IDENTIFIER + '_'+ VC_END_DATE + '_' +license_number +'_vc_matrix.csv')\n",
    "# churn_fresno.to_csv('surveillance/'+COMPANY_IDENTIFIER+'/'+current_month +'/VC/' + COMPANY_IDENTIFIER + '_'+ VC_END_DATE + '_' +license_number +'_vc.csv')\n",
    "# fresno_revenue_vs_state.to_csv('surveillance/'+COMPANY_IDENTIFIER+'/'+current_month +'/rev_change_vs_state/' + COMPANY_IDENTIFIER + '_'+ VC_END_DATE + '_' +license_number +'_rev_change_vs_state.csv')\n",
    "\n"
   ]
  },
  {
   "cell_type": "code",
   "execution_count": null,
   "id": "dd530989",
   "metadata": {},
   "outputs": [],
   "source": [
    "# # la\n",
    "# license_number = 'C9-0000464-LIC'\n",
    "# COMPANY_IDENTIFIER = 'BUD_la'\n",
    "# tempalte_la.to_csv('../analysis/surveillance/'+COMPANY_IDENTIFIER+'/'+current_month + '/template/' + COMPANY_IDENTIFIER + '_'+ str(today) + '_' +license_number +'_template.csv')\n",
    "# df_inventory_license_la.to_csv('../analysis/surveillance/'+COMPANY_IDENTIFIER+'/'+current_month +'/INV/' + COMPANY_IDENTIFIER + '_'+ str(today) + '_' +license_number +'_inventory_val.csv')\n",
    "# df_summary_simp_la.to_csv('surveillance/'+COMPANY_IDENTIFIER+'/'+current_month +'/COGS/' + COMPANY_IDENTIFIER + '_'+ VC_END_DATE + '_' +license_number +'_cogs.csv')\n",
    "# vc_matrix_la.to_csv('surveillance/'+COMPANY_IDENTIFIER+'/'+current_month +'/VC/' + COMPANY_IDENTIFIER + '_'+ VC_END_DATE + '_' +license_number +'_vc_matrix.csv')\n",
    "# churn_la.to_csv('surveillance/'+COMPANY_IDENTIFIER+'/'+current_month +'/VC/' + COMPANY_IDENTIFIER + '_'+ VC_END_DATE + '_' +license_number +'_vc.csv')\n",
    "# la_revenue_vs_state.to_csv('surveillance/'+COMPANY_IDENTIFIER+'/'+current_month +'/rev_change_vs_state/' + COMPANY_IDENTIFIER + '_'+ VC_END_DATE + '_' +license_number +'_rev_change_vs_state.csv')\n",
    "\n"
   ]
  },
  {
   "cell_type": "markdown",
   "id": "8f49616a",
   "metadata": {},
   "source": [
    "# ~ THE END ~"
   ]
  },
  {
   "cell_type": "code",
   "execution_count": null,
   "id": "e56f8e63",
   "metadata": {},
   "outputs": [],
   "source": [
    "df_vendor_churn = company_incoming_transfer_packages_dataframe[company_incoming_transfer_packages_dataframe['license_number'].isin(license_numbers)]\n",
    "df_vendor_churn['year_month'] = pd.to_datetime(df_vendor_churn['created_date']).dt.strftime(\"%Y-%m\")\n",
    "vc = df_vendor_churn[['year_month','shipper_facility_name','shipper_wholesale_price']].groupby(['year_month','shipper_facility_name']).sum().reset_index()\n",
    "vc= vc.assign(year_month=lambda df:pd.to_datetime(df['year_month']))\n",
    "\n",
    "# make `vc` a long-table version of the spreadsheet, where all conpanies have a continuous year_month starting from \n",
    "# 2020-01-01 to 2022-01-01\n",
    "#################\n",
    "vc_full = (\n",
    "    vc\n",
    "    .groupby('shipper_facility_name').apply(\n",
    "        lambda df: df.merge(\n",
    "        pd.Series(\n",
    "            None, \n",
    "            index = pd.date_range(start='2020-01-01', end= vc_end_date, freq = 'MS'), \n",
    "            name='__place_holder'\n",
    "        ), \n",
    "        how ='right',\n",
    "        left_on = 'year_month', \n",
    "        right_index=True,\n",
    "    ).assign(\n",
    "        **{\n",
    "            \"shipper_facility_name\": lambda df_: df_.shipper_facility_name.dropna().unique()[0],\n",
    "            \"shipper_wholesale_price\": lambda df_: df_.shipper_wholesale_price.fillna(0),\n",
    "        }\n",
    "    )\n",
    "    .drop('__place_holder', axis=1)\n",
    "    )\n",
    ").reset_index(drop=True)\n",
    "\n",
    "#################\n",
    "rolling_4m_sum =  vc_full.groupby('shipper_facility_name').apply(\n",
    "    lambda df: df.set_index('year_month').sort_index().rolling(window).sum()\n",
    ")\n",
    "rolling_4m_sum.columns = ['rolling_4m_total_price']\n",
    "\n",
    "\n",
    "facility_monthly_running_total = vc_full.groupby('shipper_facility_name').apply(\n",
    "    lambda df: df.set_index('year_month').sort_index()['shipper_wholesale_price'].cumsum().to_frame()\n",
    ")\n",
    "facility_monthly_running_total.columns = ['facility_running_total']\n",
    "\n",
    "monthly_running_total = facility_monthly_running_total.reset_index().groupby('year_month')['facility_running_total'].sum().to_frame()\n",
    "monthly_running_total.columns = ['monthly_running_total']\n",
    "#################\n",
    "vc_result = rolling_4m_sum.merge(\n",
    "    facility_monthly_running_total,\n",
    "    how='inner',\n",
    "    left_index=True,\n",
    "    right_index=True\n",
    ").reset_index().merge(\n",
    "    monthly_running_total,\n",
    "    how='left',\n",
    "    on = 'year_month'\n",
    ")\n",
    "#################\n",
    "\n",
    "vc_result['%_total'] = vc_result['facility_running_total'] / vc_result['monthly_running_total']\n",
    "vc_result['last_4m_active'] = vc_result['rolling_4m_total_price'] > 0\n",
    "vc_result ['significant'] = vc_result['%_total'] > 0.001\n",
    "vc_result['measure'] = vc_result.apply(\n",
    "    lambda row: \"Active\"  if (row['last_4m_active'] & row['significant']) else (\"Inactive\" if row['significant'] else \"Exclude\"),\n",
    "    axis=1\n",
    ")\n",
    "churn = vc_result.groupby(['year_month']).apply(lambda x: x[x['measure'] == 'Inactive']['%_total'].sum()).reset_index()\n",
    "churn.columns = ['year_month','%_inactive']\n",
    "churn.index = churn.year_month\n",
    "\n",
    "VC_MONTH_LIST = ['2021-10-01','2021-11-01','2021-12-01','2022-01-01']\n",
    "VC_MONTH_END = VC_MONTH_LIST[-1]\n",
    "# output vendor churn matrix\n",
    "vc_data = vc_full[vc_full['year_month'] <= VC_MONTH_END]\n",
    "vc_data['year_month'] = vc_data['year_month'].astype(str)\n",
    "vc_matrix = pd.pivot_table(vc_data, values='shipper_wholesale_price', index='shipper_facility_name',\n",
    "                    columns='year_month', fill_value=0).reset_index()\n",
    "\n",
    "vc_matrix['facility_total'] = vc_matrix.sum(axis= 1)\n",
    "vc_matrix['grand_total'] = vc_matrix['facility_total'].sum()\n",
    "vc_matrix['perc_total'] = vc_matrix['facility_total'] / vc_matrix['grand_total']\n",
    "vc_matrix['last_4m_total'] = vc_matrix[VC_MONTH_LIST].sum(axis = 1)\n",
    "vc_matrix['last_4m_active'] = vc_matrix['last_4m_total'] > 0\n",
    "vc_matrix ['significant'] = vc_matrix['perc_total'] > 0.001\n",
    "vc_matrix['measure'] = vc_matrix.apply(\n",
    "    lambda row: \"Active\"  if (row['last_4m_active'] & row['significant']) else (\"Inactive\" if row['significant'] else \"Exclude\"),\n",
    "    axis=1\n",
    ")\n"
   ]
  },
  {
   "cell_type": "markdown",
   "id": "6933c7a0",
   "metadata": {},
   "source": [
    "# COGS analysis with further filldown using product category name"
   ]
  },
  {
   "cell_type": "code",
   "execution_count": null,
   "id": "d00e13a6",
   "metadata": {},
   "outputs": [],
   "source": [
    "def cogs_analysis_fill_by_product_category(df_in:pd.DataFrame,df_out:pd.DataFrame,df_inventory:pd.DataFrame,df_sales:pd.DataFrame,freq: str) -> pd.DataFrame:\n",
    "    df_sales['per_unit'] = df_sales['tx_total_price'] / df_sales['tx_quantity_sold']\n",
    "    # set frequency\n",
    "    if freq == 'monthly':\n",
    "        df_sales['date'] = df_sales['sales_datetime'].dt.strftime(\"%Y-%m\")\n",
    "\n",
    "    elif freq == 'weekly':\n",
    "        df_sales['date'] = df_sales['sales_datetime'].dt.strftime(\"%Y-%W\")\n",
    "\n",
    "    # total # trxns    \n",
    "    s_total_count = df_sales.groupby('date')['tx_total_price'].count()\n",
    "    df_total_count = pd.Series(s_total_count).to_frame()\n",
    "    df_total_count = df_total_count.reset_index()\n",
    "    df_total_count.rename(columns={'tx_total_price':'total_count'}, inplace=True)\n",
    "    # revenue\n",
    "    s_revenue = df_sales.groupby('date')['tx_total_price'].sum()\n",
    "    df_revenue = pd.Series(s_revenue).to_frame()\n",
    "    df_revenue = df_revenue.reset_index()\n",
    "    df_revenue.rename(columns={'tx_total_price': 'revenue'}, inplace=True)\n",
    "\n",
    "    df_in['per_unit_incoming'] = df_in['shipper_wholesale_price'] / df_in['shipped_quantity']\n",
    "    \n",
    "    # per unit price by package id\n",
    "    df_in_price = df_in[df_in['shipper_wholesale_price'].notnull()]\n",
    "    average_incoming_package_id = df_in_price.groupby('package_id')['per_unit_incoming'].mean()\n",
    "    df_avg_incoming_price = pd.Series(average_incoming_package_id).to_frame()\n",
    "    df_avg_incoming_price = df_avg_incoming_price.reset_index()\n",
    "    # per unit price by product name\n",
    "    average_incoming_product = df_in_price.groupby('product_name')['per_unit_incoming'].mean()\n",
    "    df_avg_product = pd.Series(average_incoming_product).to_frame()\n",
    "    df_avg_product = df_avg_product.reset_index()\n",
    "    df_avg_product.rename(columns={'per_unit_incoming':'per_unit_product'}, inplace=True)\n",
    "    # per unit price by product category name\n",
    "    average_incoming_product_category = df_in_price.groupby('product_category_name')['per_unit_incoming'].mean()\n",
    "    df_avg_product_cat = pd.Series(average_incoming_product_category).to_frame()\n",
    "    df_avg_product_cat = df_avg_product_cat.reset_index()\n",
    "    df_avg_product_cat.rename(columns={'per_unit_incoming':'per_unit_product_cat'}, inplace=True)\n",
    "    \n",
    "    # merge with (cogs by package id)\n",
    "    df_cogs_package_id = pd.merge(df_sales, df_avg_incoming_price, left_on='tx_package_id', right_on='package_id', how='left')\n",
    "    df_cogs_package_id['total_incoming'] = df_cogs_package_id['per_unit_incoming'] * df_cogs_package_id['tx_quantity_sold']\n",
    "    df_cogs_package_id.replace([numpy.inf], numpy.nan, inplace=True)\n",
    "    df_cogs_package_id_notnull = df_cogs_package_id[df_cogs_package_id['total_incoming'].notnull()]\n",
    "    # sum cogs by package id\n",
    "    s_cogs = df_cogs_package_id_notnull.groupby('date')['total_incoming'].sum()\n",
    "    df_cogs_id = pd.Series(s_cogs).to_frame()\n",
    "    df_cogs_id = df_cogs_id.reset_index()\n",
    "    # count # of trxns by package id\n",
    "    s_cogs_count = df_cogs_package_id_notnull.groupby('date')['total_incoming'].count()\n",
    "    df_cogs_count = pd.Series(s_cogs_count).to_frame()\n",
    "    df_cogs_count = df_cogs_count.reset_index()\n",
    "    df_cogs_count.rename(columns={'total_incoming':'count_incoming'}, inplace=True)\n",
    "    \n",
    "    # merge with (cogs by product name)\n",
    "    df_cogs_average_product = pd.merge(df_cogs_package_id, df_avg_product, left_on='tx_product_name', right_on='product_name', how='left')\n",
    "    df_cogs_average_product['total_product'] = df_cogs_average_product['tx_quantity_sold'] * df_cogs_average_product['per_unit_product']\n",
    "    # merge with (cogs by product category name)\n",
    "    df_cogs_average_product_cat = pd.merge(df_cogs_average_product, df_avg_product_cat, left_on='tx_product_category_name', right_on='product_category_name', how='left')\n",
    "    df_cogs_average_product_cat['total_product_cat'] = df_cogs_average_product_cat['tx_quantity_sold'] * df_cogs_average_product_cat['per_unit_product_cat']\n",
    "    df_cogs_null = df_cogs_average_product_cat[df_cogs_average_product_cat['per_unit_incoming'].isnull()]\n",
    "    df_cogs_product = df_cogs_null[(df_cogs_null['per_unit_product'].notnull())]\n",
    "    df_cogs_product_null = df_cogs_average_product_cat[(df_cogs_average_product_cat['per_unit_incoming'].isnull())&(df_cogs_average_product_cat['per_unit_product'].isnull())]\n",
    "    df_cogs_product_cat = df_cogs_product_null[df_cogs_product_null['per_unit_product_cat'].notnull()]\n",
    "    \n",
    "    # sum cogs filldown by product name\n",
    "    product_sum = df_cogs_product.groupby('date')['total_product'].sum()\n",
    "    df_product_sum = pd.Series(product_sum).to_frame()\n",
    "    df_product_sum = df_product_sum.reset_index()\n",
    "    df_product_sum.rename(columns={'total_product':'product_sum'}, inplace=True)\n",
    "    # count # of trxn filldown by product name\n",
    "    product_count = df_cogs_product.groupby('date')['total_product'].count()\n",
    "    df_product_count = pd.Series(product_count).to_frame()\n",
    "    df_product_count = df_product_count.reset_index()\n",
    "    df_product_count.rename(columns={'total_product':'product_count'}, inplace=True)\n",
    "    df_cogs_product_df = pd.merge(df_product_sum, df_product_count)\n",
    "    \n",
    "    # sum cogs filldown by product category name\n",
    "    product_cat_sum = df_cogs_product_cat.groupby('date')['total_product_cat'].sum()\n",
    "    df_product_cat_sum = pd.Series(product_cat_sum).to_frame()\n",
    "    df_product_cat_sum = df_product_cat_sum.reset_index()\n",
    "    df_product_cat_sum.rename(columns={'total_product_cat':'product_cat_sum'}, inplace=True)\n",
    "    # count # of trxn filldown by product category name\n",
    "    product_cat_count = df_cogs_product_cat.groupby('date')['total_product_cat'].count()\n",
    "    df_product_cat_count = pd.Series(product_cat_count).to_frame()\n",
    "    df_product_cat_count = df_product_cat_count.reset_index()\n",
    "    df_product_cat_count.rename(columns={'total_product_cat':'product_cat_count'}, inplace=True)\n",
    "    df_cogs_product_cat_df = pd.merge(df_product_cat_sum, df_product_cat_count)\n",
    "    \n",
    "    # prepare summary\n",
    "    df_summary = pd.merge(df_revenue, df_cogs_product_df, how='left')\n",
    "    df_summary = pd.merge(df_summary, df_cogs_product_cat_df, how='left')\n",
    "    df_summary = pd.merge(df_summary, df_cogs_id, how='left')\n",
    "    df_summary['product_sum'] = df_summary['product_sum'].fillna(0)\n",
    "    df_summary['product_count'] = df_summary['product_count'].fillna(0)\n",
    "    df_summary['product_cat_sum'] = df_summary['product_cat_sum'].fillna(0)\n",
    "    df_summary['product_cat_count'] = df_summary['product_cat_count'].fillna(0)\n",
    "    # total cogs = by product id cogs + by product name cogs + by product category name cogs\n",
    "    df_summary['cogs'] = df_summary['total_incoming'] + df_summary['product_sum'] + df_summary['product_cat_sum']\n",
    "    df_summary = pd.merge(df_summary, df_cogs_count)\n",
    "    df_summary = pd.merge(df_summary, df_total_count)\n",
    "    # total count = by package id count + by product count + by product category count\n",
    "    df_summary['total_count_incoming'] = df_summary['count_incoming'] + df_summary['product_count'] + df_summary['product_cat_count']\n",
    "    df_summary['margin_$'] = df_summary['revenue'] - df_summary['cogs']\n",
    "    df_summary['margin_%'] = df_summary['margin_$'] / df_summary['revenue']\n",
    "    df_summary['coverage'] = df_summary['total_count_incoming'] / df_summary['total_count']\n",
    "    df_summary_simp = df_summary[['date', 'revenue', 'cogs', 'margin_$', 'margin_%', 'total_count_incoming','product_count','product_cat_count','total_count','count_incoming', 'coverage']]\n",
    "    df_summary_simp.index = df_summary_simp.date\n",
    "    return df_summary_simp,df_cogs_average_product_cat\n",
    "\n",
    "\n"
   ]
  },
  {
   "cell_type": "code",
   "execution_count": null,
   "id": "9e79a6a5",
   "metadata": {},
   "outputs": [],
   "source": [
    "df_in = company_incoming_transfer_packages_dataframe\n",
    "df_out = company_outgoing_transfer_packages_dataframe\n",
    "df_inventory = company_inventory_packages_dataframe\n",
    "df_sales = deduped_sales_receipts_with_transactions_dataframe"
   ]
  },
  {
   "cell_type": "code",
   "execution_count": null,
   "id": "2ce67c5c",
   "metadata": {},
   "outputs": [],
   "source": [
    "df_summary_simp_cat_monthly,df_cogs_average_product_cat_monthly = cogs_analysis_fill_by_product_category(df_in,df_out,df_inventory,df_sales,'monthly')\n",
    "df_summary_simp_cat_weekly,df_cogs_average_product_cat_weekly = cogs_analysis_fill_by_product_category(df_in,df_out,df_inventory,df_sales,'weekly')\n",
    "\n",
    "\n"
   ]
  },
  {
   "cell_type": "code",
   "execution_count": null,
   "id": "6326e10a",
   "metadata": {},
   "outputs": [],
   "source": [
    "df_summary_simp_cat_monthly.tail()"
   ]
  },
  {
   "cell_type": "markdown",
   "id": "ac49f113",
   "metadata": {},
   "source": [
    "# inventory .."
   ]
  },
  {
   "cell_type": "code",
   "execution_count": null,
   "id": "ae713988",
   "metadata": {},
   "outputs": [],
   "source": [
    "legal_name = df_in[df_in['license_number'].isin(license_numbers)]['recipient_facility_name'].values[0]\n",
    "legal_name\n",
    "\n",
    "df_sales['per_unit'] = df_sales['tx_total_price'] / df_sales['tx_quantity_sold']\n",
    "df_sales['year_month'] = df_sales['sales_datetime'].dt.strftime(\"%Y-%m\")\n",
    "df_in['per_unit_incoming'] = df_in['shipper_wholesale_price'] / df_in['shipped_quantity']\n",
    "df_in_price = df_in[df_in['shipper_wholesale_price'].notnull()]\n",
    "average_incoming_package_id = df_in_price.groupby('package_id')['per_unit_incoming'].mean()\n",
    "df_avg_incoming_price = pd.Series(average_incoming_package_id).to_frame()\n",
    "df_avg_incoming_price = df_avg_incoming_price.reset_index()\n",
    "average_incoming_product = df_in_price.groupby('product_name')['per_unit_incoming'].mean()\n",
    "df_avg_product = pd.Series(average_incoming_product).to_frame()\n",
    "df_avg_product = df_avg_product.reset_index()\n",
    "df_avg_product.rename(columns={'per_unit_incoming':'per_unit_product'}, inplace=True)\n",
    "df_inventory_incoming = pd.merge(df_inventory, df_avg_incoming_price, on='package_id', how='left')\n",
    "df_inventory_incoming.replace([numpy.inf], numpy.nan, inplace=True)\n",
    "df_inv_null = df_inventory_incoming[df_inventory_incoming['per_unit_incoming'].isnull()]\n",
    "df_inv_product = pd.merge(df_inv_null, df_avg_product, on='product_name', how='left')\n",
    "df_inv_product.replace([numpy.inf], numpy.nan, inplace=True)\n",
    "df_inv_product_price = df_inv_product[df_inv_product['per_unit_product'].notnull()]\n",
    "df_inv_product_price['total_price'] = df_inv_product_price['quantity'] * df_inv_product_price['per_unit_product']\n",
    "inventory_product_value = df_inv_product_price['total_price'].sum()\n",
    "df_inventory_incoming['total_price'] = df_inventory_incoming['quantity'] * df_inventory_incoming['per_unit_incoming']\n",
    "inventory_value = df_inventory_incoming['total_price'].sum()\n",
    "total_inv_value = inventory_product_value + inventory_value\n",
    "inv_count_product = df_inv_product_price['per_unit_product'].count()\n",
    "inv_count_incoming = df_inventory_incoming['per_unit_incoming'].count()\n",
    "inv_count_total = df_inventory_incoming['quantity'].count()\n",
    "inv_total_incoming = inv_count_product + inv_count_incoming\n",
    "\n",
    "inventory_coverage = inv_total_incoming / inv_count_total\n",
    "print(f'{inventory_coverage:,.0%}')\n",
    "\n",
    "data = [[today], \n",
    "        [total_inv_value], \n",
    "        [inv_total_incoming], \n",
    "        [inv_count_total], \n",
    "        [inventory_coverage],\n",
    "        [license_numbers],\n",
    "        [legal_name]]\n",
    "\n",
    "df_inventory_license = pd.DataFrame(data).T\n",
    "df_inventory_license.columns = ['date','value','total_incoming','total','coverage','license','legal_name']\n",
    "df_inventory_license"
   ]
  },
  {
   "cell_type": "code",
   "execution_count": null,
   "id": "f8f8dd32",
   "metadata": {},
   "outputs": [],
   "source": [
    "# def cogs_analysis_uom(df_in:pd.DataFrame,df_sales:pd.DataFrame,freq: str) -> Tuple[pd.DataFrame,pd.DataFrame]:\n",
    "#     df_sales['per_unit'] = df_sales['tx_total_price'] / df_sales['tx_quantity_sold']\n",
    "#     # set frequency\n",
    "#     if freq == 'monthly':\n",
    "#         df_sales['date'] = df_sales['sales_datetime'].dt.strftime(\"%Y-%m\")\n",
    "#     elif freq == 'weekly':\n",
    "#         df_sales['date'] = df_sales['sales_datetime'].dt.strftime(\"%Y-%W\")\n",
    "#         df_sales['week'] = df_sales['sales_datetime'].dt.strftime(\"%W\")\n",
    "#     # total # of trxns\n",
    "#     s_total_count = df_sales.groupby('date')['tx_total_price'].count()\n",
    "#     df_total_count = pd.Series(s_total_count).to_frame()\n",
    "#     df_total_count = df_total_count.reset_index()\n",
    "#     df_total_count.rename(columns={'tx_total_price':'total_count'}, inplace=True)\n",
    "#     # revenue\n",
    "#     s_revenue = df_sales.groupby('date')['tx_total_price'].sum()\n",
    "#     df_revenue = pd.Series(s_revenue).to_frame()\n",
    "#     df_revenue = df_revenue.reset_index()\n",
    "#     df_revenue.rename(columns={'tx_total_price': 'revenue'}, inplace=True)\n",
    "\n",
    "#     df_in['per_unit_incoming'] = df_in['shipper_wholesale_price'] / df_in['shipped_quantity']\n",
    "    \n",
    "#     # per unit price by package id\n",
    "#     df_in_price = df_in[df_in['shipper_wholesale_price'].notnull()]\n",
    "#     average_incoming_package_id = df_in_price.groupby(['package_id','shipped_unit_of_measure'])['per_unit_incoming'].mean()\n",
    "#     df_avg_incoming_price = pd.Series(average_incoming_package_id).to_frame()\n",
    "#     df_avg_incoming_price = df_avg_incoming_price.reset_index()\n",
    "#     # per unit price by product name\n",
    "#     average_incoming_product = df_in_price.groupby(['product_name','shipped_unit_of_measure'])['per_unit_incoming'].mean()\n",
    "#     df_avg_product = pd.Series(average_incoming_product).to_frame()\n",
    "#     df_avg_product = df_avg_product.reset_index()\n",
    "#     df_avg_product.rename(columns={'per_unit_incoming':'per_unit_product'}, inplace=True)\n",
    "\n",
    "#     # merge with (cogs by package id)\n",
    "#     df_cogs_package_id = pd.merge(df_sales, df_avg_incoming_price, left_on=['tx_package_id','tx_unit_of_measure'], right_on=['package_id','shipped_unit_of_measure'], how='left')\n",
    "#     df_cogs_package_id['total_incoming'] = df_cogs_package_id['per_unit_incoming'] * df_cogs_package_id['tx_quantity_sold']\n",
    "#     df_cogs_package_id.replace([numpy.inf], numpy.nan, inplace=True)\n",
    "#     df_cogs_package_id_notnull = df_cogs_package_id[df_cogs_package_id['total_incoming'].notnull()]\n",
    "\n",
    "#     # sum cogs by package id\n",
    "#     s_cogs = df_cogs_package_id_notnull.groupby('date')['total_incoming'].sum()\n",
    "#     df_cogs_id = pd.Series(s_cogs).to_frame()\n",
    "#     df_cogs_id = df_cogs_id.reset_index()\n",
    "#     # count # of trxn by package id\n",
    "#     s_cogs_count = df_cogs_package_id_notnull.groupby('date')['total_incoming'].count()\n",
    "#     df_cogs_count = pd.Series(s_cogs_count).to_frame()\n",
    "#     df_cogs_count = df_cogs_count.reset_index()\n",
    "#     df_cogs_count.rename(columns={'total_incoming':'count_incoming'}, inplace=True)\n",
    "    \n",
    "#     # merge with (cogs by product name)\n",
    "#     df_cogs_average_product = pd.merge(df_cogs_package_id, df_avg_product, left_on=['tx_product_name','tx_unit_of_measure'], right_on=['product_name','shipped_unit_of_measure'], how='left')\n",
    "#     df_cogs_average_product['total_product'] = df_cogs_average_product['tx_quantity_sold'] * df_cogs_average_product['per_unit_product']\n",
    "#     df_cogs_null = df_cogs_average_product[df_cogs_average_product['per_unit_incoming'].isnull()]\n",
    "#     df_cogs_product = df_cogs_null[df_cogs_null['per_unit_product'].notnull()]\n",
    "#     # sum cogs filldown by product name\n",
    "#     product_sum = df_cogs_product.groupby('date')['total_product'].sum()\n",
    "#     df_product_sum = pd.Series(product_sum).to_frame()\n",
    "#     df_product_sum = df_product_sum.reset_index()\n",
    "#     df_product_sum.rename(columns={'total_product':'product_sum'}, inplace=True)\n",
    "#     # count # of trxn filldown by product name\n",
    "#     product_count = df_cogs_product.groupby('date')['total_product'].count()\n",
    "#     df_product_count = pd.Series(product_count).to_frame()\n",
    "#     df_product_count = df_product_count.reset_index()\n",
    "#     df_product_count.rename(columns={'total_product':'product_count'}, inplace=True)\n",
    "#     df_cogs_product_df = pd.merge(df_product_sum, df_product_count)\n",
    "    \n",
    "#     # prepare summary\n",
    "#     df_summary = pd.merge(df_revenue, df_cogs_product_df, how='left')\n",
    "#     df_summary = pd.merge(df_summary, df_cogs_id, how='left')\n",
    "#     df_summary['product_sum'] = df_summary['product_sum'].fillna(0)\n",
    "#     df_summary['product_count'] = df_summary['product_count'].fillna(0)\n",
    "#     # total cogs = by product id cogs + by product name cogs\n",
    "#     df_summary['cogs'] = df_summary['total_incoming'] + df_summary['product_sum']\n",
    "#     df_summary = pd.merge(df_summary, df_cogs_count)\n",
    "#     df_summary = pd.merge(df_summary, df_total_count)\n",
    "#     # total count = by package id count + by product count\n",
    "#     df_summary['total_count_incoming'] = df_summary['count_incoming'] + df_summary['product_count']\n",
    "#     df_summary['margin_$'] = df_summary['revenue'] - df_summary['cogs']\n",
    "#     df_summary['margin_%'] = df_summary['margin_$'] / df_summary['revenue']\n",
    "#     df_summary['coverage'] = df_summary['total_count_incoming'] / df_summary['total_count']\n",
    "#     df_summary_simp = df_summary[['date', 'revenue', 'cogs', 'margin_$', 'margin_%', 'total_count_incoming','product_count','count_incoming', 'coverage','total_count']]\n",
    "    \n",
    "#     return df_summary_simp,df_avg_product\n",
    "\n",
    "\n"
   ]
  },
  {
   "cell_type": "code",
   "execution_count": null,
   "id": "fa3c47a8",
   "metadata": {},
   "outputs": [],
   "source": [
    "# def calculate_inventory_valuation_new(incoming_transfer_df,sales_df,inventory_df,license_list):\n",
    "#     # legal name\n",
    "#     legal_name = incoming_transfer_df[incoming_transfer_df['license_number'].isin(license_list)]['recipient_facility_name'].values[0]\n",
    "#     # process df_in and df_sales\n",
    "#     sales_df['per_unit'] = sales_df['tx_total_price'] / sales_df['tx_quantity_sold']\n",
    "#     sales_df['year_month'] = sales_df['sales_datetime'].dt.strftime(\"%Y-%m\")\n",
    "#     incoming_transfer_df['per_unit_incoming'] = incoming_transfer_df['shipper_wholesale_price'] / incoming_transfer_df['shipped_quantity']\n",
    "#     incoming_transfer_df_price = incoming_transfer_df[incoming_transfer_df['shipper_wholesale_price'].notnull()]\n",
    "#     # by package id\n",
    "#     average_incoming_package_id = incoming_transfer_df_price.groupby(['package_id','shipped_unit_of_measure'])['per_unit_incoming'].mean()\n",
    "#     df_avg_incoming_price = pd.Series(average_incoming_package_id).to_frame()\n",
    "#     df_avg_incoming_price = df_avg_incoming_price.reset_index()\n",
    "#     # by product\n",
    "#     average_incoming_product = incoming_transfer_df_price.groupby(['product_name','shipped_unit_of_measure'])['per_unit_incoming'].mean()\n",
    "#     df_avg_product = pd.Series(average_incoming_product).to_frame()\n",
    "#     df_avg_product = df_avg_product.reset_index()\n",
    "#     df_avg_product.rename(columns={'per_unit_incoming':'per_unit_product'}, inplace=True)\n",
    "#     #calculate inventory\n",
    "#     df_inventory_incoming = pd.merge(inventory_df, df_avg_incoming_price, left_on=['package_id','unit_of_measure'],right_on = ['package_id','shipped_unit_of_measure'], how='left')\n",
    "#     #left_on=['tx_product_name','tx_unit_of_measure'], right_on=['product_name','shipped_unit_of_measure'], how='left'\n",
    "#     df_inventory_incoming.replace([numpy.inf], numpy.nan, inplace=True)\n",
    "#     df_inv_null = df_inventory_incoming[df_inventory_incoming['per_unit_incoming'].isnull()]\n",
    "#     df_inv_product = pd.merge(df_inv_null, df_avg_product, left_on=['product_name','unit_of_measure'],right_on = ['product_name','shipped_unit_of_measure'], how='left')\n",
    "#     df_inv_product.replace([numpy.inf], numpy.nan, inplace=True)\n",
    "#     df_inv_product_price = df_inv_product[df_inv_product['per_unit_product'].notnull()]\n",
    "#     df_inv_product_price['total_price'] = df_inv_product_price['quantity'] * df_inv_product_price['per_unit_product']\n",
    "    \n",
    "#     inventory_product_value = df_inv_product_price['total_price'].sum()\n",
    "#     df_inventory_incoming['total_price'] = df_inventory_incoming['quantity'] * df_inventory_incoming['per_unit_incoming']\n",
    "#     inventory_value = df_inventory_incoming['total_price'].sum()\n",
    "#     total_inv_value = inventory_product_value + inventory_value\n",
    "#     inv_count_product = df_inv_product_price['per_unit_product'].count()\n",
    "#     inv_count_incoming = df_inventory_incoming['per_unit_incoming'].count()\n",
    "#     inv_count_total = df_inventory_incoming['quantity'].count()\n",
    "#     inv_total_incoming = inv_count_product + inv_count_incoming\n",
    "#     inventory_coverage = inv_total_incoming / inv_count_total\n",
    "#     # prepare data\n",
    "#     data = [[today], \n",
    "#             [total_inv_value], \n",
    "#             [inv_total_incoming], \n",
    "#             [inv_count_total], \n",
    "#             [inventory_coverage],\n",
    "#             [license_list],\n",
    "#             [legal_name]]\n",
    "#     df_inventory_license = pd.DataFrame(data).T\n",
    "#     df_inventory_license.columns = ['date','value','total_incoming','total','coverage','license','legal_name']\n",
    "#     return df_inventory_license\n",
    "    "
   ]
  },
  {
   "cell_type": "code",
   "execution_count": null,
   "id": "027358fc",
   "metadata": {},
   "outputs": [],
   "source": [
    "# # create template file with after tax inventory valuation and also credit limit\n",
    "# def create_template(df_rev_vs_state,df_cogs_analysis,df_inventory_analysis,df_inventory_analysis_msrp,df_churn,df_license_check,license_list,state_):\n",
    "#     # cogs coverage check\n",
    "#     metrc_cogs_coverage_current = df_cogs_analysis[df_cogs_analysis['coverage'] > 0]['coverage'].mean()\n",
    "#     metrc_cogs_coverage_current_reliable = metrc_cogs_coverage_current > 0.75\n",
    "#     print(metrc_cogs_coverage_current,metrc_cogs_coverage_current_reliable)\n",
    "#     # inventory coverage check\n",
    "#     metrc_inventory_coverage_current = df_inventory_analysis.coverage.values[0]\n",
    "#     metrc_inventory_coverage_current_reliable = metrc_inventory_coverage_current > 0.75\n",
    "#     print(metrc_inventory_coverage_current,metrc_inventory_coverage_current_reliable)\n",
    "#     # inventory TO\n",
    "#     inventory_to_df = pd.DataFrame(df_cogs_analysis['sum_cogs_past_3months'] / df_inventory_analysis.value.values[0] * 4)\n",
    "#     inventory_to_df.columns = ['inventory_TO']\n",
    "#     inventory_to_current = inventory_to_df.loc[current_month]['inventory_TO']\n",
    "#     inventory_to_current_score = 0 if inventory_to_current < 6 else 10\n",
    "#     print(inventory_to_current,inventory_to_current_score)\n",
    "#     #inventory valuation\n",
    "#     inventory = df_inventory_analysis['value'][0]\n",
    "#     if state_ == 'CA':\n",
    "#         inventory_after_tax = df_inventory_analysis['value_after_tax'][0]\n",
    "#     else:\n",
    "#         inventory_after_tax = inventory\n",
    "        \n",
    "#     #inventory valuation msrp based\n",
    "#     inventory_msrp = df_inventory_analysis_msrp['value'][0]\n",
    "        \n",
    "#     # credit limit\n",
    "#     credit_limit = round(min(df_cogs_analysis['sum_cogs_past_3months'].loc[current_month],inventory_after_tax),-4)\n",
    "    \n",
    "#     # vendor churn score\n",
    "#     vendor_churn_current = df_churn.loc[current_month]['%_inactive'].values[0]\n",
    "#     vendor_churn_current_score = 0 if vendor_churn_current > 0.45 else 10\n",
    "#     print(vendor_churn_current,vendor_churn_current_score)\n",
    "#     # margin score\n",
    "#     # gm past 1,2,3 quarters\n",
    "#     gm_past_quarter = df_cogs_analysis.loc[current_month]['gm_past_quarter']\n",
    "#     gm_past_2quarters = df_cogs_analysis.loc[current_month]['gm_past_2quarters']\n",
    "#     gm_past_3quarters = df_cogs_analysis.loc[current_month]['gm_past_3quarters']\n",
    "#     # gm past 1,2,3 quarters after tax\n",
    "#     gm_past_quarter_after_tax = df_cogs_analysis.loc[current_month]['gm_past_quarter_after_tax']\n",
    "#     gm_past_2quarters_after_tax = df_cogs_analysis.loc[current_month]['gm_past_2quarters_after_tax']\n",
    "#     gm_past_3quarters_after_tax = df_cogs_analysis.loc[current_month]['gm_past_3quarters_after_tax']\n",
    "    \n",
    "#     # gm scores past 1,2,3 quarters\n",
    "#     gm_past_quarter_score = 5 if df_cogs_analysis.loc[current_month]['gm_past_quarter'] >= 0.5 else 0\n",
    "#     gm_past_2quarters_score = 10 if df_cogs_analysis.loc[current_month]['gm_past_2quarters'] >= 0.5 else 0\n",
    "#     gm_past_3quarters_score = 15 if df_cogs_analysis.loc[current_month]['gm_past_3quarters'] >= 0.5 else 0\n",
    "#     # gm scores past 1,2,3 quarters after tax (use 0.49 as threshold)\n",
    "#     gm_past_quarter_score_after_tax_49 = 5 if df_cogs_analysis.loc[current_month]['gm_past_quarter_after_tax'] >= 0.49 else 0\n",
    "#     gm_past_2quarters_score_after_tax_49 = 10 if df_cogs_analysis.loc[current_month]['gm_past_2quarters_after_tax'] >= 0.49 else 0\n",
    "#     gm_past_3quarters_score_after_tax_49 = 15 if df_cogs_analysis.loc[current_month]['gm_past_3quarters_after_tax'] >= 0.49 else 0\n",
    "#     # gm scores past 1,2,3 quarters after tax (use 0.51 as threshold)\n",
    "#     gm_past_quarter_score_after_tax_51 = 5 if df_cogs_analysis.loc[current_month]['gm_past_quarter_after_tax'] >= 0.51 else 0\n",
    "#     gm_past_2quarters_score_after_tax_51 = 10 if df_cogs_analysis.loc[current_month]['gm_past_2quarters_after_tax'] >= 0.51 else 0\n",
    "#     gm_past_3quarters_score_after_tax_51 = 15 if df_cogs_analysis.loc[current_month]['gm_past_3quarters_after_tax'] >= 0.51 else 0\n",
    "    \n",
    "#     # revenue change\n",
    "#     monthly_revenue_change = df_cogs_analysis.loc[current_month]['revenue_change']\n",
    "#     # revenue vs state score\n",
    "#     revenue_state_score = min(round(df_rev_vs_state.dropna()['total'].sum(),2),10)\n",
    "#     template_data = pd.DataFrame([\n",
    "#               ['license is current',df_license_check[df_license_check['license_number'].isin(license_list)].reset_index().is_current[0]],\n",
    "#               ['license is active',df_license_check[df_license_check['license_number'].isin(license_list)].reset_index().license_status[0]],\n",
    "#               ['license check',df_license_check[df_license_check['license_number'].isin(license_list)].reset_index().license_check[0]],\n",
    "#               ['metrc cogs coverage',metrc_cogs_coverage_current],\n",
    "#               ['metrc cogs coverage reliable ?',metrc_cogs_coverage_current_reliable],\n",
    "#               ['metrc inventory coverage',metrc_inventory_coverage_current],\n",
    "#               ['metrc inventory coverage reliable ?',metrc_inventory_coverage_current_reliable],\n",
    "#               ['inventory turnover',inventory_to_current],\n",
    "#               ['inventory turnover score',inventory_to_current_score],\n",
    "#               # gm\n",
    "#               ['GM past quarter',gm_past_quarter],\n",
    "#               ['GM score past quarter',gm_past_quarter_score],\n",
    "#               ['GM past 2 quarters',gm_past_2quarters],\n",
    "#               ['GM score past 2 quarters',gm_past_2quarters_score],\n",
    "#               ['GM past 3 quarters',gm_past_3quarters],\n",
    "#               ['GM score past 3 quarters',gm_past_3quarters_score],\n",
    "#               # gm after tax\n",
    "#               ['GM past quarter after tax',gm_past_quarter_after_tax],\n",
    "#               ['GM score past quarter after tax (49)',gm_past_quarter_score_after_tax_49],\n",
    "#               ['GM score past quarter after tax (51)',gm_past_quarter_score_after_tax_51],\n",
    "#               ['GM past 2 quarters after tax',gm_past_2quarters_after_tax],\n",
    "#               ['GM score past 2 quarters after tax (49)',gm_past_2quarters_score_after_tax_49],\n",
    "#               ['GM score past 2 quarters after tax (51)',gm_past_2quarters_score_after_tax_51],\n",
    "#               ['GM past 3 quarters after tax',gm_past_3quarters_after_tax],\n",
    "#               ['GM score past 3 quarters after tax (49)',gm_past_3quarters_score_after_tax_49],\n",
    "#               ['GM score past 3 quarters after tax (51)',gm_past_3quarters_score_after_tax_51],\n",
    "#               # vendor churn\n",
    "#               ['vendor churn',vendor_churn_current],\n",
    "#               ['vendor churn score',vendor_churn_current_score],\n",
    "#               # revenue trend vs state\n",
    "#               ['revenue vs state change score',revenue_state_score],\n",
    "#               # inventory valuation\n",
    "#               ['inventory valuation',round(inventory,2)],\n",
    "#               ['inventory valuation after tax',round(inventory_after_tax,2)],\n",
    "#               # inventory valuation msrp based\n",
    "#               ['inventory valuation (msrp based)',round(inventory_msrp,2)],\n",
    "        \n",
    "#               # total score\n",
    "#               ['total score',inventory_to_current_score+gm_past_quarter_score+gm_past_2quarters_score+gm_past_3quarters_score+\\\n",
    "#               vendor_churn_current_score+revenue_state_score],\n",
    "#               ['total score (49)',inventory_to_current_score + gm_past_quarter_score_after_tax_49 + gm_past_2quarters_score_after_tax_49 + gm_past_3quarters_score_after_tax_49 + \\\n",
    "#               vendor_churn_current_score+revenue_state_score],\n",
    "#               ['total score (51)',inventory_to_current_score + gm_past_quarter_score_after_tax_51 + gm_past_2quarters_score_after_tax_51 + gm_past_3quarters_score_after_tax_51 + \\\n",
    "#               vendor_churn_current_score+revenue_state_score],\n",
    "#               ['credit limit',credit_limit],\n",
    "        \n",
    "        \n",
    "#              ])\n",
    "#     return template_data\n"
   ]
  }
 ],
 "metadata": {
  "kernelspec": {
   "display_name": "Python 3",
   "language": "python",
   "name": "python3"
  },
  "language_info": {
   "codemirror_mode": {
    "name": "ipython",
    "version": 3
   },
   "file_extension": ".py",
   "mimetype": "text/x-python",
   "name": "python",
   "nbconvert_exporter": "python",
   "pygments_lexer": "ipython3",
   "version": "3.8.10"
  }
 },
 "nbformat": 4,
 "nbformat_minor": 5
}
