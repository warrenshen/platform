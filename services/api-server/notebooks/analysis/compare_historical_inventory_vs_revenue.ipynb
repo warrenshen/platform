{
 "cells": [
  {
   "cell_type": "code",
   "execution_count": null,
   "id": "170c442e-f0fb-4421-a3bf-5f87863f8277",
   "metadata": {},
   "outputs": [],
   "source": [
    "import json\n",
    "import os\n",
    "import numpy\n",
    "import pandas\n",
    "import sys\n",
    "import logging\n",
    "import importlib\n",
    "\n",
    "from datetime import date\n",
    "from os import path\n",
    "from dotenv import load_dotenv\n",
    "\n",
    "sys.path.append(path.realpath(path.join(os.getcwd(), \"../../src\")))\n",
    "\n",
    "from bespoke.inventory.analysis.shared import download_util\n",
    "from bespoke.inventory.analysis import active_inventory_util as util\n",
    "from bespoke.inventory.analysis import inventory_valuations_util as valuations_util\n",
    "from bespoke.inventory.analysis import inventory_cogs_util as cogs_util\n",
    "from bespoke.inventory.analysis import inventory_summary_util\n",
    "from bespoke.inventory.analysis.shared.inventory_types import (\n",
    "  AnalysisSummaryDict\n",
    ")\n",
    "\n",
    "load_dotenv(verbose=True)\n",
    "engine = download_util.get_bigquery_engine('bigquery://bespoke-financial/ProdMetrcData')\n",
    "\n",
    "logging.basicConfig(format='%(asctime)s [%(levelname)s] - %(message)s',\n",
    "                    datefmt='%m/%d/%Y %H:%M:%S',\n",
    "                    level=logging.INFO)\n",
    "\n",
    "def _reload_libs():\n",
    "    importlib.reload(util)\n",
    "    importlib.reload(valuations_util)\n",
    "    importlib.reload(download_util)\n",
    "\n",
    "%load_ext autoreload\n",
    "%autoreload 2"
   ]
  },
  {
   "cell_type": "code",
   "execution_count": null,
   "id": "fbfe06bc-cc79-41cc-814e-1d2166177496",
   "metadata": {},
   "outputs": [],
   "source": [
    "COMPANY_NAME = 'CG'\n",
    "COMPANY_IDENTIFIER = 'CG'\n",
    "LICENSE_NUMBERS = ['C9-0000157-LIC']\n",
    "TRANSFER_PACKAGES_START_DATE = '2019-01-01'\n",
    "SALES_TRANSACTIONS_START_DATE = '2019-01-01'\n",
    "ANALYSIS_PARAMS = {\n",
    "    'sold_threshold': 1.0,\n",
    "    'find_parent_child_relationships': False,\n",
    "    'use_prices_to_fill_missing_incoming': False,\n",
    "    'external_pricing_data_config': {\n",
    "        'category_to_fixed_prices': {\n",
    "            'Buds': {\n",
    "                'grams': 10.0\n",
    "            },\n",
    "            'Infused (edible)': {\n",
    "                'each': 4.0\n",
    "            },\n",
    "            'Infused (non-edible)': {\n",
    "                'each': 3.0\n",
    "            },\n",
    "            'Vape Product': {\n",
    "                'each': 3.0\n",
    "            },\n",
    "            'Concentrate (Bulk)': {\n",
    "                'grams': 6.0\n",
    "            },\n",
    "            'Concentrate': {\n",
    "                'grams': 7.0\n",
    "            },\n",
    "            'Raw Pre-Rolls': {\n",
    "                'grams': 7.0,\n",
    "                'pounds': 80.0\n",
    "            },\n",
    "            'Shake/Trim (by strain)': {\n",
    "                'grams': 8.0\n",
    "            }\n",
    "        }\n",
    "    },\n",
    "    'use_margin_estimate_config': False,\n",
    "    'margin_estimate_config': {\n",
    "        'category_to_margin_estimate': {\n",
    "            'Buds': 0.4267,\n",
    "            'Infused (edible)': 0.4953,\n",
    "            'Infused (non-edible)': 0.4183,\n",
    "            'Vape Product': 0.43,\n",
    "            'Concentrate (Bulk)': 0.46,\n",
    "            'Concentrate': 0.46,\n",
    "            'Raw Pre-Rolls': 0.485,\n",
    "            'Shake/Trim (by strain)': 0.4267\n",
    "        }\n",
    "    },\n",
    "    'cogs_analysis_params': {\n",
    "        'readjust_profit_threshold': 0.90, # 0.9\n",
    "        'readjust_type': 'adjust' # adjust, remove\n",
    "    }\n",
    "}\n",
    "TODAY_DATE = date.today()\n",
    "print('Today is {}'.format(TODAY_DATE))"
   ]
  },
  {
   "cell_type": "code",
   "execution_count": null,
   "id": "d9eccd84-a327-4299-8876-456c6c9f574c",
   "metadata": {},
   "outputs": [],
   "source": [
    "# Download packages, sales transactions, incoming / outgoing tranfers\n",
    "q = download_util.Query(\n",
    "    inventory_dates=[],\n",
    "    transfer_packages_start_date=TRANSFER_PACKAGES_START_DATE,\n",
    "    sales_transactions_start_date=SALES_TRANSACTIONS_START_DATE,\n",
    "    company_identifier=COMPANY_IDENTIFIER,\n",
    "    company_name=COMPANY_NAME,\n",
    "    license_numbers=LICENSE_NUMBERS,\n",
    ")\n",
    "\n",
    "all_dataframes_dict = download_util.get_dataframes_for_analysis(\n",
    "    q, engine, dry_run=False)"
   ]
  },
  {
   "cell_type": "code",
   "execution_count": null,
   "id": "c2af6220-2ebc-4447-a17e-0e3d9f3a7bbd",
   "metadata": {},
   "outputs": [],
   "source": [
    "q.inventory_dates = download_util.get_inventory_dates(\n",
    "    all_dataframes_dict, TODAY_DATE)\n",
    "d = util.Download()\n",
    "sql_helper = util.BigQuerySQLHelper(engine)\n",
    "d.download_dataframes(\n",
    "    all_dataframes_dict=all_dataframes_dict,\n",
    "    sql_helper=sql_helper\n",
    ")"
   ]
  },
  {
   "cell_type": "code",
   "execution_count": null,
   "id": "5fbbbfe7-87c0-4409-9e6a-b6dc2b63ce54",
   "metadata": {
    "tags": []
   },
   "outputs": [],
   "source": [
    "id_to_history = util.get_histories(d, ANALYSIS_PARAMS)\n",
    "util.print_counts(id_to_history)\n",
    "# counts_analysis_dict = util.create_inventory_xlsx(\n",
    "#     d, id_to_history, q, params=ANALYSIS_PARAMS)"
   ]
  },
  {
   "cell_type": "code",
   "execution_count": null,
   "id": "4de368e2-44ab-4885-86d2-54b989f091f2",
   "metadata": {
    "tags": []
   },
   "outputs": [],
   "source": [
    "computed_resp = util.compute_inventory_across_dates(\n",
    "    d, q.inventory_dates, ANALYSIS_PARAMS, using_nb=True\n",
    ")\n",
    "\n",
    "today_date_str = TODAY_DATE.strftime('%m/%d/%Y')\n",
    "#INVENTORY_DATES = [today_date_str]\n",
    "compare_inventory_res = util.compare_computed_vs_actual_inventory(\n",
    "    computed=computed_resp['date_to_computed_inventory_dataframe'][today_date_str],\n",
    "    actual=d.inventory_packages_dataframe,\n",
    "    compare_options={\n",
    "        'num_errors_to_show': 10,\n",
    "        'accept_computed_when_sold_out': True\n",
    "    }\n",
    ")\n"
   ]
  },
  {
   "cell_type": "code",
   "execution_count": null,
   "id": "6cfd4d4e-ec3f-403a-96bf-31ebcefaa193",
   "metadata": {},
   "outputs": [],
   "source": [
    "print(f'Plotting sales revenue vs cost-based inventory valuation for dates: {q.inventory_dates}')\n",
    "valuations_util.plot_inventory_and_revenue(\n",
    "    q=q,\n",
    "    sales_receipts_dataframe=d.sales_receipts_dataframe,\n",
    "    inventory_valuations=computed_resp['inventory_valuations']\n",
    ")"
   ]
  },
  {
   "cell_type": "code",
   "execution_count": null,
   "id": "ec9680a8-38ff-4174-8d4e-c987b97f488b",
   "metadata": {},
   "outputs": [],
   "source": []
  },
  {
   "cell_type": "code",
   "execution_count": null,
   "id": "25da7f28-8cff-4e2a-b052-4b63b306d4bc",
   "metadata": {},
   "outputs": [],
   "source": []
  },
  {
   "cell_type": "code",
   "execution_count": null,
   "id": "8db2753e-a221-4b0e-8702-a3f3f379034c",
   "metadata": {},
   "outputs": [],
   "source": []
  },
  {
   "cell_type": "code",
   "execution_count": null,
   "id": "dc25f33f-5af9-4014-b5b2-00699e600b1c",
   "metadata": {},
   "outputs": [],
   "source": [
    "# For debugging individual package histories\n",
    "PACKAGE_IDS = [\n",
    "  '19300875'\n",
    "]\n",
    "\n",
    "util.analyze_specific_package_histories(\n",
    "    d, PACKAGE_IDS, params=ANALYSIS_PARAMS)"
   ]
  },
  {
   "cell_type": "code",
   "execution_count": null,
   "id": "aabc9f18-25ea-443f-a838-76ad33d89d16",
   "metadata": {},
   "outputs": [],
   "source": []
  }
 ],
 "metadata": {
  "kernelspec": {
   "display_name": "Python 3",
   "language": "python",
   "name": "python3"
  },
  "language_info": {
   "codemirror_mode": {
    "name": "ipython",
    "version": 3
   },
   "file_extension": ".py",
   "mimetype": "text/x-python",
   "name": "python",
   "nbconvert_exporter": "python",
   "pygments_lexer": "ipython3",
   "version": "3.7.7"
  }
 },
 "nbformat": 4,
 "nbformat_minor": 5
}
