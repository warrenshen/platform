{
 "cells": [
  {
   "cell_type": "code",
   "execution_count": 1,
   "id": "f491e0db-b6d6-480c-be42-5b1e16ddb1ba",
   "metadata": {},
   "outputs": [],
   "source": [
    "\"\"\"\n",
    "  A manager that facilitates reading and writing files to GCP Storage\n",
    "\"\"\"\n",
    "import logging\n",
    "import os\n",
    "import subprocess\n",
    "from io import BytesIO\n",
    "from typing import List, Dict, Callable, Tuple, Union\n",
    "from mypy_extensions import TypedDict\n",
    "\n",
    "from google.cloud import storage # type: ignore\n",
    "\n",
    "def get_path_prefix(root_dir: str, relative_path: str) -> str:\n",
    "    prefix = ''\n",
    "    if root_dir:\n",
    "        prefix = root_dir.rstrip('/') + '/'\n",
    "\n",
    "    if relative_path and relative_path != '/':\n",
    "        prefix = prefix + relative_path.strip('/') + '/'\n",
    "\n",
    "    return prefix\n",
    "\n",
    "class PathNode(TypedDict, total=False):\n",
    "    name: str\n",
    "    type: str\n",
    "    size: float\n",
    "        \n",
    "class GCPStorageManager(object):\n",
    "\n",
    "    def __init__(self, storage_details: Dict, verbose: bool) -> None:\n",
    "        self._bucket_name = storage_details.get('bucket')\n",
    "        self._root_dir = storage_details.get('root')\n",
    "        self.client = storage.Client()\n",
    "        self.verbose = verbose\n",
    "\n",
    "    def _abs_path(self, rel_path: str) -> str:\n",
    "        if not self._root_dir:\n",
    "            return rel_path\n",
    "\n",
    "        return os.path.join(self._root_dir, rel_path)\n",
    "\n",
    "    def _build_current_url(self) -> str:\n",
    "        if self._root_dir:\n",
    "            return \"https://console.cloud.google.com/storage/browser/\" + self._bucket_name + \"/\" + self._root_dir\n",
    "        else:\n",
    "            return \"https://console.cloud.google.com/storage/browser/\" + self._bucket_name\n",
    "\n",
    "    def get_root_dir(self) -> str:\n",
    "        return self._root_dir\n",
    "\n",
    "    def get_storage_details(self) -> Dict:\n",
    "        return {\n",
    "            'provider': file_utils.ProviderList.GCP_STORAGE,\n",
    "            'bucket': self._bucket_name,\n",
    "            'root': self._root_dir\n",
    "        }\n",
    "\n",
    "    def get_sync_login_command(self, env_vars: Dict) -> List[str]:\n",
    "        return None\n",
    "\n",
    "    def get_sync_url(self, path: str) -> str:\n",
    "        if not path or path == '/':\n",
    "            abs_path = self._root_dir\n",
    "        else:\n",
    "            abs_path = self._abs_path(path)\n",
    "        return f'gs://{self._bucket_name}/{abs_path}'\n",
    "\n",
    "    def get_sync_command(self, src_dir: str, remote_path: str) -> Callable:\n",
    "\n",
    "        def sync_call() -> Tuple[int, str]:\n",
    "            cmd = ['gsutil', 'rsync', '-r', src_dir, self.get_sync_url(remote_path)]\n",
    "            p = subprocess.Popen(cmd, stdout=subprocess.PIPE, stderr=subprocess.PIPE)\n",
    "            stdout, stderr = p.communicate()\n",
    "            err_code = 0\n",
    "            stderr_val = ''\n",
    "\n",
    "            if p.returncode != 0:\n",
    "                logging.error('Copy response is: {}'.format(stderr.decode('utf-8')))\n",
    "                stderr_val = stderr.decode('utf-8')\n",
    "                err_code = p.returncode\n",
    "\n",
    "            return err_code, stderr_val\n",
    "\n",
    "        return sync_call\n",
    "\n",
    "    def rm_file(self, relative_path: str) -> None:\n",
    "        bucket = self.client.bucket(self._bucket_name)\n",
    "        path = self._abs_path(relative_path)\n",
    "        blob = bucket.blob(path)\n",
    "        logging.info('Deleting file at ' + path)\n",
    "        blob.delete()\n",
    "\n",
    "    def rm_dir(self, relative_path: str) -> None:\n",
    "        bucket = self.client.bucket(self._bucket_name)\n",
    "        prefix = get_path_prefix(self._root_dir, relative_path)\n",
    "        blob = bucket.blob(prefix)\n",
    "        logging.info('Deleting files at ' + prefix)\n",
    "        blob.delete()\n",
    "\n",
    "    def read_content(self, path: str, throw_exception: bool, read_range: str = None, streaming: bool = False) -> bytes:\n",
    "        try:\n",
    "            path = self._abs_path(path)\n",
    "            bucket = self.client.bucket(self._bucket_name)\n",
    "            blob = bucket.blob(path)\n",
    "            result = blob.download_as_bytes()\n",
    "\n",
    "            if self.verbose:\n",
    "                logging.info(f\"Downloading content from {self._build_current_url()}/{path}\")\n",
    "\n",
    "            return result\n",
    "        except Exception as e:\n",
    "            raise\n",
    "\n",
    "    #def gen_presigned_url(self, path: str) -> str:\n",
    "    #    # dask and other frameworks explicit s3 link rather than a byte stream or contet (e.g. s3://bucket/foo.csv)\n",
    "    #    return self._s3.generate_presigned_url('get_object',\n",
    "    #                                           Params={'Bucket': self._bucket_name, 'Key': self._abs_path(path)})\n",
    "\n",
    "    # Checks to see if the job directory exists.  No side-effects.\n",
    "    def check_dir_exists(self, path: str) -> bool:\n",
    "        # Create the prefix for this particular job.\n",
    "        exists = False\n",
    "        prefix = get_path_prefix(self._root_dir, path)\n",
    "        blobs = list(self.client.list_blobs(\n",
    "            self._bucket_name, prefix=prefix\n",
    "        ))\n",
    "        if len(blobs) > 0:\n",
    "            exists = True\n",
    "\n",
    "        return exists\n",
    "\n",
    "    def _download_content(self, remote_path: str) -> bytes:\n",
    "        remote_path = self._abs_path(remote_path)\n",
    "        bucket = self.client.bucket(self._bucket_name)\n",
    "        blob = bucket.blob(remote_path)\n",
    "        if self.verbose:\n",
    "            logging.info(f\"Downloading content from {self._build_current_url()}/{remote_path}\")\n",
    "\n",
    "        fileobj = BytesIO()\n",
    "        blob.download_to_file(fileobj)\n",
    "        return fileobj.getvalue()\n",
    "\n",
    "    def download_file(self, remote_path: str, file_name: str) -> None:\n",
    "        # Move references to large data items across folders\n",
    "        remote_path = self._abs_path(remote_path)\n",
    "        bucket = self.client.bucket(self._bucket_name)\n",
    "        blob = bucket.blob(remote_path)\n",
    "        if self.verbose:\n",
    "            logging.info(f\"Downloading file {self._build_current_url()}/{remote_path} to {file_name}\")\n",
    "\n",
    "        dirname = os.path.dirname(file_name)\n",
    "\n",
    "        if dirname:\n",
    "            # Only create a directory if it's not ''\n",
    "            if not os.path.exists(dirname):\n",
    "                os.makedirs(dirname)\n",
    "\n",
    "        blob.download_to_filename(file_name)\n",
    "\n",
    "    def download_and_unzip(self, remote_path: str, local_dir: str) -> None:\n",
    "        zip_bytes = self._download_content(remote_path)\n",
    "        file_utils.unzip_into_dir(zip_bytes, local_dir)\n",
    "\n",
    "    def download_dir(self, remote_path: str, local_path: str) -> int:\n",
    "        nFiles = 0\n",
    "        if self.verbose:\n",
    "            logging.info(\"Downloading folder: \" + remote_path + \" to \" + local_path)\n",
    "\n",
    "        prefix = file_utils.get_path_prefix(self._root_dir, remote_path)\n",
    "        for blob in self.client.list_blobs(self._bucket_name, prefix=prefix):\n",
    "            if blob.name.endswith('/'):\n",
    "                continue\n",
    "\n",
    "            rel_path = os.path.relpath(blob.name, prefix)\n",
    "            dest_pathname = os.path.join(local_path, rel_path)\n",
    "\n",
    "            if not os.path.exists(os.path.dirname(dest_pathname)):\n",
    "                os.makedirs(os.path.dirname(dest_pathname))\n",
    "\n",
    "            if self.verbose:\n",
    "                logging.info(f\"Downloading file {blob.name} to {dest_pathname}\")\n",
    "\n",
    "            blob.download_to_filename(dest_pathname)  # Download\n",
    "            nFiles += 1\n",
    "\n",
    "        return nFiles\n",
    "\n",
    "    def upload_content(self, content: bytes, file_name: str) -> None:\n",
    "        # Uploads file content to a specific filename location\n",
    "        bucket = self.client.bucket(self._bucket_name)\n",
    "        if self.verbose:\n",
    "            logging.info(f\"Uploading content to {self._build_current_url()}/{file_name}\")\n",
    "\n",
    "        blob = bucket.blob(self._abs_path(file_name))\n",
    "        blob.upload_from_file(BytesIO(content))\n",
    "\n",
    "    def list_directory(self, path: str, with_size: bool = False) -> Dict:\n",
    "        prefix = get_path_prefix(self._root_dir, path)\n",
    "        bucket = self.client.bucket(self._bucket_name)\n",
    "        blobs = bucket.list_blobs(prefix=prefix)\n",
    "        nodes = []\n",
    "        for blob in blobs:\n",
    "            if blob.name.endswith('/'):\n",
    "                nodes.append(PathNode(name=os.path.basename(blob.name[:-1]), type='folder'))\n",
    "            else:\n",
    "                nodes.append(PathNode(name=os.path.basename(blob.name), type='file'))\n",
    "\n",
    "        return {\n",
    "            'nodes': nodes\n",
    "        }\n"
   ]
  },
  {
   "cell_type": "code",
   "execution_count": 2,
   "id": "ac19077f-ab85-4246-955d-f00e6e0137a5",
   "metadata": {},
   "outputs": [
    {
     "name": "stdout",
     "output_type": "stream",
     "text": [
      "/Users/victoria/dev/flowhub_gcp_credentials.json\n"
     ]
    }
   ],
   "source": [
    "import os\n",
    "\n",
    "from dotenv import load_dotenv\n",
    "load_dotenv(verbose=True)\n",
    "\n",
    "print(os.environ.get('GOOGLE_APPLICATION_CREDENTIALS'))"
   ]
  },
  {
   "cell_type": "code",
   "execution_count": 3,
   "id": "5f5d97ba-91e8-41e1-b662-4f97a75810a4",
   "metadata": {},
   "outputs": [],
   "source": [
    "manager = GCPStorageManager({\n",
    "    'bucket': 'partnerships-data-reporting',\n",
    "    'root': ''\n",
    "}, verbose=True)"
   ]
  },
  {
   "cell_type": "code",
   "execution_count": 4,
   "id": "cbc08e3a",
   "metadata": {},
   "outputs": [],
   "source": [
    "import sys\n",
    "if sys.version_info[0] < 3: \n",
    "    from StringIO import StringIO\n",
    "else:\n",
    "    from io import StringIO"
   ]
  },
  {
   "cell_type": "code",
   "execution_count": 5,
   "id": "d515f4db",
   "metadata": {},
   "outputs": [
    {
     "name": "stderr",
     "output_type": "stream",
     "text": [
      "/Users/victoria/GitHub/venvs/bespoke/lib/python3.8/site-packages/pandas/compat/__init__.py:124: UserWarning: Could not import the lzma module. Your installed Python is incomplete. Attempting to use lzma compression will result in a RuntimeError.\n",
      "  warnings.warn(msg)\n"
     ]
    }
   ],
   "source": [
    "import json\n",
    "import pandas as pd\n",
    "directory_contents = manager.list_directory('')['nodes']"
   ]
  },
  {
   "cell_type": "code",
   "execution_count": 6,
   "id": "5f1624c2",
   "metadata": {},
   "outputs": [
    {
     "name": "stdout",
     "output_type": "stream",
     "text": [
      "There are 100 companies in the dataset\n"
     ]
    }
   ],
   "source": [
    "company_ids_set = set([])\n",
    "\n",
    "for file_metadata in directory_contents:\n",
    "    file_name = file_metadata['name']\n",
    "    # Company locations file case.\n",
    "    if '_locations.csv' in file_name:\n",
    "        company_id = file_name.replace('_locations.csv', '')\n",
    "        company_ids_set.add(company_id)\n",
    "\n",
    "company_ids_count = len(list(company_ids_set))\n",
    "print(f'There are {company_ids_count} companies in the dataset')"
   ]
  },
  {
   "cell_type": "code",
   "execution_count": 7,
   "id": "037dda03",
   "metadata": {},
   "outputs": [
    {
     "name": "stdout",
     "output_type": "stream",
     "text": [
      "There are 178 company locations in the dataset\n"
     ]
    }
   ],
   "source": [
    "company_location_ids_set = set([])\n",
    "\n",
    "for company_id in company_ids_set:\n",
    "    locations_csv_string = manager.read_content(f'{company_id}/{company_id}_locations.csv', throw_exception=True)\n",
    "    locations_io = StringIO(locations_csv_string.decode(\"utf-8\"))\n",
    "    locations_dataframe = pd.read_csv(locations_io)\n",
    "    for location_index in locations_dataframe.index:\n",
    "        location_id = locations_dataframe['locationId'][location_index]\n",
    "        location_state = locations_dataframe['state'][location_index]\n",
    "        company_location_ids_set.add((company_id, location_id, location_state))\n",
    "\n",
    "company_location_ids_count = len(list(company_location_ids_set))\n",
    "print(f'There are {company_location_ids_count} company locations in the dataset')"
   ]
  },
  {
   "cell_type": "code",
   "execution_count": 8,
   "id": "14f3e8e7",
   "metadata": {
    "scrolled": true
   },
   "outputs": [
    {
     "name": "stdout",
     "output_type": "stream",
     "text": [
      "[1] Downloading sales dataframe for location (dPBnHGGKDN7BoewSb, k5QDGuijL8LfzKWbT, CO)\n",
      "[2] Downloading sales dataframe for location (7SRQ7Z7xuN5EGXGSu, SrS9ay3mNoQzJ79ys, CA)\n",
      "[3] Downloading sales dataframe for location (rrCXhvarvXo7P2fGo, g63EjGYZsjHPqyPL4, OR)\n",
      "[4] Downloading sales dataframe for location (P63pMT9HvTtdmhWcL, wceNMPjZukYhbKu4q, MI)\n",
      "[5] Downloading sales dataframe for location (rgNDsz626CTLnd53Y, NsTkwrKuNqSPpjxJn, CO)\n",
      "[6] Downloading sales dataframe for location (soGf2Qcrw8hz3zw7A, hJnyq4aQmJ8ZPDN2p, OR)\n",
      "[7] Downloading sales dataframe for location (rgNDsz626CTLnd53Y, vcSWQf42MRtpLdAyH, CO)\n",
      "[8] Downloading sales dataframe for location (rPXmTTcY4LXmgmTcG, PYKgsLK9FTwcSnmaT, OR)\n",
      "[9] Downloading sales dataframe for location (rgNDsz626CTLnd53Y, HJho8PdduZazwxzet, CO)\n",
      "[10] Downloading sales dataframe for location (EeKxS92bT8BmGsavE, GR8ucGDAawJ8XkF94, MI)\n",
      "[11] Downloading sales dataframe for location (6YRM2orTfSySDKhLL, R5EZkhoLBF9e7qxmF, MA)\n",
      "[12] Downloading sales dataframe for location (cSuhZSQExaug3odn5, iksYoAeKHCziH8wjb, CO)\n",
      "[13] Downloading sales dataframe for location (o46tyNKeC4xHZeh7h, kc7H5MybfG8z4QuAB, CO)\n",
      "[14] Downloading sales dataframe for location (iJscrRfw6uYjEhEKo, m4qw2bLpeNRpkwSog, CO)\n",
      "[15] Downloading sales dataframe for location (Q2ctDDsxjy23AoQLb, qxiz5WYXaraD6m9cw, CO)\n",
      "[16] Downloading sales dataframe for location (ueTXJNrihTPQS97vZ, Hcug7wxTBbgdcwuBp, CO)\n",
      "[17] Downloading sales dataframe for location (hcLfFhKstdmNNtBjx, WCXL3HhQzSr6kHaAX, CO)\n",
      "[18] Downloading sales dataframe for location (X28YzezeSoJRkQG5k, nkezQjPpvGv3imnQC, CO)\n",
      "[19] Downloading sales dataframe for location (GNPWTqYqZsfcAA6Jb, FgmkhfmA7qPSkMsx4, CO)\n",
      "[20] Downloading sales dataframe for location (rgNDsz626CTLnd53Y, FiY6sP2fB5xgpo6W7, CO)\n",
      "[21] Downloading sales dataframe for location (P63pMT9HvTtdmhWcL, iqfzKWKpcHmcw3zyB, MI)\n",
      "[22] Downloading sales dataframe for location (s4fnrie58B29225jc, bhKv2q34nZ3pwig9G, MI)\n",
      "[23] Downloading sales dataframe for location (KypyS8kNFhSPZxv7q, RJxDzpLGARNoej3x9, CO)\n",
      "[24] Downloading sales dataframe for location (E2ZWysfDHW2pqB7JW, icLHyCEKBqp4b4sGK, CO)\n",
      "[25] Downloading sales dataframe for location (j7MWhCyfRAgZstQdE, Xa54Pov4FpuTxizDd, CO)\n",
      "[26] Downloading sales dataframe for location (cSnsbv7ccTEXcHAbW, ssbs4evELKRzGP7Mg, OR)\n",
      "[27] Downloading sales dataframe for location (hRXNA7EETb3wW4HSM, buYyQC35TaEXfna9g, CO)\n",
      "[28] Downloading sales dataframe for location (Q2ctDDsxjy23AoQLb, Q2kMvxBHw5BF4acj3, CO)\n",
      "[29] Downloading sales dataframe for location (dPBnHGGKDN7BoewSb, noh5XdbxTK5gRSLMt, CO)\n",
      "[30] Downloading sales dataframe for location (P63pMT9HvTtdmhWcL, 6MixYQuZj8dX3wZaH, MI)\n",
      "[31] Downloading sales dataframe for location (E64uo3RvNGNDpvzsD, sLxB8GHBxW96yLLEc, CO)\n",
      "[32] Downloading sales dataframe for location (iJscrRfw6uYjEhEKo, YzMPTXGLr6SqEDAWY, CO)\n",
      "[33] Downloading sales dataframe for location (exFwNR5F4o5DGDKRW, AmkkHfRm6RjhEJGrK, CO)\n",
      "[34] Downloading sales dataframe for location (dPBnHGGKDN7BoewSb, bqKHM2aszQqLotXYD, CO)\n",
      "[35] Downloading sales dataframe for location (SPYsqAwk5XEjp9ZwX, CtuShNA5sgy8GnxMf, MI)\n",
      "[36] Downloading sales dataframe for location (kKBqnAwywSrKLGQpk, qMqFJoMnwH5fYqfzc, OR)\n",
      "[37] Downloading sales dataframe for location (skr37kBKma2BsYjxM, prYYNAY7hcMLYJzd9, MI)\n",
      "[38] Downloading sales dataframe for location (soGf2Qcrw8hz3zw7A, hWwpRPYtQk9D9ub8S, OR)\n",
      "[39] Downloading sales dataframe for location (DwAym344iPb22MYPr, yji6wnh5kT8GZmM26, OR)\n",
      "[40] Downloading sales dataframe for location (iJscrRfw6uYjEhEKo, LFjsRXJPgxtXfFzxm, CO)\n",
      "[41] Downloading sales dataframe for location (QtFmR4Qgdk2fcYQ2h, p4uoisdtyfqeYk4GX, OR)\n",
      "[42] Downloading sales dataframe for location (8fkcBjcmScuidkvn2, uf4FdoqBp8jKtAsGg, OR)\n",
      "[42] An exception occurred for location (8fkcBjcmScuidkvn2, uf4FdoqBp8jKtAsGg, OR)\n",
      "[43] Downloading sales dataframe for location (L7ME43C6TAoYv6HCb, 4hmkTc8KYoncMnH59, MA)\n",
      "[44] Downloading sales dataframe for location (KypyS8kNFhSPZxv7q, w2nkNYHgjfaWNPiCZ, CO)\n",
      "[45] Downloading sales dataframe for location (iyMFa4iWBQcwDJ96J, 7d2n9JxXJASYWzxxm, OR)\n",
      "[46] Downloading sales dataframe for location (SPYsqAwk5XEjp9ZwX, wvkqmogsjjjfSSocY, MI)\n",
      "[47] Downloading sales dataframe for location (ByCLyAjbSNLZFD4pc, oT9Y9S9wG9xzkCqTH, CO)\n",
      "[48] Downloading sales dataframe for location (dWLm7ENAouJ4WEoJP, wPF7B3axoELQhodfH, CO)\n",
      "[49] Downloading sales dataframe for location (df3sSmAoAmLuSmJWq, p6oXYdLQq99TZAHAw, CO)\n",
      "[50] Downloading sales dataframe for location (NpqM32uwNRKTTWTb6, hEDskKfvoCGHTkeDp, CO)\n",
      "[51] Downloading sales dataframe for location (s4fnrie58B29225jc, Qzo8oZNzMzx2jL6sd, MI)\n",
      "[52] Downloading sales dataframe for location (caH9RMynqjrmihrxA, YWunBwEwPiKPDeiJB, CO)\n",
      "[53] Downloading sales dataframe for location (D2JsangYtSFya4nDT, G4yyguo4R7wGp3NR8, CO)\n",
      "[54] Downloading sales dataframe for location (6DwQ3xhCWDGBRFFss, xiJBqHKLRED7J2vHe, CO)\n",
      "[55] Downloading sales dataframe for location (6DwQ3xhCWDGBRFFss, YLEEhTz7umoffAPqd, CO)\n",
      "[56] Downloading sales dataframe for location (hPzYzThkKMuQrF9Q2, zKiH8jXK5S7cw5j5N, CO)\n",
      "[57] Downloading sales dataframe for location (rPXmTTcY4LXmgmTcG, Wn3vq5TEvzEjrLoeo, OR)\n",
      "[58] Downloading sales dataframe for location (E2ZWysfDHW2pqB7JW, B8pM9KEBveyEBEN34, CO)\n",
      "[59] Downloading sales dataframe for location (rgNDsz626CTLnd53Y, X4umGyWwy8bByo3dp, CO)\n",
      "[60] Downloading sales dataframe for location (TETLayDXwuGSrkANd, Prey6qWiR9qx42BfZ, CO)\n",
      "[61] Downloading sales dataframe for location (W9FX7xfES6pZPg4o8, hoL6QWpKg4mFEEiB2, MA)\n",
      "[62] Downloading sales dataframe for location (XvKkyKyMz4g2D7jr3, rJPS4snkZyiazJ5ba, CO)\n",
      "[63] Downloading sales dataframe for location (JgeRNMvtP3A2tGcEo, aBq33e9dcXdb9JRWR, CO)\n",
      "[64] Downloading sales dataframe for location (7yxgKNbqd5PMNzX3P, nkd4rFdkFuwkzREqM, CA)\n",
      "[65] Downloading sales dataframe for location (wiyY5tNikq6WRPQ6E, q5ibpyhJiEuBwYCJv, MI)\n",
      "[66] Downloading sales dataframe for location (FuDLDjBXzkEPPQxZD, TgLFQQcK4NiY8unCE, MA)\n",
      "[67] Downloading sales dataframe for location (my6fhmSxAxbdFvBKm, Ttf4XqarkihAm2Fen, MI)\n",
      "[68] Downloading sales dataframe for location (Q2ctDDsxjy23AoQLb, PRvKKPwhXmGoDXZeb, CO)\n",
      "[69] Downloading sales dataframe for location (KkyhzzHqgJDFWPM9n, iSErbHS86nkF2ofqH, CA)\n",
      "[70] Downloading sales dataframe for location (kEYekxChnHJ5FRAc4, yTKh8QP9Yk7aQc7E3, CO)\n",
      "[71] Downloading sales dataframe for location (iJscrRfw6uYjEhEKo, KrCPtJaQmpa3cjXXN, CO)\n",
      "[72] Downloading sales dataframe for location (9aGAdAw3tYQ4MxCBc, eXX2KbkJinAoMSMJ8, CO)\n",
      "[73] Downloading sales dataframe for location (jfD4EGaLur6xsEHbQ, Wjgbcenow3oSALsgJ, CA)\n",
      "[74] Downloading sales dataframe for location (rgNDsz626CTLnd53Y, K5Toc7ZAJCFQ9e45G, CO)\n",
      "[75] Downloading sales dataframe for location (6K9bzPik9WxNFCceT, nMdvN7zKuFLBwkye7, OR)\n",
      "[76] Downloading sales dataframe for location (hcLfFhKstdmNNtBjx, stEZcHzK7YnStjxEY, CO)\n",
      "[77] Downloading sales dataframe for location (KkyhzzHqgJDFWPM9n, muYwpddLcAc6gTYYS, CA)\n",
      "[78] Downloading sales dataframe for location (gmAmheWQLfWvhg7aF, rAffv9HziBbzRzqh3, CO)\n",
      "[79] Downloading sales dataframe for location (PhGThGEkoJR7xy64q, j5Z3K6oX85m5xbH2T, CO)\n",
      "[80] Downloading sales dataframe for location (dbhjfjAkBf2xnrPDK, NYG4r9zcLLg8dpuDT, CO)\n",
      "[81] Downloading sales dataframe for location (dPBnHGGKDN7BoewSb, GquEcaJjTtznA2SNW, CO)\n",
      "[82] Downloading sales dataframe for location (6DwQ3xhCWDGBRFFss, CaNMh4HdcNdPFkoYK, CO)\n",
      "[83] Downloading sales dataframe for location (YYejGWetywzcxRhn6, 3KTQcT9Stpofdf5kB, OR)\n",
      "[84] Downloading sales dataframe for location (czyNjjNhCHky7mjfu, MDKfxxXkJLGffq9xg, MI)\n",
      "[85] Downloading sales dataframe for location (7SRQ7Z7xuN5EGXGSu, hTZZG34NPtdCXgXvf, CA)\n",
      "[86] Downloading sales dataframe for location (rgNDsz626CTLnd53Y, wGDNyMATiZMDwrEAC, CO)\n",
      "[87] Downloading sales dataframe for location (6DwQ3xhCWDGBRFFss, bS7R8w9hgETJuiZoj, CO)\n",
      "[88] Downloading sales dataframe for location (hbTCMydA4w2TnGqHE, mN2gXpCGvAx4aMbit, OR)\n",
      "[89] Downloading sales dataframe for location (d7u39ZjnznjCCE54L, eYoBctQZTqsmydrHY, CO)\n",
      "[90] Downloading sales dataframe for location (jfD4EGaLur6xsEHbQ, 9qbx82jZwxnvdDDNX, CA)\n",
      "[91] Downloading sales dataframe for location (ueTXJNrihTPQS97vZ, Procfg9sDkYKKQDAr, CO)\n",
      "[92] Downloading sales dataframe for location (pTYqYSwRCuxLKKzME, vWcpWc8k7eErZit6B, CO)\n"
     ]
    },
    {
     "name": "stdout",
     "output_type": "stream",
     "text": [
      "[93] Downloading sales dataframe for location (KypyS8kNFhSPZxv7q, GG4cRK5ci6BnXXrek, CO)\n",
      "[94] Downloading sales dataframe for location (XQak5YK9eZfXYhKgJ, wFgewqSvmGEQzyrLQ, OR)\n",
      "[95] Downloading sales dataframe for location (uBkpbfZHy55ndgnTv, JL5zpyFxo7J3rHxZK, OR)\n",
      "[96] Downloading sales dataframe for location (KkyhzzHqgJDFWPM9n, EuD42c5biCpsp7YAS, CA)\n",
      "[97] Downloading sales dataframe for location (s4fnrie58B29225jc, qh5yT7Q3YFa4RSMvW, MI)\n",
      "[98] Downloading sales dataframe for location (jfD4EGaLur6xsEHbQ, dRuDEyZkyY4YsToMD, CA)\n",
      "[99] Downloading sales dataframe for location (soGf2Qcrw8hz3zw7A, Fk7nnkg6WfWqTbA6r, OR)\n",
      "[100] Downloading sales dataframe for location (pNvk32k66RwiH4XLW, 35pY3nxKPGdfQKT28, CO)\n",
      "[101] Downloading sales dataframe for location (j7MWhCyfRAgZstQdE, BcggJ8dJgf6dG4HD6, CO)\n",
      "[102] Downloading sales dataframe for location (gmAmheWQLfWvhg7aF, p5YBJDMCPA7PcwEDA, CO)\n",
      "[103] Downloading sales dataframe for location (KkyhzzHqgJDFWPM9n, Ceoy5YkSujnhNt5Zn, CA)\n",
      "[104] Downloading sales dataframe for location (rgNDsz626CTLnd53Y, a99L3qQLhzu2mjmCT, CO)\n",
      "[105] Downloading sales dataframe for location (j7NR2ZFa5vXCAyxzR, ZvfRr674sQivsWR89, CA)\n",
      "[106] Downloading sales dataframe for location (JjtbeWp3LdAJp4xME, d8D9R65o75dzizwv7, OR)\n",
      "[107] Downloading sales dataframe for location (HmNDEqWf2NvmYGpZu, ZRSc2RYzna9Kni6Lo, CO)\n",
      "[108] Downloading sales dataframe for location (dPBnHGGKDN7BoewSb, Pm6LiFkoePFdAKSaL, CO)\n",
      "[109] Downloading sales dataframe for location (4xWeGuAg4jDmZSWxA, PY9ucfFTZc4XPSuPC, CO)\n",
      "[110] Downloading sales dataframe for location (s4fnrie58B29225jc, wBbhHYEDp52BowBXg, MI)\n",
      "[111] Downloading sales dataframe for location (pJRQ5CqncC9xk8bdy, bmJuhcYDiqAcbj6Ze, CA)\n",
      "[112] Downloading sales dataframe for location (KkyhzzHqgJDFWPM9n, 4syN56cW3Mz4jFb9b, CA)\n",
      "[113] Downloading sales dataframe for location (nCruygGQCoYecWbiA, hckksdjCgJZxCoSYx, OR)\n",
      "[114] Downloading sales dataframe for location (SPYsqAwk5XEjp9ZwX, eLHngApztHXt5s8EM, MI)\n",
      "[115] Downloading sales dataframe for location (WFSExqQKtsq6W7At8, H3ZmnEr9cJwLp69KF, OR)\n",
      "[116] Downloading sales dataframe for location (kEYekxChnHJ5FRAc4, pwJ65xWrRyZ4QFJGP, CO)\n",
      "[117] Downloading sales dataframe for location (Q2ctDDsxjy23AoQLb, vho4fBSgkDjiGBgup, CO)\n",
      "[118] Downloading sales dataframe for location (FeYB32454Az4yNvon, RFBbCqSpf2vmTqWfS, CO)\n",
      "[119] Downloading sales dataframe for location (gMn8iLck9MHoDu2xn, NCCNyEZrTpaHmptK6, MI)\n",
      "[120] Downloading sales dataframe for location (E2ZWysfDHW2pqB7JW, EsDe4nRt3MX35cZkb, CO)\n",
      "[121] Downloading sales dataframe for location (7SRQ7Z7xuN5EGXGSu, JDcPyy6NfkQHkyK5C, CA)\n",
      "[122] Downloading sales dataframe for location (Q2ctDDsxjy23AoQLb, QzxtSrfS8dh3qWsWm, CO)\n",
      "[123] Downloading sales dataframe for location (QZaMHjsdRoCrM6YpT, fNwQTfW3g6RHFzem2, CA)\n",
      "[124] Downloading sales dataframe for location (D4whhBS6cDZcxZTWQ, SbXJngA5SJw6fX4X7, CA)\n",
      "[125] Downloading sales dataframe for location (E2ZWysfDHW2pqB7JW, aYt5FfpYq2GnTagfC, CO)\n",
      "[126] Downloading sales dataframe for location (T3nGGs9v9BkBJkLAJ, TpetsriCnhipdAvdb, CO)\n",
      "[127] Downloading sales dataframe for location (ySB2RKAtEDYKERK9J, 2t3guxpfanCWqycA6, MA)\n",
      "[128] Downloading sales dataframe for location (NdvsZACyTb6HHHz5e, GmRxcxhgYYbY4rzWt, CA)\n",
      "[129] Downloading sales dataframe for location (4xWeGuAg4jDmZSWxA, b5KEZ723yYvGdccgv, CO)\n",
      "[130] Downloading sales dataframe for location (rK3atC7axuLcz3iRB, 7M2PxZuR7sPpfgfuJ, OR)\n",
      "[131] Downloading sales dataframe for location (dPBnHGGKDN7BoewSb, JTYN5fzmttm5Hp2nu, CO)\n",
      "[132] Downloading sales dataframe for location (P63pMT9HvTtdmhWcL, w6GrPdpwkjbsweeKC, MI)\n",
      "[133] Downloading sales dataframe for location (4A5DE8Zj5gDtSmCbn, JYAZRDbztXRLwJ5r6, CO)\n",
      "[134] Downloading sales dataframe for location (7yxgKNbqd5PMNzX3P, pDTpb5jcBPCkaM9Y4, CA)\n",
      "[135] Downloading sales dataframe for location (dPBnHGGKDN7BoewSb, 4H7u5h3YpH7AfhpRh, CO)\n",
      "[136] Downloading sales dataframe for location (j7MWhCyfRAgZstQdE, WPz3hFKPNePY6kFyT, CO)\n",
      "[137] Downloading sales dataframe for location (wAcmr4LCaqm2w6LPx, JzSkgYKPM4oTacbbF, CO)\n",
      "[138] Downloading sales dataframe for location (H7LmfTFQfqAqxaeGf, LPLszRsYMomFaBAQR, OR)\n",
      "[139] Downloading sales dataframe for location (iyMFa4iWBQcwDJ96J, c8tpERbSmkRvaauEn, OR)\n",
      "[140] Downloading sales dataframe for location (QeJpvdukLbF2jp29u, MChwYqG2LnkKmdY55, CO)\n",
      "[141] Downloading sales dataframe for location (GNPWTqYqZsfcAA6Jb, tjPZFyNwNnYMc8jcE, CO)\n",
      "[142] Downloading sales dataframe for location (KkyhzzHqgJDFWPM9n, boeYRjqKsN58hCttJ, CA)\n",
      "[143] Downloading sales dataframe for location (E2ZWysfDHW2pqB7JW, MbmydJAHsgpqFJJ4m, CO)\n",
      "[144] Downloading sales dataframe for location (E2ZWysfDHW2pqB7JW, 5CAwD9Rt2kBXddaEC, CO)\n",
      "[145] Downloading sales dataframe for location (KypyS8kNFhSPZxv7q, hqoDkhKFbRGdjaC9Z, CO)\n",
      "[146] Downloading sales dataframe for location (ScA2tJQp3iryzrBKS, fDrbnB9KCA2jnDbhg, CO)\n",
      "[147] Downloading sales dataframe for location (gmAmheWQLfWvhg7aF, aKiDRWpwJuhLABnWA, CO)\n",
      "[148] Downloading sales dataframe for location (fEsQ8GsoDAnE7KesF, LzgZfrLTtusirBknS, CA)\n",
      "[149] Downloading sales dataframe for location (Q2ctDDsxjy23AoQLb, 2yBx7nstyQ8ZsAmJr, CO)\n",
      "[150] Downloading sales dataframe for location (hPzYzThkKMuQrF9Q2, kWheTth4u6uMC4CC9, CO)\n",
      "[151] Downloading sales dataframe for location (WCoDEv4fPzofmrowz, F83aT7SK4wCj9pGMR, CA)\n",
      "[152] Downloading sales dataframe for location (8fkcBjcmScuidkvn2, MuirNe829ZExjNmek, OR)\n",
      "[153] Downloading sales dataframe for location (9aGAdAw3tYQ4MxCBc, mBaukdLE4GfLJHMk3, CO)\n",
      "[154] Downloading sales dataframe for location (FhSceFrGthqNntkEE, nkTZx6zDkxzBitF2D, OR)\n",
      "[155] Downloading sales dataframe for location (dPBnHGGKDN7BoewSb, wGeAKkDSeYQb22QhS, CO)\n",
      "[156] Downloading sales dataframe for location (7R5MBJ2wAH328M9P7, YmCZQD9MS5SLdc3AF, MI)\n",
      "[157] Downloading sales dataframe for location (7R5MBJ2wAH328M9P7, kYM3JYW6yPzhuu8tE, MI)\n",
      "[158] Downloading sales dataframe for location (dJg8Bmr3FDZhipSJe, rZCY6mc4x8y7Fepu6, MI)\n",
      "[159] Downloading sales dataframe for location (pTYqYSwRCuxLKKzME, QQvD4yk7CAtH2MDwa, AZ)\n",
      "[160] Downloading sales dataframe for location (dJg8Bmr3FDZhipSJe, 43HM2Zu77qrMksWB8, MI)\n",
      "[161] Downloading sales dataframe for location (caH9RMynqjrmihrxA, SMxaDCwvRkk9W5CYo, CO)\n",
      "[162] Downloading sales dataframe for location (7Grxab9AL8HbnNcCn, J4qscTeHW28gWBxju, CO)\n",
      "[163] Downloading sales dataframe for location (B9GQKa7DehxaHMtSX, REZC5uHgzDKsSqNGB, CO)\n",
      "[164] Downloading sales dataframe for location (cJzxLPbsT2xWzayjT, 5WjAeATyNJQEBp2Jp, OR)\n",
      "[165] Downloading sales dataframe for location (RqokibKjt6ueZK52s, 4QHc4Kakc8PD8EJR8, CO)\n",
      "[166] Downloading sales dataframe for location (AqJKG5gJ7MFSeX2Rp, txeeYRyjoA8XKgudG, CO)\n",
      "[167] Downloading sales dataframe for location (QZaMHjsdRoCrM6YpT, HYarvKnCx8LimvPHd, CA)\n",
      "[168] Downloading sales dataframe for location (zYJtFZdBBkQscrfpN, WSWKMiXdHM7Pjuk2E, OR)\n",
      "[169] Downloading sales dataframe for location (d2Q3Ga3jxiBpsHdHe, mE6ABrbzCLjFDRiCK, MI)\n",
      "[170] Downloading sales dataframe for location (9RfzKgXJn46NXH4Lm, HiupCL6yiRpbhdTWC, OR)\n",
      "[171] Downloading sales dataframe for location (9jrcBWKRkf9wgQ6mr, 6EAiLXwCs9wfXHbgG, CO)\n",
      "[172] Downloading sales dataframe for location (XQak5YK9eZfXYhKgJ, 4AnrvwyLnHh4YXT7k, OR)\n",
      "[173] Downloading sales dataframe for location (P63pMT9HvTtdmhWcL, 8XbpQa8QiwPcuxZbE, MI)\n",
      "[174] Downloading sales dataframe for location (P63pMT9HvTtdmhWcL, A9ZGNP4jxJfp8cErn, MI)\n",
      "[175] Downloading sales dataframe for location (jHRWDbw2acLnecEMb, Apjz33PejC6nxM44Q, CO)\n",
      "[176] Downloading sales dataframe for location (KypyS8kNFhSPZxv7q, ofeoiXgSPuM6PCyaN, CO)\n",
      "[177] Downloading sales dataframe for location (E2ZWysfDHW2pqB7JW, 8w9LHWtFkywXHFbjT, CO)\n",
      "[178] Downloading sales dataframe for location (7yxgKNbqd5PMNzX3P, TdyAhrZWq6MDeyNvu, CA)\n",
      "There are 177 company location dataframes in the dataset\n"
     ]
    }
   ],
   "source": [
    "# (company_id, location_id, location_state, location_sales_dataframe)\n",
    "company_location_dataframes = []\n",
    "\n",
    "for index, company_location_tuple in enumerate(company_location_ids_set):\n",
    "    company_id, location_id, location_state = company_location_tuple\n",
    "    print(f'[{index + 1}] Downloading sales dataframe for location ({company_id}, {location_id}, {location_state})')\n",
    "\n",
    "    try:\n",
    "        location_sales_csv_string = manager.read_content(f'{company_id}/{location_id}/{location_id}_sales.csv', throw_exception=True)\n",
    "        location_sales_io = StringIO(location_sales_csv_string.decode(\"utf-8\"))\n",
    "        location_sales_dataframe = pd.read_csv(location_sales_io)\n",
    "        company_location_dataframes.append((company_id, location_id, location_state, location_sales_dataframe))\n",
    "    except:\n",
    "        print(f'[{index + 1}] An exception occurred for location ({company_id}, {location_id}, {location_state})')\n",
    "\n",
    "company_location_dataframes_count = len(list(company_location_dataframes))\n",
    "print(f'There are {company_location_dataframes_count} company location dataframes in the dataset')"
   ]
  },
  {
   "cell_type": "code",
   "execution_count": 9,
   "id": "121ca3a4",
   "metadata": {
    "scrolled": true
   },
   "outputs": [
    {
     "data": {
      "text/plain": [
       "{'CO': 96, 'CA': 23, 'OR': 28, 'MI': 24, 'MA': 5, 'AZ': 1}"
      ]
     },
     "execution_count": 9,
     "metadata": {},
     "output_type": "execute_result"
    }
   ],
   "source": [
    "state_to_count = {}\n",
    "\n",
    "for company_id, location_id, location_state, location_sales_dataframe in company_location_dataframes:\n",
    "    # TODO: do data science stuff on these dataframes.\n",
    "#     print(company_id, location_id, location_state, location_sales_dataframe.shape)\n",
    "    if location_state not in state_to_count:\n",
    "        state_to_count[location_state] = 0\n",
    "    state_to_count[location_state] += 1\n",
    "\n",
    "state_to_count"
   ]
  },
  {
   "cell_type": "code",
   "execution_count": 10,
   "id": "e96bb74a",
   "metadata": {},
   "outputs": [
    {
     "name": "stdout",
     "output_type": "stream",
     "text": [
      "dPBnHGGKDN7BoewSb k5QDGuijL8LfzKWbT CO (117099, 14)\n",
      "7SRQ7Z7xuN5EGXGSu SrS9ay3mNoQzJ79ys CA (96588, 14)\n",
      "rrCXhvarvXo7P2fGo g63EjGYZsjHPqyPL4 OR (12608, 14)\n",
      "P63pMT9HvTtdmhWcL wceNMPjZukYhbKu4q MI (161421, 14)\n",
      "rgNDsz626CTLnd53Y NsTkwrKuNqSPpjxJn CO (43474, 14)\n",
      "soGf2Qcrw8hz3zw7A hJnyq4aQmJ8ZPDN2p OR (120912, 14)\n",
      "rgNDsz626CTLnd53Y vcSWQf42MRtpLdAyH CO (64324, 14)\n",
      "rPXmTTcY4LXmgmTcG PYKgsLK9FTwcSnmaT OR (11445, 14)\n",
      "rgNDsz626CTLnd53Y HJho8PdduZazwxzet CO (15942, 14)\n",
      "EeKxS92bT8BmGsavE GR8ucGDAawJ8XkF94 MI (4110, 14)\n",
      "6YRM2orTfSySDKhLL R5EZkhoLBF9e7qxmF MA (21429, 14)\n",
      "cSuhZSQExaug3odn5 iksYoAeKHCziH8wjb CO (1214, 14)\n",
      "o46tyNKeC4xHZeh7h kc7H5MybfG8z4QuAB CO (38262, 14)\n",
      "iJscrRfw6uYjEhEKo m4qw2bLpeNRpkwSog CO (74041, 14)\n",
      "Q2ctDDsxjy23AoQLb qxiz5WYXaraD6m9cw CO (37134, 14)\n",
      "ueTXJNrihTPQS97vZ Hcug7wxTBbgdcwuBp CO (15115, 14)\n",
      "hcLfFhKstdmNNtBjx WCXL3HhQzSr6kHaAX CO (26824, 14)\n",
      "X28YzezeSoJRkQG5k nkezQjPpvGv3imnQC CO (187847, 14)\n",
      "GNPWTqYqZsfcAA6Jb FgmkhfmA7qPSkMsx4 CO (73227, 14)\n",
      "rgNDsz626CTLnd53Y FiY6sP2fB5xgpo6W7 CO (55926, 14)\n",
      "P63pMT9HvTtdmhWcL iqfzKWKpcHmcw3zyB MI (7442, 14)\n",
      "s4fnrie58B29225jc bhKv2q34nZ3pwig9G MI (244188, 14)\n",
      "KypyS8kNFhSPZxv7q RJxDzpLGARNoej3x9 CO (183455, 14)\n",
      "E2ZWysfDHW2pqB7JW icLHyCEKBqp4b4sGK CO (38178, 14)\n",
      "j7MWhCyfRAgZstQdE Xa54Pov4FpuTxizDd CO (2299, 14)\n",
      "cSnsbv7ccTEXcHAbW ssbs4evELKRzGP7Mg OR (15653, 14)\n",
      "hRXNA7EETb3wW4HSM buYyQC35TaEXfna9g CO (40289, 14)\n",
      "Q2ctDDsxjy23AoQLb Q2kMvxBHw5BF4acj3 CO (68443, 14)\n",
      "dPBnHGGKDN7BoewSb noh5XdbxTK5gRSLMt CO (73560, 14)\n",
      "P63pMT9HvTtdmhWcL 6MixYQuZj8dX3wZaH MI (204964, 14)\n",
      "E64uo3RvNGNDpvzsD sLxB8GHBxW96yLLEc CO (80378, 14)\n",
      "iJscrRfw6uYjEhEKo YzMPTXGLr6SqEDAWY CO (36184, 14)\n",
      "exFwNR5F4o5DGDKRW AmkkHfRm6RjhEJGrK CO (16941, 14)\n",
      "dPBnHGGKDN7BoewSb bqKHM2aszQqLotXYD CO (45150, 14)\n",
      "SPYsqAwk5XEjp9ZwX CtuShNA5sgy8GnxMf MI (0, 14)\n",
      "kKBqnAwywSrKLGQpk qMqFJoMnwH5fYqfzc OR (8164, 14)\n",
      "skr37kBKma2BsYjxM prYYNAY7hcMLYJzd9 MI (10544, 14)\n",
      "soGf2Qcrw8hz3zw7A hWwpRPYtQk9D9ub8S OR (46736, 14)\n",
      "DwAym344iPb22MYPr yji6wnh5kT8GZmM26 OR (99916, 14)\n",
      "iJscrRfw6uYjEhEKo LFjsRXJPgxtXfFzxm CO (21258, 14)\n",
      "QtFmR4Qgdk2fcYQ2h p4uoisdtyfqeYk4GX OR (41500, 14)\n",
      "L7ME43C6TAoYv6HCb 4hmkTc8KYoncMnH59 MA (275058, 14)\n",
      "KypyS8kNFhSPZxv7q w2nkNYHgjfaWNPiCZ CO (0, 14)\n",
      "iyMFa4iWBQcwDJ96J 7d2n9JxXJASYWzxxm OR (48950, 14)\n",
      "SPYsqAwk5XEjp9ZwX wvkqmogsjjjfSSocY MI (126292, 14)\n",
      "ByCLyAjbSNLZFD4pc oT9Y9S9wG9xzkCqTH CO (78868, 14)\n",
      "dWLm7ENAouJ4WEoJP wPF7B3axoELQhodfH CO (17424, 14)\n",
      "df3sSmAoAmLuSmJWq p6oXYdLQq99TZAHAw CO (27106, 14)\n",
      "NpqM32uwNRKTTWTb6 hEDskKfvoCGHTkeDp CO (1978, 14)\n",
      "s4fnrie58B29225jc Qzo8oZNzMzx2jL6sd MI (112256, 14)\n",
      "caH9RMynqjrmihrxA YWunBwEwPiKPDeiJB CO (3511, 14)\n",
      "D2JsangYtSFya4nDT G4yyguo4R7wGp3NR8 CO (36765, 14)\n",
      "6DwQ3xhCWDGBRFFss xiJBqHKLRED7J2vHe CO (0, 14)\n",
      "6DwQ3xhCWDGBRFFss YLEEhTz7umoffAPqd CO (209708, 14)\n",
      "hPzYzThkKMuQrF9Q2 zKiH8jXK5S7cw5j5N CO (16898, 14)\n",
      "rPXmTTcY4LXmgmTcG Wn3vq5TEvzEjrLoeo OR (21157, 14)\n",
      "E2ZWysfDHW2pqB7JW B8pM9KEBveyEBEN34 CO (32161, 14)\n",
      "rgNDsz626CTLnd53Y X4umGyWwy8bByo3dp CO (60644, 14)\n",
      "TETLayDXwuGSrkANd Prey6qWiR9qx42BfZ CO (31643, 14)\n",
      "W9FX7xfES6pZPg4o8 hoL6QWpKg4mFEEiB2 MA (9386, 14)\n",
      "XvKkyKyMz4g2D7jr3 rJPS4snkZyiazJ5ba CO (9744, 14)\n",
      "JgeRNMvtP3A2tGcEo aBq33e9dcXdb9JRWR CO (111323, 14)\n",
      "7yxgKNbqd5PMNzX3P nkd4rFdkFuwkzREqM CA (21928, 14)\n",
      "wiyY5tNikq6WRPQ6E q5ibpyhJiEuBwYCJv MI (331585, 14)\n",
      "FuDLDjBXzkEPPQxZD TgLFQQcK4NiY8unCE MA (104292, 14)\n",
      "my6fhmSxAxbdFvBKm Ttf4XqarkihAm2Fen MI (11555, 14)\n",
      "Q2ctDDsxjy23AoQLb PRvKKPwhXmGoDXZeb CO (0, 14)\n",
      "KkyhzzHqgJDFWPM9n iSErbHS86nkF2ofqH CA (29967, 14)\n",
      "kEYekxChnHJ5FRAc4 yTKh8QP9Yk7aQc7E3 CO (925, 14)\n",
      "iJscrRfw6uYjEhEKo KrCPtJaQmpa3cjXXN CO (67631, 14)\n",
      "9aGAdAw3tYQ4MxCBc eXX2KbkJinAoMSMJ8 CO (14071, 14)\n",
      "jfD4EGaLur6xsEHbQ Wjgbcenow3oSALsgJ CA (32978, 14)\n",
      "rgNDsz626CTLnd53Y K5Toc7ZAJCFQ9e45G CO (39444, 14)\n",
      "6K9bzPik9WxNFCceT nMdvN7zKuFLBwkye7 OR (158265, 14)\n",
      "hcLfFhKstdmNNtBjx stEZcHzK7YnStjxEY CO (0, 14)\n",
      "KkyhzzHqgJDFWPM9n muYwpddLcAc6gTYYS CA (0, 14)\n",
      "gmAmheWQLfWvhg7aF rAffv9HziBbzRzqh3 CO (272086, 14)\n",
      "PhGThGEkoJR7xy64q j5Z3K6oX85m5xbH2T CO (9554, 14)\n",
      "dbhjfjAkBf2xnrPDK NYG4r9zcLLg8dpuDT CO (136330, 14)\n",
      "dPBnHGGKDN7BoewSb GquEcaJjTtznA2SNW CO (24231, 14)\n",
      "6DwQ3xhCWDGBRFFss CaNMh4HdcNdPFkoYK CO (44384, 14)\n",
      "YYejGWetywzcxRhn6 3KTQcT9Stpofdf5kB OR (87804, 14)\n",
      "czyNjjNhCHky7mjfu MDKfxxXkJLGffq9xg MI (59399, 14)\n",
      "7SRQ7Z7xuN5EGXGSu hTZZG34NPtdCXgXvf CA (0, 14)\n",
      "rgNDsz626CTLnd53Y wGDNyMATiZMDwrEAC CO (80754, 14)\n",
      "6DwQ3xhCWDGBRFFss bS7R8w9hgETJuiZoj CO (8526, 14)\n",
      "hbTCMydA4w2TnGqHE mN2gXpCGvAx4aMbit OR (268120, 14)\n",
      "d7u39ZjnznjCCE54L eYoBctQZTqsmydrHY CO (26656, 14)\n",
      "jfD4EGaLur6xsEHbQ 9qbx82jZwxnvdDDNX CA (29056, 14)\n",
      "ueTXJNrihTPQS97vZ Procfg9sDkYKKQDAr CO (20964, 14)\n",
      "pTYqYSwRCuxLKKzME vWcpWc8k7eErZit6B CO (27454, 14)\n",
      "KypyS8kNFhSPZxv7q GG4cRK5ci6BnXXrek CO (0, 14)\n",
      "XQak5YK9eZfXYhKgJ wFgewqSvmGEQzyrLQ OR (63447, 14)\n",
      "uBkpbfZHy55ndgnTv JL5zpyFxo7J3rHxZK OR (175755, 14)\n",
      "KkyhzzHqgJDFWPM9n EuD42c5biCpsp7YAS CA (0, 14)\n",
      "s4fnrie58B29225jc qh5yT7Q3YFa4RSMvW MI (240021, 14)\n",
      "jfD4EGaLur6xsEHbQ dRuDEyZkyY4YsToMD CA (12944, 14)\n",
      "soGf2Qcrw8hz3zw7A Fk7nnkg6WfWqTbA6r OR (111683, 14)\n",
      "pNvk32k66RwiH4XLW 35pY3nxKPGdfQKT28 CO (350164, 14)\n",
      "j7MWhCyfRAgZstQdE BcggJ8dJgf6dG4HD6 CO (2103, 14)\n",
      "gmAmheWQLfWvhg7aF p5YBJDMCPA7PcwEDA CO (99499, 14)\n",
      "KkyhzzHqgJDFWPM9n Ceoy5YkSujnhNt5Zn CA (0, 14)\n",
      "rgNDsz626CTLnd53Y a99L3qQLhzu2mjmCT CO (9749, 14)\n",
      "j7NR2ZFa5vXCAyxzR ZvfRr674sQivsWR89 CA (41593, 14)\n",
      "JjtbeWp3LdAJp4xME d8D9R65o75dzizwv7 OR (14795, 14)\n",
      "HmNDEqWf2NvmYGpZu ZRSc2RYzna9Kni6Lo CO (78182, 14)\n",
      "dPBnHGGKDN7BoewSb Pm6LiFkoePFdAKSaL CO (193177, 14)\n",
      "4xWeGuAg4jDmZSWxA PY9ucfFTZc4XPSuPC CO (121311, 14)\n",
      "s4fnrie58B29225jc wBbhHYEDp52BowBXg MI (96269, 14)\n",
      "pJRQ5CqncC9xk8bdy bmJuhcYDiqAcbj6Ze CA (63113, 14)\n",
      "KkyhzzHqgJDFWPM9n 4syN56cW3Mz4jFb9b CA (0, 14)\n",
      "nCruygGQCoYecWbiA hckksdjCgJZxCoSYx OR (68457, 14)\n",
      "SPYsqAwk5XEjp9ZwX eLHngApztHXt5s8EM MI (217217, 14)\n",
      "WFSExqQKtsq6W7At8 H3ZmnEr9cJwLp69KF OR (73214, 14)\n",
      "kEYekxChnHJ5FRAc4 pwJ65xWrRyZ4QFJGP CO (22903, 14)\n",
      "Q2ctDDsxjy23AoQLb vho4fBSgkDjiGBgup CO (63954, 14)\n",
      "FeYB32454Az4yNvon RFBbCqSpf2vmTqWfS CO (62817, 14)\n",
      "gMn8iLck9MHoDu2xn NCCNyEZrTpaHmptK6 MI (299053, 14)\n",
      "E2ZWysfDHW2pqB7JW EsDe4nRt3MX35cZkb CO (82976, 14)\n",
      "7SRQ7Z7xuN5EGXGSu JDcPyy6NfkQHkyK5C CA (229786, 14)\n",
      "Q2ctDDsxjy23AoQLb QzxtSrfS8dh3qWsWm CO (16478, 14)\n",
      "QZaMHjsdRoCrM6YpT fNwQTfW3g6RHFzem2 CA (274467, 14)\n",
      "D4whhBS6cDZcxZTWQ SbXJngA5SJw6fX4X7 CA (299452, 14)\n",
      "E2ZWysfDHW2pqB7JW aYt5FfpYq2GnTagfC CO (92023, 14)\n",
      "T3nGGs9v9BkBJkLAJ TpetsriCnhipdAvdb CO (21752, 14)\n",
      "ySB2RKAtEDYKERK9J 2t3guxpfanCWqycA6 MA (26957, 14)\n",
      "NdvsZACyTb6HHHz5e GmRxcxhgYYbY4rzWt CA (117839, 14)\n",
      "4xWeGuAg4jDmZSWxA b5KEZ723yYvGdccgv CO (99510, 14)\n",
      "rK3atC7axuLcz3iRB 7M2PxZuR7sPpfgfuJ OR (26586, 14)\n",
      "dPBnHGGKDN7BoewSb JTYN5fzmttm5Hp2nu CO (0, 14)\n",
      "P63pMT9HvTtdmhWcL w6GrPdpwkjbsweeKC MI (135728, 14)\n",
      "4A5DE8Zj5gDtSmCbn JYAZRDbztXRLwJ5r6 CO (40491, 14)\n",
      "7yxgKNbqd5PMNzX3P pDTpb5jcBPCkaM9Y4 CA (142045, 14)\n",
      "dPBnHGGKDN7BoewSb 4H7u5h3YpH7AfhpRh CO (45439, 14)\n",
      "j7MWhCyfRAgZstQdE WPz3hFKPNePY6kFyT CO (1968, 14)\n",
      "wAcmr4LCaqm2w6LPx JzSkgYKPM4oTacbbF CO (49372, 14)\n",
      "H7LmfTFQfqAqxaeGf LPLszRsYMomFaBAQR OR (53016, 14)\n",
      "iyMFa4iWBQcwDJ96J c8tpERbSmkRvaauEn OR (16623, 14)\n",
      "QeJpvdukLbF2jp29u MChwYqG2LnkKmdY55 CO (94764, 14)\n",
      "GNPWTqYqZsfcAA6Jb tjPZFyNwNnYMc8jcE CO (55297, 14)\n",
      "KkyhzzHqgJDFWPM9n boeYRjqKsN58hCttJ CA (0, 14)\n",
      "E2ZWysfDHW2pqB7JW MbmydJAHsgpqFJJ4m CO (83161, 14)\n",
      "E2ZWysfDHW2pqB7JW 5CAwD9Rt2kBXddaEC CO (34842, 14)\n",
      "KypyS8kNFhSPZxv7q hqoDkhKFbRGdjaC9Z CO (0, 14)\n",
      "ScA2tJQp3iryzrBKS fDrbnB9KCA2jnDbhg CO (82294, 14)\n",
      "gmAmheWQLfWvhg7aF aKiDRWpwJuhLABnWA CO (211878, 14)\n",
      "fEsQ8GsoDAnE7KesF LzgZfrLTtusirBknS CA (39744, 14)\n",
      "Q2ctDDsxjy23AoQLb 2yBx7nstyQ8ZsAmJr CO (64363, 14)\n",
      "hPzYzThkKMuQrF9Q2 kWheTth4u6uMC4CC9 CO (37298, 14)\n",
      "WCoDEv4fPzofmrowz F83aT7SK4wCj9pGMR CA (176377, 14)\n",
      "8fkcBjcmScuidkvn2 MuirNe829ZExjNmek OR (129405, 14)\n",
      "9aGAdAw3tYQ4MxCBc mBaukdLE4GfLJHMk3 CO (19408, 14)\n",
      "FhSceFrGthqNntkEE nkTZx6zDkxzBitF2D OR (253055, 14)\n",
      "dPBnHGGKDN7BoewSb wGeAKkDSeYQb22QhS CO (60857, 14)\n",
      "7R5MBJ2wAH328M9P7 YmCZQD9MS5SLdc3AF MI (307368, 14)\n",
      "7R5MBJ2wAH328M9P7 kYM3JYW6yPzhuu8tE MI (45523, 14)\n",
      "dJg8Bmr3FDZhipSJe rZCY6mc4x8y7Fepu6 MI (99506, 14)\n",
      "pTYqYSwRCuxLKKzME QQvD4yk7CAtH2MDwa AZ (50, 14)\n",
      "dJg8Bmr3FDZhipSJe 43HM2Zu77qrMksWB8 MI (27120, 14)\n",
      "caH9RMynqjrmihrxA SMxaDCwvRkk9W5CYo CO (1051, 14)\n",
      "7Grxab9AL8HbnNcCn J4qscTeHW28gWBxju CO (84745, 14)\n",
      "B9GQKa7DehxaHMtSX REZC5uHgzDKsSqNGB CO (37965, 14)\n",
      "cJzxLPbsT2xWzayjT 5WjAeATyNJQEBp2Jp OR (60265, 14)\n",
      "RqokibKjt6ueZK52s 4QHc4Kakc8PD8EJR8 CO (2068, 14)\n",
      "AqJKG5gJ7MFSeX2Rp txeeYRyjoA8XKgudG CO (78885, 14)\n",
      "QZaMHjsdRoCrM6YpT HYarvKnCx8LimvPHd CA (741, 14)\n",
      "zYJtFZdBBkQscrfpN WSWKMiXdHM7Pjuk2E OR (13657, 14)\n",
      "d2Q3Ga3jxiBpsHdHe mE6ABrbzCLjFDRiCK MI (44806, 14)\n",
      "9RfzKgXJn46NXH4Lm HiupCL6yiRpbhdTWC OR (38198, 14)\n",
      "9jrcBWKRkf9wgQ6mr 6EAiLXwCs9wfXHbgG CO (86911, 14)\n",
      "XQak5YK9eZfXYhKgJ 4AnrvwyLnHh4YXT7k OR (59828, 14)\n",
      "P63pMT9HvTtdmhWcL 8XbpQa8QiwPcuxZbE MI (0, 14)\n",
      "P63pMT9HvTtdmhWcL A9ZGNP4jxJfp8cErn MI (126709, 14)\n",
      "jHRWDbw2acLnecEMb Apjz33PejC6nxM44Q CO (43500, 14)\n",
      "KypyS8kNFhSPZxv7q ofeoiXgSPuM6PCyaN CO (131015, 14)\n",
      "E2ZWysfDHW2pqB7JW 8w9LHWtFkywXHFbjT CO (98436, 14)\n",
      "7yxgKNbqd5PMNzX3P TdyAhrZWq6MDeyNvu CA (638, 14)\n"
     ]
    }
   ],
   "source": [
    "for company_id, location_id, location_state, location_sales_dataframe in company_location_dataframes:\n",
    "    # TODO: do data science stuff on these dataframes.\n",
    "    print(company_id, location_id, location_state, location_sales_dataframe.shape)"
   ]
  },
  {
   "cell_type": "markdown",
   "id": "86cf7f50",
   "metadata": {},
   "source": [
    "# PROCESS DATA FRAMES"
   ]
  },
  {
   "cell_type": "code",
   "execution_count": 11,
   "id": "984fc6fd",
   "metadata": {},
   "outputs": [],
   "source": [
    "import numpy as np\n",
    "from tqdm import tqdm\n",
    "import seaborn as sns\n",
    "import matplotlib.pyplot as plt\n",
    "%matplotlib inline  "
   ]
  },
  {
   "cell_type": "code",
   "execution_count": 12,
   "id": "5de65756",
   "metadata": {},
   "outputs": [],
   "source": [
    "def pre_process_df(df,loc_id,loc_state):\n",
    "    df = (\n",
    "        df\n",
    "        .assign(**{\"SalesCreatedAt\": lambda df_: pd.to_datetime(df_['SalesCreatedAt'])})\n",
    "        .assign(**{\"year_month\": lambda df_: df_['SalesCreatedAt'].dt.strftime('%Y-%m')})\n",
    "        .replace('None', np.nan).fillna(0)\n",
    "    )\n",
    "    \n",
    "    print(\"total:\", df.shape)\n",
    "    df_zero_cost = df[df['costInDollars'] == 0]\n",
    "    print(\"zero cost:\",  df_zero_cost.shape)\n",
    "    df_nonzero_cost = df[df['costInDollars'] != 0]\n",
    "    print(\"non_zero cost:\", df_nonzero_cost.shape)\n",
    "        \n",
    "    cogs = df_nonzero_cost[['year_month','NetSales','costInDollars']].groupby('year_month').sum()\n",
    "    cogs['profit'] = cogs['NetSales'] - cogs['costInDollars']\n",
    "    cogs['margin_perc'] = cogs['profit'] / cogs['NetSales']\n",
    "    cogs['location_id'] = loc_id\n",
    "    cogs['location_state'] = loc_state\n",
    "    return cogs.reset_index()\n",
    "    "
   ]
  },
  {
   "cell_type": "code",
   "execution_count": 13,
   "id": "8a051524",
   "metadata": {},
   "outputs": [
    {
     "name": "stderr",
     "output_type": "stream",
     "text": [
      "  1%|          | 1/177 [00:00<01:55,  1.52it/s]"
     ]
    },
    {
     "name": "stdout",
     "output_type": "stream",
     "text": [
      "total: (117099, 15)\n",
      "zero cost: (131, 15)\n",
      "non_zero cost: (116968, 15)\n"
     ]
    },
    {
     "name": "stderr",
     "output_type": "stream",
     "text": [
      "\r",
      "  1%|          | 2/177 [00:01<01:41,  1.72it/s]"
     ]
    },
    {
     "name": "stdout",
     "output_type": "stream",
     "text": [
      "total: (96588, 15)\n",
      "zero cost: (5, 15)\n",
      "non_zero cost: (96583, 15)\n",
      "total: (12608, 15)\n",
      "zero cost: (8, 15)\n",
      "non_zero cost: (12600, 15)\n"
     ]
    },
    {
     "name": "stderr",
     "output_type": "stream",
     "text": [
      "\r",
      "  2%|▏         | 4/177 [00:02<01:29,  1.94it/s]"
     ]
    },
    {
     "name": "stdout",
     "output_type": "stream",
     "text": [
      "total: (161421, 15)\n",
      "zero cost: (82, 15)\n",
      "non_zero cost: (161339, 15)\n"
     ]
    },
    {
     "name": "stderr",
     "output_type": "stream",
     "text": [
      "\r",
      "  3%|▎         | 5/177 [00:02<01:14,  2.30it/s]"
     ]
    },
    {
     "name": "stdout",
     "output_type": "stream",
     "text": [
      "total: (43474, 15)\n",
      "zero cost: (7, 15)\n",
      "non_zero cost: (43467, 15)\n"
     ]
    },
    {
     "name": "stderr",
     "output_type": "stream",
     "text": [
      "\r",
      "  3%|▎         | 6/177 [00:03<01:25,  1.99it/s]"
     ]
    },
    {
     "name": "stdout",
     "output_type": "stream",
     "text": [
      "total: (120912, 15)\n",
      "zero cost: (0, 15)\n",
      "non_zero cost: (120912, 15)\n"
     ]
    },
    {
     "name": "stderr",
     "output_type": "stream",
     "text": [
      "  5%|▌         | 9/177 [00:03<00:47,  3.56it/s]"
     ]
    },
    {
     "name": "stdout",
     "output_type": "stream",
     "text": [
      "total: (64324, 15)\n",
      "zero cost: (8, 15)\n",
      "non_zero cost: (64316, 15)\n",
      "total: (11445, 15)\n",
      "zero cost: (0, 15)\n",
      "non_zero cost: (11445, 15)\n",
      "total: (15942, 15)\n",
      "zero cost: (3, 15)\n",
      "non_zero cost: (15939, 15)\n"
     ]
    },
    {
     "name": "stderr",
     "output_type": "stream",
     "text": [
      "\r",
      "  6%|▌         | 11/177 [00:03<00:32,  5.09it/s]"
     ]
    },
    {
     "name": "stdout",
     "output_type": "stream",
     "text": [
      "total: (4110, 15)\n",
      "zero cost: (63, 15)\n",
      "non_zero cost: (4047, 15)\n",
      "total: (21429, 15)\n",
      "zero cost: (291, 15)\n",
      "non_zero cost: (21138, 15)\n",
      "total: (1214, 15)\n",
      "zero cost: (114, 15)\n",
      "non_zero cost: (1100, 15)\n"
     ]
    },
    {
     "name": "stderr",
     "output_type": "stream",
     "text": [
      "\r",
      "  7%|▋         | 13/177 [00:03<00:26,  6.13it/s]"
     ]
    },
    {
     "name": "stdout",
     "output_type": "stream",
     "text": [
      "total: (38262, 15)\n",
      "zero cost: (1, 15)\n",
      "non_zero cost: (38261, 15)\n"
     ]
    },
    {
     "name": "stderr",
     "output_type": "stream",
     "text": [
      "\r",
      "  8%|▊         | 14/177 [00:04<00:34,  4.67it/s]"
     ]
    },
    {
     "name": "stdout",
     "output_type": "stream",
     "text": [
      "total: (74041, 15)\n",
      "zero cost: (7, 15)\n",
      "non_zero cost: (74034, 15)\n"
     ]
    },
    {
     "name": "stderr",
     "output_type": "stream",
     "text": [
      "\r",
      "  8%|▊         | 15/177 [00:04<00:34,  4.63it/s]"
     ]
    },
    {
     "name": "stdout",
     "output_type": "stream",
     "text": [
      "total: (37134, 15)\n",
      "zero cost: (7610, 15)\n",
      "non_zero cost: (29524, 15)\n",
      "total: (15115, 15)\n",
      "zero cost: (11, 15)\n",
      "non_zero cost: (15104, 15)\n"
     ]
    },
    {
     "name": "stderr",
     "output_type": "stream",
     "text": [
      "\r",
      " 10%|▉         | 17/177 [00:04<00:27,  5.73it/s]"
     ]
    },
    {
     "name": "stdout",
     "output_type": "stream",
     "text": [
      "total: (26824, 15)\n",
      "zero cost: (3001, 15)\n",
      "non_zero cost: (23823, 15)\n"
     ]
    },
    {
     "name": "stderr",
     "output_type": "stream",
     "text": [
      "\r",
      " 10%|█         | 18/177 [00:05<00:57,  2.75it/s]"
     ]
    },
    {
     "name": "stdout",
     "output_type": "stream",
     "text": [
      "total: (187847, 15)\n",
      "zero cost: (1, 15)\n",
      "non_zero cost: (187846, 15)\n"
     ]
    },
    {
     "name": "stderr",
     "output_type": "stream",
     "text": [
      "\r",
      " 11%|█         | 19/177 [00:06<00:59,  2.68it/s]"
     ]
    },
    {
     "name": "stdout",
     "output_type": "stream",
     "text": [
      "total: (73227, 15)\n",
      "zero cost: (34, 15)\n",
      "non_zero cost: (73193, 15)\n"
     ]
    },
    {
     "name": "stderr",
     "output_type": "stream",
     "text": [
      "\r",
      " 11%|█▏        | 20/177 [00:06<00:56,  2.78it/s]"
     ]
    },
    {
     "name": "stdout",
     "output_type": "stream",
     "text": [
      "total: (55926, 15)\n",
      "zero cost: (12, 15)\n",
      "non_zero cost: (55914, 15)\n",
      "total: (7442, 15)\n",
      "zero cost: (0, 15)\n",
      "non_zero cost: (7442, 15)\n"
     ]
    },
    {
     "name": "stderr",
     "output_type": "stream",
     "text": [
      "\r",
      " 12%|█▏        | 22/177 [00:07<01:17,  2.00it/s]"
     ]
    },
    {
     "name": "stdout",
     "output_type": "stream",
     "text": [
      "total: (244188, 15)\n",
      "zero cost: (559, 15)\n",
      "non_zero cost: (243629, 15)\n"
     ]
    },
    {
     "name": "stderr",
     "output_type": "stream",
     "text": [
      "\r",
      " 13%|█▎        | 23/177 [00:08<01:35,  1.61it/s]"
     ]
    },
    {
     "name": "stdout",
     "output_type": "stream",
     "text": [
      "total: (183455, 15)\n",
      "zero cost: (618, 15)\n",
      "non_zero cost: (182837, 15)\n"
     ]
    },
    {
     "name": "stderr",
     "output_type": "stream",
     "text": [
      " 15%|█▍        | 26/177 [00:09<00:49,  3.03it/s]"
     ]
    },
    {
     "name": "stdout",
     "output_type": "stream",
     "text": [
      "total: (38178, 15)\n",
      "zero cost: (16188, 15)\n",
      "non_zero cost: (21990, 15)\n",
      "total: (2299, 15)\n",
      "zero cost: (97, 15)\n",
      "non_zero cost: (2202, 15)\n",
      "total: (15653, 15)\n",
      "zero cost: (7, 15)\n",
      "non_zero cost: (15646, 15)\n"
     ]
    },
    {
     "name": "stderr",
     "output_type": "stream",
     "text": [
      "\r",
      " 15%|█▌        | 27/177 [00:09<00:45,  3.30it/s]"
     ]
    },
    {
     "name": "stdout",
     "output_type": "stream",
     "text": [
      "total: (40289, 15)\n",
      "zero cost: (2053, 15)\n",
      "non_zero cost: (38236, 15)\n"
     ]
    },
    {
     "name": "stderr",
     "output_type": "stream",
     "text": [
      "\r",
      " 16%|█▌        | 28/177 [00:09<00:48,  3.08it/s]"
     ]
    },
    {
     "name": "stdout",
     "output_type": "stream",
     "text": [
      "total: (68443, 15)\n",
      "zero cost: (9189, 15)\n",
      "non_zero cost: (59254, 15)\n"
     ]
    },
    {
     "name": "stderr",
     "output_type": "stream",
     "text": [
      "\r",
      " 16%|█▋        | 29/177 [00:10<00:51,  2.86it/s]"
     ]
    },
    {
     "name": "stdout",
     "output_type": "stream",
     "text": [
      "total: (73560, 15)\n",
      "zero cost: (146, 15)\n",
      "non_zero cost: (73414, 15)\n"
     ]
    },
    {
     "name": "stderr",
     "output_type": "stream",
     "text": [
      "\r",
      " 17%|█▋        | 30/177 [00:11<01:23,  1.76it/s]"
     ]
    },
    {
     "name": "stdout",
     "output_type": "stream",
     "text": [
      "total: (204964, 15)\n",
      "zero cost: (52, 15)\n",
      "non_zero cost: (204912, 15)\n"
     ]
    },
    {
     "name": "stderr",
     "output_type": "stream",
     "text": [
      "\r",
      " 18%|█▊        | 31/177 [00:11<01:18,  1.87it/s]"
     ]
    },
    {
     "name": "stdout",
     "output_type": "stream",
     "text": [
      "total: (80378, 15)\n",
      "zero cost: (172, 15)\n",
      "non_zero cost: (80206, 15)\n",
      "total: (36184, 15)\n",
      "zero cost: (6, 15)\n",
      "non_zero cost: (36178, 15)\n"
     ]
    },
    {
     "name": "stderr",
     "output_type": "stream",
     "text": [
      "\r",
      " 18%|█▊        | 32/177 [00:12<01:03,  2.29it/s]"
     ]
    },
    {
     "name": "stdout",
     "output_type": "stream",
     "text": [
      "total: (16941, 15)\n",
      "zero cost: (6193, 15)\n",
      "non_zero cost: (10748, 15)\n"
     ]
    },
    {
     "name": "stderr",
     "output_type": "stream",
     "text": [
      " 21%|██        | 37/177 [00:12<00:25,  5.59it/s]"
     ]
    },
    {
     "name": "stdout",
     "output_type": "stream",
     "text": [
      "total: (45150, 15)\n",
      "zero cost: (825, 15)\n",
      "non_zero cost: (44325, 15)\n",
      "total: (8164, 15)\n",
      "zero cost: (0, 15)\n",
      "non_zero cost: (8164, 15)\n",
      "total: (10544, 15)\n",
      "zero cost: (11, 15)\n",
      "non_zero cost: (10533, 15)\n",
      "total: (46736, 15)\n",
      "zero cost: (0, 15)\n",
      "non_zero cost: (46736, 15)\n"
     ]
    },
    {
     "name": "stderr",
     "output_type": "stream",
     "text": [
      " 23%|██▎       | 40/177 [00:13<00:30,  4.43it/s]"
     ]
    },
    {
     "name": "stdout",
     "output_type": "stream",
     "text": [
      "total: (99916, 15)\n",
      "zero cost: (72, 15)\n",
      "non_zero cost: (99844, 15)\n",
      "total: (21258, 15)\n",
      "zero cost: (187, 15)\n",
      "non_zero cost: (21071, 15)\n"
     ]
    },
    {
     "name": "stderr",
     "output_type": "stream",
     "text": [
      "\r",
      " 23%|██▎       | 41/177 [00:13<00:30,  4.48it/s]"
     ]
    },
    {
     "name": "stdout",
     "output_type": "stream",
     "text": [
      "total: (41500, 15)\n",
      "zero cost: (1, 15)\n",
      "non_zero cost: (41499, 15)\n"
     ]
    },
    {
     "name": "stderr",
     "output_type": "stream",
     "text": [
      "\r",
      " 24%|██▎       | 42/177 [00:15<01:10,  1.93it/s]"
     ]
    },
    {
     "name": "stdout",
     "output_type": "stream",
     "text": [
      "total: (275058, 15)\n",
      "zero cost: (66, 15)\n",
      "non_zero cost: (274992, 15)\n"
     ]
    },
    {
     "name": "stderr",
     "output_type": "stream",
     "text": [
      "\r",
      " 25%|██▍       | 44/177 [00:15<00:48,  2.76it/s]"
     ]
    },
    {
     "name": "stdout",
     "output_type": "stream",
     "text": [
      "total: (48950, 15)\n",
      "zero cost: (7, 15)\n",
      "non_zero cost: (48943, 15)\n"
     ]
    },
    {
     "name": "stderr",
     "output_type": "stream",
     "text": [
      "\r",
      " 25%|██▌       | 45/177 [00:16<00:57,  2.29it/s]"
     ]
    },
    {
     "name": "stdout",
     "output_type": "stream",
     "text": [
      "total: (126292, 15)\n",
      "zero cost: (4, 15)\n",
      "non_zero cost: (126288, 15)\n"
     ]
    },
    {
     "name": "stderr",
     "output_type": "stream",
     "text": [
      "\r",
      " 26%|██▌       | 46/177 [00:16<00:57,  2.29it/s]"
     ]
    },
    {
     "name": "stdout",
     "output_type": "stream",
     "text": [
      "total: (78868, 15)\n",
      "zero cost: (714, 15)\n",
      "non_zero cost: (78154, 15)\n",
      "total: (17424, 15)\n",
      "zero cost: (258, 15)\n",
      "non_zero cost: (17166, 15)\n"
     ]
    },
    {
     "name": "stderr",
     "output_type": "stream",
     "text": [
      "\r",
      " 27%|██▋       | 48/177 [00:16<00:39,  3.27it/s]"
     ]
    },
    {
     "name": "stdout",
     "output_type": "stream",
     "text": [
      "total: (27106, 15)\n",
      "zero cost: (515, 15)\n",
      "non_zero cost: (26591, 15)\n",
      "total: (1978, 15)\n",
      "zero cost: (22, 15)\n",
      "non_zero cost: (1956, 15)\n"
     ]
    },
    {
     "name": "stderr",
     "output_type": "stream",
     "text": [
      "\r",
      " 28%|██▊       | 50/177 [00:17<00:38,  3.26it/s]"
     ]
    },
    {
     "name": "stdout",
     "output_type": "stream",
     "text": [
      "total: (112256, 15)\n",
      "zero cost: (371, 15)\n",
      "non_zero cost: (111885, 15)\n",
      "total: (3511, 15)\n",
      "zero cost: (0, 15)\n",
      "non_zero cost: (3511, 15)\n"
     ]
    },
    {
     "name": "stderr",
     "output_type": "stream",
     "text": [
      "\r",
      " 29%|██▉       | 52/177 [00:17<00:30,  4.13it/s]"
     ]
    },
    {
     "name": "stdout",
     "output_type": "stream",
     "text": [
      "total: (36765, 15)\n",
      "zero cost: (1082, 15)\n",
      "non_zero cost: (35683, 15)\n"
     ]
    },
    {
     "name": "stderr",
     "output_type": "stream",
     "text": [
      "\r",
      " 31%|███       | 54/177 [00:18<00:42,  2.86it/s]"
     ]
    },
    {
     "name": "stdout",
     "output_type": "stream",
     "text": [
      "total: (209708, 15)\n",
      "zero cost: (7, 15)\n",
      "non_zero cost: (209701, 15)\n",
      "total: (16898, 15)\n",
      "zero cost: (0, 15)\n",
      "non_zero cost: (16898, 15)\n"
     ]
    },
    {
     "name": "stderr",
     "output_type": "stream",
     "text": [
      "\r",
      " 32%|███▏      | 56/177 [00:18<00:32,  3.71it/s]"
     ]
    },
    {
     "name": "stdout",
     "output_type": "stream",
     "text": [
      "total: (21157, 15)\n",
      "zero cost: (0, 15)\n",
      "non_zero cost: (21157, 15)\n",
      "total: (32161, 15)\n",
      "zero cost: (16006, 15)\n",
      "non_zero cost: (16155, 15)\n"
     ]
    },
    {
     "name": "stderr",
     "output_type": "stream",
     "text": [
      " 33%|███▎      | 58/177 [00:19<00:31,  3.74it/s]"
     ]
    },
    {
     "name": "stdout",
     "output_type": "stream",
     "text": [
      "total: (60644, 15)\n",
      "zero cost: (842, 15)\n",
      "non_zero cost: (59802, 15)\n",
      "total: (31643, 15)\n",
      "zero cost: (12, 15)\n"
     ]
    },
    {
     "name": "stderr",
     "output_type": "stream",
     "text": [
      " 34%|███▍      | 61/177 [00:19<00:19,  5.84it/s]"
     ]
    },
    {
     "name": "stdout",
     "output_type": "stream",
     "text": [
      "non_zero cost: (31631, 15)\n",
      "total: (9386, 15)\n",
      "zero cost: (11, 15)\n",
      "non_zero cost: (9375, 15)\n",
      "total: (9744, 15)\n",
      "zero cost: (80, 15)\n",
      "non_zero cost: (9664, 15)\n"
     ]
    },
    {
     "name": "stderr",
     "output_type": "stream",
     "text": [
      " 36%|███▌      | 63/177 [00:20<00:26,  4.35it/s]"
     ]
    },
    {
     "name": "stdout",
     "output_type": "stream",
     "text": [
      "total: (111323, 15)\n",
      "zero cost: (26145, 15)\n",
      "non_zero cost: (85178, 15)\n",
      "total: (21928, 15)\n",
      "zero cost: (0, 15)\n",
      "non_zero cost: (21928, 15)\n"
     ]
    },
    {
     "name": "stderr",
     "output_type": "stream",
     "text": [
      "\r",
      " 36%|███▌      | 64/177 [00:22<01:12,  1.56it/s]"
     ]
    },
    {
     "name": "stdout",
     "output_type": "stream",
     "text": [
      "total: (331585, 15)\n",
      "zero cost: (25, 15)\n",
      "non_zero cost: (331560, 15)\n"
     ]
    },
    {
     "name": "stderr",
     "output_type": "stream",
     "text": [
      "\r",
      " 37%|███▋      | 65/177 [00:22<01:08,  1.63it/s]"
     ]
    },
    {
     "name": "stdout",
     "output_type": "stream",
     "text": [
      "total: (104292, 15)\n",
      "zero cost: (18, 15)\n",
      "non_zero cost: (104274, 15)\n",
      "total: (11555, 15)\n",
      "zero cost: (50, 15)\n",
      "non_zero cost: (11505, 15)\n"
     ]
    },
    {
     "name": "stderr",
     "output_type": "stream",
     "text": [
      "\r",
      " 38%|███▊      | 68/177 [00:23<00:35,  3.04it/s]"
     ]
    },
    {
     "name": "stdout",
     "output_type": "stream",
     "text": [
      "total: (29967, 15)\n",
      "zero cost: (0, 15)\n",
      "non_zero cost: (29967, 15)\n",
      "total: (925, 15)\n",
      "zero cost: (0, 15)\n",
      "non_zero cost: (925, 15)\n"
     ]
    },
    {
     "name": "stderr",
     "output_type": "stream",
     "text": [
      "\r",
      " 40%|███▉      | 70/177 [00:23<00:29,  3.59it/s]"
     ]
    },
    {
     "name": "stdout",
     "output_type": "stream",
     "text": [
      "total: (67631, 15)\n",
      "zero cost: (20, 15)\n",
      "non_zero cost: (67611, 15)\n",
      "total: (14071, 15)\n",
      "zero cost: (4, 15)\n",
      "non_zero cost: (14067, 15)\n"
     ]
    },
    {
     "name": "stderr",
     "output_type": "stream",
     "text": [
      "\r",
      " 41%|████      | 72/177 [00:23<00:24,  4.30it/s]"
     ]
    },
    {
     "name": "stdout",
     "output_type": "stream",
     "text": [
      "total: (32978, 15)\n",
      "zero cost: (14, 15)\n",
      "non_zero cost: (32964, 15)\n",
      "total: (39444, 15)\n"
     ]
    },
    {
     "name": "stderr",
     "output_type": "stream",
     "text": [
      "\r",
      " 41%|████      | 73/177 [00:23<00:23,  4.41it/s]"
     ]
    },
    {
     "name": "stdout",
     "output_type": "stream",
     "text": [
      "zero cost: (10, 15)\n",
      "non_zero cost: (39434, 15)\n"
     ]
    },
    {
     "name": "stderr",
     "output_type": "stream",
     "text": [
      "\r",
      " 42%|████▏     | 74/177 [00:24<00:37,  2.75it/s]"
     ]
    },
    {
     "name": "stdout",
     "output_type": "stream",
     "text": [
      "total: (158265, 15)\n",
      "zero cost: (6, 15)\n",
      "non_zero cost: (158259, 15)\n"
     ]
    },
    {
     "name": "stderr",
     "output_type": "stream",
     "text": [
      "\r",
      " 44%|████▎     | 77/177 [00:26<00:43,  2.32it/s]"
     ]
    },
    {
     "name": "stdout",
     "output_type": "stream",
     "text": [
      "total: (272086, 15)\n",
      "zero cost: (7378, 15)\n",
      "non_zero cost: (264708, 15)\n",
      "total: (9554, 15)\n",
      "zero cost: (10, 15)\n",
      "non_zero cost: (9544, 15)\n"
     ]
    },
    {
     "name": "stderr",
     "output_type": "stream",
     "text": [
      " 45%|████▌     | 80/177 [00:27<00:35,  2.74it/s]"
     ]
    },
    {
     "name": "stdout",
     "output_type": "stream",
     "text": [
      "total: (136330, 15)\n",
      "zero cost: (27582, 15)\n",
      "non_zero cost: (108748, 15)\n",
      "total: (24231, 15)\n",
      "zero cost: (4812, 15)\n",
      "non_zero cost: (19419, 15)\n"
     ]
    },
    {
     "name": "stderr",
     "output_type": "stream",
     "text": [
      "\r",
      " 46%|████▌     | 81/177 [00:27<00:32,  2.92it/s]"
     ]
    },
    {
     "name": "stdout",
     "output_type": "stream",
     "text": [
      "total: (44384, 15)\n",
      "zero cost: (29, 15)\n",
      "non_zero cost: (44355, 15)\n"
     ]
    },
    {
     "name": "stderr",
     "output_type": "stream",
     "text": [
      "\r",
      " 46%|████▋     | 82/177 [00:27<00:35,  2.68it/s]"
     ]
    },
    {
     "name": "stdout",
     "output_type": "stream",
     "text": [
      "total: (87804, 15)\n",
      "zero cost: (62, 15)\n",
      "non_zero cost: (87742, 15)\n"
     ]
    },
    {
     "name": "stderr",
     "output_type": "stream",
     "text": [
      "\r",
      " 47%|████▋     | 83/177 [00:28<00:33,  2.81it/s]"
     ]
    },
    {
     "name": "stdout",
     "output_type": "stream",
     "text": [
      "total: (59399, 15)\n",
      "zero cost: (38, 15)\n",
      "non_zero cost: (59361, 15)\n"
     ]
    },
    {
     "name": "stderr",
     "output_type": "stream",
     "text": [
      "\r",
      " 48%|████▊     | 85/177 [00:28<00:27,  3.34it/s]"
     ]
    },
    {
     "name": "stdout",
     "output_type": "stream",
     "text": [
      "total: (80754, 15)\n",
      "zero cost: (12, 15)\n",
      "non_zero cost: (80742, 15)\n",
      "total: (8526, 15)\n",
      "zero cost: (0, 15)\n",
      "non_zero cost: (8526, 15)\n"
     ]
    },
    {
     "name": "stderr",
     "output_type": "stream",
     "text": [
      " 50%|████▉     | 88/177 [00:30<00:35,  2.49it/s]"
     ]
    },
    {
     "name": "stdout",
     "output_type": "stream",
     "text": [
      "total: (268120, 15)\n",
      "zero cost: (6, 15)\n",
      "non_zero cost: (268114, 15)\n",
      "total: (26656, 15)\n",
      "zero cost: (5827, 15)\n",
      "non_zero cost: (20829, 15)\n"
     ]
    },
    {
     "name": "stderr",
     "output_type": "stream",
     "text": [
      " 51%|█████     | 90/177 [00:30<00:25,  3.43it/s]"
     ]
    },
    {
     "name": "stdout",
     "output_type": "stream",
     "text": [
      "total: (29056, 15)\n",
      "zero cost: (0, 15)\n",
      "non_zero cost: (29056, 15)\n",
      "total: (20964, 15)\n",
      "zero cost: (195, 15)\n",
      "non_zero cost: (20769, 15)\n"
     ]
    },
    {
     "name": "stderr",
     "output_type": "stream",
     "text": [
      "\r",
      " 51%|█████▏    | 91/177 [00:30<00:21,  3.96it/s]"
     ]
    },
    {
     "name": "stdout",
     "output_type": "stream",
     "text": [
      "total: (27454, 15)\n",
      "zero cost: (33, 15)\n",
      "non_zero cost: (27421, 15)\n"
     ]
    },
    {
     "name": "stderr",
     "output_type": "stream",
     "text": [
      "\r",
      " 53%|█████▎    | 93/177 [00:31<00:18,  4.53it/s]"
     ]
    },
    {
     "name": "stdout",
     "output_type": "stream",
     "text": [
      "total: (63447, 15)\n",
      "zero cost: (1752, 15)\n",
      "non_zero cost: (61695, 15)\n"
     ]
    },
    {
     "name": "stderr",
     "output_type": "stream",
     "text": [
      "\r",
      " 53%|█████▎    | 94/177 [00:32<00:32,  2.53it/s]"
     ]
    },
    {
     "name": "stdout",
     "output_type": "stream",
     "text": [
      "total: (175755, 15)\n",
      "zero cost: (51601, 15)\n",
      "non_zero cost: (124154, 15)\n"
     ]
    },
    {
     "name": "stderr",
     "output_type": "stream",
     "text": [
      "\r",
      " 54%|█████▍    | 96/177 [00:33<00:40,  2.02it/s]"
     ]
    },
    {
     "name": "stdout",
     "output_type": "stream",
     "text": [
      "total: (240021, 15)\n",
      "zero cost: (339, 15)\n",
      "non_zero cost: (239682, 15)\n",
      "total: (12944, 15)\n",
      "zero cost: (0, 15)\n",
      "non_zero cost: (12944, 15)\n"
     ]
    },
    {
     "name": "stderr",
     "output_type": "stream",
     "text": [
      "\r",
      " 55%|█████▌    | 98/177 [00:34<00:34,  2.29it/s]"
     ]
    },
    {
     "name": "stdout",
     "output_type": "stream",
     "text": [
      "total: (111683, 15)\n",
      "zero cost: (8, 15)\n",
      "non_zero cost: (111675, 15)\n"
     ]
    },
    {
     "name": "stderr",
     "output_type": "stream",
     "text": [
      "\r",
      " 56%|█████▌    | 99/177 [00:36<00:57,  1.35it/s]"
     ]
    },
    {
     "name": "stdout",
     "output_type": "stream",
     "text": [
      "total: (350164, 15)\n",
      "zero cost: (0, 15)\n",
      "non_zero cost: (350164, 15)\n",
      "total: (2103, 15)\n",
      "zero cost: (559, 15)\n",
      "non_zero cost: (1544, 15)\n"
     ]
    },
    {
     "name": "stderr",
     "output_type": "stream",
     "text": [
      "\r",
      " 57%|█████▋    | 101/177 [00:36<00:43,  1.75it/s]"
     ]
    },
    {
     "name": "stdout",
     "output_type": "stream",
     "text": [
      "total: (99499, 15)\n",
      "zero cost: (34541, 15)\n",
      "non_zero cost: (64958, 15)\n",
      "total: (9749, 15)\n",
      "zero cost: (1, 15)\n",
      "non_zero cost: (9748, 15)\n"
     ]
    },
    {
     "name": "stderr",
     "output_type": "stream",
     "text": [
      "\r",
      " 59%|█████▉    | 104/177 [00:36<00:26,  2.80it/s]"
     ]
    },
    {
     "name": "stdout",
     "output_type": "stream",
     "text": [
      "total: (41593, 15)\n",
      "zero cost: (0, 15)\n",
      "non_zero cost: (41593, 15)\n",
      "total: (14795, 15)\n",
      "zero cost: (11, 15)\n",
      "non_zero cost: (14784, 15)\n"
     ]
    },
    {
     "name": "stderr",
     "output_type": "stream",
     "text": [
      "\r",
      " 60%|█████▉    | 106/177 [00:37<00:23,  3.07it/s]"
     ]
    },
    {
     "name": "stdout",
     "output_type": "stream",
     "text": [
      "total: (78182, 15)\n",
      "zero cost: (2, 15)\n",
      "non_zero cost: (78180, 15)\n"
     ]
    },
    {
     "name": "stderr",
     "output_type": "stream",
     "text": [
      "\r",
      " 60%|██████    | 107/177 [00:38<00:31,  2.19it/s]"
     ]
    },
    {
     "name": "stdout",
     "output_type": "stream",
     "text": [
      "total: (193177, 15)\n",
      "zero cost: (383, 15)\n",
      "non_zero cost: (192794, 15)\n"
     ]
    },
    {
     "name": "stderr",
     "output_type": "stream",
     "text": [
      "\r",
      " 61%|██████    | 108/177 [00:39<00:34,  1.99it/s]"
     ]
    },
    {
     "name": "stdout",
     "output_type": "stream",
     "text": [
      "total: (121311, 15)\n",
      "zero cost: (48391, 15)\n",
      "non_zero cost: (72920, 15)\n"
     ]
    },
    {
     "name": "stderr",
     "output_type": "stream",
     "text": [
      "\r",
      " 62%|██████▏   | 109/177 [00:39<00:34,  1.98it/s]"
     ]
    },
    {
     "name": "stdout",
     "output_type": "stream",
     "text": [
      "total: (96269, 15)\n",
      "zero cost: (234, 15)\n",
      "non_zero cost: (96035, 15)\n"
     ]
    },
    {
     "name": "stderr",
     "output_type": "stream",
     "text": [
      "\r",
      " 62%|██████▏   | 110/177 [00:39<00:30,  2.16it/s]"
     ]
    },
    {
     "name": "stdout",
     "output_type": "stream",
     "text": [
      "total: (63113, 15)\n",
      "zero cost: (0, 15)\n",
      "non_zero cost: (63113, 15)\n"
     ]
    },
    {
     "name": "stderr",
     "output_type": "stream",
     "text": [
      "\r",
      " 63%|██████▎   | 112/177 [00:40<00:22,  2.85it/s]"
     ]
    },
    {
     "name": "stdout",
     "output_type": "stream",
     "text": [
      "total: (68457, 15)\n",
      "zero cost: (0, 15)\n",
      "non_zero cost: (68457, 15)\n"
     ]
    },
    {
     "name": "stderr",
     "output_type": "stream",
     "text": [
      "\r",
      " 64%|██████▍   | 113/177 [00:41<00:34,  1.87it/s]"
     ]
    },
    {
     "name": "stdout",
     "output_type": "stream",
     "text": [
      "total: (217217, 15)\n",
      "zero cost: (111, 15)\n",
      "non_zero cost: (217106, 15)\n"
     ]
    },
    {
     "name": "stderr",
     "output_type": "stream",
     "text": [
      " 65%|██████▍   | 115/177 [00:42<00:25,  2.47it/s]"
     ]
    },
    {
     "name": "stdout",
     "output_type": "stream",
     "text": [
      "total: (73214, 15)\n",
      "zero cost: (0, 15)\n",
      "non_zero cost: (73214, 15)\n",
      "total: (22903, 15)\n",
      "zero cost: (14, 15)\n",
      "non_zero cost: (22889, 15)\n"
     ]
    },
    {
     "name": "stderr",
     "output_type": "stream",
     "text": [
      "\r",
      " 66%|██████▌   | 116/177 [00:42<00:23,  2.56it/s]"
     ]
    },
    {
     "name": "stdout",
     "output_type": "stream",
     "text": [
      "total: (63954, 15)\n",
      "zero cost: (9833, 15)\n",
      "non_zero cost: (54121, 15)\n"
     ]
    },
    {
     "name": "stderr",
     "output_type": "stream",
     "text": [
      "\r",
      " 66%|██████▌   | 117/177 [00:42<00:22,  2.63it/s]"
     ]
    },
    {
     "name": "stdout",
     "output_type": "stream",
     "text": [
      "total: (62817, 15)\n",
      "zero cost: (5785, 15)\n",
      "non_zero cost: (57032, 15)\n"
     ]
    },
    {
     "name": "stderr",
     "output_type": "stream",
     "text": [
      "\r",
      " 67%|██████▋   | 118/177 [00:44<00:43,  1.37it/s]"
     ]
    },
    {
     "name": "stdout",
     "output_type": "stream",
     "text": [
      "total: (299053, 15)\n",
      "zero cost: (0, 15)\n",
      "non_zero cost: (299053, 15)\n"
     ]
    },
    {
     "name": "stderr",
     "output_type": "stream",
     "text": [
      "\r",
      " 67%|██████▋   | 119/177 [00:44<00:37,  1.53it/s]"
     ]
    },
    {
     "name": "stdout",
     "output_type": "stream",
     "text": [
      "total: (82976, 15)\n",
      "zero cost: (34658, 15)\n",
      "non_zero cost: (48318, 15)\n"
     ]
    },
    {
     "name": "stderr",
     "output_type": "stream",
     "text": [
      "\r",
      " 68%|██████▊   | 120/177 [00:46<00:46,  1.22it/s]"
     ]
    },
    {
     "name": "stdout",
     "output_type": "stream",
     "text": [
      "total: (229786, 15)\n",
      "zero cost: (3, 15)\n",
      "non_zero cost: (229783, 15)\n",
      "total: (16478, 15)\n",
      "zero cost: (3051, 15)\n",
      "non_zero cost: (13427, 15)\n"
     ]
    },
    {
     "name": "stderr",
     "output_type": "stream",
     "text": [
      "\r",
      " 69%|██████▉   | 122/177 [00:47<00:44,  1.24it/s]"
     ]
    },
    {
     "name": "stdout",
     "output_type": "stream",
     "text": [
      "total: (274467, 15)\n",
      "zero cost: (0, 15)\n",
      "non_zero cost: (274467, 15)\n"
     ]
    },
    {
     "name": "stderr",
     "output_type": "stream",
     "text": [
      "\r",
      " 69%|██████▉   | 123/177 [00:49<00:54,  1.01s/it]"
     ]
    },
    {
     "name": "stdout",
     "output_type": "stream",
     "text": [
      "total: (299452, 15)\n",
      "zero cost: (22, 15)\n",
      "non_zero cost: (299430, 15)\n"
     ]
    },
    {
     "name": "stderr",
     "output_type": "stream",
     "text": [
      " 71%|███████   | 125/177 [00:49<00:34,  1.49it/s]"
     ]
    },
    {
     "name": "stdout",
     "output_type": "stream",
     "text": [
      "total: (92023, 15)\n",
      "zero cost: (31459, 15)\n",
      "non_zero cost: (60564, 15)\n",
      "total: (21752, 15)\n",
      "zero cost: (0, 15)\n",
      "non_zero cost: (21752, 15)\n"
     ]
    },
    {
     "name": "stderr",
     "output_type": "stream",
     "text": [
      "\r",
      " 71%|███████   | 126/177 [00:49<00:26,  1.91it/s]"
     ]
    },
    {
     "name": "stdout",
     "output_type": "stream",
     "text": [
      "total: (26957, 15)\n",
      "zero cost: (30, 15)\n",
      "non_zero cost: (26927, 15)\n"
     ]
    },
    {
     "name": "stderr",
     "output_type": "stream",
     "text": [
      "\r",
      " 72%|███████▏  | 127/177 [00:50<00:27,  1.79it/s]"
     ]
    },
    {
     "name": "stdout",
     "output_type": "stream",
     "text": [
      "total: (117839, 15)\n",
      "zero cost: (5, 15)\n",
      "non_zero cost: (117834, 15)\n"
     ]
    },
    {
     "name": "stderr",
     "output_type": "stream",
     "text": [
      " 73%|███████▎  | 129/177 [00:51<00:20,  2.32it/s]"
     ]
    },
    {
     "name": "stdout",
     "output_type": "stream",
     "text": [
      "total: (99510, 15)\n",
      "zero cost: (47258, 15)\n",
      "non_zero cost: (52252, 15)\n",
      "total: (26586, 15)\n",
      "zero cost: (0, 15)\n",
      "non_zero cost: (26586, 15)\n"
     ]
    },
    {
     "name": "stderr",
     "output_type": "stream",
     "text": [
      "\r",
      " 74%|███████▍  | 131/177 [00:52<00:18,  2.46it/s]"
     ]
    },
    {
     "name": "stdout",
     "output_type": "stream",
     "text": [
      "total: (135728, 15)\n",
      "zero cost: (39, 15)\n",
      "non_zero cost: (135689, 15)\n"
     ]
    },
    {
     "name": "stderr",
     "output_type": "stream",
     "text": [
      "\r",
      " 75%|███████▍  | 132/177 [00:52<00:16,  2.80it/s]"
     ]
    },
    {
     "name": "stdout",
     "output_type": "stream",
     "text": [
      "total: (40491, 15)\n",
      "zero cost: (53, 15)\n",
      "non_zero cost: (40438, 15)\n"
     ]
    },
    {
     "name": "stderr",
     "output_type": "stream",
     "text": [
      "\r",
      " 75%|███████▌  | 133/177 [00:53<00:20,  2.16it/s]"
     ]
    },
    {
     "name": "stdout",
     "output_type": "stream",
     "text": [
      "total: (142045, 15)\n",
      "zero cost: (0, 15)\n",
      "non_zero cost: (142045, 15)\n"
     ]
    },
    {
     "name": "stderr",
     "output_type": "stream",
     "text": [
      "\r",
      " 76%|███████▌  | 134/177 [00:53<00:17,  2.45it/s]"
     ]
    },
    {
     "name": "stdout",
     "output_type": "stream",
     "text": [
      "total: (45439, 15)\n",
      "zero cost: (7, 15)\n",
      "non_zero cost: (45432, 15)\n",
      "total: (1968, 15)\n",
      "zero cost: (354, 15)\n",
      "non_zero cost: (1614, 15)\n"
     ]
    },
    {
     "name": "stderr",
     "output_type": "stream",
     "text": [
      "\r",
      " 77%|███████▋  | 136/177 [00:53<00:12,  3.39it/s]"
     ]
    },
    {
     "name": "stdout",
     "output_type": "stream",
     "text": [
      "total: (49372, 15)\n",
      "zero cost: (17, 15)\n",
      "non_zero cost: (49355, 15)\n"
     ]
    },
    {
     "name": "stderr",
     "output_type": "stream",
     "text": [
      "\r",
      " 77%|███████▋  | 137/177 [00:53<00:11,  3.45it/s]"
     ]
    },
    {
     "name": "stdout",
     "output_type": "stream",
     "text": [
      "total: (53016, 15)\n",
      "zero cost: (1, 15)\n",
      "non_zero cost: (53015, 15)\n",
      "total: (16623, 15)\n",
      "zero cost: (2, 15)\n",
      "non_zero cost: (16621, 15)\n"
     ]
    },
    {
     "name": "stderr",
     "output_type": "stream",
     "text": [
      "\r",
      " 79%|███████▊  | 139/177 [00:54<00:11,  3.41it/s]"
     ]
    },
    {
     "name": "stdout",
     "output_type": "stream",
     "text": [
      "total: (94764, 15)\n",
      "zero cost: (9, 15)\n",
      "non_zero cost: (94755, 15)\n"
     ]
    },
    {
     "name": "stderr",
     "output_type": "stream",
     "text": [
      "\r",
      " 79%|███████▉  | 140/177 [00:54<00:10,  3.37it/s]"
     ]
    },
    {
     "name": "stdout",
     "output_type": "stream",
     "text": [
      "total: (55297, 15)\n",
      "zero cost: (12, 15)\n",
      "non_zero cost: (55285, 15)\n"
     ]
    },
    {
     "name": "stderr",
     "output_type": "stream",
     "text": [
      " 81%|████████  | 143/177 [00:55<00:08,  4.00it/s]"
     ]
    },
    {
     "name": "stdout",
     "output_type": "stream",
     "text": [
      "total: (83161, 15)\n",
      "zero cost: (23154, 15)\n",
      "non_zero cost: (60007, 15)\n",
      "total: (34842, 15)\n",
      "zero cost: (1, 15)\n",
      "non_zero cost: (34841, 15)\n"
     ]
    },
    {
     "name": "stderr",
     "output_type": "stream",
     "text": [
      "\r",
      " 82%|████████▏ | 145/177 [00:55<00:07,  4.17it/s]"
     ]
    },
    {
     "name": "stdout",
     "output_type": "stream",
     "text": [
      "total: (82294, 15)\n",
      "zero cost: (1, 15)\n",
      "non_zero cost: (82293, 15)\n"
     ]
    },
    {
     "name": "stderr",
     "output_type": "stream",
     "text": [
      "\r",
      " 82%|████████▏ | 146/177 [00:57<00:13,  2.27it/s]"
     ]
    },
    {
     "name": "stdout",
     "output_type": "stream",
     "text": [
      "total: (211878, 15)\n",
      "zero cost: (294, 15)\n",
      "non_zero cost: (211584, 15)\n"
     ]
    },
    {
     "name": "stderr",
     "output_type": "stream",
     "text": [
      "\r",
      " 83%|████████▎ | 147/177 [00:57<00:11,  2.55it/s]"
     ]
    },
    {
     "name": "stdout",
     "output_type": "stream",
     "text": [
      "total: (39744, 15)\n",
      "zero cost: (3, 15)\n",
      "non_zero cost: (39741, 15)\n"
     ]
    },
    {
     "name": "stderr",
     "output_type": "stream",
     "text": [
      "\r",
      " 84%|████████▎ | 148/177 [00:57<00:10,  2.66it/s]"
     ]
    },
    {
     "name": "stdout",
     "output_type": "stream",
     "text": [
      "total: (64363, 15)\n",
      "zero cost: (7991, 15)\n",
      "non_zero cost: (56372, 15)\n"
     ]
    },
    {
     "name": "stderr",
     "output_type": "stream",
     "text": [
      "\r",
      " 84%|████████▍ | 149/177 [00:57<00:09,  2.99it/s]"
     ]
    },
    {
     "name": "stdout",
     "output_type": "stream",
     "text": [
      "total: (37298, 15)\n",
      "zero cost: (19, 15)\n",
      "non_zero cost: (37279, 15)\n"
     ]
    },
    {
     "name": "stderr",
     "output_type": "stream",
     "text": [
      "\r",
      " 85%|████████▍ | 150/177 [00:58<00:13,  1.97it/s]"
     ]
    },
    {
     "name": "stdout",
     "output_type": "stream",
     "text": [
      "total: (176377, 15)\n",
      "zero cost: (6, 15)\n",
      "non_zero cost: (176371, 15)\n"
     ]
    },
    {
     "name": "stderr",
     "output_type": "stream",
     "text": [
      " 86%|████████▌ | 152/177 [00:59<00:10,  2.35it/s]"
     ]
    },
    {
     "name": "stdout",
     "output_type": "stream",
     "text": [
      "total: (129405, 15)\n",
      "zero cost: (0, 15)\n",
      "non_zero cost: (129405, 15)\n",
      "total: (19408, 15)\n",
      "zero cost: (600, 15)\n",
      "non_zero cost: (18808, 15)\n"
     ]
    },
    {
     "name": "stderr",
     "output_type": "stream",
     "text": [
      "\r",
      " 86%|████████▋ | 153/177 [01:00<00:16,  1.43it/s]"
     ]
    },
    {
     "name": "stdout",
     "output_type": "stream",
     "text": [
      "total: (253055, 15)\n",
      "zero cost: (577, 15)\n",
      "non_zero cost: (252478, 15)\n"
     ]
    },
    {
     "name": "stderr",
     "output_type": "stream",
     "text": [
      "\r",
      " 87%|████████▋ | 154/177 [01:01<00:13,  1.68it/s]"
     ]
    },
    {
     "name": "stdout",
     "output_type": "stream",
     "text": [
      "total: (60857, 15)\n",
      "zero cost: (357, 15)\n",
      "non_zero cost: (60500, 15)\n"
     ]
    },
    {
     "name": "stderr",
     "output_type": "stream",
     "text": [
      "\r",
      " 88%|████████▊ | 155/177 [01:02<00:20,  1.10it/s]"
     ]
    },
    {
     "name": "stdout",
     "output_type": "stream",
     "text": [
      "total: (307368, 15)\n",
      "zero cost: (190, 15)\n",
      "non_zero cost: (307178, 15)\n"
     ]
    },
    {
     "name": "stderr",
     "output_type": "stream",
     "text": [
      "\r",
      " 88%|████████▊ | 156/177 [01:03<00:14,  1.41it/s]"
     ]
    },
    {
     "name": "stdout",
     "output_type": "stream",
     "text": [
      "total: (45523, 15)\n",
      "zero cost: (8, 15)\n",
      "non_zero cost: (45515, 15)\n"
     ]
    },
    {
     "name": "stderr",
     "output_type": "stream",
     "text": [
      " 90%|████████▉ | 159/177 [01:03<00:06,  2.58it/s]"
     ]
    },
    {
     "name": "stdout",
     "output_type": "stream",
     "text": [
      "total: (99506, 15)\n",
      "zero cost: (3, 15)\n",
      "non_zero cost: (99503, 15)\n",
      "total: (50, 15)\n",
      "zero cost: (0, 15)\n",
      "non_zero cost: (50, 15)\n",
      "total: (27120, 15)\n",
      "zero cost: (2, 15)\n",
      "non_zero cost: (27118, 15)\n",
      "total: (1051, 15)\n",
      "zero cost: (0, 15)\n",
      "non_zero cost: (1051, 15)\n"
     ]
    },
    {
     "name": "stderr",
     "output_type": "stream",
     "text": [
      "\r",
      " 91%|█████████ | 161/177 [01:04<00:05,  3.06it/s]"
     ]
    },
    {
     "name": "stdout",
     "output_type": "stream",
     "text": [
      "total: (84745, 15)\n",
      "zero cost: (0, 15)\n",
      "non_zero cost: (84745, 15)\n"
     ]
    },
    {
     "name": "stderr",
     "output_type": "stream",
     "text": [
      "\r",
      " 92%|█████████▏| 162/177 [01:04<00:04,  3.29it/s]"
     ]
    },
    {
     "name": "stdout",
     "output_type": "stream",
     "text": [
      "total: (37965, 15)\n",
      "zero cost: (45, 15)\n",
      "non_zero cost: (37920, 15)\n"
     ]
    },
    {
     "name": "stderr",
     "output_type": "stream",
     "text": [
      "\r",
      " 92%|█████████▏| 163/177 [01:04<00:04,  3.28it/s]"
     ]
    },
    {
     "name": "stdout",
     "output_type": "stream",
     "text": [
      "total: (60265, 15)\n",
      "zero cost: (44, 15)\n",
      "non_zero cost: (60221, 15)\n",
      "total: (2068, 15)\n",
      "zero cost: (0, 15)\n",
      "non_zero cost: (2068, 15)\n"
     ]
    },
    {
     "name": "stderr",
     "output_type": "stream",
     "text": [
      "\r",
      " 93%|█████████▎| 165/177 [01:05<00:03,  3.68it/s]"
     ]
    },
    {
     "name": "stdout",
     "output_type": "stream",
     "text": [
      "total: (78885, 15)\n",
      "zero cost: (94, 15)\n",
      "non_zero cost: (78791, 15)\n",
      "total: (741, 15)\n",
      "zero cost: (0, 15)\n",
      "non_zero cost: (741, 15)\n",
      "total: (13657, 15)\n",
      "zero cost: (0, 15)\n",
      "non_zero cost: (13657, 15)\n"
     ]
    },
    {
     "name": "stderr",
     "output_type": "stream",
     "text": [
      "\r",
      " 95%|█████████▍| 168/177 [01:05<00:01,  5.05it/s]"
     ]
    },
    {
     "name": "stdout",
     "output_type": "stream",
     "text": [
      "total: (44806, 15)\n",
      "zero cost: (400, 15)\n",
      "non_zero cost: (44406, 15)\n",
      "total: (38198, 15)\n",
      "zero cost: (0, 15)\n"
     ]
    },
    {
     "name": "stderr",
     "output_type": "stream",
     "text": [
      "\r",
      " 95%|█████████▌| 169/177 [01:05<00:01,  5.06it/s]"
     ]
    },
    {
     "name": "stdout",
     "output_type": "stream",
     "text": [
      "non_zero cost: (38198, 15)\n"
     ]
    },
    {
     "name": "stderr",
     "output_type": "stream",
     "text": [
      "\r",
      " 96%|█████████▌| 170/177 [01:06<00:01,  3.95it/s]"
     ]
    },
    {
     "name": "stdout",
     "output_type": "stream",
     "text": [
      "total: (86911, 15)\n",
      "zero cost: (0, 15)\n",
      "non_zero cost: (86911, 15)\n"
     ]
    },
    {
     "name": "stderr",
     "output_type": "stream",
     "text": [
      "\r",
      " 97%|█████████▋| 171/177 [01:06<00:01,  3.68it/s]"
     ]
    },
    {
     "name": "stdout",
     "output_type": "stream",
     "text": [
      "total: (59828, 15)\n",
      "zero cost: (3493, 15)\n",
      "non_zero cost: (56335, 15)\n"
     ]
    },
    {
     "name": "stderr",
     "output_type": "stream",
     "text": [
      "\r",
      " 98%|█████████▊| 173/177 [01:07<00:01,  3.38it/s]"
     ]
    },
    {
     "name": "stdout",
     "output_type": "stream",
     "text": [
      "total: (126709, 15)\n",
      "zero cost: (33, 15)\n",
      "non_zero cost: (126676, 15)\n"
     ]
    },
    {
     "name": "stderr",
     "output_type": "stream",
     "text": [
      "\r",
      " 98%|█████████▊| 174/177 [01:07<00:00,  3.58it/s]"
     ]
    },
    {
     "name": "stdout",
     "output_type": "stream",
     "text": [
      "total: (43500, 15)\n",
      "zero cost: (0, 15)\n",
      "non_zero cost: (43500, 15)\n"
     ]
    },
    {
     "name": "stderr",
     "output_type": "stream",
     "text": [
      "\r",
      " 99%|█████████▉| 175/177 [01:08<00:00,  2.59it/s]"
     ]
    },
    {
     "name": "stdout",
     "output_type": "stream",
     "text": [
      "total: (131015, 15)\n",
      "zero cost: (48, 15)\n",
      "non_zero cost: (130967, 15)\n"
     ]
    },
    {
     "name": "stderr",
     "output_type": "stream",
     "text": [
      "100%|██████████| 177/177 [01:08<00:00,  2.57it/s]"
     ]
    },
    {
     "name": "stdout",
     "output_type": "stream",
     "text": [
      "total: (98436, 15)\n",
      "zero cost: (33303, 15)\n",
      "non_zero cost: (65133, 15)\n",
      "total: (638, 15)\n",
      "zero cost: (0, 15)\n",
      "non_zero cost: (638, 15)\n"
     ]
    },
    {
     "name": "stderr",
     "output_type": "stream",
     "text": [
      "\n"
     ]
    }
   ],
   "source": [
    "res = []\n",
    "\n",
    "\n",
    "for company_id, location_id, location_state, df in tqdm(company_location_dataframes):\n",
    "    if len(df) == 0:\n",
    "        continue\n",
    "    res.append(pre_process_df(df, location_id, location_state))"
   ]
  },
  {
   "cell_type": "code",
   "execution_count": 14,
   "id": "be2cf455",
   "metadata": {},
   "outputs": [],
   "source": [
    "final_df = pd.concat(res).reset_index(drop=True)"
   ]
  },
  {
   "cell_type": "code",
   "execution_count": 15,
   "id": "ad98cbe7",
   "metadata": {},
   "outputs": [
    {
     "data": {
      "text/html": [
       "<div>\n",
       "<style scoped>\n",
       "    .dataframe tbody tr th:only-of-type {\n",
       "        vertical-align: middle;\n",
       "    }\n",
       "\n",
       "    .dataframe tbody tr th {\n",
       "        vertical-align: top;\n",
       "    }\n",
       "\n",
       "    .dataframe thead th {\n",
       "        text-align: right;\n",
       "    }\n",
       "</style>\n",
       "<table border=\"1\" class=\"dataframe\">\n",
       "  <thead>\n",
       "    <tr style=\"text-align: right;\">\n",
       "      <th></th>\n",
       "      <th>margin_perc</th>\n",
       "    </tr>\n",
       "  </thead>\n",
       "  <tbody>\n",
       "    <tr>\n",
       "      <th>count</th>\n",
       "      <td>1478.000000</td>\n",
       "    </tr>\n",
       "    <tr>\n",
       "      <th>mean</th>\n",
       "      <td>0.800990</td>\n",
       "    </tr>\n",
       "    <tr>\n",
       "      <th>std</th>\n",
       "      <td>0.161732</td>\n",
       "    </tr>\n",
       "    <tr>\n",
       "      <th>min</th>\n",
       "      <td>-4.263576</td>\n",
       "    </tr>\n",
       "    <tr>\n",
       "      <th>25%</th>\n",
       "      <td>0.777221</td>\n",
       "    </tr>\n",
       "    <tr>\n",
       "      <th>50%</th>\n",
       "      <td>0.819136</td>\n",
       "    </tr>\n",
       "    <tr>\n",
       "      <th>75%</th>\n",
       "      <td>0.856228</td>\n",
       "    </tr>\n",
       "    <tr>\n",
       "      <th>max</th>\n",
       "      <td>0.972819</td>\n",
       "    </tr>\n",
       "  </tbody>\n",
       "</table>\n",
       "</div>"
      ],
      "text/plain": [
       "       margin_perc\n",
       "count  1478.000000\n",
       "mean      0.800990\n",
       "std       0.161732\n",
       "min      -4.263576\n",
       "25%       0.777221\n",
       "50%       0.819136\n",
       "75%       0.856228\n",
       "max       0.972819"
      ]
     },
     "execution_count": 15,
     "metadata": {},
     "output_type": "execute_result"
    }
   ],
   "source": [
    "final_df[['margin_perc']].describe()"
   ]
  },
  {
   "cell_type": "code",
   "execution_count": 17,
   "id": "23ce7864",
   "metadata": {},
   "outputs": [],
   "source": [
    "#final_df[final_df['margin_perc'] > 0.97]"
   ]
  },
  {
   "cell_type": "markdown",
   "id": "fcbf901f",
   "metadata": {},
   "source": [
    "# calculate monthly averages by states"
   ]
  },
  {
   "cell_type": "markdown",
   "id": "8b0ce70c",
   "metadata": {},
   "source": [
    "## simple average"
   ]
  },
  {
   "cell_type": "code",
   "execution_count": 18,
   "id": "ebd16b2a",
   "metadata": {},
   "outputs": [],
   "source": [
    "simple_avg_margin_by_state = final_df[['year_month','margin_perc','location_state']].groupby(['location_state','year_month']).mean().reset_index()"
   ]
  },
  {
   "cell_type": "code",
   "execution_count": 19,
   "id": "ced6b497",
   "metadata": {},
   "outputs": [
    {
     "data": {
      "text/html": [
       "<div>\n",
       "<style scoped>\n",
       "    .dataframe tbody tr th:only-of-type {\n",
       "        vertical-align: middle;\n",
       "    }\n",
       "\n",
       "    .dataframe tbody tr th {\n",
       "        vertical-align: top;\n",
       "    }\n",
       "\n",
       "    .dataframe thead th {\n",
       "        text-align: right;\n",
       "    }\n",
       "</style>\n",
       "<table border=\"1\" class=\"dataframe\">\n",
       "  <thead>\n",
       "    <tr style=\"text-align: right;\">\n",
       "      <th></th>\n",
       "      <th>location_state</th>\n",
       "      <th>year_month</th>\n",
       "      <th>margin_perc</th>\n",
       "    </tr>\n",
       "  </thead>\n",
       "  <tbody>\n",
       "    <tr>\n",
       "      <th>0</th>\n",
       "      <td>AZ</td>\n",
       "      <td>2021-04</td>\n",
       "      <td>0.828160</td>\n",
       "    </tr>\n",
       "    <tr>\n",
       "      <th>1</th>\n",
       "      <td>AZ</td>\n",
       "      <td>2021-05</td>\n",
       "      <td>0.730769</td>\n",
       "    </tr>\n",
       "    <tr>\n",
       "      <th>2</th>\n",
       "      <td>AZ</td>\n",
       "      <td>2021-06</td>\n",
       "      <td>0.752946</td>\n",
       "    </tr>\n",
       "    <tr>\n",
       "      <th>3</th>\n",
       "      <td>AZ</td>\n",
       "      <td>2021-12</td>\n",
       "      <td>0.775468</td>\n",
       "    </tr>\n",
       "    <tr>\n",
       "      <th>4</th>\n",
       "      <td>CA</td>\n",
       "      <td>2021-04</td>\n",
       "      <td>0.779373</td>\n",
       "    </tr>\n",
       "    <tr>\n",
       "      <th>5</th>\n",
       "      <td>CA</td>\n",
       "      <td>2021-05</td>\n",
       "      <td>0.760094</td>\n",
       "    </tr>\n",
       "    <tr>\n",
       "      <th>6</th>\n",
       "      <td>CA</td>\n",
       "      <td>2021-06</td>\n",
       "      <td>0.748788</td>\n",
       "    </tr>\n",
       "    <tr>\n",
       "      <th>7</th>\n",
       "      <td>CA</td>\n",
       "      <td>2021-07</td>\n",
       "      <td>0.753326</td>\n",
       "    </tr>\n",
       "    <tr>\n",
       "      <th>8</th>\n",
       "      <td>CA</td>\n",
       "      <td>2021-08</td>\n",
       "      <td>0.737826</td>\n",
       "    </tr>\n",
       "    <tr>\n",
       "      <th>9</th>\n",
       "      <td>CA</td>\n",
       "      <td>2021-09</td>\n",
       "      <td>0.735944</td>\n",
       "    </tr>\n",
       "    <tr>\n",
       "      <th>10</th>\n",
       "      <td>CA</td>\n",
       "      <td>2021-10</td>\n",
       "      <td>0.743116</td>\n",
       "    </tr>\n",
       "    <tr>\n",
       "      <th>11</th>\n",
       "      <td>CA</td>\n",
       "      <td>2021-11</td>\n",
       "      <td>0.739252</td>\n",
       "    </tr>\n",
       "    <tr>\n",
       "      <th>12</th>\n",
       "      <td>CA</td>\n",
       "      <td>2021-12</td>\n",
       "      <td>0.779880</td>\n",
       "    </tr>\n",
       "    <tr>\n",
       "      <th>13</th>\n",
       "      <td>CA</td>\n",
       "      <td>2022-01</td>\n",
       "      <td>0.749444</td>\n",
       "    </tr>\n",
       "    <tr>\n",
       "      <th>14</th>\n",
       "      <td>CO</td>\n",
       "      <td>2021-04</td>\n",
       "      <td>0.822513</td>\n",
       "    </tr>\n",
       "    <tr>\n",
       "      <th>15</th>\n",
       "      <td>CO</td>\n",
       "      <td>2021-05</td>\n",
       "      <td>0.822718</td>\n",
       "    </tr>\n",
       "    <tr>\n",
       "      <th>16</th>\n",
       "      <td>CO</td>\n",
       "      <td>2021-06</td>\n",
       "      <td>0.815970</td>\n",
       "    </tr>\n",
       "    <tr>\n",
       "      <th>17</th>\n",
       "      <td>CO</td>\n",
       "      <td>2021-07</td>\n",
       "      <td>0.815931</td>\n",
       "    </tr>\n",
       "    <tr>\n",
       "      <th>18</th>\n",
       "      <td>CO</td>\n",
       "      <td>2021-08</td>\n",
       "      <td>0.797081</td>\n",
       "    </tr>\n",
       "    <tr>\n",
       "      <th>19</th>\n",
       "      <td>CO</td>\n",
       "      <td>2021-09</td>\n",
       "      <td>0.753366</td>\n",
       "    </tr>\n",
       "    <tr>\n",
       "      <th>20</th>\n",
       "      <td>CO</td>\n",
       "      <td>2021-10</td>\n",
       "      <td>0.802341</td>\n",
       "    </tr>\n",
       "    <tr>\n",
       "      <th>21</th>\n",
       "      <td>CO</td>\n",
       "      <td>2021-11</td>\n",
       "      <td>0.801627</td>\n",
       "    </tr>\n",
       "    <tr>\n",
       "      <th>22</th>\n",
       "      <td>CO</td>\n",
       "      <td>2021-12</td>\n",
       "      <td>0.812775</td>\n",
       "    </tr>\n",
       "    <tr>\n",
       "      <th>23</th>\n",
       "      <td>CO</td>\n",
       "      <td>2022-01</td>\n",
       "      <td>0.803203</td>\n",
       "    </tr>\n",
       "    <tr>\n",
       "      <th>24</th>\n",
       "      <td>MA</td>\n",
       "      <td>2021-04</td>\n",
       "      <td>0.782014</td>\n",
       "    </tr>\n",
       "    <tr>\n",
       "      <th>25</th>\n",
       "      <td>MA</td>\n",
       "      <td>2021-05</td>\n",
       "      <td>0.842562</td>\n",
       "    </tr>\n",
       "    <tr>\n",
       "      <th>26</th>\n",
       "      <td>MA</td>\n",
       "      <td>2021-06</td>\n",
       "      <td>0.825704</td>\n",
       "    </tr>\n",
       "    <tr>\n",
       "      <th>27</th>\n",
       "      <td>MA</td>\n",
       "      <td>2021-07</td>\n",
       "      <td>0.835445</td>\n",
       "    </tr>\n",
       "    <tr>\n",
       "      <th>28</th>\n",
       "      <td>MA</td>\n",
       "      <td>2021-08</td>\n",
       "      <td>0.835321</td>\n",
       "    </tr>\n",
       "    <tr>\n",
       "      <th>29</th>\n",
       "      <td>MA</td>\n",
       "      <td>2021-09</td>\n",
       "      <td>0.789412</td>\n",
       "    </tr>\n",
       "    <tr>\n",
       "      <th>30</th>\n",
       "      <td>MA</td>\n",
       "      <td>2021-10</td>\n",
       "      <td>0.832433</td>\n",
       "    </tr>\n",
       "    <tr>\n",
       "      <th>31</th>\n",
       "      <td>MA</td>\n",
       "      <td>2021-11</td>\n",
       "      <td>0.833698</td>\n",
       "    </tr>\n",
       "    <tr>\n",
       "      <th>32</th>\n",
       "      <td>MA</td>\n",
       "      <td>2021-12</td>\n",
       "      <td>0.834640</td>\n",
       "    </tr>\n",
       "    <tr>\n",
       "      <th>33</th>\n",
       "      <td>MA</td>\n",
       "      <td>2022-01</td>\n",
       "      <td>0.831354</td>\n",
       "    </tr>\n",
       "    <tr>\n",
       "      <th>34</th>\n",
       "      <td>MI</td>\n",
       "      <td>2021-04</td>\n",
       "      <td>0.840062</td>\n",
       "    </tr>\n",
       "    <tr>\n",
       "      <th>35</th>\n",
       "      <td>MI</td>\n",
       "      <td>2021-05</td>\n",
       "      <td>0.799065</td>\n",
       "    </tr>\n",
       "    <tr>\n",
       "      <th>36</th>\n",
       "      <td>MI</td>\n",
       "      <td>2021-06</td>\n",
       "      <td>0.843594</td>\n",
       "    </tr>\n",
       "    <tr>\n",
       "      <th>37</th>\n",
       "      <td>MI</td>\n",
       "      <td>2021-07</td>\n",
       "      <td>0.830447</td>\n",
       "    </tr>\n",
       "    <tr>\n",
       "      <th>38</th>\n",
       "      <td>MI</td>\n",
       "      <td>2021-08</td>\n",
       "      <td>0.827502</td>\n",
       "    </tr>\n",
       "    <tr>\n",
       "      <th>39</th>\n",
       "      <td>MI</td>\n",
       "      <td>2021-09</td>\n",
       "      <td>0.836781</td>\n",
       "    </tr>\n",
       "    <tr>\n",
       "      <th>40</th>\n",
       "      <td>MI</td>\n",
       "      <td>2021-10</td>\n",
       "      <td>0.810493</td>\n",
       "    </tr>\n",
       "    <tr>\n",
       "      <th>41</th>\n",
       "      <td>MI</td>\n",
       "      <td>2021-11</td>\n",
       "      <td>0.817783</td>\n",
       "    </tr>\n",
       "    <tr>\n",
       "      <th>42</th>\n",
       "      <td>MI</td>\n",
       "      <td>2021-12</td>\n",
       "      <td>0.831627</td>\n",
       "    </tr>\n",
       "    <tr>\n",
       "      <th>43</th>\n",
       "      <td>MI</td>\n",
       "      <td>2022-01</td>\n",
       "      <td>0.820065</td>\n",
       "    </tr>\n",
       "    <tr>\n",
       "      <th>44</th>\n",
       "      <td>OR</td>\n",
       "      <td>2021-04</td>\n",
       "      <td>0.804328</td>\n",
       "    </tr>\n",
       "    <tr>\n",
       "      <th>45</th>\n",
       "      <td>OR</td>\n",
       "      <td>2021-05</td>\n",
       "      <td>0.802896</td>\n",
       "    </tr>\n",
       "    <tr>\n",
       "      <th>46</th>\n",
       "      <td>OR</td>\n",
       "      <td>2021-06</td>\n",
       "      <td>0.798281</td>\n",
       "    </tr>\n",
       "    <tr>\n",
       "      <th>47</th>\n",
       "      <td>OR</td>\n",
       "      <td>2021-07</td>\n",
       "      <td>0.800393</td>\n",
       "    </tr>\n",
       "    <tr>\n",
       "      <th>48</th>\n",
       "      <td>OR</td>\n",
       "      <td>2021-08</td>\n",
       "      <td>0.793715</td>\n",
       "    </tr>\n",
       "    <tr>\n",
       "      <th>49</th>\n",
       "      <td>OR</td>\n",
       "      <td>2021-09</td>\n",
       "      <td>0.789651</td>\n",
       "    </tr>\n",
       "    <tr>\n",
       "      <th>50</th>\n",
       "      <td>OR</td>\n",
       "      <td>2021-10</td>\n",
       "      <td>0.795831</td>\n",
       "    </tr>\n",
       "    <tr>\n",
       "      <th>51</th>\n",
       "      <td>OR</td>\n",
       "      <td>2021-11</td>\n",
       "      <td>0.789842</td>\n",
       "    </tr>\n",
       "    <tr>\n",
       "      <th>52</th>\n",
       "      <td>OR</td>\n",
       "      <td>2021-12</td>\n",
       "      <td>0.786407</td>\n",
       "    </tr>\n",
       "    <tr>\n",
       "      <th>53</th>\n",
       "      <td>OR</td>\n",
       "      <td>2022-01</td>\n",
       "      <td>0.798941</td>\n",
       "    </tr>\n",
       "  </tbody>\n",
       "</table>\n",
       "</div>"
      ],
      "text/plain": [
       "   location_state year_month  margin_perc\n",
       "0              AZ    2021-04     0.828160\n",
       "1              AZ    2021-05     0.730769\n",
       "2              AZ    2021-06     0.752946\n",
       "3              AZ    2021-12     0.775468\n",
       "4              CA    2021-04     0.779373\n",
       "5              CA    2021-05     0.760094\n",
       "6              CA    2021-06     0.748788\n",
       "7              CA    2021-07     0.753326\n",
       "8              CA    2021-08     0.737826\n",
       "9              CA    2021-09     0.735944\n",
       "10             CA    2021-10     0.743116\n",
       "11             CA    2021-11     0.739252\n",
       "12             CA    2021-12     0.779880\n",
       "13             CA    2022-01     0.749444\n",
       "14             CO    2021-04     0.822513\n",
       "15             CO    2021-05     0.822718\n",
       "16             CO    2021-06     0.815970\n",
       "17             CO    2021-07     0.815931\n",
       "18             CO    2021-08     0.797081\n",
       "19             CO    2021-09     0.753366\n",
       "20             CO    2021-10     0.802341\n",
       "21             CO    2021-11     0.801627\n",
       "22             CO    2021-12     0.812775\n",
       "23             CO    2022-01     0.803203\n",
       "24             MA    2021-04     0.782014\n",
       "25             MA    2021-05     0.842562\n",
       "26             MA    2021-06     0.825704\n",
       "27             MA    2021-07     0.835445\n",
       "28             MA    2021-08     0.835321\n",
       "29             MA    2021-09     0.789412\n",
       "30             MA    2021-10     0.832433\n",
       "31             MA    2021-11     0.833698\n",
       "32             MA    2021-12     0.834640\n",
       "33             MA    2022-01     0.831354\n",
       "34             MI    2021-04     0.840062\n",
       "35             MI    2021-05     0.799065\n",
       "36             MI    2021-06     0.843594\n",
       "37             MI    2021-07     0.830447\n",
       "38             MI    2021-08     0.827502\n",
       "39             MI    2021-09     0.836781\n",
       "40             MI    2021-10     0.810493\n",
       "41             MI    2021-11     0.817783\n",
       "42             MI    2021-12     0.831627\n",
       "43             MI    2022-01     0.820065\n",
       "44             OR    2021-04     0.804328\n",
       "45             OR    2021-05     0.802896\n",
       "46             OR    2021-06     0.798281\n",
       "47             OR    2021-07     0.800393\n",
       "48             OR    2021-08     0.793715\n",
       "49             OR    2021-09     0.789651\n",
       "50             OR    2021-10     0.795831\n",
       "51             OR    2021-11     0.789842\n",
       "52             OR    2021-12     0.786407\n",
       "53             OR    2022-01     0.798941"
      ]
     },
     "execution_count": 19,
     "metadata": {},
     "output_type": "execute_result"
    }
   ],
   "source": [
    "simple_avg_margin_by_state"
   ]
  },
  {
   "cell_type": "code",
   "execution_count": 20,
   "id": "3752a1a0",
   "metadata": {},
   "outputs": [],
   "source": [
    "simple_avg_margin_by_state['year_month'] = pd.to_datetime(simple_avg_margin_by_state['year_month'])"
   ]
  },
  {
   "cell_type": "code",
   "execution_count": 21,
   "id": "58339998",
   "metadata": {},
   "outputs": [
    {
     "name": "stderr",
     "output_type": "stream",
     "text": [
      "WARNING:matplotlib.legend:No handles with labels found to put in legend.\n"
     ]
    },
    {
     "data": {
      "text/plain": [
       "<AxesSubplot:title={'center':'monthly simple avg margin by state'}, xlabel='year month', ylabel='margin %'>"
      ]
     },
     "execution_count": 21,
     "metadata": {},
     "output_type": "execute_result"
    },
    {
     "data": {
      "image/png": "[encoded data removed]",
      "text/plain": [
       "<Figure size 1080x720 with 1 Axes>"
      ]
     },
     "metadata": {
      "needs_background": "light"
     },
     "output_type": "display_data"
    }
   ],
   "source": [
    "line,ax = plt.subplots(figsize=(15,10))\n",
    "plt.ylim([0.7, 0.9])\n",
    "ax.set_title(\"monthly simple avg margin by state\", fontsize=15)\n",
    "ax.set_xlabel (\"year month\")\n",
    "ax.set_ylabel (\"margin %\")\n",
    "ax.legend (loc=\"upper right\")\n",
    "\n",
    "\n",
    "sns.lineplot(data=simple_avg_margin_by_state, x=\"year_month\", y=\"margin_perc\", hue=\"location_state\",marker= 'o', markersize=9)"
   ]
  },
  {
   "cell_type": "markdown",
   "id": "64e9b3ec",
   "metadata": {},
   "source": [
    "## weighted average"
   ]
  },
  {
   "cell_type": "code",
   "execution_count": 22,
   "id": "ab109501",
   "metadata": {},
   "outputs": [],
   "source": [
    "# assign an column that gives each location's gmv weight in its (month,state)\n",
    "final_df = final_df.groupby(['year_month','location_state']).apply(lambda df: df.assign(weight=df['NetSales'] / df['NetSales'].sum())).reset_index(drop=True)\n"
   ]
  },
  {
   "cell_type": "code",
   "execution_count": 23,
   "id": "fd0adbd4",
   "metadata": {},
   "outputs": [],
   "source": [
    "weighted_avg_margin_by_state = pd.DataFrame(final_df[['year_month','margin_perc','location_state','weight']].groupby(['location_state','year_month']).apply(lambda x: sum(x['weight']*x['margin_perc'])).reset_index())\n",
    "\n"
   ]
  },
  {
   "cell_type": "code",
   "execution_count": 24,
   "id": "6dc7a997",
   "metadata": {},
   "outputs": [],
   "source": [
    "weighted_avg_margin_by_state['year_month'] = pd.to_datetime(weighted_avg_margin_by_state['year_month'])\n",
    "weighted_avg_margin_by_state.columns = ['location_state','year_month','margin_perc']"
   ]
  },
  {
   "cell_type": "code",
   "execution_count": 25,
   "id": "f280f9de",
   "metadata": {},
   "outputs": [
    {
     "name": "stderr",
     "output_type": "stream",
     "text": [
      "WARNING:matplotlib.legend:No handles with labels found to put in legend.\n"
     ]
    },
    {
     "data": {
      "text/plain": [
       "<AxesSubplot:title={'center':'monthly weighted avg margin by state'}, xlabel='year month', ylabel='margin %'>"
      ]
     },
     "execution_count": 25,
     "metadata": {},
     "output_type": "execute_result"
    },
    {
     "data": {
      "image/png": "[encoded data removed]",
      "text/plain": [
       "<Figure size 1080x720 with 1 Axes>"
      ]
     },
     "metadata": {
      "needs_background": "light"
     },
     "output_type": "display_data"
    }
   ],
   "source": [
    "line,ax = plt.subplots(figsize=(15,10))\n",
    "plt.ylim([0.7, 0.9])\n",
    "ax.set_title(\"monthly weighted avg margin by state\", fontsize=15)\n",
    "ax.set_xlabel (\"year month\")\n",
    "ax.set_ylabel (\"margin %\")\n",
    "ax.legend (loc=\"upper right\")\n",
    "\n",
    "\n",
    "sns.lineplot(data=weighted_avg_margin_by_state, x=\"year_month\", y=\"margin_perc\", hue=\"location_state\",marker= 'o', markersize=9)"
   ]
  },
  {
   "cell_type": "code",
   "execution_count": 27,
   "id": "94be8f5a",
   "metadata": {},
   "outputs": [],
   "source": [
    "# dip in CO\n",
    "co = final_df[final_df['location_state'] == 'CO']"
   ]
  },
  {
   "cell_type": "code",
   "execution_count": null,
   "id": "f6fbdac1",
   "metadata": {},
   "outputs": [],
   "source": [
    "\n",
    "co[['year_month','margin_perc']].groupby(['year_month']).mean().plot()\n",
    "co[co['margin_perc'] > 0][['year_month','margin_perc']].groupby(['year_month']).mean().plot()"
   ]
  },
  {
   "cell_type": "code",
   "execution_count": null,
   "id": "875a2485",
   "metadata": {},
   "outputs": [],
   "source": [
    "co.sort_values(by = 'margin_perc')"
   ]
  },
  {
   "cell_type": "code",
   "execution_count": null,
   "id": "a4f78a8e",
   "metadata": {},
   "outputs": [],
   "source": []
  }
 ],
 "metadata": {
  "kernelspec": {
   "display_name": "Python 3",
   "language": "python",
   "name": "python3"
  },
  "language_info": {
   "codemirror_mode": {
    "name": "ipython",
    "version": 3
   },
   "file_extension": ".py",
   "mimetype": "text/x-python",
   "name": "python",
   "nbconvert_exporter": "python",
   "pygments_lexer": "ipython3",
   "version": "3.8.10"
  }
 },
 "nbformat": 4,
 "nbformat_minor": 5
}
