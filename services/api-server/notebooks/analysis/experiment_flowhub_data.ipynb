{
 "cells": [
  {
   "cell_type": "code",
   "execution_count": 1,
   "id": "f491e0db-b6d6-480c-be42-5b1e16ddb1ba",
   "metadata": {},
   "outputs": [],
   "source": [
    "\"\"\"\n",
    "  A manager that facilitates reading and writing files to GCP Storage\n",
    "\"\"\"\n",
    "import logging\n",
    "import os\n",
    "import subprocess\n",
    "from io import BytesIO\n",
    "from typing import List, Dict, Callable, Tuple, Union\n",
    "from mypy_extensions import TypedDict\n",
    "\n",
    "from google.cloud import storage # type: ignore\n",
    "\n",
    "def get_path_prefix(root_dir: str, relative_path: str) -> str:\n",
    "    prefix = ''\n",
    "    if root_dir:\n",
    "        prefix = root_dir.rstrip('/') + '/'\n",
    "\n",
    "    if relative_path and relative_path != '/':\n",
    "        prefix = prefix + relative_path.strip('/') + '/'\n",
    "\n",
    "    return prefix\n",
    "\n",
    "class PathNode(TypedDict, total=False):\n",
    "    name: str\n",
    "    type: str\n",
    "    size: float\n",
    "        \n",
    "class GCPStorageManager(object):\n",
    "\n",
    "    def __init__(self, storage_details: Dict, verbose: bool) -> None:\n",
    "        self._bucket_name = storage_details.get('bucket')\n",
    "        self._root_dir = storage_details.get('root')\n",
    "        self.client = storage.Client()\n",
    "        self.verbose = verbose\n",
    "\n",
    "    def _abs_path(self, rel_path: str) -> str:\n",
    "        if not self._root_dir:\n",
    "            return rel_path\n",
    "\n",
    "        return os.path.join(self._root_dir, rel_path)\n",
    "\n",
    "    def _build_current_url(self) -> str:\n",
    "        if self._root_dir:\n",
    "            return \"https://console.cloud.google.com/storage/browser/\" + self._bucket_name + \"/\" + self._root_dir\n",
    "        else:\n",
    "            return \"https://console.cloud.google.com/storage/browser/\" + self._bucket_name\n",
    "\n",
    "    def get_root_dir(self) -> str:\n",
    "        return self._root_dir\n",
    "\n",
    "    def get_storage_details(self) -> Dict:\n",
    "        return {\n",
    "            'provider': file_utils.ProviderList.GCP_STORAGE,\n",
    "            'bucket': self._bucket_name,\n",
    "            'root': self._root_dir\n",
    "        }\n",
    "\n",
    "    def get_sync_login_command(self, env_vars: Dict) -> List[str]:\n",
    "        return None\n",
    "\n",
    "    def get_sync_url(self, path: str) -> str:\n",
    "        if not path or path == '/':\n",
    "            abs_path = self._root_dir\n",
    "        else:\n",
    "            abs_path = self._abs_path(path)\n",
    "        return f'gs://{self._bucket_name}/{abs_path}'\n",
    "\n",
    "    def get_sync_command(self, src_dir: str, remote_path: str) -> Callable:\n",
    "\n",
    "        def sync_call() -> Tuple[int, str]:\n",
    "            cmd = ['gsutil', 'rsync', '-r', src_dir, self.get_sync_url(remote_path)]\n",
    "            p = subprocess.Popen(cmd, stdout=subprocess.PIPE, stderr=subprocess.PIPE)\n",
    "            stdout, stderr = p.communicate()\n",
    "            err_code = 0\n",
    "            stderr_val = ''\n",
    "\n",
    "            if p.returncode != 0:\n",
    "                logging.error('Copy response is: {}'.format(stderr.decode('utf-8')))\n",
    "                stderr_val = stderr.decode('utf-8')\n",
    "                err_code = p.returncode\n",
    "\n",
    "            return err_code, stderr_val\n",
    "\n",
    "        return sync_call\n",
    "\n",
    "    def rm_file(self, relative_path: str) -> None:\n",
    "        bucket = self.client.bucket(self._bucket_name)\n",
    "        path = self._abs_path(relative_path)\n",
    "        blob = bucket.blob(path)\n",
    "        logging.info('Deleting file at ' + path)\n",
    "        blob.delete()\n",
    "\n",
    "    def rm_dir(self, relative_path: str) -> None:\n",
    "        bucket = self.client.bucket(self._bucket_name)\n",
    "        prefix = get_path_prefix(self._root_dir, relative_path)\n",
    "        blob = bucket.blob(prefix)\n",
    "        logging.info('Deleting files at ' + prefix)\n",
    "        blob.delete()\n",
    "\n",
    "    def read_content(self, path: str, throw_exception: bool, read_range: str = None, streaming: bool = False) -> bytes:\n",
    "        try:\n",
    "            path = self._abs_path(path)\n",
    "            bucket = self.client.bucket(self._bucket_name)\n",
    "            blob = bucket.blob(path)\n",
    "            result = blob.download_as_bytes()\n",
    "\n",
    "            if self.verbose:\n",
    "                logging.info(f\"Downloading content from {self._build_current_url()}/{path}\")\n",
    "\n",
    "            return result\n",
    "        except Exception as e:\n",
    "            raise\n",
    "\n",
    "    #def gen_presigned_url(self, path: str) -> str:\n",
    "    #    # dask and other frameworks explicit s3 link rather than a byte stream or contet (e.g. s3://bucket/foo.csv)\n",
    "    #    return self._s3.generate_presigned_url('get_object',\n",
    "    #                                           Params={'Bucket': self._bucket_name, 'Key': self._abs_path(path)})\n",
    "\n",
    "    # Checks to see if the job directory exists.  No side-effects.\n",
    "    def check_dir_exists(self, path: str) -> bool:\n",
    "        # Create the prefix for this particular job.\n",
    "        exists = False\n",
    "        prefix = get_path_prefix(self._root_dir, path)\n",
    "        blobs = list(self.client.list_blobs(\n",
    "            self._bucket_name, prefix=prefix\n",
    "        ))\n",
    "        if len(blobs) > 0:\n",
    "            exists = True\n",
    "\n",
    "        return exists\n",
    "\n",
    "    def _download_content(self, remote_path: str) -> bytes:\n",
    "        remote_path = self._abs_path(remote_path)\n",
    "        bucket = self.client.bucket(self._bucket_name)\n",
    "        blob = bucket.blob(remote_path)\n",
    "        if self.verbose:\n",
    "            logging.info(f\"Downloading content from {self._build_current_url()}/{remote_path}\")\n",
    "\n",
    "        fileobj = BytesIO()\n",
    "        blob.download_to_file(fileobj)\n",
    "        return fileobj.getvalue()\n",
    "\n",
    "    def download_file(self, remote_path: str, file_name: str) -> None:\n",
    "        # Move references to large data items across folders\n",
    "        remote_path = self._abs_path(remote_path)\n",
    "        bucket = self.client.bucket(self._bucket_name)\n",
    "        blob = bucket.blob(remote_path)\n",
    "        if self.verbose:\n",
    "            logging.info(f\"Downloading file {self._build_current_url()}/{remote_path} to {file_name}\")\n",
    "\n",
    "        dirname = os.path.dirname(file_name)\n",
    "\n",
    "        if dirname:\n",
    "            # Only create a directory if it's not ''\n",
    "            if not os.path.exists(dirname):\n",
    "                os.makedirs(dirname)\n",
    "\n",
    "        blob.download_to_filename(file_name)\n",
    "\n",
    "    def download_and_unzip(self, remote_path: str, local_dir: str) -> None:\n",
    "        zip_bytes = self._download_content(remote_path)\n",
    "        file_utils.unzip_into_dir(zip_bytes, local_dir)\n",
    "\n",
    "    def download_dir(self, remote_path: str, local_path: str) -> int:\n",
    "        nFiles = 0\n",
    "        if self.verbose:\n",
    "            logging.info(\"Downloading folder: \" + remote_path + \" to \" + local_path)\n",
    "\n",
    "        prefix = file_utils.get_path_prefix(self._root_dir, remote_path)\n",
    "        for blob in self.client.list_blobs(self._bucket_name, prefix=prefix):\n",
    "            if blob.name.endswith('/'):\n",
    "                continue\n",
    "\n",
    "            rel_path = os.path.relpath(blob.name, prefix)\n",
    "            dest_pathname = os.path.join(local_path, rel_path)\n",
    "\n",
    "            if not os.path.exists(os.path.dirname(dest_pathname)):\n",
    "                os.makedirs(os.path.dirname(dest_pathname))\n",
    "\n",
    "            if self.verbose:\n",
    "                logging.info(f\"Downloading file {blob.name} to {dest_pathname}\")\n",
    "\n",
    "            blob.download_to_filename(dest_pathname)  # Download\n",
    "            nFiles += 1\n",
    "\n",
    "        return nFiles\n",
    "\n",
    "    def upload_content(self, content: bytes, file_name: str) -> None:\n",
    "        # Uploads file content to a specific filename location\n",
    "        bucket = self.client.bucket(self._bucket_name)\n",
    "        if self.verbose:\n",
    "            logging.info(f\"Uploading content to {self._build_current_url()}/{file_name}\")\n",
    "\n",
    "        blob = bucket.blob(self._abs_path(file_name))\n",
    "        blob.upload_from_file(BytesIO(content))\n",
    "\n",
    "    def list_directory(self, path: str, with_size: bool = False) -> Dict:\n",
    "        prefix = get_path_prefix(self._root_dir, path)\n",
    "        bucket = self.client.bucket(self._bucket_name)\n",
    "        blobs = bucket.list_blobs(prefix=prefix)\n",
    "        nodes = []\n",
    "        for blob in blobs:\n",
    "            if blob.name.endswith('/'):\n",
    "                nodes.append(PathNode(name=os.path.basename(blob.name[:-1]), type='folder'))\n",
    "            else:\n",
    "                nodes.append(PathNode(name=os.path.basename(blob.name), type='file'))\n",
    "\n",
    "        return {\n",
    "            'nodes': nodes\n",
    "        }\n"
   ]
  },
  {
   "cell_type": "code",
   "execution_count": 2,
   "id": "ac19077f-ab85-4246-955d-f00e6e0137a5",
   "metadata": {},
   "outputs": [
    {
     "name": "stdout",
     "output_type": "stream",
     "text": [
      "/Users/victoria/dev/flowhub_gcp_credentials.json\n"
     ]
    }
   ],
   "source": [
    "import os\n",
    "\n",
    "from dotenv import load_dotenv\n",
    "load_dotenv(verbose=True)\n",
    "\n",
    "print(os.environ.get('GOOGLE_APPLICATION_CREDENTIALS'))"
   ]
  },
  {
   "cell_type": "code",
   "execution_count": 3,
   "id": "5f5d97ba-91e8-41e1-b662-4f97a75810a4",
   "metadata": {},
   "outputs": [],
   "source": [
    "manager = GCPStorageManager({\n",
    "    'bucket': 'partnerships-data-reporting',\n",
    "    'root': ''\n",
    "}, verbose=True)"
   ]
  },
  {
   "cell_type": "code",
   "execution_count": 4,
   "id": "cbc08e3a",
   "metadata": {},
   "outputs": [],
   "source": [
    "import sys\n",
    "if sys.version_info[0] < 3: \n",
    "    from StringIO import StringIO\n",
    "else:\n",
    "    from io import StringIO"
   ]
  },
  {
   "cell_type": "code",
   "execution_count": 5,
   "id": "d515f4db",
   "metadata": {},
   "outputs": [
    {
     "name": "stderr",
     "output_type": "stream",
     "text": [
      "/Users/victoria/GitHub/venvs/bespoke/lib/python3.8/site-packages/pandas/compat/__init__.py:124: UserWarning: Could not import the lzma module. Your installed Python is incomplete. Attempting to use lzma compression will result in a RuntimeError.\n",
      "  warnings.warn(msg)\n"
     ]
    }
   ],
   "source": [
    "import json\n",
    "import pandas as pd\n",
    "directory_contents = manager.list_directory('')['nodes']"
   ]
  },
  {
   "cell_type": "code",
   "execution_count": 6,
   "id": "5f1624c2",
   "metadata": {},
   "outputs": [
    {
     "name": "stdout",
     "output_type": "stream",
     "text": [
      "There are 100 companies in the dataset\n"
     ]
    }
   ],
   "source": [
    "company_ids_set = set([])\n",
    "\n",
    "for file_metadata in directory_contents:\n",
    "    file_name = file_metadata['name']\n",
    "    # Company locations file case.\n",
    "    if '_locations.csv' in file_name:\n",
    "        company_id = file_name.replace('_locations.csv', '')\n",
    "        company_ids_set.add(company_id)\n",
    "\n",
    "company_ids_count = len(list(company_ids_set))\n",
    "print(f'There are {company_ids_count} companies in the dataset')"
   ]
  },
  {
   "cell_type": "code",
   "execution_count": 7,
   "id": "037dda03",
   "metadata": {},
   "outputs": [
    {
     "name": "stdout",
     "output_type": "stream",
     "text": [
      "There are 178 company locations in the dataset\n"
     ]
    }
   ],
   "source": [
    "company_location_ids_set = set([])\n",
    "\n",
    "for company_id in company_ids_set:\n",
    "    locations_csv_string = manager.read_content(f'{company_id}/{company_id}_locations.csv', throw_exception=True)\n",
    "    locations_io = StringIO(locations_csv_string.decode(\"utf-8\"))\n",
    "    locations_dataframe = pd.read_csv(locations_io)\n",
    "    for location_index in locations_dataframe.index:\n",
    "        location_id = locations_dataframe['locationId'][location_index]\n",
    "        location_state = locations_dataframe['state'][location_index]\n",
    "        company_location_ids_set.add((company_id, location_id, location_state))\n",
    "\n",
    "company_location_ids_count = len(list(company_location_ids_set))\n",
    "print(f'There are {company_location_ids_count} company locations in the dataset')"
   ]
  },
  {
   "cell_type": "code",
   "execution_count": 8,
   "id": "14f3e8e7",
   "metadata": {
    "scrolled": true
   },
   "outputs": [
    {
     "name": "stdout",
     "output_type": "stream",
     "text": [
      "[1] Downloading sales dataframe for location (E2ZWysfDHW2pqB7JW, aYt5FfpYq2GnTagfC, CO)\n",
      "[2] Downloading sales dataframe for location (6DwQ3xhCWDGBRFFss, bS7R8w9hgETJuiZoj, CO)\n",
      "[3] Downloading sales dataframe for location (7yxgKNbqd5PMNzX3P, TdyAhrZWq6MDeyNvu, CA)\n",
      "[4] Downloading sales dataframe for location (7Grxab9AL8HbnNcCn, J4qscTeHW28gWBxju, CO)\n",
      "[5] Downloading sales dataframe for location (cSuhZSQExaug3odn5, iksYoAeKHCziH8wjb, CO)\n",
      "[6] Downloading sales dataframe for location (jfD4EGaLur6xsEHbQ, Wjgbcenow3oSALsgJ, CA)\n",
      "[7] Downloading sales dataframe for location (6DwQ3xhCWDGBRFFss, xiJBqHKLRED7J2vHe, CO)\n",
      "[8] Downloading sales dataframe for location (GNPWTqYqZsfcAA6Jb, FgmkhfmA7qPSkMsx4, CO)\n",
      "[9] Downloading sales dataframe for location (KypyS8kNFhSPZxv7q, hqoDkhKFbRGdjaC9Z, CO)\n",
      "[10] Downloading sales dataframe for location (ueTXJNrihTPQS97vZ, Hcug7wxTBbgdcwuBp, CO)\n",
      "[11] Downloading sales dataframe for location (SPYsqAwk5XEjp9ZwX, eLHngApztHXt5s8EM, MI)\n",
      "[12] Downloading sales dataframe for location (9RfzKgXJn46NXH4Lm, HiupCL6yiRpbhdTWC, OR)\n",
      "[13] Downloading sales dataframe for location (7yxgKNbqd5PMNzX3P, nkd4rFdkFuwkzREqM, CA)\n",
      "[14] Downloading sales dataframe for location (pJRQ5CqncC9xk8bdy, bmJuhcYDiqAcbj6Ze, CA)\n",
      "[15] Downloading sales dataframe for location (KkyhzzHqgJDFWPM9n, muYwpddLcAc6gTYYS, CA)\n",
      "[16] Downloading sales dataframe for location (dPBnHGGKDN7BoewSb, 4H7u5h3YpH7AfhpRh, CO)\n",
      "[17] Downloading sales dataframe for location (ScA2tJQp3iryzrBKS, fDrbnB9KCA2jnDbhg, CO)\n",
      "[18] Downloading sales dataframe for location (QeJpvdukLbF2jp29u, MChwYqG2LnkKmdY55, CO)\n",
      "[19] Downloading sales dataframe for location (P63pMT9HvTtdmhWcL, w6GrPdpwkjbsweeKC, MI)\n",
      "[20] Downloading sales dataframe for location (DwAym344iPb22MYPr, yji6wnh5kT8GZmM26, OR)\n",
      "[21] Downloading sales dataframe for location (XQak5YK9eZfXYhKgJ, wFgewqSvmGEQzyrLQ, OR)\n",
      "[22] Downloading sales dataframe for location (JgeRNMvtP3A2tGcEo, aBq33e9dcXdb9JRWR, CO)\n",
      "[23] Downloading sales dataframe for location (KkyhzzHqgJDFWPM9n, Ceoy5YkSujnhNt5Zn, CA)\n",
      "[24] Downloading sales dataframe for location (j7NR2ZFa5vXCAyxzR, ZvfRr674sQivsWR89, CA)\n",
      "[25] Downloading sales dataframe for location (hbTCMydA4w2TnGqHE, mN2gXpCGvAx4aMbit, OR)\n",
      "[26] Downloading sales dataframe for location (uBkpbfZHy55ndgnTv, JL5zpyFxo7J3rHxZK, OR)\n",
      "[27] Downloading sales dataframe for location (L7ME43C6TAoYv6HCb, 4hmkTc8KYoncMnH59, MA)\n",
      "[28] Downloading sales dataframe for location (wiyY5tNikq6WRPQ6E, q5ibpyhJiEuBwYCJv, MI)\n",
      "[29] Downloading sales dataframe for location (rrCXhvarvXo7P2fGo, g63EjGYZsjHPqyPL4, OR)\n",
      "[30] Downloading sales dataframe for location (4xWeGuAg4jDmZSWxA, PY9ucfFTZc4XPSuPC, CO)\n",
      "[31] Downloading sales dataframe for location (hPzYzThkKMuQrF9Q2, kWheTth4u6uMC4CC9, CO)\n",
      "[32] Downloading sales dataframe for location (j7MWhCyfRAgZstQdE, BcggJ8dJgf6dG4HD6, CO)\n",
      "[33] Downloading sales dataframe for location (HmNDEqWf2NvmYGpZu, ZRSc2RYzna9Kni6Lo, CO)\n",
      "[34] Downloading sales dataframe for location (Q2ctDDsxjy23AoQLb, QzxtSrfS8dh3qWsWm, CO)\n",
      "[35] Downloading sales dataframe for location (rgNDsz626CTLnd53Y, X4umGyWwy8bByo3dp, CO)\n",
      "[36] Downloading sales dataframe for location (rgNDsz626CTLnd53Y, NsTkwrKuNqSPpjxJn, CO)\n",
      "[37] Downloading sales dataframe for location (rPXmTTcY4LXmgmTcG, Wn3vq5TEvzEjrLoeo, OR)\n",
      "[38] Downloading sales dataframe for location (rgNDsz626CTLnd53Y, HJho8PdduZazwxzet, CO)\n",
      "[39] Downloading sales dataframe for location (j7MWhCyfRAgZstQdE, Xa54Pov4FpuTxizDd, CO)\n",
      "[40] Downloading sales dataframe for location (d7u39ZjnznjCCE54L, eYoBctQZTqsmydrHY, CO)\n",
      "[41] Downloading sales dataframe for location (T3nGGs9v9BkBJkLAJ, TpetsriCnhipdAvdb, CO)\n",
      "[42] Downloading sales dataframe for location (PhGThGEkoJR7xy64q, j5Z3K6oX85m5xbH2T, CO)\n",
      "[43] Downloading sales dataframe for location (dJg8Bmr3FDZhipSJe, rZCY6mc4x8y7Fepu6, MI)\n",
      "[44] Downloading sales dataframe for location (gmAmheWQLfWvhg7aF, aKiDRWpwJuhLABnWA, CO)\n",
      "[45] Downloading sales dataframe for location (E2ZWysfDHW2pqB7JW, 5CAwD9Rt2kBXddaEC, CO)\n",
      "[46] Downloading sales dataframe for location (rK3atC7axuLcz3iRB, 7M2PxZuR7sPpfgfuJ, OR)\n",
      "[47] Downloading sales dataframe for location (KypyS8kNFhSPZxv7q, RJxDzpLGARNoej3x9, CO)\n",
      "[48] Downloading sales dataframe for location (D4whhBS6cDZcxZTWQ, SbXJngA5SJw6fX4X7, CA)\n",
      "[49] Downloading sales dataframe for location (P63pMT9HvTtdmhWcL, wceNMPjZukYhbKu4q, MI)\n",
      "[50] Downloading sales dataframe for location (KypyS8kNFhSPZxv7q, ofeoiXgSPuM6PCyaN, CO)\n",
      "[51] Downloading sales dataframe for location (P63pMT9HvTtdmhWcL, iqfzKWKpcHmcw3zyB, MI)\n",
      "[52] Downloading sales dataframe for location (d2Q3Ga3jxiBpsHdHe, mE6ABrbzCLjFDRiCK, MI)\n",
      "[53] Downloading sales dataframe for location (NpqM32uwNRKTTWTb6, hEDskKfvoCGHTkeDp, CO)\n",
      "[54] Downloading sales dataframe for location (P63pMT9HvTtdmhWcL, A9ZGNP4jxJfp8cErn, MI)\n",
      "[55] Downloading sales dataframe for location (GNPWTqYqZsfcAA6Jb, tjPZFyNwNnYMc8jcE, CO)\n",
      "[56] Downloading sales dataframe for location (E2ZWysfDHW2pqB7JW, EsDe4nRt3MX35cZkb, CO)\n",
      "[57] Downloading sales dataframe for location (rgNDsz626CTLnd53Y, K5Toc7ZAJCFQ9e45G, CO)\n",
      "[58] Downloading sales dataframe for location (JjtbeWp3LdAJp4xME, d8D9R65o75dzizwv7, OR)\n",
      "[59] Downloading sales dataframe for location (dPBnHGGKDN7BoewSb, noh5XdbxTK5gRSLMt, CO)\n",
      "[60] Downloading sales dataframe for location (iyMFa4iWBQcwDJ96J, c8tpERbSmkRvaauEn, OR)\n",
      "[61] Downloading sales dataframe for location (dPBnHGGKDN7BoewSb, wGeAKkDSeYQb22QhS, CO)\n",
      "[62] Downloading sales dataframe for location (hPzYzThkKMuQrF9Q2, zKiH8jXK5S7cw5j5N, CO)\n",
      "[63] Downloading sales dataframe for location (iJscrRfw6uYjEhEKo, LFjsRXJPgxtXfFzxm, CO)\n",
      "[64] Downloading sales dataframe for location (SPYsqAwk5XEjp9ZwX, CtuShNA5sgy8GnxMf, MI)\n",
      "[65] Downloading sales dataframe for location (kKBqnAwywSrKLGQpk, qMqFJoMnwH5fYqfzc, OR)\n",
      "[66] Downloading sales dataframe for location (KkyhzzHqgJDFWPM9n, EuD42c5biCpsp7YAS, CA)\n",
      "[67] Downloading sales dataframe for location (X28YzezeSoJRkQG5k, nkezQjPpvGv3imnQC, CO)\n",
      "[68] Downloading sales dataframe for location (wAcmr4LCaqm2w6LPx, JzSkgYKPM4oTacbbF, CO)\n",
      "[69] Downloading sales dataframe for location (j7MWhCyfRAgZstQdE, WPz3hFKPNePY6kFyT, CO)\n",
      "[70] Downloading sales dataframe for location (cSnsbv7ccTEXcHAbW, ssbs4evELKRzGP7Mg, OR)\n",
      "[71] Downloading sales dataframe for location (hcLfFhKstdmNNtBjx, WCXL3HhQzSr6kHaAX, CO)\n",
      "[72] Downloading sales dataframe for location (RqokibKjt6ueZK52s, 4QHc4Kakc8PD8EJR8, CO)\n",
      "[73] Downloading sales dataframe for location (D2JsangYtSFya4nDT, G4yyguo4R7wGp3NR8, CO)\n",
      "[74] Downloading sales dataframe for location (7SRQ7Z7xuN5EGXGSu, JDcPyy6NfkQHkyK5C, CA)\n",
      "[75] Downloading sales dataframe for location (dJg8Bmr3FDZhipSJe, 43HM2Zu77qrMksWB8, MI)\n",
      "[76] Downloading sales dataframe for location (kEYekxChnHJ5FRAc4, pwJ65xWrRyZ4QFJGP, CO)\n",
      "[77] Downloading sales dataframe for location (o46tyNKeC4xHZeh7h, kc7H5MybfG8z4QuAB, CO)\n",
      "[78] Downloading sales dataframe for location (XvKkyKyMz4g2D7jr3, rJPS4snkZyiazJ5ba, CO)\n",
      "[79] Downloading sales dataframe for location (7SRQ7Z7xuN5EGXGSu, SrS9ay3mNoQzJ79ys, CA)\n",
      "[80] Downloading sales dataframe for location (jfD4EGaLur6xsEHbQ, 9qbx82jZwxnvdDDNX, CA)\n",
      "[81] Downloading sales dataframe for location (rgNDsz626CTLnd53Y, FiY6sP2fB5xgpo6W7, CO)\n",
      "[82] Downloading sales dataframe for location (4A5DE8Zj5gDtSmCbn, JYAZRDbztXRLwJ5r6, CO)\n",
      "[83] Downloading sales dataframe for location (7yxgKNbqd5PMNzX3P, pDTpb5jcBPCkaM9Y4, CA)\n",
      "[84] Downloading sales dataframe for location (hRXNA7EETb3wW4HSM, buYyQC35TaEXfna9g, CO)\n",
      "[85] Downloading sales dataframe for location (ueTXJNrihTPQS97vZ, Procfg9sDkYKKQDAr, CO)\n",
      "[86] Downloading sales dataframe for location (rPXmTTcY4LXmgmTcG, PYKgsLK9FTwcSnmaT, OR)\n",
      "[87] Downloading sales dataframe for location (pNvk32k66RwiH4XLW, 35pY3nxKPGdfQKT28, CO)\n",
      "[88] Downloading sales dataframe for location (6K9bzPik9WxNFCceT, nMdvN7zKuFLBwkye7, OR)\n",
      "[89] Downloading sales dataframe for location (df3sSmAoAmLuSmJWq, p6oXYdLQq99TZAHAw, CO)\n",
      "[90] Downloading sales dataframe for location (7R5MBJ2wAH328M9P7, YmCZQD9MS5SLdc3AF, MI)\n",
      "[91] Downloading sales dataframe for location (E2ZWysfDHW2pqB7JW, MbmydJAHsgpqFJJ4m, CO)\n",
      "[92] Downloading sales dataframe for location (kEYekxChnHJ5FRAc4, yTKh8QP9Yk7aQc7E3, CO)\n",
      "[93] Downloading sales dataframe for location (KkyhzzHqgJDFWPM9n, boeYRjqKsN58hCttJ, CA)\n"
     ]
    },
    {
     "name": "stdout",
     "output_type": "stream",
     "text": [
      "[94] Downloading sales dataframe for location (Q2ctDDsxjy23AoQLb, qxiz5WYXaraD6m9cw, CO)\n",
      "[95] Downloading sales dataframe for location (my6fhmSxAxbdFvBKm, Ttf4XqarkihAm2Fen, MI)\n",
      "[96] Downloading sales dataframe for location (zYJtFZdBBkQscrfpN, WSWKMiXdHM7Pjuk2E, OR)\n",
      "[97] Downloading sales dataframe for location (jfD4EGaLur6xsEHbQ, dRuDEyZkyY4YsToMD, CA)\n",
      "[98] Downloading sales dataframe for location (9aGAdAw3tYQ4MxCBc, mBaukdLE4GfLJHMk3, CO)\n",
      "[99] Downloading sales dataframe for location (4xWeGuAg4jDmZSWxA, b5KEZ723yYvGdccgv, CO)\n",
      "[100] Downloading sales dataframe for location (YYejGWetywzcxRhn6, 3KTQcT9Stpofdf5kB, OR)\n",
      "[101] Downloading sales dataframe for location (czyNjjNhCHky7mjfu, MDKfxxXkJLGffq9xg, MI)\n",
      "[102] Downloading sales dataframe for location (cJzxLPbsT2xWzayjT, 5WjAeATyNJQEBp2Jp, OR)\n",
      "[103] Downloading sales dataframe for location (KkyhzzHqgJDFWPM9n, 4syN56cW3Mz4jFb9b, CA)\n",
      "[104] Downloading sales dataframe for location (8fkcBjcmScuidkvn2, uf4FdoqBp8jKtAsGg, OR)\n",
      "[104] An exception occurred for location (8fkcBjcmScuidkvn2, uf4FdoqBp8jKtAsGg, OR)\n",
      "[105] Downloading sales dataframe for location (WFSExqQKtsq6W7At8, H3ZmnEr9cJwLp69KF, OR)\n",
      "[106] Downloading sales dataframe for location (P63pMT9HvTtdmhWcL, 8XbpQa8QiwPcuxZbE, MI)\n",
      "[107] Downloading sales dataframe for location (AqJKG5gJ7MFSeX2Rp, txeeYRyjoA8XKgudG, CO)\n",
      "[108] Downloading sales dataframe for location (s4fnrie58B29225jc, qh5yT7Q3YFa4RSMvW, MI)\n",
      "[109] Downloading sales dataframe for location (rgNDsz626CTLnd53Y, a99L3qQLhzu2mjmCT, CO)\n",
      "[110] Downloading sales dataframe for location (dbhjfjAkBf2xnrPDK, NYG4r9zcLLg8dpuDT, CO)\n",
      "[111] Downloading sales dataframe for location (7SRQ7Z7xuN5EGXGSu, hTZZG34NPtdCXgXvf, CA)\n",
      "[112] Downloading sales dataframe for location (KypyS8kNFhSPZxv7q, GG4cRK5ci6BnXXrek, CO)\n",
      "[113] Downloading sales dataframe for location (XQak5YK9eZfXYhKgJ, 4AnrvwyLnHh4YXT7k, OR)\n",
      "[114] Downloading sales dataframe for location (FhSceFrGthqNntkEE, nkTZx6zDkxzBitF2D, OR)\n",
      "[115] Downloading sales dataframe for location (soGf2Qcrw8hz3zw7A, hJnyq4aQmJ8ZPDN2p, OR)\n",
      "[116] Downloading sales dataframe for location (9aGAdAw3tYQ4MxCBc, eXX2KbkJinAoMSMJ8, CO)\n",
      "[117] Downloading sales dataframe for location (ySB2RKAtEDYKERK9J, 2t3guxpfanCWqycA6, MA)\n",
      "[118] Downloading sales dataframe for location (QtFmR4Qgdk2fcYQ2h, p4uoisdtyfqeYk4GX, OR)\n",
      "[119] Downloading sales dataframe for location (E64uo3RvNGNDpvzsD, sLxB8GHBxW96yLLEc, CO)\n",
      "[120] Downloading sales dataframe for location (FuDLDjBXzkEPPQxZD, TgLFQQcK4NiY8unCE, MA)\n",
      "[121] Downloading sales dataframe for location (6DwQ3xhCWDGBRFFss, YLEEhTz7umoffAPqd, CO)\n",
      "[122] Downloading sales dataframe for location (exFwNR5F4o5DGDKRW, AmkkHfRm6RjhEJGrK, CO)\n",
      "[123] Downloading sales dataframe for location (H7LmfTFQfqAqxaeGf, LPLszRsYMomFaBAQR, OR)\n",
      "[124] Downloading sales dataframe for location (pTYqYSwRCuxLKKzME, vWcpWc8k7eErZit6B, CO)\n",
      "[125] Downloading sales dataframe for location (pTYqYSwRCuxLKKzME, QQvD4yk7CAtH2MDwa, AZ)\n",
      "[126] Downloading sales dataframe for location (dPBnHGGKDN7BoewSb, GquEcaJjTtznA2SNW, CO)\n",
      "[127] Downloading sales dataframe for location (SPYsqAwk5XEjp9ZwX, wvkqmogsjjjfSSocY, MI)\n",
      "[128] Downloading sales dataframe for location (fEsQ8GsoDAnE7KesF, LzgZfrLTtusirBknS, CA)\n",
      "[129] Downloading sales dataframe for location (nCruygGQCoYecWbiA, hckksdjCgJZxCoSYx, OR)\n",
      "[130] Downloading sales dataframe for location (rgNDsz626CTLnd53Y, wGDNyMATiZMDwrEAC, CO)\n",
      "[131] Downloading sales dataframe for location (iJscrRfw6uYjEhEKo, YzMPTXGLr6SqEDAWY, CO)\n",
      "[132] Downloading sales dataframe for location (soGf2Qcrw8hz3zw7A, Fk7nnkg6WfWqTbA6r, OR)\n",
      "[133] Downloading sales dataframe for location (P63pMT9HvTtdmhWcL, 6MixYQuZj8dX3wZaH, MI)\n",
      "[134] Downloading sales dataframe for location (dWLm7ENAouJ4WEoJP, wPF7B3axoELQhodfH, CO)\n",
      "[135] Downloading sales dataframe for location (jHRWDbw2acLnecEMb, Apjz33PejC6nxM44Q, CO)\n",
      "[136] Downloading sales dataframe for location (iyMFa4iWBQcwDJ96J, 7d2n9JxXJASYWzxxm, OR)\n",
      "[137] Downloading sales dataframe for location (dPBnHGGKDN7BoewSb, k5QDGuijL8LfzKWbT, CO)\n",
      "[138] Downloading sales dataframe for location (hcLfFhKstdmNNtBjx, stEZcHzK7YnStjxEY, CO)\n",
      "[139] Downloading sales dataframe for location (Q2ctDDsxjy23AoQLb, vho4fBSgkDjiGBgup, CO)\n",
      "[140] Downloading sales dataframe for location (KkyhzzHqgJDFWPM9n, iSErbHS86nkF2ofqH, CA)\n",
      "[141] Downloading sales dataframe for location (9jrcBWKRkf9wgQ6mr, 6EAiLXwCs9wfXHbgG, CO)\n",
      "[142] Downloading sales dataframe for location (QZaMHjsdRoCrM6YpT, HYarvKnCx8LimvPHd, CA)\n",
      "[143] Downloading sales dataframe for location (gMn8iLck9MHoDu2xn, NCCNyEZrTpaHmptK6, MI)\n",
      "[144] Downloading sales dataframe for location (Q2ctDDsxjy23AoQLb, 2yBx7nstyQ8ZsAmJr, CO)\n",
      "[145] Downloading sales dataframe for location (caH9RMynqjrmihrxA, YWunBwEwPiKPDeiJB, CO)\n",
      "[146] Downloading sales dataframe for location (iJscrRfw6uYjEhEKo, KrCPtJaQmpa3cjXXN, CO)\n",
      "[147] Downloading sales dataframe for location (6DwQ3xhCWDGBRFFss, CaNMh4HdcNdPFkoYK, CO)\n",
      "[148] Downloading sales dataframe for location (dPBnHGGKDN7BoewSb, Pm6LiFkoePFdAKSaL, CO)\n",
      "[149] Downloading sales dataframe for location (dPBnHGGKDN7BoewSb, bqKHM2aszQqLotXYD, CO)\n",
      "[150] Downloading sales dataframe for location (skr37kBKma2BsYjxM, prYYNAY7hcMLYJzd9, MI)\n",
      "[151] Downloading sales dataframe for location (s4fnrie58B29225jc, Qzo8oZNzMzx2jL6sd, MI)\n",
      "[152] Downloading sales dataframe for location (ByCLyAjbSNLZFD4pc, oT9Y9S9wG9xzkCqTH, CO)\n",
      "[153] Downloading sales dataframe for location (Q2ctDDsxjy23AoQLb, PRvKKPwhXmGoDXZeb, CO)\n",
      "[154] Downloading sales dataframe for location (s4fnrie58B29225jc, wBbhHYEDp52BowBXg, MI)\n",
      "[155] Downloading sales dataframe for location (7R5MBJ2wAH328M9P7, kYM3JYW6yPzhuu8tE, MI)\n",
      "[156] Downloading sales dataframe for location (8fkcBjcmScuidkvn2, MuirNe829ZExjNmek, OR)\n",
      "[157] Downloading sales dataframe for location (EeKxS92bT8BmGsavE, GR8ucGDAawJ8XkF94, MI)\n",
      "[158] Downloading sales dataframe for location (rgNDsz626CTLnd53Y, vcSWQf42MRtpLdAyH, CO)\n",
      "[159] Downloading sales dataframe for location (E2ZWysfDHW2pqB7JW, B8pM9KEBveyEBEN34, CO)\n",
      "[160] Downloading sales dataframe for location (B9GQKa7DehxaHMtSX, REZC5uHgzDKsSqNGB, CO)\n",
      "[161] Downloading sales dataframe for location (soGf2Qcrw8hz3zw7A, hWwpRPYtQk9D9ub8S, OR)\n",
      "[162] Downloading sales dataframe for location (dPBnHGGKDN7BoewSb, JTYN5fzmttm5Hp2nu, CO)\n",
      "[163] Downloading sales dataframe for location (iJscrRfw6uYjEhEKo, m4qw2bLpeNRpkwSog, CO)\n",
      "[164] Downloading sales dataframe for location (W9FX7xfES6pZPg4o8, hoL6QWpKg4mFEEiB2, MA)\n",
      "[165] Downloading sales dataframe for location (s4fnrie58B29225jc, bhKv2q34nZ3pwig9G, MI)\n",
      "[166] Downloading sales dataframe for location (KypyS8kNFhSPZxv7q, w2nkNYHgjfaWNPiCZ, CO)\n",
      "[167] Downloading sales dataframe for location (TETLayDXwuGSrkANd, Prey6qWiR9qx42BfZ, CO)\n",
      "[168] Downloading sales dataframe for location (gmAmheWQLfWvhg7aF, rAffv9HziBbzRzqh3, CO)\n",
      "[169] Downloading sales dataframe for location (E2ZWysfDHW2pqB7JW, 8w9LHWtFkywXHFbjT, CO)\n",
      "[170] Downloading sales dataframe for location (caH9RMynqjrmihrxA, SMxaDCwvRkk9W5CYo, CO)\n",
      "[171] Downloading sales dataframe for location (Q2ctDDsxjy23AoQLb, Q2kMvxBHw5BF4acj3, CO)\n",
      "[172] Downloading sales dataframe for location (6YRM2orTfSySDKhLL, R5EZkhoLBF9e7qxmF, MA)\n",
      "[173] Downloading sales dataframe for location (QZaMHjsdRoCrM6YpT, fNwQTfW3g6RHFzem2, CA)\n",
      "[174] Downloading sales dataframe for location (NdvsZACyTb6HHHz5e, GmRxcxhgYYbY4rzWt, CA)\n",
      "[175] Downloading sales dataframe for location (gmAmheWQLfWvhg7aF, p5YBJDMCPA7PcwEDA, CO)\n",
      "[176] Downloading sales dataframe for location (WCoDEv4fPzofmrowz, F83aT7SK4wCj9pGMR, CA)\n",
      "[177] Downloading sales dataframe for location (E2ZWysfDHW2pqB7JW, icLHyCEKBqp4b4sGK, CO)\n",
      "[178] Downloading sales dataframe for location (FeYB32454Az4yNvon, RFBbCqSpf2vmTqWfS, CO)\n",
      "There are 177 company location dataframes in the dataset\n"
     ]
    }
   ],
   "source": [
    "# (company_id, location_id, location_state, location_sales_dataframe)\n",
    "company_location_dataframes = []\n",
    "\n",
    "for index, company_location_tuple in enumerate(company_location_ids_set):\n",
    "    company_id, location_id, location_state = company_location_tuple\n",
    "    print(f'[{index + 1}] Downloading sales dataframe for location ({company_id}, {location_id}, {location_state})')\n",
    "\n",
    "    try:\n",
    "        location_sales_csv_string = manager.read_content(f'{company_id}/{location_id}/{location_id}_sales.csv', throw_exception=True)\n",
    "        location_sales_io = StringIO(location_sales_csv_string.decode(\"utf-8\"))\n",
    "        location_sales_dataframe = pd.read_csv(location_sales_io)\n",
    "        company_location_dataframes.append((company_id, location_id, location_state, location_sales_dataframe))\n",
    "    except:\n",
    "        print(f'[{index + 1}] An exception occurred for location ({company_id}, {location_id}, {location_state})')\n",
    "\n",
    "company_location_dataframes_count = len(list(company_location_dataframes))\n",
    "print(f'There are {company_location_dataframes_count} company location dataframes in the dataset')"
   ]
  },
  {
   "cell_type": "code",
   "execution_count": 9,
   "id": "121ca3a4",
   "metadata": {
    "scrolled": true
   },
   "outputs": [
    {
     "data": {
      "text/plain": [
       "{'CO': 96, 'CA': 23, 'MI': 24, 'OR': 28, 'MA': 5, 'AZ': 1}"
      ]
     },
     "execution_count": 9,
     "metadata": {},
     "output_type": "execute_result"
    }
   ],
   "source": [
    "state_to_count = {}\n",
    "\n",
    "for company_id, location_id, location_state, location_sales_dataframe in company_location_dataframes:\n",
    "    # TODO: do data science stuff on these dataframes.\n",
    "#     print(company_id, location_id, location_state, location_sales_dataframe.shape)\n",
    "    if location_state not in state_to_count:\n",
    "        state_to_count[location_state] = 0\n",
    "    state_to_count[location_state] += 1\n",
    "\n",
    "state_to_count"
   ]
  },
  {
   "cell_type": "code",
   "execution_count": 10,
   "id": "e96bb74a",
   "metadata": {},
   "outputs": [
    {
     "name": "stdout",
     "output_type": "stream",
     "text": [
      "E2ZWysfDHW2pqB7JW aYt5FfpYq2GnTagfC CO (90574, 15)\n",
      "6DwQ3xhCWDGBRFFss bS7R8w9hgETJuiZoj CO (8886, 15)\n",
      "7yxgKNbqd5PMNzX3P TdyAhrZWq6MDeyNvu CA (638, 15)\n",
      "7Grxab9AL8HbnNcCn J4qscTeHW28gWBxju CO (84443, 15)\n",
      "cSuhZSQExaug3odn5 iksYoAeKHCziH8wjb CO (1924, 15)\n",
      "jfD4EGaLur6xsEHbQ Wjgbcenow3oSALsgJ CA (32932, 15)\n",
      "6DwQ3xhCWDGBRFFss xiJBqHKLRED7J2vHe CO (0, 15)\n",
      "GNPWTqYqZsfcAA6Jb FgmkhfmA7qPSkMsx4 CO (71031, 15)\n",
      "KypyS8kNFhSPZxv7q hqoDkhKFbRGdjaC9Z CO (0, 15)\n",
      "ueTXJNrihTPQS97vZ Hcug7wxTBbgdcwuBp CO (14599, 15)\n",
      "SPYsqAwk5XEjp9ZwX eLHngApztHXt5s8EM MI (217116, 15)\n",
      "9RfzKgXJn46NXH4Lm HiupCL6yiRpbhdTWC OR (38011, 15)\n",
      "7yxgKNbqd5PMNzX3P nkd4rFdkFuwkzREqM CA (21484, 15)\n",
      "pJRQ5CqncC9xk8bdy bmJuhcYDiqAcbj6Ze CA (62504, 15)\n",
      "KkyhzzHqgJDFWPM9n muYwpddLcAc6gTYYS CA (0, 15)\n",
      "dPBnHGGKDN7BoewSb 4H7u5h3YpH7AfhpRh CO (47872, 15)\n",
      "ScA2tJQp3iryzrBKS fDrbnB9KCA2jnDbhg CO (81546, 15)\n",
      "QeJpvdukLbF2jp29u MChwYqG2LnkKmdY55 CO (93485, 15)\n",
      "P63pMT9HvTtdmhWcL w6GrPdpwkjbsweeKC MI (133713, 15)\n",
      "DwAym344iPb22MYPr yji6wnh5kT8GZmM26 OR (99441, 15)\n",
      "XQak5YK9eZfXYhKgJ wFgewqSvmGEQzyrLQ OR (60344, 15)\n",
      "JgeRNMvtP3A2tGcEo aBq33e9dcXdb9JRWR CO (109605, 15)\n",
      "KkyhzzHqgJDFWPM9n Ceoy5YkSujnhNt5Zn CA (0, 15)\n",
      "j7NR2ZFa5vXCAyxzR ZvfRr674sQivsWR89 CA (40959, 15)\n",
      "hbTCMydA4w2TnGqHE mN2gXpCGvAx4aMbit OR (267412, 15)\n",
      "uBkpbfZHy55ndgnTv JL5zpyFxo7J3rHxZK OR (172997, 15)\n",
      "L7ME43C6TAoYv6HCb 4hmkTc8KYoncMnH59 MA (275798, 15)\n",
      "wiyY5tNikq6WRPQ6E q5ibpyhJiEuBwYCJv MI (338926, 15)\n",
      "rrCXhvarvXo7P2fGo g63EjGYZsjHPqyPL4 OR (13301, 15)\n",
      "4xWeGuAg4jDmZSWxA PY9ucfFTZc4XPSuPC CO (120763, 15)\n",
      "hPzYzThkKMuQrF9Q2 kWheTth4u6uMC4CC9 CO (36378, 15)\n",
      "j7MWhCyfRAgZstQdE BcggJ8dJgf6dG4HD6 CO (2244, 15)\n",
      "HmNDEqWf2NvmYGpZu ZRSc2RYzna9Kni6Lo CO (77898, 15)\n",
      "Q2ctDDsxjy23AoQLb QzxtSrfS8dh3qWsWm CO (16125, 15)\n",
      "rgNDsz626CTLnd53Y X4umGyWwy8bByo3dp CO (61720, 15)\n",
      "rgNDsz626CTLnd53Y NsTkwrKuNqSPpjxJn CO (43078, 15)\n",
      "rPXmTTcY4LXmgmTcG Wn3vq5TEvzEjrLoeo OR (20572, 15)\n",
      "rgNDsz626CTLnd53Y HJho8PdduZazwxzet CO (15994, 15)\n",
      "j7MWhCyfRAgZstQdE Xa54Pov4FpuTxizDd CO (2509, 15)\n",
      "d7u39ZjnznjCCE54L eYoBctQZTqsmydrHY CO (25716, 15)\n",
      "T3nGGs9v9BkBJkLAJ TpetsriCnhipdAvdb CO (22424, 15)\n",
      "PhGThGEkoJR7xy64q j5Z3K6oX85m5xbH2T CO (9404, 15)\n",
      "dJg8Bmr3FDZhipSJe rZCY6mc4x8y7Fepu6 MI (97883, 15)\n",
      "gmAmheWQLfWvhg7aF aKiDRWpwJuhLABnWA CO (211634, 15)\n",
      "E2ZWysfDHW2pqB7JW 5CAwD9Rt2kBXddaEC CO (33631, 15)\n",
      "rK3atC7axuLcz3iRB 7M2PxZuR7sPpfgfuJ OR (26216, 15)\n",
      "KypyS8kNFhSPZxv7q RJxDzpLGARNoej3x9 CO (191819, 15)\n",
      "D4whhBS6cDZcxZTWQ SbXJngA5SJw6fX4X7 CA (294112, 15)\n",
      "P63pMT9HvTtdmhWcL wceNMPjZukYhbKu4q MI (158848, 15)\n",
      "KypyS8kNFhSPZxv7q ofeoiXgSPuM6PCyaN CO (132338, 15)\n",
      "P63pMT9HvTtdmhWcL iqfzKWKpcHmcw3zyB MI (9939, 15)\n",
      "d2Q3Ga3jxiBpsHdHe mE6ABrbzCLjFDRiCK MI (42914, 15)\n",
      "NpqM32uwNRKTTWTb6 hEDskKfvoCGHTkeDp CO (1862, 15)\n",
      "P63pMT9HvTtdmhWcL A9ZGNP4jxJfp8cErn MI (132153, 15)\n",
      "GNPWTqYqZsfcAA6Jb tjPZFyNwNnYMc8jcE CO (53544, 15)\n",
      "E2ZWysfDHW2pqB7JW EsDe4nRt3MX35cZkb CO (81197, 15)\n",
      "rgNDsz626CTLnd53Y K5Toc7ZAJCFQ9e45G CO (38338, 15)\n",
      "JjtbeWp3LdAJp4xME d8D9R65o75dzizwv7 OR (16198, 15)\n",
      "dPBnHGGKDN7BoewSb noh5XdbxTK5gRSLMt CO (74108, 15)\n",
      "iyMFa4iWBQcwDJ96J c8tpERbSmkRvaauEn OR (17259, 15)\n",
      "dPBnHGGKDN7BoewSb wGeAKkDSeYQb22QhS CO (60987, 15)\n",
      "hPzYzThkKMuQrF9Q2 zKiH8jXK5S7cw5j5N CO (17340, 15)\n",
      "iJscrRfw6uYjEhEKo LFjsRXJPgxtXfFzxm CO (21247, 15)\n",
      "SPYsqAwk5XEjp9ZwX CtuShNA5sgy8GnxMf MI (0, 15)\n",
      "kKBqnAwywSrKLGQpk qMqFJoMnwH5fYqfzc OR (8909, 15)\n",
      "KkyhzzHqgJDFWPM9n EuD42c5biCpsp7YAS CA (0, 15)\n",
      "X28YzezeSoJRkQG5k nkezQjPpvGv3imnQC CO (187222, 15)\n",
      "wAcmr4LCaqm2w6LPx JzSkgYKPM4oTacbbF CO (49223, 15)\n",
      "j7MWhCyfRAgZstQdE WPz3hFKPNePY6kFyT CO (2073, 15)\n",
      "cSnsbv7ccTEXcHAbW ssbs4evELKRzGP7Mg OR (16521, 15)\n",
      "hcLfFhKstdmNNtBjx WCXL3HhQzSr6kHaAX CO (26028, 15)\n",
      "RqokibKjt6ueZK52s 4QHc4Kakc8PD8EJR8 CO (3014, 15)\n",
      "D2JsangYtSFya4nDT G4yyguo4R7wGp3NR8 CO (35376, 15)\n",
      "7SRQ7Z7xuN5EGXGSu JDcPyy6NfkQHkyK5C CA (227856, 15)\n",
      "dJg8Bmr3FDZhipSJe 43HM2Zu77qrMksWB8 MI (26028, 15)\n",
      "kEYekxChnHJ5FRAc4 pwJ65xWrRyZ4QFJGP CO (22589, 15)\n",
      "o46tyNKeC4xHZeh7h kc7H5MybfG8z4QuAB CO (37746, 15)\n",
      "XvKkyKyMz4g2D7jr3 rJPS4snkZyiazJ5ba CO (12336, 15)\n",
      "7SRQ7Z7xuN5EGXGSu SrS9ay3mNoQzJ79ys CA (96113, 15)\n",
      "jfD4EGaLur6xsEHbQ 9qbx82jZwxnvdDDNX CA (28964, 15)\n",
      "rgNDsz626CTLnd53Y FiY6sP2fB5xgpo6W7 CO (56964, 15)\n",
      "4A5DE8Zj5gDtSmCbn JYAZRDbztXRLwJ5r6 CO (38842, 15)\n",
      "7yxgKNbqd5PMNzX3P pDTpb5jcBPCkaM9Y4 CA (151497, 15)\n",
      "hRXNA7EETb3wW4HSM buYyQC35TaEXfna9g CO (39620, 15)\n",
      "ueTXJNrihTPQS97vZ Procfg9sDkYKKQDAr CO (20140, 15)\n",
      "rPXmTTcY4LXmgmTcG PYKgsLK9FTwcSnmaT OR (11542, 15)\n",
      "pNvk32k66RwiH4XLW 35pY3nxKPGdfQKT28 CO (345814, 15)\n",
      "6K9bzPik9WxNFCceT nMdvN7zKuFLBwkye7 OR (157317, 15)\n",
      "df3sSmAoAmLuSmJWq p6oXYdLQq99TZAHAw CO (26888, 15)\n",
      "7R5MBJ2wAH328M9P7 YmCZQD9MS5SLdc3AF MI (310237, 15)\n",
      "E2ZWysfDHW2pqB7JW MbmydJAHsgpqFJJ4m CO (82416, 15)\n",
      "kEYekxChnHJ5FRAc4 yTKh8QP9Yk7aQc7E3 CO (909, 15)\n",
      "KkyhzzHqgJDFWPM9n boeYRjqKsN58hCttJ CA (0, 15)\n",
      "Q2ctDDsxjy23AoQLb qxiz5WYXaraD6m9cw CO (36688, 15)\n",
      "my6fhmSxAxbdFvBKm Ttf4XqarkihAm2Fen MI (11411, 15)\n",
      "zYJtFZdBBkQscrfpN WSWKMiXdHM7Pjuk2E OR (13229, 15)\n",
      "jfD4EGaLur6xsEHbQ dRuDEyZkyY4YsToMD CA (12740, 15)\n",
      "9aGAdAw3tYQ4MxCBc mBaukdLE4GfLJHMk3 CO (19076, 15)\n",
      "4xWeGuAg4jDmZSWxA b5KEZ723yYvGdccgv CO (98221, 15)\n",
      "YYejGWetywzcxRhn6 3KTQcT9Stpofdf5kB OR (87291, 15)\n",
      "czyNjjNhCHky7mjfu MDKfxxXkJLGffq9xg MI (65853, 15)\n",
      "cJzxLPbsT2xWzayjT 5WjAeATyNJQEBp2Jp OR (59922, 15)\n",
      "KkyhzzHqgJDFWPM9n 4syN56cW3Mz4jFb9b CA (0, 15)\n",
      "WFSExqQKtsq6W7At8 H3ZmnEr9cJwLp69KF OR (72831, 15)\n",
      "P63pMT9HvTtdmhWcL 8XbpQa8QiwPcuxZbE MI (0, 15)\n",
      "AqJKG5gJ7MFSeX2Rp txeeYRyjoA8XKgudG CO (77831, 15)\n",
      "s4fnrie58B29225jc qh5yT7Q3YFa4RSMvW MI (238076, 15)\n",
      "rgNDsz626CTLnd53Y a99L3qQLhzu2mjmCT CO (10193, 15)\n",
      "dbhjfjAkBf2xnrPDK NYG4r9zcLLg8dpuDT CO (132168, 15)\n",
      "7SRQ7Z7xuN5EGXGSu hTZZG34NPtdCXgXvf CA (0, 15)\n",
      "KypyS8kNFhSPZxv7q GG4cRK5ci6BnXXrek CO (0, 15)\n",
      "XQak5YK9eZfXYhKgJ 4AnrvwyLnHh4YXT7k OR (56443, 15)\n",
      "FhSceFrGthqNntkEE nkTZx6zDkxzBitF2D OR (255278, 15)\n",
      "soGf2Qcrw8hz3zw7A hJnyq4aQmJ8ZPDN2p OR (119874, 15)\n",
      "9aGAdAw3tYQ4MxCBc eXX2KbkJinAoMSMJ8 CO (14289, 15)\n",
      "ySB2RKAtEDYKERK9J 2t3guxpfanCWqycA6 MA (28694, 15)\n",
      "QtFmR4Qgdk2fcYQ2h p4uoisdtyfqeYk4GX OR (40930, 15)\n",
      "E64uo3RvNGNDpvzsD sLxB8GHBxW96yLLEc CO (79373, 15)\n",
      "FuDLDjBXzkEPPQxZD TgLFQQcK4NiY8unCE MA (107667, 15)\n",
      "6DwQ3xhCWDGBRFFss YLEEhTz7umoffAPqd CO (208282, 15)\n",
      "exFwNR5F4o5DGDKRW AmkkHfRm6RjhEJGrK CO (16401, 15)\n",
      "H7LmfTFQfqAqxaeGf LPLszRsYMomFaBAQR OR (52832, 15)\n",
      "pTYqYSwRCuxLKKzME vWcpWc8k7eErZit6B CO (28341, 15)\n",
      "pTYqYSwRCuxLKKzME QQvD4yk7CAtH2MDwa AZ (40, 15)\n",
      "dPBnHGGKDN7BoewSb GquEcaJjTtznA2SNW CO (26003, 15)\n",
      "SPYsqAwk5XEjp9ZwX wvkqmogsjjjfSSocY MI (124792, 15)\n",
      "fEsQ8GsoDAnE7KesF LzgZfrLTtusirBknS CA (39416, 15)\n",
      "nCruygGQCoYecWbiA hckksdjCgJZxCoSYx OR (67324, 15)\n",
      "rgNDsz626CTLnd53Y wGDNyMATiZMDwrEAC CO (81973, 15)\n",
      "iJscrRfw6uYjEhEKo YzMPTXGLr6SqEDAWY CO (36197, 15)\n",
      "soGf2Qcrw8hz3zw7A Fk7nnkg6WfWqTbA6r OR (110425, 15)\n",
      "P63pMT9HvTtdmhWcL 6MixYQuZj8dX3wZaH MI (215758, 15)\n",
      "dWLm7ENAouJ4WEoJP wPF7B3axoELQhodfH CO (17386, 15)\n",
      "jHRWDbw2acLnecEMb Apjz33PejC6nxM44Q CO (43527, 15)\n",
      "iyMFa4iWBQcwDJ96J 7d2n9JxXJASYWzxxm OR (48602, 15)\n",
      "dPBnHGGKDN7BoewSb k5QDGuijL8LfzKWbT CO (115800, 15)\n",
      "hcLfFhKstdmNNtBjx stEZcHzK7YnStjxEY CO (0, 15)\n",
      "Q2ctDDsxjy23AoQLb vho4fBSgkDjiGBgup CO (62650, 15)\n",
      "KkyhzzHqgJDFWPM9n iSErbHS86nkF2ofqH CA (29940, 15)\n",
      "9jrcBWKRkf9wgQ6mr 6EAiLXwCs9wfXHbgG CO (85515, 15)\n",
      "QZaMHjsdRoCrM6YpT HYarvKnCx8LimvPHd CA (741, 15)\n",
      "gMn8iLck9MHoDu2xn NCCNyEZrTpaHmptK6 MI (301646, 15)\n",
      "Q2ctDDsxjy23AoQLb 2yBx7nstyQ8ZsAmJr CO (63336, 15)\n",
      "caH9RMynqjrmihrxA YWunBwEwPiKPDeiJB CO (4734, 15)\n",
      "iJscrRfw6uYjEhEKo KrCPtJaQmpa3cjXXN CO (66718, 15)\n",
      "6DwQ3xhCWDGBRFFss CaNMh4HdcNdPFkoYK CO (46371, 15)\n",
      "dPBnHGGKDN7BoewSb Pm6LiFkoePFdAKSaL CO (191475, 15)\n",
      "dPBnHGGKDN7BoewSb bqKHM2aszQqLotXYD CO (45683, 15)\n",
      "skr37kBKma2BsYjxM prYYNAY7hcMLYJzd9 MI (11984, 15)\n",
      "s4fnrie58B29225jc Qzo8oZNzMzx2jL6sd MI (113162, 15)\n",
      "ByCLyAjbSNLZFD4pc oT9Y9S9wG9xzkCqTH CO (76961, 15)\n",
      "Q2ctDDsxjy23AoQLb PRvKKPwhXmGoDXZeb CO (0, 15)\n",
      "s4fnrie58B29225jc wBbhHYEDp52BowBXg MI (97912, 15)\n",
      "7R5MBJ2wAH328M9P7 kYM3JYW6yPzhuu8tE MI (47443, 15)\n",
      "8fkcBjcmScuidkvn2 MuirNe829ZExjNmek OR (127984, 15)\n",
      "EeKxS92bT8BmGsavE GR8ucGDAawJ8XkF94 MI (4827, 15)\n",
      "rgNDsz626CTLnd53Y vcSWQf42MRtpLdAyH CO (63564, 15)\n",
      "E2ZWysfDHW2pqB7JW B8pM9KEBveyEBEN34 CO (31347, 15)\n",
      "B9GQKa7DehxaHMtSX REZC5uHgzDKsSqNGB CO (37926, 15)\n",
      "soGf2Qcrw8hz3zw7A hWwpRPYtQk9D9ub8S OR (47773, 15)\n",
      "dPBnHGGKDN7BoewSb JTYN5fzmttm5Hp2nu CO (0, 15)\n",
      "iJscrRfw6uYjEhEKo m4qw2bLpeNRpkwSog CO (73854, 15)\n",
      "W9FX7xfES6pZPg4o8 hoL6QWpKg4mFEEiB2 MA (10613, 15)\n",
      "s4fnrie58B29225jc bhKv2q34nZ3pwig9G MI (246990, 15)\n",
      "KypyS8kNFhSPZxv7q w2nkNYHgjfaWNPiCZ CO (0, 15)\n",
      "TETLayDXwuGSrkANd Prey6qWiR9qx42BfZ CO (31507, 15)\n",
      "gmAmheWQLfWvhg7aF rAffv9HziBbzRzqh3 CO (270700, 15)\n",
      "E2ZWysfDHW2pqB7JW 8w9LHWtFkywXHFbjT CO (95877, 15)\n",
      "caH9RMynqjrmihrxA SMxaDCwvRkk9W5CYo CO (1806, 15)\n",
      "Q2ctDDsxjy23AoQLb Q2kMvxBHw5BF4acj3 CO (65632, 15)\n",
      "6YRM2orTfSySDKhLL R5EZkhoLBF9e7qxmF MA (21557, 15)\n",
      "QZaMHjsdRoCrM6YpT fNwQTfW3g6RHFzem2 CA (273891, 15)\n",
      "NdvsZACyTb6HHHz5e GmRxcxhgYYbY4rzWt CA (114694, 15)\n",
      "gmAmheWQLfWvhg7aF p5YBJDMCPA7PcwEDA CO (101972, 15)\n",
      "WCoDEv4fPzofmrowz F83aT7SK4wCj9pGMR CA (175211, 15)\n",
      "E2ZWysfDHW2pqB7JW icLHyCEKBqp4b4sGK CO (37201, 15)\n",
      "FeYB32454Az4yNvon RFBbCqSpf2vmTqWfS CO (63848, 15)\n"
     ]
    }
   ],
   "source": [
    "for company_id, location_id, location_state, location_sales_dataframe in company_location_dataframes:\n",
    "    # TODO: do data science stuff on these dataframes.\n",
    "    print(company_id, location_id, location_state, location_sales_dataframe.shape)"
   ]
  },
  {
   "cell_type": "code",
   "execution_count": 12,
   "id": "6f02e11c",
   "metadata": {},
   "outputs": [],
   "source": [
    "#company_location_dataframes[0][3]"
   ]
  },
  {
   "cell_type": "markdown",
   "id": "86cf7f50",
   "metadata": {},
   "source": [
    "# PROCESS DATA FRAMES"
   ]
  },
  {
   "cell_type": "code",
   "execution_count": null,
   "id": "984fc6fd",
   "metadata": {},
   "outputs": [],
   "source": [
    "import numpy as np\n",
    "from tqdm import tqdm\n",
    "import matplotlib.pyplot as plt\n",
    "%matplotlib inline  \n",
    "import seaborn as sns"
   ]
  },
  {
   "cell_type": "code",
   "execution_count": null,
   "id": "5de65756",
   "metadata": {},
   "outputs": [],
   "source": [
    "def pre_process_df(df,loc_id,loc_state):\n",
    "    df = (\n",
    "        df\n",
    "        .assign(**{\"SalesCreatedAt\": lambda df_: pd.to_datetime(df_['SalesCreatedAt'])})\n",
    "        .assign(**{\"year_month\": lambda df_: df_['SalesCreatedAt'].dt.strftime('%Y-%m')})\n",
    "        .replace('None', np.nan).fillna(0)\n",
    "    )\n",
    "    #exclude cost < $1.0\n",
    "    df_low_cost = df[df['costInDollars'] < 1.0]\n",
    "    df_non_low_cost = df[df['costInDollars'] >= 1.0]\n",
    "    perc_low_cost = df_low_cost.shape[0] / df.shape[0]\n",
    "    #exclude category = Accessory\n",
    "    df_accessory = df_non_low_cost[df_non_low_cost['category'] == 'Accessory']\n",
    "    df_non_accessory = df_non_low_cost[df_non_low_cost['category'] != 'Accessory']\n",
    "    perc_accessory = df_accessory.shape[0] / df_non_low_cost.shape[0]\n",
    "    # cogs\n",
    "    cogs = df_non_accessory[['year_month','NetSales','costInDollars']].groupby('year_month').sum()\n",
    "    cogs['profit'] = cogs['NetSales'] - cogs['costInDollars']\n",
    "    cogs['margin_perc'] = cogs['profit'] / cogs['NetSales']\n",
    "    cogs['location_id'] = loc_id\n",
    "    cogs['location_state'] = loc_state\n",
    "    return cogs.reset_index(),perc_low_cost,perc_accessory\n",
    "    "
   ]
  },
  {
   "cell_type": "code",
   "execution_count": null,
   "id": "8a051524",
   "metadata": {
    "scrolled": true
   },
   "outputs": [],
   "source": [
    "res = []\n",
    "low_cost_trim_perc= []\n",
    "accessory_trim_perc = []\n",
    "\n",
    "for company_id, location_id, location_state, df in tqdm(company_location_dataframes):\n",
    "    if len(df) == 0:\n",
    "        low_cost_trim_perc.append(np.nan)\n",
    "        accessory_trim_perc.append(np.nan)\n",
    "        continue\n",
    "    res.append(pre_process_df(df, location_id, location_state)[0])\n",
    "    low_cost_trim_perc.append(pre_process_df(df, location_id, location_state)[1])\n",
    "    accessory_trim_perc.append(pre_process_df(df, location_id, location_state)[2])"
   ]
  },
  {
   "cell_type": "code",
   "execution_count": null,
   "id": "a21d5636",
   "metadata": {},
   "outputs": [],
   "source": [
    "low_cost_trim_perc_df = pd.DataFrame(low_cost_trim_perc)\n",
    "low_cost_trim_perc_df.columns = ['low_cost_trim_perc']\n",
    "accessory_trim_perc_df = pd.DataFrame(accessory_trim_perc)\n",
    "accessory_trim_perc_df.columns = ['accessory_trim_perc']"
   ]
  },
  {
   "cell_type": "code",
   "execution_count": null,
   "id": "f980dadb",
   "metadata": {},
   "outputs": [],
   "source": [
    "low_cost_trim_perc_df.describe()"
   ]
  },
  {
   "cell_type": "code",
   "execution_count": null,
   "id": "5a9cef8b",
   "metadata": {},
   "outputs": [],
   "source": [
    "accessory_trim_perc_df.describe()"
   ]
  },
  {
   "cell_type": "code",
   "execution_count": null,
   "id": "57343896",
   "metadata": {},
   "outputs": [],
   "source": [
    "# 178 company locations\n",
    "# 1 failed download -> 177 locations\n",
    "# 15 empty df\n",
    "# 1 company TdyAhrZWq6MDeyNvu: trimmed by accessory and cost > 1"
   ]
  },
  {
   "cell_type": "code",
   "execution_count": null,
   "id": "be2cf455",
   "metadata": {},
   "outputs": [],
   "source": [
    "final_df = pd.concat(res).reset_index(drop=True)"
   ]
  },
  {
   "cell_type": "code",
   "execution_count": null,
   "id": "50cbe42e",
   "metadata": {},
   "outputs": [],
   "source": [
    "# 178 company locations\n",
    "# 1 failed download -> 177 locations\n",
    "# 15 empty df\n",
    "# 1 company TdyAhrZWq6MDeyNvu: trimmed by accessory and cost > 1"
   ]
  },
  {
   "cell_type": "code",
   "execution_count": null,
   "id": "2ad7139b",
   "metadata": {},
   "outputs": [],
   "source": [
    "#final_df.to_csv('flowhub_sales_final_df_v0.csv')"
   ]
  },
  {
   "cell_type": "markdown",
   "id": "ee4d7d34",
   "metadata": {},
   "source": [
    "# sanity checks"
   ]
  },
  {
   "cell_type": "code",
   "execution_count": null,
   "id": "8c08a5ee",
   "metadata": {},
   "outputs": [],
   "source": [
    "#t = company_location_dataframes[0][3]"
   ]
  },
  {
   "cell_type": "code",
   "execution_count": null,
   "id": "ea2e2c85",
   "metadata": {},
   "outputs": [],
   "source": [
    "#t = t.assign(**{\"SalesCreatedAt\": lambda df_: pd.to_datetime(df_['SalesCreatedAt'])}).assign(**{\"year_month\": lambda df_: df_['SalesCreatedAt'].dt.strftime('%Y-%m')})"
   ]
  },
  {
   "cell_type": "code",
   "execution_count": null,
   "id": "b74bc973",
   "metadata": {},
   "outputs": [],
   "source": [
    "#t[(t['costInDollars'] >= 1.0)&(t['category'] != 'Accessory')&(t['year_month'] == '2021-05')]['costInDollars'].sum()"
   ]
  },
  {
   "cell_type": "markdown",
   "id": "84f65b48",
   "metadata": {},
   "source": [
    "## Count"
   ]
  },
  {
   "cell_type": "code",
   "execution_count": null,
   "id": "6f9e872b",
   "metadata": {},
   "outputs": [],
   "source": [
    "state_count = final_df[['location_state','location_id','year_month']].groupby(['location_state','year_month']).count().unstack().T.reset_index()\n",
    "state_count.index = pd.to_datetime(state_count['year_month'])\n"
   ]
  },
  {
   "cell_type": "code",
   "execution_count": null,
   "id": "492cb1ee",
   "metadata": {},
   "outputs": [],
   "source": [
    "ax = state_count.plot(kind='bar', stacked=True,figsize = (12,9))\n",
    "ax.legend(loc = 2)"
   ]
  },
  {
   "cell_type": "markdown",
   "id": "fcbf901f",
   "metadata": {},
   "source": [
    "# calculate monthly averages by states"
   ]
  },
  {
   "cell_type": "code",
   "execution_count": null,
   "id": "ebd16b2a",
   "metadata": {},
   "outputs": [],
   "source": [
    "#simple_avg_margin_by_state = final_df[['year_month','margin_perc','location_state']].groupby(['location_state','year_month']).mean().reset_index()"
   ]
  },
  {
   "cell_type": "code",
   "execution_count": null,
   "id": "ced6b497",
   "metadata": {},
   "outputs": [],
   "source": [
    "#simple_avg_margin_by_state.head()"
   ]
  },
  {
   "cell_type": "code",
   "execution_count": null,
   "id": "3752a1a0",
   "metadata": {},
   "outputs": [],
   "source": [
    "#simple_avg_margin_by_state['year_month'] = pd.to_datetime(simple_avg_margin_by_state['year_month'])"
   ]
  },
  {
   "cell_type": "code",
   "execution_count": null,
   "id": "58339998",
   "metadata": {},
   "outputs": [],
   "source": [
    "#line,ax = plt.subplots(figsize=(15,10))\n",
    "#plt.ylim([0.7, 0.9])\n",
    "#ax.set_title(\"monthly simple avg margin by state\", fontsize=15)\n",
    "#ax.set_xlabel (\"year month\")\n",
    "#ax.set_ylabel (\"margin %\")\n",
    "#ax.legend (loc=\"upper right\")\n",
    "\n",
    "\n",
    "#sns.lineplot(data=simple_avg_margin_by_state, x=\"year_month\", y=\"margin_perc\", hue=\"location_state\",marker= 'o', markersize=9)"
   ]
  },
  {
   "cell_type": "code",
   "execution_count": null,
   "id": "33132913",
   "metadata": {},
   "outputs": [],
   "source": [
    "#state_count.to_csv('flowhub_sales_state_count_df_v0.csv')"
   ]
  },
  {
   "cell_type": "code",
   "execution_count": null,
   "id": "46d6c1cf",
   "metadata": {},
   "outputs": [],
   "source": [
    "#simple_avg_margin_by_state.to_csv('flowhub_sales_state_simple_avg_df_v0.csv')"
   ]
  },
  {
   "cell_type": "code",
   "execution_count": null,
   "id": "931660c8",
   "metadata": {},
   "outputs": [],
   "source": [
    "#simple_avg_margin_by_state"
   ]
  },
  {
   "cell_type": "markdown",
   "id": "64e9b3ec",
   "metadata": {},
   "source": [
    "## weighted average"
   ]
  },
  {
   "cell_type": "code",
   "execution_count": null,
   "id": "ab109501",
   "metadata": {},
   "outputs": [],
   "source": [
    "# assign an column that gives each location's gmv weight in its (month,state)\n",
    "#final_df = final_df.groupby(['year_month','location_state']).apply(lambda df: df.assign(weight=df['NetSales'] / df['NetSales'].sum())).reset_index(drop=True)\n"
   ]
  },
  {
   "cell_type": "code",
   "execution_count": null,
   "id": "fd0adbd4",
   "metadata": {},
   "outputs": [],
   "source": [
    "#weighted_avg_margin_by_state = pd.DataFrame(final_df[['year_month','margin_perc','location_state','weight']].groupby(['location_state','year_month']).apply(lambda x: sum(x['weight']*x['margin_perc'])).reset_index())\n",
    "\n"
   ]
  },
  {
   "cell_type": "code",
   "execution_count": null,
   "id": "6dc7a997",
   "metadata": {},
   "outputs": [],
   "source": [
    "#weighted_avg_margin_by_state['year_month'] = pd.to_datetime(weighted_avg_margin_by_state['year_month'])\n",
    "#weighted_avg_margin_by_state.columns = ['location_state','year_month','margin_perc']"
   ]
  },
  {
   "cell_type": "code",
   "execution_count": null,
   "id": "f280f9de",
   "metadata": {},
   "outputs": [],
   "source": [
    "#line,ax = plt.subplots(figsize=(15,10))\n",
    "#plt.ylim([0.7, 0.9])\n",
    "#ax.set_title(\"monthly weighted avg margin by state\", fontsize=15)\n",
    "#ax.set_xlabel (\"year month\")\n",
    "#ax.set_ylabel (\"margin %\")\n",
    "#ax.legend (loc=\"upper right\")\n",
    "#sns.lineplot(data=weighted_avg_margin_by_state, x=\"year_month\", y=\"margin_perc\", hue=\"location_state\",marker= 'o', markersize=9)\n",
    "\n"
   ]
  },
  {
   "cell_type": "code",
   "execution_count": null,
   "id": "9c17a95f",
   "metadata": {},
   "outputs": [],
   "source": [
    "#weighted_avg_margin_by_state.to_csv('flowhub_sales_state_wgt_avg_df_v0.csv')"
   ]
  },
  {
   "cell_type": "code",
   "execution_count": null,
   "id": "875a2485",
   "metadata": {},
   "outputs": [],
   "source": [
    "#co.sort_values(by = 'margin_perc')"
   ]
  },
  {
   "cell_type": "markdown",
   "id": "260f2dec",
   "metadata": {},
   "source": [
    "# Distribution of margin by states"
   ]
  },
  {
   "cell_type": "code",
   "execution_count": null,
   "id": "ba6e9bf2",
   "metadata": {},
   "outputs": [],
   "source": [
    "final_df.head()"
   ]
  },
  {
   "cell_type": "code",
   "execution_count": null,
   "id": "966f2e58",
   "metadata": {},
   "outputs": [],
   "source": [
    "final_df.nunique()"
   ]
  },
  {
   "cell_type": "code",
   "execution_count": null,
   "id": "de1e0044",
   "metadata": {},
   "outputs": [],
   "source": [
    "final_df.describe()"
   ]
  },
  {
   "cell_type": "code",
   "execution_count": null,
   "id": "6d90055f",
   "metadata": {},
   "outputs": [],
   "source": [
    "#final_df.to_csv('flowhub_location_analysis.csv')"
   ]
  },
  {
   "cell_type": "code",
   "execution_count": null,
   "id": "40265706",
   "metadata": {},
   "outputs": [],
   "source": [
    "# distribution of margin\n",
    "margin_distr = final_df.groupby(['location_state','year_month'])['margin_perc'].describe().reset_index()\n",
    "margin_distr['year_month'] = pd.to_datetime(margin_distr['year_month'])"
   ]
  },
  {
   "cell_type": "code",
   "execution_count": null,
   "id": "faa57790",
   "metadata": {},
   "outputs": [],
   "source": [
    "margin_distr"
   ]
  },
  {
   "cell_type": "code",
   "execution_count": null,
   "id": "68dc3218",
   "metadata": {},
   "outputs": [],
   "source": [
    "#margin_distr.to_csv('monthly_margin%_distribution_by_state.csv')"
   ]
  },
  {
   "cell_type": "code",
   "execution_count": null,
   "id": "a72aa388",
   "metadata": {},
   "outputs": [],
   "source": [
    "\n",
    "fig, ax =plt.subplots(1,2)\n",
    "sns.lineplot(data=margin_distr, x=\"year_month\", y=\"min\", hue=\"location_state\",marker= 'o', markersize=9,ax=ax[0])\n",
    "ax[0].legend(loc = 4)\n",
    "ax[0].set_title(\"min\", fontsize=15)\n",
    "ax[0].set_xlabel (\"year month\")\n",
    "ax[0].set_ylabel (\"margin %\")\n",
    "sns.lineplot(data=margin_distr, x=\"year_month\", y=\"max\", hue=\"location_state\",marker= 'o', markersize=9,ax=ax[1])\n",
    "plt.ylim([0.7, 1])\n",
    "ax[1].legend(loc = 4)\n",
    "ax[1].set_title(\"max\", fontsize=15)\n",
    "ax[1].set_xlabel (\"year month\")\n",
    "ax[1].set_ylabel (\"margin %\")\n",
    "sns.set(rc={'figure.figsize':(20,6)})\n"
   ]
  },
  {
   "cell_type": "code",
   "execution_count": null,
   "id": "cdf8fcbc",
   "metadata": {},
   "outputs": [],
   "source": [
    "fig, ax =plt.subplots(1,2)\n",
    "sns.lineplot(data=margin_distr, x=\"year_month\", y=\"mean\", hue=\"location_state\",marker= 'o', markersize=9,ax=ax[0])\n",
    "ax[0].set(ylim=(0.7, 1))\n",
    "ax[0].set_title(\"mean\", fontsize=15)\n",
    "ax[0].set_xlabel (\"year month\")\n",
    "ax[0].set_ylabel (\"margin %\")\n",
    "sns.lineplot(data=margin_distr, x=\"year_month\", y=\"50%\", hue=\"location_state\",marker= 'o', markersize=9,ax=ax[1])\n",
    "ax[1].set(ylim=(0.7, 1))\n",
    "ax[1].set_title(\"median\", fontsize=15)\n",
    "ax[1].set_xlabel (\"year month\")\n",
    "ax[1].set_ylabel (\"margin %\")\n",
    "sns.set(rc={'figure.figsize':(20,6)})\n"
   ]
  },
  {
   "cell_type": "code",
   "execution_count": null,
   "id": "7c0b3978",
   "metadata": {},
   "outputs": [],
   "source": [
    "fig, ax =plt.subplots(1,2)\n",
    "sns.lineplot(data=margin_distr, x=\"year_month\", y=\"25%\", hue=\"location_state\",marker= 'o', markersize=9,ax=ax[0])\n",
    "ax[0].set(ylim=(0.6, 1))\n",
    "ax[0].set_title(\"25th\", fontsize=15)\n",
    "ax[0].set_xlabel (\"year month\")\n",
    "ax[0].set_ylabel (\"margin %\")\n",
    "sns.lineplot(data=margin_distr, x=\"year_month\", y=\"75%\", hue=\"location_state\",marker= 'o', markersize=9,ax=ax[1])\n",
    "ax[1].set(ylim=(0.6, 1))\n",
    "ax[1].set_title(\"75th\", fontsize=15)\n",
    "ax[1].set_xlabel (\"year month\")\n",
    "ax[1].set_ylabel (\"margin %\")\n",
    "sns.set(rc={'figure.figsize':(20,6)})\n"
   ]
  },
  {
   "cell_type": "markdown",
   "id": "a4dd7a4c",
   "metadata": {},
   "source": [
    "# Distribution of revenue by states"
   ]
  },
  {
   "cell_type": "code",
   "execution_count": null,
   "id": "95153504",
   "metadata": {},
   "outputs": [],
   "source": [
    "# distribution of revenue\n",
    "revenue_distr = final_df.groupby(['location_state','year_month'])['NetSales'].describe().reset_index()\n",
    "revenue_distr['year_month'] = pd.to_datetime(revenue_distr['year_month'])\n"
   ]
  },
  {
   "cell_type": "code",
   "execution_count": null,
   "id": "84f93b77",
   "metadata": {},
   "outputs": [],
   "source": [
    "revenue_distr.head()"
   ]
  },
  {
   "cell_type": "code",
   "execution_count": null,
   "id": "5c8bcccf",
   "metadata": {},
   "outputs": [],
   "source": [
    "\n",
    "fig, ax =plt.subplots(1,2)\n",
    "sns.lineplot(data=revenue_distr, x=\"year_month\", y=\"min\", hue=\"location_state\",marker= 'o', markersize=9,ax=ax[0])\n",
    "ax[0].legend(loc = 4)\n",
    "ax[0].set_title(\"min\", fontsize=15)\n",
    "ax[0].set_xlabel (\"year month\")\n",
    "ax[0].set_ylabel (\"margin %\")\n",
    "sns.lineplot(data=revenue_distr, x=\"year_month\", y=\"max\", hue=\"location_state\",marker= 'o', markersize=9,ax=ax[1])\n",
    "ax[1].legend(loc = 4)\n",
    "ax[1].set_title(\"max\", fontsize=15)\n",
    "ax[1].set_xlabel (\"year month\")\n",
    "ax[1].set_ylabel (\"margin %\")\n",
    "sns.set(rc={'figure.figsize':(20,6)})\n"
   ]
  },
  {
   "cell_type": "code",
   "execution_count": null,
   "id": "3c14ba8a",
   "metadata": {},
   "outputs": [],
   "source": [
    "fig, ax =plt.subplots(1,2)\n",
    "sns.lineplot(data=revenue_distr, x=\"year_month\", y=\"mean\", hue=\"location_state\",marker= 'o', markersize=9,ax=ax[0])\n",
    "#ax[0].set(ylim=(0.7, 1))\n",
    "ax[0].set_title(\"mean\", fontsize=15)\n",
    "ax[0].set_xlabel (\"year month\")\n",
    "ax[0].set_ylabel (\"margin %\")\n",
    "sns.lineplot(data=revenue_distr, x=\"year_month\", y=\"50%\", hue=\"location_state\",marker= 'o', markersize=9,ax=ax[1])\n",
    "#ax[1].set(ylim=(0.7, 1))\n",
    "ax[1].set_title(\"median\", fontsize=15)\n",
    "ax[1].set_xlabel (\"year month\")\n",
    "ax[1].set_ylabel (\"margin %\")\n",
    "sns.set(rc={'figure.figsize':(20,6)})\n"
   ]
  },
  {
   "cell_type": "code",
   "execution_count": null,
   "id": "e1fc61e5",
   "metadata": {},
   "outputs": [],
   "source": [
    "fig, ax =plt.subplots(1,2)\n",
    "sns.lineplot(data=revenue_distr, x=\"year_month\", y=\"25%\", hue=\"location_state\",marker= 'o', markersize=9,ax=ax[0])\n",
    "#ax[0].set(ylim=(0.6, 1))\n",
    "ax[0].set_title(\"25%\", fontsize=15)\n",
    "ax[0].set_xlabel (\"year month\")\n",
    "ax[0].set_ylabel (\"margin %\")\n",
    "sns.lineplot(data=revenue_distr, x=\"year_month\", y=\"75%\", hue=\"location_state\",marker= 'o', markersize=9,ax=ax[1])\n",
    "#ax[1].set(ylim=(0.6, 1))\n",
    "ax[1].set_title(\"75%\", fontsize=15)\n",
    "ax[1].set_xlabel (\"year month\")\n",
    "ax[1].set_ylabel (\"margin %\")\n",
    "sns.set(rc={'figure.figsize':(20,6)})\n",
    "\n"
   ]
  },
  {
   "cell_type": "code",
   "execution_count": null,
   "id": "17e20569",
   "metadata": {},
   "outputs": [],
   "source": [
    "#revenue_distr.to_csv('monthly_revenue_distribution_by_state.csv')"
   ]
  },
  {
   "cell_type": "markdown",
   "id": "b53b0933",
   "metadata": {},
   "source": [
    "# by product category"
   ]
  },
  {
   "cell_type": "code",
   "execution_count": null,
   "id": "299930b2",
   "metadata": {},
   "outputs": [],
   "source": [
    "final_df.head()"
   ]
  },
  {
   "cell_type": "code",
   "execution_count": null,
   "id": "58f6fa90",
   "metadata": {},
   "outputs": [],
   "source": [
    "def pre_process_df_by_cat(df,loc_id,loc_state):\n",
    "    df = (\n",
    "        df\n",
    "        .assign(**{\"SalesCreatedAt\": lambda df_: pd.to_datetime(df_['SalesCreatedAt'])})\n",
    "        .assign(**{\"year_month\": lambda df_: df_['SalesCreatedAt'].dt.strftime('%Y-%m')})\n",
    "        .replace('None', np.nan).fillna(0)\n",
    "    )\n",
    "    #exclude cost < $1.0\n",
    "    df_low_cost = df[df['costInDollars'] < 1.0]\n",
    "    df_non_low_cost = df[df['costInDollars'] >= 1.0]\n",
    "    perc_low_cost = df_low_cost.shape[0] / df.shape[0]\n",
    "    #exclude category = Accessory\n",
    "    df_accessory = df_non_low_cost[df_non_low_cost['category'] == 'Accessory']\n",
    "    df_non_accessory = df_non_low_cost[df_non_low_cost['category'] != 'Accessory']\n",
    "    perc_accessory = df_accessory.shape[0] / df.shape[0]\n",
    "    # cogs\n",
    "    cogs = df_non_accessory[['year_month','category','NetSales','costInDollars']].groupby(['year_month','category']).sum()\n",
    "    cogs['profit'] = cogs['NetSales'] - cogs['costInDollars']\n",
    "    cogs['margin_perc'] = cogs['profit'] / cogs['NetSales']\n",
    "    cogs['location_id'] = loc_id\n",
    "    cogs['location_state'] = loc_state\n",
    "    return cogs.reset_index(),perc_low_cost,perc_accessory\n",
    "    "
   ]
  },
  {
   "cell_type": "code",
   "execution_count": null,
   "id": "264a01fe",
   "metadata": {},
   "outputs": [],
   "source": [
    "res_cat = []\n",
    "\n",
    "for company_id, location_id, location_state, df in tqdm(company_location_dataframes):\n",
    "    if len(df) == 0:\n",
    "        continue\n",
    "    res_cat.append(pre_process_df_by_cat(df, location_id, location_state)[0])"
   ]
  },
  {
   "cell_type": "code",
   "execution_count": null,
   "id": "0db34c15",
   "metadata": {},
   "outputs": [],
   "source": [
    "final_df_cat = pd.concat(res_cat).reset_index(drop=True)"
   ]
  },
  {
   "cell_type": "code",
   "execution_count": null,
   "id": "74f1d6f9",
   "metadata": {},
   "outputs": [],
   "source": [
    "cat_margin_distr = final_df_cat.groupby(['category','year_month'])['margin_perc'].describe().reset_index()\n",
    "cat_margin_distr['year_month'] = pd.to_datetime(cat_margin_distr['year_month'])"
   ]
  },
  {
   "cell_type": "code",
   "execution_count": null,
   "id": "a526beba",
   "metadata": {},
   "outputs": [],
   "source": [
    "cat_margin_distr"
   ]
  },
  {
   "cell_type": "code",
   "execution_count": null,
   "id": "4cbc2d8c",
   "metadata": {},
   "outputs": [],
   "source": [
    "sns.set(rc={'figure.figsize':(20,9)})\n",
    "palette = sns.color_palette(\"cubehelix\",15)\n",
    "sns.lineplot(data=cat_margin_distr, x=\"year_month\", y=\"50%\", hue=\"category\",marker= 'o', markersize=9,palette=palette)\n",
    "plt.legend(bbox_to_anchor=(1.05, 1), loc=2, borderaxespad=0.)"
   ]
  },
  {
   "cell_type": "code",
   "execution_count": null,
   "id": "0b5a3e20",
   "metadata": {},
   "outputs": [],
   "source": [
    "cat_by_state = final_df_cat[['location_state','category','margin_perc']].groupby(['location_state','category']).median().reset_index()"
   ]
  },
  {
   "cell_type": "code",
   "execution_count": null,
   "id": "b8cc5add",
   "metadata": {},
   "outputs": [],
   "source": [
    "sns.set(rc={'figure.figsize':(12,10)})\n",
    "palette = sns.color_palette(\"Paired_r\",15)\n",
    "ax = sns.barplot(x=\"margin_perc\", y=\"location_state\", hue=\"category\", data=cat_by_state,palette=palette)\n",
    "ax.legend(bbox_to_anchor=(1.05, 1), loc=2, borderaxespad=0.)\n",
    "ax.set_xlabel (\"median margin %\")\n",
    "ax.set_ylabel (\"location state\")"
   ]
  },
  {
   "cell_type": "code",
   "execution_count": null,
   "id": "04a9619c",
   "metadata": {},
   "outputs": [],
   "source": [
    "cat_by_state[cat_by_state['location_state'] == 'CA'].sort_values(by = 'margin_perc', ascending = False)"
   ]
  }
 ],
 "metadata": {
  "kernelspec": {
   "display_name": "Python 3",
   "language": "python",
   "name": "python3"
  },
  "language_info": {
   "codemirror_mode": {
    "name": "ipython",
    "version": 3
   },
   "file_extension": ".py",
   "mimetype": "text/x-python",
   "name": "python",
   "nbconvert_exporter": "python",
   "pygments_lexer": "ipython3",
   "version": "3.8.10"
  }
 },
 "nbformat": 4,
 "nbformat_minor": 5
}
