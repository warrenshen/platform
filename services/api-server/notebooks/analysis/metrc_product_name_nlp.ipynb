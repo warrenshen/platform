{
 "cells": [
  {
   "cell_type": "code",
   "execution_count": 1,
   "id": "working-orlando",
   "metadata": {},
   "outputs": [
    {
     "name": "stderr",
     "output_type": "stream",
     "text": [
      "/Users/victoria/GitHub/venvs/bespoke/lib/python3.8/site-packages/pandas/compat/__init__.py:124: UserWarning: Could not import the lzma module. Your installed Python is incomplete. Attempting to use lzma compression will result in a RuntimeError.\n",
      "  warnings.warn(msg)\n"
     ]
    }
   ],
   "source": [
    "import json\n",
    "import numpy \n",
    "import os\n",
    "import pandas as pd\n",
    "import matplotlib.pyplot as plt\n",
    "%matplotlib inline  \n",
    "import pyarrow\n",
    "import sys\n",
    "from tqdm import tqdm\n",
    "import seaborn as sns\n",
    "from datetime import date\n",
    "from dotenv import load_dotenv\n",
    "from sqlalchemy import create_engine\n",
    "from os import path\n",
    "from typing import List,Dict, Tuple\n",
    "from collections import defaultdict\n",
    "pd.set_option(\"display.max_columns\", None)\n",
    "\n",
    "load_dotenv(verbose=True)\n",
    "BIGQUERY_CREDENTIALS_PATH = os.environ.get('BIGQUERY_CREDENTIALS_PATH')\n",
    "engine = create_engine('bigquery://bespoke-financial/ProdMetrcData', credentials_path=os.path.expanduser(BIGQUERY_CREDENTIALS_PATH))\n",
    "\n",
    "sys.path.append(path.realpath(path.join(os.getcwd(), \"../core\")))\n",
    "sys.path.append(path.realpath(path.join(os.getcwd(), \"../../src\")))\n",
    "sys.path.append(path.realpath(path.join(os.getcwd(), \"../../scripts\")))\n",
    "\n",
    "import create_queries\n",
    "import prepare_data\n",
    "\n",
    "from bespoke.inventory.analysis.shared import download_util, inventory_types\n",
    "from bespoke.inventory.analysis import active_inventory_util as util\n",
    "from bespoke.inventory.analysis import inventory_valuations_util as valuations_util\n",
    "from underwriting import msrp_band_analyzer\n",
    "\n",
    "%load_ext autoreload\n",
    "%autoreload 2"
   ]
  },
  {
   "cell_type": "code",
   "execution_count": 2,
   "id": "amazing-december",
   "metadata": {},
   "outputs": [],
   "source": [
    "COMPANY_IDENTIFIER_LIST = [\n",
    "    'DL',\n",
    "    'DW',\n",
    "    'EMA',\n",
    "    'EMM',\n",
    "    'EMT',\n",
    "    'EMF',\n",
    "    'ST',\n",
    "    'GRG',\n",
    "    'EL',\n",
    "    'VS',\n",
    "]"
   ]
  },
  {
   "cell_type": "code",
   "execution_count": 3,
   "id": "floppy-globe",
   "metadata": {},
   "outputs": [],
   "source": [
    "mba = msrp_band_analyzer.MSRPBand()"
   ]
  },
  {
   "cell_type": "code",
   "execution_count": 4,
   "id": "peaceful-racing",
   "metadata": {},
   "outputs": [
    {
     "name": "stdout",
     "output_type": "stream",
     "text": [
      "Verifying download summaries for license MR282376...\n",
      "Earliest download summary: 2020-01-01\n",
      "Latest download summary: 2022-04-11\n",
      "Found bad download summary for license MR282376 on date 2022-03-31\n",
      "Found bad download summary for license MR282376 on date 2022-03-24\n",
      "\n",
      "Verifying download summaries for license MR283369...\n",
      "Earliest download summary: 2020-01-01\n",
      "Latest download summary: 2022-04-11\n",
      "Found bad download summary for license MR283369 on date 2022-03-05\n",
      "\n",
      "Verifying download summaries for license 402-00840...\n",
      "Earliest download summary: 2020-01-01\n",
      "Latest download summary: 2022-04-11\n",
      "\n",
      "Verifying download summaries for license 403-01293...\n",
      "Earliest download summary: 2020-01-01\n",
      "Latest download summary: 2022-04-11\n",
      "\n",
      "Verifying download summaries for license 402R-00545...\n",
      "Earliest download summary: 2020-01-01\n",
      "Latest download summary: 2022-04-11\n",
      "\n",
      "Verifying download summaries for license 403R-01201...\n",
      "Earliest download summary: 2020-01-01\n",
      "Latest download summary: 2022-04-11\n",
      "\n",
      "Verifying download summaries for license C9-0000323-LIC...\n",
      "Earliest download summary: 2020-01-01\n",
      "Latest download summary: 2022-04-11\n",
      "Found bad download summary for license C9-0000323-LIC on date 2022-03-11\n",
      "Found bad download summary for license C9-0000323-LIC on date 2022-03-10\n",
      "Found bad download summary for license C9-0000323-LIC on date 2022-03-09\n",
      "\n",
      "Verifying download summaries for license C9-0000370-LIC...\n",
      "Earliest download summary: 2020-01-01\n",
      "Latest download summary: 2022-04-11\n",
      "\n",
      "Verifying download summaries for license C10-0000169-LIC...\n",
      "Earliest download summary: 2020-01-01\n",
      "Latest download summary: 2022-04-11\n",
      "Found bad download summary for license C10-0000169-LIC on date 2022-03-09\n",
      "\n",
      "Verifying download summaries for license C10-0000408-LIC...\n",
      "Earliest download summary: 2020-01-01\n",
      "Latest download summary: 2022-04-11\n",
      "Found bad download summary for license C10-0000408-LIC on date 2022-03-09\n",
      "\n",
      "Verifying download summaries for license C10-0000695-LIC...\n",
      "Earliest download summary: 2021-10-12\n",
      "Latest download summary: 2022-04-11\n",
      "\n",
      "Verifying download summaries for license C10-0000774-LIC...\n",
      "Earliest download summary: 2021-10-12\n",
      "Latest download summary: 2022-04-11\n",
      "\n",
      "Verifying download summaries for license C10-0000786-LIC...\n",
      "Earliest download summary: 2021-10-12\n",
      "Latest download summary: 2022-04-11\n",
      "Found bad download summary for license C10-0000786-LIC on date 2022-03-11\n",
      "Found bad download summary for license C10-0000786-LIC on date 2022-03-10\n",
      "Found bad download summary for license C10-0000786-LIC on date 2022-03-09\n",
      "\n",
      "Verifying download summaries for license C10-0000939-LIC...\n",
      "Earliest download summary: 2021-10-01\n",
      "Latest download summary: 2022-04-11\n",
      "\n",
      "Verifying download summaries for license C12-0000359-LIC...\n",
      "Earliest download summary: 2022-01-03\n",
      "Latest download summary: 2022-04-11\n",
      "Found bad download summary for license C12-0000359-LIC on date 2022-03-11\n",
      "Found bad download summary for license C12-0000359-LIC on date 2022-03-10\n",
      "Found bad download summary for license C12-0000359-LIC on date 2022-03-09\n",
      "\n",
      "[FAILURE] Found a total of 14 bad download summaries\n",
      "[FAILURE] Fxound a total of 75 unknown transfer packages\n",
      "96.0% of incoming transfer packages have receiver wholesale price\n",
      "# transactions missing incoming transfer package: 74923 (3.185271472725186%)\n",
      "# transactions total: 2352170\n",
      "# receipts with mismatching transactions: 1 (8.204327126212907e-05%)\n",
      "# receipts missing transactions: 1515 (0.12429555596212553%)\n",
      "# receipts total: 1218869\n",
      "# mismatch receipt vs transactions (transactions over): 0 (0.0%)\n",
      "# mismatch receipt vs transactions (transactions under): 1 (100.0%)\n",
      "### Adding new columns calculated by average price per unit ### \t\n",
      "### Sorting time series ### \t\n",
      "### Removing NAs from product category row ### \t\n",
      "### Breaking down product names into specific measures with regular expressions ### \t\n"
     ]
    },
    {
     "name": "stderr",
     "output_type": "stream",
     "text": [
      "/Users/victoria/dev/platform/services/api-server/scripts/underwriting/msrp_band_analyzer.py:340: SettingWithCopyWarning: \n",
      "A value is trying to be set on a copy of a slice from a DataFrame\n",
      "\n",
      "See the caveats in the documentation: https://pandas.pydata.org/pandas-docs/stable/user_guide/indexing.html#returning-a-view-versus-a-copy\n",
      "  df['count_measure_from_product_name'][count_measure_non_na_index] = df['count_measure_from_product_name'][count_measure_non_na_index].apply(mba_util.extract_count_units)\n",
      "/Users/victoria/dev/platform/services/api-server/scripts/underwriting/msrp_band_analyzer.py:345: SettingWithCopyWarning: \n",
      "A value is trying to be set on a copy of a slice from a DataFrame\n",
      "\n",
      "See the caveats in the documentation: https://pandas.pydata.org/pandas-docs/stable/user_guide/indexing.html#returning-a-view-versus-a-copy\n",
      "  df['extracted_units'][idx] = df[measure_column][idx].apply(mba_util.EXTRACTED_MEASUREMENT_COLUMNS[measure_column])\n",
      "/Users/victoria/dev/platform/services/api-server/scripts/underwriting/msrp_band_analyzer.py:340: SettingWithCopyWarning: \n",
      "A value is trying to be set on a copy of a slice from a DataFrame\n",
      "\n",
      "See the caveats in the documentation: https://pandas.pydata.org/pandas-docs/stable/user_guide/indexing.html#returning-a-view-versus-a-copy\n",
      "  df['count_measure_from_product_name'][count_measure_non_na_index] = df['count_measure_from_product_name'][count_measure_non_na_index].apply(mba_util.extract_count_units)\n",
      "/Users/victoria/dev/platform/services/api-server/scripts/underwriting/msrp_band_analyzer.py:345: SettingWithCopyWarning: \n",
      "A value is trying to be set on a copy of a slice from a DataFrame\n",
      "\n",
      "See the caveats in the documentation: https://pandas.pydata.org/pandas-docs/stable/user_guide/indexing.html#returning-a-view-versus-a-copy\n",
      "  df['extracted_units'][idx] = df[measure_column][idx].apply(mba_util.EXTRACTED_MEASUREMENT_COLUMNS[measure_column])\n"
     ]
    },
    {
     "name": "stdout",
     "output_type": "stream",
     "text": [
      "### Combining same product categories with different measurements ### \t\n"
     ]
    },
    {
     "name": "stderr",
     "output_type": "stream",
     "text": [
      "/Users/victoria/dev/platform/services/api-server/scripts/underwriting/msrp_band_analyzer.py:319: SettingWithCopyWarning: \n",
      "A value is trying to be set on a copy of a slice from a DataFrame\n",
      "\n",
      "See the caveats in the documentation: https://pandas.pydata.org/pandas-docs/stable/user_guide/indexing.html#returning-a-view-versus-a-copy\n",
      "  df[measure_ratio_column_name][includes_measurement] = self.unit_conversion_ratio(measurement, measurement_unit)\n",
      "/Users/victoria/dev/platform/services/api-server/scripts/underwriting/msrp_band_analyzer.py:319: SettingWithCopyWarning: \n",
      "A value is trying to be set on a copy of a slice from a DataFrame\n",
      "\n",
      "See the caveats in the documentation: https://pandas.pydata.org/pandas-docs/stable/user_guide/indexing.html#returning-a-view-versus-a-copy\n",
      "  df[measure_ratio_column_name][includes_measurement] = self.unit_conversion_ratio(measurement, measurement_unit)\n",
      "/Users/victoria/dev/platform/services/api-server/scripts/underwriting/msrp_band_analyzer.py:323: SettingWithCopyWarning: \n",
      "A value is trying to be set on a copy of a slice from a DataFrame\n",
      "\n",
      "See the caveats in the documentation: https://pandas.pydata.org/pandas-docs/stable/user_guide/indexing.html#returning-a-view-versus-a-copy\n",
      "  df[measure_ratio_column_name][extracted_units_idx] = df['extracted_units'][extracted_units_idx]\n",
      "/Users/victoria/dev/platform/services/api-server/scripts/underwriting/msrp_band_analyzer.py:319: SettingWithCopyWarning: \n",
      "A value is trying to be set on a copy of a slice from a DataFrame\n",
      "\n",
      "See the caveats in the documentation: https://pandas.pydata.org/pandas-docs/stable/user_guide/indexing.html#returning-a-view-versus-a-copy\n",
      "  df[measure_ratio_column_name][includes_measurement] = self.unit_conversion_ratio(measurement, measurement_unit)\n",
      "/Users/victoria/dev/platform/services/api-server/scripts/underwriting/msrp_band_analyzer.py:323: SettingWithCopyWarning: \n",
      "A value is trying to be set on a copy of a slice from a DataFrame\n",
      "\n",
      "See the caveats in the documentation: https://pandas.pydata.org/pandas-docs/stable/user_guide/indexing.html#returning-a-view-versus-a-copy\n",
      "  df[measure_ratio_column_name][extracted_units_idx] = df['extracted_units'][extracted_units_idx]\n"
     ]
    },
    {
     "name": "stdout",
     "output_type": "stream",
     "text": [
      "### Breaking down product names into different brands ### \t\n"
     ]
    },
    {
     "name": "stderr",
     "output_type": "stream",
     "text": [
      "/Users/victoria/dev/platform/services/api-server/scripts/underwriting/msrp_band_analyzer.py:357: UserWarning: This pattern has match groups. To actually get the groups, use str.extract.\n",
      "  (df[product_name].str.contains(\"^(1 ml)\") == False) &\n",
      "/Users/victoria/dev/platform/services/api-server/scripts/underwriting/msrp_band_analyzer.py:357: UserWarning: This pattern has match groups. To actually get the groups, use str.extract.\n",
      "  (df[product_name].str.contains(\"^(1 ml)\") == False) &\n"
     ]
    },
    {
     "name": "stdout",
     "output_type": "stream",
     "text": [
      "### Available combined product category name in costs dataframe ### \t\n",
      "['concentrate' 'infused' 'vape cartridge' 'edible' 'pre-roll infused'\n",
      " 'shake/trim' 'flower' 'other concentrate' 'buds' 'pre-roll flower'\n",
      " 'extract' 'pre-roll leaf' 'tincture' 'topical' 'capsule' 'shake'\n",
      " 'wet whole plants' 'vape product' 'raw pre-rolls' 'seeds'\n",
      " 'infused butter/oil' 'infused pre-rolls' 'kief' 'infused beverage'\n",
      " 'shake/trim allocated for extraction' 'clone - cutting']\n",
      "### Available combined product category name in sales dataframe ### \t\n",
      "['other concentrate' 'edible' 'pre-roll flower' 'flower' 'buds'\n",
      " 'concentrate' 'infused' 'shake/trim' 'extract' 'vape cartridge'\n",
      " 'pre-roll infused' 'pre-roll leaf' 'topical' 'immature plants' 'capsule'\n",
      " 'tincture' 'shake' 'raw pre-rolls' 'vape product'\n",
      " 'shake/trim allocated for extraction' 'infused pre-rolls'\n",
      " 'infused butter/oil' 'seeds' 'infused beverage' 'kief' 'clone - cutting']\n"
     ]
    }
   ],
   "source": [
    "mba.update_company_data(COMPANY_IDENTIFIER_LIST)\n"
   ]
  },
  {
   "cell_type": "code",
   "execution_count": 5,
   "id": "c53070e7",
   "metadata": {},
   "outputs": [],
   "source": [
    "###\n",
    "df_sales = mba.company_sales_df.copy()"
   ]
  },
  {
   "cell_type": "code",
   "execution_count": 6,
   "id": "f0ed2875",
   "metadata": {},
   "outputs": [
    {
     "data": {
      "text/html": [
       "<div>\n",
       "<style scoped>\n",
       "    .dataframe tbody tr th:only-of-type {\n",
       "        vertical-align: middle;\n",
       "    }\n",
       "\n",
       "    .dataframe tbody tr th {\n",
       "        vertical-align: top;\n",
       "    }\n",
       "\n",
       "    .dataframe thead th {\n",
       "        text-align: right;\n",
       "    }\n",
       "</style>\n",
       "<table border=\"1\" class=\"dataframe\">\n",
       "  <thead>\n",
       "    <tr style=\"text-align: right;\">\n",
       "      <th></th>\n",
       "      <th>license_number</th>\n",
       "      <th>receipt_number</th>\n",
       "      <th>rt_type</th>\n",
       "      <th>sales_customer_type</th>\n",
       "      <th>sales_datetime</th>\n",
       "      <th>sales_month</th>\n",
       "      <th>total_packages</th>\n",
       "      <th>rt_total_price</th>\n",
       "      <th>tx_type</th>\n",
       "      <th>tx_package_id</th>\n",
       "      <th>tx_package_label</th>\n",
       "      <th>tx_product_name</th>\n",
       "      <th>tx_product_category_name</th>\n",
       "      <th>tx_unit_of_measure</th>\n",
       "      <th>tx_quantity_sold</th>\n",
       "      <th>tx_total_price</th>\n",
       "      <th>tx_price_per_unit</th>\n",
       "      <th>date_in_month</th>\n",
       "      <th>bad_numbers_from_product_name</th>\n",
       "      <th>extracted_units</th>\n",
       "      <th>letter_gram_measure_from_product_name</th>\n",
       "      <th>count_measure_from_product_name</th>\n",
       "      <th>gram_measure_from_product_name</th>\n",
       "      <th>oz_measure_from_product_name</th>\n",
       "      <th>adjusted_tx_price_per_unit</th>\n",
       "      <th>measurement_ratio_vs_gram</th>\n",
       "      <th>combined_product_category</th>\n",
       "      <th>brand_breakable_by_dash_boolean</th>\n",
       "      <th>brands</th>\n",
       "      <th>brands_by_category</th>\n",
       "    </tr>\n",
       "  </thead>\n",
       "  <tbody>\n",
       "    <tr>\n",
       "      <th>2356560</th>\n",
       "      <td>C10-0000169-LIC</td>\n",
       "      <td>0005181809</td>\n",
       "      <td>inactive</td>\n",
       "      <td>Consumer</td>\n",
       "      <td>2020-01-02 08:16:34+00:00</td>\n",
       "      <td>2020-01</td>\n",
       "      <td>2</td>\n",
       "      <td>33.76</td>\n",
       "      <td>inactive</td>\n",
       "      <td>1782428</td>\n",
       "      <td>1A4060300004D62000000186</td>\n",
       "      <td>VVS - Vape - 0.3g - Rose Gold - Indica - XXX OG</td>\n",
       "      <td>Other Concentrate (weight - each)</td>\n",
       "      <td>Each</td>\n",
       "      <td>1.0</td>\n",
       "      <td>16.88</td>\n",
       "      <td>16.880000</td>\n",
       "      <td>2020-01</td>\n",
       "      <td>NaN</td>\n",
       "      <td>0.3</td>\n",
       "      <td>0.3g</td>\n",
       "      <td>NaN</td>\n",
       "      <td>NaN</td>\n",
       "      <td>NaN</td>\n",
       "      <td>56.266667</td>\n",
       "      <td>0.3</td>\n",
       "      <td>other concentrate</td>\n",
       "      <td>True</td>\n",
       "      <td>VVS</td>\n",
       "      <td>VVS (Other Concentrate (weight - each))</td>\n",
       "    </tr>\n",
       "    <tr>\n",
       "      <th>2336473</th>\n",
       "      <td>C10-0000169-LIC</td>\n",
       "      <td>0007521891</td>\n",
       "      <td>inactive</td>\n",
       "      <td>Consumer</td>\n",
       "      <td>2020-01-22 13:41:39+00:00</td>\n",
       "      <td>2020-01</td>\n",
       "      <td>5</td>\n",
       "      <td>36.58</td>\n",
       "      <td>inactive</td>\n",
       "      <td>1804087</td>\n",
       "      <td>1A4060300004B03000009761</td>\n",
       "      <td>LOL Edibles - Edible - 100mg - Doob Cube - Ras...</td>\n",
       "      <td>Edible (weight - each)</td>\n",
       "      <td>Each</td>\n",
       "      <td>1.0</td>\n",
       "      <td>1.00</td>\n",
       "      <td>1.000000</td>\n",
       "      <td>2020-01</td>\n",
       "      <td>NaN</td>\n",
       "      <td>0.1</td>\n",
       "      <td>100mg</td>\n",
       "      <td>NaN</td>\n",
       "      <td>NaN</td>\n",
       "      <td>NaN</td>\n",
       "      <td>10.000000</td>\n",
       "      <td>0.1</td>\n",
       "      <td>edible</td>\n",
       "      <td>True</td>\n",
       "      <td>LOL Edibles</td>\n",
       "      <td>LOL Edibles (Edible (weight - each))</td>\n",
       "    </tr>\n",
       "    <tr>\n",
       "      <th>2336474</th>\n",
       "      <td>C10-0000169-LIC</td>\n",
       "      <td>0007521891</td>\n",
       "      <td>inactive</td>\n",
       "      <td>Consumer</td>\n",
       "      <td>2020-01-22 13:41:39+00:00</td>\n",
       "      <td>2020-01</td>\n",
       "      <td>5</td>\n",
       "      <td>36.58</td>\n",
       "      <td>inactive</td>\n",
       "      <td>1782339</td>\n",
       "      <td>1A4060300004D62000000057</td>\n",
       "      <td>Puffy Delivery - Pre Roll - 0.8g - Sativa - Fa...</td>\n",
       "      <td>Pre-Roll Flower</td>\n",
       "      <td>Each</td>\n",
       "      <td>1.0</td>\n",
       "      <td>8.68</td>\n",
       "      <td>8.680000</td>\n",
       "      <td>2020-01</td>\n",
       "      <td>NaN</td>\n",
       "      <td>0.8</td>\n",
       "      <td>0.8g</td>\n",
       "      <td>NaN</td>\n",
       "      <td>NaN</td>\n",
       "      <td>NaN</td>\n",
       "      <td>10.850000</td>\n",
       "      <td>0.8</td>\n",
       "      <td>pre-roll flower</td>\n",
       "      <td>True</td>\n",
       "      <td>Puffy Delivery</td>\n",
       "      <td>Puffy Delivery (Pre-Roll Flower)</td>\n",
       "    </tr>\n",
       "    <tr>\n",
       "      <th>2336475</th>\n",
       "      <td>C10-0000169-LIC</td>\n",
       "      <td>0007521891</td>\n",
       "      <td>inactive</td>\n",
       "      <td>Consumer</td>\n",
       "      <td>2020-01-22 13:41:39+00:00</td>\n",
       "      <td>2020-01</td>\n",
       "      <td>5</td>\n",
       "      <td>36.58</td>\n",
       "      <td>inactive</td>\n",
       "      <td>2111948</td>\n",
       "      <td>1A4060300004B03000010682</td>\n",
       "      <td>THC Design - Flower - 3.5g - Sativa - Crescendo</td>\n",
       "      <td>Flower</td>\n",
       "      <td>Grams</td>\n",
       "      <td>3.5</td>\n",
       "      <td>1.00</td>\n",
       "      <td>0.285714</td>\n",
       "      <td>2020-01</td>\n",
       "      <td>NaN</td>\n",
       "      <td>NaN</td>\n",
       "      <td>3.5g</td>\n",
       "      <td>NaN</td>\n",
       "      <td>NaN</td>\n",
       "      <td>NaN</td>\n",
       "      <td>0.285714</td>\n",
       "      <td>1.0</td>\n",
       "      <td>flower</td>\n",
       "      <td>True</td>\n",
       "      <td>THC Design</td>\n",
       "      <td>THC Design (Flower)</td>\n",
       "    </tr>\n",
       "    <tr>\n",
       "      <th>2336476</th>\n",
       "      <td>C10-0000169-LIC</td>\n",
       "      <td>0007521891</td>\n",
       "      <td>inactive</td>\n",
       "      <td>Consumer</td>\n",
       "      <td>2020-01-22 13:41:39+00:00</td>\n",
       "      <td>2020-01</td>\n",
       "      <td>5</td>\n",
       "      <td>36.58</td>\n",
       "      <td>inactive</td>\n",
       "      <td>1803899</td>\n",
       "      <td>1A4060300004B03000009717</td>\n",
       "      <td>LOL Edibles - Edible - 100mg - Doob Cube - Blu...</td>\n",
       "      <td>Edible (weight - each)</td>\n",
       "      <td>Each</td>\n",
       "      <td>1.0</td>\n",
       "      <td>17.22</td>\n",
       "      <td>17.220000</td>\n",
       "      <td>2020-01</td>\n",
       "      <td>NaN</td>\n",
       "      <td>0.1</td>\n",
       "      <td>100mg</td>\n",
       "      <td>NaN</td>\n",
       "      <td>NaN</td>\n",
       "      <td>NaN</td>\n",
       "      <td>172.200000</td>\n",
       "      <td>0.1</td>\n",
       "      <td>edible</td>\n",
       "      <td>True</td>\n",
       "      <td>LOL Edibles</td>\n",
       "      <td>LOL Edibles (Edible (weight - each))</td>\n",
       "    </tr>\n",
       "  </tbody>\n",
       "</table>\n",
       "</div>"
      ],
      "text/plain": [
       "          license_number receipt_number   rt_type sales_customer_type  \\\n",
       "2356560  C10-0000169-LIC     0005181809  inactive            Consumer   \n",
       "2336473  C10-0000169-LIC     0007521891  inactive            Consumer   \n",
       "2336474  C10-0000169-LIC     0007521891  inactive            Consumer   \n",
       "2336475  C10-0000169-LIC     0007521891  inactive            Consumer   \n",
       "2336476  C10-0000169-LIC     0007521891  inactive            Consumer   \n",
       "\n",
       "                   sales_datetime sales_month  total_packages  rt_total_price  \\\n",
       "2356560 2020-01-02 08:16:34+00:00     2020-01               2           33.76   \n",
       "2336473 2020-01-22 13:41:39+00:00     2020-01               5           36.58   \n",
       "2336474 2020-01-22 13:41:39+00:00     2020-01               5           36.58   \n",
       "2336475 2020-01-22 13:41:39+00:00     2020-01               5           36.58   \n",
       "2336476 2020-01-22 13:41:39+00:00     2020-01               5           36.58   \n",
       "\n",
       "          tx_type tx_package_id          tx_package_label  \\\n",
       "2356560  inactive       1782428  1A4060300004D62000000186   \n",
       "2336473  inactive       1804087  1A4060300004B03000009761   \n",
       "2336474  inactive       1782339  1A4060300004D62000000057   \n",
       "2336475  inactive       2111948  1A4060300004B03000010682   \n",
       "2336476  inactive       1803899  1A4060300004B03000009717   \n",
       "\n",
       "                                           tx_product_name  \\\n",
       "2356560    VVS - Vape - 0.3g - Rose Gold - Indica - XXX OG   \n",
       "2336473  LOL Edibles - Edible - 100mg - Doob Cube - Ras...   \n",
       "2336474  Puffy Delivery - Pre Roll - 0.8g - Sativa - Fa...   \n",
       "2336475    THC Design - Flower - 3.5g - Sativa - Crescendo   \n",
       "2336476  LOL Edibles - Edible - 100mg - Doob Cube - Blu...   \n",
       "\n",
       "                  tx_product_category_name tx_unit_of_measure  \\\n",
       "2356560  Other Concentrate (weight - each)               Each   \n",
       "2336473             Edible (weight - each)               Each   \n",
       "2336474                    Pre-Roll Flower               Each   \n",
       "2336475                             Flower              Grams   \n",
       "2336476             Edible (weight - each)               Each   \n",
       "\n",
       "         tx_quantity_sold  tx_total_price  tx_price_per_unit date_in_month  \\\n",
       "2356560               1.0           16.88          16.880000       2020-01   \n",
       "2336473               1.0            1.00           1.000000       2020-01   \n",
       "2336474               1.0            8.68           8.680000       2020-01   \n",
       "2336475               3.5            1.00           0.285714       2020-01   \n",
       "2336476               1.0           17.22          17.220000       2020-01   \n",
       "\n",
       "        bad_numbers_from_product_name  extracted_units  \\\n",
       "2356560                           NaN              0.3   \n",
       "2336473                           NaN              0.1   \n",
       "2336474                           NaN              0.8   \n",
       "2336475                           NaN              NaN   \n",
       "2336476                           NaN              0.1   \n",
       "\n",
       "        letter_gram_measure_from_product_name count_measure_from_product_name  \\\n",
       "2356560                                  0.3g                             NaN   \n",
       "2336473                                 100mg                             NaN   \n",
       "2336474                                  0.8g                             NaN   \n",
       "2336475                                  3.5g                             NaN   \n",
       "2336476                                 100mg                             NaN   \n",
       "\n",
       "        gram_measure_from_product_name oz_measure_from_product_name  \\\n",
       "2356560                            NaN                          NaN   \n",
       "2336473                            NaN                          NaN   \n",
       "2336474                            NaN                          NaN   \n",
       "2336475                            NaN                          NaN   \n",
       "2336476                            NaN                          NaN   \n",
       "\n",
       "         adjusted_tx_price_per_unit  measurement_ratio_vs_gram  \\\n",
       "2356560                   56.266667                        0.3   \n",
       "2336473                   10.000000                        0.1   \n",
       "2336474                   10.850000                        0.8   \n",
       "2336475                    0.285714                        1.0   \n",
       "2336476                  172.200000                        0.1   \n",
       "\n",
       "        combined_product_category  brand_breakable_by_dash_boolean  \\\n",
       "2356560         other concentrate                             True   \n",
       "2336473                    edible                             True   \n",
       "2336474           pre-roll flower                             True   \n",
       "2336475                    flower                             True   \n",
       "2336476                    edible                             True   \n",
       "\n",
       "                 brands                       brands_by_category  \n",
       "2356560             VVS  VVS (Other Concentrate (weight - each))  \n",
       "2336473     LOL Edibles     LOL Edibles (Edible (weight - each))  \n",
       "2336474  Puffy Delivery         Puffy Delivery (Pre-Roll Flower)  \n",
       "2336475      THC Design                      THC Design (Flower)  \n",
       "2336476     LOL Edibles     LOL Edibles (Edible (weight - each))  "
      ]
     },
     "execution_count": 6,
     "metadata": {},
     "output_type": "execute_result"
    }
   ],
   "source": [
    "df_sales.head()"
   ]
  },
  {
   "cell_type": "code",
   "execution_count": null,
   "id": "6323a224",
   "metadata": {},
   "outputs": [],
   "source": [
    "###\n",
    "df_sales.groupby(['tx_product_category_name','tx_unit_of_measure']).count().sort_values(by = 'tx_unit_of_measure',ascending = False)"
   ]
  },
  {
   "cell_type": "code",
   "execution_count": null,
   "id": "f772613e",
   "metadata": {},
   "outputs": [],
   "source": []
  },
  {
   "cell_type": "markdown",
   "id": "3e479c69",
   "metadata": {},
   "source": [
    "# 1. uom - each:\n",
    "- Using same UOM (ex. gram): comes in different quantity\n",
    "- Using different UOM (ex. blend of gram and oz)"
   ]
  },
  {
   "cell_type": "code",
   "execution_count": null,
   "id": "1b9112d3",
   "metadata": {},
   "outputs": [],
   "source": [
    "## examples"
   ]
  },
  {
   "cell_type": "code",
   "execution_count": null,
   "id": "55e8a1ac",
   "metadata": {},
   "outputs": [],
   "source": [
    "df_sales[(df_sales['tx_product_category_name'] == 'Other Concentrate (weight - each)')&(df_sales['tx_product_name'] == 'Wave - Cartridge - 0.5g - Hybrid - Lemon')]\\\n",
    "[['tx_product_category_name','tx_product_name','tx_unit_of_measure','tx_quantity_sold']].head()\n",
    "\n",
    "\n",
    "\n"
   ]
  },
  {
   "cell_type": "code",
   "execution_count": null,
   "id": "f40adf2c",
   "metadata": {},
   "outputs": [],
   "source": [
    "df_sales[(df_sales['tx_product_category_name'] == 'Other Concentrate (weight - each)')&(df_sales['tx_product_name'] == 'Thclear - 1g - Honey Pot - Skywalker OG')]\\\n",
    "[['tx_product_category_name','tx_product_name','tx_unit_of_measure','tx_quantity_sold']].head()\n",
    "\n",
    "\n",
    "\n"
   ]
  },
  {
   "cell_type": "code",
   "execution_count": null,
   "id": "4583466a",
   "metadata": {},
   "outputs": [],
   "source": [
    "## examples"
   ]
  },
  {
   "cell_type": "code",
   "execution_count": null,
   "id": "b8a980c7",
   "metadata": {},
   "outputs": [],
   "source": [
    "\n",
    "df_sales[(df_sales['tx_product_category_name'] == 'Edible (volume - each)')&(df_sales['tx_product_name'] == \"Uncle Arnie's Iced Tea Lemonade Beverage 8oz Glass\")]\\\n",
    "[['tx_product_category_name','tx_product_name','tx_unit_of_measure','tx_quantity_sold']].head()"
   ]
  },
  {
   "cell_type": "code",
   "execution_count": null,
   "id": "c58a41eb",
   "metadata": {},
   "outputs": [],
   "source": [
    "\n",
    "df_sales[(df_sales['tx_product_category_name'] == 'Edible (volume - each)')&(df_sales['tx_product_name'] == \"Hapy - Edible - 100mg - Syrup Shot - Tropical Mix\")]\\\n",
    "[['tx_product_category_name','tx_product_name','tx_unit_of_measure','tx_quantity_sold']].head()"
   ]
  },
  {
   "cell_type": "markdown",
   "id": "b3b5b58b",
   "metadata": {},
   "source": [
    "# 2. how do we do regex"
   ]
  },
  {
   "cell_type": "markdown",
   "id": "ce395226",
   "metadata": {},
   "source": [
    "## 1. remove bad numbers"
   ]
  },
  {
   "cell_type": "code",
   "execution_count": null,
   "id": "aef1d508",
   "metadata": {},
   "outputs": [],
   "source": [
    "df_sales[df_sales['bad_numbers_from_product_name'].notna()][['original_product_name','bad_numbers_from_product_name','tx_product_name']].head()"
   ]
  },
  {
   "cell_type": "code",
   "execution_count": null,
   "id": "554b8592",
   "metadata": {},
   "outputs": [],
   "source": [
    "df_sales[df_sales['bad_numbers_from_product_name'].notna()].shape[0] / df_sales.shape[0]"
   ]
  },
  {
   "cell_type": "markdown",
   "id": "b95e71d3",
   "metadata": {},
   "source": [
    "## 2. grab letter grams / gram / oz"
   ]
  },
  {
   "cell_type": "code",
   "execution_count": null,
   "id": "7ff0e9f1",
   "metadata": {},
   "outputs": [],
   "source": [
    "df_sales[df_sales['letter_gram_measure_from_product_name'].notna()][['tx_product_name','letter_gram_measure_from_product_name',]].head()\n",
    "\n",
    "\n"
   ]
  },
  {
   "cell_type": "code",
   "execution_count": null,
   "id": "a151fb86",
   "metadata": {},
   "outputs": [],
   "source": [
    "df_sales[df_sales['letter_gram_measure_from_product_name'].notna()].shape[0] / df_sales.shape[0]"
   ]
  },
  {
   "cell_type": "code",
   "execution_count": null,
   "id": "c88a2206",
   "metadata": {},
   "outputs": [],
   "source": [
    "\n",
    "df_sales[(df_sales['gram_measure_from_product_name'].notna()) & (df_sales['gram_measure_from_product_name'] == 'gram')][['tx_product_name','gram_measure_from_product_name']]\\\n",
    ".head()\n",
    "\n",
    "\n"
   ]
  },
  {
   "cell_type": "code",
   "execution_count": null,
   "id": "e85f24f7",
   "metadata": {},
   "outputs": [],
   "source": [
    "df_sales[df_sales['gram_measure_from_product_name'].notna()].shape[0] / df_sales.shape[0]"
   ]
  },
  {
   "cell_type": "code",
   "execution_count": null,
   "id": "3cc8b50f",
   "metadata": {},
   "outputs": [],
   "source": [
    "\n",
    "\n",
    "df_sales[(df_sales['oz_measure_from_product_name'].notna())][['tx_product_name','oz_measure_from_product_name']]\\\n",
    ".head()\n",
    "\n",
    "\n"
   ]
  },
  {
   "cell_type": "code",
   "execution_count": null,
   "id": "8e229a00",
   "metadata": {},
   "outputs": [],
   "source": [
    "df_sales[df_sales['oz_measure_from_product_name'].notna()].shape[0] / df_sales.shape[0]"
   ]
  },
  {
   "cell_type": "markdown",
   "id": "0d0518dc",
   "metadata": {},
   "source": [
    "# 3. combine "
   ]
  },
  {
   "cell_type": "code",
   "execution_count": null,
   "id": "c297e63f",
   "metadata": {},
   "outputs": [],
   "source": [
    "df_sales[df_sales['letter_gram_measure_from_product_name'].notna()][['tx_product_name','letter_gram_measure_from_product_name','extracted_units']].head()\n",
    "\n",
    "\n"
   ]
  },
  {
   "cell_type": "code",
   "execution_count": null,
   "id": "cddf8e50",
   "metadata": {},
   "outputs": [],
   "source": [
    "\n",
    "df_sales[(df_sales['gram_measure_from_product_name'].notna()) & (df_sales['gram_measure_from_product_name'] == 'gram')][['tx_product_name','gram_measure_from_product_name','extracted_units']]\\\n",
    ".head()\n",
    "\n",
    "\n"
   ]
  },
  {
   "cell_type": "code",
   "execution_count": null,
   "id": "22de74ec",
   "metadata": {},
   "outputs": [],
   "source": [
    "\n",
    "\n",
    "df_sales[(df_sales['oz_measure_from_product_name'].notna())]\n",
    "\n",
    "\n"
   ]
  },
  {
   "cell_type": "markdown",
   "id": "16541c17",
   "metadata": {},
   "source": [
    "# 4. coverage"
   ]
  },
  {
   "cell_type": "code",
   "execution_count": null,
   "id": "50c7a927",
   "metadata": {},
   "outputs": [],
   "source": [
    "df_sales"
   ]
  },
  {
   "cell_type": "code",
   "execution_count": null,
   "id": "b3208a43",
   "metadata": {},
   "outputs": [],
   "source": [
    "##\n",
    "df_coverage = pd.DataFrame()\n",
    "for p in df_sales[df_sales['tx_unit_of_measure'] != 'Grams']['tx_product_category_name'].unique():\n",
    "    print(p)\n",
    "    df_temp = pd.DataFrame([mba.company_sales_df[(mba.company_sales_df['tx_product_category_name'] == p)&(mba.company_sales_df['extracted_units'].notna())].shape[0]\\\n",
    "    / mba.company_sales_df[(mba.company_sales_df['tx_product_category_name'] == p)].shape[0]])\n",
    "    df_temp['category'] = p\n",
    "    df_coverage = df_coverage.append(df_temp)\n",
    "\n",
    "\n"
   ]
  },
  {
   "cell_type": "markdown",
   "id": "e36c984d",
   "metadata": {},
   "source": [
    "# 5. sanity checks"
   ]
  },
  {
   "cell_type": "code",
   "execution_count": null,
   "id": "fa9b0820",
   "metadata": {},
   "outputs": [],
   "source": [
    "df_sales[df_sales['tx_product_category_name'] == 'Flower (packaged quarter - each)']"
   ]
  },
  {
   "cell_type": "code",
   "execution_count": null,
   "id": "ecd5262a",
   "metadata": {},
   "outputs": [],
   "source": [
    "###\n",
    "#mba.company_costs_df.groupby(['product_category_name','shipped_unit_of_measure']).count()"
   ]
  },
  {
   "cell_type": "code",
   "execution_count": null,
   "id": "5559815c",
   "metadata": {},
   "outputs": [],
   "source": [
    "###\n",
    "#mba.company_sales_df[mba.company_sales_df['tx_product_category_name'] == 'Concentrate']"
   ]
  },
  {
   "cell_type": "code",
   "execution_count": null,
   "id": "24b4dfdf",
   "metadata": {},
   "outputs": [],
   "source": [
    "pd.DataFrame([mba.company_sales_df[(mba.company_sales_df['tx_product_category_name'] == 'Flower (packaged quarter - each)')&(mba.company_sales_df['extracted_units'].notna())].shape[0]\\\n",
    "/ mba.company_sales_df[(mba.company_sales_df['tx_product_category_name'] == 'Flower (packaged quarter - each)')].shape[0]])\n",
    "\n",
    "\n",
    "\n"
   ]
  },
  {
   "cell_type": "code",
   "execution_count": null,
   "id": "182f1367",
   "metadata": {},
   "outputs": [],
   "source": [
    "\n",
    "mba.company_sales_df[mba.company_sales_df['tx_product_category_name'] == 'Flower (packaged quarter - each)'].extracted_units.value_counts(normalize = False)"
   ]
  },
  {
   "cell_type": "code",
   "execution_count": null,
   "id": "0407841e",
   "metadata": {},
   "outputs": [],
   "source": [
    "mba.company_sales_df[(mba.company_sales_df['tx_product_category_name'] == 'Capsule (weight - each)')]\n",
    "\n"
   ]
  },
  {
   "cell_type": "code",
   "execution_count": null,
   "id": "883d3876",
   "metadata": {
    "scrolled": false
   },
   "outputs": [],
   "source": [
    "##\n",
    "df = pd.DataFrame()\n",
    "for p in mba.company_sales_df['tx_product_category_name'].unique():\n",
    "    print(p)\n",
    "    df_temp = mba.company_sales_df[mba.company_sales_df['tx_product_category_name'] == p].extracted_units.value_counts(normalize = True).to_frame().sort_values(by ='extracted_units',ascending = False )\n",
    "    df_temp['category'] = p\n",
    "    df = df.append(df_temp)\n",
    "\n",
    "\n"
   ]
  },
  {
   "cell_type": "code",
   "execution_count": null,
   "id": "7b8b29a5",
   "metadata": {},
   "outputs": [],
   "source": [
    "##\n",
    "df_coverage = pd.DataFrame()\n",
    "for p in mba.company_sales_df['tx_product_category_name'].unique():\n",
    "    print(p)\n",
    "    df_temp = pd.DataFrame([mba.company_sales_df[(mba.company_sales_df['tx_product_category_name'] == p)&(mba.company_sales_df['extracted_units'].notna())].shape[0]\\\n",
    "    / mba.company_sales_df[(mba.company_sales_df['tx_product_category_name'] == p)].shape[0]])\n",
    "    df_temp['category'] = p\n",
    "    df_coverage = df_coverage.append(df_temp)\n",
    "\n",
    "\n"
   ]
  },
  {
   "cell_type": "code",
   "execution_count": null,
   "id": "a3255ce0",
   "metadata": {},
   "outputs": [],
   "source": [
    "df_coverage"
   ]
  },
  {
   "cell_type": "code",
   "execution_count": null,
   "id": "9316a061",
   "metadata": {},
   "outputs": [],
   "source": [
    "#df.to_csv('dominant_unit.csv')"
   ]
  },
  {
   "cell_type": "code",
   "execution_count": null,
   "id": "c3b415d5",
   "metadata": {},
   "outputs": [],
   "source": [
    "mba.company_sales_df[(mba.company_sales_df['tx_product_category_name'] == 'Concentrate (Each)')&(mba.company_sales_df['extracted_units'].isna())]\n",
    "\n"
   ]
  },
  {
   "cell_type": "code",
   "execution_count": null,
   "id": "a53726d0",
   "metadata": {},
   "outputs": [],
   "source": [
    "###\n",
    "mba.company_sales_df[(mba.company_sales_df.tx_product_category_name == 'Flower (packaged quarter - each)')&(mba.company_sales_df['extracted_units'].notna())][['adjusted_tx_price_per_unit','sales_month']].groupby(['sales_month']).median()\n",
    "\n"
   ]
  },
  {
   "cell_type": "code",
   "execution_count": null,
   "id": "likely-congress",
   "metadata": {},
   "outputs": [],
   "source": [
    "mba.company_sales_df.adjusted_tx_price_per_unit.isna().sum()"
   ]
  },
  {
   "cell_type": "code",
   "execution_count": null,
   "id": "signed-evanescence",
   "metadata": {},
   "outputs": [],
   "source": [
    "mba.company_sales_df.adjusted_tx_price_per_unit.shape"
   ]
  },
  {
   "cell_type": "code",
   "execution_count": null,
   "id": "practical-chemistry",
   "metadata": {},
   "outputs": [],
   "source": [
    "temp = mba.company_sales_df.copy()"
   ]
  },
  {
   "cell_type": "code",
   "execution_count": null,
   "id": "million-torture",
   "metadata": {},
   "outputs": [],
   "source": [
    "(temp.letter_gram_measure_from_product_name.isna() == False).sum()"
   ]
  },
  {
   "cell_type": "code",
   "execution_count": null,
   "id": "female-pharmacology",
   "metadata": {},
   "outputs": [],
   "source": [
    "temp.head()"
   ]
  },
  {
   "cell_type": "code",
   "execution_count": null,
   "id": "powerful-welcome",
   "metadata": {},
   "outputs": [],
   "source": [
    "((temp.tx_unit_of_measure == 'Each') & (temp.extracted_units.isna() == True) & (temp.measurement_ratio_vs_gram == 1)).sum()"
   ]
  },
  {
   "cell_type": "code",
   "execution_count": null,
   "id": "virgin-cookie",
   "metadata": {},
   "outputs": [],
   "source": [
    "## Coverage %\n",
    "1 - (299024/1405912)"
   ]
  },
  {
   "cell_type": "code",
   "execution_count": null,
   "id": "alleged-candle",
   "metadata": {
    "scrolled": false
   },
   "outputs": [],
   "source": [
    "mba.run_analysis('tx_product_category_name', 'Pre-Roll Flower', 'S')"
   ]
  },
  {
   "cell_type": "code",
   "execution_count": null,
   "id": "possible-sunset",
   "metadata": {
    "scrolled": false
   },
   "outputs": [],
   "source": [
    "mba.run_analysis('product_category_name', 'Pre-Roll Flower', 'C')"
   ]
  },
  {
   "cell_type": "code",
   "execution_count": null,
   "id": "official-while",
   "metadata": {
    "scrolled": false
   },
   "outputs": [],
   "source": [
    "mba.run_analysis('combined_product_category', 'flower', 'S')"
   ]
  },
  {
   "cell_type": "code",
   "execution_count": null,
   "id": "twenty-quebec",
   "metadata": {
    "scrolled": false
   },
   "outputs": [],
   "source": [
    "mba.run_analysis('combined_product_category', 'flower', 'C')"
   ]
  },
  {
   "cell_type": "code",
   "execution_count": null,
   "id": "3ac41783",
   "metadata": {},
   "outputs": [],
   "source": []
  },
  {
   "cell_type": "code",
   "execution_count": null,
   "id": "be9c4f5d",
   "metadata": {},
   "outputs": [],
   "source": [
    "###\n",
    "#mba.company_sales_df[mba.company_sales_df.tx_product_category_name == 'Flower (packaged quarter - each)'][['adjusted_tx_price_per_unit','sales_month']].groupby(['sales_month']).mean()\n",
    "\n"
   ]
  },
  {
   "cell_type": "code",
   "execution_count": null,
   "id": "ruled-garden",
   "metadata": {},
   "outputs": [],
   "source": [
    "combined_median_price = mba.company_sales_df[mba.company_sales_df.combined_product_category == 'flower'].adjusted_tx_price_per_unit.median()\n",
    "\n",
    "eighth_median_price = mba.company_sales_df[mba.company_sales_df.tx_product_category_name == 'Flower (packaged eighth - each)'].tx_price_per_unit.median()\n",
    "quarter_median_price = mba.company_sales_df[mba.company_sales_df.tx_product_category_name == 'Flower (packaged quarter - each)'].tx_price_per_unit.median()\n",
    "half_once_median_price = mba.company_sales_df[mba.company_sales_df.tx_product_category_name == 'Flower (packaged half ounce - each)'].tx_price_per_unit.median()\n",
    "once_median_price = mba.company_sales_df[mba.company_sales_df.tx_product_category_name == 'Flower (packaged ounce - each)'].tx_price_per_unit.median()"
   ]
  },
  {
   "cell_type": "code",
   "execution_count": null,
   "id": "julian-mills",
   "metadata": {},
   "outputs": [],
   "source": [
    "combined_median_price_flower_non_labeled = mba.company_sales_df[mba.company_sales_df.tx_product_category_name == 'Flower'].adjusted_tx_price_per_unit.median()\n"
   ]
  },
  {
   "cell_type": "code",
   "execution_count": null,
   "id": "pregnant-transaction",
   "metadata": {},
   "outputs": [],
   "source": [
    "combined_median_price"
   ]
  },
  {
   "cell_type": "code",
   "execution_count": null,
   "id": "cathedral-trace",
   "metadata": {},
   "outputs": [],
   "source": [
    "combined_median_price_flower_non_labeled"
   ]
  },
  {
   "cell_type": "code",
   "execution_count": null,
   "id": "cellular-america",
   "metadata": {},
   "outputs": [],
   "source": [
    "eighth_median_price / 3.5"
   ]
  },
  {
   "cell_type": "code",
   "execution_count": null,
   "id": "asian-tiffany",
   "metadata": {},
   "outputs": [],
   "source": [
    "quarter_median_price / 7"
   ]
  },
  {
   "cell_type": "code",
   "execution_count": null,
   "id": "american-phoenix",
   "metadata": {},
   "outputs": [],
   "source": [
    "half_once_median_price / 14"
   ]
  },
  {
   "cell_type": "code",
   "execution_count": null,
   "id": "absent-savings",
   "metadata": {},
   "outputs": [],
   "source": [
    "once_median_price / 28"
   ]
  },
  {
   "cell_type": "code",
   "execution_count": null,
   "id": "standard-antigua",
   "metadata": {},
   "outputs": [],
   "source": [
    "mba.company_sales_df[mba.company_sales_df.tx_product_category_name.str.contains('Flower', case = False)][['tx_price_per_unit', 'adjusted_tx_price_per_unit', 'tx_product_category_name']].groupby('tx_product_category_name').describe()"
   ]
  },
  {
   "cell_type": "markdown",
   "id": "surgical-orange",
   "metadata": {},
   "source": [
    "We see that adjusted_price is overall on a smaller scale than tx_price_per_unit due to units being converted down to grams. "
   ]
  },
  {
   "cell_type": "code",
   "execution_count": null,
   "id": "royal-american",
   "metadata": {
    "scrolled": false
   },
   "outputs": [],
   "source": [
    "mba.output_time_series_metadata()"
   ]
  },
  {
   "cell_type": "code",
   "execution_count": null,
   "id": "intense-racing",
   "metadata": {},
   "outputs": [],
   "source": [
    "mba.save()"
   ]
  },
  {
   "cell_type": "code",
   "execution_count": null,
   "id": "demonstrated-casino",
   "metadata": {},
   "outputs": [],
   "source": [
    "import pickle\n",
    "picklefile = open('msrp_band_analyzer_training_object', 'rb')\n",
    "old_mba = pickle.load(picklefile)"
   ]
  },
  {
   "cell_type": "code",
   "execution_count": null,
   "id": "faced-massage",
   "metadata": {},
   "outputs": [],
   "source": [
    "old_mba['company_sales_df'].head()"
   ]
  },
  {
   "cell_type": "code",
   "execution_count": null,
   "id": "tropical-mason",
   "metadata": {},
   "outputs": [],
   "source": [
    "new_mba = msrp_band_analyzer.MSRPBand(company_costs_df = old_mba['company_costs_df'], company_sales_df = old_mba['company_sales_df'])"
   ]
  },
  {
   "cell_type": "code",
   "execution_count": null,
   "id": "adjacent-health",
   "metadata": {},
   "outputs": [],
   "source": [
    "new_mba.company_sales_df.head()"
   ]
  },
  {
   "cell_type": "code",
   "execution_count": null,
   "id": "92f31253",
   "metadata": {},
   "outputs": [],
   "source": [
    "mba.msrp_summary_table_by_time"
   ]
  },
  {
   "cell_type": "markdown",
   "id": "26bf5ae8",
   "metadata": {},
   "source": [
    "# edible"
   ]
  },
  {
   "cell_type": "code",
   "execution_count": null,
   "id": "ee3e1335",
   "metadata": {},
   "outputs": [],
   "source": [
    "df_sales.head()"
   ]
  },
  {
   "cell_type": "code",
   "execution_count": null,
   "id": "c16d0318",
   "metadata": {},
   "outputs": [],
   "source": [
    "#df_sales[df_sales['count_measure_from_product_name'].notna()]['tx_product_category_name'].unique()"
   ]
  },
  {
   "cell_type": "code",
   "execution_count": null,
   "id": "09649332",
   "metadata": {},
   "outputs": [],
   "source": [
    "# for p in df_sales['tx_product_category_name'].unique():\n",
    "#     print(p)\n",
    "#     if p in ['Shake/Trim (by strain)','Shake/Trim','Infused Butter/Oil (weight - each)','Infused Butter/Oil (volume - each)',\\\n",
    "#             'Shake/Trim allocated for extraction']:\n",
    "#         continue\n",
    "#     else:\n",
    "#         temp = df_sales[df_sales['tx_product_category_name'] == p]\n",
    "#         temp_gb = temp[['letter_gram_measure_from_product_name','tx_price_per_unit']].groupby(['letter_gram_measure_from_product_name']).count().\\\n",
    "#         reset_index()['letter_gram_measure_from_product_name'].str.lower()\n",
    "#         #print(temp_gb)\n",
    "#         temp_gb.to_csv(str(p) + '.csv')"
   ]
  },
  {
   "cell_type": "code",
   "execution_count": null,
   "id": "6905e9cf",
   "metadata": {},
   "outputs": [],
   "source": []
  },
  {
   "cell_type": "code",
   "execution_count": 7,
   "id": "e8814401",
   "metadata": {},
   "outputs": [],
   "source": [
    "data= df_sales[df_sales['tx_product_category_name'] == 'Pre-Roll Infused']\n",
    "\n",
    "\n"
   ]
  },
  {
   "cell_type": "code",
   "execution_count": 8,
   "id": "08d09dc2",
   "metadata": {},
   "outputs": [
    {
     "data": {
      "text/plain": [
       "118485"
      ]
     },
     "execution_count": 8,
     "metadata": {},
     "output_type": "execute_result"
    }
   ],
   "source": [
    "data.shape[0]"
   ]
  },
  {
   "cell_type": "code",
   "execution_count": 9,
   "id": "0d12188f",
   "metadata": {},
   "outputs": [
    {
     "data": {
      "text/html": [
       "<div>\n",
       "<style scoped>\n",
       "    .dataframe tbody tr th:only-of-type {\n",
       "        vertical-align: middle;\n",
       "    }\n",
       "\n",
       "    .dataframe tbody tr th {\n",
       "        vertical-align: top;\n",
       "    }\n",
       "\n",
       "    .dataframe thead th {\n",
       "        text-align: right;\n",
       "    }\n",
       "</style>\n",
       "<table border=\"1\" class=\"dataframe\">\n",
       "  <thead>\n",
       "    <tr style=\"text-align: right;\">\n",
       "      <th></th>\n",
       "      <th>letter_gram_measure_from_product_name</th>\n",
       "      <th>tx_price_per_unit</th>\n",
       "    </tr>\n",
       "  </thead>\n",
       "  <tbody>\n",
       "    <tr>\n",
       "      <th>0</th>\n",
       "      <td>.5 g</td>\n",
       "      <td>47</td>\n",
       "    </tr>\n",
       "    <tr>\n",
       "      <th>1</th>\n",
       "      <td>.5G</td>\n",
       "      <td>19</td>\n",
       "    </tr>\n",
       "    <tr>\n",
       "      <th>2</th>\n",
       "      <td>.5g</td>\n",
       "      <td>6257</td>\n",
       "    </tr>\n",
       "    <tr>\n",
       "      <th>3</th>\n",
       "      <td>.6g</td>\n",
       "      <td>9</td>\n",
       "    </tr>\n",
       "    <tr>\n",
       "      <th>4</th>\n",
       "      <td>.7 g</td>\n",
       "      <td>49</td>\n",
       "    </tr>\n",
       "    <tr>\n",
       "      <th>5</th>\n",
       "      <td>.7g</td>\n",
       "      <td>687</td>\n",
       "    </tr>\n",
       "    <tr>\n",
       "      <th>6</th>\n",
       "      <td>0.35g</td>\n",
       "      <td>183</td>\n",
       "    </tr>\n",
       "    <tr>\n",
       "      <th>7</th>\n",
       "      <td>0.3g</td>\n",
       "      <td>3</td>\n",
       "    </tr>\n",
       "    <tr>\n",
       "      <th>8</th>\n",
       "      <td>0.59g</td>\n",
       "      <td>56</td>\n",
       "    </tr>\n",
       "    <tr>\n",
       "      <th>9</th>\n",
       "      <td>0.5G</td>\n",
       "      <td>86</td>\n",
       "    </tr>\n",
       "    <tr>\n",
       "      <th>10</th>\n",
       "      <td>0.5g</td>\n",
       "      <td>16408</td>\n",
       "    </tr>\n",
       "    <tr>\n",
       "      <th>11</th>\n",
       "      <td>0.6g</td>\n",
       "      <td>4620</td>\n",
       "    </tr>\n",
       "    <tr>\n",
       "      <th>12</th>\n",
       "      <td>0.70g</td>\n",
       "      <td>100</td>\n",
       "    </tr>\n",
       "    <tr>\n",
       "      <th>13</th>\n",
       "      <td>0.75g</td>\n",
       "      <td>5119</td>\n",
       "    </tr>\n",
       "    <tr>\n",
       "      <th>14</th>\n",
       "      <td>0.7g</td>\n",
       "      <td>1526</td>\n",
       "    </tr>\n",
       "    <tr>\n",
       "      <th>15</th>\n",
       "      <td>0.8G</td>\n",
       "      <td>656</td>\n",
       "    </tr>\n",
       "    <tr>\n",
       "      <th>16</th>\n",
       "      <td>0.8g</td>\n",
       "      <td>1970</td>\n",
       "    </tr>\n",
       "    <tr>\n",
       "      <th>17</th>\n",
       "      <td>1 G</td>\n",
       "      <td>306</td>\n",
       "    </tr>\n",
       "    <tr>\n",
       "      <th>18</th>\n",
       "      <td>1 g</td>\n",
       "      <td>1243</td>\n",
       "    </tr>\n",
       "    <tr>\n",
       "      <th>19</th>\n",
       "      <td>1.0g</td>\n",
       "      <td>723</td>\n",
       "    </tr>\n",
       "    <tr>\n",
       "      <th>20</th>\n",
       "      <td>1.25g</td>\n",
       "      <td>755</td>\n",
       "    </tr>\n",
       "    <tr>\n",
       "      <th>21</th>\n",
       "      <td>1.2g</td>\n",
       "      <td>2317</td>\n",
       "    </tr>\n",
       "    <tr>\n",
       "      <th>22</th>\n",
       "      <td>1.3g</td>\n",
       "      <td>7702</td>\n",
       "    </tr>\n",
       "    <tr>\n",
       "      <th>23</th>\n",
       "      <td>1.4G</td>\n",
       "      <td>39</td>\n",
       "    </tr>\n",
       "    <tr>\n",
       "      <th>24</th>\n",
       "      <td>1.4g</td>\n",
       "      <td>88</td>\n",
       "    </tr>\n",
       "    <tr>\n",
       "      <th>25</th>\n",
       "      <td>1.5g</td>\n",
       "      <td>3149</td>\n",
       "    </tr>\n",
       "    <tr>\n",
       "      <th>26</th>\n",
       "      <td>1.6g</td>\n",
       "      <td>1278</td>\n",
       "    </tr>\n",
       "    <tr>\n",
       "      <th>27</th>\n",
       "      <td>1G</td>\n",
       "      <td>2896</td>\n",
       "    </tr>\n",
       "    <tr>\n",
       "      <th>28</th>\n",
       "      <td>1g</td>\n",
       "      <td>20725</td>\n",
       "    </tr>\n",
       "    <tr>\n",
       "      <th>29</th>\n",
       "      <td>2.1g</td>\n",
       "      <td>26</td>\n",
       "    </tr>\n",
       "    <tr>\n",
       "      <th>30</th>\n",
       "      <td>2.2g</td>\n",
       "      <td>48</td>\n",
       "    </tr>\n",
       "    <tr>\n",
       "      <th>31</th>\n",
       "      <td>2.4g</td>\n",
       "      <td>7015</td>\n",
       "    </tr>\n",
       "    <tr>\n",
       "      <th>32</th>\n",
       "      <td>2.5 G</td>\n",
       "      <td>197</td>\n",
       "    </tr>\n",
       "    <tr>\n",
       "      <th>33</th>\n",
       "      <td>2.5g</td>\n",
       "      <td>1413</td>\n",
       "    </tr>\n",
       "    <tr>\n",
       "      <th>34</th>\n",
       "      <td>2.8g</td>\n",
       "      <td>20</td>\n",
       "    </tr>\n",
       "    <tr>\n",
       "      <th>35</th>\n",
       "      <td>2G</td>\n",
       "      <td>155</td>\n",
       "    </tr>\n",
       "    <tr>\n",
       "      <th>36</th>\n",
       "      <td>2g</td>\n",
       "      <td>2514</td>\n",
       "    </tr>\n",
       "    <tr>\n",
       "      <th>37</th>\n",
       "      <td>3.5 G</td>\n",
       "      <td>191</td>\n",
       "    </tr>\n",
       "    <tr>\n",
       "      <th>38</th>\n",
       "      <td>3.5 g</td>\n",
       "      <td>118</td>\n",
       "    </tr>\n",
       "    <tr>\n",
       "      <th>39</th>\n",
       "      <td>3.5g</td>\n",
       "      <td>5119</td>\n",
       "    </tr>\n",
       "    <tr>\n",
       "      <th>40</th>\n",
       "      <td>9g</td>\n",
       "      <td>3</td>\n",
       "    </tr>\n",
       "  </tbody>\n",
       "</table>\n",
       "</div>"
      ],
      "text/plain": [
       "   letter_gram_measure_from_product_name  tx_price_per_unit\n",
       "0                                   .5 g                 47\n",
       "1                                    .5G                 19\n",
       "2                                    .5g               6257\n",
       "3                                    .6g                  9\n",
       "4                                   .7 g                 49\n",
       "5                                    .7g                687\n",
       "6                                  0.35g                183\n",
       "7                                   0.3g                  3\n",
       "8                                  0.59g                 56\n",
       "9                                   0.5G                 86\n",
       "10                                  0.5g              16408\n",
       "11                                  0.6g               4620\n",
       "12                                 0.70g                100\n",
       "13                                 0.75g               5119\n",
       "14                                  0.7g               1526\n",
       "15                                  0.8G                656\n",
       "16                                  0.8g               1970\n",
       "17                                   1 G                306\n",
       "18                                   1 g               1243\n",
       "19                                  1.0g                723\n",
       "20                                 1.25g                755\n",
       "21                                  1.2g               2317\n",
       "22                                  1.3g               7702\n",
       "23                                  1.4G                 39\n",
       "24                                  1.4g                 88\n",
       "25                                  1.5g               3149\n",
       "26                                  1.6g               1278\n",
       "27                                    1G               2896\n",
       "28                                    1g              20725\n",
       "29                                  2.1g                 26\n",
       "30                                  2.2g                 48\n",
       "31                                  2.4g               7015\n",
       "32                                 2.5 G                197\n",
       "33                                  2.5g               1413\n",
       "34                                  2.8g                 20\n",
       "35                                    2G                155\n",
       "36                                    2g               2514\n",
       "37                                 3.5 G                191\n",
       "38                                 3.5 g                118\n",
       "39                                  3.5g               5119\n",
       "40                                    9g                  3"
      ]
     },
     "execution_count": 9,
     "metadata": {},
     "output_type": "execute_result"
    }
   ],
   "source": [
    "#letter gram\n",
    "data\\\n",
    "[['letter_gram_measure_from_product_name','tx_price_per_unit']].groupby(['letter_gram_measure_from_product_name']).count().reset_index()\n",
    "\n"
   ]
  },
  {
   "cell_type": "code",
   "execution_count": 10,
   "id": "d081de71",
   "metadata": {},
   "outputs": [
    {
     "data": {
      "text/html": [
       "<div>\n",
       "<style scoped>\n",
       "    .dataframe tbody tr th:only-of-type {\n",
       "        vertical-align: middle;\n",
       "    }\n",
       "\n",
       "    .dataframe tbody tr th {\n",
       "        vertical-align: top;\n",
       "    }\n",
       "\n",
       "    .dataframe thead th {\n",
       "        text-align: right;\n",
       "    }\n",
       "</style>\n",
       "<table border=\"1\" class=\"dataframe\">\n",
       "  <thead>\n",
       "    <tr style=\"text-align: right;\">\n",
       "      <th></th>\n",
       "      <th>oz_measure_from_product_name</th>\n",
       "      <th>tx_price_per_unit</th>\n",
       "    </tr>\n",
       "  </thead>\n",
       "  <tbody>\n",
       "  </tbody>\n",
       "</table>\n",
       "</div>"
      ],
      "text/plain": [
       "Empty DataFrame\n",
       "Columns: [oz_measure_from_product_name, tx_price_per_unit]\n",
       "Index: []"
      ]
     },
     "execution_count": 10,
     "metadata": {},
     "output_type": "execute_result"
    }
   ],
   "source": [
    "#oz\n",
    "data\\\n",
    "[['oz_measure_from_product_name','tx_price_per_unit']].groupby(['oz_measure_from_product_name']).count().reset_index()\n",
    "\n"
   ]
  },
  {
   "cell_type": "code",
   "execution_count": 11,
   "id": "10b4130d",
   "metadata": {},
   "outputs": [
    {
     "data": {
      "text/html": [
       "<div>\n",
       "<style scoped>\n",
       "    .dataframe tbody tr th:only-of-type {\n",
       "        vertical-align: middle;\n",
       "    }\n",
       "\n",
       "    .dataframe tbody tr th {\n",
       "        vertical-align: top;\n",
       "    }\n",
       "\n",
       "    .dataframe thead th {\n",
       "        text-align: right;\n",
       "    }\n",
       "</style>\n",
       "<table border=\"1\" class=\"dataframe\">\n",
       "  <thead>\n",
       "    <tr style=\"text-align: right;\">\n",
       "      <th></th>\n",
       "      <th>count_measure_from_product_name</th>\n",
       "      <th>tx_price_per_unit</th>\n",
       "    </tr>\n",
       "  </thead>\n",
       "  <tbody>\n",
       "    <tr>\n",
       "      <th>0</th>\n",
       "      <td>1.0</td>\n",
       "      <td>3</td>\n",
       "    </tr>\n",
       "    <tr>\n",
       "      <th>1</th>\n",
       "      <td>2.0</td>\n",
       "      <td>153</td>\n",
       "    </tr>\n",
       "    <tr>\n",
       "      <th>2</th>\n",
       "      <td>3.0</td>\n",
       "      <td>25</td>\n",
       "    </tr>\n",
       "    <tr>\n",
       "      <th>3</th>\n",
       "      <td>4.0</td>\n",
       "      <td>707</td>\n",
       "    </tr>\n",
       "    <tr>\n",
       "      <th>4</th>\n",
       "      <td>5.0</td>\n",
       "      <td>827</td>\n",
       "    </tr>\n",
       "    <tr>\n",
       "      <th>5</th>\n",
       "      <td>6.0</td>\n",
       "      <td>1241</td>\n",
       "    </tr>\n",
       "    <tr>\n",
       "      <th>6</th>\n",
       "      <td>7.0</td>\n",
       "      <td>179</td>\n",
       "    </tr>\n",
       "    <tr>\n",
       "      <th>7</th>\n",
       "      <td>12.0</td>\n",
       "      <td>668</td>\n",
       "    </tr>\n",
       "    <tr>\n",
       "      <th>8</th>\n",
       "      <td>15.0</td>\n",
       "      <td>231</td>\n",
       "    </tr>\n",
       "    <tr>\n",
       "      <th>9</th>\n",
       "      <td>16.0</td>\n",
       "      <td>189</td>\n",
       "    </tr>\n",
       "    <tr>\n",
       "      <th>10</th>\n",
       "      <td>20.0</td>\n",
       "      <td>438</td>\n",
       "    </tr>\n",
       "    <tr>\n",
       "      <th>11</th>\n",
       "      <td>24.0</td>\n",
       "      <td>467</td>\n",
       "    </tr>\n",
       "    <tr>\n",
       "      <th>12</th>\n",
       "      <td>32.0</td>\n",
       "      <td>83</td>\n",
       "    </tr>\n",
       "  </tbody>\n",
       "</table>\n",
       "</div>"
      ],
      "text/plain": [
       "    count_measure_from_product_name  tx_price_per_unit\n",
       "0                               1.0                  3\n",
       "1                               2.0                153\n",
       "2                               3.0                 25\n",
       "3                               4.0                707\n",
       "4                               5.0                827\n",
       "5                               6.0               1241\n",
       "6                               7.0                179\n",
       "7                              12.0                668\n",
       "8                              15.0                231\n",
       "9                              16.0                189\n",
       "10                             20.0                438\n",
       "11                             24.0                467\n",
       "12                             32.0                 83"
      ]
     },
     "execution_count": 11,
     "metadata": {},
     "output_type": "execute_result"
    }
   ],
   "source": [
    "# count/piece\n",
    "data\\\n",
    "[['count_measure_from_product_name','tx_price_per_unit']].groupby(['count_measure_from_product_name']).count().reset_index()\n",
    "\n"
   ]
  },
  {
   "cell_type": "code",
   "execution_count": 12,
   "id": "b3e0a392",
   "metadata": {},
   "outputs": [
    {
     "data": {
      "text/html": [
       "<div>\n",
       "<style scoped>\n",
       "    .dataframe tbody tr th:only-of-type {\n",
       "        vertical-align: middle;\n",
       "    }\n",
       "\n",
       "    .dataframe tbody tr th {\n",
       "        vertical-align: top;\n",
       "    }\n",
       "\n",
       "    .dataframe thead th {\n",
       "        text-align: right;\n",
       "    }\n",
       "</style>\n",
       "<table border=\"1\" class=\"dataframe\">\n",
       "  <thead>\n",
       "    <tr style=\"text-align: right;\">\n",
       "      <th></th>\n",
       "      <th>letter_gram_measure_from_product_name</th>\n",
       "      <th>count_measure_from_product_name</th>\n",
       "      <th>tx_price_per_unit</th>\n",
       "    </tr>\n",
       "  </thead>\n",
       "  <tbody>\n",
       "    <tr>\n",
       "      <th>0</th>\n",
       "      <td>.5g</td>\n",
       "      <td>1.0</td>\n",
       "      <td>3</td>\n",
       "    </tr>\n",
       "    <tr>\n",
       "      <th>1</th>\n",
       "      <td>.5g</td>\n",
       "      <td>3.0</td>\n",
       "      <td>13</td>\n",
       "    </tr>\n",
       "    <tr>\n",
       "      <th>2</th>\n",
       "      <td>.5g</td>\n",
       "      <td>5.0</td>\n",
       "      <td>773</td>\n",
       "    </tr>\n",
       "    <tr>\n",
       "      <th>3</th>\n",
       "      <td>.5g</td>\n",
       "      <td>6.0</td>\n",
       "      <td>288</td>\n",
       "    </tr>\n",
       "    <tr>\n",
       "      <th>4</th>\n",
       "      <td>.5g</td>\n",
       "      <td>12.0</td>\n",
       "      <td>83</td>\n",
       "    </tr>\n",
       "    <tr>\n",
       "      <th>5</th>\n",
       "      <td>.6g</td>\n",
       "      <td>5.0</td>\n",
       "      <td>9</td>\n",
       "    </tr>\n",
       "    <tr>\n",
       "      <th>6</th>\n",
       "      <td>0.5g</td>\n",
       "      <td>2.0</td>\n",
       "      <td>15</td>\n",
       "    </tr>\n",
       "    <tr>\n",
       "      <th>7</th>\n",
       "      <td>0.5g</td>\n",
       "      <td>5.0</td>\n",
       "      <td>14</td>\n",
       "    </tr>\n",
       "    <tr>\n",
       "      <th>8</th>\n",
       "      <td>0.5g</td>\n",
       "      <td>6.0</td>\n",
       "      <td>953</td>\n",
       "    </tr>\n",
       "    <tr>\n",
       "      <th>9</th>\n",
       "      <td>0.5g</td>\n",
       "      <td>15.0</td>\n",
       "      <td>231</td>\n",
       "    </tr>\n",
       "    <tr>\n",
       "      <th>10</th>\n",
       "      <td>0.5g</td>\n",
       "      <td>16.0</td>\n",
       "      <td>189</td>\n",
       "    </tr>\n",
       "    <tr>\n",
       "      <th>11</th>\n",
       "      <td>0.5g</td>\n",
       "      <td>20.0</td>\n",
       "      <td>438</td>\n",
       "    </tr>\n",
       "    <tr>\n",
       "      <th>12</th>\n",
       "      <td>0.5g</td>\n",
       "      <td>32.0</td>\n",
       "      <td>83</td>\n",
       "    </tr>\n",
       "    <tr>\n",
       "      <th>13</th>\n",
       "      <td>1.0g</td>\n",
       "      <td>5.0</td>\n",
       "      <td>18</td>\n",
       "    </tr>\n",
       "    <tr>\n",
       "      <th>14</th>\n",
       "      <td>1.0g</td>\n",
       "      <td>24.0</td>\n",
       "      <td>467</td>\n",
       "    </tr>\n",
       "    <tr>\n",
       "      <th>15</th>\n",
       "      <td>2.4g</td>\n",
       "      <td>3.0</td>\n",
       "      <td>12</td>\n",
       "    </tr>\n",
       "    <tr>\n",
       "      <th>16</th>\n",
       "      <td>2.8g</td>\n",
       "      <td>4.0</td>\n",
       "      <td>20</td>\n",
       "    </tr>\n",
       "    <tr>\n",
       "      <th>17</th>\n",
       "      <td>2g</td>\n",
       "      <td>2.0</td>\n",
       "      <td>124</td>\n",
       "    </tr>\n",
       "  </tbody>\n",
       "</table>\n",
       "</div>"
      ],
      "text/plain": [
       "   letter_gram_measure_from_product_name  count_measure_from_product_name  \\\n",
       "0                                    .5g                              1.0   \n",
       "1                                    .5g                              3.0   \n",
       "2                                    .5g                              5.0   \n",
       "3                                    .5g                              6.0   \n",
       "4                                    .5g                             12.0   \n",
       "5                                    .6g                              5.0   \n",
       "6                                   0.5g                              2.0   \n",
       "7                                   0.5g                              5.0   \n",
       "8                                   0.5g                              6.0   \n",
       "9                                   0.5g                             15.0   \n",
       "10                                  0.5g                             16.0   \n",
       "11                                  0.5g                             20.0   \n",
       "12                                  0.5g                             32.0   \n",
       "13                                  1.0g                              5.0   \n",
       "14                                  1.0g                             24.0   \n",
       "15                                  2.4g                              3.0   \n",
       "16                                  2.8g                              4.0   \n",
       "17                                    2g                              2.0   \n",
       "\n",
       "    tx_price_per_unit  \n",
       "0                   3  \n",
       "1                  13  \n",
       "2                 773  \n",
       "3                 288  \n",
       "4                  83  \n",
       "5                   9  \n",
       "6                  15  \n",
       "7                  14  \n",
       "8                 953  \n",
       "9                 231  \n",
       "10                189  \n",
       "11                438  \n",
       "12                 83  \n",
       "13                 18  \n",
       "14                467  \n",
       "15                 12  \n",
       "16                 20  \n",
       "17                124  "
      ]
     },
     "execution_count": 12,
     "metadata": {},
     "output_type": "execute_result"
    }
   ],
   "source": [
    "data\\\n",
    "[['letter_gram_measure_from_product_name','count_measure_from_product_name','tx_price_per_unit']].groupby(['letter_gram_measure_from_product_name','count_measure_from_product_name']).count().reset_index()\n",
    "\n"
   ]
  },
  {
   "cell_type": "code",
   "execution_count": 13,
   "id": "729dfdb6",
   "metadata": {},
   "outputs": [
    {
     "data": {
      "text/html": [
       "<div>\n",
       "<style scoped>\n",
       "    .dataframe tbody tr th:only-of-type {\n",
       "        vertical-align: middle;\n",
       "    }\n",
       "\n",
       "    .dataframe tbody tr th {\n",
       "        vertical-align: top;\n",
       "    }\n",
       "\n",
       "    .dataframe thead th {\n",
       "        text-align: right;\n",
       "    }\n",
       "</style>\n",
       "<table border=\"1\" class=\"dataframe\">\n",
       "  <thead>\n",
       "    <tr style=\"text-align: right;\">\n",
       "      <th></th>\n",
       "      <th>letter_gram_measure_from_product_name</th>\n",
       "      <th>oz_measure_from_product_name</th>\n",
       "      <th>tx_price_per_unit</th>\n",
       "    </tr>\n",
       "  </thead>\n",
       "  <tbody>\n",
       "  </tbody>\n",
       "</table>\n",
       "</div>"
      ],
      "text/plain": [
       "Empty DataFrame\n",
       "Columns: [letter_gram_measure_from_product_name, oz_measure_from_product_name, tx_price_per_unit]\n",
       "Index: []"
      ]
     },
     "execution_count": 13,
     "metadata": {},
     "output_type": "execute_result"
    }
   ],
   "source": [
    "data\\\n",
    "[['letter_gram_measure_from_product_name','oz_measure_from_product_name','tx_price_per_unit']].groupby(['letter_gram_measure_from_product_name','oz_measure_from_product_name']).count().reset_index()\n",
    "\n"
   ]
  },
  {
   "cell_type": "code",
   "execution_count": 14,
   "id": "99977479",
   "metadata": {},
   "outputs": [
    {
     "data": {
      "text/html": [
       "<div>\n",
       "<style scoped>\n",
       "    .dataframe tbody tr th:only-of-type {\n",
       "        vertical-align: middle;\n",
       "    }\n",
       "\n",
       "    .dataframe tbody tr th {\n",
       "        vertical-align: top;\n",
       "    }\n",
       "\n",
       "    .dataframe thead th {\n",
       "        text-align: right;\n",
       "    }\n",
       "</style>\n",
       "<table border=\"1\" class=\"dataframe\">\n",
       "  <thead>\n",
       "    <tr style=\"text-align: right;\">\n",
       "      <th></th>\n",
       "      <th>count_measure_from_product_name</th>\n",
       "      <th>oz_measure_from_product_name</th>\n",
       "      <th>tx_price_per_unit</th>\n",
       "    </tr>\n",
       "  </thead>\n",
       "  <tbody>\n",
       "  </tbody>\n",
       "</table>\n",
       "</div>"
      ],
      "text/plain": [
       "Empty DataFrame\n",
       "Columns: [count_measure_from_product_name, oz_measure_from_product_name, tx_price_per_unit]\n",
       "Index: []"
      ]
     },
     "execution_count": 14,
     "metadata": {},
     "output_type": "execute_result"
    }
   ],
   "source": [
    "data\\\n",
    "[['count_measure_from_product_name','oz_measure_from_product_name','tx_price_per_unit']].groupby(['count_measure_from_product_name','oz_measure_from_product_name']).count().reset_index()\n",
    "\n"
   ]
  },
  {
   "cell_type": "code",
   "execution_count": 15,
   "id": "903d9fb7",
   "metadata": {},
   "outputs": [
    {
     "data": {
      "text/plain": [
       "array([], dtype=object)"
      ]
     },
     "execution_count": 15,
     "metadata": {},
     "output_type": "execute_result"
    }
   ],
   "source": [
    "data[data['oz_measure_from_product_name'].notna()]['tx_product_name'].unique()\n",
    "\n",
    "\n"
   ]
  },
  {
   "cell_type": "code",
   "execution_count": 16,
   "id": "f6f9846a",
   "metadata": {},
   "outputs": [
    {
     "data": {
      "text/plain": [
       "array([' Space Coyote x Utopia Infused Preroll 1.0g Indica (24ct)',\n",
       "       ' Space Coyote x Utopia Infused Preroll 1.0g Sativa (24ct)',\n",
       "       'Highrize Venom OG HI 4pk', 'Highrize 12pk mimosa',\n",
       "       'High Rize HI 12pk Tins Moon Drop',\n",
       "       'highrize 12pk infused wedding cake',\n",
       "       'Highrize Hash Infused Cherry AK 4pk',\n",
       "       'Highrize Hash Infused 12pk Cookies',\n",
       "       'Highrize Hash Infused 12pk White Widow',\n",
       "       'Highrize Hash Infused 12pk Skunk Dawg',\n",
       "       ' Garden Society Infused Preroll Rosettes Sativa Sample Case (2ct)',\n",
       "       'Highrize Peanut Butter Breath HI 4pk Tube',\n",
       "       'Highrize Peanut Butter Breath HI 12pk Tins',\n",
       "       'CLSICS Gorilla Glue x Oak OG Rosin (2.8g) Infused 4ct Pre-roll',\n",
       "       'CLSICS Peanut Butter Breath x Ice Queen Rosin (2.8g) Infused 4ct Pre-roll',\n",
       "       ' Garden Society Infused Preroll Rosettes .5g Hash Indica 4-Pack 2.0g (12ct)',\n",
       "       ' Space Coyote Infused Preroll 0.5g Sativa Hash 5-Pack (15ct)',\n",
       "       ' Space Coyote Infused Preroll 0.5g Hybrid Diamonds 5-Pack (15ct)',\n",
       "       ' Space Coyote Infused Preroll 0.5g Indica Diamonds 5-Pack (15ct)',\n",
       "       ' Space Coyote Infused Preroll 0.5g Sativa Diamonds 5-Pack (15ct)',\n",
       "       ' Space Coyote x F/ELD Infused Preroll 0.5g Live Resin Sativa 5-Pack (15ct)',\n",
       "       ' Garden Society Infused Preroll Rosettes .5g Hash Sativa 4-Pack 2.0g (12ct)',\n",
       "       ' Space Coyote x F/ELD Infused Preroll 0.5g Live Resin Indica 5-Pack (15ct)',\n",
       "       ' Space Coyote x Moxie Infused Preroll 1.0g Indica Diamonds Joint (24ct)',\n",
       "       ' Space Coyote Infused Preroll 0.5g Indica Hash 5-Pack (15ct)',\n",
       "       'Highrize HI 12pk True Rider',\n",
       "       ' Garden Society Infused Preroll Rosettes .5g CBD Hash Hybrid 4-Pack 2.0g (12ct)',\n",
       "       ' Sitka Infused Preroll 1.0g Indica Sitka x Wildercraft Special Press GMO (24ct)',\n",
       "       ' Space Coyote Infused Preroll 1.0g Diamonds Sativa Joint (24ct)',\n",
       "       ' Space Coyote Infused Preroll 1.0g Diamonds Indica Joint (24ct)',\n",
       "       ' Space Coyote x F/ELD x Glass House Infused Preroll 0.5g Sativa Live Resin 5-Pack (15ct)',\n",
       "       ' Space Coyote Infused Preroll 1.0g Hash Indica Joint (24ct)',\n",
       "       ' Sitka Infused Preroll 1.0g Hybrid Coastal Cream Hashish (24ct)',\n",
       "       ' Space Coyote Infused Preroll 1.0g Hash Sativa Joint (24ct)',\n",
       "       ' Space Coyote x F/ELD x Glass House Infused Preroll 0.5g Indica Live Resin 5-Pack (15ct)',\n",
       "       ' Space Coyote Infused Preroll 0.5g Hybrid Hash 5-Pack (15ct)',\n",
       "       ' Sitka Infused Preroll 1.0g Sativa Lebanese Gold Hashish (24ct)',\n",
       "       ' Space Coyote x F/ELD x Glass House Infused Preroll 0.5g Hybrid Live Resin 5-Pack (15ct)',\n",
       "       'Jetpacks Hi Octane-.5g Infused PreRoll-Black Mamba (5pk)',\n",
       "       'Jetpacks Hi Octane-.5g Infused PreRoll-Grape God (5pk)',\n",
       "       'Jetpacks Hi Octane-.5g Infused PreRoll-Sky Master (5pk)',\n",
       "       'Highrize - Rainbow Chip Hash Infused 4pk Tubes',\n",
       "       ' Sitka Infused Preroll 1.0g Indica Lebanese Red Hashish (24ct)',\n",
       "       'Jetpacks Hi Octane-.5g Infused PreRoll-Kaboom (5pk)',\n",
       "       'Highrize - Rainbow Chip Hash Infused 12pk Tins',\n",
       "       'Highrize - True Rider Hash Infused 12pk Tins',\n",
       "       'Highrize - Rainbow Chip Hash Infused 29% THC 12pk Tins',\n",
       "       'Littles Flaves-0.5g Infused Preroll-White Walker OG (6pk)',\n",
       "       'Jetpacks Hi Octane-.5g Infused PreRoll-Purple Martian (5pk)',\n",
       "       'Jetpacks Hi Octane-.5g Infused PreRoll-Platinum Kush (5pk)',\n",
       "       'Littles Flaves-0.5g Infused Preroll-Bubble Gum (6pk)',\n",
       "       'Littles Flaves-0.5g Infused Preroll-Electric Lemonade (6pk)',\n",
       "       'Jetpacks Hi Octane-.5g Infused PreRoll-Great White Shark (5pk)',\n",
       "       'Jetpacks Hi Octane-.5g Infused PreRoll-Superman OG (5pk)',\n",
       "       'Littles Flaves-0.5g Infused Preroll-Alien Sour Apple (6pk)',\n",
       "       'Littles Flaves-0.5g Infused Preroll-Super Kush (6pk)',\n",
       "       'Littles Flaves-0.5g Infused Preroll-Guava (6pk)',\n",
       "       'Littles Flaves-0.5g Infused Preroll-Fruit Punch (6pk)',\n",
       "       'Littles Flaves-0.5g Infused Preroll-MK Ultra (6pk)',\n",
       "       'Jetpacks Hi Octane-.5g Infused PreRoll-Super Green Crack (5pk)',\n",
       "       ' Glass House Farms x F/ELD Infused Preroll 0.5g Hybrid Sugarwalker 5-Pack 2.5g (20ct)',\n",
       "       'Littles Flaves-0.5g Infused Preroll-Pink Berry (6pk)',\n",
       "       ' Glass House Farms X F/ELD Infused Preroll 0.5g Sativa Hybrid Sour Cherry Fizz 5-Pack 2.5g (20ct)',\n",
       "       ' Glass House Farms x F/ELD Infused Preroll 0.5g Indica The Tropics 5-Pack 2.5g (20ct)',\n",
       "       ' Glass House Farms X F/ELD Infused Preroll 0.5g Sativa Hybrid RuntSSH 5-Pack 2.5g (20ct)',\n",
       "       ' Glass House Farms X F/ELD Infused Preroll 0.5g Indica Umami Ice Cream 5-Pack 2.5g (20ct)',\n",
       "       'SF Roots | Mochi Cake | Infused Pre-roll | 2pk | 2g | Case 100',\n",
       "       'Littles Flaves-0.5g Infused Preroll-Strawberry Cough (6pk)',\n",
       "       'Littles Flaves-0.5g Infused Preroll-White Lotus (6pk)',\n",
       "       'Jetpacks Hi Octane-.5g Infused PreRoll-G13 (5pk)',\n",
       "       ' Pacific Stone Diamond Infused Prerolls 0.5g Hybrid 805 Glue 7-Pack 3.5g (16ct)',\n",
       "       'GW: Lime - 0.5g - 5pk Pre Roll - Caramel Latte OG',\n",
       "       ' Pacific Stone Diamond Infused Prerolls 0.5g Indica Wedding Cake 7-Pack 3.5g (16ct)',\n",
       "       ' Glass House Farms x F/ELD Infused Preroll 0.5g Indica Hybrid Monkey Mac 5-Pack 2.5g (20ct)',\n",
       "       'Littles Flaves-0.5g Infused Preroll-Kryptonite (6pk)',\n",
       "       'Littles Flaves .5g Infused PreRoll 6pk/12cpk-Bubble Gum',\n",
       "       'Littles Flaves .5g Infused PreRoll 6pk/12cpk-LA Confidential',\n",
       "       'Littles Flaves-0.5g Infused Preroll-Blueberry Blast (6pk)',\n",
       "       'Littles Flaves .5g Infused PreRoll 6pk/12cpk-Strawberry Cough',\n",
       "       'Littles Flaves-0.5g Infused Preroll-Grape Ape (6pk)',\n",
       "       'Jetpacks Hi Octane-.5g Infused PreRoll-Kona Gold (5pk)',\n",
       "       'Jetpacks Hi Octane-.5g Infused PreRoll-Alien Cookies (5pk)',\n",
       "       ' Glass House Farms x F/ELD Infused Preroll 0.5g Sativa Super Sticky Punch 5-Pack 2.5g (20ct)',\n",
       "       'Littles Flaves .5g Infused PreRoll 6pk/12cpk-Lime Gelato',\n",
       "       'GP Big Steve 7pk',\n",
       "       'Jetpacks Hi Octane-.5g Infused PreRoll-Blissful Wizard (5pk)',\n",
       "       'Primo Blunts 2pk Prerolls Hybrid',\n",
       "       ' Glass House Farms x F/ELD Infused Preroll 0.5g Sativa Foggy Cherry 5-Pack 2.5g (20ct)',\n",
       "       ' Glass House Farms x F/ELD Infused Preroll 0.5g Indica Hybrid Funky Mac 5-Pack 2.5g (20ct)',\n",
       "       'Highrize - Garlic Cookies Hash Infused 12pk Tins',\n",
       "       'Highrize - Lemon OG Hash Infused 4pk Tubes',\n",
       "       'Highrize - Chiesel w/ Pink Lemonade Hash Infused 12pk Tins',\n",
       "       ' Garden Society Infused Preroll Rosettes 0.5g Hash-Infused Sativa Brighter Day (32ct)',\n",
       "       ' Glass House Farms x F/ELD Infused Preroll 0.5g Sativa Hybrid Hazy Sky 5-Pack 2.5g (20ct)',\n",
       "       ' Glass House Farms x F/ELD Infused Preroll 0.5g Sativa Lilac Fire 5-Pack 2.5g (20ct)',\n",
       "       'SZ - Hash Infused Preroll .5g - 3pk - Fruit Burst OG',\n",
       "       'GPF Sativa Bones 7pk',\n",
       "       'Littles Flaves .5g Infused PreRoll 6pk/12cpk-Kryptonite',\n",
       "       'Littles Flaves .5g Infused PreRoll 6pk/12cpk-Alien Sour Apple',\n",
       "       'Jetpacks Hi Octane .5g Infused PreRoll 5pk/12cpk-Alien OG/Trainwreck/Hawaiian Snowcap',\n",
       "       'Littles Flaves .5g Infused PreRoll 6pk/12cpk-White Lotus',\n",
       "       'Littles Flaves .5g Infused PreRoll 6pk/12cpk-Pucker Pop',\n",
       "       \"Jetpacks Hi Octane .5g Infused PreRoll 5pk/12cpk-Cookies & Cream/Diablo OG/God's Breath\",\n",
       "       'Jetpacks Hi Octane .5g Infused PreRoll 5pk/12cpk-Hellfire OG/Gas Mask/Kush Mints',\n",
       "       'Littles Flaves .5g Infused PreRoll 6pk/12cpk-Blueberry Blast',\n",
       "       'Jetpacks Hi Octane .5g Infused PreRoll 5pk/12cpk-Sugar Fish/Sour Diesel/Star Pebbles',\n",
       "       'Jetpacks Hi Octane .5g Infused PreRoll 5pk/12cpk-Rainbow Belts/Gucci OG/Lemon Star OG',\n",
       "       'GPF Grateful Dave 7pk',\n",
       "       'Littles Flaves .5g Infused PreRoll 6pk/12cpk-Birthday Cake',\n",
       "       'Jetpacks Hi Octane .5g Infused PreRoll 5pk/12cpk-Punch Breath/Black Mamba/Tahoe OG',\n",
       "       'Littles Flaves .5g Infused PreRoll 6pk/12cpk-Melon Crush',\n",
       "       ' Garden Society Infused Preroll Rosettes 0.5g Hash-Infused Indica Blissful Rest (32ct)',\n",
       "       \"Jetpacks Hi Octane .5g Infused PreRoll 5pk/12cpk-Mango Haze/Blue Mamba/God's Gift\",\n",
       "       'Jetpacks Hi Octane .5g Infused PreRoll 5pk/12cpk-Red Congolese/Blue Mamba/Green Crack',\n",
       "       'Littles Flaves .5g Infused PreRoll 6pk/12cpk-Fruit Punch',\n",
       "       'Littles Flaves .5g Infused PreRoll 6pk/12cpk-Guava',\n",
       "       'Mini Fuzzies Hash Sativa Maui Wowie 3pk- 2.4g',\n",
       "       ' Pacific Stone Diamond Infused Prerolls 0.5g Sativa Blue Dream 7-Pack 3.5g (16ct)',\n",
       "       'Chemistry Live Resin Preroll 4pk Gush Mints',\n",
       "       'TS - Watermelon - 5pk - 1.0g, Cannex Holdings (California) Inc.',\n",
       "       'Apple Sherbet x Ice Cream Cake Wax Infused Preroll (5pk.)',\n",
       "       ' Friendly Farms Sugar Infused Preroll 0.5g Indica Platinum Blue GDP 2pk 1.0g (25ct)',\n",
       "       ' Garden Society Indica Blissful Rest Hash-Infused Preroll .5g SBP x Leb Red 1pk (32ct)',\n",
       "       'TS - Lemonade - 5pk - 1.0g, Cannex Holdings (California) Inc.',\n",
       "       'TS - Blueberry - 5pk - 1.0g',\n",
       "       'TS - Green Apple - 5pk - 1.0g, Cannex Holdings (California) Inc.',\n",
       "       'TS - Strawberry - 5pk - 1.0g, Cannex Holdings (California) Inc.',\n",
       "       'Jetpacks FJ-3 .6g Infused Preroll 5pk/12cpk-Berry Blast',\n",
       "       'Jetpacks FJ-3 .6g Infused Preroll 5pk/12cpk-Purple Punch',\n",
       "       'Jetpacks FJ-3 .6g Infused Preroll 5pk/12cpk-Watermelon Cooler',\n",
       "       ' Friendly Farms Cake Infused Preroll 0.5g Indica Confetti 2pk 1.0g (25ct)',\n",
       "       'Jetpacks FJ-3 .6g Infused Preroll 5pk/12cpk-Guava Gelato',\n",
       "       ' Glass House Farms x F/ELD Infused Preroll 0.5g Indica Hybrid Macaroonz 5-Pack 2.5g (20ct)',\n",
       "       'TS - Tigers Blood - 5pk - 1.0g, Cannex Holdings (California) Inc.',\n",
       "       ' Glass House Farms x F/ELD Infused Preroll 0.5g Sativa Hybrid White Garlic 5-Pack 2.5g (20ct)'],\n",
       "      dtype=object)"
      ]
     },
     "execution_count": 16,
     "metadata": {},
     "output_type": "execute_result"
    }
   ],
   "source": [
    "data[data['count_measure_from_product_name'].notna()]['tx_product_name'].unique()\n",
    "\n",
    "\n"
   ]
  },
  {
   "cell_type": "code",
   "execution_count": null,
   "id": "1ec20a5e",
   "metadata": {},
   "outputs": [],
   "source": [
    "data[data['letter_gram_measure_from_product_name'] == '3.5g']['tx_price_per_unit'].describe()\n",
    "\n"
   ]
  },
  {
   "cell_type": "code",
   "execution_count": 17,
   "id": "3afc1d2c",
   "metadata": {},
   "outputs": [
    {
     "data": {
      "text/plain": [
       "count    113274.000000\n",
       "mean         19.382685\n",
       "std          11.284043\n",
       "min           0.011667\n",
       "25%          10.920000\n",
       "50%          17.060000\n",
       "75%          26.020000\n",
       "max         202.000000\n",
       "Name: tx_price_per_unit, dtype: float64"
      ]
     },
     "execution_count": 17,
     "metadata": {},
     "output_type": "execute_result"
    }
   ],
   "source": [
    "data[data['count_measure_from_product_name'].isna()]['tx_price_per_unit'].describe()\n",
    "\n"
   ]
  },
  {
   "cell_type": "code",
   "execution_count": null,
   "id": "843c6cac",
   "metadata": {},
   "outputs": [],
   "source": [
    "data[data['count_measure_from_product_name'] == 20]"
   ]
  },
  {
   "cell_type": "code",
   "execution_count": null,
   "id": "3b02689e",
   "metadata": {},
   "outputs": [],
   "source": [
    "data[data['tx_product_name'] == ' Raw Garden Cartridge 1.0g Indica Fire Walker (10ct)']\n",
    "\n"
   ]
  },
  {
   "cell_type": "code",
   "execution_count": null,
   "id": "380e3973",
   "metadata": {},
   "outputs": [],
   "source": []
  },
  {
   "cell_type": "code",
   "execution_count": null,
   "id": "66763ed6",
   "metadata": {},
   "outputs": [],
   "source": [
    "df_sales[df_sales['tx_product_category_name'] == 'Infused (edible)']\\\n",
    "[['count_measure_from_product_name','letter_gram_measure_from_product_name','tx_price_per_unit']].groupby(['count_measure_from_product_name','letter_gram_measure_from_product_name']).count().reset_index()\n",
    "\n",
    "\n"
   ]
  },
  {
   "cell_type": "code",
   "execution_count": null,
   "id": "52e42256",
   "metadata": {},
   "outputs": [],
   "source": [
    "edible = df_sales[df_sales['tx_product_category_name'] == 'Shake (Packaged Eighth - each)']\n",
    "\n",
    "\n",
    "\n",
    "\n"
   ]
  },
  {
   "cell_type": "code",
   "execution_count": null,
   "id": "f3b69cca",
   "metadata": {},
   "outputs": [],
   "source": [
    "edible[edible['letter_gram_measure_from_product_name'].notna()]['tx_product_name'].unique()"
   ]
  },
  {
   "cell_type": "code",
   "execution_count": null,
   "id": "8262e274",
   "metadata": {},
   "outputs": [],
   "source": [
    "pd.DataFrame(edible[edible['letter_gram_measure_from_product_name'].notna()]['tx_product_name'].unique())\n",
    "\n",
    "\n",
    "\n",
    "\n",
    "\n"
   ]
  },
  {
   "cell_type": "code",
   "execution_count": null,
   "id": "493d0dd5",
   "metadata": {},
   "outputs": [],
   "source": [
    "edible[['oz_measure_from_product_name','tx_price_per_unit']].groupby(['oz_measure_from_product_name']).count()\n",
    "\n",
    "\n"
   ]
  },
  {
   "cell_type": "markdown",
   "id": "biblical-vampire",
   "metadata": {},
   "source": [
    "# Testing"
   ]
  },
  {
   "cell_type": "code",
   "execution_count": null,
   "id": "dutch-missile",
   "metadata": {},
   "outputs": [],
   "source": [
    "from underwriting import msrp_band_analyzer_testing\n"
   ]
  },
  {
   "cell_type": "code",
   "execution_count": null,
   "id": "romantic-alarm",
   "metadata": {},
   "outputs": [],
   "source": [
    "result = msrp_band_analyzer_testing.run_test_set_analysis('product_category_name', 'Flower', 'C')"
   ]
  },
  {
   "cell_type": "code",
   "execution_count": null,
   "id": "certified-genealogy",
   "metadata": {},
   "outputs": [],
   "source": [
    "result[0]"
   ]
  },
  {
   "cell_type": "code",
   "execution_count": null,
   "id": "certified-property",
   "metadata": {},
   "outputs": [],
   "source": [
    "result[1]"
   ]
  },
  {
   "cell_type": "code",
   "execution_count": null,
   "id": "alert-acrobat",
   "metadata": {},
   "outputs": [],
   "source": [
    "result = run_test_set_analysis('tx_product_category_name', 'Pre-Roll Flower', 'S')"
   ]
  }
 ],
 "metadata": {
  "kernelspec": {
   "display_name": "Python 3",
   "language": "python",
   "name": "python3"
  },
  "language_info": {
   "codemirror_mode": {
    "name": "ipython",
    "version": 3
   },
   "file_extension": ".py",
   "mimetype": "text/x-python",
   "name": "python",
   "nbconvert_exporter": "python",
   "pygments_lexer": "ipython3",
   "version": "3.8.10"
  }
 },
 "nbformat": 4,
 "nbformat_minor": 5
}
