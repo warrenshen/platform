{
 "cells": [
  {
   "cell_type": "code",
   "execution_count": 1,
   "id": "37bdd7c3",
   "metadata": {},
   "outputs": [],
   "source": [
    "import warnings\n",
    "warnings.filterwarnings('ignore')"
   ]
  },
  {
   "cell_type": "code",
   "execution_count": 2,
   "id": "11564057",
   "metadata": {},
   "outputs": [],
   "source": [
    "import json\n",
    "import numpy \n",
    "import os\n",
    "import pandas as pd\n",
    "import matplotlib.pyplot as plt\n",
    "%matplotlib inline  \n",
    "import pyarrow\n",
    "import sys\n",
    "from tqdm import tqdm\n",
    "\n",
    "from datetime import date\n",
    "from dotenv import load_dotenv\n",
    "from sqlalchemy import create_engine\n",
    "from os import path\n",
    "from typing import List,Dict, Tuple\n",
    "from collections import defaultdict\n",
    "pd.set_option(\"display.max_columns\", None)\n",
    "\n",
    "load_dotenv(verbose=True)\n",
    "BIGQUERY_CREDENTIALS_PATH = os.environ.get('BIGQUERY_CREDENTIALS_PATH')\n",
    "engine = create_engine('bigquery://bespoke-financial/ProdMetrcData', credentials_path=os.path.expanduser(BIGQUERY_CREDENTIALS_PATH))\n",
    "\n",
    "sys.path.append(path.realpath(path.join(os.getcwd(), \"../core\")))\n",
    "sys.path.append(path.realpath(path.join(os.getcwd(), \"../../src\")))\n",
    "sys.path.append(path.realpath(path.join(os.getcwd(), \"../../scripts\")))\n",
    "\n",
    "import create_queries\n",
    "import prepare_data\n",
    "\n",
    "from bespoke.inventory.analysis.shared import download_util, inventory_types\n",
    "from bespoke.inventory.analysis import active_inventory_util as util\n",
    "from bespoke.inventory.analysis import inventory_valuations_util as valuations_util\n",
    "\n",
    "%load_ext autoreload\n",
    "%autoreload 2"
   ]
  },
  {
   "cell_type": "code",
   "execution_count": 3,
   "id": "a24dde87",
   "metadata": {},
   "outputs": [
    {
     "data": {
      "text/plain": [
       "datetime.date(2022, 6, 27)"
      ]
     },
     "execution_count": 3,
     "metadata": {},
     "output_type": "execute_result"
    }
   ],
   "source": [
    "today = date.today()\n",
    "today"
   ]
  },
  {
   "cell_type": "code",
   "execution_count": 4,
   "id": "e4775b82",
   "metadata": {},
   "outputs": [],
   "source": [
    "from underwriting import data_quality_checks,client_surveillance_jupyter"
   ]
  },
  {
   "cell_type": "code",
   "execution_count": 5,
   "id": "f5c6a7fd",
   "metadata": {},
   "outputs": [],
   "source": [
    "TRANSFER_PACKAGES_START_DATE = '2020-01-01'\n",
    "SALES_TRANSACTIONS_START_DATE = '2020-01-01'"
   ]
  },
  {
   "cell_type": "code",
   "execution_count": 6,
   "id": "833eb4ca",
   "metadata": {},
   "outputs": [],
   "source": [
    "ca_df = pd.read_csv('df_0623.csv',index_col = 0)\n",
    "ca_df.columns = ['company_name','company_identifier','state','licenses']\n",
    "ca_df['company_identifier'] = ca_df['company_identifier'].astype(str)"
   ]
  },
  {
   "cell_type": "code",
   "execution_count": 7,
   "id": "d30959d7",
   "metadata": {},
   "outputs": [
    {
     "data": {
      "text/plain": [
       "(71, 4)"
      ]
     },
     "execution_count": 7,
     "metadata": {},
     "output_type": "execute_result"
    }
   ],
   "source": [
    "ca_df_clean = ca_df[~ca_df['company_identifier'].isin(['PL','WHT','GF','UR'])]\n",
    "ca_df_clean.shape"
   ]
  },
  {
   "cell_type": "code",
   "execution_count": 8,
   "id": "b1361ccf",
   "metadata": {},
   "outputs": [],
   "source": [
    "ca_df_clean['lic_list'] = [list(ca_df_clean['licenses'])[i].split(\";\") for i in range(len(ca_df_clean))]"
   ]
  },
  {
   "cell_type": "code",
   "execution_count": 9,
   "id": "f09b1484",
   "metadata": {},
   "outputs": [
    {
     "data": {
      "text/html": [
       "<div>\n",
       "<style scoped>\n",
       "    .dataframe tbody tr th:only-of-type {\n",
       "        vertical-align: middle;\n",
       "    }\n",
       "\n",
       "    .dataframe tbody tr th {\n",
       "        vertical-align: top;\n",
       "    }\n",
       "\n",
       "    .dataframe thead th {\n",
       "        text-align: right;\n",
       "    }\n",
       "</style>\n",
       "<table border=\"1\" class=\"dataframe\">\n",
       "  <thead>\n",
       "    <tr style=\"text-align: right;\">\n",
       "      <th></th>\n",
       "      <th>company_name</th>\n",
       "      <th>company_identifier</th>\n",
       "      <th>state</th>\n",
       "      <th>licenses</th>\n",
       "      <th>lic_list</th>\n",
       "    </tr>\n",
       "  </thead>\n",
       "  <tbody>\n",
       "    <tr>\n",
       "      <th>0</th>\n",
       "      <td>99 High Tide</td>\n",
       "      <td>99HT</td>\n",
       "      <td>CA</td>\n",
       "      <td>C10-0000279-LIC</td>\n",
       "      <td>[C10-0000279-LIC]</td>\n",
       "    </tr>\n",
       "    <tr>\n",
       "      <th>1</th>\n",
       "      <td>Altum LLC</td>\n",
       "      <td>ALT</td>\n",
       "      <td>MI</td>\n",
       "      <td>PC-000310;AU-R-000380</td>\n",
       "      <td>[PC-000310, AU-R-000380]</td>\n",
       "    </tr>\n",
       "    <tr>\n",
       "      <th>2</th>\n",
       "      <td>Bella Sol</td>\n",
       "      <td>BS</td>\n",
       "      <td>MI</td>\n",
       "      <td>AU-R-000156;PC-000185</td>\n",
       "      <td>[AU-R-000156, PC-000185]</td>\n",
       "    </tr>\n",
       "  </tbody>\n",
       "</table>\n",
       "</div>"
      ],
      "text/plain": [
       "   company_name company_identifier state               licenses  \\\n",
       "0  99 High Tide               99HT    CA        C10-0000279-LIC   \n",
       "1     Altum LLC                ALT    MI  PC-000310;AU-R-000380   \n",
       "2     Bella Sol                 BS    MI  AU-R-000156;PC-000185   \n",
       "\n",
       "                   lic_list  \n",
       "0         [C10-0000279-LIC]  \n",
       "1  [PC-000310, AU-R-000380]  \n",
       "2  [AU-R-000156, PC-000185]  "
      ]
     },
     "execution_count": 9,
     "metadata": {},
     "output_type": "execute_result"
    }
   ],
   "source": [
    "ca_df_clean[0:3]"
   ]
  },
  {
   "cell_type": "markdown",
   "id": "e7a8d5ce",
   "metadata": {},
   "source": [
    "# inventory analysis"
   ]
  },
  {
   "cell_type": "code",
   "execution_count": 10,
   "id": "b2824e96",
   "metadata": {},
   "outputs": [
    {
     "data": {
      "text/plain": [
       "datetime.date(2022, 6, 27)"
      ]
     },
     "execution_count": 10,
     "metadata": {},
     "output_type": "execute_result"
    }
   ],
   "source": [
    "today = date.today()\n",
    "today"
   ]
  },
  {
   "cell_type": "code",
   "execution_count": 11,
   "id": "15977581",
   "metadata": {},
   "outputs": [],
   "source": [
    "def read_inv_data(COMPANY_IDENTIFIER,license_numbers):\n",
    "    \n",
    "    company_inventory_packages_query = create_queries.create_company_inventory_packages_query(\n",
    "    COMPANY_IDENTIFIER,\n",
    "    include_quantity_zero=True,\n",
    "    license_numbers=license_numbers,\n",
    "    )\n",
    "    company_inventory_packages_dataframe = pd.read_sql_query(company_inventory_packages_query, engine)\n",
    "    return company_inventory_packages_dataframe\n"
   ]
  },
  {
   "cell_type": "code",
   "execution_count": 12,
   "id": "9e21efa3",
   "metadata": {},
   "outputs": [],
   "source": [
    "def get_age_bucket(age):\n",
    "    if age < 90:\n",
    "        return '0-90'\n",
    "    elif 90 <= age < 270:\n",
    "        return '90-9m'\n",
    "    elif 270 <= age < 365:\n",
    "        return '9m-12m'\n",
    "    elif 365 <= age:\n",
    "        return '>12m'\n",
    "    else:\n",
    "        return np.nan\n",
    "        "
   ]
  },
  {
   "cell_type": "code",
   "execution_count": 13,
   "id": "49c9db37",
   "metadata": {},
   "outputs": [],
   "source": [
    "def get_inv_list(company_list,map_df):\n",
    "    inv_df_list = {}\n",
    "    for c in tqdm(company_list):\n",
    "        inv_list = {}\n",
    "        print(c)\n",
    "        l_list = map_df[map_df['company_identifier'] == c]['lic_list'].to_list()[0]\n",
    "        for l in tqdm(l_list):\n",
    "            print(l)\n",
    "            #df_in = read_df_in([c],[l])\n",
    "            df_inv = read_inv_data([c],[l])\n",
    "\n",
    "            if df_inv.shape[0] == 0:\n",
    "                inv_list[l] = numpy.nan\n",
    "                continue\n",
    "            else:\n",
    "                #inv = client_surveillance_jupyter.calculate_inventory_valuation(df_in,df_inv,[l],today)\n",
    "                #inv_list[l] = inv\n",
    "                df_inv[\"age\"] = [today - df_inv[\"packaged_date\"][i] for i in range(len(df_inv))]\n",
    "                df_inv[\"age_int\"] = [df_inv[\"age\"][i] / numpy.timedelta64(1, \"D\") for i in range(len(df_inv))]\n",
    "                df_inv = df_inv.drop(['age'], axis=1)\n",
    "                df_inv['age_bucket'] = [get_age_bucket(df_inv['age_int'][i]) for i in range(len(df_inv))]\n",
    "                inv_list[l] = df_inv\n",
    "        inv_df_list[c] =  inv_list\n",
    "    return inv_df_list"
   ]
  },
  {
   "cell_type": "code",
   "execution_count": 14,
   "id": "2b987e87",
   "metadata": {},
   "outputs": [
    {
     "name": "stderr",
     "output_type": "stream",
     "text": [
      "\r",
      "  0%|          | 0/71 [00:00<?, ?it/s]"
     ]
    },
    {
     "name": "stdout",
     "output_type": "stream",
     "text": [
      "99HT\n"
     ]
    },
    {
     "name": "stderr",
     "output_type": "stream",
     "text": [
      "\n",
      "  0%|          | 0/1 [00:00<?, ?it/s]\u001b[A"
     ]
    },
    {
     "name": "stdout",
     "output_type": "stream",
     "text": [
      "C10-0000279-LIC\n"
     ]
    },
    {
     "name": "stderr",
     "output_type": "stream",
     "text": [
      "\n",
      "100%|██████████| 1/1 [00:01<00:00,  1.51s/it]\u001b[A\n",
      "  1%|▏         | 1/71 [00:01<01:45,  1.51s/it]"
     ]
    },
    {
     "name": "stdout",
     "output_type": "stream",
     "text": [
      "ALT\n"
     ]
    },
    {
     "name": "stderr",
     "output_type": "stream",
     "text": [
      "\n",
      "  0%|          | 0/2 [00:00<?, ?it/s]\u001b[A"
     ]
    },
    {
     "name": "stdout",
     "output_type": "stream",
     "text": [
      "PC-000310\n"
     ]
    },
    {
     "name": "stderr",
     "output_type": "stream",
     "text": [
      "\n",
      " 50%|█████     | 1/2 [00:00<00:00,  1.24it/s]\u001b[A"
     ]
    },
    {
     "name": "stdout",
     "output_type": "stream",
     "text": [
      "AU-R-000380\n"
     ]
    },
    {
     "name": "stderr",
     "output_type": "stream",
     "text": [
      "\n",
      "100%|██████████| 2/2 [00:01<00:00,  1.22it/s]\u001b[A\n",
      "  3%|▎         | 2/71 [00:03<01:49,  1.59s/it]"
     ]
    },
    {
     "name": "stdout",
     "output_type": "stream",
     "text": [
      "BS\n"
     ]
    },
    {
     "name": "stderr",
     "output_type": "stream",
     "text": [
      "\n",
      "  0%|          | 0/2 [00:00<?, ?it/s]\u001b[A"
     ]
    },
    {
     "name": "stdout",
     "output_type": "stream",
     "text": [
      "AU-R-000156\n"
     ]
    },
    {
     "name": "stderr",
     "output_type": "stream",
     "text": [
      "\n",
      " 50%|█████     | 1/2 [00:00<00:00,  1.28it/s]\u001b[A"
     ]
    },
    {
     "name": "stdout",
     "output_type": "stream",
     "text": [
      "PC-000185\n"
     ]
    },
    {
     "name": "stderr",
     "output_type": "stream",
     "text": [
      "\n",
      "100%|██████████| 2/2 [00:01<00:00,  1.20it/s]\u001b[A\n",
      "  4%|▍         | 3/71 [00:04<01:50,  1.62s/it]"
     ]
    },
    {
     "name": "stdout",
     "output_type": "stream",
     "text": [
      "BMC\n"
     ]
    },
    {
     "name": "stderr",
     "output_type": "stream",
     "text": [
      "\n",
      "  0%|          | 0/1 [00:00<?, ?it/s]\u001b[A"
     ]
    },
    {
     "name": "stdout",
     "output_type": "stream",
     "text": [
      "402-00930\n"
     ]
    },
    {
     "name": "stderr",
     "output_type": "stream",
     "text": [
      "\n",
      "100%|██████████| 1/1 [00:00<00:00,  1.40it/s]\u001b[A\n",
      "  6%|▌         | 4/71 [00:05<01:24,  1.26s/it]"
     ]
    },
    {
     "name": "stdout",
     "output_type": "stream",
     "text": [
      "BBF\n"
     ]
    },
    {
     "name": "stderr",
     "output_type": "stream",
     "text": [
      "\n",
      "  0%|          | 0/1 [00:00<?, ?it/s]\u001b[A"
     ]
    },
    {
     "name": "stdout",
     "output_type": "stream",
     "text": [
      "MR281525\n"
     ]
    },
    {
     "name": "stderr",
     "output_type": "stream",
     "text": [
      "\n",
      "100%|██████████| 1/1 [00:00<00:00,  1.26it/s]\u001b[A\n",
      "  7%|▋         | 5/71 [00:06<01:12,  1.10s/it]"
     ]
    },
    {
     "name": "stdout",
     "output_type": "stream",
     "text": [
      "BUD\n"
     ]
    },
    {
     "name": "stderr",
     "output_type": "stream",
     "text": [
      "\n",
      "  0%|          | 0/5 [00:00<?, ?it/s]\u001b[A"
     ]
    },
    {
     "name": "stdout",
     "output_type": "stream",
     "text": [
      "C9-0000167-LIC\n"
     ]
    },
    {
     "name": "stderr",
     "output_type": "stream",
     "text": [
      "\n",
      " 20%|██        | 1/5 [00:00<00:03,  1.07it/s]\u001b[A"
     ]
    },
    {
     "name": "stdout",
     "output_type": "stream",
     "text": [
      "C9-0000444-LIC\n"
     ]
    },
    {
     "name": "stderr",
     "output_type": "stream",
     "text": [
      "\n",
      " 40%|████      | 2/5 [00:01<00:02,  1.25it/s]\u001b[A"
     ]
    },
    {
     "name": "stdout",
     "output_type": "stream",
     "text": [
      "C9-0000464-LIC\n"
     ]
    },
    {
     "name": "stderr",
     "output_type": "stream",
     "text": [
      "\n",
      " 60%|██████    | 3/5 [00:02<00:01,  1.29it/s]\u001b[A"
     ]
    },
    {
     "name": "stdout",
     "output_type": "stream",
     "text": [
      "C9-0000467-LIC\n"
     ]
    },
    {
     "name": "stderr",
     "output_type": "stream",
     "text": [
      "\n",
      " 80%|████████  | 4/5 [00:03<00:00,  1.31it/s]\u001b[A"
     ]
    },
    {
     "name": "stdout",
     "output_type": "stream",
     "text": [
      "C9-0000399-LIC\n"
     ]
    },
    {
     "name": "stderr",
     "output_type": "stream",
     "text": [
      "\n",
      "100%|██████████| 5/5 [00:04<00:00,  1.24it/s]\u001b[A\n",
      "  8%|▊         | 6/71 [00:10<02:15,  2.09s/it]"
     ]
    },
    {
     "name": "stdout",
     "output_type": "stream",
     "text": [
      "BRC\n"
     ]
    },
    {
     "name": "stderr",
     "output_type": "stream",
     "text": [
      "\n",
      "  0%|          | 0/1 [00:00<?, ?it/s]\u001b[A"
     ]
    },
    {
     "name": "stdout",
     "output_type": "stream",
     "text": [
      "C10-0000603-LIC\n"
     ]
    },
    {
     "name": "stderr",
     "output_type": "stream",
     "text": [
      "\n",
      "100%|██████████| 1/1 [00:01<00:00,  1.16s/it]\u001b[A\n",
      " 10%|▉         | 7/71 [00:11<01:54,  1.79s/it]"
     ]
    },
    {
     "name": "stdout",
     "output_type": "stream",
     "text": [
      "BYN\n"
     ]
    },
    {
     "name": "stderr",
     "output_type": "stream",
     "text": [
      "\n",
      "  0%|          | 0/1 [00:00<?, ?it/s]\u001b[A"
     ]
    },
    {
     "name": "stdout",
     "output_type": "stream",
     "text": [
      "C10-0000528-LIC\n"
     ]
    },
    {
     "name": "stderr",
     "output_type": "stream",
     "text": [
      "\n",
      "100%|██████████| 1/1 [00:00<00:00,  1.45it/s]\u001b[A\n",
      " 11%|█▏        | 8/71 [00:12<01:30,  1.44s/it]"
     ]
    },
    {
     "name": "stdout",
     "output_type": "stream",
     "text": [
      "CHO\n"
     ]
    },
    {
     "name": "stderr",
     "output_type": "stream",
     "text": [
      "\n",
      "  0%|          | 0/1 [00:00<?, ?it/s]\u001b[A"
     ]
    },
    {
     "name": "stdout",
     "output_type": "stream",
     "text": [
      "AU-R-000575\n"
     ]
    },
    {
     "name": "stderr",
     "output_type": "stream",
     "text": [
      "\n",
      "100%|██████████| 1/1 [00:00<00:00,  1.36it/s]\u001b[A\n",
      " 13%|█▎        | 9/71 [00:12<01:15,  1.22s/it]"
     ]
    },
    {
     "name": "stdout",
     "output_type": "stream",
     "text": [
      "CG\n"
     ]
    },
    {
     "name": "stderr",
     "output_type": "stream",
     "text": [
      "\n",
      "  0%|          | 0/1 [00:00<?, ?it/s]\u001b[A"
     ]
    },
    {
     "name": "stdout",
     "output_type": "stream",
     "text": [
      "C9-0000157-LIC\n"
     ]
    },
    {
     "name": "stderr",
     "output_type": "stream",
     "text": [
      "\n",
      "100%|██████████| 1/1 [00:01<00:00,  1.20s/it]\u001b[A\n",
      " 14%|█▍        | 10/71 [00:14<01:14,  1.21s/it]"
     ]
    },
    {
     "name": "stdout",
     "output_type": "stream",
     "text": [
      "CPA\n"
     ]
    },
    {
     "name": "stderr",
     "output_type": "stream",
     "text": [
      "\n",
      "  0%|          | 0/2 [00:00<?, ?it/s]\u001b[A"
     ]
    },
    {
     "name": "stdout",
     "output_type": "stream",
     "text": [
      "C9-0000348-LIC\n"
     ]
    },
    {
     "name": "stderr",
     "output_type": "stream",
     "text": [
      "\n",
      " 50%|█████     | 1/2 [00:01<00:01,  1.55s/it]\u001b[A"
     ]
    },
    {
     "name": "stdout",
     "output_type": "stream",
     "text": [
      "C10-0000461-LIC\n"
     ]
    },
    {
     "name": "stderr",
     "output_type": "stream",
     "text": [
      "\n",
      "100%|██████████| 2/2 [00:02<00:00,  1.23s/it]\u001b[A\n",
      " 15%|█▌        | 11/71 [00:16<01:35,  1.59s/it]"
     ]
    },
    {
     "name": "stdout",
     "output_type": "stream",
     "text": [
      "CPC\n"
     ]
    },
    {
     "name": "stderr",
     "output_type": "stream",
     "text": [
      "\n",
      "  0%|          | 0/1 [00:00<?, ?it/s]\u001b[A"
     ]
    },
    {
     "name": "stdout",
     "output_type": "stream",
     "text": [
      "C9-0000056-LIC\n"
     ]
    },
    {
     "name": "stderr",
     "output_type": "stream",
     "text": [
      "\n",
      "100%|██████████| 1/1 [00:00<00:00,  1.33it/s]\u001b[A\n",
      " 17%|█▋        | 12/71 [00:17<01:18,  1.34s/it]"
     ]
    },
    {
     "name": "stdout",
     "output_type": "stream",
     "text": [
      "CSC\n"
     ]
    },
    {
     "name": "stderr",
     "output_type": "stream",
     "text": [
      "\n",
      "  0%|          | 0/2 [00:00<?, ?it/s]\u001b[A"
     ]
    },
    {
     "name": "stdout",
     "output_type": "stream",
     "text": [
      "C10-0000670-LIC\n"
     ]
    },
    {
     "name": "stderr",
     "output_type": "stream",
     "text": [
      "\n",
      " 50%|█████     | 1/2 [00:01<00:01,  1.85s/it]\u001b[A"
     ]
    },
    {
     "name": "stdout",
     "output_type": "stream",
     "text": [
      "C10-0000918-LIC\n"
     ]
    },
    {
     "name": "stderr",
     "output_type": "stream",
     "text": [
      "\n",
      "100%|██████████| 2/2 [00:02<00:00,  1.38s/it]\u001b[A\n",
      " 18%|█▊        | 13/71 [00:20<01:42,  1.77s/it]"
     ]
    },
    {
     "name": "stdout",
     "output_type": "stream",
     "text": [
      "CCC\n"
     ]
    },
    {
     "name": "stderr",
     "output_type": "stream",
     "text": [
      "\n",
      "  0%|          | 0/1 [00:00<?, ?it/s]\u001b[A"
     ]
    },
    {
     "name": "stdout",
     "output_type": "stream",
     "text": [
      "C12-0000087-LIC\n"
     ]
    },
    {
     "name": "stderr",
     "output_type": "stream",
     "text": [
      "\n",
      "100%|██████████| 1/1 [00:02<00:00,  2.22s/it]\u001b[A\n",
      " 20%|█▉        | 14/71 [00:22<01:48,  1.91s/it]"
     ]
    },
    {
     "name": "stdout",
     "output_type": "stream",
     "text": [
      "CLC\n"
     ]
    },
    {
     "name": "stderr",
     "output_type": "stream",
     "text": [
      "\n",
      "  0%|          | 0/2 [00:00<?, ?it/s]\u001b[A"
     ]
    },
    {
     "name": "stdout",
     "output_type": "stream",
     "text": [
      "C10-0000986-LIC\n"
     ]
    },
    {
     "name": "stderr",
     "output_type": "stream",
     "text": [
      "\n",
      " 50%|█████     | 1/2 [00:00<00:00,  1.43it/s]\u001b[A"
     ]
    },
    {
     "name": "stdout",
     "output_type": "stream",
     "text": [
      "C12-0000318-LIC\n"
     ]
    },
    {
     "name": "stderr",
     "output_type": "stream",
     "text": [
      "\n",
      "100%|██████████| 2/2 [00:01<00:00,  1.45it/s]\u001b[A\n",
      " 21%|██        | 15/71 [00:23<01:37,  1.75s/it]"
     ]
    },
    {
     "name": "stdout",
     "output_type": "stream",
     "text": [
      "CC\n"
     ]
    },
    {
     "name": "stderr",
     "output_type": "stream",
     "text": [
      "\n",
      "  0%|          | 0/1 [00:00<?, ?it/s]\u001b[A"
     ]
    },
    {
     "name": "stdout",
     "output_type": "stream",
     "text": [
      "C10-0000758-LIC\n"
     ]
    },
    {
     "name": "stderr",
     "output_type": "stream",
     "text": [
      "\n",
      "100%|██████████| 1/1 [00:00<00:00,  1.16it/s]\u001b[A\n",
      " 23%|██▎       | 16/71 [00:24<01:21,  1.48s/it]"
     ]
    },
    {
     "name": "stdout",
     "output_type": "stream",
     "text": [
      "DWF\n"
     ]
    },
    {
     "name": "stderr",
     "output_type": "stream",
     "text": [
      "\n",
      "  0%|          | 0/2 [00:00<?, ?it/s]\u001b[A"
     ]
    },
    {
     "name": "stdout",
     "output_type": "stream",
     "text": [
      "402R-00296\n"
     ]
    },
    {
     "name": "stderr",
     "output_type": "stream",
     "text": [
      "\n",
      " 50%|█████     | 1/2 [00:00<00:00,  1.35it/s]\u001b[A"
     ]
    },
    {
     "name": "stdout",
     "output_type": "stream",
     "text": [
      "402R-00804\n"
     ]
    },
    {
     "name": "stderr",
     "output_type": "stream",
     "text": [
      "\n",
      "100%|██████████| 2/2 [00:01<00:00,  1.51it/s]\u001b[A\n",
      " 24%|██▍       | 17/71 [00:25<01:17,  1.43s/it]"
     ]
    },
    {
     "name": "stdout",
     "output_type": "stream",
     "text": [
      "DCO\n"
     ]
    },
    {
     "name": "stderr",
     "output_type": "stream",
     "text": [
      "\n",
      "  0%|          | 0/2 [00:00<?, ?it/s]\u001b[A"
     ]
    },
    {
     "name": "stdout",
     "output_type": "stream",
     "text": [
      "050-10052885D4C\n"
     ]
    },
    {
     "name": "stderr",
     "output_type": "stream",
     "text": [
      "\n",
      " 50%|█████     | 1/2 [00:00<00:00,  1.39it/s]\u001b[A"
     ]
    },
    {
     "name": "stdout",
     "output_type": "stream",
     "text": [
      "050-10070593E9E\n"
     ]
    },
    {
     "name": "stderr",
     "output_type": "stream",
     "text": [
      "\n",
      "100%|██████████| 2/2 [00:01<00:00,  1.36it/s]\u001b[A\n",
      " 25%|██▌       | 18/71 [00:27<01:16,  1.45s/it]"
     ]
    },
    {
     "name": "stdout",
     "output_type": "stream",
     "text": [
      "DL\n"
     ]
    },
    {
     "name": "stderr",
     "output_type": "stream",
     "text": [
      "\n",
      "  0%|          | 0/1 [00:00<?, ?it/s]\u001b[A"
     ]
    },
    {
     "name": "stdout",
     "output_type": "stream",
     "text": [
      "MR283369\n"
     ]
    },
    {
     "name": "stderr",
     "output_type": "stream",
     "text": [
      "\n",
      "100%|██████████| 1/1 [00:00<00:00,  1.53it/s]\u001b[A\n",
      " 27%|██▋       | 19/71 [00:28<01:02,  1.21s/it]"
     ]
    },
    {
     "name": "stdout",
     "output_type": "stream",
     "text": [
      "DGG\n"
     ]
    },
    {
     "name": "stderr",
     "output_type": "stream",
     "text": [
      "\n",
      "  0%|          | 0/1 [00:00<?, ?it/s]\u001b[A"
     ]
    },
    {
     "name": "stdout",
     "output_type": "stream",
     "text": [
      "C9-0000016-LIC\n"
     ]
    },
    {
     "name": "stderr",
     "output_type": "stream",
     "text": [
      "\n",
      "100%|██████████| 1/1 [00:00<00:00,  1.34it/s]\u001b[A\n",
      " 28%|██▊       | 20/71 [00:28<00:54,  1.07s/it]"
     ]
    },
    {
     "name": "stdout",
     "output_type": "stream",
     "text": [
      "DG\n"
     ]
    },
    {
     "name": "stderr",
     "output_type": "stream",
     "text": [
      "\n",
      "  0%|          | 0/6 [00:00<?, ?it/s]\u001b[A"
     ]
    },
    {
     "name": "stdout",
     "output_type": "stream",
     "text": [
      "PC-000485\n"
     ]
    },
    {
     "name": "stderr",
     "output_type": "stream",
     "text": [
      "\n",
      " 17%|█▋        | 1/6 [00:00<00:03,  1.63it/s]\u001b[A"
     ]
    },
    {
     "name": "stdout",
     "output_type": "stream",
     "text": [
      "AU-R-000287\n"
     ]
    },
    {
     "name": "stderr",
     "output_type": "stream",
     "text": [
      "\n",
      " 33%|███▎      | 2/6 [00:01<00:02,  1.55it/s]\u001b[A"
     ]
    },
    {
     "name": "stdout",
     "output_type": "stream",
     "text": [
      "AU-R-000359\n"
     ]
    },
    {
     "name": "stderr",
     "output_type": "stream",
     "text": [
      "\n",
      " 50%|█████     | 3/6 [00:01<00:01,  1.56it/s]\u001b[A"
     ]
    },
    {
     "name": "stdout",
     "output_type": "stream",
     "text": [
      "AU-R-000422\n"
     ]
    },
    {
     "name": "stderr",
     "output_type": "stream",
     "text": [
      "\n",
      " 67%|██████▋   | 4/6 [00:02<00:01,  1.56it/s]\u001b[A"
     ]
    },
    {
     "name": "stdout",
     "output_type": "stream",
     "text": [
      "AU-R-000470\n"
     ]
    },
    {
     "name": "stderr",
     "output_type": "stream",
     "text": [
      "\n",
      " 83%|████████▎ | 5/6 [00:03<00:00,  1.53it/s]\u001b[A"
     ]
    },
    {
     "name": "stdout",
     "output_type": "stream",
     "text": [
      "AU-R-000572\n"
     ]
    },
    {
     "name": "stderr",
     "output_type": "stream",
     "text": [
      "\n",
      "100%|██████████| 6/6 [00:03<00:00,  1.54it/s]\u001b[A\n",
      " 30%|██▉       | 21/71 [00:32<01:35,  1.92s/it]"
     ]
    },
    {
     "name": "stdout",
     "output_type": "stream",
     "text": [
      "EL\n"
     ]
    },
    {
     "name": "stderr",
     "output_type": "stream",
     "text": [
      "\n",
      "  0%|          | 0/1 [00:00<?, ?it/s]\u001b[A"
     ]
    },
    {
     "name": "stdout",
     "output_type": "stream",
     "text": [
      "C9-0000370-LIC\n"
     ]
    },
    {
     "name": "stderr",
     "output_type": "stream",
     "text": [
      "\n",
      "100%|██████████| 1/1 [00:00<00:00,  1.63it/s]\u001b[A\n",
      " 31%|███       | 22/71 [00:33<01:14,  1.53s/it]"
     ]
    },
    {
     "name": "stdout",
     "output_type": "stream",
     "text": [
      "EMA\n"
     ]
    },
    {
     "name": "stderr",
     "output_type": "stream",
     "text": [
      "\n",
      "  0%|          | 0/1 [00:00<?, ?it/s]\u001b[A"
     ]
    },
    {
     "name": "stdout",
     "output_type": "stream",
     "text": [
      "C10-0000774-LIC\n"
     ]
    },
    {
     "name": "stderr",
     "output_type": "stream",
     "text": [
      "\n",
      "100%|██████████| 1/1 [00:00<00:00,  1.30it/s]\u001b[A\n",
      " 32%|███▏      | 23/71 [00:34<01:02,  1.30s/it]"
     ]
    },
    {
     "name": "stdout",
     "output_type": "stream",
     "text": [
      "EMF\n"
     ]
    },
    {
     "name": "stderr",
     "output_type": "stream",
     "text": [
      "\n",
      "  0%|          | 0/1 [00:00<?, ?it/s]\u001b[A"
     ]
    },
    {
     "name": "stdout",
     "output_type": "stream",
     "text": [
      "C10-0000939-LIC\n"
     ]
    },
    {
     "name": "stderr",
     "output_type": "stream",
     "text": [
      "\n",
      "100%|██████████| 1/1 [00:00<00:00,  1.38it/s]\u001b[A\n",
      " 34%|███▍      | 24/71 [00:34<00:52,  1.13s/it]"
     ]
    },
    {
     "name": "stdout",
     "output_type": "stream",
     "text": [
      "EMM\n"
     ]
    },
    {
     "name": "stderr",
     "output_type": "stream",
     "text": [
      "\n",
      "  0%|          | 0/1 [00:00<?, ?it/s]\u001b[A"
     ]
    },
    {
     "name": "stdout",
     "output_type": "stream",
     "text": [
      "C10-0000786-LIC\n"
     ]
    },
    {
     "name": "stderr",
     "output_type": "stream",
     "text": [
      "\n",
      "100%|██████████| 1/1 [00:00<00:00,  1.21it/s]\u001b[A\n",
      " 35%|███▌      | 25/71 [00:35<00:47,  1.04s/it]"
     ]
    },
    {
     "name": "stdout",
     "output_type": "stream",
     "text": [
      "EMT\n"
     ]
    },
    {
     "name": "stderr",
     "output_type": "stream",
     "text": [
      "\n",
      "  0%|          | 0/1 [00:00<?, ?it/s]\u001b[A"
     ]
    },
    {
     "name": "stdout",
     "output_type": "stream",
     "text": [
      "C10-0000695-LIC\n"
     ]
    },
    {
     "name": "stderr",
     "output_type": "stream",
     "text": [
      "\n",
      "100%|██████████| 1/1 [00:00<00:00,  1.39it/s]\u001b[A\n",
      " 37%|███▋      | 26/71 [00:36<00:42,  1.06it/s]"
     ]
    },
    {
     "name": "stdout",
     "output_type": "stream",
     "text": [
      "EH\n"
     ]
    },
    {
     "name": "stderr",
     "output_type": "stream",
     "text": [
      "\n",
      "  0%|          | 0/1 [00:00<?, ?it/s]\u001b[A"
     ]
    },
    {
     "name": "stdout",
     "output_type": "stream",
     "text": [
      "MR283073\n"
     ]
    },
    {
     "name": "stderr",
     "output_type": "stream",
     "text": [
      "\n",
      "100%|██████████| 1/1 [00:00<00:00,  1.60it/s]\u001b[A\n",
      " 38%|███▊      | 27/71 [00:36<00:37,  1.18it/s]"
     ]
    },
    {
     "name": "stdout",
     "output_type": "stream",
     "text": [
      "FW\n"
     ]
    },
    {
     "name": "stderr",
     "output_type": "stream",
     "text": [
      "\n",
      "  0%|          | 0/5 [00:00<?, ?it/s]\u001b[A"
     ]
    },
    {
     "name": "stdout",
     "output_type": "stream",
     "text": [
      "402-00558\n"
     ]
    },
    {
     "name": "stderr",
     "output_type": "stream",
     "text": [
      "\n",
      " 20%|██        | 1/5 [00:00<00:02,  1.65it/s]\u001b[A"
     ]
    },
    {
     "name": "stdout",
     "output_type": "stream",
     "text": [
      "402-00891\n"
     ]
    },
    {
     "name": "stderr",
     "output_type": "stream",
     "text": [
      "\n",
      " 40%|████      | 2/5 [00:01<00:01,  1.62it/s]\u001b[A"
     ]
    },
    {
     "name": "stdout",
     "output_type": "stream",
     "text": [
      "402R-00017\n"
     ]
    },
    {
     "name": "stderr",
     "output_type": "stream",
     "text": [
      "\n",
      " 60%|██████    | 3/5 [00:01<00:01,  1.55it/s]\u001b[A"
     ]
    },
    {
     "name": "stdout",
     "output_type": "stream",
     "text": [
      "402R-00020\n"
     ]
    },
    {
     "name": "stderr",
     "output_type": "stream",
     "text": [
      "\n",
      " 80%|████████  | 4/5 [00:02<00:00,  1.50it/s]\u001b[A"
     ]
    },
    {
     "name": "stdout",
     "output_type": "stream",
     "text": [
      "402R-00747\n"
     ]
    },
    {
     "name": "stderr",
     "output_type": "stream",
     "text": [
      "\n",
      "100%|██████████| 5/5 [00:03<00:00,  1.55it/s]\u001b[A\n",
      " 39%|███▉      | 28/71 [00:40<01:07,  1.56s/it]"
     ]
    },
    {
     "name": "stdout",
     "output_type": "stream",
     "text": [
      "GT\n"
     ]
    },
    {
     "name": "stderr",
     "output_type": "stream",
     "text": [
      "\n",
      "  0%|          | 0/2 [00:00<?, ?it/s]\u001b[A"
     ]
    },
    {
     "name": "stdout",
     "output_type": "stream",
     "text": [
      "C9-0000170-LIC\n"
     ]
    },
    {
     "name": "stderr",
     "output_type": "stream",
     "text": [
      "\n",
      " 50%|█████     | 1/2 [00:00<00:00,  1.56it/s]\u001b[A"
     ]
    },
    {
     "name": "stdout",
     "output_type": "stream",
     "text": [
      "C9-0000385-LIC\n"
     ]
    },
    {
     "name": "stderr",
     "output_type": "stream",
     "text": [
      "\n",
      "100%|██████████| 2/2 [00:01<00:00,  1.45it/s]\u001b[A\n",
      " 41%|████      | 29/71 [00:41<01:03,  1.51s/it]"
     ]
    },
    {
     "name": "stdout",
     "output_type": "stream",
     "text": [
      "GLNR\n"
     ]
    },
    {
     "name": "stderr",
     "output_type": "stream",
     "text": [
      "\n",
      "  0%|          | 0/6 [00:00<?, ?it/s]\u001b[A"
     ]
    },
    {
     "name": "stdout",
     "output_type": "stream",
     "text": [
      "PC-000334\n"
     ]
    },
    {
     "name": "stderr",
     "output_type": "stream",
     "text": [
      "\n",
      " 17%|█▋        | 1/6 [00:00<00:03,  1.47it/s]\u001b[A"
     ]
    },
    {
     "name": "stdout",
     "output_type": "stream",
     "text": [
      "PC-000613\n"
     ]
    },
    {
     "name": "stderr",
     "output_type": "stream",
     "text": [
      "\n",
      " 33%|███▎      | 2/6 [00:01<00:03,  1.15it/s]\u001b[A"
     ]
    },
    {
     "name": "stdout",
     "output_type": "stream",
     "text": [
      "PC-000722\n"
     ]
    },
    {
     "name": "stderr",
     "output_type": "stream",
     "text": [
      "\n",
      " 50%|█████     | 3/6 [00:02<00:02,  1.24it/s]\u001b[A"
     ]
    },
    {
     "name": "stdout",
     "output_type": "stream",
     "text": [
      "AU-R-000182\n"
     ]
    },
    {
     "name": "stderr",
     "output_type": "stream",
     "text": [
      "\n",
      " 67%|██████▋   | 4/6 [00:03<00:01,  1.01it/s]\u001b[A"
     ]
    },
    {
     "name": "stdout",
     "output_type": "stream",
     "text": [
      "AU-R-000461\n"
     ]
    },
    {
     "name": "stderr",
     "output_type": "stream",
     "text": [
      "\n",
      " 83%|████████▎ | 5/6 [00:04<00:00,  1.15it/s]\u001b[A"
     ]
    },
    {
     "name": "stdout",
     "output_type": "stream",
     "text": [
      "AU-R-000559\n"
     ]
    },
    {
     "name": "stderr",
     "output_type": "stream",
     "text": [
      "\n",
      "100%|██████████| 6/6 [00:05<00:00,  1.20it/s]\u001b[A\n",
      " 42%|████▏     | 30/71 [00:46<01:44,  2.56s/it]"
     ]
    },
    {
     "name": "stdout",
     "output_type": "stream",
     "text": [
      "GRG\n"
     ]
    },
    {
     "name": "stderr",
     "output_type": "stream",
     "text": [
      "\n",
      "  0%|          | 0/2 [00:00<?, ?it/s]\u001b[A"
     ]
    },
    {
     "name": "stdout",
     "output_type": "stream",
     "text": [
      "C10-0000169-LIC\n"
     ]
    },
    {
     "name": "stderr",
     "output_type": "stream",
     "text": [
      "\n",
      " 50%|█████     | 1/2 [00:00<00:00,  1.19it/s]\u001b[A"
     ]
    },
    {
     "name": "stdout",
     "output_type": "stream",
     "text": [
      "C10-0000408-LIC\n"
     ]
    },
    {
     "name": "stderr",
     "output_type": "stream",
     "text": [
      "\n",
      "100%|██████████| 2/2 [00:01<00:00,  1.01it/s]\u001b[A\n",
      " 44%|████▎     | 31/71 [00:48<01:35,  2.38s/it]"
     ]
    },
    {
     "name": "stdout",
     "output_type": "stream",
     "text": [
      "GTR\n"
     ]
    },
    {
     "name": "stderr",
     "output_type": "stream",
     "text": [
      "\n",
      "  0%|          | 0/2 [00:00<?, ?it/s]\u001b[A"
     ]
    },
    {
     "name": "stdout",
     "output_type": "stream",
     "text": [
      "PC-000225\n"
     ]
    },
    {
     "name": "stderr",
     "output_type": "stream",
     "text": [
      "\n",
      " 50%|█████     | 1/2 [00:00<00:00,  1.77it/s]\u001b[A"
     ]
    },
    {
     "name": "stdout",
     "output_type": "stream",
     "text": [
      "AU-R-000163\n"
     ]
    },
    {
     "name": "stderr",
     "output_type": "stream",
     "text": [
      "\n",
      "100%|██████████| 2/2 [00:01<00:00,  1.65it/s]\u001b[A\n",
      " 45%|████▌     | 32/71 [00:49<01:19,  2.03s/it]"
     ]
    },
    {
     "name": "stdout",
     "output_type": "stream",
     "text": [
      "GHC\n"
     ]
    },
    {
     "name": "stderr",
     "output_type": "stream",
     "text": [
      "\n",
      "  0%|          | 0/1 [00:00<?, ?it/s]\u001b[A"
     ]
    },
    {
     "name": "stdout",
     "output_type": "stream",
     "text": [
      "C10-0000414-LIC\n"
     ]
    },
    {
     "name": "stderr",
     "output_type": "stream",
     "text": [
      "\n",
      "100%|██████████| 1/1 [00:00<00:00,  1.06it/s]\u001b[A\n",
      " 46%|████▋     | 33/71 [00:50<01:04,  1.71s/it]"
     ]
    },
    {
     "name": "stdout",
     "output_type": "stream",
     "text": [
      "HB\n"
     ]
    },
    {
     "name": "stderr",
     "output_type": "stream",
     "text": [
      "\n",
      "  0%|          | 0/3 [00:00<?, ?it/s]\u001b[A"
     ]
    },
    {
     "name": "stdout",
     "output_type": "stream",
     "text": [
      "C10-0000339-LIC\n"
     ]
    },
    {
     "name": "stderr",
     "output_type": "stream",
     "text": [
      "\n",
      " 33%|███▎      | 1/3 [00:00<00:01,  1.08it/s]\u001b[A"
     ]
    },
    {
     "name": "stdout",
     "output_type": "stream",
     "text": [
      "C10-0000624-LIC\n"
     ]
    },
    {
     "name": "stderr",
     "output_type": "stream",
     "text": [
      "\n",
      " 67%|██████▋   | 2/3 [00:01<00:00,  1.16it/s]\u001b[A"
     ]
    },
    {
     "name": "stdout",
     "output_type": "stream",
     "text": [
      "C10-0000301-LIC\n"
     ]
    },
    {
     "name": "stderr",
     "output_type": "stream",
     "text": [
      "\n",
      "100%|██████████| 3/3 [00:02<00:00,  1.28it/s]\u001b[A\n",
      " 48%|████▊     | 34/71 [00:53<01:10,  1.90s/it]"
     ]
    },
    {
     "name": "stdout",
     "output_type": "stream",
     "text": [
      "HS\n"
     ]
    },
    {
     "name": "stderr",
     "output_type": "stream",
     "text": [
      "\n",
      "  0%|          | 0/1 [00:00<?, ?it/s]\u001b[A"
     ]
    },
    {
     "name": "stdout",
     "output_type": "stream",
     "text": [
      "C9-0000441-LIC\n"
     ]
    },
    {
     "name": "stderr",
     "output_type": "stream",
     "text": [
      "\n",
      "100%|██████████| 1/1 [00:00<00:00,  1.64it/s]\u001b[A\n",
      " 49%|████▉     | 35/71 [00:53<00:54,  1.51s/it]"
     ]
    },
    {
     "name": "stdout",
     "output_type": "stream",
     "text": [
      "HPCC\n"
     ]
    },
    {
     "name": "stderr",
     "output_type": "stream",
     "text": [
      "\n",
      "  0%|          | 0/2 [00:00<?, ?it/s]\u001b[A"
     ]
    },
    {
     "name": "stdout",
     "output_type": "stream",
     "text": [
      "C10-0000064-LIC\n"
     ]
    },
    {
     "name": "stderr",
     "output_type": "stream",
     "text": [
      "\n",
      " 50%|█████     | 1/2 [00:00<00:00,  1.23it/s]\u001b[A"
     ]
    },
    {
     "name": "stdout",
     "output_type": "stream",
     "text": [
      "C10-0000005-LIC\n"
     ]
    },
    {
     "name": "stderr",
     "output_type": "stream",
     "text": [
      "\n",
      "100%|██████████| 2/2 [00:01<00:00,  1.37it/s]\u001b[A\n",
      " 51%|█████     | 36/71 [00:55<00:52,  1.50s/it]"
     ]
    },
    {
     "name": "stdout",
     "output_type": "stream",
     "text": [
      "HC\n"
     ]
    },
    {
     "name": "stderr",
     "output_type": "stream",
     "text": [
      "\n",
      "  0%|          | 0/1 [00:00<?, ?it/s]\u001b[A"
     ]
    },
    {
     "name": "stdout",
     "output_type": "stream",
     "text": [
      "C9-0000341-LIC\n"
     ]
    },
    {
     "name": "stderr",
     "output_type": "stream",
     "text": [
      "\n",
      "100%|██████████| 1/1 [00:00<00:00,  1.42it/s]\u001b[A\n",
      " 52%|█████▏    | 37/71 [00:55<00:42,  1.26s/it]"
     ]
    },
    {
     "name": "stdout",
     "output_type": "stream",
     "text": [
      "IDC\n"
     ]
    },
    {
     "name": "stderr",
     "output_type": "stream",
     "text": [
      "\n",
      "  0%|          | 0/1 [00:00<?, ?it/s]\u001b[A"
     ]
    },
    {
     "name": "stdout",
     "output_type": "stream",
     "text": [
      "C9-0000320-LIC\n"
     ]
    },
    {
     "name": "stderr",
     "output_type": "stream",
     "text": [
      "\n",
      "100%|██████████| 1/1 [00:00<00:00,  1.27it/s]\u001b[A\n",
      " 54%|█████▎    | 38/71 [00:56<00:36,  1.12s/it]"
     ]
    },
    {
     "name": "stdout",
     "output_type": "stream",
     "text": [
      "ID\n"
     ]
    },
    {
     "name": "stderr",
     "output_type": "stream",
     "text": [
      "\n",
      "  0%|          | 0/1 [00:00<?, ?it/s]\u001b[A"
     ]
    },
    {
     "name": "stdout",
     "output_type": "stream",
     "text": [
      "C9-0000166-LIC\n"
     ]
    },
    {
     "name": "stderr",
     "output_type": "stream",
     "text": [
      "\n",
      "100%|██████████| 1/1 [00:00<00:00,  1.69it/s]\u001b[A\n",
      " 55%|█████▍    | 39/71 [00:57<00:30,  1.04it/s]"
     ]
    },
    {
     "name": "stdout",
     "output_type": "stream",
     "text": [
      "KAR\n"
     ]
    },
    {
     "name": "stderr",
     "output_type": "stream",
     "text": [
      "\n",
      "  0%|          | 0/2 [00:00<?, ?it/s]\u001b[A"
     ]
    },
    {
     "name": "stdout",
     "output_type": "stream",
     "text": [
      "402-00693\n"
     ]
    },
    {
     "name": "stderr",
     "output_type": "stream",
     "text": [
      "\n",
      " 50%|█████     | 1/2 [00:00<00:00,  1.42it/s]\u001b[A"
     ]
    },
    {
     "name": "stdout",
     "output_type": "stream",
     "text": [
      "402R-00744\n"
     ]
    },
    {
     "name": "stderr",
     "output_type": "stream",
     "text": [
      "\n",
      "100%|██████████| 2/2 [00:01<00:00,  1.39it/s]\u001b[A\n",
      " 56%|█████▋    | 40/71 [00:58<00:34,  1.11s/it]"
     ]
    },
    {
     "name": "stdout",
     "output_type": "stream",
     "text": [
      "KC\n"
     ]
    },
    {
     "name": "stderr",
     "output_type": "stream",
     "text": [
      "\n",
      "  0%|          | 0/11 [00:00<?, ?it/s]\u001b[A"
     ]
    },
    {
     "name": "stdout",
     "output_type": "stream",
     "text": [
      "402-00323\n"
     ]
    },
    {
     "name": "stderr",
     "output_type": "stream",
     "text": [
      "\n",
      "  9%|▉         | 1/11 [00:00<00:06,  1.60it/s]\u001b[A"
     ]
    },
    {
     "name": "stdout",
     "output_type": "stream",
     "text": [
      "402-00573\n"
     ]
    },
    {
     "name": "stderr",
     "output_type": "stream",
     "text": [
      "\n",
      " 18%|█▊        | 2/11 [00:01<00:05,  1.64it/s]\u001b[A"
     ]
    },
    {
     "name": "stdout",
     "output_type": "stream",
     "text": [
      "402-00664\n"
     ]
    },
    {
     "name": "stderr",
     "output_type": "stream",
     "text": [
      "\n",
      " 27%|██▋       | 3/11 [00:01<00:04,  1.61it/s]\u001b[A"
     ]
    },
    {
     "name": "stdout",
     "output_type": "stream",
     "text": [
      "402R-00515\n"
     ]
    },
    {
     "name": "stderr",
     "output_type": "stream",
     "text": [
      "\n",
      " 36%|███▋      | 4/11 [00:02<00:04,  1.55it/s]\u001b[A"
     ]
    },
    {
     "name": "stdout",
     "output_type": "stream",
     "text": [
      "402R-00544\n"
     ]
    },
    {
     "name": "stderr",
     "output_type": "stream",
     "text": [
      "\n",
      " 45%|████▌     | 5/11 [00:03<00:03,  1.55it/s]\u001b[A"
     ]
    },
    {
     "name": "stdout",
     "output_type": "stream",
     "text": [
      "402R-00900\n"
     ]
    },
    {
     "name": "stderr",
     "output_type": "stream",
     "text": [
      "\n",
      " 55%|█████▍    | 6/11 [00:03<00:03,  1.56it/s]\u001b[A"
     ]
    },
    {
     "name": "stdout",
     "output_type": "stream",
     "text": [
      "402R-00002\n"
     ]
    },
    {
     "name": "stderr",
     "output_type": "stream",
     "text": [
      "\n",
      " 64%|██████▎   | 7/11 [00:04<00:02,  1.58it/s]\u001b[A"
     ]
    },
    {
     "name": "stdout",
     "output_type": "stream",
     "text": [
      "402-01146\n"
     ]
    },
    {
     "name": "stderr",
     "output_type": "stream",
     "text": [
      "\n",
      " 73%|███████▎  | 8/11 [00:05<00:01,  1.60it/s]\u001b[A"
     ]
    },
    {
     "name": "stdout",
     "output_type": "stream",
     "text": [
      "402-00037\n"
     ]
    },
    {
     "name": "stderr",
     "output_type": "stream",
     "text": [
      "\n",
      " 82%|████████▏ | 9/11 [00:05<00:01,  1.60it/s]\u001b[A"
     ]
    },
    {
     "name": "stdout",
     "output_type": "stream",
     "text": [
      "402R-00035\n"
     ]
    },
    {
     "name": "stderr",
     "output_type": "stream",
     "text": [
      "\n",
      " 91%|█████████ | 10/11 [00:06<00:00,  1.60it/s]\u001b[A"
     ]
    },
    {
     "name": "stdout",
     "output_type": "stream",
     "text": [
      "402R-00574\n"
     ]
    },
    {
     "name": "stderr",
     "output_type": "stream",
     "text": [
      "\n",
      "100%|██████████| 11/11 [00:06<00:00,  1.58it/s]\u001b[A\n",
      " 58%|█████▊    | 41/71 [01:05<01:25,  2.86s/it]"
     ]
    },
    {
     "name": "stdout",
     "output_type": "stream",
     "text": [
      "LEG\n"
     ]
    },
    {
     "name": "stderr",
     "output_type": "stream",
     "text": [
      "\n",
      "  0%|          | 0/4 [00:00<?, ?it/s]\u001b[A"
     ]
    },
    {
     "name": "stdout",
     "output_type": "stream",
     "text": [
      "PC-000231\n"
     ]
    },
    {
     "name": "stderr",
     "output_type": "stream",
     "text": [
      "\n",
      " 25%|██▌       | 1/4 [00:00<00:02,  1.45it/s]\u001b[A"
     ]
    },
    {
     "name": "stdout",
     "output_type": "stream",
     "text": [
      "PC-000335\n"
     ]
    },
    {
     "name": "stderr",
     "output_type": "stream",
     "text": [
      "\n",
      " 50%|█████     | 2/4 [00:01<00:01,  1.51it/s]\u001b[A"
     ]
    },
    {
     "name": "stdout",
     "output_type": "stream",
     "text": [
      "AU-R-000260\n"
     ]
    },
    {
     "name": "stderr",
     "output_type": "stream",
     "text": [
      "\n",
      " 75%|███████▌  | 3/4 [00:02<00:00,  1.41it/s]\u001b[A"
     ]
    },
    {
     "name": "stdout",
     "output_type": "stream",
     "text": [
      "AU-R-000261\n"
     ]
    },
    {
     "name": "stderr",
     "output_type": "stream",
     "text": [
      "\n",
      "100%|██████████| 4/4 [00:03<00:00,  1.17it/s]\u001b[A\n",
      " 59%|█████▉    | 42/71 [01:09<01:27,  3.03s/it]"
     ]
    },
    {
     "name": "stdout",
     "output_type": "stream",
     "text": [
      "LBC\n"
     ]
    },
    {
     "name": "stderr",
     "output_type": "stream",
     "text": [
      "\n",
      "  0%|          | 0/1 [00:00<?, ?it/s]\u001b[A"
     ]
    },
    {
     "name": "stdout",
     "output_type": "stream",
     "text": [
      "C9-0000154-LIC\n"
     ]
    },
    {
     "name": "stderr",
     "output_type": "stream",
     "text": [
      "\n",
      "100%|██████████| 1/1 [00:00<00:00,  1.63it/s]\u001b[A\n",
      " 61%|██████    | 43/71 [01:09<01:04,  2.30s/it]"
     ]
    },
    {
     "name": "stdout",
     "output_type": "stream",
     "text": [
      "MSS\n"
     ]
    },
    {
     "name": "stderr",
     "output_type": "stream",
     "text": [
      "\n",
      "  0%|          | 0/1 [00:00<?, ?it/s]\u001b[A"
     ]
    },
    {
     "name": "stdout",
     "output_type": "stream",
     "text": [
      "C10-0000816-LIC\n"
     ]
    },
    {
     "name": "stderr",
     "output_type": "stream",
     "text": [
      "\n",
      "100%|██████████| 1/1 [00:00<00:00,  1.25it/s]\u001b[A\n",
      " 62%|██████▏   | 44/71 [01:10<00:50,  1.85s/it]"
     ]
    },
    {
     "name": "stdout",
     "output_type": "stream",
     "text": [
      "ML\n"
     ]
    },
    {
     "name": "stderr",
     "output_type": "stream",
     "text": [
      "\n",
      "  0%|          | 0/1 [00:00<?, ?it/s]\u001b[A"
     ]
    },
    {
     "name": "stdout",
     "output_type": "stream",
     "text": [
      "C9-0000300-LIC\n"
     ]
    },
    {
     "name": "stderr",
     "output_type": "stream",
     "text": [
      "\n",
      "100%|██████████| 1/1 [00:00<00:00,  1.35it/s]\u001b[A\n",
      " 63%|██████▎   | 45/71 [01:11<00:39,  1.52s/it]"
     ]
    },
    {
     "name": "stdout",
     "output_type": "stream",
     "text": [
      "MW\n"
     ]
    },
    {
     "name": "stderr",
     "output_type": "stream",
     "text": [
      "\n",
      "  0%|          | 0/1 [00:00<?, ?it/s]\u001b[A"
     ]
    },
    {
     "name": "stdout",
     "output_type": "stream",
     "text": [
      "C10-0000332-LIC\n"
     ]
    },
    {
     "name": "stderr",
     "output_type": "stream",
     "text": [
      "\n",
      "100%|██████████| 1/1 [00:00<00:00,  1.01it/s]\u001b[A\n",
      " 65%|██████▍   | 46/71 [01:12<00:34,  1.36s/it]"
     ]
    },
    {
     "name": "stdout",
     "output_type": "stream",
     "text": [
      "MPW\n"
     ]
    },
    {
     "name": "stderr",
     "output_type": "stream",
     "text": [
      "\n",
      "  0%|          | 0/1 [00:00<?, ?it/s]\u001b[A"
     ]
    },
    {
     "name": "stdout",
     "output_type": "stream",
     "text": [
      "C10-0000547-LIC\n"
     ]
    },
    {
     "name": "stderr",
     "output_type": "stream",
     "text": [
      "\n",
      "100%|██████████| 1/1 [00:02<00:00,  2.10s/it]\u001b[A\n",
      " 66%|██████▌   | 47/71 [01:14<00:37,  1.58s/it]"
     ]
    },
    {
     "name": "stdout",
     "output_type": "stream",
     "text": [
      "MD\n"
     ]
    },
    {
     "name": "stderr",
     "output_type": "stream",
     "text": [
      "\n",
      "  0%|          | 0/1 [00:00<?, ?it/s]\u001b[A"
     ]
    },
    {
     "name": "stdout",
     "output_type": "stream",
     "text": [
      "C9-0000247-LIC\n"
     ]
    },
    {
     "name": "stderr",
     "output_type": "stream",
     "text": [
      "\n",
      "100%|██████████| 1/1 [00:00<00:00,  1.39it/s]\u001b[A\n",
      " 68%|██████▊   | 48/71 [01:14<00:30,  1.32s/it]"
     ]
    },
    {
     "name": "stdout",
     "output_type": "stream",
     "text": [
      "ND\n"
     ]
    },
    {
     "name": "stderr",
     "output_type": "stream",
     "text": [
      "\n",
      "  0%|          | 0/1 [00:00<?, ?it/s]\u001b[A"
     ]
    },
    {
     "name": "stdout",
     "output_type": "stream",
     "text": [
      "C9-0000427-LIC\n"
     ]
    },
    {
     "name": "stderr",
     "output_type": "stream",
     "text": [
      "\n",
      "100%|██████████| 1/1 [00:00<00:00,  1.53it/s]\u001b[A\n",
      " 69%|██████▉   | 49/71 [01:15<00:24,  1.12s/it]"
     ]
    },
    {
     "name": "stdout",
     "output_type": "stream",
     "text": [
      "NECC\n"
     ]
    },
    {
     "name": "stderr",
     "output_type": "stream",
     "text": [
      "\n",
      "  0%|          | 0/1 [00:00<?, ?it/s]\u001b[A"
     ]
    },
    {
     "name": "stdout",
     "output_type": "stream",
     "text": [
      "MR283416\n"
     ]
    },
    {
     "name": "stderr",
     "output_type": "stream",
     "text": [
      "\n",
      "100%|██████████| 1/1 [00:00<00:00,  1.47it/s]\u001b[A\n",
      " 70%|███████   | 50/71 [01:16<00:20,  1.01it/s]"
     ]
    },
    {
     "name": "stdout",
     "output_type": "stream",
     "text": [
      "PGM\n"
     ]
    },
    {
     "name": "stderr",
     "output_type": "stream",
     "text": [
      "\n",
      "  0%|          | 0/11 [00:00<?, ?it/s]\u001b[A"
     ]
    },
    {
     "name": "stdout",
     "output_type": "stream",
     "text": [
      "PC-000415\n"
     ]
    },
    {
     "name": "stderr",
     "output_type": "stream",
     "text": [
      "\n",
      "  9%|▉         | 1/11 [00:00<00:06,  1.60it/s]\u001b[A"
     ]
    },
    {
     "name": "stdout",
     "output_type": "stream",
     "text": [
      "PC-000551\n"
     ]
    },
    {
     "name": "stderr",
     "output_type": "stream",
     "text": [
      "\n",
      " 18%|█▊        | 2/11 [00:01<00:05,  1.62it/s]\u001b[A"
     ]
    },
    {
     "name": "stdout",
     "output_type": "stream",
     "text": [
      "PC-000725\n"
     ]
    },
    {
     "name": "stderr",
     "output_type": "stream",
     "text": [
      "\n",
      " 27%|██▋       | 3/11 [00:01<00:04,  1.65it/s]\u001b[A"
     ]
    },
    {
     "name": "stdout",
     "output_type": "stream",
     "text": [
      "PC-000167\n"
     ]
    },
    {
     "name": "stderr",
     "output_type": "stream",
     "text": [
      "\n",
      " 36%|███▋      | 4/11 [00:02<00:04,  1.55it/s]\u001b[A"
     ]
    },
    {
     "name": "stdout",
     "output_type": "stream",
     "text": [
      "PC-000169\n"
     ]
    },
    {
     "name": "stderr",
     "output_type": "stream",
     "text": [
      "\n",
      " 45%|████▌     | 5/11 [00:03<00:03,  1.67it/s]\u001b[A"
     ]
    },
    {
     "name": "stdout",
     "output_type": "stream",
     "text": [
      "AU-R-000196\n"
     ]
    },
    {
     "name": "stderr",
     "output_type": "stream",
     "text": [
      "\n",
      " 55%|█████▍    | 6/11 [00:03<00:03,  1.52it/s]\u001b[A"
     ]
    },
    {
     "name": "stdout",
     "output_type": "stream",
     "text": [
      "AU-R-000197\n"
     ]
    },
    {
     "name": "stderr",
     "output_type": "stream",
     "text": [
      "\n",
      " 64%|██████▎   | 7/11 [00:04<00:02,  1.50it/s]\u001b[A"
     ]
    },
    {
     "name": "stdout",
     "output_type": "stream",
     "text": [
      "AU-R-000198\n"
     ]
    },
    {
     "name": "stderr",
     "output_type": "stream",
     "text": [
      "\n",
      " 73%|███████▎  | 8/11 [00:05<00:02,  1.49it/s]\u001b[A"
     ]
    },
    {
     "name": "stdout",
     "output_type": "stream",
     "text": [
      "AU-R-000366\n"
     ]
    },
    {
     "name": "stderr",
     "output_type": "stream",
     "text": [
      "\n",
      " 82%|████████▏ | 9/11 [00:05<00:01,  1.52it/s]\u001b[A"
     ]
    },
    {
     "name": "stdout",
     "output_type": "stream",
     "text": [
      "AU-R-000506\n"
     ]
    },
    {
     "name": "stderr",
     "output_type": "stream",
     "text": [
      "\n",
      " 91%|█████████ | 10/11 [00:06<00:00,  1.50it/s]\u001b[A"
     ]
    },
    {
     "name": "stdout",
     "output_type": "stream",
     "text": [
      "PC-000160\n"
     ]
    },
    {
     "name": "stderr",
     "output_type": "stream",
     "text": [
      "\n",
      "100%|██████████| 11/11 [00:07<00:00,  1.47it/s]\u001b[A\n",
      " 72%|███████▏  | 51/71 [01:23<00:58,  2.93s/it]"
     ]
    },
    {
     "name": "stdout",
     "output_type": "stream",
     "text": [
      "PRP\n"
     ]
    },
    {
     "name": "stderr",
     "output_type": "stream",
     "text": [
      "\n",
      "  0%|          | 0/3 [00:00<?, ?it/s]\u001b[A"
     ]
    },
    {
     "name": "stdout",
     "output_type": "stream",
     "text": [
      "C10-0000155-LIC\n"
     ]
    },
    {
     "name": "stderr",
     "output_type": "stream",
     "text": [
      "\n",
      " 33%|███▎      | 1/3 [00:00<00:01,  1.37it/s]\u001b[A"
     ]
    },
    {
     "name": "stdout",
     "output_type": "stream",
     "text": [
      "C10-0000286-LIC\n"
     ]
    },
    {
     "name": "stderr",
     "output_type": "stream",
     "text": [
      "\n",
      " 67%|██████▋   | 2/3 [00:01<00:00,  1.07it/s]\u001b[A"
     ]
    },
    {
     "name": "stdout",
     "output_type": "stream",
     "text": [
      "C10-0000403-LIC\n"
     ]
    },
    {
     "name": "stderr",
     "output_type": "stream",
     "text": [
      "\n",
      "100%|██████████| 3/3 [00:02<00:00,  1.18it/s]\u001b[A\n",
      " 73%|███████▎  | 52/71 [01:26<00:53,  2.82s/it]"
     ]
    },
    {
     "name": "stdout",
     "output_type": "stream",
     "text": [
      "PRL\n"
     ]
    },
    {
     "name": "stderr",
     "output_type": "stream",
     "text": [
      "\n",
      "  0%|          | 0/1 [00:00<?, ?it/s]\u001b[A"
     ]
    },
    {
     "name": "stdout",
     "output_type": "stream",
     "text": [
      "C10-0000759-LIC\n"
     ]
    },
    {
     "name": "stderr",
     "output_type": "stream",
     "text": [
      "\n",
      "100%|██████████| 1/1 [00:00<00:00,  1.47it/s]\u001b[A\n",
      " 75%|███████▍  | 53/71 [01:27<00:39,  2.18s/it]"
     ]
    },
    {
     "name": "stdout",
     "output_type": "stream",
     "text": [
      "QR\n"
     ]
    },
    {
     "name": "stderr",
     "output_type": "stream",
     "text": [
      "\n",
      "  0%|          | 0/4 [00:00<?, ?it/s]\u001b[A"
     ]
    },
    {
     "name": "stdout",
     "output_type": "stream",
     "text": [
      "AU-R-000233\n"
     ]
    },
    {
     "name": "stderr",
     "output_type": "stream",
     "text": [
      "\n",
      " 25%|██▌       | 1/4 [00:00<00:02,  1.23it/s]\u001b[A"
     ]
    },
    {
     "name": "stdout",
     "output_type": "stream",
     "text": [
      "AU-R-000346\n"
     ]
    },
    {
     "name": "stderr",
     "output_type": "stream",
     "text": [
      "\n",
      " 50%|█████     | 2/4 [00:01<00:01,  1.33it/s]\u001b[A"
     ]
    },
    {
     "name": "stdout",
     "output_type": "stream",
     "text": [
      "PC-000356\n"
     ]
    },
    {
     "name": "stderr",
     "output_type": "stream",
     "text": [
      "\n",
      " 75%|███████▌  | 3/4 [00:01<00:00,  1.62it/s]\u001b[A"
     ]
    },
    {
     "name": "stdout",
     "output_type": "stream",
     "text": [
      "AU-R-000633\n"
     ]
    },
    {
     "name": "stderr",
     "output_type": "stream",
     "text": [
      "\n",
      "100%|██████████| 4/4 [00:02<00:00,  1.48it/s]\u001b[A\n",
      " 76%|███████▌  | 54/71 [01:29<00:39,  2.33s/it]"
     ]
    },
    {
     "name": "stdout",
     "output_type": "stream",
     "text": [
      "RA\n"
     ]
    },
    {
     "name": "stderr",
     "output_type": "stream",
     "text": [
      "\n",
      "  0%|          | 0/1 [00:00<?, ?it/s]\u001b[A"
     ]
    },
    {
     "name": "stdout",
     "output_type": "stream",
     "text": [
      "C10-0000596-LIC\n"
     ]
    },
    {
     "name": "stderr",
     "output_type": "stream",
     "text": [
      "\n",
      "100%|██████████| 1/1 [00:00<00:00,  1.09it/s]\u001b[A\n",
      " 77%|███████▋  | 55/71 [01:30<00:30,  1.91s/it]"
     ]
    },
    {
     "name": "stdout",
     "output_type": "stream",
     "text": [
      "RGD\n"
     ]
    },
    {
     "name": "stderr",
     "output_type": "stream",
     "text": [
      "\n",
      "  0%|          | 0/1 [00:00<?, ?it/s]\u001b[A"
     ]
    },
    {
     "name": "stdout",
     "output_type": "stream",
     "text": [
      "C9-0000057-LIC\n"
     ]
    },
    {
     "name": "stderr",
     "output_type": "stream",
     "text": [
      "\n",
      "100%|██████████| 1/1 [00:00<00:00,  1.19it/s]\u001b[A\n",
      " 79%|███████▉  | 56/71 [01:31<00:23,  1.59s/it]"
     ]
    },
    {
     "name": "stdout",
     "output_type": "stream",
     "text": [
      "SFV\n"
     ]
    },
    {
     "name": "stderr",
     "output_type": "stream",
     "text": [
      "\n",
      "  0%|          | 0/1 [00:00<?, ?it/s]\u001b[A"
     ]
    },
    {
     "name": "stdout",
     "output_type": "stream",
     "text": [
      "C10-0000041-LIC\n"
     ]
    },
    {
     "name": "stderr",
     "output_type": "stream",
     "text": [
      "\n",
      "100%|██████████| 1/1 [00:00<00:00,  1.03it/s]\u001b[A\n",
      " 80%|████████  | 57/71 [01:32<00:19,  1.40s/it]"
     ]
    },
    {
     "name": "stdout",
     "output_type": "stream",
     "text": [
      "SV\n"
     ]
    },
    {
     "name": "stderr",
     "output_type": "stream",
     "text": [
      "\n",
      "  0%|          | 0/1 [00:00<?, ?it/s]\u001b[A"
     ]
    },
    {
     "name": "stdout",
     "output_type": "stream",
     "text": [
      "C9-0000146-LIC\n"
     ]
    },
    {
     "name": "stderr",
     "output_type": "stream",
     "text": [
      "\n",
      "100%|██████████| 1/1 [00:00<00:00,  1.05it/s]\u001b[A\n",
      " 82%|████████▏ | 58/71 [01:33<00:16,  1.27s/it]"
     ]
    },
    {
     "name": "stdout",
     "output_type": "stream",
     "text": [
      "SLCC\n"
     ]
    },
    {
     "name": "stderr",
     "output_type": "stream",
     "text": [
      "\n",
      "  0%|          | 0/1 [00:00<?, ?it/s]\u001b[A"
     ]
    },
    {
     "name": "stdout",
     "output_type": "stream",
     "text": [
      "C10-0000474-LIC\n"
     ]
    },
    {
     "name": "stderr",
     "output_type": "stream",
     "text": [
      "\n",
      "100%|██████████| 1/1 [00:00<00:00,  1.53it/s]\u001b[A\n",
      " 83%|████████▎ | 59/71 [01:34<00:13,  1.09s/it]"
     ]
    },
    {
     "name": "stdout",
     "output_type": "stream",
     "text": [
      "SO\n"
     ]
    },
    {
     "name": "stderr",
     "output_type": "stream",
     "text": [
      "\n",
      "  0%|          | 0/3 [00:00<?, ?it/s]\u001b[A"
     ]
    },
    {
     "name": "stdout",
     "output_type": "stream",
     "text": [
      "C10-0000271-LIC\n"
     ]
    },
    {
     "name": "stderr",
     "output_type": "stream",
     "text": [
      "\n",
      " 33%|███▎      | 1/3 [00:00<00:01,  1.39it/s]\u001b[A"
     ]
    },
    {
     "name": "stdout",
     "output_type": "stream",
     "text": [
      "C12-0000328-LIC\n"
     ]
    },
    {
     "name": "stderr",
     "output_type": "stream",
     "text": [
      "\n",
      " 67%|██████▋   | 2/3 [00:01<00:00,  1.54it/s]\u001b[A"
     ]
    },
    {
     "name": "stdout",
     "output_type": "stream",
     "text": [
      "C9-0000130-LIC\n"
     ]
    },
    {
     "name": "stderr",
     "output_type": "stream",
     "text": [
      "\n",
      "100%|██████████| 3/3 [00:01<00:00,  1.51it/s]\u001b[A\n",
      " 85%|████████▍ | 60/71 [01:36<00:14,  1.36s/it]"
     ]
    },
    {
     "name": "stdout",
     "output_type": "stream",
     "text": [
      "ST\n"
     ]
    },
    {
     "name": "stderr",
     "output_type": "stream",
     "text": [
      "\n",
      "  0%|          | 0/1 [00:00<?, ?it/s]\u001b[A"
     ]
    },
    {
     "name": "stdout",
     "output_type": "stream",
     "text": [
      "C9-0000323-LIC\n"
     ]
    },
    {
     "name": "stderr",
     "output_type": "stream",
     "text": [
      "\n",
      "100%|██████████| 1/1 [00:00<00:00,  1.50it/s]\u001b[A\n",
      " 86%|████████▌ | 61/71 [01:36<00:11,  1.15s/it]"
     ]
    },
    {
     "name": "stdout",
     "output_type": "stream",
     "text": [
      "DW\n"
     ]
    },
    {
     "name": "stderr",
     "output_type": "stream",
     "text": [
      "\n",
      "  0%|          | 0/1 [00:00<?, ?it/s]\u001b[A"
     ]
    },
    {
     "name": "stdout",
     "output_type": "stream",
     "text": [
      "MR282376\n"
     ]
    },
    {
     "name": "stderr",
     "output_type": "stream",
     "text": [
      "\n",
      "100%|██████████| 1/1 [00:00<00:00,  1.49it/s]\u001b[A\n",
      " 87%|████████▋ | 62/71 [01:37<00:09,  1.01s/it]"
     ]
    },
    {
     "name": "stdout",
     "output_type": "stream",
     "text": [
      "TGL\n"
     ]
    },
    {
     "name": "stderr",
     "output_type": "stream",
     "text": [
      "\n",
      "  0%|          | 0/1 [00:00<?, ?it/s]\u001b[A"
     ]
    },
    {
     "name": "stdout",
     "output_type": "stream",
     "text": [
      "C9-0000412-LIC\n"
     ]
    },
    {
     "name": "stderr",
     "output_type": "stream",
     "text": [
      "\n",
      "100%|██████████| 1/1 [00:00<00:00,  1.59it/s]\u001b[A\n",
      " 89%|████████▊ | 63/71 [01:38<00:07,  1.12it/s]"
     ]
    },
    {
     "name": "stdout",
     "output_type": "stream",
     "text": [
      "TJR\n"
     ]
    },
    {
     "name": "stderr",
     "output_type": "stream",
     "text": [
      "\n",
      "  0%|          | 0/1 [00:00<?, ?it/s]\u001b[A"
     ]
    },
    {
     "name": "stdout",
     "output_type": "stream",
     "text": [
      "C9-0000105-LIC\n"
     ]
    },
    {
     "name": "stderr",
     "output_type": "stream",
     "text": [
      "\n",
      "100%|██████████| 1/1 [00:04<00:00,  4.85s/it]\u001b[A\n",
      " 90%|█████████ | 64/71 [01:42<00:14,  2.08s/it]"
     ]
    },
    {
     "name": "stdout",
     "output_type": "stream",
     "text": [
      "TTS\n"
     ]
    },
    {
     "name": "stderr",
     "output_type": "stream",
     "text": [
      "\n",
      "  0%|          | 0/2 [00:00<?, ?it/s]\u001b[A"
     ]
    },
    {
     "name": "stdout",
     "output_type": "stream",
     "text": [
      "PC-000718\n"
     ]
    },
    {
     "name": "stderr",
     "output_type": "stream",
     "text": [
      "\n",
      " 50%|█████     | 1/2 [00:00<00:00,  1.60it/s]\u001b[A"
     ]
    },
    {
     "name": "stdout",
     "output_type": "stream",
     "text": [
      "AU-R-000546\n"
     ]
    },
    {
     "name": "stderr",
     "output_type": "stream",
     "text": [
      "\n",
      "100%|██████████| 2/2 [00:01<00:00,  1.64it/s]\u001b[A\n",
      " 92%|█████████▏| 65/71 [01:44<00:10,  1.82s/it]"
     ]
    },
    {
     "name": "stdout",
     "output_type": "stream",
     "text": [
      "TT\n"
     ]
    },
    {
     "name": "stderr",
     "output_type": "stream",
     "text": [
      "\n",
      "  0%|          | 0/2 [00:00<?, ?it/s]\u001b[A"
     ]
    },
    {
     "name": "stdout",
     "output_type": "stream",
     "text": [
      "C9-0000551-LIC\n"
     ]
    },
    {
     "name": "stderr",
     "output_type": "stream",
     "text": [
      "\n",
      " 50%|█████     | 1/2 [00:00<00:00,  1.45it/s]\u001b[A"
     ]
    },
    {
     "name": "stdout",
     "output_type": "stream",
     "text": [
      "C9-0000451-LIC\n"
     ]
    },
    {
     "name": "stderr",
     "output_type": "stream",
     "text": [
      "\n",
      "100%|██████████| 2/2 [00:01<00:00,  1.54it/s]\u001b[A\n",
      " 93%|█████████▎| 66/71 [01:45<00:08,  1.67s/it]"
     ]
    },
    {
     "name": "stdout",
     "output_type": "stream",
     "text": [
      "T4L\n"
     ]
    },
    {
     "name": "stderr",
     "output_type": "stream",
     "text": [
      "\n",
      "  0%|          | 0/1 [00:00<?, ?it/s]\u001b[A"
     ]
    },
    {
     "name": "stdout",
     "output_type": "stream",
     "text": [
      "C12-0000302-LIC\n"
     ]
    },
    {
     "name": "stderr",
     "output_type": "stream",
     "text": [
      "\n",
      "100%|██████████| 1/1 [00:00<00:00,  1.32it/s]\u001b[A\n",
      " 94%|█████████▍| 67/71 [01:46<00:05,  1.40s/it]"
     ]
    },
    {
     "name": "stdout",
     "output_type": "stream",
     "text": [
      "TL\n"
     ]
    },
    {
     "name": "stderr",
     "output_type": "stream",
     "text": [
      "\n",
      "  0%|          | 0/19 [00:00<?, ?it/s]\u001b[A"
     ]
    },
    {
     "name": "stdout",
     "output_type": "stream",
     "text": [
      "402-00390\n"
     ]
    },
    {
     "name": "stderr",
     "output_type": "stream",
     "text": [
      "\n",
      "  5%|▌         | 1/19 [00:00<00:11,  1.60it/s]\u001b[A"
     ]
    },
    {
     "name": "stdout",
     "output_type": "stream",
     "text": [
      "402R-00807\n"
     ]
    },
    {
     "name": "stderr",
     "output_type": "stream",
     "text": [
      "\n",
      " 11%|█         | 2/19 [00:01<00:11,  1.52it/s]\u001b[A"
     ]
    },
    {
     "name": "stdout",
     "output_type": "stream",
     "text": [
      "402-00473\n"
     ]
    },
    {
     "name": "stderr",
     "output_type": "stream",
     "text": [
      "\n",
      " 16%|█▌        | 3/19 [00:01<00:10,  1.58it/s]\u001b[A"
     ]
    },
    {
     "name": "stdout",
     "output_type": "stream",
     "text": [
      "402-01201\n"
     ]
    },
    {
     "name": "stderr",
     "output_type": "stream",
     "text": [
      "\n",
      " 21%|██        | 4/19 [00:02<00:09,  1.55it/s]\u001b[A"
     ]
    },
    {
     "name": "stdout",
     "output_type": "stream",
     "text": [
      "402R-00066\n"
     ]
    },
    {
     "name": "stderr",
     "output_type": "stream",
     "text": [
      "\n",
      " 26%|██▋       | 5/19 [00:03<00:09,  1.54it/s]\u001b[A"
     ]
    },
    {
     "name": "stdout",
     "output_type": "stream",
     "text": [
      "402R-00487\n"
     ]
    },
    {
     "name": "stderr",
     "output_type": "stream",
     "text": [
      "\n",
      " 32%|███▏      | 6/19 [00:03<00:07,  1.67it/s]\u001b[A"
     ]
    },
    {
     "name": "stdout",
     "output_type": "stream",
     "text": [
      "402R-00505\n"
     ]
    },
    {
     "name": "stderr",
     "output_type": "stream",
     "text": [
      "\n",
      " 37%|███▋      | 7/19 [00:04<00:06,  1.79it/s]\u001b[A"
     ]
    },
    {
     "name": "stdout",
     "output_type": "stream",
     "text": [
      "402R-00536\n"
     ]
    },
    {
     "name": "stderr",
     "output_type": "stream",
     "text": [
      "\n",
      " 42%|████▏     | 8/19 [00:04<00:06,  1.69it/s]\u001b[A"
     ]
    },
    {
     "name": "stdout",
     "output_type": "stream",
     "text": [
      "402R-00571\n"
     ]
    },
    {
     "name": "stderr",
     "output_type": "stream",
     "text": [
      "\n",
      " 47%|████▋     | 9/19 [00:05<00:05,  1.80it/s]\u001b[A"
     ]
    },
    {
     "name": "stdout",
     "output_type": "stream",
     "text": [
      "402R-00602\n"
     ]
    },
    {
     "name": "stderr",
     "output_type": "stream",
     "text": [
      "\n",
      " 53%|█████▎    | 10/19 [00:06<00:05,  1.67it/s]\u001b[A"
     ]
    },
    {
     "name": "stdout",
     "output_type": "stream",
     "text": [
      "402R-00808\n"
     ]
    },
    {
     "name": "stderr",
     "output_type": "stream",
     "text": [
      "\n",
      " 58%|█████▊    | 11/19 [00:06<00:04,  1.80it/s]\u001b[A"
     ]
    },
    {
     "name": "stdout",
     "output_type": "stream",
     "text": [
      "402-00370\n"
     ]
    },
    {
     "name": "stderr",
     "output_type": "stream",
     "text": [
      "\n",
      " 63%|██████▎   | 12/19 [00:07<00:04,  1.75it/s]\u001b[A"
     ]
    },
    {
     "name": "stdout",
     "output_type": "stream",
     "text": [
      "402-01142\n"
     ]
    },
    {
     "name": "stderr",
     "output_type": "stream",
     "text": [
      "\n",
      " 68%|██████▊   | 13/19 [00:07<00:03,  1.71it/s]\u001b[A"
     ]
    },
    {
     "name": "stdout",
     "output_type": "stream",
     "text": [
      "402R-00041\n"
     ]
    },
    {
     "name": "stderr",
     "output_type": "stream",
     "text": [
      "\n",
      " 74%|███████▎  | 14/19 [00:08<00:03,  1.61it/s]\u001b[A"
     ]
    },
    {
     "name": "stdout",
     "output_type": "stream",
     "text": [
      "402R-00242\n"
     ]
    },
    {
     "name": "stderr",
     "output_type": "stream",
     "text": [
      "\n",
      " 79%|███████▉  | 15/19 [00:08<00:02,  1.76it/s]\u001b[A"
     ]
    },
    {
     "name": "stdout",
     "output_type": "stream",
     "text": [
      "402R-00246\n"
     ]
    },
    {
     "name": "stderr",
     "output_type": "stream",
     "text": [
      "\n",
      " 84%|████████▍ | 16/19 [00:09<00:01,  1.83it/s]\u001b[A"
     ]
    },
    {
     "name": "stdout",
     "output_type": "stream",
     "text": [
      "402R-00362\n"
     ]
    },
    {
     "name": "stderr",
     "output_type": "stream",
     "text": [
      "\n",
      " 89%|████████▉ | 17/19 [00:09<00:01,  1.91it/s]\u001b[A"
     ]
    },
    {
     "name": "stdout",
     "output_type": "stream",
     "text": [
      "402R-00573\n"
     ]
    },
    {
     "name": "stderr",
     "output_type": "stream",
     "text": [
      "\n",
      " 95%|█████████▍| 18/19 [00:10<00:00,  1.75it/s]\u001b[A"
     ]
    },
    {
     "name": "stdout",
     "output_type": "stream",
     "text": [
      "402R-00781\n"
     ]
    },
    {
     "name": "stderr",
     "output_type": "stream",
     "text": [
      "\n",
      "100%|██████████| 19/19 [00:11<00:00,  1.70it/s]\u001b[A\n",
      " 96%|█████████▌| 68/71 [01:57<00:12,  4.33s/it]"
     ]
    },
    {
     "name": "stdout",
     "output_type": "stream",
     "text": [
      "UHHC\n"
     ]
    },
    {
     "name": "stderr",
     "output_type": "stream",
     "text": [
      "\n",
      "  0%|          | 0/2 [00:00<?, ?it/s]\u001b[A"
     ]
    },
    {
     "name": "stdout",
     "output_type": "stream",
     "text": [
      "C10-0000817-LIC\n"
     ]
    },
    {
     "name": "stderr",
     "output_type": "stream",
     "text": [
      "\n",
      " 50%|█████     | 1/2 [00:00<00:00,  1.30it/s]\u001b[A"
     ]
    },
    {
     "name": "stdout",
     "output_type": "stream",
     "text": [
      "C9-0000082-LIC\n"
     ]
    },
    {
     "name": "stderr",
     "output_type": "stream",
     "text": [
      "\n",
      "100%|██████████| 2/2 [00:01<00:00,  1.33it/s]\u001b[A\n",
      " 97%|█████████▋| 69/71 [01:58<00:06,  3.48s/it]"
     ]
    },
    {
     "name": "stdout",
     "output_type": "stream",
     "text": [
      "VS\n"
     ]
    },
    {
     "name": "stderr",
     "output_type": "stream",
     "text": [
      "\n",
      "  0%|          | 0/2 [00:00<?, ?it/s]\u001b[A"
     ]
    },
    {
     "name": "stdout",
     "output_type": "stream",
     "text": [
      "402-00840\n"
     ]
    },
    {
     "name": "stderr",
     "output_type": "stream",
     "text": [
      "\n",
      " 50%|█████     | 1/2 [00:00<00:00,  1.63it/s]\u001b[A"
     ]
    },
    {
     "name": "stdout",
     "output_type": "stream",
     "text": [
      "402R-00545\n"
     ]
    },
    {
     "name": "stderr",
     "output_type": "stream",
     "text": [
      "\n",
      "100%|██████████| 2/2 [00:01<00:00,  1.54it/s]\u001b[A\n",
      " 99%|█████████▊| 70/71 [02:00<00:02,  2.83s/it]"
     ]
    },
    {
     "name": "stdout",
     "output_type": "stream",
     "text": [
      "VOY\n"
     ]
    },
    {
     "name": "stderr",
     "output_type": "stream",
     "text": [
      "\n",
      "  0%|          | 0/3 [00:00<?, ?it/s]\u001b[A"
     ]
    },
    {
     "name": "stdout",
     "output_type": "stream",
     "text": [
      "C12-0000030-LIC\n"
     ]
    },
    {
     "name": "stderr",
     "output_type": "stream",
     "text": [
      "\n",
      " 33%|███▎      | 1/3 [00:00<00:01,  1.39it/s]\u001b[A"
     ]
    },
    {
     "name": "stdout",
     "output_type": "stream",
     "text": [
      "C10-0000802-LIC\n"
     ]
    },
    {
     "name": "stderr",
     "output_type": "stream",
     "text": [
      "\n",
      " 67%|██████▋   | 2/3 [00:01<00:00,  1.45it/s]\u001b[A"
     ]
    },
    {
     "name": "stdout",
     "output_type": "stream",
     "text": [
      "C12-0000159-LIC\n"
     ]
    },
    {
     "name": "stderr",
     "output_type": "stream",
     "text": [
      "\n",
      "100%|██████████| 3/3 [00:01<00:00,  1.53it/s]\u001b[A\n",
      "100%|██████████| 71/71 [02:02<00:00,  1.72s/it]\n"
     ]
    }
   ],
   "source": [
    "b = get_inv_list(list(ca_df_clean['company_identifier']),ca_df_clean)\n",
    "\n",
    "\n"
   ]
  },
  {
   "cell_type": "code",
   "execution_count": 15,
   "id": "ef8d0e85",
   "metadata": {},
   "outputs": [
    {
     "data": {
      "text/plain": [
       "dict_keys(['99HT', 'ALT', 'BS', 'BMC', 'BBF', 'BUD', 'BRC', 'BYN', 'CHO', 'CG', 'CPA', 'CPC', 'CSC', 'CCC', 'CLC', 'CC', 'DWF', 'DCO', 'DL', 'DGG', 'DG', 'EL', 'EMA', 'EMF', 'EMM', 'EMT', 'EH', 'FW', 'GT', 'GLNR', 'GRG', 'GTR', 'GHC', 'HB', 'HS', 'HPCC', 'HC', 'IDC', 'ID', 'KAR', 'KC', 'LEG', 'LBC', 'MSS', 'ML', 'MW', 'MPW', 'MD', 'ND', 'NECC', 'PGM', 'PRP', 'PRL', 'QR', 'RA', 'RGD', 'SFV', 'SV', 'SLCC', 'SO', 'ST', 'DW', 'TGL', 'TJR', 'TTS', 'TT', 'T4L', 'TL', 'UHHC', 'VS', 'VOY'])"
      ]
     },
     "execution_count": 15,
     "metadata": {},
     "output_type": "execute_result"
    }
   ],
   "source": [
    "b.keys()"
   ]
  },
  {
   "cell_type": "code",
   "execution_count": 16,
   "id": "f7b6061c",
   "metadata": {},
   "outputs": [
    {
     "name": "stdout",
     "output_type": "stream",
     "text": [
      "99HT\n",
      "C10-0000279-LIC\n",
      "(721, 25)\n",
      "ALT\n",
      "PC-000310\n",
      "(104, 25)\n",
      "AU-R-000380\n",
      "(569, 25)\n",
      "BS\n",
      "AU-R-000156\n",
      "(440, 25)\n",
      "PC-000185\n",
      "(244, 25)\n",
      "BMC\n",
      "402-00930\n",
      "(658, 25)\n",
      "BBF\n",
      "MR281525\n",
      "(249, 25)\n",
      "BUD\n",
      "C9-0000167-LIC\n",
      "(4838, 25)\n",
      "C9-0000444-LIC\n",
      "(937, 25)\n",
      "C9-0000464-LIC\n",
      "(2232, 25)\n",
      "C9-0000467-LIC\n",
      "(1554, 25)\n",
      "C9-0000399-LIC\n",
      "(4229, 25)\n",
      "BRC\n",
      "C10-0000603-LIC\n",
      "(7023, 25)\n",
      "BYN\n",
      "C10-0000528-LIC\n",
      "(603, 25)\n",
      "CHO\n",
      "AU-R-000575\n",
      "(1292, 25)\n",
      "CG\n",
      "C9-0000157-LIC\n",
      "(9425, 25)\n",
      "CPA\n",
      "C9-0000348-LIC\n",
      "(13040, 25)\n",
      "C10-0000461-LIC\n",
      "(3145, 25)\n",
      "CPC\n",
      "C9-0000056-LIC\n",
      "(1294, 25)\n",
      "CSC\n",
      "C10-0000670-LIC\n",
      "(16407, 25)\n",
      "C10-0000918-LIC\n",
      "(2588, 25)\n",
      "CCC\n",
      "C12-0000087-LIC\n",
      "(23470, 25)\n",
      "CLC\n",
      "C10-0000986-LIC\n",
      "(408, 25)\n",
      "C12-0000318-LIC\n",
      "(231, 25)\n",
      "CC\n",
      "C10-0000758-LIC\n",
      "(3755, 25)\n",
      "DWF\n",
      "402R-00296\n",
      "(729, 25)\n",
      "402R-00804\n",
      "(293, 25)\n",
      "DCO\n",
      "050-10052885D4C\n",
      "(1368, 25)\n",
      "050-10070593E9E\n",
      "(597, 25)\n",
      "DL\n",
      "MR283369\n",
      "(443, 25)\n",
      "DGG\n",
      "C9-0000016-LIC\n",
      "(2105, 25)\n",
      "DG\n",
      "PC-000485\n",
      "(4, 25)\n",
      "AU-R-000287\n",
      "(572, 25)\n",
      "AU-R-000359\n",
      "(741, 25)\n",
      "AU-R-000422\n",
      "(776, 25)\n",
      "AU-R-000470\n",
      "(422, 25)\n",
      "AU-R-000572\n",
      "(377, 25)\n",
      "EL\n",
      "C9-0000370-LIC\n",
      "(313, 25)\n",
      "EMA\n",
      "C10-0000774-LIC\n",
      "(1888, 25)\n",
      "EMF\n",
      "C10-0000939-LIC\n",
      "(1211, 25)\n",
      "EMM\n",
      "C10-0000786-LIC\n",
      "(2637, 25)\n",
      "EMT\n",
      "C10-0000695-LIC\n",
      "(1021, 25)\n",
      "EH\n",
      "MR283073\n",
      "(304, 25)\n",
      "FW\n",
      "402-00558\n",
      "(320, 25)\n",
      "402-00891\n",
      "(464, 25)\n",
      "402R-00017\n",
      "(769, 25)\n",
      "402R-00020\n",
      "(760, 25)\n",
      "402R-00747\n",
      "(386, 25)\n",
      "GT\n",
      "C9-0000170-LIC\n",
      "(636, 25)\n",
      "C9-0000385-LIC\n",
      "(898, 25)\n",
      "GLNR\n",
      "PC-000334\n",
      "(105, 25)\n",
      "PC-000613\n",
      "(106, 25)\n",
      "PC-000722\n",
      "(209, 25)\n",
      "AU-R-000182\n",
      "(185, 25)\n",
      "AU-R-000461\n",
      "(281, 25)\n",
      "AU-R-000559\n",
      "(380, 25)\n",
      "GRG\n",
      "C10-0000169-LIC\n",
      "(2908, 25)\n",
      "C10-0000408-LIC\n",
      "(8747, 25)\n",
      "GTR\n",
      "PC-000225\n",
      "(58, 25)\n",
      "AU-R-000163\n",
      "(554, 25)\n",
      "GHC\n",
      "C10-0000414-LIC\n",
      "(3922, 25)\n",
      "HB\n",
      "C10-0000339-LIC\n",
      "(4453, 25)\n",
      "C10-0000624-LIC\n",
      "(3720, 25)\n",
      "C10-0000301-LIC\n",
      "(483, 25)\n",
      "HS\n",
      "C9-0000441-LIC\n",
      "(197, 25)\n",
      "HPCC\n",
      "C10-0000064-LIC\n",
      "(2349, 25)\n",
      "C10-0000005-LIC\n",
      "(509, 25)\n",
      "HC\n",
      "C9-0000341-LIC\n",
      "(1461, 25)\n",
      "IDC\n",
      "C9-0000320-LIC\n",
      "(3543, 25)\n",
      "ID\n",
      "C9-0000166-LIC\n",
      "(92, 25)\n",
      "KAR\n",
      "402-00693\n",
      "(1508, 25)\n",
      "402R-00744\n",
      "(2001, 25)\n",
      "KC\n",
      "402-00323\n",
      "(290, 25)\n",
      "402-00573\n",
      "(424, 25)\n",
      "402-00664\n",
      "(273, 25)\n",
      "402R-00515\n",
      "(386, 25)\n",
      "402R-00544\n",
      "(987, 25)\n",
      "402R-00900\n",
      "(708, 25)\n",
      "402R-00002\n",
      "(319, 25)\n",
      "402-01146\n",
      "(31, 25)\n",
      "402-00037\n",
      "(149, 25)\n",
      "402R-00035\n",
      "(406, 25)\n",
      "402R-00574\n",
      "(389, 25)\n",
      "LEG\n",
      "PC-000231\n",
      "(1263, 25)\n",
      "PC-000335\n",
      "(1102, 25)\n",
      "AU-R-000260\n",
      "(3050, 25)\n",
      "AU-R-000261\n",
      "(13076, 25)\n",
      "LBC\n",
      "C9-0000154-LIC\n",
      "(254, 25)\n",
      "MSS\n",
      "C10-0000816-LIC\n",
      "(3063, 25)\n",
      "ML\n",
      "C9-0000300-LIC\n",
      "(1347, 25)\n",
      "MW\n",
      "C10-0000332-LIC\n",
      "(5227, 25)\n",
      "MPW\n",
      "C10-0000547-LIC\n",
      "(24737, 25)\n",
      "MD\n",
      "C9-0000247-LIC\n",
      "(1308, 25)\n",
      "ND\n",
      "C9-0000427-LIC\n",
      "(497, 25)\n",
      "NECC\n",
      "MR283416\n",
      "(569, 25)\n",
      "PGM\n",
      "PC-000415\n",
      "(466, 25)\n",
      "PC-000551\n",
      "(126, 25)\n",
      "PC-000725\n",
      "(126, 25)\n",
      "PC-000167\n",
      "(723, 25)\n",
      "PC-000169\n",
      "AU-R-000196\n",
      "(3789, 25)\n",
      "AU-R-000197\n",
      "(1252, 25)\n",
      "AU-R-000198\n",
      "(1019, 25)\n",
      "AU-R-000366\n",
      "(845, 25)\n",
      "AU-R-000506\n",
      "(1792, 25)\n",
      "PC-000160\n",
      "(99, 25)\n",
      "PRP\n",
      "C10-0000155-LIC\n",
      "(1093, 25)\n",
      "C10-0000286-LIC\n",
      "(1577, 25)\n",
      "C10-0000403-LIC\n",
      "(1629, 25)\n",
      "PRL\n",
      "C10-0000759-LIC\n",
      "(479, 25)\n",
      "QR\n",
      "AU-R-000233\n",
      "(880, 25)\n",
      "AU-R-000346\n",
      "(1307, 25)\n",
      "PC-000356\n",
      "AU-R-000633\n",
      "(1555, 25)\n",
      "RA\n",
      "C10-0000596-LIC\n",
      "(6556, 25)\n",
      "RGD\n",
      "C9-0000057-LIC\n",
      "(4559, 25)\n",
      "SFV\n",
      "C10-0000041-LIC\n",
      "(5661, 25)\n",
      "SV\n",
      "C9-0000146-LIC\n",
      "(3395, 25)\n",
      "SLCC\n",
      "C10-0000474-LIC\n",
      "(401, 25)\n",
      "SO\n",
      "C10-0000271-LIC\n",
      "(456, 25)\n",
      "C12-0000328-LIC\n",
      "(130, 25)\n",
      "C9-0000130-LIC\n",
      "(388, 25)\n",
      "ST\n",
      "C9-0000323-LIC\n",
      "(725, 25)\n",
      "DW\n",
      "MR282376\n",
      "(757, 25)\n",
      "TGL\n",
      "C9-0000412-LIC\n",
      "(186, 25)\n",
      "TJR\n",
      "C9-0000105-LIC\n",
      "(69305, 25)\n",
      "TTS\n",
      "PC-000718\n",
      "(36, 25)\n",
      "AU-R-000546\n",
      "(118, 25)\n",
      "TT\n",
      "C9-0000551-LIC\n",
      "(263, 25)\n",
      "C9-0000451-LIC\n",
      "(26, 25)\n",
      "T4L\n",
      "C12-0000302-LIC\n",
      "(1804, 25)\n",
      "TL\n",
      "402-00390\n",
      "(441, 25)\n",
      "402R-00807\n",
      "(367, 25)\n",
      "402-00473\n",
      "(295, 25)\n",
      "402-01201\n",
      "(1248, 25)\n",
      "402R-00066\n",
      "(608, 25)\n",
      "402R-00487\n",
      "402R-00505\n",
      "402R-00536\n",
      "(437, 25)\n",
      "402R-00571\n",
      "402R-00602\n",
      "(989, 25)\n",
      "402R-00808\n",
      "402-00370\n",
      "(335, 25)\n",
      "402-01142\n",
      "(493, 25)\n",
      "402R-00041\n",
      "(822, 25)\n",
      "402R-00242\n",
      "402R-00246\n",
      "402R-00362\n",
      "402R-00573\n",
      "(600, 25)\n",
      "402R-00781\n",
      "(1100, 25)\n",
      "UHHC\n",
      "C10-0000817-LIC\n",
      "(2141, 25)\n",
      "C9-0000082-LIC\n",
      "(1427, 25)\n",
      "VS\n",
      "402-00840\n",
      "(244, 25)\n",
      "402R-00545\n",
      "(786, 25)\n",
      "VOY\n",
      "C12-0000030-LIC\n",
      "(1663, 25)\n",
      "C10-0000802-LIC\n",
      "(720, 25)\n",
      "C12-0000159-LIC\n",
      "(138, 25)\n"
     ]
    }
   ],
   "source": [
    "df_inv = pd.DataFrame()\n",
    "for k in b.keys():\n",
    "    print(k)\n",
    "    for l in b[k].keys():\n",
    "        print(l)\n",
    "        data_inv = b[k][l]\n",
    "        if str(data_inv) == 'nan':\n",
    "            continue\n",
    "        else:\n",
    "            data_inv['company'] = k\n",
    "            data_inv['location'] = l\n",
    "            print(data_inv.shape)\n",
    "            df_inv = df_inv.append(data_inv)\n",
    "df_inv['id'] = list(zip(df_inv.company, df_inv.location))\n",
    "df_inv = df_inv.reset_index(drop = True)"
   ]
  },
  {
   "cell_type": "markdown",
   "id": "4b9ae6c3",
   "metadata": {},
   "source": [
    "## Age distribution by package count"
   ]
  },
  {
   "cell_type": "code",
   "execution_count": 17,
   "id": "f669c4bc",
   "metadata": {},
   "outputs": [],
   "source": [
    "df_clients = [\n",
    "'DL',\n",
    "'DW',\n",
    "'EMA',\n",
    "'EMM',\n",
    "'EMT',\n",
    "'EMF',\n",
    "'ST',\n",
    "'GRG',\n",
    "'MPW',\n",
    "'EL',\n",
    "'VS',\n",
    "'MD',\n",
    "'DWF',\n",
    "'TT',\n",
    "'GHC',\n",
    "'SV',\n",
    "'99HT',\n",
    "'NECC',\n",
    "'LBC',\n",
    "'BYN',\n",
    "'CSC',\n",
    "'CHO',\n",
    "'BBF',\n",
    "'CCC',\n",
    "'PL',\n",
    "'CPA'\n",
    "]"
   ]
  },
  {
   "cell_type": "code",
   "execution_count": 18,
   "id": "aa929ef5",
   "metadata": {},
   "outputs": [],
   "source": [
    "df_inv_df = df_inv[df_inv['company'].isin(df_clients)]"
   ]
  },
  {
   "cell_type": "code",
   "execution_count": 20,
   "id": "16e7c65c",
   "metadata": {},
   "outputs": [],
   "source": [
    "age_package_count = df_inv_df[['id','age_bucket','package_id']].groupby(['id','age_bucket']).count().reset_index()  "
   ]
  },
  {
   "cell_type": "code",
   "execution_count": 21,
   "id": "10048a58",
   "metadata": {},
   "outputs": [],
   "source": [
    "age_package_count['perc'] = age_package_count[['id','package_id']].groupby(['id']).apply(lambda x:100 * x / float(x.sum()))"
   ]
  },
  {
   "cell_type": "code",
   "execution_count": 22,
   "id": "59b87d92",
   "metadata": {},
   "outputs": [],
   "source": [
    "age_package_count.columns = ['id', 'age_bucket', 'count_pkg', 'perc']"
   ]
  },
  {
   "cell_type": "code",
   "execution_count": 23,
   "id": "0d672002",
   "metadata": {},
   "outputs": [
    {
     "data": {
      "text/html": [
       "<div>\n",
       "<style scoped>\n",
       "    .dataframe tbody tr th:only-of-type {\n",
       "        vertical-align: middle;\n",
       "    }\n",
       "\n",
       "    .dataframe tbody tr th {\n",
       "        vertical-align: top;\n",
       "    }\n",
       "\n",
       "    .dataframe thead th {\n",
       "        text-align: right;\n",
       "    }\n",
       "</style>\n",
       "<table border=\"1\" class=\"dataframe\">\n",
       "  <thead>\n",
       "    <tr style=\"text-align: right;\">\n",
       "      <th></th>\n",
       "      <th>id</th>\n",
       "      <th>age_bucket</th>\n",
       "      <th>count_pkg</th>\n",
       "      <th>perc</th>\n",
       "    </tr>\n",
       "  </thead>\n",
       "  <tbody>\n",
       "    <tr>\n",
       "      <th>0</th>\n",
       "      <td>(99HT, C10-0000279-LIC)</td>\n",
       "      <td>0-90</td>\n",
       "      <td>406</td>\n",
       "      <td>56.310680</td>\n",
       "    </tr>\n",
       "    <tr>\n",
       "      <th>1</th>\n",
       "      <td>(99HT, C10-0000279-LIC)</td>\n",
       "      <td>90-9m</td>\n",
       "      <td>144</td>\n",
       "      <td>19.972261</td>\n",
       "    </tr>\n",
       "    <tr>\n",
       "      <th>2</th>\n",
       "      <td>(99HT, C10-0000279-LIC)</td>\n",
       "      <td>9m-12m</td>\n",
       "      <td>65</td>\n",
       "      <td>9.015257</td>\n",
       "    </tr>\n",
       "    <tr>\n",
       "      <th>3</th>\n",
       "      <td>(99HT, C10-0000279-LIC)</td>\n",
       "      <td>&gt;12m</td>\n",
       "      <td>106</td>\n",
       "      <td>14.701803</td>\n",
       "    </tr>\n",
       "    <tr>\n",
       "      <th>4</th>\n",
       "      <td>(BBF, MR281525)</td>\n",
       "      <td>0-90</td>\n",
       "      <td>114</td>\n",
       "      <td>45.783133</td>\n",
       "    </tr>\n",
       "  </tbody>\n",
       "</table>\n",
       "</div>"
      ],
      "text/plain": [
       "                        id age_bucket  count_pkg       perc\n",
       "0  (99HT, C10-0000279-LIC)       0-90        406  56.310680\n",
       "1  (99HT, C10-0000279-LIC)      90-9m        144  19.972261\n",
       "2  (99HT, C10-0000279-LIC)     9m-12m         65   9.015257\n",
       "3  (99HT, C10-0000279-LIC)       >12m        106  14.701803\n",
       "4          (BBF, MR281525)       0-90        114  45.783133"
      ]
     },
     "execution_count": 23,
     "metadata": {},
     "output_type": "execute_result"
    }
   ],
   "source": [
    "age_package_count.head()"
   ]
  },
  {
   "cell_type": "code",
   "execution_count": 24,
   "id": "be23af97",
   "metadata": {},
   "outputs": [],
   "source": [
    "age_90 = age_package_count[age_package_count['age_bucket'] == '0-90']\n",
    "age_909m = age_package_count[age_package_count['age_bucket'] == '90-9m']\n",
    "age_9m12m = age_package_count[age_package_count['age_bucket'] == '9m-12m']\n",
    "age_12m = age_package_count[age_package_count['age_bucket'] == '>12m']"
   ]
  },
  {
   "cell_type": "code",
   "execution_count": 25,
   "id": "e432d7cc",
   "metadata": {},
   "outputs": [],
   "source": [
    "age_ = age_90.merge(age_909m,how = 'outer',on = 'id').\\\n",
    "merge(age_9m12m,how = 'outer',on = 'id').\\\n",
    "merge(age_12m,how = 'outer',on = 'id')"
   ]
  },
  {
   "cell_type": "code",
   "execution_count": 26,
   "id": "cf011bb3",
   "metadata": {},
   "outputs": [],
   "source": [
    "age_.columns = ['id', 'age_bucket_90', 'count_pkg_90', 'perc_90', \n",
    "                     'age_bucket_909m','count_pkg_909m', 'perc_909m',\n",
    "                    'age_bucket_9m12m','count_pkg_9m12m', 'perc_9m12m',\n",
    "                     'age_bucket_12m','count_pkg_12m', 'perc_12m'\n",
    "                    ]"
   ]
  },
  {
   "cell_type": "code",
   "execution_count": 29,
   "id": "94e30bf9",
   "metadata": {},
   "outputs": [],
   "source": [
    "age_['new_fresh'] = age_['perc_90'] + age_['perc_909m']"
   ]
  },
  {
   "cell_type": "code",
   "execution_count": 30,
   "id": "85af6ecb",
   "metadata": {},
   "outputs": [
    {
     "data": {
      "text/html": [
       "<div>\n",
       "<style scoped>\n",
       "    .dataframe tbody tr th:only-of-type {\n",
       "        vertical-align: middle;\n",
       "    }\n",
       "\n",
       "    .dataframe tbody tr th {\n",
       "        vertical-align: top;\n",
       "    }\n",
       "\n",
       "    .dataframe thead th {\n",
       "        text-align: right;\n",
       "    }\n",
       "</style>\n",
       "<table border=\"1\" class=\"dataframe\">\n",
       "  <thead>\n",
       "    <tr style=\"text-align: right;\">\n",
       "      <th></th>\n",
       "      <th>id</th>\n",
       "      <th>age_bucket_90</th>\n",
       "      <th>count_pkg_90</th>\n",
       "      <th>perc_90</th>\n",
       "      <th>age_bucket_909m</th>\n",
       "      <th>count_pkg_909m</th>\n",
       "      <th>perc_909m</th>\n",
       "      <th>age_bucket_9m12m</th>\n",
       "      <th>count_pkg_9m12m</th>\n",
       "      <th>perc_9m12m</th>\n",
       "      <th>age_bucket_12m</th>\n",
       "      <th>count_pkg_12m</th>\n",
       "      <th>perc_12m</th>\n",
       "      <th>new_fresh</th>\n",
       "    </tr>\n",
       "  </thead>\n",
       "  <tbody>\n",
       "    <tr>\n",
       "      <th>0</th>\n",
       "      <td>(99HT, C10-0000279-LIC)</td>\n",
       "      <td>0-90</td>\n",
       "      <td>406</td>\n",
       "      <td>56.310680</td>\n",
       "      <td>90-9m</td>\n",
       "      <td>144</td>\n",
       "      <td>19.972261</td>\n",
       "      <td>9m-12m</td>\n",
       "      <td>65.0</td>\n",
       "      <td>9.015257</td>\n",
       "      <td>&gt;12m</td>\n",
       "      <td>106.0</td>\n",
       "      <td>14.701803</td>\n",
       "      <td>76.282940</td>\n",
       "    </tr>\n",
       "    <tr>\n",
       "      <th>1</th>\n",
       "      <td>(BBF, MR281525)</td>\n",
       "      <td>0-90</td>\n",
       "      <td>114</td>\n",
       "      <td>45.783133</td>\n",
       "      <td>90-9m</td>\n",
       "      <td>113</td>\n",
       "      <td>45.381526</td>\n",
       "      <td>9m-12m</td>\n",
       "      <td>14.0</td>\n",
       "      <td>5.622490</td>\n",
       "      <td>&gt;12m</td>\n",
       "      <td>8.0</td>\n",
       "      <td>3.212851</td>\n",
       "      <td>91.164659</td>\n",
       "    </tr>\n",
       "    <tr>\n",
       "      <th>2</th>\n",
       "      <td>(BYN, C10-0000528-LIC)</td>\n",
       "      <td>0-90</td>\n",
       "      <td>321</td>\n",
       "      <td>53.233831</td>\n",
       "      <td>90-9m</td>\n",
       "      <td>242</td>\n",
       "      <td>40.132670</td>\n",
       "      <td>9m-12m</td>\n",
       "      <td>27.0</td>\n",
       "      <td>4.477612</td>\n",
       "      <td>&gt;12m</td>\n",
       "      <td>13.0</td>\n",
       "      <td>2.155887</td>\n",
       "      <td>93.366501</td>\n",
       "    </tr>\n",
       "    <tr>\n",
       "      <th>3</th>\n",
       "      <td>(CCC, C12-0000087-LIC)</td>\n",
       "      <td>0-90</td>\n",
       "      <td>2107</td>\n",
       "      <td>8.977418</td>\n",
       "      <td>90-9m</td>\n",
       "      <td>4054</td>\n",
       "      <td>17.273115</td>\n",
       "      <td>9m-12m</td>\n",
       "      <td>1663.0</td>\n",
       "      <td>7.085641</td>\n",
       "      <td>&gt;12m</td>\n",
       "      <td>15646.0</td>\n",
       "      <td>66.663826</td>\n",
       "      <td>26.250533</td>\n",
       "    </tr>\n",
       "    <tr>\n",
       "      <th>4</th>\n",
       "      <td>(CHO, AU-R-000575)</td>\n",
       "      <td>0-90</td>\n",
       "      <td>361</td>\n",
       "      <td>27.941176</td>\n",
       "      <td>90-9m</td>\n",
       "      <td>913</td>\n",
       "      <td>70.665635</td>\n",
       "      <td>9m-12m</td>\n",
       "      <td>16.0</td>\n",
       "      <td>1.238390</td>\n",
       "      <td>&gt;12m</td>\n",
       "      <td>2.0</td>\n",
       "      <td>0.154799</td>\n",
       "      <td>98.606811</td>\n",
       "    </tr>\n",
       "  </tbody>\n",
       "</table>\n",
       "</div>"
      ],
      "text/plain": [
       "                        id age_bucket_90  count_pkg_90    perc_90  \\\n",
       "0  (99HT, C10-0000279-LIC)          0-90           406  56.310680   \n",
       "1          (BBF, MR281525)          0-90           114  45.783133   \n",
       "2   (BYN, C10-0000528-LIC)          0-90           321  53.233831   \n",
       "3   (CCC, C12-0000087-LIC)          0-90          2107   8.977418   \n",
       "4       (CHO, AU-R-000575)          0-90           361  27.941176   \n",
       "\n",
       "  age_bucket_909m  count_pkg_909m  perc_909m age_bucket_9m12m  \\\n",
       "0           90-9m             144  19.972261           9m-12m   \n",
       "1           90-9m             113  45.381526           9m-12m   \n",
       "2           90-9m             242  40.132670           9m-12m   \n",
       "3           90-9m            4054  17.273115           9m-12m   \n",
       "4           90-9m             913  70.665635           9m-12m   \n",
       "\n",
       "   count_pkg_9m12m  perc_9m12m age_bucket_12m  count_pkg_12m   perc_12m  \\\n",
       "0             65.0    9.015257           >12m          106.0  14.701803   \n",
       "1             14.0    5.622490           >12m            8.0   3.212851   \n",
       "2             27.0    4.477612           >12m           13.0   2.155887   \n",
       "3           1663.0    7.085641           >12m        15646.0  66.663826   \n",
       "4             16.0    1.238390           >12m            2.0   0.154799   \n",
       "\n",
       "   new_fresh  \n",
       "0  76.282940  \n",
       "1  91.164659  \n",
       "2  93.366501  \n",
       "3  26.250533  \n",
       "4  98.606811  "
      ]
     },
     "execution_count": 30,
     "metadata": {},
     "output_type": "execute_result"
    }
   ],
   "source": [
    "age_.head()"
   ]
  },
  {
   "cell_type": "code",
   "execution_count": 83,
   "id": "fcc86eda",
   "metadata": {},
   "outputs": [],
   "source": [
    "age_.to_csv('df_inv_analysis_pkg.csv')"
   ]
  },
  {
   "cell_type": "markdown",
   "id": "c4d56075",
   "metadata": {},
   "source": [
    "## Inventory valuation"
   ]
  },
  {
   "cell_type": "code",
   "execution_count": 31,
   "id": "3bab6041",
   "metadata": {},
   "outputs": [],
   "source": [
    "def read_df_in(COMPANY_IDENTIFIER,license_numbers):\n",
    "    company_incoming_transfer_packages_query = create_queries.create_company_incoming_transfer_packages_query(\n",
    "    COMPANY_IDENTIFIER,\n",
    "    TRANSFER_PACKAGES_START_DATE,\n",
    "    license_numbers=license_numbers,\n",
    "    )\n",
    "    company_incoming_transfer_packages_dataframe = pd.read_sql_query(company_incoming_transfer_packages_query, engine)\n",
    "    return company_incoming_transfer_packages_dataframe\n"
   ]
  },
  {
   "cell_type": "code",
   "execution_count": 1,
   "id": "7a368c4c",
   "metadata": {},
   "outputs": [],
   "source": [
    "def calculate_inventory_valuation_fresh(\n",
    "    incoming_transfer_df, inventory_df, license_list, today_date,days_low,days_high\n",
    "):\n",
    "    # legal name\n",
    "    legal_name = incoming_transfer_df[\n",
    "        incoming_transfer_df[\"license_number\"].isin(license_list)\n",
    "    ][\"recipient_facility_name\"].values[0]\n",
    "    # process df_in and df_sales\n",
    "    incoming_transfer_df[\"per_unit_incoming\"] = (\n",
    "        incoming_transfer_df[\"shipper_wholesale_price\"]\n",
    "        / incoming_transfer_df[\"shipped_quantity\"]\n",
    "    )\n",
    "    incoming_transfer_df_price = incoming_transfer_df[\n",
    "        incoming_transfer_df[\"shipper_wholesale_price\"].notnull()\n",
    "    ]\n",
    "    # by package id\n",
    "    average_incoming_package_id = incoming_transfer_df_price.groupby([\"package_id\"])[\n",
    "        \"per_unit_incoming\"\n",
    "    ].mean()\n",
    "    df_avg_incoming_price = pd.Series(average_incoming_package_id).to_frame()\n",
    "    df_avg_incoming_price = df_avg_incoming_price.reset_index()\n",
    "    # by product\n",
    "    average_incoming_product = incoming_transfer_df_price.groupby([\"product_name\"])[\n",
    "        \"per_unit_incoming\"\n",
    "    ].mean()\n",
    "    df_avg_product = pd.Series(average_incoming_product).to_frame()\n",
    "    df_avg_product = df_avg_product.reset_index()\n",
    "    df_avg_product.rename(\n",
    "        columns={\"per_unit_incoming\": \"per_unit_product\"}, inplace=True\n",
    "    )\n",
    "    inventory_df = get_valid_inventory_df(inventory_df)\n",
    "\n",
    "    # prepare fresh inventory\n",
    "    inventory_df = inventory_df.reset_index(drop=True)\n",
    "    inventory_df[\"age\"] = [\n",
    "        today_date - inventory_df[\"packaged_date\"][i] for i in range(len(inventory_df))\n",
    "    ]\n",
    "    inventory_df[\"age_int\"] = [\n",
    "        inventory_df[\"age\"][i] / numpy.timedelta64(1, \"D\")\n",
    "        for i in range(len(inventory_df))\n",
    "    ]\n",
    "    inventory_df_fresh = inventory_df[(inventory_df[\"age_int\"] >= days_low)&(inventory_df[\"age_int\"] < days_high)]\n",
    "\n",
    "    # calculate inventory\n",
    "    df_inventory_incoming = pd.merge(\n",
    "        inventory_df_fresh,\n",
    "        df_avg_incoming_price,\n",
    "        left_on=[\"package_id\"],\n",
    "        right_on=[\"package_id\"],\n",
    "        how=\"left\",\n",
    "    )\n",
    "    # left_on=['tx_product_name','tx_unit_of_measure'], right_on=['product_name','shipped_unit_of_measure'], how='left'\n",
    "    df_inventory_incoming.replace([numpy.inf], numpy.nan, inplace=True)\n",
    "    df_inv_null = df_inventory_incoming[\n",
    "        df_inventory_incoming[\"per_unit_incoming\"].isnull()\n",
    "    ]\n",
    "    df_inv_product = pd.merge(\n",
    "        df_inv_null,\n",
    "        df_avg_product,\n",
    "        left_on=[\"product_name\"],\n",
    "        right_on=[\"product_name\"],\n",
    "        how=\"left\",\n",
    "    )\n",
    "    df_inv_product.replace([numpy.inf], numpy.nan, inplace=True)\n",
    "    df_inv_product_price = df_inv_product[df_inv_product[\"per_unit_product\"].notnull()]\n",
    "    df_inv_product_price[\"total_price\"] = (\n",
    "        df_inv_product_price[\"quantity\"] * df_inv_product_price[\"per_unit_product\"]\n",
    "    )\n",
    "\n",
    "    inventory_product_value = df_inv_product_price[\"total_price\"].sum()\n",
    "    df_inventory_incoming[\"total_price\"] = (\n",
    "        df_inventory_incoming[\"quantity\"] * df_inventory_incoming[\"per_unit_incoming\"]\n",
    "    )\n",
    "    inventory_value = df_inventory_incoming[\"total_price\"].sum()\n",
    "    total_inv_value = inventory_product_value + inventory_value\n",
    "    total_inv_value_after_tax = (inventory_product_value + inventory_value) * 1.27\n",
    "    inv_count_product = df_inv_product_price[\"per_unit_product\"].count()\n",
    "    inv_count_incoming = df_inventory_incoming[\"per_unit_incoming\"].count()\n",
    "    inv_count_total = df_inventory_incoming[\"quantity\"].count()\n",
    "    inv_total_incoming = inv_count_product + inv_count_incoming\n",
    "    inventory_coverage = inv_total_incoming / inv_count_total\n",
    "    # prepare data\n",
    "    data = [\n",
    "        [today_date],\n",
    "        [round(total_inv_value, 2)],\n",
    "        [round(total_inv_value_after_tax, 2)],\n",
    "        [inv_total_incoming],\n",
    "        [inv_count_total],\n",
    "        [round(inventory_coverage, 2)],\n",
    "        [license_list],\n",
    "        [legal_name],\n",
    "    ]\n",
    "    df_inventory_license = pd.DataFrame(data).T\n",
    "    df_inventory_license.columns = [\n",
    "        \"date\",\n",
    "        \"value\"+str(days_high),\n",
    "        \"value_after_tax\",\n",
    "        \"total_incoming\",\n",
    "        \"total\",\n",
    "        \"coverage\",\n",
    "        \"license\",\n",
    "        \"legal_name\",\n",
    "    ]\n",
    "    return df_inventory_license, inventory_df"
   ]
  },
  {
   "cell_type": "code",
   "execution_count": 62,
   "id": "f89a9840",
   "metadata": {},
   "outputs": [],
   "source": [
    "def get_inv_val_list(company_list,map_df):\n",
    "    inv_df_list_90 = {}\n",
    "    inv_df_list_9m = {}\n",
    "    inv_df_list_12m = {}\n",
    "    inv_df_list_12m_plus = {}\n",
    "    for c in tqdm(company_list):\n",
    "        inv_list_90 = {}\n",
    "        inv_list_9m = {}\n",
    "        inv_list_12m = {}\n",
    "        inv_list_12m_plus = {}\n",
    "        print(c)\n",
    "        l_list = map_df[map_df['company_identifier'] == c]['lic_list'].to_list()[0]\n",
    "        for l in tqdm(l_list):\n",
    "            print(l)\n",
    "            df_in = read_df_in([c],[l])\n",
    "            df_inv = read_inv_data([c],[l])\n",
    "            if (df_inv.shape[0] == 0) or df_in.shape[0] == 0:\n",
    "                inv_list_90[l] = numpy.nan\n",
    "                inv_list_9m[l] = numpy.nan\n",
    "                inv_list_12m[l] = numpy.nan\n",
    "                inv_list_12m_plus[l] = numpy.nan\n",
    "                continue\n",
    "            else:\n",
    "                inv_90 = client_surveillance_jupyter.calculate_inventory_valuation_fresh(df_in,df_inv,[l],today,0,90)[0]\n",
    "                inv_9m = client_surveillance_jupyter.calculate_inventory_valuation_fresh(df_in,df_inv,[l],today,90,270)[0]\n",
    "                inv_12m = client_surveillance_jupyter.calculate_inventory_valuation_fresh(df_in,df_inv,[l],today,270,365)[0]\n",
    "                inv_12m_plus = client_surveillance_jupyter.calculate_inventory_valuation_fresh(df_in,df_inv,[l],today,365,10000)[0]\n",
    "                inv_list_90[l] = inv_90\n",
    "                inv_list_9m[l] = inv_9m\n",
    "                inv_list_12m[l] = inv_12m\n",
    "                inv_list_12m_plus[l] = inv_12m_plus\n",
    "        inv_df_list_90[c] =  inv_list_90\n",
    "        inv_df_list_9m[c] =  inv_list_9m\n",
    "        inv_df_list_12m[c] =  inv_list_12m\n",
    "        inv_df_list_12m_plus[c] =  inv_list_12m_plus\n",
    "    return inv_df_list_90,inv_df_list_9m,inv_df_list_12m,inv_df_list_12m_plus\n",
    "\n",
    "\n"
   ]
  },
  {
   "cell_type": "code",
   "execution_count": 63,
   "id": "65a5e77c",
   "metadata": {},
   "outputs": [
    {
     "name": "stderr",
     "output_type": "stream",
     "text": [
      "\r",
      "  0%|          | 0/71 [00:00<?, ?it/s]"
     ]
    },
    {
     "name": "stdout",
     "output_type": "stream",
     "text": [
      "99HT\n"
     ]
    },
    {
     "name": "stderr",
     "output_type": "stream",
     "text": [
      "\n",
      "  0%|          | 0/1 [00:00<?, ?it/s]\u001b[A"
     ]
    },
    {
     "name": "stdout",
     "output_type": "stream",
     "text": [
      "C10-0000279-LIC\n"
     ]
    },
    {
     "name": "stderr",
     "output_type": "stream",
     "text": [
      "\n",
      "100%|██████████| 1/1 [00:01<00:00,  1.85s/it]\u001b[A\n",
      "  1%|▏         | 1/71 [00:01<02:09,  1.85s/it]"
     ]
    },
    {
     "name": "stdout",
     "output_type": "stream",
     "text": [
      "ALT\n"
     ]
    },
    {
     "name": "stderr",
     "output_type": "stream",
     "text": [
      "\n",
      "  0%|          | 0/2 [00:00<?, ?it/s]\u001b[A"
     ]
    },
    {
     "name": "stdout",
     "output_type": "stream",
     "text": [
      "PC-000310\n"
     ]
    },
    {
     "name": "stderr",
     "output_type": "stream",
     "text": [
      "\n",
      " 50%|█████     | 1/2 [00:01<00:01,  1.40s/it]\u001b[A"
     ]
    },
    {
     "name": "stdout",
     "output_type": "stream",
     "text": [
      "AU-R-000380\n"
     ]
    },
    {
     "name": "stderr",
     "output_type": "stream",
     "text": [
      "\n",
      "100%|██████████| 2/2 [00:02<00:00,  1.50s/it]\u001b[A\n",
      "  3%|▎         | 2/71 [00:04<02:54,  2.53s/it]"
     ]
    },
    {
     "name": "stdout",
     "output_type": "stream",
     "text": [
      "BS\n"
     ]
    },
    {
     "name": "stderr",
     "output_type": "stream",
     "text": [
      "\n",
      "  0%|          | 0/2 [00:00<?, ?it/s]\u001b[A"
     ]
    },
    {
     "name": "stdout",
     "output_type": "stream",
     "text": [
      "AU-R-000156\n"
     ]
    },
    {
     "name": "stderr",
     "output_type": "stream",
     "text": [
      "\n",
      " 50%|█████     | 1/2 [00:01<00:01,  1.54s/it]\u001b[A"
     ]
    },
    {
     "name": "stdout",
     "output_type": "stream",
     "text": [
      "PC-000185\n"
     ]
    },
    {
     "name": "stderr",
     "output_type": "stream",
     "text": [
      "\n",
      "100%|██████████| 2/2 [00:03<00:00,  1.50s/it]\u001b[A\n",
      "  4%|▍         | 3/71 [00:07<03:06,  2.75s/it]"
     ]
    },
    {
     "name": "stdout",
     "output_type": "stream",
     "text": [
      "BMC\n"
     ]
    },
    {
     "name": "stderr",
     "output_type": "stream",
     "text": [
      "\n",
      "  0%|          | 0/1 [00:00<?, ?it/s]\u001b[A"
     ]
    },
    {
     "name": "stdout",
     "output_type": "stream",
     "text": [
      "402-00930\n"
     ]
    },
    {
     "name": "stderr",
     "output_type": "stream",
     "text": [
      "\n",
      "100%|██████████| 1/1 [00:01<00:00,  1.55s/it]\u001b[A\n",
      "  6%|▌         | 4/71 [00:09<02:32,  2.28s/it]"
     ]
    },
    {
     "name": "stdout",
     "output_type": "stream",
     "text": [
      "BBF\n"
     ]
    },
    {
     "name": "stderr",
     "output_type": "stream",
     "text": [
      "\n",
      "  0%|          | 0/1 [00:00<?, ?it/s]\u001b[A"
     ]
    },
    {
     "name": "stdout",
     "output_type": "stream",
     "text": [
      "MR281525\n"
     ]
    },
    {
     "name": "stderr",
     "output_type": "stream",
     "text": [
      "\n",
      "100%|██████████| 1/1 [00:01<00:00,  1.45s/it]\u001b[A\n",
      "  7%|▋         | 5/71 [00:10<02:10,  1.98s/it]"
     ]
    },
    {
     "name": "stdout",
     "output_type": "stream",
     "text": [
      "BUD\n"
     ]
    },
    {
     "name": "stderr",
     "output_type": "stream",
     "text": [
      "\n",
      "  0%|          | 0/5 [00:00<?, ?it/s]\u001b[A"
     ]
    },
    {
     "name": "stdout",
     "output_type": "stream",
     "text": [
      "C9-0000167-LIC\n"
     ]
    },
    {
     "name": "stderr",
     "output_type": "stream",
     "text": [
      "\n",
      " 20%|██        | 1/5 [00:01<00:07,  1.90s/it]\u001b[A"
     ]
    },
    {
     "name": "stdout",
     "output_type": "stream",
     "text": [
      "C9-0000444-LIC\n"
     ]
    },
    {
     "name": "stderr",
     "output_type": "stream",
     "text": [
      "\n",
      " 40%|████      | 2/5 [00:03<00:04,  1.65s/it]\u001b[A"
     ]
    },
    {
     "name": "stdout",
     "output_type": "stream",
     "text": [
      "C9-0000464-LIC\n"
     ]
    },
    {
     "name": "stderr",
     "output_type": "stream",
     "text": [
      "\n",
      " 60%|██████    | 3/5 [00:04<00:03,  1.63s/it]\u001b[A"
     ]
    },
    {
     "name": "stdout",
     "output_type": "stream",
     "text": [
      "C9-0000467-LIC\n"
     ]
    },
    {
     "name": "stderr",
     "output_type": "stream",
     "text": [
      "\n",
      " 80%|████████  | 4/5 [00:06<00:01,  1.58s/it]\u001b[A"
     ]
    },
    {
     "name": "stdout",
     "output_type": "stream",
     "text": [
      "C9-0000399-LIC\n"
     ]
    },
    {
     "name": "stderr",
     "output_type": "stream",
     "text": [
      "\n",
      "100%|██████████| 5/5 [00:08<00:00,  1.72s/it]\u001b[A\n",
      "  8%|▊         | 6/71 [00:19<04:34,  4.23s/it]"
     ]
    },
    {
     "name": "stdout",
     "output_type": "stream",
     "text": [
      "BRC\n"
     ]
    },
    {
     "name": "stderr",
     "output_type": "stream",
     "text": [
      "\n",
      "  0%|          | 0/1 [00:00<?, ?it/s]\u001b[A"
     ]
    },
    {
     "name": "stdout",
     "output_type": "stream",
     "text": [
      "C10-0000603-LIC\n"
     ]
    },
    {
     "name": "stderr",
     "output_type": "stream",
     "text": [
      "\n",
      "100%|██████████| 1/1 [00:02<00:00,  2.07s/it]\u001b[A\n",
      " 10%|▉         | 7/71 [00:21<03:45,  3.52s/it]"
     ]
    },
    {
     "name": "stdout",
     "output_type": "stream",
     "text": [
      "BYN\n"
     ]
    },
    {
     "name": "stderr",
     "output_type": "stream",
     "text": [
      "\n",
      "  0%|          | 0/1 [00:00<?, ?it/s]\u001b[A"
     ]
    },
    {
     "name": "stdout",
     "output_type": "stream",
     "text": [
      "C10-0000528-LIC\n"
     ]
    },
    {
     "name": "stderr",
     "output_type": "stream",
     "text": [
      "\n",
      "100%|██████████| 1/1 [00:01<00:00,  1.69s/it]\u001b[A\n",
      " 11%|█▏        | 8/71 [00:23<03:05,  2.94s/it]"
     ]
    },
    {
     "name": "stdout",
     "output_type": "stream",
     "text": [
      "CHO\n"
     ]
    },
    {
     "name": "stderr",
     "output_type": "stream",
     "text": [
      "\n",
      "  0%|          | 0/1 [00:00<?, ?it/s]\u001b[A"
     ]
    },
    {
     "name": "stdout",
     "output_type": "stream",
     "text": [
      "AU-R-000575\n"
     ]
    },
    {
     "name": "stderr",
     "output_type": "stream",
     "text": [
      "\n",
      "100%|██████████| 1/1 [00:01<00:00,  1.54s/it]\u001b[A\n",
      " 13%|█▎        | 9/71 [00:24<02:35,  2.50s/it]"
     ]
    },
    {
     "name": "stdout",
     "output_type": "stream",
     "text": [
      "CG\n"
     ]
    },
    {
     "name": "stderr",
     "output_type": "stream",
     "text": [
      "\n",
      "  0%|          | 0/1 [00:00<?, ?it/s]\u001b[A"
     ]
    },
    {
     "name": "stdout",
     "output_type": "stream",
     "text": [
      "C9-0000157-LIC\n"
     ]
    },
    {
     "name": "stderr",
     "output_type": "stream",
     "text": [
      "\n",
      "100%|██████████| 1/1 [00:02<00:00,  2.70s/it]\u001b[A\n",
      " 14%|█▍        | 10/71 [00:27<02:36,  2.56s/it]"
     ]
    },
    {
     "name": "stdout",
     "output_type": "stream",
     "text": [
      "CPA\n"
     ]
    },
    {
     "name": "stderr",
     "output_type": "stream",
     "text": [
      "\n",
      "  0%|          | 0/2 [00:00<?, ?it/s]\u001b[A"
     ]
    },
    {
     "name": "stdout",
     "output_type": "stream",
     "text": [
      "C9-0000348-LIC\n"
     ]
    },
    {
     "name": "stderr",
     "output_type": "stream",
     "text": [
      "\n",
      " 50%|█████     | 1/2 [00:03<00:03,  3.61s/it]\u001b[A"
     ]
    },
    {
     "name": "stdout",
     "output_type": "stream",
     "text": [
      "C10-0000461-LIC\n"
     ]
    },
    {
     "name": "stderr",
     "output_type": "stream",
     "text": [
      "\n",
      "100%|██████████| 2/2 [00:06<00:00,  3.30s/it]\u001b[A\n",
      " 15%|█▌        | 11/71 [00:34<03:48,  3.80s/it]"
     ]
    },
    {
     "name": "stdout",
     "output_type": "stream",
     "text": [
      "CPC\n"
     ]
    },
    {
     "name": "stderr",
     "output_type": "stream",
     "text": [
      "\n",
      "  0%|          | 0/1 [00:00<?, ?it/s]\u001b[A"
     ]
    },
    {
     "name": "stdout",
     "output_type": "stream",
     "text": [
      "C9-0000056-LIC\n"
     ]
    },
    {
     "name": "stderr",
     "output_type": "stream",
     "text": [
      "\n",
      "100%|██████████| 1/1 [00:01<00:00,  1.56s/it]\u001b[A\n",
      " 17%|█▋        | 12/71 [00:35<03:04,  3.12s/it]"
     ]
    },
    {
     "name": "stdout",
     "output_type": "stream",
     "text": [
      "CSC\n"
     ]
    },
    {
     "name": "stderr",
     "output_type": "stream",
     "text": [
      "\n",
      "  0%|          | 0/2 [00:00<?, ?it/s]\u001b[A"
     ]
    },
    {
     "name": "stdout",
     "output_type": "stream",
     "text": [
      "C10-0000670-LIC\n"
     ]
    },
    {
     "name": "stderr",
     "output_type": "stream",
     "text": [
      "\n",
      " 50%|█████     | 1/2 [00:03<00:03,  3.76s/it]\u001b[A"
     ]
    },
    {
     "name": "stdout",
     "output_type": "stream",
     "text": [
      "C10-0000918-LIC\n"
     ]
    },
    {
     "name": "stderr",
     "output_type": "stream",
     "text": [
      "\n",
      "100%|██████████| 2/2 [00:05<00:00,  2.72s/it]\u001b[A\n",
      " 18%|█▊        | 13/71 [00:41<03:41,  3.82s/it]"
     ]
    },
    {
     "name": "stdout",
     "output_type": "stream",
     "text": [
      "CCC\n"
     ]
    },
    {
     "name": "stderr",
     "output_type": "stream",
     "text": [
      "\n",
      "  0%|          | 0/1 [00:00<?, ?it/s]\u001b[A"
     ]
    },
    {
     "name": "stdout",
     "output_type": "stream",
     "text": [
      "C12-0000087-LIC\n"
     ]
    },
    {
     "name": "stderr",
     "output_type": "stream",
     "text": [
      "\n",
      "100%|██████████| 1/1 [00:05<00:00,  5.03s/it]\u001b[A\n",
      " 20%|█▉        | 14/71 [00:46<03:58,  4.19s/it]"
     ]
    },
    {
     "name": "stdout",
     "output_type": "stream",
     "text": [
      "CLC\n"
     ]
    },
    {
     "name": "stderr",
     "output_type": "stream",
     "text": [
      "\n",
      "  0%|          | 0/2 [00:00<?, ?it/s]\u001b[A"
     ]
    },
    {
     "name": "stdout",
     "output_type": "stream",
     "text": [
      "C10-0000986-LIC\n"
     ]
    },
    {
     "name": "stderr",
     "output_type": "stream",
     "text": [
      "\n",
      " 50%|█████     | 1/2 [00:01<00:01,  1.22s/it]\u001b[A"
     ]
    },
    {
     "name": "stdout",
     "output_type": "stream",
     "text": [
      "C12-0000318-LIC\n"
     ]
    },
    {
     "name": "stderr",
     "output_type": "stream",
     "text": [
      "\n",
      "100%|██████████| 2/2 [00:03<00:00,  1.90s/it]\u001b[A\n",
      " 21%|██        | 15/71 [00:49<03:47,  4.07s/it]"
     ]
    },
    {
     "name": "stdout",
     "output_type": "stream",
     "text": [
      "CC\n"
     ]
    },
    {
     "name": "stderr",
     "output_type": "stream",
     "text": [
      "\n",
      "  0%|          | 0/1 [00:00<?, ?it/s]\u001b[A"
     ]
    },
    {
     "name": "stdout",
     "output_type": "stream",
     "text": [
      "C10-0000758-LIC\n"
     ]
    },
    {
     "name": "stderr",
     "output_type": "stream",
     "text": [
      "\n",
      "100%|██████████| 1/1 [00:04<00:00,  4.48s/it]\u001b[A\n",
      " 23%|██▎       | 16/71 [00:54<03:50,  4.19s/it]"
     ]
    },
    {
     "name": "stdout",
     "output_type": "stream",
     "text": [
      "DWF\n"
     ]
    },
    {
     "name": "stderr",
     "output_type": "stream",
     "text": [
      "\n",
      "  0%|          | 0/2 [00:00<?, ?it/s]\u001b[A"
     ]
    },
    {
     "name": "stdout",
     "output_type": "stream",
     "text": [
      "402R-00296\n"
     ]
    },
    {
     "name": "stderr",
     "output_type": "stream",
     "text": [
      "\n",
      " 50%|█████     | 1/2 [00:04<00:04,  4.98s/it]\u001b[A"
     ]
    },
    {
     "name": "stdout",
     "output_type": "stream",
     "text": [
      "402R-00804\n"
     ]
    },
    {
     "name": "stderr",
     "output_type": "stream",
     "text": [
      "\n",
      "100%|██████████| 2/2 [00:08<00:00,  4.12s/it]\u001b[A\n",
      " 24%|██▍       | 17/71 [01:02<04:52,  5.41s/it]"
     ]
    },
    {
     "name": "stdout",
     "output_type": "stream",
     "text": [
      "DCO\n"
     ]
    },
    {
     "name": "stderr",
     "output_type": "stream",
     "text": [
      "\n",
      "  0%|          | 0/2 [00:00<?, ?it/s]\u001b[A"
     ]
    },
    {
     "name": "stdout",
     "output_type": "stream",
     "text": [
      "050-10052885D4C\n"
     ]
    },
    {
     "name": "stderr",
     "output_type": "stream",
     "text": [
      "\n",
      " 50%|█████     | 1/2 [00:04<00:04,  4.79s/it]\u001b[A"
     ]
    },
    {
     "name": "stdout",
     "output_type": "stream",
     "text": [
      "050-10070593E9E\n"
     ]
    },
    {
     "name": "stderr",
     "output_type": "stream",
     "text": [
      "\n",
      "100%|██████████| 2/2 [00:08<00:00,  4.36s/it]\u001b[A\n",
      " 25%|██▌       | 18/71 [01:11<05:39,  6.41s/it]"
     ]
    },
    {
     "name": "stdout",
     "output_type": "stream",
     "text": [
      "DL\n"
     ]
    },
    {
     "name": "stderr",
     "output_type": "stream",
     "text": [
      "\n",
      "  0%|          | 0/1 [00:00<?, ?it/s]\u001b[A"
     ]
    },
    {
     "name": "stdout",
     "output_type": "stream",
     "text": [
      "MR283369\n"
     ]
    },
    {
     "name": "stderr",
     "output_type": "stream",
     "text": [
      "\n",
      "100%|██████████| 1/1 [00:03<00:00,  3.62s/it]\u001b[A\n",
      " 27%|██▋       | 19/71 [01:14<04:49,  5.57s/it]"
     ]
    },
    {
     "name": "stdout",
     "output_type": "stream",
     "text": [
      "DGG\n"
     ]
    },
    {
     "name": "stderr",
     "output_type": "stream",
     "text": [
      "\n",
      "  0%|          | 0/1 [00:00<?, ?it/s]\u001b[A"
     ]
    },
    {
     "name": "stdout",
     "output_type": "stream",
     "text": [
      "C9-0000016-LIC\n"
     ]
    },
    {
     "name": "stderr",
     "output_type": "stream",
     "text": [
      "\n",
      "100%|██████████| 1/1 [00:04<00:00,  4.45s/it]\u001b[A\n",
      " 28%|██▊       | 20/71 [01:19<04:26,  5.23s/it]"
     ]
    },
    {
     "name": "stdout",
     "output_type": "stream",
     "text": [
      "DG\n"
     ]
    },
    {
     "name": "stderr",
     "output_type": "stream",
     "text": [
      "\n",
      "  0%|          | 0/6 [00:00<?, ?it/s]\u001b[A"
     ]
    },
    {
     "name": "stdout",
     "output_type": "stream",
     "text": [
      "PC-000485\n"
     ]
    },
    {
     "name": "stderr",
     "output_type": "stream",
     "text": [
      "\n",
      " 17%|█▋        | 1/6 [00:02<00:12,  2.46s/it]\u001b[A"
     ]
    },
    {
     "name": "stdout",
     "output_type": "stream",
     "text": [
      "AU-R-000287\n"
     ]
    },
    {
     "name": "stderr",
     "output_type": "stream",
     "text": [
      "\n",
      " 33%|███▎      | 2/6 [00:05<00:11,  2.97s/it]\u001b[A"
     ]
    },
    {
     "name": "stdout",
     "output_type": "stream",
     "text": [
      "AU-R-000359\n"
     ]
    },
    {
     "name": "stderr",
     "output_type": "stream",
     "text": [
      "\n",
      " 50%|█████     | 3/6 [00:09<00:09,  3.23s/it]\u001b[A"
     ]
    },
    {
     "name": "stdout",
     "output_type": "stream",
     "text": [
      "AU-R-000422\n"
     ]
    },
    {
     "name": "stderr",
     "output_type": "stream",
     "text": [
      "\n",
      " 67%|██████▋   | 4/6 [00:12<00:06,  3.36s/it]\u001b[A"
     ]
    },
    {
     "name": "stdout",
     "output_type": "stream",
     "text": [
      "AU-R-000470\n"
     ]
    },
    {
     "name": "stderr",
     "output_type": "stream",
     "text": [
      "\n",
      " 83%|████████▎ | 5/6 [00:16<00:03,  3.32s/it]\u001b[A"
     ]
    },
    {
     "name": "stdout",
     "output_type": "stream",
     "text": [
      "AU-R-000572\n"
     ]
    },
    {
     "name": "stderr",
     "output_type": "stream",
     "text": [
      "\n",
      "100%|██████████| 6/6 [00:19<00:00,  3.26s/it]\u001b[A\n",
      " 30%|██▉       | 21/71 [01:38<07:57,  9.54s/it]"
     ]
    },
    {
     "name": "stdout",
     "output_type": "stream",
     "text": [
      "EL\n"
     ]
    },
    {
     "name": "stderr",
     "output_type": "stream",
     "text": [
      "\n",
      "  0%|          | 0/1 [00:00<?, ?it/s]\u001b[A"
     ]
    },
    {
     "name": "stdout",
     "output_type": "stream",
     "text": [
      "C9-0000370-LIC\n"
     ]
    },
    {
     "name": "stderr",
     "output_type": "stream",
     "text": [
      "\n",
      "100%|██████████| 1/1 [00:03<00:00,  3.59s/it]\u001b[A\n",
      " 31%|███       | 22/71 [01:42<06:19,  7.75s/it]"
     ]
    },
    {
     "name": "stdout",
     "output_type": "stream",
     "text": [
      "EMA\n"
     ]
    },
    {
     "name": "stderr",
     "output_type": "stream",
     "text": [
      "\n",
      "  0%|          | 0/1 [00:00<?, ?it/s]\u001b[A"
     ]
    },
    {
     "name": "stdout",
     "output_type": "stream",
     "text": [
      "C10-0000774-LIC\n"
     ]
    },
    {
     "name": "stderr",
     "output_type": "stream",
     "text": [
      "\n",
      "100%|██████████| 1/1 [00:04<00:00,  4.78s/it]\u001b[A\n",
      " 32%|███▏      | 23/71 [01:47<05:29,  6.86s/it]"
     ]
    },
    {
     "name": "stdout",
     "output_type": "stream",
     "text": [
      "EMF\n"
     ]
    },
    {
     "name": "stderr",
     "output_type": "stream",
     "text": [
      "\n",
      "  0%|          | 0/1 [00:00<?, ?it/s]\u001b[A"
     ]
    },
    {
     "name": "stdout",
     "output_type": "stream",
     "text": [
      "C10-0000939-LIC\n"
     ]
    },
    {
     "name": "stderr",
     "output_type": "stream",
     "text": [
      "\n",
      "100%|██████████| 1/1 [00:03<00:00,  3.90s/it]\u001b[A\n",
      " 34%|███▍      | 24/71 [01:51<04:40,  5.98s/it]"
     ]
    },
    {
     "name": "stdout",
     "output_type": "stream",
     "text": [
      "EMM\n"
     ]
    },
    {
     "name": "stderr",
     "output_type": "stream",
     "text": [
      "\n",
      "  0%|          | 0/1 [00:00<?, ?it/s]\u001b[A"
     ]
    },
    {
     "name": "stdout",
     "output_type": "stream",
     "text": [
      "C10-0000786-LIC\n"
     ]
    },
    {
     "name": "stderr",
     "output_type": "stream",
     "text": [
      "\n",
      "100%|██████████| 1/1 [00:04<00:00,  4.79s/it]\u001b[A\n",
      " 35%|███▌      | 25/71 [01:56<04:18,  5.62s/it]"
     ]
    },
    {
     "name": "stdout",
     "output_type": "stream",
     "text": [
      "EMT\n"
     ]
    },
    {
     "name": "stderr",
     "output_type": "stream",
     "text": [
      "\n",
      "  0%|          | 0/1 [00:00<?, ?it/s]\u001b[A"
     ]
    },
    {
     "name": "stdout",
     "output_type": "stream",
     "text": [
      "C10-0000695-LIC\n"
     ]
    },
    {
     "name": "stderr",
     "output_type": "stream",
     "text": [
      "\n",
      "100%|██████████| 1/1 [00:04<00:00,  4.87s/it]\u001b[A\n",
      " 37%|███▋      | 26/71 [02:00<04:02,  5.40s/it]"
     ]
    },
    {
     "name": "stdout",
     "output_type": "stream",
     "text": [
      "EH\n"
     ]
    },
    {
     "name": "stderr",
     "output_type": "stream",
     "text": [
      "\n",
      "  0%|          | 0/1 [00:00<?, ?it/s]\u001b[A"
     ]
    },
    {
     "name": "stdout",
     "output_type": "stream",
     "text": [
      "MR283073\n"
     ]
    },
    {
     "name": "stderr",
     "output_type": "stream",
     "text": [
      "\n",
      "100%|██████████| 1/1 [00:02<00:00,  2.44s/it]\u001b[A\n",
      " 38%|███▊      | 27/71 [02:03<03:18,  4.51s/it]"
     ]
    },
    {
     "name": "stdout",
     "output_type": "stream",
     "text": [
      "FW\n"
     ]
    },
    {
     "name": "stderr",
     "output_type": "stream",
     "text": [
      "\n",
      "  0%|          | 0/5 [00:00<?, ?it/s]\u001b[A"
     ]
    },
    {
     "name": "stdout",
     "output_type": "stream",
     "text": [
      "402-00558\n"
     ]
    },
    {
     "name": "stderr",
     "output_type": "stream",
     "text": [
      "\n",
      " 20%|██        | 1/5 [00:03<00:13,  3.50s/it]\u001b[A"
     ]
    },
    {
     "name": "stdout",
     "output_type": "stream",
     "text": [
      "402-00891\n"
     ]
    },
    {
     "name": "stderr",
     "output_type": "stream",
     "text": [
      "\n",
      " 40%|████      | 2/5 [00:07<00:11,  3.80s/it]\u001b[A"
     ]
    },
    {
     "name": "stdout",
     "output_type": "stream",
     "text": [
      "402R-00017\n"
     ]
    },
    {
     "name": "stderr",
     "output_type": "stream",
     "text": [
      "\n",
      " 60%|██████    | 3/5 [00:12<00:08,  4.23s/it]\u001b[A"
     ]
    },
    {
     "name": "stdout",
     "output_type": "stream",
     "text": [
      "402R-00020\n"
     ]
    },
    {
     "name": "stderr",
     "output_type": "stream",
     "text": [
      "\n",
      " 80%|████████  | 4/5 [00:17<00:04,  4.62s/it]\u001b[A"
     ]
    },
    {
     "name": "stdout",
     "output_type": "stream",
     "text": [
      "402R-00747\n"
     ]
    },
    {
     "name": "stderr",
     "output_type": "stream",
     "text": [
      "\n",
      "100%|██████████| 5/5 [00:21<00:00,  4.33s/it]\u001b[A\n",
      " 39%|███▉      | 28/71 [02:25<06:54,  9.65s/it]"
     ]
    },
    {
     "name": "stdout",
     "output_type": "stream",
     "text": [
      "GT\n"
     ]
    },
    {
     "name": "stderr",
     "output_type": "stream",
     "text": [
      "\n",
      "  0%|          | 0/2 [00:00<?, ?it/s]\u001b[A"
     ]
    },
    {
     "name": "stdout",
     "output_type": "stream",
     "text": [
      "C9-0000170-LIC\n"
     ]
    },
    {
     "name": "stderr",
     "output_type": "stream",
     "text": [
      "\n",
      " 50%|█████     | 1/2 [00:03<00:03,  3.47s/it]\u001b[A"
     ]
    },
    {
     "name": "stdout",
     "output_type": "stream",
     "text": [
      "C9-0000385-LIC\n"
     ]
    },
    {
     "name": "stderr",
     "output_type": "stream",
     "text": [
      "\n",
      "100%|██████████| 2/2 [00:07<00:00,  3.70s/it]\u001b[A\n",
      " 41%|████      | 29/71 [02:32<06:16,  8.97s/it]"
     ]
    },
    {
     "name": "stdout",
     "output_type": "stream",
     "text": [
      "GLNR\n"
     ]
    },
    {
     "name": "stderr",
     "output_type": "stream",
     "text": [
      "\n",
      "  0%|          | 0/6 [00:00<?, ?it/s]\u001b[A"
     ]
    },
    {
     "name": "stdout",
     "output_type": "stream",
     "text": [
      "PC-000334\n"
     ]
    },
    {
     "name": "stderr",
     "output_type": "stream",
     "text": [
      "\n",
      " 17%|█▋        | 1/6 [00:02<00:12,  2.40s/it]\u001b[A"
     ]
    },
    {
     "name": "stdout",
     "output_type": "stream",
     "text": [
      "PC-000613\n"
     ]
    },
    {
     "name": "stderr",
     "output_type": "stream",
     "text": [
      "\n",
      " 33%|███▎      | 2/6 [00:04<00:09,  2.46s/it]\u001b[A"
     ]
    },
    {
     "name": "stdout",
     "output_type": "stream",
     "text": [
      "PC-000722\n"
     ]
    },
    {
     "name": "stderr",
     "output_type": "stream",
     "text": [
      "\n",
      " 50%|█████     | 3/6 [00:07<00:08,  2.74s/it]\u001b[A"
     ]
    },
    {
     "name": "stdout",
     "output_type": "stream",
     "text": [
      "AU-R-000182\n"
     ]
    },
    {
     "name": "stderr",
     "output_type": "stream",
     "text": [
      "\n",
      " 67%|██████▋   | 4/6 [00:11<00:06,  3.04s/it]\u001b[A"
     ]
    },
    {
     "name": "stdout",
     "output_type": "stream",
     "text": [
      "AU-R-000461\n"
     ]
    },
    {
     "name": "stderr",
     "output_type": "stream",
     "text": [
      "\n",
      " 83%|████████▎ | 5/6 [00:14<00:02,  2.95s/it]\u001b[A"
     ]
    },
    {
     "name": "stdout",
     "output_type": "stream",
     "text": [
      "AU-R-000559\n"
     ]
    },
    {
     "name": "stderr",
     "output_type": "stream",
     "text": [
      "\n",
      "100%|██████████| 6/6 [00:17<00:00,  2.96s/it]\u001b[A\n",
      " 42%|████▏     | 30/71 [02:50<07:56, 11.61s/it]"
     ]
    },
    {
     "name": "stdout",
     "output_type": "stream",
     "text": [
      "GRG\n"
     ]
    },
    {
     "name": "stderr",
     "output_type": "stream",
     "text": [
      "\n",
      "  0%|          | 0/2 [00:00<?, ?it/s]\u001b[A"
     ]
    },
    {
     "name": "stdout",
     "output_type": "stream",
     "text": [
      "C10-0000169-LIC\n"
     ]
    },
    {
     "name": "stderr",
     "output_type": "stream",
     "text": [
      "\n",
      " 50%|█████     | 1/2 [00:06<00:06,  6.22s/it]\u001b[A"
     ]
    },
    {
     "name": "stdout",
     "output_type": "stream",
     "text": [
      "C10-0000408-LIC\n"
     ]
    },
    {
     "name": "stderr",
     "output_type": "stream",
     "text": [
      "\n",
      "100%|██████████| 2/2 [00:11<00:00,  5.88s/it]\u001b[A\n",
      " 44%|████▎     | 31/71 [03:01<07:46, 11.66s/it]"
     ]
    },
    {
     "name": "stdout",
     "output_type": "stream",
     "text": [
      "GTR\n"
     ]
    },
    {
     "name": "stderr",
     "output_type": "stream",
     "text": [
      "\n",
      "  0%|          | 0/2 [00:00<?, ?it/s]\u001b[A"
     ]
    },
    {
     "name": "stdout",
     "output_type": "stream",
     "text": [
      "PC-000225\n"
     ]
    },
    {
     "name": "stderr",
     "output_type": "stream",
     "text": [
      "\n",
      " 50%|█████     | 1/2 [00:03<00:03,  3.30s/it]\u001b[A"
     ]
    },
    {
     "name": "stdout",
     "output_type": "stream",
     "text": [
      "AU-R-000163\n"
     ]
    },
    {
     "name": "stderr",
     "output_type": "stream",
     "text": [
      "\n",
      "100%|██████████| 2/2 [00:07<00:00,  3.75s/it]\u001b[A\n",
      " 45%|████▌     | 32/71 [03:09<06:46, 10.41s/it]"
     ]
    },
    {
     "name": "stdout",
     "output_type": "stream",
     "text": [
      "GHC\n"
     ]
    },
    {
     "name": "stderr",
     "output_type": "stream",
     "text": [
      "\n",
      "  0%|          | 0/1 [00:00<?, ?it/s]\u001b[A"
     ]
    },
    {
     "name": "stdout",
     "output_type": "stream",
     "text": [
      "C10-0000414-LIC\n"
     ]
    },
    {
     "name": "stderr",
     "output_type": "stream",
     "text": [
      "\n",
      "100%|██████████| 1/1 [00:05<00:00,  5.38s/it]\u001b[A\n",
      " 46%|████▋     | 33/71 [03:14<05:38,  8.90s/it]"
     ]
    },
    {
     "name": "stdout",
     "output_type": "stream",
     "text": [
      "HB\n"
     ]
    },
    {
     "name": "stderr",
     "output_type": "stream",
     "text": [
      "\n",
      "  0%|          | 0/3 [00:00<?, ?it/s]\u001b[A"
     ]
    },
    {
     "name": "stdout",
     "output_type": "stream",
     "text": [
      "C10-0000339-LIC\n"
     ]
    },
    {
     "name": "stderr",
     "output_type": "stream",
     "text": [
      "\n",
      " 33%|███▎      | 1/3 [00:05<00:10,  5.09s/it]\u001b[A"
     ]
    },
    {
     "name": "stdout",
     "output_type": "stream",
     "text": [
      "C10-0000624-LIC\n"
     ]
    },
    {
     "name": "stderr",
     "output_type": "stream",
     "text": [
      "\n",
      " 67%|██████▋   | 2/3 [00:09<00:04,  4.72s/it]\u001b[A"
     ]
    },
    {
     "name": "stdout",
     "output_type": "stream",
     "text": [
      "C10-0000301-LIC\n"
     ]
    },
    {
     "name": "stderr",
     "output_type": "stream",
     "text": [
      "\n",
      "100%|██████████| 3/3 [00:13<00:00,  4.45s/it]\u001b[A\n",
      " 48%|████▊     | 34/71 [03:28<06:18, 10.24s/it]"
     ]
    },
    {
     "name": "stdout",
     "output_type": "stream",
     "text": [
      "HS\n"
     ]
    },
    {
     "name": "stderr",
     "output_type": "stream",
     "text": [
      "\n",
      "  0%|          | 0/1 [00:00<?, ?it/s]\u001b[A"
     ]
    },
    {
     "name": "stdout",
     "output_type": "stream",
     "text": [
      "C9-0000441-LIC\n"
     ]
    },
    {
     "name": "stderr",
     "output_type": "stream",
     "text": [
      "\n",
      "100%|██████████| 1/1 [00:03<00:00,  3.73s/it]\u001b[A\n",
      " 49%|████▉     | 35/71 [03:31<04:58,  8.28s/it]"
     ]
    },
    {
     "name": "stdout",
     "output_type": "stream",
     "text": [
      "HPCC\n"
     ]
    },
    {
     "name": "stderr",
     "output_type": "stream",
     "text": [
      "\n",
      "  0%|          | 0/2 [00:00<?, ?it/s]\u001b[A"
     ]
    },
    {
     "name": "stdout",
     "output_type": "stream",
     "text": [
      "C10-0000064-LIC\n"
     ]
    },
    {
     "name": "stderr",
     "output_type": "stream",
     "text": [
      "\n",
      " 50%|█████     | 1/2 [00:07<00:07,  7.68s/it]\u001b[A"
     ]
    },
    {
     "name": "stdout",
     "output_type": "stream",
     "text": [
      "C10-0000005-LIC\n"
     ]
    },
    {
     "name": "stderr",
     "output_type": "stream",
     "text": [
      "\n",
      "100%|██████████| 2/2 [00:11<00:00,  5.90s/it]\u001b[A\n",
      " 51%|█████     | 36/71 [03:43<05:26,  9.34s/it]"
     ]
    },
    {
     "name": "stdout",
     "output_type": "stream",
     "text": [
      "HC\n"
     ]
    },
    {
     "name": "stderr",
     "output_type": "stream",
     "text": [
      "\n",
      "  0%|          | 0/1 [00:00<?, ?it/s]\u001b[A"
     ]
    },
    {
     "name": "stdout",
     "output_type": "stream",
     "text": [
      "C9-0000341-LIC\n"
     ]
    },
    {
     "name": "stderr",
     "output_type": "stream",
     "text": [
      "\n",
      "100%|██████████| 1/1 [00:03<00:00,  3.99s/it]\u001b[A\n",
      " 52%|█████▏    | 37/71 [03:47<04:22,  7.73s/it]"
     ]
    },
    {
     "name": "stdout",
     "output_type": "stream",
     "text": [
      "IDC\n"
     ]
    },
    {
     "name": "stderr",
     "output_type": "stream",
     "text": [
      "\n",
      "  0%|          | 0/1 [00:00<?, ?it/s]\u001b[A"
     ]
    },
    {
     "name": "stdout",
     "output_type": "stream",
     "text": [
      "C9-0000320-LIC\n"
     ]
    },
    {
     "name": "stderr",
     "output_type": "stream",
     "text": [
      "\n",
      "100%|██████████| 1/1 [00:04<00:00,  4.50s/it]\u001b[A\n",
      " 54%|█████▎    | 38/71 [03:52<03:43,  6.76s/it]"
     ]
    },
    {
     "name": "stdout",
     "output_type": "stream",
     "text": [
      "ID\n"
     ]
    },
    {
     "name": "stderr",
     "output_type": "stream",
     "text": [
      "\n",
      "  0%|          | 0/1 [00:00<?, ?it/s]\u001b[A"
     ]
    },
    {
     "name": "stdout",
     "output_type": "stream",
     "text": [
      "C9-0000166-LIC\n"
     ]
    },
    {
     "name": "stderr",
     "output_type": "stream",
     "text": [
      "\n",
      "100%|██████████| 1/1 [00:03<00:00,  3.49s/it]\u001b[A\n",
      " 55%|█████▍    | 39/71 [03:55<03:05,  5.78s/it]"
     ]
    },
    {
     "name": "stdout",
     "output_type": "stream",
     "text": [
      "KAR\n"
     ]
    },
    {
     "name": "stderr",
     "output_type": "stream",
     "text": [
      "\n",
      "  0%|          | 0/2 [00:00<?, ?it/s]\u001b[A"
     ]
    },
    {
     "name": "stdout",
     "output_type": "stream",
     "text": [
      "402-00693\n"
     ]
    },
    {
     "name": "stderr",
     "output_type": "stream",
     "text": [
      "\n",
      " 50%|█████     | 1/2 [00:03<00:03,  3.47s/it]\u001b[A"
     ]
    },
    {
     "name": "stdout",
     "output_type": "stream",
     "text": [
      "402R-00744\n"
     ]
    },
    {
     "name": "stderr",
     "output_type": "stream",
     "text": [
      "\n",
      "100%|██████████| 2/2 [00:07<00:00,  3.90s/it]\u001b[A\n",
      " 56%|█████▋    | 40/71 [04:03<03:18,  6.39s/it]"
     ]
    },
    {
     "name": "stdout",
     "output_type": "stream",
     "text": [
      "KC\n"
     ]
    },
    {
     "name": "stderr",
     "output_type": "stream",
     "text": [
      "\n",
      "  0%|          | 0/11 [00:00<?, ?it/s]\u001b[A"
     ]
    },
    {
     "name": "stdout",
     "output_type": "stream",
     "text": [
      "402-00323\n"
     ]
    },
    {
     "name": "stderr",
     "output_type": "stream",
     "text": [
      "\n",
      "  9%|▉         | 1/11 [00:03<00:34,  3.46s/it]\u001b[A"
     ]
    },
    {
     "name": "stdout",
     "output_type": "stream",
     "text": [
      "402-00573\n"
     ]
    },
    {
     "name": "stderr",
     "output_type": "stream",
     "text": [
      "\n",
      " 18%|█▊        | 2/11 [00:06<00:30,  3.40s/it]\u001b[A"
     ]
    },
    {
     "name": "stdout",
     "output_type": "stream",
     "text": [
      "402-00664\n"
     ]
    },
    {
     "name": "stderr",
     "output_type": "stream",
     "text": [
      "\n",
      " 27%|██▋       | 3/11 [00:10<00:27,  3.43s/it]\u001b[A"
     ]
    },
    {
     "name": "stdout",
     "output_type": "stream",
     "text": [
      "402R-00515\n"
     ]
    },
    {
     "name": "stderr",
     "output_type": "stream",
     "text": [
      "\n",
      " 36%|███▋      | 4/11 [00:13<00:24,  3.49s/it]\u001b[A"
     ]
    },
    {
     "name": "stdout",
     "output_type": "stream",
     "text": [
      "402R-00544\n"
     ]
    },
    {
     "name": "stderr",
     "output_type": "stream",
     "text": [
      "\n",
      " 45%|████▌     | 5/11 [00:17<00:22,  3.68s/it]\u001b[A"
     ]
    },
    {
     "name": "stdout",
     "output_type": "stream",
     "text": [
      "402R-00900\n"
     ]
    },
    {
     "name": "stderr",
     "output_type": "stream",
     "text": [
      "\n",
      " 55%|█████▍    | 6/11 [00:21<00:18,  3.72s/it]\u001b[A"
     ]
    },
    {
     "name": "stdout",
     "output_type": "stream",
     "text": [
      "402R-00002\n"
     ]
    },
    {
     "name": "stderr",
     "output_type": "stream",
     "text": [
      "\n",
      " 64%|██████▎   | 7/11 [00:25<00:14,  3.62s/it]\u001b[A"
     ]
    },
    {
     "name": "stdout",
     "output_type": "stream",
     "text": [
      "402-01146\n"
     ]
    },
    {
     "name": "stderr",
     "output_type": "stream",
     "text": [
      "\n",
      " 73%|███████▎  | 8/11 [00:27<00:09,  3.31s/it]\u001b[A"
     ]
    },
    {
     "name": "stdout",
     "output_type": "stream",
     "text": [
      "402-00037\n"
     ]
    },
    {
     "name": "stderr",
     "output_type": "stream",
     "text": [
      "\n",
      " 82%|████████▏ | 9/11 [00:31<00:06,  3.33s/it]\u001b[A"
     ]
    },
    {
     "name": "stdout",
     "output_type": "stream",
     "text": [
      "402R-00035\n"
     ]
    },
    {
     "name": "stderr",
     "output_type": "stream",
     "text": [
      "\n",
      " 91%|█████████ | 10/11 [00:34<00:03,  3.42s/it]\u001b[A"
     ]
    },
    {
     "name": "stdout",
     "output_type": "stream",
     "text": [
      "402R-00574\n"
     ]
    },
    {
     "name": "stderr",
     "output_type": "stream",
     "text": [
      "\n",
      "100%|██████████| 11/11 [00:37<00:00,  3.45s/it]\u001b[A\n",
      " 58%|█████▊    | 41/71 [04:41<07:56, 15.87s/it]"
     ]
    },
    {
     "name": "stdout",
     "output_type": "stream",
     "text": [
      "LEG\n"
     ]
    },
    {
     "name": "stderr",
     "output_type": "stream",
     "text": [
      "\n",
      "  0%|          | 0/4 [00:00<?, ?it/s]\u001b[A"
     ]
    },
    {
     "name": "stdout",
     "output_type": "stream",
     "text": [
      "PC-000231\n"
     ]
    },
    {
     "name": "stderr",
     "output_type": "stream",
     "text": [
      "\n",
      " 25%|██▌       | 1/4 [00:03<00:10,  3.56s/it]\u001b[A"
     ]
    },
    {
     "name": "stdout",
     "output_type": "stream",
     "text": [
      "PC-000335\n"
     ]
    },
    {
     "name": "stderr",
     "output_type": "stream",
     "text": [
      "\n",
      " 50%|█████     | 2/4 [00:06<00:06,  3.17s/it]\u001b[A"
     ]
    },
    {
     "name": "stdout",
     "output_type": "stream",
     "text": [
      "AU-R-000260\n"
     ]
    },
    {
     "name": "stderr",
     "output_type": "stream",
     "text": [
      "\n",
      " 75%|███████▌  | 3/4 [00:11<00:04,  4.05s/it]\u001b[A"
     ]
    },
    {
     "name": "stdout",
     "output_type": "stream",
     "text": [
      "AU-R-000261\n"
     ]
    },
    {
     "name": "stderr",
     "output_type": "stream",
     "text": [
      "\n",
      "100%|██████████| 4/4 [00:16<00:00,  4.24s/it]\u001b[A\n",
      " 59%|█████▉    | 42/71 [04:58<07:49, 16.19s/it]"
     ]
    },
    {
     "name": "stdout",
     "output_type": "stream",
     "text": [
      "LBC\n"
     ]
    },
    {
     "name": "stderr",
     "output_type": "stream",
     "text": [
      "\n",
      "  0%|          | 0/1 [00:00<?, ?it/s]\u001b[A"
     ]
    },
    {
     "name": "stdout",
     "output_type": "stream",
     "text": [
      "C9-0000154-LIC\n"
     ]
    },
    {
     "name": "stderr",
     "output_type": "stream",
     "text": [
      "\n",
      "100%|██████████| 1/1 [00:03<00:00,  3.60s/it]\u001b[A\n",
      " 61%|██████    | 43/71 [05:02<05:47, 12.42s/it]"
     ]
    },
    {
     "name": "stdout",
     "output_type": "stream",
     "text": [
      "MSS\n"
     ]
    },
    {
     "name": "stderr",
     "output_type": "stream",
     "text": [
      "\n",
      "  0%|          | 0/1 [00:00<?, ?it/s]\u001b[A"
     ]
    },
    {
     "name": "stdout",
     "output_type": "stream",
     "text": [
      "C10-0000816-LIC\n"
     ]
    },
    {
     "name": "stderr",
     "output_type": "stream",
     "text": [
      "\n",
      "100%|██████████| 1/1 [00:04<00:00,  4.03s/it]\u001b[A\n",
      " 62%|██████▏   | 44/71 [05:06<04:27,  9.90s/it]"
     ]
    },
    {
     "name": "stdout",
     "output_type": "stream",
     "text": [
      "ML\n"
     ]
    },
    {
     "name": "stderr",
     "output_type": "stream",
     "text": [
      "\n",
      "  0%|          | 0/1 [00:00<?, ?it/s]\u001b[A"
     ]
    },
    {
     "name": "stdout",
     "output_type": "stream",
     "text": [
      "C9-0000300-LIC\n"
     ]
    },
    {
     "name": "stderr",
     "output_type": "stream",
     "text": [
      "\n",
      "100%|██████████| 1/1 [00:04<00:00,  4.98s/it]\u001b[A\n",
      " 63%|██████▎   | 45/71 [05:11<03:39,  8.43s/it]"
     ]
    },
    {
     "name": "stdout",
     "output_type": "stream",
     "text": [
      "MW\n"
     ]
    },
    {
     "name": "stderr",
     "output_type": "stream",
     "text": [
      "\n",
      "  0%|          | 0/1 [00:00<?, ?it/s]\u001b[A"
     ]
    },
    {
     "name": "stdout",
     "output_type": "stream",
     "text": [
      "C10-0000332-LIC\n"
     ]
    },
    {
     "name": "stderr",
     "output_type": "stream",
     "text": [
      "\n",
      "100%|██████████| 1/1 [00:06<00:00,  6.19s/it]\u001b[A\n",
      " 65%|██████▍   | 46/71 [05:17<03:13,  7.76s/it]"
     ]
    },
    {
     "name": "stdout",
     "output_type": "stream",
     "text": [
      "MPW\n"
     ]
    },
    {
     "name": "stderr",
     "output_type": "stream",
     "text": [
      "\n",
      "  0%|          | 0/1 [00:00<?, ?it/s]\u001b[A"
     ]
    },
    {
     "name": "stdout",
     "output_type": "stream",
     "text": [
      "C10-0000547-LIC\n"
     ]
    },
    {
     "name": "stderr",
     "output_type": "stream",
     "text": [
      "\n",
      "100%|██████████| 1/1 [00:08<00:00,  8.28s/it]\u001b[A\n",
      " 66%|██████▌   | 47/71 [05:25<03:09,  7.91s/it]"
     ]
    },
    {
     "name": "stdout",
     "output_type": "stream",
     "text": [
      "MD\n"
     ]
    },
    {
     "name": "stderr",
     "output_type": "stream",
     "text": [
      "\n",
      "  0%|          | 0/1 [00:00<?, ?it/s]\u001b[A"
     ]
    },
    {
     "name": "stdout",
     "output_type": "stream",
     "text": [
      "C9-0000247-LIC\n"
     ]
    },
    {
     "name": "stderr",
     "output_type": "stream",
     "text": [
      "\n",
      "100%|██████████| 1/1 [00:04<00:00,  4.59s/it]\u001b[A\n",
      " 68%|██████▊   | 48/71 [05:30<02:39,  6.92s/it]"
     ]
    },
    {
     "name": "stdout",
     "output_type": "stream",
     "text": [
      "ND\n"
     ]
    },
    {
     "name": "stderr",
     "output_type": "stream",
     "text": [
      "\n",
      "  0%|          | 0/1 [00:00<?, ?it/s]\u001b[A"
     ]
    },
    {
     "name": "stdout",
     "output_type": "stream",
     "text": [
      "C9-0000427-LIC\n"
     ]
    },
    {
     "name": "stderr",
     "output_type": "stream",
     "text": [
      "\n",
      "100%|██████████| 1/1 [00:03<00:00,  3.41s/it]\u001b[A\n",
      " 69%|██████▉   | 49/71 [05:33<02:09,  5.86s/it]"
     ]
    },
    {
     "name": "stdout",
     "output_type": "stream",
     "text": [
      "NECC\n"
     ]
    },
    {
     "name": "stderr",
     "output_type": "stream",
     "text": [
      "\n",
      "  0%|          | 0/1 [00:00<?, ?it/s]\u001b[A"
     ]
    },
    {
     "name": "stdout",
     "output_type": "stream",
     "text": [
      "MR283416\n"
     ]
    },
    {
     "name": "stderr",
     "output_type": "stream",
     "text": [
      "\n",
      "100%|██████████| 1/1 [00:03<00:00,  3.30s/it]\u001b[A\n",
      " 70%|███████   | 50/71 [05:36<01:47,  5.10s/it]"
     ]
    },
    {
     "name": "stdout",
     "output_type": "stream",
     "text": [
      "PGM\n"
     ]
    },
    {
     "name": "stderr",
     "output_type": "stream",
     "text": [
      "\n",
      "  0%|          | 0/11 [00:00<?, ?it/s]\u001b[A"
     ]
    },
    {
     "name": "stdout",
     "output_type": "stream",
     "text": [
      "PC-000415\n"
     ]
    },
    {
     "name": "stderr",
     "output_type": "stream",
     "text": [
      "\n",
      "  9%|▉         | 1/11 [00:03<00:35,  3.58s/it]\u001b[A"
     ]
    },
    {
     "name": "stdout",
     "output_type": "stream",
     "text": [
      "PC-000551\n"
     ]
    },
    {
     "name": "stderr",
     "output_type": "stream",
     "text": [
      "\n",
      " 18%|█▊        | 2/11 [00:06<00:27,  3.00s/it]\u001b[A"
     ]
    },
    {
     "name": "stdout",
     "output_type": "stream",
     "text": [
      "PC-000725\n"
     ]
    },
    {
     "name": "stderr",
     "output_type": "stream",
     "text": [
      "\n",
      " 27%|██▋       | 3/11 [00:08<00:22,  2.76s/it]\u001b[A"
     ]
    },
    {
     "name": "stdout",
     "output_type": "stream",
     "text": [
      "PC-000167\n"
     ]
    },
    {
     "name": "stderr",
     "output_type": "stream",
     "text": [
      "\n",
      " 36%|███▋      | 4/11 [00:12<00:21,  3.03s/it]\u001b[A"
     ]
    },
    {
     "name": "stdout",
     "output_type": "stream",
     "text": [
      "PC-000169\n"
     ]
    },
    {
     "name": "stderr",
     "output_type": "stream",
     "text": [
      "\n",
      " 45%|████▌     | 5/11 [00:14<00:16,  2.81s/it]\u001b[A"
     ]
    },
    {
     "name": "stdout",
     "output_type": "stream",
     "text": [
      "AU-R-000196\n"
     ]
    },
    {
     "name": "stderr",
     "output_type": "stream",
     "text": [
      "\n",
      " 55%|█████▍    | 6/11 [00:19<00:17,  3.45s/it]\u001b[A"
     ]
    },
    {
     "name": "stdout",
     "output_type": "stream",
     "text": [
      "AU-R-000197\n"
     ]
    },
    {
     "name": "stderr",
     "output_type": "stream",
     "text": [
      "\n",
      " 64%|██████▎   | 7/11 [00:23<00:14,  3.57s/it]\u001b[A"
     ]
    },
    {
     "name": "stdout",
     "output_type": "stream",
     "text": [
      "AU-R-000198\n"
     ]
    },
    {
     "name": "stderr",
     "output_type": "stream",
     "text": [
      "\n",
      " 73%|███████▎  | 8/11 [00:26<00:10,  3.59s/it]\u001b[A"
     ]
    },
    {
     "name": "stdout",
     "output_type": "stream",
     "text": [
      "AU-R-000366\n"
     ]
    },
    {
     "name": "stderr",
     "output_type": "stream",
     "text": [
      "\n",
      " 82%|████████▏ | 9/11 [00:29<00:06,  3.48s/it]\u001b[A"
     ]
    },
    {
     "name": "stdout",
     "output_type": "stream",
     "text": [
      "AU-R-000506\n"
     ]
    },
    {
     "name": "stderr",
     "output_type": "stream",
     "text": [
      "\n",
      " 91%|█████████ | 10/11 [00:34<00:03,  3.80s/it]\u001b[A"
     ]
    },
    {
     "name": "stdout",
     "output_type": "stream",
     "text": [
      "PC-000160\n"
     ]
    },
    {
     "name": "stderr",
     "output_type": "stream",
     "text": [
      "\n",
      "100%|██████████| 11/11 [00:36<00:00,  3.36s/it]\u001b[A\n",
      " 72%|███████▏  | 51/71 [06:13<04:52, 14.64s/it]"
     ]
    },
    {
     "name": "stdout",
     "output_type": "stream",
     "text": [
      "PRP\n"
     ]
    },
    {
     "name": "stderr",
     "output_type": "stream",
     "text": [
      "\n",
      "  0%|          | 0/3 [00:00<?, ?it/s]\u001b[A"
     ]
    },
    {
     "name": "stdout",
     "output_type": "stream",
     "text": [
      "C10-0000155-LIC\n"
     ]
    },
    {
     "name": "stderr",
     "output_type": "stream",
     "text": [
      "\n",
      " 33%|███▎      | 1/3 [00:04<00:09,  4.70s/it]\u001b[A"
     ]
    },
    {
     "name": "stdout",
     "output_type": "stream",
     "text": [
      "C10-0000286-LIC\n"
     ]
    },
    {
     "name": "stderr",
     "output_type": "stream",
     "text": [
      "\n",
      " 67%|██████▋   | 2/3 [00:09<00:04,  4.89s/it]\u001b[A"
     ]
    },
    {
     "name": "stdout",
     "output_type": "stream",
     "text": [
      "C10-0000403-LIC\n"
     ]
    },
    {
     "name": "stderr",
     "output_type": "stream",
     "text": [
      "\n",
      "100%|██████████| 3/3 [00:14<00:00,  4.87s/it]\u001b[A\n",
      " 73%|███████▎  | 52/71 [06:28<04:38, 14.63s/it]"
     ]
    },
    {
     "name": "stdout",
     "output_type": "stream",
     "text": [
      "PRL\n"
     ]
    },
    {
     "name": "stderr",
     "output_type": "stream",
     "text": [
      "\n",
      "  0%|          | 0/1 [00:00<?, ?it/s]\u001b[A"
     ]
    },
    {
     "name": "stdout",
     "output_type": "stream",
     "text": [
      "C10-0000759-LIC\n"
     ]
    },
    {
     "name": "stderr",
     "output_type": "stream",
     "text": [
      "\n",
      "100%|██████████| 1/1 [00:04<00:00,  4.27s/it]\u001b[A\n",
      " 75%|███████▍  | 53/71 [06:32<03:27, 11.52s/it]"
     ]
    },
    {
     "name": "stdout",
     "output_type": "stream",
     "text": [
      "QR\n"
     ]
    },
    {
     "name": "stderr",
     "output_type": "stream",
     "text": [
      "\n",
      "  0%|          | 0/4 [00:00<?, ?it/s]\u001b[A"
     ]
    },
    {
     "name": "stdout",
     "output_type": "stream",
     "text": [
      "AU-R-000233\n"
     ]
    },
    {
     "name": "stderr",
     "output_type": "stream",
     "text": [
      "\n",
      " 25%|██▌       | 1/4 [00:03<00:11,  3.85s/it]\u001b[A"
     ]
    },
    {
     "name": "stdout",
     "output_type": "stream",
     "text": [
      "AU-R-000346\n"
     ]
    },
    {
     "name": "stderr",
     "output_type": "stream",
     "text": [
      "\n",
      " 50%|█████     | 2/4 [00:08<00:08,  4.48s/it]\u001b[A"
     ]
    },
    {
     "name": "stdout",
     "output_type": "stream",
     "text": [
      "PC-000356\n"
     ]
    },
    {
     "name": "stderr",
     "output_type": "stream",
     "text": [
      "\n",
      " 75%|███████▌  | 3/4 [00:11<00:03,  3.54s/it]\u001b[A"
     ]
    },
    {
     "name": "stdout",
     "output_type": "stream",
     "text": [
      "AU-R-000633\n"
     ]
    },
    {
     "name": "stderr",
     "output_type": "stream",
     "text": [
      "\n",
      "100%|██████████| 4/4 [00:15<00:00,  3.86s/it]\u001b[A\n",
      " 76%|███████▌  | 54/71 [06:48<03:35, 12.69s/it]"
     ]
    },
    {
     "name": "stdout",
     "output_type": "stream",
     "text": [
      "RA\n"
     ]
    },
    {
     "name": "stderr",
     "output_type": "stream",
     "text": [
      "\n",
      "  0%|          | 0/1 [00:00<?, ?it/s]\u001b[A"
     ]
    },
    {
     "name": "stdout",
     "output_type": "stream",
     "text": [
      "C10-0000596-LIC\n"
     ]
    },
    {
     "name": "stderr",
     "output_type": "stream",
     "text": [
      "\n",
      "100%|██████████| 1/1 [00:04<00:00,  4.85s/it]\u001b[A\n",
      " 77%|███████▋  | 55/71 [06:52<02:45, 10.34s/it]"
     ]
    },
    {
     "name": "stdout",
     "output_type": "stream",
     "text": [
      "RGD\n"
     ]
    },
    {
     "name": "stderr",
     "output_type": "stream",
     "text": [
      "\n",
      "  0%|          | 0/1 [00:00<?, ?it/s]\u001b[A"
     ]
    },
    {
     "name": "stdout",
     "output_type": "stream",
     "text": [
      "C9-0000057-LIC\n"
     ]
    },
    {
     "name": "stderr",
     "output_type": "stream",
     "text": [
      "\n",
      "100%|██████████| 1/1 [00:04<00:00,  4.61s/it]\u001b[A\n",
      " 79%|███████▉  | 56/71 [06:57<02:09,  8.62s/it]"
     ]
    },
    {
     "name": "stdout",
     "output_type": "stream",
     "text": [
      "SFV\n"
     ]
    },
    {
     "name": "stderr",
     "output_type": "stream",
     "text": [
      "\n",
      "  0%|          | 0/1 [00:00<?, ?it/s]\u001b[A"
     ]
    },
    {
     "name": "stdout",
     "output_type": "stream",
     "text": [
      "C10-0000041-LIC\n"
     ]
    },
    {
     "name": "stderr",
     "output_type": "stream",
     "text": [
      "\n",
      "100%|██████████| 1/1 [00:05<00:00,  5.65s/it]\u001b[A\n",
      " 80%|████████  | 57/71 [07:03<01:48,  7.73s/it]"
     ]
    },
    {
     "name": "stdout",
     "output_type": "stream",
     "text": [
      "SV\n"
     ]
    },
    {
     "name": "stderr",
     "output_type": "stream",
     "text": [
      "\n",
      "  0%|          | 0/1 [00:00<?, ?it/s]\u001b[A"
     ]
    },
    {
     "name": "stdout",
     "output_type": "stream",
     "text": [
      "C9-0000146-LIC\n"
     ]
    },
    {
     "name": "stderr",
     "output_type": "stream",
     "text": [
      "\n",
      "100%|██████████| 1/1 [00:04<00:00,  4.86s/it]\u001b[A\n",
      " 82%|████████▏ | 58/71 [07:08<01:29,  6.87s/it]"
     ]
    },
    {
     "name": "stdout",
     "output_type": "stream",
     "text": [
      "SLCC\n"
     ]
    },
    {
     "name": "stderr",
     "output_type": "stream",
     "text": [
      "\n",
      "  0%|          | 0/1 [00:00<?, ?it/s]\u001b[A"
     ]
    },
    {
     "name": "stdout",
     "output_type": "stream",
     "text": [
      "C10-0000474-LIC\n"
     ]
    },
    {
     "name": "stderr",
     "output_type": "stream",
     "text": [
      "\n",
      "100%|██████████| 1/1 [00:03<00:00,  3.43s/it]\u001b[A\n",
      " 83%|████████▎ | 59/71 [07:11<01:10,  5.84s/it]"
     ]
    },
    {
     "name": "stdout",
     "output_type": "stream",
     "text": [
      "SO\n"
     ]
    },
    {
     "name": "stderr",
     "output_type": "stream",
     "text": [
      "\n",
      "  0%|          | 0/3 [00:00<?, ?it/s]\u001b[A"
     ]
    },
    {
     "name": "stdout",
     "output_type": "stream",
     "text": [
      "C10-0000271-LIC\n"
     ]
    },
    {
     "name": "stderr",
     "output_type": "stream",
     "text": [
      "\n",
      " 33%|███▎      | 1/3 [00:04<00:08,  4.06s/it]\u001b[A"
     ]
    },
    {
     "name": "stdout",
     "output_type": "stream",
     "text": [
      "C12-0000328-LIC\n"
     ]
    },
    {
     "name": "stderr",
     "output_type": "stream",
     "text": [
      "\n",
      " 67%|██████▋   | 2/3 [00:06<00:03,  3.19s/it]\u001b[A"
     ]
    },
    {
     "name": "stdout",
     "output_type": "stream",
     "text": [
      "C9-0000130-LIC\n"
     ]
    },
    {
     "name": "stderr",
     "output_type": "stream",
     "text": [
      "\n",
      "100%|██████████| 3/3 [00:10<00:00,  3.46s/it]\u001b[A\n",
      " 85%|████████▍ | 60/71 [07:21<01:19,  7.20s/it]"
     ]
    },
    {
     "name": "stdout",
     "output_type": "stream",
     "text": [
      "ST\n"
     ]
    },
    {
     "name": "stderr",
     "output_type": "stream",
     "text": [
      "\n",
      "  0%|          | 0/1 [00:00<?, ?it/s]\u001b[A"
     ]
    },
    {
     "name": "stdout",
     "output_type": "stream",
     "text": [
      "C9-0000323-LIC\n"
     ]
    },
    {
     "name": "stderr",
     "output_type": "stream",
     "text": [
      "\n",
      "100%|██████████| 1/1 [00:03<00:00,  3.62s/it]\u001b[A\n",
      " 86%|████████▌ | 61/71 [07:25<01:01,  6.13s/it]"
     ]
    },
    {
     "name": "stdout",
     "output_type": "stream",
     "text": [
      "DW\n"
     ]
    },
    {
     "name": "stderr",
     "output_type": "stream",
     "text": [
      "\n",
      "  0%|          | 0/1 [00:00<?, ?it/s]\u001b[A"
     ]
    },
    {
     "name": "stdout",
     "output_type": "stream",
     "text": [
      "MR282376\n"
     ]
    },
    {
     "name": "stderr",
     "output_type": "stream",
     "text": [
      "\n",
      "100%|██████████| 1/1 [00:03<00:00,  3.81s/it]\u001b[A\n",
      " 87%|████████▋ | 62/71 [07:29<00:48,  5.43s/it]"
     ]
    },
    {
     "name": "stdout",
     "output_type": "stream",
     "text": [
      "TGL\n"
     ]
    },
    {
     "name": "stderr",
     "output_type": "stream",
     "text": [
      "\n",
      "  0%|          | 0/1 [00:00<?, ?it/s]\u001b[A"
     ]
    },
    {
     "name": "stdout",
     "output_type": "stream",
     "text": [
      "C9-0000412-LIC\n"
     ]
    },
    {
     "name": "stderr",
     "output_type": "stream",
     "text": [
      "\n",
      "100%|██████████| 1/1 [00:03<00:00,  3.42s/it]\u001b[A\n",
      " 89%|████████▊ | 63/71 [07:32<00:38,  4.83s/it]"
     ]
    },
    {
     "name": "stdout",
     "output_type": "stream",
     "text": [
      "TJR\n"
     ]
    },
    {
     "name": "stderr",
     "output_type": "stream",
     "text": [
      "\n",
      "  0%|          | 0/1 [00:00<?, ?it/s]\u001b[A"
     ]
    },
    {
     "name": "stdout",
     "output_type": "stream",
     "text": [
      "C9-0000105-LIC\n"
     ]
    },
    {
     "name": "stderr",
     "output_type": "stream",
     "text": [
      "\n",
      "100%|██████████| 1/1 [00:27<00:00, 27.51s/it]\u001b[A\n",
      " 90%|█████████ | 64/71 [08:00<01:21, 11.63s/it]"
     ]
    },
    {
     "name": "stdout",
     "output_type": "stream",
     "text": [
      "TTS\n"
     ]
    },
    {
     "name": "stderr",
     "output_type": "stream",
     "text": [
      "\n",
      "  0%|          | 0/2 [00:00<?, ?it/s]\u001b[A"
     ]
    },
    {
     "name": "stdout",
     "output_type": "stream",
     "text": [
      "PC-000718\n"
     ]
    },
    {
     "name": "stderr",
     "output_type": "stream",
     "text": [
      "\n",
      " 50%|█████     | 1/2 [00:02<00:02,  2.97s/it]\u001b[A"
     ]
    },
    {
     "name": "stdout",
     "output_type": "stream",
     "text": [
      "AU-R-000546\n"
     ]
    },
    {
     "name": "stderr",
     "output_type": "stream",
     "text": [
      "\n",
      "100%|██████████| 2/2 [00:05<00:00,  2.83s/it]\u001b[A\n",
      " 92%|█████████▏| 65/71 [08:05<00:59,  9.84s/it]"
     ]
    },
    {
     "name": "stdout",
     "output_type": "stream",
     "text": [
      "TT\n"
     ]
    },
    {
     "name": "stderr",
     "output_type": "stream",
     "text": [
      "\n",
      "  0%|          | 0/2 [00:00<?, ?it/s]\u001b[A"
     ]
    },
    {
     "name": "stdout",
     "output_type": "stream",
     "text": [
      "C9-0000551-LIC\n"
     ]
    },
    {
     "name": "stderr",
     "output_type": "stream",
     "text": [
      "\n",
      " 50%|█████     | 1/2 [00:02<00:02,  2.46s/it]\u001b[A"
     ]
    },
    {
     "name": "stdout",
     "output_type": "stream",
     "text": [
      "C9-0000451-LIC\n"
     ]
    },
    {
     "name": "stderr",
     "output_type": "stream",
     "text": [
      "\n",
      "100%|██████████| 2/2 [00:06<00:00,  3.01s/it]\u001b[A\n",
      " 93%|█████████▎| 66/71 [08:11<00:43,  8.69s/it]"
     ]
    },
    {
     "name": "stdout",
     "output_type": "stream",
     "text": [
      "T4L\n"
     ]
    },
    {
     "name": "stderr",
     "output_type": "stream",
     "text": [
      "\n",
      "  0%|          | 0/1 [00:00<?, ?it/s]\u001b[A"
     ]
    },
    {
     "name": "stdout",
     "output_type": "stream",
     "text": [
      "C12-0000302-LIC\n"
     ]
    },
    {
     "name": "stderr",
     "output_type": "stream",
     "text": [
      "\n",
      "100%|██████████| 1/1 [00:04<00:00,  4.29s/it]\u001b[A\n",
      " 94%|█████████▍| 67/71 [08:16<00:29,  7.37s/it]"
     ]
    },
    {
     "name": "stdout",
     "output_type": "stream",
     "text": [
      "TL\n"
     ]
    },
    {
     "name": "stderr",
     "output_type": "stream",
     "text": [
      "\n",
      "  0%|          | 0/19 [00:00<?, ?it/s]\u001b[A"
     ]
    },
    {
     "name": "stdout",
     "output_type": "stream",
     "text": [
      "402-00390\n"
     ]
    },
    {
     "name": "stderr",
     "output_type": "stream",
     "text": [
      "\n",
      "  5%|▌         | 1/19 [00:03<01:05,  3.65s/it]\u001b[A"
     ]
    },
    {
     "name": "stdout",
     "output_type": "stream",
     "text": [
      "402R-00807\n"
     ]
    },
    {
     "name": "stderr",
     "output_type": "stream",
     "text": [
      "\n",
      " 11%|█         | 2/19 [00:07<01:01,  3.60s/it]\u001b[A"
     ]
    },
    {
     "name": "stdout",
     "output_type": "stream",
     "text": [
      "402-00473\n"
     ]
    },
    {
     "name": "stderr",
     "output_type": "stream",
     "text": [
      "\n",
      " 16%|█▌        | 3/19 [00:10<00:55,  3.46s/it]\u001b[A"
     ]
    },
    {
     "name": "stdout",
     "output_type": "stream",
     "text": [
      "402-01201\n"
     ]
    },
    {
     "name": "stderr",
     "output_type": "stream",
     "text": [
      "\n",
      " 21%|██        | 4/19 [00:14<00:53,  3.59s/it]\u001b[A"
     ]
    },
    {
     "name": "stdout",
     "output_type": "stream",
     "text": [
      "402R-00066\n"
     ]
    },
    {
     "name": "stderr",
     "output_type": "stream",
     "text": [
      "\n",
      " 26%|██▋       | 5/19 [00:17<00:49,  3.53s/it]\u001b[A"
     ]
    },
    {
     "name": "stdout",
     "output_type": "stream",
     "text": [
      "402R-00487\n"
     ]
    },
    {
     "name": "stderr",
     "output_type": "stream",
     "text": [
      "\n",
      " 32%|███▏      | 6/19 [00:19<00:38,  2.95s/it]\u001b[A"
     ]
    },
    {
     "name": "stdout",
     "output_type": "stream",
     "text": [
      "402R-00505\n"
     ]
    },
    {
     "name": "stderr",
     "output_type": "stream",
     "text": [
      "\n",
      " 37%|███▋      | 7/19 [00:21<00:31,  2.60s/it]\u001b[A"
     ]
    },
    {
     "name": "stdout",
     "output_type": "stream",
     "text": [
      "402R-00536\n"
     ]
    },
    {
     "name": "stderr",
     "output_type": "stream",
     "text": [
      "\n",
      " 42%|████▏     | 8/19 [00:24<00:31,  2.82s/it]\u001b[A"
     ]
    },
    {
     "name": "stdout",
     "output_type": "stream",
     "text": [
      "402R-00571\n"
     ]
    },
    {
     "name": "stderr",
     "output_type": "stream",
     "text": [
      "\n",
      " 47%|████▋     | 9/19 [00:26<00:24,  2.48s/it]\u001b[A"
     ]
    },
    {
     "name": "stdout",
     "output_type": "stream",
     "text": [
      "402R-00602\n"
     ]
    },
    {
     "name": "stderr",
     "output_type": "stream",
     "text": [
      "\n",
      " 53%|█████▎    | 10/19 [00:29<00:25,  2.81s/it]\u001b[A"
     ]
    },
    {
     "name": "stdout",
     "output_type": "stream",
     "text": [
      "402R-00808\n"
     ]
    },
    {
     "name": "stderr",
     "output_type": "stream",
     "text": [
      "\n",
      " 58%|█████▊    | 11/19 [00:31<00:20,  2.52s/it]\u001b[A"
     ]
    },
    {
     "name": "stdout",
     "output_type": "stream",
     "text": [
      "402-00370\n"
     ]
    },
    {
     "name": "stderr",
     "output_type": "stream",
     "text": [
      "\n",
      " 63%|██████▎   | 12/19 [00:35<00:19,  2.72s/it]\u001b[A"
     ]
    },
    {
     "name": "stdout",
     "output_type": "stream",
     "text": [
      "402-01142\n"
     ]
    },
    {
     "name": "stderr",
     "output_type": "stream",
     "text": [
      "\n",
      " 68%|██████▊   | 13/19 [00:38<00:17,  2.91s/it]\u001b[A"
     ]
    },
    {
     "name": "stdout",
     "output_type": "stream",
     "text": [
      "402R-00041\n"
     ]
    },
    {
     "name": "stderr",
     "output_type": "stream",
     "text": [
      "\n",
      " 74%|███████▎  | 14/19 [00:42<00:15,  3.12s/it]\u001b[A"
     ]
    },
    {
     "name": "stdout",
     "output_type": "stream",
     "text": [
      "402R-00242\n"
     ]
    },
    {
     "name": "stderr",
     "output_type": "stream",
     "text": [
      "\n",
      " 79%|███████▉  | 15/19 [00:43<00:10,  2.74s/it]\u001b[A"
     ]
    },
    {
     "name": "stdout",
     "output_type": "stream",
     "text": [
      "402R-00246\n"
     ]
    },
    {
     "name": "stderr",
     "output_type": "stream",
     "text": [
      "\n",
      " 84%|████████▍ | 16/19 [00:45<00:07,  2.56s/it]\u001b[A"
     ]
    },
    {
     "name": "stdout",
     "output_type": "stream",
     "text": [
      "402R-00362\n"
     ]
    },
    {
     "name": "stderr",
     "output_type": "stream",
     "text": [
      "\n",
      " 89%|████████▉ | 17/19 [00:47<00:04,  2.31s/it]\u001b[A"
     ]
    },
    {
     "name": "stdout",
     "output_type": "stream",
     "text": [
      "402R-00573\n"
     ]
    },
    {
     "name": "stderr",
     "output_type": "stream",
     "text": [
      "\n",
      " 95%|█████████▍| 18/19 [00:51<00:02,  2.66s/it]\u001b[A"
     ]
    },
    {
     "name": "stdout",
     "output_type": "stream",
     "text": [
      "402R-00781\n"
     ]
    },
    {
     "name": "stderr",
     "output_type": "stream",
     "text": [
      "\n",
      "100%|██████████| 19/19 [00:54<00:00,  2.89s/it]\u001b[A\n",
      " 96%|█████████▌| 68/71 [09:11<01:04, 21.65s/it]"
     ]
    },
    {
     "name": "stdout",
     "output_type": "stream",
     "text": [
      "UHHC\n"
     ]
    },
    {
     "name": "stderr",
     "output_type": "stream",
     "text": [
      "\n",
      "  0%|          | 0/2 [00:00<?, ?it/s]\u001b[A"
     ]
    },
    {
     "name": "stdout",
     "output_type": "stream",
     "text": [
      "C10-0000817-LIC\n"
     ]
    },
    {
     "name": "stderr",
     "output_type": "stream",
     "text": [
      "\n",
      " 50%|█████     | 1/2 [00:04<00:04,  4.45s/it]\u001b[A"
     ]
    },
    {
     "name": "stdout",
     "output_type": "stream",
     "text": [
      "C9-0000082-LIC\n"
     ]
    },
    {
     "name": "stderr",
     "output_type": "stream",
     "text": [
      "\n",
      "100%|██████████| 2/2 [00:09<00:00,  4.69s/it]\u001b[A\n",
      " 97%|█████████▋| 69/71 [09:20<00:35, 17.97s/it]"
     ]
    },
    {
     "name": "stdout",
     "output_type": "stream",
     "text": [
      "VS\n"
     ]
    },
    {
     "name": "stderr",
     "output_type": "stream",
     "text": [
      "\n",
      "  0%|          | 0/2 [00:00<?, ?it/s]\u001b[A"
     ]
    },
    {
     "name": "stdout",
     "output_type": "stream",
     "text": [
      "402-00840\n"
     ]
    },
    {
     "name": "stderr",
     "output_type": "stream",
     "text": [
      "\n",
      " 50%|█████     | 1/2 [00:03<00:03,  3.50s/it]\u001b[A"
     ]
    },
    {
     "name": "stdout",
     "output_type": "stream",
     "text": [
      "402R-00545\n"
     ]
    },
    {
     "name": "stderr",
     "output_type": "stream",
     "text": [
      "\n",
      "100%|██████████| 2/2 [00:08<00:00,  4.11s/it]\u001b[A\n",
      " 99%|█████████▊| 70/71 [09:28<00:15, 15.04s/it]"
     ]
    },
    {
     "name": "stdout",
     "output_type": "stream",
     "text": [
      "VOY\n"
     ]
    },
    {
     "name": "stderr",
     "output_type": "stream",
     "text": [
      "\n",
      "  0%|          | 0/3 [00:00<?, ?it/s]\u001b[A"
     ]
    },
    {
     "name": "stdout",
     "output_type": "stream",
     "text": [
      "C12-0000030-LIC\n"
     ]
    },
    {
     "name": "stderr",
     "output_type": "stream",
     "text": [
      "\n",
      " 33%|███▎      | 1/3 [00:04<00:09,  4.84s/it]\u001b[A"
     ]
    },
    {
     "name": "stdout",
     "output_type": "stream",
     "text": [
      "C10-0000802-LIC\n"
     ]
    },
    {
     "name": "stderr",
     "output_type": "stream",
     "text": [
      "\n",
      " 67%|██████▋   | 2/3 [00:08<00:04,  4.28s/it]\u001b[A"
     ]
    },
    {
     "name": "stdout",
     "output_type": "stream",
     "text": [
      "C12-0000159-LIC\n"
     ]
    },
    {
     "name": "stderr",
     "output_type": "stream",
     "text": [
      "\n",
      "100%|██████████| 3/3 [00:11<00:00,  3.75s/it]\u001b[A\n",
      "100%|██████████| 71/71 [09:39<00:00,  8.17s/it]\n"
     ]
    }
   ],
   "source": [
    "t1,t2,t3,t4 = get_inv_val_list(list(ca_df_clean['company_identifier']),ca_df_clean)\n",
    "\n",
    "\n"
   ]
  },
  {
   "cell_type": "code",
   "execution_count": 69,
   "id": "37751f52",
   "metadata": {},
   "outputs": [
    {
     "data": {
      "text/plain": [
       "dict_keys(['99HT', 'ALT', 'BS', 'BMC', 'BBF', 'BUD', 'BRC', 'BYN', 'CHO', 'CG', 'CPA', 'CPC', 'CSC', 'CCC', 'CLC', 'CC', 'DWF', 'DCO', 'DL', 'DGG', 'DG', 'EL', 'EMA', 'EMF', 'EMM', 'EMT', 'EH', 'FW', 'GT', 'GLNR', 'GRG', 'GTR', 'GHC', 'HB', 'HS', 'HPCC', 'HC', 'IDC', 'ID', 'KAR', 'KC', 'LEG', 'LBC', 'MSS', 'ML', 'MW', 'MPW', 'MD', 'ND', 'NECC', 'PGM', 'PRP', 'PRL', 'QR', 'RA', 'RGD', 'SFV', 'SV', 'SLCC', 'SO', 'ST', 'DW', 'TGL', 'TJR', 'TTS', 'TT', 'T4L', 'TL', 'UHHC', 'VS', 'VOY'])"
      ]
     },
     "execution_count": 69,
     "metadata": {},
     "output_type": "execute_result"
    }
   ],
   "source": [
    "t4.keys()"
   ]
  },
  {
   "cell_type": "code",
   "execution_count": 64,
   "id": "a7a04d3a",
   "metadata": {},
   "outputs": [],
   "source": [
    "def decompress_inv_dict(inv_dict):\n",
    "    df_decompress = pd.DataFrame()\n",
    "    for k in inv_dict.keys():\n",
    "        print(k)\n",
    "        for l in inv_dict[k].keys():\n",
    "            print(l)\n",
    "            data_inv_val = inv_dict[k][l]\n",
    "            if str(data_inv_val) == 'nan':\n",
    "                continue\n",
    "            else:\n",
    "                data_inv_val['company'] = k\n",
    "                data_inv_val['location'] = l\n",
    "                print(data_inv_val.shape)\n",
    "                df_decompress = df_decompress.append(data_inv_val)\n",
    "    return df_decompress\n",
    "    "
   ]
  },
  {
   "cell_type": "code",
   "execution_count": 65,
   "id": "961976df",
   "metadata": {},
   "outputs": [
    {
     "name": "stdout",
     "output_type": "stream",
     "text": [
      "99HT\n",
      "C10-0000279-LIC\n",
      "(1, 10)\n",
      "ALT\n",
      "PC-000310\n",
      "(1, 10)\n",
      "AU-R-000380\n",
      "(1, 10)\n",
      "BS\n",
      "AU-R-000156\n",
      "(1, 10)\n",
      "PC-000185\n",
      "(1, 10)\n",
      "BMC\n",
      "402-00930\n",
      "(1, 10)\n",
      "BBF\n",
      "MR281525\n",
      "(1, 10)\n",
      "BUD\n",
      "C9-0000167-LIC\n",
      "(1, 10)\n",
      "C9-0000444-LIC\n",
      "(1, 10)\n",
      "C9-0000464-LIC\n",
      "(1, 10)\n",
      "C9-0000467-LIC\n",
      "(1, 10)\n",
      "C9-0000399-LIC\n",
      "(1, 10)\n",
      "BRC\n",
      "C10-0000603-LIC\n",
      "(1, 10)\n",
      "BYN\n",
      "C10-0000528-LIC\n",
      "(1, 10)\n",
      "CHO\n",
      "AU-R-000575\n",
      "(1, 10)\n",
      "CG\n",
      "C9-0000157-LIC\n",
      "(1, 10)\n",
      "CPA\n",
      "C9-0000348-LIC\n",
      "(1, 10)\n",
      "C10-0000461-LIC\n",
      "(1, 10)\n",
      "CPC\n",
      "C9-0000056-LIC\n",
      "(1, 10)\n",
      "CSC\n",
      "C10-0000670-LIC\n",
      "(1, 10)\n",
      "C10-0000918-LIC\n",
      "(1, 10)\n",
      "CCC\n",
      "C12-0000087-LIC\n",
      "(1, 10)\n",
      "CLC\n",
      "C10-0000986-LIC\n",
      "C12-0000318-LIC\n",
      "(1, 10)\n",
      "CC\n",
      "C10-0000758-LIC\n",
      "(1, 10)\n",
      "DWF\n",
      "402R-00296\n",
      "(1, 10)\n",
      "402R-00804\n",
      "(1, 10)\n",
      "DCO\n",
      "050-10052885D4C\n",
      "(1, 10)\n",
      "050-10070593E9E\n",
      "(1, 10)\n",
      "DL\n",
      "MR283369\n",
      "(1, 10)\n",
      "DGG\n",
      "C9-0000016-LIC\n",
      "(1, 10)\n",
      "DG\n",
      "PC-000485\n",
      "(1, 10)\n",
      "AU-R-000287\n",
      "(1, 10)\n",
      "AU-R-000359\n",
      "(1, 10)\n",
      "AU-R-000422\n",
      "(1, 10)\n",
      "AU-R-000470\n",
      "(1, 10)\n",
      "AU-R-000572\n",
      "(1, 10)\n",
      "EL\n",
      "C9-0000370-LIC\n",
      "(1, 10)\n",
      "EMA\n",
      "C10-0000774-LIC\n",
      "(1, 10)\n",
      "EMF\n",
      "C10-0000939-LIC\n",
      "(1, 10)\n",
      "EMM\n",
      "C10-0000786-LIC\n",
      "(1, 10)\n",
      "EMT\n",
      "C10-0000695-LIC\n",
      "(1, 10)\n",
      "EH\n",
      "MR283073\n",
      "(1, 10)\n",
      "FW\n",
      "402-00558\n",
      "(1, 10)\n",
      "402-00891\n",
      "(1, 10)\n",
      "402R-00017\n",
      "(1, 10)\n",
      "402R-00020\n",
      "(1, 10)\n",
      "402R-00747\n",
      "(1, 10)\n",
      "GT\n",
      "C9-0000170-LIC\n",
      "(1, 10)\n",
      "C9-0000385-LIC\n",
      "(1, 10)\n",
      "GLNR\n",
      "PC-000334\n",
      "(1, 10)\n",
      "PC-000613\n",
      "(1, 10)\n",
      "PC-000722\n",
      "(1, 10)\n",
      "AU-R-000182\n",
      "(1, 10)\n",
      "AU-R-000461\n",
      "(1, 10)\n",
      "AU-R-000559\n",
      "(1, 10)\n",
      "GRG\n",
      "C10-0000169-LIC\n",
      "(1, 10)\n",
      "C10-0000408-LIC\n",
      "(1, 10)\n",
      "GTR\n",
      "PC-000225\n",
      "(1, 10)\n",
      "AU-R-000163\n",
      "(1, 10)\n",
      "GHC\n",
      "C10-0000414-LIC\n",
      "(1, 10)\n",
      "HB\n",
      "C10-0000339-LIC\n",
      "(1, 10)\n",
      "C10-0000624-LIC\n",
      "(1, 10)\n",
      "C10-0000301-LIC\n",
      "(1, 10)\n",
      "HS\n",
      "C9-0000441-LIC\n",
      "(1, 10)\n",
      "HPCC\n",
      "C10-0000064-LIC\n",
      "(1, 10)\n",
      "C10-0000005-LIC\n",
      "(1, 10)\n",
      "HC\n",
      "C9-0000341-LIC\n",
      "(1, 10)\n",
      "IDC\n",
      "C9-0000320-LIC\n",
      "(1, 10)\n",
      "ID\n",
      "C9-0000166-LIC\n",
      "(1, 10)\n",
      "KAR\n",
      "402-00693\n",
      "(1, 10)\n",
      "402R-00744\n",
      "(1, 10)\n",
      "KC\n",
      "402-00323\n",
      "(1, 10)\n",
      "402-00573\n",
      "(1, 10)\n",
      "402-00664\n",
      "(1, 10)\n",
      "402R-00515\n",
      "(1, 10)\n",
      "402R-00544\n",
      "(1, 10)\n",
      "402R-00900\n",
      "(1, 10)\n",
      "402R-00002\n",
      "(1, 10)\n",
      "402-01146\n",
      "(1, 10)\n",
      "402-00037\n",
      "(1, 10)\n",
      "402R-00035\n",
      "(1, 10)\n",
      "402R-00574\n",
      "(1, 10)\n",
      "LEG\n",
      "PC-000231\n",
      "(1, 10)\n",
      "PC-000335\n",
      "(1, 10)\n",
      "AU-R-000260\n",
      "(1, 10)\n",
      "AU-R-000261\n",
      "(1, 10)\n",
      "LBC\n",
      "C9-0000154-LIC\n",
      "(1, 10)\n",
      "MSS\n",
      "C10-0000816-LIC\n",
      "(1, 10)\n",
      "ML\n",
      "C9-0000300-LIC\n",
      "(1, 10)\n",
      "MW\n",
      "C10-0000332-LIC\n",
      "(1, 10)\n",
      "MPW\n",
      "C10-0000547-LIC\n",
      "(1, 10)\n",
      "MD\n",
      "C9-0000247-LIC\n",
      "(1, 10)\n",
      "ND\n",
      "C9-0000427-LIC\n",
      "(1, 10)\n",
      "NECC\n",
      "MR283416\n",
      "(1, 10)\n",
      "PGM\n",
      "PC-000415\n",
      "(1, 10)\n",
      "PC-000551\n",
      "(1, 10)\n",
      "PC-000725\n",
      "(1, 10)\n",
      "PC-000167\n",
      "(1, 10)\n",
      "PC-000169\n",
      "AU-R-000196\n",
      "(1, 10)\n",
      "AU-R-000197\n",
      "(1, 10)\n",
      "AU-R-000198\n",
      "(1, 10)\n",
      "AU-R-000366\n",
      "(1, 10)\n",
      "AU-R-000506\n",
      "(1, 10)\n",
      "PC-000160\n",
      "(1, 10)\n",
      "PRP\n",
      "C10-0000155-LIC\n",
      "(1, 10)\n",
      "C10-0000286-LIC\n",
      "(1, 10)\n",
      "C10-0000403-LIC\n",
      "(1, 10)\n",
      "PRL\n",
      "C10-0000759-LIC\n",
      "(1, 10)\n",
      "QR\n",
      "AU-R-000233\n",
      "(1, 10)\n",
      "AU-R-000346\n",
      "(1, 10)\n",
      "PC-000356\n",
      "AU-R-000633\n",
      "(1, 10)\n",
      "RA\n",
      "C10-0000596-LIC\n",
      "(1, 10)\n",
      "RGD\n",
      "C9-0000057-LIC\n",
      "(1, 10)\n",
      "SFV\n",
      "C10-0000041-LIC\n",
      "(1, 10)\n",
      "SV\n",
      "C9-0000146-LIC\n",
      "(1, 10)\n",
      "SLCC\n",
      "C10-0000474-LIC\n",
      "(1, 10)\n",
      "SO\n",
      "C10-0000271-LIC\n",
      "(1, 10)\n",
      "C12-0000328-LIC\n",
      "(1, 10)\n",
      "C9-0000130-LIC\n",
      "(1, 10)\n",
      "ST\n",
      "C9-0000323-LIC\n",
      "(1, 10)\n",
      "DW\n",
      "MR282376\n",
      "(1, 10)\n",
      "TGL\n",
      "C9-0000412-LIC\n",
      "(1, 10)\n",
      "TJR\n",
      "C9-0000105-LIC\n",
      "(1, 10)\n",
      "TTS\n",
      "PC-000718\n",
      "(1, 10)\n",
      "AU-R-000546\n",
      "(1, 10)\n",
      "TT\n",
      "C9-0000551-LIC\n",
      "(1, 10)\n",
      "C9-0000451-LIC\n",
      "(1, 10)\n",
      "T4L\n",
      "C12-0000302-LIC\n",
      "(1, 10)\n",
      "TL\n",
      "402-00390\n",
      "(1, 10)\n",
      "402R-00807\n",
      "(1, 10)\n",
      "402-00473\n",
      "(1, 10)\n",
      "402-01201\n",
      "(1, 10)\n",
      "402R-00066\n",
      "(1, 10)\n",
      "402R-00487\n",
      "402R-00505\n",
      "402R-00536\n",
      "(1, 10)\n",
      "402R-00571\n",
      "402R-00602\n",
      "(1, 10)\n",
      "402R-00808\n",
      "402-00370\n",
      "(1, 10)\n",
      "402-01142\n",
      "(1, 10)\n",
      "402R-00041\n",
      "(1, 10)\n",
      "402R-00242\n",
      "402R-00246\n",
      "402R-00362\n",
      "402R-00573\n",
      "(1, 10)\n",
      "402R-00781\n",
      "(1, 10)\n",
      "UHHC\n",
      "C10-0000817-LIC\n",
      "(1, 10)\n",
      "C9-0000082-LIC\n",
      "(1, 10)\n",
      "VS\n",
      "402-00840\n",
      "(1, 10)\n",
      "402R-00545\n",
      "(1, 10)\n",
      "VOY\n",
      "C12-0000030-LIC\n",
      "(1, 10)\n",
      "C10-0000802-LIC\n",
      "(1, 10)\n",
      "C12-0000159-LIC\n",
      "(1, 10)\n",
      "99HT\n",
      "C10-0000279-LIC\n",
      "(1, 10)\n",
      "ALT\n",
      "PC-000310\n",
      "(1, 10)\n",
      "AU-R-000380\n",
      "(1, 10)\n",
      "BS\n",
      "AU-R-000156\n",
      "(1, 10)\n",
      "PC-000185\n",
      "(1, 10)\n",
      "BMC\n",
      "402-00930\n",
      "(1, 10)\n",
      "BBF\n",
      "MR281525\n",
      "(1, 10)\n",
      "BUD\n",
      "C9-0000167-LIC\n",
      "(1, 10)\n",
      "C9-0000444-LIC\n",
      "(1, 10)\n",
      "C9-0000464-LIC\n",
      "(1, 10)\n",
      "C9-0000467-LIC\n",
      "(1, 10)\n",
      "C9-0000399-LIC\n",
      "(1, 10)\n",
      "BRC\n",
      "C10-0000603-LIC\n",
      "(1, 10)\n",
      "BYN\n",
      "C10-0000528-LIC\n",
      "(1, 10)\n",
      "CHO\n",
      "AU-R-000575\n",
      "(1, 10)\n",
      "CG\n",
      "C9-0000157-LIC\n",
      "(1, 10)\n",
      "CPA\n",
      "C9-0000348-LIC\n",
      "(1, 10)\n",
      "C10-0000461-LIC\n",
      "(1, 10)\n",
      "CPC\n",
      "C9-0000056-LIC\n",
      "(1, 10)\n",
      "CSC\n",
      "C10-0000670-LIC\n",
      "(1, 10)\n",
      "C10-0000918-LIC\n",
      "(1, 10)\n",
      "CCC\n",
      "C12-0000087-LIC\n",
      "(1, 10)\n",
      "CLC\n",
      "C10-0000986-LIC\n",
      "C12-0000318-LIC\n",
      "(1, 10)\n",
      "CC\n",
      "C10-0000758-LIC\n",
      "(1, 10)\n",
      "DWF\n",
      "402R-00296\n",
      "(1, 10)\n",
      "402R-00804\n",
      "(1, 10)\n",
      "DCO\n",
      "050-10052885D4C\n",
      "(1, 10)\n",
      "050-10070593E9E\n",
      "(1, 10)\n",
      "DL\n",
      "MR283369\n",
      "(1, 10)\n",
      "DGG\n",
      "C9-0000016-LIC\n",
      "(1, 10)\n",
      "DG\n",
      "PC-000485\n",
      "(1, 10)\n",
      "AU-R-000287\n",
      "(1, 10)\n",
      "AU-R-000359\n",
      "(1, 10)\n",
      "AU-R-000422\n",
      "(1, 10)\n",
      "AU-R-000470\n",
      "(1, 10)\n",
      "AU-R-000572\n",
      "(1, 10)\n",
      "EL\n",
      "C9-0000370-LIC\n",
      "(1, 10)\n",
      "EMA\n",
      "C10-0000774-LIC\n",
      "(1, 10)\n",
      "EMF\n",
      "C10-0000939-LIC\n",
      "(1, 10)\n",
      "EMM\n",
      "C10-0000786-LIC\n",
      "(1, 10)\n",
      "EMT\n",
      "C10-0000695-LIC\n",
      "(1, 10)\n",
      "EH\n",
      "MR283073\n",
      "(1, 10)\n",
      "FW\n",
      "402-00558\n",
      "(1, 10)\n",
      "402-00891\n",
      "(1, 10)\n",
      "402R-00017\n",
      "(1, 10)\n",
      "402R-00020\n",
      "(1, 10)\n",
      "402R-00747\n",
      "(1, 10)\n",
      "GT\n",
      "C9-0000170-LIC\n",
      "(1, 10)\n",
      "C9-0000385-LIC\n",
      "(1, 10)\n",
      "GLNR\n",
      "PC-000334\n",
      "(1, 10)\n",
      "PC-000613\n",
      "(1, 10)\n",
      "PC-000722\n",
      "(1, 10)\n",
      "AU-R-000182\n",
      "(1, 10)\n",
      "AU-R-000461\n",
      "(1, 10)\n",
      "AU-R-000559\n",
      "(1, 10)\n",
      "GRG\n",
      "C10-0000169-LIC\n",
      "(1, 10)\n",
      "C10-0000408-LIC\n",
      "(1, 10)\n",
      "GTR\n",
      "PC-000225\n",
      "(1, 10)\n",
      "AU-R-000163\n",
      "(1, 10)\n",
      "GHC\n",
      "C10-0000414-LIC\n",
      "(1, 10)\n",
      "HB\n",
      "C10-0000339-LIC\n",
      "(1, 10)\n",
      "C10-0000624-LIC\n",
      "(1, 10)\n",
      "C10-0000301-LIC\n",
      "(1, 10)\n",
      "HS\n",
      "C9-0000441-LIC\n",
      "(1, 10)\n",
      "HPCC\n",
      "C10-0000064-LIC\n",
      "(1, 10)\n",
      "C10-0000005-LIC\n",
      "(1, 10)\n",
      "HC\n",
      "C9-0000341-LIC\n",
      "(1, 10)\n",
      "IDC\n",
      "C9-0000320-LIC\n",
      "(1, 10)\n",
      "ID\n",
      "C9-0000166-LIC\n",
      "(1, 10)\n",
      "KAR\n",
      "402-00693\n",
      "(1, 10)\n",
      "402R-00744\n",
      "(1, 10)\n",
      "KC\n",
      "402-00323\n",
      "(1, 10)\n",
      "402-00573\n",
      "(1, 10)\n",
      "402-00664\n",
      "(1, 10)\n",
      "402R-00515\n",
      "(1, 10)\n",
      "402R-00544\n",
      "(1, 10)\n",
      "402R-00900\n",
      "(1, 10)\n",
      "402R-00002\n",
      "(1, 10)\n",
      "402-01146\n",
      "(1, 10)\n",
      "402-00037\n",
      "(1, 10)\n",
      "402R-00035\n",
      "(1, 10)\n",
      "402R-00574\n",
      "(1, 10)\n",
      "LEG\n",
      "PC-000231\n",
      "(1, 10)\n",
      "PC-000335\n",
      "(1, 10)\n",
      "AU-R-000260\n",
      "(1, 10)\n",
      "AU-R-000261\n",
      "(1, 10)\n",
      "LBC\n",
      "C9-0000154-LIC\n",
      "(1, 10)\n",
      "MSS\n",
      "C10-0000816-LIC\n",
      "(1, 10)\n",
      "ML\n",
      "C9-0000300-LIC\n",
      "(1, 10)\n",
      "MW\n",
      "C10-0000332-LIC\n",
      "(1, 10)\n",
      "MPW\n",
      "C10-0000547-LIC\n",
      "(1, 10)\n",
      "MD\n",
      "C9-0000247-LIC\n",
      "(1, 10)\n",
      "ND\n",
      "C9-0000427-LIC\n",
      "(1, 10)\n",
      "NECC\n",
      "MR283416\n",
      "(1, 10)\n",
      "PGM\n",
      "PC-000415\n",
      "(1, 10)\n",
      "PC-000551\n",
      "(1, 10)\n",
      "PC-000725\n",
      "(1, 10)\n",
      "PC-000167\n",
      "(1, 10)\n",
      "PC-000169\n",
      "AU-R-000196\n",
      "(1, 10)\n",
      "AU-R-000197\n",
      "(1, 10)\n",
      "AU-R-000198\n",
      "(1, 10)\n",
      "AU-R-000366\n",
      "(1, 10)\n",
      "AU-R-000506\n",
      "(1, 10)\n",
      "PC-000160\n",
      "(1, 10)\n",
      "PRP\n",
      "C10-0000155-LIC\n",
      "(1, 10)\n",
      "C10-0000286-LIC\n",
      "(1, 10)\n",
      "C10-0000403-LIC\n",
      "(1, 10)\n",
      "PRL\n",
      "C10-0000759-LIC\n",
      "(1, 10)\n",
      "QR\n",
      "AU-R-000233\n",
      "(1, 10)\n",
      "AU-R-000346\n",
      "(1, 10)\n",
      "PC-000356\n",
      "AU-R-000633\n",
      "(1, 10)\n",
      "RA\n",
      "C10-0000596-LIC\n",
      "(1, 10)\n",
      "RGD\n",
      "C9-0000057-LIC\n",
      "(1, 10)\n",
      "SFV\n",
      "C10-0000041-LIC\n",
      "(1, 10)\n",
      "SV\n",
      "C9-0000146-LIC\n",
      "(1, 10)\n",
      "SLCC\n",
      "C10-0000474-LIC\n",
      "(1, 10)\n",
      "SO\n",
      "C10-0000271-LIC\n",
      "(1, 10)\n",
      "C12-0000328-LIC\n",
      "(1, 10)\n",
      "C9-0000130-LIC\n",
      "(1, 10)\n",
      "ST\n",
      "C9-0000323-LIC\n",
      "(1, 10)\n",
      "DW\n",
      "MR282376\n",
      "(1, 10)\n",
      "TGL\n",
      "C9-0000412-LIC\n",
      "(1, 10)\n",
      "TJR\n",
      "C9-0000105-LIC\n",
      "(1, 10)\n",
      "TTS\n",
      "PC-000718\n",
      "(1, 10)\n",
      "AU-R-000546\n",
      "(1, 10)\n",
      "TT\n",
      "C9-0000551-LIC\n",
      "(1, 10)\n",
      "C9-0000451-LIC\n",
      "(1, 10)\n",
      "T4L\n",
      "C12-0000302-LIC\n",
      "(1, 10)\n",
      "TL\n",
      "402-00390\n",
      "(1, 10)\n",
      "402R-00807\n",
      "(1, 10)\n",
      "402-00473\n",
      "(1, 10)\n",
      "402-01201\n",
      "(1, 10)\n",
      "402R-00066\n",
      "(1, 10)\n",
      "402R-00487\n",
      "402R-00505\n",
      "402R-00536\n",
      "(1, 10)\n",
      "402R-00571\n",
      "402R-00602\n",
      "(1, 10)\n",
      "402R-00808\n",
      "402-00370\n",
      "(1, 10)\n",
      "402-01142\n",
      "(1, 10)\n",
      "402R-00041\n",
      "(1, 10)\n",
      "402R-00242\n",
      "402R-00246\n",
      "402R-00362\n",
      "402R-00573\n",
      "(1, 10)\n",
      "402R-00781\n",
      "(1, 10)\n",
      "UHHC\n",
      "C10-0000817-LIC\n",
      "(1, 10)\n",
      "C9-0000082-LIC\n",
      "(1, 10)\n",
      "VS\n",
      "402-00840\n",
      "(1, 10)\n",
      "402R-00545\n",
      "(1, 10)\n",
      "VOY\n",
      "C12-0000030-LIC\n",
      "(1, 10)\n",
      "C10-0000802-LIC\n",
      "(1, 10)\n",
      "C12-0000159-LIC\n",
      "(1, 10)\n",
      "99HT\n",
      "C10-0000279-LIC\n",
      "(1, 10)\n",
      "ALT\n",
      "PC-000310\n",
      "(1, 10)\n",
      "AU-R-000380\n",
      "(1, 10)\n",
      "BS\n",
      "AU-R-000156\n",
      "(1, 10)\n",
      "PC-000185\n",
      "(1, 10)\n",
      "BMC\n",
      "402-00930\n",
      "(1, 10)\n",
      "BBF\n",
      "MR281525\n",
      "(1, 10)\n",
      "BUD\n",
      "C9-0000167-LIC\n",
      "(1, 10)\n",
      "C9-0000444-LIC\n",
      "(1, 10)\n",
      "C9-0000464-LIC\n",
      "(1, 10)\n",
      "C9-0000467-LIC\n",
      "(1, 10)\n",
      "C9-0000399-LIC\n",
      "(1, 10)\n",
      "BRC\n",
      "C10-0000603-LIC\n",
      "(1, 10)\n",
      "BYN\n",
      "C10-0000528-LIC\n",
      "(1, 10)\n",
      "CHO\n",
      "AU-R-000575\n",
      "(1, 10)\n",
      "CG\n",
      "C9-0000157-LIC\n",
      "(1, 10)\n",
      "CPA\n",
      "C9-0000348-LIC\n",
      "(1, 10)\n",
      "C10-0000461-LIC\n",
      "(1, 10)\n",
      "CPC\n",
      "C9-0000056-LIC\n",
      "(1, 10)\n",
      "CSC\n",
      "C10-0000670-LIC\n",
      "(1, 10)\n",
      "C10-0000918-LIC\n",
      "(1, 10)\n",
      "CCC\n",
      "C12-0000087-LIC\n",
      "(1, 10)\n",
      "CLC\n",
      "C10-0000986-LIC\n",
      "C12-0000318-LIC\n",
      "(1, 10)\n",
      "CC\n",
      "C10-0000758-LIC\n",
      "(1, 10)\n",
      "DWF\n",
      "402R-00296\n",
      "(1, 10)\n",
      "402R-00804\n",
      "(1, 10)\n",
      "DCO\n",
      "050-10052885D4C\n",
      "(1, 10)\n",
      "050-10070593E9E\n",
      "(1, 10)\n",
      "DL\n",
      "MR283369\n",
      "(1, 10)\n",
      "DGG\n",
      "C9-0000016-LIC\n",
      "(1, 10)\n",
      "DG\n",
      "PC-000485\n",
      "(1, 10)\n",
      "AU-R-000287\n",
      "(1, 10)\n",
      "AU-R-000359\n",
      "(1, 10)\n",
      "AU-R-000422\n",
      "(1, 10)\n",
      "AU-R-000470\n",
      "(1, 10)\n",
      "AU-R-000572\n",
      "(1, 10)\n",
      "EL\n",
      "C9-0000370-LIC\n",
      "(1, 10)\n",
      "EMA\n",
      "C10-0000774-LIC\n",
      "(1, 10)\n",
      "EMF\n",
      "C10-0000939-LIC\n",
      "(1, 10)\n",
      "EMM\n",
      "C10-0000786-LIC\n",
      "(1, 10)\n",
      "EMT\n",
      "C10-0000695-LIC\n",
      "(1, 10)\n",
      "EH\n",
      "MR283073\n",
      "(1, 10)\n",
      "FW\n",
      "402-00558\n",
      "(1, 10)\n",
      "402-00891\n",
      "(1, 10)\n",
      "402R-00017\n",
      "(1, 10)\n",
      "402R-00020\n",
      "(1, 10)\n",
      "402R-00747\n",
      "(1, 10)\n",
      "GT\n",
      "C9-0000170-LIC\n",
      "(1, 10)\n",
      "C9-0000385-LIC\n",
      "(1, 10)\n",
      "GLNR\n",
      "PC-000334\n",
      "(1, 10)\n",
      "PC-000613\n",
      "(1, 10)\n",
      "PC-000722\n",
      "(1, 10)\n",
      "AU-R-000182\n",
      "(1, 10)\n",
      "AU-R-000461\n",
      "(1, 10)\n",
      "AU-R-000559\n",
      "(1, 10)\n",
      "GRG\n",
      "C10-0000169-LIC\n",
      "(1, 10)\n",
      "C10-0000408-LIC\n",
      "(1, 10)\n",
      "GTR\n",
      "PC-000225\n",
      "(1, 10)\n",
      "AU-R-000163\n",
      "(1, 10)\n",
      "GHC\n",
      "C10-0000414-LIC\n",
      "(1, 10)\n",
      "HB\n",
      "C10-0000339-LIC\n",
      "(1, 10)\n",
      "C10-0000624-LIC\n",
      "(1, 10)\n",
      "C10-0000301-LIC\n",
      "(1, 10)\n",
      "HS\n",
      "C9-0000441-LIC\n",
      "(1, 10)\n",
      "HPCC\n",
      "C10-0000064-LIC\n",
      "(1, 10)\n",
      "C10-0000005-LIC\n",
      "(1, 10)\n",
      "HC\n",
      "C9-0000341-LIC\n",
      "(1, 10)\n",
      "IDC\n",
      "C9-0000320-LIC\n",
      "(1, 10)\n",
      "ID\n",
      "C9-0000166-LIC\n",
      "(1, 10)\n",
      "KAR\n",
      "402-00693\n",
      "(1, 10)\n",
      "402R-00744\n",
      "(1, 10)\n",
      "KC\n",
      "402-00323\n",
      "(1, 10)\n",
      "402-00573\n",
      "(1, 10)\n",
      "402-00664\n",
      "(1, 10)\n",
      "402R-00515\n",
      "(1, 10)\n",
      "402R-00544\n",
      "(1, 10)\n",
      "402R-00900\n",
      "(1, 10)\n",
      "402R-00002\n",
      "(1, 10)\n",
      "402-01146\n",
      "(1, 10)\n",
      "402-00037\n",
      "(1, 10)\n",
      "402R-00035\n",
      "(1, 10)\n",
      "402R-00574\n",
      "(1, 10)\n",
      "LEG\n",
      "PC-000231\n",
      "(1, 10)\n",
      "PC-000335\n",
      "(1, 10)\n",
      "AU-R-000260\n",
      "(1, 10)\n",
      "AU-R-000261\n",
      "(1, 10)\n",
      "LBC\n",
      "C9-0000154-LIC\n",
      "(1, 10)\n",
      "MSS\n",
      "C10-0000816-LIC\n",
      "(1, 10)\n",
      "ML\n",
      "C9-0000300-LIC\n",
      "(1, 10)\n",
      "MW\n",
      "C10-0000332-LIC\n",
      "(1, 10)\n",
      "MPW\n",
      "C10-0000547-LIC\n",
      "(1, 10)\n",
      "MD\n",
      "C9-0000247-LIC\n",
      "(1, 10)\n",
      "ND\n",
      "C9-0000427-LIC\n",
      "(1, 10)\n",
      "NECC\n",
      "MR283416\n",
      "(1, 10)\n",
      "PGM\n",
      "PC-000415\n",
      "(1, 10)\n",
      "PC-000551\n",
      "(1, 10)\n",
      "PC-000725\n",
      "(1, 10)\n",
      "PC-000167\n",
      "(1, 10)\n",
      "PC-000169\n",
      "AU-R-000196\n",
      "(1, 10)\n",
      "AU-R-000197\n",
      "(1, 10)\n",
      "AU-R-000198\n",
      "(1, 10)\n",
      "AU-R-000366\n",
      "(1, 10)\n",
      "AU-R-000506\n",
      "(1, 10)\n",
      "PC-000160\n",
      "(1, 10)\n",
      "PRP\n",
      "C10-0000155-LIC\n",
      "(1, 10)\n",
      "C10-0000286-LIC\n",
      "(1, 10)\n",
      "C10-0000403-LIC\n",
      "(1, 10)\n",
      "PRL\n",
      "C10-0000759-LIC\n",
      "(1, 10)\n",
      "QR\n",
      "AU-R-000233\n",
      "(1, 10)\n",
      "AU-R-000346\n",
      "(1, 10)\n",
      "PC-000356\n",
      "AU-R-000633\n",
      "(1, 10)\n",
      "RA\n",
      "C10-0000596-LIC\n",
      "(1, 10)\n",
      "RGD\n",
      "C9-0000057-LIC\n",
      "(1, 10)\n",
      "SFV\n",
      "C10-0000041-LIC\n",
      "(1, 10)\n",
      "SV\n",
      "C9-0000146-LIC\n",
      "(1, 10)\n",
      "SLCC\n",
      "C10-0000474-LIC\n",
      "(1, 10)\n",
      "SO\n",
      "C10-0000271-LIC\n",
      "(1, 10)\n",
      "C12-0000328-LIC\n",
      "(1, 10)\n",
      "C9-0000130-LIC\n",
      "(1, 10)\n",
      "ST\n",
      "C9-0000323-LIC\n",
      "(1, 10)\n",
      "DW\n",
      "MR282376\n",
      "(1, 10)\n",
      "TGL\n",
      "C9-0000412-LIC\n",
      "(1, 10)\n",
      "TJR\n",
      "C9-0000105-LIC\n",
      "(1, 10)\n",
      "TTS\n",
      "PC-000718\n",
      "(1, 10)\n",
      "AU-R-000546\n",
      "(1, 10)\n",
      "TT\n",
      "C9-0000551-LIC\n",
      "(1, 10)\n",
      "C9-0000451-LIC\n",
      "(1, 10)\n",
      "T4L\n",
      "C12-0000302-LIC\n",
      "(1, 10)\n",
      "TL\n",
      "402-00390\n",
      "(1, 10)\n",
      "402R-00807\n",
      "(1, 10)\n",
      "402-00473\n",
      "(1, 10)\n",
      "402-01201\n",
      "(1, 10)\n",
      "402R-00066\n",
      "(1, 10)\n",
      "402R-00487\n",
      "402R-00505\n",
      "402R-00536\n",
      "(1, 10)\n",
      "402R-00571\n",
      "402R-00602\n",
      "(1, 10)\n",
      "402R-00808\n",
      "402-00370\n",
      "(1, 10)\n",
      "402-01142\n",
      "(1, 10)\n",
      "402R-00041\n",
      "(1, 10)\n",
      "402R-00242\n",
      "402R-00246\n",
      "402R-00362\n",
      "402R-00573\n",
      "(1, 10)\n",
      "402R-00781\n",
      "(1, 10)\n",
      "UHHC\n",
      "C10-0000817-LIC\n",
      "(1, 10)\n",
      "C9-0000082-LIC\n",
      "(1, 10)\n",
      "VS\n",
      "402-00840\n",
      "(1, 10)\n",
      "402R-00545\n",
      "(1, 10)\n",
      "VOY\n",
      "C12-0000030-LIC\n",
      "(1, 10)\n",
      "C10-0000802-LIC\n",
      "(1, 10)\n",
      "C12-0000159-LIC\n",
      "(1, 10)\n",
      "99HT\n",
      "C10-0000279-LIC\n",
      "(1, 10)\n",
      "ALT\n",
      "PC-000310\n",
      "(1, 10)\n",
      "AU-R-000380\n",
      "(1, 10)\n",
      "BS\n",
      "AU-R-000156\n",
      "(1, 10)\n",
      "PC-000185\n",
      "(1, 10)\n",
      "BMC\n",
      "402-00930\n",
      "(1, 10)\n",
      "BBF\n",
      "MR281525\n",
      "(1, 10)\n",
      "BUD\n",
      "C9-0000167-LIC\n",
      "(1, 10)\n",
      "C9-0000444-LIC\n",
      "(1, 10)\n",
      "C9-0000464-LIC\n",
      "(1, 10)\n",
      "C9-0000467-LIC\n",
      "(1, 10)\n",
      "C9-0000399-LIC\n",
      "(1, 10)\n",
      "BRC\n",
      "C10-0000603-LIC\n",
      "(1, 10)\n",
      "BYN\n",
      "C10-0000528-LIC\n",
      "(1, 10)\n",
      "CHO\n",
      "AU-R-000575\n",
      "(1, 10)\n",
      "CG\n",
      "C9-0000157-LIC\n",
      "(1, 10)\n",
      "CPA\n",
      "C9-0000348-LIC\n",
      "(1, 10)\n",
      "C10-0000461-LIC\n",
      "(1, 10)\n",
      "CPC\n",
      "C9-0000056-LIC\n",
      "(1, 10)\n",
      "CSC\n",
      "C10-0000670-LIC\n",
      "(1, 10)\n",
      "C10-0000918-LIC\n",
      "(1, 10)\n",
      "CCC\n",
      "C12-0000087-LIC\n",
      "(1, 10)\n",
      "CLC\n",
      "C10-0000986-LIC\n",
      "C12-0000318-LIC\n",
      "(1, 10)\n",
      "CC\n",
      "C10-0000758-LIC\n",
      "(1, 10)\n",
      "DWF\n",
      "402R-00296\n",
      "(1, 10)\n",
      "402R-00804\n",
      "(1, 10)\n",
      "DCO\n",
      "050-10052885D4C\n",
      "(1, 10)\n",
      "050-10070593E9E\n"
     ]
    },
    {
     "name": "stdout",
     "output_type": "stream",
     "text": [
      "(1, 10)\n",
      "DL\n",
      "MR283369\n",
      "(1, 10)\n",
      "DGG\n",
      "C9-0000016-LIC\n",
      "(1, 10)\n",
      "DG\n",
      "PC-000485\n",
      "(1, 10)\n",
      "AU-R-000287\n",
      "(1, 10)\n",
      "AU-R-000359\n",
      "(1, 10)\n",
      "AU-R-000422\n",
      "(1, 10)\n",
      "AU-R-000470\n",
      "(1, 10)\n",
      "AU-R-000572\n",
      "(1, 10)\n",
      "EL\n",
      "C9-0000370-LIC\n",
      "(1, 10)\n",
      "EMA\n",
      "C10-0000774-LIC\n",
      "(1, 10)\n",
      "EMF\n",
      "C10-0000939-LIC\n",
      "(1, 10)\n",
      "EMM\n",
      "C10-0000786-LIC\n",
      "(1, 10)\n",
      "EMT\n",
      "C10-0000695-LIC\n",
      "(1, 10)\n",
      "EH\n",
      "MR283073\n",
      "(1, 10)\n",
      "FW\n",
      "402-00558\n",
      "(1, 10)\n",
      "402-00891\n",
      "(1, 10)\n",
      "402R-00017\n",
      "(1, 10)\n",
      "402R-00020\n",
      "(1, 10)\n",
      "402R-00747\n",
      "(1, 10)\n",
      "GT\n",
      "C9-0000170-LIC\n",
      "(1, 10)\n",
      "C9-0000385-LIC\n",
      "(1, 10)\n",
      "GLNR\n",
      "PC-000334\n",
      "(1, 10)\n",
      "PC-000613\n",
      "(1, 10)\n",
      "PC-000722\n",
      "(1, 10)\n",
      "AU-R-000182\n",
      "(1, 10)\n",
      "AU-R-000461\n",
      "(1, 10)\n",
      "AU-R-000559\n",
      "(1, 10)\n",
      "GRG\n",
      "C10-0000169-LIC\n",
      "(1, 10)\n",
      "C10-0000408-LIC\n",
      "(1, 10)\n",
      "GTR\n",
      "PC-000225\n",
      "(1, 10)\n",
      "AU-R-000163\n",
      "(1, 10)\n",
      "GHC\n",
      "C10-0000414-LIC\n",
      "(1, 10)\n",
      "HB\n",
      "C10-0000339-LIC\n",
      "(1, 10)\n",
      "C10-0000624-LIC\n",
      "(1, 10)\n",
      "C10-0000301-LIC\n",
      "(1, 10)\n",
      "HS\n",
      "C9-0000441-LIC\n",
      "(1, 10)\n",
      "HPCC\n",
      "C10-0000064-LIC\n",
      "(1, 10)\n",
      "C10-0000005-LIC\n",
      "(1, 10)\n",
      "HC\n",
      "C9-0000341-LIC\n",
      "(1, 10)\n",
      "IDC\n",
      "C9-0000320-LIC\n",
      "(1, 10)\n",
      "ID\n",
      "C9-0000166-LIC\n",
      "(1, 10)\n",
      "KAR\n",
      "402-00693\n",
      "(1, 10)\n",
      "402R-00744\n",
      "(1, 10)\n",
      "KC\n",
      "402-00323\n",
      "(1, 10)\n",
      "402-00573\n",
      "(1, 10)\n",
      "402-00664\n",
      "(1, 10)\n",
      "402R-00515\n",
      "(1, 10)\n",
      "402R-00544\n",
      "(1, 10)\n",
      "402R-00900\n",
      "(1, 10)\n",
      "402R-00002\n",
      "(1, 10)\n",
      "402-01146\n",
      "(1, 10)\n",
      "402-00037\n",
      "(1, 10)\n",
      "402R-00035\n",
      "(1, 10)\n",
      "402R-00574\n",
      "(1, 10)\n",
      "LEG\n",
      "PC-000231\n",
      "(1, 10)\n",
      "PC-000335\n",
      "(1, 10)\n",
      "AU-R-000260\n",
      "(1, 10)\n",
      "AU-R-000261\n",
      "(1, 10)\n",
      "LBC\n",
      "C9-0000154-LIC\n",
      "(1, 10)\n",
      "MSS\n",
      "C10-0000816-LIC\n",
      "(1, 10)\n",
      "ML\n",
      "C9-0000300-LIC\n",
      "(1, 10)\n",
      "MW\n",
      "C10-0000332-LIC\n",
      "(1, 10)\n",
      "MPW\n",
      "C10-0000547-LIC\n",
      "(1, 10)\n",
      "MD\n",
      "C9-0000247-LIC\n",
      "(1, 10)\n",
      "ND\n",
      "C9-0000427-LIC\n",
      "(1, 10)\n",
      "NECC\n",
      "MR283416\n",
      "(1, 10)\n",
      "PGM\n",
      "PC-000415\n",
      "(1, 10)\n",
      "PC-000551\n",
      "(1, 10)\n",
      "PC-000725\n",
      "(1, 10)\n",
      "PC-000167\n",
      "(1, 10)\n",
      "PC-000169\n",
      "AU-R-000196\n",
      "(1, 10)\n",
      "AU-R-000197\n",
      "(1, 10)\n",
      "AU-R-000198\n",
      "(1, 10)\n",
      "AU-R-000366\n",
      "(1, 10)\n",
      "AU-R-000506\n",
      "(1, 10)\n",
      "PC-000160\n",
      "(1, 10)\n",
      "PRP\n",
      "C10-0000155-LIC\n",
      "(1, 10)\n",
      "C10-0000286-LIC\n",
      "(1, 10)\n",
      "C10-0000403-LIC\n",
      "(1, 10)\n",
      "PRL\n",
      "C10-0000759-LIC\n",
      "(1, 10)\n",
      "QR\n",
      "AU-R-000233\n",
      "(1, 10)\n",
      "AU-R-000346\n",
      "(1, 10)\n",
      "PC-000356\n",
      "AU-R-000633\n",
      "(1, 10)\n",
      "RA\n",
      "C10-0000596-LIC\n",
      "(1, 10)\n",
      "RGD\n",
      "C9-0000057-LIC\n",
      "(1, 10)\n",
      "SFV\n",
      "C10-0000041-LIC\n",
      "(1, 10)\n",
      "SV\n",
      "C9-0000146-LIC\n",
      "(1, 10)\n",
      "SLCC\n",
      "C10-0000474-LIC\n",
      "(1, 10)\n",
      "SO\n",
      "C10-0000271-LIC\n",
      "(1, 10)\n",
      "C12-0000328-LIC\n",
      "(1, 10)\n",
      "C9-0000130-LIC\n",
      "(1, 10)\n",
      "ST\n",
      "C9-0000323-LIC\n",
      "(1, 10)\n",
      "DW\n",
      "MR282376\n",
      "(1, 10)\n",
      "TGL\n",
      "C9-0000412-LIC\n",
      "(1, 10)\n",
      "TJR\n",
      "C9-0000105-LIC\n",
      "(1, 10)\n",
      "TTS\n",
      "PC-000718\n",
      "(1, 10)\n",
      "AU-R-000546\n",
      "(1, 10)\n",
      "TT\n",
      "C9-0000551-LIC\n",
      "(1, 10)\n",
      "C9-0000451-LIC\n",
      "(1, 10)\n",
      "T4L\n",
      "C12-0000302-LIC\n",
      "(1, 10)\n",
      "TL\n",
      "402-00390\n",
      "(1, 10)\n",
      "402R-00807\n",
      "(1, 10)\n",
      "402-00473\n",
      "(1, 10)\n",
      "402-01201\n",
      "(1, 10)\n",
      "402R-00066\n",
      "(1, 10)\n",
      "402R-00487\n",
      "402R-00505\n",
      "402R-00536\n",
      "(1, 10)\n",
      "402R-00571\n",
      "402R-00602\n",
      "(1, 10)\n",
      "402R-00808\n",
      "402-00370\n",
      "(1, 10)\n",
      "402-01142\n",
      "(1, 10)\n",
      "402R-00041\n",
      "(1, 10)\n",
      "402R-00242\n",
      "402R-00246\n",
      "402R-00362\n",
      "402R-00573\n",
      "(1, 10)\n",
      "402R-00781\n",
      "(1, 10)\n",
      "UHHC\n",
      "C10-0000817-LIC\n",
      "(1, 10)\n",
      "C9-0000082-LIC\n",
      "(1, 10)\n",
      "VS\n",
      "402-00840\n",
      "(1, 10)\n",
      "402R-00545\n",
      "(1, 10)\n",
      "VOY\n",
      "C12-0000030-LIC\n",
      "(1, 10)\n",
      "C10-0000802-LIC\n",
      "(1, 10)\n",
      "C12-0000159-LIC\n",
      "(1, 10)\n"
     ]
    }
   ],
   "source": [
    "df_decompress_90 = decompress_inv_dict(t1)\n",
    "df_decompress_9m = decompress_inv_dict(t2)\n",
    "df_decompress_12m = decompress_inv_dict(t3)\n",
    "df_decompress_12m_plus = decompress_inv_dict(t4)"
   ]
  },
  {
   "cell_type": "code",
   "execution_count": 75,
   "id": "38c75b80",
   "metadata": {},
   "outputs": [
    {
     "data": {
      "text/html": [
       "<div>\n",
       "<style scoped>\n",
       "    .dataframe tbody tr th:only-of-type {\n",
       "        vertical-align: middle;\n",
       "    }\n",
       "\n",
       "    .dataframe tbody tr th {\n",
       "        vertical-align: top;\n",
       "    }\n",
       "\n",
       "    .dataframe thead th {\n",
       "        text-align: right;\n",
       "    }\n",
       "</style>\n",
       "<table border=\"1\" class=\"dataframe\">\n",
       "  <thead>\n",
       "    <tr style=\"text-align: right;\">\n",
       "      <th></th>\n",
       "      <th>date</th>\n",
       "      <th>value10000</th>\n",
       "      <th>value_after_tax</th>\n",
       "      <th>total_incoming</th>\n",
       "      <th>total</th>\n",
       "      <th>coverage</th>\n",
       "      <th>license</th>\n",
       "      <th>legal_name</th>\n",
       "      <th>company</th>\n",
       "      <th>location</th>\n",
       "    </tr>\n",
       "  </thead>\n",
       "  <tbody>\n",
       "    <tr>\n",
       "      <th>0</th>\n",
       "      <td>2022-06-27</td>\n",
       "      <td>2508.87</td>\n",
       "      <td>3186.26</td>\n",
       "      <td>86</td>\n",
       "      <td>103</td>\n",
       "      <td>0.83</td>\n",
       "      <td>[C10-0000279-LIC]</td>\n",
       "      <td>99 HIGHTIDE COLLECTIVE</td>\n",
       "      <td>99HT</td>\n",
       "      <td>C10-0000279-LIC</td>\n",
       "    </tr>\n",
       "    <tr>\n",
       "      <th>0</th>\n",
       "      <td>2022-06-27</td>\n",
       "      <td>2615.0</td>\n",
       "      <td>3321.05</td>\n",
       "      <td>6</td>\n",
       "      <td>6</td>\n",
       "      <td>1.0</td>\n",
       "      <td>[PC-000310]</td>\n",
       "      <td>Pure Canna Michigan</td>\n",
       "      <td>ALT</td>\n",
       "      <td>PC-000310</td>\n",
       "    </tr>\n",
       "    <tr>\n",
       "      <th>0</th>\n",
       "      <td>2022-06-27</td>\n",
       "      <td>1900.96</td>\n",
       "      <td>2414.22</td>\n",
       "      <td>8</td>\n",
       "      <td>8</td>\n",
       "      <td>1.0</td>\n",
       "      <td>[AU-R-000380]</td>\n",
       "      <td>PURE CANNA MICHIGAN</td>\n",
       "      <td>ALT</td>\n",
       "      <td>AU-R-000380</td>\n",
       "    </tr>\n",
       "    <tr>\n",
       "      <th>0</th>\n",
       "      <td>2022-06-27</td>\n",
       "      <td>1022.0</td>\n",
       "      <td>1297.94</td>\n",
       "      <td>9</td>\n",
       "      <td>10</td>\n",
       "      <td>0.9</td>\n",
       "      <td>[AU-R-000156]</td>\n",
       "      <td>Bella Sol Wellness Centers of Michigan, LLC</td>\n",
       "      <td>BS</td>\n",
       "      <td>AU-R-000156</td>\n",
       "    </tr>\n",
       "    <tr>\n",
       "      <th>0</th>\n",
       "      <td>2022-06-27</td>\n",
       "      <td>4418.61</td>\n",
       "      <td>5611.63</td>\n",
       "      <td>31</td>\n",
       "      <td>35</td>\n",
       "      <td>0.89</td>\n",
       "      <td>[PC-000185]</td>\n",
       "      <td>Bella Sol Wellness Centers of Michigan, LLC</td>\n",
       "      <td>BS</td>\n",
       "      <td>PC-000185</td>\n",
       "    </tr>\n",
       "  </tbody>\n",
       "</table>\n",
       "</div>"
      ],
      "text/plain": [
       "         date value10000 value_after_tax total_incoming total coverage  \\\n",
       "0  2022-06-27    2508.87         3186.26             86   103     0.83   \n",
       "0  2022-06-27     2615.0         3321.05              6     6      1.0   \n",
       "0  2022-06-27    1900.96         2414.22              8     8      1.0   \n",
       "0  2022-06-27     1022.0         1297.94              9    10      0.9   \n",
       "0  2022-06-27    4418.61         5611.63             31    35     0.89   \n",
       "\n",
       "             license                                   legal_name company  \\\n",
       "0  [C10-0000279-LIC]                       99 HIGHTIDE COLLECTIVE    99HT   \n",
       "0        [PC-000310]                          Pure Canna Michigan     ALT   \n",
       "0      [AU-R-000380]                          PURE CANNA MICHIGAN     ALT   \n",
       "0      [AU-R-000156]  Bella Sol Wellness Centers of Michigan, LLC      BS   \n",
       "0        [PC-000185]  Bella Sol Wellness Centers of Michigan, LLC      BS   \n",
       "\n",
       "          location  \n",
       "0  C10-0000279-LIC  \n",
       "0        PC-000310  \n",
       "0      AU-R-000380  \n",
       "0      AU-R-000156  \n",
       "0        PC-000185  "
      ]
     },
     "execution_count": 75,
     "metadata": {},
     "output_type": "execute_result"
    }
   ],
   "source": [
    "df_decompress_12m_plus.head()"
   ]
  },
  {
   "cell_type": "code",
   "execution_count": 80,
   "id": "18560e49",
   "metadata": {},
   "outputs": [],
   "source": [
    "age_val = df_decompress_90[['company','location','value90']].\\\n",
    "merge(df_decompress_9m[['company','location','value270']],on = ['company','location'],how = 'outer').\\\n",
    "merge(df_decompress_12m[['company','location','value365']],on = ['company','location'],how = 'outer').\\\n",
    "merge(df_decompress_12m_plus[['company','location','value10000']],on = ['company','location'],how = 'outer')\n",
    "\n",
    "age_val['id'] = list(zip(age_val.company, age_val.location))\n",
    "age_val = age_val.reset_index(drop = True)\n",
    "\n"
   ]
  },
  {
   "cell_type": "code",
   "execution_count": 81,
   "id": "0f7d2fc5",
   "metadata": {},
   "outputs": [
    {
     "data": {
      "text/html": [
       "<div>\n",
       "<style scoped>\n",
       "    .dataframe tbody tr th:only-of-type {\n",
       "        vertical-align: middle;\n",
       "    }\n",
       "\n",
       "    .dataframe tbody tr th {\n",
       "        vertical-align: top;\n",
       "    }\n",
       "\n",
       "    .dataframe thead th {\n",
       "        text-align: right;\n",
       "    }\n",
       "</style>\n",
       "<table border=\"1\" class=\"dataframe\">\n",
       "  <thead>\n",
       "    <tr style=\"text-align: right;\">\n",
       "      <th></th>\n",
       "      <th>company</th>\n",
       "      <th>location</th>\n",
       "      <th>value90</th>\n",
       "      <th>value270</th>\n",
       "      <th>value365</th>\n",
       "      <th>value10000</th>\n",
       "      <th>id</th>\n",
       "    </tr>\n",
       "  </thead>\n",
       "  <tbody>\n",
       "    <tr>\n",
       "      <th>0</th>\n",
       "      <td>99HT</td>\n",
       "      <td>C10-0000279-LIC</td>\n",
       "      <td>90529.27</td>\n",
       "      <td>13935.79</td>\n",
       "      <td>3660.34</td>\n",
       "      <td>2508.87</td>\n",
       "      <td>(99HT, C10-0000279-LIC)</td>\n",
       "    </tr>\n",
       "    <tr>\n",
       "      <th>1</th>\n",
       "      <td>ALT</td>\n",
       "      <td>PC-000310</td>\n",
       "      <td>19954.0</td>\n",
       "      <td>13821.36</td>\n",
       "      <td>1177.84</td>\n",
       "      <td>2615.0</td>\n",
       "      <td>(ALT, PC-000310)</td>\n",
       "    </tr>\n",
       "    <tr>\n",
       "      <th>2</th>\n",
       "      <td>ALT</td>\n",
       "      <td>AU-R-000380</td>\n",
       "      <td>253047.85</td>\n",
       "      <td>61858.52</td>\n",
       "      <td>2627.03</td>\n",
       "      <td>1900.96</td>\n",
       "      <td>(ALT, AU-R-000380)</td>\n",
       "    </tr>\n",
       "    <tr>\n",
       "      <th>3</th>\n",
       "      <td>BS</td>\n",
       "      <td>AU-R-000156</td>\n",
       "      <td>17859.75</td>\n",
       "      <td>14917.21</td>\n",
       "      <td>714.65</td>\n",
       "      <td>1022.0</td>\n",
       "      <td>(BS, AU-R-000156)</td>\n",
       "    </tr>\n",
       "    <tr>\n",
       "      <th>4</th>\n",
       "      <td>BS</td>\n",
       "      <td>PC-000185</td>\n",
       "      <td>362.66</td>\n",
       "      <td>16039.02</td>\n",
       "      <td>400.0</td>\n",
       "      <td>4418.61</td>\n",
       "      <td>(BS, PC-000185)</td>\n",
       "    </tr>\n",
       "    <tr>\n",
       "      <th>...</th>\n",
       "      <td>...</td>\n",
       "      <td>...</td>\n",
       "      <td>...</td>\n",
       "      <td>...</td>\n",
       "      <td>...</td>\n",
       "      <td>...</td>\n",
       "      <td>...</td>\n",
       "    </tr>\n",
       "    <tr>\n",
       "      <th>142</th>\n",
       "      <td>VS</td>\n",
       "      <td>402-00840</td>\n",
       "      <td>28046.2</td>\n",
       "      <td>7827.06</td>\n",
       "      <td>260.74</td>\n",
       "      <td>0.0</td>\n",
       "      <td>(VS, 402-00840)</td>\n",
       "    </tr>\n",
       "    <tr>\n",
       "      <th>143</th>\n",
       "      <td>VS</td>\n",
       "      <td>402R-00545</td>\n",
       "      <td>124816.99</td>\n",
       "      <td>6695.11</td>\n",
       "      <td>48.0</td>\n",
       "      <td>0.0</td>\n",
       "      <td>(VS, 402R-00545)</td>\n",
       "    </tr>\n",
       "    <tr>\n",
       "      <th>144</th>\n",
       "      <td>VOY</td>\n",
       "      <td>C12-0000030-LIC</td>\n",
       "      <td>8155.54</td>\n",
       "      <td>312.57</td>\n",
       "      <td>30.96</td>\n",
       "      <td>0.2</td>\n",
       "      <td>(VOY, C12-0000030-LIC)</td>\n",
       "    </tr>\n",
       "    <tr>\n",
       "      <th>145</th>\n",
       "      <td>VOY</td>\n",
       "      <td>C10-0000802-LIC</td>\n",
       "      <td>46532.74</td>\n",
       "      <td>7943.36</td>\n",
       "      <td>183.05</td>\n",
       "      <td>0.0</td>\n",
       "      <td>(VOY, C10-0000802-LIC)</td>\n",
       "    </tr>\n",
       "    <tr>\n",
       "      <th>146</th>\n",
       "      <td>VOY</td>\n",
       "      <td>C12-0000159-LIC</td>\n",
       "      <td>0.0</td>\n",
       "      <td>0.0</td>\n",
       "      <td>0.0</td>\n",
       "      <td>0.0</td>\n",
       "      <td>(VOY, C12-0000159-LIC)</td>\n",
       "    </tr>\n",
       "  </tbody>\n",
       "</table>\n",
       "<p>147 rows × 7 columns</p>\n",
       "</div>"
      ],
      "text/plain": [
       "    company         location    value90  value270 value365 value10000  \\\n",
       "0      99HT  C10-0000279-LIC   90529.27  13935.79  3660.34    2508.87   \n",
       "1       ALT        PC-000310    19954.0  13821.36  1177.84     2615.0   \n",
       "2       ALT      AU-R-000380  253047.85  61858.52  2627.03    1900.96   \n",
       "3        BS      AU-R-000156   17859.75  14917.21   714.65     1022.0   \n",
       "4        BS        PC-000185     362.66  16039.02    400.0    4418.61   \n",
       "..      ...              ...        ...       ...      ...        ...   \n",
       "142      VS        402-00840    28046.2   7827.06   260.74        0.0   \n",
       "143      VS       402R-00545  124816.99   6695.11     48.0        0.0   \n",
       "144     VOY  C12-0000030-LIC    8155.54    312.57    30.96        0.2   \n",
       "145     VOY  C10-0000802-LIC   46532.74   7943.36   183.05        0.0   \n",
       "146     VOY  C12-0000159-LIC        0.0       0.0      0.0        0.0   \n",
       "\n",
       "                          id  \n",
       "0    (99HT, C10-0000279-LIC)  \n",
       "1           (ALT, PC-000310)  \n",
       "2         (ALT, AU-R-000380)  \n",
       "3          (BS, AU-R-000156)  \n",
       "4            (BS, PC-000185)  \n",
       "..                       ...  \n",
       "142          (VS, 402-00840)  \n",
       "143         (VS, 402R-00545)  \n",
       "144   (VOY, C12-0000030-LIC)  \n",
       "145   (VOY, C10-0000802-LIC)  \n",
       "146   (VOY, C12-0000159-LIC)  \n",
       "\n",
       "[147 rows x 7 columns]"
      ]
     },
     "execution_count": 81,
     "metadata": {},
     "output_type": "execute_result"
    }
   ],
   "source": [
    "age_val"
   ]
  },
  {
   "cell_type": "code",
   "execution_count": 84,
   "id": "21be1d70",
   "metadata": {},
   "outputs": [],
   "source": [
    "age_val_df = age_val[age_val['company'].isin(df_clients)]"
   ]
  },
  {
   "cell_type": "code",
   "execution_count": 85,
   "id": "7feb7fb1",
   "metadata": {},
   "outputs": [],
   "source": [
    "age_val_df.to_csv('df_inv_analysis_val.csv')"
   ]
  },
  {
   "cell_type": "markdown",
   "id": "f7803b98",
   "metadata": {},
   "source": [
    "## Consider other bucket cutoffs?"
   ]
  },
  {
   "cell_type": "code",
   "execution_count": 99,
   "id": "817aa0a3",
   "metadata": {},
   "outputs": [],
   "source": [
    "age_distr = df_inv_df[['company','location','age_int']].groupby(['company','location']).describe().reset_index()"
   ]
  },
  {
   "cell_type": "code",
   "execution_count": 102,
   "id": "030741ca",
   "metadata": {},
   "outputs": [],
   "source": [
    "#age_distr.to_csv('df_inv_age_distr.csv')"
   ]
  },
  {
   "cell_type": "markdown",
   "id": "b7c4f459",
   "metadata": {},
   "source": [
    "## age by product category"
   ]
  },
  {
   "cell_type": "code",
   "execution_count": 111,
   "id": "0fe941af",
   "metadata": {},
   "outputs": [
    {
     "data": {
      "text/plain": [
       "array(['99HT', 'BBF', 'BYN', 'CHO', 'CPA', 'CSC', 'CCC', 'DWF', 'DL',\n",
       "       'EL', 'EMA', 'EMF', 'EMM', 'EMT', 'GRG', 'GHC', 'LBC', 'MPW', 'MD',\n",
       "       'NECC', 'SV', 'ST', 'DW', 'TT', 'VS'], dtype=object)"
      ]
     },
     "execution_count": 111,
     "metadata": {},
     "output_type": "execute_result"
    }
   ],
   "source": [
    "df_inv_df['company'].unique()"
   ]
  },
  {
   "cell_type": "code",
   "execution_count": 104,
   "id": "ef620776",
   "metadata": {},
   "outputs": [],
   "source": [
    "df_inv_df_with_state = pd.merge(df_inv_df,ca_df_clean[['company_identifier','state']],left_on = 'company',right_on = 'company_identifier',how = 'left')\n",
    "\n"
   ]
  },
  {
   "cell_type": "code",
   "execution_count": 112,
   "id": "95059a9d",
   "metadata": {},
   "outputs": [],
   "source": [
    "age_distr_by_product = df_inv_df_with_state[['product_category_name','age_int']].groupby(['product_category_name']).describe()"
   ]
  },
  {
   "cell_type": "code",
   "execution_count": 109,
   "id": "ca2048b3",
   "metadata": {},
   "outputs": [],
   "source": [
    "age_distr_by_product.to_csv('age_distr_by_product.csv')"
   ]
  },
  {
   "cell_type": "code",
   "execution_count": 113,
   "id": "5a89c47f",
   "metadata": {},
   "outputs": [
    {
     "data": {
      "text/html": [
       "<div>\n",
       "<style scoped>\n",
       "    .dataframe tbody tr th:only-of-type {\n",
       "        vertical-align: middle;\n",
       "    }\n",
       "\n",
       "    .dataframe tbody tr th {\n",
       "        vertical-align: top;\n",
       "    }\n",
       "\n",
       "    .dataframe thead tr th {\n",
       "        text-align: left;\n",
       "    }\n",
       "\n",
       "    .dataframe thead tr:last-of-type th {\n",
       "        text-align: right;\n",
       "    }\n",
       "</style>\n",
       "<table border=\"1\" class=\"dataframe\">\n",
       "  <thead>\n",
       "    <tr>\n",
       "      <th></th>\n",
       "      <th colspan=\"8\" halign=\"left\">age_int</th>\n",
       "    </tr>\n",
       "    <tr>\n",
       "      <th></th>\n",
       "      <th>count</th>\n",
       "      <th>mean</th>\n",
       "      <th>std</th>\n",
       "      <th>min</th>\n",
       "      <th>25%</th>\n",
       "      <th>50%</th>\n",
       "      <th>75%</th>\n",
       "      <th>max</th>\n",
       "    </tr>\n",
       "    <tr>\n",
       "      <th>product_category_name</th>\n",
       "      <th></th>\n",
       "      <th></th>\n",
       "      <th></th>\n",
       "      <th></th>\n",
       "      <th></th>\n",
       "      <th></th>\n",
       "      <th></th>\n",
       "      <th></th>\n",
       "    </tr>\n",
       "  </thead>\n",
       "  <tbody>\n",
       "    <tr>\n",
       "      <th>Buds</th>\n",
       "      <td>980.0</td>\n",
       "      <td>98.271429</td>\n",
       "      <td>84.089863</td>\n",
       "      <td>3.0</td>\n",
       "      <td>32.00</td>\n",
       "      <td>83.0</td>\n",
       "      <td>133.00</td>\n",
       "      <td>899.0</td>\n",
       "    </tr>\n",
       "    <tr>\n",
       "      <th>Buds (prepackaged)</th>\n",
       "      <td>96.0</td>\n",
       "      <td>144.864583</td>\n",
       "      <td>59.824061</td>\n",
       "      <td>40.0</td>\n",
       "      <td>96.75</td>\n",
       "      <td>150.0</td>\n",
       "      <td>194.00</td>\n",
       "      <td>264.0</td>\n",
       "    </tr>\n",
       "    <tr>\n",
       "      <th>Capsule (weight - each)</th>\n",
       "      <td>585.0</td>\n",
       "      <td>355.758974</td>\n",
       "      <td>252.041279</td>\n",
       "      <td>7.0</td>\n",
       "      <td>145.00</td>\n",
       "      <td>309.0</td>\n",
       "      <td>522.00</td>\n",
       "      <td>1027.0</td>\n",
       "    </tr>\n",
       "    <tr>\n",
       "      <th>Clone - Cutting</th>\n",
       "      <td>311.0</td>\n",
       "      <td>407.684887</td>\n",
       "      <td>247.242294</td>\n",
       "      <td>3.0</td>\n",
       "      <td>166.00</td>\n",
       "      <td>432.0</td>\n",
       "      <td>635.50</td>\n",
       "      <td>787.0</td>\n",
       "    </tr>\n",
       "    <tr>\n",
       "      <th>Clone - Tissue Culture</th>\n",
       "      <td>18.0</td>\n",
       "      <td>406.222222</td>\n",
       "      <td>145.299106</td>\n",
       "      <td>20.0</td>\n",
       "      <td>405.00</td>\n",
       "      <td>450.0</td>\n",
       "      <td>492.00</td>\n",
       "      <td>503.0</td>\n",
       "    </tr>\n",
       "    <tr>\n",
       "      <th>Concentrate</th>\n",
       "      <td>568.0</td>\n",
       "      <td>83.267606</td>\n",
       "      <td>103.317470</td>\n",
       "      <td>4.0</td>\n",
       "      <td>19.00</td>\n",
       "      <td>52.0</td>\n",
       "      <td>90.00</td>\n",
       "      <td>908.0</td>\n",
       "    </tr>\n",
       "    <tr>\n",
       "      <th>Concentrate (Bulk)</th>\n",
       "      <td>4.0</td>\n",
       "      <td>109.000000</td>\n",
       "      <td>0.000000</td>\n",
       "      <td>109.0</td>\n",
       "      <td>109.00</td>\n",
       "      <td>109.0</td>\n",
       "      <td>109.00</td>\n",
       "      <td>109.0</td>\n",
       "    </tr>\n",
       "    <tr>\n",
       "      <th>Concentrate (Each)</th>\n",
       "      <td>804.0</td>\n",
       "      <td>88.521144</td>\n",
       "      <td>97.868521</td>\n",
       "      <td>4.0</td>\n",
       "      <td>24.00</td>\n",
       "      <td>70.0</td>\n",
       "      <td>120.00</td>\n",
       "      <td>875.0</td>\n",
       "    </tr>\n",
       "    <tr>\n",
       "      <th>Edible (volume - each)</th>\n",
       "      <td>2994.0</td>\n",
       "      <td>298.231129</td>\n",
       "      <td>218.179951</td>\n",
       "      <td>3.0</td>\n",
       "      <td>98.00</td>\n",
       "      <td>274.0</td>\n",
       "      <td>447.00</td>\n",
       "      <td>992.0</td>\n",
       "    </tr>\n",
       "    <tr>\n",
       "      <th>Edible (weight - each)</th>\n",
       "      <td>17308.0</td>\n",
       "      <td>326.273631</td>\n",
       "      <td>247.754279</td>\n",
       "      <td>3.0</td>\n",
       "      <td>103.00</td>\n",
       "      <td>277.0</td>\n",
       "      <td>503.00</td>\n",
       "      <td>985.0</td>\n",
       "    </tr>\n",
       "    <tr>\n",
       "      <th>Extract (volume - each)</th>\n",
       "      <td>68.0</td>\n",
       "      <td>310.823529</td>\n",
       "      <td>198.691010</td>\n",
       "      <td>14.0</td>\n",
       "      <td>138.25</td>\n",
       "      <td>295.0</td>\n",
       "      <td>462.00</td>\n",
       "      <td>805.0</td>\n",
       "    </tr>\n",
       "    <tr>\n",
       "      <th>Extract (weight - each)</th>\n",
       "      <td>8386.0</td>\n",
       "      <td>357.465657</td>\n",
       "      <td>243.321338</td>\n",
       "      <td>4.0</td>\n",
       "      <td>150.00</td>\n",
       "      <td>319.5</td>\n",
       "      <td>516.00</td>\n",
       "      <td>1001.0</td>\n",
       "    </tr>\n",
       "    <tr>\n",
       "      <th>Extract (weight)</th>\n",
       "      <td>18.0</td>\n",
       "      <td>213.444444</td>\n",
       "      <td>219.527627</td>\n",
       "      <td>70.0</td>\n",
       "      <td>70.00</td>\n",
       "      <td>189.0</td>\n",
       "      <td>189.00</td>\n",
       "      <td>965.0</td>\n",
       "    </tr>\n",
       "    <tr>\n",
       "      <th>Flower</th>\n",
       "      <td>2128.0</td>\n",
       "      <td>765.540883</td>\n",
       "      <td>138.246821</td>\n",
       "      <td>20.0</td>\n",
       "      <td>700.00</td>\n",
       "      <td>795.0</td>\n",
       "      <td>859.00</td>\n",
       "      <td>1057.0</td>\n",
       "    </tr>\n",
       "    <tr>\n",
       "      <th>Flower (packaged - each)</th>\n",
       "      <td>773.0</td>\n",
       "      <td>192.068564</td>\n",
       "      <td>152.605647</td>\n",
       "      <td>3.0</td>\n",
       "      <td>63.00</td>\n",
       "      <td>140.0</td>\n",
       "      <td>298.00</td>\n",
       "      <td>581.0</td>\n",
       "    </tr>\n",
       "    <tr>\n",
       "      <th>Flower (packaged eighth - each)</th>\n",
       "      <td>16459.0</td>\n",
       "      <td>267.745063</td>\n",
       "      <td>198.056262</td>\n",
       "      <td>3.0</td>\n",
       "      <td>94.00</td>\n",
       "      <td>237.0</td>\n",
       "      <td>405.00</td>\n",
       "      <td>851.0</td>\n",
       "    </tr>\n",
       "    <tr>\n",
       "      <th>Flower (packaged gram - each)</th>\n",
       "      <td>1352.0</td>\n",
       "      <td>283.892012</td>\n",
       "      <td>207.406170</td>\n",
       "      <td>3.0</td>\n",
       "      <td>98.00</td>\n",
       "      <td>243.0</td>\n",
       "      <td>439.00</td>\n",
       "      <td>811.0</td>\n",
       "    </tr>\n",
       "    <tr>\n",
       "      <th>Flower (packaged half ounce - each)</th>\n",
       "      <td>2075.0</td>\n",
       "      <td>271.039036</td>\n",
       "      <td>194.564063</td>\n",
       "      <td>4.0</td>\n",
       "      <td>98.00</td>\n",
       "      <td>242.0</td>\n",
       "      <td>418.00</td>\n",
       "      <td>806.0</td>\n",
       "    </tr>\n",
       "    <tr>\n",
       "      <th>Flower (packaged ounce - each)</th>\n",
       "      <td>1060.0</td>\n",
       "      <td>214.067925</td>\n",
       "      <td>168.975358</td>\n",
       "      <td>3.0</td>\n",
       "      <td>79.25</td>\n",
       "      <td>167.0</td>\n",
       "      <td>285.00</td>\n",
       "      <td>734.0</td>\n",
       "    </tr>\n",
       "    <tr>\n",
       "      <th>Flower (packaged quarter - each)</th>\n",
       "      <td>1319.0</td>\n",
       "      <td>274.699014</td>\n",
       "      <td>203.999047</td>\n",
       "      <td>4.0</td>\n",
       "      <td>81.00</td>\n",
       "      <td>242.0</td>\n",
       "      <td>431.50</td>\n",
       "      <td>804.0</td>\n",
       "    </tr>\n",
       "    <tr>\n",
       "      <th>Immature Plant</th>\n",
       "      <td>76.0</td>\n",
       "      <td>705.842105</td>\n",
       "      <td>240.993060</td>\n",
       "      <td>82.0</td>\n",
       "      <td>764.50</td>\n",
       "      <td>805.5</td>\n",
       "      <td>843.25</td>\n",
       "      <td>865.0</td>\n",
       "    </tr>\n",
       "    <tr>\n",
       "      <th>Immature Plants</th>\n",
       "      <td>4.0</td>\n",
       "      <td>8.000000</td>\n",
       "      <td>6.164414</td>\n",
       "      <td>3.0</td>\n",
       "      <td>5.25</td>\n",
       "      <td>6.0</td>\n",
       "      <td>8.75</td>\n",
       "      <td>17.0</td>\n",
       "    </tr>\n",
       "    <tr>\n",
       "      <th>Infused (edible)</th>\n",
       "      <td>1104.0</td>\n",
       "      <td>95.182971</td>\n",
       "      <td>134.844530</td>\n",
       "      <td>5.0</td>\n",
       "      <td>27.00</td>\n",
       "      <td>63.0</td>\n",
       "      <td>109.00</td>\n",
       "      <td>888.0</td>\n",
       "    </tr>\n",
       "    <tr>\n",
       "      <th>Infused (non-edible)</th>\n",
       "      <td>83.0</td>\n",
       "      <td>128.939759</td>\n",
       "      <td>128.290576</td>\n",
       "      <td>3.0</td>\n",
       "      <td>40.00</td>\n",
       "      <td>108.0</td>\n",
       "      <td>179.00</td>\n",
       "      <td>873.0</td>\n",
       "    </tr>\n",
       "    <tr>\n",
       "      <th>Infused Beverage</th>\n",
       "      <td>64.0</td>\n",
       "      <td>72.609375</td>\n",
       "      <td>86.521420</td>\n",
       "      <td>12.0</td>\n",
       "      <td>14.00</td>\n",
       "      <td>30.0</td>\n",
       "      <td>87.00</td>\n",
       "      <td>280.0</td>\n",
       "    </tr>\n",
       "    <tr>\n",
       "      <th>Infused Butter/Oil (weight - each)</th>\n",
       "      <td>30.0</td>\n",
       "      <td>214.200000</td>\n",
       "      <td>152.643917</td>\n",
       "      <td>11.0</td>\n",
       "      <td>66.00</td>\n",
       "      <td>186.0</td>\n",
       "      <td>293.00</td>\n",
       "      <td>475.0</td>\n",
       "    </tr>\n",
       "    <tr>\n",
       "      <th>Infused Liquid (each)</th>\n",
       "      <td>17.0</td>\n",
       "      <td>183.647059</td>\n",
       "      <td>70.170276</td>\n",
       "      <td>84.0</td>\n",
       "      <td>105.00</td>\n",
       "      <td>201.0</td>\n",
       "      <td>217.00</td>\n",
       "      <td>343.0</td>\n",
       "    </tr>\n",
       "    <tr>\n",
       "      <th>Infused Non-Edible Liquid</th>\n",
       "      <td>2.0</td>\n",
       "      <td>137.500000</td>\n",
       "      <td>48.790368</td>\n",
       "      <td>103.0</td>\n",
       "      <td>120.25</td>\n",
       "      <td>137.5</td>\n",
       "      <td>154.75</td>\n",
       "      <td>172.0</td>\n",
       "    </tr>\n",
       "    <tr>\n",
       "      <th>Infused Non-Edible Solid</th>\n",
       "      <td>29.0</td>\n",
       "      <td>115.137931</td>\n",
       "      <td>30.460424</td>\n",
       "      <td>68.0</td>\n",
       "      <td>105.00</td>\n",
       "      <td>112.0</td>\n",
       "      <td>129.00</td>\n",
       "      <td>210.0</td>\n",
       "    </tr>\n",
       "    <tr>\n",
       "      <th>Infused Pre-Rolls</th>\n",
       "      <td>40.0</td>\n",
       "      <td>107.275000</td>\n",
       "      <td>31.782907</td>\n",
       "      <td>27.0</td>\n",
       "      <td>104.00</td>\n",
       "      <td>105.0</td>\n",
       "      <td>127.00</td>\n",
       "      <td>200.0</td>\n",
       "    </tr>\n",
       "    <tr>\n",
       "      <th>Infused-Edible</th>\n",
       "      <td>305.0</td>\n",
       "      <td>145.377049</td>\n",
       "      <td>77.441609</td>\n",
       "      <td>12.0</td>\n",
       "      <td>84.00</td>\n",
       "      <td>136.0</td>\n",
       "      <td>203.00</td>\n",
       "      <td>448.0</td>\n",
       "    </tr>\n",
       "    <tr>\n",
       "      <th>Inhalable Compound Concentrate</th>\n",
       "      <td>4.0</td>\n",
       "      <td>167.750000</td>\n",
       "      <td>90.680299</td>\n",
       "      <td>34.0</td>\n",
       "      <td>150.25</td>\n",
       "      <td>206.5</td>\n",
       "      <td>224.00</td>\n",
       "      <td>224.0</td>\n",
       "    </tr>\n",
       "    <tr>\n",
       "      <th>Inhalable Compound Concentrate (each)</th>\n",
       "      <td>46.0</td>\n",
       "      <td>100.978261</td>\n",
       "      <td>60.392232</td>\n",
       "      <td>12.0</td>\n",
       "      <td>47.00</td>\n",
       "      <td>102.5</td>\n",
       "      <td>151.00</td>\n",
       "      <td>206.0</td>\n",
       "    </tr>\n",
       "    <tr>\n",
       "      <th>Kief</th>\n",
       "      <td>11.0</td>\n",
       "      <td>193.090909</td>\n",
       "      <td>226.609115</td>\n",
       "      <td>34.0</td>\n",
       "      <td>99.50</td>\n",
       "      <td>112.0</td>\n",
       "      <td>179.00</td>\n",
       "      <td>861.0</td>\n",
       "    </tr>\n",
       "    <tr>\n",
       "      <th>Other Concentrate (volume - each)</th>\n",
       "      <td>262.0</td>\n",
       "      <td>236.293893</td>\n",
       "      <td>199.682069</td>\n",
       "      <td>5.0</td>\n",
       "      <td>70.00</td>\n",
       "      <td>189.0</td>\n",
       "      <td>343.00</td>\n",
       "      <td>1025.0</td>\n",
       "    </tr>\n",
       "    <tr>\n",
       "      <th>Other Concentrate (weight - each)</th>\n",
       "      <td>4903.0</td>\n",
       "      <td>282.776871</td>\n",
       "      <td>231.714029</td>\n",
       "      <td>3.0</td>\n",
       "      <td>91.00</td>\n",
       "      <td>208.0</td>\n",
       "      <td>424.00</td>\n",
       "      <td>984.0</td>\n",
       "    </tr>\n",
       "    <tr>\n",
       "      <th>Other Concentrate (weight)</th>\n",
       "      <td>4.0</td>\n",
       "      <td>390.500000</td>\n",
       "      <td>280.723470</td>\n",
       "      <td>192.0</td>\n",
       "      <td>192.75</td>\n",
       "      <td>291.0</td>\n",
       "      <td>488.75</td>\n",
       "      <td>788.0</td>\n",
       "    </tr>\n",
       "    <tr>\n",
       "      <th>Pre-Roll Flower</th>\n",
       "      <td>9393.0</td>\n",
       "      <td>338.190780</td>\n",
       "      <td>249.052949</td>\n",
       "      <td>3.0</td>\n",
       "      <td>105.00</td>\n",
       "      <td>306.0</td>\n",
       "      <td>518.00</td>\n",
       "      <td>992.0</td>\n",
       "    </tr>\n",
       "    <tr>\n",
       "      <th>Pre-Roll Infused</th>\n",
       "      <td>8197.0</td>\n",
       "      <td>232.550689</td>\n",
       "      <td>185.378787</td>\n",
       "      <td>4.0</td>\n",
       "      <td>76.00</td>\n",
       "      <td>186.0</td>\n",
       "      <td>350.00</td>\n",
       "      <td>980.0</td>\n",
       "    </tr>\n",
       "    <tr>\n",
       "      <th>Pre-Roll Leaf</th>\n",
       "      <td>911.0</td>\n",
       "      <td>356.801317</td>\n",
       "      <td>207.755946</td>\n",
       "      <td>13.0</td>\n",
       "      <td>196.00</td>\n",
       "      <td>349.0</td>\n",
       "      <td>490.50</td>\n",
       "      <td>888.0</td>\n",
       "    </tr>\n",
       "    <tr>\n",
       "      <th>Raw Pre-Rolls</th>\n",
       "      <td>365.0</td>\n",
       "      <td>77.241096</td>\n",
       "      <td>57.065385</td>\n",
       "      <td>3.0</td>\n",
       "      <td>35.00</td>\n",
       "      <td>74.0</td>\n",
       "      <td>101.00</td>\n",
       "      <td>322.0</td>\n",
       "    </tr>\n",
       "    <tr>\n",
       "      <th>Seeds</th>\n",
       "      <td>11.0</td>\n",
       "      <td>65.363636</td>\n",
       "      <td>32.794124</td>\n",
       "      <td>24.0</td>\n",
       "      <td>24.00</td>\n",
       "      <td>89.0</td>\n",
       "      <td>89.00</td>\n",
       "      <td>89.0</td>\n",
       "    </tr>\n",
       "    <tr>\n",
       "      <th>Seeds (each)</th>\n",
       "      <td>294.0</td>\n",
       "      <td>319.622449</td>\n",
       "      <td>186.616461</td>\n",
       "      <td>18.0</td>\n",
       "      <td>223.00</td>\n",
       "      <td>285.0</td>\n",
       "      <td>459.00</td>\n",
       "      <td>802.0</td>\n",
       "    </tr>\n",
       "    <tr>\n",
       "      <th>Shake</th>\n",
       "      <td>28.0</td>\n",
       "      <td>251.857143</td>\n",
       "      <td>231.259949</td>\n",
       "      <td>40.0</td>\n",
       "      <td>110.00</td>\n",
       "      <td>158.0</td>\n",
       "      <td>258.25</td>\n",
       "      <td>747.0</td>\n",
       "    </tr>\n",
       "    <tr>\n",
       "      <th>Shake (Packaged Eighth - each)</th>\n",
       "      <td>20.0</td>\n",
       "      <td>318.750000</td>\n",
       "      <td>150.983399</td>\n",
       "      <td>82.0</td>\n",
       "      <td>231.00</td>\n",
       "      <td>259.0</td>\n",
       "      <td>473.00</td>\n",
       "      <td>538.0</td>\n",
       "    </tr>\n",
       "    <tr>\n",
       "      <th>Shake (Packaged Gram - each)</th>\n",
       "      <td>57.0</td>\n",
       "      <td>167.473684</td>\n",
       "      <td>195.061996</td>\n",
       "      <td>11.0</td>\n",
       "      <td>41.00</td>\n",
       "      <td>41.0</td>\n",
       "      <td>292.00</td>\n",
       "      <td>728.0</td>\n",
       "    </tr>\n",
       "    <tr>\n",
       "      <th>Shake (Packaged Half Ounce - each)</th>\n",
       "      <td>128.0</td>\n",
       "      <td>271.671875</td>\n",
       "      <td>170.873030</td>\n",
       "      <td>14.0</td>\n",
       "      <td>134.50</td>\n",
       "      <td>267.5</td>\n",
       "      <td>396.50</td>\n",
       "      <td>636.0</td>\n",
       "    </tr>\n",
       "    <tr>\n",
       "      <th>Shake (Packaged Ounce - each)</th>\n",
       "      <td>186.0</td>\n",
       "      <td>223.129032</td>\n",
       "      <td>159.462355</td>\n",
       "      <td>6.0</td>\n",
       "      <td>65.50</td>\n",
       "      <td>189.0</td>\n",
       "      <td>340.00</td>\n",
       "      <td>575.0</td>\n",
       "    </tr>\n",
       "    <tr>\n",
       "      <th>Shake (Packaged Quarter - each)</th>\n",
       "      <td>16.0</td>\n",
       "      <td>393.187500</td>\n",
       "      <td>279.624085</td>\n",
       "      <td>32.0</td>\n",
       "      <td>99.00</td>\n",
       "      <td>362.0</td>\n",
       "      <td>700.25</td>\n",
       "      <td>710.0</td>\n",
       "    </tr>\n",
       "    <tr>\n",
       "      <th>Shake/Trim</th>\n",
       "      <td>33.0</td>\n",
       "      <td>78.242424</td>\n",
       "      <td>75.274925</td>\n",
       "      <td>4.0</td>\n",
       "      <td>11.00</td>\n",
       "      <td>74.0</td>\n",
       "      <td>147.00</td>\n",
       "      <td>301.0</td>\n",
       "    </tr>\n",
       "    <tr>\n",
       "      <th>Shake/Trim (by strain)</th>\n",
       "      <td>47.0</td>\n",
       "      <td>61.276596</td>\n",
       "      <td>74.351604</td>\n",
       "      <td>4.0</td>\n",
       "      <td>19.00</td>\n",
       "      <td>38.0</td>\n",
       "      <td>69.00</td>\n",
       "      <td>355.0</td>\n",
       "    </tr>\n",
       "    <tr>\n",
       "      <th>Shake/Trim (prepackaged)</th>\n",
       "      <td>187.0</td>\n",
       "      <td>129.721925</td>\n",
       "      <td>62.878169</td>\n",
       "      <td>24.0</td>\n",
       "      <td>76.50</td>\n",
       "      <td>125.0</td>\n",
       "      <td>173.00</td>\n",
       "      <td>250.0</td>\n",
       "    </tr>\n",
       "    <tr>\n",
       "      <th>Tincture (volume - each)</th>\n",
       "      <td>2562.0</td>\n",
       "      <td>347.996097</td>\n",
       "      <td>257.261656</td>\n",
       "      <td>6.0</td>\n",
       "      <td>115.25</td>\n",
       "      <td>300.0</td>\n",
       "      <td>528.00</td>\n",
       "      <td>1186.0</td>\n",
       "    </tr>\n",
       "    <tr>\n",
       "      <th>Tincture (weight - each)</th>\n",
       "      <td>130.0</td>\n",
       "      <td>135.861538</td>\n",
       "      <td>152.481833</td>\n",
       "      <td>7.0</td>\n",
       "      <td>30.00</td>\n",
       "      <td>49.0</td>\n",
       "      <td>232.50</td>\n",
       "      <td>565.0</td>\n",
       "    </tr>\n",
       "    <tr>\n",
       "      <th>Topical (volume - each)</th>\n",
       "      <td>556.0</td>\n",
       "      <td>381.205036</td>\n",
       "      <td>260.691273</td>\n",
       "      <td>25.0</td>\n",
       "      <td>158.00</td>\n",
       "      <td>369.0</td>\n",
       "      <td>545.00</td>\n",
       "      <td>1083.0</td>\n",
       "    </tr>\n",
       "    <tr>\n",
       "      <th>Topical (weight - each)</th>\n",
       "      <td>597.0</td>\n",
       "      <td>389.075377</td>\n",
       "      <td>258.278450</td>\n",
       "      <td>6.0</td>\n",
       "      <td>139.00</td>\n",
       "      <td>410.0</td>\n",
       "      <td>588.00</td>\n",
       "      <td>936.0</td>\n",
       "    </tr>\n",
       "    <tr>\n",
       "      <th>Vape Cart</th>\n",
       "      <td>208.0</td>\n",
       "      <td>119.745192</td>\n",
       "      <td>67.994725</td>\n",
       "      <td>12.0</td>\n",
       "      <td>69.00</td>\n",
       "      <td>110.0</td>\n",
       "      <td>169.25</td>\n",
       "      <td>265.0</td>\n",
       "    </tr>\n",
       "    <tr>\n",
       "      <th>Vape Cartridge (volume - each)</th>\n",
       "      <td>11864.0</td>\n",
       "      <td>442.383935</td>\n",
       "      <td>268.960124</td>\n",
       "      <td>4.0</td>\n",
       "      <td>208.00</td>\n",
       "      <td>440.0</td>\n",
       "      <td>656.00</td>\n",
       "      <td>1034.0</td>\n",
       "    </tr>\n",
       "    <tr>\n",
       "      <th>Vape Cartridge (weight - each)</th>\n",
       "      <td>18256.0</td>\n",
       "      <td>261.700099</td>\n",
       "      <td>203.375920</td>\n",
       "      <td>4.0</td>\n",
       "      <td>89.00</td>\n",
       "      <td>207.0</td>\n",
       "      <td>424.00</td>\n",
       "      <td>852.0</td>\n",
       "    </tr>\n",
       "    <tr>\n",
       "      <th>Vape Product</th>\n",
       "      <td>355.0</td>\n",
       "      <td>84.132394</td>\n",
       "      <td>56.771143</td>\n",
       "      <td>11.0</td>\n",
       "      <td>52.00</td>\n",
       "      <td>74.0</td>\n",
       "      <td>111.00</td>\n",
       "      <td>297.0</td>\n",
       "    </tr>\n",
       "  </tbody>\n",
       "</table>\n",
       "</div>"
      ],
      "text/plain": [
       "                                       age_int                                 \\\n",
       "                                         count        mean         std    min   \n",
       "product_category_name                                                           \n",
       "Buds                                     980.0   98.271429   84.089863    3.0   \n",
       "Buds (prepackaged)                        96.0  144.864583   59.824061   40.0   \n",
       "Capsule (weight - each)                  585.0  355.758974  252.041279    7.0   \n",
       "Clone - Cutting                          311.0  407.684887  247.242294    3.0   \n",
       "Clone - Tissue Culture                    18.0  406.222222  145.299106   20.0   \n",
       "Concentrate                              568.0   83.267606  103.317470    4.0   \n",
       "Concentrate (Bulk)                         4.0  109.000000    0.000000  109.0   \n",
       "Concentrate (Each)                       804.0   88.521144   97.868521    4.0   \n",
       "Edible (volume - each)                  2994.0  298.231129  218.179951    3.0   \n",
       "Edible (weight - each)                 17308.0  326.273631  247.754279    3.0   \n",
       "Extract (volume - each)                   68.0  310.823529  198.691010   14.0   \n",
       "Extract (weight - each)                 8386.0  357.465657  243.321338    4.0   \n",
       "Extract (weight)                          18.0  213.444444  219.527627   70.0   \n",
       "Flower                                  2128.0  765.540883  138.246821   20.0   \n",
       "Flower (packaged - each)                 773.0  192.068564  152.605647    3.0   \n",
       "Flower (packaged eighth - each)        16459.0  267.745063  198.056262    3.0   \n",
       "Flower (packaged gram - each)           1352.0  283.892012  207.406170    3.0   \n",
       "Flower (packaged half ounce - each)     2075.0  271.039036  194.564063    4.0   \n",
       "Flower (packaged ounce - each)          1060.0  214.067925  168.975358    3.0   \n",
       "Flower (packaged quarter - each)        1319.0  274.699014  203.999047    4.0   \n",
       "Immature Plant                            76.0  705.842105  240.993060   82.0   \n",
       "Immature Plants                            4.0    8.000000    6.164414    3.0   \n",
       "Infused (edible)                        1104.0   95.182971  134.844530    5.0   \n",
       "Infused (non-edible)                      83.0  128.939759  128.290576    3.0   \n",
       "Infused Beverage                          64.0   72.609375   86.521420   12.0   \n",
       "Infused Butter/Oil (weight - each)        30.0  214.200000  152.643917   11.0   \n",
       "Infused Liquid (each)                     17.0  183.647059   70.170276   84.0   \n",
       "Infused Non-Edible Liquid                  2.0  137.500000   48.790368  103.0   \n",
       "Infused Non-Edible Solid                  29.0  115.137931   30.460424   68.0   \n",
       "Infused Pre-Rolls                         40.0  107.275000   31.782907   27.0   \n",
       "Infused-Edible                           305.0  145.377049   77.441609   12.0   \n",
       "Inhalable Compound Concentrate             4.0  167.750000   90.680299   34.0   \n",
       "Inhalable Compound Concentrate (each)     46.0  100.978261   60.392232   12.0   \n",
       "Kief                                      11.0  193.090909  226.609115   34.0   \n",
       "Other Concentrate (volume - each)        262.0  236.293893  199.682069    5.0   \n",
       "Other Concentrate (weight - each)       4903.0  282.776871  231.714029    3.0   \n",
       "Other Concentrate (weight)                 4.0  390.500000  280.723470  192.0   \n",
       "Pre-Roll Flower                         9393.0  338.190780  249.052949    3.0   \n",
       "Pre-Roll Infused                        8197.0  232.550689  185.378787    4.0   \n",
       "Pre-Roll Leaf                            911.0  356.801317  207.755946   13.0   \n",
       "Raw Pre-Rolls                            365.0   77.241096   57.065385    3.0   \n",
       "Seeds                                     11.0   65.363636   32.794124   24.0   \n",
       "Seeds (each)                             294.0  319.622449  186.616461   18.0   \n",
       "Shake                                     28.0  251.857143  231.259949   40.0   \n",
       "Shake (Packaged Eighth - each)            20.0  318.750000  150.983399   82.0   \n",
       "Shake (Packaged Gram - each)              57.0  167.473684  195.061996   11.0   \n",
       "Shake (Packaged Half Ounce - each)       128.0  271.671875  170.873030   14.0   \n",
       "Shake (Packaged Ounce - each)            186.0  223.129032  159.462355    6.0   \n",
       "Shake (Packaged Quarter - each)           16.0  393.187500  279.624085   32.0   \n",
       "Shake/Trim                                33.0   78.242424   75.274925    4.0   \n",
       "Shake/Trim (by strain)                    47.0   61.276596   74.351604    4.0   \n",
       "Shake/Trim (prepackaged)                 187.0  129.721925   62.878169   24.0   \n",
       "Tincture (volume - each)                2562.0  347.996097  257.261656    6.0   \n",
       "Tincture (weight - each)                 130.0  135.861538  152.481833    7.0   \n",
       "Topical (volume - each)                  556.0  381.205036  260.691273   25.0   \n",
       "Topical (weight - each)                  597.0  389.075377  258.278450    6.0   \n",
       "Vape Cart                                208.0  119.745192   67.994725   12.0   \n",
       "Vape Cartridge (volume - each)         11864.0  442.383935  268.960124    4.0   \n",
       "Vape Cartridge (weight - each)         18256.0  261.700099  203.375920    4.0   \n",
       "Vape Product                             355.0   84.132394   56.771143   11.0   \n",
       "\n",
       "                                                                      \n",
       "                                          25%    50%     75%     max  \n",
       "product_category_name                                                 \n",
       "Buds                                    32.00   83.0  133.00   899.0  \n",
       "Buds (prepackaged)                      96.75  150.0  194.00   264.0  \n",
       "Capsule (weight - each)                145.00  309.0  522.00  1027.0  \n",
       "Clone - Cutting                        166.00  432.0  635.50   787.0  \n",
       "Clone - Tissue Culture                 405.00  450.0  492.00   503.0  \n",
       "Concentrate                             19.00   52.0   90.00   908.0  \n",
       "Concentrate (Bulk)                     109.00  109.0  109.00   109.0  \n",
       "Concentrate (Each)                      24.00   70.0  120.00   875.0  \n",
       "Edible (volume - each)                  98.00  274.0  447.00   992.0  \n",
       "Edible (weight - each)                 103.00  277.0  503.00   985.0  \n",
       "Extract (volume - each)                138.25  295.0  462.00   805.0  \n",
       "Extract (weight - each)                150.00  319.5  516.00  1001.0  \n",
       "Extract (weight)                        70.00  189.0  189.00   965.0  \n",
       "Flower                                 700.00  795.0  859.00  1057.0  \n",
       "Flower (packaged - each)                63.00  140.0  298.00   581.0  \n",
       "Flower (packaged eighth - each)         94.00  237.0  405.00   851.0  \n",
       "Flower (packaged gram - each)           98.00  243.0  439.00   811.0  \n",
       "Flower (packaged half ounce - each)     98.00  242.0  418.00   806.0  \n",
       "Flower (packaged ounce - each)          79.25  167.0  285.00   734.0  \n",
       "Flower (packaged quarter - each)        81.00  242.0  431.50   804.0  \n",
       "Immature Plant                         764.50  805.5  843.25   865.0  \n",
       "Immature Plants                          5.25    6.0    8.75    17.0  \n",
       "Infused (edible)                        27.00   63.0  109.00   888.0  \n",
       "Infused (non-edible)                    40.00  108.0  179.00   873.0  \n",
       "Infused Beverage                        14.00   30.0   87.00   280.0  \n",
       "Infused Butter/Oil (weight - each)      66.00  186.0  293.00   475.0  \n",
       "Infused Liquid (each)                  105.00  201.0  217.00   343.0  \n",
       "Infused Non-Edible Liquid              120.25  137.5  154.75   172.0  \n",
       "Infused Non-Edible Solid               105.00  112.0  129.00   210.0  \n",
       "Infused Pre-Rolls                      104.00  105.0  127.00   200.0  \n",
       "Infused-Edible                          84.00  136.0  203.00   448.0  \n",
       "Inhalable Compound Concentrate         150.25  206.5  224.00   224.0  \n",
       "Inhalable Compound Concentrate (each)   47.00  102.5  151.00   206.0  \n",
       "Kief                                    99.50  112.0  179.00   861.0  \n",
       "Other Concentrate (volume - each)       70.00  189.0  343.00  1025.0  \n",
       "Other Concentrate (weight - each)       91.00  208.0  424.00   984.0  \n",
       "Other Concentrate (weight)             192.75  291.0  488.75   788.0  \n",
       "Pre-Roll Flower                        105.00  306.0  518.00   992.0  \n",
       "Pre-Roll Infused                        76.00  186.0  350.00   980.0  \n",
       "Pre-Roll Leaf                          196.00  349.0  490.50   888.0  \n",
       "Raw Pre-Rolls                           35.00   74.0  101.00   322.0  \n",
       "Seeds                                   24.00   89.0   89.00    89.0  \n",
       "Seeds (each)                           223.00  285.0  459.00   802.0  \n",
       "Shake                                  110.00  158.0  258.25   747.0  \n",
       "Shake (Packaged Eighth - each)         231.00  259.0  473.00   538.0  \n",
       "Shake (Packaged Gram - each)            41.00   41.0  292.00   728.0  \n",
       "Shake (Packaged Half Ounce - each)     134.50  267.5  396.50   636.0  \n",
       "Shake (Packaged Ounce - each)           65.50  189.0  340.00   575.0  \n",
       "Shake (Packaged Quarter - each)         99.00  362.0  700.25   710.0  \n",
       "Shake/Trim                              11.00   74.0  147.00   301.0  \n",
       "Shake/Trim (by strain)                  19.00   38.0   69.00   355.0  \n",
       "Shake/Trim (prepackaged)                76.50  125.0  173.00   250.0  \n",
       "Tincture (volume - each)               115.25  300.0  528.00  1186.0  \n",
       "Tincture (weight - each)                30.00   49.0  232.50   565.0  \n",
       "Topical (volume - each)                158.00  369.0  545.00  1083.0  \n",
       "Topical (weight - each)                139.00  410.0  588.00   936.0  \n",
       "Vape Cart                               69.00  110.0  169.25   265.0  \n",
       "Vape Cartridge (volume - each)         208.00  440.0  656.00  1034.0  \n",
       "Vape Cartridge (weight - each)          89.00  207.0  424.00   852.0  \n",
       "Vape Product                            52.00   74.0  111.00   297.0  "
      ]
     },
     "execution_count": 113,
     "metadata": {},
     "output_type": "execute_result"
    }
   ],
   "source": [
    "age_distr_by_product"
   ]
  },
  {
   "cell_type": "code",
   "execution_count": null,
   "id": "a2f4d917",
   "metadata": {},
   "outputs": [],
   "source": []
  }
 ],
 "metadata": {
  "kernelspec": {
   "display_name": "Python 3",
   "language": "python",
   "name": "python3"
  },
  "language_info": {
   "codemirror_mode": {
    "name": "ipython",
    "version": 3
   },
   "file_extension": ".py",
   "mimetype": "text/x-python",
   "name": "python",
   "nbconvert_exporter": "python",
   "pygments_lexer": "ipython3",
   "version": "3.8.10"
  }
 },
 "nbformat": 4,
 "nbformat_minor": 5
}
