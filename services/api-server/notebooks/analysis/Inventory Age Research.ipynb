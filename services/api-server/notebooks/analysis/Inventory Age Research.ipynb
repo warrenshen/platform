{
 "cells": [
  {
   "cell_type": "code",
   "execution_count": 1,
   "id": "37bdd7c3",
   "metadata": {},
   "outputs": [],
   "source": [
    "import warnings\n",
    "warnings.filterwarnings('ignore')"
   ]
  },
  {
   "cell_type": "code",
   "execution_count": 2,
   "id": "11564057",
   "metadata": {},
   "outputs": [],
   "source": [
    "import json\n",
    "import numpy \n",
    "import os\n",
    "import pandas as pd\n",
    "import matplotlib.pyplot as plt\n",
    "%matplotlib inline  \n",
    "import pyarrow\n",
    "import sys\n",
    "from tqdm import tqdm\n",
    "\n",
    "from datetime import date\n",
    "from dotenv import load_dotenv\n",
    "from sqlalchemy import create_engine\n",
    "from os import path\n",
    "from typing import List,Dict, Tuple\n",
    "from collections import defaultdict\n",
    "pd.set_option(\"display.max_columns\", None)\n",
    "\n",
    "load_dotenv(verbose=True)\n",
    "BIGQUERY_CREDENTIALS_PATH = os.environ.get('BIGQUERY_CREDENTIALS_PATH')\n",
    "engine = create_engine('bigquery://bespoke-financial/ProdMetrcData', credentials_path=os.path.expanduser(BIGQUERY_CREDENTIALS_PATH))\n",
    "\n",
    "sys.path.append(path.realpath(path.join(os.getcwd(), \"../core\")))\n",
    "sys.path.append(path.realpath(path.join(os.getcwd(), \"../../src\")))\n",
    "sys.path.append(path.realpath(path.join(os.getcwd(), \"../../scripts\")))\n",
    "\n",
    "import create_queries\n",
    "import prepare_data\n",
    "\n",
    "from bespoke.inventory.analysis.shared import download_util, inventory_types\n",
    "from bespoke.inventory.analysis import active_inventory_util as util\n",
    "from bespoke.inventory.analysis import inventory_valuations_util as valuations_util\n",
    "\n",
    "%load_ext autoreload\n",
    "%autoreload 2"
   ]
  },
  {
   "cell_type": "code",
   "execution_count": 3,
   "id": "a24dde87",
   "metadata": {},
   "outputs": [
    {
     "data": {
      "text/plain": [
       "datetime.date(2022, 7, 21)"
      ]
     },
     "execution_count": 3,
     "metadata": {},
     "output_type": "execute_result"
    }
   ],
   "source": [
    "today = date.today()\n",
    "today"
   ]
  },
  {
   "cell_type": "code",
   "execution_count": 4,
   "id": "e4775b82",
   "metadata": {},
   "outputs": [],
   "source": [
    "from underwriting import data_quality_checks,client_surveillance_jupyter"
   ]
  },
  {
   "cell_type": "code",
   "execution_count": 5,
   "id": "f5c6a7fd",
   "metadata": {},
   "outputs": [],
   "source": [
    "TRANSFER_PACKAGES_START_DATE = '2020-01-01'\n",
    "SALES_TRANSACTIONS_START_DATE = '2020-01-01'"
   ]
  },
  {
   "cell_type": "code",
   "execution_count": 6,
   "id": "833eb4ca",
   "metadata": {},
   "outputs": [],
   "source": [
    "ca_df = pd.read_csv('df_0720.csv',index_col = 0)\n",
    "ca_df.columns = ['company_name','company_identifier','state','licenses']\n",
    "ca_df['company_identifier'] = ca_df['company_identifier'].astype(str)"
   ]
  },
  {
   "cell_type": "code",
   "execution_count": 7,
   "id": "d30959d7",
   "metadata": {},
   "outputs": [
    {
     "data": {
      "text/plain": [
       "(82, 4)"
      ]
     },
     "execution_count": 7,
     "metadata": {},
     "output_type": "execute_result"
    }
   ],
   "source": [
    "ca_df_clean = ca_df[~ca_df['company_identifier'].isin(['PL','WHT','GF','UR'])]\n",
    "ca_df_clean.shape"
   ]
  },
  {
   "cell_type": "code",
   "execution_count": 8,
   "id": "b1361ccf",
   "metadata": {},
   "outputs": [],
   "source": [
    "ca_df_clean['lic_list'] = [list(ca_df_clean['licenses'])[i].split(\";\") for i in range(len(ca_df_clean))]"
   ]
  },
  {
   "cell_type": "code",
   "execution_count": 9,
   "id": "f09b1484",
   "metadata": {},
   "outputs": [
    {
     "data": {
      "text/html": [
       "<div>\n",
       "<style scoped>\n",
       "    .dataframe tbody tr th:only-of-type {\n",
       "        vertical-align: middle;\n",
       "    }\n",
       "\n",
       "    .dataframe tbody tr th {\n",
       "        vertical-align: top;\n",
       "    }\n",
       "\n",
       "    .dataframe thead th {\n",
       "        text-align: right;\n",
       "    }\n",
       "</style>\n",
       "<table border=\"1\" class=\"dataframe\">\n",
       "  <thead>\n",
       "    <tr style=\"text-align: right;\">\n",
       "      <th></th>\n",
       "      <th>company_name</th>\n",
       "      <th>company_identifier</th>\n",
       "      <th>state</th>\n",
       "      <th>licenses</th>\n",
       "      <th>lic_list</th>\n",
       "    </tr>\n",
       "  </thead>\n",
       "  <tbody>\n",
       "    <tr>\n",
       "      <th>0</th>\n",
       "      <td>99 High Tide</td>\n",
       "      <td>99HT</td>\n",
       "      <td>CA</td>\n",
       "      <td>C10-0000279-LIC</td>\n",
       "      <td>[C10-0000279-LIC]</td>\n",
       "    </tr>\n",
       "    <tr>\n",
       "      <th>1</th>\n",
       "      <td>A Green Alternative Inc.</td>\n",
       "      <td>AGA</td>\n",
       "      <td>CA</td>\n",
       "      <td>C10-0000341-LIC</td>\n",
       "      <td>[C10-0000341-LIC]</td>\n",
       "    </tr>\n",
       "    <tr>\n",
       "      <th>2</th>\n",
       "      <td>Altum LLC</td>\n",
       "      <td>ALT</td>\n",
       "      <td>MI</td>\n",
       "      <td>PC-000310;AU-R-000380</td>\n",
       "      <td>[PC-000310, AU-R-000380]</td>\n",
       "    </tr>\n",
       "  </tbody>\n",
       "</table>\n",
       "</div>"
      ],
      "text/plain": [
       "               company_name company_identifier state               licenses  \\\n",
       "0              99 High Tide               99HT    CA        C10-0000279-LIC   \n",
       "1  A Green Alternative Inc.                AGA    CA        C10-0000341-LIC   \n",
       "2                 Altum LLC                ALT    MI  PC-000310;AU-R-000380   \n",
       "\n",
       "                   lic_list  \n",
       "0         [C10-0000279-LIC]  \n",
       "1         [C10-0000341-LIC]  \n",
       "2  [PC-000310, AU-R-000380]  "
      ]
     },
     "execution_count": 9,
     "metadata": {},
     "output_type": "execute_result"
    }
   ],
   "source": [
    "ca_df_clean[0:3]"
   ]
  },
  {
   "cell_type": "markdown",
   "id": "e7a8d5ce",
   "metadata": {},
   "source": [
    "# inventory analysis"
   ]
  },
  {
   "cell_type": "code",
   "execution_count": 10,
   "id": "b2824e96",
   "metadata": {},
   "outputs": [
    {
     "data": {
      "text/plain": [
       "datetime.date(2022, 7, 21)"
      ]
     },
     "execution_count": 10,
     "metadata": {},
     "output_type": "execute_result"
    }
   ],
   "source": [
    "today = date.today()\n",
    "today"
   ]
  },
  {
   "cell_type": "code",
   "execution_count": 11,
   "id": "15977581",
   "metadata": {},
   "outputs": [],
   "source": [
    "def read_inv_data(COMPANY_IDENTIFIER,license_numbers):\n",
    "    \n",
    "    company_inventory_packages_query = create_queries.create_company_inventory_packages_query(\n",
    "    COMPANY_IDENTIFIER,\n",
    "    include_quantity_zero=True,\n",
    "    license_numbers=license_numbers,\n",
    "    )\n",
    "    company_inventory_packages_dataframe = pd.read_sql_query(company_inventory_packages_query, engine)\n",
    "    return company_inventory_packages_dataframe\n"
   ]
  },
  {
   "cell_type": "code",
   "execution_count": null,
   "id": "9e21efa3",
   "metadata": {},
   "outputs": [],
   "source": [
    "def get_age_bucket(age):\n",
    "    if age < 90:\n",
    "        return '0-90'\n",
    "    elif 90 <= age < 270:\n",
    "        return '90-9m'\n",
    "    elif 270 <= age < 365:\n",
    "        return '9m-12m'\n",
    "    elif 365 <= age:\n",
    "        return '>12m'\n",
    "    else:\n",
    "        return np.nan\n",
    "        "
   ]
  },
  {
   "cell_type": "code",
   "execution_count": 12,
   "id": "49c9db37",
   "metadata": {},
   "outputs": [],
   "source": [
    "def get_inv_list(company_list,map_df):\n",
    "    inv_df_list = {}\n",
    "    for c in tqdm(company_list):\n",
    "        inv_list = {}\n",
    "        print(c)\n",
    "        l_list = map_df[map_df['company_identifier'] == c]['lic_list'].to_list()[0]\n",
    "        for l in tqdm(l_list):\n",
    "            print(l)\n",
    "            #df_in = read_df_in([c],[l])\n",
    "            df_inv = read_inv_data([c],[l])\n",
    "\n",
    "            if df_inv.shape[0] == 0:\n",
    "                inv_list[l] = numpy.nan\n",
    "                continue\n",
    "            else:\n",
    "                #inv = client_surveillance_jupyter.calculate_inventory_valuation(df_in,df_inv,[l],today)\n",
    "                #inv_list[l] = inv\n",
    "#                 df_inv[\"age\"] = [today - df_inv[\"packaged_date\"][i] for i in range(len(df_inv))]\n",
    "#                 df_inv[\"age_int\"] = [df_inv[\"age\"][i] / numpy.timedelta64(1, \"D\") for i in range(len(df_inv))]\n",
    "#                 df_inv = df_inv.drop(['age'], axis=1)\n",
    "#                 df_inv['age_bucket'] = [get_age_bucket(df_inv['age_int'][i]) for i in range(len(df_inv))]\n",
    "                inv_list[l] = df_inv\n",
    "        inv_df_list[c] =  inv_list\n",
    "    return inv_df_list"
   ]
  },
  {
   "cell_type": "code",
   "execution_count": 13,
   "id": "2b987e87",
   "metadata": {},
   "outputs": [
    {
     "name": "stderr",
     "output_type": "stream",
     "text": [
      "\r",
      "  0%|          | 0/82 [00:00<?, ?it/s]"
     ]
    },
    {
     "name": "stdout",
     "output_type": "stream",
     "text": [
      "99HT\n"
     ]
    },
    {
     "name": "stderr",
     "output_type": "stream",
     "text": [
      "\n",
      "  0%|          | 0/1 [00:00<?, ?it/s]\u001b[A"
     ]
    },
    {
     "name": "stdout",
     "output_type": "stream",
     "text": [
      "C10-0000279-LIC\n"
     ]
    },
    {
     "name": "stderr",
     "output_type": "stream",
     "text": [
      "\n",
      "100%|██████████| 1/1 [00:01<00:00,  1.90s/it]\u001b[A\n",
      "  1%|          | 1/82 [00:01<02:33,  1.90s/it]"
     ]
    },
    {
     "name": "stdout",
     "output_type": "stream",
     "text": [
      "AGA\n"
     ]
    },
    {
     "name": "stderr",
     "output_type": "stream",
     "text": [
      "\n",
      "  0%|          | 0/1 [00:00<?, ?it/s]\u001b[A"
     ]
    },
    {
     "name": "stdout",
     "output_type": "stream",
     "text": [
      "C10-0000341-LIC\n"
     ]
    },
    {
     "name": "stderr",
     "output_type": "stream",
     "text": [
      "\n",
      "100%|██████████| 1/1 [00:01<00:00,  1.90s/it]\u001b[A\n",
      "  2%|▏         | 2/82 [00:03<02:32,  1.90s/it]"
     ]
    },
    {
     "name": "stdout",
     "output_type": "stream",
     "text": [
      "ALT\n"
     ]
    },
    {
     "name": "stderr",
     "output_type": "stream",
     "text": [
      "\n",
      "  0%|          | 0/2 [00:00<?, ?it/s]\u001b[A"
     ]
    },
    {
     "name": "stdout",
     "output_type": "stream",
     "text": [
      "PC-000310\n"
     ]
    },
    {
     "name": "stderr",
     "output_type": "stream",
     "text": [
      "\n",
      " 50%|█████     | 1/2 [00:00<00:00,  1.02it/s]\u001b[A"
     ]
    },
    {
     "name": "stdout",
     "output_type": "stream",
     "text": [
      "AU-R-000380\n"
     ]
    },
    {
     "name": "stderr",
     "output_type": "stream",
     "text": [
      "\n",
      "100%|██████████| 2/2 [00:02<00:00,  1.03s/it]\u001b[A\n",
      "  4%|▎         | 3/82 [00:05<02:35,  1.97s/it]"
     ]
    },
    {
     "name": "stdout",
     "output_type": "stream",
     "text": [
      "BS\n"
     ]
    },
    {
     "name": "stderr",
     "output_type": "stream",
     "text": [
      "\n",
      "  0%|          | 0/2 [00:00<?, ?it/s]\u001b[A"
     ]
    },
    {
     "name": "stdout",
     "output_type": "stream",
     "text": [
      "AU-R-000156\n"
     ]
    },
    {
     "name": "stderr",
     "output_type": "stream",
     "text": [
      "\n",
      " 50%|█████     | 1/2 [00:01<00:01,  1.11s/it]\u001b[A"
     ]
    },
    {
     "name": "stdout",
     "output_type": "stream",
     "text": [
      "PC-000185\n"
     ]
    },
    {
     "name": "stderr",
     "output_type": "stream",
     "text": [
      "\n",
      "100%|██████████| 2/2 [00:02<00:00,  1.14s/it]\u001b[A\n",
      "  5%|▍         | 4/82 [00:08<02:43,  2.09s/it]"
     ]
    },
    {
     "name": "stdout",
     "output_type": "stream",
     "text": [
      "BMC\n"
     ]
    },
    {
     "name": "stderr",
     "output_type": "stream",
     "text": [
      "\n",
      "  0%|          | 0/1 [00:00<?, ?it/s]\u001b[A"
     ]
    },
    {
     "name": "stdout",
     "output_type": "stream",
     "text": [
      "402-00930\n"
     ]
    },
    {
     "name": "stderr",
     "output_type": "stream",
     "text": [
      "\n",
      "100%|██████████| 1/1 [00:01<00:00,  1.19s/it]\u001b[A\n",
      "  6%|▌         | 5/82 [00:09<02:16,  1.77s/it]"
     ]
    },
    {
     "name": "stdout",
     "output_type": "stream",
     "text": [
      "BBF\n"
     ]
    },
    {
     "name": "stderr",
     "output_type": "stream",
     "text": [
      "\n",
      "  0%|          | 0/1 [00:00<?, ?it/s]\u001b[A"
     ]
    },
    {
     "name": "stdout",
     "output_type": "stream",
     "text": [
      "MR281525\n"
     ]
    },
    {
     "name": "stderr",
     "output_type": "stream",
     "text": [
      "\n",
      "100%|██████████| 1/1 [00:01<00:00,  1.04s/it]\u001b[A\n",
      "  7%|▋         | 6/82 [00:10<01:55,  1.52s/it]"
     ]
    },
    {
     "name": "stdout",
     "output_type": "stream",
     "text": [
      "BUD\n"
     ]
    },
    {
     "name": "stderr",
     "output_type": "stream",
     "text": [
      "\n",
      "  0%|          | 0/5 [00:00<?, ?it/s]\u001b[A"
     ]
    },
    {
     "name": "stdout",
     "output_type": "stream",
     "text": [
      "C9-0000444-LIC\n"
     ]
    },
    {
     "name": "stderr",
     "output_type": "stream",
     "text": [
      "\n",
      " 20%|██        | 1/5 [00:01<00:06,  1.64s/it]\u001b[A"
     ]
    },
    {
     "name": "stdout",
     "output_type": "stream",
     "text": [
      "C9-0000464-LIC\n"
     ]
    },
    {
     "name": "stderr",
     "output_type": "stream",
     "text": [
      "\n",
      " 40%|████      | 2/5 [00:03<00:05,  1.68s/it]\u001b[A"
     ]
    },
    {
     "name": "stdout",
     "output_type": "stream",
     "text": [
      "C9-0000467-LIC\n"
     ]
    },
    {
     "name": "stderr",
     "output_type": "stream",
     "text": [
      "\n",
      " 60%|██████    | 3/5 [00:04<00:03,  1.67s/it]\u001b[A"
     ]
    },
    {
     "name": "stdout",
     "output_type": "stream",
     "text": [
      "C9-0000167-LIC\n"
     ]
    },
    {
     "name": "stderr",
     "output_type": "stream",
     "text": [
      "\n",
      " 80%|████████  | 4/5 [00:06<00:01,  1.75s/it]\u001b[A"
     ]
    },
    {
     "name": "stdout",
     "output_type": "stream",
     "text": [
      "C9-0000399-LIC\n"
     ]
    },
    {
     "name": "stderr",
     "output_type": "stream",
     "text": [
      "\n",
      "100%|██████████| 5/5 [00:08<00:00,  1.72s/it]\u001b[A\n",
      "  9%|▊         | 7/82 [00:18<04:48,  3.84s/it]"
     ]
    },
    {
     "name": "stdout",
     "output_type": "stream",
     "text": [
      "BRC\n"
     ]
    },
    {
     "name": "stderr",
     "output_type": "stream",
     "text": [
      "\n",
      "  0%|          | 0/1 [00:00<?, ?it/s]\u001b[A"
     ]
    },
    {
     "name": "stdout",
     "output_type": "stream",
     "text": [
      "C10-0000603-LIC\n"
     ]
    },
    {
     "name": "stderr",
     "output_type": "stream",
     "text": [
      "\n",
      "100%|██████████| 1/1 [00:01<00:00,  1.76s/it]\u001b[A\n",
      " 10%|▉         | 8/82 [00:20<03:55,  3.18s/it]"
     ]
    },
    {
     "name": "stdout",
     "output_type": "stream",
     "text": [
      "BYN\n"
     ]
    },
    {
     "name": "stderr",
     "output_type": "stream",
     "text": [
      "\n",
      "  0%|          | 0/1 [00:00<?, ?it/s]\u001b[A"
     ]
    },
    {
     "name": "stdout",
     "output_type": "stream",
     "text": [
      "C10-0000528-LIC\n"
     ]
    },
    {
     "name": "stderr",
     "output_type": "stream",
     "text": [
      "\n",
      "100%|██████████| 1/1 [00:01<00:00,  1.05s/it]\u001b[A\n",
      " 11%|█         | 9/82 [00:21<03:03,  2.52s/it]"
     ]
    },
    {
     "name": "stdout",
     "output_type": "stream",
     "text": [
      "CHO\n"
     ]
    },
    {
     "name": "stderr",
     "output_type": "stream",
     "text": [
      "\n",
      "  0%|          | 0/1 [00:00<?, ?it/s]\u001b[A"
     ]
    },
    {
     "name": "stdout",
     "output_type": "stream",
     "text": [
      "AU-R-000575\n"
     ]
    },
    {
     "name": "stderr",
     "output_type": "stream",
     "text": [
      "\n",
      "100%|██████████| 1/1 [00:01<00:00,  1.63s/it]\u001b[A\n",
      " 12%|█▏        | 10/82 [00:23<02:41,  2.24s/it]"
     ]
    },
    {
     "name": "stdout",
     "output_type": "stream",
     "text": [
      "CG\n"
     ]
    },
    {
     "name": "stderr",
     "output_type": "stream",
     "text": [
      "\n",
      "  0%|          | 0/1 [00:00<?, ?it/s]\u001b[A"
     ]
    },
    {
     "name": "stdout",
     "output_type": "stream",
     "text": [
      "C9-0000157-LIC\n"
     ]
    },
    {
     "name": "stderr",
     "output_type": "stream",
     "text": [
      "\n",
      "100%|██████████| 1/1 [00:01<00:00,  1.86s/it]\u001b[A\n",
      " 13%|█▎        | 11/82 [00:25<02:30,  2.13s/it]"
     ]
    },
    {
     "name": "stdout",
     "output_type": "stream",
     "text": [
      "CPA\n"
     ]
    },
    {
     "name": "stderr",
     "output_type": "stream",
     "text": [
      "\n",
      "  0%|          | 0/2 [00:00<?, ?it/s]\u001b[A"
     ]
    },
    {
     "name": "stdout",
     "output_type": "stream",
     "text": [
      "C9-0000348-LIC\n"
     ]
    },
    {
     "name": "stderr",
     "output_type": "stream",
     "text": [
      "\n",
      " 50%|█████     | 1/2 [00:02<00:02,  2.09s/it]\u001b[A"
     ]
    },
    {
     "name": "stdout",
     "output_type": "stream",
     "text": [
      "C10-0000461-LIC\n"
     ]
    },
    {
     "name": "stderr",
     "output_type": "stream",
     "text": [
      "\n",
      "100%|██████████| 2/2 [00:03<00:00,  1.85s/it]\u001b[A\n",
      " 15%|█▍        | 12/82 [00:29<03:02,  2.61s/it]"
     ]
    },
    {
     "name": "stdout",
     "output_type": "stream",
     "text": [
      "CPC\n"
     ]
    },
    {
     "name": "stderr",
     "output_type": "stream",
     "text": [
      "\n",
      "  0%|          | 0/1 [00:00<?, ?it/s]\u001b[A"
     ]
    },
    {
     "name": "stdout",
     "output_type": "stream",
     "text": [
      "C9-0000056-LIC\n"
     ]
    },
    {
     "name": "stderr",
     "output_type": "stream",
     "text": [
      "\n",
      "100%|██████████| 1/1 [00:01<00:00,  1.03s/it]\u001b[A\n",
      " 16%|█▌        | 13/82 [00:30<02:26,  2.13s/it]"
     ]
    },
    {
     "name": "stdout",
     "output_type": "stream",
     "text": [
      "CSC\n"
     ]
    },
    {
     "name": "stderr",
     "output_type": "stream",
     "text": [
      "\n",
      "  0%|          | 0/1 [00:00<?, ?it/s]\u001b[A"
     ]
    },
    {
     "name": "stdout",
     "output_type": "stream",
     "text": [
      "C10-0000670-LIC\n"
     ]
    },
    {
     "name": "stderr",
     "output_type": "stream",
     "text": [
      "\n",
      "100%|██████████| 1/1 [00:02<00:00,  2.09s/it]\u001b[A\n",
      " 17%|█▋        | 14/82 [00:32<02:23,  2.12s/it]"
     ]
    },
    {
     "name": "stdout",
     "output_type": "stream",
     "text": [
      "CSCC\n"
     ]
    },
    {
     "name": "stderr",
     "output_type": "stream",
     "text": [
      "\n",
      "  0%|          | 0/1 [00:00<?, ?it/s]\u001b[A"
     ]
    },
    {
     "name": "stdout",
     "output_type": "stream",
     "text": [
      "C10-0000918-LIC\n"
     ]
    },
    {
     "name": "stderr",
     "output_type": "stream",
     "text": [
      "\n",
      "100%|██████████| 1/1 [00:01<00:00,  1.61s/it]\u001b[A\n",
      " 18%|█▊        | 15/82 [00:33<02:11,  1.96s/it]"
     ]
    },
    {
     "name": "stdout",
     "output_type": "stream",
     "text": [
      "CCC\n"
     ]
    },
    {
     "name": "stderr",
     "output_type": "stream",
     "text": [
      "\n",
      "  0%|          | 0/1 [00:00<?, ?it/s]\u001b[A"
     ]
    },
    {
     "name": "stdout",
     "output_type": "stream",
     "text": [
      "C12-0000087-LIC\n"
     ]
    },
    {
     "name": "stderr",
     "output_type": "stream",
     "text": [
      "\n",
      "100%|██████████| 1/1 [00:02<00:00,  2.26s/it]\u001b[A\n",
      " 20%|█▉        | 16/82 [00:35<02:15,  2.05s/it]"
     ]
    },
    {
     "name": "stdout",
     "output_type": "stream",
     "text": [
      "CLC\n"
     ]
    },
    {
     "name": "stderr",
     "output_type": "stream",
     "text": [
      "\n",
      "  0%|          | 0/2 [00:00<?, ?it/s]\u001b[A"
     ]
    },
    {
     "name": "stdout",
     "output_type": "stream",
     "text": [
      "C10-0000986-LIC\n"
     ]
    },
    {
     "name": "stderr",
     "output_type": "stream",
     "text": [
      "\n",
      " 50%|█████     | 1/2 [00:00<00:00,  1.01it/s]\u001b[A"
     ]
    },
    {
     "name": "stdout",
     "output_type": "stream",
     "text": [
      "C12-0000318-LIC\n"
     ]
    },
    {
     "name": "stderr",
     "output_type": "stream",
     "text": [
      "\n",
      "100%|██████████| 2/2 [00:02<00:00,  1.01s/it]\u001b[A\n",
      " 21%|██        | 17/82 [00:38<02:12,  2.04s/it]"
     ]
    },
    {
     "name": "stdout",
     "output_type": "stream",
     "text": [
      "CC\n"
     ]
    },
    {
     "name": "stderr",
     "output_type": "stream",
     "text": [
      "\n",
      "  0%|          | 0/1 [00:00<?, ?it/s]\u001b[A"
     ]
    },
    {
     "name": "stdout",
     "output_type": "stream",
     "text": [
      "C10-0000758-LIC\n"
     ]
    },
    {
     "name": "stderr",
     "output_type": "stream",
     "text": [
      "\n",
      "100%|██████████| 1/1 [00:01<00:00,  1.83s/it]\u001b[A\n",
      " 22%|██▏       | 18/82 [00:39<02:06,  1.98s/it]"
     ]
    },
    {
     "name": "stdout",
     "output_type": "stream",
     "text": [
      "CED\n"
     ]
    },
    {
     "name": "stderr",
     "output_type": "stream",
     "text": [
      "\n",
      "  0%|          | 0/1 [00:00<?, ?it/s]\u001b[A"
     ]
    },
    {
     "name": "stdout",
     "output_type": "stream",
     "text": [
      "C9-0000094-LIC\n"
     ]
    },
    {
     "name": "stderr",
     "output_type": "stream",
     "text": [
      "\n",
      "100%|██████████| 1/1 [00:01<00:00,  1.97s/it]\u001b[A\n",
      " 23%|██▎       | 19/82 [00:41<02:04,  1.98s/it]"
     ]
    },
    {
     "name": "stdout",
     "output_type": "stream",
     "text": [
      "DWF\n"
     ]
    },
    {
     "name": "stderr",
     "output_type": "stream",
     "text": [
      "\n",
      "  0%|          | 0/2 [00:00<?, ?it/s]\u001b[A"
     ]
    },
    {
     "name": "stdout",
     "output_type": "stream",
     "text": [
      "402R-00296\n"
     ]
    },
    {
     "name": "stderr",
     "output_type": "stream",
     "text": [
      "\n",
      " 50%|█████     | 1/2 [00:01<00:01,  1.04s/it]\u001b[A"
     ]
    },
    {
     "name": "stdout",
     "output_type": "stream",
     "text": [
      "402R-00804\n"
     ]
    },
    {
     "name": "stderr",
     "output_type": "stream",
     "text": [
      "\n",
      "100%|██████████| 2/2 [00:01<00:00,  1.00it/s]\u001b[A\n",
      " 24%|██▍       | 20/82 [00:43<02:02,  1.98s/it]"
     ]
    },
    {
     "name": "stdout",
     "output_type": "stream",
     "text": [
      "DCO\n"
     ]
    },
    {
     "name": "stderr",
     "output_type": "stream",
     "text": [
      "\n",
      "  0%|          | 0/2 [00:00<?, ?it/s]\u001b[A"
     ]
    },
    {
     "name": "stdout",
     "output_type": "stream",
     "text": [
      "050-10052885D4C\n"
     ]
    },
    {
     "name": "stderr",
     "output_type": "stream",
     "text": [
      "\n",
      " 50%|█████     | 1/2 [00:01<00:01,  1.57s/it]\u001b[A"
     ]
    },
    {
     "name": "stdout",
     "output_type": "stream",
     "text": [
      "050-10070593E9E\n"
     ]
    },
    {
     "name": "stderr",
     "output_type": "stream",
     "text": [
      "\n",
      "100%|██████████| 2/2 [00:02<00:00,  1.31s/it]\u001b[A\n",
      " 26%|██▌       | 21/82 [00:46<02:12,  2.17s/it]"
     ]
    },
    {
     "name": "stdout",
     "output_type": "stream",
     "text": [
      "DL\n"
     ]
    },
    {
     "name": "stderr",
     "output_type": "stream",
     "text": [
      "\n",
      "  0%|          | 0/1 [00:00<?, ?it/s]\u001b[A"
     ]
    },
    {
     "name": "stdout",
     "output_type": "stream",
     "text": [
      "MR283369\n"
     ]
    },
    {
     "name": "stderr",
     "output_type": "stream",
     "text": [
      "\n",
      "100%|██████████| 1/1 [00:01<00:00,  1.06s/it]\u001b[A\n",
      " 27%|██▋       | 22/82 [00:47<01:50,  1.84s/it]"
     ]
    },
    {
     "name": "stdout",
     "output_type": "stream",
     "text": [
      "DGG\n"
     ]
    },
    {
     "name": "stderr",
     "output_type": "stream",
     "text": [
      "\n",
      "  0%|          | 0/1 [00:00<?, ?it/s]\u001b[A"
     ]
    },
    {
     "name": "stdout",
     "output_type": "stream",
     "text": [
      "C9-0000016-LIC\n"
     ]
    },
    {
     "name": "stderr",
     "output_type": "stream",
     "text": [
      "\n",
      "100%|██████████| 1/1 [00:01<00:00,  1.64s/it]\u001b[A\n",
      " 28%|██▊       | 23/82 [00:49<01:45,  1.78s/it]"
     ]
    },
    {
     "name": "stdout",
     "output_type": "stream",
     "text": [
      "DG\n"
     ]
    },
    {
     "name": "stderr",
     "output_type": "stream",
     "text": [
      "\n",
      "  0%|          | 0/6 [00:00<?, ?it/s]\u001b[A"
     ]
    },
    {
     "name": "stdout",
     "output_type": "stream",
     "text": [
      "AU-R-000287\n"
     ]
    },
    {
     "name": "stderr",
     "output_type": "stream",
     "text": [
      "\n",
      " 17%|█▋        | 1/6 [00:01<00:05,  1.08s/it]\u001b[A"
     ]
    },
    {
     "name": "stdout",
     "output_type": "stream",
     "text": [
      "AU-R-000359\n"
     ]
    },
    {
     "name": "stderr",
     "output_type": "stream",
     "text": [
      "\n",
      " 33%|███▎      | 2/6 [00:02<00:04,  1.10s/it]\u001b[A"
     ]
    },
    {
     "name": "stdout",
     "output_type": "stream",
     "text": [
      "AU-R-000422\n"
     ]
    },
    {
     "name": "stderr",
     "output_type": "stream",
     "text": [
      "\n",
      " 50%|█████     | 3/6 [00:03<00:03,  1.11s/it]\u001b[A"
     ]
    },
    {
     "name": "stdout",
     "output_type": "stream",
     "text": [
      "AU-R-000470\n"
     ]
    },
    {
     "name": "stderr",
     "output_type": "stream",
     "text": [
      "\n",
      " 67%|██████▋   | 4/6 [00:04<00:02,  1.07s/it]\u001b[A"
     ]
    },
    {
     "name": "stdout",
     "output_type": "stream",
     "text": [
      "AU-R-000572\n"
     ]
    },
    {
     "name": "stderr",
     "output_type": "stream",
     "text": [
      "\n",
      " 83%|████████▎ | 5/6 [00:05<00:01,  1.06s/it]\u001b[A"
     ]
    },
    {
     "name": "stdout",
     "output_type": "stream",
     "text": [
      "PC-000485\n"
     ]
    },
    {
     "name": "stderr",
     "output_type": "stream",
     "text": [
      "\n",
      "100%|██████████| 6/6 [00:06<00:00,  1.02s/it]\u001b[A\n",
      " 29%|██▉       | 24/82 [00:55<02:58,  3.08s/it]"
     ]
    },
    {
     "name": "stdout",
     "output_type": "stream",
     "text": [
      "EL\n"
     ]
    },
    {
     "name": "stderr",
     "output_type": "stream",
     "text": [
      "\n",
      "  0%|          | 0/1 [00:00<?, ?it/s]\u001b[A"
     ]
    },
    {
     "name": "stdout",
     "output_type": "stream",
     "text": [
      "C9-0000370-LIC\n"
     ]
    },
    {
     "name": "stderr",
     "output_type": "stream",
     "text": [
      "\n",
      "100%|██████████| 1/1 [00:01<00:00,  1.06s/it]\u001b[A\n",
      " 30%|███       | 25/82 [00:56<02:21,  2.48s/it]"
     ]
    },
    {
     "name": "stdout",
     "output_type": "stream",
     "text": [
      "EMA\n"
     ]
    },
    {
     "name": "stderr",
     "output_type": "stream",
     "text": [
      "\n",
      "  0%|          | 0/1 [00:00<?, ?it/s]\u001b[A"
     ]
    },
    {
     "name": "stdout",
     "output_type": "stream",
     "text": [
      "C10-0000774-LIC\n"
     ]
    },
    {
     "name": "stderr",
     "output_type": "stream",
     "text": [
      "\n",
      "100%|██████████| 1/1 [00:01<00:00,  1.54s/it]\u001b[A\n",
      " 32%|███▏      | 26/82 [00:57<02:03,  2.20s/it]"
     ]
    },
    {
     "name": "stdout",
     "output_type": "stream",
     "text": [
      "EMF\n"
     ]
    },
    {
     "name": "stderr",
     "output_type": "stream",
     "text": [
      "\n",
      "  0%|          | 0/1 [00:00<?, ?it/s]\u001b[A"
     ]
    },
    {
     "name": "stdout",
     "output_type": "stream",
     "text": [
      "C10-0000939-LIC\n"
     ]
    },
    {
     "name": "stderr",
     "output_type": "stream",
     "text": [
      "\n",
      "100%|██████████| 1/1 [00:01<00:00,  1.56s/it]\u001b[A\n",
      " 33%|███▎      | 27/82 [00:59<01:50,  2.01s/it]"
     ]
    },
    {
     "name": "stdout",
     "output_type": "stream",
     "text": [
      "EMM\n"
     ]
    },
    {
     "name": "stderr",
     "output_type": "stream",
     "text": [
      "\n",
      "  0%|          | 0/1 [00:00<?, ?it/s]\u001b[A"
     ]
    },
    {
     "name": "stdout",
     "output_type": "stream",
     "text": [
      "C10-0000786-LIC\n"
     ]
    },
    {
     "name": "stderr",
     "output_type": "stream",
     "text": [
      "\n",
      "100%|██████████| 1/1 [00:01<00:00,  1.65s/it]\u001b[A\n",
      " 34%|███▍      | 28/82 [01:01<01:42,  1.90s/it]"
     ]
    },
    {
     "name": "stdout",
     "output_type": "stream",
     "text": [
      "EMT\n"
     ]
    },
    {
     "name": "stderr",
     "output_type": "stream",
     "text": [
      "\n",
      "  0%|          | 0/1 [00:00<?, ?it/s]\u001b[A"
     ]
    },
    {
     "name": "stdout",
     "output_type": "stream",
     "text": [
      "C10-0000695-LIC\n"
     ]
    },
    {
     "name": "stderr",
     "output_type": "stream",
     "text": [
      "\n",
      "100%|██████████| 1/1 [00:01<00:00,  1.63s/it]\u001b[A\n",
      " 35%|███▌      | 29/82 [01:02<01:36,  1.82s/it]"
     ]
    },
    {
     "name": "stdout",
     "output_type": "stream",
     "text": [
      "EPC\n"
     ]
    },
    {
     "name": "stderr",
     "output_type": "stream",
     "text": [
      "\n",
      "  0%|          | 0/1 [00:00<?, ?it/s]\u001b[A"
     ]
    },
    {
     "name": "stdout",
     "output_type": "stream",
     "text": [
      "C10-0000034-LIC\n"
     ]
    },
    {
     "name": "stderr",
     "output_type": "stream",
     "text": [
      "\n",
      "100%|██████████| 1/1 [00:01<00:00,  1.95s/it]\u001b[A\n",
      " 37%|███▋      | 30/82 [01:04<01:36,  1.86s/it]"
     ]
    },
    {
     "name": "stdout",
     "output_type": "stream",
     "text": [
      "EH\n"
     ]
    },
    {
     "name": "stderr",
     "output_type": "stream",
     "text": [
      "\n",
      "  0%|          | 0/1 [00:00<?, ?it/s]\u001b[A"
     ]
    },
    {
     "name": "stdout",
     "output_type": "stream",
     "text": [
      "MR283073\n"
     ]
    },
    {
     "name": "stderr",
     "output_type": "stream",
     "text": [
      "\n",
      "100%|██████████| 1/1 [00:00<00:00,  1.04it/s]\u001b[A\n",
      " 38%|███▊      | 31/82 [01:05<01:21,  1.59s/it]"
     ]
    },
    {
     "name": "stdout",
     "output_type": "stream",
     "text": [
      "FI\n"
     ]
    },
    {
     "name": "stderr",
     "output_type": "stream",
     "text": [
      "\n",
      "  0%|          | 0/3 [00:00<?, ?it/s]\u001b[A"
     ]
    },
    {
     "name": "stdout",
     "output_type": "stream",
     "text": [
      "C10-0000606-LIC\n"
     ]
    },
    {
     "name": "stderr",
     "output_type": "stream",
     "text": [
      "\n",
      " 33%|███▎      | 1/3 [00:00<00:01,  1.33it/s]\u001b[A"
     ]
    },
    {
     "name": "stdout",
     "output_type": "stream",
     "text": [
      "C10-0000753-LIC\n"
     ]
    },
    {
     "name": "stderr",
     "output_type": "stream",
     "text": [
      "\n",
      " 67%|██████▋   | 2/3 [00:01<00:00,  1.13it/s]\u001b[A"
     ]
    },
    {
     "name": "stdout",
     "output_type": "stream",
     "text": [
      "C12-0000400-LIC\n"
     ]
    },
    {
     "name": "stderr",
     "output_type": "stream",
     "text": [
      "\n",
      "100%|██████████| 3/3 [00:02<00:00,  1.08it/s]\u001b[A\n",
      " 39%|███▉      | 32/82 [01:08<01:37,  1.95s/it]"
     ]
    },
    {
     "name": "stdout",
     "output_type": "stream",
     "text": [
      "FW\n"
     ]
    },
    {
     "name": "stderr",
     "output_type": "stream",
     "text": [
      "\n",
      "  0%|          | 0/5 [00:00<?, ?it/s]\u001b[A"
     ]
    },
    {
     "name": "stdout",
     "output_type": "stream",
     "text": [
      "402-00558\n"
     ]
    },
    {
     "name": "stderr",
     "output_type": "stream",
     "text": [
      "\n",
      " 20%|██        | 1/5 [00:01<00:04,  1.03s/it]\u001b[A"
     ]
    },
    {
     "name": "stdout",
     "output_type": "stream",
     "text": [
      "402-00891\n"
     ]
    },
    {
     "name": "stderr",
     "output_type": "stream",
     "text": [
      "\n",
      " 40%|████      | 2/5 [00:02<00:03,  1.02s/it]\u001b[A"
     ]
    },
    {
     "name": "stdout",
     "output_type": "stream",
     "text": [
      "402R-00017\n"
     ]
    },
    {
     "name": "stderr",
     "output_type": "stream",
     "text": [
      "\n",
      " 60%|██████    | 3/5 [00:03<00:02,  1.04s/it]\u001b[A"
     ]
    },
    {
     "name": "stdout",
     "output_type": "stream",
     "text": [
      "402R-00020\n"
     ]
    },
    {
     "name": "stderr",
     "output_type": "stream",
     "text": [
      "\n",
      " 80%|████████  | 4/5 [00:04<00:01,  1.03s/it]\u001b[A"
     ]
    },
    {
     "name": "stdout",
     "output_type": "stream",
     "text": [
      "402R-00747\n"
     ]
    },
    {
     "name": "stderr",
     "output_type": "stream",
     "text": [
      "\n",
      "100%|██████████| 5/5 [00:05<00:00,  1.02s/it]\u001b[A\n",
      " 40%|████      | 33/82 [01:13<02:21,  2.89s/it]"
     ]
    },
    {
     "name": "stdout",
     "output_type": "stream",
     "text": [
      "GTC\n"
     ]
    },
    {
     "name": "stderr",
     "output_type": "stream",
     "text": [
      "\n",
      "  0%|          | 0/1 [00:00<?, ?it/s]\u001b[A"
     ]
    },
    {
     "name": "stdout",
     "output_type": "stream",
     "text": [
      "C10-0000849-LIC\n"
     ]
    },
    {
     "name": "stderr",
     "output_type": "stream",
     "text": [
      "\n",
      "100%|██████████| 1/1 [00:01<00:00,  1.70s/it]\u001b[A\n",
      " 41%|████▏     | 34/82 [01:15<02:01,  2.54s/it]"
     ]
    },
    {
     "name": "stdout",
     "output_type": "stream",
     "text": [
      "GT\n"
     ]
    },
    {
     "name": "stderr",
     "output_type": "stream",
     "text": [
      "\n",
      "  0%|          | 0/2 [00:00<?, ?it/s]\u001b[A"
     ]
    },
    {
     "name": "stdout",
     "output_type": "stream",
     "text": [
      "C9-0000385-LIC\n"
     ]
    },
    {
     "name": "stderr",
     "output_type": "stream",
     "text": [
      "\n",
      " 50%|█████     | 1/2 [00:01<00:01,  1.61s/it]\u001b[A"
     ]
    },
    {
     "name": "stdout",
     "output_type": "stream",
     "text": [
      "C9-0000170-LIC\n"
     ]
    },
    {
     "name": "stderr",
     "output_type": "stream",
     "text": [
      "\n",
      "100%|██████████| 2/2 [00:02<00:00,  1.31s/it]\u001b[A\n",
      " 43%|████▎     | 35/82 [01:17<02:00,  2.56s/it]"
     ]
    },
    {
     "name": "stdout",
     "output_type": "stream",
     "text": [
      "GLNR\n"
     ]
    },
    {
     "name": "stderr",
     "output_type": "stream",
     "text": [
      "\n",
      "  0%|          | 0/6 [00:00<?, ?it/s]\u001b[A"
     ]
    },
    {
     "name": "stdout",
     "output_type": "stream",
     "text": [
      "PC-000334\n"
     ]
    },
    {
     "name": "stderr",
     "output_type": "stream",
     "text": [
      "\n",
      " 17%|█▋        | 1/6 [00:00<00:04,  1.03it/s]\u001b[A"
     ]
    },
    {
     "name": "stdout",
     "output_type": "stream",
     "text": [
      "PC-000613\n"
     ]
    },
    {
     "name": "stderr",
     "output_type": "stream",
     "text": [
      "\n",
      " 33%|███▎      | 2/6 [00:01<00:03,  1.02it/s]\u001b[A"
     ]
    },
    {
     "name": "stdout",
     "output_type": "stream",
     "text": [
      "PC-000722\n"
     ]
    },
    {
     "name": "stderr",
     "output_type": "stream",
     "text": [
      "\n",
      " 50%|█████     | 3/6 [00:02<00:02,  1.04it/s]\u001b[A"
     ]
    },
    {
     "name": "stdout",
     "output_type": "stream",
     "text": [
      "AU-R-000182\n"
     ]
    },
    {
     "name": "stderr",
     "output_type": "stream",
     "text": [
      "\n",
      " 67%|██████▋   | 4/6 [00:03<00:01,  1.05it/s]\u001b[A"
     ]
    },
    {
     "name": "stdout",
     "output_type": "stream",
     "text": [
      "AU-R-000461\n"
     ]
    },
    {
     "name": "stderr",
     "output_type": "stream",
     "text": [
      "\n",
      " 83%|████████▎ | 5/6 [00:04<00:00,  1.05it/s]\u001b[A"
     ]
    },
    {
     "name": "stdout",
     "output_type": "stream",
     "text": [
      "AU-R-000559\n"
     ]
    },
    {
     "name": "stderr",
     "output_type": "stream",
     "text": [
      "\n",
      "100%|██████████| 6/6 [00:05<00:00,  1.05it/s]\u001b[A\n",
      " 44%|████▍     | 36/82 [01:23<02:41,  3.50s/it]"
     ]
    },
    {
     "name": "stdout",
     "output_type": "stream",
     "text": [
      "GRG\n"
     ]
    },
    {
     "name": "stderr",
     "output_type": "stream",
     "text": [
      "\n",
      "  0%|          | 0/2 [00:00<?, ?it/s]\u001b[A"
     ]
    },
    {
     "name": "stdout",
     "output_type": "stream",
     "text": [
      "C10-0000169-LIC\n"
     ]
    },
    {
     "name": "stderr",
     "output_type": "stream",
     "text": [
      "\n",
      " 50%|█████     | 1/2 [00:01<00:01,  1.69s/it]\u001b[A"
     ]
    },
    {
     "name": "stdout",
     "output_type": "stream",
     "text": [
      "C10-0000408-LIC\n"
     ]
    },
    {
     "name": "stderr",
     "output_type": "stream",
     "text": [
      "\n",
      "100%|██████████| 2/2 [00:03<00:00,  1.86s/it]\u001b[A\n",
      " 45%|████▌     | 37/82 [01:27<02:40,  3.57s/it]"
     ]
    },
    {
     "name": "stdout",
     "output_type": "stream",
     "text": [
      "GTR\n"
     ]
    },
    {
     "name": "stderr",
     "output_type": "stream",
     "text": [
      "\n",
      "  0%|          | 0/2 [00:00<?, ?it/s]\u001b[A"
     ]
    },
    {
     "name": "stdout",
     "output_type": "stream",
     "text": [
      "PC-000225\n"
     ]
    },
    {
     "name": "stderr",
     "output_type": "stream",
     "text": [
      "\n",
      " 50%|█████     | 1/2 [00:00<00:00,  1.13it/s]\u001b[A"
     ]
    },
    {
     "name": "stdout",
     "output_type": "stream",
     "text": [
      "AU-R-000163\n"
     ]
    },
    {
     "name": "stderr",
     "output_type": "stream",
     "text": [
      "\n",
      "100%|██████████| 2/2 [00:01<00:00,  1.06it/s]\u001b[A\n",
      " 46%|████▋     | 38/82 [01:29<02:14,  3.06s/it]"
     ]
    },
    {
     "name": "stdout",
     "output_type": "stream",
     "text": [
      "GHC\n"
     ]
    },
    {
     "name": "stderr",
     "output_type": "stream",
     "text": [
      "\n",
      "  0%|          | 0/1 [00:00<?, ?it/s]\u001b[A"
     ]
    },
    {
     "name": "stdout",
     "output_type": "stream",
     "text": [
      "C10-0000414-LIC\n"
     ]
    },
    {
     "name": "stderr",
     "output_type": "stream",
     "text": [
      "\n",
      "100%|██████████| 1/1 [00:01<00:00,  1.71s/it]\u001b[A\n",
      " 48%|████▊     | 39/82 [01:30<01:54,  2.66s/it]"
     ]
    },
    {
     "name": "stdout",
     "output_type": "stream",
     "text": [
      "GFEE\n"
     ]
    },
    {
     "name": "stderr",
     "output_type": "stream",
     "text": [
      "\n",
      "  0%|          | 0/1 [00:00<?, ?it/s]\u001b[A"
     ]
    },
    {
     "name": "stdout",
     "output_type": "stream",
     "text": [
      "C10-0000224-LIC\n"
     ]
    },
    {
     "name": "stderr",
     "output_type": "stream",
     "text": [
      "\n",
      "100%|██████████| 1/1 [00:01<00:00,  1.58s/it]\u001b[A\n",
      " 49%|████▉     | 40/82 [01:32<01:37,  2.33s/it]"
     ]
    },
    {
     "name": "stdout",
     "output_type": "stream",
     "text": [
      "GFWF\n"
     ]
    },
    {
     "name": "stderr",
     "output_type": "stream",
     "text": [
      "\n",
      "  0%|          | 0/1 [00:00<?, ?it/s]\u001b[A"
     ]
    },
    {
     "name": "stdout",
     "output_type": "stream",
     "text": [
      "C10-0000117-LIC\n"
     ]
    },
    {
     "name": "stderr",
     "output_type": "stream",
     "text": [
      "\n",
      "100%|██████████| 1/1 [00:01<00:00,  1.64s/it]\u001b[A\n",
      " 50%|█████     | 41/82 [01:34<01:27,  2.12s/it]"
     ]
    },
    {
     "name": "stdout",
     "output_type": "stream",
     "text": [
      "HB\n"
     ]
    },
    {
     "name": "stderr",
     "output_type": "stream",
     "text": [
      "\n",
      "  0%|          | 0/3 [00:00<?, ?it/s]\u001b[A"
     ]
    },
    {
     "name": "stdout",
     "output_type": "stream",
     "text": [
      "C10-0000624-LIC\n"
     ]
    },
    {
     "name": "stderr",
     "output_type": "stream",
     "text": [
      "\n",
      " 33%|███▎      | 1/3 [00:01<00:03,  1.67s/it]\u001b[A"
     ]
    },
    {
     "name": "stdout",
     "output_type": "stream",
     "text": [
      "C10-0000301-LIC\n"
     ]
    },
    {
     "name": "stderr",
     "output_type": "stream",
     "text": [
      "\n",
      " 67%|██████▋   | 2/3 [00:02<00:01,  1.27s/it]\u001b[A"
     ]
    },
    {
     "name": "stdout",
     "output_type": "stream",
     "text": [
      "C10-0000339-LIC\n"
     ]
    },
    {
     "name": "stderr",
     "output_type": "stream",
     "text": [
      "\n",
      "100%|██████████| 3/3 [00:04<00:00,  1.44s/it]\u001b[A\n",
      " 51%|█████     | 42/82 [01:38<01:51,  2.78s/it]"
     ]
    },
    {
     "name": "stdout",
     "output_type": "stream",
     "text": [
      "HS\n"
     ]
    },
    {
     "name": "stderr",
     "output_type": "stream",
     "text": [
      "\n",
      "  0%|          | 0/1 [00:00<?, ?it/s]\u001b[A"
     ]
    },
    {
     "name": "stdout",
     "output_type": "stream",
     "text": [
      "C9-0000441-LIC\n"
     ]
    },
    {
     "name": "stderr",
     "output_type": "stream",
     "text": [
      "\n",
      "100%|██████████| 1/1 [00:01<00:00,  1.05s/it]\u001b[A\n",
      " 52%|█████▏    | 43/82 [01:39<01:28,  2.26s/it]"
     ]
    },
    {
     "name": "stdout",
     "output_type": "stream",
     "text": [
      "HPCC\n"
     ]
    },
    {
     "name": "stderr",
     "output_type": "stream",
     "text": [
      "\n",
      "  0%|          | 0/2 [00:00<?, ?it/s]\u001b[A"
     ]
    },
    {
     "name": "stdout",
     "output_type": "stream",
     "text": [
      "C10-0000064-LIC\n"
     ]
    },
    {
     "name": "stderr",
     "output_type": "stream",
     "text": [
      "\n",
      " 50%|█████     | 1/2 [00:01<00:01,  1.70s/it]\u001b[A"
     ]
    },
    {
     "name": "stdout",
     "output_type": "stream",
     "text": [
      "C10-0000005-LIC\n"
     ]
    },
    {
     "name": "stderr",
     "output_type": "stream",
     "text": [
      "\n",
      "100%|██████████| 2/2 [00:02<00:00,  1.38s/it]\u001b[A\n",
      " 54%|█████▎    | 44/82 [01:42<01:31,  2.41s/it]"
     ]
    },
    {
     "name": "stdout",
     "output_type": "stream",
     "text": [
      "HC\n"
     ]
    },
    {
     "name": "stderr",
     "output_type": "stream",
     "text": [
      "\n",
      "  0%|          | 0/1 [00:00<?, ?it/s]\u001b[A"
     ]
    },
    {
     "name": "stdout",
     "output_type": "stream",
     "text": [
      "C9-0000341-LIC\n"
     ]
    },
    {
     "name": "stderr",
     "output_type": "stream",
     "text": [
      "\n",
      "100%|██████████| 1/1 [00:01<00:00,  1.58s/it]\u001b[A\n",
      " 55%|█████▍    | 45/82 [01:43<01:19,  2.16s/it]"
     ]
    },
    {
     "name": "stdout",
     "output_type": "stream",
     "text": [
      "IDC\n"
     ]
    },
    {
     "name": "stderr",
     "output_type": "stream",
     "text": [
      "\n",
      "  0%|          | 0/1 [00:00<?, ?it/s]\u001b[A"
     ]
    },
    {
     "name": "stdout",
     "output_type": "stream",
     "text": [
      "C9-0000320-LIC\n"
     ]
    },
    {
     "name": "stderr",
     "output_type": "stream",
     "text": [
      "\n",
      "100%|██████████| 1/1 [00:01<00:00,  1.67s/it]\u001b[A\n",
      " 56%|█████▌    | 46/82 [01:45<01:12,  2.01s/it]"
     ]
    },
    {
     "name": "stdout",
     "output_type": "stream",
     "text": [
      "ID\n"
     ]
    },
    {
     "name": "stderr",
     "output_type": "stream",
     "text": [
      "\n",
      "  0%|          | 0/1 [00:00<?, ?it/s]\u001b[A"
     ]
    },
    {
     "name": "stdout",
     "output_type": "stream",
     "text": [
      "C9-0000166-LIC\n"
     ]
    },
    {
     "name": "stderr",
     "output_type": "stream",
     "text": [
      "\n",
      "100%|██████████| 1/1 [00:00<00:00,  1.00it/s]\u001b[A\n",
      " 57%|█████▋    | 47/82 [01:46<00:59,  1.71s/it]"
     ]
    },
    {
     "name": "stdout",
     "output_type": "stream",
     "text": [
      "KAR\n"
     ]
    },
    {
     "name": "stderr",
     "output_type": "stream",
     "text": [
      "\n",
      "  0%|          | 0/2 [00:00<?, ?it/s]\u001b[A"
     ]
    },
    {
     "name": "stdout",
     "output_type": "stream",
     "text": [
      "402-00693\n"
     ]
    },
    {
     "name": "stderr",
     "output_type": "stream",
     "text": [
      "\n",
      " 50%|█████     | 1/2 [00:01<00:01,  1.00s/it]\u001b[A"
     ]
    },
    {
     "name": "stdout",
     "output_type": "stream",
     "text": [
      "402R-00744\n"
     ]
    },
    {
     "name": "stderr",
     "output_type": "stream",
     "text": [
      "\n",
      "100%|██████████| 2/2 [00:02<00:00,  1.32s/it]\u001b[A\n",
      " 59%|█████▊    | 48/82 [01:49<01:07,  1.99s/it]"
     ]
    },
    {
     "name": "stdout",
     "output_type": "stream",
     "text": [
      "KC\n"
     ]
    },
    {
     "name": "stderr",
     "output_type": "stream",
     "text": [
      "\n",
      "  0%|          | 0/11 [00:00<?, ?it/s]\u001b[A"
     ]
    },
    {
     "name": "stdout",
     "output_type": "stream",
     "text": [
      "402-00323\n"
     ]
    },
    {
     "name": "stderr",
     "output_type": "stream",
     "text": [
      "\n",
      "  9%|▉         | 1/11 [00:01<00:10,  1.01s/it]\u001b[A"
     ]
    },
    {
     "name": "stdout",
     "output_type": "stream",
     "text": [
      "402-00573\n"
     ]
    },
    {
     "name": "stderr",
     "output_type": "stream",
     "text": [
      "\n",
      " 18%|█▊        | 2/11 [00:02<00:09,  1.04s/it]\u001b[A"
     ]
    },
    {
     "name": "stdout",
     "output_type": "stream",
     "text": [
      "402-00664\n"
     ]
    },
    {
     "name": "stderr",
     "output_type": "stream",
     "text": [
      "\n",
      " 27%|██▋       | 3/11 [00:02<00:07,  1.03it/s]\u001b[A"
     ]
    },
    {
     "name": "stdout",
     "output_type": "stream",
     "text": [
      "402R-00515\n"
     ]
    },
    {
     "name": "stderr",
     "output_type": "stream",
     "text": [
      "\n",
      " 36%|███▋      | 4/11 [00:03<00:06,  1.05it/s]\u001b[A"
     ]
    },
    {
     "name": "stdout",
     "output_type": "stream",
     "text": [
      "402R-00544\n"
     ]
    },
    {
     "name": "stderr",
     "output_type": "stream",
     "text": [
      "\n",
      " 45%|████▌     | 5/11 [00:04<00:05,  1.01it/s]\u001b[A"
     ]
    },
    {
     "name": "stdout",
     "output_type": "stream",
     "text": [
      "402R-00900\n"
     ]
    },
    {
     "name": "stderr",
     "output_type": "stream",
     "text": [
      "\n",
      " 55%|█████▍    | 6/11 [00:05<00:04,  1.01it/s]\u001b[A"
     ]
    },
    {
     "name": "stdout",
     "output_type": "stream",
     "text": [
      "402R-00002\n"
     ]
    },
    {
     "name": "stderr",
     "output_type": "stream",
     "text": [
      "\n",
      " 64%|██████▎   | 7/11 [00:06<00:03,  1.01it/s]\u001b[A"
     ]
    },
    {
     "name": "stdout",
     "output_type": "stream",
     "text": [
      "402-01146\n"
     ]
    },
    {
     "name": "stderr",
     "output_type": "stream",
     "text": [
      "\n",
      " 73%|███████▎  | 8/11 [00:07<00:02,  1.01it/s]\u001b[A"
     ]
    },
    {
     "name": "stdout",
     "output_type": "stream",
     "text": [
      "402-00037\n"
     ]
    },
    {
     "name": "stderr",
     "output_type": "stream",
     "text": [
      "\n",
      " 82%|████████▏ | 9/11 [00:08<00:01,  1.01it/s]\u001b[A"
     ]
    },
    {
     "name": "stdout",
     "output_type": "stream",
     "text": [
      "402R-00035\n"
     ]
    },
    {
     "name": "stderr",
     "output_type": "stream",
     "text": [
      "\n",
      " 91%|█████████ | 10/11 [00:09<00:00,  1.01it/s]\u001b[A"
     ]
    },
    {
     "name": "stdout",
     "output_type": "stream",
     "text": [
      "402R-00574\n"
     ]
    },
    {
     "name": "stderr",
     "output_type": "stream",
     "text": [
      "\n",
      "100%|██████████| 11/11 [00:10<00:00,  1.02it/s]\u001b[A\n",
      " 60%|█████▉    | 49/82 [01:59<02:33,  4.64s/it]"
     ]
    },
    {
     "name": "stdout",
     "output_type": "stream",
     "text": [
      "LEG\n"
     ]
    },
    {
     "name": "stderr",
     "output_type": "stream",
     "text": [
      "\n",
      "  0%|          | 0/4 [00:00<?, ?it/s]\u001b[A"
     ]
    },
    {
     "name": "stdout",
     "output_type": "stream",
     "text": [
      "PC-000231\n"
     ]
    },
    {
     "name": "stderr",
     "output_type": "stream",
     "text": [
      "\n",
      " 25%|██▌       | 1/4 [00:01<00:04,  1.56s/it]\u001b[A"
     ]
    },
    {
     "name": "stdout",
     "output_type": "stream",
     "text": [
      "PC-000335\n"
     ]
    },
    {
     "name": "stderr",
     "output_type": "stream",
     "text": [
      "\n",
      " 50%|█████     | 2/4 [00:02<00:02,  1.19s/it]\u001b[A"
     ]
    },
    {
     "name": "stdout",
     "output_type": "stream",
     "text": [
      "AU-R-000260\n"
     ]
    },
    {
     "name": "stderr",
     "output_type": "stream",
     "text": [
      "\n",
      " 75%|███████▌  | 3/4 [00:04<00:01,  1.41s/it]\u001b[A"
     ]
    },
    {
     "name": "stdout",
     "output_type": "stream",
     "text": [
      "AU-R-000261\n"
     ]
    },
    {
     "name": "stderr",
     "output_type": "stream",
     "text": [
      "\n",
      "100%|██████████| 4/4 [00:06<00:00,  1.52s/it]\u001b[A\n",
      " 61%|██████    | 50/82 [02:05<02:42,  5.08s/it]"
     ]
    },
    {
     "name": "stdout",
     "output_type": "stream",
     "text": [
      "LBC\n"
     ]
    },
    {
     "name": "stderr",
     "output_type": "stream",
     "text": [
      "\n",
      "  0%|          | 0/1 [00:00<?, ?it/s]\u001b[A"
     ]
    },
    {
     "name": "stdout",
     "output_type": "stream",
     "text": [
      "C9-0000154-LIC\n"
     ]
    },
    {
     "name": "stderr",
     "output_type": "stream",
     "text": [
      "\n",
      "100%|██████████| 1/1 [00:01<00:00,  1.00s/it]\u001b[A\n",
      " 62%|██████▏   | 51/82 [02:06<01:59,  3.85s/it]"
     ]
    },
    {
     "name": "stdout",
     "output_type": "stream",
     "text": [
      "MSS\n"
     ]
    },
    {
     "name": "stderr",
     "output_type": "stream",
     "text": [
      "\n",
      "  0%|          | 0/1 [00:00<?, ?it/s]\u001b[A"
     ]
    },
    {
     "name": "stdout",
     "output_type": "stream",
     "text": [
      "C10-0000816-LIC\n"
     ]
    },
    {
     "name": "stderr",
     "output_type": "stream",
     "text": [
      "\n",
      "100%|██████████| 1/1 [00:01<00:00,  1.62s/it]\u001b[A\n",
      " 63%|██████▎   | 52/82 [02:08<01:35,  3.18s/it]"
     ]
    },
    {
     "name": "stdout",
     "output_type": "stream",
     "text": [
      "ML\n"
     ]
    },
    {
     "name": "stderr",
     "output_type": "stream",
     "text": [
      "\n",
      "  0%|          | 0/1 [00:00<?, ?it/s]\u001b[A"
     ]
    },
    {
     "name": "stdout",
     "output_type": "stream",
     "text": [
      "C9-0000300-LIC\n"
     ]
    },
    {
     "name": "stderr",
     "output_type": "stream",
     "text": [
      "\n",
      "100%|██████████| 1/1 [00:01<00:00,  1.53s/it]\u001b[A\n",
      " 65%|██████▍   | 53/82 [02:10<01:17,  2.69s/it]"
     ]
    },
    {
     "name": "stdout",
     "output_type": "stream",
     "text": [
      "MW\n"
     ]
    },
    {
     "name": "stderr",
     "output_type": "stream",
     "text": [
      "\n",
      "  0%|          | 0/1 [00:00<?, ?it/s]\u001b[A"
     ]
    },
    {
     "name": "stdout",
     "output_type": "stream",
     "text": [
      "C10-0000332-LIC\n"
     ]
    },
    {
     "name": "stderr",
     "output_type": "stream",
     "text": [
      "\n",
      "100%|██████████| 1/1 [00:01<00:00,  1.71s/it]\u001b[A\n",
      " 66%|██████▌   | 54/82 [02:11<01:07,  2.40s/it]"
     ]
    },
    {
     "name": "stdout",
     "output_type": "stream",
     "text": [
      "MPW\n"
     ]
    },
    {
     "name": "stderr",
     "output_type": "stream",
     "text": [
      "\n",
      "  0%|          | 0/1 [00:00<?, ?it/s]\u001b[A"
     ]
    },
    {
     "name": "stdout",
     "output_type": "stream",
     "text": [
      "C10-0000547-LIC\n"
     ]
    },
    {
     "name": "stderr",
     "output_type": "stream",
     "text": [
      "\n",
      "100%|██████████| 1/1 [00:02<00:00,  2.63s/it]\u001b[A\n",
      " 67%|██████▋   | 55/82 [02:14<01:06,  2.47s/it]"
     ]
    },
    {
     "name": "stdout",
     "output_type": "stream",
     "text": [
      "MD\n"
     ]
    },
    {
     "name": "stderr",
     "output_type": "stream",
     "text": [
      "\n",
      "  0%|          | 0/1 [00:00<?, ?it/s]\u001b[A"
     ]
    },
    {
     "name": "stdout",
     "output_type": "stream",
     "text": [
      "C9-0000247-LIC\n"
     ]
    },
    {
     "name": "stderr",
     "output_type": "stream",
     "text": [
      "\n",
      "100%|██████████| 1/1 [00:01<00:00,  1.57s/it]\u001b[A\n",
      " 68%|██████▊   | 56/82 [02:16<00:57,  2.20s/it]"
     ]
    },
    {
     "name": "stdout",
     "output_type": "stream",
     "text": [
      "ND\n"
     ]
    },
    {
     "name": "stderr",
     "output_type": "stream",
     "text": [
      "\n",
      "  0%|          | 0/1 [00:00<?, ?it/s]\u001b[A"
     ]
    },
    {
     "name": "stdout",
     "output_type": "stream",
     "text": [
      "C9-0000427-LIC\n"
     ]
    },
    {
     "name": "stderr",
     "output_type": "stream",
     "text": [
      "\n",
      "100%|██████████| 1/1 [00:01<00:00,  1.05s/it]\u001b[A\n",
      " 70%|██████▉   | 57/82 [02:17<00:46,  1.86s/it]"
     ]
    },
    {
     "name": "stdout",
     "output_type": "stream",
     "text": [
      "NECC\n"
     ]
    },
    {
     "name": "stderr",
     "output_type": "stream",
     "text": [
      "\n",
      "  0%|          | 0/1 [00:00<?, ?it/s]\u001b[A"
     ]
    },
    {
     "name": "stdout",
     "output_type": "stream",
     "text": [
      "MR283416\n"
     ]
    },
    {
     "name": "stderr",
     "output_type": "stream",
     "text": [
      "\n",
      "100%|██████████| 1/1 [00:00<00:00,  1.01it/s]\u001b[A\n",
      " 71%|███████   | 58/82 [02:18<00:38,  1.60s/it]"
     ]
    },
    {
     "name": "stdout",
     "output_type": "stream",
     "text": [
      "PGM\n"
     ]
    },
    {
     "name": "stderr",
     "output_type": "stream",
     "text": [
      "\n",
      "  0%|          | 0/11 [00:00<?, ?it/s]\u001b[A"
     ]
    },
    {
     "name": "stdout",
     "output_type": "stream",
     "text": [
      "PC-000415\n"
     ]
    },
    {
     "name": "stderr",
     "output_type": "stream",
     "text": [
      "\n",
      "  9%|▉         | 1/11 [00:00<00:09,  1.01it/s]\u001b[A"
     ]
    },
    {
     "name": "stdout",
     "output_type": "stream",
     "text": [
      "PC-000551\n"
     ]
    },
    {
     "name": "stderr",
     "output_type": "stream",
     "text": [
      "\n",
      " 18%|█▊        | 2/11 [00:01<00:08,  1.07it/s]\u001b[A"
     ]
    },
    {
     "name": "stdout",
     "output_type": "stream",
     "text": [
      "PC-000725\n"
     ]
    },
    {
     "name": "stderr",
     "output_type": "stream",
     "text": [
      "\n",
      " 27%|██▋       | 3/11 [00:02<00:07,  1.07it/s]\u001b[A"
     ]
    },
    {
     "name": "stdout",
     "output_type": "stream",
     "text": [
      "PC-000167\n"
     ]
    },
    {
     "name": "stderr",
     "output_type": "stream",
     "text": [
      "\n",
      " 36%|███▋      | 4/11 [00:03<00:06,  1.03it/s]\u001b[A"
     ]
    },
    {
     "name": "stdout",
     "output_type": "stream",
     "text": [
      "PC-000169\n"
     ]
    },
    {
     "name": "stderr",
     "output_type": "stream",
     "text": [
      "\n",
      " 45%|████▌     | 5/11 [00:04<00:05,  1.14it/s]\u001b[A"
     ]
    },
    {
     "name": "stdout",
     "output_type": "stream",
     "text": [
      "AU-R-000196\n"
     ]
    },
    {
     "name": "stderr",
     "output_type": "stream",
     "text": [
      "\n",
      " 55%|█████▍    | 6/11 [00:06<00:06,  1.29s/it]\u001b[A"
     ]
    },
    {
     "name": "stdout",
     "output_type": "stream",
     "text": [
      "AU-R-000197\n"
     ]
    },
    {
     "name": "stderr",
     "output_type": "stream",
     "text": [
      "\n",
      " 64%|██████▎   | 7/11 [00:08<00:05,  1.38s/it]\u001b[A"
     ]
    },
    {
     "name": "stdout",
     "output_type": "stream",
     "text": [
      "AU-R-000198\n"
     ]
    },
    {
     "name": "stderr",
     "output_type": "stream",
     "text": [
      "\n",
      " 73%|███████▎  | 8/11 [00:09<00:04,  1.43s/it]\u001b[A"
     ]
    },
    {
     "name": "stdout",
     "output_type": "stream",
     "text": [
      "AU-R-000366\n"
     ]
    },
    {
     "name": "stderr",
     "output_type": "stream",
     "text": [
      "\n",
      " 82%|████████▏ | 9/11 [00:10<00:02,  1.29s/it]\u001b[A"
     ]
    },
    {
     "name": "stdout",
     "output_type": "stream",
     "text": [
      "AU-R-000506\n"
     ]
    },
    {
     "name": "stderr",
     "output_type": "stream",
     "text": [
      "\n",
      " 91%|█████████ | 10/11 [00:12<00:01,  1.40s/it]\u001b[A"
     ]
    },
    {
     "name": "stdout",
     "output_type": "stream",
     "text": [
      "PC-000160\n"
     ]
    },
    {
     "name": "stderr",
     "output_type": "stream",
     "text": [
      "\n",
      "100%|██████████| 11/11 [00:13<00:00,  1.21s/it]\u001b[A\n",
      " 72%|███████▏  | 59/82 [02:31<01:57,  5.11s/it]"
     ]
    },
    {
     "name": "stdout",
     "output_type": "stream",
     "text": [
      "PRP\n"
     ]
    },
    {
     "name": "stderr",
     "output_type": "stream",
     "text": [
      "\n",
      "  0%|          | 0/3 [00:00<?, ?it/s]\u001b[A"
     ]
    },
    {
     "name": "stdout",
     "output_type": "stream",
     "text": [
      "C10-0000155-LIC\n"
     ]
    },
    {
     "name": "stderr",
     "output_type": "stream",
     "text": [
      "\n",
      " 33%|███▎      | 1/3 [00:01<00:03,  1.58s/it]\u001b[A"
     ]
    },
    {
     "name": "stdout",
     "output_type": "stream",
     "text": [
      "C10-0000286-LIC\n"
     ]
    },
    {
     "name": "stderr",
     "output_type": "stream",
     "text": [
      "\n",
      " 67%|██████▋   | 2/3 [00:03<00:01,  1.63s/it]\u001b[A"
     ]
    },
    {
     "name": "stdout",
     "output_type": "stream",
     "text": [
      "C10-0000403-LIC\n"
     ]
    },
    {
     "name": "stderr",
     "output_type": "stream",
     "text": [
      "\n",
      "100%|██████████| 3/3 [00:04<00:00,  1.59s/it]\u001b[A\n",
      " 73%|███████▎  | 60/82 [02:36<01:50,  5.01s/it]"
     ]
    },
    {
     "name": "stdout",
     "output_type": "stream",
     "text": [
      "PRL\n"
     ]
    },
    {
     "name": "stderr",
     "output_type": "stream",
     "text": [
      "\n",
      "  0%|          | 0/1 [00:00<?, ?it/s]\u001b[A"
     ]
    },
    {
     "name": "stdout",
     "output_type": "stream",
     "text": [
      "C10-0000759-LIC\n"
     ]
    },
    {
     "name": "stderr",
     "output_type": "stream",
     "text": [
      "\n",
      "100%|██████████| 1/1 [00:01<00:00,  1.00s/it]\u001b[A\n",
      " 74%|███████▍  | 61/82 [02:37<01:20,  3.81s/it]"
     ]
    },
    {
     "name": "stdout",
     "output_type": "stream",
     "text": [
      "QR\n"
     ]
    },
    {
     "name": "stderr",
     "output_type": "stream",
     "text": [
      "\n",
      "  0%|          | 0/4 [00:00<?, ?it/s]\u001b[A"
     ]
    },
    {
     "name": "stdout",
     "output_type": "stream",
     "text": [
      "AU-R-000233\n"
     ]
    },
    {
     "name": "stderr",
     "output_type": "stream",
     "text": [
      "\n",
      " 25%|██▌       | 1/4 [00:00<00:02,  1.01it/s]\u001b[A"
     ]
    },
    {
     "name": "stdout",
     "output_type": "stream",
     "text": [
      "AU-R-000346\n"
     ]
    },
    {
     "name": "stderr",
     "output_type": "stream",
     "text": [
      "\n",
      " 50%|█████     | 2/4 [00:02<00:02,  1.30s/it]\u001b[A"
     ]
    },
    {
     "name": "stdout",
     "output_type": "stream",
     "text": [
      "PC-000356\n"
     ]
    },
    {
     "name": "stderr",
     "output_type": "stream",
     "text": [
      "\n",
      " 75%|███████▌  | 3/4 [00:03<00:01,  1.03s/it]\u001b[A"
     ]
    },
    {
     "name": "stdout",
     "output_type": "stream",
     "text": [
      "AU-R-000633\n"
     ]
    },
    {
     "name": "stderr",
     "output_type": "stream",
     "text": [
      "\n",
      "100%|██████████| 4/4 [00:04<00:00,  1.19s/it]\u001b[A\n",
      " 76%|███████▌  | 62/82 [02:41<01:21,  4.10s/it]"
     ]
    },
    {
     "name": "stdout",
     "output_type": "stream",
     "text": [
      "MC\n"
     ]
    },
    {
     "name": "stderr",
     "output_type": "stream",
     "text": [
      "\n",
      "  0%|          | 0/1 [00:00<?, ?it/s]\u001b[A"
     ]
    },
    {
     "name": "stdout",
     "output_type": "stream",
     "text": [
      "050-10111574ADA\n"
     ]
    },
    {
     "name": "stderr",
     "output_type": "stream",
     "text": [
      "\n",
      "100%|██████████| 1/1 [00:00<00:00,  1.05it/s]\u001b[A\n",
      " 77%|███████▋  | 63/82 [02:42<00:59,  3.15s/it]"
     ]
    },
    {
     "name": "stdout",
     "output_type": "stream",
     "text": [
      "RA\n"
     ]
    },
    {
     "name": "stderr",
     "output_type": "stream",
     "text": [
      "\n",
      "  0%|          | 0/1 [00:00<?, ?it/s]\u001b[A"
     ]
    },
    {
     "name": "stdout",
     "output_type": "stream",
     "text": [
      "C10-0000596-LIC\n"
     ]
    },
    {
     "name": "stderr",
     "output_type": "stream",
     "text": [
      "\n",
      "100%|██████████| 1/1 [00:01<00:00,  1.79s/it]\u001b[A\n",
      " 78%|███████▊  | 64/82 [02:44<00:49,  2.75s/it]"
     ]
    },
    {
     "name": "stdout",
     "output_type": "stream",
     "text": [
      "RGD\n"
     ]
    },
    {
     "name": "stderr",
     "output_type": "stream",
     "text": [
      "\n",
      "  0%|          | 0/1 [00:00<?, ?it/s]\u001b[A"
     ]
    },
    {
     "name": "stdout",
     "output_type": "stream",
     "text": [
      "C9-0000057-LIC\n"
     ]
    },
    {
     "name": "stderr",
     "output_type": "stream",
     "text": [
      "\n",
      "100%|██████████| 1/1 [00:01<00:00,  1.62s/it]\u001b[A\n",
      " 79%|███████▉  | 65/82 [02:46<00:40,  2.41s/it]"
     ]
    },
    {
     "name": "stdout",
     "output_type": "stream",
     "text": [
      "SGF\n"
     ]
    },
    {
     "name": "stderr",
     "output_type": "stream",
     "text": [
      "\n",
      "  0%|          | 0/1 [00:00<?, ?it/s]\u001b[A"
     ]
    },
    {
     "name": "stdout",
     "output_type": "stream",
     "text": [
      "C9-0000454-LIC\n"
     ]
    },
    {
     "name": "stderr",
     "output_type": "stream",
     "text": [
      "\n",
      "100%|██████████| 1/1 [00:00<00:00,  1.03it/s]\u001b[A\n",
      " 80%|████████  | 66/82 [02:47<00:31,  1.98s/it]"
     ]
    },
    {
     "name": "stdout",
     "output_type": "stream",
     "text": [
      "SFV\n"
     ]
    },
    {
     "name": "stderr",
     "output_type": "stream",
     "text": [
      "\n",
      "  0%|          | 0/1 [00:00<?, ?it/s]\u001b[A"
     ]
    },
    {
     "name": "stdout",
     "output_type": "stream",
     "text": [
      "C10-0000041-LIC\n"
     ]
    },
    {
     "name": "stderr",
     "output_type": "stream",
     "text": [
      "\n",
      "100%|██████████| 1/1 [00:01<00:00,  1.74s/it]\u001b[A\n",
      " 82%|████████▏ | 67/82 [02:49<00:28,  1.91s/it]"
     ]
    },
    {
     "name": "stdout",
     "output_type": "stream",
     "text": [
      "SV\n"
     ]
    },
    {
     "name": "stderr",
     "output_type": "stream",
     "text": [
      "\n",
      "  0%|          | 0/1 [00:00<?, ?it/s]\u001b[A"
     ]
    },
    {
     "name": "stdout",
     "output_type": "stream",
     "text": [
      "C9-0000146-LIC\n"
     ]
    },
    {
     "name": "stderr",
     "output_type": "stream",
     "text": [
      "\n",
      "100%|██████████| 1/1 [00:01<00:00,  1.71s/it]\u001b[A\n",
      " 83%|████████▎ | 68/82 [02:50<00:25,  1.85s/it]"
     ]
    },
    {
     "name": "stdout",
     "output_type": "stream",
     "text": [
      "SLCC\n"
     ]
    },
    {
     "name": "stderr",
     "output_type": "stream",
     "text": [
      "\n",
      "  0%|          | 0/1 [00:00<?, ?it/s]\u001b[A"
     ]
    },
    {
     "name": "stdout",
     "output_type": "stream",
     "text": [
      "C10-0000474-LIC\n"
     ]
    },
    {
     "name": "stderr",
     "output_type": "stream",
     "text": [
      "\n",
      "100%|██████████| 1/1 [00:01<00:00,  1.00s/it]\u001b[A\n",
      " 84%|████████▍ | 69/82 [02:51<00:20,  1.60s/it]"
     ]
    },
    {
     "name": "stdout",
     "output_type": "stream",
     "text": [
      "SO\n"
     ]
    },
    {
     "name": "stderr",
     "output_type": "stream",
     "text": [
      "\n",
      "  0%|          | 0/3 [00:00<?, ?it/s]\u001b[A"
     ]
    },
    {
     "name": "stdout",
     "output_type": "stream",
     "text": [
      "C12-0000328-LIC\n"
     ]
    },
    {
     "name": "stderr",
     "output_type": "stream",
     "text": [
      "\n",
      " 33%|███▎      | 1/3 [00:00<00:01,  1.07it/s]\u001b[A"
     ]
    },
    {
     "name": "stdout",
     "output_type": "stream",
     "text": [
      "C9-0000130-LIC\n"
     ]
    },
    {
     "name": "stderr",
     "output_type": "stream",
     "text": [
      "\n",
      " 67%|██████▋   | 2/3 [00:01<00:00,  1.04it/s]\u001b[A"
     ]
    },
    {
     "name": "stdout",
     "output_type": "stream",
     "text": [
      "C10-0000271-LIC\n"
     ]
    },
    {
     "name": "stderr",
     "output_type": "stream",
     "text": [
      "\n",
      "100%|██████████| 3/3 [00:02<00:00,  1.02it/s]\u001b[A\n",
      " 85%|████████▌ | 70/82 [02:54<00:24,  2.00s/it]"
     ]
    },
    {
     "name": "stdout",
     "output_type": "stream",
     "text": [
      "ST\n"
     ]
    },
    {
     "name": "stderr",
     "output_type": "stream",
     "text": [
      "\n",
      "  0%|          | 0/1 [00:00<?, ?it/s]\u001b[A"
     ]
    },
    {
     "name": "stdout",
     "output_type": "stream",
     "text": [
      "C9-0000323-LIC\n"
     ]
    },
    {
     "name": "stderr",
     "output_type": "stream",
     "text": [
      "\n",
      "100%|██████████| 1/1 [00:01<00:00,  1.12s/it]\u001b[A\n",
      " 87%|████████▋ | 71/82 [02:55<00:19,  1.74s/it]"
     ]
    },
    {
     "name": "stdout",
     "output_type": "stream",
     "text": [
      "DW\n"
     ]
    },
    {
     "name": "stderr",
     "output_type": "stream",
     "text": [
      "\n",
      "  0%|          | 0/1 [00:00<?, ?it/s]\u001b[A"
     ]
    },
    {
     "name": "stdout",
     "output_type": "stream",
     "text": [
      "MR282376\n"
     ]
    },
    {
     "name": "stderr",
     "output_type": "stream",
     "text": [
      "\n",
      "100%|██████████| 1/1 [00:01<00:00,  1.04s/it]\u001b[A\n",
      " 88%|████████▊ | 72/82 [02:56<00:15,  1.53s/it]"
     ]
    },
    {
     "name": "stdout",
     "output_type": "stream",
     "text": [
      "FD\n"
     ]
    },
    {
     "name": "stderr",
     "output_type": "stream",
     "text": [
      "\n",
      "  0%|          | 0/1 [00:00<?, ?it/s]\u001b[A"
     ]
    },
    {
     "name": "stdout",
     "output_type": "stream",
     "text": [
      "C10-0000916-LIC\n"
     ]
    },
    {
     "name": "stderr",
     "output_type": "stream",
     "text": [
      "\n",
      "100%|██████████| 1/1 [00:01<00:00,  1.69s/it]\u001b[A\n",
      " 89%|████████▉ | 73/82 [02:58<00:14,  1.58s/it]"
     ]
    },
    {
     "name": "stdout",
     "output_type": "stream",
     "text": [
      "TGL\n"
     ]
    },
    {
     "name": "stderr",
     "output_type": "stream",
     "text": [
      "\n",
      "  0%|          | 0/1 [00:00<?, ?it/s]\u001b[A"
     ]
    },
    {
     "name": "stdout",
     "output_type": "stream",
     "text": [
      "C9-0000412-LIC\n"
     ]
    },
    {
     "name": "stderr",
     "output_type": "stream",
     "text": [
      "\n",
      "100%|██████████| 1/1 [00:01<00:00,  1.02s/it]\u001b[A\n",
      " 90%|█████████ | 74/82 [02:59<00:11,  1.41s/it]"
     ]
    },
    {
     "name": "stdout",
     "output_type": "stream",
     "text": [
      "TJR\n"
     ]
    },
    {
     "name": "stderr",
     "output_type": "stream",
     "text": [
      "\n",
      "  0%|          | 0/1 [00:00<?, ?it/s]\u001b[A"
     ]
    },
    {
     "name": "stdout",
     "output_type": "stream",
     "text": [
      "C9-0000105-LIC\n"
     ]
    },
    {
     "name": "stderr",
     "output_type": "stream",
     "text": [
      "\n",
      "100%|██████████| 1/1 [00:03<00:00,  3.46s/it]\u001b[A\n",
      " 91%|█████████▏| 75/82 [03:03<00:14,  2.03s/it]"
     ]
    },
    {
     "name": "stdout",
     "output_type": "stream",
     "text": [
      "TTS\n"
     ]
    },
    {
     "name": "stderr",
     "output_type": "stream",
     "text": [
      "\n",
      "  0%|          | 0/2 [00:00<?, ?it/s]\u001b[A"
     ]
    },
    {
     "name": "stdout",
     "output_type": "stream",
     "text": [
      "PC-000718\n"
     ]
    },
    {
     "name": "stderr",
     "output_type": "stream",
     "text": [
      "\n",
      " 50%|█████     | 1/2 [00:00<00:00,  1.20it/s]\u001b[A"
     ]
    },
    {
     "name": "stdout",
     "output_type": "stream",
     "text": [
      "AU-R-000546\n"
     ]
    },
    {
     "name": "stderr",
     "output_type": "stream",
     "text": [
      "\n",
      "100%|██████████| 2/2 [00:01<00:00,  1.09it/s]\u001b[A\n",
      " 93%|█████████▎| 76/82 [03:04<00:11,  1.97s/it]"
     ]
    },
    {
     "name": "stdout",
     "output_type": "stream",
     "text": [
      "TT\n"
     ]
    },
    {
     "name": "stderr",
     "output_type": "stream",
     "text": [
      "\n",
      "  0%|          | 0/2 [00:00<?, ?it/s]\u001b[A"
     ]
    },
    {
     "name": "stdout",
     "output_type": "stream",
     "text": [
      "C9-0000551-LIC\n"
     ]
    },
    {
     "name": "stderr",
     "output_type": "stream",
     "text": [
      "\n",
      " 50%|█████     | 1/2 [00:01<00:01,  1.02s/it]\u001b[A"
     ]
    },
    {
     "name": "stdout",
     "output_type": "stream",
     "text": [
      "C9-0000451-LIC\n"
     ]
    },
    {
     "name": "stderr",
     "output_type": "stream",
     "text": [
      "\n",
      "100%|██████████| 2/2 [00:01<00:00,  1.01it/s]\u001b[A\n",
      " 94%|█████████▍| 77/82 [03:06<00:09,  1.97s/it]"
     ]
    },
    {
     "name": "stdout",
     "output_type": "stream",
     "text": [
      "T4L\n"
     ]
    },
    {
     "name": "stderr",
     "output_type": "stream",
     "text": [
      "\n",
      "  0%|          | 0/1 [00:00<?, ?it/s]\u001b[A"
     ]
    },
    {
     "name": "stdout",
     "output_type": "stream",
     "text": [
      "C12-0000302-LIC\n"
     ]
    },
    {
     "name": "stderr",
     "output_type": "stream",
     "text": [
      "\n",
      "100%|██████████| 1/1 [00:01<00:00,  1.57s/it]\u001b[A\n",
      " 95%|█████████▌| 78/82 [03:08<00:07,  1.85s/it]"
     ]
    },
    {
     "name": "stdout",
     "output_type": "stream",
     "text": [
      "TL\n"
     ]
    },
    {
     "name": "stderr",
     "output_type": "stream",
     "text": [
      "\n",
      "  0%|          | 0/19 [00:00<?, ?it/s]\u001b[A"
     ]
    },
    {
     "name": "stdout",
     "output_type": "stream",
     "text": [
      "402-00390\n"
     ]
    },
    {
     "name": "stderr",
     "output_type": "stream",
     "text": [
      "\n",
      "  5%|▌         | 1/19 [00:00<00:17,  1.02it/s]\u001b[A"
     ]
    },
    {
     "name": "stdout",
     "output_type": "stream",
     "text": [
      "402R-00807\n"
     ]
    },
    {
     "name": "stderr",
     "output_type": "stream",
     "text": [
      "\n",
      " 11%|█         | 2/19 [00:01<00:16,  1.00it/s]\u001b[A"
     ]
    },
    {
     "name": "stdout",
     "output_type": "stream",
     "text": [
      "402-00473\n"
     ]
    },
    {
     "name": "stderr",
     "output_type": "stream",
     "text": [
      "\n",
      " 16%|█▌        | 3/19 [00:02<00:16,  1.00s/it]\u001b[A"
     ]
    },
    {
     "name": "stdout",
     "output_type": "stream",
     "text": [
      "402-01201\n"
     ]
    },
    {
     "name": "stderr",
     "output_type": "stream",
     "text": [
      "\n",
      " 21%|██        | 4/19 [00:04<00:15,  1.01s/it]\u001b[A"
     ]
    },
    {
     "name": "stdout",
     "output_type": "stream",
     "text": [
      "402R-00066\n"
     ]
    },
    {
     "name": "stderr",
     "output_type": "stream",
     "text": [
      "\n",
      " 26%|██▋       | 5/19 [00:05<00:14,  1.02s/it]\u001b[A"
     ]
    },
    {
     "name": "stdout",
     "output_type": "stream",
     "text": [
      "402R-00487\n"
     ]
    },
    {
     "name": "stderr",
     "output_type": "stream",
     "text": [
      "\n",
      " 32%|███▏      | 6/19 [00:05<00:11,  1.09it/s]\u001b[A"
     ]
    },
    {
     "name": "stdout",
     "output_type": "stream",
     "text": [
      "402R-00505\n"
     ]
    },
    {
     "name": "stderr",
     "output_type": "stream",
     "text": [
      "\n",
      " 37%|███▋      | 7/19 [00:06<00:10,  1.15it/s]\u001b[A"
     ]
    },
    {
     "name": "stdout",
     "output_type": "stream",
     "text": [
      "402R-00536\n"
     ]
    },
    {
     "name": "stderr",
     "output_type": "stream",
     "text": [
      "\n",
      " 42%|████▏     | 8/19 [00:07<00:10,  1.08it/s]\u001b[A"
     ]
    },
    {
     "name": "stdout",
     "output_type": "stream",
     "text": [
      "402R-00571\n"
     ]
    },
    {
     "name": "stderr",
     "output_type": "stream",
     "text": [
      "\n",
      " 47%|████▋     | 9/19 [00:08<00:08,  1.14it/s]\u001b[A"
     ]
    },
    {
     "name": "stdout",
     "output_type": "stream",
     "text": [
      "402R-00602\n"
     ]
    },
    {
     "name": "stderr",
     "output_type": "stream",
     "text": [
      "\n",
      " 53%|█████▎    | 10/19 [00:09<00:08,  1.08it/s]\u001b[A"
     ]
    },
    {
     "name": "stdout",
     "output_type": "stream",
     "text": [
      "402R-00808\n"
     ]
    },
    {
     "name": "stderr",
     "output_type": "stream",
     "text": [
      "\n",
      " 58%|█████▊    | 11/19 [00:10<00:07,  1.12it/s]\u001b[A"
     ]
    },
    {
     "name": "stdout",
     "output_type": "stream",
     "text": [
      "402-00370\n"
     ]
    },
    {
     "name": "stderr",
     "output_type": "stream",
     "text": [
      "\n",
      " 63%|██████▎   | 12/19 [00:11<00:06,  1.09it/s]\u001b[A"
     ]
    },
    {
     "name": "stdout",
     "output_type": "stream",
     "text": [
      "402-01142\n"
     ]
    },
    {
     "name": "stderr",
     "output_type": "stream",
     "text": [
      "\n",
      " 68%|██████▊   | 13/19 [00:12<00:05,  1.06it/s]\u001b[A"
     ]
    },
    {
     "name": "stdout",
     "output_type": "stream",
     "text": [
      "402R-00041\n"
     ]
    },
    {
     "name": "stderr",
     "output_type": "stream",
     "text": [
      "\n",
      " 74%|███████▎  | 14/19 [00:13<00:04,  1.07it/s]\u001b[A"
     ]
    },
    {
     "name": "stdout",
     "output_type": "stream",
     "text": [
      "402R-00242\n"
     ]
    },
    {
     "name": "stderr",
     "output_type": "stream",
     "text": [
      "\n",
      " 79%|███████▉  | 15/19 [00:13<00:03,  1.15it/s]\u001b[A"
     ]
    },
    {
     "name": "stdout",
     "output_type": "stream",
     "text": [
      "402R-00246\n"
     ]
    },
    {
     "name": "stderr",
     "output_type": "stream",
     "text": [
      "\n",
      " 84%|████████▍ | 16/19 [00:14<00:02,  1.20it/s]\u001b[A"
     ]
    },
    {
     "name": "stdout",
     "output_type": "stream",
     "text": [
      "402R-00362\n"
     ]
    },
    {
     "name": "stderr",
     "output_type": "stream",
     "text": [
      "\n",
      " 89%|████████▉ | 17/19 [00:15<00:01,  1.23it/s]\u001b[A"
     ]
    },
    {
     "name": "stdout",
     "output_type": "stream",
     "text": [
      "402R-00573\n"
     ]
    },
    {
     "name": "stderr",
     "output_type": "stream",
     "text": [
      "\n",
      " 95%|█████████▍| 18/19 [00:16<00:00,  1.16it/s]\u001b[A"
     ]
    },
    {
     "name": "stdout",
     "output_type": "stream",
     "text": [
      "402R-00781\n"
     ]
    },
    {
     "name": "stderr",
     "output_type": "stream",
     "text": [
      "\n",
      "100%|██████████| 19/19 [00:17<00:00,  1.09it/s]\u001b[A\n",
      " 96%|█████████▋| 79/82 [03:25<00:19,  6.53s/it]"
     ]
    },
    {
     "name": "stdout",
     "output_type": "stream",
     "text": [
      "UHHC\n"
     ]
    },
    {
     "name": "stderr",
     "output_type": "stream",
     "text": [
      "\n",
      "  0%|          | 0/2 [00:00<?, ?it/s]\u001b[A"
     ]
    },
    {
     "name": "stdout",
     "output_type": "stream",
     "text": [
      "C10-0000817-LIC\n"
     ]
    },
    {
     "name": "stderr",
     "output_type": "stream",
     "text": [
      "\n",
      " 50%|█████     | 1/2 [00:01<00:01,  1.72s/it]\u001b[A"
     ]
    },
    {
     "name": "stdout",
     "output_type": "stream",
     "text": [
      "C9-0000082-LIC\n"
     ]
    },
    {
     "name": "stderr",
     "output_type": "stream",
     "text": [
      "\n",
      "100%|██████████| 2/2 [00:03<00:00,  1.66s/it]\u001b[A\n",
      " 98%|█████████▊| 80/82 [03:29<00:11,  5.57s/it]"
     ]
    },
    {
     "name": "stdout",
     "output_type": "stream",
     "text": [
      "VS\n"
     ]
    },
    {
     "name": "stderr",
     "output_type": "stream",
     "text": [
      "\n",
      "  0%|          | 0/2 [00:00<?, ?it/s]\u001b[A"
     ]
    },
    {
     "name": "stdout",
     "output_type": "stream",
     "text": [
      "402-00840\n"
     ]
    },
    {
     "name": "stderr",
     "output_type": "stream",
     "text": [
      "\n",
      " 50%|█████     | 1/2 [00:00<00:00,  1.02it/s]\u001b[A"
     ]
    },
    {
     "name": "stdout",
     "output_type": "stream",
     "text": [
      "402R-00545\n"
     ]
    },
    {
     "name": "stderr",
     "output_type": "stream",
     "text": [
      "\n",
      "100%|██████████| 2/2 [00:02<00:00,  1.01s/it]\u001b[A\n",
      " 99%|█████████▉| 81/82 [03:31<00:04,  4.50s/it]"
     ]
    },
    {
     "name": "stdout",
     "output_type": "stream",
     "text": [
      "VOY\n"
     ]
    },
    {
     "name": "stderr",
     "output_type": "stream",
     "text": [
      "\n",
      "  0%|          | 0/3 [00:00<?, ?it/s]\u001b[A"
     ]
    },
    {
     "name": "stdout",
     "output_type": "stream",
     "text": [
      "C12-0000030-LIC\n"
     ]
    },
    {
     "name": "stderr",
     "output_type": "stream",
     "text": [
      "\n",
      " 33%|███▎      | 1/3 [00:01<00:03,  1.57s/it]\u001b[A"
     ]
    },
    {
     "name": "stdout",
     "output_type": "stream",
     "text": [
      "C10-0000802-LIC\n"
     ]
    },
    {
     "name": "stderr",
     "output_type": "stream",
     "text": [
      "\n",
      " 67%|██████▋   | 2/3 [00:03<00:01,  1.58s/it]\u001b[A"
     ]
    },
    {
     "name": "stdout",
     "output_type": "stream",
     "text": [
      "C12-0000159-LIC\n"
     ]
    },
    {
     "name": "stderr",
     "output_type": "stream",
     "text": [
      "\n",
      "100%|██████████| 3/3 [00:04<00:00,  1.40s/it]\u001b[A\n",
      "100%|██████████| 82/82 [03:35<00:00,  2.63s/it]\n"
     ]
    }
   ],
   "source": [
    "b = get_inv_list(list(ca_df_clean['company_identifier']),ca_df_clean)\n",
    "\n",
    "\n"
   ]
  },
  {
   "cell_type": "code",
   "execution_count": 14,
   "id": "ef8d0e85",
   "metadata": {},
   "outputs": [
    {
     "data": {
      "text/plain": [
       "dict_keys(['99HT', 'AGA', 'ALT', 'BS', 'BMC', 'BBF', 'BUD', 'BRC', 'BYN', 'CHO', 'CG', 'CPA', 'CPC', 'CSC', 'CSCC', 'CCC', 'CLC', 'CC', 'CED', 'DWF', 'DCO', 'DL', 'DGG', 'DG', 'EL', 'EMA', 'EMF', 'EMM', 'EMT', 'EPC', 'EH', 'FI', 'FW', 'GTC', 'GT', 'GLNR', 'GRG', 'GTR', 'GHC', 'GFEE', 'GFWF', 'HB', 'HS', 'HPCC', 'HC', 'IDC', 'ID', 'KAR', 'KC', 'LEG', 'LBC', 'MSS', 'ML', 'MW', 'MPW', 'MD', 'ND', 'NECC', 'PGM', 'PRP', 'PRL', 'QR', 'MC', 'RA', 'RGD', 'SGF', 'SFV', 'SV', 'SLCC', 'SO', 'ST', 'DW', 'FD', 'TGL', 'TJR', 'TTS', 'TT', 'T4L', 'TL', 'UHHC', 'VS', 'VOY'])"
      ]
     },
     "execution_count": 14,
     "metadata": {},
     "output_type": "execute_result"
    }
   ],
   "source": [
    "b.keys()"
   ]
  },
  {
   "cell_type": "code",
   "execution_count": null,
   "id": "f7b6061c",
   "metadata": {},
   "outputs": [],
   "source": [
    "df_inv = pd.DataFrame()\n",
    "for k in b.keys():\n",
    "    print(k)\n",
    "    for l in b[k].keys():\n",
    "        print(l)\n",
    "        data_inv = b[k][l]\n",
    "        if str(data_inv) == 'nan':\n",
    "            continue\n",
    "        else:\n",
    "            data_inv['company'] = k\n",
    "            data_inv['location'] = l\n",
    "            print(data_inv.shape)\n",
    "            df_inv = df_inv.append(data_inv)\n",
    "df_inv['id'] = list(zip(df_inv.company, df_inv.location))\n",
    "df_inv = df_inv.reset_index(drop = True)"
   ]
  },
  {
   "cell_type": "markdown",
   "id": "4b9ae6c3",
   "metadata": {},
   "source": [
    "## Age distribution by package count"
   ]
  },
  {
   "cell_type": "code",
   "execution_count": 36,
   "id": "f669c4bc",
   "metadata": {},
   "outputs": [],
   "source": [
    "df_clients = [\n",
    "'DL',\n",
    "'DW',\n",
    "'EMA',\n",
    "'EMM',\n",
    "'EMT',\n",
    "'EMF',\n",
    "'ST',\n",
    "'GRG',\n",
    "'MPW',\n",
    "'EL',\n",
    "'VS',\n",
    "'MD',\n",
    "'DWF',\n",
    "'TT',\n",
    "'GHC',\n",
    "'SV',\n",
    "'99HT',\n",
    "'NECC',\n",
    "'LBC',\n",
    "'BYN',\n",
    "'CSC',\n",
    "'CHO',\n",
    "'BBF',\n",
    "'CCC',\n",
    "'PL',\n",
    "'CPA'\n",
    "]"
   ]
  },
  {
   "cell_type": "code",
   "execution_count": null,
   "id": "aa929ef5",
   "metadata": {},
   "outputs": [],
   "source": [
    "df_inv_df = df_inv[df_inv['company'].isin(df_clients)]"
   ]
  },
  {
   "cell_type": "code",
   "execution_count": null,
   "id": "16e7c65c",
   "metadata": {},
   "outputs": [],
   "source": [
    "age_package_count = df_inv_df[['id','age_bucket','package_id']].groupby(['id','age_bucket']).count().reset_index()  "
   ]
  },
  {
   "cell_type": "code",
   "execution_count": null,
   "id": "10048a58",
   "metadata": {},
   "outputs": [],
   "source": [
    "age_package_count['perc'] = age_package_count[['id','package_id']].groupby(['id']).apply(lambda x:100 * x / float(x.sum()))"
   ]
  },
  {
   "cell_type": "code",
   "execution_count": null,
   "id": "59b87d92",
   "metadata": {},
   "outputs": [],
   "source": [
    "age_package_count.columns = ['id', 'age_bucket', 'count_pkg', 'perc']"
   ]
  },
  {
   "cell_type": "code",
   "execution_count": null,
   "id": "0d672002",
   "metadata": {},
   "outputs": [],
   "source": [
    "age_package_count.head()"
   ]
  },
  {
   "cell_type": "code",
   "execution_count": null,
   "id": "be23af97",
   "metadata": {},
   "outputs": [],
   "source": [
    "age_90 = age_package_count[age_package_count['age_bucket'] == '0-90']\n",
    "age_909m = age_package_count[age_package_count['age_bucket'] == '90-9m']\n",
    "age_9m12m = age_package_count[age_package_count['age_bucket'] == '9m-12m']\n",
    "age_12m = age_package_count[age_package_count['age_bucket'] == '>12m']"
   ]
  },
  {
   "cell_type": "code",
   "execution_count": null,
   "id": "e432d7cc",
   "metadata": {},
   "outputs": [],
   "source": [
    "age_ = age_90.merge(age_909m,how = 'outer',on = 'id').\\\n",
    "merge(age_9m12m,how = 'outer',on = 'id').\\\n",
    "merge(age_12m,how = 'outer',on = 'id')"
   ]
  },
  {
   "cell_type": "code",
   "execution_count": null,
   "id": "cf011bb3",
   "metadata": {},
   "outputs": [],
   "source": [
    "age_.columns = ['id', 'age_bucket_90', 'count_pkg_90', 'perc_90', \n",
    "                     'age_bucket_909m','count_pkg_909m', 'perc_909m',\n",
    "                    'age_bucket_9m12m','count_pkg_9m12m', 'perc_9m12m',\n",
    "                     'age_bucket_12m','count_pkg_12m', 'perc_12m'\n",
    "                    ]"
   ]
  },
  {
   "cell_type": "code",
   "execution_count": null,
   "id": "94e30bf9",
   "metadata": {},
   "outputs": [],
   "source": [
    "age_['new_fresh'] = age_['perc_90'] + age_['perc_909m']"
   ]
  },
  {
   "cell_type": "code",
   "execution_count": null,
   "id": "85af6ecb",
   "metadata": {},
   "outputs": [],
   "source": [
    "age_.head()"
   ]
  },
  {
   "cell_type": "code",
   "execution_count": null,
   "id": "fcc86eda",
   "metadata": {},
   "outputs": [],
   "source": [
    "age_.to_csv('df_inv_analysis_pkg.csv')"
   ]
  },
  {
   "cell_type": "markdown",
   "id": "c4d56075",
   "metadata": {},
   "source": [
    "## Inventory valuation"
   ]
  },
  {
   "cell_type": "code",
   "execution_count": 15,
   "id": "3bab6041",
   "metadata": {},
   "outputs": [],
   "source": [
    "def read_df_in(COMPANY_IDENTIFIER,license_numbers):\n",
    "    company_incoming_transfer_packages_query = create_queries.create_company_incoming_transfer_packages_query(\n",
    "    COMPANY_IDENTIFIER,\n",
    "    TRANSFER_PACKAGES_START_DATE,\n",
    "    license_numbers=license_numbers,\n",
    "    )\n",
    "    company_incoming_transfer_packages_dataframe = pd.read_sql_query(company_incoming_transfer_packages_query, engine)\n",
    "    return company_incoming_transfer_packages_dataframe\n"
   ]
  },
  {
   "cell_type": "code",
   "execution_count": 40,
   "id": "7a368c4c",
   "metadata": {},
   "outputs": [],
   "source": [
    "def calculate_inventory_valuation_fresh(\n",
    "    incoming_transfer_df, inventory_df, license_list, today_date,days_low,days_high\n",
    "):\n",
    "    # legal name\n",
    "    legal_name = incoming_transfer_df[\n",
    "        incoming_transfer_df[\"license_number\"].isin(license_list)\n",
    "    ][\"recipient_facility_name\"].values[0]\n",
    "    # process df_in and df_sales\n",
    "    incoming_transfer_df[\"per_unit_incoming\"] = (\n",
    "        incoming_transfer_df[\"shipper_wholesale_price\"]\n",
    "        / incoming_transfer_df[\"shipped_quantity\"]\n",
    "    )\n",
    "    incoming_transfer_df_price = incoming_transfer_df[\n",
    "        incoming_transfer_df[\"shipper_wholesale_price\"].notnull()\n",
    "    ]\n",
    "    # by package id\n",
    "    average_incoming_package_id = incoming_transfer_df_price.groupby([\"package_id\"])[\n",
    "        \"per_unit_incoming\"\n",
    "    ].mean()\n",
    "    df_avg_incoming_price = pd.Series(average_incoming_package_id).to_frame()\n",
    "    df_avg_incoming_price = df_avg_incoming_price.reset_index()\n",
    "    # by product\n",
    "    average_incoming_product = incoming_transfer_df_price.groupby([\"product_name\"])[\n",
    "        \"per_unit_incoming\"\n",
    "    ].mean()\n",
    "    df_avg_product = pd.Series(average_incoming_product).to_frame()\n",
    "    df_avg_product = df_avg_product.reset_index()\n",
    "    df_avg_product.rename(\n",
    "        columns={\"per_unit_incoming\": \"per_unit_product\"}, inplace=True\n",
    "    )\n",
    "    inventory_df = get_valid_inventory_df(inventory_df)\n",
    "\n",
    "    # prepare fresh inventory\n",
    "    inventory_df = inventory_df.reset_index(drop=True)\n",
    "    inventory_df[\"age\"] = [\n",
    "        today_date - inventory_df[\"packaged_date\"][i] for i in range(len(inventory_df))\n",
    "    ]\n",
    "    inventory_df[\"age_int\"] = [\n",
    "        inventory_df[\"age\"][i] / numpy.timedelta64(1, \"D\")\n",
    "        for i in range(len(inventory_df))\n",
    "    ]\n",
    "    inventory_df_fresh = inventory_df[(inventory_df[\"age_int\"] > days_low)&(inventory_df[\"age_int\"] <= days_high)]\n",
    "\n",
    "    # calculate inventory\n",
    "    df_inventory_incoming = pd.merge(\n",
    "        inventory_df_fresh,\n",
    "        df_avg_incoming_price,\n",
    "        left_on=[\"package_id\"],\n",
    "        right_on=[\"package_id\"],\n",
    "        how=\"left\",\n",
    "    )\n",
    "    # left_on=['tx_product_name','tx_unit_of_measure'], right_on=['product_name','shipped_unit_of_measure'], how='left'\n",
    "    df_inventory_incoming.replace([numpy.inf], numpy.nan, inplace=True)\n",
    "    df_inv_null = df_inventory_incoming[\n",
    "        df_inventory_incoming[\"per_unit_incoming\"].isnull()\n",
    "    ]\n",
    "    df_inv_product = pd.merge(\n",
    "        df_inv_null,\n",
    "        df_avg_product,\n",
    "        left_on=[\"product_name\"],\n",
    "        right_on=[\"product_name\"],\n",
    "        how=\"left\",\n",
    "    )\n",
    "    df_inv_product.replace([numpy.inf], numpy.nan, inplace=True)\n",
    "    df_inv_product_price = df_inv_product[df_inv_product[\"per_unit_product\"].notnull()]\n",
    "    df_inv_product_price[\"total_price\"] = (\n",
    "        df_inv_product_price[\"quantity\"] * df_inv_product_price[\"per_unit_product\"]\n",
    "    )\n",
    "\n",
    "    inventory_product_value = df_inv_product_price[\"total_price\"].sum()\n",
    "    df_inventory_incoming[\"total_price\"] = (\n",
    "        df_inventory_incoming[\"quantity\"] * df_inventory_incoming[\"per_unit_incoming\"]\n",
    "    )\n",
    "    inventory_value = df_inventory_incoming[\"total_price\"].sum()\n",
    "    total_inv_value = inventory_product_value + inventory_value\n",
    "    total_inv_value_after_tax = (inventory_product_value + inventory_value) * 1.2625\n",
    "    inv_count_product = df_inv_product_price[\"per_unit_product\"].count()\n",
    "    inv_count_incoming = df_inventory_incoming[\"per_unit_incoming\"].count()\n",
    "    inv_count_total = df_inventory_incoming[\"quantity\"].count()\n",
    "    inv_total_incoming = inv_count_product + inv_count_incoming\n",
    "    inventory_coverage = inv_total_incoming / inv_count_total\n",
    "    # prepare data\n",
    "    data = [\n",
    "        [today_date],\n",
    "        [round(total_inv_value, 2)],\n",
    "        [round(total_inv_value_after_tax, 2)],\n",
    "        [inv_total_incoming],\n",
    "        [inv_count_total],\n",
    "        [round(inventory_coverage, 2)],\n",
    "        [license_list],\n",
    "        [legal_name],\n",
    "    ]\n",
    "    df_inventory_license = pd.DataFrame(data).T\n",
    "    df_inventory_license.columns = [\n",
    "        \"date\",\n",
    "        \"value\"+str(days_high),\n",
    "        \"value_after_tax\",\n",
    "        \"total_incoming\",\n",
    "        \"total\",\n",
    "        \"coverage\",\n",
    "        \"license\",\n",
    "        \"legal_name\",\n",
    "    ]\n",
    "    return df_inventory_license, inventory_df"
   ]
  },
  {
   "cell_type": "code",
   "execution_count": 41,
   "id": "cd457c35",
   "metadata": {},
   "outputs": [],
   "source": [
    "def get_valid_inventory_df(inventory_data):\n",
    "    #exclude trade samples\n",
    "    inventory_data = inventory_data[~inventory_data['is_trade_sample']]\n",
    "    #exclude quantity zero packages\n",
    "    inventory_data = inventory_data[inventory_data['quantity'] > 0]\n",
    "    return inventory_data"
   ]
  },
  {
   "cell_type": "code",
   "execution_count": 42,
   "id": "f89a9840",
   "metadata": {},
   "outputs": [],
   "source": [
    "def get_inv_val_list(company_list,map_df):\n",
    "    inv_df_list_90 = {}\n",
    "    inv_df_list_9m = {}\n",
    "    inv_df_list_12m = {}\n",
    "    inv_df_list_12m_plus = {}\n",
    "    for c in tqdm(company_list):\n",
    "        inv_list_90 = {}\n",
    "        inv_list_9m = {}\n",
    "        inv_list_12m = {}\n",
    "        inv_list_12m_plus = {}\n",
    "        print(c)\n",
    "        l_list = map_df[map_df['company_identifier'] == c]['lic_list'].to_list()[0]\n",
    "        for l in tqdm(l_list):\n",
    "            print(l)\n",
    "            df_in = read_df_in([c],[l])\n",
    "            df_inv = read_inv_data([c],[l])\n",
    "            if (df_inv.shape[0] == 0) or df_in.shape[0] == 0:\n",
    "                inv_list_90[l] = numpy.nan\n",
    "                inv_list_9m[l] = numpy.nan\n",
    "                inv_list_12m[l] = numpy.nan\n",
    "                inv_list_12m_plus[l] = numpy.nan\n",
    "                continue\n",
    "            else:\n",
    "                inv_90 = calculate_inventory_valuation_fresh(df_in,df_inv,[l],today,0,180)[0]\n",
    "                inv_9m = calculate_inventory_valuation_fresh(df_in,df_inv,[l],today,180,270)[0]\n",
    "                inv_12m = calculate_inventory_valuation_fresh(df_in,df_inv,[l],today,270,365)[0]\n",
    "                inv_12m_plus = calculate_inventory_valuation_fresh(df_in,df_inv,[l],today,365,10000)[0]\n",
    "                inv_list_90[l] = inv_90\n",
    "                inv_list_9m[l] = inv_9m\n",
    "                inv_list_12m[l] = inv_12m\n",
    "                inv_list_12m_plus[l] = inv_12m_plus\n",
    "        inv_df_list_90[c] =  inv_list_90\n",
    "        inv_df_list_9m[c] =  inv_list_9m\n",
    "        inv_df_list_12m[c] =  inv_list_12m\n",
    "        inv_df_list_12m_plus[c] =  inv_list_12m_plus\n",
    "    return inv_df_list_90,inv_df_list_9m,inv_df_list_12m,inv_df_list_12m_plus\n",
    "\n",
    "\n"
   ]
  },
  {
   "cell_type": "code",
   "execution_count": 43,
   "id": "65a5e77c",
   "metadata": {},
   "outputs": [
    {
     "name": "stderr",
     "output_type": "stream",
     "text": [
      "\r",
      "  0%|          | 0/82 [00:00<?, ?it/s]"
     ]
    },
    {
     "name": "stdout",
     "output_type": "stream",
     "text": [
      "99HT\n"
     ]
    },
    {
     "name": "stderr",
     "output_type": "stream",
     "text": [
      "\n",
      "  0%|          | 0/1 [00:00<?, ?it/s]\u001b[A"
     ]
    },
    {
     "name": "stdout",
     "output_type": "stream",
     "text": [
      "C10-0000279-LIC\n"
     ]
    },
    {
     "name": "stderr",
     "output_type": "stream",
     "text": [
      "\n",
      "100%|██████████| 1/1 [00:02<00:00,  2.64s/it]\u001b[A\n",
      "  1%|          | 1/82 [00:02<03:34,  2.65s/it]"
     ]
    },
    {
     "name": "stdout",
     "output_type": "stream",
     "text": [
      "AGA\n"
     ]
    },
    {
     "name": "stderr",
     "output_type": "stream",
     "text": [
      "\n",
      "  0%|          | 0/1 [00:00<?, ?it/s]\u001b[A"
     ]
    },
    {
     "name": "stdout",
     "output_type": "stream",
     "text": [
      "C10-0000341-LIC\n"
     ]
    },
    {
     "name": "stderr",
     "output_type": "stream",
     "text": [
      "\n",
      "100%|██████████| 1/1 [00:02<00:00,  2.32s/it]\u001b[A\n",
      "  2%|▏         | 2/82 [00:04<03:16,  2.45s/it]"
     ]
    },
    {
     "name": "stdout",
     "output_type": "stream",
     "text": [
      "ALT\n"
     ]
    },
    {
     "name": "stderr",
     "output_type": "stream",
     "text": [
      "\n",
      "  0%|          | 0/2 [00:00<?, ?it/s]\u001b[A"
     ]
    },
    {
     "name": "stdout",
     "output_type": "stream",
     "text": [
      "PC-000310\n"
     ]
    },
    {
     "name": "stderr",
     "output_type": "stream",
     "text": [
      "\n",
      " 50%|█████     | 1/2 [00:01<00:01,  1.53s/it]\u001b[A"
     ]
    },
    {
     "name": "stdout",
     "output_type": "stream",
     "text": [
      "AU-R-000380\n"
     ]
    },
    {
     "name": "stderr",
     "output_type": "stream",
     "text": [
      "\n",
      "100%|██████████| 2/2 [00:03<00:00,  1.67s/it]\u001b[A\n",
      "  4%|▎         | 3/82 [00:08<03:46,  2.86s/it]"
     ]
    },
    {
     "name": "stdout",
     "output_type": "stream",
     "text": [
      "BS\n"
     ]
    },
    {
     "name": "stderr",
     "output_type": "stream",
     "text": [
      "\n",
      "  0%|          | 0/2 [00:00<?, ?it/s]\u001b[A"
     ]
    },
    {
     "name": "stdout",
     "output_type": "stream",
     "text": [
      "AU-R-000156\n"
     ]
    },
    {
     "name": "stderr",
     "output_type": "stream",
     "text": [
      "\n",
      " 50%|█████     | 1/2 [00:01<00:01,  1.78s/it]\u001b[A"
     ]
    },
    {
     "name": "stdout",
     "output_type": "stream",
     "text": [
      "PC-000185\n"
     ]
    },
    {
     "name": "stderr",
     "output_type": "stream",
     "text": [
      "\n",
      "100%|██████████| 2/2 [00:03<00:00,  1.65s/it]\u001b[A\n",
      "  5%|▍         | 4/82 [00:11<03:56,  3.03s/it]"
     ]
    },
    {
     "name": "stdout",
     "output_type": "stream",
     "text": [
      "BMC\n"
     ]
    },
    {
     "name": "stderr",
     "output_type": "stream",
     "text": [
      "\n",
      "  0%|          | 0/1 [00:00<?, ?it/s]\u001b[A"
     ]
    },
    {
     "name": "stdout",
     "output_type": "stream",
     "text": [
      "402-00930\n"
     ]
    },
    {
     "name": "stderr",
     "output_type": "stream",
     "text": [
      "\n",
      "100%|██████████| 1/1 [00:01<00:00,  1.59s/it]\u001b[A\n",
      "  6%|▌         | 5/82 [00:13<03:13,  2.51s/it]"
     ]
    },
    {
     "name": "stdout",
     "output_type": "stream",
     "text": [
      "BBF\n"
     ]
    },
    {
     "name": "stderr",
     "output_type": "stream",
     "text": [
      "\n",
      "  0%|          | 0/1 [00:00<?, ?it/s]\u001b[A"
     ]
    },
    {
     "name": "stdout",
     "output_type": "stream",
     "text": [
      "MR281525\n"
     ]
    },
    {
     "name": "stderr",
     "output_type": "stream",
     "text": [
      "\n",
      "100%|██████████| 1/1 [00:01<00:00,  1.42s/it]\u001b[A\n",
      "  7%|▋         | 6/82 [00:14<02:42,  2.14s/it]"
     ]
    },
    {
     "name": "stdout",
     "output_type": "stream",
     "text": [
      "BUD\n"
     ]
    },
    {
     "name": "stderr",
     "output_type": "stream",
     "text": [
      "\n",
      "  0%|          | 0/5 [00:00<?, ?it/s]\u001b[A"
     ]
    },
    {
     "name": "stdout",
     "output_type": "stream",
     "text": [
      "C9-0000444-LIC\n"
     ]
    },
    {
     "name": "stderr",
     "output_type": "stream",
     "text": [
      "\n",
      " 20%|██        | 1/5 [00:02<00:09,  2.44s/it]\u001b[A"
     ]
    },
    {
     "name": "stdout",
     "output_type": "stream",
     "text": [
      "C9-0000464-LIC\n"
     ]
    },
    {
     "name": "stderr",
     "output_type": "stream",
     "text": [
      "\n",
      " 40%|████      | 2/5 [00:04<00:05,  1.93s/it]\u001b[A"
     ]
    },
    {
     "name": "stdout",
     "output_type": "stream",
     "text": [
      "C9-0000467-LIC\n"
     ]
    },
    {
     "name": "stderr",
     "output_type": "stream",
     "text": [
      "\n",
      " 60%|██████    | 3/5 [00:05<00:03,  1.85s/it]\u001b[A"
     ]
    },
    {
     "name": "stdout",
     "output_type": "stream",
     "text": [
      "C9-0000167-LIC\n"
     ]
    },
    {
     "name": "stderr",
     "output_type": "stream",
     "text": [
      "\n",
      " 80%|████████  | 4/5 [00:07<00:01,  1.92s/it]\u001b[A"
     ]
    },
    {
     "name": "stdout",
     "output_type": "stream",
     "text": [
      "C9-0000399-LIC\n"
     ]
    },
    {
     "name": "stderr",
     "output_type": "stream",
     "text": [
      "\n",
      "100%|██████████| 5/5 [00:09<00:00,  1.97s/it]\u001b[A\n",
      "  9%|▊         | 7/82 [00:24<05:50,  4.67s/it]"
     ]
    },
    {
     "name": "stdout",
     "output_type": "stream",
     "text": [
      "BRC\n"
     ]
    },
    {
     "name": "stderr",
     "output_type": "stream",
     "text": [
      "\n",
      "  0%|          | 0/1 [00:00<?, ?it/s]\u001b[A"
     ]
    },
    {
     "name": "stdout",
     "output_type": "stream",
     "text": [
      "C10-0000603-LIC\n"
     ]
    },
    {
     "name": "stderr",
     "output_type": "stream",
     "text": [
      "\n",
      "100%|██████████| 1/1 [00:01<00:00,  1.93s/it]\u001b[A\n",
      " 10%|▉         | 8/82 [00:26<04:40,  3.80s/it]"
     ]
    },
    {
     "name": "stdout",
     "output_type": "stream",
     "text": [
      "BYN\n"
     ]
    },
    {
     "name": "stderr",
     "output_type": "stream",
     "text": [
      "\n",
      "  0%|          | 0/1 [00:00<?, ?it/s]\u001b[A"
     ]
    },
    {
     "name": "stdout",
     "output_type": "stream",
     "text": [
      "C10-0000528-LIC\n"
     ]
    },
    {
     "name": "stderr",
     "output_type": "stream",
     "text": [
      "\n",
      "100%|██████████| 1/1 [00:01<00:00,  1.64s/it]\u001b[A\n",
      " 11%|█         | 9/82 [00:28<03:47,  3.12s/it]"
     ]
    },
    {
     "name": "stdout",
     "output_type": "stream",
     "text": [
      "CHO\n"
     ]
    },
    {
     "name": "stderr",
     "output_type": "stream",
     "text": [
      "\n",
      "  0%|          | 0/1 [00:00<?, ?it/s]\u001b[A"
     ]
    },
    {
     "name": "stdout",
     "output_type": "stream",
     "text": [
      "AU-R-000575\n"
     ]
    },
    {
     "name": "stderr",
     "output_type": "stream",
     "text": [
      "\n",
      "100%|██████████| 1/1 [00:01<00:00,  1.49s/it]\u001b[A\n",
      " 12%|█▏        | 10/82 [00:29<03:08,  2.62s/it]"
     ]
    },
    {
     "name": "stdout",
     "output_type": "stream",
     "text": [
      "CG\n"
     ]
    },
    {
     "name": "stderr",
     "output_type": "stream",
     "text": [
      "\n",
      "  0%|          | 0/1 [00:00<?, ?it/s]\u001b[A"
     ]
    },
    {
     "name": "stdout",
     "output_type": "stream",
     "text": [
      "C9-0000157-LIC\n"
     ]
    },
    {
     "name": "stderr",
     "output_type": "stream",
     "text": [
      "\n",
      "100%|██████████| 1/1 [00:02<00:00,  2.20s/it]\u001b[A\n",
      " 13%|█▎        | 11/82 [00:31<02:56,  2.49s/it]"
     ]
    },
    {
     "name": "stdout",
     "output_type": "stream",
     "text": [
      "CPA\n"
     ]
    },
    {
     "name": "stderr",
     "output_type": "stream",
     "text": [
      "\n",
      "  0%|          | 0/2 [00:00<?, ?it/s]\u001b[A"
     ]
    },
    {
     "name": "stdout",
     "output_type": "stream",
     "text": [
      "C9-0000348-LIC\n"
     ]
    },
    {
     "name": "stderr",
     "output_type": "stream",
     "text": [
      "\n",
      " 50%|█████     | 1/2 [00:02<00:02,  2.82s/it]\u001b[A"
     ]
    },
    {
     "name": "stdout",
     "output_type": "stream",
     "text": [
      "C10-0000461-LIC\n"
     ]
    },
    {
     "name": "stderr",
     "output_type": "stream",
     "text": [
      "\n",
      "100%|██████████| 2/2 [00:05<00:00,  2.69s/it]\u001b[A\n",
      " 15%|█▍        | 12/82 [00:37<03:55,  3.37s/it]"
     ]
    },
    {
     "name": "stdout",
     "output_type": "stream",
     "text": [
      "CPC\n"
     ]
    },
    {
     "name": "stderr",
     "output_type": "stream",
     "text": [
      "\n",
      "  0%|          | 0/1 [00:00<?, ?it/s]\u001b[A"
     ]
    },
    {
     "name": "stdout",
     "output_type": "stream",
     "text": [
      "C9-0000056-LIC\n"
     ]
    },
    {
     "name": "stderr",
     "output_type": "stream",
     "text": [
      "\n",
      "100%|██████████| 1/1 [00:01<00:00,  1.54s/it]\u001b[A\n",
      " 16%|█▌        | 13/82 [00:38<03:14,  2.82s/it]"
     ]
    },
    {
     "name": "stdout",
     "output_type": "stream",
     "text": [
      "CSC\n"
     ]
    },
    {
     "name": "stderr",
     "output_type": "stream",
     "text": [
      "\n",
      "  0%|          | 0/1 [00:00<?, ?it/s]\u001b[A"
     ]
    },
    {
     "name": "stdout",
     "output_type": "stream",
     "text": [
      "C10-0000670-LIC\n"
     ]
    },
    {
     "name": "stderr",
     "output_type": "stream",
     "text": [
      "\n",
      "100%|██████████| 1/1 [00:03<00:00,  3.08s/it]\u001b[A\n",
      " 17%|█▋        | 14/82 [00:41<03:17,  2.90s/it]"
     ]
    },
    {
     "name": "stdout",
     "output_type": "stream",
     "text": [
      "CSCC\n"
     ]
    },
    {
     "name": "stderr",
     "output_type": "stream",
     "text": [
      "\n",
      "  0%|          | 0/1 [00:00<?, ?it/s]\u001b[A"
     ]
    },
    {
     "name": "stdout",
     "output_type": "stream",
     "text": [
      "C10-0000918-LIC\n"
     ]
    },
    {
     "name": "stderr",
     "output_type": "stream",
     "text": [
      "\n",
      "100%|██████████| 1/1 [00:01<00:00,  1.72s/it]\u001b[A\n",
      " 18%|█▊        | 15/82 [00:43<02:50,  2.54s/it]"
     ]
    },
    {
     "name": "stdout",
     "output_type": "stream",
     "text": [
      "CCC\n"
     ]
    },
    {
     "name": "stderr",
     "output_type": "stream",
     "text": [
      "\n",
      "  0%|          | 0/1 [00:00<?, ?it/s]\u001b[A"
     ]
    },
    {
     "name": "stdout",
     "output_type": "stream",
     "text": [
      "C12-0000087-LIC\n"
     ]
    },
    {
     "name": "stderr",
     "output_type": "stream",
     "text": [
      "\n",
      "100%|██████████| 1/1 [00:03<00:00,  3.84s/it]\u001b[A\n",
      " 20%|█▉        | 16/82 [00:47<03:13,  2.93s/it]"
     ]
    },
    {
     "name": "stdout",
     "output_type": "stream",
     "text": [
      "CLC\n"
     ]
    },
    {
     "name": "stderr",
     "output_type": "stream",
     "text": [
      "\n",
      "  0%|          | 0/2 [00:00<?, ?it/s]\u001b[A"
     ]
    },
    {
     "name": "stdout",
     "output_type": "stream",
     "text": [
      "C10-0000986-LIC\n"
     ]
    },
    {
     "name": "stderr",
     "output_type": "stream",
     "text": [
      "\n",
      " 50%|█████     | 1/2 [00:01<00:01,  1.22s/it]\u001b[A"
     ]
    },
    {
     "name": "stdout",
     "output_type": "stream",
     "text": [
      "C12-0000318-LIC\n"
     ]
    },
    {
     "name": "stderr",
     "output_type": "stream",
     "text": [
      "\n",
      "100%|██████████| 2/2 [00:02<00:00,  1.28s/it]\u001b[A\n",
      " 21%|██        | 17/82 [00:49<03:03,  2.82s/it]"
     ]
    },
    {
     "name": "stdout",
     "output_type": "stream",
     "text": [
      "CC\n"
     ]
    },
    {
     "name": "stderr",
     "output_type": "stream",
     "text": [
      "\n",
      "  0%|          | 0/1 [00:00<?, ?it/s]\u001b[A"
     ]
    },
    {
     "name": "stdout",
     "output_type": "stream",
     "text": [
      "C10-0000758-LIC\n"
     ]
    },
    {
     "name": "stderr",
     "output_type": "stream",
     "text": [
      "\n",
      "100%|██████████| 1/1 [00:01<00:00,  1.75s/it]\u001b[A\n",
      " 22%|██▏       | 18/82 [00:51<02:40,  2.50s/it]"
     ]
    },
    {
     "name": "stdout",
     "output_type": "stream",
     "text": [
      "CED\n"
     ]
    },
    {
     "name": "stderr",
     "output_type": "stream",
     "text": [
      "\n",
      "  0%|          | 0/1 [00:00<?, ?it/s]\u001b[A"
     ]
    },
    {
     "name": "stdout",
     "output_type": "stream",
     "text": [
      "C9-0000094-LIC\n"
     ]
    },
    {
     "name": "stderr",
     "output_type": "stream",
     "text": [
      "\n",
      "100%|██████████| 1/1 [00:02<00:00,  2.00s/it]\u001b[A\n",
      " 23%|██▎       | 19/82 [00:53<02:28,  2.35s/it]"
     ]
    },
    {
     "name": "stdout",
     "output_type": "stream",
     "text": [
      "DWF\n"
     ]
    },
    {
     "name": "stderr",
     "output_type": "stream",
     "text": [
      "\n",
      "  0%|          | 0/2 [00:00<?, ?it/s]\u001b[A"
     ]
    },
    {
     "name": "stdout",
     "output_type": "stream",
     "text": [
      "402R-00296\n"
     ]
    },
    {
     "name": "stderr",
     "output_type": "stream",
     "text": [
      "\n",
      " 50%|█████     | 1/2 [00:02<00:02,  2.06s/it]\u001b[A"
     ]
    },
    {
     "name": "stdout",
     "output_type": "stream",
     "text": [
      "402R-00804\n"
     ]
    },
    {
     "name": "stderr",
     "output_type": "stream",
     "text": [
      "\n",
      "100%|██████████| 2/2 [00:03<00:00,  1.76s/it]\u001b[A\n",
      " 24%|██▍       | 20/82 [00:57<02:47,  2.70s/it]"
     ]
    },
    {
     "name": "stdout",
     "output_type": "stream",
     "text": [
      "DCO\n"
     ]
    },
    {
     "name": "stderr",
     "output_type": "stream",
     "text": [
      "\n",
      "  0%|          | 0/2 [00:00<?, ?it/s]\u001b[A"
     ]
    },
    {
     "name": "stdout",
     "output_type": "stream",
     "text": [
      "050-10052885D4C\n"
     ]
    },
    {
     "name": "stderr",
     "output_type": "stream",
     "text": [
      "\n",
      " 50%|█████     | 1/2 [00:01<00:01,  1.85s/it]\u001b[A"
     ]
    },
    {
     "name": "stdout",
     "output_type": "stream",
     "text": [
      "050-10070593E9E\n"
     ]
    },
    {
     "name": "stderr",
     "output_type": "stream",
     "text": [
      "\n",
      "100%|██████████| 2/2 [00:03<00:00,  1.76s/it]\u001b[A\n",
      " 26%|██▌       | 21/82 [01:00<02:59,  2.95s/it]"
     ]
    },
    {
     "name": "stdout",
     "output_type": "stream",
     "text": [
      "DL\n"
     ]
    },
    {
     "name": "stderr",
     "output_type": "stream",
     "text": [
      "\n",
      "  0%|          | 0/1 [00:00<?, ?it/s]\u001b[A"
     ]
    },
    {
     "name": "stdout",
     "output_type": "stream",
     "text": [
      "MR283369\n"
     ]
    },
    {
     "name": "stderr",
     "output_type": "stream",
     "text": [
      "\n",
      "100%|██████████| 1/1 [00:01<00:00,  1.54s/it]\u001b[A\n",
      " 27%|██▋       | 22/82 [01:02<02:31,  2.53s/it]"
     ]
    },
    {
     "name": "stdout",
     "output_type": "stream",
     "text": [
      "DGG\n"
     ]
    },
    {
     "name": "stderr",
     "output_type": "stream",
     "text": [
      "\n",
      "  0%|          | 0/1 [00:00<?, ?it/s]\u001b[A"
     ]
    },
    {
     "name": "stdout",
     "output_type": "stream",
     "text": [
      "C9-0000016-LIC\n"
     ]
    },
    {
     "name": "stderr",
     "output_type": "stream",
     "text": [
      "\n",
      "100%|██████████| 1/1 [00:01<00:00,  1.67s/it]\u001b[A\n",
      " 28%|██▊       | 23/82 [01:03<02:13,  2.27s/it]"
     ]
    },
    {
     "name": "stdout",
     "output_type": "stream",
     "text": [
      "DG\n"
     ]
    },
    {
     "name": "stderr",
     "output_type": "stream",
     "text": [
      "\n",
      "  0%|          | 0/6 [00:00<?, ?it/s]\u001b[A"
     ]
    },
    {
     "name": "stdout",
     "output_type": "stream",
     "text": [
      "AU-R-000287\n"
     ]
    },
    {
     "name": "stderr",
     "output_type": "stream",
     "text": [
      "\n",
      " 17%|█▋        | 1/6 [00:01<00:08,  1.61s/it]\u001b[A"
     ]
    },
    {
     "name": "stdout",
     "output_type": "stream",
     "text": [
      "AU-R-000359\n"
     ]
    },
    {
     "name": "stderr",
     "output_type": "stream",
     "text": [
      "\n",
      " 33%|███▎      | 2/6 [00:03<00:06,  1.63s/it]\u001b[A"
     ]
    },
    {
     "name": "stdout",
     "output_type": "stream",
     "text": [
      "AU-R-000422\n"
     ]
    },
    {
     "name": "stderr",
     "output_type": "stream",
     "text": [
      "\n",
      " 50%|█████     | 3/6 [00:04<00:04,  1.60s/it]\u001b[A"
     ]
    },
    {
     "name": "stdout",
     "output_type": "stream",
     "text": [
      "AU-R-000470\n"
     ]
    },
    {
     "name": "stderr",
     "output_type": "stream",
     "text": [
      "\n",
      " 67%|██████▋   | 4/6 [00:06<00:03,  1.58s/it]\u001b[A"
     ]
    },
    {
     "name": "stdout",
     "output_type": "stream",
     "text": [
      "AU-R-000572\n"
     ]
    },
    {
     "name": "stderr",
     "output_type": "stream",
     "text": [
      "\n",
      " 83%|████████▎ | 5/6 [00:07<00:01,  1.53s/it]\u001b[A"
     ]
    },
    {
     "name": "stdout",
     "output_type": "stream",
     "text": [
      "PC-000485\n"
     ]
    },
    {
     "name": "stderr",
     "output_type": "stream",
     "text": [
      "\n",
      "100%|██████████| 6/6 [00:08<00:00,  1.49s/it]\u001b[A\n",
      " 29%|██▉       | 24/82 [01:12<04:08,  4.28s/it]"
     ]
    },
    {
     "name": "stdout",
     "output_type": "stream",
     "text": [
      "EL\n"
     ]
    },
    {
     "name": "stderr",
     "output_type": "stream",
     "text": [
      "\n",
      "  0%|          | 0/1 [00:00<?, ?it/s]\u001b[A"
     ]
    },
    {
     "name": "stdout",
     "output_type": "stream",
     "text": [
      "C9-0000370-LIC\n"
     ]
    },
    {
     "name": "stderr",
     "output_type": "stream",
     "text": [
      "\n",
      "100%|██████████| 1/1 [00:01<00:00,  1.43s/it]\u001b[A\n",
      " 30%|███       | 25/82 [01:14<03:15,  3.43s/it]"
     ]
    },
    {
     "name": "stdout",
     "output_type": "stream",
     "text": [
      "EMA\n"
     ]
    },
    {
     "name": "stderr",
     "output_type": "stream",
     "text": [
      "\n",
      "  0%|          | 0/1 [00:00<?, ?it/s]\u001b[A"
     ]
    },
    {
     "name": "stdout",
     "output_type": "stream",
     "text": [
      "C10-0000774-LIC\n"
     ]
    },
    {
     "name": "stderr",
     "output_type": "stream",
     "text": [
      "\n",
      "100%|██████████| 1/1 [00:01<00:00,  1.76s/it]\u001b[A\n",
      " 32%|███▏      | 26/82 [01:16<02:43,  2.93s/it]"
     ]
    },
    {
     "name": "stdout",
     "output_type": "stream",
     "text": [
      "EMF\n"
     ]
    },
    {
     "name": "stderr",
     "output_type": "stream",
     "text": [
      "\n",
      "  0%|          | 0/1 [00:00<?, ?it/s]\u001b[A"
     ]
    },
    {
     "name": "stdout",
     "output_type": "stream",
     "text": [
      "C10-0000939-LIC\n"
     ]
    },
    {
     "name": "stderr",
     "output_type": "stream",
     "text": [
      "\n",
      "100%|██████████| 1/1 [00:01<00:00,  1.50s/it]\u001b[A\n",
      " 33%|███▎      | 27/82 [01:17<02:17,  2.50s/it]"
     ]
    },
    {
     "name": "stdout",
     "output_type": "stream",
     "text": [
      "EMM\n"
     ]
    },
    {
     "name": "stderr",
     "output_type": "stream",
     "text": [
      "\n",
      "  0%|          | 0/1 [00:00<?, ?it/s]\u001b[A"
     ]
    },
    {
     "name": "stdout",
     "output_type": "stream",
     "text": [
      "C10-0000786-LIC\n"
     ]
    },
    {
     "name": "stderr",
     "output_type": "stream",
     "text": [
      "\n",
      "100%|██████████| 1/1 [00:02<00:00,  2.07s/it]\u001b[A\n",
      " 34%|███▍      | 28/82 [01:19<02:08,  2.37s/it]"
     ]
    },
    {
     "name": "stdout",
     "output_type": "stream",
     "text": [
      "EMT\n"
     ]
    },
    {
     "name": "stderr",
     "output_type": "stream",
     "text": [
      "\n",
      "  0%|          | 0/1 [00:00<?, ?it/s]\u001b[A"
     ]
    },
    {
     "name": "stdout",
     "output_type": "stream",
     "text": [
      "C10-0000695-LIC\n"
     ]
    },
    {
     "name": "stderr",
     "output_type": "stream",
     "text": [
      "\n",
      "100%|██████████| 1/1 [00:01<00:00,  1.90s/it]\u001b[A\n",
      " 35%|███▌      | 29/82 [01:21<01:58,  2.23s/it]"
     ]
    },
    {
     "name": "stdout",
     "output_type": "stream",
     "text": [
      "EPC\n"
     ]
    },
    {
     "name": "stderr",
     "output_type": "stream",
     "text": [
      "\n",
      "  0%|          | 0/1 [00:00<?, ?it/s]\u001b[A"
     ]
    },
    {
     "name": "stdout",
     "output_type": "stream",
     "text": [
      "C10-0000034-LIC\n"
     ]
    },
    {
     "name": "stderr",
     "output_type": "stream",
     "text": [
      "\n",
      "100%|██████████| 1/1 [00:02<00:00,  2.05s/it]\u001b[A\n",
      " 37%|███▋      | 30/82 [01:23<01:53,  2.18s/it]"
     ]
    },
    {
     "name": "stdout",
     "output_type": "stream",
     "text": [
      "EH\n"
     ]
    },
    {
     "name": "stderr",
     "output_type": "stream",
     "text": [
      "\n",
      "  0%|          | 0/1 [00:00<?, ?it/s]\u001b[A"
     ]
    },
    {
     "name": "stdout",
     "output_type": "stream",
     "text": [
      "MR283073\n"
     ]
    },
    {
     "name": "stderr",
     "output_type": "stream",
     "text": [
      "\n",
      "100%|██████████| 1/1 [00:01<00:00,  1.47s/it]\u001b[A\n",
      " 38%|███▊      | 31/82 [01:25<01:40,  1.97s/it]"
     ]
    },
    {
     "name": "stdout",
     "output_type": "stream",
     "text": [
      "FI\n"
     ]
    },
    {
     "name": "stderr",
     "output_type": "stream",
     "text": [
      "\n",
      "  0%|          | 0/3 [00:00<?, ?it/s]\u001b[A"
     ]
    },
    {
     "name": "stdout",
     "output_type": "stream",
     "text": [
      "C10-0000606-LIC\n"
     ]
    },
    {
     "name": "stderr",
     "output_type": "stream",
     "text": [
      "\n",
      " 33%|███▎      | 1/3 [00:01<00:02,  1.01s/it]\u001b[A"
     ]
    },
    {
     "name": "stdout",
     "output_type": "stream",
     "text": [
      "C10-0000753-LIC\n"
     ]
    },
    {
     "name": "stderr",
     "output_type": "stream",
     "text": [
      "\n",
      " 67%|██████▋   | 2/3 [00:02<00:01,  1.30s/it]\u001b[A"
     ]
    },
    {
     "name": "stdout",
     "output_type": "stream",
     "text": [
      "C12-0000400-LIC\n"
     ]
    },
    {
     "name": "stderr",
     "output_type": "stream",
     "text": [
      "\n",
      "100%|██████████| 3/3 [00:06<00:00,  2.08s/it]\u001b[A\n",
      " 39%|███▉      | 32/82 [01:31<02:42,  3.25s/it]"
     ]
    },
    {
     "name": "stdout",
     "output_type": "stream",
     "text": [
      "FW\n"
     ]
    },
    {
     "name": "stderr",
     "output_type": "stream",
     "text": [
      "\n",
      "  0%|          | 0/5 [00:00<?, ?it/s]\u001b[A"
     ]
    },
    {
     "name": "stdout",
     "output_type": "stream",
     "text": [
      "402-00558\n"
     ]
    },
    {
     "name": "stderr",
     "output_type": "stream",
     "text": [
      "\n",
      " 20%|██        | 1/5 [00:01<00:06,  1.70s/it]\u001b[A"
     ]
    },
    {
     "name": "stdout",
     "output_type": "stream",
     "text": [
      "402-00891\n"
     ]
    },
    {
     "name": "stderr",
     "output_type": "stream",
     "text": [
      "\n",
      " 40%|████      | 2/5 [00:03<00:05,  1.78s/it]\u001b[A"
     ]
    },
    {
     "name": "stdout",
     "output_type": "stream",
     "text": [
      "402R-00017\n"
     ]
    },
    {
     "name": "stderr",
     "output_type": "stream",
     "text": [
      "\n",
      " 60%|██████    | 3/5 [00:06<00:04,  2.12s/it]\u001b[A"
     ]
    },
    {
     "name": "stdout",
     "output_type": "stream",
     "text": [
      "402R-00020\n"
     ]
    },
    {
     "name": "stderr",
     "output_type": "stream",
     "text": [
      "\n",
      " 80%|████████  | 4/5 [00:08<00:02,  2.35s/it]\u001b[A"
     ]
    },
    {
     "name": "stdout",
     "output_type": "stream",
     "text": [
      "402R-00747\n"
     ]
    },
    {
     "name": "stderr",
     "output_type": "stream",
     "text": [
      "\n",
      "100%|██████████| 5/5 [00:10<00:00,  2.15s/it]\u001b[A\n",
      " 40%|████      | 33/82 [01:42<04:29,  5.50s/it]"
     ]
    },
    {
     "name": "stdout",
     "output_type": "stream",
     "text": [
      "GTC\n"
     ]
    },
    {
     "name": "stderr",
     "output_type": "stream",
     "text": [
      "\n",
      "  0%|          | 0/1 [00:00<?, ?it/s]\u001b[A"
     ]
    },
    {
     "name": "stdout",
     "output_type": "stream",
     "text": [
      "C10-0000849-LIC\n"
     ]
    },
    {
     "name": "stderr",
     "output_type": "stream",
     "text": [
      "\n",
      "100%|██████████| 1/1 [00:01<00:00,  1.88s/it]\u001b[A\n",
      " 41%|████▏     | 34/82 [01:43<03:31,  4.42s/it]"
     ]
    },
    {
     "name": "stdout",
     "output_type": "stream",
     "text": [
      "GT\n"
     ]
    },
    {
     "name": "stderr",
     "output_type": "stream",
     "text": [
      "\n",
      "  0%|          | 0/2 [00:00<?, ?it/s]\u001b[A"
     ]
    },
    {
     "name": "stdout",
     "output_type": "stream",
     "text": [
      "C9-0000385-LIC\n"
     ]
    },
    {
     "name": "stderr",
     "output_type": "stream",
     "text": [
      "\n",
      " 50%|█████     | 1/2 [00:01<00:01,  1.52s/it]\u001b[A"
     ]
    },
    {
     "name": "stdout",
     "output_type": "stream",
     "text": [
      "C9-0000170-LIC\n"
     ]
    },
    {
     "name": "stderr",
     "output_type": "stream",
     "text": [
      "\n",
      "100%|██████████| 2/2 [00:02<00:00,  1.49s/it]\u001b[A\n",
      " 43%|████▎     | 35/82 [01:46<03:07,  3.98s/it]"
     ]
    },
    {
     "name": "stdout",
     "output_type": "stream",
     "text": [
      "GLNR\n"
     ]
    },
    {
     "name": "stderr",
     "output_type": "stream",
     "text": [
      "\n",
      "  0%|          | 0/6 [00:00<?, ?it/s]\u001b[A"
     ]
    },
    {
     "name": "stdout",
     "output_type": "stream",
     "text": [
      "PC-000334\n"
     ]
    },
    {
     "name": "stderr",
     "output_type": "stream",
     "text": [
      "\n",
      " 17%|█▋        | 1/6 [00:01<00:06,  1.32s/it]\u001b[A"
     ]
    },
    {
     "name": "stdout",
     "output_type": "stream",
     "text": [
      "PC-000613\n"
     ]
    },
    {
     "name": "stderr",
     "output_type": "stream",
     "text": [
      "\n",
      " 33%|███▎      | 2/6 [00:02<00:05,  1.37s/it]\u001b[A"
     ]
    },
    {
     "name": "stdout",
     "output_type": "stream",
     "text": [
      "PC-000722\n"
     ]
    },
    {
     "name": "stderr",
     "output_type": "stream",
     "text": [
      "\n",
      " 50%|█████     | 3/6 [00:04<00:04,  1.34s/it]\u001b[A"
     ]
    },
    {
     "name": "stdout",
     "output_type": "stream",
     "text": [
      "AU-R-000182\n"
     ]
    },
    {
     "name": "stderr",
     "output_type": "stream",
     "text": [
      "\n",
      " 67%|██████▋   | 4/6 [00:05<00:02,  1.39s/it]\u001b[A"
     ]
    },
    {
     "name": "stdout",
     "output_type": "stream",
     "text": [
      "AU-R-000461\n"
     ]
    },
    {
     "name": "stderr",
     "output_type": "stream",
     "text": [
      "\n",
      " 83%|████████▎ | 5/6 [00:06<00:01,  1.38s/it]\u001b[A"
     ]
    },
    {
     "name": "stdout",
     "output_type": "stream",
     "text": [
      "AU-R-000559\n"
     ]
    },
    {
     "name": "stderr",
     "output_type": "stream",
     "text": [
      "\n",
      "100%|██████████| 6/6 [00:08<00:00,  1.37s/it]\u001b[A\n",
      " 44%|████▍     | 36/82 [01:55<04:01,  5.26s/it]"
     ]
    },
    {
     "name": "stdout",
     "output_type": "stream",
     "text": [
      "GRG\n"
     ]
    },
    {
     "name": "stderr",
     "output_type": "stream",
     "text": [
      "\n",
      "  0%|          | 0/2 [00:00<?, ?it/s]\u001b[A"
     ]
    },
    {
     "name": "stdout",
     "output_type": "stream",
     "text": [
      "C10-0000169-LIC\n"
     ]
    },
    {
     "name": "stderr",
     "output_type": "stream",
     "text": [
      "\n",
      " 50%|█████     | 1/2 [00:02<00:02,  2.38s/it]\u001b[A"
     ]
    },
    {
     "name": "stdout",
     "output_type": "stream",
     "text": [
      "C10-0000408-LIC\n"
     ]
    },
    {
     "name": "stderr",
     "output_type": "stream",
     "text": [
      "\n",
      "100%|██████████| 2/2 [00:04<00:00,  2.36s/it]\u001b[A\n",
      " 45%|████▌     | 37/82 [01:59<03:49,  5.10s/it]"
     ]
    },
    {
     "name": "stdout",
     "output_type": "stream",
     "text": [
      "GTR\n"
     ]
    },
    {
     "name": "stderr",
     "output_type": "stream",
     "text": [
      "\n",
      "  0%|          | 0/2 [00:00<?, ?it/s]\u001b[A"
     ]
    },
    {
     "name": "stdout",
     "output_type": "stream",
     "text": [
      "PC-000225\n"
     ]
    },
    {
     "name": "stderr",
     "output_type": "stream",
     "text": [
      "\n",
      " 50%|█████     | 1/2 [00:01<00:01,  1.44s/it]\u001b[A"
     ]
    },
    {
     "name": "stdout",
     "output_type": "stream",
     "text": [
      "AU-R-000163\n"
     ]
    },
    {
     "name": "stderr",
     "output_type": "stream",
     "text": [
      "\n",
      "100%|██████████| 2/2 [00:03<00:00,  1.66s/it]\u001b[A\n",
      " 46%|████▋     | 38/82 [02:03<03:20,  4.56s/it]"
     ]
    },
    {
     "name": "stdout",
     "output_type": "stream",
     "text": [
      "GHC\n"
     ]
    },
    {
     "name": "stderr",
     "output_type": "stream",
     "text": [
      "\n",
      "  0%|          | 0/1 [00:00<?, ?it/s]\u001b[A"
     ]
    },
    {
     "name": "stdout",
     "output_type": "stream",
     "text": [
      "C10-0000414-LIC\n"
     ]
    },
    {
     "name": "stderr",
     "output_type": "stream",
     "text": [
      "\n",
      "100%|██████████| 1/1 [00:02<00:00,  2.12s/it]\u001b[A\n",
      " 48%|████▊     | 39/82 [02:05<02:44,  3.83s/it]"
     ]
    },
    {
     "name": "stdout",
     "output_type": "stream",
     "text": [
      "GFEE\n"
     ]
    },
    {
     "name": "stderr",
     "output_type": "stream",
     "text": [
      "\n",
      "  0%|          | 0/1 [00:00<?, ?it/s]\u001b[A"
     ]
    },
    {
     "name": "stdout",
     "output_type": "stream",
     "text": [
      "C10-0000224-LIC\n"
     ]
    },
    {
     "name": "stderr",
     "output_type": "stream",
     "text": [
      "\n",
      "100%|██████████| 1/1 [00:02<00:00,  2.97s/it]\u001b[A\n",
      " 49%|████▉     | 40/82 [02:08<02:30,  3.57s/it]"
     ]
    },
    {
     "name": "stdout",
     "output_type": "stream",
     "text": [
      "GFWF\n"
     ]
    },
    {
     "name": "stderr",
     "output_type": "stream",
     "text": [
      "\n",
      "  0%|          | 0/1 [00:00<?, ?it/s]\u001b[A"
     ]
    },
    {
     "name": "stdout",
     "output_type": "stream",
     "text": [
      "C10-0000117-LIC\n"
     ]
    },
    {
     "name": "stderr",
     "output_type": "stream",
     "text": [
      "\n",
      "100%|██████████| 1/1 [00:02<00:00,  2.99s/it]\u001b[A\n",
      " 50%|█████     | 41/82 [02:11<02:19,  3.40s/it]"
     ]
    },
    {
     "name": "stdout",
     "output_type": "stream",
     "text": [
      "HB\n"
     ]
    },
    {
     "name": "stderr",
     "output_type": "stream",
     "text": [
      "\n",
      "  0%|          | 0/3 [00:00<?, ?it/s]\u001b[A"
     ]
    },
    {
     "name": "stdout",
     "output_type": "stream",
     "text": [
      "C10-0000624-LIC\n"
     ]
    },
    {
     "name": "stderr",
     "output_type": "stream",
     "text": [
      "\n",
      " 33%|███▎      | 1/3 [00:01<00:03,  1.70s/it]\u001b[A"
     ]
    },
    {
     "name": "stdout",
     "output_type": "stream",
     "text": [
      "C10-0000301-LIC\n"
     ]
    },
    {
     "name": "stderr",
     "output_type": "stream",
     "text": [
      "\n",
      " 67%|██████▋   | 2/3 [00:03<00:01,  1.55s/it]\u001b[A"
     ]
    },
    {
     "name": "stdout",
     "output_type": "stream",
     "text": [
      "C10-0000339-LIC\n"
     ]
    },
    {
     "name": "stderr",
     "output_type": "stream",
     "text": [
      "\n",
      "100%|██████████| 3/3 [00:05<00:00,  1.77s/it]\u001b[A\n",
      " 51%|█████     | 42/82 [02:16<02:38,  3.97s/it]"
     ]
    },
    {
     "name": "stdout",
     "output_type": "stream",
     "text": [
      "HS\n"
     ]
    },
    {
     "name": "stderr",
     "output_type": "stream",
     "text": [
      "\n",
      "  0%|          | 0/1 [00:00<?, ?it/s]\u001b[A"
     ]
    },
    {
     "name": "stdout",
     "output_type": "stream",
     "text": [
      "C9-0000441-LIC\n"
     ]
    },
    {
     "name": "stderr",
     "output_type": "stream",
     "text": [
      "\n",
      "100%|██████████| 1/1 [00:01<00:00,  1.57s/it]\u001b[A\n",
      " 52%|█████▏    | 43/82 [02:18<02:06,  3.25s/it]"
     ]
    },
    {
     "name": "stdout",
     "output_type": "stream",
     "text": [
      "HPCC\n"
     ]
    },
    {
     "name": "stderr",
     "output_type": "stream",
     "text": [
      "\n",
      "  0%|          | 0/2 [00:00<?, ?it/s]\u001b[A"
     ]
    },
    {
     "name": "stdout",
     "output_type": "stream",
     "text": [
      "C10-0000064-LIC\n"
     ]
    },
    {
     "name": "stderr",
     "output_type": "stream",
     "text": [
      "\n",
      " 50%|█████     | 1/2 [00:03<00:03,  3.35s/it]\u001b[A"
     ]
    },
    {
     "name": "stdout",
     "output_type": "stream",
     "text": [
      "C10-0000005-LIC\n"
     ]
    },
    {
     "name": "stderr",
     "output_type": "stream",
     "text": [
      "\n",
      "100%|██████████| 2/2 [00:05<00:00,  2.56s/it]\u001b[A\n",
      " 54%|█████▎    | 44/82 [02:23<02:24,  3.81s/it]"
     ]
    },
    {
     "name": "stdout",
     "output_type": "stream",
     "text": [
      "HC\n"
     ]
    },
    {
     "name": "stderr",
     "output_type": "stream",
     "text": [
      "\n",
      "  0%|          | 0/1 [00:00<?, ?it/s]\u001b[A"
     ]
    },
    {
     "name": "stdout",
     "output_type": "stream",
     "text": [
      "C9-0000341-LIC\n"
     ]
    },
    {
     "name": "stderr",
     "output_type": "stream",
     "text": [
      "\n",
      "100%|██████████| 1/1 [00:01<00:00,  1.61s/it]\u001b[A\n",
      " 55%|█████▍    | 45/82 [02:24<01:56,  3.15s/it]"
     ]
    },
    {
     "name": "stdout",
     "output_type": "stream",
     "text": [
      "IDC\n"
     ]
    },
    {
     "name": "stderr",
     "output_type": "stream",
     "text": [
      "\n",
      "  0%|          | 0/1 [00:00<?, ?it/s]\u001b[A"
     ]
    },
    {
     "name": "stdout",
     "output_type": "stream",
     "text": [
      "C9-0000320-LIC\n"
     ]
    },
    {
     "name": "stderr",
     "output_type": "stream",
     "text": [
      "\n",
      "100%|██████████| 1/1 [00:01<00:00,  1.85s/it]\u001b[A\n",
      " 56%|█████▌    | 46/82 [02:26<01:39,  2.76s/it]"
     ]
    },
    {
     "name": "stdout",
     "output_type": "stream",
     "text": [
      "ID\n"
     ]
    },
    {
     "name": "stderr",
     "output_type": "stream",
     "text": [
      "\n",
      "  0%|          | 0/1 [00:00<?, ?it/s]\u001b[A"
     ]
    },
    {
     "name": "stdout",
     "output_type": "stream",
     "text": [
      "C9-0000166-LIC\n"
     ]
    },
    {
     "name": "stderr",
     "output_type": "stream",
     "text": [
      "\n",
      "100%|██████████| 1/1 [00:01<00:00,  1.39s/it]\u001b[A\n",
      " 57%|█████▋    | 47/82 [02:28<01:22,  2.35s/it]"
     ]
    },
    {
     "name": "stdout",
     "output_type": "stream",
     "text": [
      "KAR\n"
     ]
    },
    {
     "name": "stderr",
     "output_type": "stream",
     "text": [
      "\n",
      "  0%|          | 0/2 [00:00<?, ?it/s]\u001b[A"
     ]
    },
    {
     "name": "stdout",
     "output_type": "stream",
     "text": [
      "402-00693\n"
     ]
    },
    {
     "name": "stderr",
     "output_type": "stream",
     "text": [
      "\n",
      " 50%|█████     | 1/2 [00:01<00:01,  1.55s/it]\u001b[A"
     ]
    },
    {
     "name": "stdout",
     "output_type": "stream",
     "text": [
      "402R-00744\n"
     ]
    },
    {
     "name": "stderr",
     "output_type": "stream",
     "text": [
      "\n",
      "100%|██████████| 2/2 [00:03<00:00,  1.60s/it]\u001b[A\n",
      " 59%|█████▊    | 48/82 [02:31<01:28,  2.61s/it]"
     ]
    },
    {
     "name": "stdout",
     "output_type": "stream",
     "text": [
      "KC\n"
     ]
    },
    {
     "name": "stderr",
     "output_type": "stream",
     "text": [
      "\n",
      "  0%|          | 0/11 [00:00<?, ?it/s]\u001b[A"
     ]
    },
    {
     "name": "stdout",
     "output_type": "stream",
     "text": [
      "402-00323\n"
     ]
    },
    {
     "name": "stderr",
     "output_type": "stream",
     "text": [
      "\n",
      "  9%|▉         | 1/11 [00:01<00:15,  1.57s/it]\u001b[A"
     ]
    },
    {
     "name": "stdout",
     "output_type": "stream",
     "text": [
      "402-00573\n"
     ]
    },
    {
     "name": "stderr",
     "output_type": "stream",
     "text": [
      "\n",
      " 18%|█▊        | 2/11 [00:03<00:13,  1.54s/it]\u001b[A"
     ]
    },
    {
     "name": "stdout",
     "output_type": "stream",
     "text": [
      "402-00664\n"
     ]
    },
    {
     "name": "stderr",
     "output_type": "stream",
     "text": [
      "\n",
      " 27%|██▋       | 3/11 [00:04<00:12,  1.53s/it]\u001b[A"
     ]
    },
    {
     "name": "stdout",
     "output_type": "stream",
     "text": [
      "402R-00515\n"
     ]
    },
    {
     "name": "stderr",
     "output_type": "stream",
     "text": [
      "\n",
      " 36%|███▋      | 4/11 [00:06<00:11,  1.62s/it]\u001b[A"
     ]
    },
    {
     "name": "stdout",
     "output_type": "stream",
     "text": [
      "402R-00544\n"
     ]
    },
    {
     "name": "stderr",
     "output_type": "stream",
     "text": [
      "\n",
      " 45%|████▌     | 5/11 [00:08<00:10,  1.68s/it]\u001b[A"
     ]
    },
    {
     "name": "stdout",
     "output_type": "stream",
     "text": [
      "402R-00900\n"
     ]
    },
    {
     "name": "stderr",
     "output_type": "stream",
     "text": [
      "\n",
      " 55%|█████▍    | 6/11 [00:09<00:08,  1.62s/it]\u001b[A"
     ]
    },
    {
     "name": "stdout",
     "output_type": "stream",
     "text": [
      "402R-00002\n"
     ]
    },
    {
     "name": "stderr",
     "output_type": "stream",
     "text": [
      "\n",
      " 64%|██████▎   | 7/11 [00:11<00:06,  1.59s/it]\u001b[A"
     ]
    },
    {
     "name": "stdout",
     "output_type": "stream",
     "text": [
      "402-01146\n"
     ]
    },
    {
     "name": "stderr",
     "output_type": "stream",
     "text": [
      "\n",
      " 73%|███████▎  | 8/11 [00:12<00:04,  1.55s/it]\u001b[A"
     ]
    },
    {
     "name": "stdout",
     "output_type": "stream",
     "text": [
      "402-00037\n"
     ]
    },
    {
     "name": "stderr",
     "output_type": "stream",
     "text": [
      "\n",
      " 82%|████████▏ | 9/11 [00:14<00:03,  1.50s/it]\u001b[A"
     ]
    },
    {
     "name": "stdout",
     "output_type": "stream",
     "text": [
      "402R-00035\n"
     ]
    },
    {
     "name": "stderr",
     "output_type": "stream",
     "text": [
      "\n",
      " 91%|█████████ | 10/11 [00:15<00:01,  1.52s/it]\u001b[A"
     ]
    },
    {
     "name": "stdout",
     "output_type": "stream",
     "text": [
      "402R-00574\n"
     ]
    },
    {
     "name": "stderr",
     "output_type": "stream",
     "text": [
      "\n",
      "100%|██████████| 11/11 [00:17<00:00,  1.55s/it]\u001b[A\n",
      " 60%|█████▉    | 49/82 [02:48<03:49,  6.95s/it]"
     ]
    },
    {
     "name": "stdout",
     "output_type": "stream",
     "text": [
      "LEG\n"
     ]
    },
    {
     "name": "stderr",
     "output_type": "stream",
     "text": [
      "\n",
      "  0%|          | 0/4 [00:00<?, ?it/s]\u001b[A"
     ]
    },
    {
     "name": "stdout",
     "output_type": "stream",
     "text": [
      "PC-000231\n"
     ]
    },
    {
     "name": "stderr",
     "output_type": "stream",
     "text": [
      "\n",
      " 25%|██▌       | 1/4 [00:01<00:04,  1.60s/it]\u001b[A"
     ]
    },
    {
     "name": "stdout",
     "output_type": "stream",
     "text": [
      "PC-000335\n"
     ]
    },
    {
     "name": "stderr",
     "output_type": "stream",
     "text": [
      "\n",
      " 50%|█████     | 2/4 [00:03<00:03,  1.57s/it]\u001b[A"
     ]
    },
    {
     "name": "stdout",
     "output_type": "stream",
     "text": [
      "AU-R-000260\n"
     ]
    },
    {
     "name": "stderr",
     "output_type": "stream",
     "text": [
      "\n",
      " 75%|███████▌  | 3/4 [00:05<00:01,  1.76s/it]\u001b[A"
     ]
    },
    {
     "name": "stdout",
     "output_type": "stream",
     "text": [
      "AU-R-000261\n"
     ]
    },
    {
     "name": "stderr",
     "output_type": "stream",
     "text": [
      "\n",
      "100%|██████████| 4/4 [00:07<00:00,  1.90s/it]\u001b[A\n",
      " 61%|██████    | 50/82 [02:56<03:48,  7.15s/it]"
     ]
    },
    {
     "name": "stdout",
     "output_type": "stream",
     "text": [
      "LBC\n"
     ]
    },
    {
     "name": "stderr",
     "output_type": "stream",
     "text": [
      "\n",
      "  0%|          | 0/1 [00:00<?, ?it/s]\u001b[A"
     ]
    },
    {
     "name": "stdout",
     "output_type": "stream",
     "text": [
      "C9-0000154-LIC\n"
     ]
    },
    {
     "name": "stderr",
     "output_type": "stream",
     "text": [
      "\n",
      "100%|██████████| 1/1 [00:01<00:00,  1.56s/it]\u001b[A\n",
      " 62%|██████▏   | 51/82 [02:57<02:49,  5.47s/it]"
     ]
    },
    {
     "name": "stdout",
     "output_type": "stream",
     "text": [
      "MSS\n"
     ]
    },
    {
     "name": "stderr",
     "output_type": "stream",
     "text": [
      "\n",
      "  0%|          | 0/1 [00:00<?, ?it/s]\u001b[A"
     ]
    },
    {
     "name": "stdout",
     "output_type": "stream",
     "text": [
      "C10-0000816-LIC\n"
     ]
    },
    {
     "name": "stderr",
     "output_type": "stream",
     "text": [
      "\n",
      "100%|██████████| 1/1 [00:01<00:00,  1.62s/it]\u001b[A\n",
      " 63%|██████▎   | 52/82 [02:59<02:09,  4.32s/it]"
     ]
    },
    {
     "name": "stdout",
     "output_type": "stream",
     "text": [
      "ML\n"
     ]
    },
    {
     "name": "stderr",
     "output_type": "stream",
     "text": [
      "\n",
      "  0%|          | 0/1 [00:00<?, ?it/s]\u001b[A"
     ]
    },
    {
     "name": "stdout",
     "output_type": "stream",
     "text": [
      "C9-0000300-LIC\n"
     ]
    },
    {
     "name": "stderr",
     "output_type": "stream",
     "text": [
      "\n",
      "100%|██████████| 1/1 [00:01<00:00,  1.97s/it]\u001b[A\n",
      " 65%|██████▍   | 53/82 [03:01<01:44,  3.61s/it]"
     ]
    },
    {
     "name": "stdout",
     "output_type": "stream",
     "text": [
      "MW\n"
     ]
    },
    {
     "name": "stderr",
     "output_type": "stream",
     "text": [
      "\n",
      "  0%|          | 0/1 [00:00<?, ?it/s]\u001b[A"
     ]
    },
    {
     "name": "stdout",
     "output_type": "stream",
     "text": [
      "C10-0000332-LIC\n"
     ]
    },
    {
     "name": "stderr",
     "output_type": "stream",
     "text": [
      "\n",
      "100%|██████████| 1/1 [00:02<00:00,  2.58s/it]\u001b[A\n",
      " 66%|██████▌   | 54/82 [03:03<01:32,  3.31s/it]"
     ]
    },
    {
     "name": "stdout",
     "output_type": "stream",
     "text": [
      "MPW\n"
     ]
    },
    {
     "name": "stderr",
     "output_type": "stream",
     "text": [
      "\n",
      "  0%|          | 0/1 [00:00<?, ?it/s]\u001b[A"
     ]
    },
    {
     "name": "stdout",
     "output_type": "stream",
     "text": [
      "C10-0000547-LIC\n"
     ]
    },
    {
     "name": "stderr",
     "output_type": "stream",
     "text": [
      "\n",
      "100%|██████████| 1/1 [00:03<00:00,  3.76s/it]\u001b[A\n",
      " 67%|██████▋   | 55/82 [03:07<01:32,  3.44s/it]"
     ]
    },
    {
     "name": "stdout",
     "output_type": "stream",
     "text": [
      "MD\n"
     ]
    },
    {
     "name": "stderr",
     "output_type": "stream",
     "text": [
      "\n",
      "  0%|          | 0/1 [00:00<?, ?it/s]\u001b[A"
     ]
    },
    {
     "name": "stdout",
     "output_type": "stream",
     "text": [
      "C9-0000247-LIC\n"
     ]
    },
    {
     "name": "stderr",
     "output_type": "stream",
     "text": [
      "\n",
      "100%|██████████| 1/1 [00:01<00:00,  1.79s/it]\u001b[A\n",
      " 68%|██████▊   | 56/82 [03:09<01:16,  2.95s/it]"
     ]
    },
    {
     "name": "stdout",
     "output_type": "stream",
     "text": [
      "ND\n"
     ]
    },
    {
     "name": "stderr",
     "output_type": "stream",
     "text": [
      "\n",
      "  0%|          | 0/1 [00:00<?, ?it/s]\u001b[A"
     ]
    },
    {
     "name": "stdout",
     "output_type": "stream",
     "text": [
      "C9-0000427-LIC\n"
     ]
    },
    {
     "name": "stderr",
     "output_type": "stream",
     "text": [
      "\n",
      "100%|██████████| 1/1 [00:01<00:00,  1.56s/it]\u001b[A\n",
      " 70%|██████▉   | 57/82 [03:10<01:03,  2.53s/it]"
     ]
    },
    {
     "name": "stdout",
     "output_type": "stream",
     "text": [
      "NECC\n"
     ]
    },
    {
     "name": "stderr",
     "output_type": "stream",
     "text": [
      "\n",
      "  0%|          | 0/1 [00:00<?, ?it/s]\u001b[A"
     ]
    },
    {
     "name": "stdout",
     "output_type": "stream",
     "text": [
      "MR283416\n"
     ]
    },
    {
     "name": "stderr",
     "output_type": "stream",
     "text": [
      "\n",
      "100%|██████████| 1/1 [00:01<00:00,  1.50s/it]\u001b[A\n",
      " 71%|███████   | 58/82 [03:12<00:53,  2.22s/it]"
     ]
    },
    {
     "name": "stdout",
     "output_type": "stream",
     "text": [
      "PGM\n"
     ]
    },
    {
     "name": "stderr",
     "output_type": "stream",
     "text": [
      "\n",
      "  0%|          | 0/11 [00:00<?, ?it/s]\u001b[A"
     ]
    },
    {
     "name": "stdout",
     "output_type": "stream",
     "text": [
      "PC-000415\n"
     ]
    },
    {
     "name": "stderr",
     "output_type": "stream",
     "text": [
      "\n",
      "  9%|▉         | 1/11 [00:01<00:14,  1.43s/it]\u001b[A"
     ]
    },
    {
     "name": "stdout",
     "output_type": "stream",
     "text": [
      "PC-000551\n"
     ]
    },
    {
     "name": "stderr",
     "output_type": "stream",
     "text": [
      "\n",
      " 18%|█▊        | 2/11 [00:02<00:12,  1.38s/it]\u001b[A"
     ]
    },
    {
     "name": "stdout",
     "output_type": "stream",
     "text": [
      "PC-000725\n"
     ]
    },
    {
     "name": "stderr",
     "output_type": "stream",
     "text": [
      "\n",
      " 27%|██▋       | 3/11 [00:04<00:11,  1.40s/it]\u001b[A"
     ]
    },
    {
     "name": "stdout",
     "output_type": "stream",
     "text": [
      "PC-000167\n"
     ]
    },
    {
     "name": "stderr",
     "output_type": "stream",
     "text": [
      "\n",
      " 36%|███▋      | 4/11 [00:05<00:09,  1.43s/it]\u001b[A"
     ]
    },
    {
     "name": "stdout",
     "output_type": "stream",
     "text": [
      "PC-000169\n"
     ]
    },
    {
     "name": "stderr",
     "output_type": "stream",
     "text": [
      "\n",
      " 45%|████▌     | 5/11 [00:06<00:08,  1.35s/it]\u001b[A"
     ]
    },
    {
     "name": "stdout",
     "output_type": "stream",
     "text": [
      "AU-R-000196\n"
     ]
    },
    {
     "name": "stderr",
     "output_type": "stream",
     "text": [
      "\n",
      " 55%|█████▍    | 6/11 [00:08<00:07,  1.59s/it]\u001b[A"
     ]
    },
    {
     "name": "stdout",
     "output_type": "stream",
     "text": [
      "AU-R-000197\n"
     ]
    },
    {
     "name": "stderr",
     "output_type": "stream",
     "text": [
      "\n",
      " 64%|██████▎   | 7/11 [00:10<00:06,  1.60s/it]\u001b[A"
     ]
    },
    {
     "name": "stdout",
     "output_type": "stream",
     "text": [
      "AU-R-000198\n"
     ]
    },
    {
     "name": "stderr",
     "output_type": "stream",
     "text": [
      "\n",
      " 73%|███████▎  | 8/11 [00:12<00:05,  1.74s/it]\u001b[A"
     ]
    },
    {
     "name": "stdout",
     "output_type": "stream",
     "text": [
      "AU-R-000366\n"
     ]
    },
    {
     "name": "stderr",
     "output_type": "stream",
     "text": [
      "\n",
      " 82%|████████▏ | 9/11 [00:14<00:03,  1.66s/it]\u001b[A"
     ]
    },
    {
     "name": "stdout",
     "output_type": "stream",
     "text": [
      "AU-R-000506\n"
     ]
    },
    {
     "name": "stderr",
     "output_type": "stream",
     "text": [
      "\n",
      " 91%|█████████ | 10/11 [00:15<00:01,  1.72s/it]\u001b[A"
     ]
    },
    {
     "name": "stdout",
     "output_type": "stream",
     "text": [
      "PC-000160\n"
     ]
    },
    {
     "name": "stderr",
     "output_type": "stream",
     "text": [
      "\n",
      "100%|██████████| 11/11 [00:17<00:00,  1.58s/it]\u001b[A\n",
      " 72%|███████▏  | 59/82 [03:29<02:35,  6.76s/it]"
     ]
    },
    {
     "name": "stdout",
     "output_type": "stream",
     "text": [
      "PRP\n"
     ]
    },
    {
     "name": "stderr",
     "output_type": "stream",
     "text": [
      "\n",
      "  0%|          | 0/3 [00:00<?, ?it/s]\u001b[A"
     ]
    },
    {
     "name": "stdout",
     "output_type": "stream",
     "text": [
      "C10-0000155-LIC\n"
     ]
    },
    {
     "name": "stderr",
     "output_type": "stream",
     "text": [
      "\n",
      " 33%|███▎      | 1/3 [00:01<00:03,  1.89s/it]\u001b[A"
     ]
    },
    {
     "name": "stdout",
     "output_type": "stream",
     "text": [
      "C10-0000286-LIC\n"
     ]
    },
    {
     "name": "stderr",
     "output_type": "stream",
     "text": [
      "\n",
      " 67%|██████▋   | 2/3 [00:03<00:01,  1.89s/it]\u001b[A"
     ]
    },
    {
     "name": "stdout",
     "output_type": "stream",
     "text": [
      "C10-0000403-LIC\n"
     ]
    },
    {
     "name": "stderr",
     "output_type": "stream",
     "text": [
      "\n",
      "100%|██████████| 3/3 [00:05<00:00,  1.92s/it]\u001b[A\n",
      " 73%|███████▎  | 60/82 [03:35<02:22,  6.47s/it]"
     ]
    },
    {
     "name": "stdout",
     "output_type": "stream",
     "text": [
      "PRL\n"
     ]
    },
    {
     "name": "stderr",
     "output_type": "stream",
     "text": [
      "\n",
      "  0%|          | 0/1 [00:00<?, ?it/s]\u001b[A"
     ]
    },
    {
     "name": "stdout",
     "output_type": "stream",
     "text": [
      "C10-0000759-LIC\n"
     ]
    },
    {
     "name": "stderr",
     "output_type": "stream",
     "text": [
      "\n",
      "100%|██████████| 1/1 [00:02<00:00,  2.13s/it]\u001b[A\n",
      " 74%|███████▍  | 61/82 [03:37<01:48,  5.17s/it]"
     ]
    },
    {
     "name": "stdout",
     "output_type": "stream",
     "text": [
      "QR\n"
     ]
    },
    {
     "name": "stderr",
     "output_type": "stream",
     "text": [
      "\n",
      "  0%|          | 0/4 [00:00<?, ?it/s]\u001b[A"
     ]
    },
    {
     "name": "stdout",
     "output_type": "stream",
     "text": [
      "AU-R-000233\n"
     ]
    },
    {
     "name": "stderr",
     "output_type": "stream",
     "text": [
      "\n",
      " 25%|██▌       | 1/4 [00:01<00:05,  1.72s/it]\u001b[A"
     ]
    },
    {
     "name": "stdout",
     "output_type": "stream",
     "text": [
      "AU-R-000346\n"
     ]
    },
    {
     "name": "stderr",
     "output_type": "stream",
     "text": [
      "\n",
      " 50%|█████     | 2/4 [00:03<00:03,  1.77s/it]\u001b[A"
     ]
    },
    {
     "name": "stdout",
     "output_type": "stream",
     "text": [
      "PC-000356\n"
     ]
    },
    {
     "name": "stderr",
     "output_type": "stream",
     "text": [
      "\n",
      " 75%|███████▌  | 3/4 [00:04<00:01,  1.54s/it]\u001b[A"
     ]
    },
    {
     "name": "stdout",
     "output_type": "stream",
     "text": [
      "AU-R-000633\n"
     ]
    },
    {
     "name": "stderr",
     "output_type": "stream",
     "text": [
      "\n",
      "100%|██████████| 4/4 [00:06<00:00,  1.61s/it]\u001b[A\n",
      " 76%|███████▌  | 62/82 [03:44<01:50,  5.55s/it]"
     ]
    },
    {
     "name": "stdout",
     "output_type": "stream",
     "text": [
      "MC\n"
     ]
    },
    {
     "name": "stderr",
     "output_type": "stream",
     "text": [
      "\n",
      "  0%|          | 0/1 [00:00<?, ?it/s]\u001b[A"
     ]
    },
    {
     "name": "stdout",
     "output_type": "stream",
     "text": [
      "050-10111574ADA\n"
     ]
    },
    {
     "name": "stderr",
     "output_type": "stream",
     "text": [
      "\n",
      "100%|██████████| 1/1 [00:01<00:00,  1.51s/it]\u001b[A\n",
      " 77%|███████▋  | 63/82 [03:45<01:22,  4.34s/it]"
     ]
    },
    {
     "name": "stdout",
     "output_type": "stream",
     "text": [
      "RA\n"
     ]
    },
    {
     "name": "stderr",
     "output_type": "stream",
     "text": [
      "\n",
      "  0%|          | 0/1 [00:00<?, ?it/s]\u001b[A"
     ]
    },
    {
     "name": "stdout",
     "output_type": "stream",
     "text": [
      "C10-0000596-LIC\n"
     ]
    },
    {
     "name": "stderr",
     "output_type": "stream",
     "text": [
      "\n",
      "100%|██████████| 1/1 [00:01<00:00,  1.96s/it]\u001b[A\n",
      " 78%|███████▊  | 64/82 [03:47<01:05,  3.63s/it]"
     ]
    },
    {
     "name": "stdout",
     "output_type": "stream",
     "text": [
      "RGD\n"
     ]
    },
    {
     "name": "stderr",
     "output_type": "stream",
     "text": [
      "\n",
      "  0%|          | 0/1 [00:00<?, ?it/s]\u001b[A"
     ]
    },
    {
     "name": "stdout",
     "output_type": "stream",
     "text": [
      "C9-0000057-LIC\n"
     ]
    },
    {
     "name": "stderr",
     "output_type": "stream",
     "text": [
      "\n",
      "100%|██████████| 1/1 [00:01<00:00,  1.81s/it]\u001b[A\n",
      " 79%|███████▉  | 65/82 [03:49<00:52,  3.08s/it]"
     ]
    },
    {
     "name": "stdout",
     "output_type": "stream",
     "text": [
      "SGF\n"
     ]
    },
    {
     "name": "stderr",
     "output_type": "stream",
     "text": [
      "\n",
      "  0%|          | 0/1 [00:00<?, ?it/s]\u001b[A"
     ]
    },
    {
     "name": "stdout",
     "output_type": "stream",
     "text": [
      "C9-0000454-LIC\n"
     ]
    },
    {
     "name": "stderr",
     "output_type": "stream",
     "text": [
      "\n",
      "100%|██████████| 1/1 [00:01<00:00,  1.44s/it]\u001b[A\n",
      " 80%|████████  | 66/82 [03:50<00:41,  2.59s/it]"
     ]
    },
    {
     "name": "stdout",
     "output_type": "stream",
     "text": [
      "SFV\n"
     ]
    },
    {
     "name": "stderr",
     "output_type": "stream",
     "text": [
      "\n",
      "  0%|          | 0/1 [00:00<?, ?it/s]\u001b[A"
     ]
    },
    {
     "name": "stdout",
     "output_type": "stream",
     "text": [
      "C10-0000041-LIC\n"
     ]
    },
    {
     "name": "stderr",
     "output_type": "stream",
     "text": [
      "\n",
      "100%|██████████| 1/1 [00:02<00:00,  2.22s/it]\u001b[A\n",
      " 82%|████████▏ | 67/82 [03:53<00:37,  2.48s/it]"
     ]
    },
    {
     "name": "stdout",
     "output_type": "stream",
     "text": [
      "SV\n"
     ]
    },
    {
     "name": "stderr",
     "output_type": "stream",
     "text": [
      "\n",
      "  0%|          | 0/1 [00:00<?, ?it/s]\u001b[A"
     ]
    },
    {
     "name": "stdout",
     "output_type": "stream",
     "text": [
      "C9-0000146-LIC\n"
     ]
    },
    {
     "name": "stderr",
     "output_type": "stream",
     "text": [
      "\n",
      "100%|██████████| 1/1 [00:01<00:00,  1.94s/it]\u001b[A\n",
      " 83%|████████▎ | 68/82 [03:55<00:32,  2.32s/it]"
     ]
    },
    {
     "name": "stdout",
     "output_type": "stream",
     "text": [
      "SLCC\n"
     ]
    },
    {
     "name": "stderr",
     "output_type": "stream",
     "text": [
      "\n",
      "  0%|          | 0/1 [00:00<?, ?it/s]\u001b[A"
     ]
    },
    {
     "name": "stdout",
     "output_type": "stream",
     "text": [
      "C10-0000474-LIC\n"
     ]
    },
    {
     "name": "stderr",
     "output_type": "stream",
     "text": [
      "\n",
      "100%|██████████| 1/1 [00:01<00:00,  1.81s/it]\u001b[A\n",
      " 84%|████████▍ | 69/82 [03:56<00:28,  2.17s/it]"
     ]
    },
    {
     "name": "stdout",
     "output_type": "stream",
     "text": [
      "SO\n"
     ]
    },
    {
     "name": "stderr",
     "output_type": "stream",
     "text": [
      "\n",
      "  0%|          | 0/3 [00:00<?, ?it/s]\u001b[A"
     ]
    },
    {
     "name": "stdout",
     "output_type": "stream",
     "text": [
      "C12-0000328-LIC\n"
     ]
    },
    {
     "name": "stderr",
     "output_type": "stream",
     "text": [
      "\n",
      " 33%|███▎      | 1/3 [00:01<00:02,  1.36s/it]\u001b[A"
     ]
    },
    {
     "name": "stdout",
     "output_type": "stream",
     "text": [
      "C9-0000130-LIC\n"
     ]
    },
    {
     "name": "stderr",
     "output_type": "stream",
     "text": [
      "\n",
      " 67%|██████▋   | 2/3 [00:03<00:01,  1.54s/it]\u001b[A"
     ]
    },
    {
     "name": "stdout",
     "output_type": "stream",
     "text": [
      "C10-0000271-LIC\n"
     ]
    },
    {
     "name": "stderr",
     "output_type": "stream",
     "text": [
      "\n",
      "100%|██████████| 3/3 [00:04<00:00,  1.56s/it]\u001b[A\n",
      " 85%|████████▌ | 70/82 [04:01<00:35,  2.92s/it]"
     ]
    },
    {
     "name": "stdout",
     "output_type": "stream",
     "text": [
      "ST\n"
     ]
    },
    {
     "name": "stderr",
     "output_type": "stream",
     "text": [
      "\n",
      "  0%|          | 0/1 [00:00<?, ?it/s]\u001b[A"
     ]
    },
    {
     "name": "stdout",
     "output_type": "stream",
     "text": [
      "C9-0000323-LIC\n"
     ]
    },
    {
     "name": "stderr",
     "output_type": "stream",
     "text": [
      "\n",
      "100%|██████████| 1/1 [00:01<00:00,  1.67s/it]\u001b[A\n",
      " 87%|████████▋ | 71/82 [04:03<00:28,  2.55s/it]"
     ]
    },
    {
     "name": "stdout",
     "output_type": "stream",
     "text": [
      "DW\n"
     ]
    },
    {
     "name": "stderr",
     "output_type": "stream",
     "text": [
      "\n",
      "  0%|          | 0/1 [00:00<?, ?it/s]\u001b[A"
     ]
    },
    {
     "name": "stdout",
     "output_type": "stream",
     "text": [
      "MR282376\n"
     ]
    },
    {
     "name": "stderr",
     "output_type": "stream",
     "text": [
      "\n",
      "100%|██████████| 1/1 [00:01<00:00,  1.70s/it]\u001b[A\n",
      " 88%|████████▊ | 72/82 [04:04<00:22,  2.29s/it]"
     ]
    },
    {
     "name": "stdout",
     "output_type": "stream",
     "text": [
      "FD\n"
     ]
    },
    {
     "name": "stderr",
     "output_type": "stream",
     "text": [
      "\n",
      "  0%|          | 0/1 [00:00<?, ?it/s]\u001b[A"
     ]
    },
    {
     "name": "stdout",
     "output_type": "stream",
     "text": [
      "C10-0000916-LIC\n"
     ]
    },
    {
     "name": "stderr",
     "output_type": "stream",
     "text": [
      "\n",
      "100%|██████████| 1/1 [00:01<00:00,  1.53s/it]\u001b[A\n",
      " 89%|████████▉ | 73/82 [04:06<00:18,  2.07s/it]"
     ]
    },
    {
     "name": "stdout",
     "output_type": "stream",
     "text": [
      "TGL\n"
     ]
    },
    {
     "name": "stderr",
     "output_type": "stream",
     "text": [
      "\n",
      "  0%|          | 0/1 [00:00<?, ?it/s]\u001b[A"
     ]
    },
    {
     "name": "stdout",
     "output_type": "stream",
     "text": [
      "C9-0000412-LIC\n"
     ]
    },
    {
     "name": "stderr",
     "output_type": "stream",
     "text": [
      "\n",
      "100%|██████████| 1/1 [00:01<00:00,  1.42s/it]\u001b[A\n",
      " 90%|█████████ | 74/82 [04:07<00:14,  1.87s/it]"
     ]
    },
    {
     "name": "stdout",
     "output_type": "stream",
     "text": [
      "TJR\n"
     ]
    },
    {
     "name": "stderr",
     "output_type": "stream",
     "text": [
      "\n",
      "  0%|          | 0/1 [00:00<?, ?it/s]\u001b[A"
     ]
    },
    {
     "name": "stdout",
     "output_type": "stream",
     "text": [
      "C9-0000105-LIC\n"
     ]
    },
    {
     "name": "stderr",
     "output_type": "stream",
     "text": [
      "\n",
      "100%|██████████| 1/1 [00:11<00:00, 11.91s/it]\u001b[A\n",
      " 91%|█████████▏| 75/82 [04:19<00:34,  4.88s/it]"
     ]
    },
    {
     "name": "stdout",
     "output_type": "stream",
     "text": [
      "TTS\n"
     ]
    },
    {
     "name": "stderr",
     "output_type": "stream",
     "text": [
      "\n",
      "  0%|          | 0/2 [00:00<?, ?it/s]\u001b[A"
     ]
    },
    {
     "name": "stdout",
     "output_type": "stream",
     "text": [
      "PC-000718\n"
     ]
    },
    {
     "name": "stderr",
     "output_type": "stream",
     "text": [
      "\n",
      " 50%|█████     | 1/2 [00:01<00:01,  1.65s/it]\u001b[A"
     ]
    },
    {
     "name": "stdout",
     "output_type": "stream",
     "text": [
      "AU-R-000546\n"
     ]
    },
    {
     "name": "stderr",
     "output_type": "stream",
     "text": [
      "\n",
      "100%|██████████| 2/2 [00:03<00:00,  1.52s/it]\u001b[A\n",
      " 93%|█████████▎| 76/82 [04:22<00:25,  4.33s/it]"
     ]
    },
    {
     "name": "stdout",
     "output_type": "stream",
     "text": [
      "TT\n"
     ]
    },
    {
     "name": "stderr",
     "output_type": "stream",
     "text": [
      "\n",
      "  0%|          | 0/2 [00:00<?, ?it/s]\u001b[A"
     ]
    },
    {
     "name": "stdout",
     "output_type": "stream",
     "text": [
      "C9-0000551-LIC\n"
     ]
    },
    {
     "name": "stderr",
     "output_type": "stream",
     "text": [
      "\n",
      " 50%|█████     | 1/2 [00:01<00:01,  1.42s/it]\u001b[A"
     ]
    },
    {
     "name": "stdout",
     "output_type": "stream",
     "text": [
      "C9-0000451-LIC\n"
     ]
    },
    {
     "name": "stderr",
     "output_type": "stream",
     "text": [
      "\n",
      "100%|██████████| 2/2 [00:02<00:00,  1.42s/it]\u001b[A\n",
      " 94%|█████████▍| 77/82 [04:25<00:19,  3.89s/it]"
     ]
    },
    {
     "name": "stdout",
     "output_type": "stream",
     "text": [
      "T4L\n"
     ]
    },
    {
     "name": "stderr",
     "output_type": "stream",
     "text": [
      "\n",
      "  0%|          | 0/1 [00:00<?, ?it/s]\u001b[A"
     ]
    },
    {
     "name": "stdout",
     "output_type": "stream",
     "text": [
      "C12-0000302-LIC\n"
     ]
    },
    {
     "name": "stderr",
     "output_type": "stream",
     "text": [
      "\n",
      "100%|██████████| 1/1 [00:01<00:00,  1.63s/it]\u001b[A\n",
      " 95%|█████████▌| 78/82 [04:27<00:12,  3.21s/it]"
     ]
    },
    {
     "name": "stdout",
     "output_type": "stream",
     "text": [
      "TL\n"
     ]
    },
    {
     "name": "stderr",
     "output_type": "stream",
     "text": [
      "\n",
      "  0%|          | 0/19 [00:00<?, ?it/s]\u001b[A"
     ]
    },
    {
     "name": "stdout",
     "output_type": "stream",
     "text": [
      "402-00390\n"
     ]
    },
    {
     "name": "stderr",
     "output_type": "stream",
     "text": [
      "\n",
      "  5%|▌         | 1/19 [00:01<00:32,  1.81s/it]\u001b[A"
     ]
    },
    {
     "name": "stdout",
     "output_type": "stream",
     "text": [
      "402R-00807\n"
     ]
    },
    {
     "name": "stderr",
     "output_type": "stream",
     "text": [
      "\n",
      " 11%|█         | 2/19 [00:03<00:32,  1.88s/it]\u001b[A"
     ]
    },
    {
     "name": "stdout",
     "output_type": "stream",
     "text": [
      "402-00473\n"
     ]
    },
    {
     "name": "stderr",
     "output_type": "stream",
     "text": [
      "\n",
      " 16%|█▌        | 3/19 [00:05<00:29,  1.83s/it]\u001b[A"
     ]
    },
    {
     "name": "stdout",
     "output_type": "stream",
     "text": [
      "402-01201\n"
     ]
    },
    {
     "name": "stderr",
     "output_type": "stream",
     "text": [
      "\n",
      " 21%|██        | 4/19 [00:07<00:29,  1.95s/it]\u001b[A"
     ]
    },
    {
     "name": "stdout",
     "output_type": "stream",
     "text": [
      "402R-00066\n"
     ]
    },
    {
     "name": "stderr",
     "output_type": "stream",
     "text": [
      "\n",
      " 26%|██▋       | 5/19 [00:09<00:26,  1.89s/it]\u001b[A"
     ]
    },
    {
     "name": "stdout",
     "output_type": "stream",
     "text": [
      "402R-00487\n"
     ]
    },
    {
     "name": "stderr",
     "output_type": "stream",
     "text": [
      "\n",
      " 32%|███▏      | 6/19 [00:10<00:20,  1.61s/it]\u001b[A"
     ]
    },
    {
     "name": "stdout",
     "output_type": "stream",
     "text": [
      "402R-00505\n"
     ]
    },
    {
     "name": "stderr",
     "output_type": "stream",
     "text": [
      "\n",
      " 37%|███▋      | 7/19 [00:11<00:17,  1.46s/it]\u001b[A"
     ]
    },
    {
     "name": "stdout",
     "output_type": "stream",
     "text": [
      "402R-00536\n"
     ]
    },
    {
     "name": "stderr",
     "output_type": "stream",
     "text": [
      "\n",
      " 42%|████▏     | 8/19 [00:13<00:16,  1.53s/it]\u001b[A"
     ]
    },
    {
     "name": "stdout",
     "output_type": "stream",
     "text": [
      "402R-00571\n"
     ]
    },
    {
     "name": "stderr",
     "output_type": "stream",
     "text": [
      "\n",
      " 47%|████▋     | 9/19 [00:14<00:14,  1.40s/it]\u001b[A"
     ]
    },
    {
     "name": "stdout",
     "output_type": "stream",
     "text": [
      "402R-00602\n"
     ]
    },
    {
     "name": "stderr",
     "output_type": "stream",
     "text": [
      "\n",
      " 53%|█████▎    | 10/19 [00:16<00:13,  1.50s/it]\u001b[A"
     ]
    },
    {
     "name": "stdout",
     "output_type": "stream",
     "text": [
      "402R-00808\n"
     ]
    },
    {
     "name": "stderr",
     "output_type": "stream",
     "text": [
      "\n",
      " 58%|█████▊    | 11/19 [00:17<00:11,  1.40s/it]\u001b[A"
     ]
    },
    {
     "name": "stdout",
     "output_type": "stream",
     "text": [
      "402-00370\n"
     ]
    },
    {
     "name": "stderr",
     "output_type": "stream",
     "text": [
      "\n",
      " 63%|██████▎   | 12/19 [00:18<00:10,  1.43s/it]\u001b[A"
     ]
    },
    {
     "name": "stdout",
     "output_type": "stream",
     "text": [
      "402-01142\n"
     ]
    },
    {
     "name": "stderr",
     "output_type": "stream",
     "text": [
      "\n",
      " 68%|██████▊   | 13/19 [00:20<00:08,  1.48s/it]\u001b[A"
     ]
    },
    {
     "name": "stdout",
     "output_type": "stream",
     "text": [
      "402R-00041\n"
     ]
    },
    {
     "name": "stderr",
     "output_type": "stream",
     "text": [
      "\n",
      " 74%|███████▎  | 14/19 [00:22<00:07,  1.56s/it]\u001b[A"
     ]
    },
    {
     "name": "stdout",
     "output_type": "stream",
     "text": [
      "402R-00242\n"
     ]
    },
    {
     "name": "stderr",
     "output_type": "stream",
     "text": [
      "\n",
      " 79%|███████▉  | 15/19 [00:23<00:05,  1.44s/it]\u001b[A"
     ]
    },
    {
     "name": "stdout",
     "output_type": "stream",
     "text": [
      "402R-00246\n"
     ]
    },
    {
     "name": "stderr",
     "output_type": "stream",
     "text": [
      "\n",
      " 84%|████████▍ | 16/19 [00:24<00:04,  1.37s/it]\u001b[A"
     ]
    },
    {
     "name": "stdout",
     "output_type": "stream",
     "text": [
      "402R-00362\n"
     ]
    },
    {
     "name": "stderr",
     "output_type": "stream",
     "text": [
      "\n",
      " 89%|████████▉ | 17/19 [00:25<00:02,  1.27s/it]\u001b[A"
     ]
    },
    {
     "name": "stdout",
     "output_type": "stream",
     "text": [
      "402R-00573\n"
     ]
    },
    {
     "name": "stderr",
     "output_type": "stream",
     "text": [
      "\n",
      " 95%|█████████▍| 18/19 [00:27<00:01,  1.39s/it]\u001b[A"
     ]
    },
    {
     "name": "stdout",
     "output_type": "stream",
     "text": [
      "402R-00781\n"
     ]
    },
    {
     "name": "stderr",
     "output_type": "stream",
     "text": [
      "\n",
      "100%|██████████| 19/19 [00:28<00:00,  1.53s/it]\u001b[A\n",
      " 96%|█████████▋| 79/82 [04:56<00:32, 10.94s/it]"
     ]
    },
    {
     "name": "stdout",
     "output_type": "stream",
     "text": [
      "UHHC\n"
     ]
    },
    {
     "name": "stderr",
     "output_type": "stream",
     "text": [
      "\n",
      "  0%|          | 0/2 [00:00<?, ?it/s]\u001b[A"
     ]
    },
    {
     "name": "stdout",
     "output_type": "stream",
     "text": [
      "C10-0000817-LIC\n"
     ]
    },
    {
     "name": "stderr",
     "output_type": "stream",
     "text": [
      "\n",
      " 50%|█████     | 1/2 [00:01<00:01,  1.74s/it]\u001b[A"
     ]
    },
    {
     "name": "stdout",
     "output_type": "stream",
     "text": [
      "C9-0000082-LIC\n"
     ]
    },
    {
     "name": "stderr",
     "output_type": "stream",
     "text": [
      "\n",
      "100%|██████████| 2/2 [00:03<00:00,  1.81s/it]\u001b[A\n",
      " 98%|█████████▊| 80/82 [04:59<00:17,  8.75s/it]"
     ]
    },
    {
     "name": "stdout",
     "output_type": "stream",
     "text": [
      "VS\n"
     ]
    },
    {
     "name": "stderr",
     "output_type": "stream",
     "text": [
      "\n",
      "  0%|          | 0/2 [00:00<?, ?it/s]\u001b[A"
     ]
    },
    {
     "name": "stdout",
     "output_type": "stream",
     "text": [
      "402-00840\n"
     ]
    },
    {
     "name": "stderr",
     "output_type": "stream",
     "text": [
      "\n",
      " 50%|█████     | 1/2 [00:01<00:01,  1.62s/it]\u001b[A"
     ]
    },
    {
     "name": "stdout",
     "output_type": "stream",
     "text": [
      "402R-00545\n"
     ]
    },
    {
     "name": "stderr",
     "output_type": "stream",
     "text": [
      "\n",
      "100%|██████████| 2/2 [00:03<00:00,  1.96s/it]\u001b[A\n",
      " 99%|█████████▉| 81/82 [05:03<00:07,  7.30s/it]"
     ]
    },
    {
     "name": "stdout",
     "output_type": "stream",
     "text": [
      "VOY\n"
     ]
    },
    {
     "name": "stderr",
     "output_type": "stream",
     "text": [
      "\n",
      "  0%|          | 0/3 [00:00<?, ?it/s]\u001b[A"
     ]
    },
    {
     "name": "stdout",
     "output_type": "stream",
     "text": [
      "C12-0000030-LIC\n"
     ]
    },
    {
     "name": "stderr",
     "output_type": "stream",
     "text": [
      "\n",
      " 33%|███▎      | 1/3 [00:02<00:04,  2.11s/it]\u001b[A"
     ]
    },
    {
     "name": "stdout",
     "output_type": "stream",
     "text": [
      "C10-0000802-LIC\n"
     ]
    },
    {
     "name": "stderr",
     "output_type": "stream",
     "text": [
      "\n",
      " 67%|██████▋   | 2/3 [00:03<00:01,  1.83s/it]\u001b[A"
     ]
    },
    {
     "name": "stdout",
     "output_type": "stream",
     "text": [
      "C12-0000159-LIC\n"
     ]
    },
    {
     "name": "stderr",
     "output_type": "stream",
     "text": [
      "\n",
      "100%|██████████| 3/3 [00:05<00:00,  1.77s/it]\u001b[A\n",
      "100%|██████████| 82/82 [05:09<00:00,  3.77s/it]\n"
     ]
    }
   ],
   "source": [
    "t1,t2,t3,t4 = get_inv_val_list(list(ca_df_clean['company_identifier']),ca_df_clean)\n",
    "\n",
    "\n"
   ]
  },
  {
   "cell_type": "code",
   "execution_count": 44,
   "id": "37751f52",
   "metadata": {},
   "outputs": [
    {
     "data": {
      "text/plain": [
       "dict_keys(['99HT', 'AGA', 'ALT', 'BS', 'BMC', 'BBF', 'BUD', 'BRC', 'BYN', 'CHO', 'CG', 'CPA', 'CPC', 'CSC', 'CSCC', 'CCC', 'CLC', 'CC', 'CED', 'DWF', 'DCO', 'DL', 'DGG', 'DG', 'EL', 'EMA', 'EMF', 'EMM', 'EMT', 'EPC', 'EH', 'FI', 'FW', 'GTC', 'GT', 'GLNR', 'GRG', 'GTR', 'GHC', 'GFEE', 'GFWF', 'HB', 'HS', 'HPCC', 'HC', 'IDC', 'ID', 'KAR', 'KC', 'LEG', 'LBC', 'MSS', 'ML', 'MW', 'MPW', 'MD', 'ND', 'NECC', 'PGM', 'PRP', 'PRL', 'QR', 'MC', 'RA', 'RGD', 'SGF', 'SFV', 'SV', 'SLCC', 'SO', 'ST', 'DW', 'FD', 'TGL', 'TJR', 'TTS', 'TT', 'T4L', 'TL', 'UHHC', 'VS', 'VOY'])"
      ]
     },
     "execution_count": 44,
     "metadata": {},
     "output_type": "execute_result"
    }
   ],
   "source": [
    "t4.keys()"
   ]
  },
  {
   "cell_type": "code",
   "execution_count": 45,
   "id": "a7a04d3a",
   "metadata": {},
   "outputs": [],
   "source": [
    "def decompress_inv_dict(inv_dict):\n",
    "    df_decompress = pd.DataFrame()\n",
    "    for k in inv_dict.keys():\n",
    "        print(k)\n",
    "        for l in inv_dict[k].keys():\n",
    "            print(l)\n",
    "            data_inv_val = inv_dict[k][l]\n",
    "            if str(data_inv_val) == 'nan':\n",
    "                continue\n",
    "            else:\n",
    "                data_inv_val['company'] = k\n",
    "                data_inv_val['location'] = l\n",
    "                print(data_inv_val.shape)\n",
    "                df_decompress = df_decompress.append(data_inv_val)\n",
    "    return df_decompress\n",
    "    "
   ]
  },
  {
   "cell_type": "code",
   "execution_count": 46,
   "id": "961976df",
   "metadata": {},
   "outputs": [
    {
     "name": "stdout",
     "output_type": "stream",
     "text": [
      "99HT\n",
      "C10-0000279-LIC\n",
      "(1, 10)\n",
      "AGA\n",
      "C10-0000341-LIC\n",
      "(1, 10)\n",
      "ALT\n",
      "PC-000310\n",
      "(1, 10)\n",
      "AU-R-000380\n",
      "(1, 10)\n",
      "BS\n",
      "AU-R-000156\n",
      "(1, 10)\n",
      "PC-000185\n",
      "(1, 10)\n",
      "BMC\n",
      "402-00930\n",
      "(1, 10)\n",
      "BBF\n",
      "MR281525\n",
      "(1, 10)\n",
      "BUD\n",
      "C9-0000444-LIC\n",
      "(1, 10)\n",
      "C9-0000464-LIC\n",
      "(1, 10)\n",
      "C9-0000467-LIC\n",
      "(1, 10)\n",
      "C9-0000167-LIC\n",
      "(1, 10)\n",
      "C9-0000399-LIC\n",
      "(1, 10)\n",
      "BRC\n",
      "C10-0000603-LIC\n",
      "(1, 10)\n",
      "BYN\n",
      "C10-0000528-LIC\n",
      "(1, 10)\n",
      "CHO\n",
      "AU-R-000575\n",
      "(1, 10)\n",
      "CG\n",
      "C9-0000157-LIC\n",
      "(1, 10)\n",
      "CPA\n",
      "C9-0000348-LIC\n",
      "(1, 10)\n",
      "C10-0000461-LIC\n",
      "(1, 10)\n",
      "CPC\n",
      "C9-0000056-LIC\n",
      "(1, 10)\n",
      "CSC\n",
      "C10-0000670-LIC\n",
      "(1, 10)\n",
      "CSCC\n",
      "C10-0000918-LIC\n",
      "(1, 10)\n",
      "CCC\n",
      "C12-0000087-LIC\n",
      "(1, 10)\n",
      "CLC\n",
      "C10-0000986-LIC\n",
      "C12-0000318-LIC\n",
      "(1, 10)\n",
      "CC\n",
      "C10-0000758-LIC\n",
      "(1, 10)\n",
      "CED\n",
      "C9-0000094-LIC\n",
      "(1, 10)\n",
      "DWF\n",
      "402R-00296\n",
      "(1, 10)\n",
      "402R-00804\n",
      "(1, 10)\n",
      "DCO\n",
      "050-10052885D4C\n",
      "(1, 10)\n",
      "050-10070593E9E\n",
      "(1, 10)\n",
      "DL\n",
      "MR283369\n",
      "(1, 10)\n",
      "DGG\n",
      "C9-0000016-LIC\n",
      "(1, 10)\n",
      "DG\n",
      "AU-R-000287\n",
      "(1, 10)\n",
      "AU-R-000359\n",
      "(1, 10)\n",
      "AU-R-000422\n",
      "(1, 10)\n",
      "AU-R-000470\n",
      "(1, 10)\n",
      "AU-R-000572\n",
      "(1, 10)\n",
      "PC-000485\n",
      "EL\n",
      "C9-0000370-LIC\n",
      "(1, 10)\n",
      "EMA\n",
      "C10-0000774-LIC\n",
      "(1, 10)\n",
      "EMF\n",
      "C10-0000939-LIC\n",
      "(1, 10)\n",
      "EMM\n",
      "C10-0000786-LIC\n",
      "(1, 10)\n",
      "EMT\n",
      "C10-0000695-LIC\n",
      "(1, 10)\n",
      "EPC\n",
      "C10-0000034-LIC\n",
      "(1, 10)\n",
      "EH\n",
      "MR283073\n",
      "(1, 10)\n",
      "FI\n",
      "C10-0000606-LIC\n",
      "C10-0000753-LIC\n",
      "(1, 10)\n",
      "C12-0000400-LIC\n",
      "(1, 10)\n",
      "FW\n",
      "402-00558\n",
      "(1, 10)\n",
      "402-00891\n",
      "(1, 10)\n",
      "402R-00017\n",
      "(1, 10)\n",
      "402R-00020\n",
      "(1, 10)\n",
      "402R-00747\n",
      "(1, 10)\n",
      "GTC\n",
      "C10-0000849-LIC\n",
      "(1, 10)\n",
      "GT\n",
      "C9-0000385-LIC\n",
      "(1, 10)\n",
      "C9-0000170-LIC\n",
      "(1, 10)\n",
      "GLNR\n",
      "PC-000334\n",
      "(1, 10)\n",
      "PC-000613\n",
      "(1, 10)\n",
      "PC-000722\n",
      "(1, 10)\n",
      "AU-R-000182\n",
      "(1, 10)\n",
      "AU-R-000461\n",
      "(1, 10)\n",
      "AU-R-000559\n",
      "(1, 10)\n",
      "GRG\n",
      "C10-0000169-LIC\n",
      "(1, 10)\n",
      "C10-0000408-LIC\n",
      "(1, 10)\n",
      "GTR\n",
      "PC-000225\n",
      "(1, 10)\n",
      "AU-R-000163\n",
      "(1, 10)\n",
      "GHC\n",
      "C10-0000414-LIC\n",
      "(1, 10)\n",
      "GFEE\n",
      "C10-0000224-LIC\n",
      "(1, 10)\n",
      "GFWF\n",
      "C10-0000117-LIC\n",
      "(1, 10)\n",
      "HB\n",
      "C10-0000624-LIC\n",
      "(1, 10)\n",
      "C10-0000301-LIC\n",
      "(1, 10)\n",
      "C10-0000339-LIC\n",
      "(1, 10)\n",
      "HS\n",
      "C9-0000441-LIC\n",
      "(1, 10)\n",
      "HPCC\n",
      "C10-0000064-LIC\n",
      "(1, 10)\n",
      "C10-0000005-LIC\n",
      "(1, 10)\n",
      "HC\n",
      "C9-0000341-LIC\n",
      "(1, 10)\n",
      "IDC\n",
      "C9-0000320-LIC\n",
      "(1, 10)\n",
      "ID\n",
      "C9-0000166-LIC\n",
      "(1, 10)\n",
      "KAR\n",
      "402-00693\n",
      "(1, 10)\n",
      "402R-00744\n",
      "(1, 10)\n",
      "KC\n",
      "402-00323\n",
      "(1, 10)\n",
      "402-00573\n",
      "(1, 10)\n",
      "402-00664\n",
      "(1, 10)\n",
      "402R-00515\n",
      "(1, 10)\n",
      "402R-00544\n",
      "(1, 10)\n",
      "402R-00900\n",
      "(1, 10)\n",
      "402R-00002\n",
      "(1, 10)\n",
      "402-01146\n",
      "(1, 10)\n",
      "402-00037\n",
      "(1, 10)\n",
      "402R-00035\n",
      "(1, 10)\n",
      "402R-00574\n",
      "(1, 10)\n",
      "LEG\n",
      "PC-000231\n",
      "(1, 10)\n",
      "PC-000335\n",
      "(1, 10)\n",
      "AU-R-000260\n",
      "(1, 10)\n",
      "AU-R-000261\n",
      "(1, 10)\n",
      "LBC\n",
      "C9-0000154-LIC\n",
      "(1, 10)\n",
      "MSS\n",
      "C10-0000816-LIC\n",
      "(1, 10)\n",
      "ML\n",
      "C9-0000300-LIC\n",
      "(1, 10)\n",
      "MW\n",
      "C10-0000332-LIC\n",
      "(1, 10)\n",
      "MPW\n",
      "C10-0000547-LIC\n",
      "(1, 10)\n",
      "MD\n",
      "C9-0000247-LIC\n",
      "(1, 10)\n",
      "ND\n",
      "C9-0000427-LIC\n",
      "(1, 10)\n",
      "NECC\n",
      "MR283416\n",
      "(1, 10)\n",
      "PGM\n",
      "PC-000415\n",
      "(1, 10)\n",
      "PC-000551\n",
      "(1, 10)\n",
      "PC-000725\n",
      "(1, 10)\n",
      "PC-000167\n",
      "(1, 10)\n",
      "PC-000169\n",
      "AU-R-000196\n",
      "(1, 10)\n",
      "AU-R-000197\n",
      "(1, 10)\n",
      "AU-R-000198\n",
      "(1, 10)\n",
      "AU-R-000366\n",
      "(1, 10)\n",
      "AU-R-000506\n",
      "(1, 10)\n",
      "PC-000160\n",
      "(1, 10)\n",
      "PRP\n",
      "C10-0000155-LIC\n",
      "(1, 10)\n",
      "C10-0000286-LIC\n",
      "(1, 10)\n",
      "C10-0000403-LIC\n",
      "(1, 10)\n",
      "PRL\n",
      "C10-0000759-LIC\n",
      "(1, 10)\n",
      "QR\n",
      "AU-R-000233\n",
      "(1, 10)\n",
      "AU-R-000346\n",
      "(1, 10)\n",
      "PC-000356\n",
      "AU-R-000633\n",
      "(1, 10)\n",
      "MC\n",
      "050-10111574ADA\n",
      "(1, 10)\n",
      "RA\n",
      "C10-0000596-LIC\n",
      "(1, 10)\n",
      "RGD\n",
      "C9-0000057-LIC\n",
      "(1, 10)\n",
      "SGF\n",
      "C9-0000454-LIC\n",
      "(1, 10)\n",
      "SFV\n",
      "C10-0000041-LIC\n",
      "(1, 10)\n",
      "SV\n",
      "C9-0000146-LIC\n",
      "(1, 10)\n",
      "SLCC\n",
      "C10-0000474-LIC\n",
      "(1, 10)\n",
      "SO\n",
      "C12-0000328-LIC\n",
      "(1, 10)\n",
      "C9-0000130-LIC\n",
      "(1, 10)\n",
      "C10-0000271-LIC\n",
      "(1, 10)\n",
      "ST\n",
      "C9-0000323-LIC\n",
      "(1, 10)\n",
      "DW\n",
      "MR282376\n",
      "(1, 10)\n",
      "FD\n",
      "C10-0000916-LIC\n",
      "(1, 10)\n",
      "TGL\n",
      "C9-0000412-LIC\n",
      "(1, 10)\n",
      "TJR\n",
      "C9-0000105-LIC\n",
      "(1, 10)\n",
      "TTS\n",
      "PC-000718\n",
      "(1, 10)\n",
      "AU-R-000546\n",
      "(1, 10)\n",
      "TT\n",
      "C9-0000551-LIC\n",
      "(1, 10)\n",
      "C9-0000451-LIC\n",
      "(1, 10)\n",
      "T4L\n",
      "C12-0000302-LIC\n",
      "(1, 10)\n",
      "TL\n",
      "402-00390\n",
      "(1, 10)\n",
      "402R-00807\n",
      "(1, 10)\n",
      "402-00473\n",
      "(1, 10)\n",
      "402-01201\n",
      "(1, 10)\n",
      "402R-00066\n",
      "(1, 10)\n",
      "402R-00487\n",
      "402R-00505\n",
      "402R-00536\n",
      "(1, 10)\n",
      "402R-00571\n",
      "402R-00602\n",
      "(1, 10)\n",
      "402R-00808\n",
      "402-00370\n",
      "(1, 10)\n",
      "402-01142\n",
      "(1, 10)\n",
      "402R-00041\n",
      "(1, 10)\n",
      "402R-00242\n",
      "402R-00246\n",
      "402R-00362\n",
      "402R-00573\n",
      "(1, 10)\n",
      "402R-00781\n",
      "(1, 10)\n",
      "UHHC\n",
      "C10-0000817-LIC\n",
      "(1, 10)\n",
      "C9-0000082-LIC\n",
      "(1, 10)\n",
      "VS\n",
      "402-00840\n",
      "(1, 10)\n",
      "402R-00545\n",
      "(1, 10)\n",
      "VOY\n",
      "C12-0000030-LIC\n",
      "(1, 10)\n",
      "C10-0000802-LIC\n",
      "(1, 10)\n",
      "C12-0000159-LIC\n",
      "(1, 10)\n",
      "99HT\n",
      "C10-0000279-LIC\n",
      "(1, 10)\n",
      "AGA\n",
      "C10-0000341-LIC\n",
      "(1, 10)\n",
      "ALT\n",
      "PC-000310\n",
      "(1, 10)\n",
      "AU-R-000380\n",
      "(1, 10)\n",
      "BS\n",
      "AU-R-000156\n",
      "(1, 10)\n",
      "PC-000185\n",
      "(1, 10)\n",
      "BMC\n",
      "402-00930\n",
      "(1, 10)\n",
      "BBF\n",
      "MR281525\n",
      "(1, 10)\n",
      "BUD\n",
      "C9-0000444-LIC\n",
      "(1, 10)\n",
      "C9-0000464-LIC\n",
      "(1, 10)\n",
      "C9-0000467-LIC\n",
      "(1, 10)\n",
      "C9-0000167-LIC\n",
      "(1, 10)\n",
      "C9-0000399-LIC\n",
      "(1, 10)\n",
      "BRC\n",
      "C10-0000603-LIC\n",
      "(1, 10)\n",
      "BYN\n",
      "C10-0000528-LIC\n",
      "(1, 10)\n",
      "CHO\n",
      "AU-R-000575\n",
      "(1, 10)\n",
      "CG\n",
      "C9-0000157-LIC\n",
      "(1, 10)\n",
      "CPA\n",
      "C9-0000348-LIC\n",
      "(1, 10)\n",
      "C10-0000461-LIC\n",
      "(1, 10)\n",
      "CPC\n",
      "C9-0000056-LIC\n",
      "(1, 10)\n",
      "CSC\n",
      "C10-0000670-LIC\n",
      "(1, 10)\n",
      "CSCC\n",
      "C10-0000918-LIC\n",
      "(1, 10)\n",
      "CCC\n",
      "C12-0000087-LIC\n",
      "(1, 10)\n",
      "CLC\n",
      "C10-0000986-LIC\n",
      "C12-0000318-LIC\n",
      "(1, 10)\n",
      "CC\n",
      "C10-0000758-LIC\n",
      "(1, 10)\n",
      "CED\n",
      "C9-0000094-LIC\n",
      "(1, 10)\n",
      "DWF\n",
      "402R-00296\n",
      "(1, 10)\n",
      "402R-00804\n",
      "(1, 10)\n",
      "DCO\n",
      "050-10052885D4C\n",
      "(1, 10)\n",
      "050-10070593E9E\n",
      "(1, 10)\n",
      "DL\n",
      "MR283369\n",
      "(1, 10)\n",
      "DGG\n",
      "C9-0000016-LIC\n",
      "(1, 10)\n",
      "DG\n",
      "AU-R-000287\n",
      "(1, 10)\n",
      "AU-R-000359\n",
      "(1, 10)\n",
      "AU-R-000422\n",
      "(1, 10)\n",
      "AU-R-000470\n",
      "(1, 10)\n",
      "AU-R-000572\n",
      "(1, 10)\n",
      "PC-000485\n",
      "EL\n",
      "C9-0000370-LIC\n",
      "(1, 10)\n",
      "EMA\n",
      "C10-0000774-LIC\n",
      "(1, 10)\n",
      "EMF\n",
      "C10-0000939-LIC\n",
      "(1, 10)\n",
      "EMM\n",
      "C10-0000786-LIC\n",
      "(1, 10)\n",
      "EMT\n",
      "C10-0000695-LIC\n",
      "(1, 10)\n",
      "EPC\n",
      "C10-0000034-LIC\n",
      "(1, 10)\n",
      "EH\n",
      "MR283073\n",
      "(1, 10)\n",
      "FI\n",
      "C10-0000606-LIC\n",
      "C10-0000753-LIC\n",
      "(1, 10)\n",
      "C12-0000400-LIC\n",
      "(1, 10)\n",
      "FW\n",
      "402-00558\n",
      "(1, 10)\n",
      "402-00891\n",
      "(1, 10)\n",
      "402R-00017\n",
      "(1, 10)\n",
      "402R-00020\n",
      "(1, 10)\n",
      "402R-00747\n",
      "(1, 10)\n",
      "GTC\n",
      "C10-0000849-LIC\n",
      "(1, 10)\n",
      "GT\n",
      "C9-0000385-LIC\n",
      "(1, 10)\n",
      "C9-0000170-LIC\n",
      "(1, 10)\n",
      "GLNR\n",
      "PC-000334\n",
      "(1, 10)\n",
      "PC-000613\n",
      "(1, 10)\n",
      "PC-000722\n",
      "(1, 10)\n",
      "AU-R-000182\n",
      "(1, 10)\n",
      "AU-R-000461\n",
      "(1, 10)\n",
      "AU-R-000559\n",
      "(1, 10)\n",
      "GRG\n",
      "C10-0000169-LIC\n",
      "(1, 10)\n",
      "C10-0000408-LIC\n",
      "(1, 10)\n",
      "GTR\n",
      "PC-000225\n",
      "(1, 10)\n",
      "AU-R-000163\n",
      "(1, 10)\n",
      "GHC\n",
      "C10-0000414-LIC\n",
      "(1, 10)\n",
      "GFEE\n",
      "C10-0000224-LIC\n",
      "(1, 10)\n",
      "GFWF\n",
      "C10-0000117-LIC\n",
      "(1, 10)\n",
      "HB\n",
      "C10-0000624-LIC\n",
      "(1, 10)\n",
      "C10-0000301-LIC\n",
      "(1, 10)\n",
      "C10-0000339-LIC\n",
      "(1, 10)\n",
      "HS\n",
      "C9-0000441-LIC\n",
      "(1, 10)\n",
      "HPCC\n",
      "C10-0000064-LIC\n",
      "(1, 10)\n",
      "C10-0000005-LIC\n",
      "(1, 10)\n",
      "HC\n",
      "C9-0000341-LIC\n",
      "(1, 10)\n",
      "IDC\n",
      "C9-0000320-LIC\n",
      "(1, 10)\n",
      "ID\n",
      "C9-0000166-LIC\n",
      "(1, 10)\n",
      "KAR\n",
      "402-00693\n",
      "(1, 10)\n",
      "402R-00744\n",
      "(1, 10)\n",
      "KC\n",
      "402-00323\n",
      "(1, 10)\n",
      "402-00573\n",
      "(1, 10)\n",
      "402-00664\n",
      "(1, 10)\n",
      "402R-00515\n",
      "(1, 10)\n",
      "402R-00544\n",
      "(1, 10)\n",
      "402R-00900\n",
      "(1, 10)\n",
      "402R-00002\n",
      "(1, 10)\n",
      "402-01146\n",
      "(1, 10)\n",
      "402-00037\n",
      "(1, 10)\n",
      "402R-00035\n",
      "(1, 10)\n",
      "402R-00574\n",
      "(1, 10)\n",
      "LEG\n",
      "PC-000231\n",
      "(1, 10)\n",
      "PC-000335\n",
      "(1, 10)\n",
      "AU-R-000260\n",
      "(1, 10)\n",
      "AU-R-000261\n",
      "(1, 10)\n",
      "LBC\n",
      "C9-0000154-LIC\n",
      "(1, 10)\n",
      "MSS\n",
      "C10-0000816-LIC\n",
      "(1, 10)\n",
      "ML\n",
      "C9-0000300-LIC\n",
      "(1, 10)\n",
      "MW\n",
      "C10-0000332-LIC\n",
      "(1, 10)\n",
      "MPW\n",
      "C10-0000547-LIC\n",
      "(1, 10)\n",
      "MD\n",
      "C9-0000247-LIC\n",
      "(1, 10)\n",
      "ND\n",
      "C9-0000427-LIC\n",
      "(1, 10)\n",
      "NECC\n",
      "MR283416\n",
      "(1, 10)\n",
      "PGM\n",
      "PC-000415\n",
      "(1, 10)\n",
      "PC-000551\n",
      "(1, 10)\n",
      "PC-000725\n",
      "(1, 10)\n",
      "PC-000167\n",
      "(1, 10)\n",
      "PC-000169\n",
      "AU-R-000196\n",
      "(1, 10)\n",
      "AU-R-000197\n",
      "(1, 10)\n",
      "AU-R-000198\n",
      "(1, 10)\n",
      "AU-R-000366\n",
      "(1, 10)\n",
      "AU-R-000506\n",
      "(1, 10)\n",
      "PC-000160\n",
      "(1, 10)\n",
      "PRP\n",
      "C10-0000155-LIC\n",
      "(1, 10)\n",
      "C10-0000286-LIC\n",
      "(1, 10)\n",
      "C10-0000403-LIC\n",
      "(1, 10)\n",
      "PRL\n",
      "C10-0000759-LIC\n",
      "(1, 10)\n",
      "QR\n",
      "AU-R-000233\n",
      "(1, 10)\n",
      "AU-R-000346\n",
      "(1, 10)\n",
      "PC-000356\n",
      "AU-R-000633\n",
      "(1, 10)\n",
      "MC\n",
      "050-10111574ADA\n",
      "(1, 10)\n",
      "RA\n",
      "C10-0000596-LIC\n",
      "(1, 10)\n",
      "RGD\n",
      "C9-0000057-LIC\n",
      "(1, 10)\n",
      "SGF\n",
      "C9-0000454-LIC\n",
      "(1, 10)\n",
      "SFV\n",
      "C10-0000041-LIC\n",
      "(1, 10)\n",
      "SV\n",
      "C9-0000146-LIC\n",
      "(1, 10)\n",
      "SLCC\n",
      "C10-0000474-LIC\n",
      "(1, 10)\n",
      "SO\n",
      "C12-0000328-LIC\n",
      "(1, 10)\n",
      "C9-0000130-LIC\n",
      "(1, 10)\n",
      "C10-0000271-LIC\n",
      "(1, 10)\n",
      "ST\n",
      "C9-0000323-LIC\n",
      "(1, 10)\n",
      "DW\n",
      "MR282376\n",
      "(1, 10)\n",
      "FD\n",
      "C10-0000916-LIC\n",
      "(1, 10)\n",
      "TGL\n",
      "C9-0000412-LIC\n",
      "(1, 10)\n",
      "TJR\n",
      "C9-0000105-LIC\n",
      "(1, 10)\n",
      "TTS\n",
      "PC-000718\n",
      "(1, 10)\n",
      "AU-R-000546\n",
      "(1, 10)\n",
      "TT\n",
      "C9-0000551-LIC\n",
      "(1, 10)\n",
      "C9-0000451-LIC\n",
      "(1, 10)\n",
      "T4L\n",
      "C12-0000302-LIC\n",
      "(1, 10)\n",
      "TL\n",
      "402-00390\n",
      "(1, 10)\n",
      "402R-00807\n",
      "(1, 10)\n",
      "402-00473\n",
      "(1, 10)\n",
      "402-01201\n",
      "(1, 10)\n",
      "402R-00066\n",
      "(1, 10)\n",
      "402R-00487\n",
      "402R-00505\n",
      "402R-00536\n",
      "(1, 10)\n",
      "402R-00571\n",
      "402R-00602\n",
      "(1, 10)\n",
      "402R-00808\n",
      "402-00370\n",
      "(1, 10)\n",
      "402-01142\n",
      "(1, 10)\n",
      "402R-00041\n",
      "(1, 10)\n",
      "402R-00242\n",
      "402R-00246\n",
      "402R-00362\n",
      "402R-00573\n",
      "(1, 10)\n",
      "402R-00781\n",
      "(1, 10)\n",
      "UHHC\n",
      "C10-0000817-LIC\n",
      "(1, 10)\n",
      "C9-0000082-LIC\n",
      "(1, 10)\n",
      "VS\n",
      "402-00840\n",
      "(1, 10)\n",
      "402R-00545\n",
      "(1, 10)\n",
      "VOY\n",
      "C12-0000030-LIC\n",
      "(1, 10)\n",
      "C10-0000802-LIC\n",
      "(1, 10)\n",
      "C12-0000159-LIC\n",
      "(1, 10)\n",
      "99HT\n",
      "C10-0000279-LIC\n",
      "(1, 10)\n",
      "AGA\n",
      "C10-0000341-LIC\n",
      "(1, 10)\n",
      "ALT\n",
      "PC-000310\n",
      "(1, 10)\n",
      "AU-R-000380\n",
      "(1, 10)\n",
      "BS\n",
      "AU-R-000156\n",
      "(1, 10)\n",
      "PC-000185\n",
      "(1, 10)\n",
      "BMC\n",
      "402-00930\n",
      "(1, 10)\n",
      "BBF\n",
      "MR281525\n",
      "(1, 10)\n",
      "BUD\n",
      "C9-0000444-LIC\n",
      "(1, 10)\n",
      "C9-0000464-LIC\n",
      "(1, 10)\n",
      "C9-0000467-LIC\n",
      "(1, 10)\n",
      "C9-0000167-LIC\n",
      "(1, 10)\n",
      "C9-0000399-LIC\n",
      "(1, 10)\n",
      "BRC\n",
      "C10-0000603-LIC\n",
      "(1, 10)\n",
      "BYN\n",
      "C10-0000528-LIC\n",
      "(1, 10)\n",
      "CHO\n",
      "AU-R-000575\n",
      "(1, 10)\n",
      "CG\n",
      "C9-0000157-LIC\n",
      "(1, 10)\n",
      "CPA\n",
      "C9-0000348-LIC\n",
      "(1, 10)\n",
      "C10-0000461-LIC\n",
      "(1, 10)\n",
      "CPC\n",
      "C9-0000056-LIC\n",
      "(1, 10)\n",
      "CSC\n",
      "C10-0000670-LIC\n",
      "(1, 10)\n",
      "CSCC\n",
      "C10-0000918-LIC\n",
      "(1, 10)\n",
      "CCC\n",
      "C12-0000087-LIC\n",
      "(1, 10)\n",
      "CLC\n",
      "C10-0000986-LIC\n",
      "C12-0000318-LIC\n",
      "(1, 10)\n",
      "CC\n",
      "C10-0000758-LIC\n",
      "(1, 10)\n",
      "CED\n",
      "C9-0000094-LIC\n",
      "(1, 10)\n",
      "DWF\n",
      "402R-00296\n",
      "(1, 10)\n",
      "402R-00804\n",
      "(1, 10)\n",
      "DCO\n",
      "050-10052885D4C\n",
      "(1, 10)\n",
      "050-10070593E9E\n",
      "(1, 10)\n",
      "DL\n",
      "MR283369\n",
      "(1, 10)\n",
      "DGG\n",
      "C9-0000016-LIC\n",
      "(1, 10)\n",
      "DG\n",
      "AU-R-000287\n",
      "(1, 10)\n",
      "AU-R-000359\n",
      "(1, 10)\n",
      "AU-R-000422\n",
      "(1, 10)\n",
      "AU-R-000470\n",
      "(1, 10)\n",
      "AU-R-000572\n",
      "(1, 10)\n",
      "PC-000485\n",
      "EL\n",
      "C9-0000370-LIC\n",
      "(1, 10)\n",
      "EMA\n",
      "C10-0000774-LIC\n",
      "(1, 10)\n",
      "EMF\n",
      "C10-0000939-LIC\n",
      "(1, 10)\n",
      "EMM\n",
      "C10-0000786-LIC\n",
      "(1, 10)\n",
      "EMT\n",
      "C10-0000695-LIC\n",
      "(1, 10)\n",
      "EPC\n",
      "C10-0000034-LIC\n",
      "(1, 10)\n",
      "EH\n",
      "MR283073\n",
      "(1, 10)\n",
      "FI\n",
      "C10-0000606-LIC\n",
      "C10-0000753-LIC\n",
      "(1, 10)\n",
      "C12-0000400-LIC\n",
      "(1, 10)\n",
      "FW\n",
      "402-00558\n",
      "(1, 10)\n",
      "402-00891\n",
      "(1, 10)\n",
      "402R-00017\n",
      "(1, 10)\n",
      "402R-00020\n",
      "(1, 10)\n",
      "402R-00747\n",
      "(1, 10)\n",
      "GTC\n",
      "C10-0000849-LIC\n",
      "(1, 10)\n",
      "GT\n",
      "C9-0000385-LIC\n",
      "(1, 10)\n",
      "C9-0000170-LIC\n",
      "(1, 10)\n",
      "GLNR\n",
      "PC-000334\n",
      "(1, 10)\n",
      "PC-000613\n",
      "(1, 10)\n",
      "PC-000722\n",
      "(1, 10)\n",
      "AU-R-000182\n",
      "(1, 10)\n",
      "AU-R-000461\n",
      "(1, 10)\n",
      "AU-R-000559\n",
      "(1, 10)\n",
      "GRG\n",
      "C10-0000169-LIC\n",
      "(1, 10)\n",
      "C10-0000408-LIC\n",
      "(1, 10)\n",
      "GTR\n",
      "PC-000225\n",
      "(1, 10)\n",
      "AU-R-000163\n",
      "(1, 10)\n",
      "GHC\n",
      "C10-0000414-LIC\n",
      "(1, 10)\n",
      "GFEE\n",
      "C10-0000224-LIC\n",
      "(1, 10)\n",
      "GFWF\n",
      "C10-0000117-LIC\n",
      "(1, 10)\n",
      "HB\n",
      "C10-0000624-LIC\n",
      "(1, 10)\n",
      "C10-0000301-LIC\n",
      "(1, 10)\n",
      "C10-0000339-LIC\n",
      "(1, 10)\n",
      "HS\n",
      "C9-0000441-LIC\n",
      "(1, 10)\n",
      "HPCC\n",
      "C10-0000064-LIC\n",
      "(1, 10)\n",
      "C10-0000005-LIC\n",
      "(1, 10)\n",
      "HC\n",
      "C9-0000341-LIC\n",
      "(1, 10)\n",
      "IDC\n",
      "C9-0000320-LIC\n",
      "(1, 10)\n",
      "ID\n",
      "C9-0000166-LIC\n",
      "(1, 10)\n",
      "KAR\n",
      "402-00693\n",
      "(1, 10)\n",
      "402R-00744\n",
      "(1, 10)\n",
      "KC\n",
      "402-00323\n",
      "(1, 10)\n",
      "402-00573\n",
      "(1, 10)\n",
      "402-00664\n",
      "(1, 10)\n",
      "402R-00515\n",
      "(1, 10)\n",
      "402R-00544\n",
      "(1, 10)\n",
      "402R-00900\n",
      "(1, 10)\n",
      "402R-00002\n",
      "(1, 10)\n",
      "402-01146\n",
      "(1, 10)\n",
      "402-00037\n",
      "(1, 10)\n",
      "402R-00035\n",
      "(1, 10)\n",
      "402R-00574\n",
      "(1, 10)\n",
      "LEG\n",
      "PC-000231\n",
      "(1, 10)\n",
      "PC-000335\n",
      "(1, 10)\n",
      "AU-R-000260\n",
      "(1, 10)\n",
      "AU-R-000261\n",
      "(1, 10)\n",
      "LBC\n",
      "C9-0000154-LIC\n",
      "(1, 10)\n",
      "MSS\n",
      "C10-0000816-LIC\n",
      "(1, 10)\n",
      "ML\n",
      "C9-0000300-LIC\n",
      "(1, 10)\n",
      "MW\n",
      "C10-0000332-LIC\n",
      "(1, 10)\n",
      "MPW\n",
      "C10-0000547-LIC\n",
      "(1, 10)\n",
      "MD\n",
      "C9-0000247-LIC\n",
      "(1, 10)\n",
      "ND\n",
      "C9-0000427-LIC\n",
      "(1, 10)\n",
      "NECC\n",
      "MR283416\n",
      "(1, 10)\n",
      "PGM\n",
      "PC-000415\n",
      "(1, 10)\n",
      "PC-000551\n",
      "(1, 10)\n",
      "PC-000725\n",
      "(1, 10)\n",
      "PC-000167\n",
      "(1, 10)\n",
      "PC-000169\n",
      "AU-R-000196\n",
      "(1, 10)\n",
      "AU-R-000197\n",
      "(1, 10)\n",
      "AU-R-000198\n",
      "(1, 10)\n",
      "AU-R-000366\n",
      "(1, 10)\n",
      "AU-R-000506\n",
      "(1, 10)\n",
      "PC-000160\n",
      "(1, 10)\n",
      "PRP\n",
      "C10-0000155-LIC\n",
      "(1, 10)\n",
      "C10-0000286-LIC\n",
      "(1, 10)\n",
      "C10-0000403-LIC\n",
      "(1, 10)\n",
      "PRL\n",
      "C10-0000759-LIC\n",
      "(1, 10)\n",
      "QR\n",
      "AU-R-000233\n",
      "(1, 10)\n",
      "AU-R-000346\n",
      "(1, 10)\n",
      "PC-000356\n",
      "AU-R-000633\n",
      "(1, 10)\n",
      "MC\n",
      "050-10111574ADA\n",
      "(1, 10)\n",
      "RA\n",
      "C10-0000596-LIC\n",
      "(1, 10)\n",
      "RGD\n",
      "C9-0000057-LIC\n",
      "(1, 10)\n",
      "SGF\n",
      "C9-0000454-LIC\n",
      "(1, 10)\n",
      "SFV\n",
      "C10-0000041-LIC\n",
      "(1, 10)\n",
      "SV\n",
      "C9-0000146-LIC\n",
      "(1, 10)\n",
      "SLCC\n",
      "C10-0000474-LIC\n",
      "(1, 10)\n",
      "SO\n",
      "C12-0000328-LIC\n",
      "(1, 10)\n",
      "C9-0000130-LIC\n",
      "(1, 10)\n",
      "C10-0000271-LIC\n",
      "(1, 10)\n",
      "ST\n",
      "C9-0000323-LIC\n",
      "(1, 10)\n",
      "DW\n",
      "MR282376\n",
      "(1, 10)\n",
      "FD\n",
      "C10-0000916-LIC\n",
      "(1, 10)\n",
      "TGL\n",
      "C9-0000412-LIC\n",
      "(1, 10)\n",
      "TJR\n",
      "C9-0000105-LIC\n",
      "(1, 10)\n",
      "TTS\n",
      "PC-000718\n",
      "(1, 10)\n",
      "AU-R-000546\n",
      "(1, 10)\n",
      "TT\n",
      "C9-0000551-LIC\n",
      "(1, 10)\n",
      "C9-0000451-LIC\n",
      "(1, 10)\n",
      "T4L\n",
      "C12-0000302-LIC\n",
      "(1, 10)\n",
      "TL\n",
      "402-00390\n",
      "(1, 10)\n",
      "402R-00807\n",
      "(1, 10)\n",
      "402-00473\n",
      "(1, 10)\n",
      "402-01201\n",
      "(1, 10)\n",
      "402R-00066\n",
      "(1, 10)\n",
      "402R-00487\n",
      "402R-00505\n",
      "402R-00536\n",
      "(1, 10)\n",
      "402R-00571\n",
      "402R-00602\n",
      "(1, 10)\n",
      "402R-00808\n",
      "402-00370\n",
      "(1, 10)\n",
      "402-01142\n",
      "(1, 10)\n",
      "402R-00041\n",
      "(1, 10)\n",
      "402R-00242\n",
      "402R-00246\n",
      "402R-00362\n",
      "402R-00573\n",
      "(1, 10)\n",
      "402R-00781\n",
      "(1, 10)\n"
     ]
    },
    {
     "name": "stdout",
     "output_type": "stream",
     "text": [
      "UHHC\n",
      "C10-0000817-LIC\n",
      "(1, 10)\n",
      "C9-0000082-LIC\n",
      "(1, 10)\n",
      "VS\n",
      "402-00840\n",
      "(1, 10)\n",
      "402R-00545\n",
      "(1, 10)\n",
      "VOY\n",
      "C12-0000030-LIC\n",
      "(1, 10)\n",
      "C10-0000802-LIC\n",
      "(1, 10)\n",
      "C12-0000159-LIC\n",
      "(1, 10)\n",
      "99HT\n",
      "C10-0000279-LIC\n",
      "(1, 10)\n",
      "AGA\n",
      "C10-0000341-LIC\n",
      "(1, 10)\n",
      "ALT\n",
      "PC-000310\n",
      "(1, 10)\n",
      "AU-R-000380\n",
      "(1, 10)\n",
      "BS\n",
      "AU-R-000156\n",
      "(1, 10)\n",
      "PC-000185\n",
      "(1, 10)\n",
      "BMC\n",
      "402-00930\n",
      "(1, 10)\n",
      "BBF\n",
      "MR281525\n",
      "(1, 10)\n",
      "BUD\n",
      "C9-0000444-LIC\n",
      "(1, 10)\n",
      "C9-0000464-LIC\n",
      "(1, 10)\n",
      "C9-0000467-LIC\n",
      "(1, 10)\n",
      "C9-0000167-LIC\n",
      "(1, 10)\n",
      "C9-0000399-LIC\n",
      "(1, 10)\n",
      "BRC\n",
      "C10-0000603-LIC\n",
      "(1, 10)\n",
      "BYN\n",
      "C10-0000528-LIC\n",
      "(1, 10)\n",
      "CHO\n",
      "AU-R-000575\n",
      "(1, 10)\n",
      "CG\n",
      "C9-0000157-LIC\n",
      "(1, 10)\n",
      "CPA\n",
      "C9-0000348-LIC\n",
      "(1, 10)\n",
      "C10-0000461-LIC\n",
      "(1, 10)\n",
      "CPC\n",
      "C9-0000056-LIC\n",
      "(1, 10)\n",
      "CSC\n",
      "C10-0000670-LIC\n",
      "(1, 10)\n",
      "CSCC\n",
      "C10-0000918-LIC\n",
      "(1, 10)\n",
      "CCC\n",
      "C12-0000087-LIC\n",
      "(1, 10)\n",
      "CLC\n",
      "C10-0000986-LIC\n",
      "C12-0000318-LIC\n",
      "(1, 10)\n",
      "CC\n",
      "C10-0000758-LIC\n",
      "(1, 10)\n",
      "CED\n",
      "C9-0000094-LIC\n",
      "(1, 10)\n",
      "DWF\n",
      "402R-00296\n",
      "(1, 10)\n",
      "402R-00804\n",
      "(1, 10)\n",
      "DCO\n",
      "050-10052885D4C\n",
      "(1, 10)\n",
      "050-10070593E9E\n",
      "(1, 10)\n",
      "DL\n",
      "MR283369\n",
      "(1, 10)\n",
      "DGG\n",
      "C9-0000016-LIC\n",
      "(1, 10)\n",
      "DG\n",
      "AU-R-000287\n",
      "(1, 10)\n",
      "AU-R-000359\n",
      "(1, 10)\n",
      "AU-R-000422\n",
      "(1, 10)\n",
      "AU-R-000470\n",
      "(1, 10)\n",
      "AU-R-000572\n",
      "(1, 10)\n",
      "PC-000485\n",
      "EL\n",
      "C9-0000370-LIC\n",
      "(1, 10)\n",
      "EMA\n",
      "C10-0000774-LIC\n",
      "(1, 10)\n",
      "EMF\n",
      "C10-0000939-LIC\n",
      "(1, 10)\n",
      "EMM\n",
      "C10-0000786-LIC\n",
      "(1, 10)\n",
      "EMT\n",
      "C10-0000695-LIC\n",
      "(1, 10)\n",
      "EPC\n",
      "C10-0000034-LIC\n",
      "(1, 10)\n",
      "EH\n",
      "MR283073\n",
      "(1, 10)\n",
      "FI\n",
      "C10-0000606-LIC\n",
      "C10-0000753-LIC\n",
      "(1, 10)\n",
      "C12-0000400-LIC\n",
      "(1, 10)\n",
      "FW\n",
      "402-00558\n",
      "(1, 10)\n",
      "402-00891\n",
      "(1, 10)\n",
      "402R-00017\n",
      "(1, 10)\n",
      "402R-00020\n",
      "(1, 10)\n",
      "402R-00747\n",
      "(1, 10)\n",
      "GTC\n",
      "C10-0000849-LIC\n",
      "(1, 10)\n",
      "GT\n",
      "C9-0000385-LIC\n",
      "(1, 10)\n",
      "C9-0000170-LIC\n",
      "(1, 10)\n",
      "GLNR\n",
      "PC-000334\n",
      "(1, 10)\n",
      "PC-000613\n",
      "(1, 10)\n",
      "PC-000722\n",
      "(1, 10)\n",
      "AU-R-000182\n",
      "(1, 10)\n",
      "AU-R-000461\n",
      "(1, 10)\n",
      "AU-R-000559\n",
      "(1, 10)\n",
      "GRG\n",
      "C10-0000169-LIC\n",
      "(1, 10)\n",
      "C10-0000408-LIC\n",
      "(1, 10)\n",
      "GTR\n",
      "PC-000225\n",
      "(1, 10)\n",
      "AU-R-000163\n",
      "(1, 10)\n",
      "GHC\n",
      "C10-0000414-LIC\n",
      "(1, 10)\n",
      "GFEE\n",
      "C10-0000224-LIC\n",
      "(1, 10)\n",
      "GFWF\n",
      "C10-0000117-LIC\n",
      "(1, 10)\n",
      "HB\n",
      "C10-0000624-LIC\n",
      "(1, 10)\n",
      "C10-0000301-LIC\n",
      "(1, 10)\n",
      "C10-0000339-LIC\n",
      "(1, 10)\n",
      "HS\n",
      "C9-0000441-LIC\n",
      "(1, 10)\n",
      "HPCC\n",
      "C10-0000064-LIC\n",
      "(1, 10)\n",
      "C10-0000005-LIC\n",
      "(1, 10)\n",
      "HC\n",
      "C9-0000341-LIC\n",
      "(1, 10)\n",
      "IDC\n",
      "C9-0000320-LIC\n",
      "(1, 10)\n",
      "ID\n",
      "C9-0000166-LIC\n",
      "(1, 10)\n",
      "KAR\n",
      "402-00693\n",
      "(1, 10)\n",
      "402R-00744\n",
      "(1, 10)\n",
      "KC\n",
      "402-00323\n",
      "(1, 10)\n",
      "402-00573\n",
      "(1, 10)\n",
      "402-00664\n",
      "(1, 10)\n",
      "402R-00515\n",
      "(1, 10)\n",
      "402R-00544\n",
      "(1, 10)\n",
      "402R-00900\n",
      "(1, 10)\n",
      "402R-00002\n",
      "(1, 10)\n",
      "402-01146\n",
      "(1, 10)\n",
      "402-00037\n",
      "(1, 10)\n",
      "402R-00035\n",
      "(1, 10)\n",
      "402R-00574\n",
      "(1, 10)\n",
      "LEG\n",
      "PC-000231\n",
      "(1, 10)\n",
      "PC-000335\n",
      "(1, 10)\n",
      "AU-R-000260\n",
      "(1, 10)\n",
      "AU-R-000261\n",
      "(1, 10)\n",
      "LBC\n",
      "C9-0000154-LIC\n",
      "(1, 10)\n",
      "MSS\n",
      "C10-0000816-LIC\n",
      "(1, 10)\n",
      "ML\n",
      "C9-0000300-LIC\n",
      "(1, 10)\n",
      "MW\n",
      "C10-0000332-LIC\n",
      "(1, 10)\n",
      "MPW\n",
      "C10-0000547-LIC\n",
      "(1, 10)\n",
      "MD\n",
      "C9-0000247-LIC\n",
      "(1, 10)\n",
      "ND\n",
      "C9-0000427-LIC\n",
      "(1, 10)\n",
      "NECC\n",
      "MR283416\n",
      "(1, 10)\n",
      "PGM\n",
      "PC-000415\n",
      "(1, 10)\n",
      "PC-000551\n",
      "(1, 10)\n",
      "PC-000725\n",
      "(1, 10)\n",
      "PC-000167\n",
      "(1, 10)\n",
      "PC-000169\n",
      "AU-R-000196\n",
      "(1, 10)\n",
      "AU-R-000197\n",
      "(1, 10)\n",
      "AU-R-000198\n",
      "(1, 10)\n",
      "AU-R-000366\n",
      "(1, 10)\n",
      "AU-R-000506\n",
      "(1, 10)\n",
      "PC-000160\n",
      "(1, 10)\n",
      "PRP\n",
      "C10-0000155-LIC\n",
      "(1, 10)\n",
      "C10-0000286-LIC\n",
      "(1, 10)\n",
      "C10-0000403-LIC\n",
      "(1, 10)\n",
      "PRL\n",
      "C10-0000759-LIC\n",
      "(1, 10)\n",
      "QR\n",
      "AU-R-000233\n",
      "(1, 10)\n",
      "AU-R-000346\n",
      "(1, 10)\n",
      "PC-000356\n",
      "AU-R-000633\n",
      "(1, 10)\n",
      "MC\n",
      "050-10111574ADA\n",
      "(1, 10)\n",
      "RA\n",
      "C10-0000596-LIC\n",
      "(1, 10)\n",
      "RGD\n",
      "C9-0000057-LIC\n",
      "(1, 10)\n",
      "SGF\n",
      "C9-0000454-LIC\n",
      "(1, 10)\n",
      "SFV\n",
      "C10-0000041-LIC\n",
      "(1, 10)\n",
      "SV\n",
      "C9-0000146-LIC\n",
      "(1, 10)\n",
      "SLCC\n",
      "C10-0000474-LIC\n",
      "(1, 10)\n",
      "SO\n",
      "C12-0000328-LIC\n",
      "(1, 10)\n",
      "C9-0000130-LIC\n",
      "(1, 10)\n",
      "C10-0000271-LIC\n",
      "(1, 10)\n",
      "ST\n",
      "C9-0000323-LIC\n",
      "(1, 10)\n",
      "DW\n",
      "MR282376\n",
      "(1, 10)\n",
      "FD\n",
      "C10-0000916-LIC\n",
      "(1, 10)\n",
      "TGL\n",
      "C9-0000412-LIC\n",
      "(1, 10)\n",
      "TJR\n",
      "C9-0000105-LIC\n",
      "(1, 10)\n",
      "TTS\n",
      "PC-000718\n",
      "(1, 10)\n",
      "AU-R-000546\n",
      "(1, 10)\n",
      "TT\n",
      "C9-0000551-LIC\n",
      "(1, 10)\n",
      "C9-0000451-LIC\n",
      "(1, 10)\n",
      "T4L\n",
      "C12-0000302-LIC\n",
      "(1, 10)\n",
      "TL\n",
      "402-00390\n",
      "(1, 10)\n",
      "402R-00807\n",
      "(1, 10)\n",
      "402-00473\n",
      "(1, 10)\n",
      "402-01201\n",
      "(1, 10)\n",
      "402R-00066\n",
      "(1, 10)\n",
      "402R-00487\n",
      "402R-00505\n",
      "402R-00536\n",
      "(1, 10)\n",
      "402R-00571\n",
      "402R-00602\n",
      "(1, 10)\n",
      "402R-00808\n",
      "402-00370\n",
      "(1, 10)\n",
      "402-01142\n",
      "(1, 10)\n",
      "402R-00041\n",
      "(1, 10)\n",
      "402R-00242\n",
      "402R-00246\n",
      "402R-00362\n",
      "402R-00573\n",
      "(1, 10)\n",
      "402R-00781\n",
      "(1, 10)\n",
      "UHHC\n",
      "C10-0000817-LIC\n",
      "(1, 10)\n",
      "C9-0000082-LIC\n",
      "(1, 10)\n",
      "VS\n",
      "402-00840\n",
      "(1, 10)\n",
      "402R-00545\n",
      "(1, 10)\n",
      "VOY\n",
      "C12-0000030-LIC\n",
      "(1, 10)\n",
      "C10-0000802-LIC\n",
      "(1, 10)\n",
      "C12-0000159-LIC\n",
      "(1, 10)\n"
     ]
    }
   ],
   "source": [
    "df_decompress_90 = decompress_inv_dict(t1)\n",
    "df_decompress_9m = decompress_inv_dict(t2)\n",
    "df_decompress_12m = decompress_inv_dict(t3)\n",
    "df_decompress_12m_plus = decompress_inv_dict(t4)"
   ]
  },
  {
   "cell_type": "code",
   "execution_count": 47,
   "id": "18560e49",
   "metadata": {},
   "outputs": [],
   "source": [
    "age_val = df_decompress_90[['company','location','value180']].\\\n",
    "merge(df_decompress_9m[['company','location','value270']],on = ['company','location'],how = 'outer').\\\n",
    "merge(df_decompress_12m[['company','location','value365']],on = ['company','location'],how = 'outer').\\\n",
    "merge(df_decompress_12m_plus[['company','location','value10000']],on = ['company','location'],how = 'outer')\n",
    "\n",
    "age_val['id'] = list(zip(age_val.company, age_val.location))\n",
    "age_val = age_val.reset_index(drop = True)\n",
    "\n"
   ]
  },
  {
   "cell_type": "code",
   "execution_count": 48,
   "id": "0f7d2fc5",
   "metadata": {},
   "outputs": [
    {
     "data": {
      "text/html": [
       "<div>\n",
       "<style scoped>\n",
       "    .dataframe tbody tr th:only-of-type {\n",
       "        vertical-align: middle;\n",
       "    }\n",
       "\n",
       "    .dataframe tbody tr th {\n",
       "        vertical-align: top;\n",
       "    }\n",
       "\n",
       "    .dataframe thead th {\n",
       "        text-align: right;\n",
       "    }\n",
       "</style>\n",
       "<table border=\"1\" class=\"dataframe\">\n",
       "  <thead>\n",
       "    <tr style=\"text-align: right;\">\n",
       "      <th></th>\n",
       "      <th>company</th>\n",
       "      <th>location</th>\n",
       "      <th>value180</th>\n",
       "      <th>value270</th>\n",
       "      <th>value365</th>\n",
       "      <th>value10000</th>\n",
       "      <th>id</th>\n",
       "    </tr>\n",
       "  </thead>\n",
       "  <tbody>\n",
       "    <tr>\n",
       "      <th>0</th>\n",
       "      <td>99HT</td>\n",
       "      <td>C10-0000279-LIC</td>\n",
       "      <td>118713.32</td>\n",
       "      <td>1569.5</td>\n",
       "      <td>3472.58</td>\n",
       "      <td>2948.87</td>\n",
       "      <td>(99HT, C10-0000279-LIC)</td>\n",
       "    </tr>\n",
       "    <tr>\n",
       "      <th>1</th>\n",
       "      <td>AGA</td>\n",
       "      <td>C10-0000341-LIC</td>\n",
       "      <td>98760.39</td>\n",
       "      <td>9804.85</td>\n",
       "      <td>19236.72</td>\n",
       "      <td>30161.77</td>\n",
       "      <td>(AGA, C10-0000341-LIC)</td>\n",
       "    </tr>\n",
       "    <tr>\n",
       "      <th>2</th>\n",
       "      <td>ALT</td>\n",
       "      <td>PC-000310</td>\n",
       "      <td>20983.15</td>\n",
       "      <td>7590.09</td>\n",
       "      <td>1526.04</td>\n",
       "      <td>2547.5</td>\n",
       "      <td>(ALT, PC-000310)</td>\n",
       "    </tr>\n",
       "    <tr>\n",
       "      <th>3</th>\n",
       "      <td>ALT</td>\n",
       "      <td>AU-R-000380</td>\n",
       "      <td>253153.36</td>\n",
       "      <td>35809.33</td>\n",
       "      <td>720.29</td>\n",
       "      <td>2511.7</td>\n",
       "      <td>(ALT, AU-R-000380)</td>\n",
       "    </tr>\n",
       "    <tr>\n",
       "      <th>4</th>\n",
       "      <td>BS</td>\n",
       "      <td>AU-R-000156</td>\n",
       "      <td>29281.56</td>\n",
       "      <td>3495.4</td>\n",
       "      <td>714.65</td>\n",
       "      <td>1022.0</td>\n",
       "      <td>(BS, AU-R-000156)</td>\n",
       "    </tr>\n",
       "    <tr>\n",
       "      <th>...</th>\n",
       "      <td>...</td>\n",
       "      <td>...</td>\n",
       "      <td>...</td>\n",
       "      <td>...</td>\n",
       "      <td>...</td>\n",
       "      <td>...</td>\n",
       "      <td>...</td>\n",
       "    </tr>\n",
       "    <tr>\n",
       "      <th>152</th>\n",
       "      <td>VS</td>\n",
       "      <td>402-00840</td>\n",
       "      <td>32485.72</td>\n",
       "      <td>897.0</td>\n",
       "      <td>88.54</td>\n",
       "      <td>147.0</td>\n",
       "      <td>(VS, 402-00840)</td>\n",
       "    </tr>\n",
       "    <tr>\n",
       "      <th>153</th>\n",
       "      <td>VS</td>\n",
       "      <td>402R-00545</td>\n",
       "      <td>97570.24</td>\n",
       "      <td>3307.8</td>\n",
       "      <td>12.0</td>\n",
       "      <td>0.0</td>\n",
       "      <td>(VS, 402R-00545)</td>\n",
       "    </tr>\n",
       "    <tr>\n",
       "      <th>154</th>\n",
       "      <td>VOY</td>\n",
       "      <td>C12-0000030-LIC</td>\n",
       "      <td>8156.18</td>\n",
       "      <td>307.84</td>\n",
       "      <td>35.11</td>\n",
       "      <td>0.2</td>\n",
       "      <td>(VOY, C12-0000030-LIC)</td>\n",
       "    </tr>\n",
       "    <tr>\n",
       "      <th>155</th>\n",
       "      <td>VOY</td>\n",
       "      <td>C10-0000802-LIC</td>\n",
       "      <td>55488.26</td>\n",
       "      <td>4820.08</td>\n",
       "      <td>335.48</td>\n",
       "      <td>0.0</td>\n",
       "      <td>(VOY, C10-0000802-LIC)</td>\n",
       "    </tr>\n",
       "    <tr>\n",
       "      <th>156</th>\n",
       "      <td>VOY</td>\n",
       "      <td>C12-0000159-LIC</td>\n",
       "      <td>0.0</td>\n",
       "      <td>0.0</td>\n",
       "      <td>0.0</td>\n",
       "      <td>0.0</td>\n",
       "      <td>(VOY, C12-0000159-LIC)</td>\n",
       "    </tr>\n",
       "  </tbody>\n",
       "</table>\n",
       "<p>157 rows × 7 columns</p>\n",
       "</div>"
      ],
      "text/plain": [
       "    company         location   value180  value270  value365 value10000  \\\n",
       "0      99HT  C10-0000279-LIC  118713.32    1569.5   3472.58    2948.87   \n",
       "1       AGA  C10-0000341-LIC   98760.39   9804.85  19236.72   30161.77   \n",
       "2       ALT        PC-000310   20983.15   7590.09   1526.04     2547.5   \n",
       "3       ALT      AU-R-000380  253153.36  35809.33    720.29     2511.7   \n",
       "4        BS      AU-R-000156   29281.56    3495.4    714.65     1022.0   \n",
       "..      ...              ...        ...       ...       ...        ...   \n",
       "152      VS        402-00840   32485.72     897.0     88.54      147.0   \n",
       "153      VS       402R-00545   97570.24    3307.8      12.0        0.0   \n",
       "154     VOY  C12-0000030-LIC    8156.18    307.84     35.11        0.2   \n",
       "155     VOY  C10-0000802-LIC   55488.26   4820.08    335.48        0.0   \n",
       "156     VOY  C12-0000159-LIC        0.0       0.0       0.0        0.0   \n",
       "\n",
       "                          id  \n",
       "0    (99HT, C10-0000279-LIC)  \n",
       "1     (AGA, C10-0000341-LIC)  \n",
       "2           (ALT, PC-000310)  \n",
       "3         (ALT, AU-R-000380)  \n",
       "4          (BS, AU-R-000156)  \n",
       "..                       ...  \n",
       "152          (VS, 402-00840)  \n",
       "153         (VS, 402R-00545)  \n",
       "154   (VOY, C12-0000030-LIC)  \n",
       "155   (VOY, C10-0000802-LIC)  \n",
       "156   (VOY, C12-0000159-LIC)  \n",
       "\n",
       "[157 rows x 7 columns]"
      ]
     },
     "execution_count": 48,
     "metadata": {},
     "output_type": "execute_result"
    }
   ],
   "source": [
    "age_val"
   ]
  },
  {
   "cell_type": "code",
   "execution_count": 49,
   "id": "21be1d70",
   "metadata": {},
   "outputs": [],
   "source": [
    "age_val_df = age_val[age_val['company'].isin(df_clients)]"
   ]
  },
  {
   "cell_type": "code",
   "execution_count": 50,
   "id": "1fc6c8db",
   "metadata": {},
   "outputs": [
    {
     "data": {
      "text/html": [
       "<div>\n",
       "<style scoped>\n",
       "    .dataframe tbody tr th:only-of-type {\n",
       "        vertical-align: middle;\n",
       "    }\n",
       "\n",
       "    .dataframe tbody tr th {\n",
       "        vertical-align: top;\n",
       "    }\n",
       "\n",
       "    .dataframe thead th {\n",
       "        text-align: right;\n",
       "    }\n",
       "</style>\n",
       "<table border=\"1\" class=\"dataframe\">\n",
       "  <thead>\n",
       "    <tr style=\"text-align: right;\">\n",
       "      <th></th>\n",
       "      <th>company</th>\n",
       "      <th>location</th>\n",
       "      <th>value180</th>\n",
       "      <th>value270</th>\n",
       "      <th>value365</th>\n",
       "      <th>value10000</th>\n",
       "      <th>id</th>\n",
       "    </tr>\n",
       "  </thead>\n",
       "  <tbody>\n",
       "    <tr>\n",
       "      <th>0</th>\n",
       "      <td>99HT</td>\n",
       "      <td>C10-0000279-LIC</td>\n",
       "      <td>118713.32</td>\n",
       "      <td>1569.5</td>\n",
       "      <td>3472.58</td>\n",
       "      <td>2948.87</td>\n",
       "      <td>(99HT, C10-0000279-LIC)</td>\n",
       "    </tr>\n",
       "    <tr>\n",
       "      <th>7</th>\n",
       "      <td>BBF</td>\n",
       "      <td>MR281525</td>\n",
       "      <td>77968.47</td>\n",
       "      <td>5402.37</td>\n",
       "      <td>4324.67</td>\n",
       "      <td>60.0</td>\n",
       "      <td>(BBF, MR281525)</td>\n",
       "    </tr>\n",
       "    <tr>\n",
       "      <th>14</th>\n",
       "      <td>BYN</td>\n",
       "      <td>C10-0000528-LIC</td>\n",
       "      <td>61291.62</td>\n",
       "      <td>3854.71</td>\n",
       "      <td>1133.25</td>\n",
       "      <td>785.0</td>\n",
       "      <td>(BYN, C10-0000528-LIC)</td>\n",
       "    </tr>\n",
       "    <tr>\n",
       "      <th>15</th>\n",
       "      <td>CHO</td>\n",
       "      <td>AU-R-000575</td>\n",
       "      <td>64252.4</td>\n",
       "      <td>8958.65</td>\n",
       "      <td>703.54</td>\n",
       "      <td>90.7</td>\n",
       "      <td>(CHO, AU-R-000575)</td>\n",
       "    </tr>\n",
       "    <tr>\n",
       "      <th>17</th>\n",
       "      <td>CPA</td>\n",
       "      <td>C9-0000348-LIC</td>\n",
       "      <td>914633.47</td>\n",
       "      <td>569610.54</td>\n",
       "      <td>587305.54</td>\n",
       "      <td>1293364.73</td>\n",
       "      <td>(CPA, C9-0000348-LIC)</td>\n",
       "    </tr>\n",
       "    <tr>\n",
       "      <th>18</th>\n",
       "      <td>CPA</td>\n",
       "      <td>C10-0000461-LIC</td>\n",
       "      <td>266582.46</td>\n",
       "      <td>365.59</td>\n",
       "      <td>4101.59</td>\n",
       "      <td>1839.77</td>\n",
       "      <td>(CPA, C10-0000461-LIC)</td>\n",
       "    </tr>\n",
       "    <tr>\n",
       "      <th>20</th>\n",
       "      <td>CSC</td>\n",
       "      <td>C10-0000670-LIC</td>\n",
       "      <td>181593.31</td>\n",
       "      <td>82731.81</td>\n",
       "      <td>42750.99</td>\n",
       "      <td>468531.04</td>\n",
       "      <td>(CSC, C10-0000670-LIC)</td>\n",
       "    </tr>\n",
       "    <tr>\n",
       "      <th>22</th>\n",
       "      <td>CCC</td>\n",
       "      <td>C12-0000087-LIC</td>\n",
       "      <td>931495.68</td>\n",
       "      <td>489527.91</td>\n",
       "      <td>478774.75</td>\n",
       "      <td>2753202.46</td>\n",
       "      <td>(CCC, C12-0000087-LIC)</td>\n",
       "    </tr>\n",
       "    <tr>\n",
       "      <th>26</th>\n",
       "      <td>DWF</td>\n",
       "      <td>402R-00296</td>\n",
       "      <td>216637.23</td>\n",
       "      <td>3195.0</td>\n",
       "      <td>8721.0</td>\n",
       "      <td>2069.0</td>\n",
       "      <td>(DWF, 402R-00296)</td>\n",
       "    </tr>\n",
       "    <tr>\n",
       "      <th>27</th>\n",
       "      <td>DWF</td>\n",
       "      <td>402R-00804</td>\n",
       "      <td>30665.37</td>\n",
       "      <td>2945.63</td>\n",
       "      <td>4766.2</td>\n",
       "      <td>466.85</td>\n",
       "      <td>(DWF, 402R-00804)</td>\n",
       "    </tr>\n",
       "    <tr>\n",
       "      <th>30</th>\n",
       "      <td>DL</td>\n",
       "      <td>MR283369</td>\n",
       "      <td>172100.81</td>\n",
       "      <td>5513.75</td>\n",
       "      <td>112.5</td>\n",
       "      <td>487.5</td>\n",
       "      <td>(DL, MR283369)</td>\n",
       "    </tr>\n",
       "    <tr>\n",
       "      <th>37</th>\n",
       "      <td>EL</td>\n",
       "      <td>C9-0000370-LIC</td>\n",
       "      <td>28793.87</td>\n",
       "      <td>2012.82</td>\n",
       "      <td>501.25</td>\n",
       "      <td>2427.55</td>\n",
       "      <td>(EL, C9-0000370-LIC)</td>\n",
       "    </tr>\n",
       "    <tr>\n",
       "      <th>38</th>\n",
       "      <td>EMA</td>\n",
       "      <td>C10-0000774-LIC</td>\n",
       "      <td>164033.64</td>\n",
       "      <td>4512.54</td>\n",
       "      <td>980.3</td>\n",
       "      <td>2851.49</td>\n",
       "      <td>(EMA, C10-0000774-LIC)</td>\n",
       "    </tr>\n",
       "    <tr>\n",
       "      <th>39</th>\n",
       "      <td>EMF</td>\n",
       "      <td>C10-0000939-LIC</td>\n",
       "      <td>165568.61</td>\n",
       "      <td>0.0</td>\n",
       "      <td>0.0</td>\n",
       "      <td>0.0</td>\n",
       "      <td>(EMF, C10-0000939-LIC)</td>\n",
       "    </tr>\n",
       "    <tr>\n",
       "      <th>40</th>\n",
       "      <td>EMM</td>\n",
       "      <td>C10-0000786-LIC</td>\n",
       "      <td>191956.53</td>\n",
       "      <td>15727.44</td>\n",
       "      <td>21768.65</td>\n",
       "      <td>5035.46</td>\n",
       "      <td>(EMM, C10-0000786-LIC)</td>\n",
       "    </tr>\n",
       "    <tr>\n",
       "      <th>41</th>\n",
       "      <td>EMT</td>\n",
       "      <td>C10-0000695-LIC</td>\n",
       "      <td>178432.94</td>\n",
       "      <td>6913.42</td>\n",
       "      <td>720.35</td>\n",
       "      <td>2775.9</td>\n",
       "      <td>(EMT, C10-0000695-LIC)</td>\n",
       "    </tr>\n",
       "    <tr>\n",
       "      <th>60</th>\n",
       "      <td>GRG</td>\n",
       "      <td>C10-0000169-LIC</td>\n",
       "      <td>444326.94</td>\n",
       "      <td>7274.9</td>\n",
       "      <td>4880.16</td>\n",
       "      <td>594.5</td>\n",
       "      <td>(GRG, C10-0000169-LIC)</td>\n",
       "    </tr>\n",
       "    <tr>\n",
       "      <th>61</th>\n",
       "      <td>GRG</td>\n",
       "      <td>C10-0000408-LIC</td>\n",
       "      <td>294094.0</td>\n",
       "      <td>1515073.56</td>\n",
       "      <td>65235.8</td>\n",
       "      <td>37851.98</td>\n",
       "      <td>(GRG, C10-0000408-LIC)</td>\n",
       "    </tr>\n",
       "    <tr>\n",
       "      <th>64</th>\n",
       "      <td>GHC</td>\n",
       "      <td>C10-0000414-LIC</td>\n",
       "      <td>223659.05</td>\n",
       "      <td>15432.99</td>\n",
       "      <td>4102.32</td>\n",
       "      <td>5007.74</td>\n",
       "      <td>(GHC, C10-0000414-LIC)</td>\n",
       "    </tr>\n",
       "    <tr>\n",
       "      <th>93</th>\n",
       "      <td>LBC</td>\n",
       "      <td>C9-0000154-LIC</td>\n",
       "      <td>12060.17</td>\n",
       "      <td>725.51</td>\n",
       "      <td>1914.87</td>\n",
       "      <td>2591.1</td>\n",
       "      <td>(LBC, C9-0000154-LIC)</td>\n",
       "    </tr>\n",
       "    <tr>\n",
       "      <th>97</th>\n",
       "      <td>MPW</td>\n",
       "      <td>C10-0000547-LIC</td>\n",
       "      <td>575721.3</td>\n",
       "      <td>95607.83</td>\n",
       "      <td>83354.05</td>\n",
       "      <td>74933.27</td>\n",
       "      <td>(MPW, C10-0000547-LIC)</td>\n",
       "    </tr>\n",
       "    <tr>\n",
       "      <th>98</th>\n",
       "      <td>MD</td>\n",
       "      <td>C9-0000247-LIC</td>\n",
       "      <td>11348.59</td>\n",
       "      <td>1445.54</td>\n",
       "      <td>377.25</td>\n",
       "      <td>25274.43</td>\n",
       "      <td>(MD, C9-0000247-LIC)</td>\n",
       "    </tr>\n",
       "    <tr>\n",
       "      <th>100</th>\n",
       "      <td>NECC</td>\n",
       "      <td>MR283416</td>\n",
       "      <td>98163.72</td>\n",
       "      <td>2850.45</td>\n",
       "      <td>328.68</td>\n",
       "      <td>0.07</td>\n",
       "      <td>(NECC, MR283416)</td>\n",
       "    </tr>\n",
       "    <tr>\n",
       "      <th>123</th>\n",
       "      <td>SV</td>\n",
       "      <td>C9-0000146-LIC</td>\n",
       "      <td>139117.67</td>\n",
       "      <td>18249.61</td>\n",
       "      <td>14723.31</td>\n",
       "      <td>53854.67</td>\n",
       "      <td>(SV, C9-0000146-LIC)</td>\n",
       "    </tr>\n",
       "    <tr>\n",
       "      <th>128</th>\n",
       "      <td>ST</td>\n",
       "      <td>C9-0000323-LIC</td>\n",
       "      <td>43773.07</td>\n",
       "      <td>1870.33</td>\n",
       "      <td>622.68</td>\n",
       "      <td>2416.04</td>\n",
       "      <td>(ST, C9-0000323-LIC)</td>\n",
       "    </tr>\n",
       "    <tr>\n",
       "      <th>129</th>\n",
       "      <td>DW</td>\n",
       "      <td>MR282376</td>\n",
       "      <td>511089.51</td>\n",
       "      <td>23309.41</td>\n",
       "      <td>2422.0</td>\n",
       "      <td>0.0</td>\n",
       "      <td>(DW, MR282376)</td>\n",
       "    </tr>\n",
       "    <tr>\n",
       "      <th>135</th>\n",
       "      <td>TT</td>\n",
       "      <td>C9-0000551-LIC</td>\n",
       "      <td>295603.35</td>\n",
       "      <td>0.01</td>\n",
       "      <td>0.0</td>\n",
       "      <td>0.0</td>\n",
       "      <td>(TT, C9-0000551-LIC)</td>\n",
       "    </tr>\n",
       "    <tr>\n",
       "      <th>136</th>\n",
       "      <td>TT</td>\n",
       "      <td>C9-0000451-LIC</td>\n",
       "      <td>0.0</td>\n",
       "      <td>53.3</td>\n",
       "      <td>0.0</td>\n",
       "      <td>0.0</td>\n",
       "      <td>(TT, C9-0000451-LIC)</td>\n",
       "    </tr>\n",
       "    <tr>\n",
       "      <th>152</th>\n",
       "      <td>VS</td>\n",
       "      <td>402-00840</td>\n",
       "      <td>32485.72</td>\n",
       "      <td>897.0</td>\n",
       "      <td>88.54</td>\n",
       "      <td>147.0</td>\n",
       "      <td>(VS, 402-00840)</td>\n",
       "    </tr>\n",
       "    <tr>\n",
       "      <th>153</th>\n",
       "      <td>VS</td>\n",
       "      <td>402R-00545</td>\n",
       "      <td>97570.24</td>\n",
       "      <td>3307.8</td>\n",
       "      <td>12.0</td>\n",
       "      <td>0.0</td>\n",
       "      <td>(VS, 402R-00545)</td>\n",
       "    </tr>\n",
       "  </tbody>\n",
       "</table>\n",
       "</div>"
      ],
      "text/plain": [
       "    company         location   value180    value270   value365  value10000  \\\n",
       "0      99HT  C10-0000279-LIC  118713.32      1569.5    3472.58     2948.87   \n",
       "7       BBF         MR281525   77968.47     5402.37    4324.67        60.0   \n",
       "14      BYN  C10-0000528-LIC   61291.62     3854.71    1133.25       785.0   \n",
       "15      CHO      AU-R-000575    64252.4     8958.65     703.54        90.7   \n",
       "17      CPA   C9-0000348-LIC  914633.47   569610.54  587305.54  1293364.73   \n",
       "18      CPA  C10-0000461-LIC  266582.46      365.59    4101.59     1839.77   \n",
       "20      CSC  C10-0000670-LIC  181593.31    82731.81   42750.99   468531.04   \n",
       "22      CCC  C12-0000087-LIC  931495.68   489527.91  478774.75  2753202.46   \n",
       "26      DWF       402R-00296  216637.23      3195.0     8721.0      2069.0   \n",
       "27      DWF       402R-00804   30665.37     2945.63     4766.2      466.85   \n",
       "30       DL         MR283369  172100.81     5513.75      112.5       487.5   \n",
       "37       EL   C9-0000370-LIC   28793.87     2012.82     501.25     2427.55   \n",
       "38      EMA  C10-0000774-LIC  164033.64     4512.54      980.3     2851.49   \n",
       "39      EMF  C10-0000939-LIC  165568.61         0.0        0.0         0.0   \n",
       "40      EMM  C10-0000786-LIC  191956.53    15727.44   21768.65     5035.46   \n",
       "41      EMT  C10-0000695-LIC  178432.94     6913.42     720.35      2775.9   \n",
       "60      GRG  C10-0000169-LIC  444326.94      7274.9    4880.16       594.5   \n",
       "61      GRG  C10-0000408-LIC   294094.0  1515073.56    65235.8    37851.98   \n",
       "64      GHC  C10-0000414-LIC  223659.05    15432.99    4102.32     5007.74   \n",
       "93      LBC   C9-0000154-LIC   12060.17      725.51    1914.87      2591.1   \n",
       "97      MPW  C10-0000547-LIC   575721.3    95607.83   83354.05    74933.27   \n",
       "98       MD   C9-0000247-LIC   11348.59     1445.54     377.25    25274.43   \n",
       "100    NECC         MR283416   98163.72     2850.45     328.68        0.07   \n",
       "123      SV   C9-0000146-LIC  139117.67    18249.61   14723.31    53854.67   \n",
       "128      ST   C9-0000323-LIC   43773.07     1870.33     622.68     2416.04   \n",
       "129      DW         MR282376  511089.51    23309.41     2422.0         0.0   \n",
       "135      TT   C9-0000551-LIC  295603.35        0.01        0.0         0.0   \n",
       "136      TT   C9-0000451-LIC        0.0        53.3        0.0         0.0   \n",
       "152      VS        402-00840   32485.72       897.0      88.54       147.0   \n",
       "153      VS       402R-00545   97570.24      3307.8       12.0         0.0   \n",
       "\n",
       "                          id  \n",
       "0    (99HT, C10-0000279-LIC)  \n",
       "7            (BBF, MR281525)  \n",
       "14    (BYN, C10-0000528-LIC)  \n",
       "15        (CHO, AU-R-000575)  \n",
       "17     (CPA, C9-0000348-LIC)  \n",
       "18    (CPA, C10-0000461-LIC)  \n",
       "20    (CSC, C10-0000670-LIC)  \n",
       "22    (CCC, C12-0000087-LIC)  \n",
       "26         (DWF, 402R-00296)  \n",
       "27         (DWF, 402R-00804)  \n",
       "30            (DL, MR283369)  \n",
       "37      (EL, C9-0000370-LIC)  \n",
       "38    (EMA, C10-0000774-LIC)  \n",
       "39    (EMF, C10-0000939-LIC)  \n",
       "40    (EMM, C10-0000786-LIC)  \n",
       "41    (EMT, C10-0000695-LIC)  \n",
       "60    (GRG, C10-0000169-LIC)  \n",
       "61    (GRG, C10-0000408-LIC)  \n",
       "64    (GHC, C10-0000414-LIC)  \n",
       "93     (LBC, C9-0000154-LIC)  \n",
       "97    (MPW, C10-0000547-LIC)  \n",
       "98      (MD, C9-0000247-LIC)  \n",
       "100         (NECC, MR283416)  \n",
       "123     (SV, C9-0000146-LIC)  \n",
       "128     (ST, C9-0000323-LIC)  \n",
       "129           (DW, MR282376)  \n",
       "135     (TT, C9-0000551-LIC)  \n",
       "136     (TT, C9-0000451-LIC)  \n",
       "152          (VS, 402-00840)  \n",
       "153         (VS, 402R-00545)  "
      ]
     },
     "execution_count": 50,
     "metadata": {},
     "output_type": "execute_result"
    }
   ],
   "source": [
    "age_val_df"
   ]
  },
  {
   "cell_type": "code",
   "execution_count": 52,
   "id": "7feb7fb1",
   "metadata": {},
   "outputs": [],
   "source": [
    "age_val_df.to_csv('df_inv_analysis_val_0720.csv')"
   ]
  },
  {
   "cell_type": "markdown",
   "id": "f7803b98",
   "metadata": {},
   "source": [
    "## Consider other bucket cutoffs?"
   ]
  },
  {
   "cell_type": "code",
   "execution_count": null,
   "id": "817aa0a3",
   "metadata": {},
   "outputs": [],
   "source": [
    "age_distr = df_inv_df[['company','location','age_int']].groupby(['company','location']).describe().reset_index()"
   ]
  },
  {
   "cell_type": "code",
   "execution_count": null,
   "id": "030741ca",
   "metadata": {},
   "outputs": [],
   "source": [
    "#age_distr.to_csv('df_inv_age_distr.csv')"
   ]
  },
  {
   "cell_type": "markdown",
   "id": "b7c4f459",
   "metadata": {},
   "source": [
    "## age by product category"
   ]
  },
  {
   "cell_type": "code",
   "execution_count": null,
   "id": "0fe941af",
   "metadata": {},
   "outputs": [],
   "source": [
    "df_inv_df['company'].unique()"
   ]
  },
  {
   "cell_type": "code",
   "execution_count": null,
   "id": "ef620776",
   "metadata": {},
   "outputs": [],
   "source": [
    "df_inv_df_with_state = pd.merge(df_inv_df,ca_df_clean[['company_identifier','state']],left_on = 'company',right_on = 'company_identifier',how = 'left')\n",
    "\n"
   ]
  },
  {
   "cell_type": "code",
   "execution_count": null,
   "id": "95059a9d",
   "metadata": {},
   "outputs": [],
   "source": [
    "age_distr_by_product = df_inv_df_with_state[['product_category_name','age_int']].groupby(['product_category_name']).describe()"
   ]
  },
  {
   "cell_type": "code",
   "execution_count": null,
   "id": "ca2048b3",
   "metadata": {},
   "outputs": [],
   "source": [
    "age_distr_by_product.to_csv('age_distr_by_product.csv')"
   ]
  },
  {
   "cell_type": "code",
   "execution_count": null,
   "id": "5a89c47f",
   "metadata": {},
   "outputs": [],
   "source": [
    "age_distr_by_product"
   ]
  },
  {
   "cell_type": "code",
   "execution_count": null,
   "id": "a2f4d917",
   "metadata": {},
   "outputs": [],
   "source": []
  }
 ],
 "metadata": {
  "kernelspec": {
   "display_name": "Python 3",
   "language": "python",
   "name": "python3"
  },
  "language_info": {
   "codemirror_mode": {
    "name": "ipython",
    "version": 3
   },
   "file_extension": ".py",
   "mimetype": "text/x-python",
   "name": "python",
   "nbconvert_exporter": "python",
   "pygments_lexer": "ipython3",
   "version": "3.8.10"
  }
 },
 "nbformat": 4,
 "nbformat_minor": 5
}
