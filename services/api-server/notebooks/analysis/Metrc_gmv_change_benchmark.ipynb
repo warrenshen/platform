{
 "cells": [
  {
   "cell_type": "code",
   "execution_count": 1,
   "id": "37bdd7c3",
   "metadata": {},
   "outputs": [],
   "source": [
    "import warnings\n",
    "warnings.filterwarnings('ignore')"
   ]
  },
  {
   "cell_type": "code",
   "execution_count": 2,
   "id": "11564057",
   "metadata": {},
   "outputs": [],
   "source": [
    "import json\n",
    "import numpy \n",
    "import os\n",
    "import pandas as pd\n",
    "import matplotlib.pyplot as plt\n",
    "%matplotlib inline  \n",
    "import pyarrow\n",
    "import sys\n",
    "from tqdm import tqdm\n",
    "\n",
    "from datetime import date\n",
    "from dotenv import load_dotenv\n",
    "from sqlalchemy import create_engine\n",
    "from os import path\n",
    "from typing import List,Dict, Tuple\n",
    "from collections import defaultdict\n",
    "pd.set_option(\"display.max_columns\", None)\n",
    "\n",
    "load_dotenv(verbose=True)\n",
    "BIGQUERY_CREDENTIALS_PATH = os.environ.get('BIGQUERY_CREDENTIALS_PATH')\n",
    "engine = create_engine('bigquery://bespoke-financial/ProdMetrcData', credentials_path=os.path.expanduser(BIGQUERY_CREDENTIALS_PATH))\n",
    "\n",
    "sys.path.append(path.realpath(path.join(os.getcwd(), \"../core\")))\n",
    "sys.path.append(path.realpath(path.join(os.getcwd(), \"../../src\")))\n",
    "sys.path.append(path.realpath(path.join(os.getcwd(), \"../../scripts\")))\n",
    "\n",
    "import create_queries\n",
    "import prepare_data\n",
    "\n",
    "from bespoke.inventory.analysis.shared import download_util, inventory_types\n",
    "from bespoke.inventory.analysis import active_inventory_util as util\n",
    "from bespoke.inventory.analysis import inventory_valuations_util as valuations_util\n",
    "\n",
    "%load_ext autoreload\n",
    "%autoreload 2"
   ]
  },
  {
   "cell_type": "code",
   "execution_count": 3,
   "id": "e4775b82",
   "metadata": {},
   "outputs": [],
   "source": [
    "from underwriting import data_quality_checks"
   ]
  },
  {
   "cell_type": "code",
   "execution_count": 4,
   "id": "7c7111d5",
   "metadata": {},
   "outputs": [],
   "source": [
    "def cogs_analysis(df_in:pd.DataFrame,df_sales:pd.DataFrame,freq: str) -> Tuple[pd.DataFrame,pd.DataFrame]:\n",
    "    df_sales['per_unit'] = df_sales['tx_total_price'] / df_sales['tx_quantity_sold']\n",
    "    # set frequency\n",
    "    if freq == 'monthly':\n",
    "        df_sales['date'] = df_sales['sales_datetime'].dt.strftime(\"%Y-%m\")\n",
    "    elif freq == 'weekly':\n",
    "        df_sales['date'] = df_sales['sales_datetime'].dt.strftime(\"%Y-%W\")\n",
    "        df_sales['week'] = df_sales['sales_datetime'].dt.strftime(\"%W\")\n",
    "    # total # of trxns\n",
    "    s_total_count = df_sales.groupby('date')['tx_total_price'].count()\n",
    "    df_total_count = pd.Series(s_total_count).to_frame()\n",
    "    df_total_count = df_total_count.reset_index()\n",
    "    df_total_count.rename(columns={'tx_total_price':'total_count'}, inplace=True)\n",
    "    # revenue\n",
    "    s_revenue = df_sales.groupby('date')['tx_total_price'].sum()\n",
    "    df_revenue = pd.Series(s_revenue).to_frame()\n",
    "    df_revenue = df_revenue.reset_index()\n",
    "    df_revenue.rename(columns={'tx_total_price': 'revenue'}, inplace=True)\n",
    "\n",
    "    df_in['per_unit_incoming'] = df_in['shipper_wholesale_price'] / df_in['shipped_quantity']\n",
    "    \n",
    "    # per unit price by package id\n",
    "    df_in_price = df_in[df_in['shipper_wholesale_price'].notnull()]\n",
    "    average_incoming_package_id = df_in_price.groupby('package_id')['per_unit_incoming'].mean()\n",
    "    df_avg_incoming_price = pd.Series(average_incoming_package_id).to_frame()\n",
    "    df_avg_incoming_price = df_avg_incoming_price.reset_index()\n",
    "    # per unit price by product name\n",
    "    average_incoming_product = df_in_price.groupby('product_name')['per_unit_incoming'].mean()\n",
    "    df_avg_product = pd.Series(average_incoming_product).to_frame()\n",
    "    df_avg_product = df_avg_product.reset_index()\n",
    "    df_avg_product.rename(columns={'per_unit_incoming':'per_unit_product'}, inplace=True)\n",
    "\n",
    "    # merge with (cogs by package id)\n",
    "    df_cogs_package_id = pd.merge(df_sales, df_avg_incoming_price, left_on='tx_package_id', right_on='package_id', how='left')\n",
    "    df_cogs_package_id['total_incoming'] = df_cogs_package_id['per_unit_incoming'] * df_cogs_package_id['tx_quantity_sold']\n",
    "    df_cogs_package_id.replace([numpy.inf], numpy.nan, inplace=True)\n",
    "    df_cogs_package_id_notnull = df_cogs_package_id[df_cogs_package_id['total_incoming'].notnull()]\n",
    "\n",
    "    # sum cogs by package id\n",
    "    s_cogs = df_cogs_package_id_notnull.groupby('date')['total_incoming'].sum()\n",
    "    df_cogs_id = pd.Series(s_cogs).to_frame()\n",
    "    df_cogs_id = df_cogs_id.reset_index()\n",
    "    # count # of trxn by package id\n",
    "    s_cogs_count = df_cogs_package_id_notnull.groupby('date')['total_incoming'].count()\n",
    "    df_cogs_count = pd.Series(s_cogs_count).to_frame()\n",
    "    df_cogs_count = df_cogs_count.reset_index()\n",
    "    df_cogs_count.rename(columns={'total_incoming':'count_incoming'}, inplace=True)\n",
    "    \n",
    "    # merge with (cogs by product name)\n",
    "    df_cogs_average_product = pd.merge(df_cogs_package_id, df_avg_product, left_on='tx_product_name', right_on='product_name', how='left')\n",
    "    df_cogs_average_product['total_product'] = df_cogs_average_product['tx_quantity_sold'] * df_cogs_average_product['per_unit_product']\n",
    "    df_cogs_null = df_cogs_average_product[df_cogs_average_product['per_unit_incoming'].isnull()]\n",
    "    df_cogs_product = df_cogs_null[df_cogs_null['per_unit_product'].notnull()]\n",
    "    # sum cogs filldown by product name\n",
    "    product_sum = df_cogs_product.groupby('date')['total_product'].sum()\n",
    "    df_product_sum = pd.Series(product_sum).to_frame()\n",
    "    df_product_sum = df_product_sum.reset_index()\n",
    "    df_product_sum.rename(columns={'total_product':'product_sum'}, inplace=True)\n",
    "    # count # of trxn filldown by product name\n",
    "    product_count = df_cogs_product.groupby('date')['total_product'].count()\n",
    "    df_product_count = pd.Series(product_count).to_frame()\n",
    "    df_product_count = df_product_count.reset_index()\n",
    "    df_product_count.rename(columns={'total_product':'product_count'}, inplace=True)\n",
    "    df_cogs_product_df = pd.merge(df_product_sum, df_product_count)\n",
    "    \n",
    "    # prepare summary\n",
    "    df_summary = pd.merge(df_revenue, df_cogs_product_df, how='left')\n",
    "    df_summary = pd.merge(df_summary, df_cogs_id, how='left')\n",
    "    df_summary['product_sum'] = df_summary['product_sum'].fillna(0)\n",
    "    df_summary['product_count'] = df_summary['product_count'].fillna(0)\n",
    "    # total cogs = by product id cogs + by product name cogs\n",
    "    df_summary['cogs'] = df_summary['total_incoming'] + df_summary['product_sum']\n",
    "    df_summary = pd.merge(df_summary, df_cogs_count)\n",
    "    df_summary = pd.merge(df_summary, df_total_count)\n",
    "    # total count = by package id count + by product count\n",
    "    df_summary['total_count_incoming'] = df_summary['count_incoming'] + df_summary['product_count']\n",
    "    df_summary['margin_$'] = df_summary['revenue'] - df_summary['cogs']\n",
    "    df_summary['margin_%'] = df_summary['margin_$'] / df_summary['revenue']\n",
    "    df_summary['coverage'] = df_summary['total_count_incoming'] / df_summary['total_count']\n",
    "    df_summary_simp = df_summary[['date', 'revenue', 'cogs', 'margin_$', 'margin_%', 'total_count_incoming','product_count','count_incoming', 'coverage']]\n",
    "    \n",
    "    return df_summary_simp,df_cogs_average_product\n",
    "\n",
    "\n"
   ]
  },
  {
   "cell_type": "code",
   "execution_count": 5,
   "id": "f5c6a7fd",
   "metadata": {},
   "outputs": [],
   "source": [
    "TRANSFER_PACKAGES_START_DATE = '2020-01-01'\n",
    "SALES_TRANSACTIONS_START_DATE = '2020-01-01'\n",
    "#CURRENT_MONTH = '2022-02'"
   ]
  },
  {
   "cell_type": "code",
   "execution_count": 6,
   "id": "833eb4ca",
   "metadata": {},
   "outputs": [],
   "source": [
    "ca_df = pd.read_csv('cali_comp.csv',index_col = 0)\n",
    "ca_df.columns = ['company_name','company_identifier','state','licenses']\n",
    "ca_df['company_identifier'] = ca_df['company_identifier'].astype(str)"
   ]
  },
  {
   "cell_type": "code",
   "execution_count": 7,
   "id": "d30959d7",
   "metadata": {},
   "outputs": [
    {
     "data": {
      "text/plain": [
       "(42, 4)"
      ]
     },
     "execution_count": 7,
     "metadata": {},
     "output_type": "execute_result"
    }
   ],
   "source": [
    "ca_df_clean = ca_df[~ca_df['company_identifier'].isin(['PL','WHT','GF','UR'])]\n",
    "ca_df_clean.shape"
   ]
  },
  {
   "cell_type": "code",
   "execution_count": 8,
   "id": "f1c97315",
   "metadata": {},
   "outputs": [
    {
     "data": {
      "text/plain": [
       "42"
      ]
     },
     "execution_count": 8,
     "metadata": {},
     "output_type": "execute_result"
    }
   ],
   "source": [
    "len(ca_df_clean['company_identifier'].unique())"
   ]
  },
  {
   "cell_type": "code",
   "execution_count": 9,
   "id": "152e0e62",
   "metadata": {},
   "outputs": [
    {
     "data": {
      "text/html": [
       "<div>\n",
       "<style scoped>\n",
       "    .dataframe tbody tr th:only-of-type {\n",
       "        vertical-align: middle;\n",
       "    }\n",
       "\n",
       "    .dataframe tbody tr th {\n",
       "        vertical-align: top;\n",
       "    }\n",
       "\n",
       "    .dataframe thead th {\n",
       "        text-align: right;\n",
       "    }\n",
       "</style>\n",
       "<table border=\"1\" class=\"dataframe\">\n",
       "  <thead>\n",
       "    <tr style=\"text-align: right;\">\n",
       "      <th></th>\n",
       "      <th>company_name</th>\n",
       "      <th>company_identifier</th>\n",
       "      <th>state</th>\n",
       "      <th>licenses</th>\n",
       "    </tr>\n",
       "  </thead>\n",
       "  <tbody>\n",
       "    <tr>\n",
       "      <th>0</th>\n",
       "      <td>99 High Tide</td>\n",
       "      <td>99HT</td>\n",
       "      <td>CA</td>\n",
       "      <td>C10-0000279-LIC</td>\n",
       "    </tr>\n",
       "    <tr>\n",
       "      <th>4</th>\n",
       "      <td>Budee</td>\n",
       "      <td>BUD</td>\n",
       "      <td>CA</td>\n",
       "      <td>C9-0000464-LIC;C9-0000467-LIC;C9-0000444-LIC;C...</td>\n",
       "    </tr>\n",
       "    <tr>\n",
       "      <th>6</th>\n",
       "      <td>Cali Greens LLC</td>\n",
       "      <td>CG</td>\n",
       "      <td>CA</td>\n",
       "      <td>C9-0000157-LIC</td>\n",
       "    </tr>\n",
       "    <tr>\n",
       "      <th>7</th>\n",
       "      <td>California Patients Alliance</td>\n",
       "      <td>CPA</td>\n",
       "      <td>CA</td>\n",
       "      <td>C10-0000461-LIC;C9-0000348-LIC</td>\n",
       "    </tr>\n",
       "    <tr>\n",
       "      <th>8</th>\n",
       "      <td>California Patients Club</td>\n",
       "      <td>CPC</td>\n",
       "      <td>CA</td>\n",
       "      <td>C9-0000056-LIC</td>\n",
       "    </tr>\n",
       "    <tr>\n",
       "      <th>9</th>\n",
       "      <td>California Street Cannabis</td>\n",
       "      <td>CSC</td>\n",
       "      <td>CA</td>\n",
       "      <td>C10-0000918-LIC;C10-0000670-LIC</td>\n",
       "    </tr>\n",
       "    <tr>\n",
       "      <th>10</th>\n",
       "      <td>California's Choice Collective</td>\n",
       "      <td>CCC</td>\n",
       "      <td>CA</td>\n",
       "      <td>C12-0000087-LIC</td>\n",
       "    </tr>\n",
       "    <tr>\n",
       "      <th>11</th>\n",
       "      <td>Calm and Collective</td>\n",
       "      <td>CC</td>\n",
       "      <td>CA</td>\n",
       "      <td>C10-0000758-LIC</td>\n",
       "    </tr>\n",
       "    <tr>\n",
       "      <th>15</th>\n",
       "      <td>Dubs Green Garden</td>\n",
       "      <td>DGG</td>\n",
       "      <td>CA</td>\n",
       "      <td>C9-0000016-LIC</td>\n",
       "    </tr>\n",
       "    <tr>\n",
       "      <th>17</th>\n",
       "      <td>E-Leaf</td>\n",
       "      <td>EL</td>\n",
       "      <td>CA</td>\n",
       "      <td>C9-0000370-LIC</td>\n",
       "    </tr>\n",
       "    <tr>\n",
       "      <th>18</th>\n",
       "      <td>Embarc Alameda</td>\n",
       "      <td>EMA</td>\n",
       "      <td>CA</td>\n",
       "      <td>C10-0000774-LIC</td>\n",
       "    </tr>\n",
       "    <tr>\n",
       "      <th>19</th>\n",
       "      <td>Embarc Fairfield</td>\n",
       "      <td>EMF</td>\n",
       "      <td>CA</td>\n",
       "      <td>C10-0000939-LIC</td>\n",
       "    </tr>\n",
       "    <tr>\n",
       "      <th>20</th>\n",
       "      <td>Embarc Martinez</td>\n",
       "      <td>EMM</td>\n",
       "      <td>CA</td>\n",
       "      <td>C10-0000786-LIC</td>\n",
       "    </tr>\n",
       "    <tr>\n",
       "      <th>21</th>\n",
       "      <td>Embarc Tahoe</td>\n",
       "      <td>EMT</td>\n",
       "      <td>CA</td>\n",
       "      <td>C10-0000695-LIC</td>\n",
       "    </tr>\n",
       "    <tr>\n",
       "      <th>24</th>\n",
       "      <td>Good Tree</td>\n",
       "      <td>GT</td>\n",
       "      <td>CA</td>\n",
       "      <td>C9-0000385-LIC;C9-0000170-LIC</td>\n",
       "    </tr>\n",
       "    <tr>\n",
       "      <th>26</th>\n",
       "      <td>Green Rose Green Leaf Care</td>\n",
       "      <td>GRG</td>\n",
       "      <td>CA</td>\n",
       "      <td>C10-0000169-LIC;C10-0000408-LIC</td>\n",
       "    </tr>\n",
       "    <tr>\n",
       "      <th>28</th>\n",
       "      <td>Greenhouse Herbal Center</td>\n",
       "      <td>GHC</td>\n",
       "      <td>CA</td>\n",
       "      <td>C10-0000414-LIC</td>\n",
       "    </tr>\n",
       "    <tr>\n",
       "      <th>30</th>\n",
       "      <td>Herbarium</td>\n",
       "      <td>HB</td>\n",
       "      <td>CA</td>\n",
       "      <td>C10-0000624-LIC;C10-0000339-LIC;C10-0000301-LIC</td>\n",
       "    </tr>\n",
       "    <tr>\n",
       "      <th>31</th>\n",
       "      <td>Hueneme Patient Consumer Collective</td>\n",
       "      <td>HPCC</td>\n",
       "      <td>CA</td>\n",
       "      <td>C10-0000064-LIC;C10-0000005-LIC</td>\n",
       "    </tr>\n",
       "    <tr>\n",
       "      <th>32</th>\n",
       "      <td>HumblCann Inc</td>\n",
       "      <td>HC</td>\n",
       "      <td>CA</td>\n",
       "      <td>C9-0000341-LIC</td>\n",
       "    </tr>\n",
       "    <tr>\n",
       "      <th>33</th>\n",
       "      <td>Indacut</td>\n",
       "      <td>IDC</td>\n",
       "      <td>CA</td>\n",
       "      <td>C9-0000320-LIC</td>\n",
       "    </tr>\n",
       "    <tr>\n",
       "      <th>35</th>\n",
       "      <td>Lucky Box Club</td>\n",
       "      <td>LBC</td>\n",
       "      <td>CA</td>\n",
       "      <td>C9-0000154-LIC</td>\n",
       "    </tr>\n",
       "    <tr>\n",
       "      <th>36</th>\n",
       "      <td>MedLeaf</td>\n",
       "      <td>ML</td>\n",
       "      <td>CA</td>\n",
       "      <td>C9-0000300-LIC</td>\n",
       "    </tr>\n",
       "    <tr>\n",
       "      <th>37</th>\n",
       "      <td>Medicine Woman</td>\n",
       "      <td>MW</td>\n",
       "      <td>CA</td>\n",
       "      <td>C10-0000332-LIC</td>\n",
       "    </tr>\n",
       "    <tr>\n",
       "      <th>38</th>\n",
       "      <td>Monex Place Wellness</td>\n",
       "      <td>MPW</td>\n",
       "      <td>CA</td>\n",
       "      <td>C10-0000547-LIC</td>\n",
       "    </tr>\n",
       "    <tr>\n",
       "      <th>39</th>\n",
       "      <td>Moonflower Delivery</td>\n",
       "      <td>MD</td>\n",
       "      <td>CA</td>\n",
       "      <td>C9-0000247-LIC</td>\n",
       "    </tr>\n",
       "    <tr>\n",
       "      <th>40</th>\n",
       "      <td>NXTLVL Delivery</td>\n",
       "      <td>ND</td>\n",
       "      <td>CA</td>\n",
       "      <td>C9-0000427-LIC</td>\n",
       "    </tr>\n",
       "    <tr>\n",
       "      <th>42</th>\n",
       "      <td>People's Remedy</td>\n",
       "      <td>PRP</td>\n",
       "      <td>CA</td>\n",
       "      <td>C10-0000403-LIC;C10-0000155-LIC;C10-0000286-LIC</td>\n",
       "    </tr>\n",
       "    <tr>\n",
       "      <th>43</th>\n",
       "      <td>People's Remedy Lone Palm</td>\n",
       "      <td>PRL</td>\n",
       "      <td>CA</td>\n",
       "      <td>C10-0000759-LIC</td>\n",
       "    </tr>\n",
       "    <tr>\n",
       "      <th>46</th>\n",
       "      <td>Royal Apothecary</td>\n",
       "      <td>RA</td>\n",
       "      <td>CA</td>\n",
       "      <td>C10-0000596-LIC</td>\n",
       "    </tr>\n",
       "    <tr>\n",
       "      <th>47</th>\n",
       "      <td>Royal Greens Delivery</td>\n",
       "      <td>RGD</td>\n",
       "      <td>CA</td>\n",
       "      <td>C9-0000057-LIC</td>\n",
       "    </tr>\n",
       "    <tr>\n",
       "      <th>48</th>\n",
       "      <td>San Fernando Valley Patients Cooperative</td>\n",
       "      <td>SFV</td>\n",
       "      <td>CA</td>\n",
       "      <td>C10-0000041-LIC</td>\n",
       "    </tr>\n",
       "    <tr>\n",
       "      <th>49</th>\n",
       "      <td>Sava</td>\n",
       "      <td>SV</td>\n",
       "      <td>CA</td>\n",
       "      <td>C9-0000146-LIC</td>\n",
       "    </tr>\n",
       "    <tr>\n",
       "      <th>50</th>\n",
       "      <td>Shangri LA Care Collective</td>\n",
       "      <td>SLCC</td>\n",
       "      <td>CA</td>\n",
       "      <td>C10-0000474-LIC</td>\n",
       "    </tr>\n",
       "    <tr>\n",
       "      <th>51</th>\n",
       "      <td>Sovereign</td>\n",
       "      <td>SO</td>\n",
       "      <td>CA</td>\n",
       "      <td>C10-0000271-LIC;C12-0000328-LIC;C9-0000130-LIC</td>\n",
       "    </tr>\n",
       "    <tr>\n",
       "      <th>52</th>\n",
       "      <td>Sticky Thumb</td>\n",
       "      <td>ST</td>\n",
       "      <td>CA</td>\n",
       "      <td>C9-0000323-LIC</td>\n",
       "    </tr>\n",
       "    <tr>\n",
       "      <th>54</th>\n",
       "      <td>The Good Leaf</td>\n",
       "      <td>TGL</td>\n",
       "      <td>CA</td>\n",
       "      <td>C9-0000412-LIC</td>\n",
       "    </tr>\n",
       "    <tr>\n",
       "      <th>55</th>\n",
       "      <td>The Joy Reserve</td>\n",
       "      <td>TJR</td>\n",
       "      <td>CA</td>\n",
       "      <td>C9-0000105-LIC</td>\n",
       "    </tr>\n",
       "    <tr>\n",
       "      <th>57</th>\n",
       "      <td>Three Trees</td>\n",
       "      <td>TT</td>\n",
       "      <td>CA</td>\n",
       "      <td>C9-0000451-LIC</td>\n",
       "    </tr>\n",
       "    <tr>\n",
       "      <th>58</th>\n",
       "      <td>Tree4Life</td>\n",
       "      <td>T4L</td>\n",
       "      <td>CA</td>\n",
       "      <td>C12-0000302-LIC</td>\n",
       "    </tr>\n",
       "    <tr>\n",
       "      <th>60</th>\n",
       "      <td>Universal Herbal Health Center</td>\n",
       "      <td>UHHC</td>\n",
       "      <td>CA</td>\n",
       "      <td>C9-0000082-LIC;C10-0000817-LIC</td>\n",
       "    </tr>\n",
       "    <tr>\n",
       "      <th>63</th>\n",
       "      <td>Voyage</td>\n",
       "      <td>VOY</td>\n",
       "      <td>CA</td>\n",
       "      <td>C10-0000802-LIC;C12-0000030-LIC;C12-0000159-LIC</td>\n",
       "    </tr>\n",
       "  </tbody>\n",
       "</table>\n",
       "</div>"
      ],
      "text/plain": [
       "                                company_name company_identifier state  \\\n",
       "0                               99 High Tide               99HT    CA   \n",
       "4                                      Budee                BUD    CA   \n",
       "6                            Cali Greens LLC                 CG    CA   \n",
       "7               California Patients Alliance                CPA    CA   \n",
       "8                   California Patients Club                CPC    CA   \n",
       "9                 California Street Cannabis                CSC    CA   \n",
       "10            California's Choice Collective                CCC    CA   \n",
       "11                       Calm and Collective                 CC    CA   \n",
       "15                         Dubs Green Garden                DGG    CA   \n",
       "17                                    E-Leaf                 EL    CA   \n",
       "18                            Embarc Alameda                EMA    CA   \n",
       "19                          Embarc Fairfield                EMF    CA   \n",
       "20                           Embarc Martinez                EMM    CA   \n",
       "21                              Embarc Tahoe                EMT    CA   \n",
       "24                                 Good Tree                 GT    CA   \n",
       "26                Green Rose Green Leaf Care                GRG    CA   \n",
       "28                  Greenhouse Herbal Center                GHC    CA   \n",
       "30                                 Herbarium                 HB    CA   \n",
       "31       Hueneme Patient Consumer Collective               HPCC    CA   \n",
       "32                             HumblCann Inc                 HC    CA   \n",
       "33                                   Indacut                IDC    CA   \n",
       "35                            Lucky Box Club                LBC    CA   \n",
       "36                                   MedLeaf                 ML    CA   \n",
       "37                            Medicine Woman                 MW    CA   \n",
       "38                      Monex Place Wellness                MPW    CA   \n",
       "39                       Moonflower Delivery                 MD    CA   \n",
       "40                           NXTLVL Delivery                 ND    CA   \n",
       "42                           People's Remedy                PRP    CA   \n",
       "43                 People's Remedy Lone Palm                PRL    CA   \n",
       "46                          Royal Apothecary                 RA    CA   \n",
       "47                     Royal Greens Delivery                RGD    CA   \n",
       "48  San Fernando Valley Patients Cooperative                SFV    CA   \n",
       "49                                      Sava                 SV    CA   \n",
       "50                Shangri LA Care Collective               SLCC    CA   \n",
       "51                                 Sovereign                 SO    CA   \n",
       "52                              Sticky Thumb                 ST    CA   \n",
       "54                             The Good Leaf                TGL    CA   \n",
       "55                           The Joy Reserve                TJR    CA   \n",
       "57                               Three Trees                 TT    CA   \n",
       "58                                 Tree4Life                T4L    CA   \n",
       "60            Universal Herbal Health Center               UHHC    CA   \n",
       "63                                    Voyage                VOY    CA   \n",
       "\n",
       "                                             licenses  \n",
       "0                                     C10-0000279-LIC  \n",
       "4   C9-0000464-LIC;C9-0000467-LIC;C9-0000444-LIC;C...  \n",
       "6                                      C9-0000157-LIC  \n",
       "7                      C10-0000461-LIC;C9-0000348-LIC  \n",
       "8                                      C9-0000056-LIC  \n",
       "9                     C10-0000918-LIC;C10-0000670-LIC  \n",
       "10                                    C12-0000087-LIC  \n",
       "11                                    C10-0000758-LIC  \n",
       "15                                     C9-0000016-LIC  \n",
       "17                                     C9-0000370-LIC  \n",
       "18                                    C10-0000774-LIC  \n",
       "19                                    C10-0000939-LIC  \n",
       "20                                    C10-0000786-LIC  \n",
       "21                                    C10-0000695-LIC  \n",
       "24                      C9-0000385-LIC;C9-0000170-LIC  \n",
       "26                    C10-0000169-LIC;C10-0000408-LIC  \n",
       "28                                    C10-0000414-LIC  \n",
       "30    C10-0000624-LIC;C10-0000339-LIC;C10-0000301-LIC  \n",
       "31                    C10-0000064-LIC;C10-0000005-LIC  \n",
       "32                                     C9-0000341-LIC  \n",
       "33                                     C9-0000320-LIC  \n",
       "35                                     C9-0000154-LIC  \n",
       "36                                     C9-0000300-LIC  \n",
       "37                                    C10-0000332-LIC  \n",
       "38                                    C10-0000547-LIC  \n",
       "39                                     C9-0000247-LIC  \n",
       "40                                     C9-0000427-LIC  \n",
       "42    C10-0000403-LIC;C10-0000155-LIC;C10-0000286-LIC  \n",
       "43                                    C10-0000759-LIC  \n",
       "46                                    C10-0000596-LIC  \n",
       "47                                     C9-0000057-LIC  \n",
       "48                                    C10-0000041-LIC  \n",
       "49                                     C9-0000146-LIC  \n",
       "50                                    C10-0000474-LIC  \n",
       "51     C10-0000271-LIC;C12-0000328-LIC;C9-0000130-LIC  \n",
       "52                                     C9-0000323-LIC  \n",
       "54                                     C9-0000412-LIC  \n",
       "55                                     C9-0000105-LIC  \n",
       "57                                     C9-0000451-LIC  \n",
       "58                                    C12-0000302-LIC  \n",
       "60                     C9-0000082-LIC;C10-0000817-LIC  \n",
       "63    C10-0000802-LIC;C12-0000030-LIC;C12-0000159-LIC  "
      ]
     },
     "execution_count": 9,
     "metadata": {},
     "output_type": "execute_result"
    }
   ],
   "source": [
    "ca_df_clean"
   ]
  },
  {
   "cell_type": "code",
   "execution_count": 10,
   "id": "211217a5",
   "metadata": {},
   "outputs": [],
   "source": [
    "def calculate_ca_gmv_change(company_identifier,transfer_packages_start_date,sales_transactrions_start_date):\n",
    "    # setup\n",
    "    df_summary_simp_list = {}\n",
    "    quality_metric_list = list()\n",
    "    # read data\n",
    "    df_in,df_sales_deduped,bad_dl,unknown_transfer,rwp,miss_incoming,miss_receipts = data_quality_checks.run(company_identifier,transfer_packages_start_date,sales_transactrions_start_date)    \n",
    "    licenses = df_sales_deduped['license_number'].unique()\n",
    "    # loop thru locations\n",
    "    for l in tqdm(licenses):\n",
    "        print(l)\n",
    "        df_in_l = df_in[df_in['license_number'] == l]\n",
    "        df_sales_deduped_l = df_sales_deduped[df_sales_deduped['license_number'] == l]\n",
    "        df_in_l['per_unit_incoming'] = df_in_l['shipper_wholesale_price'] / df_in_l['shipped_quantity']\n",
    "        df_in_l = df_in_l[df_in_l['per_unit_incoming'] <= 10000]\n",
    "        df_sales_l = df_sales_deduped_l\n",
    "        df_summary_simp,df_cogs_average_product = cogs_analysis(df_in_l,df_sales_l,'monthly')\n",
    "        df_summary_simp.index = df_summary_simp.date \n",
    "        # tax treatment\n",
    "        df_summary_simp['revenue_after_tax'] = df_summary_simp['revenue'] * 1.15\n",
    "        df_summary_simp['cogs_after_tax'] = df_summary_simp['cogs'] * 1.27\n",
    "        df_summary_simp['margin_$_after_tax'] = df_summary_simp['revenue_after_tax'] - df_summary_simp['cogs_after_tax']\n",
    "        df_summary_simp['margin_%_after_tax'] = df_summary_simp['margin_$_after_tax'] / df_summary_simp['revenue_after_tax']\n",
    "        \n",
    "        #revenue change\n",
    "        df_summary_simp['revenue_change'] = df_summary_simp['revenue'].pct_change()\n",
    "        df_summary_simp['revenue_change_after_tax'] = df_summary_simp['revenue_after_tax'].pct_change()\n",
    "        \n",
    "        #rolling gm %\n",
    "        df_summary_simp['gm_past_quarter_after_tax'] = df_summary_simp[['margin_%_after_tax']].rolling(3).mean().values\n",
    "        df_summary_simp['gm_past_2quarters_after_tax'] = df_summary_simp[['margin_%_after_tax']].rolling(6).mean().values\n",
    "        df_summary_simp['gm_past_3quarters_after_tax'] = df_summary_simp[['margin_%_after_tax']].rolling(9).mean().values\n",
    "        \n",
    "        #rolling gm $\n",
    "        df_summary_simp['gm$_past_quarter_after_tax'] = df_summary_simp[['margin_$_after_tax']].rolling(3).mean().values\n",
    "        df_summary_simp['gm$_past_2quarters_after_tax'] = df_summary_simp[['margin_$_after_tax']].rolling(6).mean().values\n",
    "        df_summary_simp['gm$_past_3quarters_after_tax'] = df_summary_simp[['margin_$_after_tax']].rolling(9).mean().values\n",
    "        df_summary_simp_list[l] = df_summary_simp\n",
    "            \n",
    "    quality_metric_list.append(list([bad_dl,unknown_transfer,rwp,miss_incoming,miss_receipts]))       \n",
    "    return df_summary_simp_list,quality_metric_list\n",
    "    "
   ]
  },
  {
   "cell_type": "code",
   "execution_count": 13,
   "id": "9127097f",
   "metadata": {},
   "outputs": [],
   "source": [
    "def get_ca_gmv_change_bm_list(company_list,transfer_packages_start_date,sales_transactrions_start_date):\n",
    "    cogs_df_list = {}\n",
    "    quality_metric_list = {}\n",
    "    for c in tqdm(company_list):\n",
    "        print(c)\n",
    "        cogs_df,quality_metric = calculate_ca_gmv_change([c],transfer_packages_start_date,sales_transactrions_start_date)\n",
    "        cogs_df_list[c] = cogs_df\n",
    "        quality_metric_list[c] = quality_metric\n",
    "    return cogs_df_list,quality_metric_list\n",
    "    \n",
    "    "
   ]
  },
  {
   "cell_type": "code",
   "execution_count": null,
   "id": "56a8398b",
   "metadata": {},
   "outputs": [],
   "source": [
    "#test out\n",
    "#a,b = get_ca_gmv_change_bm_list(list(ca_df_clean['company_identifier'])[0:2],TRANSFER_PACKAGES_START_DATE,SALES_TRANSACTIONS_START_DATE,CURRENT_MONTH)\n"
   ]
  },
  {
   "cell_type": "markdown",
   "id": "8c494fcb",
   "metadata": {},
   "source": [
    "# run"
   ]
  },
  {
   "cell_type": "code",
   "execution_count": null,
   "id": "b2e8ac83",
   "metadata": {},
   "outputs": [],
   "source": [
    "# no PL, WHT\n",
    "# no GF (bad download history)\n",
    "#UR: Data too big???"
   ]
  },
  {
   "cell_type": "code",
   "execution_count": 14,
   "id": "5960d9cc",
   "metadata": {},
   "outputs": [
    {
     "name": "stderr",
     "output_type": "stream",
     "text": [
      "\r",
      "  0%|          | 0/42 [00:00<?, ?it/s]"
     ]
    },
    {
     "name": "stdout",
     "output_type": "stream",
     "text": [
      "99HT\n",
      "Verifying download summaries for license C10-0000279-LIC...\n",
      "Earliest download summary: 2021-01-01\n",
      "Latest download summary: 2022-03-15\n",
      "\n",
      "[SUCCESS] All download summaries look good!\n",
      "[SUCCESS] No unknown transfer packages!\n",
      "93.0% of incoming transfer packages have receiver wholesale price\n",
      "# transactions missing incoming transfer package: 8210 (8.031382062920645%)\n",
      "# transactions total: 102224\n",
      "# receipts with mismatching transactions: 0 (0.0%)\n",
      "# receipts missing transactions: 0 (0.0%)\n",
      "# receipts total: 47357\n"
     ]
    },
    {
     "name": "stderr",
     "output_type": "stream",
     "text": [
      "\n",
      "  0%|          | 0/1 [00:00<?, ?it/s]\u001b[A"
     ]
    },
    {
     "name": "stdout",
     "output_type": "stream",
     "text": [
      "C10-0000279-LIC\n"
     ]
    },
    {
     "name": "stderr",
     "output_type": "stream",
     "text": [
      "\n",
      "100%|██████████| 1/1 [00:00<00:00,  1.17it/s]\u001b[A\n",
      "  2%|▏         | 1/42 [00:31<21:16, 31.13s/it]"
     ]
    },
    {
     "name": "stdout",
     "output_type": "stream",
     "text": [
      "BUD\n",
      "Verifying download summaries for license C9-0000167-LIC...\n",
      "Earliest download summary: 2021-01-01\n",
      "Latest download summary: 2022-02-24\n",
      "\n",
      "Verifying download summaries for license C9-0000399-LIC...\n",
      "Earliest download summary: 2021-01-01\n",
      "Latest download summary: 2022-02-24\n",
      "\n",
      "Verifying download summaries for license C9-0000444-LIC...\n",
      "Earliest download summary: 2021-01-01\n",
      "Latest download summary: 2022-02-24\n",
      "\n",
      "Verifying download summaries for license C9-0000464-LIC...\n",
      "Earliest download summary: 2021-01-01\n",
      "Latest download summary: 2022-02-24\n",
      "\n",
      "Verifying download summaries for license C9-0000467-LIC...\n",
      "Earliest download summary: 2021-01-01\n",
      "Latest download summary: 2022-02-24\n",
      "\n",
      "[SUCCESS] All download summaries look good!\n",
      "[SUCCESS] No unknown transfer packages!\n",
      "85.0% of incoming transfer packages have receiver wholesale price\n",
      "# transactions missing incoming transfer package: 65133 (18.385856555711126%)\n",
      "# transactions total: 354256\n",
      "# receipts with mismatching transactions: 0 (0.0%)\n",
      "# receipts missing transactions: 2 (0.000914904712674175%)\n",
      "# receipts total: 218602\n"
     ]
    },
    {
     "name": "stderr",
     "output_type": "stream",
     "text": [
      "\n",
      "  0%|          | 0/5 [00:00<?, ?it/s]\u001b[A"
     ]
    },
    {
     "name": "stdout",
     "output_type": "stream",
     "text": [
      "C9-0000464-LIC\n"
     ]
    },
    {
     "name": "stderr",
     "output_type": "stream",
     "text": [
      "\n",
      " 20%|██        | 1/5 [00:00<00:02,  1.63it/s]\u001b[A"
     ]
    },
    {
     "name": "stdout",
     "output_type": "stream",
     "text": [
      "C9-0000467-LIC\n"
     ]
    },
    {
     "name": "stderr",
     "output_type": "stream",
     "text": [
      "\n",
      " 40%|████      | 2/5 [00:00<00:01,  2.17it/s]\u001b[A"
     ]
    },
    {
     "name": "stdout",
     "output_type": "stream",
     "text": [
      "C9-0000399-LIC\n"
     ]
    },
    {
     "name": "stderr",
     "output_type": "stream",
     "text": [
      "\n",
      " 60%|██████    | 3/5 [00:01<00:01,  1.71it/s]\u001b[A"
     ]
    },
    {
     "name": "stdout",
     "output_type": "stream",
     "text": [
      "C9-0000444-LIC\n"
     ]
    },
    {
     "name": "stderr",
     "output_type": "stream",
     "text": [
      "\n",
      " 80%|████████  | 4/5 [00:01<00:00,  2.19it/s]\u001b[A"
     ]
    },
    {
     "name": "stdout",
     "output_type": "stream",
     "text": [
      "C9-0000167-LIC\n"
     ]
    },
    {
     "name": "stderr",
     "output_type": "stream",
     "text": [
      "\n",
      "100%|██████████| 5/5 [00:03<00:00,  1.56it/s]\u001b[A\n",
      "  5%|▍         | 2/42 [01:24<29:24, 44.11s/it]"
     ]
    },
    {
     "name": "stdout",
     "output_type": "stream",
     "text": [
      "CG\n",
      "Verifying download summaries for license C9-0000157-LIC...\n",
      "Earliest download summary: 2020-01-01\n",
      "Latest download summary: 2022-03-15\n",
      "\n",
      "[SUCCESS] All download summaries look good!\n",
      "[SUCCESS] No unknown transfer packages!\n",
      "95.0% of incoming transfer packages have receiver wholesale price\n",
      "# transactions missing incoming transfer package: 257 (1.2467860088293794%)\n",
      "# transactions total: 20613\n",
      "# receipts with mismatching transactions: 0 (0.0%)\n",
      "# receipts missing transactions: 0 (0.0%)\n",
      "# receipts total: 11337\n"
     ]
    },
    {
     "name": "stderr",
     "output_type": "stream",
     "text": [
      "\n",
      "  0%|          | 0/1 [00:00<?, ?it/s]\u001b[A\n",
      "100%|██████████| 1/1 [00:00<00:00,  5.52it/s]\u001b[A\n",
      "  7%|▋         | 3/42 [01:47<22:24, 34.46s/it]"
     ]
    },
    {
     "name": "stdout",
     "output_type": "stream",
     "text": [
      "C9-0000157-LIC\n",
      "CPA\n",
      "Verifying download summaries for license CCL19-0004859...\n",
      "Earliest download summary: 2020-01-01\n",
      "Latest download summary: 2022-03-15\n",
      "\n",
      "Verifying download summaries for license CDPH-10003278...\n",
      "Earliest download summary: 2020-01-01\n",
      "Latest download summary: 2022-03-15\n",
      "\n",
      "Verifying download summaries for license C9-0000348-LIC...\n",
      "Earliest download summary: 2020-01-01\n",
      "Latest download summary: 2022-03-15\n",
      "\n",
      "Verifying download summaries for license C10-0000461-LIC...\n",
      "Earliest download summary: 2020-01-01\n",
      "Latest download summary: 2022-03-15\n",
      "\n",
      "Verifying download summaries for license C11-0000844-LIC...\n",
      "Earliest download summary: 2020-01-01\n",
      "Latest download summary: 2022-03-15\n",
      "\n",
      "[SUCCESS] All download summaries look good!\n",
      "[SUCCESS] No unknown transfer packages!\n",
      "91.0% of incoming transfer packages have receiver wholesale price\n",
      "# transactions missing incoming transfer package: 6166 (1.5297818708691424%)\n",
      "# transactions total: 403064\n",
      "# receipts with mismatching transactions: 0 (0.0%)\n",
      "# receipts missing transactions: 2 (0.0007970572645791737%)\n",
      "# receipts total: 250923\n"
     ]
    },
    {
     "name": "stderr",
     "output_type": "stream",
     "text": [
      "\n",
      "  0%|          | 0/2 [00:00<?, ?it/s]\u001b[A"
     ]
    },
    {
     "name": "stdout",
     "output_type": "stream",
     "text": [
      "C10-0000461-LIC\n"
     ]
    },
    {
     "name": "stderr",
     "output_type": "stream",
     "text": [
      "\n",
      " 50%|█████     | 1/2 [00:02<00:02,  2.84s/it]\u001b[A"
     ]
    },
    {
     "name": "stdout",
     "output_type": "stream",
     "text": [
      "C9-0000348-LIC\n"
     ]
    },
    {
     "name": "stderr",
     "output_type": "stream",
     "text": [
      "\n",
      "100%|██████████| 2/2 [00:03<00:00,  1.86s/it]\u001b[A\n",
      " 10%|▉         | 4/42 [02:45<27:46, 43.85s/it]"
     ]
    },
    {
     "name": "stdout",
     "output_type": "stream",
     "text": [
      "CPC\n",
      "Verifying download summaries for license C9-0000056-LIC...\n",
      "Earliest download summary: 2020-01-01\n",
      "Latest download summary: 2022-02-01\n",
      "\n",
      "[SUCCESS] All download summaries look good!\n",
      "[SUCCESS] No unknown transfer packages!\n",
      "96.0% of incoming transfer packages have receiver wholesale price\n",
      "# transactions missing incoming transfer package: 513 (0.8194102801648404%)\n",
      "# transactions total: 62606\n",
      "# receipts with mismatching transactions: 0 (0.0%)\n",
      "# receipts missing transactions: 0 (0.0%)\n",
      "# receipts total: 38338\n"
     ]
    },
    {
     "name": "stderr",
     "output_type": "stream",
     "text": [
      "\n",
      "  0%|          | 0/1 [00:00<?, ?it/s]\u001b[A"
     ]
    },
    {
     "name": "stdout",
     "output_type": "stream",
     "text": [
      "C9-0000056-LIC\n"
     ]
    },
    {
     "name": "stderr",
     "output_type": "stream",
     "text": [
      "\n",
      "100%|██████████| 1/1 [00:00<00:00,  2.01it/s]\u001b[A\n",
      " 12%|█▏        | 5/42 [03:11<22:59, 37.30s/it]"
     ]
    },
    {
     "name": "stdout",
     "output_type": "stream",
     "text": [
      "CSC\n",
      "Verifying download summaries for license C10-0000670-LIC...\n",
      "Earliest download summary: 2020-01-01\n",
      "Latest download summary: 2022-03-15\n",
      "Found bad download summary for license C10-0000670-LIC on date 2022-03-08\n",
      "\n",
      "Verifying download summaries for license C10-0000918-LIC...\n",
      "Earliest download summary: 2020-01-01\n",
      "Latest download summary: 2022-03-15\n",
      "Found bad download summary for license C10-0000918-LIC on date 2022-03-08\n",
      "\n",
      "[FAILURE] Found a total of 2 bad download summaries\n",
      "[SUCCESS] No unknown transfer packages!\n",
      "98.0% of incoming transfer packages have receiver wholesale price\n",
      "# transactions missing incoming transfer package: 0 (0.0%)\n",
      "# transactions total: 252738\n",
      "# receipts with mismatching transactions: 0 (0.0%)\n",
      "# receipts missing transactions: 19 (0.013786297871105371%)\n",
      "# receipts total: 137818\n"
     ]
    },
    {
     "name": "stderr",
     "output_type": "stream",
     "text": [
      "\n",
      "  0%|          | 0/2 [00:00<?, ?it/s]\u001b[A"
     ]
    },
    {
     "name": "stdout",
     "output_type": "stream",
     "text": [
      "C10-0000670-LIC\n"
     ]
    },
    {
     "name": "stderr",
     "output_type": "stream",
     "text": [
      "\n",
      " 50%|█████     | 1/2 [00:02<00:02,  2.10s/it]\u001b[A\n",
      "100%|██████████| 2/2 [00:02<00:00,  1.14s/it]\u001b[A\n"
     ]
    },
    {
     "name": "stdout",
     "output_type": "stream",
     "text": [
      "C10-0000918-LIC\n"
     ]
    },
    {
     "name": "stderr",
     "output_type": "stream",
     "text": [
      "\r",
      " 14%|█▍        | 6/42 [04:08<26:29, 44.16s/it]"
     ]
    },
    {
     "name": "stdout",
     "output_type": "stream",
     "text": [
      "CCC\n",
      "Verifying download summaries for license C12-0000087-LIC...\n",
      "Earliest download summary: 2020-01-01\n",
      "Latest download summary: 2022-03-15\n",
      "Found bad download summary for license C12-0000087-LIC on date 2022-02-20\n",
      "\n",
      "[FAILURE] Found a total of 1 bad download summaries\n",
      "[SUCCESS] No unknown transfer packages!\n",
      "86.0% of incoming transfer packages have receiver wholesale price\n",
      "# transactions missing incoming transfer package: 16637 (5.1185886884635625%)\n",
      "# transactions total: 325031\n",
      "# receipts with mismatching transactions: 0 (0.0%)\n",
      "# receipts missing transactions: 5 (0.0026521962837425675%)\n",
      "# receipts total: 188523\n"
     ]
    },
    {
     "name": "stderr",
     "output_type": "stream",
     "text": [
      "\n",
      "  0%|          | 0/1 [00:00<?, ?it/s]\u001b[A"
     ]
    },
    {
     "name": "stdout",
     "output_type": "stream",
     "text": [
      "C12-0000087-LIC\n"
     ]
    },
    {
     "name": "stderr",
     "output_type": "stream",
     "text": [
      "\n",
      "100%|██████████| 1/1 [00:02<00:00,  2.83s/it]\u001b[A\n",
      " 17%|█▋        | 7/42 [05:02<27:32, 47.21s/it]"
     ]
    },
    {
     "name": "stdout",
     "output_type": "stream",
     "text": [
      "CC\n",
      "Verifying download summaries for license C10-0000758-LIC...\n",
      "Earliest download summary: 2021-10-12\n",
      "Latest download summary: 2022-03-15\n",
      "\n",
      "[SUCCESS] All download summaries look good!\n",
      "[SUCCESS] No unknown transfer packages!\n",
      "97.0% of incoming transfer packages have receiver wholesale price\n",
      "# transactions missing incoming transfer package: 0 (0.0%)\n",
      "# transactions total: 28538\n",
      "# receipts with mismatching transactions: 0 (0.0%)\n",
      "# receipts missing transactions: 1 (0.0057553956834532375%)\n",
      "# receipts total: 17375\n"
     ]
    },
    {
     "name": "stderr",
     "output_type": "stream",
     "text": [
      "\n",
      "  0%|          | 0/1 [00:00<?, ?it/s]\u001b[A"
     ]
    },
    {
     "name": "stdout",
     "output_type": "stream",
     "text": [
      "C10-0000758-LIC\n"
     ]
    },
    {
     "name": "stderr",
     "output_type": "stream",
     "text": [
      "\n",
      "100%|██████████| 1/1 [00:00<00:00,  4.45it/s]\u001b[A\n",
      " 19%|█▉        | 8/42 [05:25<22:28, 39.68s/it]"
     ]
    },
    {
     "name": "stdout",
     "output_type": "stream",
     "text": [
      "DGG\n",
      "Verifying download summaries for license C9-0000016-LIC...\n",
      "Earliest download summary: 2020-01-01\n",
      "Latest download summary: 2022-03-15\n",
      "Found bad download summary for license C9-0000016-LIC on date 2022-02-22\n",
      "\n",
      "[FAILURE] Found a total of 1 bad download summaries\n",
      "[SUCCESS] No unknown transfer packages!\n",
      "95.0% of incoming transfer packages have receiver wholesale price\n",
      "# transactions missing incoming transfer package: 1599 (4.5338550527390264%)\n",
      "# transactions total: 35268\n",
      "# receipts with mismatching transactions: 0 (0.0%)\n",
      "# receipts missing transactions: 0 (0.0%)\n",
      "# receipts total: 15644\n"
     ]
    },
    {
     "name": "stderr",
     "output_type": "stream",
     "text": [
      "\n",
      "  0%|          | 0/1 [00:00<?, ?it/s]\u001b[A"
     ]
    },
    {
     "name": "stdout",
     "output_type": "stream",
     "text": [
      "C9-0000016-LIC\n"
     ]
    },
    {
     "name": "stderr",
     "output_type": "stream",
     "text": [
      "\n",
      "100%|██████████| 1/1 [00:00<00:00,  3.52it/s]\u001b[A\n",
      " 21%|██▏       | 9/42 [05:48<18:59, 34.54s/it]"
     ]
    },
    {
     "name": "stdout",
     "output_type": "stream",
     "text": [
      "EL\n",
      "Verifying download summaries for license C9-0000370-LIC...\n",
      "Earliest download summary: 2020-01-01\n",
      "Latest download summary: 2022-03-15\n",
      "\n",
      "[SUCCESS] All download summaries look good!\n",
      "[SUCCESS] No unknown transfer packages!\n",
      "98.0% of incoming transfer packages have receiver wholesale price\n",
      "# transactions missing incoming transfer package: 0 (0.0%)\n",
      "# transactions total: 20444\n",
      "# receipts with mismatching transactions: 0 (0.0%)\n",
      "# receipts missing transactions: 0 (0.0%)\n",
      "# receipts total: 8001\n"
     ]
    },
    {
     "name": "stderr",
     "output_type": "stream",
     "text": [
      "\n",
      "  0%|          | 0/1 [00:00<?, ?it/s]\u001b[A\n",
      "100%|██████████| 1/1 [00:00<00:00,  6.32it/s]\u001b[A\n",
      " 24%|██▍       | 10/42 [06:10<16:14, 30.44s/it]"
     ]
    },
    {
     "name": "stdout",
     "output_type": "stream",
     "text": [
      "C9-0000370-LIC\n",
      "EMA\n",
      "Verifying download summaries for license C10-0000774-LIC...\n",
      "Earliest download summary: 2021-10-12\n",
      "Latest download summary: 2022-03-15\n",
      "\n",
      "Verifying download summaries for license C10-0000695-LIC...\n",
      "Earliest download summary: 2021-10-12\n",
      "Latest download summary: 2022-02-09\n",
      "\n",
      "Verifying download summaries for license C10-0000786-LIC...\n",
      "Earliest download summary: 2021-10-12\n",
      "Latest download summary: 2022-02-09\n",
      "\n",
      "Verifying download summaries for license C10-0000939-LIC...\n",
      "Earliest download summary: 2022-01-25\n",
      "Latest download summary: 2022-02-09\n",
      "\n",
      "[SUCCESS] All download summaries look good!\n",
      "[FAILURE] Fxound a total of 42 unknown transfer packages\n",
      "97.0% of incoming transfer packages have receiver wholesale price\n",
      "# transactions missing incoming transfer package: 0 (0.0%)\n",
      "# transactions total: 107802\n",
      "# receipts with mismatching transactions: 0 (0.0%)\n",
      "# receipts missing transactions: 0 (0.0%)\n",
      "# receipts total: 47754\n"
     ]
    },
    {
     "name": "stderr",
     "output_type": "stream",
     "text": [
      "\n",
      "  0%|          | 0/1 [00:00<?, ?it/s]\u001b[A"
     ]
    },
    {
     "name": "stdout",
     "output_type": "stream",
     "text": [
      "C10-0000774-LIC\n"
     ]
    },
    {
     "name": "stderr",
     "output_type": "stream",
     "text": [
      "\n",
      "100%|██████████| 1/1 [00:00<00:00,  1.11it/s]\u001b[A\n",
      " 26%|██▌       | 11/42 [06:41<15:52, 30.74s/it]"
     ]
    },
    {
     "name": "stdout",
     "output_type": "stream",
     "text": [
      "EMF\n",
      "Verifying download summaries for license C10-0000939-LIC...\n",
      "Earliest download summary: 2021-10-01\n",
      "Latest download summary: 2022-03-15\n",
      "\n",
      "[SUCCESS] All download summaries look good!\n",
      "[SUCCESS] No unknown transfer packages!\n",
      "95.0% of incoming transfer packages have receiver wholesale price\n",
      "# transactions missing incoming transfer package: 0 (0.0%)\n",
      "# transactions total: 8024\n",
      "# receipts with mismatching transactions: 0 (0.0%)\n",
      "# receipts missing transactions: 0 (0.0%)\n",
      "# receipts total: 3300\n"
     ]
    },
    {
     "name": "stderr",
     "output_type": "stream",
     "text": [
      "\n",
      "100%|██████████| 1/1 [00:00<00:00, 15.21it/s]\n",
      " 29%|██▊       | 12/42 [07:01<13:39, 27.30s/it]"
     ]
    },
    {
     "name": "stdout",
     "output_type": "stream",
     "text": [
      "C10-0000939-LIC\n",
      "EMM\n",
      "Verifying download summaries for license C10-0000786-LIC...\n",
      "Earliest download summary: 2022-02-07\n",
      "Latest download summary: 2022-03-15\n",
      "\n",
      "[SUCCESS] All download summaries look good!\n",
      "[SUCCESS] No unknown transfer packages!\n",
      "97.0% of incoming transfer packages have receiver wholesale price\n",
      "# transactions missing incoming transfer package: 0 (0.0%)\n",
      "# transactions total: 124225\n",
      "# receipts with mismatching transactions: 0 (0.0%)\n",
      "# receipts missing transactions: 0 (0.0%)\n",
      "# receipts total: 59011\n"
     ]
    },
    {
     "name": "stderr",
     "output_type": "stream",
     "text": [
      "\n",
      "  0%|          | 0/1 [00:00<?, ?it/s]\u001b[A"
     ]
    },
    {
     "name": "stdout",
     "output_type": "stream",
     "text": [
      "C10-0000786-LIC\n"
     ]
    },
    {
     "name": "stderr",
     "output_type": "stream",
     "text": [
      "\n",
      "100%|██████████| 1/1 [00:01<00:00,  1.04s/it]\u001b[A\n",
      " 31%|███       | 13/42 [07:31<13:43, 28.39s/it]"
     ]
    },
    {
     "name": "stdout",
     "output_type": "stream",
     "text": [
      "EMT\n",
      "Verifying download summaries for license C10-0000695-LIC...\n",
      "Earliest download summary: 2022-02-07\n",
      "Latest download summary: 2022-03-15\n",
      "\n",
      "[SUCCESS] All download summaries look good!\n",
      "[SUCCESS] No unknown transfer packages!\n",
      "98.0% of incoming transfer packages have receiver wholesale price\n",
      "# transactions missing incoming transfer package: 0 (0.0%)\n",
      "# transactions total: 235635\n",
      "# receipts with mismatching transactions: 0 (0.0%)\n",
      "# receipts missing transactions: 0 (0.0%)\n",
      "# receipts total: 110494\n"
     ]
    },
    {
     "name": "stderr",
     "output_type": "stream",
     "text": [
      "\n",
      "  0%|          | 0/1 [00:00<?, ?it/s]\u001b[A"
     ]
    },
    {
     "name": "stdout",
     "output_type": "stream",
     "text": [
      "C10-0000695-LIC\n"
     ]
    },
    {
     "name": "stderr",
     "output_type": "stream",
     "text": [
      "\n",
      "100%|██████████| 1/1 [00:01<00:00,  1.99s/it]\u001b[A\n",
      " 33%|███▎      | 14/42 [08:11<14:49, 31.75s/it]"
     ]
    },
    {
     "name": "stdout",
     "output_type": "stream",
     "text": [
      "GT\n",
      "Verifying download summaries for license CDPH-10004633...\n",
      "Earliest download summary: 2020-01-01\n",
      "Latest download summary: 2022-03-15\n",
      "\n",
      "Verifying download summaries for license C9-0000170-LIC...\n",
      "Earliest download summary: 2020-01-01\n",
      "Latest download summary: 2022-03-15\n",
      "Found bad download summary for license C9-0000170-LIC on date 2022-02-20\n",
      "\n",
      "Verifying download summaries for license C9-0000385-LIC...\n",
      "Earliest download summary: 2020-01-01\n",
      "Latest download summary: 2022-03-15\n",
      "Found bad download summary for license C9-0000385-LIC on date 2022-02-20\n",
      "\n",
      "Verifying download summaries for license C11-0001267-LIC...\n",
      "Earliest download summary: 2020-01-01\n",
      "Latest download summary: 2022-03-15\n",
      "\n",
      "[FAILURE] Found a total of 2 bad download summaries\n",
      "[SUCCESS] No unknown transfer packages!\n",
      "27.0% of incoming transfer packages have receiver wholesale price\n",
      "# transactions missing incoming transfer package: 1842 (1.6660636758321274%)\n",
      "# transactions total: 110560\n",
      "# receipts with mismatching transactions: 0 (0.0%)\n",
      "# receipts missing transactions: 0 (0.0%)\n",
      "# receipts total: 54857\n"
     ]
    },
    {
     "name": "stderr",
     "output_type": "stream",
     "text": [
      "\n",
      "  0%|          | 0/2 [00:00<?, ?it/s]\u001b[A"
     ]
    },
    {
     "name": "stdout",
     "output_type": "stream",
     "text": [
      "C9-0000385-LIC\n"
     ]
    },
    {
     "name": "stderr",
     "output_type": "stream",
     "text": [
      "\n",
      " 50%|█████     | 1/2 [00:00<00:00,  1.27it/s]\u001b[A\n",
      "100%|██████████| 2/2 [00:00<00:00,  2.12it/s]\u001b[A\n",
      " 36%|███▌      | 15/42 [08:40<13:52, 30.83s/it]"
     ]
    },
    {
     "name": "stdout",
     "output_type": "stream",
     "text": [
      "C9-0000170-LIC\n",
      "GRG\n",
      "Verifying download summaries for license C10-0000169-LIC...\n",
      "Earliest download summary: 2020-01-01\n",
      "Latest download summary: 2022-03-15\n",
      "\n",
      "Verifying download summaries for license C10-0000408-LIC...\n",
      "Earliest download summary: 2020-01-01\n",
      "Latest download summary: 2022-03-15\n",
      "\n",
      "[SUCCESS] All download summaries look good!\n",
      "[SUCCESS] No unknown transfer packages!\n",
      "95.0% of incoming transfer packages have receiver wholesale price\n",
      "# transactions missing incoming transfer package: 3964 (0.6238422956892875%)\n",
      "# transactions total: 635417\n",
      "# receipts with mismatching transactions: 0 (0.0%)\n",
      "# receipts missing transactions: 0 (0.0%)\n",
      "# receipts total: 321498\n"
     ]
    },
    {
     "name": "stderr",
     "output_type": "stream",
     "text": [
      "\n",
      "  0%|          | 0/2 [00:00<?, ?it/s]\u001b[A"
     ]
    },
    {
     "name": "stdout",
     "output_type": "stream",
     "text": [
      "C10-0000169-LIC\n"
     ]
    },
    {
     "name": "stderr",
     "output_type": "stream",
     "text": [
      "\n",
      " 50%|█████     | 1/2 [00:04<00:04,  4.30s/it]\u001b[A"
     ]
    },
    {
     "name": "stdout",
     "output_type": "stream",
     "text": [
      "C10-0000408-LIC\n"
     ]
    },
    {
     "name": "stderr",
     "output_type": "stream",
     "text": [
      "\n",
      "100%|██████████| 2/2 [00:05<00:00,  2.84s/it]\u001b[A\n",
      " 38%|███▊      | 16/42 [09:59<19:41, 45.43s/it]"
     ]
    },
    {
     "name": "stdout",
     "output_type": "stream",
     "text": [
      "GHC\n",
      "Verifying download summaries for license CCL18-0000591...\n",
      "Earliest download summary: 2021-01-01\n",
      "Latest download summary: 2022-03-15\n",
      "\n",
      "Verifying download summaries for license CDPH-10003269...\n",
      "Earliest download summary: 2021-01-01\n",
      "Latest download summary: 2022-03-15\n",
      "\n",
      "Verifying download summaries for license C10-0000414-LIC...\n",
      "Earliest download summary: 2021-01-01\n",
      "Latest download summary: 2022-03-15\n",
      "\n",
      "Verifying download summaries for license C11-0000985-LIC...\n",
      "Earliest download summary: 2021-01-01\n",
      "Latest download summary: 2022-03-15\n",
      "\n",
      "[SUCCESS] All download summaries look good!\n",
      "[SUCCESS] No unknown transfer packages!\n",
      "97.0% of incoming transfer packages have receiver wholesale price\n",
      "# transactions missing incoming transfer package: 12881 (6.156912605395484%)\n",
      "# transactions total: 209212\n",
      "# receipts with mismatching transactions: 0 (0.0%)\n",
      "# receipts missing transactions: 0 (0.0%)\n",
      "# receipts total: 108665\n"
     ]
    },
    {
     "name": "stderr",
     "output_type": "stream",
     "text": [
      "\n",
      "  0%|          | 0/1 [00:00<?, ?it/s]\u001b[A"
     ]
    },
    {
     "name": "stdout",
     "output_type": "stream",
     "text": [
      "C10-0000414-LIC\n"
     ]
    },
    {
     "name": "stderr",
     "output_type": "stream",
     "text": [
      "\n",
      "100%|██████████| 1/1 [00:01<00:00,  1.77s/it]\u001b[A\n",
      " 40%|████      | 17/42 [10:36<17:52, 42.90s/it]"
     ]
    },
    {
     "name": "stdout",
     "output_type": "stream",
     "text": [
      "HB\n",
      "Verifying download summaries for license CCL19-0004924...\n",
      "Earliest download summary: 2020-01-01\n",
      "Latest download summary: 2022-03-15\n",
      "\n",
      "Verifying download summaries for license CDPH-10003642...\n",
      "Earliest download summary: 2020-01-01\n",
      "Latest download summary: 2022-03-15\n",
      "\n",
      "Verifying download summaries for license C10-0000301-LIC...\n",
      "Earliest download summary: 2020-01-01\n",
      "Latest download summary: 2022-03-15\n",
      "\n",
      "Verifying download summaries for license C10-0000339-LIC...\n",
      "Earliest download summary: 2020-01-01\n",
      "Latest download summary: 2022-03-15\n",
      "\n",
      "Verifying download summaries for license C10-0000624-LIC...\n",
      "Earliest download summary: 2020-01-01\n",
      "Latest download summary: 2022-03-15\n",
      "\n",
      "Verifying download summaries for license C11-0000571-LIC...\n",
      "Earliest download summary: 2020-01-01\n",
      "Latest download summary: 2022-03-15\n",
      "\n",
      "[SUCCESS] All download summaries look good!\n",
      "[SUCCESS] No unknown transfer packages!\n",
      "66.0% of incoming transfer packages have receiver wholesale price\n",
      "# transactions missing incoming transfer package: 22955 (3.453967661654113%)\n",
      "# transactions total: 664598\n",
      "# receipts with mismatching transactions: 0 (0.0%)\n",
      "# receipts missing transactions: 133 (0.04104532885640925%)\n",
      "# receipts total: 324032\n"
     ]
    },
    {
     "name": "stderr",
     "output_type": "stream",
     "text": [
      "\n",
      "  0%|          | 0/3 [00:00<?, ?it/s]\u001b[A"
     ]
    },
    {
     "name": "stdout",
     "output_type": "stream",
     "text": [
      "C10-0000339-LIC\n"
     ]
    },
    {
     "name": "stderr",
     "output_type": "stream",
     "text": [
      "\n",
      " 33%|███▎      | 1/3 [00:04<00:08,  4.08s/it]\u001b[A"
     ]
    },
    {
     "name": "stdout",
     "output_type": "stream",
     "text": [
      "C10-0000624-LIC\n"
     ]
    },
    {
     "name": "stderr",
     "output_type": "stream",
     "text": [
      "\n",
      " 67%|██████▋   | 2/3 [00:05<00:02,  2.76s/it]\u001b[A\n",
      "100%|██████████| 3/3 [00:06<00:00,  2.04s/it]\u001b[A\n",
      " 43%|████▎     | 18/42 [11:54<21:23, 53.47s/it]"
     ]
    },
    {
     "name": "stdout",
     "output_type": "stream",
     "text": [
      "C10-0000301-LIC\n",
      "HPCC\n",
      "Verifying download summaries for license C10-0000005-LIC...\n",
      "Earliest download summary: 2020-01-01\n",
      "Latest download summary: 2022-03-16\n",
      "\n",
      "Verifying download summaries for license C10-0000064-LIC...\n",
      "Earliest download summary: 2020-01-01\n",
      "Latest download summary: 2022-03-16\n",
      "\n",
      "[SUCCESS] All download summaries look good!\n",
      "[SUCCESS] No unknown transfer packages!\n",
      "97.0% of incoming transfer packages have receiver wholesale price\n",
      "# transactions missing incoming transfer package: 22193 (1.7311597046115637%)\n",
      "# transactions total: 1281973\n",
      "# receipts with mismatching transactions: 0 (0.0%)\n",
      "# receipts missing transactions: 0 (0.0%)\n",
      "# receipts total: 585262\n"
     ]
    },
    {
     "name": "stderr",
     "output_type": "stream",
     "text": [
      "\n",
      "  0%|          | 0/2 [00:00<?, ?it/s]\u001b[A"
     ]
    },
    {
     "name": "stdout",
     "output_type": "stream",
     "text": [
      "C10-0000064-LIC\n"
     ]
    },
    {
     "name": "stderr",
     "output_type": "stream",
     "text": [
      "\n",
      " 50%|█████     | 1/2 [00:15<00:15, 15.47s/it]\u001b[A"
     ]
    },
    {
     "name": "stdout",
     "output_type": "stream",
     "text": [
      "C10-0000005-LIC\n"
     ]
    },
    {
     "name": "stderr",
     "output_type": "stream",
     "text": [
      "\n",
      "100%|██████████| 2/2 [00:17<00:00,  8.97s/it]\u001b[A\n",
      " 45%|████▌     | 19/42 [15:03<36:07, 94.23s/it]"
     ]
    },
    {
     "name": "stdout",
     "output_type": "stream",
     "text": [
      "HC\n",
      "Verifying download summaries for license C9-0000341-LIC...\n",
      "Earliest download summary: 2020-01-01\n",
      "Latest download summary: 2022-03-16\n",
      "\n",
      "[SUCCESS] All download summaries look good!\n",
      "[SUCCESS] No unknown transfer packages!\n",
      "92.0% of incoming transfer packages have receiver wholesale price\n",
      "# transactions missing incoming transfer package: 0 (0.0%)\n",
      "# transactions total: 12706\n",
      "# receipts with mismatching transactions: 0 (0.0%)\n",
      "# receipts missing transactions: 0 (0.0%)\n",
      "# receipts total: 6908\n"
     ]
    },
    {
     "name": "stderr",
     "output_type": "stream",
     "text": [
      "\n",
      "  0%|          | 0/1 [00:00<?, ?it/s]\u001b[A"
     ]
    },
    {
     "name": "stdout",
     "output_type": "stream",
     "text": [
      "C9-0000341-LIC\n"
     ]
    },
    {
     "name": "stderr",
     "output_type": "stream",
     "text": [
      "\n",
      "100%|██████████| 1/1 [00:00<00:00,  9.80it/s]\u001b[A\n",
      " 48%|████▊     | 20/42 [15:24<26:25, 72.05s/it]"
     ]
    },
    {
     "name": "stdout",
     "output_type": "stream",
     "text": [
      "IDC\n",
      "Verifying download summaries for license C9-0000320-LIC...\n",
      "Earliest download summary: 2020-01-01\n",
      "Latest download summary: 2022-03-15\n",
      "\n",
      "[SUCCESS] All download summaries look good!\n",
      "[SUCCESS] No unknown transfer packages!\n",
      "95.0% of incoming transfer packages have receiver wholesale price\n",
      "# transactions missing incoming transfer package: 0 (0.0%)\n",
      "# transactions total: 115681\n",
      "# receipts with mismatching transactions: 0 (0.0%)\n",
      "# receipts missing transactions: 0 (0.0%)\n",
      "# receipts total: 63023\n"
     ]
    },
    {
     "name": "stderr",
     "output_type": "stream",
     "text": [
      "\n",
      "  0%|          | 0/1 [00:00<?, ?it/s]\u001b[A"
     ]
    },
    {
     "name": "stdout",
     "output_type": "stream",
     "text": [
      "C9-0000320-LIC\n"
     ]
    },
    {
     "name": "stderr",
     "output_type": "stream",
     "text": [
      "\n",
      "100%|██████████| 1/1 [00:00<00:00,  1.04it/s]\u001b[A\n",
      " 50%|█████     | 21/42 [15:52<20:40, 59.06s/it]"
     ]
    },
    {
     "name": "stdout",
     "output_type": "stream",
     "text": [
      "LBC\n",
      "Verifying download summaries for license C9-0000154-LIC...\n",
      "Earliest download summary: 2020-01-01\n",
      "Latest download summary: 2022-03-15\n",
      "\n",
      "[SUCCESS] All download summaries look good!\n",
      "[SUCCESS] No unknown transfer packages!\n",
      "92.0% of incoming transfer packages have receiver wholesale price\n",
      "# transactions missing incoming transfer package: 310 (1.1309328371821532%)\n",
      "# transactions total: 27411\n",
      "# receipts with mismatching transactions: 0 (0.0%)\n",
      "# receipts missing transactions: 0 (0.0%)\n",
      "# receipts total: 8589\n"
     ]
    },
    {
     "name": "stderr",
     "output_type": "stream",
     "text": [
      "\n",
      "  0%|          | 0/1 [00:00<?, ?it/s]\u001b[A"
     ]
    },
    {
     "name": "stdout",
     "output_type": "stream",
     "text": [
      "C9-0000154-LIC\n"
     ]
    },
    {
     "name": "stderr",
     "output_type": "stream",
     "text": [
      "\n",
      "100%|██████████| 1/1 [00:00<00:00,  4.75it/s]\u001b[A\n",
      " 52%|█████▏    | 22/42 [16:13<15:52, 47.61s/it]"
     ]
    },
    {
     "name": "stdout",
     "output_type": "stream",
     "text": [
      "ML\n",
      "Verifying download summaries for license C9-0000300-LIC...\n",
      "Earliest download summary: 2020-01-01\n",
      "Latest download summary: 2022-03-15\n",
      "Found bad download summary for license C9-0000300-LIC on date 2022-03-08\n",
      "\n",
      "[FAILURE] Found a total of 1 bad download summaries\n",
      "[SUCCESS] No unknown transfer packages!\n",
      "97.0% of incoming transfer packages have receiver wholesale price\n",
      "# transactions missing incoming transfer package: 0 (0.0%)\n",
      "# transactions total: 125921\n",
      "# receipts with mismatching transactions: 0 (0.0%)\n",
      "# receipts missing transactions: 8 (0.017052115528082702%)\n",
      "# receipts total: 46915\n"
     ]
    },
    {
     "name": "stderr",
     "output_type": "stream",
     "text": [
      "\n",
      "  0%|          | 0/1 [00:00<?, ?it/s]\u001b[A"
     ]
    },
    {
     "name": "stdout",
     "output_type": "stream",
     "text": [
      "C9-0000300-LIC\n"
     ]
    },
    {
     "name": "stderr",
     "output_type": "stream",
     "text": [
      "\n",
      "100%|██████████| 1/1 [00:01<00:00,  1.12s/it]\u001b[A\n",
      " 55%|█████▍    | 23/42 [16:47<13:46, 43.50s/it]"
     ]
    },
    {
     "name": "stdout",
     "output_type": "stream",
     "text": [
      "MW\n",
      "Verifying download summaries for license C10-0000332-LIC...\n",
      "Earliest download summary: 2020-01-01\n",
      "Latest download summary: 2022-03-16\n",
      "\n",
      "[SUCCESS] All download summaries look good!\n",
      "[SUCCESS] No unknown transfer packages!\n",
      "99.0% of incoming transfer packages have receiver wholesale price\n",
      "# transactions missing incoming transfer package: 4201 (1.2396572278419753%)\n",
      "# transactions total: 338884\n",
      "# receipts with mismatching transactions: 0 (0.0%)\n",
      "# receipts missing transactions: 16 (0.009180049457516453%)\n",
      "# receipts total: 174291\n"
     ]
    },
    {
     "name": "stderr",
     "output_type": "stream",
     "text": [
      "\n",
      "  0%|          | 0/1 [00:00<?, ?it/s]\u001b[A"
     ]
    },
    {
     "name": "stdout",
     "output_type": "stream",
     "text": [
      "C10-0000332-LIC\n"
     ]
    },
    {
     "name": "stderr",
     "output_type": "stream",
     "text": [
      "\n",
      "100%|██████████| 1/1 [00:02<00:00,  2.89s/it]\u001b[A\n",
      " 57%|█████▋    | 24/42 [17:36<13:30, 45.05s/it]"
     ]
    },
    {
     "name": "stdout",
     "output_type": "stream",
     "text": [
      "MPW\n",
      "Verifying download summaries for license C10-0000547-LIC...\n",
      "Earliest download summary: 2020-01-01\n",
      "Latest download summary: 2022-03-15\n",
      "\n",
      "[SUCCESS] All download summaries look good!\n",
      "[SUCCESS] No unknown transfer packages!\n",
      "97.0% of incoming transfer packages have receiver wholesale price\n",
      "# transactions missing incoming transfer package: 125 (0.028580312965859098%)\n",
      "# transactions total: 437364\n",
      "# receipts with mismatching transactions: 0 (0.0%)\n",
      "# receipts missing transactions: 125 (0.06379601606638868%)\n",
      "# receipts total: 195937\n"
     ]
    },
    {
     "name": "stderr",
     "output_type": "stream",
     "text": [
      "\n",
      "  0%|          | 0/1 [00:00<?, ?it/s]\u001b[A"
     ]
    },
    {
     "name": "stdout",
     "output_type": "stream",
     "text": [
      "C10-0000547-LIC\n"
     ]
    },
    {
     "name": "stderr",
     "output_type": "stream",
     "text": [
      "\n",
      "100%|██████████| 1/1 [00:03<00:00,  3.94s/it]\u001b[A\n",
      " 60%|█████▉    | 25/42 [18:33<13:45, 48.53s/it]"
     ]
    },
    {
     "name": "stdout",
     "output_type": "stream",
     "text": [
      "MD\n",
      "Verifying download summaries for license C9-0000247-LIC...\n",
      "Earliest download summary: 2021-10-12\n",
      "Latest download summary: 2022-03-15\n",
      "\n",
      "[SUCCESS] All download summaries look good!\n",
      "[SUCCESS] No unknown transfer packages!\n",
      "97.0% of incoming transfer packages have receiver wholesale price\n",
      "# transactions missing incoming transfer package: 2284 (3.2277667076496943%)\n",
      "# transactions total: 70761\n",
      "# receipts with mismatching transactions: 0 (0.0%)\n",
      "# receipts missing transactions: 0 (0.0%)\n",
      "# receipts total: 25673\n"
     ]
    },
    {
     "name": "stderr",
     "output_type": "stream",
     "text": [
      "\n",
      "  0%|          | 0/1 [00:00<?, ?it/s]\u001b[A"
     ]
    },
    {
     "name": "stdout",
     "output_type": "stream",
     "text": [
      "C9-0000247-LIC\n"
     ]
    },
    {
     "name": "stderr",
     "output_type": "stream",
     "text": [
      "\n",
      "100%|██████████| 1/1 [00:00<00:00,  1.62it/s]\u001b[A\n",
      " 62%|██████▏   | 26/42 [18:59<11:10, 41.91s/it]"
     ]
    },
    {
     "name": "stdout",
     "output_type": "stream",
     "text": [
      "ND\n",
      "Verifying download summaries for license C9-0000427-LIC...\n",
      "Earliest download summary: 2020-01-01\n",
      "Latest download summary: 2022-03-15\n",
      "\n",
      "[SUCCESS] All download summaries look good!\n",
      "[SUCCESS] No unknown transfer packages!\n",
      "72.0% of incoming transfer packages have receiver wholesale price\n",
      "# transactions missing incoming transfer package: 0 (0.0%)\n",
      "# transactions total: 13621\n",
      "# receipts with mismatching transactions: 0 (0.0%)\n",
      "# receipts missing transactions: 0 (0.0%)\n",
      "# receipts total: 4092\n"
     ]
    },
    {
     "name": "stderr",
     "output_type": "stream",
     "text": [
      "\n",
      "  0%|          | 0/1 [00:00<?, ?it/s]\u001b[A"
     ]
    },
    {
     "name": "stdout",
     "output_type": "stream",
     "text": [
      "C9-0000427-LIC\n"
     ]
    },
    {
     "name": "stderr",
     "output_type": "stream",
     "text": [
      "100%|██████████| 1/1 [00:00<00:00, 10.06it/s]\n",
      " 64%|██████▍   | 27/42 [19:18<08:47, 35.15s/it]"
     ]
    },
    {
     "name": "stdout",
     "output_type": "stream",
     "text": [
      "PRP\n",
      "Verifying download summaries for license C10-0000155-LIC...\n",
      "Earliest download summary: 2021-01-01\n",
      "Latest download summary: 2022-03-15\n",
      "\n",
      "Verifying download summaries for license C10-0000286-LIC...\n",
      "Earliest download summary: 2021-01-01\n",
      "Latest download summary: 2022-03-15\n",
      "\n",
      "Verifying download summaries for license C10-0000403-LIC...\n",
      "Earliest download summary: 2021-01-01\n",
      "Latest download summary: 2022-03-15\n",
      "\n",
      "Verifying download summaries for license C10-0000759-LIC...\n",
      "Earliest download summary: 2022-02-05\n",
      "Latest download summary: 2022-03-15\n",
      "\n",
      "[SUCCESS] All download summaries look good!\n",
      "[FAILURE] Fxound a total of 1042 unknown transfer packages\n",
      "94.0% of incoming transfer packages have receiver wholesale price\n",
      "# transactions missing incoming transfer package: 44421 (5.878631879148001%)\n",
      "# transactions total: 755635\n",
      "# receipts with mismatching transactions: 0 (0.0%)\n",
      "# receipts missing transactions: 0 (0.0%)\n",
      "# receipts total: 319345\n"
     ]
    },
    {
     "name": "stderr",
     "output_type": "stream",
     "text": [
      "\n",
      "  0%|          | 0/3 [00:00<?, ?it/s]\u001b[A"
     ]
    },
    {
     "name": "stdout",
     "output_type": "stream",
     "text": [
      "C10-0000155-LIC\n"
     ]
    },
    {
     "name": "stderr",
     "output_type": "stream",
     "text": [
      "\n",
      " 33%|███▎      | 1/3 [00:02<00:04,  2.08s/it]\u001b[A"
     ]
    },
    {
     "name": "stdout",
     "output_type": "stream",
     "text": [
      "C10-0000403-LIC\n"
     ]
    },
    {
     "name": "stderr",
     "output_type": "stream",
     "text": [
      "\n",
      " 67%|██████▋   | 2/3 [00:04<00:02,  2.49s/it]\u001b[A"
     ]
    },
    {
     "name": "stdout",
     "output_type": "stream",
     "text": [
      "C10-0000286-LIC\n"
     ]
    },
    {
     "name": "stderr",
     "output_type": "stream",
     "text": [
      "\n",
      "100%|██████████| 3/3 [00:07<00:00,  2.38s/it]\u001b[A\n",
      " 67%|██████▋   | 28/42 [20:43<11:39, 49.97s/it]"
     ]
    },
    {
     "name": "stdout",
     "output_type": "stream",
     "text": [
      "PRL\n",
      "Verifying download summaries for license C10-0000759-LIC...\n",
      "Earliest download summary: 2021-01-01\n",
      "Latest download summary: 2022-02-06\n",
      "\n",
      "[SUCCESS] All download summaries look good!\n",
      "[SUCCESS] No unknown transfer packages!\n",
      "93.0% of incoming transfer packages have receiver wholesale price\n",
      "# transactions missing incoming transfer package: 16054 (5.73812093874429%)\n",
      "# transactions total: 279778\n",
      "# receipts with mismatching transactions: 0 (0.0%)\n",
      "# receipts missing transactions: 1 (0.0009451349180095459%)\n",
      "# receipts total: 105805\n"
     ]
    },
    {
     "name": "stderr",
     "output_type": "stream",
     "text": [
      "\n",
      "  0%|          | 0/1 [00:00<?, ?it/s]\u001b[A"
     ]
    },
    {
     "name": "stdout",
     "output_type": "stream",
     "text": [
      "C10-0000759-LIC\n"
     ]
    },
    {
     "name": "stderr",
     "output_type": "stream",
     "text": [
      "\n",
      "100%|██████████| 1/1 [00:02<00:00,  2.37s/it]\u001b[A\n",
      " 69%|██████▉   | 29/42 [21:24<10:15, 47.34s/it]"
     ]
    },
    {
     "name": "stdout",
     "output_type": "stream",
     "text": [
      "RA\n",
      "Verifying download summaries for license C10-0000596-LIC...\n",
      "Earliest download summary: 2020-01-01\n",
      "Latest download summary: 2022-03-15\n",
      "\n",
      "[SUCCESS] All download summaries look good!\n",
      "[SUCCESS] No unknown transfer packages!\n",
      "93.0% of incoming transfer packages have receiver wholesale price\n",
      "# transactions missing incoming transfer package: 0 (0.0%)\n",
      "# transactions total: 133632\n",
      "# receipts with mismatching transactions: 1 (0.0015343777331103372%)\n",
      "# receipts missing transactions: 4 (0.006137510932441349%)\n",
      "# receipts total: 65173\n",
      "# mismatch receipt vs transactions (transactions over): 1 (100.0%)\n",
      "# mismatch receipt vs transactions (transactions under): 0 (0.0%)\n"
     ]
    },
    {
     "name": "stderr",
     "output_type": "stream",
     "text": [
      "\n",
      "  0%|          | 0/1 [00:00<?, ?it/s]\u001b[A"
     ]
    },
    {
     "name": "stdout",
     "output_type": "stream",
     "text": [
      "C10-0000596-LIC\n"
     ]
    },
    {
     "name": "stderr",
     "output_type": "stream",
     "text": [
      "\n",
      "100%|██████████| 1/1 [00:01<00:00,  1.14s/it]\u001b[A\n",
      " 71%|███████▏  | 30/42 [21:58<08:39, 43.25s/it]"
     ]
    },
    {
     "name": "stdout",
     "output_type": "stream",
     "text": [
      "RGD\n",
      "Verifying download summaries for license C9-0000057-LIC...\n",
      "Earliest download summary: 2020-01-01\n",
      "Latest download summary: 2022-03-16\n",
      "\n",
      "[SUCCESS] All download summaries look good!\n",
      "[SUCCESS] No unknown transfer packages!\n",
      "97.0% of incoming transfer packages have receiver wholesale price\n",
      "# transactions missing incoming transfer package: 0 (0.0%)\n",
      "# transactions total: 52694\n",
      "# receipts with mismatching transactions: 0 (0.0%)\n",
      "# receipts missing transactions: 0 (0.0%)\n",
      "# receipts total: 31416\n"
     ]
    },
    {
     "name": "stderr",
     "output_type": "stream",
     "text": [
      "\n",
      "  0%|          | 0/1 [00:00<?, ?it/s]\u001b[A"
     ]
    },
    {
     "name": "stdout",
     "output_type": "stream",
     "text": [
      "C9-0000057-LIC\n"
     ]
    },
    {
     "name": "stderr",
     "output_type": "stream",
     "text": [
      "\n",
      "100%|██████████| 1/1 [00:00<00:00,  2.34it/s]\u001b[A\n",
      " 74%|███████▍  | 31/42 [22:22<06:53, 37.64s/it]"
     ]
    },
    {
     "name": "stdout",
     "output_type": "stream",
     "text": [
      "SFV\n",
      "Verifying download summaries for license CCL18-0001788...\n",
      "Earliest download summary: 2020-01-01\n",
      "Latest download summary: 2022-03-16\n",
      "\n",
      "Verifying download summaries for license CDPH-10003406...\n",
      "Earliest download summary: 2020-01-01\n",
      "Latest download summary: 2022-03-16\n",
      "\n",
      "Verifying download summaries for license C10-0000041-LIC...\n",
      "Earliest download summary: 2020-01-01\n",
      "Latest download summary: 2022-03-16\n",
      "\n",
      "Verifying download summaries for license C11-0000323-LIC...\n",
      "Earliest download summary: 2020-01-01\n",
      "Latest download summary: 2022-03-16\n",
      "\n",
      "[SUCCESS] All download summaries look good!\n",
      "[SUCCESS] No unknown transfer packages!\n",
      "94.0% of incoming transfer packages have receiver wholesale price\n",
      "# transactions missing incoming transfer package: 14947 (3.100754287990308%)\n",
      "# transactions total: 482044\n",
      "# receipts with mismatching transactions: 0 (0.0%)\n",
      "# receipts missing transactions: 4 (0.0013334177831262647%)\n",
      "# receipts total: 299981\n"
     ]
    },
    {
     "name": "stderr",
     "output_type": "stream",
     "text": [
      "\n",
      "  0%|          | 0/1 [00:00<?, ?it/s]\u001b[A"
     ]
    },
    {
     "name": "stdout",
     "output_type": "stream",
     "text": [
      "C10-0000041-LIC\n"
     ]
    },
    {
     "name": "stderr",
     "output_type": "stream",
     "text": [
      "\n",
      "100%|██████████| 1/1 [00:04<00:00,  4.29s/it]\u001b[A\n",
      " 76%|███████▌  | 32/42 [23:25<07:31, 45.11s/it]"
     ]
    },
    {
     "name": "stdout",
     "output_type": "stream",
     "text": [
      "SV\n",
      "Verifying download summaries for license C9-0000146-LIC...\n",
      "Earliest download summary: 2021-01-01\n",
      "Latest download summary: 2022-03-16\n",
      "\n",
      "[SUCCESS] All download summaries look good!\n",
      "[SUCCESS] No unknown transfer packages!\n",
      "97.0% of incoming transfer packages have receiver wholesale price\n",
      "# transactions missing incoming transfer package: 10337 (8.115279838589384%)\n",
      "# transactions total: 127377\n",
      "# receipts with mismatching transactions: 0 (0.0%)\n",
      "# receipts missing transactions: 9 (0.023976343341236647%)\n",
      "# receipts total: 37537\n"
     ]
    },
    {
     "name": "stderr",
     "output_type": "stream",
     "text": [
      "\n",
      "  0%|          | 0/1 [00:00<?, ?it/s]\u001b[A"
     ]
    },
    {
     "name": "stdout",
     "output_type": "stream",
     "text": [
      "C9-0000146-LIC\n"
     ]
    },
    {
     "name": "stderr",
     "output_type": "stream",
     "text": [
      "\n",
      "100%|██████████| 1/1 [00:01<00:00,  1.07s/it]\u001b[A\n",
      " 79%|███████▊  | 33/42 [23:55<06:05, 40.65s/it]"
     ]
    },
    {
     "name": "stdout",
     "output_type": "stream",
     "text": [
      "SLCC\n",
      "Verifying download summaries for license C10-0000474-LIC...\n",
      "Earliest download summary: 2021-01-01\n",
      "Latest download summary: 2022-03-15\n",
      "\n",
      "[SUCCESS] All download summaries look good!\n",
      "[SUCCESS] No unknown transfer packages!\n",
      "98.0% of incoming transfer packages have receiver wholesale price\n",
      "# transactions missing incoming transfer package: 6249 (11.752205066481109%)\n",
      "# transactions total: 53173\n",
      "# receipts with mismatching transactions: 0 (0.0%)\n",
      "# receipts missing transactions: 0 (0.0%)\n",
      "# receipts total: 24402\n"
     ]
    },
    {
     "name": "stderr",
     "output_type": "stream",
     "text": [
      "\n",
      "  0%|          | 0/1 [00:00<?, ?it/s]\u001b[A"
     ]
    },
    {
     "name": "stdout",
     "output_type": "stream",
     "text": [
      "C10-0000474-LIC\n"
     ]
    },
    {
     "name": "stderr",
     "output_type": "stream",
     "text": [
      "\n",
      "100%|██████████| 1/1 [00:00<00:00,  2.30it/s]\u001b[A\n",
      " 81%|████████  | 34/42 [24:20<04:46, 35.79s/it]"
     ]
    },
    {
     "name": "stdout",
     "output_type": "stream",
     "text": [
      "SO\n",
      "Verifying download summaries for license CCL19-0000839...\n",
      "Earliest download summary: 2021-10-12\n",
      "Latest download summary: 2021-12-22\n",
      "\n",
      "Verifying download summaries for license CCL19-0004425...\n",
      "Earliest download summary: 2021-10-12\n",
      "Latest download summary: 2021-12-22\n",
      "\n",
      "Verifying download summaries for license C9-0000130-LIC...\n",
      "Earliest download summary: 2021-10-12\n",
      "Latest download summary: 2021-12-22\n",
      "\n",
      "Verifying download summaries for license C10-0000271-LIC...\n",
      "Earliest download summary: 2021-10-12\n",
      "Latest download summary: 2021-12-22\n",
      "\n",
      "Verifying download summaries for license C11-0000020-LIC...\n",
      "Earliest download summary: 2021-10-12\n",
      "Latest download summary: 2021-12-22\n",
      "\n",
      "Verifying download summaries for license C12-0000328-LIC...\n",
      "Earliest download summary: 2021-10-12\n",
      "Latest download summary: 2021-12-22\n",
      "\n",
      "[SUCCESS] All download summaries look good!\n",
      "[FAILURE] Fxound a total of 234 unknown transfer packages\n",
      "85.0% of incoming transfer packages have receiver wholesale price\n",
      "# transactions missing incoming transfer package: 5729 (2.7129415218801647%)\n",
      "# transactions total: 211173\n",
      "# receipts with mismatching transactions: 0 (0.0%)\n",
      "# receipts missing transactions: 0 (0.0%)\n",
      "# receipts total: 100883\n"
     ]
    },
    {
     "name": "stderr",
     "output_type": "stream",
     "text": [
      "\n",
      "  0%|          | 0/2 [00:00<?, ?it/s]\u001b[A"
     ]
    },
    {
     "name": "stdout",
     "output_type": "stream",
     "text": [
      "C10-0000271-LIC\n"
     ]
    },
    {
     "name": "stderr",
     "output_type": "stream",
     "text": [
      "\n",
      " 50%|█████     | 1/2 [00:01<00:01,  1.17s/it]\u001b[A"
     ]
    },
    {
     "name": "stdout",
     "output_type": "stream",
     "text": [
      "C9-0000130-LIC\n"
     ]
    },
    {
     "name": "stderr",
     "output_type": "stream",
     "text": [
      "\n",
      "100%|██████████| 2/2 [00:01<00:00,  1.08it/s]\u001b[A\n",
      " 83%|████████▎ | 35/42 [24:58<04:15, 36.50s/it]"
     ]
    },
    {
     "name": "stdout",
     "output_type": "stream",
     "text": [
      "ST\n",
      "Verifying download summaries for license C9-0000323-LIC...\n",
      "Earliest download summary: 2020-01-01\n",
      "Latest download summary: 2022-03-15\n",
      "\n",
      "Verifying download summaries for license C12-0000359-LIC...\n",
      "Earliest download summary: 2022-01-03\n",
      "Latest download summary: 2022-03-15\n",
      "\n",
      "[SUCCESS] All download summaries look good!\n",
      "[SUCCESS] No unknown transfer packages!\n",
      "98.0% of incoming transfer packages have receiver wholesale price\n",
      "# transactions missing incoming transfer package: 593 (0.5797866619736212%)\n",
      "# transactions total: 102279\n",
      "# receipts with mismatching transactions: 0 (0.0%)\n",
      "# receipts missing transactions: 0 (0.0%)\n",
      "# receipts total: 48940\n"
     ]
    },
    {
     "name": "stderr",
     "output_type": "stream",
     "text": [
      "\n",
      "  0%|          | 0/1 [00:00<?, ?it/s]\u001b[A"
     ]
    },
    {
     "name": "stdout",
     "output_type": "stream",
     "text": [
      "C9-0000323-LIC\n"
     ]
    },
    {
     "name": "stderr",
     "output_type": "stream",
     "text": [
      "\n",
      "100%|██████████| 1/1 [00:00<00:00,  1.19it/s]\u001b[A\n",
      " 86%|████████▌ | 36/42 [25:26<03:24, 34.09s/it]"
     ]
    },
    {
     "name": "stdout",
     "output_type": "stream",
     "text": [
      "TGL\n",
      "Verifying download summaries for license C9-0000412-LIC...\n",
      "Earliest download summary: 2020-01-01\n",
      "Latest download summary: 2022-03-15\n",
      "Found bad download summary for license C9-0000412-LIC on date 2021-12-29\n",
      "\n",
      "[FAILURE] Found a total of 1 bad download summaries\n",
      "[SUCCESS] No unknown transfer packages!\n",
      "99.0% of incoming transfer packages have receiver wholesale price\n",
      "# transactions missing incoming transfer package: 0 (0.0%)\n",
      "# transactions total: 4448\n",
      "# receipts with mismatching transactions: 0 (0.0%)\n",
      "# receipts missing transactions: 0 (0.0%)\n",
      "# receipts total: 1704\n"
     ]
    },
    {
     "name": "stderr",
     "output_type": "stream",
     "text": [
      "\n",
      "100%|██████████| 1/1 [00:00<00:00, 21.30it/s]\n",
      " 88%|████████▊ | 37/42 [25:46<02:28, 29.66s/it]"
     ]
    },
    {
     "name": "stdout",
     "output_type": "stream",
     "text": [
      "C9-0000412-LIC\n",
      "TJR\n",
      "Verifying download summaries for license C9-0000105-LIC...\n",
      "Earliest download summary: 2021-01-01\n",
      "Latest download summary: 2022-03-15\n",
      "\n",
      "[SUCCESS] All download summaries look good!\n",
      "[SUCCESS] No unknown transfer packages!\n",
      "99.0% of incoming transfer packages have receiver wholesale price\n",
      "# transactions missing incoming transfer package: 98602 (23.26149781190653%)\n",
      "# transactions total: 423885\n",
      "# receipts with mismatching transactions: 0 (0.0%)\n",
      "# receipts missing transactions: 0 (0.0%)\n",
      "# receipts total: 36034\n"
     ]
    },
    {
     "name": "stderr",
     "output_type": "stream",
     "text": [
      "\n",
      "  0%|          | 0/1 [00:00<?, ?it/s]\u001b[A"
     ]
    },
    {
     "name": "stdout",
     "output_type": "stream",
     "text": [
      "C9-0000105-LIC\n"
     ]
    },
    {
     "name": "stderr",
     "output_type": "stream",
     "text": [
      "\n",
      "100%|██████████| 1/1 [00:04<00:00,  4.34s/it]\u001b[A\n",
      " 90%|█████████ | 38/42 [26:54<02:44, 41.13s/it]"
     ]
    },
    {
     "name": "stdout",
     "output_type": "stream",
     "text": [
      "TT\n",
      "Verifying download summaries for license C9-0000451-LIC...\n",
      "Earliest download summary: 2021-01-01\n",
      "Latest download summary: 2022-03-16\n",
      "Found bad download summary for license C9-0000451-LIC on date 2022-03-07\n",
      "\n",
      "Verifying download summaries for license C11-0001391-LIC...\n",
      "Earliest download summary: 2021-01-01\n",
      "Latest download summary: 2022-03-16\n",
      "\n",
      "[FAILURE] Found a total of 1 bad download summaries\n",
      "[SUCCESS] No unknown transfer packages!\n",
      "81.0% of incoming transfer packages have receiver wholesale price\n",
      "# transactions missing incoming transfer package: 0 (0.0%)\n",
      "# transactions total: 117806\n",
      "# receipts with mismatching transactions: 0 (0.0%)\n",
      "# receipts missing transactions: 0 (0.0%)\n",
      "# receipts total: 50247\n"
     ]
    },
    {
     "name": "stderr",
     "output_type": "stream",
     "text": [
      "\n",
      "  0%|          | 0/1 [00:00<?, ?it/s]\u001b[A"
     ]
    },
    {
     "name": "stdout",
     "output_type": "stream",
     "text": [
      "C9-0000451-LIC\n"
     ]
    },
    {
     "name": "stderr",
     "output_type": "stream",
     "text": [
      "\n",
      "100%|██████████| 1/1 [00:00<00:00,  1.02it/s]\u001b[A\n",
      " 93%|█████████▎| 39/42 [27:23<01:52, 37.56s/it]"
     ]
    },
    {
     "name": "stdout",
     "output_type": "stream",
     "text": [
      "T4L\n",
      "Verifying download summaries for license C12-0000302-LIC...\n",
      "Earliest download summary: 2020-01-01\n",
      "Latest download summary: 2022-03-15\n",
      "\n",
      "[SUCCESS] All download summaries look good!\n",
      "[SUCCESS] No unknown transfer packages!\n",
      "88.0% of incoming transfer packages have receiver wholesale price\n",
      "# transactions missing incoming transfer package: 229 (1.431876445945101%)\n",
      "# transactions total: 15993\n",
      "# receipts with mismatching transactions: 0 (0.0%)\n",
      "# receipts missing transactions: 0 (0.0%)\n",
      "# receipts total: 7767\n"
     ]
    },
    {
     "name": "stderr",
     "output_type": "stream",
     "text": [
      "\n",
      "  0%|          | 0/1 [00:00<?, ?it/s]\u001b[A\n",
      "100%|██████████| 1/1 [00:00<00:00,  7.80it/s]\u001b[A\n",
      " 95%|█████████▌| 40/42 [27:45<01:05, 32.85s/it]"
     ]
    },
    {
     "name": "stdout",
     "output_type": "stream",
     "text": [
      "C12-0000302-LIC\n",
      "UHHC\n",
      "Verifying download summaries for license CCL19-0004871...\n",
      "Earliest download summary: 2020-01-01\n",
      "Latest download summary: 2022-03-15\n",
      "\n",
      "Verifying download summaries for license CDPH-10003448...\n",
      "Earliest download summary: 2020-01-01\n",
      "Latest download summary: 2022-03-15\n",
      "\n",
      "Verifying download summaries for license CDPH-10003451...\n",
      "Earliest download summary: 2020-01-01\n",
      "Latest download summary: 2022-03-15\n",
      "\n",
      "Verifying download summaries for license C9-0000082-LIC...\n",
      "Earliest download summary: 2020-01-01\n",
      "Latest download summary: 2022-03-15\n",
      "\n",
      "Verifying download summaries for license C10-0000817-LIC...\n",
      "Earliest download summary: 2020-01-01\n",
      "Latest download summary: 2022-03-15\n",
      "\n",
      "Verifying download summaries for license C10-0000827-LIC...\n",
      "Earliest download summary: 2021-12-26\n",
      "Latest download summary: 2022-03-15\n",
      "\n",
      "Verifying download summaries for license C11-0000313-LIC...\n",
      "Earliest download summary: 2020-01-01\n",
      "Latest download summary: 2022-03-15\n",
      "\n",
      "[SUCCESS] All download summaries look good!\n",
      "[FAILURE] Fxound a total of 22 unknown transfer packages\n",
      "92.0% of incoming transfer packages have receiver wholesale price\n",
      "# transactions missing incoming transfer package: 4552 (3.887342226169533%)\n",
      "# transactions total: 117098\n",
      "# receipts with mismatching transactions: 0 (0.0%)\n",
      "# receipts missing transactions: 0 (0.0%)\n",
      "# receipts total: 41349\n"
     ]
    },
    {
     "name": "stderr",
     "output_type": "stream",
     "text": [
      "\n",
      "  0%|          | 0/2 [00:00<?, ?it/s]\u001b[A"
     ]
    },
    {
     "name": "stdout",
     "output_type": "stream",
     "text": [
      "C9-0000082-LIC\n"
     ]
    },
    {
     "name": "stderr",
     "output_type": "stream",
     "text": [
      "\n",
      "100%|██████████| 2/2 [00:01<00:00,  1.98it/s]\u001b[A\n",
      " 98%|█████████▊| 41/42 [28:15<00:32, 32.20s/it]"
     ]
    },
    {
     "name": "stdout",
     "output_type": "stream",
     "text": [
      "C10-0000817-LIC\n",
      "VOY\n",
      "Verifying download summaries for license C10-0000802-LIC...\n",
      "Earliest download summary: 2020-01-01\n",
      "Latest download summary: 2022-03-16\n",
      "\n",
      "Verifying download summaries for license C12-0000030-LIC...\n",
      "Earliest download summary: 2020-01-01\n",
      "Latest download summary: 2022-03-16\n",
      "\n",
      "Verifying download summaries for license C12-0000159-LIC...\n",
      "Earliest download summary: 2020-01-01\n",
      "Latest download summary: 2022-03-16\n",
      "\n",
      "Verifying download summaries for license C12-0000175-LIC...\n",
      "Earliest download summary: 2020-01-01\n",
      "Latest download summary: 2022-03-16\n",
      "\n",
      "[SUCCESS] All download summaries look good!\n",
      "[FAILURE] Fxound a total of 14019 unknown transfer packages\n",
      "15.0% of incoming transfer packages have receiver wholesale price\n",
      "# transactions missing incoming transfer package: 0 (0.0%)\n",
      "# transactions total: 5005\n",
      "# receipts with mismatching transactions: 0 (0.0%)\n",
      "# receipts missing transactions: 0 (0.0%)\n",
      "# receipts total: 2069\n"
     ]
    },
    {
     "name": "stderr",
     "output_type": "stream",
     "text": [
      "\n",
      "100%|██████████| 1/1 [00:00<00:00, 18.92it/s]\n",
      "100%|██████████| 42/42 [28:38<00:00, 40.93s/it]"
     ]
    },
    {
     "name": "stdout",
     "output_type": "stream",
     "text": [
      "C10-0000802-LIC\n"
     ]
    },
    {
     "name": "stderr",
     "output_type": "stream",
     "text": [
      "\n"
     ]
    }
   ],
   "source": [
    "ca_cogs_df_list,ca_quality_metric_list = get_ca_gmv_change_bm_list(list(ca_df_clean['company_identifier']),TRANSFER_PACKAGES_START_DATE,SALES_TRANSACTIONS_START_DATE)\n"
   ]
  },
  {
   "cell_type": "code",
   "execution_count": 15,
   "id": "5f5d860f",
   "metadata": {},
   "outputs": [
    {
     "data": {
      "text/plain": [
       "dict_keys(['99HT', 'BUD', 'CG', 'CPA', 'CPC', 'CSC', 'CCC', 'CC', 'DGG', 'EL', 'EMA', 'EMF', 'EMM', 'EMT', 'GT', 'GRG', 'GHC', 'HB', 'HPCC', 'HC', 'IDC', 'LBC', 'ML', 'MW', 'MPW', 'MD', 'ND', 'PRP', 'PRL', 'RA', 'RGD', 'SFV', 'SV', 'SLCC', 'SO', 'ST', 'TGL', 'TJR', 'TT', 'T4L', 'UHHC', 'VOY'])"
      ]
     },
     "execution_count": 15,
     "metadata": {},
     "output_type": "execute_result"
    }
   ],
   "source": [
    "ca_cogs_df_list.keys()"
   ]
  },
  {
   "cell_type": "markdown",
   "id": "346e3f5f",
   "metadata": {},
   "source": [
    "# output data"
   ]
  },
  {
   "cell_type": "code",
   "execution_count": 16,
   "id": "cebac554",
   "metadata": {},
   "outputs": [
    {
     "name": "stdout",
     "output_type": "stream",
     "text": [
      "99HT\n",
      "C10-0000279-LIC\n",
      "(15, 23)\n",
      "BUD\n",
      "C9-0000464-LIC\n",
      "(5, 23)\n",
      "C9-0000467-LIC\n",
      "(4, 23)\n",
      "C9-0000399-LIC\n",
      "(12, 23)\n",
      "C9-0000444-LIC\n",
      "(4, 23)\n",
      "C9-0000167-LIC\n",
      "(11, 23)\n",
      "CG\n",
      "C9-0000157-LIC\n",
      "(25, 23)\n",
      "CPA\n",
      "C10-0000461-LIC\n",
      "(26, 23)\n",
      "C9-0000348-LIC\n",
      "(16, 23)\n",
      "CPC\n",
      "C9-0000056-LIC\n",
      "(19, 23)\n",
      "CSC\n",
      "C10-0000670-LIC\n",
      "(27, 23)\n",
      "C10-0000918-LIC\n",
      "(4, 23)\n",
      "CCC\n",
      "C12-0000087-LIC\n",
      "(27, 23)\n",
      "CC\n",
      "C10-0000758-LIC\n",
      "(13, 23)\n",
      "DGG\n",
      "C9-0000016-LIC\n",
      "(27, 23)\n",
      "EL\n",
      "C9-0000370-LIC\n",
      "(19, 23)\n",
      "EMA\n",
      "C10-0000774-LIC\n",
      "(15, 23)\n",
      "EMF\n",
      "C10-0000939-LIC\n",
      "(2, 23)\n",
      "EMM\n",
      "C10-0000786-LIC\n",
      "(13, 23)\n",
      "EMT\n",
      "C10-0000695-LIC\n",
      "(22, 23)\n",
      "GT\n",
      "C9-0000385-LIC\n",
      "(5, 23)\n",
      "C9-0000170-LIC\n",
      "(9, 23)\n",
      "GRG\n",
      "C10-0000169-LIC\n",
      "(27, 23)\n",
      "C10-0000408-LIC\n",
      "(8, 23)\n",
      "GHC\n",
      "C10-0000414-LIC\n",
      "(17, 23)\n",
      "HB\n",
      "C10-0000339-LIC\n",
      "(27, 23)\n",
      "C10-0000624-LIC\n",
      "(27, 23)\n",
      "C10-0000301-LIC\n",
      "(20, 23)\n",
      "HPCC\n",
      "C10-0000064-LIC\n",
      "(27, 23)\n",
      "C10-0000005-LIC\n",
      "(27, 23)\n",
      "HC\n",
      "C9-0000341-LIC\n",
      "(13, 23)\n",
      "IDC\n",
      "C9-0000320-LIC\n",
      "(24, 23)\n",
      "LBC\n",
      "C9-0000154-LIC\n",
      "(23, 23)\n",
      "ML\n",
      "C9-0000300-LIC\n",
      "(21, 23)\n",
      "MW\n",
      "C10-0000332-LIC\n",
      "(27, 23)\n",
      "MPW\n",
      "C10-0000547-LIC\n",
      "(21, 23)\n",
      "MD\n",
      "C9-0000247-LIC\n",
      "(27, 23)\n",
      "ND\n",
      "C9-0000427-LIC\n",
      "(9, 23)\n",
      "PRP\n",
      "C10-0000155-LIC\n",
      "(15, 23)\n",
      "C10-0000403-LIC\n",
      "(15, 23)\n",
      "C10-0000286-LIC\n",
      "(15, 23)\n",
      "PRL\n",
      "C10-0000759-LIC\n",
      "(14, 23)\n",
      "RA\n",
      "C10-0000596-LIC\n",
      "(25, 23)\n",
      "RGD\n",
      "C9-0000057-LIC\n",
      "(23, 23)\n",
      "SFV\n",
      "C10-0000041-LIC\n",
      "(27, 23)\n",
      "SV\n",
      "C9-0000146-LIC\n",
      "(16, 23)\n",
      "SLCC\n",
      "C10-0000474-LIC\n",
      "(16, 23)\n",
      "SO\n",
      "C10-0000271-LIC\n",
      "(23, 23)\n",
      "C9-0000130-LIC\n",
      "(24, 23)\n",
      "ST\n",
      "C9-0000323-LIC\n",
      "(27, 23)\n",
      "TGL\n",
      "C9-0000412-LIC\n",
      "(10, 23)\n",
      "TJR\n",
      "C9-0000105-LIC\n",
      "(16, 23)\n",
      "TT\n",
      "C9-0000451-LIC\n",
      "(7, 23)\n",
      "T4L\n",
      "C12-0000302-LIC\n",
      "(24, 23)\n",
      "UHHC\n",
      "C9-0000082-LIC\n",
      "(27, 23)\n",
      "C10-0000817-LIC\n",
      "(3, 23)\n",
      "VOY\n",
      "C10-0000802-LIC\n",
      "(7, 23)\n"
     ]
    }
   ],
   "source": [
    "df = pd.DataFrame()\n",
    "for k in ca_cogs_df_list.keys():\n",
    "    print(k)\n",
    "    for l in ca_cogs_df_list[k].keys():\n",
    "        print(l)\n",
    "        data = ca_cogs_df_list[k][l]\n",
    "        data['company'] = k\n",
    "        data['location'] = l\n",
    "        print(data.shape)\n",
    "        df = df.append(data)\n",
    "        #data.to_excel('ca_location_analysis/'+'analysis_' + k + '_'+ l+'.xlsx')"
   ]
  },
  {
   "cell_type": "code",
   "execution_count": 48,
   "id": "6db990b3",
   "metadata": {},
   "outputs": [
    {
     "data": {
      "text/html": [
       "<div>\n",
       "<style scoped>\n",
       "    .dataframe tbody tr th:only-of-type {\n",
       "        vertical-align: middle;\n",
       "    }\n",
       "\n",
       "    .dataframe tbody tr th {\n",
       "        vertical-align: top;\n",
       "    }\n",
       "\n",
       "    .dataframe thead th {\n",
       "        text-align: right;\n",
       "    }\n",
       "</style>\n",
       "<table border=\"1\" class=\"dataframe\">\n",
       "  <thead>\n",
       "    <tr style=\"text-align: right;\">\n",
       "      <th></th>\n",
       "      <th>date</th>\n",
       "      <th>revenue</th>\n",
       "      <th>cogs</th>\n",
       "      <th>margin_$</th>\n",
       "      <th>margin_%</th>\n",
       "      <th>total_count_incoming</th>\n",
       "      <th>product_count</th>\n",
       "      <th>count_incoming</th>\n",
       "      <th>coverage</th>\n",
       "      <th>revenue_after_tax</th>\n",
       "      <th>cogs_after_tax</th>\n",
       "      <th>margin_$_after_tax</th>\n",
       "      <th>margin_%_after_tax</th>\n",
       "      <th>revenue_change</th>\n",
       "      <th>revenue_change_after_tax</th>\n",
       "      <th>gm_past_quarter_after_tax</th>\n",
       "      <th>gm_past_2quarters_after_tax</th>\n",
       "      <th>gm_past_3quarters_after_tax</th>\n",
       "      <th>gm$_past_quarter_after_tax</th>\n",
       "      <th>gm$_past_2quarters_after_tax</th>\n",
       "      <th>gm$_past_3quarters_after_tax</th>\n",
       "      <th>company</th>\n",
       "      <th>location</th>\n",
       "      <th>id</th>\n",
       "    </tr>\n",
       "  </thead>\n",
       "  <tbody>\n",
       "    <tr>\n",
       "      <th>0</th>\n",
       "      <td>2021-01</td>\n",
       "      <td>291646.25</td>\n",
       "      <td>69944.725609</td>\n",
       "      <td>221701.524391</td>\n",
       "      <td>0.760173</td>\n",
       "      <td>4808.0</td>\n",
       "      <td>2003.0</td>\n",
       "      <td>2805</td>\n",
       "      <td>0.696005</td>\n",
       "      <td>335393.1875</td>\n",
       "      <td>88829.801523</td>\n",
       "      <td>246563.385977</td>\n",
       "      <td>0.735147</td>\n",
       "      <td>NaN</td>\n",
       "      <td>NaN</td>\n",
       "      <td>NaN</td>\n",
       "      <td>NaN</td>\n",
       "      <td>NaN</td>\n",
       "      <td>NaN</td>\n",
       "      <td>NaN</td>\n",
       "      <td>NaN</td>\n",
       "      <td>99HT</td>\n",
       "      <td>C10-0000279-LIC</td>\n",
       "      <td>(99HT, C10-0000279-LIC)</td>\n",
       "    </tr>\n",
       "    <tr>\n",
       "      <th>1</th>\n",
       "      <td>2021-02</td>\n",
       "      <td>262906.73</td>\n",
       "      <td>85322.341897</td>\n",
       "      <td>177584.388103</td>\n",
       "      <td>0.675465</td>\n",
       "      <td>5464.0</td>\n",
       "      <td>377.0</td>\n",
       "      <td>5087</td>\n",
       "      <td>0.948611</td>\n",
       "      <td>302342.7395</td>\n",
       "      <td>108359.374209</td>\n",
       "      <td>193983.365291</td>\n",
       "      <td>0.641601</td>\n",
       "      <td>-0.098542</td>\n",
       "      <td>-0.098542</td>\n",
       "      <td>NaN</td>\n",
       "      <td>NaN</td>\n",
       "      <td>NaN</td>\n",
       "      <td>NaN</td>\n",
       "      <td>NaN</td>\n",
       "      <td>NaN</td>\n",
       "      <td>99HT</td>\n",
       "      <td>C10-0000279-LIC</td>\n",
       "      <td>(99HT, C10-0000279-LIC)</td>\n",
       "    </tr>\n",
       "    <tr>\n",
       "      <th>2</th>\n",
       "      <td>2021-03</td>\n",
       "      <td>315154.72</td>\n",
       "      <td>99950.244014</td>\n",
       "      <td>215204.475986</td>\n",
       "      <td>0.682853</td>\n",
       "      <td>6902.0</td>\n",
       "      <td>159.0</td>\n",
       "      <td>6743</td>\n",
       "      <td>0.951475</td>\n",
       "      <td>362427.9280</td>\n",
       "      <td>126936.809898</td>\n",
       "      <td>235491.118102</td>\n",
       "      <td>0.649760</td>\n",
       "      <td>0.198732</td>\n",
       "      <td>0.198732</td>\n",
       "      <td>0.675503</td>\n",
       "      <td>NaN</td>\n",
       "      <td>NaN</td>\n",
       "      <td>225345.956457</td>\n",
       "      <td>NaN</td>\n",
       "      <td>NaN</td>\n",
       "      <td>99HT</td>\n",
       "      <td>C10-0000279-LIC</td>\n",
       "      <td>(99HT, C10-0000279-LIC)</td>\n",
       "    </tr>\n",
       "    <tr>\n",
       "      <th>3</th>\n",
       "      <td>2021-04</td>\n",
       "      <td>329925.48</td>\n",
       "      <td>100937.302787</td>\n",
       "      <td>228988.177213</td>\n",
       "      <td>0.694060</td>\n",
       "      <td>7081.0</td>\n",
       "      <td>112.0</td>\n",
       "      <td>6969</td>\n",
       "      <td>0.931465</td>\n",
       "      <td>379414.3020</td>\n",
       "      <td>128190.374539</td>\n",
       "      <td>251223.927461</td>\n",
       "      <td>0.662136</td>\n",
       "      <td>0.046868</td>\n",
       "      <td>0.046868</td>\n",
       "      <td>0.651166</td>\n",
       "      <td>NaN</td>\n",
       "      <td>NaN</td>\n",
       "      <td>226899.470285</td>\n",
       "      <td>NaN</td>\n",
       "      <td>NaN</td>\n",
       "      <td>99HT</td>\n",
       "      <td>C10-0000279-LIC</td>\n",
       "      <td>(99HT, C10-0000279-LIC)</td>\n",
       "    </tr>\n",
       "    <tr>\n",
       "      <th>4</th>\n",
       "      <td>2021-05</td>\n",
       "      <td>336793.80</td>\n",
       "      <td>99047.578798</td>\n",
       "      <td>237746.221202</td>\n",
       "      <td>0.705910</td>\n",
       "      <td>7286.0</td>\n",
       "      <td>131.0</td>\n",
       "      <td>7155</td>\n",
       "      <td>0.918326</td>\n",
       "      <td>387312.8700</td>\n",
       "      <td>125790.425074</td>\n",
       "      <td>261522.444926</td>\n",
       "      <td>0.675223</td>\n",
       "      <td>0.020818</td>\n",
       "      <td>0.020818</td>\n",
       "      <td>0.662373</td>\n",
       "      <td>NaN</td>\n",
       "      <td>NaN</td>\n",
       "      <td>249412.496830</td>\n",
       "      <td>NaN</td>\n",
       "      <td>NaN</td>\n",
       "      <td>99HT</td>\n",
       "      <td>C10-0000279-LIC</td>\n",
       "      <td>(99HT, C10-0000279-LIC)</td>\n",
       "    </tr>\n",
       "    <tr>\n",
       "      <th>...</th>\n",
       "      <td>...</td>\n",
       "      <td>...</td>\n",
       "      <td>...</td>\n",
       "      <td>...</td>\n",
       "      <td>...</td>\n",
       "      <td>...</td>\n",
       "      <td>...</td>\n",
       "      <td>...</td>\n",
       "      <td>...</td>\n",
       "      <td>...</td>\n",
       "      <td>...</td>\n",
       "      <td>...</td>\n",
       "      <td>...</td>\n",
       "      <td>...</td>\n",
       "      <td>...</td>\n",
       "      <td>...</td>\n",
       "      <td>...</td>\n",
       "      <td>...</td>\n",
       "      <td>...</td>\n",
       "      <td>...</td>\n",
       "      <td>...</td>\n",
       "      <td>...</td>\n",
       "      <td>...</td>\n",
       "      <td>...</td>\n",
       "    </tr>\n",
       "    <tr>\n",
       "      <th>994</th>\n",
       "      <td>2021-11</td>\n",
       "      <td>18761.21</td>\n",
       "      <td>5470.325953</td>\n",
       "      <td>13290.884047</td>\n",
       "      <td>0.708424</td>\n",
       "      <td>610.0</td>\n",
       "      <td>52.0</td>\n",
       "      <td>558</td>\n",
       "      <td>0.884058</td>\n",
       "      <td>21575.3915</td>\n",
       "      <td>6947.313960</td>\n",
       "      <td>14628.077540</td>\n",
       "      <td>0.677998</td>\n",
       "      <td>0.111837</td>\n",
       "      <td>0.111837</td>\n",
       "      <td>0.591387</td>\n",
       "      <td>NaN</td>\n",
       "      <td>NaN</td>\n",
       "      <td>12210.382620</td>\n",
       "      <td>NaN</td>\n",
       "      <td>NaN</td>\n",
       "      <td>VOY</td>\n",
       "      <td>C10-0000802-LIC</td>\n",
       "      <td>(VOY, C10-0000802-LIC)</td>\n",
       "    </tr>\n",
       "    <tr>\n",
       "      <th>995</th>\n",
       "      <td>2021-12</td>\n",
       "      <td>32715.38</td>\n",
       "      <td>12198.903894</td>\n",
       "      <td>20516.476106</td>\n",
       "      <td>0.627120</td>\n",
       "      <td>1062.0</td>\n",
       "      <td>129.0</td>\n",
       "      <td>933</td>\n",
       "      <td>0.919481</td>\n",
       "      <td>37622.6870</td>\n",
       "      <td>15492.607945</td>\n",
       "      <td>22130.079055</td>\n",
       "      <td>0.588211</td>\n",
       "      <td>0.743778</td>\n",
       "      <td>0.743778</td>\n",
       "      <td>0.644411</td>\n",
       "      <td>NaN</td>\n",
       "      <td>NaN</td>\n",
       "      <td>16567.283526</td>\n",
       "      <td>NaN</td>\n",
       "      <td>NaN</td>\n",
       "      <td>VOY</td>\n",
       "      <td>C10-0000802-LIC</td>\n",
       "      <td>(VOY, C10-0000802-LIC)</td>\n",
       "    </tr>\n",
       "    <tr>\n",
       "      <th>996</th>\n",
       "      <td>2022-01</td>\n",
       "      <td>24339.01</td>\n",
       "      <td>11123.403847</td>\n",
       "      <td>13215.606153</td>\n",
       "      <td>0.542980</td>\n",
       "      <td>831.0</td>\n",
       "      <td>43.0</td>\n",
       "      <td>788</td>\n",
       "      <td>0.936866</td>\n",
       "      <td>27989.8615</td>\n",
       "      <td>14126.722885</td>\n",
       "      <td>13863.138615</td>\n",
       "      <td>0.495291</td>\n",
       "      <td>-0.256038</td>\n",
       "      <td>-0.256038</td>\n",
       "      <td>0.587167</td>\n",
       "      <td>NaN</td>\n",
       "      <td>NaN</td>\n",
       "      <td>16873.765070</td>\n",
       "      <td>NaN</td>\n",
       "      <td>NaN</td>\n",
       "      <td>VOY</td>\n",
       "      <td>C10-0000802-LIC</td>\n",
       "      <td>(VOY, C10-0000802-LIC)</td>\n",
       "    </tr>\n",
       "    <tr>\n",
       "      <th>997</th>\n",
       "      <td>2022-02</td>\n",
       "      <td>24450.82</td>\n",
       "      <td>10410.082937</td>\n",
       "      <td>14040.737063</td>\n",
       "      <td>0.574244</td>\n",
       "      <td>796.0</td>\n",
       "      <td>37.0</td>\n",
       "      <td>759</td>\n",
       "      <td>0.953293</td>\n",
       "      <td>28118.4430</td>\n",
       "      <td>13220.805331</td>\n",
       "      <td>14897.637669</td>\n",
       "      <td>0.529817</td>\n",
       "      <td>0.004594</td>\n",
       "      <td>0.004594</td>\n",
       "      <td>0.537773</td>\n",
       "      <td>0.564580</td>\n",
       "      <td>NaN</td>\n",
       "      <td>16963.618446</td>\n",
       "      <td>14587.000533</td>\n",
       "      <td>NaN</td>\n",
       "      <td>VOY</td>\n",
       "      <td>C10-0000802-LIC</td>\n",
       "      <td>(VOY, C10-0000802-LIC)</td>\n",
       "    </tr>\n",
       "    <tr>\n",
       "      <th>998</th>\n",
       "      <td>2022-03</td>\n",
       "      <td>10938.18</td>\n",
       "      <td>5092.101862</td>\n",
       "      <td>5846.078138</td>\n",
       "      <td>0.534465</td>\n",
       "      <td>359.0</td>\n",
       "      <td>13.0</td>\n",
       "      <td>346</td>\n",
       "      <td>0.980874</td>\n",
       "      <td>12578.9070</td>\n",
       "      <td>6466.969365</td>\n",
       "      <td>6111.937635</td>\n",
       "      <td>0.485888</td>\n",
       "      <td>-0.552646</td>\n",
       "      <td>-0.552646</td>\n",
       "      <td>0.503666</td>\n",
       "      <td>0.574038</td>\n",
       "      <td>NaN</td>\n",
       "      <td>11624.237973</td>\n",
       "      <td>14095.760750</td>\n",
       "      <td>NaN</td>\n",
       "      <td>VOY</td>\n",
       "      <td>C10-0000802-LIC</td>\n",
       "      <td>(VOY, C10-0000802-LIC)</td>\n",
       "    </tr>\n",
       "  </tbody>\n",
       "</table>\n",
       "<p>999 rows × 24 columns</p>\n",
       "</div>"
      ],
      "text/plain": [
       "        date    revenue           cogs       margin_$  margin_%  \\\n",
       "0    2021-01  291646.25   69944.725609  221701.524391  0.760173   \n",
       "1    2021-02  262906.73   85322.341897  177584.388103  0.675465   \n",
       "2    2021-03  315154.72   99950.244014  215204.475986  0.682853   \n",
       "3    2021-04  329925.48  100937.302787  228988.177213  0.694060   \n",
       "4    2021-05  336793.80   99047.578798  237746.221202  0.705910   \n",
       "..       ...        ...            ...            ...       ...   \n",
       "994  2021-11   18761.21    5470.325953   13290.884047  0.708424   \n",
       "995  2021-12   32715.38   12198.903894   20516.476106  0.627120   \n",
       "996  2022-01   24339.01   11123.403847   13215.606153  0.542980   \n",
       "997  2022-02   24450.82   10410.082937   14040.737063  0.574244   \n",
       "998  2022-03   10938.18    5092.101862    5846.078138  0.534465   \n",
       "\n",
       "     total_count_incoming  product_count  count_incoming  coverage  \\\n",
       "0                  4808.0         2003.0            2805  0.696005   \n",
       "1                  5464.0          377.0            5087  0.948611   \n",
       "2                  6902.0          159.0            6743  0.951475   \n",
       "3                  7081.0          112.0            6969  0.931465   \n",
       "4                  7286.0          131.0            7155  0.918326   \n",
       "..                    ...            ...             ...       ...   \n",
       "994                 610.0           52.0             558  0.884058   \n",
       "995                1062.0          129.0             933  0.919481   \n",
       "996                 831.0           43.0             788  0.936866   \n",
       "997                 796.0           37.0             759  0.953293   \n",
       "998                 359.0           13.0             346  0.980874   \n",
       "\n",
       "     revenue_after_tax  cogs_after_tax  margin_$_after_tax  \\\n",
       "0          335393.1875    88829.801523       246563.385977   \n",
       "1          302342.7395   108359.374209       193983.365291   \n",
       "2          362427.9280   126936.809898       235491.118102   \n",
       "3          379414.3020   128190.374539       251223.927461   \n",
       "4          387312.8700   125790.425074       261522.444926   \n",
       "..                 ...             ...                 ...   \n",
       "994         21575.3915     6947.313960        14628.077540   \n",
       "995         37622.6870    15492.607945        22130.079055   \n",
       "996         27989.8615    14126.722885        13863.138615   \n",
       "997         28118.4430    13220.805331        14897.637669   \n",
       "998         12578.9070     6466.969365         6111.937635   \n",
       "\n",
       "     margin_%_after_tax  revenue_change  revenue_change_after_tax  \\\n",
       "0              0.735147             NaN                       NaN   \n",
       "1              0.641601       -0.098542                 -0.098542   \n",
       "2              0.649760        0.198732                  0.198732   \n",
       "3              0.662136        0.046868                  0.046868   \n",
       "4              0.675223        0.020818                  0.020818   \n",
       "..                  ...             ...                       ...   \n",
       "994            0.677998        0.111837                  0.111837   \n",
       "995            0.588211        0.743778                  0.743778   \n",
       "996            0.495291       -0.256038                 -0.256038   \n",
       "997            0.529817        0.004594                  0.004594   \n",
       "998            0.485888       -0.552646                 -0.552646   \n",
       "\n",
       "     gm_past_quarter_after_tax  gm_past_2quarters_after_tax  \\\n",
       "0                          NaN                          NaN   \n",
       "1                          NaN                          NaN   \n",
       "2                     0.675503                          NaN   \n",
       "3                     0.651166                          NaN   \n",
       "4                     0.662373                          NaN   \n",
       "..                         ...                          ...   \n",
       "994                   0.591387                          NaN   \n",
       "995                   0.644411                          NaN   \n",
       "996                   0.587167                          NaN   \n",
       "997                   0.537773                     0.564580   \n",
       "998                   0.503666                     0.574038   \n",
       "\n",
       "     gm_past_3quarters_after_tax  gm$_past_quarter_after_tax  \\\n",
       "0                            NaN                         NaN   \n",
       "1                            NaN                         NaN   \n",
       "2                            NaN               225345.956457   \n",
       "3                            NaN               226899.470285   \n",
       "4                            NaN               249412.496830   \n",
       "..                           ...                         ...   \n",
       "994                          NaN                12210.382620   \n",
       "995                          NaN                16567.283526   \n",
       "996                          NaN                16873.765070   \n",
       "997                          NaN                16963.618446   \n",
       "998                          NaN                11624.237973   \n",
       "\n",
       "     gm$_past_2quarters_after_tax  gm$_past_3quarters_after_tax company  \\\n",
       "0                             NaN                           NaN    99HT   \n",
       "1                             NaN                           NaN    99HT   \n",
       "2                             NaN                           NaN    99HT   \n",
       "3                             NaN                           NaN    99HT   \n",
       "4                             NaN                           NaN    99HT   \n",
       "..                            ...                           ...     ...   \n",
       "994                           NaN                           NaN     VOY   \n",
       "995                           NaN                           NaN     VOY   \n",
       "996                           NaN                           NaN     VOY   \n",
       "997                  14587.000533                           NaN     VOY   \n",
       "998                  14095.760750                           NaN     VOY   \n",
       "\n",
       "            location                       id  \n",
       "0    C10-0000279-LIC  (99HT, C10-0000279-LIC)  \n",
       "1    C10-0000279-LIC  (99HT, C10-0000279-LIC)  \n",
       "2    C10-0000279-LIC  (99HT, C10-0000279-LIC)  \n",
       "3    C10-0000279-LIC  (99HT, C10-0000279-LIC)  \n",
       "4    C10-0000279-LIC  (99HT, C10-0000279-LIC)  \n",
       "..               ...                      ...  \n",
       "994  C10-0000802-LIC   (VOY, C10-0000802-LIC)  \n",
       "995  C10-0000802-LIC   (VOY, C10-0000802-LIC)  \n",
       "996  C10-0000802-LIC   (VOY, C10-0000802-LIC)  \n",
       "997  C10-0000802-LIC   (VOY, C10-0000802-LIC)  \n",
       "998  C10-0000802-LIC   (VOY, C10-0000802-LIC)  \n",
       "\n",
       "[999 rows x 24 columns]"
      ]
     },
     "execution_count": 48,
     "metadata": {},
     "output_type": "execute_result"
    }
   ],
   "source": [
    "df"
   ]
  },
  {
   "cell_type": "code",
   "execution_count": null,
   "id": "0b0e95c2",
   "metadata": {},
   "outputs": [],
   "source": [
    "#df.to_csv('ca_analysis_0307.csv')"
   ]
  },
  {
   "cell_type": "code",
   "execution_count": null,
   "id": "a07fdec1",
   "metadata": {},
   "outputs": [],
   "source": [
    "#df.to_excel('ca_location_analysis/'+'ca_analysis.xlsx')"
   ]
  },
  {
   "cell_type": "code",
   "execution_count": 17,
   "id": "f4b35bd4",
   "metadata": {},
   "outputs": [
    {
     "data": {
      "text/html": [
       "<div>\n",
       "<style scoped>\n",
       "    .dataframe tbody tr th:only-of-type {\n",
       "        vertical-align: middle;\n",
       "    }\n",
       "\n",
       "    .dataframe tbody tr th {\n",
       "        vertical-align: top;\n",
       "    }\n",
       "\n",
       "    .dataframe thead th {\n",
       "        text-align: right;\n",
       "    }\n",
       "</style>\n",
       "<table border=\"1\" class=\"dataframe\">\n",
       "  <thead>\n",
       "    <tr style=\"text-align: right;\">\n",
       "      <th></th>\n",
       "      <th>date</th>\n",
       "      <th>revenue</th>\n",
       "      <th>cogs</th>\n",
       "      <th>margin_$</th>\n",
       "      <th>margin_%</th>\n",
       "      <th>total_count_incoming</th>\n",
       "      <th>product_count</th>\n",
       "      <th>count_incoming</th>\n",
       "      <th>coverage</th>\n",
       "      <th>revenue_after_tax</th>\n",
       "      <th>cogs_after_tax</th>\n",
       "      <th>margin_$_after_tax</th>\n",
       "      <th>margin_%_after_tax</th>\n",
       "      <th>revenue_change</th>\n",
       "      <th>revenue_change_after_tax</th>\n",
       "      <th>gm_past_quarter_after_tax</th>\n",
       "      <th>gm_past_2quarters_after_tax</th>\n",
       "      <th>gm_past_3quarters_after_tax</th>\n",
       "      <th>gm$_past_quarter_after_tax</th>\n",
       "      <th>gm$_past_2quarters_after_tax</th>\n",
       "      <th>gm$_past_3quarters_after_tax</th>\n",
       "      <th>company</th>\n",
       "      <th>location</th>\n",
       "    </tr>\n",
       "    <tr>\n",
       "      <th>date</th>\n",
       "      <th></th>\n",
       "      <th></th>\n",
       "      <th></th>\n",
       "      <th></th>\n",
       "      <th></th>\n",
       "      <th></th>\n",
       "      <th></th>\n",
       "      <th></th>\n",
       "      <th></th>\n",
       "      <th></th>\n",
       "      <th></th>\n",
       "      <th></th>\n",
       "      <th></th>\n",
       "      <th></th>\n",
       "      <th></th>\n",
       "      <th></th>\n",
       "      <th></th>\n",
       "      <th></th>\n",
       "      <th></th>\n",
       "      <th></th>\n",
       "      <th></th>\n",
       "      <th></th>\n",
       "      <th></th>\n",
       "    </tr>\n",
       "  </thead>\n",
       "  <tbody>\n",
       "    <tr>\n",
       "      <th>2021-01</th>\n",
       "      <td>2021-01</td>\n",
       "      <td>291646.25</td>\n",
       "      <td>69944.725609</td>\n",
       "      <td>221701.524391</td>\n",
       "      <td>0.760173</td>\n",
       "      <td>4808.0</td>\n",
       "      <td>2003.0</td>\n",
       "      <td>2805</td>\n",
       "      <td>0.696005</td>\n",
       "      <td>335393.1875</td>\n",
       "      <td>88829.801523</td>\n",
       "      <td>246563.385977</td>\n",
       "      <td>0.735147</td>\n",
       "      <td>NaN</td>\n",
       "      <td>NaN</td>\n",
       "      <td>NaN</td>\n",
       "      <td>NaN</td>\n",
       "      <td>NaN</td>\n",
       "      <td>NaN</td>\n",
       "      <td>NaN</td>\n",
       "      <td>NaN</td>\n",
       "      <td>99HT</td>\n",
       "      <td>C10-0000279-LIC</td>\n",
       "    </tr>\n",
       "    <tr>\n",
       "      <th>2021-02</th>\n",
       "      <td>2021-02</td>\n",
       "      <td>262906.73</td>\n",
       "      <td>85322.341897</td>\n",
       "      <td>177584.388103</td>\n",
       "      <td>0.675465</td>\n",
       "      <td>5464.0</td>\n",
       "      <td>377.0</td>\n",
       "      <td>5087</td>\n",
       "      <td>0.948611</td>\n",
       "      <td>302342.7395</td>\n",
       "      <td>108359.374209</td>\n",
       "      <td>193983.365291</td>\n",
       "      <td>0.641601</td>\n",
       "      <td>-0.098542</td>\n",
       "      <td>-0.098542</td>\n",
       "      <td>NaN</td>\n",
       "      <td>NaN</td>\n",
       "      <td>NaN</td>\n",
       "      <td>NaN</td>\n",
       "      <td>NaN</td>\n",
       "      <td>NaN</td>\n",
       "      <td>99HT</td>\n",
       "      <td>C10-0000279-LIC</td>\n",
       "    </tr>\n",
       "    <tr>\n",
       "      <th>2021-03</th>\n",
       "      <td>2021-03</td>\n",
       "      <td>315154.72</td>\n",
       "      <td>99950.244014</td>\n",
       "      <td>215204.475986</td>\n",
       "      <td>0.682853</td>\n",
       "      <td>6902.0</td>\n",
       "      <td>159.0</td>\n",
       "      <td>6743</td>\n",
       "      <td>0.951475</td>\n",
       "      <td>362427.9280</td>\n",
       "      <td>126936.809898</td>\n",
       "      <td>235491.118102</td>\n",
       "      <td>0.649760</td>\n",
       "      <td>0.198732</td>\n",
       "      <td>0.198732</td>\n",
       "      <td>0.675503</td>\n",
       "      <td>NaN</td>\n",
       "      <td>NaN</td>\n",
       "      <td>225345.956457</td>\n",
       "      <td>NaN</td>\n",
       "      <td>NaN</td>\n",
       "      <td>99HT</td>\n",
       "      <td>C10-0000279-LIC</td>\n",
       "    </tr>\n",
       "    <tr>\n",
       "      <th>2021-04</th>\n",
       "      <td>2021-04</td>\n",
       "      <td>329925.48</td>\n",
       "      <td>100937.302787</td>\n",
       "      <td>228988.177213</td>\n",
       "      <td>0.694060</td>\n",
       "      <td>7081.0</td>\n",
       "      <td>112.0</td>\n",
       "      <td>6969</td>\n",
       "      <td>0.931465</td>\n",
       "      <td>379414.3020</td>\n",
       "      <td>128190.374539</td>\n",
       "      <td>251223.927461</td>\n",
       "      <td>0.662136</td>\n",
       "      <td>0.046868</td>\n",
       "      <td>0.046868</td>\n",
       "      <td>0.651166</td>\n",
       "      <td>NaN</td>\n",
       "      <td>NaN</td>\n",
       "      <td>226899.470285</td>\n",
       "      <td>NaN</td>\n",
       "      <td>NaN</td>\n",
       "      <td>99HT</td>\n",
       "      <td>C10-0000279-LIC</td>\n",
       "    </tr>\n",
       "    <tr>\n",
       "      <th>2021-05</th>\n",
       "      <td>2021-05</td>\n",
       "      <td>336793.80</td>\n",
       "      <td>99047.578798</td>\n",
       "      <td>237746.221202</td>\n",
       "      <td>0.705910</td>\n",
       "      <td>7286.0</td>\n",
       "      <td>131.0</td>\n",
       "      <td>7155</td>\n",
       "      <td>0.918326</td>\n",
       "      <td>387312.8700</td>\n",
       "      <td>125790.425074</td>\n",
       "      <td>261522.444926</td>\n",
       "      <td>0.675223</td>\n",
       "      <td>0.020818</td>\n",
       "      <td>0.020818</td>\n",
       "      <td>0.662373</td>\n",
       "      <td>NaN</td>\n",
       "      <td>NaN</td>\n",
       "      <td>249412.496830</td>\n",
       "      <td>NaN</td>\n",
       "      <td>NaN</td>\n",
       "      <td>99HT</td>\n",
       "      <td>C10-0000279-LIC</td>\n",
       "    </tr>\n",
       "  </tbody>\n",
       "</table>\n",
       "</div>"
      ],
      "text/plain": [
       "            date    revenue           cogs       margin_$  margin_%  \\\n",
       "date                                                                  \n",
       "2021-01  2021-01  291646.25   69944.725609  221701.524391  0.760173   \n",
       "2021-02  2021-02  262906.73   85322.341897  177584.388103  0.675465   \n",
       "2021-03  2021-03  315154.72   99950.244014  215204.475986  0.682853   \n",
       "2021-04  2021-04  329925.48  100937.302787  228988.177213  0.694060   \n",
       "2021-05  2021-05  336793.80   99047.578798  237746.221202  0.705910   \n",
       "\n",
       "         total_count_incoming  product_count  count_incoming  coverage  \\\n",
       "date                                                                     \n",
       "2021-01                4808.0         2003.0            2805  0.696005   \n",
       "2021-02                5464.0          377.0            5087  0.948611   \n",
       "2021-03                6902.0          159.0            6743  0.951475   \n",
       "2021-04                7081.0          112.0            6969  0.931465   \n",
       "2021-05                7286.0          131.0            7155  0.918326   \n",
       "\n",
       "         revenue_after_tax  cogs_after_tax  margin_$_after_tax  \\\n",
       "date                                                             \n",
       "2021-01        335393.1875    88829.801523       246563.385977   \n",
       "2021-02        302342.7395   108359.374209       193983.365291   \n",
       "2021-03        362427.9280   126936.809898       235491.118102   \n",
       "2021-04        379414.3020   128190.374539       251223.927461   \n",
       "2021-05        387312.8700   125790.425074       261522.444926   \n",
       "\n",
       "         margin_%_after_tax  revenue_change  revenue_change_after_tax  \\\n",
       "date                                                                    \n",
       "2021-01            0.735147             NaN                       NaN   \n",
       "2021-02            0.641601       -0.098542                 -0.098542   \n",
       "2021-03            0.649760        0.198732                  0.198732   \n",
       "2021-04            0.662136        0.046868                  0.046868   \n",
       "2021-05            0.675223        0.020818                  0.020818   \n",
       "\n",
       "         gm_past_quarter_after_tax  gm_past_2quarters_after_tax  \\\n",
       "date                                                              \n",
       "2021-01                        NaN                          NaN   \n",
       "2021-02                        NaN                          NaN   \n",
       "2021-03                   0.675503                          NaN   \n",
       "2021-04                   0.651166                          NaN   \n",
       "2021-05                   0.662373                          NaN   \n",
       "\n",
       "         gm_past_3quarters_after_tax  gm$_past_quarter_after_tax  \\\n",
       "date                                                               \n",
       "2021-01                          NaN                         NaN   \n",
       "2021-02                          NaN                         NaN   \n",
       "2021-03                          NaN               225345.956457   \n",
       "2021-04                          NaN               226899.470285   \n",
       "2021-05                          NaN               249412.496830   \n",
       "\n",
       "         gm$_past_2quarters_after_tax  gm$_past_3quarters_after_tax company  \\\n",
       "date                                                                          \n",
       "2021-01                           NaN                           NaN    99HT   \n",
       "2021-02                           NaN                           NaN    99HT   \n",
       "2021-03                           NaN                           NaN    99HT   \n",
       "2021-04                           NaN                           NaN    99HT   \n",
       "2021-05                           NaN                           NaN    99HT   \n",
       "\n",
       "                location  \n",
       "date                      \n",
       "2021-01  C10-0000279-LIC  \n",
       "2021-02  C10-0000279-LIC  \n",
       "2021-03  C10-0000279-LIC  \n",
       "2021-04  C10-0000279-LIC  \n",
       "2021-05  C10-0000279-LIC  "
      ]
     },
     "execution_count": 17,
     "metadata": {},
     "output_type": "execute_result"
    }
   ],
   "source": [
    "df.head()"
   ]
  },
  {
   "cell_type": "code",
   "execution_count": 18,
   "id": "5d2c5b41",
   "metadata": {},
   "outputs": [],
   "source": [
    "df['id'] = list(zip(df.company, df.location))\n",
    "df = df.reset_index(drop = True)"
   ]
  },
  {
   "cell_type": "code",
   "execution_count": 19,
   "id": "1882b677",
   "metadata": {},
   "outputs": [],
   "source": []
  },
  {
   "cell_type": "code",
   "execution_count": 53,
   "id": "722f0a5c",
   "metadata": {},
   "outputs": [
    {
     "data": {
      "text/plain": [
       "235    0.518352\n",
       "236    0.546808\n",
       "237    0.556164\n",
       "238    0.559428\n",
       "239    0.597249\n",
       "240    0.595831\n",
       "241    0.609921\n",
       "242    0.615315\n",
       "243    0.605307\n",
       "244    0.610099\n",
       "245    0.621055\n",
       "246    0.622735\n",
       "247    0.622396\n",
       "248    0.607659\n",
       "249    0.617833\n",
       "250    0.632256\n",
       "251    0.628641\n",
       "252    0.614842\n",
       "253    0.626042\n",
       "Name: margin_%_after_tax, dtype: float64"
      ]
     },
     "execution_count": 53,
     "metadata": {},
     "output_type": "execute_result"
    }
   ],
   "source": [
    "df[df['company'] == 'EL']['margin_%_after_tax']"
   ]
  },
  {
   "cell_type": "code",
   "execution_count": 21,
   "id": "fc97b643",
   "metadata": {},
   "outputs": [],
   "source": [
    "df_high_coverage = df[df['coverage'] >= 0.7]"
   ]
  },
  {
   "cell_type": "code",
   "execution_count": 22,
   "id": "8dc9afe6",
   "metadata": {},
   "outputs": [
    {
     "data": {
      "text/plain": [
       "(927, 24)"
      ]
     },
     "execution_count": 22,
     "metadata": {},
     "output_type": "execute_result"
    }
   ],
   "source": [
    "df_high_coverage.shape"
   ]
  },
  {
   "cell_type": "code",
   "execution_count": 23,
   "id": "d755cfb8",
   "metadata": {},
   "outputs": [
    {
     "data": {
      "text/plain": [
       "57"
      ]
     },
     "execution_count": 23,
     "metadata": {},
     "output_type": "execute_result"
    }
   ],
   "source": [
    "len(df_high_coverage['location'].unique())"
   ]
  },
  {
   "cell_type": "code",
   "execution_count": 24,
   "id": "c324a2ae",
   "metadata": {},
   "outputs": [
    {
     "data": {
      "text/html": [
       "<div>\n",
       "<style scoped>\n",
       "    .dataframe tbody tr th:only-of-type {\n",
       "        vertical-align: middle;\n",
       "    }\n",
       "\n",
       "    .dataframe tbody tr th {\n",
       "        vertical-align: top;\n",
       "    }\n",
       "\n",
       "    .dataframe thead th {\n",
       "        text-align: right;\n",
       "    }\n",
       "</style>\n",
       "<table border=\"1\" class=\"dataframe\">\n",
       "  <thead>\n",
       "    <tr style=\"text-align: right;\">\n",
       "      <th></th>\n",
       "      <th>id</th>\n",
       "    </tr>\n",
       "    <tr>\n",
       "      <th>date</th>\n",
       "      <th></th>\n",
       "    </tr>\n",
       "  </thead>\n",
       "  <tbody>\n",
       "    <tr>\n",
       "      <th>2020-01</th>\n",
       "      <td>6</td>\n",
       "    </tr>\n",
       "    <tr>\n",
       "      <th>2020-02</th>\n",
       "      <td>14</td>\n",
       "    </tr>\n",
       "    <tr>\n",
       "      <th>2020-03</th>\n",
       "      <td>18</td>\n",
       "    </tr>\n",
       "    <tr>\n",
       "      <th>2020-04</th>\n",
       "      <td>19</td>\n",
       "    </tr>\n",
       "    <tr>\n",
       "      <th>2020-05</th>\n",
       "      <td>21</td>\n",
       "    </tr>\n",
       "    <tr>\n",
       "      <th>2020-06</th>\n",
       "      <td>23</td>\n",
       "    </tr>\n",
       "    <tr>\n",
       "      <th>2020-07</th>\n",
       "      <td>25</td>\n",
       "    </tr>\n",
       "    <tr>\n",
       "      <th>2020-08</th>\n",
       "      <td>27</td>\n",
       "    </tr>\n",
       "    <tr>\n",
       "      <th>2020-09</th>\n",
       "      <td>26</td>\n",
       "    </tr>\n",
       "    <tr>\n",
       "      <th>2020-10</th>\n",
       "      <td>25</td>\n",
       "    </tr>\n",
       "    <tr>\n",
       "      <th>2020-11</th>\n",
       "      <td>26</td>\n",
       "    </tr>\n",
       "    <tr>\n",
       "      <th>2020-12</th>\n",
       "      <td>29</td>\n",
       "    </tr>\n",
       "    <tr>\n",
       "      <th>2021-01</th>\n",
       "      <td>35</td>\n",
       "    </tr>\n",
       "    <tr>\n",
       "      <th>2021-02</th>\n",
       "      <td>39</td>\n",
       "    </tr>\n",
       "    <tr>\n",
       "      <th>2021-03</th>\n",
       "      <td>41</td>\n",
       "    </tr>\n",
       "    <tr>\n",
       "      <th>2021-04</th>\n",
       "      <td>43</td>\n",
       "    </tr>\n",
       "    <tr>\n",
       "      <th>2021-05</th>\n",
       "      <td>43</td>\n",
       "    </tr>\n",
       "    <tr>\n",
       "      <th>2021-06</th>\n",
       "      <td>44</td>\n",
       "    </tr>\n",
       "    <tr>\n",
       "      <th>2021-07</th>\n",
       "      <td>44</td>\n",
       "    </tr>\n",
       "    <tr>\n",
       "      <th>2021-08</th>\n",
       "      <td>46</td>\n",
       "    </tr>\n",
       "    <tr>\n",
       "      <th>2021-09</th>\n",
       "      <td>47</td>\n",
       "    </tr>\n",
       "    <tr>\n",
       "      <th>2021-10</th>\n",
       "      <td>50</td>\n",
       "    </tr>\n",
       "    <tr>\n",
       "      <th>2021-11</th>\n",
       "      <td>49</td>\n",
       "    </tr>\n",
       "    <tr>\n",
       "      <th>2021-12</th>\n",
       "      <td>49</td>\n",
       "    </tr>\n",
       "    <tr>\n",
       "      <th>2022-01</th>\n",
       "      <td>47</td>\n",
       "    </tr>\n",
       "    <tr>\n",
       "      <th>2022-02</th>\n",
       "      <td>48</td>\n",
       "    </tr>\n",
       "    <tr>\n",
       "      <th>2022-03</th>\n",
       "      <td>43</td>\n",
       "    </tr>\n",
       "  </tbody>\n",
       "</table>\n",
       "</div>"
      ],
      "text/plain": [
       "         id\n",
       "date       \n",
       "2020-01   6\n",
       "2020-02  14\n",
       "2020-03  18\n",
       "2020-04  19\n",
       "2020-05  21\n",
       "2020-06  23\n",
       "2020-07  25\n",
       "2020-08  27\n",
       "2020-09  26\n",
       "2020-10  25\n",
       "2020-11  26\n",
       "2020-12  29\n",
       "2021-01  35\n",
       "2021-02  39\n",
       "2021-03  41\n",
       "2021-04  43\n",
       "2021-05  43\n",
       "2021-06  44\n",
       "2021-07  44\n",
       "2021-08  46\n",
       "2021-09  47\n",
       "2021-10  50\n",
       "2021-11  49\n",
       "2021-12  49\n",
       "2022-01  47\n",
       "2022-02  48\n",
       "2022-03  43"
      ]
     },
     "execution_count": 24,
     "metadata": {},
     "output_type": "execute_result"
    }
   ],
   "source": [
    "df_high_coverage[['date','id']].groupby(['date']).count()"
   ]
  },
  {
   "cell_type": "markdown",
   "id": "268bef00",
   "metadata": {},
   "source": [
    "# 3m"
   ]
  },
  {
   "cell_type": "code",
   "execution_count": null,
   "id": "1e2f8ef8",
   "metadata": {},
   "outputs": [],
   "source": [
    "df_high_coverage_3m_trim = df_high_coverage[(df_high_coverage['gm_past_quarter_after_tax'] > 0.2) & (df_high_coverage['gm_past_quarter_after_tax'] < 0.8)]\n",
    "\n"
   ]
  },
  {
   "cell_type": "code",
   "execution_count": null,
   "id": "64e8804f",
   "metadata": {},
   "outputs": [],
   "source": [
    "#df_high_coverage_3m_trim.shape[0] / df_high_coverage.shape[0]"
   ]
  },
  {
   "cell_type": "code",
   "execution_count": null,
   "id": "aa42148f",
   "metadata": {},
   "outputs": [],
   "source": [
    "df_high_coverage.head()"
   ]
  },
  {
   "cell_type": "code",
   "execution_count": null,
   "id": "5472a7ec",
   "metadata": {},
   "outputs": [],
   "source": [
    "orig_gm_past_3m = df_high_coverage_3m_trim[df_high_coverage_3m_trim['gm_past_quarter_after_tax'] > 0][['id','date']].groupby(['date']).count()\n",
    "orig_gm_dolloar = df_high_coverage_3m_trim[df_high_coverage_3m_trim['gm_past_quarter_after_tax'] > 0][['margin_$_after_tax','date']].groupby(['date']).mean()\n",
    "for i in numpy.arange(0.4, 0.61, 0.01):\n",
    "    print(round(i,2))\n",
    "    qualify = df_high_coverage_3m_trim[df_high_coverage_3m_trim['gm_past_quarter_after_tax'] > i]\n",
    "    to_join = qualify[['id','date']].groupby(['date']).count()\n",
    "    to_join_med_margin_dolloar = qualify[['margin_$_after_tax','date']].groupby(['date']).mean()\n",
    "    to_join.columns = [str(round(i,2))]\n",
    "    to_join_med_margin_dolloar.columns = [str(round(i,2))]\n",
    "    orig_gm_past_3m = pd.concat([orig_gm_past_3m,to_join],axis = 1,join = 'outer')\n",
    "    orig_gm_dolloar = pd.concat([orig_gm_dolloar,to_join_med_margin_dolloar],axis = 1,join = 'outer')"
   ]
  },
  {
   "cell_type": "code",
   "execution_count": null,
   "id": "fa52bdf4",
   "metadata": {},
   "outputs": [],
   "source": [
    "orig_gm_past_3m"
   ]
  },
  {
   "cell_type": "code",
   "execution_count": null,
   "id": "b3182b4a",
   "metadata": {},
   "outputs": [],
   "source": [
    "df_high_coverage_3m_trim"
   ]
  },
  {
   "cell_type": "code",
   "execution_count": null,
   "id": "fde13128",
   "metadata": {},
   "outputs": [],
   "source": [
    "df_high_coverage_3m_trim[['date','margin_%_after_tax']].groupby(['date']).quantile(.9)"
   ]
  },
  {
   "cell_type": "code",
   "execution_count": null,
   "id": "33745078",
   "metadata": {},
   "outputs": [],
   "source": [
    "df_high_coverage_3m_trim[(df_high_coverage_3m_trim['revenue'] >= 3.307699e+05)][['date','gm_past_quarter_after_tax']].groupby(['date']).quantile(.75)\n",
    "\n"
   ]
  },
  {
   "cell_type": "code",
   "execution_count": null,
   "id": "126a8208",
   "metadata": {},
   "outputs": [],
   "source": [
    "df_high_coverage_3m_trim[['date','gm_past_quarter_after_tax']].groupby(['date']).quantile(.75).plot(marker = 'o')"
   ]
  },
  {
   "cell_type": "code",
   "execution_count": null,
   "id": "4388a4a9",
   "metadata": {},
   "outputs": [],
   "source": [
    "# orig_gm_dolloar.mean(axis = 0).plot(marker = 'o',label = 'mean')\n",
    "# orig_gm_dolloar.median(axis = 0).plot(marker = 'o',label = 'median')\n",
    "# plt.legend()"
   ]
  },
  {
   "cell_type": "code",
   "execution_count": null,
   "id": "8dab9432",
   "metadata": {},
   "outputs": [],
   "source": [
    "# orig_gm_dolloar['0.48'].plot()\n",
    "# orig_gm_dolloar['0.55'].plot()\n",
    "# plt.legend()"
   ]
  },
  {
   "cell_type": "markdown",
   "id": "78dcc358",
   "metadata": {},
   "source": [
    "# 6m"
   ]
  },
  {
   "cell_type": "code",
   "execution_count": null,
   "id": "581e1598",
   "metadata": {},
   "outputs": [],
   "source": [
    "df_high_coverage_6m_trim = df_high_coverage[(df_high_coverage['gm_past_2quarters_after_tax'] > 0.2) & (df_high_coverage['gm_past_2quarters_after_tax'] < 0.8)]\n",
    "\n"
   ]
  },
  {
   "cell_type": "code",
   "execution_count": null,
   "id": "d4e1fc98",
   "metadata": {},
   "outputs": [],
   "source": [
    "df_high_coverage_6m_trim[['date','gm_past_2quarters_after_tax','gm_past_quarter_after_tax','gm_past_3quarters_after_tax']].groupby(['date']).quantile(.25).plot(marker = 'o')"
   ]
  },
  {
   "cell_type": "code",
   "execution_count": null,
   "id": "877e2a66",
   "metadata": {},
   "outputs": [],
   "source": [
    "orig_gm_past_6m = df_high_coverage_6m_trim[df_high_coverage_6m_trim['gm_past_2quarters_after_tax'] > 0][['id','date']].groupby(['date']).count()\n",
    "for i in numpy.arange(0.4, 0.61, 0.01):\n",
    "    print(round(i,2))\n",
    "    qualify = df_high_coverage_6m_trim[df_high_coverage_6m_trim['gm_past_2quarters_after_tax'] > i]\n",
    "    to_join = qualify[['id','date']].groupby(['date']).count()\n",
    "    to_join.columns = [str(round(i,2))]\n",
    "    orig_gm_past_6m = pd.concat([orig_gm_past_6m,to_join],axis = 1,join = 'outer')"
   ]
  },
  {
   "cell_type": "code",
   "execution_count": null,
   "id": "dc1f66c8",
   "metadata": {},
   "outputs": [],
   "source": [
    "orig_gm_past_6m"
   ]
  },
  {
   "cell_type": "code",
   "execution_count": null,
   "id": "8df81052",
   "metadata": {},
   "outputs": [],
   "source": [
    "df_high_coverage_6m_trim[['date','gm_past_2quarters_after_tax']].groupby(['date']).quantile(1)"
   ]
  },
  {
   "cell_type": "markdown",
   "id": "c8d8a05c",
   "metadata": {},
   "source": [
    "# 9m"
   ]
  },
  {
   "cell_type": "code",
   "execution_count": null,
   "id": "5a0eedfa",
   "metadata": {},
   "outputs": [],
   "source": [
    "df_high_coverage_9m_trim = df_high_coverage[(df_high_coverage['gm_past_3quarters_after_tax'] > 0.2) & (df_high_coverage['gm_past_3quarters_after_tax'] < 0.8)]\n",
    "\n"
   ]
  },
  {
   "cell_type": "code",
   "execution_count": null,
   "id": "ad3707fe",
   "metadata": {},
   "outputs": [],
   "source": [
    "orig_gm_past_9m = df_high_coverage_9m_trim[df_high_coverage_9m_trim['gm_past_3quarters_after_tax'] > 0][['id','date']].groupby(['date']).count()\n",
    "for i in numpy.arange(0.4, 0.61, 0.01):\n",
    "    print(round(i,2))\n",
    "    qualify = df_high_coverage_9m_trim[df_high_coverage_9m_trim['gm_past_3quarters_after_tax'] > i]\n",
    "    to_join = qualify[['id','date']].groupby(['date']).count()\n",
    "    to_join.columns = [str(round(i,2))]\n",
    "    orig_gm_past_9m = pd.concat([orig_gm_past_9m,to_join],axis = 1,join = 'outer')"
   ]
  },
  {
   "cell_type": "code",
   "execution_count": null,
   "id": "92e7d753",
   "metadata": {},
   "outputs": [],
   "source": [
    "orig_gm_past_9m"
   ]
  },
  {
   "cell_type": "code",
   "execution_count": null,
   "id": "a1294597",
   "metadata": {},
   "outputs": [],
   "source": [
    "df_high_coverage_9m_trim[['date','gm_past_3quarters_after_tax']].groupby(['date']).quantile(.75)"
   ]
  },
  {
   "cell_type": "markdown",
   "id": "a062b1c6",
   "metadata": {},
   "source": [
    "# percentile"
   ]
  },
  {
   "cell_type": "code",
   "execution_count": null,
   "id": "578f2f88",
   "metadata": {},
   "outputs": [],
   "source": [
    "def calculate_percentile(n_list):\n",
    "    return [stats.percentileofscore(n_list.dropna(),i, kind='weak') for i in n_list.dropna()]"
   ]
  },
  {
   "cell_type": "code",
   "execution_count": null,
   "id": "63ea2ea7",
   "metadata": {},
   "outputs": [],
   "source": [
    "df[df['date'] =='2021-01']['gm_past_quarter_after_tax'].dropna()"
   ]
  },
  {
   "cell_type": "code",
   "execution_count": null,
   "id": "ac874594",
   "metadata": {},
   "outputs": [],
   "source": [
    "calculate_percentile(df[df['date'] =='2021-01']['gm_past_quarter_after_tax'])"
   ]
  },
  {
   "cell_type": "code",
   "execution_count": null,
   "id": "61d2f567",
   "metadata": {},
   "outputs": [],
   "source": [
    "from scipy import stats\n",
    "stats.percentileofscore(df['gm_past_quarter_after_tax'].dropna(),0 , kind='weak')"
   ]
  },
  {
   "cell_type": "code",
   "execution_count": null,
   "id": "50dbcf09",
   "metadata": {},
   "outputs": [],
   "source": [
    "## flowhub"
   ]
  },
  {
   "cell_type": "code",
   "execution_count": null,
   "id": "4016ff88",
   "metadata": {},
   "outputs": [],
   "source": [
    "fh = pd.read_csv('flowhub_batch2_location_analysis_0222.csv',index_col= 0)"
   ]
  },
  {
   "cell_type": "code",
   "execution_count": null,
   "id": "0dde4d9c",
   "metadata": {},
   "outputs": [],
   "source": [
    "fh[fh['location_state'] == 'CA']['margin_perc'].describe()"
   ]
  },
  {
   "cell_type": "markdown",
   "id": "8412699a",
   "metadata": {},
   "source": [
    "# flowhub"
   ]
  },
  {
   "cell_type": "code",
   "execution_count": null,
   "id": "673e5414",
   "metadata": {},
   "outputs": [],
   "source": [
    "fh = pd.read_csv('margin_distr_trim_after_tax_0310.csv',index_col= 0)"
   ]
  },
  {
   "cell_type": "code",
   "execution_count": null,
   "id": "5b93c636",
   "metadata": {},
   "outputs": [],
   "source": [
    "fh"
   ]
  },
  {
   "cell_type": "code",
   "execution_count": null,
   "id": "8746a292",
   "metadata": {},
   "outputs": [],
   "source": [
    "final_df_trim = pd.read_csv('final_df_trim.csv',index_col= 0)"
   ]
  },
  {
   "cell_type": "code",
   "execution_count": null,
   "id": "e872fe21",
   "metadata": {},
   "outputs": [],
   "source": [
    "final_df_trim"
   ]
  },
  {
   "cell_type": "code",
   "execution_count": null,
   "id": "c9284d2b",
   "metadata": {},
   "outputs": [],
   "source": [
    "orig_gm_past_3m_fh = final_df_trim[final_df_trim['gm_past_quarter_after_tax'] > 0][['id','date']].groupby(['date']).count()\n",
    "\n",
    "for i in numpy.arange(0.4, 0.61, 0.01):\n",
    "    print(round(i,2))\n",
    "    qualify = df_high_coverage_3m_trim[df_high_coverage_3m_trim['gm_past_quarter_after_tax'] > i]\n",
    "    to_join = qualify[['id','date']].groupby(['date']).count()\n",
    "    to_join_med_margin_dolloar = qualify[['margin_$_after_tax','date']].groupby(['date']).mean()\n",
    "    to_join.columns = [str(round(i,2))]\n",
    "    to_join_med_margin_dolloar.columns = [str(round(i,2))]\n",
    "    orig_gm_past_3m = pd.concat([orig_gm_past_3m,to_join],axis = 1,join = 'outer')\n",
    "    orig_gm_dolloar = pd.concat([orig_gm_dolloar,to_join_med_margin_dolloar],axis = 1,join = 'outer')"
   ]
  },
  {
   "cell_type": "markdown",
   "id": "f93b702c",
   "metadata": {},
   "source": [
    "# GM$"
   ]
  },
  {
   "cell_type": "code",
   "execution_count": 25,
   "id": "8c1a30b0",
   "metadata": {},
   "outputs": [],
   "source": [
    "import seaborn as sns"
   ]
  },
  {
   "cell_type": "markdown",
   "id": "9a6cbccc",
   "metadata": {},
   "source": [
    "## 3M"
   ]
  },
  {
   "cell_type": "code",
   "execution_count": 32,
   "id": "7d2a790a",
   "metadata": {},
   "outputs": [],
   "source": [
    "df_high_coverage_gm_trim_3m = df_high_coverage[(df_high_coverage['gm$_past_quarter_after_tax'] > 0)&(df_high_coverage['gm$_past_quarter_after_tax'] < 500000)]\n",
    "\n",
    "\n"
   ]
  },
  {
   "cell_type": "code",
   "execution_count": 36,
   "id": "1394f48e",
   "metadata": {},
   "outputs": [
    {
     "data": {
      "text/html": [
       "<div>\n",
       "<style scoped>\n",
       "    .dataframe tbody tr th:only-of-type {\n",
       "        vertical-align: middle;\n",
       "    }\n",
       "\n",
       "    .dataframe tbody tr th {\n",
       "        vertical-align: top;\n",
       "    }\n",
       "\n",
       "    .dataframe thead th {\n",
       "        text-align: right;\n",
       "    }\n",
       "</style>\n",
       "<table border=\"1\" class=\"dataframe\">\n",
       "  <thead>\n",
       "    <tr style=\"text-align: right;\">\n",
       "      <th></th>\n",
       "      <th>gm$_past_quarter_after_tax</th>\n",
       "    </tr>\n",
       "    <tr>\n",
       "      <th>date</th>\n",
       "      <th></th>\n",
       "    </tr>\n",
       "  </thead>\n",
       "  <tbody>\n",
       "    <tr>\n",
       "      <th>2020-03</th>\n",
       "      <td>215893.642407</td>\n",
       "    </tr>\n",
       "    <tr>\n",
       "      <th>2020-04</th>\n",
       "      <td>233065.077803</td>\n",
       "    </tr>\n",
       "    <tr>\n",
       "      <th>2020-05</th>\n",
       "      <td>209355.366723</td>\n",
       "    </tr>\n",
       "    <tr>\n",
       "      <th>2020-06</th>\n",
       "      <td>229920.961377</td>\n",
       "    </tr>\n",
       "    <tr>\n",
       "      <th>2020-07</th>\n",
       "      <td>220435.098592</td>\n",
       "    </tr>\n",
       "    <tr>\n",
       "      <th>2020-08</th>\n",
       "      <td>227856.286478</td>\n",
       "    </tr>\n",
       "    <tr>\n",
       "      <th>2020-09</th>\n",
       "      <td>174086.241952</td>\n",
       "    </tr>\n",
       "    <tr>\n",
       "      <th>2020-10</th>\n",
       "      <td>120896.536711</td>\n",
       "    </tr>\n",
       "    <tr>\n",
       "      <th>2020-11</th>\n",
       "      <td>118076.100219</td>\n",
       "    </tr>\n",
       "    <tr>\n",
       "      <th>2020-12</th>\n",
       "      <td>112154.260021</td>\n",
       "    </tr>\n",
       "    <tr>\n",
       "      <th>2021-01</th>\n",
       "      <td>137985.678368</td>\n",
       "    </tr>\n",
       "    <tr>\n",
       "      <th>2021-02</th>\n",
       "      <td>199557.379080</td>\n",
       "    </tr>\n",
       "    <tr>\n",
       "      <th>2021-03</th>\n",
       "      <td>219026.052096</td>\n",
       "    </tr>\n",
       "    <tr>\n",
       "      <th>2021-04</th>\n",
       "      <td>195538.189191</td>\n",
       "    </tr>\n",
       "    <tr>\n",
       "      <th>2021-05</th>\n",
       "      <td>197662.299940</td>\n",
       "    </tr>\n",
       "    <tr>\n",
       "      <th>2021-06</th>\n",
       "      <td>192629.590707</td>\n",
       "    </tr>\n",
       "    <tr>\n",
       "      <th>2021-07</th>\n",
       "      <td>194807.704204</td>\n",
       "    </tr>\n",
       "    <tr>\n",
       "      <th>2021-08</th>\n",
       "      <td>207743.146961</td>\n",
       "    </tr>\n",
       "    <tr>\n",
       "      <th>2021-09</th>\n",
       "      <td>181406.406174</td>\n",
       "    </tr>\n",
       "    <tr>\n",
       "      <th>2021-10</th>\n",
       "      <td>175162.850710</td>\n",
       "    </tr>\n",
       "    <tr>\n",
       "      <th>2021-11</th>\n",
       "      <td>180302.322872</td>\n",
       "    </tr>\n",
       "    <tr>\n",
       "      <th>2021-12</th>\n",
       "      <td>183731.705772</td>\n",
       "    </tr>\n",
       "    <tr>\n",
       "      <th>2022-01</th>\n",
       "      <td>184807.281082</td>\n",
       "    </tr>\n",
       "    <tr>\n",
       "      <th>2022-02</th>\n",
       "      <td>180707.672668</td>\n",
       "    </tr>\n",
       "    <tr>\n",
       "      <th>2022-03</th>\n",
       "      <td>139537.731542</td>\n",
       "    </tr>\n",
       "  </tbody>\n",
       "</table>\n",
       "</div>"
      ],
      "text/plain": [
       "         gm$_past_quarter_after_tax\n",
       "date                               \n",
       "2020-03               215893.642407\n",
       "2020-04               233065.077803\n",
       "2020-05               209355.366723\n",
       "2020-06               229920.961377\n",
       "2020-07               220435.098592\n",
       "2020-08               227856.286478\n",
       "2020-09               174086.241952\n",
       "2020-10               120896.536711\n",
       "2020-11               118076.100219\n",
       "2020-12               112154.260021\n",
       "2021-01               137985.678368\n",
       "2021-02               199557.379080\n",
       "2021-03               219026.052096\n",
       "2021-04               195538.189191\n",
       "2021-05               197662.299940\n",
       "2021-06               192629.590707\n",
       "2021-07               194807.704204\n",
       "2021-08               207743.146961\n",
       "2021-09               181406.406174\n",
       "2021-10               175162.850710\n",
       "2021-11               180302.322872\n",
       "2021-12               183731.705772\n",
       "2022-01               184807.281082\n",
       "2022-02               180707.672668\n",
       "2022-03               139537.731542"
      ]
     },
     "execution_count": 36,
     "metadata": {},
     "output_type": "execute_result"
    }
   ],
   "source": [
    "df_high_coverage_gm_trim_3m[['date','gm$_past_quarter_after_tax']].groupby(['date']).quantile(.75)\n"
   ]
  },
  {
   "cell_type": "markdown",
   "id": "eff10027",
   "metadata": {},
   "source": [
    "## 6m"
   ]
  },
  {
   "cell_type": "code",
   "execution_count": 38,
   "id": "1d95ff93",
   "metadata": {},
   "outputs": [],
   "source": [
    "df_high_coverage_gm_trim_6m = df_high_coverage[(df_high_coverage['gm$_past_2quarters_after_tax'] > 0)&(df_high_coverage['gm$_past_2quarters_after_tax'] < 500000)]\n",
    "\n",
    "\n"
   ]
  },
  {
   "cell_type": "code",
   "execution_count": 42,
   "id": "0b7a2e46",
   "metadata": {},
   "outputs": [
    {
     "data": {
      "text/html": [
       "<div>\n",
       "<style scoped>\n",
       "    .dataframe tbody tr th:only-of-type {\n",
       "        vertical-align: middle;\n",
       "    }\n",
       "\n",
       "    .dataframe tbody tr th {\n",
       "        vertical-align: top;\n",
       "    }\n",
       "\n",
       "    .dataframe thead th {\n",
       "        text-align: right;\n",
       "    }\n",
       "</style>\n",
       "<table border=\"1\" class=\"dataframe\">\n",
       "  <thead>\n",
       "    <tr style=\"text-align: right;\">\n",
       "      <th></th>\n",
       "      <th>gm$_past_quarter_after_tax</th>\n",
       "    </tr>\n",
       "    <tr>\n",
       "      <th>date</th>\n",
       "      <th></th>\n",
       "    </tr>\n",
       "  </thead>\n",
       "  <tbody>\n",
       "    <tr>\n",
       "      <th>2020-06</th>\n",
       "      <td>229940.426296</td>\n",
       "    </tr>\n",
       "    <tr>\n",
       "      <th>2020-07</th>\n",
       "      <td>247137.778695</td>\n",
       "    </tr>\n",
       "    <tr>\n",
       "      <th>2020-08</th>\n",
       "      <td>227856.286478</td>\n",
       "    </tr>\n",
       "    <tr>\n",
       "      <th>2020-09</th>\n",
       "      <td>199780.410125</td>\n",
       "    </tr>\n",
       "    <tr>\n",
       "      <th>2020-10</th>\n",
       "      <td>120896.536711</td>\n",
       "    </tr>\n",
       "    <tr>\n",
       "      <th>2020-11</th>\n",
       "      <td>165047.446913</td>\n",
       "    </tr>\n",
       "    <tr>\n",
       "      <th>2020-12</th>\n",
       "      <td>114445.509543</td>\n",
       "    </tr>\n",
       "    <tr>\n",
       "      <th>2021-01</th>\n",
       "      <td>116514.198801</td>\n",
       "    </tr>\n",
       "    <tr>\n",
       "      <th>2021-02</th>\n",
       "      <td>195026.187621</td>\n",
       "    </tr>\n",
       "    <tr>\n",
       "      <th>2021-03</th>\n",
       "      <td>169697.274418</td>\n",
       "    </tr>\n",
       "    <tr>\n",
       "      <th>2021-04</th>\n",
       "      <td>179298.834712</td>\n",
       "    </tr>\n",
       "    <tr>\n",
       "      <th>2021-05</th>\n",
       "      <td>186032.305333</td>\n",
       "    </tr>\n",
       "    <tr>\n",
       "      <th>2021-06</th>\n",
       "      <td>196319.381471</td>\n",
       "    </tr>\n",
       "    <tr>\n",
       "      <th>2021-07</th>\n",
       "      <td>205966.306635</td>\n",
       "    </tr>\n",
       "    <tr>\n",
       "      <th>2021-08</th>\n",
       "      <td>204826.640040</td>\n",
       "    </tr>\n",
       "    <tr>\n",
       "      <th>2021-09</th>\n",
       "      <td>199057.236509</td>\n",
       "    </tr>\n",
       "    <tr>\n",
       "      <th>2021-10</th>\n",
       "      <td>184230.938304</td>\n",
       "    </tr>\n",
       "    <tr>\n",
       "      <th>2021-11</th>\n",
       "      <td>178360.920994</td>\n",
       "    </tr>\n",
       "    <tr>\n",
       "      <th>2021-12</th>\n",
       "      <td>173581.743033</td>\n",
       "    </tr>\n",
       "    <tr>\n",
       "      <th>2022-01</th>\n",
       "      <td>175993.116914</td>\n",
       "    </tr>\n",
       "    <tr>\n",
       "      <th>2022-02</th>\n",
       "      <td>166958.031795</td>\n",
       "    </tr>\n",
       "    <tr>\n",
       "      <th>2022-03</th>\n",
       "      <td>139537.731542</td>\n",
       "    </tr>\n",
       "  </tbody>\n",
       "</table>\n",
       "</div>"
      ],
      "text/plain": [
       "         gm$_past_quarter_after_tax\n",
       "date                               \n",
       "2020-06               229940.426296\n",
       "2020-07               247137.778695\n",
       "2020-08               227856.286478\n",
       "2020-09               199780.410125\n",
       "2020-10               120896.536711\n",
       "2020-11               165047.446913\n",
       "2020-12               114445.509543\n",
       "2021-01               116514.198801\n",
       "2021-02               195026.187621\n",
       "2021-03               169697.274418\n",
       "2021-04               179298.834712\n",
       "2021-05               186032.305333\n",
       "2021-06               196319.381471\n",
       "2021-07               205966.306635\n",
       "2021-08               204826.640040\n",
       "2021-09               199057.236509\n",
       "2021-10               184230.938304\n",
       "2021-11               178360.920994\n",
       "2021-12               173581.743033\n",
       "2022-01               175993.116914\n",
       "2022-02               166958.031795\n",
       "2022-03               139537.731542"
      ]
     },
     "execution_count": 42,
     "metadata": {},
     "output_type": "execute_result"
    }
   ],
   "source": [
    "df_high_coverage_gm_trim_6m[['date','gm$_past_quarter_after_tax']].groupby(['date']).quantile(.75)"
   ]
  },
  {
   "cell_type": "markdown",
   "id": "439fed87",
   "metadata": {},
   "source": [
    "## 9M"
   ]
  },
  {
   "cell_type": "code",
   "execution_count": 43,
   "id": "feed6bfe",
   "metadata": {},
   "outputs": [],
   "source": [
    "df_high_coverage_gm_trim_9m = df_high_coverage[(df_high_coverage['gm$_past_3quarters_after_tax'] > 0)&(df_high_coverage['gm$_past_3quarters_after_tax'] < 500000)]\n",
    "\n",
    "\n"
   ]
  },
  {
   "cell_type": "code",
   "execution_count": 46,
   "id": "387c4034",
   "metadata": {},
   "outputs": [
    {
     "data": {
      "text/html": [
       "<div>\n",
       "<style scoped>\n",
       "    .dataframe tbody tr th:only-of-type {\n",
       "        vertical-align: middle;\n",
       "    }\n",
       "\n",
       "    .dataframe tbody tr th {\n",
       "        vertical-align: top;\n",
       "    }\n",
       "\n",
       "    .dataframe thead th {\n",
       "        text-align: right;\n",
       "    }\n",
       "</style>\n",
       "<table border=\"1\" class=\"dataframe\">\n",
       "  <thead>\n",
       "    <tr style=\"text-align: right;\">\n",
       "      <th></th>\n",
       "      <th>gm$_past_quarter_after_tax</th>\n",
       "    </tr>\n",
       "    <tr>\n",
       "      <th>date</th>\n",
       "      <th></th>\n",
       "    </tr>\n",
       "  </thead>\n",
       "  <tbody>\n",
       "    <tr>\n",
       "      <th>2020-09</th>\n",
       "      <td>225474.578299</td>\n",
       "    </tr>\n",
       "    <tr>\n",
       "      <th>2020-10</th>\n",
       "      <td>276507.668026</td>\n",
       "    </tr>\n",
       "    <tr>\n",
       "      <th>2020-11</th>\n",
       "      <td>185916.829432</td>\n",
       "    </tr>\n",
       "    <tr>\n",
       "      <th>2020-12</th>\n",
       "      <td>115591.134304</td>\n",
       "    </tr>\n",
       "    <tr>\n",
       "      <th>2021-01</th>\n",
       "      <td>116514.198801</td>\n",
       "    </tr>\n",
       "    <tr>\n",
       "      <th>2021-02</th>\n",
       "      <td>201067.776234</td>\n",
       "    </tr>\n",
       "    <tr>\n",
       "      <th>2021-03</th>\n",
       "      <td>201954.975387</td>\n",
       "    </tr>\n",
       "    <tr>\n",
       "      <th>2021-04</th>\n",
       "      <td>186563.097304</td>\n",
       "    </tr>\n",
       "    <tr>\n",
       "      <th>2021-05</th>\n",
       "      <td>186032.305333</td>\n",
       "    </tr>\n",
       "    <tr>\n",
       "      <th>2021-06</th>\n",
       "      <td>189420.035467</td>\n",
       "    </tr>\n",
       "    <tr>\n",
       "      <th>2021-07</th>\n",
       "      <td>206563.380867</td>\n",
       "    </tr>\n",
       "    <tr>\n",
       "      <th>2021-08</th>\n",
       "      <td>203904.268814</td>\n",
       "    </tr>\n",
       "    <tr>\n",
       "      <th>2021-09</th>\n",
       "      <td>184858.768751</td>\n",
       "    </tr>\n",
       "    <tr>\n",
       "      <th>2021-10</th>\n",
       "      <td>178502.029332</td>\n",
       "    </tr>\n",
       "    <tr>\n",
       "      <th>2021-11</th>\n",
       "      <td>180345.896043</td>\n",
       "    </tr>\n",
       "    <tr>\n",
       "      <th>2021-12</th>\n",
       "      <td>181536.480449</td>\n",
       "    </tr>\n",
       "    <tr>\n",
       "      <th>2022-01</th>\n",
       "      <td>175283.642091</td>\n",
       "    </tr>\n",
       "    <tr>\n",
       "      <th>2022-02</th>\n",
       "      <td>164050.811809</td>\n",
       "    </tr>\n",
       "    <tr>\n",
       "      <th>2022-03</th>\n",
       "      <td>135309.212862</td>\n",
       "    </tr>\n",
       "  </tbody>\n",
       "</table>\n",
       "</div>"
      ],
      "text/plain": [
       "         gm$_past_quarter_after_tax\n",
       "date                               \n",
       "2020-09               225474.578299\n",
       "2020-10               276507.668026\n",
       "2020-11               185916.829432\n",
       "2020-12               115591.134304\n",
       "2021-01               116514.198801\n",
       "2021-02               201067.776234\n",
       "2021-03               201954.975387\n",
       "2021-04               186563.097304\n",
       "2021-05               186032.305333\n",
       "2021-06               189420.035467\n",
       "2021-07               206563.380867\n",
       "2021-08               203904.268814\n",
       "2021-09               184858.768751\n",
       "2021-10               178502.029332\n",
       "2021-11               180345.896043\n",
       "2021-12               181536.480449\n",
       "2022-01               175283.642091\n",
       "2022-02               164050.811809\n",
       "2022-03               135309.212862"
      ]
     },
     "execution_count": 46,
     "metadata": {},
     "output_type": "execute_result"
    }
   ],
   "source": [
    "df_high_coverage_gm_trim_9m[['date','gm$_past_quarter_after_tax']].groupby(['date']).quantile(.75)"
   ]
  },
  {
   "cell_type": "code",
   "execution_count": null,
   "id": "77b43524",
   "metadata": {},
   "outputs": [],
   "source": []
  },
  {
   "cell_type": "code",
   "execution_count": null,
   "id": "79dec3e5",
   "metadata": {},
   "outputs": [],
   "source": []
  },
  {
   "cell_type": "code",
   "execution_count": null,
   "id": "ed9ad3e8",
   "metadata": {},
   "outputs": [],
   "source": []
  },
  {
   "cell_type": "code",
   "execution_count": null,
   "id": "3ca5dad8",
   "metadata": {},
   "outputs": [],
   "source": [
    "df_high_coverage_gm_trim = df_high_coverage[(df_high_coverage['margin_$_after_tax'] > 0)&(df_high_coverage['margin_$_after_tax'] < 500000)]"
   ]
  },
  {
   "cell_type": "code",
   "execution_count": null,
   "id": "e081bf95",
   "metadata": {},
   "outputs": [],
   "source": [
    "df_high_coverage['margin_$_after_tax'].quantile(0.9)"
   ]
  },
  {
   "cell_type": "code",
   "execution_count": null,
   "id": "db9f364c",
   "metadata": {},
   "outputs": [],
   "source": [
    "df_high_coverage[df_high_coverage['margin_$_after_tax'] > 800000]"
   ]
  },
  {
   "cell_type": "code",
   "execution_count": null,
   "id": "fd5a55d9",
   "metadata": {},
   "outputs": [],
   "source": [
    "df_high_coverage_gm_trim.shape[0] / df_high_coverage.shape[0]"
   ]
  },
  {
   "cell_type": "code",
   "execution_count": null,
   "id": "c9aff466",
   "metadata": {},
   "outputs": [],
   "source": [
    "sns.boxplot(df_high_coverage['margin_$_after_tax'])"
   ]
  },
  {
   "cell_type": "code",
   "execution_count": null,
   "id": "adcbd736",
   "metadata": {},
   "outputs": [],
   "source": [
    "df_high_coverage['margin_$_after_tax'].describe()"
   ]
  },
  {
   "cell_type": "code",
   "execution_count": null,
   "id": "c80aa493",
   "metadata": {},
   "outputs": [],
   "source": [
    "df_high_coverage['margin_$_after_tax'].quantile(0.9)"
   ]
  },
  {
   "cell_type": "code",
   "execution_count": null,
   "id": "d19f0139",
   "metadata": {},
   "outputs": [],
   "source": [
    "stats.percentileofscore(df_high_coverage['margin_$_after_tax'],270000, kind='strict')"
   ]
  },
  {
   "cell_type": "code",
   "execution_count": null,
   "id": "6d5df20f",
   "metadata": {},
   "outputs": [],
   "source": [
    "plt.hist(df_high_coverage['margin_$_after_tax'],bins = 100)"
   ]
  },
  {
   "cell_type": "code",
   "execution_count": null,
   "id": "a6f77a6e",
   "metadata": {},
   "outputs": [],
   "source": [
    "df_high_coverage_gm_trim[['date','margin_$_after_tax']].groupby(['date']).quantile(.9)\n"
   ]
  },
  {
   "cell_type": "code",
   "execution_count": null,
   "id": "3fbdf34f",
   "metadata": {},
   "outputs": [],
   "source": [
    "df_high_coverage[['date','margin_$_after_tax']].groupby(['date']).quantile(.5)"
   ]
  },
  {
   "cell_type": "code",
   "execution_count": null,
   "id": "4d3adce1",
   "metadata": {},
   "outputs": [],
   "source": []
  }
 ],
 "metadata": {
  "kernelspec": {
   "display_name": "Python 3",
   "language": "python",
   "name": "python3"
  },
  "language_info": {
   "codemirror_mode": {
    "name": "ipython",
    "version": 3
   },
   "file_extension": ".py",
   "mimetype": "text/x-python",
   "name": "python",
   "nbconvert_exporter": "python",
   "pygments_lexer": "ipython3",
   "version": "3.8.10"
  }
 },
 "nbformat": 4,
 "nbformat_minor": 5
}
