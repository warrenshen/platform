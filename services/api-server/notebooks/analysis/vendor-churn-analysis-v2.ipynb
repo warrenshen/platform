{
 "cells": [
  {
   "cell_type": "code",
   "execution_count": 1,
   "id": "b2bdce0c",
   "metadata": {},
   "outputs": [],
   "source": [
    "import warnings\n",
    "warnings.filterwarnings('ignore')"
   ]
  },
  {
   "cell_type": "code",
   "execution_count": 2,
   "id": "253bf6b5",
   "metadata": {},
   "outputs": [],
   "source": [
    "import json\n",
    "import numpy \n",
    "import os\n",
    "import pandas as pd\n",
    "import matplotlib.pyplot as plt\n",
    "%matplotlib inline  \n",
    "import pyarrow\n",
    "import sys\n",
    "\n",
    "from datetime import date\n",
    "from dotenv import load_dotenv\n",
    "from sqlalchemy import create_engine\n",
    "from os import path\n",
    "from typing import List,Dict, Tuple\n",
    "from collections import defaultdict\n",
    "pd.set_option(\"display.max_columns\", None)\n",
    "\n",
    "load_dotenv(verbose=True)\n",
    "BIGQUERY_CREDENTIALS_PATH = os.environ.get('BIGQUERY_CREDENTIALS_PATH')\n",
    "engine = create_engine('bigquery://bespoke-financial/ProdMetrcData', credentials_path=os.path.expanduser(BIGQUERY_CREDENTIALS_PATH))\n",
    "\n",
    "sys.path.append(path.realpath(path.join(os.getcwd(), \"../core\")))\n",
    "sys.path.append(path.realpath(path.join(os.getcwd(), \"../../src\")))\n",
    "sys.path.append(path.realpath(path.join(os.getcwd(), \"../../scripts\")))\n",
    "\n",
    "import create_queries\n",
    "import prepare_data\n",
    "from tqdm import tqdm\n",
    "\n",
    "from bespoke.inventory.analysis.shared import download_util, inventory_types\n",
    "from bespoke.inventory.analysis import active_inventory_util as util\n",
    "from bespoke.inventory.analysis import inventory_valuations_util as valuations_util\n",
    "\n",
    "%load_ext autoreload\n",
    "%autoreload 2"
   ]
  },
  {
   "cell_type": "code",
   "execution_count": 3,
   "id": "8e720044",
   "metadata": {},
   "outputs": [],
   "source": [
    "from underwriting import client_surveillance_jupyter\n",
    "from typing import Union,cast\n"
   ]
  },
  {
   "cell_type": "code",
   "execution_count": 4,
   "id": "d943233b",
   "metadata": {},
   "outputs": [],
   "source": [
    "TRANSFER_PACKAGES_START_DATE = '2021-01-01'\n",
    "SALES_TRANSACTIONS_START_DATE = '2021-01-01'"
   ]
  },
  {
   "cell_type": "code",
   "execution_count": 5,
   "id": "1854b248",
   "metadata": {},
   "outputs": [],
   "source": [
    "ca_df = pd.read_csv('dec_test.csv',index_col = 0)\n",
    "ca_df.columns = ['company_name','company_identifier','state','licenses']\n",
    "ca_df['company_identifier'] = ca_df['company_identifier'].astype(str)"
   ]
  },
  {
   "cell_type": "code",
   "execution_count": 6,
   "id": "93b86e06",
   "metadata": {},
   "outputs": [
    {
     "data": {
      "text/html": [
       "<div>\n",
       "<style scoped>\n",
       "    .dataframe tbody tr th:only-of-type {\n",
       "        vertical-align: middle;\n",
       "    }\n",
       "\n",
       "    .dataframe tbody tr th {\n",
       "        vertical-align: top;\n",
       "    }\n",
       "\n",
       "    .dataframe thead th {\n",
       "        text-align: right;\n",
       "    }\n",
       "</style>\n",
       "<table border=\"1\" class=\"dataframe\">\n",
       "  <thead>\n",
       "    <tr style=\"text-align: right;\">\n",
       "      <th></th>\n",
       "      <th>company_name</th>\n",
       "      <th>company_identifier</th>\n",
       "      <th>state</th>\n",
       "      <th>licenses</th>\n",
       "    </tr>\n",
       "  </thead>\n",
       "  <tbody>\n",
       "    <tr>\n",
       "      <th>0</th>\n",
       "      <td>64 and Hope Melrose</td>\n",
       "      <td>64HM</td>\n",
       "      <td>CA</td>\n",
       "      <td>C10-0000922-LIC</td>\n",
       "    </tr>\n",
       "    <tr>\n",
       "      <th>1</th>\n",
       "      <td>99 High Tide</td>\n",
       "      <td>99HT</td>\n",
       "      <td>CA</td>\n",
       "      <td>C10-0000279-LIC</td>\n",
       "    </tr>\n",
       "    <tr>\n",
       "      <th>2</th>\n",
       "      <td>A Green Alternative Inc.</td>\n",
       "      <td>AGA</td>\n",
       "      <td>CA</td>\n",
       "      <td>C10-0000341-LIC</td>\n",
       "    </tr>\n",
       "    <tr>\n",
       "      <th>3</th>\n",
       "      <td>Altum LLC</td>\n",
       "      <td>ALT</td>\n",
       "      <td>MI</td>\n",
       "      <td>PC-000310;AU-R-000380</td>\n",
       "    </tr>\n",
       "    <tr>\n",
       "      <th>4</th>\n",
       "      <td>Boston Bud Factory</td>\n",
       "      <td>BBF</td>\n",
       "      <td>MA</td>\n",
       "      <td>MR281525</td>\n",
       "    </tr>\n",
       "    <tr>\n",
       "      <th>...</th>\n",
       "      <td>...</td>\n",
       "      <td>...</td>\n",
       "      <td>...</td>\n",
       "      <td>...</td>\n",
       "    </tr>\n",
       "    <tr>\n",
       "      <th>110</th>\n",
       "      <td>Urbn Leaf</td>\n",
       "      <td>UR</td>\n",
       "      <td>CA</td>\n",
       "      <td>C10-0000776-LIC;C10-0000246-LIC;C10-0000731-LI...</td>\n",
       "    </tr>\n",
       "    <tr>\n",
       "      <th>111</th>\n",
       "      <td>Voyage</td>\n",
       "      <td>VOY</td>\n",
       "      <td>CA</td>\n",
       "      <td>C12-0000030-LIC;C10-0000802-LIC;C12-0000159-LIC</td>\n",
       "    </tr>\n",
       "    <tr>\n",
       "      <th>112</th>\n",
       "      <td>Verts</td>\n",
       "      <td>VS</td>\n",
       "      <td>CO</td>\n",
       "      <td>402-00251;402R-00545</td>\n",
       "    </tr>\n",
       "    <tr>\n",
       "      <th>113</th>\n",
       "      <td>Palm Desert Melanie Place Industrial</td>\n",
       "      <td>WCCC</td>\n",
       "      <td>CA</td>\n",
       "      <td>C10-0000045-LIC;C10-0000372-LIC;C12-0000119-LIC</td>\n",
       "    </tr>\n",
       "    <tr>\n",
       "      <th>114</th>\n",
       "      <td>Welcome The Healing Touch</td>\n",
       "      <td>WHT</td>\n",
       "      <td>CA</td>\n",
       "      <td>C10-0000548-LIC</td>\n",
       "    </tr>\n",
       "  </tbody>\n",
       "</table>\n",
       "<p>115 rows × 4 columns</p>\n",
       "</div>"
      ],
      "text/plain": [
       "                             company_name company_identifier state  \\\n",
       "0                     64 and Hope Melrose               64HM    CA   \n",
       "1                            99 High Tide               99HT    CA   \n",
       "2                A Green Alternative Inc.                AGA    CA   \n",
       "3                               Altum LLC                ALT    MI   \n",
       "4                      Boston Bud Factory                BBF    MA   \n",
       "..                                    ...                ...   ...   \n",
       "110                             Urbn Leaf                 UR    CA   \n",
       "111                                Voyage                VOY    CA   \n",
       "112                                 Verts                 VS    CO   \n",
       "113  Palm Desert Melanie Place Industrial               WCCC    CA   \n",
       "114             Welcome The Healing Touch                WHT    CA   \n",
       "\n",
       "                                              licenses  \n",
       "0                                      C10-0000922-LIC  \n",
       "1                                      C10-0000279-LIC  \n",
       "2                                      C10-0000341-LIC  \n",
       "3                                PC-000310;AU-R-000380  \n",
       "4                                             MR281525  \n",
       "..                                                 ...  \n",
       "110  C10-0000776-LIC;C10-0000246-LIC;C10-0000731-LI...  \n",
       "111    C12-0000030-LIC;C10-0000802-LIC;C12-0000159-LIC  \n",
       "112                               402-00251;402R-00545  \n",
       "113    C10-0000045-LIC;C10-0000372-LIC;C12-0000119-LIC  \n",
       "114                                    C10-0000548-LIC  \n",
       "\n",
       "[115 rows x 4 columns]"
      ]
     },
     "execution_count": 6,
     "metadata": {},
     "output_type": "execute_result"
    }
   ],
   "source": [
    "ca_df"
   ]
  },
  {
   "cell_type": "code",
   "execution_count": 7,
   "id": "f6ad30db",
   "metadata": {},
   "outputs": [
    {
     "data": {
      "text/plain": [
       "(112, 4)"
      ]
     },
     "execution_count": 7,
     "metadata": {},
     "output_type": "execute_result"
    }
   ],
   "source": [
    "ca_df_clean = ca_df[~ca_df['company_identifier'].isin(['WHT','GF','UR'])]\n",
    "ca_df_clean.shape"
   ]
  },
  {
   "cell_type": "code",
   "execution_count": 8,
   "id": "0db55e38",
   "metadata": {},
   "outputs": [],
   "source": [
    "ca_df_clean['lic_list'] = [list(ca_df_clean['licenses'])[i].split(\";\") for i in range(len(ca_df_clean))]"
   ]
  },
  {
   "cell_type": "code",
   "execution_count": 9,
   "id": "52c26850",
   "metadata": {},
   "outputs": [],
   "source": [
    "ca_df_clean = ca_df_clean[ca_df_clean['state'] == 'CA']"
   ]
  },
  {
   "cell_type": "code",
   "execution_count": 10,
   "id": "d6b6f155",
   "metadata": {},
   "outputs": [
    {
     "data": {
      "text/plain": [
       "78"
      ]
     },
     "execution_count": 10,
     "metadata": {},
     "output_type": "execute_result"
    }
   ],
   "source": [
    "ca_df_clean['company_identifier'].nunique()"
   ]
  },
  {
   "cell_type": "code",
   "execution_count": 11,
   "id": "34ffc8af",
   "metadata": {},
   "outputs": [
    {
     "data": {
      "text/plain": [
       "array(['64 and Hope Melrose', '99 High Tide', 'A Green Alternative Inc.',\n",
       "       'Altum LLC', 'Boston Bud Factory', \"Bud's\",\n",
       "       'Big Medicine Cannabissary', 'Buds & Roses Collective Inc',\n",
       "       'Bella Sol', 'Budee', 'Bynate', 'Catalyst', 'Calm and Collective',\n",
       "       \"California's Choice Collective\", 'Chad Enterprises',\n",
       "       'CanEx Delivery', 'Cali Greens LLC', 'Colorado Holdings LLC',\n",
       "       'CHO', 'Calilove Connection', 'California Patients Alliance',\n",
       "       'California Patients Club', 'Cana Rose Realty Holdings, LLC',\n",
       "       'California Street Cannabis',\n",
       "       'California Street Cannabis at Clement', 'Diem Cannabis OR',\n",
       "       'Dunegrass', 'Dubs Green Garden', 'Diem Lynn', 'TDMA',\n",
       "       'Dalwhinnie Farms', 'Eskar Holdings', 'E-Leaf', 'Embarc Alameda',\n",
       "       'Embarc Blackstone', 'Embarc Fairfield', 'Embarc Martinez',\n",
       "       'Embarc Sacramento', 'Embarc Tahoe',\n",
       "       'Emerald Perspective Cooperative, Inc', 'Fresh Baked CO',\n",
       "       'The Flore Store', 'Falcon', 'Futureworks', 'GB2',\n",
       "       'Grassdoor NorCal', 'Grassdoor SoCal', 'Grupo Flor',\n",
       "       'Grupo Flor - East of Eden', 'Grupo Flor - White Fire',\n",
       "       'Greenhouse Herbal Center', 'Green Lion',\n",
       "       'Great Lakes Natural Remedies', 'Green Meadows Farm, LLC',\n",
       "       'Green Rose Green Leaf Care', 'Good Tree', 'Good Times Crenshaw',\n",
       "       'Green Tree Relief', 'Herbarium', 'HumblCann Inc',\n",
       "       'High Grade Distribution', 'Hueneme Patient Consumer Collective',\n",
       "       'Herojo Solutions', 'Infinite Delivery', 'Indacut',\n",
       "       'Karmaceuticals', 'Kaya Cannabis', 'Lucky Box Club',\n",
       "       'Black Market (Lake Effect Group)', 'Lake Effect - Portage',\n",
       "       'Caregiver Patient Connection, LLC', 'RA&R Inc.',\n",
       "       'Moonflower Delivery', 'MedLeaf', 'Monex Place Wellness',\n",
       "       'Mountain Remedy', 'Marvel S&S, Inc.', 'Medicine Woman',\n",
       "       'NorCal Distribution Solutions', 'NXTLVL Delivery',\n",
       "       'New England Craft Cultivators',\n",
       "       'Providing All Patients Access, LLC', 'Patients Care Collective',\n",
       "       'Pineapple Express Hollywood', 'PG Manufacturing', 'Purple Lotus',\n",
       "       \"People's Remedy Lone Palm\", 'Pure Roots, LLC ', \"People's Remedy\",\n",
       "       'Perfect Union', 'Pacific West Distributors', 'Quality Roots',\n",
       "       'Royal Apothecary', 'Red Door Remedies', 'Royal Greens Delivery',\n",
       "       'Rkive', 'San Fernando Valley Patients Cooperative',\n",
       "       'SGF Delivery', 'Shangri LA Care Collective', 'Sovereign',\n",
       "       'Sticky Thumb', 'Sava', 'Tree4Life', 'The Good Leaf',\n",
       "       'The Joy Reserve', 'TweedLeaf', 'Trucenta LLC', 'Three Trees',\n",
       "       'The Twisted Sista', 'Universal Herbal Health Center', 'Urbn Leaf',\n",
       "       'Voyage', 'Verts', 'Palm Desert Melanie Place Industrial',\n",
       "       'Welcome The Healing Touch'], dtype=object)"
      ]
     },
     "execution_count": 11,
     "metadata": {},
     "output_type": "execute_result"
    }
   ],
   "source": [
    "ca_df['company_name'].unique()"
   ]
  },
  {
   "cell_type": "code",
   "execution_count": 12,
   "id": "bbfec18f",
   "metadata": {},
   "outputs": [],
   "source": [
    "ca_df_clean_ex = ca_df_clean.explode('lic_list')"
   ]
  },
  {
   "cell_type": "code",
   "execution_count": 13,
   "id": "d1754839",
   "metadata": {},
   "outputs": [],
   "source": [
    "ca_df_clean_ex = ca_df_clean_ex[~ca_df_clean_ex['company_name'].isin(['Pure Roots, LLC '])]"
   ]
  },
  {
   "cell_type": "code",
   "execution_count": 14,
   "id": "07b6a769",
   "metadata": {},
   "outputs": [
    {
     "data": {
      "text/html": [
       "<div>\n",
       "<style scoped>\n",
       "    .dataframe tbody tr th:only-of-type {\n",
       "        vertical-align: middle;\n",
       "    }\n",
       "\n",
       "    .dataframe tbody tr th {\n",
       "        vertical-align: top;\n",
       "    }\n",
       "\n",
       "    .dataframe thead th {\n",
       "        text-align: right;\n",
       "    }\n",
       "</style>\n",
       "<table border=\"1\" class=\"dataframe\">\n",
       "  <thead>\n",
       "    <tr style=\"text-align: right;\">\n",
       "      <th></th>\n",
       "      <th>company_name</th>\n",
       "      <th>company_identifier</th>\n",
       "      <th>state</th>\n",
       "      <th>licenses</th>\n",
       "      <th>lic_list</th>\n",
       "    </tr>\n",
       "  </thead>\n",
       "  <tbody>\n",
       "    <tr>\n",
       "      <th>86</th>\n",
       "      <td>People's Remedy Lone Palm</td>\n",
       "      <td>PRL</td>\n",
       "      <td>CA</td>\n",
       "      <td>PC-000381;PC-000749;PC-000803;AU-R-000229;AU-R...</td>\n",
       "      <td>PC-000381</td>\n",
       "    </tr>\n",
       "    <tr>\n",
       "      <th>86</th>\n",
       "      <td>People's Remedy Lone Palm</td>\n",
       "      <td>PRL</td>\n",
       "      <td>CA</td>\n",
       "      <td>PC-000381;PC-000749;PC-000803;AU-R-000229;AU-R...</td>\n",
       "      <td>PC-000749</td>\n",
       "    </tr>\n",
       "    <tr>\n",
       "      <th>86</th>\n",
       "      <td>People's Remedy Lone Palm</td>\n",
       "      <td>PRL</td>\n",
       "      <td>CA</td>\n",
       "      <td>PC-000381;PC-000749;PC-000803;AU-R-000229;AU-R...</td>\n",
       "      <td>PC-000803</td>\n",
       "    </tr>\n",
       "    <tr>\n",
       "      <th>86</th>\n",
       "      <td>People's Remedy Lone Palm</td>\n",
       "      <td>PRL</td>\n",
       "      <td>CA</td>\n",
       "      <td>PC-000381;PC-000749;PC-000803;AU-R-000229;AU-R...</td>\n",
       "      <td>AU-R-000229</td>\n",
       "    </tr>\n",
       "    <tr>\n",
       "      <th>86</th>\n",
       "      <td>People's Remedy Lone Palm</td>\n",
       "      <td>PRL</td>\n",
       "      <td>CA</td>\n",
       "      <td>PC-000381;PC-000749;PC-000803;AU-R-000229;AU-R...</td>\n",
       "      <td>AU-R-000607</td>\n",
       "    </tr>\n",
       "    <tr>\n",
       "      <th>86</th>\n",
       "      <td>People's Remedy Lone Palm</td>\n",
       "      <td>PRL</td>\n",
       "      <td>CA</td>\n",
       "      <td>PC-000381;PC-000749;PC-000803;AU-R-000229;AU-R...</td>\n",
       "      <td>AU-R-000739</td>\n",
       "    </tr>\n",
       "    <tr>\n",
       "      <th>86</th>\n",
       "      <td>People's Remedy Lone Palm</td>\n",
       "      <td>PRL</td>\n",
       "      <td>CA</td>\n",
       "      <td>PC-000381;PC-000749;PC-000803;AU-R-000229;AU-R...</td>\n",
       "      <td>PC-000814</td>\n",
       "    </tr>\n",
       "    <tr>\n",
       "      <th>86</th>\n",
       "      <td>People's Remedy Lone Palm</td>\n",
       "      <td>PRL</td>\n",
       "      <td>CA</td>\n",
       "      <td>PC-000381;PC-000749;PC-000803;AU-R-000229;AU-R...</td>\n",
       "      <td>C10-0000759-LIC</td>\n",
       "    </tr>\n",
       "  </tbody>\n",
       "</table>\n",
       "</div>"
      ],
      "text/plain": [
       "                 company_name company_identifier state  \\\n",
       "86  People's Remedy Lone Palm                PRL    CA   \n",
       "86  People's Remedy Lone Palm                PRL    CA   \n",
       "86  People's Remedy Lone Palm                PRL    CA   \n",
       "86  People's Remedy Lone Palm                PRL    CA   \n",
       "86  People's Remedy Lone Palm                PRL    CA   \n",
       "86  People's Remedy Lone Palm                PRL    CA   \n",
       "86  People's Remedy Lone Palm                PRL    CA   \n",
       "86  People's Remedy Lone Palm                PRL    CA   \n",
       "\n",
       "                                             licenses         lic_list  \n",
       "86  PC-000381;PC-000749;PC-000803;AU-R-000229;AU-R...        PC-000381  \n",
       "86  PC-000381;PC-000749;PC-000803;AU-R-000229;AU-R...        PC-000749  \n",
       "86  PC-000381;PC-000749;PC-000803;AU-R-000229;AU-R...        PC-000803  \n",
       "86  PC-000381;PC-000749;PC-000803;AU-R-000229;AU-R...      AU-R-000229  \n",
       "86  PC-000381;PC-000749;PC-000803;AU-R-000229;AU-R...      AU-R-000607  \n",
       "86  PC-000381;PC-000749;PC-000803;AU-R-000229;AU-R...      AU-R-000739  \n",
       "86  PC-000381;PC-000749;PC-000803;AU-R-000229;AU-R...        PC-000814  \n",
       "86  PC-000381;PC-000749;PC-000803;AU-R-000229;AU-R...  C10-0000759-LIC  "
      ]
     },
     "execution_count": 14,
     "metadata": {},
     "output_type": "execute_result"
    }
   ],
   "source": [
    "ca_df_clean_ex[ca_df_clean_ex['company_identifier'] == 'PRL']"
   ]
  },
  {
   "cell_type": "code",
   "execution_count": 15,
   "id": "0eda8cd1",
   "metadata": {},
   "outputs": [],
   "source": [
    "def get_identifiers_for_where_clause(company_identifier\n",
    "):\n",
    "\n",
    "    if type(company_identifier) == str:\n",
    "        identifiers.append(cast(str, company_identifier))\n",
    "    else:\n",
    "        identifiers = cast(List[str], company_identifier)\n",
    "\n",
    "    return ['\"{}\"'.format(iden) for iden in identifiers]"
   ]
  },
  {
   "cell_type": "code",
   "execution_count": 61,
   "id": "e7c509f9",
   "metadata": {},
   "outputs": [],
   "source": [
    "def create_query(LICENSE_NUMBER_LIST):\n",
    "    return f\"\"\"\n",
    "with incoming as (\n",
    "    select\n",
    "  COALESCE(\n",
    "    company_licenses.company_id, incoming.shipper_facility_license_number\n",
    "  ) shipper_company_id,\n",
    "  COALESCE(\n",
    "    companies.parent_company_id, incoming.shipper_facility_license_number\n",
    "  ) shipper_parent_company_id,\n",
    "  COALESCE(\n",
    "    parent_companies.name, incoming.shipper_facility_name\n",
    "  ) shipper_parent_name,\n",
    "  incoming.created_date,\n",
    "  incoming.received_datetime,\n",
    "  incoming.shipper_facility_name,\n",
    "  incoming.recipient_facility_name,\n",
    "  incoming.package_id,\n",
    "  incoming.type,\n",
    "  incoming.product_name,\n",
    "  incoming.shipper_wholesale_price,\n",
    "  incoming.shipped_quantity,\n",
    "  incoming.receiver_wholesale_price,\n",
    "  incoming.updated_at,\n",
    "  incoming.recipient_facility_license_number\n",
    "from\n",
    "  dbt_transformation.int__company_incoming_transfer_packages incoming\n",
    "  left join dbt_transformation.stg__company_licenses company_licenses on incoming.shipper_facility_license_number = company_licenses.license_number\n",
    "  left join dbt_transformation.stg__companies companies on company_licenses.company_id = companies.id\n",
    "  left join dbt_transformation.stg__parent_companies parent_companies on companies.parent_company_id = parent_companies.id\n",
    "WHERE\n",
    "    incoming.recipient_facility_license_number IN ({','.join(LICENSE_NUMBER_LIST)})\n",
    "    AND DATE(incoming.created_date) >= DATE('2021-01-01')\n",
    "    AND DATE(incoming.created_date) < DATE('2023-11-01')\n",
    "    ),\n",
    "    \n",
    "    sales as (\n",
    "    select\n",
    "    license_number,\n",
    "    count(distinct receipt_number) count_tran\n",
    "    from (\n",
    "             select metrc_sales_receipts.license_number,\n",
    "                    metrc_sales_receipts.receipt_number,\n",
    "                    metrc_sales_receipts.type                              as rt_type,\n",
    "                    metrc_sales_receipts.sales_customer_type,\n",
    "                    metrc_sales_receipts.sales_datetime,\n",
    "                    date_trunc(metrc_sales_receipts.sales_datetime, month) as sales_month,\n",
    "                    metrc_sales_receipts.total_packages,\n",
    "                    metrc_sales_receipts.total_price                       as rt_total_price,\n",
    "                    metrc_sales_transactions.type                          as tx_type,\n",
    "                    metrc_sales_transactions.package_id                    as tx_package_id,\n",
    "                    metrc_sales_transactions.package_label                 as tx_package_label,\n",
    "                    metrc_sales_transactions.product_name                  as tx_product_name,\n",
    "                    metrc_sales_transactions.product_category_name         as tx_product_category_name,\n",
    "                    metrc_sales_transactions.unit_of_measure               as tx_unit_of_measure,\n",
    "                    metrc_sales_transactions.quantity_sold                 as tx_quantity_sold,\n",
    "                    metrc_sales_transactions.total_price                   as tx_total_price\n",
    "             from `bespoke-financial`.ProdMetrcData.metrc_sales_receipts metrc_sales_receipts\n",
    "                      inner join `bespoke-financial`.ProdMetrcData.companies companies\n",
    "                                 on metrc_sales_receipts.company_id = companies.id\n",
    "                      left outer join `bespoke-financial`.ProdMetrcData.metrc_sales_transactions metrc_sales_transactions\n",
    "                                      on metrc_sales_receipts.id = metrc_sales_transactions.receipt_row_id\n",
    "             where metrc_sales_receipts.license_number in ({','.join(LICENSE_NUMBER_LIST)})\n",
    "               and metrc_sales_receipts.sales_datetime >= \"2022-11-01\"\n",
    "               and metrc_sales_receipts.sales_datetime <= \"2022-12-31\"\n",
    "         )\n",
    "    group by 1\n",
    ")\n",
    "select incoming.*,\n",
    "       sales.count_tran\n",
    "       from incoming left join sales on incoming.recipient_facility_license_number = sales.license_number\n",
    "       where sales.count_tran > 0\n",
    "    \n",
    "    \"\"\""
   ]
  },
  {
   "cell_type": "code",
   "execution_count": 62,
   "id": "06d61311",
   "metadata": {},
   "outputs": [],
   "source": [
    "def read_df_in(license_numbers):\n",
    "    company_incoming_transfer_packages_query = create_query(\n",
    "    LICENSE_NUMBER_LIST=license_numbers,\n",
    "    )\n",
    "    company_incoming_transfer_packages_dataframe = pd.read_sql_query(company_incoming_transfer_packages_query, engine)\n",
    "    return company_incoming_transfer_packages_dataframe\n"
   ]
  },
  {
   "cell_type": "code",
   "execution_count": 63,
   "id": "dea1fdfe",
   "metadata": {},
   "outputs": [],
   "source": [
    "WINDOW = 2\n",
    "VC_START_DATE = '2021-01-01'\n",
    "VC_END_DATE = '2022-12-01'\n",
    "#VC_MONTH_LIST = ['2022-08-01','2022-09-01','2022-10-01','2022-11-01']\n",
    "VC_MONTH_LIST = ['2022-11-01','2022-12-01']\n",
    "\n",
    "VC_MONTH_END = VC_MONTH_LIST[-1]"
   ]
  },
  {
   "cell_type": "code",
   "execution_count": 64,
   "id": "7c80b085",
   "metadata": {},
   "outputs": [],
   "source": [
    "def get_vc_list(company_list,transfer_packages_start_date,sales_transactrions_start_date,map_df):\n",
    "    vc_df_list = {}\n",
    "    for c in tqdm(company_list):\n",
    "        vc_list = {}\n",
    "        print(c)\n",
    "        l_list = map_df[map_df['company_identifier'] == c]['lic_list'].to_list()[0]\n",
    "        for l in tqdm(l_list):\n",
    "            print(l)\n",
    "            df_in = read_df_in(get_identifiers_for_where_clause([l]))\n",
    "            if df_in.shape[0] == 0:\n",
    "                vc_list[l] = numpy.nan\n",
    "                continue\n",
    "            else:\n",
    "                vc = client_surveillance_jupyter.calculate_vendor_churn_short(df_in,[l],VC_START_DATE,VC_END_DATE,VC_MONTH_LIST,VC_MONTH_END)[1]\n",
    "                vc_list[l] = vc\n",
    "        vc_df_list[c] =  vc_list\n",
    "    return vc_df_list\n"
   ]
  },
  {
   "cell_type": "code",
   "execution_count": 65,
   "id": "b700bd02",
   "metadata": {},
   "outputs": [
    {
     "name": "stderr",
     "output_type": "stream",
     "text": [
      "\r",
      "  0%|          | 0/79 [00:00<?, ?it/s]"
     ]
    },
    {
     "name": "stdout",
     "output_type": "stream",
     "text": [
      "64HM\n"
     ]
    },
    {
     "name": "stderr",
     "output_type": "stream",
     "text": [
      "\n",
      "  0%|          | 0/1 [00:00<?, ?it/s]\u001b[A"
     ]
    },
    {
     "name": "stdout",
     "output_type": "stream",
     "text": [
      "C10-0000922-LIC\n"
     ]
    },
    {
     "name": "stderr",
     "output_type": "stream",
     "text": [
      "\n",
      "100%|██████████| 1/1 [00:05<00:00,  5.88s/it]\u001b[A\n",
      "  1%|▏         | 1/79 [00:05<07:38,  5.88s/it]"
     ]
    },
    {
     "name": "stdout",
     "output_type": "stream",
     "text": [
      "99HT\n"
     ]
    },
    {
     "name": "stderr",
     "output_type": "stream",
     "text": [
      "\n",
      "  0%|          | 0/1 [00:00<?, ?it/s]\u001b[A"
     ]
    },
    {
     "name": "stdout",
     "output_type": "stream",
     "text": [
      "C10-0000279-LIC\n"
     ]
    },
    {
     "name": "stderr",
     "output_type": "stream",
     "text": [
      "\n",
      "100%|██████████| 1/1 [00:05<00:00,  5.98s/it]\u001b[A\n",
      "  3%|▎         | 2/79 [00:11<07:37,  5.94s/it]"
     ]
    },
    {
     "name": "stdout",
     "output_type": "stream",
     "text": [
      "AGA\n"
     ]
    },
    {
     "name": "stderr",
     "output_type": "stream",
     "text": [
      "\n",
      "  0%|          | 0/1 [00:00<?, ?it/s]\u001b[A"
     ]
    },
    {
     "name": "stdout",
     "output_type": "stream",
     "text": [
      "C10-0000341-LIC\n"
     ]
    },
    {
     "name": "stderr",
     "output_type": "stream",
     "text": [
      "\n",
      "100%|██████████| 1/1 [00:05<00:00,  5.99s/it]\u001b[A\n",
      "  4%|▍         | 3/79 [00:17<07:33,  5.96s/it]"
     ]
    },
    {
     "name": "stdout",
     "output_type": "stream",
     "text": [
      "BRC\n"
     ]
    },
    {
     "name": "stderr",
     "output_type": "stream",
     "text": [
      "\n",
      "  0%|          | 0/1 [00:00<?, ?it/s]\u001b[A"
     ]
    },
    {
     "name": "stdout",
     "output_type": "stream",
     "text": [
      "C10-0000603-LIC\n"
     ]
    },
    {
     "name": "stderr",
     "output_type": "stream",
     "text": [
      "\n",
      "100%|██████████| 1/1 [00:03<00:00,  3.80s/it]\u001b[A\n",
      "  5%|▌         | 4/79 [00:21<06:23,  5.11s/it]"
     ]
    },
    {
     "name": "stdout",
     "output_type": "stream",
     "text": [
      "BUD\n"
     ]
    },
    {
     "name": "stderr",
     "output_type": "stream",
     "text": [
      "\n",
      "  0%|          | 0/5 [00:00<?, ?it/s]\u001b[A"
     ]
    },
    {
     "name": "stdout",
     "output_type": "stream",
     "text": [
      "C9-0000464-LIC\n"
     ]
    },
    {
     "name": "stderr",
     "output_type": "stream",
     "text": [
      "\n",
      " 20%|██        | 1/5 [00:03<00:15,  3.85s/it]\u001b[A"
     ]
    },
    {
     "name": "stdout",
     "output_type": "stream",
     "text": [
      "C9-0000167-LIC\n"
     ]
    },
    {
     "name": "stderr",
     "output_type": "stream",
     "text": [
      "\n",
      " 40%|████      | 2/5 [00:07<00:11,  3.79s/it]\u001b[A"
     ]
    },
    {
     "name": "stdout",
     "output_type": "stream",
     "text": [
      "C9-0000399-LIC\n"
     ]
    },
    {
     "name": "stderr",
     "output_type": "stream",
     "text": [
      "\n",
      " 60%|██████    | 3/5 [00:11<00:07,  3.75s/it]\u001b[A"
     ]
    },
    {
     "name": "stdout",
     "output_type": "stream",
     "text": [
      "C9-0000467-LIC\n"
     ]
    },
    {
     "name": "stderr",
     "output_type": "stream",
     "text": [
      "\n",
      " 80%|████████  | 4/5 [00:15<00:03,  3.74s/it]\u001b[A"
     ]
    },
    {
     "name": "stdout",
     "output_type": "stream",
     "text": [
      "C9-0000444-LIC\n"
     ]
    },
    {
     "name": "stderr",
     "output_type": "stream",
     "text": [
      "\n",
      "100%|██████████| 5/5 [00:19<00:00,  3.80s/it]\u001b[A\n",
      "  6%|▋         | 5/79 [00:40<12:29, 10.12s/it]"
     ]
    },
    {
     "name": "stdout",
     "output_type": "stream",
     "text": [
      "BYN\n"
     ]
    },
    {
     "name": "stderr",
     "output_type": "stream",
     "text": [
      "\n",
      "  0%|          | 0/1 [00:00<?, ?it/s]\u001b[A"
     ]
    },
    {
     "name": "stdout",
     "output_type": "stream",
     "text": [
      "C10-0000528-LIC\n"
     ]
    },
    {
     "name": "stderr",
     "output_type": "stream",
     "text": [
      "\n",
      "100%|██████████| 1/1 [00:05<00:00,  5.54s/it]\u001b[A\n",
      "  8%|▊         | 6/79 [00:46<10:25,  8.57s/it]"
     ]
    },
    {
     "name": "stdout",
     "output_type": "stream",
     "text": [
      "CAT\n"
     ]
    },
    {
     "name": "stderr",
     "output_type": "stream",
     "text": [
      "\n",
      "  0%|          | 0/15 [00:00<?, ?it/s]\u001b[A"
     ]
    },
    {
     "name": "stdout",
     "output_type": "stream",
     "text": [
      "C10-0000364-LIC\n"
     ]
    },
    {
     "name": "stderr",
     "output_type": "stream",
     "text": [
      "\n",
      "  7%|▋         | 1/15 [00:05<01:18,  5.63s/it]\u001b[A"
     ]
    },
    {
     "name": "stdout",
     "output_type": "stream",
     "text": [
      "C10-0000885-LIC\n"
     ]
    },
    {
     "name": "stderr",
     "output_type": "stream",
     "text": [
      "\n",
      " 13%|█▎        | 2/15 [00:11<01:13,  5.67s/it]\u001b[A"
     ]
    },
    {
     "name": "stdout",
     "output_type": "stream",
     "text": [
      "C10-0001165-LIC\n"
     ]
    },
    {
     "name": "stderr",
     "output_type": "stream",
     "text": [
      "\n",
      " 20%|██        | 3/15 [00:16<01:03,  5.31s/it]\u001b[A"
     ]
    },
    {
     "name": "stdout",
     "output_type": "stream",
     "text": [
      "C10-0001177-LIC\n"
     ]
    },
    {
     "name": "stderr",
     "output_type": "stream",
     "text": [
      "\n",
      " 27%|██▋       | 4/15 [00:19<00:48,  4.42s/it]\u001b[A"
     ]
    },
    {
     "name": "stdout",
     "output_type": "stream",
     "text": [
      "C10-0000227-LIC\n"
     ]
    },
    {
     "name": "stderr",
     "output_type": "stream",
     "text": [
      "\n",
      " 33%|███▎      | 5/15 [00:25<00:51,  5.12s/it]\u001b[A"
     ]
    },
    {
     "name": "stdout",
     "output_type": "stream",
     "text": [
      "C10-0000230-LIC\n"
     ]
    },
    {
     "name": "stderr",
     "output_type": "stream",
     "text": [
      "\n",
      " 40%|████      | 6/15 [00:31<00:48,  5.36s/it]\u001b[A"
     ]
    },
    {
     "name": "stdout",
     "output_type": "stream",
     "text": [
      "C10-0000525-LIC\n"
     ]
    },
    {
     "name": "stderr",
     "output_type": "stream",
     "text": [
      "\n",
      " 47%|████▋     | 7/15 [00:37<00:43,  5.46s/it]\u001b[A"
     ]
    },
    {
     "name": "stdout",
     "output_type": "stream",
     "text": [
      "C10-0000801-LIC\n"
     ]
    },
    {
     "name": "stderr",
     "output_type": "stream",
     "text": [
      "\n",
      " 53%|█████▎    | 8/15 [00:42<00:38,  5.53s/it]\u001b[A"
     ]
    },
    {
     "name": "stdout",
     "output_type": "stream",
     "text": [
      "C10-0000865-LIC\n"
     ]
    },
    {
     "name": "stderr",
     "output_type": "stream",
     "text": [
      "\n",
      " 60%|██████    | 9/15 [00:48<00:33,  5.57s/it]\u001b[A"
     ]
    },
    {
     "name": "stdout",
     "output_type": "stream",
     "text": [
      "C10-0000903-LIC\n"
     ]
    },
    {
     "name": "stderr",
     "output_type": "stream",
     "text": [
      "\n",
      " 67%|██████▋   | 10/15 [00:53<00:27,  5.56s/it]\u001b[A"
     ]
    },
    {
     "name": "stdout",
     "output_type": "stream",
     "text": [
      "C10-0000915-LIC\n"
     ]
    },
    {
     "name": "stderr",
     "output_type": "stream",
     "text": [
      "\n",
      " 73%|███████▎  | 11/15 [00:59<00:22,  5.61s/it]\u001b[A"
     ]
    },
    {
     "name": "stdout",
     "output_type": "stream",
     "text": [
      "C10-0000937-LIC\n"
     ]
    },
    {
     "name": "stderr",
     "output_type": "stream",
     "text": [
      "\n",
      " 80%|████████  | 12/15 [01:04<00:16,  5.50s/it]\u001b[A"
     ]
    },
    {
     "name": "stdout",
     "output_type": "stream",
     "text": [
      "C10-0001020-LIC\n"
     ]
    },
    {
     "name": "stderr",
     "output_type": "stream",
     "text": [
      "\n",
      " 87%|████████▋ | 13/15 [01:10<00:10,  5.49s/it]\u001b[A"
     ]
    },
    {
     "name": "stdout",
     "output_type": "stream",
     "text": [
      "C10-0001021-LIC\n"
     ]
    },
    {
     "name": "stderr",
     "output_type": "stream",
     "text": [
      "\n",
      " 93%|█████████▎| 14/15 [01:15<00:05,  5.43s/it]\u001b[A"
     ]
    },
    {
     "name": "stdout",
     "output_type": "stream",
     "text": [
      "C10-0001125-LIC\n"
     ]
    },
    {
     "name": "stderr",
     "output_type": "stream",
     "text": [
      "\n",
      "100%|██████████| 15/15 [01:18<00:00,  5.26s/it]\u001b[A\n",
      "  9%|▉         | 7/79 [02:05<37:51, 31.55s/it]"
     ]
    },
    {
     "name": "stdout",
     "output_type": "stream",
     "text": [
      "CC\n"
     ]
    },
    {
     "name": "stderr",
     "output_type": "stream",
     "text": [
      "\n",
      "  0%|          | 0/1 [00:00<?, ?it/s]\u001b[A"
     ]
    },
    {
     "name": "stdout",
     "output_type": "stream",
     "text": [
      "C10-0000758-LIC\n"
     ]
    },
    {
     "name": "stderr",
     "output_type": "stream",
     "text": [
      "\n",
      "100%|██████████| 1/1 [00:05<00:00,  5.30s/it]\u001b[A\n",
      " 10%|█         | 8/79 [02:10<27:26, 23.20s/it]"
     ]
    },
    {
     "name": "stdout",
     "output_type": "stream",
     "text": [
      "CCC\n"
     ]
    },
    {
     "name": "stderr",
     "output_type": "stream",
     "text": [
      "\n",
      "  0%|          | 0/1 [00:00<?, ?it/s]\u001b[A"
     ]
    },
    {
     "name": "stdout",
     "output_type": "stream",
     "text": [
      "C12-0000087-LIC\n"
     ]
    },
    {
     "name": "stderr",
     "output_type": "stream",
     "text": [
      "\n",
      "100%|██████████| 1/1 [00:06<00:00,  6.17s/it]\u001b[A\n",
      " 11%|█▏        | 9/79 [02:16<20:51, 17.87s/it]"
     ]
    },
    {
     "name": "stdout",
     "output_type": "stream",
     "text": [
      "CE\n"
     ]
    },
    {
     "name": "stderr",
     "output_type": "stream",
     "text": [
      "\n",
      "  0%|          | 0/1 [00:00<?, ?it/s]\u001b[A"
     ]
    },
    {
     "name": "stdout",
     "output_type": "stream",
     "text": [
      "C12-0000334-LIC\n"
     ]
    },
    {
     "name": "stderr",
     "output_type": "stream",
     "text": [
      "\n",
      "100%|██████████| 1/1 [00:04<00:00,  4.67s/it]\u001b[A\n",
      " 13%|█▎        | 10/79 [02:21<15:52, 13.80s/it]"
     ]
    },
    {
     "name": "stdout",
     "output_type": "stream",
     "text": [
      "CED\n"
     ]
    },
    {
     "name": "stderr",
     "output_type": "stream",
     "text": [
      "\n",
      "  0%|          | 0/1 [00:00<?, ?it/s]\u001b[A"
     ]
    },
    {
     "name": "stdout",
     "output_type": "stream",
     "text": [
      "C9-0000094-LIC\n"
     ]
    },
    {
     "name": "stderr",
     "output_type": "stream",
     "text": [
      "\n",
      "100%|██████████| 1/1 [00:03<00:00,  3.68s/it]\u001b[A\n",
      " 14%|█▍        | 11/79 [02:24<12:07, 10.70s/it]"
     ]
    },
    {
     "name": "stdout",
     "output_type": "stream",
     "text": [
      "CG\n"
     ]
    },
    {
     "name": "stderr",
     "output_type": "stream",
     "text": [
      "\n",
      "  0%|          | 0/1 [00:00<?, ?it/s]\u001b[A"
     ]
    },
    {
     "name": "stdout",
     "output_type": "stream",
     "text": [
      "C9-0000157-LIC\n"
     ]
    },
    {
     "name": "stderr",
     "output_type": "stream",
     "text": [
      "\n",
      "100%|██████████| 1/1 [00:04<00:00,  4.12s/it]\u001b[A\n",
      " 15%|█▌        | 12/79 [02:29<09:42,  8.70s/it]"
     ]
    },
    {
     "name": "stdout",
     "output_type": "stream",
     "text": [
      "CLC\n"
     ]
    },
    {
     "name": "stderr",
     "output_type": "stream",
     "text": [
      "\n",
      "  0%|          | 0/2 [00:00<?, ?it/s]\u001b[A"
     ]
    },
    {
     "name": "stdout",
     "output_type": "stream",
     "text": [
      "C10-0000986-LIC\n"
     ]
    },
    {
     "name": "stderr",
     "output_type": "stream",
     "text": [
      "\n",
      " 50%|█████     | 1/2 [00:04<00:04,  4.37s/it]\u001b[A"
     ]
    },
    {
     "name": "stdout",
     "output_type": "stream",
     "text": [
      "C12-0000318-LIC\n"
     ]
    },
    {
     "name": "stderr",
     "output_type": "stream",
     "text": [
      "\n",
      "100%|██████████| 2/2 [00:08<00:00,  4.17s/it]\u001b[A\n",
      " 16%|█▋        | 13/79 [02:37<09:27,  8.60s/it]"
     ]
    },
    {
     "name": "stdout",
     "output_type": "stream",
     "text": [
      "CPA\n"
     ]
    },
    {
     "name": "stderr",
     "output_type": "stream",
     "text": [
      "\n",
      "  0%|          | 0/2 [00:00<?, ?it/s]\u001b[A"
     ]
    },
    {
     "name": "stdout",
     "output_type": "stream",
     "text": [
      "C9-0000348-LIC\n"
     ]
    },
    {
     "name": "stderr",
     "output_type": "stream",
     "text": [
      "\n",
      " 50%|█████     | 1/2 [00:05<00:05,  5.61s/it]\u001b[A"
     ]
    },
    {
     "name": "stdout",
     "output_type": "stream",
     "text": [
      "C10-0000461-LIC\n"
     ]
    },
    {
     "name": "stderr",
     "output_type": "stream",
     "text": [
      "\n",
      "100%|██████████| 2/2 [00:11<00:00,  5.60s/it]\u001b[A\n",
      " 18%|█▊        | 14/79 [02:48<10:10,  9.39s/it]"
     ]
    },
    {
     "name": "stdout",
     "output_type": "stream",
     "text": [
      "CPC\n"
     ]
    },
    {
     "name": "stderr",
     "output_type": "stream",
     "text": [
      "\n",
      "  0%|          | 0/1 [00:00<?, ?it/s]\u001b[A"
     ]
    },
    {
     "name": "stdout",
     "output_type": "stream",
     "text": [
      "C9-0000056-LIC\n"
     ]
    },
    {
     "name": "stderr",
     "output_type": "stream",
     "text": [
      "\n",
      "100%|██████████| 1/1 [00:03<00:00,  3.74s/it]\u001b[A\n",
      " 19%|█▉        | 15/79 [02:52<08:11,  7.69s/it]"
     ]
    },
    {
     "name": "stdout",
     "output_type": "stream",
     "text": [
      "CRRH\n"
     ]
    },
    {
     "name": "stderr",
     "output_type": "stream",
     "text": [
      "\n",
      "  0%|          | 0/2 [00:00<?, ?it/s]\u001b[A"
     ]
    },
    {
     "name": "stdout",
     "output_type": "stream",
     "text": [
      "C12-0000308-LIC\n"
     ]
    },
    {
     "name": "stderr",
     "output_type": "stream",
     "text": [
      "\n",
      " 50%|█████     | 1/2 [00:03<00:03,  3.66s/it]\u001b[A"
     ]
    },
    {
     "name": "stdout",
     "output_type": "stream",
     "text": [
      "C12-0000405-LIC\n"
     ]
    },
    {
     "name": "stderr",
     "output_type": "stream",
     "text": [
      "\n",
      "100%|██████████| 2/2 [00:08<00:00,  4.38s/it]\u001b[A\n",
      " 20%|██        | 16/79 [03:01<08:24,  8.01s/it]"
     ]
    },
    {
     "name": "stdout",
     "output_type": "stream",
     "text": [
      "CSC\n"
     ]
    },
    {
     "name": "stderr",
     "output_type": "stream",
     "text": [
      "\n",
      "  0%|          | 0/1 [00:00<?, ?it/s]\u001b[A"
     ]
    },
    {
     "name": "stdout",
     "output_type": "stream",
     "text": [
      "C10-0000670-LIC\n"
     ]
    },
    {
     "name": "stderr",
     "output_type": "stream",
     "text": [
      "\n",
      "100%|██████████| 1/1 [00:05<00:00,  5.76s/it]\u001b[A\n",
      " 22%|██▏       | 17/79 [03:06<07:34,  7.33s/it]"
     ]
    },
    {
     "name": "stdout",
     "output_type": "stream",
     "text": [
      "CSCC\n"
     ]
    },
    {
     "name": "stderr",
     "output_type": "stream",
     "text": [
      "\n",
      "  0%|          | 0/1 [00:00<?, ?it/s]\u001b[A"
     ]
    },
    {
     "name": "stdout",
     "output_type": "stream",
     "text": [
      "C10-0000918-LIC\n"
     ]
    },
    {
     "name": "stderr",
     "output_type": "stream",
     "text": [
      "\n",
      "100%|██████████| 1/1 [00:05<00:00,  5.42s/it]\u001b[A\n",
      " 23%|██▎       | 18/79 [03:12<06:52,  6.76s/it]"
     ]
    },
    {
     "name": "stdout",
     "output_type": "stream",
     "text": [
      "DGG\n"
     ]
    },
    {
     "name": "stderr",
     "output_type": "stream",
     "text": [
      "\n",
      "  0%|          | 0/1 [00:00<?, ?it/s]\u001b[A"
     ]
    },
    {
     "name": "stdout",
     "output_type": "stream",
     "text": [
      "C9-0000016-LIC\n"
     ]
    },
    {
     "name": "stderr",
     "output_type": "stream",
     "text": [
      "\n",
      "100%|██████████| 1/1 [00:05<00:00,  5.18s/it]\u001b[A\n",
      " 24%|██▍       | 19/79 [03:17<06:17,  6.29s/it]"
     ]
    },
    {
     "name": "stdout",
     "output_type": "stream",
     "text": [
      "EL\n"
     ]
    },
    {
     "name": "stderr",
     "output_type": "stream",
     "text": [
      "\n",
      "  0%|          | 0/1 [00:00<?, ?it/s]\u001b[A"
     ]
    },
    {
     "name": "stdout",
     "output_type": "stream",
     "text": [
      "C9-0000370-LIC\n"
     ]
    },
    {
     "name": "stderr",
     "output_type": "stream",
     "text": [
      "\n",
      "100%|██████████| 1/1 [00:05<00:00,  5.01s/it]\u001b[A\n",
      " 25%|██▌       | 20/79 [03:22<05:48,  5.90s/it]"
     ]
    },
    {
     "name": "stdout",
     "output_type": "stream",
     "text": [
      "EMA\n"
     ]
    },
    {
     "name": "stderr",
     "output_type": "stream",
     "text": [
      "\n",
      "  0%|          | 0/1 [00:00<?, ?it/s]\u001b[A"
     ]
    },
    {
     "name": "stdout",
     "output_type": "stream",
     "text": [
      "C10-0000774-LIC\n"
     ]
    },
    {
     "name": "stderr",
     "output_type": "stream",
     "text": [
      "\n",
      "100%|██████████| 1/1 [00:05<00:00,  5.47s/it]\u001b[A\n",
      " 27%|██▋       | 21/79 [03:27<05:34,  5.77s/it]"
     ]
    },
    {
     "name": "stdout",
     "output_type": "stream",
     "text": [
      "EMB\n"
     ]
    },
    {
     "name": "stderr",
     "output_type": "stream",
     "text": [
      "\n",
      "  0%|          | 0/1 [00:00<?, ?it/s]\u001b[A"
     ]
    },
    {
     "name": "stdout",
     "output_type": "stream",
     "text": [
      "C10-0001096-LIC\n"
     ]
    },
    {
     "name": "stderr",
     "output_type": "stream",
     "text": [
      "\n",
      "100%|██████████| 1/1 [00:05<00:00,  5.18s/it]\u001b[A\n",
      " 28%|██▊       | 22/79 [03:33<05:19,  5.60s/it]"
     ]
    },
    {
     "name": "stdout",
     "output_type": "stream",
     "text": [
      "EMF\n"
     ]
    },
    {
     "name": "stderr",
     "output_type": "stream",
     "text": [
      "\n",
      "  0%|          | 0/1 [00:00<?, ?it/s]\u001b[A"
     ]
    },
    {
     "name": "stdout",
     "output_type": "stream",
     "text": [
      "C10-0000939-LIC\n"
     ]
    },
    {
     "name": "stderr",
     "output_type": "stream",
     "text": [
      "\n",
      "100%|██████████| 1/1 [00:05<00:00,  5.35s/it]\u001b[A\n",
      " 29%|██▉       | 23/79 [03:38<05:09,  5.52s/it]"
     ]
    },
    {
     "name": "stdout",
     "output_type": "stream",
     "text": [
      "EMM\n"
     ]
    },
    {
     "name": "stderr",
     "output_type": "stream",
     "text": [
      "\n",
      "  0%|          | 0/1 [00:00<?, ?it/s]\u001b[A"
     ]
    },
    {
     "name": "stdout",
     "output_type": "stream",
     "text": [
      "C10-0000786-LIC\n"
     ]
    },
    {
     "name": "stderr",
     "output_type": "stream",
     "text": [
      "\n",
      "100%|██████████| 1/1 [00:05<00:00,  5.30s/it]\u001b[A\n",
      " 30%|███       | 24/79 [03:43<05:00,  5.46s/it]"
     ]
    },
    {
     "name": "stdout",
     "output_type": "stream",
     "text": [
      "EMS\n"
     ]
    },
    {
     "name": "stderr",
     "output_type": "stream",
     "text": [
      "\n",
      "  0%|          | 0/1 [00:00<?, ?it/s]\u001b[A"
     ]
    },
    {
     "name": "stdout",
     "output_type": "stream",
     "text": [
      "C10-0001168-LIC\n"
     ]
    },
    {
     "name": "stderr",
     "output_type": "stream",
     "text": [
      "\n",
      "100%|██████████| 1/1 [00:04<00:00,  4.82s/it]\u001b[A\n",
      " 32%|███▏      | 25/79 [03:48<04:44,  5.27s/it]"
     ]
    },
    {
     "name": "stdout",
     "output_type": "stream",
     "text": [
      "EMT\n"
     ]
    },
    {
     "name": "stderr",
     "output_type": "stream",
     "text": [
      "\n",
      "  0%|          | 0/1 [00:00<?, ?it/s]\u001b[A"
     ]
    },
    {
     "name": "stdout",
     "output_type": "stream",
     "text": [
      "C10-0000695-LIC\n"
     ]
    },
    {
     "name": "stderr",
     "output_type": "stream",
     "text": [
      "\n",
      "100%|██████████| 1/1 [00:05<00:00,  5.96s/it]\u001b[A\n",
      " 33%|███▎      | 26/79 [03:54<04:50,  5.48s/it]"
     ]
    },
    {
     "name": "stdout",
     "output_type": "stream",
     "text": [
      "EPC\n"
     ]
    },
    {
     "name": "stderr",
     "output_type": "stream",
     "text": [
      "\n",
      "  0%|          | 0/1 [00:00<?, ?it/s]\u001b[A"
     ]
    },
    {
     "name": "stdout",
     "output_type": "stream",
     "text": [
      "C10-0000034-LIC\n"
     ]
    },
    {
     "name": "stderr",
     "output_type": "stream",
     "text": [
      "\n",
      "100%|██████████| 1/1 [00:05<00:00,  5.21s/it]\u001b[A\n",
      " 34%|███▍      | 27/79 [03:59<04:40,  5.40s/it]"
     ]
    },
    {
     "name": "stdout",
     "output_type": "stream",
     "text": [
      "FD\n"
     ]
    },
    {
     "name": "stderr",
     "output_type": "stream",
     "text": [
      "\n",
      "  0%|          | 0/1 [00:00<?, ?it/s]\u001b[A"
     ]
    },
    {
     "name": "stdout",
     "output_type": "stream",
     "text": [
      "C10-0000916-LIC\n"
     ]
    },
    {
     "name": "stderr",
     "output_type": "stream",
     "text": [
      "\n",
      "100%|██████████| 1/1 [00:04<00:00,  4.96s/it]\u001b[A\n",
      " 35%|███▌      | 28/79 [04:04<04:28,  5.27s/it]"
     ]
    },
    {
     "name": "stdout",
     "output_type": "stream",
     "text": [
      "FI\n"
     ]
    },
    {
     "name": "stderr",
     "output_type": "stream",
     "text": [
      "\n",
      "  0%|          | 0/4 [00:00<?, ?it/s]\u001b[A"
     ]
    },
    {
     "name": "stdout",
     "output_type": "stream",
     "text": [
      "C10-0001025-LIC\n"
     ]
    },
    {
     "name": "stderr",
     "output_type": "stream",
     "text": [
      "\n",
      " 25%|██▌       | 1/4 [00:05<00:15,  5.28s/it]\u001b[A"
     ]
    },
    {
     "name": "stdout",
     "output_type": "stream",
     "text": [
      "C10-0000606-LIC\n"
     ]
    },
    {
     "name": "stderr",
     "output_type": "stream",
     "text": [
      "\n",
      " 50%|█████     | 2/4 [00:11<00:11,  5.75s/it]\u001b[A"
     ]
    },
    {
     "name": "stdout",
     "output_type": "stream",
     "text": [
      "C10-0000753-LIC\n"
     ]
    },
    {
     "name": "stderr",
     "output_type": "stream",
     "text": [
      "\n",
      " 75%|███████▌  | 3/4 [00:16<00:05,  5.38s/it]\u001b[A"
     ]
    },
    {
     "name": "stdout",
     "output_type": "stream",
     "text": [
      "C12-0000400-LIC\n"
     ]
    },
    {
     "name": "stderr",
     "output_type": "stream",
     "text": [
      "\n",
      "100%|██████████| 4/4 [00:19<00:00,  4.98s/it]\u001b[A\n",
      " 37%|███▋      | 29/79 [04:24<08:03,  9.66s/it]"
     ]
    },
    {
     "name": "stdout",
     "output_type": "stream",
     "text": [
      "GB2\n"
     ]
    },
    {
     "name": "stderr",
     "output_type": "stream",
     "text": [
      "\n",
      "  0%|          | 0/1 [00:00<?, ?it/s]\u001b[A"
     ]
    },
    {
     "name": "stdout",
     "output_type": "stream",
     "text": [
      "C12-0000430-LIC\n"
     ]
    },
    {
     "name": "stderr",
     "output_type": "stream",
     "text": [
      "\n",
      "100%|██████████| 1/1 [00:03<00:00,  3.67s/it]\u001b[A\n",
      " 38%|███▊      | 30/79 [04:28<06:25,  7.87s/it]"
     ]
    },
    {
     "name": "stdout",
     "output_type": "stream",
     "text": [
      "GDN\n"
     ]
    },
    {
     "name": "stderr",
     "output_type": "stream",
     "text": [
      "\n",
      "  0%|          | 0/1 [00:00<?, ?it/s]\u001b[A"
     ]
    },
    {
     "name": "stdout",
     "output_type": "stream",
     "text": [
      "C9-0000402-LIC\n"
     ]
    },
    {
     "name": "stderr",
     "output_type": "stream",
     "text": [
      "\n",
      "100%|██████████| 1/1 [00:05<00:00,  5.80s/it]\u001b[A\n",
      " 39%|███▉      | 31/79 [04:34<05:47,  7.25s/it]"
     ]
    },
    {
     "name": "stdout",
     "output_type": "stream",
     "text": [
      "GDS\n"
     ]
    },
    {
     "name": "stderr",
     "output_type": "stream",
     "text": [
      "\n",
      "  0%|          | 0/1 [00:00<?, ?it/s]\u001b[A"
     ]
    },
    {
     "name": "stdout",
     "output_type": "stream",
     "text": [
      "C9-0000491-LIC\n"
     ]
    },
    {
     "name": "stderr",
     "output_type": "stream",
     "text": [
      "\n",
      "100%|██████████| 1/1 [00:05<00:00,  5.43s/it]\u001b[A\n",
      " 41%|████      | 32/79 [04:39<05:15,  6.70s/it]"
     ]
    },
    {
     "name": "stdout",
     "output_type": "stream",
     "text": [
      "GFEE\n"
     ]
    },
    {
     "name": "stderr",
     "output_type": "stream",
     "text": [
      "\n",
      "  0%|          | 0/1 [00:00<?, ?it/s]\u001b[A"
     ]
    },
    {
     "name": "stdout",
     "output_type": "stream",
     "text": [
      "C10-0000224-LIC\n"
     ]
    },
    {
     "name": "stderr",
     "output_type": "stream",
     "text": [
      "\n",
      "100%|██████████| 1/1 [00:06<00:00,  6.05s/it]\u001b[A\n",
      " 42%|████▏     | 33/79 [04:45<04:59,  6.51s/it]"
     ]
    },
    {
     "name": "stdout",
     "output_type": "stream",
     "text": [
      "GFWF\n"
     ]
    },
    {
     "name": "stderr",
     "output_type": "stream",
     "text": [
      "\n",
      "  0%|          | 0/1 [00:00<?, ?it/s]\u001b[A"
     ]
    },
    {
     "name": "stdout",
     "output_type": "stream",
     "text": [
      "C10-0000117-LIC\n"
     ]
    },
    {
     "name": "stderr",
     "output_type": "stream",
     "text": [
      "\n",
      "100%|██████████| 1/1 [00:05<00:00,  5.60s/it]\u001b[A\n",
      " 43%|████▎     | 34/79 [04:51<04:40,  6.24s/it]"
     ]
    },
    {
     "name": "stdout",
     "output_type": "stream",
     "text": [
      "GHC\n"
     ]
    },
    {
     "name": "stderr",
     "output_type": "stream",
     "text": [
      "\n",
      "  0%|          | 0/1 [00:00<?, ?it/s]\u001b[A"
     ]
    },
    {
     "name": "stdout",
     "output_type": "stream",
     "text": [
      "C10-0000414-LIC\n"
     ]
    },
    {
     "name": "stderr",
     "output_type": "stream",
     "text": [
      "\n",
      "100%|██████████| 1/1 [00:05<00:00,  5.56s/it]\u001b[A\n",
      " 44%|████▍     | 35/79 [04:56<04:25,  6.03s/it]"
     ]
    },
    {
     "name": "stdout",
     "output_type": "stream",
     "text": [
      "GL\n"
     ]
    },
    {
     "name": "stderr",
     "output_type": "stream",
     "text": [
      "\n",
      "  0%|          | 0/1 [00:00<?, ?it/s]\u001b[A"
     ]
    },
    {
     "name": "stdout",
     "output_type": "stream",
     "text": [
      "C9-0000510-LIC\n"
     ]
    },
    {
     "name": "stderr",
     "output_type": "stream",
     "text": [
      "\n",
      "100%|██████████| 1/1 [00:04<00:00,  4.95s/it]\u001b[A\n",
      " 46%|████▌     | 36/79 [05:01<04:05,  5.71s/it]"
     ]
    },
    {
     "name": "stdout",
     "output_type": "stream",
     "text": [
      "GRG\n"
     ]
    },
    {
     "name": "stderr",
     "output_type": "stream",
     "text": [
      "\n",
      "  0%|          | 0/2 [00:00<?, ?it/s]\u001b[A"
     ]
    },
    {
     "name": "stdout",
     "output_type": "stream",
     "text": [
      "C10-0000169-LIC\n"
     ]
    },
    {
     "name": "stderr",
     "output_type": "stream",
     "text": [
      "\n",
      " 50%|█████     | 1/2 [00:03<00:03,  3.64s/it]\u001b[A"
     ]
    },
    {
     "name": "stdout",
     "output_type": "stream",
     "text": [
      "C10-0000408-LIC\n"
     ]
    },
    {
     "name": "stderr",
     "output_type": "stream",
     "text": [
      "\n",
      "100%|██████████| 2/2 [00:07<00:00,  3.70s/it]\u001b[A\n",
      " 47%|████▋     | 37/79 [05:09<04:21,  6.21s/it]"
     ]
    },
    {
     "name": "stdout",
     "output_type": "stream",
     "text": [
      "GT\n"
     ]
    },
    {
     "name": "stderr",
     "output_type": "stream",
     "text": [
      "\n",
      "  0%|          | 0/2 [00:00<?, ?it/s]\u001b[A"
     ]
    },
    {
     "name": "stdout",
     "output_type": "stream",
     "text": [
      "C9-0000385-LIC\n"
     ]
    },
    {
     "name": "stderr",
     "output_type": "stream",
     "text": [
      "\n",
      " 50%|█████     | 1/2 [00:05<00:05,  5.21s/it]\u001b[A"
     ]
    },
    {
     "name": "stdout",
     "output_type": "stream",
     "text": [
      "C9-0000170-LIC\n"
     ]
    },
    {
     "name": "stderr",
     "output_type": "stream",
     "text": [
      "\n",
      "100%|██████████| 2/2 [00:09<00:00,  4.61s/it]\u001b[A\n",
      " 48%|████▊     | 38/79 [05:18<04:52,  7.12s/it]"
     ]
    },
    {
     "name": "stdout",
     "output_type": "stream",
     "text": [
      "GTC\n"
     ]
    },
    {
     "name": "stderr",
     "output_type": "stream",
     "text": [
      "\n",
      "  0%|          | 0/1 [00:00<?, ?it/s]\u001b[A"
     ]
    },
    {
     "name": "stdout",
     "output_type": "stream",
     "text": [
      "C10-0000849-LIC\n"
     ]
    },
    {
     "name": "stderr",
     "output_type": "stream",
     "text": [
      "\n",
      "100%|██████████| 1/1 [00:06<00:00,  6.74s/it]\u001b[A\n",
      " 49%|████▉     | 39/79 [05:25<04:40,  7.01s/it]"
     ]
    },
    {
     "name": "stdout",
     "output_type": "stream",
     "text": [
      "HB\n"
     ]
    },
    {
     "name": "stderr",
     "output_type": "stream",
     "text": [
      "\n",
      "  0%|          | 0/3 [00:00<?, ?it/s]\u001b[A"
     ]
    },
    {
     "name": "stdout",
     "output_type": "stream",
     "text": [
      "C10-0000301-LIC\n"
     ]
    },
    {
     "name": "stderr",
     "output_type": "stream",
     "text": [
      "\n",
      " 33%|███▎      | 1/3 [00:03<00:07,  3.82s/it]\u001b[A"
     ]
    },
    {
     "name": "stdout",
     "output_type": "stream",
     "text": [
      "C10-0000339-LIC\n"
     ]
    },
    {
     "name": "stderr",
     "output_type": "stream",
     "text": [
      "\n",
      " 67%|██████▋   | 2/3 [00:09<00:04,  4.74s/it]\u001b[A"
     ]
    },
    {
     "name": "stdout",
     "output_type": "stream",
     "text": [
      "C10-0000624-LIC\n"
     ]
    },
    {
     "name": "stderr",
     "output_type": "stream",
     "text": [
      "\n",
      "100%|██████████| 3/3 [00:14<00:00,  4.68s/it]\u001b[A\n",
      " 51%|█████     | 40/79 [05:39<05:55,  9.12s/it]"
     ]
    },
    {
     "name": "stdout",
     "output_type": "stream",
     "text": [
      "HC\n"
     ]
    },
    {
     "name": "stderr",
     "output_type": "stream",
     "text": [
      "\n",
      "  0%|          | 0/1 [00:00<?, ?it/s]\u001b[A"
     ]
    },
    {
     "name": "stdout",
     "output_type": "stream",
     "text": [
      "C9-0000341-LIC\n"
     ]
    },
    {
     "name": "stderr",
     "output_type": "stream",
     "text": [
      "\n",
      "100%|██████████| 1/1 [00:04<00:00,  4.75s/it]\u001b[A\n",
      " 52%|█████▏    | 41/79 [05:43<04:56,  7.81s/it]"
     ]
    },
    {
     "name": "stdout",
     "output_type": "stream",
     "text": [
      "HGD\n"
     ]
    },
    {
     "name": "stderr",
     "output_type": "stream",
     "text": [
      "\n",
      "  0%|          | 0/2 [00:00<?, ?it/s]\u001b[A"
     ]
    },
    {
     "name": "stdout",
     "output_type": "stream",
     "text": [
      "C10-0000258-LIC\n"
     ]
    },
    {
     "name": "stderr",
     "output_type": "stream",
     "text": [
      "\n",
      " 50%|█████     | 1/2 [00:05<00:05,  5.51s/it]\u001b[A"
     ]
    },
    {
     "name": "stdout",
     "output_type": "stream",
     "text": [
      "C12-0000102-LIC\n"
     ]
    },
    {
     "name": "stderr",
     "output_type": "stream",
     "text": [
      "\n",
      "100%|██████████| 2/2 [00:09<00:00,  4.62s/it]\u001b[A\n",
      " 53%|█████▎    | 42/79 [05:53<05:05,  8.24s/it]"
     ]
    },
    {
     "name": "stdout",
     "output_type": "stream",
     "text": [
      "HPCC\n"
     ]
    },
    {
     "name": "stderr",
     "output_type": "stream",
     "text": [
      "\n",
      "  0%|          | 0/2 [00:00<?, ?it/s]\u001b[A"
     ]
    },
    {
     "name": "stdout",
     "output_type": "stream",
     "text": [
      "C10-0000064-LIC\n"
     ]
    },
    {
     "name": "stderr",
     "output_type": "stream",
     "text": [
      "\n",
      " 50%|█████     | 1/2 [00:06<00:06,  6.41s/it]\u001b[A"
     ]
    },
    {
     "name": "stdout",
     "output_type": "stream",
     "text": [
      "C10-0000005-LIC\n"
     ]
    },
    {
     "name": "stderr",
     "output_type": "stream",
     "text": [
      "\n",
      "100%|██████████| 2/2 [00:11<00:00,  5.89s/it]\u001b[A\n",
      " 54%|█████▍    | 43/79 [06:05<05:35,  9.31s/it]"
     ]
    },
    {
     "name": "stdout",
     "output_type": "stream",
     "text": [
      "HS\n"
     ]
    },
    {
     "name": "stderr",
     "output_type": "stream",
     "text": [
      "\n",
      "  0%|          | 0/1 [00:00<?, ?it/s]\u001b[A"
     ]
    },
    {
     "name": "stdout",
     "output_type": "stream",
     "text": [
      "C9-0000441-LIC\n"
     ]
    },
    {
     "name": "stderr",
     "output_type": "stream",
     "text": [
      "\n",
      "100%|██████████| 1/1 [00:05<00:00,  5.68s/it]\u001b[A\n",
      " 56%|█████▌    | 44/79 [06:10<04:47,  8.22s/it]"
     ]
    },
    {
     "name": "stdout",
     "output_type": "stream",
     "text": [
      "ID\n"
     ]
    },
    {
     "name": "stderr",
     "output_type": "stream",
     "text": [
      "\n",
      "  0%|          | 0/1 [00:00<?, ?it/s]\u001b[A"
     ]
    },
    {
     "name": "stdout",
     "output_type": "stream",
     "text": [
      "C9-0000166-LIC\n"
     ]
    },
    {
     "name": "stderr",
     "output_type": "stream",
     "text": [
      "\n",
      "100%|██████████| 1/1 [00:04<00:00,  4.72s/it]\u001b[A\n",
      " 57%|█████▋    | 45/79 [06:15<04:03,  7.17s/it]"
     ]
    },
    {
     "name": "stdout",
     "output_type": "stream",
     "text": [
      "IDC\n"
     ]
    },
    {
     "name": "stderr",
     "output_type": "stream",
     "text": [
      "\n",
      "  0%|          | 0/2 [00:00<?, ?it/s]\u001b[A"
     ]
    },
    {
     "name": "stdout",
     "output_type": "stream",
     "text": [
      "C9-0000320-LIC\n"
     ]
    },
    {
     "name": "stderr",
     "output_type": "stream",
     "text": [
      "\n",
      " 50%|█████     | 1/2 [00:05<00:05,  5.04s/it]\u001b[A"
     ]
    },
    {
     "name": "stdout",
     "output_type": "stream",
     "text": [
      "C10-0001175-LIC\n"
     ]
    },
    {
     "name": "stderr",
     "output_type": "stream",
     "text": [
      "\n",
      "100%|██████████| 2/2 [00:07<00:00,  3.91s/it]\u001b[A\n",
      " 58%|█████▊    | 46/79 [06:23<04:03,  7.37s/it]"
     ]
    },
    {
     "name": "stdout",
     "output_type": "stream",
     "text": [
      "LBC\n"
     ]
    },
    {
     "name": "stderr",
     "output_type": "stream",
     "text": [
      "\n",
      "  0%|          | 0/1 [00:00<?, ?it/s]\u001b[A"
     ]
    },
    {
     "name": "stdout",
     "output_type": "stream",
     "text": [
      "C9-0000154-LIC\n"
     ]
    },
    {
     "name": "stderr",
     "output_type": "stream",
     "text": [
      "\n",
      "100%|██████████| 1/1 [00:04<00:00,  5.00s/it]\u001b[A\n",
      " 59%|█████▉    | 47/79 [06:28<03:33,  6.66s/it]"
     ]
    },
    {
     "name": "stdout",
     "output_type": "stream",
     "text": [
      "MD\n"
     ]
    },
    {
     "name": "stderr",
     "output_type": "stream",
     "text": [
      "\n",
      "  0%|          | 0/1 [00:00<?, ?it/s]\u001b[A"
     ]
    },
    {
     "name": "stdout",
     "output_type": "stream",
     "text": [
      "C9-0000247-LIC\n"
     ]
    },
    {
     "name": "stderr",
     "output_type": "stream",
     "text": [
      "\n",
      "100%|██████████| 1/1 [00:05<00:00,  5.36s/it]\u001b[A\n",
      " 61%|██████    | 48/79 [06:33<03:14,  6.27s/it]"
     ]
    },
    {
     "name": "stdout",
     "output_type": "stream",
     "text": [
      "ML\n"
     ]
    },
    {
     "name": "stderr",
     "output_type": "stream",
     "text": [
      "\n",
      "  0%|          | 0/1 [00:00<?, ?it/s]\u001b[A"
     ]
    },
    {
     "name": "stdout",
     "output_type": "stream",
     "text": [
      "C9-0000300-LIC\n"
     ]
    },
    {
     "name": "stderr",
     "output_type": "stream",
     "text": [
      "\n",
      "100%|██████████| 1/1 [00:05<00:00,  5.44s/it]\u001b[A\n",
      " 62%|██████▏   | 49/79 [06:39<03:00,  6.02s/it]"
     ]
    },
    {
     "name": "stdout",
     "output_type": "stream",
     "text": [
      "MPW\n"
     ]
    },
    {
     "name": "stderr",
     "output_type": "stream",
     "text": [
      "\n",
      "  0%|          | 0/2 [00:00<?, ?it/s]\u001b[A"
     ]
    },
    {
     "name": "stdout",
     "output_type": "stream",
     "text": [
      "C10-0000547-LIC\n"
     ]
    },
    {
     "name": "stderr",
     "output_type": "stream",
     "text": [
      "\n",
      " 50%|█████     | 1/2 [00:03<00:03,  3.93s/it]\u001b[A"
     ]
    },
    {
     "name": "stdout",
     "output_type": "stream",
     "text": [
      "C10-0001166-LIC\n"
     ]
    },
    {
     "name": "stderr",
     "output_type": "stream",
     "text": [
      "\n",
      "100%|██████████| 2/2 [00:09<00:00,  4.58s/it]\u001b[A\n",
      " 63%|██████▎   | 50/79 [06:48<03:21,  6.96s/it]"
     ]
    },
    {
     "name": "stdout",
     "output_type": "stream",
     "text": [
      "MR\n"
     ]
    },
    {
     "name": "stderr",
     "output_type": "stream",
     "text": [
      "\n",
      "  0%|          | 0/1 [00:00<?, ?it/s]\u001b[A"
     ]
    },
    {
     "name": "stdout",
     "output_type": "stream",
     "text": [
      "C12-0000398-LIC\n"
     ]
    },
    {
     "name": "stderr",
     "output_type": "stream",
     "text": [
      "\n",
      "100%|██████████| 1/1 [00:05<00:00,  5.43s/it]\u001b[A\n",
      " 65%|██████▍   | 51/79 [06:53<03:02,  6.50s/it]"
     ]
    },
    {
     "name": "stdout",
     "output_type": "stream",
     "text": [
      "MSS\n"
     ]
    },
    {
     "name": "stderr",
     "output_type": "stream",
     "text": [
      "\n",
      "  0%|          | 0/1 [00:00<?, ?it/s]\u001b[A"
     ]
    },
    {
     "name": "stdout",
     "output_type": "stream",
     "text": [
      "C10-0000816-LIC\n"
     ]
    },
    {
     "name": "stderr",
     "output_type": "stream",
     "text": [
      "\n",
      "100%|██████████| 1/1 [00:05<00:00,  5.09s/it]\u001b[A\n",
      " 66%|██████▌   | 52/79 [06:58<02:44,  6.08s/it]"
     ]
    },
    {
     "name": "stdout",
     "output_type": "stream",
     "text": [
      "MW\n"
     ]
    },
    {
     "name": "stderr",
     "output_type": "stream",
     "text": [
      "\n",
      "  0%|          | 0/1 [00:00<?, ?it/s]\u001b[A"
     ]
    },
    {
     "name": "stdout",
     "output_type": "stream",
     "text": [
      "C10-0000332-LIC\n"
     ]
    },
    {
     "name": "stderr",
     "output_type": "stream",
     "text": [
      "\n",
      "100%|██████████| 1/1 [00:05<00:00,  5.75s/it]\u001b[A\n",
      " 67%|██████▋   | 53/79 [07:04<02:35,  5.98s/it]"
     ]
    },
    {
     "name": "stdout",
     "output_type": "stream",
     "text": [
      "NCDS\n"
     ]
    },
    {
     "name": "stderr",
     "output_type": "stream",
     "text": [
      "\n",
      "  0%|          | 0/2 [00:00<?, ?it/s]\u001b[A"
     ]
    },
    {
     "name": "stdout",
     "output_type": "stream",
     "text": [
      "C10-0000101-LIC\n"
     ]
    },
    {
     "name": "stderr",
     "output_type": "stream",
     "text": [
      "\n",
      " 50%|█████     | 1/2 [00:05<00:05,  5.12s/it]\u001b[A"
     ]
    },
    {
     "name": "stdout",
     "output_type": "stream",
     "text": [
      "C10-0000207-LIC\n"
     ]
    },
    {
     "name": "stderr",
     "output_type": "stream",
     "text": [
      "\n",
      "100%|██████████| 2/2 [00:10<00:00,  5.47s/it]\u001b[A\n",
      " 68%|██████▊   | 54/79 [07:15<03:06,  7.47s/it]"
     ]
    },
    {
     "name": "stdout",
     "output_type": "stream",
     "text": [
      "ND\n"
     ]
    },
    {
     "name": "stderr",
     "output_type": "stream",
     "text": [
      "\n",
      "  0%|          | 0/1 [00:00<?, ?it/s]\u001b[A"
     ]
    },
    {
     "name": "stdout",
     "output_type": "stream",
     "text": [
      "C9-0000427-LIC\n"
     ]
    },
    {
     "name": "stderr",
     "output_type": "stream",
     "text": [
      "\n",
      "100%|██████████| 1/1 [00:03<00:00,  3.67s/it]\u001b[A\n",
      " 70%|██████▉   | 55/79 [07:19<02:31,  6.33s/it]"
     ]
    },
    {
     "name": "stdout",
     "output_type": "stream",
     "text": [
      "PCC\n"
     ]
    },
    {
     "name": "stderr",
     "output_type": "stream",
     "text": [
      "\n",
      "  0%|          | 0/1 [00:00<?, ?it/s]\u001b[A"
     ]
    },
    {
     "name": "stdout",
     "output_type": "stream",
     "text": [
      "C12-0000249-LIC\n"
     ]
    },
    {
     "name": "stderr",
     "output_type": "stream",
     "text": [
      "\n",
      "100%|██████████| 1/1 [00:05<00:00,  5.33s/it]\u001b[A\n",
      " 71%|███████   | 56/79 [07:24<02:18,  6.03s/it]"
     ]
    },
    {
     "name": "stdout",
     "output_type": "stream",
     "text": [
      "PEH\n"
     ]
    },
    {
     "name": "stderr",
     "output_type": "stream",
     "text": [
      "\n",
      "  0%|          | 0/1 [00:00<?, ?it/s]\u001b[A"
     ]
    },
    {
     "name": "stdout",
     "output_type": "stream",
     "text": [
      "C10-0000827-LIC\n"
     ]
    },
    {
     "name": "stderr",
     "output_type": "stream",
     "text": [
      "\n",
      "100%|██████████| 1/1 [00:03<00:00,  3.74s/it]\u001b[A\n",
      " 72%|███████▏  | 57/79 [07:28<01:57,  5.34s/it]"
     ]
    },
    {
     "name": "stdout",
     "output_type": "stream",
     "text": [
      "PL\n"
     ]
    },
    {
     "name": "stderr",
     "output_type": "stream",
     "text": [
      "\n",
      "  0%|          | 0/2 [00:00<?, ?it/s]\u001b[A"
     ]
    },
    {
     "name": "stdout",
     "output_type": "stream",
     "text": [
      "C9-0000526-LIC\n"
     ]
    },
    {
     "name": "stderr",
     "output_type": "stream",
     "text": [
      "\n",
      " 50%|█████     | 1/2 [00:04<00:04,  4.99s/it]\u001b[A"
     ]
    },
    {
     "name": "stdout",
     "output_type": "stream",
     "text": [
      "C10-0000241-LIC\n"
     ]
    },
    {
     "name": "stderr",
     "output_type": "stream",
     "text": [
      "\n",
      "100%|██████████| 2/2 [00:11<00:00,  5.55s/it]\u001b[A\n",
      " 73%|███████▎  | 58/79 [07:39<02:28,  7.07s/it]"
     ]
    },
    {
     "name": "stdout",
     "output_type": "stream",
     "text": [
      "PRL\n"
     ]
    },
    {
     "name": "stderr",
     "output_type": "stream",
     "text": [
      "\n",
      "  0%|          | 0/8 [00:00<?, ?it/s]\u001b[A"
     ]
    },
    {
     "name": "stdout",
     "output_type": "stream",
     "text": [
      "PC-000381\n"
     ]
    },
    {
     "name": "stderr",
     "output_type": "stream",
     "text": [
      "\n",
      " 12%|█▎        | 1/8 [00:04<00:31,  4.45s/it]\u001b[A"
     ]
    },
    {
     "name": "stdout",
     "output_type": "stream",
     "text": [
      "PC-000749\n"
     ]
    },
    {
     "name": "stderr",
     "output_type": "stream",
     "text": [
      "\n",
      " 25%|██▌       | 2/8 [00:08<00:25,  4.20s/it]\u001b[A"
     ]
    },
    {
     "name": "stdout",
     "output_type": "stream",
     "text": [
      "PC-000803\n"
     ]
    },
    {
     "name": "stderr",
     "output_type": "stream",
     "text": [
      "\n",
      " 38%|███▊      | 3/8 [00:11<00:18,  3.72s/it]\u001b[A"
     ]
    },
    {
     "name": "stdout",
     "output_type": "stream",
     "text": [
      "AU-R-000229\n"
     ]
    },
    {
     "name": "stderr",
     "output_type": "stream",
     "text": [
      "\n",
      " 50%|█████     | 4/8 [00:17<00:17,  4.39s/it]\u001b[A"
     ]
    },
    {
     "name": "stdout",
     "output_type": "stream",
     "text": [
      "AU-R-000607\n"
     ]
    },
    {
     "name": "stderr",
     "output_type": "stream",
     "text": [
      "\n",
      " 62%|██████▎   | 5/8 [00:20<00:12,  4.15s/it]\u001b[A"
     ]
    },
    {
     "name": "stdout",
     "output_type": "stream",
     "text": [
      "AU-R-000739\n"
     ]
    },
    {
     "name": "stderr",
     "output_type": "stream",
     "text": [
      "\n",
      " 75%|███████▌  | 6/8 [00:24<00:08,  4.17s/it]\u001b[A"
     ]
    },
    {
     "name": "stdout",
     "output_type": "stream",
     "text": [
      "PC-000814\n"
     ]
    },
    {
     "name": "stderr",
     "output_type": "stream",
     "text": [
      "\n",
      " 88%|████████▊ | 7/8 [00:27<00:03,  3.74s/it]\u001b[A"
     ]
    },
    {
     "name": "stdout",
     "output_type": "stream",
     "text": [
      "C10-0000759-LIC\n"
     ]
    },
    {
     "name": "stderr",
     "output_type": "stream",
     "text": [
      "\n",
      "100%|██████████| 8/8 [00:32<00:00,  4.05s/it]\u001b[A\n",
      " 75%|███████▍  | 59/79 [08:11<04:53, 14.67s/it]"
     ]
    },
    {
     "name": "stdout",
     "output_type": "stream",
     "text": [
      "PRL\n"
     ]
    },
    {
     "name": "stderr",
     "output_type": "stream",
     "text": [
      "\n",
      "  0%|          | 0/8 [00:00<?, ?it/s]\u001b[A"
     ]
    },
    {
     "name": "stdout",
     "output_type": "stream",
     "text": [
      "PC-000381\n"
     ]
    },
    {
     "name": "stderr",
     "output_type": "stream",
     "text": [
      "\n",
      " 12%|█▎        | 1/8 [00:04<00:32,  4.68s/it]\u001b[A"
     ]
    },
    {
     "name": "stdout",
     "output_type": "stream",
     "text": [
      "PC-000749\n"
     ]
    },
    {
     "name": "stderr",
     "output_type": "stream",
     "text": [
      "\n",
      " 25%|██▌       | 2/8 [00:08<00:24,  4.12s/it]\u001b[A"
     ]
    },
    {
     "name": "stdout",
     "output_type": "stream",
     "text": [
      "PC-000803\n"
     ]
    },
    {
     "name": "stderr",
     "output_type": "stream",
     "text": [
      "\n",
      " 38%|███▊      | 3/8 [00:11<00:18,  3.66s/it]\u001b[A"
     ]
    },
    {
     "name": "stdout",
     "output_type": "stream",
     "text": [
      "AU-R-000229\n"
     ]
    },
    {
     "name": "stderr",
     "output_type": "stream",
     "text": [
      "\n",
      " 50%|█████     | 4/8 [00:16<00:17,  4.38s/it]\u001b[A"
     ]
    },
    {
     "name": "stdout",
     "output_type": "stream",
     "text": [
      "AU-R-000607\n"
     ]
    },
    {
     "name": "stderr",
     "output_type": "stream",
     "text": [
      "\n",
      " 62%|██████▎   | 5/8 [00:21<00:13,  4.53s/it]\u001b[A"
     ]
    },
    {
     "name": "stdout",
     "output_type": "stream",
     "text": [
      "AU-R-000739\n"
     ]
    },
    {
     "name": "stderr",
     "output_type": "stream",
     "text": [
      "\n",
      " 75%|███████▌  | 6/8 [00:26<00:08,  4.47s/it]\u001b[A"
     ]
    },
    {
     "name": "stdout",
     "output_type": "stream",
     "text": [
      "PC-000814\n"
     ]
    },
    {
     "name": "stderr",
     "output_type": "stream",
     "text": [
      "\n",
      " 88%|████████▊ | 7/8 [00:29<00:04,  4.02s/it]\u001b[A"
     ]
    },
    {
     "name": "stdout",
     "output_type": "stream",
     "text": [
      "C10-0000759-LIC\n"
     ]
    },
    {
     "name": "stderr",
     "output_type": "stream",
     "text": [
      "\n",
      "100%|██████████| 8/8 [00:32<00:00,  4.12s/it]\u001b[A\n",
      " 76%|███████▌  | 60/79 [08:44<06:23, 20.17s/it]"
     ]
    },
    {
     "name": "stdout",
     "output_type": "stream",
     "text": [
      "PRP\n"
     ]
    },
    {
     "name": "stderr",
     "output_type": "stream",
     "text": [
      "\n",
      "  0%|          | 0/3 [00:00<?, ?it/s]\u001b[A"
     ]
    },
    {
     "name": "stdout",
     "output_type": "stream",
     "text": [
      "C10-0000155-LIC\n"
     ]
    },
    {
     "name": "stderr",
     "output_type": "stream",
     "text": [
      "\n",
      " 33%|███▎      | 1/3 [00:04<00:08,  4.20s/it]\u001b[A"
     ]
    },
    {
     "name": "stdout",
     "output_type": "stream",
     "text": [
      "C10-0000286-LIC\n"
     ]
    },
    {
     "name": "stderr",
     "output_type": "stream",
     "text": [
      "\n",
      " 67%|██████▋   | 2/3 [00:07<00:03,  3.93s/it]\u001b[A"
     ]
    },
    {
     "name": "stdout",
     "output_type": "stream",
     "text": [
      "C10-0000403-LIC\n"
     ]
    },
    {
     "name": "stderr",
     "output_type": "stream",
     "text": [
      "\n",
      "100%|██████████| 3/3 [00:12<00:00,  4.01s/it]\u001b[A\n",
      " 77%|███████▋  | 61/79 [08:56<05:19, 17.73s/it]"
     ]
    },
    {
     "name": "stdout",
     "output_type": "stream",
     "text": [
      "PU\n"
     ]
    },
    {
     "name": "stderr",
     "output_type": "stream",
     "text": [
      "\n",
      "  0%|          | 0/13 [00:00<?, ?it/s]\u001b[A"
     ]
    },
    {
     "name": "stdout",
     "output_type": "stream",
     "text": [
      "C10-0000025-LIC\n"
     ]
    },
    {
     "name": "stderr",
     "output_type": "stream",
     "text": [
      "\n",
      "  8%|▊         | 1/13 [00:03<00:47,  3.94s/it]\u001b[A"
     ]
    },
    {
     "name": "stdout",
     "output_type": "stream",
     "text": [
      "C10-0000088-LIC\n"
     ]
    },
    {
     "name": "stderr",
     "output_type": "stream",
     "text": [
      "\n",
      " 15%|█▌        | 2/13 [00:07<00:43,  3.94s/it]\u001b[A"
     ]
    },
    {
     "name": "stdout",
     "output_type": "stream",
     "text": [
      "C10-0000199-LIC\n"
     ]
    },
    {
     "name": "stderr",
     "output_type": "stream",
     "text": [
      "\n",
      " 23%|██▎       | 3/13 [00:11<00:39,  3.95s/it]\u001b[A"
     ]
    },
    {
     "name": "stdout",
     "output_type": "stream",
     "text": [
      "C10-0000204-LIC\n"
     ]
    },
    {
     "name": "stderr",
     "output_type": "stream",
     "text": [
      "\n",
      " 31%|███       | 4/13 [00:15<00:34,  3.85s/it]\u001b[A"
     ]
    },
    {
     "name": "stdout",
     "output_type": "stream",
     "text": [
      "C10-0000254-LIC\n"
     ]
    },
    {
     "name": "stderr",
     "output_type": "stream",
     "text": [
      "\n",
      " 38%|███▊      | 5/13 [00:19<00:30,  3.79s/it]\u001b[A"
     ]
    },
    {
     "name": "stdout",
     "output_type": "stream",
     "text": [
      "C10-0000324-LIC\n"
     ]
    },
    {
     "name": "stderr",
     "output_type": "stream",
     "text": [
      "\n",
      " 46%|████▌     | 6/13 [00:22<00:25,  3.66s/it]\u001b[A"
     ]
    },
    {
     "name": "stdout",
     "output_type": "stream",
     "text": [
      "C10-0000411-LIC\n"
     ]
    },
    {
     "name": "stderr",
     "output_type": "stream",
     "text": [
      "\n",
      " 54%|█████▍    | 7/13 [00:26<00:22,  3.74s/it]\u001b[A"
     ]
    },
    {
     "name": "stdout",
     "output_type": "stream",
     "text": [
      "C10-0000425-LIC\n"
     ]
    },
    {
     "name": "stderr",
     "output_type": "stream",
     "text": [
      "\n",
      " 62%|██████▏   | 8/13 [00:30<00:18,  3.73s/it]\u001b[A"
     ]
    },
    {
     "name": "stdout",
     "output_type": "stream",
     "text": [
      "C10-0000707-LIC\n"
     ]
    },
    {
     "name": "stderr",
     "output_type": "stream",
     "text": [
      "\n",
      " 69%|██████▉   | 9/13 [00:33<00:14,  3.73s/it]\u001b[A"
     ]
    },
    {
     "name": "stdout",
     "output_type": "stream",
     "text": [
      "C10-0000748-LIC\n"
     ]
    },
    {
     "name": "stderr",
     "output_type": "stream",
     "text": [
      "\n",
      " 77%|███████▋  | 10/13 [00:37<00:11,  3.72s/it]\u001b[A"
     ]
    },
    {
     "name": "stdout",
     "output_type": "stream",
     "text": [
      "C10-0000749-LIC\n"
     ]
    },
    {
     "name": "stderr",
     "output_type": "stream",
     "text": [
      "\n",
      " 85%|████████▍ | 11/13 [00:41<00:07,  3.80s/it]\u001b[A"
     ]
    },
    {
     "name": "stdout",
     "output_type": "stream",
     "text": [
      "C10-0000869-LIC\n"
     ]
    },
    {
     "name": "stderr",
     "output_type": "stream",
     "text": [
      "\n",
      " 92%|█████████▏| 12/13 [00:45<00:03,  3.75s/it]\u001b[A"
     ]
    },
    {
     "name": "stdout",
     "output_type": "stream",
     "text": [
      "C10-0000899-LIC\n"
     ]
    },
    {
     "name": "stderr",
     "output_type": "stream",
     "text": [
      "\n",
      "100%|██████████| 13/13 [00:49<00:00,  3.79s/it]\u001b[A\n",
      " 78%|███████▊  | 62/79 [09:45<07:42, 27.20s/it]"
     ]
    },
    {
     "name": "stdout",
     "output_type": "stream",
     "text": [
      "PWD\n"
     ]
    },
    {
     "name": "stderr",
     "output_type": "stream",
     "text": [
      "\n",
      "  0%|          | 0/1 [00:00<?, ?it/s]\u001b[A"
     ]
    },
    {
     "name": "stdout",
     "output_type": "stream",
     "text": [
      "C10-0000874-LIC\n"
     ]
    },
    {
     "name": "stderr",
     "output_type": "stream",
     "text": [
      "\n",
      "100%|██████████| 1/1 [00:05<00:00,  5.28s/it]\u001b[A\n",
      " 80%|███████▉  | 63/79 [09:51<05:30, 20.63s/it]"
     ]
    },
    {
     "name": "stdout",
     "output_type": "stream",
     "text": [
      "RA\n"
     ]
    },
    {
     "name": "stderr",
     "output_type": "stream",
     "text": [
      "\n",
      "  0%|          | 0/1 [00:00<?, ?it/s]\u001b[A"
     ]
    },
    {
     "name": "stdout",
     "output_type": "stream",
     "text": [
      "C10-0000596-LIC\n"
     ]
    },
    {
     "name": "stderr",
     "output_type": "stream",
     "text": [
      "\n",
      "100%|██████████| 1/1 [00:03<00:00,  3.69s/it]\u001b[A\n",
      " 81%|████████  | 64/79 [09:54<03:53, 15.55s/it]"
     ]
    },
    {
     "name": "stdout",
     "output_type": "stream",
     "text": [
      "RDR\n"
     ]
    },
    {
     "name": "stderr",
     "output_type": "stream",
     "text": [
      "\n",
      "  0%|          | 0/1 [00:00<?, ?it/s]\u001b[A"
     ]
    },
    {
     "name": "stdout",
     "output_type": "stream",
     "text": [
      "C10-0000280-LIC\n"
     ]
    },
    {
     "name": "stderr",
     "output_type": "stream",
     "text": [
      "\n",
      "100%|██████████| 1/1 [00:05<00:00,  5.41s/it]\u001b[A\n",
      " 82%|████████▏ | 65/79 [10:00<02:55, 12.51s/it]"
     ]
    },
    {
     "name": "stdout",
     "output_type": "stream",
     "text": [
      "RGD\n"
     ]
    },
    {
     "name": "stderr",
     "output_type": "stream",
     "text": [
      "\n",
      "  0%|          | 0/1 [00:00<?, ?it/s]\u001b[A"
     ]
    },
    {
     "name": "stdout",
     "output_type": "stream",
     "text": [
      "C9-0000057-LIC\n"
     ]
    },
    {
     "name": "stderr",
     "output_type": "stream",
     "text": [
      "\n",
      "100%|██████████| 1/1 [00:05<00:00,  5.07s/it]\u001b[A\n",
      " 84%|████████▎ | 66/79 [10:05<02:13, 10.28s/it]"
     ]
    },
    {
     "name": "stdout",
     "output_type": "stream",
     "text": [
      "SFV\n"
     ]
    },
    {
     "name": "stderr",
     "output_type": "stream",
     "text": [
      "\n",
      "  0%|          | 0/1 [00:00<?, ?it/s]\u001b[A"
     ]
    },
    {
     "name": "stdout",
     "output_type": "stream",
     "text": [
      "C10-0000041-LIC\n"
     ]
    },
    {
     "name": "stderr",
     "output_type": "stream",
     "text": [
      "\n",
      "100%|██████████| 1/1 [00:05<00:00,  5.35s/it]\u001b[A\n",
      " 85%|████████▍ | 67/79 [10:10<01:45,  8.80s/it]"
     ]
    },
    {
     "name": "stdout",
     "output_type": "stream",
     "text": [
      "SGF\n"
     ]
    },
    {
     "name": "stderr",
     "output_type": "stream",
     "text": [
      "\n",
      "  0%|          | 0/1 [00:00<?, ?it/s]\u001b[A"
     ]
    },
    {
     "name": "stdout",
     "output_type": "stream",
     "text": [
      "C9-0000454-LIC\n"
     ]
    },
    {
     "name": "stderr",
     "output_type": "stream",
     "text": [
      "\n",
      "100%|██████████| 1/1 [00:04<00:00,  4.41s/it]\u001b[A\n",
      " 86%|████████▌ | 68/79 [10:15<01:22,  7.48s/it]"
     ]
    },
    {
     "name": "stdout",
     "output_type": "stream",
     "text": [
      "SLCC\n"
     ]
    },
    {
     "name": "stderr",
     "output_type": "stream",
     "text": [
      "\n",
      "  0%|          | 0/1 [00:00<?, ?it/s]\u001b[A"
     ]
    },
    {
     "name": "stdout",
     "output_type": "stream",
     "text": [
      "C10-0000474-LIC\n"
     ]
    },
    {
     "name": "stderr",
     "output_type": "stream",
     "text": [
      "\n",
      "100%|██████████| 1/1 [00:05<00:00,  5.06s/it]\u001b[A\n",
      " 87%|████████▋ | 69/79 [10:20<01:07,  6.76s/it]"
     ]
    },
    {
     "name": "stdout",
     "output_type": "stream",
     "text": [
      "SO\n"
     ]
    },
    {
     "name": "stderr",
     "output_type": "stream",
     "text": [
      "\n",
      "  0%|          | 0/3 [00:00<?, ?it/s]\u001b[A"
     ]
    },
    {
     "name": "stdout",
     "output_type": "stream",
     "text": [
      "C9-0000130-LIC\n"
     ]
    },
    {
     "name": "stderr",
     "output_type": "stream",
     "text": [
      "\n",
      " 33%|███▎      | 1/3 [00:03<00:07,  3.74s/it]\u001b[A"
     ]
    },
    {
     "name": "stdout",
     "output_type": "stream",
     "text": [
      "C10-0000271-LIC\n"
     ]
    },
    {
     "name": "stderr",
     "output_type": "stream",
     "text": [
      "\n",
      " 67%|██████▋   | 2/3 [00:07<00:03,  3.72s/it]\u001b[A"
     ]
    },
    {
     "name": "stdout",
     "output_type": "stream",
     "text": [
      "C12-0000328-LIC\n"
     ]
    },
    {
     "name": "stderr",
     "output_type": "stream",
     "text": [
      "\n",
      "100%|██████████| 3/3 [00:12<00:00,  4.23s/it]\u001b[A\n",
      " 89%|████████▊ | 70/79 [10:32<01:16,  8.53s/it]"
     ]
    },
    {
     "name": "stdout",
     "output_type": "stream",
     "text": [
      "ST\n"
     ]
    },
    {
     "name": "stderr",
     "output_type": "stream",
     "text": [
      "\n",
      "  0%|          | 0/1 [00:00<?, ?it/s]\u001b[A"
     ]
    },
    {
     "name": "stdout",
     "output_type": "stream",
     "text": [
      "C9-0000323-LIC\n"
     ]
    },
    {
     "name": "stderr",
     "output_type": "stream",
     "text": [
      "\n",
      "100%|██████████| 1/1 [00:05<00:00,  5.01s/it]\u001b[A\n",
      " 90%|████████▉ | 71/79 [10:37<00:59,  7.48s/it]"
     ]
    },
    {
     "name": "stdout",
     "output_type": "stream",
     "text": [
      "SV\n"
     ]
    },
    {
     "name": "stderr",
     "output_type": "stream",
     "text": [
      "\n",
      "  0%|          | 0/1 [00:00<?, ?it/s]\u001b[A"
     ]
    },
    {
     "name": "stdout",
     "output_type": "stream",
     "text": [
      "C9-0000146-LIC\n"
     ]
    },
    {
     "name": "stderr",
     "output_type": "stream",
     "text": [
      "\n",
      "100%|██████████| 1/1 [00:04<00:00,  4.35s/it]\u001b[A\n",
      " 91%|█████████ | 72/79 [10:42<00:45,  6.54s/it]"
     ]
    },
    {
     "name": "stdout",
     "output_type": "stream",
     "text": [
      "T4L\n"
     ]
    },
    {
     "name": "stderr",
     "output_type": "stream",
     "text": [
      "\n",
      "  0%|          | 0/1 [00:00<?, ?it/s]\u001b[A"
     ]
    },
    {
     "name": "stdout",
     "output_type": "stream",
     "text": [
      "C12-0000302-LIC\n"
     ]
    },
    {
     "name": "stderr",
     "output_type": "stream",
     "text": [
      "\n",
      "100%|██████████| 1/1 [00:04<00:00,  4.43s/it]\u001b[A\n",
      " 92%|█████████▏| 73/79 [10:46<00:35,  5.91s/it]"
     ]
    },
    {
     "name": "stdout",
     "output_type": "stream",
     "text": [
      "TGL\n"
     ]
    },
    {
     "name": "stderr",
     "output_type": "stream",
     "text": [
      "\n",
      "  0%|          | 0/1 [00:00<?, ?it/s]\u001b[A"
     ]
    },
    {
     "name": "stdout",
     "output_type": "stream",
     "text": [
      "C9-0000412-LIC\n"
     ]
    },
    {
     "name": "stderr",
     "output_type": "stream",
     "text": [
      "\n",
      "100%|██████████| 1/1 [00:04<00:00,  4.52s/it]\u001b[A\n",
      " 94%|█████████▎| 74/79 [10:51<00:27,  5.49s/it]"
     ]
    },
    {
     "name": "stdout",
     "output_type": "stream",
     "text": [
      "TJR\n"
     ]
    },
    {
     "name": "stderr",
     "output_type": "stream",
     "text": [
      "\n",
      "  0%|          | 0/1 [00:00<?, ?it/s]\u001b[A"
     ]
    },
    {
     "name": "stdout",
     "output_type": "stream",
     "text": [
      "C9-0000105-LIC\n"
     ]
    },
    {
     "name": "stderr",
     "output_type": "stream",
     "text": [
      "\n",
      "100%|██████████| 1/1 [00:11<00:00, 11.61s/it]\u001b[A\n",
      " 95%|█████████▍| 75/79 [11:02<00:29,  7.33s/it]"
     ]
    },
    {
     "name": "stdout",
     "output_type": "stream",
     "text": [
      "TT\n"
     ]
    },
    {
     "name": "stderr",
     "output_type": "stream",
     "text": [
      "\n",
      "  0%|          | 0/2 [00:00<?, ?it/s]\u001b[A"
     ]
    },
    {
     "name": "stdout",
     "output_type": "stream",
     "text": [
      "C9-0000451-LIC\n"
     ]
    },
    {
     "name": "stderr",
     "output_type": "stream",
     "text": [
      "\n",
      " 50%|█████     | 1/2 [00:03<00:03,  3.85s/it]\u001b[A"
     ]
    },
    {
     "name": "stdout",
     "output_type": "stream",
     "text": [
      "C9-0000551-LIC\n"
     ]
    },
    {
     "name": "stderr",
     "output_type": "stream",
     "text": [
      "\n",
      "100%|██████████| 2/2 [00:08<00:00,  4.22s/it]\u001b[A\n",
      " 96%|█████████▌| 76/79 [11:11<00:22,  7.66s/it]"
     ]
    },
    {
     "name": "stdout",
     "output_type": "stream",
     "text": [
      "UHHC\n"
     ]
    },
    {
     "name": "stderr",
     "output_type": "stream",
     "text": [
      "\n",
      "  0%|          | 0/2 [00:00<?, ?it/s]\u001b[A"
     ]
    },
    {
     "name": "stdout",
     "output_type": "stream",
     "text": [
      "C10-0000817-LIC\n"
     ]
    },
    {
     "name": "stderr",
     "output_type": "stream",
     "text": [
      "\n",
      " 50%|█████     | 1/2 [00:05<00:05,  5.06s/it]\u001b[A"
     ]
    },
    {
     "name": "stdout",
     "output_type": "stream",
     "text": [
      "C9-0000082-LIC\n"
     ]
    },
    {
     "name": "stderr",
     "output_type": "stream",
     "text": [
      "\n",
      "100%|██████████| 2/2 [00:10<00:00,  5.27s/it]\u001b[A\n",
      " 97%|█████████▋| 77/79 [11:21<00:17,  8.52s/it]"
     ]
    },
    {
     "name": "stdout",
     "output_type": "stream",
     "text": [
      "VOY\n"
     ]
    },
    {
     "name": "stderr",
     "output_type": "stream",
     "text": [
      "\n",
      "  0%|          | 0/3 [00:00<?, ?it/s]\u001b[A"
     ]
    },
    {
     "name": "stdout",
     "output_type": "stream",
     "text": [
      "C12-0000030-LIC\n"
     ]
    },
    {
     "name": "stderr",
     "output_type": "stream",
     "text": [
      "\n",
      " 33%|███▎      | 1/3 [00:03<00:07,  3.83s/it]\u001b[A"
     ]
    },
    {
     "name": "stdout",
     "output_type": "stream",
     "text": [
      "C10-0000802-LIC\n"
     ]
    },
    {
     "name": "stderr",
     "output_type": "stream",
     "text": [
      "\n",
      " 67%|██████▋   | 2/3 [00:08<00:04,  4.45s/it]\u001b[A"
     ]
    },
    {
     "name": "stdout",
     "output_type": "stream",
     "text": [
      "C12-0000159-LIC\n"
     ]
    },
    {
     "name": "stderr",
     "output_type": "stream",
     "text": [
      "\n",
      "100%|██████████| 3/3 [00:12<00:00,  4.15s/it]\u001b[A\n",
      " 99%|█████████▊| 78/79 [11:34<00:09,  9.70s/it]"
     ]
    },
    {
     "name": "stdout",
     "output_type": "stream",
     "text": [
      "WCCC\n"
     ]
    },
    {
     "name": "stderr",
     "output_type": "stream",
     "text": [
      "\n",
      "  0%|          | 0/3 [00:00<?, ?it/s]\u001b[A"
     ]
    },
    {
     "name": "stdout",
     "output_type": "stream",
     "text": [
      "C10-0000045-LIC\n"
     ]
    },
    {
     "name": "stderr",
     "output_type": "stream",
     "text": [
      "\n",
      " 33%|███▎      | 1/3 [00:05<00:10,  5.12s/it]\u001b[A"
     ]
    },
    {
     "name": "stdout",
     "output_type": "stream",
     "text": [
      "C10-0000372-LIC\n"
     ]
    },
    {
     "name": "stderr",
     "output_type": "stream",
     "text": [
      "\n",
      " 67%|██████▋   | 2/3 [00:10<00:05,  5.34s/it]\u001b[A"
     ]
    },
    {
     "name": "stdout",
     "output_type": "stream",
     "text": [
      "C12-0000119-LIC\n"
     ]
    },
    {
     "name": "stderr",
     "output_type": "stream",
     "text": [
      "\n",
      "100%|██████████| 3/3 [00:16<00:00,  5.55s/it]\u001b[A\n",
      "100%|██████████| 79/79 [11:50<00:00,  9.00s/it]\n"
     ]
    }
   ],
   "source": [
    "#calculate VC with 2m window\n",
    "c_2 = get_vc_list(list(ca_df_clean['company_identifier']),TRANSFER_PACKAGES_START_DATE,\\\n",
    "                SALES_TRANSACTIONS_START_DATE,ca_df_clean)"
   ]
  },
  {
   "cell_type": "code",
   "execution_count": 66,
   "id": "5039d806",
   "metadata": {},
   "outputs": [
    {
     "name": "stdout",
     "output_type": "stream",
     "text": [
      "64HM\n",
      "C10-0000922-LIC\n",
      "(97, 34)\n",
      "99HT\n",
      "C10-0000279-LIC\n",
      "(150, 34)\n",
      "AGA\n",
      "C10-0000341-LIC\n",
      "(109, 34)\n",
      "BRC\n",
      "C10-0000603-LIC\n",
      "BUD\n",
      "C9-0000464-LIC\n",
      "C9-0000167-LIC\n",
      "C9-0000399-LIC\n",
      "C9-0000467-LIC\n",
      "C9-0000444-LIC\n",
      "BYN\n",
      "C10-0000528-LIC\n",
      "(91, 34)\n",
      "CAT\n",
      "C10-0000364-LIC\n",
      "(122, 34)\n",
      "C10-0000885-LIC\n",
      "(92, 34)\n",
      "C10-0001165-LIC\n",
      "(31, 34)\n",
      "C10-0001177-LIC\n",
      "C10-0000227-LIC\n",
      "(120, 34)\n",
      "C10-0000230-LIC\n",
      "(159, 34)\n",
      "C10-0000525-LIC\n",
      "(126, 34)\n",
      "C10-0000801-LIC\n",
      "(114, 34)\n",
      "C10-0000865-LIC\n",
      "(92, 34)\n",
      "C10-0000903-LIC\n",
      "(104, 34)\n",
      "C10-0000915-LIC\n",
      "(61, 34)\n",
      "C10-0000937-LIC\n",
      "(68, 34)\n",
      "C10-0001020-LIC\n",
      "(50, 34)\n",
      "C10-0001021-LIC\n",
      "(57, 34)\n",
      "C10-0001125-LIC\n",
      "CC\n",
      "C10-0000758-LIC\n",
      "(109, 34)\n",
      "CCC\n",
      "C12-0000087-LIC\n",
      "(107, 34)\n",
      "CE\n",
      "C12-0000334-LIC\n",
      "(45, 34)\n",
      "CED\n",
      "C9-0000094-LIC\n",
      "CG\n",
      "C9-0000157-LIC\n",
      "CLC\n",
      "C10-0000986-LIC\n",
      "(22, 34)\n",
      "C12-0000318-LIC\n",
      "CPA\n",
      "C9-0000348-LIC\n",
      "(52, 34)\n",
      "C10-0000461-LIC\n",
      "(108, 34)\n",
      "CPC\n",
      "C9-0000056-LIC\n",
      "CRRH\n",
      "C12-0000308-LIC\n",
      "C12-0000405-LIC\n",
      "(60, 34)\n",
      "CSC\n",
      "C10-0000670-LIC\n",
      "(137, 34)\n",
      "CSCC\n",
      "C10-0000918-LIC\n",
      "(65, 34)\n",
      "DGG\n",
      "C9-0000016-LIC\n",
      "(53, 34)\n",
      "EL\n",
      "C9-0000370-LIC\n",
      "(30, 34)\n",
      "EMA\n",
      "C10-0000774-LIC\n",
      "(162, 34)\n",
      "EMB\n",
      "C10-0001096-LIC\n",
      "(49, 34)\n",
      "EMF\n",
      "C10-0000939-LIC\n",
      "(56, 34)\n",
      "EMM\n",
      "C10-0000786-LIC\n",
      "(109, 34)\n",
      "EMS\n",
      "C10-0001168-LIC\n",
      "(30, 34)\n",
      "EMT\n",
      "C10-0000695-LIC\n",
      "(113, 34)\n",
      "EPC\n",
      "C10-0000034-LIC\n",
      "(117, 34)\n",
      "FD\n",
      "C10-0000916-LIC\n",
      "(85, 34)\n",
      "FI\n",
      "C10-0001025-LIC\n",
      "(44, 34)\n",
      "C10-0000606-LIC\n",
      "(165, 34)\n",
      "C10-0000753-LIC\n",
      "(45, 34)\n",
      "C12-0000400-LIC\n",
      "GB2\n",
      "C12-0000430-LIC\n",
      "GDN\n",
      "C9-0000402-LIC\n",
      "(96, 34)\n",
      "GDS\n",
      "C9-0000491-LIC\n",
      "(103, 34)\n",
      "GFEE\n",
      "C10-0000224-LIC\n",
      "(12, 34)\n",
      "GFWF\n",
      "C10-0000117-LIC\n",
      "(18, 34)\n",
      "GHC\n",
      "C10-0000414-LIC\n",
      "(158, 34)\n",
      "GL\n",
      "C9-0000510-LIC\n",
      "(49, 34)\n",
      "GRG\n",
      "C10-0000169-LIC\n",
      "C10-0000408-LIC\n",
      "GT\n",
      "C9-0000385-LIC\n",
      "(4, 34)\n",
      "C9-0000170-LIC\n",
      "GTC\n",
      "C10-0000849-LIC\n",
      "(182, 34)\n",
      "HB\n",
      "C10-0000301-LIC\n",
      "C10-0000339-LIC\n",
      "(127, 34)\n",
      "C10-0000624-LIC\n",
      "(11, 34)\n",
      "HC\n",
      "C9-0000341-LIC\n",
      "HGD\n",
      "C10-0000258-LIC\n",
      "(99, 34)\n",
      "C12-0000102-LIC\n",
      "HPCC\n",
      "C10-0000064-LIC\n",
      "(230, 34)\n",
      "C10-0000005-LIC\n",
      "(63, 34)\n",
      "HS\n",
      "C9-0000441-LIC\n",
      "(13, 34)\n",
      "ID\n",
      "C9-0000166-LIC\n",
      "(33, 34)\n",
      "IDC\n",
      "C9-0000320-LIC\n",
      "(62, 34)\n",
      "C10-0001175-LIC\n",
      "LBC\n",
      "C9-0000154-LIC\n",
      "(80, 34)\n",
      "MD\n",
      "C9-0000247-LIC\n",
      "(58, 34)\n",
      "ML\n",
      "C9-0000300-LIC\n",
      "(108, 34)\n",
      "MPW\n",
      "C10-0000547-LIC\n",
      "C10-0001166-LIC\n",
      "(116, 34)\n",
      "MR\n",
      "C12-0000398-LIC\n",
      "(56, 34)\n",
      "MSS\n",
      "C10-0000816-LIC\n",
      "(78, 34)\n",
      "MW\n",
      "C10-0000332-LIC\n",
      "(98, 34)\n",
      "NCDS\n",
      "C10-0000101-LIC\n",
      "(72, 34)\n",
      "C10-0000207-LIC\n",
      "(80, 34)\n",
      "ND\n",
      "C9-0000427-LIC\n",
      "PCC\n",
      "C12-0000249-LIC\n",
      "(85, 34)\n",
      "PEH\n",
      "C10-0000827-LIC\n",
      "PL\n",
      "C9-0000526-LIC\n",
      "(9, 34)\n",
      "C10-0000241-LIC\n",
      "(191, 34)\n",
      "PRL\n",
      "PC-000381\n",
      "(47, 34)\n",
      "PC-000749\n",
      "PC-000803\n",
      "AU-R-000229\n",
      "(99, 34)\n",
      "AU-R-000607\n",
      "AU-R-000739\n",
      "(8, 34)\n",
      "PC-000814\n",
      "C10-0000759-LIC\n",
      "PRP\n",
      "C10-0000155-LIC\n",
      "C10-0000286-LIC\n",
      "C10-0000403-LIC\n",
      "PU\n",
      "C10-0000025-LIC\n",
      "C10-0000088-LIC\n",
      "C10-0000199-LIC\n",
      "C10-0000204-LIC\n",
      "C10-0000254-LIC\n",
      "C10-0000324-LIC\n",
      "C10-0000411-LIC\n",
      "C10-0000425-LIC\n",
      "C10-0000707-LIC\n",
      "C10-0000748-LIC\n",
      "C10-0000749-LIC\n",
      "C10-0000869-LIC\n",
      "C10-0000899-LIC\n",
      "PWD\n",
      "C10-0000874-LIC\n",
      "(102, 34)\n",
      "RA\n",
      "C10-0000596-LIC\n",
      "RDR\n",
      "C10-0000280-LIC\n",
      "(88, 34)\n",
      "RGD\n",
      "C9-0000057-LIC\n",
      "(108, 34)\n",
      "SFV\n",
      "C10-0000041-LIC\n",
      "(134, 34)\n",
      "SGF\n",
      "C9-0000454-LIC\n",
      "(22, 34)\n",
      "SLCC\n",
      "C10-0000474-LIC\n",
      "(62, 34)\n",
      "SO\n",
      "C9-0000130-LIC\n",
      "C10-0000271-LIC\n",
      "C12-0000328-LIC\n",
      "ST\n",
      "C9-0000323-LIC\n",
      "(59, 34)\n",
      "SV\n",
      "C9-0000146-LIC\n",
      "T4L\n",
      "C12-0000302-LIC\n",
      "(31, 34)\n",
      "TGL\n",
      "C9-0000412-LIC\n",
      "(58, 34)\n",
      "TJR\n",
      "C9-0000105-LIC\n",
      "(65, 34)\n",
      "TT\n",
      "C9-0000451-LIC\n",
      "C9-0000551-LIC\n",
      "(33, 34)\n",
      "UHHC\n",
      "C10-0000817-LIC\n",
      "(27, 34)\n",
      "C9-0000082-LIC\n",
      "(184, 34)\n",
      "VOY\n",
      "C12-0000030-LIC\n",
      "C10-0000802-LIC\n",
      "(30, 34)\n",
      "C12-0000159-LIC\n",
      "WCCC\n",
      "C10-0000045-LIC\n",
      "(12, 34)\n",
      "C10-0000372-LIC\n",
      "(21, 34)\n",
      "C12-0000119-LIC\n",
      "(126, 34)\n"
     ]
    }
   ],
   "source": [
    "df_vc_2 = pd.DataFrame()\n",
    "for k in c_2.keys():\n",
    "    print(k)\n",
    "    for l in c_2[k].keys():\n",
    "        print(l)\n",
    "        data_vc_2 = c_2[k][l]\n",
    "        if str(data_vc_2) == 'nan':\n",
    "            continue\n",
    "        else:\n",
    "            data_vc_2['company'] = k\n",
    "            data_vc_2['location'] = l\n",
    "            print(data_vc_2.shape)\n",
    "            df_vc_2 = df_vc_2.append(data_vc_2)"
   ]
  },
  {
   "cell_type": "code",
   "execution_count": 67,
   "id": "00d08e30",
   "metadata": {},
   "outputs": [
    {
     "data": {
      "text/html": [
       "<div>\n",
       "<style scoped>\n",
       "    .dataframe tbody tr th:only-of-type {\n",
       "        vertical-align: middle;\n",
       "    }\n",
       "\n",
       "    .dataframe tbody tr th {\n",
       "        vertical-align: top;\n",
       "    }\n",
       "\n",
       "    .dataframe thead th {\n",
       "        text-align: right;\n",
       "    }\n",
       "</style>\n",
       "<table border=\"1\" class=\"dataframe\">\n",
       "  <thead>\n",
       "    <tr style=\"text-align: right;\">\n",
       "      <th>year_month</th>\n",
       "      <th>shipper_parent_name</th>\n",
       "      <th>2021-01-01</th>\n",
       "      <th>2021-02-01</th>\n",
       "      <th>2021-03-01</th>\n",
       "      <th>2021-04-01</th>\n",
       "      <th>2021-05-01</th>\n",
       "      <th>2021-06-01</th>\n",
       "      <th>2021-07-01</th>\n",
       "      <th>2021-08-01</th>\n",
       "      <th>2021-09-01</th>\n",
       "      <th>2021-10-01</th>\n",
       "      <th>2021-11-01</th>\n",
       "      <th>2021-12-01</th>\n",
       "      <th>2022-01-01</th>\n",
       "      <th>2022-02-01</th>\n",
       "      <th>2022-03-01</th>\n",
       "      <th>2022-04-01</th>\n",
       "      <th>2022-05-01</th>\n",
       "      <th>2022-06-01</th>\n",
       "      <th>2022-07-01</th>\n",
       "      <th>2022-08-01</th>\n",
       "      <th>2022-09-01</th>\n",
       "      <th>2022-10-01</th>\n",
       "      <th>2022-11-01</th>\n",
       "      <th>2022-12-01</th>\n",
       "      <th>facility_total</th>\n",
       "      <th>grand_total</th>\n",
       "      <th>perc_total</th>\n",
       "      <th>last_4m_total</th>\n",
       "      <th>last_4m_active</th>\n",
       "      <th>significant</th>\n",
       "      <th>measure</th>\n",
       "      <th>company</th>\n",
       "      <th>location</th>\n",
       "    </tr>\n",
       "  </thead>\n",
       "  <tbody>\n",
       "    <tr>\n",
       "      <th>0</th>\n",
       "      <td>420-3</td>\n",
       "      <td>0.0</td>\n",
       "      <td>0.0</td>\n",
       "      <td>0.0</td>\n",
       "      <td>0.0</td>\n",
       "      <td>0.0</td>\n",
       "      <td>0.0</td>\n",
       "      <td>0.0</td>\n",
       "      <td>0.0</td>\n",
       "      <td>0.0</td>\n",
       "      <td>0.0</td>\n",
       "      <td>0.0</td>\n",
       "      <td>0.0</td>\n",
       "      <td>0.0</td>\n",
       "      <td>0.0</td>\n",
       "      <td>0.0</td>\n",
       "      <td>0.0</td>\n",
       "      <td>0.0</td>\n",
       "      <td>0.0</td>\n",
       "      <td>0.00</td>\n",
       "      <td>10198.47</td>\n",
       "      <td>0.00</td>\n",
       "      <td>0.00</td>\n",
       "      <td>0.00</td>\n",
       "      <td>0.00</td>\n",
       "      <td>10198.47</td>\n",
       "      <td>4414083.21</td>\n",
       "      <td>0.002310</td>\n",
       "      <td>0.00</td>\n",
       "      <td>False</td>\n",
       "      <td>True</td>\n",
       "      <td>Inactive</td>\n",
       "      <td>EMB</td>\n",
       "      <td>C10-0001096-LIC</td>\n",
       "    </tr>\n",
       "    <tr>\n",
       "      <th>1</th>\n",
       "      <td>965 Solutions</td>\n",
       "      <td>0.0</td>\n",
       "      <td>0.0</td>\n",
       "      <td>0.0</td>\n",
       "      <td>0.0</td>\n",
       "      <td>0.0</td>\n",
       "      <td>0.0</td>\n",
       "      <td>0.0</td>\n",
       "      <td>0.0</td>\n",
       "      <td>0.0</td>\n",
       "      <td>0.0</td>\n",
       "      <td>0.0</td>\n",
       "      <td>0.0</td>\n",
       "      <td>0.0</td>\n",
       "      <td>0.0</td>\n",
       "      <td>0.0</td>\n",
       "      <td>0.0</td>\n",
       "      <td>0.0</td>\n",
       "      <td>0.0</td>\n",
       "      <td>5228.24</td>\n",
       "      <td>2498.53</td>\n",
       "      <td>6161.78</td>\n",
       "      <td>0.00</td>\n",
       "      <td>0.00</td>\n",
       "      <td>0.00</td>\n",
       "      <td>13888.55</td>\n",
       "      <td>4414083.21</td>\n",
       "      <td>0.003146</td>\n",
       "      <td>0.00</td>\n",
       "      <td>False</td>\n",
       "      <td>True</td>\n",
       "      <td>Inactive</td>\n",
       "      <td>EMB</td>\n",
       "      <td>C10-0001096-LIC</td>\n",
       "    </tr>\n",
       "    <tr>\n",
       "      <th>2</th>\n",
       "      <td>ASV EQ 1, LLC Dba 710 Labs</td>\n",
       "      <td>0.0</td>\n",
       "      <td>0.0</td>\n",
       "      <td>0.0</td>\n",
       "      <td>0.0</td>\n",
       "      <td>0.0</td>\n",
       "      <td>0.0</td>\n",
       "      <td>0.0</td>\n",
       "      <td>0.0</td>\n",
       "      <td>0.0</td>\n",
       "      <td>0.0</td>\n",
       "      <td>0.0</td>\n",
       "      <td>0.0</td>\n",
       "      <td>0.0</td>\n",
       "      <td>0.0</td>\n",
       "      <td>0.0</td>\n",
       "      <td>0.0</td>\n",
       "      <td>0.0</td>\n",
       "      <td>0.0</td>\n",
       "      <td>0.00</td>\n",
       "      <td>16384.81</td>\n",
       "      <td>21538.12</td>\n",
       "      <td>20455.64</td>\n",
       "      <td>0.00</td>\n",
       "      <td>25084.04</td>\n",
       "      <td>83462.61</td>\n",
       "      <td>4414083.21</td>\n",
       "      <td>0.018908</td>\n",
       "      <td>25084.04</td>\n",
       "      <td>True</td>\n",
       "      <td>True</td>\n",
       "      <td>Active</td>\n",
       "      <td>EMB</td>\n",
       "      <td>C10-0001096-LIC</td>\n",
       "    </tr>\n",
       "    <tr>\n",
       "      <th>3</th>\n",
       "      <td>Aureus DHS</td>\n",
       "      <td>0.0</td>\n",
       "      <td>0.0</td>\n",
       "      <td>0.0</td>\n",
       "      <td>0.0</td>\n",
       "      <td>0.0</td>\n",
       "      <td>0.0</td>\n",
       "      <td>0.0</td>\n",
       "      <td>0.0</td>\n",
       "      <td>0.0</td>\n",
       "      <td>0.0</td>\n",
       "      <td>0.0</td>\n",
       "      <td>0.0</td>\n",
       "      <td>0.0</td>\n",
       "      <td>0.0</td>\n",
       "      <td>0.0</td>\n",
       "      <td>0.0</td>\n",
       "      <td>0.0</td>\n",
       "      <td>0.0</td>\n",
       "      <td>0.00</td>\n",
       "      <td>0.00</td>\n",
       "      <td>0.00</td>\n",
       "      <td>0.00</td>\n",
       "      <td>0.00</td>\n",
       "      <td>0.00</td>\n",
       "      <td>0.00</td>\n",
       "      <td>4414083.21</td>\n",
       "      <td>0.000000</td>\n",
       "      <td>0.00</td>\n",
       "      <td>False</td>\n",
       "      <td>False</td>\n",
       "      <td>Exclude</td>\n",
       "      <td>EMB</td>\n",
       "      <td>C10-0001096-LIC</td>\n",
       "    </tr>\n",
       "    <tr>\n",
       "      <th>4</th>\n",
       "      <td>Bango Distribution</td>\n",
       "      <td>0.0</td>\n",
       "      <td>0.0</td>\n",
       "      <td>0.0</td>\n",
       "      <td>0.0</td>\n",
       "      <td>0.0</td>\n",
       "      <td>0.0</td>\n",
       "      <td>0.0</td>\n",
       "      <td>0.0</td>\n",
       "      <td>0.0</td>\n",
       "      <td>0.0</td>\n",
       "      <td>0.0</td>\n",
       "      <td>0.0</td>\n",
       "      <td>0.0</td>\n",
       "      <td>0.0</td>\n",
       "      <td>0.0</td>\n",
       "      <td>0.0</td>\n",
       "      <td>0.0</td>\n",
       "      <td>0.0</td>\n",
       "      <td>0.00</td>\n",
       "      <td>13192.75</td>\n",
       "      <td>6784.36</td>\n",
       "      <td>0.00</td>\n",
       "      <td>1750.02</td>\n",
       "      <td>1727.07</td>\n",
       "      <td>23454.20</td>\n",
       "      <td>4414083.21</td>\n",
       "      <td>0.005313</td>\n",
       "      <td>3477.09</td>\n",
       "      <td>True</td>\n",
       "      <td>True</td>\n",
       "      <td>Active</td>\n",
       "      <td>EMB</td>\n",
       "      <td>C10-0001096-LIC</td>\n",
       "    </tr>\n",
       "    <tr>\n",
       "      <th>5</th>\n",
       "      <td>Bloom Network</td>\n",
       "      <td>0.0</td>\n",
       "      <td>0.0</td>\n",
       "      <td>0.0</td>\n",
       "      <td>0.0</td>\n",
       "      <td>0.0</td>\n",
       "      <td>0.0</td>\n",
       "      <td>0.0</td>\n",
       "      <td>0.0</td>\n",
       "      <td>0.0</td>\n",
       "      <td>0.0</td>\n",
       "      <td>0.0</td>\n",
       "      <td>0.0</td>\n",
       "      <td>0.0</td>\n",
       "      <td>0.0</td>\n",
       "      <td>0.0</td>\n",
       "      <td>0.0</td>\n",
       "      <td>0.0</td>\n",
       "      <td>0.0</td>\n",
       "      <td>0.00</td>\n",
       "      <td>0.00</td>\n",
       "      <td>0.00</td>\n",
       "      <td>0.00</td>\n",
       "      <td>0.00</td>\n",
       "      <td>0.00</td>\n",
       "      <td>0.00</td>\n",
       "      <td>4414083.21</td>\n",
       "      <td>0.000000</td>\n",
       "      <td>0.00</td>\n",
       "      <td>False</td>\n",
       "      <td>False</td>\n",
       "      <td>Exclude</td>\n",
       "      <td>EMB</td>\n",
       "      <td>C10-0001096-LIC</td>\n",
       "    </tr>\n",
       "    <tr>\n",
       "      <th>6</th>\n",
       "      <td>Cabo Connection</td>\n",
       "      <td>0.0</td>\n",
       "      <td>0.0</td>\n",
       "      <td>0.0</td>\n",
       "      <td>0.0</td>\n",
       "      <td>0.0</td>\n",
       "      <td>0.0</td>\n",
       "      <td>0.0</td>\n",
       "      <td>0.0</td>\n",
       "      <td>0.0</td>\n",
       "      <td>0.0</td>\n",
       "      <td>0.0</td>\n",
       "      <td>0.0</td>\n",
       "      <td>0.0</td>\n",
       "      <td>0.0</td>\n",
       "      <td>0.0</td>\n",
       "      <td>0.0</td>\n",
       "      <td>0.0</td>\n",
       "      <td>0.0</td>\n",
       "      <td>1296.48</td>\n",
       "      <td>2162.16</td>\n",
       "      <td>3133.68</td>\n",
       "      <td>0.00</td>\n",
       "      <td>0.00</td>\n",
       "      <td>0.00</td>\n",
       "      <td>6592.32</td>\n",
       "      <td>4414083.21</td>\n",
       "      <td>0.001493</td>\n",
       "      <td>0.00</td>\n",
       "      <td>False</td>\n",
       "      <td>True</td>\n",
       "      <td>Inactive</td>\n",
       "      <td>EMB</td>\n",
       "      <td>C10-0001096-LIC</td>\n",
       "    </tr>\n",
       "    <tr>\n",
       "      <th>7</th>\n",
       "      <td>California Organic Treatment Center, Inc</td>\n",
       "      <td>0.0</td>\n",
       "      <td>0.0</td>\n",
       "      <td>0.0</td>\n",
       "      <td>0.0</td>\n",
       "      <td>0.0</td>\n",
       "      <td>0.0</td>\n",
       "      <td>0.0</td>\n",
       "      <td>0.0</td>\n",
       "      <td>0.0</td>\n",
       "      <td>0.0</td>\n",
       "      <td>0.0</td>\n",
       "      <td>0.0</td>\n",
       "      <td>0.0</td>\n",
       "      <td>0.0</td>\n",
       "      <td>0.0</td>\n",
       "      <td>0.0</td>\n",
       "      <td>0.0</td>\n",
       "      <td>0.0</td>\n",
       "      <td>26574.92</td>\n",
       "      <td>39945.66</td>\n",
       "      <td>7339.30</td>\n",
       "      <td>8833.31</td>\n",
       "      <td>30973.70</td>\n",
       "      <td>0.00</td>\n",
       "      <td>113666.89</td>\n",
       "      <td>4414083.21</td>\n",
       "      <td>0.025751</td>\n",
       "      <td>30973.70</td>\n",
       "      <td>True</td>\n",
       "      <td>True</td>\n",
       "      <td>Active</td>\n",
       "      <td>EMB</td>\n",
       "      <td>C10-0001096-LIC</td>\n",
       "    </tr>\n",
       "    <tr>\n",
       "      <th>8</th>\n",
       "      <td>Claybourne Industries</td>\n",
       "      <td>0.0</td>\n",
       "      <td>0.0</td>\n",
       "      <td>0.0</td>\n",
       "      <td>0.0</td>\n",
       "      <td>0.0</td>\n",
       "      <td>0.0</td>\n",
       "      <td>0.0</td>\n",
       "      <td>0.0</td>\n",
       "      <td>0.0</td>\n",
       "      <td>0.0</td>\n",
       "      <td>0.0</td>\n",
       "      <td>0.0</td>\n",
       "      <td>0.0</td>\n",
       "      <td>0.0</td>\n",
       "      <td>0.0</td>\n",
       "      <td>0.0</td>\n",
       "      <td>0.0</td>\n",
       "      <td>0.0</td>\n",
       "      <td>4255.35</td>\n",
       "      <td>9811.72</td>\n",
       "      <td>0.00</td>\n",
       "      <td>16052.77</td>\n",
       "      <td>8142.85</td>\n",
       "      <td>13785.00</td>\n",
       "      <td>52047.69</td>\n",
       "      <td>4414083.21</td>\n",
       "      <td>0.011791</td>\n",
       "      <td>21927.85</td>\n",
       "      <td>True</td>\n",
       "      <td>True</td>\n",
       "      <td>Active</td>\n",
       "      <td>EMB</td>\n",
       "      <td>C10-0001096-LIC</td>\n",
       "    </tr>\n",
       "    <tr>\n",
       "      <th>9</th>\n",
       "      <td>Connected Cannabis Co</td>\n",
       "      <td>0.0</td>\n",
       "      <td>0.0</td>\n",
       "      <td>0.0</td>\n",
       "      <td>0.0</td>\n",
       "      <td>0.0</td>\n",
       "      <td>0.0</td>\n",
       "      <td>0.0</td>\n",
       "      <td>0.0</td>\n",
       "      <td>0.0</td>\n",
       "      <td>0.0</td>\n",
       "      <td>0.0</td>\n",
       "      <td>0.0</td>\n",
       "      <td>0.0</td>\n",
       "      <td>0.0</td>\n",
       "      <td>0.0</td>\n",
       "      <td>0.0</td>\n",
       "      <td>0.0</td>\n",
       "      <td>0.0</td>\n",
       "      <td>47582.36</td>\n",
       "      <td>108070.59</td>\n",
       "      <td>40585.25</td>\n",
       "      <td>59602.58</td>\n",
       "      <td>26099.08</td>\n",
       "      <td>47631.95</td>\n",
       "      <td>329571.81</td>\n",
       "      <td>4414083.21</td>\n",
       "      <td>0.074664</td>\n",
       "      <td>73731.03</td>\n",
       "      <td>True</td>\n",
       "      <td>True</td>\n",
       "      <td>Active</td>\n",
       "      <td>EMB</td>\n",
       "      <td>C10-0001096-LIC</td>\n",
       "    </tr>\n",
       "    <tr>\n",
       "      <th>10</th>\n",
       "      <td>Conscious Mindz Cannabis Company</td>\n",
       "      <td>0.0</td>\n",
       "      <td>0.0</td>\n",
       "      <td>0.0</td>\n",
       "      <td>0.0</td>\n",
       "      <td>0.0</td>\n",
       "      <td>0.0</td>\n",
       "      <td>0.0</td>\n",
       "      <td>0.0</td>\n",
       "      <td>0.0</td>\n",
       "      <td>0.0</td>\n",
       "      <td>0.0</td>\n",
       "      <td>0.0</td>\n",
       "      <td>0.0</td>\n",
       "      <td>0.0</td>\n",
       "      <td>0.0</td>\n",
       "      <td>0.0</td>\n",
       "      <td>0.0</td>\n",
       "      <td>0.0</td>\n",
       "      <td>0.00</td>\n",
       "      <td>0.00</td>\n",
       "      <td>0.00</td>\n",
       "      <td>0.00</td>\n",
       "      <td>3948.01</td>\n",
       "      <td>0.00</td>\n",
       "      <td>3948.01</td>\n",
       "      <td>4414083.21</td>\n",
       "      <td>0.000894</td>\n",
       "      <td>3948.01</td>\n",
       "      <td>True</td>\n",
       "      <td>False</td>\n",
       "      <td>Exclude</td>\n",
       "      <td>EMB</td>\n",
       "      <td>C10-0001096-LIC</td>\n",
       "    </tr>\n",
       "    <tr>\n",
       "      <th>11</th>\n",
       "      <td>DECOI, INC.</td>\n",
       "      <td>0.0</td>\n",
       "      <td>0.0</td>\n",
       "      <td>0.0</td>\n",
       "      <td>0.0</td>\n",
       "      <td>0.0</td>\n",
       "      <td>0.0</td>\n",
       "      <td>0.0</td>\n",
       "      <td>0.0</td>\n",
       "      <td>0.0</td>\n",
       "      <td>0.0</td>\n",
       "      <td>0.0</td>\n",
       "      <td>0.0</td>\n",
       "      <td>0.0</td>\n",
       "      <td>0.0</td>\n",
       "      <td>0.0</td>\n",
       "      <td>0.0</td>\n",
       "      <td>0.0</td>\n",
       "      <td>0.0</td>\n",
       "      <td>0.00</td>\n",
       "      <td>0.00</td>\n",
       "      <td>0.00</td>\n",
       "      <td>0.00</td>\n",
       "      <td>0.00</td>\n",
       "      <td>0.00</td>\n",
       "      <td>0.00</td>\n",
       "      <td>4414083.21</td>\n",
       "      <td>0.000000</td>\n",
       "      <td>0.00</td>\n",
       "      <td>False</td>\n",
       "      <td>False</td>\n",
       "      <td>Exclude</td>\n",
       "      <td>EMB</td>\n",
       "      <td>C10-0001096-LIC</td>\n",
       "    </tr>\n",
       "    <tr>\n",
       "      <th>12</th>\n",
       "      <td>DOS ZAPATOS, INC.</td>\n",
       "      <td>0.0</td>\n",
       "      <td>0.0</td>\n",
       "      <td>0.0</td>\n",
       "      <td>0.0</td>\n",
       "      <td>0.0</td>\n",
       "      <td>0.0</td>\n",
       "      <td>0.0</td>\n",
       "      <td>0.0</td>\n",
       "      <td>0.0</td>\n",
       "      <td>0.0</td>\n",
       "      <td>0.0</td>\n",
       "      <td>0.0</td>\n",
       "      <td>0.0</td>\n",
       "      <td>0.0</td>\n",
       "      <td>0.0</td>\n",
       "      <td>0.0</td>\n",
       "      <td>0.0</td>\n",
       "      <td>0.0</td>\n",
       "      <td>0.00</td>\n",
       "      <td>0.00</td>\n",
       "      <td>0.00</td>\n",
       "      <td>0.00</td>\n",
       "      <td>1938.68</td>\n",
       "      <td>0.00</td>\n",
       "      <td>1938.68</td>\n",
       "      <td>4414083.21</td>\n",
       "      <td>0.000439</td>\n",
       "      <td>1938.68</td>\n",
       "      <td>True</td>\n",
       "      <td>False</td>\n",
       "      <td>Exclude</td>\n",
       "      <td>EMB</td>\n",
       "      <td>C10-0001096-LIC</td>\n",
       "    </tr>\n",
       "    <tr>\n",
       "      <th>13</th>\n",
       "      <td>Dreamfields</td>\n",
       "      <td>0.0</td>\n",
       "      <td>0.0</td>\n",
       "      <td>0.0</td>\n",
       "      <td>0.0</td>\n",
       "      <td>0.0</td>\n",
       "      <td>0.0</td>\n",
       "      <td>0.0</td>\n",
       "      <td>0.0</td>\n",
       "      <td>0.0</td>\n",
       "      <td>0.0</td>\n",
       "      <td>0.0</td>\n",
       "      <td>0.0</td>\n",
       "      <td>0.0</td>\n",
       "      <td>0.0</td>\n",
       "      <td>0.0</td>\n",
       "      <td>0.0</td>\n",
       "      <td>0.0</td>\n",
       "      <td>0.0</td>\n",
       "      <td>54734.25</td>\n",
       "      <td>79603.15</td>\n",
       "      <td>131982.00</td>\n",
       "      <td>39053.71</td>\n",
       "      <td>76742.49</td>\n",
       "      <td>76285.11</td>\n",
       "      <td>458400.71</td>\n",
       "      <td>4414083.21</td>\n",
       "      <td>0.103850</td>\n",
       "      <td>153027.60</td>\n",
       "      <td>True</td>\n",
       "      <td>True</td>\n",
       "      <td>Active</td>\n",
       "      <td>EMB</td>\n",
       "      <td>C10-0001096-LIC</td>\n",
       "    </tr>\n",
       "    <tr>\n",
       "      <th>14</th>\n",
       "      <td>E&amp;J Distributors</td>\n",
       "      <td>0.0</td>\n",
       "      <td>0.0</td>\n",
       "      <td>0.0</td>\n",
       "      <td>0.0</td>\n",
       "      <td>0.0</td>\n",
       "      <td>0.0</td>\n",
       "      <td>0.0</td>\n",
       "      <td>0.0</td>\n",
       "      <td>0.0</td>\n",
       "      <td>0.0</td>\n",
       "      <td>0.0</td>\n",
       "      <td>0.0</td>\n",
       "      <td>0.0</td>\n",
       "      <td>0.0</td>\n",
       "      <td>0.0</td>\n",
       "      <td>0.0</td>\n",
       "      <td>0.0</td>\n",
       "      <td>0.0</td>\n",
       "      <td>864.00</td>\n",
       "      <td>2880.00</td>\n",
       "      <td>3240.00</td>\n",
       "      <td>2880.00</td>\n",
       "      <td>3600.00</td>\n",
       "      <td>0.00</td>\n",
       "      <td>13464.00</td>\n",
       "      <td>4414083.21</td>\n",
       "      <td>0.003050</td>\n",
       "      <td>3600.00</td>\n",
       "      <td>True</td>\n",
       "      <td>True</td>\n",
       "      <td>Active</td>\n",
       "      <td>EMB</td>\n",
       "      <td>C10-0001096-LIC</td>\n",
       "    </tr>\n",
       "    <tr>\n",
       "      <th>15</th>\n",
       "      <td>EDIBLES LIST, LLC</td>\n",
       "      <td>0.0</td>\n",
       "      <td>0.0</td>\n",
       "      <td>0.0</td>\n",
       "      <td>0.0</td>\n",
       "      <td>0.0</td>\n",
       "      <td>0.0</td>\n",
       "      <td>0.0</td>\n",
       "      <td>0.0</td>\n",
       "      <td>0.0</td>\n",
       "      <td>0.0</td>\n",
       "      <td>0.0</td>\n",
       "      <td>0.0</td>\n",
       "      <td>0.0</td>\n",
       "      <td>0.0</td>\n",
       "      <td>0.0</td>\n",
       "      <td>0.0</td>\n",
       "      <td>0.0</td>\n",
       "      <td>0.0</td>\n",
       "      <td>0.00</td>\n",
       "      <td>0.00</td>\n",
       "      <td>0.00</td>\n",
       "      <td>0.00</td>\n",
       "      <td>0.00</td>\n",
       "      <td>0.00</td>\n",
       "      <td>0.00</td>\n",
       "      <td>4414083.21</td>\n",
       "      <td>0.000000</td>\n",
       "      <td>0.00</td>\n",
       "      <td>False</td>\n",
       "      <td>False</td>\n",
       "      <td>Exclude</td>\n",
       "      <td>EMB</td>\n",
       "      <td>C10-0001096-LIC</td>\n",
       "    </tr>\n",
       "    <tr>\n",
       "      <th>16</th>\n",
       "      <td>Equity Trade INC</td>\n",
       "      <td>0.0</td>\n",
       "      <td>0.0</td>\n",
       "      <td>0.0</td>\n",
       "      <td>0.0</td>\n",
       "      <td>0.0</td>\n",
       "      <td>0.0</td>\n",
       "      <td>0.0</td>\n",
       "      <td>0.0</td>\n",
       "      <td>0.0</td>\n",
       "      <td>0.0</td>\n",
       "      <td>0.0</td>\n",
       "      <td>0.0</td>\n",
       "      <td>0.0</td>\n",
       "      <td>0.0</td>\n",
       "      <td>0.0</td>\n",
       "      <td>0.0</td>\n",
       "      <td>0.0</td>\n",
       "      <td>0.0</td>\n",
       "      <td>2406.50</td>\n",
       "      <td>7136.00</td>\n",
       "      <td>0.00</td>\n",
       "      <td>0.00</td>\n",
       "      <td>0.00</td>\n",
       "      <td>7600.00</td>\n",
       "      <td>17142.50</td>\n",
       "      <td>4414083.21</td>\n",
       "      <td>0.003884</td>\n",
       "      <td>7600.00</td>\n",
       "      <td>True</td>\n",
       "      <td>True</td>\n",
       "      <td>Active</td>\n",
       "      <td>EMB</td>\n",
       "      <td>C10-0001096-LIC</td>\n",
       "    </tr>\n",
       "    <tr>\n",
       "      <th>17</th>\n",
       "      <td>Four Star Manufacturing</td>\n",
       "      <td>0.0</td>\n",
       "      <td>0.0</td>\n",
       "      <td>0.0</td>\n",
       "      <td>0.0</td>\n",
       "      <td>0.0</td>\n",
       "      <td>0.0</td>\n",
       "      <td>0.0</td>\n",
       "      <td>0.0</td>\n",
       "      <td>0.0</td>\n",
       "      <td>0.0</td>\n",
       "      <td>0.0</td>\n",
       "      <td>0.0</td>\n",
       "      <td>0.0</td>\n",
       "      <td>0.0</td>\n",
       "      <td>0.0</td>\n",
       "      <td>0.0</td>\n",
       "      <td>0.0</td>\n",
       "      <td>0.0</td>\n",
       "      <td>0.00</td>\n",
       "      <td>0.00</td>\n",
       "      <td>11452.84</td>\n",
       "      <td>0.00</td>\n",
       "      <td>15141.14</td>\n",
       "      <td>9924.64</td>\n",
       "      <td>36518.62</td>\n",
       "      <td>4414083.21</td>\n",
       "      <td>0.008273</td>\n",
       "      <td>25065.78</td>\n",
       "      <td>True</td>\n",
       "      <td>True</td>\n",
       "      <td>Active</td>\n",
       "      <td>EMB</td>\n",
       "      <td>C10-0001096-LIC</td>\n",
       "    </tr>\n",
       "    <tr>\n",
       "      <th>18</th>\n",
       "      <td>Golden State Recycling Collective</td>\n",
       "      <td>0.0</td>\n",
       "      <td>0.0</td>\n",
       "      <td>0.0</td>\n",
       "      <td>0.0</td>\n",
       "      <td>0.0</td>\n",
       "      <td>0.0</td>\n",
       "      <td>0.0</td>\n",
       "      <td>0.0</td>\n",
       "      <td>0.0</td>\n",
       "      <td>0.0</td>\n",
       "      <td>0.0</td>\n",
       "      <td>0.0</td>\n",
       "      <td>0.0</td>\n",
       "      <td>0.0</td>\n",
       "      <td>0.0</td>\n",
       "      <td>0.0</td>\n",
       "      <td>0.0</td>\n",
       "      <td>0.0</td>\n",
       "      <td>0.00</td>\n",
       "      <td>0.00</td>\n",
       "      <td>0.00</td>\n",
       "      <td>0.00</td>\n",
       "      <td>2810.00</td>\n",
       "      <td>0.00</td>\n",
       "      <td>2810.00</td>\n",
       "      <td>4414083.21</td>\n",
       "      <td>0.000637</td>\n",
       "      <td>2810.00</td>\n",
       "      <td>True</td>\n",
       "      <td>False</td>\n",
       "      <td>Exclude</td>\n",
       "      <td>EMB</td>\n",
       "      <td>C10-0001096-LIC</td>\n",
       "    </tr>\n",
       "    <tr>\n",
       "      <th>19</th>\n",
       "      <td>Green Dragon Caregivers</td>\n",
       "      <td>0.0</td>\n",
       "      <td>0.0</td>\n",
       "      <td>0.0</td>\n",
       "      <td>0.0</td>\n",
       "      <td>0.0</td>\n",
       "      <td>0.0</td>\n",
       "      <td>0.0</td>\n",
       "      <td>0.0</td>\n",
       "      <td>0.0</td>\n",
       "      <td>0.0</td>\n",
       "      <td>0.0</td>\n",
       "      <td>0.0</td>\n",
       "      <td>0.0</td>\n",
       "      <td>0.0</td>\n",
       "      <td>0.0</td>\n",
       "      <td>0.0</td>\n",
       "      <td>0.0</td>\n",
       "      <td>0.0</td>\n",
       "      <td>0.00</td>\n",
       "      <td>0.00</td>\n",
       "      <td>0.00</td>\n",
       "      <td>0.00</td>\n",
       "      <td>0.00</td>\n",
       "      <td>0.00</td>\n",
       "      <td>0.00</td>\n",
       "      <td>4414083.21</td>\n",
       "      <td>0.000000</td>\n",
       "      <td>0.00</td>\n",
       "      <td>False</td>\n",
       "      <td>False</td>\n",
       "      <td>Exclude</td>\n",
       "      <td>EMB</td>\n",
       "      <td>C10-0001096-LIC</td>\n",
       "    </tr>\n",
       "    <tr>\n",
       "      <th>20</th>\n",
       "      <td>Greenfield Organix dba Loudpack</td>\n",
       "      <td>0.0</td>\n",
       "      <td>0.0</td>\n",
       "      <td>0.0</td>\n",
       "      <td>0.0</td>\n",
       "      <td>0.0</td>\n",
       "      <td>0.0</td>\n",
       "      <td>0.0</td>\n",
       "      <td>0.0</td>\n",
       "      <td>0.0</td>\n",
       "      <td>0.0</td>\n",
       "      <td>0.0</td>\n",
       "      <td>0.0</td>\n",
       "      <td>0.0</td>\n",
       "      <td>0.0</td>\n",
       "      <td>0.0</td>\n",
       "      <td>0.0</td>\n",
       "      <td>0.0</td>\n",
       "      <td>0.0</td>\n",
       "      <td>33998.22</td>\n",
       "      <td>15412.00</td>\n",
       "      <td>11584.00</td>\n",
       "      <td>0.00</td>\n",
       "      <td>0.00</td>\n",
       "      <td>0.00</td>\n",
       "      <td>60994.22</td>\n",
       "      <td>4414083.21</td>\n",
       "      <td>0.013818</td>\n",
       "      <td>0.00</td>\n",
       "      <td>False</td>\n",
       "      <td>True</td>\n",
       "      <td>Inactive</td>\n",
       "      <td>EMB</td>\n",
       "      <td>C10-0001096-LIC</td>\n",
       "    </tr>\n",
       "    <tr>\n",
       "      <th>21</th>\n",
       "      <td>Hedisyn LLC</td>\n",
       "      <td>0.0</td>\n",
       "      <td>0.0</td>\n",
       "      <td>0.0</td>\n",
       "      <td>0.0</td>\n",
       "      <td>0.0</td>\n",
       "      <td>0.0</td>\n",
       "      <td>0.0</td>\n",
       "      <td>0.0</td>\n",
       "      <td>0.0</td>\n",
       "      <td>0.0</td>\n",
       "      <td>0.0</td>\n",
       "      <td>0.0</td>\n",
       "      <td>0.0</td>\n",
       "      <td>0.0</td>\n",
       "      <td>0.0</td>\n",
       "      <td>0.0</td>\n",
       "      <td>0.0</td>\n",
       "      <td>0.0</td>\n",
       "      <td>0.00</td>\n",
       "      <td>0.00</td>\n",
       "      <td>0.00</td>\n",
       "      <td>0.00</td>\n",
       "      <td>0.00</td>\n",
       "      <td>0.00</td>\n",
       "      <td>0.00</td>\n",
       "      <td>4414083.21</td>\n",
       "      <td>0.000000</td>\n",
       "      <td>0.00</td>\n",
       "      <td>False</td>\n",
       "      <td>False</td>\n",
       "      <td>Exclude</td>\n",
       "      <td>EMB</td>\n",
       "      <td>C10-0001096-LIC</td>\n",
       "    </tr>\n",
       "    <tr>\n",
       "      <th>22</th>\n",
       "      <td>Herbl</td>\n",
       "      <td>0.0</td>\n",
       "      <td>0.0</td>\n",
       "      <td>0.0</td>\n",
       "      <td>0.0</td>\n",
       "      <td>0.0</td>\n",
       "      <td>0.0</td>\n",
       "      <td>0.0</td>\n",
       "      <td>0.0</td>\n",
       "      <td>0.0</td>\n",
       "      <td>0.0</td>\n",
       "      <td>0.0</td>\n",
       "      <td>0.0</td>\n",
       "      <td>0.0</td>\n",
       "      <td>0.0</td>\n",
       "      <td>0.0</td>\n",
       "      <td>0.0</td>\n",
       "      <td>0.0</td>\n",
       "      <td>0.0</td>\n",
       "      <td>137751.21</td>\n",
       "      <td>160827.74</td>\n",
       "      <td>50968.56</td>\n",
       "      <td>46144.95</td>\n",
       "      <td>57715.72</td>\n",
       "      <td>101886.38</td>\n",
       "      <td>555294.56</td>\n",
       "      <td>4414083.21</td>\n",
       "      <td>0.125801</td>\n",
       "      <td>159602.10</td>\n",
       "      <td>True</td>\n",
       "      <td>True</td>\n",
       "      <td>Active</td>\n",
       "      <td>EMB</td>\n",
       "      <td>C10-0001096-LIC</td>\n",
       "    </tr>\n",
       "    <tr>\n",
       "      <th>23</th>\n",
       "      <td>Ironworks Collective</td>\n",
       "      <td>0.0</td>\n",
       "      <td>0.0</td>\n",
       "      <td>0.0</td>\n",
       "      <td>0.0</td>\n",
       "      <td>0.0</td>\n",
       "      <td>0.0</td>\n",
       "      <td>0.0</td>\n",
       "      <td>0.0</td>\n",
       "      <td>0.0</td>\n",
       "      <td>0.0</td>\n",
       "      <td>0.0</td>\n",
       "      <td>0.0</td>\n",
       "      <td>0.0</td>\n",
       "      <td>0.0</td>\n",
       "      <td>0.0</td>\n",
       "      <td>0.0</td>\n",
       "      <td>0.0</td>\n",
       "      <td>0.0</td>\n",
       "      <td>40514.50</td>\n",
       "      <td>108535.40</td>\n",
       "      <td>87035.00</td>\n",
       "      <td>80900.00</td>\n",
       "      <td>60156.00</td>\n",
       "      <td>45888.50</td>\n",
       "      <td>423029.40</td>\n",
       "      <td>4414083.21</td>\n",
       "      <td>0.095836</td>\n",
       "      <td>106044.50</td>\n",
       "      <td>True</td>\n",
       "      <td>True</td>\n",
       "      <td>Active</td>\n",
       "      <td>EMB</td>\n",
       "      <td>C10-0001096-LIC</td>\n",
       "    </tr>\n",
       "    <tr>\n",
       "      <th>24</th>\n",
       "      <td>Irrational Raccoon</td>\n",
       "      <td>0.0</td>\n",
       "      <td>0.0</td>\n",
       "      <td>0.0</td>\n",
       "      <td>0.0</td>\n",
       "      <td>0.0</td>\n",
       "      <td>0.0</td>\n",
       "      <td>0.0</td>\n",
       "      <td>0.0</td>\n",
       "      <td>0.0</td>\n",
       "      <td>0.0</td>\n",
       "      <td>0.0</td>\n",
       "      <td>0.0</td>\n",
       "      <td>0.0</td>\n",
       "      <td>0.0</td>\n",
       "      <td>0.0</td>\n",
       "      <td>0.0</td>\n",
       "      <td>0.0</td>\n",
       "      <td>0.0</td>\n",
       "      <td>0.00</td>\n",
       "      <td>0.00</td>\n",
       "      <td>6295.67</td>\n",
       "      <td>0.00</td>\n",
       "      <td>0.00</td>\n",
       "      <td>0.00</td>\n",
       "      <td>6295.67</td>\n",
       "      <td>4414083.21</td>\n",
       "      <td>0.001426</td>\n",
       "      <td>0.00</td>\n",
       "      <td>False</td>\n",
       "      <td>True</td>\n",
       "      <td>Inactive</td>\n",
       "      <td>EMB</td>\n",
       "      <td>C10-0001096-LIC</td>\n",
       "    </tr>\n",
       "    <tr>\n",
       "      <th>25</th>\n",
       "      <td>Kind House</td>\n",
       "      <td>0.0</td>\n",
       "      <td>0.0</td>\n",
       "      <td>0.0</td>\n",
       "      <td>0.0</td>\n",
       "      <td>0.0</td>\n",
       "      <td>0.0</td>\n",
       "      <td>0.0</td>\n",
       "      <td>0.0</td>\n",
       "      <td>0.0</td>\n",
       "      <td>0.0</td>\n",
       "      <td>0.0</td>\n",
       "      <td>0.0</td>\n",
       "      <td>0.0</td>\n",
       "      <td>0.0</td>\n",
       "      <td>0.0</td>\n",
       "      <td>0.0</td>\n",
       "      <td>0.0</td>\n",
       "      <td>0.0</td>\n",
       "      <td>0.00</td>\n",
       "      <td>0.00</td>\n",
       "      <td>0.00</td>\n",
       "      <td>0.00</td>\n",
       "      <td>8350.60</td>\n",
       "      <td>6373.50</td>\n",
       "      <td>14724.10</td>\n",
       "      <td>4414083.21</td>\n",
       "      <td>0.003336</td>\n",
       "      <td>14724.10</td>\n",
       "      <td>True</td>\n",
       "      <td>True</td>\n",
       "      <td>Active</td>\n",
       "      <td>EMB</td>\n",
       "      <td>C10-0001096-LIC</td>\n",
       "    </tr>\n",
       "    <tr>\n",
       "      <th>26</th>\n",
       "      <td>Kiva Sales &amp; Service</td>\n",
       "      <td>0.0</td>\n",
       "      <td>0.0</td>\n",
       "      <td>0.0</td>\n",
       "      <td>0.0</td>\n",
       "      <td>0.0</td>\n",
       "      <td>0.0</td>\n",
       "      <td>0.0</td>\n",
       "      <td>0.0</td>\n",
       "      <td>0.0</td>\n",
       "      <td>0.0</td>\n",
       "      <td>0.0</td>\n",
       "      <td>0.0</td>\n",
       "      <td>0.0</td>\n",
       "      <td>0.0</td>\n",
       "      <td>0.0</td>\n",
       "      <td>0.0</td>\n",
       "      <td>0.0</td>\n",
       "      <td>0.0</td>\n",
       "      <td>56528.24</td>\n",
       "      <td>60757.74</td>\n",
       "      <td>59839.42</td>\n",
       "      <td>20774.03</td>\n",
       "      <td>80330.66</td>\n",
       "      <td>78786.88</td>\n",
       "      <td>357016.97</td>\n",
       "      <td>4414083.21</td>\n",
       "      <td>0.080881</td>\n",
       "      <td>159117.54</td>\n",
       "      <td>True</td>\n",
       "      <td>True</td>\n",
       "      <td>Active</td>\n",
       "      <td>EMB</td>\n",
       "      <td>C10-0001096-LIC</td>\n",
       "    </tr>\n",
       "    <tr>\n",
       "      <th>27</th>\n",
       "      <td>LL Products, Inc</td>\n",
       "      <td>0.0</td>\n",
       "      <td>0.0</td>\n",
       "      <td>0.0</td>\n",
       "      <td>0.0</td>\n",
       "      <td>0.0</td>\n",
       "      <td>0.0</td>\n",
       "      <td>0.0</td>\n",
       "      <td>0.0</td>\n",
       "      <td>0.0</td>\n",
       "      <td>0.0</td>\n",
       "      <td>0.0</td>\n",
       "      <td>0.0</td>\n",
       "      <td>0.0</td>\n",
       "      <td>0.0</td>\n",
       "      <td>0.0</td>\n",
       "      <td>0.0</td>\n",
       "      <td>0.0</td>\n",
       "      <td>0.0</td>\n",
       "      <td>800.50</td>\n",
       "      <td>0.00</td>\n",
       "      <td>2405.25</td>\n",
       "      <td>0.00</td>\n",
       "      <td>0.00</td>\n",
       "      <td>0.00</td>\n",
       "      <td>3205.75</td>\n",
       "      <td>4414083.21</td>\n",
       "      <td>0.000726</td>\n",
       "      <td>0.00</td>\n",
       "      <td>False</td>\n",
       "      <td>False</td>\n",
       "      <td>Exclude</td>\n",
       "      <td>EMB</td>\n",
       "      <td>C10-0001096-LIC</td>\n",
       "    </tr>\n",
       "    <tr>\n",
       "      <th>28</th>\n",
       "      <td>Left Coast</td>\n",
       "      <td>0.0</td>\n",
       "      <td>0.0</td>\n",
       "      <td>0.0</td>\n",
       "      <td>0.0</td>\n",
       "      <td>0.0</td>\n",
       "      <td>0.0</td>\n",
       "      <td>0.0</td>\n",
       "      <td>0.0</td>\n",
       "      <td>0.0</td>\n",
       "      <td>0.0</td>\n",
       "      <td>0.0</td>\n",
       "      <td>0.0</td>\n",
       "      <td>0.0</td>\n",
       "      <td>0.0</td>\n",
       "      <td>0.0</td>\n",
       "      <td>0.0</td>\n",
       "      <td>0.0</td>\n",
       "      <td>0.0</td>\n",
       "      <td>0.00</td>\n",
       "      <td>0.00</td>\n",
       "      <td>7841.90</td>\n",
       "      <td>0.00</td>\n",
       "      <td>10080.00</td>\n",
       "      <td>5041.20</td>\n",
       "      <td>22963.10</td>\n",
       "      <td>4414083.21</td>\n",
       "      <td>0.005202</td>\n",
       "      <td>15121.20</td>\n",
       "      <td>True</td>\n",
       "      <td>True</td>\n",
       "      <td>Active</td>\n",
       "      <td>EMB</td>\n",
       "      <td>C10-0001096-LIC</td>\n",
       "    </tr>\n",
       "    <tr>\n",
       "      <th>29</th>\n",
       "      <td>Liquid Shade</td>\n",
       "      <td>0.0</td>\n",
       "      <td>0.0</td>\n",
       "      <td>0.0</td>\n",
       "      <td>0.0</td>\n",
       "      <td>0.0</td>\n",
       "      <td>0.0</td>\n",
       "      <td>0.0</td>\n",
       "      <td>0.0</td>\n",
       "      <td>0.0</td>\n",
       "      <td>0.0</td>\n",
       "      <td>0.0</td>\n",
       "      <td>0.0</td>\n",
       "      <td>0.0</td>\n",
       "      <td>0.0</td>\n",
       "      <td>0.0</td>\n",
       "      <td>0.0</td>\n",
       "      <td>0.0</td>\n",
       "      <td>0.0</td>\n",
       "      <td>0.00</td>\n",
       "      <td>15456.95</td>\n",
       "      <td>0.00</td>\n",
       "      <td>576.24</td>\n",
       "      <td>0.00</td>\n",
       "      <td>10262.21</td>\n",
       "      <td>26295.40</td>\n",
       "      <td>4414083.21</td>\n",
       "      <td>0.005957</td>\n",
       "      <td>10262.21</td>\n",
       "      <td>True</td>\n",
       "      <td>True</td>\n",
       "      <td>Active</td>\n",
       "      <td>EMB</td>\n",
       "      <td>C10-0001096-LIC</td>\n",
       "    </tr>\n",
       "    <tr>\n",
       "      <th>30</th>\n",
       "      <td>Mammoth Distro (Heavy Hitters)</td>\n",
       "      <td>0.0</td>\n",
       "      <td>0.0</td>\n",
       "      <td>0.0</td>\n",
       "      <td>0.0</td>\n",
       "      <td>0.0</td>\n",
       "      <td>0.0</td>\n",
       "      <td>0.0</td>\n",
       "      <td>0.0</td>\n",
       "      <td>0.0</td>\n",
       "      <td>0.0</td>\n",
       "      <td>0.0</td>\n",
       "      <td>0.0</td>\n",
       "      <td>0.0</td>\n",
       "      <td>0.0</td>\n",
       "      <td>0.0</td>\n",
       "      <td>0.0</td>\n",
       "      <td>0.0</td>\n",
       "      <td>0.0</td>\n",
       "      <td>88750.52</td>\n",
       "      <td>117489.73</td>\n",
       "      <td>60574.29</td>\n",
       "      <td>116296.89</td>\n",
       "      <td>142652.09</td>\n",
       "      <td>164289.11</td>\n",
       "      <td>690052.63</td>\n",
       "      <td>4414083.21</td>\n",
       "      <td>0.156330</td>\n",
       "      <td>306941.20</td>\n",
       "      <td>True</td>\n",
       "      <td>True</td>\n",
       "      <td>Active</td>\n",
       "      <td>EMB</td>\n",
       "      <td>C10-0001096-LIC</td>\n",
       "    </tr>\n",
       "    <tr>\n",
       "      <th>31</th>\n",
       "      <td>Michael Toth</td>\n",
       "      <td>0.0</td>\n",
       "      <td>0.0</td>\n",
       "      <td>0.0</td>\n",
       "      <td>0.0</td>\n",
       "      <td>0.0</td>\n",
       "      <td>0.0</td>\n",
       "      <td>0.0</td>\n",
       "      <td>0.0</td>\n",
       "      <td>0.0</td>\n",
       "      <td>0.0</td>\n",
       "      <td>0.0</td>\n",
       "      <td>0.0</td>\n",
       "      <td>0.0</td>\n",
       "      <td>0.0</td>\n",
       "      <td>0.0</td>\n",
       "      <td>0.0</td>\n",
       "      <td>0.0</td>\n",
       "      <td>0.0</td>\n",
       "      <td>0.00</td>\n",
       "      <td>0.00</td>\n",
       "      <td>0.00</td>\n",
       "      <td>0.00</td>\n",
       "      <td>0.00</td>\n",
       "      <td>0.00</td>\n",
       "      <td>0.00</td>\n",
       "      <td>4414083.21</td>\n",
       "      <td>0.000000</td>\n",
       "      <td>0.00</td>\n",
       "      <td>False</td>\n",
       "      <td>False</td>\n",
       "      <td>Exclude</td>\n",
       "      <td>EMB</td>\n",
       "      <td>C10-0001096-LIC</td>\n",
       "    </tr>\n",
       "    <tr>\n",
       "      <th>32</th>\n",
       "      <td>NW Confections CA</td>\n",
       "      <td>0.0</td>\n",
       "      <td>0.0</td>\n",
       "      <td>0.0</td>\n",
       "      <td>0.0</td>\n",
       "      <td>0.0</td>\n",
       "      <td>0.0</td>\n",
       "      <td>0.0</td>\n",
       "      <td>0.0</td>\n",
       "      <td>0.0</td>\n",
       "      <td>0.0</td>\n",
       "      <td>0.0</td>\n",
       "      <td>0.0</td>\n",
       "      <td>0.0</td>\n",
       "      <td>0.0</td>\n",
       "      <td>0.0</td>\n",
       "      <td>0.0</td>\n",
       "      <td>0.0</td>\n",
       "      <td>0.0</td>\n",
       "      <td>26221.54</td>\n",
       "      <td>560.55</td>\n",
       "      <td>12401.25</td>\n",
       "      <td>6000.60</td>\n",
       "      <td>4120.30</td>\n",
       "      <td>18442.31</td>\n",
       "      <td>67746.55</td>\n",
       "      <td>4414083.21</td>\n",
       "      <td>0.015348</td>\n",
       "      <td>22562.61</td>\n",
       "      <td>True</td>\n",
       "      <td>True</td>\n",
       "      <td>Active</td>\n",
       "      <td>EMB</td>\n",
       "      <td>C10-0001096-LIC</td>\n",
       "    </tr>\n",
       "    <tr>\n",
       "      <th>33</th>\n",
       "      <td>Nabis</td>\n",
       "      <td>0.0</td>\n",
       "      <td>0.0</td>\n",
       "      <td>0.0</td>\n",
       "      <td>0.0</td>\n",
       "      <td>0.0</td>\n",
       "      <td>0.0</td>\n",
       "      <td>0.0</td>\n",
       "      <td>0.0</td>\n",
       "      <td>0.0</td>\n",
       "      <td>0.0</td>\n",
       "      <td>0.0</td>\n",
       "      <td>0.0</td>\n",
       "      <td>0.0</td>\n",
       "      <td>0.0</td>\n",
       "      <td>0.0</td>\n",
       "      <td>0.0</td>\n",
       "      <td>0.0</td>\n",
       "      <td>0.0</td>\n",
       "      <td>56422.72</td>\n",
       "      <td>138614.17</td>\n",
       "      <td>66448.06</td>\n",
       "      <td>93603.74</td>\n",
       "      <td>22462.39</td>\n",
       "      <td>65526.99</td>\n",
       "      <td>443078.07</td>\n",
       "      <td>4414083.21</td>\n",
       "      <td>0.100378</td>\n",
       "      <td>87989.38</td>\n",
       "      <td>True</td>\n",
       "      <td>True</td>\n",
       "      <td>Active</td>\n",
       "      <td>EMB</td>\n",
       "      <td>C10-0001096-LIC</td>\n",
       "    </tr>\n",
       "    <tr>\n",
       "      <th>34</th>\n",
       "      <td>NorCal Distribution Solutions</td>\n",
       "      <td>0.0</td>\n",
       "      <td>0.0</td>\n",
       "      <td>0.0</td>\n",
       "      <td>0.0</td>\n",
       "      <td>0.0</td>\n",
       "      <td>0.0</td>\n",
       "      <td>0.0</td>\n",
       "      <td>0.0</td>\n",
       "      <td>0.0</td>\n",
       "      <td>0.0</td>\n",
       "      <td>0.0</td>\n",
       "      <td>0.0</td>\n",
       "      <td>0.0</td>\n",
       "      <td>0.0</td>\n",
       "      <td>0.0</td>\n",
       "      <td>0.0</td>\n",
       "      <td>0.0</td>\n",
       "      <td>0.0</td>\n",
       "      <td>52356.43</td>\n",
       "      <td>37507.56</td>\n",
       "      <td>41477.68</td>\n",
       "      <td>37786.94</td>\n",
       "      <td>70143.12</td>\n",
       "      <td>42598.80</td>\n",
       "      <td>281870.53</td>\n",
       "      <td>4414083.21</td>\n",
       "      <td>0.063857</td>\n",
       "      <td>112741.92</td>\n",
       "      <td>True</td>\n",
       "      <td>True</td>\n",
       "      <td>Active</td>\n",
       "      <td>EMB</td>\n",
       "      <td>C10-0001096-LIC</td>\n",
       "    </tr>\n",
       "    <tr>\n",
       "      <th>35</th>\n",
       "      <td>ODYSSEY AGRICULTURAL DEVELOPMENT LLC</td>\n",
       "      <td>0.0</td>\n",
       "      <td>0.0</td>\n",
       "      <td>0.0</td>\n",
       "      <td>0.0</td>\n",
       "      <td>0.0</td>\n",
       "      <td>0.0</td>\n",
       "      <td>0.0</td>\n",
       "      <td>0.0</td>\n",
       "      <td>0.0</td>\n",
       "      <td>0.0</td>\n",
       "      <td>0.0</td>\n",
       "      <td>0.0</td>\n",
       "      <td>0.0</td>\n",
       "      <td>0.0</td>\n",
       "      <td>0.0</td>\n",
       "      <td>0.0</td>\n",
       "      <td>0.0</td>\n",
       "      <td>0.0</td>\n",
       "      <td>0.00</td>\n",
       "      <td>0.00</td>\n",
       "      <td>0.00</td>\n",
       "      <td>0.00</td>\n",
       "      <td>1664.27</td>\n",
       "      <td>4992.02</td>\n",
       "      <td>6656.29</td>\n",
       "      <td>4414083.21</td>\n",
       "      <td>0.001508</td>\n",
       "      <td>6656.29</td>\n",
       "      <td>True</td>\n",
       "      <td>True</td>\n",
       "      <td>Active</td>\n",
       "      <td>EMB</td>\n",
       "      <td>C10-0001096-LIC</td>\n",
       "    </tr>\n",
       "    <tr>\n",
       "      <th>36</th>\n",
       "      <td>PURPLE STAR MD COLLECTIVE</td>\n",
       "      <td>0.0</td>\n",
       "      <td>0.0</td>\n",
       "      <td>0.0</td>\n",
       "      <td>0.0</td>\n",
       "      <td>0.0</td>\n",
       "      <td>0.0</td>\n",
       "      <td>0.0</td>\n",
       "      <td>0.0</td>\n",
       "      <td>0.0</td>\n",
       "      <td>0.0</td>\n",
       "      <td>0.0</td>\n",
       "      <td>0.0</td>\n",
       "      <td>0.0</td>\n",
       "      <td>0.0</td>\n",
       "      <td>0.0</td>\n",
       "      <td>0.0</td>\n",
       "      <td>0.0</td>\n",
       "      <td>0.0</td>\n",
       "      <td>0.00</td>\n",
       "      <td>0.00</td>\n",
       "      <td>0.00</td>\n",
       "      <td>0.00</td>\n",
       "      <td>0.00</td>\n",
       "      <td>0.00</td>\n",
       "      <td>0.00</td>\n",
       "      <td>4414083.21</td>\n",
       "      <td>0.000000</td>\n",
       "      <td>0.00</td>\n",
       "      <td>False</td>\n",
       "      <td>False</td>\n",
       "      <td>Exclude</td>\n",
       "      <td>EMB</td>\n",
       "      <td>C10-0001096-LIC</td>\n",
       "    </tr>\n",
       "    <tr>\n",
       "      <th>37</th>\n",
       "      <td>Proof Operations Inc</td>\n",
       "      <td>0.0</td>\n",
       "      <td>0.0</td>\n",
       "      <td>0.0</td>\n",
       "      <td>0.0</td>\n",
       "      <td>0.0</td>\n",
       "      <td>0.0</td>\n",
       "      <td>0.0</td>\n",
       "      <td>0.0</td>\n",
       "      <td>0.0</td>\n",
       "      <td>0.0</td>\n",
       "      <td>0.0</td>\n",
       "      <td>0.0</td>\n",
       "      <td>0.0</td>\n",
       "      <td>0.0</td>\n",
       "      <td>0.0</td>\n",
       "      <td>0.0</td>\n",
       "      <td>0.0</td>\n",
       "      <td>0.0</td>\n",
       "      <td>0.00</td>\n",
       "      <td>0.00</td>\n",
       "      <td>0.00</td>\n",
       "      <td>2250.10</td>\n",
       "      <td>0.00</td>\n",
       "      <td>0.00</td>\n",
       "      <td>2250.10</td>\n",
       "      <td>4414083.21</td>\n",
       "      <td>0.000510</td>\n",
       "      <td>0.00</td>\n",
       "      <td>False</td>\n",
       "      <td>False</td>\n",
       "      <td>Exclude</td>\n",
       "      <td>EMB</td>\n",
       "      <td>C10-0001096-LIC</td>\n",
       "    </tr>\n",
       "    <tr>\n",
       "      <th>38</th>\n",
       "      <td>RJRC, LLC</td>\n",
       "      <td>0.0</td>\n",
       "      <td>0.0</td>\n",
       "      <td>0.0</td>\n",
       "      <td>0.0</td>\n",
       "      <td>0.0</td>\n",
       "      <td>0.0</td>\n",
       "      <td>0.0</td>\n",
       "      <td>0.0</td>\n",
       "      <td>0.0</td>\n",
       "      <td>0.0</td>\n",
       "      <td>0.0</td>\n",
       "      <td>0.0</td>\n",
       "      <td>0.0</td>\n",
       "      <td>0.0</td>\n",
       "      <td>0.0</td>\n",
       "      <td>0.0</td>\n",
       "      <td>0.0</td>\n",
       "      <td>0.0</td>\n",
       "      <td>0.00</td>\n",
       "      <td>0.00</td>\n",
       "      <td>0.00</td>\n",
       "      <td>0.00</td>\n",
       "      <td>0.00</td>\n",
       "      <td>0.00</td>\n",
       "      <td>0.00</td>\n",
       "      <td>4414083.21</td>\n",
       "      <td>0.000000</td>\n",
       "      <td>0.00</td>\n",
       "      <td>False</td>\n",
       "      <td>False</td>\n",
       "      <td>Exclude</td>\n",
       "      <td>EMB</td>\n",
       "      <td>C10-0001096-LIC</td>\n",
       "    </tr>\n",
       "    <tr>\n",
       "      <th>39</th>\n",
       "      <td>River Distribution (Continuum)</td>\n",
       "      <td>0.0</td>\n",
       "      <td>0.0</td>\n",
       "      <td>0.0</td>\n",
       "      <td>0.0</td>\n",
       "      <td>0.0</td>\n",
       "      <td>0.0</td>\n",
       "      <td>0.0</td>\n",
       "      <td>0.0</td>\n",
       "      <td>0.0</td>\n",
       "      <td>0.0</td>\n",
       "      <td>0.0</td>\n",
       "      <td>0.0</td>\n",
       "      <td>0.0</td>\n",
       "      <td>0.0</td>\n",
       "      <td>0.0</td>\n",
       "      <td>0.0</td>\n",
       "      <td>0.0</td>\n",
       "      <td>0.0</td>\n",
       "      <td>9756.01</td>\n",
       "      <td>31199.00</td>\n",
       "      <td>0.00</td>\n",
       "      <td>34035.00</td>\n",
       "      <td>12938.00</td>\n",
       "      <td>20415.00</td>\n",
       "      <td>108343.01</td>\n",
       "      <td>4414083.21</td>\n",
       "      <td>0.024545</td>\n",
       "      <td>33353.00</td>\n",
       "      <td>True</td>\n",
       "      <td>True</td>\n",
       "      <td>Active</td>\n",
       "      <td>EMB</td>\n",
       "      <td>C10-0001096-LIC</td>\n",
       "    </tr>\n",
       "    <tr>\n",
       "      <th>40</th>\n",
       "      <td>Royal Key LLC</td>\n",
       "      <td>0.0</td>\n",
       "      <td>0.0</td>\n",
       "      <td>0.0</td>\n",
       "      <td>0.0</td>\n",
       "      <td>0.0</td>\n",
       "      <td>0.0</td>\n",
       "      <td>0.0</td>\n",
       "      <td>0.0</td>\n",
       "      <td>0.0</td>\n",
       "      <td>0.0</td>\n",
       "      <td>0.0</td>\n",
       "      <td>0.0</td>\n",
       "      <td>0.0</td>\n",
       "      <td>0.0</td>\n",
       "      <td>0.0</td>\n",
       "      <td>0.0</td>\n",
       "      <td>0.0</td>\n",
       "      <td>0.0</td>\n",
       "      <td>0.00</td>\n",
       "      <td>0.00</td>\n",
       "      <td>2816.00</td>\n",
       "      <td>0.00</td>\n",
       "      <td>0.00</td>\n",
       "      <td>0.00</td>\n",
       "      <td>2816.00</td>\n",
       "      <td>4414083.21</td>\n",
       "      <td>0.000638</td>\n",
       "      <td>0.00</td>\n",
       "      <td>False</td>\n",
       "      <td>False</td>\n",
       "      <td>Exclude</td>\n",
       "      <td>EMB</td>\n",
       "      <td>C10-0001096-LIC</td>\n",
       "    </tr>\n",
       "    <tr>\n",
       "      <th>41</th>\n",
       "      <td>SD Pantry Inc</td>\n",
       "      <td>0.0</td>\n",
       "      <td>0.0</td>\n",
       "      <td>0.0</td>\n",
       "      <td>0.0</td>\n",
       "      <td>0.0</td>\n",
       "      <td>0.0</td>\n",
       "      <td>0.0</td>\n",
       "      <td>0.0</td>\n",
       "      <td>0.0</td>\n",
       "      <td>0.0</td>\n",
       "      <td>0.0</td>\n",
       "      <td>0.0</td>\n",
       "      <td>0.0</td>\n",
       "      <td>0.0</td>\n",
       "      <td>0.0</td>\n",
       "      <td>0.0</td>\n",
       "      <td>0.0</td>\n",
       "      <td>0.0</td>\n",
       "      <td>0.00</td>\n",
       "      <td>0.00</td>\n",
       "      <td>0.00</td>\n",
       "      <td>0.00</td>\n",
       "      <td>920.00</td>\n",
       "      <td>0.00</td>\n",
       "      <td>920.00</td>\n",
       "      <td>4414083.21</td>\n",
       "      <td>0.000208</td>\n",
       "      <td>920.00</td>\n",
       "      <td>True</td>\n",
       "      <td>False</td>\n",
       "      <td>Exclude</td>\n",
       "      <td>EMB</td>\n",
       "      <td>C10-0001096-LIC</td>\n",
       "    </tr>\n",
       "    <tr>\n",
       "      <th>42</th>\n",
       "      <td>Seed 2 Soul</td>\n",
       "      <td>0.0</td>\n",
       "      <td>0.0</td>\n",
       "      <td>0.0</td>\n",
       "      <td>0.0</td>\n",
       "      <td>0.0</td>\n",
       "      <td>0.0</td>\n",
       "      <td>0.0</td>\n",
       "      <td>0.0</td>\n",
       "      <td>0.0</td>\n",
       "      <td>0.0</td>\n",
       "      <td>0.0</td>\n",
       "      <td>0.0</td>\n",
       "      <td>0.0</td>\n",
       "      <td>0.0</td>\n",
       "      <td>0.0</td>\n",
       "      <td>0.0</td>\n",
       "      <td>0.0</td>\n",
       "      <td>0.0</td>\n",
       "      <td>0.00</td>\n",
       "      <td>0.00</td>\n",
       "      <td>0.00</td>\n",
       "      <td>0.00</td>\n",
       "      <td>0.00</td>\n",
       "      <td>0.00</td>\n",
       "      <td>0.00</td>\n",
       "      <td>4414083.21</td>\n",
       "      <td>0.000000</td>\n",
       "      <td>0.00</td>\n",
       "      <td>False</td>\n",
       "      <td>False</td>\n",
       "      <td>Exclude</td>\n",
       "      <td>EMB</td>\n",
       "      <td>C10-0001096-LIC</td>\n",
       "    </tr>\n",
       "    <tr>\n",
       "      <th>43</th>\n",
       "      <td>Shield Management Group, LLC</td>\n",
       "      <td>0.0</td>\n",
       "      <td>0.0</td>\n",
       "      <td>0.0</td>\n",
       "      <td>0.0</td>\n",
       "      <td>0.0</td>\n",
       "      <td>0.0</td>\n",
       "      <td>0.0</td>\n",
       "      <td>0.0</td>\n",
       "      <td>0.0</td>\n",
       "      <td>0.0</td>\n",
       "      <td>0.0</td>\n",
       "      <td>0.0</td>\n",
       "      <td>0.0</td>\n",
       "      <td>0.0</td>\n",
       "      <td>0.0</td>\n",
       "      <td>0.0</td>\n",
       "      <td>0.0</td>\n",
       "      <td>0.0</td>\n",
       "      <td>0.00</td>\n",
       "      <td>0.00</td>\n",
       "      <td>0.00</td>\n",
       "      <td>0.00</td>\n",
       "      <td>0.00</td>\n",
       "      <td>0.00</td>\n",
       "      <td>0.00</td>\n",
       "      <td>4414083.21</td>\n",
       "      <td>0.000000</td>\n",
       "      <td>0.00</td>\n",
       "      <td>False</td>\n",
       "      <td>False</td>\n",
       "      <td>Exclude</td>\n",
       "      <td>EMB</td>\n",
       "      <td>C10-0001096-LIC</td>\n",
       "    </tr>\n",
       "    <tr>\n",
       "      <th>44</th>\n",
       "      <td>Sunderstorm</td>\n",
       "      <td>0.0</td>\n",
       "      <td>0.0</td>\n",
       "      <td>0.0</td>\n",
       "      <td>0.0</td>\n",
       "      <td>0.0</td>\n",
       "      <td>0.0</td>\n",
       "      <td>0.0</td>\n",
       "      <td>0.0</td>\n",
       "      <td>0.0</td>\n",
       "      <td>0.0</td>\n",
       "      <td>0.0</td>\n",
       "      <td>0.0</td>\n",
       "      <td>0.0</td>\n",
       "      <td>0.0</td>\n",
       "      <td>0.0</td>\n",
       "      <td>0.0</td>\n",
       "      <td>0.0</td>\n",
       "      <td>0.0</td>\n",
       "      <td>4894.40</td>\n",
       "      <td>17251.30</td>\n",
       "      <td>0.00</td>\n",
       "      <td>0.00</td>\n",
       "      <td>6475.15</td>\n",
       "      <td>1830.00</td>\n",
       "      <td>30450.85</td>\n",
       "      <td>4414083.21</td>\n",
       "      <td>0.006899</td>\n",
       "      <td>8305.15</td>\n",
       "      <td>True</td>\n",
       "      <td>True</td>\n",
       "      <td>Active</td>\n",
       "      <td>EMB</td>\n",
       "      <td>C10-0001096-LIC</td>\n",
       "    </tr>\n",
       "    <tr>\n",
       "      <th>45</th>\n",
       "      <td>The Hive Laboratory LLC</td>\n",
       "      <td>0.0</td>\n",
       "      <td>0.0</td>\n",
       "      <td>0.0</td>\n",
       "      <td>0.0</td>\n",
       "      <td>0.0</td>\n",
       "      <td>0.0</td>\n",
       "      <td>0.0</td>\n",
       "      <td>0.0</td>\n",
       "      <td>0.0</td>\n",
       "      <td>0.0</td>\n",
       "      <td>0.0</td>\n",
       "      <td>0.0</td>\n",
       "      <td>0.0</td>\n",
       "      <td>0.0</td>\n",
       "      <td>0.0</td>\n",
       "      <td>0.0</td>\n",
       "      <td>0.0</td>\n",
       "      <td>0.0</td>\n",
       "      <td>2952.00</td>\n",
       "      <td>2808.48</td>\n",
       "      <td>0.00</td>\n",
       "      <td>2736.00</td>\n",
       "      <td>4080.93</td>\n",
       "      <td>0.00</td>\n",
       "      <td>12577.41</td>\n",
       "      <td>4414083.21</td>\n",
       "      <td>0.002849</td>\n",
       "      <td>4080.93</td>\n",
       "      <td>True</td>\n",
       "      <td>True</td>\n",
       "      <td>Active</td>\n",
       "      <td>EMB</td>\n",
       "      <td>C10-0001096-LIC</td>\n",
       "    </tr>\n",
       "    <tr>\n",
       "      <th>46</th>\n",
       "      <td>Trusty Transportations</td>\n",
       "      <td>0.0</td>\n",
       "      <td>0.0</td>\n",
       "      <td>0.0</td>\n",
       "      <td>0.0</td>\n",
       "      <td>0.0</td>\n",
       "      <td>0.0</td>\n",
       "      <td>0.0</td>\n",
       "      <td>0.0</td>\n",
       "      <td>0.0</td>\n",
       "      <td>0.0</td>\n",
       "      <td>0.0</td>\n",
       "      <td>0.0</td>\n",
       "      <td>0.0</td>\n",
       "      <td>0.0</td>\n",
       "      <td>0.0</td>\n",
       "      <td>0.0</td>\n",
       "      <td>0.0</td>\n",
       "      <td>0.0</td>\n",
       "      <td>0.00</td>\n",
       "      <td>10493.00</td>\n",
       "      <td>0.00</td>\n",
       "      <td>0.00</td>\n",
       "      <td>2538.30</td>\n",
       "      <td>0.00</td>\n",
       "      <td>13031.30</td>\n",
       "      <td>4414083.21</td>\n",
       "      <td>0.002952</td>\n",
       "      <td>2538.30</td>\n",
       "      <td>True</td>\n",
       "      <td>True</td>\n",
       "      <td>Active</td>\n",
       "      <td>EMB</td>\n",
       "      <td>C10-0001096-LIC</td>\n",
       "    </tr>\n",
       "    <tr>\n",
       "      <th>47</th>\n",
       "      <td>WCC MGMT</td>\n",
       "      <td>0.0</td>\n",
       "      <td>0.0</td>\n",
       "      <td>0.0</td>\n",
       "      <td>0.0</td>\n",
       "      <td>0.0</td>\n",
       "      <td>0.0</td>\n",
       "      <td>0.0</td>\n",
       "      <td>0.0</td>\n",
       "      <td>0.0</td>\n",
       "      <td>0.0</td>\n",
       "      <td>0.0</td>\n",
       "      <td>0.0</td>\n",
       "      <td>0.0</td>\n",
       "      <td>0.0</td>\n",
       "      <td>0.0</td>\n",
       "      <td>0.0</td>\n",
       "      <td>0.0</td>\n",
       "      <td>0.0</td>\n",
       "      <td>0.00</td>\n",
       "      <td>18951.57</td>\n",
       "      <td>12900.02</td>\n",
       "      <td>23391.51</td>\n",
       "      <td>16006.26</td>\n",
       "      <td>35330.39</td>\n",
       "      <td>106579.75</td>\n",
       "      <td>4414083.21</td>\n",
       "      <td>0.024145</td>\n",
       "      <td>51336.65</td>\n",
       "      <td>True</td>\n",
       "      <td>True</td>\n",
       "      <td>Active</td>\n",
       "      <td>EMB</td>\n",
       "      <td>C10-0001096-LIC</td>\n",
       "    </tr>\n",
       "    <tr>\n",
       "      <th>48</th>\n",
       "      <td>Wonderbread</td>\n",
       "      <td>0.0</td>\n",
       "      <td>0.0</td>\n",
       "      <td>0.0</td>\n",
       "      <td>0.0</td>\n",
       "      <td>0.0</td>\n",
       "      <td>0.0</td>\n",
       "      <td>0.0</td>\n",
       "      <td>0.0</td>\n",
       "      <td>0.0</td>\n",
       "      <td>0.0</td>\n",
       "      <td>0.0</td>\n",
       "      <td>0.0</td>\n",
       "      <td>0.0</td>\n",
       "      <td>0.0</td>\n",
       "      <td>0.0</td>\n",
       "      <td>0.0</td>\n",
       "      <td>0.0</td>\n",
       "      <td>0.0</td>\n",
       "      <td>0.00</td>\n",
       "      <td>0.00</td>\n",
       "      <td>4609.84</td>\n",
       "      <td>6176.65</td>\n",
       "      <td>0.00</td>\n",
       "      <td>0.00</td>\n",
       "      <td>10786.49</td>\n",
       "      <td>4414083.21</td>\n",
       "      <td>0.002444</td>\n",
       "      <td>0.00</td>\n",
       "      <td>False</td>\n",
       "      <td>True</td>\n",
       "      <td>Inactive</td>\n",
       "      <td>EMB</td>\n",
       "      <td>C10-0001096-LIC</td>\n",
       "    </tr>\n",
       "  </tbody>\n",
       "</table>\n",
       "</div>"
      ],
      "text/plain": [
       "year_month                       shipper_parent_name  2021-01-01  2021-02-01  \\\n",
       "0                                              420-3         0.0         0.0   \n",
       "1                                      965 Solutions         0.0         0.0   \n",
       "2                         ASV EQ 1, LLC Dba 710 Labs         0.0         0.0   \n",
       "3                                         Aureus DHS         0.0         0.0   \n",
       "4                                 Bango Distribution         0.0         0.0   \n",
       "5                                      Bloom Network         0.0         0.0   \n",
       "6                                    Cabo Connection         0.0         0.0   \n",
       "7           California Organic Treatment Center, Inc         0.0         0.0   \n",
       "8                              Claybourne Industries         0.0         0.0   \n",
       "9                              Connected Cannabis Co         0.0         0.0   \n",
       "10                  Conscious Mindz Cannabis Company         0.0         0.0   \n",
       "11                                       DECOI, INC.         0.0         0.0   \n",
       "12                                 DOS ZAPATOS, INC.         0.0         0.0   \n",
       "13                                       Dreamfields         0.0         0.0   \n",
       "14                                  E&J Distributors         0.0         0.0   \n",
       "15                                 EDIBLES LIST, LLC         0.0         0.0   \n",
       "16                                  Equity Trade INC         0.0         0.0   \n",
       "17                           Four Star Manufacturing         0.0         0.0   \n",
       "18                 Golden State Recycling Collective         0.0         0.0   \n",
       "19                           Green Dragon Caregivers         0.0         0.0   \n",
       "20                   Greenfield Organix dba Loudpack         0.0         0.0   \n",
       "21                                       Hedisyn LLC         0.0         0.0   \n",
       "22                                             Herbl         0.0         0.0   \n",
       "23                              Ironworks Collective         0.0         0.0   \n",
       "24                                Irrational Raccoon         0.0         0.0   \n",
       "25                                        Kind House         0.0         0.0   \n",
       "26                              Kiva Sales & Service         0.0         0.0   \n",
       "27                                  LL Products, Inc         0.0         0.0   \n",
       "28                                        Left Coast         0.0         0.0   \n",
       "29                                      Liquid Shade         0.0         0.0   \n",
       "30                    Mammoth Distro (Heavy Hitters)         0.0         0.0   \n",
       "31                                      Michael Toth         0.0         0.0   \n",
       "32                                 NW Confections CA         0.0         0.0   \n",
       "33                                            Nabis          0.0         0.0   \n",
       "34                     NorCal Distribution Solutions         0.0         0.0   \n",
       "35              ODYSSEY AGRICULTURAL DEVELOPMENT LLC         0.0         0.0   \n",
       "36                         PURPLE STAR MD COLLECTIVE         0.0         0.0   \n",
       "37                              Proof Operations Inc         0.0         0.0   \n",
       "38                                         RJRC, LLC         0.0         0.0   \n",
       "39                    River Distribution (Continuum)         0.0         0.0   \n",
       "40                                     Royal Key LLC         0.0         0.0   \n",
       "41                                     SD Pantry Inc         0.0         0.0   \n",
       "42                                       Seed 2 Soul         0.0         0.0   \n",
       "43                      Shield Management Group, LLC         0.0         0.0   \n",
       "44                                       Sunderstorm         0.0         0.0   \n",
       "45                           The Hive Laboratory LLC         0.0         0.0   \n",
       "46                            Trusty Transportations         0.0         0.0   \n",
       "47                                          WCC MGMT         0.0         0.0   \n",
       "48                                       Wonderbread         0.0         0.0   \n",
       "\n",
       "year_month  2021-03-01  2021-04-01  2021-05-01  2021-06-01  2021-07-01  \\\n",
       "0                  0.0         0.0         0.0         0.0         0.0   \n",
       "1                  0.0         0.0         0.0         0.0         0.0   \n",
       "2                  0.0         0.0         0.0         0.0         0.0   \n",
       "3                  0.0         0.0         0.0         0.0         0.0   \n",
       "4                  0.0         0.0         0.0         0.0         0.0   \n",
       "5                  0.0         0.0         0.0         0.0         0.0   \n",
       "6                  0.0         0.0         0.0         0.0         0.0   \n",
       "7                  0.0         0.0         0.0         0.0         0.0   \n",
       "8                  0.0         0.0         0.0         0.0         0.0   \n",
       "9                  0.0         0.0         0.0         0.0         0.0   \n",
       "10                 0.0         0.0         0.0         0.0         0.0   \n",
       "11                 0.0         0.0         0.0         0.0         0.0   \n",
       "12                 0.0         0.0         0.0         0.0         0.0   \n",
       "13                 0.0         0.0         0.0         0.0         0.0   \n",
       "14                 0.0         0.0         0.0         0.0         0.0   \n",
       "15                 0.0         0.0         0.0         0.0         0.0   \n",
       "16                 0.0         0.0         0.0         0.0         0.0   \n",
       "17                 0.0         0.0         0.0         0.0         0.0   \n",
       "18                 0.0         0.0         0.0         0.0         0.0   \n",
       "19                 0.0         0.0         0.0         0.0         0.0   \n",
       "20                 0.0         0.0         0.0         0.0         0.0   \n",
       "21                 0.0         0.0         0.0         0.0         0.0   \n",
       "22                 0.0         0.0         0.0         0.0         0.0   \n",
       "23                 0.0         0.0         0.0         0.0         0.0   \n",
       "24                 0.0         0.0         0.0         0.0         0.0   \n",
       "25                 0.0         0.0         0.0         0.0         0.0   \n",
       "26                 0.0         0.0         0.0         0.0         0.0   \n",
       "27                 0.0         0.0         0.0         0.0         0.0   \n",
       "28                 0.0         0.0         0.0         0.0         0.0   \n",
       "29                 0.0         0.0         0.0         0.0         0.0   \n",
       "30                 0.0         0.0         0.0         0.0         0.0   \n",
       "31                 0.0         0.0         0.0         0.0         0.0   \n",
       "32                 0.0         0.0         0.0         0.0         0.0   \n",
       "33                 0.0         0.0         0.0         0.0         0.0   \n",
       "34                 0.0         0.0         0.0         0.0         0.0   \n",
       "35                 0.0         0.0         0.0         0.0         0.0   \n",
       "36                 0.0         0.0         0.0         0.0         0.0   \n",
       "37                 0.0         0.0         0.0         0.0         0.0   \n",
       "38                 0.0         0.0         0.0         0.0         0.0   \n",
       "39                 0.0         0.0         0.0         0.0         0.0   \n",
       "40                 0.0         0.0         0.0         0.0         0.0   \n",
       "41                 0.0         0.0         0.0         0.0         0.0   \n",
       "42                 0.0         0.0         0.0         0.0         0.0   \n",
       "43                 0.0         0.0         0.0         0.0         0.0   \n",
       "44                 0.0         0.0         0.0         0.0         0.0   \n",
       "45                 0.0         0.0         0.0         0.0         0.0   \n",
       "46                 0.0         0.0         0.0         0.0         0.0   \n",
       "47                 0.0         0.0         0.0         0.0         0.0   \n",
       "48                 0.0         0.0         0.0         0.0         0.0   \n",
       "\n",
       "year_month  2021-08-01  2021-09-01  2021-10-01  2021-11-01  2021-12-01  \\\n",
       "0                  0.0         0.0         0.0         0.0         0.0   \n",
       "1                  0.0         0.0         0.0         0.0         0.0   \n",
       "2                  0.0         0.0         0.0         0.0         0.0   \n",
       "3                  0.0         0.0         0.0         0.0         0.0   \n",
       "4                  0.0         0.0         0.0         0.0         0.0   \n",
       "5                  0.0         0.0         0.0         0.0         0.0   \n",
       "6                  0.0         0.0         0.0         0.0         0.0   \n",
       "7                  0.0         0.0         0.0         0.0         0.0   \n",
       "8                  0.0         0.0         0.0         0.0         0.0   \n",
       "9                  0.0         0.0         0.0         0.0         0.0   \n",
       "10                 0.0         0.0         0.0         0.0         0.0   \n",
       "11                 0.0         0.0         0.0         0.0         0.0   \n",
       "12                 0.0         0.0         0.0         0.0         0.0   \n",
       "13                 0.0         0.0         0.0         0.0         0.0   \n",
       "14                 0.0         0.0         0.0         0.0         0.0   \n",
       "15                 0.0         0.0         0.0         0.0         0.0   \n",
       "16                 0.0         0.0         0.0         0.0         0.0   \n",
       "17                 0.0         0.0         0.0         0.0         0.0   \n",
       "18                 0.0         0.0         0.0         0.0         0.0   \n",
       "19                 0.0         0.0         0.0         0.0         0.0   \n",
       "20                 0.0         0.0         0.0         0.0         0.0   \n",
       "21                 0.0         0.0         0.0         0.0         0.0   \n",
       "22                 0.0         0.0         0.0         0.0         0.0   \n",
       "23                 0.0         0.0         0.0         0.0         0.0   \n",
       "24                 0.0         0.0         0.0         0.0         0.0   \n",
       "25                 0.0         0.0         0.0         0.0         0.0   \n",
       "26                 0.0         0.0         0.0         0.0         0.0   \n",
       "27                 0.0         0.0         0.0         0.0         0.0   \n",
       "28                 0.0         0.0         0.0         0.0         0.0   \n",
       "29                 0.0         0.0         0.0         0.0         0.0   \n",
       "30                 0.0         0.0         0.0         0.0         0.0   \n",
       "31                 0.0         0.0         0.0         0.0         0.0   \n",
       "32                 0.0         0.0         0.0         0.0         0.0   \n",
       "33                 0.0         0.0         0.0         0.0         0.0   \n",
       "34                 0.0         0.0         0.0         0.0         0.0   \n",
       "35                 0.0         0.0         0.0         0.0         0.0   \n",
       "36                 0.0         0.0         0.0         0.0         0.0   \n",
       "37                 0.0         0.0         0.0         0.0         0.0   \n",
       "38                 0.0         0.0         0.0         0.0         0.0   \n",
       "39                 0.0         0.0         0.0         0.0         0.0   \n",
       "40                 0.0         0.0         0.0         0.0         0.0   \n",
       "41                 0.0         0.0         0.0         0.0         0.0   \n",
       "42                 0.0         0.0         0.0         0.0         0.0   \n",
       "43                 0.0         0.0         0.0         0.0         0.0   \n",
       "44                 0.0         0.0         0.0         0.0         0.0   \n",
       "45                 0.0         0.0         0.0         0.0         0.0   \n",
       "46                 0.0         0.0         0.0         0.0         0.0   \n",
       "47                 0.0         0.0         0.0         0.0         0.0   \n",
       "48                 0.0         0.0         0.0         0.0         0.0   \n",
       "\n",
       "year_month  2022-01-01  2022-02-01  2022-03-01  2022-04-01  2022-05-01  \\\n",
       "0                  0.0         0.0         0.0         0.0         0.0   \n",
       "1                  0.0         0.0         0.0         0.0         0.0   \n",
       "2                  0.0         0.0         0.0         0.0         0.0   \n",
       "3                  0.0         0.0         0.0         0.0         0.0   \n",
       "4                  0.0         0.0         0.0         0.0         0.0   \n",
       "5                  0.0         0.0         0.0         0.0         0.0   \n",
       "6                  0.0         0.0         0.0         0.0         0.0   \n",
       "7                  0.0         0.0         0.0         0.0         0.0   \n",
       "8                  0.0         0.0         0.0         0.0         0.0   \n",
       "9                  0.0         0.0         0.0         0.0         0.0   \n",
       "10                 0.0         0.0         0.0         0.0         0.0   \n",
       "11                 0.0         0.0         0.0         0.0         0.0   \n",
       "12                 0.0         0.0         0.0         0.0         0.0   \n",
       "13                 0.0         0.0         0.0         0.0         0.0   \n",
       "14                 0.0         0.0         0.0         0.0         0.0   \n",
       "15                 0.0         0.0         0.0         0.0         0.0   \n",
       "16                 0.0         0.0         0.0         0.0         0.0   \n",
       "17                 0.0         0.0         0.0         0.0         0.0   \n",
       "18                 0.0         0.0         0.0         0.0         0.0   \n",
       "19                 0.0         0.0         0.0         0.0         0.0   \n",
       "20                 0.0         0.0         0.0         0.0         0.0   \n",
       "21                 0.0         0.0         0.0         0.0         0.0   \n",
       "22                 0.0         0.0         0.0         0.0         0.0   \n",
       "23                 0.0         0.0         0.0         0.0         0.0   \n",
       "24                 0.0         0.0         0.0         0.0         0.0   \n",
       "25                 0.0         0.0         0.0         0.0         0.0   \n",
       "26                 0.0         0.0         0.0         0.0         0.0   \n",
       "27                 0.0         0.0         0.0         0.0         0.0   \n",
       "28                 0.0         0.0         0.0         0.0         0.0   \n",
       "29                 0.0         0.0         0.0         0.0         0.0   \n",
       "30                 0.0         0.0         0.0         0.0         0.0   \n",
       "31                 0.0         0.0         0.0         0.0         0.0   \n",
       "32                 0.0         0.0         0.0         0.0         0.0   \n",
       "33                 0.0         0.0         0.0         0.0         0.0   \n",
       "34                 0.0         0.0         0.0         0.0         0.0   \n",
       "35                 0.0         0.0         0.0         0.0         0.0   \n",
       "36                 0.0         0.0         0.0         0.0         0.0   \n",
       "37                 0.0         0.0         0.0         0.0         0.0   \n",
       "38                 0.0         0.0         0.0         0.0         0.0   \n",
       "39                 0.0         0.0         0.0         0.0         0.0   \n",
       "40                 0.0         0.0         0.0         0.0         0.0   \n",
       "41                 0.0         0.0         0.0         0.0         0.0   \n",
       "42                 0.0         0.0         0.0         0.0         0.0   \n",
       "43                 0.0         0.0         0.0         0.0         0.0   \n",
       "44                 0.0         0.0         0.0         0.0         0.0   \n",
       "45                 0.0         0.0         0.0         0.0         0.0   \n",
       "46                 0.0         0.0         0.0         0.0         0.0   \n",
       "47                 0.0         0.0         0.0         0.0         0.0   \n",
       "48                 0.0         0.0         0.0         0.0         0.0   \n",
       "\n",
       "year_month  2022-06-01  2022-07-01  2022-08-01  2022-09-01  2022-10-01  \\\n",
       "0                  0.0        0.00    10198.47        0.00        0.00   \n",
       "1                  0.0     5228.24     2498.53     6161.78        0.00   \n",
       "2                  0.0        0.00    16384.81    21538.12    20455.64   \n",
       "3                  0.0        0.00        0.00        0.00        0.00   \n",
       "4                  0.0        0.00    13192.75     6784.36        0.00   \n",
       "5                  0.0        0.00        0.00        0.00        0.00   \n",
       "6                  0.0     1296.48     2162.16     3133.68        0.00   \n",
       "7                  0.0    26574.92    39945.66     7339.30     8833.31   \n",
       "8                  0.0     4255.35     9811.72        0.00    16052.77   \n",
       "9                  0.0    47582.36   108070.59    40585.25    59602.58   \n",
       "10                 0.0        0.00        0.00        0.00        0.00   \n",
       "11                 0.0        0.00        0.00        0.00        0.00   \n",
       "12                 0.0        0.00        0.00        0.00        0.00   \n",
       "13                 0.0    54734.25    79603.15   131982.00    39053.71   \n",
       "14                 0.0      864.00     2880.00     3240.00     2880.00   \n",
       "15                 0.0        0.00        0.00        0.00        0.00   \n",
       "16                 0.0     2406.50     7136.00        0.00        0.00   \n",
       "17                 0.0        0.00        0.00    11452.84        0.00   \n",
       "18                 0.0        0.00        0.00        0.00        0.00   \n",
       "19                 0.0        0.00        0.00        0.00        0.00   \n",
       "20                 0.0    33998.22    15412.00    11584.00        0.00   \n",
       "21                 0.0        0.00        0.00        0.00        0.00   \n",
       "22                 0.0   137751.21   160827.74    50968.56    46144.95   \n",
       "23                 0.0    40514.50   108535.40    87035.00    80900.00   \n",
       "24                 0.0        0.00        0.00     6295.67        0.00   \n",
       "25                 0.0        0.00        0.00        0.00        0.00   \n",
       "26                 0.0    56528.24    60757.74    59839.42    20774.03   \n",
       "27                 0.0      800.50        0.00     2405.25        0.00   \n",
       "28                 0.0        0.00        0.00     7841.90        0.00   \n",
       "29                 0.0        0.00    15456.95        0.00      576.24   \n",
       "30                 0.0    88750.52   117489.73    60574.29   116296.89   \n",
       "31                 0.0        0.00        0.00        0.00        0.00   \n",
       "32                 0.0    26221.54      560.55    12401.25     6000.60   \n",
       "33                 0.0    56422.72   138614.17    66448.06    93603.74   \n",
       "34                 0.0    52356.43    37507.56    41477.68    37786.94   \n",
       "35                 0.0        0.00        0.00        0.00        0.00   \n",
       "36                 0.0        0.00        0.00        0.00        0.00   \n",
       "37                 0.0        0.00        0.00        0.00     2250.10   \n",
       "38                 0.0        0.00        0.00        0.00        0.00   \n",
       "39                 0.0     9756.01    31199.00        0.00    34035.00   \n",
       "40                 0.0        0.00        0.00     2816.00        0.00   \n",
       "41                 0.0        0.00        0.00        0.00        0.00   \n",
       "42                 0.0        0.00        0.00        0.00        0.00   \n",
       "43                 0.0        0.00        0.00        0.00        0.00   \n",
       "44                 0.0     4894.40    17251.30        0.00        0.00   \n",
       "45                 0.0     2952.00     2808.48        0.00     2736.00   \n",
       "46                 0.0        0.00    10493.00        0.00        0.00   \n",
       "47                 0.0        0.00    18951.57    12900.02    23391.51   \n",
       "48                 0.0        0.00        0.00     4609.84     6176.65   \n",
       "\n",
       "year_month  2022-11-01  2022-12-01  facility_total  grand_total  perc_total  \\\n",
       "0                 0.00        0.00        10198.47   4414083.21    0.002310   \n",
       "1                 0.00        0.00        13888.55   4414083.21    0.003146   \n",
       "2                 0.00    25084.04        83462.61   4414083.21    0.018908   \n",
       "3                 0.00        0.00            0.00   4414083.21    0.000000   \n",
       "4              1750.02     1727.07        23454.20   4414083.21    0.005313   \n",
       "5                 0.00        0.00            0.00   4414083.21    0.000000   \n",
       "6                 0.00        0.00         6592.32   4414083.21    0.001493   \n",
       "7             30973.70        0.00       113666.89   4414083.21    0.025751   \n",
       "8              8142.85    13785.00        52047.69   4414083.21    0.011791   \n",
       "9             26099.08    47631.95       329571.81   4414083.21    0.074664   \n",
       "10             3948.01        0.00         3948.01   4414083.21    0.000894   \n",
       "11                0.00        0.00            0.00   4414083.21    0.000000   \n",
       "12             1938.68        0.00         1938.68   4414083.21    0.000439   \n",
       "13            76742.49    76285.11       458400.71   4414083.21    0.103850   \n",
       "14             3600.00        0.00        13464.00   4414083.21    0.003050   \n",
       "15                0.00        0.00            0.00   4414083.21    0.000000   \n",
       "16                0.00     7600.00        17142.50   4414083.21    0.003884   \n",
       "17            15141.14     9924.64        36518.62   4414083.21    0.008273   \n",
       "18             2810.00        0.00         2810.00   4414083.21    0.000637   \n",
       "19                0.00        0.00            0.00   4414083.21    0.000000   \n",
       "20                0.00        0.00        60994.22   4414083.21    0.013818   \n",
       "21                0.00        0.00            0.00   4414083.21    0.000000   \n",
       "22            57715.72   101886.38       555294.56   4414083.21    0.125801   \n",
       "23            60156.00    45888.50       423029.40   4414083.21    0.095836   \n",
       "24                0.00        0.00         6295.67   4414083.21    0.001426   \n",
       "25             8350.60     6373.50        14724.10   4414083.21    0.003336   \n",
       "26            80330.66    78786.88       357016.97   4414083.21    0.080881   \n",
       "27                0.00        0.00         3205.75   4414083.21    0.000726   \n",
       "28            10080.00     5041.20        22963.10   4414083.21    0.005202   \n",
       "29                0.00    10262.21        26295.40   4414083.21    0.005957   \n",
       "30           142652.09   164289.11       690052.63   4414083.21    0.156330   \n",
       "31                0.00        0.00            0.00   4414083.21    0.000000   \n",
       "32             4120.30    18442.31        67746.55   4414083.21    0.015348   \n",
       "33            22462.39    65526.99       443078.07   4414083.21    0.100378   \n",
       "34            70143.12    42598.80       281870.53   4414083.21    0.063857   \n",
       "35             1664.27     4992.02         6656.29   4414083.21    0.001508   \n",
       "36                0.00        0.00            0.00   4414083.21    0.000000   \n",
       "37                0.00        0.00         2250.10   4414083.21    0.000510   \n",
       "38                0.00        0.00            0.00   4414083.21    0.000000   \n",
       "39            12938.00    20415.00       108343.01   4414083.21    0.024545   \n",
       "40                0.00        0.00         2816.00   4414083.21    0.000638   \n",
       "41              920.00        0.00          920.00   4414083.21    0.000208   \n",
       "42                0.00        0.00            0.00   4414083.21    0.000000   \n",
       "43                0.00        0.00            0.00   4414083.21    0.000000   \n",
       "44             6475.15     1830.00        30450.85   4414083.21    0.006899   \n",
       "45             4080.93        0.00        12577.41   4414083.21    0.002849   \n",
       "46             2538.30        0.00        13031.30   4414083.21    0.002952   \n",
       "47            16006.26    35330.39       106579.75   4414083.21    0.024145   \n",
       "48                0.00        0.00        10786.49   4414083.21    0.002444   \n",
       "\n",
       "year_month  last_4m_total  last_4m_active  significant   measure company  \\\n",
       "0                    0.00           False         True  Inactive     EMB   \n",
       "1                    0.00           False         True  Inactive     EMB   \n",
       "2                25084.04            True         True    Active     EMB   \n",
       "3                    0.00           False        False   Exclude     EMB   \n",
       "4                 3477.09            True         True    Active     EMB   \n",
       "5                    0.00           False        False   Exclude     EMB   \n",
       "6                    0.00           False         True  Inactive     EMB   \n",
       "7                30973.70            True         True    Active     EMB   \n",
       "8                21927.85            True         True    Active     EMB   \n",
       "9                73731.03            True         True    Active     EMB   \n",
       "10                3948.01            True        False   Exclude     EMB   \n",
       "11                   0.00           False        False   Exclude     EMB   \n",
       "12                1938.68            True        False   Exclude     EMB   \n",
       "13              153027.60            True         True    Active     EMB   \n",
       "14                3600.00            True         True    Active     EMB   \n",
       "15                   0.00           False        False   Exclude     EMB   \n",
       "16                7600.00            True         True    Active     EMB   \n",
       "17               25065.78            True         True    Active     EMB   \n",
       "18                2810.00            True        False   Exclude     EMB   \n",
       "19                   0.00           False        False   Exclude     EMB   \n",
       "20                   0.00           False         True  Inactive     EMB   \n",
       "21                   0.00           False        False   Exclude     EMB   \n",
       "22              159602.10            True         True    Active     EMB   \n",
       "23              106044.50            True         True    Active     EMB   \n",
       "24                   0.00           False         True  Inactive     EMB   \n",
       "25               14724.10            True         True    Active     EMB   \n",
       "26              159117.54            True         True    Active     EMB   \n",
       "27                   0.00           False        False   Exclude     EMB   \n",
       "28               15121.20            True         True    Active     EMB   \n",
       "29               10262.21            True         True    Active     EMB   \n",
       "30              306941.20            True         True    Active     EMB   \n",
       "31                   0.00           False        False   Exclude     EMB   \n",
       "32               22562.61            True         True    Active     EMB   \n",
       "33               87989.38            True         True    Active     EMB   \n",
       "34              112741.92            True         True    Active     EMB   \n",
       "35                6656.29            True         True    Active     EMB   \n",
       "36                   0.00           False        False   Exclude     EMB   \n",
       "37                   0.00           False        False   Exclude     EMB   \n",
       "38                   0.00           False        False   Exclude     EMB   \n",
       "39               33353.00            True         True    Active     EMB   \n",
       "40                   0.00           False        False   Exclude     EMB   \n",
       "41                 920.00            True        False   Exclude     EMB   \n",
       "42                   0.00           False        False   Exclude     EMB   \n",
       "43                   0.00           False        False   Exclude     EMB   \n",
       "44                8305.15            True         True    Active     EMB   \n",
       "45                4080.93            True         True    Active     EMB   \n",
       "46                2538.30            True         True    Active     EMB   \n",
       "47               51336.65            True         True    Active     EMB   \n",
       "48                   0.00           False         True  Inactive     EMB   \n",
       "\n",
       "year_month         location  \n",
       "0           C10-0001096-LIC  \n",
       "1           C10-0001096-LIC  \n",
       "2           C10-0001096-LIC  \n",
       "3           C10-0001096-LIC  \n",
       "4           C10-0001096-LIC  \n",
       "5           C10-0001096-LIC  \n",
       "6           C10-0001096-LIC  \n",
       "7           C10-0001096-LIC  \n",
       "8           C10-0001096-LIC  \n",
       "9           C10-0001096-LIC  \n",
       "10          C10-0001096-LIC  \n",
       "11          C10-0001096-LIC  \n",
       "12          C10-0001096-LIC  \n",
       "13          C10-0001096-LIC  \n",
       "14          C10-0001096-LIC  \n",
       "15          C10-0001096-LIC  \n",
       "16          C10-0001096-LIC  \n",
       "17          C10-0001096-LIC  \n",
       "18          C10-0001096-LIC  \n",
       "19          C10-0001096-LIC  \n",
       "20          C10-0001096-LIC  \n",
       "21          C10-0001096-LIC  \n",
       "22          C10-0001096-LIC  \n",
       "23          C10-0001096-LIC  \n",
       "24          C10-0001096-LIC  \n",
       "25          C10-0001096-LIC  \n",
       "26          C10-0001096-LIC  \n",
       "27          C10-0001096-LIC  \n",
       "28          C10-0001096-LIC  \n",
       "29          C10-0001096-LIC  \n",
       "30          C10-0001096-LIC  \n",
       "31          C10-0001096-LIC  \n",
       "32          C10-0001096-LIC  \n",
       "33          C10-0001096-LIC  \n",
       "34          C10-0001096-LIC  \n",
       "35          C10-0001096-LIC  \n",
       "36          C10-0001096-LIC  \n",
       "37          C10-0001096-LIC  \n",
       "38          C10-0001096-LIC  \n",
       "39          C10-0001096-LIC  \n",
       "40          C10-0001096-LIC  \n",
       "41          C10-0001096-LIC  \n",
       "42          C10-0001096-LIC  \n",
       "43          C10-0001096-LIC  \n",
       "44          C10-0001096-LIC  \n",
       "45          C10-0001096-LIC  \n",
       "46          C10-0001096-LIC  \n",
       "47          C10-0001096-LIC  \n",
       "48          C10-0001096-LIC  "
      ]
     },
     "execution_count": 67,
     "metadata": {},
     "output_type": "execute_result"
    }
   ],
   "source": [
    "df_vc_2[(df_vc_2['location'] == 'C10-0001096-LIC')]\n"
   ]
  },
  {
   "cell_type": "code",
   "execution_count": 68,
   "id": "7cb6ec8b",
   "metadata": {},
   "outputs": [
    {
     "data": {
      "text/html": [
       "<div>\n",
       "<style scoped>\n",
       "    .dataframe tbody tr th:only-of-type {\n",
       "        vertical-align: middle;\n",
       "    }\n",
       "\n",
       "    .dataframe tbody tr th {\n",
       "        vertical-align: top;\n",
       "    }\n",
       "\n",
       "    .dataframe thead th {\n",
       "        text-align: right;\n",
       "    }\n",
       "</style>\n",
       "<table border=\"1\" class=\"dataframe\">\n",
       "  <thead>\n",
       "    <tr style=\"text-align: right;\">\n",
       "      <th>year_month</th>\n",
       "      <th>shipper_parent_name</th>\n",
       "      <th>perc_total</th>\n",
       "    </tr>\n",
       "  </thead>\n",
       "  <tbody>\n",
       "    <tr>\n",
       "      <th>20</th>\n",
       "      <td>Greenfield Organix dba Loudpack</td>\n",
       "      <td>0.013818</td>\n",
       "    </tr>\n",
       "    <tr>\n",
       "      <th>24</th>\n",
       "      <td>Irrational Raccoon</td>\n",
       "      <td>0.001426</td>\n",
       "    </tr>\n",
       "    <tr>\n",
       "      <th>48</th>\n",
       "      <td>Wonderbread</td>\n",
       "      <td>0.002444</td>\n",
       "    </tr>\n",
       "  </tbody>\n",
       "</table>\n",
       "</div>"
      ],
      "text/plain": [
       "year_month              shipper_parent_name  perc_total\n",
       "20          Greenfield Organix dba Loudpack    0.013818\n",
       "24                       Irrational Raccoon    0.001426\n",
       "48                              Wonderbread    0.002444"
      ]
     },
     "execution_count": 68,
     "metadata": {},
     "output_type": "execute_result"
    }
   ],
   "source": [
    "df_vc_2[(df_vc_2['location'] == 'C10-0001096-LIC')&\\\n",
    "        (df_vc_2['measure'] == 'Inactive')&\\\n",
    "        (df_vc_2['shipper_parent_name'].isin(list(tier_a_vendor)))][['shipper_parent_name','perc_total']]                                                                                     \n",
    "                                                                                       \n",
    "                                                                                       "
   ]
  },
  {
   "cell_type": "code",
   "execution_count": null,
   "id": "9c4ca0aa",
   "metadata": {},
   "outputs": [],
   "source": [
    "# num_inactive_2m_list = {}\n",
    "# num_inactive_4m_list = {}\n",
    "# for c in df_vc_state_2['location'].unique():\n",
    "#     vc_c = df_vc_state_2[df_vc_state_2['location'] == c]\n",
    "#     num_inactive_2m = vc_c[vc_c['measure'] == 'Inactive'].shape[0]\n",
    "#     num_inactive_4m = vc_c[(vc_c['measure'] == 'Inactive')&(vc_c['inactive_4m'] == False)].shape[0]\n",
    "#     num_inactive_2m_list[c] = num_inactive_2m\n",
    "#     num_inactive_4m_list[c] = num_inactive_4m\n",
    "    "
   ]
  },
  {
   "cell_type": "code",
   "execution_count": null,
   "id": "3faf7739",
   "metadata": {},
   "outputs": [],
   "source": [
    "# num_inactive_2m_df = pd.DataFrame.from_dict(num_inactive_2m_list,orient ='index').reset_index()\n",
    "# num_inactive_4m_df = pd.DataFrame.from_dict(num_inactive_4m_list,orient ='index').reset_index()\n",
    "\n",
    "# #merge\n",
    "# num_inactive_backtest_df = num_inactive_2m_df.merge(num_inactive_4m_df,how = 'left',on = 'index')\n",
    "\n",
    "# # col names\n",
    "# num_inactive_backtest_df.columns = ['license','num_churn_2m','num_not_churn_4m']\n",
    "# # join with id\n",
    "# num_inactive_backtest_df = num_inactive_backtest_df.merge(ca_df_clean_ex[['lic_list','company_identifier']],\\\n",
    "#                                      how = 'left',left_on = 'license',right_on = 'lic_list')"
   ]
  },
  {
   "cell_type": "code",
   "execution_count": null,
   "id": "da641e12",
   "metadata": {},
   "outputs": [],
   "source": [
    "#num_inactive_backtest_df.to_csv('num_inactive_backtest_df_dec.csv')\n"
   ]
  },
  {
   "cell_type": "markdown",
   "id": "413adb4d",
   "metadata": {},
   "source": [
    "# tiering analysis"
   ]
  },
  {
   "cell_type": "code",
   "execution_count": 69,
   "id": "cc613361",
   "metadata": {},
   "outputs": [],
   "source": [
    "tier_a_vendor = set(['Herbl',\n",
    "'River Distribution (Continuum)',\n",
    "'Dreamfields',\n",
    "'Kiva Sales & Service',\n",
    "'Mammoth Distro (Heavy Hitters)',\n",
    "'Artisan Canna Cigars',\n",
    "'NW Confections CA',\n",
    "'Four Star Manufacturing',\n",
    "'Kind House',\n",
    "'Falcon',\n",
    "'Cypress Manufacturing Co',\n",
    "'Irrational Raccoon',\n",
    "'Nabis',\n",
    "'Ironworks Collective',\n",
    "'Claybourne Industries',\n",
    "'Umbrla',\n",
    "'Catalyst',\n",
    "'Grizzly Peak Farms',\n",
    "'Growpacker',\n",
    "'1346 LA LLC',\n",
    "'Papa and Barkley',\n",
    "'Mvn productions',\n",
    "'Wonderbread',\n",
    "'New Age Care Center',\n",
    "'NorCal Distribution Solutions',\n",
    "'Greenfield Organix dba Loudpack',\n",
    "'HGDCO Inc',\n",
    "'Green Dragon Caregivers',\n",
    "'Cali Flwr',\n",
    "'Perfect Union'])"
   ]
  },
  {
   "cell_type": "code",
   "execution_count": null,
   "id": "be94e991",
   "metadata": {},
   "outputs": [],
   "source": [
    "# tier_b_vendor = set(['New Age Care Center',\n",
    "# 'NorCal Distribution Solutions',\n",
    "# 'Greenfield Organix dba Loudpack',\n",
    "# 'HGDCO Inc',\n",
    "# 'PRUSSIAN STICKS LLC',\n",
    "# 'Mammoth Distro (Heavy Hitters)',\n",
    "# 'MDS BUSINESS SERVICES LLC',\n",
    "# 'Perfect Union',\n",
    "# 'PRUSSIAN STICKS LLC',\n",
    "# 'UpNorth Humboldt',\n",
    "# 'Connected Cannabis Co',\n",
    "# 'Standard Holdings',\n",
    "# 'Hypeereon Corporation',\n",
    "# 'Herbarium',\n",
    "# 'Big Tree Industries',\n",
    "# 'Wonderbread',\n",
    "# 'Cypress Manufacturing Co',\n",
    "# 'HERBAL REMEDIES CAREGIVERS INC.',\n",
    "# 'Good Tree',\n",
    "# 'Ten Point Marketing LLC'])"
   ]
  },
  {
   "cell_type": "code",
   "execution_count": null,
   "id": "fba0e799",
   "metadata": {},
   "outputs": [],
   "source": [
    "# tier_c_vendor = set(['E&J Distributors',\n",
    "# 'VARAVO',\n",
    "# 'Coastal Distribution',\n",
    "# 'Melrose Facility',\n",
    "# 'Palm Desert Melanie Place Industrial',\n",
    "# 'ASV EQ 1 LLC Dba 710 Labs',\n",
    "# 'Aureus DHS',\n",
    "# 'WCC MGMT',\n",
    "# 'Pacific West Distributors',\n",
    "# 'Liquid Shade'])"
   ]
  },
  {
   "cell_type": "code",
   "execution_count": 70,
   "id": "b63a5aa3",
   "metadata": {},
   "outputs": [
    {
     "name": "stdout",
     "output_type": "stream",
     "text": [
      "['64HM']\n",
      "['99HT']\n",
      "['AGA']\n",
      "['BYN']\n",
      "['CAT']\n",
      "['CAT']\n",
      "['CAT']\n",
      "['CAT']\n",
      "['CAT']\n",
      "['CAT']\n",
      "['CAT']\n",
      "['CAT']\n",
      "['CAT']\n",
      "['CAT']\n",
      "['CAT']\n",
      "['CAT']\n",
      "['CAT']\n",
      "['CC']\n",
      "['CCC']\n",
      "['CE']\n",
      "['CLC']\n",
      "['CPA']\n",
      "['CPA']\n",
      "['CRRH']\n",
      "['CSC']\n",
      "['CSCC']\n",
      "['DGG']\n",
      "['EL']\n",
      "['EMA']\n",
      "['EMB']\n",
      "['EMF']\n",
      "['EMM']\n",
      "['EMS']\n",
      "['EMT']\n",
      "['EPC']\n",
      "['FD']\n",
      "['FI']\n",
      "['FI']\n",
      "['FI']\n",
      "['GDN']\n",
      "['GDS']\n",
      "['GFEE']\n",
      "C10-0000224-LIC\n",
      "['GFWF']\n",
      "['GHC']\n",
      "['GL']\n",
      "['GT']\n",
      "C9-0000385-LIC\n",
      "['GTC']\n",
      "['HB']\n",
      "['HB']\n",
      "['HGD']\n",
      "['HPCC']\n",
      "['HPCC']\n",
      "['HS']\n",
      "['ID']\n",
      "['IDC']\n",
      "['LBC']\n",
      "['MD']\n",
      "['ML']\n",
      "['MPW']\n",
      "['MR']\n",
      "['MSS']\n",
      "['MW']\n",
      "['NCDS']\n",
      "['NCDS']\n",
      "['PCC']\n",
      "['PL']\n",
      "['PL']\n",
      "['PRL']\n",
      "PC-000381\n",
      "['PRL']\n",
      "['PRL']\n",
      "AU-R-000739\n",
      "['PWD']\n",
      "['RDR']\n",
      "['RGD']\n",
      "['SFV']\n",
      "['SGF']\n",
      "['SLCC']\n",
      "['ST']\n",
      "['T4L']\n",
      "['TGL']\n",
      "['TJR']\n",
      "['TT']\n",
      "['UHHC']\n",
      "['UHHC']\n",
      "['VOY']\n",
      "['WCCC']\n",
      "['WCCC']\n",
      "['WCCC']\n"
     ]
    }
   ],
   "source": [
    "churn_a_list_2 = {}\n",
    "#churn_b_list_2 = {}\n",
    "#churn_c_list_2 = {}\n",
    "total_churn_list_2 = {}\n",
    "purchase_a_list_2 = {}\n",
    "#purchase_b_list_2 = {}\n",
    "#purchase_c_list_2 = {}\n",
    "total_purchase_list_2 = {}\n",
    "\n",
    "for c in df_vc_2['location'].unique():#df_vc_state_2['location'].unique():\n",
    "    vc_c_2 = df_vc_2[df_vc_2['location'] == c]\n",
    "    i = vc_c_2['company'].unique()\n",
    "    print(i)\n",
    "    #churn\n",
    "    total_churn_2 = vc_c_2[vc_c_2['measure'] == 'Inactive']['perc_total'].sum()\n",
    "    total_churn_list_2[c] = total_churn_2\n",
    "    #purchase\n",
    "    total_purchase_2 = vc_c_2['last_4m_total'].sum()\n",
    "    total_purchase_list_2[c] = total_purchase_2\n",
    "    if len(set(vc_c_2['shipper_parent_name'].unique()).intersection(tier_a_vendor)) == 0:\n",
    "        print(c)\n",
    "        churn_df_a_2 = 0\n",
    "        purchase_df_a_2 = 0\n",
    "    else:\n",
    "        #churn\n",
    "        churn_df_a_2 = vc_c_2[(vc_c_2['shipper_parent_name'].isin(list(tier_a_vendor)))&\\\n",
    "                          (vc_c_2['measure'] == 'Inactive')]['perc_total'].sum()\n",
    "#         churn_df_b_2 = vc_c_2[(vc_c_2['shipper_parent_name'].isin(list(tier_b_vendor)))&\\\n",
    "#                           (vc_c_2['measure'] == 'Inactive')]['perc_total'].sum()\n",
    "#         churn_df_c_2 = vc_c_2[(vc_c_2['shipper_parent_name'].isin(list(tier_c_vendor)))&\\\n",
    "#                           (vc_c_2['measure'] == 'Inactive')]['perc_total'].sum()\n",
    "        #purchase\n",
    "        purchase_df_a_2 = vc_c_2[vc_c_2['shipper_parent_name'].isin(list(tier_a_vendor))]['last_4m_total'].sum()\n",
    "#         purchase_df_b_2 = vc_c_2[vc_c_2['shipper_parent_name'].isin(list(tier_b_vendor))]['last_4m_total'].sum()\n",
    "#         purchase_df_c_2 = vc_c_2[vc_c_2['shipper_parent_name'].isin(list(tier_c_vendor))]['last_4m_total'].sum()\n",
    "        \n",
    "    churn_a_list_2[c] = churn_df_a_2\n",
    "#     churn_b_list_2[c] = churn_df_b_2\n",
    "#     churn_c_list_2[c] = churn_df_c_2\n",
    "    purchase_a_list_2[c] = purchase_df_a_2\n",
    "#     purchase_b_list_2[c] = purchase_df_b_2\n",
    "#     purchase_c_list_2[c] = purchase_df_c_2"
   ]
  },
  {
   "cell_type": "code",
   "execution_count": 71,
   "id": "bcecd54c",
   "metadata": {},
   "outputs": [],
   "source": [
    "total_churn_df_2 = pd.DataFrame.from_dict(total_churn_list_2,orient ='index').reset_index()\n",
    "churn_a_df_2 = pd.DataFrame.from_dict(churn_a_list_2,orient ='index').reset_index()\n",
    "# churn_b_df_2 = pd.DataFrame.from_dict(churn_b_list_2,orient ='index').reset_index()\n",
    "# churn_c_df_2 = pd.DataFrame.from_dict(churn_c_list_2,orient ='index').reset_index()\n",
    "\n",
    "# merge\n",
    "vc_backtest_df_2 = total_churn_df_2.merge(churn_a_df_2,how = 'left',on = 'index')\\\n",
    "# .merge(churn_b_df_2,how = 'left',on = 'index')\\\n",
    "# .merge(churn_c_df_2,how = 'left',on = 'index')\n",
    "\n",
    "#column names\n",
    "vc_backtest_df_2.columns = ['license','total','tier_a']\n",
    "# join with id\n",
    "vc_backtest_df_2 = vc_backtest_df_2.merge(ca_df_clean_ex[['lic_list','company_identifier']],\\\n",
    "                                      how = 'left',left_on = 'license',right_on = 'lic_list')"
   ]
  },
  {
   "cell_type": "code",
   "execution_count": 72,
   "id": "183c545d",
   "metadata": {},
   "outputs": [
    {
     "data": {
      "text/html": [
       "<div>\n",
       "<style scoped>\n",
       "    .dataframe tbody tr th:only-of-type {\n",
       "        vertical-align: middle;\n",
       "    }\n",
       "\n",
       "    .dataframe tbody tr th {\n",
       "        vertical-align: top;\n",
       "    }\n",
       "\n",
       "    .dataframe thead th {\n",
       "        text-align: right;\n",
       "    }\n",
       "</style>\n",
       "<table border=\"1\" class=\"dataframe\">\n",
       "  <thead>\n",
       "    <tr style=\"text-align: right;\">\n",
       "      <th></th>\n",
       "      <th>license</th>\n",
       "      <th>total</th>\n",
       "      <th>tier_a</th>\n",
       "      <th>lic_list</th>\n",
       "      <th>company_identifier</th>\n",
       "    </tr>\n",
       "  </thead>\n",
       "  <tbody>\n",
       "    <tr>\n",
       "      <th>41</th>\n",
       "      <td>C10-0000224-LIC</td>\n",
       "      <td>0.013389</td>\n",
       "      <td>0.0</td>\n",
       "      <td>C10-0000224-LIC</td>\n",
       "      <td>GFEE</td>\n",
       "    </tr>\n",
       "  </tbody>\n",
       "</table>\n",
       "</div>"
      ],
      "text/plain": [
       "            license     total  tier_a         lic_list company_identifier\n",
       "41  C10-0000224-LIC  0.013389     0.0  C10-0000224-LIC               GFEE"
      ]
     },
     "execution_count": 72,
     "metadata": {},
     "output_type": "execute_result"
    }
   ],
   "source": [
    "vc_backtest_df_2[vc_backtest_df_2['lic_list'] == 'C10-0000224-LIC']"
   ]
  },
  {
   "cell_type": "code",
   "execution_count": 73,
   "id": "ea947d91",
   "metadata": {},
   "outputs": [
    {
     "data": {
      "text/html": [
       "<div>\n",
       "<style scoped>\n",
       "    .dataframe tbody tr th:only-of-type {\n",
       "        vertical-align: middle;\n",
       "    }\n",
       "\n",
       "    .dataframe tbody tr th {\n",
       "        vertical-align: top;\n",
       "    }\n",
       "\n",
       "    .dataframe thead th {\n",
       "        text-align: right;\n",
       "    }\n",
       "</style>\n",
       "<table border=\"1\" class=\"dataframe\">\n",
       "  <thead>\n",
       "    <tr style=\"text-align: right;\">\n",
       "      <th></th>\n",
       "      <th>license</th>\n",
       "      <th>total</th>\n",
       "      <th>tier_a</th>\n",
       "      <th>lic_list</th>\n",
       "      <th>company_identifier</th>\n",
       "    </tr>\n",
       "  </thead>\n",
       "  <tbody>\n",
       "    <tr>\n",
       "      <th>0</th>\n",
       "      <td>C10-0000922-LIC</td>\n",
       "      <td>0.145886</td>\n",
       "      <td>0.021852</td>\n",
       "      <td>C10-0000922-LIC</td>\n",
       "      <td>64HM</td>\n",
       "    </tr>\n",
       "    <tr>\n",
       "      <th>1</th>\n",
       "      <td>C10-0000279-LIC</td>\n",
       "      <td>0.313852</td>\n",
       "      <td>0.142034</td>\n",
       "      <td>C10-0000279-LIC</td>\n",
       "      <td>99HT</td>\n",
       "    </tr>\n",
       "    <tr>\n",
       "      <th>2</th>\n",
       "      <td>C10-0000341-LIC</td>\n",
       "      <td>0.189144</td>\n",
       "      <td>0.040679</td>\n",
       "      <td>C10-0000341-LIC</td>\n",
       "      <td>AGA</td>\n",
       "    </tr>\n",
       "    <tr>\n",
       "      <th>3</th>\n",
       "      <td>C10-0000528-LIC</td>\n",
       "      <td>0.639914</td>\n",
       "      <td>0.441150</td>\n",
       "      <td>C10-0000528-LIC</td>\n",
       "      <td>BYN</td>\n",
       "    </tr>\n",
       "    <tr>\n",
       "      <th>4</th>\n",
       "      <td>C10-0000364-LIC</td>\n",
       "      <td>0.250277</td>\n",
       "      <td>0.120235</td>\n",
       "      <td>C10-0000364-LIC</td>\n",
       "      <td>CAT</td>\n",
       "    </tr>\n",
       "    <tr>\n",
       "      <th>...</th>\n",
       "      <td>...</td>\n",
       "      <td>...</td>\n",
       "      <td>...</td>\n",
       "      <td>...</td>\n",
       "      <td>...</td>\n",
       "    </tr>\n",
       "    <tr>\n",
       "      <th>82</th>\n",
       "      <td>C9-0000082-LIC</td>\n",
       "      <td>1.000000</td>\n",
       "      <td>0.016034</td>\n",
       "      <td>C9-0000082-LIC</td>\n",
       "      <td>UHHC</td>\n",
       "    </tr>\n",
       "    <tr>\n",
       "      <th>83</th>\n",
       "      <td>C10-0000802-LIC</td>\n",
       "      <td>0.029385</td>\n",
       "      <td>0.009581</td>\n",
       "      <td>C10-0000802-LIC</td>\n",
       "      <td>VOY</td>\n",
       "    </tr>\n",
       "    <tr>\n",
       "      <th>84</th>\n",
       "      <td>C10-0000045-LIC</td>\n",
       "      <td>0.016528</td>\n",
       "      <td>0.009271</td>\n",
       "      <td>C10-0000045-LIC</td>\n",
       "      <td>WCCC</td>\n",
       "    </tr>\n",
       "    <tr>\n",
       "      <th>85</th>\n",
       "      <td>C10-0000372-LIC</td>\n",
       "      <td>0.000000</td>\n",
       "      <td>0.000000</td>\n",
       "      <td>C10-0000372-LIC</td>\n",
       "      <td>WCCC</td>\n",
       "    </tr>\n",
       "    <tr>\n",
       "      <th>86</th>\n",
       "      <td>C12-0000119-LIC</td>\n",
       "      <td>0.228913</td>\n",
       "      <td>0.178574</td>\n",
       "      <td>C12-0000119-LIC</td>\n",
       "      <td>WCCC</td>\n",
       "    </tr>\n",
       "  </tbody>\n",
       "</table>\n",
       "<p>87 rows × 5 columns</p>\n",
       "</div>"
      ],
      "text/plain": [
       "            license     total    tier_a         lic_list company_identifier\n",
       "0   C10-0000922-LIC  0.145886  0.021852  C10-0000922-LIC               64HM\n",
       "1   C10-0000279-LIC  0.313852  0.142034  C10-0000279-LIC               99HT\n",
       "2   C10-0000341-LIC  0.189144  0.040679  C10-0000341-LIC                AGA\n",
       "3   C10-0000528-LIC  0.639914  0.441150  C10-0000528-LIC                BYN\n",
       "4   C10-0000364-LIC  0.250277  0.120235  C10-0000364-LIC                CAT\n",
       "..              ...       ...       ...              ...                ...\n",
       "82   C9-0000082-LIC  1.000000  0.016034   C9-0000082-LIC               UHHC\n",
       "83  C10-0000802-LIC  0.029385  0.009581  C10-0000802-LIC                VOY\n",
       "84  C10-0000045-LIC  0.016528  0.009271  C10-0000045-LIC               WCCC\n",
       "85  C10-0000372-LIC  0.000000  0.000000  C10-0000372-LIC               WCCC\n",
       "86  C12-0000119-LIC  0.228913  0.178574  C12-0000119-LIC               WCCC\n",
       "\n",
       "[87 rows x 5 columns]"
      ]
     },
     "execution_count": 73,
     "metadata": {},
     "output_type": "execute_result"
    }
   ],
   "source": [
    "vc_backtest_df_2"
   ]
  },
  {
   "cell_type": "code",
   "execution_count": 74,
   "id": "ba017d86",
   "metadata": {},
   "outputs": [
    {
     "data": {
      "text/html": [
       "<div>\n",
       "<style scoped>\n",
       "    .dataframe tbody tr th:only-of-type {\n",
       "        vertical-align: middle;\n",
       "    }\n",
       "\n",
       "    .dataframe tbody tr th {\n",
       "        vertical-align: top;\n",
       "    }\n",
       "\n",
       "    .dataframe thead th {\n",
       "        text-align: right;\n",
       "    }\n",
       "</style>\n",
       "<table border=\"1\" class=\"dataframe\">\n",
       "  <thead>\n",
       "    <tr style=\"text-align: right;\">\n",
       "      <th></th>\n",
       "      <th>license</th>\n",
       "      <th>total</th>\n",
       "      <th>tier_a</th>\n",
       "      <th>lic_list</th>\n",
       "      <th>company_identifier</th>\n",
       "      <th>tier_a_perc</th>\n",
       "    </tr>\n",
       "  </thead>\n",
       "  <tbody>\n",
       "    <tr>\n",
       "      <th>0</th>\n",
       "      <td>C10-0000922-LIC</td>\n",
       "      <td>0.145886</td>\n",
       "      <td>0.021852</td>\n",
       "      <td>C10-0000922-LIC</td>\n",
       "      <td>64HM</td>\n",
       "      <td>0.149787</td>\n",
       "    </tr>\n",
       "    <tr>\n",
       "      <th>1</th>\n",
       "      <td>C10-0000279-LIC</td>\n",
       "      <td>0.313852</td>\n",
       "      <td>0.142034</td>\n",
       "      <td>C10-0000279-LIC</td>\n",
       "      <td>99HT</td>\n",
       "      <td>0.452551</td>\n",
       "    </tr>\n",
       "    <tr>\n",
       "      <th>2</th>\n",
       "      <td>C10-0000341-LIC</td>\n",
       "      <td>0.189144</td>\n",
       "      <td>0.040679</td>\n",
       "      <td>C10-0000341-LIC</td>\n",
       "      <td>AGA</td>\n",
       "      <td>0.215068</td>\n",
       "    </tr>\n",
       "    <tr>\n",
       "      <th>3</th>\n",
       "      <td>C10-0000528-LIC</td>\n",
       "      <td>0.639914</td>\n",
       "      <td>0.441150</td>\n",
       "      <td>C10-0000528-LIC</td>\n",
       "      <td>BYN</td>\n",
       "      <td>0.689390</td>\n",
       "    </tr>\n",
       "    <tr>\n",
       "      <th>4</th>\n",
       "      <td>C10-0000364-LIC</td>\n",
       "      <td>0.250277</td>\n",
       "      <td>0.120235</td>\n",
       "      <td>C10-0000364-LIC</td>\n",
       "      <td>CAT</td>\n",
       "      <td>0.480410</td>\n",
       "    </tr>\n",
       "    <tr>\n",
       "      <th>...</th>\n",
       "      <td>...</td>\n",
       "      <td>...</td>\n",
       "      <td>...</td>\n",
       "      <td>...</td>\n",
       "      <td>...</td>\n",
       "      <td>...</td>\n",
       "    </tr>\n",
       "    <tr>\n",
       "      <th>82</th>\n",
       "      <td>C9-0000082-LIC</td>\n",
       "      <td>1.000000</td>\n",
       "      <td>0.016034</td>\n",
       "      <td>C9-0000082-LIC</td>\n",
       "      <td>UHHC</td>\n",
       "      <td>0.016034</td>\n",
       "    </tr>\n",
       "    <tr>\n",
       "      <th>83</th>\n",
       "      <td>C10-0000802-LIC</td>\n",
       "      <td>0.029385</td>\n",
       "      <td>0.009581</td>\n",
       "      <td>C10-0000802-LIC</td>\n",
       "      <td>VOY</td>\n",
       "      <td>0.326038</td>\n",
       "    </tr>\n",
       "    <tr>\n",
       "      <th>84</th>\n",
       "      <td>C10-0000045-LIC</td>\n",
       "      <td>0.016528</td>\n",
       "      <td>0.009271</td>\n",
       "      <td>C10-0000045-LIC</td>\n",
       "      <td>WCCC</td>\n",
       "      <td>0.560934</td>\n",
       "    </tr>\n",
       "    <tr>\n",
       "      <th>85</th>\n",
       "      <td>C10-0000372-LIC</td>\n",
       "      <td>0.000000</td>\n",
       "      <td>0.000000</td>\n",
       "      <td>C10-0000372-LIC</td>\n",
       "      <td>WCCC</td>\n",
       "      <td>NaN</td>\n",
       "    </tr>\n",
       "    <tr>\n",
       "      <th>86</th>\n",
       "      <td>C12-0000119-LIC</td>\n",
       "      <td>0.228913</td>\n",
       "      <td>0.178574</td>\n",
       "      <td>C12-0000119-LIC</td>\n",
       "      <td>WCCC</td>\n",
       "      <td>0.780094</td>\n",
       "    </tr>\n",
       "  </tbody>\n",
       "</table>\n",
       "<p>87 rows × 6 columns</p>\n",
       "</div>"
      ],
      "text/plain": [
       "            license     total    tier_a         lic_list company_identifier  \\\n",
       "0   C10-0000922-LIC  0.145886  0.021852  C10-0000922-LIC               64HM   \n",
       "1   C10-0000279-LIC  0.313852  0.142034  C10-0000279-LIC               99HT   \n",
       "2   C10-0000341-LIC  0.189144  0.040679  C10-0000341-LIC                AGA   \n",
       "3   C10-0000528-LIC  0.639914  0.441150  C10-0000528-LIC                BYN   \n",
       "4   C10-0000364-LIC  0.250277  0.120235  C10-0000364-LIC                CAT   \n",
       "..              ...       ...       ...              ...                ...   \n",
       "82   C9-0000082-LIC  1.000000  0.016034   C9-0000082-LIC               UHHC   \n",
       "83  C10-0000802-LIC  0.029385  0.009581  C10-0000802-LIC                VOY   \n",
       "84  C10-0000045-LIC  0.016528  0.009271  C10-0000045-LIC               WCCC   \n",
       "85  C10-0000372-LIC  0.000000  0.000000  C10-0000372-LIC               WCCC   \n",
       "86  C12-0000119-LIC  0.228913  0.178574  C12-0000119-LIC               WCCC   \n",
       "\n",
       "    tier_a_perc  \n",
       "0      0.149787  \n",
       "1      0.452551  \n",
       "2      0.215068  \n",
       "3      0.689390  \n",
       "4      0.480410  \n",
       "..          ...  \n",
       "82     0.016034  \n",
       "83     0.326038  \n",
       "84     0.560934  \n",
       "85          NaN  \n",
       "86     0.780094  \n",
       "\n",
       "[87 rows x 6 columns]"
      ]
     },
     "execution_count": 74,
     "metadata": {},
     "output_type": "execute_result"
    }
   ],
   "source": [
    "vc_backtest_df_2['tier_a_perc'] = vc_backtest_df_2['tier_a'] / vc_backtest_df_2['total']\n",
    "vc_backtest_df_2"
   ]
  },
  {
   "cell_type": "code",
   "execution_count": 75,
   "id": "826b7b06",
   "metadata": {},
   "outputs": [],
   "source": [
    "total_purchase_df_2 = pd.DataFrame.from_dict(total_purchase_list_2,orient ='index').reset_index()\n",
    "purchase_a_df_2 = pd.DataFrame.from_dict(purchase_a_list_2,orient ='index').reset_index()\n",
    "#purchase_b_df_2 = pd.DataFrame.from_dict(purchase_b_list_2,orient ='index').reset_index()\n",
    "#purchase_c_df_2 = pd.DataFrame.from_dict(purchase_c_list_2,orient ='index').reset_index()\n",
    "\n",
    "# merge\n",
    "vc_backtest_df_purchase_2 = total_purchase_df_2.merge(purchase_a_df_2,how = 'left',on = 'index')\\\n",
    "#.merge(purchase_b_df_2,how = 'left',on = 'index')\\\n",
    "#.merge(purchase_c_df_2,how = 'left',on = 'index')\n",
    "\n",
    "# col names\n",
    "vc_backtest_df_purchase_2.columns = ['license','total','tier_a']\n",
    "# merge with id\n",
    "vc_backtest_df_purchase_2 = vc_backtest_df_purchase_2.merge(ca_df_clean_ex[['lic_list','company_identifier']],\\\n",
    "                                      how = 'left',left_on = 'license',right_on = 'lic_list')"
   ]
  },
  {
   "cell_type": "code",
   "execution_count": 76,
   "id": "d1f1198c",
   "metadata": {},
   "outputs": [
    {
     "data": {
      "text/html": [
       "<div>\n",
       "<style scoped>\n",
       "    .dataframe tbody tr th:only-of-type {\n",
       "        vertical-align: middle;\n",
       "    }\n",
       "\n",
       "    .dataframe tbody tr th {\n",
       "        vertical-align: top;\n",
       "    }\n",
       "\n",
       "    .dataframe thead th {\n",
       "        text-align: right;\n",
       "    }\n",
       "</style>\n",
       "<table border=\"1\" class=\"dataframe\">\n",
       "  <thead>\n",
       "    <tr style=\"text-align: right;\">\n",
       "      <th></th>\n",
       "      <th>license</th>\n",
       "      <th>total</th>\n",
       "      <th>tier_a</th>\n",
       "      <th>lic_list</th>\n",
       "      <th>company_identifier</th>\n",
       "      <th>tier_a_purchase_perc</th>\n",
       "    </tr>\n",
       "  </thead>\n",
       "  <tbody>\n",
       "    <tr>\n",
       "      <th>0</th>\n",
       "      <td>C10-0000922-LIC</td>\n",
       "      <td>67926.19</td>\n",
       "      <td>26695.36</td>\n",
       "      <td>C10-0000922-LIC</td>\n",
       "      <td>64HM</td>\n",
       "      <td>0.393005</td>\n",
       "    </tr>\n",
       "    <tr>\n",
       "      <th>1</th>\n",
       "      <td>C10-0000279-LIC</td>\n",
       "      <td>125729.72</td>\n",
       "      <td>59669.49</td>\n",
       "      <td>C10-0000279-LIC</td>\n",
       "      <td>99HT</td>\n",
       "      <td>0.474585</td>\n",
       "    </tr>\n",
       "    <tr>\n",
       "      <th>2</th>\n",
       "      <td>C10-0000341-LIC</td>\n",
       "      <td>570995.95</td>\n",
       "      <td>235106.78</td>\n",
       "      <td>C10-0000341-LIC</td>\n",
       "      <td>AGA</td>\n",
       "      <td>0.411749</td>\n",
       "    </tr>\n",
       "    <tr>\n",
       "      <th>3</th>\n",
       "      <td>C10-0000528-LIC</td>\n",
       "      <td>31339.96</td>\n",
       "      <td>3415.33</td>\n",
       "      <td>C10-0000528-LIC</td>\n",
       "      <td>BYN</td>\n",
       "      <td>0.108977</td>\n",
       "    </tr>\n",
       "    <tr>\n",
       "      <th>4</th>\n",
       "      <td>C10-0000364-LIC</td>\n",
       "      <td>263719.87</td>\n",
       "      <td>199517.80</td>\n",
       "      <td>C10-0000364-LIC</td>\n",
       "      <td>CAT</td>\n",
       "      <td>0.756552</td>\n",
       "    </tr>\n",
       "    <tr>\n",
       "      <th>...</th>\n",
       "      <td>...</td>\n",
       "      <td>...</td>\n",
       "      <td>...</td>\n",
       "      <td>...</td>\n",
       "      <td>...</td>\n",
       "      <td>...</td>\n",
       "    </tr>\n",
       "    <tr>\n",
       "      <th>82</th>\n",
       "      <td>C9-0000082-LIC</td>\n",
       "      <td>0.00</td>\n",
       "      <td>0.00</td>\n",
       "      <td>C9-0000082-LIC</td>\n",
       "      <td>UHHC</td>\n",
       "      <td>NaN</td>\n",
       "    </tr>\n",
       "    <tr>\n",
       "      <th>83</th>\n",
       "      <td>C10-0000802-LIC</td>\n",
       "      <td>79045.09</td>\n",
       "      <td>0.00</td>\n",
       "      <td>C10-0000802-LIC</td>\n",
       "      <td>VOY</td>\n",
       "      <td>0.000000</td>\n",
       "    </tr>\n",
       "    <tr>\n",
       "      <th>84</th>\n",
       "      <td>C10-0000045-LIC</td>\n",
       "      <td>74737.34</td>\n",
       "      <td>0.00</td>\n",
       "      <td>C10-0000045-LIC</td>\n",
       "      <td>WCCC</td>\n",
       "      <td>0.000000</td>\n",
       "    </tr>\n",
       "    <tr>\n",
       "      <th>85</th>\n",
       "      <td>C10-0000372-LIC</td>\n",
       "      <td>35837.09</td>\n",
       "      <td>0.00</td>\n",
       "      <td>C10-0000372-LIC</td>\n",
       "      <td>WCCC</td>\n",
       "      <td>0.000000</td>\n",
       "    </tr>\n",
       "    <tr>\n",
       "      <th>86</th>\n",
       "      <td>C12-0000119-LIC</td>\n",
       "      <td>348342.62</td>\n",
       "      <td>175828.84</td>\n",
       "      <td>C12-0000119-LIC</td>\n",
       "      <td>WCCC</td>\n",
       "      <td>0.504758</td>\n",
       "    </tr>\n",
       "  </tbody>\n",
       "</table>\n",
       "<p>87 rows × 6 columns</p>\n",
       "</div>"
      ],
      "text/plain": [
       "            license      total     tier_a         lic_list company_identifier  \\\n",
       "0   C10-0000922-LIC   67926.19   26695.36  C10-0000922-LIC               64HM   \n",
       "1   C10-0000279-LIC  125729.72   59669.49  C10-0000279-LIC               99HT   \n",
       "2   C10-0000341-LIC  570995.95  235106.78  C10-0000341-LIC                AGA   \n",
       "3   C10-0000528-LIC   31339.96    3415.33  C10-0000528-LIC                BYN   \n",
       "4   C10-0000364-LIC  263719.87  199517.80  C10-0000364-LIC                CAT   \n",
       "..              ...        ...        ...              ...                ...   \n",
       "82   C9-0000082-LIC       0.00       0.00   C9-0000082-LIC               UHHC   \n",
       "83  C10-0000802-LIC   79045.09       0.00  C10-0000802-LIC                VOY   \n",
       "84  C10-0000045-LIC   74737.34       0.00  C10-0000045-LIC               WCCC   \n",
       "85  C10-0000372-LIC   35837.09       0.00  C10-0000372-LIC               WCCC   \n",
       "86  C12-0000119-LIC  348342.62  175828.84  C12-0000119-LIC               WCCC   \n",
       "\n",
       "    tier_a_purchase_perc  \n",
       "0               0.393005  \n",
       "1               0.474585  \n",
       "2               0.411749  \n",
       "3               0.108977  \n",
       "4               0.756552  \n",
       "..                   ...  \n",
       "82                   NaN  \n",
       "83              0.000000  \n",
       "84              0.000000  \n",
       "85              0.000000  \n",
       "86              0.504758  \n",
       "\n",
       "[87 rows x 6 columns]"
      ]
     },
     "execution_count": 76,
     "metadata": {},
     "output_type": "execute_result"
    }
   ],
   "source": [
    "vc_backtest_df_purchase_2['tier_a_purchase_perc'] = vc_backtest_df_purchase_2['tier_a'] / vc_backtest_df_purchase_2['total']\n",
    "vc_backtest_df_purchase_2"
   ]
  },
  {
   "cell_type": "code",
   "execution_count": 77,
   "id": "5cf4ecb4",
   "metadata": {},
   "outputs": [
    {
     "data": {
      "text/html": [
       "<div>\n",
       "<style scoped>\n",
       "    .dataframe tbody tr th:only-of-type {\n",
       "        vertical-align: middle;\n",
       "    }\n",
       "\n",
       "    .dataframe tbody tr th {\n",
       "        vertical-align: top;\n",
       "    }\n",
       "\n",
       "    .dataframe thead th {\n",
       "        text-align: right;\n",
       "    }\n",
       "</style>\n",
       "<table border=\"1\" class=\"dataframe\">\n",
       "  <thead>\n",
       "    <tr style=\"text-align: right;\">\n",
       "      <th></th>\n",
       "      <th>license</th>\n",
       "      <th>total</th>\n",
       "      <th>tier_a</th>\n",
       "      <th>lic_list</th>\n",
       "      <th>company_identifier</th>\n",
       "      <th>tier_a_purchase_perc</th>\n",
       "    </tr>\n",
       "  </thead>\n",
       "  <tbody>\n",
       "    <tr>\n",
       "      <th>67</th>\n",
       "      <td>PC-000381</td>\n",
       "      <td>2340.0</td>\n",
       "      <td>0.0</td>\n",
       "      <td>PC-000381</td>\n",
       "      <td>PRL</td>\n",
       "      <td>0.0</td>\n",
       "    </tr>\n",
       "  </tbody>\n",
       "</table>\n",
       "</div>"
      ],
      "text/plain": [
       "      license   total  tier_a   lic_list company_identifier  \\\n",
       "67  PC-000381  2340.0     0.0  PC-000381                PRL   \n",
       "\n",
       "    tier_a_purchase_perc  \n",
       "67                   0.0  "
      ]
     },
     "execution_count": 77,
     "metadata": {},
     "output_type": "execute_result"
    }
   ],
   "source": [
    "vc_backtest_df_purchase_2[vc_backtest_df_purchase_2['license'] == 'PC-000381']"
   ]
  },
  {
   "cell_type": "code",
   "execution_count": 79,
   "id": "6784ee37",
   "metadata": {},
   "outputs": [
    {
     "data": {
      "text/html": [
       "<div>\n",
       "<style scoped>\n",
       "    .dataframe tbody tr th:only-of-type {\n",
       "        vertical-align: middle;\n",
       "    }\n",
       "\n",
       "    .dataframe tbody tr th {\n",
       "        vertical-align: top;\n",
       "    }\n",
       "\n",
       "    .dataframe thead th {\n",
       "        text-align: right;\n",
       "    }\n",
       "</style>\n",
       "<table border=\"1\" class=\"dataframe\">\n",
       "  <thead>\n",
       "    <tr style=\"text-align: right;\">\n",
       "      <th></th>\n",
       "      <th>license</th>\n",
       "      <th>total</th>\n",
       "      <th>tier_a</th>\n",
       "      <th>lic_list</th>\n",
       "      <th>company_identifier</th>\n",
       "      <th>tier_a_perc</th>\n",
       "    </tr>\n",
       "  </thead>\n",
       "  <tbody>\n",
       "  </tbody>\n",
       "</table>\n",
       "</div>"
      ],
      "text/plain": [
       "Empty DataFrame\n",
       "Columns: [license, total, tier_a, lic_list, company_identifier, tier_a_perc]\n",
       "Index: []"
      ]
     },
     "execution_count": 79,
     "metadata": {},
     "output_type": "execute_result"
    }
   ],
   "source": [
    "vc_backtest_df_2[vc_backtest_df_2['lic_list'] == 'C9-0000467-LIC']\n"
   ]
  },
  {
   "cell_type": "code",
   "execution_count": 80,
   "id": "fa0a3df1",
   "metadata": {},
   "outputs": [],
   "source": [
    "vc_backtest_df_2.to_csv('vcv2_2_01102023.csv')\n",
    "vc_backtest_df_purchase_2.to_csv('vcv2_purchase_2_01102023.csv')"
   ]
  },
  {
   "cell_type": "code",
   "execution_count": null,
   "id": "1600771c",
   "metadata": {},
   "outputs": [],
   "source": []
  }
 ],
 "metadata": {
  "kernelspec": {
   "display_name": "Python 3",
   "language": "python",
   "name": "python3"
  },
  "language_info": {
   "codemirror_mode": {
    "name": "ipython",
    "version": 3
   },
   "file_extension": ".py",
   "mimetype": "text/x-python",
   "name": "python",
   "nbconvert_exporter": "python",
   "pygments_lexer": "ipython3",
   "version": "3.8.10"
  }
 },
 "nbformat": 4,
 "nbformat_minor": 5
}
