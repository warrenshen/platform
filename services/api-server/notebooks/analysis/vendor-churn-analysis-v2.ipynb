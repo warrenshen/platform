{
 "cells": [
  {
   "cell_type": "code",
   "execution_count": 1,
   "id": "b2bdce0c",
   "metadata": {},
   "outputs": [],
   "source": [
    "import warnings\n",
    "warnings.filterwarnings('ignore')"
   ]
  },
  {
   "cell_type": "code",
   "execution_count": 2,
   "id": "253bf6b5",
   "metadata": {},
   "outputs": [],
   "source": [
    "import json\n",
    "import numpy \n",
    "import os\n",
    "import pandas as pd\n",
    "import matplotlib.pyplot as plt\n",
    "%matplotlib inline  \n",
    "import pyarrow\n",
    "import sys\n",
    "\n",
    "from datetime import date\n",
    "from dotenv import load_dotenv\n",
    "from sqlalchemy import create_engine\n",
    "from os import path\n",
    "from typing import List,Dict, Tuple\n",
    "from collections import defaultdict\n",
    "pd.set_option(\"display.max_columns\", None)\n",
    "\n",
    "load_dotenv(verbose=True)\n",
    "BIGQUERY_CREDENTIALS_PATH = os.environ.get('BIGQUERY_CREDENTIALS_PATH')\n",
    "engine = create_engine('bigquery://bespoke-financial/ProdMetrcData', credentials_path=os.path.expanduser(BIGQUERY_CREDENTIALS_PATH))\n",
    "\n",
    "sys.path.append(path.realpath(path.join(os.getcwd(), \"../core\")))\n",
    "sys.path.append(path.realpath(path.join(os.getcwd(), \"../../src\")))\n",
    "sys.path.append(path.realpath(path.join(os.getcwd(), \"../../scripts\")))\n",
    "\n",
    "import create_queries\n",
    "import prepare_data\n",
    "from tqdm import tqdm\n",
    "\n",
    "from bespoke.inventory.analysis.shared import download_util, inventory_types\n",
    "from bespoke.inventory.analysis import active_inventory_util as util\n",
    "from bespoke.inventory.analysis import inventory_valuations_util as valuations_util\n",
    "\n",
    "%load_ext autoreload\n",
    "%autoreload 2"
   ]
  },
  {
   "cell_type": "code",
   "execution_count": 3,
   "id": "8e720044",
   "metadata": {},
   "outputs": [],
   "source": [
    "from underwriting import client_surveillance_jupyter\n",
    "from typing import Union,cast\n"
   ]
  },
  {
   "cell_type": "code",
   "execution_count": 4,
   "id": "d943233b",
   "metadata": {},
   "outputs": [],
   "source": [
    "TRANSFER_PACKAGES_START_DATE = '2021-01-01'\n",
    "SALES_TRANSACTIONS_START_DATE = '2021-01-01'"
   ]
  },
  {
   "cell_type": "code",
   "execution_count": 5,
   "id": "1854b248",
   "metadata": {},
   "outputs": [],
   "source": [
    "ca_df = pd.read_csv('retailer_nov2022.csv',index_col = 0)\n",
    "ca_df.columns = ['company_name','company_identifier','state','licenses']\n",
    "ca_df['company_identifier'] = ca_df['company_identifier'].astype(str)"
   ]
  },
  {
   "cell_type": "code",
   "execution_count": 6,
   "id": "f6ad30db",
   "metadata": {},
   "outputs": [
    {
     "data": {
      "text/plain": [
       "(94, 4)"
      ]
     },
     "execution_count": 6,
     "metadata": {},
     "output_type": "execute_result"
    }
   ],
   "source": [
    "ca_df_clean = ca_df[~ca_df['company_identifier'].isin(['PL','WHT','GF','UR'])]\n",
    "ca_df_clean.shape"
   ]
  },
  {
   "cell_type": "code",
   "execution_count": 7,
   "id": "0db55e38",
   "metadata": {},
   "outputs": [],
   "source": [
    "ca_df_clean['lic_list'] = [list(ca_df_clean['licenses'])[i].split(\";\") for i in range(len(ca_df_clean))]"
   ]
  },
  {
   "cell_type": "code",
   "execution_count": 8,
   "id": "52c26850",
   "metadata": {},
   "outputs": [],
   "source": [
    "ca_df_clean = ca_df_clean[ca_df_clean['state'] == 'CA']"
   ]
  },
  {
   "cell_type": "code",
   "execution_count": 9,
   "id": "d6b6f155",
   "metadata": {},
   "outputs": [
    {
     "data": {
      "text/plain": [
       "68"
      ]
     },
     "execution_count": 9,
     "metadata": {},
     "output_type": "execute_result"
    }
   ],
   "source": [
    "ca_df_clean['company_identifier'].nunique()"
   ]
  },
  {
   "cell_type": "code",
   "execution_count": 10,
   "id": "34ffc8af",
   "metadata": {},
   "outputs": [
    {
     "data": {
      "text/html": [
       "<div>\n",
       "<style scoped>\n",
       "    .dataframe tbody tr th:only-of-type {\n",
       "        vertical-align: middle;\n",
       "    }\n",
       "\n",
       "    .dataframe tbody tr th {\n",
       "        vertical-align: top;\n",
       "    }\n",
       "\n",
       "    .dataframe thead th {\n",
       "        text-align: right;\n",
       "    }\n",
       "</style>\n",
       "<table border=\"1\" class=\"dataframe\">\n",
       "  <thead>\n",
       "    <tr style=\"text-align: right;\">\n",
       "      <th></th>\n",
       "      <th>company_name</th>\n",
       "      <th>company_identifier</th>\n",
       "      <th>state</th>\n",
       "      <th>licenses</th>\n",
       "    </tr>\n",
       "  </thead>\n",
       "  <tbody>\n",
       "    <tr>\n",
       "      <th>0</th>\n",
       "      <td>64 and Hope Melrose</td>\n",
       "      <td>64HM</td>\n",
       "      <td>CA</td>\n",
       "      <td>C10-0000922-LIC</td>\n",
       "    </tr>\n",
       "    <tr>\n",
       "      <th>1</th>\n",
       "      <td>99 High Tide</td>\n",
       "      <td>99HT</td>\n",
       "      <td>CA</td>\n",
       "      <td>C10-0000279-LIC</td>\n",
       "    </tr>\n",
       "    <tr>\n",
       "      <th>2</th>\n",
       "      <td>A Green Alternative Inc.</td>\n",
       "      <td>AGA</td>\n",
       "      <td>CA</td>\n",
       "      <td>C10-0000341-LIC</td>\n",
       "    </tr>\n",
       "    <tr>\n",
       "      <th>3</th>\n",
       "      <td>Altum LLC</td>\n",
       "      <td>ALT</td>\n",
       "      <td>MI</td>\n",
       "      <td>PC-000310;AU-R-000380</td>\n",
       "    </tr>\n",
       "    <tr>\n",
       "      <th>4</th>\n",
       "      <td>Bella Sol</td>\n",
       "      <td>BS</td>\n",
       "      <td>MI</td>\n",
       "      <td>PC-000185;AU-R-000156</td>\n",
       "    </tr>\n",
       "    <tr>\n",
       "      <th>...</th>\n",
       "      <td>...</td>\n",
       "      <td>...</td>\n",
       "      <td>...</td>\n",
       "      <td>...</td>\n",
       "    </tr>\n",
       "    <tr>\n",
       "      <th>91</th>\n",
       "      <td>The Good Leaf</td>\n",
       "      <td>TGL</td>\n",
       "      <td>CA</td>\n",
       "      <td>C9-0000412-LIC</td>\n",
       "    </tr>\n",
       "    <tr>\n",
       "      <th>92</th>\n",
       "      <td>The Joy Reserve</td>\n",
       "      <td>TJR</td>\n",
       "      <td>CA</td>\n",
       "      <td>C9-0000105-LIC</td>\n",
       "    </tr>\n",
       "    <tr>\n",
       "      <th>93</th>\n",
       "      <td>The Twisted Sista</td>\n",
       "      <td>TTS</td>\n",
       "      <td>MI</td>\n",
       "      <td>AU-R-000546;PC-000718</td>\n",
       "    </tr>\n",
       "    <tr>\n",
       "      <th>94</th>\n",
       "      <td>Three Trees</td>\n",
       "      <td>TT</td>\n",
       "      <td>CA</td>\n",
       "      <td>C9-0000451-LIC;C9-0000551-LIC</td>\n",
       "    </tr>\n",
       "    <tr>\n",
       "      <th>95</th>\n",
       "      <td>Tree4Life</td>\n",
       "      <td>T4L</td>\n",
       "      <td>CA</td>\n",
       "      <td>C12-0000302-LIC</td>\n",
       "    </tr>\n",
       "  </tbody>\n",
       "</table>\n",
       "<p>96 rows × 4 columns</p>\n",
       "</div>"
      ],
      "text/plain": [
       "                company_name company_identifier state  \\\n",
       "0        64 and Hope Melrose               64HM    CA   \n",
       "1               99 High Tide               99HT    CA   \n",
       "2   A Green Alternative Inc.                AGA    CA   \n",
       "3                  Altum LLC                ALT    MI   \n",
       "4                  Bella Sol                 BS    MI   \n",
       "..                       ...                ...   ...   \n",
       "91             The Good Leaf                TGL    CA   \n",
       "92           The Joy Reserve                TJR    CA   \n",
       "93         The Twisted Sista                TTS    MI   \n",
       "94               Three Trees                 TT    CA   \n",
       "95                 Tree4Life                T4L    CA   \n",
       "\n",
       "                         licenses  \n",
       "0                 C10-0000922-LIC  \n",
       "1                 C10-0000279-LIC  \n",
       "2                 C10-0000341-LIC  \n",
       "3           PC-000310;AU-R-000380  \n",
       "4           PC-000185;AU-R-000156  \n",
       "..                            ...  \n",
       "91                 C9-0000412-LIC  \n",
       "92                 C9-0000105-LIC  \n",
       "93          AU-R-000546;PC-000718  \n",
       "94  C9-0000451-LIC;C9-0000551-LIC  \n",
       "95                C12-0000302-LIC  \n",
       "\n",
       "[96 rows x 4 columns]"
      ]
     },
     "execution_count": 10,
     "metadata": {},
     "output_type": "execute_result"
    }
   ],
   "source": [
    "ca_df"
   ]
  },
  {
   "cell_type": "code",
   "execution_count": 11,
   "id": "0eda8cd1",
   "metadata": {},
   "outputs": [],
   "source": [
    "def get_identifiers_for_where_clause(company_identifier\n",
    "):\n",
    "\n",
    "    if type(company_identifier) == str:\n",
    "        identifiers.append(cast(str, company_identifier))\n",
    "    else:\n",
    "        identifiers = cast(List[str], company_identifier)\n",
    "\n",
    "    return ['\"{}\"'.format(iden) for iden in identifiers]"
   ]
  },
  {
   "cell_type": "code",
   "execution_count": 14,
   "id": "e7c509f9",
   "metadata": {},
   "outputs": [],
   "source": [
    "def create_query(LICENSE_NUMBER_LIST):\n",
    "    return f\"\"\"select\n",
    "  COALESCE(\n",
    "    company_licenses.company_id, incoming.shipper_facility_license_number\n",
    "  ) shipper_company_id,\n",
    "  COALESCE(\n",
    "    companies.parent_company_id, incoming.shipper_facility_license_number\n",
    "  ) shipper_parent_company_id,\n",
    "  COALESCE(\n",
    "    parent_companies.name, incoming.shipper_facility_name\n",
    "  ) shipper_parent_name,\n",
    "  incoming.created_date,\n",
    "  incoming.received_datetime,\n",
    "  incoming.shipper_facility_name,\n",
    "  incoming.recipient_facility_name,\n",
    "  incoming.package_id,\n",
    "  incoming.type,\n",
    "  incoming.product_name,\n",
    "  incoming.shipper_wholesale_price,\n",
    "  incoming.shipped_quantity,\n",
    "  incoming.receiver_wholesale_price,\n",
    "  incoming.updated_at\n",
    "from\n",
    "  dbt_transformation.int__company_incoming_transfer_packages incoming\n",
    "  left join dbt_transformation.stg__company_licenses company_licenses on incoming.shipper_facility_license_number = company_licenses.license_number\n",
    "  left join dbt_transformation.stg__companies companies on company_licenses.company_id = companies.id\n",
    "  left join dbt_transformation.stg__parent_companies parent_companies on companies.parent_company_id = parent_companies.id\n",
    "WHERE\n",
    "    incoming.recipient_facility_license_number IN ({','.join(LICENSE_NUMBER_LIST)})\n",
    "    AND DATE(incoming.created_date) >= DATE('2021-01-01')\n",
    "    AND DATE(incoming.created_date) < DATE('2022-11-01')\n",
    "    \n",
    "    \"\"\""
   ]
  },
  {
   "cell_type": "code",
   "execution_count": 15,
   "id": "06d61311",
   "metadata": {},
   "outputs": [],
   "source": [
    "def read_df_in(license_numbers):\n",
    "    company_incoming_transfer_packages_query = create_query(\n",
    "    LICENSE_NUMBER_LIST=license_numbers,\n",
    "    )\n",
    "    company_incoming_transfer_packages_dataframe = pd.read_sql_query(company_incoming_transfer_packages_query, engine)\n",
    "    return company_incoming_transfer_packages_dataframe\n"
   ]
  },
  {
   "cell_type": "code",
   "execution_count": 16,
   "id": "dea1fdfe",
   "metadata": {},
   "outputs": [],
   "source": [
    "WINDOW = 4\n",
    "VC_START_DATE = '2021-01-01'\n",
    "VC_END_DATE = '2022-10-01'\n",
    "VC_MONTH_LIST = ['2022-07-01','2022-08-01','2022-09-01','2022-10-01']\n",
    "VC_MONTH_END = VC_MONTH_LIST[-1]"
   ]
  },
  {
   "cell_type": "code",
   "execution_count": 17,
   "id": "7c80b085",
   "metadata": {},
   "outputs": [],
   "source": [
    "def get_vc_list(company_list,transfer_packages_start_date,sales_transactrions_start_date,map_df):\n",
    "    vc_df_list = {}\n",
    "    for c in tqdm(company_list):\n",
    "        vc_list = {}\n",
    "        print(c)\n",
    "        l_list = map_df[map_df['company_identifier'] == c]['lic_list'].to_list()[0]\n",
    "        for l in tqdm(l_list):\n",
    "            print(l)\n",
    "            df_in = read_df_in(get_identifiers_for_where_clause([l]))\n",
    "            if df_in.shape[0] == 0:\n",
    "                vc_list[l] = numpy.nan\n",
    "                continue\n",
    "            else:\n",
    "                vc = client_surveillance_jupyter.calculate_vendor_churn_short(df_in,[l],VC_START_DATE,VC_END_DATE,VC_MONTH_LIST,VC_MONTH_END)[1]\n",
    "                vc_list[l] = vc\n",
    "        vc_df_list[c] =  vc_list\n",
    "    return vc_df_list\n"
   ]
  },
  {
   "cell_type": "code",
   "execution_count": 18,
   "id": "1c7c9dc4",
   "metadata": {},
   "outputs": [
    {
     "name": "stderr",
     "output_type": "stream",
     "text": [
      "\r",
      "  0%|          | 0/68 [00:00<?, ?it/s]"
     ]
    },
    {
     "name": "stdout",
     "output_type": "stream",
     "text": [
      "64HM\n"
     ]
    },
    {
     "name": "stderr",
     "output_type": "stream",
     "text": [
      "\n",
      "  0%|          | 0/1 [00:00<?, ?it/s]\u001b[A"
     ]
    },
    {
     "name": "stdout",
     "output_type": "stream",
     "text": [
      "C10-0000922-LIC\n"
     ]
    },
    {
     "name": "stderr",
     "output_type": "stream",
     "text": [
      "\n",
      "100%|██████████| 1/1 [00:04<00:00,  4.40s/it]\u001b[A\n",
      "  1%|▏         | 1/68 [00:04<04:54,  4.40s/it]"
     ]
    },
    {
     "name": "stdout",
     "output_type": "stream",
     "text": [
      "99HT\n"
     ]
    },
    {
     "name": "stderr",
     "output_type": "stream",
     "text": [
      "\n",
      "  0%|          | 0/1 [00:00<?, ?it/s]\u001b[A"
     ]
    },
    {
     "name": "stdout",
     "output_type": "stream",
     "text": [
      "C10-0000279-LIC\n"
     ]
    },
    {
     "name": "stderr",
     "output_type": "stream",
     "text": [
      "\n",
      "100%|██████████| 1/1 [00:03<00:00,  3.85s/it]\u001b[A\n",
      "  3%|▎         | 2/68 [00:08<04:29,  4.08s/it]"
     ]
    },
    {
     "name": "stdout",
     "output_type": "stream",
     "text": [
      "AGA\n"
     ]
    },
    {
     "name": "stderr",
     "output_type": "stream",
     "text": [
      "\n",
      "  0%|          | 0/1 [00:00<?, ?it/s]\u001b[A"
     ]
    },
    {
     "name": "stdout",
     "output_type": "stream",
     "text": [
      "C10-0000341-LIC\n"
     ]
    },
    {
     "name": "stderr",
     "output_type": "stream",
     "text": [
      "\n",
      "100%|██████████| 1/1 [00:04<00:00,  4.23s/it]\u001b[A\n",
      "  4%|▍         | 3/68 [00:12<04:29,  4.15s/it]"
     ]
    },
    {
     "name": "stdout",
     "output_type": "stream",
     "text": [
      "BUD\n"
     ]
    },
    {
     "name": "stderr",
     "output_type": "stream",
     "text": [
      "\n",
      "  0%|          | 0/5 [00:00<?, ?it/s]\u001b[A"
     ]
    },
    {
     "name": "stdout",
     "output_type": "stream",
     "text": [
      "C9-0000464-LIC\n"
     ]
    },
    {
     "name": "stderr",
     "output_type": "stream",
     "text": [
      "\n",
      " 20%|██        | 1/5 [00:03<00:13,  3.28s/it]\u001b[A"
     ]
    },
    {
     "name": "stdout",
     "output_type": "stream",
     "text": [
      "C9-0000167-LIC\n"
     ]
    },
    {
     "name": "stderr",
     "output_type": "stream",
     "text": [
      "\n",
      " 40%|████      | 2/5 [00:06<00:10,  3.42s/it]\u001b[A"
     ]
    },
    {
     "name": "stdout",
     "output_type": "stream",
     "text": [
      "C9-0000399-LIC\n"
     ]
    },
    {
     "name": "stderr",
     "output_type": "stream",
     "text": [
      "\n",
      " 60%|██████    | 3/5 [00:10<00:07,  3.67s/it]\u001b[A"
     ]
    },
    {
     "name": "stdout",
     "output_type": "stream",
     "text": [
      "C9-0000467-LIC\n"
     ]
    },
    {
     "name": "stderr",
     "output_type": "stream",
     "text": [
      "\n",
      " 80%|████████  | 4/5 [00:14<00:03,  3.62s/it]\u001b[A"
     ]
    },
    {
     "name": "stdout",
     "output_type": "stream",
     "text": [
      "C9-0000444-LIC\n"
     ]
    },
    {
     "name": "stderr",
     "output_type": "stream",
     "text": [
      "\n",
      "100%|██████████| 5/5 [00:17<00:00,  3.44s/it]\u001b[A\n",
      "  6%|▌         | 4/68 [00:29<09:55,  9.30s/it]"
     ]
    },
    {
     "name": "stdout",
     "output_type": "stream",
     "text": [
      "BRC\n"
     ]
    },
    {
     "name": "stderr",
     "output_type": "stream",
     "text": [
      "\n",
      "  0%|          | 0/1 [00:00<?, ?it/s]\u001b[A"
     ]
    },
    {
     "name": "stdout",
     "output_type": "stream",
     "text": [
      "C10-0000603-LIC\n"
     ]
    },
    {
     "name": "stderr",
     "output_type": "stream",
     "text": [
      "\n",
      "100%|██████████| 1/1 [00:04<00:00,  4.06s/it]\u001b[A\n",
      "  7%|▋         | 5/68 [00:33<07:46,  7.41s/it]"
     ]
    },
    {
     "name": "stdout",
     "output_type": "stream",
     "text": [
      "BYN\n"
     ]
    },
    {
     "name": "stderr",
     "output_type": "stream",
     "text": [
      "\n",
      "  0%|          | 0/1 [00:00<?, ?it/s]\u001b[A"
     ]
    },
    {
     "name": "stdout",
     "output_type": "stream",
     "text": [
      "C10-0000528-LIC\n"
     ]
    },
    {
     "name": "stderr",
     "output_type": "stream",
     "text": [
      "\n",
      "100%|██████████| 1/1 [00:03<00:00,  3.66s/it]\u001b[A\n",
      "  9%|▉         | 6/68 [00:37<06:20,  6.14s/it]"
     ]
    },
    {
     "name": "stdout",
     "output_type": "stream",
     "text": [
      "CG\n"
     ]
    },
    {
     "name": "stderr",
     "output_type": "stream",
     "text": [
      "\n",
      "  0%|          | 0/1 [00:00<?, ?it/s]\u001b[A"
     ]
    },
    {
     "name": "stdout",
     "output_type": "stream",
     "text": [
      "C9-0000157-LIC\n"
     ]
    },
    {
     "name": "stderr",
     "output_type": "stream",
     "text": [
      "\n",
      "100%|██████████| 1/1 [00:03<00:00,  3.80s/it]\u001b[A\n",
      " 10%|█         | 7/68 [00:41<05:27,  5.37s/it]"
     ]
    },
    {
     "name": "stdout",
     "output_type": "stream",
     "text": [
      "CPA\n"
     ]
    },
    {
     "name": "stderr",
     "output_type": "stream",
     "text": [
      "\n",
      "  0%|          | 0/2 [00:00<?, ?it/s]\u001b[A"
     ]
    },
    {
     "name": "stdout",
     "output_type": "stream",
     "text": [
      "C9-0000348-LIC\n"
     ]
    },
    {
     "name": "stderr",
     "output_type": "stream",
     "text": [
      "\n",
      " 50%|█████     | 1/2 [00:03<00:03,  3.97s/it]\u001b[A"
     ]
    },
    {
     "name": "stdout",
     "output_type": "stream",
     "text": [
      "C10-0000461-LIC\n"
     ]
    },
    {
     "name": "stderr",
     "output_type": "stream",
     "text": [
      "\n",
      "100%|██████████| 2/2 [00:07<00:00,  3.86s/it]\u001b[A\n",
      " 12%|█▏        | 8/68 [00:48<06:07,  6.12s/it]"
     ]
    },
    {
     "name": "stdout",
     "output_type": "stream",
     "text": [
      "CPC\n"
     ]
    },
    {
     "name": "stderr",
     "output_type": "stream",
     "text": [
      "\n",
      "  0%|          | 0/1 [00:00<?, ?it/s]\u001b[A"
     ]
    },
    {
     "name": "stdout",
     "output_type": "stream",
     "text": [
      "C9-0000056-LIC\n"
     ]
    },
    {
     "name": "stderr",
     "output_type": "stream",
     "text": [
      "\n",
      "100%|██████████| 1/1 [00:02<00:00,  2.87s/it]\u001b[A\n",
      " 13%|█▎        | 9/68 [00:51<05:01,  5.11s/it]"
     ]
    },
    {
     "name": "stdout",
     "output_type": "stream",
     "text": [
      "CSC\n"
     ]
    },
    {
     "name": "stderr",
     "output_type": "stream",
     "text": [
      "\n",
      "  0%|          | 0/1 [00:00<?, ?it/s]\u001b[A"
     ]
    },
    {
     "name": "stdout",
     "output_type": "stream",
     "text": [
      "C10-0000670-LIC\n"
     ]
    },
    {
     "name": "stderr",
     "output_type": "stream",
     "text": [
      "\n",
      "100%|██████████| 1/1 [00:03<00:00,  3.93s/it]\u001b[A\n",
      " 15%|█▍        | 10/68 [00:55<04:35,  4.74s/it]"
     ]
    },
    {
     "name": "stdout",
     "output_type": "stream",
     "text": [
      "CSCC\n"
     ]
    },
    {
     "name": "stderr",
     "output_type": "stream",
     "text": [
      "\n",
      "  0%|          | 0/1 [00:00<?, ?it/s]\u001b[A"
     ]
    },
    {
     "name": "stdout",
     "output_type": "stream",
     "text": [
      "C10-0000918-LIC\n"
     ]
    },
    {
     "name": "stderr",
     "output_type": "stream",
     "text": [
      "\n",
      "100%|██████████| 1/1 [00:03<00:00,  3.17s/it]\u001b[A\n",
      " 16%|█▌        | 11/68 [00:58<04:02,  4.26s/it]"
     ]
    },
    {
     "name": "stdout",
     "output_type": "stream",
     "text": [
      "CCC\n"
     ]
    },
    {
     "name": "stderr",
     "output_type": "stream",
     "text": [
      "\n",
      "  0%|          | 0/1 [00:00<?, ?it/s]\u001b[A"
     ]
    },
    {
     "name": "stdout",
     "output_type": "stream",
     "text": [
      "C12-0000087-LIC\n"
     ]
    },
    {
     "name": "stderr",
     "output_type": "stream",
     "text": [
      "\n",
      "100%|██████████| 1/1 [00:03<00:00,  3.98s/it]\u001b[A\n",
      " 18%|█▊        | 12/68 [01:02<03:53,  4.18s/it]"
     ]
    },
    {
     "name": "stdout",
     "output_type": "stream",
     "text": [
      "CLC\n"
     ]
    },
    {
     "name": "stderr",
     "output_type": "stream",
     "text": [
      "\n",
      "  0%|          | 0/2 [00:00<?, ?it/s]\u001b[A"
     ]
    },
    {
     "name": "stdout",
     "output_type": "stream",
     "text": [
      "C10-0000986-LIC\n"
     ]
    },
    {
     "name": "stderr",
     "output_type": "stream",
     "text": [
      "\n",
      " 50%|█████     | 1/2 [00:02<00:02,  2.81s/it]\u001b[A"
     ]
    },
    {
     "name": "stdout",
     "output_type": "stream",
     "text": [
      "C12-0000318-LIC\n"
     ]
    },
    {
     "name": "stderr",
     "output_type": "stream",
     "text": [
      "\n",
      "100%|██████████| 2/2 [00:05<00:00,  2.66s/it]\u001b[A\n",
      " 19%|█▉        | 13/68 [01:08<04:08,  4.52s/it]"
     ]
    },
    {
     "name": "stdout",
     "output_type": "stream",
     "text": [
      "CC\n"
     ]
    },
    {
     "name": "stderr",
     "output_type": "stream",
     "text": [
      "\n",
      "  0%|          | 0/1 [00:00<?, ?it/s]\u001b[A"
     ]
    },
    {
     "name": "stdout",
     "output_type": "stream",
     "text": [
      "C10-0000758-LIC\n"
     ]
    },
    {
     "name": "stderr",
     "output_type": "stream",
     "text": [
      "\n",
      "100%|██████████| 1/1 [00:03<00:00,  3.62s/it]\u001b[A\n",
      " 21%|██        | 14/68 [01:11<03:49,  4.25s/it]"
     ]
    },
    {
     "name": "stdout",
     "output_type": "stream",
     "text": [
      "CED\n"
     ]
    },
    {
     "name": "stderr",
     "output_type": "stream",
     "text": [
      "\n",
      "  0%|          | 0/1 [00:00<?, ?it/s]\u001b[A"
     ]
    },
    {
     "name": "stdout",
     "output_type": "stream",
     "text": [
      "C9-0000094-LIC\n"
     ]
    },
    {
     "name": "stderr",
     "output_type": "stream",
     "text": [
      "\n",
      "100%|██████████| 1/1 [00:03<00:00,  3.52s/it]\u001b[A\n",
      " 22%|██▏       | 15/68 [01:15<03:33,  4.03s/it]"
     ]
    },
    {
     "name": "stdout",
     "output_type": "stream",
     "text": [
      "CRRH\n"
     ]
    },
    {
     "name": "stderr",
     "output_type": "stream",
     "text": [
      "\n",
      "  0%|          | 0/2 [00:00<?, ?it/s]\u001b[A"
     ]
    },
    {
     "name": "stdout",
     "output_type": "stream",
     "text": [
      "C12-0000308-LIC\n"
     ]
    },
    {
     "name": "stderr",
     "output_type": "stream",
     "text": [
      "\n",
      " 50%|█████     | 1/2 [00:02<00:02,  2.76s/it]\u001b[A"
     ]
    },
    {
     "name": "stdout",
     "output_type": "stream",
     "text": [
      "C12-0000405-LIC\n"
     ]
    },
    {
     "name": "stderr",
     "output_type": "stream",
     "text": [
      "\n",
      "100%|██████████| 2/2 [00:06<00:00,  3.10s/it]\u001b[A\n",
      " 24%|██▎       | 16/68 [01:21<04:03,  4.69s/it]"
     ]
    },
    {
     "name": "stdout",
     "output_type": "stream",
     "text": [
      "CE\n"
     ]
    },
    {
     "name": "stderr",
     "output_type": "stream",
     "text": [
      "\n",
      "  0%|          | 0/1 [00:00<?, ?it/s]\u001b[A"
     ]
    },
    {
     "name": "stdout",
     "output_type": "stream",
     "text": [
      "C12-0000334-LIC\n"
     ]
    },
    {
     "name": "stderr",
     "output_type": "stream",
     "text": [
      "\n",
      "100%|██████████| 1/1 [00:02<00:00,  2.69s/it]\u001b[A\n",
      " 25%|██▌       | 17/68 [01:24<03:28,  4.09s/it]"
     ]
    },
    {
     "name": "stdout",
     "output_type": "stream",
     "text": [
      "DGG\n"
     ]
    },
    {
     "name": "stderr",
     "output_type": "stream",
     "text": [
      "\n",
      "  0%|          | 0/1 [00:00<?, ?it/s]\u001b[A"
     ]
    },
    {
     "name": "stdout",
     "output_type": "stream",
     "text": [
      "C9-0000016-LIC\n"
     ]
    },
    {
     "name": "stderr",
     "output_type": "stream",
     "text": [
      "\n",
      "100%|██████████| 1/1 [00:03<00:00,  3.38s/it]\u001b[A\n",
      " 26%|██▋       | 18/68 [01:27<03:13,  3.88s/it]"
     ]
    },
    {
     "name": "stdout",
     "output_type": "stream",
     "text": [
      "EL\n"
     ]
    },
    {
     "name": "stderr",
     "output_type": "stream",
     "text": [
      "\n",
      "  0%|          | 0/1 [00:00<?, ?it/s]\u001b[A"
     ]
    },
    {
     "name": "stdout",
     "output_type": "stream",
     "text": [
      "C9-0000370-LIC\n"
     ]
    },
    {
     "name": "stderr",
     "output_type": "stream",
     "text": [
      "\n",
      "100%|██████████| 1/1 [00:03<00:00,  3.47s/it]\u001b[A\n",
      " 28%|██▊       | 19/68 [01:31<03:03,  3.75s/it]"
     ]
    },
    {
     "name": "stdout",
     "output_type": "stream",
     "text": [
      "EMA\n"
     ]
    },
    {
     "name": "stderr",
     "output_type": "stream",
     "text": [
      "\n",
      "  0%|          | 0/1 [00:00<?, ?it/s]\u001b[A"
     ]
    },
    {
     "name": "stdout",
     "output_type": "stream",
     "text": [
      "C10-0000774-LIC\n"
     ]
    },
    {
     "name": "stderr",
     "output_type": "stream",
     "text": [
      "\n",
      "100%|██████████| 1/1 [00:03<00:00,  3.68s/it]\u001b[A\n",
      " 29%|██▉       | 20/68 [01:34<02:59,  3.73s/it]"
     ]
    },
    {
     "name": "stdout",
     "output_type": "stream",
     "text": [
      "EMB\n"
     ]
    },
    {
     "name": "stderr",
     "output_type": "stream",
     "text": [
      "\n",
      "  0%|          | 0/1 [00:00<?, ?it/s]\u001b[A"
     ]
    },
    {
     "name": "stdout",
     "output_type": "stream",
     "text": [
      "C10-0001096-LIC\n"
     ]
    },
    {
     "name": "stderr",
     "output_type": "stream",
     "text": [
      "\n",
      "100%|██████████| 1/1 [00:03<00:00,  3.49s/it]\u001b[A\n",
      " 31%|███       | 21/68 [01:38<02:52,  3.66s/it]"
     ]
    },
    {
     "name": "stdout",
     "output_type": "stream",
     "text": [
      "EMF\n"
     ]
    },
    {
     "name": "stderr",
     "output_type": "stream",
     "text": [
      "\n",
      "  0%|          | 0/1 [00:00<?, ?it/s]\u001b[A"
     ]
    },
    {
     "name": "stdout",
     "output_type": "stream",
     "text": [
      "C10-0000939-LIC\n"
     ]
    },
    {
     "name": "stderr",
     "output_type": "stream",
     "text": [
      "\n",
      "100%|██████████| 1/1 [00:03<00:00,  3.43s/it]\u001b[A\n",
      " 32%|███▏      | 22/68 [01:41<02:45,  3.59s/it]"
     ]
    },
    {
     "name": "stdout",
     "output_type": "stream",
     "text": [
      "EMM\n"
     ]
    },
    {
     "name": "stderr",
     "output_type": "stream",
     "text": [
      "\n",
      "  0%|          | 0/1 [00:00<?, ?it/s]\u001b[A"
     ]
    },
    {
     "name": "stdout",
     "output_type": "stream",
     "text": [
      "C10-0000786-LIC\n"
     ]
    },
    {
     "name": "stderr",
     "output_type": "stream",
     "text": [
      "\n",
      "100%|██████████| 1/1 [00:03<00:00,  3.69s/it]\u001b[A\n",
      " 34%|███▍      | 23/68 [01:45<02:43,  3.62s/it]"
     ]
    },
    {
     "name": "stdout",
     "output_type": "stream",
     "text": [
      "EMT\n"
     ]
    },
    {
     "name": "stderr",
     "output_type": "stream",
     "text": [
      "\n",
      "  0%|          | 0/1 [00:00<?, ?it/s]\u001b[A"
     ]
    },
    {
     "name": "stdout",
     "output_type": "stream",
     "text": [
      "C10-0000695-LIC\n"
     ]
    },
    {
     "name": "stderr",
     "output_type": "stream",
     "text": [
      "\n",
      "100%|██████████| 1/1 [00:03<00:00,  3.76s/it]\u001b[A\n",
      " 35%|███▌      | 24/68 [01:49<02:41,  3.66s/it]"
     ]
    },
    {
     "name": "stdout",
     "output_type": "stream",
     "text": [
      "EPC\n"
     ]
    },
    {
     "name": "stderr",
     "output_type": "stream",
     "text": [
      "\n",
      "  0%|          | 0/1 [00:00<?, ?it/s]\u001b[A"
     ]
    },
    {
     "name": "stdout",
     "output_type": "stream",
     "text": [
      "C10-0000034-LIC\n"
     ]
    },
    {
     "name": "stderr",
     "output_type": "stream",
     "text": [
      "\n",
      "100%|██████████| 1/1 [00:03<00:00,  3.65s/it]\u001b[A\n",
      " 37%|███▋      | 25/68 [01:52<02:37,  3.66s/it]"
     ]
    },
    {
     "name": "stdout",
     "output_type": "stream",
     "text": [
      "FI\n"
     ]
    },
    {
     "name": "stderr",
     "output_type": "stream",
     "text": [
      "\n",
      "  0%|          | 0/4 [00:00<?, ?it/s]\u001b[A"
     ]
    },
    {
     "name": "stdout",
     "output_type": "stream",
     "text": [
      "C10-0001025-LIC\n"
     ]
    },
    {
     "name": "stderr",
     "output_type": "stream",
     "text": [
      "\n",
      " 25%|██▌       | 1/4 [00:03<00:09,  3.18s/it]\u001b[A"
     ]
    },
    {
     "name": "stdout",
     "output_type": "stream",
     "text": [
      "C10-0000606-LIC\n"
     ]
    },
    {
     "name": "stderr",
     "output_type": "stream",
     "text": [
      "\n",
      " 50%|█████     | 2/4 [00:07<00:07,  3.71s/it]\u001b[A"
     ]
    },
    {
     "name": "stdout",
     "output_type": "stream",
     "text": [
      "C10-0000753-LIC\n"
     ]
    },
    {
     "name": "stderr",
     "output_type": "stream",
     "text": [
      "\n",
      " 75%|███████▌  | 3/4 [00:10<00:03,  3.59s/it]\u001b[A"
     ]
    },
    {
     "name": "stdout",
     "output_type": "stream",
     "text": [
      "C12-0000400-LIC\n"
     ]
    },
    {
     "name": "stderr",
     "output_type": "stream",
     "text": [
      "\n",
      "100%|██████████| 4/4 [00:13<00:00,  3.38s/it]\u001b[A\n",
      " 38%|███▊      | 26/68 [02:06<04:37,  6.62s/it]"
     ]
    },
    {
     "name": "stdout",
     "output_type": "stream",
     "text": [
      "GB2\n"
     ]
    },
    {
     "name": "stderr",
     "output_type": "stream",
     "text": [
      "\n",
      "  0%|          | 0/1 [00:00<?, ?it/s]\u001b[A"
     ]
    },
    {
     "name": "stdout",
     "output_type": "stream",
     "text": [
      "C12-0000430-LIC\n"
     ]
    },
    {
     "name": "stderr",
     "output_type": "stream",
     "text": [
      "\n",
      "100%|██████████| 1/1 [00:03<00:00,  3.36s/it]\u001b[A\n",
      " 40%|███▉      | 27/68 [02:09<03:51,  5.64s/it]"
     ]
    },
    {
     "name": "stdout",
     "output_type": "stream",
     "text": [
      "GD\n"
     ]
    },
    {
     "name": "stderr",
     "output_type": "stream",
     "text": [
      "\n",
      "  0%|          | 0/2 [00:00<?, ?it/s]\u001b[A"
     ]
    },
    {
     "name": "stdout",
     "output_type": "stream",
     "text": [
      "C9-0000491-LIC\n"
     ]
    },
    {
     "name": "stderr",
     "output_type": "stream",
     "text": [
      "\n",
      " 50%|█████     | 1/2 [00:03<00:03,  3.71s/it]\u001b[A"
     ]
    },
    {
     "name": "stdout",
     "output_type": "stream",
     "text": [
      "C9-0000402-LIC\n"
     ]
    },
    {
     "name": "stderr",
     "output_type": "stream",
     "text": [
      "\n",
      "100%|██████████| 2/2 [00:07<00:00,  3.62s/it]\u001b[A\n",
      " 41%|████      | 28/68 [02:16<04:04,  6.12s/it]"
     ]
    },
    {
     "name": "stdout",
     "output_type": "stream",
     "text": [
      "GTC\n"
     ]
    },
    {
     "name": "stderr",
     "output_type": "stream",
     "text": [
      "\n",
      "  0%|          | 0/1 [00:00<?, ?it/s]\u001b[A"
     ]
    },
    {
     "name": "stdout",
     "output_type": "stream",
     "text": [
      "C10-0000849-LIC\n"
     ]
    },
    {
     "name": "stderr",
     "output_type": "stream",
     "text": [
      "\n",
      "100%|██████████| 1/1 [00:04<00:00,  4.35s/it]\u001b[A\n",
      " 43%|████▎     | 29/68 [02:21<03:38,  5.59s/it]"
     ]
    },
    {
     "name": "stdout",
     "output_type": "stream",
     "text": [
      "GT\n"
     ]
    },
    {
     "name": "stderr",
     "output_type": "stream",
     "text": [
      "\n",
      "  0%|          | 0/2 [00:00<?, ?it/s]\u001b[A"
     ]
    },
    {
     "name": "stdout",
     "output_type": "stream",
     "text": [
      "C9-0000385-LIC\n"
     ]
    },
    {
     "name": "stderr",
     "output_type": "stream",
     "text": [
      "\n",
      " 50%|█████     | 1/2 [00:03<00:03,  3.31s/it]\u001b[A"
     ]
    },
    {
     "name": "stdout",
     "output_type": "stream",
     "text": [
      "C9-0000170-LIC\n"
     ]
    },
    {
     "name": "stderr",
     "output_type": "stream",
     "text": [
      "\n",
      "100%|██████████| 2/2 [00:05<00:00,  2.92s/it]\u001b[A\n",
      " 44%|████▍     | 30/68 [02:27<03:35,  5.67s/it]"
     ]
    },
    {
     "name": "stdout",
     "output_type": "stream",
     "text": [
      "GL\n"
     ]
    },
    {
     "name": "stderr",
     "output_type": "stream",
     "text": [
      "\n",
      "  0%|          | 0/1 [00:00<?, ?it/s]\u001b[A"
     ]
    },
    {
     "name": "stdout",
     "output_type": "stream",
     "text": [
      "C9-0000510-LIC\n"
     ]
    },
    {
     "name": "stderr",
     "output_type": "stream",
     "text": [
      "\n",
      "100%|██████████| 1/1 [00:03<00:00,  3.17s/it]\u001b[A\n",
      " 46%|████▌     | 31/68 [02:30<03:01,  4.92s/it]"
     ]
    },
    {
     "name": "stdout",
     "output_type": "stream",
     "text": [
      "GRG\n"
     ]
    },
    {
     "name": "stderr",
     "output_type": "stream",
     "text": [
      "\n",
      "  0%|          | 0/2 [00:00<?, ?it/s]\u001b[A"
     ]
    },
    {
     "name": "stdout",
     "output_type": "stream",
     "text": [
      "C10-0000169-LIC\n"
     ]
    },
    {
     "name": "stderr",
     "output_type": "stream",
     "text": [
      "\n",
      " 50%|█████     | 1/2 [00:04<00:04,  4.11s/it]\u001b[A"
     ]
    },
    {
     "name": "stdout",
     "output_type": "stream",
     "text": [
      "C10-0000408-LIC\n"
     ]
    },
    {
     "name": "stderr",
     "output_type": "stream",
     "text": [
      "\n",
      "100%|██████████| 2/2 [00:07<00:00,  3.89s/it]\u001b[A\n",
      " 47%|████▋     | 32/68 [02:38<03:27,  5.78s/it]"
     ]
    },
    {
     "name": "stdout",
     "output_type": "stream",
     "text": [
      "GHC\n"
     ]
    },
    {
     "name": "stderr",
     "output_type": "stream",
     "text": [
      "\n",
      "  0%|          | 0/1 [00:00<?, ?it/s]\u001b[A"
     ]
    },
    {
     "name": "stdout",
     "output_type": "stream",
     "text": [
      "C10-0000414-LIC\n"
     ]
    },
    {
     "name": "stderr",
     "output_type": "stream",
     "text": [
      "\n",
      "100%|██████████| 1/1 [00:04<00:00,  4.04s/it]\u001b[A\n",
      " 49%|████▊     | 33/68 [02:42<03:04,  5.26s/it]"
     ]
    },
    {
     "name": "stdout",
     "output_type": "stream",
     "text": [
      "GFEE\n"
     ]
    },
    {
     "name": "stderr",
     "output_type": "stream",
     "text": [
      "\n",
      "  0%|          | 0/1 [00:00<?, ?it/s]\u001b[A"
     ]
    },
    {
     "name": "stdout",
     "output_type": "stream",
     "text": [
      "C10-0000224-LIC\n"
     ]
    },
    {
     "name": "stderr",
     "output_type": "stream",
     "text": [
      "\n",
      "100%|██████████| 1/1 [00:03<00:00,  3.99s/it]\u001b[A\n",
      " 50%|█████     | 34/68 [02:46<02:45,  4.88s/it]"
     ]
    },
    {
     "name": "stdout",
     "output_type": "stream",
     "text": [
      "GFWF\n"
     ]
    },
    {
     "name": "stderr",
     "output_type": "stream",
     "text": [
      "\n",
      "  0%|          | 0/1 [00:00<?, ?it/s]\u001b[A"
     ]
    },
    {
     "name": "stdout",
     "output_type": "stream",
     "text": [
      "C10-0000117-LIC\n"
     ]
    },
    {
     "name": "stderr",
     "output_type": "stream",
     "text": [
      "\n",
      "100%|██████████| 1/1 [00:03<00:00,  3.89s/it]\u001b[A\n",
      " 51%|█████▏    | 35/68 [02:50<02:31,  4.58s/it]"
     ]
    },
    {
     "name": "stdout",
     "output_type": "stream",
     "text": [
      "HB\n"
     ]
    },
    {
     "name": "stderr",
     "output_type": "stream",
     "text": [
      "\n",
      "  0%|          | 0/3 [00:00<?, ?it/s]\u001b[A"
     ]
    },
    {
     "name": "stdout",
     "output_type": "stream",
     "text": [
      "C10-0000301-LIC\n"
     ]
    },
    {
     "name": "stderr",
     "output_type": "stream",
     "text": [
      "\n",
      " 33%|███▎      | 1/3 [00:02<00:05,  2.60s/it]\u001b[A"
     ]
    },
    {
     "name": "stdout",
     "output_type": "stream",
     "text": [
      "C10-0000339-LIC\n"
     ]
    },
    {
     "name": "stderr",
     "output_type": "stream",
     "text": [
      "\n",
      " 67%|██████▋   | 2/3 [00:06<00:03,  3.28s/it]\u001b[A"
     ]
    },
    {
     "name": "stdout",
     "output_type": "stream",
     "text": [
      "C10-0000624-LIC\n"
     ]
    },
    {
     "name": "stderr",
     "output_type": "stream",
     "text": [
      "\n",
      "100%|██████████| 3/3 [00:09<00:00,  3.23s/it]\u001b[A\n",
      " 53%|█████▎    | 36/68 [02:59<03:15,  6.11s/it]"
     ]
    },
    {
     "name": "stdout",
     "output_type": "stream",
     "text": [
      "HS\n"
     ]
    },
    {
     "name": "stderr",
     "output_type": "stream",
     "text": [
      "\n",
      "  0%|          | 0/1 [00:00<?, ?it/s]\u001b[A"
     ]
    },
    {
     "name": "stdout",
     "output_type": "stream",
     "text": [
      "C9-0000441-LIC\n"
     ]
    },
    {
     "name": "stderr",
     "output_type": "stream",
     "text": [
      "\n",
      "100%|██████████| 1/1 [00:03<00:00,  3.74s/it]\u001b[A\n",
      " 54%|█████▍    | 37/68 [03:03<02:47,  5.40s/it]"
     ]
    },
    {
     "name": "stdout",
     "output_type": "stream",
     "text": [
      "HGD\n"
     ]
    },
    {
     "name": "stderr",
     "output_type": "stream",
     "text": [
      "\n",
      "  0%|          | 0/2 [00:00<?, ?it/s]\u001b[A"
     ]
    },
    {
     "name": "stdout",
     "output_type": "stream",
     "text": [
      "C10-0000258-LIC\n"
     ]
    },
    {
     "name": "stderr",
     "output_type": "stream",
     "text": [
      "\n",
      " 50%|█████     | 1/2 [00:03<00:03,  3.67s/it]\u001b[A"
     ]
    },
    {
     "name": "stdout",
     "output_type": "stream",
     "text": [
      "C12-0000102-LIC\n"
     ]
    },
    {
     "name": "stderr",
     "output_type": "stream",
     "text": [
      "\n",
      "100%|██████████| 2/2 [00:06<00:00,  3.20s/it]\u001b[A\n",
      " 56%|█████▌    | 38/68 [03:09<02:51,  5.70s/it]"
     ]
    },
    {
     "name": "stdout",
     "output_type": "stream",
     "text": [
      "HPCC\n"
     ]
    },
    {
     "name": "stderr",
     "output_type": "stream",
     "text": [
      "\n",
      "  0%|          | 0/2 [00:00<?, ?it/s]\u001b[A"
     ]
    },
    {
     "name": "stdout",
     "output_type": "stream",
     "text": [
      "C10-0000064-LIC\n"
     ]
    },
    {
     "name": "stderr",
     "output_type": "stream",
     "text": [
      "\n",
      " 50%|█████     | 1/2 [00:04<00:04,  4.75s/it]\u001b[A"
     ]
    },
    {
     "name": "stdout",
     "output_type": "stream",
     "text": [
      "C10-0000005-LIC\n"
     ]
    },
    {
     "name": "stderr",
     "output_type": "stream",
     "text": [
      "\n",
      "100%|██████████| 2/2 [00:08<00:00,  4.02s/it]\u001b[A\n",
      " 57%|█████▋    | 39/68 [03:17<03:05,  6.40s/it]"
     ]
    },
    {
     "name": "stdout",
     "output_type": "stream",
     "text": [
      "HC\n"
     ]
    },
    {
     "name": "stderr",
     "output_type": "stream",
     "text": [
      "\n",
      "  0%|          | 0/1 [00:00<?, ?it/s]\u001b[A"
     ]
    },
    {
     "name": "stdout",
     "output_type": "stream",
     "text": [
      "C9-0000341-LIC\n"
     ]
    },
    {
     "name": "stderr",
     "output_type": "stream",
     "text": [
      "\n",
      "100%|██████████| 1/1 [00:02<00:00,  2.71s/it]\u001b[A\n",
      " 59%|█████▉    | 40/68 [03:20<02:28,  5.29s/it]"
     ]
    },
    {
     "name": "stdout",
     "output_type": "stream",
     "text": [
      "IDC\n"
     ]
    },
    {
     "name": "stderr",
     "output_type": "stream",
     "text": [
      "\n",
      "  0%|          | 0/2 [00:00<?, ?it/s]\u001b[A"
     ]
    },
    {
     "name": "stdout",
     "output_type": "stream",
     "text": [
      "C9-0000320-LIC\n"
     ]
    },
    {
     "name": "stderr",
     "output_type": "stream",
     "text": [
      "\n",
      " 50%|█████     | 1/2 [00:03<00:03,  3.42s/it]\u001b[A"
     ]
    },
    {
     "name": "stdout",
     "output_type": "stream",
     "text": [
      "C10-0001175-LIC\n"
     ]
    },
    {
     "name": "stderr",
     "output_type": "stream",
     "text": [
      "\n",
      "100%|██████████| 2/2 [00:05<00:00,  2.77s/it]\u001b[A\n",
      " 60%|██████    | 41/68 [03:26<02:25,  5.37s/it]"
     ]
    },
    {
     "name": "stdout",
     "output_type": "stream",
     "text": [
      "ID\n"
     ]
    },
    {
     "name": "stderr",
     "output_type": "stream",
     "text": [
      "\n",
      "  0%|          | 0/1 [00:00<?, ?it/s]\u001b[A"
     ]
    },
    {
     "name": "stdout",
     "output_type": "stream",
     "text": [
      "C9-0000166-LIC\n"
     ]
    },
    {
     "name": "stderr",
     "output_type": "stream",
     "text": [
      "\n",
      "100%|██████████| 1/1 [00:02<00:00,  2.91s/it]\u001b[A\n",
      " 62%|██████▏   | 42/68 [03:29<02:00,  4.64s/it]"
     ]
    },
    {
     "name": "stdout",
     "output_type": "stream",
     "text": [
      "LBC\n"
     ]
    },
    {
     "name": "stderr",
     "output_type": "stream",
     "text": [
      "\n",
      "  0%|          | 0/1 [00:00<?, ?it/s]\u001b[A"
     ]
    },
    {
     "name": "stdout",
     "output_type": "stream",
     "text": [
      "C9-0000154-LIC\n"
     ]
    },
    {
     "name": "stderr",
     "output_type": "stream",
     "text": [
      "\n",
      "100%|██████████| 1/1 [00:03<00:00,  3.46s/it]\u001b[A\n",
      " 63%|██████▎   | 43/68 [03:32<01:47,  4.28s/it]"
     ]
    },
    {
     "name": "stdout",
     "output_type": "stream",
     "text": [
      "MSS\n"
     ]
    },
    {
     "name": "stderr",
     "output_type": "stream",
     "text": [
      "\n",
      "  0%|          | 0/1 [00:00<?, ?it/s]\u001b[A"
     ]
    },
    {
     "name": "stdout",
     "output_type": "stream",
     "text": [
      "C10-0000816-LIC\n"
     ]
    },
    {
     "name": "stderr",
     "output_type": "stream",
     "text": [
      "\n",
      "100%|██████████| 1/1 [00:03<00:00,  3.51s/it]\u001b[A\n",
      " 65%|██████▍   | 44/68 [03:36<01:37,  4.05s/it]"
     ]
    },
    {
     "name": "stdout",
     "output_type": "stream",
     "text": [
      "ML\n"
     ]
    },
    {
     "name": "stderr",
     "output_type": "stream",
     "text": [
      "\n",
      "  0%|          | 0/1 [00:00<?, ?it/s]\u001b[A"
     ]
    },
    {
     "name": "stdout",
     "output_type": "stream",
     "text": [
      "C9-0000300-LIC\n"
     ]
    },
    {
     "name": "stderr",
     "output_type": "stream",
     "text": [
      "\n",
      "100%|██████████| 1/1 [00:03<00:00,  3.79s/it]\u001b[A\n",
      " 66%|██████▌   | 45/68 [03:39<01:31,  3.97s/it]"
     ]
    },
    {
     "name": "stdout",
     "output_type": "stream",
     "text": [
      "MW\n"
     ]
    },
    {
     "name": "stderr",
     "output_type": "stream",
     "text": [
      "\n",
      "  0%|          | 0/1 [00:00<?, ?it/s]\u001b[A"
     ]
    },
    {
     "name": "stdout",
     "output_type": "stream",
     "text": [
      "C10-0000332-LIC\n"
     ]
    },
    {
     "name": "stderr",
     "output_type": "stream",
     "text": [
      "\n",
      "100%|██████████| 1/1 [00:03<00:00,  3.70s/it]\u001b[A\n",
      " 68%|██████▊   | 46/68 [03:43<01:25,  3.89s/it]"
     ]
    },
    {
     "name": "stdout",
     "output_type": "stream",
     "text": [
      "MPW\n"
     ]
    },
    {
     "name": "stderr",
     "output_type": "stream",
     "text": [
      "\n",
      "  0%|          | 0/2 [00:00<?, ?it/s]\u001b[A"
     ]
    },
    {
     "name": "stdout",
     "output_type": "stream",
     "text": [
      "C10-0000547-LIC\n"
     ]
    },
    {
     "name": "stderr",
     "output_type": "stream",
     "text": [
      "\n",
      " 50%|█████     | 1/2 [00:04<00:04,  4.24s/it]\u001b[A"
     ]
    },
    {
     "name": "stdout",
     "output_type": "stream",
     "text": [
      "C10-0001166-LIC\n"
     ]
    },
    {
     "name": "stderr",
     "output_type": "stream",
     "text": [
      "\n",
      "100%|██████████| 2/2 [00:07<00:00,  3.80s/it]\u001b[A\n",
      " 69%|██████▉   | 47/68 [03:51<01:45,  5.00s/it]"
     ]
    },
    {
     "name": "stdout",
     "output_type": "stream",
     "text": [
      "MD\n"
     ]
    },
    {
     "name": "stderr",
     "output_type": "stream",
     "text": [
      "\n",
      "  0%|          | 0/1 [00:00<?, ?it/s]\u001b[A"
     ]
    },
    {
     "name": "stdout",
     "output_type": "stream",
     "text": [
      "C9-0000247-LIC\n"
     ]
    },
    {
     "name": "stderr",
     "output_type": "stream",
     "text": [
      "\n",
      "100%|██████████| 1/1 [00:03<00:00,  3.28s/it]\u001b[A\n",
      " 71%|███████   | 48/68 [03:54<01:29,  4.49s/it]"
     ]
    },
    {
     "name": "stdout",
     "output_type": "stream",
     "text": [
      "MR\n"
     ]
    },
    {
     "name": "stderr",
     "output_type": "stream",
     "text": [
      "\n",
      "  0%|          | 0/1 [00:00<?, ?it/s]\u001b[A"
     ]
    },
    {
     "name": "stdout",
     "output_type": "stream",
     "text": [
      "C12-0000398-LIC\n"
     ]
    },
    {
     "name": "stderr",
     "output_type": "stream",
     "text": [
      "\n",
      "100%|██████████| 1/1 [00:03<00:00,  3.83s/it]\u001b[A\n",
      " 72%|███████▏  | 49/68 [03:58<01:21,  4.29s/it]"
     ]
    },
    {
     "name": "stdout",
     "output_type": "stream",
     "text": [
      "ND\n"
     ]
    },
    {
     "name": "stderr",
     "output_type": "stream",
     "text": [
      "\n",
      "  0%|          | 0/1 [00:00<?, ?it/s]\u001b[A"
     ]
    },
    {
     "name": "stdout",
     "output_type": "stream",
     "text": [
      "C9-0000427-LIC\n"
     ]
    },
    {
     "name": "stderr",
     "output_type": "stream",
     "text": [
      "\n",
      "100%|██████████| 1/1 [00:03<00:00,  3.24s/it]\u001b[A\n",
      " 74%|███████▎  | 50/68 [04:01<01:11,  3.97s/it]"
     ]
    },
    {
     "name": "stdout",
     "output_type": "stream",
     "text": [
      "NCDS\n"
     ]
    },
    {
     "name": "stderr",
     "output_type": "stream",
     "text": [
      "\n",
      "  0%|          | 0/2 [00:00<?, ?it/s]\u001b[A"
     ]
    },
    {
     "name": "stdout",
     "output_type": "stream",
     "text": [
      "C10-0000101-LIC\n"
     ]
    },
    {
     "name": "stderr",
     "output_type": "stream",
     "text": [
      "\n",
      " 50%|█████     | 1/2 [00:03<00:03,  3.75s/it]\u001b[A"
     ]
    },
    {
     "name": "stdout",
     "output_type": "stream",
     "text": [
      "C10-0000207-LIC\n"
     ]
    },
    {
     "name": "stderr",
     "output_type": "stream",
     "text": [
      "\n",
      "100%|██████████| 2/2 [00:07<00:00,  3.75s/it]\u001b[A\n",
      " 75%|███████▌  | 51/68 [04:08<01:25,  5.03s/it]"
     ]
    },
    {
     "name": "stdout",
     "output_type": "stream",
     "text": [
      "PRP\n"
     ]
    },
    {
     "name": "stderr",
     "output_type": "stream",
     "text": [
      "\n",
      "  0%|          | 0/3 [00:00<?, ?it/s]\u001b[A"
     ]
    },
    {
     "name": "stdout",
     "output_type": "stream",
     "text": [
      "C10-0000155-LIC\n"
     ]
    },
    {
     "name": "stderr",
     "output_type": "stream",
     "text": [
      "\n",
      " 33%|███▎      | 1/3 [00:03<00:07,  3.73s/it]\u001b[A"
     ]
    },
    {
     "name": "stdout",
     "output_type": "stream",
     "text": [
      "C10-0000286-LIC\n"
     ]
    },
    {
     "name": "stderr",
     "output_type": "stream",
     "text": [
      "\n",
      " 67%|██████▋   | 2/3 [00:07<00:03,  3.74s/it]\u001b[A"
     ]
    },
    {
     "name": "stdout",
     "output_type": "stream",
     "text": [
      "C10-0000403-LIC\n"
     ]
    },
    {
     "name": "stderr",
     "output_type": "stream",
     "text": [
      "\n",
      "100%|██████████| 3/3 [00:11<00:00,  3.82s/it]\u001b[A\n",
      " 76%|███████▋  | 52/68 [04:20<01:51,  6.96s/it]"
     ]
    },
    {
     "name": "stdout",
     "output_type": "stream",
     "text": [
      "PRL\n"
     ]
    },
    {
     "name": "stderr",
     "output_type": "stream",
     "text": [
      "\n",
      "  0%|          | 0/1 [00:00<?, ?it/s]\u001b[A"
     ]
    },
    {
     "name": "stdout",
     "output_type": "stream",
     "text": [
      "C10-0000759-LIC\n"
     ]
    },
    {
     "name": "stderr",
     "output_type": "stream",
     "text": [
      "\n",
      "100%|██████████| 1/1 [00:03<00:00,  3.85s/it]\u001b[A\n",
      " 78%|███████▊  | 53/68 [04:24<01:30,  6.03s/it]"
     ]
    },
    {
     "name": "stdout",
     "output_type": "stream",
     "text": [
      "PU\n"
     ]
    },
    {
     "name": "stderr",
     "output_type": "stream",
     "text": [
      "\n",
      "  0%|          | 0/13 [00:00<?, ?it/s]\u001b[A"
     ]
    },
    {
     "name": "stdout",
     "output_type": "stream",
     "text": [
      "C10-0000025-LIC\n"
     ]
    },
    {
     "name": "stderr",
     "output_type": "stream",
     "text": [
      "\n",
      "  8%|▊         | 1/13 [00:03<00:45,  3.82s/it]\u001b[A"
     ]
    },
    {
     "name": "stdout",
     "output_type": "stream",
     "text": [
      "C10-0000088-LIC\n"
     ]
    },
    {
     "name": "stderr",
     "output_type": "stream",
     "text": [
      "\n",
      " 15%|█▌        | 2/13 [00:07<00:40,  3.71s/it]\u001b[A"
     ]
    },
    {
     "name": "stdout",
     "output_type": "stream",
     "text": [
      "C10-0000199-LIC\n"
     ]
    },
    {
     "name": "stderr",
     "output_type": "stream",
     "text": [
      "\n",
      " 23%|██▎       | 3/13 [00:11<00:39,  3.93s/it]\u001b[A"
     ]
    },
    {
     "name": "stdout",
     "output_type": "stream",
     "text": [
      "C10-0000204-LIC\n"
     ]
    },
    {
     "name": "stderr",
     "output_type": "stream",
     "text": [
      "\n",
      " 31%|███       | 4/13 [00:14<00:32,  3.60s/it]\u001b[A"
     ]
    },
    {
     "name": "stdout",
     "output_type": "stream",
     "text": [
      "C10-0000254-LIC\n"
     ]
    },
    {
     "name": "stderr",
     "output_type": "stream",
     "text": [
      "\n",
      " 38%|███▊      | 5/13 [00:18<00:29,  3.66s/it]\u001b[A"
     ]
    },
    {
     "name": "stdout",
     "output_type": "stream",
     "text": [
      "C10-0000324-LIC\n"
     ]
    },
    {
     "name": "stderr",
     "output_type": "stream",
     "text": [
      "\n",
      " 46%|████▌     | 6/13 [00:22<00:25,  3.68s/it]\u001b[A"
     ]
    },
    {
     "name": "stdout",
     "output_type": "stream",
     "text": [
      "C10-0000411-LIC\n"
     ]
    },
    {
     "name": "stderr",
     "output_type": "stream",
     "text": [
      "\n",
      " 54%|█████▍    | 7/13 [00:25<00:21,  3.61s/it]\u001b[A"
     ]
    },
    {
     "name": "stdout",
     "output_type": "stream",
     "text": [
      "C10-0000425-LIC\n"
     ]
    },
    {
     "name": "stderr",
     "output_type": "stream",
     "text": [
      "\n",
      " 62%|██████▏   | 8/13 [00:29<00:18,  3.75s/it]\u001b[A"
     ]
    },
    {
     "name": "stdout",
     "output_type": "stream",
     "text": [
      "C10-0000707-LIC\n"
     ]
    },
    {
     "name": "stderr",
     "output_type": "stream",
     "text": [
      "\n",
      " 69%|██████▉   | 9/13 [00:33<00:14,  3.74s/it]\u001b[A"
     ]
    },
    {
     "name": "stdout",
     "output_type": "stream",
     "text": [
      "C10-0000748-LIC\n"
     ]
    },
    {
     "name": "stderr",
     "output_type": "stream",
     "text": [
      "\n",
      " 77%|███████▋  | 10/13 [00:37<00:11,  3.75s/it]\u001b[A"
     ]
    },
    {
     "name": "stdout",
     "output_type": "stream",
     "text": [
      "C10-0000749-LIC\n"
     ]
    },
    {
     "name": "stderr",
     "output_type": "stream",
     "text": [
      "\n",
      " 85%|████████▍ | 11/13 [00:40<00:07,  3.70s/it]\u001b[A"
     ]
    },
    {
     "name": "stdout",
     "output_type": "stream",
     "text": [
      "C10-0000869-LIC\n"
     ]
    },
    {
     "name": "stderr",
     "output_type": "stream",
     "text": [
      "\n",
      " 92%|█████████▏| 12/13 [00:44<00:03,  3.65s/it]\u001b[A"
     ]
    },
    {
     "name": "stdout",
     "output_type": "stream",
     "text": [
      "C10-0000899-LIC\n"
     ]
    },
    {
     "name": "stderr",
     "output_type": "stream",
     "text": [
      "\n",
      "100%|██████████| 13/13 [00:46<00:00,  3.61s/it]\u001b[A\n",
      " 79%|███████▉  | 54/68 [05:11<04:16, 18.29s/it]"
     ]
    },
    {
     "name": "stdout",
     "output_type": "stream",
     "text": [
      "PEH\n"
     ]
    },
    {
     "name": "stderr",
     "output_type": "stream",
     "text": [
      "\n",
      "  0%|          | 0/1 [00:00<?, ?it/s]\u001b[A"
     ]
    },
    {
     "name": "stdout",
     "output_type": "stream",
     "text": [
      "C10-0000827-LIC\n"
     ]
    },
    {
     "name": "stderr",
     "output_type": "stream",
     "text": [
      "\n",
      "100%|██████████| 1/1 [00:02<00:00,  2.69s/it]\u001b[A\n",
      " 81%|████████  | 55/68 [05:13<02:56, 13.61s/it]"
     ]
    },
    {
     "name": "stdout",
     "output_type": "stream",
     "text": [
      "RA\n"
     ]
    },
    {
     "name": "stderr",
     "output_type": "stream",
     "text": [
      "\n",
      "  0%|          | 0/1 [00:00<?, ?it/s]\u001b[A"
     ]
    },
    {
     "name": "stdout",
     "output_type": "stream",
     "text": [
      "C10-0000596-LIC\n"
     ]
    },
    {
     "name": "stderr",
     "output_type": "stream",
     "text": [
      "\n",
      "100%|██████████| 1/1 [00:03<00:00,  3.35s/it]\u001b[A\n",
      " 82%|████████▏ | 56/68 [05:17<02:06, 10.53s/it]"
     ]
    },
    {
     "name": "stdout",
     "output_type": "stream",
     "text": [
      "RGD\n"
     ]
    },
    {
     "name": "stderr",
     "output_type": "stream",
     "text": [
      "\n",
      "  0%|          | 0/1 [00:00<?, ?it/s]\u001b[A"
     ]
    },
    {
     "name": "stdout",
     "output_type": "stream",
     "text": [
      "C9-0000057-LIC\n"
     ]
    },
    {
     "name": "stderr",
     "output_type": "stream",
     "text": [
      "\n",
      "100%|██████████| 1/1 [00:03<00:00,  3.56s/it]\u001b[A\n",
      " 84%|████████▍ | 57/68 [05:20<01:32,  8.44s/it]"
     ]
    },
    {
     "name": "stdout",
     "output_type": "stream",
     "text": [
      "SGF\n"
     ]
    },
    {
     "name": "stderr",
     "output_type": "stream",
     "text": [
      "\n",
      "  0%|          | 0/1 [00:00<?, ?it/s]\u001b[A"
     ]
    },
    {
     "name": "stdout",
     "output_type": "stream",
     "text": [
      "C9-0000454-LIC\n"
     ]
    },
    {
     "name": "stderr",
     "output_type": "stream",
     "text": [
      "\n",
      "100%|██████████| 1/1 [00:02<00:00,  2.86s/it]\u001b[A\n",
      " 85%|████████▌ | 58/68 [05:23<01:07,  6.76s/it]"
     ]
    },
    {
     "name": "stdout",
     "output_type": "stream",
     "text": [
      "SFV\n"
     ]
    },
    {
     "name": "stderr",
     "output_type": "stream",
     "text": [
      "\n",
      "  0%|          | 0/1 [00:00<?, ?it/s]\u001b[A"
     ]
    },
    {
     "name": "stdout",
     "output_type": "stream",
     "text": [
      "C10-0000041-LIC\n"
     ]
    },
    {
     "name": "stderr",
     "output_type": "stream",
     "text": [
      "\n",
      "100%|██████████| 1/1 [00:03<00:00,  3.71s/it]\u001b[A\n",
      " 87%|████████▋ | 59/68 [05:27<00:52,  5.85s/it]"
     ]
    },
    {
     "name": "stdout",
     "output_type": "stream",
     "text": [
      "SV\n"
     ]
    },
    {
     "name": "stderr",
     "output_type": "stream",
     "text": [
      "\n",
      "  0%|          | 0/1 [00:00<?, ?it/s]\u001b[A"
     ]
    },
    {
     "name": "stdout",
     "output_type": "stream",
     "text": [
      "C9-0000146-LIC\n"
     ]
    },
    {
     "name": "stderr",
     "output_type": "stream",
     "text": [
      "\n",
      "100%|██████████| 1/1 [00:03<00:00,  3.62s/it]\u001b[A\n",
      " 88%|████████▊ | 60/68 [05:30<00:41,  5.18s/it]"
     ]
    },
    {
     "name": "stdout",
     "output_type": "stream",
     "text": [
      "SLCC\n"
     ]
    },
    {
     "name": "stderr",
     "output_type": "stream",
     "text": [
      "\n",
      "  0%|          | 0/1 [00:00<?, ?it/s]\u001b[A"
     ]
    },
    {
     "name": "stdout",
     "output_type": "stream",
     "text": [
      "C10-0000474-LIC\n"
     ]
    },
    {
     "name": "stderr",
     "output_type": "stream",
     "text": [
      "\n",
      "100%|██████████| 1/1 [00:03<00:00,  3.65s/it]\u001b[A\n",
      " 90%|████████▉ | 61/68 [05:34<00:33,  4.72s/it]"
     ]
    },
    {
     "name": "stdout",
     "output_type": "stream",
     "text": [
      "SO\n"
     ]
    },
    {
     "name": "stderr",
     "output_type": "stream",
     "text": [
      "\n",
      "  0%|          | 0/3 [00:00<?, ?it/s]\u001b[A"
     ]
    },
    {
     "name": "stdout",
     "output_type": "stream",
     "text": [
      "C9-0000130-LIC\n"
     ]
    },
    {
     "name": "stderr",
     "output_type": "stream",
     "text": [
      "\n",
      " 33%|███▎      | 1/3 [00:03<00:06,  3.36s/it]\u001b[A"
     ]
    },
    {
     "name": "stdout",
     "output_type": "stream",
     "text": [
      "C10-0000271-LIC\n"
     ]
    },
    {
     "name": "stderr",
     "output_type": "stream",
     "text": [
      "\n",
      " 67%|██████▋   | 2/3 [00:07<00:03,  3.58s/it]\u001b[A"
     ]
    },
    {
     "name": "stdout",
     "output_type": "stream",
     "text": [
      "C12-0000328-LIC\n"
     ]
    },
    {
     "name": "stderr",
     "output_type": "stream",
     "text": [
      "\n",
      "100%|██████████| 3/3 [00:09<00:00,  3.27s/it]\u001b[A\n",
      " 91%|█████████ | 62/68 [05:44<00:37,  6.25s/it]"
     ]
    },
    {
     "name": "stdout",
     "output_type": "stream",
     "text": [
      "ST\n"
     ]
    },
    {
     "name": "stderr",
     "output_type": "stream",
     "text": [
      "\n",
      "  0%|          | 0/1 [00:00<?, ?it/s]\u001b[A"
     ]
    },
    {
     "name": "stdout",
     "output_type": "stream",
     "text": [
      "C9-0000323-LIC\n"
     ]
    },
    {
     "name": "stderr",
     "output_type": "stream",
     "text": [
      "\n",
      "100%|██████████| 1/1 [00:03<00:00,  3.49s/it]\u001b[A\n",
      " 93%|█████████▎| 63/68 [05:47<00:27,  5.42s/it]"
     ]
    },
    {
     "name": "stdout",
     "output_type": "stream",
     "text": [
      "FD\n"
     ]
    },
    {
     "name": "stderr",
     "output_type": "stream",
     "text": [
      "\n",
      "  0%|          | 0/1 [00:00<?, ?it/s]\u001b[A"
     ]
    },
    {
     "name": "stdout",
     "output_type": "stream",
     "text": [
      "C10-0000916-LIC\n"
     ]
    },
    {
     "name": "stderr",
     "output_type": "stream",
     "text": [
      "\n",
      "100%|██████████| 1/1 [00:03<00:00,  3.18s/it]\u001b[A\n",
      " 94%|█████████▍| 64/68 [05:51<00:18,  4.75s/it]"
     ]
    },
    {
     "name": "stdout",
     "output_type": "stream",
     "text": [
      "TGL\n"
     ]
    },
    {
     "name": "stderr",
     "output_type": "stream",
     "text": [
      "\n",
      "  0%|          | 0/1 [00:00<?, ?it/s]\u001b[A"
     ]
    },
    {
     "name": "stdout",
     "output_type": "stream",
     "text": [
      "C9-0000412-LIC\n"
     ]
    },
    {
     "name": "stderr",
     "output_type": "stream",
     "text": [
      "\n",
      "100%|██████████| 1/1 [00:03<00:00,  3.10s/it]\u001b[A\n",
      " 96%|█████████▌| 65/68 [05:54<00:12,  4.25s/it]"
     ]
    },
    {
     "name": "stdout",
     "output_type": "stream",
     "text": [
      "TJR\n"
     ]
    },
    {
     "name": "stderr",
     "output_type": "stream",
     "text": [
      "\n",
      "  0%|          | 0/1 [00:00<?, ?it/s]\u001b[A"
     ]
    },
    {
     "name": "stdout",
     "output_type": "stream",
     "text": [
      "C9-0000105-LIC\n"
     ]
    },
    {
     "name": "stderr",
     "output_type": "stream",
     "text": [
      "\n",
      "100%|██████████| 1/1 [00:09<00:00,  9.10s/it]\u001b[A\n",
      " 97%|█████████▋| 66/68 [06:03<00:11,  5.71s/it]"
     ]
    },
    {
     "name": "stdout",
     "output_type": "stream",
     "text": [
      "TT\n"
     ]
    },
    {
     "name": "stderr",
     "output_type": "stream",
     "text": [
      "\n",
      "  0%|          | 0/2 [00:00<?, ?it/s]\u001b[A"
     ]
    },
    {
     "name": "stdout",
     "output_type": "stream",
     "text": [
      "C9-0000451-LIC\n"
     ]
    },
    {
     "name": "stderr",
     "output_type": "stream",
     "text": [
      "\n",
      " 50%|█████     | 1/2 [00:03<00:03,  3.08s/it]\u001b[A"
     ]
    },
    {
     "name": "stdout",
     "output_type": "stream",
     "text": [
      "C9-0000551-LIC\n"
     ]
    },
    {
     "name": "stderr",
     "output_type": "stream",
     "text": [
      "\n",
      "100%|██████████| 2/2 [00:05<00:00,  2.86s/it]\u001b[A\n",
      " 99%|█████████▊| 67/68 [06:09<00:05,  5.72s/it]"
     ]
    },
    {
     "name": "stdout",
     "output_type": "stream",
     "text": [
      "T4L\n"
     ]
    },
    {
     "name": "stderr",
     "output_type": "stream",
     "text": [
      "\n",
      "  0%|          | 0/1 [00:00<?, ?it/s]\u001b[A"
     ]
    },
    {
     "name": "stdout",
     "output_type": "stream",
     "text": [
      "C12-0000302-LIC\n"
     ]
    },
    {
     "name": "stderr",
     "output_type": "stream",
     "text": [
      "\n",
      "100%|██████████| 1/1 [00:02<00:00,  2.81s/it]\u001b[A\n",
      "100%|██████████| 68/68 [06:11<00:00,  5.47s/it]\n"
     ]
    }
   ],
   "source": [
    "c = get_vc_list(list(ca_df_clean['company_identifier']),TRANSFER_PACKAGES_START_DATE,\\\n",
    "                SALES_TRANSACTIONS_START_DATE,ca_df_clean)"
   ]
  },
  {
   "cell_type": "code",
   "execution_count": 21,
   "id": "f158fa5a",
   "metadata": {},
   "outputs": [
    {
     "name": "stdout",
     "output_type": "stream",
     "text": [
      "64HM\n",
      "C10-0000922-LIC\n",
      "(84, 32)\n",
      "99HT\n",
      "C10-0000279-LIC\n",
      "(143, 32)\n",
      "AGA\n",
      "C10-0000341-LIC\n",
      "(92, 32)\n",
      "BUD\n",
      "C9-0000464-LIC\n",
      "(33, 32)\n",
      "C9-0000167-LIC\n",
      "(39, 32)\n",
      "C9-0000399-LIC\n",
      "(49, 32)\n",
      "C9-0000467-LIC\n",
      "(27, 32)\n",
      "C9-0000444-LIC\n",
      "(27, 32)\n",
      "BRC\n",
      "C10-0000603-LIC\n",
      "(154, 32)\n",
      "BYN\n",
      "C10-0000528-LIC\n",
      "(89, 32)\n",
      "CG\n",
      "C9-0000157-LIC\n",
      "(80, 32)\n",
      "CPA\n",
      "C9-0000348-LIC\n",
      "(52, 32)\n",
      "C10-0000461-LIC\n",
      "(107, 32)\n",
      "CPC\n",
      "C9-0000056-LIC\n",
      "(40, 32)\n",
      "CSC\n",
      "C10-0000670-LIC\n",
      "(131, 32)\n",
      "CSCC\n",
      "C10-0000918-LIC\n",
      "(60, 32)\n",
      "CCC\n",
      "C12-0000087-LIC\n",
      "(102, 32)\n",
      "CLC\n",
      "C10-0000986-LIC\n",
      "(19, 32)\n",
      "C12-0000318-LIC\n",
      "(16, 32)\n",
      "CC\n",
      "C10-0000758-LIC\n",
      "(106, 32)\n",
      "CED\n",
      "C9-0000094-LIC\n",
      "(32, 32)\n",
      "CRRH\n",
      "C12-0000308-LIC\n",
      "(12, 32)\n",
      "C12-0000405-LIC\n",
      "(55, 32)\n",
      "CE\n",
      "C12-0000334-LIC\n",
      "(44, 32)\n",
      "DGG\n",
      "C9-0000016-LIC\n",
      "(53, 32)\n",
      "EL\n",
      "C9-0000370-LIC\n",
      "(30, 32)\n",
      "EMA\n",
      "C10-0000774-LIC\n",
      "(152, 32)\n",
      "EMB\n",
      "C10-0001096-LIC\n",
      "(42, 32)\n",
      "EMF\n",
      "C10-0000939-LIC\n",
      "(52, 32)\n",
      "EMM\n",
      "C10-0000786-LIC\n",
      "(106, 32)\n",
      "EMT\n",
      "C10-0000695-LIC\n",
      "(109, 32)\n",
      "EPC\n",
      "C10-0000034-LIC\n",
      "(113, 32)\n",
      "FI\n",
      "C10-0001025-LIC\n",
      "(37, 32)\n",
      "C10-0000606-LIC\n",
      "(159, 32)\n",
      "C10-0000753-LIC\n",
      "(41, 32)\n",
      "C12-0000400-LIC\n",
      "(37, 32)\n",
      "GB2\n",
      "C12-0000430-LIC\n",
      "(32, 32)\n",
      "GD\n",
      "C9-0000491-LIC\n",
      "(97, 32)\n",
      "C9-0000402-LIC\n",
      "(92, 32)\n",
      "GTC\n",
      "C10-0000849-LIC\n",
      "(174, 32)\n",
      "GT\n",
      "C9-0000385-LIC\n",
      "(4, 32)\n",
      "C9-0000170-LIC\n",
      "(4, 32)\n",
      "GL\n",
      "C9-0000510-LIC\n",
      "(46, 32)\n",
      "GRG\n",
      "C10-0000169-LIC\n",
      "(148, 32)\n",
      "C10-0000408-LIC\n",
      "(82, 32)\n",
      "GHC\n",
      "C10-0000414-LIC\n",
      "(144, 32)\n",
      "GFEE\n",
      "C10-0000224-LIC\n",
      "(12, 32)\n",
      "GFWF\n",
      "C10-0000117-LIC\n",
      "(16, 32)\n",
      "HB\n",
      "C10-0000301-LIC\n",
      "(7, 32)\n",
      "C10-0000339-LIC\n",
      "(117, 32)\n",
      "C10-0000624-LIC\n",
      "(10, 32)\n",
      "HS\n",
      "C9-0000441-LIC\n",
      "(12, 32)\n",
      "HGD\n",
      "C10-0000258-LIC\n",
      "(97, 32)\n",
      "C12-0000102-LIC\n",
      "(21, 32)\n",
      "HPCC\n",
      "C10-0000064-LIC\n",
      "(228, 32)\n",
      "C10-0000005-LIC\n",
      "(61, 32)\n",
      "HC\n",
      "C9-0000341-LIC\n",
      "(45, 32)\n",
      "IDC\n",
      "C9-0000320-LIC\n",
      "(61, 32)\n",
      "C10-0001175-LIC\n",
      "ID\n",
      "C9-0000166-LIC\n",
      "(30, 32)\n",
      "LBC\n",
      "C9-0000154-LIC\n",
      "(79, 32)\n",
      "MSS\n",
      "C10-0000816-LIC\n",
      "(73, 32)\n",
      "ML\n",
      "C9-0000300-LIC\n",
      "(105, 32)\n",
      "MW\n",
      "C10-0000332-LIC\n",
      "(97, 32)\n",
      "MPW\n",
      "C10-0000547-LIC\n",
      "(185, 32)\n",
      "C10-0001166-LIC\n",
      "(96, 32)\n",
      "MD\n",
      "C9-0000247-LIC\n",
      "(56, 32)\n",
      "MR\n",
      "C12-0000398-LIC\n",
      "(52, 32)\n",
      "ND\n",
      "C9-0000427-LIC\n",
      "(56, 32)\n",
      "NCDS\n",
      "C10-0000101-LIC\n",
      "(71, 32)\n",
      "C10-0000207-LIC\n",
      "(79, 32)\n",
      "PRP\n",
      "C10-0000155-LIC\n",
      "(101, 32)\n",
      "C10-0000286-LIC\n",
      "(114, 32)\n",
      "C10-0000403-LIC\n",
      "(100, 32)\n",
      "PRL\n",
      "C10-0000759-LIC\n",
      "(124, 32)\n",
      "PU\n",
      "C10-0000025-LIC\n",
      "(44, 32)\n",
      "C10-0000088-LIC\n",
      "(94, 32)\n",
      "C10-0000199-LIC\n",
      "(118, 32)\n",
      "C10-0000204-LIC\n",
      "(39, 32)\n",
      "C10-0000254-LIC\n",
      "(75, 32)\n",
      "C10-0000324-LIC\n",
      "(76, 32)\n",
      "C10-0000411-LIC\n",
      "(77, 32)\n",
      "C10-0000425-LIC\n",
      "(60, 32)\n",
      "C10-0000707-LIC\n",
      "(68, 32)\n",
      "C10-0000748-LIC\n",
      "(64, 32)\n",
      "C10-0000749-LIC\n",
      "(75, 32)\n",
      "C10-0000869-LIC\n",
      "(49, 32)\n",
      "C10-0000899-LIC\n",
      "(13, 32)\n",
      "PEH\n",
      "C10-0000827-LIC\n",
      "(5, 32)\n",
      "RA\n",
      "C10-0000596-LIC\n",
      "(48, 32)\n",
      "RGD\n",
      "C9-0000057-LIC\n",
      "(105, 32)\n",
      "SGF\n",
      "C9-0000454-LIC\n",
      "(22, 32)\n",
      "SFV\n",
      "C10-0000041-LIC\n",
      "(133, 32)\n",
      "SV\n",
      "C9-0000146-LIC\n",
      "(78, 32)\n",
      "SLCC\n",
      "C10-0000474-LIC\n",
      "(63, 32)\n",
      "SO\n",
      "C9-0000130-LIC\n",
      "(30, 32)\n",
      "C10-0000271-LIC\n",
      "(37, 32)\n",
      "C12-0000328-LIC\n",
      "(6, 32)\n",
      "ST\n",
      "C9-0000323-LIC\n",
      "(58, 32)\n",
      "FD\n",
      "C10-0000916-LIC\n",
      "(76, 32)\n",
      "TGL\n",
      "C9-0000412-LIC\n",
      "(53, 32)\n",
      "TJR\n",
      "C9-0000105-LIC\n",
      "(61, 32)\n",
      "TT\n",
      "C9-0000451-LIC\n",
      "(42, 32)\n",
      "C9-0000551-LIC\n",
      "(31, 32)\n",
      "T4L\n",
      "C12-0000302-LIC\n",
      "(30, 32)\n"
     ]
    }
   ],
   "source": [
    "df_vc = pd.DataFrame()\n",
    "for k in c.keys():\n",
    "    print(k)\n",
    "    for l in c[k].keys():\n",
    "        print(l)\n",
    "        data_vc = c[k][l]\n",
    "        if str(data_vc) == 'nan':\n",
    "            continue\n",
    "        else:\n",
    "            data_vc['company'] = k\n",
    "            data_vc['location'] = l\n",
    "            print(data_vc.shape)\n",
    "            df_vc = df_vc.append(data_vc)"
   ]
  },
  {
   "cell_type": "code",
   "execution_count": 22,
   "id": "b231557c",
   "metadata": {},
   "outputs": [],
   "source": [
    "df_vc_state = df_vc.merge(ca_df_clean[['company_identifier','state']],how = 'left',left_on = 'company',right_on = 'company_identifier')"
   ]
  },
  {
   "cell_type": "markdown",
   "id": "413adb4d",
   "metadata": {},
   "source": [
    "# tiering analysis"
   ]
  },
  {
   "cell_type": "code",
   "execution_count": 23,
   "id": "cc613361",
   "metadata": {},
   "outputs": [],
   "source": [
    "tier_a_vendor = set(['Herbl',\n",
    "'Dreamfields',\n",
    "'Kiva Sales & Service',\n",
    "'Artisan Canna Cigars',\n",
    "'NW Confections CA',\n",
    "'Falcon',\n",
    "'Irrational Raccoon',\n",
    "'Grupo Flor (Vendor)',\n",
    "'Claybourne Industries',\n",
    "'Umbrla',\n",
    "'Nabis',\n",
    "'Uprooted (San Ysidro)',\n",
    "'Ironworks Collective',\n",
    "'1346 LA LLC',\n",
    "'Greenfield Organix dba Loudpack',\n",
    "'HGDCO Inc',\n",
    "'Growpacker',\n",
    "'PRUSSIAN STICKS, LLC',\n",
    "'NorCal Distribution Solutions',\n",
    "'MDS BUSINESS SERVICES LLC'])"
   ]
  },
  {
   "cell_type": "code",
   "execution_count": 24,
   "id": "be94e991",
   "metadata": {},
   "outputs": [],
   "source": [
    "tier_b_vendor = set(['Perfect Union',\n",
    "'PRUSSIAN STICKS LLC',\n",
    "'Mammoth Distro (Heavy Hitters)',\n",
    "'UpNorth Humboldt',\n",
    "'Standard Holdings',\n",
    "'Herbarium',\n",
    "'Big Tree Industries',\n",
    "'Connected Cannabis Co',\n",
    "'Four Star Manufacturing',\n",
    "'Good Tree',\n",
    "'E&J Distributors',\n",
    "'River Distribution (Continuum)',\n",
    "'VARAVO',\n",
    "'Cypress Manufacturing Co',\n",
    "'Coastal Distribution',\n",
    "'Kind House',\n",
    "'Melrose Facility',\n",
    "'ASV EQ 1, LLC Dba 710 Labs',\n",
    "'Aureus DHS',\n",
    "'SCISLC, LLC'])"
   ]
  },
  {
   "cell_type": "code",
   "execution_count": 25,
   "id": "fba0e799",
   "metadata": {},
   "outputs": [],
   "source": [
    "tier_c_vendor = set(['JBTB HOLDINGS INC',\n",
    "'HERBAL REMEDIES CAREGIVERS, INC.',\n",
    "'Connected Transportation Partners',\n",
    "\"EH Tech Inc. dba Nature's Market\",\n",
    "'WCC MGMT',\n",
    "'Liquid Shade',\n",
    "'Sunderstorm',\n",
    "'Sublime Machining',\n",
    "'JC Rad',\n",
    "'Greenleaf'])"
   ]
  },
  {
   "cell_type": "code",
   "execution_count": 26,
   "id": "b679a8fb",
   "metadata": {},
   "outputs": [
    {
     "data": {
      "text/html": [
       "<div>\n",
       "<style scoped>\n",
       "    .dataframe tbody tr th:only-of-type {\n",
       "        vertical-align: middle;\n",
       "    }\n",
       "\n",
       "    .dataframe tbody tr th {\n",
       "        vertical-align: top;\n",
       "    }\n",
       "\n",
       "    .dataframe thead th {\n",
       "        text-align: right;\n",
       "    }\n",
       "</style>\n",
       "<table border=\"1\" class=\"dataframe\">\n",
       "  <thead>\n",
       "    <tr style=\"text-align: right;\">\n",
       "      <th></th>\n",
       "      <th>shipper_parent_name</th>\n",
       "      <th>2021-01-01</th>\n",
       "      <th>2021-02-01</th>\n",
       "      <th>2021-03-01</th>\n",
       "      <th>2021-04-01</th>\n",
       "      <th>2021-05-01</th>\n",
       "      <th>2021-06-01</th>\n",
       "      <th>2021-07-01</th>\n",
       "      <th>2021-08-01</th>\n",
       "      <th>2021-09-01</th>\n",
       "      <th>2021-10-01</th>\n",
       "      <th>2021-11-01</th>\n",
       "      <th>2021-12-01</th>\n",
       "      <th>2022-01-01</th>\n",
       "      <th>2022-02-01</th>\n",
       "      <th>2022-03-01</th>\n",
       "      <th>2022-04-01</th>\n",
       "      <th>2022-05-01</th>\n",
       "      <th>2022-06-01</th>\n",
       "      <th>2022-07-01</th>\n",
       "      <th>2022-08-01</th>\n",
       "      <th>2022-09-01</th>\n",
       "      <th>2022-10-01</th>\n",
       "      <th>facility_total</th>\n",
       "      <th>grand_total</th>\n",
       "      <th>perc_total</th>\n",
       "      <th>last_4m_total</th>\n",
       "      <th>last_4m_active</th>\n",
       "      <th>significant</th>\n",
       "      <th>measure</th>\n",
       "      <th>company</th>\n",
       "      <th>location</th>\n",
       "      <th>company_identifier</th>\n",
       "      <th>state</th>\n",
       "    </tr>\n",
       "  </thead>\n",
       "  <tbody>\n",
       "    <tr>\n",
       "      <th>0</th>\n",
       "      <td>420-3</td>\n",
       "      <td>0.0</td>\n",
       "      <td>0.0</td>\n",
       "      <td>0.0</td>\n",
       "      <td>0.0</td>\n",
       "      <td>0.0</td>\n",
       "      <td>0.0</td>\n",
       "      <td>0.0</td>\n",
       "      <td>0.0</td>\n",
       "      <td>0.0</td>\n",
       "      <td>0.0</td>\n",
       "      <td>0.0</td>\n",
       "      <td>2586.57</td>\n",
       "      <td>0.0</td>\n",
       "      <td>1264.33</td>\n",
       "      <td>0.0</td>\n",
       "      <td>0.0</td>\n",
       "      <td>0.00</td>\n",
       "      <td>0.0</td>\n",
       "      <td>0.0</td>\n",
       "      <td>0.0</td>\n",
       "      <td>0.0</td>\n",
       "      <td>0.0</td>\n",
       "      <td>3850.90</td>\n",
       "      <td>313958.48</td>\n",
       "      <td>0.012266</td>\n",
       "      <td>0.0</td>\n",
       "      <td>False</td>\n",
       "      <td>True</td>\n",
       "      <td>Inactive</td>\n",
       "      <td>64HM</td>\n",
       "      <td>C10-0000922-LIC</td>\n",
       "      <td>64HM</td>\n",
       "      <td>CA</td>\n",
       "    </tr>\n",
       "    <tr>\n",
       "      <th>1</th>\n",
       "      <td>66 MAIN GROUP, LLC</td>\n",
       "      <td>0.0</td>\n",
       "      <td>0.0</td>\n",
       "      <td>0.0</td>\n",
       "      <td>0.0</td>\n",
       "      <td>0.0</td>\n",
       "      <td>0.0</td>\n",
       "      <td>0.0</td>\n",
       "      <td>0.0</td>\n",
       "      <td>0.0</td>\n",
       "      <td>0.0</td>\n",
       "      <td>0.0</td>\n",
       "      <td>0.00</td>\n",
       "      <td>0.0</td>\n",
       "      <td>0.00</td>\n",
       "      <td>0.0</td>\n",
       "      <td>0.0</td>\n",
       "      <td>0.00</td>\n",
       "      <td>0.0</td>\n",
       "      <td>0.0</td>\n",
       "      <td>0.0</td>\n",
       "      <td>0.0</td>\n",
       "      <td>0.0</td>\n",
       "      <td>0.00</td>\n",
       "      <td>313958.48</td>\n",
       "      <td>0.000000</td>\n",
       "      <td>0.0</td>\n",
       "      <td>False</td>\n",
       "      <td>False</td>\n",
       "      <td>Exclude</td>\n",
       "      <td>64HM</td>\n",
       "      <td>C10-0000922-LIC</td>\n",
       "      <td>64HM</td>\n",
       "      <td>CA</td>\n",
       "    </tr>\n",
       "    <tr>\n",
       "      <th>2</th>\n",
       "      <td>ALYER DISTRIBUTION, INC</td>\n",
       "      <td>0.0</td>\n",
       "      <td>0.0</td>\n",
       "      <td>0.0</td>\n",
       "      <td>0.0</td>\n",
       "      <td>0.0</td>\n",
       "      <td>0.0</td>\n",
       "      <td>0.0</td>\n",
       "      <td>0.0</td>\n",
       "      <td>0.0</td>\n",
       "      <td>0.0</td>\n",
       "      <td>0.0</td>\n",
       "      <td>0.00</td>\n",
       "      <td>0.0</td>\n",
       "      <td>0.00</td>\n",
       "      <td>0.0</td>\n",
       "      <td>0.0</td>\n",
       "      <td>0.00</td>\n",
       "      <td>0.0</td>\n",
       "      <td>0.0</td>\n",
       "      <td>0.0</td>\n",
       "      <td>0.0</td>\n",
       "      <td>0.0</td>\n",
       "      <td>0.00</td>\n",
       "      <td>313958.48</td>\n",
       "      <td>0.000000</td>\n",
       "      <td>0.0</td>\n",
       "      <td>False</td>\n",
       "      <td>False</td>\n",
       "      <td>Exclude</td>\n",
       "      <td>64HM</td>\n",
       "      <td>C10-0000922-LIC</td>\n",
       "      <td>64HM</td>\n",
       "      <td>CA</td>\n",
       "    </tr>\n",
       "    <tr>\n",
       "      <th>3</th>\n",
       "      <td>ANTRINITY LLC</td>\n",
       "      <td>0.0</td>\n",
       "      <td>0.0</td>\n",
       "      <td>0.0</td>\n",
       "      <td>0.0</td>\n",
       "      <td>0.0</td>\n",
       "      <td>0.0</td>\n",
       "      <td>0.0</td>\n",
       "      <td>0.0</td>\n",
       "      <td>0.0</td>\n",
       "      <td>0.0</td>\n",
       "      <td>0.0</td>\n",
       "      <td>0.00</td>\n",
       "      <td>0.0</td>\n",
       "      <td>0.00</td>\n",
       "      <td>0.0</td>\n",
       "      <td>0.0</td>\n",
       "      <td>0.00</td>\n",
       "      <td>0.0</td>\n",
       "      <td>0.0</td>\n",
       "      <td>0.0</td>\n",
       "      <td>0.0</td>\n",
       "      <td>0.0</td>\n",
       "      <td>0.00</td>\n",
       "      <td>313958.48</td>\n",
       "      <td>0.000000</td>\n",
       "      <td>0.0</td>\n",
       "      <td>False</td>\n",
       "      <td>False</td>\n",
       "      <td>Exclude</td>\n",
       "      <td>64HM</td>\n",
       "      <td>C10-0000922-LIC</td>\n",
       "      <td>64HM</td>\n",
       "      <td>CA</td>\n",
       "    </tr>\n",
       "    <tr>\n",
       "      <th>4</th>\n",
       "      <td>Alkhemist</td>\n",
       "      <td>0.0</td>\n",
       "      <td>0.0</td>\n",
       "      <td>0.0</td>\n",
       "      <td>0.0</td>\n",
       "      <td>0.0</td>\n",
       "      <td>0.0</td>\n",
       "      <td>0.0</td>\n",
       "      <td>0.0</td>\n",
       "      <td>0.0</td>\n",
       "      <td>0.0</td>\n",
       "      <td>0.0</td>\n",
       "      <td>0.00</td>\n",
       "      <td>0.0</td>\n",
       "      <td>0.00</td>\n",
       "      <td>0.0</td>\n",
       "      <td>0.0</td>\n",
       "      <td>0.00</td>\n",
       "      <td>0.0</td>\n",
       "      <td>0.0</td>\n",
       "      <td>0.0</td>\n",
       "      <td>0.0</td>\n",
       "      <td>0.0</td>\n",
       "      <td>0.00</td>\n",
       "      <td>313958.48</td>\n",
       "      <td>0.000000</td>\n",
       "      <td>0.0</td>\n",
       "      <td>False</td>\n",
       "      <td>False</td>\n",
       "      <td>Exclude</td>\n",
       "      <td>64HM</td>\n",
       "      <td>C10-0000922-LIC</td>\n",
       "      <td>64HM</td>\n",
       "      <td>CA</td>\n",
       "    </tr>\n",
       "    <tr>\n",
       "      <th>...</th>\n",
       "      <td>...</td>\n",
       "      <td>...</td>\n",
       "      <td>...</td>\n",
       "      <td>...</td>\n",
       "      <td>...</td>\n",
       "      <td>...</td>\n",
       "      <td>...</td>\n",
       "      <td>...</td>\n",
       "      <td>...</td>\n",
       "      <td>...</td>\n",
       "      <td>...</td>\n",
       "      <td>...</td>\n",
       "      <td>...</td>\n",
       "      <td>...</td>\n",
       "      <td>...</td>\n",
       "      <td>...</td>\n",
       "      <td>...</td>\n",
       "      <td>...</td>\n",
       "      <td>...</td>\n",
       "      <td>...</td>\n",
       "      <td>...</td>\n",
       "      <td>...</td>\n",
       "      <td>...</td>\n",
       "      <td>...</td>\n",
       "      <td>...</td>\n",
       "      <td>...</td>\n",
       "      <td>...</td>\n",
       "      <td>...</td>\n",
       "      <td>...</td>\n",
       "      <td>...</td>\n",
       "      <td>...</td>\n",
       "      <td>...</td>\n",
       "      <td>...</td>\n",
       "      <td>...</td>\n",
       "    </tr>\n",
       "    <tr>\n",
       "      <th>7177</th>\n",
       "      <td>Sundberg &amp; Schackow Distribution, Inc.</td>\n",
       "      <td>0.0</td>\n",
       "      <td>0.0</td>\n",
       "      <td>0.0</td>\n",
       "      <td>0.0</td>\n",
       "      <td>0.0</td>\n",
       "      <td>0.0</td>\n",
       "      <td>0.0</td>\n",
       "      <td>0.0</td>\n",
       "      <td>0.0</td>\n",
       "      <td>0.0</td>\n",
       "      <td>0.0</td>\n",
       "      <td>0.00</td>\n",
       "      <td>0.0</td>\n",
       "      <td>0.00</td>\n",
       "      <td>0.0</td>\n",
       "      <td>0.0</td>\n",
       "      <td>0.00</td>\n",
       "      <td>0.0</td>\n",
       "      <td>0.0</td>\n",
       "      <td>0.0</td>\n",
       "      <td>0.0</td>\n",
       "      <td>0.0</td>\n",
       "      <td>0.00</td>\n",
       "      <td>138093.51</td>\n",
       "      <td>0.000000</td>\n",
       "      <td>0.0</td>\n",
       "      <td>False</td>\n",
       "      <td>False</td>\n",
       "      <td>Exclude</td>\n",
       "      <td>T4L</td>\n",
       "      <td>C12-0000302-LIC</td>\n",
       "      <td>T4L</td>\n",
       "      <td>CA</td>\n",
       "    </tr>\n",
       "    <tr>\n",
       "      <th>7178</th>\n",
       "      <td>Tree4Life</td>\n",
       "      <td>0.0</td>\n",
       "      <td>0.0</td>\n",
       "      <td>0.0</td>\n",
       "      <td>0.0</td>\n",
       "      <td>0.0</td>\n",
       "      <td>0.0</td>\n",
       "      <td>0.0</td>\n",
       "      <td>0.0</td>\n",
       "      <td>0.0</td>\n",
       "      <td>0.0</td>\n",
       "      <td>0.0</td>\n",
       "      <td>0.00</td>\n",
       "      <td>0.0</td>\n",
       "      <td>0.00</td>\n",
       "      <td>0.0</td>\n",
       "      <td>0.0</td>\n",
       "      <td>0.00</td>\n",
       "      <td>0.0</td>\n",
       "      <td>0.0</td>\n",
       "      <td>0.0</td>\n",
       "      <td>0.0</td>\n",
       "      <td>0.0</td>\n",
       "      <td>0.00</td>\n",
       "      <td>138093.51</td>\n",
       "      <td>0.000000</td>\n",
       "      <td>0.0</td>\n",
       "      <td>False</td>\n",
       "      <td>False</td>\n",
       "      <td>Exclude</td>\n",
       "      <td>T4L</td>\n",
       "      <td>C12-0000302-LIC</td>\n",
       "      <td>T4L</td>\n",
       "      <td>CA</td>\n",
       "    </tr>\n",
       "    <tr>\n",
       "      <th>7179</th>\n",
       "      <td>VARAVO</td>\n",
       "      <td>0.0</td>\n",
       "      <td>0.0</td>\n",
       "      <td>0.0</td>\n",
       "      <td>0.0</td>\n",
       "      <td>0.0</td>\n",
       "      <td>0.0</td>\n",
       "      <td>0.0</td>\n",
       "      <td>0.0</td>\n",
       "      <td>0.0</td>\n",
       "      <td>0.0</td>\n",
       "      <td>0.0</td>\n",
       "      <td>0.00</td>\n",
       "      <td>0.0</td>\n",
       "      <td>0.00</td>\n",
       "      <td>0.0</td>\n",
       "      <td>0.0</td>\n",
       "      <td>2031.95</td>\n",
       "      <td>0.0</td>\n",
       "      <td>0.0</td>\n",
       "      <td>0.0</td>\n",
       "      <td>0.0</td>\n",
       "      <td>0.0</td>\n",
       "      <td>2031.95</td>\n",
       "      <td>138093.51</td>\n",
       "      <td>0.014714</td>\n",
       "      <td>0.0</td>\n",
       "      <td>False</td>\n",
       "      <td>True</td>\n",
       "      <td>Inactive</td>\n",
       "      <td>T4L</td>\n",
       "      <td>C12-0000302-LIC</td>\n",
       "      <td>T4L</td>\n",
       "      <td>CA</td>\n",
       "    </tr>\n",
       "    <tr>\n",
       "      <th>7180</th>\n",
       "      <td>West Coast Sunrise Industries Cooperative Corp.</td>\n",
       "      <td>0.0</td>\n",
       "      <td>0.0</td>\n",
       "      <td>0.0</td>\n",
       "      <td>0.0</td>\n",
       "      <td>0.0</td>\n",
       "      <td>0.0</td>\n",
       "      <td>0.0</td>\n",
       "      <td>0.0</td>\n",
       "      <td>0.0</td>\n",
       "      <td>0.0</td>\n",
       "      <td>0.0</td>\n",
       "      <td>0.00</td>\n",
       "      <td>0.0</td>\n",
       "      <td>0.00</td>\n",
       "      <td>0.0</td>\n",
       "      <td>0.0</td>\n",
       "      <td>0.00</td>\n",
       "      <td>0.0</td>\n",
       "      <td>0.0</td>\n",
       "      <td>0.0</td>\n",
       "      <td>0.0</td>\n",
       "      <td>0.0</td>\n",
       "      <td>0.00</td>\n",
       "      <td>138093.51</td>\n",
       "      <td>0.000000</td>\n",
       "      <td>0.0</td>\n",
       "      <td>False</td>\n",
       "      <td>False</td>\n",
       "      <td>Exclude</td>\n",
       "      <td>T4L</td>\n",
       "      <td>C12-0000302-LIC</td>\n",
       "      <td>T4L</td>\n",
       "      <td>CA</td>\n",
       "    </tr>\n",
       "    <tr>\n",
       "      <th>7181</th>\n",
       "      <td>Yerba Buena Logistics Services</td>\n",
       "      <td>0.0</td>\n",
       "      <td>0.0</td>\n",
       "      <td>0.0</td>\n",
       "      <td>0.0</td>\n",
       "      <td>4984.0</td>\n",
       "      <td>0.0</td>\n",
       "      <td>0.0</td>\n",
       "      <td>0.0</td>\n",
       "      <td>0.0</td>\n",
       "      <td>0.0</td>\n",
       "      <td>0.0</td>\n",
       "      <td>0.00</td>\n",
       "      <td>0.0</td>\n",
       "      <td>0.00</td>\n",
       "      <td>0.0</td>\n",
       "      <td>0.0</td>\n",
       "      <td>0.00</td>\n",
       "      <td>0.0</td>\n",
       "      <td>0.0</td>\n",
       "      <td>0.0</td>\n",
       "      <td>0.0</td>\n",
       "      <td>0.0</td>\n",
       "      <td>0.00</td>\n",
       "      <td>138093.51</td>\n",
       "      <td>0.000000</td>\n",
       "      <td>0.0</td>\n",
       "      <td>False</td>\n",
       "      <td>False</td>\n",
       "      <td>Exclude</td>\n",
       "      <td>T4L</td>\n",
       "      <td>C12-0000302-LIC</td>\n",
       "      <td>T4L</td>\n",
       "      <td>CA</td>\n",
       "    </tr>\n",
       "  </tbody>\n",
       "</table>\n",
       "<p>7182 rows × 34 columns</p>\n",
       "</div>"
      ],
      "text/plain": [
       "                                  shipper_parent_name  2021-01-01  2021-02-01  \\\n",
       "0                                               420-3         0.0         0.0   \n",
       "1                                  66 MAIN GROUP, LLC         0.0         0.0   \n",
       "2                             ALYER DISTRIBUTION, INC         0.0         0.0   \n",
       "3                                       ANTRINITY LLC         0.0         0.0   \n",
       "4                                           Alkhemist         0.0         0.0   \n",
       "...                                               ...         ...         ...   \n",
       "7177           Sundberg & Schackow Distribution, Inc.         0.0         0.0   \n",
       "7178                                        Tree4Life         0.0         0.0   \n",
       "7179                                           VARAVO         0.0         0.0   \n",
       "7180  West Coast Sunrise Industries Cooperative Corp.         0.0         0.0   \n",
       "7181                   Yerba Buena Logistics Services         0.0         0.0   \n",
       "\n",
       "      2021-03-01  2021-04-01  2021-05-01  2021-06-01  2021-07-01  2021-08-01  \\\n",
       "0            0.0         0.0         0.0         0.0         0.0         0.0   \n",
       "1            0.0         0.0         0.0         0.0         0.0         0.0   \n",
       "2            0.0         0.0         0.0         0.0         0.0         0.0   \n",
       "3            0.0         0.0         0.0         0.0         0.0         0.0   \n",
       "4            0.0         0.0         0.0         0.0         0.0         0.0   \n",
       "...          ...         ...         ...         ...         ...         ...   \n",
       "7177         0.0         0.0         0.0         0.0         0.0         0.0   \n",
       "7178         0.0         0.0         0.0         0.0         0.0         0.0   \n",
       "7179         0.0         0.0         0.0         0.0         0.0         0.0   \n",
       "7180         0.0         0.0         0.0         0.0         0.0         0.0   \n",
       "7181         0.0         0.0      4984.0         0.0         0.0         0.0   \n",
       "\n",
       "      2021-09-01  2021-10-01  2021-11-01  2021-12-01  2022-01-01  2022-02-01  \\\n",
       "0            0.0         0.0         0.0     2586.57         0.0     1264.33   \n",
       "1            0.0         0.0         0.0        0.00         0.0        0.00   \n",
       "2            0.0         0.0         0.0        0.00         0.0        0.00   \n",
       "3            0.0         0.0         0.0        0.00         0.0        0.00   \n",
       "4            0.0         0.0         0.0        0.00         0.0        0.00   \n",
       "...          ...         ...         ...         ...         ...         ...   \n",
       "7177         0.0         0.0         0.0        0.00         0.0        0.00   \n",
       "7178         0.0         0.0         0.0        0.00         0.0        0.00   \n",
       "7179         0.0         0.0         0.0        0.00         0.0        0.00   \n",
       "7180         0.0         0.0         0.0        0.00         0.0        0.00   \n",
       "7181         0.0         0.0         0.0        0.00         0.0        0.00   \n",
       "\n",
       "      2022-03-01  2022-04-01  2022-05-01  2022-06-01  2022-07-01  2022-08-01  \\\n",
       "0            0.0         0.0        0.00         0.0         0.0         0.0   \n",
       "1            0.0         0.0        0.00         0.0         0.0         0.0   \n",
       "2            0.0         0.0        0.00         0.0         0.0         0.0   \n",
       "3            0.0         0.0        0.00         0.0         0.0         0.0   \n",
       "4            0.0         0.0        0.00         0.0         0.0         0.0   \n",
       "...          ...         ...         ...         ...         ...         ...   \n",
       "7177         0.0         0.0        0.00         0.0         0.0         0.0   \n",
       "7178         0.0         0.0        0.00         0.0         0.0         0.0   \n",
       "7179         0.0         0.0     2031.95         0.0         0.0         0.0   \n",
       "7180         0.0         0.0        0.00         0.0         0.0         0.0   \n",
       "7181         0.0         0.0        0.00         0.0         0.0         0.0   \n",
       "\n",
       "      2022-09-01  2022-10-01  facility_total  grand_total  perc_total  \\\n",
       "0            0.0         0.0         3850.90    313958.48    0.012266   \n",
       "1            0.0         0.0            0.00    313958.48    0.000000   \n",
       "2            0.0         0.0            0.00    313958.48    0.000000   \n",
       "3            0.0         0.0            0.00    313958.48    0.000000   \n",
       "4            0.0         0.0            0.00    313958.48    0.000000   \n",
       "...          ...         ...             ...          ...         ...   \n",
       "7177         0.0         0.0            0.00    138093.51    0.000000   \n",
       "7178         0.0         0.0            0.00    138093.51    0.000000   \n",
       "7179         0.0         0.0         2031.95    138093.51    0.014714   \n",
       "7180         0.0         0.0            0.00    138093.51    0.000000   \n",
       "7181         0.0         0.0            0.00    138093.51    0.000000   \n",
       "\n",
       "      last_4m_total  last_4m_active  significant   measure company  \\\n",
       "0               0.0           False         True  Inactive    64HM   \n",
       "1               0.0           False        False   Exclude    64HM   \n",
       "2               0.0           False        False   Exclude    64HM   \n",
       "3               0.0           False        False   Exclude    64HM   \n",
       "4               0.0           False        False   Exclude    64HM   \n",
       "...             ...             ...          ...       ...     ...   \n",
       "7177            0.0           False        False   Exclude     T4L   \n",
       "7178            0.0           False        False   Exclude     T4L   \n",
       "7179            0.0           False         True  Inactive     T4L   \n",
       "7180            0.0           False        False   Exclude     T4L   \n",
       "7181            0.0           False        False   Exclude     T4L   \n",
       "\n",
       "             location company_identifier state  \n",
       "0     C10-0000922-LIC               64HM    CA  \n",
       "1     C10-0000922-LIC               64HM    CA  \n",
       "2     C10-0000922-LIC               64HM    CA  \n",
       "3     C10-0000922-LIC               64HM    CA  \n",
       "4     C10-0000922-LIC               64HM    CA  \n",
       "...               ...                ...   ...  \n",
       "7177  C12-0000302-LIC                T4L    CA  \n",
       "7178  C12-0000302-LIC                T4L    CA  \n",
       "7179  C12-0000302-LIC                T4L    CA  \n",
       "7180  C12-0000302-LIC                T4L    CA  \n",
       "7181  C12-0000302-LIC                T4L    CA  \n",
       "\n",
       "[7182 rows x 34 columns]"
      ]
     },
     "execution_count": 26,
     "metadata": {},
     "output_type": "execute_result"
    }
   ],
   "source": [
    "df_vc_state"
   ]
  },
  {
   "cell_type": "code",
   "execution_count": 48,
   "id": "2703e8f2",
   "metadata": {},
   "outputs": [
    {
     "name": "stdout",
     "output_type": "stream",
     "text": [
      "['64HM']\n",
      "['99HT']\n",
      "['AGA']\n",
      "['BUD']\n",
      "['BUD']\n",
      "['BUD']\n",
      "['BUD']\n",
      "['BUD']\n",
      "['BRC']\n",
      "['BYN']\n",
      "['CG']\n",
      "['CPA']\n",
      "['CPA']\n",
      "['CPC']\n",
      "['CSC']\n",
      "['CSCC']\n",
      "['CCC']\n",
      "['CLC']\n",
      "['CLC']\n",
      "C12-0000318-LIC\n",
      "['CC']\n",
      "['CED']\n",
      "['CRRH']\n",
      "['CRRH']\n",
      "['CE']\n",
      "['DGG']\n",
      "['EL']\n",
      "['EMA']\n",
      "['EMB']\n",
      "['EMF']\n",
      "['EMM']\n",
      "['EMT']\n",
      "['EPC']\n",
      "['FI']\n",
      "['FI']\n",
      "['FI']\n",
      "['FI']\n",
      "['GB2']\n",
      "['GD']\n",
      "['GD']\n",
      "['GTC']\n",
      "['GT']\n",
      "C9-0000385-LIC\n",
      "['GT']\n",
      "['GL']\n",
      "['GRG']\n",
      "['GRG']\n",
      "['GHC']\n",
      "['GFEE']\n",
      "['GFWF']\n",
      "['HB']\n",
      "['HB']\n",
      "['HB']\n",
      "['HS']\n",
      "['HGD']\n",
      "['HGD']\n",
      "['HPCC']\n",
      "['HPCC']\n",
      "['HC']\n",
      "['IDC']\n",
      "['ID']\n",
      "['LBC']\n",
      "['MSS']\n",
      "['ML']\n",
      "['MW']\n",
      "['MPW']\n",
      "['MPW']\n",
      "['MD']\n",
      "['MR']\n",
      "['ND']\n",
      "['NCDS']\n",
      "['NCDS']\n",
      "['PRP']\n",
      "['PRP']\n",
      "['PRP']\n",
      "['PRL']\n",
      "['PU']\n",
      "['PU']\n",
      "['PU']\n",
      "['PU']\n",
      "['PU']\n",
      "['PU']\n",
      "['PU']\n",
      "['PU']\n",
      "['PU']\n",
      "['PU']\n",
      "['PU']\n",
      "['PU']\n",
      "['PU']\n",
      "['PEH']\n",
      "C10-0000827-LIC\n",
      "['RA']\n",
      "['RGD']\n",
      "['SGF']\n",
      "['SFV']\n",
      "['SV']\n",
      "['SLCC']\n",
      "['SO']\n",
      "['SO']\n",
      "['SO']\n",
      "C12-0000328-LIC\n",
      "['ST']\n",
      "['FD']\n",
      "['TGL']\n",
      "['TJR']\n",
      "['TT']\n",
      "['TT']\n",
      "['T4L']\n"
     ]
    }
   ],
   "source": [
    "churn_a_list = {}\n",
    "churn_b_list = {}\n",
    "churn_c_list = {}\n",
    "total_churn_list = {}\n",
    "purchase_a_list = {}\n",
    "purchase_b_list = {}\n",
    "purchase_c_list = {}\n",
    "total_purchase_list = {}\n",
    "\n",
    "for c in df_vc_state['location'].unique():\n",
    "    vc_c = df_vc_state[df_vc_state['location'] == c]\n",
    "    i = vc_c['company_identifier'].unique()\n",
    "    print(i)\n",
    "    #churn\n",
    "    total_churn = vc_c[vc_c['measure'] == 'Inactive']['perc_total'].sum()\n",
    "    total_churn_list[c] = total_churn\n",
    "    #purchase\n",
    "    total_purchase = vc_c['last_4m_total'].sum()\n",
    "    total_purchase_list[c] = total_purchase\n",
    "    if len(set(vc_c['shipper_parent_name'].unique()).intersection(tier_a_vendor)) == 0:\n",
    "        print(c)\n",
    "    else:\n",
    "        #churn\n",
    "        churn_df_a = vc_c[(vc_c['shipper_parent_name'].isin(list(tier_a_vendor)))&\\\n",
    "                          (vc_c['measure'] == 'Inactive')]['perc_total'].sum()\n",
    "        churn_df_b = vc_c[(vc_c['shipper_parent_name'].isin(list(tier_b_vendor)))&\\\n",
    "                          (vc_c['measure'] == 'Inactive')]['perc_total'].sum()\n",
    "        churn_df_c = vc_c[(vc_c['shipper_parent_name'].isin(list(tier_c_vendor)))&\\\n",
    "                          (vc_c['measure'] == 'Inactive')]['perc_total'].sum()\n",
    "        #purchase\n",
    "        purchase_df_a = vc_c[vc_c['shipper_parent_name'].isin(list(tier_a_vendor))]['last_4m_total'].sum()\n",
    "        purchase_df_b = vc_c[vc_c['shipper_parent_name'].isin(list(tier_b_vendor))]['last_4m_total'].sum()\n",
    "        purchase_df_c = vc_c[vc_c['shipper_parent_name'].isin(list(tier_c_vendor))]['last_4m_total'].sum()\n",
    "        \n",
    "    churn_a_list[c] = churn_df_a\n",
    "    churn_b_list[c] = churn_df_b\n",
    "    churn_c_list[c] = churn_df_c\n",
    "    purchase_a_list[c] = purchase_df_a\n",
    "    purchase_b_list[c] = purchase_df_b\n",
    "    purchase_c_list[c] = purchase_df_c"
   ]
  },
  {
   "cell_type": "code",
   "execution_count": 50,
   "id": "419018de",
   "metadata": {},
   "outputs": [
    {
     "data": {
      "text/plain": [
       "{'C10-0000922-LIC': 24531.370000000003,\n",
       " 'C10-0000279-LIC': 69319.47000000002,\n",
       " 'C10-0000341-LIC': 389099.44,\n",
       " 'C9-0000464-LIC': 30353.7,\n",
       " 'C9-0000167-LIC': 0.0,\n",
       " 'C9-0000399-LIC': 20563.64,\n",
       " 'C9-0000467-LIC': 4841.65,\n",
       " 'C9-0000444-LIC': 0.0,\n",
       " 'C10-0000603-LIC': 84441.16,\n",
       " 'C10-0000528-LIC': 53382.399999999994,\n",
       " 'C9-0000157-LIC': 3990.85,\n",
       " 'C9-0000348-LIC': 137122.52999999997,\n",
       " 'C10-0000461-LIC': 4761.4,\n",
       " 'C9-0000056-LIC': 0.0,\n",
       " 'C10-0000670-LIC': 143945.40999999997,\n",
       " 'C10-0000918-LIC': 102241.31999999998,\n",
       " 'C12-0000087-LIC': 413136.4,\n",
       " 'C10-0000986-LIC': 6365.68,\n",
       " 'C12-0000318-LIC': 6365.68,\n",
       " 'C10-0000758-LIC': 21634.14,\n",
       " 'C9-0000094-LIC': 50700.0,\n",
       " 'C12-0000308-LIC': 0.0,\n",
       " 'C12-0000405-LIC': 401829.35,\n",
       " 'C12-0000334-LIC': 1113.0,\n",
       " 'C9-0000016-LIC': 2317.52,\n",
       " 'C9-0000370-LIC': 18940.0,\n",
       " 'C10-0000774-LIC': 300519.79,\n",
       " 'C10-0001096-LIC': 1515991.83,\n",
       " 'C10-0000939-LIC': 285934.7,\n",
       " 'C10-0000786-LIC': 300008.16,\n",
       " 'C10-0000695-LIC': 287119.9,\n",
       " 'C10-0000034-LIC': 50180.25,\n",
       " 'C10-0001025-LIC': 64391.859999999986,\n",
       " 'C10-0000606-LIC': 329045.73000000004,\n",
       " 'C10-0000753-LIC': 90959.03,\n",
       " 'C12-0000400-LIC': 12257.89,\n",
       " 'C12-0000430-LIC': 0.0,\n",
       " 'C9-0000491-LIC': 1603117.1400000001,\n",
       " 'C9-0000402-LIC': 580693.2,\n",
       " 'C10-0000849-LIC': 195124.21,\n",
       " 'C9-0000385-LIC': 195124.21,\n",
       " 'C9-0000170-LIC': 0.0,\n",
       " 'C9-0000510-LIC': 70349.56,\n",
       " 'C10-0000169-LIC': 0.0,\n",
       " 'C10-0000408-LIC': 27769.010000000002,\n",
       " 'C10-0000414-LIC': 176851.19,\n",
       " 'C10-0000224-LIC': 1515469.44,\n",
       " 'C10-0000117-LIC': 1402889.7999999998,\n",
       " 'C10-0000301-LIC': 0.0,\n",
       " 'C10-0000339-LIC': 79563.87000000001,\n",
       " 'C10-0000624-LIC': 0.0,\n",
       " 'C9-0000441-LIC': 4850.9,\n",
       " 'C10-0000258-LIC': 149626.75,\n",
       " 'C12-0000102-LIC': 0.0,\n",
       " 'C10-0000064-LIC': 379976.75,\n",
       " 'C10-0000005-LIC': 24673.65,\n",
       " 'C9-0000341-LIC': 0.0,\n",
       " 'C9-0000320-LIC': 71839.87,\n",
       " 'C9-0000166-LIC': 2720.12,\n",
       " 'C9-0000154-LIC': 3553.7799999999997,\n",
       " 'C10-0000816-LIC': 72403.04000000001,\n",
       " 'C9-0000300-LIC': 206754.74,\n",
       " 'C10-0000332-LIC': 205943.69,\n",
       " 'C10-0000547-LIC': 150798.18,\n",
       " 'C10-0001166-LIC': 368950.42000000004,\n",
       " 'C9-0000247-LIC': 11740.33,\n",
       " 'C12-0000398-LIC': 377868.89,\n",
       " 'C9-0000427-LIC': 3898.02,\n",
       " 'C10-0000101-LIC': 211822.38,\n",
       " 'C10-0000207-LIC': 553527.66,\n",
       " 'C10-0000155-LIC': 74672.15,\n",
       " 'C10-0000286-LIC': 69594.92,\n",
       " 'C10-0000403-LIC': 85714.29999999999,\n",
       " 'C10-0000759-LIC': 7362792.47,\n",
       " 'C10-0000025-LIC': 0.0,\n",
       " 'C10-0000088-LIC': 6123.75,\n",
       " 'C10-0000199-LIC': 1175142.02,\n",
       " 'C10-0000204-LIC': 0.0,\n",
       " 'C10-0000254-LIC': 68352.44,\n",
       " 'C10-0000324-LIC': 110616.68,\n",
       " 'C10-0000411-LIC': 15341.84,\n",
       " 'C10-0000425-LIC': 5300.0,\n",
       " 'C10-0000707-LIC': 82435.97,\n",
       " 'C10-0000748-LIC': 20125.739999999998,\n",
       " 'C10-0000749-LIC': 49557.520000000004,\n",
       " 'C10-0000869-LIC': 8763.060000000001,\n",
       " 'C10-0000899-LIC': 0.0,\n",
       " 'C10-0000827-LIC': 0.0,\n",
       " 'C10-0000596-LIC': 0.0,\n",
       " 'C9-0000057-LIC': 152346.31,\n",
       " 'C9-0000454-LIC': 23565.64,\n",
       " 'C10-0000041-LIC': 176211.95999999996,\n",
       " 'C9-0000146-LIC': 222530.07,\n",
       " 'C10-0000474-LIC': 47520.11,\n",
       " 'C9-0000130-LIC': 12559.28,\n",
       " 'C10-0000271-LIC': 0.0,\n",
       " 'C12-0000328-LIC': 0.0,\n",
       " 'C9-0000323-LIC': 108263.87999999999,\n",
       " 'C10-0000916-LIC': 46836.600000000006,\n",
       " 'C9-0000412-LIC': 3112.4,\n",
       " 'C9-0000105-LIC': 9973.86,\n",
       " 'C9-0000451-LIC': 50625.0,\n",
       " 'C9-0000551-LIC': 243860.61,\n",
       " 'C12-0000302-LIC': 0.0}"
      ]
     },
     "execution_count": 50,
     "metadata": {},
     "output_type": "execute_result"
    }
   ],
   "source": [
    "purchase_a_list"
   ]
  },
  {
   "cell_type": "code",
   "execution_count": null,
   "id": "aa5237d0",
   "metadata": {},
   "outputs": [],
   "source": [
    "#C12-0000318-LIC : CLC does not look like it has valid VC data\n",
    "#C9-0000385-LIC: GT\n",
    "#C10-0000827-LIC: PEH\n",
    "#C12-0000328-LIC: SO"
   ]
  },
  {
   "cell_type": "code",
   "execution_count": 56,
   "id": "14ba1151",
   "metadata": {},
   "outputs": [],
   "source": [
    "total_churn_df = pd.DataFrame.from_dict(total_churn_list,orient ='index').reset_index()\n",
    "churn_a_df = pd.DataFrame.from_dict(churn_a_list,orient ='index').reset_index()\n",
    "churn_b_df = pd.DataFrame.from_dict(churn_b_list,orient ='index').reset_index()\n",
    "churn_c_df = pd.DataFrame.from_dict(churn_c_list,orient ='index').reset_index()"
   ]
  },
  {
   "cell_type": "code",
   "execution_count": 57,
   "id": "d0c57444",
   "metadata": {},
   "outputs": [],
   "source": [
    "total_purchase_df = pd.DataFrame.from_dict(total_purchase_list,orient ='index').reset_index()\n",
    "purchase_a_df = pd.DataFrame.from_dict(purchase_a_list,orient ='index').reset_index()\n",
    "purchase_b_df = pd.DataFrame.from_dict(purchase_b_list,orient ='index').reset_index()\n",
    "purchase_c_df = pd.DataFrame.from_dict(purchase_c_list,orient ='index').reset_index()"
   ]
  },
  {
   "cell_type": "code",
   "execution_count": 58,
   "id": "b7598474",
   "metadata": {},
   "outputs": [
    {
     "data": {
      "text/html": [
       "<div>\n",
       "<style scoped>\n",
       "    .dataframe tbody tr th:only-of-type {\n",
       "        vertical-align: middle;\n",
       "    }\n",
       "\n",
       "    .dataframe tbody tr th {\n",
       "        vertical-align: top;\n",
       "    }\n",
       "\n",
       "    .dataframe thead th {\n",
       "        text-align: right;\n",
       "    }\n",
       "</style>\n",
       "<table border=\"1\" class=\"dataframe\">\n",
       "  <thead>\n",
       "    <tr style=\"text-align: right;\">\n",
       "      <th></th>\n",
       "      <th>index</th>\n",
       "      <th>0</th>\n",
       "    </tr>\n",
       "  </thead>\n",
       "  <tbody>\n",
       "    <tr>\n",
       "      <th>0</th>\n",
       "      <td>C10-0000922-LIC</td>\n",
       "      <td>64975.88</td>\n",
       "    </tr>\n",
       "    <tr>\n",
       "      <th>1</th>\n",
       "      <td>C10-0000279-LIC</td>\n",
       "      <td>304971.07</td>\n",
       "    </tr>\n",
       "    <tr>\n",
       "      <th>2</th>\n",
       "      <td>C10-0000341-LIC</td>\n",
       "      <td>1110230.32</td>\n",
       "    </tr>\n",
       "    <tr>\n",
       "      <th>3</th>\n",
       "      <td>C9-0000464-LIC</td>\n",
       "      <td>61965.29</td>\n",
       "    </tr>\n",
       "    <tr>\n",
       "      <th>4</th>\n",
       "      <td>C9-0000167-LIC</td>\n",
       "      <td>0.00</td>\n",
       "    </tr>\n",
       "    <tr>\n",
       "      <th>...</th>\n",
       "      <td>...</td>\n",
       "      <td>...</td>\n",
       "    </tr>\n",
       "    <tr>\n",
       "      <th>99</th>\n",
       "      <td>C9-0000412-LIC</td>\n",
       "      <td>24906.85</td>\n",
       "    </tr>\n",
       "    <tr>\n",
       "      <th>100</th>\n",
       "      <td>C9-0000105-LIC</td>\n",
       "      <td>81698.57</td>\n",
       "    </tr>\n",
       "    <tr>\n",
       "      <th>101</th>\n",
       "      <td>C9-0000451-LIC</td>\n",
       "      <td>50625.00</td>\n",
       "    </tr>\n",
       "    <tr>\n",
       "      <th>102</th>\n",
       "      <td>C9-0000551-LIC</td>\n",
       "      <td>817661.75</td>\n",
       "    </tr>\n",
       "    <tr>\n",
       "      <th>103</th>\n",
       "      <td>C12-0000302-LIC</td>\n",
       "      <td>2790.01</td>\n",
       "    </tr>\n",
       "  </tbody>\n",
       "</table>\n",
       "<p>104 rows × 2 columns</p>\n",
       "</div>"
      ],
      "text/plain": [
       "               index           0\n",
       "0    C10-0000922-LIC    64975.88\n",
       "1    C10-0000279-LIC   304971.07\n",
       "2    C10-0000341-LIC  1110230.32\n",
       "3     C9-0000464-LIC    61965.29\n",
       "4     C9-0000167-LIC        0.00\n",
       "..               ...         ...\n",
       "99    C9-0000412-LIC    24906.85\n",
       "100   C9-0000105-LIC    81698.57\n",
       "101   C9-0000451-LIC    50625.00\n",
       "102   C9-0000551-LIC   817661.75\n",
       "103  C12-0000302-LIC     2790.01\n",
       "\n",
       "[104 rows x 2 columns]"
      ]
     },
     "execution_count": 58,
     "metadata": {},
     "output_type": "execute_result"
    }
   ],
   "source": [
    "total_purchase_df"
   ]
  },
  {
   "cell_type": "code",
   "execution_count": 29,
   "id": "770783b8",
   "metadata": {},
   "outputs": [],
   "source": [
    "vc_backtest_df = total_churn_df.merge(churn_a_df,how = 'left',on = 'index')\\\n",
    ".merge(churn_b_df,how = 'left',on = 'index')\\\n",
    ".merge(churn_c_df,how = 'left',on = 'index')"
   ]
  },
  {
   "cell_type": "code",
   "execution_count": 59,
   "id": "f0324736",
   "metadata": {},
   "outputs": [],
   "source": [
    "vc_backtest_df_purchase = total_purchase_df.merge(purchase_a_df,how = 'left',on = 'index')\\\n",
    ".merge(purchase_b_df,how = 'left',on = 'index')\\\n",
    ".merge(purchase_c_df,how = 'left',on = 'index')"
   ]
  },
  {
   "cell_type": "code",
   "execution_count": 62,
   "id": "5f622d0e",
   "metadata": {},
   "outputs": [
    {
     "data": {
      "text/html": [
       "<div>\n",
       "<style scoped>\n",
       "    .dataframe tbody tr th:only-of-type {\n",
       "        vertical-align: middle;\n",
       "    }\n",
       "\n",
       "    .dataframe tbody tr th {\n",
       "        vertical-align: top;\n",
       "    }\n",
       "\n",
       "    .dataframe thead th {\n",
       "        text-align: right;\n",
       "    }\n",
       "</style>\n",
       "<table border=\"1\" class=\"dataframe\">\n",
       "  <thead>\n",
       "    <tr style=\"text-align: right;\">\n",
       "      <th></th>\n",
       "      <th>license</th>\n",
       "      <th>total</th>\n",
       "      <th>tier_a</th>\n",
       "      <th>tier_b</th>\n",
       "      <th>tier_c</th>\n",
       "    </tr>\n",
       "  </thead>\n",
       "  <tbody>\n",
       "    <tr>\n",
       "      <th>0</th>\n",
       "      <td>C10-0000922-LIC</td>\n",
       "      <td>64975.88</td>\n",
       "      <td>24531.37</td>\n",
       "      <td>3557.14</td>\n",
       "      <td>4974.91</td>\n",
       "    </tr>\n",
       "    <tr>\n",
       "      <th>1</th>\n",
       "      <td>C10-0000279-LIC</td>\n",
       "      <td>304971.07</td>\n",
       "      <td>69319.47</td>\n",
       "      <td>24426.78</td>\n",
       "      <td>42362.91</td>\n",
       "    </tr>\n",
       "    <tr>\n",
       "      <th>2</th>\n",
       "      <td>C10-0000341-LIC</td>\n",
       "      <td>1110230.32</td>\n",
       "      <td>389099.44</td>\n",
       "      <td>162294.28</td>\n",
       "      <td>17280.63</td>\n",
       "    </tr>\n",
       "    <tr>\n",
       "      <th>3</th>\n",
       "      <td>C9-0000464-LIC</td>\n",
       "      <td>61965.29</td>\n",
       "      <td>30353.70</td>\n",
       "      <td>31611.59</td>\n",
       "      <td>0.00</td>\n",
       "    </tr>\n",
       "    <tr>\n",
       "      <th>4</th>\n",
       "      <td>C9-0000167-LIC</td>\n",
       "      <td>0.00</td>\n",
       "      <td>0.00</td>\n",
       "      <td>0.00</td>\n",
       "      <td>0.00</td>\n",
       "    </tr>\n",
       "    <tr>\n",
       "      <th>...</th>\n",
       "      <td>...</td>\n",
       "      <td>...</td>\n",
       "      <td>...</td>\n",
       "      <td>...</td>\n",
       "      <td>...</td>\n",
       "    </tr>\n",
       "    <tr>\n",
       "      <th>99</th>\n",
       "      <td>C9-0000412-LIC</td>\n",
       "      <td>24906.85</td>\n",
       "      <td>3112.40</td>\n",
       "      <td>6329.63</td>\n",
       "      <td>1464.99</td>\n",
       "    </tr>\n",
       "    <tr>\n",
       "      <th>100</th>\n",
       "      <td>C9-0000105-LIC</td>\n",
       "      <td>81698.57</td>\n",
       "      <td>9973.86</td>\n",
       "      <td>1224.18</td>\n",
       "      <td>7075.60</td>\n",
       "    </tr>\n",
       "    <tr>\n",
       "      <th>101</th>\n",
       "      <td>C9-0000451-LIC</td>\n",
       "      <td>50625.00</td>\n",
       "      <td>50625.00</td>\n",
       "      <td>0.00</td>\n",
       "      <td>0.00</td>\n",
       "    </tr>\n",
       "    <tr>\n",
       "      <th>102</th>\n",
       "      <td>C9-0000551-LIC</td>\n",
       "      <td>817661.75</td>\n",
       "      <td>243860.61</td>\n",
       "      <td>69510.07</td>\n",
       "      <td>110036.47</td>\n",
       "    </tr>\n",
       "    <tr>\n",
       "      <th>103</th>\n",
       "      <td>C12-0000302-LIC</td>\n",
       "      <td>2790.01</td>\n",
       "      <td>0.00</td>\n",
       "      <td>2790.01</td>\n",
       "      <td>0.00</td>\n",
       "    </tr>\n",
       "  </tbody>\n",
       "</table>\n",
       "<p>104 rows × 5 columns</p>\n",
       "</div>"
      ],
      "text/plain": [
       "             license       total     tier_a     tier_b     tier_c\n",
       "0    C10-0000922-LIC    64975.88   24531.37    3557.14    4974.91\n",
       "1    C10-0000279-LIC   304971.07   69319.47   24426.78   42362.91\n",
       "2    C10-0000341-LIC  1110230.32  389099.44  162294.28   17280.63\n",
       "3     C9-0000464-LIC    61965.29   30353.70   31611.59       0.00\n",
       "4     C9-0000167-LIC        0.00       0.00       0.00       0.00\n",
       "..               ...         ...        ...        ...        ...\n",
       "99    C9-0000412-LIC    24906.85    3112.40    6329.63    1464.99\n",
       "100   C9-0000105-LIC    81698.57    9973.86    1224.18    7075.60\n",
       "101   C9-0000451-LIC    50625.00   50625.00       0.00       0.00\n",
       "102   C9-0000551-LIC   817661.75  243860.61   69510.07  110036.47\n",
       "103  C12-0000302-LIC     2790.01       0.00    2790.01       0.00\n",
       "\n",
       "[104 rows x 5 columns]"
      ]
     },
     "execution_count": 62,
     "metadata": {},
     "output_type": "execute_result"
    }
   ],
   "source": [
    "vc_backtest_df_purchase"
   ]
  },
  {
   "cell_type": "code",
   "execution_count": 30,
   "id": "03eafc48",
   "metadata": {},
   "outputs": [],
   "source": [
    "vc_backtest_df.columns = ['license','total','tier_a','tier_b','tier_c']\n"
   ]
  },
  {
   "cell_type": "code",
   "execution_count": 61,
   "id": "b951bbc6",
   "metadata": {},
   "outputs": [],
   "source": [
    "vc_backtest_df_purchase.columns = ['license','total','tier_a','tier_b','tier_c']\n"
   ]
  },
  {
   "cell_type": "code",
   "execution_count": 32,
   "id": "e49ade16",
   "metadata": {},
   "outputs": [],
   "source": [
    "vc_backtest_df = vc_backtest_df.merge(ca_df_clean[['licenses','company_identifier']],\\\n",
    "                                      how = 'left',left_on = 'license',right_on = 'licenses')"
   ]
  },
  {
   "cell_type": "code",
   "execution_count": 33,
   "id": "1913b7ac",
   "metadata": {},
   "outputs": [
    {
     "data": {
      "text/html": [
       "<div>\n",
       "<style scoped>\n",
       "    .dataframe tbody tr th:only-of-type {\n",
       "        vertical-align: middle;\n",
       "    }\n",
       "\n",
       "    .dataframe tbody tr th {\n",
       "        vertical-align: top;\n",
       "    }\n",
       "\n",
       "    .dataframe thead th {\n",
       "        text-align: right;\n",
       "    }\n",
       "</style>\n",
       "<table border=\"1\" class=\"dataframe\">\n",
       "  <thead>\n",
       "    <tr style=\"text-align: right;\">\n",
       "      <th></th>\n",
       "      <th>license</th>\n",
       "      <th>total</th>\n",
       "      <th>tier_a</th>\n",
       "      <th>tier_b</th>\n",
       "      <th>tier_c</th>\n",
       "      <th>licenses</th>\n",
       "      <th>company_identifier</th>\n",
       "    </tr>\n",
       "  </thead>\n",
       "  <tbody>\n",
       "    <tr>\n",
       "      <th>0</th>\n",
       "      <td>C10-0000922-LIC</td>\n",
       "      <td>0.269650</td>\n",
       "      <td>0.002487</td>\n",
       "      <td>0.047037</td>\n",
       "      <td>0.006880</td>\n",
       "      <td>C10-0000922-LIC</td>\n",
       "      <td>64HM</td>\n",
       "    </tr>\n",
       "    <tr>\n",
       "      <th>1</th>\n",
       "      <td>C10-0000279-LIC</td>\n",
       "      <td>0.167851</td>\n",
       "      <td>0.042817</td>\n",
       "      <td>0.004319</td>\n",
       "      <td>0.000000</td>\n",
       "      <td>C10-0000279-LIC</td>\n",
       "      <td>99HT</td>\n",
       "    </tr>\n",
       "    <tr>\n",
       "      <th>2</th>\n",
       "      <td>C10-0000341-LIC</td>\n",
       "      <td>0.089070</td>\n",
       "      <td>0.000000</td>\n",
       "      <td>0.000000</td>\n",
       "      <td>0.010896</td>\n",
       "      <td>C10-0000341-LIC</td>\n",
       "      <td>AGA</td>\n",
       "    </tr>\n",
       "    <tr>\n",
       "      <th>3</th>\n",
       "      <td>C9-0000464-LIC</td>\n",
       "      <td>0.778025</td>\n",
       "      <td>0.301562</td>\n",
       "      <td>0.038728</td>\n",
       "      <td>0.023610</td>\n",
       "      <td>NaN</td>\n",
       "      <td>NaN</td>\n",
       "    </tr>\n",
       "    <tr>\n",
       "      <th>4</th>\n",
       "      <td>C9-0000167-LIC</td>\n",
       "      <td>1.000000</td>\n",
       "      <td>0.000000</td>\n",
       "      <td>0.000000</td>\n",
       "      <td>1.000000</td>\n",
       "      <td>NaN</td>\n",
       "      <td>NaN</td>\n",
       "    </tr>\n",
       "    <tr>\n",
       "      <th>...</th>\n",
       "      <td>...</td>\n",
       "      <td>...</td>\n",
       "      <td>...</td>\n",
       "      <td>...</td>\n",
       "      <td>...</td>\n",
       "      <td>...</td>\n",
       "      <td>...</td>\n",
       "    </tr>\n",
       "    <tr>\n",
       "      <th>99</th>\n",
       "      <td>C9-0000412-LIC</td>\n",
       "      <td>0.405991</td>\n",
       "      <td>0.089277</td>\n",
       "      <td>0.034001</td>\n",
       "      <td>0.000000</td>\n",
       "      <td>C9-0000412-LIC</td>\n",
       "      <td>TGL</td>\n",
       "    </tr>\n",
       "    <tr>\n",
       "      <th>100</th>\n",
       "      <td>C9-0000105-LIC</td>\n",
       "      <td>0.972233</td>\n",
       "      <td>0.961923</td>\n",
       "      <td>0.000000</td>\n",
       "      <td>0.001115</td>\n",
       "      <td>C9-0000105-LIC</td>\n",
       "      <td>TJR</td>\n",
       "    </tr>\n",
       "    <tr>\n",
       "      <th>101</th>\n",
       "      <td>C9-0000451-LIC</td>\n",
       "      <td>0.800437</td>\n",
       "      <td>0.175467</td>\n",
       "      <td>0.151559</td>\n",
       "      <td>0.106929</td>\n",
       "      <td>NaN</td>\n",
       "      <td>NaN</td>\n",
       "    </tr>\n",
       "    <tr>\n",
       "      <th>102</th>\n",
       "      <td>C9-0000551-LIC</td>\n",
       "      <td>0.031657</td>\n",
       "      <td>0.000000</td>\n",
       "      <td>0.021062</td>\n",
       "      <td>0.000000</td>\n",
       "      <td>NaN</td>\n",
       "      <td>NaN</td>\n",
       "    </tr>\n",
       "    <tr>\n",
       "      <th>103</th>\n",
       "      <td>C12-0000302-LIC</td>\n",
       "      <td>0.660863</td>\n",
       "      <td>0.412702</td>\n",
       "      <td>0.050741</td>\n",
       "      <td>0.138237</td>\n",
       "      <td>C12-0000302-LIC</td>\n",
       "      <td>T4L</td>\n",
       "    </tr>\n",
       "  </tbody>\n",
       "</table>\n",
       "<p>104 rows × 7 columns</p>\n",
       "</div>"
      ],
      "text/plain": [
       "             license     total    tier_a    tier_b    tier_c         licenses  \\\n",
       "0    C10-0000922-LIC  0.269650  0.002487  0.047037  0.006880  C10-0000922-LIC   \n",
       "1    C10-0000279-LIC  0.167851  0.042817  0.004319  0.000000  C10-0000279-LIC   \n",
       "2    C10-0000341-LIC  0.089070  0.000000  0.000000  0.010896  C10-0000341-LIC   \n",
       "3     C9-0000464-LIC  0.778025  0.301562  0.038728  0.023610              NaN   \n",
       "4     C9-0000167-LIC  1.000000  0.000000  0.000000  1.000000              NaN   \n",
       "..               ...       ...       ...       ...       ...              ...   \n",
       "99    C9-0000412-LIC  0.405991  0.089277  0.034001  0.000000   C9-0000412-LIC   \n",
       "100   C9-0000105-LIC  0.972233  0.961923  0.000000  0.001115   C9-0000105-LIC   \n",
       "101   C9-0000451-LIC  0.800437  0.175467  0.151559  0.106929              NaN   \n",
       "102   C9-0000551-LIC  0.031657  0.000000  0.021062  0.000000              NaN   \n",
       "103  C12-0000302-LIC  0.660863  0.412702  0.050741  0.138237  C12-0000302-LIC   \n",
       "\n",
       "    company_identifier  \n",
       "0                 64HM  \n",
       "1                 99HT  \n",
       "2                  AGA  \n",
       "3                  NaN  \n",
       "4                  NaN  \n",
       "..                 ...  \n",
       "99                 TGL  \n",
       "100                TJR  \n",
       "101                NaN  \n",
       "102                NaN  \n",
       "103                T4L  \n",
       "\n",
       "[104 rows x 7 columns]"
      ]
     },
     "execution_count": 33,
     "metadata": {},
     "output_type": "execute_result"
    }
   ],
   "source": [
    "vc_backtest_df"
   ]
  },
  {
   "cell_type": "code",
   "execution_count": 63,
   "id": "41e5980d",
   "metadata": {},
   "outputs": [],
   "source": [
    "#vc_backtest_df_purchase.to_csv('vc_backtest_purchase.csv')"
   ]
  },
  {
   "cell_type": "code",
   "execution_count": 41,
   "id": "f1e9df34",
   "metadata": {},
   "outputs": [],
   "source": [
    "df_vc_state[(df_vc_state['company_identifier'] == '99HT')].to_csv('99ht.csv')"
   ]
  },
  {
   "cell_type": "code",
   "execution_count": 42,
   "id": "9bba388a",
   "metadata": {},
   "outputs": [],
   "source": [
    "ht = df_vc_state[(df_vc_state['company_identifier'] == '99HT')]\n",
    "churn_df_a = ht[(ht['shipper_parent_name'].isin(list(tier_a_vendor)))&\\\n",
    "                          (ht['measure'] == 'Inactive')]"
   ]
  },
  {
   "cell_type": "code",
   "execution_count": 54,
   "id": "5cee92fc",
   "metadata": {},
   "outputs": [
    {
     "data": {
      "text/html": [
       "<div>\n",
       "<style scoped>\n",
       "    .dataframe tbody tr th:only-of-type {\n",
       "        vertical-align: middle;\n",
       "    }\n",
       "\n",
       "    .dataframe tbody tr th {\n",
       "        vertical-align: top;\n",
       "    }\n",
       "\n",
       "    .dataframe thead th {\n",
       "        text-align: right;\n",
       "    }\n",
       "</style>\n",
       "<table border=\"1\" class=\"dataframe\">\n",
       "  <thead>\n",
       "    <tr style=\"text-align: right;\">\n",
       "      <th></th>\n",
       "      <th>shipper_parent_name</th>\n",
       "      <th>2021-01-01</th>\n",
       "      <th>2021-02-01</th>\n",
       "      <th>2021-03-01</th>\n",
       "      <th>2021-04-01</th>\n",
       "      <th>2021-05-01</th>\n",
       "      <th>2021-06-01</th>\n",
       "      <th>2021-07-01</th>\n",
       "      <th>2021-08-01</th>\n",
       "      <th>2021-09-01</th>\n",
       "      <th>2021-10-01</th>\n",
       "      <th>2021-11-01</th>\n",
       "      <th>2021-12-01</th>\n",
       "      <th>2022-01-01</th>\n",
       "      <th>2022-02-01</th>\n",
       "      <th>2022-03-01</th>\n",
       "      <th>2022-04-01</th>\n",
       "      <th>2022-05-01</th>\n",
       "      <th>2022-06-01</th>\n",
       "      <th>2022-07-01</th>\n",
       "      <th>2022-08-01</th>\n",
       "      <th>2022-09-01</th>\n",
       "      <th>2022-10-01</th>\n",
       "      <th>facility_total</th>\n",
       "      <th>grand_total</th>\n",
       "      <th>perc_total</th>\n",
       "      <th>last_4m_total</th>\n",
       "      <th>last_4m_active</th>\n",
       "      <th>significant</th>\n",
       "      <th>measure</th>\n",
       "      <th>company</th>\n",
       "      <th>location</th>\n",
       "      <th>company_identifier</th>\n",
       "      <th>state</th>\n",
       "    </tr>\n",
       "  </thead>\n",
       "  <tbody>\n",
       "    <tr>\n",
       "      <th>84</th>\n",
       "      <td>1346 LA LLC</td>\n",
       "      <td>7275.61</td>\n",
       "      <td>4200.10</td>\n",
       "      <td>0.00</td>\n",
       "      <td>5160.53</td>\n",
       "      <td>5335.33</td>\n",
       "      <td>3888.16</td>\n",
       "      <td>4500.00</td>\n",
       "      <td>4563.74</td>\n",
       "      <td>13937.14</td>\n",
       "      <td>0.0</td>\n",
       "      <td>0.00</td>\n",
       "      <td>0.00</td>\n",
       "      <td>9744.21</td>\n",
       "      <td>0.00</td>\n",
       "      <td>0.00</td>\n",
       "      <td>6569.24</td>\n",
       "      <td>0.00</td>\n",
       "      <td>0.00</td>\n",
       "      <td>5952.38</td>\n",
       "      <td>0.00</td>\n",
       "      <td>0.00</td>\n",
       "      <td>7664.18</td>\n",
       "      <td>29930.01</td>\n",
       "      <td>1031538.75</td>\n",
       "      <td>0.029015</td>\n",
       "      <td>13616.56</td>\n",
       "      <td>True</td>\n",
       "      <td>True</td>\n",
       "      <td>Active</td>\n",
       "      <td>99HT</td>\n",
       "      <td>C10-0000279-LIC</td>\n",
       "      <td>99HT</td>\n",
       "      <td>CA</td>\n",
       "    </tr>\n",
       "    <tr>\n",
       "      <th>108</th>\n",
       "      <td>Claybourne Industries</td>\n",
       "      <td>8070.00</td>\n",
       "      <td>8737.00</td>\n",
       "      <td>0.00</td>\n",
       "      <td>0.00</td>\n",
       "      <td>6485.00</td>\n",
       "      <td>0.00</td>\n",
       "      <td>6648.00</td>\n",
       "      <td>0.00</td>\n",
       "      <td>0.00</td>\n",
       "      <td>0.0</td>\n",
       "      <td>6738.00</td>\n",
       "      <td>6338.16</td>\n",
       "      <td>0.00</td>\n",
       "      <td>0.00</td>\n",
       "      <td>0.00</td>\n",
       "      <td>0.00</td>\n",
       "      <td>7738.00</td>\n",
       "      <td>0.00</td>\n",
       "      <td>0.00</td>\n",
       "      <td>0.00</td>\n",
       "      <td>9796.45</td>\n",
       "      <td>0.00</td>\n",
       "      <td>30610.61</td>\n",
       "      <td>1031538.75</td>\n",
       "      <td>0.029675</td>\n",
       "      <td>9796.45</td>\n",
       "      <td>True</td>\n",
       "      <td>True</td>\n",
       "      <td>Active</td>\n",
       "      <td>99HT</td>\n",
       "      <td>C10-0000279-LIC</td>\n",
       "      <td>99HT</td>\n",
       "      <td>CA</td>\n",
       "    </tr>\n",
       "    <tr>\n",
       "      <th>117</th>\n",
       "      <td>Dreamfields</td>\n",
       "      <td>0.00</td>\n",
       "      <td>0.00</td>\n",
       "      <td>0.00</td>\n",
       "      <td>0.00</td>\n",
       "      <td>0.00</td>\n",
       "      <td>0.00</td>\n",
       "      <td>0.00</td>\n",
       "      <td>0.00</td>\n",
       "      <td>0.00</td>\n",
       "      <td>0.0</td>\n",
       "      <td>0.00</td>\n",
       "      <td>0.00</td>\n",
       "      <td>0.00</td>\n",
       "      <td>0.00</td>\n",
       "      <td>0.00</td>\n",
       "      <td>0.00</td>\n",
       "      <td>0.00</td>\n",
       "      <td>0.00</td>\n",
       "      <td>0.00</td>\n",
       "      <td>0.00</td>\n",
       "      <td>4325.50</td>\n",
       "      <td>2251.25</td>\n",
       "      <td>6576.75</td>\n",
       "      <td>1031538.75</td>\n",
       "      <td>0.006376</td>\n",
       "      <td>6576.75</td>\n",
       "      <td>True</td>\n",
       "      <td>True</td>\n",
       "      <td>Active</td>\n",
       "      <td>99HT</td>\n",
       "      <td>C10-0000279-LIC</td>\n",
       "      <td>99HT</td>\n",
       "      <td>CA</td>\n",
       "    </tr>\n",
       "    <tr>\n",
       "      <th>126</th>\n",
       "      <td>Falcon</td>\n",
       "      <td>0.00</td>\n",
       "      <td>8280.00</td>\n",
       "      <td>0.00</td>\n",
       "      <td>12052.00</td>\n",
       "      <td>0.00</td>\n",
       "      <td>7596.00</td>\n",
       "      <td>7080.00</td>\n",
       "      <td>0.00</td>\n",
       "      <td>0.00</td>\n",
       "      <td>0.0</td>\n",
       "      <td>9282.19</td>\n",
       "      <td>0.00</td>\n",
       "      <td>2400.00</td>\n",
       "      <td>0.00</td>\n",
       "      <td>0.00</td>\n",
       "      <td>0.00</td>\n",
       "      <td>0.00</td>\n",
       "      <td>3000.24</td>\n",
       "      <td>0.00</td>\n",
       "      <td>0.00</td>\n",
       "      <td>0.00</td>\n",
       "      <td>0.00</td>\n",
       "      <td>14682.43</td>\n",
       "      <td>1031538.75</td>\n",
       "      <td>0.014234</td>\n",
       "      <td>0.00</td>\n",
       "      <td>False</td>\n",
       "      <td>True</td>\n",
       "      <td>Inactive</td>\n",
       "      <td>99HT</td>\n",
       "      <td>C10-0000279-LIC</td>\n",
       "      <td>99HT</td>\n",
       "      <td>CA</td>\n",
       "    </tr>\n",
       "    <tr>\n",
       "      <th>139</th>\n",
       "      <td>Greenfield Organix dba Loudpack</td>\n",
       "      <td>0.00</td>\n",
       "      <td>0.00</td>\n",
       "      <td>0.00</td>\n",
       "      <td>0.00</td>\n",
       "      <td>0.00</td>\n",
       "      <td>0.00</td>\n",
       "      <td>0.00</td>\n",
       "      <td>0.00</td>\n",
       "      <td>0.00</td>\n",
       "      <td>0.0</td>\n",
       "      <td>0.00</td>\n",
       "      <td>0.00</td>\n",
       "      <td>0.00</td>\n",
       "      <td>0.00</td>\n",
       "      <td>3120.72</td>\n",
       "      <td>0.00</td>\n",
       "      <td>0.00</td>\n",
       "      <td>6172.03</td>\n",
       "      <td>0.00</td>\n",
       "      <td>0.00</td>\n",
       "      <td>0.00</td>\n",
       "      <td>0.00</td>\n",
       "      <td>9292.75</td>\n",
       "      <td>1031538.75</td>\n",
       "      <td>0.009009</td>\n",
       "      <td>0.00</td>\n",
       "      <td>False</td>\n",
       "      <td>True</td>\n",
       "      <td>Inactive</td>\n",
       "      <td>99HT</td>\n",
       "      <td>C10-0000279-LIC</td>\n",
       "      <td>99HT</td>\n",
       "      <td>CA</td>\n",
       "    </tr>\n",
       "    <tr>\n",
       "      <th>142</th>\n",
       "      <td>Growpacker</td>\n",
       "      <td>0.00</td>\n",
       "      <td>0.00</td>\n",
       "      <td>0.00</td>\n",
       "      <td>0.00</td>\n",
       "      <td>0.00</td>\n",
       "      <td>0.00</td>\n",
       "      <td>0.00</td>\n",
       "      <td>0.00</td>\n",
       "      <td>0.00</td>\n",
       "      <td>0.0</td>\n",
       "      <td>0.00</td>\n",
       "      <td>0.00</td>\n",
       "      <td>0.00</td>\n",
       "      <td>0.00</td>\n",
       "      <td>0.00</td>\n",
       "      <td>0.00</td>\n",
       "      <td>0.00</td>\n",
       "      <td>0.00</td>\n",
       "      <td>0.00</td>\n",
       "      <td>0.00</td>\n",
       "      <td>4500.50</td>\n",
       "      <td>0.00</td>\n",
       "      <td>4500.50</td>\n",
       "      <td>1031538.75</td>\n",
       "      <td>0.004363</td>\n",
       "      <td>4500.50</td>\n",
       "      <td>True</td>\n",
       "      <td>True</td>\n",
       "      <td>Active</td>\n",
       "      <td>99HT</td>\n",
       "      <td>C10-0000279-LIC</td>\n",
       "      <td>99HT</td>\n",
       "      <td>CA</td>\n",
       "    </tr>\n",
       "    <tr>\n",
       "      <th>146</th>\n",
       "      <td>HGDCO Inc</td>\n",
       "      <td>0.00</td>\n",
       "      <td>11920.04</td>\n",
       "      <td>13040.07</td>\n",
       "      <td>23615.04</td>\n",
       "      <td>10668.04</td>\n",
       "      <td>9159.09</td>\n",
       "      <td>8918.02</td>\n",
       "      <td>10602.02</td>\n",
       "      <td>10468.10</td>\n",
       "      <td>0.0</td>\n",
       "      <td>8968.02</td>\n",
       "      <td>0.00</td>\n",
       "      <td>8720.05</td>\n",
       "      <td>7798.02</td>\n",
       "      <td>7772.01</td>\n",
       "      <td>9431.06</td>\n",
       "      <td>10051.08</td>\n",
       "      <td>0.00</td>\n",
       "      <td>9336.02</td>\n",
       "      <td>9678.04</td>\n",
       "      <td>9134.42</td>\n",
       "      <td>0.00</td>\n",
       "      <td>80888.72</td>\n",
       "      <td>1031538.75</td>\n",
       "      <td>0.078416</td>\n",
       "      <td>28148.48</td>\n",
       "      <td>True</td>\n",
       "      <td>True</td>\n",
       "      <td>Active</td>\n",
       "      <td>99HT</td>\n",
       "      <td>C10-0000279-LIC</td>\n",
       "      <td>99HT</td>\n",
       "      <td>CA</td>\n",
       "    </tr>\n",
       "    <tr>\n",
       "      <th>152</th>\n",
       "      <td>Herbl</td>\n",
       "      <td>0.00</td>\n",
       "      <td>0.00</td>\n",
       "      <td>0.00</td>\n",
       "      <td>0.00</td>\n",
       "      <td>0.00</td>\n",
       "      <td>0.00</td>\n",
       "      <td>0.00</td>\n",
       "      <td>3820.00</td>\n",
       "      <td>0.00</td>\n",
       "      <td>0.0</td>\n",
       "      <td>0.00</td>\n",
       "      <td>0.00</td>\n",
       "      <td>0.00</td>\n",
       "      <td>0.00</td>\n",
       "      <td>0.00</td>\n",
       "      <td>2800.00</td>\n",
       "      <td>0.00</td>\n",
       "      <td>5964.14</td>\n",
       "      <td>0.00</td>\n",
       "      <td>4480.24</td>\n",
       "      <td>0.00</td>\n",
       "      <td>0.00</td>\n",
       "      <td>13244.38</td>\n",
       "      <td>1031538.75</td>\n",
       "      <td>0.012839</td>\n",
       "      <td>4480.24</td>\n",
       "      <td>True</td>\n",
       "      <td>True</td>\n",
       "      <td>Active</td>\n",
       "      <td>99HT</td>\n",
       "      <td>C10-0000279-LIC</td>\n",
       "      <td>99HT</td>\n",
       "      <td>CA</td>\n",
       "    </tr>\n",
       "    <tr>\n",
       "      <th>154</th>\n",
       "      <td>Ironworks Collective</td>\n",
       "      <td>0.00</td>\n",
       "      <td>0.00</td>\n",
       "      <td>0.00</td>\n",
       "      <td>0.00</td>\n",
       "      <td>0.00</td>\n",
       "      <td>0.00</td>\n",
       "      <td>0.00</td>\n",
       "      <td>0.00</td>\n",
       "      <td>0.00</td>\n",
       "      <td>0.0</td>\n",
       "      <td>0.00</td>\n",
       "      <td>0.00</td>\n",
       "      <td>0.00</td>\n",
       "      <td>0.00</td>\n",
       "      <td>2925.00</td>\n",
       "      <td>0.00</td>\n",
       "      <td>0.00</td>\n",
       "      <td>0.00</td>\n",
       "      <td>0.00</td>\n",
       "      <td>0.00</td>\n",
       "      <td>0.00</td>\n",
       "      <td>0.00</td>\n",
       "      <td>2925.00</td>\n",
       "      <td>1031538.75</td>\n",
       "      <td>0.002836</td>\n",
       "      <td>0.00</td>\n",
       "      <td>False</td>\n",
       "      <td>True</td>\n",
       "      <td>Inactive</td>\n",
       "      <td>99HT</td>\n",
       "      <td>C10-0000279-LIC</td>\n",
       "      <td>99HT</td>\n",
       "      <td>CA</td>\n",
       "    </tr>\n",
       "    <tr>\n",
       "      <th>155</th>\n",
       "      <td>Irrational Raccoon</td>\n",
       "      <td>2880.09</td>\n",
       "      <td>6860.11</td>\n",
       "      <td>27591.93</td>\n",
       "      <td>6540.13</td>\n",
       "      <td>0.00</td>\n",
       "      <td>13467.00</td>\n",
       "      <td>3224.03</td>\n",
       "      <td>0.00</td>\n",
       "      <td>0.00</td>\n",
       "      <td>0.0</td>\n",
       "      <td>0.00</td>\n",
       "      <td>0.00</td>\n",
       "      <td>0.00</td>\n",
       "      <td>1920.03</td>\n",
       "      <td>0.00</td>\n",
       "      <td>0.00</td>\n",
       "      <td>3840.24</td>\n",
       "      <td>0.00</td>\n",
       "      <td>0.00</td>\n",
       "      <td>0.00</td>\n",
       "      <td>0.00</td>\n",
       "      <td>0.00</td>\n",
       "      <td>5760.27</td>\n",
       "      <td>1031538.75</td>\n",
       "      <td>0.005584</td>\n",
       "      <td>0.00</td>\n",
       "      <td>False</td>\n",
       "      <td>True</td>\n",
       "      <td>Inactive</td>\n",
       "      <td>99HT</td>\n",
       "      <td>C10-0000279-LIC</td>\n",
       "      <td>99HT</td>\n",
       "      <td>CA</td>\n",
       "    </tr>\n",
       "    <tr>\n",
       "      <th>159</th>\n",
       "      <td>Kiva Sales &amp; Service</td>\n",
       "      <td>0.00</td>\n",
       "      <td>0.00</td>\n",
       "      <td>0.00</td>\n",
       "      <td>1320.10</td>\n",
       "      <td>0.00</td>\n",
       "      <td>1760.00</td>\n",
       "      <td>2500.03</td>\n",
       "      <td>0.00</td>\n",
       "      <td>0.00</td>\n",
       "      <td>5480.0</td>\n",
       "      <td>2880.30</td>\n",
       "      <td>0.00</td>\n",
       "      <td>0.00</td>\n",
       "      <td>0.00</td>\n",
       "      <td>0.00</td>\n",
       "      <td>0.00</td>\n",
       "      <td>0.00</td>\n",
       "      <td>0.00</td>\n",
       "      <td>0.00</td>\n",
       "      <td>0.00</td>\n",
       "      <td>0.00</td>\n",
       "      <td>0.00</td>\n",
       "      <td>2880.30</td>\n",
       "      <td>1031538.75</td>\n",
       "      <td>0.002792</td>\n",
       "      <td>0.00</td>\n",
       "      <td>False</td>\n",
       "      <td>True</td>\n",
       "      <td>Inactive</td>\n",
       "      <td>99HT</td>\n",
       "      <td>C10-0000279-LIC</td>\n",
       "      <td>99HT</td>\n",
       "      <td>CA</td>\n",
       "    </tr>\n",
       "    <tr>\n",
       "      <th>180</th>\n",
       "      <td>NorCal Distribution Solutions</td>\n",
       "      <td>0.00</td>\n",
       "      <td>0.00</td>\n",
       "      <td>0.00</td>\n",
       "      <td>0.00</td>\n",
       "      <td>0.00</td>\n",
       "      <td>0.00</td>\n",
       "      <td>0.00</td>\n",
       "      <td>0.00</td>\n",
       "      <td>0.00</td>\n",
       "      <td>0.0</td>\n",
       "      <td>0.00</td>\n",
       "      <td>0.00</td>\n",
       "      <td>0.00</td>\n",
       "      <td>0.00</td>\n",
       "      <td>5616.70</td>\n",
       "      <td>0.00</td>\n",
       "      <td>0.00</td>\n",
       "      <td>0.00</td>\n",
       "      <td>0.00</td>\n",
       "      <td>0.00</td>\n",
       "      <td>0.00</td>\n",
       "      <td>2200.49</td>\n",
       "      <td>7817.19</td>\n",
       "      <td>1031538.75</td>\n",
       "      <td>0.007578</td>\n",
       "      <td>2200.49</td>\n",
       "      <td>True</td>\n",
       "      <td>True</td>\n",
       "      <td>Active</td>\n",
       "      <td>99HT</td>\n",
       "      <td>C10-0000279-LIC</td>\n",
       "      <td>99HT</td>\n",
       "      <td>CA</td>\n",
       "    </tr>\n",
       "    <tr>\n",
       "      <th>216</th>\n",
       "      <td>Umbrla</td>\n",
       "      <td>0.00</td>\n",
       "      <td>0.00</td>\n",
       "      <td>0.00</td>\n",
       "      <td>0.00</td>\n",
       "      <td>0.00</td>\n",
       "      <td>0.00</td>\n",
       "      <td>0.00</td>\n",
       "      <td>0.00</td>\n",
       "      <td>0.00</td>\n",
       "      <td>0.0</td>\n",
       "      <td>0.00</td>\n",
       "      <td>0.00</td>\n",
       "      <td>5713.50</td>\n",
       "      <td>0.00</td>\n",
       "      <td>2913.50</td>\n",
       "      <td>0.00</td>\n",
       "      <td>0.00</td>\n",
       "      <td>0.00</td>\n",
       "      <td>0.00</td>\n",
       "      <td>0.00</td>\n",
       "      <td>0.00</td>\n",
       "      <td>0.00</td>\n",
       "      <td>8627.00</td>\n",
       "      <td>1031538.75</td>\n",
       "      <td>0.008363</td>\n",
       "      <td>0.00</td>\n",
       "      <td>False</td>\n",
       "      <td>True</td>\n",
       "      <td>Inactive</td>\n",
       "      <td>99HT</td>\n",
       "      <td>C10-0000279-LIC</td>\n",
       "      <td>99HT</td>\n",
       "      <td>CA</td>\n",
       "    </tr>\n",
       "  </tbody>\n",
       "</table>\n",
       "</div>"
      ],
      "text/plain": [
       "                 shipper_parent_name  2021-01-01  2021-02-01  2021-03-01  \\\n",
       "84                       1346 LA LLC     7275.61     4200.10        0.00   \n",
       "108            Claybourne Industries     8070.00     8737.00        0.00   \n",
       "117                      Dreamfields        0.00        0.00        0.00   \n",
       "126                           Falcon        0.00     8280.00        0.00   \n",
       "139  Greenfield Organix dba Loudpack        0.00        0.00        0.00   \n",
       "142                       Growpacker        0.00        0.00        0.00   \n",
       "146                        HGDCO Inc        0.00    11920.04    13040.07   \n",
       "152                            Herbl        0.00        0.00        0.00   \n",
       "154             Ironworks Collective        0.00        0.00        0.00   \n",
       "155               Irrational Raccoon     2880.09     6860.11    27591.93   \n",
       "159             Kiva Sales & Service        0.00        0.00        0.00   \n",
       "180    NorCal Distribution Solutions        0.00        0.00        0.00   \n",
       "216                           Umbrla        0.00        0.00        0.00   \n",
       "\n",
       "     2021-04-01  2021-05-01  2021-06-01  2021-07-01  2021-08-01  2021-09-01  \\\n",
       "84      5160.53     5335.33     3888.16     4500.00     4563.74    13937.14   \n",
       "108        0.00     6485.00        0.00     6648.00        0.00        0.00   \n",
       "117        0.00        0.00        0.00        0.00        0.00        0.00   \n",
       "126    12052.00        0.00     7596.00     7080.00        0.00        0.00   \n",
       "139        0.00        0.00        0.00        0.00        0.00        0.00   \n",
       "142        0.00        0.00        0.00        0.00        0.00        0.00   \n",
       "146    23615.04    10668.04     9159.09     8918.02    10602.02    10468.10   \n",
       "152        0.00        0.00        0.00        0.00     3820.00        0.00   \n",
       "154        0.00        0.00        0.00        0.00        0.00        0.00   \n",
       "155     6540.13        0.00    13467.00     3224.03        0.00        0.00   \n",
       "159     1320.10        0.00     1760.00     2500.03        0.00        0.00   \n",
       "180        0.00        0.00        0.00        0.00        0.00        0.00   \n",
       "216        0.00        0.00        0.00        0.00        0.00        0.00   \n",
       "\n",
       "     2021-10-01  2021-11-01  2021-12-01  2022-01-01  2022-02-01  2022-03-01  \\\n",
       "84          0.0        0.00        0.00     9744.21        0.00        0.00   \n",
       "108         0.0     6738.00     6338.16        0.00        0.00        0.00   \n",
       "117         0.0        0.00        0.00        0.00        0.00        0.00   \n",
       "126         0.0     9282.19        0.00     2400.00        0.00        0.00   \n",
       "139         0.0        0.00        0.00        0.00        0.00     3120.72   \n",
       "142         0.0        0.00        0.00        0.00        0.00        0.00   \n",
       "146         0.0     8968.02        0.00     8720.05     7798.02     7772.01   \n",
       "152         0.0        0.00        0.00        0.00        0.00        0.00   \n",
       "154         0.0        0.00        0.00        0.00        0.00     2925.00   \n",
       "155         0.0        0.00        0.00        0.00     1920.03        0.00   \n",
       "159      5480.0     2880.30        0.00        0.00        0.00        0.00   \n",
       "180         0.0        0.00        0.00        0.00        0.00     5616.70   \n",
       "216         0.0        0.00        0.00     5713.50        0.00     2913.50   \n",
       "\n",
       "     2022-04-01  2022-05-01  2022-06-01  2022-07-01  2022-08-01  2022-09-01  \\\n",
       "84      6569.24        0.00        0.00     5952.38        0.00        0.00   \n",
       "108        0.00     7738.00        0.00        0.00        0.00     9796.45   \n",
       "117        0.00        0.00        0.00        0.00        0.00     4325.50   \n",
       "126        0.00        0.00     3000.24        0.00        0.00        0.00   \n",
       "139        0.00        0.00     6172.03        0.00        0.00        0.00   \n",
       "142        0.00        0.00        0.00        0.00        0.00     4500.50   \n",
       "146     9431.06    10051.08        0.00     9336.02     9678.04     9134.42   \n",
       "152     2800.00        0.00     5964.14        0.00     4480.24        0.00   \n",
       "154        0.00        0.00        0.00        0.00        0.00        0.00   \n",
       "155        0.00     3840.24        0.00        0.00        0.00        0.00   \n",
       "159        0.00        0.00        0.00        0.00        0.00        0.00   \n",
       "180        0.00        0.00        0.00        0.00        0.00        0.00   \n",
       "216        0.00        0.00        0.00        0.00        0.00        0.00   \n",
       "\n",
       "     2022-10-01  facility_total  grand_total  perc_total  last_4m_total  \\\n",
       "84      7664.18        29930.01   1031538.75    0.029015       13616.56   \n",
       "108        0.00        30610.61   1031538.75    0.029675        9796.45   \n",
       "117     2251.25         6576.75   1031538.75    0.006376        6576.75   \n",
       "126        0.00        14682.43   1031538.75    0.014234           0.00   \n",
       "139        0.00         9292.75   1031538.75    0.009009           0.00   \n",
       "142        0.00         4500.50   1031538.75    0.004363        4500.50   \n",
       "146        0.00        80888.72   1031538.75    0.078416       28148.48   \n",
       "152        0.00        13244.38   1031538.75    0.012839        4480.24   \n",
       "154        0.00         2925.00   1031538.75    0.002836           0.00   \n",
       "155        0.00         5760.27   1031538.75    0.005584           0.00   \n",
       "159        0.00         2880.30   1031538.75    0.002792           0.00   \n",
       "180     2200.49         7817.19   1031538.75    0.007578        2200.49   \n",
       "216        0.00         8627.00   1031538.75    0.008363           0.00   \n",
       "\n",
       "     last_4m_active  significant   measure company         location  \\\n",
       "84             True         True    Active    99HT  C10-0000279-LIC   \n",
       "108            True         True    Active    99HT  C10-0000279-LIC   \n",
       "117            True         True    Active    99HT  C10-0000279-LIC   \n",
       "126           False         True  Inactive    99HT  C10-0000279-LIC   \n",
       "139           False         True  Inactive    99HT  C10-0000279-LIC   \n",
       "142            True         True    Active    99HT  C10-0000279-LIC   \n",
       "146            True         True    Active    99HT  C10-0000279-LIC   \n",
       "152            True         True    Active    99HT  C10-0000279-LIC   \n",
       "154           False         True  Inactive    99HT  C10-0000279-LIC   \n",
       "155           False         True  Inactive    99HT  C10-0000279-LIC   \n",
       "159           False         True  Inactive    99HT  C10-0000279-LIC   \n",
       "180            True         True    Active    99HT  C10-0000279-LIC   \n",
       "216           False         True  Inactive    99HT  C10-0000279-LIC   \n",
       "\n",
       "    company_identifier state  \n",
       "84                99HT    CA  \n",
       "108               99HT    CA  \n",
       "117               99HT    CA  \n",
       "126               99HT    CA  \n",
       "139               99HT    CA  \n",
       "142               99HT    CA  \n",
       "146               99HT    CA  \n",
       "152               99HT    CA  \n",
       "154               99HT    CA  \n",
       "155               99HT    CA  \n",
       "159               99HT    CA  \n",
       "180               99HT    CA  \n",
       "216               99HT    CA  "
      ]
     },
     "execution_count": 54,
     "metadata": {},
     "output_type": "execute_result"
    }
   ],
   "source": [
    "ht[(ht['shipper_parent_name'].isin(list(tier_a_vendor)))]"
   ]
  },
  {
   "cell_type": "code",
   "execution_count": null,
   "id": "2f7a1322",
   "metadata": {},
   "outputs": [],
   "source": []
  }
 ],
 "metadata": {
  "kernelspec": {
   "display_name": "Python 3",
   "language": "python",
   "name": "python3"
  },
  "language_info": {
   "codemirror_mode": {
    "name": "ipython",
    "version": 3
   },
   "file_extension": ".py",
   "mimetype": "text/x-python",
   "name": "python",
   "nbconvert_exporter": "python",
   "pygments_lexer": "ipython3",
   "version": "3.8.10"
  }
 },
 "nbformat": 4,
 "nbformat_minor": 5
}
