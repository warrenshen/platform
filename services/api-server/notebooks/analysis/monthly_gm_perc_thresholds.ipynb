{
 "cells": [
  {
   "cell_type": "code",
   "execution_count": 1,
   "id": "33f794bb",
   "metadata": {},
   "outputs": [],
   "source": [
    "import warnings\n",
    "warnings.filterwarnings('ignore')"
   ]
  },
  {
   "cell_type": "code",
   "execution_count": 2,
   "id": "97b1ff9c",
   "metadata": {},
   "outputs": [],
   "source": [
    "import json\n",
    "import numpy \n",
    "import os\n",
    "import pandas as pd\n",
    "import matplotlib.pyplot as plt\n",
    "%matplotlib inline  \n",
    "import pyarrow\n",
    "import sys\n",
    "\n",
    "from datetime import date\n",
    "from dotenv import load_dotenv\n",
    "from sqlalchemy import create_engine\n",
    "from os import path\n",
    "from typing import List,Dict, Tuple\n",
    "from collections import defaultdict\n",
    "pd.set_option(\"display.max_columns\", None)\n",
    "\n",
    "load_dotenv(verbose=True)\n",
    "BIGQUERY_CREDENTIALS_PATH = os.environ.get('BIGQUERY_CREDENTIALS_PATH')\n",
    "engine = create_engine('bigquery://bespoke-financial/ProdMetrcData', credentials_path=os.path.expanduser(BIGQUERY_CREDENTIALS_PATH))\n",
    "\n",
    "sys.path.append(path.realpath(path.join(os.getcwd(), \"../core\")))\n",
    "sys.path.append(path.realpath(path.join(os.getcwd(), \"../../src\")))\n",
    "\n",
    "import create_queries\n",
    "import prepare_data\n",
    "\n",
    "from bespoke.inventory.analysis.shared import download_util, inventory_types\n",
    "from bespoke.inventory.analysis import active_inventory_util as util\n",
    "from bespoke.inventory.analysis import inventory_valuations_util as valuations_util\n",
    "\n",
    "%load_ext autoreload\n",
    "%autoreload 2"
   ]
  },
  {
   "cell_type": "code",
   "execution_count": 62,
   "id": "0d15c5fa",
   "metadata": {},
   "outputs": [],
   "source": [
    "gm = pd.read_csv('all_metrc_gm_0720.csv',index_col = 0)"
   ]
  },
  {
   "cell_type": "code",
   "execution_count": 63,
   "id": "e0787c30",
   "metadata": {},
   "outputs": [
    {
     "data": {
      "text/plain": [
       "array(['99HT', 'AGA', 'ALT', 'BS', 'BMC', 'BBF', 'BUD', 'BRC', 'BYN',\n",
       "       'CHO', 'CG', 'CPA', 'CPC', 'CSC', 'CSCC', 'CCC', 'CC', 'CED',\n",
       "       'DWF', 'DCO', 'DL', 'DGG', 'DG', 'EL', 'EMA', 'EMF', 'EMM', 'EMT',\n",
       "       'EPC', 'EH', 'FI', 'FW', 'GTC', 'GT', 'GLNR', 'GRG', 'GTR', 'GHC',\n",
       "       'GFEE', 'GFWF', 'HB', 'HS', 'HPCC', 'HC', 'IDC', 'ID', 'KAR', 'KC',\n",
       "       'LEG', 'LBC', 'MSS', 'ML', 'MW', 'MPW', 'MD', 'ND', 'NECC', 'PGM',\n",
       "       'PRP', 'PRL', 'QR', 'MC', 'RA', 'RGD', 'SGF', 'SFV', 'SV', 'SLCC',\n",
       "       'SO', 'ST', 'DW', 'FD', 'TGL', 'TJR', 'TTS', 'TT', 'T4L', 'TL',\n",
       "       'UHHC', 'VS', 'VOY'], dtype=object)"
      ]
     },
     "execution_count": 63,
     "metadata": {},
     "output_type": "execute_result"
    }
   ],
   "source": [
    "gm['company_identifier'].unique()"
   ]
  },
  {
   "cell_type": "code",
   "execution_count": 64,
   "id": "fee74a90",
   "metadata": {},
   "outputs": [],
   "source": [
    "gm_high_coverage = gm[gm['coverage'] >= 0.7]"
   ]
  },
  {
   "cell_type": "code",
   "execution_count": 65,
   "id": "83fb5264",
   "metadata": {},
   "outputs": [],
   "source": [
    "gm_high_coverage_3m_trim = gm_high_coverage[(gm_high_coverage['gm_past_quarter'] > 0.2) & (gm_high_coverage['gm_past_quarter'] < 0.8) & (gm_high_coverage['date'] < '2022-07-01')]\n",
    "\n",
    "gm_high_coverage_6m_trim = gm_high_coverage[(gm_high_coverage['gm_past_2quarters'] > 0.2) & (gm_high_coverage['gm_past_2quarters'] < 0.8) & (gm_high_coverage['date'] < '2022-07-01')]\n",
    "\n",
    "gm_high_coverage_9m_trim = gm_high_coverage[(gm_high_coverage['gm_past_3quarters'] > 0.2) & (gm_high_coverage['gm_past_3quarters'] < 0.8) & (gm_high_coverage['date'] < '2022-07-01')]\n",
    "\n"
   ]
  },
  {
   "cell_type": "code",
   "execution_count": 66,
   "id": "e5e49828",
   "metadata": {},
   "outputs": [
    {
     "data": {
      "text/html": [
       "<div>\n",
       "<style scoped>\n",
       "    .dataframe tbody tr th:only-of-type {\n",
       "        vertical-align: middle;\n",
       "    }\n",
       "\n",
       "    .dataframe tbody tr th {\n",
       "        vertical-align: top;\n",
       "    }\n",
       "\n",
       "    .dataframe thead th {\n",
       "        text-align: right;\n",
       "    }\n",
       "</style>\n",
       "<table border=\"1\" class=\"dataframe\">\n",
       "  <thead>\n",
       "    <tr style=\"text-align: right;\">\n",
       "      <th>state</th>\n",
       "      <th>level_0</th>\n",
       "      <th>date</th>\n",
       "      <th>CA</th>\n",
       "      <th>CO</th>\n",
       "      <th>MA</th>\n",
       "      <th>MI</th>\n",
       "      <th>OR</th>\n",
       "    </tr>\n",
       "  </thead>\n",
       "  <tbody>\n",
       "    <tr>\n",
       "      <th>0</th>\n",
       "      <td>id</td>\n",
       "      <td>2020-03</td>\n",
       "      <td>15.0</td>\n",
       "      <td>8.0</td>\n",
       "      <td>NaN</td>\n",
       "      <td>NaN</td>\n",
       "      <td>NaN</td>\n",
       "    </tr>\n",
       "    <tr>\n",
       "      <th>1</th>\n",
       "      <td>id</td>\n",
       "      <td>2020-04</td>\n",
       "      <td>16.0</td>\n",
       "      <td>10.0</td>\n",
       "      <td>NaN</td>\n",
       "      <td>1.0</td>\n",
       "      <td>1.0</td>\n",
       "    </tr>\n",
       "    <tr>\n",
       "      <th>2</th>\n",
       "      <td>id</td>\n",
       "      <td>2020-05</td>\n",
       "      <td>18.0</td>\n",
       "      <td>9.0</td>\n",
       "      <td>NaN</td>\n",
       "      <td>2.0</td>\n",
       "      <td>1.0</td>\n",
       "    </tr>\n",
       "    <tr>\n",
       "      <th>3</th>\n",
       "      <td>id</td>\n",
       "      <td>2020-06</td>\n",
       "      <td>20.0</td>\n",
       "      <td>8.0</td>\n",
       "      <td>NaN</td>\n",
       "      <td>2.0</td>\n",
       "      <td>NaN</td>\n",
       "    </tr>\n",
       "    <tr>\n",
       "      <th>4</th>\n",
       "      <td>id</td>\n",
       "      <td>2020-07</td>\n",
       "      <td>22.0</td>\n",
       "      <td>9.0</td>\n",
       "      <td>NaN</td>\n",
       "      <td>3.0</td>\n",
       "      <td>1.0</td>\n",
       "    </tr>\n",
       "    <tr>\n",
       "      <th>5</th>\n",
       "      <td>id</td>\n",
       "      <td>2020-08</td>\n",
       "      <td>24.0</td>\n",
       "      <td>10.0</td>\n",
       "      <td>1.0</td>\n",
       "      <td>3.0</td>\n",
       "      <td>1.0</td>\n",
       "    </tr>\n",
       "    <tr>\n",
       "      <th>6</th>\n",
       "      <td>id</td>\n",
       "      <td>2020-09</td>\n",
       "      <td>26.0</td>\n",
       "      <td>10.0</td>\n",
       "      <td>1.0</td>\n",
       "      <td>2.0</td>\n",
       "      <td>1.0</td>\n",
       "    </tr>\n",
       "    <tr>\n",
       "      <th>7</th>\n",
       "      <td>id</td>\n",
       "      <td>2020-10</td>\n",
       "      <td>26.0</td>\n",
       "      <td>9.0</td>\n",
       "      <td>1.0</td>\n",
       "      <td>2.0</td>\n",
       "      <td>1.0</td>\n",
       "    </tr>\n",
       "    <tr>\n",
       "      <th>8</th>\n",
       "      <td>id</td>\n",
       "      <td>2020-11</td>\n",
       "      <td>27.0</td>\n",
       "      <td>10.0</td>\n",
       "      <td>1.0</td>\n",
       "      <td>1.0</td>\n",
       "      <td>1.0</td>\n",
       "    </tr>\n",
       "    <tr>\n",
       "      <th>9</th>\n",
       "      <td>id</td>\n",
       "      <td>2020-12</td>\n",
       "      <td>27.0</td>\n",
       "      <td>10.0</td>\n",
       "      <td>1.0</td>\n",
       "      <td>2.0</td>\n",
       "      <td>NaN</td>\n",
       "    </tr>\n",
       "    <tr>\n",
       "      <th>10</th>\n",
       "      <td>id</td>\n",
       "      <td>2021-01</td>\n",
       "      <td>27.0</td>\n",
       "      <td>10.0</td>\n",
       "      <td>1.0</td>\n",
       "      <td>2.0</td>\n",
       "      <td>NaN</td>\n",
       "    </tr>\n",
       "    <tr>\n",
       "      <th>11</th>\n",
       "      <td>id</td>\n",
       "      <td>2021-02</td>\n",
       "      <td>33.0</td>\n",
       "      <td>10.0</td>\n",
       "      <td>1.0</td>\n",
       "      <td>2.0</td>\n",
       "      <td>1.0</td>\n",
       "    </tr>\n",
       "    <tr>\n",
       "      <th>12</th>\n",
       "      <td>id</td>\n",
       "      <td>2021-03</td>\n",
       "      <td>42.0</td>\n",
       "      <td>12.0</td>\n",
       "      <td>1.0</td>\n",
       "      <td>7.0</td>\n",
       "      <td>NaN</td>\n",
       "    </tr>\n",
       "    <tr>\n",
       "      <th>13</th>\n",
       "      <td>id</td>\n",
       "      <td>2021-04</td>\n",
       "      <td>42.0</td>\n",
       "      <td>15.0</td>\n",
       "      <td>1.0</td>\n",
       "      <td>9.0</td>\n",
       "      <td>NaN</td>\n",
       "    </tr>\n",
       "    <tr>\n",
       "      <th>14</th>\n",
       "      <td>id</td>\n",
       "      <td>2021-05</td>\n",
       "      <td>47.0</td>\n",
       "      <td>14.0</td>\n",
       "      <td>1.0</td>\n",
       "      <td>10.0</td>\n",
       "      <td>NaN</td>\n",
       "    </tr>\n",
       "    <tr>\n",
       "      <th>15</th>\n",
       "      <td>id</td>\n",
       "      <td>2021-06</td>\n",
       "      <td>48.0</td>\n",
       "      <td>14.0</td>\n",
       "      <td>1.0</td>\n",
       "      <td>11.0</td>\n",
       "      <td>1.0</td>\n",
       "    </tr>\n",
       "    <tr>\n",
       "      <th>16</th>\n",
       "      <td>id</td>\n",
       "      <td>2021-07</td>\n",
       "      <td>48.0</td>\n",
       "      <td>15.0</td>\n",
       "      <td>1.0</td>\n",
       "      <td>13.0</td>\n",
       "      <td>1.0</td>\n",
       "    </tr>\n",
       "    <tr>\n",
       "      <th>17</th>\n",
       "      <td>id</td>\n",
       "      <td>2021-08</td>\n",
       "      <td>49.0</td>\n",
       "      <td>14.0</td>\n",
       "      <td>1.0</td>\n",
       "      <td>13.0</td>\n",
       "      <td>1.0</td>\n",
       "    </tr>\n",
       "    <tr>\n",
       "      <th>18</th>\n",
       "      <td>id</td>\n",
       "      <td>2021-09</td>\n",
       "      <td>50.0</td>\n",
       "      <td>13.0</td>\n",
       "      <td>2.0</td>\n",
       "      <td>16.0</td>\n",
       "      <td>1.0</td>\n",
       "    </tr>\n",
       "    <tr>\n",
       "      <th>19</th>\n",
       "      <td>id</td>\n",
       "      <td>2021-10</td>\n",
       "      <td>53.0</td>\n",
       "      <td>11.0</td>\n",
       "      <td>2.0</td>\n",
       "      <td>16.0</td>\n",
       "      <td>1.0</td>\n",
       "    </tr>\n",
       "    <tr>\n",
       "      <th>20</th>\n",
       "      <td>id</td>\n",
       "      <td>2021-11</td>\n",
       "      <td>53.0</td>\n",
       "      <td>11.0</td>\n",
       "      <td>3.0</td>\n",
       "      <td>17.0</td>\n",
       "      <td>1.0</td>\n",
       "    </tr>\n",
       "    <tr>\n",
       "      <th>21</th>\n",
       "      <td>id</td>\n",
       "      <td>2021-12</td>\n",
       "      <td>54.0</td>\n",
       "      <td>10.0</td>\n",
       "      <td>3.0</td>\n",
       "      <td>18.0</td>\n",
       "      <td>1.0</td>\n",
       "    </tr>\n",
       "    <tr>\n",
       "      <th>22</th>\n",
       "      <td>id</td>\n",
       "      <td>2022-01</td>\n",
       "      <td>53.0</td>\n",
       "      <td>9.0</td>\n",
       "      <td>5.0</td>\n",
       "      <td>19.0</td>\n",
       "      <td>1.0</td>\n",
       "    </tr>\n",
       "    <tr>\n",
       "      <th>23</th>\n",
       "      <td>id</td>\n",
       "      <td>2022-02</td>\n",
       "      <td>53.0</td>\n",
       "      <td>9.0</td>\n",
       "      <td>4.0</td>\n",
       "      <td>19.0</td>\n",
       "      <td>1.0</td>\n",
       "    </tr>\n",
       "    <tr>\n",
       "      <th>24</th>\n",
       "      <td>id</td>\n",
       "      <td>2022-03</td>\n",
       "      <td>51.0</td>\n",
       "      <td>6.0</td>\n",
       "      <td>4.0</td>\n",
       "      <td>15.0</td>\n",
       "      <td>1.0</td>\n",
       "    </tr>\n",
       "    <tr>\n",
       "      <th>25</th>\n",
       "      <td>id</td>\n",
       "      <td>2022-04</td>\n",
       "      <td>50.0</td>\n",
       "      <td>6.0</td>\n",
       "      <td>4.0</td>\n",
       "      <td>11.0</td>\n",
       "      <td>NaN</td>\n",
       "    </tr>\n",
       "    <tr>\n",
       "      <th>26</th>\n",
       "      <td>id</td>\n",
       "      <td>2022-05</td>\n",
       "      <td>49.0</td>\n",
       "      <td>6.0</td>\n",
       "      <td>4.0</td>\n",
       "      <td>10.0</td>\n",
       "      <td>NaN</td>\n",
       "    </tr>\n",
       "    <tr>\n",
       "      <th>27</th>\n",
       "      <td>id</td>\n",
       "      <td>2022-06</td>\n",
       "      <td>43.0</td>\n",
       "      <td>6.0</td>\n",
       "      <td>3.0</td>\n",
       "      <td>18.0</td>\n",
       "      <td>NaN</td>\n",
       "    </tr>\n",
       "    <tr>\n",
       "      <th>28</th>\n",
       "      <td>id</td>\n",
       "      <td>2022-07</td>\n",
       "      <td>43.0</td>\n",
       "      <td>7.0</td>\n",
       "      <td>3.0</td>\n",
       "      <td>15.0</td>\n",
       "      <td>NaN</td>\n",
       "    </tr>\n",
       "  </tbody>\n",
       "</table>\n",
       "</div>"
      ],
      "text/plain": [
       "state level_0     date    CA    CO   MA    MI   OR\n",
       "0          id  2020-03  15.0   8.0  NaN   NaN  NaN\n",
       "1          id  2020-04  16.0  10.0  NaN   1.0  1.0\n",
       "2          id  2020-05  18.0   9.0  NaN   2.0  1.0\n",
       "3          id  2020-06  20.0   8.0  NaN   2.0  NaN\n",
       "4          id  2020-07  22.0   9.0  NaN   3.0  1.0\n",
       "5          id  2020-08  24.0  10.0  1.0   3.0  1.0\n",
       "6          id  2020-09  26.0  10.0  1.0   2.0  1.0\n",
       "7          id  2020-10  26.0   9.0  1.0   2.0  1.0\n",
       "8          id  2020-11  27.0  10.0  1.0   1.0  1.0\n",
       "9          id  2020-12  27.0  10.0  1.0   2.0  NaN\n",
       "10         id  2021-01  27.0  10.0  1.0   2.0  NaN\n",
       "11         id  2021-02  33.0  10.0  1.0   2.0  1.0\n",
       "12         id  2021-03  42.0  12.0  1.0   7.0  NaN\n",
       "13         id  2021-04  42.0  15.0  1.0   9.0  NaN\n",
       "14         id  2021-05  47.0  14.0  1.0  10.0  NaN\n",
       "15         id  2021-06  48.0  14.0  1.0  11.0  1.0\n",
       "16         id  2021-07  48.0  15.0  1.0  13.0  1.0\n",
       "17         id  2021-08  49.0  14.0  1.0  13.0  1.0\n",
       "18         id  2021-09  50.0  13.0  2.0  16.0  1.0\n",
       "19         id  2021-10  53.0  11.0  2.0  16.0  1.0\n",
       "20         id  2021-11  53.0  11.0  3.0  17.0  1.0\n",
       "21         id  2021-12  54.0  10.0  3.0  18.0  1.0\n",
       "22         id  2022-01  53.0   9.0  5.0  19.0  1.0\n",
       "23         id  2022-02  53.0   9.0  4.0  19.0  1.0\n",
       "24         id  2022-03  51.0   6.0  4.0  15.0  1.0\n",
       "25         id  2022-04  50.0   6.0  4.0  11.0  NaN\n",
       "26         id  2022-05  49.0   6.0  4.0  10.0  NaN\n",
       "27         id  2022-06  43.0   6.0  3.0  18.0  NaN\n",
       "28         id  2022-07  43.0   7.0  3.0  15.0  NaN"
      ]
     },
     "execution_count": 66,
     "metadata": {},
     "output_type": "execute_result"
    }
   ],
   "source": [
    "state_count = gm_high_coverage_3m_trim[['state','id','date']].groupby(['state','date']).count().unstack().T.reset_index()\n",
    "state_count\n",
    "\n"
   ]
  },
  {
   "cell_type": "code",
   "execution_count": 70,
   "id": "2c82030a",
   "metadata": {},
   "outputs": [
    {
     "data": {
      "text/html": [
       "<div>\n",
       "<style scoped>\n",
       "    .dataframe tbody tr th:only-of-type {\n",
       "        vertical-align: middle;\n",
       "    }\n",
       "\n",
       "    .dataframe tbody tr th {\n",
       "        vertical-align: top;\n",
       "    }\n",
       "\n",
       "    .dataframe thead th {\n",
       "        text-align: right;\n",
       "    }\n",
       "</style>\n",
       "<table border=\"1\" class=\"dataframe\">\n",
       "  <thead>\n",
       "    <tr style=\"text-align: right;\">\n",
       "      <th></th>\n",
       "      <th>date</th>\n",
       "      <th>revenue</th>\n",
       "      <th>cogs</th>\n",
       "      <th>margin_$</th>\n",
       "      <th>margin_%</th>\n",
       "      <th>total_count_incoming</th>\n",
       "      <th>product_count</th>\n",
       "      <th>count_incoming</th>\n",
       "      <th>coverage</th>\n",
       "      <th>revenue_after_tax</th>\n",
       "      <th>cogs_after_tax</th>\n",
       "      <th>margin_$_after_tax</th>\n",
       "      <th>margin_%_after_tax</th>\n",
       "      <th>gm_past_quarter</th>\n",
       "      <th>gm_past_2quarters</th>\n",
       "      <th>gm_past_3quarters</th>\n",
       "      <th>gm_past_quarter_after_tax</th>\n",
       "      <th>gm_past_2quarters_after_tax</th>\n",
       "      <th>gm_past_3quarters_after_tax</th>\n",
       "      <th>gm$_past_quarter_after_tax</th>\n",
       "      <th>gm$_past_2quarters_after_tax</th>\n",
       "      <th>gm$_past_3quarters_after_tax</th>\n",
       "      <th>company</th>\n",
       "      <th>location</th>\n",
       "      <th>id</th>\n",
       "      <th>company_identifier</th>\n",
       "      <th>state</th>\n",
       "    </tr>\n",
       "  </thead>\n",
       "  <tbody>\n",
       "    <tr>\n",
       "      <th>132</th>\n",
       "      <td>2020-09</td>\n",
       "      <td>29284.09</td>\n",
       "      <td>9121.787308</td>\n",
       "      <td>20162.302692</td>\n",
       "      <td>0.688507</td>\n",
       "      <td>604.0</td>\n",
       "      <td>0.0</td>\n",
       "      <td>604</td>\n",
       "      <td>0.755000</td>\n",
       "      <td>33676.7035</td>\n",
       "      <td>11516.256476</td>\n",
       "      <td>22160.447024</td>\n",
       "      <td>0.658035</td>\n",
       "      <td>0.711121</td>\n",
       "      <td>0.798632</td>\n",
       "      <td>0.838895</td>\n",
       "      <td>0.682861</td>\n",
       "      <td>0.778933</td>\n",
       "      <td>0.823135</td>\n",
       "      <td>31186.034893</td>\n",
       "      <td>45716.153428</td>\n",
       "      <td>39132.478576</td>\n",
       "      <td>BMC</td>\n",
       "      <td>402-00930</td>\n",
       "      <td>('BMC', '402-00930')</td>\n",
       "      <td>BMC</td>\n",
       "      <td>CO</td>\n",
       "    </tr>\n",
       "    <tr>\n",
       "      <th>173</th>\n",
       "      <td>2022-01</td>\n",
       "      <td>82835.61</td>\n",
       "      <td>19979.341961</td>\n",
       "      <td>62856.268039</td>\n",
       "      <td>0.758807</td>\n",
       "      <td>1633.0</td>\n",
       "      <td>0.0</td>\n",
       "      <td>1633</td>\n",
       "      <td>0.749770</td>\n",
       "      <td>95260.9515</td>\n",
       "      <td>25223.919226</td>\n",
       "      <td>70037.032274</td>\n",
       "      <td>0.735212</td>\n",
       "      <td>0.763759</td>\n",
       "      <td>0.785559</td>\n",
       "      <td>0.815460</td>\n",
       "      <td>0.740649</td>\n",
       "      <td>0.764581</td>\n",
       "      <td>0.797407</td>\n",
       "      <td>61683.670693</td>\n",
       "      <td>69703.661417</td>\n",
       "      <td>71867.289572</td>\n",
       "      <td>BBF</td>\n",
       "      <td>MR281525</td>\n",
       "      <td>('BBF', 'MR281525')</td>\n",
       "      <td>BBF</td>\n",
       "      <td>MA</td>\n",
       "    </tr>\n",
       "    <tr>\n",
       "      <th>175</th>\n",
       "      <td>2022-03</td>\n",
       "      <td>88019.31</td>\n",
       "      <td>17778.082914</td>\n",
       "      <td>70241.227086</td>\n",
       "      <td>0.798021</td>\n",
       "      <td>1824.0</td>\n",
       "      <td>0.0</td>\n",
       "      <td>1824</td>\n",
       "      <td>0.714734</td>\n",
       "      <td>101222.2065</td>\n",
       "      <td>22444.829678</td>\n",
       "      <td>78777.376822</td>\n",
       "      <td>0.778262</td>\n",
       "      <td>0.782757</td>\n",
       "      <td>0.775198</td>\n",
       "      <td>0.796428</td>\n",
       "      <td>0.761505</td>\n",
       "      <td>0.753206</td>\n",
       "      <td>0.776513</td>\n",
       "      <td>72371.534473</td>\n",
       "      <td>67143.530716</td>\n",
       "      <td>71596.918890</td>\n",
       "      <td>BBF</td>\n",
       "      <td>MR281525</td>\n",
       "      <td>('BBF', 'MR281525')</td>\n",
       "      <td>BBF</td>\n",
       "      <td>MA</td>\n",
       "    </tr>\n",
       "    <tr>\n",
       "      <th>2358</th>\n",
       "      <td>2020-09</td>\n",
       "      <td>496394.21</td>\n",
       "      <td>136383.951034</td>\n",
       "      <td>360010.258966</td>\n",
       "      <td>0.725251</td>\n",
       "      <td>15011.0</td>\n",
       "      <td>43.0</td>\n",
       "      <td>14968</td>\n",
       "      <td>0.997939</td>\n",
       "      <td>570853.3415</td>\n",
       "      <td>172184.738180</td>\n",
       "      <td>398668.603320</td>\n",
       "      <td>0.698373</td>\n",
       "      <td>0.720377</td>\n",
       "      <td>0.743423</td>\n",
       "      <td>0.790463</td>\n",
       "      <td>0.693023</td>\n",
       "      <td>0.718323</td>\n",
       "      <td>0.769965</td>\n",
       "      <td>434670.352323</td>\n",
       "      <td>461041.203735</td>\n",
       "      <td>467245.040959</td>\n",
       "      <td>SFV</td>\n",
       "      <td>C10-0000041-LIC</td>\n",
       "      <td>('SFV', 'C10-0000041-LIC')</td>\n",
       "      <td>SFV</td>\n",
       "      <td>CA</td>\n",
       "    </tr>\n",
       "    <tr>\n",
       "      <th>176</th>\n",
       "      <td>2022-04</td>\n",
       "      <td>90868.54</td>\n",
       "      <td>24338.023532</td>\n",
       "      <td>66530.516468</td>\n",
       "      <td>0.732162</td>\n",
       "      <td>2194.0</td>\n",
       "      <td>0.0</td>\n",
       "      <td>2194</td>\n",
       "      <td>0.710492</td>\n",
       "      <td>104498.8210</td>\n",
       "      <td>30726.754709</td>\n",
       "      <td>73772.066291</td>\n",
       "      <td>0.705961</td>\n",
       "      <td>0.773875</td>\n",
       "      <td>0.768817</td>\n",
       "      <td>0.781664</td>\n",
       "      <td>0.751754</td>\n",
       "      <td>0.746201</td>\n",
       "      <td>0.760305</td>\n",
       "      <td>73616.545812</td>\n",
       "      <td>67650.108253</td>\n",
       "      <td>71007.956215</td>\n",
       "      <td>BBF</td>\n",
       "      <td>MR281525</td>\n",
       "      <td>('BBF', 'MR281525')</td>\n",
       "      <td>BBF</td>\n",
       "      <td>MA</td>\n",
       "    </tr>\n",
       "    <tr>\n",
       "      <th>...</th>\n",
       "      <td>...</td>\n",
       "      <td>...</td>\n",
       "      <td>...</td>\n",
       "      <td>...</td>\n",
       "      <td>...</td>\n",
       "      <td>...</td>\n",
       "      <td>...</td>\n",
       "      <td>...</td>\n",
       "      <td>...</td>\n",
       "      <td>...</td>\n",
       "      <td>...</td>\n",
       "      <td>...</td>\n",
       "      <td>...</td>\n",
       "      <td>...</td>\n",
       "      <td>...</td>\n",
       "      <td>...</td>\n",
       "      <td>...</td>\n",
       "      <td>...</td>\n",
       "      <td>...</td>\n",
       "      <td>...</td>\n",
       "      <td>...</td>\n",
       "      <td>...</td>\n",
       "      <td>...</td>\n",
       "      <td>...</td>\n",
       "      <td>...</td>\n",
       "      <td>...</td>\n",
       "      <td>...</td>\n",
       "    </tr>\n",
       "    <tr>\n",
       "      <th>3055</th>\n",
       "      <td>2021-12</td>\n",
       "      <td>32715.38</td>\n",
       "      <td>12190.853894</td>\n",
       "      <td>20524.526106</td>\n",
       "      <td>0.627366</td>\n",
       "      <td>1064.0</td>\n",
       "      <td>131.0</td>\n",
       "      <td>933</td>\n",
       "      <td>0.921212</td>\n",
       "      <td>37622.6870</td>\n",
       "      <td>15390.953041</td>\n",
       "      <td>22231.733959</td>\n",
       "      <td>0.590913</td>\n",
       "      <td>0.676775</td>\n",
       "      <td>NaN</td>\n",
       "      <td>NaN</td>\n",
       "      <td>0.645155</td>\n",
       "      <td>NaN</td>\n",
       "      <td>NaN</td>\n",
       "      <td>16598.526271</td>\n",
       "      <td>NaN</td>\n",
       "      <td>NaN</td>\n",
       "      <td>VOY</td>\n",
       "      <td>C10-0000802-LIC</td>\n",
       "      <td>('VOY', 'C10-0000802-LIC')</td>\n",
       "      <td>VOY</td>\n",
       "      <td>CA</td>\n",
       "    </tr>\n",
       "    <tr>\n",
       "      <th>3056</th>\n",
       "      <td>2022-01</td>\n",
       "      <td>24339.01</td>\n",
       "      <td>11142.403847</td>\n",
       "      <td>13196.606153</td>\n",
       "      <td>0.542200</td>\n",
       "      <td>833.0</td>\n",
       "      <td>45.0</td>\n",
       "      <td>788</td>\n",
       "      <td>0.939121</td>\n",
       "      <td>27989.8615</td>\n",
       "      <td>14067.284857</td>\n",
       "      <td>13922.576643</td>\n",
       "      <td>0.497415</td>\n",
       "      <td>0.625583</td>\n",
       "      <td>NaN</td>\n",
       "      <td>NaN</td>\n",
       "      <td>0.588956</td>\n",
       "      <td>NaN</td>\n",
       "      <td>NaN</td>\n",
       "      <td>16931.354154</td>\n",
       "      <td>NaN</td>\n",
       "      <td>NaN</td>\n",
       "      <td>VOY</td>\n",
       "      <td>C10-0000802-LIC</td>\n",
       "      <td>('VOY', 'C10-0000802-LIC')</td>\n",
       "      <td>VOY</td>\n",
       "      <td>CA</td>\n",
       "    </tr>\n",
       "    <tr>\n",
       "      <th>3057</th>\n",
       "      <td>2022-02</td>\n",
       "      <td>24450.82</td>\n",
       "      <td>10455.332937</td>\n",
       "      <td>13995.487063</td>\n",
       "      <td>0.572393</td>\n",
       "      <td>803.0</td>\n",
       "      <td>44.0</td>\n",
       "      <td>759</td>\n",
       "      <td>0.961677</td>\n",
       "      <td>28118.4430</td>\n",
       "      <td>13199.857834</td>\n",
       "      <td>14918.585166</td>\n",
       "      <td>0.530562</td>\n",
       "      <td>0.580653</td>\n",
       "      <td>0.604680</td>\n",
       "      <td>NaN</td>\n",
       "      <td>0.539630</td>\n",
       "      <td>0.566007</td>\n",
       "      <td>NaN</td>\n",
       "      <td>17024.298590</td>\n",
       "      <td>14628.196498</td>\n",
       "      <td>NaN</td>\n",
       "      <td>VOY</td>\n",
       "      <td>C10-0000802-LIC</td>\n",
       "      <td>('VOY', 'C10-0000802-LIC')</td>\n",
       "      <td>VOY</td>\n",
       "      <td>CA</td>\n",
       "    </tr>\n",
       "    <tr>\n",
       "      <th>3058</th>\n",
       "      <td>2022-03</td>\n",
       "      <td>27920.68</td>\n",
       "      <td>11694.072300</td>\n",
       "      <td>16226.607700</td>\n",
       "      <td>0.581168</td>\n",
       "      <td>952.0</td>\n",
       "      <td>73.0</td>\n",
       "      <td>879</td>\n",
       "      <td>0.966497</td>\n",
       "      <td>32108.7820</td>\n",
       "      <td>14763.766279</td>\n",
       "      <td>17345.015721</td>\n",
       "      <td>0.540195</td>\n",
       "      <td>0.565254</td>\n",
       "      <td>0.621014</td>\n",
       "      <td>NaN</td>\n",
       "      <td>0.522724</td>\n",
       "      <td>0.583940</td>\n",
       "      <td>NaN</td>\n",
       "      <td>15395.392510</td>\n",
       "      <td>15996.959391</td>\n",
       "      <td>NaN</td>\n",
       "      <td>VOY</td>\n",
       "      <td>C10-0000802-LIC</td>\n",
       "      <td>('VOY', 'C10-0000802-LIC')</td>\n",
       "      <td>VOY</td>\n",
       "      <td>CA</td>\n",
       "    </tr>\n",
       "    <tr>\n",
       "      <th>3059</th>\n",
       "      <td>2022-04</td>\n",
       "      <td>42846.56</td>\n",
       "      <td>19041.597583</td>\n",
       "      <td>23804.962417</td>\n",
       "      <td>0.555586</td>\n",
       "      <td>2067.0</td>\n",
       "      <td>45.0</td>\n",
       "      <td>2022</td>\n",
       "      <td>0.990417</td>\n",
       "      <td>49273.5440</td>\n",
       "      <td>24040.016949</td>\n",
       "      <td>25233.527051</td>\n",
       "      <td>0.512111</td>\n",
       "      <td>0.569716</td>\n",
       "      <td>0.597650</td>\n",
       "      <td>NaN</td>\n",
       "      <td>0.527623</td>\n",
       "      <td>0.558289</td>\n",
       "      <td>NaN</td>\n",
       "      <td>19165.709313</td>\n",
       "      <td>18048.531733</td>\n",
       "      <td>NaN</td>\n",
       "      <td>VOY</td>\n",
       "      <td>C10-0000802-LIC</td>\n",
       "      <td>('VOY', 'C10-0000802-LIC')</td>\n",
       "      <td>VOY</td>\n",
       "      <td>CA</td>\n",
       "    </tr>\n",
       "  </tbody>\n",
       "</table>\n",
       "<p>1727 rows × 27 columns</p>\n",
       "</div>"
      ],
      "text/plain": [
       "         date    revenue           cogs       margin_$  margin_%  \\\n",
       "132   2020-09   29284.09    9121.787308   20162.302692  0.688507   \n",
       "173   2022-01   82835.61   19979.341961   62856.268039  0.758807   \n",
       "175   2022-03   88019.31   17778.082914   70241.227086  0.798021   \n",
       "2358  2020-09  496394.21  136383.951034  360010.258966  0.725251   \n",
       "176   2022-04   90868.54   24338.023532   66530.516468  0.732162   \n",
       "...       ...        ...            ...            ...       ...   \n",
       "3055  2021-12   32715.38   12190.853894   20524.526106  0.627366   \n",
       "3056  2022-01   24339.01   11142.403847   13196.606153  0.542200   \n",
       "3057  2022-02   24450.82   10455.332937   13995.487063  0.572393   \n",
       "3058  2022-03   27920.68   11694.072300   16226.607700  0.581168   \n",
       "3059  2022-04   42846.56   19041.597583   23804.962417  0.555586   \n",
       "\n",
       "      total_count_incoming  product_count  count_incoming  coverage  \\\n",
       "132                  604.0            0.0             604  0.755000   \n",
       "173                 1633.0            0.0            1633  0.749770   \n",
       "175                 1824.0            0.0            1824  0.714734   \n",
       "2358               15011.0           43.0           14968  0.997939   \n",
       "176                 2194.0            0.0            2194  0.710492   \n",
       "...                    ...            ...             ...       ...   \n",
       "3055                1064.0          131.0             933  0.921212   \n",
       "3056                 833.0           45.0             788  0.939121   \n",
       "3057                 803.0           44.0             759  0.961677   \n",
       "3058                 952.0           73.0             879  0.966497   \n",
       "3059                2067.0           45.0            2022  0.990417   \n",
       "\n",
       "      revenue_after_tax  cogs_after_tax  margin_$_after_tax  \\\n",
       "132          33676.7035    11516.256476        22160.447024   \n",
       "173          95260.9515    25223.919226        70037.032274   \n",
       "175         101222.2065    22444.829678        78777.376822   \n",
       "2358        570853.3415   172184.738180       398668.603320   \n",
       "176         104498.8210    30726.754709        73772.066291   \n",
       "...                 ...             ...                 ...   \n",
       "3055         37622.6870    15390.953041        22231.733959   \n",
       "3056         27989.8615    14067.284857        13922.576643   \n",
       "3057         28118.4430    13199.857834        14918.585166   \n",
       "3058         32108.7820    14763.766279        17345.015721   \n",
       "3059         49273.5440    24040.016949        25233.527051   \n",
       "\n",
       "      margin_%_after_tax  gm_past_quarter  gm_past_2quarters  \\\n",
       "132             0.658035         0.711121           0.798632   \n",
       "173             0.735212         0.763759           0.785559   \n",
       "175             0.778262         0.782757           0.775198   \n",
       "2358            0.698373         0.720377           0.743423   \n",
       "176             0.705961         0.773875           0.768817   \n",
       "...                  ...              ...                ...   \n",
       "3055            0.590913         0.676775                NaN   \n",
       "3056            0.497415         0.625583                NaN   \n",
       "3057            0.530562         0.580653           0.604680   \n",
       "3058            0.540195         0.565254           0.621014   \n",
       "3059            0.512111         0.569716           0.597650   \n",
       "\n",
       "      gm_past_3quarters  gm_past_quarter_after_tax  \\\n",
       "132            0.838895                   0.682861   \n",
       "173            0.815460                   0.740649   \n",
       "175            0.796428                   0.761505   \n",
       "2358           0.790463                   0.693023   \n",
       "176            0.781664                   0.751754   \n",
       "...                 ...                        ...   \n",
       "3055                NaN                   0.645155   \n",
       "3056                NaN                   0.588956   \n",
       "3057                NaN                   0.539630   \n",
       "3058                NaN                   0.522724   \n",
       "3059                NaN                   0.527623   \n",
       "\n",
       "      gm_past_2quarters_after_tax  gm_past_3quarters_after_tax  \\\n",
       "132                      0.778933                     0.823135   \n",
       "173                      0.764581                     0.797407   \n",
       "175                      0.753206                     0.776513   \n",
       "2358                     0.718323                     0.769965   \n",
       "176                      0.746201                     0.760305   \n",
       "...                           ...                          ...   \n",
       "3055                          NaN                          NaN   \n",
       "3056                          NaN                          NaN   \n",
       "3057                     0.566007                          NaN   \n",
       "3058                     0.583940                          NaN   \n",
       "3059                     0.558289                          NaN   \n",
       "\n",
       "      gm$_past_quarter_after_tax  gm$_past_2quarters_after_tax  \\\n",
       "132                 31186.034893                  45716.153428   \n",
       "173                 61683.670693                  69703.661417   \n",
       "175                 72371.534473                  67143.530716   \n",
       "2358               434670.352323                 461041.203735   \n",
       "176                 73616.545812                  67650.108253   \n",
       "...                          ...                           ...   \n",
       "3055                16598.526271                           NaN   \n",
       "3056                16931.354154                           NaN   \n",
       "3057                17024.298590                  14628.196498   \n",
       "3058                15395.392510                  15996.959391   \n",
       "3059                19165.709313                  18048.531733   \n",
       "\n",
       "      gm$_past_3quarters_after_tax company         location  \\\n",
       "132                   39132.478576     BMC        402-00930   \n",
       "173                   71867.289572     BBF         MR281525   \n",
       "175                   71596.918890     BBF         MR281525   \n",
       "2358                 467245.040959     SFV  C10-0000041-LIC   \n",
       "176                   71007.956215     BBF         MR281525   \n",
       "...                            ...     ...              ...   \n",
       "3055                           NaN     VOY  C10-0000802-LIC   \n",
       "3056                           NaN     VOY  C10-0000802-LIC   \n",
       "3057                           NaN     VOY  C10-0000802-LIC   \n",
       "3058                           NaN     VOY  C10-0000802-LIC   \n",
       "3059                           NaN     VOY  C10-0000802-LIC   \n",
       "\n",
       "                              id company_identifier state  \n",
       "132         ('BMC', '402-00930')                BMC    CO  \n",
       "173          ('BBF', 'MR281525')                BBF    MA  \n",
       "175          ('BBF', 'MR281525')                BBF    MA  \n",
       "2358  ('SFV', 'C10-0000041-LIC')                SFV    CA  \n",
       "176          ('BBF', 'MR281525')                BBF    MA  \n",
       "...                          ...                ...   ...  \n",
       "3055  ('VOY', 'C10-0000802-LIC')                VOY    CA  \n",
       "3056  ('VOY', 'C10-0000802-LIC')                VOY    CA  \n",
       "3057  ('VOY', 'C10-0000802-LIC')                VOY    CA  \n",
       "3058  ('VOY', 'C10-0000802-LIC')                VOY    CA  \n",
       "3059  ('VOY', 'C10-0000802-LIC')                VOY    CA  \n",
       "\n",
       "[1727 rows x 27 columns]"
      ]
     },
     "execution_count": 70,
     "metadata": {},
     "output_type": "execute_result"
    }
   ],
   "source": [
    "gm_high_coverage_3m_trim.sort_values(by ='gm_past_3quarters_after_tax',ascending = False )"
   ]
  },
  {
   "cell_type": "markdown",
   "id": "6b3c270f",
   "metadata": {},
   "source": [
    "## CA"
   ]
  },
  {
   "cell_type": "code",
   "execution_count": 8,
   "id": "284cbde7",
   "metadata": {},
   "outputs": [],
   "source": [
    "### 3m"
   ]
  },
  {
   "cell_type": "code",
   "execution_count": 9,
   "id": "672e8fed",
   "metadata": {},
   "outputs": [],
   "source": [
    "gm_high_coverage_3m_trim_ca = gm_high_coverage_3m_trim[gm_high_coverage_3m_trim['state'] == 'CA']"
   ]
  },
  {
   "cell_type": "code",
   "execution_count": 10,
   "id": "7a182dec",
   "metadata": {},
   "outputs": [],
   "source": [
    "margin_distr_3m_ca = gm_high_coverage_3m_trim_ca.groupby(['date'])['gm_past_quarter_after_tax'].describe().reset_index()\n",
    "margin_distr_3m_ca['date'] = pd.to_datetime(margin_distr_3m_ca['date'])\n",
    "\n"
   ]
  },
  {
   "cell_type": "code",
   "execution_count": 11,
   "id": "51d5a621",
   "metadata": {},
   "outputs": [],
   "source": [
    "#margin_distr_3m_ca[['25%','50%','75%']].mean().round(2)"
   ]
  },
  {
   "cell_type": "code",
   "execution_count": 12,
   "id": "ea480769",
   "metadata": {},
   "outputs": [
    {
     "data": {
      "text/plain": [
       "25%    0.46\n",
       "50%    0.52\n",
       "75%    0.60\n",
       "dtype: float64"
      ]
     },
     "execution_count": 12,
     "metadata": {},
     "output_type": "execute_result"
    }
   ],
   "source": [
    "margin_distr_3m_ca[margin_distr_3m_ca['date'] >= '2021-01-01'][['25%','50%','75%']].mean().round(2)"
   ]
  },
  {
   "cell_type": "code",
   "execution_count": 13,
   "id": "883ced8d",
   "metadata": {},
   "outputs": [],
   "source": [
    "### 6m"
   ]
  },
  {
   "cell_type": "code",
   "execution_count": 14,
   "id": "130b7244",
   "metadata": {},
   "outputs": [],
   "source": [
    "gm_high_coverage_6m_trim_ca = gm_high_coverage_6m_trim[gm_high_coverage_6m_trim['state'] == 'CA']\n",
    "margin_distr_6m_ca = gm_high_coverage_6m_trim_ca.groupby(['date'])['gm_past_2quarters_after_tax'].describe().reset_index()\n",
    "margin_distr_6m_ca['date'] = pd.to_datetime(margin_distr_6m_ca['date'])\n",
    "\n",
    "#margin_distr_6m_ca[['25%','50%','75%']].mean().round(2)\n",
    "\n"
   ]
  },
  {
   "cell_type": "code",
   "execution_count": 15,
   "id": "e8cc6dc1",
   "metadata": {},
   "outputs": [
    {
     "data": {
      "text/plain": [
       "25%    0.46\n",
       "50%    0.51\n",
       "75%    0.60\n",
       "dtype: float64"
      ]
     },
     "execution_count": 15,
     "metadata": {},
     "output_type": "execute_result"
    }
   ],
   "source": [
    "margin_distr_6m_ca[margin_distr_6m_ca['date'] >= '2021-01-01'][['25%','50%','75%']].mean().round(2)"
   ]
  },
  {
   "cell_type": "code",
   "execution_count": 16,
   "id": "15bd2d46",
   "metadata": {},
   "outputs": [],
   "source": [
    "### 9m"
   ]
  },
  {
   "cell_type": "code",
   "execution_count": 17,
   "id": "a672e4a2",
   "metadata": {},
   "outputs": [],
   "source": [
    "gm_high_coverage_9m_trim_ca = gm_high_coverage_9m_trim[gm_high_coverage_9m_trim['state'] == 'CA']\n",
    "margin_distr_9m_ca = gm_high_coverage_9m_trim_ca.groupby(['date'])['gm_past_3quarters_after_tax'].describe().reset_index()\n",
    "margin_distr_9m_ca['date'] = pd.to_datetime(margin_distr_9m_ca['date'])\n",
    "\n",
    "#margin_distr_9m_ca[['25%','50%','75%']].mean().round(2)\n",
    "\n"
   ]
  },
  {
   "cell_type": "code",
   "execution_count": 18,
   "id": "2db75fb4",
   "metadata": {},
   "outputs": [
    {
     "data": {
      "text/plain": [
       "25%    0.46\n",
       "50%    0.51\n",
       "75%    0.60\n",
       "dtype: float64"
      ]
     },
     "execution_count": 18,
     "metadata": {},
     "output_type": "execute_result"
    }
   ],
   "source": [
    "margin_distr_9m_ca[margin_distr_9m_ca['date'] >= '2021-01-01'][['25%','50%','75%']].mean().round(2)"
   ]
  },
  {
   "cell_type": "markdown",
   "id": "4e52355f",
   "metadata": {},
   "source": [
    "## CO"
   ]
  },
  {
   "cell_type": "code",
   "execution_count": null,
   "id": "3cdab5c8",
   "metadata": {},
   "outputs": [],
   "source": [
    "### 3m"
   ]
  },
  {
   "cell_type": "code",
   "execution_count": 19,
   "id": "91e5561c",
   "metadata": {},
   "outputs": [],
   "source": [
    "gm_high_coverage_3m_trim_co = gm_high_coverage_3m_trim[gm_high_coverage_3m_trim['state'] == 'CO']"
   ]
  },
  {
   "cell_type": "code",
   "execution_count": 20,
   "id": "ed447a51",
   "metadata": {},
   "outputs": [],
   "source": [
    "margin_distr_3m_co = gm_high_coverage_3m_trim_co.groupby(['date'])['gm_past_quarter'].describe().reset_index()\n",
    "margin_distr_3m_co['date'] = pd.to_datetime(margin_distr_3m_co['date'])\n",
    "\n"
   ]
  },
  {
   "cell_type": "code",
   "execution_count": 21,
   "id": "c09af908",
   "metadata": {},
   "outputs": [
    {
     "data": {
      "text/plain": [
       "25%    0.48\n",
       "50%    0.57\n",
       "75%    0.62\n",
       "dtype: float64"
      ]
     },
     "execution_count": 21,
     "metadata": {},
     "output_type": "execute_result"
    }
   ],
   "source": [
    "margin_distr_3m_co[['25%','50%','75%']].mean().round(2)"
   ]
  },
  {
   "cell_type": "code",
   "execution_count": 22,
   "id": "b5775dcf",
   "metadata": {},
   "outputs": [
    {
     "data": {
      "text/plain": [
       "25%    0.47\n",
       "50%    0.56\n",
       "75%    0.63\n",
       "dtype: float64"
      ]
     },
     "execution_count": 22,
     "metadata": {},
     "output_type": "execute_result"
    }
   ],
   "source": [
    "margin_distr_3m_co[margin_distr_3m_co['date'] >= '2021-01-01'][['25%','50%','75%']].mean().round(2)"
   ]
  },
  {
   "cell_type": "code",
   "execution_count": 23,
   "id": "74f191d9",
   "metadata": {},
   "outputs": [],
   "source": [
    "### 6m"
   ]
  },
  {
   "cell_type": "code",
   "execution_count": 24,
   "id": "d9c4cb19",
   "metadata": {},
   "outputs": [
    {
     "data": {
      "text/plain": [
       "25%    0.47\n",
       "50%    0.57\n",
       "75%    0.62\n",
       "dtype: float64"
      ]
     },
     "execution_count": 24,
     "metadata": {},
     "output_type": "execute_result"
    }
   ],
   "source": [
    "gm_high_coverage_6m_trim_co = gm_high_coverage_6m_trim[gm_high_coverage_6m_trim['state'] == 'CO']\n",
    "margin_distr_6m_co = gm_high_coverage_6m_trim_co.groupby(['date'])['gm_past_2quarters'].describe().reset_index()\n",
    "margin_distr_6m_co['date'] = pd.to_datetime(margin_distr_6m_co['date'])\n",
    "\n",
    "margin_distr_6m_co[['25%','50%','75%']].mean().round(2)\n",
    "\n"
   ]
  },
  {
   "cell_type": "code",
   "execution_count": 25,
   "id": "c885056e",
   "metadata": {},
   "outputs": [
    {
     "data": {
      "text/plain": [
       "25%    0.47\n",
       "50%    0.57\n",
       "75%    0.63\n",
       "dtype: float64"
      ]
     },
     "execution_count": 25,
     "metadata": {},
     "output_type": "execute_result"
    }
   ],
   "source": [
    "margin_distr_6m_co[margin_distr_6m_co['date'] >= '2021-01-01'][['25%','50%','75%']].mean().round(2)"
   ]
  },
  {
   "cell_type": "code",
   "execution_count": 26,
   "id": "7130efec",
   "metadata": {},
   "outputs": [],
   "source": [
    "### 9m"
   ]
  },
  {
   "cell_type": "code",
   "execution_count": 27,
   "id": "e841d80c",
   "metadata": {},
   "outputs": [
    {
     "data": {
      "text/plain": [
       "25%    0.47\n",
       "50%    0.57\n",
       "75%    0.62\n",
       "dtype: float64"
      ]
     },
     "execution_count": 27,
     "metadata": {},
     "output_type": "execute_result"
    }
   ],
   "source": [
    "gm_high_coverage_9m_trim_co = gm_high_coverage_9m_trim[gm_high_coverage_9m_trim['state'] == 'CO']\n",
    "margin_distr_9m_co = gm_high_coverage_9m_trim_co.groupby(['date'])['gm_past_3quarters'].describe().reset_index()\n",
    "margin_distr_9m_co['date'] = pd.to_datetime(margin_distr_9m_co['date'])\n",
    "\n",
    "margin_distr_9m_co[['25%','50%','75%']].mean().round(2)\n",
    "\n"
   ]
  },
  {
   "cell_type": "code",
   "execution_count": 28,
   "id": "67f78777",
   "metadata": {},
   "outputs": [
    {
     "data": {
      "text/plain": [
       "25%    0.48\n",
       "50%    0.57\n",
       "75%    0.63\n",
       "dtype: float64"
      ]
     },
     "execution_count": 28,
     "metadata": {},
     "output_type": "execute_result"
    }
   ],
   "source": [
    "margin_distr_9m_co[margin_distr_9m_co['date'] >= '2021-01-01'][['25%','50%','75%']].mean().round(2)"
   ]
  },
  {
   "cell_type": "markdown",
   "id": "1278808d",
   "metadata": {},
   "source": [
    "## MI"
   ]
  },
  {
   "cell_type": "code",
   "execution_count": null,
   "id": "8647f8cd",
   "metadata": {},
   "outputs": [],
   "source": [
    "### 3m"
   ]
  },
  {
   "cell_type": "code",
   "execution_count": 29,
   "id": "2b9f21ce",
   "metadata": {},
   "outputs": [
    {
     "data": {
      "text/plain": [
       "25%    0.45\n",
       "50%    0.50\n",
       "75%    0.56\n",
       "dtype: float64"
      ]
     },
     "execution_count": 29,
     "metadata": {},
     "output_type": "execute_result"
    }
   ],
   "source": [
    "gm_high_coverage_3m_trim_mi = gm_high_coverage_3m_trim[gm_high_coverage_3m_trim['state'] == 'MI']\n",
    "margin_distr_3m_mi = gm_high_coverage_3m_trim_mi.groupby(['date'])['gm_past_quarter'].describe().reset_index()\n",
    "margin_distr_3m_mi['date'] = pd.to_datetime(margin_distr_3m_mi['date'])\n",
    "\n",
    "margin_distr_3m_mi[['25%','50%','75%']].mean().round(2)\n",
    "\n"
   ]
  },
  {
   "cell_type": "code",
   "execution_count": 30,
   "id": "36993f35",
   "metadata": {},
   "outputs": [
    {
     "data": {
      "text/plain": [
       "25%    0.42\n",
       "50%    0.48\n",
       "75%    0.54\n",
       "dtype: float64"
      ]
     },
     "execution_count": 30,
     "metadata": {},
     "output_type": "execute_result"
    }
   ],
   "source": [
    "margin_distr_3m_mi[margin_distr_3m_mi['date'] >= '2021-01-01'][['25%','50%','75%']].mean().round(2)"
   ]
  },
  {
   "cell_type": "code",
   "execution_count": 31,
   "id": "475aeacf",
   "metadata": {},
   "outputs": [],
   "source": [
    "### 6m"
   ]
  },
  {
   "cell_type": "code",
   "execution_count": 32,
   "id": "e70d1807",
   "metadata": {},
   "outputs": [
    {
     "data": {
      "text/plain": [
       "25%    0.52\n",
       "50%    0.56\n",
       "75%    0.59\n",
       "dtype: float64"
      ]
     },
     "execution_count": 32,
     "metadata": {},
     "output_type": "execute_result"
    }
   ],
   "source": [
    "gm_high_coverage_6m_trim_mi = gm_high_coverage_6m_trim[gm_high_coverage_6m_trim['state'] == 'MI']\n",
    "margin_distr_6m_mi = gm_high_coverage_6m_trim_mi.groupby(['date'])['gm_past_2quarters'].describe().reset_index()\n",
    "margin_distr_6m_mi['date'] = pd.to_datetime(margin_distr_6m_mi['date'])\n",
    "\n",
    "margin_distr_6m_mi[['25%','50%','75%']].mean().round(2)\n",
    "\n"
   ]
  },
  {
   "cell_type": "code",
   "execution_count": 33,
   "id": "407b1644",
   "metadata": {},
   "outputs": [
    {
     "data": {
      "text/plain": [
       "25%    0.48\n",
       "50%    0.52\n",
       "75%    0.57\n",
       "dtype: float64"
      ]
     },
     "execution_count": 33,
     "metadata": {},
     "output_type": "execute_result"
    }
   ],
   "source": [
    "margin_distr_6m_mi[margin_distr_6m_mi['date'] >= '2021-01-01'][['25%','50%','75%']].mean().round(2)"
   ]
  },
  {
   "cell_type": "code",
   "execution_count": 34,
   "id": "83a8d286",
   "metadata": {},
   "outputs": [],
   "source": [
    "### 9m"
   ]
  },
  {
   "cell_type": "code",
   "execution_count": 35,
   "id": "59c9b342",
   "metadata": {},
   "outputs": [
    {
     "data": {
      "text/plain": [
       "25%    0.54\n",
       "50%    0.57\n",
       "75%    0.59\n",
       "dtype: float64"
      ]
     },
     "execution_count": 35,
     "metadata": {},
     "output_type": "execute_result"
    }
   ],
   "source": [
    "gm_high_coverage_9m_trim_mi = gm_high_coverage_9m_trim[gm_high_coverage_9m_trim['state'] == 'MI']\n",
    "margin_distr_9m_mi = gm_high_coverage_9m_trim_mi.groupby(['date'])['gm_past_3quarters'].describe().reset_index()\n",
    "margin_distr_9m_mi['date'] = pd.to_datetime(margin_distr_9m_mi['date'])\n",
    "\n",
    "margin_distr_9m_mi[['25%','50%','75%']].mean().round(2)\n",
    "\n"
   ]
  },
  {
   "cell_type": "code",
   "execution_count": 36,
   "id": "03318e84",
   "metadata": {},
   "outputs": [
    {
     "data": {
      "text/plain": [
       "25%    0.51\n",
       "50%    0.55\n",
       "75%    0.57\n",
       "dtype: float64"
      ]
     },
     "execution_count": 36,
     "metadata": {},
     "output_type": "execute_result"
    }
   ],
   "source": [
    "margin_distr_9m_mi[margin_distr_9m_mi['date'] >= '2021-01-01'][['25%','50%','75%']].mean().round(2)"
   ]
  },
  {
   "cell_type": "markdown",
   "id": "60cad8b1",
   "metadata": {},
   "source": [
    "## MA"
   ]
  },
  {
   "cell_type": "code",
   "execution_count": null,
   "id": "686adb49",
   "metadata": {},
   "outputs": [],
   "source": [
    "### 3m"
   ]
  },
  {
   "cell_type": "code",
   "execution_count": 37,
   "id": "0286e90a",
   "metadata": {},
   "outputs": [
    {
     "data": {
      "text/plain": [
       "25%    0.53\n",
       "50%    0.54\n",
       "75%    0.55\n",
       "dtype: float64"
      ]
     },
     "execution_count": 37,
     "metadata": {},
     "output_type": "execute_result"
    }
   ],
   "source": [
    "gm_high_coverage_3m_trim_ma = gm_high_coverage_3m_trim[gm_high_coverage_3m_trim['state'] == 'MA']\n",
    "margin_distr_3m_ma = gm_high_coverage_3m_trim_ma.groupby(['date'])['gm_past_quarter'].describe().reset_index()\n",
    "margin_distr_3m_ma['date'] = pd.to_datetime(margin_distr_3m_ma['date'])\n",
    "\n",
    "margin_distr_3m_ma[['25%','50%','75%']].mean().round(2)\n",
    "\n"
   ]
  },
  {
   "cell_type": "code",
   "execution_count": 38,
   "id": "60622421",
   "metadata": {},
   "outputs": [
    {
     "data": {
      "text/plain": [
       "25%    0.54\n",
       "50%    0.55\n",
       "75%    0.56\n",
       "dtype: float64"
      ]
     },
     "execution_count": 38,
     "metadata": {},
     "output_type": "execute_result"
    }
   ],
   "source": [
    "margin_distr_3m_ma[margin_distr_3m_ma['date'] >= '2021-01-01'][['25%','50%','75%']].mean().round(2)"
   ]
  },
  {
   "cell_type": "code",
   "execution_count": 39,
   "id": "85d0318f",
   "metadata": {},
   "outputs": [],
   "source": [
    "### 6m"
   ]
  },
  {
   "cell_type": "code",
   "execution_count": 40,
   "id": "cf9982fa",
   "metadata": {},
   "outputs": [
    {
     "data": {
      "text/plain": [
       "25%    0.54\n",
       "50%    0.54\n",
       "75%    0.56\n",
       "dtype: float64"
      ]
     },
     "execution_count": 40,
     "metadata": {},
     "output_type": "execute_result"
    }
   ],
   "source": [
    "gm_high_coverage_6m_trim_ma = gm_high_coverage_6m_trim[gm_high_coverage_6m_trim['state'] == 'MA']\n",
    "margin_distr_6m_ma = gm_high_coverage_6m_trim_ma.groupby(['date'])['gm_past_2quarters'].describe().reset_index()\n",
    "margin_distr_6m_ma['date'] = pd.to_datetime(margin_distr_6m_ma['date'])\n",
    "\n",
    "margin_distr_6m_ma[['25%','50%','75%']].mean().round(2)\n",
    "\n"
   ]
  },
  {
   "cell_type": "code",
   "execution_count": 41,
   "id": "822820f5",
   "metadata": {},
   "outputs": [
    {
     "data": {
      "text/plain": [
       "25%    0.54\n",
       "50%    0.55\n",
       "75%    0.56\n",
       "dtype: float64"
      ]
     },
     "execution_count": 41,
     "metadata": {},
     "output_type": "execute_result"
    }
   ],
   "source": [
    "margin_distr_6m_ma[margin_distr_6m_ma['date'] >= '2021-01-01'][['25%','50%','75%']].mean().round(2)"
   ]
  },
  {
   "cell_type": "code",
   "execution_count": 42,
   "id": "419d4dbd",
   "metadata": {},
   "outputs": [],
   "source": [
    "### 9m"
   ]
  },
  {
   "cell_type": "code",
   "execution_count": 43,
   "id": "d0b4d30d",
   "metadata": {},
   "outputs": [
    {
     "data": {
      "text/plain": [
       "25%    0.54\n",
       "50%    0.54\n",
       "75%    0.56\n",
       "dtype: float64"
      ]
     },
     "execution_count": 43,
     "metadata": {},
     "output_type": "execute_result"
    }
   ],
   "source": [
    "gm_high_coverage_9m_trim_ma = gm_high_coverage_9m_trim[gm_high_coverage_9m_trim['state'] == 'MA']\n",
    "margin_distr_9m_ma = gm_high_coverage_9m_trim_ma.groupby(['date'])['gm_past_3quarters'].describe().reset_index()\n",
    "margin_distr_9m_ma['date'] = pd.to_datetime(margin_distr_9m_ma['date'])\n",
    "\n",
    "margin_distr_9m_ma[['25%','50%','75%']].mean().round(2)\n",
    "\n"
   ]
  },
  {
   "cell_type": "code",
   "execution_count": 44,
   "id": "3892b4af",
   "metadata": {},
   "outputs": [
    {
     "data": {
      "text/plain": [
       "25%    0.54\n",
       "50%    0.54\n",
       "75%    0.56\n",
       "dtype: float64"
      ]
     },
     "execution_count": 44,
     "metadata": {},
     "output_type": "execute_result"
    }
   ],
   "source": [
    "margin_distr_9m_ma[margin_distr_9m_ma['date'] >= '2021-01-01'][['25%','50%','75%']].mean().round(2)"
   ]
  },
  {
   "cell_type": "code",
   "execution_count": 45,
   "id": "d989979a",
   "metadata": {},
   "outputs": [],
   "source": [
    "df_clients = [\n",
    "'DL',\n",
    "'DW',\n",
    "'EMA',\n",
    "'EMM',\n",
    "'EMT',\n",
    "'EMF',\n",
    "'ST',\n",
    "'GRG',\n",
    "'EL',\n",
    "'VS',\n",
    "'TT',\n",
    "'MD',\n",
    "'DWF',\n",
    "'GHC',\n",
    "'SV',\n",
    "'99HT',\n",
    "'NECC',\n",
    "'MPW',\n",
    "'LBC'\n",
    "]\n",
    "\n",
    "data_client = gm[gm['company_identifier'].isin(df_clients)]"
   ]
  },
  {
   "cell_type": "code",
   "execution_count": 47,
   "id": "859584e1",
   "metadata": {},
   "outputs": [],
   "source": [
    "gm_high_coverage = data_client[data_client['coverage'] >= 0.7]\n",
    "\n",
    "gm_high_coverage_3m_trim = gm_high_coverage[(gm_high_coverage['gm_past_quarter'] > 0.2) & (gm_high_coverage['gm_past_quarter'] < 0.8) & (gm_high_coverage['date'] < '2022-07-01')]\n",
    "\n",
    "gm_high_coverage_6m_trim = gm_high_coverage[(gm_high_coverage['gm_past_2quarters'] > 0.2) & (gm_high_coverage['gm_past_2quarters'] < 0.8) & (gm_high_coverage['date'] < '2022-07-01')]\n",
    "\n",
    "gm_high_coverage_9m_trim = gm_high_coverage[(gm_high_coverage['gm_past_3quarters'] > 0.2) & (gm_high_coverage['gm_past_3quarters'] < 0.8) & (gm_high_coverage['date'] < '2022-07-01')]\n",
    "\n"
   ]
  },
  {
   "cell_type": "code",
   "execution_count": 48,
   "id": "fb1cf4b7",
   "metadata": {},
   "outputs": [
    {
     "data": {
      "text/plain": [
       "25%    0.49\n",
       "50%    0.56\n",
       "75%    0.60\n",
       "dtype: float64"
      ]
     },
     "execution_count": 48,
     "metadata": {},
     "output_type": "execute_result"
    }
   ],
   "source": [
    "## CA\n",
    "\n",
    "### 3m\n",
    "\n",
    "gm_high_coverage_3m_trim_ca = gm_high_coverage_3m_trim[gm_high_coverage_3m_trim['state'] == 'CA']\n",
    "\n",
    "margin_distr_3m_ca = gm_high_coverage_3m_trim_ca.groupby(['date'])['gm_past_quarter_after_tax'].describe().reset_index()\n",
    "margin_distr_3m_ca['date'] = pd.to_datetime(margin_distr_3m_ca['date'])\n",
    "\n",
    "\n",
    "\n",
    "#margin_distr_3m_ca[['25%','50%','75%']].mean().round(2)\n",
    "\n",
    "margin_distr_3m_ca[margin_distr_3m_ca['date'] >= '2021-01-01'][['25%','50%','75%']].mean().round(2)"
   ]
  },
  {
   "cell_type": "code",
   "execution_count": 49,
   "id": "519f7829",
   "metadata": {},
   "outputs": [
    {
     "data": {
      "text/plain": [
       "25%    0.49\n",
       "50%    0.56\n",
       "75%    0.60\n",
       "dtype: float64"
      ]
     },
     "execution_count": 49,
     "metadata": {},
     "output_type": "execute_result"
    }
   ],
   "source": [
    "### 6m\n",
    "\n",
    "gm_high_coverage_6m_trim_ca = gm_high_coverage_6m_trim[gm_high_coverage_6m_trim['state'] == 'CA']\n",
    "margin_distr_6m_ca = gm_high_coverage_6m_trim_ca.groupby(['date'])['gm_past_2quarters_after_tax'].describe().reset_index()\n",
    "margin_distr_6m_ca['date'] = pd.to_datetime(margin_distr_6m_ca['date'])\n",
    "\n",
    "#margin_distr_6m_ca[['25%','50%','75%']].mean().round(2)\n",
    "\n",
    "\n",
    "\n",
    "margin_distr_6m_ca[margin_distr_6m_ca['date'] >= '2021-01-01'][['25%','50%','75%']].mean().round(2)"
   ]
  },
  {
   "cell_type": "code",
   "execution_count": 50,
   "id": "488122e3",
   "metadata": {},
   "outputs": [
    {
     "data": {
      "text/plain": [
       "25%    0.50\n",
       "50%    0.56\n",
       "75%    0.60\n",
       "dtype: float64"
      ]
     },
     "execution_count": 50,
     "metadata": {},
     "output_type": "execute_result"
    }
   ],
   "source": [
    "### 9m\n",
    "\n",
    "gm_high_coverage_9m_trim_ca = gm_high_coverage_9m_trim[gm_high_coverage_9m_trim['state'] == 'CA']\n",
    "margin_distr_9m_ca = gm_high_coverage_9m_trim_ca.groupby(['date'])['gm_past_3quarters_after_tax'].describe().reset_index()\n",
    "margin_distr_9m_ca['date'] = pd.to_datetime(margin_distr_9m_ca['date'])\n",
    "\n",
    "#margin_distr_9m_ca[['25%','50%','75%']].mean().round(2)\n",
    "\n",
    "\n",
    "\n",
    "margin_distr_9m_ca[margin_distr_9m_ca['date'] >= '2021-01-01'][['25%','50%','75%']].mean().round(2)"
   ]
  },
  {
   "cell_type": "code",
   "execution_count": 51,
   "id": "cbf5dc26",
   "metadata": {},
   "outputs": [
    {
     "data": {
      "text/plain": [
       "25%    0.44\n",
       "50%    0.46\n",
       "75%    0.51\n",
       "dtype: float64"
      ]
     },
     "execution_count": 51,
     "metadata": {},
     "output_type": "execute_result"
    }
   ],
   "source": [
    "## CO\n",
    "\n",
    "### 3m\n",
    "\n",
    "gm_high_coverage_3m_trim_co = gm_high_coverage_3m_trim[gm_high_coverage_3m_trim['state'] == 'CO']\n",
    "\n",
    "margin_distr_3m_co = gm_high_coverage_3m_trim_co.groupby(['date'])['gm_past_quarter'].describe().reset_index()\n",
    "margin_distr_3m_co['date'] = pd.to_datetime(margin_distr_3m_co['date'])\n",
    "margin_distr_3m_co[['25%','50%','75%']].mean().round(2)\n",
    "\n",
    "margin_distr_3m_co[margin_distr_3m_co['date'] >= '2021-01-01'][['25%','50%','75%']].mean().round(2)"
   ]
  },
  {
   "cell_type": "code",
   "execution_count": 52,
   "id": "9b0bbe36",
   "metadata": {},
   "outputs": [
    {
     "data": {
      "text/plain": [
       "25%    0.42\n",
       "50%    0.45\n",
       "75%    0.51\n",
       "dtype: float64"
      ]
     },
     "execution_count": 52,
     "metadata": {},
     "output_type": "execute_result"
    }
   ],
   "source": [
    "\n",
    "\n",
    "### 6m\n",
    "\n",
    "gm_high_coverage_6m_trim_co = gm_high_coverage_6m_trim[gm_high_coverage_6m_trim['state'] == 'CO']\n",
    "margin_distr_6m_co = gm_high_coverage_6m_trim_co.groupby(['date'])['gm_past_2quarters'].describe().reset_index()\n",
    "margin_distr_6m_co['date'] = pd.to_datetime(margin_distr_6m_co['date'])\n",
    "\n",
    "margin_distr_6m_co[['25%','50%','75%']].mean().round(2)\n",
    "\n",
    "\n",
    "\n",
    "margin_distr_6m_co[margin_distr_6m_co['date'] >= '2021-01-01'][['25%','50%','75%']].mean().round(2)"
   ]
  },
  {
   "cell_type": "code",
   "execution_count": 53,
   "id": "3e13690f",
   "metadata": {},
   "outputs": [
    {
     "data": {
      "text/plain": [
       "25%    0.42\n",
       "50%    0.44\n",
       "75%    0.50\n",
       "dtype: float64"
      ]
     },
     "execution_count": 53,
     "metadata": {},
     "output_type": "execute_result"
    }
   ],
   "source": [
    "### 9m\n",
    "\n",
    "gm_high_coverage_9m_trim_co = gm_high_coverage_9m_trim[gm_high_coverage_9m_trim['state'] == 'CO']\n",
    "margin_distr_9m_co = gm_high_coverage_9m_trim_co.groupby(['date'])['gm_past_3quarters'].describe().reset_index()\n",
    "margin_distr_9m_co['date'] = pd.to_datetime(margin_distr_9m_co['date'])\n",
    "\n",
    "margin_distr_9m_co[['25%','50%','75%']].mean().round(2)\n",
    "\n",
    "\n",
    "\n",
    "margin_distr_9m_co[margin_distr_9m_co['date'] >= '2021-01-01'][['25%','50%','75%']].mean().round(2)"
   ]
  },
  {
   "cell_type": "code",
   "execution_count": 59,
   "id": "a0b4ccc4",
   "metadata": {},
   "outputs": [],
   "source": [
    "# ## MI\n",
    "\n",
    "# ### 3m\n",
    "\n",
    "# gm_high_coverage_3m_trim_mi = gm_high_coverage_3m_trim[gm_high_coverage_3m_trim['state'] == 'MI']\n",
    "# margin_distr_3m_mi = gm_high_coverage_3m_trim_mi.groupby(['date'])['gm_past_quarter'].describe().reset_index()\n",
    "# margin_distr_3m_mi['date'] = pd.to_datetime(margin_distr_3m_mi['date'])\n",
    "\n",
    "# margin_distr_3m_mi[['25%','50%','75%']].mean().round(2)\n",
    "\n",
    "\n",
    "\n",
    "# margin_distr_3m_mi[margin_distr_3m_mi['date'] >= '2021-01-01'][['25%','50%','75%']].mean().round(2)"
   ]
  },
  {
   "cell_type": "code",
   "execution_count": 60,
   "id": "0da9e435",
   "metadata": {},
   "outputs": [],
   "source": [
    "# ### 6m\n",
    "\n",
    "# gm_high_coverage_6m_trim_mi = gm_high_coverage_6m_trim[gm_high_coverage_6m_trim['state'] == 'MI']\n",
    "# margin_distr_6m_mi = gm_high_coverage_6m_trim_mi.groupby(['date'])['gm_past_2quarters'].describe().reset_index()\n",
    "# margin_distr_6m_mi['date'] = pd.to_datetime(margin_distr_6m_mi['date'])\n",
    "\n",
    "# margin_distr_6m_mi[['25%','50%','75%']].mean().round(2)\n",
    "\n",
    "\n",
    "\n",
    "# margin_distr_6m_mi[margin_distr_6m_mi['date'] >= '2021-01-01'][['25%','50%','75%']].mean().round(2)"
   ]
  },
  {
   "cell_type": "code",
   "execution_count": null,
   "id": "36497b6c",
   "metadata": {},
   "outputs": [],
   "source": [
    "# ### 9m\n",
    "\n",
    "# gm_high_coverage_9m_trim_mi = gm_high_coverage_9m_trim[gm_high_coverage_9m_trim['state'] == 'MI']\n",
    "# margin_distr_9m_mi = gm_high_coverage_9m_trim_mi.groupby(['date'])['gm_past_3quarters'].describe().reset_index()\n",
    "# margin_distr_9m_mi['date'] = pd.to_datetime(margin_distr_9m_mi['date'])\n",
    "\n",
    "# margin_distr_9m_mi[['25%','50%','75%']].mean().round(2)\n",
    "\n",
    "\n",
    "\n",
    "# margin_distr_9m_mi[margin_distr_9m_mi['date'] >= '2021-01-01'][['25%','50%','75%']].mean().round(2)"
   ]
  },
  {
   "cell_type": "code",
   "execution_count": 56,
   "id": "debf61b9",
   "metadata": {},
   "outputs": [
    {
     "data": {
      "text/plain": [
       "25%    0.54\n",
       "50%    0.55\n",
       "75%    0.55\n",
       "dtype: float64"
      ]
     },
     "execution_count": 56,
     "metadata": {},
     "output_type": "execute_result"
    }
   ],
   "source": [
    "## MA\n",
    "\n",
    "### 3m\n",
    "\n",
    "gm_high_coverage_3m_trim_ma = gm_high_coverage_3m_trim[gm_high_coverage_3m_trim['state'] == 'MA']\n",
    "margin_distr_3m_ma = gm_high_coverage_3m_trim_ma.groupby(['date'])['gm_past_quarter'].describe().reset_index()\n",
    "margin_distr_3m_ma['date'] = pd.to_datetime(margin_distr_3m_ma['date'])\n",
    "\n",
    "margin_distr_3m_ma[['25%','50%','75%']].mean().round(2)\n",
    "\n",
    "\n",
    "\n",
    "margin_distr_3m_ma[margin_distr_3m_ma['date'] >= '2021-01-01'][['25%','50%','75%']].mean().round(2)"
   ]
  },
  {
   "cell_type": "code",
   "execution_count": 57,
   "id": "81276148",
   "metadata": {},
   "outputs": [
    {
     "data": {
      "text/plain": [
       "25%    0.54\n",
       "50%    0.54\n",
       "75%    0.55\n",
       "dtype: float64"
      ]
     },
     "execution_count": 57,
     "metadata": {},
     "output_type": "execute_result"
    }
   ],
   "source": [
    "### 6m\n",
    "\n",
    "gm_high_coverage_6m_trim_ma = gm_high_coverage_6m_trim[gm_high_coverage_6m_trim['state'] == 'MA']\n",
    "margin_distr_6m_ma = gm_high_coverage_6m_trim_ma.groupby(['date'])['gm_past_2quarters'].describe().reset_index()\n",
    "margin_distr_6m_ma['date'] = pd.to_datetime(margin_distr_6m_ma['date'])\n",
    "\n",
    "margin_distr_6m_ma[['25%','50%','75%']].mean().round(2)\n",
    "\n",
    "\n",
    "\n",
    "margin_distr_6m_ma[margin_distr_6m_ma['date'] >= '2021-01-01'][['25%','50%','75%']].mean().round(2)"
   ]
  },
  {
   "cell_type": "code",
   "execution_count": 58,
   "id": "7e93240a",
   "metadata": {},
   "outputs": [
    {
     "data": {
      "text/plain": [
       "25%    0.54\n",
       "50%    0.54\n",
       "75%    0.54\n",
       "dtype: float64"
      ]
     },
     "execution_count": 58,
     "metadata": {},
     "output_type": "execute_result"
    }
   ],
   "source": [
    "### 9m\n",
    "\n",
    "gm_high_coverage_9m_trim_ma = gm_high_coverage_9m_trim[gm_high_coverage_9m_trim['state'] == 'MA']\n",
    "margin_distr_9m_ma = gm_high_coverage_9m_trim_ma.groupby(['date'])['gm_past_3quarters'].describe().reset_index()\n",
    "margin_distr_9m_ma['date'] = pd.to_datetime(margin_distr_9m_ma['date'])\n",
    "\n",
    "margin_distr_9m_ma[['25%','50%','75%']].mean().round(2)\n",
    "\n",
    "\n",
    "\n",
    "margin_distr_9m_ma[margin_distr_9m_ma['date'] >= '2021-01-01'][['25%','50%','75%']].mean().round(2)"
   ]
  },
  {
   "cell_type": "code",
   "execution_count": null,
   "id": "2dedecc7",
   "metadata": {},
   "outputs": [],
   "source": []
  }
 ],
 "metadata": {
  "kernelspec": {
   "display_name": "Python 3",
   "language": "python",
   "name": "python3"
  },
  "language_info": {
   "codemirror_mode": {
    "name": "ipython",
    "version": 3
   },
   "file_extension": ".py",
   "mimetype": "text/x-python",
   "name": "python",
   "nbconvert_exporter": "python",
   "pygments_lexer": "ipython3",
   "version": "3.8.10"
  }
 },
 "nbformat": 4,
 "nbformat_minor": 5
}
