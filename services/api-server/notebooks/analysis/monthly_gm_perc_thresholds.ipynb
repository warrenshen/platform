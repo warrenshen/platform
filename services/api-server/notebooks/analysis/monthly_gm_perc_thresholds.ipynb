{
 "cells": [
  {
   "cell_type": "code",
   "execution_count": 1,
   "id": "33f794bb",
   "metadata": {},
   "outputs": [],
   "source": [
    "import warnings\n",
    "warnings.filterwarnings('ignore')"
   ]
  },
  {
   "cell_type": "code",
   "execution_count": 2,
   "id": "97b1ff9c",
   "metadata": {},
   "outputs": [],
   "source": [
    "import json\n",
    "import numpy \n",
    "import os\n",
    "import pandas as pd\n",
    "import matplotlib.pyplot as plt\n",
    "%matplotlib inline  \n",
    "import pyarrow\n",
    "import sys\n",
    "\n",
    "from datetime import date\n",
    "from dotenv import load_dotenv\n",
    "from sqlalchemy import create_engine\n",
    "from os import path\n",
    "from typing import List,Dict, Tuple\n",
    "from collections import defaultdict\n",
    "pd.set_option(\"display.max_columns\", None)\n",
    "\n",
    "load_dotenv(verbose=True)\n",
    "BIGQUERY_CREDENTIALS_PATH = os.environ.get('BIGQUERY_CREDENTIALS_PATH')\n",
    "engine = create_engine('bigquery://bespoke-financial/ProdMetrcData', credentials_path=os.path.expanduser(BIGQUERY_CREDENTIALS_PATH))\n",
    "\n",
    "sys.path.append(path.realpath(path.join(os.getcwd(), \"../core\")))\n",
    "sys.path.append(path.realpath(path.join(os.getcwd(), \"../../src\")))\n",
    "\n",
    "import create_queries\n",
    "import prepare_data\n",
    "\n",
    "from bespoke.inventory.analysis.shared import download_util, inventory_types\n",
    "from bespoke.inventory.analysis import active_inventory_util as util\n",
    "from bespoke.inventory.analysis import inventory_valuations_util as valuations_util\n",
    "\n",
    "%load_ext autoreload\n",
    "%autoreload 2"
   ]
  },
  {
   "cell_type": "code",
   "execution_count": 3,
   "id": "0d15c5fa",
   "metadata": {},
   "outputs": [],
   "source": [
    "gm = pd.read_csv('all_metrc_gm_0830.csv',index_col = 0)"
   ]
  },
  {
   "cell_type": "code",
   "execution_count": 4,
   "id": "e0787c30",
   "metadata": {},
   "outputs": [
    {
     "data": {
      "text/plain": [
       "array(['99HT', 'AGA', 'ALT', 'BS', 'BMC', 'BBF', 'BUD', 'BRC', 'BYN',\n",
       "       'CHO', 'CG', 'CPA', 'CPC', 'CSC', 'CSCC', 'CCC', 'CC', 'CED',\n",
       "       'DWF', 'DCO', 'DL', 'DGG', 'DG', 'EL', 'EMA', 'EMF', 'EMM', 'EMT',\n",
       "       'EPC', 'EH', 'FI', 'FW', 'GTC', 'GT', 'GLNR', 'GRG', 'GTR', 'GHC',\n",
       "       'GFEE', 'GFWF', 'HB', 'HS', 'HPCC', 'HC', 'IDC', 'ID', 'KAR', 'KC',\n",
       "       'LEG', 'LBC', 'MSS', 'ML', 'MW', 'MPW', 'MD', 'ND', 'NECC', 'PGM',\n",
       "       'PRP', 'PRL', 'QR', 'MC', 'RA', 'RGD', 'SGF', 'SFV', 'SV', 'SLCC',\n",
       "       'SO', 'ST', 'DW', 'FD', 'TGL', 'TJR', 'TTS', 'TT', 'T4L', 'TL',\n",
       "       'UHHC', 'VS', 'VOY'], dtype=object)"
      ]
     },
     "execution_count": 4,
     "metadata": {},
     "output_type": "execute_result"
    }
   ],
   "source": [
    "gm['company_identifier'].unique()"
   ]
  },
  {
   "cell_type": "code",
   "execution_count": 5,
   "id": "fee74a90",
   "metadata": {},
   "outputs": [],
   "source": [
    "gm_high_coverage = gm[gm['coverage'] >= 0.7]"
   ]
  },
  {
   "cell_type": "code",
   "execution_count": 7,
   "id": "83fb5264",
   "metadata": {},
   "outputs": [],
   "source": [
    "gm_high_coverage_3m_trim = gm_high_coverage[(gm_high_coverage['gm_past_quarter'] > 0.2) & (gm_high_coverage['gm_past_quarter'] < 0.8) & (gm_high_coverage['date'] < '2022-07-01')]\n",
    "\n",
    "gm_high_coverage_6m_trim = gm_high_coverage[(gm_high_coverage['gm_past_2quarters'] > 0.2) & (gm_high_coverage['gm_past_2quarters'] < 0.8) & (gm_high_coverage['date'] < '2022-07-01')]\n",
    "\n",
    "gm_high_coverage_9m_trim = gm_high_coverage[(gm_high_coverage['gm_past_3quarters'] > 0.2) & (gm_high_coverage['gm_past_3quarters'] < 0.8) & (gm_high_coverage['date'] < '2022-07-01')]\n",
    "\n"
   ]
  },
  {
   "cell_type": "code",
   "execution_count": 77,
   "id": "e5e49828",
   "metadata": {},
   "outputs": [
    {
     "data": {
      "text/html": [
       "<div>\n",
       "<style scoped>\n",
       "    .dataframe tbody tr th:only-of-type {\n",
       "        vertical-align: middle;\n",
       "    }\n",
       "\n",
       "    .dataframe tbody tr th {\n",
       "        vertical-align: top;\n",
       "    }\n",
       "\n",
       "    .dataframe thead th {\n",
       "        text-align: right;\n",
       "    }\n",
       "</style>\n",
       "<table border=\"1\" class=\"dataframe\">\n",
       "  <thead>\n",
       "    <tr style=\"text-align: right;\">\n",
       "      <th>state</th>\n",
       "      <th>level_0</th>\n",
       "      <th>date</th>\n",
       "      <th>CA</th>\n",
       "      <th>CO</th>\n",
       "      <th>MA</th>\n",
       "      <th>MI</th>\n",
       "      <th>OR</th>\n",
       "    </tr>\n",
       "  </thead>\n",
       "  <tbody>\n",
       "    <tr>\n",
       "      <th>0</th>\n",
       "      <td>id</td>\n",
       "      <td>2020-03</td>\n",
       "      <td>15.0</td>\n",
       "      <td>8.0</td>\n",
       "      <td>NaN</td>\n",
       "      <td>NaN</td>\n",
       "      <td>NaN</td>\n",
       "    </tr>\n",
       "    <tr>\n",
       "      <th>1</th>\n",
       "      <td>id</td>\n",
       "      <td>2020-04</td>\n",
       "      <td>16.0</td>\n",
       "      <td>10.0</td>\n",
       "      <td>NaN</td>\n",
       "      <td>1.0</td>\n",
       "      <td>1.0</td>\n",
       "    </tr>\n",
       "    <tr>\n",
       "      <th>2</th>\n",
       "      <td>id</td>\n",
       "      <td>2020-05</td>\n",
       "      <td>19.0</td>\n",
       "      <td>9.0</td>\n",
       "      <td>NaN</td>\n",
       "      <td>2.0</td>\n",
       "      <td>1.0</td>\n",
       "    </tr>\n",
       "    <tr>\n",
       "      <th>3</th>\n",
       "      <td>id</td>\n",
       "      <td>2020-06</td>\n",
       "      <td>20.0</td>\n",
       "      <td>8.0</td>\n",
       "      <td>NaN</td>\n",
       "      <td>2.0</td>\n",
       "      <td>NaN</td>\n",
       "    </tr>\n",
       "    <tr>\n",
       "      <th>4</th>\n",
       "      <td>id</td>\n",
       "      <td>2020-07</td>\n",
       "      <td>22.0</td>\n",
       "      <td>9.0</td>\n",
       "      <td>NaN</td>\n",
       "      <td>4.0</td>\n",
       "      <td>1.0</td>\n",
       "    </tr>\n",
       "    <tr>\n",
       "      <th>5</th>\n",
       "      <td>id</td>\n",
       "      <td>2020-08</td>\n",
       "      <td>24.0</td>\n",
       "      <td>9.0</td>\n",
       "      <td>1.0</td>\n",
       "      <td>3.0</td>\n",
       "      <td>1.0</td>\n",
       "    </tr>\n",
       "    <tr>\n",
       "      <th>6</th>\n",
       "      <td>id</td>\n",
       "      <td>2020-09</td>\n",
       "      <td>26.0</td>\n",
       "      <td>9.0</td>\n",
       "      <td>1.0</td>\n",
       "      <td>2.0</td>\n",
       "      <td>1.0</td>\n",
       "    </tr>\n",
       "    <tr>\n",
       "      <th>7</th>\n",
       "      <td>id</td>\n",
       "      <td>2020-10</td>\n",
       "      <td>26.0</td>\n",
       "      <td>9.0</td>\n",
       "      <td>1.0</td>\n",
       "      <td>2.0</td>\n",
       "      <td>1.0</td>\n",
       "    </tr>\n",
       "    <tr>\n",
       "      <th>8</th>\n",
       "      <td>id</td>\n",
       "      <td>2020-11</td>\n",
       "      <td>28.0</td>\n",
       "      <td>10.0</td>\n",
       "      <td>1.0</td>\n",
       "      <td>1.0</td>\n",
       "      <td>1.0</td>\n",
       "    </tr>\n",
       "    <tr>\n",
       "      <th>9</th>\n",
       "      <td>id</td>\n",
       "      <td>2020-12</td>\n",
       "      <td>27.0</td>\n",
       "      <td>10.0</td>\n",
       "      <td>1.0</td>\n",
       "      <td>2.0</td>\n",
       "      <td>NaN</td>\n",
       "    </tr>\n",
       "    <tr>\n",
       "      <th>10</th>\n",
       "      <td>id</td>\n",
       "      <td>2021-01</td>\n",
       "      <td>30.0</td>\n",
       "      <td>10.0</td>\n",
       "      <td>1.0</td>\n",
       "      <td>2.0</td>\n",
       "      <td>1.0</td>\n",
       "    </tr>\n",
       "    <tr>\n",
       "      <th>11</th>\n",
       "      <td>id</td>\n",
       "      <td>2021-02</td>\n",
       "      <td>37.0</td>\n",
       "      <td>11.0</td>\n",
       "      <td>1.0</td>\n",
       "      <td>2.0</td>\n",
       "      <td>1.0</td>\n",
       "    </tr>\n",
       "    <tr>\n",
       "      <th>12</th>\n",
       "      <td>id</td>\n",
       "      <td>2021-03</td>\n",
       "      <td>43.0</td>\n",
       "      <td>12.0</td>\n",
       "      <td>1.0</td>\n",
       "      <td>6.0</td>\n",
       "      <td>NaN</td>\n",
       "    </tr>\n",
       "    <tr>\n",
       "      <th>13</th>\n",
       "      <td>id</td>\n",
       "      <td>2021-04</td>\n",
       "      <td>44.0</td>\n",
       "      <td>14.0</td>\n",
       "      <td>1.0</td>\n",
       "      <td>6.0</td>\n",
       "      <td>NaN</td>\n",
       "    </tr>\n",
       "    <tr>\n",
       "      <th>14</th>\n",
       "      <td>id</td>\n",
       "      <td>2021-05</td>\n",
       "      <td>48.0</td>\n",
       "      <td>14.0</td>\n",
       "      <td>1.0</td>\n",
       "      <td>9.0</td>\n",
       "      <td>NaN</td>\n",
       "    </tr>\n",
       "    <tr>\n",
       "      <th>15</th>\n",
       "      <td>id</td>\n",
       "      <td>2021-06</td>\n",
       "      <td>49.0</td>\n",
       "      <td>15.0</td>\n",
       "      <td>1.0</td>\n",
       "      <td>11.0</td>\n",
       "      <td>1.0</td>\n",
       "    </tr>\n",
       "    <tr>\n",
       "      <th>16</th>\n",
       "      <td>id</td>\n",
       "      <td>2021-07</td>\n",
       "      <td>49.0</td>\n",
       "      <td>15.0</td>\n",
       "      <td>1.0</td>\n",
       "      <td>14.0</td>\n",
       "      <td>1.0</td>\n",
       "    </tr>\n",
       "    <tr>\n",
       "      <th>17</th>\n",
       "      <td>id</td>\n",
       "      <td>2021-08</td>\n",
       "      <td>50.0</td>\n",
       "      <td>14.0</td>\n",
       "      <td>1.0</td>\n",
       "      <td>13.0</td>\n",
       "      <td>1.0</td>\n",
       "    </tr>\n",
       "    <tr>\n",
       "      <th>18</th>\n",
       "      <td>id</td>\n",
       "      <td>2021-09</td>\n",
       "      <td>51.0</td>\n",
       "      <td>13.0</td>\n",
       "      <td>2.0</td>\n",
       "      <td>17.0</td>\n",
       "      <td>1.0</td>\n",
       "    </tr>\n",
       "    <tr>\n",
       "      <th>19</th>\n",
       "      <td>id</td>\n",
       "      <td>2021-10</td>\n",
       "      <td>54.0</td>\n",
       "      <td>12.0</td>\n",
       "      <td>2.0</td>\n",
       "      <td>18.0</td>\n",
       "      <td>1.0</td>\n",
       "    </tr>\n",
       "    <tr>\n",
       "      <th>20</th>\n",
       "      <td>id</td>\n",
       "      <td>2021-11</td>\n",
       "      <td>56.0</td>\n",
       "      <td>11.0</td>\n",
       "      <td>3.0</td>\n",
       "      <td>19.0</td>\n",
       "      <td>1.0</td>\n",
       "    </tr>\n",
       "    <tr>\n",
       "      <th>21</th>\n",
       "      <td>id</td>\n",
       "      <td>2021-12</td>\n",
       "      <td>57.0</td>\n",
       "      <td>10.0</td>\n",
       "      <td>3.0</td>\n",
       "      <td>19.0</td>\n",
       "      <td>1.0</td>\n",
       "    </tr>\n",
       "    <tr>\n",
       "      <th>22</th>\n",
       "      <td>id</td>\n",
       "      <td>2022-01</td>\n",
       "      <td>55.0</td>\n",
       "      <td>9.0</td>\n",
       "      <td>5.0</td>\n",
       "      <td>20.0</td>\n",
       "      <td>1.0</td>\n",
       "    </tr>\n",
       "    <tr>\n",
       "      <th>23</th>\n",
       "      <td>id</td>\n",
       "      <td>2022-02</td>\n",
       "      <td>57.0</td>\n",
       "      <td>9.0</td>\n",
       "      <td>4.0</td>\n",
       "      <td>20.0</td>\n",
       "      <td>1.0</td>\n",
       "    </tr>\n",
       "    <tr>\n",
       "      <th>24</th>\n",
       "      <td>id</td>\n",
       "      <td>2022-03</td>\n",
       "      <td>54.0</td>\n",
       "      <td>6.0</td>\n",
       "      <td>4.0</td>\n",
       "      <td>16.0</td>\n",
       "      <td>1.0</td>\n",
       "    </tr>\n",
       "    <tr>\n",
       "      <th>25</th>\n",
       "      <td>id</td>\n",
       "      <td>2022-04</td>\n",
       "      <td>56.0</td>\n",
       "      <td>6.0</td>\n",
       "      <td>4.0</td>\n",
       "      <td>13.0</td>\n",
       "      <td>NaN</td>\n",
       "    </tr>\n",
       "    <tr>\n",
       "      <th>26</th>\n",
       "      <td>id</td>\n",
       "      <td>2022-05</td>\n",
       "      <td>56.0</td>\n",
       "      <td>6.0</td>\n",
       "      <td>4.0</td>\n",
       "      <td>14.0</td>\n",
       "      <td>NaN</td>\n",
       "    </tr>\n",
       "    <tr>\n",
       "      <th>27</th>\n",
       "      <td>id</td>\n",
       "      <td>2022-06</td>\n",
       "      <td>50.0</td>\n",
       "      <td>6.0</td>\n",
       "      <td>3.0</td>\n",
       "      <td>16.0</td>\n",
       "      <td>NaN</td>\n",
       "    </tr>\n",
       "    <tr>\n",
       "      <th>28</th>\n",
       "      <td>id</td>\n",
       "      <td>2022-07</td>\n",
       "      <td>50.0</td>\n",
       "      <td>6.0</td>\n",
       "      <td>3.0</td>\n",
       "      <td>15.0</td>\n",
       "      <td>NaN</td>\n",
       "    </tr>\n",
       "  </tbody>\n",
       "</table>\n",
       "</div>"
      ],
      "text/plain": [
       "state level_0     date    CA    CO   MA    MI   OR\n",
       "0          id  2020-03  15.0   8.0  NaN   NaN  NaN\n",
       "1          id  2020-04  16.0  10.0  NaN   1.0  1.0\n",
       "2          id  2020-05  19.0   9.0  NaN   2.0  1.0\n",
       "3          id  2020-06  20.0   8.0  NaN   2.0  NaN\n",
       "4          id  2020-07  22.0   9.0  NaN   4.0  1.0\n",
       "5          id  2020-08  24.0   9.0  1.0   3.0  1.0\n",
       "6          id  2020-09  26.0   9.0  1.0   2.0  1.0\n",
       "7          id  2020-10  26.0   9.0  1.0   2.0  1.0\n",
       "8          id  2020-11  28.0  10.0  1.0   1.0  1.0\n",
       "9          id  2020-12  27.0  10.0  1.0   2.0  NaN\n",
       "10         id  2021-01  30.0  10.0  1.0   2.0  1.0\n",
       "11         id  2021-02  37.0  11.0  1.0   2.0  1.0\n",
       "12         id  2021-03  43.0  12.0  1.0   6.0  NaN\n",
       "13         id  2021-04  44.0  14.0  1.0   6.0  NaN\n",
       "14         id  2021-05  48.0  14.0  1.0   9.0  NaN\n",
       "15         id  2021-06  49.0  15.0  1.0  11.0  1.0\n",
       "16         id  2021-07  49.0  15.0  1.0  14.0  1.0\n",
       "17         id  2021-08  50.0  14.0  1.0  13.0  1.0\n",
       "18         id  2021-09  51.0  13.0  2.0  17.0  1.0\n",
       "19         id  2021-10  54.0  12.0  2.0  18.0  1.0\n",
       "20         id  2021-11  56.0  11.0  3.0  19.0  1.0\n",
       "21         id  2021-12  57.0  10.0  3.0  19.0  1.0\n",
       "22         id  2022-01  55.0   9.0  5.0  20.0  1.0\n",
       "23         id  2022-02  57.0   9.0  4.0  20.0  1.0\n",
       "24         id  2022-03  54.0   6.0  4.0  16.0  1.0\n",
       "25         id  2022-04  56.0   6.0  4.0  13.0  NaN\n",
       "26         id  2022-05  56.0   6.0  4.0  14.0  NaN\n",
       "27         id  2022-06  50.0   6.0  3.0  16.0  NaN\n",
       "28         id  2022-07  50.0   6.0  3.0  15.0  NaN"
      ]
     },
     "execution_count": 77,
     "metadata": {},
     "output_type": "execute_result"
    }
   ],
   "source": [
    "state_count = gm_high_coverage_3m_trim[['state','id','date']].groupby(['state','date']).count().unstack().T.reset_index()\n",
    "state_count\n",
    "\n"
   ]
  },
  {
   "cell_type": "code",
   "execution_count": 144,
   "id": "c275d0e9",
   "metadata": {},
   "outputs": [
    {
     "data": {
      "text/html": [
       "<div>\n",
       "<style scoped>\n",
       "    .dataframe tbody tr th:only-of-type {\n",
       "        vertical-align: middle;\n",
       "    }\n",
       "\n",
       "    .dataframe tbody tr th {\n",
       "        vertical-align: top;\n",
       "    }\n",
       "\n",
       "    .dataframe thead th {\n",
       "        text-align: right;\n",
       "    }\n",
       "</style>\n",
       "<table border=\"1\" class=\"dataframe\">\n",
       "  <thead>\n",
       "    <tr style=\"text-align: right;\">\n",
       "      <th>state</th>\n",
       "      <th>level_0</th>\n",
       "      <th>date</th>\n",
       "      <th>CA</th>\n",
       "      <th>CO</th>\n",
       "      <th>MA</th>\n",
       "      <th>MI</th>\n",
       "      <th>OR</th>\n",
       "    </tr>\n",
       "  </thead>\n",
       "  <tbody>\n",
       "    <tr>\n",
       "      <th>11</th>\n",
       "      <td>id</td>\n",
       "      <td>2021-02</td>\n",
       "      <td>37.0</td>\n",
       "      <td>11.0</td>\n",
       "      <td>1.0</td>\n",
       "      <td>2.0</td>\n",
       "      <td>1.0</td>\n",
       "    </tr>\n",
       "    <tr>\n",
       "      <th>12</th>\n",
       "      <td>id</td>\n",
       "      <td>2021-03</td>\n",
       "      <td>43.0</td>\n",
       "      <td>12.0</td>\n",
       "      <td>1.0</td>\n",
       "      <td>6.0</td>\n",
       "      <td>NaN</td>\n",
       "    </tr>\n",
       "    <tr>\n",
       "      <th>13</th>\n",
       "      <td>id</td>\n",
       "      <td>2021-04</td>\n",
       "      <td>44.0</td>\n",
       "      <td>14.0</td>\n",
       "      <td>1.0</td>\n",
       "      <td>6.0</td>\n",
       "      <td>NaN</td>\n",
       "    </tr>\n",
       "    <tr>\n",
       "      <th>14</th>\n",
       "      <td>id</td>\n",
       "      <td>2021-05</td>\n",
       "      <td>48.0</td>\n",
       "      <td>14.0</td>\n",
       "      <td>1.0</td>\n",
       "      <td>9.0</td>\n",
       "      <td>NaN</td>\n",
       "    </tr>\n",
       "    <tr>\n",
       "      <th>15</th>\n",
       "      <td>id</td>\n",
       "      <td>2021-06</td>\n",
       "      <td>49.0</td>\n",
       "      <td>15.0</td>\n",
       "      <td>1.0</td>\n",
       "      <td>11.0</td>\n",
       "      <td>1.0</td>\n",
       "    </tr>\n",
       "    <tr>\n",
       "      <th>16</th>\n",
       "      <td>id</td>\n",
       "      <td>2021-07</td>\n",
       "      <td>49.0</td>\n",
       "      <td>15.0</td>\n",
       "      <td>1.0</td>\n",
       "      <td>14.0</td>\n",
       "      <td>1.0</td>\n",
       "    </tr>\n",
       "    <tr>\n",
       "      <th>17</th>\n",
       "      <td>id</td>\n",
       "      <td>2021-08</td>\n",
       "      <td>50.0</td>\n",
       "      <td>14.0</td>\n",
       "      <td>1.0</td>\n",
       "      <td>13.0</td>\n",
       "      <td>1.0</td>\n",
       "    </tr>\n",
       "    <tr>\n",
       "      <th>18</th>\n",
       "      <td>id</td>\n",
       "      <td>2021-09</td>\n",
       "      <td>51.0</td>\n",
       "      <td>13.0</td>\n",
       "      <td>2.0</td>\n",
       "      <td>17.0</td>\n",
       "      <td>1.0</td>\n",
       "    </tr>\n",
       "    <tr>\n",
       "      <th>19</th>\n",
       "      <td>id</td>\n",
       "      <td>2021-10</td>\n",
       "      <td>54.0</td>\n",
       "      <td>12.0</td>\n",
       "      <td>2.0</td>\n",
       "      <td>18.0</td>\n",
       "      <td>1.0</td>\n",
       "    </tr>\n",
       "    <tr>\n",
       "      <th>20</th>\n",
       "      <td>id</td>\n",
       "      <td>2021-11</td>\n",
       "      <td>56.0</td>\n",
       "      <td>11.0</td>\n",
       "      <td>3.0</td>\n",
       "      <td>19.0</td>\n",
       "      <td>1.0</td>\n",
       "    </tr>\n",
       "    <tr>\n",
       "      <th>21</th>\n",
       "      <td>id</td>\n",
       "      <td>2021-12</td>\n",
       "      <td>57.0</td>\n",
       "      <td>10.0</td>\n",
       "      <td>3.0</td>\n",
       "      <td>19.0</td>\n",
       "      <td>1.0</td>\n",
       "    </tr>\n",
       "    <tr>\n",
       "      <th>22</th>\n",
       "      <td>id</td>\n",
       "      <td>2022-01</td>\n",
       "      <td>55.0</td>\n",
       "      <td>9.0</td>\n",
       "      <td>5.0</td>\n",
       "      <td>20.0</td>\n",
       "      <td>1.0</td>\n",
       "    </tr>\n",
       "    <tr>\n",
       "      <th>23</th>\n",
       "      <td>id</td>\n",
       "      <td>2022-02</td>\n",
       "      <td>57.0</td>\n",
       "      <td>9.0</td>\n",
       "      <td>4.0</td>\n",
       "      <td>20.0</td>\n",
       "      <td>1.0</td>\n",
       "    </tr>\n",
       "    <tr>\n",
       "      <th>24</th>\n",
       "      <td>id</td>\n",
       "      <td>2022-03</td>\n",
       "      <td>54.0</td>\n",
       "      <td>6.0</td>\n",
       "      <td>4.0</td>\n",
       "      <td>16.0</td>\n",
       "      <td>1.0</td>\n",
       "    </tr>\n",
       "    <tr>\n",
       "      <th>25</th>\n",
       "      <td>id</td>\n",
       "      <td>2022-04</td>\n",
       "      <td>56.0</td>\n",
       "      <td>6.0</td>\n",
       "      <td>4.0</td>\n",
       "      <td>13.0</td>\n",
       "      <td>NaN</td>\n",
       "    </tr>\n",
       "    <tr>\n",
       "      <th>26</th>\n",
       "      <td>id</td>\n",
       "      <td>2022-05</td>\n",
       "      <td>56.0</td>\n",
       "      <td>6.0</td>\n",
       "      <td>4.0</td>\n",
       "      <td>14.0</td>\n",
       "      <td>NaN</td>\n",
       "    </tr>\n",
       "    <tr>\n",
       "      <th>27</th>\n",
       "      <td>id</td>\n",
       "      <td>2022-06</td>\n",
       "      <td>50.0</td>\n",
       "      <td>6.0</td>\n",
       "      <td>3.0</td>\n",
       "      <td>16.0</td>\n",
       "      <td>NaN</td>\n",
       "    </tr>\n",
       "    <tr>\n",
       "      <th>28</th>\n",
       "      <td>id</td>\n",
       "      <td>2022-07</td>\n",
       "      <td>50.0</td>\n",
       "      <td>6.0</td>\n",
       "      <td>3.0</td>\n",
       "      <td>15.0</td>\n",
       "      <td>NaN</td>\n",
       "    </tr>\n",
       "  </tbody>\n",
       "</table>\n",
       "</div>"
      ],
      "text/plain": [
       "state level_0     date    CA    CO   MA    MI   OR\n",
       "11         id  2021-02  37.0  11.0  1.0   2.0  1.0\n",
       "12         id  2021-03  43.0  12.0  1.0   6.0  NaN\n",
       "13         id  2021-04  44.0  14.0  1.0   6.0  NaN\n",
       "14         id  2021-05  48.0  14.0  1.0   9.0  NaN\n",
       "15         id  2021-06  49.0  15.0  1.0  11.0  1.0\n",
       "16         id  2021-07  49.0  15.0  1.0  14.0  1.0\n",
       "17         id  2021-08  50.0  14.0  1.0  13.0  1.0\n",
       "18         id  2021-09  51.0  13.0  2.0  17.0  1.0\n",
       "19         id  2021-10  54.0  12.0  2.0  18.0  1.0\n",
       "20         id  2021-11  56.0  11.0  3.0  19.0  1.0\n",
       "21         id  2021-12  57.0  10.0  3.0  19.0  1.0\n",
       "22         id  2022-01  55.0   9.0  5.0  20.0  1.0\n",
       "23         id  2022-02  57.0   9.0  4.0  20.0  1.0\n",
       "24         id  2022-03  54.0   6.0  4.0  16.0  1.0\n",
       "25         id  2022-04  56.0   6.0  4.0  13.0  NaN\n",
       "26         id  2022-05  56.0   6.0  4.0  14.0  NaN\n",
       "27         id  2022-06  50.0   6.0  3.0  16.0  NaN\n",
       "28         id  2022-07  50.0   6.0  3.0  15.0  NaN"
      ]
     },
     "execution_count": 144,
     "metadata": {},
     "output_type": "execute_result"
    }
   ],
   "source": [
    "state_count[state_count['date'] >=  '2021-01-01']"
   ]
  },
  {
   "cell_type": "code",
   "execution_count": null,
   "id": "2c82030a",
   "metadata": {},
   "outputs": [],
   "source": [
    "gm_high_coverage_3m_trim.sort_values(by ='gm_past_3quarters_after_tax',ascending = False )"
   ]
  },
  {
   "cell_type": "markdown",
   "id": "6b3c270f",
   "metadata": {},
   "source": [
    "## CA"
   ]
  },
  {
   "cell_type": "code",
   "execution_count": null,
   "id": "284cbde7",
   "metadata": {},
   "outputs": [],
   "source": [
    "### 3m"
   ]
  },
  {
   "cell_type": "code",
   "execution_count": 98,
   "id": "672e8fed",
   "metadata": {},
   "outputs": [],
   "source": [
    "gm_high_coverage_3m_trim_ca = gm_high_coverage_3m_trim[gm_high_coverage_3m_trim['state'] == 'CA']"
   ]
  },
  {
   "cell_type": "code",
   "execution_count": 17,
   "id": "7a182dec",
   "metadata": {},
   "outputs": [],
   "source": [
    "margin_distr_3m_ca = gm_high_coverage_3m_trim_ca.groupby(['date'])['gm_past_quarter_final'].describe().reset_index()\n",
    "margin_distr_3m_ca['date'] = pd.to_datetime(margin_distr_3m_ca['date'])\n",
    "\n"
   ]
  },
  {
   "cell_type": "code",
   "execution_count": 18,
   "id": "51d5a621",
   "metadata": {},
   "outputs": [],
   "source": [
    "#margin_distr_3m_ca[['25%','50%','75%']].mean().round(2)"
   ]
  },
  {
   "cell_type": "code",
   "execution_count": 78,
   "id": "ea480769",
   "metadata": {},
   "outputs": [
    {
     "data": {
      "text/plain": [
       "25%    0.43\n",
       "50%    0.49\n",
       "75%    0.57\n",
       "dtype: float64"
      ]
     },
     "execution_count": 78,
     "metadata": {},
     "output_type": "execute_result"
    }
   ],
   "source": [
    "margin_distr_3m_ca[margin_distr_3m_ca['date'] >= '2021-01-01'][['25%','50%','75%']].mean().round(2)"
   ]
  },
  {
   "cell_type": "code",
   "execution_count": 86,
   "id": "43649a6c",
   "metadata": {},
   "outputs": [
    {
     "data": {
      "text/html": [
       "<div>\n",
       "<style scoped>\n",
       "    .dataframe tbody tr th:only-of-type {\n",
       "        vertical-align: middle;\n",
       "    }\n",
       "\n",
       "    .dataframe tbody tr th {\n",
       "        vertical-align: top;\n",
       "    }\n",
       "\n",
       "    .dataframe thead th {\n",
       "        text-align: right;\n",
       "    }\n",
       "</style>\n",
       "<table border=\"1\" class=\"dataframe\">\n",
       "  <thead>\n",
       "    <tr style=\"text-align: right;\">\n",
       "      <th></th>\n",
       "      <th>count</th>\n",
       "      <th>mean</th>\n",
       "      <th>std</th>\n",
       "      <th>min</th>\n",
       "      <th>25%</th>\n",
       "      <th>50%</th>\n",
       "      <th>75%</th>\n",
       "      <th>max</th>\n",
       "    </tr>\n",
       "    <tr>\n",
       "      <th>date</th>\n",
       "      <th></th>\n",
       "      <th></th>\n",
       "      <th></th>\n",
       "      <th></th>\n",
       "      <th></th>\n",
       "      <th></th>\n",
       "      <th></th>\n",
       "      <th></th>\n",
       "    </tr>\n",
       "  </thead>\n",
       "  <tbody>\n",
       "    <tr>\n",
       "      <th>2020-03</th>\n",
       "      <td>15.0</td>\n",
       "      <td>0.498667</td>\n",
       "      <td>0.090385</td>\n",
       "      <td>0.34</td>\n",
       "      <td>0.4400</td>\n",
       "      <td>0.510</td>\n",
       "      <td>0.5550</td>\n",
       "      <td>0.64</td>\n",
       "    </tr>\n",
       "    <tr>\n",
       "      <th>2020-04</th>\n",
       "      <td>16.0</td>\n",
       "      <td>0.505000</td>\n",
       "      <td>0.079498</td>\n",
       "      <td>0.36</td>\n",
       "      <td>0.4450</td>\n",
       "      <td>0.505</td>\n",
       "      <td>0.5525</td>\n",
       "      <td>0.64</td>\n",
       "    </tr>\n",
       "    <tr>\n",
       "      <th>2020-05</th>\n",
       "      <td>19.0</td>\n",
       "      <td>0.503158</td>\n",
       "      <td>0.106669</td>\n",
       "      <td>0.25</td>\n",
       "      <td>0.4600</td>\n",
       "      <td>0.500</td>\n",
       "      <td>0.5450</td>\n",
       "      <td>0.75</td>\n",
       "    </tr>\n",
       "    <tr>\n",
       "      <th>2020-06</th>\n",
       "      <td>20.0</td>\n",
       "      <td>0.501500</td>\n",
       "      <td>0.093711</td>\n",
       "      <td>0.31</td>\n",
       "      <td>0.4575</td>\n",
       "      <td>0.495</td>\n",
       "      <td>0.5400</td>\n",
       "      <td>0.72</td>\n",
       "    </tr>\n",
       "    <tr>\n",
       "      <th>2020-07</th>\n",
       "      <td>22.0</td>\n",
       "      <td>0.495455</td>\n",
       "      <td>0.098789</td>\n",
       "      <td>0.34</td>\n",
       "      <td>0.4150</td>\n",
       "      <td>0.485</td>\n",
       "      <td>0.5575</td>\n",
       "      <td>0.69</td>\n",
       "    </tr>\n",
       "    <tr>\n",
       "      <th>2020-08</th>\n",
       "      <td>24.0</td>\n",
       "      <td>0.482500</td>\n",
       "      <td>0.121950</td>\n",
       "      <td>0.24</td>\n",
       "      <td>0.4050</td>\n",
       "      <td>0.480</td>\n",
       "      <td>0.5650</td>\n",
       "      <td>0.69</td>\n",
       "    </tr>\n",
       "    <tr>\n",
       "      <th>2020-09</th>\n",
       "      <td>26.0</td>\n",
       "      <td>0.483077</td>\n",
       "      <td>0.129082</td>\n",
       "      <td>0.14</td>\n",
       "      <td>0.4250</td>\n",
       "      <td>0.490</td>\n",
       "      <td>0.5575</td>\n",
       "      <td>0.69</td>\n",
       "    </tr>\n",
       "    <tr>\n",
       "      <th>2020-10</th>\n",
       "      <td>26.0</td>\n",
       "      <td>0.503462</td>\n",
       "      <td>0.109542</td>\n",
       "      <td>0.24</td>\n",
       "      <td>0.4450</td>\n",
       "      <td>0.490</td>\n",
       "      <td>0.5600</td>\n",
       "      <td>0.70</td>\n",
       "    </tr>\n",
       "    <tr>\n",
       "      <th>2020-11</th>\n",
       "      <td>28.0</td>\n",
       "      <td>0.512143</td>\n",
       "      <td>0.099679</td>\n",
       "      <td>0.34</td>\n",
       "      <td>0.4450</td>\n",
       "      <td>0.510</td>\n",
       "      <td>0.5725</td>\n",
       "      <td>0.73</td>\n",
       "    </tr>\n",
       "    <tr>\n",
       "      <th>2020-12</th>\n",
       "      <td>27.0</td>\n",
       "      <td>0.490741</td>\n",
       "      <td>0.099070</td>\n",
       "      <td>0.32</td>\n",
       "      <td>0.4300</td>\n",
       "      <td>0.470</td>\n",
       "      <td>0.5550</td>\n",
       "      <td>0.68</td>\n",
       "    </tr>\n",
       "    <tr>\n",
       "      <th>2021-01</th>\n",
       "      <td>30.0</td>\n",
       "      <td>0.514667</td>\n",
       "      <td>0.113616</td>\n",
       "      <td>0.32</td>\n",
       "      <td>0.4500</td>\n",
       "      <td>0.505</td>\n",
       "      <td>0.5850</td>\n",
       "      <td>0.76</td>\n",
       "    </tr>\n",
       "    <tr>\n",
       "      <th>2021-02</th>\n",
       "      <td>37.0</td>\n",
       "      <td>0.509189</td>\n",
       "      <td>0.113832</td>\n",
       "      <td>0.25</td>\n",
       "      <td>0.4500</td>\n",
       "      <td>0.510</td>\n",
       "      <td>0.6000</td>\n",
       "      <td>0.68</td>\n",
       "    </tr>\n",
       "    <tr>\n",
       "      <th>2021-03</th>\n",
       "      <td>43.0</td>\n",
       "      <td>0.497674</td>\n",
       "      <td>0.101415</td>\n",
       "      <td>0.31</td>\n",
       "      <td>0.4200</td>\n",
       "      <td>0.500</td>\n",
       "      <td>0.5800</td>\n",
       "      <td>0.68</td>\n",
       "    </tr>\n",
       "    <tr>\n",
       "      <th>2021-04</th>\n",
       "      <td>44.0</td>\n",
       "      <td>0.491364</td>\n",
       "      <td>0.101353</td>\n",
       "      <td>0.32</td>\n",
       "      <td>0.4225</td>\n",
       "      <td>0.490</td>\n",
       "      <td>0.5650</td>\n",
       "      <td>0.67</td>\n",
       "    </tr>\n",
       "    <tr>\n",
       "      <th>2021-05</th>\n",
       "      <td>48.0</td>\n",
       "      <td>0.490625</td>\n",
       "      <td>0.100348</td>\n",
       "      <td>0.33</td>\n",
       "      <td>0.4225</td>\n",
       "      <td>0.495</td>\n",
       "      <td>0.5700</td>\n",
       "      <td>0.67</td>\n",
       "    </tr>\n",
       "    <tr>\n",
       "      <th>2021-06</th>\n",
       "      <td>49.0</td>\n",
       "      <td>0.491429</td>\n",
       "      <td>0.104103</td>\n",
       "      <td>0.31</td>\n",
       "      <td>0.4100</td>\n",
       "      <td>0.500</td>\n",
       "      <td>0.5800</td>\n",
       "      <td>0.66</td>\n",
       "    </tr>\n",
       "    <tr>\n",
       "      <th>2021-07</th>\n",
       "      <td>49.0</td>\n",
       "      <td>0.494898</td>\n",
       "      <td>0.104465</td>\n",
       "      <td>0.32</td>\n",
       "      <td>0.4200</td>\n",
       "      <td>0.510</td>\n",
       "      <td>0.5700</td>\n",
       "      <td>0.67</td>\n",
       "    </tr>\n",
       "    <tr>\n",
       "      <th>2021-08</th>\n",
       "      <td>50.0</td>\n",
       "      <td>0.493600</td>\n",
       "      <td>0.103997</td>\n",
       "      <td>0.32</td>\n",
       "      <td>0.4100</td>\n",
       "      <td>0.490</td>\n",
       "      <td>0.5700</td>\n",
       "      <td>0.68</td>\n",
       "    </tr>\n",
       "    <tr>\n",
       "      <th>2021-09</th>\n",
       "      <td>51.0</td>\n",
       "      <td>0.487647</td>\n",
       "      <td>0.108085</td>\n",
       "      <td>0.26</td>\n",
       "      <td>0.3950</td>\n",
       "      <td>0.480</td>\n",
       "      <td>0.5650</td>\n",
       "      <td>0.68</td>\n",
       "    </tr>\n",
       "    <tr>\n",
       "      <th>2021-10</th>\n",
       "      <td>54.0</td>\n",
       "      <td>0.476296</td>\n",
       "      <td>0.109567</td>\n",
       "      <td>0.22</td>\n",
       "      <td>0.3925</td>\n",
       "      <td>0.475</td>\n",
       "      <td>0.5500</td>\n",
       "      <td>0.67</td>\n",
       "    </tr>\n",
       "    <tr>\n",
       "      <th>2021-11</th>\n",
       "      <td>56.0</td>\n",
       "      <td>0.485179</td>\n",
       "      <td>0.104777</td>\n",
       "      <td>0.27</td>\n",
       "      <td>0.4200</td>\n",
       "      <td>0.480</td>\n",
       "      <td>0.5500</td>\n",
       "      <td>0.68</td>\n",
       "    </tr>\n",
       "    <tr>\n",
       "      <th>2021-12</th>\n",
       "      <td>57.0</td>\n",
       "      <td>0.497895</td>\n",
       "      <td>0.104808</td>\n",
       "      <td>0.27</td>\n",
       "      <td>0.4400</td>\n",
       "      <td>0.490</td>\n",
       "      <td>0.5700</td>\n",
       "      <td>0.73</td>\n",
       "    </tr>\n",
       "    <tr>\n",
       "      <th>2022-01</th>\n",
       "      <td>55.0</td>\n",
       "      <td>0.506364</td>\n",
       "      <td>0.104640</td>\n",
       "      <td>0.28</td>\n",
       "      <td>0.4500</td>\n",
       "      <td>0.500</td>\n",
       "      <td>0.5750</td>\n",
       "      <td>0.75</td>\n",
       "    </tr>\n",
       "    <tr>\n",
       "      <th>2022-02</th>\n",
       "      <td>57.0</td>\n",
       "      <td>0.511053</td>\n",
       "      <td>0.103366</td>\n",
       "      <td>0.27</td>\n",
       "      <td>0.4400</td>\n",
       "      <td>0.500</td>\n",
       "      <td>0.6000</td>\n",
       "      <td>0.75</td>\n",
       "    </tr>\n",
       "    <tr>\n",
       "      <th>2022-03</th>\n",
       "      <td>54.0</td>\n",
       "      <td>0.499074</td>\n",
       "      <td>0.102244</td>\n",
       "      <td>0.27</td>\n",
       "      <td>0.4500</td>\n",
       "      <td>0.495</td>\n",
       "      <td>0.5650</td>\n",
       "      <td>0.71</td>\n",
       "    </tr>\n",
       "    <tr>\n",
       "      <th>2022-04</th>\n",
       "      <td>56.0</td>\n",
       "      <td>0.494286</td>\n",
       "      <td>0.095572</td>\n",
       "      <td>0.28</td>\n",
       "      <td>0.4375</td>\n",
       "      <td>0.485</td>\n",
       "      <td>0.5525</td>\n",
       "      <td>0.72</td>\n",
       "    </tr>\n",
       "    <tr>\n",
       "      <th>2022-05</th>\n",
       "      <td>56.0</td>\n",
       "      <td>0.488929</td>\n",
       "      <td>0.105100</td>\n",
       "      <td>0.21</td>\n",
       "      <td>0.4350</td>\n",
       "      <td>0.485</td>\n",
       "      <td>0.5400</td>\n",
       "      <td>0.75</td>\n",
       "    </tr>\n",
       "    <tr>\n",
       "      <th>2022-06</th>\n",
       "      <td>50.0</td>\n",
       "      <td>0.486800</td>\n",
       "      <td>0.103774</td>\n",
       "      <td>0.20</td>\n",
       "      <td>0.4425</td>\n",
       "      <td>0.480</td>\n",
       "      <td>0.5200</td>\n",
       "      <td>0.74</td>\n",
       "    </tr>\n",
       "    <tr>\n",
       "      <th>2022-07</th>\n",
       "      <td>50.0</td>\n",
       "      <td>0.493400</td>\n",
       "      <td>0.113813</td>\n",
       "      <td>0.19</td>\n",
       "      <td>0.4425</td>\n",
       "      <td>0.490</td>\n",
       "      <td>0.5300</td>\n",
       "      <td>0.77</td>\n",
       "    </tr>\n",
       "  </tbody>\n",
       "</table>\n",
       "</div>"
      ],
      "text/plain": [
       "         count      mean       std   min     25%    50%     75%   max\n",
       "date                                                                 \n",
       "2020-03   15.0  0.498667  0.090385  0.34  0.4400  0.510  0.5550  0.64\n",
       "2020-04   16.0  0.505000  0.079498  0.36  0.4450  0.505  0.5525  0.64\n",
       "2020-05   19.0  0.503158  0.106669  0.25  0.4600  0.500  0.5450  0.75\n",
       "2020-06   20.0  0.501500  0.093711  0.31  0.4575  0.495  0.5400  0.72\n",
       "2020-07   22.0  0.495455  0.098789  0.34  0.4150  0.485  0.5575  0.69\n",
       "2020-08   24.0  0.482500  0.121950  0.24  0.4050  0.480  0.5650  0.69\n",
       "2020-09   26.0  0.483077  0.129082  0.14  0.4250  0.490  0.5575  0.69\n",
       "2020-10   26.0  0.503462  0.109542  0.24  0.4450  0.490  0.5600  0.70\n",
       "2020-11   28.0  0.512143  0.099679  0.34  0.4450  0.510  0.5725  0.73\n",
       "2020-12   27.0  0.490741  0.099070  0.32  0.4300  0.470  0.5550  0.68\n",
       "2021-01   30.0  0.514667  0.113616  0.32  0.4500  0.505  0.5850  0.76\n",
       "2021-02   37.0  0.509189  0.113832  0.25  0.4500  0.510  0.6000  0.68\n",
       "2021-03   43.0  0.497674  0.101415  0.31  0.4200  0.500  0.5800  0.68\n",
       "2021-04   44.0  0.491364  0.101353  0.32  0.4225  0.490  0.5650  0.67\n",
       "2021-05   48.0  0.490625  0.100348  0.33  0.4225  0.495  0.5700  0.67\n",
       "2021-06   49.0  0.491429  0.104103  0.31  0.4100  0.500  0.5800  0.66\n",
       "2021-07   49.0  0.494898  0.104465  0.32  0.4200  0.510  0.5700  0.67\n",
       "2021-08   50.0  0.493600  0.103997  0.32  0.4100  0.490  0.5700  0.68\n",
       "2021-09   51.0  0.487647  0.108085  0.26  0.3950  0.480  0.5650  0.68\n",
       "2021-10   54.0  0.476296  0.109567  0.22  0.3925  0.475  0.5500  0.67\n",
       "2021-11   56.0  0.485179  0.104777  0.27  0.4200  0.480  0.5500  0.68\n",
       "2021-12   57.0  0.497895  0.104808  0.27  0.4400  0.490  0.5700  0.73\n",
       "2022-01   55.0  0.506364  0.104640  0.28  0.4500  0.500  0.5750  0.75\n",
       "2022-02   57.0  0.511053  0.103366  0.27  0.4400  0.500  0.6000  0.75\n",
       "2022-03   54.0  0.499074  0.102244  0.27  0.4500  0.495  0.5650  0.71\n",
       "2022-04   56.0  0.494286  0.095572  0.28  0.4375  0.485  0.5525  0.72\n",
       "2022-05   56.0  0.488929  0.105100  0.21  0.4350  0.485  0.5400  0.75\n",
       "2022-06   50.0  0.486800  0.103774  0.20  0.4425  0.480  0.5200  0.74\n",
       "2022-07   50.0  0.493400  0.113813  0.19  0.4425  0.490  0.5300  0.77"
      ]
     },
     "execution_count": 86,
     "metadata": {},
     "output_type": "execute_result"
    }
   ],
   "source": [
    "gm_high_coverage_3m_trim_ca.groupby(['date'])['gm_past_quarter_final'].describe()"
   ]
  },
  {
   "cell_type": "code",
   "execution_count": 130,
   "id": "f4aa1db8",
   "metadata": {},
   "outputs": [
    {
     "data": {
      "text/plain": [
       "(0.4047368421052632, 0.47231578947368424, 0.5504736842105263)"
      ]
     },
     "execution_count": 130,
     "metadata": {},
     "output_type": "execute_result"
    }
   ],
   "source": [
    "gm_high_coverage_3m_trim_ca['date'] = pd.to_datetime(gm_high_coverage_3m_trim_ca['date'])\n",
    "(gm_high_coverage_3m_trim_ca[gm_high_coverage_3m_trim_ca['date'] >= '2021-01-01'].groupby(['date'])['gm_past_quarter_final'].quantile(0.2).mean(),\\\n",
    "gm_high_coverage_3m_trim_ca[gm_high_coverage_3m_trim_ca['date'] >= '2021-01-01'].groupby(['date'])['gm_past_quarter_final'].quantile(0.4).mean(),\\\n",
    " gm_high_coverage_3m_trim_ca[gm_high_coverage_3m_trim_ca['date'] >= '2021-01-01'].groupby(['date'])['gm_past_quarter_final'].quantile(0.7).mean())\n",
    "\n",
    "\n"
   ]
  },
  {
   "cell_type": "code",
   "execution_count": null,
   "id": "883ced8d",
   "metadata": {},
   "outputs": [],
   "source": [
    "### 6m"
   ]
  },
  {
   "cell_type": "code",
   "execution_count": 20,
   "id": "130b7244",
   "metadata": {},
   "outputs": [],
   "source": [
    "gm_high_coverage_6m_trim_ca = gm_high_coverage_6m_trim[gm_high_coverage_6m_trim['state'] == 'CA']\n",
    "margin_distr_6m_ca = gm_high_coverage_6m_trim_ca.groupby(['date'])['gm_past_2quarters_final'].describe().reset_index()\n",
    "margin_distr_6m_ca['date'] = pd.to_datetime(margin_distr_6m_ca['date'])\n",
    "\n",
    "#margin_distr_6m_ca[['25%','50%','75%']].mean().round(2)\n",
    "\n"
   ]
  },
  {
   "cell_type": "code",
   "execution_count": 21,
   "id": "e8cc6dc1",
   "metadata": {},
   "outputs": [
    {
     "data": {
      "text/plain": [
       "25%    0.43\n",
       "50%    0.49\n",
       "75%    0.57\n",
       "dtype: float64"
      ]
     },
     "execution_count": 21,
     "metadata": {},
     "output_type": "execute_result"
    }
   ],
   "source": [
    "margin_distr_6m_ca[margin_distr_6m_ca['date'] >= '2021-01-01'][['25%','50%','75%']].mean().round(2)"
   ]
  },
  {
   "cell_type": "code",
   "execution_count": 135,
   "id": "e237c308",
   "metadata": {},
   "outputs": [
    {
     "data": {
      "text/plain": [
       "(0.4081052631578947, 0.4708421052631579, 0.5500526315789473)"
      ]
     },
     "execution_count": 135,
     "metadata": {},
     "output_type": "execute_result"
    }
   ],
   "source": [
    "gm_high_coverage_6m_trim_ca['date'] = pd.to_datetime(gm_high_coverage_6m_trim_ca['date'])\n",
    "(gm_high_coverage_6m_trim_ca[gm_high_coverage_6m_trim_ca['date'] >= '2021-01-01'].groupby(['date'])['gm_past_2quarters_final'].quantile(0.2).mean(),\\\n",
    "gm_high_coverage_6m_trim_ca[gm_high_coverage_6m_trim_ca['date'] >= '2021-01-01'].groupby(['date'])['gm_past_2quarters_final'].quantile(0.4).mean(),\\\n",
    " gm_high_coverage_6m_trim_ca[gm_high_coverage_6m_trim_ca['date'] >= '2021-01-01'].groupby(['date'])['gm_past_2quarters_final'].quantile(0.7).mean())\n",
    "\n",
    "\n"
   ]
  },
  {
   "cell_type": "code",
   "execution_count": 14,
   "id": "15bd2d46",
   "metadata": {},
   "outputs": [],
   "source": [
    "### 9m"
   ]
  },
  {
   "cell_type": "code",
   "execution_count": 22,
   "id": "a672e4a2",
   "metadata": {},
   "outputs": [],
   "source": [
    "gm_high_coverage_9m_trim_ca = gm_high_coverage_9m_trim[gm_high_coverage_9m_trim['state'] == 'CA']\n",
    "margin_distr_9m_ca = gm_high_coverage_9m_trim_ca.groupby(['date'])['gm_past_3quarters_final'].describe().reset_index()\n",
    "margin_distr_9m_ca['date'] = pd.to_datetime(margin_distr_9m_ca['date'])\n",
    "\n",
    "#margin_distr_9m_ca[['25%','50%','75%']].mean().round(2)\n",
    "\n"
   ]
  },
  {
   "cell_type": "code",
   "execution_count": 23,
   "id": "2db75fb4",
   "metadata": {},
   "outputs": [
    {
     "data": {
      "text/plain": [
       "25%    0.43\n",
       "50%    0.49\n",
       "75%    0.57\n",
       "dtype: float64"
      ]
     },
     "execution_count": 23,
     "metadata": {},
     "output_type": "execute_result"
    }
   ],
   "source": [
    "margin_distr_9m_ca[margin_distr_9m_ca['date'] >= '2021-01-01'][['25%','50%','75%']].mean().round(2)"
   ]
  },
  {
   "cell_type": "code",
   "execution_count": 136,
   "id": "87138c27",
   "metadata": {},
   "outputs": [
    {
     "data": {
      "text/plain": [
       "(0.4056842105263158, 0.4688421052631579, 0.5489473684210526)"
      ]
     },
     "execution_count": 136,
     "metadata": {},
     "output_type": "execute_result"
    }
   ],
   "source": [
    "gm_high_coverage_9m_trim_ca['date'] = pd.to_datetime(gm_high_coverage_9m_trim_ca['date'])\n",
    "(gm_high_coverage_9m_trim_ca[gm_high_coverage_9m_trim_ca['date'] >= '2021-01-01'].groupby(['date'])['gm_past_3quarters_final'].quantile(0.2).mean(),\\\n",
    "gm_high_coverage_9m_trim_ca[gm_high_coverage_9m_trim_ca['date'] >= '2021-01-01'].groupby(['date'])['gm_past_3quarters_final'].quantile(0.4).mean(),\\\n",
    " gm_high_coverage_9m_trim_ca[gm_high_coverage_9m_trim_ca['date'] >= '2021-01-01'].groupby(['date'])['gm_past_3quarters_final'].quantile(0.7).mean())\n",
    "\n",
    "\n"
   ]
  },
  {
   "cell_type": "markdown",
   "id": "4e52355f",
   "metadata": {},
   "source": [
    "## CO"
   ]
  },
  {
   "cell_type": "code",
   "execution_count": null,
   "id": "3cdab5c8",
   "metadata": {},
   "outputs": [],
   "source": [
    "### 3m"
   ]
  },
  {
   "cell_type": "code",
   "execution_count": 113,
   "id": "91e5561c",
   "metadata": {},
   "outputs": [],
   "source": [
    "gm_high_coverage_3m_trim_co = gm_high_coverage_3m_trim[gm_high_coverage_3m_trim['state'] == 'CO']"
   ]
  },
  {
   "cell_type": "code",
   "execution_count": 105,
   "id": "ed447a51",
   "metadata": {},
   "outputs": [],
   "source": [
    "margin_distr_3m_co = gm_high_coverage_3m_trim_co.groupby(['date'])['gm_past_quarter_final'].describe().reset_index()\n",
    "margin_distr_3m_co['date'] = pd.to_datetime(margin_distr_3m_co['date'])\n",
    "\n"
   ]
  },
  {
   "cell_type": "code",
   "execution_count": 106,
   "id": "c09af908",
   "metadata": {},
   "outputs": [],
   "source": [
    "#margin_distr_3m_co[['25%','50%','75%']].mean().round(2)"
   ]
  },
  {
   "cell_type": "code",
   "execution_count": 107,
   "id": "b5775dcf",
   "metadata": {},
   "outputs": [
    {
     "data": {
      "text/plain": [
       "25%    0.39\n",
       "50%    0.51\n",
       "75%    0.60\n",
       "dtype: float64"
      ]
     },
     "execution_count": 107,
     "metadata": {},
     "output_type": "execute_result"
    }
   ],
   "source": [
    "margin_distr_3m_co[margin_distr_3m_co['date'] >= '2021-01-01'][['25%','50%','75%']].mean().round(2)"
   ]
  },
  {
   "cell_type": "code",
   "execution_count": 112,
   "id": "bcd9f671",
   "metadata": {},
   "outputs": [
    {
     "data": {
      "text/plain": [
       "0.4177586206896552"
      ]
     },
     "execution_count": 112,
     "metadata": {},
     "output_type": "execute_result"
    }
   ],
   "source": [
    "gm_high_coverage_3m_trim_co.groupby(['date'])['gm_past_quarter_final'].quantile(0.25).mean()"
   ]
  },
  {
   "cell_type": "code",
   "execution_count": 131,
   "id": "e25d8ffd",
   "metadata": {},
   "outputs": [
    {
     "data": {
      "text/plain": [
       "(0.3693684210526315, 0.466, 0.5780000000000002)"
      ]
     },
     "execution_count": 131,
     "metadata": {},
     "output_type": "execute_result"
    }
   ],
   "source": [
    "gm_high_coverage_3m_trim_co['date'] = pd.to_datetime(gm_high_coverage_3m_trim_co['date'])\n",
    "(gm_high_coverage_3m_trim_co[gm_high_coverage_3m_trim_co['date'] >= '2021-01-01'].groupby(['date'])['gm_past_quarter_final'].quantile(0.2).mean(),\\\n",
    "gm_high_coverage_3m_trim_co[gm_high_coverage_3m_trim_co['date'] >= '2021-01-01'].groupby(['date'])['gm_past_quarter_final'].quantile(0.4).mean(),\\\n",
    " gm_high_coverage_3m_trim_co[gm_high_coverage_3m_trim_co['date'] >= '2021-01-01'].groupby(['date'])['gm_past_quarter_final'].quantile(0.7).mean())\n",
    "\n",
    "\n"
   ]
  },
  {
   "cell_type": "code",
   "execution_count": 108,
   "id": "74f191d9",
   "metadata": {},
   "outputs": [],
   "source": [
    "### 6m"
   ]
  },
  {
   "cell_type": "code",
   "execution_count": 109,
   "id": "d9c4cb19",
   "metadata": {},
   "outputs": [],
   "source": [
    "gm_high_coverage_6m_trim_co = gm_high_coverage_6m_trim[gm_high_coverage_6m_trim['state'] == 'CO']\n",
    "margin_distr_6m_co = gm_high_coverage_6m_trim_co.groupby(['date'])['gm_past_2quarters_final'].describe().reset_index()\n",
    "margin_distr_6m_co['date'] = pd.to_datetime(margin_distr_6m_co['date'])\n",
    "\n",
    "#margin_distr_6m_co[['25%','50%','75%']].mean().round(2)\n",
    "\n"
   ]
  },
  {
   "cell_type": "code",
   "execution_count": 110,
   "id": "c885056e",
   "metadata": {},
   "outputs": [
    {
     "data": {
      "text/plain": [
       "25%    0.41\n",
       "50%    0.52\n",
       "75%    0.60\n",
       "dtype: float64"
      ]
     },
     "execution_count": 110,
     "metadata": {},
     "output_type": "execute_result"
    }
   ],
   "source": [
    "margin_distr_6m_co[margin_distr_6m_co['date'] >= '2021-01-01'][['25%','50%','75%']].mean().round(2)"
   ]
  },
  {
   "cell_type": "code",
   "execution_count": 137,
   "id": "864e9a7a",
   "metadata": {},
   "outputs": [
    {
     "data": {
      "text/plain": [
       "(0.3794736842105263, 0.4752631578947367, 0.5785789473684211)"
      ]
     },
     "execution_count": 137,
     "metadata": {},
     "output_type": "execute_result"
    }
   ],
   "source": [
    "gm_high_coverage_6m_trim_co['date'] = pd.to_datetime(gm_high_coverage_6m_trim_co['date'])\n",
    "(gm_high_coverage_6m_trim_co[gm_high_coverage_6m_trim_co['date'] >= '2021-01-01'].groupby(['date'])['gm_past_2quarters_final'].quantile(0.2).mean(),\\\n",
    "gm_high_coverage_6m_trim_co[gm_high_coverage_6m_trim_co['date'] >= '2021-01-01'].groupby(['date'])['gm_past_2quarters_final'].quantile(0.4).mean(),\\\n",
    " gm_high_coverage_6m_trim_co[gm_high_coverage_6m_trim_co['date'] >= '2021-01-01'].groupby(['date'])['gm_past_2quarters_final'].quantile(0.7).mean())\n",
    "\n",
    "\n"
   ]
  },
  {
   "cell_type": "code",
   "execution_count": 59,
   "id": "7130efec",
   "metadata": {},
   "outputs": [],
   "source": [
    "### 9m"
   ]
  },
  {
   "cell_type": "code",
   "execution_count": 60,
   "id": "e841d80c",
   "metadata": {},
   "outputs": [
    {
     "data": {
      "text/plain": [
       "25%    0.43\n",
       "50%    0.52\n",
       "75%    0.59\n",
       "dtype: float64"
      ]
     },
     "execution_count": 60,
     "metadata": {},
     "output_type": "execute_result"
    }
   ],
   "source": [
    "gm_high_coverage_9m_trim_co = gm_high_coverage_9m_trim[gm_high_coverage_9m_trim['state'] == 'CO']\n",
    "margin_distr_9m_co = gm_high_coverage_9m_trim_co.groupby(['date'])['gm_past_3quarters_final'].describe().reset_index()\n",
    "margin_distr_9m_co['date'] = pd.to_datetime(margin_distr_9m_co['date'])\n",
    "\n",
    "margin_distr_9m_co[['25%','50%','75%']].mean().round(2)\n",
    "\n"
   ]
  },
  {
   "cell_type": "code",
   "execution_count": 61,
   "id": "67f78777",
   "metadata": {},
   "outputs": [
    {
     "data": {
      "text/plain": [
       "25%    0.42\n",
       "50%    0.52\n",
       "75%    0.60\n",
       "dtype: float64"
      ]
     },
     "execution_count": 61,
     "metadata": {},
     "output_type": "execute_result"
    }
   ],
   "source": [
    "margin_distr_9m_co[margin_distr_9m_co['date'] >= '2021-01-01'][['25%','50%','75%']].mean().round(2)"
   ]
  },
  {
   "cell_type": "code",
   "execution_count": 138,
   "id": "be7976d6",
   "metadata": {},
   "outputs": [
    {
     "data": {
      "text/plain": [
       "(0.3910526315789474, 0.48852631578947375, 0.5812631578947367)"
      ]
     },
     "execution_count": 138,
     "metadata": {},
     "output_type": "execute_result"
    }
   ],
   "source": [
    "gm_high_coverage_9m_trim_co['date'] = pd.to_datetime(gm_high_coverage_9m_trim_co['date'])\n",
    "(gm_high_coverage_9m_trim_co[gm_high_coverage_9m_trim_co['date'] >= '2021-01-01'].groupby(['date'])['gm_past_3quarters_final'].quantile(0.2).mean(),\\\n",
    "gm_high_coverage_9m_trim_co[gm_high_coverage_9m_trim_co['date'] >= '2021-01-01'].groupby(['date'])['gm_past_3quarters_final'].quantile(0.4).mean(),\\\n",
    " gm_high_coverage_9m_trim_co[gm_high_coverage_9m_trim_co['date'] >= '2021-01-01'].groupby(['date'])['gm_past_3quarters_final'].quantile(0.7).mean())\n",
    "\n",
    "\n"
   ]
  },
  {
   "cell_type": "markdown",
   "id": "1278808d",
   "metadata": {},
   "source": [
    "## MI"
   ]
  },
  {
   "cell_type": "code",
   "execution_count": null,
   "id": "8647f8cd",
   "metadata": {},
   "outputs": [],
   "source": [
    "### 3m"
   ]
  },
  {
   "cell_type": "code",
   "execution_count": 62,
   "id": "2b9f21ce",
   "metadata": {},
   "outputs": [
    {
     "data": {
      "text/plain": [
       "25%    0.37\n",
       "50%    0.41\n",
       "75%    0.46\n",
       "dtype: float64"
      ]
     },
     "execution_count": 62,
     "metadata": {},
     "output_type": "execute_result"
    }
   ],
   "source": [
    "gm_high_coverage_3m_trim_mi = gm_high_coverage_3m_trim[gm_high_coverage_3m_trim['state'] == 'MI']\n",
    "margin_distr_3m_mi = gm_high_coverage_3m_trim_mi.groupby(['date'])['gm_past_quarter_final'].describe().reset_index()\n",
    "margin_distr_3m_mi['date'] = pd.to_datetime(margin_distr_3m_mi['date'])\n",
    "\n",
    "margin_distr_3m_mi[['25%','50%','75%']].mean().round(2)\n",
    "\n"
   ]
  },
  {
   "cell_type": "code",
   "execution_count": 63,
   "id": "36993f35",
   "metadata": {},
   "outputs": [
    {
     "data": {
      "text/plain": [
       "25%    0.34\n",
       "50%    0.40\n",
       "75%    0.45\n",
       "dtype: float64"
      ]
     },
     "execution_count": 63,
     "metadata": {},
     "output_type": "execute_result"
    }
   ],
   "source": [
    "margin_distr_3m_mi[margin_distr_3m_mi['date'] >= '2021-01-01'][['25%','50%','75%']].mean().round(2)"
   ]
  },
  {
   "cell_type": "code",
   "execution_count": 134,
   "id": "c5c8ac57",
   "metadata": {},
   "outputs": [
    {
     "data": {
      "text/plain": [
       "(0.3286315789473684, 0.3788421052631579, 0.44189473684210523)"
      ]
     },
     "execution_count": 134,
     "metadata": {},
     "output_type": "execute_result"
    }
   ],
   "source": [
    "gm_high_coverage_3m_trim_mi['date'] = pd.to_datetime(gm_high_coverage_3m_trim_mi['date'])\n",
    "(gm_high_coverage_3m_trim_mi[gm_high_coverage_3m_trim_mi['date'] >= '2021-01-01'].groupby(['date'])['gm_past_quarter_final'].quantile(0.2).mean(),\\\n",
    "gm_high_coverage_3m_trim_mi[gm_high_coverage_3m_trim_mi['date'] >= '2021-01-01'].groupby(['date'])['gm_past_quarter_final'].quantile(0.4).mean(),\\\n",
    " gm_high_coverage_3m_trim_mi[gm_high_coverage_3m_trim_mi['date'] >= '2021-01-01'].groupby(['date'])['gm_past_quarter_final'].quantile(0.7).mean())\n",
    "\n",
    "\n"
   ]
  },
  {
   "cell_type": "code",
   "execution_count": null,
   "id": "475aeacf",
   "metadata": {},
   "outputs": [],
   "source": [
    "### 6m"
   ]
  },
  {
   "cell_type": "code",
   "execution_count": 64,
   "id": "e70d1807",
   "metadata": {},
   "outputs": [
    {
     "data": {
      "text/plain": [
       "25%    0.40\n",
       "50%    0.43\n",
       "75%    0.46\n",
       "dtype: float64"
      ]
     },
     "execution_count": 64,
     "metadata": {},
     "output_type": "execute_result"
    }
   ],
   "source": [
    "gm_high_coverage_6m_trim_mi = gm_high_coverage_6m_trim[gm_high_coverage_6m_trim['state'] == 'MI']\n",
    "margin_distr_6m_mi = gm_high_coverage_6m_trim_mi.groupby(['date'])['gm_past_2quarters_final'].describe().reset_index()\n",
    "margin_distr_6m_mi['date'] = pd.to_datetime(margin_distr_6m_mi['date'])\n",
    "\n",
    "margin_distr_6m_mi[['25%','50%','75%']].mean().round(2)\n",
    "\n"
   ]
  },
  {
   "cell_type": "code",
   "execution_count": 65,
   "id": "407b1644",
   "metadata": {},
   "outputs": [
    {
     "data": {
      "text/plain": [
       "25%    0.37\n",
       "50%    0.41\n",
       "75%    0.45\n",
       "dtype: float64"
      ]
     },
     "execution_count": 65,
     "metadata": {},
     "output_type": "execute_result"
    }
   ],
   "source": [
    "margin_distr_6m_mi[margin_distr_6m_mi['date'] >= '2021-01-01'][['25%','50%','75%']].mean().round(2)"
   ]
  },
  {
   "cell_type": "code",
   "execution_count": 139,
   "id": "9de2a78a",
   "metadata": {},
   "outputs": [
    {
     "data": {
      "text/plain": [
       "(0.3647368421052632, 0.39315789473684204, 0.44294736842105253)"
      ]
     },
     "execution_count": 139,
     "metadata": {},
     "output_type": "execute_result"
    }
   ],
   "source": [
    "gm_high_coverage_6m_trim_mi['date'] = pd.to_datetime(gm_high_coverage_6m_trim_mi['date'])\n",
    "(gm_high_coverage_6m_trim_mi[gm_high_coverage_6m_trim_mi['date'] >= '2021-01-01'].groupby(['date'])['gm_past_2quarters_final'].quantile(0.2).mean(),\\\n",
    "gm_high_coverage_6m_trim_mi[gm_high_coverage_6m_trim_mi['date'] >= '2021-01-01'].groupby(['date'])['gm_past_2quarters_final'].quantile(0.4).mean(),\\\n",
    " gm_high_coverage_6m_trim_mi[gm_high_coverage_6m_trim_mi['date'] >= '2021-01-01'].groupby(['date'])['gm_past_2quarters_final'].quantile(0.7).mean())\n",
    "\n",
    "\n"
   ]
  },
  {
   "cell_type": "code",
   "execution_count": null,
   "id": "83a8d286",
   "metadata": {},
   "outputs": [],
   "source": [
    "### 9m"
   ]
  },
  {
   "cell_type": "code",
   "execution_count": 66,
   "id": "59c9b342",
   "metadata": {},
   "outputs": [
    {
     "data": {
      "text/plain": [
       "25%    0.41\n",
       "50%    0.43\n",
       "75%    0.46\n",
       "dtype: float64"
      ]
     },
     "execution_count": 66,
     "metadata": {},
     "output_type": "execute_result"
    }
   ],
   "source": [
    "gm_high_coverage_9m_trim_mi = gm_high_coverage_9m_trim[gm_high_coverage_9m_trim['state'] == 'MI']\n",
    "margin_distr_9m_mi = gm_high_coverage_9m_trim_mi.groupby(['date'])['gm_past_3quarters_final'].describe().reset_index()\n",
    "margin_distr_9m_mi['date'] = pd.to_datetime(margin_distr_9m_mi['date'])\n",
    "\n",
    "margin_distr_9m_mi[['25%','50%','75%']].mean().round(2)\n",
    "\n"
   ]
  },
  {
   "cell_type": "code",
   "execution_count": 67,
   "id": "03318e84",
   "metadata": {},
   "outputs": [
    {
     "data": {
      "text/plain": [
       "25%    0.39\n",
       "50%    0.41\n",
       "75%    0.46\n",
       "dtype: float64"
      ]
     },
     "execution_count": 67,
     "metadata": {},
     "output_type": "execute_result"
    }
   ],
   "source": [
    "margin_distr_9m_mi[margin_distr_9m_mi['date'] >= '2021-01-01'][['25%','50%','75%']].mean().round(2)"
   ]
  },
  {
   "cell_type": "code",
   "execution_count": 140,
   "id": "8f792bc8",
   "metadata": {},
   "outputs": [
    {
     "data": {
      "text/plain": [
       "(0.3878947368421053, 0.4030526315789474, 0.4472631578947368)"
      ]
     },
     "execution_count": 140,
     "metadata": {},
     "output_type": "execute_result"
    }
   ],
   "source": [
    "gm_high_coverage_9m_trim_mi['date'] = pd.to_datetime(gm_high_coverage_9m_trim_mi['date'])\n",
    "(gm_high_coverage_9m_trim_mi[gm_high_coverage_9m_trim_mi['date'] >= '2021-01-01'].groupby(['date'])['gm_past_3quarters_final'].quantile(0.2).mean(),\\\n",
    "gm_high_coverage_9m_trim_mi[gm_high_coverage_9m_trim_mi['date'] >= '2021-01-01'].groupby(['date'])['gm_past_3quarters_final'].quantile(0.4).mean(),\\\n",
    " gm_high_coverage_9m_trim_mi[gm_high_coverage_9m_trim_mi['date'] >= '2021-01-01'].groupby(['date'])['gm_past_3quarters_final'].quantile(0.7).mean())\n",
    "\n",
    "\n"
   ]
  },
  {
   "cell_type": "markdown",
   "id": "60cad8b1",
   "metadata": {},
   "source": [
    "## MA"
   ]
  },
  {
   "cell_type": "code",
   "execution_count": 68,
   "id": "686adb49",
   "metadata": {},
   "outputs": [],
   "source": [
    "### 3m"
   ]
  },
  {
   "cell_type": "code",
   "execution_count": 69,
   "id": "0286e90a",
   "metadata": {},
   "outputs": [
    {
     "data": {
      "text/plain": [
       "25%    0.53\n",
       "50%    0.53\n",
       "75%    0.54\n",
       "dtype: float64"
      ]
     },
     "execution_count": 69,
     "metadata": {},
     "output_type": "execute_result"
    }
   ],
   "source": [
    "gm_high_coverage_3m_trim_ma = gm_high_coverage_3m_trim[gm_high_coverage_3m_trim['state'] == 'MA']\n",
    "margin_distr_3m_ma = gm_high_coverage_3m_trim_ma.groupby(['date'])['gm_past_quarter_final'].describe().reset_index()\n",
    "margin_distr_3m_ma['date'] = pd.to_datetime(margin_distr_3m_ma['date'])\n",
    "\n",
    "margin_distr_3m_ma[['25%','50%','75%']].mean().round(2)\n",
    "\n"
   ]
  },
  {
   "cell_type": "code",
   "execution_count": 70,
   "id": "60622421",
   "metadata": {},
   "outputs": [
    {
     "data": {
      "text/plain": [
       "25%    0.53\n",
       "50%    0.53\n",
       "75%    0.55\n",
       "dtype: float64"
      ]
     },
     "execution_count": 70,
     "metadata": {},
     "output_type": "execute_result"
    }
   ],
   "source": [
    "margin_distr_3m_ma[margin_distr_3m_ma['date'] >= '2021-01-01'][['25%','50%','75%']].mean().round(2)"
   ]
  },
  {
   "cell_type": "code",
   "execution_count": 141,
   "id": "2e4357b0",
   "metadata": {},
   "outputs": [
    {
     "data": {
      "text/plain": [
       "(0.526, 0.5313684210526317, 0.5423684210526316)"
      ]
     },
     "execution_count": 141,
     "metadata": {},
     "output_type": "execute_result"
    }
   ],
   "source": [
    "gm_high_coverage_3m_trim_ma['date'] = pd.to_datetime(gm_high_coverage_3m_trim_ma['date'])\n",
    "(gm_high_coverage_3m_trim_ma[gm_high_coverage_3m_trim_ma['date'] >= '2021-01-01'].groupby(['date'])['gm_past_quarter_final'].quantile(0.2).mean(),\\\n",
    "gm_high_coverage_3m_trim_ma[gm_high_coverage_3m_trim_ma['date'] >= '2021-01-01'].groupby(['date'])['gm_past_quarter_final'].quantile(0.4).mean(),\\\n",
    " gm_high_coverage_3m_trim_ma[gm_high_coverage_3m_trim_ma['date'] >= '2021-01-01'].groupby(['date'])['gm_past_quarter_final'].quantile(0.7).mean())\n",
    "\n",
    "\n"
   ]
  },
  {
   "cell_type": "code",
   "execution_count": 71,
   "id": "85d0318f",
   "metadata": {},
   "outputs": [],
   "source": [
    "### 6m"
   ]
  },
  {
   "cell_type": "code",
   "execution_count": 72,
   "id": "cf9982fa",
   "metadata": {},
   "outputs": [
    {
     "data": {
      "text/plain": [
       "25%    0.53\n",
       "50%    0.53\n",
       "75%    0.54\n",
       "dtype: float64"
      ]
     },
     "execution_count": 72,
     "metadata": {},
     "output_type": "execute_result"
    }
   ],
   "source": [
    "gm_high_coverage_6m_trim_ma = gm_high_coverage_6m_trim[gm_high_coverage_6m_trim['state'] == 'MA']\n",
    "margin_distr_6m_ma = gm_high_coverage_6m_trim_ma.groupby(['date'])['gm_past_2quarters_final'].describe().reset_index()\n",
    "margin_distr_6m_ma['date'] = pd.to_datetime(margin_distr_6m_ma['date'])\n",
    "\n",
    "margin_distr_6m_ma[['25%','50%','75%']].mean().round(2)\n",
    "\n"
   ]
  },
  {
   "cell_type": "code",
   "execution_count": 73,
   "id": "822820f5",
   "metadata": {},
   "outputs": [
    {
     "data": {
      "text/plain": [
       "25%    0.53\n",
       "50%    0.53\n",
       "75%    0.55\n",
       "dtype: float64"
      ]
     },
     "execution_count": 73,
     "metadata": {},
     "output_type": "execute_result"
    }
   ],
   "source": [
    "margin_distr_6m_ma[margin_distr_6m_ma['date'] >= '2021-01-01'][['25%','50%','75%']].mean().round(2)"
   ]
  },
  {
   "cell_type": "code",
   "execution_count": 142,
   "id": "7ed6ea0a",
   "metadata": {},
   "outputs": [
    {
     "data": {
      "text/plain": [
       "(0.5276842105263159, 0.5312631578947368, 0.5418421052631579)"
      ]
     },
     "execution_count": 142,
     "metadata": {},
     "output_type": "execute_result"
    }
   ],
   "source": [
    "gm_high_coverage_6m_trim_ma['date'] = pd.to_datetime(gm_high_coverage_6m_trim_ma['date'])\n",
    "(gm_high_coverage_6m_trim_ma[gm_high_coverage_6m_trim_ma['date'] >= '2021-01-01'].groupby(['date'])['gm_past_2quarters_final'].quantile(0.2).mean(),\\\n",
    "gm_high_coverage_6m_trim_ma[gm_high_coverage_6m_trim_ma['date'] >= '2021-01-01'].groupby(['date'])['gm_past_2quarters_final'].quantile(0.4).mean(),\\\n",
    " gm_high_coverage_6m_trim_ma[gm_high_coverage_6m_trim_ma['date'] >= '2021-01-01'].groupby(['date'])['gm_past_2quarters_final'].quantile(0.7).mean())\n",
    "\n",
    "\n"
   ]
  },
  {
   "cell_type": "code",
   "execution_count": null,
   "id": "419d4dbd",
   "metadata": {},
   "outputs": [],
   "source": [
    "### 9m"
   ]
  },
  {
   "cell_type": "code",
   "execution_count": 74,
   "id": "d0b4d30d",
   "metadata": {},
   "outputs": [
    {
     "data": {
      "text/plain": [
       "25%    0.53\n",
       "50%    0.54\n",
       "75%    0.55\n",
       "dtype: float64"
      ]
     },
     "execution_count": 74,
     "metadata": {},
     "output_type": "execute_result"
    }
   ],
   "source": [
    "gm_high_coverage_9m_trim_ma = gm_high_coverage_9m_trim[gm_high_coverage_9m_trim['state'] == 'MA']\n",
    "margin_distr_9m_ma = gm_high_coverage_9m_trim_ma.groupby(['date'])['gm_past_3quarters_final'].describe().reset_index()\n",
    "margin_distr_9m_ma['date'] = pd.to_datetime(margin_distr_9m_ma['date'])\n",
    "\n",
    "margin_distr_9m_ma[['25%','50%','75%']].mean().round(2)\n",
    "\n"
   ]
  },
  {
   "cell_type": "code",
   "execution_count": 75,
   "id": "3892b4af",
   "metadata": {},
   "outputs": [
    {
     "data": {
      "text/plain": [
       "25%    0.53\n",
       "50%    0.54\n",
       "75%    0.55\n",
       "dtype: float64"
      ]
     },
     "execution_count": 75,
     "metadata": {},
     "output_type": "execute_result"
    }
   ],
   "source": [
    "margin_distr_9m_ma[margin_distr_9m_ma['date'] >= '2021-01-01'][['25%','50%','75%']].mean().round(2)"
   ]
  },
  {
   "cell_type": "code",
   "execution_count": 143,
   "id": "3ff90fef",
   "metadata": {},
   "outputs": [
    {
     "data": {
      "text/plain": [
       "(0.5323333333333333, 0.5357777777777778, 0.5487222222222222)"
      ]
     },
     "execution_count": 143,
     "metadata": {},
     "output_type": "execute_result"
    }
   ],
   "source": [
    "gm_high_coverage_9m_trim_ma['date'] = pd.to_datetime(gm_high_coverage_9m_trim_ma['date'])\n",
    "(gm_high_coverage_9m_trim_ma[gm_high_coverage_9m_trim_ma['date'] >= '2021-01-01'].groupby(['date'])['gm_past_3quarters_final'].quantile(0.2).mean(),\\\n",
    "gm_high_coverage_9m_trim_ma[gm_high_coverage_9m_trim_ma['date'] >= '2021-01-01'].groupby(['date'])['gm_past_3quarters_final'].quantile(0.4).mean(),\\\n",
    " gm_high_coverage_9m_trim_ma[gm_high_coverage_9m_trim_ma['date'] >= '2021-01-01'].groupby(['date'])['gm_past_3quarters_final'].quantile(0.7).mean())\n",
    "\n",
    "\n"
   ]
  },
  {
   "cell_type": "code",
   "execution_count": null,
   "id": "d989979a",
   "metadata": {},
   "outputs": [],
   "source": [
    "df_clients = [\n",
    "'DL',\n",
    "'DW',\n",
    "'EMA',\n",
    "'EMM',\n",
    "'EMT',\n",
    "'EMF',\n",
    "'ST',\n",
    "'GRG',\n",
    "'EL',\n",
    "'VS',\n",
    "'TT',\n",
    "'MD',\n",
    "'DWF',\n",
    "'GHC',\n",
    "'SV',\n",
    "'99HT',\n",
    "'NECC',\n",
    "'MPW',\n",
    "'LBC'\n",
    "]\n",
    "\n",
    "data_client = gm[gm['company_identifier'].isin(df_clients)]"
   ]
  },
  {
   "cell_type": "code",
   "execution_count": null,
   "id": "859584e1",
   "metadata": {},
   "outputs": [],
   "source": [
    "gm_high_coverage = data_client[data_client['coverage'] >= 0.7]\n",
    "\n",
    "gm_high_coverage_3m_trim = gm_high_coverage[(gm_high_coverage['gm_past_quarter'] > 0.2) & (gm_high_coverage['gm_past_quarter'] < 0.8) & (gm_high_coverage['date'] < '2022-07-01')]\n",
    "\n",
    "gm_high_coverage_6m_trim = gm_high_coverage[(gm_high_coverage['gm_past_2quarters'] > 0.2) & (gm_high_coverage['gm_past_2quarters'] < 0.8) & (gm_high_coverage['date'] < '2022-07-01')]\n",
    "\n",
    "gm_high_coverage_9m_trim = gm_high_coverage[(gm_high_coverage['gm_past_3quarters'] > 0.2) & (gm_high_coverage['gm_past_3quarters'] < 0.8) & (gm_high_coverage['date'] < '2022-07-01')]\n",
    "\n"
   ]
  },
  {
   "cell_type": "code",
   "execution_count": null,
   "id": "fb1cf4b7",
   "metadata": {},
   "outputs": [],
   "source": [
    "## CA\n",
    "\n",
    "### 3m\n",
    "\n",
    "gm_high_coverage_3m_trim_ca = gm_high_coverage_3m_trim[gm_high_coverage_3m_trim['state'] == 'CA']\n",
    "\n",
    "margin_distr_3m_ca = gm_high_coverage_3m_trim_ca.groupby(['date'])['gm_past_quarter_after_tax'].describe().reset_index()\n",
    "margin_distr_3m_ca['date'] = pd.to_datetime(margin_distr_3m_ca['date'])\n",
    "\n",
    "\n",
    "\n",
    "#margin_distr_3m_ca[['25%','50%','75%']].mean().round(2)\n",
    "\n",
    "margin_distr_3m_ca[margin_distr_3m_ca['date'] >= '2021-01-01'][['25%','50%','75%']].mean().round(2)"
   ]
  },
  {
   "cell_type": "code",
   "execution_count": null,
   "id": "519f7829",
   "metadata": {},
   "outputs": [],
   "source": [
    "### 6m\n",
    "\n",
    "gm_high_coverage_6m_trim_ca = gm_high_coverage_6m_trim[gm_high_coverage_6m_trim['state'] == 'CA']\n",
    "margin_distr_6m_ca = gm_high_coverage_6m_trim_ca.groupby(['date'])['gm_past_2quarters_after_tax'].describe().reset_index()\n",
    "margin_distr_6m_ca['date'] = pd.to_datetime(margin_distr_6m_ca['date'])\n",
    "\n",
    "#margin_distr_6m_ca[['25%','50%','75%']].mean().round(2)\n",
    "\n",
    "\n",
    "\n",
    "margin_distr_6m_ca[margin_distr_6m_ca['date'] >= '2021-01-01'][['25%','50%','75%']].mean().round(2)"
   ]
  },
  {
   "cell_type": "code",
   "execution_count": null,
   "id": "488122e3",
   "metadata": {},
   "outputs": [],
   "source": [
    "### 9m\n",
    "\n",
    "gm_high_coverage_9m_trim_ca = gm_high_coverage_9m_trim[gm_high_coverage_9m_trim['state'] == 'CA']\n",
    "margin_distr_9m_ca = gm_high_coverage_9m_trim_ca.groupby(['date'])['gm_past_3quarters_after_tax'].describe().reset_index()\n",
    "margin_distr_9m_ca['date'] = pd.to_datetime(margin_distr_9m_ca['date'])\n",
    "\n",
    "#margin_distr_9m_ca[['25%','50%','75%']].mean().round(2)\n",
    "\n",
    "\n",
    "\n",
    "margin_distr_9m_ca[margin_distr_9m_ca['date'] >= '2021-01-01'][['25%','50%','75%']].mean().round(2)"
   ]
  },
  {
   "cell_type": "code",
   "execution_count": null,
   "id": "cbf5dc26",
   "metadata": {},
   "outputs": [],
   "source": [
    "## CO\n",
    "\n",
    "### 3m\n",
    "\n",
    "gm_high_coverage_3m_trim_co = gm_high_coverage_3m_trim[gm_high_coverage_3m_trim['state'] == 'CO']\n",
    "\n",
    "margin_distr_3m_co = gm_high_coverage_3m_trim_co.groupby(['date'])['gm_past_quarter'].describe().reset_index()\n",
    "margin_distr_3m_co['date'] = pd.to_datetime(margin_distr_3m_co['date'])\n",
    "margin_distr_3m_co[['25%','50%','75%']].mean().round(2)\n",
    "\n",
    "margin_distr_3m_co[margin_distr_3m_co['date'] >= '2021-01-01'][['25%','50%','75%']].mean().round(2)"
   ]
  },
  {
   "cell_type": "code",
   "execution_count": null,
   "id": "9b0bbe36",
   "metadata": {},
   "outputs": [],
   "source": [
    "\n",
    "\n",
    "### 6m\n",
    "\n",
    "gm_high_coverage_6m_trim_co = gm_high_coverage_6m_trim[gm_high_coverage_6m_trim['state'] == 'CO']\n",
    "margin_distr_6m_co = gm_high_coverage_6m_trim_co.groupby(['date'])['gm_past_2quarters'].describe().reset_index()\n",
    "margin_distr_6m_co['date'] = pd.to_datetime(margin_distr_6m_co['date'])\n",
    "\n",
    "margin_distr_6m_co[['25%','50%','75%']].mean().round(2)\n",
    "\n",
    "\n",
    "\n",
    "margin_distr_6m_co[margin_distr_6m_co['date'] >= '2021-01-01'][['25%','50%','75%']].mean().round(2)"
   ]
  },
  {
   "cell_type": "code",
   "execution_count": null,
   "id": "3e13690f",
   "metadata": {},
   "outputs": [],
   "source": [
    "### 9m\n",
    "\n",
    "gm_high_coverage_9m_trim_co = gm_high_coverage_9m_trim[gm_high_coverage_9m_trim['state'] == 'CO']\n",
    "margin_distr_9m_co = gm_high_coverage_9m_trim_co.groupby(['date'])['gm_past_3quarters'].describe().reset_index()\n",
    "margin_distr_9m_co['date'] = pd.to_datetime(margin_distr_9m_co['date'])\n",
    "\n",
    "margin_distr_9m_co[['25%','50%','75%']].mean().round(2)\n",
    "\n",
    "\n",
    "\n",
    "margin_distr_9m_co[margin_distr_9m_co['date'] >= '2021-01-01'][['25%','50%','75%']].mean().round(2)"
   ]
  },
  {
   "cell_type": "code",
   "execution_count": null,
   "id": "a0b4ccc4",
   "metadata": {},
   "outputs": [],
   "source": [
    "# ## MI\n",
    "\n",
    "# ### 3m\n",
    "\n",
    "# gm_high_coverage_3m_trim_mi = gm_high_coverage_3m_trim[gm_high_coverage_3m_trim['state'] == 'MI']\n",
    "# margin_distr_3m_mi = gm_high_coverage_3m_trim_mi.groupby(['date'])['gm_past_quarter'].describe().reset_index()\n",
    "# margin_distr_3m_mi['date'] = pd.to_datetime(margin_distr_3m_mi['date'])\n",
    "\n",
    "# margin_distr_3m_mi[['25%','50%','75%']].mean().round(2)\n",
    "\n",
    "\n",
    "\n",
    "# margin_distr_3m_mi[margin_distr_3m_mi['date'] >= '2021-01-01'][['25%','50%','75%']].mean().round(2)"
   ]
  },
  {
   "cell_type": "code",
   "execution_count": null,
   "id": "0da9e435",
   "metadata": {},
   "outputs": [],
   "source": [
    "# ### 6m\n",
    "\n",
    "# gm_high_coverage_6m_trim_mi = gm_high_coverage_6m_trim[gm_high_coverage_6m_trim['state'] == 'MI']\n",
    "# margin_distr_6m_mi = gm_high_coverage_6m_trim_mi.groupby(['date'])['gm_past_2quarters'].describe().reset_index()\n",
    "# margin_distr_6m_mi['date'] = pd.to_datetime(margin_distr_6m_mi['date'])\n",
    "\n",
    "# margin_distr_6m_mi[['25%','50%','75%']].mean().round(2)\n",
    "\n",
    "\n",
    "\n",
    "# margin_distr_6m_mi[margin_distr_6m_mi['date'] >= '2021-01-01'][['25%','50%','75%']].mean().round(2)"
   ]
  },
  {
   "cell_type": "code",
   "execution_count": null,
   "id": "36497b6c",
   "metadata": {},
   "outputs": [],
   "source": [
    "# ### 9m\n",
    "\n",
    "# gm_high_coverage_9m_trim_mi = gm_high_coverage_9m_trim[gm_high_coverage_9m_trim['state'] == 'MI']\n",
    "# margin_distr_9m_mi = gm_high_coverage_9m_trim_mi.groupby(['date'])['gm_past_3quarters'].describe().reset_index()\n",
    "# margin_distr_9m_mi['date'] = pd.to_datetime(margin_distr_9m_mi['date'])\n",
    "\n",
    "# margin_distr_9m_mi[['25%','50%','75%']].mean().round(2)\n",
    "\n",
    "\n",
    "\n",
    "# margin_distr_9m_mi[margin_distr_9m_mi['date'] >= '2021-01-01'][['25%','50%','75%']].mean().round(2)"
   ]
  },
  {
   "cell_type": "code",
   "execution_count": null,
   "id": "debf61b9",
   "metadata": {},
   "outputs": [],
   "source": [
    "## MA\n",
    "\n",
    "### 3m\n",
    "\n",
    "gm_high_coverage_3m_trim_ma = gm_high_coverage_3m_trim[gm_high_coverage_3m_trim['state'] == 'MA']\n",
    "margin_distr_3m_ma = gm_high_coverage_3m_trim_ma.groupby(['date'])['gm_past_quarter'].describe().reset_index()\n",
    "margin_distr_3m_ma['date'] = pd.to_datetime(margin_distr_3m_ma['date'])\n",
    "\n",
    "margin_distr_3m_ma[['25%','50%','75%']].mean().round(2)\n",
    "\n",
    "\n",
    "\n",
    "margin_distr_3m_ma[margin_distr_3m_ma['date'] >= '2021-01-01'][['25%','50%','75%']].mean().round(2)"
   ]
  },
  {
   "cell_type": "code",
   "execution_count": null,
   "id": "81276148",
   "metadata": {},
   "outputs": [],
   "source": [
    "### 6m\n",
    "\n",
    "gm_high_coverage_6m_trim_ma = gm_high_coverage_6m_trim[gm_high_coverage_6m_trim['state'] == 'MA']\n",
    "margin_distr_6m_ma = gm_high_coverage_6m_trim_ma.groupby(['date'])['gm_past_2quarters'].describe().reset_index()\n",
    "margin_distr_6m_ma['date'] = pd.to_datetime(margin_distr_6m_ma['date'])\n",
    "\n",
    "margin_distr_6m_ma[['25%','50%','75%']].mean().round(2)\n",
    "\n",
    "\n",
    "\n",
    "margin_distr_6m_ma[margin_distr_6m_ma['date'] >= '2021-01-01'][['25%','50%','75%']].mean().round(2)"
   ]
  },
  {
   "cell_type": "code",
   "execution_count": null,
   "id": "7e93240a",
   "metadata": {},
   "outputs": [],
   "source": [
    "### 9m\n",
    "\n",
    "gm_high_coverage_9m_trim_ma = gm_high_coverage_9m_trim[gm_high_coverage_9m_trim['state'] == 'MA']\n",
    "margin_distr_9m_ma = gm_high_coverage_9m_trim_ma.groupby(['date'])['gm_past_3quarters'].describe().reset_index()\n",
    "margin_distr_9m_ma['date'] = pd.to_datetime(margin_distr_9m_ma['date'])\n",
    "\n",
    "margin_distr_9m_ma[['25%','50%','75%']].mean().round(2)\n",
    "\n",
    "\n",
    "\n",
    "margin_distr_9m_ma[margin_distr_9m_ma['date'] >= '2021-01-01'][['25%','50%','75%']].mean().round(2)"
   ]
  },
  {
   "cell_type": "code",
   "execution_count": null,
   "id": "2dedecc7",
   "metadata": {},
   "outputs": [],
   "source": []
  }
 ],
 "metadata": {
  "kernelspec": {
   "display_name": "Python 3",
   "language": "python",
   "name": "python3"
  },
  "language_info": {
   "codemirror_mode": {
    "name": "ipython",
    "version": 3
   },
   "file_extension": ".py",
   "mimetype": "text/x-python",
   "name": "python",
   "nbconvert_exporter": "python",
   "pygments_lexer": "ipython3",
   "version": "3.8.10"
  }
 },
 "nbformat": 4,
 "nbformat_minor": 5
}
