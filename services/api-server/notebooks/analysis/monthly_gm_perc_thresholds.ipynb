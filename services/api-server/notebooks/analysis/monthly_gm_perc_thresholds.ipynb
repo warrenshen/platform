{
 "cells": [
  {
   "cell_type": "code",
   "execution_count": 1,
   "id": "33f794bb",
   "metadata": {},
   "outputs": [],
   "source": [
    "import warnings\n",
    "warnings.filterwarnings('ignore')"
   ]
  },
  {
   "cell_type": "code",
   "execution_count": 2,
   "id": "97b1ff9c",
   "metadata": {},
   "outputs": [],
   "source": [
    "import json\n",
    "import numpy \n",
    "import os\n",
    "import pandas as pd\n",
    "import matplotlib.pyplot as plt\n",
    "%matplotlib inline  \n",
    "import pyarrow\n",
    "import sys\n",
    "\n",
    "from datetime import date\n",
    "from dotenv import load_dotenv\n",
    "from sqlalchemy import create_engine\n",
    "from os import path\n",
    "from typing import List,Dict, Tuple\n",
    "from collections import defaultdict\n",
    "pd.set_option(\"display.max_columns\", None)\n",
    "\n",
    "load_dotenv(verbose=True)\n",
    "BIGQUERY_CREDENTIALS_PATH = os.environ.get('BIGQUERY_CREDENTIALS_PATH')\n",
    "engine = create_engine('bigquery://bespoke-financial/ProdMetrcData', credentials_path=os.path.expanduser(BIGQUERY_CREDENTIALS_PATH))\n",
    "\n",
    "sys.path.append(path.realpath(path.join(os.getcwd(), \"../core\")))\n",
    "sys.path.append(path.realpath(path.join(os.getcwd(), \"../../src\")))\n",
    "\n",
    "import create_queries\n",
    "import prepare_data\n",
    "\n",
    "from bespoke.inventory.analysis.shared import download_util, inventory_types\n",
    "from bespoke.inventory.analysis import active_inventory_util as util\n",
    "from bespoke.inventory.analysis import inventory_valuations_util as valuations_util\n",
    "\n",
    "%load_ext autoreload\n",
    "%autoreload 2"
   ]
  },
  {
   "cell_type": "code",
   "execution_count": 3,
   "id": "0d15c5fa",
   "metadata": {},
   "outputs": [],
   "source": [
    "gm = pd.read_csv('all_metrc_gm_0408.csv',index_col = 0)"
   ]
  },
  {
   "cell_type": "code",
   "execution_count": 4,
   "id": "e0787c30",
   "metadata": {},
   "outputs": [
    {
     "data": {
      "text/html": [
       "<div>\n",
       "<style scoped>\n",
       "    .dataframe tbody tr th:only-of-type {\n",
       "        vertical-align: middle;\n",
       "    }\n",
       "\n",
       "    .dataframe tbody tr th {\n",
       "        vertical-align: top;\n",
       "    }\n",
       "\n",
       "    .dataframe thead th {\n",
       "        text-align: right;\n",
       "    }\n",
       "</style>\n",
       "<table border=\"1\" class=\"dataframe\">\n",
       "  <thead>\n",
       "    <tr style=\"text-align: right;\">\n",
       "      <th></th>\n",
       "      <th>date</th>\n",
       "      <th>revenue</th>\n",
       "      <th>cogs</th>\n",
       "      <th>margin_$</th>\n",
       "      <th>margin_%</th>\n",
       "      <th>total_count_incoming</th>\n",
       "      <th>product_count</th>\n",
       "      <th>count_incoming</th>\n",
       "      <th>coverage</th>\n",
       "      <th>revenue_after_tax</th>\n",
       "      <th>cogs_after_tax</th>\n",
       "      <th>margin_$_after_tax</th>\n",
       "      <th>margin_%_after_tax</th>\n",
       "      <th>gm_past_quarter</th>\n",
       "      <th>gm_past_2quarters</th>\n",
       "      <th>gm_past_3quarters</th>\n",
       "      <th>gm_past_quarter_after_tax</th>\n",
       "      <th>gm_past_2quarters_after_tax</th>\n",
       "      <th>gm_past_3quarters_after_tax</th>\n",
       "      <th>gm$_past_quarter_after_tax</th>\n",
       "      <th>gm$_past_2quarters_after_tax</th>\n",
       "      <th>gm$_past_3quarters_after_tax</th>\n",
       "      <th>company</th>\n",
       "      <th>location</th>\n",
       "      <th>id</th>\n",
       "      <th>company_identifier</th>\n",
       "      <th>state</th>\n",
       "    </tr>\n",
       "  </thead>\n",
       "  <tbody>\n",
       "    <tr>\n",
       "      <th>0</th>\n",
       "      <td>2021-01</td>\n",
       "      <td>291646.25</td>\n",
       "      <td>69798.326998</td>\n",
       "      <td>221847.923002</td>\n",
       "      <td>0.760675</td>\n",
       "      <td>4808.0</td>\n",
       "      <td>2003.0</td>\n",
       "      <td>2805</td>\n",
       "      <td>0.696005</td>\n",
       "      <td>335393.1875</td>\n",
       "      <td>88643.875287</td>\n",
       "      <td>246749.312213</td>\n",
       "      <td>0.735702</td>\n",
       "      <td>NaN</td>\n",
       "      <td>NaN</td>\n",
       "      <td>NaN</td>\n",
       "      <td>NaN</td>\n",
       "      <td>NaN</td>\n",
       "      <td>NaN</td>\n",
       "      <td>NaN</td>\n",
       "      <td>NaN</td>\n",
       "      <td>NaN</td>\n",
       "      <td>99HT</td>\n",
       "      <td>C10-0000279-LIC</td>\n",
       "      <td>('99HT', 'C10-0000279-LIC')</td>\n",
       "      <td>99HT</td>\n",
       "      <td>CA</td>\n",
       "    </tr>\n",
       "    <tr>\n",
       "      <th>1</th>\n",
       "      <td>2021-02</td>\n",
       "      <td>262906.73</td>\n",
       "      <td>85244.682175</td>\n",
       "      <td>177662.047825</td>\n",
       "      <td>0.675761</td>\n",
       "      <td>5464.0</td>\n",
       "      <td>377.0</td>\n",
       "      <td>5087</td>\n",
       "      <td>0.948611</td>\n",
       "      <td>302342.7395</td>\n",
       "      <td>108260.746362</td>\n",
       "      <td>194081.993138</td>\n",
       "      <td>0.641927</td>\n",
       "      <td>NaN</td>\n",
       "      <td>NaN</td>\n",
       "      <td>NaN</td>\n",
       "      <td>NaN</td>\n",
       "      <td>NaN</td>\n",
       "      <td>NaN</td>\n",
       "      <td>NaN</td>\n",
       "      <td>NaN</td>\n",
       "      <td>NaN</td>\n",
       "      <td>99HT</td>\n",
       "      <td>C10-0000279-LIC</td>\n",
       "      <td>('99HT', 'C10-0000279-LIC')</td>\n",
       "      <td>99HT</td>\n",
       "      <td>CA</td>\n",
       "    </tr>\n",
       "    <tr>\n",
       "      <th>2</th>\n",
       "      <td>2021-03</td>\n",
       "      <td>315154.72</td>\n",
       "      <td>99796.521792</td>\n",
       "      <td>215358.198208</td>\n",
       "      <td>0.683341</td>\n",
       "      <td>6902.0</td>\n",
       "      <td>159.0</td>\n",
       "      <td>6743</td>\n",
       "      <td>0.951475</td>\n",
       "      <td>362427.9280</td>\n",
       "      <td>126741.582676</td>\n",
       "      <td>235686.345324</td>\n",
       "      <td>0.650299</td>\n",
       "      <td>0.706592</td>\n",
       "      <td>NaN</td>\n",
       "      <td>NaN</td>\n",
       "      <td>0.675976</td>\n",
       "      <td>NaN</td>\n",
       "      <td>NaN</td>\n",
       "      <td>225505.883559</td>\n",
       "      <td>NaN</td>\n",
       "      <td>NaN</td>\n",
       "      <td>99HT</td>\n",
       "      <td>C10-0000279-LIC</td>\n",
       "      <td>('99HT', 'C10-0000279-LIC')</td>\n",
       "      <td>99HT</td>\n",
       "      <td>CA</td>\n",
       "    </tr>\n",
       "    <tr>\n",
       "      <th>3</th>\n",
       "      <td>2021-04</td>\n",
       "      <td>329925.48</td>\n",
       "      <td>100825.215287</td>\n",
       "      <td>229100.264713</td>\n",
       "      <td>0.694400</td>\n",
       "      <td>7081.0</td>\n",
       "      <td>112.0</td>\n",
       "      <td>6969</td>\n",
       "      <td>0.931465</td>\n",
       "      <td>379414.3020</td>\n",
       "      <td>128048.023414</td>\n",
       "      <td>251366.278586</td>\n",
       "      <td>0.662511</td>\n",
       "      <td>0.684501</td>\n",
       "      <td>NaN</td>\n",
       "      <td>NaN</td>\n",
       "      <td>0.651579</td>\n",
       "      <td>NaN</td>\n",
       "      <td>NaN</td>\n",
       "      <td>227044.872350</td>\n",
       "      <td>NaN</td>\n",
       "      <td>NaN</td>\n",
       "      <td>99HT</td>\n",
       "      <td>C10-0000279-LIC</td>\n",
       "      <td>('99HT', 'C10-0000279-LIC')</td>\n",
       "      <td>99HT</td>\n",
       "      <td>CA</td>\n",
       "    </tr>\n",
       "    <tr>\n",
       "      <th>4</th>\n",
       "      <td>2021-05</td>\n",
       "      <td>336793.80</td>\n",
       "      <td>98971.770002</td>\n",
       "      <td>237822.029998</td>\n",
       "      <td>0.706135</td>\n",
       "      <td>7286.0</td>\n",
       "      <td>131.0</td>\n",
       "      <td>7155</td>\n",
       "      <td>0.918326</td>\n",
       "      <td>387312.8700</td>\n",
       "      <td>125694.147903</td>\n",
       "      <td>261618.722097</td>\n",
       "      <td>0.675471</td>\n",
       "      <td>0.694626</td>\n",
       "      <td>NaN</td>\n",
       "      <td>NaN</td>\n",
       "      <td>0.662760</td>\n",
       "      <td>NaN</td>\n",
       "      <td>NaN</td>\n",
       "      <td>249557.115336</td>\n",
       "      <td>NaN</td>\n",
       "      <td>NaN</td>\n",
       "      <td>99HT</td>\n",
       "      <td>C10-0000279-LIC</td>\n",
       "      <td>('99HT', 'C10-0000279-LIC')</td>\n",
       "      <td>99HT</td>\n",
       "      <td>CA</td>\n",
       "    </tr>\n",
       "    <tr>\n",
       "      <th>...</th>\n",
       "      <td>...</td>\n",
       "      <td>...</td>\n",
       "      <td>...</td>\n",
       "      <td>...</td>\n",
       "      <td>...</td>\n",
       "      <td>...</td>\n",
       "      <td>...</td>\n",
       "      <td>...</td>\n",
       "      <td>...</td>\n",
       "      <td>...</td>\n",
       "      <td>...</td>\n",
       "      <td>...</td>\n",
       "      <td>...</td>\n",
       "      <td>...</td>\n",
       "      <td>...</td>\n",
       "      <td>...</td>\n",
       "      <td>...</td>\n",
       "      <td>...</td>\n",
       "      <td>...</td>\n",
       "      <td>...</td>\n",
       "      <td>...</td>\n",
       "      <td>...</td>\n",
       "      <td>...</td>\n",
       "      <td>...</td>\n",
       "      <td>...</td>\n",
       "      <td>...</td>\n",
       "      <td>...</td>\n",
       "    </tr>\n",
       "    <tr>\n",
       "      <th>2446</th>\n",
       "      <td>2021-12</td>\n",
       "      <td>32715.38</td>\n",
       "      <td>12198.903894</td>\n",
       "      <td>20516.476106</td>\n",
       "      <td>0.627120</td>\n",
       "      <td>1062.0</td>\n",
       "      <td>129.0</td>\n",
       "      <td>933</td>\n",
       "      <td>0.919481</td>\n",
       "      <td>37622.6870</td>\n",
       "      <td>15492.607945</td>\n",
       "      <td>22130.079055</td>\n",
       "      <td>0.588211</td>\n",
       "      <td>0.678010</td>\n",
       "      <td>NaN</td>\n",
       "      <td>NaN</td>\n",
       "      <td>0.644411</td>\n",
       "      <td>NaN</td>\n",
       "      <td>NaN</td>\n",
       "      <td>16567.283526</td>\n",
       "      <td>NaN</td>\n",
       "      <td>NaN</td>\n",
       "      <td>VOY</td>\n",
       "      <td>C10-0000802-LIC</td>\n",
       "      <td>('VOY', 'C10-0000802-LIC')</td>\n",
       "      <td>VOY</td>\n",
       "      <td>CA</td>\n",
       "    </tr>\n",
       "    <tr>\n",
       "      <th>2447</th>\n",
       "      <td>2022-01</td>\n",
       "      <td>24339.01</td>\n",
       "      <td>11123.403847</td>\n",
       "      <td>13215.606153</td>\n",
       "      <td>0.542980</td>\n",
       "      <td>831.0</td>\n",
       "      <td>43.0</td>\n",
       "      <td>788</td>\n",
       "      <td>0.936866</td>\n",
       "      <td>27989.8615</td>\n",
       "      <td>14126.722885</td>\n",
       "      <td>13863.138615</td>\n",
       "      <td>0.495291</td>\n",
       "      <td>0.626175</td>\n",
       "      <td>NaN</td>\n",
       "      <td>NaN</td>\n",
       "      <td>0.587167</td>\n",
       "      <td>NaN</td>\n",
       "      <td>NaN</td>\n",
       "      <td>16873.765070</td>\n",
       "      <td>NaN</td>\n",
       "      <td>NaN</td>\n",
       "      <td>VOY</td>\n",
       "      <td>C10-0000802-LIC</td>\n",
       "      <td>('VOY', 'C10-0000802-LIC')</td>\n",
       "      <td>VOY</td>\n",
       "      <td>CA</td>\n",
       "    </tr>\n",
       "    <tr>\n",
       "      <th>2448</th>\n",
       "      <td>2022-02</td>\n",
       "      <td>24450.82</td>\n",
       "      <td>10410.082937</td>\n",
       "      <td>14040.737063</td>\n",
       "      <td>0.574244</td>\n",
       "      <td>796.0</td>\n",
       "      <td>37.0</td>\n",
       "      <td>759</td>\n",
       "      <td>0.953293</td>\n",
       "      <td>28118.4430</td>\n",
       "      <td>13220.805331</td>\n",
       "      <td>14897.637669</td>\n",
       "      <td>0.529817</td>\n",
       "      <td>0.581448</td>\n",
       "      <td>0.605722</td>\n",
       "      <td>NaN</td>\n",
       "      <td>0.537773</td>\n",
       "      <td>0.564580</td>\n",
       "      <td>NaN</td>\n",
       "      <td>16963.618446</td>\n",
       "      <td>14587.000533</td>\n",
       "      <td>NaN</td>\n",
       "      <td>VOY</td>\n",
       "      <td>C10-0000802-LIC</td>\n",
       "      <td>('VOY', 'C10-0000802-LIC')</td>\n",
       "      <td>VOY</td>\n",
       "      <td>CA</td>\n",
       "    </tr>\n",
       "    <tr>\n",
       "      <th>2449</th>\n",
       "      <td>2022-03</td>\n",
       "      <td>27920.68</td>\n",
       "      <td>11465.072300</td>\n",
       "      <td>16455.607700</td>\n",
       "      <td>0.589370</td>\n",
       "      <td>933.0</td>\n",
       "      <td>54.0</td>\n",
       "      <td>879</td>\n",
       "      <td>0.947208</td>\n",
       "      <td>32108.7820</td>\n",
       "      <td>14560.641821</td>\n",
       "      <td>17548.140179</td>\n",
       "      <td>0.546522</td>\n",
       "      <td>0.568865</td>\n",
       "      <td>0.623437</td>\n",
       "      <td>NaN</td>\n",
       "      <td>0.523877</td>\n",
       "      <td>0.584144</td>\n",
       "      <td>NaN</td>\n",
       "      <td>15436.305488</td>\n",
       "      <td>16001.794507</td>\n",
       "      <td>NaN</td>\n",
       "      <td>VOY</td>\n",
       "      <td>C10-0000802-LIC</td>\n",
       "      <td>('VOY', 'C10-0000802-LIC')</td>\n",
       "      <td>VOY</td>\n",
       "      <td>CA</td>\n",
       "    </tr>\n",
       "    <tr>\n",
       "      <th>2450</th>\n",
       "      <td>2022-04</td>\n",
       "      <td>5013.70</td>\n",
       "      <td>1757.345833</td>\n",
       "      <td>3256.354167</td>\n",
       "      <td>0.649491</td>\n",
       "      <td>168.0</td>\n",
       "      <td>8.0</td>\n",
       "      <td>160</td>\n",
       "      <td>0.943820</td>\n",
       "      <td>5765.7550</td>\n",
       "      <td>2231.829208</td>\n",
       "      <td>3533.925792</td>\n",
       "      <td>0.612916</td>\n",
       "      <td>0.604368</td>\n",
       "      <td>0.615272</td>\n",
       "      <td>NaN</td>\n",
       "      <td>0.563085</td>\n",
       "      <td>0.575126</td>\n",
       "      <td>NaN</td>\n",
       "      <td>11993.234547</td>\n",
       "      <td>14433.499808</td>\n",
       "      <td>NaN</td>\n",
       "      <td>VOY</td>\n",
       "      <td>C10-0000802-LIC</td>\n",
       "      <td>('VOY', 'C10-0000802-LIC')</td>\n",
       "      <td>VOY</td>\n",
       "      <td>CA</td>\n",
       "    </tr>\n",
       "  </tbody>\n",
       "</table>\n",
       "<p>2451 rows × 27 columns</p>\n",
       "</div>"
      ],
      "text/plain": [
       "         date    revenue           cogs       margin_$  margin_%  \\\n",
       "0     2021-01  291646.25   69798.326998  221847.923002  0.760675   \n",
       "1     2021-02  262906.73   85244.682175  177662.047825  0.675761   \n",
       "2     2021-03  315154.72   99796.521792  215358.198208  0.683341   \n",
       "3     2021-04  329925.48  100825.215287  229100.264713  0.694400   \n",
       "4     2021-05  336793.80   98971.770002  237822.029998  0.706135   \n",
       "...       ...        ...            ...            ...       ...   \n",
       "2446  2021-12   32715.38   12198.903894   20516.476106  0.627120   \n",
       "2447  2022-01   24339.01   11123.403847   13215.606153  0.542980   \n",
       "2448  2022-02   24450.82   10410.082937   14040.737063  0.574244   \n",
       "2449  2022-03   27920.68   11465.072300   16455.607700  0.589370   \n",
       "2450  2022-04    5013.70    1757.345833    3256.354167  0.649491   \n",
       "\n",
       "      total_count_incoming  product_count  count_incoming  coverage  \\\n",
       "0                   4808.0         2003.0            2805  0.696005   \n",
       "1                   5464.0          377.0            5087  0.948611   \n",
       "2                   6902.0          159.0            6743  0.951475   \n",
       "3                   7081.0          112.0            6969  0.931465   \n",
       "4                   7286.0          131.0            7155  0.918326   \n",
       "...                    ...            ...             ...       ...   \n",
       "2446                1062.0          129.0             933  0.919481   \n",
       "2447                 831.0           43.0             788  0.936866   \n",
       "2448                 796.0           37.0             759  0.953293   \n",
       "2449                 933.0           54.0             879  0.947208   \n",
       "2450                 168.0            8.0             160  0.943820   \n",
       "\n",
       "      revenue_after_tax  cogs_after_tax  margin_$_after_tax  \\\n",
       "0           335393.1875    88643.875287       246749.312213   \n",
       "1           302342.7395   108260.746362       194081.993138   \n",
       "2           362427.9280   126741.582676       235686.345324   \n",
       "3           379414.3020   128048.023414       251366.278586   \n",
       "4           387312.8700   125694.147903       261618.722097   \n",
       "...                 ...             ...                 ...   \n",
       "2446         37622.6870    15492.607945        22130.079055   \n",
       "2447         27989.8615    14126.722885        13863.138615   \n",
       "2448         28118.4430    13220.805331        14897.637669   \n",
       "2449         32108.7820    14560.641821        17548.140179   \n",
       "2450          5765.7550     2231.829208         3533.925792   \n",
       "\n",
       "      margin_%_after_tax  gm_past_quarter  gm_past_2quarters  \\\n",
       "0               0.735702              NaN                NaN   \n",
       "1               0.641927              NaN                NaN   \n",
       "2               0.650299         0.706592                NaN   \n",
       "3               0.662511         0.684501                NaN   \n",
       "4               0.675471         0.694626                NaN   \n",
       "...                  ...              ...                ...   \n",
       "2446            0.588211         0.678010                NaN   \n",
       "2447            0.495291         0.626175                NaN   \n",
       "2448            0.529817         0.581448           0.605722   \n",
       "2449            0.546522         0.568865           0.623437   \n",
       "2450            0.612916         0.604368           0.615272   \n",
       "\n",
       "      gm_past_3quarters  gm_past_quarter_after_tax  \\\n",
       "0                   NaN                        NaN   \n",
       "1                   NaN                        NaN   \n",
       "2                   NaN                   0.675976   \n",
       "3                   NaN                   0.651579   \n",
       "4                   NaN                   0.662760   \n",
       "...                 ...                        ...   \n",
       "2446                NaN                   0.644411   \n",
       "2447                NaN                   0.587167   \n",
       "2448                NaN                   0.537773   \n",
       "2449                NaN                   0.523877   \n",
       "2450                NaN                   0.563085   \n",
       "\n",
       "      gm_past_2quarters_after_tax  gm_past_3quarters_after_tax  \\\n",
       "0                             NaN                          NaN   \n",
       "1                             NaN                          NaN   \n",
       "2                             NaN                          NaN   \n",
       "3                             NaN                          NaN   \n",
       "4                             NaN                          NaN   \n",
       "...                           ...                          ...   \n",
       "2446                          NaN                          NaN   \n",
       "2447                          NaN                          NaN   \n",
       "2448                     0.564580                          NaN   \n",
       "2449                     0.584144                          NaN   \n",
       "2450                     0.575126                          NaN   \n",
       "\n",
       "      gm$_past_quarter_after_tax  gm$_past_2quarters_after_tax  \\\n",
       "0                            NaN                           NaN   \n",
       "1                            NaN                           NaN   \n",
       "2                  225505.883559                           NaN   \n",
       "3                  227044.872350                           NaN   \n",
       "4                  249557.115336                           NaN   \n",
       "...                          ...                           ...   \n",
       "2446                16567.283526                           NaN   \n",
       "2447                16873.765070                           NaN   \n",
       "2448                16963.618446                  14587.000533   \n",
       "2449                15436.305488                  16001.794507   \n",
       "2450                11993.234547                  14433.499808   \n",
       "\n",
       "      gm$_past_3quarters_after_tax company         location  \\\n",
       "0                              NaN    99HT  C10-0000279-LIC   \n",
       "1                              NaN    99HT  C10-0000279-LIC   \n",
       "2                              NaN    99HT  C10-0000279-LIC   \n",
       "3                              NaN    99HT  C10-0000279-LIC   \n",
       "4                              NaN    99HT  C10-0000279-LIC   \n",
       "...                            ...     ...              ...   \n",
       "2446                           NaN     VOY  C10-0000802-LIC   \n",
       "2447                           NaN     VOY  C10-0000802-LIC   \n",
       "2448                           NaN     VOY  C10-0000802-LIC   \n",
       "2449                           NaN     VOY  C10-0000802-LIC   \n",
       "2450                           NaN     VOY  C10-0000802-LIC   \n",
       "\n",
       "                               id company_identifier state  \n",
       "0     ('99HT', 'C10-0000279-LIC')               99HT    CA  \n",
       "1     ('99HT', 'C10-0000279-LIC')               99HT    CA  \n",
       "2     ('99HT', 'C10-0000279-LIC')               99HT    CA  \n",
       "3     ('99HT', 'C10-0000279-LIC')               99HT    CA  \n",
       "4     ('99HT', 'C10-0000279-LIC')               99HT    CA  \n",
       "...                           ...                ...   ...  \n",
       "2446   ('VOY', 'C10-0000802-LIC')                VOY    CA  \n",
       "2447   ('VOY', 'C10-0000802-LIC')                VOY    CA  \n",
       "2448   ('VOY', 'C10-0000802-LIC')                VOY    CA  \n",
       "2449   ('VOY', 'C10-0000802-LIC')                VOY    CA  \n",
       "2450   ('VOY', 'C10-0000802-LIC')                VOY    CA  \n",
       "\n",
       "[2451 rows x 27 columns]"
      ]
     },
     "execution_count": 4,
     "metadata": {},
     "output_type": "execute_result"
    }
   ],
   "source": [
    "gm"
   ]
  },
  {
   "cell_type": "code",
   "execution_count": 5,
   "id": "fee74a90",
   "metadata": {},
   "outputs": [],
   "source": [
    "gm_high_coverage = gm[gm['coverage'] >= 0.7]"
   ]
  },
  {
   "cell_type": "code",
   "execution_count": 6,
   "id": "83fb5264",
   "metadata": {},
   "outputs": [],
   "source": [
    "gm_high_coverage_3m_trim = gm_high_coverage[(gm_high_coverage['gm_past_quarter'] > 0.2) & (gm_high_coverage['gm_past_quarter'] < 0.8) & (gm_high_coverage['date'] < '2022-04-01')]\n",
    "\n",
    "gm_high_coverage_6m_trim = gm_high_coverage[(gm_high_coverage['gm_past_2quarters'] > 0.2) & (gm_high_coverage['gm_past_2quarters'] < 0.8) & (gm_high_coverage['date'] < '2022-04-01')]\n",
    "\n",
    "gm_high_coverage_9m_trim = gm_high_coverage[(gm_high_coverage['gm_past_3quarters'] > 0.2) & (gm_high_coverage['gm_past_3quarters'] < 0.8) & (gm_high_coverage['date'] < '2022-04-01')]\n",
    "\n"
   ]
  },
  {
   "cell_type": "code",
   "execution_count": 37,
   "id": "e5e49828",
   "metadata": {},
   "outputs": [
    {
     "data": {
      "text/html": [
       "<div>\n",
       "<style scoped>\n",
       "    .dataframe tbody tr th:only-of-type {\n",
       "        vertical-align: middle;\n",
       "    }\n",
       "\n",
       "    .dataframe tbody tr th {\n",
       "        vertical-align: top;\n",
       "    }\n",
       "\n",
       "    .dataframe thead th {\n",
       "        text-align: right;\n",
       "    }\n",
       "</style>\n",
       "<table border=\"1\" class=\"dataframe\">\n",
       "  <thead>\n",
       "    <tr style=\"text-align: right;\">\n",
       "      <th>state</th>\n",
       "      <th>level_0</th>\n",
       "      <th>date</th>\n",
       "      <th>CA</th>\n",
       "      <th>CO</th>\n",
       "      <th>MA</th>\n",
       "      <th>MI</th>\n",
       "      <th>OR</th>\n",
       "    </tr>\n",
       "  </thead>\n",
       "  <tbody>\n",
       "    <tr>\n",
       "      <th>0</th>\n",
       "      <td>id</td>\n",
       "      <td>2020-06</td>\n",
       "      <td>13.0</td>\n",
       "      <td>8.0</td>\n",
       "      <td>NaN</td>\n",
       "      <td>1.0</td>\n",
       "      <td>NaN</td>\n",
       "    </tr>\n",
       "    <tr>\n",
       "      <th>1</th>\n",
       "      <td>id</td>\n",
       "      <td>2020-07</td>\n",
       "      <td>15.0</td>\n",
       "      <td>9.0</td>\n",
       "      <td>NaN</td>\n",
       "      <td>3.0</td>\n",
       "      <td>1.0</td>\n",
       "    </tr>\n",
       "    <tr>\n",
       "      <th>2</th>\n",
       "      <td>id</td>\n",
       "      <td>2020-08</td>\n",
       "      <td>17.0</td>\n",
       "      <td>9.0</td>\n",
       "      <td>NaN</td>\n",
       "      <td>3.0</td>\n",
       "      <td>1.0</td>\n",
       "    </tr>\n",
       "    <tr>\n",
       "      <th>3</th>\n",
       "      <td>id</td>\n",
       "      <td>2020-09</td>\n",
       "      <td>18.0</td>\n",
       "      <td>10.0</td>\n",
       "      <td>NaN</td>\n",
       "      <td>2.0</td>\n",
       "      <td>1.0</td>\n",
       "    </tr>\n",
       "    <tr>\n",
       "      <th>4</th>\n",
       "      <td>id</td>\n",
       "      <td>2020-10</td>\n",
       "      <td>19.0</td>\n",
       "      <td>9.0</td>\n",
       "      <td>NaN</td>\n",
       "      <td>2.0</td>\n",
       "      <td>1.0</td>\n",
       "    </tr>\n",
       "    <tr>\n",
       "      <th>5</th>\n",
       "      <td>id</td>\n",
       "      <td>2020-11</td>\n",
       "      <td>20.0</td>\n",
       "      <td>9.0</td>\n",
       "      <td>1.0</td>\n",
       "      <td>1.0</td>\n",
       "      <td>1.0</td>\n",
       "    </tr>\n",
       "    <tr>\n",
       "      <th>6</th>\n",
       "      <td>id</td>\n",
       "      <td>2020-12</td>\n",
       "      <td>24.0</td>\n",
       "      <td>9.0</td>\n",
       "      <td>1.0</td>\n",
       "      <td>1.0</td>\n",
       "      <td>NaN</td>\n",
       "    </tr>\n",
       "    <tr>\n",
       "      <th>7</th>\n",
       "      <td>id</td>\n",
       "      <td>2021-01</td>\n",
       "      <td>24.0</td>\n",
       "      <td>9.0</td>\n",
       "      <td>1.0</td>\n",
       "      <td>1.0</td>\n",
       "      <td>NaN</td>\n",
       "    </tr>\n",
       "    <tr>\n",
       "      <th>8</th>\n",
       "      <td>id</td>\n",
       "      <td>2021-02</td>\n",
       "      <td>26.0</td>\n",
       "      <td>10.0</td>\n",
       "      <td>1.0</td>\n",
       "      <td>1.0</td>\n",
       "      <td>1.0</td>\n",
       "    </tr>\n",
       "    <tr>\n",
       "      <th>9</th>\n",
       "      <td>id</td>\n",
       "      <td>2021-03</td>\n",
       "      <td>25.0</td>\n",
       "      <td>10.0</td>\n",
       "      <td>1.0</td>\n",
       "      <td>1.0</td>\n",
       "      <td>NaN</td>\n",
       "    </tr>\n",
       "    <tr>\n",
       "      <th>10</th>\n",
       "      <td>id</td>\n",
       "      <td>2021-04</td>\n",
       "      <td>29.0</td>\n",
       "      <td>13.0</td>\n",
       "      <td>1.0</td>\n",
       "      <td>1.0</td>\n",
       "      <td>NaN</td>\n",
       "    </tr>\n",
       "    <tr>\n",
       "      <th>11</th>\n",
       "      <td>id</td>\n",
       "      <td>2021-05</td>\n",
       "      <td>31.0</td>\n",
       "      <td>12.0</td>\n",
       "      <td>1.0</td>\n",
       "      <td>1.0</td>\n",
       "      <td>NaN</td>\n",
       "    </tr>\n",
       "    <tr>\n",
       "      <th>12</th>\n",
       "      <td>id</td>\n",
       "      <td>2021-06</td>\n",
       "      <td>37.0</td>\n",
       "      <td>12.0</td>\n",
       "      <td>1.0</td>\n",
       "      <td>7.0</td>\n",
       "      <td>NaN</td>\n",
       "    </tr>\n",
       "    <tr>\n",
       "      <th>13</th>\n",
       "      <td>id</td>\n",
       "      <td>2021-07</td>\n",
       "      <td>37.0</td>\n",
       "      <td>13.0</td>\n",
       "      <td>1.0</td>\n",
       "      <td>11.0</td>\n",
       "      <td>NaN</td>\n",
       "    </tr>\n",
       "    <tr>\n",
       "      <th>14</th>\n",
       "      <td>id</td>\n",
       "      <td>2021-08</td>\n",
       "      <td>41.0</td>\n",
       "      <td>12.0</td>\n",
       "      <td>1.0</td>\n",
       "      <td>10.0</td>\n",
       "      <td>NaN</td>\n",
       "    </tr>\n",
       "    <tr>\n",
       "      <th>15</th>\n",
       "      <td>id</td>\n",
       "      <td>2021-09</td>\n",
       "      <td>41.0</td>\n",
       "      <td>12.0</td>\n",
       "      <td>1.0</td>\n",
       "      <td>11.0</td>\n",
       "      <td>1.0</td>\n",
       "    </tr>\n",
       "    <tr>\n",
       "      <th>16</th>\n",
       "      <td>id</td>\n",
       "      <td>2021-10</td>\n",
       "      <td>41.0</td>\n",
       "      <td>10.0</td>\n",
       "      <td>1.0</td>\n",
       "      <td>12.0</td>\n",
       "      <td>1.0</td>\n",
       "    </tr>\n",
       "    <tr>\n",
       "      <th>17</th>\n",
       "      <td>id</td>\n",
       "      <td>2021-11</td>\n",
       "      <td>40.0</td>\n",
       "      <td>10.0</td>\n",
       "      <td>1.0</td>\n",
       "      <td>13.0</td>\n",
       "      <td>1.0</td>\n",
       "    </tr>\n",
       "    <tr>\n",
       "      <th>18</th>\n",
       "      <td>id</td>\n",
       "      <td>2021-12</td>\n",
       "      <td>41.0</td>\n",
       "      <td>9.0</td>\n",
       "      <td>2.0</td>\n",
       "      <td>15.0</td>\n",
       "      <td>1.0</td>\n",
       "    </tr>\n",
       "    <tr>\n",
       "      <th>19</th>\n",
       "      <td>id</td>\n",
       "      <td>2022-01</td>\n",
       "      <td>40.0</td>\n",
       "      <td>8.0</td>\n",
       "      <td>3.0</td>\n",
       "      <td>15.0</td>\n",
       "      <td>1.0</td>\n",
       "    </tr>\n",
       "    <tr>\n",
       "      <th>20</th>\n",
       "      <td>id</td>\n",
       "      <td>2022-02</td>\n",
       "      <td>40.0</td>\n",
       "      <td>9.0</td>\n",
       "      <td>3.0</td>\n",
       "      <td>15.0</td>\n",
       "      <td>1.0</td>\n",
       "    </tr>\n",
       "    <tr>\n",
       "      <th>21</th>\n",
       "      <td>id</td>\n",
       "      <td>2022-03</td>\n",
       "      <td>38.0</td>\n",
       "      <td>6.0</td>\n",
       "      <td>3.0</td>\n",
       "      <td>11.0</td>\n",
       "      <td>1.0</td>\n",
       "    </tr>\n",
       "    <tr>\n",
       "      <th>22</th>\n",
       "      <td>id</td>\n",
       "      <td>2022-04</td>\n",
       "      <td>36.0</td>\n",
       "      <td>6.0</td>\n",
       "      <td>3.0</td>\n",
       "      <td>11.0</td>\n",
       "      <td>NaN</td>\n",
       "    </tr>\n",
       "  </tbody>\n",
       "</table>\n",
       "</div>"
      ],
      "text/plain": [
       "state level_0     date    CA    CO   MA    MI   OR\n",
       "0          id  2020-06  13.0   8.0  NaN   1.0  NaN\n",
       "1          id  2020-07  15.0   9.0  NaN   3.0  1.0\n",
       "2          id  2020-08  17.0   9.0  NaN   3.0  1.0\n",
       "3          id  2020-09  18.0  10.0  NaN   2.0  1.0\n",
       "4          id  2020-10  19.0   9.0  NaN   2.0  1.0\n",
       "5          id  2020-11  20.0   9.0  1.0   1.0  1.0\n",
       "6          id  2020-12  24.0   9.0  1.0   1.0  NaN\n",
       "7          id  2021-01  24.0   9.0  1.0   1.0  NaN\n",
       "8          id  2021-02  26.0  10.0  1.0   1.0  1.0\n",
       "9          id  2021-03  25.0  10.0  1.0   1.0  NaN\n",
       "10         id  2021-04  29.0  13.0  1.0   1.0  NaN\n",
       "11         id  2021-05  31.0  12.0  1.0   1.0  NaN\n",
       "12         id  2021-06  37.0  12.0  1.0   7.0  NaN\n",
       "13         id  2021-07  37.0  13.0  1.0  11.0  NaN\n",
       "14         id  2021-08  41.0  12.0  1.0  10.0  NaN\n",
       "15         id  2021-09  41.0  12.0  1.0  11.0  1.0\n",
       "16         id  2021-10  41.0  10.0  1.0  12.0  1.0\n",
       "17         id  2021-11  40.0  10.0  1.0  13.0  1.0\n",
       "18         id  2021-12  41.0   9.0  2.0  15.0  1.0\n",
       "19         id  2022-01  40.0   8.0  3.0  15.0  1.0\n",
       "20         id  2022-02  40.0   9.0  3.0  15.0  1.0\n",
       "21         id  2022-03  38.0   6.0  3.0  11.0  1.0\n",
       "22         id  2022-04  36.0   6.0  3.0  11.0  NaN"
      ]
     },
     "execution_count": 37,
     "metadata": {},
     "output_type": "execute_result"
    }
   ],
   "source": [
    "state_count = gm_high_coverage_6m_trim[['state','id','date']].groupby(['state','date']).count().unstack().T.reset_index()\n",
    "state_count\n",
    "\n"
   ]
  },
  {
   "cell_type": "markdown",
   "id": "6b3c270f",
   "metadata": {},
   "source": [
    "## CA"
   ]
  },
  {
   "cell_type": "code",
   "execution_count": 8,
   "id": "284cbde7",
   "metadata": {},
   "outputs": [],
   "source": [
    "### 3m"
   ]
  },
  {
   "cell_type": "code",
   "execution_count": 9,
   "id": "672e8fed",
   "metadata": {},
   "outputs": [],
   "source": [
    "gm_high_coverage_3m_trim_ca = gm_high_coverage_3m_trim[gm_high_coverage_3m_trim['state'] == 'CA']"
   ]
  },
  {
   "cell_type": "code",
   "execution_count": 10,
   "id": "7a182dec",
   "metadata": {},
   "outputs": [],
   "source": [
    "margin_distr_3m_ca = gm_high_coverage_3m_trim_ca.groupby(['date'])['gm_past_quarter_after_tax'].describe().reset_index()\n",
    "margin_distr_3m_ca['date'] = pd.to_datetime(margin_distr_3m_ca['date'])\n",
    "\n"
   ]
  },
  {
   "cell_type": "code",
   "execution_count": null,
   "id": "51d5a621",
   "metadata": {},
   "outputs": [],
   "source": [
    "#margin_distr_3m_ca[['25%','50%','75%']].mean().round(2)"
   ]
  },
  {
   "cell_type": "code",
   "execution_count": 11,
   "id": "ea480769",
   "metadata": {},
   "outputs": [
    {
     "data": {
      "text/plain": [
       "25%    0.44\n",
       "50%    0.50\n",
       "75%    0.59\n",
       "dtype: float64"
      ]
     },
     "execution_count": 11,
     "metadata": {},
     "output_type": "execute_result"
    }
   ],
   "source": [
    "margin_distr_3m_ca[margin_distr_3m_ca['date'] >= '2021-01-01'][['25%','50%','75%']].mean().round(2)"
   ]
  },
  {
   "cell_type": "code",
   "execution_count": 12,
   "id": "883ced8d",
   "metadata": {},
   "outputs": [],
   "source": [
    "### 6m"
   ]
  },
  {
   "cell_type": "code",
   "execution_count": 13,
   "id": "130b7244",
   "metadata": {},
   "outputs": [],
   "source": [
    "gm_high_coverage_6m_trim_ca = gm_high_coverage_6m_trim[gm_high_coverage_6m_trim['state'] == 'CA']\n",
    "margin_distr_6m_ca = gm_high_coverage_6m_trim_ca.groupby(['date'])['gm_past_2quarters_after_tax'].describe().reset_index()\n",
    "margin_distr_6m_ca['date'] = pd.to_datetime(margin_distr_6m_ca['date'])\n",
    "\n",
    "#margin_distr_6m_ca[['25%','50%','75%']].mean().round(2)\n",
    "\n"
   ]
  },
  {
   "cell_type": "code",
   "execution_count": 14,
   "id": "e8cc6dc1",
   "metadata": {},
   "outputs": [
    {
     "data": {
      "text/plain": [
       "25%    0.44\n",
       "50%    0.50\n",
       "75%    0.59\n",
       "dtype: float64"
      ]
     },
     "execution_count": 14,
     "metadata": {},
     "output_type": "execute_result"
    }
   ],
   "source": [
    "margin_distr_6m_ca[margin_distr_6m_ca['date'] >= '2021-01-01'][['25%','50%','75%']].mean().round(2)"
   ]
  },
  {
   "cell_type": "code",
   "execution_count": 15,
   "id": "15bd2d46",
   "metadata": {},
   "outputs": [],
   "source": [
    "### 9m"
   ]
  },
  {
   "cell_type": "code",
   "execution_count": 16,
   "id": "a672e4a2",
   "metadata": {},
   "outputs": [],
   "source": [
    "gm_high_coverage_9m_trim_ca = gm_high_coverage_9m_trim[gm_high_coverage_9m_trim['state'] == 'CA']\n",
    "margin_distr_9m_ca = gm_high_coverage_9m_trim_ca.groupby(['date'])['gm_past_3quarters_after_tax'].describe().reset_index()\n",
    "margin_distr_9m_ca['date'] = pd.to_datetime(margin_distr_9m_ca['date'])\n",
    "\n",
    "#margin_distr_9m_ca[['25%','50%','75%']].mean().round(2)\n",
    "\n"
   ]
  },
  {
   "cell_type": "code",
   "execution_count": 17,
   "id": "2db75fb4",
   "metadata": {},
   "outputs": [
    {
     "data": {
      "text/plain": [
       "25%    0.45\n",
       "50%    0.51\n",
       "75%    0.59\n",
       "dtype: float64"
      ]
     },
     "execution_count": 17,
     "metadata": {},
     "output_type": "execute_result"
    }
   ],
   "source": [
    "margin_distr_9m_ca[margin_distr_9m_ca['date'] >= '2021-01-01'][['25%','50%','75%']].mean().round(2)"
   ]
  },
  {
   "cell_type": "markdown",
   "id": "4e52355f",
   "metadata": {},
   "source": [
    "## CO"
   ]
  },
  {
   "cell_type": "code",
   "execution_count": 18,
   "id": "3cdab5c8",
   "metadata": {},
   "outputs": [],
   "source": [
    "### 3m"
   ]
  },
  {
   "cell_type": "code",
   "execution_count": 19,
   "id": "91e5561c",
   "metadata": {},
   "outputs": [],
   "source": [
    "gm_high_coverage_3m_trim_co = gm_high_coverage_3m_trim[gm_high_coverage_3m_trim['state'] == 'CO']"
   ]
  },
  {
   "cell_type": "code",
   "execution_count": 20,
   "id": "ed447a51",
   "metadata": {},
   "outputs": [],
   "source": [
    "margin_distr_3m_co = gm_high_coverage_3m_trim_co.groupby(['date'])['gm_past_quarter'].describe().reset_index()\n",
    "margin_distr_3m_co['date'] = pd.to_datetime(margin_distr_3m_co['date'])\n",
    "\n"
   ]
  },
  {
   "cell_type": "code",
   "execution_count": 21,
   "id": "c09af908",
   "metadata": {},
   "outputs": [
    {
     "data": {
      "text/plain": [
       "25%    0.49\n",
       "50%    0.57\n",
       "75%    0.62\n",
       "dtype: float64"
      ]
     },
     "execution_count": 21,
     "metadata": {},
     "output_type": "execute_result"
    }
   ],
   "source": [
    "margin_distr_3m_co[['25%','50%','75%']].mean().round(2)"
   ]
  },
  {
   "cell_type": "code",
   "execution_count": 22,
   "id": "b5775dcf",
   "metadata": {},
   "outputs": [
    {
     "data": {
      "text/plain": [
       "25%    0.48\n",
       "50%    0.57\n",
       "75%    0.63\n",
       "dtype: float64"
      ]
     },
     "execution_count": 22,
     "metadata": {},
     "output_type": "execute_result"
    }
   ],
   "source": [
    "margin_distr_3m_co[margin_distr_3m_co['date'] >= '2021-01-01'][['25%','50%','75%']].mean().round(2)"
   ]
  },
  {
   "cell_type": "code",
   "execution_count": 23,
   "id": "74f191d9",
   "metadata": {},
   "outputs": [],
   "source": [
    "### 6m"
   ]
  },
  {
   "cell_type": "code",
   "execution_count": 24,
   "id": "d9c4cb19",
   "metadata": {},
   "outputs": [
    {
     "data": {
      "text/plain": [
       "25%    0.48\n",
       "50%    0.57\n",
       "75%    0.62\n",
       "dtype: float64"
      ]
     },
     "execution_count": 24,
     "metadata": {},
     "output_type": "execute_result"
    }
   ],
   "source": [
    "gm_high_coverage_6m_trim_co = gm_high_coverage_6m_trim[gm_high_coverage_6m_trim['state'] == 'CO']\n",
    "margin_distr_6m_co = gm_high_coverage_6m_trim_co.groupby(['date'])['gm_past_2quarters'].describe().reset_index()\n",
    "margin_distr_6m_co['date'] = pd.to_datetime(margin_distr_6m_co['date'])\n",
    "\n",
    "margin_distr_6m_co[['25%','50%','75%']].mean().round(2)\n",
    "\n"
   ]
  },
  {
   "cell_type": "code",
   "execution_count": 25,
   "id": "c885056e",
   "metadata": {},
   "outputs": [
    {
     "data": {
      "text/plain": [
       "25%    0.48\n",
       "50%    0.57\n",
       "75%    0.63\n",
       "dtype: float64"
      ]
     },
     "execution_count": 25,
     "metadata": {},
     "output_type": "execute_result"
    }
   ],
   "source": [
    "margin_distr_6m_co[margin_distr_6m_co['date'] >= '2021-01-01'][['25%','50%','75%']].mean().round(2)"
   ]
  },
  {
   "cell_type": "code",
   "execution_count": 26,
   "id": "7130efec",
   "metadata": {},
   "outputs": [],
   "source": [
    "### 9m"
   ]
  },
  {
   "cell_type": "code",
   "execution_count": 27,
   "id": "e841d80c",
   "metadata": {},
   "outputs": [
    {
     "data": {
      "text/plain": [
       "25%    0.48\n",
       "50%    0.57\n",
       "75%    0.62\n",
       "dtype: float64"
      ]
     },
     "execution_count": 27,
     "metadata": {},
     "output_type": "execute_result"
    }
   ],
   "source": [
    "gm_high_coverage_9m_trim_co = gm_high_coverage_9m_trim[gm_high_coverage_9m_trim['state'] == 'CO']\n",
    "margin_distr_9m_co = gm_high_coverage_9m_trim_co.groupby(['date'])['gm_past_3quarters'].describe().reset_index()\n",
    "margin_distr_9m_co['date'] = pd.to_datetime(margin_distr_9m_co['date'])\n",
    "\n",
    "margin_distr_9m_co[['25%','50%','75%']].mean().round(2)\n",
    "\n"
   ]
  },
  {
   "cell_type": "code",
   "execution_count": 28,
   "id": "67f78777",
   "metadata": {},
   "outputs": [
    {
     "data": {
      "text/plain": [
       "25%    0.49\n",
       "50%    0.57\n",
       "75%    0.62\n",
       "dtype: float64"
      ]
     },
     "execution_count": 28,
     "metadata": {},
     "output_type": "execute_result"
    }
   ],
   "source": [
    "margin_distr_9m_co[margin_distr_9m_co['date'] >= '2021-01-01'][['25%','50%','75%']].mean().round(2)"
   ]
  },
  {
   "cell_type": "markdown",
   "id": "1278808d",
   "metadata": {},
   "source": [
    "## MI"
   ]
  },
  {
   "cell_type": "code",
   "execution_count": null,
   "id": "8647f8cd",
   "metadata": {},
   "outputs": [],
   "source": [
    "### 3m"
   ]
  },
  {
   "cell_type": "code",
   "execution_count": 29,
   "id": "2b9f21ce",
   "metadata": {},
   "outputs": [
    {
     "data": {
      "text/plain": [
       "25%    0.46\n",
       "50%    0.51\n",
       "75%    0.56\n",
       "dtype: float64"
      ]
     },
     "execution_count": 29,
     "metadata": {},
     "output_type": "execute_result"
    }
   ],
   "source": [
    "gm_high_coverage_3m_trim_mi = gm_high_coverage_3m_trim[gm_high_coverage_3m_trim['state'] == 'MI']\n",
    "margin_distr_3m_mi = gm_high_coverage_3m_trim_mi.groupby(['date'])['gm_past_quarter'].describe().reset_index()\n",
    "margin_distr_3m_mi['date'] = pd.to_datetime(margin_distr_3m_mi['date'])\n",
    "\n",
    "margin_distr_3m_mi[['25%','50%','75%']].mean().round(2)\n",
    "\n"
   ]
  },
  {
   "cell_type": "code",
   "execution_count": 30,
   "id": "36993f35",
   "metadata": {},
   "outputs": [
    {
     "data": {
      "text/plain": [
       "25%    0.43\n",
       "50%    0.48\n",
       "75%    0.54\n",
       "dtype: float64"
      ]
     },
     "execution_count": 30,
     "metadata": {},
     "output_type": "execute_result"
    }
   ],
   "source": [
    "margin_distr_3m_mi[margin_distr_3m_mi['date'] >= '2021-01-01'][['25%','50%','75%']].mean().round(2)"
   ]
  },
  {
   "cell_type": "code",
   "execution_count": 31,
   "id": "475aeacf",
   "metadata": {},
   "outputs": [],
   "source": [
    "### 6m"
   ]
  },
  {
   "cell_type": "code",
   "execution_count": 32,
   "id": "e70d1807",
   "metadata": {},
   "outputs": [
    {
     "data": {
      "text/plain": [
       "25%    0.53\n",
       "50%    0.57\n",
       "75%    0.60\n",
       "dtype: float64"
      ]
     },
     "execution_count": 32,
     "metadata": {},
     "output_type": "execute_result"
    }
   ],
   "source": [
    "gm_high_coverage_6m_trim_mi = gm_high_coverage_6m_trim[gm_high_coverage_6m_trim['state'] == 'MI']\n",
    "margin_distr_6m_mi = gm_high_coverage_6m_trim_mi.groupby(['date'])['gm_past_2quarters'].describe().reset_index()\n",
    "margin_distr_6m_mi['date'] = pd.to_datetime(margin_distr_6m_mi['date'])\n",
    "\n",
    "margin_distr_6m_mi[['25%','50%','75%']].mean().round(2)\n",
    "\n"
   ]
  },
  {
   "cell_type": "code",
   "execution_count": 33,
   "id": "407b1644",
   "metadata": {},
   "outputs": [
    {
     "data": {
      "text/plain": [
       "25%    0.49\n",
       "50%    0.53\n",
       "75%    0.57\n",
       "dtype: float64"
      ]
     },
     "execution_count": 33,
     "metadata": {},
     "output_type": "execute_result"
    }
   ],
   "source": [
    "margin_distr_6m_mi[margin_distr_6m_mi['date'] >= '2021-01-01'][['25%','50%','75%']].mean().round(2)"
   ]
  },
  {
   "cell_type": "code",
   "execution_count": 34,
   "id": "83a8d286",
   "metadata": {},
   "outputs": [],
   "source": [
    "### 9m"
   ]
  },
  {
   "cell_type": "code",
   "execution_count": 35,
   "id": "59c9b342",
   "metadata": {},
   "outputs": [
    {
     "data": {
      "text/plain": [
       "25%    0.56\n",
       "50%    0.59\n",
       "75%    0.60\n",
       "dtype: float64"
      ]
     },
     "execution_count": 35,
     "metadata": {},
     "output_type": "execute_result"
    }
   ],
   "source": [
    "gm_high_coverage_9m_trim_mi = gm_high_coverage_9m_trim[gm_high_coverage_9m_trim['state'] == 'MI']\n",
    "margin_distr_9m_mi = gm_high_coverage_9m_trim_mi.groupby(['date'])['gm_past_3quarters'].describe().reset_index()\n",
    "margin_distr_9m_mi['date'] = pd.to_datetime(margin_distr_9m_mi['date'])\n",
    "\n",
    "margin_distr_9m_mi[['25%','50%','75%']].mean().round(2)\n",
    "\n"
   ]
  },
  {
   "cell_type": "code",
   "execution_count": 36,
   "id": "03318e84",
   "metadata": {},
   "outputs": [
    {
     "data": {
      "text/plain": [
       "25%    0.54\n",
       "50%    0.56\n",
       "75%    0.58\n",
       "dtype: float64"
      ]
     },
     "execution_count": 36,
     "metadata": {},
     "output_type": "execute_result"
    }
   ],
   "source": [
    "margin_distr_9m_mi[margin_distr_9m_mi['date'] >= '2021-01-01'][['25%','50%','75%']].mean().round(2)"
   ]
  },
  {
   "cell_type": "markdown",
   "id": "60cad8b1",
   "metadata": {},
   "source": [
    "## MA"
   ]
  },
  {
   "cell_type": "code",
   "execution_count": 38,
   "id": "686adb49",
   "metadata": {},
   "outputs": [],
   "source": [
    "### 3m"
   ]
  },
  {
   "cell_type": "code",
   "execution_count": 39,
   "id": "0286e90a",
   "metadata": {},
   "outputs": [
    {
     "data": {
      "text/plain": [
       "25%    0.53\n",
       "50%    0.54\n",
       "75%    0.55\n",
       "dtype: float64"
      ]
     },
     "execution_count": 39,
     "metadata": {},
     "output_type": "execute_result"
    }
   ],
   "source": [
    "gm_high_coverage_3m_trim_ma = gm_high_coverage_3m_trim[gm_high_coverage_3m_trim['state'] == 'MA']\n",
    "margin_distr_3m_ma = gm_high_coverage_3m_trim_ma.groupby(['date'])['gm_past_quarter'].describe().reset_index()\n",
    "margin_distr_3m_ma['date'] = pd.to_datetime(margin_distr_3m_ma['date'])\n",
    "\n",
    "margin_distr_3m_ma[['25%','50%','75%']].mean().round(2)\n",
    "\n"
   ]
  },
  {
   "cell_type": "code",
   "execution_count": 40,
   "id": "60622421",
   "metadata": {},
   "outputs": [
    {
     "data": {
      "text/plain": [
       "25%    0.53\n",
       "50%    0.54\n",
       "75%    0.56\n",
       "dtype: float64"
      ]
     },
     "execution_count": 40,
     "metadata": {},
     "output_type": "execute_result"
    }
   ],
   "source": [
    "margin_distr_3m_ma[margin_distr_3m_ma['date'] >= '2021-01-01'][['25%','50%','75%']].mean().round(2)"
   ]
  },
  {
   "cell_type": "code",
   "execution_count": 41,
   "id": "85d0318f",
   "metadata": {},
   "outputs": [],
   "source": [
    "### 6m"
   ]
  },
  {
   "cell_type": "code",
   "execution_count": 42,
   "id": "cf9982fa",
   "metadata": {},
   "outputs": [
    {
     "data": {
      "text/plain": [
       "25%    0.53\n",
       "50%    0.54\n",
       "75%    0.55\n",
       "dtype: float64"
      ]
     },
     "execution_count": 42,
     "metadata": {},
     "output_type": "execute_result"
    }
   ],
   "source": [
    "gm_high_coverage_6m_trim_ma = gm_high_coverage_6m_trim[gm_high_coverage_6m_trim['state'] == 'MA']\n",
    "margin_distr_6m_ma = gm_high_coverage_6m_trim_ma.groupby(['date'])['gm_past_2quarters'].describe().reset_index()\n",
    "margin_distr_6m_ma['date'] = pd.to_datetime(margin_distr_6m_ma['date'])\n",
    "\n",
    "margin_distr_6m_ma[['25%','50%','75%']].mean().round(2)\n",
    "\n"
   ]
  },
  {
   "cell_type": "code",
   "execution_count": 43,
   "id": "822820f5",
   "metadata": {},
   "outputs": [
    {
     "data": {
      "text/plain": [
       "25%    0.54\n",
       "50%    0.54\n",
       "75%    0.56\n",
       "dtype: float64"
      ]
     },
     "execution_count": 43,
     "metadata": {},
     "output_type": "execute_result"
    }
   ],
   "source": [
    "margin_distr_6m_ma[margin_distr_6m_ma['date'] >= '2021-01-01'][['25%','50%','75%']].mean().round(2)"
   ]
  },
  {
   "cell_type": "code",
   "execution_count": 44,
   "id": "419d4dbd",
   "metadata": {},
   "outputs": [],
   "source": [
    "### 9m"
   ]
  },
  {
   "cell_type": "code",
   "execution_count": 45,
   "id": "d0b4d30d",
   "metadata": {},
   "outputs": [
    {
     "data": {
      "text/plain": [
       "25%    0.53\n",
       "50%    0.53\n",
       "75%    0.55\n",
       "dtype: float64"
      ]
     },
     "execution_count": 45,
     "metadata": {},
     "output_type": "execute_result"
    }
   ],
   "source": [
    "gm_high_coverage_9m_trim_ma = gm_high_coverage_9m_trim[gm_high_coverage_9m_trim['state'] == 'MA']\n",
    "margin_distr_9m_ma = gm_high_coverage_9m_trim_ma.groupby(['date'])['gm_past_3quarters'].describe().reset_index()\n",
    "margin_distr_9m_ma['date'] = pd.to_datetime(margin_distr_9m_ma['date'])\n",
    "\n",
    "margin_distr_9m_ma[['25%','50%','75%']].mean().round(2)\n",
    "\n"
   ]
  },
  {
   "cell_type": "code",
   "execution_count": 46,
   "id": "3892b4af",
   "metadata": {},
   "outputs": [
    {
     "data": {
      "text/plain": [
       "25%    0.53\n",
       "50%    0.53\n",
       "75%    0.55\n",
       "dtype: float64"
      ]
     },
     "execution_count": 46,
     "metadata": {},
     "output_type": "execute_result"
    }
   ],
   "source": [
    "margin_distr_9m_ma[margin_distr_9m_ma['date'] >= '2021-01-01'][['25%','50%','75%']].mean().round(2)"
   ]
  },
  {
   "cell_type": "code",
   "execution_count": null,
   "id": "859584e1",
   "metadata": {},
   "outputs": [],
   "source": []
  }
 ],
 "metadata": {
  "kernelspec": {
   "display_name": "Python 3",
   "language": "python",
   "name": "python3"
  },
  "language_info": {
   "codemirror_mode": {
    "name": "ipython",
    "version": 3
   },
   "file_extension": ".py",
   "mimetype": "text/x-python",
   "name": "python",
   "nbconvert_exporter": "python",
   "pygments_lexer": "ipython3",
   "version": "3.8.10"
  }
 },
 "nbformat": 4,
 "nbformat_minor": 5
}
