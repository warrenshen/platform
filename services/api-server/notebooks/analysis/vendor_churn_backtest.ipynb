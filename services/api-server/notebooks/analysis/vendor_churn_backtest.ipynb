{
 "cells": [
  {
   "cell_type": "code",
   "execution_count": 1,
   "id": "37bdd7c3",
   "metadata": {},
   "outputs": [],
   "source": [
    "import warnings\n",
    "warnings.filterwarnings('ignore')"
   ]
  },
  {
   "cell_type": "code",
   "execution_count": 2,
   "id": "11564057",
   "metadata": {},
   "outputs": [],
   "source": [
    "import json\n",
    "import numpy \n",
    "import os\n",
    "import pandas as pd\n",
    "import matplotlib.pyplot as plt\n",
    "%matplotlib inline  \n",
    "import pyarrow\n",
    "import sys\n",
    "import seaborn as sns\n",
    "from tqdm import tqdm\n",
    "\n",
    "from datetime import date\n",
    "from dotenv import load_dotenv\n",
    "from sqlalchemy import create_engine\n",
    "from os import path\n",
    "from typing import List,Dict, Tuple\n",
    "from collections import defaultdict\n",
    "pd.set_option(\"display.max_columns\", None)\n",
    "\n",
    "load_dotenv(verbose=True)\n",
    "BIGQUERY_CREDENTIALS_PATH = os.environ.get('BIGQUERY_CREDENTIALS_PATH')\n",
    "engine = create_engine('bigquery://bespoke-financial/ProdMetrcData', credentials_path=os.path.expanduser(BIGQUERY_CREDENTIALS_PATH))\n",
    "\n",
    "sys.path.append(path.realpath(path.join(os.getcwd(), \"../core\")))\n",
    "sys.path.append(path.realpath(path.join(os.getcwd(), \"../../src\")))\n",
    "sys.path.append(path.realpath(path.join(os.getcwd(), \"../../scripts\")))\n",
    "\n",
    "import create_queries\n",
    "import prepare_data\n",
    "\n",
    "from bespoke.inventory.analysis.shared import download_util, inventory_types\n",
    "from bespoke.inventory.analysis import active_inventory_util as util\n",
    "from bespoke.inventory.analysis import inventory_valuations_util as valuations_util\n",
    "\n",
    "%load_ext autoreload\n",
    "%autoreload 2"
   ]
  },
  {
   "cell_type": "code",
   "execution_count": 3,
   "id": "e4775b82",
   "metadata": {},
   "outputs": [],
   "source": [
    "from underwriting import data_quality_checks"
   ]
  },
  {
   "cell_type": "code",
   "execution_count": 4,
   "id": "f5c6a7fd",
   "metadata": {},
   "outputs": [],
   "source": [
    "TRANSFER_PACKAGES_START_DATE = '2020-01-01'\n",
    "SALES_TRANSACTIONS_START_DATE = '2020-01-01'"
   ]
  },
  {
   "cell_type": "code",
   "execution_count": 5,
   "id": "833eb4ca",
   "metadata": {},
   "outputs": [],
   "source": [
    "company_df = pd.read_csv('all_retailer_company.csv',index_col = 0)\n",
    "company_df.columns = ['company_name','company_identifier','state','licenses']\n",
    "company_df['company_identifier'] = company_df['company_identifier'].astype(str)"
   ]
  },
  {
   "cell_type": "code",
   "execution_count": 6,
   "id": "d30959d7",
   "metadata": {},
   "outputs": [
    {
     "data": {
      "text/plain": [
       "(66, 4)"
      ]
     },
     "execution_count": 6,
     "metadata": {},
     "output_type": "execute_result"
    }
   ],
   "source": [
    "company_df_clean = company_df[~company_df['company_identifier'].isin(['PL','WHT','GF','UR'])]\n",
    "company_df.shape"
   ]
  },
  {
   "cell_type": "code",
   "execution_count": 7,
   "id": "f1c97315",
   "metadata": {},
   "outputs": [
    {
     "data": {
      "text/plain": [
       "66"
      ]
     },
     "execution_count": 7,
     "metadata": {},
     "output_type": "execute_result"
    }
   ],
   "source": [
    "len(company_df['company_identifier'].unique())"
   ]
  },
  {
   "cell_type": "code",
   "execution_count": 8,
   "id": "152e0e62",
   "metadata": {},
   "outputs": [
    {
     "data": {
      "text/html": [
       "<div>\n",
       "<style scoped>\n",
       "    .dataframe tbody tr th:only-of-type {\n",
       "        vertical-align: middle;\n",
       "    }\n",
       "\n",
       "    .dataframe tbody tr th {\n",
       "        vertical-align: top;\n",
       "    }\n",
       "\n",
       "    .dataframe thead th {\n",
       "        text-align: right;\n",
       "    }\n",
       "</style>\n",
       "<table border=\"1\" class=\"dataframe\">\n",
       "  <thead>\n",
       "    <tr style=\"text-align: right;\">\n",
       "      <th></th>\n",
       "      <th>company_name</th>\n",
       "      <th>company_identifier</th>\n",
       "      <th>state</th>\n",
       "      <th>licenses</th>\n",
       "    </tr>\n",
       "  </thead>\n",
       "  <tbody>\n",
       "    <tr>\n",
       "      <th>0</th>\n",
       "      <td>99 High Tide</td>\n",
       "      <td>99HT</td>\n",
       "      <td>CA</td>\n",
       "      <td>C10-0000279-LIC</td>\n",
       "    </tr>\n",
       "    <tr>\n",
       "      <th>1</th>\n",
       "      <td>Altum LLC</td>\n",
       "      <td>ALT</td>\n",
       "      <td>MI</td>\n",
       "      <td>PC-000310;AU-R-000380</td>\n",
       "    </tr>\n",
       "    <tr>\n",
       "      <th>2</th>\n",
       "      <td>Bella Sol</td>\n",
       "      <td>BS</td>\n",
       "      <td>MI</td>\n",
       "      <td>PC-000185;AU-R-000156</td>\n",
       "    </tr>\n",
       "    <tr>\n",
       "      <th>3</th>\n",
       "      <td>Big Medicine Cannabissary</td>\n",
       "      <td>BMC</td>\n",
       "      <td>CO</td>\n",
       "      <td>402-00930</td>\n",
       "    </tr>\n",
       "    <tr>\n",
       "      <th>4</th>\n",
       "      <td>Boston Bud Factory</td>\n",
       "      <td>BBF</td>\n",
       "      <td>MA</td>\n",
       "      <td>MR281525</td>\n",
       "    </tr>\n",
       "    <tr>\n",
       "      <th>...</th>\n",
       "      <td>...</td>\n",
       "      <td>...</td>\n",
       "      <td>...</td>\n",
       "      <td>...</td>\n",
       "    </tr>\n",
       "    <tr>\n",
       "      <th>61</th>\n",
       "      <td>Universal Herbal Health Center</td>\n",
       "      <td>UHHC</td>\n",
       "      <td>CA</td>\n",
       "      <td>C10-0000817-LIC;C9-0000082-LIC</td>\n",
       "    </tr>\n",
       "    <tr>\n",
       "      <th>62</th>\n",
       "      <td>Uprooted (San Ysidro)</td>\n",
       "      <td>UR</td>\n",
       "      <td>CA</td>\n",
       "      <td>C10-0000731-LIC;C10-0000776-LIC;C10-0000246-LI...</td>\n",
       "    </tr>\n",
       "    <tr>\n",
       "      <th>63</th>\n",
       "      <td>Verts</td>\n",
       "      <td>VS</td>\n",
       "      <td>CO</td>\n",
       "      <td>402-00840;402R-00545</td>\n",
       "    </tr>\n",
       "    <tr>\n",
       "      <th>64</th>\n",
       "      <td>Voyage</td>\n",
       "      <td>VOY</td>\n",
       "      <td>CA</td>\n",
       "      <td>C12-0000030-LIC;C10-0000802-LIC;C12-0000159-LIC</td>\n",
       "    </tr>\n",
       "    <tr>\n",
       "      <th>65</th>\n",
       "      <td>Welcome The Healing Touch</td>\n",
       "      <td>WHT</td>\n",
       "      <td>CA</td>\n",
       "      <td>C10-0000548-LIC</td>\n",
       "    </tr>\n",
       "  </tbody>\n",
       "</table>\n",
       "<p>66 rows × 4 columns</p>\n",
       "</div>"
      ],
      "text/plain": [
       "                      company_name company_identifier state  \\\n",
       "0                     99 High Tide               99HT    CA   \n",
       "1                        Altum LLC                ALT    MI   \n",
       "2                        Bella Sol                 BS    MI   \n",
       "3        Big Medicine Cannabissary                BMC    CO   \n",
       "4               Boston Bud Factory                BBF    MA   \n",
       "..                             ...                ...   ...   \n",
       "61  Universal Herbal Health Center               UHHC    CA   \n",
       "62           Uprooted (San Ysidro)                 UR    CA   \n",
       "63                           Verts                 VS    CO   \n",
       "64                          Voyage                VOY    CA   \n",
       "65       Welcome The Healing Touch                WHT    CA   \n",
       "\n",
       "                                             licenses  \n",
       "0                                     C10-0000279-LIC  \n",
       "1                               PC-000310;AU-R-000380  \n",
       "2                               PC-000185;AU-R-000156  \n",
       "3                                           402-00930  \n",
       "4                                            MR281525  \n",
       "..                                                ...  \n",
       "61                     C10-0000817-LIC;C9-0000082-LIC  \n",
       "62  C10-0000731-LIC;C10-0000776-LIC;C10-0000246-LI...  \n",
       "63                               402-00840;402R-00545  \n",
       "64    C12-0000030-LIC;C10-0000802-LIC;C12-0000159-LIC  \n",
       "65                                    C10-0000548-LIC  \n",
       "\n",
       "[66 rows x 4 columns]"
      ]
     },
     "execution_count": 8,
     "metadata": {},
     "output_type": "execute_result"
    }
   ],
   "source": [
    "company_df"
   ]
  },
  {
   "cell_type": "code",
   "execution_count": 92,
   "id": "ac0eecf9",
   "metadata": {},
   "outputs": [],
   "source": [
    "company_df['lic_list'] = [list(company_df['licenses'])[i].split(\";\") for i in range(len(company_df))]"
   ]
  },
  {
   "cell_type": "code",
   "execution_count": 288,
   "id": "90116d26",
   "metadata": {},
   "outputs": [
    {
     "data": {
      "text/html": [
       "<div>\n",
       "<style scoped>\n",
       "    .dataframe tbody tr th:only-of-type {\n",
       "        vertical-align: middle;\n",
       "    }\n",
       "\n",
       "    .dataframe tbody tr th {\n",
       "        vertical-align: top;\n",
       "    }\n",
       "\n",
       "    .dataframe thead th {\n",
       "        text-align: right;\n",
       "    }\n",
       "</style>\n",
       "<table border=\"1\" class=\"dataframe\">\n",
       "  <thead>\n",
       "    <tr style=\"text-align: right;\">\n",
       "      <th></th>\n",
       "      <th>company_name</th>\n",
       "      <th>company_identifier</th>\n",
       "      <th>state</th>\n",
       "      <th>licenses</th>\n",
       "      <th>lic_list</th>\n",
       "    </tr>\n",
       "  </thead>\n",
       "  <tbody>\n",
       "    <tr>\n",
       "      <th>0</th>\n",
       "      <td>99 High Tide</td>\n",
       "      <td>99HT</td>\n",
       "      <td>CA</td>\n",
       "      <td>C10-0000279-LIC</td>\n",
       "      <td>[C10-0000279-LIC]</td>\n",
       "    </tr>\n",
       "    <tr>\n",
       "      <th>1</th>\n",
       "      <td>Altum LLC</td>\n",
       "      <td>ALT</td>\n",
       "      <td>MI</td>\n",
       "      <td>PC-000310;AU-R-000380</td>\n",
       "      <td>[PC-000310, AU-R-000380]</td>\n",
       "    </tr>\n",
       "    <tr>\n",
       "      <th>2</th>\n",
       "      <td>Bella Sol</td>\n",
       "      <td>BS</td>\n",
       "      <td>MI</td>\n",
       "      <td>PC-000185;AU-R-000156</td>\n",
       "      <td>[PC-000185, AU-R-000156]</td>\n",
       "    </tr>\n",
       "    <tr>\n",
       "      <th>3</th>\n",
       "      <td>Big Medicine Cannabissary</td>\n",
       "      <td>BMC</td>\n",
       "      <td>CO</td>\n",
       "      <td>402-00930</td>\n",
       "      <td>[402-00930]</td>\n",
       "    </tr>\n",
       "    <tr>\n",
       "      <th>4</th>\n",
       "      <td>Boston Bud Factory</td>\n",
       "      <td>BBF</td>\n",
       "      <td>MA</td>\n",
       "      <td>MR281525</td>\n",
       "      <td>[MR281525]</td>\n",
       "    </tr>\n",
       "    <tr>\n",
       "      <th>...</th>\n",
       "      <td>...</td>\n",
       "      <td>...</td>\n",
       "      <td>...</td>\n",
       "      <td>...</td>\n",
       "      <td>...</td>\n",
       "    </tr>\n",
       "    <tr>\n",
       "      <th>61</th>\n",
       "      <td>Universal Herbal Health Center</td>\n",
       "      <td>UHHC</td>\n",
       "      <td>CA</td>\n",
       "      <td>C10-0000817-LIC;C9-0000082-LIC</td>\n",
       "      <td>[C10-0000817-LIC, C9-0000082-LIC]</td>\n",
       "    </tr>\n",
       "    <tr>\n",
       "      <th>62</th>\n",
       "      <td>Uprooted (San Ysidro)</td>\n",
       "      <td>UR</td>\n",
       "      <td>CA</td>\n",
       "      <td>C10-0000731-LIC;C10-0000776-LIC;C10-0000246-LI...</td>\n",
       "      <td>[C10-0000731-LIC, C10-0000776-LIC, C10-0000246...</td>\n",
       "    </tr>\n",
       "    <tr>\n",
       "      <th>63</th>\n",
       "      <td>Verts</td>\n",
       "      <td>VS</td>\n",
       "      <td>CO</td>\n",
       "      <td>402-00840;402R-00545</td>\n",
       "      <td>[402-00840, 402R-00545]</td>\n",
       "    </tr>\n",
       "    <tr>\n",
       "      <th>64</th>\n",
       "      <td>Voyage</td>\n",
       "      <td>VOY</td>\n",
       "      <td>CA</td>\n",
       "      <td>C12-0000030-LIC;C10-0000802-LIC;C12-0000159-LIC</td>\n",
       "      <td>[C12-0000030-LIC, C10-0000802-LIC, C12-0000159...</td>\n",
       "    </tr>\n",
       "    <tr>\n",
       "      <th>65</th>\n",
       "      <td>Welcome The Healing Touch</td>\n",
       "      <td>WHT</td>\n",
       "      <td>CA</td>\n",
       "      <td>C10-0000548-LIC</td>\n",
       "      <td>[C10-0000548-LIC]</td>\n",
       "    </tr>\n",
       "  </tbody>\n",
       "</table>\n",
       "<p>66 rows × 5 columns</p>\n",
       "</div>"
      ],
      "text/plain": [
       "                      company_name company_identifier state  \\\n",
       "0                     99 High Tide               99HT    CA   \n",
       "1                        Altum LLC                ALT    MI   \n",
       "2                        Bella Sol                 BS    MI   \n",
       "3        Big Medicine Cannabissary                BMC    CO   \n",
       "4               Boston Bud Factory                BBF    MA   \n",
       "..                             ...                ...   ...   \n",
       "61  Universal Herbal Health Center               UHHC    CA   \n",
       "62           Uprooted (San Ysidro)                 UR    CA   \n",
       "63                           Verts                 VS    CO   \n",
       "64                          Voyage                VOY    CA   \n",
       "65       Welcome The Healing Touch                WHT    CA   \n",
       "\n",
       "                                             licenses  \\\n",
       "0                                     C10-0000279-LIC   \n",
       "1                               PC-000310;AU-R-000380   \n",
       "2                               PC-000185;AU-R-000156   \n",
       "3                                           402-00930   \n",
       "4                                            MR281525   \n",
       "..                                                ...   \n",
       "61                     C10-0000817-LIC;C9-0000082-LIC   \n",
       "62  C10-0000731-LIC;C10-0000776-LIC;C10-0000246-LI...   \n",
       "63                               402-00840;402R-00545   \n",
       "64    C12-0000030-LIC;C10-0000802-LIC;C12-0000159-LIC   \n",
       "65                                    C10-0000548-LIC   \n",
       "\n",
       "                                             lic_list  \n",
       "0                                   [C10-0000279-LIC]  \n",
       "1                            [PC-000310, AU-R-000380]  \n",
       "2                            [PC-000185, AU-R-000156]  \n",
       "3                                         [402-00930]  \n",
       "4                                          [MR281525]  \n",
       "..                                                ...  \n",
       "61                  [C10-0000817-LIC, C9-0000082-LIC]  \n",
       "62  [C10-0000731-LIC, C10-0000776-LIC, C10-0000246...  \n",
       "63                            [402-00840, 402R-00545]  \n",
       "64  [C12-0000030-LIC, C10-0000802-LIC, C12-0000159...  \n",
       "65                                  [C10-0000548-LIC]  \n",
       "\n",
       "[66 rows x 5 columns]"
      ]
     },
     "execution_count": 288,
     "metadata": {},
     "output_type": "execute_result"
    }
   ],
   "source": [
    "company_df"
   ]
  },
  {
   "cell_type": "code",
   "execution_count": 285,
   "id": "e6b02dd5",
   "metadata": {},
   "outputs": [
    {
     "data": {
      "text/plain": [
       "66"
      ]
     },
     "execution_count": 285,
     "metadata": {},
     "output_type": "execute_result"
    }
   ],
   "source": [
    "len(company_df['company_identifier'].unique())"
   ]
  },
  {
   "cell_type": "markdown",
   "id": "32961bef",
   "metadata": {},
   "source": [
    "# vc"
   ]
  },
  {
   "cell_type": "code",
   "execution_count": 30,
   "id": "3b736ae5",
   "metadata": {},
   "outputs": [],
   "source": [
    "\n",
    "VC_START_DATE = '2020-01-01'\n",
    "VC_END_DATE = '2022-03-01'\n",
    "VC_MONTH_LIST = ['2021-11-01','2021-12-01','2022-01-01','2022-02-01']\n",
    "VC_MONTH_LIST_SHORT = ['2022-01-01','2022-02-01']\n",
    "VC_MONTH_END = VC_MONTH_LIST[-1]"
   ]
  },
  {
   "cell_type": "code",
   "execution_count": 84,
   "id": "05d75902",
   "metadata": {},
   "outputs": [],
   "source": [
    "def calculate_vendor_churn(incoming_transfer_df,license_list,vc_start_date,vc_end_date,vc_month_list,vc_month_end):\n",
    "    df_vendor_churn = incoming_transfer_df[incoming_transfer_df['license_number'].isin(license_list)]\n",
    "    df_vendor_churn['year_month'] = pd.to_datetime(df_vendor_churn['created_date']).dt.strftime(\"%Y-%m\")\n",
    "    vc = df_vendor_churn[['year_month','shipper_facility_name','shipper_wholesale_price']].groupby(['year_month','shipper_facility_name']).sum().reset_index()\n",
    "    vc= vc.assign(year_month=lambda df:pd.to_datetime(df['year_month']))\n",
    "\n",
    "    vc_full = (\n",
    "        vc\n",
    "        .groupby('shipper_facility_name').apply(\n",
    "            lambda df: df.merge(\n",
    "            pd.Series(\n",
    "                None, \n",
    "                index = pd.date_range(start = vc_start_date, end = vc_end_date, freq = 'MS'), \n",
    "                name='__place_holder'\n",
    "            ), \n",
    "            how ='right',\n",
    "            left_on = 'year_month', \n",
    "            right_index=True,\n",
    "        ).assign(\n",
    "            **{\n",
    "                \"shipper_facility_name\": lambda df_: df_.shipper_facility_name.dropna().unique()[0],\n",
    "                \"shipper_wholesale_price\": lambda df_: df_.shipper_wholesale_price.fillna(0),\n",
    "            }\n",
    "        )\n",
    "        .drop('__place_holder', axis=1)\n",
    "        )\n",
    "    ).reset_index(drop=True)\n",
    "    \n",
    "    rolling_4m_sum =  vc_full.groupby('shipper_facility_name').apply(\n",
    "    lambda df: df.set_index('year_month').sort_index().rolling(4).sum()\n",
    "    )\n",
    "    rolling_4m_sum.columns = ['rolling_4m_total_price']\n",
    "    facility_monthly_running_total = vc_full.groupby('shipper_facility_name').apply(\n",
    "        lambda df: df.set_index('year_month').sort_index()['shipper_wholesale_price'].cumsum().to_frame()\n",
    "    )\n",
    "    facility_monthly_running_total.columns = ['facility_running_total']\n",
    "    monthly_running_total = facility_monthly_running_total.reset_index().groupby('year_month')['facility_running_total'].sum().to_frame()\n",
    "    monthly_running_total.columns = ['monthly_running_total']\n",
    "\n",
    "    vc_result = rolling_4m_sum.merge(\n",
    "        facility_monthly_running_total,\n",
    "        how='inner',\n",
    "        left_index=True,\n",
    "        right_index=True\n",
    "    ).reset_index().merge(\n",
    "        monthly_running_total,\n",
    "        how='left',\n",
    "        on = 'year_month'\n",
    "    )\n",
    "    vc_result['%_total'] = vc_result['facility_running_total'] / vc_result['monthly_running_total']\n",
    "    vc_result['last_4m_active'] = vc_result['rolling_4m_total_price'] > 0\n",
    "    vc_result ['significant'] = vc_result['%_total'] > 0.001\n",
    "    vc_result['measure'] = vc_result.apply(\n",
    "    lambda row: \"Active\"  if (row['last_4m_active'] & row['significant']) else (\"Inactive\" if row['significant'] else \"Exclude\"),\n",
    "    axis=1\n",
    "    )\n",
    "    #churn\n",
    "    churn = vc_result.groupby(['year_month']).apply(lambda x: x[x['measure'] == 'Inactive']['%_total'].sum()).reset_index()\n",
    "    churn.columns = ['year_month','%_inactive']\n",
    "    churn.index = churn.year_month\n",
    "    \n",
    "    # output vendor churn matrix\n",
    "    vc_data = vc_full[vc_full['year_month'] <= VC_MONTH_END]\n",
    "    vc_data['year_month'] = vc_data['year_month'].astype(str)\n",
    "    vc_matrix = pd.pivot_table(vc_data, values='shipper_wholesale_price', index='shipper_facility_name',\n",
    "    columns='year_month', fill_value=0).reset_index()\n",
    "    vc_matrix['facility_total'] = vc_matrix.sum(axis= 1)\n",
    "    vc_matrix['grand_total'] = vc_matrix['facility_total'].sum()\n",
    "    vc_matrix['perc_total'] = vc_matrix['facility_total'] / vc_matrix['grand_total']\n",
    "    vc_matrix['last_4m_total'] = vc_matrix[VC_MONTH_LIST].sum(axis = 1)\n",
    "    vc_matrix['last_4m_active'] = vc_matrix['last_4m_total'] > 0\n",
    "    vc_matrix ['significant'] = vc_matrix['perc_total'] > 0.001\n",
    "    vc_matrix['measure'] = vc_matrix.apply(\n",
    "        lambda row: \"Active\"  if (row['last_4m_active'] & row['significant']) else (\"Inactive\" if row['significant'] else \"Exclude\"),\n",
    "        axis=1\n",
    "    )\n",
    "    return churn, vc_matrix\n"
   ]
  },
  {
   "cell_type": "code",
   "execution_count": 109,
   "id": "05058c48",
   "metadata": {},
   "outputs": [],
   "source": [
    "def calculate_vendor_churn_short(incoming_transfer_df,license_list,vc_start_date,vc_end_date,vc_month_list,vc_month_end):\n",
    "    df_vendor_churn = incoming_transfer_df[incoming_transfer_df['license_number'].isin(license_list)]\n",
    "    df_vendor_churn['year_month'] = pd.to_datetime(df_vendor_churn['created_date']).dt.strftime(\"%Y-%m\")\n",
    "    vc = df_vendor_churn[['year_month','shipper_facility_name','shipper_wholesale_price']].groupby(['year_month','shipper_facility_name']).sum().reset_index()\n",
    "    vc= vc.assign(year_month=lambda df:pd.to_datetime(df['year_month']))\n",
    "\n",
    "    vc_full = (\n",
    "        vc\n",
    "        .groupby('shipper_facility_name').apply(\n",
    "            lambda df: df.merge(\n",
    "            pd.Series(\n",
    "                None, \n",
    "                index = pd.date_range(start = vc_start_date, end = vc_end_date, freq = 'MS'), \n",
    "                name='__place_holder'\n",
    "            ), \n",
    "            how ='right',\n",
    "            left_on = 'year_month', \n",
    "            right_index=True,\n",
    "        ).assign(\n",
    "            **{\n",
    "                \"shipper_facility_name\": lambda df_: df_.shipper_facility_name.dropna().unique()[0],\n",
    "                \"shipper_wholesale_price\": lambda df_: df_.shipper_wholesale_price.fillna(0),\n",
    "            }\n",
    "        )\n",
    "        .drop('__place_holder', axis=1)\n",
    "        )\n",
    "    ).reset_index(drop=True)\n",
    "    \n",
    "    #rolling_2m_sum\n",
    "    rolling_2m_sum =  vc_full.groupby('shipper_facility_name').apply(\n",
    "    lambda df: df.set_index('year_month').sort_index().rolling(2).sum()\n",
    "    )\n",
    "    rolling_2m_sum.columns = ['rolling_2m_total_price']\n",
    "    \n",
    "    #facility_monthly_running_total\n",
    "    facility_monthly_running_total = vc_full.groupby('shipper_facility_name').apply(\n",
    "        lambda df: df.set_index('year_month').sort_index()['shipper_wholesale_price'].rolling(window = 12).sum().to_frame()\n",
    "    )\n",
    "    facility_monthly_running_total.columns = ['facility_running_total']\n",
    "    \n",
    "    #monthly_running_total\n",
    "    monthly_running_total = facility_monthly_running_total.reset_index().groupby('year_month')['facility_running_total'].sum().to_frame()\n",
    "    monthly_running_total.columns = ['monthly_running_total']\n",
    "\n",
    "    vc_result = rolling_2m_sum.merge(\n",
    "        facility_monthly_running_total,\n",
    "        how='inner',\n",
    "        left_index=True,\n",
    "        right_index=True\n",
    "    ).reset_index().merge(\n",
    "        monthly_running_total,\n",
    "        how='left',\n",
    "        on = 'year_month'\n",
    "    )\n",
    "    vc_result['%_total'] = vc_result['facility_running_total'] / vc_result['monthly_running_total']\n",
    "    vc_result['last_2m_active'] = vc_result['rolling_2m_total_price'] > 0\n",
    "    vc_result ['significant'] = vc_result['%_total'] > 0.001\n",
    "    vc_result['measure'] = vc_result.apply(\n",
    "    lambda row: \"Active\"  if (row['last_2m_active'] & row['significant']) else (\"Inactive\" if row['significant'] else \"Exclude\"),\n",
    "    axis=1\n",
    "    )\n",
    "    #churn\n",
    "    churn = vc_result.groupby(['year_month']).apply(lambda x: x[x['measure'] == 'Inactive']['%_total'].sum()).reset_index()\n",
    "    churn.columns = ['year_month','%_inactive']\n",
    "    churn.index = churn.year_month\n",
    "    \n",
    "    # output vendor churn matrix\n",
    "    vc_data = vc_full[vc_full['year_month'] <= VC_MONTH_END]\n",
    "    vc_data['year_month'] = vc_data['year_month'].astype(str)\n",
    "    vc_matrix = pd.pivot_table(vc_data, values='shipper_wholesale_price', index='shipper_facility_name',\n",
    "    columns='year_month', fill_value=0).reset_index()\n",
    "    vc_matrix['facility_total'] = vc_matrix.iloc[: , -12:].sum(axis = 1)\n",
    "    vc_matrix['grand_total'] = vc_matrix['facility_total'].sum()\n",
    "    vc_matrix['perc_total'] = vc_matrix['facility_total'] / vc_matrix['grand_total']\n",
    "    vc_matrix['last_2m_total'] = vc_matrix[vc_month_list].sum(axis = 1)\n",
    "    vc_matrix['last_2m_active'] = vc_matrix['last_2m_total'] > 0\n",
    "    vc_matrix ['significant'] = vc_matrix['perc_total'] > 0.001\n",
    "    vc_matrix['measure'] = vc_matrix.apply(\n",
    "        lambda row: \"Active\"  if (row['last_2m_active'] & row['significant']) else (\"Inactive\" if row['significant'] else \"Exclude\"),\n",
    "        axis=1\n",
    "    )\n",
    "    return churn, vc_matrix\n",
    "    \n"
   ]
  },
  {
   "cell_type": "code",
   "execution_count": 53,
   "id": "fe7f9273",
   "metadata": {},
   "outputs": [],
   "source": [
    "#df_in,df_sales_deduped,bad_dl,unknown_transfer,rwp,miss_incoming,miss_receipts = data_quality_checks.run(['EL'],TRANSFER_PACKAGES_START_DATE,SALES_TRANSACTIONS_START_DATE)\n",
    "\n",
    "\n"
   ]
  },
  {
   "cell_type": "code",
   "execution_count": 54,
   "id": "0fad339e",
   "metadata": {},
   "outputs": [],
   "source": [
    "#lic = df_in['license_number'].unique()[0]"
   ]
  },
  {
   "cell_type": "code",
   "execution_count": 55,
   "id": "b5060182",
   "metadata": {},
   "outputs": [],
   "source": [
    "#c_short,vc_short,a_short,b_short = calculate_vendor_churn_short(df_in,[lic],VC_START_DATE,VC_END_DATE,VC_MONTH_LIST_SHORT,VC_MONTH_END)\n",
    "\n",
    "\n"
   ]
  },
  {
   "cell_type": "code",
   "execution_count": 56,
   "id": "0da0806a",
   "metadata": {},
   "outputs": [],
   "source": [
    "#c,vc,a,b = calculate_vendor_churn(df_in,[lic],VC_START_DATE,VC_END_DATE,VC_MONTH_LIST,VC_MONTH_END)\n",
    "\n",
    "\n"
   ]
  },
  {
   "cell_type": "markdown",
   "id": "4e0c6445",
   "metadata": {},
   "source": [
    "# run"
   ]
  },
  {
   "cell_type": "code",
   "execution_count": 110,
   "id": "a6592d4d",
   "metadata": {},
   "outputs": [],
   "source": [
    "def read_df_in(COMPANY_IDENTIFIER,license_numbers):\n",
    "    company_incoming_transfer_packages_query = create_queries.create_company_incoming_transfer_packages_query(\n",
    "    COMPANY_IDENTIFIER,\n",
    "    TRANSFER_PACKAGES_START_DATE,\n",
    "    license_numbers=license_numbers,\n",
    "    )\n",
    "    company_incoming_transfer_packages_dataframe = pd.read_sql_query(company_incoming_transfer_packages_query, engine)\n",
    "    return company_incoming_transfer_packages_dataframe\n"
   ]
  },
  {
   "cell_type": "code",
   "execution_count": 111,
   "id": "40333aa3",
   "metadata": {},
   "outputs": [],
   "source": [
    "def get_vc_list(company_list,transfer_packages_start_date,sales_transactrions_start_date,map_df):\n",
    "    churn_df_list = {}\n",
    "    vc_matrix_df_list = {}\n",
    "    churn_df_list_short = {}\n",
    "    vc_matrix_df_list_short = {}\n",
    "    for c in tqdm(company_list):\n",
    "        churn_list = {}\n",
    "        vc_matrix_list = {}\n",
    "        churn_list_short = {}\n",
    "        vc_matrix_list_short = {}\n",
    "        print(c)\n",
    "        l_list = map_df[map_df['company_identifier'] == c]['lic_list'].to_list()[0]\n",
    "        for l in tqdm(l_list):\n",
    "            print(l)\n",
    "            df_in = read_df_in([c],[l])\n",
    "            if df_in.shape[0] == 0:\n",
    "                churn_list[l] = numpy.nan\n",
    "                vc_matrix_list[l] = numpy.nan\n",
    "                churn_list_short[l] = numpy.nan\n",
    "                vc_matrix_list_short[l] = numpy.nan\n",
    "                continue\n",
    "            else:\n",
    "                churn,vc_matrix = calculate_vendor_churn(df_in,[l],VC_START_DATE,VC_END_DATE,VC_MONTH_LIST,VC_MONTH_END)\n",
    "                churn_short,vc_matrix_short = calculate_vendor_churn_short(df_in,[l],VC_START_DATE,VC_END_DATE,VC_MONTH_LIST_SHORT,VC_MONTH_END)\n",
    "                churn_list[l] = churn\n",
    "                vc_matrix_list[l] = vc_matrix\n",
    "                churn_list_short[l] = churn_short\n",
    "                vc_matrix_list_short[l] = vc_matrix_short\n",
    "        churn_df_list[c] = churn_list\n",
    "        vc_matrix_df_list[c] = vc_matrix_list\n",
    "        churn_df_list_short[c] = churn_list_short\n",
    "        vc_matrix_df_list_short[c] = vc_matrix_list_short\n",
    "    return churn_df_list,vc_matrix_df_list,churn_df_list_short,vc_matrix_df_list_short\n",
    "\n",
    "    \n",
    "\n",
    "    "
   ]
  },
  {
   "cell_type": "code",
   "execution_count": 112,
   "id": "211217a5",
   "metadata": {},
   "outputs": [
    {
     "name": "stderr",
     "output_type": "stream",
     "text": [
      "\r",
      "  0%|          | 0/66 [00:00<?, ?it/s]"
     ]
    },
    {
     "name": "stdout",
     "output_type": "stream",
     "text": [
      "99HT\n"
     ]
    },
    {
     "name": "stderr",
     "output_type": "stream",
     "text": [
      "\n",
      "  0%|          | 0/1 [00:00<?, ?it/s]\u001b[A"
     ]
    },
    {
     "name": "stdout",
     "output_type": "stream",
     "text": [
      "C10-0000279-LIC\n"
     ]
    },
    {
     "name": "stderr",
     "output_type": "stream",
     "text": [
      "\n",
      "100%|██████████| 1/1 [00:01<00:00,  1.88s/it]\u001b[A\n",
      "  2%|▏         | 1/66 [00:01<02:02,  1.88s/it]"
     ]
    },
    {
     "name": "stdout",
     "output_type": "stream",
     "text": [
      "ALT\n"
     ]
    },
    {
     "name": "stderr",
     "output_type": "stream",
     "text": [
      "\n",
      "  0%|          | 0/2 [00:00<?, ?it/s]\u001b[A"
     ]
    },
    {
     "name": "stdout",
     "output_type": "stream",
     "text": [
      "PC-000310\n"
     ]
    },
    {
     "name": "stderr",
     "output_type": "stream",
     "text": [
      "\n",
      " 50%|█████     | 1/2 [00:01<00:01,  1.13s/it]\u001b[A"
     ]
    },
    {
     "name": "stdout",
     "output_type": "stream",
     "text": [
      "AU-R-000380\n"
     ]
    },
    {
     "name": "stderr",
     "output_type": "stream",
     "text": [
      "\n",
      "100%|██████████| 2/2 [00:02<00:00,  1.26s/it]\u001b[A\n",
      "  3%|▎         | 2/66 [00:04<02:24,  2.26s/it]"
     ]
    },
    {
     "name": "stdout",
     "output_type": "stream",
     "text": [
      "BS\n"
     ]
    },
    {
     "name": "stderr",
     "output_type": "stream",
     "text": [
      "\n",
      "  0%|          | 0/2 [00:00<?, ?it/s]\u001b[A"
     ]
    },
    {
     "name": "stdout",
     "output_type": "stream",
     "text": [
      "PC-000185\n"
     ]
    },
    {
     "name": "stderr",
     "output_type": "stream",
     "text": [
      "\n",
      " 50%|█████     | 1/2 [00:01<00:01,  1.29s/it]\u001b[A"
     ]
    },
    {
     "name": "stdout",
     "output_type": "stream",
     "text": [
      "AU-R-000156\n"
     ]
    },
    {
     "name": "stderr",
     "output_type": "stream",
     "text": [
      "\n",
      "100%|██████████| 2/2 [00:02<00:00,  1.45s/it]\u001b[A\n",
      "  5%|▍         | 3/66 [00:07<02:40,  2.55s/it]"
     ]
    },
    {
     "name": "stdout",
     "output_type": "stream",
     "text": [
      "BMC\n"
     ]
    },
    {
     "name": "stderr",
     "output_type": "stream",
     "text": [
      "\n",
      "  0%|          | 0/1 [00:00<?, ?it/s]\u001b[A"
     ]
    },
    {
     "name": "stdout",
     "output_type": "stream",
     "text": [
      "402-00930\n"
     ]
    },
    {
     "name": "stderr",
     "output_type": "stream",
     "text": [
      "\n",
      "100%|██████████| 1/1 [00:01<00:00,  1.35s/it]\u001b[A\n",
      "  6%|▌         | 4/66 [00:08<02:08,  2.08s/it]"
     ]
    },
    {
     "name": "stdout",
     "output_type": "stream",
     "text": [
      "BBF\n"
     ]
    },
    {
     "name": "stderr",
     "output_type": "stream",
     "text": [
      "\n",
      "  0%|          | 0/1 [00:00<?, ?it/s]\u001b[A"
     ]
    },
    {
     "name": "stdout",
     "output_type": "stream",
     "text": [
      "MR281525\n"
     ]
    },
    {
     "name": "stderr",
     "output_type": "stream",
     "text": [
      "\n",
      "100%|██████████| 1/1 [00:01<00:00,  1.09s/it]\u001b[A\n",
      "  8%|▊         | 5/66 [00:09<01:45,  1.72s/it]"
     ]
    },
    {
     "name": "stdout",
     "output_type": "stream",
     "text": [
      "BUD\n"
     ]
    },
    {
     "name": "stderr",
     "output_type": "stream",
     "text": [
      "\n",
      "  0%|          | 0/5 [00:00<?, ?it/s]\u001b[A"
     ]
    },
    {
     "name": "stdout",
     "output_type": "stream",
     "text": [
      "C9-0000464-LIC\n"
     ]
    },
    {
     "name": "stderr",
     "output_type": "stream",
     "text": [
      "\n",
      " 20%|██        | 1/5 [00:01<00:04,  1.24s/it]\u001b[A"
     ]
    },
    {
     "name": "stdout",
     "output_type": "stream",
     "text": [
      "C9-0000467-LIC\n"
     ]
    },
    {
     "name": "stderr",
     "output_type": "stream",
     "text": [
      "\n",
      " 40%|████      | 2/5 [00:02<00:03,  1.30s/it]\u001b[A"
     ]
    },
    {
     "name": "stdout",
     "output_type": "stream",
     "text": [
      "C9-0000444-LIC\n"
     ]
    },
    {
     "name": "stderr",
     "output_type": "stream",
     "text": [
      "\n",
      " 60%|██████    | 3/5 [00:03<00:02,  1.26s/it]\u001b[A"
     ]
    },
    {
     "name": "stdout",
     "output_type": "stream",
     "text": [
      "C9-0000167-LIC\n"
     ]
    },
    {
     "name": "stderr",
     "output_type": "stream",
     "text": [
      "\n",
      " 80%|████████  | 4/5 [00:05<00:01,  1.42s/it]\u001b[A"
     ]
    },
    {
     "name": "stdout",
     "output_type": "stream",
     "text": [
      "C9-0000399-LIC\n"
     ]
    },
    {
     "name": "stderr",
     "output_type": "stream",
     "text": [
      "\n",
      "100%|██████████| 5/5 [00:06<00:00,  1.36s/it]\u001b[A\n",
      "  9%|▉         | 6/66 [00:16<03:27,  3.45s/it]"
     ]
    },
    {
     "name": "stdout",
     "output_type": "stream",
     "text": [
      "CHO\n"
     ]
    },
    {
     "name": "stderr",
     "output_type": "stream",
     "text": [
      "\n",
      "  0%|          | 0/1 [00:00<?, ?it/s]\u001b[A"
     ]
    },
    {
     "name": "stdout",
     "output_type": "stream",
     "text": [
      "AU-R-000575\n"
     ]
    },
    {
     "name": "stderr",
     "output_type": "stream",
     "text": [
      "\n",
      "100%|██████████| 1/1 [00:01<00:00,  1.29s/it]\u001b[A\n",
      " 11%|█         | 7/66 [00:17<02:41,  2.74s/it]"
     ]
    },
    {
     "name": "stdout",
     "output_type": "stream",
     "text": [
      "CG\n"
     ]
    },
    {
     "name": "stderr",
     "output_type": "stream",
     "text": [
      "\n",
      "  0%|          | 0/1 [00:00<?, ?it/s]\u001b[A"
     ]
    },
    {
     "name": "stdout",
     "output_type": "stream",
     "text": [
      "C9-0000157-LIC\n"
     ]
    },
    {
     "name": "stderr",
     "output_type": "stream",
     "text": [
      "\n",
      "100%|██████████| 1/1 [00:01<00:00,  1.85s/it]\u001b[A\n",
      " 12%|█▏        | 8/66 [00:19<02:22,  2.46s/it]"
     ]
    },
    {
     "name": "stdout",
     "output_type": "stream",
     "text": [
      "CPA\n"
     ]
    },
    {
     "name": "stderr",
     "output_type": "stream",
     "text": [
      "\n",
      "  0%|          | 0/2 [00:00<?, ?it/s]\u001b[A"
     ]
    },
    {
     "name": "stdout",
     "output_type": "stream",
     "text": [
      "C10-0000461-LIC\n"
     ]
    },
    {
     "name": "stderr",
     "output_type": "stream",
     "text": [
      "\n",
      " 50%|█████     | 1/2 [00:02<00:02,  2.80s/it]\u001b[A"
     ]
    },
    {
     "name": "stdout",
     "output_type": "stream",
     "text": [
      "C9-0000348-LIC\n"
     ]
    },
    {
     "name": "stderr",
     "output_type": "stream",
     "text": [
      "\n",
      "100%|██████████| 2/2 [00:04<00:00,  2.32s/it]\u001b[A\n",
      " 14%|█▎        | 9/66 [00:24<02:59,  3.14s/it]"
     ]
    },
    {
     "name": "stdout",
     "output_type": "stream",
     "text": [
      "CPC\n"
     ]
    },
    {
     "name": "stderr",
     "output_type": "stream",
     "text": [
      "\n",
      "  0%|          | 0/1 [00:00<?, ?it/s]\u001b[A"
     ]
    },
    {
     "name": "stdout",
     "output_type": "stream",
     "text": [
      "C9-0000056-LIC\n"
     ]
    },
    {
     "name": "stderr",
     "output_type": "stream",
     "text": [
      "\n",
      "100%|██████████| 1/1 [00:01<00:00,  1.32s/it]\u001b[A\n",
      " 15%|█▌        | 10/66 [00:25<02:24,  2.58s/it]"
     ]
    },
    {
     "name": "stdout",
     "output_type": "stream",
     "text": [
      "CSC\n"
     ]
    },
    {
     "name": "stderr",
     "output_type": "stream",
     "text": [
      "\n",
      "  0%|          | 0/2 [00:00<?, ?it/s]\u001b[A"
     ]
    },
    {
     "name": "stdout",
     "output_type": "stream",
     "text": [
      "C10-0000670-LIC\n"
     ]
    },
    {
     "name": "stderr",
     "output_type": "stream",
     "text": [
      "\n",
      " 50%|█████     | 1/2 [00:02<00:02,  2.37s/it]\u001b[A"
     ]
    },
    {
     "name": "stdout",
     "output_type": "stream",
     "text": [
      "C10-0000918-LIC\n"
     ]
    },
    {
     "name": "stderr",
     "output_type": "stream",
     "text": [
      "\n",
      "100%|██████████| 2/2 [00:03<00:00,  1.73s/it]\u001b[A\n",
      " 17%|█▋        | 11/66 [00:29<02:36,  2.85s/it]"
     ]
    },
    {
     "name": "stdout",
     "output_type": "stream",
     "text": [
      "CCC\n"
     ]
    },
    {
     "name": "stderr",
     "output_type": "stream",
     "text": [
      "\n",
      "  0%|          | 0/1 [00:00<?, ?it/s]\u001b[A"
     ]
    },
    {
     "name": "stdout",
     "output_type": "stream",
     "text": [
      "C12-0000087-LIC\n"
     ]
    },
    {
     "name": "stderr",
     "output_type": "stream",
     "text": [
      "\n",
      "100%|██████████| 1/1 [00:02<00:00,  2.42s/it]\u001b[A\n",
      " 18%|█▊        | 12/66 [00:31<02:26,  2.72s/it]"
     ]
    },
    {
     "name": "stdout",
     "output_type": "stream",
     "text": [
      "CC\n"
     ]
    },
    {
     "name": "stderr",
     "output_type": "stream",
     "text": [
      "\n",
      "  0%|          | 0/1 [00:00<?, ?it/s]\u001b[A"
     ]
    },
    {
     "name": "stdout",
     "output_type": "stream",
     "text": [
      "C10-0000758-LIC\n"
     ]
    },
    {
     "name": "stderr",
     "output_type": "stream",
     "text": [
      "\n",
      "100%|██████████| 1/1 [00:01<00:00,  1.47s/it]\u001b[A\n",
      " 20%|█▉        | 13/66 [00:33<02:04,  2.34s/it]"
     ]
    },
    {
     "name": "stdout",
     "output_type": "stream",
     "text": [
      "DWF\n"
     ]
    },
    {
     "name": "stderr",
     "output_type": "stream",
     "text": [
      "\n",
      "  0%|          | 0/1 [00:00<?, ?it/s]\u001b[A"
     ]
    },
    {
     "name": "stdout",
     "output_type": "stream",
     "text": [
      "402R-00804\n"
     ]
    },
    {
     "name": "stderr",
     "output_type": "stream",
     "text": [
      "\n",
      "100%|██████████| 1/1 [00:01<00:00,  1.28s/it]\u001b[A\n",
      " 21%|██        | 14/66 [00:34<01:45,  2.02s/it]"
     ]
    },
    {
     "name": "stdout",
     "output_type": "stream",
     "text": [
      "DCO\n"
     ]
    },
    {
     "name": "stderr",
     "output_type": "stream",
     "text": [
      "\n",
      "  0%|          | 0/2 [00:00<?, ?it/s]\u001b[A"
     ]
    },
    {
     "name": "stdout",
     "output_type": "stream",
     "text": [
      "050-10052885D4C\n"
     ]
    },
    {
     "name": "stderr",
     "output_type": "stream",
     "text": [
      "\n",
      " 50%|█████     | 1/2 [00:02<00:02,  2.81s/it]\u001b[A"
     ]
    },
    {
     "name": "stdout",
     "output_type": "stream",
     "text": [
      "050-10070593E9E\n"
     ]
    },
    {
     "name": "stderr",
     "output_type": "stream",
     "text": [
      "\n",
      "100%|██████████| 2/2 [00:04<00:00,  2.29s/it]\u001b[A\n",
      " 23%|██▎       | 15/66 [00:38<02:22,  2.80s/it]"
     ]
    },
    {
     "name": "stdout",
     "output_type": "stream",
     "text": [
      "DL\n"
     ]
    },
    {
     "name": "stderr",
     "output_type": "stream",
     "text": [
      "\n",
      "  0%|          | 0/1 [00:00<?, ?it/s]\u001b[A"
     ]
    },
    {
     "name": "stdout",
     "output_type": "stream",
     "text": [
      "MR283369\n"
     ]
    },
    {
     "name": "stderr",
     "output_type": "stream",
     "text": [
      "\n",
      "100%|██████████| 1/1 [00:01<00:00,  1.40s/it]\u001b[A\n",
      " 24%|██▍       | 16/66 [00:40<01:58,  2.38s/it]"
     ]
    },
    {
     "name": "stdout",
     "output_type": "stream",
     "text": [
      "DGG\n"
     ]
    },
    {
     "name": "stderr",
     "output_type": "stream",
     "text": [
      "\n",
      "  0%|          | 0/1 [00:00<?, ?it/s]\u001b[A"
     ]
    },
    {
     "name": "stdout",
     "output_type": "stream",
     "text": [
      "C9-0000016-LIC\n"
     ]
    },
    {
     "name": "stderr",
     "output_type": "stream",
     "text": [
      "\n",
      "100%|██████████| 1/1 [00:01<00:00,  1.41s/it]\u001b[A\n",
      " 26%|██▌       | 17/66 [00:41<01:42,  2.09s/it]"
     ]
    },
    {
     "name": "stdout",
     "output_type": "stream",
     "text": [
      "DG\n"
     ]
    },
    {
     "name": "stderr",
     "output_type": "stream",
     "text": [
      "\n",
      "  0%|          | 0/6 [00:00<?, ?it/s]\u001b[A"
     ]
    },
    {
     "name": "stdout",
     "output_type": "stream",
     "text": [
      "PC-000485\n"
     ]
    },
    {
     "name": "stderr",
     "output_type": "stream",
     "text": [
      "\n",
      " 17%|█▋        | 1/6 [00:00<00:04,  1.03it/s]\u001b[A"
     ]
    },
    {
     "name": "stdout",
     "output_type": "stream",
     "text": [
      "AU-R-000287\n"
     ]
    },
    {
     "name": "stderr",
     "output_type": "stream",
     "text": [
      "\n",
      " 33%|███▎      | 2/6 [00:02<00:04,  1.16s/it]\u001b[A"
     ]
    },
    {
     "name": "stdout",
     "output_type": "stream",
     "text": [
      "AU-R-000359\n"
     ]
    },
    {
     "name": "stderr",
     "output_type": "stream",
     "text": [
      "\n",
      " 50%|█████     | 3/6 [00:03<00:04,  1.34s/it]\u001b[A"
     ]
    },
    {
     "name": "stdout",
     "output_type": "stream",
     "text": [
      "AU-R-000422\n"
     ]
    },
    {
     "name": "stderr",
     "output_type": "stream",
     "text": [
      "\n",
      " 67%|██████▋   | 4/6 [00:05<00:02,  1.28s/it]\u001b[A"
     ]
    },
    {
     "name": "stdout",
     "output_type": "stream",
     "text": [
      "AU-R-000470\n"
     ]
    },
    {
     "name": "stderr",
     "output_type": "stream",
     "text": [
      "\n",
      " 83%|████████▎ | 5/6 [00:06<00:01,  1.20s/it]\u001b[A"
     ]
    },
    {
     "name": "stdout",
     "output_type": "stream",
     "text": [
      "AU-R-000572\n"
     ]
    },
    {
     "name": "stderr",
     "output_type": "stream",
     "text": [
      "\n",
      "100%|██████████| 6/6 [00:07<00:00,  1.17s/it]\u001b[A\n",
      " 27%|██▋       | 18/66 [00:48<02:51,  3.57s/it]"
     ]
    },
    {
     "name": "stdout",
     "output_type": "stream",
     "text": [
      "EL\n"
     ]
    },
    {
     "name": "stderr",
     "output_type": "stream",
     "text": [
      "\n",
      "  0%|          | 0/1 [00:00<?, ?it/s]\u001b[A"
     ]
    },
    {
     "name": "stdout",
     "output_type": "stream",
     "text": [
      "C9-0000370-LIC\n"
     ]
    },
    {
     "name": "stderr",
     "output_type": "stream",
     "text": [
      "\n",
      "100%|██████████| 1/1 [00:01<00:00,  1.09s/it]\u001b[A\n",
      " 29%|██▉       | 19/66 [00:49<02:12,  2.83s/it]"
     ]
    },
    {
     "name": "stdout",
     "output_type": "stream",
     "text": [
      "EMA\n"
     ]
    },
    {
     "name": "stderr",
     "output_type": "stream",
     "text": [
      "\n",
      "  0%|          | 0/1 [00:00<?, ?it/s]\u001b[A"
     ]
    },
    {
     "name": "stdout",
     "output_type": "stream",
     "text": [
      "C10-0000774-LIC\n"
     ]
    },
    {
     "name": "stderr",
     "output_type": "stream",
     "text": [
      "\n",
      "100%|██████████| 1/1 [00:02<00:00,  2.16s/it]\u001b[A\n",
      " 30%|███       | 20/66 [00:52<02:00,  2.63s/it]"
     ]
    },
    {
     "name": "stdout",
     "output_type": "stream",
     "text": [
      "EMF\n"
     ]
    },
    {
     "name": "stderr",
     "output_type": "stream",
     "text": [
      "\n",
      "  0%|          | 0/1 [00:00<?, ?it/s]\u001b[A"
     ]
    },
    {
     "name": "stdout",
     "output_type": "stream",
     "text": [
      "C10-0000939-LIC\n"
     ]
    },
    {
     "name": "stderr",
     "output_type": "stream",
     "text": [
      "\n",
      "100%|██████████| 1/1 [00:01<00:00,  1.38s/it]\u001b[A\n",
      " 32%|███▏      | 21/66 [00:53<01:41,  2.25s/it]"
     ]
    },
    {
     "name": "stdout",
     "output_type": "stream",
     "text": [
      "EMM\n"
     ]
    },
    {
     "name": "stderr",
     "output_type": "stream",
     "text": [
      "\n",
      "  0%|          | 0/1 [00:00<?, ?it/s]\u001b[A"
     ]
    },
    {
     "name": "stdout",
     "output_type": "stream",
     "text": [
      "C10-0000786-LIC\n"
     ]
    },
    {
     "name": "stderr",
     "output_type": "stream",
     "text": [
      "\n",
      "100%|██████████| 1/1 [00:01<00:00,  1.90s/it]\u001b[A\n",
      " 33%|███▎      | 22/66 [00:55<01:34,  2.15s/it]"
     ]
    },
    {
     "name": "stdout",
     "output_type": "stream",
     "text": [
      "EMT\n"
     ]
    },
    {
     "name": "stderr",
     "output_type": "stream",
     "text": [
      "\n",
      "  0%|          | 0/1 [00:00<?, ?it/s]\u001b[A"
     ]
    },
    {
     "name": "stdout",
     "output_type": "stream",
     "text": [
      "C10-0000695-LIC\n"
     ]
    },
    {
     "name": "stderr",
     "output_type": "stream",
     "text": [
      "\n",
      "100%|██████████| 1/1 [00:01<00:00,  1.99s/it]\u001b[A\n",
      " 35%|███▍      | 23/66 [00:57<01:30,  2.10s/it]"
     ]
    },
    {
     "name": "stdout",
     "output_type": "stream",
     "text": [
      "EH\n"
     ]
    },
    {
     "name": "stderr",
     "output_type": "stream",
     "text": [
      "\n",
      "  0%|          | 0/1 [00:00<?, ?it/s]\u001b[A"
     ]
    },
    {
     "name": "stdout",
     "output_type": "stream",
     "text": [
      "MR283073\n"
     ]
    },
    {
     "name": "stderr",
     "output_type": "stream",
     "text": [
      "\n",
      "100%|██████████| 1/1 [00:01<00:00,  1.03s/it]\u001b[A\n",
      " 36%|███▋      | 24/66 [00:58<01:14,  1.78s/it]"
     ]
    },
    {
     "name": "stdout",
     "output_type": "stream",
     "text": [
      "FW\n"
     ]
    },
    {
     "name": "stderr",
     "output_type": "stream",
     "text": [
      "\n",
      "  0%|          | 0/5 [00:00<?, ?it/s]\u001b[A"
     ]
    },
    {
     "name": "stdout",
     "output_type": "stream",
     "text": [
      "402-00558\n"
     ]
    },
    {
     "name": "stderr",
     "output_type": "stream",
     "text": [
      "\n",
      " 20%|██        | 1/5 [00:01<00:05,  1.28s/it]\u001b[A"
     ]
    },
    {
     "name": "stdout",
     "output_type": "stream",
     "text": [
      "402R-00017\n"
     ]
    },
    {
     "name": "stderr",
     "output_type": "stream",
     "text": [
      "\n",
      " 40%|████      | 2/5 [00:03<00:05,  1.94s/it]\u001b[A"
     ]
    },
    {
     "name": "stdout",
     "output_type": "stream",
     "text": [
      "402-00891\n"
     ]
    },
    {
     "name": "stderr",
     "output_type": "stream",
     "text": [
      "\n",
      " 60%|██████    | 3/5 [00:05<00:03,  1.86s/it]\u001b[A"
     ]
    },
    {
     "name": "stdout",
     "output_type": "stream",
     "text": [
      "402R-00020\n"
     ]
    },
    {
     "name": "stderr",
     "output_type": "stream",
     "text": [
      "\n",
      " 80%|████████  | 4/5 [00:08<00:02,  2.18s/it]\u001b[A"
     ]
    },
    {
     "name": "stdout",
     "output_type": "stream",
     "text": [
      "402R-00747\n"
     ]
    },
    {
     "name": "stderr",
     "output_type": "stream",
     "text": [
      "\n",
      "100%|██████████| 5/5 [00:09<00:00,  2.00s/it]\u001b[A\n",
      " 38%|███▊      | 25/66 [01:08<02:53,  4.24s/it]"
     ]
    },
    {
     "name": "stdout",
     "output_type": "stream",
     "text": [
      "GT\n"
     ]
    },
    {
     "name": "stderr",
     "output_type": "stream",
     "text": [
      "\n",
      "  0%|          | 0/2 [00:00<?, ?it/s]\u001b[A"
     ]
    },
    {
     "name": "stdout",
     "output_type": "stream",
     "text": [
      "C9-0000385-LIC\n"
     ]
    },
    {
     "name": "stderr",
     "output_type": "stream",
     "text": [
      "\n",
      " 50%|█████     | 1/2 [00:01<00:01,  1.35s/it]\u001b[A"
     ]
    },
    {
     "name": "stdout",
     "output_type": "stream",
     "text": [
      "C9-0000170-LIC\n"
     ]
    },
    {
     "name": "stderr",
     "output_type": "stream",
     "text": [
      "\n",
      "100%|██████████| 2/2 [00:02<00:00,  1.19s/it]\u001b[A\n",
      " 39%|███▉      | 26/66 [01:10<02:27,  3.69s/it]"
     ]
    },
    {
     "name": "stdout",
     "output_type": "stream",
     "text": [
      "GLNR\n"
     ]
    },
    {
     "name": "stderr",
     "output_type": "stream",
     "text": [
      "\n",
      "  0%|          | 0/6 [00:00<?, ?it/s]\u001b[A"
     ]
    },
    {
     "name": "stdout",
     "output_type": "stream",
     "text": [
      "PC-000334\n"
     ]
    },
    {
     "name": "stderr",
     "output_type": "stream",
     "text": [
      "\n",
      " 17%|█▋        | 1/6 [00:01<00:05,  1.18s/it]\u001b[A"
     ]
    },
    {
     "name": "stdout",
     "output_type": "stream",
     "text": [
      "PC-000613\n"
     ]
    },
    {
     "name": "stderr",
     "output_type": "stream",
     "text": [
      "\n",
      " 33%|███▎      | 2/6 [00:02<00:04,  1.11s/it]\u001b[A"
     ]
    },
    {
     "name": "stdout",
     "output_type": "stream",
     "text": [
      "PC-000722\n"
     ]
    },
    {
     "name": "stderr",
     "output_type": "stream",
     "text": [
      "\n",
      " 50%|█████     | 3/6 [00:03<00:03,  1.06s/it]\u001b[A"
     ]
    },
    {
     "name": "stdout",
     "output_type": "stream",
     "text": [
      "AU-R-000182\n"
     ]
    },
    {
     "name": "stderr",
     "output_type": "stream",
     "text": [
      "\n",
      " 67%|██████▋   | 4/6 [00:04<00:02,  1.14s/it]\u001b[A"
     ]
    },
    {
     "name": "stdout",
     "output_type": "stream",
     "text": [
      "AU-R-000461\n"
     ]
    },
    {
     "name": "stderr",
     "output_type": "stream",
     "text": [
      "\n",
      " 83%|████████▎ | 5/6 [00:05<00:01,  1.10s/it]\u001b[A"
     ]
    },
    {
     "name": "stdout",
     "output_type": "stream",
     "text": [
      "AU-R-000559\n"
     ]
    },
    {
     "name": "stderr",
     "output_type": "stream",
     "text": [
      "\n",
      "100%|██████████| 6/6 [00:06<00:00,  1.09s/it]\u001b[A\n",
      " 41%|████      | 27/66 [01:17<02:57,  4.55s/it]"
     ]
    },
    {
     "name": "stdout",
     "output_type": "stream",
     "text": [
      "GRG\n"
     ]
    },
    {
     "name": "stderr",
     "output_type": "stream",
     "text": [
      "\n",
      "  0%|          | 0/2 [00:00<?, ?it/s]\u001b[A"
     ]
    },
    {
     "name": "stdout",
     "output_type": "stream",
     "text": [
      "C10-0000169-LIC\n"
     ]
    },
    {
     "name": "stderr",
     "output_type": "stream",
     "text": [
      "\n",
      " 50%|█████     | 1/2 [00:02<00:02,  2.43s/it]\u001b[A"
     ]
    },
    {
     "name": "stdout",
     "output_type": "stream",
     "text": [
      "C10-0000408-LIC\n"
     ]
    },
    {
     "name": "stderr",
     "output_type": "stream",
     "text": [
      "\n",
      "100%|██████████| 2/2 [00:04<00:00,  2.13s/it]\u001b[A\n",
      " 42%|████▏     | 28/66 [01:21<02:49,  4.46s/it]"
     ]
    },
    {
     "name": "stdout",
     "output_type": "stream",
     "text": [
      "GTR\n"
     ]
    },
    {
     "name": "stderr",
     "output_type": "stream",
     "text": [
      "\n",
      "  0%|          | 0/2 [00:00<?, ?it/s]\u001b[A"
     ]
    },
    {
     "name": "stdout",
     "output_type": "stream",
     "text": [
      "PC-000225\n"
     ]
    },
    {
     "name": "stderr",
     "output_type": "stream",
     "text": [
      "\n",
      " 50%|█████     | 1/2 [00:01<00:01,  1.37s/it]\u001b[A"
     ]
    },
    {
     "name": "stdout",
     "output_type": "stream",
     "text": [
      "AU-R-000163\n"
     ]
    },
    {
     "name": "stderr",
     "output_type": "stream",
     "text": [
      "\n",
      "100%|██████████| 2/2 [00:03<00:00,  1.68s/it]\u001b[A\n",
      " 44%|████▍     | 29/66 [01:24<02:32,  4.13s/it]"
     ]
    },
    {
     "name": "stdout",
     "output_type": "stream",
     "text": [
      "GHC\n"
     ]
    },
    {
     "name": "stderr",
     "output_type": "stream",
     "text": [
      "\n",
      "  0%|          | 0/1 [00:00<?, ?it/s]\u001b[A"
     ]
    },
    {
     "name": "stdout",
     "output_type": "stream",
     "text": [
      "C10-0000414-LIC\n"
     ]
    },
    {
     "name": "stderr",
     "output_type": "stream",
     "text": [
      "\n",
      "100%|██████████| 1/1 [00:01<00:00,  1.80s/it]\u001b[A\n",
      " 45%|████▌     | 30/66 [01:26<02:03,  3.43s/it]"
     ]
    },
    {
     "name": "stdout",
     "output_type": "stream",
     "text": [
      "GF\n"
     ]
    },
    {
     "name": "stderr",
     "output_type": "stream",
     "text": [
      "\n",
      "  0%|          | 0/6 [00:00<?, ?it/s]\u001b[A"
     ]
    },
    {
     "name": "stdout",
     "output_type": "stream",
     "text": [
      "C10-0000224-LIC\n"
     ]
    },
    {
     "name": "stderr",
     "output_type": "stream",
     "text": [
      "\n",
      " 17%|█▋        | 1/6 [00:02<00:13,  2.77s/it]\u001b[A"
     ]
    },
    {
     "name": "stdout",
     "output_type": "stream",
     "text": [
      "C10-0000805-LIC\n"
     ]
    },
    {
     "name": "stderr",
     "output_type": "stream",
     "text": [
      "\n",
      " 33%|███▎      | 2/6 [00:03<00:07,  1.83s/it]\u001b[A"
     ]
    },
    {
     "name": "stdout",
     "output_type": "stream",
     "text": [
      "C10-0000824-LIC\n"
     ]
    },
    {
     "name": "stderr",
     "output_type": "stream",
     "text": [
      "\n",
      " 50%|█████     | 3/6 [00:05<00:04,  1.61s/it]\u001b[A"
     ]
    },
    {
     "name": "stdout",
     "output_type": "stream",
     "text": [
      "C12-0000191-LIC\n"
     ]
    },
    {
     "name": "stderr",
     "output_type": "stream",
     "text": [
      "\n",
      " 67%|██████▋   | 4/6 [00:06<00:02,  1.50s/it]\u001b[A"
     ]
    },
    {
     "name": "stdout",
     "output_type": "stream",
     "text": [
      "C10-0000700-LIC\n"
     ]
    },
    {
     "name": "stderr",
     "output_type": "stream",
     "text": [
      "\n",
      " 83%|████████▎ | 5/6 [00:07<00:01,  1.45s/it]\u001b[A"
     ]
    },
    {
     "name": "stdout",
     "output_type": "stream",
     "text": [
      "C10-0000117-LIC\n"
     ]
    },
    {
     "name": "stderr",
     "output_type": "stream",
     "text": [
      "\n",
      "100%|██████████| 6/6 [00:10<00:00,  1.78s/it]\u001b[A\n",
      " 47%|████▋     | 31/66 [01:37<03:16,  5.60s/it]"
     ]
    },
    {
     "name": "stdout",
     "output_type": "stream",
     "text": [
      "HB\n"
     ]
    },
    {
     "name": "stderr",
     "output_type": "stream",
     "text": [
      "\n",
      "  0%|          | 0/3 [00:00<?, ?it/s]\u001b[A"
     ]
    },
    {
     "name": "stdout",
     "output_type": "stream",
     "text": [
      "C10-0000339-LIC\n"
     ]
    },
    {
     "name": "stderr",
     "output_type": "stream",
     "text": [
      "\n",
      " 33%|███▎      | 1/3 [00:01<00:03,  1.88s/it]\u001b[A"
     ]
    },
    {
     "name": "stdout",
     "output_type": "stream",
     "text": [
      "C10-0000624-LIC\n"
     ]
    },
    {
     "name": "stderr",
     "output_type": "stream",
     "text": [
      "\n",
      " 67%|██████▋   | 2/3 [00:03<00:01,  1.52s/it]\u001b[A"
     ]
    },
    {
     "name": "stdout",
     "output_type": "stream",
     "text": [
      "C10-0000301-LIC\n"
     ]
    },
    {
     "name": "stderr",
     "output_type": "stream",
     "text": [
      "\n",
      "100%|██████████| 3/3 [00:04<00:00,  1.47s/it]\u001b[A\n",
      " 48%|████▊     | 32/66 [01:41<02:58,  5.25s/it]"
     ]
    },
    {
     "name": "stdout",
     "output_type": "stream",
     "text": [
      "HPCC\n"
     ]
    },
    {
     "name": "stderr",
     "output_type": "stream",
     "text": [
      "\n",
      "  0%|          | 0/2 [00:00<?, ?it/s]\u001b[A"
     ]
    },
    {
     "name": "stdout",
     "output_type": "stream",
     "text": [
      "C10-0000064-LIC\n"
     ]
    },
    {
     "name": "stderr",
     "output_type": "stream",
     "text": [
      "\n",
      " 50%|█████     | 1/2 [00:04<00:04,  4.08s/it]\u001b[A"
     ]
    },
    {
     "name": "stdout",
     "output_type": "stream",
     "text": [
      "C10-0000005-LIC\n"
     ]
    },
    {
     "name": "stderr",
     "output_type": "stream",
     "text": [
      "\n",
      "100%|██████████| 2/2 [00:05<00:00,  2.95s/it]\u001b[A\n",
      " 50%|█████     | 33/66 [01:47<02:59,  5.44s/it]"
     ]
    },
    {
     "name": "stdout",
     "output_type": "stream",
     "text": [
      "HC\n"
     ]
    },
    {
     "name": "stderr",
     "output_type": "stream",
     "text": [
      "\n",
      "  0%|          | 0/1 [00:00<?, ?it/s]\u001b[A"
     ]
    },
    {
     "name": "stdout",
     "output_type": "stream",
     "text": [
      "C9-0000341-LIC\n"
     ]
    },
    {
     "name": "stderr",
     "output_type": "stream",
     "text": [
      "\n",
      "100%|██████████| 1/1 [00:01<00:00,  1.22s/it]\u001b[A\n",
      " 52%|█████▏    | 34/66 [01:48<02:13,  4.18s/it]"
     ]
    },
    {
     "name": "stdout",
     "output_type": "stream",
     "text": [
      "IDC\n"
     ]
    },
    {
     "name": "stderr",
     "output_type": "stream",
     "text": [
      "\n",
      "  0%|          | 0/1 [00:00<?, ?it/s]\u001b[A"
     ]
    },
    {
     "name": "stdout",
     "output_type": "stream",
     "text": [
      "C9-0000320-LIC\n"
     ]
    },
    {
     "name": "stderr",
     "output_type": "stream",
     "text": [
      "\n",
      "100%|██████████| 1/1 [00:01<00:00,  1.66s/it]\u001b[A\n",
      " 53%|█████▎    | 35/66 [01:50<01:46,  3.42s/it]"
     ]
    },
    {
     "name": "stdout",
     "output_type": "stream",
     "text": [
      "KC\n"
     ]
    },
    {
     "name": "stderr",
     "output_type": "stream",
     "text": [
      "\n",
      "  0%|          | 0/11 [00:00<?, ?it/s]\u001b[A"
     ]
    },
    {
     "name": "stdout",
     "output_type": "stream",
     "text": [
      "402-00664\n"
     ]
    },
    {
     "name": "stderr",
     "output_type": "stream",
     "text": [
      "\n",
      "  9%|▉         | 1/11 [00:01<00:11,  1.12s/it]\u001b[A"
     ]
    },
    {
     "name": "stdout",
     "output_type": "stream",
     "text": [
      "402R-00515\n"
     ]
    },
    {
     "name": "stderr",
     "output_type": "stream",
     "text": [
      "\n",
      " 18%|█▊        | 2/11 [00:02<00:12,  1.35s/it]\u001b[A"
     ]
    },
    {
     "name": "stdout",
     "output_type": "stream",
     "text": [
      "402-01146\n"
     ]
    },
    {
     "name": "stderr",
     "output_type": "stream",
     "text": [
      "\n",
      " 27%|██▋       | 3/11 [00:03<00:09,  1.21s/it]\u001b[A"
     ]
    },
    {
     "name": "stdout",
     "output_type": "stream",
     "text": [
      "402-00573\n"
     ]
    },
    {
     "name": "stderr",
     "output_type": "stream",
     "text": [
      "\n",
      " 36%|███▋      | 4/11 [00:05<00:09,  1.29s/it]\u001b[A"
     ]
    },
    {
     "name": "stdout",
     "output_type": "stream",
     "text": [
      "402R-00544\n"
     ]
    },
    {
     "name": "stderr",
     "output_type": "stream",
     "text": [
      "\n",
      " 45%|████▌     | 5/11 [00:07<00:09,  1.63s/it]\u001b[A"
     ]
    },
    {
     "name": "stdout",
     "output_type": "stream",
     "text": [
      "402-00323\n"
     ]
    },
    {
     "name": "stderr",
     "output_type": "stream",
     "text": [
      "\n",
      " 55%|█████▍    | 6/11 [00:08<00:07,  1.45s/it]\u001b[A"
     ]
    },
    {
     "name": "stdout",
     "output_type": "stream",
     "text": [
      "402R-00900\n"
     ]
    },
    {
     "name": "stderr",
     "output_type": "stream",
     "text": [
      "\n",
      " 64%|██████▎   | 7/11 [00:09<00:05,  1.36s/it]\u001b[A"
     ]
    },
    {
     "name": "stdout",
     "output_type": "stream",
     "text": [
      "402R-00002\n"
     ]
    },
    {
     "name": "stderr",
     "output_type": "stream",
     "text": [
      "\n",
      " 73%|███████▎  | 8/11 [00:10<00:03,  1.27s/it]\u001b[A"
     ]
    },
    {
     "name": "stdout",
     "output_type": "stream",
     "text": [
      "402R-00035\n"
     ]
    },
    {
     "name": "stderr",
     "output_type": "stream",
     "text": [
      "\n",
      " 82%|████████▏ | 9/11 [00:12<00:02,  1.33s/it]\u001b[A"
     ]
    },
    {
     "name": "stdout",
     "output_type": "stream",
     "text": [
      "402R-00574\n"
     ]
    },
    {
     "name": "stderr",
     "output_type": "stream",
     "text": [
      "\n",
      " 91%|█████████ | 10/11 [00:13<00:01,  1.35s/it]\u001b[A"
     ]
    },
    {
     "name": "stdout",
     "output_type": "stream",
     "text": [
      "402-00037\n"
     ]
    },
    {
     "name": "stderr",
     "output_type": "stream",
     "text": [
      "\n",
      "100%|██████████| 11/11 [00:14<00:00,  1.34s/it]\u001b[A\n",
      " 55%|█████▍    | 36/66 [02:05<03:24,  6.83s/it]"
     ]
    },
    {
     "name": "stdout",
     "output_type": "stream",
     "text": [
      "LBC\n"
     ]
    },
    {
     "name": "stderr",
     "output_type": "stream",
     "text": [
      "\n",
      "  0%|          | 0/1 [00:00<?, ?it/s]\u001b[A"
     ]
    },
    {
     "name": "stdout",
     "output_type": "stream",
     "text": [
      "C9-0000154-LIC\n"
     ]
    },
    {
     "name": "stderr",
     "output_type": "stream",
     "text": [
      "\n",
      "100%|██████████| 1/1 [00:01<00:00,  1.55s/it]\u001b[A\n",
      " 56%|█████▌    | 37/66 [02:06<02:32,  5.24s/it]"
     ]
    },
    {
     "name": "stdout",
     "output_type": "stream",
     "text": [
      "ML\n"
     ]
    },
    {
     "name": "stderr",
     "output_type": "stream",
     "text": [
      "\n",
      "  0%|          | 0/1 [00:00<?, ?it/s]\u001b[A"
     ]
    },
    {
     "name": "stdout",
     "output_type": "stream",
     "text": [
      "C9-0000300-LIC\n"
     ]
    },
    {
     "name": "stderr",
     "output_type": "stream",
     "text": [
      "\n",
      "100%|██████████| 1/1 [00:01<00:00,  1.82s/it]\u001b[A\n",
      " 58%|█████▊    | 38/66 [02:08<01:58,  4.22s/it]"
     ]
    },
    {
     "name": "stdout",
     "output_type": "stream",
     "text": [
      "MW\n"
     ]
    },
    {
     "name": "stderr",
     "output_type": "stream",
     "text": [
      "\n",
      "  0%|          | 0/1 [00:00<?, ?it/s]\u001b[A"
     ]
    },
    {
     "name": "stdout",
     "output_type": "stream",
     "text": [
      "C10-0000332-LIC\n"
     ]
    },
    {
     "name": "stderr",
     "output_type": "stream",
     "text": [
      "\n",
      "100%|██████████| 1/1 [00:02<00:00,  2.16s/it]\u001b[A\n",
      " 59%|█████▉    | 39/66 [02:10<01:37,  3.60s/it]"
     ]
    },
    {
     "name": "stdout",
     "output_type": "stream",
     "text": [
      "MPW\n"
     ]
    },
    {
     "name": "stderr",
     "output_type": "stream",
     "text": [
      "\n",
      "  0%|          | 0/1 [00:00<?, ?it/s]\u001b[A"
     ]
    },
    {
     "name": "stdout",
     "output_type": "stream",
     "text": [
      "C10-0000547-LIC\n"
     ]
    },
    {
     "name": "stderr",
     "output_type": "stream",
     "text": [
      "\n",
      "100%|██████████| 1/1 [00:02<00:00,  2.67s/it]\u001b[A\n",
      " 61%|██████    | 40/66 [02:13<01:26,  3.32s/it]"
     ]
    },
    {
     "name": "stdout",
     "output_type": "stream",
     "text": [
      "MD\n"
     ]
    },
    {
     "name": "stderr",
     "output_type": "stream",
     "text": [
      "\n",
      "  0%|          | 0/1 [00:00<?, ?it/s]\u001b[A"
     ]
    },
    {
     "name": "stdout",
     "output_type": "stream",
     "text": [
      "C9-0000247-LIC\n"
     ]
    },
    {
     "name": "stderr",
     "output_type": "stream",
     "text": [
      "\n",
      "100%|██████████| 1/1 [00:01<00:00,  1.51s/it]\u001b[A\n",
      " 62%|██████▏   | 41/66 [02:15<01:09,  2.78s/it]"
     ]
    },
    {
     "name": "stdout",
     "output_type": "stream",
     "text": [
      "ND\n"
     ]
    },
    {
     "name": "stderr",
     "output_type": "stream",
     "text": [
      "\n",
      "  0%|          | 0/1 [00:00<?, ?it/s]\u001b[A"
     ]
    },
    {
     "name": "stdout",
     "output_type": "stream",
     "text": [
      "C9-0000427-LIC\n"
     ]
    },
    {
     "name": "stderr",
     "output_type": "stream",
     "text": [
      "\n",
      "100%|██████████| 1/1 [00:01<00:00,  1.21s/it]\u001b[A\n",
      " 64%|██████▎   | 42/66 [02:16<00:55,  2.31s/it]"
     ]
    },
    {
     "name": "stdout",
     "output_type": "stream",
     "text": [
      "PGM\n"
     ]
    },
    {
     "name": "stderr",
     "output_type": "stream",
     "text": [
      "\n",
      "  0%|          | 0/11 [00:00<?, ?it/s]\u001b[A"
     ]
    },
    {
     "name": "stdout",
     "output_type": "stream",
     "text": [
      "PC-000160\n"
     ]
    },
    {
     "name": "stderr",
     "output_type": "stream",
     "text": [
      "\n",
      "  9%|▉         | 1/11 [00:01<00:10,  1.04s/it]\u001b[A"
     ]
    },
    {
     "name": "stdout",
     "output_type": "stream",
     "text": [
      "PC-000167\n"
     ]
    },
    {
     "name": "stderr",
     "output_type": "stream",
     "text": [
      "\n",
      " 18%|█▊        | 2/11 [00:02<00:09,  1.08s/it]\u001b[A"
     ]
    },
    {
     "name": "stdout",
     "output_type": "stream",
     "text": [
      "PC-000169\n"
     ]
    },
    {
     "name": "stderr",
     "output_type": "stream",
     "text": [
      "\n",
      " 27%|██▋       | 3/11 [00:03<00:08,  1.04s/it]\u001b[A"
     ]
    },
    {
     "name": "stdout",
     "output_type": "stream",
     "text": [
      "PC-000415\n"
     ]
    },
    {
     "name": "stderr",
     "output_type": "stream",
     "text": [
      "\n",
      " 36%|███▋      | 4/11 [00:04<00:07,  1.13s/it]\u001b[A"
     ]
    },
    {
     "name": "stdout",
     "output_type": "stream",
     "text": [
      "PC-000551\n"
     ]
    },
    {
     "name": "stderr",
     "output_type": "stream",
     "text": [
      "\n",
      " 45%|████▌     | 5/11 [00:05<00:06,  1.07s/it]\u001b[A"
     ]
    },
    {
     "name": "stdout",
     "output_type": "stream",
     "text": [
      "PC-000725\n"
     ]
    },
    {
     "name": "stderr",
     "output_type": "stream",
     "text": [
      "\n",
      " 55%|█████▍    | 6/11 [00:06<00:05,  1.03s/it]\u001b[A"
     ]
    },
    {
     "name": "stdout",
     "output_type": "stream",
     "text": [
      "AU-R-000196\n"
     ]
    },
    {
     "name": "stderr",
     "output_type": "stream",
     "text": [
      "\n",
      " 64%|██████▎   | 7/11 [00:07<00:04,  1.19s/it]\u001b[A"
     ]
    },
    {
     "name": "stdout",
     "output_type": "stream",
     "text": [
      "AU-R-000197\n"
     ]
    },
    {
     "name": "stderr",
     "output_type": "stream",
     "text": [
      "\n",
      " 73%|███████▎  | 8/11 [00:09<00:03,  1.29s/it]\u001b[A"
     ]
    },
    {
     "name": "stdout",
     "output_type": "stream",
     "text": [
      "AU-R-000198\n"
     ]
    },
    {
     "name": "stderr",
     "output_type": "stream",
     "text": [
      "\n",
      " 82%|████████▏ | 9/11 [00:10<00:02,  1.30s/it]\u001b[A"
     ]
    },
    {
     "name": "stdout",
     "output_type": "stream",
     "text": [
      "AU-R-000366\n"
     ]
    },
    {
     "name": "stderr",
     "output_type": "stream",
     "text": [
      "\n",
      " 91%|█████████ | 10/11 [00:12<00:01,  1.32s/it]\u001b[A"
     ]
    },
    {
     "name": "stdout",
     "output_type": "stream",
     "text": [
      "AU-R-000506\n"
     ]
    },
    {
     "name": "stderr",
     "output_type": "stream",
     "text": [
      "\n",
      "100%|██████████| 11/11 [00:13<00:00,  1.23s/it]\u001b[A\n",
      " 65%|██████▌   | 43/66 [02:29<02:10,  5.68s/it]"
     ]
    },
    {
     "name": "stdout",
     "output_type": "stream",
     "text": [
      "PRP\n"
     ]
    },
    {
     "name": "stderr",
     "output_type": "stream",
     "text": [
      "\n",
      "  0%|          | 0/3 [00:00<?, ?it/s]\u001b[A"
     ]
    },
    {
     "name": "stdout",
     "output_type": "stream",
     "text": [
      "C10-0000403-LIC\n"
     ]
    },
    {
     "name": "stderr",
     "output_type": "stream",
     "text": [
      "\n",
      " 33%|███▎      | 1/3 [00:01<00:03,  1.80s/it]\u001b[A"
     ]
    },
    {
     "name": "stdout",
     "output_type": "stream",
     "text": [
      "C10-0000155-LIC\n"
     ]
    },
    {
     "name": "stderr",
     "output_type": "stream",
     "text": [
      "\n",
      " 67%|██████▋   | 2/3 [00:03<00:01,  1.69s/it]\u001b[A"
     ]
    },
    {
     "name": "stdout",
     "output_type": "stream",
     "text": [
      "C10-0000286-LIC\n"
     ]
    },
    {
     "name": "stderr",
     "output_type": "stream",
     "text": [
      "\n",
      "100%|██████████| 3/3 [00:05<00:00,  1.76s/it]\u001b[A\n",
      " 67%|██████▋   | 44/66 [02:35<02:02,  5.56s/it]"
     ]
    },
    {
     "name": "stdout",
     "output_type": "stream",
     "text": [
      "PRL\n"
     ]
    },
    {
     "name": "stderr",
     "output_type": "stream",
     "text": [
      "\n",
      "  0%|          | 0/1 [00:00<?, ?it/s]\u001b[A"
     ]
    },
    {
     "name": "stdout",
     "output_type": "stream",
     "text": [
      "C10-0000759-LIC\n"
     ]
    },
    {
     "name": "stderr",
     "output_type": "stream",
     "text": [
      "\n",
      "100%|██████████| 1/1 [00:01<00:00,  1.63s/it]\u001b[A\n",
      " 68%|██████▊   | 45/66 [02:36<01:32,  4.38s/it]"
     ]
    },
    {
     "name": "stdout",
     "output_type": "stream",
     "text": [
      "PL\n"
     ]
    },
    {
     "name": "stderr",
     "output_type": "stream",
     "text": [
      "\n",
      "  0%|          | 0/1 [00:00<?, ?it/s]\u001b[A"
     ]
    },
    {
     "name": "stdout",
     "output_type": "stream",
     "text": [
      "C10-0000241-LIC\n"
     ]
    },
    {
     "name": "stderr",
     "output_type": "stream",
     "text": [
      "\n",
      "100%|██████████| 1/1 [00:03<00:00,  3.41s/it]\u001b[A\n",
      " 70%|██████▉   | 46/66 [02:40<01:21,  4.09s/it]"
     ]
    },
    {
     "name": "stdout",
     "output_type": "stream",
     "text": [
      "QR\n"
     ]
    },
    {
     "name": "stderr",
     "output_type": "stream",
     "text": [
      "\n",
      "  0%|          | 0/4 [00:00<?, ?it/s]\u001b[A"
     ]
    },
    {
     "name": "stdout",
     "output_type": "stream",
     "text": [
      "PC-000356\n"
     ]
    },
    {
     "name": "stderr",
     "output_type": "stream",
     "text": [
      "\n",
      " 25%|██▌       | 1/4 [00:01<00:03,  1.14s/it]\u001b[A"
     ]
    },
    {
     "name": "stdout",
     "output_type": "stream",
     "text": [
      "AU-R-000233\n"
     ]
    },
    {
     "name": "stderr",
     "output_type": "stream",
     "text": [
      "\n",
      " 50%|█████     | 2/4 [00:02<00:02,  1.43s/it]\u001b[A"
     ]
    },
    {
     "name": "stdout",
     "output_type": "stream",
     "text": [
      "AU-R-000346\n"
     ]
    },
    {
     "name": "stderr",
     "output_type": "stream",
     "text": [
      "\n",
      " 75%|███████▌  | 3/4 [00:04<00:01,  1.54s/it]\u001b[A"
     ]
    },
    {
     "name": "stdout",
     "output_type": "stream",
     "text": [
      "AU-R-000633\n"
     ]
    },
    {
     "name": "stderr",
     "output_type": "stream",
     "text": [
      "\n",
      "100%|██████████| 4/4 [00:05<00:00,  1.41s/it]\u001b[A\n",
      " 71%|███████   | 47/66 [02:45<01:26,  4.56s/it]"
     ]
    },
    {
     "name": "stdout",
     "output_type": "stream",
     "text": [
      "RA\n"
     ]
    },
    {
     "name": "stderr",
     "output_type": "stream",
     "text": [
      "\n",
      "  0%|          | 0/1 [00:00<?, ?it/s]\u001b[A"
     ]
    },
    {
     "name": "stdout",
     "output_type": "stream",
     "text": [
      "C10-0000596-LIC\n"
     ]
    },
    {
     "name": "stderr",
     "output_type": "stream",
     "text": [
      "\n",
      "100%|██████████| 1/1 [00:01<00:00,  1.50s/it]\u001b[A\n",
      " 73%|███████▎  | 48/66 [02:47<01:05,  3.64s/it]"
     ]
    },
    {
     "name": "stdout",
     "output_type": "stream",
     "text": [
      "RGD\n"
     ]
    },
    {
     "name": "stderr",
     "output_type": "stream",
     "text": [
      "\n",
      "  0%|          | 0/1 [00:00<?, ?it/s]\u001b[A"
     ]
    },
    {
     "name": "stdout",
     "output_type": "stream",
     "text": [
      "C9-0000057-LIC\n"
     ]
    },
    {
     "name": "stderr",
     "output_type": "stream",
     "text": [
      "\n",
      "100%|██████████| 1/1 [00:01<00:00,  1.49s/it]\u001b[A\n",
      " 74%|███████▍  | 49/66 [02:48<00:50,  2.99s/it]"
     ]
    },
    {
     "name": "stdout",
     "output_type": "stream",
     "text": [
      "SFV\n"
     ]
    },
    {
     "name": "stderr",
     "output_type": "stream",
     "text": [
      "\n",
      "  0%|          | 0/1 [00:00<?, ?it/s]\u001b[A"
     ]
    },
    {
     "name": "stdout",
     "output_type": "stream",
     "text": [
      "C10-0000041-LIC\n"
     ]
    },
    {
     "name": "stderr",
     "output_type": "stream",
     "text": [
      "\n",
      "100%|██████████| 1/1 [00:02<00:00,  2.03s/it]\u001b[A\n",
      " 76%|███████▌  | 50/66 [02:50<00:43,  2.71s/it]"
     ]
    },
    {
     "name": "stdout",
     "output_type": "stream",
     "text": [
      "SV\n"
     ]
    },
    {
     "name": "stderr",
     "output_type": "stream",
     "text": [
      "\n",
      "  0%|          | 0/1 [00:00<?, ?it/s]\u001b[A"
     ]
    },
    {
     "name": "stdout",
     "output_type": "stream",
     "text": [
      "C9-0000146-LIC\n"
     ]
    },
    {
     "name": "stderr",
     "output_type": "stream",
     "text": [
      "\n",
      "100%|██████████| 1/1 [00:01<00:00,  1.54s/it]\u001b[A\n",
      " 77%|███████▋  | 51/66 [02:52<00:35,  2.36s/it]"
     ]
    },
    {
     "name": "stdout",
     "output_type": "stream",
     "text": [
      "SLCC\n"
     ]
    },
    {
     "name": "stderr",
     "output_type": "stream",
     "text": [
      "\n",
      "  0%|          | 0/1 [00:00<?, ?it/s]\u001b[A"
     ]
    },
    {
     "name": "stdout",
     "output_type": "stream",
     "text": [
      "C10-0000474-LIC\n"
     ]
    },
    {
     "name": "stderr",
     "output_type": "stream",
     "text": [
      "\n",
      "100%|██████████| 1/1 [00:01<00:00,  1.46s/it]\u001b[A\n",
      " 79%|███████▉  | 52/66 [02:53<00:29,  2.09s/it]"
     ]
    },
    {
     "name": "stdout",
     "output_type": "stream",
     "text": [
      "SO\n"
     ]
    },
    {
     "name": "stderr",
     "output_type": "stream",
     "text": [
      "\n",
      "  0%|          | 0/3 [00:00<?, ?it/s]\u001b[A"
     ]
    },
    {
     "name": "stdout",
     "output_type": "stream",
     "text": [
      "C10-0000271-LIC\n"
     ]
    },
    {
     "name": "stderr",
     "output_type": "stream",
     "text": [
      "\n",
      " 33%|███▎      | 1/3 [00:01<00:03,  1.71s/it]\u001b[A"
     ]
    },
    {
     "name": "stdout",
     "output_type": "stream",
     "text": [
      "C12-0000328-LIC\n"
     ]
    },
    {
     "name": "stderr",
     "output_type": "stream",
     "text": [
      "\n",
      " 67%|██████▋   | 2/3 [00:02<00:01,  1.23s/it]\u001b[A"
     ]
    },
    {
     "name": "stdout",
     "output_type": "stream",
     "text": [
      "C9-0000130-LIC\n"
     ]
    },
    {
     "name": "stderr",
     "output_type": "stream",
     "text": [
      "\n",
      "100%|██████████| 3/3 [00:04<00:00,  1.34s/it]\u001b[A\n",
      " 80%|████████  | 53/66 [02:57<00:34,  2.66s/it]"
     ]
    },
    {
     "name": "stdout",
     "output_type": "stream",
     "text": [
      "ST\n"
     ]
    },
    {
     "name": "stderr",
     "output_type": "stream",
     "text": [
      "\n",
      "  0%|          | 0/1 [00:00<?, ?it/s]\u001b[A"
     ]
    },
    {
     "name": "stdout",
     "output_type": "stream",
     "text": [
      "C9-0000323-LIC\n"
     ]
    },
    {
     "name": "stderr",
     "output_type": "stream",
     "text": [
      "\n",
      "100%|██████████| 1/1 [00:01<00:00,  1.42s/it]\u001b[A\n",
      " 82%|████████▏ | 54/66 [02:59<00:27,  2.29s/it]"
     ]
    },
    {
     "name": "stdout",
     "output_type": "stream",
     "text": [
      "DW\n"
     ]
    },
    {
     "name": "stderr",
     "output_type": "stream",
     "text": [
      "\n",
      "  0%|          | 0/1 [00:00<?, ?it/s]\u001b[A"
     ]
    },
    {
     "name": "stdout",
     "output_type": "stream",
     "text": [
      "MR282376\n"
     ]
    },
    {
     "name": "stderr",
     "output_type": "stream",
     "text": [
      "\n",
      "100%|██████████| 1/1 [00:01<00:00,  1.42s/it]\u001b[A\n",
      " 83%|████████▎ | 55/66 [03:00<00:22,  2.03s/it]"
     ]
    },
    {
     "name": "stdout",
     "output_type": "stream",
     "text": [
      "TGL\n"
     ]
    },
    {
     "name": "stderr",
     "output_type": "stream",
     "text": [
      "\n",
      "  0%|          | 0/1 [00:00<?, ?it/s]\u001b[A"
     ]
    },
    {
     "name": "stdout",
     "output_type": "stream",
     "text": [
      "C9-0000412-LIC\n"
     ]
    },
    {
     "name": "stderr",
     "output_type": "stream",
     "text": [
      "\n",
      "100%|██████████| 1/1 [00:01<00:00,  1.47s/it]\u001b[A\n",
      " 85%|████████▍ | 56/66 [03:02<00:18,  1.86s/it]"
     ]
    },
    {
     "name": "stdout",
     "output_type": "stream",
     "text": [
      "TJR\n"
     ]
    },
    {
     "name": "stderr",
     "output_type": "stream",
     "text": [
      "\n",
      "  0%|          | 0/1 [00:00<?, ?it/s]\u001b[A"
     ]
    },
    {
     "name": "stdout",
     "output_type": "stream",
     "text": [
      "C9-0000105-LIC\n"
     ]
    },
    {
     "name": "stderr",
     "output_type": "stream",
     "text": [
      "\n",
      "100%|██████████| 1/1 [00:09<00:00,  9.49s/it]\u001b[A\n",
      " 86%|████████▋ | 57/66 [03:11<00:37,  4.15s/it]"
     ]
    },
    {
     "name": "stdout",
     "output_type": "stream",
     "text": [
      "TTS\n"
     ]
    },
    {
     "name": "stderr",
     "output_type": "stream",
     "text": [
      "\n",
      "  0%|          | 0/2 [00:00<?, ?it/s]\u001b[A"
     ]
    },
    {
     "name": "stdout",
     "output_type": "stream",
     "text": [
      "PC-000718\n"
     ]
    },
    {
     "name": "stderr",
     "output_type": "stream",
     "text": [
      "\n",
      " 50%|█████     | 1/2 [00:01<00:01,  1.09s/it]\u001b[A"
     ]
    },
    {
     "name": "stdout",
     "output_type": "stream",
     "text": [
      "AU-R-000546\n"
     ]
    },
    {
     "name": "stderr",
     "output_type": "stream",
     "text": [
      "\n",
      "100%|██████████| 2/2 [00:02<00:00,  1.03s/it]\u001b[A\n",
      " 88%|████████▊ | 58/66 [03:13<00:28,  3.52s/it]"
     ]
    },
    {
     "name": "stdout",
     "output_type": "stream",
     "text": [
      "TT\n"
     ]
    },
    {
     "name": "stderr",
     "output_type": "stream",
     "text": [
      "\n",
      "  0%|          | 0/1 [00:00<?, ?it/s]\u001b[A"
     ]
    },
    {
     "name": "stdout",
     "output_type": "stream",
     "text": [
      "C9-0000451-LIC\n"
     ]
    },
    {
     "name": "stderr",
     "output_type": "stream",
     "text": [
      "\n",
      "100%|██████████| 1/1 [00:01<00:00,  1.37s/it]\u001b[A\n",
      " 89%|████████▉ | 59/66 [03:15<00:20,  2.88s/it]"
     ]
    },
    {
     "name": "stdout",
     "output_type": "stream",
     "text": [
      "T4L\n"
     ]
    },
    {
     "name": "stderr",
     "output_type": "stream",
     "text": [
      "\n",
      "  0%|          | 0/1 [00:00<?, ?it/s]\u001b[A"
     ]
    },
    {
     "name": "stdout",
     "output_type": "stream",
     "text": [
      "C12-0000302-LIC\n"
     ]
    },
    {
     "name": "stderr",
     "output_type": "stream",
     "text": [
      "\n",
      "100%|██████████| 1/1 [00:01<00:00,  1.28s/it]\u001b[A\n",
      " 91%|█████████ | 60/66 [03:16<00:14,  2.40s/it]"
     ]
    },
    {
     "name": "stdout",
     "output_type": "stream",
     "text": [
      "TL\n"
     ]
    },
    {
     "name": "stderr",
     "output_type": "stream",
     "text": [
      "\n",
      "  0%|          | 0/19 [00:00<?, ?it/s]\u001b[A"
     ]
    },
    {
     "name": "stdout",
     "output_type": "stream",
     "text": [
      "402R-00808\n"
     ]
    },
    {
     "name": "stderr",
     "output_type": "stream",
     "text": [
      "\n",
      "  5%|▌         | 1/19 [00:00<00:13,  1.31it/s]\u001b[A"
     ]
    },
    {
     "name": "stdout",
     "output_type": "stream",
     "text": [
      "402-00370\n"
     ]
    },
    {
     "name": "stderr",
     "output_type": "stream",
     "text": [
      "\n",
      " 11%|█         | 2/19 [00:01<00:16,  1.05it/s]\u001b[A"
     ]
    },
    {
     "name": "stdout",
     "output_type": "stream",
     "text": [
      "402R-00602\n"
     ]
    },
    {
     "name": "stderr",
     "output_type": "stream",
     "text": [
      "\n",
      " 16%|█▌        | 3/19 [00:03<00:20,  1.26s/it]\u001b[A"
     ]
    },
    {
     "name": "stdout",
     "output_type": "stream",
     "text": [
      "402R-00041\n"
     ]
    },
    {
     "name": "stderr",
     "output_type": "stream",
     "text": [
      "\n",
      " 21%|██        | 4/19 [00:05<00:22,  1.47s/it]\u001b[A"
     ]
    },
    {
     "name": "stdout",
     "output_type": "stream",
     "text": [
      "402R-00807\n"
     ]
    },
    {
     "name": "stderr",
     "output_type": "stream",
     "text": [
      "\n",
      " 26%|██▋       | 5/19 [00:06<00:20,  1.46s/it]\u001b[A"
     ]
    },
    {
     "name": "stdout",
     "output_type": "stream",
     "text": [
      "402-01142\n"
     ]
    },
    {
     "name": "stderr",
     "output_type": "stream",
     "text": [
      "\n",
      " 32%|███▏      | 6/19 [00:07<00:17,  1.34s/it]\u001b[A"
     ]
    },
    {
     "name": "stdout",
     "output_type": "stream",
     "text": [
      "402R-00573\n"
     ]
    },
    {
     "name": "stderr",
     "output_type": "stream",
     "text": [
      "\n",
      " 37%|███▋      | 7/19 [00:09<00:16,  1.38s/it]\u001b[A"
     ]
    },
    {
     "name": "stdout",
     "output_type": "stream",
     "text": [
      "402-00473\n"
     ]
    },
    {
     "name": "stderr",
     "output_type": "stream",
     "text": [
      "\n",
      " 42%|████▏     | 8/19 [00:10<00:14,  1.36s/it]\u001b[A"
     ]
    },
    {
     "name": "stdout",
     "output_type": "stream",
     "text": [
      "402R-00536\n"
     ]
    },
    {
     "name": "stderr",
     "output_type": "stream",
     "text": [
      "\n",
      " 47%|████▋     | 9/19 [00:11<00:13,  1.35s/it]\u001b[A"
     ]
    },
    {
     "name": "stdout",
     "output_type": "stream",
     "text": [
      "402R-00066\n"
     ]
    },
    {
     "name": "stderr",
     "output_type": "stream",
     "text": [
      "\n",
      " 53%|█████▎    | 10/19 [00:13<00:12,  1.36s/it]\u001b[A"
     ]
    },
    {
     "name": "stdout",
     "output_type": "stream",
     "text": [
      "402R-00362\n"
     ]
    },
    {
     "name": "stderr",
     "output_type": "stream",
     "text": [
      "\n",
      " 58%|█████▊    | 11/19 [00:14<00:09,  1.23s/it]\u001b[A"
     ]
    },
    {
     "name": "stdout",
     "output_type": "stream",
     "text": [
      "402-00390\n"
     ]
    },
    {
     "name": "stderr",
     "output_type": "stream",
     "text": [
      "\n",
      " 63%|██████▎   | 12/19 [00:15<00:09,  1.33s/it]\u001b[A"
     ]
    },
    {
     "name": "stdout",
     "output_type": "stream",
     "text": [
      "402-01201\n"
     ]
    },
    {
     "name": "stderr",
     "output_type": "stream",
     "text": [
      "\n",
      " 68%|██████▊   | 13/19 [00:17<00:08,  1.45s/it]\u001b[A"
     ]
    },
    {
     "name": "stdout",
     "output_type": "stream",
     "text": [
      "402R-00781\n"
     ]
    },
    {
     "name": "stderr",
     "output_type": "stream",
     "text": [
      "\n",
      " 74%|███████▎  | 14/19 [00:19<00:07,  1.47s/it]\u001b[A"
     ]
    },
    {
     "name": "stdout",
     "output_type": "stream",
     "text": [
      "402R-00505\n"
     ]
    },
    {
     "name": "stderr",
     "output_type": "stream",
     "text": [
      "\n",
      " 79%|███████▉  | 15/19 [00:19<00:05,  1.27s/it]\u001b[A"
     ]
    },
    {
     "name": "stdout",
     "output_type": "stream",
     "text": [
      "402R-00487\n"
     ]
    },
    {
     "name": "stderr",
     "output_type": "stream",
     "text": [
      "\n",
      " 84%|████████▍ | 16/19 [00:20<00:03,  1.18s/it]\u001b[A"
     ]
    },
    {
     "name": "stdout",
     "output_type": "stream",
     "text": [
      "402R-00242\n"
     ]
    },
    {
     "name": "stderr",
     "output_type": "stream",
     "text": [
      "\n",
      " 89%|████████▉ | 17/19 [00:21<00:02,  1.06s/it]\u001b[A"
     ]
    },
    {
     "name": "stdout",
     "output_type": "stream",
     "text": [
      "402R-00246\n"
     ]
    },
    {
     "name": "stderr",
     "output_type": "stream",
     "text": [
      "\n",
      " 95%|█████████▍| 18/19 [00:22<00:01,  1.02s/it]\u001b[A"
     ]
    },
    {
     "name": "stdout",
     "output_type": "stream",
     "text": [
      "402R-00571\n"
     ]
    },
    {
     "name": "stderr",
     "output_type": "stream",
     "text": [
      "\n",
      "100%|██████████| 19/19 [00:23<00:00,  1.23s/it]\u001b[A\n",
      " 92%|█████████▏| 61/66 [03:39<00:43,  8.68s/it]"
     ]
    },
    {
     "name": "stdout",
     "output_type": "stream",
     "text": [
      "UHHC\n"
     ]
    },
    {
     "name": "stderr",
     "output_type": "stream",
     "text": [
      "\n",
      "  0%|          | 0/2 [00:00<?, ?it/s]\u001b[A"
     ]
    },
    {
     "name": "stdout",
     "output_type": "stream",
     "text": [
      "C10-0000817-LIC\n"
     ]
    },
    {
     "name": "stderr",
     "output_type": "stream",
     "text": [
      "\n",
      " 50%|█████     | 1/2 [00:01<00:01,  1.05s/it]\u001b[A"
     ]
    },
    {
     "name": "stdout",
     "output_type": "stream",
     "text": [
      "C9-0000082-LIC\n"
     ]
    },
    {
     "name": "stderr",
     "output_type": "stream",
     "text": [
      "\n",
      "100%|██████████| 2/2 [00:03<00:00,  1.81s/it]\u001b[A\n",
      " 94%|█████████▍| 62/66 [03:43<00:28,  7.17s/it]"
     ]
    },
    {
     "name": "stdout",
     "output_type": "stream",
     "text": [
      "UR\n"
     ]
    },
    {
     "name": "stderr",
     "output_type": "stream",
     "text": [
      "\n",
      "  0%|          | 0/7 [00:00<?, ?it/s]\u001b[A"
     ]
    },
    {
     "name": "stdout",
     "output_type": "stream",
     "text": [
      "C10-0000731-LIC\n"
     ]
    },
    {
     "name": "stderr",
     "output_type": "stream",
     "text": [
      "\n",
      " 14%|█▍        | 1/7 [00:01<00:10,  1.75s/it]\u001b[A"
     ]
    },
    {
     "name": "stdout",
     "output_type": "stream",
     "text": [
      "C10-0000776-LIC\n"
     ]
    },
    {
     "name": "stderr",
     "output_type": "stream",
     "text": [
      "\n",
      " 29%|██▊       | 2/7 [00:03<00:07,  1.57s/it]\u001b[A"
     ]
    },
    {
     "name": "stdout",
     "output_type": "stream",
     "text": [
      "C10-0000246-LIC\n"
     ]
    },
    {
     "name": "stderr",
     "output_type": "stream",
     "text": [
      "\n",
      " 43%|████▎     | 3/7 [00:06<00:09,  2.27s/it]\u001b[A"
     ]
    },
    {
     "name": "stdout",
     "output_type": "stream",
     "text": [
      "C10-0000464-LIC\n"
     ]
    },
    {
     "name": "stderr",
     "output_type": "stream",
     "text": [
      "\n",
      " 57%|█████▋    | 4/7 [00:08<00:07,  2.34s/it]\u001b[A"
     ]
    },
    {
     "name": "stdout",
     "output_type": "stream",
     "text": [
      "C10-0000618-LIC\n"
     ]
    },
    {
     "name": "stderr",
     "output_type": "stream",
     "text": [
      "\n",
      " 71%|███████▏  | 5/7 [00:10<00:04,  2.30s/it]\u001b[A"
     ]
    },
    {
     "name": "stdout",
     "output_type": "stream",
     "text": [
      "C10-0000590-LIC\n"
     ]
    },
    {
     "name": "stderr",
     "output_type": "stream",
     "text": [
      "\n",
      " 86%|████████▌ | 6/7 [00:12<00:02,  2.05s/it]\u001b[A"
     ]
    },
    {
     "name": "stdout",
     "output_type": "stream",
     "text": [
      "C12-0000333-LIC\n"
     ]
    },
    {
     "name": "stderr",
     "output_type": "stream",
     "text": [
      "\n",
      "100%|██████████| 7/7 [00:13<00:00,  2.00s/it]\u001b[A\n",
      " 95%|█████████▌| 63/66 [03:57<00:27,  9.22s/it]"
     ]
    },
    {
     "name": "stdout",
     "output_type": "stream",
     "text": [
      "VS\n"
     ]
    },
    {
     "name": "stderr",
     "output_type": "stream",
     "text": [
      "\n",
      "  0%|          | 0/2 [00:00<?, ?it/s]\u001b[A"
     ]
    },
    {
     "name": "stdout",
     "output_type": "stream",
     "text": [
      "402-00840\n"
     ]
    },
    {
     "name": "stderr",
     "output_type": "stream",
     "text": [
      "\n",
      " 50%|█████     | 1/2 [00:01<00:01,  1.36s/it]\u001b[A"
     ]
    },
    {
     "name": "stdout",
     "output_type": "stream",
     "text": [
      "402R-00545\n"
     ]
    },
    {
     "name": "stderr",
     "output_type": "stream",
     "text": [
      "\n",
      "100%|██████████| 2/2 [00:03<00:00,  1.95s/it]\u001b[A\n",
      " 97%|█████████▋| 64/66 [04:01<00:15,  7.62s/it]"
     ]
    },
    {
     "name": "stdout",
     "output_type": "stream",
     "text": [
      "VOY\n"
     ]
    },
    {
     "name": "stderr",
     "output_type": "stream",
     "text": [
      "\n",
      "  0%|          | 0/3 [00:00<?, ?it/s]\u001b[A"
     ]
    },
    {
     "name": "stdout",
     "output_type": "stream",
     "text": [
      "C12-0000030-LIC\n"
     ]
    },
    {
     "name": "stderr",
     "output_type": "stream",
     "text": [
      "\n",
      " 33%|███▎      | 1/3 [00:02<00:05,  2.97s/it]\u001b[A"
     ]
    },
    {
     "name": "stdout",
     "output_type": "stream",
     "text": [
      "C10-0000802-LIC\n"
     ]
    },
    {
     "name": "stderr",
     "output_type": "stream",
     "text": [
      "\n",
      " 67%|██████▋   | 2/3 [00:04<00:01,  1.93s/it]\u001b[A"
     ]
    },
    {
     "name": "stdout",
     "output_type": "stream",
     "text": [
      "C12-0000159-LIC\n"
     ]
    },
    {
     "name": "stderr",
     "output_type": "stream",
     "text": [
      "\n",
      "100%|██████████| 3/3 [00:05<00:00,  1.73s/it]\u001b[A\n",
      " 98%|█████████▊| 65/66 [04:06<00:06,  6.89s/it]"
     ]
    },
    {
     "name": "stdout",
     "output_type": "stream",
     "text": [
      "WHT\n"
     ]
    },
    {
     "name": "stderr",
     "output_type": "stream",
     "text": [
      "\n",
      "  0%|          | 0/1 [00:00<?, ?it/s]\u001b[A"
     ]
    },
    {
     "name": "stdout",
     "output_type": "stream",
     "text": [
      "C10-0000548-LIC\n"
     ]
    },
    {
     "name": "stderr",
     "output_type": "stream",
     "text": [
      "\n",
      "100%|██████████| 1/1 [00:03<00:00,  3.04s/it]\u001b[A\n",
      "100%|██████████| 66/66 [04:09<00:00,  3.78s/it]\n"
     ]
    }
   ],
   "source": [
    "c,vc,c_short,vc_short = get_vc_list(list(company_df['company_identifier']),TRANSFER_PACKAGES_START_DATE,SALES_TRANSACTIONS_START_DATE,company_df)\n",
    "\n",
    "\n"
   ]
  },
  {
   "cell_type": "code",
   "execution_count": 114,
   "id": "63715105",
   "metadata": {},
   "outputs": [
    {
     "name": "stdout",
     "output_type": "stream",
     "text": [
      "99HT\n",
      "C10-0000279-LIC\n",
      "(27, 4)\n",
      "ALT\n",
      "PC-000310\n",
      "(27, 4)\n",
      "AU-R-000380\n",
      "(27, 4)\n",
      "BS\n",
      "PC-000185\n",
      "(27, 4)\n",
      "AU-R-000156\n",
      "(27, 4)\n",
      "BMC\n",
      "402-00930\n",
      "(27, 4)\n",
      "BBF\n",
      "MR281525\n",
      "(27, 4)\n",
      "BUD\n",
      "C9-0000464-LIC\n",
      "(27, 4)\n",
      "C9-0000467-LIC\n",
      "(27, 4)\n",
      "C9-0000444-LIC\n",
      "(27, 4)\n",
      "C9-0000167-LIC\n",
      "(27, 4)\n",
      "C9-0000399-LIC\n",
      "(27, 4)\n",
      "CHO\n",
      "AU-R-000575\n",
      "(27, 4)\n",
      "CG\n",
      "C9-0000157-LIC\n",
      "(27, 4)\n",
      "CPA\n",
      "C10-0000461-LIC\n",
      "(27, 4)\n",
      "C9-0000348-LIC\n",
      "(27, 4)\n",
      "CPC\n",
      "C9-0000056-LIC\n",
      "(27, 4)\n",
      "CSC\n",
      "C10-0000670-LIC\n",
      "(27, 4)\n",
      "C10-0000918-LIC\n",
      "(27, 4)\n",
      "CCC\n",
      "C12-0000087-LIC\n",
      "(27, 4)\n",
      "CC\n",
      "C10-0000758-LIC\n",
      "(27, 4)\n",
      "DWF\n",
      "402R-00804\n",
      "(27, 4)\n",
      "DCO\n",
      "050-10052885D4C\n",
      "(27, 4)\n",
      "050-10070593E9E\n",
      "(27, 4)\n",
      "DL\n",
      "MR283369\n",
      "(27, 4)\n",
      "DGG\n",
      "C9-0000016-LIC\n",
      "(27, 4)\n",
      "DG\n",
      "PC-000485\n",
      "(27, 4)\n",
      "AU-R-000287\n",
      "(27, 4)\n",
      "AU-R-000359\n",
      "(27, 4)\n",
      "AU-R-000422\n",
      "(27, 4)\n",
      "AU-R-000470\n",
      "(27, 4)\n",
      "AU-R-000572\n",
      "(27, 4)\n",
      "EL\n",
      "C9-0000370-LIC\n",
      "(27, 4)\n",
      "EMA\n",
      "C10-0000774-LIC\n",
      "(27, 4)\n",
      "EMF\n",
      "C10-0000939-LIC\n",
      "(27, 4)\n",
      "EMM\n",
      "C10-0000786-LIC\n",
      "(27, 4)\n",
      "EMT\n",
      "C10-0000695-LIC\n",
      "(27, 4)\n",
      "EH\n",
      "MR283073\n",
      "(27, 4)\n",
      "FW\n",
      "402-00558\n",
      "(27, 4)\n",
      "402R-00017\n",
      "(27, 4)\n",
      "402-00891\n",
      "(27, 4)\n",
      "402R-00020\n",
      "(27, 4)\n",
      "402R-00747\n",
      "(27, 4)\n",
      "GT\n",
      "C9-0000385-LIC\n",
      "(27, 4)\n",
      "C9-0000170-LIC\n",
      "(27, 4)\n",
      "GLNR\n",
      "PC-000334\n",
      "(27, 4)\n",
      "PC-000613\n",
      "(27, 4)\n",
      "PC-000722\n",
      "(27, 4)\n",
      "AU-R-000182\n",
      "(27, 4)\n",
      "AU-R-000461\n",
      "(27, 4)\n",
      "AU-R-000559\n",
      "(27, 4)\n",
      "GRG\n",
      "C10-0000169-LIC\n",
      "(27, 4)\n",
      "C10-0000408-LIC\n",
      "(27, 4)\n",
      "GTR\n",
      "PC-000225\n",
      "(27, 4)\n",
      "AU-R-000163\n",
      "(27, 4)\n",
      "GHC\n",
      "C10-0000414-LIC\n",
      "(27, 4)\n",
      "GF\n",
      "C10-0000224-LIC\n",
      "(27, 4)\n",
      "C10-0000805-LIC\n",
      "(27, 4)\n",
      "C10-0000824-LIC\n",
      "(27, 4)\n",
      "C12-0000191-LIC\n",
      "(27, 4)\n",
      "C10-0000700-LIC\n",
      "(27, 4)\n",
      "C10-0000117-LIC\n",
      "(27, 4)\n",
      "HB\n",
      "C10-0000339-LIC\n",
      "(27, 4)\n",
      "C10-0000624-LIC\n",
      "(27, 4)\n",
      "C10-0000301-LIC\n",
      "(27, 4)\n",
      "HPCC\n",
      "C10-0000064-LIC\n",
      "(27, 4)\n",
      "C10-0000005-LIC\n",
      "(27, 4)\n",
      "HC\n",
      "C9-0000341-LIC\n",
      "(27, 4)\n",
      "IDC\n",
      "C9-0000320-LIC\n",
      "(27, 4)\n",
      "KC\n",
      "402-00664\n",
      "(27, 4)\n",
      "402R-00515\n",
      "(27, 4)\n",
      "402-01146\n",
      "(27, 4)\n",
      "402-00573\n",
      "(27, 4)\n",
      "402R-00544\n",
      "(27, 4)\n",
      "402-00323\n",
      "(27, 4)\n",
      "402R-00900\n",
      "(27, 4)\n",
      "402R-00002\n",
      "(27, 4)\n",
      "402R-00035\n",
      "(27, 4)\n",
      "402R-00574\n",
      "(27, 4)\n",
      "402-00037\n",
      "(27, 4)\n",
      "LBC\n",
      "C9-0000154-LIC\n",
      "(27, 4)\n",
      "ML\n",
      "C9-0000300-LIC\n",
      "(27, 4)\n",
      "MW\n",
      "C10-0000332-LIC\n",
      "(27, 4)\n",
      "MPW\n",
      "C10-0000547-LIC\n",
      "(27, 4)\n",
      "MD\n",
      "C9-0000247-LIC\n",
      "(27, 4)\n",
      "ND\n",
      "C9-0000427-LIC\n",
      "(27, 4)\n",
      "PGM\n",
      "PC-000160\n",
      "(27, 4)\n",
      "PC-000167\n",
      "(27, 4)\n",
      "PC-000169\n",
      "(27, 4)\n",
      "PC-000415\n",
      "(27, 4)\n",
      "PC-000551\n",
      "(27, 4)\n",
      "PC-000725\n",
      "(27, 4)\n",
      "AU-R-000196\n",
      "(27, 4)\n",
      "AU-R-000197\n",
      "(27, 4)\n",
      "AU-R-000198\n",
      "(27, 4)\n",
      "AU-R-000366\n",
      "(27, 4)\n",
      "AU-R-000506\n",
      "(27, 4)\n",
      "PRP\n",
      "C10-0000403-LIC\n",
      "(27, 4)\n",
      "C10-0000155-LIC\n",
      "(27, 4)\n",
      "C10-0000286-LIC\n",
      "(27, 4)\n",
      "PRL\n",
      "C10-0000759-LIC\n",
      "(27, 4)\n",
      "PL\n",
      "C10-0000241-LIC\n",
      "(27, 4)\n",
      "QR\n",
      "PC-000356\n",
      "(27, 4)\n",
      "AU-R-000233\n",
      "(27, 4)\n",
      "AU-R-000346\n",
      "(27, 4)\n",
      "AU-R-000633\n",
      "(27, 4)\n",
      "RA\n",
      "C10-0000596-LIC\n",
      "(27, 4)\n",
      "RGD\n",
      "C9-0000057-LIC\n",
      "(27, 4)\n",
      "SFV\n",
      "C10-0000041-LIC\n",
      "(27, 4)\n",
      "SV\n",
      "C9-0000146-LIC\n",
      "(27, 4)\n",
      "SLCC\n",
      "C10-0000474-LIC\n",
      "(27, 4)\n",
      "SO\n",
      "C10-0000271-LIC\n",
      "(27, 4)\n",
      "C12-0000328-LIC\n",
      "(27, 4)\n",
      "C9-0000130-LIC\n",
      "(27, 4)\n",
      "ST\n",
      "C9-0000323-LIC\n",
      "(27, 4)\n",
      "DW\n",
      "MR282376\n",
      "(27, 4)\n",
      "TGL\n",
      "C9-0000412-LIC\n",
      "(27, 4)\n",
      "TJR\n",
      "C9-0000105-LIC\n",
      "(27, 4)\n",
      "TTS\n",
      "PC-000718\n",
      "(27, 4)\n",
      "AU-R-000546\n",
      "(27, 4)\n",
      "TT\n",
      "C9-0000451-LIC\n",
      "(27, 4)\n",
      "T4L\n",
      "C12-0000302-LIC\n",
      "(27, 4)\n",
      "TL\n",
      "402R-00808\n",
      "402-00370\n",
      "(27, 4)\n",
      "402R-00602\n",
      "(27, 4)\n",
      "402R-00041\n",
      "(27, 4)\n",
      "402R-00807\n",
      "(27, 4)\n",
      "402-01142\n",
      "(27, 4)\n",
      "402R-00573\n",
      "(27, 4)\n",
      "402-00473\n",
      "(27, 4)\n",
      "402R-00536\n",
      "(27, 4)\n",
      "402R-00066\n",
      "(27, 4)\n",
      "402R-00362\n",
      "402-00390\n",
      "(27, 4)\n",
      "402-01201\n",
      "(27, 4)\n",
      "402R-00781\n",
      "(27, 4)\n",
      "402R-00505\n",
      "402R-00487\n",
      "402R-00242\n",
      "402R-00246\n",
      "(27, 4)\n",
      "402R-00571\n",
      "UHHC\n",
      "C10-0000817-LIC\n",
      "(27, 4)\n",
      "C9-0000082-LIC\n",
      "(27, 4)\n",
      "UR\n",
      "C10-0000731-LIC\n",
      "(27, 4)\n",
      "C10-0000776-LIC\n",
      "(27, 4)\n",
      "C10-0000246-LIC\n",
      "(27, 4)\n",
      "C10-0000464-LIC\n",
      "(27, 4)\n",
      "C10-0000618-LIC\n",
      "(27, 4)\n",
      "C10-0000590-LIC\n",
      "(27, 4)\n",
      "C12-0000333-LIC\n",
      "(27, 4)\n",
      "VS\n",
      "402-00840\n",
      "(27, 4)\n",
      "402R-00545\n",
      "(27, 4)\n",
      "VOY\n",
      "C12-0000030-LIC\n",
      "(27, 4)\n",
      "C10-0000802-LIC\n",
      "(27, 4)\n",
      "C12-0000159-LIC\n",
      "(27, 4)\n",
      "WHT\n",
      "C10-0000548-LIC\n",
      "(27, 4)\n"
     ]
    }
   ],
   "source": [
    "df_churn = pd.DataFrame()\n",
    "for k in c.keys():\n",
    "    print(k)\n",
    "    for l in c[k].keys():\n",
    "        print(l)\n",
    "        data_vc = c[k][l]\n",
    "        if str(data_vc) == 'nan':\n",
    "            continue\n",
    "        else:\n",
    "            data_vc['company'] = k\n",
    "            data_vc['location'] = l\n",
    "            print(data_vc.shape)\n",
    "            df_churn = df_churn.append(data_vc)\n",
    "        #data.to_excel('ca_location_analysis/'+'analysis_' + k + '_'+ l+'.xlsx')"
   ]
  },
  {
   "cell_type": "code",
   "execution_count": 113,
   "id": "a56a49fb",
   "metadata": {},
   "outputs": [
    {
     "name": "stdout",
     "output_type": "stream",
     "text": [
      "99HT\n",
      "C10-0000279-LIC\n",
      "(27, 4)\n",
      "ALT\n",
      "PC-000310\n",
      "(27, 4)\n",
      "AU-R-000380\n",
      "(27, 4)\n",
      "BS\n",
      "PC-000185\n",
      "(27, 4)\n",
      "AU-R-000156\n",
      "(27, 4)\n",
      "BMC\n",
      "402-00930\n",
      "(27, 4)\n",
      "BBF\n",
      "MR281525\n",
      "(27, 4)\n",
      "BUD\n",
      "C9-0000464-LIC\n",
      "(27, 4)\n",
      "C9-0000467-LIC\n",
      "(27, 4)\n",
      "C9-0000444-LIC\n",
      "(27, 4)\n",
      "C9-0000167-LIC\n",
      "(27, 4)\n",
      "C9-0000399-LIC\n",
      "(27, 4)\n",
      "CHO\n",
      "AU-R-000575\n",
      "(27, 4)\n",
      "CG\n",
      "C9-0000157-LIC\n",
      "(27, 4)\n",
      "CPA\n",
      "C10-0000461-LIC\n",
      "(27, 4)\n",
      "C9-0000348-LIC\n",
      "(27, 4)\n",
      "CPC\n",
      "C9-0000056-LIC\n",
      "(27, 4)\n",
      "CSC\n",
      "C10-0000670-LIC\n",
      "(27, 4)\n",
      "C10-0000918-LIC\n",
      "(27, 4)\n",
      "CCC\n",
      "C12-0000087-LIC\n",
      "(27, 4)\n",
      "CC\n",
      "C10-0000758-LIC\n",
      "(27, 4)\n",
      "DWF\n",
      "402R-00804\n",
      "(27, 4)\n",
      "DCO\n",
      "050-10052885D4C\n",
      "(27, 4)\n",
      "050-10070593E9E\n",
      "(27, 4)\n",
      "DL\n",
      "MR283369\n",
      "(27, 4)\n",
      "DGG\n",
      "C9-0000016-LIC\n",
      "(27, 4)\n",
      "DG\n",
      "PC-000485\n",
      "(27, 4)\n",
      "AU-R-000287\n",
      "(27, 4)\n",
      "AU-R-000359\n",
      "(27, 4)\n",
      "AU-R-000422\n",
      "(27, 4)\n",
      "AU-R-000470\n",
      "(27, 4)\n",
      "AU-R-000572\n",
      "(27, 4)\n",
      "EL\n",
      "C9-0000370-LIC\n",
      "(27, 4)\n",
      "EMA\n",
      "C10-0000774-LIC\n",
      "(27, 4)\n",
      "EMF\n",
      "C10-0000939-LIC\n",
      "(27, 4)\n",
      "EMM\n",
      "C10-0000786-LIC\n",
      "(27, 4)\n",
      "EMT\n",
      "C10-0000695-LIC\n",
      "(27, 4)\n",
      "EH\n",
      "MR283073\n",
      "(27, 4)\n",
      "FW\n",
      "402-00558\n",
      "(27, 4)\n",
      "402R-00017\n",
      "(27, 4)\n",
      "402-00891\n",
      "(27, 4)\n",
      "402R-00020\n",
      "(27, 4)\n",
      "402R-00747\n",
      "(27, 4)\n",
      "GT\n",
      "C9-0000385-LIC\n",
      "(27, 4)\n",
      "C9-0000170-LIC\n",
      "(27, 4)\n",
      "GLNR\n",
      "PC-000334\n",
      "(27, 4)\n",
      "PC-000613\n",
      "(27, 4)\n",
      "PC-000722\n",
      "(27, 4)\n",
      "AU-R-000182\n",
      "(27, 4)\n",
      "AU-R-000461\n",
      "(27, 4)\n",
      "AU-R-000559\n",
      "(27, 4)\n",
      "GRG\n",
      "C10-0000169-LIC\n",
      "(27, 4)\n",
      "C10-0000408-LIC\n",
      "(27, 4)\n",
      "GTR\n",
      "PC-000225\n",
      "(27, 4)\n",
      "AU-R-000163\n",
      "(27, 4)\n",
      "GHC\n",
      "C10-0000414-LIC\n",
      "(27, 4)\n",
      "GF\n",
      "C10-0000224-LIC\n",
      "(27, 4)\n",
      "C10-0000805-LIC\n",
      "(27, 4)\n",
      "C10-0000824-LIC\n",
      "(27, 4)\n",
      "C12-0000191-LIC\n",
      "(27, 4)\n",
      "C10-0000700-LIC\n",
      "(27, 4)\n",
      "C10-0000117-LIC\n",
      "(27, 4)\n",
      "HB\n",
      "C10-0000339-LIC\n",
      "(27, 4)\n",
      "C10-0000624-LIC\n",
      "(27, 4)\n",
      "C10-0000301-LIC\n",
      "(27, 4)\n",
      "HPCC\n",
      "C10-0000064-LIC\n",
      "(27, 4)\n",
      "C10-0000005-LIC\n",
      "(27, 4)\n",
      "HC\n",
      "C9-0000341-LIC\n",
      "(27, 4)\n",
      "IDC\n",
      "C9-0000320-LIC\n",
      "(27, 4)\n",
      "KC\n",
      "402-00664\n",
      "(27, 4)\n",
      "402R-00515\n",
      "(27, 4)\n",
      "402-01146\n",
      "(27, 4)\n",
      "402-00573\n",
      "(27, 4)\n",
      "402R-00544\n",
      "(27, 4)\n",
      "402-00323\n",
      "(27, 4)\n",
      "402R-00900\n",
      "(27, 4)\n",
      "402R-00002\n",
      "(27, 4)\n",
      "402R-00035\n",
      "(27, 4)\n",
      "402R-00574\n",
      "(27, 4)\n",
      "402-00037\n",
      "(27, 4)\n",
      "LBC\n",
      "C9-0000154-LIC\n",
      "(27, 4)\n",
      "ML\n",
      "C9-0000300-LIC\n",
      "(27, 4)\n",
      "MW\n",
      "C10-0000332-LIC\n",
      "(27, 4)\n",
      "MPW\n",
      "C10-0000547-LIC\n",
      "(27, 4)\n",
      "MD\n",
      "C9-0000247-LIC\n",
      "(27, 4)\n",
      "ND\n",
      "C9-0000427-LIC\n",
      "(27, 4)\n",
      "PGM\n",
      "PC-000160\n",
      "(27, 4)\n",
      "PC-000167\n",
      "(27, 4)\n",
      "PC-000169\n",
      "(27, 4)\n",
      "PC-000415\n",
      "(27, 4)\n",
      "PC-000551\n",
      "(27, 4)\n",
      "PC-000725\n",
      "(27, 4)\n",
      "AU-R-000196\n",
      "(27, 4)\n",
      "AU-R-000197\n",
      "(27, 4)\n",
      "AU-R-000198\n",
      "(27, 4)\n",
      "AU-R-000366\n",
      "(27, 4)\n",
      "AU-R-000506\n",
      "(27, 4)\n",
      "PRP\n",
      "C10-0000403-LIC\n",
      "(27, 4)\n",
      "C10-0000155-LIC\n",
      "(27, 4)\n",
      "C10-0000286-LIC\n",
      "(27, 4)\n",
      "PRL\n",
      "C10-0000759-LIC\n",
      "(27, 4)\n",
      "PL\n",
      "C10-0000241-LIC\n",
      "(27, 4)\n",
      "QR\n",
      "PC-000356\n",
      "(27, 4)\n",
      "AU-R-000233\n",
      "(27, 4)\n",
      "AU-R-000346\n",
      "(27, 4)\n",
      "AU-R-000633\n",
      "(27, 4)\n",
      "RA\n",
      "C10-0000596-LIC\n",
      "(27, 4)\n",
      "RGD\n",
      "C9-0000057-LIC\n",
      "(27, 4)\n",
      "SFV\n",
      "C10-0000041-LIC\n",
      "(27, 4)\n",
      "SV\n",
      "C9-0000146-LIC\n",
      "(27, 4)\n",
      "SLCC\n",
      "C10-0000474-LIC\n",
      "(27, 4)\n",
      "SO\n",
      "C10-0000271-LIC\n",
      "(27, 4)\n",
      "C12-0000328-LIC\n",
      "(27, 4)\n",
      "C9-0000130-LIC\n",
      "(27, 4)\n",
      "ST\n",
      "C9-0000323-LIC\n",
      "(27, 4)\n",
      "DW\n",
      "MR282376\n",
      "(27, 4)\n",
      "TGL\n",
      "C9-0000412-LIC\n",
      "(27, 4)\n",
      "TJR\n",
      "C9-0000105-LIC\n",
      "(27, 4)\n",
      "TTS\n",
      "PC-000718\n",
      "(27, 4)\n",
      "AU-R-000546\n",
      "(27, 4)\n",
      "TT\n",
      "C9-0000451-LIC\n",
      "(27, 4)\n",
      "T4L\n",
      "C12-0000302-LIC\n",
      "(27, 4)\n",
      "TL\n",
      "402R-00808\n",
      "402-00370\n",
      "(27, 4)\n",
      "402R-00602\n",
      "(27, 4)\n",
      "402R-00041\n",
      "(27, 4)\n",
      "402R-00807\n",
      "(27, 4)\n",
      "402-01142\n",
      "(27, 4)\n",
      "402R-00573\n",
      "(27, 4)\n",
      "402-00473\n",
      "(27, 4)\n",
      "402R-00536\n",
      "(27, 4)\n",
      "402R-00066\n",
      "(27, 4)\n",
      "402R-00362\n",
      "402-00390\n",
      "(27, 4)\n",
      "402-01201\n",
      "(27, 4)\n",
      "402R-00781\n",
      "(27, 4)\n",
      "402R-00505\n",
      "402R-00487\n",
      "402R-00242\n",
      "402R-00246\n",
      "(27, 4)\n",
      "402R-00571\n",
      "UHHC\n",
      "C10-0000817-LIC\n",
      "(27, 4)\n",
      "C9-0000082-LIC\n",
      "(27, 4)\n",
      "UR\n",
      "C10-0000731-LIC\n",
      "(27, 4)\n",
      "C10-0000776-LIC\n",
      "(27, 4)\n",
      "C10-0000246-LIC\n",
      "(27, 4)\n",
      "C10-0000464-LIC\n",
      "(27, 4)\n",
      "C10-0000618-LIC\n",
      "(27, 4)\n",
      "C10-0000590-LIC\n",
      "(27, 4)\n",
      "C12-0000333-LIC\n",
      "(27, 4)\n",
      "VS\n",
      "402-00840\n",
      "(27, 4)\n",
      "402R-00545\n",
      "(27, 4)\n",
      "VOY\n",
      "C12-0000030-LIC\n",
      "(27, 4)\n",
      "C10-0000802-LIC\n",
      "(27, 4)\n",
      "C12-0000159-LIC\n",
      "(27, 4)\n",
      "WHT\n",
      "C10-0000548-LIC\n",
      "(27, 4)\n"
     ]
    }
   ],
   "source": [
    "df_churn_short = pd.DataFrame()\n",
    "for k in c_short.keys():\n",
    "    print(k)\n",
    "    for l in c_short[k].keys():\n",
    "        print(l)\n",
    "        data_vc_short = c_short[k][l]\n",
    "        if str(data_vc_short) == 'nan':\n",
    "            continue\n",
    "        else:\n",
    "            data_vc_short['company'] = k\n",
    "            data_vc_short['location'] = l\n",
    "            print(data_vc_short.shape)\n",
    "            df_churn_short = df_churn_short.append(data_vc_short)\n",
    "        #data.to_excel('ca_location_analysis/'+'analysis_' + k + '_'+ l+'.xlsx')"
   ]
  },
  {
   "cell_type": "code",
   "execution_count": 115,
   "id": "0efd8162",
   "metadata": {},
   "outputs": [
    {
     "data": {
      "text/html": [
       "<div>\n",
       "<style scoped>\n",
       "    .dataframe tbody tr th:only-of-type {\n",
       "        vertical-align: middle;\n",
       "    }\n",
       "\n",
       "    .dataframe tbody tr th {\n",
       "        vertical-align: top;\n",
       "    }\n",
       "\n",
       "    .dataframe thead th {\n",
       "        text-align: right;\n",
       "    }\n",
       "</style>\n",
       "<table border=\"1\" class=\"dataframe\">\n",
       "  <thead>\n",
       "    <tr style=\"text-align: right;\">\n",
       "      <th></th>\n",
       "      <th>year_month</th>\n",
       "      <th>%_inactive</th>\n",
       "      <th>company</th>\n",
       "      <th>location</th>\n",
       "    </tr>\n",
       "    <tr>\n",
       "      <th>year_month</th>\n",
       "      <th></th>\n",
       "      <th></th>\n",
       "      <th></th>\n",
       "      <th></th>\n",
       "    </tr>\n",
       "  </thead>\n",
       "  <tbody>\n",
       "    <tr>\n",
       "      <th>2020-01-01</th>\n",
       "      <td>2020-01-01</td>\n",
       "      <td>0.000000</td>\n",
       "      <td>EL</td>\n",
       "      <td>C9-0000370-LIC</td>\n",
       "    </tr>\n",
       "    <tr>\n",
       "      <th>2020-02-01</th>\n",
       "      <td>2020-02-01</td>\n",
       "      <td>0.000000</td>\n",
       "      <td>EL</td>\n",
       "      <td>C9-0000370-LIC</td>\n",
       "    </tr>\n",
       "    <tr>\n",
       "      <th>2020-03-01</th>\n",
       "      <td>2020-03-01</td>\n",
       "      <td>0.000000</td>\n",
       "      <td>EL</td>\n",
       "      <td>C9-0000370-LIC</td>\n",
       "    </tr>\n",
       "    <tr>\n",
       "      <th>2020-04-01</th>\n",
       "      <td>2020-04-01</td>\n",
       "      <td>0.000000</td>\n",
       "      <td>EL</td>\n",
       "      <td>C9-0000370-LIC</td>\n",
       "    </tr>\n",
       "    <tr>\n",
       "      <th>2020-05-01</th>\n",
       "      <td>2020-05-01</td>\n",
       "      <td>0.000000</td>\n",
       "      <td>EL</td>\n",
       "      <td>C9-0000370-LIC</td>\n",
       "    </tr>\n",
       "    <tr>\n",
       "      <th>2020-06-01</th>\n",
       "      <td>2020-06-01</td>\n",
       "      <td>0.000000</td>\n",
       "      <td>EL</td>\n",
       "      <td>C9-0000370-LIC</td>\n",
       "    </tr>\n",
       "    <tr>\n",
       "      <th>2020-07-01</th>\n",
       "      <td>2020-07-01</td>\n",
       "      <td>0.000000</td>\n",
       "      <td>EL</td>\n",
       "      <td>C9-0000370-LIC</td>\n",
       "    </tr>\n",
       "    <tr>\n",
       "      <th>2020-08-01</th>\n",
       "      <td>2020-08-01</td>\n",
       "      <td>0.000000</td>\n",
       "      <td>EL</td>\n",
       "      <td>C9-0000370-LIC</td>\n",
       "    </tr>\n",
       "    <tr>\n",
       "      <th>2020-09-01</th>\n",
       "      <td>2020-09-01</td>\n",
       "      <td>0.000000</td>\n",
       "      <td>EL</td>\n",
       "      <td>C9-0000370-LIC</td>\n",
       "    </tr>\n",
       "    <tr>\n",
       "      <th>2020-10-01</th>\n",
       "      <td>2020-10-01</td>\n",
       "      <td>0.000000</td>\n",
       "      <td>EL</td>\n",
       "      <td>C9-0000370-LIC</td>\n",
       "    </tr>\n",
       "    <tr>\n",
       "      <th>2020-11-01</th>\n",
       "      <td>2020-11-01</td>\n",
       "      <td>0.000000</td>\n",
       "      <td>EL</td>\n",
       "      <td>C9-0000370-LIC</td>\n",
       "    </tr>\n",
       "    <tr>\n",
       "      <th>2020-12-01</th>\n",
       "      <td>2020-12-01</td>\n",
       "      <td>0.000000</td>\n",
       "      <td>EL</td>\n",
       "      <td>C9-0000370-LIC</td>\n",
       "    </tr>\n",
       "    <tr>\n",
       "      <th>2021-01-01</th>\n",
       "      <td>2021-01-01</td>\n",
       "      <td>0.114689</td>\n",
       "      <td>EL</td>\n",
       "      <td>C9-0000370-LIC</td>\n",
       "    </tr>\n",
       "    <tr>\n",
       "      <th>2021-02-01</th>\n",
       "      <td>2021-02-01</td>\n",
       "      <td>0.035633</td>\n",
       "      <td>EL</td>\n",
       "      <td>C9-0000370-LIC</td>\n",
       "    </tr>\n",
       "    <tr>\n",
       "      <th>2021-03-01</th>\n",
       "      <td>2021-03-01</td>\n",
       "      <td>0.081051</td>\n",
       "      <td>EL</td>\n",
       "      <td>C9-0000370-LIC</td>\n",
       "    </tr>\n",
       "    <tr>\n",
       "      <th>2021-04-01</th>\n",
       "      <td>2021-04-01</td>\n",
       "      <td>0.084728</td>\n",
       "      <td>EL</td>\n",
       "      <td>C9-0000370-LIC</td>\n",
       "    </tr>\n",
       "    <tr>\n",
       "      <th>2021-05-01</th>\n",
       "      <td>2021-05-01</td>\n",
       "      <td>0.096201</td>\n",
       "      <td>EL</td>\n",
       "      <td>C9-0000370-LIC</td>\n",
       "    </tr>\n",
       "    <tr>\n",
       "      <th>2021-06-01</th>\n",
       "      <td>2021-06-01</td>\n",
       "      <td>0.087173</td>\n",
       "      <td>EL</td>\n",
       "      <td>C9-0000370-LIC</td>\n",
       "    </tr>\n",
       "    <tr>\n",
       "      <th>2021-07-01</th>\n",
       "      <td>2021-07-01</td>\n",
       "      <td>0.106905</td>\n",
       "      <td>EL</td>\n",
       "      <td>C9-0000370-LIC</td>\n",
       "    </tr>\n",
       "    <tr>\n",
       "      <th>2021-08-01</th>\n",
       "      <td>2021-08-01</td>\n",
       "      <td>0.113834</td>\n",
       "      <td>EL</td>\n",
       "      <td>C9-0000370-LIC</td>\n",
       "    </tr>\n",
       "    <tr>\n",
       "      <th>2021-09-01</th>\n",
       "      <td>2021-09-01</td>\n",
       "      <td>0.150605</td>\n",
       "      <td>EL</td>\n",
       "      <td>C9-0000370-LIC</td>\n",
       "    </tr>\n",
       "    <tr>\n",
       "      <th>2021-10-01</th>\n",
       "      <td>2021-10-01</td>\n",
       "      <td>0.178188</td>\n",
       "      <td>EL</td>\n",
       "      <td>C9-0000370-LIC</td>\n",
       "    </tr>\n",
       "    <tr>\n",
       "      <th>2021-11-01</th>\n",
       "      <td>2021-11-01</td>\n",
       "      <td>0.196842</td>\n",
       "      <td>EL</td>\n",
       "      <td>C9-0000370-LIC</td>\n",
       "    </tr>\n",
       "    <tr>\n",
       "      <th>2021-12-01</th>\n",
       "      <td>2021-12-01</td>\n",
       "      <td>0.178926</td>\n",
       "      <td>EL</td>\n",
       "      <td>C9-0000370-LIC</td>\n",
       "    </tr>\n",
       "    <tr>\n",
       "      <th>2022-01-01</th>\n",
       "      <td>2022-01-01</td>\n",
       "      <td>0.178262</td>\n",
       "      <td>EL</td>\n",
       "      <td>C9-0000370-LIC</td>\n",
       "    </tr>\n",
       "    <tr>\n",
       "      <th>2022-02-01</th>\n",
       "      <td>2022-02-01</td>\n",
       "      <td>0.185062</td>\n",
       "      <td>EL</td>\n",
       "      <td>C9-0000370-LIC</td>\n",
       "    </tr>\n",
       "    <tr>\n",
       "      <th>2022-03-01</th>\n",
       "      <td>2022-03-01</td>\n",
       "      <td>0.243985</td>\n",
       "      <td>EL</td>\n",
       "      <td>C9-0000370-LIC</td>\n",
       "    </tr>\n",
       "  </tbody>\n",
       "</table>\n",
       "</div>"
      ],
      "text/plain": [
       "           year_month  %_inactive company        location\n",
       "year_month                                               \n",
       "2020-01-01 2020-01-01    0.000000      EL  C9-0000370-LIC\n",
       "2020-02-01 2020-02-01    0.000000      EL  C9-0000370-LIC\n",
       "2020-03-01 2020-03-01    0.000000      EL  C9-0000370-LIC\n",
       "2020-04-01 2020-04-01    0.000000      EL  C9-0000370-LIC\n",
       "2020-05-01 2020-05-01    0.000000      EL  C9-0000370-LIC\n",
       "2020-06-01 2020-06-01    0.000000      EL  C9-0000370-LIC\n",
       "2020-07-01 2020-07-01    0.000000      EL  C9-0000370-LIC\n",
       "2020-08-01 2020-08-01    0.000000      EL  C9-0000370-LIC\n",
       "2020-09-01 2020-09-01    0.000000      EL  C9-0000370-LIC\n",
       "2020-10-01 2020-10-01    0.000000      EL  C9-0000370-LIC\n",
       "2020-11-01 2020-11-01    0.000000      EL  C9-0000370-LIC\n",
       "2020-12-01 2020-12-01    0.000000      EL  C9-0000370-LIC\n",
       "2021-01-01 2021-01-01    0.114689      EL  C9-0000370-LIC\n",
       "2021-02-01 2021-02-01    0.035633      EL  C9-0000370-LIC\n",
       "2021-03-01 2021-03-01    0.081051      EL  C9-0000370-LIC\n",
       "2021-04-01 2021-04-01    0.084728      EL  C9-0000370-LIC\n",
       "2021-05-01 2021-05-01    0.096201      EL  C9-0000370-LIC\n",
       "2021-06-01 2021-06-01    0.087173      EL  C9-0000370-LIC\n",
       "2021-07-01 2021-07-01    0.106905      EL  C9-0000370-LIC\n",
       "2021-08-01 2021-08-01    0.113834      EL  C9-0000370-LIC\n",
       "2021-09-01 2021-09-01    0.150605      EL  C9-0000370-LIC\n",
       "2021-10-01 2021-10-01    0.178188      EL  C9-0000370-LIC\n",
       "2021-11-01 2021-11-01    0.196842      EL  C9-0000370-LIC\n",
       "2021-12-01 2021-12-01    0.178926      EL  C9-0000370-LIC\n",
       "2022-01-01 2022-01-01    0.178262      EL  C9-0000370-LIC\n",
       "2022-02-01 2022-02-01    0.185062      EL  C9-0000370-LIC\n",
       "2022-03-01 2022-03-01    0.243985      EL  C9-0000370-LIC"
      ]
     },
     "execution_count": 115,
     "metadata": {},
     "output_type": "execute_result"
    }
   ],
   "source": [
    "df_churn[df_churn['company'] == 'EL']"
   ]
  },
  {
   "cell_type": "markdown",
   "id": "9fd22167",
   "metadata": {},
   "source": [
    "# analysis: past 6m"
   ]
  },
  {
   "cell_type": "code",
   "execution_count": 143,
   "id": "3939af6c",
   "metadata": {},
   "outputs": [],
   "source": [
    "df_churn_short_recent = df_churn_short[(df_churn_short['year_month'] >= '2021-09') & (df_churn_short['year_month'] <= '2022-02')]\n",
    "df_churn_short_recent = df_churn_short_recent.reset_index(drop = True)\n",
    "\n",
    "df_churn_recent = df_churn[(df_churn['year_month'] >= '2021-09') & (df_churn['year_month'] <= '2022-02')]\n",
    "df_churn_recent = df_churn_recent.reset_index(drop = True)\n",
    "\n",
    "\n"
   ]
  },
  {
   "cell_type": "code",
   "execution_count": 144,
   "id": "e279be8e",
   "metadata": {},
   "outputs": [],
   "source": [
    "df_churn_short_recent_with_state = pd.merge(df_churn_short_recent,company_df[['company_identifier','state']],left_on = 'company',right_on = 'company_identifier',how = 'left')\n",
    "df_churn_recent_with_state = pd.merge(df_churn_recent,company_df[['company_identifier','state']],left_on = 'company',right_on = 'company_identifier',how = 'left')\n",
    "\n",
    "\n"
   ]
  },
  {
   "cell_type": "code",
   "execution_count": 198,
   "id": "72b9a9ef",
   "metadata": {},
   "outputs": [
    {
     "data": {
      "text/html": [
       "<div>\n",
       "<style scoped>\n",
       "    .dataframe tbody tr th:only-of-type {\n",
       "        vertical-align: middle;\n",
       "    }\n",
       "\n",
       "    .dataframe tbody tr th {\n",
       "        vertical-align: top;\n",
       "    }\n",
       "\n",
       "    .dataframe thead th {\n",
       "        text-align: right;\n",
       "    }\n",
       "</style>\n",
       "<table border=\"1\" class=\"dataframe\">\n",
       "  <thead>\n",
       "    <tr style=\"text-align: right;\">\n",
       "      <th></th>\n",
       "      <th>year_month</th>\n",
       "      <th>%_inactive</th>\n",
       "      <th>company</th>\n",
       "      <th>location</th>\n",
       "      <th>company_identifier</th>\n",
       "      <th>state</th>\n",
       "    </tr>\n",
       "  </thead>\n",
       "  <tbody>\n",
       "    <tr>\n",
       "      <th>0</th>\n",
       "      <td>2021-09-01</td>\n",
       "      <td>0.268819</td>\n",
       "      <td>99HT</td>\n",
       "      <td>C10-0000279-LIC</td>\n",
       "      <td>99HT</td>\n",
       "      <td>CA</td>\n",
       "    </tr>\n",
       "    <tr>\n",
       "      <th>1</th>\n",
       "      <td>2021-10-01</td>\n",
       "      <td>0.299930</td>\n",
       "      <td>99HT</td>\n",
       "      <td>C10-0000279-LIC</td>\n",
       "      <td>99HT</td>\n",
       "      <td>CA</td>\n",
       "    </tr>\n",
       "    <tr>\n",
       "      <th>2</th>\n",
       "      <td>2021-11-01</td>\n",
       "      <td>0.315991</td>\n",
       "      <td>99HT</td>\n",
       "      <td>C10-0000279-LIC</td>\n",
       "      <td>99HT</td>\n",
       "      <td>CA</td>\n",
       "    </tr>\n",
       "    <tr>\n",
       "      <th>3</th>\n",
       "      <td>2021-12-01</td>\n",
       "      <td>0.357809</td>\n",
       "      <td>99HT</td>\n",
       "      <td>C10-0000279-LIC</td>\n",
       "      <td>99HT</td>\n",
       "      <td>CA</td>\n",
       "    </tr>\n",
       "    <tr>\n",
       "      <th>4</th>\n",
       "      <td>2022-01-01</td>\n",
       "      <td>0.295126</td>\n",
       "      <td>99HT</td>\n",
       "      <td>C10-0000279-LIC</td>\n",
       "      <td>99HT</td>\n",
       "      <td>CA</td>\n",
       "    </tr>\n",
       "  </tbody>\n",
       "</table>\n",
       "</div>"
      ],
      "text/plain": [
       "  year_month  %_inactive company         location company_identifier state\n",
       "0 2021-09-01    0.268819    99HT  C10-0000279-LIC               99HT    CA\n",
       "1 2021-10-01    0.299930    99HT  C10-0000279-LIC               99HT    CA\n",
       "2 2021-11-01    0.315991    99HT  C10-0000279-LIC               99HT    CA\n",
       "3 2021-12-01    0.357809    99HT  C10-0000279-LIC               99HT    CA\n",
       "4 2022-01-01    0.295126    99HT  C10-0000279-LIC               99HT    CA"
      ]
     },
     "execution_count": 198,
     "metadata": {},
     "output_type": "execute_result"
    }
   ],
   "source": [
    "df_churn_short_recent_with_state.head()\n"
   ]
  },
  {
   "cell_type": "code",
   "execution_count": 199,
   "id": "e98cc88d",
   "metadata": {},
   "outputs": [
    {
     "data": {
      "text/html": [
       "<div>\n",
       "<style scoped>\n",
       "    .dataframe tbody tr th:only-of-type {\n",
       "        vertical-align: middle;\n",
       "    }\n",
       "\n",
       "    .dataframe tbody tr th {\n",
       "        vertical-align: top;\n",
       "    }\n",
       "\n",
       "    .dataframe thead th {\n",
       "        text-align: right;\n",
       "    }\n",
       "</style>\n",
       "<table border=\"1\" class=\"dataframe\">\n",
       "  <thead>\n",
       "    <tr style=\"text-align: right;\">\n",
       "      <th></th>\n",
       "      <th>year_month</th>\n",
       "      <th>%_inactive</th>\n",
       "      <th>company</th>\n",
       "      <th>location</th>\n",
       "      <th>company_identifier</th>\n",
       "      <th>state</th>\n",
       "    </tr>\n",
       "  </thead>\n",
       "  <tbody>\n",
       "    <tr>\n",
       "      <th>0</th>\n",
       "      <td>2021-09-01</td>\n",
       "      <td>0.086819</td>\n",
       "      <td>99HT</td>\n",
       "      <td>C10-0000279-LIC</td>\n",
       "      <td>99HT</td>\n",
       "      <td>CA</td>\n",
       "    </tr>\n",
       "    <tr>\n",
       "      <th>1</th>\n",
       "      <td>2021-10-01</td>\n",
       "      <td>0.115768</td>\n",
       "      <td>99HT</td>\n",
       "      <td>C10-0000279-LIC</td>\n",
       "      <td>99HT</td>\n",
       "      <td>CA</td>\n",
       "    </tr>\n",
       "    <tr>\n",
       "      <th>2</th>\n",
       "      <td>2021-11-01</td>\n",
       "      <td>0.169809</td>\n",
       "      <td>99HT</td>\n",
       "      <td>C10-0000279-LIC</td>\n",
       "      <td>99HT</td>\n",
       "      <td>CA</td>\n",
       "    </tr>\n",
       "    <tr>\n",
       "      <th>3</th>\n",
       "      <td>2021-12-01</td>\n",
       "      <td>0.215134</td>\n",
       "      <td>99HT</td>\n",
       "      <td>C10-0000279-LIC</td>\n",
       "      <td>99HT</td>\n",
       "      <td>CA</td>\n",
       "    </tr>\n",
       "    <tr>\n",
       "      <th>4</th>\n",
       "      <td>2022-01-01</td>\n",
       "      <td>0.210160</td>\n",
       "      <td>99HT</td>\n",
       "      <td>C10-0000279-LIC</td>\n",
       "      <td>99HT</td>\n",
       "      <td>CA</td>\n",
       "    </tr>\n",
       "  </tbody>\n",
       "</table>\n",
       "</div>"
      ],
      "text/plain": [
       "  year_month  %_inactive company         location company_identifier state\n",
       "0 2021-09-01    0.086819    99HT  C10-0000279-LIC               99HT    CA\n",
       "1 2021-10-01    0.115768    99HT  C10-0000279-LIC               99HT    CA\n",
       "2 2021-11-01    0.169809    99HT  C10-0000279-LIC               99HT    CA\n",
       "3 2021-12-01    0.215134    99HT  C10-0000279-LIC               99HT    CA\n",
       "4 2022-01-01    0.210160    99HT  C10-0000279-LIC               99HT    CA"
      ]
     },
     "execution_count": 199,
     "metadata": {},
     "output_type": "execute_result"
    }
   ],
   "source": [
    "df_churn_recent_with_state.head()"
   ]
  },
  {
   "cell_type": "code",
   "execution_count": 154,
   "id": "61903923",
   "metadata": {},
   "outputs": [
    {
     "data": {
      "text/html": [
       "<div>\n",
       "<style scoped>\n",
       "    .dataframe tbody tr th:only-of-type {\n",
       "        vertical-align: middle;\n",
       "    }\n",
       "\n",
       "    .dataframe tbody tr th {\n",
       "        vertical-align: top;\n",
       "    }\n",
       "\n",
       "    .dataframe thead th {\n",
       "        text-align: right;\n",
       "    }\n",
       "</style>\n",
       "<table border=\"1\" class=\"dataframe\">\n",
       "  <thead>\n",
       "    <tr style=\"text-align: right;\">\n",
       "      <th></th>\n",
       "      <th>year_month</th>\n",
       "      <th>churn_orig</th>\n",
       "      <th>company</th>\n",
       "      <th>location</th>\n",
       "      <th>company_identifier</th>\n",
       "      <th>state</th>\n",
       "      <th>churn_new</th>\n",
       "      <th>new-old</th>\n",
       "    </tr>\n",
       "  </thead>\n",
       "  <tbody>\n",
       "    <tr>\n",
       "      <th>0</th>\n",
       "      <td>2021-09-01</td>\n",
       "      <td>0.086819</td>\n",
       "      <td>99HT</td>\n",
       "      <td>C10-0000279-LIC</td>\n",
       "      <td>99HT</td>\n",
       "      <td>CA</td>\n",
       "      <td>0.268819</td>\n",
       "      <td>0.182000</td>\n",
       "    </tr>\n",
       "    <tr>\n",
       "      <th>1</th>\n",
       "      <td>2021-10-01</td>\n",
       "      <td>0.115768</td>\n",
       "      <td>99HT</td>\n",
       "      <td>C10-0000279-LIC</td>\n",
       "      <td>99HT</td>\n",
       "      <td>CA</td>\n",
       "      <td>0.299930</td>\n",
       "      <td>0.184162</td>\n",
       "    </tr>\n",
       "    <tr>\n",
       "      <th>2</th>\n",
       "      <td>2021-11-01</td>\n",
       "      <td>0.169809</td>\n",
       "      <td>99HT</td>\n",
       "      <td>C10-0000279-LIC</td>\n",
       "      <td>99HT</td>\n",
       "      <td>CA</td>\n",
       "      <td>0.315991</td>\n",
       "      <td>0.146182</td>\n",
       "    </tr>\n",
       "    <tr>\n",
       "      <th>3</th>\n",
       "      <td>2021-12-01</td>\n",
       "      <td>0.215134</td>\n",
       "      <td>99HT</td>\n",
       "      <td>C10-0000279-LIC</td>\n",
       "      <td>99HT</td>\n",
       "      <td>CA</td>\n",
       "      <td>0.357809</td>\n",
       "      <td>0.142675</td>\n",
       "    </tr>\n",
       "    <tr>\n",
       "      <th>4</th>\n",
       "      <td>2022-01-01</td>\n",
       "      <td>0.210160</td>\n",
       "      <td>99HT</td>\n",
       "      <td>C10-0000279-LIC</td>\n",
       "      <td>99HT</td>\n",
       "      <td>CA</td>\n",
       "      <td>0.295126</td>\n",
       "      <td>0.084966</td>\n",
       "    </tr>\n",
       "    <tr>\n",
       "      <th>...</th>\n",
       "      <td>...</td>\n",
       "      <td>...</td>\n",
       "      <td>...</td>\n",
       "      <td>...</td>\n",
       "      <td>...</td>\n",
       "      <td>...</td>\n",
       "      <td>...</td>\n",
       "      <td>...</td>\n",
       "    </tr>\n",
       "    <tr>\n",
       "      <th>895</th>\n",
       "      <td>2021-10-01</td>\n",
       "      <td>0.315935</td>\n",
       "      <td>WHT</td>\n",
       "      <td>C10-0000548-LIC</td>\n",
       "      <td>WHT</td>\n",
       "      <td>CA</td>\n",
       "      <td>0.471455</td>\n",
       "      <td>0.155520</td>\n",
       "    </tr>\n",
       "    <tr>\n",
       "      <th>896</th>\n",
       "      <td>2021-11-01</td>\n",
       "      <td>0.318525</td>\n",
       "      <td>WHT</td>\n",
       "      <td>C10-0000548-LIC</td>\n",
       "      <td>WHT</td>\n",
       "      <td>CA</td>\n",
       "      <td>0.478710</td>\n",
       "      <td>0.160185</td>\n",
       "    </tr>\n",
       "    <tr>\n",
       "      <th>897</th>\n",
       "      <td>2021-12-01</td>\n",
       "      <td>0.372385</td>\n",
       "      <td>WHT</td>\n",
       "      <td>C10-0000548-LIC</td>\n",
       "      <td>WHT</td>\n",
       "      <td>CA</td>\n",
       "      <td>0.413868</td>\n",
       "      <td>0.041483</td>\n",
       "    </tr>\n",
       "    <tr>\n",
       "      <th>898</th>\n",
       "      <td>2022-01-01</td>\n",
       "      <td>0.367102</td>\n",
       "      <td>WHT</td>\n",
       "      <td>C10-0000548-LIC</td>\n",
       "      <td>WHT</td>\n",
       "      <td>CA</td>\n",
       "      <td>0.399398</td>\n",
       "      <td>0.032297</td>\n",
       "    </tr>\n",
       "    <tr>\n",
       "      <th>899</th>\n",
       "      <td>2022-02-01</td>\n",
       "      <td>0.362661</td>\n",
       "      <td>WHT</td>\n",
       "      <td>C10-0000548-LIC</td>\n",
       "      <td>WHT</td>\n",
       "      <td>CA</td>\n",
       "      <td>0.422808</td>\n",
       "      <td>0.060147</td>\n",
       "    </tr>\n",
       "  </tbody>\n",
       "</table>\n",
       "<p>900 rows × 8 columns</p>\n",
       "</div>"
      ],
      "text/plain": [
       "    year_month  churn_orig company         location company_identifier state  \\\n",
       "0   2021-09-01    0.086819    99HT  C10-0000279-LIC               99HT    CA   \n",
       "1   2021-10-01    0.115768    99HT  C10-0000279-LIC               99HT    CA   \n",
       "2   2021-11-01    0.169809    99HT  C10-0000279-LIC               99HT    CA   \n",
       "3   2021-12-01    0.215134    99HT  C10-0000279-LIC               99HT    CA   \n",
       "4   2022-01-01    0.210160    99HT  C10-0000279-LIC               99HT    CA   \n",
       "..         ...         ...     ...              ...                ...   ...   \n",
       "895 2021-10-01    0.315935     WHT  C10-0000548-LIC                WHT    CA   \n",
       "896 2021-11-01    0.318525     WHT  C10-0000548-LIC                WHT    CA   \n",
       "897 2021-12-01    0.372385     WHT  C10-0000548-LIC                WHT    CA   \n",
       "898 2022-01-01    0.367102     WHT  C10-0000548-LIC                WHT    CA   \n",
       "899 2022-02-01    0.362661     WHT  C10-0000548-LIC                WHT    CA   \n",
       "\n",
       "     churn_new   new-old  \n",
       "0     0.268819  0.182000  \n",
       "1     0.299930  0.184162  \n",
       "2     0.315991  0.146182  \n",
       "3     0.357809  0.142675  \n",
       "4     0.295126  0.084966  \n",
       "..         ...       ...  \n",
       "895   0.471455  0.155520  \n",
       "896   0.478710  0.160185  \n",
       "897   0.413868  0.041483  \n",
       "898   0.399398  0.032297  \n",
       "899   0.422808  0.060147  \n",
       "\n",
       "[900 rows x 8 columns]"
      ]
     },
     "execution_count": 154,
     "metadata": {},
     "output_type": "execute_result"
    }
   ],
   "source": [
    "churn_joined = pd.merge(df_churn_recent_with_state,df_churn_short_recent_with_state, on = ['year_month','company','location','company_identifier','state'],how = 'inner')\n",
    "\n",
    "churn_joined.columns = ['year_month','churn_orig','company','location','company_identifier','state','churn_new']\n",
    "\n",
    "churn_joined ['new-old'] = churn_joined['churn_new'] - churn_joined['churn_orig']\n",
    "\n",
    "\n"
   ]
  },
  {
   "cell_type": "code",
   "execution_count": 289,
   "id": "af1bb31d",
   "metadata": {},
   "outputs": [
    {
     "data": {
      "text/html": [
       "<div>\n",
       "<style scoped>\n",
       "    .dataframe tbody tr th:only-of-type {\n",
       "        vertical-align: middle;\n",
       "    }\n",
       "\n",
       "    .dataframe tbody tr th {\n",
       "        vertical-align: top;\n",
       "    }\n",
       "\n",
       "    .dataframe thead th {\n",
       "        text-align: right;\n",
       "    }\n",
       "</style>\n",
       "<table border=\"1\" class=\"dataframe\">\n",
       "  <thead>\n",
       "    <tr style=\"text-align: right;\">\n",
       "      <th></th>\n",
       "      <th>year_month</th>\n",
       "      <th>churn_orig</th>\n",
       "      <th>company</th>\n",
       "      <th>location</th>\n",
       "      <th>company_identifier</th>\n",
       "      <th>state</th>\n",
       "      <th>churn_new</th>\n",
       "      <th>new-old</th>\n",
       "    </tr>\n",
       "  </thead>\n",
       "  <tbody>\n",
       "    <tr>\n",
       "      <th>30</th>\n",
       "      <td>2021-09-01</td>\n",
       "      <td>0.205629</td>\n",
       "      <td>BMC</td>\n",
       "      <td>402-00930</td>\n",
       "      <td>BMC</td>\n",
       "      <td>CO</td>\n",
       "      <td>0.250763</td>\n",
       "      <td>0.045134</td>\n",
       "    </tr>\n",
       "    <tr>\n",
       "      <th>31</th>\n",
       "      <td>2021-10-01</td>\n",
       "      <td>0.159023</td>\n",
       "      <td>BMC</td>\n",
       "      <td>402-00930</td>\n",
       "      <td>BMC</td>\n",
       "      <td>CO</td>\n",
       "      <td>0.168450</td>\n",
       "      <td>0.009428</td>\n",
       "    </tr>\n",
       "    <tr>\n",
       "      <th>32</th>\n",
       "      <td>2021-11-01</td>\n",
       "      <td>0.175929</td>\n",
       "      <td>BMC</td>\n",
       "      <td>402-00930</td>\n",
       "      <td>BMC</td>\n",
       "      <td>CO</td>\n",
       "      <td>0.193631</td>\n",
       "      <td>0.017702</td>\n",
       "    </tr>\n",
       "    <tr>\n",
       "      <th>33</th>\n",
       "      <td>2021-12-01</td>\n",
       "      <td>0.161347</td>\n",
       "      <td>BMC</td>\n",
       "      <td>402-00930</td>\n",
       "      <td>BMC</td>\n",
       "      <td>CO</td>\n",
       "      <td>0.247538</td>\n",
       "      <td>0.086192</td>\n",
       "    </tr>\n",
       "    <tr>\n",
       "      <th>34</th>\n",
       "      <td>2022-01-01</td>\n",
       "      <td>0.164215</td>\n",
       "      <td>BMC</td>\n",
       "      <td>402-00930</td>\n",
       "      <td>BMC</td>\n",
       "      <td>CO</td>\n",
       "      <td>0.167664</td>\n",
       "      <td>0.003449</td>\n",
       "    </tr>\n",
       "    <tr>\n",
       "      <th>...</th>\n",
       "      <td>...</td>\n",
       "      <td>...</td>\n",
       "      <td>...</td>\n",
       "      <td>...</td>\n",
       "      <td>...</td>\n",
       "      <td>...</td>\n",
       "      <td>...</td>\n",
       "      <td>...</td>\n",
       "    </tr>\n",
       "    <tr>\n",
       "      <th>871</th>\n",
       "      <td>2021-10-01</td>\n",
       "      <td>0.172940</td>\n",
       "      <td>VS</td>\n",
       "      <td>402R-00545</td>\n",
       "      <td>VS</td>\n",
       "      <td>CO</td>\n",
       "      <td>0.114183</td>\n",
       "      <td>-0.058756</td>\n",
       "    </tr>\n",
       "    <tr>\n",
       "      <th>872</th>\n",
       "      <td>2021-11-01</td>\n",
       "      <td>0.166993</td>\n",
       "      <td>VS</td>\n",
       "      <td>402R-00545</td>\n",
       "      <td>VS</td>\n",
       "      <td>CO</td>\n",
       "      <td>0.167247</td>\n",
       "      <td>0.000254</td>\n",
       "    </tr>\n",
       "    <tr>\n",
       "      <th>873</th>\n",
       "      <td>2021-12-01</td>\n",
       "      <td>0.161923</td>\n",
       "      <td>VS</td>\n",
       "      <td>402R-00545</td>\n",
       "      <td>VS</td>\n",
       "      <td>CO</td>\n",
       "      <td>0.163553</td>\n",
       "      <td>0.001631</td>\n",
       "    </tr>\n",
       "    <tr>\n",
       "      <th>874</th>\n",
       "      <td>2022-01-01</td>\n",
       "      <td>0.224073</td>\n",
       "      <td>VS</td>\n",
       "      <td>402R-00545</td>\n",
       "      <td>VS</td>\n",
       "      <td>CO</td>\n",
       "      <td>0.162052</td>\n",
       "      <td>-0.062021</td>\n",
       "    </tr>\n",
       "    <tr>\n",
       "      <th>875</th>\n",
       "      <td>2022-02-01</td>\n",
       "      <td>0.248180</td>\n",
       "      <td>VS</td>\n",
       "      <td>402R-00545</td>\n",
       "      <td>VS</td>\n",
       "      <td>CO</td>\n",
       "      <td>0.131578</td>\n",
       "      <td>-0.116602</td>\n",
       "    </tr>\n",
       "  </tbody>\n",
       "</table>\n",
       "<p>198 rows × 8 columns</p>\n",
       "</div>"
      ],
      "text/plain": [
       "    year_month  churn_orig company    location company_identifier state  \\\n",
       "30  2021-09-01    0.205629     BMC   402-00930                BMC    CO   \n",
       "31  2021-10-01    0.159023     BMC   402-00930                BMC    CO   \n",
       "32  2021-11-01    0.175929     BMC   402-00930                BMC    CO   \n",
       "33  2021-12-01    0.161347     BMC   402-00930                BMC    CO   \n",
       "34  2022-01-01    0.164215     BMC   402-00930                BMC    CO   \n",
       "..         ...         ...     ...         ...                ...   ...   \n",
       "871 2021-10-01    0.172940      VS  402R-00545                 VS    CO   \n",
       "872 2021-11-01    0.166993      VS  402R-00545                 VS    CO   \n",
       "873 2021-12-01    0.161923      VS  402R-00545                 VS    CO   \n",
       "874 2022-01-01    0.224073      VS  402R-00545                 VS    CO   \n",
       "875 2022-02-01    0.248180      VS  402R-00545                 VS    CO   \n",
       "\n",
       "     churn_new   new-old  \n",
       "30    0.250763  0.045134  \n",
       "31    0.168450  0.009428  \n",
       "32    0.193631  0.017702  \n",
       "33    0.247538  0.086192  \n",
       "34    0.167664  0.003449  \n",
       "..         ...       ...  \n",
       "871   0.114183 -0.058756  \n",
       "872   0.167247  0.000254  \n",
       "873   0.163553  0.001631  \n",
       "874   0.162052 -0.062021  \n",
       "875   0.131578 -0.116602  \n",
       "\n",
       "[198 rows x 8 columns]"
      ]
     },
     "execution_count": 289,
     "metadata": {},
     "output_type": "execute_result"
    }
   ],
   "source": [
    "churn_joined[churn_joined['state'] == 'CO']"
   ]
  },
  {
   "cell_type": "code",
   "execution_count": 171,
   "id": "98e5e841",
   "metadata": {},
   "outputs": [
    {
     "data": {
      "text/html": [
       "<div>\n",
       "<style scoped>\n",
       "    .dataframe tbody tr th:only-of-type {\n",
       "        vertical-align: middle;\n",
       "    }\n",
       "\n",
       "    .dataframe tbody tr th {\n",
       "        vertical-align: top;\n",
       "    }\n",
       "\n",
       "    .dataframe thead th {\n",
       "        text-align: right;\n",
       "    }\n",
       "</style>\n",
       "<table border=\"1\" class=\"dataframe\">\n",
       "  <thead>\n",
       "    <tr style=\"text-align: right;\">\n",
       "      <th></th>\n",
       "      <th>year_month</th>\n",
       "      <th>churn_orig</th>\n",
       "      <th>company</th>\n",
       "      <th>location</th>\n",
       "      <th>company_identifier</th>\n",
       "      <th>state</th>\n",
       "      <th>churn_new</th>\n",
       "      <th>new-old</th>\n",
       "    </tr>\n",
       "  </thead>\n",
       "  <tbody>\n",
       "    <tr>\n",
       "      <th>0</th>\n",
       "      <td>2021-09-01</td>\n",
       "      <td>0.086819</td>\n",
       "      <td>99HT</td>\n",
       "      <td>C10-0000279-LIC</td>\n",
       "      <td>99HT</td>\n",
       "      <td>CA</td>\n",
       "      <td>0.268819</td>\n",
       "      <td>0.182000</td>\n",
       "    </tr>\n",
       "    <tr>\n",
       "      <th>1</th>\n",
       "      <td>2021-10-01</td>\n",
       "      <td>0.115768</td>\n",
       "      <td>99HT</td>\n",
       "      <td>C10-0000279-LIC</td>\n",
       "      <td>99HT</td>\n",
       "      <td>CA</td>\n",
       "      <td>0.299930</td>\n",
       "      <td>0.184162</td>\n",
       "    </tr>\n",
       "    <tr>\n",
       "      <th>2</th>\n",
       "      <td>2021-11-01</td>\n",
       "      <td>0.169809</td>\n",
       "      <td>99HT</td>\n",
       "      <td>C10-0000279-LIC</td>\n",
       "      <td>99HT</td>\n",
       "      <td>CA</td>\n",
       "      <td>0.315991</td>\n",
       "      <td>0.146182</td>\n",
       "    </tr>\n",
       "    <tr>\n",
       "      <th>3</th>\n",
       "      <td>2021-12-01</td>\n",
       "      <td>0.215134</td>\n",
       "      <td>99HT</td>\n",
       "      <td>C10-0000279-LIC</td>\n",
       "      <td>99HT</td>\n",
       "      <td>CA</td>\n",
       "      <td>0.357809</td>\n",
       "      <td>0.142675</td>\n",
       "    </tr>\n",
       "    <tr>\n",
       "      <th>4</th>\n",
       "      <td>2022-01-01</td>\n",
       "      <td>0.210160</td>\n",
       "      <td>99HT</td>\n",
       "      <td>C10-0000279-LIC</td>\n",
       "      <td>99HT</td>\n",
       "      <td>CA</td>\n",
       "      <td>0.295126</td>\n",
       "      <td>0.084966</td>\n",
       "    </tr>\n",
       "  </tbody>\n",
       "</table>\n",
       "</div>"
      ],
      "text/plain": [
       "  year_month  churn_orig company         location company_identifier state  \\\n",
       "0 2021-09-01    0.086819    99HT  C10-0000279-LIC               99HT    CA   \n",
       "1 2021-10-01    0.115768    99HT  C10-0000279-LIC               99HT    CA   \n",
       "2 2021-11-01    0.169809    99HT  C10-0000279-LIC               99HT    CA   \n",
       "3 2021-12-01    0.215134    99HT  C10-0000279-LIC               99HT    CA   \n",
       "4 2022-01-01    0.210160    99HT  C10-0000279-LIC               99HT    CA   \n",
       "\n",
       "   churn_new   new-old  \n",
       "0   0.268819  0.182000  \n",
       "1   0.299930  0.184162  \n",
       "2   0.315991  0.146182  \n",
       "3   0.357809  0.142675  \n",
       "4   0.295126  0.084966  "
      ]
     },
     "execution_count": 171,
     "metadata": {},
     "output_type": "execute_result"
    }
   ],
   "source": [
    "churn_joined.head()"
   ]
  },
  {
   "cell_type": "code",
   "execution_count": 190,
   "id": "c6369ff6",
   "metadata": {},
   "outputs": [],
   "source": [
    "# distribution of margin short\n",
    "churn_distr_short = df_churn_short_recent_with_state.groupby(['state','year_month'])['%_inactive'].describe().reset_index()\n",
    "churn_distr_short['year_month'] = pd.to_datetime(churn_distr_short['year_month'])\n",
    "churn_distr_short.index = churn_distr_short.year_month\n",
    "\n",
    "\n",
    "# distribution of margin orig\n",
    "churn_distr = df_churn_recent_with_state.groupby(['state','year_month'])['%_inactive'].describe().reset_index()\n",
    "churn_distr['year_month'] = pd.to_datetime(churn_distr['year_month'])\n",
    "churn_distr.index = churn_distr.year_month\n",
    "\n"
   ]
  },
  {
   "cell_type": "code",
   "execution_count": 308,
   "id": "f7cf5ade",
   "metadata": {},
   "outputs": [
    {
     "data": {
      "text/html": [
       "<div>\n",
       "<style scoped>\n",
       "    .dataframe tbody tr th:only-of-type {\n",
       "        vertical-align: middle;\n",
       "    }\n",
       "\n",
       "    .dataframe tbody tr th {\n",
       "        vertical-align: top;\n",
       "    }\n",
       "\n",
       "    .dataframe thead th {\n",
       "        text-align: right;\n",
       "    }\n",
       "</style>\n",
       "<table border=\"1\" class=\"dataframe\">\n",
       "  <thead>\n",
       "    <tr style=\"text-align: right;\">\n",
       "      <th></th>\n",
       "      <th>state</th>\n",
       "      <th>year_month</th>\n",
       "      <th>count</th>\n",
       "      <th>mean</th>\n",
       "      <th>std</th>\n",
       "      <th>min</th>\n",
       "      <th>25%</th>\n",
       "      <th>50%</th>\n",
       "      <th>75%</th>\n",
       "      <th>max</th>\n",
       "    </tr>\n",
       "    <tr>\n",
       "      <th>year_month</th>\n",
       "      <th></th>\n",
       "      <th></th>\n",
       "      <th></th>\n",
       "      <th></th>\n",
       "      <th></th>\n",
       "      <th></th>\n",
       "      <th></th>\n",
       "      <th></th>\n",
       "      <th></th>\n",
       "      <th></th>\n",
       "    </tr>\n",
       "  </thead>\n",
       "  <tbody>\n",
       "    <tr>\n",
       "      <th>2021-09-01</th>\n",
       "      <td>CO</td>\n",
       "      <td>2021-09-01</td>\n",
       "      <td>33.0</td>\n",
       "      <td>0.399052</td>\n",
       "      <td>0.308281</td>\n",
       "      <td>0.0</td>\n",
       "      <td>0.123488</td>\n",
       "      <td>0.410505</td>\n",
       "      <td>0.649874</td>\n",
       "      <td>0.999760</td>\n",
       "    </tr>\n",
       "    <tr>\n",
       "      <th>2021-10-01</th>\n",
       "      <td>CO</td>\n",
       "      <td>2021-10-01</td>\n",
       "      <td>33.0</td>\n",
       "      <td>0.458133</td>\n",
       "      <td>0.325942</td>\n",
       "      <td>0.0</td>\n",
       "      <td>0.159023</td>\n",
       "      <td>0.497439</td>\n",
       "      <td>0.720577</td>\n",
       "      <td>0.999760</td>\n",
       "    </tr>\n",
       "    <tr>\n",
       "      <th>2021-11-01</th>\n",
       "      <td>CO</td>\n",
       "      <td>2021-11-01</td>\n",
       "      <td>33.0</td>\n",
       "      <td>0.443506</td>\n",
       "      <td>0.320811</td>\n",
       "      <td>0.0</td>\n",
       "      <td>0.167401</td>\n",
       "      <td>0.484360</td>\n",
       "      <td>0.676302</td>\n",
       "      <td>0.999999</td>\n",
       "    </tr>\n",
       "    <tr>\n",
       "      <th>2021-12-01</th>\n",
       "      <td>CO</td>\n",
       "      <td>2021-12-01</td>\n",
       "      <td>33.0</td>\n",
       "      <td>0.483792</td>\n",
       "      <td>0.336847</td>\n",
       "      <td>0.0</td>\n",
       "      <td>0.161347</td>\n",
       "      <td>0.544481</td>\n",
       "      <td>0.771341</td>\n",
       "      <td>0.999999</td>\n",
       "    </tr>\n",
       "    <tr>\n",
       "      <th>2022-01-01</th>\n",
       "      <td>CO</td>\n",
       "      <td>2022-01-01</td>\n",
       "      <td>33.0</td>\n",
       "      <td>0.471292</td>\n",
       "      <td>0.326359</td>\n",
       "      <td>0.0</td>\n",
       "      <td>0.173302</td>\n",
       "      <td>0.532644</td>\n",
       "      <td>0.711354</td>\n",
       "      <td>0.999999</td>\n",
       "    </tr>\n",
       "    <tr>\n",
       "      <th>2022-02-01</th>\n",
       "      <td>CO</td>\n",
       "      <td>2022-02-01</td>\n",
       "      <td>33.0</td>\n",
       "      <td>0.445434</td>\n",
       "      <td>0.324060</td>\n",
       "      <td>0.0</td>\n",
       "      <td>0.166859</td>\n",
       "      <td>0.457867</td>\n",
       "      <td>0.708436</td>\n",
       "      <td>0.999999</td>\n",
       "    </tr>\n",
       "  </tbody>\n",
       "</table>\n",
       "</div>"
      ],
      "text/plain": [
       "           state year_month  count      mean       std  min       25%  \\\n",
       "year_month                                                              \n",
       "2021-09-01    CO 2021-09-01   33.0  0.399052  0.308281  0.0  0.123488   \n",
       "2021-10-01    CO 2021-10-01   33.0  0.458133  0.325942  0.0  0.159023   \n",
       "2021-11-01    CO 2021-11-01   33.0  0.443506  0.320811  0.0  0.167401   \n",
       "2021-12-01    CO 2021-12-01   33.0  0.483792  0.336847  0.0  0.161347   \n",
       "2022-01-01    CO 2022-01-01   33.0  0.471292  0.326359  0.0  0.173302   \n",
       "2022-02-01    CO 2022-02-01   33.0  0.445434  0.324060  0.0  0.166859   \n",
       "\n",
       "                 50%       75%       max  \n",
       "year_month                                \n",
       "2021-09-01  0.410505  0.649874  0.999760  \n",
       "2021-10-01  0.497439  0.720577  0.999760  \n",
       "2021-11-01  0.484360  0.676302  0.999999  \n",
       "2021-12-01  0.544481  0.771341  0.999999  \n",
       "2022-01-01  0.532644  0.711354  0.999999  \n",
       "2022-02-01  0.457867  0.708436  0.999999  "
      ]
     },
     "execution_count": 308,
     "metadata": {},
     "output_type": "execute_result"
    }
   ],
   "source": [
    "churn_distr[churn_distr['state'] == 'CO']"
   ]
  },
  {
   "cell_type": "code",
   "execution_count": 310,
   "id": "0349d351",
   "metadata": {},
   "outputs": [
    {
     "data": {
      "text/html": [
       "<div>\n",
       "<style scoped>\n",
       "    .dataframe tbody tr th:only-of-type {\n",
       "        vertical-align: middle;\n",
       "    }\n",
       "\n",
       "    .dataframe tbody tr th {\n",
       "        vertical-align: top;\n",
       "    }\n",
       "\n",
       "    .dataframe thead th {\n",
       "        text-align: right;\n",
       "    }\n",
       "</style>\n",
       "<table border=\"1\" class=\"dataframe\">\n",
       "  <thead>\n",
       "    <tr style=\"text-align: right;\">\n",
       "      <th></th>\n",
       "      <th>state</th>\n",
       "      <th>year_month</th>\n",
       "      <th>count</th>\n",
       "      <th>mean</th>\n",
       "      <th>std</th>\n",
       "      <th>min</th>\n",
       "      <th>25%</th>\n",
       "      <th>50%</th>\n",
       "      <th>75%</th>\n",
       "      <th>max</th>\n",
       "    </tr>\n",
       "    <tr>\n",
       "      <th>year_month</th>\n",
       "      <th></th>\n",
       "      <th></th>\n",
       "      <th></th>\n",
       "      <th></th>\n",
       "      <th></th>\n",
       "      <th></th>\n",
       "      <th></th>\n",
       "      <th></th>\n",
       "      <th></th>\n",
       "      <th></th>\n",
       "    </tr>\n",
       "  </thead>\n",
       "  <tbody>\n",
       "    <tr>\n",
       "      <th>2021-09-01</th>\n",
       "      <td>CO</td>\n",
       "      <td>2021-09-01</td>\n",
       "      <td>33.0</td>\n",
       "      <td>0.422707</td>\n",
       "      <td>0.328419</td>\n",
       "      <td>0.0</td>\n",
       "      <td>0.140844</td>\n",
       "      <td>0.367622</td>\n",
       "      <td>0.687892</td>\n",
       "      <td>1.0</td>\n",
       "    </tr>\n",
       "    <tr>\n",
       "      <th>2021-10-01</th>\n",
       "      <td>CO</td>\n",
       "      <td>2021-10-01</td>\n",
       "      <td>33.0</td>\n",
       "      <td>0.498721</td>\n",
       "      <td>0.358798</td>\n",
       "      <td>0.0</td>\n",
       "      <td>0.168450</td>\n",
       "      <td>0.483730</td>\n",
       "      <td>0.815900</td>\n",
       "      <td>1.0</td>\n",
       "    </tr>\n",
       "    <tr>\n",
       "      <th>2021-11-01</th>\n",
       "      <td>CO</td>\n",
       "      <td>2021-11-01</td>\n",
       "      <td>33.0</td>\n",
       "      <td>0.463291</td>\n",
       "      <td>0.347517</td>\n",
       "      <td>0.0</td>\n",
       "      <td>0.167247</td>\n",
       "      <td>0.374002</td>\n",
       "      <td>0.753209</td>\n",
       "      <td>1.0</td>\n",
       "    </tr>\n",
       "    <tr>\n",
       "      <th>2021-12-01</th>\n",
       "      <td>CO</td>\n",
       "      <td>2021-12-01</td>\n",
       "      <td>33.0</td>\n",
       "      <td>0.439471</td>\n",
       "      <td>0.324022</td>\n",
       "      <td>0.0</td>\n",
       "      <td>0.163553</td>\n",
       "      <td>0.426322</td>\n",
       "      <td>0.713000</td>\n",
       "      <td>1.0</td>\n",
       "    </tr>\n",
       "    <tr>\n",
       "      <th>2022-01-01</th>\n",
       "      <td>CO</td>\n",
       "      <td>2022-01-01</td>\n",
       "      <td>33.0</td>\n",
       "      <td>0.427912</td>\n",
       "      <td>0.333492</td>\n",
       "      <td>0.0</td>\n",
       "      <td>0.167664</td>\n",
       "      <td>0.331959</td>\n",
       "      <td>0.724529</td>\n",
       "      <td>1.0</td>\n",
       "    </tr>\n",
       "    <tr>\n",
       "      <th>2022-02-01</th>\n",
       "      <td>CO</td>\n",
       "      <td>2022-02-01</td>\n",
       "      <td>33.0</td>\n",
       "      <td>0.450176</td>\n",
       "      <td>0.326725</td>\n",
       "      <td>0.0</td>\n",
       "      <td>0.176997</td>\n",
       "      <td>0.391955</td>\n",
       "      <td>0.692841</td>\n",
       "      <td>1.0</td>\n",
       "    </tr>\n",
       "  </tbody>\n",
       "</table>\n",
       "</div>"
      ],
      "text/plain": [
       "           state year_month  count      mean       std  min       25%  \\\n",
       "year_month                                                              \n",
       "2021-09-01    CO 2021-09-01   33.0  0.422707  0.328419  0.0  0.140844   \n",
       "2021-10-01    CO 2021-10-01   33.0  0.498721  0.358798  0.0  0.168450   \n",
       "2021-11-01    CO 2021-11-01   33.0  0.463291  0.347517  0.0  0.167247   \n",
       "2021-12-01    CO 2021-12-01   33.0  0.439471  0.324022  0.0  0.163553   \n",
       "2022-01-01    CO 2022-01-01   33.0  0.427912  0.333492  0.0  0.167664   \n",
       "2022-02-01    CO 2022-02-01   33.0  0.450176  0.326725  0.0  0.176997   \n",
       "\n",
       "                 50%       75%  max  \n",
       "year_month                           \n",
       "2021-09-01  0.367622  0.687892  1.0  \n",
       "2021-10-01  0.483730  0.815900  1.0  \n",
       "2021-11-01  0.374002  0.753209  1.0  \n",
       "2021-12-01  0.426322  0.713000  1.0  \n",
       "2022-01-01  0.331959  0.724529  1.0  \n",
       "2022-02-01  0.391955  0.692841  1.0  "
      ]
     },
     "execution_count": 310,
     "metadata": {},
     "output_type": "execute_result"
    }
   ],
   "source": [
    "churn_distr_short[churn_distr_short['state'] == 'CO']"
   ]
  },
  {
   "cell_type": "code",
   "execution_count": 305,
   "id": "b2616266",
   "metadata": {},
   "outputs": [
    {
     "data": {
      "image/png": "[encoded data removed]",
      "text/plain": [
       "<Figure size 1440x432 with 1 Axes>"
      ]
     },
     "metadata": {},
     "output_type": "display_data"
    }
   ],
   "source": [
    "churn_distr[churn_distr['state'] == 'CA']['50%'].plot(marker = 'o',label = 'churn original')\n",
    "churn_distr_short[churn_distr_short['state'] == 'CA']['50%'].plot(marker = 'o',label = 'churn new')\n",
    "plt.legend()\n",
    "ax = plt.ylim(0.05,0.6)"
   ]
  },
  {
   "cell_type": "code",
   "execution_count": 304,
   "id": "97d0e1e7",
   "metadata": {},
   "outputs": [
    {
     "data": {
      "image/png": "[encoded data removed]",
      "text/plain": [
       "<Figure size 1440x432 with 1 Axes>"
      ]
     },
     "metadata": {},
     "output_type": "display_data"
    }
   ],
   "source": [
    "churn_distr[churn_distr['state'] == 'CA']['mean'].plot(marker = 'o',label = 'churn original')\n",
    "churn_distr_short[churn_distr_short['state'] == 'CA']['mean'].plot(marker = 'o',label = 'churn new')\n",
    "plt.legend()\n",
    "ax = plt.ylim(0.05,0.6)"
   ]
  },
  {
   "cell_type": "code",
   "execution_count": 302,
   "id": "377d2d75",
   "metadata": {},
   "outputs": [
    {
     "data": {
      "image/png": "[encoded data removed]",
      "text/plain": [
       "<Figure size 1440x432 with 1 Axes>"
      ]
     },
     "metadata": {},
     "output_type": "display_data"
    }
   ],
   "source": [
    "churn_distr[churn_distr['state'] == 'CO']['50%'].plot(marker = 'o',label = 'churn original')\n",
    "churn_distr_short[churn_distr_short['state'] == 'CO']['50%'].plot(marker = 'o',label = 'churn new')\n",
    "plt.legend()\n",
    "ax = plt.ylim(0.05,0.6)"
   ]
  },
  {
   "cell_type": "code",
   "execution_count": 303,
   "id": "1e88e37d",
   "metadata": {},
   "outputs": [
    {
     "data": {
      "image/png": "[encoded data removed]",
      "text/plain": [
       "<Figure size 1440x432 with 1 Axes>"
      ]
     },
     "metadata": {},
     "output_type": "display_data"
    }
   ],
   "source": [
    "churn_distr[churn_distr['state'] == 'CO']['mean'].plot(marker = 'o',label = 'churn original')\n",
    "churn_distr_short[churn_distr_short['state'] == 'CO']['mean'].plot(marker = 'o',label = 'churn new')\n",
    "plt.legend()\n",
    "ax = plt.ylim(0.05,0.6)"
   ]
  },
  {
   "cell_type": "markdown",
   "id": "ee39347c",
   "metadata": {},
   "source": [
    "# Qualification rate"
   ]
  },
  {
   "cell_type": "code",
   "execution_count": 207,
   "id": "713bda58",
   "metadata": {},
   "outputs": [],
   "source": [
    "df_clients = [\n",
    "'DL',\n",
    "'DW',\n",
    "'EMA',\n",
    "'EMM',\n",
    "'EMT',\n",
    "'EMF',\n",
    "'ST',\n",
    "'GRG',\n",
    "'EL',\n",
    "'VS',\n",
    "'TT',\n",
    "'MD',\n",
    "'DWF',\n",
    "'GHC',\n",
    "'SV',\n",
    "'99HT'\n",
    "]"
   ]
  },
  {
   "cell_type": "code",
   "execution_count": 208,
   "id": "23f9c42b",
   "metadata": {},
   "outputs": [],
   "source": [
    "churn_joined_client = churn_joined[churn_joined['company_identifier'].isin(df_clients)]"
   ]
  },
  {
   "cell_type": "code",
   "execution_count": 211,
   "id": "164980da",
   "metadata": {},
   "outputs": [
    {
     "data": {
      "text/html": [
       "<div>\n",
       "<style scoped>\n",
       "    .dataframe tbody tr th:only-of-type {\n",
       "        vertical-align: middle;\n",
       "    }\n",
       "\n",
       "    .dataframe tbody tr th {\n",
       "        vertical-align: top;\n",
       "    }\n",
       "\n",
       "    .dataframe thead th {\n",
       "        text-align: right;\n",
       "    }\n",
       "</style>\n",
       "<table border=\"1\" class=\"dataframe\">\n",
       "  <thead>\n",
       "    <tr style=\"text-align: right;\">\n",
       "      <th></th>\n",
       "      <th>year_month</th>\n",
       "      <th>churn_orig</th>\n",
       "      <th>company</th>\n",
       "      <th>location</th>\n",
       "      <th>company_identifier</th>\n",
       "      <th>state</th>\n",
       "      <th>churn_new</th>\n",
       "      <th>new-old</th>\n",
       "    </tr>\n",
       "  </thead>\n",
       "  <tbody>\n",
       "    <tr>\n",
       "      <th>0</th>\n",
       "      <td>2021-09-01</td>\n",
       "      <td>0.086819</td>\n",
       "      <td>99HT</td>\n",
       "      <td>C10-0000279-LIC</td>\n",
       "      <td>99HT</td>\n",
       "      <td>CA</td>\n",
       "      <td>0.268819</td>\n",
       "      <td>0.182000</td>\n",
       "    </tr>\n",
       "    <tr>\n",
       "      <th>1</th>\n",
       "      <td>2021-10-01</td>\n",
       "      <td>0.115768</td>\n",
       "      <td>99HT</td>\n",
       "      <td>C10-0000279-LIC</td>\n",
       "      <td>99HT</td>\n",
       "      <td>CA</td>\n",
       "      <td>0.299930</td>\n",
       "      <td>0.184162</td>\n",
       "    </tr>\n",
       "    <tr>\n",
       "      <th>2</th>\n",
       "      <td>2021-11-01</td>\n",
       "      <td>0.169809</td>\n",
       "      <td>99HT</td>\n",
       "      <td>C10-0000279-LIC</td>\n",
       "      <td>99HT</td>\n",
       "      <td>CA</td>\n",
       "      <td>0.315991</td>\n",
       "      <td>0.146182</td>\n",
       "    </tr>\n",
       "    <tr>\n",
       "      <th>3</th>\n",
       "      <td>2021-12-01</td>\n",
       "      <td>0.215134</td>\n",
       "      <td>99HT</td>\n",
       "      <td>C10-0000279-LIC</td>\n",
       "      <td>99HT</td>\n",
       "      <td>CA</td>\n",
       "      <td>0.357809</td>\n",
       "      <td>0.142675</td>\n",
       "    </tr>\n",
       "    <tr>\n",
       "      <th>4</th>\n",
       "      <td>2022-01-01</td>\n",
       "      <td>0.210160</td>\n",
       "      <td>99HT</td>\n",
       "      <td>C10-0000279-LIC</td>\n",
       "      <td>99HT</td>\n",
       "      <td>CA</td>\n",
       "      <td>0.295126</td>\n",
       "      <td>0.084966</td>\n",
       "    </tr>\n",
       "    <tr>\n",
       "      <th>...</th>\n",
       "      <td>...</td>\n",
       "      <td>...</td>\n",
       "      <td>...</td>\n",
       "      <td>...</td>\n",
       "      <td>...</td>\n",
       "      <td>...</td>\n",
       "      <td>...</td>\n",
       "      <td>...</td>\n",
       "    </tr>\n",
       "    <tr>\n",
       "      <th>871</th>\n",
       "      <td>2021-10-01</td>\n",
       "      <td>0.172940</td>\n",
       "      <td>VS</td>\n",
       "      <td>402R-00545</td>\n",
       "      <td>VS</td>\n",
       "      <td>CO</td>\n",
       "      <td>0.114183</td>\n",
       "      <td>-0.058756</td>\n",
       "    </tr>\n",
       "    <tr>\n",
       "      <th>872</th>\n",
       "      <td>2021-11-01</td>\n",
       "      <td>0.166993</td>\n",
       "      <td>VS</td>\n",
       "      <td>402R-00545</td>\n",
       "      <td>VS</td>\n",
       "      <td>CO</td>\n",
       "      <td>0.167247</td>\n",
       "      <td>0.000254</td>\n",
       "    </tr>\n",
       "    <tr>\n",
       "      <th>873</th>\n",
       "      <td>2021-12-01</td>\n",
       "      <td>0.161923</td>\n",
       "      <td>VS</td>\n",
       "      <td>402R-00545</td>\n",
       "      <td>VS</td>\n",
       "      <td>CO</td>\n",
       "      <td>0.163553</td>\n",
       "      <td>0.001631</td>\n",
       "    </tr>\n",
       "    <tr>\n",
       "      <th>874</th>\n",
       "      <td>2022-01-01</td>\n",
       "      <td>0.224073</td>\n",
       "      <td>VS</td>\n",
       "      <td>402R-00545</td>\n",
       "      <td>VS</td>\n",
       "      <td>CO</td>\n",
       "      <td>0.162052</td>\n",
       "      <td>-0.062021</td>\n",
       "    </tr>\n",
       "    <tr>\n",
       "      <th>875</th>\n",
       "      <td>2022-02-01</td>\n",
       "      <td>0.248180</td>\n",
       "      <td>VS</td>\n",
       "      <td>402R-00545</td>\n",
       "      <td>VS</td>\n",
       "      <td>CO</td>\n",
       "      <td>0.131578</td>\n",
       "      <td>-0.116602</td>\n",
       "    </tr>\n",
       "  </tbody>\n",
       "</table>\n",
       "<p>108 rows × 8 columns</p>\n",
       "</div>"
      ],
      "text/plain": [
       "    year_month  churn_orig company         location company_identifier state  \\\n",
       "0   2021-09-01    0.086819    99HT  C10-0000279-LIC               99HT    CA   \n",
       "1   2021-10-01    0.115768    99HT  C10-0000279-LIC               99HT    CA   \n",
       "2   2021-11-01    0.169809    99HT  C10-0000279-LIC               99HT    CA   \n",
       "3   2021-12-01    0.215134    99HT  C10-0000279-LIC               99HT    CA   \n",
       "4   2022-01-01    0.210160    99HT  C10-0000279-LIC               99HT    CA   \n",
       "..         ...         ...     ...              ...                ...   ...   \n",
       "871 2021-10-01    0.172940      VS       402R-00545                 VS    CO   \n",
       "872 2021-11-01    0.166993      VS       402R-00545                 VS    CO   \n",
       "873 2021-12-01    0.161923      VS       402R-00545                 VS    CO   \n",
       "874 2022-01-01    0.224073      VS       402R-00545                 VS    CO   \n",
       "875 2022-02-01    0.248180      VS       402R-00545                 VS    CO   \n",
       "\n",
       "     churn_new   new-old  \n",
       "0     0.268819  0.182000  \n",
       "1     0.299930  0.184162  \n",
       "2     0.315991  0.146182  \n",
       "3     0.357809  0.142675  \n",
       "4     0.295126  0.084966  \n",
       "..         ...       ...  \n",
       "871   0.114183 -0.058756  \n",
       "872   0.167247  0.000254  \n",
       "873   0.163553  0.001631  \n",
       "874   0.162052 -0.062021  \n",
       "875   0.131578 -0.116602  \n",
       "\n",
       "[108 rows x 8 columns]"
      ]
     },
     "execution_count": 211,
     "metadata": {},
     "output_type": "execute_result"
    }
   ],
   "source": [
    "churn_joined_client"
   ]
  },
  {
   "cell_type": "code",
   "execution_count": 212,
   "id": "8fa8d3e6",
   "metadata": {},
   "outputs": [],
   "source": [
    "# distribution of margin short for current df clients\n",
    "churn_distr_short_df = churn_joined_client.groupby(['state','year_month'])['churn_new'].describe().reset_index()\n",
    "churn_distr_short_df['year_month'] = pd.to_datetime(churn_distr_short_df['year_month'])\n",
    "churn_distr_short_df.index = churn_distr_short_df.year_month\n",
    "\n",
    "\n",
    "# distribution of margin orig for current df clients\n",
    "churn_distr_df = churn_joined_client.groupby(['state','year_month'])['churn_orig'].describe().reset_index()\n",
    "churn_distr_df['year_month'] = pd.to_datetime(churn_distr_df['year_month'])\n",
    "churn_distr_df.index = churn_distr_df.year_month\n",
    "\n"
   ]
  },
  {
   "cell_type": "code",
   "execution_count": 295,
   "id": "527562ea",
   "metadata": {},
   "outputs": [
    {
     "data": {
      "image/png": "[encoded data removed]",
      "text/plain": [
       "<Figure size 1440x432 with 1 Axes>"
      ]
     },
     "metadata": {},
     "output_type": "display_data"
    }
   ],
   "source": [
    "churn_distr_df[churn_distr_df['state'] == 'CA']['50%'].plot(marker = 'o',label = 'churn original')\n",
    "churn_distr_short_df[churn_distr_short_df['state'] == 'CA']['50%'].plot(marker = 'o',label = 'churn new')\n",
    "plt.legend()\n",
    "ax = plt.ylim(0.05,0.3)"
   ]
  },
  {
   "cell_type": "code",
   "execution_count": 296,
   "id": "23793f0f",
   "metadata": {},
   "outputs": [
    {
     "data": {
      "image/png": "[encoded data removed]",
      "text/plain": [
       "<Figure size 1440x432 with 1 Axes>"
      ]
     },
     "metadata": {},
     "output_type": "display_data"
    }
   ],
   "source": [
    "churn_distr_df[churn_distr_df['state'] == 'CA']['mean'].plot(marker = 'o',label = 'churn original')\n",
    "churn_distr_short_df[churn_distr_short_df['state'] == 'CA']['mean'].plot(marker = 'o',label = 'churn new')\n",
    "plt.legend()\n",
    "ax = plt.ylim(0.05,0.3)"
   ]
  },
  {
   "cell_type": "code",
   "execution_count": 311,
   "id": "99743838",
   "metadata": {},
   "outputs": [
    {
     "data": {
      "text/html": [
       "<div>\n",
       "<style scoped>\n",
       "    .dataframe tbody tr th:only-of-type {\n",
       "        vertical-align: middle;\n",
       "    }\n",
       "\n",
       "    .dataframe tbody tr th {\n",
       "        vertical-align: top;\n",
       "    }\n",
       "\n",
       "    .dataframe thead th {\n",
       "        text-align: right;\n",
       "    }\n",
       "</style>\n",
       "<table border=\"1\" class=\"dataframe\">\n",
       "  <thead>\n",
       "    <tr style=\"text-align: right;\">\n",
       "      <th></th>\n",
       "      <th>state</th>\n",
       "      <th>year_month</th>\n",
       "      <th>count</th>\n",
       "      <th>mean</th>\n",
       "      <th>std</th>\n",
       "      <th>min</th>\n",
       "      <th>25%</th>\n",
       "      <th>50%</th>\n",
       "      <th>75%</th>\n",
       "      <th>max</th>\n",
       "    </tr>\n",
       "    <tr>\n",
       "      <th>year_month</th>\n",
       "      <th></th>\n",
       "      <th></th>\n",
       "      <th></th>\n",
       "      <th></th>\n",
       "      <th></th>\n",
       "      <th></th>\n",
       "      <th></th>\n",
       "      <th></th>\n",
       "      <th></th>\n",
       "      <th></th>\n",
       "    </tr>\n",
       "  </thead>\n",
       "  <tbody>\n",
       "    <tr>\n",
       "      <th>2021-09-01</th>\n",
       "      <td>CA</td>\n",
       "      <td>2021-09-01</td>\n",
       "      <td>13.0</td>\n",
       "      <td>0.103945</td>\n",
       "      <td>0.108485</td>\n",
       "      <td>0.0</td>\n",
       "      <td>0.026379</td>\n",
       "      <td>0.070324</td>\n",
       "      <td>0.150605</td>\n",
       "      <td>0.304961</td>\n",
       "    </tr>\n",
       "    <tr>\n",
       "      <th>2021-10-01</th>\n",
       "      <td>CA</td>\n",
       "      <td>2021-10-01</td>\n",
       "      <td>13.0</td>\n",
       "      <td>0.147036</td>\n",
       "      <td>0.136663</td>\n",
       "      <td>0.0</td>\n",
       "      <td>0.040579</td>\n",
       "      <td>0.115768</td>\n",
       "      <td>0.262152</td>\n",
       "      <td>0.425110</td>\n",
       "    </tr>\n",
       "    <tr>\n",
       "      <th>2021-11-01</th>\n",
       "      <td>CA</td>\n",
       "      <td>2021-11-01</td>\n",
       "      <td>13.0</td>\n",
       "      <td>0.149926</td>\n",
       "      <td>0.135177</td>\n",
       "      <td>0.0</td>\n",
       "      <td>0.038389</td>\n",
       "      <td>0.145397</td>\n",
       "      <td>0.249701</td>\n",
       "      <td>0.417880</td>\n",
       "    </tr>\n",
       "    <tr>\n",
       "      <th>2021-12-01</th>\n",
       "      <td>CA</td>\n",
       "      <td>2021-12-01</td>\n",
       "      <td>13.0</td>\n",
       "      <td>0.155007</td>\n",
       "      <td>0.139752</td>\n",
       "      <td>0.0</td>\n",
       "      <td>0.059869</td>\n",
       "      <td>0.132536</td>\n",
       "      <td>0.257432</td>\n",
       "      <td>0.453042</td>\n",
       "    </tr>\n",
       "    <tr>\n",
       "      <th>2022-01-01</th>\n",
       "      <td>CA</td>\n",
       "      <td>2022-01-01</td>\n",
       "      <td>13.0</td>\n",
       "      <td>0.182666</td>\n",
       "      <td>0.136093</td>\n",
       "      <td>0.0</td>\n",
       "      <td>0.130718</td>\n",
       "      <td>0.178262</td>\n",
       "      <td>0.262408</td>\n",
       "      <td>0.460428</td>\n",
       "    </tr>\n",
       "    <tr>\n",
       "      <th>2022-02-01</th>\n",
       "      <td>CA</td>\n",
       "      <td>2022-02-01</td>\n",
       "      <td>13.0</td>\n",
       "      <td>0.183607</td>\n",
       "      <td>0.131631</td>\n",
       "      <td>0.0</td>\n",
       "      <td>0.128248</td>\n",
       "      <td>0.185062</td>\n",
       "      <td>0.284150</td>\n",
       "      <td>0.446170</td>\n",
       "    </tr>\n",
       "  </tbody>\n",
       "</table>\n",
       "</div>"
      ],
      "text/plain": [
       "           state year_month  count      mean       std  min       25%  \\\n",
       "year_month                                                              \n",
       "2021-09-01    CA 2021-09-01   13.0  0.103945  0.108485  0.0  0.026379   \n",
       "2021-10-01    CA 2021-10-01   13.0  0.147036  0.136663  0.0  0.040579   \n",
       "2021-11-01    CA 2021-11-01   13.0  0.149926  0.135177  0.0  0.038389   \n",
       "2021-12-01    CA 2021-12-01   13.0  0.155007  0.139752  0.0  0.059869   \n",
       "2022-01-01    CA 2022-01-01   13.0  0.182666  0.136093  0.0  0.130718   \n",
       "2022-02-01    CA 2022-02-01   13.0  0.183607  0.131631  0.0  0.128248   \n",
       "\n",
       "                 50%       75%       max  \n",
       "year_month                                \n",
       "2021-09-01  0.070324  0.150605  0.304961  \n",
       "2021-10-01  0.115768  0.262152  0.425110  \n",
       "2021-11-01  0.145397  0.249701  0.417880  \n",
       "2021-12-01  0.132536  0.257432  0.453042  \n",
       "2022-01-01  0.178262  0.262408  0.460428  \n",
       "2022-02-01  0.185062  0.284150  0.446170  "
      ]
     },
     "execution_count": 311,
     "metadata": {},
     "output_type": "execute_result"
    }
   ],
   "source": [
    "churn_distr_df[churn_distr_df['state'] == 'CA']"
   ]
  },
  {
   "cell_type": "code",
   "execution_count": 312,
   "id": "3c1d81b4",
   "metadata": {},
   "outputs": [
    {
     "data": {
      "text/html": [
       "<div>\n",
       "<style scoped>\n",
       "    .dataframe tbody tr th:only-of-type {\n",
       "        vertical-align: middle;\n",
       "    }\n",
       "\n",
       "    .dataframe tbody tr th {\n",
       "        vertical-align: top;\n",
       "    }\n",
       "\n",
       "    .dataframe thead th {\n",
       "        text-align: right;\n",
       "    }\n",
       "</style>\n",
       "<table border=\"1\" class=\"dataframe\">\n",
       "  <thead>\n",
       "    <tr style=\"text-align: right;\">\n",
       "      <th></th>\n",
       "      <th>state</th>\n",
       "      <th>year_month</th>\n",
       "      <th>count</th>\n",
       "      <th>mean</th>\n",
       "      <th>std</th>\n",
       "      <th>min</th>\n",
       "      <th>25%</th>\n",
       "      <th>50%</th>\n",
       "      <th>75%</th>\n",
       "      <th>max</th>\n",
       "    </tr>\n",
       "    <tr>\n",
       "      <th>year_month</th>\n",
       "      <th></th>\n",
       "      <th></th>\n",
       "      <th></th>\n",
       "      <th></th>\n",
       "      <th></th>\n",
       "      <th></th>\n",
       "      <th></th>\n",
       "      <th></th>\n",
       "      <th></th>\n",
       "      <th></th>\n",
       "    </tr>\n",
       "  </thead>\n",
       "  <tbody>\n",
       "    <tr>\n",
       "      <th>2021-09-01</th>\n",
       "      <td>CA</td>\n",
       "      <td>2021-09-01</td>\n",
       "      <td>13.0</td>\n",
       "      <td>0.171353</td>\n",
       "      <td>0.141621</td>\n",
       "      <td>0.0</td>\n",
       "      <td>0.071074</td>\n",
       "      <td>0.181165</td>\n",
       "      <td>0.243229</td>\n",
       "      <td>0.507875</td>\n",
       "    </tr>\n",
       "    <tr>\n",
       "      <th>2021-10-01</th>\n",
       "      <td>CA</td>\n",
       "      <td>2021-10-01</td>\n",
       "      <td>13.0</td>\n",
       "      <td>0.185618</td>\n",
       "      <td>0.151917</td>\n",
       "      <td>0.0</td>\n",
       "      <td>0.087431</td>\n",
       "      <td>0.168319</td>\n",
       "      <td>0.240871</td>\n",
       "      <td>0.551159</td>\n",
       "    </tr>\n",
       "    <tr>\n",
       "      <th>2021-11-01</th>\n",
       "      <td>CA</td>\n",
       "      <td>2021-11-01</td>\n",
       "      <td>13.0</td>\n",
       "      <td>0.253743</td>\n",
       "      <td>0.228626</td>\n",
       "      <td>0.0</td>\n",
       "      <td>0.154711</td>\n",
       "      <td>0.220830</td>\n",
       "      <td>0.315991</td>\n",
       "      <td>0.818831</td>\n",
       "    </tr>\n",
       "    <tr>\n",
       "      <th>2021-12-01</th>\n",
       "      <td>CA</td>\n",
       "      <td>2021-12-01</td>\n",
       "      <td>13.0</td>\n",
       "      <td>0.244189</td>\n",
       "      <td>0.203369</td>\n",
       "      <td>0.0</td>\n",
       "      <td>0.165449</td>\n",
       "      <td>0.219206</td>\n",
       "      <td>0.347622</td>\n",
       "      <td>0.684729</td>\n",
       "    </tr>\n",
       "    <tr>\n",
       "      <th>2022-01-01</th>\n",
       "      <td>CA</td>\n",
       "      <td>2022-01-01</td>\n",
       "      <td>13.0</td>\n",
       "      <td>0.218354</td>\n",
       "      <td>0.152233</td>\n",
       "      <td>0.0</td>\n",
       "      <td>0.147499</td>\n",
       "      <td>0.253944</td>\n",
       "      <td>0.284730</td>\n",
       "      <td>0.544743</td>\n",
       "    </tr>\n",
       "    <tr>\n",
       "      <th>2022-02-01</th>\n",
       "      <td>CA</td>\n",
       "      <td>2022-02-01</td>\n",
       "      <td>13.0</td>\n",
       "      <td>0.228255</td>\n",
       "      <td>0.145975</td>\n",
       "      <td>0.0</td>\n",
       "      <td>0.212080</td>\n",
       "      <td>0.227998</td>\n",
       "      <td>0.316001</td>\n",
       "      <td>0.524251</td>\n",
       "    </tr>\n",
       "  </tbody>\n",
       "</table>\n",
       "</div>"
      ],
      "text/plain": [
       "           state year_month  count      mean       std  min       25%  \\\n",
       "year_month                                                              \n",
       "2021-09-01    CA 2021-09-01   13.0  0.171353  0.141621  0.0  0.071074   \n",
       "2021-10-01    CA 2021-10-01   13.0  0.185618  0.151917  0.0  0.087431   \n",
       "2021-11-01    CA 2021-11-01   13.0  0.253743  0.228626  0.0  0.154711   \n",
       "2021-12-01    CA 2021-12-01   13.0  0.244189  0.203369  0.0  0.165449   \n",
       "2022-01-01    CA 2022-01-01   13.0  0.218354  0.152233  0.0  0.147499   \n",
       "2022-02-01    CA 2022-02-01   13.0  0.228255  0.145975  0.0  0.212080   \n",
       "\n",
       "                 50%       75%       max  \n",
       "year_month                                \n",
       "2021-09-01  0.181165  0.243229  0.507875  \n",
       "2021-10-01  0.168319  0.240871  0.551159  \n",
       "2021-11-01  0.220830  0.315991  0.818831  \n",
       "2021-12-01  0.219206  0.347622  0.684729  \n",
       "2022-01-01  0.253944  0.284730  0.544743  \n",
       "2022-02-01  0.227998  0.316001  0.524251  "
      ]
     },
     "execution_count": 312,
     "metadata": {},
     "output_type": "execute_result"
    }
   ],
   "source": [
    "churn_distr_short_df[churn_distr_short_df['state'] == 'CA']"
   ]
  },
  {
   "cell_type": "code",
   "execution_count": 314,
   "id": "99b88da3",
   "metadata": {},
   "outputs": [
    {
     "data": {
      "text/html": [
       "<div>\n",
       "<style scoped>\n",
       "    .dataframe tbody tr th:only-of-type {\n",
       "        vertical-align: middle;\n",
       "    }\n",
       "\n",
       "    .dataframe tbody tr th {\n",
       "        vertical-align: top;\n",
       "    }\n",
       "\n",
       "    .dataframe thead th {\n",
       "        text-align: right;\n",
       "    }\n",
       "</style>\n",
       "<table border=\"1\" class=\"dataframe\">\n",
       "  <thead>\n",
       "    <tr style=\"text-align: right;\">\n",
       "      <th></th>\n",
       "      <th>state</th>\n",
       "      <th>year_month</th>\n",
       "      <th>count</th>\n",
       "      <th>mean</th>\n",
       "      <th>std</th>\n",
       "      <th>min</th>\n",
       "      <th>25%</th>\n",
       "      <th>50%</th>\n",
       "      <th>75%</th>\n",
       "      <th>max</th>\n",
       "    </tr>\n",
       "    <tr>\n",
       "      <th>year_month</th>\n",
       "      <th></th>\n",
       "      <th></th>\n",
       "      <th></th>\n",
       "      <th></th>\n",
       "      <th></th>\n",
       "      <th></th>\n",
       "      <th></th>\n",
       "      <th></th>\n",
       "      <th></th>\n",
       "      <th></th>\n",
       "    </tr>\n",
       "  </thead>\n",
       "  <tbody>\n",
       "    <tr>\n",
       "      <th>2021-09-01</th>\n",
       "      <td>CO</td>\n",
       "      <td>2021-09-01</td>\n",
       "      <td>3.0</td>\n",
       "      <td>0.089292</td>\n",
       "      <td>0.084786</td>\n",
       "      <td>0.013087</td>\n",
       "      <td>0.043627</td>\n",
       "      <td>0.074166</td>\n",
       "      <td>0.127394</td>\n",
       "      <td>0.180622</td>\n",
       "    </tr>\n",
       "    <tr>\n",
       "      <th>2021-10-01</th>\n",
       "      <td>CO</td>\n",
       "      <td>2021-10-01</td>\n",
       "      <td>3.0</td>\n",
       "      <td>0.084818</td>\n",
       "      <td>0.081914</td>\n",
       "      <td>0.010993</td>\n",
       "      <td>0.040758</td>\n",
       "      <td>0.070523</td>\n",
       "      <td>0.121731</td>\n",
       "      <td>0.172940</td>\n",
       "    </tr>\n",
       "    <tr>\n",
       "      <th>2021-11-01</th>\n",
       "      <td>CO</td>\n",
       "      <td>2021-11-01</td>\n",
       "      <td>3.0</td>\n",
       "      <td>0.115035</td>\n",
       "      <td>0.090347</td>\n",
       "      <td>0.010712</td>\n",
       "      <td>0.088852</td>\n",
       "      <td>0.166993</td>\n",
       "      <td>0.167197</td>\n",
       "      <td>0.167401</td>\n",
       "    </tr>\n",
       "    <tr>\n",
       "      <th>2021-12-01</th>\n",
       "      <td>CO</td>\n",
       "      <td>2021-12-01</td>\n",
       "      <td>3.0</td>\n",
       "      <td>0.184811</td>\n",
       "      <td>0.080814</td>\n",
       "      <td>0.117910</td>\n",
       "      <td>0.139917</td>\n",
       "      <td>0.161923</td>\n",
       "      <td>0.218262</td>\n",
       "      <td>0.274601</td>\n",
       "    </tr>\n",
       "    <tr>\n",
       "      <th>2022-01-01</th>\n",
       "      <td>CO</td>\n",
       "      <td>2022-01-01</td>\n",
       "      <td>3.0</td>\n",
       "      <td>0.199370</td>\n",
       "      <td>0.050305</td>\n",
       "      <td>0.141489</td>\n",
       "      <td>0.182781</td>\n",
       "      <td>0.224073</td>\n",
       "      <td>0.228311</td>\n",
       "      <td>0.232549</td>\n",
       "    </tr>\n",
       "    <tr>\n",
       "      <th>2022-02-01</th>\n",
       "      <td>CO</td>\n",
       "      <td>2022-02-01</td>\n",
       "      <td>3.0</td>\n",
       "      <td>0.200588</td>\n",
       "      <td>0.062229</td>\n",
       "      <td>0.130169</td>\n",
       "      <td>0.176791</td>\n",
       "      <td>0.223414</td>\n",
       "      <td>0.235797</td>\n",
       "      <td>0.248180</td>\n",
       "    </tr>\n",
       "  </tbody>\n",
       "</table>\n",
       "</div>"
      ],
      "text/plain": [
       "           state year_month  count      mean       std       min       25%  \\\n",
       "year_month                                                                   \n",
       "2021-09-01    CO 2021-09-01    3.0  0.089292  0.084786  0.013087  0.043627   \n",
       "2021-10-01    CO 2021-10-01    3.0  0.084818  0.081914  0.010993  0.040758   \n",
       "2021-11-01    CO 2021-11-01    3.0  0.115035  0.090347  0.010712  0.088852   \n",
       "2021-12-01    CO 2021-12-01    3.0  0.184811  0.080814  0.117910  0.139917   \n",
       "2022-01-01    CO 2022-01-01    3.0  0.199370  0.050305  0.141489  0.182781   \n",
       "2022-02-01    CO 2022-02-01    3.0  0.200588  0.062229  0.130169  0.176791   \n",
       "\n",
       "                 50%       75%       max  \n",
       "year_month                                \n",
       "2021-09-01  0.074166  0.127394  0.180622  \n",
       "2021-10-01  0.070523  0.121731  0.172940  \n",
       "2021-11-01  0.166993  0.167197  0.167401  \n",
       "2021-12-01  0.161923  0.218262  0.274601  \n",
       "2022-01-01  0.224073  0.228311  0.232549  \n",
       "2022-02-01  0.223414  0.235797  0.248180  "
      ]
     },
     "execution_count": 314,
     "metadata": {},
     "output_type": "execute_result"
    }
   ],
   "source": [
    "churn_distr_df[churn_distr_df['state'] == 'CO']"
   ]
  },
  {
   "cell_type": "code",
   "execution_count": 315,
   "id": "296c0ed1",
   "metadata": {},
   "outputs": [
    {
     "data": {
      "text/html": [
       "<div>\n",
       "<style scoped>\n",
       "    .dataframe tbody tr th:only-of-type {\n",
       "        vertical-align: middle;\n",
       "    }\n",
       "\n",
       "    .dataframe tbody tr th {\n",
       "        vertical-align: top;\n",
       "    }\n",
       "\n",
       "    .dataframe thead th {\n",
       "        text-align: right;\n",
       "    }\n",
       "</style>\n",
       "<table border=\"1\" class=\"dataframe\">\n",
       "  <thead>\n",
       "    <tr style=\"text-align: right;\">\n",
       "      <th></th>\n",
       "      <th>state</th>\n",
       "      <th>year_month</th>\n",
       "      <th>count</th>\n",
       "      <th>mean</th>\n",
       "      <th>std</th>\n",
       "      <th>min</th>\n",
       "      <th>25%</th>\n",
       "      <th>50%</th>\n",
       "      <th>75%</th>\n",
       "      <th>max</th>\n",
       "    </tr>\n",
       "    <tr>\n",
       "      <th>year_month</th>\n",
       "      <th></th>\n",
       "      <th></th>\n",
       "      <th></th>\n",
       "      <th></th>\n",
       "      <th></th>\n",
       "      <th></th>\n",
       "      <th></th>\n",
       "      <th></th>\n",
       "      <th></th>\n",
       "      <th></th>\n",
       "    </tr>\n",
       "  </thead>\n",
       "  <tbody>\n",
       "    <tr>\n",
       "      <th>2021-09-01</th>\n",
       "      <td>CO</td>\n",
       "      <td>2021-09-01</td>\n",
       "      <td>3.0</td>\n",
       "      <td>0.091601</td>\n",
       "      <td>0.011838</td>\n",
       "      <td>0.081740</td>\n",
       "      <td>0.085036</td>\n",
       "      <td>0.088332</td>\n",
       "      <td>0.096531</td>\n",
       "      <td>0.104730</td>\n",
       "    </tr>\n",
       "    <tr>\n",
       "      <th>2021-10-01</th>\n",
       "      <td>CO</td>\n",
       "      <td>2021-10-01</td>\n",
       "      <td>3.0</td>\n",
       "      <td>0.166311</td>\n",
       "      <td>0.048249</td>\n",
       "      <td>0.114183</td>\n",
       "      <td>0.144764</td>\n",
       "      <td>0.175345</td>\n",
       "      <td>0.192375</td>\n",
       "      <td>0.209405</td>\n",
       "    </tr>\n",
       "    <tr>\n",
       "      <th>2021-11-01</th>\n",
       "      <td>CO</td>\n",
       "      <td>2021-11-01</td>\n",
       "      <td>3.0</td>\n",
       "      <td>0.253605</td>\n",
       "      <td>0.078474</td>\n",
       "      <td>0.167247</td>\n",
       "      <td>0.220131</td>\n",
       "      <td>0.273014</td>\n",
       "      <td>0.296784</td>\n",
       "      <td>0.320553</td>\n",
       "    </tr>\n",
       "    <tr>\n",
       "      <th>2021-12-01</th>\n",
       "      <td>CO</td>\n",
       "      <td>2021-12-01</td>\n",
       "      <td>3.0</td>\n",
       "      <td>0.254061</td>\n",
       "      <td>0.079499</td>\n",
       "      <td>0.163553</td>\n",
       "      <td>0.224794</td>\n",
       "      <td>0.286035</td>\n",
       "      <td>0.299315</td>\n",
       "      <td>0.312594</td>\n",
       "    </tr>\n",
       "    <tr>\n",
       "      <th>2022-01-01</th>\n",
       "      <td>CO</td>\n",
       "      <td>2022-01-01</td>\n",
       "      <td>3.0</td>\n",
       "      <td>0.150075</td>\n",
       "      <td>0.036881</td>\n",
       "      <td>0.108695</td>\n",
       "      <td>0.135373</td>\n",
       "      <td>0.162052</td>\n",
       "      <td>0.170766</td>\n",
       "      <td>0.179480</td>\n",
       "    </tr>\n",
       "    <tr>\n",
       "      <th>2022-02-01</th>\n",
       "      <td>CO</td>\n",
       "      <td>2022-02-01</td>\n",
       "      <td>3.0</td>\n",
       "      <td>0.144756</td>\n",
       "      <td>0.052543</td>\n",
       "      <td>0.100056</td>\n",
       "      <td>0.115817</td>\n",
       "      <td>0.131578</td>\n",
       "      <td>0.167106</td>\n",
       "      <td>0.202634</td>\n",
       "    </tr>\n",
       "  </tbody>\n",
       "</table>\n",
       "</div>"
      ],
      "text/plain": [
       "           state year_month  count      mean       std       min       25%  \\\n",
       "year_month                                                                   \n",
       "2021-09-01    CO 2021-09-01    3.0  0.091601  0.011838  0.081740  0.085036   \n",
       "2021-10-01    CO 2021-10-01    3.0  0.166311  0.048249  0.114183  0.144764   \n",
       "2021-11-01    CO 2021-11-01    3.0  0.253605  0.078474  0.167247  0.220131   \n",
       "2021-12-01    CO 2021-12-01    3.0  0.254061  0.079499  0.163553  0.224794   \n",
       "2022-01-01    CO 2022-01-01    3.0  0.150075  0.036881  0.108695  0.135373   \n",
       "2022-02-01    CO 2022-02-01    3.0  0.144756  0.052543  0.100056  0.115817   \n",
       "\n",
       "                 50%       75%       max  \n",
       "year_month                                \n",
       "2021-09-01  0.088332  0.096531  0.104730  \n",
       "2021-10-01  0.175345  0.192375  0.209405  \n",
       "2021-11-01  0.273014  0.296784  0.320553  \n",
       "2021-12-01  0.286035  0.299315  0.312594  \n",
       "2022-01-01  0.162052  0.170766  0.179480  \n",
       "2022-02-01  0.131578  0.167106  0.202634  "
      ]
     },
     "execution_count": 315,
     "metadata": {},
     "output_type": "execute_result"
    }
   ],
   "source": [
    "churn_distr_short_df[churn_distr_short_df['state'] == 'CO']"
   ]
  },
  {
   "cell_type": "code",
   "execution_count": 297,
   "id": "3d46ed91",
   "metadata": {},
   "outputs": [
    {
     "data": {
      "image/png": "[encoded data removed]",
      "text/plain": [
       "<Figure size 1440x432 with 1 Axes>"
      ]
     },
     "metadata": {},
     "output_type": "display_data"
    }
   ],
   "source": [
    "churn_distr_df[churn_distr_df['state'] == 'CO']['50%'].plot(marker = 'o',label = 'churn original')\n",
    "churn_distr_short_df[churn_distr_short_df['state'] == 'CO']['50%'].plot(marker = 'o',label = 'churn new')\n",
    "plt.legend()\n",
    "ax = plt.ylim(0.05,0.3)"
   ]
  },
  {
   "cell_type": "code",
   "execution_count": 298,
   "id": "ac713933",
   "metadata": {},
   "outputs": [
    {
     "data": {
      "image/png": "[encoded data removed]",
      "text/plain": [
       "<Figure size 1440x432 with 1 Axes>"
      ]
     },
     "metadata": {},
     "output_type": "display_data"
    }
   ],
   "source": [
    "churn_distr_df[churn_distr_df['state'] == 'CO']['mean'].plot(marker = 'o',label = 'churn original')\n",
    "churn_distr_short_df[churn_distr_short_df['state'] == 'CO']['mean'].plot(marker = 'o',label = 'churn new')\n",
    "plt.legend()\n",
    "ax = plt.ylim(0.05,0.3)"
   ]
  },
  {
   "cell_type": "code",
   "execution_count": 276,
   "id": "e78ed554",
   "metadata": {},
   "outputs": [],
   "source": [
    "def calculate_monthly_qualification(data):\n",
    "    q_df = {}\n",
    "    nq_df = {}\n",
    "    new_q_df = {}\n",
    "    new_nq_df = {}\n",
    "    \n",
    "    q_2_nq_df = {}\n",
    "    nq_2_q_df = {}\n",
    "    for m in ['2021-09-01','2021-10-01','2021-11-01',\\\n",
    "             '2021-12-01','2022-01-01','2022-02-01']:\n",
    "        \n",
    "        d = data[data['year_month'] == m]\n",
    "        qualify_list = d[d['churn_orig'] < 0.45]['company'].unique()\n",
    "        non_qualify_list = d[d['churn_orig'] >= 0.45]['company'].unique()\n",
    "        new_qualify_list = d[d['churn_new'] < 0.45]['company'].unique()\n",
    "        new_non_qualify_list = d[d['churn_new'] >= 0.45]['company'].unique()\n",
    "        \n",
    "        q_df[m] = qualify_list\n",
    "        nq_df[m] = non_qualify_list\n",
    "        new_q_df[m] = new_qualify_list\n",
    "        new_nq_df[m] = new_non_qualify_list\n",
    "        \n",
    "        q_2_nq = set(qualify_list) - set(new_qualify_list)\n",
    "        nq_2_q = set(non_qualify_list) - set(new_non_qualify_list)\n",
    "        \n",
    "        q_2_nq_df[m] = q_2_nq\n",
    "        nq_2_q_df[m] = nq_2_q\n",
    "    return q_df,nq_df,new_q_df,new_nq_df,q_2_nq_df,nq_2_q"
   ]
  },
  {
   "cell_type": "code",
   "execution_count": 277,
   "id": "d6b5a0b9",
   "metadata": {},
   "outputs": [],
   "source": [
    "q,nq,new_q,new_nq,q_2_nq_data,nq_2_q_data = calculate_monthly_qualification(churn_joined_client)"
   ]
  },
  {
   "cell_type": "code",
   "execution_count": 317,
   "id": "3b1500bd",
   "metadata": {},
   "outputs": [
    {
     "data": {
      "text/html": [
       "<div>\n",
       "<style scoped>\n",
       "    .dataframe tbody tr th:only-of-type {\n",
       "        vertical-align: middle;\n",
       "    }\n",
       "\n",
       "    .dataframe tbody tr th {\n",
       "        vertical-align: top;\n",
       "    }\n",
       "\n",
       "    .dataframe thead th {\n",
       "        text-align: right;\n",
       "    }\n",
       "</style>\n",
       "<table border=\"1\" class=\"dataframe\">\n",
       "  <thead>\n",
       "    <tr style=\"text-align: right;\">\n",
       "      <th></th>\n",
       "      <th>0</th>\n",
       "      <th>1</th>\n",
       "      <th>2</th>\n",
       "      <th>3</th>\n",
       "      <th>4</th>\n",
       "      <th>5</th>\n",
       "      <th>6</th>\n",
       "      <th>7</th>\n",
       "      <th>8</th>\n",
       "      <th>9</th>\n",
       "      <th>10</th>\n",
       "      <th>11</th>\n",
       "      <th>12</th>\n",
       "      <th>13</th>\n",
       "      <th>14</th>\n",
       "      <th>15</th>\n",
       "    </tr>\n",
       "  </thead>\n",
       "  <tbody>\n",
       "    <tr>\n",
       "      <th>2021-09-01</th>\n",
       "      <td>99HT</td>\n",
       "      <td>DWF</td>\n",
       "      <td>DL</td>\n",
       "      <td>EL</td>\n",
       "      <td>EMA</td>\n",
       "      <td>EMF</td>\n",
       "      <td>EMM</td>\n",
       "      <td>EMT</td>\n",
       "      <td>GRG</td>\n",
       "      <td>GHC</td>\n",
       "      <td>MD</td>\n",
       "      <td>SV</td>\n",
       "      <td>ST</td>\n",
       "      <td>DW</td>\n",
       "      <td>TT</td>\n",
       "      <td>VS</td>\n",
       "    </tr>\n",
       "    <tr>\n",
       "      <th>2021-10-01</th>\n",
       "      <td>99HT</td>\n",
       "      <td>DWF</td>\n",
       "      <td>DL</td>\n",
       "      <td>EL</td>\n",
       "      <td>EMA</td>\n",
       "      <td>EMF</td>\n",
       "      <td>EMM</td>\n",
       "      <td>EMT</td>\n",
       "      <td>GRG</td>\n",
       "      <td>GHC</td>\n",
       "      <td>MD</td>\n",
       "      <td>SV</td>\n",
       "      <td>ST</td>\n",
       "      <td>DW</td>\n",
       "      <td>TT</td>\n",
       "      <td>VS</td>\n",
       "    </tr>\n",
       "    <tr>\n",
       "      <th>2021-11-01</th>\n",
       "      <td>99HT</td>\n",
       "      <td>DWF</td>\n",
       "      <td>DL</td>\n",
       "      <td>EL</td>\n",
       "      <td>EMA</td>\n",
       "      <td>EMF</td>\n",
       "      <td>EMM</td>\n",
       "      <td>EMT</td>\n",
       "      <td>GRG</td>\n",
       "      <td>GHC</td>\n",
       "      <td>MD</td>\n",
       "      <td>SV</td>\n",
       "      <td>ST</td>\n",
       "      <td>DW</td>\n",
       "      <td>TT</td>\n",
       "      <td>VS</td>\n",
       "    </tr>\n",
       "    <tr>\n",
       "      <th>2021-12-01</th>\n",
       "      <td>99HT</td>\n",
       "      <td>DWF</td>\n",
       "      <td>DL</td>\n",
       "      <td>EL</td>\n",
       "      <td>EMA</td>\n",
       "      <td>EMF</td>\n",
       "      <td>EMM</td>\n",
       "      <td>EMT</td>\n",
       "      <td>GRG</td>\n",
       "      <td>GHC</td>\n",
       "      <td>MD</td>\n",
       "      <td>SV</td>\n",
       "      <td>DW</td>\n",
       "      <td>TT</td>\n",
       "      <td>VS</td>\n",
       "      <td>NaN</td>\n",
       "    </tr>\n",
       "    <tr>\n",
       "      <th>2022-01-01</th>\n",
       "      <td>99HT</td>\n",
       "      <td>DWF</td>\n",
       "      <td>DL</td>\n",
       "      <td>EL</td>\n",
       "      <td>EMA</td>\n",
       "      <td>EMF</td>\n",
       "      <td>EMM</td>\n",
       "      <td>EMT</td>\n",
       "      <td>GRG</td>\n",
       "      <td>GHC</td>\n",
       "      <td>MD</td>\n",
       "      <td>SV</td>\n",
       "      <td>DW</td>\n",
       "      <td>TT</td>\n",
       "      <td>VS</td>\n",
       "      <td>NaN</td>\n",
       "    </tr>\n",
       "    <tr>\n",
       "      <th>2022-02-01</th>\n",
       "      <td>99HT</td>\n",
       "      <td>DWF</td>\n",
       "      <td>DL</td>\n",
       "      <td>EL</td>\n",
       "      <td>EMA</td>\n",
       "      <td>EMF</td>\n",
       "      <td>EMM</td>\n",
       "      <td>EMT</td>\n",
       "      <td>GRG</td>\n",
       "      <td>GHC</td>\n",
       "      <td>MD</td>\n",
       "      <td>SV</td>\n",
       "      <td>ST</td>\n",
       "      <td>DW</td>\n",
       "      <td>TT</td>\n",
       "      <td>VS</td>\n",
       "    </tr>\n",
       "  </tbody>\n",
       "</table>\n",
       "</div>"
      ],
      "text/plain": [
       "              0    1   2   3    4    5    6    7    8    9   10  11  12  13  \\\n",
       "2021-09-01  99HT  DWF  DL  EL  EMA  EMF  EMM  EMT  GRG  GHC  MD  SV  ST  DW   \n",
       "2021-10-01  99HT  DWF  DL  EL  EMA  EMF  EMM  EMT  GRG  GHC  MD  SV  ST  DW   \n",
       "2021-11-01  99HT  DWF  DL  EL  EMA  EMF  EMM  EMT  GRG  GHC  MD  SV  ST  DW   \n",
       "2021-12-01  99HT  DWF  DL  EL  EMA  EMF  EMM  EMT  GRG  GHC  MD  SV  DW  TT   \n",
       "2022-01-01  99HT  DWF  DL  EL  EMA  EMF  EMM  EMT  GRG  GHC  MD  SV  DW  TT   \n",
       "2022-02-01  99HT  DWF  DL  EL  EMA  EMF  EMM  EMT  GRG  GHC  MD  SV  ST  DW   \n",
       "\n",
       "            14   15  \n",
       "2021-09-01  TT   VS  \n",
       "2021-10-01  TT   VS  \n",
       "2021-11-01  TT   VS  \n",
       "2021-12-01  VS  NaN  \n",
       "2022-01-01  VS  NaN  \n",
       "2022-02-01  TT   VS  "
      ]
     },
     "execution_count": 317,
     "metadata": {},
     "output_type": "execute_result"
    }
   ],
   "source": [
    "pd.DataFrame(dict([ (k,pd.Series(v)) for k,v in q.items() ])).T"
   ]
  },
  {
   "cell_type": "code",
   "execution_count": 318,
   "id": "ed0ab353",
   "metadata": {},
   "outputs": [
    {
     "data": {
      "text/html": [
       "<div>\n",
       "<style scoped>\n",
       "    .dataframe tbody tr th:only-of-type {\n",
       "        vertical-align: middle;\n",
       "    }\n",
       "\n",
       "    .dataframe tbody tr th {\n",
       "        vertical-align: top;\n",
       "    }\n",
       "\n",
       "    .dataframe thead th {\n",
       "        text-align: right;\n",
       "    }\n",
       "</style>\n",
       "<table border=\"1\" class=\"dataframe\">\n",
       "  <thead>\n",
       "    <tr style=\"text-align: right;\">\n",
       "      <th></th>\n",
       "      <th>0</th>\n",
       "    </tr>\n",
       "  </thead>\n",
       "  <tbody>\n",
       "    <tr>\n",
       "      <th>2021-09-01</th>\n",
       "      <td>NaN</td>\n",
       "    </tr>\n",
       "    <tr>\n",
       "      <th>2021-10-01</th>\n",
       "      <td>NaN</td>\n",
       "    </tr>\n",
       "    <tr>\n",
       "      <th>2021-11-01</th>\n",
       "      <td>NaN</td>\n",
       "    </tr>\n",
       "    <tr>\n",
       "      <th>2021-12-01</th>\n",
       "      <td>ST</td>\n",
       "    </tr>\n",
       "    <tr>\n",
       "      <th>2022-01-01</th>\n",
       "      <td>ST</td>\n",
       "    </tr>\n",
       "    <tr>\n",
       "      <th>2022-02-01</th>\n",
       "      <td>NaN</td>\n",
       "    </tr>\n",
       "  </tbody>\n",
       "</table>\n",
       "</div>"
      ],
      "text/plain": [
       "              0\n",
       "2021-09-01  NaN\n",
       "2021-10-01  NaN\n",
       "2021-11-01  NaN\n",
       "2021-12-01   ST\n",
       "2022-01-01   ST\n",
       "2022-02-01  NaN"
      ]
     },
     "execution_count": 318,
     "metadata": {},
     "output_type": "execute_result"
    }
   ],
   "source": [
    "pd.DataFrame(dict([ (k,pd.Series(v)) for k,v in nq.items() ])).T"
   ]
  },
  {
   "cell_type": "code",
   "execution_count": 319,
   "id": "cc4e70a8",
   "metadata": {},
   "outputs": [
    {
     "data": {
      "text/html": [
       "<div>\n",
       "<style scoped>\n",
       "    .dataframe tbody tr th:only-of-type {\n",
       "        vertical-align: middle;\n",
       "    }\n",
       "\n",
       "    .dataframe tbody tr th {\n",
       "        vertical-align: top;\n",
       "    }\n",
       "\n",
       "    .dataframe thead th {\n",
       "        text-align: right;\n",
       "    }\n",
       "</style>\n",
       "<table border=\"1\" class=\"dataframe\">\n",
       "  <thead>\n",
       "    <tr style=\"text-align: right;\">\n",
       "      <th></th>\n",
       "      <th>0</th>\n",
       "      <th>1</th>\n",
       "      <th>2</th>\n",
       "      <th>3</th>\n",
       "      <th>4</th>\n",
       "      <th>5</th>\n",
       "      <th>6</th>\n",
       "      <th>7</th>\n",
       "      <th>8</th>\n",
       "      <th>9</th>\n",
       "      <th>10</th>\n",
       "      <th>11</th>\n",
       "      <th>12</th>\n",
       "      <th>13</th>\n",
       "      <th>14</th>\n",
       "    </tr>\n",
       "  </thead>\n",
       "  <tbody>\n",
       "    <tr>\n",
       "      <th>2021-09-01</th>\n",
       "      <td>99HT</td>\n",
       "      <td>DWF</td>\n",
       "      <td>DL</td>\n",
       "      <td>EL</td>\n",
       "      <td>EMA</td>\n",
       "      <td>EMF</td>\n",
       "      <td>EMM</td>\n",
       "      <td>EMT</td>\n",
       "      <td>GRG</td>\n",
       "      <td>GHC</td>\n",
       "      <td>MD</td>\n",
       "      <td>SV</td>\n",
       "      <td>DW</td>\n",
       "      <td>TT</td>\n",
       "      <td>VS</td>\n",
       "    </tr>\n",
       "    <tr>\n",
       "      <th>2021-10-01</th>\n",
       "      <td>99HT</td>\n",
       "      <td>DWF</td>\n",
       "      <td>DL</td>\n",
       "      <td>EL</td>\n",
       "      <td>EMA</td>\n",
       "      <td>EMF</td>\n",
       "      <td>EMM</td>\n",
       "      <td>EMT</td>\n",
       "      <td>GRG</td>\n",
       "      <td>GHC</td>\n",
       "      <td>MD</td>\n",
       "      <td>SV</td>\n",
       "      <td>DW</td>\n",
       "      <td>TT</td>\n",
       "      <td>VS</td>\n",
       "    </tr>\n",
       "    <tr>\n",
       "      <th>2021-11-01</th>\n",
       "      <td>99HT</td>\n",
       "      <td>DWF</td>\n",
       "      <td>DL</td>\n",
       "      <td>EMA</td>\n",
       "      <td>EMF</td>\n",
       "      <td>EMM</td>\n",
       "      <td>EMT</td>\n",
       "      <td>GRG</td>\n",
       "      <td>GHC</td>\n",
       "      <td>MD</td>\n",
       "      <td>SV</td>\n",
       "      <td>DW</td>\n",
       "      <td>TT</td>\n",
       "      <td>VS</td>\n",
       "      <td>NaN</td>\n",
       "    </tr>\n",
       "    <tr>\n",
       "      <th>2021-12-01</th>\n",
       "      <td>99HT</td>\n",
       "      <td>DWF</td>\n",
       "      <td>DL</td>\n",
       "      <td>EMA</td>\n",
       "      <td>EMF</td>\n",
       "      <td>EMM</td>\n",
       "      <td>EMT</td>\n",
       "      <td>GRG</td>\n",
       "      <td>GHC</td>\n",
       "      <td>MD</td>\n",
       "      <td>SV</td>\n",
       "      <td>DW</td>\n",
       "      <td>TT</td>\n",
       "      <td>VS</td>\n",
       "      <td>NaN</td>\n",
       "    </tr>\n",
       "    <tr>\n",
       "      <th>2022-01-01</th>\n",
       "      <td>99HT</td>\n",
       "      <td>DWF</td>\n",
       "      <td>DL</td>\n",
       "      <td>EL</td>\n",
       "      <td>EMA</td>\n",
       "      <td>EMF</td>\n",
       "      <td>EMM</td>\n",
       "      <td>EMT</td>\n",
       "      <td>GRG</td>\n",
       "      <td>GHC</td>\n",
       "      <td>MD</td>\n",
       "      <td>SV</td>\n",
       "      <td>DW</td>\n",
       "      <td>TT</td>\n",
       "      <td>VS</td>\n",
       "    </tr>\n",
       "    <tr>\n",
       "      <th>2022-02-01</th>\n",
       "      <td>99HT</td>\n",
       "      <td>DWF</td>\n",
       "      <td>DL</td>\n",
       "      <td>EL</td>\n",
       "      <td>EMA</td>\n",
       "      <td>EMF</td>\n",
       "      <td>EMM</td>\n",
       "      <td>EMT</td>\n",
       "      <td>GRG</td>\n",
       "      <td>GHC</td>\n",
       "      <td>MD</td>\n",
       "      <td>SV</td>\n",
       "      <td>DW</td>\n",
       "      <td>TT</td>\n",
       "      <td>VS</td>\n",
       "    </tr>\n",
       "  </tbody>\n",
       "</table>\n",
       "</div>"
      ],
      "text/plain": [
       "              0    1   2    3    4    5    6    7    8    9   10  11  12  13  \\\n",
       "2021-09-01  99HT  DWF  DL   EL  EMA  EMF  EMM  EMT  GRG  GHC  MD  SV  DW  TT   \n",
       "2021-10-01  99HT  DWF  DL   EL  EMA  EMF  EMM  EMT  GRG  GHC  MD  SV  DW  TT   \n",
       "2021-11-01  99HT  DWF  DL  EMA  EMF  EMM  EMT  GRG  GHC   MD  SV  DW  TT  VS   \n",
       "2021-12-01  99HT  DWF  DL  EMA  EMF  EMM  EMT  GRG  GHC   MD  SV  DW  TT  VS   \n",
       "2022-01-01  99HT  DWF  DL   EL  EMA  EMF  EMM  EMT  GRG  GHC  MD  SV  DW  TT   \n",
       "2022-02-01  99HT  DWF  DL   EL  EMA  EMF  EMM  EMT  GRG  GHC  MD  SV  DW  TT   \n",
       "\n",
       "             14  \n",
       "2021-09-01   VS  \n",
       "2021-10-01   VS  \n",
       "2021-11-01  NaN  \n",
       "2021-12-01  NaN  \n",
       "2022-01-01   VS  \n",
       "2022-02-01   VS  "
      ]
     },
     "execution_count": 319,
     "metadata": {},
     "output_type": "execute_result"
    }
   ],
   "source": [
    "pd.DataFrame(dict([ (k,pd.Series(v)) for k,v in new_q.items() ])).T"
   ]
  },
  {
   "cell_type": "code",
   "execution_count": 320,
   "id": "6f07621a",
   "metadata": {},
   "outputs": [
    {
     "data": {
      "text/html": [
       "<div>\n",
       "<style scoped>\n",
       "    .dataframe tbody tr th:only-of-type {\n",
       "        vertical-align: middle;\n",
       "    }\n",
       "\n",
       "    .dataframe tbody tr th {\n",
       "        vertical-align: top;\n",
       "    }\n",
       "\n",
       "    .dataframe thead th {\n",
       "        text-align: right;\n",
       "    }\n",
       "</style>\n",
       "<table border=\"1\" class=\"dataframe\">\n",
       "  <thead>\n",
       "    <tr style=\"text-align: right;\">\n",
       "      <th></th>\n",
       "      <th>0</th>\n",
       "      <th>1</th>\n",
       "    </tr>\n",
       "  </thead>\n",
       "  <tbody>\n",
       "    <tr>\n",
       "      <th>2021-09-01</th>\n",
       "      <td>ST</td>\n",
       "      <td>NaN</td>\n",
       "    </tr>\n",
       "    <tr>\n",
       "      <th>2021-10-01</th>\n",
       "      <td>ST</td>\n",
       "      <td>NaN</td>\n",
       "    </tr>\n",
       "    <tr>\n",
       "      <th>2021-11-01</th>\n",
       "      <td>EL</td>\n",
       "      <td>ST</td>\n",
       "    </tr>\n",
       "    <tr>\n",
       "      <th>2021-12-01</th>\n",
       "      <td>EL</td>\n",
       "      <td>ST</td>\n",
       "    </tr>\n",
       "    <tr>\n",
       "      <th>2022-01-01</th>\n",
       "      <td>ST</td>\n",
       "      <td>NaN</td>\n",
       "    </tr>\n",
       "    <tr>\n",
       "      <th>2022-02-01</th>\n",
       "      <td>ST</td>\n",
       "      <td>NaN</td>\n",
       "    </tr>\n",
       "  </tbody>\n",
       "</table>\n",
       "</div>"
      ],
      "text/plain": [
       "             0    1\n",
       "2021-09-01  ST  NaN\n",
       "2021-10-01  ST  NaN\n",
       "2021-11-01  EL   ST\n",
       "2021-12-01  EL   ST\n",
       "2022-01-01  ST  NaN\n",
       "2022-02-01  ST  NaN"
      ]
     },
     "execution_count": 320,
     "metadata": {},
     "output_type": "execute_result"
    }
   ],
   "source": [
    "pd.DataFrame(dict([ (k,pd.Series(v)) for k,v in new_nq.items() ])).T"
   ]
  },
  {
   "cell_type": "code",
   "execution_count": 227,
   "id": "b05bd7bf",
   "metadata": {},
   "outputs": [
    {
     "data": {
      "text/html": [
       "<div>\n",
       "<style scoped>\n",
       "    .dataframe tbody tr th:only-of-type {\n",
       "        vertical-align: middle;\n",
       "    }\n",
       "\n",
       "    .dataframe tbody tr th {\n",
       "        vertical-align: top;\n",
       "    }\n",
       "\n",
       "    .dataframe thead th {\n",
       "        text-align: right;\n",
       "    }\n",
       "</style>\n",
       "<table border=\"1\" class=\"dataframe\">\n",
       "  <thead>\n",
       "    <tr style=\"text-align: right;\">\n",
       "      <th></th>\n",
       "      <th>year_month</th>\n",
       "      <th>churn_orig</th>\n",
       "      <th>company</th>\n",
       "      <th>location</th>\n",
       "      <th>company_identifier</th>\n",
       "      <th>state</th>\n",
       "      <th>churn_new</th>\n",
       "      <th>new-old</th>\n",
       "    </tr>\n",
       "  </thead>\n",
       "  <tbody>\n",
       "    <tr>\n",
       "      <th>5</th>\n",
       "      <td>2022-02-01</td>\n",
       "      <td>0.189616</td>\n",
       "      <td>99HT</td>\n",
       "      <td>C10-0000279-LIC</td>\n",
       "      <td>99HT</td>\n",
       "      <td>CA</td>\n",
       "      <td>0.295449</td>\n",
       "      <td>0.105833</td>\n",
       "    </tr>\n",
       "    <tr>\n",
       "      <th>131</th>\n",
       "      <td>2022-02-01</td>\n",
       "      <td>0.130169</td>\n",
       "      <td>DWF</td>\n",
       "      <td>402R-00804</td>\n",
       "      <td>DWF</td>\n",
       "      <td>CO</td>\n",
       "      <td>0.202634</td>\n",
       "      <td>0.072465</td>\n",
       "    </tr>\n",
       "    <tr>\n",
       "      <th>149</th>\n",
       "      <td>2022-02-01</td>\n",
       "      <td>0.043769</td>\n",
       "      <td>DL</td>\n",
       "      <td>MR283369</td>\n",
       "      <td>DL</td>\n",
       "      <td>MA</td>\n",
       "      <td>0.111753</td>\n",
       "      <td>0.067984</td>\n",
       "    </tr>\n",
       "    <tr>\n",
       "      <th>197</th>\n",
       "      <td>2022-02-01</td>\n",
       "      <td>0.185062</td>\n",
       "      <td>EL</td>\n",
       "      <td>C9-0000370-LIC</td>\n",
       "      <td>EL</td>\n",
       "      <td>CA</td>\n",
       "      <td>0.324651</td>\n",
       "      <td>0.139589</td>\n",
       "    </tr>\n",
       "    <tr>\n",
       "      <th>203</th>\n",
       "      <td>2022-02-01</td>\n",
       "      <td>0.156166</td>\n",
       "      <td>EMA</td>\n",
       "      <td>C10-0000774-LIC</td>\n",
       "      <td>EMA</td>\n",
       "      <td>CA</td>\n",
       "      <td>0.238581</td>\n",
       "      <td>0.082415</td>\n",
       "    </tr>\n",
       "    <tr>\n",
       "      <th>209</th>\n",
       "      <td>2022-02-01</td>\n",
       "      <td>0.000000</td>\n",
       "      <td>EMF</td>\n",
       "      <td>C10-0000939-LIC</td>\n",
       "      <td>EMF</td>\n",
       "      <td>CA</td>\n",
       "      <td>0.000000</td>\n",
       "      <td>0.000000</td>\n",
       "    </tr>\n",
       "    <tr>\n",
       "      <th>215</th>\n",
       "      <td>2022-02-01</td>\n",
       "      <td>0.179660</td>\n",
       "      <td>EMM</td>\n",
       "      <td>C10-0000786-LIC</td>\n",
       "      <td>EMM</td>\n",
       "      <td>CA</td>\n",
       "      <td>0.340594</td>\n",
       "      <td>0.160934</td>\n",
       "    </tr>\n",
       "    <tr>\n",
       "      <th>221</th>\n",
       "      <td>2022-02-01</td>\n",
       "      <td>0.284150</td>\n",
       "      <td>EMT</td>\n",
       "      <td>C10-0000695-LIC</td>\n",
       "      <td>EMT</td>\n",
       "      <td>CA</td>\n",
       "      <td>0.212080</td>\n",
       "      <td>-0.072070</td>\n",
       "    </tr>\n",
       "    <tr>\n",
       "      <th>311</th>\n",
       "      <td>2022-02-01</td>\n",
       "      <td>0.290933</td>\n",
       "      <td>GRG</td>\n",
       "      <td>C10-0000169-LIC</td>\n",
       "      <td>GRG</td>\n",
       "      <td>CA</td>\n",
       "      <td>0.227998</td>\n",
       "      <td>-0.062935</td>\n",
       "    </tr>\n",
       "    <tr>\n",
       "      <th>317</th>\n",
       "      <td>2022-02-01</td>\n",
       "      <td>0.001028</td>\n",
       "      <td>GRG</td>\n",
       "      <td>C10-0000408-LIC</td>\n",
       "      <td>GRG</td>\n",
       "      <td>CA</td>\n",
       "      <td>0.006903</td>\n",
       "      <td>0.005875</td>\n",
       "    </tr>\n",
       "    <tr>\n",
       "      <th>335</th>\n",
       "      <td>2022-02-01</td>\n",
       "      <td>0.128248</td>\n",
       "      <td>GHC</td>\n",
       "      <td>C10-0000414-LIC</td>\n",
       "      <td>GHC</td>\n",
       "      <td>CA</td>\n",
       "      <td>0.215757</td>\n",
       "      <td>0.087508</td>\n",
       "    </tr>\n",
       "    <tr>\n",
       "      <th>509</th>\n",
       "      <td>2022-02-01</td>\n",
       "      <td>0.235862</td>\n",
       "      <td>MD</td>\n",
       "      <td>C9-0000247-LIC</td>\n",
       "      <td>MD</td>\n",
       "      <td>CA</td>\n",
       "      <td>0.216231</td>\n",
       "      <td>-0.019632</td>\n",
       "    </tr>\n",
       "    <tr>\n",
       "      <th>659</th>\n",
       "      <td>2022-02-01</td>\n",
       "      <td>0.287695</td>\n",
       "      <td>SV</td>\n",
       "      <td>C9-0000146-LIC</td>\n",
       "      <td>SV</td>\n",
       "      <td>CA</td>\n",
       "      <td>0.316001</td>\n",
       "      <td>0.028306</td>\n",
       "    </tr>\n",
       "    <tr>\n",
       "      <th>689</th>\n",
       "      <td>2022-02-01</td>\n",
       "      <td>0.446170</td>\n",
       "      <td>ST</td>\n",
       "      <td>C9-0000323-LIC</td>\n",
       "      <td>ST</td>\n",
       "      <td>CA</td>\n",
       "      <td>0.524251</td>\n",
       "      <td>0.078081</td>\n",
       "    </tr>\n",
       "    <tr>\n",
       "      <th>695</th>\n",
       "      <td>2022-02-01</td>\n",
       "      <td>0.057922</td>\n",
       "      <td>DW</td>\n",
       "      <td>MR282376</td>\n",
       "      <td>DW</td>\n",
       "      <td>MA</td>\n",
       "      <td>0.216721</td>\n",
       "      <td>0.158799</td>\n",
       "    </tr>\n",
       "    <tr>\n",
       "      <th>725</th>\n",
       "      <td>2022-02-01</td>\n",
       "      <td>0.002306</td>\n",
       "      <td>TT</td>\n",
       "      <td>C9-0000451-LIC</td>\n",
       "      <td>TT</td>\n",
       "      <td>CA</td>\n",
       "      <td>0.048814</td>\n",
       "      <td>0.046509</td>\n",
       "    </tr>\n",
       "    <tr>\n",
       "      <th>869</th>\n",
       "      <td>2022-02-01</td>\n",
       "      <td>0.223414</td>\n",
       "      <td>VS</td>\n",
       "      <td>402-00840</td>\n",
       "      <td>VS</td>\n",
       "      <td>CO</td>\n",
       "      <td>0.100056</td>\n",
       "      <td>-0.123358</td>\n",
       "    </tr>\n",
       "    <tr>\n",
       "      <th>875</th>\n",
       "      <td>2022-02-01</td>\n",
       "      <td>0.248180</td>\n",
       "      <td>VS</td>\n",
       "      <td>402R-00545</td>\n",
       "      <td>VS</td>\n",
       "      <td>CO</td>\n",
       "      <td>0.131578</td>\n",
       "      <td>-0.116602</td>\n",
       "    </tr>\n",
       "  </tbody>\n",
       "</table>\n",
       "</div>"
      ],
      "text/plain": [
       "    year_month  churn_orig company         location company_identifier state  \\\n",
       "5   2022-02-01    0.189616    99HT  C10-0000279-LIC               99HT    CA   \n",
       "131 2022-02-01    0.130169     DWF       402R-00804                DWF    CO   \n",
       "149 2022-02-01    0.043769      DL         MR283369                 DL    MA   \n",
       "197 2022-02-01    0.185062      EL   C9-0000370-LIC                 EL    CA   \n",
       "203 2022-02-01    0.156166     EMA  C10-0000774-LIC                EMA    CA   \n",
       "209 2022-02-01    0.000000     EMF  C10-0000939-LIC                EMF    CA   \n",
       "215 2022-02-01    0.179660     EMM  C10-0000786-LIC                EMM    CA   \n",
       "221 2022-02-01    0.284150     EMT  C10-0000695-LIC                EMT    CA   \n",
       "311 2022-02-01    0.290933     GRG  C10-0000169-LIC                GRG    CA   \n",
       "317 2022-02-01    0.001028     GRG  C10-0000408-LIC                GRG    CA   \n",
       "335 2022-02-01    0.128248     GHC  C10-0000414-LIC                GHC    CA   \n",
       "509 2022-02-01    0.235862      MD   C9-0000247-LIC                 MD    CA   \n",
       "659 2022-02-01    0.287695      SV   C9-0000146-LIC                 SV    CA   \n",
       "689 2022-02-01    0.446170      ST   C9-0000323-LIC                 ST    CA   \n",
       "695 2022-02-01    0.057922      DW         MR282376                 DW    MA   \n",
       "725 2022-02-01    0.002306      TT   C9-0000451-LIC                 TT    CA   \n",
       "869 2022-02-01    0.223414      VS        402-00840                 VS    CO   \n",
       "875 2022-02-01    0.248180      VS       402R-00545                 VS    CO   \n",
       "\n",
       "     churn_new   new-old  \n",
       "5     0.295449  0.105833  \n",
       "131   0.202634  0.072465  \n",
       "149   0.111753  0.067984  \n",
       "197   0.324651  0.139589  \n",
       "203   0.238581  0.082415  \n",
       "209   0.000000  0.000000  \n",
       "215   0.340594  0.160934  \n",
       "221   0.212080 -0.072070  \n",
       "311   0.227998 -0.062935  \n",
       "317   0.006903  0.005875  \n",
       "335   0.215757  0.087508  \n",
       "509   0.216231 -0.019632  \n",
       "659   0.316001  0.028306  \n",
       "689   0.524251  0.078081  \n",
       "695   0.216721  0.158799  \n",
       "725   0.048814  0.046509  \n",
       "869   0.100056 -0.123358  \n",
       "875   0.131578 -0.116602  "
      ]
     },
     "execution_count": 227,
     "metadata": {},
     "output_type": "execute_result"
    }
   ],
   "source": [
    "churn_joined_client_feb"
   ]
  },
  {
   "cell_type": "code",
   "execution_count": null,
   "id": "983e9f08",
   "metadata": {},
   "outputs": [],
   "source": []
  }
 ],
 "metadata": {
  "kernelspec": {
   "display_name": "Python 3",
   "language": "python",
   "name": "python3"
  },
  "language_info": {
   "codemirror_mode": {
    "name": "ipython",
    "version": 3
   },
   "file_extension": ".py",
   "mimetype": "text/x-python",
   "name": "python",
   "nbconvert_exporter": "python",
   "pygments_lexer": "ipython3",
   "version": "3.8.10"
  }
 },
 "nbformat": 4,
 "nbformat_minor": 5
}
