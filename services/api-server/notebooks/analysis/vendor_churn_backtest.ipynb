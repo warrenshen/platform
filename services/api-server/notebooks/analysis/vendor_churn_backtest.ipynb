{
 "cells": [
  {
   "cell_type": "code",
   "execution_count": 1,
   "id": "37bdd7c3",
   "metadata": {},
   "outputs": [],
   "source": [
    "import warnings\n",
    "warnings.filterwarnings('ignore')"
   ]
  },
  {
   "cell_type": "code",
   "execution_count": 2,
   "id": "11564057",
   "metadata": {},
   "outputs": [],
   "source": [
    "import json\n",
    "import numpy \n",
    "import os\n",
    "import pandas as pd\n",
    "import matplotlib.pyplot as plt\n",
    "%matplotlib inline  \n",
    "import pyarrow\n",
    "import sys\n",
    "import seaborn as sns\n",
    "from tqdm import tqdm\n",
    "\n",
    "from datetime import date\n",
    "from dotenv import load_dotenv\n",
    "from sqlalchemy import create_engine\n",
    "from os import path\n",
    "from typing import List,Dict, Tuple\n",
    "from collections import defaultdict\n",
    "pd.set_option(\"display.max_columns\", None)\n",
    "\n",
    "load_dotenv(verbose=True)\n",
    "BIGQUERY_CREDENTIALS_PATH = os.environ.get('BIGQUERY_CREDENTIALS_PATH')\n",
    "engine = create_engine('bigquery://bespoke-financial/ProdMetrcData', credentials_path=os.path.expanduser(BIGQUERY_CREDENTIALS_PATH))\n",
    "\n",
    "sys.path.append(path.realpath(path.join(os.getcwd(), \"../core\")))\n",
    "sys.path.append(path.realpath(path.join(os.getcwd(), \"../../src\")))\n",
    "sys.path.append(path.realpath(path.join(os.getcwd(), \"../../scripts\")))\n",
    "\n",
    "import create_queries\n",
    "import prepare_data\n",
    "\n",
    "from bespoke.inventory.analysis.shared import download_util, inventory_types\n",
    "from bespoke.inventory.analysis import active_inventory_util as util\n",
    "from bespoke.inventory.analysis import inventory_valuations_util as valuations_util\n",
    "\n",
    "%load_ext autoreload\n",
    "%autoreload 2"
   ]
  },
  {
   "cell_type": "code",
   "execution_count": 3,
   "id": "e4775b82",
   "metadata": {},
   "outputs": [],
   "source": [
    "from underwriting import data_quality_checks"
   ]
  },
  {
   "cell_type": "code",
   "execution_count": 4,
   "id": "f5c6a7fd",
   "metadata": {},
   "outputs": [],
   "source": [
    "TRANSFER_PACKAGES_START_DATE = '2020-01-01'\n",
    "SALES_TRANSACTIONS_START_DATE = '2020-01-01'"
   ]
  },
  {
   "cell_type": "code",
   "execution_count": 5,
   "id": "833eb4ca",
   "metadata": {},
   "outputs": [],
   "source": [
    "company_df = pd.read_csv('all_retailer_company.csv',index_col = 0)\n",
    "company_df.columns = ['company_name','company_identifier','state','licenses']\n",
    "company_df['company_identifier'] = company_df['company_identifier'].astype(str)"
   ]
  },
  {
   "cell_type": "code",
   "execution_count": 6,
   "id": "d30959d7",
   "metadata": {},
   "outputs": [
    {
     "data": {
      "text/plain": [
       "(66, 4)"
      ]
     },
     "execution_count": 6,
     "metadata": {},
     "output_type": "execute_result"
    }
   ],
   "source": [
    "company_df_clean = company_df[~company_df['company_identifier'].isin(['PL','WHT','GF','UR'])]\n",
    "company_df.shape"
   ]
  },
  {
   "cell_type": "code",
   "execution_count": 7,
   "id": "f1c97315",
   "metadata": {},
   "outputs": [
    {
     "data": {
      "text/plain": [
       "66"
      ]
     },
     "execution_count": 7,
     "metadata": {},
     "output_type": "execute_result"
    }
   ],
   "source": [
    "len(company_df['company_identifier'].unique())"
   ]
  },
  {
   "cell_type": "code",
   "execution_count": 8,
   "id": "152e0e62",
   "metadata": {},
   "outputs": [
    {
     "data": {
      "text/html": [
       "<div>\n",
       "<style scoped>\n",
       "    .dataframe tbody tr th:only-of-type {\n",
       "        vertical-align: middle;\n",
       "    }\n",
       "\n",
       "    .dataframe tbody tr th {\n",
       "        vertical-align: top;\n",
       "    }\n",
       "\n",
       "    .dataframe thead th {\n",
       "        text-align: right;\n",
       "    }\n",
       "</style>\n",
       "<table border=\"1\" class=\"dataframe\">\n",
       "  <thead>\n",
       "    <tr style=\"text-align: right;\">\n",
       "      <th></th>\n",
       "      <th>company_name</th>\n",
       "      <th>company_identifier</th>\n",
       "      <th>state</th>\n",
       "      <th>licenses</th>\n",
       "    </tr>\n",
       "  </thead>\n",
       "  <tbody>\n",
       "    <tr>\n",
       "      <th>0</th>\n",
       "      <td>99 High Tide</td>\n",
       "      <td>99HT</td>\n",
       "      <td>CA</td>\n",
       "      <td>C10-0000279-LIC</td>\n",
       "    </tr>\n",
       "    <tr>\n",
       "      <th>1</th>\n",
       "      <td>Altum LLC</td>\n",
       "      <td>ALT</td>\n",
       "      <td>MI</td>\n",
       "      <td>PC-000310;AU-R-000380</td>\n",
       "    </tr>\n",
       "    <tr>\n",
       "      <th>2</th>\n",
       "      <td>Bella Sol</td>\n",
       "      <td>BS</td>\n",
       "      <td>MI</td>\n",
       "      <td>PC-000185;AU-R-000156</td>\n",
       "    </tr>\n",
       "    <tr>\n",
       "      <th>3</th>\n",
       "      <td>Big Medicine Cannabissary</td>\n",
       "      <td>BMC</td>\n",
       "      <td>CO</td>\n",
       "      <td>402-00930</td>\n",
       "    </tr>\n",
       "    <tr>\n",
       "      <th>4</th>\n",
       "      <td>Boston Bud Factory</td>\n",
       "      <td>BBF</td>\n",
       "      <td>MA</td>\n",
       "      <td>MR281525</td>\n",
       "    </tr>\n",
       "    <tr>\n",
       "      <th>...</th>\n",
       "      <td>...</td>\n",
       "      <td>...</td>\n",
       "      <td>...</td>\n",
       "      <td>...</td>\n",
       "    </tr>\n",
       "    <tr>\n",
       "      <th>61</th>\n",
       "      <td>Universal Herbal Health Center</td>\n",
       "      <td>UHHC</td>\n",
       "      <td>CA</td>\n",
       "      <td>C10-0000817-LIC;C9-0000082-LIC</td>\n",
       "    </tr>\n",
       "    <tr>\n",
       "      <th>62</th>\n",
       "      <td>Uprooted (San Ysidro)</td>\n",
       "      <td>UR</td>\n",
       "      <td>CA</td>\n",
       "      <td>C10-0000731-LIC;C10-0000776-LIC;C10-0000246-LI...</td>\n",
       "    </tr>\n",
       "    <tr>\n",
       "      <th>63</th>\n",
       "      <td>Verts</td>\n",
       "      <td>VS</td>\n",
       "      <td>CO</td>\n",
       "      <td>402-00840;402R-00545</td>\n",
       "    </tr>\n",
       "    <tr>\n",
       "      <th>64</th>\n",
       "      <td>Voyage</td>\n",
       "      <td>VOY</td>\n",
       "      <td>CA</td>\n",
       "      <td>C12-0000030-LIC;C10-0000802-LIC;C12-0000159-LIC</td>\n",
       "    </tr>\n",
       "    <tr>\n",
       "      <th>65</th>\n",
       "      <td>Welcome The Healing Touch</td>\n",
       "      <td>WHT</td>\n",
       "      <td>CA</td>\n",
       "      <td>C10-0000548-LIC</td>\n",
       "    </tr>\n",
       "  </tbody>\n",
       "</table>\n",
       "<p>66 rows × 4 columns</p>\n",
       "</div>"
      ],
      "text/plain": [
       "                      company_name company_identifier state  \\\n",
       "0                     99 High Tide               99HT    CA   \n",
       "1                        Altum LLC                ALT    MI   \n",
       "2                        Bella Sol                 BS    MI   \n",
       "3        Big Medicine Cannabissary                BMC    CO   \n",
       "4               Boston Bud Factory                BBF    MA   \n",
       "..                             ...                ...   ...   \n",
       "61  Universal Herbal Health Center               UHHC    CA   \n",
       "62           Uprooted (San Ysidro)                 UR    CA   \n",
       "63                           Verts                 VS    CO   \n",
       "64                          Voyage                VOY    CA   \n",
       "65       Welcome The Healing Touch                WHT    CA   \n",
       "\n",
       "                                             licenses  \n",
       "0                                     C10-0000279-LIC  \n",
       "1                               PC-000310;AU-R-000380  \n",
       "2                               PC-000185;AU-R-000156  \n",
       "3                                           402-00930  \n",
       "4                                            MR281525  \n",
       "..                                                ...  \n",
       "61                     C10-0000817-LIC;C9-0000082-LIC  \n",
       "62  C10-0000731-LIC;C10-0000776-LIC;C10-0000246-LI...  \n",
       "63                               402-00840;402R-00545  \n",
       "64    C12-0000030-LIC;C10-0000802-LIC;C12-0000159-LIC  \n",
       "65                                    C10-0000548-LIC  \n",
       "\n",
       "[66 rows x 4 columns]"
      ]
     },
     "execution_count": 8,
     "metadata": {},
     "output_type": "execute_result"
    }
   ],
   "source": [
    "company_df"
   ]
  },
  {
   "cell_type": "code",
   "execution_count": 9,
   "id": "ac0eecf9",
   "metadata": {},
   "outputs": [],
   "source": [
    "company_df['lic_list'] = [list(company_df['licenses'])[i].split(\";\") for i in range(len(company_df))]"
   ]
  },
  {
   "cell_type": "code",
   "execution_count": 10,
   "id": "e6b02dd5",
   "metadata": {},
   "outputs": [
    {
     "data": {
      "text/plain": [
       "66"
      ]
     },
     "execution_count": 10,
     "metadata": {},
     "output_type": "execute_result"
    }
   ],
   "source": [
    "len(company_df['company_identifier'].unique())"
   ]
  },
  {
   "cell_type": "markdown",
   "id": "32961bef",
   "metadata": {},
   "source": [
    "# vc"
   ]
  },
  {
   "cell_type": "code",
   "execution_count": 11,
   "id": "3b736ae5",
   "metadata": {},
   "outputs": [],
   "source": [
    "# as of data of 3/2022\n",
    "VC_START_DATE = '2020-01-01'\n",
    "VC_END_DATE = '2022-04-01'\n",
    "VC_MONTH_LIST = ['2021-12-01','2022-01-01','2022-02-01','2022-03-01']\n",
    "VC_MONTH_END = VC_MONTH_LIST[-1]"
   ]
  },
  {
   "cell_type": "code",
   "execution_count": 12,
   "id": "05d75902",
   "metadata": {},
   "outputs": [],
   "source": [
    "def calculate_vendor_churn(incoming_transfer_df,license_list,vc_start_date,vc_end_date,vc_month_list,vc_month_end):\n",
    "    df_vendor_churn = incoming_transfer_df[incoming_transfer_df['license_number'].isin(license_list)]\n",
    "    df_vendor_churn['year_month'] = pd.to_datetime(df_vendor_churn['created_date']).dt.strftime(\"%Y-%m\")\n",
    "    vc = df_vendor_churn[['year_month','shipper_facility_name','shipper_wholesale_price']].groupby(['year_month','shipper_facility_name']).sum().reset_index()\n",
    "    vc= vc.assign(year_month=lambda df:pd.to_datetime(df['year_month']))\n",
    "\n",
    "    vc_full = (\n",
    "        vc\n",
    "        .groupby('shipper_facility_name').apply(\n",
    "            lambda df: df.merge(\n",
    "            pd.Series(\n",
    "                None, \n",
    "                index = pd.date_range(start = vc_start_date, end = vc_end_date, freq = 'MS'), \n",
    "                name='__place_holder'\n",
    "            ), \n",
    "            how ='right',\n",
    "            left_on = 'year_month', \n",
    "            right_index=True,\n",
    "        ).assign(\n",
    "            **{\n",
    "                \"shipper_facility_name\": lambda df_: df_.shipper_facility_name.dropna().unique()[0],\n",
    "                \"shipper_wholesale_price\": lambda df_: df_.shipper_wholesale_price.fillna(0),\n",
    "            }\n",
    "        )\n",
    "        .drop('__place_holder', axis=1)\n",
    "        )\n",
    "    ).reset_index(drop=True)\n",
    "    #vc_full[vc_full['shipper_wholesale_price'] < 100]['shipper_wholesale_price'] = 0\n",
    "    \n",
    "    indices = vc_full[vc_full['shipper_wholesale_price'] < 100].index.to_list()\n",
    "    vc_full.loc[indices,'shipper_wholesale_price'] = 0\n",
    "    \n",
    "    \n",
    "    \n",
    "    rolling_4m_sum =  vc_full.groupby('shipper_facility_name').apply(\n",
    "    lambda df: df.set_index('year_month').sort_index().rolling(4).sum()\n",
    "    )\n",
    "    rolling_4m_sum.columns = ['rolling_4m_total_price']\n",
    "    facility_monthly_running_total = vc_full.groupby('shipper_facility_name').apply(\n",
    "        lambda df: df.set_index('year_month').sort_index()['shipper_wholesale_price'].cumsum().to_frame()\n",
    "    )\n",
    "    facility_monthly_running_total.columns = ['facility_running_total']\n",
    "    monthly_running_total = facility_monthly_running_total.reset_index().groupby('year_month')['facility_running_total'].sum().to_frame()\n",
    "    monthly_running_total.columns = ['monthly_running_total']\n",
    "\n",
    "    vc_result = rolling_4m_sum.merge(\n",
    "        facility_monthly_running_total,\n",
    "        how='inner',\n",
    "        left_index=True,\n",
    "        right_index=True\n",
    "    ).reset_index().merge(\n",
    "        monthly_running_total,\n",
    "        how='left',\n",
    "        on = 'year_month'\n",
    "    )\n",
    "    vc_result['%_total'] = vc_result['facility_running_total'] / vc_result['monthly_running_total']\n",
    "    vc_result['last_4m_active'] = vc_result['rolling_4m_total_price'] > 0\n",
    "    vc_result ['significant'] = vc_result['%_total'] > 0.001\n",
    "    vc_result['measure'] = vc_result.apply(\n",
    "    lambda row: \"Active\"  if (row['last_4m_active'] & row['significant']) else (\"Inactive\" if row['significant'] else \"Exclude\"),\n",
    "    axis=1\n",
    "    )\n",
    "    #churn\n",
    "    churn = vc_result.groupby(['year_month']).apply(lambda x: x[x['measure'] == 'Inactive']['%_total'].sum()).reset_index()\n",
    "    churn.columns = ['year_month','%_inactive']\n",
    "    churn.index = churn.year_month\n",
    "    \n",
    "    # output vendor churn matrix\n",
    "    vc_data = vc_full[vc_full['year_month'] <= VC_MONTH_END]\n",
    "    vc_data['year_month'] = vc_data['year_month'].astype(str)\n",
    "    vc_matrix = pd.pivot_table(vc_data, values='shipper_wholesale_price', index='shipper_facility_name',\n",
    "    columns='year_month', fill_value=0).reset_index()\n",
    "    vc_matrix['facility_total'] = vc_matrix.sum(axis= 1)\n",
    "    vc_matrix['grand_total'] = vc_matrix['facility_total'].sum()\n",
    "    vc_matrix['perc_total'] = vc_matrix['facility_total'] / vc_matrix['grand_total']\n",
    "    vc_matrix['last_4m_total'] = vc_matrix[VC_MONTH_LIST].sum(axis = 1)\n",
    "    vc_matrix['last_4m_active'] = vc_matrix['last_4m_total'] > 0\n",
    "    vc_matrix ['significant'] = vc_matrix['perc_total'] > 0.001\n",
    "    vc_matrix['measure'] = vc_matrix.apply(\n",
    "        lambda row: \"Active\"  if (row['last_4m_active'] & row['significant']) else (\"Inactive\" if row['significant'] else \"Exclude\"),\n",
    "        axis=1\n",
    "    )\n",
    "    return churn, vc_matrix\n"
   ]
  },
  {
   "cell_type": "code",
   "execution_count": 13,
   "id": "05058c48",
   "metadata": {},
   "outputs": [],
   "source": [
    "def calculate_vendor_churn_short(incoming_transfer_df,license_list,vc_start_date,vc_end_date,vc_month_list,vc_month_end):\n",
    "    df_vendor_churn = incoming_transfer_df[incoming_transfer_df['license_number'].isin(license_list)]\n",
    "    df_vendor_churn['year_month'] = pd.to_datetime(df_vendor_churn['created_date']).dt.strftime(\"%Y-%m\")\n",
    "    vc = df_vendor_churn[['year_month','shipper_facility_name','shipper_wholesale_price']].groupby(['year_month','shipper_facility_name']).sum().reset_index()\n",
    "    vc= vc.assign(year_month=lambda df:pd.to_datetime(df['year_month']))\n",
    "\n",
    "    vc_full = (\n",
    "        vc\n",
    "        .groupby('shipper_facility_name').apply(\n",
    "            lambda df: df.merge(\n",
    "            pd.Series(\n",
    "                None, \n",
    "                index = pd.date_range(start = vc_start_date, end = vc_end_date, freq = 'MS'), \n",
    "                name='__place_holder'\n",
    "            ), \n",
    "            how ='right',\n",
    "            left_on = 'year_month', \n",
    "            right_index=True,\n",
    "        ).assign(\n",
    "            **{\n",
    "                \"shipper_facility_name\": lambda df_: df_.shipper_facility_name.dropna().unique()[0],\n",
    "                \"shipper_wholesale_price\": lambda df_: df_.shipper_wholesale_price.fillna(0),\n",
    "            }\n",
    "        )\n",
    "        .drop('__place_holder', axis=1)\n",
    "        )\n",
    "    ).reset_index(drop=True)\n",
    "    #vc_full[vc_full['shipper_wholesale_price'] < 100]['shipper_wholesale_price'] = 0\n",
    "    \n",
    "    \n",
    "    indices = vc_full[vc_full['shipper_wholesale_price'] < 100].index.to_list()\n",
    "    vc_full.loc[indices,'shipper_wholesale_price'] = 0\n",
    "    \n",
    "    #rolling_4m_sum\n",
    "    rolling_4m_sum =  vc_full.groupby('shipper_facility_name').apply(\n",
    "    lambda df: df.set_index('year_month').sort_index().rolling(4).sum()\n",
    "    )\n",
    "    rolling_4m_sum.columns = ['rolling_4m_total_price']\n",
    "    \n",
    "    #facility_monthly_running_total\n",
    "    facility_monthly_running_total = vc_full.groupby('shipper_facility_name').apply(\n",
    "        lambda df: df.set_index('year_month').sort_index()['shipper_wholesale_price'].rolling(window = 12).sum().to_frame()\n",
    "    )\n",
    "    facility_monthly_running_total.columns = ['facility_running_total']\n",
    "    \n",
    "    #monthly_running_total\n",
    "    monthly_running_total = facility_monthly_running_total.reset_index().groupby('year_month')['facility_running_total'].sum().to_frame()\n",
    "    monthly_running_total.columns = ['monthly_running_total']\n",
    "\n",
    "    vc_result = rolling_4m_sum.merge(\n",
    "        facility_monthly_running_total,\n",
    "        how='inner',\n",
    "        left_index=True,\n",
    "        right_index=True\n",
    "    ).reset_index().merge(\n",
    "        monthly_running_total,\n",
    "        how='left',\n",
    "        on = 'year_month'\n",
    "    )\n",
    "    vc_result['%_total'] = vc_result['facility_running_total'] / vc_result['monthly_running_total']\n",
    "    vc_result['last_4m_active'] = vc_result['rolling_4m_total_price'] > 0\n",
    "    vc_result ['significant'] = vc_result['%_total'] > 0.001\n",
    "    vc_result['measure'] = vc_result.apply(\n",
    "    lambda row: \"Active\"  if (row['last_4m_active'] & row['significant']) else (\"Inactive\" if row['significant'] else \"Exclude\"),\n",
    "    axis=1\n",
    "    )\n",
    "    #churn\n",
    "    churn = vc_result.groupby(['year_month']).apply(lambda x: x[x['measure'] == 'Inactive']['%_total'].sum()).reset_index()\n",
    "    churn.columns = ['year_month','%_inactive']\n",
    "    churn.index = churn.year_month\n",
    "    \n",
    "    # output vendor churn matrix\n",
    "    vc_data = vc_full[vc_full['year_month'] <= VC_MONTH_END]\n",
    "    vc_data['year_month'] = vc_data['year_month'].astype(str)\n",
    "    vc_matrix = pd.pivot_table(vc_data, values='shipper_wholesale_price', index='shipper_facility_name',\n",
    "    columns='year_month', fill_value=0).reset_index()\n",
    "    vc_matrix['facility_total'] = vc_matrix.iloc[: , -12:].sum(axis = 1)\n",
    "    vc_matrix['grand_total'] = vc_matrix['facility_total'].sum()\n",
    "    vc_matrix['perc_total'] = vc_matrix['facility_total'] / vc_matrix['grand_total']\n",
    "    vc_matrix['last_4m_total'] = vc_matrix[vc_month_list].sum(axis = 1)\n",
    "    vc_matrix['last_4m_active'] = vc_matrix['last_4m_total'] > 0\n",
    "    vc_matrix ['significant'] = vc_matrix['perc_total'] > 0.001\n",
    "    vc_matrix['measure'] = vc_matrix.apply(\n",
    "        lambda row: \"Active\"  if (row['last_4m_active'] & row['significant']) else (\"Inactive\" if row['significant'] else \"Exclude\"),\n",
    "        axis=1\n",
    "    )\n",
    "    return churn, vc_matrix\n",
    "    \n"
   ]
  },
  {
   "cell_type": "code",
   "execution_count": null,
   "id": "1ec4e917",
   "metadata": {},
   "outputs": [],
   "source": [
    "## test"
   ]
  },
  {
   "cell_type": "code",
   "execution_count": null,
   "id": "fe7f9273",
   "metadata": {
    "scrolled": true
   },
   "outputs": [],
   "source": [
    "#bad example of small number mess up whole vc%\n",
    "# to do: impose minimal amount to the vc matrix\n",
    "df_in_test,df_sales_deduped_test,bad_dl_test,unknown_transfer_test,rwp_test,miss_incoming_test,miss_receipts_test = data_quality_checks.run(['KC'],TRANSFER_PACKAGES_START_DATE,SALES_TRANSACTIONS_START_DATE)\n",
    "\n",
    "\n"
   ]
  },
  {
   "cell_type": "code",
   "execution_count": null,
   "id": "0fad339e",
   "metadata": {},
   "outputs": [],
   "source": [
    "lic_test = df_in_test['license_number'].unique()[8]\n",
    "lic_test\n"
   ]
  },
  {
   "cell_type": "code",
   "execution_count": null,
   "id": "b5060182",
   "metadata": {},
   "outputs": [],
   "source": [
    "a_short,b_short,f_short = calculate_vendor_churn_short(df_in_test,[lic_test],VC_START_DATE,VC_END_DATE,VC_MONTH_LIST,VC_MONTH_END)\n",
    "\n",
    "a,b,f = calculate_vendor_churn(df_in_test,[lic_test],VC_START_DATE,VC_END_DATE,VC_MONTH_LIST,VC_MONTH_END)\n",
    "\n",
    "\n",
    "\n"
   ]
  },
  {
   "cell_type": "code",
   "execution_count": null,
   "id": "0da0806a",
   "metadata": {},
   "outputs": [],
   "source": [
    "#c,vc,a,b = calculate_vendor_churn(df_in,[lic],VC_START_DATE,VC_END_DATE,VC_MONTH_LIST,VC_MONTH_END)\n",
    "\n",
    "\n"
   ]
  },
  {
   "cell_type": "markdown",
   "id": "4e0c6445",
   "metadata": {},
   "source": [
    "# run"
   ]
  },
  {
   "cell_type": "code",
   "execution_count": 14,
   "id": "a6592d4d",
   "metadata": {},
   "outputs": [],
   "source": [
    "def read_df_in(COMPANY_IDENTIFIER,license_numbers):\n",
    "    company_incoming_transfer_packages_query = create_queries.create_company_incoming_transfer_packages_query(\n",
    "    COMPANY_IDENTIFIER,\n",
    "    TRANSFER_PACKAGES_START_DATE,\n",
    "    license_numbers=license_numbers,\n",
    "    )\n",
    "    company_incoming_transfer_packages_dataframe = pd.read_sql_query(company_incoming_transfer_packages_query, engine)\n",
    "    return company_incoming_transfer_packages_dataframe\n"
   ]
  },
  {
   "cell_type": "code",
   "execution_count": 15,
   "id": "40333aa3",
   "metadata": {},
   "outputs": [],
   "source": [
    "def get_vc_list(company_list,transfer_packages_start_date,sales_transactrions_start_date,map_df):\n",
    "    churn_df_list = {}\n",
    "    vc_matrix_df_list = {}\n",
    "    churn_df_list_short = {}\n",
    "    vc_matrix_df_list_short = {}\n",
    "    for c in tqdm(company_list):\n",
    "        churn_list = {}\n",
    "        vc_matrix_list = {}\n",
    "        churn_list_short = {}\n",
    "        vc_matrix_list_short = {}\n",
    "        print(c)\n",
    "        l_list = map_df[map_df['company_identifier'] == c]['lic_list'].to_list()[0]\n",
    "        for l in tqdm(l_list):\n",
    "            print(l)\n",
    "            df_in = read_df_in([c],[l])\n",
    "            if df_in.shape[0] == 0:\n",
    "                churn_list[l] = numpy.nan\n",
    "                vc_matrix_list[l] = numpy.nan\n",
    "                churn_list_short[l] = numpy.nan\n",
    "                vc_matrix_list_short[l] = numpy.nan\n",
    "                continue\n",
    "            else:\n",
    "                churn,vc_matrix = calculate_vendor_churn(df_in,[l],VC_START_DATE,VC_END_DATE,VC_MONTH_LIST,VC_MONTH_END)\n",
    "                churn_short,vc_matrix_short = calculate_vendor_churn_short(df_in,[l],VC_START_DATE,VC_END_DATE,VC_MONTH_LIST,VC_MONTH_END)\n",
    "                churn_list[l] = churn\n",
    "                vc_matrix_list[l] = vc_matrix\n",
    "                churn_list_short[l] = churn_short\n",
    "                vc_matrix_list_short[l] = vc_matrix_short\n",
    "        churn_df_list[c] = churn_list\n",
    "        vc_matrix_df_list[c] = vc_matrix_list\n",
    "        churn_df_list_short[c] = churn_list_short\n",
    "        vc_matrix_df_list_short[c] = vc_matrix_list_short\n",
    "    return churn_df_list,vc_matrix_df_list,churn_df_list_short,vc_matrix_df_list_short\n",
    "\n",
    "    \n",
    "\n",
    "    "
   ]
  },
  {
   "cell_type": "code",
   "execution_count": 16,
   "id": "211217a5",
   "metadata": {},
   "outputs": [
    {
     "name": "stderr",
     "output_type": "stream",
     "text": [
      "\r",
      "  0%|          | 0/66 [00:00<?, ?it/s]"
     ]
    },
    {
     "name": "stdout",
     "output_type": "stream",
     "text": [
      "99HT\n"
     ]
    },
    {
     "name": "stderr",
     "output_type": "stream",
     "text": [
      "\n",
      "  0%|          | 0/1 [00:00<?, ?it/s]\u001b[A"
     ]
    },
    {
     "name": "stdout",
     "output_type": "stream",
     "text": [
      "C10-0000279-LIC\n"
     ]
    },
    {
     "name": "stderr",
     "output_type": "stream",
     "text": [
      "\n",
      "100%|██████████| 1/1 [00:04<00:00,  4.48s/it]\u001b[A\n",
      "  2%|▏         | 1/66 [00:04<04:51,  4.48s/it]"
     ]
    },
    {
     "name": "stdout",
     "output_type": "stream",
     "text": [
      "ALT\n"
     ]
    },
    {
     "name": "stderr",
     "output_type": "stream",
     "text": [
      "\n",
      "  0%|          | 0/2 [00:00<?, ?it/s]\u001b[A"
     ]
    },
    {
     "name": "stdout",
     "output_type": "stream",
     "text": [
      "PC-000310\n"
     ]
    },
    {
     "name": "stderr",
     "output_type": "stream",
     "text": [
      "\n",
      " 50%|█████     | 1/2 [00:02<00:02,  2.15s/it]\u001b[A"
     ]
    },
    {
     "name": "stdout",
     "output_type": "stream",
     "text": [
      "AU-R-000380\n"
     ]
    },
    {
     "name": "stderr",
     "output_type": "stream",
     "text": [
      "\n",
      "100%|██████████| 2/2 [00:05<00:00,  2.74s/it]\u001b[A\n",
      "  3%|▎         | 2/66 [00:09<05:24,  5.06s/it]"
     ]
    },
    {
     "name": "stdout",
     "output_type": "stream",
     "text": [
      "BS\n"
     ]
    },
    {
     "name": "stderr",
     "output_type": "stream",
     "text": [
      "\n",
      "  0%|          | 0/2 [00:00<?, ?it/s]\u001b[A"
     ]
    },
    {
     "name": "stdout",
     "output_type": "stream",
     "text": [
      "PC-000185\n"
     ]
    },
    {
     "name": "stderr",
     "output_type": "stream",
     "text": [
      "\n",
      " 50%|█████     | 1/2 [00:02<00:02,  2.96s/it]\u001b[A"
     ]
    },
    {
     "name": "stdout",
     "output_type": "stream",
     "text": [
      "AU-R-000156\n"
     ]
    },
    {
     "name": "stderr",
     "output_type": "stream",
     "text": [
      "\n",
      "100%|██████████| 2/2 [00:06<00:00,  3.21s/it]\u001b[A\n",
      "  5%|▍         | 3/66 [00:16<05:57,  5.68s/it]"
     ]
    },
    {
     "name": "stdout",
     "output_type": "stream",
     "text": [
      "BMC\n"
     ]
    },
    {
     "name": "stderr",
     "output_type": "stream",
     "text": [
      "\n",
      "  0%|          | 0/1 [00:00<?, ?it/s]\u001b[A"
     ]
    },
    {
     "name": "stdout",
     "output_type": "stream",
     "text": [
      "402-00930\n"
     ]
    },
    {
     "name": "stderr",
     "output_type": "stream",
     "text": [
      "\n",
      "100%|██████████| 1/1 [00:03<00:00,  3.47s/it]\u001b[A\n",
      "  6%|▌         | 4/66 [00:19<04:57,  4.81s/it]"
     ]
    },
    {
     "name": "stdout",
     "output_type": "stream",
     "text": [
      "BBF\n"
     ]
    },
    {
     "name": "stderr",
     "output_type": "stream",
     "text": [
      "\n",
      "  0%|          | 0/1 [00:00<?, ?it/s]\u001b[A"
     ]
    },
    {
     "name": "stdout",
     "output_type": "stream",
     "text": [
      "MR281525\n"
     ]
    },
    {
     "name": "stderr",
     "output_type": "stream",
     "text": [
      "\n",
      "100%|██████████| 1/1 [00:02<00:00,  2.77s/it]\u001b[A\n",
      "  8%|▊         | 5/66 [00:22<04:08,  4.07s/it]"
     ]
    },
    {
     "name": "stdout",
     "output_type": "stream",
     "text": [
      "BUD\n"
     ]
    },
    {
     "name": "stderr",
     "output_type": "stream",
     "text": [
      "\n",
      "  0%|          | 0/5 [00:00<?, ?it/s]\u001b[A"
     ]
    },
    {
     "name": "stdout",
     "output_type": "stream",
     "text": [
      "C9-0000464-LIC\n"
     ]
    },
    {
     "name": "stderr",
     "output_type": "stream",
     "text": [
      "\n",
      " 20%|██        | 1/5 [00:03<00:14,  3.53s/it]\u001b[A"
     ]
    },
    {
     "name": "stdout",
     "output_type": "stream",
     "text": [
      "C9-0000467-LIC\n"
     ]
    },
    {
     "name": "stderr",
     "output_type": "stream",
     "text": [
      "\n",
      " 40%|████      | 2/5 [00:06<00:10,  3.34s/it]\u001b[A"
     ]
    },
    {
     "name": "stdout",
     "output_type": "stream",
     "text": [
      "C9-0000444-LIC\n"
     ]
    },
    {
     "name": "stderr",
     "output_type": "stream",
     "text": [
      "\n",
      " 60%|██████    | 3/5 [00:09<00:06,  3.21s/it]\u001b[A"
     ]
    },
    {
     "name": "stdout",
     "output_type": "stream",
     "text": [
      "C9-0000167-LIC\n"
     ]
    },
    {
     "name": "stderr",
     "output_type": "stream",
     "text": [
      "\n",
      " 80%|████████  | 4/5 [00:13<00:03,  3.23s/it]\u001b[A"
     ]
    },
    {
     "name": "stdout",
     "output_type": "stream",
     "text": [
      "C9-0000399-LIC\n"
     ]
    },
    {
     "name": "stderr",
     "output_type": "stream",
     "text": [
      "\n",
      "100%|██████████| 5/5 [00:16<00:00,  3.25s/it]\u001b[A\n",
      "  9%|▉         | 6/66 [00:38<08:12,  8.21s/it]"
     ]
    },
    {
     "name": "stdout",
     "output_type": "stream",
     "text": [
      "CHO\n"
     ]
    },
    {
     "name": "stderr",
     "output_type": "stream",
     "text": [
      "\n",
      "  0%|          | 0/1 [00:00<?, ?it/s]\u001b[A"
     ]
    },
    {
     "name": "stdout",
     "output_type": "stream",
     "text": [
      "AU-R-000575\n"
     ]
    },
    {
     "name": "stderr",
     "output_type": "stream",
     "text": [
      "\n",
      "100%|██████████| 1/1 [00:02<00:00,  2.90s/it]\u001b[A\n",
      " 11%|█         | 7/66 [00:41<06:22,  6.48s/it]"
     ]
    },
    {
     "name": "stdout",
     "output_type": "stream",
     "text": [
      "CG\n"
     ]
    },
    {
     "name": "stderr",
     "output_type": "stream",
     "text": [
      "\n",
      "  0%|          | 0/1 [00:00<?, ?it/s]\u001b[A"
     ]
    },
    {
     "name": "stdout",
     "output_type": "stream",
     "text": [
      "C9-0000157-LIC\n"
     ]
    },
    {
     "name": "stderr",
     "output_type": "stream",
     "text": [
      "\n",
      "100%|██████████| 1/1 [00:04<00:00,  4.33s/it]\u001b[A\n",
      " 12%|█▏        | 8/66 [00:46<05:35,  5.79s/it]"
     ]
    },
    {
     "name": "stdout",
     "output_type": "stream",
     "text": [
      "CPA\n"
     ]
    },
    {
     "name": "stderr",
     "output_type": "stream",
     "text": [
      "\n",
      "  0%|          | 0/2 [00:00<?, ?it/s]\u001b[A"
     ]
    },
    {
     "name": "stdout",
     "output_type": "stream",
     "text": [
      "C10-0000461-LIC\n"
     ]
    },
    {
     "name": "stderr",
     "output_type": "stream",
     "text": [
      "\n",
      " 50%|█████     | 1/2 [00:04<00:04,  4.60s/it]\u001b[A"
     ]
    },
    {
     "name": "stdout",
     "output_type": "stream",
     "text": [
      "C9-0000348-LIC\n"
     ]
    },
    {
     "name": "stderr",
     "output_type": "stream",
     "text": [
      "\n",
      "100%|██████████| 2/2 [00:08<00:00,  4.24s/it]\u001b[A\n",
      " 14%|█▎        | 9/66 [00:54<06:18,  6.63s/it]"
     ]
    },
    {
     "name": "stdout",
     "output_type": "stream",
     "text": [
      "CPC\n"
     ]
    },
    {
     "name": "stderr",
     "output_type": "stream",
     "text": [
      "\n",
      "  0%|          | 0/1 [00:00<?, ?it/s]\u001b[A"
     ]
    },
    {
     "name": "stdout",
     "output_type": "stream",
     "text": [
      "C9-0000056-LIC\n"
     ]
    },
    {
     "name": "stderr",
     "output_type": "stream",
     "text": [
      "\n",
      "100%|██████████| 1/1 [00:03<00:00,  3.12s/it]\u001b[A\n",
      " 15%|█▌        | 10/66 [00:57<05:10,  5.55s/it]"
     ]
    },
    {
     "name": "stdout",
     "output_type": "stream",
     "text": [
      "CSC\n"
     ]
    },
    {
     "name": "stderr",
     "output_type": "stream",
     "text": [
      "\n",
      "  0%|          | 0/2 [00:00<?, ?it/s]\u001b[A"
     ]
    },
    {
     "name": "stdout",
     "output_type": "stream",
     "text": [
      "C10-0000670-LIC\n"
     ]
    },
    {
     "name": "stderr",
     "output_type": "stream",
     "text": [
      "\n",
      " 50%|█████     | 1/2 [00:04<00:04,  4.17s/it]\u001b[A"
     ]
    },
    {
     "name": "stdout",
     "output_type": "stream",
     "text": [
      "C10-0000918-LIC\n"
     ]
    },
    {
     "name": "stderr",
     "output_type": "stream",
     "text": [
      "\n",
      "100%|██████████| 2/2 [00:07<00:00,  3.70s/it]\u001b[A\n",
      " 17%|█▋        | 11/66 [01:05<05:36,  6.12s/it]"
     ]
    },
    {
     "name": "stdout",
     "output_type": "stream",
     "text": [
      "CCC\n"
     ]
    },
    {
     "name": "stderr",
     "output_type": "stream",
     "text": [
      "\n",
      "  0%|          | 0/1 [00:00<?, ?it/s]\u001b[A"
     ]
    },
    {
     "name": "stdout",
     "output_type": "stream",
     "text": [
      "C12-0000087-LIC\n"
     ]
    },
    {
     "name": "stderr",
     "output_type": "stream",
     "text": [
      "\n",
      "100%|██████████| 1/1 [00:04<00:00,  4.46s/it]\u001b[A\n",
      " 18%|█▊        | 12/66 [01:09<05:03,  5.61s/it]"
     ]
    },
    {
     "name": "stdout",
     "output_type": "stream",
     "text": [
      "CC\n"
     ]
    },
    {
     "name": "stderr",
     "output_type": "stream",
     "text": [
      "\n",
      "  0%|          | 0/1 [00:00<?, ?it/s]\u001b[A"
     ]
    },
    {
     "name": "stdout",
     "output_type": "stream",
     "text": [
      "C10-0000758-LIC\n"
     ]
    },
    {
     "name": "stderr",
     "output_type": "stream",
     "text": [
      "\n",
      "100%|██████████| 1/1 [00:03<00:00,  3.27s/it]\u001b[A\n",
      " 20%|█▉        | 13/66 [01:12<04:19,  4.90s/it]"
     ]
    },
    {
     "name": "stdout",
     "output_type": "stream",
     "text": [
      "DWF\n"
     ]
    },
    {
     "name": "stderr",
     "output_type": "stream",
     "text": [
      "\n",
      "  0%|          | 0/1 [00:00<?, ?it/s]\u001b[A"
     ]
    },
    {
     "name": "stdout",
     "output_type": "stream",
     "text": [
      "402R-00804\n"
     ]
    },
    {
     "name": "stderr",
     "output_type": "stream",
     "text": [
      "\n",
      "100%|██████████| 1/1 [00:03<00:00,  3.30s/it]\u001b[A\n",
      " 21%|██        | 14/66 [01:16<03:49,  4.42s/it]"
     ]
    },
    {
     "name": "stdout",
     "output_type": "stream",
     "text": [
      "DCO\n"
     ]
    },
    {
     "name": "stderr",
     "output_type": "stream",
     "text": [
      "\n",
      "  0%|          | 0/2 [00:00<?, ?it/s]\u001b[A"
     ]
    },
    {
     "name": "stdout",
     "output_type": "stream",
     "text": [
      "050-10052885D4C\n"
     ]
    },
    {
     "name": "stderr",
     "output_type": "stream",
     "text": [
      "\n",
      " 50%|█████     | 1/2 [00:04<00:04,  4.14s/it]\u001b[A"
     ]
    },
    {
     "name": "stdout",
     "output_type": "stream",
     "text": [
      "050-10070593E9E\n"
     ]
    },
    {
     "name": "stderr",
     "output_type": "stream",
     "text": [
      "\n",
      "100%|██████████| 2/2 [00:08<00:00,  4.03s/it]\u001b[A\n",
      " 23%|██▎       | 15/66 [01:24<04:41,  5.52s/it]"
     ]
    },
    {
     "name": "stdout",
     "output_type": "stream",
     "text": [
      "DL\n"
     ]
    },
    {
     "name": "stderr",
     "output_type": "stream",
     "text": [
      "\n",
      "  0%|          | 0/1 [00:00<?, ?it/s]\u001b[A"
     ]
    },
    {
     "name": "stdout",
     "output_type": "stream",
     "text": [
      "MR283369\n"
     ]
    },
    {
     "name": "stderr",
     "output_type": "stream",
     "text": [
      "\n",
      "100%|██████████| 1/1 [00:02<00:00,  2.81s/it]\u001b[A\n",
      " 24%|██▍       | 16/66 [01:26<03:55,  4.70s/it]"
     ]
    },
    {
     "name": "stdout",
     "output_type": "stream",
     "text": [
      "DGG\n"
     ]
    },
    {
     "name": "stderr",
     "output_type": "stream",
     "text": [
      "\n",
      "  0%|          | 0/1 [00:00<?, ?it/s]\u001b[A"
     ]
    },
    {
     "name": "stdout",
     "output_type": "stream",
     "text": [
      "C9-0000016-LIC\n"
     ]
    },
    {
     "name": "stderr",
     "output_type": "stream",
     "text": [
      "\n",
      "100%|██████████| 1/1 [00:03<00:00,  3.49s/it]\u001b[A\n",
      " 26%|██▌       | 17/66 [01:30<03:32,  4.34s/it]"
     ]
    },
    {
     "name": "stdout",
     "output_type": "stream",
     "text": [
      "DG\n"
     ]
    },
    {
     "name": "stderr",
     "output_type": "stream",
     "text": [
      "\n",
      "  0%|          | 0/6 [00:00<?, ?it/s]\u001b[A"
     ]
    },
    {
     "name": "stdout",
     "output_type": "stream",
     "text": [
      "PC-000485\n"
     ]
    },
    {
     "name": "stderr",
     "output_type": "stream",
     "text": [
      "\n",
      " 17%|█▋        | 1/6 [00:02<00:10,  2.02s/it]\u001b[A"
     ]
    },
    {
     "name": "stdout",
     "output_type": "stream",
     "text": [
      "AU-R-000287\n"
     ]
    },
    {
     "name": "stderr",
     "output_type": "stream",
     "text": [
      "\n",
      " 33%|███▎      | 2/6 [00:05<00:10,  2.65s/it]\u001b[A"
     ]
    },
    {
     "name": "stdout",
     "output_type": "stream",
     "text": [
      "AU-R-000359\n"
     ]
    },
    {
     "name": "stderr",
     "output_type": "stream",
     "text": [
      "\n",
      " 50%|█████     | 3/6 [00:08<00:08,  2.98s/it]\u001b[A"
     ]
    },
    {
     "name": "stdout",
     "output_type": "stream",
     "text": [
      "AU-R-000422\n"
     ]
    },
    {
     "name": "stderr",
     "output_type": "stream",
     "text": [
      "\n",
      " 67%|██████▋   | 4/6 [00:11<00:06,  3.18s/it]\u001b[A"
     ]
    },
    {
     "name": "stdout",
     "output_type": "stream",
     "text": [
      "AU-R-000470\n"
     ]
    },
    {
     "name": "stderr",
     "output_type": "stream",
     "text": [
      "\n",
      " 83%|████████▎ | 5/6 [00:14<00:03,  3.00s/it]\u001b[A"
     ]
    },
    {
     "name": "stdout",
     "output_type": "stream",
     "text": [
      "AU-R-000572\n"
     ]
    },
    {
     "name": "stderr",
     "output_type": "stream",
     "text": [
      "\n",
      "100%|██████████| 6/6 [00:17<00:00,  2.93s/it]\u001b[A\n",
      " 27%|██▋       | 18/66 [01:48<06:38,  8.31s/it]"
     ]
    },
    {
     "name": "stdout",
     "output_type": "stream",
     "text": [
      "EL\n"
     ]
    },
    {
     "name": "stderr",
     "output_type": "stream",
     "text": [
      "\n",
      "  0%|          | 0/1 [00:00<?, ?it/s]\u001b[A"
     ]
    },
    {
     "name": "stdout",
     "output_type": "stream",
     "text": [
      "C9-0000370-LIC\n"
     ]
    },
    {
     "name": "stderr",
     "output_type": "stream",
     "text": [
      "\n",
      "100%|██████████| 1/1 [00:02<00:00,  2.86s/it]\u001b[A\n",
      " 29%|██▉       | 19/66 [01:50<05:13,  6.68s/it]"
     ]
    },
    {
     "name": "stdout",
     "output_type": "stream",
     "text": [
      "EMA\n"
     ]
    },
    {
     "name": "stderr",
     "output_type": "stream",
     "text": [
      "\n",
      "  0%|          | 0/1 [00:00<?, ?it/s]\u001b[A"
     ]
    },
    {
     "name": "stdout",
     "output_type": "stream",
     "text": [
      "C10-0000774-LIC\n"
     ]
    },
    {
     "name": "stderr",
     "output_type": "stream",
     "text": [
      "\n",
      "100%|██████████| 1/1 [00:03<00:00,  3.59s/it]\u001b[A\n",
      " 30%|███       | 20/66 [01:54<04:24,  5.75s/it]"
     ]
    },
    {
     "name": "stdout",
     "output_type": "stream",
     "text": [
      "EMF\n"
     ]
    },
    {
     "name": "stderr",
     "output_type": "stream",
     "text": [
      "\n",
      "  0%|          | 0/1 [00:00<?, ?it/s]\u001b[A"
     ]
    },
    {
     "name": "stdout",
     "output_type": "stream",
     "text": [
      "C10-0000939-LIC\n"
     ]
    },
    {
     "name": "stderr",
     "output_type": "stream",
     "text": [
      "\n",
      "100%|██████████| 1/1 [00:03<00:00,  3.39s/it]\u001b[A\n",
      " 32%|███▏      | 21/66 [01:57<03:46,  5.04s/it]"
     ]
    },
    {
     "name": "stdout",
     "output_type": "stream",
     "text": [
      "EMM\n"
     ]
    },
    {
     "name": "stderr",
     "output_type": "stream",
     "text": [
      "\n",
      "  0%|          | 0/1 [00:00<?, ?it/s]\u001b[A"
     ]
    },
    {
     "name": "stdout",
     "output_type": "stream",
     "text": [
      "C10-0000786-LIC\n"
     ]
    },
    {
     "name": "stderr",
     "output_type": "stream",
     "text": [
      "\n",
      "100%|██████████| 1/1 [00:06<00:00,  6.79s/it]\u001b[A\n",
      " 33%|███▎      | 22/66 [02:04<04:04,  5.57s/it]"
     ]
    },
    {
     "name": "stdout",
     "output_type": "stream",
     "text": [
      "EMT\n"
     ]
    },
    {
     "name": "stderr",
     "output_type": "stream",
     "text": [
      "\n",
      "  0%|          | 0/1 [00:00<?, ?it/s]\u001b[A"
     ]
    },
    {
     "name": "stdout",
     "output_type": "stream",
     "text": [
      "C10-0000695-LIC\n"
     ]
    },
    {
     "name": "stderr",
     "output_type": "stream",
     "text": [
      "\n",
      "100%|██████████| 1/1 [00:05<00:00,  5.24s/it]\u001b[A\n",
      " 35%|███▍      | 23/66 [02:09<03:55,  5.47s/it]"
     ]
    },
    {
     "name": "stdout",
     "output_type": "stream",
     "text": [
      "EH\n"
     ]
    },
    {
     "name": "stderr",
     "output_type": "stream",
     "text": [
      "\n",
      "  0%|          | 0/1 [00:00<?, ?it/s]\u001b[A"
     ]
    },
    {
     "name": "stdout",
     "output_type": "stream",
     "text": [
      "MR283073\n"
     ]
    },
    {
     "name": "stderr",
     "output_type": "stream",
     "text": [
      "\n",
      "100%|██████████| 1/1 [00:02<00:00,  2.71s/it]\u001b[A\n",
      " 36%|███▋      | 24/66 [02:12<03:14,  4.64s/it]"
     ]
    },
    {
     "name": "stdout",
     "output_type": "stream",
     "text": [
      "FW\n"
     ]
    },
    {
     "name": "stderr",
     "output_type": "stream",
     "text": [
      "\n",
      "  0%|          | 0/5 [00:00<?, ?it/s]\u001b[A"
     ]
    },
    {
     "name": "stdout",
     "output_type": "stream",
     "text": [
      "402-00558\n"
     ]
    },
    {
     "name": "stderr",
     "output_type": "stream",
     "text": [
      "\n",
      " 20%|██        | 1/5 [00:03<00:14,  3.58s/it]\u001b[A"
     ]
    },
    {
     "name": "stdout",
     "output_type": "stream",
     "text": [
      "402R-00017\n"
     ]
    },
    {
     "name": "stderr",
     "output_type": "stream",
     "text": [
      "\n",
      " 40%|████      | 2/5 [00:09<00:14,  4.80s/it]\u001b[A"
     ]
    },
    {
     "name": "stdout",
     "output_type": "stream",
     "text": [
      "402-00891\n"
     ]
    },
    {
     "name": "stderr",
     "output_type": "stream",
     "text": [
      "\n",
      " 60%|██████    | 3/5 [00:13<00:09,  4.73s/it]\u001b[A"
     ]
    },
    {
     "name": "stdout",
     "output_type": "stream",
     "text": [
      "402R-00020\n"
     ]
    },
    {
     "name": "stderr",
     "output_type": "stream",
     "text": [
      "\n",
      " 80%|████████  | 4/5 [00:18<00:04,  4.78s/it]\u001b[A"
     ]
    },
    {
     "name": "stdout",
     "output_type": "stream",
     "text": [
      "402R-00747\n"
     ]
    },
    {
     "name": "stderr",
     "output_type": "stream",
     "text": [
      "\n",
      "100%|██████████| 5/5 [00:24<00:00,  4.89s/it]\u001b[A\n",
      " 38%|███▊      | 25/66 [02:37<07:13, 10.58s/it]"
     ]
    },
    {
     "name": "stdout",
     "output_type": "stream",
     "text": [
      "GT\n"
     ]
    },
    {
     "name": "stderr",
     "output_type": "stream",
     "text": [
      "\n",
      "  0%|          | 0/2 [00:00<?, ?it/s]\u001b[A"
     ]
    },
    {
     "name": "stdout",
     "output_type": "stream",
     "text": [
      "C9-0000385-LIC\n"
     ]
    },
    {
     "name": "stderr",
     "output_type": "stream",
     "text": [
      "\n",
      " 50%|█████     | 1/2 [00:03<00:03,  3.49s/it]\u001b[A"
     ]
    },
    {
     "name": "stdout",
     "output_type": "stream",
     "text": [
      "C9-0000170-LIC\n"
     ]
    },
    {
     "name": "stderr",
     "output_type": "stream",
     "text": [
      "\n",
      "100%|██████████| 2/2 [00:07<00:00,  3.52s/it]\u001b[A\n",
      " 39%|███▉      | 26/66 [02:44<06:20,  9.52s/it]"
     ]
    },
    {
     "name": "stdout",
     "output_type": "stream",
     "text": [
      "GLNR\n"
     ]
    },
    {
     "name": "stderr",
     "output_type": "stream",
     "text": [
      "\n",
      "  0%|          | 0/6 [00:00<?, ?it/s]\u001b[A"
     ]
    },
    {
     "name": "stdout",
     "output_type": "stream",
     "text": [
      "PC-000334\n"
     ]
    },
    {
     "name": "stderr",
     "output_type": "stream",
     "text": [
      "\n",
      " 17%|█▋        | 1/6 [00:03<00:15,  3.08s/it]\u001b[A"
     ]
    },
    {
     "name": "stdout",
     "output_type": "stream",
     "text": [
      "PC-000613\n"
     ]
    },
    {
     "name": "stderr",
     "output_type": "stream",
     "text": [
      "\n",
      " 33%|███▎      | 2/6 [00:05<00:11,  2.76s/it]\u001b[A"
     ]
    },
    {
     "name": "stdout",
     "output_type": "stream",
     "text": [
      "PC-000722\n"
     ]
    },
    {
     "name": "stderr",
     "output_type": "stream",
     "text": [
      "\n",
      " 50%|█████     | 3/6 [00:08<00:08,  2.79s/it]\u001b[A"
     ]
    },
    {
     "name": "stdout",
     "output_type": "stream",
     "text": [
      "AU-R-000182\n"
     ]
    },
    {
     "name": "stderr",
     "output_type": "stream",
     "text": [
      "\n",
      " 67%|██████▋   | 4/6 [00:11<00:06,  3.05s/it]\u001b[A"
     ]
    },
    {
     "name": "stdout",
     "output_type": "stream",
     "text": [
      "AU-R-000461\n"
     ]
    },
    {
     "name": "stderr",
     "output_type": "stream",
     "text": [
      "\n",
      " 83%|████████▎ | 5/6 [00:14<00:02,  2.92s/it]\u001b[A"
     ]
    },
    {
     "name": "stdout",
     "output_type": "stream",
     "text": [
      "AU-R-000559\n"
     ]
    },
    {
     "name": "stderr",
     "output_type": "stream",
     "text": [
      "\n",
      "100%|██████████| 6/6 [00:17<00:00,  2.88s/it]\u001b[A\n",
      " 41%|████      | 27/66 [03:01<07:41, 11.85s/it]"
     ]
    },
    {
     "name": "stdout",
     "output_type": "stream",
     "text": [
      "GRG\n"
     ]
    },
    {
     "name": "stderr",
     "output_type": "stream",
     "text": [
      "\n",
      "  0%|          | 0/2 [00:00<?, ?it/s]\u001b[A"
     ]
    },
    {
     "name": "stdout",
     "output_type": "stream",
     "text": [
      "C10-0000169-LIC\n"
     ]
    },
    {
     "name": "stderr",
     "output_type": "stream",
     "text": [
      "\n",
      " 50%|█████     | 1/2 [00:05<00:05,  5.65s/it]\u001b[A"
     ]
    },
    {
     "name": "stdout",
     "output_type": "stream",
     "text": [
      "C10-0000408-LIC\n"
     ]
    },
    {
     "name": "stderr",
     "output_type": "stream",
     "text": [
      "\n",
      "100%|██████████| 2/2 [00:09<00:00,  4.79s/it]\u001b[A\n",
      " 42%|████▏     | 28/66 [03:10<07:04, 11.17s/it]"
     ]
    },
    {
     "name": "stdout",
     "output_type": "stream",
     "text": [
      "GTR\n"
     ]
    },
    {
     "name": "stderr",
     "output_type": "stream",
     "text": [
      "\n",
      "  0%|          | 0/2 [00:00<?, ?it/s]\u001b[A"
     ]
    },
    {
     "name": "stdout",
     "output_type": "stream",
     "text": [
      "PC-000225\n"
     ]
    },
    {
     "name": "stderr",
     "output_type": "stream",
     "text": [
      "\n",
      " 50%|█████     | 1/2 [00:03<00:03,  3.28s/it]\u001b[A"
     ]
    },
    {
     "name": "stdout",
     "output_type": "stream",
     "text": [
      "AU-R-000163\n"
     ]
    },
    {
     "name": "stderr",
     "output_type": "stream",
     "text": [
      "\n",
      "100%|██████████| 2/2 [00:07<00:00,  3.68s/it]\u001b[A\n",
      " 44%|████▍     | 29/66 [03:18<06:11, 10.03s/it]"
     ]
    },
    {
     "name": "stdout",
     "output_type": "stream",
     "text": [
      "GHC\n"
     ]
    },
    {
     "name": "stderr",
     "output_type": "stream",
     "text": [
      "\n",
      "  0%|          | 0/1 [00:00<?, ?it/s]\u001b[A"
     ]
    },
    {
     "name": "stdout",
     "output_type": "stream",
     "text": [
      "C10-0000414-LIC\n"
     ]
    },
    {
     "name": "stderr",
     "output_type": "stream",
     "text": [
      "\n",
      "100%|██████████| 1/1 [00:03<00:00,  3.91s/it]\u001b[A\n",
      " 45%|████▌     | 30/66 [03:22<04:54,  8.19s/it]"
     ]
    },
    {
     "name": "stdout",
     "output_type": "stream",
     "text": [
      "GF\n"
     ]
    },
    {
     "name": "stderr",
     "output_type": "stream",
     "text": [
      "\n",
      "  0%|          | 0/6 [00:00<?, ?it/s]\u001b[A"
     ]
    },
    {
     "name": "stdout",
     "output_type": "stream",
     "text": [
      "C10-0000224-LIC\n"
     ]
    },
    {
     "name": "stderr",
     "output_type": "stream",
     "text": [
      "\n",
      " 17%|█▋        | 1/6 [00:05<00:27,  5.52s/it]\u001b[A"
     ]
    },
    {
     "name": "stdout",
     "output_type": "stream",
     "text": [
      "C10-0000805-LIC\n"
     ]
    },
    {
     "name": "stderr",
     "output_type": "stream",
     "text": [
      "\n",
      " 33%|███▎      | 2/6 [00:08<00:16,  4.09s/it]\u001b[A"
     ]
    },
    {
     "name": "stdout",
     "output_type": "stream",
     "text": [
      "C10-0000824-LIC\n"
     ]
    },
    {
     "name": "stderr",
     "output_type": "stream",
     "text": [
      "\n",
      " 50%|█████     | 3/6 [00:12<00:11,  3.96s/it]\u001b[A"
     ]
    },
    {
     "name": "stdout",
     "output_type": "stream",
     "text": [
      "C12-0000191-LIC\n"
     ]
    },
    {
     "name": "stderr",
     "output_type": "stream",
     "text": [
      "\n",
      " 67%|██████▋   | 4/6 [00:15<00:07,  3.73s/it]\u001b[A"
     ]
    },
    {
     "name": "stdout",
     "output_type": "stream",
     "text": [
      "C10-0000700-LIC\n"
     ]
    },
    {
     "name": "stderr",
     "output_type": "stream",
     "text": [
      "\n",
      " 83%|████████▎ | 5/6 [00:19<00:03,  3.67s/it]\u001b[A"
     ]
    },
    {
     "name": "stdout",
     "output_type": "stream",
     "text": [
      "C10-0000117-LIC\n"
     ]
    },
    {
     "name": "stderr",
     "output_type": "stream",
     "text": [
      "\n",
      "100%|██████████| 6/6 [00:25<00:00,  4.33s/it]\u001b[A\n",
      " 47%|████▋     | 31/66 [03:48<07:53, 13.53s/it]"
     ]
    },
    {
     "name": "stdout",
     "output_type": "stream",
     "text": [
      "HB\n"
     ]
    },
    {
     "name": "stderr",
     "output_type": "stream",
     "text": [
      "\n",
      "  0%|          | 0/3 [00:00<?, ?it/s]\u001b[A"
     ]
    },
    {
     "name": "stdout",
     "output_type": "stream",
     "text": [
      "C10-0000339-LIC\n"
     ]
    },
    {
     "name": "stderr",
     "output_type": "stream",
     "text": [
      "\n",
      " 33%|███▎      | 1/3 [00:04<00:08,  4.19s/it]\u001b[A"
     ]
    },
    {
     "name": "stdout",
     "output_type": "stream",
     "text": [
      "C10-0000624-LIC\n"
     ]
    },
    {
     "name": "stderr",
     "output_type": "stream",
     "text": [
      "\n",
      " 67%|██████▋   | 2/3 [00:07<00:03,  3.66s/it]\u001b[A"
     ]
    },
    {
     "name": "stdout",
     "output_type": "stream",
     "text": [
      "C10-0000301-LIC\n"
     ]
    },
    {
     "name": "stderr",
     "output_type": "stream",
     "text": [
      "\n",
      "100%|██████████| 3/3 [00:10<00:00,  3.54s/it]\u001b[A\n",
      " 48%|████▊     | 32/66 [03:58<07:10, 12.66s/it]"
     ]
    },
    {
     "name": "stdout",
     "output_type": "stream",
     "text": [
      "HPCC\n"
     ]
    },
    {
     "name": "stderr",
     "output_type": "stream",
     "text": [
      "\n",
      "  0%|          | 0/2 [00:00<?, ?it/s]\u001b[A"
     ]
    },
    {
     "name": "stdout",
     "output_type": "stream",
     "text": [
      "C10-0000064-LIC\n"
     ]
    },
    {
     "name": "stderr",
     "output_type": "stream",
     "text": [
      "\n",
      " 50%|█████     | 1/2 [00:07<00:07,  7.48s/it]\u001b[A"
     ]
    },
    {
     "name": "stdout",
     "output_type": "stream",
     "text": [
      "C10-0000005-LIC\n"
     ]
    },
    {
     "name": "stderr",
     "output_type": "stream",
     "text": [
      "\n",
      "100%|██████████| 2/2 [00:11<00:00,  5.70s/it]\u001b[A\n",
      " 50%|█████     | 33/66 [04:10<06:45, 12.29s/it]"
     ]
    },
    {
     "name": "stdout",
     "output_type": "stream",
     "text": [
      "HC\n"
     ]
    },
    {
     "name": "stderr",
     "output_type": "stream",
     "text": [
      "\n",
      "  0%|          | 0/1 [00:00<?, ?it/s]\u001b[A"
     ]
    },
    {
     "name": "stdout",
     "output_type": "stream",
     "text": [
      "C9-0000341-LIC\n"
     ]
    },
    {
     "name": "stderr",
     "output_type": "stream",
     "text": [
      "\n",
      "100%|██████████| 1/1 [00:03<00:00,  3.42s/it]\u001b[A\n",
      " 52%|█████▏    | 34/66 [04:13<05:08,  9.63s/it]"
     ]
    },
    {
     "name": "stdout",
     "output_type": "stream",
     "text": [
      "IDC\n"
     ]
    },
    {
     "name": "stderr",
     "output_type": "stream",
     "text": [
      "\n",
      "  0%|          | 0/1 [00:00<?, ?it/s]\u001b[A"
     ]
    },
    {
     "name": "stdout",
     "output_type": "stream",
     "text": [
      "C9-0000320-LIC\n"
     ]
    },
    {
     "name": "stderr",
     "output_type": "stream",
     "text": [
      "\n",
      "100%|██████████| 1/1 [00:03<00:00,  3.51s/it]\u001b[A\n",
      " 53%|█████▎    | 35/66 [04:17<04:01,  7.79s/it]"
     ]
    },
    {
     "name": "stdout",
     "output_type": "stream",
     "text": [
      "KC\n"
     ]
    },
    {
     "name": "stderr",
     "output_type": "stream",
     "text": [
      "\n",
      "  0%|          | 0/11 [00:00<?, ?it/s]\u001b[A"
     ]
    },
    {
     "name": "stdout",
     "output_type": "stream",
     "text": [
      "402-00664\n"
     ]
    },
    {
     "name": "stderr",
     "output_type": "stream",
     "text": [
      "\n",
      "  9%|▉         | 1/11 [00:02<00:28,  2.82s/it]\u001b[A"
     ]
    },
    {
     "name": "stdout",
     "output_type": "stream",
     "text": [
      "402R-00515\n"
     ]
    },
    {
     "name": "stderr",
     "output_type": "stream",
     "text": [
      "\n",
      " 18%|█▊        | 2/11 [00:06<00:28,  3.20s/it]\u001b[A"
     ]
    },
    {
     "name": "stdout",
     "output_type": "stream",
     "text": [
      "402-01146\n"
     ]
    },
    {
     "name": "stderr",
     "output_type": "stream",
     "text": [
      "\n",
      " 27%|██▋       | 3/11 [00:08<00:21,  2.72s/it]\u001b[A"
     ]
    },
    {
     "name": "stdout",
     "output_type": "stream",
     "text": [
      "402-00573\n"
     ]
    },
    {
     "name": "stderr",
     "output_type": "stream",
     "text": [
      "\n",
      " 36%|███▋      | 4/11 [00:11<00:20,  2.99s/it]\u001b[A"
     ]
    },
    {
     "name": "stdout",
     "output_type": "stream",
     "text": [
      "402R-00544\n"
     ]
    },
    {
     "name": "stderr",
     "output_type": "stream",
     "text": [
      "\n",
      " 45%|████▌     | 5/11 [00:16<00:20,  3.41s/it]\u001b[A"
     ]
    },
    {
     "name": "stdout",
     "output_type": "stream",
     "text": [
      "402-00323\n"
     ]
    },
    {
     "name": "stderr",
     "output_type": "stream",
     "text": [
      "\n",
      " 55%|█████▍    | 6/11 [00:18<00:15,  3.19s/it]\u001b[A"
     ]
    },
    {
     "name": "stdout",
     "output_type": "stream",
     "text": [
      "402R-00900\n"
     ]
    },
    {
     "name": "stderr",
     "output_type": "stream",
     "text": [
      "\n",
      " 64%|██████▎   | 7/11 [00:22<00:12,  3.21s/it]\u001b[A"
     ]
    },
    {
     "name": "stdout",
     "output_type": "stream",
     "text": [
      "402R-00002\n"
     ]
    },
    {
     "name": "stderr",
     "output_type": "stream",
     "text": [
      "\n",
      " 73%|███████▎  | 8/11 [00:25<00:09,  3.24s/it]\u001b[A"
     ]
    },
    {
     "name": "stdout",
     "output_type": "stream",
     "text": [
      "402R-00035\n"
     ]
    },
    {
     "name": "stderr",
     "output_type": "stream",
     "text": [
      "\n",
      " 82%|████████▏ | 9/11 [00:28<00:06,  3.37s/it]\u001b[A"
     ]
    },
    {
     "name": "stdout",
     "output_type": "stream",
     "text": [
      "402R-00574\n"
     ]
    },
    {
     "name": "stderr",
     "output_type": "stream",
     "text": [
      "\n",
      " 91%|█████████ | 10/11 [00:32<00:03,  3.52s/it]\u001b[A"
     ]
    },
    {
     "name": "stdout",
     "output_type": "stream",
     "text": [
      "402-00037\n"
     ]
    },
    {
     "name": "stderr",
     "output_type": "stream",
     "text": [
      "\n",
      "100%|██████████| 11/11 [00:36<00:00,  3.28s/it]\u001b[A\n",
      " 55%|█████▍    | 36/66 [04:53<08:08, 16.30s/it]"
     ]
    },
    {
     "name": "stdout",
     "output_type": "stream",
     "text": [
      "LBC\n"
     ]
    },
    {
     "name": "stderr",
     "output_type": "stream",
     "text": [
      "\n",
      "  0%|          | 0/1 [00:00<?, ?it/s]\u001b[A"
     ]
    },
    {
     "name": "stdout",
     "output_type": "stream",
     "text": [
      "C9-0000154-LIC\n"
     ]
    },
    {
     "name": "stderr",
     "output_type": "stream",
     "text": [
      "\n",
      "100%|██████████| 1/1 [00:03<00:00,  3.65s/it]\u001b[A\n",
      " 56%|█████▌    | 37/66 [04:57<06:02, 12.50s/it]"
     ]
    },
    {
     "name": "stdout",
     "output_type": "stream",
     "text": [
      "ML\n"
     ]
    },
    {
     "name": "stderr",
     "output_type": "stream",
     "text": [
      "\n",
      "  0%|          | 0/1 [00:00<?, ?it/s]\u001b[A"
     ]
    },
    {
     "name": "stdout",
     "output_type": "stream",
     "text": [
      "C9-0000300-LIC\n"
     ]
    },
    {
     "name": "stderr",
     "output_type": "stream",
     "text": [
      "\n",
      "100%|██████████| 1/1 [00:03<00:00,  3.87s/it]\u001b[A\n",
      " 58%|█████▊    | 38/66 [05:00<04:37,  9.91s/it]"
     ]
    },
    {
     "name": "stdout",
     "output_type": "stream",
     "text": [
      "MW\n"
     ]
    },
    {
     "name": "stderr",
     "output_type": "stream",
     "text": [
      "\n",
      "  0%|          | 0/1 [00:00<?, ?it/s]\u001b[A"
     ]
    },
    {
     "name": "stdout",
     "output_type": "stream",
     "text": [
      "C10-0000332-LIC\n"
     ]
    },
    {
     "name": "stderr",
     "output_type": "stream",
     "text": [
      "\n",
      "100%|██████████| 1/1 [00:04<00:00,  4.40s/it]\u001b[A\n",
      " 59%|█████▉    | 39/66 [05:05<03:43,  8.26s/it]"
     ]
    },
    {
     "name": "stdout",
     "output_type": "stream",
     "text": [
      "MPW\n"
     ]
    },
    {
     "name": "stderr",
     "output_type": "stream",
     "text": [
      "\n",
      "  0%|          | 0/1 [00:00<?, ?it/s]\u001b[A"
     ]
    },
    {
     "name": "stdout",
     "output_type": "stream",
     "text": [
      "C10-0000547-LIC\n"
     ]
    },
    {
     "name": "stderr",
     "output_type": "stream",
     "text": [
      "\n",
      "100%|██████████| 1/1 [00:05<00:00,  5.68s/it]\u001b[A\n",
      " 61%|██████    | 40/66 [05:10<03:14,  7.49s/it]"
     ]
    },
    {
     "name": "stdout",
     "output_type": "stream",
     "text": [
      "MD\n"
     ]
    },
    {
     "name": "stderr",
     "output_type": "stream",
     "text": [
      "\n",
      "  0%|          | 0/1 [00:00<?, ?it/s]\u001b[A"
     ]
    },
    {
     "name": "stdout",
     "output_type": "stream",
     "text": [
      "C9-0000247-LIC\n"
     ]
    },
    {
     "name": "stderr",
     "output_type": "stream",
     "text": [
      "\n",
      "100%|██████████| 1/1 [00:03<00:00,  3.91s/it]\u001b[A\n",
      " 62%|██████▏   | 41/66 [05:14<02:40,  6.41s/it]"
     ]
    },
    {
     "name": "stdout",
     "output_type": "stream",
     "text": [
      "ND\n"
     ]
    },
    {
     "name": "stderr",
     "output_type": "stream",
     "text": [
      "\n",
      "  0%|          | 0/1 [00:00<?, ?it/s]\u001b[A"
     ]
    },
    {
     "name": "stdout",
     "output_type": "stream",
     "text": [
      "C9-0000427-LIC\n"
     ]
    },
    {
     "name": "stderr",
     "output_type": "stream",
     "text": [
      "\n",
      "100%|██████████| 1/1 [00:03<00:00,  3.31s/it]\u001b[A\n",
      " 64%|██████▎   | 42/66 [05:18<02:11,  5.48s/it]"
     ]
    },
    {
     "name": "stdout",
     "output_type": "stream",
     "text": [
      "PGM\n"
     ]
    },
    {
     "name": "stderr",
     "output_type": "stream",
     "text": [
      "\n",
      "  0%|          | 0/11 [00:00<?, ?it/s]\u001b[A"
     ]
    },
    {
     "name": "stdout",
     "output_type": "stream",
     "text": [
      "PC-000160\n"
     ]
    },
    {
     "name": "stderr",
     "output_type": "stream",
     "text": [
      "\n",
      "  9%|▉         | 1/11 [00:02<00:25,  2.55s/it]\u001b[A"
     ]
    },
    {
     "name": "stdout",
     "output_type": "stream",
     "text": [
      "PC-000167\n"
     ]
    },
    {
     "name": "stderr",
     "output_type": "stream",
     "text": [
      "\n",
      " 18%|█▊        | 2/11 [00:05<00:25,  2.85s/it]\u001b[A"
     ]
    },
    {
     "name": "stdout",
     "output_type": "stream",
     "text": [
      "PC-000169\n"
     ]
    },
    {
     "name": "stderr",
     "output_type": "stream",
     "text": [
      "\n",
      " 27%|██▋       | 3/11 [00:07<00:21,  2.63s/it]\u001b[A"
     ]
    },
    {
     "name": "stdout",
     "output_type": "stream",
     "text": [
      "PC-000415\n"
     ]
    },
    {
     "name": "stderr",
     "output_type": "stream",
     "text": [
      "\n",
      " 36%|███▋      | 4/11 [00:10<00:19,  2.78s/it]\u001b[A"
     ]
    },
    {
     "name": "stdout",
     "output_type": "stream",
     "text": [
      "PC-000551\n"
     ]
    },
    {
     "name": "stderr",
     "output_type": "stream",
     "text": [
      "\n",
      " 45%|████▌     | 5/11 [00:14<00:18,  3.02s/it]\u001b[A"
     ]
    },
    {
     "name": "stdout",
     "output_type": "stream",
     "text": [
      "PC-000725\n"
     ]
    },
    {
     "name": "stderr",
     "output_type": "stream",
     "text": [
      "\n",
      " 55%|█████▍    | 6/11 [00:16<00:13,  2.76s/it]\u001b[A"
     ]
    },
    {
     "name": "stdout",
     "output_type": "stream",
     "text": [
      "AU-R-000196\n"
     ]
    },
    {
     "name": "stderr",
     "output_type": "stream",
     "text": [
      "\n",
      " 64%|██████▎   | 7/11 [00:20<00:12,  3.05s/it]\u001b[A"
     ]
    },
    {
     "name": "stdout",
     "output_type": "stream",
     "text": [
      "AU-R-000197\n"
     ]
    },
    {
     "name": "stderr",
     "output_type": "stream",
     "text": [
      "\n",
      " 73%|███████▎  | 8/11 [00:23<00:09,  3.07s/it]\u001b[A"
     ]
    },
    {
     "name": "stdout",
     "output_type": "stream",
     "text": [
      "AU-R-000198\n"
     ]
    },
    {
     "name": "stderr",
     "output_type": "stream",
     "text": [
      "\n",
      " 82%|████████▏ | 9/11 [00:26<00:06,  3.10s/it]\u001b[A"
     ]
    },
    {
     "name": "stdout",
     "output_type": "stream",
     "text": [
      "AU-R-000366\n"
     ]
    },
    {
     "name": "stderr",
     "output_type": "stream",
     "text": [
      "\n",
      " 91%|█████████ | 10/11 [00:29<00:03,  3.05s/it]\u001b[A"
     ]
    },
    {
     "name": "stdout",
     "output_type": "stream",
     "text": [
      "AU-R-000506\n"
     ]
    },
    {
     "name": "stderr",
     "output_type": "stream",
     "text": [
      "\n",
      "100%|██████████| 11/11 [00:33<00:00,  3.00s/it]\u001b[A\n",
      " 65%|██████▌   | 43/66 [05:51<05:16, 13.74s/it]"
     ]
    },
    {
     "name": "stdout",
     "output_type": "stream",
     "text": [
      "PRP\n"
     ]
    },
    {
     "name": "stderr",
     "output_type": "stream",
     "text": [
      "\n",
      "  0%|          | 0/3 [00:00<?, ?it/s]\u001b[A"
     ]
    },
    {
     "name": "stdout",
     "output_type": "stream",
     "text": [
      "C10-0000403-LIC\n"
     ]
    },
    {
     "name": "stderr",
     "output_type": "stream",
     "text": [
      "\n",
      " 33%|███▎      | 1/3 [00:03<00:07,  3.64s/it]\u001b[A"
     ]
    },
    {
     "name": "stdout",
     "output_type": "stream",
     "text": [
      "C10-0000155-LIC\n"
     ]
    },
    {
     "name": "stderr",
     "output_type": "stream",
     "text": [
      "\n",
      " 67%|██████▋   | 2/3 [00:07<00:03,  3.93s/it]\u001b[A"
     ]
    },
    {
     "name": "stdout",
     "output_type": "stream",
     "text": [
      "C10-0000286-LIC\n"
     ]
    },
    {
     "name": "stderr",
     "output_type": "stream",
     "text": [
      "\n",
      "100%|██████████| 3/3 [00:11<00:00,  3.83s/it]\u001b[A\n",
      " 67%|██████▋   | 44/66 [06:02<04:47, 13.07s/it]"
     ]
    },
    {
     "name": "stdout",
     "output_type": "stream",
     "text": [
      "PRL\n"
     ]
    },
    {
     "name": "stderr",
     "output_type": "stream",
     "text": [
      "\n",
      "  0%|          | 0/1 [00:00<?, ?it/s]\u001b[A"
     ]
    },
    {
     "name": "stdout",
     "output_type": "stream",
     "text": [
      "C10-0000759-LIC\n"
     ]
    },
    {
     "name": "stderr",
     "output_type": "stream",
     "text": [
      "\n",
      "100%|██████████| 1/1 [00:03<00:00,  3.76s/it]\u001b[A\n",
      " 68%|██████▊   | 45/66 [06:06<03:35, 10.28s/it]"
     ]
    },
    {
     "name": "stdout",
     "output_type": "stream",
     "text": [
      "PL\n"
     ]
    },
    {
     "name": "stderr",
     "output_type": "stream",
     "text": [
      "\n",
      "  0%|          | 0/1 [00:00<?, ?it/s]\u001b[A"
     ]
    },
    {
     "name": "stdout",
     "output_type": "stream",
     "text": [
      "C10-0000241-LIC\n"
     ]
    },
    {
     "name": "stderr",
     "output_type": "stream",
     "text": [
      "\n",
      "100%|██████████| 1/1 [00:05<00:00,  5.93s/it]\u001b[A\n",
      " 70%|██████▉   | 46/66 [06:12<02:59,  8.97s/it]"
     ]
    },
    {
     "name": "stdout",
     "output_type": "stream",
     "text": [
      "QR\n"
     ]
    },
    {
     "name": "stderr",
     "output_type": "stream",
     "text": [
      "\n",
      "  0%|          | 0/4 [00:00<?, ?it/s]\u001b[A"
     ]
    },
    {
     "name": "stdout",
     "output_type": "stream",
     "text": [
      "PC-000356\n"
     ]
    },
    {
     "name": "stderr",
     "output_type": "stream",
     "text": [
      "\n",
      " 25%|██▌       | 1/4 [00:02<00:07,  2.63s/it]\u001b[A"
     ]
    },
    {
     "name": "stdout",
     "output_type": "stream",
     "text": [
      "AU-R-000233\n"
     ]
    },
    {
     "name": "stderr",
     "output_type": "stream",
     "text": [
      "\n",
      " 50%|█████     | 2/4 [00:06<00:06,  3.42s/it]\u001b[A"
     ]
    },
    {
     "name": "stdout",
     "output_type": "stream",
     "text": [
      "AU-R-000346\n"
     ]
    },
    {
     "name": "stderr",
     "output_type": "stream",
     "text": [
      "\n",
      " 75%|███████▌  | 3/4 [00:09<00:03,  3.34s/it]\u001b[A"
     ]
    },
    {
     "name": "stdout",
     "output_type": "stream",
     "text": [
      "AU-R-000633\n"
     ]
    },
    {
     "name": "stderr",
     "output_type": "stream",
     "text": [
      "\n",
      "100%|██████████| 4/4 [00:12<00:00,  3.22s/it]\u001b[A\n",
      " 71%|███████   | 47/66 [06:25<03:12, 10.14s/it]"
     ]
    },
    {
     "name": "stdout",
     "output_type": "stream",
     "text": [
      "RA\n"
     ]
    },
    {
     "name": "stderr",
     "output_type": "stream",
     "text": [
      "\n",
      "  0%|          | 0/1 [00:00<?, ?it/s]\u001b[A"
     ]
    },
    {
     "name": "stdout",
     "output_type": "stream",
     "text": [
      "C10-0000596-LIC\n"
     ]
    },
    {
     "name": "stderr",
     "output_type": "stream",
     "text": [
      "\n",
      "100%|██████████| 1/1 [00:04<00:00,  4.12s/it]\u001b[A\n",
      " 73%|███████▎  | 48/66 [06:29<02:30,  8.34s/it]"
     ]
    },
    {
     "name": "stdout",
     "output_type": "stream",
     "text": [
      "RGD\n"
     ]
    },
    {
     "name": "stderr",
     "output_type": "stream",
     "text": [
      "\n",
      "  0%|          | 0/1 [00:00<?, ?it/s]\u001b[A"
     ]
    },
    {
     "name": "stdout",
     "output_type": "stream",
     "text": [
      "C9-0000057-LIC\n"
     ]
    },
    {
     "name": "stderr",
     "output_type": "stream",
     "text": [
      "\n",
      "100%|██████████| 1/1 [00:05<00:00,  5.54s/it]\u001b[A\n",
      " 74%|███████▍  | 49/66 [06:34<02:07,  7.50s/it]"
     ]
    },
    {
     "name": "stdout",
     "output_type": "stream",
     "text": [
      "SFV\n"
     ]
    },
    {
     "name": "stderr",
     "output_type": "stream",
     "text": [
      "\n",
      "  0%|          | 0/1 [00:00<?, ?it/s]\u001b[A"
     ]
    },
    {
     "name": "stdout",
     "output_type": "stream",
     "text": [
      "C10-0000041-LIC\n"
     ]
    },
    {
     "name": "stderr",
     "output_type": "stream",
     "text": [
      "\n",
      "100%|██████████| 1/1 [00:04<00:00,  4.59s/it]\u001b[A\n",
      " 76%|███████▌  | 50/66 [06:39<01:46,  6.63s/it]"
     ]
    },
    {
     "name": "stdout",
     "output_type": "stream",
     "text": [
      "SV\n"
     ]
    },
    {
     "name": "stderr",
     "output_type": "stream",
     "text": [
      "\n",
      "  0%|          | 0/1 [00:00<?, ?it/s]\u001b[A"
     ]
    },
    {
     "name": "stdout",
     "output_type": "stream",
     "text": [
      "C9-0000146-LIC\n"
     ]
    },
    {
     "name": "stderr",
     "output_type": "stream",
     "text": [
      "\n",
      "100%|██████████| 1/1 [00:03<00:00,  3.62s/it]\u001b[A\n",
      " 77%|███████▋  | 51/66 [06:43<01:25,  5.72s/it]"
     ]
    },
    {
     "name": "stdout",
     "output_type": "stream",
     "text": [
      "SLCC\n"
     ]
    },
    {
     "name": "stderr",
     "output_type": "stream",
     "text": [
      "\n",
      "  0%|          | 0/1 [00:00<?, ?it/s]\u001b[A"
     ]
    },
    {
     "name": "stdout",
     "output_type": "stream",
     "text": [
      "C10-0000474-LIC\n"
     ]
    },
    {
     "name": "stderr",
     "output_type": "stream",
     "text": [
      "\n",
      "100%|██████████| 1/1 [00:03<00:00,  3.59s/it]\u001b[A\n",
      " 79%|███████▉  | 52/66 [06:46<01:11,  5.08s/it]"
     ]
    },
    {
     "name": "stdout",
     "output_type": "stream",
     "text": [
      "SO\n"
     ]
    },
    {
     "name": "stderr",
     "output_type": "stream",
     "text": [
      "\n",
      "  0%|          | 0/3 [00:00<?, ?it/s]\u001b[A"
     ]
    },
    {
     "name": "stdout",
     "output_type": "stream",
     "text": [
      "C10-0000271-LIC\n"
     ]
    },
    {
     "name": "stderr",
     "output_type": "stream",
     "text": [
      "\n",
      " 33%|███▎      | 1/3 [00:03<00:06,  3.36s/it]\u001b[A"
     ]
    },
    {
     "name": "stdout",
     "output_type": "stream",
     "text": [
      "C12-0000328-LIC\n"
     ]
    },
    {
     "name": "stderr",
     "output_type": "stream",
     "text": [
      "\n",
      " 67%|██████▋   | 2/3 [00:05<00:02,  2.69s/it]\u001b[A"
     ]
    },
    {
     "name": "stdout",
     "output_type": "stream",
     "text": [
      "C9-0000130-LIC\n"
     ]
    },
    {
     "name": "stderr",
     "output_type": "stream",
     "text": [
      "\n",
      "100%|██████████| 3/3 [00:08<00:00,  2.96s/it]\u001b[A\n",
      " 80%|████████  | 53/66 [06:55<01:20,  6.22s/it]"
     ]
    },
    {
     "name": "stdout",
     "output_type": "stream",
     "text": [
      "ST\n"
     ]
    },
    {
     "name": "stderr",
     "output_type": "stream",
     "text": [
      "\n",
      "  0%|          | 0/1 [00:00<?, ?it/s]\u001b[A"
     ]
    },
    {
     "name": "stdout",
     "output_type": "stream",
     "text": [
      "C9-0000323-LIC\n"
     ]
    },
    {
     "name": "stderr",
     "output_type": "stream",
     "text": [
      "\n",
      "100%|██████████| 1/1 [00:03<00:00,  3.44s/it]\u001b[A\n",
      " 82%|████████▏ | 54/66 [06:59<01:04,  5.39s/it]"
     ]
    },
    {
     "name": "stdout",
     "output_type": "stream",
     "text": [
      "DW\n"
     ]
    },
    {
     "name": "stderr",
     "output_type": "stream",
     "text": [
      "\n",
      "  0%|          | 0/1 [00:00<?, ?it/s]\u001b[A"
     ]
    },
    {
     "name": "stdout",
     "output_type": "stream",
     "text": [
      "MR282376\n"
     ]
    },
    {
     "name": "stderr",
     "output_type": "stream",
     "text": [
      "\n",
      "100%|██████████| 1/1 [00:03<00:00,  3.81s/it]\u001b[A\n",
      " 83%|████████▎ | 55/66 [07:02<00:54,  4.91s/it]"
     ]
    },
    {
     "name": "stdout",
     "output_type": "stream",
     "text": [
      "TGL\n"
     ]
    },
    {
     "name": "stderr",
     "output_type": "stream",
     "text": [
      "\n",
      "  0%|          | 0/1 [00:00<?, ?it/s]\u001b[A"
     ]
    },
    {
     "name": "stdout",
     "output_type": "stream",
     "text": [
      "C9-0000412-LIC\n"
     ]
    },
    {
     "name": "stderr",
     "output_type": "stream",
     "text": [
      "\n",
      "100%|██████████| 1/1 [00:03<00:00,  3.22s/it]\u001b[A\n",
      " 85%|████████▍ | 56/66 [07:06<00:44,  4.41s/it]"
     ]
    },
    {
     "name": "stdout",
     "output_type": "stream",
     "text": [
      "TJR\n"
     ]
    },
    {
     "name": "stderr",
     "output_type": "stream",
     "text": [
      "\n",
      "  0%|          | 0/1 [00:00<?, ?it/s]\u001b[A"
     ]
    },
    {
     "name": "stdout",
     "output_type": "stream",
     "text": [
      "C9-0000105-LIC\n"
     ]
    },
    {
     "name": "stderr",
     "output_type": "stream",
     "text": [
      "\n",
      "100%|██████████| 1/1 [00:14<00:00, 14.69s/it]\u001b[A\n",
      " 86%|████████▋ | 57/66 [07:20<01:07,  7.49s/it]"
     ]
    },
    {
     "name": "stdout",
     "output_type": "stream",
     "text": [
      "TTS\n"
     ]
    },
    {
     "name": "stderr",
     "output_type": "stream",
     "text": [
      "\n",
      "  0%|          | 0/2 [00:00<?, ?it/s]\u001b[A"
     ]
    },
    {
     "name": "stdout",
     "output_type": "stream",
     "text": [
      "PC-000718\n"
     ]
    },
    {
     "name": "stderr",
     "output_type": "stream",
     "text": [
      "\n",
      " 50%|█████     | 1/2 [00:02<00:02,  2.72s/it]\u001b[A"
     ]
    },
    {
     "name": "stdout",
     "output_type": "stream",
     "text": [
      "AU-R-000546\n"
     ]
    },
    {
     "name": "stderr",
     "output_type": "stream",
     "text": [
      "\n",
      "100%|██████████| 2/2 [00:05<00:00,  2.66s/it]\u001b[A\n",
      " 88%|████████▊ | 58/66 [07:26<00:54,  6.84s/it]"
     ]
    },
    {
     "name": "stdout",
     "output_type": "stream",
     "text": [
      "TT\n"
     ]
    },
    {
     "name": "stderr",
     "output_type": "stream",
     "text": [
      "\n",
      "  0%|          | 0/1 [00:00<?, ?it/s]\u001b[A"
     ]
    },
    {
     "name": "stdout",
     "output_type": "stream",
     "text": [
      "C9-0000451-LIC\n"
     ]
    },
    {
     "name": "stderr",
     "output_type": "stream",
     "text": [
      "\n",
      "100%|██████████| 1/1 [00:03<00:00,  3.03s/it]\u001b[A\n",
      " 89%|████████▉ | 59/66 [07:29<00:39,  5.70s/it]"
     ]
    },
    {
     "name": "stdout",
     "output_type": "stream",
     "text": [
      "T4L\n"
     ]
    },
    {
     "name": "stderr",
     "output_type": "stream",
     "text": [
      "\n",
      "  0%|          | 0/1 [00:00<?, ?it/s]\u001b[A"
     ]
    },
    {
     "name": "stdout",
     "output_type": "stream",
     "text": [
      "C12-0000302-LIC\n"
     ]
    },
    {
     "name": "stderr",
     "output_type": "stream",
     "text": [
      "\n",
      "100%|██████████| 1/1 [00:02<00:00,  2.99s/it]\u001b[A\n",
      " 91%|█████████ | 60/66 [07:32<00:29,  4.89s/it]"
     ]
    },
    {
     "name": "stdout",
     "output_type": "stream",
     "text": [
      "TL\n"
     ]
    },
    {
     "name": "stderr",
     "output_type": "stream",
     "text": [
      "\n",
      "  0%|          | 0/19 [00:00<?, ?it/s]\u001b[A"
     ]
    },
    {
     "name": "stdout",
     "output_type": "stream",
     "text": [
      "402R-00808\n"
     ]
    },
    {
     "name": "stderr",
     "output_type": "stream",
     "text": [
      "\n",
      "  5%|▌         | 1/19 [00:01<00:29,  1.61s/it]\u001b[A"
     ]
    },
    {
     "name": "stdout",
     "output_type": "stream",
     "text": [
      "402-00370\n"
     ]
    },
    {
     "name": "stderr",
     "output_type": "stream",
     "text": [
      "\n",
      " 11%|█         | 2/19 [00:04<00:38,  2.25s/it]\u001b[A"
     ]
    },
    {
     "name": "stdout",
     "output_type": "stream",
     "text": [
      "402R-00602\n"
     ]
    },
    {
     "name": "stderr",
     "output_type": "stream",
     "text": [
      "\n",
      " 16%|█▌        | 3/19 [00:07<00:43,  2.70s/it]\u001b[A"
     ]
    },
    {
     "name": "stdout",
     "output_type": "stream",
     "text": [
      "402R-00041\n"
     ]
    },
    {
     "name": "stderr",
     "output_type": "stream",
     "text": [
      "\n",
      " 21%|██        | 4/19 [00:11<00:45,  3.05s/it]\u001b[A"
     ]
    },
    {
     "name": "stdout",
     "output_type": "stream",
     "text": [
      "402R-00807\n"
     ]
    },
    {
     "name": "stderr",
     "output_type": "stream",
     "text": [
      "\n",
      " 26%|██▋       | 5/19 [00:14<00:43,  3.09s/it]\u001b[A"
     ]
    },
    {
     "name": "stdout",
     "output_type": "stream",
     "text": [
      "402-01142\n"
     ]
    },
    {
     "name": "stderr",
     "output_type": "stream",
     "text": [
      "\n",
      " 32%|███▏      | 6/19 [00:17<00:40,  3.11s/it]\u001b[A"
     ]
    },
    {
     "name": "stdout",
     "output_type": "stream",
     "text": [
      "402R-00573\n"
     ]
    },
    {
     "name": "stderr",
     "output_type": "stream",
     "text": [
      "\n",
      " 37%|███▋      | 7/19 [00:20<00:38,  3.19s/it]\u001b[A"
     ]
    },
    {
     "name": "stdout",
     "output_type": "stream",
     "text": [
      "402-00473\n"
     ]
    },
    {
     "name": "stderr",
     "output_type": "stream",
     "text": [
      "\n",
      " 42%|████▏     | 8/19 [00:23<00:34,  3.17s/it]\u001b[A"
     ]
    },
    {
     "name": "stdout",
     "output_type": "stream",
     "text": [
      "402R-00536\n"
     ]
    },
    {
     "name": "stderr",
     "output_type": "stream",
     "text": [
      "\n",
      " 47%|████▋     | 9/19 [00:27<00:32,  3.22s/it]\u001b[A"
     ]
    },
    {
     "name": "stdout",
     "output_type": "stream",
     "text": [
      "402R-00066\n"
     ]
    },
    {
     "name": "stderr",
     "output_type": "stream",
     "text": [
      "\n",
      " 53%|█████▎    | 10/19 [00:30<00:29,  3.31s/it]\u001b[A"
     ]
    },
    {
     "name": "stdout",
     "output_type": "stream",
     "text": [
      "402R-00362\n"
     ]
    },
    {
     "name": "stderr",
     "output_type": "stream",
     "text": [
      "\n",
      " 58%|█████▊    | 11/19 [00:32<00:22,  2.82s/it]\u001b[A"
     ]
    },
    {
     "name": "stdout",
     "output_type": "stream",
     "text": [
      "402-00390\n"
     ]
    },
    {
     "name": "stderr",
     "output_type": "stream",
     "text": [
      "\n",
      " 63%|██████▎   | 12/19 [00:35<00:20,  2.90s/it]\u001b[A"
     ]
    },
    {
     "name": "stdout",
     "output_type": "stream",
     "text": [
      "402-01201\n"
     ]
    },
    {
     "name": "stderr",
     "output_type": "stream",
     "text": [
      "\n",
      " 68%|██████▊   | 13/19 [00:39<00:18,  3.08s/it]\u001b[A"
     ]
    },
    {
     "name": "stdout",
     "output_type": "stream",
     "text": [
      "402R-00781\n"
     ]
    },
    {
     "name": "stderr",
     "output_type": "stream",
     "text": [
      "\n",
      " 74%|███████▎  | 14/19 [00:42<00:16,  3.28s/it]\u001b[A"
     ]
    },
    {
     "name": "stdout",
     "output_type": "stream",
     "text": [
      "402R-00505\n"
     ]
    },
    {
     "name": "stderr",
     "output_type": "stream",
     "text": [
      "\n",
      " 79%|███████▉  | 15/19 [00:44<00:11,  2.80s/it]\u001b[A"
     ]
    },
    {
     "name": "stdout",
     "output_type": "stream",
     "text": [
      "402R-00487\n"
     ]
    },
    {
     "name": "stderr",
     "output_type": "stream",
     "text": [
      "\n",
      " 84%|████████▍ | 16/19 [00:46<00:07,  2.48s/it]\u001b[A"
     ]
    },
    {
     "name": "stdout",
     "output_type": "stream",
     "text": [
      "402R-00242\n"
     ]
    },
    {
     "name": "stderr",
     "output_type": "stream",
     "text": [
      "\n",
      " 89%|████████▉ | 17/19 [00:48<00:04,  2.28s/it]\u001b[A"
     ]
    },
    {
     "name": "stdout",
     "output_type": "stream",
     "text": [
      "402R-00246\n"
     ]
    },
    {
     "name": "stderr",
     "output_type": "stream",
     "text": [
      "\n",
      " 95%|█████████▍| 18/19 [00:49<00:02,  2.18s/it]\u001b[A"
     ]
    },
    {
     "name": "stdout",
     "output_type": "stream",
     "text": [
      "402R-00571\n"
     ]
    },
    {
     "name": "stderr",
     "output_type": "stream",
     "text": [
      "\n",
      "100%|██████████| 19/19 [00:51<00:00,  2.73s/it]\u001b[A\n",
      " 92%|█████████▏| 61/66 [08:23<01:34, 18.96s/it]"
     ]
    },
    {
     "name": "stdout",
     "output_type": "stream",
     "text": [
      "UHHC\n"
     ]
    },
    {
     "name": "stderr",
     "output_type": "stream",
     "text": [
      "\n",
      "  0%|          | 0/2 [00:00<?, ?it/s]\u001b[A"
     ]
    },
    {
     "name": "stdout",
     "output_type": "stream",
     "text": [
      "C10-0000817-LIC\n"
     ]
    },
    {
     "name": "stderr",
     "output_type": "stream",
     "text": [
      "\n",
      " 50%|█████     | 1/2 [00:02<00:02,  2.90s/it]\u001b[A"
     ]
    },
    {
     "name": "stdout",
     "output_type": "stream",
     "text": [
      "C9-0000082-LIC\n"
     ]
    },
    {
     "name": "stderr",
     "output_type": "stream",
     "text": [
      "\n",
      "100%|██████████| 2/2 [00:07<00:00,  3.58s/it]\u001b[A\n",
      " 94%|█████████▍| 62/66 [08:31<01:01, 15.42s/it]"
     ]
    },
    {
     "name": "stdout",
     "output_type": "stream",
     "text": [
      "UR\n"
     ]
    },
    {
     "name": "stderr",
     "output_type": "stream",
     "text": [
      "\n",
      "  0%|          | 0/7 [00:00<?, ?it/s]\u001b[A"
     ]
    },
    {
     "name": "stdout",
     "output_type": "stream",
     "text": [
      "C10-0000731-LIC\n"
     ]
    },
    {
     "name": "stderr",
     "output_type": "stream",
     "text": [
      "\n",
      " 14%|█▍        | 1/7 [00:03<00:21,  3.57s/it]\u001b[A"
     ]
    },
    {
     "name": "stdout",
     "output_type": "stream",
     "text": [
      "C10-0000776-LIC\n"
     ]
    },
    {
     "name": "stderr",
     "output_type": "stream",
     "text": [
      "\n",
      " 29%|██▊       | 2/7 [00:07<00:18,  3.69s/it]\u001b[A"
     ]
    },
    {
     "name": "stdout",
     "output_type": "stream",
     "text": [
      "C10-0000246-LIC\n"
     ]
    },
    {
     "name": "stderr",
     "output_type": "stream",
     "text": [
      "\n",
      " 43%|████▎     | 3/7 [00:12<00:18,  4.55s/it]\u001b[A"
     ]
    },
    {
     "name": "stdout",
     "output_type": "stream",
     "text": [
      "C10-0000464-LIC\n"
     ]
    },
    {
     "name": "stderr",
     "output_type": "stream",
     "text": [
      "\n",
      " 57%|█████▋    | 4/7 [00:17<00:14,  4.71s/it]\u001b[A"
     ]
    },
    {
     "name": "stdout",
     "output_type": "stream",
     "text": [
      "C10-0000618-LIC\n"
     ]
    },
    {
     "name": "stderr",
     "output_type": "stream",
     "text": [
      "\n",
      " 71%|███████▏  | 5/7 [00:22<00:09,  4.52s/it]\u001b[A"
     ]
    },
    {
     "name": "stdout",
     "output_type": "stream",
     "text": [
      "C10-0000590-LIC\n"
     ]
    },
    {
     "name": "stderr",
     "output_type": "stream",
     "text": [
      "\n",
      " 86%|████████▌ | 6/7 [00:26<00:04,  4.40s/it]\u001b[A"
     ]
    },
    {
     "name": "stdout",
     "output_type": "stream",
     "text": [
      "C12-0000333-LIC\n"
     ]
    },
    {
     "name": "stderr",
     "output_type": "stream",
     "text": [
      "\n",
      "100%|██████████| 7/7 [00:29<00:00,  4.26s/it]\u001b[A\n",
      " 95%|█████████▌| 63/66 [09:00<00:59, 19.75s/it]"
     ]
    },
    {
     "name": "stdout",
     "output_type": "stream",
     "text": [
      "VS\n"
     ]
    },
    {
     "name": "stderr",
     "output_type": "stream",
     "text": [
      "\n",
      "  0%|          | 0/2 [00:00<?, ?it/s]\u001b[A"
     ]
    },
    {
     "name": "stdout",
     "output_type": "stream",
     "text": [
      "402-00840\n"
     ]
    },
    {
     "name": "stderr",
     "output_type": "stream",
     "text": [
      "\n",
      " 50%|█████     | 1/2 [00:02<00:02,  2.90s/it]\u001b[A"
     ]
    },
    {
     "name": "stdout",
     "output_type": "stream",
     "text": [
      "402R-00545\n"
     ]
    },
    {
     "name": "stderr",
     "output_type": "stream",
     "text": [
      "\n",
      "100%|██████████| 2/2 [00:07<00:00,  3.73s/it]\u001b[A\n",
      " 97%|█████████▋| 64/66 [09:08<00:32, 16.06s/it]"
     ]
    },
    {
     "name": "stdout",
     "output_type": "stream",
     "text": [
      "VOY\n"
     ]
    },
    {
     "name": "stderr",
     "output_type": "stream",
     "text": [
      "\n",
      "  0%|          | 0/3 [00:00<?, ?it/s]\u001b[A"
     ]
    },
    {
     "name": "stdout",
     "output_type": "stream",
     "text": [
      "C12-0000030-LIC\n"
     ]
    },
    {
     "name": "stderr",
     "output_type": "stream",
     "text": [
      "\n",
      " 33%|███▎      | 1/3 [00:04<00:09,  4.78s/it]\u001b[A"
     ]
    },
    {
     "name": "stdout",
     "output_type": "stream",
     "text": [
      "C10-0000802-LIC\n"
     ]
    },
    {
     "name": "stderr",
     "output_type": "stream",
     "text": [
      "\n",
      " 67%|██████▋   | 2/3 [00:07<00:03,  3.48s/it]\u001b[A"
     ]
    },
    {
     "name": "stdout",
     "output_type": "stream",
     "text": [
      "C12-0000159-LIC\n"
     ]
    },
    {
     "name": "stderr",
     "output_type": "stream",
     "text": [
      "\n",
      "100%|██████████| 3/3 [00:09<00:00,  3.16s/it]\u001b[A\n",
      " 98%|█████████▊| 65/66 [09:17<00:14, 14.09s/it]"
     ]
    },
    {
     "name": "stdout",
     "output_type": "stream",
     "text": [
      "WHT\n"
     ]
    },
    {
     "name": "stderr",
     "output_type": "stream",
     "text": [
      "\n",
      "  0%|          | 0/1 [00:00<?, ?it/s]\u001b[A"
     ]
    },
    {
     "name": "stdout",
     "output_type": "stream",
     "text": [
      "C10-0000548-LIC\n"
     ]
    },
    {
     "name": "stderr",
     "output_type": "stream",
     "text": [
      "\n",
      "100%|██████████| 1/1 [00:05<00:00,  5.34s/it]\u001b[A\n",
      "100%|██████████| 66/66 [09:23<00:00,  8.53s/it]\n"
     ]
    }
   ],
   "source": [
    "c,vc,c_short,vc_short = get_vc_list(list(company_df['company_identifier']),TRANSFER_PACKAGES_START_DATE,SALES_TRANSACTIONS_START_DATE,company_df)\n",
    "\n",
    "\n"
   ]
  },
  {
   "cell_type": "code",
   "execution_count": null,
   "id": "e71e487e",
   "metadata": {},
   "outputs": [],
   "source": [
    "df_vc_churn = pd.DataFrame()\n",
    "for k in vc.keys():\n",
    "    print(k)\n",
    "    for l in vc[k].keys():\n",
    "        print(l)\n",
    "        data_vc = vc[k][l]\n",
    "        if str(data_vc) == 'nan':\n",
    "            continue\n",
    "        else:\n",
    "            data_vc['company'] = k\n",
    "            data_vc['location'] = l\n",
    "            print(data_vc.shape)\n",
    "            df_vc_churn = df_vc_churn.append(data_vc)\n",
    "        #data.to_excel('ca_location_analysis/'+'analysis_' + k + '_'+ l+'.xlsx')"
   ]
  },
  {
   "cell_type": "code",
   "execution_count": null,
   "id": "63715105",
   "metadata": {},
   "outputs": [],
   "source": [
    "df_churn = pd.DataFrame()\n",
    "for k in c.keys():\n",
    "    print(k)\n",
    "    for l in c[k].keys():\n",
    "        print(l)\n",
    "        data_vc = c[k][l]\n",
    "        if str(data_vc) == 'nan':\n",
    "            continue\n",
    "        else:\n",
    "            data_vc['company'] = k\n",
    "            data_vc['location'] = l\n",
    "            print(data_vc.shape)\n",
    "            df_churn = df_churn.append(data_vc)\n",
    "        #data.to_excel('ca_location_analysis/'+'analysis_' + k + '_'+ l+'.xlsx')"
   ]
  },
  {
   "cell_type": "code",
   "execution_count": null,
   "id": "a56a49fb",
   "metadata": {},
   "outputs": [],
   "source": [
    "df_churn_short = pd.DataFrame()\n",
    "for k in c_short.keys():\n",
    "    print(k)\n",
    "    for l in c_short[k].keys():\n",
    "        print(l)\n",
    "        data_vc_short = c_short[k][l]\n",
    "        if str(data_vc_short) == 'nan':\n",
    "            continue\n",
    "        else:\n",
    "            data_vc_short['company'] = k\n",
    "            data_vc_short['location'] = l\n",
    "            print(data_vc_short.shape)\n",
    "            df_churn_short = df_churn_short.append(data_vc_short)\n",
    "        #data.to_excel('ca_location_analysis/'+'analysis_' + k + '_'+ l+'.xlsx')"
   ]
  },
  {
   "cell_type": "code",
   "execution_count": null,
   "id": "0efd8162",
   "metadata": {},
   "outputs": [],
   "source": [
    "df_churn_short[df_churn_short['company'] == 'EL']"
   ]
  },
  {
   "cell_type": "markdown",
   "id": "9fd22167",
   "metadata": {},
   "source": [
    "# analysis: past 6m"
   ]
  },
  {
   "cell_type": "code",
   "execution_count": null,
   "id": "3939af6c",
   "metadata": {},
   "outputs": [],
   "source": [
    "df_churn_short_recent = df_churn_short[(df_churn_short['year_month'] >= '2021-09') & (df_churn_short['year_month'] <= '2022-02')]\n",
    "df_churn_short_recent = df_churn_short_recent.reset_index(drop = True)\n",
    "\n",
    "df_churn_recent = df_churn[(df_churn['year_month'] >= '2021-09') & (df_churn['year_month'] <= '2022-02')]\n",
    "df_churn_recent = df_churn_recent.reset_index(drop = True)\n",
    "\n",
    "\n"
   ]
  },
  {
   "cell_type": "code",
   "execution_count": null,
   "id": "e279be8e",
   "metadata": {},
   "outputs": [],
   "source": [
    "df_churn_short_recent_with_state = pd.merge(df_churn_short_recent,company_df[['company_identifier','state']],left_on = 'company',right_on = 'company_identifier',how = 'left')\n",
    "df_churn_recent_with_state = pd.merge(df_churn_recent,company_df[['company_identifier','state']],left_on = 'company',right_on = 'company_identifier',how = 'left')\n",
    "\n",
    "\n"
   ]
  },
  {
   "cell_type": "code",
   "execution_count": null,
   "id": "72b9a9ef",
   "metadata": {},
   "outputs": [],
   "source": [
    "df_churn_short_recent_with_state.head()\n"
   ]
  },
  {
   "cell_type": "code",
   "execution_count": null,
   "id": "e98cc88d",
   "metadata": {},
   "outputs": [],
   "source": [
    "df_churn_recent_with_state.head()"
   ]
  },
  {
   "cell_type": "code",
   "execution_count": null,
   "id": "61903923",
   "metadata": {},
   "outputs": [],
   "source": [
    "churn_joined = pd.merge(df_churn_recent_with_state,df_churn_short_recent_with_state, on = ['year_month','company','location','company_identifier','state'],how = 'inner')\n",
    "\n",
    "churn_joined.columns = ['year_month','churn_orig','company','location','company_identifier','state','churn_new']\n",
    "\n",
    "churn_joined ['new-old'] = churn_joined['churn_new'] - churn_joined['churn_orig']\n",
    "\n",
    "\n"
   ]
  },
  {
   "cell_type": "code",
   "execution_count": null,
   "id": "98e5e841",
   "metadata": {},
   "outputs": [],
   "source": [
    "churn_joined.sort_values(by = 'new-old')"
   ]
  },
  {
   "cell_type": "code",
   "execution_count": null,
   "id": "c6369ff6",
   "metadata": {},
   "outputs": [],
   "source": [
    "# distribution of margin short\n",
    "churn_distr_short = df_churn_short_recent_with_state.groupby(['state','year_month'])['%_inactive'].describe().reset_index()\n",
    "churn_distr_short['year_month'] = pd.to_datetime(churn_distr_short['year_month'])\n",
    "churn_distr_short.index = churn_distr_short.year_month\n",
    "\n",
    "\n",
    "# distribution of margin orig\n",
    "churn_distr = df_churn_recent_with_state.groupby(['state','year_month'])['%_inactive'].describe().reset_index()\n",
    "churn_distr['year_month'] = pd.to_datetime(churn_distr['year_month'])\n",
    "churn_distr.index = churn_distr.year_month\n",
    "\n"
   ]
  },
  {
   "cell_type": "code",
   "execution_count": null,
   "id": "f7cf5ade",
   "metadata": {},
   "outputs": [],
   "source": [
    "churn_distr[churn_distr['state'] == 'CO']"
   ]
  },
  {
   "cell_type": "code",
   "execution_count": null,
   "id": "0349d351",
   "metadata": {},
   "outputs": [],
   "source": [
    "churn_distr_short[churn_distr_short['state'] == 'CO']"
   ]
  },
  {
   "cell_type": "code",
   "execution_count": null,
   "id": "e7093393",
   "metadata": {},
   "outputs": [],
   "source": [
    "import seaborn as sns"
   ]
  },
  {
   "cell_type": "code",
   "execution_count": null,
   "id": "b2616266",
   "metadata": {},
   "outputs": [],
   "source": [
    "churn_distr[churn_distr['state'] == 'CA']['50%'].plot(marker = 'o',label = 'churn original')\n",
    "churn_distr_short[churn_distr_short['state'] == 'CA']['50%'].plot(marker = 'o',label = 'churn new')\n",
    "plt.legend()\n",
    "ax = plt.ylim(0.05,0.6)"
   ]
  },
  {
   "cell_type": "code",
   "execution_count": null,
   "id": "97d0e1e7",
   "metadata": {},
   "outputs": [],
   "source": [
    "churn_distr[churn_distr['state'] == 'CA']['mean'].plot(marker = 'o',label = 'churn original')\n",
    "churn_distr_short[churn_distr_short['state'] == 'CA']['mean'].plot(marker = 'o',label = 'churn new')\n",
    "plt.legend()\n",
    "ax = plt.ylim(0.05,0.6)"
   ]
  },
  {
   "cell_type": "code",
   "execution_count": null,
   "id": "377d2d75",
   "metadata": {},
   "outputs": [],
   "source": [
    "churn_distr[churn_distr['state'] == 'CO']['50%'].plot(marker = 'o',label = 'churn original')\n",
    "churn_distr_short[churn_distr_short['state'] == 'CO']['50%'].plot(marker = 'o',label = 'churn new')\n",
    "plt.legend()\n",
    "ax = plt.ylim(0.05,0.6)"
   ]
  },
  {
   "cell_type": "code",
   "execution_count": null,
   "id": "1e88e37d",
   "metadata": {},
   "outputs": [],
   "source": [
    "churn_distr[churn_distr['state'] == 'CO']['mean'].plot(marker = 'o',label = 'churn original')\n",
    "churn_distr_short[churn_distr_short['state'] == 'CO']['mean'].plot(marker = 'o',label = 'churn new')\n",
    "plt.legend()\n",
    "ax = plt.ylim(0.05,0.6)"
   ]
  },
  {
   "cell_type": "markdown",
   "id": "ee39347c",
   "metadata": {},
   "source": [
    "# Qualification rate"
   ]
  },
  {
   "cell_type": "code",
   "execution_count": null,
   "id": "713bda58",
   "metadata": {},
   "outputs": [],
   "source": [
    "df_clients = [\n",
    "'DL',\n",
    "'DW',\n",
    "'EMA',\n",
    "'EMM',\n",
    "'EMT',\n",
    "'EMF',\n",
    "'ST',\n",
    "'GRG',\n",
    "'EL',\n",
    "'VS',\n",
    "'TT',\n",
    "'MD',\n",
    "'DWF',\n",
    "'GHC',\n",
    "'SV',\n",
    "'99HT'\n",
    "]"
   ]
  },
  {
   "cell_type": "code",
   "execution_count": null,
   "id": "23f9c42b",
   "metadata": {},
   "outputs": [],
   "source": [
    "churn_joined_client = churn_joined[churn_joined['company_identifier'].isin(df_clients)]"
   ]
  },
  {
   "cell_type": "code",
   "execution_count": null,
   "id": "164980da",
   "metadata": {},
   "outputs": [],
   "source": [
    "churn_joined_client"
   ]
  },
  {
   "cell_type": "code",
   "execution_count": null,
   "id": "8fa8d3e6",
   "metadata": {},
   "outputs": [],
   "source": [
    "# distribution of margin short for current df clients\n",
    "churn_distr_short_df = churn_joined_client.groupby(['state','year_month'])['churn_new'].describe().reset_index()\n",
    "churn_distr_short_df['year_month'] = pd.to_datetime(churn_distr_short_df['year_month'])\n",
    "churn_distr_short_df.index = churn_distr_short_df.year_month\n",
    "\n",
    "\n",
    "# distribution of margin orig for current df clients\n",
    "churn_distr_df = churn_joined_client.groupby(['state','year_month'])['churn_orig'].describe().reset_index()\n",
    "churn_distr_df['year_month'] = pd.to_datetime(churn_distr_df['year_month'])\n",
    "churn_distr_df.index = churn_distr_df.year_month\n",
    "\n"
   ]
  },
  {
   "cell_type": "code",
   "execution_count": null,
   "id": "527562ea",
   "metadata": {},
   "outputs": [],
   "source": [
    "churn_distr_df[churn_distr_df['state'] == 'CA']['50%'].plot(marker = 'o',label = 'churn original')\n",
    "churn_distr_short_df[churn_distr_short_df['state'] == 'CA']['50%'].plot(marker = 'o',label = 'churn new')\n",
    "plt.legend()\n",
    "ax = plt.ylim(0.05,0.3)"
   ]
  },
  {
   "cell_type": "code",
   "execution_count": null,
   "id": "23793f0f",
   "metadata": {},
   "outputs": [],
   "source": [
    "churn_distr_df[churn_distr_df['state'] == 'CA']['mean'].plot(marker = 'o',label = 'churn original')\n",
    "churn_distr_short_df[churn_distr_short_df['state'] == 'CA']['mean'].plot(marker = 'o',label = 'churn new')\n",
    "plt.legend()\n",
    "ax = plt.ylim(0.05,0.3)"
   ]
  },
  {
   "cell_type": "code",
   "execution_count": null,
   "id": "99743838",
   "metadata": {},
   "outputs": [],
   "source": [
    "churn_distr_df[churn_distr_df['state'] == 'CA']"
   ]
  },
  {
   "cell_type": "code",
   "execution_count": null,
   "id": "3c1d81b4",
   "metadata": {},
   "outputs": [],
   "source": [
    "churn_distr_short_df[churn_distr_short_df['state'] == 'CA']"
   ]
  },
  {
   "cell_type": "code",
   "execution_count": null,
   "id": "99b88da3",
   "metadata": {},
   "outputs": [],
   "source": [
    "churn_distr_df[churn_distr_df['state'] == 'CO']"
   ]
  },
  {
   "cell_type": "code",
   "execution_count": null,
   "id": "296c0ed1",
   "metadata": {},
   "outputs": [],
   "source": [
    "churn_distr_short_df[churn_distr_short_df['state'] == 'CO']"
   ]
  },
  {
   "cell_type": "code",
   "execution_count": null,
   "id": "3d46ed91",
   "metadata": {},
   "outputs": [],
   "source": [
    "churn_distr_df[churn_distr_df['state'] == 'CO']['50%'].plot(marker = 'o',label = 'churn original')\n",
    "churn_distr_short_df[churn_distr_short_df['state'] == 'CO']['50%'].plot(marker = 'o',label = 'churn new')\n",
    "plt.legend()\n",
    "ax = plt.ylim(0,0.3)"
   ]
  },
  {
   "cell_type": "code",
   "execution_count": null,
   "id": "ac713933",
   "metadata": {},
   "outputs": [],
   "source": [
    "churn_distr_df[churn_distr_df['state'] == 'CO']['mean'].plot(marker = 'o',label = 'churn original')\n",
    "churn_distr_short_df[churn_distr_short_df['state'] == 'CO']['mean'].plot(marker = 'o',label = 'churn new')\n",
    "plt.legend()\n",
    "ax = plt.ylim(0,0.3)"
   ]
  },
  {
   "cell_type": "code",
   "execution_count": null,
   "id": "e78ed554",
   "metadata": {},
   "outputs": [],
   "source": [
    "def calculate_monthly_qualification(data):\n",
    "    q_df = {}\n",
    "    nq_df = {}\n",
    "    new_q_df = {}\n",
    "    new_nq_df = {}\n",
    "    \n",
    "    q_2_nq_df = {}\n",
    "    nq_2_q_df = {}\n",
    "    for m in ['2021-09-01','2021-10-01','2021-11-01',\\\n",
    "             '2021-12-01','2022-01-01','2022-02-01']:\n",
    "        \n",
    "        d = data[data['year_month'] == m]\n",
    "        qualify_list = d[d['churn_orig'] < 0.45]['company'].unique()\n",
    "        non_qualify_list = d[d['churn_orig'] >= 0.45]['company'].unique()\n",
    "        new_qualify_list = d[d['churn_new'] < 0.45]['company'].unique()\n",
    "        new_non_qualify_list = d[d['churn_new'] >= 0.45]['company'].unique()\n",
    "        \n",
    "        q_df[m] = qualify_list\n",
    "        nq_df[m] = non_qualify_list\n",
    "        new_q_df[m] = new_qualify_list\n",
    "        new_nq_df[m] = new_non_qualify_list\n",
    "        \n",
    "        q_2_nq = set(qualify_list) - set(new_qualify_list)\n",
    "        nq_2_q = set(non_qualify_list) - set(new_non_qualify_list)\n",
    "        \n",
    "        q_2_nq_df[m] = q_2_nq\n",
    "        nq_2_q_df[m] = nq_2_q\n",
    "    return q_df,nq_df,new_q_df,new_nq_df,q_2_nq_df,nq_2_q"
   ]
  },
  {
   "cell_type": "code",
   "execution_count": null,
   "id": "d6b5a0b9",
   "metadata": {},
   "outputs": [],
   "source": [
    "q,nq,new_q,new_nq,q_2_nq_data,nq_2_q_data = calculate_monthly_qualification(churn_joined_client)"
   ]
  },
  {
   "cell_type": "code",
   "execution_count": null,
   "id": "3b1500bd",
   "metadata": {},
   "outputs": [],
   "source": [
    "pd.DataFrame(dict([ (k,pd.Series(v)) for k,v in q.items() ])).T"
   ]
  },
  {
   "cell_type": "code",
   "execution_count": null,
   "id": "ed0ab353",
   "metadata": {},
   "outputs": [],
   "source": [
    "pd.DataFrame(dict([ (k,pd.Series(v)) for k,v in nq.items() ])).T"
   ]
  },
  {
   "cell_type": "code",
   "execution_count": null,
   "id": "cc4e70a8",
   "metadata": {},
   "outputs": [],
   "source": [
    "pd.DataFrame(dict([ (k,pd.Series(v)) for k,v in new_q.items() ])).T"
   ]
  },
  {
   "cell_type": "code",
   "execution_count": null,
   "id": "6f07621a",
   "metadata": {},
   "outputs": [],
   "source": [
    "pd.DataFrame(dict([ (k,pd.Series(v)) for k,v in new_nq.items() ])).T"
   ]
  },
  {
   "cell_type": "code",
   "execution_count": null,
   "id": "983e9f08",
   "metadata": {},
   "outputs": [],
   "source": []
  }
 ],
 "metadata": {
  "kernelspec": {
   "display_name": "Python 3",
   "language": "python",
   "name": "python3"
  },
  "language_info": {
   "codemirror_mode": {
    "name": "ipython",
    "version": 3
   },
   "file_extension": ".py",
   "mimetype": "text/x-python",
   "name": "python",
   "nbconvert_exporter": "python",
   "pygments_lexer": "ipython3",
   "version": "3.8.10"
  }
 },
 "nbformat": 4,
 "nbformat_minor": 5
}
