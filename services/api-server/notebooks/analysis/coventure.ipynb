{
 "cells": [
  {
   "cell_type": "code",
   "execution_count": 1,
   "id": "37bdd7c3",
   "metadata": {},
   "outputs": [],
   "source": [
    "import warnings\n",
    "warnings.filterwarnings('ignore')"
   ]
  },
  {
   "cell_type": "code",
   "execution_count": 2,
   "id": "11564057",
   "metadata": {},
   "outputs": [],
   "source": [
    "import json\n",
    "import numpy \n",
    "import os\n",
    "import pandas as pd\n",
    "import matplotlib.pyplot as plt\n",
    "%matplotlib inline  \n",
    "import pyarrow\n",
    "import sys\n",
    "from tqdm import tqdm\n",
    "\n",
    "from datetime import date\n",
    "from dotenv import load_dotenv\n",
    "from sqlalchemy import create_engine\n",
    "from os import path\n",
    "from typing import List,Dict, Tuple\n",
    "from collections import defaultdict\n",
    "pd.set_option(\"display.max_columns\", None)\n",
    "\n",
    "load_dotenv(verbose=True)\n",
    "BIGQUERY_CREDENTIALS_PATH = os.environ.get('BIGQUERY_CREDENTIALS_PATH')\n",
    "engine = create_engine('bigquery://bespoke-financial/ProdMetrcData', credentials_path=os.path.expanduser(BIGQUERY_CREDENTIALS_PATH))\n",
    "\n",
    "sys.path.append(path.realpath(path.join(os.getcwd(), \"../core\")))\n",
    "sys.path.append(path.realpath(path.join(os.getcwd(), \"../../src\")))\n",
    "sys.path.append(path.realpath(path.join(os.getcwd(), \"../../scripts\")))\n",
    "\n",
    "import create_queries\n",
    "import prepare_data\n",
    "\n",
    "from bespoke.inventory.analysis.shared import download_util, inventory_types\n",
    "from bespoke.inventory.analysis import active_inventory_util as util\n",
    "from bespoke.inventory.analysis import inventory_valuations_util as valuations_util\n",
    "\n",
    "%load_ext autoreload\n",
    "%autoreload 2"
   ]
  },
  {
   "cell_type": "code",
   "execution_count": 3,
   "id": "e4775b82",
   "metadata": {},
   "outputs": [],
   "source": [
    "from underwriting import data_quality_checks"
   ]
  },
  {
   "cell_type": "code",
   "execution_count": 4,
   "id": "7c7111d5",
   "metadata": {},
   "outputs": [],
   "source": [
    "def cogs_analysis(df_in:pd.DataFrame,df_sales:pd.DataFrame,freq: str) -> Tuple[pd.DataFrame,pd.DataFrame]:\n",
    "    df_sales['per_unit'] = df_sales['tx_total_price'] / df_sales['tx_quantity_sold']\n",
    "    # set frequency\n",
    "    if freq == 'monthly':\n",
    "        df_sales['date'] = df_sales['sales_datetime'].dt.strftime(\"%Y-%m\")\n",
    "    elif freq == 'weekly':\n",
    "        df_sales['date'] = df_sales['sales_datetime'].dt.strftime(\"%Y-%W\")\n",
    "        df_sales['week'] = df_sales['sales_datetime'].dt.strftime(\"%W\")\n",
    "    # total # of trxns\n",
    "    s_total_count = df_sales.groupby('date')['tx_total_price'].count()\n",
    "    df_total_count = pd.Series(s_total_count).to_frame()\n",
    "    df_total_count = df_total_count.reset_index()\n",
    "    df_total_count.rename(columns={'tx_total_price':'total_count'}, inplace=True)\n",
    "    # revenue\n",
    "    s_revenue = df_sales.groupby('date')['tx_total_price'].sum()\n",
    "    df_revenue = pd.Series(s_revenue).to_frame()\n",
    "    df_revenue = df_revenue.reset_index()\n",
    "    df_revenue.rename(columns={'tx_total_price': 'revenue'}, inplace=True)\n",
    "\n",
    "    df_in['per_unit_incoming'] = df_in['shipper_wholesale_price'] / df_in['shipped_quantity']\n",
    "    \n",
    "    # per unit price by package id\n",
    "    df_in_price = df_in[df_in['shipper_wholesale_price'].notnull()]\n",
    "    average_incoming_package_id = df_in_price.groupby('package_id')['per_unit_incoming'].mean()\n",
    "    df_avg_incoming_price = pd.Series(average_incoming_package_id).to_frame()\n",
    "    df_avg_incoming_price = df_avg_incoming_price.reset_index()\n",
    "    # per unit price by product name\n",
    "    average_incoming_product = df_in_price.groupby('product_name')['per_unit_incoming'].mean()\n",
    "    df_avg_product = pd.Series(average_incoming_product).to_frame()\n",
    "    df_avg_product = df_avg_product.reset_index()\n",
    "    df_avg_product.rename(columns={'per_unit_incoming':'per_unit_product'}, inplace=True)\n",
    "\n",
    "    # merge with (cogs by package id)\n",
    "    df_cogs_package_id = pd.merge(df_sales, df_avg_incoming_price, left_on='tx_package_id', right_on='package_id', how='left')\n",
    "    df_cogs_package_id['total_incoming'] = df_cogs_package_id['per_unit_incoming'] * df_cogs_package_id['tx_quantity_sold']\n",
    "    df_cogs_package_id.replace([numpy.inf], numpy.nan, inplace=True)\n",
    "    df_cogs_package_id_notnull = df_cogs_package_id[df_cogs_package_id['total_incoming'].notnull()]\n",
    "\n",
    "    # sum cogs by package id\n",
    "    s_cogs = df_cogs_package_id_notnull.groupby('date')['total_incoming'].sum()\n",
    "    df_cogs_id = pd.Series(s_cogs).to_frame()\n",
    "    df_cogs_id = df_cogs_id.reset_index()\n",
    "    # count # of trxn by package id\n",
    "    s_cogs_count = df_cogs_package_id_notnull.groupby('date')['total_incoming'].count()\n",
    "    df_cogs_count = pd.Series(s_cogs_count).to_frame()\n",
    "    df_cogs_count = df_cogs_count.reset_index()\n",
    "    df_cogs_count.rename(columns={'total_incoming':'count_incoming'}, inplace=True)\n",
    "    \n",
    "    # merge with (cogs by product name)\n",
    "    df_cogs_average_product = pd.merge(df_cogs_package_id, df_avg_product, left_on='tx_product_name', right_on='product_name', how='left')\n",
    "    df_cogs_average_product['total_product'] = df_cogs_average_product['tx_quantity_sold'] * df_cogs_average_product['per_unit_product']\n",
    "    df_cogs_null = df_cogs_average_product[df_cogs_average_product['per_unit_incoming'].isnull()]\n",
    "    df_cogs_product = df_cogs_null[df_cogs_null['per_unit_product'].notnull()]\n",
    "    # sum cogs filldown by product name\n",
    "    product_sum = df_cogs_product.groupby('date')['total_product'].sum()\n",
    "    df_product_sum = pd.Series(product_sum).to_frame()\n",
    "    df_product_sum = df_product_sum.reset_index()\n",
    "    df_product_sum.rename(columns={'total_product':'product_sum'}, inplace=True)\n",
    "    # count # of trxn filldown by product name\n",
    "    product_count = df_cogs_product.groupby('date')['total_product'].count()\n",
    "    df_product_count = pd.Series(product_count).to_frame()\n",
    "    df_product_count = df_product_count.reset_index()\n",
    "    df_product_count.rename(columns={'total_product':'product_count'}, inplace=True)\n",
    "    df_cogs_product_df = pd.merge(df_product_sum, df_product_count)\n",
    "    \n",
    "    # prepare summary\n",
    "    df_summary = pd.merge(df_revenue, df_cogs_product_df, how='left')\n",
    "    df_summary = pd.merge(df_summary, df_cogs_id, how='left')\n",
    "    df_summary['product_sum'] = df_summary['product_sum'].fillna(0)\n",
    "    df_summary['product_count'] = df_summary['product_count'].fillna(0)\n",
    "    # total cogs = by product id cogs + by product name cogs\n",
    "    df_summary['cogs'] = df_summary['total_incoming'] + df_summary['product_sum']\n",
    "    df_summary = pd.merge(df_summary, df_cogs_count)\n",
    "    df_summary = pd.merge(df_summary, df_total_count)\n",
    "    # total count = by package id count + by product count\n",
    "    df_summary['total_count_incoming'] = df_summary['count_incoming'] + df_summary['product_count']\n",
    "    df_summary['margin_$'] = df_summary['revenue'] - df_summary['cogs']\n",
    "    df_summary['margin_%'] = df_summary['margin_$'] / df_summary['revenue']\n",
    "    df_summary['coverage'] = df_summary['total_count_incoming'] / df_summary['total_count']\n",
    "    df_summary_simp = df_summary[['date', 'revenue', 'cogs', 'margin_$', 'margin_%', 'total_count_incoming','product_count','count_incoming', 'coverage']]\n",
    "    \n",
    "    return df_summary_simp,df_cogs_average_product\n",
    "\n",
    "\n"
   ]
  },
  {
   "cell_type": "code",
   "execution_count": 5,
   "id": "f5c6a7fd",
   "metadata": {},
   "outputs": [],
   "source": [
    "TRANSFER_PACKAGES_START_DATE = '2020-01-01'\n",
    "SALES_TRANSACTIONS_START_DATE = '2020-01-01'\n",
    "#CURRENT_MONTH = '2022-02'"
   ]
  },
  {
   "cell_type": "code",
   "execution_count": 6,
   "id": "833eb4ca",
   "metadata": {},
   "outputs": [],
   "source": [
    "ca_df = pd.read_csv('all_retailer_company.csv',index_col = 0)\n",
    "ca_df.columns = ['company_name','company_identifier','state','licenses']\n",
    "ca_df['company_identifier'] = ca_df['company_identifier'].astype(str)"
   ]
  },
  {
   "cell_type": "code",
   "execution_count": 7,
   "id": "d30959d7",
   "metadata": {},
   "outputs": [
    {
     "data": {
      "text/plain": [
       "(62, 4)"
      ]
     },
     "execution_count": 7,
     "metadata": {},
     "output_type": "execute_result"
    }
   ],
   "source": [
    "ca_df_clean = ca_df[~ca_df['company_identifier'].isin(['PL','WHT','GF','UR'])]\n",
    "ca_df_clean.shape"
   ]
  },
  {
   "cell_type": "code",
   "execution_count": 8,
   "id": "f1c97315",
   "metadata": {},
   "outputs": [
    {
     "data": {
      "text/plain": [
       "62"
      ]
     },
     "execution_count": 8,
     "metadata": {},
     "output_type": "execute_result"
    }
   ],
   "source": [
    "len(ca_df_clean['company_identifier'].unique())"
   ]
  },
  {
   "cell_type": "code",
   "execution_count": 9,
   "id": "b1361ccf",
   "metadata": {},
   "outputs": [],
   "source": [
    "ca_df_clean['lic_list'] = [list(ca_df_clean['licenses'])[i].split(\";\") for i in range(len(ca_df_clean))]"
   ]
  },
  {
   "cell_type": "code",
   "execution_count": 10,
   "id": "f09b1484",
   "metadata": {},
   "outputs": [
    {
     "data": {
      "text/html": [
       "<div>\n",
       "<style scoped>\n",
       "    .dataframe tbody tr th:only-of-type {\n",
       "        vertical-align: middle;\n",
       "    }\n",
       "\n",
       "    .dataframe tbody tr th {\n",
       "        vertical-align: top;\n",
       "    }\n",
       "\n",
       "    .dataframe thead th {\n",
       "        text-align: right;\n",
       "    }\n",
       "</style>\n",
       "<table border=\"1\" class=\"dataframe\">\n",
       "  <thead>\n",
       "    <tr style=\"text-align: right;\">\n",
       "      <th></th>\n",
       "      <th>company_name</th>\n",
       "      <th>company_identifier</th>\n",
       "      <th>state</th>\n",
       "      <th>licenses</th>\n",
       "      <th>lic_list</th>\n",
       "    </tr>\n",
       "  </thead>\n",
       "  <tbody>\n",
       "    <tr>\n",
       "      <th>0</th>\n",
       "      <td>99 High Tide</td>\n",
       "      <td>99HT</td>\n",
       "      <td>CA</td>\n",
       "      <td>C10-0000279-LIC</td>\n",
       "      <td>[C10-0000279-LIC]</td>\n",
       "    </tr>\n",
       "    <tr>\n",
       "      <th>1</th>\n",
       "      <td>Altum LLC</td>\n",
       "      <td>ALT</td>\n",
       "      <td>MI</td>\n",
       "      <td>PC-000310;AU-R-000380</td>\n",
       "      <td>[PC-000310, AU-R-000380]</td>\n",
       "    </tr>\n",
       "    <tr>\n",
       "      <th>2</th>\n",
       "      <td>Bella Sol</td>\n",
       "      <td>BS</td>\n",
       "      <td>MI</td>\n",
       "      <td>PC-000185;AU-R-000156</td>\n",
       "      <td>[PC-000185, AU-R-000156]</td>\n",
       "    </tr>\n",
       "    <tr>\n",
       "      <th>3</th>\n",
       "      <td>Big Medicine Cannabissary</td>\n",
       "      <td>BMC</td>\n",
       "      <td>CO</td>\n",
       "      <td>402-00930</td>\n",
       "      <td>[402-00930]</td>\n",
       "    </tr>\n",
       "    <tr>\n",
       "      <th>4</th>\n",
       "      <td>Boston Bud Factory</td>\n",
       "      <td>BBF</td>\n",
       "      <td>MA</td>\n",
       "      <td>MR281525</td>\n",
       "      <td>[MR281525]</td>\n",
       "    </tr>\n",
       "  </tbody>\n",
       "</table>\n",
       "</div>"
      ],
      "text/plain": [
       "                company_name company_identifier state               licenses  \\\n",
       "0               99 High Tide               99HT    CA        C10-0000279-LIC   \n",
       "1                  Altum LLC                ALT    MI  PC-000310;AU-R-000380   \n",
       "2                  Bella Sol                 BS    MI  PC-000185;AU-R-000156   \n",
       "3  Big Medicine Cannabissary                BMC    CO              402-00930   \n",
       "4         Boston Bud Factory                BBF    MA               MR281525   \n",
       "\n",
       "                   lic_list  \n",
       "0         [C10-0000279-LIC]  \n",
       "1  [PC-000310, AU-R-000380]  \n",
       "2  [PC-000185, AU-R-000156]  \n",
       "3               [402-00930]  \n",
       "4                [MR281525]  "
      ]
     },
     "execution_count": 10,
     "metadata": {},
     "output_type": "execute_result"
    }
   ],
   "source": [
    "ca_df_clean.head()"
   ]
  },
  {
   "cell_type": "code",
   "execution_count": 11,
   "id": "7db61d12",
   "metadata": {},
   "outputs": [],
   "source": [
    "def read_df_in(COMPANY_IDENTIFIER,license_numbers):\n",
    "    company_incoming_transfer_packages_query = create_queries.create_company_incoming_transfer_packages_query(\n",
    "    COMPANY_IDENTIFIER,\n",
    "    TRANSFER_PACKAGES_START_DATE,\n",
    "    license_numbers=license_numbers,\n",
    "    )\n",
    "    company_incoming_transfer_packages_dataframe = pd.read_sql_query(company_incoming_transfer_packages_query, engine)\n",
    "    return company_incoming_transfer_packages_dataframe\n"
   ]
  },
  {
   "cell_type": "code",
   "execution_count": 12,
   "id": "617c622d",
   "metadata": {},
   "outputs": [],
   "source": [
    "def read_df_sales(COMPANY_IDENTIFIER,license_numbers):\n",
    "    query = create_queries.create_company_sales_receipts_with_transactions_query(\n",
    "    COMPANY_IDENTIFIER,\n",
    "    SALES_TRANSACTIONS_START_DATE,\n",
    "    license_numbers=license_numbers,\n",
    "    )\n",
    "    company_sales_receipts_with_transactions_dataframe = pd.read_sql_query(query, engine)\n",
    "    deduped_sales_receipts_with_transactions_dataframe = prepare_data.dedupe_sales_transactions(company_sales_receipts_with_transactions_dataframe)\n",
    "    deduped_sales_receipts_with_transactions_dataframe['sales_datetime'] = pd.to_datetime(deduped_sales_receipts_with_transactions_dataframe['sales_datetime'])\n",
    "    deduped_sales_receipts_with_transactions_dataframe['sales_month'] = deduped_sales_receipts_with_transactions_dataframe['sales_datetime'].dt.strftime('%Y-%m')\n",
    "    return deduped_sales_receipts_with_transactions_dataframe\n"
   ]
  },
  {
   "cell_type": "code",
   "execution_count": 13,
   "id": "847b36cf",
   "metadata": {},
   "outputs": [],
   "source": [
    "def get_cogs_list(company_list,transfer_packages_start_date,sales_transactrions_start_date,map_df):\n",
    "    cogs_df_list = {}\n",
    "    for c in tqdm(company_list):\n",
    "        df_summary_simp_list = {}\n",
    "        print(c)\n",
    "        l_list = map_df[map_df['company_identifier'] == c]['lic_list'].to_list()[0]\n",
    "        for l in tqdm(l_list):\n",
    "            print(l)\n",
    "            df_in = read_df_in([c],[l])\n",
    "            df_sales = read_df_sales([c],[l])\n",
    "            df_in['per_unit_incoming'] = df_in['shipper_wholesale_price'] / df_in['shipped_quantity']\n",
    "            df_in = df_in[df_in['per_unit_incoming'] <= 10000]\n",
    "            df_summary_simp,df_cogs_average_product = cogs_analysis(df_in,df_sales,'monthly')\n",
    "            df_summary_simp.index = df_summary_simp.date \n",
    "            # tax treatment\n",
    "            df_summary_simp['revenue_after_tax'] = df_summary_simp['revenue'] * 1.15\n",
    "            df_summary_simp['cogs_after_tax'] = df_summary_simp['cogs'] * 1.27\n",
    "            df_summary_simp['margin_$_after_tax'] = df_summary_simp['revenue_after_tax'] - df_summary_simp['cogs_after_tax']\n",
    "            df_summary_simp['margin_%_after_tax'] = df_summary_simp['margin_$_after_tax'] / df_summary_simp['revenue_after_tax']\n",
    "\n",
    "            df_summary_simp['gm_past_quarter'] = df_summary_simp[['margin_%']].rolling(3).mean().values\n",
    "            df_summary_simp['gm_past_2quarters'] = df_summary_simp[['margin_%']].rolling(6).mean().values\n",
    "            df_summary_simp['gm_past_3quarters'] = df_summary_simp[['margin_%']].rolling(9).mean().values\n",
    "            \n",
    "            #rolling gm %\n",
    "            df_summary_simp['gm_past_quarter_after_tax'] = df_summary_simp[['margin_%_after_tax']].rolling(3).mean().values\n",
    "            df_summary_simp['gm_past_2quarters_after_tax'] = df_summary_simp[['margin_%_after_tax']].rolling(6).mean().values\n",
    "            df_summary_simp['gm_past_3quarters_after_tax'] = df_summary_simp[['margin_%_after_tax']].rolling(9).mean().values\n",
    "\n",
    "            #rolling gm $\n",
    "            df_summary_simp['gm$_past_quarter_after_tax'] = df_summary_simp[['margin_$_after_tax']].rolling(3).mean().values\n",
    "            df_summary_simp['gm$_past_2quarters_after_tax'] = df_summary_simp[['margin_$_after_tax']].rolling(6).mean().values\n",
    "            df_summary_simp['gm$_past_3quarters_after_tax'] = df_summary_simp[['margin_$_after_tax']].rolling(9).mean().values\n",
    "            df_summary_simp_list[l] = df_summary_simp\n",
    "        cogs_df_list[c] =  df_summary_simp_list\n",
    "    return cogs_df_list\n",
    "\n",
    "    \n",
    "\n",
    "    "
   ]
  },
  {
   "cell_type": "code",
   "execution_count": null,
   "id": "628f4610",
   "metadata": {},
   "outputs": [],
   "source": [
    "#list(ca_df_clean['company_identifier'])[0:3]"
   ]
  },
  {
   "cell_type": "markdown",
   "id": "e761d5fc",
   "metadata": {},
   "source": [
    "# cogs & coverage"
   ]
  },
  {
   "cell_type": "code",
   "execution_count": 14,
   "id": "38a33dd0",
   "metadata": {
    "scrolled": true
   },
   "outputs": [
    {
     "name": "stderr",
     "output_type": "stream",
     "text": [
      "\r",
      "  0%|          | 0/62 [00:00<?, ?it/s]"
     ]
    },
    {
     "name": "stdout",
     "output_type": "stream",
     "text": [
      "99HT\n"
     ]
    },
    {
     "name": "stderr",
     "output_type": "stream",
     "text": [
      "\n",
      "  0%|          | 0/1 [00:00<?, ?it/s]\u001b[A"
     ]
    },
    {
     "name": "stdout",
     "output_type": "stream",
     "text": [
      "C10-0000279-LIC\n"
     ]
    },
    {
     "name": "stderr",
     "output_type": "stream",
     "text": [
      "\n",
      "100%|██████████| 1/1 [00:06<00:00,  6.40s/it]\u001b[A\n",
      "  2%|▏         | 1/62 [00:06<06:30,  6.41s/it]"
     ]
    },
    {
     "name": "stdout",
     "output_type": "stream",
     "text": [
      "ALT\n"
     ]
    },
    {
     "name": "stderr",
     "output_type": "stream",
     "text": [
      "\n",
      "  0%|          | 0/2 [00:00<?, ?it/s]\u001b[A"
     ]
    },
    {
     "name": "stdout",
     "output_type": "stream",
     "text": [
      "PC-000310\n"
     ]
    },
    {
     "name": "stderr",
     "output_type": "stream",
     "text": [
      "\n",
      " 50%|█████     | 1/2 [00:02<00:02,  2.27s/it]\u001b[A"
     ]
    },
    {
     "name": "stdout",
     "output_type": "stream",
     "text": [
      "AU-R-000380\n"
     ]
    },
    {
     "name": "stderr",
     "output_type": "stream",
     "text": [
      "\n",
      "100%|██████████| 2/2 [00:07<00:00,  3.81s/it]\u001b[A\n",
      "  3%|▎         | 2/62 [00:14<07:06,  7.12s/it]"
     ]
    },
    {
     "name": "stdout",
     "output_type": "stream",
     "text": [
      "BS\n"
     ]
    },
    {
     "name": "stderr",
     "output_type": "stream",
     "text": [
      "\n",
      "  0%|          | 0/2 [00:00<?, ?it/s]\u001b[A"
     ]
    },
    {
     "name": "stdout",
     "output_type": "stream",
     "text": [
      "PC-000185\n"
     ]
    },
    {
     "name": "stderr",
     "output_type": "stream",
     "text": [
      "\n",
      " 50%|█████     | 1/2 [00:03<00:03,  3.38s/it]\u001b[A"
     ]
    },
    {
     "name": "stdout",
     "output_type": "stream",
     "text": [
      "AU-R-000156\n"
     ]
    },
    {
     "name": "stderr",
     "output_type": "stream",
     "text": [
      "\n",
      "100%|██████████| 2/2 [00:08<00:00,  4.22s/it]\u001b[A\n",
      "  5%|▍         | 3/62 [00:22<07:35,  7.72s/it]"
     ]
    },
    {
     "name": "stdout",
     "output_type": "stream",
     "text": [
      "BMC\n"
     ]
    },
    {
     "name": "stderr",
     "output_type": "stream",
     "text": [
      "\n",
      "  0%|          | 0/1 [00:00<?, ?it/s]\u001b[A"
     ]
    },
    {
     "name": "stdout",
     "output_type": "stream",
     "text": [
      "402-00930\n"
     ]
    },
    {
     "name": "stderr",
     "output_type": "stream",
     "text": [
      "\n",
      "100%|██████████| 1/1 [00:07<00:00,  7.04s/it]\u001b[A\n",
      "  6%|▋         | 4/62 [00:29<07:12,  7.45s/it]"
     ]
    },
    {
     "name": "stdout",
     "output_type": "stream",
     "text": [
      "BBF\n"
     ]
    },
    {
     "name": "stderr",
     "output_type": "stream",
     "text": [
      "\n",
      "  0%|          | 0/1 [00:00<?, ?it/s]\u001b[A"
     ]
    },
    {
     "name": "stdout",
     "output_type": "stream",
     "text": [
      "MR281525\n"
     ]
    },
    {
     "name": "stderr",
     "output_type": "stream",
     "text": [
      "\n",
      "100%|██████████| 1/1 [00:07<00:00,  7.28s/it]\u001b[A\n",
      "  8%|▊         | 5/62 [00:36<07:01,  7.39s/it]"
     ]
    },
    {
     "name": "stdout",
     "output_type": "stream",
     "text": [
      "BUD\n"
     ]
    },
    {
     "name": "stderr",
     "output_type": "stream",
     "text": [
      "\n",
      "  0%|          | 0/5 [00:00<?, ?it/s]\u001b[A"
     ]
    },
    {
     "name": "stdout",
     "output_type": "stream",
     "text": [
      "C9-0000464-LIC\n"
     ]
    },
    {
     "name": "stderr",
     "output_type": "stream",
     "text": [
      "\n",
      " 20%|██        | 1/5 [00:07<00:31,  7.86s/it]\u001b[A"
     ]
    },
    {
     "name": "stdout",
     "output_type": "stream",
     "text": [
      "C9-0000467-LIC\n"
     ]
    },
    {
     "name": "stderr",
     "output_type": "stream",
     "text": [
      "\n",
      " 40%|████      | 2/5 [00:15<00:22,  7.49s/it]\u001b[A"
     ]
    },
    {
     "name": "stdout",
     "output_type": "stream",
     "text": [
      "C9-0000444-LIC\n"
     ]
    },
    {
     "name": "stderr",
     "output_type": "stream",
     "text": [
      "\n",
      " 60%|██████    | 3/5 [00:22<00:14,  7.27s/it]\u001b[A"
     ]
    },
    {
     "name": "stdout",
     "output_type": "stream",
     "text": [
      "C9-0000167-LIC\n"
     ]
    },
    {
     "name": "stderr",
     "output_type": "stream",
     "text": [
      "\n",
      " 80%|████████  | 4/5 [00:33<00:08,  8.80s/it]\u001b[A"
     ]
    },
    {
     "name": "stdout",
     "output_type": "stream",
     "text": [
      "C9-0000399-LIC\n"
     ]
    },
    {
     "name": "stderr",
     "output_type": "stream",
     "text": [
      "\n",
      "100%|██████████| 5/5 [00:42<00:00,  8.44s/it]\u001b[A\n",
      " 10%|▉         | 6/62 [01:18<17:56, 19.22s/it]"
     ]
    },
    {
     "name": "stdout",
     "output_type": "stream",
     "text": [
      "CHO\n"
     ]
    },
    {
     "name": "stderr",
     "output_type": "stream",
     "text": [
      "\n",
      "  0%|          | 0/1 [00:00<?, ?it/s]\u001b[A"
     ]
    },
    {
     "name": "stdout",
     "output_type": "stream",
     "text": [
      "AU-R-000575\n"
     ]
    },
    {
     "name": "stderr",
     "output_type": "stream",
     "text": [
      "\n",
      "100%|██████████| 1/1 [00:11<00:00, 11.31s/it]\u001b[A\n",
      " 11%|█▏        | 7/62 [01:30<15:14, 16.63s/it]"
     ]
    },
    {
     "name": "stdout",
     "output_type": "stream",
     "text": [
      "CG\n"
     ]
    },
    {
     "name": "stderr",
     "output_type": "stream",
     "text": [
      "\n",
      "  0%|          | 0/1 [00:00<?, ?it/s]\u001b[A"
     ]
    },
    {
     "name": "stdout",
     "output_type": "stream",
     "text": [
      "C9-0000157-LIC\n"
     ]
    },
    {
     "name": "stderr",
     "output_type": "stream",
     "text": [
      "\n",
      "100%|██████████| 1/1 [00:08<00:00,  8.80s/it]\u001b[A\n",
      " 13%|█▎        | 8/62 [01:39<12:43, 14.14s/it]"
     ]
    },
    {
     "name": "stdout",
     "output_type": "stream",
     "text": [
      "CPA\n"
     ]
    },
    {
     "name": "stderr",
     "output_type": "stream",
     "text": [
      "\n",
      "  0%|          | 0/2 [00:00<?, ?it/s]\u001b[A"
     ]
    },
    {
     "name": "stdout",
     "output_type": "stream",
     "text": [
      "C10-0000461-LIC\n"
     ]
    },
    {
     "name": "stderr",
     "output_type": "stream",
     "text": [
      "\n",
      " 50%|█████     | 1/2 [00:18<00:18, 18.64s/it]\u001b[A"
     ]
    },
    {
     "name": "stdout",
     "output_type": "stream",
     "text": [
      "C9-0000348-LIC\n"
     ]
    },
    {
     "name": "stderr",
     "output_type": "stream",
     "text": [
      "\n",
      "100%|██████████| 2/2 [00:28<00:00, 14.35s/it]\u001b[A\n",
      " 15%|█▍        | 9/62 [02:07<16:30, 18.69s/it]"
     ]
    },
    {
     "name": "stdout",
     "output_type": "stream",
     "text": [
      "CPC\n"
     ]
    },
    {
     "name": "stderr",
     "output_type": "stream",
     "text": [
      "\n",
      "  0%|          | 0/1 [00:00<?, ?it/s]\u001b[A"
     ]
    },
    {
     "name": "stdout",
     "output_type": "stream",
     "text": [
      "C9-0000056-LIC\n"
     ]
    },
    {
     "name": "stderr",
     "output_type": "stream",
     "text": [
      "\n",
      "100%|██████████| 1/1 [00:08<00:00,  8.63s/it]\u001b[A\n",
      " 16%|█▌        | 10/62 [02:16<13:30, 15.59s/it]"
     ]
    },
    {
     "name": "stdout",
     "output_type": "stream",
     "text": [
      "CSC\n"
     ]
    },
    {
     "name": "stderr",
     "output_type": "stream",
     "text": [
      "\n",
      "  0%|          | 0/2 [00:00<?, ?it/s]\u001b[A"
     ]
    },
    {
     "name": "stdout",
     "output_type": "stream",
     "text": [
      "C10-0000670-LIC\n"
     ]
    },
    {
     "name": "stderr",
     "output_type": "stream",
     "text": [
      "\n",
      " 50%|█████     | 1/2 [00:16<00:16, 16.35s/it]\u001b[A"
     ]
    },
    {
     "name": "stdout",
     "output_type": "stream",
     "text": [
      "C10-0000918-LIC\n"
     ]
    },
    {
     "name": "stderr",
     "output_type": "stream",
     "text": [
      "\n",
      "100%|██████████| 2/2 [00:23<00:00, 11.89s/it]\u001b[A\n",
      " 18%|█▊        | 11/62 [02:40<15:23, 18.10s/it]"
     ]
    },
    {
     "name": "stdout",
     "output_type": "stream",
     "text": [
      "CCC\n"
     ]
    },
    {
     "name": "stderr",
     "output_type": "stream",
     "text": [
      "\n",
      "  0%|          | 0/1 [00:00<?, ?it/s]\u001b[A"
     ]
    },
    {
     "name": "stdout",
     "output_type": "stream",
     "text": [
      "C12-0000087-LIC\n"
     ]
    },
    {
     "name": "stderr",
     "output_type": "stream",
     "text": [
      "\n",
      "100%|██████████| 1/1 [00:18<00:00, 18.79s/it]\u001b[A\n",
      " 19%|█▉        | 12/62 [02:59<15:15, 18.31s/it]"
     ]
    },
    {
     "name": "stdout",
     "output_type": "stream",
     "text": [
      "CC\n"
     ]
    },
    {
     "name": "stderr",
     "output_type": "stream",
     "text": [
      "\n",
      "  0%|          | 0/1 [00:00<?, ?it/s]\u001b[A"
     ]
    },
    {
     "name": "stdout",
     "output_type": "stream",
     "text": [
      "C10-0000758-LIC\n"
     ]
    },
    {
     "name": "stderr",
     "output_type": "stream",
     "text": [
      "\n",
      "100%|██████████| 1/1 [00:07<00:00,  7.18s/it]\u001b[A\n",
      " 21%|██        | 13/62 [03:06<12:12, 14.94s/it]"
     ]
    },
    {
     "name": "stdout",
     "output_type": "stream",
     "text": [
      "DWF\n"
     ]
    },
    {
     "name": "stderr",
     "output_type": "stream",
     "text": [
      "\n",
      "  0%|          | 0/1 [00:00<?, ?it/s]\u001b[A"
     ]
    },
    {
     "name": "stdout",
     "output_type": "stream",
     "text": [
      "402R-00804\n"
     ]
    },
    {
     "name": "stderr",
     "output_type": "stream",
     "text": [
      "\n",
      "100%|██████████| 1/1 [00:09<00:00,  9.74s/it]\u001b[A\n",
      " 23%|██▎       | 14/62 [03:15<10:41, 13.37s/it]"
     ]
    },
    {
     "name": "stdout",
     "output_type": "stream",
     "text": [
      "DCO\n"
     ]
    },
    {
     "name": "stderr",
     "output_type": "stream",
     "text": [
      "\n",
      "  0%|          | 0/2 [00:00<?, ?it/s]\u001b[A"
     ]
    },
    {
     "name": "stdout",
     "output_type": "stream",
     "text": [
      "050-10052885D4C\n"
     ]
    },
    {
     "name": "stderr",
     "output_type": "stream",
     "text": [
      "\n",
      " 50%|█████     | 1/2 [00:11<00:11, 11.13s/it]\u001b[A"
     ]
    },
    {
     "name": "stdout",
     "output_type": "stream",
     "text": [
      "050-10070593E9E\n"
     ]
    },
    {
     "name": "stderr",
     "output_type": "stream",
     "text": [
      "\n",
      "100%|██████████| 2/2 [00:17<00:00,  8.62s/it]\u001b[A\n",
      " 24%|██▍       | 15/62 [03:33<11:23, 14.54s/it]"
     ]
    },
    {
     "name": "stdout",
     "output_type": "stream",
     "text": [
      "DL\n"
     ]
    },
    {
     "name": "stderr",
     "output_type": "stream",
     "text": [
      "\n",
      "  0%|          | 0/1 [00:00<?, ?it/s]\u001b[A"
     ]
    },
    {
     "name": "stdout",
     "output_type": "stream",
     "text": [
      "MR283369\n"
     ]
    },
    {
     "name": "stderr",
     "output_type": "stream",
     "text": [
      "\n",
      "100%|██████████| 1/1 [00:08<00:00,  8.26s/it]\u001b[A\n",
      " 26%|██▌       | 16/62 [03:41<09:41, 12.65s/it]"
     ]
    },
    {
     "name": "stdout",
     "output_type": "stream",
     "text": [
      "DGG\n"
     ]
    },
    {
     "name": "stderr",
     "output_type": "stream",
     "text": [
      "\n",
      "  0%|          | 0/1 [00:00<?, ?it/s]\u001b[A"
     ]
    },
    {
     "name": "stdout",
     "output_type": "stream",
     "text": [
      "C9-0000016-LIC\n"
     ]
    },
    {
     "name": "stderr",
     "output_type": "stream",
     "text": [
      "\n",
      "100%|██████████| 1/1 [00:07<00:00,  7.16s/it]\u001b[A\n",
      " 27%|██▋       | 17/62 [03:48<08:14, 11.00s/it]"
     ]
    },
    {
     "name": "stdout",
     "output_type": "stream",
     "text": [
      "DG\n"
     ]
    },
    {
     "name": "stderr",
     "output_type": "stream",
     "text": [
      "\n",
      "  0%|          | 0/6 [00:00<?, ?it/s]\u001b[A"
     ]
    },
    {
     "name": "stdout",
     "output_type": "stream",
     "text": [
      "PC-000485\n"
     ]
    },
    {
     "name": "stderr",
     "output_type": "stream",
     "text": [
      "\n",
      " 17%|█▋        | 1/6 [00:06<00:31,  6.25s/it]\u001b[A"
     ]
    },
    {
     "name": "stdout",
     "output_type": "stream",
     "text": [
      "AU-R-000287\n"
     ]
    },
    {
     "name": "stderr",
     "output_type": "stream",
     "text": [
      "\n",
      " 33%|███▎      | 2/6 [00:18<00:38,  9.75s/it]\u001b[A"
     ]
    },
    {
     "name": "stdout",
     "output_type": "stream",
     "text": [
      "AU-R-000359\n"
     ]
    },
    {
     "name": "stderr",
     "output_type": "stream",
     "text": [
      "\n",
      " 50%|█████     | 3/6 [00:26<00:27,  9.01s/it]\u001b[A"
     ]
    },
    {
     "name": "stdout",
     "output_type": "stream",
     "text": [
      "AU-R-000422\n"
     ]
    },
    {
     "name": "stderr",
     "output_type": "stream",
     "text": [
      "\n",
      " 67%|██████▋   | 4/6 [00:42<00:23, 11.67s/it]\u001b[A"
     ]
    },
    {
     "name": "stdout",
     "output_type": "stream",
     "text": [
      "AU-R-000470\n"
     ]
    },
    {
     "name": "stderr",
     "output_type": "stream",
     "text": [
      "\n",
      " 83%|████████▎ | 5/6 [00:49<00:10, 10.16s/it]\u001b[A"
     ]
    },
    {
     "name": "stdout",
     "output_type": "stream",
     "text": [
      "AU-R-000572\n"
     ]
    },
    {
     "name": "stderr",
     "output_type": "stream",
     "text": [
      "\n",
      "100%|██████████| 6/6 [00:56<00:00,  9.40s/it]\u001b[A\n",
      " 29%|██▉       | 18/62 [04:44<18:04, 24.64s/it]"
     ]
    },
    {
     "name": "stdout",
     "output_type": "stream",
     "text": [
      "EL\n"
     ]
    },
    {
     "name": "stderr",
     "output_type": "stream",
     "text": [
      "\n",
      "  0%|          | 0/1 [00:00<?, ?it/s]\u001b[A"
     ]
    },
    {
     "name": "stdout",
     "output_type": "stream",
     "text": [
      "C9-0000370-LIC\n"
     ]
    },
    {
     "name": "stderr",
     "output_type": "stream",
     "text": [
      "\n",
      "100%|██████████| 1/1 [00:06<00:00,  6.58s/it]\u001b[A\n",
      " 31%|███       | 19/62 [04:51<13:46, 19.22s/it]"
     ]
    },
    {
     "name": "stdout",
     "output_type": "stream",
     "text": [
      "EMA\n"
     ]
    },
    {
     "name": "stderr",
     "output_type": "stream",
     "text": [
      "\n",
      "  0%|          | 0/1 [00:00<?, ?it/s]\u001b[A"
     ]
    },
    {
     "name": "stdout",
     "output_type": "stream",
     "text": [
      "C10-0000774-LIC\n"
     ]
    },
    {
     "name": "stderr",
     "output_type": "stream",
     "text": [
      "\n",
      "100%|██████████| 1/1 [00:10<00:00, 10.25s/it]\u001b[A\n",
      " 32%|███▏      | 20/62 [05:01<11:34, 16.52s/it]"
     ]
    },
    {
     "name": "stdout",
     "output_type": "stream",
     "text": [
      "EMF\n"
     ]
    },
    {
     "name": "stderr",
     "output_type": "stream",
     "text": [
      "\n",
      "  0%|          | 0/1 [00:00<?, ?it/s]\u001b[A"
     ]
    },
    {
     "name": "stdout",
     "output_type": "stream",
     "text": [
      "C10-0000939-LIC\n"
     ]
    },
    {
     "name": "stderr",
     "output_type": "stream",
     "text": [
      "\n",
      "100%|██████████| 1/1 [00:06<00:00,  6.43s/it]\u001b[A\n",
      " 34%|███▍      | 21/62 [05:08<09:13, 13.50s/it]"
     ]
    },
    {
     "name": "stdout",
     "output_type": "stream",
     "text": [
      "EMM\n"
     ]
    },
    {
     "name": "stderr",
     "output_type": "stream",
     "text": [
      "\n",
      "  0%|          | 0/1 [00:00<?, ?it/s]\u001b[A"
     ]
    },
    {
     "name": "stdout",
     "output_type": "stream",
     "text": [
      "C10-0000786-LIC\n"
     ]
    },
    {
     "name": "stderr",
     "output_type": "stream",
     "text": [
      "\n",
      "100%|██████████| 1/1 [00:11<00:00, 11.09s/it]\u001b[A\n",
      " 35%|███▌      | 22/62 [05:19<08:30, 12.77s/it]"
     ]
    },
    {
     "name": "stdout",
     "output_type": "stream",
     "text": [
      "EMT\n"
     ]
    },
    {
     "name": "stderr",
     "output_type": "stream",
     "text": [
      "\n",
      "  0%|          | 0/1 [00:00<?, ?it/s]\u001b[A"
     ]
    },
    {
     "name": "stdout",
     "output_type": "stream",
     "text": [
      "C10-0000695-LIC\n"
     ]
    },
    {
     "name": "stderr",
     "output_type": "stream",
     "text": [
      "\n",
      "100%|██████████| 1/1 [00:15<00:00, 15.00s/it]\u001b[A\n",
      " 37%|███▋      | 23/62 [05:34<08:44, 13.44s/it]"
     ]
    },
    {
     "name": "stdout",
     "output_type": "stream",
     "text": [
      "EH\n"
     ]
    },
    {
     "name": "stderr",
     "output_type": "stream",
     "text": [
      "\n",
      "  0%|          | 0/1 [00:00<?, ?it/s]\u001b[A"
     ]
    },
    {
     "name": "stdout",
     "output_type": "stream",
     "text": [
      "MR283073\n"
     ]
    },
    {
     "name": "stderr",
     "output_type": "stream",
     "text": [
      "\n",
      "100%|██████████| 1/1 [00:06<00:00,  6.44s/it]\u001b[A\n",
      " 39%|███▊      | 24/62 [05:40<07:11, 11.34s/it]"
     ]
    },
    {
     "name": "stdout",
     "output_type": "stream",
     "text": [
      "FW\n"
     ]
    },
    {
     "name": "stderr",
     "output_type": "stream",
     "text": [
      "\n",
      "  0%|          | 0/5 [00:00<?, ?it/s]\u001b[A"
     ]
    },
    {
     "name": "stdout",
     "output_type": "stream",
     "text": [
      "402-00558\n"
     ]
    },
    {
     "name": "stderr",
     "output_type": "stream",
     "text": [
      "\n",
      " 20%|██        | 1/5 [00:09<00:36,  9.00s/it]\u001b[A"
     ]
    },
    {
     "name": "stdout",
     "output_type": "stream",
     "text": [
      "402R-00017\n"
     ]
    },
    {
     "name": "stderr",
     "output_type": "stream",
     "text": [
      "\n",
      " 40%|████      | 2/5 [00:31<00:50, 16.77s/it]\u001b[A"
     ]
    },
    {
     "name": "stdout",
     "output_type": "stream",
     "text": [
      "402-00891\n"
     ]
    },
    {
     "name": "stderr",
     "output_type": "stream",
     "text": [
      "\n",
      " 60%|██████    | 3/5 [00:42<00:28, 14.12s/it]\u001b[A"
     ]
    },
    {
     "name": "stdout",
     "output_type": "stream",
     "text": [
      "402R-00020\n"
     ]
    },
    {
     "name": "stderr",
     "output_type": "stream",
     "text": [
      "\n",
      " 80%|████████  | 4/5 [01:12<00:20, 20.50s/it]\u001b[A"
     ]
    },
    {
     "name": "stdout",
     "output_type": "stream",
     "text": [
      "402R-00747\n"
     ]
    },
    {
     "name": "stderr",
     "output_type": "stream",
     "text": [
      "\n",
      "100%|██████████| 5/5 [01:27<00:00, 17.53s/it]\u001b[A\n",
      " 40%|████      | 25/62 [07:08<21:06, 34.24s/it]"
     ]
    },
    {
     "name": "stdout",
     "output_type": "stream",
     "text": [
      "GT\n"
     ]
    },
    {
     "name": "stderr",
     "output_type": "stream",
     "text": [
      "\n",
      "  0%|          | 0/2 [00:00<?, ?it/s]\u001b[A"
     ]
    },
    {
     "name": "stdout",
     "output_type": "stream",
     "text": [
      "C9-0000385-LIC\n"
     ]
    },
    {
     "name": "stderr",
     "output_type": "stream",
     "text": [
      "\n",
      " 50%|█████     | 1/2 [00:10<00:10, 10.57s/it]\u001b[A"
     ]
    },
    {
     "name": "stdout",
     "output_type": "stream",
     "text": [
      "C9-0000170-LIC\n"
     ]
    },
    {
     "name": "stderr",
     "output_type": "stream",
     "text": [
      "\n",
      "100%|██████████| 2/2 [00:16<00:00,  8.48s/it]\u001b[A\n",
      " 42%|████▏     | 26/62 [07:25<17:25, 29.06s/it]"
     ]
    },
    {
     "name": "stdout",
     "output_type": "stream",
     "text": [
      "GLNR\n"
     ]
    },
    {
     "name": "stderr",
     "output_type": "stream",
     "text": [
      "\n",
      "  0%|          | 0/6 [00:00<?, ?it/s]\u001b[A"
     ]
    },
    {
     "name": "stdout",
     "output_type": "stream",
     "text": [
      "PC-000334\n"
     ]
    },
    {
     "name": "stderr",
     "output_type": "stream",
     "text": [
      "\n",
      " 17%|█▋        | 1/6 [00:05<00:27,  5.47s/it]\u001b[A"
     ]
    },
    {
     "name": "stdout",
     "output_type": "stream",
     "text": [
      "PC-000613\n"
     ]
    },
    {
     "name": "stderr",
     "output_type": "stream",
     "text": [
      "\n",
      " 33%|███▎      | 2/6 [00:10<00:19,  4.93s/it]\u001b[A"
     ]
    },
    {
     "name": "stdout",
     "output_type": "stream",
     "text": [
      "PC-000722\n"
     ]
    },
    {
     "name": "stderr",
     "output_type": "stream",
     "text": [
      "\n",
      " 50%|█████     | 3/6 [00:14<00:14,  4.92s/it]\u001b[A"
     ]
    },
    {
     "name": "stdout",
     "output_type": "stream",
     "text": [
      "AU-R-000182\n"
     ]
    },
    {
     "name": "stderr",
     "output_type": "stream",
     "text": [
      "\n",
      " 67%|██████▋   | 4/6 [00:22<00:12,  6.06s/it]\u001b[A"
     ]
    },
    {
     "name": "stdout",
     "output_type": "stream",
     "text": [
      "AU-R-000461\n"
     ]
    },
    {
     "name": "stderr",
     "output_type": "stream",
     "text": [
      "\n",
      " 83%|████████▎ | 5/6 [00:27<00:05,  5.67s/it]\u001b[A"
     ]
    },
    {
     "name": "stdout",
     "output_type": "stream",
     "text": [
      "AU-R-000559\n"
     ]
    },
    {
     "name": "stderr",
     "output_type": "stream",
     "text": [
      "\n",
      "100%|██████████| 6/6 [00:33<00:00,  5.61s/it]\u001b[A\n",
      " 44%|████▎     | 27/62 [07:59<17:45, 30.44s/it]"
     ]
    },
    {
     "name": "stdout",
     "output_type": "stream",
     "text": [
      "GRG\n"
     ]
    },
    {
     "name": "stderr",
     "output_type": "stream",
     "text": [
      "\n",
      "  0%|          | 0/2 [00:00<?, ?it/s]\u001b[A"
     ]
    },
    {
     "name": "stdout",
     "output_type": "stream",
     "text": [
      "C10-0000169-LIC\n"
     ]
    },
    {
     "name": "stderr",
     "output_type": "stream",
     "text": [
      "\n",
      " 50%|█████     | 1/2 [00:25<00:25, 25.46s/it]\u001b[A"
     ]
    },
    {
     "name": "stdout",
     "output_type": "stream",
     "text": [
      "C10-0000408-LIC\n"
     ]
    },
    {
     "name": "stderr",
     "output_type": "stream",
     "text": [
      "\n",
      "100%|██████████| 2/2 [00:37<00:00, 18.98s/it]\u001b[A\n",
      " 45%|████▌     | 28/62 [08:37<18:31, 32.70s/it]"
     ]
    },
    {
     "name": "stdout",
     "output_type": "stream",
     "text": [
      "GTR\n"
     ]
    },
    {
     "name": "stderr",
     "output_type": "stream",
     "text": [
      "\n",
      "  0%|          | 0/2 [00:00<?, ?it/s]\u001b[A"
     ]
    },
    {
     "name": "stdout",
     "output_type": "stream",
     "text": [
      "PC-000225\n"
     ]
    },
    {
     "name": "stderr",
     "output_type": "stream",
     "text": [
      "\n",
      " 50%|█████     | 1/2 [00:07<00:07,  7.77s/it]\u001b[A"
     ]
    },
    {
     "name": "stdout",
     "output_type": "stream",
     "text": [
      "AU-R-000163\n"
     ]
    },
    {
     "name": "stderr",
     "output_type": "stream",
     "text": [
      "\n",
      "100%|██████████| 2/2 [00:28<00:00, 14.05s/it]\u001b[A\n",
      " 47%|████▋     | 29/62 [09:05<17:13, 31.32s/it]"
     ]
    },
    {
     "name": "stdout",
     "output_type": "stream",
     "text": [
      "GHC\n"
     ]
    },
    {
     "name": "stderr",
     "output_type": "stream",
     "text": [
      "\n",
      "  0%|          | 0/1 [00:00<?, ?it/s]\u001b[A"
     ]
    },
    {
     "name": "stdout",
     "output_type": "stream",
     "text": [
      "C10-0000414-LIC\n"
     ]
    },
    {
     "name": "stderr",
     "output_type": "stream",
     "text": [
      "\n",
      "100%|██████████| 1/1 [00:15<00:00, 15.35s/it]\u001b[A\n",
      " 48%|████▊     | 30/62 [09:20<14:08, 26.53s/it]"
     ]
    },
    {
     "name": "stdout",
     "output_type": "stream",
     "text": [
      "HB\n"
     ]
    },
    {
     "name": "stderr",
     "output_type": "stream",
     "text": [
      "\n",
      "  0%|          | 0/3 [00:00<?, ?it/s]\u001b[A"
     ]
    },
    {
     "name": "stdout",
     "output_type": "stream",
     "text": [
      "C10-0000339-LIC\n"
     ]
    },
    {
     "name": "stderr",
     "output_type": "stream",
     "text": [
      "\n",
      " 33%|███▎      | 1/3 [00:23<00:47, 23.64s/it]\u001b[A"
     ]
    },
    {
     "name": "stdout",
     "output_type": "stream",
     "text": [
      "C10-0000624-LIC\n"
     ]
    },
    {
     "name": "stderr",
     "output_type": "stream",
     "text": [
      "\n",
      " 67%|██████▋   | 2/3 [00:36<00:17, 17.57s/it]\u001b[A"
     ]
    },
    {
     "name": "stdout",
     "output_type": "stream",
     "text": [
      "C10-0000301-LIC\n"
     ]
    },
    {
     "name": "stderr",
     "output_type": "stream",
     "text": [
      "\n",
      "100%|██████████| 3/3 [00:43<00:00, 14.46s/it]\u001b[A\n",
      " 50%|█████     | 31/62 [10:03<16:19, 31.58s/it]"
     ]
    },
    {
     "name": "stdout",
     "output_type": "stream",
     "text": [
      "HPCC\n"
     ]
    },
    {
     "name": "stderr",
     "output_type": "stream",
     "text": [
      "\n",
      "  0%|          | 0/2 [00:00<?, ?it/s]\u001b[A"
     ]
    },
    {
     "name": "stdout",
     "output_type": "stream",
     "text": [
      "C10-0000064-LIC\n"
     ]
    },
    {
     "name": "stderr",
     "output_type": "stream",
     "text": [
      "\n",
      " 50%|█████     | 1/2 [00:59<00:59, 59.84s/it]\u001b[A"
     ]
    },
    {
     "name": "stdout",
     "output_type": "stream",
     "text": [
      "C10-0000005-LIC\n"
     ]
    },
    {
     "name": "stderr",
     "output_type": "stream",
     "text": [
      "\n",
      "100%|██████████| 2/2 [01:15<00:00, 37.78s/it]\u001b[A\n",
      " 52%|█████▏    | 32/62 [11:19<22:23, 44.78s/it]"
     ]
    },
    {
     "name": "stdout",
     "output_type": "stream",
     "text": [
      "HC\n"
     ]
    },
    {
     "name": "stderr",
     "output_type": "stream",
     "text": [
      "\n",
      "  0%|          | 0/1 [00:00<?, ?it/s]\u001b[A"
     ]
    },
    {
     "name": "stdout",
     "output_type": "stream",
     "text": [
      "C9-0000341-LIC\n"
     ]
    },
    {
     "name": "stderr",
     "output_type": "stream",
     "text": [
      "\n",
      "100%|██████████| 1/1 [00:06<00:00,  6.87s/it]\u001b[A\n",
      " 53%|█████▎    | 33/62 [11:26<16:08, 33.41s/it]"
     ]
    },
    {
     "name": "stdout",
     "output_type": "stream",
     "text": [
      "IDC\n"
     ]
    },
    {
     "name": "stderr",
     "output_type": "stream",
     "text": [
      "\n",
      "  0%|          | 0/1 [00:00<?, ?it/s]\u001b[A"
     ]
    },
    {
     "name": "stdout",
     "output_type": "stream",
     "text": [
      "C9-0000320-LIC\n"
     ]
    },
    {
     "name": "stderr",
     "output_type": "stream",
     "text": [
      "\n",
      "100%|██████████| 1/1 [00:10<00:00, 10.23s/it]\u001b[A\n",
      " 55%|█████▍    | 34/62 [11:36<12:20, 26.45s/it]"
     ]
    },
    {
     "name": "stdout",
     "output_type": "stream",
     "text": [
      "KC\n"
     ]
    },
    {
     "name": "stderr",
     "output_type": "stream",
     "text": [
      "\n",
      "  0%|          | 0/11 [00:00<?, ?it/s]\u001b[A"
     ]
    },
    {
     "name": "stdout",
     "output_type": "stream",
     "text": [
      "402-00664\n"
     ]
    },
    {
     "name": "stderr",
     "output_type": "stream",
     "text": [
      "\n",
      "  9%|▉         | 1/11 [00:07<01:12,  7.27s/it]\u001b[A"
     ]
    },
    {
     "name": "stdout",
     "output_type": "stream",
     "text": [
      "402R-00515\n"
     ]
    },
    {
     "name": "stderr",
     "output_type": "stream",
     "text": [
      "\n",
      " 18%|█▊        | 2/11 [00:18<01:24,  9.43s/it]\u001b[A"
     ]
    },
    {
     "name": "stdout",
     "output_type": "stream",
     "text": [
      "402-01146\n"
     ]
    },
    {
     "name": "stderr",
     "output_type": "stream",
     "text": [
      "\n",
      " 27%|██▋       | 3/11 [00:23<01:01,  7.65s/it]\u001b[A"
     ]
    },
    {
     "name": "stdout",
     "output_type": "stream",
     "text": [
      "402-00573\n"
     ]
    },
    {
     "name": "stderr",
     "output_type": "stream",
     "text": [
      "\n",
      " 36%|███▋      | 4/11 [00:30<00:50,  7.25s/it]\u001b[A"
     ]
    },
    {
     "name": "stdout",
     "output_type": "stream",
     "text": [
      "402R-00544\n"
     ]
    },
    {
     "name": "stderr",
     "output_type": "stream",
     "text": [
      "\n",
      " 45%|████▌     | 5/11 [00:39<00:48,  8.04s/it]\u001b[A"
     ]
    },
    {
     "name": "stdout",
     "output_type": "stream",
     "text": [
      "402-00323\n"
     ]
    },
    {
     "name": "stderr",
     "output_type": "stream",
     "text": [
      "\n",
      " 55%|█████▍    | 6/11 [00:47<00:39,  7.91s/it]\u001b[A"
     ]
    },
    {
     "name": "stdout",
     "output_type": "stream",
     "text": [
      "402R-00900\n"
     ]
    },
    {
     "name": "stderr",
     "output_type": "stream",
     "text": [
      "\n",
      " 64%|██████▎   | 7/11 [00:55<00:31,  7.89s/it]\u001b[A"
     ]
    },
    {
     "name": "stdout",
     "output_type": "stream",
     "text": [
      "402R-00002\n"
     ]
    },
    {
     "name": "stderr",
     "output_type": "stream",
     "text": [
      "\n",
      " 73%|███████▎  | 8/11 [01:02<00:22,  7.54s/it]\u001b[A"
     ]
    },
    {
     "name": "stdout",
     "output_type": "stream",
     "text": [
      "402R-00035\n"
     ]
    },
    {
     "name": "stderr",
     "output_type": "stream",
     "text": [
      "\n",
      " 82%|████████▏ | 9/11 [01:09<00:14,  7.50s/it]\u001b[A"
     ]
    },
    {
     "name": "stdout",
     "output_type": "stream",
     "text": [
      "402R-00574\n"
     ]
    },
    {
     "name": "stderr",
     "output_type": "stream",
     "text": [
      "\n",
      " 91%|█████████ | 10/11 [01:17<00:07,  7.53s/it]\u001b[A"
     ]
    },
    {
     "name": "stdout",
     "output_type": "stream",
     "text": [
      "402-00037\n"
     ]
    },
    {
     "name": "stderr",
     "output_type": "stream",
     "text": [
      "\n",
      "100%|██████████| 11/11 [01:22<00:00,  7.54s/it]\u001b[A\n",
      " 56%|█████▋    | 35/62 [12:59<19:31, 43.41s/it]"
     ]
    },
    {
     "name": "stdout",
     "output_type": "stream",
     "text": [
      "LBC\n"
     ]
    },
    {
     "name": "stderr",
     "output_type": "stream",
     "text": [
      "\n",
      "  0%|          | 0/1 [00:00<?, ?it/s]\u001b[A"
     ]
    },
    {
     "name": "stdout",
     "output_type": "stream",
     "text": [
      "C9-0000154-LIC\n"
     ]
    },
    {
     "name": "stderr",
     "output_type": "stream",
     "text": [
      "\n",
      "100%|██████████| 1/1 [00:06<00:00,  6.73s/it]\u001b[A\n",
      " 58%|█████▊    | 36/62 [13:06<14:02, 32.40s/it]"
     ]
    },
    {
     "name": "stdout",
     "output_type": "stream",
     "text": [
      "ML\n"
     ]
    },
    {
     "name": "stderr",
     "output_type": "stream",
     "text": [
      "\n",
      "  0%|          | 0/1 [00:00<?, ?it/s]\u001b[A"
     ]
    },
    {
     "name": "stdout",
     "output_type": "stream",
     "text": [
      "C9-0000300-LIC\n"
     ]
    },
    {
     "name": "stderr",
     "output_type": "stream",
     "text": [
      "\n",
      "100%|██████████| 1/1 [00:12<00:00, 13.00s/it]\u001b[A\n",
      " 60%|█████▉    | 37/62 [13:19<11:04, 26.58s/it]"
     ]
    },
    {
     "name": "stdout",
     "output_type": "stream",
     "text": [
      "MW\n"
     ]
    },
    {
     "name": "stderr",
     "output_type": "stream",
     "text": [
      "\n",
      "  0%|          | 0/1 [00:00<?, ?it/s]\u001b[A"
     ]
    },
    {
     "name": "stdout",
     "output_type": "stream",
     "text": [
      "C10-0000332-LIC\n"
     ]
    },
    {
     "name": "stderr",
     "output_type": "stream",
     "text": [
      "\n",
      "100%|██████████| 1/1 [00:19<00:00, 19.12s/it]\u001b[A\n",
      " 61%|██████▏   | 38/62 [13:38<09:44, 24.34s/it]"
     ]
    },
    {
     "name": "stdout",
     "output_type": "stream",
     "text": [
      "MPW\n"
     ]
    },
    {
     "name": "stderr",
     "output_type": "stream",
     "text": [
      "\n",
      "  0%|          | 0/1 [00:00<?, ?it/s]\u001b[A"
     ]
    },
    {
     "name": "stdout",
     "output_type": "stream",
     "text": [
      "C10-0000547-LIC\n"
     ]
    },
    {
     "name": "stderr",
     "output_type": "stream",
     "text": [
      "\n",
      "100%|██████████| 1/1 [00:24<00:00, 24.25s/it]\u001b[A\n",
      " 63%|██████▎   | 39/62 [14:02<09:19, 24.32s/it]"
     ]
    },
    {
     "name": "stdout",
     "output_type": "stream",
     "text": [
      "MD\n"
     ]
    },
    {
     "name": "stderr",
     "output_type": "stream",
     "text": [
      "\n",
      "  0%|          | 0/1 [00:00<?, ?it/s]\u001b[A"
     ]
    },
    {
     "name": "stdout",
     "output_type": "stream",
     "text": [
      "C9-0000247-LIC\n"
     ]
    },
    {
     "name": "stderr",
     "output_type": "stream",
     "text": [
      "\n",
      "100%|██████████| 1/1 [00:09<00:00,  9.21s/it]\u001b[A\n",
      " 65%|██████▍   | 40/62 [14:11<07:15, 19.79s/it]"
     ]
    },
    {
     "name": "stdout",
     "output_type": "stream",
     "text": [
      "ND\n"
     ]
    },
    {
     "name": "stderr",
     "output_type": "stream",
     "text": [
      "\n",
      "  0%|          | 0/1 [00:00<?, ?it/s]\u001b[A"
     ]
    },
    {
     "name": "stdout",
     "output_type": "stream",
     "text": [
      "C9-0000427-LIC\n"
     ]
    },
    {
     "name": "stderr",
     "output_type": "stream",
     "text": [
      "\n",
      "100%|██████████| 1/1 [00:06<00:00,  6.58s/it]\u001b[A\n",
      " 66%|██████▌   | 41/62 [14:18<05:32, 15.82s/it]"
     ]
    },
    {
     "name": "stdout",
     "output_type": "stream",
     "text": [
      "PGM\n"
     ]
    },
    {
     "name": "stderr",
     "output_type": "stream",
     "text": [
      "\n",
      "  0%|          | 0/11 [00:00<?, ?it/s]\u001b[A"
     ]
    },
    {
     "name": "stdout",
     "output_type": "stream",
     "text": [
      "PC-000160\n"
     ]
    },
    {
     "name": "stderr",
     "output_type": "stream",
     "text": [
      "\n",
      "  9%|▉         | 1/11 [00:06<01:03,  6.36s/it]\u001b[A"
     ]
    },
    {
     "name": "stdout",
     "output_type": "stream",
     "text": [
      "PC-000167\n"
     ]
    },
    {
     "name": "stderr",
     "output_type": "stream",
     "text": [
      "\n",
      " 18%|█▊        | 2/11 [00:13<01:00,  6.71s/it]\u001b[A"
     ]
    },
    {
     "name": "stdout",
     "output_type": "stream",
     "text": [
      "PC-000169\n"
     ]
    },
    {
     "name": "stderr",
     "output_type": "stream",
     "text": [
      "\n",
      " 27%|██▋       | 3/11 [00:19<00:52,  6.61s/it]\u001b[A"
     ]
    },
    {
     "name": "stdout",
     "output_type": "stream",
     "text": [
      "PC-000415\n"
     ]
    },
    {
     "name": "stderr",
     "output_type": "stream",
     "text": [
      "\n",
      " 36%|███▋      | 4/11 [00:27<00:48,  6.90s/it]\u001b[A"
     ]
    },
    {
     "name": "stdout",
     "output_type": "stream",
     "text": [
      "PC-000551\n"
     ]
    },
    {
     "name": "stderr",
     "output_type": "stream",
     "text": [
      "\n",
      " 45%|████▌     | 5/11 [00:32<00:37,  6.30s/it]\u001b[A"
     ]
    },
    {
     "name": "stdout",
     "output_type": "stream",
     "text": [
      "PC-000725\n"
     ]
    },
    {
     "name": "stderr",
     "output_type": "stream",
     "text": [
      "\n",
      " 55%|█████▍    | 6/11 [00:38<00:30,  6.07s/it]\u001b[A"
     ]
    },
    {
     "name": "stdout",
     "output_type": "stream",
     "text": [
      "AU-R-000196\n"
     ]
    },
    {
     "name": "stderr",
     "output_type": "stream",
     "text": [
      "\n",
      " 64%|██████▎   | 7/11 [00:51<00:34,  8.53s/it]\u001b[A"
     ]
    },
    {
     "name": "stdout",
     "output_type": "stream",
     "text": [
      "AU-R-000197\n"
     ]
    },
    {
     "name": "stderr",
     "output_type": "stream",
     "text": [
      "\n",
      " 73%|███████▎  | 8/11 [01:03<00:28,  9.56s/it]\u001b[A"
     ]
    },
    {
     "name": "stdout",
     "output_type": "stream",
     "text": [
      "AU-R-000198\n"
     ]
    },
    {
     "name": "stderr",
     "output_type": "stream",
     "text": [
      "\n",
      " 82%|████████▏ | 9/11 [01:14<00:20, 10.14s/it]\u001b[A"
     ]
    },
    {
     "name": "stdout",
     "output_type": "stream",
     "text": [
      "AU-R-000366\n"
     ]
    },
    {
     "name": "stderr",
     "output_type": "stream",
     "text": [
      "\n",
      " 91%|█████████ | 10/11 [01:23<00:09,  9.74s/it]\u001b[A"
     ]
    },
    {
     "name": "stdout",
     "output_type": "stream",
     "text": [
      "AU-R-000506\n"
     ]
    },
    {
     "name": "stderr",
     "output_type": "stream",
     "text": [
      "\n",
      "100%|██████████| 11/11 [01:36<00:00,  8.76s/it]\u001b[A\n",
      " 68%|██████▊   | 42/62 [15:54<13:20, 40.00s/it]"
     ]
    },
    {
     "name": "stdout",
     "output_type": "stream",
     "text": [
      "PRP\n"
     ]
    },
    {
     "name": "stderr",
     "output_type": "stream",
     "text": [
      "\n",
      "  0%|          | 0/3 [00:00<?, ?it/s]\u001b[A"
     ]
    },
    {
     "name": "stdout",
     "output_type": "stream",
     "text": [
      "C10-0000403-LIC\n"
     ]
    },
    {
     "name": "stderr",
     "output_type": "stream",
     "text": [
      "\n",
      " 33%|███▎      | 1/3 [00:18<00:37, 18.57s/it]\u001b[A"
     ]
    },
    {
     "name": "stdout",
     "output_type": "stream",
     "text": [
      "C10-0000155-LIC\n"
     ]
    },
    {
     "name": "stderr",
     "output_type": "stream",
     "text": [
      "\n",
      " 67%|██████▋   | 2/3 [00:32<00:15, 15.72s/it]\u001b[A"
     ]
    },
    {
     "name": "stdout",
     "output_type": "stream",
     "text": [
      "C10-0000286-LIC\n"
     ]
    },
    {
     "name": "stderr",
     "output_type": "stream",
     "text": [
      "\n",
      "100%|██████████| 3/3 [00:47<00:00, 15.96s/it]\u001b[A\n",
      " 69%|██████▉   | 43/62 [16:42<13:24, 42.36s/it]"
     ]
    },
    {
     "name": "stdout",
     "output_type": "stream",
     "text": [
      "PRL\n"
     ]
    },
    {
     "name": "stderr",
     "output_type": "stream",
     "text": [
      "\n",
      "  0%|          | 0/1 [00:00<?, ?it/s]\u001b[A"
     ]
    },
    {
     "name": "stdout",
     "output_type": "stream",
     "text": [
      "C10-0000759-LIC\n"
     ]
    },
    {
     "name": "stderr",
     "output_type": "stream",
     "text": [
      "\n",
      "100%|██████████| 1/1 [00:16<00:00, 16.45s/it]\u001b[A\n",
      " 71%|███████   | 44/62 [16:59<10:22, 34.59s/it]"
     ]
    },
    {
     "name": "stdout",
     "output_type": "stream",
     "text": [
      "QR\n"
     ]
    },
    {
     "name": "stderr",
     "output_type": "stream",
     "text": [
      "\n",
      "  0%|          | 0/4 [00:00<?, ?it/s]\u001b[A"
     ]
    },
    {
     "name": "stdout",
     "output_type": "stream",
     "text": [
      "PC-000356\n"
     ]
    },
    {
     "name": "stderr",
     "output_type": "stream",
     "text": [
      "\n",
      " 25%|██▌       | 1/4 [00:06<00:18,  6.15s/it]\u001b[A"
     ]
    },
    {
     "name": "stdout",
     "output_type": "stream",
     "text": [
      "AU-R-000233\n"
     ]
    },
    {
     "name": "stderr",
     "output_type": "stream",
     "text": [
      "\n",
      " 50%|█████     | 2/4 [00:21<00:23, 11.65s/it]\u001b[A"
     ]
    },
    {
     "name": "stdout",
     "output_type": "stream",
     "text": [
      "AU-R-000346\n"
     ]
    },
    {
     "name": "stderr",
     "output_type": "stream",
     "text": [
      "\n",
      " 75%|███████▌  | 3/4 [00:39<00:14, 14.30s/it]\u001b[A"
     ]
    },
    {
     "name": "stdout",
     "output_type": "stream",
     "text": [
      "AU-R-000633\n"
     ]
    },
    {
     "name": "stderr",
     "output_type": "stream",
     "text": [
      "\n",
      "100%|██████████| 4/4 [00:46<00:00, 11.60s/it]\u001b[A\n",
      " 73%|███████▎  | 45/62 [17:45<10:48, 38.13s/it]"
     ]
    },
    {
     "name": "stdout",
     "output_type": "stream",
     "text": [
      "RA\n"
     ]
    },
    {
     "name": "stderr",
     "output_type": "stream",
     "text": [
      "\n",
      "  0%|          | 0/1 [00:00<?, ?it/s]\u001b[A"
     ]
    },
    {
     "name": "stdout",
     "output_type": "stream",
     "text": [
      "C10-0000596-LIC\n"
     ]
    },
    {
     "name": "stderr",
     "output_type": "stream",
     "text": [
      "\n",
      "100%|██████████| 1/1 [00:11<00:00, 11.96s/it]\u001b[A\n",
      " 74%|███████▍  | 46/62 [17:57<08:04, 30.28s/it]"
     ]
    },
    {
     "name": "stdout",
     "output_type": "stream",
     "text": [
      "RGD\n"
     ]
    },
    {
     "name": "stderr",
     "output_type": "stream",
     "text": [
      "\n",
      "  0%|          | 0/1 [00:00<?, ?it/s]\u001b[A"
     ]
    },
    {
     "name": "stdout",
     "output_type": "stream",
     "text": [
      "C9-0000057-LIC\n"
     ]
    },
    {
     "name": "stderr",
     "output_type": "stream",
     "text": [
      "\n",
      "100%|██████████| 1/1 [00:08<00:00,  8.09s/it]\u001b[A\n",
      " 76%|███████▌  | 47/62 [18:05<05:54, 23.63s/it]"
     ]
    },
    {
     "name": "stdout",
     "output_type": "stream",
     "text": [
      "SFV\n"
     ]
    },
    {
     "name": "stderr",
     "output_type": "stream",
     "text": [
      "\n",
      "  0%|          | 0/1 [00:00<?, ?it/s]\u001b[A"
     ]
    },
    {
     "name": "stdout",
     "output_type": "stream",
     "text": [
      "C10-0000041-LIC\n"
     ]
    },
    {
     "name": "stderr",
     "output_type": "stream",
     "text": [
      "\n",
      "100%|██████████| 1/1 [00:24<00:00, 24.00s/it]\u001b[A\n",
      " 77%|███████▋  | 48/62 [18:29<05:32, 23.74s/it]"
     ]
    },
    {
     "name": "stdout",
     "output_type": "stream",
     "text": [
      "SV\n"
     ]
    },
    {
     "name": "stderr",
     "output_type": "stream",
     "text": [
      "\n",
      "  0%|          | 0/1 [00:00<?, ?it/s]\u001b[A"
     ]
    },
    {
     "name": "stdout",
     "output_type": "stream",
     "text": [
      "C9-0000146-LIC\n"
     ]
    },
    {
     "name": "stderr",
     "output_type": "stream",
     "text": [
      "\n",
      "100%|██████████| 1/1 [00:11<00:00, 11.19s/it]\u001b[A\n",
      " 79%|███████▉  | 49/62 [18:40<04:19, 19.97s/it]"
     ]
    },
    {
     "name": "stdout",
     "output_type": "stream",
     "text": [
      "SLCC\n"
     ]
    },
    {
     "name": "stderr",
     "output_type": "stream",
     "text": [
      "\n",
      "  0%|          | 0/1 [00:00<?, ?it/s]\u001b[A"
     ]
    },
    {
     "name": "stdout",
     "output_type": "stream",
     "text": [
      "C10-0000474-LIC\n"
     ]
    },
    {
     "name": "stderr",
     "output_type": "stream",
     "text": [
      "\n",
      "100%|██████████| 1/1 [00:07<00:00,  7.95s/it]\u001b[A\n",
      " 81%|████████  | 50/62 [18:48<03:16, 16.37s/it]"
     ]
    },
    {
     "name": "stdout",
     "output_type": "stream",
     "text": [
      "SO\n"
     ]
    },
    {
     "name": "stderr",
     "output_type": "stream",
     "text": [
      "\n",
      "  0%|          | 0/3 [00:00<?, ?it/s]\u001b[A"
     ]
    },
    {
     "name": "stdout",
     "output_type": "stream",
     "text": [
      "C10-0000271-LIC\n"
     ]
    },
    {
     "name": "stderr",
     "output_type": "stream",
     "text": [
      "\n",
      " 33%|███▎      | 1/3 [00:11<00:22, 11.43s/it]\u001b[A"
     ]
    },
    {
     "name": "stdout",
     "output_type": "stream",
     "text": [
      "C12-0000328-LIC\n"
     ]
    },
    {
     "name": "stderr",
     "output_type": "stream",
     "text": [
      "\n",
      " 67%|██████▋   | 2/3 [00:15<00:07,  7.39s/it]\u001b[A"
     ]
    },
    {
     "name": "stdout",
     "output_type": "stream",
     "text": [
      "C9-0000130-LIC\n"
     ]
    },
    {
     "name": "stderr",
     "output_type": "stream",
     "text": [
      "\n",
      "100%|██████████| 3/3 [00:24<00:00,  8.24s/it]\u001b[A\n",
      " 82%|████████▏ | 51/62 [19:13<03:27, 18.87s/it]"
     ]
    },
    {
     "name": "stdout",
     "output_type": "stream",
     "text": [
      "ST\n"
     ]
    },
    {
     "name": "stderr",
     "output_type": "stream",
     "text": [
      "\n",
      "  0%|          | 0/1 [00:00<?, ?it/s]\u001b[A"
     ]
    },
    {
     "name": "stdout",
     "output_type": "stream",
     "text": [
      "C9-0000323-LIC\n"
     ]
    },
    {
     "name": "stderr",
     "output_type": "stream",
     "text": [
      "\n",
      "100%|██████████| 1/1 [00:10<00:00, 10.44s/it]\u001b[A\n",
      " 84%|████████▍ | 52/62 [19:23<02:43, 16.34s/it]"
     ]
    },
    {
     "name": "stdout",
     "output_type": "stream",
     "text": [
      "DW\n"
     ]
    },
    {
     "name": "stderr",
     "output_type": "stream",
     "text": [
      "\n",
      "  0%|          | 0/1 [00:00<?, ?it/s]\u001b[A"
     ]
    },
    {
     "name": "stdout",
     "output_type": "stream",
     "text": [
      "MR282376\n"
     ]
    },
    {
     "name": "stderr",
     "output_type": "stream",
     "text": [
      "\n",
      "100%|██████████| 1/1 [00:22<00:00, 22.85s/it]\u001b[A\n",
      " 85%|████████▌ | 53/62 [19:46<02:44, 18.29s/it]"
     ]
    },
    {
     "name": "stdout",
     "output_type": "stream",
     "text": [
      "TGL\n"
     ]
    },
    {
     "name": "stderr",
     "output_type": "stream",
     "text": [
      "\n",
      "  0%|          | 0/1 [00:00<?, ?it/s]\u001b[A"
     ]
    },
    {
     "name": "stdout",
     "output_type": "stream",
     "text": [
      "C9-0000412-LIC\n"
     ]
    },
    {
     "name": "stderr",
     "output_type": "stream",
     "text": [
      "\n",
      "100%|██████████| 1/1 [00:06<00:00,  6.59s/it]\u001b[A\n",
      " 87%|████████▋ | 54/62 [19:53<01:58, 14.78s/it]"
     ]
    },
    {
     "name": "stdout",
     "output_type": "stream",
     "text": [
      "TJR\n"
     ]
    },
    {
     "name": "stderr",
     "output_type": "stream",
     "text": [
      "\n",
      "  0%|          | 0/1 [00:00<?, ?it/s]\u001b[A"
     ]
    },
    {
     "name": "stdout",
     "output_type": "stream",
     "text": [
      "C9-0000105-LIC\n"
     ]
    },
    {
     "name": "stderr",
     "output_type": "stream",
     "text": [
      "\n",
      "100%|██████████| 1/1 [00:30<00:00, 30.58s/it]\u001b[A\n",
      " 89%|████████▊ | 55/62 [20:23<02:16, 19.52s/it]"
     ]
    },
    {
     "name": "stdout",
     "output_type": "stream",
     "text": [
      "TTS\n"
     ]
    },
    {
     "name": "stderr",
     "output_type": "stream",
     "text": [
      "\n",
      "  0%|          | 0/2 [00:00<?, ?it/s]\u001b[A"
     ]
    },
    {
     "name": "stdout",
     "output_type": "stream",
     "text": [
      "PC-000718\n"
     ]
    },
    {
     "name": "stderr",
     "output_type": "stream",
     "text": [
      "\n",
      " 50%|█████     | 1/2 [00:04<00:04,  4.84s/it]\u001b[A"
     ]
    },
    {
     "name": "stdout",
     "output_type": "stream",
     "text": [
      "AU-R-000546\n"
     ]
    },
    {
     "name": "stderr",
     "output_type": "stream",
     "text": [
      "\n",
      "100%|██████████| 2/2 [00:10<00:00,  5.21s/it]\u001b[A\n",
      " 90%|█████████ | 56/62 [20:34<01:40, 16.79s/it]"
     ]
    },
    {
     "name": "stdout",
     "output_type": "stream",
     "text": [
      "TT\n"
     ]
    },
    {
     "name": "stderr",
     "output_type": "stream",
     "text": [
      "\n",
      "  0%|          | 0/1 [00:00<?, ?it/s]\u001b[A"
     ]
    },
    {
     "name": "stdout",
     "output_type": "stream",
     "text": [
      "C9-0000451-LIC\n"
     ]
    },
    {
     "name": "stderr",
     "output_type": "stream",
     "text": [
      "\n",
      "100%|██████████| 1/1 [00:10<00:00, 10.15s/it]\u001b[A\n",
      " 92%|█████████▏| 57/62 [20:44<01:14, 14.80s/it]"
     ]
    },
    {
     "name": "stdout",
     "output_type": "stream",
     "text": [
      "T4L\n"
     ]
    },
    {
     "name": "stderr",
     "output_type": "stream",
     "text": [
      "\n",
      "  0%|          | 0/1 [00:00<?, ?it/s]\u001b[A"
     ]
    },
    {
     "name": "stdout",
     "output_type": "stream",
     "text": [
      "C12-0000302-LIC\n"
     ]
    },
    {
     "name": "stderr",
     "output_type": "stream",
     "text": [
      "\n",
      "100%|██████████| 1/1 [00:06<00:00,  6.48s/it]\u001b[A\n",
      " 94%|█████████▎| 58/62 [20:50<00:49, 12.30s/it]"
     ]
    },
    {
     "name": "stdout",
     "output_type": "stream",
     "text": [
      "TL\n"
     ]
    },
    {
     "name": "stderr",
     "output_type": "stream",
     "text": [
      "\n",
      "  0%|          | 0/19 [00:00<?, ?it/s]\u001b[A"
     ]
    },
    {
     "name": "stdout",
     "output_type": "stream",
     "text": [
      "402R-00808\n"
     ]
    },
    {
     "name": "stderr",
     "output_type": "stream",
     "text": [
      "\n",
      "  5%|▌         | 1/19 [00:03<01:06,  3.71s/it]\u001b[A"
     ]
    },
    {
     "name": "stdout",
     "output_type": "stream",
     "text": [
      "402-00370\n"
     ]
    },
    {
     "name": "stderr",
     "output_type": "stream",
     "text": [
      "\n",
      " 11%|█         | 2/19 [00:09<01:26,  5.07s/it]\u001b[A"
     ]
    },
    {
     "name": "stdout",
     "output_type": "stream",
     "text": [
      "402R-00602\n"
     ]
    },
    {
     "name": "stderr",
     "output_type": "stream",
     "text": [
      "\n",
      " 16%|█▌        | 3/19 [00:22<02:16,  8.51s/it]\u001b[A"
     ]
    },
    {
     "name": "stdout",
     "output_type": "stream",
     "text": [
      "402R-00041\n"
     ]
    },
    {
     "name": "stderr",
     "output_type": "stream",
     "text": [
      "\n",
      " 21%|██        | 4/19 [00:32<02:18,  9.22s/it]\u001b[A"
     ]
    },
    {
     "name": "stdout",
     "output_type": "stream",
     "text": [
      "402R-00807\n"
     ]
    },
    {
     "name": "stderr",
     "output_type": "stream",
     "text": [
      "\n",
      " 26%|██▋       | 5/19 [00:47<02:36, 11.21s/it]\u001b[A"
     ]
    },
    {
     "name": "stdout",
     "output_type": "stream",
     "text": [
      "402-01142\n"
     ]
    },
    {
     "name": "stderr",
     "output_type": "stream",
     "text": [
      "\n",
      " 32%|███▏      | 6/19 [00:53<02:04,  9.58s/it]\u001b[A"
     ]
    },
    {
     "name": "stdout",
     "output_type": "stream",
     "text": [
      "402R-00573\n"
     ]
    },
    {
     "name": "stderr",
     "output_type": "stream",
     "text": [
      "\n",
      " 37%|███▋      | 7/19 [01:03<01:53,  9.46s/it]\u001b[A"
     ]
    },
    {
     "name": "stdout",
     "output_type": "stream",
     "text": [
      "402-00473\n"
     ]
    },
    {
     "name": "stderr",
     "output_type": "stream",
     "text": [
      "\n",
      " 42%|████▏     | 8/19 [01:09<01:34,  8.56s/it]\u001b[A"
     ]
    },
    {
     "name": "stdout",
     "output_type": "stream",
     "text": [
      "402R-00536\n"
     ]
    },
    {
     "name": "stderr",
     "output_type": "stream",
     "text": [
      "\n",
      " 47%|████▋     | 9/19 [01:17<01:23,  8.33s/it]\u001b[A"
     ]
    },
    {
     "name": "stdout",
     "output_type": "stream",
     "text": [
      "402R-00066\n"
     ]
    },
    {
     "name": "stderr",
     "output_type": "stream",
     "text": [
      "\n",
      " 53%|█████▎    | 10/19 [01:24<01:12,  8.05s/it]\u001b[A"
     ]
    },
    {
     "name": "stdout",
     "output_type": "stream",
     "text": [
      "402R-00362\n"
     ]
    },
    {
     "name": "stderr",
     "output_type": "stream",
     "text": [
      "\n",
      " 58%|█████▊    | 11/19 [01:28<00:54,  6.77s/it]\u001b[A"
     ]
    },
    {
     "name": "stdout",
     "output_type": "stream",
     "text": [
      "402-00390\n"
     ]
    },
    {
     "name": "stderr",
     "output_type": "stream",
     "text": [
      "\n",
      " 63%|██████▎   | 12/19 [01:44<01:06,  9.48s/it]\u001b[A"
     ]
    },
    {
     "name": "stdout",
     "output_type": "stream",
     "text": [
      "402-01201\n"
     ]
    },
    {
     "name": "stderr",
     "output_type": "stream",
     "text": [
      "\n",
      " 68%|██████▊   | 13/19 [02:03<01:14, 12.48s/it]\u001b[A"
     ]
    },
    {
     "name": "stdout",
     "output_type": "stream",
     "text": [
      "402R-00781\n"
     ]
    },
    {
     "name": "stderr",
     "output_type": "stream",
     "text": [
      "\n",
      " 74%|███████▎  | 14/19 [02:15<01:01, 12.38s/it]\u001b[A"
     ]
    },
    {
     "name": "stdout",
     "output_type": "stream",
     "text": [
      "402R-00505\n"
     ]
    },
    {
     "name": "stderr",
     "output_type": "stream",
     "text": [
      "\n",
      " 79%|███████▉  | 15/19 [02:20<00:39,  9.86s/it]\u001b[A"
     ]
    },
    {
     "name": "stdout",
     "output_type": "stream",
     "text": [
      "402R-00487\n"
     ]
    },
    {
     "name": "stderr",
     "output_type": "stream",
     "text": [
      "\n",
      " 84%|████████▍ | 16/19 [02:23<00:24,  8.00s/it]\u001b[A"
     ]
    },
    {
     "name": "stdout",
     "output_type": "stream",
     "text": [
      "402R-00242\n"
     ]
    },
    {
     "name": "stderr",
     "output_type": "stream",
     "text": [
      "\n",
      " 89%|████████▉ | 17/19 [02:27<00:13,  6.69s/it]\u001b[A"
     ]
    },
    {
     "name": "stdout",
     "output_type": "stream",
     "text": [
      "402R-00246\n"
     ]
    },
    {
     "name": "stderr",
     "output_type": "stream",
     "text": [
      "\n",
      " 95%|█████████▍| 18/19 [02:31<00:05,  5.97s/it]\u001b[A"
     ]
    },
    {
     "name": "stdout",
     "output_type": "stream",
     "text": [
      "402R-00571\n"
     ]
    },
    {
     "name": "stderr",
     "output_type": "stream",
     "text": [
      "\n",
      "100%|██████████| 19/19 [02:35<00:00,  8.18s/it]\u001b[A\n",
      " 95%|█████████▌| 59/62 [23:26<02:45, 55.22s/it]"
     ]
    },
    {
     "name": "stdout",
     "output_type": "stream",
     "text": [
      "UHHC\n"
     ]
    },
    {
     "name": "stderr",
     "output_type": "stream",
     "text": [
      "\n",
      "  0%|          | 0/2 [00:00<?, ?it/s]\u001b[A"
     ]
    },
    {
     "name": "stdout",
     "output_type": "stream",
     "text": [
      "C10-0000817-LIC\n"
     ]
    },
    {
     "name": "stderr",
     "output_type": "stream",
     "text": [
      "\n",
      " 50%|█████     | 1/2 [00:06<00:06,  6.16s/it]\u001b[A"
     ]
    },
    {
     "name": "stdout",
     "output_type": "stream",
     "text": [
      "C9-0000082-LIC\n"
     ]
    },
    {
     "name": "stderr",
     "output_type": "stream",
     "text": [
      "\n",
      "100%|██████████| 2/2 [00:15<00:00,  7.97s/it]\u001b[A\n",
      " 97%|█████████▋| 60/62 [23:42<01:26, 43.44s/it]"
     ]
    },
    {
     "name": "stdout",
     "output_type": "stream",
     "text": [
      "VS\n"
     ]
    },
    {
     "name": "stderr",
     "output_type": "stream",
     "text": [
      "\n",
      "  0%|          | 0/2 [00:00<?, ?it/s]\u001b[A"
     ]
    },
    {
     "name": "stdout",
     "output_type": "stream",
     "text": [
      "402-00840\n"
     ]
    },
    {
     "name": "stderr",
     "output_type": "stream",
     "text": [
      "\n",
      " 50%|█████     | 1/2 [00:06<00:06,  6.47s/it]\u001b[A"
     ]
    },
    {
     "name": "stdout",
     "output_type": "stream",
     "text": [
      "402R-00545\n"
     ]
    },
    {
     "name": "stderr",
     "output_type": "stream",
     "text": [
      "\n",
      "100%|██████████| 2/2 [00:29<00:00, 14.83s/it]\u001b[A\n",
      " 98%|█████████▊| 61/62 [24:11<00:39, 39.31s/it]"
     ]
    },
    {
     "name": "stdout",
     "output_type": "stream",
     "text": [
      "VOY\n"
     ]
    },
    {
     "name": "stderr",
     "output_type": "stream",
     "text": [
      "\n",
      "  0%|          | 0/3 [00:00<?, ?it/s]\u001b[A"
     ]
    },
    {
     "name": "stdout",
     "output_type": "stream",
     "text": [
      "C12-0000030-LIC\n"
     ]
    },
    {
     "name": "stderr",
     "output_type": "stream",
     "text": [
      "\n",
      " 33%|███▎      | 1/3 [00:05<00:11,  5.67s/it]\u001b[A"
     ]
    },
    {
     "name": "stdout",
     "output_type": "stream",
     "text": [
      "C10-0000802-LIC\n"
     ]
    },
    {
     "name": "stderr",
     "output_type": "stream",
     "text": [
      "\n",
      " 67%|██████▋   | 2/3 [00:11<00:05,  5.95s/it]\u001b[A"
     ]
    },
    {
     "name": "stdout",
     "output_type": "stream",
     "text": [
      "C12-0000159-LIC\n"
     ]
    },
    {
     "name": "stderr",
     "output_type": "stream",
     "text": [
      "\n",
      "100%|██████████| 3/3 [00:16<00:00,  5.44s/it]\u001b[A\n",
      "100%|██████████| 62/62 [24:28<00:00, 23.68s/it]\n"
     ]
    }
   ],
   "source": [
    "a = get_cogs_list(list(ca_df_clean['company_identifier']),TRANSFER_PACKAGES_START_DATE,SALES_TRANSACTIONS_START_DATE,ca_df_clean)"
   ]
  },
  {
   "cell_type": "code",
   "execution_count": null,
   "id": "211217a5",
   "metadata": {},
   "outputs": [],
   "source": [
    "# def calculate_cogs(company_identifier,transfer_packages_start_date,sales_transactrions_start_date,map_df):\n",
    "#     # setup\n",
    "#     df_summary_simp_list = {}\n",
    "#     # read data\n",
    "#     df_in = \n",
    "#     df_in,df_sales_deduped,bad_dl,unknown_transfer,rwp,miss_incoming,miss_receipts = data_quality_checks.run(company_identifier,transfer_packages_start_date,sales_transactrions_start_date)    \n",
    "#     licenses = map_df[map_df['company_identifier'] == company_identifier]['lic_list'].to_list()[0]\n",
    "#     print(licenses)\n",
    "#     # loop thru locations\n",
    "#     for l in tqdm(licenses):\n",
    "#         print(l)\n",
    "#         df_in_l = df_in[df_in['license_number'] == l]\n",
    "#         df_sales_deduped_l = df_sales_deduped[df_sales_deduped['license_number'] == l]\n",
    "#         df_in_l['per_unit_incoming'] = df_in_l['shipper_wholesale_price'] / df_in_l['shipped_quantity']\n",
    "#         df_in_l = df_in_l[df_in_l['per_unit_incoming'] <= 10000]\n",
    "#         df_sales_l = df_sales_deduped_l\n",
    "#         df_summary_simp,df_cogs_average_product = cogs_analysis(df_in_l,df_sales_l,'monthly')\n",
    "#         df_summary_simp.index = df_summary_simp.date \n",
    "#         # tax treatment\n",
    "#         df_summary_simp['revenue_after_tax'] = df_summary_simp['revenue'] * 1.15\n",
    "#         df_summary_simp['cogs_after_tax'] = df_summary_simp['cogs'] * 1.27\n",
    "#         df_summary_simp['margin_$_after_tax'] = df_summary_simp['revenue_after_tax'] - df_summary_simp['cogs_after_tax']\n",
    "#         df_summary_simp['margin_%_after_tax'] = df_summary_simp['margin_$_after_tax'] / df_summary_simp['revenue_after_tax']\n",
    "        \n",
    "#         #rolling gm %\n",
    "#         df_summary_simp['gm_past_quarter_after_tax'] = df_summary_simp[['margin_%_after_tax']].rolling(3).mean().values\n",
    "#         df_summary_simp['gm_past_2quarters_after_tax'] = df_summary_simp[['margin_%_after_tax']].rolling(6).mean().values\n",
    "#         df_summary_simp['gm_past_3quarters_after_tax'] = df_summary_simp[['margin_%_after_tax']].rolling(9).mean().values\n",
    "        \n",
    "#         #rolling gm $\n",
    "#         df_summary_simp['gm$_past_quarter_after_tax'] = df_summary_simp[['margin_$_after_tax']].rolling(3).mean().values\n",
    "#         df_summary_simp['gm$_past_2quarters_after_tax'] = df_summary_simp[['margin_$_after_tax']].rolling(6).mean().values\n",
    "#         df_summary_simp['gm$_past_3quarters_after_tax'] = df_summary_simp[['margin_$_after_tax']].rolling(9).mean().values\n",
    "#         df_summary_simp_list[l] = df_summary_simp\n",
    "     \n",
    "#     return df_summary_simp_list\n",
    "    "
   ]
  },
  {
   "cell_type": "code",
   "execution_count": null,
   "id": "9127097f",
   "metadata": {},
   "outputs": [],
   "source": [
    "# def get_ca_gmv_change_bm_list(company_list,transfer_packages_start_date,sales_transactrions_start_date):\n",
    "#     cogs_df_list = {}\n",
    "#     for c in tqdm(company_list):\n",
    "#         c\n",
    "#         cogs_df = calculate_ca_gmv_change([c],transfer_packages_start_date,sales_transactrions_start_date,ca_df_clean)\n",
    "#         cogs_df_list[c] = cogs_df\n",
    "#     return cogs_df_list\n",
    "    "
   ]
  },
  {
   "cell_type": "code",
   "execution_count": null,
   "id": "56a8398b",
   "metadata": {},
   "outputs": [],
   "source": [
    "#test out\n",
    "#a,b = get_ca_gmv_change_bm_list(list(ca_df_clean['company_identifier'])[0:2],TRANSFER_PACKAGES_START_DATE,SALES_TRANSACTIONS_START_DATE,CURRENT_MONTH)\n"
   ]
  },
  {
   "cell_type": "markdown",
   "id": "346e3f5f",
   "metadata": {},
   "source": [
    "# cogs & coverage"
   ]
  },
  {
   "cell_type": "code",
   "execution_count": 15,
   "id": "cebac554",
   "metadata": {},
   "outputs": [
    {
     "name": "stdout",
     "output_type": "stream",
     "text": [
      "99HT\n",
      "C10-0000279-LIC\n",
      "(16, 24)\n",
      "ALT\n",
      "PC-000310\n",
      "(15, 24)\n",
      "AU-R-000380\n",
      "(14, 24)\n",
      "BS\n",
      "PC-000185\n",
      "(28, 24)\n",
      "AU-R-000156\n",
      "(28, 24)\n",
      "BMC\n",
      "402-00930\n",
      "(28, 24)\n",
      "BBF\n",
      "MR281525\n",
      "(22, 24)\n",
      "BUD\n",
      "C9-0000464-LIC\n",
      "(5, 24)\n",
      "C9-0000467-LIC\n",
      "(4, 24)\n",
      "C9-0000444-LIC\n",
      "(4, 24)\n",
      "C9-0000167-LIC\n",
      "(11, 24)\n",
      "C9-0000399-LIC\n",
      "(12, 24)\n",
      "CHO\n",
      "AU-R-000575\n",
      "(6, 24)\n",
      "CG\n",
      "C9-0000157-LIC\n",
      "(26, 24)\n",
      "CPA\n",
      "C10-0000461-LIC\n",
      "(27, 24)\n",
      "C9-0000348-LIC\n",
      "(17, 24)\n",
      "CPC\n",
      "C9-0000056-LIC\n",
      "(19, 24)\n",
      "CSC\n",
      "C10-0000670-LIC\n",
      "(28, 24)\n",
      "C10-0000918-LIC\n",
      "(5, 24)\n",
      "CCC\n",
      "C12-0000087-LIC\n",
      "(28, 24)\n",
      "CC\n",
      "C10-0000758-LIC\n",
      "(14, 24)\n",
      "DWF\n",
      "402R-00804\n",
      "(20, 24)\n",
      "DCO\n",
      "050-10052885D4C\n",
      "(26, 24)\n",
      "050-10070593E9E\n",
      "(27, 24)\n",
      "DL\n",
      "MR283369\n",
      "(10, 24)\n",
      "DGG\n",
      "C9-0000016-LIC\n",
      "(28, 24)\n",
      "DG\n",
      "PC-000485\n",
      "(16, 24)\n",
      "AU-R-000287\n",
      "(16, 24)\n",
      "AU-R-000359\n",
      "(16, 24)\n",
      "AU-R-000422\n",
      "(13, 24)\n",
      "AU-R-000470\n",
      "(10, 24)\n",
      "AU-R-000572\n",
      "(6, 24)\n",
      "EL\n",
      "C9-0000370-LIC\n",
      "(20, 24)\n",
      "EMA\n",
      "C10-0000774-LIC\n",
      "(16, 24)\n",
      "EMF\n",
      "C10-0000939-LIC\n",
      "(3, 24)\n",
      "EMM\n",
      "C10-0000786-LIC\n",
      "(14, 24)\n",
      "EMT\n",
      "C10-0000695-LIC\n",
      "(23, 24)\n",
      "EH\n",
      "MR283073\n",
      "(6, 24)\n",
      "FW\n",
      "402-00558\n",
      "(28, 24)\n",
      "402R-00017\n",
      "(28, 24)\n",
      "402-00891\n",
      "(28, 24)\n",
      "402R-00020\n",
      "(28, 24)\n",
      "402R-00747\n",
      "(28, 24)\n",
      "GT\n",
      "C9-0000385-LIC\n",
      "(6, 24)\n",
      "C9-0000170-LIC\n",
      "(10, 24)\n",
      "GLNR\n",
      "PC-000334\n",
      "(28, 24)\n",
      "PC-000613\n",
      "(10, 24)\n",
      "PC-000722\n",
      "(5, 24)\n",
      "AU-R-000182\n",
      "(27, 24)\n",
      "AU-R-000461\n",
      "(10, 24)\n",
      "AU-R-000559\n",
      "(5, 24)\n",
      "GRG\n",
      "C10-0000169-LIC\n",
      "(28, 24)\n",
      "C10-0000408-LIC\n",
      "(9, 24)\n",
      "GTR\n",
      "PC-000225\n",
      "(16, 24)\n",
      "AU-R-000163\n",
      "(16, 24)\n",
      "GHC\n",
      "C10-0000414-LIC\n",
      "(18, 24)\n",
      "HB\n",
      "C10-0000339-LIC\n",
      "(28, 24)\n",
      "C10-0000624-LIC\n",
      "(28, 24)\n",
      "C10-0000301-LIC\n",
      "(20, 24)\n",
      "HPCC\n",
      "C10-0000064-LIC\n",
      "(28, 24)\n",
      "C10-0000005-LIC\n",
      "(28, 24)\n",
      "HC\n",
      "C9-0000341-LIC\n",
      "(13, 24)\n",
      "IDC\n",
      "C9-0000320-LIC\n",
      "(25, 24)\n",
      "KC\n",
      "402-00664\n",
      "(2, 24)\n",
      "402R-00515\n",
      "(10, 24)\n",
      "402-01146\n",
      "(23, 24)\n",
      "402-00573\n",
      "(26, 24)\n",
      "402R-00544\n",
      "(26, 24)\n",
      "402-00323\n",
      "(7, 24)\n",
      "402R-00900\n",
      "(6, 24)\n",
      "402R-00002\n",
      "(26, 24)\n",
      "402R-00035\n",
      "(26, 24)\n",
      "402R-00574\n",
      "(26, 24)\n",
      "402-00037\n",
      "(26, 24)\n",
      "LBC\n",
      "C9-0000154-LIC\n",
      "(24, 24)\n",
      "ML\n",
      "C9-0000300-LIC\n",
      "(22, 24)\n",
      "MW\n",
      "C10-0000332-LIC\n",
      "(28, 24)\n",
      "MPW\n",
      "C10-0000547-LIC\n",
      "(22, 24)\n",
      "MD\n",
      "C9-0000247-LIC\n",
      "(28, 24)\n",
      "ND\n",
      "C9-0000427-LIC\n",
      "(10, 24)\n",
      "PGM\n",
      "PC-000160\n",
      "(15, 24)\n",
      "PC-000167\n",
      "(15, 24)\n",
      "PC-000169\n",
      "(16, 24)\n",
      "PC-000415\n",
      "(16, 24)\n",
      "PC-000551\n",
      "(16, 24)\n",
      "PC-000725\n",
      "(5, 24)\n",
      "AU-R-000196\n",
      "(16, 24)\n",
      "AU-R-000197\n",
      "(16, 24)\n",
      "AU-R-000198\n",
      "(16, 24)\n",
      "AU-R-000366\n",
      "(15, 24)\n",
      "AU-R-000506\n",
      "(9, 24)\n",
      "PRP\n",
      "C10-0000403-LIC\n",
      "(16, 24)\n",
      "C10-0000155-LIC\n",
      "(16, 24)\n",
      "C10-0000286-LIC\n",
      "(16, 24)\n",
      "PRL\n",
      "C10-0000759-LIC\n",
      "(14, 24)\n",
      "QR\n",
      "PC-000356\n",
      "(15, 24)\n",
      "AU-R-000233\n",
      "(24, 24)\n",
      "AU-R-000346\n",
      "(16, 24)\n",
      "AU-R-000633\n",
      "(3, 24)\n",
      "RA\n",
      "C10-0000596-LIC\n",
      "(25, 24)\n",
      "RGD\n",
      "C9-0000057-LIC\n",
      "(24, 24)\n",
      "SFV\n",
      "C10-0000041-LIC\n",
      "(28, 24)\n",
      "SV\n",
      "C9-0000146-LIC\n",
      "(17, 24)\n",
      "SLCC\n",
      "C10-0000474-LIC\n",
      "(17, 24)\n",
      "SO\n",
      "C10-0000271-LIC\n",
      "(23, 24)\n",
      "C12-0000328-LIC\n",
      "(0, 24)\n",
      "C9-0000130-LIC\n",
      "(24, 24)\n",
      "ST\n",
      "C9-0000323-LIC\n",
      "(28, 24)\n",
      "DW\n",
      "MR282376\n",
      "(23, 24)\n",
      "TGL\n",
      "C9-0000412-LIC\n",
      "(11, 24)\n",
      "TJR\n",
      "C9-0000105-LIC\n",
      "(17, 24)\n",
      "TTS\n",
      "PC-000718\n",
      "(5, 24)\n",
      "AU-R-000546\n",
      "(6, 24)\n",
      "TT\n",
      "C9-0000451-LIC\n",
      "(8, 24)\n",
      "T4L\n",
      "C12-0000302-LIC\n",
      "(25, 24)\n",
      "TL\n",
      "402R-00808\n",
      "(0, 24)\n",
      "402-00370\n",
      "(28, 24)\n",
      "402R-00602\n",
      "(28, 24)\n",
      "402R-00041\n",
      "(28, 24)\n",
      "402R-00807\n",
      "(28, 24)\n",
      "402-01142\n",
      "(28, 24)\n",
      "402R-00573\n",
      "(28, 24)\n",
      "402-00473\n",
      "(28, 24)\n",
      "402R-00536\n",
      "(28, 24)\n",
      "402R-00066\n",
      "(28, 24)\n",
      "402R-00362\n",
      "(0, 24)\n",
      "402-00390\n",
      "(28, 24)\n",
      "402-01201\n",
      "(28, 24)\n",
      "402R-00781\n",
      "(28, 24)\n",
      "402R-00505\n",
      "(0, 24)\n",
      "402R-00487\n",
      "(0, 24)\n",
      "402R-00242\n",
      "(0, 24)\n",
      "402R-00246\n",
      "(0, 24)\n",
      "402R-00571\n",
      "(0, 24)\n",
      "UHHC\n",
      "C10-0000817-LIC\n",
      "(4, 24)\n",
      "C9-0000082-LIC\n",
      "(28, 24)\n",
      "VS\n",
      "402-00840\n",
      "(28, 24)\n",
      "402R-00545\n",
      "(28, 24)\n",
      "VOY\n",
      "C12-0000030-LIC\n",
      "(0, 24)\n",
      "C10-0000802-LIC\n",
      "(8, 24)\n",
      "C12-0000159-LIC\n",
      "(0, 24)\n"
     ]
    }
   ],
   "source": [
    "df = pd.DataFrame()\n",
    "for k in a.keys():\n",
    "    print(k)\n",
    "    for l in a[k].keys():\n",
    "        print(l)\n",
    "        data = a[k][l]\n",
    "        data['company'] = k\n",
    "        data['location'] = l\n",
    "        print(data.shape)\n",
    "        df = df.append(data)\n",
    "        #data.to_excel('ca_location_analysis/'+'analysis_' + k + '_'+ l+'.xlsx')"
   ]
  },
  {
   "cell_type": "code",
   "execution_count": 16,
   "id": "0db33277",
   "metadata": {},
   "outputs": [
    {
     "data": {
      "text/plain": [
       "62"
      ]
     },
     "execution_count": 16,
     "metadata": {},
     "output_type": "execute_result"
    }
   ],
   "source": [
    "len(df['company'].unique())"
   ]
  },
  {
   "cell_type": "code",
   "execution_count": 17,
   "id": "6efa88b1",
   "metadata": {},
   "outputs": [],
   "source": [
    "df['id'] = list(zip(df.company, df.location))\n",
    "df = df.reset_index(drop = True)"
   ]
  },
  {
   "cell_type": "code",
   "execution_count": 18,
   "id": "b8e858d4",
   "metadata": {},
   "outputs": [
    {
     "data": {
      "text/plain": [
       "131"
      ]
     },
     "execution_count": 18,
     "metadata": {},
     "output_type": "execute_result"
    }
   ],
   "source": [
    "len(df['id'].unique())"
   ]
  },
  {
   "cell_type": "code",
   "execution_count": 19,
   "id": "ea0cccc6",
   "metadata": {},
   "outputs": [],
   "source": [
    "#df.to_csv('all_metrc_cogs_0316.csv')"
   ]
  },
  {
   "cell_type": "code",
   "execution_count": 20,
   "id": "a98ff839",
   "metadata": {},
   "outputs": [
    {
     "data": {
      "text/html": [
       "<div>\n",
       "<style scoped>\n",
       "    .dataframe tbody tr th:only-of-type {\n",
       "        vertical-align: middle;\n",
       "    }\n",
       "\n",
       "    .dataframe tbody tr th {\n",
       "        vertical-align: top;\n",
       "    }\n",
       "\n",
       "    .dataframe thead th {\n",
       "        text-align: right;\n",
       "    }\n",
       "</style>\n",
       "<table border=\"1\" class=\"dataframe\">\n",
       "  <thead>\n",
       "    <tr style=\"text-align: right;\">\n",
       "      <th></th>\n",
       "      <th>date</th>\n",
       "      <th>revenue</th>\n",
       "      <th>cogs</th>\n",
       "      <th>margin_$</th>\n",
       "      <th>margin_%</th>\n",
       "      <th>total_count_incoming</th>\n",
       "      <th>product_count</th>\n",
       "      <th>count_incoming</th>\n",
       "      <th>coverage</th>\n",
       "      <th>revenue_after_tax</th>\n",
       "      <th>cogs_after_tax</th>\n",
       "      <th>margin_$_after_tax</th>\n",
       "      <th>margin_%_after_tax</th>\n",
       "      <th>gm_past_quarter</th>\n",
       "      <th>gm_past_2quarters</th>\n",
       "      <th>gm_past_3quarters</th>\n",
       "      <th>gm_past_quarter_after_tax</th>\n",
       "      <th>gm_past_2quarters_after_tax</th>\n",
       "      <th>gm_past_3quarters_after_tax</th>\n",
       "      <th>gm$_past_quarter_after_tax</th>\n",
       "      <th>gm$_past_2quarters_after_tax</th>\n",
       "      <th>gm$_past_3quarters_after_tax</th>\n",
       "      <th>company</th>\n",
       "      <th>location</th>\n",
       "      <th>id</th>\n",
       "    </tr>\n",
       "  </thead>\n",
       "  <tbody>\n",
       "    <tr>\n",
       "      <th>2446</th>\n",
       "      <td>2021-12</td>\n",
       "      <td>32715.38</td>\n",
       "      <td>12198.903894</td>\n",
       "      <td>20516.476106</td>\n",
       "      <td>0.627120</td>\n",
       "      <td>1062.0</td>\n",
       "      <td>129.0</td>\n",
       "      <td>933</td>\n",
       "      <td>0.919481</td>\n",
       "      <td>37622.6870</td>\n",
       "      <td>15492.607945</td>\n",
       "      <td>22130.079055</td>\n",
       "      <td>0.588211</td>\n",
       "      <td>0.678010</td>\n",
       "      <td>NaN</td>\n",
       "      <td>NaN</td>\n",
       "      <td>0.644411</td>\n",
       "      <td>NaN</td>\n",
       "      <td>NaN</td>\n",
       "      <td>16567.283526</td>\n",
       "      <td>NaN</td>\n",
       "      <td>NaN</td>\n",
       "      <td>VOY</td>\n",
       "      <td>C10-0000802-LIC</td>\n",
       "      <td>(VOY, C10-0000802-LIC)</td>\n",
       "    </tr>\n",
       "    <tr>\n",
       "      <th>2447</th>\n",
       "      <td>2022-01</td>\n",
       "      <td>24339.01</td>\n",
       "      <td>11123.403847</td>\n",
       "      <td>13215.606153</td>\n",
       "      <td>0.542980</td>\n",
       "      <td>831.0</td>\n",
       "      <td>43.0</td>\n",
       "      <td>788</td>\n",
       "      <td>0.936866</td>\n",
       "      <td>27989.8615</td>\n",
       "      <td>14126.722885</td>\n",
       "      <td>13863.138615</td>\n",
       "      <td>0.495291</td>\n",
       "      <td>0.626175</td>\n",
       "      <td>NaN</td>\n",
       "      <td>NaN</td>\n",
       "      <td>0.587167</td>\n",
       "      <td>NaN</td>\n",
       "      <td>NaN</td>\n",
       "      <td>16873.765070</td>\n",
       "      <td>NaN</td>\n",
       "      <td>NaN</td>\n",
       "      <td>VOY</td>\n",
       "      <td>C10-0000802-LIC</td>\n",
       "      <td>(VOY, C10-0000802-LIC)</td>\n",
       "    </tr>\n",
       "    <tr>\n",
       "      <th>2448</th>\n",
       "      <td>2022-02</td>\n",
       "      <td>24450.82</td>\n",
       "      <td>10410.082937</td>\n",
       "      <td>14040.737063</td>\n",
       "      <td>0.574244</td>\n",
       "      <td>796.0</td>\n",
       "      <td>37.0</td>\n",
       "      <td>759</td>\n",
       "      <td>0.953293</td>\n",
       "      <td>28118.4430</td>\n",
       "      <td>13220.805331</td>\n",
       "      <td>14897.637669</td>\n",
       "      <td>0.529817</td>\n",
       "      <td>0.581448</td>\n",
       "      <td>0.605722</td>\n",
       "      <td>NaN</td>\n",
       "      <td>0.537773</td>\n",
       "      <td>0.564580</td>\n",
       "      <td>NaN</td>\n",
       "      <td>16963.618446</td>\n",
       "      <td>14587.000533</td>\n",
       "      <td>NaN</td>\n",
       "      <td>VOY</td>\n",
       "      <td>C10-0000802-LIC</td>\n",
       "      <td>(VOY, C10-0000802-LIC)</td>\n",
       "    </tr>\n",
       "    <tr>\n",
       "      <th>2449</th>\n",
       "      <td>2022-03</td>\n",
       "      <td>27920.68</td>\n",
       "      <td>11465.072300</td>\n",
       "      <td>16455.607700</td>\n",
       "      <td>0.589370</td>\n",
       "      <td>933.0</td>\n",
       "      <td>54.0</td>\n",
       "      <td>879</td>\n",
       "      <td>0.947208</td>\n",
       "      <td>32108.7820</td>\n",
       "      <td>14560.641821</td>\n",
       "      <td>17548.140179</td>\n",
       "      <td>0.546522</td>\n",
       "      <td>0.568865</td>\n",
       "      <td>0.623437</td>\n",
       "      <td>NaN</td>\n",
       "      <td>0.523877</td>\n",
       "      <td>0.584144</td>\n",
       "      <td>NaN</td>\n",
       "      <td>15436.305488</td>\n",
       "      <td>16001.794507</td>\n",
       "      <td>NaN</td>\n",
       "      <td>VOY</td>\n",
       "      <td>C10-0000802-LIC</td>\n",
       "      <td>(VOY, C10-0000802-LIC)</td>\n",
       "    </tr>\n",
       "    <tr>\n",
       "      <th>2450</th>\n",
       "      <td>2022-04</td>\n",
       "      <td>5013.70</td>\n",
       "      <td>1757.345833</td>\n",
       "      <td>3256.354167</td>\n",
       "      <td>0.649491</td>\n",
       "      <td>168.0</td>\n",
       "      <td>8.0</td>\n",
       "      <td>160</td>\n",
       "      <td>0.943820</td>\n",
       "      <td>5765.7550</td>\n",
       "      <td>2231.829208</td>\n",
       "      <td>3533.925792</td>\n",
       "      <td>0.612916</td>\n",
       "      <td>0.604368</td>\n",
       "      <td>0.615272</td>\n",
       "      <td>NaN</td>\n",
       "      <td>0.563085</td>\n",
       "      <td>0.575126</td>\n",
       "      <td>NaN</td>\n",
       "      <td>11993.234547</td>\n",
       "      <td>14433.499808</td>\n",
       "      <td>NaN</td>\n",
       "      <td>VOY</td>\n",
       "      <td>C10-0000802-LIC</td>\n",
       "      <td>(VOY, C10-0000802-LIC)</td>\n",
       "    </tr>\n",
       "  </tbody>\n",
       "</table>\n",
       "</div>"
      ],
      "text/plain": [
       "         date   revenue          cogs      margin_$  margin_%  \\\n",
       "2446  2021-12  32715.38  12198.903894  20516.476106  0.627120   \n",
       "2447  2022-01  24339.01  11123.403847  13215.606153  0.542980   \n",
       "2448  2022-02  24450.82  10410.082937  14040.737063  0.574244   \n",
       "2449  2022-03  27920.68  11465.072300  16455.607700  0.589370   \n",
       "2450  2022-04   5013.70   1757.345833   3256.354167  0.649491   \n",
       "\n",
       "      total_count_incoming  product_count  count_incoming  coverage  \\\n",
       "2446                1062.0          129.0             933  0.919481   \n",
       "2447                 831.0           43.0             788  0.936866   \n",
       "2448                 796.0           37.0             759  0.953293   \n",
       "2449                 933.0           54.0             879  0.947208   \n",
       "2450                 168.0            8.0             160  0.943820   \n",
       "\n",
       "      revenue_after_tax  cogs_after_tax  margin_$_after_tax  \\\n",
       "2446         37622.6870    15492.607945        22130.079055   \n",
       "2447         27989.8615    14126.722885        13863.138615   \n",
       "2448         28118.4430    13220.805331        14897.637669   \n",
       "2449         32108.7820    14560.641821        17548.140179   \n",
       "2450          5765.7550     2231.829208         3533.925792   \n",
       "\n",
       "      margin_%_after_tax  gm_past_quarter  gm_past_2quarters  \\\n",
       "2446            0.588211         0.678010                NaN   \n",
       "2447            0.495291         0.626175                NaN   \n",
       "2448            0.529817         0.581448           0.605722   \n",
       "2449            0.546522         0.568865           0.623437   \n",
       "2450            0.612916         0.604368           0.615272   \n",
       "\n",
       "      gm_past_3quarters  gm_past_quarter_after_tax  \\\n",
       "2446                NaN                   0.644411   \n",
       "2447                NaN                   0.587167   \n",
       "2448                NaN                   0.537773   \n",
       "2449                NaN                   0.523877   \n",
       "2450                NaN                   0.563085   \n",
       "\n",
       "      gm_past_2quarters_after_tax  gm_past_3quarters_after_tax  \\\n",
       "2446                          NaN                          NaN   \n",
       "2447                          NaN                          NaN   \n",
       "2448                     0.564580                          NaN   \n",
       "2449                     0.584144                          NaN   \n",
       "2450                     0.575126                          NaN   \n",
       "\n",
       "      gm$_past_quarter_after_tax  gm$_past_2quarters_after_tax  \\\n",
       "2446                16567.283526                           NaN   \n",
       "2447                16873.765070                           NaN   \n",
       "2448                16963.618446                  14587.000533   \n",
       "2449                15436.305488                  16001.794507   \n",
       "2450                11993.234547                  14433.499808   \n",
       "\n",
       "      gm$_past_3quarters_after_tax company         location  \\\n",
       "2446                           NaN     VOY  C10-0000802-LIC   \n",
       "2447                           NaN     VOY  C10-0000802-LIC   \n",
       "2448                           NaN     VOY  C10-0000802-LIC   \n",
       "2449                           NaN     VOY  C10-0000802-LIC   \n",
       "2450                           NaN     VOY  C10-0000802-LIC   \n",
       "\n",
       "                          id  \n",
       "2446  (VOY, C10-0000802-LIC)  \n",
       "2447  (VOY, C10-0000802-LIC)  \n",
       "2448  (VOY, C10-0000802-LIC)  \n",
       "2449  (VOY, C10-0000802-LIC)  \n",
       "2450  (VOY, C10-0000802-LIC)  "
      ]
     },
     "execution_count": 20,
     "metadata": {},
     "output_type": "execute_result"
    }
   ],
   "source": [
    "df.tail()"
   ]
  },
  {
   "cell_type": "code",
   "execution_count": 21,
   "id": "3067a344",
   "metadata": {},
   "outputs": [],
   "source": [
    "df_with_state = pd.merge(df,ca_df_clean[['company_identifier','state']],left_on = 'company',right_on = 'company_identifier',how = 'left')\n",
    "\n"
   ]
  },
  {
   "cell_type": "code",
   "execution_count": 22,
   "id": "2eed666f",
   "metadata": {},
   "outputs": [
    {
     "data": {
      "text/html": [
       "<div>\n",
       "<style scoped>\n",
       "    .dataframe tbody tr th:only-of-type {\n",
       "        vertical-align: middle;\n",
       "    }\n",
       "\n",
       "    .dataframe tbody tr th {\n",
       "        vertical-align: top;\n",
       "    }\n",
       "\n",
       "    .dataframe thead th {\n",
       "        text-align: right;\n",
       "    }\n",
       "</style>\n",
       "<table border=\"1\" class=\"dataframe\">\n",
       "  <thead>\n",
       "    <tr style=\"text-align: right;\">\n",
       "      <th></th>\n",
       "      <th>date</th>\n",
       "      <th>revenue</th>\n",
       "      <th>cogs</th>\n",
       "      <th>margin_$</th>\n",
       "      <th>margin_%</th>\n",
       "      <th>total_count_incoming</th>\n",
       "      <th>product_count</th>\n",
       "      <th>count_incoming</th>\n",
       "      <th>coverage</th>\n",
       "      <th>revenue_after_tax</th>\n",
       "      <th>cogs_after_tax</th>\n",
       "      <th>margin_$_after_tax</th>\n",
       "      <th>margin_%_after_tax</th>\n",
       "      <th>gm_past_quarter</th>\n",
       "      <th>gm_past_2quarters</th>\n",
       "      <th>gm_past_3quarters</th>\n",
       "      <th>gm_past_quarter_after_tax</th>\n",
       "      <th>gm_past_2quarters_after_tax</th>\n",
       "      <th>gm_past_3quarters_after_tax</th>\n",
       "      <th>gm$_past_quarter_after_tax</th>\n",
       "      <th>gm$_past_2quarters_after_tax</th>\n",
       "      <th>gm$_past_3quarters_after_tax</th>\n",
       "      <th>company</th>\n",
       "      <th>location</th>\n",
       "      <th>id</th>\n",
       "      <th>company_identifier</th>\n",
       "      <th>state</th>\n",
       "    </tr>\n",
       "  </thead>\n",
       "  <tbody>\n",
       "    <tr>\n",
       "      <th>0</th>\n",
       "      <td>2021-01</td>\n",
       "      <td>291646.25</td>\n",
       "      <td>69798.326998</td>\n",
       "      <td>221847.923002</td>\n",
       "      <td>0.760675</td>\n",
       "      <td>4808.0</td>\n",
       "      <td>2003.0</td>\n",
       "      <td>2805</td>\n",
       "      <td>0.696005</td>\n",
       "      <td>335393.1875</td>\n",
       "      <td>88643.875287</td>\n",
       "      <td>246749.312213</td>\n",
       "      <td>0.735702</td>\n",
       "      <td>NaN</td>\n",
       "      <td>NaN</td>\n",
       "      <td>NaN</td>\n",
       "      <td>NaN</td>\n",
       "      <td>NaN</td>\n",
       "      <td>NaN</td>\n",
       "      <td>NaN</td>\n",
       "      <td>NaN</td>\n",
       "      <td>NaN</td>\n",
       "      <td>99HT</td>\n",
       "      <td>C10-0000279-LIC</td>\n",
       "      <td>(99HT, C10-0000279-LIC)</td>\n",
       "      <td>99HT</td>\n",
       "      <td>CA</td>\n",
       "    </tr>\n",
       "    <tr>\n",
       "      <th>1</th>\n",
       "      <td>2021-02</td>\n",
       "      <td>262906.73</td>\n",
       "      <td>85244.682175</td>\n",
       "      <td>177662.047825</td>\n",
       "      <td>0.675761</td>\n",
       "      <td>5464.0</td>\n",
       "      <td>377.0</td>\n",
       "      <td>5087</td>\n",
       "      <td>0.948611</td>\n",
       "      <td>302342.7395</td>\n",
       "      <td>108260.746362</td>\n",
       "      <td>194081.993138</td>\n",
       "      <td>0.641927</td>\n",
       "      <td>NaN</td>\n",
       "      <td>NaN</td>\n",
       "      <td>NaN</td>\n",
       "      <td>NaN</td>\n",
       "      <td>NaN</td>\n",
       "      <td>NaN</td>\n",
       "      <td>NaN</td>\n",
       "      <td>NaN</td>\n",
       "      <td>NaN</td>\n",
       "      <td>99HT</td>\n",
       "      <td>C10-0000279-LIC</td>\n",
       "      <td>(99HT, C10-0000279-LIC)</td>\n",
       "      <td>99HT</td>\n",
       "      <td>CA</td>\n",
       "    </tr>\n",
       "    <tr>\n",
       "      <th>2</th>\n",
       "      <td>2021-03</td>\n",
       "      <td>315154.72</td>\n",
       "      <td>99796.521792</td>\n",
       "      <td>215358.198208</td>\n",
       "      <td>0.683341</td>\n",
       "      <td>6902.0</td>\n",
       "      <td>159.0</td>\n",
       "      <td>6743</td>\n",
       "      <td>0.951475</td>\n",
       "      <td>362427.9280</td>\n",
       "      <td>126741.582676</td>\n",
       "      <td>235686.345324</td>\n",
       "      <td>0.650299</td>\n",
       "      <td>0.706592</td>\n",
       "      <td>NaN</td>\n",
       "      <td>NaN</td>\n",
       "      <td>0.675976</td>\n",
       "      <td>NaN</td>\n",
       "      <td>NaN</td>\n",
       "      <td>225505.883559</td>\n",
       "      <td>NaN</td>\n",
       "      <td>NaN</td>\n",
       "      <td>99HT</td>\n",
       "      <td>C10-0000279-LIC</td>\n",
       "      <td>(99HT, C10-0000279-LIC)</td>\n",
       "      <td>99HT</td>\n",
       "      <td>CA</td>\n",
       "    </tr>\n",
       "    <tr>\n",
       "      <th>3</th>\n",
       "      <td>2021-04</td>\n",
       "      <td>329925.48</td>\n",
       "      <td>100825.215287</td>\n",
       "      <td>229100.264713</td>\n",
       "      <td>0.694400</td>\n",
       "      <td>7081.0</td>\n",
       "      <td>112.0</td>\n",
       "      <td>6969</td>\n",
       "      <td>0.931465</td>\n",
       "      <td>379414.3020</td>\n",
       "      <td>128048.023414</td>\n",
       "      <td>251366.278586</td>\n",
       "      <td>0.662511</td>\n",
       "      <td>0.684501</td>\n",
       "      <td>NaN</td>\n",
       "      <td>NaN</td>\n",
       "      <td>0.651579</td>\n",
       "      <td>NaN</td>\n",
       "      <td>NaN</td>\n",
       "      <td>227044.872350</td>\n",
       "      <td>NaN</td>\n",
       "      <td>NaN</td>\n",
       "      <td>99HT</td>\n",
       "      <td>C10-0000279-LIC</td>\n",
       "      <td>(99HT, C10-0000279-LIC)</td>\n",
       "      <td>99HT</td>\n",
       "      <td>CA</td>\n",
       "    </tr>\n",
       "    <tr>\n",
       "      <th>4</th>\n",
       "      <td>2021-05</td>\n",
       "      <td>336793.80</td>\n",
       "      <td>98971.770002</td>\n",
       "      <td>237822.029998</td>\n",
       "      <td>0.706135</td>\n",
       "      <td>7286.0</td>\n",
       "      <td>131.0</td>\n",
       "      <td>7155</td>\n",
       "      <td>0.918326</td>\n",
       "      <td>387312.8700</td>\n",
       "      <td>125694.147903</td>\n",
       "      <td>261618.722097</td>\n",
       "      <td>0.675471</td>\n",
       "      <td>0.694626</td>\n",
       "      <td>NaN</td>\n",
       "      <td>NaN</td>\n",
       "      <td>0.662760</td>\n",
       "      <td>NaN</td>\n",
       "      <td>NaN</td>\n",
       "      <td>249557.115336</td>\n",
       "      <td>NaN</td>\n",
       "      <td>NaN</td>\n",
       "      <td>99HT</td>\n",
       "      <td>C10-0000279-LIC</td>\n",
       "      <td>(99HT, C10-0000279-LIC)</td>\n",
       "      <td>99HT</td>\n",
       "      <td>CA</td>\n",
       "    </tr>\n",
       "    <tr>\n",
       "      <th>...</th>\n",
       "      <td>...</td>\n",
       "      <td>...</td>\n",
       "      <td>...</td>\n",
       "      <td>...</td>\n",
       "      <td>...</td>\n",
       "      <td>...</td>\n",
       "      <td>...</td>\n",
       "      <td>...</td>\n",
       "      <td>...</td>\n",
       "      <td>...</td>\n",
       "      <td>...</td>\n",
       "      <td>...</td>\n",
       "      <td>...</td>\n",
       "      <td>...</td>\n",
       "      <td>...</td>\n",
       "      <td>...</td>\n",
       "      <td>...</td>\n",
       "      <td>...</td>\n",
       "      <td>...</td>\n",
       "      <td>...</td>\n",
       "      <td>...</td>\n",
       "      <td>...</td>\n",
       "      <td>...</td>\n",
       "      <td>...</td>\n",
       "      <td>...</td>\n",
       "      <td>...</td>\n",
       "      <td>...</td>\n",
       "    </tr>\n",
       "    <tr>\n",
       "      <th>2446</th>\n",
       "      <td>2021-12</td>\n",
       "      <td>32715.38</td>\n",
       "      <td>12198.903894</td>\n",
       "      <td>20516.476106</td>\n",
       "      <td>0.627120</td>\n",
       "      <td>1062.0</td>\n",
       "      <td>129.0</td>\n",
       "      <td>933</td>\n",
       "      <td>0.919481</td>\n",
       "      <td>37622.6870</td>\n",
       "      <td>15492.607945</td>\n",
       "      <td>22130.079055</td>\n",
       "      <td>0.588211</td>\n",
       "      <td>0.678010</td>\n",
       "      <td>NaN</td>\n",
       "      <td>NaN</td>\n",
       "      <td>0.644411</td>\n",
       "      <td>NaN</td>\n",
       "      <td>NaN</td>\n",
       "      <td>16567.283526</td>\n",
       "      <td>NaN</td>\n",
       "      <td>NaN</td>\n",
       "      <td>VOY</td>\n",
       "      <td>C10-0000802-LIC</td>\n",
       "      <td>(VOY, C10-0000802-LIC)</td>\n",
       "      <td>VOY</td>\n",
       "      <td>CA</td>\n",
       "    </tr>\n",
       "    <tr>\n",
       "      <th>2447</th>\n",
       "      <td>2022-01</td>\n",
       "      <td>24339.01</td>\n",
       "      <td>11123.403847</td>\n",
       "      <td>13215.606153</td>\n",
       "      <td>0.542980</td>\n",
       "      <td>831.0</td>\n",
       "      <td>43.0</td>\n",
       "      <td>788</td>\n",
       "      <td>0.936866</td>\n",
       "      <td>27989.8615</td>\n",
       "      <td>14126.722885</td>\n",
       "      <td>13863.138615</td>\n",
       "      <td>0.495291</td>\n",
       "      <td>0.626175</td>\n",
       "      <td>NaN</td>\n",
       "      <td>NaN</td>\n",
       "      <td>0.587167</td>\n",
       "      <td>NaN</td>\n",
       "      <td>NaN</td>\n",
       "      <td>16873.765070</td>\n",
       "      <td>NaN</td>\n",
       "      <td>NaN</td>\n",
       "      <td>VOY</td>\n",
       "      <td>C10-0000802-LIC</td>\n",
       "      <td>(VOY, C10-0000802-LIC)</td>\n",
       "      <td>VOY</td>\n",
       "      <td>CA</td>\n",
       "    </tr>\n",
       "    <tr>\n",
       "      <th>2448</th>\n",
       "      <td>2022-02</td>\n",
       "      <td>24450.82</td>\n",
       "      <td>10410.082937</td>\n",
       "      <td>14040.737063</td>\n",
       "      <td>0.574244</td>\n",
       "      <td>796.0</td>\n",
       "      <td>37.0</td>\n",
       "      <td>759</td>\n",
       "      <td>0.953293</td>\n",
       "      <td>28118.4430</td>\n",
       "      <td>13220.805331</td>\n",
       "      <td>14897.637669</td>\n",
       "      <td>0.529817</td>\n",
       "      <td>0.581448</td>\n",
       "      <td>0.605722</td>\n",
       "      <td>NaN</td>\n",
       "      <td>0.537773</td>\n",
       "      <td>0.564580</td>\n",
       "      <td>NaN</td>\n",
       "      <td>16963.618446</td>\n",
       "      <td>14587.000533</td>\n",
       "      <td>NaN</td>\n",
       "      <td>VOY</td>\n",
       "      <td>C10-0000802-LIC</td>\n",
       "      <td>(VOY, C10-0000802-LIC)</td>\n",
       "      <td>VOY</td>\n",
       "      <td>CA</td>\n",
       "    </tr>\n",
       "    <tr>\n",
       "      <th>2449</th>\n",
       "      <td>2022-03</td>\n",
       "      <td>27920.68</td>\n",
       "      <td>11465.072300</td>\n",
       "      <td>16455.607700</td>\n",
       "      <td>0.589370</td>\n",
       "      <td>933.0</td>\n",
       "      <td>54.0</td>\n",
       "      <td>879</td>\n",
       "      <td>0.947208</td>\n",
       "      <td>32108.7820</td>\n",
       "      <td>14560.641821</td>\n",
       "      <td>17548.140179</td>\n",
       "      <td>0.546522</td>\n",
       "      <td>0.568865</td>\n",
       "      <td>0.623437</td>\n",
       "      <td>NaN</td>\n",
       "      <td>0.523877</td>\n",
       "      <td>0.584144</td>\n",
       "      <td>NaN</td>\n",
       "      <td>15436.305488</td>\n",
       "      <td>16001.794507</td>\n",
       "      <td>NaN</td>\n",
       "      <td>VOY</td>\n",
       "      <td>C10-0000802-LIC</td>\n",
       "      <td>(VOY, C10-0000802-LIC)</td>\n",
       "      <td>VOY</td>\n",
       "      <td>CA</td>\n",
       "    </tr>\n",
       "    <tr>\n",
       "      <th>2450</th>\n",
       "      <td>2022-04</td>\n",
       "      <td>5013.70</td>\n",
       "      <td>1757.345833</td>\n",
       "      <td>3256.354167</td>\n",
       "      <td>0.649491</td>\n",
       "      <td>168.0</td>\n",
       "      <td>8.0</td>\n",
       "      <td>160</td>\n",
       "      <td>0.943820</td>\n",
       "      <td>5765.7550</td>\n",
       "      <td>2231.829208</td>\n",
       "      <td>3533.925792</td>\n",
       "      <td>0.612916</td>\n",
       "      <td>0.604368</td>\n",
       "      <td>0.615272</td>\n",
       "      <td>NaN</td>\n",
       "      <td>0.563085</td>\n",
       "      <td>0.575126</td>\n",
       "      <td>NaN</td>\n",
       "      <td>11993.234547</td>\n",
       "      <td>14433.499808</td>\n",
       "      <td>NaN</td>\n",
       "      <td>VOY</td>\n",
       "      <td>C10-0000802-LIC</td>\n",
       "      <td>(VOY, C10-0000802-LIC)</td>\n",
       "      <td>VOY</td>\n",
       "      <td>CA</td>\n",
       "    </tr>\n",
       "  </tbody>\n",
       "</table>\n",
       "<p>2451 rows × 27 columns</p>\n",
       "</div>"
      ],
      "text/plain": [
       "         date    revenue           cogs       margin_$  margin_%  \\\n",
       "0     2021-01  291646.25   69798.326998  221847.923002  0.760675   \n",
       "1     2021-02  262906.73   85244.682175  177662.047825  0.675761   \n",
       "2     2021-03  315154.72   99796.521792  215358.198208  0.683341   \n",
       "3     2021-04  329925.48  100825.215287  229100.264713  0.694400   \n",
       "4     2021-05  336793.80   98971.770002  237822.029998  0.706135   \n",
       "...       ...        ...            ...            ...       ...   \n",
       "2446  2021-12   32715.38   12198.903894   20516.476106  0.627120   \n",
       "2447  2022-01   24339.01   11123.403847   13215.606153  0.542980   \n",
       "2448  2022-02   24450.82   10410.082937   14040.737063  0.574244   \n",
       "2449  2022-03   27920.68   11465.072300   16455.607700  0.589370   \n",
       "2450  2022-04    5013.70    1757.345833    3256.354167  0.649491   \n",
       "\n",
       "      total_count_incoming  product_count  count_incoming  coverage  \\\n",
       "0                   4808.0         2003.0            2805  0.696005   \n",
       "1                   5464.0          377.0            5087  0.948611   \n",
       "2                   6902.0          159.0            6743  0.951475   \n",
       "3                   7081.0          112.0            6969  0.931465   \n",
       "4                   7286.0          131.0            7155  0.918326   \n",
       "...                    ...            ...             ...       ...   \n",
       "2446                1062.0          129.0             933  0.919481   \n",
       "2447                 831.0           43.0             788  0.936866   \n",
       "2448                 796.0           37.0             759  0.953293   \n",
       "2449                 933.0           54.0             879  0.947208   \n",
       "2450                 168.0            8.0             160  0.943820   \n",
       "\n",
       "      revenue_after_tax  cogs_after_tax  margin_$_after_tax  \\\n",
       "0           335393.1875    88643.875287       246749.312213   \n",
       "1           302342.7395   108260.746362       194081.993138   \n",
       "2           362427.9280   126741.582676       235686.345324   \n",
       "3           379414.3020   128048.023414       251366.278586   \n",
       "4           387312.8700   125694.147903       261618.722097   \n",
       "...                 ...             ...                 ...   \n",
       "2446         37622.6870    15492.607945        22130.079055   \n",
       "2447         27989.8615    14126.722885        13863.138615   \n",
       "2448         28118.4430    13220.805331        14897.637669   \n",
       "2449         32108.7820    14560.641821        17548.140179   \n",
       "2450          5765.7550     2231.829208         3533.925792   \n",
       "\n",
       "      margin_%_after_tax  gm_past_quarter  gm_past_2quarters  \\\n",
       "0               0.735702              NaN                NaN   \n",
       "1               0.641927              NaN                NaN   \n",
       "2               0.650299         0.706592                NaN   \n",
       "3               0.662511         0.684501                NaN   \n",
       "4               0.675471         0.694626                NaN   \n",
       "...                  ...              ...                ...   \n",
       "2446            0.588211         0.678010                NaN   \n",
       "2447            0.495291         0.626175                NaN   \n",
       "2448            0.529817         0.581448           0.605722   \n",
       "2449            0.546522         0.568865           0.623437   \n",
       "2450            0.612916         0.604368           0.615272   \n",
       "\n",
       "      gm_past_3quarters  gm_past_quarter_after_tax  \\\n",
       "0                   NaN                        NaN   \n",
       "1                   NaN                        NaN   \n",
       "2                   NaN                   0.675976   \n",
       "3                   NaN                   0.651579   \n",
       "4                   NaN                   0.662760   \n",
       "...                 ...                        ...   \n",
       "2446                NaN                   0.644411   \n",
       "2447                NaN                   0.587167   \n",
       "2448                NaN                   0.537773   \n",
       "2449                NaN                   0.523877   \n",
       "2450                NaN                   0.563085   \n",
       "\n",
       "      gm_past_2quarters_after_tax  gm_past_3quarters_after_tax  \\\n",
       "0                             NaN                          NaN   \n",
       "1                             NaN                          NaN   \n",
       "2                             NaN                          NaN   \n",
       "3                             NaN                          NaN   \n",
       "4                             NaN                          NaN   \n",
       "...                           ...                          ...   \n",
       "2446                          NaN                          NaN   \n",
       "2447                          NaN                          NaN   \n",
       "2448                     0.564580                          NaN   \n",
       "2449                     0.584144                          NaN   \n",
       "2450                     0.575126                          NaN   \n",
       "\n",
       "      gm$_past_quarter_after_tax  gm$_past_2quarters_after_tax  \\\n",
       "0                            NaN                           NaN   \n",
       "1                            NaN                           NaN   \n",
       "2                  225505.883559                           NaN   \n",
       "3                  227044.872350                           NaN   \n",
       "4                  249557.115336                           NaN   \n",
       "...                          ...                           ...   \n",
       "2446                16567.283526                           NaN   \n",
       "2447                16873.765070                           NaN   \n",
       "2448                16963.618446                  14587.000533   \n",
       "2449                15436.305488                  16001.794507   \n",
       "2450                11993.234547                  14433.499808   \n",
       "\n",
       "      gm$_past_3quarters_after_tax company         location  \\\n",
       "0                              NaN    99HT  C10-0000279-LIC   \n",
       "1                              NaN    99HT  C10-0000279-LIC   \n",
       "2                              NaN    99HT  C10-0000279-LIC   \n",
       "3                              NaN    99HT  C10-0000279-LIC   \n",
       "4                              NaN    99HT  C10-0000279-LIC   \n",
       "...                            ...     ...              ...   \n",
       "2446                           NaN     VOY  C10-0000802-LIC   \n",
       "2447                           NaN     VOY  C10-0000802-LIC   \n",
       "2448                           NaN     VOY  C10-0000802-LIC   \n",
       "2449                           NaN     VOY  C10-0000802-LIC   \n",
       "2450                           NaN     VOY  C10-0000802-LIC   \n",
       "\n",
       "                           id company_identifier state  \n",
       "0     (99HT, C10-0000279-LIC)               99HT    CA  \n",
       "1     (99HT, C10-0000279-LIC)               99HT    CA  \n",
       "2     (99HT, C10-0000279-LIC)               99HT    CA  \n",
       "3     (99HT, C10-0000279-LIC)               99HT    CA  \n",
       "4     (99HT, C10-0000279-LIC)               99HT    CA  \n",
       "...                       ...                ...   ...  \n",
       "2446   (VOY, C10-0000802-LIC)                VOY    CA  \n",
       "2447   (VOY, C10-0000802-LIC)                VOY    CA  \n",
       "2448   (VOY, C10-0000802-LIC)                VOY    CA  \n",
       "2449   (VOY, C10-0000802-LIC)                VOY    CA  \n",
       "2450   (VOY, C10-0000802-LIC)                VOY    CA  \n",
       "\n",
       "[2451 rows x 27 columns]"
      ]
     },
     "execution_count": 22,
     "metadata": {},
     "output_type": "execute_result"
    }
   ],
   "source": [
    "df_with_state"
   ]
  },
  {
   "cell_type": "code",
   "execution_count": 23,
   "id": "7609bde4",
   "metadata": {},
   "outputs": [],
   "source": [
    "df_with_state.to_csv('all_metrc_gm_0408.csv')"
   ]
  },
  {
   "cell_type": "code",
   "execution_count": null,
   "id": "94fa730f",
   "metadata": {},
   "outputs": [],
   "source": [
    "state_count = df_with_state[['state','id','date']].groupby(['state','date']).count().unstack().T.reset_index()"
   ]
  },
  {
   "cell_type": "code",
   "execution_count": null,
   "id": "6d6d9670",
   "metadata": {},
   "outputs": [],
   "source": [
    "state_count"
   ]
  },
  {
   "cell_type": "code",
   "execution_count": null,
   "id": "8dd1767a",
   "metadata": {},
   "outputs": [],
   "source": [
    "state_avg = df_with_state[['state','coverage','date']].groupby(['state','date']).mean().unstack().T.reset_index()\n",
    "state_avg.index = pd.to_datetime(state_avg['date'])\n",
    "\n",
    "ax = state_avg.plot(kind='bar', stacked=False,figsize = (12,9))\n",
    "ax.legend(loc = 2)"
   ]
  },
  {
   "cell_type": "code",
   "execution_count": null,
   "id": "5deb8c88",
   "metadata": {},
   "outputs": [],
   "source": [
    "state_avg"
   ]
  },
  {
   "cell_type": "markdown",
   "id": "e7a8d5ce",
   "metadata": {},
   "source": [
    "# inventory & coverage"
   ]
  },
  {
   "cell_type": "code",
   "execution_count": null,
   "id": "b2824e96",
   "metadata": {},
   "outputs": [],
   "source": [
    "today = date.today()\n",
    "today"
   ]
  },
  {
   "cell_type": "code",
   "execution_count": null,
   "id": "15977581",
   "metadata": {},
   "outputs": [],
   "source": [
    "def read_inv_data(COMPANY_IDENTIFIER,license_numbers):\n",
    "    \n",
    "    company_inventory_packages_query = create_queries.create_company_inventory_packages_query(\n",
    "    COMPANY_IDENTIFIER,\n",
    "    include_quantity_zero=True,\n",
    "    license_numbers=license_numbers,\n",
    "    )\n",
    "    company_inventory_packages_dataframe = pd.read_sql_query(company_inventory_packages_query, engine)\n",
    "    return company_inventory_packages_dataframe\n"
   ]
  },
  {
   "cell_type": "code",
   "execution_count": null,
   "id": "b440293b",
   "metadata": {},
   "outputs": [],
   "source": [
    "def calculate_inventory_valuation(incoming_transfer_df,inventory_df,license_list):\n",
    "    # legal name\n",
    "    legal_name = incoming_transfer_df[incoming_transfer_df['license_number'].isin(license_list)]['recipient_facility_name'].values[0]\n",
    "    # process df_in and df_sales\n",
    "    #sales_df['per_unit'] = sales_df['tx_total_price'] / sales_df['tx_quantity_sold']\n",
    "    #sales_df['year_month'] = sales_df['sales_datetime'].dt.strftime(\"%Y-%m\")\n",
    "    incoming_transfer_df['per_unit_incoming'] = incoming_transfer_df['shipper_wholesale_price'] / incoming_transfer_df['shipped_quantity']\n",
    "    incoming_transfer_df_price = incoming_transfer_df[incoming_transfer_df['shipper_wholesale_price'].notnull()]\n",
    "    # by package id\n",
    "    average_incoming_package_id = incoming_transfer_df_price.groupby(['package_id'])['per_unit_incoming'].mean()\n",
    "    df_avg_incoming_price = pd.Series(average_incoming_package_id).to_frame()\n",
    "    df_avg_incoming_price = df_avg_incoming_price.reset_index()\n",
    "    # by product\n",
    "    average_incoming_product = incoming_transfer_df_price.groupby(['product_name'])['per_unit_incoming'].mean()\n",
    "    df_avg_product = pd.Series(average_incoming_product).to_frame()\n",
    "    df_avg_product = df_avg_product.reset_index()\n",
    "    df_avg_product.rename(columns={'per_unit_incoming':'per_unit_product'}, inplace=True)\n",
    "    #calculate inventory\n",
    "    df_inventory_incoming = pd.merge(inventory_df, df_avg_incoming_price, left_on=['package_id'],right_on = ['package_id'], how='left')\n",
    "    df_inventory_incoming.replace([numpy.inf], numpy.nan, inplace=True)\n",
    "    df_inv_null = df_inventory_incoming[df_inventory_incoming['per_unit_incoming'].isnull()]\n",
    "    df_inv_product = pd.merge(df_inv_null, df_avg_product, left_on=['product_name'],right_on = ['product_name'], how='left')\n",
    "    df_inv_product.replace([numpy.inf], numpy.nan, inplace=True)\n",
    "    df_inv_product_price = df_inv_product[df_inv_product['per_unit_product'].notnull()]\n",
    "    df_inv_product_price['total_price'] = df_inv_product_price['quantity'] * df_inv_product_price['per_unit_product']\n",
    "    \n",
    "    inventory_product_value = df_inv_product_price['total_price'].sum()\n",
    "    df_inventory_incoming['total_price'] = df_inventory_incoming['quantity'] * df_inventory_incoming['per_unit_incoming']\n",
    "    inventory_value = df_inventory_incoming['total_price'].sum()\n",
    "    total_inv_value = inventory_product_value + inventory_value\n",
    "    inv_count_product = df_inv_product_price['per_unit_product'].count()\n",
    "    inv_count_incoming = df_inventory_incoming['per_unit_incoming'].count()\n",
    "    inv_count_total = df_inventory_incoming['quantity'].count()\n",
    "    inv_total_incoming = inv_count_product + inv_count_incoming\n",
    "    inventory_coverage = inv_total_incoming / inv_count_total\n",
    "    # prepare data\n",
    "    data = [[today], \n",
    "            [total_inv_value], \n",
    "            [inv_total_incoming], \n",
    "            [inv_count_total], \n",
    "            [inventory_coverage],\n",
    "            [license_list],\n",
    "            [legal_name]]\n",
    "    df_inventory_license = pd.DataFrame(data).T\n",
    "    df_inventory_license.columns = ['date','value','total_incoming','total','coverage','license','legal_name']\n",
    "    return df_inventory_license\n",
    "    "
   ]
  },
  {
   "cell_type": "code",
   "execution_count": null,
   "id": "49c9db37",
   "metadata": {},
   "outputs": [],
   "source": [
    "def get_inv_list(company_list,transfer_packages_start_date,sales_transactrions_start_date,map_df):\n",
    "    inv_df_list = {}\n",
    "    for c in tqdm(company_list):\n",
    "        inv_list = {}\n",
    "        print(c)\n",
    "        l_list = map_df[map_df['company_identifier'] == c]['lic_list'].to_list()[0]\n",
    "        for l in tqdm(l_list):\n",
    "            print(l)\n",
    "            df_in = read_df_in([c],[l])\n",
    "            #df_sales = read_df_sales([c],[l])\n",
    "            df_inv = read_inv_data([c],[l])\n",
    "            if df_inv.shape[0] == 0:\n",
    "                inv_list[l] = numpy.nan\n",
    "                continue\n",
    "            else:\n",
    "                inv = calculate_inventory_valuation(df_in,df_inv,[l])\n",
    "                inv_list[l] = inv\n",
    "        inv_df_list[c] =  inv_list\n",
    "    return inv_df_list\n",
    "\n",
    "    \n",
    "\n",
    "    "
   ]
  },
  {
   "cell_type": "code",
   "execution_count": null,
   "id": "2b987e87",
   "metadata": {},
   "outputs": [],
   "source": [
    "b = get_inv_list(list(ca_df_clean['company_identifier']),TRANSFER_PACKAGES_START_DATE,SALES_TRANSACTIONS_START_DATE,ca_df_clean)\n",
    "\n",
    "\n"
   ]
  },
  {
   "cell_type": "code",
   "execution_count": null,
   "id": "ef8d0e85",
   "metadata": {},
   "outputs": [],
   "source": [
    "b.keys()"
   ]
  },
  {
   "cell_type": "code",
   "execution_count": null,
   "id": "1d73f1a8",
   "metadata": {},
   "outputs": [],
   "source": [
    "for k in b.keys():\n",
    "    print(k)\n",
    "    for l in b[k].keys():\n",
    "        print(l)"
   ]
  },
  {
   "cell_type": "code",
   "execution_count": null,
   "id": "b091421a",
   "metadata": {},
   "outputs": [],
   "source": [
    "str(b['QR']['AU-R-000233'])"
   ]
  },
  {
   "cell_type": "code",
   "execution_count": null,
   "id": "f7b6061c",
   "metadata": {},
   "outputs": [],
   "source": [
    "df_inv = pd.DataFrame()\n",
    "for k in b.keys():\n",
    "    print(k)\n",
    "    for l in b[k].keys():\n",
    "        print(l)\n",
    "        data_inv = b[k][l]\n",
    "        if str(data_inv) == 'nan':\n",
    "            continue\n",
    "        else:\n",
    "            data_inv['company'] = k\n",
    "            data_inv['location'] = l\n",
    "            print(data_inv.shape)\n",
    "            df_inv = df_inv.append(data_inv)\n",
    "        #data.to_excel('ca_location_analysis/'+'analysis_' + k + '_'+ l+'.xlsx')"
   ]
  },
  {
   "cell_type": "code",
   "execution_count": null,
   "id": "4c900f81",
   "metadata": {},
   "outputs": [],
   "source": [
    "#df_inv.to_csv('all_metrc_inv_0316.csv')\n",
    "\n"
   ]
  },
  {
   "cell_type": "code",
   "execution_count": null,
   "id": "b5f9d0c4",
   "metadata": {},
   "outputs": [],
   "source": [
    "len(df_inv['company'].unique())"
   ]
  },
  {
   "cell_type": "code",
   "execution_count": null,
   "id": "cf011bb3",
   "metadata": {},
   "outputs": [],
   "source": [
    "df_inv['id'] = list(zip(df_inv.company, df_inv.location))\n",
    "df_inv = df_inv.reset_index(drop = True)"
   ]
  },
  {
   "cell_type": "code",
   "execution_count": null,
   "id": "94e30bf9",
   "metadata": {},
   "outputs": [],
   "source": [
    "len(df_inv['id'].unique())"
   ]
  },
  {
   "cell_type": "code",
   "execution_count": null,
   "id": "c99ced47",
   "metadata": {},
   "outputs": [],
   "source": [
    "df_inv_with_state = pd.merge(df_inv,ca_df_clean[['company_identifier','state']],left_on = 'company',right_on = 'company_identifier',how = 'left')\n",
    "\n"
   ]
  },
  {
   "cell_type": "code",
   "execution_count": null,
   "id": "8c26ba58",
   "metadata": {},
   "outputs": [],
   "source": [
    "#df_inv_with_state.to_csv('all_metrc_inv_0317.csv')"
   ]
  },
  {
   "cell_type": "code",
   "execution_count": null,
   "id": "53496f18",
   "metadata": {},
   "outputs": [],
   "source": [
    "df_inv_with_state['coverage'] = df_inv_with_state['coverage'].astype('float')"
   ]
  },
  {
   "cell_type": "code",
   "execution_count": null,
   "id": "5baf0a09",
   "metadata": {},
   "outputs": [],
   "source": [
    "state_count_inv = df_inv_with_state[['state','id']].groupby(['state']).count().unstack().T.reset_index()\n",
    "state_avg_inv = df_inv_with_state[['state','coverage']].groupby(['state']).mean().unstack().T.reset_index()\n",
    "state_med_inv = df_inv_with_state[['state','coverage']].groupby(['state']).median().unstack().T.reset_index()\n",
    "\n"
   ]
  },
  {
   "cell_type": "code",
   "execution_count": null,
   "id": "67a846b0",
   "metadata": {},
   "outputs": [],
   "source": [
    "state_count_inv"
   ]
  },
  {
   "cell_type": "code",
   "execution_count": null,
   "id": "b08519f0",
   "metadata": {},
   "outputs": [],
   "source": [
    "state_avg_inv"
   ]
  },
  {
   "cell_type": "code",
   "execution_count": null,
   "id": "077af9e6",
   "metadata": {},
   "outputs": [],
   "source": [
    "state_med_inv"
   ]
  },
  {
   "cell_type": "code",
   "execution_count": null,
   "id": "e065819f",
   "metadata": {},
   "outputs": [],
   "source": [
    "co_inv = df_inv_with_state[df_inv_with_state['state'] == 'MI'][['id','coverage']]\n",
    "co_inv.index = co_inv.id"
   ]
  },
  {
   "cell_type": "code",
   "execution_count": null,
   "id": "381a6176",
   "metadata": {},
   "outputs": [],
   "source": [
    "co_inv"
   ]
  },
  {
   "cell_type": "code",
   "execution_count": null,
   "id": "8b25d1e7",
   "metadata": {},
   "outputs": [],
   "source": [
    "co_inv.plot(kind = 'bar',figsize = (15,7))"
   ]
  },
  {
   "cell_type": "code",
   "execution_count": null,
   "id": "26c8264d",
   "metadata": {},
   "outputs": [],
   "source": []
  },
  {
   "cell_type": "markdown",
   "id": "0380a2f1",
   "metadata": {},
   "source": [
    "# Vendor Churn"
   ]
  },
  {
   "cell_type": "code",
   "execution_count": null,
   "id": "e56e4c27",
   "metadata": {},
   "outputs": [],
   "source": [
    "WINDOW = 4\n",
    "VC_START_DATE = '2020-01-01'\n",
    "VC_END_DATE = '2022-03-01'\n",
    "VC_MONTH_LIST = ['2021-11-01','2021-12-01','2022-01-01','2022-02-01']\n",
    "VC_MONTH_END = VC_MONTH_LIST[-1]"
   ]
  },
  {
   "cell_type": "code",
   "execution_count": null,
   "id": "81b4e808",
   "metadata": {},
   "outputs": [],
   "source": [
    "def calculate_vendor_churn(incoming_transfer_df,license_list,vc_windown,vc_start_date,vc_end_date,vc_month_list,vc_month_end):\n",
    "    df_vendor_churn = incoming_transfer_df[incoming_transfer_df['license_number'].isin(license_list)]\n",
    "    df_vendor_churn['year_month'] = pd.to_datetime(df_vendor_churn['created_date']).dt.strftime(\"%Y-%m\")\n",
    "    vc = df_vendor_churn[['year_month','shipper_facility_name','shipper_wholesale_price']].groupby(['year_month','shipper_facility_name']).sum().reset_index()\n",
    "    vc= vc.assign(year_month=lambda df:pd.to_datetime(df['year_month']))\n",
    "\n",
    "    vc_full = (\n",
    "        vc\n",
    "        .groupby('shipper_facility_name').apply(\n",
    "            lambda df: df.merge(\n",
    "            pd.Series(\n",
    "                None, \n",
    "                index = pd.date_range(start = vc_start_date, end = vc_end_date, freq = 'MS'), \n",
    "                name='__place_holder'\n",
    "            ), \n",
    "            how ='right',\n",
    "            left_on = 'year_month', \n",
    "            right_index=True,\n",
    "        ).assign(\n",
    "            **{\n",
    "                \"shipper_facility_name\": lambda df_: df_.shipper_facility_name.dropna().unique()[0],\n",
    "                \"shipper_wholesale_price\": lambda df_: df_.shipper_wholesale_price.fillna(0),\n",
    "            }\n",
    "        )\n",
    "        .drop('__place_holder', axis=1)\n",
    "        )\n",
    "    ).reset_index(drop=True)\n",
    "    \n",
    "    rolling_4m_sum =  vc_full.groupby('shipper_facility_name').apply(\n",
    "    lambda df: df.set_index('year_month').sort_index().rolling(vc_windown).sum()\n",
    "    )\n",
    "    rolling_4m_sum.columns = ['rolling_4m_total_price']\n",
    "    facility_monthly_running_total = vc_full.groupby('shipper_facility_name').apply(\n",
    "        lambda df: df.set_index('year_month').sort_index()['shipper_wholesale_price'].cumsum().to_frame()\n",
    "    )\n",
    "    facility_monthly_running_total.columns = ['facility_running_total']\n",
    "    monthly_running_total = facility_monthly_running_total.reset_index().groupby('year_month')['facility_running_total'].sum().to_frame()\n",
    "    monthly_running_total.columns = ['monthly_running_total']\n",
    "\n",
    "    vc_result = rolling_4m_sum.merge(\n",
    "        facility_monthly_running_total,\n",
    "        how='inner',\n",
    "        left_index=True,\n",
    "        right_index=True\n",
    "    ).reset_index().merge(\n",
    "        monthly_running_total,\n",
    "        how='left',\n",
    "        on = 'year_month'\n",
    "    )\n",
    "    vc_result['%_total'] = vc_result['facility_running_total'] / vc_result['monthly_running_total']\n",
    "    vc_result['last_4m_active'] = vc_result['rolling_4m_total_price'] > 0\n",
    "    vc_result ['significant'] = vc_result['%_total'] > 0.001\n",
    "    vc_result['measure'] = vc_result.apply(\n",
    "    lambda row: \"Active\"  if (row['last_4m_active'] & row['significant']) else (\"Inactive\" if row['significant'] else \"Exclude\"),\n",
    "    axis=1\n",
    "    )\n",
    "    #churn\n",
    "    churn = vc_result.groupby(['year_month']).apply(lambda x: x[x['measure'] == 'Inactive']['%_total'].sum()).reset_index()\n",
    "    churn.columns = ['year_month','%_inactive']\n",
    "    churn.index = churn.year_month\n",
    "    \n",
    "    # output vendor churn matrix\n",
    "    vc_data = vc_full[vc_full['year_month'] <= VC_MONTH_END]\n",
    "    vc_data['year_month'] = vc_data['year_month'].astype(str)\n",
    "    vc_matrix = pd.pivot_table(vc_data, values='shipper_wholesale_price', index='shipper_facility_name',\n",
    "    columns='year_month', fill_value=0).reset_index()\n",
    "    vc_matrix['facility_total'] = vc_matrix.sum(axis= 1)\n",
    "    vc_matrix['grand_total'] = vc_matrix['facility_total'].sum()\n",
    "    vc_matrix['perc_total'] = vc_matrix['facility_total'] / vc_matrix['grand_total']\n",
    "    vc_matrix['last_4m_total'] = vc_matrix[VC_MONTH_LIST].sum(axis = 1)\n",
    "    vc_matrix['last_4m_active'] = vc_matrix['last_4m_total'] > 0\n",
    "    vc_matrix ['significant'] = vc_matrix['perc_total'] > 0.001\n",
    "    vc_matrix['measure'] = vc_matrix.apply(\n",
    "        lambda row: \"Active\"  if (row['last_4m_active'] & row['significant']) else (\"Inactive\" if row['significant'] else \"Exclude\"),\n",
    "        axis=1\n",
    "    )\n",
    "    return churn\n",
    "    \n"
   ]
  },
  {
   "cell_type": "code",
   "execution_count": null,
   "id": "2f4fa93e",
   "metadata": {},
   "outputs": [],
   "source": [
    "def get_vc_list(company_list,transfer_packages_start_date,sales_transactrions_start_date,map_df):\n",
    "    vc_df_list = {}\n",
    "    for c in tqdm(company_list):\n",
    "        vc_list = {}\n",
    "        print(c)\n",
    "        l_list = map_df[map_df['company_identifier'] == c]['lic_list'].to_list()[0]\n",
    "        for l in tqdm(l_list):\n",
    "            print(l)\n",
    "            df_in = read_df_in([c],[l])\n",
    "            #df_sales = read_df_sales([c],[l])\n",
    "            #df_inv = read_inv_data([c],[l])\n",
    "            if df_in.shape[0] == 0:\n",
    "                vc_list[l] = numpy.nan\n",
    "                continue\n",
    "            else:\n",
    "                vc = calculate_vendor_churn(df_in,[l],WINDOW,VC_START_DATE,VC_END_DATE,VC_MONTH_LIST,VC_MONTH_END)\n",
    "                vc_list[l] = vc\n",
    "        vc_df_list[c] =  vc_list\n",
    "    return vc_df_list\n",
    "\n",
    "    \n",
    "\n",
    "    "
   ]
  },
  {
   "cell_type": "code",
   "execution_count": null,
   "id": "943f6fdb",
   "metadata": {},
   "outputs": [],
   "source": [
    "c = get_vc_list(list(ca_df_clean['company_identifier']),TRANSFER_PACKAGES_START_DATE,SALES_TRANSACTIONS_START_DATE,ca_df_clean)\n",
    "\n",
    "\n"
   ]
  },
  {
   "cell_type": "code",
   "execution_count": null,
   "id": "be7499aa",
   "metadata": {},
   "outputs": [],
   "source": [
    "df_vc = pd.DataFrame()\n",
    "for k in c.keys():\n",
    "    print(k)\n",
    "    for l in c[k].keys():\n",
    "        print(l)\n",
    "        data_vc = c[k][l]\n",
    "        if str(data_vc) == 'nan':\n",
    "            continue\n",
    "        else:\n",
    "            data_vc['company'] = k\n",
    "            data_vc['location'] = l\n",
    "            print(data_vc.shape)\n",
    "            df_vc = df_vc.append(data_vc)\n",
    "        #data.to_excel('ca_location_analysis/'+'analysis_' + k + '_'+ l+'.xlsx')"
   ]
  },
  {
   "cell_type": "code",
   "execution_count": null,
   "id": "b361ea47",
   "metadata": {},
   "outputs": [],
   "source": [
    "df_vc['id'] = list(zip(df_vc.company, df_vc.location))\n",
    "df_vc = df_vc.reset_index(drop = True)"
   ]
  },
  {
   "cell_type": "code",
   "execution_count": null,
   "id": "71807cbc",
   "metadata": {},
   "outputs": [],
   "source": [
    "len(df_vc['id'].unique())"
   ]
  },
  {
   "cell_type": "code",
   "execution_count": null,
   "id": "d832a252",
   "metadata": {},
   "outputs": [],
   "source": [
    "df_vc_with_state = pd.merge(df_vc,ca_df_clean[['company_identifier','state']],left_on = 'company',right_on = 'company_identifier',how = 'left')\n",
    "\n",
    "df_vc_with_state.to_csv('all_metrc_vc_0322.csv')\n",
    "\n",
    "\n"
   ]
  },
  {
   "cell_type": "code",
   "execution_count": null,
   "id": "b9793dac",
   "metadata": {},
   "outputs": [],
   "source": [
    "df_vc_with_state.to_csv('all_metrc_vc_0322.csv')"
   ]
  },
  {
   "cell_type": "code",
   "execution_count": null,
   "id": "48cc55a6",
   "metadata": {},
   "outputs": [],
   "source": [
    "df_vc_with_state_feb = df_vc_with_state[df_vc_with_state['year_month'] == '2022-02-01']"
   ]
  },
  {
   "cell_type": "code",
   "execution_count": null,
   "id": "03c729c3",
   "metadata": {},
   "outputs": [],
   "source": [
    "state_count_vc = df_vc_with_state[['state','year_month','id']].groupby(['state','year_month']).count().unstack().T.reset_index()\n",
    "state_avg_vc = df_vc_with_state[['state','year_month','%_inactive']].groupby(['state','year_month']).mean().unstack().T.reset_index()\n",
    "state_med_vc = df_vc_with_state[['state','year_month','%_inactive']].groupby(['state','year_month']).median().unstack().T.reset_index()\n",
    "\n"
   ]
  },
  {
   "cell_type": "code",
   "execution_count": null,
   "id": "e2263ebf",
   "metadata": {},
   "outputs": [],
   "source": [
    "state_count_vc\n"
   ]
  },
  {
   "cell_type": "code",
   "execution_count": null,
   "id": "70964b19",
   "metadata": {},
   "outputs": [],
   "source": []
  },
  {
   "cell_type": "markdown",
   "id": "8412699a",
   "metadata": {},
   "source": [
    "# flowhub"
   ]
  },
  {
   "cell_type": "code",
   "execution_count": null,
   "id": "673e5414",
   "metadata": {},
   "outputs": [],
   "source": [
    "fh = pd.read_csv('flowhub_aftertax_cogs_0322.csv',index_col= 0)"
   ]
  },
  {
   "cell_type": "code",
   "execution_count": null,
   "id": "5b93c636",
   "metadata": {},
   "outputs": [],
   "source": [
    "fh"
   ]
  },
  {
   "cell_type": "code",
   "execution_count": null,
   "id": "2475e0b9",
   "metadata": {},
   "outputs": [],
   "source": [
    "fh_clean = fh[['year_month','subtotalInDollars','location_id','location_state','margin_perc']]"
   ]
  },
  {
   "cell_type": "code",
   "execution_count": null,
   "id": "d5716ae5",
   "metadata": {},
   "outputs": [],
   "source": [
    "fh_clean"
   ]
  },
  {
   "cell_type": "code",
   "execution_count": null,
   "id": "cc3439f7",
   "metadata": {},
   "outputs": [],
   "source": [
    "df_with_state_clean = df_with_state[['date','revenue','id','state','margin_%']]"
   ]
  },
  {
   "cell_type": "code",
   "execution_count": null,
   "id": "d67b0d63",
   "metadata": {},
   "outputs": [],
   "source": [
    "fh_clean.columns = df_with_state_clean.columns"
   ]
  },
  {
   "cell_type": "code",
   "execution_count": null,
   "id": "b00787c1",
   "metadata": {},
   "outputs": [],
   "source": [
    "joined = fh_clean.append(df_with_state_clean)"
   ]
  },
  {
   "cell_type": "code",
   "execution_count": null,
   "id": "bfbe94ab",
   "metadata": {},
   "outputs": [],
   "source": [
    "joined.head()"
   ]
  },
  {
   "cell_type": "code",
   "execution_count": null,
   "id": "09e0294f",
   "metadata": {},
   "outputs": [],
   "source": [
    "joined['date'] = pd.to_datetime(joined['date'])"
   ]
  },
  {
   "cell_type": "code",
   "execution_count": null,
   "id": "b43cfe2f",
   "metadata": {},
   "outputs": [],
   "source": [
    "df_mom_rev = joined.groupby('id').apply(lambda df: df.set_index('date').resample('1MS').first()['revenue'].pct_change()).reset_index()"
   ]
  },
  {
   "cell_type": "code",
   "execution_count": null,
   "id": "accdbe1d",
   "metadata": {},
   "outputs": [],
   "source": [
    "df_mom_rev.columns = ['id','date','rev_change']"
   ]
  },
  {
   "cell_type": "code",
   "execution_count": null,
   "id": "fc3f3738",
   "metadata": {},
   "outputs": [],
   "source": [
    "metrc_fh = df_mom_rev.merge(joined,on = ['id','date'],how = 'right')"
   ]
  },
  {
   "cell_type": "code",
   "execution_count": null,
   "id": "1a81911c",
   "metadata": {},
   "outputs": [],
   "source": [
    "fh_all = metrc_fh.loc[:3375]"
   ]
  },
  {
   "cell_type": "code",
   "execution_count": null,
   "id": "1ef6e922",
   "metadata": {},
   "outputs": [],
   "source": [
    "fh_all.groupby(['state'])['revenue'].describe().reset_index()"
   ]
  },
  {
   "cell_type": "code",
   "execution_count": null,
   "id": "4d904455",
   "metadata": {},
   "outputs": [],
   "source": [
    "fh_all[['date','state','id']].groupby(['date','state']).count().unstack().reset_index()"
   ]
  },
  {
   "cell_type": "code",
   "execution_count": null,
   "id": "bf5400c0",
   "metadata": {},
   "outputs": [],
   "source": [
    "metrc_all  = metrc_fh.loc[3376:]"
   ]
  },
  {
   "cell_type": "code",
   "execution_count": null,
   "id": "1f47753b",
   "metadata": {},
   "outputs": [],
   "source": [
    "metrc_all[['date','state','id']].groupby(['date','state']).count().unstack().reset_index()"
   ]
  },
  {
   "cell_type": "code",
   "execution_count": null,
   "id": "e34940ec",
   "metadata": {},
   "outputs": [],
   "source": [
    "metrc_all.head()"
   ]
  },
  {
   "cell_type": "code",
   "execution_count": null,
   "id": "f93d4b2f",
   "metadata": {},
   "outputs": [],
   "source": [
    "metrc_all_trim = metrc_all[(metrc_all['margin_%'] > 0.2)&(metrc_all['margin_%'] < 0.8)]"
   ]
  },
  {
   "cell_type": "code",
   "execution_count": null,
   "id": "cdc1f945",
   "metadata": {},
   "outputs": [],
   "source": [
    "metrc_all_trim.groupby(['state'])['margin_%'].describe().reset_index()"
   ]
  },
  {
   "cell_type": "code",
   "execution_count": null,
   "id": "c70b32ad",
   "metadata": {},
   "outputs": [],
   "source": [
    "margin_distr = metrc_all_trim.groupby(['state','date'])['margin_%'].describe().reset_index()\n",
    "margin_distr['date'] = pd.to_datetime(margin_distr['date'])"
   ]
  },
  {
   "cell_type": "code",
   "execution_count": null,
   "id": "9fd909f3",
   "metadata": {},
   "outputs": [],
   "source": [
    "margin_distr "
   ]
  },
  {
   "cell_type": "code",
   "execution_count": null,
   "id": "52292909",
   "metadata": {},
   "outputs": [],
   "source": [
    "import seaborn as sns"
   ]
  },
  {
   "cell_type": "code",
   "execution_count": null,
   "id": "8ef75061",
   "metadata": {},
   "outputs": [],
   "source": [
    "# trimmed pre tax\n",
    "fig, ax =plt.subplots(1,2)\n",
    "sns.lineplot(data=margin_distr, x=\"date\", y=\"min\", hue=\"state\",marker= 'o', markersize=9,ax=ax[0])\n",
    "ax[0].legend(loc = 4)\n",
    "ax[0].set_title(\"min\", fontsize=15)\n",
    "ax[0].set_xlabel (\"year month\")\n",
    "ax[0].set_ylabel (\"margin %\")\n",
    "sns.lineplot(data=margin_distr, x=\"date\", y=\"max\", hue=\"state\",marker= 'o', markersize=9,ax=ax[1])\n",
    "ax[1].legend(loc = 4)\n",
    "ax[1].set_title(\"max\", fontsize=15)\n",
    "ax[1].set_xlabel (\"year month\")\n",
    "ax[1].set_ylabel (\"margin %\")\n",
    "#ax[1].set(ylim=(0.2, 1))\n",
    "sns.set(rc={'figure.figsize':(20,6)})\n"
   ]
  },
  {
   "cell_type": "code",
   "execution_count": null,
   "id": "8a0da55c",
   "metadata": {},
   "outputs": [],
   "source": [
    "# trimmed pre tax\n",
    "fig, ax =plt.subplots(1,2)\n",
    "sns.lineplot(data=margin_distr, x=\"date\", y=\"25%\", hue=\"state\",marker= 'o', markersize=9,ax=ax[0])\n",
    "ax[0].legend(loc = 4)\n",
    "ax[0].set_title(\"25%\", fontsize=15)\n",
    "ax[0].set_xlabel (\"year month\")\n",
    "ax[0].set_ylabel (\"margin %\")\n",
    "sns.lineplot(data=margin_distr, x=\"date\", y=\"75%\", hue=\"state\",marker= 'o', markersize=9,ax=ax[1])\n",
    "ax[1].legend(loc = 4)\n",
    "ax[1].set_title(\"75%\", fontsize=15)\n",
    "ax[1].set_xlabel (\"year month\")\n",
    "ax[1].set_ylabel (\"margin %\")\n",
    "#ax[1].set(ylim=(0.2, 1))\n",
    "sns.set(rc={'figure.figsize':(20,6)})\n"
   ]
  },
  {
   "cell_type": "code",
   "execution_count": null,
   "id": "79b53f3e",
   "metadata": {},
   "outputs": [],
   "source": [
    "# trimmed pre tax\n",
    "fig, ax =plt.subplots(1,2)\n",
    "sns.lineplot(data=margin_distr, x=\"date\", y=\"mean\", hue=\"state\",marker= 'o', markersize=9,ax=ax[0])\n",
    "ax[0].legend(loc = 4)\n",
    "ax[0].set_title(\"mean\", fontsize=15)\n",
    "ax[0].set_xlabel (\"year month\")\n",
    "ax[0].set_ylabel (\"margin %\")\n",
    "sns.lineplot(data=margin_distr, x=\"date\", y=\"50%\", hue=\"state\",marker= 'o', markersize=9,ax=ax[1])\n",
    "ax[1].legend(loc = 4)\n",
    "ax[1].set_title(\"median\", fontsize=15)\n",
    "ax[1].set_xlabel (\"year month\")\n",
    "ax[1].set_ylabel (\"margin %\")\n",
    "#ax[1].set(ylim=(0.2, 1))\n",
    "sns.set(rc={'figure.figsize':(20,6)})\n"
   ]
  },
  {
   "cell_type": "code",
   "execution_count": null,
   "id": "3684105f",
   "metadata": {},
   "outputs": [],
   "source": []
  },
  {
   "cell_type": "code",
   "execution_count": null,
   "id": "81c5e4d3",
   "metadata": {},
   "outputs": [],
   "source": []
  },
  {
   "cell_type": "code",
   "execution_count": null,
   "id": "cc15be3f",
   "metadata": {},
   "outputs": [],
   "source": []
  },
  {
   "cell_type": "code",
   "execution_count": null,
   "id": "4bfc2094",
   "metadata": {},
   "outputs": [],
   "source": []
  },
  {
   "cell_type": "code",
   "execution_count": null,
   "id": "6ad447f3",
   "metadata": {},
   "outputs": [],
   "source": [
    "margin_distr.to_csv('fh_margin_distr.csv')"
   ]
  },
  {
   "cell_type": "code",
   "execution_count": null,
   "id": "5a0d0af1",
   "metadata": {},
   "outputs": [],
   "source": [
    "#metrc_fh.to_csv('metrc_fh.csv')"
   ]
  },
  {
   "cell_type": "code",
   "execution_count": null,
   "id": "c0151d24",
   "metadata": {},
   "outputs": [],
   "source": [
    "pos = pd.read_csv('pos_csv - Sheet1.csv')"
   ]
  },
  {
   "cell_type": "code",
   "execution_count": null,
   "id": "c881c6c7",
   "metadata": {},
   "outputs": [],
   "source": [
    "pos['date'] = pd.to_datetime(pos['date'])"
   ]
  },
  {
   "cell_type": "code",
   "execution_count": null,
   "id": "4708e740",
   "metadata": {},
   "outputs": [],
   "source": [
    "pos['% Margin w/o Tax'] = pos['% Margin w/o Tax'].astype('float')\n",
    "pos['Revenue w/o Tax'] = pos['Revenue w/o Tax'].astype('float')\n"
   ]
  },
  {
   "cell_type": "code",
   "execution_count": null,
   "id": "88c06ac7",
   "metadata": {},
   "outputs": [],
   "source": [
    "pos[['date','US state','Company identifier']].groupby(['date','US state']).count().unstack().reset_index().fillna(0)"
   ]
  },
  {
   "cell_type": "code",
   "execution_count": null,
   "id": "f7308d42",
   "metadata": {},
   "outputs": [],
   "source": [
    "pos_Rev_change = pos.groupby('Company identifier').apply(lambda df: df.set_index('date').resample('1MS').first()['Revenue w/o Tax'].pct_change()).reset_index()\n",
    "\n",
    "pos_Rev_change.columns = ['Company identifier','date','rev_change']\n"
   ]
  },
  {
   "cell_type": "code",
   "execution_count": null,
   "id": "960f441e",
   "metadata": {},
   "outputs": [],
   "source": [
    "pos_Rev_change"
   ]
  },
  {
   "cell_type": "code",
   "execution_count": null,
   "id": "0e245a90",
   "metadata": {},
   "outputs": [],
   "source": [
    "pos_data_all = pos_Rev_change.merge(pos,on = ['Company identifier','date'],how = 'right')"
   ]
  },
  {
   "cell_type": "code",
   "execution_count": null,
   "id": "3b4d36fd",
   "metadata": {},
   "outputs": [],
   "source": [
    "pos_data_all.to_csv('pos_data_all.csv')"
   ]
  },
  {
   "cell_type": "code",
   "execution_count": null,
   "id": "21ed5aae",
   "metadata": {},
   "outputs": [],
   "source": [
    "margin_distr_pos = pos.groupby(['US state'])['% Margin w/o Tax'].describe().reset_index()"
   ]
  },
  {
   "cell_type": "code",
   "execution_count": null,
   "id": "827ba88c",
   "metadata": {},
   "outputs": [],
   "source": [
    "margin_distr_pos\n"
   ]
  },
  {
   "cell_type": "code",
   "execution_count": null,
   "id": "dd8b09cf",
   "metadata": {},
   "outputs": [],
   "source": [
    "margin_distr_pos = pos.groupby(['US state','date'])['% Margin w/o Tax'].describe().reset_index()\n",
    "margin_distr_pos['date'] = pd.to_datetime(margin_distr_pos['date'])"
   ]
  },
  {
   "cell_type": "code",
   "execution_count": null,
   "id": "6907fb3a",
   "metadata": {},
   "outputs": [],
   "source": [
    "margin_distr_pos"
   ]
  },
  {
   "cell_type": "code",
   "execution_count": null,
   "id": "bd983eb0",
   "metadata": {},
   "outputs": [],
   "source": [
    "# trimmed pre tax\n",
    "fig, ax =plt.subplots(1,2)\n",
    "sns.lineplot(data=margin_distr_pos, x=\"date\", y=\"min\", hue=\"US state\",marker= 'o', markersize=9,ax=ax[0])\n",
    "ax[0].legend(loc = 4)\n",
    "ax[0].set_title(\"min\", fontsize=15)\n",
    "ax[0].set_xlabel (\"year month\")\n",
    "ax[0].set_ylabel (\"margin %\")\n",
    "sns.lineplot(data=margin_distr_pos, x=\"date\", y=\"max\", hue=\"US state\",marker= 'o', markersize=9,ax=ax[1])\n",
    "ax[1].legend(loc = 4)\n",
    "ax[1].set_title(\"max\", fontsize=15)\n",
    "ax[1].set_xlabel (\"year month\")\n",
    "ax[1].set_ylabel (\"margin %\")\n",
    "#ax[1].set(ylim=(0.2, 1))\n",
    "sns.set(rc={'figure.figsize':(20,6)})\n"
   ]
  },
  {
   "cell_type": "code",
   "execution_count": null,
   "id": "bd3d297c",
   "metadata": {},
   "outputs": [],
   "source": [
    "# trimmed pre tax\n",
    "fig, ax =plt.subplots(1,2)\n",
    "sns.lineplot(data=margin_distr_pos, x=\"date\", y=\"25%\", hue=\"US state\",marker= 'o', markersize=9,ax=ax[0])\n",
    "ax[0].legend(loc = 4)\n",
    "ax[0].set_title(\"25%\", fontsize=15)\n",
    "ax[0].set_xlabel (\"year month\")\n",
    "ax[0].set_ylabel (\"margin %\")\n",
    "sns.lineplot(data=margin_distr_pos, x=\"date\", y=\"75%\", hue=\"US state\",marker= 'o', markersize=9,ax=ax[1])\n",
    "ax[1].legend(loc = 4)\n",
    "ax[1].set_title(\"75%\", fontsize=15)\n",
    "ax[1].set_xlabel (\"year month\")\n",
    "ax[1].set_ylabel (\"margin %\")\n",
    "#ax[1].set(ylim=(0.2, 1))\n",
    "sns.set(rc={'figure.figsize':(20,6)})\n"
   ]
  },
  {
   "cell_type": "code",
   "execution_count": null,
   "id": "86da6545",
   "metadata": {},
   "outputs": [],
   "source": [
    "# trimmed pre tax\n",
    "fig, ax =plt.subplots(1,2)\n",
    "sns.lineplot(data=margin_distr_pos, x=\"date\", y=\"mean\", hue=\"US state\",marker= 'o', markersize=9,ax=ax[0])\n",
    "ax[0].legend(loc = 4)\n",
    "ax[0].set_title(\"mean\", fontsize=15)\n",
    "ax[0].set_xlabel (\"year month\")\n",
    "ax[0].set_ylabel (\"margin %\")\n",
    "sns.lineplot(data=margin_distr_pos, x=\"date\", y=\"50%\", hue=\"US state\",marker= 'o', markersize=9,ax=ax[1])\n",
    "ax[1].legend(loc = 4)\n",
    "ax[1].set_title(\"median\", fontsize=15)\n",
    "ax[1].set_xlabel (\"year month\")\n",
    "ax[1].set_ylabel (\"margin %\")\n",
    "#ax[1].set(ylim=(0.2, 1))\n",
    "sns.set(rc={'figure.figsize':(20,6)})\n"
   ]
  },
  {
   "cell_type": "code",
   "execution_count": null,
   "id": "e3d0bd9a",
   "metadata": {},
   "outputs": [],
   "source": []
  },
  {
   "cell_type": "code",
   "execution_count": null,
   "id": "560c9914",
   "metadata": {},
   "outputs": [],
   "source": []
  },
  {
   "cell_type": "markdown",
   "id": "7cb24b46",
   "metadata": {},
   "source": [
    "# GM$"
   ]
  },
  {
   "cell_type": "code",
   "execution_count": null,
   "id": "c3996704",
   "metadata": {},
   "outputs": [],
   "source": [
    "import seaborn as sns"
   ]
  },
  {
   "cell_type": "markdown",
   "id": "00d3e0b8",
   "metadata": {},
   "source": [
    "## 3M"
   ]
  },
  {
   "cell_type": "code",
   "execution_count": null,
   "id": "8281688c",
   "metadata": {},
   "outputs": [],
   "source": [
    "df_high_coverage_gm_trim_3m = df_high_coverage[(df_high_coverage['gm$_past_quarter_after_tax'] > 0)&(df_high_coverage['gm$_past_quarter_after_tax'] < 500000)]\n",
    "\n",
    "\n"
   ]
  },
  {
   "cell_type": "code",
   "execution_count": null,
   "id": "82663e15",
   "metadata": {},
   "outputs": [],
   "source": [
    "df_high_coverage_gm_trim_3m[['date','gm$_past_quarter_after_tax']].groupby(['date']).quantile(.75)\n"
   ]
  },
  {
   "cell_type": "markdown",
   "id": "b1bf6286",
   "metadata": {},
   "source": [
    "## 6m"
   ]
  },
  {
   "cell_type": "code",
   "execution_count": null,
   "id": "9ac99326",
   "metadata": {},
   "outputs": [],
   "source": [
    "df_high_coverage_gm_trim_6m = df_high_coverage[(df_high_coverage['gm$_past_2quarters_after_tax'] > 0)&(df_high_coverage['gm$_past_2quarters_after_tax'] < 500000)]\n",
    "\n",
    "\n"
   ]
  },
  {
   "cell_type": "code",
   "execution_count": null,
   "id": "caed5fcd",
   "metadata": {},
   "outputs": [],
   "source": [
    "df_high_coverage_gm_trim_6m[['date','gm$_past_quarter_after_tax']].groupby(['date']).quantile(.75)"
   ]
  },
  {
   "cell_type": "markdown",
   "id": "b98c3aec",
   "metadata": {},
   "source": [
    "## 9M"
   ]
  },
  {
   "cell_type": "code",
   "execution_count": null,
   "id": "d155e93a",
   "metadata": {},
   "outputs": [],
   "source": [
    "df_high_coverage_gm_trim_9m = df_high_coverage[(df_high_coverage['gm$_past_3quarters_after_tax'] > 0)&(df_high_coverage['gm$_past_3quarters_after_tax'] < 500000)]\n",
    "\n",
    "\n"
   ]
  },
  {
   "cell_type": "code",
   "execution_count": null,
   "id": "768d36ae",
   "metadata": {},
   "outputs": [],
   "source": [
    "df_high_coverage_gm_trim_9m[['date','gm$_past_quarter_after_tax']].groupby(['date']).quantile(.75)"
   ]
  },
  {
   "cell_type": "code",
   "execution_count": null,
   "id": "ef593921",
   "metadata": {},
   "outputs": [],
   "source": []
  },
  {
   "cell_type": "code",
   "execution_count": null,
   "id": "17af599e",
   "metadata": {},
   "outputs": [],
   "source": []
  },
  {
   "cell_type": "code",
   "execution_count": null,
   "id": "ce62b17d",
   "metadata": {},
   "outputs": [],
   "source": []
  },
  {
   "cell_type": "code",
   "execution_count": null,
   "id": "58e36150",
   "metadata": {},
   "outputs": [],
   "source": [
    "df_high_coverage_gm_trim = df_high_coverage[(df_high_coverage['margin_$_after_tax'] > 0)&(df_high_coverage['margin_$_after_tax'] < 500000)]"
   ]
  },
  {
   "cell_type": "code",
   "execution_count": null,
   "id": "8c6e2994",
   "metadata": {},
   "outputs": [],
   "source": [
    "df_high_coverage['margin_$_after_tax'].quantile(0.9)"
   ]
  },
  {
   "cell_type": "code",
   "execution_count": null,
   "id": "31a85b3a",
   "metadata": {},
   "outputs": [],
   "source": [
    "df_high_coverage[df_high_coverage['margin_$_after_tax'] > 800000]"
   ]
  },
  {
   "cell_type": "code",
   "execution_count": null,
   "id": "a40cebf2",
   "metadata": {},
   "outputs": [],
   "source": [
    "df_high_coverage_gm_trim.shape[0] / df_high_coverage.shape[0]"
   ]
  },
  {
   "cell_type": "code",
   "execution_count": null,
   "id": "caea3c99",
   "metadata": {},
   "outputs": [],
   "source": [
    "sns.boxplot(df_high_coverage['margin_$_after_tax'])"
   ]
  },
  {
   "cell_type": "code",
   "execution_count": null,
   "id": "47f6a688",
   "metadata": {},
   "outputs": [],
   "source": [
    "df_high_coverage['margin_$_after_tax'].describe()"
   ]
  },
  {
   "cell_type": "code",
   "execution_count": null,
   "id": "e7a828a0",
   "metadata": {},
   "outputs": [],
   "source": [
    "df_high_coverage['margin_$_after_tax'].quantile(0.9)"
   ]
  },
  {
   "cell_type": "code",
   "execution_count": null,
   "id": "14df5c38",
   "metadata": {},
   "outputs": [],
   "source": [
    "stats.percentileofscore(df_high_coverage['margin_$_after_tax'],270000, kind='strict')"
   ]
  },
  {
   "cell_type": "code",
   "execution_count": null,
   "id": "0a0203f1",
   "metadata": {},
   "outputs": [],
   "source": [
    "plt.hist(df_high_coverage['margin_$_after_tax'],bins = 100)"
   ]
  },
  {
   "cell_type": "code",
   "execution_count": null,
   "id": "537ecae0",
   "metadata": {},
   "outputs": [],
   "source": [
    "df_high_coverage_gm_trim[['date','margin_$_after_tax']].groupby(['date']).quantile(.9)\n"
   ]
  },
  {
   "cell_type": "code",
   "execution_count": null,
   "id": "220bb051",
   "metadata": {},
   "outputs": [],
   "source": [
    "df_high_coverage[['date','margin_$_after_tax']].groupby(['date']).quantile(.5)"
   ]
  },
  {
   "cell_type": "code",
   "execution_count": null,
   "id": "3bab6041",
   "metadata": {},
   "outputs": [],
   "source": []
  }
 ],
 "metadata": {
  "kernelspec": {
   "display_name": "Python 3",
   "language": "python",
   "name": "python3"
  },
  "language_info": {
   "codemirror_mode": {
    "name": "ipython",
    "version": 3
   },
   "file_extension": ".py",
   "mimetype": "text/x-python",
   "name": "python",
   "nbconvert_exporter": "python",
   "pygments_lexer": "ipython3",
   "version": "3.8.10"
  }
 },
 "nbformat": 4,
 "nbformat_minor": 5
}
