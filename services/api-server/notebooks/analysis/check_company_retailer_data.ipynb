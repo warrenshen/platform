{
 "cells": [
  {
   "cell_type": "code",
   "execution_count": 1,
   "id": "5e5952f8",
   "metadata": {},
   "outputs": [],
   "source": [
    "# import libraries"
   ]
  },
  {
   "cell_type": "code",
   "execution_count": 2,
   "id": "a1df46ef",
   "metadata": {},
   "outputs": [],
   "source": [
    "import warnings\n",
    "warnings.filterwarnings('ignore')"
   ]
  },
  {
   "cell_type": "code",
   "execution_count": 3,
   "id": "17064e54-fe0f-43e3-a00d-b2776aa5b753",
   "metadata": {},
   "outputs": [],
   "source": [
    "import json\n",
    "import numpy\n",
    "import os\n",
    "import pandas as pd\n",
    "import matplotlib.pyplot as plt\n",
    "%matplotlib inline  \n",
    "import pyarrow\n",
    "import sys\n",
    "\n",
    "from datetime import date\n",
    "from dotenv import load_dotenv\n",
    "from sqlalchemy import create_engine\n",
    "from os import path\n",
    "from typing import List,Dict, Tuple\n",
    "from collections import defaultdict\n",
    "pd.set_option(\"display.max_columns\", None)\n",
    "\n",
    "load_dotenv(verbose=True)\n",
    "BIGQUERY_CREDENTIALS_PATH = os.environ.get('BIGQUERY_CREDENTIALS_PATH')\n",
    "engine = create_engine('bigquery://bespoke-financial/ProdMetrcData', credentials_path=os.path.expanduser(BIGQUERY_CREDENTIALS_PATH))\n",
    "\n",
    "sys.path.append(path.realpath(path.join(os.getcwd(), \"../core\")))\n",
    "sys.path.append(path.realpath(path.join(os.getcwd(), \"../../src\")))\n",
    "\n",
    "import create_queries\n",
    "import prepare_data\n",
    "\n",
    "from bespoke.inventory.analysis.shared import download_util, inventory_types\n",
    "from bespoke.inventory.analysis import active_inventory_util as util\n",
    "from bespoke.inventory.analysis import inventory_valuations_util as valuations_util\n",
    "\n",
    "%load_ext autoreload\n",
    "%autoreload 2"
   ]
  },
  {
   "cell_type": "code",
   "execution_count": 4,
   "id": "0e3aa203",
   "metadata": {},
   "outputs": [],
   "source": [
    "# Define company name and date ranges"
   ]
  },
  {
   "cell_type": "code",
   "execution_count": 5,
   "id": "038c31ef-3af0-4b64-89b3-32c35769e7b2",
   "metadata": {},
   "outputs": [],
   "source": [
    "# CHANGE ME\n",
    "COMPANY_IDENTIFIER = 'CSC'\n",
    "TRANSFER_PACKAGES_START_DATE = '2020-01-01'\n",
    "SALES_TRANSACTIONS_START_DATE = '2020-01-01'"
   ]
  },
  {
   "cell_type": "code",
   "execution_count": 6,
   "id": "4ad5053f",
   "metadata": {},
   "outputs": [
    {
     "name": "stdout",
     "output_type": "stream",
     "text": [
      "This report is for CSC from 2020-01-01\n"
     ]
    }
   ],
   "source": [
    "print('This report is for ' + COMPANY_IDENTIFIER + ' from ' + TRANSFER_PACKAGES_START_DATE)"
   ]
  },
  {
   "cell_type": "code",
   "execution_count": 7,
   "id": "7892d4f2-ef44-45ff-aea9-681fc6c86b34",
   "metadata": {},
   "outputs": [],
   "source": [
    "#fetch download report and lisences\n",
    "company_licenses_query = create_queries.create_company_licenses_query(COMPANY_IDENTIFIER)\n",
    "company_download_summaries_query = create_queries.create_company_download_summaries_query(COMPANY_IDENTIFIER, TRANSFER_PACKAGES_START_DATE)\n",
    "\n",
    "company_licenses_dataframe = pd.read_sql_query(company_licenses_query, engine)\n",
    "company_download_summaries_dataframe = pd.read_sql_query(company_download_summaries_query, engine)"
   ]
  },
  {
   "cell_type": "markdown",
   "id": "7c6001ad",
   "metadata": {},
   "source": [
    "# Download History Checks"
   ]
  },
  {
   "cell_type": "markdown",
   "id": "5ddb460b",
   "metadata": {},
   "source": [
    "## Check download status summaries"
   ]
  },
  {
   "cell_type": "code",
   "execution_count": 8,
   "id": "cec4010a",
   "metadata": {},
   "outputs": [],
   "source": [
    "license_numbers = company_download_summaries_dataframe['license_number'].unique()\n",
    "download_summary_records = company_download_summaries_dataframe.to_dict('records')"
   ]
  },
  {
   "cell_type": "code",
   "execution_count": 9,
   "id": "773e238b",
   "metadata": {},
   "outputs": [],
   "source": [
    "def check_company_license_download(license_numbers: List[str],download_summary_records: List[Dict[str,str]]) -> Dict[str,str]:\n",
    "    license_number_to_download_summary_records = {}\n",
    "\n",
    "    for license_number in license_numbers:\n",
    "        license_number_to_download_summary_records[license_number] = list(filter(\n",
    "            lambda download_summary_record: download_summary_record['license_number'] == license_number,\n",
    "            download_summary_records\n",
    "        ))\n",
    "\n",
    "    bad_count = 0\n",
    "    bad_history = defaultdict(list)\n",
    "    for license_number, download_summary_records in license_number_to_download_summary_records.items():\n",
    "        print(f'Verifying download summaries for license {license_number}...')\n",
    "        print(f'Earliest download summary: {download_summary_records[-1][\"date\"]}')\n",
    "        print(f'Latest download summary: {download_summary_records[0][\"date\"]}')\n",
    "        for download_summary_record in download_summary_records:\n",
    "            if download_summary_record['status'] != 'completed':\n",
    "                bad_count += 1\n",
    "                print(f'Found bad download summary for license {license_number} on date {download_summary_record[\"date\"]}') \n",
    "                bad_history[license_number].append(download_summary_record['date'])            \n",
    "        \n",
    "        print('')\n",
    "    if bad_count > 0:\n",
    "        print(f'[FAILURE] Found a total of {bad_count} bad download summaries')\n",
    "    else:\n",
    "        print(f'[SUCCESS] All download summaries look good!')\n",
    "    return bad_history\n",
    "\n"
   ]
  },
  {
   "cell_type": "code",
   "execution_count": 10,
   "id": "cc634d6a",
   "metadata": {
    "scrolled": true
   },
   "outputs": [
    {
     "name": "stdout",
     "output_type": "stream",
     "text": [
      "Verifying download summaries for license C10-0000918-LIC...\n",
      "Earliest download summary: 2020-01-01\n",
      "Latest download summary: 2022-01-18\n",
      "\n",
      "Verifying download summaries for license C10-0000670-LIC...\n",
      "Earliest download summary: 2020-01-01\n",
      "Latest download summary: 2022-01-18\n",
      "\n",
      "[SUCCESS] All download summaries look good!\n"
     ]
    }
   ],
   "source": [
    "bad_download_history = check_company_license_download(license_numbers,download_summary_records)"
   ]
  },
  {
   "cell_type": "markdown",
   "id": "5edcc0c3",
   "metadata": {},
   "source": [
    "## Get list of retailer license numbers"
   ]
  },
  {
   "cell_type": "code",
   "execution_count": 14,
   "id": "b8feb327",
   "metadata": {},
   "outputs": [
    {
     "data": {
      "text/html": [
       "<div>\n",
       "<style scoped>\n",
       "    .dataframe tbody tr th:only-of-type {\n",
       "        vertical-align: middle;\n",
       "    }\n",
       "\n",
       "    .dataframe tbody tr th {\n",
       "        vertical-align: top;\n",
       "    }\n",
       "\n",
       "    .dataframe thead th {\n",
       "        text-align: right;\n",
       "    }\n",
       "</style>\n",
       "<table border=\"1\" class=\"dataframe\">\n",
       "  <thead>\n",
       "    <tr style=\"text-align: right;\">\n",
       "      <th></th>\n",
       "      <th>us_state</th>\n",
       "      <th>license_number</th>\n",
       "      <th>license_category</th>\n",
       "      <th>legal_name</th>\n",
       "      <th>is_current</th>\n",
       "      <th>license_status</th>\n",
       "      <th>rollup_id</th>\n",
       "      <th>license_description</th>\n",
       "      <th>company_id</th>\n",
       "      <th>facility_row_id</th>\n",
       "    </tr>\n",
       "  </thead>\n",
       "  <tbody>\n",
       "    <tr>\n",
       "      <th>0</th>\n",
       "      <td>CA</td>\n",
       "      <td>C10-0000670-LIC</td>\n",
       "      <td>Retailer</td>\n",
       "      <td>DISPLEASED MARMOT, LLC</td>\n",
       "      <td>True</td>\n",
       "      <td>Active</td>\n",
       "      <td>CA-04155</td>\n",
       "      <td>Retailer</td>\n",
       "      <td>977dbaa4-81e5-4c4d-afd7-622506a05e93</td>\n",
       "      <td>None</td>\n",
       "    </tr>\n",
       "    <tr>\n",
       "      <th>1</th>\n",
       "      <td>CA</td>\n",
       "      <td>C10-0000918-LIC</td>\n",
       "      <td>Retailer</td>\n",
       "      <td>Gnarly Narwhal LLC</td>\n",
       "      <td>True</td>\n",
       "      <td>Active</td>\n",
       "      <td>CA-06173</td>\n",
       "      <td>Retailer</td>\n",
       "      <td>977dbaa4-81e5-4c4d-afd7-622506a05e93</td>\n",
       "      <td>None</td>\n",
       "    </tr>\n",
       "  </tbody>\n",
       "</table>\n",
       "</div>"
      ],
      "text/plain": [
       "  us_state   license_number license_category              legal_name  \\\n",
       "0       CA  C10-0000670-LIC         Retailer  DISPLEASED MARMOT, LLC   \n",
       "1       CA  C10-0000918-LIC         Retailer      Gnarly Narwhal LLC   \n",
       "\n",
       "   is_current license_status rollup_id license_description  \\\n",
       "0        True         Active  CA-04155            Retailer   \n",
       "1        True         Active  CA-06173            Retailer   \n",
       "\n",
       "                             company_id facility_row_id  \n",
       "0  977dbaa4-81e5-4c4d-afd7-622506a05e93            None  \n",
       "1  977dbaa4-81e5-4c4d-afd7-622506a05e93            None  "
      ]
     },
     "execution_count": 14,
     "metadata": {},
     "output_type": "execute_result"
    }
   ],
   "source": [
    "company_licenses_dataframe"
   ]
  },
  {
   "cell_type": "code",
   "execution_count": 11,
   "id": "1eb753d1",
   "metadata": {},
   "outputs": [],
   "source": [
    "# get list of retailer license numbers\n",
    "license_numbers = list(company_licenses_dataframe[company_licenses_dataframe['license_category'].isin(['Retailer', 'Multiple'])]['license_number'].unique())"
   ]
  },
  {
   "cell_type": "code",
   "execution_count": 12,
   "id": "ed77dc15",
   "metadata": {},
   "outputs": [
    {
     "data": {
      "text/plain": [
       "['C10-0000670-LIC', 'C10-0000918-LIC']"
      ]
     },
     "execution_count": 12,
     "metadata": {},
     "output_type": "execute_result"
    }
   ],
   "source": [
    "license_numbers"
   ]
  },
  {
   "cell_type": "code",
   "execution_count": 20,
   "id": "1a0e7e95",
   "metadata": {},
   "outputs": [],
   "source": [
    "#company_sales_transactions_dataframe[company_sales_transactions_dataframe['license_number'] == 'C10-0000918-LIC']"
   ]
  },
  {
   "cell_type": "code",
   "execution_count": 13,
   "id": "61cc4333-fcbf-4d35-ad5f-09cfb5b17486",
   "metadata": {},
   "outputs": [],
   "source": [
    "company_incoming_transfer_packages_query = create_queries.create_company_incoming_transfer_packages_query(\n",
    "    COMPANY_IDENTIFIER,\n",
    "    TRANSFER_PACKAGES_START_DATE,\n",
    "    license_numbers=license_numbers,\n",
    ")\n",
    "company_outgoing_transfer_packages_query = create_queries.create_company_outgoing_transfer_packages_query(\n",
    "    COMPANY_IDENTIFIER,\n",
    "    TRANSFER_PACKAGES_START_DATE,\n",
    "    license_numbers=license_numbers,\n",
    ")\n",
    "company_unknown_transfer_packages_query = create_queries.create_company_unknown_transfer_packages_query(\n",
    "    COMPANY_IDENTIFIER,\n",
    "    TRANSFER_PACKAGES_START_DATE,\n",
    "#     license_numbers=license_numbers,\n",
    ")\n",
    "company_sales_transactions_query = create_queries.create_company_sales_transactions_query(\n",
    "    COMPANY_IDENTIFIER,\n",
    "    SALES_TRANSACTIONS_START_DATE,\n",
    "    license_numbers=license_numbers,\n",
    ")\n",
    "company_sales_receipts_query = create_queries.create_company_sales_receipts_query(\n",
    "    COMPANY_IDENTIFIER,\n",
    "    SALES_TRANSACTIONS_START_DATE,\n",
    "    license_numbers=license_numbers,\n",
    ")\n",
    "company_sales_receipts_with_transactions_query = create_queries.create_company_sales_receipts_with_transactions_query(\n",
    "    COMPANY_IDENTIFIER,\n",
    "    SALES_TRANSACTIONS_START_DATE,\n",
    "    license_numbers=license_numbers,\n",
    ")\n",
    "company_inventory_packages_query = create_queries.create_company_inventory_packages_query(\n",
    "    COMPANY_IDENTIFIER,\n",
    "    include_quantity_zero=True,\n",
    "    license_numbers=license_numbers,\n",
    ")\n",
    "\n",
    "company_incoming_transfer_packages_dataframe = pd.read_sql_query(company_incoming_transfer_packages_query, engine)\n",
    "company_outgoing_transfer_packages_dataframe = pd.read_sql_query(company_outgoing_transfer_packages_query, engine)\n",
    "company_unknown_transfer_packages_dataframe = pd.read_sql_query(company_unknown_transfer_packages_query, engine)\n",
    "company_sales_transactions_dataframe = pd.read_sql_query(company_sales_transactions_query, engine)\n",
    "company_sales_receipts_dataframe = pd.read_sql_query(company_sales_receipts_query, engine)\n",
    "company_sales_receipts_with_transactions_dataframe = pd.read_sql_query(company_sales_receipts_with_transactions_query, engine)\n",
    "company_inventory_packages_dataframe = pd.read_sql_query(company_inventory_packages_query, engine)"
   ]
  },
  {
   "cell_type": "markdown",
   "id": "22f31807",
   "metadata": {},
   "source": [
    "## Unknown transfer packages"
   ]
  },
  {
   "cell_type": "code",
   "execution_count": 21,
   "id": "aef77c6f",
   "metadata": {},
   "outputs": [],
   "source": [
    "def check_unknown_transfer_packages(unknown_transfer_df: pd.DataFrame) -> int:\n",
    "    unknown_package_count = unknown_transfer_df.shape[0]\n",
    "    if unknown_package_count > 0:\n",
    "        print(f'[FAILURE] Found a total of {unknown_package_count} unknown transfer packages')\n",
    "    else:\n",
    "        print(f'[SUCCESS] No unknown transfer packages!')\n",
    "    return unknown_package_count"
   ]
  },
  {
   "cell_type": "code",
   "execution_count": 22,
   "id": "f3a6daad",
   "metadata": {},
   "outputs": [
    {
     "name": "stdout",
     "output_type": "stream",
     "text": [
      "[FAILURE] Found a total of 577 unknown transfer packages\n"
     ]
    },
    {
     "data": {
      "text/plain": [
       "577"
      ]
     },
     "execution_count": 22,
     "metadata": {},
     "output_type": "execute_result"
    }
   ],
   "source": [
    "unknown_package_count = check_unknown_transfer_packages(company_unknown_transfer_packages_dataframe)\n",
    "unknown_package_count"
   ]
  },
  {
   "cell_type": "code",
   "execution_count": 23,
   "id": "93ff427a",
   "metadata": {},
   "outputs": [],
   "source": [
    "# Plot incoming transfer packages"
   ]
  },
  {
   "cell_type": "code",
   "execution_count": 24,
   "id": "e69e6197",
   "metadata": {},
   "outputs": [],
   "source": [
    "#company_incoming_transfer_packages_dataframe['created_month'] = pd.to_datetime(company_incoming_transfer_packages_dataframe['created_date']).dt.strftime('%Y-%m')"
   ]
  },
  {
   "cell_type": "code",
   "execution_count": 25,
   "id": "85ed995e",
   "metadata": {},
   "outputs": [],
   "source": [
    "# Incoming transfer packages by shipment type name\n",
    "#company_incoming_transfer_packages_dataframe.groupby(['created_month', 'shipment_type_name'])['package_id'].count().unstack().plot.bar(figsize=(24, 8), stacked=True)"
   ]
  },
  {
   "cell_type": "code",
   "execution_count": 26,
   "id": "a8c3f0ad-2ff0-41f3-baa2-389f30c96046",
   "metadata": {},
   "outputs": [],
   "source": [
    "# Incoming transfer packages by shipment_transaction_type\n",
    "#company_incoming_transfer_packages_dataframe.groupby(['created_month', 'shipment_transaction_type'])['package_id'].count().unstack().plot.bar(figsize=(24, 8), stacked=True)"
   ]
  },
  {
   "cell_type": "code",
   "execution_count": 27,
   "id": "e10c7dec",
   "metadata": {},
   "outputs": [],
   "source": [
    "# Incoming transfer packages by product category names\n",
    "#company_incoming_transfer_packages_dataframe.groupby(['created_month', 'product_category_name'])['package_id'].count().unstack().plot.bar(figsize=(24, 8), stacked=True,colormap='Paired')\n",
    "#plt.legend(loc='center left', bbox_to_anchor=(1.0, 0.5))\n"
   ]
  },
  {
   "cell_type": "markdown",
   "id": "e045f647",
   "metadata": {},
   "source": [
    "## Receiver wholesale price coverage"
   ]
  },
  {
   "cell_type": "code",
   "execution_count": 28,
   "id": "623f7f7e",
   "metadata": {},
   "outputs": [],
   "source": [
    "def check_receiver_wholesale_price_coverage(incoming_transfer_df: pd.DataFrame) -> float:\n",
    "    rwp_exists_count = incoming_transfer_df[incoming_transfer_df['receiver_wholesale_price'].notnull()].shape[0]\n",
    "    total_count = incoming_transfer_df.shape[0]\n",
    "    rwp_coverage = round(rwp_exists_count / total_count, 2) * 100\n",
    "    print(f'{rwp_coverage}% of incoming transfer packages have receiver wholesale price')\n",
    "    return rwp_coverage"
   ]
  },
  {
   "cell_type": "code",
   "execution_count": 29,
   "id": "44df31d7",
   "metadata": {},
   "outputs": [
    {
     "name": "stdout",
     "output_type": "stream",
     "text": [
      "98.0% of incoming transfer packages have receiver wholesale price\n"
     ]
    }
   ],
   "source": [
    "rwp_coverage = check_receiver_wholesale_price_coverage(company_incoming_transfer_packages_dataframe)\n"
   ]
  },
  {
   "cell_type": "code",
   "execution_count": null,
   "id": "80b1d22e",
   "metadata": {},
   "outputs": [],
   "source": [
    "# Plot Sales GMV month-over-month "
   ]
  },
  {
   "cell_type": "code",
   "execution_count": null,
   "id": "7e8accd9",
   "metadata": {},
   "outputs": [],
   "source": [
    "#company_sales_receipts_dataframe['sales_month'] = company_sales_receipts_dataframe['sales_datetime'].dt.strftime('%Y-%m')"
   ]
  },
  {
   "cell_type": "code",
   "execution_count": null,
   "id": "766f467b-625c-4cdd-9f7f-9a1c5985c274",
   "metadata": {},
   "outputs": [],
   "source": [
    "#company_sales_receipts_dataframe.groupby(['sales_month'])['receipt_number'].count().plot.bar(figsize=(24, 8))"
   ]
  },
  {
   "cell_type": "code",
   "execution_count": null,
   "id": "5877cd3f-b5bf-483d-b960-e4fe10781b3e",
   "metadata": {},
   "outputs": [],
   "source": [
    "#company_sales_receipts_dataframe.groupby(['sales_month'])['total_price'].sum().plot.bar(figsize=(24, 8), stacked=True)"
   ]
  },
  {
   "cell_type": "code",
   "execution_count": null,
   "id": "c802eba3",
   "metadata": {},
   "outputs": [],
   "source": [
    "## Sales GMV month-over-month from metrc_sales_transactions"
   ]
  },
  {
   "cell_type": "code",
   "execution_count": null,
   "id": "54e232ef-5871-401c-9716-254f6242d138",
   "metadata": {},
   "outputs": [],
   "source": [
    "deduped_sales_receipts_with_transactions_dataframe = prepare_data.dedupe_sales_transactions(company_sales_receipts_with_transactions_dataframe)"
   ]
  },
  {
   "cell_type": "code",
   "execution_count": null,
   "id": "3aa67466",
   "metadata": {},
   "outputs": [],
   "source": [
    "deduped_sales_receipts_with_transactions_dataframe['sales_month'] = deduped_sales_receipts_with_transactions_dataframe['sales_datetime'].dt.strftime('%Y-%m')"
   ]
  },
  {
   "cell_type": "code",
   "execution_count": null,
   "id": "103bb6f6-bfe6-4932-bed7-755afe8d5a14",
   "metadata": {},
   "outputs": [],
   "source": [
    "# Sales GMV month-over-month by product category name\n",
    "#deduped_sales_receipts_with_transactions_dataframe.groupby(['sales_month', 'tx_product_category_name'])['tx_total_price'].sum().unstack().plot.bar(figsize=(24, 8), stacked=True,colormap = 'Paired')\n",
    "#plt.legend(loc='center left', bbox_to_anchor=(1.0, 0.5))\n",
    "\n"
   ]
  },
  {
   "cell_type": "code",
   "execution_count": 30,
   "id": "69b067bc-6a9c-4c21-be74-731187723b75",
   "metadata": {},
   "outputs": [],
   "source": [
    "## View consumer vs medicinal breakdown by month.\n",
    "is_sales_customer_type_breakdown_visible = False\n",
    "result = None\n",
    "if is_sales_customer_type_breakdown_visible:\n",
    "    result = company_sales_receipts_dataframe.groupby(['sales_month', 'sales_customer_type'])['total_price'].sum().unstack().plot.bar(figsize=(24, 8), stacked=True)\n",
    "result"
   ]
  },
  {
   "cell_type": "markdown",
   "id": "b02839ed",
   "metadata": {},
   "source": [
    "## Trxns missing incoming transfer packages"
   ]
  },
  {
   "cell_type": "code",
   "execution_count": 31,
   "id": "c3a98c0f",
   "metadata": {},
   "outputs": [],
   "source": [
    "def check_incoming_transfer_package_coverage(incoming_transfer_df: pd.DataFrame,sales_df: pd.DataFrame) -> Tuple[List,pd.DataFrame]:\n",
    "    package_transfer_sales_merged = pd.merge(sales_df,incoming_transfer_df,left_on='tx_package_id', right_on='package_id', how='left')\n",
    "    package_transfer_sales_merged_missed = package_transfer_sales_merged[package_transfer_sales_merged['package_id'].isnull()]\n",
    "    count_trxn_missed = package_transfer_sales_merged_missed.shape[0]\n",
    "    count_total_trxn = sales_df.shape[0]\n",
    "    missed_ratio = count_trxn_missed/ count_total_trxn\n",
    "    print(f'# transactions missing incoming transfer package: {count_trxn_missed} ({count_trxn_missed / count_total_trxn * 100}%)')\n",
    "    print(f'# transactions total: {count_total_trxn}')\n",
    "    return missed_ratio,package_transfer_sales_merged_missed"
   ]
  },
  {
   "cell_type": "code",
   "execution_count": 32,
   "id": "64d0ec4c",
   "metadata": {},
   "outputs": [],
   "source": [
    "deduped_sales_receipts_with_transactions_dataframe = prepare_data.dedupe_sales_transactions(company_sales_receipts_with_transactions_dataframe)\n",
    "deduped_sales_receipts_with_transactions_dataframe['sales_month'] = deduped_sales_receipts_with_transactions_dataframe['sales_datetime'].dt.strftime('%Y-%m')"
   ]
  },
  {
   "cell_type": "code",
   "execution_count": 33,
   "id": "cd0b5a90",
   "metadata": {},
   "outputs": [
    {
     "name": "stdout",
     "output_type": "stream",
     "text": [
      "# transactions missing incoming transfer package: 8833 (3.971976275164918%)\n",
      "# transactions total: 222383\n"
     ]
    }
   ],
   "source": [
    "incoming_transfer_package_coverage,incoming_transfer_package_coverage_missing = check_incoming_transfer_package_coverage(company_incoming_transfer_packages_dataframe,deduped_sales_receipts_with_transactions_dataframe)"
   ]
  },
  {
   "cell_type": "code",
   "execution_count": 34,
   "id": "6be6dd2a",
   "metadata": {},
   "outputs": [],
   "source": [
    "month_to_missing_count = incoming_transfer_package_coverage_missing[['sales_month','receipt_number']].groupby(['sales_month']).apply(lambda x: len(x['receipt_number'].unique()))\n",
    "#month_to_missing_count\n"
   ]
  },
  {
   "cell_type": "markdown",
   "id": "0da2e8ce-e643-4fee-aca6-cd61b3becc21",
   "metadata": {},
   "source": [
    "## Receipts missing metrc_sales_transactions"
   ]
  },
  {
   "cell_type": "code",
   "execution_count": 35,
   "id": "cbc30296-afa8-42f8-a16b-72fe045395c6",
   "metadata": {},
   "outputs": [],
   "source": [
    "sales_receipt_with_transactions_records = deduped_sales_receipts_with_transactions_dataframe.to_dict('records')\n",
    "\n",
    "receipt_number_to_transactions = {}\n",
    "for sales_receipt_with_transaction_record in sales_receipt_with_transactions_records:\n",
    "    receipt_number = sales_receipt_with_transaction_record['receipt_number']\n",
    "    if receipt_number in receipt_number_to_transactions:\n",
    "        receipt_number_to_transactions[receipt_number] += [sales_receipt_with_transaction_record]\n",
    "    else:\n",
    "        receipt_number_to_transactions[receipt_number] = [sales_receipt_with_transaction_record]"
   ]
  },
  {
   "cell_type": "code",
   "execution_count": 36,
   "id": "c8f876a8-09ef-4582-9ed9-958d3e97b4a5",
   "metadata": {},
   "outputs": [
    {
     "name": "stdout",
     "output_type": "stream",
     "text": [
      "# receipts with mismatching transactions: 0 (0.0%)\n",
      "# receipts missing transactions: 11 (0.009074709609292502%)\n",
      "# receipts total: 121216\n"
     ]
    }
   ],
   "source": [
    "import math\n",
    "\n",
    "def float_eq(receipt_total_price: float, transactions_total_price: float, num_transactions: int) -> bool:\n",
    "    # For every additional transaction, increase threshold by 0.01 (a penny).\n",
    "    threshold = num_transactions * 0.1\n",
    "    return math.isclose(receipt_total_price, transactions_total_price, abs_tol=threshold)\n",
    "\n",
    "mismatch_count = 0 # Count of receipts where receipt total price does not match transactions total price.\n",
    "missing_count = 0 # Count of receipts with no transactions.\n",
    "total_count = 0 # Count of receipts (including those missing transactions).\n",
    "\n",
    "mismatch_over_count = 0\n",
    "mismatch_under_count = 0\n",
    "\n",
    "month_to_mismatch_count = {}\n",
    "month_to_missing_count = {}\n",
    "\n",
    "month_to_mismatch_over_count = {}\n",
    "month_to_mismatch_under_count = {}\n",
    "\n",
    "example_mismatch_over_receipts = []\n",
    "example_mismatch_under_receipts = []\n",
    "\n",
    "for receipt_number, receipt_transactions in list(receipt_number_to_transactions.items()):\n",
    "    receipt_total_price = receipt_transactions[0]['rt_total_price']\n",
    "    receipt_sales_month = receipt_transactions[0]['sales_month']\n",
    "    receipt_total_packages = receipt_transactions[0]['total_packages']\n",
    "\n",
    "    total_count += 1\n",
    "\n",
    "    if len(receipt_transactions) == 1 and receipt_transactions[0]['tx_package_id'] == None:\n",
    "        missing_count += 1\n",
    "        if receipt_sales_month not in month_to_missing_count:\n",
    "            month_to_missing_count[receipt_sales_month] = 0\n",
    "        month_to_missing_count[receipt_sales_month] += 1\n",
    "        continue\n",
    "\n",
    "    # Check whether 'total_packages' field of sales receipt matches number of transactions related to receipt.\n",
    "    if receipt_total_packages != len(receipt_transactions):\n",
    "        missing_count += 1\n",
    "        if receipt_sales_month not in month_to_missing_count:\n",
    "            month_to_missing_count[receipt_sales_month] = 0\n",
    "        month_to_missing_count[receipt_sales_month] += 1\n",
    "        continue\n",
    "\n",
    "    transactions_total_price = sum(receipt_transaction['tx_total_price'] for receipt_transaction in receipt_transactions)\n",
    "    if not float_eq(receipt_total_price, transactions_total_price, len(receipt_transactions)):\n",
    "        mismatch_count += 1\n",
    "        if receipt_total_price < transactions_total_price:\n",
    "            mismatch_over_count += 1\n",
    "            example_mismatch_over_receipts += [(receipt_number, receipt_transactions)]\n",
    "        else:\n",
    "            mismatch_under_count += 1\n",
    "            example_mismatch_under_receipts += [(receipt_number, receipt_transactions)]\n",
    "\n",
    "        if receipt_sales_month not in month_to_mismatch_count:\n",
    "            month_to_mismatch_count[receipt_sales_month] = 0\n",
    "        month_to_mismatch_count[receipt_sales_month] += 1\n",
    "        continue\n",
    "\n",
    "print(f'# receipts with mismatching transactions: {mismatch_count} ({mismatch_count / total_count * 100}%)')\n",
    "print(f'# receipts missing transactions: {missing_count} ({missing_count / total_count * 100}%)')\n",
    "print(f'# receipts total: {total_count}')\n",
    "\n",
    "if mismatch_count:\n",
    "    print(f'# mismatch receipt vs transactions (transactions over): {mismatch_over_count} ({mismatch_over_count / mismatch_count * 100}%)')\n",
    "    print(f'# mismatch receipt vs transactions (transactions under): {mismatch_under_count} ({mismatch_under_count / mismatch_count * 100}%)')"
   ]
  },
  {
   "cell_type": "code",
   "execution_count": 37,
   "id": "f1b0bbdd-7df5-40cc-8633-e60e4891fbce",
   "metadata": {},
   "outputs": [],
   "source": [
    "#month_to_missing_count"
   ]
  },
  {
   "cell_type": "code",
   "execution_count": 38,
   "id": "0050b730-986c-4408-bdff-6edcd35bd831",
   "metadata": {},
   "outputs": [],
   "source": [
    "for example_mismatch_over_receipt in example_mismatch_over_receipts[:10]:\n",
    "    receipt_number, receipt_transactions = example_mismatch_over_receipt\n",
    "    first_receipt_transaction = receipt_transactions[0]\n",
    "    print(receipt_number)\n",
    "    for receipt_transaction in receipt_transactions:\n",
    "        print(receipt_transaction)\n",
    "    print('---')"
   ]
  },
  {
   "cell_type": "markdown",
   "id": "40a054de",
   "metadata": {},
   "source": [
    "# Vendor churn"
   ]
  },
  {
   "cell_type": "code",
   "execution_count": 45,
   "id": "c18451c1",
   "metadata": {},
   "outputs": [],
   "source": [
    "window = 4"
   ]
  },
  {
   "cell_type": "code",
   "execution_count": null,
   "id": "0b4a19d9",
   "metadata": {},
   "outputs": [],
   "source": [
    "#df_vendor_churn = company_incoming_transfer_packages_dataframe"
   ]
  },
  {
   "cell_type": "code",
   "execution_count": 46,
   "id": "43c7c055",
   "metadata": {},
   "outputs": [],
   "source": [
    "license_number = license_numbers[0]\n",
    "df_vendor_churn = company_incoming_transfer_packages_dataframe[company_incoming_transfer_packages_dataframe['license_number'] == license_number]\n",
    "df_vendor_churn['year_month'] = pd.to_datetime(df_vendor_churn['created_date']).dt.strftime(\"%Y-%m\")\n",
    "vc = df_vendor_churn[['year_month','shipper_facility_name','shipper_wholesale_price']].groupby(['year_month','shipper_facility_name']).sum().reset_index()\n",
    "vc= vc.assign(year_month=lambda df:pd.to_datetime(df['year_month']))\n"
   ]
  },
  {
   "cell_type": "code",
   "execution_count": 47,
   "id": "ea2bbad5",
   "metadata": {},
   "outputs": [],
   "source": [
    "# make `vc` a long-table version of the spreadsheet, where all conpanies have a continuous year_month starting from \n",
    "# 2020-01-01 to 2022-01-01\n",
    "\n",
    "vc_full = (\n",
    "    vc\n",
    "    .groupby('shipper_facility_name').apply(\n",
    "        lambda df: df.merge(\n",
    "        pd.Series(\n",
    "            None, \n",
    "            index = pd.date_range(start='2020-01-01', end='2022-01-01', freq = 'MS'), \n",
    "            name='__place_holder'\n",
    "        ), \n",
    "        how ='right',\n",
    "        left_on = 'year_month', \n",
    "        right_index=True,\n",
    "    ).assign(\n",
    "        **{\n",
    "            \"shipper_facility_name\": lambda df_: df_.shipper_facility_name.dropna().unique()[0],\n",
    "            \"shipper_wholesale_price\": lambda df_: df_.shipper_wholesale_price.fillna(0),\n",
    "        }\n",
    "    )\n",
    "    .drop('__place_holder', axis=1)\n",
    "    )\n",
    ").reset_index(drop=True)"
   ]
  },
  {
   "cell_type": "code",
   "execution_count": 48,
   "id": "a7d3bd67",
   "metadata": {
    "scrolled": false
   },
   "outputs": [],
   "source": [
    "#vc_full"
   ]
  },
  {
   "cell_type": "code",
   "execution_count": 49,
   "id": "c9c014c8",
   "metadata": {},
   "outputs": [],
   "source": [
    "rolling_4m_sum =  vc_full.groupby('shipper_facility_name').apply(\n",
    "    lambda df: df.set_index('year_month').sort_index().rolling(window).sum()\n",
    ")\n",
    "rolling_4m_sum.columns = ['rolling_4m_total_price']\n",
    "\n",
    "\n",
    "facility_monthly_running_total = vc_full.groupby('shipper_facility_name').apply(\n",
    "    lambda df: df.set_index('year_month').sort_index()['shipper_wholesale_price'].cumsum().to_frame()\n",
    ")\n",
    "facility_monthly_running_total.columns = ['facility_running_total']\n",
    "\n",
    "monthly_running_total = facility_monthly_running_total.reset_index().groupby('year_month')['facility_running_total'].sum().to_frame()\n",
    "monthly_running_total.columns = ['monthly_running_total']\n"
   ]
  },
  {
   "cell_type": "code",
   "execution_count": 50,
   "id": "8b8895f2",
   "metadata": {},
   "outputs": [],
   "source": [
    "vc_result = rolling_4m_sum.merge(\n",
    "    facility_monthly_running_total,\n",
    "    how='inner',\n",
    "    left_index=True,\n",
    "    right_index=True\n",
    ").reset_index().merge(\n",
    "    monthly_running_total,\n",
    "    how='left',\n",
    "    on = 'year_month'\n",
    ")"
   ]
  },
  {
   "cell_type": "code",
   "execution_count": 51,
   "id": "424dd545",
   "metadata": {},
   "outputs": [],
   "source": [
    "vc_result['%_total'] = vc_result['facility_running_total'] / vc_result['monthly_running_total']"
   ]
  },
  {
   "cell_type": "code",
   "execution_count": 52,
   "id": "5ffdd963",
   "metadata": {},
   "outputs": [],
   "source": [
    "vc_result['last_4m_active'] = vc_result['rolling_4m_total_price'] > 0"
   ]
  },
  {
   "cell_type": "code",
   "execution_count": 53,
   "id": "7081f551",
   "metadata": {},
   "outputs": [],
   "source": [
    "vc_result ['significant'] = vc_result['%_total'] > 0.001"
   ]
  },
  {
   "cell_type": "code",
   "execution_count": 55,
   "id": "4f34f17d",
   "metadata": {},
   "outputs": [],
   "source": [
    "vc_result['measure'] = vc_result.apply(\n",
    "    lambda row: \"Active\"  if (row['last_4m_active'] & row['significant']) else (\"Inactive\" if row['significant'] else \"Exclude\"),\n",
    "    axis=1\n",
    ")"
   ]
  },
  {
   "cell_type": "code",
   "execution_count": 56,
   "id": "d3e3b05e",
   "metadata": {},
   "outputs": [],
   "source": [
    "churn = vc_result.groupby(['year_month']).apply(lambda x: x[x['measure'] == 'Inactive']['%_total'].sum()).reset_index()\n",
    "churn.columns = ['year_month','%_inactive']\n",
    "churn.index = churn.year_month\n",
    "\n"
   ]
  },
  {
   "cell_type": "code",
   "execution_count": 223,
   "id": "c35a7da0",
   "metadata": {},
   "outputs": [
    {
     "data": {
      "image/png": "[encoded data removed]",
      "text/plain": [
       "<Figure size 864x576 with 1 Axes>"
      ]
     },
     "metadata": {
      "needs_background": "light"
     },
     "output_type": "display_data"
    }
   ],
   "source": [
    "ax = churn['%_inactive'].plot(marker = 'o',figsize = (12,8))\n",
    "vals = ax.get_yticks()\n",
    "ax.set_yticklabels(['{:,.2%}'.format(x) for x in vals])\n",
    "ax = plt.title('Rolling 4m vendor churn')"
   ]
  },
  {
   "cell_type": "code",
   "execution_count": 224,
   "id": "9664ce28",
   "metadata": {},
   "outputs": [
    {
     "data": {
      "text/html": [
       "<div>\n",
       "<style scoped>\n",
       "    .dataframe tbody tr th:only-of-type {\n",
       "        vertical-align: middle;\n",
       "    }\n",
       "\n",
       "    .dataframe tbody tr th {\n",
       "        vertical-align: top;\n",
       "    }\n",
       "\n",
       "    .dataframe thead th {\n",
       "        text-align: right;\n",
       "    }\n",
       "</style>\n",
       "<table border=\"1\" class=\"dataframe\">\n",
       "  <thead>\n",
       "    <tr style=\"text-align: right;\">\n",
       "      <th></th>\n",
       "      <th>year_month</th>\n",
       "      <th>%_inactive</th>\n",
       "    </tr>\n",
       "    <tr>\n",
       "      <th>year_month</th>\n",
       "      <th></th>\n",
       "      <th></th>\n",
       "    </tr>\n",
       "  </thead>\n",
       "  <tbody>\n",
       "    <tr>\n",
       "      <th>2020-01-01</th>\n",
       "      <td>2020-01-01</td>\n",
       "      <td>0.999963</td>\n",
       "    </tr>\n",
       "    <tr>\n",
       "      <th>2020-02-01</th>\n",
       "      <td>2020-02-01</td>\n",
       "      <td>0.999971</td>\n",
       "    </tr>\n",
       "    <tr>\n",
       "      <th>2020-03-01</th>\n",
       "      <td>2020-03-01</td>\n",
       "      <td>0.999297</td>\n",
       "    </tr>\n",
       "    <tr>\n",
       "      <th>2020-04-01</th>\n",
       "      <td>2020-04-01</td>\n",
       "      <td>0.000000</td>\n",
       "    </tr>\n",
       "    <tr>\n",
       "      <th>2020-05-01</th>\n",
       "      <td>2020-05-01</td>\n",
       "      <td>0.020754</td>\n",
       "    </tr>\n",
       "    <tr>\n",
       "      <th>2020-06-01</th>\n",
       "      <td>2020-06-01</td>\n",
       "      <td>0.033740</td>\n",
       "    </tr>\n",
       "    <tr>\n",
       "      <th>2020-07-01</th>\n",
       "      <td>2020-07-01</td>\n",
       "      <td>0.028241</td>\n",
       "    </tr>\n",
       "    <tr>\n",
       "      <th>2020-08-01</th>\n",
       "      <td>2020-08-01</td>\n",
       "      <td>0.048287</td>\n",
       "    </tr>\n",
       "    <tr>\n",
       "      <th>2020-09-01</th>\n",
       "      <td>2020-09-01</td>\n",
       "      <td>0.075154</td>\n",
       "    </tr>\n",
       "    <tr>\n",
       "      <th>2020-10-01</th>\n",
       "      <td>2020-10-01</td>\n",
       "      <td>0.082389</td>\n",
       "    </tr>\n",
       "    <tr>\n",
       "      <th>2020-11-01</th>\n",
       "      <td>2020-11-01</td>\n",
       "      <td>0.073716</td>\n",
       "    </tr>\n",
       "    <tr>\n",
       "      <th>2020-12-01</th>\n",
       "      <td>2020-12-01</td>\n",
       "      <td>0.074761</td>\n",
       "    </tr>\n",
       "    <tr>\n",
       "      <th>2021-01-01</th>\n",
       "      <td>2021-01-01</td>\n",
       "      <td>0.076272</td>\n",
       "    </tr>\n",
       "    <tr>\n",
       "      <th>2021-02-01</th>\n",
       "      <td>2021-02-01</td>\n",
       "      <td>0.247979</td>\n",
       "    </tr>\n",
       "    <tr>\n",
       "      <th>2021-03-01</th>\n",
       "      <td>2021-03-01</td>\n",
       "      <td>0.216931</td>\n",
       "    </tr>\n",
       "    <tr>\n",
       "      <th>2021-04-01</th>\n",
       "      <td>2021-04-01</td>\n",
       "      <td>0.272887</td>\n",
       "    </tr>\n",
       "    <tr>\n",
       "      <th>2021-05-01</th>\n",
       "      <td>2021-05-01</td>\n",
       "      <td>0.255039</td>\n",
       "    </tr>\n",
       "    <tr>\n",
       "      <th>2021-06-01</th>\n",
       "      <td>2021-06-01</td>\n",
       "      <td>0.258595</td>\n",
       "    </tr>\n",
       "    <tr>\n",
       "      <th>2021-07-01</th>\n",
       "      <td>2021-07-01</td>\n",
       "      <td>0.272243</td>\n",
       "    </tr>\n",
       "    <tr>\n",
       "      <th>2021-08-01</th>\n",
       "      <td>2021-08-01</td>\n",
       "      <td>0.262101</td>\n",
       "    </tr>\n",
       "    <tr>\n",
       "      <th>2021-09-01</th>\n",
       "      <td>2021-09-01</td>\n",
       "      <td>0.257844</td>\n",
       "    </tr>\n",
       "    <tr>\n",
       "      <th>2021-10-01</th>\n",
       "      <td>2021-10-01</td>\n",
       "      <td>0.262556</td>\n",
       "    </tr>\n",
       "    <tr>\n",
       "      <th>2021-11-01</th>\n",
       "      <td>2021-11-01</td>\n",
       "      <td>0.240655</td>\n",
       "    </tr>\n",
       "    <tr>\n",
       "      <th>2021-12-01</th>\n",
       "      <td>2021-12-01</td>\n",
       "      <td>0.227491</td>\n",
       "    </tr>\n",
       "    <tr>\n",
       "      <th>2022-01-01</th>\n",
       "      <td>2022-01-01</td>\n",
       "      <td>0.313685</td>\n",
       "    </tr>\n",
       "  </tbody>\n",
       "</table>\n",
       "</div>"
      ],
      "text/plain": [
       "           year_month  %_inactive\n",
       "year_month                       \n",
       "2020-01-01 2020-01-01    0.999963\n",
       "2020-02-01 2020-02-01    0.999971\n",
       "2020-03-01 2020-03-01    0.999297\n",
       "2020-04-01 2020-04-01    0.000000\n",
       "2020-05-01 2020-05-01    0.020754\n",
       "2020-06-01 2020-06-01    0.033740\n",
       "2020-07-01 2020-07-01    0.028241\n",
       "2020-08-01 2020-08-01    0.048287\n",
       "2020-09-01 2020-09-01    0.075154\n",
       "2020-10-01 2020-10-01    0.082389\n",
       "2020-11-01 2020-11-01    0.073716\n",
       "2020-12-01 2020-12-01    0.074761\n",
       "2021-01-01 2021-01-01    0.076272\n",
       "2021-02-01 2021-02-01    0.247979\n",
       "2021-03-01 2021-03-01    0.216931\n",
       "2021-04-01 2021-04-01    0.272887\n",
       "2021-05-01 2021-05-01    0.255039\n",
       "2021-06-01 2021-06-01    0.258595\n",
       "2021-07-01 2021-07-01    0.272243\n",
       "2021-08-01 2021-08-01    0.262101\n",
       "2021-09-01 2021-09-01    0.257844\n",
       "2021-10-01 2021-10-01    0.262556\n",
       "2021-11-01 2021-11-01    0.240655\n",
       "2021-12-01 2021-12-01    0.227491\n",
       "2022-01-01 2022-01-01    0.313685"
      ]
     },
     "execution_count": 224,
     "metadata": {},
     "output_type": "execute_result"
    }
   ],
   "source": [
    "churn"
   ]
  },
  {
   "cell_type": "code",
   "execution_count": 226,
   "id": "d98d82fa",
   "metadata": {},
   "outputs": [],
   "source": [
    "VC_MONTH_LIST = ['2021-09-01','2021-10-01','2021-11-01','2021-12-01']\n",
    "VC_MONTH_END = VC_MONTH_LIST[-1]"
   ]
  },
  {
   "cell_type": "code",
   "execution_count": 228,
   "id": "a19fc132",
   "metadata": {},
   "outputs": [],
   "source": [
    "# output vendor churn matrix\n",
    "vc_data = vc_full[vc_full['year_month'] <= VC_MONTH_END]\n",
    "vc_data['year_month'] = vc_data['year_month'].astype(str)\n",
    "vc_matrix = pd.pivot_table(vc_data, values='shipper_wholesale_price', index='shipper_facility_name',\n",
    "                    columns='year_month', fill_value=0).reset_index()"
   ]
  },
  {
   "cell_type": "code",
   "execution_count": 229,
   "id": "15a81c37",
   "metadata": {},
   "outputs": [],
   "source": [
    "vc_matrix['facility_total'] = vc_matrix.sum(axis= 1)\n",
    "vc_matrix['grand_total'] = vc_matrix['facility_total'].sum()\n",
    "vc_matrix['perc_total'] = vc_matrix['facility_total'] / vc_matrix['grand_total']\n",
    "vc_matrix['last_4m_total'] = vc_matrix[VC_MONTH_LIST].sum(axis = 1)"
   ]
  },
  {
   "cell_type": "code",
   "execution_count": 242,
   "id": "857ea917",
   "metadata": {},
   "outputs": [
    {
     "data": {
      "text/html": [
       "<div>\n",
       "<style scoped>\n",
       "    .dataframe tbody tr th:only-of-type {\n",
       "        vertical-align: middle;\n",
       "    }\n",
       "\n",
       "    .dataframe tbody tr th {\n",
       "        vertical-align: top;\n",
       "    }\n",
       "\n",
       "    .dataframe thead th {\n",
       "        text-align: right;\n",
       "    }\n",
       "</style>\n",
       "<table border=\"1\" class=\"dataframe\">\n",
       "  <thead>\n",
       "    <tr style=\"text-align: right;\">\n",
       "      <th>year_month</th>\n",
       "      <th>shipper_facility_name</th>\n",
       "      <th>2020-01-01</th>\n",
       "      <th>2020-02-01</th>\n",
       "      <th>2020-03-01</th>\n",
       "      <th>2020-04-01</th>\n",
       "      <th>2020-05-01</th>\n",
       "      <th>2020-06-01</th>\n",
       "      <th>2020-07-01</th>\n",
       "      <th>2020-08-01</th>\n",
       "      <th>2020-09-01</th>\n",
       "      <th>2020-10-01</th>\n",
       "      <th>2020-11-01</th>\n",
       "      <th>2020-12-01</th>\n",
       "      <th>2021-01-01</th>\n",
       "      <th>2021-02-01</th>\n",
       "      <th>2021-03-01</th>\n",
       "      <th>2021-04-01</th>\n",
       "      <th>2021-05-01</th>\n",
       "      <th>2021-06-01</th>\n",
       "      <th>2021-07-01</th>\n",
       "      <th>2021-08-01</th>\n",
       "      <th>2021-09-01</th>\n",
       "      <th>2021-10-01</th>\n",
       "      <th>2021-11-01</th>\n",
       "      <th>2021-12-01</th>\n",
       "      <th>facility_total</th>\n",
       "      <th>grand_total</th>\n",
       "      <th>perc_total</th>\n",
       "      <th>last_4m_total</th>\n",
       "      <th>last_4m_active</th>\n",
       "      <th>significant</th>\n",
       "      <th>measure</th>\n",
       "    </tr>\n",
       "  </thead>\n",
       "  <tbody>\n",
       "    <tr>\n",
       "      <th>98</th>\n",
       "      <td>NABITWO, LLC</td>\n",
       "      <td>0.0</td>\n",
       "      <td>0.0</td>\n",
       "      <td>0.0</td>\n",
       "      <td>0.0</td>\n",
       "      <td>0.0</td>\n",
       "      <td>0.0</td>\n",
       "      <td>0.0</td>\n",
       "      <td>0.0</td>\n",
       "      <td>0.0</td>\n",
       "      <td>0.0</td>\n",
       "      <td>0.0</td>\n",
       "      <td>15011.48</td>\n",
       "      <td>20673.45</td>\n",
       "      <td>23720.36</td>\n",
       "      <td>28913.47</td>\n",
       "      <td>36691.13</td>\n",
       "      <td>23855.95</td>\n",
       "      <td>32302.65</td>\n",
       "      <td>32760.5</td>\n",
       "      <td>22813.31</td>\n",
       "      <td>31471.85</td>\n",
       "      <td>23512.83</td>\n",
       "      <td>26531.25</td>\n",
       "      <td>25977.13</td>\n",
       "      <td>344235.36</td>\n",
       "      <td>3260942.32</td>\n",
       "      <td>0.105563</td>\n",
       "      <td>107493.06</td>\n",
       "      <td>True</td>\n",
       "      <td>True</td>\n",
       "      <td>Active</td>\n",
       "    </tr>\n",
       "  </tbody>\n",
       "</table>\n",
       "</div>"
      ],
      "text/plain": [
       "year_month shipper_facility_name  2020-01-01  2020-02-01  2020-03-01  \\\n",
       "98                  NABITWO, LLC         0.0         0.0         0.0   \n",
       "\n",
       "year_month  2020-04-01  2020-05-01  2020-06-01  2020-07-01  2020-08-01  \\\n",
       "98                 0.0         0.0         0.0         0.0         0.0   \n",
       "\n",
       "year_month  2020-09-01  2020-10-01  2020-11-01  2020-12-01  2021-01-01  \\\n",
       "98                 0.0         0.0         0.0    15011.48    20673.45   \n",
       "\n",
       "year_month  2021-02-01  2021-03-01  2021-04-01  2021-05-01  2021-06-01  \\\n",
       "98            23720.36    28913.47    36691.13    23855.95    32302.65   \n",
       "\n",
       "year_month  2021-07-01  2021-08-01  2021-09-01  2021-10-01  2021-11-01  \\\n",
       "98             32760.5    22813.31    31471.85    23512.83    26531.25   \n",
       "\n",
       "year_month  2021-12-01  facility_total  grand_total  perc_total  \\\n",
       "98            25977.13       344235.36   3260942.32    0.105563   \n",
       "\n",
       "year_month  last_4m_total  last_4m_active  significant measure  \n",
       "98              107493.06            True         True  Active  "
      ]
     },
     "execution_count": 242,
     "metadata": {},
     "output_type": "execute_result"
    }
   ],
   "source": [
    "vc_matrix[vc_matrix['shipper_facility_name'] == 'NABITWO, LLC']"
   ]
  },
  {
   "cell_type": "code",
   "execution_count": 240,
   "id": "67cdbb3d",
   "metadata": {},
   "outputs": [],
   "source": [
    "vc_matrix['last_4m_active'] = vc_matrix['last_4m_total'] > 0\n",
    "vc_matrix ['significant'] = vc_matrix['perc_total'] > 0.001\n",
    "vc_matrix['measure'] = vc_matrix.apply(\n",
    "    lambda row: \"Active\"  if (row['last_4m_active'] & row['significant']) else (\"Inactive\" if row['significant'] else \"Exclude\"),\n",
    "    axis=1\n",
    ")"
   ]
  },
  {
   "cell_type": "code",
   "execution_count": 245,
   "id": "08393535",
   "metadata": {},
   "outputs": [],
   "source": [
    "#vc_matrix.to_csv('vc_matrix.csv')"
   ]
  },
  {
   "cell_type": "markdown",
   "id": "21b8b232",
   "metadata": {},
   "source": [
    "# Receiver wholesale price outlier check"
   ]
  },
  {
   "cell_type": "code",
   "execution_count": 64,
   "id": "7291b9c2",
   "metadata": {},
   "outputs": [],
   "source": [
    "def check_per_unit_incoming(incoming_transfer_df: pd.DataFrame) -> Tuple[pd.DataFrame,pd.DataFrame]:\n",
    "    incoming_transfer_df['per_unit_incoming'] = incoming_transfer_df['shipper_wholesale_price'] / incoming_transfer_df['shipped_quantity']\n",
    "    # by package ID\n",
    "    per_unit_incoming_package_sort = incoming_transfer_df[['package_id','per_unit_incoming']].groupby(['package_id']).mean().sort_values(by = 'per_unit_incoming',ascending = False).reset_index()\n",
    "    per_unit_incoming_package_top5 = per_unit_incoming_package_sort[0:5]\n",
    "    print('printing per unit incoming by package ID summary ...')\n",
    "    print(f'max per unit incoming: {per_unit_incoming_package_sort[\"per_unit_incoming\"][0]}' + f' from package ID: {per_unit_incoming_package_sort[\"package_id\"][0]}')\n",
    "    print(f'min per unit incoming: {per_unit_incoming_package_sort.dropna()[\"per_unit_incoming\"][-1:].values[0]}' + f' from package ID: {per_unit_incoming_package_sort.dropna()[\"package_id\"][-1:].values[0]}')\n",
    "    #print(per_unit_incoming_package_top5)\n",
    "    print('')\n",
    "    \n",
    "    #by product name\n",
    "    per_unit_incoming_product_sort = incoming_transfer_df[['product_name','per_unit_incoming']].groupby(['product_name']).max().sort_values(by = 'per_unit_incoming',ascending = False).reset_index()\n",
    "    per_unit_incoming_product_top5 = per_unit_incoming_product_sort[0:5]\n",
    "    #print('printing per unit incoming by product name summary ...')\n",
    "    #print(f'max per unit incoming: {per_unit_incoming_product_sort[\"per_unit_incoming\"][0]}' + f' from product name: {per_unit_incoming_product_sort[\"product_name\"][0]}')\n",
    "    #print(f'min per unit incoming: {per_unit_incoming_product_sort.dropna()[\"per_unit_incoming\"][-1:].values[0]}' + f' from product_name: {per_unit_incoming_product_sort.dropna()[\"product_name\"][-1:].values[0]}')\n",
    "    #print(per_unit_incoming_product_top5)\n",
    "    return per_unit_incoming_package_sort,per_unit_incoming_product_sort\n"
   ]
  },
  {
   "cell_type": "code",
   "execution_count": 65,
   "id": "00fbd51c",
   "metadata": {},
   "outputs": [
    {
     "name": "stdout",
     "output_type": "stream",
     "text": [
      "printing per unit incoming by package ID summary ...\n",
      "max per unit incoming: 300.0 from package ID: 17867556\n",
      "min per unit incoming: 3.90625e-05 from package ID: 12252383\n",
      "\n"
     ]
    }
   ],
   "source": [
    "per_unit_incoming_package_sort,per_unit_incoming_product_sort = check_per_unit_incoming(company_incoming_transfer_packages_dataframe)\n"
   ]
  },
  {
   "cell_type": "code",
   "execution_count": 66,
   "id": "1f93f801",
   "metadata": {},
   "outputs": [
    {
     "name": "stdout",
     "output_type": "stream",
     "text": [
      "Top 5 per unit incoming packages\n"
     ]
    },
    {
     "data": {
      "text/html": [
       "<div>\n",
       "<style scoped>\n",
       "    .dataframe tbody tr th:only-of-type {\n",
       "        vertical-align: middle;\n",
       "    }\n",
       "\n",
       "    .dataframe tbody tr th {\n",
       "        vertical-align: top;\n",
       "    }\n",
       "\n",
       "    .dataframe thead th {\n",
       "        text-align: right;\n",
       "    }\n",
       "</style>\n",
       "<table border=\"1\" class=\"dataframe\">\n",
       "  <thead>\n",
       "    <tr style=\"text-align: right;\">\n",
       "      <th></th>\n",
       "      <th>package_id</th>\n",
       "      <th>per_unit_incoming</th>\n",
       "    </tr>\n",
       "  </thead>\n",
       "  <tbody>\n",
       "    <tr>\n",
       "      <th>0</th>\n",
       "      <td>17867556</td>\n",
       "      <td>300.0</td>\n",
       "    </tr>\n",
       "    <tr>\n",
       "      <th>1</th>\n",
       "      <td>21232050</td>\n",
       "      <td>175.0</td>\n",
       "    </tr>\n",
       "    <tr>\n",
       "      <th>2</th>\n",
       "      <td>3818405</td>\n",
       "      <td>132.0</td>\n",
       "    </tr>\n",
       "    <tr>\n",
       "      <th>3</th>\n",
       "      <td>14420347</td>\n",
       "      <td>110.0</td>\n",
       "    </tr>\n",
       "    <tr>\n",
       "      <th>4</th>\n",
       "      <td>14420349</td>\n",
       "      <td>110.0</td>\n",
       "    </tr>\n",
       "  </tbody>\n",
       "</table>\n",
       "</div>"
      ],
      "text/plain": [
       "  package_id  per_unit_incoming\n",
       "0   17867556              300.0\n",
       "1   21232050              175.0\n",
       "2    3818405              132.0\n",
       "3   14420347              110.0\n",
       "4   14420349              110.0"
      ]
     },
     "execution_count": 66,
     "metadata": {},
     "output_type": "execute_result"
    }
   ],
   "source": [
    "# top 5\n",
    "print('Top 5 per unit incoming packages')\n",
    "per_unit_incoming_package_sort.head(5)"
   ]
  },
  {
   "cell_type": "code",
   "execution_count": 67,
   "id": "acc93f68",
   "metadata": {},
   "outputs": [
    {
     "name": "stdout",
     "output_type": "stream",
     "text": [
      "Bottom 5 per unit incoming packages\n"
     ]
    },
    {
     "data": {
      "text/html": [
       "<div>\n",
       "<style scoped>\n",
       "    .dataframe tbody tr th:only-of-type {\n",
       "        vertical-align: middle;\n",
       "    }\n",
       "\n",
       "    .dataframe tbody tr th {\n",
       "        vertical-align: top;\n",
       "    }\n",
       "\n",
       "    .dataframe thead th {\n",
       "        text-align: right;\n",
       "    }\n",
       "</style>\n",
       "<table border=\"1\" class=\"dataframe\">\n",
       "  <thead>\n",
       "    <tr style=\"text-align: right;\">\n",
       "      <th></th>\n",
       "      <th>package_id</th>\n",
       "      <th>per_unit_incoming</th>\n",
       "    </tr>\n",
       "  </thead>\n",
       "  <tbody>\n",
       "    <tr>\n",
       "      <th>13137</th>\n",
       "      <td>13980310</td>\n",
       "      <td>0.000067</td>\n",
       "    </tr>\n",
       "    <tr>\n",
       "      <th>13138</th>\n",
       "      <td>8825277</td>\n",
       "      <td>0.000050</td>\n",
       "    </tr>\n",
       "    <tr>\n",
       "      <th>13139</th>\n",
       "      <td>12638851</td>\n",
       "      <td>0.000049</td>\n",
       "    </tr>\n",
       "    <tr>\n",
       "      <th>13140</th>\n",
       "      <td>12252505</td>\n",
       "      <td>0.000039</td>\n",
       "    </tr>\n",
       "    <tr>\n",
       "      <th>13141</th>\n",
       "      <td>12252383</td>\n",
       "      <td>0.000039</td>\n",
       "    </tr>\n",
       "  </tbody>\n",
       "</table>\n",
       "</div>"
      ],
      "text/plain": [
       "      package_id  per_unit_incoming\n",
       "13137   13980310           0.000067\n",
       "13138    8825277           0.000050\n",
       "13139   12638851           0.000049\n",
       "13140   12252505           0.000039\n",
       "13141   12252383           0.000039"
      ]
     },
     "execution_count": 67,
     "metadata": {},
     "output_type": "execute_result"
    }
   ],
   "source": [
    "print('Bottom 5 per unit incoming packages')\n",
    "per_unit_incoming_package_sort.dropna().tail(5)\n"
   ]
  },
  {
   "cell_type": "markdown",
   "id": "4f6f5b6e",
   "metadata": {},
   "source": [
    "## Trim outliers in per unit incoming before COGS analysis\n",
    "Trim the packages from incoming transfer data which per unit incoming is in the top and bottom 0.5% "
   ]
  },
  {
   "cell_type": "code",
   "execution_count": 68,
   "id": "dffaa1f0",
   "metadata": {},
   "outputs": [],
   "source": [
    "keep= company_incoming_transfer_packages_dataframe['per_unit_incoming'].between(company_incoming_transfer_packages_dataframe['per_unit_incoming'].quantile(.005), company_incoming_transfer_packages_dataframe['per_unit_incoming'].quantile(.995))\n",
    "\n"
   ]
  },
  {
   "cell_type": "code",
   "execution_count": 69,
   "id": "a93f7b41",
   "metadata": {},
   "outputs": [],
   "source": [
    "# date with trimmed packages\n",
    "#company_incoming_transfer_packages_dataframe[['per_unit_incoming','created_date']][~keep].groupby(['created_date']).count()"
   ]
  },
  {
   "cell_type": "code",
   "execution_count": 70,
   "id": "79cd214c",
   "metadata": {},
   "outputs": [],
   "source": [
    "company_incoming_transfer_packages_dataframe_trim = company_incoming_transfer_packages_dataframe[keep]"
   ]
  },
  {
   "cell_type": "code",
   "execution_count": 71,
   "id": "3492d5ab",
   "metadata": {},
   "outputs": [
    {
     "name": "stdout",
     "output_type": "stream",
     "text": [
      "Trimmed 2.51%, 336 of 13370 total packages\n"
     ]
    }
   ],
   "source": [
    "print('Trimmed ' + str(round((1 - keep.sum() / keep.shape[0])*100,2)) + '%, '  + str(keep.shape[0] - keep.sum()) + ' of ' + str(keep.shape[0])+' total packages')"
   ]
  },
  {
   "cell_type": "code",
   "execution_count": 72,
   "id": "ae9b5732",
   "metadata": {},
   "outputs": [],
   "source": [
    "# show break down by month the trimmed records\n",
    "#display the last few weeks updated margin %"
   ]
  },
  {
   "cell_type": "markdown",
   "id": "84b21f91-5b47-4407-8579-7e29714d60e4",
   "metadata": {},
   "source": [
    "# COGS analysis"
   ]
  },
  {
   "cell_type": "code",
   "execution_count": 73,
   "id": "e57a2ec3",
   "metadata": {},
   "outputs": [],
   "source": [
    "def cogs_analysis(df_in:pd.DataFrame,df_out:pd.DataFrame,df_inventory:pd.DataFrame,df_sales:pd.DataFrame,freq: str) -> Tuple[pd.DataFrame,pd.DataFrame]:\n",
    "    df_sales['per_unit'] = df_sales['tx_total_price'] / df_sales['tx_quantity_sold']\n",
    "    # set frequency\n",
    "    if freq == 'monthly':\n",
    "        df_sales['date'] = df_sales['sales_datetime'].dt.strftime(\"%Y-%m\")\n",
    "    elif freq == 'weekly':\n",
    "        df_sales['date'] = df_sales['sales_datetime'].dt.strftime(\"%Y-%W\")\n",
    "        df_sales['week'] = df_sales['sales_datetime'].dt.strftime(\"%W\")\n",
    "    # total # of trxns\n",
    "    s_total_count = df_sales.groupby('date')['tx_total_price'].count()\n",
    "    df_total_count = pd.Series(s_total_count).to_frame()\n",
    "    df_total_count = df_total_count.reset_index()\n",
    "    df_total_count.rename(columns={'tx_total_price':'total_count'}, inplace=True)\n",
    "    # revenue\n",
    "    s_revenue = df_sales.groupby('date')['tx_total_price'].sum()\n",
    "    df_revenue = pd.Series(s_revenue).to_frame()\n",
    "    df_revenue = df_revenue.reset_index()\n",
    "    df_revenue.rename(columns={'tx_total_price': 'revenue'}, inplace=True)\n",
    "\n",
    "    df_in['per_unit_incoming'] = df_in['shipper_wholesale_price'] / df_in['shipped_quantity']\n",
    "    \n",
    "    # per unit price by package id\n",
    "    df_in_price = df_in[df_in['shipper_wholesale_price'].notnull()]\n",
    "    average_incoming_package_id = df_in_price.groupby('package_id')['per_unit_incoming'].mean()\n",
    "    df_avg_incoming_price = pd.Series(average_incoming_package_id).to_frame()\n",
    "    df_avg_incoming_price = df_avg_incoming_price.reset_index()\n",
    "    # per unit price by product name\n",
    "    average_incoming_product = df_in_price.groupby('product_name')['per_unit_incoming'].mean()\n",
    "    df_avg_product = pd.Series(average_incoming_product).to_frame()\n",
    "    df_avg_product = df_avg_product.reset_index()\n",
    "    df_avg_product.rename(columns={'per_unit_incoming':'per_unit_product'}, inplace=True)\n",
    "\n",
    "    # merge with (cogs by package id)\n",
    "    df_cogs_package_id = pd.merge(df_sales, df_avg_incoming_price, left_on='tx_package_id', right_on='package_id', how='left')\n",
    "    df_cogs_package_id['total_incoming'] = df_cogs_package_id['per_unit_incoming'] * df_cogs_package_id['tx_quantity_sold']\n",
    "    df_cogs_package_id.replace([numpy.inf], numpy.nan, inplace=True)\n",
    "    df_cogs_package_id_notnull = df_cogs_package_id[df_cogs_package_id['total_incoming'].notnull()]\n",
    "\n",
    "    # sum cogs by package id\n",
    "    s_cogs = df_cogs_package_id_notnull.groupby('date')['total_incoming'].sum()\n",
    "    df_cogs_id = pd.Series(s_cogs).to_frame()\n",
    "    df_cogs_id = df_cogs_id.reset_index()\n",
    "    # count # of trxn by package id\n",
    "    s_cogs_count = df_cogs_package_id_notnull.groupby('date')['total_incoming'].count()\n",
    "    df_cogs_count = pd.Series(s_cogs_count).to_frame()\n",
    "    df_cogs_count = df_cogs_count.reset_index()\n",
    "    df_cogs_count.rename(columns={'total_incoming':'count_incoming'}, inplace=True)\n",
    "    \n",
    "    # merge with (cogs by product name)\n",
    "    df_cogs_average_product = pd.merge(df_cogs_package_id, df_avg_product, left_on='tx_product_name', right_on='product_name', how='left')\n",
    "    df_cogs_average_product['total_product'] = df_cogs_average_product['tx_quantity_sold'] * df_cogs_average_product['per_unit_product']\n",
    "    df_cogs_null = df_cogs_average_product[df_cogs_average_product['per_unit_incoming'].isnull()]\n",
    "    df_cogs_product = df_cogs_null[df_cogs_null['per_unit_product'].notnull()]\n",
    "    # sum cogs filldown by product name\n",
    "    product_sum = df_cogs_product.groupby('date')['total_product'].sum()\n",
    "    df_product_sum = pd.Series(product_sum).to_frame()\n",
    "    df_product_sum = df_product_sum.reset_index()\n",
    "    df_product_sum.rename(columns={'total_product':'product_sum'}, inplace=True)\n",
    "    # count # of trxn filldown by product name\n",
    "    product_count = df_cogs_product.groupby('date')['total_product'].count()\n",
    "    df_product_count = pd.Series(product_count).to_frame()\n",
    "    df_product_count = df_product_count.reset_index()\n",
    "    df_product_count.rename(columns={'total_product':'product_count'}, inplace=True)\n",
    "    df_cogs_product_df = pd.merge(df_product_sum, df_product_count)\n",
    "    \n",
    "    # prepare summary\n",
    "    df_summary = pd.merge(df_revenue, df_cogs_product_df, how='left')\n",
    "    df_summary = pd.merge(df_summary, df_cogs_id, how='left')\n",
    "    df_summary['product_sum'] = df_summary['product_sum'].fillna(0)\n",
    "    df_summary['product_count'] = df_summary['product_count'].fillna(0)\n",
    "    # total cogs = by product id cogs + by product name cogs\n",
    "    df_summary['cogs'] = df_summary['total_incoming'] + df_summary['product_sum']\n",
    "    df_summary = pd.merge(df_summary, df_cogs_count)\n",
    "    df_summary = pd.merge(df_summary, df_total_count)\n",
    "    # total count = by package id count + by product count\n",
    "    df_summary['total_count_incoming'] = df_summary['count_incoming'] + df_summary['product_count']\n",
    "    df_summary['margin_$'] = df_summary['revenue'] - df_summary['cogs']\n",
    "    df_summary['margin_%'] = df_summary['margin_$'] / df_summary['revenue']\n",
    "    df_summary['coverage'] = df_summary['total_count_incoming'] / df_summary['total_count']\n",
    "    df_summary_simp = df_summary[['date', 'revenue', 'cogs', 'margin_$', 'margin_%', 'total_count_incoming','product_count','count_incoming', 'coverage']]\n",
    "    \n",
    "    return df_summary_simp,df_cogs_average_product\n",
    "\n",
    "\n"
   ]
  },
  {
   "cell_type": "code",
   "execution_count": 98,
   "id": "0cacb9a7-cb4f-4ce4-8820-8ab37285629c",
   "metadata": {},
   "outputs": [],
   "source": [
    "df_in = company_incoming_transfer_packages_dataframe # use trimmed\n",
    "df_out = company_outgoing_transfer_packages_dataframe\n",
    "df_inventory = company_inventory_packages_dataframe\n",
    "df_sales = deduped_sales_receipts_with_transactions_dataframe"
   ]
  },
  {
   "cell_type": "code",
   "execution_count": 99,
   "id": "4126dddb",
   "metadata": {},
   "outputs": [],
   "source": [
    "df_summary_simp,df_cogs_average_product = cogs_analysis(df_in,df_out,df_inventory,df_sales,'monthly')\n",
    "df_summary_simp.index = df_summary_simp.date\n"
   ]
  },
  {
   "cell_type": "code",
   "execution_count": 100,
   "id": "8f9523ff",
   "metadata": {},
   "outputs": [],
   "source": [
    "# rolling\n",
    "rolling_4m_margin = df_summary_simp[['margin_%']].rolling(4).mean()\n",
    "rolling_4m_margin.columns = ['rolling_4m_margin_%']"
   ]
  },
  {
   "cell_type": "code",
   "execution_count": 101,
   "id": "f4252df7",
   "metadata": {},
   "outputs": [
    {
     "data": {
      "text/html": [
       "<div>\n",
       "<style scoped>\n",
       "    .dataframe tbody tr th:only-of-type {\n",
       "        vertical-align: middle;\n",
       "    }\n",
       "\n",
       "    .dataframe tbody tr th {\n",
       "        vertical-align: top;\n",
       "    }\n",
       "\n",
       "    .dataframe thead th {\n",
       "        text-align: right;\n",
       "    }\n",
       "</style>\n",
       "<table border=\"1\" class=\"dataframe\">\n",
       "  <thead>\n",
       "    <tr style=\"text-align: right;\">\n",
       "      <th></th>\n",
       "      <th>date</th>\n",
       "      <th>revenue</th>\n",
       "      <th>cogs</th>\n",
       "      <th>margin_$</th>\n",
       "      <th>margin_%</th>\n",
       "      <th>total_count_incoming</th>\n",
       "      <th>product_count</th>\n",
       "      <th>count_incoming</th>\n",
       "      <th>coverage</th>\n",
       "    </tr>\n",
       "    <tr>\n",
       "      <th>date</th>\n",
       "      <th></th>\n",
       "      <th></th>\n",
       "      <th></th>\n",
       "      <th></th>\n",
       "      <th></th>\n",
       "      <th></th>\n",
       "      <th></th>\n",
       "      <th></th>\n",
       "      <th></th>\n",
       "    </tr>\n",
       "  </thead>\n",
       "  <tbody>\n",
       "    <tr>\n",
       "      <th>2020-01</th>\n",
       "      <td>2020-01</td>\n",
       "      <td>19604.36</td>\n",
       "      <td>11673.820401</td>\n",
       "      <td>7930.539599</td>\n",
       "      <td>0.404529</td>\n",
       "      <td>1080.0</td>\n",
       "      <td>22.0</td>\n",
       "      <td>1058</td>\n",
       "      <td>0.936687</td>\n",
       "    </tr>\n",
       "    <tr>\n",
       "      <th>2020-02</th>\n",
       "      <td>2020-02</td>\n",
       "      <td>89270.77</td>\n",
       "      <td>47377.240076</td>\n",
       "      <td>41893.529924</td>\n",
       "      <td>0.469286</td>\n",
       "      <td>4500.0</td>\n",
       "      <td>253.0</td>\n",
       "      <td>4247</td>\n",
       "      <td>0.927644</td>\n",
       "    </tr>\n",
       "    <tr>\n",
       "      <th>2020-03</th>\n",
       "      <td>2020-03</td>\n",
       "      <td>168489.95</td>\n",
       "      <td>86926.783796</td>\n",
       "      <td>81563.166204</td>\n",
       "      <td>0.484083</td>\n",
       "      <td>7224.0</td>\n",
       "      <td>240.0</td>\n",
       "      <td>6984</td>\n",
       "      <td>0.938182</td>\n",
       "    </tr>\n",
       "    <tr>\n",
       "      <th>2020-04</th>\n",
       "      <td>2020-04</td>\n",
       "      <td>151237.68</td>\n",
       "      <td>85866.246408</td>\n",
       "      <td>65371.433592</td>\n",
       "      <td>0.432243</td>\n",
       "      <td>6638.0</td>\n",
       "      <td>77.0</td>\n",
       "      <td>6561</td>\n",
       "      <td>0.972601</td>\n",
       "    </tr>\n",
       "    <tr>\n",
       "      <th>2020-05</th>\n",
       "      <td>2020-05</td>\n",
       "      <td>182498.47</td>\n",
       "      <td>91623.286387</td>\n",
       "      <td>90875.183613</td>\n",
       "      <td>0.497950</td>\n",
       "      <td>7484.0</td>\n",
       "      <td>37.0</td>\n",
       "      <td>7447</td>\n",
       "      <td>0.944353</td>\n",
       "    </tr>\n",
       "    <tr>\n",
       "      <th>2020-06</th>\n",
       "      <td>2020-06</td>\n",
       "      <td>188586.83</td>\n",
       "      <td>97423.355644</td>\n",
       "      <td>91163.474356</td>\n",
       "      <td>0.483403</td>\n",
       "      <td>7765.0</td>\n",
       "      <td>115.0</td>\n",
       "      <td>7650</td>\n",
       "      <td>0.945107</td>\n",
       "    </tr>\n",
       "    <tr>\n",
       "      <th>2020-07</th>\n",
       "      <td>2020-07</td>\n",
       "      <td>203898.82</td>\n",
       "      <td>105382.630240</td>\n",
       "      <td>98516.189760</td>\n",
       "      <td>0.483162</td>\n",
       "      <td>8517.0</td>\n",
       "      <td>60.0</td>\n",
       "      <td>8457</td>\n",
       "      <td>0.959014</td>\n",
       "    </tr>\n",
       "    <tr>\n",
       "      <th>2020-08</th>\n",
       "      <td>2020-08</td>\n",
       "      <td>204958.60</td>\n",
       "      <td>104596.717341</td>\n",
       "      <td>100361.882659</td>\n",
       "      <td>0.489669</td>\n",
       "      <td>8543.0</td>\n",
       "      <td>119.0</td>\n",
       "      <td>8424</td>\n",
       "      <td>0.974005</td>\n",
       "    </tr>\n",
       "    <tr>\n",
       "      <th>2020-09</th>\n",
       "      <td>2020-09</td>\n",
       "      <td>199991.59</td>\n",
       "      <td>101372.750412</td>\n",
       "      <td>98618.839588</td>\n",
       "      <td>0.493115</td>\n",
       "      <td>8069.0</td>\n",
       "      <td>11.0</td>\n",
       "      <td>8058</td>\n",
       "      <td>0.976167</td>\n",
       "    </tr>\n",
       "    <tr>\n",
       "      <th>2020-10</th>\n",
       "      <td>2020-10</td>\n",
       "      <td>209732.38</td>\n",
       "      <td>110164.192386</td>\n",
       "      <td>99568.187614</td>\n",
       "      <td>0.474739</td>\n",
       "      <td>8410.0</td>\n",
       "      <td>0.0</td>\n",
       "      <td>8410</td>\n",
       "      <td>0.974733</td>\n",
       "    </tr>\n",
       "    <tr>\n",
       "      <th>2020-11</th>\n",
       "      <td>2020-11</td>\n",
       "      <td>205388.61</td>\n",
       "      <td>106922.431606</td>\n",
       "      <td>98466.178394</td>\n",
       "      <td>0.479414</td>\n",
       "      <td>8460.0</td>\n",
       "      <td>39.0</td>\n",
       "      <td>8421</td>\n",
       "      <td>0.938124</td>\n",
       "    </tr>\n",
       "    <tr>\n",
       "      <th>2020-12</th>\n",
       "      <td>2020-12</td>\n",
       "      <td>198751.67</td>\n",
       "      <td>105725.505289</td>\n",
       "      <td>93026.164711</td>\n",
       "      <td>0.468052</td>\n",
       "      <td>8140.0</td>\n",
       "      <td>28.0</td>\n",
       "      <td>8112</td>\n",
       "      <td>0.978718</td>\n",
       "    </tr>\n",
       "    <tr>\n",
       "      <th>2021-01</th>\n",
       "      <td>2021-01</td>\n",
       "      <td>201801.59</td>\n",
       "      <td>108881.470711</td>\n",
       "      <td>92920.119289</td>\n",
       "      <td>0.460453</td>\n",
       "      <td>8202.0</td>\n",
       "      <td>0.0</td>\n",
       "      <td>8202</td>\n",
       "      <td>0.982628</td>\n",
       "    </tr>\n",
       "    <tr>\n",
       "      <th>2021-02</th>\n",
       "      <td>2021-02</td>\n",
       "      <td>200682.80</td>\n",
       "      <td>109480.611111</td>\n",
       "      <td>91202.188889</td>\n",
       "      <td>0.454459</td>\n",
       "      <td>7773.0</td>\n",
       "      <td>26.0</td>\n",
       "      <td>7747</td>\n",
       "      <td>0.985921</td>\n",
       "    </tr>\n",
       "    <tr>\n",
       "      <th>2021-03</th>\n",
       "      <td>2021-03</td>\n",
       "      <td>266495.90</td>\n",
       "      <td>122907.253410</td>\n",
       "      <td>143588.646590</td>\n",
       "      <td>0.538802</td>\n",
       "      <td>9271.0</td>\n",
       "      <td>39.0</td>\n",
       "      <td>9232</td>\n",
       "      <td>0.982097</td>\n",
       "    </tr>\n",
       "    <tr>\n",
       "      <th>2021-04</th>\n",
       "      <td>2021-04</td>\n",
       "      <td>290943.79</td>\n",
       "      <td>128842.565933</td>\n",
       "      <td>162101.224067</td>\n",
       "      <td>0.557157</td>\n",
       "      <td>10340.0</td>\n",
       "      <td>37.0</td>\n",
       "      <td>10303</td>\n",
       "      <td>0.981677</td>\n",
       "    </tr>\n",
       "    <tr>\n",
       "      <th>2021-05</th>\n",
       "      <td>2021-05</td>\n",
       "      <td>312301.35</td>\n",
       "      <td>137298.896067</td>\n",
       "      <td>175002.453933</td>\n",
       "      <td>0.560364</td>\n",
       "      <td>10677.0</td>\n",
       "      <td>3.0</td>\n",
       "      <td>10674</td>\n",
       "      <td>0.951774</td>\n",
       "    </tr>\n",
       "    <tr>\n",
       "      <th>2021-06</th>\n",
       "      <td>2021-06</td>\n",
       "      <td>293386.00</td>\n",
       "      <td>132342.008200</td>\n",
       "      <td>161043.991800</td>\n",
       "      <td>0.548915</td>\n",
       "      <td>10398.0</td>\n",
       "      <td>166.0</td>\n",
       "      <td>10232</td>\n",
       "      <td>0.946822</td>\n",
       "    </tr>\n",
       "    <tr>\n",
       "      <th>2021-07</th>\n",
       "      <td>2021-07</td>\n",
       "      <td>301426.55</td>\n",
       "      <td>132272.397811</td>\n",
       "      <td>169154.152189</td>\n",
       "      <td>0.561179</td>\n",
       "      <td>10661.0</td>\n",
       "      <td>20.0</td>\n",
       "      <td>10641</td>\n",
       "      <td>0.918181</td>\n",
       "    </tr>\n",
       "    <tr>\n",
       "      <th>2021-08</th>\n",
       "      <td>2021-08</td>\n",
       "      <td>298236.56</td>\n",
       "      <td>131779.014794</td>\n",
       "      <td>166457.545206</td>\n",
       "      <td>0.558139</td>\n",
       "      <td>11071.0</td>\n",
       "      <td>0.0</td>\n",
       "      <td>11071</td>\n",
       "      <td>0.929399</td>\n",
       "    </tr>\n",
       "    <tr>\n",
       "      <th>2021-09</th>\n",
       "      <td>2021-09</td>\n",
       "      <td>305222.13</td>\n",
       "      <td>133388.629097</td>\n",
       "      <td>171833.500903</td>\n",
       "      <td>0.562979</td>\n",
       "      <td>10825.0</td>\n",
       "      <td>22.0</td>\n",
       "      <td>10803</td>\n",
       "      <td>0.993575</td>\n",
       "    </tr>\n",
       "    <tr>\n",
       "      <th>2021-10</th>\n",
       "      <td>2021-10</td>\n",
       "      <td>332213.91</td>\n",
       "      <td>139610.008543</td>\n",
       "      <td>192603.901457</td>\n",
       "      <td>0.579759</td>\n",
       "      <td>11342.0</td>\n",
       "      <td>109.0</td>\n",
       "      <td>11233</td>\n",
       "      <td>0.982246</td>\n",
       "    </tr>\n",
       "    <tr>\n",
       "      <th>2021-11</th>\n",
       "      <td>2021-11</td>\n",
       "      <td>285170.42</td>\n",
       "      <td>130341.052403</td>\n",
       "      <td>154829.367597</td>\n",
       "      <td>0.542936</td>\n",
       "      <td>10005.0</td>\n",
       "      <td>92.0</td>\n",
       "      <td>9913</td>\n",
       "      <td>0.985229</td>\n",
       "    </tr>\n",
       "    <tr>\n",
       "      <th>2021-12</th>\n",
       "      <td>2021-12</td>\n",
       "      <td>320270.94</td>\n",
       "      <td>147676.989822</td>\n",
       "      <td>172593.950178</td>\n",
       "      <td>0.538900</td>\n",
       "      <td>11378.0</td>\n",
       "      <td>1766.0</td>\n",
       "      <td>9612</td>\n",
       "      <td>0.969165</td>\n",
       "    </tr>\n",
       "    <tr>\n",
       "      <th>2022-01</th>\n",
       "      <td>2022-01</td>\n",
       "      <td>216125.42</td>\n",
       "      <td>97436.034905</td>\n",
       "      <td>118689.385095</td>\n",
       "      <td>0.549169</td>\n",
       "      <td>7156.0</td>\n",
       "      <td>1721.0</td>\n",
       "      <td>5435</td>\n",
       "      <td>0.945560</td>\n",
       "    </tr>\n",
       "  </tbody>\n",
       "</table>\n",
       "</div>"
      ],
      "text/plain": [
       "            date    revenue           cogs       margin_$  margin_%  \\\n",
       "date                                                                  \n",
       "2020-01  2020-01   19604.36   11673.820401    7930.539599  0.404529   \n",
       "2020-02  2020-02   89270.77   47377.240076   41893.529924  0.469286   \n",
       "2020-03  2020-03  168489.95   86926.783796   81563.166204  0.484083   \n",
       "2020-04  2020-04  151237.68   85866.246408   65371.433592  0.432243   \n",
       "2020-05  2020-05  182498.47   91623.286387   90875.183613  0.497950   \n",
       "2020-06  2020-06  188586.83   97423.355644   91163.474356  0.483403   \n",
       "2020-07  2020-07  203898.82  105382.630240   98516.189760  0.483162   \n",
       "2020-08  2020-08  204958.60  104596.717341  100361.882659  0.489669   \n",
       "2020-09  2020-09  199991.59  101372.750412   98618.839588  0.493115   \n",
       "2020-10  2020-10  209732.38  110164.192386   99568.187614  0.474739   \n",
       "2020-11  2020-11  205388.61  106922.431606   98466.178394  0.479414   \n",
       "2020-12  2020-12  198751.67  105725.505289   93026.164711  0.468052   \n",
       "2021-01  2021-01  201801.59  108881.470711   92920.119289  0.460453   \n",
       "2021-02  2021-02  200682.80  109480.611111   91202.188889  0.454459   \n",
       "2021-03  2021-03  266495.90  122907.253410  143588.646590  0.538802   \n",
       "2021-04  2021-04  290943.79  128842.565933  162101.224067  0.557157   \n",
       "2021-05  2021-05  312301.35  137298.896067  175002.453933  0.560364   \n",
       "2021-06  2021-06  293386.00  132342.008200  161043.991800  0.548915   \n",
       "2021-07  2021-07  301426.55  132272.397811  169154.152189  0.561179   \n",
       "2021-08  2021-08  298236.56  131779.014794  166457.545206  0.558139   \n",
       "2021-09  2021-09  305222.13  133388.629097  171833.500903  0.562979   \n",
       "2021-10  2021-10  332213.91  139610.008543  192603.901457  0.579759   \n",
       "2021-11  2021-11  285170.42  130341.052403  154829.367597  0.542936   \n",
       "2021-12  2021-12  320270.94  147676.989822  172593.950178  0.538900   \n",
       "2022-01  2022-01  216125.42   97436.034905  118689.385095  0.549169   \n",
       "\n",
       "         total_count_incoming  product_count  count_incoming  coverage  \n",
       "date                                                                    \n",
       "2020-01                1080.0           22.0            1058  0.936687  \n",
       "2020-02                4500.0          253.0            4247  0.927644  \n",
       "2020-03                7224.0          240.0            6984  0.938182  \n",
       "2020-04                6638.0           77.0            6561  0.972601  \n",
       "2020-05                7484.0           37.0            7447  0.944353  \n",
       "2020-06                7765.0          115.0            7650  0.945107  \n",
       "2020-07                8517.0           60.0            8457  0.959014  \n",
       "2020-08                8543.0          119.0            8424  0.974005  \n",
       "2020-09                8069.0           11.0            8058  0.976167  \n",
       "2020-10                8410.0            0.0            8410  0.974733  \n",
       "2020-11                8460.0           39.0            8421  0.938124  \n",
       "2020-12                8140.0           28.0            8112  0.978718  \n",
       "2021-01                8202.0            0.0            8202  0.982628  \n",
       "2021-02                7773.0           26.0            7747  0.985921  \n",
       "2021-03                9271.0           39.0            9232  0.982097  \n",
       "2021-04               10340.0           37.0           10303  0.981677  \n",
       "2021-05               10677.0            3.0           10674  0.951774  \n",
       "2021-06               10398.0          166.0           10232  0.946822  \n",
       "2021-07               10661.0           20.0           10641  0.918181  \n",
       "2021-08               11071.0            0.0           11071  0.929399  \n",
       "2021-09               10825.0           22.0           10803  0.993575  \n",
       "2021-10               11342.0          109.0           11233  0.982246  \n",
       "2021-11               10005.0           92.0            9913  0.985229  \n",
       "2021-12               11378.0         1766.0            9612  0.969165  \n",
       "2022-01                7156.0         1721.0            5435  0.945560  "
      ]
     },
     "execution_count": 101,
     "metadata": {},
     "output_type": "execute_result"
    }
   ],
   "source": [
    "df_summary_simp"
   ]
  },
  {
   "cell_type": "code",
   "execution_count": 103,
   "id": "9eb4bbd2",
   "metadata": {},
   "outputs": [],
   "source": [
    "df_summary_simp.to_csv('csc_2021_12.csv')"
   ]
  },
  {
   "cell_type": "markdown",
   "id": "ea9141f1",
   "metadata": {},
   "source": [
    "## Monthly "
   ]
  },
  {
   "cell_type": "code",
   "execution_count": 78,
   "id": "67dfdc09",
   "metadata": {},
   "outputs": [
    {
     "data": {
      "image/png": "[encoded data removed]",
      "text/plain": [
       "<Figure size 1080x432 with 2 Axes>"
      ]
     },
     "metadata": {
      "needs_background": "light"
     },
     "output_type": "display_data"
    }
   ],
   "source": [
    "#create subplot figure with having two side by side plots\n",
    "fig, axes = plt.subplots(nrows=1,ncols=2,figsize=(15,6))\n",
    "# plot first pandas frame in subplot style\n",
    "df_summary_simp['cogs'].plot(ax = axes[0],subplots=True,marker = 'o',style='r-') \n",
    "df_summary_simp['revenue'].plot(ax = axes[0],subplots=True,marker = 'o',style='g-',) \n",
    "axes[0].set_title(\"Revenue & COGS\")\n",
    "axes[0].legend()\n",
    "# plot second pandas frame in subplot style\n",
    "df_summary_simp['margin_%'].plot(ax = axes[1],subplots=True,marker = 'o',style='b-')\n",
    "rolling_4m_margin['rolling_4m_margin_%'].plot(ax = axes[1],subplots=True,style='--')\n",
    "axes[1].legend()\n",
    "axes[1] = plt.title('Monthly Margin %')"
   ]
  },
  {
   "cell_type": "markdown",
   "id": "9554b9ed",
   "metadata": {},
   "source": [
    "## Monthly overlay"
   ]
  },
  {
   "cell_type": "code",
   "execution_count": 79,
   "id": "f067551f",
   "metadata": {},
   "outputs": [],
   "source": [
    "df_summary_simp_2021 = df_summary_simp[(df_summary_simp['date'] >= '2021-01')&(df_summary_simp['date'] <= '2021-12')]\n",
    "df_summary_simp_2020 = df_summary_simp[(df_summary_simp['date'] >= '2020-01')&(df_summary_simp['date'] <= '2020-12')]\n",
    "df_summary_simp_2022 = df_summary_simp[(df_summary_simp['date'] >= '2022-01')&(df_summary_simp['date'] <= '2022-12')]"
   ]
  },
  {
   "cell_type": "code",
   "execution_count": 80,
   "id": "4438f219",
   "metadata": {},
   "outputs": [],
   "source": [
    "df_summary_simp_2020['month'] = pd.to_datetime(df_summary_simp_2020['date']).dt.strftime(\"%m\")\n",
    "df_summary_simp_2021['month'] = pd.to_datetime(df_summary_simp_2021['date']).dt.strftime(\"%m\")\n",
    "df_summary_simp_2022['month'] = pd.to_datetime(df_summary_simp_2022['date']).dt.strftime(\"%m\")"
   ]
  },
  {
   "cell_type": "code",
   "execution_count": 81,
   "id": "71248ef4",
   "metadata": {},
   "outputs": [],
   "source": [
    "df_summary_simp_2020.reset_index(drop=True, inplace=True)\n",
    "df_summary_simp_2021.reset_index(drop=True, inplace=True)\n",
    "df_summary_simp_2022.reset_index(drop=True, inplace=True)"
   ]
  },
  {
   "cell_type": "code",
   "execution_count": 82,
   "id": "3a55919b",
   "metadata": {},
   "outputs": [],
   "source": [
    "df_summary_simp_overlay_temp = df_summary_simp_2021.merge(df_summary_simp_2020,on = 'month',how = 'left',suffixes=['_2021','_2020'])\n",
    "#df.index = df.month"
   ]
  },
  {
   "cell_type": "code",
   "execution_count": 83,
   "id": "dd9fd4fe",
   "metadata": {},
   "outputs": [],
   "source": [
    "df_summary_simp_overlay = df_summary_simp_overlay_temp.merge(df_summary_simp_2022,on = 'month',how = 'left',suffixes=['_2021','_2020','_2022'])"
   ]
  },
  {
   "cell_type": "code",
   "execution_count": 84,
   "id": "c6029bb8",
   "metadata": {},
   "outputs": [
    {
     "data": {
      "image/png": "[encoded data removed]",
      "text/plain": [
       "<Figure size 864x720 with 3 Axes>"
      ]
     },
     "metadata": {
      "needs_background": "light"
     },
     "output_type": "display_data"
    }
   ],
   "source": [
    "#create subplot figure with having two side by side plots\n",
    "fig, axes = plt.subplots(nrows=3,ncols=1,figsize=(12,10))\n",
    "# plot first pandas frame in subplot style\n",
    "df_summary_simp_overlay['cogs_2020'].plot(ax = axes[0],subplots=True,marker = 'o',style='r-') \n",
    "df_summary_simp_overlay['cogs_2021'].plot(ax = axes[0],subplots=True,marker = 'o',style='g-')\n",
    "df_summary_simp_overlay['cogs'].plot(ax = axes[0],subplots=True,marker = 'o',style='b-')\n",
    "\n",
    "axes[0].set_title(\"COGS\")\n",
    "axes[0].legend(bbox_to_anchor = (1.05, 0.6))\n",
    "df_summary_simp_overlay['revenue_2020'].plot(ax = axes[1],subplots=True,marker = 'o',style='r-',) \n",
    "df_summary_simp_overlay['revenue_2021'].plot(ax = axes[1],subplots=True,marker = 'o',style='g-',) \n",
    "df_summary_simp_overlay['revenue'].plot(ax = axes[1],subplots=True,marker = 'o',style='b-')\n",
    "axes[1].set_title(\"Revenue\")\n",
    "axes[1].legend(bbox_to_anchor = (1.25, 0.6))\n",
    "df_summary_simp_overlay['margin_%_2020'].plot(ax = axes[2],subplots=True,marker = 'o',style='r-',) \n",
    "df_summary_simp_overlay['margin_%_2021'].plot(ax = axes[2],subplots=True,marker = 'o',style='g-',) \n",
    "df_summary_simp_overlay['margin_%'].plot(ax = axes[2],subplots=True,marker = 'o',style='b-')\n",
    "axes[2].set_title(\"% Margin\")\n",
    "ax = axes[2].legend(bbox_to_anchor = (1.05, 0.6))"
   ]
  },
  {
   "cell_type": "code",
   "execution_count": null,
   "id": "1210022e",
   "metadata": {},
   "outputs": [],
   "source": [
    "## Monthly since 2021"
   ]
  },
  {
   "cell_type": "code",
   "execution_count": null,
   "id": "ffbb6896",
   "metadata": {},
   "outputs": [],
   "source": [
    "#df_summary_simp_2021.index = df_summary_simp_2021.date"
   ]
  },
  {
   "cell_type": "code",
   "execution_count": null,
   "id": "b1abe92c",
   "metadata": {},
   "outputs": [],
   "source": [
    "#create subplot figure with having two side by side plots\n",
    "#fig, axes = plt.subplots(nrows=1,ncols=2,figsize=(15,6))\n",
    "# plot first pandas frame in subplot style\n",
    "#df_summary_simp_2021['cogs'].plot(ax = axes[0],subplots=True,marker = 'o',style='r-') \n",
    "#df_summary_simp_2021['revenue'].plot(ax = axes[0],subplots=True,marker = 'o',style='g-',) \n",
    "#axes[0].set_title(\"Revenue & COGS\")\n",
    "#axes[0].legend()\n",
    "# plot second pandas frame in subplot style\n",
    "#df_summary_simp_2021['margin_%'].plot(ax = axes[1],subplots=True,marker = 'o',style='b-')\n",
    "#axes[1].legend()\n",
    "#axes[1] = plt.title('Monthly Margin %')"
   ]
  },
  {
   "cell_type": "code",
   "execution_count": null,
   "id": "39de50d1",
   "metadata": {},
   "outputs": [],
   "source": [
    "#df_summary_simp_2021"
   ]
  },
  {
   "cell_type": "code",
   "execution_count": null,
   "id": "83b570f9",
   "metadata": {},
   "outputs": [],
   "source": [
    "#df_summary_simp.to_csv('./dw_monthly.csv')"
   ]
  },
  {
   "cell_type": "markdown",
   "id": "fe859d59",
   "metadata": {},
   "source": [
    "## Weekly"
   ]
  },
  {
   "cell_type": "code",
   "execution_count": 85,
   "id": "dadd5506",
   "metadata": {},
   "outputs": [],
   "source": [
    "df_summary_simp_weekly,df_cogs_average_product_weekly = cogs_analysis(df_in,df_out,df_inventory,df_sales,'weekly')\n",
    "df_summary_simp_weekly.index = df_summary_simp_weekly.date\n"
   ]
  },
  {
   "cell_type": "code",
   "execution_count": 86,
   "id": "7f9a5945",
   "metadata": {},
   "outputs": [],
   "source": [
    "# rolling\n",
    "rolling_4w_margin = df_summary_simp_weekly[['margin_%']].rolling(4).mean().reset_index()\n",
    "rolling_4w_margin.columns = ['date','rolling_4w_margin_%']\n",
    "rolling_4w_margin.index = rolling_4w_margin.date"
   ]
  },
  {
   "cell_type": "code",
   "execution_count": 87,
   "id": "da6e80cf",
   "metadata": {},
   "outputs": [
    {
     "data": {
      "image/png": "[encoded data removed]",
      "text/plain": [
       "<Figure size 1080x432 with 2 Axes>"
      ]
     },
     "metadata": {
      "needs_background": "light"
     },
     "output_type": "display_data"
    }
   ],
   "source": [
    "#create subplot figure with having two side by side plots\n",
    "fig, axes = plt.subplots(nrows=1,ncols=2,figsize=(15,6))\n",
    "# plot first pandas frame in subplot style\n",
    "df_summary_simp_weekly['cogs'].plot(ax = axes[0],subplots=True,marker = 'o',style='r-') \n",
    "df_summary_simp_weekly['revenue'].plot(ax = axes[0],subplots=True,marker = 'o',style='g-',) \n",
    "axes[0].set_title(\"Revenue & COGS\")\n",
    "axes[0].legend()\n",
    "# plot second pandas frame in subplot style\n",
    "df_summary_simp_weekly['margin_%'].plot(ax = axes[1],subplots=True,marker = 'o',style='b-')\n",
    "rolling_4w_margin['rolling_4w_margin_%'].plot(ax = axes[1],subplots=True,style='--')\n",
    "axes[1].legend()\n",
    "axes[1] = plt.title('Weekly Margin %')"
   ]
  },
  {
   "cell_type": "code",
   "execution_count": null,
   "id": "6cb86143",
   "metadata": {},
   "outputs": [],
   "source": [
    "#df_summary_simp_weekly_2021 = df_summary_simp_weekly[df_summary_simp_weekly['date'] >= '2021-01']"
   ]
  },
  {
   "cell_type": "code",
   "execution_count": null,
   "id": "3fda2e02",
   "metadata": {},
   "outputs": [],
   "source": [
    "## Weekly since 2021"
   ]
  },
  {
   "cell_type": "code",
   "execution_count": null,
   "id": "3e2caed5",
   "metadata": {},
   "outputs": [],
   "source": [
    "#create subplot figure with having two side by side plots\n",
    "#fig, axes = plt.subplots(nrows=1,ncols=2,figsize=(15,6))\n",
    "# plot first pandas frame in subplot style\n",
    "#df_summary_simp_weekly_2021['cogs'].plot(ax = axes[0],subplots=True,marker = 'o',style='r-') \n",
    "#df_summary_simp_weekly_2021['revenue'].plot(ax = axes[0],subplots=True,marker = 'o',style='g-',) \n",
    "#axes[0].set_title(\"Revenue & COGS\")\n",
    "#axes[0].legend()\n",
    "# plot second pandas frame in subplot style\n",
    "#df_summary_simp_weekly_2021['margin_%'].plot(ax = axes[1],subplots=True,marker = 'o',style='b-')\n",
    "#axes[1] = plt.title('Weekly Margin %')"
   ]
  },
  {
   "cell_type": "markdown",
   "id": "8b97f2e3",
   "metadata": {},
   "source": [
    "## Recent weeks in 2022"
   ]
  },
  {
   "cell_type": "code",
   "execution_count": 88,
   "id": "6e725868",
   "metadata": {},
   "outputs": [
    {
     "data": {
      "text/html": [
       "<div>\n",
       "<style scoped>\n",
       "    .dataframe tbody tr th:only-of-type {\n",
       "        vertical-align: middle;\n",
       "    }\n",
       "\n",
       "    .dataframe tbody tr th {\n",
       "        vertical-align: top;\n",
       "    }\n",
       "\n",
       "    .dataframe thead th {\n",
       "        text-align: right;\n",
       "    }\n",
       "</style>\n",
       "<table border=\"1\" class=\"dataframe\">\n",
       "  <thead>\n",
       "    <tr style=\"text-align: right;\">\n",
       "      <th></th>\n",
       "      <th>date</th>\n",
       "      <th>revenue</th>\n",
       "      <th>cogs</th>\n",
       "      <th>margin_%</th>\n",
       "      <th>coverage</th>\n",
       "    </tr>\n",
       "    <tr>\n",
       "      <th>date</th>\n",
       "      <th></th>\n",
       "      <th></th>\n",
       "      <th></th>\n",
       "      <th></th>\n",
       "      <th></th>\n",
       "    </tr>\n",
       "  </thead>\n",
       "  <tbody>\n",
       "    <tr>\n",
       "      <th>2022-01</th>\n",
       "      <td>2022-01</td>\n",
       "      <td>84826.66</td>\n",
       "      <td>36772.614218</td>\n",
       "      <td>0.566497</td>\n",
       "      <td>0.946162</td>\n",
       "    </tr>\n",
       "    <tr>\n",
       "      <th>2022-02</th>\n",
       "      <td>2022-02</td>\n",
       "      <td>100389.55</td>\n",
       "      <td>45746.678056</td>\n",
       "      <td>0.544308</td>\n",
       "      <td>0.942775</td>\n",
       "    </tr>\n",
       "    <tr>\n",
       "      <th>2022-03</th>\n",
       "      <td>2022-03</td>\n",
       "      <td>11013.41</td>\n",
       "      <td>4370.015594</td>\n",
       "      <td>0.603210</td>\n",
       "      <td>0.919799</td>\n",
       "    </tr>\n",
       "  </tbody>\n",
       "</table>\n",
       "</div>"
      ],
      "text/plain": [
       "            date    revenue          cogs  margin_%  coverage\n",
       "date                                                         \n",
       "2022-01  2022-01   84826.66  36772.614218  0.566497  0.946162\n",
       "2022-02  2022-02  100389.55  45746.678056  0.544308  0.942775\n",
       "2022-03  2022-03   11013.41   4370.015594  0.603210  0.919799"
      ]
     },
     "execution_count": 88,
     "metadata": {},
     "output_type": "execute_result"
    }
   ],
   "source": [
    "df_summary_simp_weekly[df_summary_simp_weekly['date'] >= '2022-01'][['date','revenue','cogs','margin_%','coverage']]"
   ]
  },
  {
   "cell_type": "code",
   "execution_count": 89,
   "id": "0d65cf34",
   "metadata": {},
   "outputs": [
    {
     "data": {
      "text/html": [
       "<div>\n",
       "<style scoped>\n",
       "    .dataframe tbody tr th:only-of-type {\n",
       "        vertical-align: middle;\n",
       "    }\n",
       "\n",
       "    .dataframe tbody tr th {\n",
       "        vertical-align: top;\n",
       "    }\n",
       "\n",
       "    .dataframe thead th {\n",
       "        text-align: right;\n",
       "    }\n",
       "</style>\n",
       "<table border=\"1\" class=\"dataframe\">\n",
       "  <thead>\n",
       "    <tr style=\"text-align: right;\">\n",
       "      <th></th>\n",
       "      <th>date</th>\n",
       "      <th>rolling_4w_margin_%</th>\n",
       "    </tr>\n",
       "    <tr>\n",
       "      <th>date</th>\n",
       "      <th></th>\n",
       "      <th></th>\n",
       "    </tr>\n",
       "  </thead>\n",
       "  <tbody>\n",
       "    <tr>\n",
       "      <th>2022-01</th>\n",
       "      <td>2022-01</td>\n",
       "      <td>0.558810</td>\n",
       "    </tr>\n",
       "    <tr>\n",
       "      <th>2022-02</th>\n",
       "      <td>2022-02</td>\n",
       "      <td>0.559542</td>\n",
       "    </tr>\n",
       "    <tr>\n",
       "      <th>2022-03</th>\n",
       "      <td>2022-03</td>\n",
       "      <td>0.570348</td>\n",
       "    </tr>\n",
       "  </tbody>\n",
       "</table>\n",
       "</div>"
      ],
      "text/plain": [
       "            date  rolling_4w_margin_%\n",
       "date                                 \n",
       "2022-01  2022-01             0.558810\n",
       "2022-02  2022-02             0.559542\n",
       "2022-03  2022-03             0.570348"
      ]
     },
     "execution_count": 89,
     "metadata": {},
     "output_type": "execute_result"
    }
   ],
   "source": [
    "rolling_4w_margin[rolling_4w_margin['date'] >= '2022-01']"
   ]
  },
  {
   "cell_type": "markdown",
   "id": "8055302c",
   "metadata": {},
   "source": [
    "# Items sold at discount (sales price < cost)"
   ]
  },
  {
   "cell_type": "code",
   "execution_count": 90,
   "id": "1aef3b00",
   "metadata": {},
   "outputs": [],
   "source": [
    "def calculate_discount(df_sales_with_incoming_filled:pd.DataFrame) -> pd.DataFrame:\n",
    "    # receipt count\n",
    "    total_receipt_count = df_sales_with_incoming_filled.groupby(['date']).apply(lambda x: len(x['receipt_number'].unique()))\n",
    "    discounted = df_sales_with_incoming_filled[(df_sales_with_incoming_filled['per_unit_incoming'] > df_sales_with_incoming_filled['per_unit'])|(df_sales_with_incoming_filled['per_unit_product'] > df_sales_with_incoming_filled['per_unit'])]\n",
    "    total_discounted_receipt_count = discounted[['date','receipt_number']].groupby(['date']).apply(lambda x: len(x['receipt_number'].unique()))\n",
    "    discount_rate = total_discounted_receipt_count / total_receipt_count\n",
    "    discount_rate_df = pd.DataFrame([total_receipt_count,total_discounted_receipt_count,discount_rate]).T.reset_index()\n",
    "    discount_rate_df.columns = ['date','total_receipt_count','total_discounted_receipts_count','discount_rate']\n",
    "\n",
    "    # dollar amount\n",
    "    total_receipt_amount = df_sales_with_incoming_filled[['date','tx_total_price']].groupby(['date']).sum().reset_index()\n",
    "    total_receipt_amount.columns = ['date','total_receipt_amount']\n",
    "    total_discounted_receipt_amount = discounted[['date','tx_total_price']].groupby(['date']).sum().reset_index()\n",
    "    total_discounted_receipt_amount.columns = ['date','total_discounted_receipt_amount']\n",
    "    discount_rate_dollar_df = total_receipt_amount.merge(total_discounted_receipt_amount,on = 'date',how = 'left')\n",
    "    discount_rate_dollar_df['discount_rate_dollar'] = discount_rate_dollar_df['total_discounted_receipt_amount'] / discount_rate_dollar_df['total_receipt_amount']\n",
    "    discount_df = discount_rate_df.merge(discount_rate_dollar_df, on = 'date',how = 'left')\n",
    "    discount_df.index = discount_df.date\n",
    "    return discount_df\n",
    "                                                                                                                                           \n",
    "                                                                                                                                           \n",
    "                                                                                                                                           "
   ]
  },
  {
   "cell_type": "code",
   "execution_count": 91,
   "id": "0c398f0d",
   "metadata": {},
   "outputs": [],
   "source": [
    "discount_rate_monthly = calculate_discount(df_cogs_average_product)\n",
    "discount_rate_weekly = calculate_discount(df_cogs_average_product_weekly)"
   ]
  },
  {
   "cell_type": "code",
   "execution_count": 92,
   "id": "a0554501",
   "metadata": {},
   "outputs": [
    {
     "data": {
      "image/png": "[encoded data removed]",
      "text/plain": [
       "<Figure size 864x576 with 1 Axes>"
      ]
     },
     "metadata": {
      "needs_background": "light"
     },
     "output_type": "display_data"
    }
   ],
   "source": [
    "ax = discount_rate_monthly[['discount_rate','discount_rate_dollar']].fillna(0).plot(marker = 'o',figsize = (12,8))\n",
    "vals = ax.get_yticks()\n",
    "ax.set_yticklabels(['{:,.2%}'.format(x) for x in vals])\n",
    "ax = plt.title('Monthly Discount Rate')"
   ]
  },
  {
   "cell_type": "code",
   "execution_count": 93,
   "id": "443f718a",
   "metadata": {},
   "outputs": [
    {
     "data": {
      "image/png": "[encoded data removed]",
      "text/plain": [
       "<Figure size 864x576 with 1 Axes>"
      ]
     },
     "metadata": {
      "needs_background": "light"
     },
     "output_type": "display_data"
    }
   ],
   "source": [
    "ax = discount_rate_weekly[discount_rate_weekly['date'] >= '2021-01'].fillna(0)[['discount_rate','discount_rate_dollar']].plot(marker = 'o',figsize = (12,8))\n",
    "vals = ax.get_yticks()\n",
    "ax.set_yticklabels(['{:,.2%}'.format(x) for x in vals])\n",
    "ax = plt.title('Weekly Discount Rate')"
   ]
  },
  {
   "cell_type": "markdown",
   "id": "e9a93d2a",
   "metadata": {},
   "source": [
    "# Items refunded (transaction total < 0)"
   ]
  },
  {
   "cell_type": "code",
   "execution_count": 94,
   "id": "2dfe18da",
   "metadata": {},
   "outputs": [],
   "source": [
    "def calculate_refund(df_sales_with_incoming_filled:pd.DataFrame) -> pd.DataFrame:\n",
    "    #total receipt count\n",
    "    count_receipt = df_sales_with_incoming_filled[['date','receipt_number']].groupby(['date']).apply(lambda x: len(x['receipt_number'].unique()))\n",
    "    refunded = df_sales_with_incoming_filled[df_sales_with_incoming_filled['tx_total_price'] < 0]\n",
    "    count_refund_receipt = refunded[['date','receipt_number']].groupby(['date']).apply(lambda x: len(x['receipt_number'].unique()))\n",
    "    refund_rate = count_refund_receipt / count_receipt\n",
    "    refund_rate_df = pd.DataFrame([count_receipt,count_refund_receipt,refund_rate]).T.reset_index()\n",
    "    refund_rate_df.columns = ['date','total_receipt_count','total_refunded_receipts_count','refund_rate']\n",
    "    \n",
    "    # dollar amount\n",
    "    total_receipt_amount = df_sales_with_incoming_filled[['date','tx_total_price']].groupby(['date']).sum().reset_index()\n",
    "    total_receipt_amount.columns = ['date','total_receipt_amount']\n",
    "    total_refunded_receipt_amount = refunded[['date','tx_total_price']].groupby(['date']).sum().reset_index()\n",
    "    total_refunded_receipt_amount.columns = ['date','total_refunded_receipt_amount']\n",
    "    refund_rate_dollar_df = total_receipt_amount.merge(total_refunded_receipt_amount,on = 'date',how = 'left')\n",
    "    refund_rate_dollar_df['refund_rate_dollar'] = refund_rate_dollar_df['total_refunded_receipt_amount'] * -1.00 / refund_rate_dollar_df['total_receipt_amount']\n",
    "    refund_df = refund_rate_df.merge(refund_rate_dollar_df, on = 'date',how = 'left')\n",
    "    refund_df.index = refund_df.date\n",
    "    return refund_df\n"
   ]
  },
  {
   "cell_type": "code",
   "execution_count": 95,
   "id": "de25e5e4",
   "metadata": {},
   "outputs": [],
   "source": [
    "refund_rate_monthly = calculate_refund(df_cogs_average_product)\n",
    "refund_rate_weekly = calculate_refund(df_cogs_average_product_weekly)"
   ]
  },
  {
   "cell_type": "code",
   "execution_count": 96,
   "id": "99ec75b0",
   "metadata": {},
   "outputs": [
    {
     "data": {
      "image/png": "[encoded data removed]",
      "text/plain": [
       "<Figure size 864x576 with 1 Axes>"
      ]
     },
     "metadata": {
      "needs_background": "light"
     },
     "output_type": "display_data"
    }
   ],
   "source": [
    "ax = refund_rate_monthly[['refund_rate','refund_rate_dollar']].fillna(0).plot(marker = 'o',figsize = (12,8))\n",
    "vals = ax.get_yticks()\n",
    "ax.set_yticklabels(['{:,.2%}'.format(x) for x in vals])\n",
    "ax = plt.title('Monthly Refund Rate')"
   ]
  },
  {
   "cell_type": "code",
   "execution_count": 97,
   "id": "da69e165",
   "metadata": {},
   "outputs": [
    {
     "data": {
      "image/png": "[encoded data removed]",
      "text/plain": [
       "<Figure size 864x576 with 1 Axes>"
      ]
     },
     "metadata": {
      "needs_background": "light"
     },
     "output_type": "display_data"
    }
   ],
   "source": [
    "ax = refund_rate_weekly[['refund_rate','refund_rate_dollar']].fillna(0).plot(marker = 'o',figsize = (12,8))\n",
    "vals = ax.get_yticks()\n",
    "ax.set_yticklabels(['{:,.2%}'.format(x) for x in vals])\n",
    "ax = plt.title('Weekly Refund Rate')"
   ]
  },
  {
   "cell_type": "markdown",
   "id": "2e230198",
   "metadata": {},
   "source": [
    "# COGS analysis with further filldown using product category name"
   ]
  },
  {
   "cell_type": "code",
   "execution_count": null,
   "id": "5d10bd94",
   "metadata": {},
   "outputs": [],
   "source": [
    "def cogs_analysis_fill_by_product_category(df_in:pd.DataFrame,df_out:pd.DataFrame,df_inventory:pd.DataFrame,df_sales:pd.DataFrame,freq: str) -> pd.DataFrame:\n",
    "    df_sales['per_unit'] = df_sales['tx_total_price'] / df_sales['tx_quantity_sold']\n",
    "    # set frequency\n",
    "    if freq == 'monthly':\n",
    "        df_sales['date'] = df_sales['sales_datetime'].dt.strftime(\"%Y-%m\")\n",
    "\n",
    "    elif freq == 'weekly':\n",
    "        df_sales['date'] = df_sales['sales_datetime'].dt.strftime(\"%Y-%W\")\n",
    "\n",
    "    # total # trxns    \n",
    "    s_total_count = df_sales.groupby('date')['tx_total_price'].count()\n",
    "    df_total_count = pd.Series(s_total_count).to_frame()\n",
    "    df_total_count = df_total_count.reset_index()\n",
    "    df_total_count.rename(columns={'tx_total_price':'total_count'}, inplace=True)\n",
    "    # revenue\n",
    "    s_revenue = df_sales.groupby('date')['tx_total_price'].sum()\n",
    "    df_revenue = pd.Series(s_revenue).to_frame()\n",
    "    df_revenue = df_revenue.reset_index()\n",
    "    df_revenue.rename(columns={'tx_total_price': 'revenue'}, inplace=True)\n",
    "\n",
    "    df_in['per_unit_incoming'] = df_in['shipper_wholesale_price'] / df_in['shipped_quantity']\n",
    "    \n",
    "    # per unit price by package id\n",
    "    df_in_price = df_in[df_in['shipper_wholesale_price'].notnull()]\n",
    "    average_incoming_package_id = df_in_price.groupby('package_id')['per_unit_incoming'].mean()\n",
    "    df_avg_incoming_price = pd.Series(average_incoming_package_id).to_frame()\n",
    "    df_avg_incoming_price = df_avg_incoming_price.reset_index()\n",
    "    # per unit price by product name\n",
    "    average_incoming_product = df_in_price.groupby('product_name')['per_unit_incoming'].mean()\n",
    "    df_avg_product = pd.Series(average_incoming_product).to_frame()\n",
    "    df_avg_product = df_avg_product.reset_index()\n",
    "    df_avg_product.rename(columns={'per_unit_incoming':'per_unit_product'}, inplace=True)\n",
    "    # per unit price by product category name\n",
    "    average_incoming_product_category = df_in_price.groupby('product_category_name')['per_unit_incoming'].mean()\n",
    "    df_avg_product_cat = pd.Series(average_incoming_product_category).to_frame()\n",
    "    df_avg_product_cat = df_avg_product_cat.reset_index()\n",
    "    df_avg_product_cat.rename(columns={'per_unit_incoming':'per_unit_product_cat'}, inplace=True)\n",
    "    \n",
    "    # merge with (cogs by package id)\n",
    "    df_cogs_package_id = pd.merge(df_sales, df_avg_incoming_price, left_on='tx_package_id', right_on='package_id', how='left')\n",
    "    df_cogs_package_id['total_incoming'] = df_cogs_package_id['per_unit_incoming'] * df_cogs_package_id['tx_quantity_sold']\n",
    "    df_cogs_package_id.replace([numpy.inf], numpy.nan, inplace=True)\n",
    "    df_cogs_package_id_notnull = df_cogs_package_id[df_cogs_package_id['total_incoming'].notnull()]\n",
    "    # sum cogs by package id\n",
    "    s_cogs = df_cogs_package_id_notnull.groupby('date')['total_incoming'].sum()\n",
    "    df_cogs_id = pd.Series(s_cogs).to_frame()\n",
    "    df_cogs_id = df_cogs_id.reset_index()\n",
    "    # count # of trxns by package id\n",
    "    s_cogs_count = df_cogs_package_id_notnull.groupby('date')['total_incoming'].count()\n",
    "    df_cogs_count = pd.Series(s_cogs_count).to_frame()\n",
    "    df_cogs_count = df_cogs_count.reset_index()\n",
    "    df_cogs_count.rename(columns={'total_incoming':'count_incoming'}, inplace=True)\n",
    "    \n",
    "    # merge with (cogs by product name)\n",
    "    df_cogs_average_product = pd.merge(df_cogs_package_id, df_avg_product, left_on='tx_product_name', right_on='product_name', how='left')\n",
    "    df_cogs_average_product['total_product'] = df_cogs_average_product['tx_quantity_sold'] * df_cogs_average_product['per_unit_product']\n",
    "    # merge with (cogs by product category name)\n",
    "    df_cogs_average_product_cat = pd.merge(df_cogs_average_product, df_avg_product_cat, left_on='tx_product_category_name', right_on='product_category_name', how='left')\n",
    "    df_cogs_average_product_cat['total_product_cat'] = df_cogs_average_product_cat['tx_quantity_sold'] * df_cogs_average_product_cat['per_unit_product_cat']\n",
    "    df_cogs_null = df_cogs_average_product_cat[df_cogs_average_product_cat['per_unit_incoming'].isnull()]\n",
    "    df_cogs_product = df_cogs_null[(df_cogs_null['per_unit_product'].notnull())]\n",
    "    df_cogs_product_null = df_cogs_average_product_cat[(df_cogs_average_product_cat['per_unit_incoming'].isnull())&(df_cogs_average_product_cat['per_unit_product'].isnull())]\n",
    "    df_cogs_product_cat = df_cogs_product_null[df_cogs_product_null['per_unit_product_cat'].notnull()]\n",
    "    \n",
    "    # sum cogs filldown by product name\n",
    "    product_sum = df_cogs_product.groupby('date')['total_product'].sum()\n",
    "    df_product_sum = pd.Series(product_sum).to_frame()\n",
    "    df_product_sum = df_product_sum.reset_index()\n",
    "    df_product_sum.rename(columns={'total_product':'product_sum'}, inplace=True)\n",
    "    # count # of trxn filldown by product name\n",
    "    product_count = df_cogs_product.groupby('date')['total_product'].count()\n",
    "    df_product_count = pd.Series(product_count).to_frame()\n",
    "    df_product_count = df_product_count.reset_index()\n",
    "    df_product_count.rename(columns={'total_product':'product_count'}, inplace=True)\n",
    "    df_cogs_product_df = pd.merge(df_product_sum, df_product_count)\n",
    "    \n",
    "    # sum cogs filldown by product category name\n",
    "    product_cat_sum = df_cogs_product_cat.groupby('date')['total_product_cat'].sum()\n",
    "    df_product_cat_sum = pd.Series(product_cat_sum).to_frame()\n",
    "    df_product_cat_sum = df_product_cat_sum.reset_index()\n",
    "    df_product_cat_sum.rename(columns={'total_product_cat':'product_cat_sum'}, inplace=True)\n",
    "    # count # of trxn filldown by product category name\n",
    "    product_cat_count = df_cogs_product_cat.groupby('date')['total_product_cat'].count()\n",
    "    df_product_cat_count = pd.Series(product_cat_count).to_frame()\n",
    "    df_product_cat_count = df_product_cat_count.reset_index()\n",
    "    df_product_cat_count.rename(columns={'total_product_cat':'product_cat_count'}, inplace=True)\n",
    "    df_cogs_product_cat_df = pd.merge(df_product_cat_sum, df_product_cat_count)\n",
    "    \n",
    "    # prepare summary\n",
    "    df_summary = pd.merge(df_revenue, df_cogs_product_df, how='left')\n",
    "    df_summary = pd.merge(df_summary, df_cogs_product_cat_df, how='left')\n",
    "    df_summary = pd.merge(df_summary, df_cogs_id, how='left')\n",
    "    df_summary['product_sum'] = df_summary['product_sum'].fillna(0)\n",
    "    df_summary['product_count'] = df_summary['product_count'].fillna(0)\n",
    "    df_summary['product_cat_sum'] = df_summary['product_cat_sum'].fillna(0)\n",
    "    df_summary['product_cat_count'] = df_summary['product_cat_count'].fillna(0)\n",
    "    # total cogs = by product id cogs + by product name cogs + by product category name cogs\n",
    "    df_summary['cogs'] = df_summary['total_incoming'] + df_summary['product_sum'] + df_summary['product_cat_sum']\n",
    "    df_summary = pd.merge(df_summary, df_cogs_count)\n",
    "    df_summary = pd.merge(df_summary, df_total_count)\n",
    "    # total count = by package id count + by product count + by product category count\n",
    "    df_summary['total_count_incoming'] = df_summary['count_incoming'] + df_summary['product_count'] + df_summary['product_cat_count']\n",
    "    df_summary['margin_$'] = df_summary['revenue'] - df_summary['cogs']\n",
    "    df_summary['margin_%'] = df_summary['margin_$'] / df_summary['revenue']\n",
    "    df_summary['coverage'] = df_summary['total_count_incoming'] / df_summary['total_count']\n",
    "    df_summary_simp = df_summary[['date', 'revenue', 'cogs', 'margin_$', 'margin_%', 'total_count_incoming','product_count','product_cat_count','total_count','count_incoming', 'coverage']]\n",
    "    df_summary_simp.index = df_summary_simp.date\n",
    "    return df_summary_simp,df_cogs_average_product_cat\n",
    "\n",
    "\n"
   ]
  },
  {
   "cell_type": "code",
   "execution_count": null,
   "id": "3cb13278",
   "metadata": {},
   "outputs": [],
   "source": [
    "df_in = company_incoming_transfer_packages_dataframe_trim\n",
    "df_out = company_outgoing_transfer_packages_dataframe\n",
    "df_inventory = company_inventory_packages_dataframe\n",
    "df_sales = deduped_sales_receipts_with_transactions_dataframe"
   ]
  },
  {
   "cell_type": "code",
   "execution_count": null,
   "id": "bef710d3",
   "metadata": {},
   "outputs": [],
   "source": [
    "df_summary_simp_cat_monthly,df_cogs_average_product_cat_monthly = cogs_analysis_fill_by_product_category(df_in,df_out,df_inventory,df_sales,'monthly')\n",
    "df_summary_simp_cat_weekly,df_cogs_average_product_cat_weekly = cogs_analysis_fill_by_product_category(df_in,df_out,df_inventory,df_sales,'weekly')\n",
    "\n",
    "\n"
   ]
  },
  {
   "cell_type": "code",
   "execution_count": null,
   "id": "416f3c2d",
   "metadata": {},
   "outputs": [],
   "source": [
    "df_summary_simp_cat_monthly['package_id_perc'] = df_summary_simp_cat_monthly['count_incoming'] / df_summary_simp_cat_monthly['total_count_incoming']\n",
    "df_summary_simp_cat_monthly['product_perc'] = df_summary_simp_cat_monthly['product_count'] / df_summary_simp_cat_monthly['total_count_incoming']\n",
    "df_summary_simp_cat_monthly['product_cat_perc'] = df_summary_simp_cat_monthly['product_cat_count'] / df_summary_simp_cat_monthly['total_count_incoming']\n",
    "df_summary_simp_cat_monthly['total'] = (df_summary_simp_cat_monthly['product_cat_count'] + df_summary_simp_cat_monthly['count_incoming'] + df_summary_simp_cat_monthly['product_count']) / df_summary_simp_cat_monthly['total_count_incoming'] \n",
    "\n"
   ]
  },
  {
   "cell_type": "code",
   "execution_count": null,
   "id": "0cf7ec16",
   "metadata": {},
   "outputs": [],
   "source": [
    "df_summary_simp_cat_weekly['package_id_perc'] = df_summary_simp_cat_weekly['count_incoming'] / df_summary_simp_cat_weekly['total_count_incoming']\n",
    "df_summary_simp_cat_weekly['product_perc'] = df_summary_simp_cat_weekly['product_count'] / df_summary_simp_cat_weekly['total_count_incoming']\n",
    "df_summary_simp_cat_weekly['product_cat_perc'] = df_summary_simp_cat_weekly['product_cat_count'] / df_summary_simp_cat_weekly['total_count_incoming']\n",
    "df_summary_simp_cat_weekly['total'] = (df_summary_simp_cat_weekly['product_cat_count'] + df_summary_simp_cat_weekly['count_incoming'] + df_summary_simp_cat_weekly['product_count']) / df_summary_simp_cat_weekly['total_count_incoming'] \n",
    "\n"
   ]
  },
  {
   "cell_type": "markdown",
   "id": "9a70d365",
   "metadata": {},
   "source": [
    "## Monthly"
   ]
  },
  {
   "cell_type": "code",
   "execution_count": null,
   "id": "08d79ffa",
   "metadata": {},
   "outputs": [],
   "source": [
    "#create subplot figure with having two side by side plots\n",
    "fig, axes = plt.subplots(nrows=1,ncols=2,figsize=(15,6))\n",
    "# plot first pandas frame in subplot style\n",
    "df_summary_simp_cat_monthly['cogs'].plot(ax = axes[0],subplots=True,marker = 'o',style='r-') \n",
    "df_summary_simp_cat_monthly['revenue'].plot(ax = axes[0],subplots=True,marker = 'o',style='g-',) \n",
    "axes[0].set_title(\"Revenue & COGS\")\n",
    "axes[0].legend()\n",
    "# plot second pandas frame in subplot style\n",
    "df_summary_simp_cat_monthly['margin_%'].plot(ax = axes[1],subplots=True,marker = 'o',style='b-')\n",
    "axes[1] = plt.title('Monthly Margin %')"
   ]
  },
  {
   "cell_type": "code",
   "execution_count": null,
   "id": "5ff37962",
   "metadata": {},
   "outputs": [],
   "source": [
    "## Monthly since 2021"
   ]
  },
  {
   "cell_type": "code",
   "execution_count": null,
   "id": "f340a5ae",
   "metadata": {},
   "outputs": [],
   "source": [
    "#df_summary_simp_cat_monthly_2021 = df_summary_simp_cat_monthly[df_summary_simp_cat_monthly['date'] >= '2021-01']"
   ]
  },
  {
   "cell_type": "code",
   "execution_count": null,
   "id": "d6b0617d",
   "metadata": {},
   "outputs": [],
   "source": [
    "#create subplot figure with having two side by side plots\n",
    "#fig, axes = plt.subplots(nrows=1,ncols=2,figsize=(15,6))\n",
    "# plot first pandas frame in subplot style\n",
    "#df_summary_simp_cat_monthly_2021['cogs'].plot(ax = axes[0],subplots=True,marker = 'o',style='r-') \n",
    "#df_summary_simp_cat_monthly_2021['revenue'].plot(ax = axes[0],subplots=True,marker = 'o',style='g-',) \n",
    "#axes[0].set_title(\"Revenue & COGS\")\n",
    "#axes[0].legend()\n",
    "# plot second pandas frame in subplot style\n",
    "#df_summary_simp_cat_monthly_2021['margin_%'].plot(ax = axes[1],subplots=True,marker = 'o',style='b-')\n",
    "#axes[1] = plt.title('Monthly Margin %')"
   ]
  },
  {
   "cell_type": "markdown",
   "id": "55965a1a",
   "metadata": {},
   "source": [
    "## Weekly"
   ]
  },
  {
   "cell_type": "code",
   "execution_count": null,
   "id": "745d54a6",
   "metadata": {},
   "outputs": [],
   "source": [
    "#create subplot figure with having two side by side plots\n",
    "fig, axes = plt.subplots(nrows=1,ncols=2,figsize=(15,6))\n",
    "# plot first pandas frame in subplot style\n",
    "df_summary_simp_cat_weekly['cogs'].plot(ax = axes[0],subplots=True,marker = 'o',style='r-') \n",
    "df_summary_simp_cat_weekly['revenue'].plot(ax = axes[0],subplots=True,marker = 'o',style='g-',) \n",
    "axes[0].set_title(\"Revenue & COGS\")\n",
    "axes[0].legend()\n",
    "# plot second pandas frame in subplot style\n",
    "df_summary_simp_cat_weekly['margin_%'].plot(ax = axes[1],subplots=True,marker = 'o',style='b-')\n",
    "axes[1] = plt.title('Weekly Margin %')"
   ]
  },
  {
   "cell_type": "code",
   "execution_count": null,
   "id": "33a5dc8d",
   "metadata": {},
   "outputs": [],
   "source": [
    "## Weekly since 2021"
   ]
  },
  {
   "cell_type": "code",
   "execution_count": null,
   "id": "903892e9",
   "metadata": {},
   "outputs": [],
   "source": [
    "#df_summary_simp_cat_weekly_2021 = df_summary_simp_cat_weekly[df_summary_simp_cat_weekly['date'] >= '2021-01']"
   ]
  },
  {
   "cell_type": "code",
   "execution_count": null,
   "id": "68abc30c",
   "metadata": {},
   "outputs": [],
   "source": [
    "#create subplot figure with having two side by side plots\n",
    "#fig, axes = plt.subplots(nrows=1,ncols=2,figsize=(15,6))\n",
    "# plot first pandas frame in subplot style\n",
    "#df_summary_simp_cat_weekly_2021['cogs'].plot(ax = axes[0],subplots=True,marker = 'o',style='r-') \n",
    "#df_summary_simp_cat_weekly_2021['revenue'].plot(ax = axes[0],subplots=True,marker = 'o',style='g-',) \n",
    "#axes[0].set_title(\"Revenue & COGS\")\n",
    "#axes[0].legend()\n",
    "# plot second pandas frame in subplot style\n",
    "#df_summary_simp_cat_weekly_2021['margin_%'].plot(ax = axes[1],subplots=True,marker = 'o',style='b-')\n",
    "#axes[1] = plt.title('Weekly Margin %')"
   ]
  },
  {
   "cell_type": "markdown",
   "id": "32f7e835",
   "metadata": {},
   "source": [
    "# Compare product name fill VS product category name fill"
   ]
  },
  {
   "cell_type": "markdown",
   "id": "191563b1",
   "metadata": {},
   "source": [
    "## Compare margin & cogs"
   ]
  },
  {
   "cell_type": "code",
   "execution_count": null,
   "id": "6a702496",
   "metadata": {},
   "outputs": [],
   "source": [
    "# compare\n",
    "#create subplot figure with having two side by side plots\n",
    "# plot first pandas frame in subplot style\n",
    "ax = df_summary_simp_cat_weekly['margin_%'].plot(subplots=True,marker = 'o',style='r-',figsize=(15,6)) \n",
    "ax = df_summary_simp_weekly['margin_%'].plot(subplots=True,marker = 'o',style='g-',) \n",
    "ax= plt.legend()"
   ]
  },
  {
   "cell_type": "code",
   "execution_count": null,
   "id": "ab2b0dc1",
   "metadata": {},
   "outputs": [],
   "source": [
    "# compare\n",
    "#create subplot figure with having two side by side plots\n",
    "# plot first pandas frame in subplot style\n",
    "ax = df_summary_simp_cat_weekly['cogs'].plot(subplots=True,marker = 'o',style='r-',figsize=(15,6)) \n",
    "ax = df_summary_simp_weekly['cogs'].plot(subplots=True,marker = 'o',style='g-',) \n",
    "ax= plt.legend()"
   ]
  },
  {
   "cell_type": "markdown",
   "id": "df42b14e",
   "metadata": {},
   "source": [
    "## Fill percentage breakdown"
   ]
  },
  {
   "cell_type": "code",
   "execution_count": null,
   "id": "98e7d11a",
   "metadata": {},
   "outputs": [],
   "source": [
    "ax = df_summary_simp_cat_monthly[['package_id_perc','product_perc','product_cat_perc','total']].plot(figsize = (12,8),marker = 'o')\n"
   ]
  },
  {
   "cell_type": "code",
   "execution_count": null,
   "id": "a4e10bd9",
   "metadata": {},
   "outputs": [],
   "source": [
    "ax = df_summary_simp_cat_weekly[['package_id_perc','product_perc','product_cat_perc','total']].plot(figsize = (12,8),marker = 'o')\n"
   ]
  },
  {
   "cell_type": "markdown",
   "id": "5bdb623c",
   "metadata": {},
   "source": [
    "## Look at what product categories were filled"
   ]
  },
  {
   "cell_type": "code",
   "execution_count": null,
   "id": "8575a5c8",
   "metadata": {},
   "outputs": [],
   "source": [
    "# what was filled by product category?\n",
    "\n",
    "df_cogs_average_product_cat_monthly[(df_cogs_average_product_cat_monthly['per_unit_product'].isnull())&(df_cogs_average_product_cat_monthly['per_unit_incoming'].isnull())&(df_cogs_average_product_cat_monthly['per_unit_product_cat'].notnull())].groupby(['date', 'tx_product_category_name'])['tx_package_id'].count().unstack().plot.bar(figsize=(12, 8), stacked=True,colormap='Paired')\n",
    "ax = plt.legend(loc='center left', bbox_to_anchor=(1.0, 0.5))\n"
   ]
  },
  {
   "cell_type": "code",
   "execution_count": null,
   "id": "7208e1a7",
   "metadata": {},
   "outputs": [],
   "source": [
    "# what was filled by product category?\n",
    "\n",
    "df_cogs_average_product_cat_weekly[(df_cogs_average_product_cat_weekly['per_unit_product'].isnull())&(df_cogs_average_product_cat_weekly['per_unit_incoming'].isnull())&(df_cogs_average_product_cat_weekly['per_unit_product_cat'].notnull())].groupby(['date', 'tx_product_category_name'])['tx_package_id'].count().unstack().plot.bar(figsize=(12, 8), stacked=True,colormap='Paired')\n",
    "ax = plt.legend(loc='center left', bbox_to_anchor=(1.0, 0.5))\n"
   ]
  },
  {
   "cell_type": "markdown",
   "id": "3dac233a",
   "metadata": {},
   "source": [
    "## Estimated price error using product name average filldown"
   ]
  },
  {
   "cell_type": "code",
   "execution_count": null,
   "id": "f5adf04e",
   "metadata": {},
   "outputs": [],
   "source": [
    "df_cogs_average_product_cat_weekly['product_price_error'] = df_cogs_average_product_cat_weekly['per_unit_incoming'] - df_cogs_average_product_cat_weekly['per_unit_product']\n",
    "df_cogs_average_product_cat_weekly['product_cat_price_error'] = df_cogs_average_product_cat_weekly['per_unit_incoming'] - df_cogs_average_product_cat_weekly['per_unit_product_cat']\n"
   ]
  },
  {
   "cell_type": "code",
   "execution_count": null,
   "id": "ab645ecc",
   "metadata": {},
   "outputs": [],
   "source": [
    "ax = df_cogs_average_product_cat_weekly[['product_price_error']].hist(bins = 50)"
   ]
  },
  {
   "cell_type": "code",
   "execution_count": null,
   "id": "10383ff5",
   "metadata": {},
   "outputs": [],
   "source": [
    "df_cogs_average_product_cat_weekly[['product_price_error']].describe()"
   ]
  },
  {
   "cell_type": "markdown",
   "id": "046ee110",
   "metadata": {},
   "source": [
    "## Estimated price error using product category name average filldown"
   ]
  },
  {
   "cell_type": "code",
   "execution_count": null,
   "id": "203f380d",
   "metadata": {},
   "outputs": [],
   "source": [
    "ax = df_cogs_average_product_cat_weekly[['product_cat_price_error']].hist(bins = 50)"
   ]
  },
  {
   "cell_type": "code",
   "execution_count": null,
   "id": "f2500050",
   "metadata": {},
   "outputs": [],
   "source": [
    "df_cogs_average_product_cat_weekly[['product_cat_price_error']].describe()"
   ]
  },
  {
   "cell_type": "markdown",
   "id": "8f49616a",
   "metadata": {},
   "source": [
    "# ~ THE END ~"
   ]
  },
  {
   "cell_type": "code",
   "execution_count": null,
   "id": "c372fb61",
   "metadata": {},
   "outputs": [],
   "source": []
  },
  {
   "cell_type": "code",
   "execution_count": null,
   "id": "ab6ff98e",
   "metadata": {},
   "outputs": [],
   "source": []
  },
  {
   "cell_type": "code",
   "execution_count": null,
   "id": "0ffbb757",
   "metadata": {},
   "outputs": [],
   "source": []
  },
  {
   "cell_type": "code",
   "execution_count": null,
   "id": "19d2af67",
   "metadata": {},
   "outputs": [],
   "source": [
    "from typing import Optional"
   ]
  },
  {
   "cell_type": "code",
   "execution_count": null,
   "id": "7577b800",
   "metadata": {},
   "outputs": [],
   "source": [
    "def parse_gram_numeric(name: str) -> Optional[float]:\n",
    "    words = name.lower().split(' ')\n",
    "    outcome = []\n",
    "    for word in words:\n",
    "        if len(word) <=1 or word[-1] != 'g':\n",
    "            continue\n",
    "        # it has `g` at the end\n",
    "        try:\n",
    "            float_number = float(word[:-1])\n",
    "        except ValueError:\n",
    "            # can be also of the form `x/y`\n",
    "            splits = word[:-1].split('/')\n",
    "            if len(splits) == 2:\n",
    "                try:\n",
    "                    float_number = int(splits[0]) / int(splits[1])\n",
    "                except ValueError:\n",
    "                    continue\n",
    "            else:\n",
    "                continue\n",
    "        outcome.append(float_number)\n",
    "\n",
    "    \n",
    "    if len(outcome) == 1:\n",
    "        return outcome[0]\n",
    "    \n",
    "    else:\n",
    "        return None"
   ]
  },
  {
   "cell_type": "code",
   "execution_count": null,
   "id": "3eb916cb",
   "metadata": {},
   "outputs": [],
   "source": [
    "def find_n_pack(name: str) -> Optional[int]:\n",
    "    name = name.lower().replace('-', ' ')\n",
    "    words = name.split(' ')\n",
    "    pack_idx = [i for i, word in enumerate(words) if word == 'pack']\n",
    "    if len(pack_idx) != 1 or pack_idx[0] == 0:\n",
    "        return None\n",
    "    return words[pack_idx[0]-1]\n"
   ]
  },
  {
   "cell_type": "code",
   "execution_count": null,
   "id": "339a123d",
   "metadata": {},
   "outputs": [],
   "source": [
    "#set(merged[merged['product_category_name'] == 'Raw Pre-Rolls']['product_name'].fillna('').apply(find_n_pack))"
   ]
  },
  {
   "cell_type": "code",
   "execution_count": null,
   "id": "418f149c",
   "metadata": {},
   "outputs": [],
   "source": [
    "merged"
   ]
  },
  {
   "cell_type": "code",
   "execution_count": null,
   "id": "6f1c13fb",
   "metadata": {},
   "outputs": [],
   "source": [
    "merged['parsed_unit_weight'] = merged['tx_product_name'].fillna('').apply(parse_gram_numeric)\n",
    "merged['parsed_unit_pack'] = merged['tx_product_name'].fillna('').apply(find_n_pack)"
   ]
  },
  {
   "cell_type": "code",
   "execution_count": null,
   "id": "3c399131",
   "metadata": {},
   "outputs": [],
   "source": [
    "merged['parsed_unit_pack'] = pd.to_numeric(merged['parsed_unit_pack'],\n",
    "      errors = 'coerce')"
   ]
  },
  {
   "cell_type": "code",
   "execution_count": null,
   "id": "6dd790c6",
   "metadata": {},
   "outputs": [],
   "source": [
    "merged['test'] = merged['parsed_unit_weight'] * merged['parsed_unit_pack']"
   ]
  },
  {
   "cell_type": "code",
   "execution_count": null,
   "id": "60c1a9f8",
   "metadata": {},
   "outputs": [],
   "source": [
    "f = merged[merged['test'].notnull()]"
   ]
  },
  {
   "cell_type": "code",
   "execution_count": null,
   "id": "9981d8db",
   "metadata": {},
   "outputs": [],
   "source": [
    "f['per_unit_product_cat_2'] = f['per_unit_product_cat'] * f['test']"
   ]
  },
  {
   "cell_type": "code",
   "execution_count": null,
   "id": "78e53779",
   "metadata": {},
   "outputs": [],
   "source": [
    "f['product_cat_price_error_2'] = f['per_unit_incoming'] - f['per_unit_product_cat_2']"
   ]
  },
  {
   "cell_type": "code",
   "execution_count": null,
   "id": "e645e1b6",
   "metadata": {},
   "outputs": [],
   "source": [
    "pr = df_in[df_in['product_category_name'] == 'Raw Pre-Rolls']"
   ]
  },
  {
   "cell_type": "code",
   "execution_count": null,
   "id": "acda7584",
   "metadata": {},
   "outputs": [],
   "source": [
    "a = pr['per_unit_incoming'].between(pr['per_unit_incoming'].quantile(.05), pr['per_unit_incoming'].quantile(.95))\n",
    "\n",
    "\n"
   ]
  },
  {
   "cell_type": "code",
   "execution_count": null,
   "id": "e9b4be7b",
   "metadata": {},
   "outputs": [],
   "source": [
    "pr['per_unit_incoming'][a]"
   ]
  },
  {
   "cell_type": "code",
   "execution_count": null,
   "id": "a628ecdc",
   "metadata": {},
   "outputs": [],
   "source": [
    "pr"
   ]
  },
  {
   "cell_type": "code",
   "execution_count": null,
   "id": "868bdc17",
   "metadata": {},
   "outputs": [],
   "source": [
    "f[['product_cat_price_error']].describe()"
   ]
  },
  {
   "cell_type": "code",
   "execution_count": null,
   "id": "4aa45f3a",
   "metadata": {},
   "outputs": [],
   "source": [
    "f[['product_cat_price_error_2']].describe()"
   ]
  },
  {
   "cell_type": "code",
   "execution_count": null,
   "id": "739744e8",
   "metadata": {},
   "outputs": [],
   "source": [
    "df_in[['product_category_name','shipped_unit_of_measure','per_unit_incoming']].groupby(['product_category_name','shipped_unit_of_measure']).mean()\n",
    "\n"
   ]
  },
  {
   "cell_type": "code",
   "execution_count": null,
   "id": "7d928b2c",
   "metadata": {},
   "outputs": [],
   "source": [
    "df_in[(df_in['product_category_name'] == 'Raw Pre-Rolls')&(df_in['product_name'] == 'M00000949931: LA Kush Cake 4 Pack 0.5g Blunts')]"
   ]
  },
  {
   "cell_type": "code",
   "execution_count": null,
   "id": "e22c01ff",
   "metadata": {},
   "outputs": [],
   "source": [
    "merged['test'].notnull().sum() / merged.shape[0]"
   ]
  },
  {
   "cell_type": "code",
   "execution_count": null,
   "id": "0b6071dc",
   "metadata": {},
   "outputs": [],
   "source": [
    "#df_in[['product_category_name','received_unit_of_measure']].groupby(['product_category_name','received_unit_of_measure']).count()"
   ]
  },
  {
   "cell_type": "code",
   "execution_count": null,
   "id": "a271ec20",
   "metadata": {},
   "outputs": [],
   "source": [
    "## Compare computed inventory vs Metrc inventory (metrc_packages)"
   ]
  },
  {
   "cell_type": "code",
   "execution_count": null,
   "id": "4cf90041-013a-4c7b-a847-ba77950e55dd",
   "metadata": {},
   "outputs": [],
   "source": [
    "TODAY_DATE = date.today().strftime('%m/%d/%Y')\n",
    "INVENTORY_DATES = [TODAY_DATE]\n",
    "ANALYSIS_PARAMS = {\n",
    "    'sold_threshold': 1.0,\n",
    "    'find_parent_child_relationships': False,\n",
    "}\n",
    "print('Today is {}'.format(TODAY_DATE))"
   ]
  },
  {
   "cell_type": "code",
   "execution_count": null,
   "id": "6a577892-fd92-4c11-a49f-1e43696373aa",
   "metadata": {},
   "outputs": [],
   "source": [
    "analysis_ctx = inventory_types.AnalysisContext(\n",
    "    output_root_dir='tmp',\n",
    "    read_params=inventory_types.ReadParams(\n",
    "        use_cached_dataframes=False\n",
    "    ),\n",
    "    write_params=inventory_types.WriteOutputParams(\n",
    "        save_download_dataframes=False\n",
    "    )\n",
    ")\n",
    "\n",
    "d = util.Download()\n",
    "sql_helper = util.BigQuerySQLHelper(\n",
    "    ctx=analysis_ctx,\n",
    "    engine=engine,\n",
    ")\n",
    "d.download_dataframes(\n",
    "    all_dataframes_dict=download_util.AllDataframesDict(\n",
    "        incoming_transfer_packages_dataframe=company_incoming_transfer_packages_dataframe,\n",
    "        outgoing_transfer_packages_dataframe=company_outgoing_transfer_packages_dataframe,\n",
    "        sales_transactions_dataframe=company_sales_transactions_dataframe,\n",
    "        sales_receipts_dataframe=company_sales_receipts_dataframe,\n",
    "        inventory_packages_dataframe=company_inventory_packages_dataframe,\n",
    "    ),\n",
    "    sql_helper=sql_helper\n",
    ")"
   ]
  },
  {
   "cell_type": "code",
   "execution_count": null,
   "id": "d4330a11-3877-4568-9c40-a235743a0fdb",
   "metadata": {},
   "outputs": [],
   "source": [
    "q = util.Query(\n",
    "    inventory_dates=[], # gets filled in once we have the dataframes\n",
    "    transfer_packages_start_date=TRANSFER_PACKAGES_START_DATE,\n",
    "    sales_transactions_start_date=SALES_TRANSACTIONS_START_DATE,\n",
    "    company_name=COMPANY_IDENTIFIER,\n",
    "    company_identifier=COMPANY_IDENTIFIER,\n",
    "    license_numbers=[],\n",
    ")\n",
    "\n",
    "id_to_history = util.get_histories(d, ANALYSIS_PARAMS)\n",
    "util.print_counts(analysis_ctx, id_to_history)"
   ]
  },
  {
   "cell_type": "code",
   "execution_count": null,
   "id": "202d853d-a7d5-4ec3-8672-68941d8e4cc4",
   "metadata": {},
   "outputs": [],
   "source": [
    "date_to_inventory_packages_dataframe = {}\n",
    "\n",
    "id_to_history = util.get_histories(d, ANALYSIS_PARAMS)\n",
    "inventory_valuations = []\n",
    "\n",
    "for inventory_date in INVENTORY_DATES:\n",
    "    computed_inventory_package_records = util.create_inventory_dataframe_by_date(\n",
    "        id_to_history, inventory_date, params=ANALYSIS_PARAMS)    \n",
    "    computed_inventory_packages_dataframe = pandas.DataFrame(\n",
    "        computed_inventory_package_records,\n",
    "        columns=util.get_inventory_column_names(),\n",
    "    )\n",
    "    date_to_inventory_packages_dataframe[inventory_date] = computed_inventory_packages_dataframe\n",
    "    inventory_valuations.append(valuations_util.get_total_valuation_for_date(\n",
    "        computed_inventory_packages_dataframe=computed_inventory_packages_dataframe,\n",
    "        company_incoming_transfer_packages_dataframe=company_incoming_transfer_packages_dataframe,\n",
    "        inventory_date=inventory_date,\n",
    "        using_nb=True,\n",
    "    ))"
   ]
  },
  {
   "cell_type": "code",
   "execution_count": null,
   "id": "a850b968-add4-4c4e-a943-8440f4f901f0",
   "metadata": {},
   "outputs": [],
   "source": [
    "from_packages_inventory_dataframe = company_inventory_packages_dataframe[[\n",
    "    'package_id',\n",
    "    'packaged_date',\n",
    "    'unit_of_measure',\n",
    "    'product_category_name',\n",
    "    'product_name',\n",
    "    'quantity',\n",
    "]].sort_values('package_id')\n",
    "\n",
    "package_id_to_actual_row = {}\n",
    "for index, row in from_packages_inventory_dataframe.iterrows():\n",
    "    package_id_to_actual_row[str(row['package_id'])] = row\n",
    "    \n",
    "res = util.compare_inventory_dataframes(\n",
    "    ctx=analysis_ctx,\n",
    "    computed=date_to_inventory_packages_dataframe[TODAY_DATE],\n",
    "    actual=from_packages_inventory_dataframe,\n",
    "    options={\n",
    "        'num_errors_to_show': 10,\n",
    "        'accept_computed_when_sold_out': True\n",
    "    }\n",
    ")"
   ]
  },
  {
   "cell_type": "code",
   "execution_count": null,
   "id": "986100eb-d925-4466-b08d-9b596ff67eda",
   "metadata": {},
   "outputs": [],
   "source": [
    "inventory_cost_valuation = valuations_util.get_inventory_valuation(\n",
    "    inventory_packages_dataframe=company_inventory_packages_dataframe,\n",
    "    incoming_transfer_packages_dataframe=company_incoming_transfer_packages_dataframe,\n",
    ")\n",
    "print(f'Cost valuation of Metrc-reported inventory as of today: ${round(inventory_cost_valuation, 2)}')"
   ]
  },
  {
   "cell_type": "code",
   "execution_count": null,
   "id": "948fcc53-c101-4613-905f-3f209ea582ba",
   "metadata": {},
   "outputs": [],
   "source": []
  },
  {
   "cell_type": "code",
   "execution_count": null,
   "id": "063e6526",
   "metadata": {},
   "outputs": [],
   "source": [
    "## Export data"
   ]
  },
  {
   "cell_type": "code",
   "execution_count": null,
   "id": "d83a55cf-72f6-4fa1-8fb9-b896aef8c7df",
   "metadata": {},
   "outputs": [],
   "source": [
    "# Flip flag if you want to export data to files.\n",
    "is_export_enabled = False"
   ]
  },
  {
   "cell_type": "code",
   "execution_count": null,
   "id": "4ca50c05",
   "metadata": {},
   "outputs": [],
   "source": [
    "import time\n",
    "from datetime import date\n",
    "\n",
    "TODAY_DATE = date.today().strftime('%m-%d-%Y')\n",
    "NOW = int(time.time())\n",
    "\n",
    "export_incoming_transfer_packages_dataframe = company_incoming_transfer_packages_dataframe\n",
    "\n",
    "date_columns = export_incoming_transfer_packages_dataframe.select_dtypes(include=['datetime64[ns, UTC]']).columns\n",
    "for date_column in date_columns:\n",
    "    export_incoming_transfer_packages_dataframe[date_column] = export_incoming_transfer_packages_dataframe[date_column].dt.date\n",
    "\n",
    "incoming_transfer_packages_file_name = f'~/Downloads/{COMPANY_IDENTIFIER}_incoming_transfer_packages_{TODAY_DATE}_{NOW}'\n",
    "\n",
    "export_inventory_packages_dataframe = company_inventory_packages_dataframe\n",
    "\n",
    "date_columns = export_inventory_packages_dataframe.select_dtypes(include=['datetime64[ns, UTC]']).columns\n",
    "for date_column in date_columns:\n",
    "    export_inventory_packages_dataframe[date_column] = export_inventory_packages_dataframe[date_column].dt.date\n",
    "\n",
    "inventory_packages_file_name = f'~/Downloads/{COMPANY_IDENTIFIER}_inventory_packages_{TODAY_DATE}_{NOW}'\n",
    "\n",
    "export_sales_transactions_dataframe = deduped_sales_receipts_with_transactions_dataframe\n",
    "\n",
    "date_columns = export_sales_transactions_dataframe.select_dtypes(include=['datetime64[ns, UTC]']).columns\n",
    "for date_column in date_columns:\n",
    "    export_sales_transactions_dataframe[date_column] = export_sales_transactions_dataframe[date_column].dt.date\n",
    "\n",
    "sales_transactions_file_name = f'~/Downloads/{COMPANY_IDENTIFIER}_sales_transactions_{SALES_TRANSACTIONS_START_DATE}_{TODAY_DATE}_{NOW}'\n",
    "\n",
    "if is_export_enabled:\n",
    "    num_incoming_transfer_packages = len(export_incoming_transfer_packages_dataframe.index)\n",
    "    print(f'Exporting {num_incoming_transfer_packages} incoming transfer packages to files...')\n",
    "    export_incoming_transfer_packages_dataframe.reset_index().to_excel(f'{incoming_transfer_packages_file_name}.xlsx')\n",
    "    export_incoming_transfer_packages_dataframe.reset_index().to_csv(f'{incoming_transfer_packages_file_name}.csv')\n",
    "    print(f'Exported {num_incoming_transfer_packages} incoming transfer packages to files')\n",
    "\n",
    "    num_inventory_packages = len(export_inventory_packages_dataframe.index)\n",
    "    print(f'Exporting {num_inventory_packages} inventory packages to files...')\n",
    "    export_inventory_packages_dataframe.reset_index().to_excel(f'{inventory_packages_file_name}.xlsx')\n",
    "    export_inventory_packages_dataframe.reset_index().to_csv(f'{inventory_packages_file_name}.csv')\n",
    "    print(f'Exported {num_inventory_packages} inventory packages to files')\n",
    "\n",
    "    num_sales_transactions = len(export_sales_transactions_dataframe.index)\n",
    "    print(f'Exporting {num_sales_transactions} sales transactions to files...')\n",
    "    export_inventory_packages_dataframe.reset_index().to_excel(f'{sales_transactions_file_name}.xlsx')\n",
    "    export_inventory_packages_dataframe.reset_index().to_csv(f'{sales_transactions_file_name}.csv')\n",
    "    print(f'Exported {num_sales_transactions} sales transactions to files')"
   ]
  },
  {
   "cell_type": "code",
   "execution_count": null,
   "id": "6dfba055",
   "metadata": {},
   "outputs": [],
   "source": []
  },
  {
   "cell_type": "code",
   "execution_count": null,
   "id": "1be7bf31-9ba5-4894-a4a8-06269fb55d17",
   "metadata": {},
   "outputs": [],
   "source": []
  }
 ],
 "metadata": {
  "kernelspec": {
   "display_name": "Python 3",
   "language": "python",
   "name": "python3"
  },
  "language_info": {
   "codemirror_mode": {
    "name": "ipython",
    "version": 3
   },
   "file_extension": ".py",
   "mimetype": "text/x-python",
   "name": "python",
   "nbconvert_exporter": "python",
   "pygments_lexer": "ipython3",
   "version": "3.8.10"
  }
 },
 "nbformat": 4,
 "nbformat_minor": 5
}
