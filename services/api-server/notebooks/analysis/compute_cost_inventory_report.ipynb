{
 "cells": [
  {
   "cell_type": "code",
   "execution_count": null,
   "id": "170c442e-f0fb-4421-a3bf-5f87863f8277",
   "metadata": {},
   "outputs": [],
   "source": [
    "import json\n",
    "import os\n",
    "import numpy\n",
    "import pandas\n",
    "import pyarrow\n",
    "import sys\n",
    "\n",
    "from datetime import date\n",
    "from os import path\n",
    "from dotenv import load_dotenv\n",
    "from sqlalchemy import create_engine\n",
    "\n",
    "# Steps to install\n",
    "# 1. pip install sqlalchemy-bigquery google-cloud-bigquery-storage pyarrow\n",
    "# 2. Copy the credentials file to wherever you set BIGQUERY_CREDENTIALS_PATH to\n",
    "\n",
    "load_dotenv(verbose=True)\n",
    "BIGQUERY_CREDENTIALS_PATH = os.environ.get('BIGQUERY_CREDENTIALS_PATH')\n",
    "engine = create_engine('bigquery://bespoke-financial/ProdMetrcData', credentials_path=os.path.expanduser(BIGQUERY_CREDENTIALS_PATH))"
   ]
  },
  {
   "cell_type": "code",
   "execution_count": null,
   "id": "38f9a288-03bc-43c5-82f8-a7c5a55f7286",
   "metadata": {},
   "outputs": [],
   "source": [
    "sys.path.append(path.realpath(path.join(os.getcwd(), \"../../src\")))\n",
    "\n",
    "from bespoke.inventory.analysis.shared import create_queries\n",
    "%load_ext autoreload\n",
    "%autoreload 2"
   ]
  },
  {
   "cell_type": "code",
   "execution_count": null,
   "id": "fbfe06bc-cc79-41cc-814e-1d2166177496",
   "metadata": {},
   "outputs": [],
   "source": [
    "COMPANY_NAME = 'BBF'\n",
    "COMPANY_IDENTIFIER = 'BBF'\n",
    "TRANSFER_PACKAGES_START_DATE = '2019-01-01'\n",
    "SALES_TRANSACTIONS_START_DATE = '2019-01-01'\n",
    "INVENTORY_DATES = [\n",
    "    '09/30/2020',\n",
    "    '10/31/2020',\n",
    "    '11/30/2020',\n",
    "    '12/31/2020',\n",
    "    '01/31/2021',\n",
    "    '02/28/2021',\n",
    "    '03/31/2021',\n",
    "    '04/30/2021',\n",
    "    '05/31/2021',\n",
    "    '06/30/2021',\n",
    "    '07/31/2021',\n",
    "    '08/31/2021',\n",
    "    '09/30/2021',\n",
    "    '10/31/2021',\n",
    "]\n",
    "ANALYSIS_PARAMS = {\n",
    "    'sold_threshold': 1.0,\n",
    "    'find_parent_child_relationships': False,\n",
    "    'use_prices_to_fill_missing_incoming': True,\n",
    "    'external_pricing_data_config': {\n",
    "        'category_to_fixed_prices': {\n",
    "            'Buds': {\n",
    "                'grams': 10.0\n",
    "            },\n",
    "            'Infused (edible)': {\n",
    "                'each': 4.0\n",
    "            },\n",
    "            'Infused (non-edible)': {\n",
    "                'each': 3.0\n",
    "            },\n",
    "            'Vape Product': {\n",
    "                'each': 3.0\n",
    "            },\n",
    "            'Concentrate (Bulk)': {\n",
    "                'grams': 6.0\n",
    "            },\n",
    "            'Concentrate': {\n",
    "                'grams': 7.0\n",
    "            },\n",
    "            'Raw Pre-Rolls': {\n",
    "                'grams': 7.0,\n",
    "                'pounds': 80.0\n",
    "            },\n",
    "            'Shake/Trim (by strain)': {\n",
    "                'grams': 8.0\n",
    "            }\n",
    "        }\n",
    "    }\n",
    "}\n",
    "TODAY_DATE = date.today().strftime('%m/%d/%Y')\n",
    "INVENTORY_DATES.append(TODAY_DATE)\n",
    "print('Today is {}'.format(TODAY_DATE))"
   ]
  },
  {
   "cell_type": "code",
   "execution_count": null,
   "id": "d9eccd84-a327-4299-8876-456c6c9f574c",
   "metadata": {},
   "outputs": [],
   "source": [
    "# Download packages, sales transactions, incoming / outgoing tranfers\n",
    "\n",
    "company_incoming_transfer_packages_query = create_queries.create_company_incoming_transfer_packages_query(COMPANY_IDENTIFIER, TRANSFER_PACKAGES_START_DATE)\n",
    "company_outgoing_transfer_packages_query = create_queries.create_company_outgoing_transfer_packages_query(COMPANY_IDENTIFIER, TRANSFER_PACKAGES_START_DATE)\n",
    "company_sales_transactions_query = create_queries.create_company_sales_transactions_query(COMPANY_IDENTIFIER, SALES_TRANSACTIONS_START_DATE)\n",
    "company_sales_receipts_query = create_queries.create_company_sales_receipts_query(COMPANY_IDENTIFIER, SALES_TRANSACTIONS_START_DATE)\n",
    "company_inventory_packages_query = create_queries.create_company_inventory_packages_query(\n",
    "    COMPANY_IDENTIFIER, include_quantity_zero=True)\n",
    "\n",
    "company_incoming_transfer_packages_dataframe = pandas.read_sql_query(company_incoming_transfer_packages_query, engine)\n",
    "company_outgoing_transfer_packages_dataframe = pandas.read_sql_query(company_outgoing_transfer_packages_query, engine)\n",
    "company_sales_transactions_dataframe = pandas.read_sql_query(company_sales_transactions_query, engine)\n",
    "company_sales_receipts_dataframe = pandas.read_sql_query(company_sales_receipts_query, engine)\n",
    "company_inventory_packages_dataframe = pandas.read_sql_query(company_inventory_packages_query, engine)"
   ]
  },
  {
   "cell_type": "code",
   "execution_count": null,
   "id": "106a034d-fb76-4e8e-bce6-4e3b525b175e",
   "metadata": {},
   "outputs": [],
   "source": [
    "from bespoke.inventory.analysis import active_inventory_util as util\n",
    "from bespoke.inventory.analysis import inventory_valuations_util as valuations_util\n",
    "import importlib\n",
    "\n",
    "importlib.reload(util)\n",
    "importlib.reload(valuations_util)"
   ]
  },
  {
   "cell_type": "code",
   "execution_count": null,
   "id": "c2af6220-2ebc-4447-a17e-0e3d9f3a7bbd",
   "metadata": {},
   "outputs": [],
   "source": [
    "d = util.Download()\n",
    "sql_helper = util.BigQuerySQLHelper(engine)\n",
    "d.download_dataframes(\n",
    "    incoming_transfer_packages_dataframe=company_incoming_transfer_packages_dataframe,\n",
    "    outgoing_transfer_packages_dataframe=company_outgoing_transfer_packages_dataframe,\n",
    "    sales_transactions_dataframe=company_sales_transactions_dataframe,\n",
    "    sales_receipts_dataframe=company_sales_receipts_dataframe,\n",
    "    inventory_packages_dataframe=company_inventory_packages_dataframe,\n",
    "    sql_helper=sql_helper\n",
    ")"
   ]
  },
  {
   "cell_type": "code",
   "execution_count": null,
   "id": "f1822c3d-69d7-452a-91b4-040b6f23968c",
   "metadata": {},
   "outputs": [],
   "source": [
    "d.child_to_parent_package_id_override = {\n",
    "#    '725714': '1687330'\n",
    "}"
   ]
  },
  {
   "cell_type": "code",
   "execution_count": null,
   "id": "5fbbbfe7-87c0-4409-9e6a-b6dc2b63ce54",
   "metadata": {
    "tags": []
   },
   "outputs": [],
   "source": [
    "importlib.reload(util)\n",
    "importlib.reload(valuations_util)\n",
    "\n",
    "# Check for how many packages are excluded from analysis,\n",
    "# seeing less then 2% is really good\n",
    "q = util.Query()\n",
    "q.inventory_dates = INVENTORY_DATES\n",
    "q.company_name = COMPANY_NAME\n",
    "\n",
    "id_to_history = util.get_histories(d, ANALYSIS_PARAMS)\n",
    "util.print_counts(id_to_history)\n",
    "util.create_inventory_xlsx(id_to_history, q, params=ANALYSIS_PARAMS)"
   ]
  },
  {
   "cell_type": "code",
   "execution_count": null,
   "id": "352a6fbd-34f9-4cd1-8509-38c326bf0e67",
   "metadata": {},
   "outputs": [],
   "source": [
    "# For debugging individual package histories\n",
    "# You have to run the above block to reload the package_id_to_history array\n",
    "\n",
    "import importlib\n",
    "importlib.reload(util)\n",
    "importlib.reload(valuations_util)\n",
    "\n",
    "# Missing transactions?\n",
    "# 5189649\n",
    "\n",
    "# Using grams or missing transactions?\n",
    "#WARN: seeing an incoming package for #19083030 with no received_datetime\n",
    "#Exception: FATAL error, could not find a transfer to insert a tx with date\n",
    "#2021-10-22 11:58:45+00:00 into for package 18218608\n",
    "\n",
    "# '2818807' - child\n",
    "\n",
    "\"\"\"\n",
    "WARN: incoming package #2358400 does not have a price\n",
    "WARN: incoming package #1318689 does not have a price\n",
    "WARN: incoming package #862836 does not have a price\n",
    "WARN: incoming package #862838 does not have a price\n",
    "WARN: incoming package #702114 does not have a price\n",
    "WARN: incoming package #702301 does not have a price\n",
    "\"\"\"\n",
    "\n",
    "PACKAGE_IDS = [\n",
    "  '862838'\n",
    "]\n",
    "\n",
    "util.analyze_specific_package_histories(\n",
    "    d, package_id_to_actual_row, PACKAGE_IDS, params=ANALYSIS_PARAMS)"
   ]
  },
  {
   "cell_type": "code",
   "execution_count": null,
   "id": "da7de22a-df0a-4430-830e-0cf460ea3e03",
   "metadata": {},
   "outputs": [],
   "source": [
    "util.run_orphan_analysis(d, id_to_history)"
   ]
  },
  {
   "cell_type": "code",
   "execution_count": null,
   "id": "4de368e2-44ab-4885-86d2-54b989f091f2",
   "metadata": {
    "tags": []
   },
   "outputs": [],
   "source": [
    "import importlib\n",
    "importlib.reload(util)\n",
    "importlib.reload(valuations_util)\n",
    "\n",
    "#INVENTORY_DATES = [TODAY_DATE]\n",
    "\n",
    "date_to_inventory_packages_dataframe = {}\n",
    "\n",
    "id_to_history = util.get_histories(d, ANALYSIS_PARAMS)\n",
    "inventory_valuations = []\n",
    "\n",
    "for inventory_date in INVENTORY_DATES:\n",
    "    computed_inventory_package_records = util.create_inventory_dataframe_by_date(\n",
    "        id_to_history, inventory_date, params=ANALYSIS_PARAMS)    \n",
    "    computed_inventory_packages_dataframe = pandas.DataFrame(\n",
    "        computed_inventory_package_records,\n",
    "        columns=util.get_inventory_column_names()\n",
    "    )\n",
    "    date_to_inventory_packages_dataframe[inventory_date] = computed_inventory_packages_dataframe\n",
    "    inventory_valuations.append(valuations_util.get_total_valuation_for_date(\n",
    "        computed_inventory_packages_dataframe=computed_inventory_packages_dataframe,\n",
    "        company_incoming_transfer_packages_dataframe=company_incoming_transfer_packages_dataframe\n",
    "    ))"
   ]
  },
  {
   "cell_type": "code",
   "execution_count": null,
   "id": "048bdebf-b1a9-4340-bef0-3171525a4007",
   "metadata": {},
   "outputs": [],
   "source": [
    "import importlib\n",
    "importlib.reload(util)\n",
    "importlib.reload(valuations_util)\n",
    "\n",
    "# Do the COGS summary too\n",
    "topdown_cogs_rows = util.create_top_down_cogs_summary_for_all_dates(\n",
    "    d, ANALYSIS_PARAMS\n",
    ")\n",
    "\n",
    "bottomsup_cogs_rows = util.create_cogs_summary_for_all_dates(\n",
    "  id_to_history, ANALYSIS_PARAMS\n",
    ")\n",
    "util.write_cogs_xlsx(\n",
    "    topdown_cogs_rows=topdown_cogs_rows, \n",
    "    bottoms_up_cogs_rows=bottomsup_cogs_rows,\n",
    "    company_name=COMPANY_NAME\n",
    ")"
   ]
  },
  {
   "cell_type": "code",
   "execution_count": null,
   "id": "f176e956-da74-4807-a17f-118408320936",
   "metadata": {},
   "outputs": [],
   "source": [
    "for row in topdown_cogs_rows:\n",
    "    print(row)"
   ]
  },
  {
   "cell_type": "code",
   "execution_count": null,
   "id": "cdddf56a-7963-40dd-9c55-877878ed706b",
   "metadata": {},
   "outputs": [],
   "source": [
    "for row in bottomsup_cogs_rows:\n",
    "    print(row)"
   ]
  },
  {
   "cell_type": "code",
   "execution_count": null,
   "id": "896c2893-bc7b-4295-84e3-fd4a11632b45",
   "metadata": {},
   "outputs": [],
   "source": [
    "from_packages_inventory_dataframe = company_inventory_packages_dataframe[[\n",
    "    'package_id',\n",
    "    'packaged_date',\n",
    "    'unit_of_measure',\n",
    "    'product_category_name',\n",
    "    'product_name',\n",
    "    'quantity',\n",
    "]].sort_values('package_id')\n",
    "\n",
    "package_id_to_actual_row = {}\n",
    "for index, row in from_packages_inventory_dataframe.iterrows():\n",
    "    package_id_to_actual_row[str(row['package_id'])] = row"
   ]
  },
  {
   "cell_type": "code",
   "execution_count": null,
   "id": "62e6af4a-8e8f-4321-8cfa-ee4353442b50",
   "metadata": {
    "tags": []
   },
   "outputs": [],
   "source": [
    "import importlib\n",
    "importlib.reload(util)\n",
    "importlib.reload(valuations_util)\n",
    "\n",
    "res = util.compare_inventory_dataframes(\n",
    "    computed=date_to_inventory_packages_dataframe[TODAY_DATE],\n",
    "    actual=from_packages_inventory_dataframe,\n",
    "    options={\n",
    "        'num_errors_to_show': 100,\n",
    "        'accept_computed_when_sold_out': True\n",
    "    }\n",
    ")\n",
    "\n",
    "# Two categories for: Num actual packages not computed: 229\n",
    "# 1. Actual has a package that we've never seen\n",
    "# 2. Actual has a package that we've sold out of, and that's why it's in the inventory\n",
    "\n",
    "# Two categories for: Num computed packages not in actual: 237\n",
    "# 1. We never saw the package in the actual inventory\n",
    "# 2. Actual inventory is sold out, but we think it's not sold out in computed"
   ]
  },
  {
   "cell_type": "code",
   "execution_count": null,
   "id": "736d9312-7a2f-4b6f-9a4c-9d0d37c76c8a",
   "metadata": {},
   "outputs": [],
   "source": [
    "res"
   ]
  },
  {
   "cell_type": "code",
   "execution_count": null,
   "id": "6cfd4d4e-ec3f-403a-96bf-31ebcefaa193",
   "metadata": {},
   "outputs": [],
   "source": [
    "import importlib\n",
    "importlib.reload(util)\n",
    "importlib.reload(valuations_util)\n",
    "\n",
    "valuations_util.plot_inventory_and_revenue(\n",
    "    q=q,\n",
    "    sales_receipts_dataframe=d.sales_receipts_dataframe,\n",
    "    inventory_valuations=inventory_valuations\n",
    ")"
   ]
  },
  {
   "cell_type": "code",
   "execution_count": null,
   "id": "35ef5560-5610-49b5-bfa8-67af83a561dc",
   "metadata": {},
   "outputs": [],
   "source": []
  },
  {
   "cell_type": "code",
   "execution_count": null,
   "id": "3a8844de-f684-4aca-a769-a90366b58d20",
   "metadata": {},
   "outputs": [],
   "source": [
    "inactive_packages_df = pandas.read_sql_query(\n",
    "    util.are_packages_inactive_query(['766095']),\n",
    "    engine\n",
    ")\n",
    "inactive_packages_df"
   ]
  },
  {
   "cell_type": "code",
   "execution_count": null,
   "id": "e113b6eb-5fdb-4678-aef0-ada64e52e10d",
   "metadata": {},
   "outputs": [],
   "source": []
  },
  {
   "cell_type": "code",
   "execution_count": null,
   "id": "b49d76a3-de1b-4803-8dc1-665aec186020",
   "metadata": {},
   "outputs": [],
   "source": [
    "# Find transfer packages in data warehouse by package_id.\n",
    "\n",
    "def create_transfer_packages_by_package_id_query(package_id):\n",
    "    return f\"\"\"\n",
    "        select\n",
    "            companies.identifier,\n",
    "            company_deliveries.delivery_type,\n",
    "            company_deliveries.updated_at,\n",
    "            metrc_transfer_packages.package_id,\n",
    "            metrc_transfer_packages.package_label,\n",
    "            metrc_transfer_packages.shipped_quantity,\n",
    "            metrc_transfer_packages.shipper_wholesale_price,\n",
    "            metrc_transfers.shipper_facility_name,\n",
    "            metrc_transfers.shipper_facility_license_number,\n",
    "            metrc_deliveries.recipient_facility_name,\n",
    "            metrc_deliveries.recipient_facility_license_number,\n",
    "            metrc_transfer_packages.package_payload.*\n",
    "        from\n",
    "            metrc_transfer_packages\n",
    "            inner join metrc_deliveries on metrc_transfer_packages.delivery_row_id = metrc_deliveries.id\n",
    "            inner join metrc_transfers on metrc_deliveries.transfer_row_id = metrc_transfers.id\n",
    "            inner join company_deliveries on metrc_transfers.id = company_deliveries.transfer_row_id\n",
    "            inner join companies on company_deliveries.company_id = companies.id\n",
    "        where\n",
    "            True\n",
    "            and metrc_transfer_packages.package_id = '{package_id}'\n",
    "    \"\"\"\n",
    "\n",
    "transfer_packages_by_package_id_query = create_transfer_packages_by_package_id_query(\n",
    "    2213735)\n",
    "transfer_packages_by_package_id_dataframe = pandas.read_sql_query(transfer_packages_by_package_id_query, engine)\n",
    "transfer_packages_by_package_id_dataframe"
   ]
  },
  {
   "cell_type": "code",
   "execution_count": null,
   "id": "3c30352e-9bb8-45c9-92c4-e5e878a9e614",
   "metadata": {},
   "outputs": [],
   "source": [
    "transfer_packages_by_package_id_dataframe['receiverwholesaleprice']"
   ]
  },
  {
   "cell_type": "code",
   "execution_count": null,
   "id": "e1d7a231-a5cb-4f04-be6e-537f2088f61b",
   "metadata": {},
   "outputs": [],
   "source": [
    "transfer_packages_by_package_id_dataframe.iloc[0].array"
   ]
  },
  {
   "cell_type": "code",
   "execution_count": null,
   "id": "4e60f4d8-4e65-4c4c-b865-14d7551aece6",
   "metadata": {},
   "outputs": [],
   "source": [
    "transfer_packages_by_package_id_dataframe.columns"
   ]
  },
  {
   "cell_type": "code",
   "execution_count": null,
   "id": "ed3893b4-fa29-49de-84da-ea10a6ae15a5",
   "metadata": {},
   "outputs": [],
   "source": [
    "# Find packages in data warehouse by package_id.\n",
    "\n",
    "def create_packages_by_package_id_query(package_id):\n",
    "    return f\"\"\"\n",
    "        select\n",
    "            companies.identifier,\n",
    "            metrc_packages.package_id,\n",
    "            metrc_packages.package_label,\n",
    "            metrc_packages.quantity,\n",
    "            metrc_packages.package_payload.*\n",
    "        from\n",
    "            metrc_packages\n",
    "            inner join companies on metrc_packages.company_id = companies.id\n",
    "        where\n",
    "            True\n",
    "            and metrc_packages.package_id = '{package_id}'\n",
    "    \"\"\"\n",
    "\n",
    "packages_by_package_id_query = create_packages_by_package_id_query(17481729)\n",
    "packages_by_package_id_dataframe = pandas.read_sql_query(packages_by_package_id_query, engine)\n",
    "packages_by_package_id_dataframe"
   ]
  },
  {
   "cell_type": "code",
   "execution_count": null,
   "id": "57fff6ae-4e9e-4b40-9a2e-b9c032737e96",
   "metadata": {
    "tags": []
   },
   "outputs": [],
   "source": [
    "packages_by_package_id_dataframe.columns"
   ]
  },
  {
   "cell_type": "code",
   "execution_count": null,
   "id": "3f0852b3-815e-497c-950e-7490beb95cda",
   "metadata": {},
   "outputs": [],
   "source": [
    "from bespoke.metrc.common import metrc_common_util\n",
    "\n",
    "rest = metrc_common_util.get_rest_helper_for_debug(\n",
    "    us_state='MA',\n",
    "    license_number='MR281525'\n",
    ")"
   ]
  },
  {
   "cell_type": "code",
   "execution_count": null,
   "id": "543e3c37-b0a8-493d-a265-b05462601b14",
   "metadata": {},
   "outputs": [],
   "source": [
    "from dateutil import parser\n",
    "from datetime import timedelta\n",
    "\n",
    "start_date = parser.parse('2020/01/01').date()\n",
    "end_date = parser.parse('2020/01/01').date()\n",
    "\n",
    "cur_date = start_date\n",
    "\n",
    "while cur_date <= end_date:\n",
    "    cur_date_str = cur_date.strftime('%m/%d/%Y')\n",
    "    resp = rest.get('/transfers/v1/rejected', time_range=[cur_date_str])\n",
    "    transfers = json.loads(resp.content)\n",
    "    if len(transfers) > 0:\n",
    "        print('FOUND SOME')\n",
    "        break\n",
    "        \n",
    "    cur_date = cur_date + timedelta(days=1)\n",
    "    "
   ]
  },
  {
   "cell_type": "code",
   "execution_count": null,
   "id": "a7c4e2e6-5594-401c-aef3-e9600559586e",
   "metadata": {},
   "outputs": [],
   "source": [
    "resp = rest.get('/packages/v1/967657')"
   ]
  },
  {
   "cell_type": "code",
   "execution_count": null,
   "id": "6e2a02b1-0849-437a-a2cc-5199ca7de15f",
   "metadata": {},
   "outputs": [],
   "source": [
    "os.environ['JUPYTER_NOTEBOOK_METRC_API_KEY'] = ''"
   ]
  },
  {
   "cell_type": "code",
   "execution_count": null,
   "id": "792c100c-35d2-48c5-bdd9-43e61e9ca797",
   "metadata": {},
   "outputs": [],
   "source": [
    "os.environ['METRC_VENDOR_KEY_MA'] = ''"
   ]
  },
  {
   "cell_type": "code",
   "execution_count": null,
   "id": "c0ed2846-02c0-4d88-8bd0-7149b69a0269",
   "metadata": {},
   "outputs": [],
   "source": []
  }
 ],
 "metadata": {
  "kernelspec": {
   "display_name": "Python 3",
   "language": "python",
   "name": "python3"
  },
  "language_info": {
   "codemirror_mode": {
    "name": "ipython",
    "version": 3
   },
   "file_extension": ".py",
   "mimetype": "text/x-python",
   "name": "python",
   "nbconvert_exporter": "python",
   "pygments_lexer": "ipython3",
   "version": "3.7.7"
  }
 },
 "nbformat": 4,
 "nbformat_minor": 5
}
