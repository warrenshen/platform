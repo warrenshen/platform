{
 "cells": [
  {
   "cell_type": "code",
   "execution_count": 48,
   "id": "170c442e-f0fb-4421-a3bf-5f87863f8277",
   "metadata": {},
   "outputs": [
    {
     "name": "stdout",
     "output_type": "stream",
     "text": [
      "The autoreload extension is already loaded. To reload it, use:\n",
      "  %reload_ext autoreload\n"
     ]
    }
   ],
   "source": [
    "import json\n",
    "import os\n",
    "import numpy\n",
    "import pandas\n",
    "import sys\n",
    "import logging\n",
    "import importlib\n",
    "\n",
    "from datetime import date\n",
    "from os import path\n",
    "from dotenv import load_dotenv\n",
    "\n",
    "sys.path.append(path.realpath(path.join(os.getcwd(), \"../../src\")))\n",
    "\n",
    "from bespoke.inventory.analysis.shared import download_util\n",
    "from bespoke.inventory.analysis import active_inventory_util as util\n",
    "from bespoke.inventory.analysis import inventory_valuations_util as valuations_util\n",
    "from bespoke.inventory.analysis import inventory_cogs_util as cogs_util\n",
    "from bespoke.inventory.analysis import inventory_summary_util\n",
    "from bespoke.inventory.analysis import stale_inventory_util\n",
    "from bespoke.inventory.analysis.shared.inventory_types import (\n",
    "  AnalysisSummaryDict\n",
    ")\n",
    "\n",
    "load_dotenv(verbose=True)\n",
    "engine = download_util.get_bigquery_engine('bigquery://bespoke-financial/ProdMetrcData')\n",
    "\n",
    "logging.basicConfig(format='%(asctime)s [%(levelname)s] - %(message)s',\n",
    "                    datefmt='%m/%d/%Y %H:%M:%S',\n",
    "                    level=logging.INFO)\n",
    "\n",
    "def _reload_libs():\n",
    "    importlib.reload(util)\n",
    "    importlib.reload(valuations_util)\n",
    "    importlib.reload(download_util)\n",
    "    importlib.reload(stale_inventory_util)\n",
    "\n",
    "%load_ext autoreload\n",
    "%autoreload 2"
   ]
  },
  {
   "cell_type": "code",
   "execution_count": 49,
   "id": "fbfe06bc-cc79-41cc-814e-1d2166177496",
   "metadata": {},
   "outputs": [
    {
     "name": "stdout",
     "output_type": "stream",
     "text": [
      "Today is 2021-11-23\n"
     ]
    }
   ],
   "source": [
    "COMPANY_NAME = 'MPW'\n",
    "COMPANY_IDENTIFIER = 'MPW'\n",
    "LICENSE_NUMBERS = [] # ['MR281525'] # Manufacturer FYI - 'MP281397'\n",
    "TRANSFER_PACKAGES_START_DATE = '2019-01-01'\n",
    "SALES_TRANSACTIONS_START_DATE = '2019-01-01'\n",
    "ANALYSIS_PARAMS = {\n",
    "    'sold_threshold': 1.0,\n",
    "    'find_parent_child_relationships': False,\n",
    "    'use_prices_to_fill_missing_incoming': False,\n",
    "    'external_pricing_data_config': {\n",
    "        'category_to_fixed_prices': {\n",
    "            'Buds': {\n",
    "                'grams': 10.0\n",
    "            },\n",
    "            'Infused (edible)': {\n",
    "                'each': 4.0\n",
    "            },\n",
    "            'Infused (non-edible)': {\n",
    "                'each': 3.0\n",
    "            },\n",
    "            'Vape Product': {\n",
    "                'each': 3.0\n",
    "            },\n",
    "            'Concentrate (Bulk)': {\n",
    "                'grams': 6.0\n",
    "            },\n",
    "            'Concentrate': {\n",
    "                'grams': 7.0\n",
    "            },\n",
    "            'Raw Pre-Rolls': {\n",
    "                'grams': 7.0,\n",
    "                'pounds': 80.0\n",
    "            },\n",
    "            'Shake/Trim (by strain)': {\n",
    "                'grams': 8.0\n",
    "            }\n",
    "        }\n",
    "    },\n",
    "    'use_margin_estimate_config': False,\n",
    "    'margin_estimate_config': {\n",
    "        'category_to_margin_estimate': {\n",
    "            'Buds': 0.4267,\n",
    "            'Infused (edible)': 0.4953,\n",
    "            'Infused (non-edible)': 0.4183,\n",
    "            'Vape Product': 0.43,\n",
    "            'Concentrate (Bulk)': 0.46,\n",
    "            'Concentrate': 0.46,\n",
    "            'Raw Pre-Rolls': 0.485,\n",
    "            'Shake/Trim (by strain)': 0.4267\n",
    "        }\n",
    "    },\n",
    "    'cogs_analysis_params': {\n",
    "        'readjust_profit_threshold': 0.90, # 0.9\n",
    "        'readjust_type': 'adjust' # adjust, remove\n",
    "    }\n",
    "}\n",
    "TODAY_DATE = date.today()\n",
    "print('Today is {}'.format(TODAY_DATE))\n",
    "\n",
    "ctx = download_util.AnalysisContext(\n",
    "    output_root_dir=f'out/{COMPANY_NAME}',\n",
    "    read_params={\n",
    "        'use_cached_dataframes': False\n",
    "    },\n",
    "    write_params={\n",
    "        'save_download_dataframes': False\n",
    "    }\n",
    ")\n",
    "ctx.mkdir('reports')\n",
    "ctx.mkdir('download')\n",
    "with open(ctx.get_output_path('log.txt'), 'w') as f:\n",
    "    f.write('')"
   ]
  },
  {
   "cell_type": "code",
   "execution_count": 50,
   "id": "d9eccd84-a327-4299-8876-456c6c9f574c",
   "metadata": {},
   "outputs": [],
   "source": [
    "# Download packages, sales transactions, incoming / outgoing tranfers\n",
    "q = download_util.Query(\n",
    "    inventory_dates=[],\n",
    "    transfer_packages_start_date=TRANSFER_PACKAGES_START_DATE,\n",
    "    sales_transactions_start_date=SALES_TRANSACTIONS_START_DATE,\n",
    "    company_identifier=COMPANY_IDENTIFIER,\n",
    "    company_name=COMPANY_NAME,\n",
    "    license_numbers=LICENSE_NUMBERS\n",
    ")\n",
    "\n",
    "all_dataframes_dict = download_util.get_dataframes_for_analysis(\n",
    "    q, ctx, engine, dry_run=False)"
   ]
  },
  {
   "cell_type": "code",
   "execution_count": 51,
   "id": "c2af6220-2ebc-4447-a17e-0e3d9f3a7bbd",
   "metadata": {},
   "outputs": [],
   "source": [
    "_reload_libs()\n",
    "\n",
    "q.inventory_dates = download_util.get_inventory_dates(\n",
    "    all_dataframes_dict, TODAY_DATE)\n",
    "d = util.Download()\n",
    "sql_helper = util.BigQuerySQLHelper(ctx, engine)\n",
    "d.download_dataframes(\n",
    "    all_dataframes_dict=all_dataframes_dict,\n",
    "    sql_helper=sql_helper\n",
    ")"
   ]
  },
  {
   "cell_type": "code",
   "execution_count": 52,
   "id": "5fbbbfe7-87c0-4409-9e6a-b6dc2b63ce54",
   "metadata": {
    "tags": []
   },
   "outputs": [
    {
     "name": "stdout",
     "output_type": "stream",
     "text": [
      "Only outgoing: 0\n",
      "Only incoming: 1894\n",
      "Sold packages missing incoming_pkg: 1002 (6.84% of packages)\n",
      "Incoming packages missing price 108 (0.79% of incoming packages)\n",
      "In and out: 4\n",
      "In and sold at least once 11713\n",
      "In and sold many times 10055\n",
      "\n",
      " Num parent packages: 0\n",
      " num matched child packages: 0\n",
      "Total pkgs: 14659\n"
     ]
    },
    {
     "name": "stderr",
     "output_type": "stream",
     "text": [
      "11/23/2021 10:18:49 [INFO] - Wrote result to out/MPW/reports/MPW_computed_inventory_by_month.xls\n",
      "11/23/2021 10:18:53 [INFO] - Wrote result to out/MPW/reports/MPW_current_inventory.xls\n"
     ]
    },
    {
     "name": "stdout",
     "output_type": "stream",
     "text": [
      "\n",
      "\n",
      "Excluded 1284 / 14659 packages from consideration (8.76%)\n",
      "  OUT_OF_ORDER_DATES: 129 times\n",
      "  INCOMING_MISSING_PRICE: 105 times\n",
      "  MISSING_INCOMING: 1050 times\n"
     ]
    }
   ],
   "source": [
    "_reload_libs()\n",
    "\n",
    "id_to_history = util.get_histories(d, ANALYSIS_PARAMS)\n",
    "util.print_counts(ctx, id_to_history)\n",
    "counts_analysis_dict = util.create_inventory_xlsx(\n",
    "    d, ctx, id_to_history, q, params=ANALYSIS_PARAMS)"
   ]
  },
  {
   "cell_type": "code",
   "execution_count": 21,
   "id": "4de368e2-44ab-4885-86d2-54b989f091f2",
   "metadata": {
    "tags": []
   },
   "outputs": [
    {
     "name": "stderr",
     "output_type": "stream",
     "text": [
      "11/20/2021 13:11:37 [INFO] - On 06/30/2020 # packages in inventory: 49, valuation cost: 83699.64\n",
      "11/20/2021 13:11:38 [INFO] - On 07/31/2020 # packages in inventory: 81, valuation cost: 87629.72\n",
      "11/20/2021 13:11:38 [INFO] - On 08/31/2020 # packages in inventory: 74, valuation cost: 38127.67\n",
      "11/20/2021 13:11:38 [INFO] - On 09/30/2020 # packages in inventory: 73, valuation cost: 21499.65\n",
      "11/20/2021 13:11:39 [INFO] - On 10/31/2020 # packages in inventory: 80, valuation cost: 16601.2\n",
      "11/20/2021 13:11:39 [INFO] - On 11/30/2020 # packages in inventory: 85, valuation cost: 41547.72\n",
      "11/20/2021 13:11:40 [INFO] - On 12/31/2020 # packages in inventory: 71, valuation cost: 45546.44\n",
      "11/20/2021 13:11:40 [INFO] - On 01/31/2021 # packages in inventory: 105, valuation cost: 60836.04\n",
      "11/20/2021 13:11:40 [INFO] - On 02/28/2021 # packages in inventory: 125, valuation cost: 50384.83\n",
      "11/20/2021 13:11:41 [INFO] - On 03/31/2021 # packages in inventory: 136, valuation cost: 40689.75\n",
      "11/20/2021 13:11:41 [INFO] - On 04/30/2021 # packages in inventory: 157, valuation cost: 33176.8\n",
      "11/20/2021 13:11:42 [INFO] - On 05/31/2021 # packages in inventory: 170, valuation cost: 23810.34\n",
      "11/20/2021 13:11:42 [INFO] - On 06/30/2021 # packages in inventory: 202, valuation cost: 49622.93\n",
      "11/20/2021 13:11:43 [INFO] - On 07/31/2021 # packages in inventory: 182, valuation cost: 39759.92\n",
      "11/20/2021 13:11:43 [INFO] - On 08/31/2021 # packages in inventory: 194, valuation cost: 42751.91\n",
      "11/20/2021 13:11:43 [INFO] - On 09/30/2021 # packages in inventory: 197, valuation cost: 83256.2\n",
      "11/20/2021 13:11:44 [INFO] - On 10/31/2021 # packages in inventory: 197, valuation cost: 70049.13\n",
      "11/20/2021 13:11:44 [INFO] - On 11/20/2021 # packages in inventory: 219, valuation cost: 82230.41\n"
     ]
    },
    {
     "name": "stdout",
     "output_type": "stream",
     "text": [
      "\n",
      "Pct of # inventory matching: 99.11% (223 / 225)\n",
      "Accuracy of quantities for matching packages: 86.43%\n",
      "Pct of # inventory packages over-estimated: 0.00%\n",
      "Pct of # quantity over-estimated: 0.00%\n",
      "Avg quantity delta of matching packages: 8.54\n",
      "Avg quantity of matching packages: 62.94\n",
      "\n",
      "Num matching packages: 223\n",
      "Num actual packages not computed: 2\n",
      "  but computed at some point: 0, e.g., 0.00% of non-computed packages\n",
      "  avg quantity from actual packages 0.00\n",
      "Num computed packages not in actual: 0\n",
      "  but in actual inventory at some point: 0\n",
      "\n",
      "Computed has these extra package IDs; first 10\n",
      "\n",
      "Computed is missing these package IDs; first 10\n",
      "2981217: actual quantity 200.0 (Grams) of Buds\n",
      "2842719: actual quantity 169.0 (Grams) of Raw Pre-Rolls\n",
      "\n",
      "Largest delta in quantities; first 10\n",
      "Delta 1005.00 for package_id 2484577\n",
      "Delta 862.70 for package_id 2550280\n",
      "Delta 10.00 for package_id 767702\n",
      "Delta 10.00 for package_id 767807\n",
      "Delta 7.00 for package_id 2603622\n",
      "Delta 3.50 for package_id 2474547\n",
      "Delta 1.00 for package_id 1392838\n",
      "Delta 1.00 for package_id 1754444\n",
      "Delta 1.00 for package_id 2098879\n",
      "Delta 1.00 for package_id 2113105\n",
      "Delta 1.00 for package_id 2404449\n"
     ]
    }
   ],
   "source": [
    "_reload_libs()\n",
    "\n",
    "   \n",
    "computed_resp = util.compute_inventory_across_dates(\n",
    "    d, q.inventory_dates, ANALYSIS_PARAMS, using_nb=True\n",
    ")\n",
    "\n",
    "today_date_str = TODAY_DATE.strftime('%m/%d/%Y')\n",
    "#INVENTORY_DATES = [today_date_str]\n",
    "compare_inventory_res = util.compare_computed_vs_actual_inventory(\n",
    "    ctx=ctx,\n",
    "    computed=computed_resp['date_to_computed_inventory_dataframe'][today_date_str],\n",
    "    actual=d.inventory_packages_dataframe,\n",
    "    compare_options={\n",
    "        'num_errors_to_show': 10,\n",
    "        'accept_computed_when_sold_out': True\n",
    "    }\n",
    ")\n"
   ]
  },
  {
   "cell_type": "code",
   "execution_count": 13,
   "id": "048bdebf-b1a9-4340-bef0-3171525a4007",
   "metadata": {},
   "outputs": [
    {
     "name": "stderr",
     "output_type": "stream",
     "text": [
      "11/20/2021 12:53:54 [INFO] - Wrote result to out/reports/BBF_cogs_summary.xls\n",
      "11/20/2021 12:53:54 [INFO] - Wrote result to out/BBF_analysis_summary.xls\n"
     ]
    }
   ],
   "source": [
    "_reload_libs()\n",
    "\n",
    "# Do the COGS summary too\n",
    "#  debug_package_id='1791802',\n",
    "#  debug_profit_threshold=0.9\n",
    "\n",
    "cogs_summary = cogs_util.create_cogs_summary(\n",
    "    d, ctx, id_to_history, ANALYSIS_PARAMS, \n",
    ")\n",
    "\n",
    "cogs_util.write_cogs_xlsx(\n",
    "    ctx=ctx,\n",
    "    topdown_cogs_rows=cogs_summary['topdown_cogs_rows'], \n",
    "    bottoms_up_cogs_rows=cogs_summary['bottomsup_cogs_rows'],\n",
    "    company_name=COMPANY_NAME\n",
    ")\n",
    "\n",
    "analysis_summary = AnalysisSummaryDict(\n",
    "    company_name=q.company_name,\n",
    "    company_identifier=q.company_identifier,\n",
    "    analysis_params=ANALYSIS_PARAMS,\n",
    "    counts_analysis=counts_analysis_dict,\n",
    "    compare_inventory_results=compare_inventory_res,\n",
    "    cogs_summary=cogs_summary\n",
    ")\n",
    "inventory_summary_util.write_excel_for_summaries([analysis_summary])"
   ]
  },
  {
   "cell_type": "code",
   "execution_count": 53,
   "id": "0f196a7a-aee3-4f29-837e-c27eb16a0ecc",
   "metadata": {},
   "outputs": [
    {
     "name": "stderr",
     "output_type": "stream",
     "text": [
      "11/23/2021 10:19:02 [INFO] - Unknown shelf life for product category Capsule (weight - each)\n",
      "11/23/2021 10:19:02 [INFO] - Unknown shelf life for product category Capsule (weight - each)\n",
      "11/23/2021 10:19:02 [INFO] - Unknown shelf life for product category Capsule (weight - each)\n",
      "11/23/2021 10:19:02 [INFO] - Unknown shelf life for product category Capsule (weight - each)\n",
      "11/23/2021 10:19:02 [INFO] - Unknown shelf life for product category Seeds (each)\n",
      "11/23/2021 10:19:02 [INFO] - Unknown shelf life for product category Seeds (each)\n",
      "11/23/2021 10:19:02 [INFO] - Unknown shelf life for product category Seeds (each)\n",
      "11/23/2021 10:19:02 [INFO] - Unknown shelf life for product category Seeds (each)\n",
      "11/23/2021 10:19:02 [INFO] - Unknown shelf life for product category Seeds (each)\n",
      "11/23/2021 10:19:02 [INFO] - Unknown shelf life for product category Seeds (each)\n",
      "11/23/2021 10:19:02 [INFO] - Unknown shelf life for product category Seeds (each)\n",
      "11/23/2021 10:19:02 [INFO] - Unknown shelf life for product category Seeds (each)\n",
      "11/23/2021 10:19:02 [INFO] - Unknown shelf life for product category Seeds (each)\n",
      "11/23/2021 10:19:02 [INFO] - Unknown shelf life for product category Seeds (each)\n",
      "11/23/2021 10:19:02 [INFO] - Unknown shelf life for product category Seeds (each)\n",
      "11/23/2021 10:19:02 [INFO] - Unknown shelf life for product category Seeds (each)\n",
      "11/23/2021 10:19:02 [INFO] - Unknown shelf life for product category Seeds (each)\n",
      "11/23/2021 10:19:02 [INFO] - Unknown shelf life for product category Seeds (each)\n",
      "11/23/2021 10:19:02 [INFO] - Unknown shelf life for product category Seeds (each)\n",
      "11/23/2021 10:19:02 [INFO] - Unknown shelf life for product category Seeds (each)\n",
      "11/23/2021 10:19:02 [INFO] - Unknown shelf life for product category Capsule (weight - each)\n",
      "11/23/2021 10:19:02 [INFO] - Unknown shelf life for product category Capsule (weight - each)\n",
      "11/23/2021 10:19:02 [INFO] - Unknown shelf life for product category Capsule (weight - each)\n",
      "11/23/2021 10:19:02 [INFO] - Unknown shelf life for product category Capsule (weight - each)\n",
      "11/23/2021 10:19:02 [INFO] - Unknown shelf life for product category Capsule (weight - each)\n",
      "11/23/2021 10:19:02 [INFO] - Unknown shelf life for product category Capsule (weight - each)\n",
      "11/23/2021 10:19:02 [INFO] - Unknown shelf life for product category Capsule (weight - each)\n",
      "11/23/2021 10:19:02 [INFO] - Unknown shelf life for product category Capsule (weight - each)\n",
      "11/23/2021 10:19:02 [INFO] - Unknown shelf life for product category Capsule (weight - each)\n",
      "11/23/2021 10:19:02 [INFO] - Unknown shelf life for product category Capsule (weight - each)\n",
      "11/23/2021 10:19:02 [INFO] - Unknown shelf life for product category Capsule (weight - each)\n",
      "11/23/2021 10:19:02 [INFO] - Unknown shelf life for product category Capsule (weight - each)\n",
      "11/23/2021 10:19:02 [INFO] - Unknown shelf life for product category Capsule (weight - each)\n",
      "11/23/2021 10:19:02 [INFO] - Unknown shelf life for product category Capsule (weight - each)\n",
      "11/23/2021 10:19:02 [INFO] - Unknown shelf life for product category Capsule (weight - each)\n",
      "11/23/2021 10:19:02 [INFO] - Unknown shelf life for product category Capsule (weight - each)\n",
      "11/23/2021 10:19:02 [INFO] - Unknown shelf life for product category Capsule (weight - each)\n",
      "11/23/2021 10:19:02 [INFO] - Unknown shelf life for product category Capsule (weight - each)\n",
      "11/23/2021 10:19:02 [INFO] - Unknown shelf life for product category Capsule (weight - each)\n",
      "11/23/2021 10:19:02 [INFO] - Unknown shelf life for product category Capsule (weight - each)\n",
      "11/23/2021 10:19:02 [INFO] - Unknown shelf life for product category Capsule (weight - each)\n",
      "11/23/2021 10:19:02 [INFO] - Unknown shelf life for product category Capsule (weight - each)\n",
      "11/23/2021 10:19:02 [INFO] - Unknown shelf life for product category Capsule (weight - each)\n",
      "11/23/2021 10:19:02 [INFO] - Unknown shelf life for product category Capsule (weight - each)\n",
      "11/23/2021 10:19:02 [INFO] - Unknown shelf life for product category Capsule (weight - each)\n",
      "11/23/2021 10:19:02 [INFO] - Unknown shelf life for product category Capsule (weight - each)\n",
      "11/23/2021 10:19:02 [INFO] - Unknown shelf life for product category Capsule (weight - each)\n",
      "11/23/2021 10:19:02 [INFO] - Unknown shelf life for product category Capsule (weight - each)\n",
      "11/23/2021 10:19:02 [INFO] - Unknown shelf life for product category Capsule (weight - each)\n",
      "11/23/2021 10:19:02 [INFO] - Unknown shelf life for product category Capsule (weight - each)\n",
      "11/23/2021 10:19:02 [INFO] - Unknown shelf life for product category Seeds (each)\n",
      "11/23/2021 10:19:02 [INFO] - Unknown shelf life for product category Seeds (each)\n",
      "11/23/2021 10:19:02 [INFO] - Unknown shelf life for product category Capsule (weight - each)\n",
      "11/23/2021 10:19:02 [INFO] - Unknown shelf life for product category Seeds (each)\n",
      "11/23/2021 10:19:02 [INFO] - Unknown shelf life for product category Seeds (each)\n",
      "11/23/2021 10:19:02 [INFO] - Unknown shelf life for product category Seeds (each)\n",
      "11/23/2021 10:19:02 [INFO] - Unknown shelf life for product category Seeds (each)\n",
      "11/23/2021 10:19:02 [INFO] - Unknown shelf life for product category Seeds (each)\n",
      "11/23/2021 10:19:02 [INFO] - Unknown shelf life for product category Seeds (each)\n",
      "11/23/2021 10:19:02 [INFO] - Unknown shelf life for product category Seeds (each)\n",
      "11/23/2021 10:19:02 [INFO] - Unknown shelf life for product category Seeds (each)\n",
      "11/23/2021 10:19:02 [INFO] - Unknown shelf life for product category Seeds (each)\n",
      "11/23/2021 10:19:02 [INFO] - Unknown shelf life for product category Seeds (each)\n",
      "11/23/2021 10:19:02 [INFO] - Unknown shelf life for product category Seeds (each)\n",
      "11/23/2021 10:19:02 [INFO] - Unknown shelf life for product category Seeds (each)\n",
      "11/23/2021 10:19:02 [INFO] - Unknown shelf life for product category Seeds (each)\n",
      "11/23/2021 10:19:02 [INFO] - Unknown shelf life for product category Seeds (each)\n",
      "11/23/2021 10:19:02 [INFO] - Unknown shelf life for product category Seeds (each)\n",
      "11/23/2021 10:19:02 [INFO] - Unknown shelf life for product category Seeds (each)\n",
      "11/23/2021 10:19:02 [INFO] - Unknown shelf life for product category Seeds (each)\n",
      "11/23/2021 10:19:02 [INFO] - Unknown shelf life for product category Seeds (each)\n",
      "11/23/2021 10:19:02 [INFO] - Unknown shelf life for product category Capsule (weight - each)\n"
     ]
    },
    {
     "name": "stdout",
     "output_type": "stream",
     "text": [
      "Got an invalid quantity Product Vape Cartridge (weight - each) -1.0\n",
      "Got an unexpected package type ImmaturePlant Clone - Cutting 0.0\n",
      "Got an unexpected package type ImmaturePlant Clone - Cutting -1.0\n",
      "Got an unexpected package type ImmaturePlant Clone - Cutting 0.0\n",
      "Got an unexpected package type ImmaturePlant Clone - Cutting 0.0\n",
      "Got an unexpected package type ImmaturePlant Clone - Cutting 0.0\n",
      "Got an unexpected package type ImmaturePlant Clone - Cutting 0.0\n",
      "Got an unexpected package type ImmaturePlant Clone - Cutting 0.0\n",
      "Got an unexpected package type ImmaturePlant Clone - Cutting 0.0\n",
      "Got an unexpected package type ImmaturePlant Clone - Cutting 0.0\n",
      "Got an unexpected package type ImmaturePlant Clone - Cutting 0.0\n",
      "Got an unexpected package type ImmaturePlant Clone - Cutting 0.0\n",
      "Got an unexpected package type ImmaturePlant Clone - Cutting 0.0\n",
      "Got an unexpected package type ImmaturePlant Clone - Cutting 0.0\n",
      "Got an unexpected package type ImmaturePlant Clone - Cutting 0.0\n",
      "Got an unexpected package type ImmaturePlant Clone - Cutting 0.0\n",
      "Got an unexpected package type ImmaturePlant Clone - Cutting 0.0\n",
      "Got an unexpected package type ImmaturePlant Clone - Cutting 0.0\n",
      "Got an unexpected package type ImmaturePlant Clone - Cutting 0.0\n",
      "Got an unexpected package type ImmaturePlant Clone - Cutting 0.0\n",
      "Got an unexpected package type ImmaturePlant Clone - Cutting 0.0\n",
      "Got an unexpected package type ImmaturePlant Clone - Cutting 0.0\n",
      "Got an unexpected package type ImmaturePlant Clone - Cutting 0.0\n",
      "Got an unexpected package type ImmaturePlant Clone - Cutting 0.0\n",
      "Got an unexpected package type ImmaturePlant Clone - Cutting 0.0\n",
      "Got an unexpected package type ImmaturePlant Clone - Cutting 0.0\n",
      "Got an unexpected package type ImmaturePlant Clone - Cutting 0.0\n",
      "Got an unexpected package type ImmaturePlant Clone - Cutting 0.0\n",
      "Got an unexpected package type ImmaturePlant Clone - Cutting 0.0\n",
      "Got an unexpected package type ImmaturePlant Clone - Cutting 0.0\n",
      "Got an unexpected package type ImmaturePlant Clone - Cutting 0.0\n",
      "Got an unexpected package type ImmaturePlant Clone - Cutting 0.0\n",
      "Got an unexpected package type ImmaturePlant Clone - Cutting 0.0\n",
      "Got an unexpected package type ImmaturePlant Clone - Cutting 0.0\n",
      "Got an unexpected package type ImmaturePlant Clone - Cutting 0.0\n",
      "Got an unexpected package type ImmaturePlant Clone - Cutting 0.0\n",
      "Got an unexpected package type ImmaturePlant Clone - Cutting 0.0\n",
      "Got an unexpected package type ImmaturePlant Clone - Cutting 0.0\n",
      "Got an unexpected package type ImmaturePlant Clone - Cutting 0.0\n",
      "Got an unexpected package type ImmaturePlant Clone - Cutting 0.0\n",
      "Got an unexpected package type ImmaturePlant Clone - Cutting 0.0\n",
      "Got an unexpected package type ImmaturePlant Clone - Cutting 0.0\n",
      "Got an unexpected package type ImmaturePlant Clone - Cutting 0.0\n",
      "Got an unexpected package type ImmaturePlant Clone - Cutting 0.0\n",
      "Got an unexpected package type ImmaturePlant Clone - Cutting 0.0\n",
      "Got an unexpected package type ImmaturePlant Clone - Cutting 0.0\n",
      "Got an unexpected package type ImmaturePlant Clone - Cutting 0.0\n",
      "Got an unexpected package type ImmaturePlant Clone - Cutting 0.0\n",
      "Got an unexpected package type ImmaturePlant Clone - Cutting 0.0\n",
      "Got an unexpected package type ImmaturePlant Clone - Cutting 0.0\n",
      "Got an unexpected package type ImmaturePlant Clone - Cutting 0.0\n",
      "Got an unexpected package type ImmaturePlant Clone - Cutting 0.0\n",
      "Got an unexpected package type ImmaturePlant Clone - Cutting 0.0\n",
      "Got an unexpected package type ImmaturePlant Clone - Cutting 0.0\n",
      "Got an unexpected package type ImmaturePlant Clone - Cutting 0.0\n",
      "Got an unexpected package type ImmaturePlant Clone - Cutting 0.0\n",
      "Got an unexpected package type ImmaturePlant Clone - Cutting 0.0\n",
      "Got an unexpected package type ImmaturePlant Clone - Cutting 0.0\n",
      "Got an unexpected package type ImmaturePlant Clone - Cutting 0.0\n",
      "Got an unexpected package type ImmaturePlant Clone - Cutting 0.0\n",
      "Got an unexpected package type ImmaturePlant Clone - Cutting 0.0\n",
      "Got an unexpected package type ImmaturePlant Clone - Cutting 0.0\n",
      "Got an unexpected package type ImmaturePlant Clone - Cutting 0.0\n",
      "Got an unexpected package type ImmaturePlant Clone - Cutting 0.0\n",
      "Got an unexpected package type ImmaturePlant Clone - Cutting 0.0\n",
      "Got an unexpected package type ImmaturePlant Clone - Cutting 0.0\n",
      "Got an unexpected package type ImmaturePlant Clone - Cutting 0.0\n",
      "Got an unexpected package type ImmaturePlant Clone - Cutting 0.0\n",
      "Got an unexpected package type ImmaturePlant Clone - Cutting 0.0\n",
      "Got an unexpected package type ImmaturePlant Clone - Cutting 0.0\n",
      "Got an unexpected package type ImmaturePlant Clone - Cutting 0.0\n",
      "Got an unexpected package type ImmaturePlant Clone - Cutting 0.0\n",
      "Got an unexpected package type ImmaturePlant Clone - Cutting 0.0\n",
      "Got an unexpected package type ImmaturePlant Clone - Cutting 0.0\n",
      "Got an unexpected package type ImmaturePlant Clone - Cutting 0.0\n",
      "Got an unexpected package type ImmaturePlant Clone - Cutting 0.0\n",
      "Got an unexpected package type ImmaturePlant Immature Plant 0.0\n",
      "Got an unexpected package type ImmaturePlant Immature Plant 0.0\n",
      "Got an unexpected package type ImmaturePlant Immature Plant 0.0\n",
      "Got an unexpected package type ImmaturePlant Immature Plant 0.0\n",
      "Got an unexpected package type ImmaturePlant Immature Plant 0.0\n",
      "Got an unexpected package type ImmaturePlant Immature Plant 0.0\n",
      "Got an unexpected package type ImmaturePlant Immature Plant 0.0\n",
      "Got an unexpected package type ImmaturePlant Immature Plant 0.0\n"
     ]
    },
    {
     "name": "stderr",
     "output_type": "stream",
     "text": [
      "/Users/davidlluncor/GitHub/platform/services/api-server/src/bespoke/inventory/analysis/stale_inventory_util.py:67: UserWarning: Boolean Series key will be reindexed to match DataFrame index.\n",
      "  (d.incoming_transfer_packages_dataframe['shipper_wholesale_price'] != 0.01) | (d.incoming_transfer_packages_dataframe['shipped_quantity'] != 1)\n"
     ]
    },
    {
     "name": "stdout",
     "output_type": "stream",
     "text": [
      "\n",
      "# packages stale: 3800 (26.696641843473373%)\n",
      "# packages unknown: 72 (0.5058311086131797%)\n",
      "# packages fresh: 10362 (72.79752704791345%)\n",
      "# packages total: 14234\n",
      "\n",
      "# units stale: 6086.040000000001 (10.159808090065454%)\n",
      "# units unknown: 178.0 (0.29714655835841547%)\n",
      "# units fresh: 53639.06000000001 (89.54304535157614%)\n",
      "# units total: 59903.10000000001\n"
     ]
    },
    {
     "ename": "KeyError",
     "evalue": "\"['shipper_facility', 'sales_month', 'sales_date'] not in index\"",
     "output_type": "error",
     "traceback": [
      "\u001b[0;31m---------------------------------------------------------------------------\u001b[0m",
      "\u001b[0;31mKeyError\u001b[0m                                  Traceback (most recent call last)",
      "\u001b[0;32m<ipython-input-53-0ad858d676ce>\u001b[0m in \u001b[0;36m<module>\u001b[0;34m\u001b[0m\n\u001b[1;32m      2\u001b[0m \u001b[0;34m\u001b[0m\u001b[0m\n\u001b[1;32m      3\u001b[0m \u001b[0m_reload_libs\u001b[0m\u001b[0;34m(\u001b[0m\u001b[0;34m)\u001b[0m\u001b[0;34m\u001b[0m\u001b[0;34m\u001b[0m\u001b[0m\n\u001b[0;32m----> 4\u001b[0;31m \u001b[0mstale_inventory_util\u001b[0m\u001b[0;34m.\u001b[0m\u001b[0mcompute_stale_inventory\u001b[0m\u001b[0;34m(\u001b[0m\u001b[0md\u001b[0m\u001b[0;34m,\u001b[0m \u001b[0mctx\u001b[0m\u001b[0;34m)\u001b[0m\u001b[0;34m\u001b[0m\u001b[0;34m\u001b[0m\u001b[0m\n\u001b[0m",
      "\u001b[0;32m~/GitHub/platform/services/api-server/src/bespoke/inventory/analysis/stale_inventory_util.py\u001b[0m in \u001b[0;36mcompute_stale_inventory\u001b[0;34m(d, ctx)\u001b[0m\n\u001b[1;32m    254\u001b[0m         \u001b[0mprint\u001b[0m\u001b[0;34m(\u001b[0m\u001b[0;34m'\\n'\u001b[0m\u001b[0;34m.\u001b[0m\u001b[0mjoin\u001b[0m\u001b[0;34m(\u001b[0m\u001b[0mlines\u001b[0m\u001b[0;34m)\u001b[0m\u001b[0;34m)\u001b[0m\u001b[0;34m\u001b[0m\u001b[0;34m\u001b[0m\u001b[0m\n\u001b[1;32m    255\u001b[0m \u001b[0;34m\u001b[0m\u001b[0m\n\u001b[0;32m--> 256\u001b[0;31m         \u001b[0m_write_products_by_profit\u001b[0m\u001b[0;34m(\u001b[0m\u001b[0md\u001b[0m\u001b[0;34m,\u001b[0m \u001b[0mctx\u001b[0m\u001b[0;34m)\u001b[0m\u001b[0;34m\u001b[0m\u001b[0;34m\u001b[0m\u001b[0m\n\u001b[0m",
      "\u001b[0;32m~/GitHub/platform/services/api-server/src/bespoke/inventory/analysis/stale_inventory_util.py\u001b[0m in \u001b[0;36m_write_products_by_profit\u001b[0;34m(d, ctx)\u001b[0m\n\u001b[1;32m    104\u001b[0m                         \u001b[0;34m'tx_unit_of_measure'\u001b[0m\u001b[0;34m,\u001b[0m\u001b[0;34m\u001b[0m\u001b[0;34m\u001b[0m\u001b[0m\n\u001b[1;32m    105\u001b[0m                         \u001b[0;34m'tx_quantity_sold'\u001b[0m\u001b[0;34m,\u001b[0m\u001b[0;34m\u001b[0m\u001b[0;34m\u001b[0m\u001b[0m\n\u001b[0;32m--> 106\u001b[0;31m                         \u001b[0;34m'tx_total_price'\u001b[0m\u001b[0;34m,\u001b[0m\u001b[0;34m\u001b[0m\u001b[0;34m\u001b[0m\u001b[0m\n\u001b[0m\u001b[1;32m    107\u001b[0m \t]]\n\u001b[1;32m    108\u001b[0m \u001b[0;34m\u001b[0m\u001b[0m\n",
      "\u001b[0;32m~/GitHub/venvs/bespoke/lib/python3.7/site-packages/pandas/core/frame.py\u001b[0m in \u001b[0;36m__getitem__\u001b[0;34m(self, key)\u001b[0m\n\u001b[1;32m   3459\u001b[0m             \u001b[0;32mif\u001b[0m \u001b[0mis_iterator\u001b[0m\u001b[0;34m(\u001b[0m\u001b[0mkey\u001b[0m\u001b[0;34m)\u001b[0m\u001b[0;34m:\u001b[0m\u001b[0;34m\u001b[0m\u001b[0;34m\u001b[0m\u001b[0m\n\u001b[1;32m   3460\u001b[0m                 \u001b[0mkey\u001b[0m \u001b[0;34m=\u001b[0m \u001b[0mlist\u001b[0m\u001b[0;34m(\u001b[0m\u001b[0mkey\u001b[0m\u001b[0;34m)\u001b[0m\u001b[0;34m\u001b[0m\u001b[0;34m\u001b[0m\u001b[0m\n\u001b[0;32m-> 3461\u001b[0;31m             \u001b[0mindexer\u001b[0m \u001b[0;34m=\u001b[0m \u001b[0mself\u001b[0m\u001b[0;34m.\u001b[0m\u001b[0mloc\u001b[0m\u001b[0;34m.\u001b[0m\u001b[0m_get_listlike_indexer\u001b[0m\u001b[0;34m(\u001b[0m\u001b[0mkey\u001b[0m\u001b[0;34m,\u001b[0m \u001b[0maxis\u001b[0m\u001b[0;34m=\u001b[0m\u001b[0;36m1\u001b[0m\u001b[0;34m)\u001b[0m\u001b[0;34m[\u001b[0m\u001b[0;36m1\u001b[0m\u001b[0;34m]\u001b[0m\u001b[0;34m\u001b[0m\u001b[0;34m\u001b[0m\u001b[0m\n\u001b[0m\u001b[1;32m   3462\u001b[0m \u001b[0;34m\u001b[0m\u001b[0m\n\u001b[1;32m   3463\u001b[0m         \u001b[0;31m# take() does not accept boolean indexers\u001b[0m\u001b[0;34m\u001b[0m\u001b[0;34m\u001b[0m\u001b[0;34m\u001b[0m\u001b[0m\n",
      "\u001b[0;32m~/GitHub/venvs/bespoke/lib/python3.7/site-packages/pandas/core/indexing.py\u001b[0m in \u001b[0;36m_get_listlike_indexer\u001b[0;34m(self, key, axis)\u001b[0m\n\u001b[1;32m   1312\u001b[0m             \u001b[0mkeyarr\u001b[0m\u001b[0;34m,\u001b[0m \u001b[0mindexer\u001b[0m\u001b[0;34m,\u001b[0m \u001b[0mnew_indexer\u001b[0m \u001b[0;34m=\u001b[0m \u001b[0max\u001b[0m\u001b[0;34m.\u001b[0m\u001b[0m_reindex_non_unique\u001b[0m\u001b[0;34m(\u001b[0m\u001b[0mkeyarr\u001b[0m\u001b[0;34m)\u001b[0m\u001b[0;34m\u001b[0m\u001b[0;34m\u001b[0m\u001b[0m\n\u001b[1;32m   1313\u001b[0m \u001b[0;34m\u001b[0m\u001b[0m\n\u001b[0;32m-> 1314\u001b[0;31m         \u001b[0mself\u001b[0m\u001b[0;34m.\u001b[0m\u001b[0m_validate_read_indexer\u001b[0m\u001b[0;34m(\u001b[0m\u001b[0mkeyarr\u001b[0m\u001b[0;34m,\u001b[0m \u001b[0mindexer\u001b[0m\u001b[0;34m,\u001b[0m \u001b[0maxis\u001b[0m\u001b[0;34m)\u001b[0m\u001b[0;34m\u001b[0m\u001b[0;34m\u001b[0m\u001b[0m\n\u001b[0m\u001b[1;32m   1315\u001b[0m \u001b[0;34m\u001b[0m\u001b[0m\n\u001b[1;32m   1316\u001b[0m         if needs_i8_conversion(ax.dtype) or isinstance(\n",
      "\u001b[0;32m~/GitHub/venvs/bespoke/lib/python3.7/site-packages/pandas/core/indexing.py\u001b[0m in \u001b[0;36m_validate_read_indexer\u001b[0;34m(self, key, indexer, axis)\u001b[0m\n\u001b[1;32m   1375\u001b[0m \u001b[0;34m\u001b[0m\u001b[0m\n\u001b[1;32m   1376\u001b[0m             \u001b[0mnot_found\u001b[0m \u001b[0;34m=\u001b[0m \u001b[0mlist\u001b[0m\u001b[0;34m(\u001b[0m\u001b[0mensure_index\u001b[0m\u001b[0;34m(\u001b[0m\u001b[0mkey\u001b[0m\u001b[0;34m)\u001b[0m\u001b[0;34m[\u001b[0m\u001b[0mmissing_mask\u001b[0m\u001b[0;34m.\u001b[0m\u001b[0mnonzero\u001b[0m\u001b[0;34m(\u001b[0m\u001b[0;34m)\u001b[0m\u001b[0;34m[\u001b[0m\u001b[0;36m0\u001b[0m\u001b[0;34m]\u001b[0m\u001b[0;34m]\u001b[0m\u001b[0;34m.\u001b[0m\u001b[0munique\u001b[0m\u001b[0;34m(\u001b[0m\u001b[0;34m)\u001b[0m\u001b[0;34m)\u001b[0m\u001b[0;34m\u001b[0m\u001b[0;34m\u001b[0m\u001b[0m\n\u001b[0;32m-> 1377\u001b[0;31m             \u001b[0;32mraise\u001b[0m \u001b[0mKeyError\u001b[0m\u001b[0;34m(\u001b[0m\u001b[0;34mf\"{not_found} not in index\"\u001b[0m\u001b[0;34m)\u001b[0m\u001b[0;34m\u001b[0m\u001b[0;34m\u001b[0m\u001b[0m\n\u001b[0m\u001b[1;32m   1378\u001b[0m \u001b[0;34m\u001b[0m\u001b[0m\n\u001b[1;32m   1379\u001b[0m \u001b[0;34m\u001b[0m\u001b[0m\n",
      "\u001b[0;31mKeyError\u001b[0m: \"['shipper_facility', 'sales_month', 'sales_date'] not in index\""
     ]
    }
   ],
   "source": [
    "# Stale inventory\n",
    "\n",
    "_reload_libs()\n",
    "stale_inventory_util.compute_stale_inventory(d, ctx)"
   ]
  },
  {
   "cell_type": "code",
   "execution_count": 27,
   "id": "6cfd4d4e-ec3f-403a-96bf-31ebcefaa193",
   "metadata": {},
   "outputs": [
    {
     "name": "stdout",
     "output_type": "stream",
     "text": [
      "Plotting sales revenue vs cost-based inventory valuation for dates: ['06/30/2020', '07/31/2020', '08/31/2020', '09/30/2020', '10/31/2020', '11/30/2020', '12/31/2020', '01/31/2021', '02/28/2021', '03/31/2021', '04/30/2021', '05/31/2021', '06/30/2021', '07/31/2021', '08/31/2021', '09/30/2021', '10/31/2021', '11/15/2021']\n"
     ]
    },
    {
     "name": "stderr",
     "output_type": "stream",
     "text": [
      "11/15/2021 15:18:30 [INFO] - Using categorical units to plot a list of strings that are all parsable as floats or dates. If these strings should be plotted as numbers, cast to the appropriate data type before plotting.\n",
      "11/15/2021 15:18:30 [INFO] - Using categorical units to plot a list of strings that are all parsable as floats or dates. If these strings should be plotted as numbers, cast to the appropriate data type before plotting.\n",
      "11/15/2021 15:18:30 [INFO] - Using categorical units to plot a list of strings that are all parsable as floats or dates. If these strings should be plotted as numbers, cast to the appropriate data type before plotting.\n",
      "11/15/2021 15:18:30 [INFO] - Using categorical units to plot a list of strings that are all parsable as floats or dates. If these strings should be plotted as numbers, cast to the appropriate data type before plotting.\n"
     ]
    },
    {
     "data": {
      "image/png": "[encoded data removed]",
      "text/plain": [
       "<Figure size 1728x864 with 1 Axes>"
      ]
     },
     "metadata": {
      "needs_background": "light"
     },
     "output_type": "display_data"
    }
   ],
   "source": [
    "_reload_libs()\n",
    "\n",
    "print(f'Plotting sales revenue vs cost-based inventory valuation for dates: {q.inventory_dates}')\n",
    "valuations_util.plot_inventory_and_revenue(\n",
    "    q=q,\n",
    "    sales_receipts_dataframe=d.sales_receipts_dataframe,\n",
    "    inventory_valuations=computed_resp['inventory_valuations']\n",
    ")"
   ]
  },
  {
   "cell_type": "code",
   "execution_count": null,
   "id": "25e44a0c-13b7-4d9c-bef5-fe9dccf858d3",
   "metadata": {},
   "outputs": [],
   "source": [
    "#### DEBUG\n",
    "util.run_orphan_analysis(d, ctx, id_to_history)"
   ]
  },
  {
   "cell_type": "code",
   "execution_count": 96,
   "id": "99c7ca0d-645f-4b8a-990e-0d6c16d2938c",
   "metadata": {},
   "outputs": [
    {
     "name": "stderr",
     "output_type": "stream",
     "text": [
      "11/16/2021 11:05:32 [INFO] - \n",
      "Package 767702 arrived on 07/14/2020 with quantity 47.0 and price $30.0.\n",
      "Package 767702 sold on 08/15/2020 1.0 (Each) for $65.0\n",
      "Package 767702 sold on 12/03/2020 1.0 (Each) for $60.0\n",
      "Package 767702 sold on 12/07/2020 1.0 (Each) for $60.0\n",
      "Package 767702 sold on 01/02/2021 3.0 (Each) for $180.0\n",
      "Package 767702 sold on 01/04/2021 1.0 (Each) for $60.0\n",
      "Package 767702 sold on 01/21/2021 2.0 (Each) for $120.0\n",
      "Package 767702 sold on 01/28/2021 1.0 (Each) for $60.0\n",
      "Package 767702 sold on 02/28/2021 1.0 (Each) for $60.0\n",
      "Package 767702 sold on 03/16/2021 1.0 (Each) for $55.0\n",
      "Package 767702 sold on 03/22/2021 1.0 (Each) for $55.0\n",
      "Package 767702 sold on 04/03/2021 1.0 (Each) for $55.0\n",
      "Package 767702 sold on 05/29/2021 1.0 (Each) for $55.0\n",
      "Package 767702 sold on 06/11/2021 1.0 (Each) for $55.0\n",
      "Package 767702 sold on 06/23/2021 1.0 (Each) for $50.0\n",
      "Package 767702 sold on 07/06/2021 1.0 (Each) for $45.0\n",
      "Package 767702 sold on 07/11/2021 1.0 (Each) for $45.0\n",
      "Package 767702 sold on 07/14/2021 2.0 (Each) for $90.0\n",
      "Package 767702 sold on 07/17/2021 1.0 (Each) for $45.0\n",
      "Package 767702 sold on 08/10/2021 1.0 (Each) for $45.0\n",
      "Package 767702 sold on 08/26/2021 3.0 (Each) for $135.0\n",
      "Package 767702 sold on 08/27/2021 1.0 (Each) for $45.0\n",
      "Package 767702 sold on 09/08/2021 1.0 (Each) for $45.0\n",
      "Package 767702 sold on 09/17/2021 1.0 (Each) for $45.0\n",
      "Package 767702 sold on 09/25/2021 1.0 (Each) for $45.0\n",
      "Package 767702 sold on 09/26/2021 2.0 (Each) for $90.0\n",
      "Package 767702 has a remaining quantity of 15.0\n"
     ]
    },
    {
     "name": "stdout",
     "output_type": "stream",
     "text": [
      "DEBUGGING PACKAGE_ID=767702\n",
      "Matching active metrc_package:\n",
      "{'license_number': 'MR281525', 'package_id': '767702', 'package_label': '1A40A01000010CD000010718', 'type': 'active', 'packaged_date': datetime.date(2020, 7, 14), 'last_modified_at': Timestamp('2021-11-16 01:02:42+0000', tz='UTC'), 'package_type': 'Product', 'product_name': 'M00000249805: Vape Rythm Heal PAX Pod Otto 1:1 Concentrate', 'product_category_name': 'Vape Product', 'quantity': 5.0, 'unit_of_measure': 'Each', 'item_id': 249805, 'item_product_category_type': 'Concentrate', 'production_batch_number': '', 'source_production_batch_numbers': '', 'source_harvest_names': '', 'is_testing_sample': False, 'is_trade_sample': False, 'is_on_hold': False, 'archived_date': None, 'finished_date': None}\n",
      "\n",
      "INCOMING\n",
      "{'delivery_type': 'INCOMING_FROM_VENDOR', 'license_number': 'MR281525', 'manifest_number': '0000170521', 'created_date': datetime.date(2020, 7, 14), 'received_datetime': datetime.datetime(2020, 7, 14, 23, 32, 25, tzinfo=<UTC>), 'shipment_transaction_type': 'Wholesale', 'shipper_facility_license_number': 'RMD645-P', 'shipper_facility_name': 'Rise Holdings, Inc.', 'recipient_facility_license_number': 'MR281525', 'recipient_facility_name': 'Boston Bud Factory Inc.', 'shipment_type_name': 'Unaffiliated Transfer', 'shipment_transaction_type_1': 'Wholesale', 'package_id': '767702', 'package_label': '1A40A01000010CD000010718', 'type': 'transfer', 'source_package_labels': '1A40A01000010CD000008427', 'source_harvest_names': '', 'shipment_package_state': 'Accepted', 'is_testing_sample': False, 'is_trade_sample': False, 'product_category_name': 'Vape Product', 'product_name': 'M00000249805: Vape Rythm Heal PAX Pod Otto 1:1 Concentrate', 'package_lab_results_status': 'passed', 'shipper_wholesale_price': 30.0, 'shipped_quantity': 47.0, 'shipped_unit_of_measure': 'Each', 'receiver_wholesale_price': 30.0, 'received_quantity': 47.0, 'received_unit_of_measure': 'Each', 'receiver_wholesale_price_1': 30.0, 'item_unit_weight': None, 'item_unit_weight_unit_of_measure_name': None, 'created_month': '2020-07', 'received_date': datetime.date(2020, 7, 14), 'quantity': 47.0, 'unit_of_measure': 'Each', 'price': 30.0, 'date_to_txs': OrderedDict()}\n",
      "\n",
      "\n"
     ]
    }
   ],
   "source": [
    "# For debugging individual package histories\n",
    "_reload_libs()\n",
    "\n",
    "PACKAGE_IDS = [\n",
    "  '767702'\n",
    "]\n",
    "\n",
    "util.analyze_specific_package_histories(\n",
    "    d, PACKAGE_IDS, params=ANALYSIS_PARAMS)"
   ]
  },
  {
   "cell_type": "code",
   "execution_count": null,
   "id": "f716b614-ab70-468f-9ce9-858742af11b3",
   "metadata": {},
   "outputs": [],
   "source": []
  }
 ],
 "metadata": {
  "kernelspec": {
   "display_name": "Python 3",
   "language": "python",
   "name": "python3"
  },
  "language_info": {
   "codemirror_mode": {
    "name": "ipython",
    "version": 3
   },
   "file_extension": ".py",
   "mimetype": "text/x-python",
   "name": "python",
   "nbconvert_exporter": "python",
   "pygments_lexer": "ipython3",
   "version": "3.7.7"
  }
 },
 "nbformat": 4,
 "nbformat_minor": 5
}
