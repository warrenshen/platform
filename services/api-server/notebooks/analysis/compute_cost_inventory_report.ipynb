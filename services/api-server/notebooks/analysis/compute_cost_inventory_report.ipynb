{
 "cells": [
  {
   "cell_type": "code",
   "execution_count": 1,
   "id": "170c442e-f0fb-4421-a3bf-5f87863f8277",
   "metadata": {},
   "outputs": [],
   "source": [
    "import json\n",
    "import os\n",
    "import numpy\n",
    "import pandas\n",
    "import sys\n",
    "import logging\n",
    "import importlib\n",
    "\n",
    "from datetime import date\n",
    "from os import path\n",
    "from dotenv import load_dotenv\n",
    "\n",
    "sys.path.append(path.realpath(path.join(os.getcwd(), \"../../src\")))\n",
    "\n",
    "from bespoke.inventory.analysis.shared import download_util\n",
    "from bespoke.inventory.analysis import active_inventory_util as util\n",
    "from bespoke.inventory.analysis import inventory_valuations_util as valuations_util\n",
    "from bespoke.inventory.analysis import inventory_cogs_util as cogs_util\n",
    "from bespoke.inventory.analysis import inventory_summary_util\n",
    "from bespoke.inventory.analysis import stale_inventory_util\n",
    "from bespoke.inventory.analysis.shared.inventory_types import (\n",
    "  AnalysisSummaryDict,\n",
    "  FacilityDetailsDict,\n",
    "  CompanyInfoDict\n",
    ")\n",
    "\n",
    "load_dotenv(verbose=True)\n",
    "engine = download_util.get_bigquery_engine('bigquery://bespoke-financial/ProdMetrcData')\n",
    "\n",
    "logging.basicConfig(format='%(asctime)s [%(levelname)s] - %(message)s',\n",
    "                    datefmt='%m/%d/%Y %H:%M:%S',\n",
    "                    level=logging.INFO)\n",
    "\n",
    "def _reload_libs():\n",
    "    importlib.reload(util)\n",
    "    importlib.reload(valuations_util)\n",
    "    importlib.reload(download_util)\n",
    "    importlib.reload(stale_inventory_util)\n",
    "\n",
    "%load_ext autoreload\n",
    "%autoreload 2"
   ]
  },
  {
   "cell_type": "code",
   "execution_count": 5,
   "id": "fbfe06bc-cc79-41cc-814e-1d2166177496",
   "metadata": {},
   "outputs": [
    {
     "name": "stdout",
     "output_type": "stream",
     "text": [
      "Today is 2021-12-20\n"
     ]
    }
   ],
   "source": [
    "COMPANY_NAME = 'RA'\n",
    "COMPANY_IDENTIFIER = 'RA'\n",
    "LICENSE_NUMBERS = [] # ['MR281525'] # Manufacturer FYI - 'MP281397'\n",
    "FACILITY_DETAILS = FacilityDetailsDict(\n",
    "    license_numbers=LICENSE_NUMBERS,\n",
    "    name='default'\n",
    ")\n",
    "TRANSFER_PACKAGES_START_DATE = '2019-01-01'\n",
    "SALES_TRANSACTIONS_START_DATE = '2019-01-01'\n",
    "ANALYSIS_PARAMS = {\n",
    "    'sold_threshold': 1.0,\n",
    "    'find_parent_child_relationships': False,\n",
    "    'use_prices_to_fill_missing_incoming': False,\n",
    "    'external_pricing_data_config': {\n",
    "        'category_to_fixed_prices': {\n",
    "            'Buds': {\n",
    "                'grams': 10.0\n",
    "            },\n",
    "            'Infused (edible)': {\n",
    "                'each': 4.0\n",
    "            },\n",
    "            'Infused (non-edible)': {\n",
    "                'each': 3.0\n",
    "            },\n",
    "            'Vape Product': {\n",
    "                'each': 3.0\n",
    "            },\n",
    "            'Concentrate (Bulk)': {\n",
    "                'grams': 6.0\n",
    "            },\n",
    "            'Concentrate': {\n",
    "                'grams': 7.0\n",
    "            },\n",
    "            'Raw Pre-Rolls': {\n",
    "                'grams': 7.0,\n",
    "                'pounds': 80.0\n",
    "            },\n",
    "            'Shake/Trim (by strain)': {\n",
    "                'grams': 8.0\n",
    "            }\n",
    "        }\n",
    "    },\n",
    "    'use_margin_estimate_config': False,\n",
    "    'margin_estimate_config': {\n",
    "        'category_to_margin_estimate': {\n",
    "            'Buds': 0.4267,\n",
    "            'Infused (edible)': 0.4953,\n",
    "            'Infused (non-edible)': 0.4183,\n",
    "            'Vape Product': 0.43,\n",
    "            'Concentrate (Bulk)': 0.46,\n",
    "            'Concentrate': 0.46,\n",
    "            'Raw Pre-Rolls': 0.485,\n",
    "            'Shake/Trim (by strain)': 0.4267\n",
    "        }\n",
    "    },\n",
    "    'cogs_analysis_params': {\n",
    "        'readjust_profit_threshold': 0.90, # 0.9\n",
    "        'readjust_type': 'adjust' # adjust, remove\n",
    "    },\n",
    "    'stale_inventory_params': {\n",
    "        'product_category_to_shelf_life': {\n",
    "            \"Flower\": 6,\n",
    "            \"Trim\": 6,\n",
    "            \"Fresh Frozen\": 0,\n",
    "            \"Edibles\": 6,\n",
    "            \"Wax\": 12,\n",
    "            \"Resin\": 12,\n",
    "            \"Tinctures\": 12,\n",
    "            \"Vapes\": 12,\n",
    "            \"Shatter\": 12,\n",
    "            \"Concentrates\": 12,\n",
    "            \"Rosin\": 12,\n",
    "            \"Beverages\": None,\n",
    "            \"unknown\": 12           \n",
    "        }\n",
    "    }\n",
    "}\n",
    "TODAY_DATE = date.today()\n",
    "print('Today is {}'.format(TODAY_DATE))\n",
    "\n",
    "download_ctx = download_util.DataframeDownloadContext(\n",
    "    output_root_dir=f'out/{COMPANY_NAME}',\n",
    "    read_params={\n",
    "        'use_cached_dataframes': False\n",
    "    },\n",
    "    write_params={\n",
    "        'save_download_dataframes': False\n",
    "    }\n",
    ")\n",
    "download_ctx.mkdir('download')\n",
    "\n",
    "ctx = download_util.AnalysisContext(\n",
    "    output_root_dir=f'out/{COMPANY_NAME}'\n",
    ")\n",
    "ctx.mkdir('reports')\n",
    "with open(ctx.get_output_path('log.txt'), 'w') as f:\n",
    "    f.write('')"
   ]
  },
  {
   "cell_type": "code",
   "execution_count": 6,
   "id": "d9eccd84-a327-4299-8876-456c6c9f574c",
   "metadata": {},
   "outputs": [],
   "source": [
    "# Download packages, sales transactions, incoming / outgoing tranfers\n",
    "df_query_params = download_util.DataFrameQueryParams(\n",
    "    company_identifier=COMPANY_IDENTIFIER,\n",
    "    transfer_packages_start_date=TRANSFER_PACKAGES_START_DATE,\n",
    "    sales_transactions_start_date=SALES_TRANSACTIONS_START_DATE,\n",
    "    license_numbers=LICENSE_NUMBERS\n",
    ")\n",
    "sql_helper = download_util.BigQuerySQLHelper(download_ctx, engine)\n",
    "all_dataframes_dict = download_util.get_dataframes_for_analysis(\n",
    "    df_query_params, download_ctx, sql_helper, dry_run=False, num_threads=2, use_incremental_querying=False)"
   ]
  },
  {
   "cell_type": "code",
   "execution_count": 7,
   "id": "c2af6220-2ebc-4447-a17e-0e3d9f3a7bbd",
   "metadata": {},
   "outputs": [
    {
     "name": "stderr",
     "output_type": "stream",
     "text": [
      "12/20/2021 19:12:11 [INFO] - Processing 6300 incoming transfer packages\n",
      "12/20/2021 19:12:11 [INFO] - Processing 69 outgoing transfer packages\n",
      "12/20/2021 19:12:11 [INFO] - Processing 6071 inventory packages\n",
      "12/20/2021 19:12:11 [INFO] - Processing 59358 sales receipts\n",
      "12/20/2021 19:12:11 [INFO] - Processing 165176 sales transactions\n",
      "12/20/2021 19:12:13 [INFO] -   Took 2.78 seconds for converting to records\n",
      "12/20/2021 19:12:14 [INFO] -   Took 0.19 seconds to iterate through sales txs\n",
      "12/20/2021 19:12:14 [INFO] -   Took 0.11 seconds to iterate through incoming records\n",
      "12/20/2021 19:12:14 [INFO] -   Took 0.0 seconds to iterate through outgoing records\n",
      "12/20/2021 19:12:14 [INFO] -   Took 0.0 seconds to iterate through rest of records\n"
     ]
    }
   ],
   "source": [
    "_reload_libs()\n",
    "\n",
    "q = download_util.Query(\n",
    "    inventory_dates=download_util.get_inventory_dates(\n",
    "      all_dataframes_dict, TODAY_DATE),\n",
    "    company_id='',\n",
    "    company_name=COMPANY_NAME,\n",
    "    company_identifier=COMPANY_IDENTIFIER,\n",
    ")\n",
    "d = util.Download()\n",
    "d.process_dataframes(\n",
    "    all_dataframes_dict=all_dataframes_dict,\n",
    "    ctx=ctx\n",
    ")"
   ]
  },
  {
   "cell_type": "code",
   "execution_count": 8,
   "id": "5fbbbfe7-87c0-4409-9e6a-b6dc2b63ce54",
   "metadata": {
    "tags": []
   },
   "outputs": [
    {
     "name": "stdout",
     "output_type": "stream",
     "text": [
      "Only outgoing: 7\n",
      "Only incoming: 1676\n",
      "Sold packages missing incoming_pkg: 0 (0.00% of packages)\n",
      "Incoming packages missing price 130 (2.08% of incoming packages)\n",
      "In and out: 62\n",
      "In and sold at least once 4561\n",
      "In and sold many times 4350\n",
      "\n",
      " Num parent packages: 0\n",
      " num matched child packages: 0\n",
      "Total pkgs: 6267\n"
     ]
    },
    {
     "name": "stderr",
     "output_type": "stream",
     "text": [
      "12/20/2021 19:12:21 [INFO] -   Took 1.25 seconds for computing additional fields. num_loops=6267\n",
      "12/20/2021 19:12:21 [INFO] - On 02/29/2020 # packages in inventory: 46, valuation cost: 2502.0\n",
      "12/20/2021 19:12:21 [INFO] - On 03/31/2020 # packages in inventory: 188, valuation cost: 30369.67\n",
      "12/20/2021 19:12:22 [INFO] - On 04/30/2020 # packages in inventory: 502, valuation cost: 56850.48\n",
      "12/20/2021 19:12:22 [INFO] - On 05/31/2020 # packages in inventory: 671, valuation cost: 51227.99\n",
      "12/20/2021 19:12:22 [INFO] - On 06/30/2020 # packages in inventory: 855, valuation cost: 58306.96\n",
      "12/20/2021 19:12:23 [INFO] - On 07/31/2020 # packages in inventory: 1018, valuation cost: 75605.65\n",
      "12/20/2021 19:12:23 [INFO] - On 08/31/2020 # packages in inventory: 1250, valuation cost: 110632.0\n",
      "12/20/2021 19:12:23 [INFO] - On 09/30/2020 # packages in inventory: 1457, valuation cost: 145846.99\n",
      "12/20/2021 19:12:24 [INFO] - On 10/31/2020 # packages in inventory: 1712, valuation cost: 181638.87\n",
      "12/20/2021 19:12:24 [INFO] - On 11/30/2020 # packages in inventory: 1736, valuation cost: 141329.6\n",
      "12/20/2021 19:12:25 [INFO] - On 12/31/2020 # packages in inventory: 1834, valuation cost: 122626.92\n",
      "12/20/2021 19:12:25 [INFO] - On 01/31/2021 # packages in inventory: 2045, valuation cost: 132920.82\n",
      "12/20/2021 19:12:26 [INFO] - On 02/28/2021 # packages in inventory: 2197, valuation cost: 121840.94\n",
      "12/20/2021 19:12:26 [INFO] - On 03/31/2021 # packages in inventory: 2334, valuation cost: 126326.36\n",
      "12/20/2021 19:12:27 [INFO] - On 04/30/2021 # packages in inventory: 2494, valuation cost: 163668.41\n",
      "12/20/2021 19:12:27 [INFO] - On 05/31/2021 # packages in inventory: 2675, valuation cost: 170990.49\n",
      "12/20/2021 19:12:28 [INFO] - On 06/30/2021 # packages in inventory: 2919, valuation cost: 189885.9\n",
      "12/20/2021 19:12:28 [INFO] - On 07/31/2021 # packages in inventory: 2999, valuation cost: 163358.83\n",
      "12/20/2021 19:12:29 [INFO] - On 08/31/2021 # packages in inventory: 3165, valuation cost: 175654.99\n",
      "12/20/2021 19:12:30 [INFO] - On 09/30/2021 # packages in inventory: 3286, valuation cost: 175550.6\n",
      "12/20/2021 19:12:30 [INFO] - On 10/31/2021 # packages in inventory: 3464, valuation cost: 171405.87\n",
      "12/20/2021 19:12:31 [INFO] - On 11/30/2021 # packages in inventory: 3518, valuation cost: 171521.64\n",
      "12/20/2021 19:12:32 [INFO] - On 12/20/2021 # packages in inventory: 3687, valuation cost: 201725.52\n",
      "12/20/2021 19:12:32 [INFO] -   Took 10.95 seconds checking if its in the inventory. num_loops=144141\n",
      "12/20/2021 19:12:33 [INFO] - Wrote result to out/RA/reports/RA_computed_inventory_by_month.xls\n",
      "12/20/2021 19:12:35 [INFO] - Wrote result to out/RA/reports/RA_current_inventory.xls\n",
      "12/20/2021 19:12:35 [INFO] -   Took 1.29 seconds to write current inventory\n"
     ]
    },
    {
     "name": "stdout",
     "output_type": "stream",
     "text": [
      "\n",
      "\n",
      "Excluded 170 / 6267 packages from consideration (2.71%)\n",
      "  OUT_OF_ORDER_DATES: 32 times\n",
      "  INCOMING_MISSING_PRICE: 131 times\n",
      "  MISSING_INCOMING: 7 times\n"
     ]
    }
   ],
   "source": [
    "_reload_libs()\n",
    "\n",
    "id_to_history = util.get_histories(d, ANALYSIS_PARAMS)\n",
    "util.print_counts(ctx, id_to_history)\n",
    "compute_inventory_dict = util.create_inventory_xlsx(\n",
    "    d, ctx, id_to_history, q, params=ANALYSIS_PARAMS, using_nb=True)"
   ]
  },
  {
   "cell_type": "code",
   "execution_count": 9,
   "id": "4de368e2-44ab-4885-86d2-54b989f091f2",
   "metadata": {
    "tags": []
   },
   "outputs": [
    {
     "name": "stdout",
     "output_type": "stream",
     "text": [
      "\n",
      "\n",
      "Pct of # inventory matching: 97.72% (3938 / 4030)\n",
      "Accuracy of quantities for matching packages: 98.84%\n",
      "Pct of # inventory packages over-estimated: 3.25%\n",
      "Pct of # quantity over-estimated: 0.05%\n",
      "Avg quantity delta of matching packages: 0.07\n",
      "Avg quantity of matching packages: 5.77\n",
      "\n",
      "Num matching packages: 3938\n",
      "Num actual packages not computed: 92\n",
      "  but computed at some point: 0, e.g., 0.00% of non-computed packages\n",
      "  avg quantity from actual packages 0.00\n",
      "Num computed packages not in actual: 131\n",
      "  but in actual inventory at some point: 101\n",
      "\n",
      "Computed has these extra package IDs; first 10\n",
      "3576925: computed quantity 98.0 (Grams)\n",
      "12664646: computed quantity 92.0 (Each)\n",
      "3578093: computed quantity 84.0 (Grams)\n",
      "17562729: computed quantity 64.0 (Each)\n",
      "17481959: computed quantity 40.0 (Each)\n",
      "3576931: computed quantity 38.5 (Grams)\n",
      "5262621: computed quantity 38.0 (Each)\n",
      "10190898: computed quantity 32.0 (Each)\n",
      "3576934: computed quantity 31.5 (Grams)\n",
      "3455285: computed quantity 30.0 (Each)\n",
      "1184096: computed quantity 28.0 (Grams)\n",
      "\n",
      "Computed is missing these package IDs; first 10\n",
      "16523930: actual quantity 209.0 (Each) of Vape Cartridge (weight - each)\n",
      "13384858: actual quantity 41.0 (Each) of Pre-Roll Flower\n",
      "14734419: actual quantity 36.0 (Each) of Flower (packaged gram - each)\n",
      "20491274: actual quantity 28.0 (Each) of Flower (packaged eighth - each)\n",
      "1076673: actual quantity 28.0 (Grams) of Flower\n",
      "5755052: actual quantity 28.0 (Grams) of Flower\n",
      "20152093: actual quantity 25.0 (Each) of Flower (packaged eighth - each)\n",
      "11529710: actual quantity 15.0 (Each) of Pre-Roll Flower\n",
      "12198792: actual quantity 13.0 (Each) of Edible (weight - each)\n",
      "15965322: actual quantity 11.0 (Each) of Edible (weight - each)\n",
      "6331128: actual quantity 10.5 (Grams) of Flower\n",
      "\n",
      "Largest delta in quantities; first 10\n",
      "Delta 118.00 for package_id 16037989\n",
      "Delta 28.00 for package_id 20385460\n",
      "Delta 16.00 for package_id 17262244\n",
      "Delta 16.00 for package_id 17262259\n",
      "Delta 10.50 for package_id 3576933\n",
      "Delta 7.00 for package_id 3576927\n",
      "Delta 4.00 for package_id 12193443\n",
      "Delta 3.50 for package_id 2579028\n",
      "Delta 3.50 for package_id 3070913\n",
      "Delta 3.00 for package_id 2632823\n",
      "Delta 3.00 for package_id 3579948\n"
     ]
    }
   ],
   "source": [
    "_reload_libs()\n",
    "\n",
    "today_date_str = TODAY_DATE.strftime('%m/%d/%Y')\n",
    "#INVENTORY_DATES = [today_date_str]\n",
    "compare_inventory_res = util.compare_computed_vs_actual_inventory(\n",
    "    ctx=ctx,\n",
    "    computed=compute_inventory_dict['date_to_computed_inventory_dataframe'][today_date_str],\n",
    "    actual=d.inventory_packages_dataframe,\n",
    "    params=ANALYSIS_PARAMS,\n",
    "    compare_options={\n",
    "        'num_errors_to_show': 10,\n",
    "        'accept_computed_when_sold_out': True\n",
    "    }\n",
    ")\n"
   ]
  },
  {
   "cell_type": "code",
   "execution_count": 18,
   "id": "cb27b4ed-f145-4daa-978a-b5bb4383b392",
   "metadata": {},
   "outputs": [
    {
     "name": "stdout",
     "output_type": "stream",
     "text": [
      "Cost valuation based on computed inventory as of 12/20/2021 is $201725.52\n",
      "\n",
      "Cost valuation of Metrc-reported inventory as of today: $194180.19\n"
     ]
    }
   ],
   "source": [
    "## Inventory valuations\n",
    "date_and_computed_valuation = list(zip(q.inventory_dates, compute_inventory_dict['inventory_valuations']))[-1]\n",
    "\n",
    "print('Cost valuation based on computed inventory as of {} is ${}'.format(\n",
    "  date_and_computed_valuation[0], round(date_and_computed_valuation[1], 2)\n",
    "))\n",
    "\n",
    "print('')\n",
    "inventory_cost_valuation = valuations_util.get_inventory_valuation(\n",
    "    inventory_packages_dataframe=d.inventory_packages_dataframe,\n",
    "    incoming_transfer_packages_dataframe=d.incoming_transfer_packages_dataframe,\n",
    ")\n",
    "print(f'Cost valuation of Metrc-reported inventory as of today: ${round(inventory_cost_valuation, 2)}')"
   ]
  },
  {
   "cell_type": "code",
   "execution_count": 10,
   "id": "048bdebf-b1a9-4340-bef0-3171525a4007",
   "metadata": {},
   "outputs": [
    {
     "name": "stderr",
     "output_type": "stream",
     "text": [
      "12/20/2021 19:12:57 [INFO] - Wrote result to out/RA/reports/RA_cogs_summary.xls\n",
      "12/20/2021 19:12:57 [INFO] - Wrote result to out/RA_analysis_summary.xls\n"
     ]
    }
   ],
   "source": [
    "_reload_libs()\n",
    "\n",
    "# Do the COGS summary too\n",
    "#  debug_package_id='1791802',\n",
    "#  debug_profit_threshold=0.9\n",
    "\n",
    "cogs_summary = cogs_util.create_cogs_summary(\n",
    "    d, ctx, id_to_history, ANALYSIS_PARAMS, \n",
    ")\n",
    "\n",
    "cogs_util.write_cogs_xlsx(\n",
    "    ctx=ctx,\n",
    "    topdown_cogs_rows=cogs_summary['topdown_cogs_rows'], \n",
    "    bottoms_up_cogs_rows=cogs_summary['bottomsup_cogs_rows'],\n",
    "    company_name=COMPANY_NAME\n",
    ")\n",
    "\n",
    "analysis_summary = AnalysisSummaryDict(\n",
    "    company_info=CompanyInfoDict(\n",
    "      company_name=q.company_name,\n",
    "      company_identifier=q.company_identifier,\n",
    "      company_id='',\n",
    "      index=0\n",
    "    ),\n",
    "    facility_details=FACILITY_DETAILS,\n",
    "    analysis_params=ANALYSIS_PARAMS,\n",
    "    counts_analysis=compute_inventory_dict['counts_analysis'],\n",
    "    compare_inventory_results=compare_inventory_res,\n",
    "    cogs_summary=cogs_summary\n",
    ")\n",
    "inventory_summary_util.write_excel_for_summaries([analysis_summary], TODAY_DATE)"
   ]
  },
  {
   "cell_type": "code",
   "execution_count": 11,
   "id": "0f196a7a-aee3-4f29-837e-c27eb16a0ecc",
   "metadata": {},
   "outputs": [
    {
     "name": "stdout",
     "output_type": "stream",
     "text": [
      "Got an invalid quantity Product Flower (packaged eighth - each) -1.0\n",
      "Got an unexpected package type ImmaturePlant Clone - Cutting 0.0\n",
      "Got an unexpected package type ImmaturePlant Clone - Cutting 0.0\n",
      "Got an unexpected package type ImmaturePlant Immature Plant 0.0\n",
      "Got an unexpected package type ImmaturePlant Immature Plant 24.0\n",
      "Got an unexpected package type ImmaturePlant Clone - Cutting 0.0\n",
      "Got an unexpected package type ImmaturePlant Clone - Cutting 0.0\n",
      "Got an unexpected package type ImmaturePlant Clone - Cutting -6.0\n",
      "Got an unexpected package type ImmaturePlant Clone - Cutting 1.0\n",
      "Got an unexpected package type ImmaturePlant Clone - Cutting 6.0\n",
      "Got an unexpected package type ImmaturePlant Clone - Cutting 8.0\n",
      "Got an unexpected package type ImmaturePlant Clone - Cutting 0.0\n",
      "Got an unexpected package type ImmaturePlant Clone - Cutting 0.0\n",
      "Got an unexpected package type ImmaturePlant Clone - Cutting 1.0\n",
      "Got an unexpected package type ImmaturePlant Clone - Cutting 0.0\n",
      "Got an unexpected package type ImmaturePlant Clone - Cutting 3.0\n",
      "Got an unexpected package type ImmaturePlant Clone - Cutting 3.0\n",
      "Got an unexpected package type ImmaturePlant Clone - Cutting 1.0\n",
      "Got an unexpected package type ImmaturePlant Clone - Cutting 0.0\n",
      "Got an unexpected package type ImmaturePlant Clone - Cutting 1.0\n",
      "Got an unexpected package type ImmaturePlant Clone - Cutting 7.0\n",
      "Got an unexpected package type ImmaturePlant Clone - Cutting 2.0\n",
      "Got an unexpected package type ImmaturePlant Clone - Cutting 3.0\n",
      "Got an unexpected package type ImmaturePlant Clone - Cutting 2.0\n",
      "Got an unexpected package type ImmaturePlant Clone - Cutting 2.0\n",
      "Got an unexpected package type ImmaturePlant Clone - Cutting -11.0\n",
      "\n",
      "# packages stale: 3665 (60.63%)\n",
      "# packages unknown: 0 (0.0%)\n",
      "# packages fresh: 2380 (39.37%)\n",
      "# packages total: 6045\n",
      "\n",
      "# units stale: 5569.82 (25.89%)\n",
      "# units unknown: 0.0 (0.0%)\n",
      "# units fresh: 15943.57 (74.11%)\n",
      "# units total: 21513.39\n",
      "# filtered incoming transfer packages: 5206\n",
      "# filtered sales transactions: 120200\n",
      "# sales transactions with associated incoming transfer package: 0 (0.0%)\n"
     ]
    },
    {
     "name": "stderr",
     "output_type": "stream",
     "text": [
      "/Users/davidlluncor/GitHub/platform/services/api-server/src/bespoke/inventory/analysis/stale_inventory_util.py:88: UserWarning: Boolean Series key will be reindexed to match DataFrame index.\n",
      "  (d.incoming_transfer_packages_dataframe['shipper_wholesale_price'] != 0.01) | (d.incoming_transfer_packages_dataframe['shipped_quantity'] != 1)\n"
     ]
    }
   ],
   "source": [
    "# Stale inventory\n",
    "\n",
    "_reload_libs()\n",
    "stale_inventory_util.compute_stale_inventory(d, ctx, ANALYSIS_PARAMS)"
   ]
  },
  {
   "cell_type": "code",
   "execution_count": 22,
   "id": "6cfd4d4e-ec3f-403a-96bf-31ebcefaa193",
   "metadata": {},
   "outputs": [
    {
     "name": "stdout",
     "output_type": "stream",
     "text": [
      "Plotting sales revenue vs cost-based inventory valuation for dates: ['06/30/2020', '07/31/2020', '08/31/2020', '09/30/2020', '10/31/2020', '11/30/2020', '12/31/2020', '01/31/2021', '02/28/2021', '03/31/2021', '04/30/2021', '05/31/2021', '06/30/2021', '07/31/2021', '08/31/2021', '09/30/2021', '10/31/2021', '11/30/2021', '12/11/2021']\n"
     ]
    },
    {
     "ename": "NameError",
     "evalue": "name 'computed_resp' is not defined",
     "output_type": "error",
     "traceback": [
      "\u001b[0;31m---------------------------------------------------------------------------\u001b[0m",
      "\u001b[0;31mNameError\u001b[0m                                 Traceback (most recent call last)",
      "\u001b[0;32m<ipython-input-22-69c7b842da41>\u001b[0m in \u001b[0;36m<module>\u001b[0;34m\u001b[0m\n\u001b[1;32m      5\u001b[0m     \u001b[0mq\u001b[0m\u001b[0;34m=\u001b[0m\u001b[0mq\u001b[0m\u001b[0;34m,\u001b[0m\u001b[0;34m\u001b[0m\u001b[0;34m\u001b[0m\u001b[0m\n\u001b[1;32m      6\u001b[0m     \u001b[0msales_receipts_dataframe\u001b[0m\u001b[0;34m=\u001b[0m\u001b[0md\u001b[0m\u001b[0;34m.\u001b[0m\u001b[0msales_receipts_dataframe\u001b[0m\u001b[0;34m,\u001b[0m\u001b[0;34m\u001b[0m\u001b[0;34m\u001b[0m\u001b[0m\n\u001b[0;32m----> 7\u001b[0;31m     \u001b[0minventory_valuations\u001b[0m\u001b[0;34m=\u001b[0m\u001b[0mcomputed_resp\u001b[0m\u001b[0;34m[\u001b[0m\u001b[0;34m'inventory_valuations'\u001b[0m\u001b[0;34m]\u001b[0m\u001b[0;34m\u001b[0m\u001b[0;34m\u001b[0m\u001b[0m\n\u001b[0m\u001b[1;32m      8\u001b[0m )\n",
      "\u001b[0;31mNameError\u001b[0m: name 'computed_resp' is not defined"
     ]
    }
   ],
   "source": [
    "_reload_libs()\n",
    "\n",
    "print(f'Plotting sales revenue vs cost-based inventory valuation for dates: {q.inventory_dates}')\n",
    "valuations_util.plot_inventory_and_revenue(\n",
    "    q=q,\n",
    "    sales_receipts_dataframe=d.sales_receipts_dataframe,\n",
    "    inventory_valuations=computed_resp['inventory_valuations']\n",
    ")"
   ]
  },
  {
   "cell_type": "code",
   "execution_count": null,
   "id": "25e44a0c-13b7-4d9c-bef5-fe9dccf858d3",
   "metadata": {},
   "outputs": [],
   "source": [
    "#### DEBUG\n",
    "util.run_orphan_analysis(d, ctx, id_to_history)"
   ]
  },
  {
   "cell_type": "code",
   "execution_count": 96,
   "id": "99c7ca0d-645f-4b8a-990e-0d6c16d2938c",
   "metadata": {},
   "outputs": [
    {
     "name": "stderr",
     "output_type": "stream",
     "text": [
      "11/16/2021 11:05:32 [INFO] - \n",
      "Package 767702 arrived on 07/14/2020 with quantity 47.0 and price $30.0.\n",
      "Package 767702 sold on 08/15/2020 1.0 (Each) for $65.0\n",
      "Package 767702 sold on 12/03/2020 1.0 (Each) for $60.0\n",
      "Package 767702 sold on 12/07/2020 1.0 (Each) for $60.0\n",
      "Package 767702 sold on 01/02/2021 3.0 (Each) for $180.0\n",
      "Package 767702 sold on 01/04/2021 1.0 (Each) for $60.0\n",
      "Package 767702 sold on 01/21/2021 2.0 (Each) for $120.0\n",
      "Package 767702 sold on 01/28/2021 1.0 (Each) for $60.0\n",
      "Package 767702 sold on 02/28/2021 1.0 (Each) for $60.0\n",
      "Package 767702 sold on 03/16/2021 1.0 (Each) for $55.0\n",
      "Package 767702 sold on 03/22/2021 1.0 (Each) for $55.0\n",
      "Package 767702 sold on 04/03/2021 1.0 (Each) for $55.0\n",
      "Package 767702 sold on 05/29/2021 1.0 (Each) for $55.0\n",
      "Package 767702 sold on 06/11/2021 1.0 (Each) for $55.0\n",
      "Package 767702 sold on 06/23/2021 1.0 (Each) for $50.0\n",
      "Package 767702 sold on 07/06/2021 1.0 (Each) for $45.0\n",
      "Package 767702 sold on 07/11/2021 1.0 (Each) for $45.0\n",
      "Package 767702 sold on 07/14/2021 2.0 (Each) for $90.0\n",
      "Package 767702 sold on 07/17/2021 1.0 (Each) for $45.0\n",
      "Package 767702 sold on 08/10/2021 1.0 (Each) for $45.0\n",
      "Package 767702 sold on 08/26/2021 3.0 (Each) for $135.0\n",
      "Package 767702 sold on 08/27/2021 1.0 (Each) for $45.0\n",
      "Package 767702 sold on 09/08/2021 1.0 (Each) for $45.0\n",
      "Package 767702 sold on 09/17/2021 1.0 (Each) for $45.0\n",
      "Package 767702 sold on 09/25/2021 1.0 (Each) for $45.0\n",
      "Package 767702 sold on 09/26/2021 2.0 (Each) for $90.0\n",
      "Package 767702 has a remaining quantity of 15.0\n"
     ]
    },
    {
     "name": "stdout",
     "output_type": "stream",
     "text": [
      "DEBUGGING PACKAGE_ID=767702\n",
      "Matching active metrc_package:\n",
      "{'license_number': 'MR281525', 'package_id': '767702', 'package_label': '1A40A01000010CD000010718', 'type': 'active', 'packaged_date': datetime.date(2020, 7, 14), 'last_modified_at': Timestamp('2021-11-16 01:02:42+0000', tz='UTC'), 'package_type': 'Product', 'product_name': 'M00000249805: Vape Rythm Heal PAX Pod Otto 1:1 Concentrate', 'product_category_name': 'Vape Product', 'quantity': 5.0, 'unit_of_measure': 'Each', 'item_id': 249805, 'item_product_category_type': 'Concentrate', 'production_batch_number': '', 'source_production_batch_numbers': '', 'source_harvest_names': '', 'is_testing_sample': False, 'is_trade_sample': False, 'is_on_hold': False, 'archived_date': None, 'finished_date': None}\n",
      "\n",
      "INCOMING\n",
      "{'delivery_type': 'INCOMING_FROM_VENDOR', 'license_number': 'MR281525', 'manifest_number': '0000170521', 'created_date': datetime.date(2020, 7, 14), 'received_datetime': datetime.datetime(2020, 7, 14, 23, 32, 25, tzinfo=<UTC>), 'shipment_transaction_type': 'Wholesale', 'shipper_facility_license_number': 'RMD645-P', 'shipper_facility_name': 'Rise Holdings, Inc.', 'recipient_facility_license_number': 'MR281525', 'recipient_facility_name': 'Boston Bud Factory Inc.', 'shipment_type_name': 'Unaffiliated Transfer', 'shipment_transaction_type_1': 'Wholesale', 'package_id': '767702', 'package_label': '1A40A01000010CD000010718', 'type': 'transfer', 'source_package_labels': '1A40A01000010CD000008427', 'source_harvest_names': '', 'shipment_package_state': 'Accepted', 'is_testing_sample': False, 'is_trade_sample': False, 'product_category_name': 'Vape Product', 'product_name': 'M00000249805: Vape Rythm Heal PAX Pod Otto 1:1 Concentrate', 'package_lab_results_status': 'passed', 'shipper_wholesale_price': 30.0, 'shipped_quantity': 47.0, 'shipped_unit_of_measure': 'Each', 'receiver_wholesale_price': 30.0, 'received_quantity': 47.0, 'received_unit_of_measure': 'Each', 'receiver_wholesale_price_1': 30.0, 'item_unit_weight': None, 'item_unit_weight_unit_of_measure_name': None, 'created_month': '2020-07', 'received_date': datetime.date(2020, 7, 14), 'quantity': 47.0, 'unit_of_measure': 'Each', 'price': 30.0, 'date_to_txs': OrderedDict()}\n",
      "\n",
      "\n"
     ]
    }
   ],
   "source": [
    "# For debugging individual package histories\n",
    "_reload_libs()\n",
    "\n",
    "PACKAGE_IDS = [\n",
    "  '767702'\n",
    "]\n",
    "\n",
    "util.analyze_specific_package_histories(\n",
    "    d, PACKAGE_IDS, params=ANALYSIS_PARAMS)"
   ]
  },
  {
   "cell_type": "code",
   "execution_count": null,
   "id": "f716b614-ab70-468f-9ce9-858742af11b3",
   "metadata": {},
   "outputs": [],
   "source": []
  }
 ],
 "metadata": {
  "kernelspec": {
   "display_name": "Python 3",
   "language": "python",
   "name": "python3"
  },
  "language_info": {
   "codemirror_mode": {
    "name": "ipython",
    "version": 3
   },
   "file_extension": ".py",
   "mimetype": "text/x-python",
   "name": "python",
   "nbconvert_exporter": "python",
   "pygments_lexer": "ipython3",
   "version": "3.7.7"
  }
 },
 "nbformat": 4,
 "nbformat_minor": 5
}
