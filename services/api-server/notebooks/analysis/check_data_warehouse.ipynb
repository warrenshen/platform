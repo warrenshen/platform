{
 "cells": [
  {
   "cell_type": "code",
   "execution_count": null,
   "id": "34d0f265-43cd-47cb-ac2c-b577a23473e9",
   "metadata": {},
   "outputs": [],
   "source": [
    "import json\n",
    "import pandas\n",
    "import pyarrow\n",
    "from sqlalchemy import create_engine\n",
    "\n",
    "# Steps to install\n",
    "# 1. pip install sqlalchemy-bigquery google-cloud-bigquery-storage pyarrow\n",
    "# 2. Copy the credentials file to wherever you set BIGQUERY_CREDENTIALS_PATH to"
   ]
  },
  {
   "cell_type": "code",
   "execution_count": null,
   "id": "ae4c4e0e-a3d6-4f4d-a3fb-b4302ae8d90e",
   "metadata": {},
   "outputs": [],
   "source": [
    "import os\n",
    "from dotenv import load_dotenv\n",
    "\n",
    "load_dotenv(verbose=True)\n",
    "BIGQUERY_CREDENTIALS_PATH = os.environ.get('BIGQUERY_CREDENTIALS_PATH')"
   ]
  },
  {
   "cell_type": "code",
   "execution_count": null,
   "id": "30042a89-45a5-4134-a5fb-4baa6a8184c7",
   "metadata": {},
   "outputs": [],
   "source": [
    "table_row_counts_query = \"\"\"\n",
    "    select\n",
    "        table_id,\n",
    "        row_count\n",
    "    from\n",
    "        bespoke-financial.ProdMetrcData.__TABLES__\n",
    "    order by\n",
    "        row_count desc\n",
    "\"\"\"\n",
    "\n",
    "engine = create_engine('bigquery://bespoke-financial/ProdMetrcData', credentials_path=os.path.expanduser(BIGQUERY_CREDENTIALS_PATH))\n",
    "table_row_counts = pandas.read_sql_query(table_row_counts_query, engine)"
   ]
  },
  {
   "cell_type": "code",
   "execution_count": null,
   "id": "6819a64e-6f9b-4b80-9e2c-85ae3931e507",
   "metadata": {},
   "outputs": [],
   "source": [
    "table_row_counts"
   ]
  },
  {
   "cell_type": "code",
   "execution_count": null,
   "id": "3a2908ee-6139-4dac-ac8b-e52b672345fa",
   "metadata": {},
   "outputs": [],
   "source": []
  }
 ],
 "metadata": {
  "kernelspec": {
   "display_name": "Python 3",
   "language": "python",
   "name": "python3"
  },
  "language_info": {
   "codemirror_mode": {
    "name": "ipython",
    "version": 3
   },
   "file_extension": ".py",
   "mimetype": "text/x-python",
   "name": "python",
   "nbconvert_exporter": "python",
   "pygments_lexer": "ipython3",
   "version": "3.7.7"
  }
 },
 "nbformat": 4,
 "nbformat_minor": 5
}
