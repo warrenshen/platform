{
 "cells": [
  {
   "cell_type": "code",
   "execution_count": 1,
   "id": "a1df46ef",
   "metadata": {},
   "outputs": [],
   "source": [
    "import warnings\n",
    "warnings.filterwarnings('ignore')"
   ]
  },
  {
   "cell_type": "code",
   "execution_count": 2,
   "id": "17064e54-fe0f-43e3-a00d-b2776aa5b753",
   "metadata": {},
   "outputs": [],
   "source": [
    "import json\n",
    "import numpy \n",
    "import os\n",
    "import pandas as pd\n",
    "import matplotlib.pyplot as plt\n",
    "%matplotlib inline  \n",
    "import pyarrow\n",
    "import sys\n",
    "\n",
    "from datetime import date\n",
    "from dotenv import load_dotenv\n",
    "from sqlalchemy import create_engine\n",
    "from os import path\n",
    "from typing import List,Dict, Tuple\n",
    "from collections import defaultdict\n",
    "pd.set_option(\"display.max_columns\", None)\n",
    "\n",
    "load_dotenv(verbose=True)\n",
    "BIGQUERY_CREDENTIALS_PATH = os.environ.get('BIGQUERY_CREDENTIALS_PATH')\n",
    "engine = create_engine('bigquery://bespoke-financial/ProdMetrcData', credentials_path=os.path.expanduser(BIGQUERY_CREDENTIALS_PATH))\n",
    "\n",
    "sys.path.append(path.realpath(path.join(os.getcwd(), \"../core\")))\n",
    "sys.path.append(path.realpath(path.join(os.getcwd(), \"../../src\")))\n",
    "sys.path.append(path.realpath(path.join(os.getcwd(), \"../../scripts\")))\n",
    "\n",
    "import create_queries\n",
    "import prepare_data\n",
    "\n",
    "from bespoke.inventory.analysis.shared import download_util, inventory_types\n",
    "from bespoke.inventory.analysis import active_inventory_util as util\n",
    "from bespoke.inventory.analysis import inventory_valuations_util as valuations_util\n",
    "\n",
    "%load_ext autoreload\n",
    "%autoreload 2"
   ]
  },
  {
   "cell_type": "code",
   "execution_count": 3,
   "id": "89297f22",
   "metadata": {},
   "outputs": [],
   "source": [
    "from underwriting import client_surveillance_jupyter"
   ]
  },
  {
   "cell_type": "code",
   "execution_count": 4,
   "id": "038c31ef-3af0-4b64-89b3-32c35769e7b2",
   "metadata": {},
   "outputs": [],
   "source": [
    "COMPANY_IDENTIFIER = ['GF']\n",
    "TRANSFER_PACKAGES_START_DATE = '2020-01-01'\n",
    "SALES_TRANSACTIONS_START_DATE = '2020-01-01'"
   ]
  },
  {
   "cell_type": "code",
   "execution_count": 5,
   "id": "7892d4f2-ef44-45ff-aea9-681fc6c86b34",
   "metadata": {},
   "outputs": [],
   "source": [
    "#fetch download report and lisences\n",
    "company_licenses_query = create_queries.create_company_licenses_query(COMPANY_IDENTIFIER)\n",
    "company_download_summaries_query = create_queries.create_company_download_summaries_query(COMPANY_IDENTIFIER, TRANSFER_PACKAGES_START_DATE)\n",
    "\n",
    "company_licenses_dataframe = pd.read_sql_query(company_licenses_query, engine)\n",
    "company_download_summaries_dataframe = pd.read_sql_query(company_download_summaries_query, engine)"
   ]
  },
  {
   "cell_type": "markdown",
   "id": "5ddb460b",
   "metadata": {},
   "source": [
    "## Check download status summaries"
   ]
  },
  {
   "cell_type": "code",
   "execution_count": 6,
   "id": "cec4010a",
   "metadata": {},
   "outputs": [],
   "source": [
    "license_numbers = company_download_summaries_dataframe['license_number'].unique()\n",
    "download_summary_records = company_download_summaries_dataframe.to_dict('records')"
   ]
  },
  {
   "cell_type": "code",
   "execution_count": 7,
   "id": "2d720e85",
   "metadata": {},
   "outputs": [
    {
     "data": {
      "text/plain": [
       "array(['C12-0000191-LIC', 'C10-0000700-LIC', 'C10-0000805-LIC',\n",
       "       'C10-0000824-LIC', 'C11-0000401-LIC', 'C10-0000117-LIC',\n",
       "       'C10-0000224-LIC'], dtype=object)"
      ]
     },
     "execution_count": 7,
     "metadata": {},
     "output_type": "execute_result"
    }
   ],
   "source": [
    "license_numbers"
   ]
  },
  {
   "cell_type": "code",
   "execution_count": 8,
   "id": "cc634d6a",
   "metadata": {
    "scrolled": true
   },
   "outputs": [],
   "source": [
    "#bad_download_history = client_surveillance_jupyter.check_company_license_download(license_numbers,download_summary_records)"
   ]
  },
  {
   "cell_type": "code",
   "execution_count": 9,
   "id": "931a4474",
   "metadata": {},
   "outputs": [],
   "source": [
    "#bad_download_history"
   ]
  },
  {
   "cell_type": "markdown",
   "id": "5edcc0c3",
   "metadata": {},
   "source": [
    "## Choose license numbers"
   ]
  },
  {
   "cell_type": "code",
   "execution_count": 10,
   "id": "21f2a41f",
   "metadata": {},
   "outputs": [],
   "source": [
    "retail_license_numbers = ['C10-0000700-LIC','C10-0000805-LIC','C10-0000824-LIC','C10-0000117-LIC','C10-0000224-LIC']\n"
   ]
  },
  {
   "cell_type": "code",
   "execution_count": 11,
   "id": "fedeb633",
   "metadata": {},
   "outputs": [],
   "source": [
    "distro_license_numbers = ['C11-0000401-LIC']"
   ]
  },
  {
   "cell_type": "code",
   "execution_count": 12,
   "id": "a6bf81a2",
   "metadata": {},
   "outputs": [],
   "source": [
    "all_license_numbers = ['C12-0000191-LIC', 'C11-0000401-LIC', 'C10-0000805-LIC',\n",
    "       'C10-0000824-LIC', 'C10-0000700-LIC', 'C10-0000117-LIC',\n",
    "       'C10-0000224-LIC']"
   ]
  },
  {
   "cell_type": "markdown",
   "id": "8e35183a",
   "metadata": {},
   "source": [
    "## Pull data"
   ]
  },
  {
   "cell_type": "markdown",
   "id": "88b6fe65",
   "metadata": {},
   "source": [
    "## distro inventory"
   ]
  },
  {
   "cell_type": "code",
   "execution_count": 13,
   "id": "1f646cf5",
   "metadata": {},
   "outputs": [
    {
     "data": {
      "text/plain": [
       "array(['C11-0000401-LIC'], dtype=object)"
      ]
     },
     "execution_count": 13,
     "metadata": {},
     "output_type": "execute_result"
    }
   ],
   "source": [
    "company_inventory_packages_query = create_queries.create_company_inventory_packages_query(\n",
    "    COMPANY_IDENTIFIER,\n",
    "    include_quantity_zero=True,\n",
    "    license_numbers=distro_license_numbers,\n",
    ")\n",
    "company_inventory_packages_dataframe = pd.read_sql_query(company_inventory_packages_query, engine)\n",
    "df_inventory = company_inventory_packages_dataframe\n",
    "df_inventory['license_number'].unique()"
   ]
  },
  {
   "cell_type": "markdown",
   "id": "c5f14e2a",
   "metadata": {},
   "source": [
    "## retail incoming"
   ]
  },
  {
   "cell_type": "code",
   "execution_count": 14,
   "id": "6500a2d0",
   "metadata": {},
   "outputs": [
    {
     "data": {
      "text/plain": [
       "array(['C10-0000824-LIC', 'C10-0000700-LIC', 'C10-0000805-LIC',\n",
       "       'C10-0000224-LIC'], dtype=object)"
      ]
     },
     "execution_count": 14,
     "metadata": {},
     "output_type": "execute_result"
    }
   ],
   "source": [
    "company_incoming_transfer_packages_query = create_queries.create_company_incoming_transfer_packages_query(\n",
    "    COMPANY_IDENTIFIER,\n",
    "    TRANSFER_PACKAGES_START_DATE,\n",
    "    license_numbers=retail_license_numbers,\n",
    ")\n",
    "\n",
    "company_incoming_transfer_packages_dataframe = pd.read_sql_query(company_incoming_transfer_packages_query, engine)\n",
    "df_in_retail = company_incoming_transfer_packages_dataframe\n",
    "df_in_retail['license_number'].unique()"
   ]
  },
  {
   "cell_type": "markdown",
   "id": "aa892b2a",
   "metadata": {},
   "source": [
    "## all incoming"
   ]
  },
  {
   "cell_type": "code",
   "execution_count": 15,
   "id": "60c026b1",
   "metadata": {},
   "outputs": [
    {
     "data": {
      "text/plain": [
       "array(['C11-0000401-LIC', 'C10-0000824-LIC', 'C10-0000805-LIC',\n",
       "       'C10-0000700-LIC', 'C10-0000224-LIC', 'C12-0000191-LIC'],\n",
       "      dtype=object)"
      ]
     },
     "execution_count": 15,
     "metadata": {},
     "output_type": "execute_result"
    }
   ],
   "source": [
    "all_incoming_query = create_queries.create_company_incoming_transfer_packages_query(\n",
    "    COMPANY_IDENTIFIER,\n",
    "    TRANSFER_PACKAGES_START_DATE,\n",
    "    license_numbers=all_license_numbers,\n",
    ")\n",
    "\n",
    "df_in_all = pd.read_sql_query(all_incoming_query, engine)\n",
    "df_in_all['license_number'].unique()"
   ]
  },
  {
   "cell_type": "markdown",
   "id": "6dd25350",
   "metadata": {},
   "source": [
    "## distro incoming"
   ]
  },
  {
   "cell_type": "code",
   "execution_count": 16,
   "id": "d7413d76",
   "metadata": {},
   "outputs": [
    {
     "data": {
      "text/plain": [
       "array(['C11-0000401-LIC'], dtype=object)"
      ]
     },
     "execution_count": 16,
     "metadata": {},
     "output_type": "execute_result"
    }
   ],
   "source": [
    "distro_incoming_query = create_queries.create_company_incoming_transfer_packages_query(\n",
    "    COMPANY_IDENTIFIER,\n",
    "    TRANSFER_PACKAGES_START_DATE,\n",
    "    license_numbers=distro_license_numbers,\n",
    ")\n",
    "\n",
    "df_in_distro = pd.read_sql_query(distro_incoming_query, engine)\n",
    "df_in_distro['license_number'].unique()"
   ]
  },
  {
   "cell_type": "markdown",
   "id": "bb6687bb",
   "metadata": {},
   "source": [
    "## distro outgoing"
   ]
  },
  {
   "cell_type": "code",
   "execution_count": 17,
   "id": "6eb29f6e",
   "metadata": {},
   "outputs": [
    {
     "data": {
      "text/plain": [
       "array(['C11-0000401-LIC'], dtype=object)"
      ]
     },
     "execution_count": 17,
     "metadata": {},
     "output_type": "execute_result"
    }
   ],
   "source": [
    "distro_outgoing_query = create_queries.create_company_outgoing_transfer_packages_query(\n",
    "    COMPANY_IDENTIFIER,\n",
    "    TRANSFER_PACKAGES_START_DATE,\n",
    "    license_numbers=distro_license_numbers,\n",
    ")\n",
    "\n",
    "df_out_distro = pd.read_sql_query(distro_outgoing_query, engine)\n",
    "df_out_distro['license_number'].unique()"
   ]
  },
  {
   "cell_type": "markdown",
   "id": "aeae03f8",
   "metadata": {},
   "source": [
    "# look at distro incoming data"
   ]
  },
  {
   "cell_type": "code",
   "execution_count": null,
   "id": "f296e165",
   "metadata": {},
   "outputs": [],
   "source": [
    "df_in_distro['created_date'] = pd.to_datetime(df_in_distro['created_date'])\n",
    "df_in_distro['create_year'] = [df_in_distro['created_date'][i].year for i in range(len(df_in_distro))]\n"
   ]
  },
  {
   "cell_type": "code",
   "execution_count": null,
   "id": "12229c57",
   "metadata": {},
   "outputs": [],
   "source": [
    "# how many from internal vs external?\n",
    "df_in_distro[['create_year','delivery_type','package_id']].groupby(['create_year','delivery_type']).count()"
   ]
  },
  {
   "cell_type": "code",
   "execution_count": null,
   "id": "ca08ab22",
   "metadata": {},
   "outputs": [],
   "source": [
    "# who are they buying from?\n",
    "df_in_distro[df_in_distro['delivery_type'] == 'INCOMING_FROM_VENDOR']['shipper_facility_license_number'].unique()"
   ]
  },
  {
   "cell_type": "code",
   "execution_count": null,
   "id": "8ac0ab98",
   "metadata": {},
   "outputs": [],
   "source": [
    "# top parties they buy from in 2022\n",
    "df_in_distro[df_in_distro['create_year'] == 2022][['shipper_facility_name','package_id']].\\\n",
    "groupby('shipper_facility_name').count().sort_values(by = 'package_id',ascending = False)"
   ]
  },
  {
   "cell_type": "code",
   "execution_count": null,
   "id": "63769320",
   "metadata": {},
   "outputs": [],
   "source": [
    "# df_in_distro_2022 = df_in_distro[(df_in_distro['created_date'] >= '2022-06-01')&\\\n",
    "#                                  (~df_in_distro['received_datetime'].isna()&\n",
    "#                                   (df_in_distro['receiver_wholesale_price'].isna()))]"
   ]
  },
  {
   "cell_type": "code",
   "execution_count": null,
   "id": "4ceda9d5",
   "metadata": {},
   "outputs": [],
   "source": [
    "#df_in_distro_2022['product_name'].to_dict().values()"
   ]
  },
  {
   "cell_type": "markdown",
   "id": "c2d8a947",
   "metadata": {},
   "source": [
    "# look at distro outgoing data"
   ]
  },
  {
   "cell_type": "code",
   "execution_count": null,
   "id": "fd2358fa",
   "metadata": {},
   "outputs": [],
   "source": [
    "df_out_distro['created_date'] = pd.to_datetime(df_out_distro['created_date'])\n",
    "df_out_distro['create_year'] = [df_out_distro['created_date'][i].year for i in range(len(df_out_distro))]\n"
   ]
  },
  {
   "cell_type": "code",
   "execution_count": null,
   "id": "eed0657d",
   "metadata": {},
   "outputs": [],
   "source": [
    "df_out_distro_in = df_out_distro[df_out_distro['recipient_facility_license_number'].isin(retail_license_numbers+distro_license_numbers)]"
   ]
  },
  {
   "cell_type": "code",
   "execution_count": null,
   "id": "06d2c828",
   "metadata": {},
   "outputs": [],
   "source": [
    "# outgoing to internal \n",
    "df_out_distro_in[['create_year','package_id']].groupby(['create_year']).count()"
   ]
  },
  {
   "cell_type": "code",
   "execution_count": null,
   "id": "3a2a8fc8",
   "metadata": {},
   "outputs": [],
   "source": [
    "df_out_distro_ex = df_out_distro[~df_out_distro['recipient_facility_license_number'].isin(retail_license_numbers+distro_license_numbers)]"
   ]
  },
  {
   "cell_type": "code",
   "execution_count": null,
   "id": "82e80dac",
   "metadata": {},
   "outputs": [],
   "source": [
    "# outgoing to external\n",
    "df_out_distro_ex[['create_year','package_id']].groupby(['create_year']).count()"
   ]
  },
  {
   "cell_type": "code",
   "execution_count": null,
   "id": "050bee8a",
   "metadata": {},
   "outputs": [],
   "source": [
    "# outgoing to external in 2022 who are they?\n",
    "df_out_distro_ex[df_out_distro_ex['create_year'] == 2022]['recipient_facility_license_number'].unique()"
   ]
  },
  {
   "cell_type": "code",
   "execution_count": null,
   "id": "ef9d9e55",
   "metadata": {},
   "outputs": [],
   "source": [
    "# outgoing to external in 2022 who are they?\n",
    "df_out_distro_ex[df_out_distro_ex['create_year'] == 2022][['recipient_facility_name','recipient_facility_license_number','package_id']].\\\n",
    "groupby(['recipient_facility_name','recipient_facility_license_number']).count().sort_values(by = 'package_id',ascending = False)"
   ]
  },
  {
   "cell_type": "markdown",
   "id": "5c02527f",
   "metadata": {},
   "source": [
    "## external outgoing to retailers"
   ]
  },
  {
   "cell_type": "code",
   "execution_count": null,
   "id": "fca2d218",
   "metadata": {},
   "outputs": [],
   "source": [
    "df_out_distro_ex_ret = df_out_distro_ex[df_out_distro_ex['recipient_facility_license_number'].isin(\\\n",
    "                                                                                                   ['C10-0000112-LIC','C10-0000612-LIC',\\\n",
    "                                                                                                    'C10-0000329-LIC','C10-0000241-LIC'])]"
   ]
  },
  {
   "cell_type": "code",
   "execution_count": null,
   "id": "2136d540",
   "metadata": {},
   "outputs": [],
   "source": [
    "df_out_distro_ex_ret['per_unit'] = df_out_distro_ex_ret['receiver_wholesale_price'] / df_out_distro_ex_ret['received_quantity']\n",
    "df_out_distro_ex_ret = df_out_distro_ex_ret[df_out_distro_ex_ret['per_unit'] > 0.1]\n"
   ]
  },
  {
   "cell_type": "code",
   "execution_count": null,
   "id": "d9eac8b9",
   "metadata": {},
   "outputs": [],
   "source": [
    "price_ext_ret = df_out_distro_ex_ret[['product_name','per_unit']].groupby('product_name').mean().reset_index()"
   ]
  },
  {
   "cell_type": "code",
   "execution_count": null,
   "id": "d7bb755f",
   "metadata": {},
   "outputs": [],
   "source": [
    "q_ext_ret = df_out_distro_ex_ret[['product_name','received_quantity']].groupby('product_name').sum().reset_index()"
   ]
  },
  {
   "cell_type": "markdown",
   "id": "bf5c13e7",
   "metadata": {},
   "source": [
    "## internal outoing to retailers"
   ]
  },
  {
   "cell_type": "code",
   "execution_count": null,
   "id": "4bc90618",
   "metadata": {},
   "outputs": [],
   "source": [
    "df_out_distro_in_ret = df_out_distro_in[(df_out_distro_in['create_year'] == 2022)&\\\n",
    "                                        (df_out_distro_in['recipient_facility_license_number'].isin(retail_license_numbers))]\n"
   ]
  },
  {
   "cell_type": "code",
   "execution_count": null,
   "id": "e24ee70b",
   "metadata": {},
   "outputs": [],
   "source": [
    "df_out_distro_in_ret['per_unit'] = df_out_distro_in_ret['receiver_wholesale_price'] / df_out_distro_in_ret['received_quantity']\n",
    "df_out_distro_in_ret = df_out_distro_in_ret[df_out_distro_in_ret['per_unit'] > 0.1]\n"
   ]
  },
  {
   "cell_type": "code",
   "execution_count": null,
   "id": "406c6036",
   "metadata": {},
   "outputs": [],
   "source": [
    "price_in_ret = df_out_distro_in_ret[['product_name','per_unit']].groupby('product_name').mean().reset_index()"
   ]
  },
  {
   "cell_type": "code",
   "execution_count": null,
   "id": "4dfe2c4e",
   "metadata": {},
   "outputs": [],
   "source": [
    "q_in_ret = df_out_distro_in_ret[['product_name','received_quantity']].groupby('product_name').sum().reset_index()"
   ]
  },
  {
   "cell_type": "markdown",
   "id": "04272999",
   "metadata": {},
   "source": [
    "## merge the two pricing"
   ]
  },
  {
   "cell_type": "code",
   "execution_count": null,
   "id": "55d7fdc0",
   "metadata": {},
   "outputs": [],
   "source": [
    "test = price_in_ret.merge(price_ext_ret,on = ['product_name'],how = 'left').\\\n",
    "merge(q_in_ret,on = ['product_name'],how = 'left').\\\n",
    "merge(q_ext_ret,on = ['product_name'],how = 'left')\n",
    "\n",
    "\n"
   ]
  },
  {
   "cell_type": "code",
   "execution_count": null,
   "id": "74b020f8",
   "metadata": {},
   "outputs": [],
   "source": [
    "test"
   ]
  },
  {
   "cell_type": "code",
   "execution_count": null,
   "id": "2045db29",
   "metadata": {},
   "outputs": [],
   "source": [
    "match = test[~(test['per_unit_x'].isna())&~(test['per_unit_y'].isna())]"
   ]
  },
  {
   "cell_type": "code",
   "execution_count": null,
   "id": "6b095653",
   "metadata": {},
   "outputs": [],
   "source": [
    "match.columns = ['product_name','per_unit_int','per_unit_ext','quantity_int','quantity_ext']"
   ]
  },
  {
   "cell_type": "code",
   "execution_count": null,
   "id": "00d6a1b7",
   "metadata": {},
   "outputs": [],
   "source": [
    "match['price_diff'] = match['per_unit_int'] - match['per_unit_ext']"
   ]
  },
  {
   "cell_type": "code",
   "execution_count": null,
   "id": "e65b68cf",
   "metadata": {},
   "outputs": [],
   "source": [
    "match"
   ]
  },
  {
   "cell_type": "code",
   "execution_count": null,
   "id": "23ffb902",
   "metadata": {},
   "outputs": [],
   "source": [
    "\n",
    "df_out_distro_in_ret[df_out_distro_in_ret['product_name'] == 'Paletas - Cherry Pie - Infused Blunt - 2.1g']"
   ]
  },
  {
   "cell_type": "markdown",
   "id": "2c84e424",
   "metadata": {},
   "source": [
    "## retail sales"
   ]
  },
  {
   "cell_type": "code",
   "execution_count": 34,
   "id": "ac650da2",
   "metadata": {},
   "outputs": [
    {
     "data": {
      "text/plain": [
       "array(['C10-0000805-LIC', 'C10-0000824-LIC', 'C10-0000700-LIC',\n",
       "       'C10-0000117-LIC', 'C10-0000224-LIC'], dtype=object)"
      ]
     },
     "execution_count": 34,
     "metadata": {},
     "output_type": "execute_result"
    }
   ],
   "source": [
    "company_sales_receipts_with_transactions_query = create_queries.create_company_sales_receipts_with_transactions_query(\n",
    "    COMPANY_IDENTIFIER,\n",
    "    SALES_TRANSACTIONS_START_DATE,\n",
    "    license_numbers=retail_license_numbers,\n",
    ")\n",
    "company_sales_receipts_with_transactions_dataframe = pd.read_sql_query(company_sales_receipts_with_transactions_query, engine)\n",
    "company_sales_receipts_with_transactions_dataframe['license_number'].unique()\n",
    "\n"
   ]
  },
  {
   "cell_type": "markdown",
   "id": "e632a6c8",
   "metadata": {},
   "source": [
    "## dedupe sales transactions"
   ]
  },
  {
   "cell_type": "code",
   "execution_count": 35,
   "id": "54e232ef-5871-401c-9716-254f6242d138",
   "metadata": {},
   "outputs": [],
   "source": [
    "deduped_sales_receipts_with_transactions_dataframe = prepare_data.dedupe_sales_transactions(company_sales_receipts_with_transactions_dataframe)"
   ]
  },
  {
   "cell_type": "code",
   "execution_count": 36,
   "id": "3aa67466",
   "metadata": {},
   "outputs": [],
   "source": [
    "deduped_sales_receipts_with_transactions_dataframe['sales_month'] = deduped_sales_receipts_with_transactions_dataframe['sales_datetime'].dt.strftime('%Y-%m')"
   ]
  },
  {
   "cell_type": "code",
   "execution_count": 37,
   "id": "7a8bf4d7",
   "metadata": {},
   "outputs": [
    {
     "data": {
      "text/plain": [
       "array(['C10-0000805-LIC', 'C10-0000824-LIC', 'C10-0000700-LIC',\n",
       "       'C10-0000117-LIC', 'C10-0000224-LIC'], dtype=object)"
      ]
     },
     "execution_count": 37,
     "metadata": {},
     "output_type": "execute_result"
    }
   ],
   "source": [
    "#check we have all locations\n",
    "deduped_sales_receipts_with_transactions_dataframe['license_number'].unique()"
   ]
  },
  {
   "cell_type": "code",
   "execution_count": 38,
   "id": "e1094b3e",
   "metadata": {},
   "outputs": [],
   "source": [
    "df_sales_retail = deduped_sales_receipts_with_transactions_dataframe"
   ]
  },
  {
   "cell_type": "markdown",
   "id": "ec024f55",
   "metadata": {},
   "source": [
    "# Inventory"
   ]
  },
  {
   "cell_type": "code",
   "execution_count": 18,
   "id": "298ac0f2",
   "metadata": {},
   "outputs": [
    {
     "data": {
      "text/plain": [
       "datetime.date(2022, 9, 21)"
      ]
     },
     "execution_count": 18,
     "metadata": {},
     "output_type": "execute_result"
    }
   ],
   "source": [
    "today = date.today()\n",
    "today"
   ]
  },
  {
   "cell_type": "code",
   "execution_count": 19,
   "id": "bd64953d",
   "metadata": {},
   "outputs": [
    {
     "data": {
      "text/plain": [
       "['GF']"
      ]
     },
     "execution_count": 19,
     "metadata": {},
     "output_type": "execute_result"
    }
   ],
   "source": [
    "COMPANY_IDENTIFIER"
   ]
  },
  {
   "cell_type": "code",
   "execution_count": 20,
   "id": "7178d8cc",
   "metadata": {},
   "outputs": [
    {
     "data": {
      "text/plain": [
       "['C11-0000401-LIC']"
      ]
     },
     "execution_count": 20,
     "metadata": {},
     "output_type": "execute_result"
    }
   ],
   "source": [
    "distro_license_numbers"
   ]
  },
  {
   "cell_type": "markdown",
   "id": "51beb44f",
   "metadata": {},
   "source": [
    "## 1. distro inventory + sales based (distro to retail)"
   ]
  },
  {
   "cell_type": "code",
   "execution_count": 29,
   "id": "21ca80d4",
   "metadata": {},
   "outputs": [],
   "source": [
    "inv_val_distro_to_retail,inv_all_distro_to_retail = client_surveillance_jupyter.calculate_inventory_valuation(df_in_retail,df_inventory,license_numbers,today)\n",
    "\n",
    "#make sense for CPG\n"
   ]
  },
  {
   "cell_type": "code",
   "execution_count": 30,
   "id": "3ab4b432",
   "metadata": {},
   "outputs": [
    {
     "data": {
      "text/html": [
       "<div>\n",
       "<style scoped>\n",
       "    .dataframe tbody tr th:only-of-type {\n",
       "        vertical-align: middle;\n",
       "    }\n",
       "\n",
       "    .dataframe tbody tr th {\n",
       "        vertical-align: top;\n",
       "    }\n",
       "\n",
       "    .dataframe thead th {\n",
       "        text-align: right;\n",
       "    }\n",
       "</style>\n",
       "<table border=\"1\" class=\"dataframe\">\n",
       "  <thead>\n",
       "    <tr style=\"text-align: right;\">\n",
       "      <th></th>\n",
       "      <th>date</th>\n",
       "      <th>value</th>\n",
       "      <th>value_after_tax</th>\n",
       "      <th>total_incoming</th>\n",
       "      <th>total</th>\n",
       "      <th>coverage</th>\n",
       "      <th>license</th>\n",
       "      <th>legal_name</th>\n",
       "    </tr>\n",
       "  </thead>\n",
       "  <tbody>\n",
       "    <tr>\n",
       "      <th>0</th>\n",
       "      <td>2022-09-21</td>\n",
       "      <td>1000124.01</td>\n",
       "      <td>1262656.57</td>\n",
       "      <td>819</td>\n",
       "      <td>1120</td>\n",
       "      <td>0.73</td>\n",
       "      <td>[C12-0000191-LIC, C10-0000700-LIC, C10-0000805...</td>\n",
       "      <td>FLOR EAST BAY, LLC</td>\n",
       "    </tr>\n",
       "  </tbody>\n",
       "</table>\n",
       "</div>"
      ],
      "text/plain": [
       "         date       value value_after_tax total_incoming total coverage  \\\n",
       "0  2022-09-21  1000124.01      1262656.57            819  1120     0.73   \n",
       "\n",
       "                                             license          legal_name  \n",
       "0  [C12-0000191-LIC, C10-0000700-LIC, C10-0000805...  FLOR EAST BAY, LLC  "
      ]
     },
     "execution_count": 30,
     "metadata": {},
     "output_type": "execute_result"
    }
   ],
   "source": [
    "inv_val_distro_to_retail"
   ]
  },
  {
   "cell_type": "code",
   "execution_count": 25,
   "id": "ca719b5a",
   "metadata": {},
   "outputs": [],
   "source": [
    "#df = df_out_distro[df_out_distro['recipient_facility_license_number'].isin(retail_license_numbers)]"
   ]
  },
  {
   "cell_type": "code",
   "execution_count": 31,
   "id": "ba76aeb4",
   "metadata": {},
   "outputs": [
    {
     "data": {
      "text/plain": [
       "array([1370032.890410959], dtype=object)"
      ]
     },
     "execution_count": 31,
     "metadata": {},
     "output_type": "execute_result"
    }
   ],
   "source": [
    "inv_val_distro_to_retail['value'].values / inv_val_distro_to_retail['coverage'].values"
   ]
  },
  {
   "cell_type": "code",
   "execution_count": 32,
   "id": "db62e16b",
   "metadata": {},
   "outputs": [],
   "source": [
    "missing = inv_all_distro_to_retail[inv_all_distro_to_retail['per_unit_product'].isna()]"
   ]
  },
  {
   "cell_type": "code",
   "execution_count": 55,
   "id": "d97afd56",
   "metadata": {},
   "outputs": [
    {
     "data": {
      "text/html": [
       "<div>\n",
       "<style scoped>\n",
       "    .dataframe tbody tr th:only-of-type {\n",
       "        vertical-align: middle;\n",
       "    }\n",
       "\n",
       "    .dataframe tbody tr th {\n",
       "        vertical-align: top;\n",
       "    }\n",
       "\n",
       "    .dataframe thead th {\n",
       "        text-align: right;\n",
       "    }\n",
       "</style>\n",
       "<table border=\"1\" class=\"dataframe\">\n",
       "  <thead>\n",
       "    <tr style=\"text-align: right;\">\n",
       "      <th></th>\n",
       "      <th></th>\n",
       "      <th>quantity</th>\n",
       "    </tr>\n",
       "    <tr>\n",
       "      <th>product_name</th>\n",
       "      <th>unit_of_measure</th>\n",
       "      <th></th>\n",
       "    </tr>\n",
       "  </thead>\n",
       "  <tbody>\n",
       "    <tr>\n",
       "      <th>Firesale Blackberry Diesel Sativa Preroll 0.7g</th>\n",
       "      <th>Each</th>\n",
       "      <td>13812.0</td>\n",
       "    </tr>\n",
       "    <tr>\n",
       "      <th>Firesale MAC Hybrid Preroll 0.7g</th>\n",
       "      <th>Each</th>\n",
       "      <td>13614.0</td>\n",
       "    </tr>\n",
       "    <tr>\n",
       "      <th>GRIZZLY PEAK - Indica Bone - 0.5g - 7PK</th>\n",
       "      <th>Each</th>\n",
       "      <td>3048.0</td>\n",
       "    </tr>\n",
       "    <tr>\n",
       "      <th>Firesale Mochi Runtz Hybrid 5-Shot Preroll Pack 3.5g</th>\n",
       "      <th>Each</th>\n",
       "      <td>2109.0</td>\n",
       "    </tr>\n",
       "    <tr>\n",
       "      <th>Firesale Panama Punch Sativa 5-Shot Prerolls Pack 3.5g</th>\n",
       "      <th>Each</th>\n",
       "      <td>2099.0</td>\n",
       "    </tr>\n",
       "    <tr>\n",
       "      <th>...</th>\n",
       "      <th>...</th>\n",
       "      <td>...</td>\n",
       "    </tr>\n",
       "    <tr>\n",
       "      <th>High Supply - Silver Haze - Sativa - Flower 3.5g</th>\n",
       "      <th>Each</th>\n",
       "      <td>1.0</td>\n",
       "    </tr>\n",
       "    <tr>\n",
       "      <th>High Supply - Sour Apple - Indica - Flower 14g</th>\n",
       "      <th>Each</th>\n",
       "      <td>1.0</td>\n",
       "    </tr>\n",
       "    <tr>\n",
       "      <th>High Supply - Sour Apple - Indica - Flower 3.5g</th>\n",
       "      <th>Each</th>\n",
       "      <td>1.0</td>\n",
       "    </tr>\n",
       "    <tr>\n",
       "      <th>High Supply - Strawberry Banana - Hybrid - Flower 1oz</th>\n",
       "      <th>Each</th>\n",
       "      <td>1.0</td>\n",
       "    </tr>\n",
       "    <tr>\n",
       "      <th>LPC x Jealousy 3.5g</th>\n",
       "      <th>Each</th>\n",
       "      <td>1.0</td>\n",
       "    </tr>\n",
       "  </tbody>\n",
       "</table>\n",
       "<p>264 rows × 1 columns</p>\n",
       "</div>"
      ],
      "text/plain": [
       "                                                                    quantity\n",
       "product_name                                       unit_of_measure          \n",
       "Firesale Blackberry Diesel Sativa Preroll 0.7g     Each              13812.0\n",
       "Firesale MAC Hybrid Preroll 0.7g                   Each              13614.0\n",
       "GRIZZLY PEAK - Indica Bone - 0.5g - 7PK            Each               3048.0\n",
       "Firesale Mochi Runtz Hybrid 5-Shot Preroll Pack... Each               2109.0\n",
       "Firesale Panama Punch Sativa 5-Shot Prerolls Pa... Each               2099.0\n",
       "...                                                                      ...\n",
       "High Supply - Silver Haze - Sativa - Flower 3.5g   Each                  1.0\n",
       "High Supply - Sour Apple - Indica - Flower 14g     Each                  1.0\n",
       "High Supply - Sour Apple - Indica - Flower 3.5g    Each                  1.0\n",
       "High Supply - Strawberry Banana - Hybrid - Flow... Each                  1.0\n",
       "LPC x Jealousy 3.5g                                Each                  1.0\n",
       "\n",
       "[264 rows x 1 columns]"
      ]
     },
     "execution_count": 55,
     "metadata": {},
     "output_type": "execute_result"
    }
   ],
   "source": [
    "missing[['product_name','unit_of_measure','quantity']].groupby(['product_name','unit_of_measure']).sum().sort_values(by = 'quantity',ascending = False)\n",
    "\n",
    "\n"
   ]
  },
  {
   "cell_type": "code",
   "execution_count": 47,
   "id": "e3eb7e2a",
   "metadata": {},
   "outputs": [
    {
     "data": {
      "text/html": [
       "<div>\n",
       "<style scoped>\n",
       "    .dataframe tbody tr th:only-of-type {\n",
       "        vertical-align: middle;\n",
       "    }\n",
       "\n",
       "    .dataframe tbody tr th {\n",
       "        vertical-align: top;\n",
       "    }\n",
       "\n",
       "    .dataframe thead th {\n",
       "        text-align: right;\n",
       "    }\n",
       "</style>\n",
       "<table border=\"1\" class=\"dataframe\">\n",
       "  <thead>\n",
       "    <tr style=\"text-align: right;\">\n",
       "      <th></th>\n",
       "      <th>license_number</th>\n",
       "      <th>package_id</th>\n",
       "      <th>package_label</th>\n",
       "      <th>type</th>\n",
       "      <th>packaged_date</th>\n",
       "      <th>last_modified_at</th>\n",
       "      <th>package_type</th>\n",
       "      <th>product_name</th>\n",
       "      <th>product_category_name</th>\n",
       "      <th>quantity</th>\n",
       "      <th>unit_of_measure</th>\n",
       "      <th>item_id</th>\n",
       "      <th>item_product_category_type</th>\n",
       "      <th>production_batch_number</th>\n",
       "      <th>source_production_batch_numbers</th>\n",
       "      <th>source_harvest_names</th>\n",
       "      <th>is_testing_sample</th>\n",
       "      <th>is_trade_sample</th>\n",
       "      <th>is_on_hold</th>\n",
       "      <th>archived_date</th>\n",
       "      <th>finished_date</th>\n",
       "      <th>per_unit_incoming</th>\n",
       "      <th>per_unit_product</th>\n",
       "    </tr>\n",
       "  </thead>\n",
       "  <tbody>\n",
       "    <tr>\n",
       "      <th>1068</th>\n",
       "      <td>C11-0000401-LIC</td>\n",
       "      <td>18955488</td>\n",
       "      <td>1A4060300002A31000000953</td>\n",
       "      <td>active</td>\n",
       "      <td>2021-10-21</td>\n",
       "      <td>2021-10-25 18:39:32+00:00</td>\n",
       "      <td>Product</td>\n",
       "      <td>GRIZZLY PEAK - Indica Bone - 0.5g - 7PK</td>\n",
       "      <td>Pre-Roll Infused</td>\n",
       "      <td>3048.0</td>\n",
       "      <td>Each</td>\n",
       "      <td>3573113</td>\n",
       "      <td>Concentrate</td>\n",
       "      <td>IB7PK005</td>\n",
       "      <td></td>\n",
       "      <td>7/27/21 - 200 Flower 1 - Club Soda - Wet Flowe...</td>\n",
       "      <td>False</td>\n",
       "      <td>False</td>\n",
       "      <td>False</td>\n",
       "      <td>None</td>\n",
       "      <td>None</td>\n",
       "      <td>NaN</td>\n",
       "      <td>NaN</td>\n",
       "    </tr>\n",
       "  </tbody>\n",
       "</table>\n",
       "</div>"
      ],
      "text/plain": [
       "       license_number package_id             package_label    type  \\\n",
       "1068  C11-0000401-LIC   18955488  1A4060300002A31000000953  active   \n",
       "\n",
       "     packaged_date          last_modified_at package_type  \\\n",
       "1068    2021-10-21 2021-10-25 18:39:32+00:00      Product   \n",
       "\n",
       "                                 product_name product_category_name  quantity  \\\n",
       "1068  GRIZZLY PEAK - Indica Bone - 0.5g - 7PK      Pre-Roll Infused    3048.0   \n",
       "\n",
       "     unit_of_measure  item_id item_product_category_type  \\\n",
       "1068            Each  3573113                Concentrate   \n",
       "\n",
       "     production_batch_number source_production_batch_numbers  \\\n",
       "1068                IB7PK005                                   \n",
       "\n",
       "                                   source_harvest_names  is_testing_sample  \\\n",
       "1068  7/27/21 - 200 Flower 1 - Club Soda - Wet Flowe...              False   \n",
       "\n",
       "      is_trade_sample  is_on_hold archived_date finished_date  \\\n",
       "1068            False       False          None          None   \n",
       "\n",
       "      per_unit_incoming  per_unit_product  \n",
       "1068                NaN               NaN  "
      ]
     },
     "execution_count": 47,
     "metadata": {},
     "output_type": "execute_result"
    }
   ],
   "source": [
    "missing[missing['product_name'] == 'GRIZZLY PEAK - Indica Bone - 0.5g - 7PK']"
   ]
  },
  {
   "cell_type": "code",
   "execution_count": null,
   "id": "88523604",
   "metadata": {},
   "outputs": [],
   "source": [
    "# search for these products from GF's retail sales\n",
    "# when they come in? new product?\n",
    "#retailers should be selling them, do they appear in transactions?\n"
   ]
  },
  {
   "cell_type": "code",
   "execution_count": 62,
   "id": "77beb76b",
   "metadata": {},
   "outputs": [],
   "source": [
    "#df_sales_retail[df_sales_retail['tx_product_name'] == 'Firesale Panama Punch Sativa 5-Shot Prerolls Pack 3.5g\t']"
   ]
  },
  {
   "cell_type": "code",
   "execution_count": 56,
   "id": "e8d90d34",
   "metadata": {},
   "outputs": [
    {
     "data": {
      "text/html": [
       "<div>\n",
       "<style scoped>\n",
       "    .dataframe tbody tr th:only-of-type {\n",
       "        vertical-align: middle;\n",
       "    }\n",
       "\n",
       "    .dataframe tbody tr th {\n",
       "        vertical-align: top;\n",
       "    }\n",
       "\n",
       "    .dataframe thead th {\n",
       "        text-align: right;\n",
       "    }\n",
       "</style>\n",
       "<table border=\"1\" class=\"dataframe\">\n",
       "  <thead>\n",
       "    <tr style=\"text-align: right;\">\n",
       "      <th></th>\n",
       "      <th>delivery_type</th>\n",
       "      <th>license_number</th>\n",
       "      <th>manifest_number</th>\n",
       "      <th>created_date</th>\n",
       "      <th>received_datetime</th>\n",
       "      <th>shipment_transaction_type</th>\n",
       "      <th>shipper_facility_license_number</th>\n",
       "      <th>shipper_facility_name</th>\n",
       "      <th>recipient_facility_license_number</th>\n",
       "      <th>recipient_facility_name</th>\n",
       "      <th>shipment_type_name</th>\n",
       "      <th>shipment_transaction_type_1</th>\n",
       "      <th>package_id</th>\n",
       "      <th>package_label</th>\n",
       "      <th>type</th>\n",
       "      <th>source_package_labels</th>\n",
       "      <th>source_harvest_names</th>\n",
       "      <th>shipment_package_state</th>\n",
       "      <th>is_testing_sample</th>\n",
       "      <th>is_trade_sample</th>\n",
       "      <th>product_category_name</th>\n",
       "      <th>product_name</th>\n",
       "      <th>package_lab_results_status</th>\n",
       "      <th>shipper_wholesale_price</th>\n",
       "      <th>shipped_quantity</th>\n",
       "      <th>shipped_unit_of_measure</th>\n",
       "      <th>receiver_wholesale_price</th>\n",
       "      <th>received_quantity</th>\n",
       "      <th>received_unit_of_measure</th>\n",
       "      <th>item_unit_weight</th>\n",
       "      <th>item_unit_weight_unit_of_measure_name</th>\n",
       "    </tr>\n",
       "  </thead>\n",
       "  <tbody>\n",
       "    <tr>\n",
       "      <th>301</th>\n",
       "      <td>INCOMING_FROM_VENDOR</td>\n",
       "      <td>C11-0000401-LIC</td>\n",
       "      <td>0004067038</td>\n",
       "      <td>2022-09-20</td>\n",
       "      <td>2022-09-20 21:24:19+00:00</td>\n",
       "      <td>Standard</td>\n",
       "      <td>CDPH-10002658</td>\n",
       "      <td>710 COMBINATOR CO.</td>\n",
       "      <td>C11-0000401-LIC</td>\n",
       "      <td>FLOR X, INC.</td>\n",
       "      <td>Transfer</td>\n",
       "      <td>Standard</td>\n",
       "      <td>28977657</td>\n",
       "      <td>1A4060300002A31000001671</td>\n",
       "      <td>transfer</td>\n",
       "      <td>1A40603000087FB000000575, 1A4060300009B2C00000...</td>\n",
       "      <td>Jealousy-Bloom 3-8/18/22, Planet Dosi R2 H3.3....</td>\n",
       "      <td>Accepted</td>\n",
       "      <td>False</td>\n",
       "      <td>False</td>\n",
       "      <td>Pre-Roll Leaf</td>\n",
       "      <td>Firesale Blackberry Diesel Sativa Preroll 0.7g</td>\n",
       "      <td>failed</td>\n",
       "      <td>NaN</td>\n",
       "      <td>13844.0</td>\n",
       "      <td>Each</td>\n",
       "      <td>NaN</td>\n",
       "      <td>13844.0</td>\n",
       "      <td>Each</td>\n",
       "      <td>0.7</td>\n",
       "      <td>Grams</td>\n",
       "    </tr>\n",
       "  </tbody>\n",
       "</table>\n",
       "</div>"
      ],
      "text/plain": [
       "            delivery_type   license_number manifest_number created_date  \\\n",
       "301  INCOMING_FROM_VENDOR  C11-0000401-LIC      0004067038   2022-09-20   \n",
       "\n",
       "            received_datetime shipment_transaction_type  \\\n",
       "301 2022-09-20 21:24:19+00:00                  Standard   \n",
       "\n",
       "    shipper_facility_license_number shipper_facility_name  \\\n",
       "301                   CDPH-10002658    710 COMBINATOR CO.   \n",
       "\n",
       "    recipient_facility_license_number recipient_facility_name  \\\n",
       "301                   C11-0000401-LIC            FLOR X, INC.   \n",
       "\n",
       "    shipment_type_name shipment_transaction_type_1 package_id  \\\n",
       "301           Transfer                    Standard   28977657   \n",
       "\n",
       "                package_label      type  \\\n",
       "301  1A4060300002A31000001671  transfer   \n",
       "\n",
       "                                 source_package_labels  \\\n",
       "301  1A40603000087FB000000575, 1A4060300009B2C00000...   \n",
       "\n",
       "                                  source_harvest_names shipment_package_state  \\\n",
       "301  Jealousy-Bloom 3-8/18/22, Planet Dosi R2 H3.3....               Accepted   \n",
       "\n",
       "     is_testing_sample  is_trade_sample product_category_name  \\\n",
       "301              False            False         Pre-Roll Leaf   \n",
       "\n",
       "                                       product_name  \\\n",
       "301  Firesale Blackberry Diesel Sativa Preroll 0.7g   \n",
       "\n",
       "    package_lab_results_status  shipper_wholesale_price  shipped_quantity  \\\n",
       "301                     failed                      NaN           13844.0   \n",
       "\n",
       "    shipped_unit_of_measure  receiver_wholesale_price  received_quantity  \\\n",
       "301                    Each                       NaN            13844.0   \n",
       "\n",
       "    received_unit_of_measure  item_unit_weight  \\\n",
       "301                     Each               0.7   \n",
       "\n",
       "    item_unit_weight_unit_of_measure_name  \n",
       "301                                 Grams  "
      ]
     },
     "execution_count": 56,
     "metadata": {},
     "output_type": "execute_result"
    }
   ],
   "source": [
    "df_in_all[df_in_all['product_name'] == 'Firesale Blackberry Diesel Sativa Preroll 0.7g' ]"
   ]
  },
  {
   "cell_type": "code",
   "execution_count": 57,
   "id": "c544a426",
   "metadata": {},
   "outputs": [
    {
     "data": {
      "text/html": [
       "<div>\n",
       "<style scoped>\n",
       "    .dataframe tbody tr th:only-of-type {\n",
       "        vertical-align: middle;\n",
       "    }\n",
       "\n",
       "    .dataframe tbody tr th {\n",
       "        vertical-align: top;\n",
       "    }\n",
       "\n",
       "    .dataframe thead th {\n",
       "        text-align: right;\n",
       "    }\n",
       "</style>\n",
       "<table border=\"1\" class=\"dataframe\">\n",
       "  <thead>\n",
       "    <tr style=\"text-align: right;\">\n",
       "      <th></th>\n",
       "      <th>delivery_type</th>\n",
       "      <th>license_number</th>\n",
       "      <th>manifest_number</th>\n",
       "      <th>created_date</th>\n",
       "      <th>received_datetime</th>\n",
       "      <th>shipment_transaction_type</th>\n",
       "      <th>shipper_facility_license_number</th>\n",
       "      <th>shipper_facility_name</th>\n",
       "      <th>recipient_facility_license_number</th>\n",
       "      <th>recipient_facility_name</th>\n",
       "      <th>shipment_type_name</th>\n",
       "      <th>shipment_transaction_type_1</th>\n",
       "      <th>package_id</th>\n",
       "      <th>package_label</th>\n",
       "      <th>type</th>\n",
       "      <th>source_package_labels</th>\n",
       "      <th>source_harvest_names</th>\n",
       "      <th>shipment_package_state</th>\n",
       "      <th>is_testing_sample</th>\n",
       "      <th>is_trade_sample</th>\n",
       "      <th>product_category_name</th>\n",
       "      <th>product_name</th>\n",
       "      <th>package_lab_results_status</th>\n",
       "      <th>shipper_wholesale_price</th>\n",
       "      <th>shipped_quantity</th>\n",
       "      <th>shipped_unit_of_measure</th>\n",
       "      <th>receiver_wholesale_price</th>\n",
       "      <th>received_quantity</th>\n",
       "      <th>received_unit_of_measure</th>\n",
       "      <th>item_unit_weight</th>\n",
       "      <th>item_unit_weight_unit_of_measure_name</th>\n",
       "    </tr>\n",
       "  </thead>\n",
       "  <tbody>\n",
       "    <tr>\n",
       "      <th>943</th>\n",
       "      <td>INCOMING_FROM_VENDOR</td>\n",
       "      <td>C11-0000401-LIC</td>\n",
       "      <td>0004037159</td>\n",
       "      <td>2022-09-13</td>\n",
       "      <td>2022-09-14 19:32:05+00:00</td>\n",
       "      <td>Standard</td>\n",
       "      <td>CDPH-10002658</td>\n",
       "      <td>710 COMBINATOR CO.</td>\n",
       "      <td>C11-0000401-LIC</td>\n",
       "      <td>FLOR X, INC.</td>\n",
       "      <td>Transfer</td>\n",
       "      <td>Standard</td>\n",
       "      <td>28808316</td>\n",
       "      <td>1A4060300002A31000001660</td>\n",
       "      <td>transfer</td>\n",
       "      <td>1A4060300001451000001061, 1A406030000514500000...</td>\n",
       "      <td>Gary Payton - 20220412, High Society 89 - 2022...</td>\n",
       "      <td>Accepted</td>\n",
       "      <td>False</td>\n",
       "      <td>False</td>\n",
       "      <td>Pre-Roll Leaf</td>\n",
       "      <td>Firesale MAC Hybrid Preroll 0.7g</td>\n",
       "      <td>failed</td>\n",
       "      <td>NaN</td>\n",
       "      <td>13646.0</td>\n",
       "      <td>Each</td>\n",
       "      <td>NaN</td>\n",
       "      <td>13646.0</td>\n",
       "      <td>Each</td>\n",
       "      <td>0.7</td>\n",
       "      <td>Grams</td>\n",
       "    </tr>\n",
       "  </tbody>\n",
       "</table>\n",
       "</div>"
      ],
      "text/plain": [
       "            delivery_type   license_number manifest_number created_date  \\\n",
       "943  INCOMING_FROM_VENDOR  C11-0000401-LIC      0004037159   2022-09-13   \n",
       "\n",
       "            received_datetime shipment_transaction_type  \\\n",
       "943 2022-09-14 19:32:05+00:00                  Standard   \n",
       "\n",
       "    shipper_facility_license_number shipper_facility_name  \\\n",
       "943                   CDPH-10002658    710 COMBINATOR CO.   \n",
       "\n",
       "    recipient_facility_license_number recipient_facility_name  \\\n",
       "943                   C11-0000401-LIC            FLOR X, INC.   \n",
       "\n",
       "    shipment_type_name shipment_transaction_type_1 package_id  \\\n",
       "943           Transfer                    Standard   28808316   \n",
       "\n",
       "                package_label      type  \\\n",
       "943  1A4060300002A31000001660  transfer   \n",
       "\n",
       "                                 source_package_labels  \\\n",
       "943  1A4060300001451000001061, 1A406030000514500000...   \n",
       "\n",
       "                                  source_harvest_names shipment_package_state  \\\n",
       "943  Gary Payton - 20220412, High Society 89 - 2022...               Accepted   \n",
       "\n",
       "     is_testing_sample  is_trade_sample product_category_name  \\\n",
       "943              False            False         Pre-Roll Leaf   \n",
       "\n",
       "                         product_name package_lab_results_status  \\\n",
       "943  Firesale MAC Hybrid Preroll 0.7g                     failed   \n",
       "\n",
       "     shipper_wholesale_price  shipped_quantity shipped_unit_of_measure  \\\n",
       "943                      NaN           13646.0                    Each   \n",
       "\n",
       "     receiver_wholesale_price  received_quantity received_unit_of_measure  \\\n",
       "943                       NaN            13646.0                     Each   \n",
       "\n",
       "     item_unit_weight item_unit_weight_unit_of_measure_name  \n",
       "943               0.7                                 Grams  "
      ]
     },
     "execution_count": 57,
     "metadata": {},
     "output_type": "execute_result"
    }
   ],
   "source": [
    "df_in_all[df_in_all['product_name'] == 'Firesale MAC Hybrid Preroll 0.7g' ]"
   ]
  },
  {
   "cell_type": "code",
   "execution_count": 58,
   "id": "8d62befd",
   "metadata": {},
   "outputs": [
    {
     "data": {
      "text/html": [
       "<div>\n",
       "<style scoped>\n",
       "    .dataframe tbody tr th:only-of-type {\n",
       "        vertical-align: middle;\n",
       "    }\n",
       "\n",
       "    .dataframe tbody tr th {\n",
       "        vertical-align: top;\n",
       "    }\n",
       "\n",
       "    .dataframe thead th {\n",
       "        text-align: right;\n",
       "    }\n",
       "</style>\n",
       "<table border=\"1\" class=\"dataframe\">\n",
       "  <thead>\n",
       "    <tr style=\"text-align: right;\">\n",
       "      <th></th>\n",
       "      <th>delivery_type</th>\n",
       "      <th>license_number</th>\n",
       "      <th>manifest_number</th>\n",
       "      <th>created_date</th>\n",
       "      <th>received_datetime</th>\n",
       "      <th>shipment_transaction_type</th>\n",
       "      <th>shipper_facility_license_number</th>\n",
       "      <th>shipper_facility_name</th>\n",
       "      <th>recipient_facility_license_number</th>\n",
       "      <th>recipient_facility_name</th>\n",
       "      <th>shipment_type_name</th>\n",
       "      <th>shipment_transaction_type_1</th>\n",
       "      <th>package_id</th>\n",
       "      <th>package_label</th>\n",
       "      <th>type</th>\n",
       "      <th>source_package_labels</th>\n",
       "      <th>source_harvest_names</th>\n",
       "      <th>shipment_package_state</th>\n",
       "      <th>is_testing_sample</th>\n",
       "      <th>is_trade_sample</th>\n",
       "      <th>product_category_name</th>\n",
       "      <th>product_name</th>\n",
       "      <th>package_lab_results_status</th>\n",
       "      <th>shipper_wholesale_price</th>\n",
       "      <th>shipped_quantity</th>\n",
       "      <th>shipped_unit_of_measure</th>\n",
       "      <th>receiver_wholesale_price</th>\n",
       "      <th>received_quantity</th>\n",
       "      <th>received_unit_of_measure</th>\n",
       "      <th>item_unit_weight</th>\n",
       "      <th>item_unit_weight_unit_of_measure_name</th>\n",
       "    </tr>\n",
       "  </thead>\n",
       "  <tbody>\n",
       "    <tr>\n",
       "      <th>19949</th>\n",
       "      <td>INCOMING_FROM_VENDOR</td>\n",
       "      <td>C11-0000401-LIC</td>\n",
       "      <td>0003204282</td>\n",
       "      <td>2022-03-14</td>\n",
       "      <td>2022-03-14 17:22:31+00:00</td>\n",
       "      <td>Standard</td>\n",
       "      <td>CDPH-10002658</td>\n",
       "      <td>710 COMBINATOR CO.</td>\n",
       "      <td>C11-0000401-LIC</td>\n",
       "      <td>FLOR X, INC.</td>\n",
       "      <td>Transfer</td>\n",
       "      <td>Standard</td>\n",
       "      <td>23120182</td>\n",
       "      <td>1A4060300002A31000001180</td>\n",
       "      <td>transfer</td>\n",
       "      <td>1A4060300003BCE000003637, 1A4060300014C0A00000...</td>\n",
       "      <td>10/11/21 - 35 Flower 3 - Ice Cream Runtz - Wet...</td>\n",
       "      <td>Accepted</td>\n",
       "      <td>False</td>\n",
       "      <td>False</td>\n",
       "      <td>Pre-Roll Infused</td>\n",
       "      <td>GRIZZLY PEAK - Indica Bone - 0.5g - 7PK</td>\n",
       "      <td>failed</td>\n",
       "      <td>NaN</td>\n",
       "      <td>2643.0</td>\n",
       "      <td>Each</td>\n",
       "      <td>NaN</td>\n",
       "      <td>2643.0</td>\n",
       "      <td>Each</td>\n",
       "      <td>3.5</td>\n",
       "      <td>Grams</td>\n",
       "    </tr>\n",
       "    <tr>\n",
       "      <th>26143</th>\n",
       "      <td>INCOMING_FROM_VENDOR</td>\n",
       "      <td>C11-0000401-LIC</td>\n",
       "      <td>0002973567</td>\n",
       "      <td>2022-01-19</td>\n",
       "      <td>2022-01-19 22:26:32+00:00</td>\n",
       "      <td>Standard</td>\n",
       "      <td>CDPH-10002658</td>\n",
       "      <td>710 COMBINATOR CO.</td>\n",
       "      <td>C11-0000401-LIC</td>\n",
       "      <td>FLOR X, INC.</td>\n",
       "      <td>Transfer</td>\n",
       "      <td>Standard</td>\n",
       "      <td>21494383</td>\n",
       "      <td>1A4060300002A31000001014</td>\n",
       "      <td>transfer</td>\n",
       "      <td>1A4060300003091000000191, 1A4060300014C0A00000...</td>\n",
       "      <td>11/11/21 - 200 Flower 6 - Ice Cream Cake #5 - ...</td>\n",
       "      <td>Accepted</td>\n",
       "      <td>False</td>\n",
       "      <td>False</td>\n",
       "      <td>Pre-Roll Infused</td>\n",
       "      <td>GRIZZLY PEAK - Indica Bone - 0.5g - 7PK</td>\n",
       "      <td>failed</td>\n",
       "      <td>NaN</td>\n",
       "      <td>2215.0</td>\n",
       "      <td>Each</td>\n",
       "      <td>NaN</td>\n",
       "      <td>2215.0</td>\n",
       "      <td>Each</td>\n",
       "      <td>3.5</td>\n",
       "      <td>Grams</td>\n",
       "    </tr>\n",
       "    <tr>\n",
       "      <th>35398</th>\n",
       "      <td>INCOMING_FROM_VENDOR</td>\n",
       "      <td>C11-0000401-LIC</td>\n",
       "      <td>0002607118</td>\n",
       "      <td>2021-10-21</td>\n",
       "      <td>2021-10-21 23:11:25+00:00</td>\n",
       "      <td>Standard</td>\n",
       "      <td>CDPH-10002658</td>\n",
       "      <td>710 COMBINATOR CO.</td>\n",
       "      <td>C11-0000401-LIC</td>\n",
       "      <td>FLOR X, INC.</td>\n",
       "      <td>Transfer</td>\n",
       "      <td>Standard</td>\n",
       "      <td>18955488</td>\n",
       "      <td>1A4060300002A31000000953</td>\n",
       "      <td>transfer</td>\n",
       "      <td>1A4060300003091000000138, 1A4060300014C0A00000...</td>\n",
       "      <td>7/27/21 - 200 Flower 1 - Club Soda - Wet Flowe...</td>\n",
       "      <td>Accepted</td>\n",
       "      <td>False</td>\n",
       "      <td>False</td>\n",
       "      <td>Pre-Roll Infused</td>\n",
       "      <td>GRIZZLY PEAK - Indica Bone - 0.5g - 7PK</td>\n",
       "      <td>failed</td>\n",
       "      <td>NaN</td>\n",
       "      <td>3061.0</td>\n",
       "      <td>Each</td>\n",
       "      <td>NaN</td>\n",
       "      <td>3061.0</td>\n",
       "      <td>Each</td>\n",
       "      <td>3.5</td>\n",
       "      <td>Grams</td>\n",
       "    </tr>\n",
       "    <tr>\n",
       "      <th>36684</th>\n",
       "      <td>INCOMING_FROM_VENDOR</td>\n",
       "      <td>C11-0000401-LIC</td>\n",
       "      <td>0002559268</td>\n",
       "      <td>2021-10-11</td>\n",
       "      <td>2021-10-11 21:56:27+00:00</td>\n",
       "      <td>Standard</td>\n",
       "      <td>CDPH-10002658</td>\n",
       "      <td>710 COMBINATOR CO.</td>\n",
       "      <td>C11-0000401-LIC</td>\n",
       "      <td>FLOR X, INC.</td>\n",
       "      <td>Transfer</td>\n",
       "      <td>Standard</td>\n",
       "      <td>18623661</td>\n",
       "      <td>1A4060300002A31000000951</td>\n",
       "      <td>transfer</td>\n",
       "      <td>1A4060300003091000000138, 1A4060300014C0A00000...</td>\n",
       "      <td>7/27/21 - 200 Flower 1 - Club Soda - Wet Flowe...</td>\n",
       "      <td>Accepted</td>\n",
       "      <td>False</td>\n",
       "      <td>False</td>\n",
       "      <td>Pre-Roll Infused</td>\n",
       "      <td>GRIZZLY PEAK - Indica Bone - 0.5g - 7PK</td>\n",
       "      <td>failed</td>\n",
       "      <td>NaN</td>\n",
       "      <td>3202.0</td>\n",
       "      <td>Each</td>\n",
       "      <td>NaN</td>\n",
       "      <td>3202.0</td>\n",
       "      <td>Each</td>\n",
       "      <td>3.5</td>\n",
       "      <td>Grams</td>\n",
       "    </tr>\n",
       "  </tbody>\n",
       "</table>\n",
       "</div>"
      ],
      "text/plain": [
       "              delivery_type   license_number manifest_number created_date  \\\n",
       "19949  INCOMING_FROM_VENDOR  C11-0000401-LIC      0003204282   2022-03-14   \n",
       "26143  INCOMING_FROM_VENDOR  C11-0000401-LIC      0002973567   2022-01-19   \n",
       "35398  INCOMING_FROM_VENDOR  C11-0000401-LIC      0002607118   2021-10-21   \n",
       "36684  INCOMING_FROM_VENDOR  C11-0000401-LIC      0002559268   2021-10-11   \n",
       "\n",
       "              received_datetime shipment_transaction_type  \\\n",
       "19949 2022-03-14 17:22:31+00:00                  Standard   \n",
       "26143 2022-01-19 22:26:32+00:00                  Standard   \n",
       "35398 2021-10-21 23:11:25+00:00                  Standard   \n",
       "36684 2021-10-11 21:56:27+00:00                  Standard   \n",
       "\n",
       "      shipper_facility_license_number shipper_facility_name  \\\n",
       "19949                   CDPH-10002658    710 COMBINATOR CO.   \n",
       "26143                   CDPH-10002658    710 COMBINATOR CO.   \n",
       "35398                   CDPH-10002658    710 COMBINATOR CO.   \n",
       "36684                   CDPH-10002658    710 COMBINATOR CO.   \n",
       "\n",
       "      recipient_facility_license_number recipient_facility_name  \\\n",
       "19949                   C11-0000401-LIC            FLOR X, INC.   \n",
       "26143                   C11-0000401-LIC            FLOR X, INC.   \n",
       "35398                   C11-0000401-LIC            FLOR X, INC.   \n",
       "36684                   C11-0000401-LIC            FLOR X, INC.   \n",
       "\n",
       "      shipment_type_name shipment_transaction_type_1 package_id  \\\n",
       "19949           Transfer                    Standard   23120182   \n",
       "26143           Transfer                    Standard   21494383   \n",
       "35398           Transfer                    Standard   18955488   \n",
       "36684           Transfer                    Standard   18623661   \n",
       "\n",
       "                  package_label      type  \\\n",
       "19949  1A4060300002A31000001180  transfer   \n",
       "26143  1A4060300002A31000001014  transfer   \n",
       "35398  1A4060300002A31000000953  transfer   \n",
       "36684  1A4060300002A31000000951  transfer   \n",
       "\n",
       "                                   source_package_labels  \\\n",
       "19949  1A4060300003BCE000003637, 1A4060300014C0A00000...   \n",
       "26143  1A4060300003091000000191, 1A4060300014C0A00000...   \n",
       "35398  1A4060300003091000000138, 1A4060300014C0A00000...   \n",
       "36684  1A4060300003091000000138, 1A4060300014C0A00000...   \n",
       "\n",
       "                                    source_harvest_names  \\\n",
       "19949  10/11/21 - 35 Flower 3 - Ice Cream Runtz - Wet...   \n",
       "26143  11/11/21 - 200 Flower 6 - Ice Cream Cake #5 - ...   \n",
       "35398  7/27/21 - 200 Flower 1 - Club Soda - Wet Flowe...   \n",
       "36684  7/27/21 - 200 Flower 1 - Club Soda - Wet Flowe...   \n",
       "\n",
       "      shipment_package_state  is_testing_sample  is_trade_sample  \\\n",
       "19949               Accepted              False            False   \n",
       "26143               Accepted              False            False   \n",
       "35398               Accepted              False            False   \n",
       "36684               Accepted              False            False   \n",
       "\n",
       "      product_category_name                             product_name  \\\n",
       "19949      Pre-Roll Infused  GRIZZLY PEAK - Indica Bone - 0.5g - 7PK   \n",
       "26143      Pre-Roll Infused  GRIZZLY PEAK - Indica Bone - 0.5g - 7PK   \n",
       "35398      Pre-Roll Infused  GRIZZLY PEAK - Indica Bone - 0.5g - 7PK   \n",
       "36684      Pre-Roll Infused  GRIZZLY PEAK - Indica Bone - 0.5g - 7PK   \n",
       "\n",
       "      package_lab_results_status  shipper_wholesale_price  shipped_quantity  \\\n",
       "19949                     failed                      NaN            2643.0   \n",
       "26143                     failed                      NaN            2215.0   \n",
       "35398                     failed                      NaN            3061.0   \n",
       "36684                     failed                      NaN            3202.0   \n",
       "\n",
       "      shipped_unit_of_measure  receiver_wholesale_price  received_quantity  \\\n",
       "19949                    Each                       NaN             2643.0   \n",
       "26143                    Each                       NaN             2215.0   \n",
       "35398                    Each                       NaN             3061.0   \n",
       "36684                    Each                       NaN             3202.0   \n",
       "\n",
       "      received_unit_of_measure  item_unit_weight  \\\n",
       "19949                     Each               3.5   \n",
       "26143                     Each               3.5   \n",
       "35398                     Each               3.5   \n",
       "36684                     Each               3.5   \n",
       "\n",
       "      item_unit_weight_unit_of_measure_name  \n",
       "19949                                 Grams  \n",
       "26143                                 Grams  \n",
       "35398                                 Grams  \n",
       "36684                                 Grams  "
      ]
     },
     "execution_count": 58,
     "metadata": {},
     "output_type": "execute_result"
    }
   ],
   "source": [
    "df_in_all[df_in_all['product_name'] == 'GRIZZLY PEAK - Indica Bone - 0.5g - 7PK' ]"
   ]
  },
  {
   "cell_type": "code",
   "execution_count": 59,
   "id": "dcf5313c",
   "metadata": {},
   "outputs": [
    {
     "data": {
      "text/html": [
       "<div>\n",
       "<style scoped>\n",
       "    .dataframe tbody tr th:only-of-type {\n",
       "        vertical-align: middle;\n",
       "    }\n",
       "\n",
       "    .dataframe tbody tr th {\n",
       "        vertical-align: top;\n",
       "    }\n",
       "\n",
       "    .dataframe thead th {\n",
       "        text-align: right;\n",
       "    }\n",
       "</style>\n",
       "<table border=\"1\" class=\"dataframe\">\n",
       "  <thead>\n",
       "    <tr style=\"text-align: right;\">\n",
       "      <th></th>\n",
       "      <th>delivery_type</th>\n",
       "      <th>license_number</th>\n",
       "      <th>manifest_number</th>\n",
       "      <th>created_date</th>\n",
       "      <th>received_datetime</th>\n",
       "      <th>shipment_transaction_type</th>\n",
       "      <th>shipper_facility_license_number</th>\n",
       "      <th>shipper_facility_name</th>\n",
       "      <th>recipient_facility_license_number</th>\n",
       "      <th>recipient_facility_name</th>\n",
       "      <th>shipment_type_name</th>\n",
       "      <th>shipment_transaction_type_1</th>\n",
       "      <th>package_id</th>\n",
       "      <th>package_label</th>\n",
       "      <th>type</th>\n",
       "      <th>source_package_labels</th>\n",
       "      <th>source_harvest_names</th>\n",
       "      <th>shipment_package_state</th>\n",
       "      <th>is_testing_sample</th>\n",
       "      <th>is_trade_sample</th>\n",
       "      <th>product_category_name</th>\n",
       "      <th>product_name</th>\n",
       "      <th>package_lab_results_status</th>\n",
       "      <th>shipper_wholesale_price</th>\n",
       "      <th>shipped_quantity</th>\n",
       "      <th>shipped_unit_of_measure</th>\n",
       "      <th>receiver_wholesale_price</th>\n",
       "      <th>received_quantity</th>\n",
       "      <th>received_unit_of_measure</th>\n",
       "      <th>item_unit_weight</th>\n",
       "      <th>item_unit_weight_unit_of_measure_name</th>\n",
       "    </tr>\n",
       "  </thead>\n",
       "  <tbody>\n",
       "    <tr>\n",
       "      <th>944</th>\n",
       "      <td>INCOMING_FROM_VENDOR</td>\n",
       "      <td>C11-0000401-LIC</td>\n",
       "      <td>0004037159</td>\n",
       "      <td>2022-09-13</td>\n",
       "      <td>2022-09-14 19:32:05+00:00</td>\n",
       "      <td>Standard</td>\n",
       "      <td>CDPH-10002658</td>\n",
       "      <td>710 COMBINATOR CO.</td>\n",
       "      <td>C11-0000401-LIC</td>\n",
       "      <td>FLOR X, INC.</td>\n",
       "      <td>Transfer</td>\n",
       "      <td>Standard</td>\n",
       "      <td>28816615</td>\n",
       "      <td>1A4060300002A31000001669</td>\n",
       "      <td>transfer</td>\n",
       "      <td>1A4060300006A50000019481, 1A4060300009B2C00000...</td>\n",
       "      <td>Jealousy-Bloom 3-8/18/22, Mochi Runtz-Bloom 1-...</td>\n",
       "      <td>Accepted</td>\n",
       "      <td>False</td>\n",
       "      <td>False</td>\n",
       "      <td>Pre-Roll Flower</td>\n",
       "      <td>Firesale Mochi Runtz Hybrid 5-Shot Preroll Pac...</td>\n",
       "      <td>failed</td>\n",
       "      <td>NaN</td>\n",
       "      <td>2122.0</td>\n",
       "      <td>Each</td>\n",
       "      <td>NaN</td>\n",
       "      <td>2122.0</td>\n",
       "      <td>Each</td>\n",
       "      <td>3.5</td>\n",
       "      <td>Grams</td>\n",
       "    </tr>\n",
       "  </tbody>\n",
       "</table>\n",
       "</div>"
      ],
      "text/plain": [
       "            delivery_type   license_number manifest_number created_date  \\\n",
       "944  INCOMING_FROM_VENDOR  C11-0000401-LIC      0004037159   2022-09-13   \n",
       "\n",
       "            received_datetime shipment_transaction_type  \\\n",
       "944 2022-09-14 19:32:05+00:00                  Standard   \n",
       "\n",
       "    shipper_facility_license_number shipper_facility_name  \\\n",
       "944                   CDPH-10002658    710 COMBINATOR CO.   \n",
       "\n",
       "    recipient_facility_license_number recipient_facility_name  \\\n",
       "944                   C11-0000401-LIC            FLOR X, INC.   \n",
       "\n",
       "    shipment_type_name shipment_transaction_type_1 package_id  \\\n",
       "944           Transfer                    Standard   28816615   \n",
       "\n",
       "                package_label      type  \\\n",
       "944  1A4060300002A31000001669  transfer   \n",
       "\n",
       "                                 source_package_labels  \\\n",
       "944  1A4060300006A50000019481, 1A4060300009B2C00000...   \n",
       "\n",
       "                                  source_harvest_names shipment_package_state  \\\n",
       "944  Jealousy-Bloom 3-8/18/22, Mochi Runtz-Bloom 1-...               Accepted   \n",
       "\n",
       "     is_testing_sample  is_trade_sample product_category_name  \\\n",
       "944              False            False       Pre-Roll Flower   \n",
       "\n",
       "                                          product_name  \\\n",
       "944  Firesale Mochi Runtz Hybrid 5-Shot Preroll Pac...   \n",
       "\n",
       "    package_lab_results_status  shipper_wholesale_price  shipped_quantity  \\\n",
       "944                     failed                      NaN            2122.0   \n",
       "\n",
       "    shipped_unit_of_measure  receiver_wholesale_price  received_quantity  \\\n",
       "944                    Each                       NaN             2122.0   \n",
       "\n",
       "    received_unit_of_measure  item_unit_weight  \\\n",
       "944                     Each               3.5   \n",
       "\n",
       "    item_unit_weight_unit_of_measure_name  \n",
       "944                                 Grams  "
      ]
     },
     "execution_count": 59,
     "metadata": {},
     "output_type": "execute_result"
    }
   ],
   "source": [
    "df_in_all[df_in_all['product_name'] == 'Firesale Mochi Runtz Hybrid 5-Shot Preroll Pack 3.5g' ]"
   ]
  },
  {
   "cell_type": "code",
   "execution_count": 61,
   "id": "8261d5db",
   "metadata": {},
   "outputs": [
    {
     "data": {
      "text/html": [
       "<div>\n",
       "<style scoped>\n",
       "    .dataframe tbody tr th:only-of-type {\n",
       "        vertical-align: middle;\n",
       "    }\n",
       "\n",
       "    .dataframe tbody tr th {\n",
       "        vertical-align: top;\n",
       "    }\n",
       "\n",
       "    .dataframe thead th {\n",
       "        text-align: right;\n",
       "    }\n",
       "</style>\n",
       "<table border=\"1\" class=\"dataframe\">\n",
       "  <thead>\n",
       "    <tr style=\"text-align: right;\">\n",
       "      <th></th>\n",
       "      <th>delivery_type</th>\n",
       "      <th>license_number</th>\n",
       "      <th>manifest_number</th>\n",
       "      <th>created_date</th>\n",
       "      <th>received_datetime</th>\n",
       "      <th>shipment_transaction_type</th>\n",
       "      <th>shipper_facility_license_number</th>\n",
       "      <th>shipper_facility_name</th>\n",
       "      <th>recipient_facility_license_number</th>\n",
       "      <th>recipient_facility_name</th>\n",
       "      <th>shipment_type_name</th>\n",
       "      <th>shipment_transaction_type_1</th>\n",
       "      <th>package_id</th>\n",
       "      <th>package_label</th>\n",
       "      <th>type</th>\n",
       "      <th>source_package_labels</th>\n",
       "      <th>source_harvest_names</th>\n",
       "      <th>shipment_package_state</th>\n",
       "      <th>is_testing_sample</th>\n",
       "      <th>is_trade_sample</th>\n",
       "      <th>product_category_name</th>\n",
       "      <th>product_name</th>\n",
       "      <th>package_lab_results_status</th>\n",
       "      <th>shipper_wholesale_price</th>\n",
       "      <th>shipped_quantity</th>\n",
       "      <th>shipped_unit_of_measure</th>\n",
       "      <th>receiver_wholesale_price</th>\n",
       "      <th>received_quantity</th>\n",
       "      <th>received_unit_of_measure</th>\n",
       "      <th>item_unit_weight</th>\n",
       "      <th>item_unit_weight_unit_of_measure_name</th>\n",
       "    </tr>\n",
       "  </thead>\n",
       "  <tbody>\n",
       "    <tr>\n",
       "      <th>1039</th>\n",
       "      <td>INCOMING_FROM_VENDOR</td>\n",
       "      <td>C11-0000401-LIC</td>\n",
       "      <td>0004028819</td>\n",
       "      <td>2022-09-12</td>\n",
       "      <td>2022-09-13 20:22:51+00:00</td>\n",
       "      <td>Standard</td>\n",
       "      <td>CDPH-10002658</td>\n",
       "      <td>710 COMBINATOR CO.</td>\n",
       "      <td>C11-0000401-LIC</td>\n",
       "      <td>FLOR X, INC.</td>\n",
       "      <td>Transfer</td>\n",
       "      <td>Standard</td>\n",
       "      <td>28748276</td>\n",
       "      <td>1A4060300002A31000001668</td>\n",
       "      <td>transfer</td>\n",
       "      <td>1A4060300006A50000019481, 1A4060300009B2C00000...</td>\n",
       "      <td>Purple P-5, Purple Punch-5, Purple-3, Purple-5...</td>\n",
       "      <td>Accepted</td>\n",
       "      <td>False</td>\n",
       "      <td>False</td>\n",
       "      <td>Pre-Roll Flower</td>\n",
       "      <td>Firesale Panama Punch Sativa 5-Shot Prerolls P...</td>\n",
       "      <td>failed</td>\n",
       "      <td>NaN</td>\n",
       "      <td>2112.0</td>\n",
       "      <td>Each</td>\n",
       "      <td>NaN</td>\n",
       "      <td>2112.0</td>\n",
       "      <td>Each</td>\n",
       "      <td>3.5</td>\n",
       "      <td>Grams</td>\n",
       "    </tr>\n",
       "  </tbody>\n",
       "</table>\n",
       "</div>"
      ],
      "text/plain": [
       "             delivery_type   license_number manifest_number created_date  \\\n",
       "1039  INCOMING_FROM_VENDOR  C11-0000401-LIC      0004028819   2022-09-12   \n",
       "\n",
       "             received_datetime shipment_transaction_type  \\\n",
       "1039 2022-09-13 20:22:51+00:00                  Standard   \n",
       "\n",
       "     shipper_facility_license_number shipper_facility_name  \\\n",
       "1039                   CDPH-10002658    710 COMBINATOR CO.   \n",
       "\n",
       "     recipient_facility_license_number recipient_facility_name  \\\n",
       "1039                   C11-0000401-LIC            FLOR X, INC.   \n",
       "\n",
       "     shipment_type_name shipment_transaction_type_1 package_id  \\\n",
       "1039           Transfer                    Standard   28748276   \n",
       "\n",
       "                 package_label      type  \\\n",
       "1039  1A4060300002A31000001668  transfer   \n",
       "\n",
       "                                  source_package_labels  \\\n",
       "1039  1A4060300006A50000019481, 1A4060300009B2C00000...   \n",
       "\n",
       "                                   source_harvest_names  \\\n",
       "1039  Purple P-5, Purple Punch-5, Purple-3, Purple-5...   \n",
       "\n",
       "     shipment_package_state  is_testing_sample  is_trade_sample  \\\n",
       "1039               Accepted              False            False   \n",
       "\n",
       "     product_category_name                                       product_name  \\\n",
       "1039       Pre-Roll Flower  Firesale Panama Punch Sativa 5-Shot Prerolls P...   \n",
       "\n",
       "     package_lab_results_status  shipper_wholesale_price  shipped_quantity  \\\n",
       "1039                     failed                      NaN            2112.0   \n",
       "\n",
       "     shipped_unit_of_measure  receiver_wholesale_price  received_quantity  \\\n",
       "1039                    Each                       NaN             2112.0   \n",
       "\n",
       "     received_unit_of_measure  item_unit_weight  \\\n",
       "1039                     Each               3.5   \n",
       "\n",
       "     item_unit_weight_unit_of_measure_name  \n",
       "1039                                 Grams  "
      ]
     },
     "execution_count": 61,
     "metadata": {},
     "output_type": "execute_result"
    }
   ],
   "source": [
    "df_in_all[df_in_all['product_name'] == 'Firesale Panama Punch Sativa 5-Shot Prerolls Pack 3.5g' ]"
   ]
  },
  {
   "cell_type": "markdown",
   "id": "adcb2cca",
   "metadata": {},
   "source": [
    "## 2. distro inventory + cost based (cost to distro)"
   ]
  },
  {
   "cell_type": "code",
   "execution_count": null,
   "id": "016df68d",
   "metadata": {},
   "outputs": [],
   "source": [
    "inv_val_distro_cost,inv_all_distro_cost = client_surveillance_jupyter.calculate_inventory_valuation(df_in_distro,df_inventory,license_numbers,today)\n",
    "\n",
    "\n"
   ]
  },
  {
   "cell_type": "code",
   "execution_count": null,
   "id": "563055ad",
   "metadata": {},
   "outputs": [],
   "source": [
    "inv_val_distro_cost"
   ]
  },
  {
   "cell_type": "code",
   "execution_count": null,
   "id": "bd3e7531",
   "metadata": {},
   "outputs": [],
   "source": [
    "inv_val_distro_cost['value'].values / inv_val_distro_cost['coverage'].values"
   ]
  },
  {
   "cell_type": "markdown",
   "id": "6175b7a8",
   "metadata": {},
   "source": [
    "## 3. blended: distro inventory + all incoming data"
   ]
  },
  {
   "cell_type": "code",
   "execution_count": null,
   "id": "8f1a9bde",
   "metadata": {},
   "outputs": [],
   "source": [
    "inv_val_all,inv_all = client_surveillance_jupyter.calculate_inventory_valuation(df_in_all,df_inventory,license_numbers,today)\n",
    "\n",
    "\n"
   ]
  },
  {
   "cell_type": "code",
   "execution_count": null,
   "id": "9377596e",
   "metadata": {},
   "outputs": [],
   "source": [
    "inv_val_all"
   ]
  },
  {
   "cell_type": "code",
   "execution_count": null,
   "id": "74f1e912",
   "metadata": {},
   "outputs": [],
   "source": [
    "inv_val_all['value'].values / inv_val_all['coverage'].values"
   ]
  }
 ],
 "metadata": {
  "kernelspec": {
   "display_name": "Python 3",
   "language": "python",
   "name": "python3"
  },
  "language_info": {
   "codemirror_mode": {
    "name": "ipython",
    "version": 3
   },
   "file_extension": ".py",
   "mimetype": "text/x-python",
   "name": "python",
   "nbconvert_exporter": "python",
   "pygments_lexer": "ipython3",
   "version": "3.8.10"
  }
 },
 "nbformat": 4,
 "nbformat_minor": 5
}
