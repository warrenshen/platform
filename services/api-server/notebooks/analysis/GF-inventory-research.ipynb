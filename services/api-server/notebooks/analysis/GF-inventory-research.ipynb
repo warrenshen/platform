{
 "cells": [
  {
   "cell_type": "code",
   "execution_count": 1,
   "id": "a1df46ef",
   "metadata": {},
   "outputs": [],
   "source": [
    "import warnings\n",
    "warnings.filterwarnings('ignore')"
   ]
  },
  {
   "cell_type": "code",
   "execution_count": 2,
   "id": "17064e54-fe0f-43e3-a00d-b2776aa5b753",
   "metadata": {},
   "outputs": [],
   "source": [
    "import json\n",
    "import numpy \n",
    "import os\n",
    "import pandas as pd\n",
    "import matplotlib.pyplot as plt\n",
    "%matplotlib inline  \n",
    "import pyarrow\n",
    "import sys\n",
    "\n",
    "from datetime import date\n",
    "from dotenv import load_dotenv\n",
    "from sqlalchemy import create_engine\n",
    "from os import path\n",
    "from typing import List,Dict, Tuple\n",
    "from collections import defaultdict\n",
    "pd.set_option(\"display.max_columns\", None)\n",
    "\n",
    "load_dotenv(verbose=True)\n",
    "BIGQUERY_CREDENTIALS_PATH = os.environ.get('BIGQUERY_CREDENTIALS_PATH')\n",
    "engine = create_engine('bigquery://bespoke-financial/ProdMetrcData', credentials_path=os.path.expanduser(BIGQUERY_CREDENTIALS_PATH))\n",
    "\n",
    "sys.path.append(path.realpath(path.join(os.getcwd(), \"../core\")))\n",
    "sys.path.append(path.realpath(path.join(os.getcwd(), \"../../src\")))\n",
    "sys.path.append(path.realpath(path.join(os.getcwd(), \"../../scripts\")))\n",
    "\n",
    "import create_queries\n",
    "import prepare_data\n",
    "\n",
    "from bespoke.inventory.analysis.shared import download_util, inventory_types\n",
    "from bespoke.inventory.analysis import active_inventory_util as util\n",
    "from bespoke.inventory.analysis import inventory_valuations_util as valuations_util\n",
    "\n",
    "%load_ext autoreload\n",
    "%autoreload 2"
   ]
  },
  {
   "cell_type": "code",
   "execution_count": 3,
   "id": "89297f22",
   "metadata": {},
   "outputs": [],
   "source": [
    "from underwriting import client_surveillance_jupyter"
   ]
  },
  {
   "cell_type": "code",
   "execution_count": 4,
   "id": "038c31ef-3af0-4b64-89b3-32c35769e7b2",
   "metadata": {},
   "outputs": [],
   "source": [
    "COMPANY_IDENTIFIER = ['GF']\n",
    "TRANSFER_PACKAGES_START_DATE = '2020-01-01'\n",
    "SALES_TRANSACTIONS_START_DATE = '2020-01-01'"
   ]
  },
  {
   "cell_type": "code",
   "execution_count": 5,
   "id": "7892d4f2-ef44-45ff-aea9-681fc6c86b34",
   "metadata": {},
   "outputs": [],
   "source": [
    "#fetch download report and lisences\n",
    "company_licenses_query = create_queries.create_company_licenses_query(COMPANY_IDENTIFIER)\n",
    "company_download_summaries_query = create_queries.create_company_download_summaries_query(COMPANY_IDENTIFIER, TRANSFER_PACKAGES_START_DATE)\n",
    "\n",
    "company_licenses_dataframe = pd.read_sql_query(company_licenses_query, engine)\n",
    "company_download_summaries_dataframe = pd.read_sql_query(company_download_summaries_query, engine)"
   ]
  },
  {
   "cell_type": "markdown",
   "id": "5ddb460b",
   "metadata": {},
   "source": [
    "## Check download status summaries"
   ]
  },
  {
   "cell_type": "code",
   "execution_count": 6,
   "id": "cec4010a",
   "metadata": {},
   "outputs": [],
   "source": [
    "license_numbers = company_download_summaries_dataframe['license_number'].unique()\n",
    "download_summary_records = company_download_summaries_dataframe.to_dict('records')"
   ]
  },
  {
   "cell_type": "code",
   "execution_count": 7,
   "id": "2d720e85",
   "metadata": {},
   "outputs": [
    {
     "data": {
      "text/plain": [
       "array(['C12-0000191-LIC', 'C11-0000401-LIC', 'C10-0000805-LIC',\n",
       "       'C10-0000824-LIC', 'C10-0000700-LIC', 'C10-0000117-LIC',\n",
       "       'C10-0000224-LIC'], dtype=object)"
      ]
     },
     "execution_count": 7,
     "metadata": {},
     "output_type": "execute_result"
    }
   ],
   "source": [
    "license_numbers"
   ]
  },
  {
   "cell_type": "code",
   "execution_count": null,
   "id": "cc634d6a",
   "metadata": {
    "scrolled": true
   },
   "outputs": [],
   "source": [
    "#bad_download_history = client_surveillance_jupyter.check_company_license_download(license_numbers,download_summary_records)"
   ]
  },
  {
   "cell_type": "code",
   "execution_count": null,
   "id": "931a4474",
   "metadata": {},
   "outputs": [],
   "source": [
    "#bad_download_history"
   ]
  },
  {
   "cell_type": "markdown",
   "id": "5edcc0c3",
   "metadata": {},
   "source": [
    "## Choose license numbers"
   ]
  },
  {
   "cell_type": "code",
   "execution_count": 8,
   "id": "21f2a41f",
   "metadata": {},
   "outputs": [],
   "source": [
    "retail_license_numbers = ['C10-0000700-LIC','C10-0000805-LIC','C10-0000824-LIC','C10-0000117-LIC','C10-0000224-LIC']\n"
   ]
  },
  {
   "cell_type": "code",
   "execution_count": 9,
   "id": "fedeb633",
   "metadata": {},
   "outputs": [],
   "source": [
    "distro_license_numbers = ['C11-0000401-LIC']"
   ]
  },
  {
   "cell_type": "code",
   "execution_count": 10,
   "id": "a6bf81a2",
   "metadata": {},
   "outputs": [],
   "source": [
    "all_license_numbers = ['C12-0000191-LIC', 'C11-0000401-LIC', 'C10-0000805-LIC',\n",
    "       'C10-0000824-LIC', 'C10-0000700-LIC', 'C10-0000117-LIC',\n",
    "       'C10-0000224-LIC']"
   ]
  },
  {
   "cell_type": "markdown",
   "id": "8e35183a",
   "metadata": {},
   "source": [
    "## Pull data"
   ]
  },
  {
   "cell_type": "markdown",
   "id": "88b6fe65",
   "metadata": {},
   "source": [
    "## distro inventory"
   ]
  },
  {
   "cell_type": "code",
   "execution_count": 13,
   "id": "1f646cf5",
   "metadata": {},
   "outputs": [
    {
     "data": {
      "text/plain": [
       "array(['C11-0000401-LIC'], dtype=object)"
      ]
     },
     "execution_count": 13,
     "metadata": {},
     "output_type": "execute_result"
    }
   ],
   "source": [
    "company_inventory_packages_query = create_queries.create_company_inventory_packages_query(\n",
    "    COMPANY_IDENTIFIER,\n",
    "    include_quantity_zero=True,\n",
    "    license_numbers=distro_license_numbers,\n",
    ")\n",
    "company_inventory_packages_dataframe = pd.read_sql_query(company_inventory_packages_query, engine)\n",
    "df_inventory = company_inventory_packages_dataframe\n",
    "df_inventory['license_number'].unique()"
   ]
  },
  {
   "cell_type": "markdown",
   "id": "c5f14e2a",
   "metadata": {},
   "source": [
    "## retail incoming"
   ]
  },
  {
   "cell_type": "code",
   "execution_count": 14,
   "id": "6500a2d0",
   "metadata": {},
   "outputs": [
    {
     "data": {
      "text/plain": [
       "array(['C10-0000824-LIC', 'C10-0000805-LIC', 'C10-0000700-LIC',\n",
       "       'C10-0000224-LIC'], dtype=object)"
      ]
     },
     "execution_count": 14,
     "metadata": {},
     "output_type": "execute_result"
    }
   ],
   "source": [
    "company_incoming_transfer_packages_query = create_queries.create_company_incoming_transfer_packages_query(\n",
    "    COMPANY_IDENTIFIER,\n",
    "    TRANSFER_PACKAGES_START_DATE,\n",
    "    license_numbers=retail_license_numbers,\n",
    ")\n",
    "\n",
    "company_incoming_transfer_packages_dataframe = pd.read_sql_query(company_incoming_transfer_packages_query, engine)\n",
    "df_in_retail = company_incoming_transfer_packages_dataframe\n",
    "df_in_retail['license_number'].unique()"
   ]
  },
  {
   "cell_type": "code",
   "execution_count": 19,
   "id": "89e9f15c",
   "metadata": {},
   "outputs": [],
   "source": [
    "df_in_retail_internal = df_in_retail[df_in_retail['shipper_facility_license_number'] == 'C11-0000401-LIC']"
   ]
  },
  {
   "cell_type": "markdown",
   "id": "aa892b2a",
   "metadata": {},
   "source": [
    "## all incoming"
   ]
  },
  {
   "cell_type": "code",
   "execution_count": 17,
   "id": "60c026b1",
   "metadata": {},
   "outputs": [
    {
     "data": {
      "text/plain": [
       "array(['C11-0000401-LIC', 'C10-0000824-LIC', 'C10-0000805-LIC',\n",
       "       'C10-0000700-LIC', 'C10-0000224-LIC', 'C12-0000191-LIC'],\n",
       "      dtype=object)"
      ]
     },
     "execution_count": 17,
     "metadata": {},
     "output_type": "execute_result"
    }
   ],
   "source": [
    "all_incoming_query = create_queries.create_company_incoming_transfer_packages_query(\n",
    "    COMPANY_IDENTIFIER,\n",
    "    TRANSFER_PACKAGES_START_DATE,\n",
    "    license_numbers=all_license_numbers,\n",
    ")\n",
    "\n",
    "df_in_all = pd.read_sql_query(all_incoming_query, engine)\n",
    "df_in_all['license_number'].unique()"
   ]
  },
  {
   "cell_type": "markdown",
   "id": "6dd25350",
   "metadata": {},
   "source": [
    "## distro incoming"
   ]
  },
  {
   "cell_type": "code",
   "execution_count": 18,
   "id": "b30eb2a4",
   "metadata": {},
   "outputs": [
    {
     "data": {
      "text/plain": [
       "array(['C11-0000401-LIC'], dtype=object)"
      ]
     },
     "execution_count": 18,
     "metadata": {},
     "output_type": "execute_result"
    }
   ],
   "source": [
    "distro_incoming_query = create_queries.create_company_incoming_transfer_packages_query(\n",
    "    COMPANY_IDENTIFIER,\n",
    "    TRANSFER_PACKAGES_START_DATE,\n",
    "    license_numbers=distro_license_numbers,\n",
    ")\n",
    "\n",
    "df_in_distro = pd.read_sql_query(distro_incoming_query, engine)\n",
    "df_in_distro['license_number'].unique()"
   ]
  },
  {
   "cell_type": "markdown",
   "id": "2c84e424",
   "metadata": {},
   "source": [
    "## retail sales"
   ]
  },
  {
   "cell_type": "code",
   "execution_count": 20,
   "id": "ac650da2",
   "metadata": {},
   "outputs": [
    {
     "data": {
      "text/plain": [
       "array(['C10-0000824-LIC', 'C10-0000700-LIC', 'C10-0000805-LIC',\n",
       "       'C10-0000117-LIC', 'C10-0000224-LIC'], dtype=object)"
      ]
     },
     "execution_count": 20,
     "metadata": {},
     "output_type": "execute_result"
    }
   ],
   "source": [
    "company_sales_receipts_with_transactions_query = create_queries.create_company_sales_receipts_with_transactions_query(\n",
    "    COMPANY_IDENTIFIER,\n",
    "    SALES_TRANSACTIONS_START_DATE,\n",
    "    license_numbers=retail_license_numbers,\n",
    ")\n",
    "company_sales_receipts_with_transactions_dataframe = pd.read_sql_query(company_sales_receipts_with_transactions_query, engine)\n",
    "company_sales_receipts_with_transactions_dataframe['license_number'].unique()\n",
    "\n"
   ]
  },
  {
   "cell_type": "markdown",
   "id": "e632a6c8",
   "metadata": {},
   "source": [
    "## dedupe sales transactions"
   ]
  },
  {
   "cell_type": "code",
   "execution_count": 21,
   "id": "54e232ef-5871-401c-9716-254f6242d138",
   "metadata": {},
   "outputs": [],
   "source": [
    "deduped_sales_receipts_with_transactions_dataframe = prepare_data.dedupe_sales_transactions(company_sales_receipts_with_transactions_dataframe)"
   ]
  },
  {
   "cell_type": "code",
   "execution_count": 22,
   "id": "3aa67466",
   "metadata": {},
   "outputs": [],
   "source": [
    "deduped_sales_receipts_with_transactions_dataframe['sales_month'] = deduped_sales_receipts_with_transactions_dataframe['sales_datetime'].dt.strftime('%Y-%m')"
   ]
  },
  {
   "cell_type": "code",
   "execution_count": 23,
   "id": "7a8bf4d7",
   "metadata": {},
   "outputs": [
    {
     "data": {
      "text/plain": [
       "array(['C10-0000824-LIC', 'C10-0000700-LIC', 'C10-0000805-LIC',\n",
       "       'C10-0000117-LIC', 'C10-0000224-LIC'], dtype=object)"
      ]
     },
     "execution_count": 23,
     "metadata": {},
     "output_type": "execute_result"
    }
   ],
   "source": [
    "#check we have all locations\n",
    "deduped_sales_receipts_with_transactions_dataframe['license_number'].unique()"
   ]
  },
  {
   "cell_type": "code",
   "execution_count": 24,
   "id": "e1094b3e",
   "metadata": {},
   "outputs": [],
   "source": [
    "df_sales_retail = deduped_sales_receipts_with_transactions_dataframe"
   ]
  },
  {
   "cell_type": "markdown",
   "id": "d2ad7780",
   "metadata": {},
   "source": [
    "## Receiver wholesale price coverage \n"
   ]
  },
  {
   "cell_type": "code",
   "execution_count": 28,
   "id": "b616d327",
   "metadata": {},
   "outputs": [
    {
     "data": {
      "text/plain": [
       "(38257, 31)"
      ]
     },
     "execution_count": 28,
     "metadata": {},
     "output_type": "execute_result"
    }
   ],
   "source": [
    "df_in_retail[df_in_retail['receiver_wholesale_price'].notnull()].shape"
   ]
  },
  {
   "cell_type": "code",
   "execution_count": 29,
   "id": "4bd00e16",
   "metadata": {},
   "outputs": [
    {
     "name": "stdout",
     "output_type": "stream",
     "text": [
      "98.0% of incoming transfer packages have receiver wholesale price\n"
     ]
    }
   ],
   "source": [
    "rwp_coverage = client_surveillance_jupyter.check_receiver_wholesale_price_coverage(df_in_retail)\n"
   ]
  },
  {
   "cell_type": "markdown",
   "id": "ec024f55",
   "metadata": {},
   "source": [
    "# Inventory"
   ]
  },
  {
   "cell_type": "code",
   "execution_count": 30,
   "id": "298ac0f2",
   "metadata": {},
   "outputs": [
    {
     "data": {
      "text/plain": [
       "datetime.date(2022, 9, 12)"
      ]
     },
     "execution_count": 30,
     "metadata": {},
     "output_type": "execute_result"
    }
   ],
   "source": [
    "today = date.today()\n",
    "today"
   ]
  },
  {
   "cell_type": "code",
   "execution_count": 31,
   "id": "bd64953d",
   "metadata": {},
   "outputs": [
    {
     "data": {
      "text/plain": [
       "['GF']"
      ]
     },
     "execution_count": 31,
     "metadata": {},
     "output_type": "execute_result"
    }
   ],
   "source": [
    "COMPANY_IDENTIFIER"
   ]
  },
  {
   "cell_type": "code",
   "execution_count": 32,
   "id": "7178d8cc",
   "metadata": {},
   "outputs": [
    {
     "data": {
      "text/plain": [
       "['C11-0000401-LIC']"
      ]
     },
     "execution_count": 32,
     "metadata": {},
     "output_type": "execute_result"
    }
   ],
   "source": [
    "distro_license_numbers"
   ]
  },
  {
   "cell_type": "markdown",
   "id": "51beb44f",
   "metadata": {},
   "source": [
    "## 1. distro inventory + sales based (distro to retail)"
   ]
  },
  {
   "cell_type": "code",
   "execution_count": 43,
   "id": "21ca80d4",
   "metadata": {},
   "outputs": [],
   "source": [
    "inv_val_distro_to_retail,inv_all_distro_to_retail = client_surveillance_jupyter.calculate_inventory_valuation(df_in_retail,df_inventory,license_numbers,today)\n",
    "\n",
    "#make sense for CPG\n"
   ]
  },
  {
   "cell_type": "code",
   "execution_count": 44,
   "id": "3ab4b432",
   "metadata": {},
   "outputs": [
    {
     "data": {
      "text/html": [
       "<div>\n",
       "<style scoped>\n",
       "    .dataframe tbody tr th:only-of-type {\n",
       "        vertical-align: middle;\n",
       "    }\n",
       "\n",
       "    .dataframe tbody tr th {\n",
       "        vertical-align: top;\n",
       "    }\n",
       "\n",
       "    .dataframe thead th {\n",
       "        text-align: right;\n",
       "    }\n",
       "</style>\n",
       "<table border=\"1\" class=\"dataframe\">\n",
       "  <thead>\n",
       "    <tr style=\"text-align: right;\">\n",
       "      <th></th>\n",
       "      <th>date</th>\n",
       "      <th>value</th>\n",
       "      <th>value_after_tax</th>\n",
       "      <th>total_incoming</th>\n",
       "      <th>total</th>\n",
       "      <th>coverage</th>\n",
       "      <th>license</th>\n",
       "      <th>legal_name</th>\n",
       "    </tr>\n",
       "  </thead>\n",
       "  <tbody>\n",
       "    <tr>\n",
       "      <th>0</th>\n",
       "      <td>2022-09-12</td>\n",
       "      <td>1061293.74</td>\n",
       "      <td>1339883.35</td>\n",
       "      <td>818</td>\n",
       "      <td>1183</td>\n",
       "      <td>0.69</td>\n",
       "      <td>[C12-0000191-LIC, C11-0000401-LIC, C10-0000805...</td>\n",
       "      <td>FLOR EAST BAY, LLC</td>\n",
       "    </tr>\n",
       "  </tbody>\n",
       "</table>\n",
       "</div>"
      ],
      "text/plain": [
       "         date       value value_after_tax total_incoming total coverage  \\\n",
       "0  2022-09-12  1061293.74      1339883.35            818  1183     0.69   \n",
       "\n",
       "                                             license          legal_name  \n",
       "0  [C12-0000191-LIC, C11-0000401-LIC, C10-0000805...  FLOR EAST BAY, LLC  "
      ]
     },
     "execution_count": 44,
     "metadata": {},
     "output_type": "execute_result"
    }
   ],
   "source": [
    "inv_val_distro_to_retail"
   ]
  },
  {
   "cell_type": "code",
   "execution_count": 35,
   "id": "ba76aeb4",
   "metadata": {},
   "outputs": [
    {
     "data": {
      "text/plain": [
       "array([1538106.8695652175], dtype=object)"
      ]
     },
     "execution_count": 35,
     "metadata": {},
     "output_type": "execute_result"
    }
   ],
   "source": [
    "inv_val_distro_to_retail['value'].values / inv_val_distro_to_retail['coverage'].values"
   ]
  },
  {
   "cell_type": "code",
   "execution_count": 47,
   "id": "db62e16b",
   "metadata": {},
   "outputs": [],
   "source": [
    "missing = inv_all_distro_to_retail[inv_all_distro_to_retail['per_unit_product'].isna()]"
   ]
  },
  {
   "cell_type": "code",
   "execution_count": 53,
   "id": "d97afd56",
   "metadata": {},
   "outputs": [
    {
     "data": {
      "text/html": [
       "<div>\n",
       "<style scoped>\n",
       "    .dataframe tbody tr th:only-of-type {\n",
       "        vertical-align: middle;\n",
       "    }\n",
       "\n",
       "    .dataframe tbody tr th {\n",
       "        vertical-align: top;\n",
       "    }\n",
       "\n",
       "    .dataframe thead th {\n",
       "        text-align: right;\n",
       "    }\n",
       "</style>\n",
       "<table border=\"1\" class=\"dataframe\">\n",
       "  <thead>\n",
       "    <tr style=\"text-align: right;\">\n",
       "      <th></th>\n",
       "      <th></th>\n",
       "      <th>quantity</th>\n",
       "    </tr>\n",
       "    <tr>\n",
       "      <th>product_name</th>\n",
       "      <th>unit_of_measure</th>\n",
       "      <th></th>\n",
       "    </tr>\n",
       "  </thead>\n",
       "  <tbody>\n",
       "    <tr>\n",
       "      <th>LPC x Jealousy 3.5g</th>\n",
       "      <th>Each</th>\n",
       "      <td>1.0</td>\n",
       "    </tr>\n",
       "    <tr>\n",
       "      <th>High Supply - Gelato - Indica - Flower 1oz</th>\n",
       "      <th>Each</th>\n",
       "      <td>1.0</td>\n",
       "    </tr>\n",
       "    <tr>\n",
       "      <th>High Supply - Ghost Train Haze - Sativa - Flower 1oz</th>\n",
       "      <th>Each</th>\n",
       "      <td>1.0</td>\n",
       "    </tr>\n",
       "    <tr>\n",
       "      <th>High Supply - Giesel - Indica - Flower 14g</th>\n",
       "      <th>Each</th>\n",
       "      <td>1.0</td>\n",
       "    </tr>\n",
       "    <tr>\n",
       "      <th>CALI HASH | Cherry Pie 1g Raw Hash</th>\n",
       "      <th>Each</th>\n",
       "      <td>1.0</td>\n",
       "    </tr>\n",
       "    <tr>\n",
       "      <th>...</th>\n",
       "      <th>...</th>\n",
       "      <td>...</td>\n",
       "    </tr>\n",
       "    <tr>\n",
       "      <th>Paletas Strawberry Lemonade Sativa Infused Moonrock Preroll 1g</th>\n",
       "      <th>Each</th>\n",
       "      <td>1027.0</td>\n",
       "    </tr>\n",
       "    <tr>\n",
       "      <th>Hum Made Processing - Ice Cream Cake Trimmed Smalls</th>\n",
       "      <th>Grams</th>\n",
       "      <td>2072.0</td>\n",
       "    </tr>\n",
       "    <tr>\n",
       "      <th>GRIZZLY PEAK - Indica Bone - 0.5g - 7PK</th>\n",
       "      <th>Each</th>\n",
       "      <td>3048.0</td>\n",
       "    </tr>\n",
       "    <tr>\n",
       "      <th>Firesale Sweet Cheese Sativa Preroll 0.7g</th>\n",
       "      <th>Each</th>\n",
       "      <td>10841.0</td>\n",
       "    </tr>\n",
       "    <tr>\n",
       "      <th>Firesale Ice Cream Cake Indica Preroll 0.7g</th>\n",
       "      <th>Each</th>\n",
       "      <td>13480.0</td>\n",
       "    </tr>\n",
       "  </tbody>\n",
       "</table>\n",
       "<p>322 rows × 1 columns</p>\n",
       "</div>"
      ],
      "text/plain": [
       "                                                                    quantity\n",
       "product_name                                       unit_of_measure          \n",
       "LPC x Jealousy 3.5g                                Each                  1.0\n",
       "High Supply - Gelato - Indica - Flower 1oz         Each                  1.0\n",
       "High Supply - Ghost Train Haze - Sativa - Flowe... Each                  1.0\n",
       "High Supply - Giesel - Indica - Flower 14g         Each                  1.0\n",
       "CALI HASH | Cherry Pie 1g Raw Hash                 Each                  1.0\n",
       "...                                                                      ...\n",
       "Paletas Strawberry Lemonade Sativa Infused Moon... Each               1027.0\n",
       "Hum Made Processing - Ice Cream Cake Trimmed Sm... Grams              2072.0\n",
       "GRIZZLY PEAK - Indica Bone - 0.5g - 7PK            Each               3048.0\n",
       "Firesale Sweet Cheese Sativa Preroll 0.7g          Each              10841.0\n",
       "Firesale Ice Cream Cake Indica Preroll 0.7g        Each              13480.0\n",
       "\n",
       "[322 rows x 1 columns]"
      ]
     },
     "execution_count": 53,
     "metadata": {},
     "output_type": "execute_result"
    }
   ],
   "source": [
    "missing[['product_name','unit_of_measure','quantity']].groupby(['product_name','unit_of_measure']).sum().sort_values(by = 'quantity')"
   ]
  },
  {
   "cell_type": "code",
   "execution_count": null,
   "id": "88523604",
   "metadata": {},
   "outputs": [],
   "source": [
    "# search for these products from GF's retail sales\n",
    "# when they come in? new product?\n",
    "#retailers should be selling them, do they appear in transactions?\n"
   ]
  },
  {
   "cell_type": "code",
   "execution_count": 51,
   "id": "77beb76b",
   "metadata": {},
   "outputs": [
    {
     "data": {
      "text/html": [
       "<div>\n",
       "<style scoped>\n",
       "    .dataframe tbody tr th:only-of-type {\n",
       "        vertical-align: middle;\n",
       "    }\n",
       "\n",
       "    .dataframe tbody tr th {\n",
       "        vertical-align: top;\n",
       "    }\n",
       "\n",
       "    .dataframe thead th {\n",
       "        text-align: right;\n",
       "    }\n",
       "</style>\n",
       "<table border=\"1\" class=\"dataframe\">\n",
       "  <thead>\n",
       "    <tr style=\"text-align: right;\">\n",
       "      <th></th>\n",
       "      <th>license_number</th>\n",
       "      <th>package_id</th>\n",
       "      <th>package_label</th>\n",
       "      <th>type</th>\n",
       "      <th>packaged_date</th>\n",
       "      <th>last_modified_at</th>\n",
       "      <th>package_type</th>\n",
       "      <th>product_name</th>\n",
       "      <th>product_category_name</th>\n",
       "      <th>quantity</th>\n",
       "      <th>unit_of_measure</th>\n",
       "      <th>item_id</th>\n",
       "      <th>item_product_category_type</th>\n",
       "      <th>production_batch_number</th>\n",
       "      <th>source_production_batch_numbers</th>\n",
       "      <th>source_harvest_names</th>\n",
       "      <th>is_testing_sample</th>\n",
       "      <th>is_trade_sample</th>\n",
       "      <th>is_on_hold</th>\n",
       "      <th>archived_date</th>\n",
       "      <th>finished_date</th>\n",
       "      <th>per_unit_incoming</th>\n",
       "      <th>per_unit_product</th>\n",
       "    </tr>\n",
       "  </thead>\n",
       "  <tbody>\n",
       "    <tr>\n",
       "      <th>0</th>\n",
       "      <td>C11-0000401-LIC</td>\n",
       "      <td>28747266</td>\n",
       "      <td>1A4060300004FB1000123633</td>\n",
       "      <td>active</td>\n",
       "      <td>2022-09-12</td>\n",
       "      <td>2022-09-12 16:22:43+00:00</td>\n",
       "      <td>Product</td>\n",
       "      <td>Almora Farm 1g Jar: Rosin: Wedding Cake [H]</td>\n",
       "      <td>Other Concentrate (weight - each)</td>\n",
       "      <td>24.0</td>\n",
       "      <td>Each</td>\n",
       "      <td>4346332</td>\n",
       "      <td>Concentrate</td>\n",
       "      <td></td>\n",
       "      <td>F6000016785PB</td>\n",
       "      <td>WC-10.02.20-AG0769, WC-10.02.20-AG0769B, WC-10...</td>\n",
       "      <td>False</td>\n",
       "      <td>False</td>\n",
       "      <td>False</td>\n",
       "      <td>None</td>\n",
       "      <td>None</td>\n",
       "      <td>NaN</td>\n",
       "      <td>NaN</td>\n",
       "    </tr>\n",
       "    <tr>\n",
       "      <th>1</th>\n",
       "      <td>C11-0000401-LIC</td>\n",
       "      <td>28746687</td>\n",
       "      <td>1A4060300004FB1000121615</td>\n",
       "      <td>active</td>\n",
       "      <td>2022-09-12</td>\n",
       "      <td>2022-09-12 16:14:32+00:00</td>\n",
       "      <td>Product</td>\n",
       "      <td>Biscotti 3.5 Flower- Sativa- California Limes,...</td>\n",
       "      <td>Flower (packaged eighth - each)</td>\n",
       "      <td>32.0</td>\n",
       "      <td>Each</td>\n",
       "      <td>4597580</td>\n",
       "      <td>Buds</td>\n",
       "      <td></td>\n",
       "      <td>BUDA-30863</td>\n",
       "      <td>000051 T03 Harvest Bay9 10AUG2021, 000060 T03 ...</td>\n",
       "      <td>False</td>\n",
       "      <td>False</td>\n",
       "      <td>False</td>\n",
       "      <td>None</td>\n",
       "      <td>None</td>\n",
       "      <td>NaN</td>\n",
       "      <td>NaN</td>\n",
       "    </tr>\n",
       "    <tr>\n",
       "      <th>5</th>\n",
       "      <td>C11-0000401-LIC</td>\n",
       "      <td>28747305</td>\n",
       "      <td>1A4060300004FB1000121621</td>\n",
       "      <td>active</td>\n",
       "      <td>2022-09-12</td>\n",
       "      <td>2022-09-12 16:23:54+00:00</td>\n",
       "      <td>Product</td>\n",
       "      <td>21176 Coastal Sun Greenhouse Flower 3.5g Jar S...</td>\n",
       "      <td>Flower (packaged eighth - each)</td>\n",
       "      <td>64.0</td>\n",
       "      <td>Each</td>\n",
       "      <td>4970716</td>\n",
       "      <td>Buds</td>\n",
       "      <td></td>\n",
       "      <td></td>\n",
       "      <td>22X3,6/29/22</td>\n",
       "      <td>False</td>\n",
       "      <td>False</td>\n",
       "      <td>False</td>\n",
       "      <td>None</td>\n",
       "      <td>None</td>\n",
       "      <td>NaN</td>\n",
       "      <td>NaN</td>\n",
       "    </tr>\n",
       "    <tr>\n",
       "      <th>7</th>\n",
       "      <td>C11-0000401-LIC</td>\n",
       "      <td>28747328</td>\n",
       "      <td>1A4060300004FB1000121623</td>\n",
       "      <td>active</td>\n",
       "      <td>2022-09-12</td>\n",
       "      <td>2022-09-12 16:26:19+00:00</td>\n",
       "      <td>Product</td>\n",
       "      <td>20997 Coastal Sun Greenhouse Flower 3.5g Jar S...</td>\n",
       "      <td>Flower (packaged eighth - each)</td>\n",
       "      <td>64.0</td>\n",
       "      <td>Each</td>\n",
       "      <td>4945664</td>\n",
       "      <td>Buds</td>\n",
       "      <td></td>\n",
       "      <td></td>\n",
       "      <td>2022-07-01 Spy Rock Sour Diesel</td>\n",
       "      <td>False</td>\n",
       "      <td>False</td>\n",
       "      <td>False</td>\n",
       "      <td>None</td>\n",
       "      <td>None</td>\n",
       "      <td>NaN</td>\n",
       "      <td>NaN</td>\n",
       "    </tr>\n",
       "    <tr>\n",
       "      <th>13</th>\n",
       "      <td>C11-0000401-LIC</td>\n",
       "      <td>28746797</td>\n",
       "      <td>1A4060300004FB1000121616</td>\n",
       "      <td>active</td>\n",
       "      <td>2022-09-12</td>\n",
       "      <td>2022-09-12 16:18:28+00:00</td>\n",
       "      <td>Product</td>\n",
       "      <td>Biscotti 3.5 Flower- Indica- Cherry Cheesecake...</td>\n",
       "      <td>Flower (packaged eighth - each)</td>\n",
       "      <td>64.0</td>\n",
       "      <td>Each</td>\n",
       "      <td>4890479</td>\n",
       "      <td>Buds</td>\n",
       "      <td></td>\n",
       "      <td>B-1-8-TH-S-D-1</td>\n",
       "      <td>U12 - 012 - 000 - 13822</td>\n",
       "      <td>False</td>\n",
       "      <td>False</td>\n",
       "      <td>False</td>\n",
       "      <td>None</td>\n",
       "      <td>None</td>\n",
       "      <td>NaN</td>\n",
       "      <td>NaN</td>\n",
       "    </tr>\n",
       "    <tr>\n",
       "      <th>...</th>\n",
       "      <td>...</td>\n",
       "      <td>...</td>\n",
       "      <td>...</td>\n",
       "      <td>...</td>\n",
       "      <td>...</td>\n",
       "      <td>...</td>\n",
       "      <td>...</td>\n",
       "      <td>...</td>\n",
       "      <td>...</td>\n",
       "      <td>...</td>\n",
       "      <td>...</td>\n",
       "      <td>...</td>\n",
       "      <td>...</td>\n",
       "      <td>...</td>\n",
       "      <td>...</td>\n",
       "      <td>...</td>\n",
       "      <td>...</td>\n",
       "      <td>...</td>\n",
       "      <td>...</td>\n",
       "      <td>...</td>\n",
       "      <td>...</td>\n",
       "      <td>...</td>\n",
       "      <td>...</td>\n",
       "    </tr>\n",
       "    <tr>\n",
       "      <th>1130</th>\n",
       "      <td>C11-0000401-LIC</td>\n",
       "      <td>21997907</td>\n",
       "      <td>1A4060300004FB1000080772</td>\n",
       "      <td>active</td>\n",
       "      <td>2022-02-04</td>\n",
       "      <td>2022-02-04 18:47:49+00:00</td>\n",
       "      <td>Product</td>\n",
       "      <td>TRADE SAMPLE Pax Tahoe Rose Live Rosin Pod 0.5g</td>\n",
       "      <td>Vape Cartridge (weight - each)</td>\n",
       "      <td>50.0</td>\n",
       "      <td>Each</td>\n",
       "      <td>4149422</td>\n",
       "      <td>Concentrate</td>\n",
       "      <td></td>\n",
       "      <td>210270PTRPGH0283</td>\n",
       "      <td>2021-05-21-Block 1-H, 2021-05-22-Block 1-H, 20...</td>\n",
       "      <td>False</td>\n",
       "      <td>False</td>\n",
       "      <td>False</td>\n",
       "      <td>None</td>\n",
       "      <td>None</td>\n",
       "      <td>NaN</td>\n",
       "      <td>NaN</td>\n",
       "    </tr>\n",
       "    <tr>\n",
       "      <th>1143</th>\n",
       "      <td>C11-0000401-LIC</td>\n",
       "      <td>21819622</td>\n",
       "      <td>1A40603000045EF000023845</td>\n",
       "      <td>active</td>\n",
       "      <td>2022-01-30</td>\n",
       "      <td>2022-08-29 15:35:56+00:00</td>\n",
       "      <td>Product</td>\n",
       "      <td>0.5g Cart - P2 - Sativa - Gelonade</td>\n",
       "      <td>Vape Cartridge (weight - each)</td>\n",
       "      <td>10.0</td>\n",
       "      <td>Each</td>\n",
       "      <td>4082925</td>\n",
       "      <td>Concentrate</td>\n",
       "      <td></td>\n",
       "      <td>011922GLN</td>\n",
       "      <td>110 - 1594A-09252021, 110-1594A-09252021, 38 -...</td>\n",
       "      <td>False</td>\n",
       "      <td>False</td>\n",
       "      <td>False</td>\n",
       "      <td>None</td>\n",
       "      <td>None</td>\n",
       "      <td>NaN</td>\n",
       "      <td>NaN</td>\n",
       "    </tr>\n",
       "    <tr>\n",
       "      <th>1152</th>\n",
       "      <td>C11-0000401-LIC</td>\n",
       "      <td>21623120</td>\n",
       "      <td>1A4060300008D6B000008955</td>\n",
       "      <td>active</td>\n",
       "      <td>2022-01-24</td>\n",
       "      <td>2022-01-28 17:16:48+00:00</td>\n",
       "      <td>Product</td>\n",
       "      <td>CALI HASH | Cherry Pie 1g Raw Hash</td>\n",
       "      <td>Extract (weight - each)</td>\n",
       "      <td>1.0</td>\n",
       "      <td>Each</td>\n",
       "      <td>4106761</td>\n",
       "      <td>Concentrate</td>\n",
       "      <td></td>\n",
       "      <td>CGCP001</td>\n",
       "      <td>PB RM#2 11.8</td>\n",
       "      <td>False</td>\n",
       "      <td>False</td>\n",
       "      <td>False</td>\n",
       "      <td>None</td>\n",
       "      <td>None</td>\n",
       "      <td>NaN</td>\n",
       "      <td>NaN</td>\n",
       "    </tr>\n",
       "    <tr>\n",
       "      <th>1179</th>\n",
       "      <td>C11-0000401-LIC</td>\n",
       "      <td>18955488</td>\n",
       "      <td>1A4060300002A31000000953</td>\n",
       "      <td>active</td>\n",
       "      <td>2021-10-21</td>\n",
       "      <td>2021-10-25 18:39:32+00:00</td>\n",
       "      <td>Product</td>\n",
       "      <td>GRIZZLY PEAK - Indica Bone - 0.5g - 7PK</td>\n",
       "      <td>Pre-Roll Infused</td>\n",
       "      <td>3048.0</td>\n",
       "      <td>Each</td>\n",
       "      <td>3573113</td>\n",
       "      <td>Concentrate</td>\n",
       "      <td>IB7PK005</td>\n",
       "      <td></td>\n",
       "      <td>7/27/21 - 200 Flower 1 - Club Soda - Wet Flowe...</td>\n",
       "      <td>False</td>\n",
       "      <td>False</td>\n",
       "      <td>False</td>\n",
       "      <td>None</td>\n",
       "      <td>None</td>\n",
       "      <td>NaN</td>\n",
       "      <td>NaN</td>\n",
       "    </tr>\n",
       "    <tr>\n",
       "      <th>1182</th>\n",
       "      <td>C11-0000401-LIC</td>\n",
       "      <td>6309493</td>\n",
       "      <td>1A406030000FACB000000185</td>\n",
       "      <td>active</td>\n",
       "      <td>2020-08-05</td>\n",
       "      <td>2020-08-25 22:36:54+00:00</td>\n",
       "      <td>Product</td>\n",
       "      <td>Hum Made Processing - Ice Cream Cake Trimmed S...</td>\n",
       "      <td>Flower</td>\n",
       "      <td>2072.0</td>\n",
       "      <td>Grams</td>\n",
       "      <td>1853361</td>\n",
       "      <td>Buds</td>\n",
       "      <td>ICC-CMF-S200715-3</td>\n",
       "      <td></td>\n",
       "      <td>ICC h2 07-07-2020</td>\n",
       "      <td>False</td>\n",
       "      <td>False</td>\n",
       "      <td>False</td>\n",
       "      <td>None</td>\n",
       "      <td>None</td>\n",
       "      <td>NaN</td>\n",
       "      <td>NaN</td>\n",
       "    </tr>\n",
       "  </tbody>\n",
       "</table>\n",
       "<p>365 rows × 23 columns</p>\n",
       "</div>"
      ],
      "text/plain": [
       "       license_number package_id             package_label    type  \\\n",
       "0     C11-0000401-LIC   28747266  1A4060300004FB1000123633  active   \n",
       "1     C11-0000401-LIC   28746687  1A4060300004FB1000121615  active   \n",
       "5     C11-0000401-LIC   28747305  1A4060300004FB1000121621  active   \n",
       "7     C11-0000401-LIC   28747328  1A4060300004FB1000121623  active   \n",
       "13    C11-0000401-LIC   28746797  1A4060300004FB1000121616  active   \n",
       "...               ...        ...                       ...     ...   \n",
       "1130  C11-0000401-LIC   21997907  1A4060300004FB1000080772  active   \n",
       "1143  C11-0000401-LIC   21819622  1A40603000045EF000023845  active   \n",
       "1152  C11-0000401-LIC   21623120  1A4060300008D6B000008955  active   \n",
       "1179  C11-0000401-LIC   18955488  1A4060300002A31000000953  active   \n",
       "1182  C11-0000401-LIC    6309493  1A406030000FACB000000185  active   \n",
       "\n",
       "     packaged_date          last_modified_at package_type  \\\n",
       "0       2022-09-12 2022-09-12 16:22:43+00:00      Product   \n",
       "1       2022-09-12 2022-09-12 16:14:32+00:00      Product   \n",
       "5       2022-09-12 2022-09-12 16:23:54+00:00      Product   \n",
       "7       2022-09-12 2022-09-12 16:26:19+00:00      Product   \n",
       "13      2022-09-12 2022-09-12 16:18:28+00:00      Product   \n",
       "...            ...                       ...          ...   \n",
       "1130    2022-02-04 2022-02-04 18:47:49+00:00      Product   \n",
       "1143    2022-01-30 2022-08-29 15:35:56+00:00      Product   \n",
       "1152    2022-01-24 2022-01-28 17:16:48+00:00      Product   \n",
       "1179    2021-10-21 2021-10-25 18:39:32+00:00      Product   \n",
       "1182    2020-08-05 2020-08-25 22:36:54+00:00      Product   \n",
       "\n",
       "                                           product_name  \\\n",
       "0           Almora Farm 1g Jar: Rosin: Wedding Cake [H]   \n",
       "1     Biscotti 3.5 Flower- Sativa- California Limes,...   \n",
       "5     21176 Coastal Sun Greenhouse Flower 3.5g Jar S...   \n",
       "7     20997 Coastal Sun Greenhouse Flower 3.5g Jar S...   \n",
       "13    Biscotti 3.5 Flower- Indica- Cherry Cheesecake...   \n",
       "...                                                 ...   \n",
       "1130    TRADE SAMPLE Pax Tahoe Rose Live Rosin Pod 0.5g   \n",
       "1143                 0.5g Cart - P2 - Sativa - Gelonade   \n",
       "1152                 CALI HASH | Cherry Pie 1g Raw Hash   \n",
       "1179            GRIZZLY PEAK - Indica Bone - 0.5g - 7PK   \n",
       "1182  Hum Made Processing - Ice Cream Cake Trimmed S...   \n",
       "\n",
       "                  product_category_name  quantity unit_of_measure  item_id  \\\n",
       "0     Other Concentrate (weight - each)      24.0            Each  4346332   \n",
       "1       Flower (packaged eighth - each)      32.0            Each  4597580   \n",
       "5       Flower (packaged eighth - each)      64.0            Each  4970716   \n",
       "7       Flower (packaged eighth - each)      64.0            Each  4945664   \n",
       "13      Flower (packaged eighth - each)      64.0            Each  4890479   \n",
       "...                                 ...       ...             ...      ...   \n",
       "1130     Vape Cartridge (weight - each)      50.0            Each  4149422   \n",
       "1143     Vape Cartridge (weight - each)      10.0            Each  4082925   \n",
       "1152            Extract (weight - each)       1.0            Each  4106761   \n",
       "1179                   Pre-Roll Infused    3048.0            Each  3573113   \n",
       "1182                             Flower    2072.0           Grams  1853361   \n",
       "\n",
       "     item_product_category_type production_batch_number  \\\n",
       "0                   Concentrate                           \n",
       "1                          Buds                           \n",
       "5                          Buds                           \n",
       "7                          Buds                           \n",
       "13                         Buds                           \n",
       "...                         ...                     ...   \n",
       "1130                Concentrate                           \n",
       "1143                Concentrate                           \n",
       "1152                Concentrate                           \n",
       "1179                Concentrate                IB7PK005   \n",
       "1182                       Buds       ICC-CMF-S200715-3   \n",
       "\n",
       "     source_production_batch_numbers  \\\n",
       "0                      F6000016785PB   \n",
       "1                         BUDA-30863   \n",
       "5                                      \n",
       "7                                      \n",
       "13                    B-1-8-TH-S-D-1   \n",
       "...                              ...   \n",
       "1130                210270PTRPGH0283   \n",
       "1143                       011922GLN   \n",
       "1152                         CGCP001   \n",
       "1179                                   \n",
       "1182                                   \n",
       "\n",
       "                                   source_harvest_names  is_testing_sample  \\\n",
       "0     WC-10.02.20-AG0769, WC-10.02.20-AG0769B, WC-10...              False   \n",
       "1     000051 T03 Harvest Bay9 10AUG2021, 000060 T03 ...              False   \n",
       "5                                          22X3,6/29/22              False   \n",
       "7                       2022-07-01 Spy Rock Sour Diesel              False   \n",
       "13                              U12 - 012 - 000 - 13822              False   \n",
       "...                                                 ...                ...   \n",
       "1130  2021-05-21-Block 1-H, 2021-05-22-Block 1-H, 20...              False   \n",
       "1143  110 - 1594A-09252021, 110-1594A-09252021, 38 -...              False   \n",
       "1152                                       PB RM#2 11.8              False   \n",
       "1179  7/27/21 - 200 Flower 1 - Club Soda - Wet Flowe...              False   \n",
       "1182                                  ICC h2 07-07-2020              False   \n",
       "\n",
       "      is_trade_sample  is_on_hold archived_date finished_date  \\\n",
       "0               False       False          None          None   \n",
       "1               False       False          None          None   \n",
       "5               False       False          None          None   \n",
       "7               False       False          None          None   \n",
       "13              False       False          None          None   \n",
       "...               ...         ...           ...           ...   \n",
       "1130            False       False          None          None   \n",
       "1143            False       False          None          None   \n",
       "1152            False       False          None          None   \n",
       "1179            False       False          None          None   \n",
       "1182            False       False          None          None   \n",
       "\n",
       "      per_unit_incoming  per_unit_product  \n",
       "0                   NaN               NaN  \n",
       "1                   NaN               NaN  \n",
       "5                   NaN               NaN  \n",
       "7                   NaN               NaN  \n",
       "13                  NaN               NaN  \n",
       "...                 ...               ...  \n",
       "1130                NaN               NaN  \n",
       "1143                NaN               NaN  \n",
       "1152                NaN               NaN  \n",
       "1179                NaN               NaN  \n",
       "1182                NaN               NaN  \n",
       "\n",
       "[365 rows x 23 columns]"
      ]
     },
     "execution_count": 51,
     "metadata": {},
     "output_type": "execute_result"
    }
   ],
   "source": [
    "missing"
   ]
  },
  {
   "cell_type": "markdown",
   "id": "adcb2cca",
   "metadata": {},
   "source": [
    "## 2. distro inventory + cost based (cost to distro)"
   ]
  },
  {
   "cell_type": "code",
   "execution_count": 36,
   "id": "016df68d",
   "metadata": {},
   "outputs": [],
   "source": [
    "inv_val_distro_cost,inv_all_distro_cost = client_surveillance_jupyter.calculate_inventory_valuation(df_in_distro,df_inventory,license_numbers,today)\n",
    "\n",
    "\n"
   ]
  },
  {
   "cell_type": "code",
   "execution_count": 37,
   "id": "563055ad",
   "metadata": {},
   "outputs": [
    {
     "data": {
      "text/html": [
       "<div>\n",
       "<style scoped>\n",
       "    .dataframe tbody tr th:only-of-type {\n",
       "        vertical-align: middle;\n",
       "    }\n",
       "\n",
       "    .dataframe tbody tr th {\n",
       "        vertical-align: top;\n",
       "    }\n",
       "\n",
       "    .dataframe thead th {\n",
       "        text-align: right;\n",
       "    }\n",
       "</style>\n",
       "<table border=\"1\" class=\"dataframe\">\n",
       "  <thead>\n",
       "    <tr style=\"text-align: right;\">\n",
       "      <th></th>\n",
       "      <th>date</th>\n",
       "      <th>value</th>\n",
       "      <th>value_after_tax</th>\n",
       "      <th>total_incoming</th>\n",
       "      <th>total</th>\n",
       "      <th>coverage</th>\n",
       "      <th>license</th>\n",
       "      <th>legal_name</th>\n",
       "    </tr>\n",
       "  </thead>\n",
       "  <tbody>\n",
       "    <tr>\n",
       "      <th>0</th>\n",
       "      <td>2022-09-12</td>\n",
       "      <td>436221.72</td>\n",
       "      <td>550729.92</td>\n",
       "      <td>495</td>\n",
       "      <td>1183</td>\n",
       "      <td>0.42</td>\n",
       "      <td>[C12-0000191-LIC, C11-0000401-LIC, C10-0000805...</td>\n",
       "      <td>FLOR X, INC.</td>\n",
       "    </tr>\n",
       "  </tbody>\n",
       "</table>\n",
       "</div>"
      ],
      "text/plain": [
       "         date      value value_after_tax total_incoming total coverage  \\\n",
       "0  2022-09-12  436221.72       550729.92            495  1183     0.42   \n",
       "\n",
       "                                             license    legal_name  \n",
       "0  [C12-0000191-LIC, C11-0000401-LIC, C10-0000805...  FLOR X, INC.  "
      ]
     },
     "execution_count": 37,
     "metadata": {},
     "output_type": "execute_result"
    }
   ],
   "source": [
    "inv_val_distro_cost"
   ]
  },
  {
   "cell_type": "code",
   "execution_count": 38,
   "id": "bd3e7531",
   "metadata": {},
   "outputs": [
    {
     "data": {
      "text/plain": [
       "array([1038623.1428571428], dtype=object)"
      ]
     },
     "execution_count": 38,
     "metadata": {},
     "output_type": "execute_result"
    }
   ],
   "source": [
    "inv_val_distro_cost['value'].values / inv_val_distro_cost['coverage'].values"
   ]
  },
  {
   "cell_type": "markdown",
   "id": "6175b7a8",
   "metadata": {},
   "source": [
    "## 3. blended: distro inventory + all incoming data"
   ]
  },
  {
   "cell_type": "code",
   "execution_count": 39,
   "id": "8f1a9bde",
   "metadata": {},
   "outputs": [],
   "source": [
    "inv_val_all,inv_all = client_surveillance_jupyter.calculate_inventory_valuation(df_in_all,df_inventory,license_numbers,today)\n",
    "\n",
    "\n"
   ]
  },
  {
   "cell_type": "code",
   "execution_count": 40,
   "id": "9377596e",
   "metadata": {},
   "outputs": [
    {
     "data": {
      "text/html": [
       "<div>\n",
       "<style scoped>\n",
       "    .dataframe tbody tr th:only-of-type {\n",
       "        vertical-align: middle;\n",
       "    }\n",
       "\n",
       "    .dataframe tbody tr th {\n",
       "        vertical-align: top;\n",
       "    }\n",
       "\n",
       "    .dataframe thead th {\n",
       "        text-align: right;\n",
       "    }\n",
       "</style>\n",
       "<table border=\"1\" class=\"dataframe\">\n",
       "  <thead>\n",
       "    <tr style=\"text-align: right;\">\n",
       "      <th></th>\n",
       "      <th>date</th>\n",
       "      <th>value</th>\n",
       "      <th>value_after_tax</th>\n",
       "      <th>total_incoming</th>\n",
       "      <th>total</th>\n",
       "      <th>coverage</th>\n",
       "      <th>license</th>\n",
       "      <th>legal_name</th>\n",
       "    </tr>\n",
       "  </thead>\n",
       "  <tbody>\n",
       "    <tr>\n",
       "      <th>0</th>\n",
       "      <td>2022-09-12</td>\n",
       "      <td>1081135.49</td>\n",
       "      <td>1364933.55</td>\n",
       "      <td>880</td>\n",
       "      <td>1183</td>\n",
       "      <td>0.74</td>\n",
       "      <td>[C12-0000191-LIC, C11-0000401-LIC, C10-0000805...</td>\n",
       "      <td>FLOR X, INC.</td>\n",
       "    </tr>\n",
       "  </tbody>\n",
       "</table>\n",
       "</div>"
      ],
      "text/plain": [
       "         date       value value_after_tax total_incoming total coverage  \\\n",
       "0  2022-09-12  1081135.49      1364933.55            880  1183     0.74   \n",
       "\n",
       "                                             license    legal_name  \n",
       "0  [C12-0000191-LIC, C11-0000401-LIC, C10-0000805...  FLOR X, INC.  "
      ]
     },
     "execution_count": 40,
     "metadata": {},
     "output_type": "execute_result"
    }
   ],
   "source": [
    "inv_val_all"
   ]
  },
  {
   "cell_type": "code",
   "execution_count": 41,
   "id": "74f1e912",
   "metadata": {},
   "outputs": [
    {
     "data": {
      "text/plain": [
       "array([1460993.9054054054], dtype=object)"
      ]
     },
     "execution_count": 41,
     "metadata": {},
     "output_type": "execute_result"
    }
   ],
   "source": [
    "inv_val_all['value'].values / inv_val_all['coverage'].values"
   ]
  }
 ],
 "metadata": {
  "kernelspec": {
   "display_name": "Python 3",
   "language": "python",
   "name": "python3"
  },
  "language_info": {
   "codemirror_mode": {
    "name": "ipython",
    "version": 3
   },
   "file_extension": ".py",
   "mimetype": "text/x-python",
   "name": "python",
   "nbconvert_exporter": "python",
   "pygments_lexer": "ipython3",
   "version": "3.8.10"
  }
 },
 "nbformat": 4,
 "nbformat_minor": 5
}
