{
 "cells": [
  {
   "cell_type": "code",
   "execution_count": 1,
   "id": "a1df46ef",
   "metadata": {},
   "outputs": [],
   "source": [
    "import warnings\n",
    "warnings.filterwarnings('ignore')"
   ]
  },
  {
   "cell_type": "code",
   "execution_count": 2,
   "id": "17064e54-fe0f-43e3-a00d-b2776aa5b753",
   "metadata": {},
   "outputs": [],
   "source": [
    "import json\n",
    "import numpy \n",
    "import os\n",
    "import pandas as pd\n",
    "import matplotlib.pyplot as plt\n",
    "%matplotlib inline  \n",
    "import pyarrow\n",
    "import sys\n",
    "\n",
    "from datetime import date\n",
    "from dotenv import load_dotenv\n",
    "from sqlalchemy import create_engine\n",
    "from os import path\n",
    "from typing import List,Dict, Tuple\n",
    "from collections import defaultdict\n",
    "pd.set_option(\"display.max_columns\", None)\n",
    "\n",
    "load_dotenv(verbose=True)\n",
    "BIGQUERY_CREDENTIALS_PATH = os.environ.get('BIGQUERY_CREDENTIALS_PATH')\n",
    "engine = create_engine('bigquery://bespoke-financial/ProdMetrcData', credentials_path=os.path.expanduser(BIGQUERY_CREDENTIALS_PATH))\n",
    "\n",
    "sys.path.append(path.realpath(path.join(os.getcwd(), \"../core\")))\n",
    "sys.path.append(path.realpath(path.join(os.getcwd(), \"../../src\")))\n",
    "sys.path.append(path.realpath(path.join(os.getcwd(), \"../../scripts\")))\n",
    "\n",
    "import create_queries\n",
    "import prepare_data\n",
    "\n",
    "from bespoke.inventory.analysis.shared import download_util, inventory_types\n",
    "from bespoke.inventory.analysis import active_inventory_util as util\n",
    "from bespoke.inventory.analysis import inventory_valuations_util as valuations_util\n",
    "\n",
    "%load_ext autoreload\n",
    "%autoreload 2"
   ]
  },
  {
   "cell_type": "code",
   "execution_count": 3,
   "id": "89297f22",
   "metadata": {},
   "outputs": [],
   "source": [
    "from underwriting import client_surveillance_jupyter"
   ]
  },
  {
   "cell_type": "code",
   "execution_count": 4,
   "id": "038c31ef-3af0-4b64-89b3-32c35769e7b2",
   "metadata": {},
   "outputs": [],
   "source": [
    "COMPANY_IDENTIFIER = ['RG']\n",
    "TRANSFER_PACKAGES_START_DATE = '2020-01-01'\n",
    "SALES_TRANSACTIONS_START_DATE = '2020-01-01'"
   ]
  },
  {
   "cell_type": "code",
   "execution_count": 5,
   "id": "7892d4f2-ef44-45ff-aea9-681fc6c86b34",
   "metadata": {},
   "outputs": [],
   "source": [
    "#fetch download report and lisences\n",
    "company_licenses_query = create_queries.create_company_licenses_query(COMPANY_IDENTIFIER)\n",
    "company_download_summaries_query = create_queries.create_company_download_summaries_query(COMPANY_IDENTIFIER, TRANSFER_PACKAGES_START_DATE)\n",
    "\n",
    "company_licenses_dataframe = pd.read_sql_query(company_licenses_query, engine)\n",
    "company_download_summaries_dataframe = pd.read_sql_query(company_download_summaries_query, engine)"
   ]
  },
  {
   "cell_type": "code",
   "execution_count": 6,
   "id": "54fa9801",
   "metadata": {},
   "outputs": [
    {
     "data": {
      "text/html": [
       "<div>\n",
       "<style scoped>\n",
       "    .dataframe tbody tr th:only-of-type {\n",
       "        vertical-align: middle;\n",
       "    }\n",
       "\n",
       "    .dataframe tbody tr th {\n",
       "        vertical-align: top;\n",
       "    }\n",
       "\n",
       "    .dataframe thead th {\n",
       "        text-align: right;\n",
       "    }\n",
       "</style>\n",
       "<table border=\"1\" class=\"dataframe\">\n",
       "  <thead>\n",
       "    <tr style=\"text-align: right;\">\n",
       "      <th></th>\n",
       "      <th>us_state</th>\n",
       "      <th>license_number</th>\n",
       "      <th>license_category</th>\n",
       "      <th>legal_name</th>\n",
       "    </tr>\n",
       "  </thead>\n",
       "  <tbody>\n",
       "    <tr>\n",
       "      <th>0</th>\n",
       "      <td>CA</td>\n",
       "      <td>C11-0000496-LIC</td>\n",
       "      <td>Distributor</td>\n",
       "      <td>CENTRAL COAST AG DISTRIBUTION, LLC</td>\n",
       "    </tr>\n",
       "    <tr>\n",
       "      <th>1</th>\n",
       "      <td>CA</td>\n",
       "      <td>C11-0001495-LIC</td>\n",
       "      <td>Distributor</td>\n",
       "      <td>Central Coast Ag Distribution, LLC</td>\n",
       "    </tr>\n",
       "    <tr>\n",
       "      <th>2</th>\n",
       "      <td>CA</td>\n",
       "      <td>C11-0001094-LIC</td>\n",
       "      <td>Distributor</td>\n",
       "      <td>Central Coast Ag Distribution, LLC</td>\n",
       "    </tr>\n",
       "    <tr>\n",
       "      <th>3</th>\n",
       "      <td>CA</td>\n",
       "      <td>CCL18-0002256</td>\n",
       "      <td>Manufacturer</td>\n",
       "      <td>Central Coast Ag Farming, LLC</td>\n",
       "    </tr>\n",
       "    <tr>\n",
       "      <th>4</th>\n",
       "      <td>CA</td>\n",
       "      <td>CDPH-10003156</td>\n",
       "      <td>Manufacturer</td>\n",
       "      <td>Central Coast Ag Products, LLC</td>\n",
       "    </tr>\n",
       "    <tr>\n",
       "      <th>5</th>\n",
       "      <td>CA</td>\n",
       "      <td>CDPH-10004620</td>\n",
       "      <td>Manufacturer</td>\n",
       "      <td>Central Coast Ag Products, LLC</td>\n",
       "    </tr>\n",
       "    <tr>\n",
       "      <th>6</th>\n",
       "      <td>CA</td>\n",
       "      <td>C11-0001512-LIC</td>\n",
       "      <td>Distributor</td>\n",
       "      <td>Central Coast Ag Farming, LLC</td>\n",
       "    </tr>\n",
       "    <tr>\n",
       "      <th>7</th>\n",
       "      <td>CA</td>\n",
       "      <td>C13-0000057-LIC</td>\n",
       "      <td>Distributor</td>\n",
       "      <td>CENTRAL COAST AG FARMING, LLC</td>\n",
       "    </tr>\n",
       "  </tbody>\n",
       "</table>\n",
       "</div>"
      ],
      "text/plain": [
       "  us_state   license_number license_category  \\\n",
       "0       CA  C11-0000496-LIC      Distributor   \n",
       "1       CA  C11-0001495-LIC      Distributor   \n",
       "2       CA  C11-0001094-LIC      Distributor   \n",
       "3       CA    CCL18-0002256     Manufacturer   \n",
       "4       CA    CDPH-10003156     Manufacturer   \n",
       "5       CA    CDPH-10004620     Manufacturer   \n",
       "6       CA  C11-0001512-LIC      Distributor   \n",
       "7       CA  C13-0000057-LIC      Distributor   \n",
       "\n",
       "                           legal_name  \n",
       "0  CENTRAL COAST AG DISTRIBUTION, LLC  \n",
       "1  Central Coast Ag Distribution, LLC  \n",
       "2  Central Coast Ag Distribution, LLC  \n",
       "3       Central Coast Ag Farming, LLC  \n",
       "4      Central Coast Ag Products, LLC  \n",
       "5      Central Coast Ag Products, LLC  \n",
       "6       Central Coast Ag Farming, LLC  \n",
       "7       CENTRAL COAST AG FARMING, LLC  "
      ]
     },
     "execution_count": 6,
     "metadata": {},
     "output_type": "execute_result"
    }
   ],
   "source": [
    "company_licenses_dataframe[['us_state', 'license_number', 'license_category', 'legal_name']]"
   ]
  },
  {
   "cell_type": "markdown",
   "id": "5ddb460b",
   "metadata": {},
   "source": [
    "## Check download status summaries"
   ]
  },
  {
   "cell_type": "code",
   "execution_count": 7,
   "id": "cec4010a",
   "metadata": {},
   "outputs": [],
   "source": [
    "license_numbers = company_download_summaries_dataframe['license_number'].unique()\n",
    "download_summary_records = company_download_summaries_dataframe.to_dict('records')"
   ]
  },
  {
   "cell_type": "code",
   "execution_count": 8,
   "id": "2d720e85",
   "metadata": {},
   "outputs": [
    {
     "data": {
      "text/plain": [
       "array(['CCL18-0002256', 'CDPH-10003156', 'CDPH-10004620',\n",
       "       'C11-0000496-LIC', 'C11-0001094-LIC', 'C11-0001495-LIC',\n",
       "       'C11-0001512-LIC', 'C13-0000057-LIC'], dtype=object)"
      ]
     },
     "execution_count": 8,
     "metadata": {},
     "output_type": "execute_result"
    }
   ],
   "source": [
    "license_numbers"
   ]
  },
  {
   "cell_type": "code",
   "execution_count": null,
   "id": "cc634d6a",
   "metadata": {
    "scrolled": true
   },
   "outputs": [],
   "source": [
    "#bad_download_history = client_surveillance_jupyter.check_company_license_download(license_numbers,download_summary_records)"
   ]
  },
  {
   "cell_type": "code",
   "execution_count": null,
   "id": "931a4474",
   "metadata": {},
   "outputs": [],
   "source": [
    "#bad_download_history"
   ]
  },
  {
   "cell_type": "markdown",
   "id": "5edcc0c3",
   "metadata": {},
   "source": [
    "## Choose license numbers"
   ]
  },
  {
   "cell_type": "code",
   "execution_count": 9,
   "id": "ad5e4702",
   "metadata": {},
   "outputs": [],
   "source": [
    "license_numbers = list(license_numbers)"
   ]
  },
  {
   "cell_type": "code",
   "execution_count": 10,
   "id": "145b17f6",
   "metadata": {},
   "outputs": [
    {
     "data": {
      "text/plain": [
       "['CCL18-0002256',\n",
       " 'CDPH-10003156',\n",
       " 'CDPH-10004620',\n",
       " 'C11-0000496-LIC',\n",
       " 'C11-0001094-LIC',\n",
       " 'C11-0001495-LIC',\n",
       " 'C11-0001512-LIC',\n",
       " 'C13-0000057-LIC']"
      ]
     },
     "execution_count": 10,
     "metadata": {},
     "output_type": "execute_result"
    }
   ],
   "source": [
    "license_numbers"
   ]
  },
  {
   "cell_type": "markdown",
   "id": "8e35183a",
   "metadata": {},
   "source": [
    "## Pull data"
   ]
  },
  {
   "cell_type": "code",
   "execution_count": 11,
   "id": "61cc4333-fcbf-4d35-ad5f-09cfb5b17486",
   "metadata": {},
   "outputs": [],
   "source": [
    "company_incoming_transfer_packages_query = create_queries.create_company_incoming_transfer_packages_query(\n",
    "    COMPANY_IDENTIFIER,\n",
    "    TRANSFER_PACKAGES_START_DATE,\n",
    "    license_numbers=license_numbers,\n",
    ")\n",
    "company_outgoing_transfer_packages_query = create_queries.create_company_outgoing_transfer_packages_query(\n",
    "    COMPANY_IDENTIFIER,\n",
    "    TRANSFER_PACKAGES_START_DATE,\n",
    "    license_numbers=license_numbers,\n",
    ")\n",
    "company_unknown_transfer_packages_query = create_queries.create_company_unknown_transfer_packages_query(\n",
    "    COMPANY_IDENTIFIER,\n",
    "    TRANSFER_PACKAGES_START_DATE,\n",
    "#     license_numbers=license_numbers,\n",
    ")\n",
    "company_sales_transactions_query = create_queries.create_company_sales_transactions_query(\n",
    "    COMPANY_IDENTIFIER,\n",
    "    SALES_TRANSACTIONS_START_DATE,\n",
    "    license_numbers=license_numbers,\n",
    ")\n",
    "company_sales_receipts_query = create_queries.create_company_sales_receipts_query(\n",
    "    COMPANY_IDENTIFIER,\n",
    "    SALES_TRANSACTIONS_START_DATE,\n",
    "    license_numbers=license_numbers,\n",
    ")\n",
    "company_sales_receipts_with_transactions_query = create_queries.create_company_sales_receipts_with_transactions_query(\n",
    "    COMPANY_IDENTIFIER,\n",
    "    SALES_TRANSACTIONS_START_DATE,\n",
    "    license_numbers=license_numbers,\n",
    ")\n",
    "company_inventory_packages_query = create_queries.create_company_inventory_packages_query(\n",
    "    COMPANY_IDENTIFIER,\n",
    "    include_quantity_zero=True,\n",
    "    license_numbers=license_numbers,\n",
    ")\n",
    "\n",
    "\n",
    "\n",
    "company_incoming_transfer_packages_dataframe = pd.read_sql_query(company_incoming_transfer_packages_query, engine)\n",
    "company_outgoing_transfer_packages_dataframe = pd.read_sql_query(company_outgoing_transfer_packages_query, engine)\n",
    "company_unknown_transfer_packages_dataframe = pd.read_sql_query(company_unknown_transfer_packages_query, engine)\n",
    "company_inventory_packages_dataframe = pd.read_sql_query(company_inventory_packages_query, engine)"
   ]
  },
  {
   "cell_type": "code",
   "execution_count": null,
   "id": "fb261441",
   "metadata": {},
   "outputs": [],
   "source": [
    "# all of nabis's licenses: ['C11-0001274-LIC','C11-0000150-LIC','C11-0001651-LIC','C11-0000349-LIC','C10-0000085-LIC','CCL18-0000558',\\\n",
    "#'C11-0000340-LIC','CDPH-10003426']"
   ]
  },
  {
   "cell_type": "code",
   "execution_count": 13,
   "id": "2a3e2560",
   "metadata": {},
   "outputs": [
    {
     "data": {
      "text/plain": [
       "array(['CCL18-0002256', 'C11-0000496-LIC', 'CDPH-10003156',\n",
       "       'C11-0001512-LIC', 'C11-0001094-LIC'], dtype=object)"
      ]
     },
     "execution_count": 13,
     "metadata": {},
     "output_type": "execute_result"
    }
   ],
   "source": [
    "company_outgoing_transfer_packages_dataframe['license_number'].unique()"
   ]
  },
  {
   "cell_type": "code",
   "execution_count": 14,
   "id": "c90dc620",
   "metadata": {},
   "outputs": [],
   "source": [
    "df_out = company_outgoing_transfer_packages_dataframe"
   ]
  },
  {
   "cell_type": "code",
   "execution_count": 15,
   "id": "fca1d967",
   "metadata": {},
   "outputs": [],
   "source": [
    "df_out['created_date'] = pd.to_datetime(df_out['created_date'])"
   ]
  },
  {
   "cell_type": "code",
   "execution_count": 16,
   "id": "ba1bf21d",
   "metadata": {},
   "outputs": [],
   "source": [
    "df_out_nabis = df_out[(df_out['recipient_facility_license_number'] == 'C11-0000825-LIC')]"
   ]
  },
  {
   "cell_type": "code",
   "execution_count": null,
   "id": "0f174b72",
   "metadata": {},
   "outputs": [],
   "source": [
    "l_list= pd.read_csv('recipient_list.csv')"
   ]
  },
  {
   "cell_type": "code",
   "execution_count": null,
   "id": "c83846b8",
   "metadata": {},
   "outputs": [],
   "source": [
    "l_list['name'] = l_list['name'].str.lower()"
   ]
  },
  {
   "cell_type": "code",
   "execution_count": null,
   "id": "7b0cdcdf",
   "metadata": {},
   "outputs": [],
   "source": [
    "l_list.sort_values(by = ['name','type'])"
   ]
  },
  {
   "cell_type": "code",
   "execution_count": null,
   "id": "5c543c9b",
   "metadata": {},
   "outputs": [],
   "source": [
    "df_out.head()"
   ]
  },
  {
   "cell_type": "code",
   "execution_count": null,
   "id": "631c4497",
   "metadata": {},
   "outputs": [],
   "source": [
    "df_out_merge = df_out.merge(l_list,left_on = 'recipient_facility_license_number',right_on = 'license')"
   ]
  },
  {
   "cell_type": "code",
   "execution_count": null,
   "id": "86814aed",
   "metadata": {},
   "outputs": [],
   "source": [
    "valid_license = list(l_list[(~l_list['type'].isin(['Laboratory']))&(~l_list['name'].str.contains('central'))]['license'].unique())"
   ]
  },
  {
   "cell_type": "code",
   "execution_count": null,
   "id": "588b477c",
   "metadata": {},
   "outputs": [],
   "source": [
    "valid_license"
   ]
  },
  {
   "cell_type": "code",
   "execution_count": null,
   "id": "8f3d1029",
   "metadata": {},
   "outputs": [],
   "source": [
    "lic_0496 = df_out_merge[df_out_merge['shipper_facility_license_number'].isin(['C11-0000496-LIC'])]\n",
    "lic_1094 = df_out_merge[df_out_merge['shipper_facility_license_number'].isin(['C11-0001094-LIC'])]\n",
    "lic_1512 = df_out_merge[df_out_merge['shipper_facility_license_number'].isin(['C11-0001512-LIC'])]\n",
    "cdph_3156 = df_out_merge[df_out_merge['shipper_facility_license_number'].isin(['CDPH-10003156'])]\n",
    "ccl_2256 = df_out_merge[df_out_merge['shipper_facility_license_number'].isin(['CCL18-0002256'])]"
   ]
  },
  {
   "cell_type": "code",
   "execution_count": null,
   "id": "8a01dbc9",
   "metadata": {},
   "outputs": [],
   "source": [
    "lic_0496_no_lab_no_self = lic_0496[lic_0496['recipient_facility_license_number'].isin(valid_license)]\n",
    "cdph_3156_no_lab_no_self = cdph_3156[cdph_3156['recipient_facility_license_number'].isin(valid_license)]\n",
    "lic_1094_no_lab_no_self = lic_1094[lic_1094['recipient_facility_license_number'].isin(valid_license)]\n",
    "lic_1512_no_lab_no_self = lic_1512[lic_1512['recipient_facility_license_number'].isin(valid_license)]\n",
    "ccl_2256_no_lab_no_self = ccl_2256[ccl_2256['recipient_facility_license_number'].isin(valid_license)]"
   ]
  },
  {
   "cell_type": "code",
   "execution_count": null,
   "id": "8a20dc55",
   "metadata": {},
   "outputs": [],
   "source": [
    "lic_0496_sum = lic_0496_no_lab_no_self[['name','created_date','package_id']].groupby(['created_date','name']).count().reset_index()\n",
    "\n",
    "lic_1094_sum = lic_1094_no_lab_no_self[['name','created_date','package_id']].groupby(['created_date','name']).count().reset_index()\n",
    "\n",
    "lic_1512_sum = lic_1512_no_lab_no_self[['name','created_date','package_id']].groupby(['created_date','name']).count().reset_index()\n",
    "\n",
    "cdph_3156_sum = cdph_3156_no_lab_no_self[['name','created_date','package_id']].groupby(['created_date','name']).count().reset_index()\n",
    "\n",
    "ccl_2256_sum = ccl_2256_no_lab_no_self[['name','created_date','package_id']].groupby(['created_date','name']).count().reset_index()\n",
    "\n",
    "\n"
   ]
  },
  {
   "cell_type": "code",
   "execution_count": null,
   "id": "548e0b5a",
   "metadata": {},
   "outputs": [],
   "source": [
    "import seaborn as sns; sns.set()\n",
    "sns.set(rc={'figure.figsize':(10,5)})"
   ]
  },
  {
   "cell_type": "code",
   "execution_count": null,
   "id": "5677ab5c",
   "metadata": {},
   "outputs": [],
   "source": [
    "sns.lineplot(data = ccl_2256_sum, x = 'created_date',y = 'package_id',hue = 'name',\\\n",
    "             marker='o',markersize=8)\n",
    "plt.legend(bbox_to_anchor=(1.05, 1), loc=2, borderaxespad=0.)"
   ]
  },
  {
   "cell_type": "code",
   "execution_count": null,
   "id": "3ddcb2bf",
   "metadata": {},
   "outputs": [],
   "source": [
    "sns.lineplot(data = lic_0496_sum, x = 'created_date',y = 'package_id',hue = 'name',\\\n",
    "             marker='o',markersize=8)\n",
    "plt.legend(bbox_to_anchor=(1.05, 1), loc=2, borderaxespad=0.)"
   ]
  },
  {
   "cell_type": "code",
   "execution_count": null,
   "id": "084de075",
   "metadata": {},
   "outputs": [],
   "source": [
    "sns.lineplot(data = lic_1094_sum, x = 'created_date',y = 'package_id',hue = 'name',\\\n",
    "            marker='o',markersize=8)\n",
    "plt.legend(bbox_to_anchor=(1.05, 1), loc=2, borderaxespad=0.)"
   ]
  },
  {
   "cell_type": "code",
   "execution_count": null,
   "id": "c6dd1955",
   "metadata": {},
   "outputs": [],
   "source": [
    "sns.lineplot(data = lic_1512_sum, x = 'created_date',y = 'package_id',hue = 'name',\\\n",
    "            marker='o',markersize=8)\n",
    "plt.legend(bbox_to_anchor=(1.05, 1), loc=2, borderaxespad=0.)"
   ]
  },
  {
   "cell_type": "code",
   "execution_count": null,
   "id": "4bcc3c4d",
   "metadata": {},
   "outputs": [],
   "source": [
    "sns.lineplot(data = cdph_3156_sum, x = 'created_date',y = 'package_id',hue = 'name',\\\n",
    "            marker='o',markersize=8)\n",
    "plt.legend(bbox_to_anchor=(1.05, 1), loc=2, borderaxespad=0.)"
   ]
  },
  {
   "cell_type": "markdown",
   "id": "ec024f55",
   "metadata": {},
   "source": [
    "# Inventory"
   ]
  },
  {
   "cell_type": "code",
   "execution_count": null,
   "id": "0ce8897d",
   "metadata": {},
   "outputs": [],
   "source": [
    "df_inventory = company_inventory_packages_dataframe"
   ]
  },
  {
   "cell_type": "code",
   "execution_count": null,
   "id": "298ac0f2",
   "metadata": {},
   "outputs": [],
   "source": [
    "today = date.today()\n",
    "today"
   ]
  },
  {
   "cell_type": "code",
   "execution_count": null,
   "id": "bd64953d",
   "metadata": {},
   "outputs": [],
   "source": [
    "COMPANY_IDENTIFIER"
   ]
  },
  {
   "cell_type": "code",
   "execution_count": null,
   "id": "7178d8cc",
   "metadata": {},
   "outputs": [],
   "source": [
    "# there are in total 1807 packages in its inventory 6-13-22\n",
    "df_inventory['license_number'].unique()"
   ]
  },
  {
   "cell_type": "code",
   "execution_count": null,
   "id": "31f8f863",
   "metadata": {},
   "outputs": [],
   "source": [
    "df_inventory['quantity'] = df_inventory['quantity'].round(2)"
   ]
  },
  {
   "cell_type": "markdown",
   "id": "9769a7d0",
   "metadata": {},
   "source": [
    "### inventory quantity"
   ]
  },
  {
   "cell_type": "code",
   "execution_count": null,
   "id": "c61adfdf",
   "metadata": {},
   "outputs": [],
   "source": [
    "inv_094 = df_inventory[df_inventory['license_number'] == 'C11-0001094-LIC'][['product_category_name','unit_of_measure','quantity']].groupby(['product_category_name','unit_of_measure']).sum().reset_index()"
   ]
  },
  {
   "cell_type": "code",
   "execution_count": null,
   "id": "7dec25f8",
   "metadata": {},
   "outputs": [],
   "source": [
    "inv_094"
   ]
  },
  {
   "cell_type": "code",
   "execution_count": null,
   "id": "8a79e97c",
   "metadata": {},
   "outputs": [],
   "source": [
    "# inventory quantity by product category name\n",
    "inv = df_inventory[['license_number','product_category_name','unit_of_measure','quantity']].groupby(['license_number','product_category_name','unit_of_measure']).sum().sort_values(by = ['product_category_name','unit_of_measure','quantity']).reset_index()\n",
    "\n",
    "\n"
   ]
  },
  {
   "cell_type": "code",
   "execution_count": null,
   "id": "7993ab1b",
   "metadata": {},
   "outputs": [],
   "source": [
    "inv"
   ]
  },
  {
   "cell_type": "markdown",
   "id": "099bd811",
   "metadata": {},
   "source": [
    "### inventory freshness"
   ]
  },
  {
   "cell_type": "code",
   "execution_count": null,
   "id": "7e3b3036",
   "metadata": {},
   "outputs": [],
   "source": [
    "df_inventory[\"age\"] = [today - df_inventory[\"packaged_date\"][i] for i in range(len(df_inventory))]\n",
    "df_inventory[\"age_int\"] = [df_inventory[\"age\"][i] / numpy.timedelta64(1, \"D\")\n",
    "        for i in range(len(df_inventory))]"
   ]
  },
  {
   "cell_type": "code",
   "execution_count": null,
   "id": "3bf9b322",
   "metadata": {},
   "outputs": [],
   "source": [
    "# histogram\n",
    "ax = plt.hist(df_inventory[df_inventory['product_category_name'] == 'Vape Cartridge (weight - each)']['age_int'],bins = 50)\n",
    "plt.ylabel('count package_id')\n",
    "plt.xlabel('age')\n",
    "plt.title('Vape Cartridge (weight - each)')\n",
    "\n"
   ]
  },
  {
   "cell_type": "markdown",
   "id": "42b22170",
   "metadata": {},
   "source": [
    "### inventory freshness by product categories"
   ]
  },
  {
   "cell_type": "code",
   "execution_count": null,
   "id": "b5214a69",
   "metadata": {},
   "outputs": [],
   "source": [
    "df_inventory[['product_category_name','unit_of_measure','age_int']].groupby(['product_category_name','unit_of_measure']).describe()"
   ]
  },
  {
   "cell_type": "code",
   "execution_count": null,
   "id": "970c4393",
   "metadata": {},
   "outputs": [],
   "source": [
    "print(company_inventory_packages_dataframe[company_inventory_packages_dataframe['age_int'] <= 90]['package_id'].nunique() / company_inventory_packages_dataframe['package_id'].nunique())\n",
    "print(company_inventory_packages_dataframe[company_inventory_packages_dataframe['age_int'] <= 180]['package_id'].nunique() / company_inventory_packages_dataframe['package_id'].nunique())\n",
    "print(company_inventory_packages_dataframe[company_inventory_packages_dataframe['age_int'] <= 270]['package_id'].nunique() / company_inventory_packages_dataframe['package_id'].nunique())\n",
    "print(company_inventory_packages_dataframe[company_inventory_packages_dataframe['age_int'] <= 360]['package_id'].nunique() / company_inventory_packages_dataframe['package_id'].nunique())\n",
    "\n"
   ]
  },
  {
   "cell_type": "markdown",
   "id": "03d356e2",
   "metadata": {},
   "source": [
    "# Turnover"
   ]
  },
  {
   "cell_type": "code",
   "execution_count": null,
   "id": "2aad4460",
   "metadata": {},
   "outputs": [],
   "source": [
    "company_outgoing_transfer_packages_dataframe['created_date'] = pd.to_datetime(company_outgoing_transfer_packages_dataframe['created_date'])"
   ]
  },
  {
   "cell_type": "code",
   "execution_count": null,
   "id": "99e4dc7c",
   "metadata": {},
   "outputs": [],
   "source": [
    "# recent 3 month outgoing packages \n",
    "recent_outgoing_3m = company_outgoing_transfer_packages_dataframe[company_outgoing_transfer_packages_dataframe['created_date'] >= '2022-03-13']\n",
    "recent_outgoing_1m = company_outgoing_transfer_packages_dataframe[company_outgoing_transfer_packages_dataframe['created_date'] >= '2022-05-13']\n",
    "\n"
   ]
  },
  {
   "cell_type": "code",
   "execution_count": null,
   "id": "e4ac101f",
   "metadata": {},
   "outputs": [],
   "source": [
    "recent_outgoing_3m.head()"
   ]
  },
  {
   "cell_type": "code",
   "execution_count": null,
   "id": "41762fc9",
   "metadata": {},
   "outputs": [],
   "source": [
    "recent_outgoing_3m_package = recent_outgoing_3m[['package_id','product_category_name','shipped_unit_of_measure','shipped_quantity']].\\\n",
    "groupby(['package_id','shipped_unit_of_measure','product_category_name']).sum().reset_index()\n",
    "\n",
    "recent_outgoing_1m_package = recent_outgoing_1m[['package_id','shipped_unit_of_measure','product_category_name','shipped_quantity']].\\\n",
    "groupby(['package_id','shipped_unit_of_measure','product_category_name']).sum().reset_index()"
   ]
  },
  {
   "cell_type": "code",
   "execution_count": null,
   "id": "b614958c",
   "metadata": {},
   "outputs": [],
   "source": [
    "recent_outgoing_3m_package.columns = ['package_id','unit_of_measure','product_category_name','shipped_quantity']\n",
    "recent_outgoing_1m_package.columns = ['package_id','unit_of_measure','product_category_name','shipped_quantity']"
   ]
  },
  {
   "cell_type": "code",
   "execution_count": null,
   "id": "b20e8d9c",
   "metadata": {},
   "outputs": [],
   "source": [
    "recent_outgoing_1m_package"
   ]
  },
  {
   "cell_type": "code",
   "execution_count": null,
   "id": "61862608",
   "metadata": {},
   "outputs": [],
   "source": [
    "recent_outgoing_3m_package[['product_category_name','shipped_quantity','unit_of_measure']].\\\n",
    "groupby(['product_category_name','unit_of_measure']).sum()\n"
   ]
  },
  {
   "cell_type": "code",
   "execution_count": null,
   "id": "1397ed57",
   "metadata": {},
   "outputs": [],
   "source": [
    "#recent_outgoing_3m_package.to_csv('rg_recent_outgoing_3m_package_0613.csv')"
   ]
  },
  {
   "cell_type": "code",
   "execution_count": null,
   "id": "4b675c85",
   "metadata": {},
   "outputs": [],
   "source": [
    "#recent_outgoing_1m_package.to_csv('rg_recent_outgoing_1m_package_0613.csv')"
   ]
  },
  {
   "cell_type": "code",
   "execution_count": null,
   "id": "afe4bbb8",
   "metadata": {},
   "outputs": [],
   "source": [
    "joined_3m = company_inventory_packages_dataframe.merge(recent_outgoing_3m,how = 'left', left_on = ['package_id','unit_of_measure'],right_on = ['package_id','shipped_unit_of_measure'])\n",
    "joined_1m = company_inventory_packages_dataframe.merge(recent_outgoing_1m,how = 'left', left_on = ['package_id','unit_of_measure'],right_on = ['package_id','shipped_unit_of_measure'])\n",
    "\n",
    "\n"
   ]
  },
  {
   "cell_type": "code",
   "execution_count": null,
   "id": "ccf6a5d1",
   "metadata": {},
   "outputs": [],
   "source": [
    "joined_1m[joined_1m['shipped_quantity'].notnull()]['package_id'].nunique()\n"
   ]
  },
  {
   "cell_type": "code",
   "execution_count": null,
   "id": "94da48d1",
   "metadata": {},
   "outputs": [],
   "source": [
    "joined_3m[joined_3m['shipped_quantity'].notnull()]['package_id'].nunique()\n"
   ]
  },
  {
   "cell_type": "code",
   "execution_count": null,
   "id": "e4d7af68",
   "metadata": {},
   "outputs": [],
   "source": [
    "move_3m= joined_3m[joined_3m['shipped_quantity'].notnull()]\n",
    "move_3m['package_id'].nunique()"
   ]
  },
  {
   "cell_type": "code",
   "execution_count": null,
   "id": "2ae27961",
   "metadata": {},
   "outputs": [],
   "source": [
    "move_1m= joined_1m[joined_1m['shipped_quantity'].notnull()]\n",
    "move_1m['package_id'].nunique()"
   ]
  },
  {
   "cell_type": "code",
   "execution_count": null,
   "id": "486b0797",
   "metadata": {},
   "outputs": [],
   "source": [
    "move_3m['package_id'].nunique() / company_inventory_packages_dataframe['package_id'].nunique()"
   ]
  },
  {
   "cell_type": "code",
   "execution_count": null,
   "id": "c62c16bf",
   "metadata": {},
   "outputs": [],
   "source": [
    "move_1m['package_id'].nunique() / company_inventory_packages_dataframe['package_id'].nunique()"
   ]
  },
  {
   "cell_type": "code",
   "execution_count": null,
   "id": "4b0d20ad",
   "metadata": {},
   "outputs": [],
   "source": [
    "move_3m['packaged_date'] = pd.to_datetime(move_3m['packaged_date'])\n",
    "move_3m['diff'] = move_3m['created_date'] - move_3m['packaged_date']\n",
    "move_3m = move_3m.reset_index()\n",
    "move_3m[\"diff_int\"] = [move_3m[\"diff\"][i] / numpy.timedelta64(1, \"D\")\n",
    "        for i in range(len(move_3m))]\n",
    "\n",
    "move_1m['packaged_date'] = pd.to_datetime(move_1m['packaged_date'])\n",
    "move_1m['diff'] = move_1m['created_date'] - move_1m['packaged_date']\n",
    "move_1m = move_1m.reset_index()\n",
    "move_1m[\"diff_int\"] = [move_1m[\"diff\"][i] / numpy.timedelta64(1, \"D\")\n",
    "        for i in range(len(move_1m))]"
   ]
  },
  {
   "cell_type": "code",
   "execution_count": null,
   "id": "7606f9be",
   "metadata": {},
   "outputs": [],
   "source": [
    "move_3m[['product_category_name_x','diff_int','unit_of_measure']].\\\n",
    "groupby(['product_category_name_x','unit_of_measure']).describe()"
   ]
  },
  {
   "cell_type": "code",
   "execution_count": null,
   "id": "6954d89b",
   "metadata": {},
   "outputs": [],
   "source": [
    "move_1m[['product_category_name_x','diff_int','unit_of_measure']].\\\n",
    "groupby(['product_category_name_x','unit_of_measure']).describe()"
   ]
  },
  {
   "cell_type": "markdown",
   "id": "705386bb",
   "metadata": {},
   "source": [
    "# HERBL"
   ]
  },
  {
   "cell_type": "code",
   "execution_count": null,
   "id": "ee8763e1",
   "metadata": {},
   "outputs": [],
   "source": [
    "COMPANY_IDENTIFIER = ['HBL']\n",
    "TRANSFER_PACKAGES_START_DATE = '2020-01-01'\n",
    "SALES_TRANSACTIONS_START_DATE = '2020-01-01'"
   ]
  },
  {
   "cell_type": "code",
   "execution_count": null,
   "id": "b7cd5060",
   "metadata": {},
   "outputs": [],
   "source": [
    "#fetch download report and lisences\n",
    "company_licenses_query = create_queries.create_company_licenses_query(COMPANY_IDENTIFIER)\n",
    "company_download_summaries_query = create_queries.create_company_download_summaries_query(COMPANY_IDENTIFIER, TRANSFER_PACKAGES_START_DATE)\n",
    "\n",
    "company_licenses_dataframe = pd.read_sql_query(company_licenses_query, engine)\n",
    "company_download_summaries_dataframe = pd.read_sql_query(company_download_summaries_query, engine)"
   ]
  },
  {
   "cell_type": "code",
   "execution_count": null,
   "id": "b8681ac1",
   "metadata": {},
   "outputs": [],
   "source": [
    "company_licenses_dataframe"
   ]
  },
  {
   "cell_type": "code",
   "execution_count": null,
   "id": "c6878cbc",
   "metadata": {},
   "outputs": [],
   "source": [
    "license_numbers = company_download_summaries_dataframe['license_number'].unique()\n",
    "download_summary_records = company_download_summaries_dataframe.to_dict('records')"
   ]
  },
  {
   "cell_type": "code",
   "execution_count": null,
   "id": "61869013",
   "metadata": {},
   "outputs": [],
   "source": [
    "license_numbers = list(license_numbers)\n",
    "license_numbers"
   ]
  },
  {
   "cell_type": "code",
   "execution_count": null,
   "id": "e7db371f",
   "metadata": {},
   "outputs": [],
   "source": [
    "company_incoming_transfer_packages_query = create_queries.create_company_incoming_transfer_packages_query(\n",
    "    COMPANY_IDENTIFIER,\n",
    "    TRANSFER_PACKAGES_START_DATE,\n",
    "    license_numbers=license_numbers,\n",
    ")\n",
    "company_outgoing_transfer_packages_query = create_queries.create_company_outgoing_transfer_packages_query(\n",
    "    COMPANY_IDENTIFIER,\n",
    "    TRANSFER_PACKAGES_START_DATE,\n",
    "    license_numbers=license_numbers,\n",
    ")\n",
    "company_unknown_transfer_packages_query = create_queries.create_company_unknown_transfer_packages_query(\n",
    "    COMPANY_IDENTIFIER,\n",
    "    TRANSFER_PACKAGES_START_DATE,\n",
    "#     license_numbers=license_numbers,\n",
    ")\n",
    "company_sales_transactions_query = create_queries.create_company_sales_transactions_query(\n",
    "    COMPANY_IDENTIFIER,\n",
    "    SALES_TRANSACTIONS_START_DATE,\n",
    "    license_numbers=license_numbers,\n",
    ")\n",
    "company_sales_receipts_query = create_queries.create_company_sales_receipts_query(\n",
    "    COMPANY_IDENTIFIER,\n",
    "    SALES_TRANSACTIONS_START_DATE,\n",
    "    license_numbers=license_numbers,\n",
    ")\n",
    "company_sales_receipts_with_transactions_query = create_queries.create_company_sales_receipts_with_transactions_query(\n",
    "    COMPANY_IDENTIFIER,\n",
    "    SALES_TRANSACTIONS_START_DATE,\n",
    "    license_numbers=license_numbers,\n",
    ")\n",
    "company_inventory_packages_query = create_queries.create_company_inventory_packages_query(\n",
    "    COMPANY_IDENTIFIER,\n",
    "    include_quantity_zero=True,\n",
    "    license_numbers=license_numbers,\n",
    ")\n",
    "\n",
    "\n",
    "\n",
    "company_incoming_transfer_packages_dataframe = pd.read_sql_query(company_incoming_transfer_packages_query, engine)\n",
    "company_outgoing_transfer_packages_dataframe = pd.read_sql_query(company_outgoing_transfer_packages_query, engine)\n",
    "company_unknown_transfer_packages_dataframe = pd.read_sql_query(company_unknown_transfer_packages_query, engine)\n",
    "company_inventory_packages_dataframe = pd.read_sql_query(company_inventory_packages_query, engine)"
   ]
  },
  {
   "cell_type": "code",
   "execution_count": null,
   "id": "572b357b",
   "metadata": {
    "scrolled": false
   },
   "outputs": [],
   "source": [
    "company_incoming_transfer_packages_dataframe[company_incoming_transfer_packages_dataframe['shipper_facility_license_number'].isin([]"
   ]
  },
  {
   "cell_type": "code",
   "execution_count": null,
   "id": "48c75c34",
   "metadata": {},
   "outputs": [],
   "source": [
    "h_set = set(company_incoming_transfer_packages_dataframe['shipper_facility_license_number'])"
   ]
  },
  {
   "cell_type": "code",
   "execution_count": null,
   "id": "529ac3d1",
   "metadata": {},
   "outputs": [],
   "source": [
    "company_incoming_transfer_packages_dataframe[company_incoming_transfer_packages_dataframe['shipper_facility_license_number'] == 'C11-0000496-LIC']\n",
    "\n",
    "\n"
   ]
  },
  {
   "cell_type": "code",
   "execution_count": null,
   "id": "b07b59c1",
   "metadata": {},
   "outputs": [],
   "source": [
    "company_incoming_transfer_packages_dataframe['product_name_lower'] = company_incoming_transfer_packages_dataframe['product_name'].str.lower()"
   ]
  },
  {
   "cell_type": "code",
   "execution_count": null,
   "id": "ccd7509e",
   "metadata": {},
   "outputs": [],
   "source": [
    "company_incoming_transfer_packages_dataframe[company_incoming_transfer_packages_dataframe['product_name_lower'].str.contains('raw garden')]['shipper_facility_license_number'].unique()"
   ]
  },
  {
   "cell_type": "code",
   "execution_count": null,
   "id": "60c35ef6",
   "metadata": {},
   "outputs": [],
   "source": [
    "company_incoming_transfer_packages_dataframe[company_incoming_transfer_packages_dataframe['shipper_facility_license_number'] == 'C11-0001135-LIC']['product_name'].unique()"
   ]
  },
  {
   "cell_type": "code",
   "execution_count": null,
   "id": "d325327e",
   "metadata": {},
   "outputs": [],
   "source": [
    "r_set = set(['CDPH-10003156', 'C8-0000013-LIC', 'C11-0000825-LIC',\n",
    "       'C11-0000050-LIC', 'C11-0000496-LIC', 'CDPH-10003334',\n",
    "       'C11-0001094-LIC', 'C11-0000777-LIC', 'C8-0000012-LIC',\n",
    "       'C9-0000402-LIC', 'C11-0001309-LIC', 'C11-0000955-LIC',\n",
    "       'C8-0000040-LIC', 'CDPH-10003309', 'C11-0001135-LIC',\n",
    "       'CCL18-0002256', 'C11-0001269-LIC', 'CDPH-10004061',\n",
    "       'CDPH-10003223'])"
   ]
  },
  {
   "cell_type": "code",
   "execution_count": null,
   "id": "35f0d700",
   "metadata": {},
   "outputs": [],
   "source": [
    "r_set.intersection(h_set)"
   ]
  },
  {
   "cell_type": "code",
   "execution_count": null,
   "id": "63be67cb",
   "metadata": {},
   "outputs": [],
   "source": [
    "\n",
    "\n",
    "company_incoming_transfer_packages_dataframe[company_incoming_transfer_packages_dataframe['package_id'] == 25903040]"
   ]
  },
  {
   "cell_type": "code",
   "execution_count": null,
   "id": "5e9bcd7f",
   "metadata": {},
   "outputs": [],
   "source": []
  }
 ],
 "metadata": {
  "kernelspec": {
   "display_name": "Python 3",
   "language": "python",
   "name": "python3"
  },
  "language_info": {
   "codemirror_mode": {
    "name": "ipython",
    "version": 3
   },
   "file_extension": ".py",
   "mimetype": "text/x-python",
   "name": "python",
   "nbconvert_exporter": "python",
   "pygments_lexer": "ipython3",
   "version": "3.8.10"
  }
 },
 "nbformat": 4,
 "nbformat_minor": 5
}
