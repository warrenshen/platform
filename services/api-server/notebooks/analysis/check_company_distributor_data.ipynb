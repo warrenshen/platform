{
 "cells": [
  {
   "cell_type": "code",
   "execution_count": null,
   "id": "17064e54-fe0f-43e3-a00d-b2776aa5b753",
   "metadata": {},
   "outputs": [],
   "source": [
    "import json\n",
    "import numpy\n",
    "import os\n",
    "import pandas\n",
    "import pyarrow\n",
    "import sys\n",
    "\n",
    "from datetime import date\n",
    "from dotenv import load_dotenv\n",
    "from sqlalchemy import create_engine\n",
    "from os import path\n",
    "\n",
    "load_dotenv(verbose=True)\n",
    "BIGQUERY_CREDENTIALS_PATH = os.environ.get('BIGQUERY_CREDENTIALS_PATH')\n",
    "engine = create_engine('bigquery://bespoke-financial/ProdMetrcData', credentials_path=os.path.expanduser(BIGQUERY_CREDENTIALS_PATH))\n",
    "\n",
    "sys.path.append(path.realpath(path.join(os.getcwd(), \"../core\")))\n",
    "sys.path.append(path.realpath(path.join(os.getcwd(), \"../../src\")))\n",
    "\n",
    "import create_queries\n",
    "import prepare_data\n",
    "\n",
    "from bespoke.inventory.analysis.shared import download_util, inventory_types\n",
    "from bespoke.inventory.analysis import active_inventory_util as util\n",
    "from bespoke.inventory.analysis import inventory_valuations_util as valuations_util\n",
    "\n",
    "%load_ext autoreload\n",
    "%autoreload 2"
   ]
  },
  {
   "cell_type": "code",
   "execution_count": null,
   "id": "038c31ef-3af0-4b64-89b3-32c35769e7b2",
   "metadata": {},
   "outputs": [],
   "source": [
    "# CHANGE ME\n",
    "COMPANY_IDENTIFIER = 'CI'\n",
    "TRANSFER_PACKAGES_START_DATE = '2021-01-01'"
   ]
  },
  {
   "cell_type": "code",
   "execution_count": null,
   "id": "8bd6b831-eb20-4e80-8ef6-c0ddafa54528",
   "metadata": {},
   "outputs": [],
   "source": []
  },
  {
   "cell_type": "markdown",
   "id": "b2e07356-4116-43e0-ad23-588c244de34f",
   "metadata": {},
   "source": [
    "## Queries 1"
   ]
  },
  {
   "cell_type": "code",
   "execution_count": null,
   "id": "7892d4f2-ef44-45ff-aea9-681fc6c86b34",
   "metadata": {},
   "outputs": [],
   "source": [
    "company_licenses_query = create_queries.create_company_licenses_query(COMPANY_IDENTIFIER)\n",
    "company_download_summaries_query = create_queries.create_company_download_summaries_query(COMPANY_IDENTIFIER, TRANSFER_PACKAGES_START_DATE)\n",
    "\n",
    "company_licenses_dataframe = pandas.read_sql_query(company_licenses_query, engine)\n",
    "company_download_summaries_dataframe = pandas.read_sql_query(company_download_summaries_query, engine)"
   ]
  },
  {
   "cell_type": "code",
   "execution_count": null,
   "id": "6a35166d-49d4-4173-a1f0-9fd836dedaf9",
   "metadata": {},
   "outputs": [],
   "source": []
  },
  {
   "cell_type": "markdown",
   "id": "f92f4693-1f2f-4e92-90cc-14966f747bb7",
   "metadata": {},
   "source": [
    "## Licenses"
   ]
  },
  {
   "cell_type": "code",
   "execution_count": null,
   "id": "3208011e-5b05-46dc-84b9-8033a5cd4674",
   "metadata": {},
   "outputs": [],
   "source": [
    "company_licenses_dataframe"
   ]
  },
  {
   "cell_type": "code",
   "execution_count": null,
   "id": "ed268a14-8944-478b-b89f-45b28326db28",
   "metadata": {},
   "outputs": [],
   "source": []
  },
  {
   "cell_type": "markdown",
   "id": "73995911-1fc5-4b51-8fcd-89ad3ab67231",
   "metadata": {},
   "source": [
    "## Download summaries"
   ]
  },
  {
   "cell_type": "code",
   "execution_count": null,
   "id": "247d8d53-94bc-4c34-bb6e-b74c26a35a1f",
   "metadata": {},
   "outputs": [],
   "source": [
    "license_numbers = company_download_summaries_dataframe['license_number'].unique()\n",
    "download_summary_records = company_download_summaries_dataframe.to_dict('records')\n",
    "\n",
    "license_number_to_download_summary_records = {}\n",
    "\n",
    "for license_number in license_numbers:\n",
    "    license_number_to_download_summary_records[license_number] = list(filter(\n",
    "        lambda download_summary_record: download_summary_record['license_number'] == license_number,\n",
    "        download_summary_records\n",
    "    ))\n",
    "\n",
    "bad_count = 0\n",
    "\n",
    "for license_number, download_summary_records in license_number_to_download_summary_records.items():\n",
    "    print(f'Verifying download summaries for license {license_number}...')\n",
    "    print(f'Earliest download summary: {download_summary_records[-1][\"date\"]}')\n",
    "    print(f'Latest download summary: {download_summary_records[0][\"date\"]}')\n",
    "    for download_summary_record in download_summary_records:\n",
    "        if download_summary_record['status'] != 'completed':\n",
    "            bad_count += 1\n",
    "            print(f'Found bad download summary for license {license_number} on date {download_summary_record[\"date\"]}')\n",
    "    print('')\n",
    "\n",
    "if bad_count > 0:\n",
    "    print(f'[FAILURE] Found a total of {bad_count} bad download summaries')\n",
    "else:\n",
    "    print(f'[SUCCESS] All download summaries look good!')"
   ]
  },
  {
   "cell_type": "code",
   "execution_count": null,
   "id": "990860df-9f26-48c4-96e3-35ad99f5d45f",
   "metadata": {},
   "outputs": [],
   "source": []
  },
  {
   "cell_type": "markdown",
   "id": "8438fe30-a124-4fa4-88fc-d35c29c1ab0f",
   "metadata": {},
   "source": [
    "## Queries 2"
   ]
  },
  {
   "cell_type": "code",
   "execution_count": null,
   "id": "4e220570-5057-45f2-ad34-b0ea82ef82c4",
   "metadata": {},
   "outputs": [],
   "source": [
    "company_license_records = company_licenses_dataframe.to_dict('records')\n",
    "# List of manufacturer license numbers.\n",
    "license_numbers = []\n",
    "for company_license_record in company_license_records:\n",
    "    license_number = company_license_record['license_number']\n",
    "    license_category = company_license_record['license_category']\n",
    "    if license_category == 'Distributor':\n",
    "        license_numbers.append(license_number)\n",
    "license_numbers"
   ]
  },
  {
   "cell_type": "code",
   "execution_count": null,
   "id": "61cc4333-fcbf-4d35-ad5f-09cfb5b17486",
   "metadata": {},
   "outputs": [],
   "source": [
    "company_incoming_transfer_packages_query = create_queries.create_company_incoming_transfer_packages_query(\n",
    "    COMPANY_IDENTIFIER,\n",
    "    TRANSFER_PACKAGES_START_DATE,\n",
    "    license_numbers=license_numbers,\n",
    ")\n",
    "company_outgoing_transfer_packages_query = create_queries.create_company_outgoing_transfer_packages_query(\n",
    "    COMPANY_IDENTIFIER,\n",
    "    TRANSFER_PACKAGES_START_DATE,\n",
    "    license_numbers=license_numbers,\n",
    ")\n",
    "company_unknown_transfer_packages_query = create_queries.create_company_unknown_transfer_packages_query(\n",
    "    COMPANY_IDENTIFIER,\n",
    "    TRANSFER_PACKAGES_START_DATE,\n",
    "#     license_numbers=license_numbers,\n",
    ")\n",
    "company_inventory_packages_query = create_queries.create_company_inventory_packages_query(\n",
    "    COMPANY_IDENTIFIER,\n",
    "    include_quantity_zero=True,\n",
    "    license_numbers=license_numbers,\n",
    ")\n",
    "\n",
    "company_incoming_transfer_packages_dataframe = pandas.read_sql_query(company_incoming_transfer_packages_query, engine)\n",
    "company_outgoing_transfer_packages_dataframe = pandas.read_sql_query(company_outgoing_transfer_packages_query, engine)\n",
    "company_unknown_transfer_packages_dataframe = pandas.read_sql_query(company_unknown_transfer_packages_query, engine)\n",
    "company_inventory_packages_dataframe = pandas.read_sql_query(company_inventory_packages_query, engine)"
   ]
  },
  {
   "cell_type": "code",
   "execution_count": null,
   "id": "6112742b-5c23-4b16-aaa7-f7a83bbabd9b",
   "metadata": {},
   "outputs": [],
   "source": []
  },
  {
   "cell_type": "markdown",
   "id": "22f31807",
   "metadata": {},
   "source": [
    "## Transfer packages"
   ]
  },
  {
   "cell_type": "code",
   "execution_count": null,
   "id": "75e1b33e",
   "metadata": {},
   "outputs": [],
   "source": [
    "company_unknown_transfer_package_records = company_unknown_transfer_packages_dataframe.to_dict('records')\n",
    "unknown_count = len(company_unknown_transfer_package_records)\n",
    "if unknown_count > 0:\n",
    "    print(f'[FAILURE] Found a total of {unknown_count} unknown transfer packages')\n",
    "else:\n",
    "    print(f'[SUCCESS] No unknown transfer packages!')"
   ]
  },
  {
   "cell_type": "code",
   "execution_count": null,
   "id": "fd886646",
   "metadata": {},
   "outputs": [],
   "source": []
  },
  {
   "cell_type": "code",
   "execution_count": null,
   "id": "6b23d121",
   "metadata": {},
   "outputs": [],
   "source": [
    "fn = lambda row: f'{row.created_date.year}-{\"0\" if row.created_date.month < 10 else \"\"}{row.created_date.month}'\n",
    "col = company_incoming_transfer_packages_dataframe.apply(fn, axis=1)\n",
    "company_incoming_transfer_packages_dataframe = company_incoming_transfer_packages_dataframe.assign(created_month=col.values)"
   ]
  },
  {
   "cell_type": "code",
   "execution_count": null,
   "id": "85ed995e",
   "metadata": {},
   "outputs": [],
   "source": [
    "# Incoming transfer packages by shipment type name\n",
    "company_incoming_transfer_packages_dataframe.groupby(['created_month', 'shipment_type_name'])['package_id'].count().unstack().plot.bar(figsize=(24, 8), stacked=True)"
   ]
  },
  {
   "cell_type": "code",
   "execution_count": null,
   "id": "a8c3f0ad-2ff0-41f3-baa2-389f30c96046",
   "metadata": {},
   "outputs": [],
   "source": [
    "# Incoming transfer packages by standard vs wholesale\n",
    "company_incoming_transfer_packages_dataframe.groupby(['created_month', 'shipment_transaction_type'])['package_id'].count().unstack().plot.bar(figsize=(24, 8), stacked=True)"
   ]
  },
  {
   "cell_type": "code",
   "execution_count": null,
   "id": "141b64f0-cce9-4599-b9db-2f9d230646fd",
   "metadata": {},
   "outputs": [],
   "source": [
    "# % incoming transfer packages with receiver wholesale price\n",
    "\n",
    "rwp_exists_count = len(company_incoming_transfer_packages_dataframe[company_incoming_transfer_packages_dataframe['receiver_wholesale_price'].notnull()].index)\n",
    "total_count = len(company_incoming_transfer_packages_dataframe.index)\n",
    "\n",
    "print(f'{round(rwp_exists_count / total_count * 100, 2)}% of incoming transfer packages have receiver wholesale price')"
   ]
  },
  {
   "cell_type": "code",
   "execution_count": null,
   "id": "9925f973",
   "metadata": {},
   "outputs": [],
   "source": []
  },
  {
   "cell_type": "markdown",
   "id": "283d5d0d-9fae-41ab-9250-c1a2560bf6d9",
   "metadata": {},
   "source": [
    "## Compare computed inventory vs Metrc inventory (metrc_packages)"
   ]
  },
  {
   "cell_type": "code",
   "execution_count": null,
   "id": "4cf90041-013a-4c7b-a847-ba77950e55dd",
   "metadata": {},
   "outputs": [],
   "source": [
    "TODAY_DATE = date.today().strftime('%m/%d/%Y')\n",
    "INVENTORY_DATES = [TODAY_DATE]\n",
    "ANALYSIS_PARAMS = {\n",
    "    'sold_threshold': 1.0,\n",
    "    'find_parent_child_relationships': False,\n",
    "}\n",
    "print('Today is {}'.format(TODAY_DATE))"
   ]
  },
  {
   "cell_type": "code",
   "execution_count": null,
   "id": "6a577892-fd92-4c11-a49f-1e43696373aa",
   "metadata": {},
   "outputs": [],
   "source": [
    "analysis_ctx = inventory_types.AnalysisContext(\n",
    "    output_root_dir='tmp',\n",
    "    read_params=inventory_types.ReadParams(\n",
    "        use_cached_dataframes=False\n",
    "    ),\n",
    "    write_params=inventory_types.WriteOutputParams(\n",
    "        save_download_dataframes=False\n",
    "    )\n",
    ")\n",
    "\n",
    "d = util.Download()\n",
    "sql_helper = util.BigQuerySQLHelper(\n",
    "    ctx=analysis_ctx,\n",
    "    engine=engine,\n",
    ")\n",
    "d.download_dataframes(\n",
    "    all_dataframes_dict=download_util.AllDataframesDict(\n",
    "        incoming_transfer_packages_dataframe=company_incoming_transfer_packages_dataframe,\n",
    "        outgoing_transfer_packages_dataframe=company_outgoing_transfer_packages_dataframe,\n",
    "        sales_transactions_dataframe=company_sales_transactions_dataframe,\n",
    "        sales_receipts_dataframe=company_sales_receipts_dataframe,\n",
    "        inventory_packages_dataframe=company_inventory_packages_dataframe,\n",
    "    ),\n",
    "    sql_helper=sql_helper\n",
    ")\n",
    "\n",
    "q = util.Query(\n",
    "    inventory_dates=[], # gets filled in once we have the dataframes\n",
    "    transfer_packages_start_date=TRANSFER_PACKAGES_START_DATE,\n",
    "    sales_transactions_start_date=SALES_TRANSACTIONS_START_DATE,\n",
    "    company_name=COMPANY_IDENTIFIER,\n",
    "    company_identifier=COMPANY_IDENTIFIER,\n",
    "    license_numbers=[],\n",
    ")\n",
    "\n",
    "id_to_history = util.get_histories(d, ANALYSIS_PARAMS)\n",
    "util.print_counts(analysis_ctx, id_to_history)"
   ]
  },
  {
   "cell_type": "code",
   "execution_count": null,
   "id": "202d853d-a7d5-4ec3-8672-68941d8e4cc4",
   "metadata": {},
   "outputs": [],
   "source": [
    "date_to_inventory_packages_dataframe = {}\n",
    "\n",
    "id_to_history = util.get_histories(d, ANALYSIS_PARAMS)\n",
    "inventory_valuations = []\n",
    "\n",
    "for inventory_date in INVENTORY_DATES:\n",
    "    computed_inventory_package_records = util.create_inventory_dataframe_by_date(\n",
    "        id_to_history, inventory_date, params=ANALYSIS_PARAMS)    \n",
    "    computed_inventory_packages_dataframe = pandas.DataFrame(\n",
    "        computed_inventory_package_records,\n",
    "        columns=util.get_inventory_column_names(),\n",
    "    )\n",
    "    date_to_inventory_packages_dataframe[inventory_date] = computed_inventory_packages_dataframe\n",
    "    inventory_valuations.append(valuations_util.get_total_valuation_for_date(\n",
    "        computed_inventory_packages_dataframe=computed_inventory_packages_dataframe,\n",
    "        company_incoming_transfer_packages_dataframe=company_incoming_transfer_packages_dataframe,\n",
    "        inventory_date=inventory_date,\n",
    "        using_nb=True,\n",
    "    ))"
   ]
  },
  {
   "cell_type": "code",
   "execution_count": null,
   "id": "a850b968-add4-4c4e-a943-8440f4f901f0",
   "metadata": {},
   "outputs": [],
   "source": [
    "from_packages_inventory_dataframe = company_inventory_packages_dataframe[[\n",
    "    'package_id',\n",
    "    'packaged_date',\n",
    "    'unit_of_measure',\n",
    "    'product_category_name',\n",
    "    'product_name',\n",
    "    'quantity',\n",
    "]].sort_values('package_id')\n",
    "\n",
    "package_id_to_actual_row = {}\n",
    "for index, row in from_packages_inventory_dataframe.iterrows():\n",
    "    package_id_to_actual_row[str(row['package_id'])] = row\n",
    "    \n",
    "res = util.compare_inventory_dataframes(\n",
    "    ctx=analysis_ctx,\n",
    "    computed=date_to_inventory_packages_dataframe[TODAY_DATE],\n",
    "    actual=from_packages_inventory_dataframe,\n",
    "    options={\n",
    "        'num_errors_to_show': 10,\n",
    "        'accept_computed_when_sold_out': True\n",
    "    }\n",
    ")\n",
    "\n",
    "inventory_cost_valuation = valuations_util.get_inventory_valuation(\n",
    "    inventory_packages_dataframe=company_inventory_packages_dataframe,\n",
    "    incoming_transfer_packages_dataframe=company_incoming_transfer_packages_dataframe,\n",
    ")\n",
    "print(f'Cost valuation of Metrc-reported inventory as of today: ${round(inventory_cost_valuation, 2)}')"
   ]
  },
  {
   "cell_type": "code",
   "execution_count": null,
   "id": "948fcc53-c101-4613-905f-3f209ea582ba",
   "metadata": {},
   "outputs": [],
   "source": []
  },
  {
   "cell_type": "markdown",
   "id": "fee5cafe",
   "metadata": {},
   "source": [
    "## Export data"
   ]
  },
  {
   "cell_type": "code",
   "execution_count": null,
   "id": "d83a55cf-72f6-4fa1-8fb9-b896aef8c7df",
   "metadata": {},
   "outputs": [],
   "source": [
    "# Flip flag if you want to export data to files.\n",
    "is_export_enabled = True"
   ]
  },
  {
   "cell_type": "code",
   "execution_count": null,
   "id": "4ca50c05",
   "metadata": {},
   "outputs": [],
   "source": [
    "import time\n",
    "from datetime import date\n",
    "\n",
    "TODAY_DATE = date.today().strftime('%m-%d-%Y')\n",
    "NOW = int(time.time())\n",
    "\n",
    "export_incoming_transfer_packages_dataframe = company_incoming_transfer_packages_dataframe\n",
    "\n",
    "date_columns = export_incoming_transfer_packages_dataframe.select_dtypes(include=['datetime64[ns, UTC]']).columns\n",
    "for date_column in date_columns:\n",
    "    export_incoming_transfer_packages_dataframe[date_column] = export_incoming_transfer_packages_dataframe[date_column].dt.date\n",
    "\n",
    "incoming_transfer_packages_file_name = f'~/Downloads/{COMPANY_IDENTIFIER}_incoming_transfer_packages_{TODAY_DATE}_{NOW}'\n",
    "\n",
    "export_inventory_packages_dataframe = company_inventory_packages_dataframe\n",
    "\n",
    "date_columns = export_inventory_packages_dataframe.select_dtypes(include=['datetime64[ns, UTC]']).columns\n",
    "for date_column in date_columns:\n",
    "    export_inventory_packages_dataframe[date_column] = export_inventory_packages_dataframe[date_column].dt.date\n",
    "\n",
    "inventory_packages_file_name = f'~/Downloads/{COMPANY_IDENTIFIER}_inventory_packages_{TODAY_DATE}_{NOW}'\n",
    "\n",
    "if is_export_enabled:\n",
    "    num_incoming_transfer_packages = len(export_incoming_transfer_packages_dataframe.index)\n",
    "    print(f'Exporting {num_incoming_transfer_packages} incoming transfer packages to files...')\n",
    "    export_incoming_transfer_packages_dataframe.reset_index().to_excel(f'{incoming_transfer_packages_file_name}.xlsx')\n",
    "    export_incoming_transfer_packages_dataframe.reset_index().to_csv(f'{incoming_transfer_packages_file_name}.csv')\n",
    "    print(f'Exported {num_incoming_transfer_packages} incoming transfer packages to files')\n",
    "\n",
    "    num_inventory_packages = len(export_inventory_packages_dataframe.index)\n",
    "    print(f'Exporting {num_inventory_packages} inventory packages to files...')\n",
    "    export_inventory_packages_dataframe.reset_index().to_excel(f'{inventory_packages_file_name}.xlsx')\n",
    "    export_inventory_packages_dataframe.reset_index().to_csv(f'{inventory_packages_file_name}.csv')\n",
    "    print(f'Exported {num_inventory_packages} inventory packages to files')"
   ]
  },
  {
   "cell_type": "code",
   "execution_count": null,
   "id": "6dfba055",
   "metadata": {},
   "outputs": [],
   "source": []
  },
  {
   "cell_type": "code",
   "execution_count": null,
   "id": "1be7bf31-9ba5-4894-a4a8-06269fb55d17",
   "metadata": {},
   "outputs": [],
   "source": []
  }
 ],
 "metadata": {
  "kernelspec": {
   "display_name": "Python 3",
   "language": "python",
   "name": "python3"
  },
  "language_info": {
   "codemirror_mode": {
    "name": "ipython",
    "version": 3
   },
   "file_extension": ".py",
   "mimetype": "text/x-python",
   "name": "python",
   "nbconvert_exporter": "python",
   "pygments_lexer": "ipython3",
   "version": "3.7.7"
  }
 },
 "nbformat": 4,
 "nbformat_minor": 5
}
