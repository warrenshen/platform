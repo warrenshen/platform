{
 "cells": [
  {
   "cell_type": "code",
   "execution_count": null,
   "metadata": {},
   "outputs": [],
   "source": [
    "import pandas as pd\n",
    "import numpy as np\n",
    "import datetime as dt\n",
    "from sqlalchemy import create_engine\n",
    "import urllib\n",
    "import pyodbc\n",
    "import requests\n",
    "from time import sleep"
   ]
  },
  {
   "cell_type": "code",
   "execution_count": null,
   "metadata": {},
   "outputs": [],
   "source": [
    "# Download from here https://www.colorado.gov/pacific/enforcement/med-licensed-facilities"
   ]
  },
  {
   "cell_type": "code",
   "execution_count": null,
   "metadata": {},
   "outputs": [],
   "source": [
    "# Just so I see the whole DataFrame\n",
    "pd.options.display.max_columns = 50\n",
    "pd.options.display.min_rows = 100\n",
    "pd.options.display.max_rows = 100"
   ]
  },
  {
   "cell_type": "code",
   "execution_count": null,
   "metadata": {},
   "outputs": [],
   "source": [
    "# Insert Today's Month and Year for later in the code\n",
    "# Day doesn't matter, so it can be kept as 1\n",
    "\n",
    "month_year = dt.date(2021, 10, 1)\n",
    "\n",
    "# Make sure Month and Year match before continuing code\n",
    "\n",
    "this_month = month_year.strftime('%B')\n",
    "this_month_num = month_year.strftime('%m')\n",
    "this_year = month_year.strftime('%Y')"
   ]
  },
  {
   "cell_type": "code",
   "execution_count": null,
   "metadata": {},
   "outputs": [],
   "source": []
  },
  {
   "cell_type": "markdown",
   "metadata": {},
   "source": [
    "### Create SQL Connection"
   ]
  },
  {
   "cell_type": "code",
   "execution_count": null,
   "metadata": {},
   "outputs": [],
   "source": [
    "# These will be used later"
   ]
  },
  {
   "cell_type": "code",
   "execution_count": null,
   "metadata": {},
   "outputs": [],
   "source": [
    "# # Local Engine\n",
    "# driver = \"ODBC Driver 17 for SQL Server\"\n",
    "# engine = create_engine(f'mssql://LAPTOP-E6QKON1L/co_cannabis?driver={driver}')\n",
    "# engine_con = engine.connect()"
   ]
  },
  {
   "cell_type": "code",
   "execution_count": null,
   "metadata": {},
   "outputs": [],
   "source": [
    "# Bespoke Engine\n",
    "params = urllib.parse.quote_plus(\"DRIVER={ODBC Driver 17 for SQL Server};\"\n",
    "                                 \"SERVER=bespoke-database-1.cmevrozrcs7c.us-west-2.rds.amazonaws.com;\"\n",
    "                                 \"DATABASE=co_cannabis;\"\n",
    "                                 \"UID=admin;\"\n",
    "                                 \"PWD=N19lrqxnurTUJLJT6GFe\")\n",
    "engine = create_engine(\"mssql+pyodbc:///?odbc_connect={}\".format(params))\n",
    "engine_con = engine.connect()"
   ]
  },
  {
   "cell_type": "code",
   "execution_count": null,
   "metadata": {},
   "outputs": [],
   "source": []
  },
  {
   "cell_type": "code",
   "execution_count": null,
   "metadata": {},
   "outputs": [],
   "source": []
  },
  {
   "cell_type": "code",
   "execution_count": null,
   "metadata": {},
   "outputs": [],
   "source": []
  },
  {
   "cell_type": "markdown",
   "metadata": {},
   "source": [
    "## Code to Clean Data"
   ]
  },
  {
   "cell_type": "code",
   "execution_count": null,
   "metadata": {},
   "outputs": [],
   "source": []
  },
  {
   "cell_type": "code",
   "execution_count": null,
   "metadata": {},
   "outputs": [],
   "source": [
    "# This function reads and combines the two sheets from the excel files\n",
    "\n",
    "def read_med_and_retail(excel_file):\n",
    "    medical_df = pd.read_excel(excel_file, sheet_name='Medical')\n",
    "    retail_df = pd.read_excel(excel_file, sheet_name='Retail')\n",
    "    \n",
    "    if len(medical_df.columns) > 3 and len(retail_df.columns) > 3:\n",
    "        total_df = retail_df.append(medical_df).reset_index().drop(columns='index')\n",
    "    elif len(medical_df.columns) > 3 and len(retail_df.columns) <= 3:\n",
    "        total_df = medical_df\n",
    "    elif len(medical_df.columns) <= 3 and len(retail_df.columns) > 3:\n",
    "        total_df = retail_df\n",
    "    \n",
    "    return total_df"
   ]
  },
  {
   "cell_type": "code",
   "execution_count": null,
   "metadata": {},
   "outputs": [],
   "source": []
  },
  {
   "cell_type": "code",
   "execution_count": null,
   "metadata": {},
   "outputs": [],
   "source": [
    "# This funciton will clean the dataframes once they are created \n",
    "\n",
    "def clean_df(dataframe, license_type):\n",
    "    dataframe = dataframe.drop(dataframe.columns[dataframe.columns.str.contains('Unnamed', case=False)], axis=1)\n",
    "    dataframe = dataframe[dataframe['LicenseNumber'].notnull()]\n",
    "    \n",
    "    dataframe['LicenseType'] = dataframe['LicenseNumber'].str.contains('R').replace(True, f\"Retail {license_type}\").replace(False, f\"Medical {license_type}\")\n",
    "    return dataframe"
   ]
  },
  {
   "cell_type": "code",
   "execution_count": null,
   "metadata": {},
   "outputs": [],
   "source": []
  },
  {
   "cell_type": "markdown",
   "metadata": {},
   "source": [
    "## Read in and Clean the DFs"
   ]
  },
  {
   "cell_type": "code",
   "execution_count": null,
   "metadata": {},
   "outputs": [],
   "source": []
  },
  {
   "cell_type": "markdown",
   "metadata": {},
   "source": [
    "### Cultivation"
   ]
  },
  {
   "cell_type": "code",
   "execution_count": null,
   "metadata": {},
   "outputs": [],
   "source": [
    "cultivation_df = read_med_and_retail(f'license_repository/{this_year}-{this_month_num}/Cultivations.xlsx')"
   ]
  },
  {
   "cell_type": "code",
   "execution_count": null,
   "metadata": {},
   "outputs": [],
   "source": [
    "cultivation_df = clean_df(cultivation_df, 'Cultivation')"
   ]
  },
  {
   "cell_type": "code",
   "execution_count": null,
   "metadata": {},
   "outputs": [],
   "source": [
    "cultivation_df.head()"
   ]
  },
  {
   "cell_type": "code",
   "execution_count": null,
   "metadata": {},
   "outputs": [],
   "source": []
  },
  {
   "cell_type": "markdown",
   "metadata": {},
   "source": [
    "### Delivery"
   ]
  },
  {
   "cell_type": "code",
   "execution_count": null,
   "metadata": {},
   "outputs": [],
   "source": [
    "delivery_df = read_med_and_retail(f'license_repository/{this_year}-{this_month_num}/Delivery.xlsx')"
   ]
  },
  {
   "cell_type": "code",
   "execution_count": null,
   "metadata": {},
   "outputs": [],
   "source": [
    "delivery_df = clean_df(delivery_df, 'Delivery')"
   ]
  },
  {
   "cell_type": "code",
   "execution_count": null,
   "metadata": {},
   "outputs": [],
   "source": [
    "delivery_df.head()"
   ]
  },
  {
   "cell_type": "code",
   "execution_count": null,
   "metadata": {},
   "outputs": [],
   "source": []
  },
  {
   "cell_type": "markdown",
   "metadata": {},
   "source": [
    "### Hospitality"
   ]
  },
  {
   "cell_type": "code",
   "execution_count": null,
   "metadata": {},
   "outputs": [],
   "source": [
    "hospitality_df = read_med_and_retail(f'license_repository/{this_year}-{this_month_num}/Hospitality.xlsx')"
   ]
  },
  {
   "cell_type": "code",
   "execution_count": null,
   "metadata": {},
   "outputs": [],
   "source": [
    "hospitality_df = clean_df(hospitality_df, 'Hospitality')"
   ]
  },
  {
   "cell_type": "code",
   "execution_count": null,
   "metadata": {},
   "outputs": [],
   "source": [
    "hospitality_df.head()"
   ]
  },
  {
   "cell_type": "code",
   "execution_count": null,
   "metadata": {},
   "outputs": [],
   "source": []
  },
  {
   "cell_type": "markdown",
   "metadata": {},
   "source": [
    "### Operators"
   ]
  },
  {
   "cell_type": "code",
   "execution_count": null,
   "metadata": {},
   "outputs": [],
   "source": [
    "operators_df = read_med_and_retail(f'license_repository/{this_year}-{this_month_num}/Operators.xlsx')"
   ]
  },
  {
   "cell_type": "code",
   "execution_count": null,
   "metadata": {},
   "outputs": [],
   "source": [
    "operators_df = clean_df(operators_df, 'Operator')"
   ]
  },
  {
   "cell_type": "code",
   "execution_count": null,
   "metadata": {},
   "outputs": [],
   "source": [
    "operators_df.head()"
   ]
  },
  {
   "cell_type": "code",
   "execution_count": null,
   "metadata": {},
   "outputs": [],
   "source": []
  },
  {
   "cell_type": "markdown",
   "metadata": {},
   "source": [
    "### Product Manufacturers"
   ]
  },
  {
   "cell_type": "code",
   "execution_count": null,
   "metadata": {},
   "outputs": [],
   "source": [
    "product_manufacturers_df = read_med_and_retail(f'license_repository/{this_year}-{this_month_num}/Product Manufacturers.xlsx')"
   ]
  },
  {
   "cell_type": "code",
   "execution_count": null,
   "metadata": {},
   "outputs": [],
   "source": [
    "product_manufacturers_df = clean_df(product_manufacturers_df, 'Product Manufacturer')"
   ]
  },
  {
   "cell_type": "code",
   "execution_count": null,
   "metadata": {},
   "outputs": [],
   "source": [
    "product_manufacturers_df.head()"
   ]
  },
  {
   "cell_type": "code",
   "execution_count": null,
   "metadata": {},
   "outputs": [],
   "source": []
  },
  {
   "cell_type": "markdown",
   "metadata": {},
   "source": [
    "### Research Development Cultivations"
   ]
  },
  {
   "cell_type": "code",
   "execution_count": null,
   "metadata": {},
   "outputs": [],
   "source": [
    "research_development_cultivation_df = read_med_and_retail(f'license_repository/{this_year}-{this_month_num}/Research & Development Cultivations.xlsx')"
   ]
  },
  {
   "cell_type": "code",
   "execution_count": null,
   "metadata": {},
   "outputs": [],
   "source": [
    "research_development_cultivation_df = clean_df(research_development_cultivation_df, 'Research Development Cultivation')"
   ]
  },
  {
   "cell_type": "code",
   "execution_count": null,
   "metadata": {},
   "outputs": [],
   "source": [
    "research_development_cultivation_df.head()"
   ]
  },
  {
   "cell_type": "code",
   "execution_count": null,
   "metadata": {},
   "outputs": [],
   "source": []
  },
  {
   "cell_type": "markdown",
   "metadata": {},
   "source": [
    "### Stores"
   ]
  },
  {
   "cell_type": "code",
   "execution_count": null,
   "metadata": {},
   "outputs": [],
   "source": [
    "stores_df = read_med_and_retail(f'license_repository/{this_year}-{this_month_num}/Stores.xlsx')"
   ]
  },
  {
   "cell_type": "code",
   "execution_count": null,
   "metadata": {},
   "outputs": [],
   "source": [
    "stores_df = clean_df(stores_df, 'Store')"
   ]
  },
  {
   "cell_type": "code",
   "execution_count": null,
   "metadata": {},
   "outputs": [],
   "source": [
    "stores_df.head()"
   ]
  },
  {
   "cell_type": "code",
   "execution_count": null,
   "metadata": {},
   "outputs": [],
   "source": []
  },
  {
   "cell_type": "markdown",
   "metadata": {},
   "source": [
    "### Testing Facilities"
   ]
  },
  {
   "cell_type": "code",
   "execution_count": null,
   "metadata": {},
   "outputs": [],
   "source": [
    "testing_df = read_med_and_retail(f'license_repository/{this_year}-{this_month_num}/Testing Facilities.xlsx')"
   ]
  },
  {
   "cell_type": "code",
   "execution_count": null,
   "metadata": {},
   "outputs": [],
   "source": [
    "testing_df.rename(columns={'License # ': 'LicenseNumber'}, inplace=True)"
   ]
  },
  {
   "cell_type": "code",
   "execution_count": null,
   "metadata": {},
   "outputs": [],
   "source": [
    "testing_df = clean_df(testing_df, 'Testing')"
   ]
  },
  {
   "cell_type": "code",
   "execution_count": null,
   "metadata": {},
   "outputs": [],
   "source": [
    "testing_df.head()"
   ]
  },
  {
   "cell_type": "code",
   "execution_count": null,
   "metadata": {},
   "outputs": [],
   "source": []
  },
  {
   "cell_type": "code",
   "execution_count": null,
   "metadata": {},
   "outputs": [],
   "source": []
  },
  {
   "cell_type": "markdown",
   "metadata": {},
   "source": [
    "### Transporters"
   ]
  },
  {
   "cell_type": "code",
   "execution_count": null,
   "metadata": {},
   "outputs": [],
   "source": [
    "transporters_df = read_med_and_retail(f'license_repository/{this_year}-{this_month_num}/Transporters.xlsx')"
   ]
  },
  {
   "cell_type": "code",
   "execution_count": null,
   "metadata": {},
   "outputs": [],
   "source": [
    "transporters_df = clean_df(transporters_df, 'Transporter')"
   ]
  },
  {
   "cell_type": "code",
   "execution_count": null,
   "metadata": {},
   "outputs": [],
   "source": [
    "transporters_df.head()"
   ]
  },
  {
   "cell_type": "code",
   "execution_count": null,
   "metadata": {},
   "outputs": [],
   "source": []
  },
  {
   "cell_type": "code",
   "execution_count": null,
   "metadata": {},
   "outputs": [],
   "source": []
  },
  {
   "cell_type": "markdown",
   "metadata": {},
   "source": [
    "## Combine the DataFrames"
   ]
  },
  {
   "cell_type": "code",
   "execution_count": null,
   "metadata": {},
   "outputs": [],
   "source": [
    "cultivation_df.columns"
   ]
  },
  {
   "cell_type": "code",
   "execution_count": null,
   "metadata": {},
   "outputs": [],
   "source": [
    "delivery_df.columns"
   ]
  },
  {
   "cell_type": "code",
   "execution_count": null,
   "metadata": {},
   "outputs": [],
   "source": [
    "hospitality_df.columns"
   ]
  },
  {
   "cell_type": "code",
   "execution_count": null,
   "metadata": {},
   "outputs": [],
   "source": [
    "operators_df.columns"
   ]
  },
  {
   "cell_type": "code",
   "execution_count": null,
   "metadata": {},
   "outputs": [],
   "source": [
    "product_manufacturers_df.columns"
   ]
  },
  {
   "cell_type": "code",
   "execution_count": null,
   "metadata": {},
   "outputs": [],
   "source": [
    "research_development_cultivation_df.columns"
   ]
  },
  {
   "cell_type": "code",
   "execution_count": null,
   "metadata": {},
   "outputs": [],
   "source": [
    "stores_df.columns"
   ]
  },
  {
   "cell_type": "code",
   "execution_count": null,
   "metadata": {},
   "outputs": [],
   "source": [
    "testing_df.columns"
   ]
  },
  {
   "cell_type": "code",
   "execution_count": null,
   "metadata": {},
   "outputs": [],
   "source": [
    "transporters_df.columns"
   ]
  },
  {
   "cell_type": "code",
   "execution_count": null,
   "metadata": {},
   "outputs": [],
   "source": []
  },
  {
   "cell_type": "code",
   "execution_count": null,
   "metadata": {},
   "outputs": [],
   "source": [
    "combined_df = cultivation_df.append([\n",
    "        delivery_df, operators_df, \n",
    "        product_manufacturers_df, \n",
    "        research_development_cultivation_df, stores_df,\n",
    "# #         testing_df,\n",
    "        hospitality_df, transporters_df\n",
    "            ]).reset_index().drop(columns='index')"
   ]
  },
  {
   "cell_type": "code",
   "execution_count": null,
   "metadata": {},
   "outputs": [],
   "source": [
    "combined_df['FacilityType'].unique()"
   ]
  },
  {
   "cell_type": "code",
   "execution_count": null,
   "metadata": {},
   "outputs": [],
   "source": [
    "combined_df.FacilityType.value_counts()"
   ]
  },
  {
   "cell_type": "code",
   "execution_count": null,
   "metadata": {},
   "outputs": [],
   "source": []
  },
  {
   "cell_type": "code",
   "execution_count": null,
   "metadata": {},
   "outputs": [],
   "source": [
    "hospitality_df"
   ]
  },
  {
   "cell_type": "code",
   "execution_count": null,
   "metadata": {},
   "outputs": [],
   "source": []
  },
  {
   "cell_type": "markdown",
   "metadata": {},
   "source": [
    "## Rename and Add Columns to Match df_final CSV"
   ]
  },
  {
   "cell_type": "code",
   "execution_count": null,
   "metadata": {},
   "outputs": [],
   "source": []
  },
  {
   "cell_type": "code",
   "execution_count": null,
   "metadata": {},
   "outputs": [],
   "source": [
    "# This is a quick rename of all of the \n",
    "\n",
    "df_all = combined_df.rename(columns={\n",
    "            'LicenseNumber': 'license_number',\n",
    "            'FacilityType': 'license_category',\n",
    "            'LicenseType': 'license_description',\n",
    "            'FacilityName': 'name_legal',\n",
    "            'DBA': 'name_dba',\n",
    "            'City': 'contact_city',\n",
    "            'ZipCode': 'contact_zip',\n",
    "            'DateUpdated': 'date_uploaded'\n",
    "                    })"
   ]
  },
  {
   "cell_type": "code",
   "execution_count": null,
   "metadata": {},
   "outputs": [],
   "source": [
    "# This will create a binary column to confirm if the license is still current, i.e. is still present in the newly updated repos \n",
    "df_all['is_current'] = 1"
   ]
  },
  {
   "cell_type": "code",
   "execution_count": null,
   "metadata": {},
   "outputs": [],
   "source": []
  },
  {
   "cell_type": "markdown",
   "metadata": {},
   "source": [
    "### Quick Bit Of Name Cleaning"
   ]
  },
  {
   "cell_type": "code",
   "execution_count": null,
   "metadata": {},
   "outputs": [],
   "source": []
  },
  {
   "cell_type": "code",
   "execution_count": null,
   "metadata": {},
   "outputs": [],
   "source": [
    "# Just a quick space removal from both sides of both names\n",
    "df_all['name_legal'] = df_all['name_legal'].str.rstrip()\n",
    "df_all['name_legal'] = df_all['name_legal'].str.lstrip()\n",
    "df_all['name_dba'] = df_all['name_dba'].str.rstrip()\n",
    "df_all['name_dba'] = df_all['name_dba'].str.lstrip()"
   ]
  },
  {
   "cell_type": "code",
   "execution_count": null,
   "metadata": {},
   "outputs": [],
   "source": []
  },
  {
   "cell_type": "markdown",
   "metadata": {},
   "source": [
    "### name_legal_clean"
   ]
  },
  {
   "cell_type": "code",
   "execution_count": null,
   "metadata": {},
   "outputs": [],
   "source": [
    "# This adds and cleans the name_legal_clean column\n",
    "\n",
    "# df_all['name_legal_clean'] = df_all['name_legal']\n",
    "\n",
    "# pd.set_option('mode.chained_assignment', None)\n",
    "\n",
    "# df_all['name_legal_clean'] = df_all['name_legal_clean'].str.lower() \n",
    "# df_all['name_legal_clean'] = df_all['name_legal_clean'].str.replace(r\"\\b, inc.\\b\", \"\")\n",
    "# df_all['name_legal_clean'] = df_all['name_legal_clean'].str.replace(r\"\\binc.\\b\", \"\")\n",
    "# df_all['name_legal_clean'] = df_all['name_legal_clean'].str.replace(r\"\\binc\\b\", \"\")\n",
    "# df_all['name_legal_clean'] = df_all['name_legal_clean'].str.replace(r\"\\b, llc.\\b\", \"\") \n",
    "# df_all['name_legal_clean'] = df_all['name_legal_clean'].str.replace(r\"\\b, llc\\b\", \"\")\n",
    "# df_all['name_legal_clean'] = df_all['name_legal_clean'].str.replace(r\"\\b, l.l.c.\\b\", \"\") \n",
    "# df_all['name_legal_clean'] = df_all['name_legal_clean'].str.replace(r\"\\bllc\\b\", \"\")\n",
    "# df_all['name_legal_clean'] = df_all['name_legal_clean'].str.replace(r\"\\bcorp.\\b\", \"\")\n",
    "# df_all['name_legal_clean'] = df_all['name_legal_clean'].str.replace(r\"\\bcorp\\b\", \"\")\n",
    "# df_all['name_legal_clean'] = df_all['name_legal_clean'].str.replace(r\"\\bcorporation\\b\", \"\")\n",
    "# df_all['name_legal_clean'] = df_all['name_legal_clean'].str.replace(r\"\\bco.\\b\", \"\")\n",
    "# df_all['name_legal_clean'] = df_all['name_legal_clean'].str.replace(r\"\\bco\\b\", \"\")\n",
    "# df_all['name_legal_clean'] = df_all['name_legal_clean'].str.replace(\",\", \"\")\n",
    "# df_all['name_legal_clean'] = df_all['name_legal_clean'].str.replace(\".\", \"\")\n",
    "# df_all['name_legal_clean'] = df_all['name_legal_clean'].str.replace(\"'\", \"\")\n",
    "# df_all['name_legal_clean'] = df_all['name_legal_clean'].str.strip()"
   ]
  },
  {
   "cell_type": "code",
   "execution_count": null,
   "metadata": {},
   "outputs": [],
   "source": []
  },
  {
   "cell_type": "code",
   "execution_count": null,
   "metadata": {},
   "outputs": [],
   "source": [
    "# 1-11 kept auto-changing to 11-Jan in Excel which was driving me crazy\n",
    "# The company seems to use both - and : in it's titles, so this should be a clean way to fix it\n",
    "# They also use ONE:ELEVEN as their name in their logo, so that might also work\n",
    "\n",
    "# df_all['name_legal_clean'] = df_all['name_legal_clean'].str.replace('1-11', \"1:11\")"
   ]
  },
  {
   "cell_type": "code",
   "execution_count": null,
   "metadata": {},
   "outputs": [],
   "source": []
  },
  {
   "cell_type": "markdown",
   "metadata": {},
   "source": [
    "### roll_up"
   ]
  },
  {
   "cell_type": "code",
   "execution_count": null,
   "metadata": {},
   "outputs": [],
   "source": [
    "# Add these two columns so they can be fiddled with in the CSV\n",
    "\n",
    "df_all['roll_up_id'] = ''\n",
    "df_all['company_roll_up'] = ''"
   ]
  },
  {
   "cell_type": "code",
   "execution_count": null,
   "metadata": {},
   "outputs": [],
   "source": []
  },
  {
   "cell_type": "code",
   "execution_count": null,
   "metadata": {},
   "outputs": [],
   "source": []
  },
  {
   "cell_type": "markdown",
   "metadata": {},
   "source": [
    "## Contact Info"
   ]
  },
  {
   "cell_type": "code",
   "execution_count": null,
   "metadata": {},
   "outputs": [],
   "source": [
    "# This is creating a dataframe of the data that will be transfered for the co_contact database\n",
    "\n",
    "contact_transfer = pd.DataFrame(df_all.license_number.unique(), columns=['license_number'])\n",
    "\n",
    "contact_transfer['name_legal'] = ''\n",
    "\n",
    "contact_transfer['contact_website'] = ''\n",
    "contact_transfer['contact_email'] = ''\n",
    "contact_transfer['contact_phone'] = ''\n",
    "\n",
    "contact_transfer['contact_street'] = ''\n",
    "contact_transfer['contact_city'] = ''\n",
    "contact_transfer['contact_state'] = 'CO'\n",
    "contact_transfer['contact_zip'] = ''"
   ]
  },
  {
   "cell_type": "code",
   "execution_count": null,
   "metadata": {},
   "outputs": [],
   "source": []
  },
  {
   "cell_type": "code",
   "execution_count": null,
   "metadata": {},
   "outputs": [],
   "source": []
  },
  {
   "cell_type": "markdown",
   "metadata": {},
   "source": [
    "### Add roll_up_ids and contact info from SQL"
   ]
  },
  {
   "cell_type": "code",
   "execution_count": null,
   "metadata": {},
   "outputs": [],
   "source": [
    "# This adds the already calculated roll_up_ids from sql"
   ]
  },
  {
   "cell_type": "code",
   "execution_count": null,
   "metadata": {},
   "outputs": [],
   "source": []
  },
  {
   "cell_type": "code",
   "execution_count": null,
   "metadata": {},
   "outputs": [],
   "source": [
    "sql_roll = pd.read_sql('co_roll', con=engine_con)\n",
    "\n",
    "df_with_rolls = df_all.merge(sql_roll, on='license_number', suffixes=('_x', ''), how='left').drop(columns=['roll_up_id_x', 'company_roll_up_x'])"
   ]
  },
  {
   "cell_type": "code",
   "execution_count": null,
   "metadata": {},
   "outputs": [],
   "source": [
    "df_with_rolls.head()"
   ]
  },
  {
   "cell_type": "code",
   "execution_count": null,
   "metadata": {},
   "outputs": [],
   "source": []
  },
  {
   "cell_type": "code",
   "execution_count": null,
   "metadata": {},
   "outputs": [],
   "source": []
  },
  {
   "cell_type": "code",
   "execution_count": null,
   "metadata": {},
   "outputs": [],
   "source": [
    "sql_contact = pd.read_sql('co_contact', con=engine_con)\n",
    "\n",
    "df_with_contacts = df_with_rolls.merge(sql_contact, on='license_number', suffixes=('_x', ''), how='left').drop(columns=['contact_city', 'contact_zip'])\n",
    "# [['license_number', 'contact_website', 'contact_email', 'contact_phone', 'contact_street', 'contact_city']]"
   ]
  },
  {
   "cell_type": "code",
   "execution_count": null,
   "metadata": {},
   "outputs": [],
   "source": [
    "df_with_contacts"
   ]
  },
  {
   "cell_type": "code",
   "execution_count": null,
   "metadata": {},
   "outputs": [],
   "source": [
    "df_with_contacts = df_with_contacts.rename(columns={'name_legal_x':'name_legal','contact_city_x':'contact_city','contact_zip_x':'contact_zip'})"
   ]
  },
  {
   "cell_type": "code",
   "execution_count": null,
   "metadata": {},
   "outputs": [],
   "source": [
    "df_with_contacts.columns"
   ]
  },
  {
   "cell_type": "code",
   "execution_count": null,
   "metadata": {},
   "outputs": [],
   "source": [
    "df_with_contacts['contact_state'] = df_with_contacts['contact_state'].fillna('CO')"
   ]
  },
  {
   "cell_type": "code",
   "execution_count": null,
   "metadata": {},
   "outputs": [],
   "source": []
  },
  {
   "cell_type": "code",
   "execution_count": null,
   "metadata": {},
   "outputs": [],
   "source": []
  },
  {
   "cell_type": "markdown",
   "metadata": {},
   "source": [
    "### Reorder"
   ]
  },
  {
   "cell_type": "code",
   "execution_count": null,
   "metadata": {},
   "outputs": [],
   "source": [
    "# Reordering these so that the roll up information is next to the name_legal and name_dba\n",
    "\n",
    "df_reordered = df_with_contacts[[\n",
    "    'license_number', 'license_category', 'license_description', 'name_legal', 'name_dba',\n",
    "    'roll_up_id', 'company_roll_up',\n",
    "    'contact_website', 'contact_email', 'contact_phone',\n",
    "#     'contact_street',\n",
    "    'contact_city', 'contact_zip', 'contact_state', 'is_current', 'date_uploaded'\n",
    "                ]]"
   ]
  },
  {
   "cell_type": "code",
   "execution_count": null,
   "metadata": {
    "scrolled": true
   },
   "outputs": [],
   "source": [
    "df_reordered.columns"
   ]
  },
  {
   "cell_type": "code",
   "execution_count": null,
   "metadata": {},
   "outputs": [],
   "source": []
  },
  {
   "cell_type": "code",
   "execution_count": null,
   "metadata": {},
   "outputs": [],
   "source": []
  },
  {
   "cell_type": "code",
   "execution_count": null,
   "metadata": {},
   "outputs": [],
   "source": []
  },
  {
   "cell_type": "markdown",
   "metadata": {},
   "source": [
    "### Move to CSV to Add Roll-Up Info"
   ]
  },
  {
   "cell_type": "code",
   "execution_count": null,
   "metadata": {},
   "outputs": [],
   "source": [
    "df_reordered.sort_values(by='name_legal', inplace=True)"
   ]
  },
  {
   "cell_type": "code",
   "execution_count": null,
   "metadata": {},
   "outputs": [],
   "source": [
    "# Convert the file to CSV so the company_roll_ups can be edited\n",
    "\n",
    "df_reordered.to_csv(f'edited_files/df_{this_year}_{this_month_num}_to_edit.csv', index=False)"
   ]
  },
  {
   "cell_type": "markdown",
   "metadata": {},
   "source": [
    "###### Make Changes to File Before Reading Back In"
   ]
  },
  {
   "cell_type": "code",
   "execution_count": null,
   "metadata": {},
   "outputs": [],
   "source": [
    "# Convert the file back to a pandas dataframe\n",
    "\n",
    "if pd.read_csv(f'edited_files/df_{this_year}_{this_month_num}_to_edit.csv').company_roll_up.isnull().sum() == 0:\n",
    "    df_edited = pd.read_csv(f'edited_files/df_{this_year}_{this_month_num}_to_edit.csv')\n",
    "else:\n",
    "    print(error)\n",
    "# df_edited = pd.read_csv('edited_files/df_first.csv')"
   ]
  },
  {
   "cell_type": "code",
   "execution_count": null,
   "metadata": {},
   "outputs": [],
   "source": [
    "# Just for the 'original' csv\n",
    "df_edited.rename(columns={'LicenseType':'license_description'}, inplace=True)"
   ]
  },
  {
   "cell_type": "code",
   "execution_count": null,
   "metadata": {},
   "outputs": [],
   "source": [
    "# My little failsafe to make sure I didn't forget to add company roll ups for new companies\n",
    "\n",
    "if '' in df_edited['company_roll_up']:\n",
    "    print(error)"
   ]
  },
  {
   "cell_type": "code",
   "execution_count": null,
   "metadata": {},
   "outputs": [],
   "source": []
  },
  {
   "cell_type": "code",
   "execution_count": null,
   "metadata": {},
   "outputs": [],
   "source": [
    "df_edited.head()"
   ]
  },
  {
   "cell_type": "code",
   "execution_count": null,
   "metadata": {},
   "outputs": [],
   "source": []
  },
  {
   "cell_type": "code",
   "execution_count": null,
   "metadata": {},
   "outputs": [],
   "source": [
    "# This creates a list of the newly added company_roll_ups\n",
    "\n",
    "new_comp = list(df_edited[df_edited['roll_up_id'].isnull()]['company_roll_up'].unique())"
   ]
  },
  {
   "cell_type": "code",
   "execution_count": null,
   "metadata": {},
   "outputs": [],
   "source": []
  },
  {
   "cell_type": "code",
   "execution_count": null,
   "metadata": {},
   "outputs": [],
   "source": [
    "# This creates the list of roll_up_ids that will be assigned to the new company_roll_ups\n",
    "\n",
    "max_roll = max(df_edited.roll_up_id.str[3:].fillna('0').astype(int))\n",
    "\n",
    "new_roll = []\n",
    "for comp in new_comp:\n",
    "    max_roll += 1\n",
    "    new_roll.append(max_roll)\n",
    "    \n",
    "new_co_roll = []\n",
    "for num in new_roll:\n",
    "    num = str(num)\n",
    "    while len(num) < 5:\n",
    "        num = '0' + num\n",
    "    new_co_roll.append(f'CO-{num}')"
   ]
  },
  {
   "cell_type": "code",
   "execution_count": null,
   "metadata": {},
   "outputs": [],
   "source": [
    "new_co_roll"
   ]
  },
  {
   "cell_type": "code",
   "execution_count": null,
   "metadata": {},
   "outputs": [],
   "source": []
  },
  {
   "cell_type": "code",
   "execution_count": null,
   "metadata": {},
   "outputs": [],
   "source": []
  },
  {
   "cell_type": "code",
   "execution_count": null,
   "metadata": {},
   "outputs": [],
   "source": [
    "# This creates two seperate dataframes for rows needing roll_up_ids and those that don't\n",
    "\n",
    "df_edited_null = df_edited[df_edited['roll_up_id'].isnull()]\n",
    "df_edited_fill = df_edited[df_edited['roll_up_id'].notnull()]"
   ]
  },
  {
   "cell_type": "code",
   "execution_count": null,
   "metadata": {},
   "outputs": [],
   "source": []
  },
  {
   "cell_type": "code",
   "execution_count": null,
   "metadata": {},
   "outputs": [],
   "source": []
  },
  {
   "cell_type": "code",
   "execution_count": null,
   "metadata": {},
   "outputs": [],
   "source": [
    "# This uses the two lists to add roll_up_ids to the df_edited\n",
    "\n",
    "for n in range(len(df_edited_null)):\n",
    "    df_edited_null['roll_up_id'][n:n+1] = new_co_roll[new_comp.index(df_edited_null[n:n+1]['company_roll_up'].item())]"
   ]
  },
  {
   "cell_type": "code",
   "execution_count": null,
   "metadata": {},
   "outputs": [],
   "source": [
    "df_edited_null"
   ]
  },
  {
   "cell_type": "code",
   "execution_count": null,
   "metadata": {},
   "outputs": [],
   "source": []
  },
  {
   "cell_type": "code",
   "execution_count": null,
   "metadata": {},
   "outputs": [],
   "source": [
    "# This reattaches the two dataframes now that the roll_up_ids have been filled\n",
    "\n",
    "df_populated = df_edited_fill.append(df_edited_null)"
   ]
  },
  {
   "cell_type": "code",
   "execution_count": null,
   "metadata": {},
   "outputs": [],
   "source": []
  },
  {
   "cell_type": "code",
   "execution_count": null,
   "metadata": {},
   "outputs": [],
   "source": [
    "df_populated"
   ]
  },
  {
   "cell_type": "code",
   "execution_count": null,
   "metadata": {},
   "outputs": [],
   "source": []
  },
  {
   "cell_type": "markdown",
   "metadata": {},
   "source": [
    "### Converting License Types to Columns"
   ]
  },
  {
   "cell_type": "code",
   "execution_count": null,
   "metadata": {},
   "outputs": [],
   "source": []
  },
  {
   "cell_type": "code",
   "execution_count": null,
   "metadata": {},
   "outputs": [],
   "source": [
    "# This just takes the list of unique license types and changes them to the correct format\n",
    "\n",
    "# all_license_types = list(df_populated.license_description.unique())\n",
    "\n",
    "# license_columns = []\n",
    "\n",
    "# for lic in all_license_types:\n",
    "#     license_columns.append(f\"license_{lic.lower().replace(' ', '_')}\")\n",
    "    \n",
    "# license_columns"
   ]
  },
  {
   "cell_type": "code",
   "execution_count": null,
   "metadata": {},
   "outputs": [],
   "source": []
  },
  {
   "cell_type": "code",
   "execution_count": null,
   "metadata": {},
   "outputs": [],
   "source": []
  },
  {
   "cell_type": "code",
   "execution_count": null,
   "metadata": {},
   "outputs": [],
   "source": [
    "# This function should properly fill out the license_columns with binary data\n",
    "\n",
    "# def fill_lic_col(col):\n",
    "#     for n in range(len(df_populated)):\n",
    "#         df_populated[col][n] = int(df_populated['license_description'][n] == col.replace(\"_\", \" \").title()[8:])"
   ]
  },
  {
   "cell_type": "code",
   "execution_count": null,
   "metadata": {},
   "outputs": [],
   "source": []
  },
  {
   "cell_type": "code",
   "execution_count": null,
   "metadata": {},
   "outputs": [],
   "source": [
    "# This creates and fills the license_type columns as needed\n",
    "\n",
    "# for col in license_columns:\n",
    "#     df_populated[col] = 0\n",
    "#     fill_lic_col(col)"
   ]
  },
  {
   "cell_type": "code",
   "execution_count": null,
   "metadata": {},
   "outputs": [],
   "source": []
  },
  {
   "cell_type": "code",
   "execution_count": null,
   "metadata": {},
   "outputs": [],
   "source": []
  },
  {
   "cell_type": "code",
   "execution_count": null,
   "metadata": {},
   "outputs": [],
   "source": [
    "# Just checking that there numbers still add up the same\n",
    "# df_populated.license_description.value_counts()"
   ]
  },
  {
   "cell_type": "code",
   "execution_count": null,
   "metadata": {},
   "outputs": [],
   "source": [
    "# # Looks good\n",
    "# for col in license_columns:\n",
    "#     print(col, sum(df_populated[col]))"
   ]
  },
  {
   "cell_type": "code",
   "execution_count": null,
   "metadata": {},
   "outputs": [],
   "source": []
  },
  {
   "cell_type": "markdown",
   "metadata": {},
   "source": [
    "## SQL"
   ]
  },
  {
   "cell_type": "code",
   "execution_count": null,
   "metadata": {},
   "outputs": [],
   "source": [
    "df_populated.columns"
   ]
  },
  {
   "cell_type": "code",
   "execution_count": null,
   "metadata": {},
   "outputs": [],
   "source": []
  },
  {
   "cell_type": "code",
   "execution_count": null,
   "metadata": {},
   "outputs": [],
   "source": [
    "# This creates a file similar to ca_main that can be added for Colorado\n",
    "\n",
    "df_sql_main = df_populated[[\n",
    "              'license_number', 'license_category', 'license_description', 'name_legal', 'name_dba', 'is_current', 'date_uploaded'\n",
    "                            ]]"
   ]
  },
  {
   "cell_type": "code",
   "execution_count": null,
   "metadata": {},
   "outputs": [],
   "source": [
    "# This creates a file similar to ca_roll that can be added for Colorado\n",
    "\n",
    "df_sql_roll = df_populated[['license_number', 'roll_up_id', 'company_roll_up']]"
   ]
  },
  {
   "cell_type": "code",
   "execution_count": null,
   "metadata": {},
   "outputs": [],
   "source": [
    "# This creates a file similar to ca_contact that can be added for Colorado\n",
    "\n",
    "df_sql_contact = df_populated[[\n",
    "                    'license_number', \n",
    "                    'contact_website', 'contact_email', 'contact_phone', \n",
    "#                     'contact_street', \n",
    "                    'contact_city', 'contact_state', 'contact_zip'\n",
    "                                ]]"
   ]
  },
  {
   "cell_type": "code",
   "execution_count": null,
   "metadata": {},
   "outputs": [],
   "source": []
  },
  {
   "cell_type": "code",
   "execution_count": null,
   "metadata": {},
   "outputs": [],
   "source": [
    "df_sql_main"
   ]
  },
  {
   "cell_type": "code",
   "execution_count": null,
   "metadata": {},
   "outputs": [],
   "source": []
  },
  {
   "cell_type": "markdown",
   "metadata": {},
   "source": [
    "### Compare to SQL"
   ]
  },
  {
   "cell_type": "code",
   "execution_count": null,
   "metadata": {},
   "outputs": [],
   "source": []
  },
  {
   "cell_type": "code",
   "execution_count": null,
   "metadata": {},
   "outputs": [],
   "source": [
    "# This reads in the sql data to compare to the new data\n",
    "\n",
    "sql_main = pd.read_sql('co_main', con=engine_con)\n",
    "sql_roll = pd.read_sql('co_roll', con=engine_con)\n",
    "sql_contact = pd.read_sql('co_contact', con=engine_con)"
   ]
  },
  {
   "cell_type": "code",
   "execution_count": null,
   "metadata": {},
   "outputs": [],
   "source": [
    "# # This makes all of the old licenses blank\n",
    "# sql_main['is_current'] =  0\n",
    "# for n in range(len(sql_main)):\n",
    "#     if sql_main['license_number'][n] in list(df_sql_main['license_number'].unique()):\n",
    "#         sql_main['is_current'][n] = 1"
   ]
  },
  {
   "cell_type": "code",
   "execution_count": null,
   "metadata": {},
   "outputs": [],
   "source": [
    "# And quickly make sure this is the correct type\n",
    "df_sql_main['date_uploaded'] = pd.to_datetime(df_sql_main['date_uploaded'])"
   ]
  },
  {
   "cell_type": "code",
   "execution_count": null,
   "metadata": {},
   "outputs": [],
   "source": [
    "# And a quick reorder\n",
    "sql_main = sql_main[['license_number', 'license_category', 'license_description',\n",
    "       'name_legal', 'name_dba', 'is_current', 'date_uploaded']]"
   ]
  },
  {
   "cell_type": "code",
   "execution_count": null,
   "metadata": {},
   "outputs": [],
   "source": []
  },
  {
   "cell_type": "code",
   "execution_count": null,
   "metadata": {},
   "outputs": [],
   "source": [
    "sql_main.shape"
   ]
  },
  {
   "cell_type": "code",
   "execution_count": null,
   "metadata": {},
   "outputs": [],
   "source": [
    "df_sql_main.shape"
   ]
  },
  {
   "cell_type": "code",
   "execution_count": null,
   "metadata": {},
   "outputs": [],
   "source": []
  },
  {
   "cell_type": "code",
   "execution_count": null,
   "metadata": {},
   "outputs": [],
   "source": [
    "sql_roll.shape"
   ]
  },
  {
   "cell_type": "code",
   "execution_count": null,
   "metadata": {},
   "outputs": [],
   "source": [
    "df_sql_roll.shape"
   ]
  },
  {
   "cell_type": "code",
   "execution_count": null,
   "metadata": {},
   "outputs": [],
   "source": []
  },
  {
   "cell_type": "code",
   "execution_count": null,
   "metadata": {},
   "outputs": [],
   "source": [
    "sql_contact.shape"
   ]
  },
  {
   "cell_type": "code",
   "execution_count": null,
   "metadata": {},
   "outputs": [],
   "source": [
    "df_sql_contact.shape"
   ]
  },
  {
   "cell_type": "code",
   "execution_count": null,
   "metadata": {},
   "outputs": [],
   "source": []
  },
  {
   "cell_type": "code",
   "execution_count": null,
   "metadata": {},
   "outputs": [],
   "source": [
    "sql_main[sql_main['is_current'] == 0]"
   ]
  },
  {
   "cell_type": "code",
   "execution_count": null,
   "metadata": {},
   "outputs": [],
   "source": []
  },
  {
   "cell_type": "code",
   "execution_count": null,
   "metadata": {},
   "outputs": [],
   "source": [
    "# # This clears the licenses from df_sql_main that were already in sql\n",
    "\n",
    "# for n in range(len(df_sql_main)):\n",
    "#     if df_sql_main['license_number'][n] in list(sql_main.license_number.unique()):\n",
    "#         df_sql_main.drop(index=n, inplace=True)"
   ]
  },
  {
   "cell_type": "code",
   "execution_count": null,
   "metadata": {},
   "outputs": [],
   "source": []
  },
  {
   "cell_type": "code",
   "execution_count": null,
   "metadata": {},
   "outputs": [],
   "source": [
    "df_sql_main.dtypes == sql_main.dtypes"
   ]
  },
  {
   "cell_type": "code",
   "execution_count": null,
   "metadata": {},
   "outputs": [],
   "source": []
  },
  {
   "cell_type": "code",
   "execution_count": null,
   "metadata": {},
   "outputs": [],
   "source": [
    "# Just gonna take out all the null values before comparing the two dataframes\n",
    "df_sql_main['name_dba'] = df_sql_main['name_dba'].fillna('')"
   ]
  },
  {
   "cell_type": "code",
   "execution_count": null,
   "metadata": {},
   "outputs": [],
   "source": []
  },
  {
   "cell_type": "code",
   "execution_count": null,
   "metadata": {},
   "outputs": [],
   "source": [
    "df_sql_main[df_sql_main['is_current'] == 1]"
   ]
  },
  {
   "cell_type": "code",
   "execution_count": null,
   "metadata": {},
   "outputs": [],
   "source": []
  },
  {
   "cell_type": "code",
   "execution_count": null,
   "metadata": {},
   "outputs": [],
   "source": [
    "df_sql_roll.head()"
   ]
  },
  {
   "cell_type": "code",
   "execution_count": null,
   "metadata": {},
   "outputs": [],
   "source": []
  },
  {
   "cell_type": "code",
   "execution_count": null,
   "metadata": {},
   "outputs": [],
   "source": []
  },
  {
   "cell_type": "markdown",
   "metadata": {},
   "source": [
    "### Creating a Dataframe for Making Changes to SQL"
   ]
  },
  {
   "cell_type": "code",
   "execution_count": null,
   "metadata": {},
   "outputs": [],
   "source": []
  },
  {
   "cell_type": "code",
   "execution_count": null,
   "metadata": {},
   "outputs": [],
   "source": [
    "# Start by compiling the data that needs to be checked\n",
    "df_for_alter = df_sql_main\n",
    "\n",
    "df_main_list = list(df_sql_main.license_number.unique())\n",
    "sql_main_list = list(sql_main.license_number.unique())\n",
    "not_current_main_list = []\n",
    "for lic in sql_main_list:\n",
    "    if lic not in df_main_list:\n",
    "        not_current_main_list.append(lic)\n",
    "        \n",
    "not_current_df = pd.DataFrame(not_current_main_list, columns=['license_number']).merge(sql_main, how='left')\n",
    "\n",
    "df_for_alter = df_for_alter.append(not_current_df)\n",
    "\n",
    "df_for_alter = df_for_alter.reset_index().drop(columns=['index'])"
   ]
  },
  {
   "cell_type": "code",
   "execution_count": null,
   "metadata": {},
   "outputs": [],
   "source": []
  },
  {
   "cell_type": "code",
   "execution_count": null,
   "metadata": {},
   "outputs": [],
   "source": [
    "# for lic in df_for_alter[df_for_alter.is_current == 0]['license_number'].unique():\n",
    "#     if list(sql_main[sql_main['license_number'] == lic]['is_current'])[0] == 1:\n",
    "#         print(lic)"
   ]
  },
  {
   "cell_type": "code",
   "execution_count": null,
   "metadata": {},
   "outputs": [],
   "source": []
  },
  {
   "cell_type": "code",
   "execution_count": null,
   "metadata": {},
   "outputs": [],
   "source": [
    "# This creates a list of all of the license_numbers of rows that have a change in them\n",
    "\n",
    "to_alter = []\n",
    "# There's probably a cleaner way to do this, but this gets the list of all licenses where there is some change in information\n",
    "for lic in sql_main['license_number']:\n",
    "    if 'False' in str(df_sql_main[df_sql_main['license_number'] == lic][['license_category', 'license_description', 'is_current']].values == sql_main[sql_main['license_number'] == lic][['license_category', 'license_description', 'is_current']].values):\n",
    "        to_alter.append(lic)\n",
    "        \n",
    "# This may be only needed the first time\n",
    "for x in range(len(df_for_alter)):\n",
    "    if df_for_alter.loc[x]['is_current'] == 0:\n",
    "        to_alter.append(df_for_alter.loc[x]['license_number'])"
   ]
  },
  {
   "cell_type": "code",
   "execution_count": null,
   "metadata": {},
   "outputs": [],
   "source": [
    "# And then we turn that list into a DataFrame\n",
    "main_alter = pd.DataFrame(list(to_alter), columns=['license_number']).merge(df_for_alter, how='left')"
   ]
  },
  {
   "cell_type": "code",
   "execution_count": null,
   "metadata": {},
   "outputs": [],
   "source": [
    "main_alter[main_alter.is_current == 0]"
   ]
  },
  {
   "cell_type": "code",
   "execution_count": null,
   "metadata": {},
   "outputs": [],
   "source": []
  },
  {
   "cell_type": "code",
   "execution_count": null,
   "metadata": {},
   "outputs": [],
   "source": [
    "# And let's toss this into a csv \n",
    "\n",
    "# main_alter.to_excel(f'edited_files/main_alter_{this_month_num}_{this_year}.xlsx', sheet_name='co_main_alter', index=False)"
   ]
  },
  {
   "cell_type": "code",
   "execution_count": null,
   "metadata": {},
   "outputs": [],
   "source": [
    "main_alter.to_sql(name='co_main_alter', con=engine_con, index=False, if_exists='replace')"
   ]
  },
  {
   "cell_type": "code",
   "execution_count": null,
   "metadata": {},
   "outputs": [],
   "source": []
  },
  {
   "cell_type": "code",
   "execution_count": null,
   "metadata": {},
   "outputs": [],
   "source": [
    "# This code runs the query noramally run in SQL to update co_main using co_main_alter\n",
    "\n",
    "co_conn = pyodbc.connect('DRIVER={ODBC Driver 17 for SQL Server};'\n",
    "                      'SERVER=bespoke-database-1.cmevrozrcs7c.us-west-2.rds.amazonaws.com;'\n",
    "                      'DATABASE=co_cannabis;'\n",
    "                      'UID=admin;'\n",
    "                      'PWD=N19lrqxnurTUJLJT6GFe;')\n",
    "\n",
    "co_cursor = co_conn.cursor()\n",
    "\n",
    "co_cursor.execute('SELECT * FROM co_cannabis.dbo.co_main')\n",
    "\n",
    "co_cursor.execute('''\n",
    "Update t1\n",
    "SET t1.[license_description] = t2.[license_description],\n",
    "    t1.[is_current] = t2.[is_current]\n",
    "FROM [co_cannabis].[dbo].[co_main] as t1\n",
    "INNER JOIN [co_cannabis].[dbo].[co_main_alter] as t2\n",
    "ON t1.[license_number] = t2.[license_number];\n",
    "                  ''')\n",
    "\n",
    "co_conn.commit()"
   ]
  },
  {
   "cell_type": "code",
   "execution_count": null,
   "metadata": {},
   "outputs": [],
   "source": []
  },
  {
   "cell_type": "markdown",
   "metadata": {},
   "source": [
    "### Cleaning Data for SQL"
   ]
  },
  {
   "cell_type": "code",
   "execution_count": null,
   "metadata": {},
   "outputs": [],
   "source": []
  },
  {
   "cell_type": "code",
   "execution_count": null,
   "metadata": {},
   "outputs": [],
   "source": [
    "# This clears the licenses from df_sql_roll that were already in sql\n",
    "\n",
    "for n in range(len(df_sql_roll)):\n",
    "    if df_sql_roll['license_number'][n] in list(sql_roll.license_number.unique()):\n",
    "        df_sql_roll.drop(index=n, inplace=True)"
   ]
  },
  {
   "cell_type": "code",
   "execution_count": null,
   "metadata": {},
   "outputs": [],
   "source": [
    "# This clears the licenses from df_sql_contact that were already in sql\n",
    "\n",
    "for n in range(len(df_sql_contact)):\n",
    "    if df_sql_contact['license_number'][n] in list(sql_contact.license_number.unique()):\n",
    "        df_sql_contact.drop(index=n, inplace=True)"
   ]
  },
  {
   "cell_type": "code",
   "execution_count": null,
   "metadata": {},
   "outputs": [],
   "source": [
    "# This clears the licenses from sql_main that were already in sql\n",
    "\n",
    "for n in range(len(df_sql_main)):\n",
    "    if df_sql_main['license_number'][n] in list(sql_main.license_number.unique()):\n",
    "        df_sql_main.drop(index=n, inplace=True)"
   ]
  },
  {
   "cell_type": "code",
   "execution_count": null,
   "metadata": {},
   "outputs": [],
   "source": []
  },
  {
   "cell_type": "code",
   "execution_count": null,
   "metadata": {},
   "outputs": [],
   "source": [
    "df_sql_roll"
   ]
  },
  {
   "cell_type": "code",
   "execution_count": null,
   "metadata": {},
   "outputs": [],
   "source": []
  },
  {
   "cell_type": "markdown",
   "metadata": {},
   "source": [
    "## To SQL"
   ]
  },
  {
   "cell_type": "code",
   "execution_count": null,
   "metadata": {},
   "outputs": [],
   "source": []
  },
  {
   "cell_type": "markdown",
   "metadata": {},
   "source": [
    "#### co_main"
   ]
  },
  {
   "cell_type": "code",
   "execution_count": null,
   "metadata": {},
   "outputs": [],
   "source": [
    "df_sql_main.to_sql(name='co_main', con=engine_con, index=False, if_exists='append')"
   ]
  },
  {
   "cell_type": "code",
   "execution_count": null,
   "metadata": {},
   "outputs": [],
   "source": []
  },
  {
   "cell_type": "markdown",
   "metadata": {},
   "source": [
    "#### co_roll"
   ]
  },
  {
   "cell_type": "code",
   "execution_count": null,
   "metadata": {},
   "outputs": [],
   "source": [
    "df_sql_roll.to_sql(name='co_roll', con=engine_con, index=False, if_exists='append')"
   ]
  },
  {
   "cell_type": "code",
   "execution_count": null,
   "metadata": {},
   "outputs": [],
   "source": []
  },
  {
   "cell_type": "markdown",
   "metadata": {},
   "source": [
    "#### co_contact"
   ]
  },
  {
   "cell_type": "code",
   "execution_count": null,
   "metadata": {},
   "outputs": [],
   "source": [
    "df_sql_contact.to_sql(name='co_contact', con=engine_con, index=False, if_exists='append')"
   ]
  },
  {
   "cell_type": "code",
   "execution_count": null,
   "metadata": {},
   "outputs": [],
   "source": []
  },
  {
   "cell_type": "code",
   "execution_count": null,
   "metadata": {},
   "outputs": [],
   "source": []
  },
  {
   "cell_type": "code",
   "execution_count": null,
   "metadata": {},
   "outputs": [],
   "source": []
  },
  {
   "cell_type": "code",
   "execution_count": null,
   "metadata": {},
   "outputs": [],
   "source": []
  },
  {
   "cell_type": "markdown",
   "metadata": {},
   "source": [
    "### all_main"
   ]
  },
  {
   "cell_type": "code",
   "execution_count": null,
   "metadata": {},
   "outputs": [],
   "source": []
  },
  {
   "cell_type": "code",
   "execution_count": null,
   "metadata": {},
   "outputs": [],
   "source": [
    "# This creates the connection to the all_main file in SQL\n",
    "\n",
    "all_cannabis_params = urllib.parse.quote_plus(\"DRIVER={ODBC Driver 17 for SQL Server};\"\n",
    "                                 \"SERVER=bespoke-database-1.cmevrozrcs7c.us-west-2.rds.amazonaws.com;\"\n",
    "                                 \"DATABASE=all_cannabis;\"\n",
    "                                 \"UID=admin;\"\n",
    "                                 \"PWD=N19lrqxnurTUJLJT6GFe\")\n",
    "all_cannabis_con = create_engine(\"mssql+pyodbc:///?odbc_connect={}\".format(all_cannabis_params))"
   ]
  },
  {
   "cell_type": "code",
   "execution_count": null,
   "metadata": {},
   "outputs": [],
   "source": [
    "# This reads in the all_main data and narrows it down to the relevent data\n",
    "all_main_sql = pd.read_sql('all_main', con=all_cannabis_con)\n",
    "co_main_sql = all_main_sql[all_main_sql['us_state'] == 'CO']\n",
    "co_main_sql = co_main_sql.reset_index().drop(columns='index')"
   ]
  },
  {
   "cell_type": "code",
   "execution_count": null,
   "metadata": {},
   "outputs": [],
   "source": [
    "# This re-reads in and merges the co_annabis data in SQL\n",
    "updated_co_main = pd.read_sql('co_main', con=engine_con)\n",
    "updated_co_roll = pd.read_sql('co_roll', con=engine_con)\n",
    "updated_co_cannabis = updated_co_main.merge(updated_co_roll, on='license_number')"
   ]
  },
  {
   "cell_type": "code",
   "execution_count": null,
   "metadata": {},
   "outputs": [],
   "source": [
    "updated_co_cannabis['license_status'] = ''"
   ]
  },
  {
   "cell_type": "code",
   "execution_count": null,
   "metadata": {},
   "outputs": [],
   "source": [
    "updated_co_cannabis['license_sub_category'] = ''\n",
    "for n in range(len(updated_co_cannabis)):\n",
    "    if updated_co_cannabis['license_description'][n] in ['Medical Cultivation', 'Retail Cultivation']:\n",
    "        updated_co_cannabis['license_sub_category'][n] = 'Cultivator'\n",
    "    if updated_co_cannabis['license_description'][n] in ['Medical Store', 'Retail Store', 'Medical Operator', 'Retail Operator']:\n",
    "        updated_co_cannabis['license_sub_category'][n] = 'Retailer'\n",
    "    if updated_co_cannabis['license_description'][n] in ['Medical Product Manufacturer', 'Retail Product Manufacturer']:\n",
    "        updated_co_cannabis['license_sub_category'][n] = 'Manufacturer'\n",
    "    if updated_co_cannabis['license_description'][n] in ['Medical Transporter', 'Retail Transporter', 'Medical Delivery', 'Retail Delivery']:\n",
    "        updated_co_cannabis['license_sub_category'][n] = 'Distributor'\n",
    "    if updated_co_cannabis['license_description'][n] in ['Medical Research Development Cultivation', 'Medical Hospitality']:\n",
    "        updated_co_cannabis['license_sub_category'][n] = 'Other'"
   ]
  },
  {
   "cell_type": "code",
   "execution_count": null,
   "metadata": {},
   "outputs": [],
   "source": [
    "new_all_main = updated_co_cannabis[['license_number', 'roll_up_id', 'name_legal', 'license_status', 'is_current', 'license_description', 'license_sub_category']]\n",
    "new_all_main['state'] = 'CO'"
   ]
  },
  {
   "cell_type": "code",
   "execution_count": null,
   "metadata": {},
   "outputs": [],
   "source": [
    "# This takes out everything already there\n",
    "new_main_for_sql = new_all_main[~new_all_main['license_number'].isin(list(co_main_sql['license_number'].unique()))]"
   ]
  },
  {
   "cell_type": "code",
   "execution_count": null,
   "metadata": {},
   "outputs": [],
   "source": [
    "new_main_for_sql = new_main_for_sql.rename(columns={'roll_up_id':'rollup_id', 'name_legal':'legal_name', 'state':'us_state', 'license_sub_category':'license_category'})\n",
    "new_main_for_sql['expiration_date'] = None\n",
    "new_main_for_sql.head()"
   ]
  },
  {
   "cell_type": "code",
   "execution_count": null,
   "metadata": {},
   "outputs": [],
   "source": [
    "new_main_for_sql.shape"
   ]
  },
  {
   "cell_type": "code",
   "execution_count": null,
   "metadata": {},
   "outputs": [],
   "source": []
  },
  {
   "cell_type": "code",
   "execution_count": null,
   "metadata": {
    "scrolled": true
   },
   "outputs": [],
   "source": [
    "# And this uploads the new licenses to SQL\n",
    "new_main_for_sql.to_sql('all_main', con=all_cannabis_con, index=False, if_exists='append')"
   ]
  },
  {
   "cell_type": "code",
   "execution_count": null,
   "metadata": {},
   "outputs": [],
   "source": []
  },
  {
   "cell_type": "code",
   "execution_count": null,
   "metadata": {},
   "outputs": [],
   "source": []
  },
  {
   "cell_type": "markdown",
   "metadata": {},
   "source": [
    "#### Alter"
   ]
  },
  {
   "cell_type": "code",
   "execution_count": null,
   "metadata": {},
   "outputs": [],
   "source": []
  },
  {
   "cell_type": "code",
   "execution_count": null,
   "metadata": {},
   "outputs": [],
   "source": [
    "# This reads in the all_main data and narrows it down to the relevent data\n",
    "all_main_sql_for_alter = pd.read_sql('all_main', con=all_cannabis_con)\n",
    "co_main_sql_for_alter = all_main_sql_for_alter[all_main_sql_for_alter['us_state'] == 'CO']\n",
    "co_main_sql_for_alter = co_main_sql_for_alter.reset_index().drop(columns='index')"
   ]
  },
  {
   "cell_type": "code",
   "execution_count": null,
   "metadata": {},
   "outputs": [],
   "source": [
    "co_main_sql_for_alter"
   ]
  },
  {
   "cell_type": "code",
   "execution_count": null,
   "metadata": {},
   "outputs": [],
   "source": []
  },
  {
   "cell_type": "code",
   "execution_count": null,
   "metadata": {},
   "outputs": [],
   "source": [
    "# This creates a df of all the lciense numbers that will need to be altered\n",
    "\n",
    "co_lic_to_alter = []\n",
    "\n",
    "for lic in list(new_all_main['license_number'].unique()):\n",
    "    if list(new_all_main[new_all_main['license_number'] == lic]['is_current'])[0] != list(co_main_sql_for_alter[co_main_sql_for_alter['license_number'] == lic]['is_current'])[0]:\n",
    "        co_lic_to_alter.append(lic)\n",
    "    if list(new_all_main[new_all_main['license_number'] == lic]['roll_up_id'])[0] != list(co_main_sql_for_alter[co_main_sql_for_alter['license_number'] == lic]['rollup_id'])[0]:\n",
    "        co_lic_to_alter.append(lic)\n",
    "    elif list(new_all_main[new_all_main['license_number'] == lic]['license_status'])[0] != list(co_main_sql_for_alter[co_main_sql_for_alter['license_number'] == lic]['license_status'])[0]:\n",
    "        co_lic_to_alter.append(lic)\n",
    "    elif list(new_all_main[new_all_main['license_number'] == lic]['license_description'])[0] != list(co_main_sql_for_alter[co_main_sql_for_alter['license_number'] == lic]['license_description'])[0]:\n",
    "        co_lic_to_alter.append(lic)\n",
    "    elif list(new_all_main[new_all_main['license_number'] == lic]['license_sub_category'])[0] != list(co_main_sql_for_alter[co_main_sql_for_alter['license_number'] == lic]['license_category'])[0]:\n",
    "        co_lic_to_alter.append(lic)\n",
    "        \n",
    "co_all_main_for_alter = new_all_main[new_all_main['license_number'].isin(co_main_sql_for_alter)]"
   ]
  },
  {
   "cell_type": "code",
   "execution_count": null,
   "metadata": {},
   "outputs": [],
   "source": [
    "co_all_main_for_alter"
   ]
  },
  {
   "cell_type": "code",
   "execution_count": null,
   "metadata": {},
   "outputs": [],
   "source": []
  },
  {
   "cell_type": "code",
   "execution_count": null,
   "metadata": {},
   "outputs": [],
   "source": []
  },
  {
   "cell_type": "markdown",
   "metadata": {},
   "source": [
    "### Bespoke Metabase"
   ]
  },
  {
   "cell_type": "code",
   "execution_count": null,
   "metadata": {},
   "outputs": [],
   "source": []
  },
  {
   "cell_type": "code",
   "execution_count": null,
   "metadata": {},
   "outputs": [],
   "source": [
    "new_main = new_main_for_sql.append(co_all_main_for_alter)"
   ]
  },
  {
   "cell_type": "code",
   "execution_count": null,
   "metadata": {},
   "outputs": [],
   "source": [
    "new_main['expiration_date'] = None"
   ]
  },
  {
   "cell_type": "code",
   "execution_count": null,
   "metadata": {},
   "outputs": [],
   "source": [
    "new_main = new_main.reset_index().drop(columns='index')"
   ]
  },
  {
   "cell_type": "code",
   "execution_count": null,
   "metadata": {},
   "outputs": [],
   "source": []
  },
  {
   "cell_type": "code",
   "execution_count": null,
   "metadata": {},
   "outputs": [],
   "source": [
    "num_of_lic_sent = 0\n",
    "\n",
    "state = 'CO'\n",
    "\n",
    "while len(new_main) - num_of_lic_sent >= 10:\n",
    "\n",
    "    n = num_of_lic_sent\n",
    "    \n",
    "    if new_main['is_current'].iloc[n] == 1:\n",
    "        is_current_1 = True\n",
    "    else:\n",
    "        is_current_1 = False\n",
    "            \n",
    "    if new_main['is_current'].iloc[n+1] == 1:\n",
    "        is_current_2 = True\n",
    "    else:\n",
    "        is_current_2 = False\n",
    "            \n",
    "    if new_main['is_current'].iloc[n+2] == 1:\n",
    "        is_current_3 = True\n",
    "    else:\n",
    "        is_current_3 = False\n",
    "            \n",
    "    if new_main['is_current'].iloc[n+3] == 1:\n",
    "        is_current_4 = True\n",
    "    else:\n",
    "        is_current_4 = False\n",
    "            \n",
    "    if new_main['is_current'].iloc[n+4] == 1:\n",
    "        is_current_5 = True\n",
    "    else:\n",
    "        is_current_5 = False\n",
    "            \n",
    "    if new_main['is_current'].iloc[n+5] == 1:\n",
    "        is_current_6 = True\n",
    "    else:\n",
    "        is_current_6 = False\n",
    "            \n",
    "    if new_main['is_current'].iloc[n+6] == 1:\n",
    "        is_current_7 = True\n",
    "    else:\n",
    "        is_current_7 = False\n",
    "            \n",
    "    if new_main['is_current'].iloc[n+7] == 1:\n",
    "        is_current_8 = True\n",
    "    else:\n",
    "        is_current_8 = False\n",
    "            \n",
    "    if new_main['is_current'].iloc[n+8] == 1:\n",
    "        is_current_9 = True\n",
    "    else:\n",
    "        is_current_9 = False\n",
    "            \n",
    "    if new_main['is_current'].iloc[n+9] == 1:\n",
    "        is_current_10 = True\n",
    "    else:\n",
    "        is_current_10 = False\n",
    "            \n",
    "\n",
    "    requests.post(\n",
    "#             'https://bespoke-api-server-staging.herokuapp.com/api/v1/licenses/bulk_update_licenses',\n",
    "            'https://bespoke-api-server-production.herokuapp.com/api/v1/licenses/bulk_update_licenses',\n",
    "            json= {\n",
    "          'company_licenses': [\n",
    "              \n",
    "              {\n",
    "            'license_number': new_main['license_number'][n],\n",
    "            'rollup_id': new_main['rollup_id'][n],\n",
    "            'legal_name': new_main['legal_name'][n],\n",
    "            'license_status': new_main['license_status'][n],\n",
    "            'is_current': is_current_1,\n",
    "            'license_description': new_main['license_description'][n],\n",
    "            'us_state': state,\n",
    "            'expiration_date': None,\n",
    "            'license_category': new_main['license_category'][n]\n",
    "            },\n",
    "            \n",
    "              \n",
    "              {\n",
    "            'license_number': new_main['license_number'][n+1],\n",
    "            'rollup_id': new_main['rollup_id'][n+1],\n",
    "            'legal_name': new_main['legal_name'][n+1],\n",
    "            'license_status': new_main['license_status'][n+1],\n",
    "            'is_current': is_current_2,\n",
    "            'license_description': new_main['license_description'][n+1],\n",
    "            'us_state': state,\n",
    "            'expiration_date': None,\n",
    "            'license_category': new_main['license_category'][n+1]\n",
    "            },\n",
    "              \n",
    "              \n",
    "              {\n",
    "            'license_number': new_main['license_number'][n+2],\n",
    "            'rollup_id': new_main['rollup_id'][n+2],\n",
    "            'legal_name': new_main['legal_name'][n+2],\n",
    "            'license_status': new_main['license_status'][n+2],\n",
    "            'is_current': is_current_3,\n",
    "            'license_description': new_main['license_description'][n+2],\n",
    "            'us_state': state,\n",
    "            'expiration_date': None,\n",
    "            'license_category': new_main['license_category'][n+2]\n",
    "            },\n",
    "\n",
    "              \n",
    "              {\n",
    "            'license_number': new_main['license_number'][n+3],\n",
    "            'rollup_id': new_main['rollup_id'][n+3],\n",
    "            'legal_name': new_main['legal_name'][n+3],\n",
    "            'license_status': new_main['license_status'][n+3],\n",
    "            'is_current': is_current_4,\n",
    "            'license_description': new_main['license_description'][n+3],\n",
    "            'us_state': state,\n",
    "            'expiration_date': None,\n",
    "            'license_category': new_main['license_category'][n+3]\n",
    "            },\n",
    "              \n",
    "              \n",
    "              {\n",
    "            'license_number': new_main['license_number'][n+4],\n",
    "            'rollup_id': new_main['rollup_id'][n+4],\n",
    "            'legal_name': new_main['legal_name'][n+4],\n",
    "            'license_status': new_main['license_status'][n+4],\n",
    "            'is_current': is_current_5,\n",
    "            'license_description': new_main['license_description'][n+4],\n",
    "            'us_state': state,\n",
    "            'expiration_date': None,\n",
    "            'license_category': new_main['license_category'][n+4]\n",
    "            },\n",
    "              \n",
    "              \n",
    "              {\n",
    "            'license_number': new_main['license_number'][n+5],\n",
    "            'rollup_id': new_main['rollup_id'][n+5],\n",
    "            'legal_name': new_main['legal_name'][n+5],\n",
    "            'license_status': new_main['license_status'][n+5],\n",
    "            'is_current': is_current_6,\n",
    "            'license_description': new_main['license_description'][n+5],\n",
    "            'us_state': state,\n",
    "            'expiration_date': None,\n",
    "            'license_category': new_main['license_category'][n+5]\n",
    "            },\n",
    "\n",
    "              \n",
    "              {\n",
    "            'license_number': new_main['license_number'][n+6],\n",
    "            'rollup_id': new_main['rollup_id'][n+6],\n",
    "            'legal_name': new_main['legal_name'][n+6],\n",
    "            'license_status': new_main['license_status'][n+6],\n",
    "            'is_current': is_current_7,\n",
    "            'license_description': new_main['license_description'][n+6],\n",
    "            'us_state': state,\n",
    "            'expiration_date': None,\n",
    "            'license_category': new_main['license_category'][n+6]\n",
    "            },\n",
    "              \n",
    "              \n",
    "              {\n",
    "            'license_number': new_main['license_number'][n+7],\n",
    "            'rollup_id': new_main['rollup_id'][n+7],\n",
    "            'legal_name': new_main['legal_name'][n+7],\n",
    "            'license_status': new_main['license_status'][n+7],\n",
    "            'is_current': is_current_8,\n",
    "            'license_description': new_main['license_description'][n+7],\n",
    "            'us_state': state,\n",
    "            'expiration_date': None,\n",
    "            'license_category': new_main['license_category'][n+7]\n",
    "            },\n",
    "              \n",
    "              \n",
    "              {\n",
    "            'license_number': new_main['license_number'][n+8],\n",
    "            'rollup_id': new_main['rollup_id'][n+8],\n",
    "            'legal_name': new_main['legal_name'][n+8],\n",
    "            'license_status': new_main['license_status'][n+8],\n",
    "            'is_current': is_current_9,\n",
    "            'license_description': new_main['license_description'][n+8],\n",
    "            'us_state': state,\n",
    "            'expiration_date': None,\n",
    "            'license_category': new_main['license_category'][n+8]\n",
    "            },\n",
    "\n",
    "              \n",
    "              {\n",
    "            'license_number': new_main['license_number'][n+9],\n",
    "            'rollup_id': new_main['rollup_id'][n+9],\n",
    "            'legal_name': new_main['legal_name'][n+9],\n",
    "            'license_status': new_main['license_status'][n+9],\n",
    "            'is_current': is_current_10,\n",
    "            'license_description': new_main['license_description'][n+9],\n",
    "            'us_state': state,\n",
    "            'expiration_date': None,\n",
    "            'license_category': new_main['license_category'][n+9]\n",
    "            },\n",
    "\n",
    "              \n",
    "          ],\n",
    "        },\n",
    "            headers={'x-api-key': 'ASYNC-SERVER-API-KEY-6Lfy84qn9ew93ZwMXSYhdwqj'}\n",
    "#             {'x-api-key': '80030179832729980933'}\n",
    "        )\n",
    "        \n",
    "    num_of_lic_sent += 10\n",
    "        \n",
    "    print(num_of_lic_sent)\n",
    "        \n",
    "    sleep(10)\n",
    "        \n",
    "            \n",
    "for n in range(num_of_lic_sent, len(new_main)):\n",
    "    \n",
    "    if new_main['is_current'].iloc[n] == 1:\n",
    "        is_current_1 = True\n",
    "    else:\n",
    "        is_current_1 = False\n",
    "                    \n",
    "                    \n",
    "    requests.post(\n",
    "#                 'https://bespoke-api-server-staging.herokuapp.com/api/v1/licenses/bulk_update_licenses', \n",
    "                'https://bespoke-api-server-production.herokuapp.com/api/v1/licenses/bulk_update_licenses',\n",
    "                json= {\n",
    "                'company_licenses': [\n",
    "              \n",
    "                                      {\n",
    "                                    'license_number': new_main['license_number'].iloc[n],\n",
    "                                    'rollup_id': new_main['rollup_id'].iloc[n],\n",
    "                                    'legal_name': new_main['legal_name'].iloc[n],\n",
    "                                    'license_status': new_main['license_status'].iloc[n],\n",
    "                                    'is_current': is_current_1,\n",
    "                                    'license_description': new_main['license_description'].iloc[n],\n",
    "                                    'us_state': state,\n",
    "                                    'expiration_date': None,\n",
    "                                    'license_category': new_main['license_category'].iloc[n]\n",
    "                                    },\n",
    "                                  ],\n",
    "                                },\n",
    "                                    headers={'x-api-key': 'ASYNC-SERVER-API-KEY-6Lfy84qn9ew93ZwMXSYhdwqj'}\n",
    "#                                             {'x-api-key': '80030179832729980933'}\n",
    "                                )\n",
    "    print(n)\n"
   ]
  },
  {
   "cell_type": "code",
   "execution_count": null,
   "metadata": {},
   "outputs": [],
   "source": []
  },
  {
   "cell_type": "code",
   "execution_count": null,
   "metadata": {},
   "outputs": [],
   "source": [
    "new_main"
   ]
  },
  {
   "cell_type": "code",
   "execution_count": null,
   "metadata": {},
   "outputs": [],
   "source": []
  }
 ],
 "metadata": {
  "kernelspec": {
   "display_name": "Python 3",
   "language": "python",
   "name": "python3"
  },
  "language_info": {
   "codemirror_mode": {
    "name": "ipython",
    "version": 3
   },
   "file_extension": ".py",
   "mimetype": "text/x-python",
   "name": "python",
   "nbconvert_exporter": "python",
   "pygments_lexer": "ipython3",
   "version": "3.7.3"
  }
 },
 "nbformat": 4,
 "nbformat_minor": 2
}
