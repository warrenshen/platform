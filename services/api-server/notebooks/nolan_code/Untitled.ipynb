{
 "cells": [
  {
   "cell_type": "code",
   "execution_count": 171,
   "metadata": {},
   "outputs": [],
   "source": [
    "row_list = [\n",
    "    'payablesPerformanceScorePercentofAPCurrentRowNew',\n",
    "    'payablesPerformanceScorePercentofAP1To30DaysDelinquentRowNew',\n",
    "    'payablesPerformanceScorePercentofAP31To60DaysDelinquentRowNew',\n",
    "    'payablesPerformanceScorePercentofAP61To90DaysDelinquentRowNew',\n",
    "    'payablesPerformanceScoreScoreTotalRowNew',\n",
    "    'payablesPerformanceScorePotentialFinancingEligibilityRowNew',\n",
    "    'payablesPerformanceScoreCurrentlyApprovedFinancingRowNew'\n",
    "\n",
    "]"
   ]
  },
  {
   "cell_type": "code",
   "execution_count": 172,
   "metadata": {},
   "outputs": [
    {
     "name": "stdout",
     "output_type": "stream",
     "text": [
      "            clientTrackingWs.Cells(payablesPerformanceScorePercentofAPCurrentRowTracking, companyCol).Value = newFinancialMetricsWs.Cells(payablesPerformanceScorePercentofAPCurrentRowNew, 2).Value\n",
      "            clientTrackingWs.Cells(payablesPerformanceScorePercentofAP1To30DaysDelinquentRowTracking, companyCol).Value = newFinancialMetricsWs.Cells(payablesPerformanceScorePercentofAP1To30DaysDelinquentRowNew, 2).Value\n",
      "            clientTrackingWs.Cells(payablesPerformanceScorePercentofAP31To60DaysDelinquentRowTracking, companyCol).Value = newFinancialMetricsWs.Cells(payablesPerformanceScorePercentofAP31To60DaysDelinquentRowNew, 2).Value\n",
      "            clientTrackingWs.Cells(payablesPerformanceScorePercentofAP61To90DaysDelinquentRowTracking, companyCol).Value = newFinancialMetricsWs.Cells(payablesPerformanceScorePercentofAP61To90DaysDelinquentRowNew, 2).Value\n",
      "            clientTrackingWs.Cells(payablesPerformanceScoreScoreTotalRowTracking, companyCol).Value = newFinancialMetricsWs.Cells(payablesPerformanceScoreScoreTotalRowNew, 2).Value\n",
      "            clientTrackingWs.Cells(payablesPerformanceScorePotentialFinancingEligibilityRowTracking, companyCol).Value = newFinancialMetricsWs.Cells(payablesPerformanceScorePotentialFinancingEligibilityRowNew, 2).Value\n",
      "            clientTrackingWs.Cells(payablesPerformanceScoreCurrentlyApprovedFinancingRowTracking, companyCol).Value = newFinancialMetricsWs.Cells(payablesPerformanceScoreCurrentlyApprovedFinancingRowNew, 2).Value\n"
     ]
    }
   ],
   "source": [
    "for row_new in row_list:\n",
    "    \n",
    "    row_tracking = row_new.replace(\"RowNew\", \"RowTracking\")\n",
    "    \n",
    "#     row_new = row.replace(\"RowTracking\", \"RowNew\")\n",
    "    \n",
    "    \n",
    "    code = f\"            clientTrackingWs.Cells({row_tracking}, companyCol).Value = newFinancialMetricsWs.Cells({row_new}, 2).Value\"\n",
    "    \n",
    "    print(code)"
   ]
  },
  {
   "cell_type": "code",
   "execution_count": null,
   "metadata": {},
   "outputs": [],
   "source": []
  },
  {
   "cell_type": "code",
   "execution_count": null,
   "metadata": {},
   "outputs": [],
   "source": []
  },
  {
   "cell_type": "code",
   "execution_count": null,
   "metadata": {},
   "outputs": [],
   "source": []
  },
  {
   "cell_type": "code",
   "execution_count": null,
   "metadata": {},
   "outputs": [],
   "source": []
  },
  {
   "cell_type": "code",
   "execution_count": null,
   "metadata": {},
   "outputs": [],
   "source": []
  },
  {
   "cell_type": "code",
   "execution_count": null,
   "metadata": {},
   "outputs": [],
   "source": []
  },
  {
   "cell_type": "code",
   "execution_count": null,
   "metadata": {},
   "outputs": [],
   "source": []
  },
  {
   "cell_type": "code",
   "execution_count": null,
   "metadata": {},
   "outputs": [],
   "source": []
  },
  {
   "cell_type": "code",
   "execution_count": null,
   "metadata": {},
   "outputs": [],
   "source": []
  },
  {
   "cell_type": "code",
   "execution_count": null,
   "metadata": {},
   "outputs": [],
   "source": []
  },
  {
   "cell_type": "code",
   "execution_count": null,
   "metadata": {},
   "outputs": [],
   "source": []
  },
  {
   "cell_type": "code",
   "execution_count": null,
   "metadata": {},
   "outputs": [],
   "source": []
  },
  {
   "cell_type": "code",
   "execution_count": null,
   "metadata": {},
   "outputs": [],
   "source": []
  },
  {
   "cell_type": "code",
   "execution_count": null,
   "metadata": {},
   "outputs": [],
   "source": []
  },
  {
   "cell_type": "code",
   "execution_count": 163,
   "metadata": {},
   "outputs": [],
   "source": [
    "col_header = 'marginAnalysisScore'"
   ]
  },
  {
   "cell_type": "code",
   "execution_count": 164,
   "metadata": {},
   "outputs": [
    {
     "name": "stdout",
     "output_type": "stream",
     "text": [
      "Dim marginAnalysisScoreGrossMarginpastquarterRowTracking as Long, marginAnalysisScoreGrossMarginpast2quartersRowTracking as Long, marginAnalysisScoreGrossMarginpast3quartersRowTracking as Long, marginAnalysisScoreNetIncomeMarginpastquarterRowTracking as Long, marginAnalysisScoreNetIncomeMarginpast2quartersRowTracking as Long, marginAnalysisScoreNetIncomeMarginpast3quartersRowTracking as Long\n"
     ]
    }
   ],
   "source": [
    "dim_str = \"Dim\"\n",
    "for col in row_list:\n",
    "    col = col.replace(\" \", \"\").replace(\"&\", \"And\").replace(\"/\", \"\").replace(\"(\", \"\").replace(\")\", \"\").replace('''\"''', \"\")\n",
    "    col = col.replace(\"#\", \"Number\").replace(\"%\", \"Percent\").replace(\"-\", \"To\")\n",
    "    col = col.replace(\"ifWC<0butNI>0\", \"\").replace(\":\", \"\")\n",
    "    col = col + \"RowTracking\"\n",
    "    col = col_header + col\n",
    "    dim_str += f\", {col} as Long\"\n",
    "print(dim_str.replace(\"Dim,\", \"Dim\"))"
   ]
  },
  {
   "cell_type": "code",
   "execution_count": 166,
   "metadata": {},
   "outputs": [
    {
     "name": "stdout",
     "output_type": "stream",
     "text": [
      "    marginAnalysisScoreGrossMarginpastquarterRowTracking = clientTrackingWs.Columns(firstColTracking).Find(What:=\"Gross Margin past quarter\", After:=\"financialScoresHeaderTracking\").Row\n",
      "    marginAnalysisScoreGrossMarginpast2quartersRowTracking = clientTrackingWs.Columns(firstColTracking).Find(What:=\"Gross Margin past 2 quarters\", After:=\"financialScoresHeaderTracking\").Row\n",
      "    marginAnalysisScoreGrossMarginpast3quartersRowTracking = clientTrackingWs.Columns(firstColTracking).Find(What:=\"Gross Margin past 3 quarters\", After:=\"financialScoresHeaderTracking\").Row\n",
      "    marginAnalysisScoreNetIncomeMarginpastquarterRowTracking = clientTrackingWs.Columns(firstColTracking).Find(What:=\"Net Income Margin past quarter\", After:=\"financialScoresHeaderTracking\").Row\n",
      "    marginAnalysisScoreNetIncomeMarginpast2quartersRowTracking = clientTrackingWs.Columns(firstColTracking).Find(What:=\"Net Income Margin past 2 quarters\", After:=\"financialScoresHeaderTracking\").Row\n",
      "    marginAnalysisScoreNetIncomeMarginpast3quartersRowTracking = clientTrackingWs.Columns(firstColTracking).Find(What:=\"Net Income Margin past 3 quarters\", After:=\"financialScoresHeaderTracking\").Row\n"
     ]
    }
   ],
   "source": [
    "for col in row_list:\n",
    "    text = col\n",
    "    col = col.replace(\" \", \"\").replace(\"&\", \"And\").replace(\"/\", \"\").replace(\"(\", \"\").replace(\")\", \"\").replace('''\"''', \"\")\n",
    "    col = col.replace(\"#\", \"Number\").replace(\"%\", \"Percent\").replace(\"-\", \"To\")\n",
    "    col = col.replace(\"ifWC<0butNI>0\", \"\").replace(\":\", \"\")\n",
    "    col = col + \"RowTracking\"\n",
    "    col = col_header + col\n",
    "    \n",
    "    code = f\"\"\"    {col} = clientTrackingWs.Columns(firstColTracking).Find(What:=\"{text}\", After:=\"financialScoresHeaderTracking\").Row\"\"\"\n",
    "    \n",
    "    print(code)"
   ]
  },
  {
   "cell_type": "code",
   "execution_count": 167,
   "metadata": {},
   "outputs": [
    {
     "name": "stdout",
     "output_type": "stream",
     "text": [
      "Dim marginAnalysisScoreGrossMarginpastquarterRowNew as Long, marginAnalysisScoreGrossMarginpast2quartersRowNew as Long, marginAnalysisScoreGrossMarginpast3quartersRowNew as Long, marginAnalysisScoreNetIncomeMarginpastquarterRowNew as Long, marginAnalysisScoreNetIncomeMarginpast2quartersRowNew as Long, marginAnalysisScoreNetIncomeMarginpast3quartersRowNew as Long\n"
     ]
    }
   ],
   "source": [
    "dim_str = \"Dim\"\n",
    "for col in row_list:\n",
    "    col = col.replace(\" \", \"\").replace(\"&\", \"And\").replace(\"/\", \"\").replace(\"(\", \"\").replace(\")\", \"\").replace('''\"''', \"\")\n",
    "    col = col.replace(\"#\", \"Number\").replace(\"%\", \"Percent\").replace(\"-\", \"To\")\n",
    "    col = col.replace(\"ifWC<0butNI>0\", \"\").replace(\":\", \"\")\n",
    "    col = col + \"RowNew\"\n",
    "    col = col_header + col\n",
    "    dim_str += f\", {col} as Long\"\n",
    "print(dim_str.replace(\"Dim,\", \"Dim\"))"
   ]
  },
  {
   "cell_type": "code",
   "execution_count": 168,
   "metadata": {},
   "outputs": [
    {
     "name": "stdout",
     "output_type": "stream",
     "text": [
      "        marginAnalysisScoreGrossMarginpastquarterRowNew = newFinancialMetricsWs.Columns(firstColNew).Find(What:=\"Gross Margin past quarter\", After:=\"financialScoresHeaderNew\").Row\n",
      "        marginAnalysisScoreGrossMarginpast2quartersRowNew = newFinancialMetricsWs.Columns(firstColNew).Find(What:=\"Gross Margin past 2 quarters\", After:=\"financialScoresHeaderNew\").Row\n",
      "        marginAnalysisScoreGrossMarginpast3quartersRowNew = newFinancialMetricsWs.Columns(firstColNew).Find(What:=\"Gross Margin past 3 quarters\", After:=\"financialScoresHeaderNew\").Row\n",
      "        marginAnalysisScoreNetIncomeMarginpastquarterRowNew = newFinancialMetricsWs.Columns(firstColNew).Find(What:=\"Net Income Margin past quarter\", After:=\"financialScoresHeaderNew\").Row\n",
      "        marginAnalysisScoreNetIncomeMarginpast2quartersRowNew = newFinancialMetricsWs.Columns(firstColNew).Find(What:=\"Net Income Margin past 2 quarters\", After:=\"financialScoresHeaderNew\").Row\n",
      "        marginAnalysisScoreNetIncomeMarginpast3quartersRowNew = newFinancialMetricsWs.Columns(firstColNew).Find(What:=\"Net Income Margin past 3 quarters\", After:=\"financialScoresHeaderNew\").Row\n"
     ]
    }
   ],
   "source": [
    "for col in row_list:\n",
    "    text = col\n",
    "    col = col.replace(\" \", \"\").replace(\"&\", \"And\").replace(\"/\", \"\").replace(\"(\", \"\").replace(\")\", \"\").replace('''\"''', \"\")\n",
    "    col = col.replace(\"#\", \"Number\").replace(\"%\", \"Percent\").replace(\"-\", \"To\")\n",
    "    col = col.replace(\"ifWC<0butNI>0\", \"\").replace(\":\", \"\")\n",
    "    col = col + \"RowNew\"\n",
    "    col = col_header + col\n",
    "    \n",
    "    code = f\"\"\"        {col} = newFinancialMetricsWs.Columns(firstColNew).Find(What:=\"{text}\", After:=\"financialScoresHeaderNew\").Row\"\"\"\n",
    "    \n",
    "    print(code)"
   ]
  },
  {
   "cell_type": "code",
   "execution_count": null,
   "metadata": {},
   "outputs": [],
   "source": []
  },
  {
   "cell_type": "code",
   "execution_count": null,
   "metadata": {},
   "outputs": [],
   "source": []
  },
  {
   "cell_type": "code",
   "execution_count": null,
   "metadata": {},
   "outputs": [],
   "source": []
  }
 ],
 "metadata": {
  "kernelspec": {
   "display_name": "Python 3",
   "language": "python",
   "name": "python3"
  },
  "language_info": {
   "codemirror_mode": {
    "name": "ipython",
    "version": 3
   },
   "file_extension": ".py",
   "mimetype": "text/x-python",
   "name": "python",
   "nbconvert_exporter": "python",
   "pygments_lexer": "ipython3",
   "version": "3.7.3"
  }
 },
 "nbformat": 4,
 "nbformat_minor": 2
}
