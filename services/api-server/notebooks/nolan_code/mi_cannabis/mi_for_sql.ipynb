{
 "cells": [
  {
   "cell_type": "code",
   "execution_count": null,
   "metadata": {},
   "outputs": [],
   "source": [
    "import pandas as pd\n",
    "import numpy as np\n",
    "import datetime as dt\n",
    "\n",
    "import urllib\n",
    "from pathlib import Path\n",
    "from sqlalchemy import create_engine\n",
    "import pyodbc\n",
    "\n",
    "import requests\n",
    "import time"
   ]
  },
  {
   "cell_type": "code",
   "execution_count": null,
   "metadata": {},
   "outputs": [],
   "source": [
    "# Start off by creating the data information for the files\n",
    "\n",
    "today_date = dt.date(2021, 10, 6)\n",
    "\n",
    "today_day = today_date.strftime(\"%d\")\n",
    "today_month = today_date.strftime(\"%m\")\n",
    "today_year = today_date.strftime(\"%Y\")"
   ]
  },
  {
   "cell_type": "code",
   "execution_count": null,
   "metadata": {},
   "outputs": [],
   "source": [
    "pd.options.display.max_rows = 100\n",
    "pd.options.display.min_rows = 100"
   ]
  },
  {
   "cell_type": "code",
   "execution_count": null,
   "metadata": {},
   "outputs": [],
   "source": [
    "# https://aca-prod.accela.com/MIMM/Cap/CapHome.aspx?module=Licenses&TabName=Licenses\n",
    "# and\n",
    "# https://aca-prod.accela.com/MIMM/Cap/CapHome.aspx?module=Adult_Use&TabName=Adult_Use&TabList=Home|0|Licenses|1|Adult_Use|2|Enforcement|3|RegistryCards|4|CurrentTabIndex|2"
   ]
  },
  {
   "cell_type": "code",
   "execution_count": null,
   "metadata": {},
   "outputs": [],
   "source": [
    "# This creates the connection to the California Cannabis files in SQL\n",
    "\n",
    "params = urllib.parse.quote_plus(\"DRIVER={ODBC Driver 17 for SQL Server};\"\n",
    "                                 \"SERVER=bespoke-database-1.cmevrozrcs7c.us-west-2.rds.amazonaws.com;\"\n",
    "                                 \"DATABASE=mi_cannabis;\"\n",
    "                                 \"UID=admin;\"\n",
    "                                 \"PWD=N19lrqxnurTUJLJT6GFe\")\n",
    "engine_con = create_engine(\"mssql+pyodbc:///?odbc_connect={}\".format(params))"
   ]
  },
  {
   "cell_type": "code",
   "execution_count": null,
   "metadata": {},
   "outputs": [],
   "source": []
  },
  {
   "cell_type": "markdown",
   "metadata": {},
   "source": [
    "### Read in the Data"
   ]
  },
  {
   "cell_type": "code",
   "execution_count": null,
   "metadata": {},
   "outputs": [],
   "source": []
  },
  {
   "cell_type": "code",
   "execution_count": null,
   "metadata": {},
   "outputs": [],
   "source": [
    "license_info_df = pd.read_csv(f'licenses/RecordList{today_year}{today_month}{today_day}.csv')"
   ]
  },
  {
   "cell_type": "code",
   "execution_count": null,
   "metadata": {
    "scrolled": true
   },
   "outputs": [],
   "source": [
    "license_info_df"
   ]
  },
  {
   "cell_type": "code",
   "execution_count": null,
   "metadata": {},
   "outputs": [],
   "source": [
    "license_info_df['Record Type'].value_counts()"
   ]
  },
  {
   "cell_type": "code",
   "execution_count": null,
   "metadata": {},
   "outputs": [],
   "source": []
  },
  {
   "cell_type": "code",
   "execution_count": null,
   "metadata": {},
   "outputs": [],
   "source": []
  },
  {
   "cell_type": "code",
   "execution_count": null,
   "metadata": {},
   "outputs": [],
   "source": []
  },
  {
   "cell_type": "code",
   "execution_count": null,
   "metadata": {},
   "outputs": [],
   "source": []
  },
  {
   "cell_type": "code",
   "execution_count": null,
   "metadata": {},
   "outputs": [],
   "source": []
  },
  {
   "cell_type": "markdown",
   "metadata": {},
   "source": [
    "### Rename Columns"
   ]
  },
  {
   "cell_type": "code",
   "execution_count": null,
   "metadata": {},
   "outputs": [],
   "source": [
    "renamed_df = license_info_df.rename(columns={'Record Number':'license_number', 'Record Type':'license_description', 'Licensee Name':'name_legal', 'Address':'contact_address', 'Expiration Date':'expiration_date', 'Status':'license_status'})"
   ]
  },
  {
   "cell_type": "code",
   "execution_count": null,
   "metadata": {},
   "outputs": [],
   "source": [
    "renamed_df.dtypes"
   ]
  },
  {
   "cell_type": "code",
   "execution_count": null,
   "metadata": {},
   "outputs": [],
   "source": [
    "renamed_df['license_number'] = renamed_df['license_number'].astype(str)\n",
    "renamed_df['license_description'] = renamed_df['license_description'].astype(str)\n",
    "renamed_df['name_legal'] = renamed_df['name_legal'].astype(str)\n",
    "renamed_df['expiration_date'] = pd.to_datetime(renamed_df['expiration_date'])"
   ]
  },
  {
   "cell_type": "code",
   "execution_count": null,
   "metadata": {},
   "outputs": [],
   "source": [
    "renamed_df = renamed_df[['license_number', 'license_description', 'name_legal', 'contact_address', 'expiration_date', 'license_status']]"
   ]
  },
  {
   "cell_type": "code",
   "execution_count": null,
   "metadata": {},
   "outputs": [],
   "source": []
  },
  {
   "cell_type": "code",
   "execution_count": null,
   "metadata": {
    "scrolled": false
   },
   "outputs": [],
   "source": [
    "renamed_df = renamed_df.sort_values(by='name_legal').reset_index().drop(columns=['index'])"
   ]
  },
  {
   "cell_type": "code",
   "execution_count": null,
   "metadata": {},
   "outputs": [],
   "source": [
    "renamed_df['license_status'].value_counts()"
   ]
  },
  {
   "cell_type": "code",
   "execution_count": null,
   "metadata": {},
   "outputs": [],
   "source": []
  },
  {
   "cell_type": "code",
   "execution_count": null,
   "metadata": {},
   "outputs": [],
   "source": [
    "renamed_df"
   ]
  },
  {
   "cell_type": "code",
   "execution_count": null,
   "metadata": {},
   "outputs": [],
   "source": []
  },
  {
   "cell_type": "code",
   "execution_count": null,
   "metadata": {},
   "outputs": [],
   "source": []
  },
  {
   "cell_type": "code",
   "execution_count": null,
   "metadata": {},
   "outputs": [],
   "source": []
  },
  {
   "cell_type": "markdown",
   "metadata": {},
   "source": [
    "### Add Data from SQL"
   ]
  },
  {
   "cell_type": "code",
   "execution_count": null,
   "metadata": {},
   "outputs": [],
   "source": [
    "old_mi_roll = pd.read_sql('mi_roll', con=engine_con)"
   ]
  },
  {
   "cell_type": "code",
   "execution_count": null,
   "metadata": {},
   "outputs": [],
   "source": [
    "df_with_sql = renamed_df.merge(old_mi_roll, how='outer')"
   ]
  },
  {
   "cell_type": "code",
   "execution_count": null,
   "metadata": {},
   "outputs": [],
   "source": [
    "df_with_sql = df_with_sql[['license_number', 'license_description', 'name_legal', 'roll_up_id', 'company_roll_up', 'contact_address', 'expiration_date', 'license_status']]"
   ]
  },
  {
   "cell_type": "code",
   "execution_count": null,
   "metadata": {},
   "outputs": [],
   "source": [
    "df_with_sql.head()"
   ]
  },
  {
   "cell_type": "code",
   "execution_count": null,
   "metadata": {},
   "outputs": [],
   "source": []
  },
  {
   "cell_type": "code",
   "execution_count": null,
   "metadata": {},
   "outputs": [],
   "source": []
  },
  {
   "cell_type": "code",
   "execution_count": null,
   "metadata": {},
   "outputs": [],
   "source": [
    "renamed_df.shape"
   ]
  },
  {
   "cell_type": "code",
   "execution_count": null,
   "metadata": {},
   "outputs": [],
   "source": [
    "df_with_sql.shape"
   ]
  },
  {
   "cell_type": "code",
   "execution_count": null,
   "metadata": {},
   "outputs": [],
   "source": []
  },
  {
   "cell_type": "code",
   "execution_count": null,
   "metadata": {},
   "outputs": [],
   "source": []
  },
  {
   "cell_type": "markdown",
   "metadata": {},
   "source": [
    "## Move to CSV to Add Roll Up Info"
   ]
  },
  {
   "cell_type": "code",
   "execution_count": null,
   "metadata": {},
   "outputs": [],
   "source": [
    "df_with_sql.to_csv(f'edited_files/df_to_clean_{today_year}_{today_month}_{today_day}.csv', index=False)"
   ]
  },
  {
   "cell_type": "code",
   "execution_count": null,
   "metadata": {},
   "outputs": [],
   "source": []
  },
  {
   "cell_type": "markdown",
   "metadata": {},
   "source": [
    "### And Read it Back In and Add Roll Up Ids"
   ]
  },
  {
   "cell_type": "code",
   "execution_count": null,
   "metadata": {},
   "outputs": [],
   "source": [
    "if sum(pd.read_csv(f'edited_files/df_to_clean_{today_year}_{today_month}_{today_day}.csv')['company_roll_up'].isnull()) == 0:\n",
    "    mi_with_company_roll = pd.read_csv(f'edited_files/df_to_clean_{today_year}_{today_month}_{today_day}.csv')\n",
    "else:\n",
    "    print(error)"
   ]
  },
  {
   "cell_type": "code",
   "execution_count": null,
   "metadata": {},
   "outputs": [],
   "source": []
  },
  {
   "cell_type": "code",
   "execution_count": null,
   "metadata": {},
   "outputs": [],
   "source": [
    "# This just cleans out the NAs\n",
    "mi_with_company_roll = mi_with_company_roll.fillna('')"
   ]
  },
  {
   "cell_type": "code",
   "execution_count": null,
   "metadata": {},
   "outputs": [],
   "source": []
  },
  {
   "cell_type": "code",
   "execution_count": null,
   "metadata": {},
   "outputs": [],
   "source": [
    "mi_with_company_roll.head()"
   ]
  },
  {
   "cell_type": "code",
   "execution_count": null,
   "metadata": {},
   "outputs": [],
   "source": []
  },
  {
   "cell_type": "code",
   "execution_count": null,
   "metadata": {},
   "outputs": [],
   "source": [
    "# mi_with_company_roll = mi_with_company_roll.drop(columns={'company_roll_up', 'roll_up_id'}).merge(df_with_sql[['license_number', 'roll_up_id', 'company_roll_up']])"
   ]
  },
  {
   "cell_type": "code",
   "execution_count": null,
   "metadata": {},
   "outputs": [],
   "source": []
  },
  {
   "cell_type": "code",
   "execution_count": null,
   "metadata": {},
   "outputs": [],
   "source": [
    "mi_roll_null = mi_with_company_roll[mi_with_company_roll['roll_up_id'] == '']\n",
    "mi_roll_not_null = mi_with_company_roll[mi_with_company_roll['roll_up_id'] != '']"
   ]
  },
  {
   "cell_type": "code",
   "execution_count": null,
   "metadata": {},
   "outputs": [],
   "source": [
    "mi_roll_null = mi_roll_null.reset_index().drop(columns='index')"
   ]
  },
  {
   "cell_type": "code",
   "execution_count": null,
   "metadata": {},
   "outputs": [],
   "source": []
  },
  {
   "cell_type": "code",
   "execution_count": null,
   "metadata": {},
   "outputs": [],
   "source": [
    "# This creates the lists for adding the roll_up_ids\n",
    "# This will need changing when running for an update\n",
    "\n",
    "comp_roll_list = list(mi_roll_null['company_roll_up'].unique())\n",
    "roll_up_list = []\n",
    "\n",
    "max_roll = int(sorted(mi_roll_not_null['roll_up_id'].unique())[-1][3:])\n",
    "\n",
    "for roll in comp_roll_list:\n",
    "    max_roll += 1\n",
    "    new_roll = str(max_roll)\n",
    "    while len(new_roll) < 5:\n",
    "        new_roll = '0' + new_roll\n",
    "    new_roll = 'MI-' + new_roll\n",
    "    roll_up_list.append(new_roll)"
   ]
  },
  {
   "cell_type": "code",
   "execution_count": null,
   "metadata": {},
   "outputs": [],
   "source": [
    "comp_roll_list"
   ]
  },
  {
   "cell_type": "code",
   "execution_count": null,
   "metadata": {},
   "outputs": [],
   "source": []
  },
  {
   "cell_type": "code",
   "execution_count": null,
   "metadata": {},
   "outputs": [],
   "source": [
    "# This adds the roll_up_ids\n",
    "for n in range(len(mi_roll_null)):\n",
    "    list_loc = comp_roll_list.index(mi_roll_null['company_roll_up'][n])\n",
    "    mi_roll_null['roll_up_id'][n] = roll_up_list[list_loc]"
   ]
  },
  {
   "cell_type": "code",
   "execution_count": null,
   "metadata": {},
   "outputs": [],
   "source": [
    "mi_roll_null.head()"
   ]
  },
  {
   "cell_type": "code",
   "execution_count": null,
   "metadata": {},
   "outputs": [],
   "source": []
  },
  {
   "cell_type": "code",
   "execution_count": null,
   "metadata": {},
   "outputs": [],
   "source": [
    "# And now we combined the two dataframes\n",
    "mi_with_roll = mi_roll_not_null.append(mi_roll_null).sort_values(by='name_legal')"
   ]
  },
  {
   "cell_type": "code",
   "execution_count": null,
   "metadata": {},
   "outputs": [],
   "source": [
    "mi_with_roll"
   ]
  },
  {
   "cell_type": "code",
   "execution_count": null,
   "metadata": {},
   "outputs": [],
   "source": []
  },
  {
   "cell_type": "code",
   "execution_count": null,
   "metadata": {},
   "outputs": [],
   "source": [
    "mi_with_roll[mi_with_roll['roll_up_id'] == '']"
   ]
  },
  {
   "cell_type": "code",
   "execution_count": null,
   "metadata": {},
   "outputs": [],
   "source": []
  },
  {
   "cell_type": "code",
   "execution_count": null,
   "metadata": {},
   "outputs": [],
   "source": []
  },
  {
   "cell_type": "markdown",
   "metadata": {},
   "source": [
    "#### Clean the Contact Data"
   ]
  },
  {
   "cell_type": "code",
   "execution_count": null,
   "metadata": {},
   "outputs": [],
   "source": [
    "# # This cleans out the emails\n",
    "# for n in range(len(mi_with_roll)):\n",
    "#     if '@' in (mi_with_company_roll['contact_email'][n]):\n",
    "#         pass\n",
    "#     else:\n",
    "#         mi_with_company_roll['contact_email'][n] = ''"
   ]
  },
  {
   "cell_type": "code",
   "execution_count": null,
   "metadata": {},
   "outputs": [],
   "source": [
    "# # This cleans out the phone numbers\n",
    "# for n in range(len(mi_with_roll)):\n",
    "#     mi_with_company_roll['contact_phone'][n] = mi_with_company_roll['contact_phone'][n].replace('-','').replace('.','').replace(\"(\",'').replace(\")\",'').replace(\"\\n\",'').replace(\" \",'')\n",
    "#     if mi_with_company_roll['contact_phone'][n] == 'https://wwwinstagramcom/grownrogue/':\n",
    "#         mi_with_company_roll['contact_phone'][n] = ''\n",
    "#     if mi_with_company_roll['contact_phone'][n] == '1833VIRIDIS':\n",
    "#         mi_with_company_roll['contact_phone'][n] = '18338474347'"
   ]
  },
  {
   "cell_type": "code",
   "execution_count": null,
   "metadata": {},
   "outputs": [],
   "source": [
    "# # This cleans out the websites\n",
    "# for n in range(len(mi_with_roll)):\n",
    "#     if 'facebook.com' in mi_with_company_roll['contact_website'][n]:\n",
    "#         mi_with_company_roll['contact_website'][n] = ''\n",
    "#     if mi_with_company_roll['contact_website'][n] == 'https://www.google.com/search?q=BLUMFIELD+SECURE+TRANSPORT+LLC&rlz=1C5CHFA_enUS906US907&oq=BLUMFIELD+SECURE+TRANSPORT+LLC&aqs=chrome..69i57.121j0j4&sourceid=chrome&ie=UTF-8':\n",
    "#         mi_with_company_roll['contact_website'][n] = 'https://blumfieldsecuretransport.com/'"
   ]
  },
  {
   "cell_type": "code",
   "execution_count": null,
   "metadata": {},
   "outputs": [],
   "source": []
  },
  {
   "cell_type": "code",
   "execution_count": null,
   "metadata": {},
   "outputs": [],
   "source": [
    "# mi_with_company_roll['contact_phone'].unique()"
   ]
  },
  {
   "cell_type": "code",
   "execution_count": null,
   "metadata": {},
   "outputs": [],
   "source": []
  },
  {
   "cell_type": "code",
   "execution_count": null,
   "metadata": {},
   "outputs": [],
   "source": [
    "mi_with_roll[mi_with_roll['license_number'] == 'AU-ER-001875']"
   ]
  },
  {
   "cell_type": "code",
   "execution_count": null,
   "metadata": {},
   "outputs": [],
   "source": []
  },
  {
   "cell_type": "markdown",
   "metadata": {},
   "source": [
    "### Compare to SQL"
   ]
  },
  {
   "cell_type": "code",
   "execution_count": null,
   "metadata": {},
   "outputs": [],
   "source": [
    "# This seperates the license numbers not already in SQL\n",
    "old_sql_main = pd.read_sql('mi_main', con=engine_con)\n",
    "\n",
    "old_lic_nums = old_sql_main['license_number'].unique()\n",
    "lic_nums = mi_with_roll['license_number'].unique()\n",
    "new_lic_nums = []\n",
    "\n",
    "for lic in lic_nums:\n",
    "    if lic not in old_lic_nums:\n",
    "        new_lic_nums.append(lic)"
   ]
  },
  {
   "cell_type": "code",
   "execution_count": null,
   "metadata": {},
   "outputs": [],
   "source": [
    "# And now we make the dataframe out of the new licenses\n",
    "new_mi_df = pd.DataFrame(new_lic_nums, columns={'license_number'})\n",
    "new_mi_df = new_mi_df.merge(mi_with_roll, on='license_number')"
   ]
  },
  {
   "cell_type": "code",
   "execution_count": null,
   "metadata": {},
   "outputs": [],
   "source": [
    "new_mi_df['is_current'] = 1\n",
    "new_mi_df['date_uploaded'] = today_date"
   ]
  },
  {
   "cell_type": "code",
   "execution_count": null,
   "metadata": {},
   "outputs": [],
   "source": [
    "new_mi_df[new_mi_df['roll_up_id'] == '']"
   ]
  },
  {
   "cell_type": "code",
   "execution_count": null,
   "metadata": {},
   "outputs": [],
   "source": []
  },
  {
   "cell_type": "code",
   "execution_count": null,
   "metadata": {},
   "outputs": [],
   "source": []
  },
  {
   "cell_type": "markdown",
   "metadata": {},
   "source": [
    "## Seperate for SQL"
   ]
  },
  {
   "cell_type": "code",
   "execution_count": null,
   "metadata": {},
   "outputs": [],
   "source": []
  },
  {
   "cell_type": "code",
   "execution_count": null,
   "metadata": {},
   "outputs": [],
   "source": [
    "mi_roll = new_mi_df[['license_number', 'roll_up_id', 'company_roll_up']]"
   ]
  },
  {
   "cell_type": "code",
   "execution_count": null,
   "metadata": {},
   "outputs": [],
   "source": [
    "mi_main = new_mi_df[['license_number', 'name_legal', 'license_description', 'license_status', 'is_current', 'expiration_date', 'date_uploaded']]"
   ]
  },
  {
   "cell_type": "code",
   "execution_count": null,
   "metadata": {},
   "outputs": [],
   "source": [
    "mi_contact = new_mi_df[['license_number', 'contact_address']]\n",
    "#                         'contact_email', 'contact_phone', 'contact_website']]"
   ]
  },
  {
   "cell_type": "code",
   "execution_count": null,
   "metadata": {},
   "outputs": [],
   "source": []
  },
  {
   "cell_type": "code",
   "execution_count": null,
   "metadata": {},
   "outputs": [],
   "source": [
    "mi_roll.to_sql('mi_roll', con=engine_con, index=False, if_exists='append')"
   ]
  },
  {
   "cell_type": "code",
   "execution_count": null,
   "metadata": {},
   "outputs": [],
   "source": [
    "mi_main.to_sql('mi_main', con=engine_con, index=False, if_exists='append')"
   ]
  },
  {
   "cell_type": "code",
   "execution_count": null,
   "metadata": {},
   "outputs": [],
   "source": [
    "mi_contact.to_sql('mi_contact', con=engine_con, index=False, if_exists='append')"
   ]
  },
  {
   "cell_type": "code",
   "execution_count": null,
   "metadata": {},
   "outputs": [],
   "source": [
    "mi_main"
   ]
  },
  {
   "cell_type": "code",
   "execution_count": null,
   "metadata": {},
   "outputs": [],
   "source": []
  },
  {
   "cell_type": "markdown",
   "metadata": {},
   "source": [
    "### Create the to_alter Table"
   ]
  },
  {
   "cell_type": "code",
   "execution_count": null,
   "metadata": {},
   "outputs": [],
   "source": [
    "current_mi_main = mi_with_roll[mi_with_roll['name_legal'] != ''][['license_number', 'name_legal', 'license_description', 'license_status', 'expiration_date']]"
   ]
  },
  {
   "cell_type": "code",
   "execution_count": null,
   "metadata": {},
   "outputs": [],
   "source": [
    "current_mi_main = current_mi_main.sort_index()"
   ]
  },
  {
   "cell_type": "code",
   "execution_count": null,
   "metadata": {},
   "outputs": [],
   "source": [
    "list_current = list(current_mi_main['license_number'].unique())"
   ]
  },
  {
   "cell_type": "code",
   "execution_count": null,
   "metadata": {
    "scrolled": false
   },
   "outputs": [],
   "source": [
    "not_current_df = pd.read_sql('mi_main', con=engine_con)"
   ]
  },
  {
   "cell_type": "code",
   "execution_count": null,
   "metadata": {},
   "outputs": [],
   "source": [
    "not_current_list = []\n",
    "\n",
    "for lic in not_current_df['license_number']:\n",
    "    if lic not in list_current:\n",
    "        not_current_list.append(lic)\n",
    "        \n",
    "not_current_df = not_current_df[not_current_df['license_number'].isin(not_current_list)]"
   ]
  },
  {
   "cell_type": "code",
   "execution_count": null,
   "metadata": {},
   "outputs": [],
   "source": [
    "not_current_df['is_current'] = 0"
   ]
  },
  {
   "cell_type": "code",
   "execution_count": null,
   "metadata": {},
   "outputs": [],
   "source": []
  },
  {
   "cell_type": "code",
   "execution_count": null,
   "metadata": {},
   "outputs": [],
   "source": [
    "up_to_date_df = current_mi_main.append(not_current_df).reset_index().drop(columns='index')\n",
    "up_to_date_df['is_current'] = up_to_date_df['is_current'].fillna(1).astype(int)\n",
    "up_to_date_df['expiration_date'] = pd.to_datetime(up_to_date_df['expiration_date'])\n",
    "up_to_date_df['expiration_date'] = up_to_date_df['expiration_date'].dt.strftime(\"%m/%d/%y\")"
   ]
  },
  {
   "cell_type": "code",
   "execution_count": null,
   "metadata": {},
   "outputs": [],
   "source": [
    "old_data_df = pd.read_sql('mi_main', con=engine_con)\n",
    "old_data_df['expiration_date'] = pd.to_datetime(old_data_df['expiration_date'])\n",
    "old_data_df['expiration_date'] = old_data_df['expiration_date'].dt.strftime(\"%m/%d/%y\")"
   ]
  },
  {
   "cell_type": "code",
   "execution_count": null,
   "metadata": {},
   "outputs": [],
   "source": []
  },
  {
   "cell_type": "code",
   "execution_count": null,
   "metadata": {},
   "outputs": [],
   "source": [
    "up_to_date_df"
   ]
  },
  {
   "cell_type": "code",
   "execution_count": null,
   "metadata": {},
   "outputs": [],
   "source": []
  },
  {
   "cell_type": "code",
   "execution_count": null,
   "metadata": {},
   "outputs": [],
   "source": [
    "# This code creates a list of all the rows that need changing (and specifies what column needs changing so we can double check)\n",
    "\n",
    "for_edit_list = []\n",
    "\n",
    "for lic in up_to_date_df['license_number'].unique():\n",
    "    \n",
    "    if list(up_to_date_df[up_to_date_df['license_number'] == lic]['license_status'])[0] != list(old_data_df[old_data_df['license_number'] == lic]['license_status'])[0]:\n",
    "        print(lic, 'license_status')\n",
    "        for_edit_list.append(lic)\n",
    "        \n",
    "    elif list(up_to_date_df[up_to_date_df['license_number'] == lic]['license_description'])[0] != list(old_data_df[old_data_df['license_number'] == lic]['license_description'])[0]:\n",
    "        print(lic, 'license_description')\n",
    "        for_edit_list.append(lic)\n",
    "        \n",
    "    elif list(up_to_date_df[up_to_date_df['license_number'] == lic]['expiration_date'])[0] != list(old_data_df[old_data_df['license_number'] == lic]['expiration_date'])[0]:\n",
    "        print(lic, 'expiration_date')\n",
    "        for_edit_list.append(lic)\n",
    "        \n",
    "    elif list(up_to_date_df[up_to_date_df['license_number'] == lic]['is_current'])[0] != list(old_data_df[old_data_df['license_number'] == lic]['is_current'])[0]:\n",
    "        print(lic, 'is_current')\n",
    "        for_edit_list.append(lic)\n",
    "        "
   ]
  },
  {
   "cell_type": "code",
   "execution_count": null,
   "metadata": {},
   "outputs": [],
   "source": [
    "len(for_edit_list)"
   ]
  },
  {
   "cell_type": "code",
   "execution_count": null,
   "metadata": {},
   "outputs": [],
   "source": []
  },
  {
   "cell_type": "code",
   "execution_count": null,
   "metadata": {},
   "outputs": [],
   "source": [
    "# This creates the dataframe to send to SQL\n",
    "to_alter_df_all = up_to_date_df[up_to_date_df['license_number'].isin(for_edit_list)]\n",
    "# to_alter_df_all['expiration_date'] = to_alter_df_all['expiration_date'].astype(str)"
   ]
  },
  {
   "cell_type": "code",
   "execution_count": null,
   "metadata": {},
   "outputs": [],
   "source": [
    "# This sends the newly created dataframe to SQL\n",
    "to_alter_df_all.to_sql('mi_main_alter', con=engine_con, index=False, if_exists='replace')"
   ]
  },
  {
   "cell_type": "code",
   "execution_count": null,
   "metadata": {},
   "outputs": [],
   "source": []
  },
  {
   "cell_type": "code",
   "execution_count": null,
   "metadata": {},
   "outputs": [],
   "source": [
    "# This code runs the query noramally run in SQL to update mi_main using ca_main_alter\n",
    "\n",
    "mi_conn = pyodbc.connect('DRIVER={ODBC Driver 17 for SQL Server};'\n",
    "                      'SERVER=bespoke-database-1.cmevrozrcs7c.us-west-2.rds.amazonaws.com;'\n",
    "                      'DATABASE=mi_cannabis;'\n",
    "                      'UID=admin;'\n",
    "                      'PWD=N19lrqxnurTUJLJT6GFe;')\n",
    "\n",
    "mi_cursor = mi_conn.cursor()\n",
    "\n",
    "mi_cursor.execute('SELECT * FROM mi_cannabis.dbo.mi_main')\n",
    "\n",
    "mi_cursor.execute('''\n",
    "Update t1\n",
    "SET t1.[license_status] = t2.[license_status],\n",
    "    t1.[license_description] = t2.[license_description],\n",
    "    t1.[expiration_date] = t2.[expiration_date],\n",
    "    t1.[is_current] = t2.[is_current]\n",
    "    \n",
    "FROM [mi_cannabis].[dbo].[mi_main] as t1\n",
    "INNER JOIN [mi_cannabis].[dbo].[mi_main_alter] as t2\n",
    "ON t1.[license_number] = t2.[license_number];\n",
    "                  ''')\n",
    "\n",
    "mi_conn.commit()"
   ]
  },
  {
   "cell_type": "code",
   "execution_count": null,
   "metadata": {},
   "outputs": [],
   "source": []
  },
  {
   "cell_type": "code",
   "execution_count": null,
   "metadata": {},
   "outputs": [],
   "source": []
  },
  {
   "cell_type": "markdown",
   "metadata": {},
   "source": [
    "### Move to all_main"
   ]
  },
  {
   "cell_type": "code",
   "execution_count": null,
   "metadata": {},
   "outputs": [],
   "source": []
  },
  {
   "cell_type": "code",
   "execution_count": null,
   "metadata": {},
   "outputs": [],
   "source": [
    "# This creates the connection to the all_main file in SQL\n",
    "\n",
    "all_cannabis_params = urllib.parse.quote_plus(\"DRIVER={ODBC Driver 17 for SQL Server};\"\n",
    "                                 \"SERVER=bespoke-database-1.cmevrozrcs7c.us-west-2.rds.amazonaws.com;\"\n",
    "                                 \"DATABASE=all_cannabis;\"\n",
    "                                 \"UID=admin;\"\n",
    "                                 \"PWD=N19lrqxnurTUJLJT6GFe\")\n",
    "all_cannabis_con = create_engine(\"mssql+pyodbc:///?odbc_connect={}\".format(all_cannabis_params))"
   ]
  },
  {
   "cell_type": "code",
   "execution_count": null,
   "metadata": {},
   "outputs": [],
   "source": []
  },
  {
   "cell_type": "code",
   "execution_count": null,
   "metadata": {},
   "outputs": [],
   "source": [
    "# This reads in the all_main data and narrows it down to the relevent data\n",
    "all_main_sql = pd.read_sql('all_main', con=all_cannabis_con)\n",
    "mi_main_sql = all_main_sql[all_main_sql['us_state'] == 'MI']\n",
    "mi_main_sql = mi_main_sql.reset_index().drop(columns='index')"
   ]
  },
  {
   "cell_type": "code",
   "execution_count": null,
   "metadata": {},
   "outputs": [],
   "source": [
    "# This re-reads in and merges the ca_annabis data in SQL\n",
    "updated_mi_main = pd.read_sql('mi_main', con=engine_con)\n",
    "updated_mi_roll = pd.read_sql('mi_roll', con=engine_con)\n",
    "updated_mi_cannabis = updated_mi_main.merge(updated_mi_roll, on='license_number')"
   ]
  },
  {
   "cell_type": "code",
   "execution_count": null,
   "metadata": {},
   "outputs": [],
   "source": [
    "mi_main_sql"
   ]
  },
  {
   "cell_type": "code",
   "execution_count": null,
   "metadata": {},
   "outputs": [],
   "source": []
  },
  {
   "cell_type": "code",
   "execution_count": null,
   "metadata": {},
   "outputs": [],
   "source": [
    "updated_mi_cannabis"
   ]
  },
  {
   "cell_type": "code",
   "execution_count": null,
   "metadata": {},
   "outputs": [],
   "source": []
  },
  {
   "cell_type": "code",
   "execution_count": null,
   "metadata": {},
   "outputs": [],
   "source": [
    "updated_mi_cannabis['us_state'] = 'MI'"
   ]
  },
  {
   "cell_type": "code",
   "execution_count": null,
   "metadata": {},
   "outputs": [],
   "source": [
    "updated_mi_cannabis['license_category'] = ''\n",
    "\n",
    "for n in range(len(updated_mi_cannabis)):\n",
    "    if updated_mi_cannabis['license_description'].iloc[n] in ['Class A Grower – License', 'Class B Grower – License', 'Class C Grower – License',\n",
    "                                                             'Class A Marihuana Grower - License', 'Class B Marihuana Grower - License', 'Class C Marihuana Grower - License', \n",
    "                                                             'Excess Marihuana Grower - License', 'Grower License – Class C – 1500 Plants – License']:\n",
    "        updated_mi_cannabis['license_category'].iloc[n] = 'Cultivator'\n",
    "        \n",
    "    elif updated_mi_cannabis['license_description'].iloc[n] in ['Marihuana Retailer - License', 'Provisioning Center - License']:\n",
    "        updated_mi_cannabis['license_category'].iloc[n] = 'Retailer'\n",
    "        \n",
    "    elif updated_mi_cannabis['license_description'].iloc[n] in ['Processor - License', 'Marihuana Processor - License']:\n",
    "        updated_mi_cannabis['license_category'].iloc[n] = 'Manufacturer'\n",
    "        \n",
    "    elif updated_mi_cannabis['license_description'].iloc[n] in ['Secure Transporter - License', 'Marihuana Secure Transporter - License']:\n",
    "        updated_mi_cannabis['license_category'].iloc[n] = 'Distributor'\n",
    "    \n",
    "    elif updated_mi_cannabis['license_description'].iloc[n] in ['Safety Compliance - License', 'Marihuana Safety Compliance Facility - License']:\n",
    "        updated_mi_cannabis['license_category'].iloc[n] = 'Laboratory'\n",
    "    \n",
    "    elif updated_mi_cannabis['license_description'].iloc[n] in ['Marihuana Microbusiness - License']:\n",
    "        updated_mi_cannabis['license_category'].iloc[n] = 'Multiple'\n",
    "\n",
    "    elif updated_mi_cannabis['license_description'].iloc[n] in ['Entity Prequalification', 'Individual Prequalification',\n",
    "                                                                'Adult-Use Entity Registration - License', 'Sole Proprietor Registration - License',\n",
    "                                                                'Marihuana Event Organizer - License', 'Temporary Marihuana Event - License']:\n",
    "        updated_mi_cannabis['license_category'].iloc[n] = 'Other'"
   ]
  },
  {
   "cell_type": "code",
   "execution_count": null,
   "metadata": {},
   "outputs": [],
   "source": [
    "updated_mi_cannabis[updated_mi_cannabis['license_category'] == '']['license_description'].value_counts()"
   ]
  },
  {
   "cell_type": "code",
   "execution_count": null,
   "metadata": {},
   "outputs": [],
   "source": []
  },
  {
   "cell_type": "code",
   "execution_count": null,
   "metadata": {},
   "outputs": [],
   "source": [
    "updated_mi_cannabis[updated_mi_cannabis['license_description'] == 'Adult-Use Entity Registration - License']"
   ]
  },
  {
   "cell_type": "code",
   "execution_count": null,
   "metadata": {},
   "outputs": [],
   "source": []
  },
  {
   "cell_type": "code",
   "execution_count": null,
   "metadata": {},
   "outputs": [],
   "source": [
    "not_in_all_main = []\n",
    "\n",
    "for lic in list(updated_mi_cannabis['license_number'].unique()):\n",
    "    if lic not in list(mi_main_sql['license_number'].unique()):\n",
    "        not_in_all_main.append(lic)\n",
    "        \n",
    "new_all_main = updated_mi_cannabis[updated_mi_cannabis['license_number'].isin(not_in_all_main)]"
   ]
  },
  {
   "cell_type": "code",
   "execution_count": null,
   "metadata": {},
   "outputs": [],
   "source": []
  },
  {
   "cell_type": "code",
   "execution_count": null,
   "metadata": {},
   "outputs": [],
   "source": [
    "new_all_main = new_all_main[['license_number', 'roll_up_id', 'name_legal', 'license_status', 'is_current', 'license_description', 'us_state', 'license_category', 'expiration_date']]"
   ]
  },
  {
   "cell_type": "code",
   "execution_count": null,
   "metadata": {},
   "outputs": [],
   "source": [
    "new_all_main.head()"
   ]
  },
  {
   "cell_type": "code",
   "execution_count": null,
   "metadata": {},
   "outputs": [],
   "source": [
    "new_all_main.dtypes"
   ]
  },
  {
   "cell_type": "code",
   "execution_count": null,
   "metadata": {},
   "outputs": [],
   "source": [
    "new_all_main[new_all_main['is_current'].isnull()]"
   ]
  },
  {
   "cell_type": "code",
   "execution_count": null,
   "metadata": {},
   "outputs": [],
   "source": [
    "new_all_main.shape"
   ]
  },
  {
   "cell_type": "code",
   "execution_count": null,
   "metadata": {},
   "outputs": [],
   "source": []
  },
  {
   "cell_type": "code",
   "execution_count": null,
   "metadata": {},
   "outputs": [],
   "source": [
    "# Because we renamed the all_main columns, just need to touch this up fast\n",
    "new_all_main = new_all_main.rename(columns={'roll_up_id':'rollup_id', 'name_legal':'legal_name'})"
   ]
  },
  {
   "cell_type": "code",
   "execution_count": null,
   "metadata": {},
   "outputs": [],
   "source": []
  },
  {
   "cell_type": "code",
   "execution_count": null,
   "metadata": {},
   "outputs": [],
   "source": [
    "new_all_main.to_sql('all_main', con=all_cannabis_con, if_exists='append', index=False)"
   ]
  },
  {
   "cell_type": "code",
   "execution_count": null,
   "metadata": {},
   "outputs": [],
   "source": []
  },
  {
   "cell_type": "markdown",
   "metadata": {},
   "source": [
    "### main_alter for all_main"
   ]
  },
  {
   "cell_type": "code",
   "execution_count": null,
   "metadata": {},
   "outputs": [],
   "source": []
  },
  {
   "cell_type": "code",
   "execution_count": null,
   "metadata": {},
   "outputs": [],
   "source": [
    "mi_main_sql['expiration_date'] = pd.to_datetime(mi_main_sql['expiration_date']).dt.strftime(\"%m/%d/%y\")\n",
    "updated_mi_cannabis['expiration_date'] = pd.to_datetime(updated_mi_cannabis['expiration_date']).dt.strftime(\"%m/%d/%y\")"
   ]
  },
  {
   "cell_type": "code",
   "execution_count": null,
   "metadata": {},
   "outputs": [],
   "source": []
  },
  {
   "cell_type": "code",
   "execution_count": null,
   "metadata": {},
   "outputs": [],
   "source": [
    "mi_all_main_for_alter_list = []\n",
    "\n",
    "for lic in list(mi_main_sql['license_number'].unique()):\n",
    "    if list(mi_main_sql[mi_main_sql['license_number'] == lic]['is_current'])[0] != list(updated_mi_cannabis[updated_mi_cannabis['license_number'] == lic]['is_current'])[0]:\n",
    "        print(lic, 'is_current')\n",
    "        mi_all_main_for_alter_list.append(lic)\n",
    "    elif list(mi_main_sql[mi_main_sql['license_number'] == lic]['expiration_date'])[0] != list(updated_mi_cannabis[updated_mi_cannabis['license_number'] == lic]['expiration_date'])[0]:\n",
    "        print(lic, 'expiration_date')\n",
    "        mi_all_main_for_alter_list.append(lic)\n",
    "    elif list(mi_main_sql[mi_main_sql['license_number'] == lic]['rollup_id'])[0] != list(updated_mi_cannabis[updated_mi_cannabis['license_number'] == lic]['roll_up_id'])[0]:\n",
    "        print(lic, 'roll_up_id')\n",
    "        mi_all_main_for_alter_list.append(lic)\n",
    "    elif list(mi_main_sql[mi_main_sql['license_number'] == lic]['license_status'])[0] != list(updated_mi_cannabis[updated_mi_cannabis['license_number'] == lic]['license_status'])[0]:\n",
    "        print(lic, 'license_status')\n",
    "        mi_all_main_for_alter_list.append(lic)\n",
    "    elif list(mi_main_sql[mi_main_sql['license_number'] == lic]['license_description'])[0] != list(updated_mi_cannabis[updated_mi_cannabis['license_number'] == lic]['license_description'])[0]:\n",
    "        print(lic, 'license_description')\n",
    "        mi_all_main_for_alter_list.append(lic)\n",
    "    elif list(mi_main_sql[mi_main_sql['license_number'] == lic]['license_category'])[0] != list(updated_mi_cannabis[updated_mi_cannabis['license_number'] == lic]['license_category'])[0]:\n",
    "        print(lic, 'license_category')\n",
    "        mi_all_main_for_alter_list.append(lic)\n",
    "        \n",
    "mi_all_main_for_alter_df = updated_mi_cannabis[updated_mi_cannabis['license_number'].isin(mi_all_main_for_alter_list)]"
   ]
  },
  {
   "cell_type": "code",
   "execution_count": null,
   "metadata": {},
   "outputs": [],
   "source": [
    "mi_all_main_for_alter_df"
   ]
  },
  {
   "cell_type": "code",
   "execution_count": null,
   "metadata": {},
   "outputs": [],
   "source": [
    "mi_all_main_for_alter_df.shape"
   ]
  },
  {
   "cell_type": "code",
   "execution_count": null,
   "metadata": {},
   "outputs": [],
   "source": []
  },
  {
   "cell_type": "code",
   "execution_count": null,
   "metadata": {},
   "outputs": [],
   "source": [
    "mi_all_main_for_alter_df = mi_all_main_for_alter_df.rename(columns={'name_legal':'legal_name', 'roll_up_id':'rollup_id'})"
   ]
  },
  {
   "cell_type": "code",
   "execution_count": null,
   "metadata": {},
   "outputs": [],
   "source": [
    "mi_all_main_for_alter_df.to_sql('mi_to_alter', con=all_cannabis_con, if_exists='replace' ,index=False)"
   ]
  },
  {
   "cell_type": "code",
   "execution_count": null,
   "metadata": {},
   "outputs": [],
   "source": []
  },
  {
   "cell_type": "code",
   "execution_count": null,
   "metadata": {},
   "outputs": [],
   "source": [
    "# And this code runs the query to update the all_main table with the mi_to_alter table\n",
    "\n",
    "all_conn = pyodbc.connect('DRIVER={ODBC Driver 17 for SQL Server};'\n",
    "                      'SERVER=bespoke-database-1.cmevrozrcs7c.us-west-2.rds.amazonaws.com;'\n",
    "                      'DATABASE=all_cannabis;'\n",
    "                      'UID=admin;'\n",
    "                      'PWD=N19lrqxnurTUJLJT6GFe;')\n",
    "\n",
    "all_cursor = all_conn.cursor()\n",
    "\n",
    "all_cursor.execute('SELECT * FROM all_cannabis.dbo.all_main')\n",
    "\n",
    "all_cursor.execute('''\n",
    "Update t1\n",
    "SET t1.[license_status] = t2.[license_status],\n",
    "    t1.[license_description] = t2.[license_description],\n",
    "    t1.[license_category] = t2.[license_category],\n",
    "    t1.[is_current] = t2.[is_current],\n",
    "    t1.[rollup_id] = t2.[rollup_id],\n",
    "    t1.[expiration_date] = t2.[expiration_date]\n",
    "FROM [all_cannabis].[dbo].[all_main] as t1\n",
    "INNER JOIN [all_cannabis].[dbo].[mi_to_alter] as t2\n",
    "ON t1.[license_number] = t2.[license_number];\n",
    "''')\n",
    "\n",
    "all_conn.commit()"
   ]
  },
  {
   "cell_type": "code",
   "execution_count": null,
   "metadata": {},
   "outputs": [],
   "source": []
  },
  {
   "cell_type": "code",
   "execution_count": null,
   "metadata": {},
   "outputs": [],
   "source": []
  },
  {
   "cell_type": "code",
   "execution_count": null,
   "metadata": {},
   "outputs": [],
   "source": []
  },
  {
   "cell_type": "markdown",
   "metadata": {},
   "source": [
    "### Bespoke/Metabase"
   ]
  },
  {
   "cell_type": "code",
   "execution_count": null,
   "metadata": {},
   "outputs": [],
   "source": []
  },
  {
   "cell_type": "code",
   "execution_count": null,
   "metadata": {},
   "outputs": [],
   "source": [
    "new_main = new_all_main.append(mi_all_main_for_alter_df).reset_index().drop(columns='index')"
   ]
  },
  {
   "cell_type": "code",
   "execution_count": null,
   "metadata": {},
   "outputs": [],
   "source": [
    "new_main['expiration_date'] = new_main['expiration_date'].astype(str)"
   ]
  },
  {
   "cell_type": "code",
   "execution_count": null,
   "metadata": {},
   "outputs": [],
   "source": [
    "new_main.shape"
   ]
  },
  {
   "cell_type": "code",
   "execution_count": null,
   "metadata": {},
   "outputs": [],
   "source": []
  },
  {
   "cell_type": "code",
   "execution_count": null,
   "metadata": {},
   "outputs": [],
   "source": [
    "num_of_lic_sent = 0\n",
    "\n",
    "us_state = 'MI'\n",
    "\n",
    "while len(new_main) - num_of_lic_sent >= 10:\n",
    "\n",
    "    n = num_of_lic_sent\n",
    "    \n",
    "    if new_main['is_current'].iloc[n] == 1:\n",
    "        is_current_1 = True\n",
    "    else:\n",
    "        is_current_1 = False\n",
    "            \n",
    "    if new_main['is_current'].iloc[n+1] == 1:\n",
    "        is_current_2 = True\n",
    "    else:\n",
    "        is_current_2 = False\n",
    "          \n",
    "    if new_main['is_current'].iloc[n+2] == 1:\n",
    "        is_current_3 = True\n",
    "    else:\n",
    "        is_current_3 = False\n",
    "            \n",
    "    if new_main['is_current'].iloc[n+3] == 1:\n",
    "        is_current_4 = True\n",
    "    else:\n",
    "        is_current_4 = False\n",
    "            \n",
    "    if new_main['is_current'].iloc[n+4] == 1:\n",
    "        is_current_5 = True\n",
    "    else:\n",
    "        is_current_5 = False\n",
    "            \n",
    "    if new_main['is_current'].iloc[n+5] == 1:\n",
    "        is_current_6 = True\n",
    "    else:\n",
    "        is_current_6 = False\n",
    "            \n",
    "    if new_main['is_current'].iloc[n+6] == 1:\n",
    "        is_current_7 = True\n",
    "    else:\n",
    "        is_current_7 = False\n",
    "            \n",
    "    if new_main['is_current'].iloc[n+7] == 1:\n",
    "        is_current_8 = True\n",
    "    else:\n",
    "        is_current_8 = False\n",
    "            \n",
    "    if new_main['is_current'].iloc[n+8] == 1:\n",
    "        is_current_9 = True\n",
    "    else:\n",
    "        is_current_9 = False\n",
    "            \n",
    "    if new_main['is_current'].iloc[n+9] == 1:\n",
    "        is_current_10 = True\n",
    "    else:\n",
    "        is_current_10 = False\n",
    "            \n",
    "\n",
    "    requests.post(\n",
    "#             'https://bespoke-api-server-staging.herokuapp.com/api/v1/licenses/bulk_update_licenses',\n",
    "            'https://bespoke-api-server-production.herokuapp.com/api/v1/licenses/bulk_update_licenses',\n",
    "            json= {\n",
    "          'company_licenses': [\n",
    "              \n",
    "              {\n",
    "            'license_number': new_main['license_number'][n],\n",
    "            'rollup_id': new_main['rollup_id'][n],\n",
    "            'legal_name': new_main['legal_name'][n],\n",
    "            'license_status': new_main['license_status'][n],\n",
    "            'is_current': is_current_1,\n",
    "            'license_description': new_main['license_description'][n],\n",
    "            'us_state': us_state,\n",
    "            'expiration_date': new_main['expiration_date'][n],\n",
    "            'license_category': new_main['license_category'][n]\n",
    "            },\n",
    "            \n",
    "              \n",
    "              {\n",
    "            'license_number': new_main['license_number'][n+1],\n",
    "            'rollup_id': new_main['rollup_id'][n+1],\n",
    "            'legal_name': new_main['legal_name'][n+1],\n",
    "            'license_status': new_main['license_status'][n+1],\n",
    "            'is_current': is_current_2,\n",
    "            'license_description': new_main['license_description'][n+1],\n",
    "            'us_state': us_state,\n",
    "            'expiration_date': new_main['expiration_date'][n+1],\n",
    "            'license_category': new_main['license_category'][n+1]\n",
    "            },\n",
    "              \n",
    "              \n",
    "              {\n",
    "            'license_number': new_main['license_number'][n+2],\n",
    "            'rollup_id': new_main['rollup_id'][n+2],\n",
    "            'legal_name': new_main['legal_name'][n+2],\n",
    "            'license_status': new_main['license_status'][n+2],\n",
    "            'is_current': is_current_3,\n",
    "            'license_description': new_main['license_description'][n+2],\n",
    "            'us_state': us_state,\n",
    "            'expiration_date': new_main['expiration_date'][n+2],\n",
    "            'license_category': new_main['license_category'][n+2]\n",
    "            },\n",
    "\n",
    "              \n",
    "              {\n",
    "            'license_number': new_main['license_number'][n+3],\n",
    "            'rollup_id': new_main['rollup_id'][n+3],\n",
    "            'legal_name': new_main['legal_name'][n+3],\n",
    "            'license_status': new_main['license_status'][n+3],\n",
    "            'is_current': is_current_4,\n",
    "            'license_description': new_main['license_description'][n+3],\n",
    "            'us_state': us_state,\n",
    "            'expiration_date': new_main['expiration_date'][n+3],\n",
    "            'license_category': new_main['license_category'][n+3]\n",
    "            },\n",
    "              \n",
    "              \n",
    "              {\n",
    "            'license_number': new_main['license_number'][n+4],\n",
    "            'rollup_id': new_main['rollup_id'][n+4],\n",
    "            'legal_name': new_main['legal_name'][n+4],\n",
    "            'license_status': new_main['license_status'][n+4],\n",
    "            'is_current': is_current_5,\n",
    "            'license_description': new_main['license_description'][n+4],\n",
    "            'us_state': us_state,\n",
    "            'expiration_date': new_main['expiration_date'][n+4],\n",
    "            'license_category': new_main['license_category'][n+4]\n",
    "            },\n",
    "              \n",
    "              \n",
    "              {\n",
    "            'license_number': new_main['license_number'][n+5],\n",
    "            'rollup_id': new_main['rollup_id'][n+5],\n",
    "            'legal_name': new_main['legal_name'][n+5],\n",
    "            'license_status': new_main['license_status'][n+5],\n",
    "            'is_current': is_current_6,\n",
    "            'license_description': new_main['license_description'][n+5],\n",
    "            'us_state': us_state,\n",
    "            'expiration_date': new_main['expiration_date'][n+5],\n",
    "            'license_category': new_main['license_category'][n+5]\n",
    "            },\n",
    "\n",
    "              \n",
    "              {\n",
    "            'license_number': new_main['license_number'][n+6],\n",
    "            'rollup_id': new_main['rollup_id'][n+6],\n",
    "            'legal_name': new_main['legal_name'][n+6],\n",
    "            'license_status': new_main['license_status'][n+6],\n",
    "            'is_current': is_current_7,\n",
    "            'license_description': new_main['license_description'][n+6],\n",
    "            'us_state': us_state,\n",
    "            'expiration_date': new_main['expiration_date'][n+6],\n",
    "            'license_category': new_main['license_category'][n+6]\n",
    "            },\n",
    "              \n",
    "              \n",
    "              {\n",
    "            'license_number': new_main['license_number'][n+7],\n",
    "            'rollup_id': new_main['rollup_id'][n+7],\n",
    "            'legal_name': new_main['legal_name'][n+7],\n",
    "            'license_status': new_main['license_status'][n+7],\n",
    "            'is_current': is_current_8,\n",
    "            'license_description': new_main['license_description'][n+7],\n",
    "            'us_state': us_state,\n",
    "            'expiration_date': new_main['expiration_date'][n+7],\n",
    "            'license_category': new_main['license_category'][n+7]\n",
    "            },\n",
    "              \n",
    "              \n",
    "              {\n",
    "            'license_number': new_main['license_number'][n+8],\n",
    "            'rollup_id': new_main['rollup_id'][n+8],\n",
    "            'legal_name': new_main['legal_name'][n+8],\n",
    "            'license_status': new_main['license_status'][n+8],\n",
    "            'is_current': is_current_9,\n",
    "            'license_description': new_main['license_description'][n+8],\n",
    "            'us_state': us_state,\n",
    "            'expiration_date': new_main['expiration_date'][n+8],\n",
    "            'license_category': new_main['license_category'][n+8]\n",
    "            },\n",
    "\n",
    "              \n",
    "              {\n",
    "            'license_number': new_main['license_number'][n+9],\n",
    "            'rollup_id': new_main['rollup_id'][n+9],\n",
    "            'legal_name': new_main['legal_name'][n+9],\n",
    "            'license_status': new_main['license_status'][n+9],\n",
    "            'is_current': is_current_10,\n",
    "            'license_description': new_main['license_description'][n+9],\n",
    "            'us_state': us_state,\n",
    "            'expiration_date': new_main['expiration_date'][n+9],\n",
    "            'license_category': new_main['license_category'][n+9]\n",
    "            },\n",
    "\n",
    "              \n",
    "          ],\n",
    "        },\n",
    "            headers={'x-api-key': 'ASYNC-SERVER-API-KEY-6Lfy84qn9ew93ZwMXSYhdwqj'}\n",
    "    )\n",
    "        \n",
    "    num_of_lic_sent += 10\n",
    "        \n",
    "    time.sleep(5)\n",
    "    \n",
    "    print(num_of_lic_sent)\n",
    "    \n",
    "    \n",
    "    \n",
    "        \n",
    "if len(new_main) - num_of_lic_sent < 10:\n",
    "            \n",
    "    for n in range(num_of_lic_sent, len(new_main)):\n",
    "    \n",
    "        if new_main['is_current'].iloc[n] == 1:\n",
    "            is_current = True\n",
    "        else:\n",
    "            is_current = False\n",
    "                    \n",
    "                    \n",
    "        requests.post(\n",
    "                'https://bespoke-api-server-production.herokuapp.com/api/v1/licenses/bulk_update_licenses',\n",
    "                json= {\n",
    "                'company_licenses': [\n",
    "              \n",
    "                                      {\n",
    "                                        'license_number': new_main['license_number'].iloc[n],\n",
    "                                        'rollup_id': new_main['rollup_id'].iloc[n],\n",
    "                                        'legal_name': new_main['legal_name'].iloc[n],\n",
    "                                        'license_status': new_main['license_status'].iloc[n],\n",
    "                                        'is_current': is_current,\n",
    "                                        'license_description': new_main['license_description'].iloc[n],\n",
    "                                        'us_state': us_state,\n",
    "                                        'expiration_date': new_main['expiration_date'].iloc[n],\n",
    "                                        'license_category': new_main['license_category'].iloc[n]\n",
    "                                    },\n",
    "                                  ],\n",
    "                                },\n",
    "                                    headers={'x-api-key': 'ASYNC-SERVER-API-KEY-6Lfy84qn9ew93ZwMXSYhdwqj'}\n",
    "                            )\n",
    "        \n",
    "        num_of_lic_sent += 1\n",
    "        \n",
    "        print(num_of_lic_sent)"
   ]
  },
  {
   "cell_type": "code",
   "execution_count": null,
   "metadata": {},
   "outputs": [],
   "source": []
  },
  {
   "cell_type": "code",
   "execution_count": null,
   "metadata": {},
   "outputs": [],
   "source": []
  },
  {
   "cell_type": "code",
   "execution_count": null,
   "metadata": {},
   "outputs": [],
   "source": []
  },
  {
   "cell_type": "code",
   "execution_count": null,
   "metadata": {},
   "outputs": [],
   "source": [
    "metabase_json = pd.read_json('query_result_2021-09-30T15_03_41.105Z.json')"
   ]
  },
  {
   "cell_type": "code",
   "execution_count": null,
   "metadata": {},
   "outputs": [],
   "source": [
    "for lic in new_main['license_number'].unique():\n",
    "    if lic not in metabase_json['License Number'].unique():\n",
    "        print(lic)"
   ]
  },
  {
   "cell_type": "code",
   "execution_count": null,
   "metadata": {},
   "outputs": [],
   "source": []
  },
  {
   "cell_type": "code",
   "execution_count": null,
   "metadata": {},
   "outputs": [],
   "source": [
    "new_main[new_main['license_number'] == 'AU-SP-000172']"
   ]
  },
  {
   "cell_type": "code",
   "execution_count": null,
   "metadata": {},
   "outputs": [],
   "source": []
  },
  {
   "cell_type": "code",
   "execution_count": null,
   "metadata": {},
   "outputs": [],
   "source": []
  },
  {
   "cell_type": "code",
   "execution_count": null,
   "metadata": {},
   "outputs": [],
   "source": []
  }
 ],
 "metadata": {
  "kernelspec": {
   "display_name": "Python 3",
   "language": "python",
   "name": "python3"
  },
  "language_info": {
   "codemirror_mode": {
    "name": "ipython",
    "version": 3
   },
   "file_extension": ".py",
   "mimetype": "text/x-python",
   "name": "python",
   "nbconvert_exporter": "python",
   "pygments_lexer": "ipython3",
   "version": "3.7.3"
  }
 },
 "nbformat": 4,
 "nbformat_minor": 2
}
