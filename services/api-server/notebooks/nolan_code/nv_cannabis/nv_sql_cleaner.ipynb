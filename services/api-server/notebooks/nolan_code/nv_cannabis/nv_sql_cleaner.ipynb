{
 "cells": [
  {
   "cell_type": "code",
   "execution_count": null,
   "metadata": {},
   "outputs": [],
   "source": [
    "import pandas as pd\n",
    "import pyodbc\n",
    "import pymssql\n",
    "from pathlib import Path\n",
    "from sqlalchemy import create_engine\n",
    "import numpy as np\n",
    "import urllib\n",
    "import datetime as dt\n",
    "import re"
   ]
  },
  {
   "cell_type": "code",
   "execution_count": null,
   "metadata": {},
   "outputs": [],
   "source": [
    "# Read in base file\n",
    "# This is where the link's at https://ccb.nv.gov/"
   ]
  },
  {
   "cell_type": "code",
   "execution_count": null,
   "metadata": {},
   "outputs": [],
   "source": [
    "pd.options.display.min_rows = 50\n",
    "pd.options.display.max_colwidth = 100"
   ]
  },
  {
   "cell_type": "code",
   "execution_count": null,
   "metadata": {},
   "outputs": [],
   "source": []
  },
  {
   "cell_type": "code",
   "execution_count": null,
   "metadata": {},
   "outputs": [],
   "source": [
    "# Change this to the date in the Excel file\n",
    "\n",
    "update_date = dt.date(2021, 9, 23)"
   ]
  },
  {
   "cell_type": "code",
   "execution_count": null,
   "metadata": {},
   "outputs": [],
   "source": [
    "# Don't know if I need to do this, but it makes it a little easier anyway\n",
    "\n",
    "update_year = update_date.year\n",
    "update_month = update_date.strftime(\"%m\")\n",
    "update_month_name = update_date.strftime(\"%B\")"
   ]
  },
  {
   "cell_type": "code",
   "execution_count": null,
   "metadata": {},
   "outputs": [],
   "source": [
    "nev_licenses = pd.read_excel(f'license_repository/{update_year}_{update_month}.xlsx',header=1)"
   ]
  },
  {
   "cell_type": "code",
   "execution_count": null,
   "metadata": {},
   "outputs": [],
   "source": []
  },
  {
   "cell_type": "code",
   "execution_count": null,
   "metadata": {},
   "outputs": [],
   "source": [
    "nev_licenses.head()"
   ]
  },
  {
   "cell_type": "code",
   "execution_count": null,
   "metadata": {},
   "outputs": [],
   "source": []
  },
  {
   "cell_type": "code",
   "execution_count": null,
   "metadata": {},
   "outputs": [],
   "source": []
  },
  {
   "cell_type": "markdown",
   "metadata": {},
   "source": [
    "### SQL Connection"
   ]
  },
  {
   "cell_type": "code",
   "execution_count": null,
   "metadata": {},
   "outputs": [],
   "source": [
    "# # Typing the driver directly into the create_engine kept not working, so I'm trying it this way\n",
    "# driver=\"ODBC Driver 17 for SQL Server\"\n",
    "# engine = create_engine(f'mssql://LAPTOP-E6QKON1L/nv_cannabis?driver={driver}')\n",
    "# engine_con = engine.connect()"
   ]
  },
  {
   "cell_type": "code",
   "execution_count": null,
   "metadata": {},
   "outputs": [],
   "source": [
    "# This creates the connection to the Bespoke Engine's Oregon Cannabis files in SQL\n",
    "params = urllib.parse.quote_plus(\"DRIVER={ODBC Driver 17 for SQL Server};\"\n",
    "                                 \"SERVER=bespoke-database-1.cmevrozrcs7c.us-west-2.rds.amazonaws.com;\"\n",
    "                                 \"DATABASE=nv_cannabis;\"\n",
    "                                 \"UID=admin;\"\n",
    "                                 \"PWD=N19lrqxnurTUJLJT6GFe\")\n",
    "engine = create_engine(\"mssql+pyodbc:///?odbc_connect={}\".format(params))\n",
    "engine_con = engine.connect()"
   ]
  },
  {
   "cell_type": "code",
   "execution_count": null,
   "metadata": {},
   "outputs": [],
   "source": []
  },
  {
   "cell_type": "code",
   "execution_count": null,
   "metadata": {},
   "outputs": [],
   "source": []
  },
  {
   "cell_type": "code",
   "execution_count": null,
   "metadata": {},
   "outputs": [],
   "source": []
  },
  {
   "cell_type": "markdown",
   "metadata": {},
   "source": [
    "### Rename and Add Columns"
   ]
  },
  {
   "cell_type": "code",
   "execution_count": null,
   "metadata": {},
   "outputs": [],
   "source": []
  },
  {
   "cell_type": "code",
   "execution_count": null,
   "metadata": {},
   "outputs": [],
   "source": [
    "# This renames the columns that will be staying and ignores the others\n",
    "\n",
    "nev_licenses.columns = ['license_number', 'name_legal', 'me_id', 'license_description']"
   ]
  },
  {
   "cell_type": "code",
   "execution_count": null,
   "metadata": {},
   "outputs": [],
   "source": [
    "nev_licenses['is_current'] = 1"
   ]
  },
  {
   "cell_type": "code",
   "execution_count": null,
   "metadata": {},
   "outputs": [],
   "source": []
  },
  {
   "cell_type": "code",
   "execution_count": null,
   "metadata": {},
   "outputs": [],
   "source": []
  },
  {
   "cell_type": "markdown",
   "metadata": {},
   "source": [
    "### License Types"
   ]
  },
  {
   "cell_type": "code",
   "execution_count": null,
   "metadata": {},
   "outputs": [],
   "source": []
  },
  {
   "cell_type": "code",
   "execution_count": null,
   "metadata": {},
   "outputs": [],
   "source": [
    "# # This creates a list of all of the different license types\n",
    "\n",
    "# all_license_types = list(nev_licenses['License Type'].unique())"
   ]
  },
  {
   "cell_type": "code",
   "execution_count": null,
   "metadata": {},
   "outputs": [],
   "source": [
    "# # This creates a function to create and fill the columns\n",
    "\n",
    "# def create_license_type_col(lic_type):\n",
    "#     col_name = lic_type.lower().replace(' ', '_')\n",
    "#     nev_licenses[col_name] = ''\n",
    "#     for n in range(len(nev_licenses)):\n",
    "#         nev_licenses[col_name][n] = int(nev_licenses['License Type'][n] == lic_type)"
   ]
  },
  {
   "cell_type": "code",
   "execution_count": null,
   "metadata": {},
   "outputs": [],
   "source": [
    "# # This runs the function for all of the license types\n",
    "\n",
    "# for types in all_license_types:\n",
    "#     create_license_type_col(types)"
   ]
  },
  {
   "cell_type": "code",
   "execution_count": null,
   "metadata": {},
   "outputs": [],
   "source": [
    "# # Don't need this any more\n",
    "\n",
    "# nev_licenses = nev_licenses.drop(columns=['License Type'])"
   ]
  },
  {
   "cell_type": "code",
   "execution_count": null,
   "metadata": {},
   "outputs": [],
   "source": []
  },
  {
   "cell_type": "code",
   "execution_count": null,
   "metadata": {},
   "outputs": [],
   "source": []
  },
  {
   "cell_type": "markdown",
   "metadata": {},
   "source": [
    "### Name Legal Clean"
   ]
  },
  {
   "cell_type": "code",
   "execution_count": null,
   "metadata": {},
   "outputs": [],
   "source": []
  },
  {
   "cell_type": "code",
   "execution_count": null,
   "metadata": {},
   "outputs": [],
   "source": [
    "df_all = nev_licenses"
   ]
  },
  {
   "cell_type": "code",
   "execution_count": null,
   "metadata": {},
   "outputs": [],
   "source": []
  },
  {
   "cell_type": "code",
   "execution_count": null,
   "metadata": {},
   "outputs": [],
   "source": [
    "# df_all['name_legal_clean'] = df_all['name_legal']\n",
    "\n",
    "# pd.set_option('mode.chained_assignment', None)\n",
    "\n",
    "# df_all['name_legal_clean'] = df_all['name_legal_clean'].str.lower() \n",
    "# df_all['name_legal_clean'] = df_all['name_legal_clean'].str.replace(r\"\\b, inc.\\b\", \"\")\n",
    "# df_all['name_legal_clean'] = df_all['name_legal_clean'].str.replace(r\"\\binc.\\b\", \"\")\n",
    "# df_all['name_legal_clean'] = df_all['name_legal_clean'].str.replace(r\"\\binc\\b\", \"\")\n",
    "# df_all['name_legal_clean'] = df_all['name_legal_clean'].str.replace(r\"\\b, llc.\\b\", \"\") \n",
    "# df_all['name_legal_clean'] = df_all['name_legal_clean'].str.replace(r\"\\b, llc\\b\", \"\")\n",
    "# df_all['name_legal_clean'] = df_all['name_legal_clean'].str.replace(r\"\\b, l.l.c.\\b\", \"\") \n",
    "# df_all['name_legal_clean'] = df_all['name_legal_clean'].str.replace(r\"\\bllc\\b\", \"\")\n",
    "# df_all['name_legal_clean'] = df_all['name_legal_clean'].str.replace(r\"\\bcorp.\\b\", \"\")\n",
    "# df_all['name_legal_clean'] = df_all['name_legal_clean'].str.replace(r\"\\bcorp\\b\", \"\")\n",
    "# df_all['name_legal_clean'] = df_all['name_legal_clean'].str.replace(r\"\\bcorporation\\b\", \"\")\n",
    "# df_all['name_legal_clean'] = df_all['name_legal_clean'].str.replace(r\"\\bco.\\b\", \"\")\n",
    "# df_all['name_legal_clean'] = df_all['name_legal_clean'].str.replace(r\"\\bco\\b\", \"\")\n",
    "# df_all['name_legal_clean'] = df_all['name_legal_clean'].str.replace(\",\", \"\")\n",
    "# df_all['name_legal_clean'] = df_all['name_legal_clean'].str.replace(\".\", \"\")\n",
    "# df_all['name_legal_clean'] = df_all['name_legal_clean'].str.replace(\"'\", \"\")\n",
    "# df_all['name_legal_clean'] = df_all['name_legal_clean'].str.strip()"
   ]
  },
  {
   "cell_type": "code",
   "execution_count": null,
   "metadata": {},
   "outputs": [],
   "source": []
  },
  {
   "cell_type": "code",
   "execution_count": null,
   "metadata": {},
   "outputs": [],
   "source": [
    "df_all.head()"
   ]
  },
  {
   "cell_type": "code",
   "execution_count": null,
   "metadata": {},
   "outputs": [],
   "source": []
  },
  {
   "cell_type": "code",
   "execution_count": null,
   "metadata": {},
   "outputs": [],
   "source": []
  },
  {
   "cell_type": "markdown",
   "metadata": {},
   "source": [
    "## Add Info From SQL"
   ]
  },
  {
   "cell_type": "code",
   "execution_count": null,
   "metadata": {},
   "outputs": [],
   "source": []
  },
  {
   "cell_type": "code",
   "execution_count": null,
   "metadata": {},
   "outputs": [],
   "source": []
  },
  {
   "cell_type": "markdown",
   "metadata": {},
   "source": [
    "### Add the Old SQL Data"
   ]
  },
  {
   "cell_type": "code",
   "execution_count": null,
   "metadata": {},
   "outputs": [],
   "source": [
    "old_nv_roll = pd.read_sql('nv_roll', engine)"
   ]
  },
  {
   "cell_type": "code",
   "execution_count": null,
   "metadata": {},
   "outputs": [],
   "source": [
    "old_nv_contact = pd.read_sql('nv_contact', engine)"
   ]
  },
  {
   "cell_type": "code",
   "execution_count": null,
   "metadata": {},
   "outputs": [],
   "source": [
    "old_nv_main = pd.read_sql('nv_main', engine)"
   ]
  },
  {
   "cell_type": "code",
   "execution_count": null,
   "metadata": {},
   "outputs": [],
   "source": []
  },
  {
   "cell_type": "code",
   "execution_count": null,
   "metadata": {},
   "outputs": [],
   "source": []
  },
  {
   "cell_type": "code",
   "execution_count": null,
   "metadata": {},
   "outputs": [],
   "source": [
    "# # This is just to fix the roll up ids from df_first, and should remain commented out for all further changes\n",
    "\n",
    "# old_roll_list = list(old_nv_roll['roll_up_id'])\n",
    "# new_roll_list = []\n",
    "\n",
    "# for roll in old_roll_list:\n",
    "#     roll = str(roll.replace(\"NV-\", \"\"))\n",
    "#     while len(roll) < 5:\n",
    "#         roll = \"0\" + str(roll)\n",
    "#     roll = \"NV-\" + roll\n",
    "#     new_roll_list.append(roll)\n",
    "\n",
    "# old_nv_roll['roll_up_id'] = new_roll_list"
   ]
  },
  {
   "cell_type": "code",
   "execution_count": null,
   "metadata": {},
   "outputs": [],
   "source": []
  },
  {
   "cell_type": "markdown",
   "metadata": {},
   "source": [
    "### Merge on the Needed Information"
   ]
  },
  {
   "cell_type": "code",
   "execution_count": null,
   "metadata": {},
   "outputs": [],
   "source": [
    "df_with_roll = df_all.merge(old_nv_roll, how='outer', on='license_number')"
   ]
  },
  {
   "cell_type": "code",
   "execution_count": null,
   "metadata": {},
   "outputs": [],
   "source": [
    "df_with_con = df_with_roll.merge(old_nv_contact, how='outer', on='license_number')"
   ]
  },
  {
   "cell_type": "code",
   "execution_count": null,
   "metadata": {},
   "outputs": [],
   "source": []
  },
  {
   "cell_type": "code",
   "execution_count": null,
   "metadata": {},
   "outputs": [],
   "source": []
  },
  {
   "cell_type": "code",
   "execution_count": null,
   "metadata": {},
   "outputs": [],
   "source": [
    "df_with_sql = df_with_con"
   ]
  },
  {
   "cell_type": "code",
   "execution_count": null,
   "metadata": {},
   "outputs": [],
   "source": []
  },
  {
   "cell_type": "code",
   "execution_count": null,
   "metadata": {},
   "outputs": [],
   "source": [
    "df_with_sql.head()"
   ]
  },
  {
   "cell_type": "code",
   "execution_count": null,
   "metadata": {},
   "outputs": [],
   "source": []
  },
  {
   "cell_type": "markdown",
   "metadata": {},
   "source": [
    "## Convert To and From CSV to Add Company Roll Up"
   ]
  },
  {
   "cell_type": "code",
   "execution_count": null,
   "metadata": {},
   "outputs": [],
   "source": []
  },
  {
   "cell_type": "code",
   "execution_count": null,
   "metadata": {},
   "outputs": [],
   "source": [
    "# Excel fucks this up if it's a number, so I'm adding text to keep it as a string and will remove it again later\n",
    "\n",
    "for n in range(len(df_with_sql)):\n",
    "    df_with_sql['license_number'][n] = str(df_with_sql['license_number'][n]) + '-LIC'"
   ]
  },
  {
   "cell_type": "code",
   "execution_count": null,
   "metadata": {},
   "outputs": [],
   "source": []
  },
  {
   "cell_type": "code",
   "execution_count": null,
   "metadata": {},
   "outputs": [],
   "source": [
    "df_with_sql.sort_values(by='name_legal', inplace=True)"
   ]
  },
  {
   "cell_type": "code",
   "execution_count": null,
   "metadata": {},
   "outputs": [],
   "source": []
  },
  {
   "cell_type": "code",
   "execution_count": null,
   "metadata": {},
   "outputs": [],
   "source": [
    "# We start by converting the Pandas Dataframe to a CSV file for manual additions\n",
    "\n",
    "df_with_sql.to_csv(f'edited_files/df_{update_year}_{update_month}_to_edit.csv', index=False)"
   ]
  },
  {
   "cell_type": "code",
   "execution_count": null,
   "metadata": {},
   "outputs": [],
   "source": []
  },
  {
   "cell_type": "code",
   "execution_count": null,
   "metadata": {},
   "outputs": [],
   "source": []
  },
  {
   "cell_type": "markdown",
   "metadata": {},
   "source": [
    "### Make Changes Before Continuing"
   ]
  },
  {
   "cell_type": "code",
   "execution_count": null,
   "metadata": {},
   "outputs": [],
   "source": []
  },
  {
   "cell_type": "code",
   "execution_count": null,
   "metadata": {},
   "outputs": [],
   "source": [
    "# This makes sure that the CSV was properly edited before reading it in\n",
    "\n",
    "if pd.read_csv(f'edited_files/df_{update_year}_{update_month}_to_edit.csv')['company_roll_up'].isnull().sum() == 0:\n",
    "    df_edited = pd.read_csv(f'edited_files/df_{update_year}_{update_month}_to_edit.csv')\n",
    "else:\n",
    "    print(error)"
   ]
  },
  {
   "cell_type": "code",
   "execution_count": null,
   "metadata": {},
   "outputs": [],
   "source": [
    "# df_edited = pd.read_csv('license_repository/df_first.csv')"
   ]
  },
  {
   "cell_type": "code",
   "execution_count": null,
   "metadata": {},
   "outputs": [],
   "source": [
    "df_edited.head()"
   ]
  },
  {
   "cell_type": "code",
   "execution_count": null,
   "metadata": {},
   "outputs": [],
   "source": []
  },
  {
   "cell_type": "code",
   "execution_count": null,
   "metadata": {},
   "outputs": [],
   "source": [
    "# This removes the -LIC from the license_number \n",
    "\n",
    "for n in range(len(df_edited)):\n",
    "    df_edited['license_number'][n] = df_edited['license_number'][n].replace('-LIC', '')"
   ]
  },
  {
   "cell_type": "code",
   "execution_count": null,
   "metadata": {
    "scrolled": true
   },
   "outputs": [],
   "source": [
    "df_edited.head()"
   ]
  },
  {
   "cell_type": "code",
   "execution_count": null,
   "metadata": {},
   "outputs": [],
   "source": []
  },
  {
   "cell_type": "markdown",
   "metadata": {},
   "source": [
    "### Clean Contact"
   ]
  },
  {
   "cell_type": "code",
   "execution_count": null,
   "metadata": {},
   "outputs": [],
   "source": [
    "df_contact_edit = df_edited"
   ]
  },
  {
   "cell_type": "code",
   "execution_count": null,
   "metadata": {},
   "outputs": [],
   "source": [
    "# This cleans the contact_phone section\n",
    "\n",
    "df_contact_edit['contact_phone'] = df_contact_edit['contact_phone'].astype(str).replace('tel','')\n",
    "df_contact_edit['contact_phone'] = df_contact_edit['contact_phone'].astype(str).replace('-','')\n",
    "df_contact_edit['contact_phone'] = df_contact_edit['contact_phone'].astype(str).replace('+','')\n",
    "df_contact_edit['contact_phone'] = df_contact_edit['contact_phone'].astype(str).replace('.','')\n",
    "df_contact_edit['contact_phone'] = df_contact_edit['contact_phone'].astype(str).replace('?','')\n",
    "df_contact_edit['contact_phone'] = df_contact_edit['contact_phone'].astype(str).replace('!','')\n",
    "df_contact_edit['contact_phone'] = df_contact_edit['contact_phone'].astype(str).replace(':','')\n",
    "df_contact_edit['contact_phone'] = df_contact_edit['contact_phone'].astype(str).replace('(','')\n",
    "df_contact_edit['contact_phone'] = df_contact_edit['contact_phone'].astype(str).replace(')','')\n",
    "df_contact_edit['contact_phone'] = df_contact_edit['contact_phone'].astype(str).replace('\\n','')\n",
    "df_contact_edit['contact_phone'] = df_contact_edit['contact_phone'].astype(str).replace(' ','')"
   ]
  },
  {
   "cell_type": "code",
   "execution_count": null,
   "metadata": {},
   "outputs": [],
   "source": []
  },
  {
   "cell_type": "code",
   "execution_count": null,
   "metadata": {},
   "outputs": [],
   "source": [
    "df_contact_edit"
   ]
  },
  {
   "cell_type": "code",
   "execution_count": null,
   "metadata": {},
   "outputs": [],
   "source": []
  },
  {
   "cell_type": "code",
   "execution_count": null,
   "metadata": {},
   "outputs": [],
   "source": [
    "# This will enable a little bit more cleaning of each\n",
    "\n",
    "all_phones = list(df_contact_edit['contact_phone'])\n",
    "all_emails = list(df_contact_edit['contact_email'])\n",
    "all_websites = list(df_contact_edit['contact_website'])"
   ]
  },
  {
   "cell_type": "code",
   "execution_count": null,
   "metadata": {},
   "outputs": [],
   "source": []
  },
  {
   "cell_type": "code",
   "execution_count": null,
   "metadata": {},
   "outputs": [],
   "source": [
    "# This drops all of the phone numbers that are too short to be phone numbers\n",
    "\n",
    "for x in range(len(all_phones)):\n",
    "    if len(str(all_phones[x])) < 10:\n",
    "        all_phones[x] = ''"
   ]
  },
  {
   "cell_type": "code",
   "execution_count": null,
   "metadata": {},
   "outputs": [],
   "source": [
    "# This drops all of the phone numbers that are too long to be phone numbers\n",
    "\n",
    "for x in range(len(all_phones)):\n",
    "    if len(str(all_phones[x])) > 11:\n",
    "        all_phones[x] = ''"
   ]
  },
  {
   "cell_type": "code",
   "execution_count": null,
   "metadata": {},
   "outputs": [],
   "source": []
  },
  {
   "cell_type": "code",
   "execution_count": null,
   "metadata": {},
   "outputs": [],
   "source": [
    "# This drops all of the instragram accounts and other non-email methods of contact\n",
    "\n",
    "for x in range(len(all_emails)):\n",
    "    if '@' not in str(all_emails[x]):\n",
    "        all_emails[x] = ''"
   ]
  },
  {
   "cell_type": "code",
   "execution_count": null,
   "metadata": {},
   "outputs": [],
   "source": []
  },
  {
   "cell_type": "code",
   "execution_count": null,
   "metadata": {},
   "outputs": [],
   "source": [
    "# This drops all of the instragram accounts\n",
    "\n",
    "for x in range(len(all_websites)):\n",
    "    if 'insta' in str(all_websites[x]):\n",
    "        all_websites[x] = ''"
   ]
  },
  {
   "cell_type": "code",
   "execution_count": null,
   "metadata": {},
   "outputs": [],
   "source": [
    "# This drops all of the facebook accounts\n",
    "\n",
    "for x in range(len(all_websites)):\n",
    "    if 'facebook' in str(all_websites[x]):\n",
    "        all_websites[x] = ''"
   ]
  },
  {
   "cell_type": "code",
   "execution_count": null,
   "metadata": {},
   "outputs": [],
   "source": []
  },
  {
   "cell_type": "code",
   "execution_count": null,
   "metadata": {},
   "outputs": [],
   "source": [
    "# And then we just add the edited lists back in to the dataframe\n",
    "\n",
    "df_contact_edit['contact_phone'] = all_phones\n",
    "df_contact_edit['contact_email'] = all_emails\n",
    "df_contact_edit['contact_website'] = all_websites"
   ]
  },
  {
   "cell_type": "code",
   "execution_count": null,
   "metadata": {},
   "outputs": [],
   "source": []
  },
  {
   "cell_type": "code",
   "execution_count": null,
   "metadata": {},
   "outputs": [],
   "source": [
    "# Just filling the NaNs\n",
    "\n",
    "df_contact_edit['contact_phone'] = df_contact_edit['contact_phone'].fillna('')\n",
    "df_contact_edit['contact_email'] = df_contact_edit['contact_email'].fillna('')\n",
    "df_contact_edit['contact_website'] = df_contact_edit['contact_website'].fillna('')"
   ]
  },
  {
   "cell_type": "code",
   "execution_count": null,
   "metadata": {},
   "outputs": [],
   "source": []
  },
  {
   "cell_type": "code",
   "execution_count": null,
   "metadata": {},
   "outputs": [],
   "source": [
    "df_contact_edit"
   ]
  },
  {
   "cell_type": "code",
   "execution_count": null,
   "metadata": {},
   "outputs": [],
   "source": []
  },
  {
   "cell_type": "code",
   "execution_count": null,
   "metadata": {},
   "outputs": [],
   "source": []
  },
  {
   "cell_type": "markdown",
   "metadata": {},
   "source": [
    "### Seperate into Null and Fill"
   ]
  },
  {
   "cell_type": "code",
   "execution_count": null,
   "metadata": {},
   "outputs": [],
   "source": []
  },
  {
   "cell_type": "code",
   "execution_count": null,
   "metadata": {},
   "outputs": [],
   "source": [
    "# This creates two seperate dataframes for rows needing roll_up_ids and those that don't\n",
    "\n",
    "df_edited_null = df_edited[df_edited['roll_up_id'].isnull()]\n",
    "df_edited_fill = df_edited[df_edited['roll_up_id'].notnull()]"
   ]
  },
  {
   "cell_type": "code",
   "execution_count": null,
   "metadata": {},
   "outputs": [],
   "source": []
  },
  {
   "cell_type": "code",
   "execution_count": null,
   "metadata": {},
   "outputs": [],
   "source": [
    "# This creates all the roll_up_id numbers\n",
    "\n",
    "new_comp = list(df_edited_null['company_roll_up'].unique())\n",
    "\n",
    "current_roll_list = []\n",
    "for roll in list(df_edited_fill['roll_up_id'].unique()):\n",
    "    current_roll_list.append(int(str(roll)[3:]))\n",
    "\n",
    "max_roll = max(current_roll_list)\n",
    "# max_roll = 0 # Only for used the first time\n",
    "    \n",
    "new_roll = []\n",
    "for n in range(len(new_comp)):\n",
    "    max_roll += 1\n",
    "    new_roll.append(max_roll)\n",
    "    \n",
    "new_nv_roll = []\n",
    "for num in new_roll:\n",
    "    num = str(num)\n",
    "    while len(num) < 5:\n",
    "        num = \"0\" + str(num)\n",
    "    new_nv_roll.append(f'NV-{num}')"
   ]
  },
  {
   "cell_type": "code",
   "execution_count": null,
   "metadata": {},
   "outputs": [],
   "source": []
  },
  {
   "cell_type": "code",
   "execution_count": null,
   "metadata": {},
   "outputs": [],
   "source": []
  },
  {
   "cell_type": "code",
   "execution_count": null,
   "metadata": {},
   "outputs": [],
   "source": [
    "df_edited_null"
   ]
  },
  {
   "cell_type": "code",
   "execution_count": null,
   "metadata": {},
   "outputs": [],
   "source": []
  },
  {
   "cell_type": "code",
   "execution_count": null,
   "metadata": {},
   "outputs": [],
   "source": [
    "df_edited_fill['roll_up_id']"
   ]
  },
  {
   "cell_type": "code",
   "execution_count": null,
   "metadata": {},
   "outputs": [],
   "source": [
    "new_nv_roll"
   ]
  },
  {
   "cell_type": "code",
   "execution_count": null,
   "metadata": {},
   "outputs": [],
   "source": [
    "new_comp"
   ]
  },
  {
   "cell_type": "code",
   "execution_count": null,
   "metadata": {},
   "outputs": [],
   "source": []
  },
  {
   "cell_type": "code",
   "execution_count": null,
   "metadata": {
    "scrolled": true
   },
   "outputs": [],
   "source": [
    "# This uses the two lists created above to add roll_up_ids to the matching company_roll_ups to the df_edited\n",
    "\n",
    "df_edited_null = df_edited_null.reset_index().drop(columns={'index'})\n",
    "\n",
    "for n in range(len(df_edited_null)):\n",
    "    df_edited_null['roll_up_id'][n] = new_nv_roll[new_comp.index(df_edited_null['company_roll_up'][n])]"
   ]
  },
  {
   "cell_type": "code",
   "execution_count": null,
   "metadata": {},
   "outputs": [],
   "source": [
    "df_edited_null.head()"
   ]
  },
  {
   "cell_type": "code",
   "execution_count": null,
   "metadata": {},
   "outputs": [],
   "source": []
  },
  {
   "cell_type": "code",
   "execution_count": null,
   "metadata": {},
   "outputs": [],
   "source": [
    "# This reattaches the two dataframes now that the roll_up_ids have been filled\n",
    "\n",
    "df_populated = df_edited_fill.append(df_edited_null)"
   ]
  },
  {
   "cell_type": "code",
   "execution_count": null,
   "metadata": {},
   "outputs": [],
   "source": []
  },
  {
   "cell_type": "markdown",
   "metadata": {},
   "source": [
    "### Clean for SQL"
   ]
  },
  {
   "cell_type": "code",
   "execution_count": null,
   "metadata": {},
   "outputs": [],
   "source": []
  },
  {
   "cell_type": "code",
   "execution_count": null,
   "metadata": {},
   "outputs": [],
   "source": [
    "# This creates the list of the licenses in the dataframe and drops thse already in SQL \n",
    "licenses_for_sql = []\n",
    "for lic in list(df_populated['license_number']):\n",
    "    if lic not in list(old_nv_roll['license_number']):\n",
    "        licenses_for_sql.append(lic)"
   ]
  },
  {
   "cell_type": "code",
   "execution_count": null,
   "metadata": {},
   "outputs": [],
   "source": [
    "# This creates a dataframe of the new licenses and merges in the df_populated info for those new licenses\n",
    "df_for_sql = pd.DataFrame(licenses_for_sql, columns={'license_number'})\n",
    "df_for_sql = df_for_sql.merge(df_populated, how='left')"
   ]
  },
  {
   "cell_type": "code",
   "execution_count": null,
   "metadata": {},
   "outputs": [],
   "source": []
  },
  {
   "cell_type": "code",
   "execution_count": null,
   "metadata": {},
   "outputs": [],
   "source": [
    "df_for_sql.columns"
   ]
  },
  {
   "cell_type": "code",
   "execution_count": null,
   "metadata": {},
   "outputs": [],
   "source": []
  },
  {
   "cell_type": "markdown",
   "metadata": {},
   "source": [
    "### Seperate Data for SQL"
   ]
  },
  {
   "cell_type": "code",
   "execution_count": null,
   "metadata": {},
   "outputs": [],
   "source": []
  },
  {
   "cell_type": "code",
   "execution_count": null,
   "metadata": {},
   "outputs": [],
   "source": [
    "# This just seperates the dataframe into the main and roll information that will be put into SQL\n",
    "\n",
    "df_nv_main = df_for_sql[['license_number', 'name_legal', 'license_description', 'me_id', 'is_current']]\n",
    "\n",
    "df_nv_roll = df_for_sql[['license_number', 'roll_up_id', 'company_roll_up']]\n",
    "\n",
    "df_nv_contact = df_for_sql[['license_number', 'contact_email', 'contact_phone', 'contact_website']]"
   ]
  },
  {
   "cell_type": "code",
   "execution_count": null,
   "metadata": {},
   "outputs": [],
   "source": []
  },
  {
   "cell_type": "code",
   "execution_count": null,
   "metadata": {},
   "outputs": [],
   "source": [
    "# This adds he date issued for the newly added licenses\n",
    "df_nv_main['date_uploaded'] = update_date\n",
    "df_nv_main['date_uploaded'] = pd.to_datetime(df_nv_main['date_uploaded'])\n",
    "df_nv_main"
   ]
  },
  {
   "cell_type": "code",
   "execution_count": null,
   "metadata": {},
   "outputs": [],
   "source": []
  },
  {
   "cell_type": "code",
   "execution_count": null,
   "metadata": {},
   "outputs": [],
   "source": [
    "print(stop)"
   ]
  },
  {
   "cell_type": "markdown",
   "metadata": {},
   "source": [
    "### To SQL"
   ]
  },
  {
   "cell_type": "code",
   "execution_count": null,
   "metadata": {},
   "outputs": [],
   "source": [
    "df_nv_roll.to_sql('nv_roll', con=engine_con, if_exists='append', index=False)"
   ]
  },
  {
   "cell_type": "code",
   "execution_count": null,
   "metadata": {},
   "outputs": [],
   "source": [
    "df_nv_main.to_sql('nv_main', con=engine_con, if_exists='append', index=False)"
   ]
  },
  {
   "cell_type": "code",
   "execution_count": null,
   "metadata": {},
   "outputs": [],
   "source": [
    "df_nv_contact.to_sql('nv_contact', con=engine_con, if_exists='append', index=False)"
   ]
  },
  {
   "cell_type": "code",
   "execution_count": null,
   "metadata": {},
   "outputs": [],
   "source": []
  },
  {
   "cell_type": "code",
   "execution_count": null,
   "metadata": {},
   "outputs": [],
   "source": []
  },
  {
   "cell_type": "code",
   "execution_count": null,
   "metadata": {},
   "outputs": [],
   "source": []
  },
  {
   "cell_type": "code",
   "execution_count": null,
   "metadata": {},
   "outputs": [],
   "source": []
  },
  {
   "cell_type": "code",
   "execution_count": null,
   "metadata": {},
   "outputs": [],
   "source": []
  },
  {
   "cell_type": "markdown",
   "metadata": {},
   "source": [
    "### Main Alter"
   ]
  },
  {
   "cell_type": "code",
   "execution_count": null,
   "metadata": {},
   "outputs": [],
   "source": []
  },
  {
   "cell_type": "code",
   "execution_count": null,
   "metadata": {},
   "outputs": [],
   "source": [
    "df_for_alter = df_contact_edit[['license_number', 'name_legal', 'license_description', 'me_id', 'is_current']]"
   ]
  },
  {
   "cell_type": "code",
   "execution_count": null,
   "metadata": {},
   "outputs": [],
   "source": [
    "df_for_alter"
   ]
  },
  {
   "cell_type": "code",
   "execution_count": null,
   "metadata": {},
   "outputs": [],
   "source": []
  },
  {
   "cell_type": "code",
   "execution_count": null,
   "metadata": {},
   "outputs": [],
   "source": [
    "# This marks out the non-current licenses for alteration\n",
    "\n",
    "for n in range(len(df_for_alter)):\n",
    "    if df_for_alter['license_number'][n] in list(df_for_alter[df_for_alter['name_legal'].isnull()]['license_number']):\n",
    "        df_for_alter['is_current'][n] = 0"
   ]
  },
  {
   "cell_type": "code",
   "execution_count": null,
   "metadata": {},
   "outputs": [],
   "source": [
    "# This isn't technically needed, but my OCD was acting up\n",
    "df_for_alter['is_current'] = df_for_alter['is_current'].astype(int)"
   ]
  },
  {
   "cell_type": "code",
   "execution_count": null,
   "metadata": {},
   "outputs": [],
   "source": [
    "# This creates the dataframe for adding old info to the non current licenses, so that only the \n",
    "df_not_current = pd.DataFrame(list(df_for_alter[df_for_alter['is_current'] == 0]['license_number']), columns=['license_number']).merge(old_nv_main)\n",
    "df_not_current['is_current'] = 0"
   ]
  },
  {
   "cell_type": "code",
   "execution_count": null,
   "metadata": {},
   "outputs": [],
   "source": [
    "# There's probably a cleaner way to do this, but it's done\n",
    "df_for_alter = df_for_alter.append(df_not_current).reset_index().drop(columns={'index', 'date_uploaded'})\n",
    "df_for_alter = df_for_alter[df_for_alter['name_legal'].notnull()]"
   ]
  },
  {
   "cell_type": "code",
   "execution_count": null,
   "metadata": {},
   "outputs": [],
   "source": [
    "# These are all the licenses that will need altering\n",
    "for_alter = []\n",
    "for lic in list(df_for_alter['license_number']):\n",
    "#     print(old_nv_main[old_nv_main['license_number'] == lic]['name_legal'].values, df_for_alter[df_for_alter['license_number'] == lic]['name_legal'].values)\n",
    "    if str(df_for_alter[df_for_alter['license_number'] == lic]['name_legal'].values) != str(old_nv_main[old_nv_main['license_number'] == lic]['name_legal'].values):\n",
    "        for_alter.append(lic)\n",
    "    if str(df_for_alter[df_for_alter['license_number'] == lic]['is_current'].values) != str(old_nv_main[old_nv_main['license_number'] == lic]['is_current'].values):\n",
    "        for_alter.append(lic)\n",
    "    if str(df_for_alter[df_for_alter['me_id'] == lic]['is_current'].values) != str(old_nv_main[old_nv_main['me_id'] == lic]['is_current'].values):\n",
    "        for_alter.append(lic)\n",
    "    if str(df_for_alter[df_for_alter['license_description'] == lic]['is_current'].values) != str(old_nv_main[old_nv_main['license_description'] == lic]['is_current'].values):\n",
    "        for_alter.append(lic)\n",
    "for_alter = list(set(for_alter))"
   ]
  },
  {
   "cell_type": "code",
   "execution_count": null,
   "metadata": {},
   "outputs": [],
   "source": [
    "# This creates the dataframe to send to SQL for altering\n",
    "df_sql_alter = pd.DataFrame(for_alter, columns=['license_number'])\n",
    "df_sql_alter = df_sql_alter.merge(df_for_alter, on='license_number')"
   ]
  },
  {
   "cell_type": "code",
   "execution_count": null,
   "metadata": {},
   "outputs": [],
   "source": []
  },
  {
   "cell_type": "code",
   "execution_count": null,
   "metadata": {},
   "outputs": [],
   "source": [
    "df_sql_alter.to_sql('nv_main_alter', con=engine_con, if_exists='replace', index=False)"
   ]
  },
  {
   "cell_type": "code",
   "execution_count": null,
   "metadata": {},
   "outputs": [],
   "source": []
  },
  {
   "cell_type": "code",
   "execution_count": null,
   "metadata": {},
   "outputs": [],
   "source": []
  },
  {
   "cell_type": "code",
   "execution_count": null,
   "metadata": {},
   "outputs": [],
   "source": []
  },
  {
   "cell_type": "code",
   "execution_count": null,
   "metadata": {},
   "outputs": [],
   "source": []
  }
 ],
 "metadata": {
  "kernelspec": {
   "display_name": "Python 3",
   "language": "python",
   "name": "python3"
  },
  "language_info": {
   "codemirror_mode": {
    "name": "ipython",
    "version": 3
   },
   "file_extension": ".py",
   "mimetype": "text/x-python",
   "name": "python",
   "nbconvert_exporter": "python",
   "pygments_lexer": "ipython3",
   "version": "3.7.3"
  }
 },
 "nbformat": 4,
 "nbformat_minor": 2
}
