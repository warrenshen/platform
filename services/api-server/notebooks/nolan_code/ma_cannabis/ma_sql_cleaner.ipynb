{
 "cells": [
  {
   "cell_type": "code",
   "execution_count": null,
   "metadata": {},
   "outputs": [],
   "source": [
    "import pandas as pd\n",
    "import numpy as np\n",
    "import urllib\n",
    "from PyPDF2 import PdfFileWriter, PdfFileReader\n",
    "import io\n",
    "import requests\n",
    "import datetime as dt\n",
    "from sqlalchemy import create_engine\n",
    "import urllib\n",
    "import pyodbc\n",
    "import requests\n",
    "import time"
   ]
  },
  {
   "cell_type": "code",
   "execution_count": null,
   "metadata": {},
   "outputs": [],
   "source": [
    "# https://opendata.mass-cannabis-control.com/Licensing-and-Applications/Public-View-based-on-License-and-Applications-Appr/hmwt-yiqy\n",
    "# Click 'View Data' over the table view at the bottom\n",
    "# Download CSV for Excel"
   ]
  },
  {
   "cell_type": "code",
   "execution_count": null,
   "metadata": {},
   "outputs": [],
   "source": [
    "# Change this date to match the date in the file being downloaded \n",
    "file_date = dt.date(2021, 10, 6)\n",
    "file_year = file_date.year\n",
    "file_month = file_date.strftime('%m')\n",
    "file_day = file_date.strftime('%d')"
   ]
  },
  {
   "cell_type": "code",
   "execution_count": null,
   "metadata": {},
   "outputs": [],
   "source": [
    "pd.options.display.max_rows = 1000\n",
    "pd.options.display.min_rows = 1000\n",
    "pd.options.display.max_columns = 100"
   ]
  },
  {
   "cell_type": "code",
   "execution_count": null,
   "metadata": {},
   "outputs": [],
   "source": []
  },
  {
   "cell_type": "code",
   "execution_count": null,
   "metadata": {},
   "outputs": [],
   "source": [
    "# Bespoke Engine\n",
    "params = urllib.parse.quote_plus(\"DRIVER={ODBC Driver 17 for SQL Server};\"\n",
    "                                 \"SERVER=bespoke-database-1.cmevrozrcs7c.us-west-2.rds.amazonaws.com;\"\n",
    "                                 \"DATABASE=ma_cannabis;\"\n",
    "                                 \"UID=admin;\"\n",
    "                                 \"PWD=N19lrqxnurTUJLJT6GFe\")\n",
    "engine = create_engine(\"mssql+pyodbc:///?odbc_connect={}\".format(params))\n",
    "engine_con = engine.connect()"
   ]
  },
  {
   "cell_type": "code",
   "execution_count": null,
   "metadata": {},
   "outputs": [],
   "source": []
  },
  {
   "cell_type": "code",
   "execution_count": null,
   "metadata": {},
   "outputs": [],
   "source": [
    "# This downloads the \n",
    "ma_cannabis = pd.read_csv(f\"license_repositories/ma_approved_licenses_{file_year}_{file_month}_{file_day}.csv\")"
   ]
  },
  {
   "cell_type": "code",
   "execution_count": null,
   "metadata": {},
   "outputs": [],
   "source": []
  },
  {
   "cell_type": "code",
   "execution_count": null,
   "metadata": {},
   "outputs": [],
   "source": [
    "ma_cannabis.head()"
   ]
  },
  {
   "cell_type": "code",
   "execution_count": null,
   "metadata": {},
   "outputs": [],
   "source": []
  },
  {
   "cell_type": "code",
   "execution_count": null,
   "metadata": {},
   "outputs": [],
   "source": []
  },
  {
   "cell_type": "markdown",
   "metadata": {},
   "source": [
    "## Rename and Clean Data"
   ]
  },
  {
   "cell_type": "code",
   "execution_count": null,
   "metadata": {},
   "outputs": [],
   "source": [
    "# This changes the column names to try to match the column names used in the other states in SQL\n",
    "ma_cannabis = ma_cannabis.rename(columns={\n",
    "    'business_name':'name_legal',\n",
    "    'dba_name':'name_dba',\n",
    "    'license_type':'license_description',\n",
    "    'app_create_date':'application_date',\n",
    "    'activity_date':'date_uploaded',\n",
    "    'business_state':'contact_state',\n",
    "    'establishment_county':'contact_county', #County currently blank for everyone\n",
    "    'business_city':'contact_city',\n",
    "    'business_zipcode':'contact_zip'\n",
    "    \n",
    "})"
   ]
  },
  {
   "cell_type": "code",
   "execution_count": null,
   "metadata": {},
   "outputs": [],
   "source": []
  },
  {
   "cell_type": "code",
   "execution_count": null,
   "metadata": {},
   "outputs": [],
   "source": [
    "# Combined these columns real quick\n",
    "ma_cannabis['business_address_2'] = ma_cannabis['business_address_2'].fillna('')\n",
    "business_addresses = []\n",
    "for n in range(len(ma_cannabis)):\n",
    "    business_addresses.append(ma_cannabis['business_address_1'][n] + ' ' + ma_cannabis['business_address_2'][n])\n",
    "ma_cannabis['contact_address'] = business_addresses"
   ]
  },
  {
   "cell_type": "code",
   "execution_count": null,
   "metadata": {},
   "outputs": [],
   "source": [
    "# Combined these columns real quick\n",
    "ma_cannabis['mailing_address_2'] = ma_cannabis['mailing_address_2'].fillna('')\n",
    "mail_addresses = []\n",
    "for n in range(len(ma_cannabis)):\n",
    "    mail_addresses.append(ma_cannabis['mailing_address_1'][n] + ' ' + ma_cannabis['mailing_address_2'][n])\n",
    "ma_cannabis['mailing_address'] = mail_addresses"
   ]
  },
  {
   "cell_type": "code",
   "execution_count": null,
   "metadata": {},
   "outputs": [],
   "source": [
    "# Combined these columns real quick\n",
    "ma_cannabis['establishment_address_2'] = ma_cannabis['establishment_address_2'].fillna('')\n",
    "establishment_address = []\n",
    "for n in range(len(ma_cannabis)):\n",
    "    establishment_address.append(str(ma_cannabis['establishment_address_1'][n]) + ' ' + ma_cannabis['establishment_address_2'][n])\n",
    "ma_cannabis['establishment_address'] = establishment_address"
   ]
  },
  {
   "cell_type": "code",
   "execution_count": null,
   "metadata": {},
   "outputs": [],
   "source": [
    "ma_cannabis['mailing_address']"
   ]
  },
  {
   "cell_type": "code",
   "execution_count": null,
   "metadata": {},
   "outputs": [],
   "source": []
  },
  {
   "cell_type": "code",
   "execution_count": null,
   "metadata": {},
   "outputs": [],
   "source": [
    "# Change these to datetime\n",
    "ma_cannabis['application_date'] = pd.to_datetime(ma_cannabis['application_date'])\n",
    "ma_cannabis['date_uploaded'] = pd.to_datetime(ma_cannabis['date_uploaded'])"
   ]
  },
  {
   "cell_type": "code",
   "execution_count": null,
   "metadata": {},
   "outputs": [],
   "source": [
    "ma_cannabis['establishment_zip_code']"
   ]
  },
  {
   "cell_type": "code",
   "execution_count": null,
   "metadata": {},
   "outputs": [],
   "source": [
    "# Change the zipcodes to strings so 0s an be added\n",
    "ma_cannabis['contact_zip'] = ma_cannabis['contact_zip'].astype(str)\n",
    "ma_cannabis['mailing_zipcode'] = ma_cannabis['mailing_zipcode'].astype(str)\n",
    "ma_cannabis['establishment_zip_code'] = ma_cannabis['establishment_zip_code'].fillna(0).astype(int).astype(str)"
   ]
  },
  {
   "cell_type": "code",
   "execution_count": null,
   "metadata": {},
   "outputs": [],
   "source": []
  },
  {
   "cell_type": "code",
   "execution_count": null,
   "metadata": {},
   "outputs": [],
   "source": [
    "# This fixes all three zipcodes, even though we probably aren't using them all\n",
    "\n",
    "contact_zip_list = []\n",
    "for zipcode in ma_cannabis['contact_zip'].astype(str):\n",
    "    while len(zipcode) < 5:\n",
    "        zipcode = str('0' + zipcode)\n",
    "    contact_zip_list.append(zipcode)\n",
    "    \n",
    "ma_cannabis['contact_zip'] = contact_zip_list\n",
    "\n",
    "mail_zip_list = []\n",
    "for zipcode in ma_cannabis['mailing_zipcode'].astype(str):\n",
    "    while len(zipcode) < 5:\n",
    "        zipcode = str('0' + zipcode)\n",
    "    mail_zip_list.append(zipcode)\n",
    "    \n",
    "ma_cannabis['mailing_zipcode'] = mail_zip_list\n",
    "\n",
    "establishment_zip_list = []\n",
    "for zipcode in ma_cannabis['establishment_zip_code'].astype(int).astype(str):\n",
    "    while len(zipcode) < 5:\n",
    "        zipcode = str('0' + zipcode)\n",
    "    establishment_zip_list.append(zipcode)\n",
    "    \n",
    "ma_cannabis['establishment_zip_code'] = establishment_zip_list"
   ]
  },
  {
   "cell_type": "code",
   "execution_count": null,
   "metadata": {},
   "outputs": [],
   "source": [
    "ma_cannabis['establishment_zip_code']"
   ]
  },
  {
   "cell_type": "code",
   "execution_count": null,
   "metadata": {},
   "outputs": [],
   "source": []
  },
  {
   "cell_type": "code",
   "execution_count": null,
   "metadata": {},
   "outputs": [],
   "source": [
    "ma_cannabis['is_current'] = 1"
   ]
  },
  {
   "cell_type": "code",
   "execution_count": null,
   "metadata": {},
   "outputs": [],
   "source": []
  },
  {
   "cell_type": "code",
   "execution_count": null,
   "metadata": {},
   "outputs": [],
   "source": []
  },
  {
   "cell_type": "markdown",
   "metadata": {},
   "source": [
    "### Add Rows/Merge SQL"
   ]
  },
  {
   "cell_type": "code",
   "execution_count": null,
   "metadata": {},
   "outputs": [],
   "source": [
    "# This reads in the old SQL files so they can be merged with the new \n",
    "old_sql_main = pd.read_sql('ma_main', engine_con)\n",
    "old_sql_roll = pd.read_sql('ma_roll', engine_con)\n",
    "old_sql_contact = pd.read_sql('ma_contact', engine_con)"
   ]
  },
  {
   "cell_type": "code",
   "execution_count": null,
   "metadata": {},
   "outputs": [],
   "source": []
  },
  {
   "cell_type": "code",
   "execution_count": null,
   "metadata": {},
   "outputs": [],
   "source": [
    "# Then we merge in the roll up information from SQL\n",
    "ma_cannabis = ma_cannabis.merge(old_sql_roll[['license_number' ,'company_roll_up', 'roll_up_id']], on='license_number', how='left')"
   ]
  },
  {
   "cell_type": "code",
   "execution_count": null,
   "metadata": {},
   "outputs": [],
   "source": []
  },
  {
   "cell_type": "code",
   "execution_count": null,
   "metadata": {},
   "outputs": [],
   "source": []
  },
  {
   "cell_type": "code",
   "execution_count": null,
   "metadata": {},
   "outputs": [],
   "source": []
  },
  {
   "cell_type": "markdown",
   "metadata": {},
   "source": [
    "### Reorder Columns"
   ]
  },
  {
   "cell_type": "code",
   "execution_count": null,
   "metadata": {},
   "outputs": [],
   "source": []
  },
  {
   "cell_type": "code",
   "execution_count": null,
   "metadata": {},
   "outputs": [],
   "source": [
    "ma_cannabis.columns"
   ]
  },
  {
   "cell_type": "code",
   "execution_count": null,
   "metadata": {},
   "outputs": [],
   "source": [
    "ma_cannabis_cleaned = ma_cannabis[['license_number','license_description',  'name_legal', 'name_dba',\n",
    "        'roll_up_id', 'company_roll_up', \n",
    "        'contact_address', 'contact_city', 'contact_county', 'contact_state', 'contact_zip', \n",
    "        'mailing_address', 'mailing_city', 'mailing_state', 'mailing_zipcode',\n",
    "        'establishment_address', 'establishment_city', 'establishment_state', 'establishment_zip_code', \n",
    "        'date_uploaded', \n",
    "        'square_footage_establishment', 'abutters_count',\n",
    "        'is_abutters_notified', 'massachusetts_business',\n",
    "        'dba_registration_city', 'cooperative_total_canopy',\n",
    "        'cooperative_cultivation', 'cultivation_tier',\n",
    "        'establishment_activities', 'establishment_cultivation',\n",
    "        'application_date', 'version',\n",
    "        'disability_owned_business',\n",
    "        'lesbian_gay_bisexual_and_transgender_owned_business',\n",
    "        'minority_owned_business', 'veteran_owned_business',\n",
    "        'woman_owned_business', 'not_a_dbe']]"
   ]
  },
  {
   "cell_type": "code",
   "execution_count": null,
   "metadata": {},
   "outputs": [],
   "source": [
    "ma_cannabis_cleaned = ma_cannabis_cleaned.sort_values(by='name_legal')\n",
    "ma_cannabis_cleaned.head()"
   ]
  },
  {
   "cell_type": "code",
   "execution_count": null,
   "metadata": {},
   "outputs": [],
   "source": []
  },
  {
   "cell_type": "code",
   "execution_count": null,
   "metadata": {},
   "outputs": [],
   "source": [
    "ma_cannabis_cleaned['is_current'] = 1"
   ]
  },
  {
   "cell_type": "code",
   "execution_count": null,
   "metadata": {},
   "outputs": [],
   "source": []
  },
  {
   "cell_type": "code",
   "execution_count": null,
   "metadata": {},
   "outputs": [],
   "source": []
  },
  {
   "cell_type": "markdown",
   "metadata": {},
   "source": [
    "### To CSV for Edit"
   ]
  },
  {
   "cell_type": "code",
   "execution_count": null,
   "metadata": {},
   "outputs": [],
   "source": [
    "ma_cannabis_cleaned.to_csv(f'edited_files/df_to_edit_{file_year}_{file_month}_{file_day}.csv', index=False)"
   ]
  },
  {
   "cell_type": "code",
   "execution_count": null,
   "metadata": {},
   "outputs": [],
   "source": []
  },
  {
   "cell_type": "markdown",
   "metadata": {},
   "source": [
    "### Read Back In"
   ]
  },
  {
   "cell_type": "code",
   "execution_count": null,
   "metadata": {},
   "outputs": [],
   "source": [
    "if sum(pd.read_csv(f'edited_files/df_to_edit_{file_year}_{file_month}_{file_day}.csv')['company_roll_up'].isnull()) == 0:\n",
    "    ma_cannabis_with_roll = pd.read_csv(f'edited_files/df_to_edit_{file_year}_{file_month}_{file_day}.csv')\n",
    "else:\n",
    "    print(error)"
   ]
  },
  {
   "cell_type": "code",
   "execution_count": null,
   "metadata": {},
   "outputs": [],
   "source": [
    "ma_cannabis_with_roll['roll_up_id'] = ma_cannabis_with_roll['roll_up_id'].fillna('')"
   ]
  },
  {
   "cell_type": "code",
   "execution_count": null,
   "metadata": {},
   "outputs": [],
   "source": []
  },
  {
   "cell_type": "code",
   "execution_count": null,
   "metadata": {},
   "outputs": [],
   "source": []
  },
  {
   "cell_type": "markdown",
   "metadata": {},
   "source": [
    "### Add Roll Up Ids"
   ]
  },
  {
   "cell_type": "code",
   "execution_count": null,
   "metadata": {},
   "outputs": [],
   "source": []
  },
  {
   "cell_type": "code",
   "execution_count": null,
   "metadata": {},
   "outputs": [],
   "source": [
    "ma_with_roll = ma_cannabis_with_roll[ma_cannabis_with_roll['roll_up_id'] != '']\n",
    "ma_without_roll = ma_cannabis_with_roll[ma_cannabis_with_roll['roll_up_id'] == '']"
   ]
  },
  {
   "cell_type": "code",
   "execution_count": null,
   "metadata": {},
   "outputs": [],
   "source": [
    "ma_without_roll = ma_without_roll.reset_index().drop(columns='index')"
   ]
  },
  {
   "cell_type": "code",
   "execution_count": null,
   "metadata": {},
   "outputs": [],
   "source": []
  },
  {
   "cell_type": "code",
   "execution_count": null,
   "metadata": {},
   "outputs": [],
   "source": [
    "# This whole section creates the new max roll up id and adds the new rolls to new companies"
   ]
  },
  {
   "cell_type": "code",
   "execution_count": null,
   "metadata": {},
   "outputs": [],
   "source": [
    "all_rolls_with_ma = list(ma_with_roll['roll_up_id'].unique())\n",
    "all_rolls = []\n",
    "\n",
    "for roll in all_rolls_with_ma:\n",
    "    roll = int(str(roll)[3:])\n",
    "    all_rolls.append(roll)\n",
    "    \n",
    "max_roll = max(all_rolls)\n",
    "\n",
    "new_comp_rolls = list(ma_without_roll['company_roll_up'].unique())\n",
    "\n",
    "for comp in new_comp_rolls:\n",
    "    max_roll += 1\n",
    "    for n in range(len(ma_without_roll)):\n",
    "        if ma_without_roll['company_roll_up'][n] == comp:\n",
    "            ma_without_roll['roll_up_id'][n] = max_roll\n",
    "    \n",
    "for n in range(len(ma_without_roll)):\n",
    "    roll = str(ma_without_roll['roll_up_id'][n])\n",
    "    while len(roll) < 5:\n",
    "        roll = '0' + roll\n",
    "    roll = 'MA-' + roll\n",
    "    ma_without_roll['roll_up_id'][n] = roll"
   ]
  },
  {
   "cell_type": "code",
   "execution_count": null,
   "metadata": {},
   "outputs": [],
   "source": []
  },
  {
   "cell_type": "code",
   "execution_count": null,
   "metadata": {},
   "outputs": [],
   "source": [
    "ma_with_roll_combined = ma_with_roll.append(ma_without_roll).sort_values(by='name_legal').reset_index().drop(columns='index')"
   ]
  },
  {
   "cell_type": "code",
   "execution_count": null,
   "metadata": {},
   "outputs": [],
   "source": [
    "ma_with_roll_combined.head()"
   ]
  },
  {
   "cell_type": "code",
   "execution_count": null,
   "metadata": {},
   "outputs": [],
   "source": []
  },
  {
   "cell_type": "markdown",
   "metadata": {},
   "source": [
    "### Compare to SQL"
   ]
  },
  {
   "cell_type": "code",
   "execution_count": null,
   "metadata": {},
   "outputs": [],
   "source": [
    "in_old_sql = list(old_sql_main['license_number'].unique())"
   ]
  },
  {
   "cell_type": "code",
   "execution_count": null,
   "metadata": {},
   "outputs": [],
   "source": [
    "ma_for_sql = ma_with_roll_combined[~ma_with_roll_combined['license_number'].isin(in_old_sql)]"
   ]
  },
  {
   "cell_type": "code",
   "execution_count": null,
   "metadata": {},
   "outputs": [],
   "source": [
    "ma_for_sql"
   ]
  },
  {
   "cell_type": "code",
   "execution_count": null,
   "metadata": {},
   "outputs": [],
   "source": []
  },
  {
   "cell_type": "code",
   "execution_count": null,
   "metadata": {},
   "outputs": [],
   "source": []
  },
  {
   "cell_type": "code",
   "execution_count": null,
   "metadata": {},
   "outputs": [],
   "source": []
  },
  {
   "cell_type": "code",
   "execution_count": null,
   "metadata": {},
   "outputs": [],
   "source": []
  },
  {
   "cell_type": "markdown",
   "metadata": {},
   "source": [
    "### Edit is_current"
   ]
  },
  {
   "cell_type": "code",
   "execution_count": null,
   "metadata": {},
   "outputs": [],
   "source": [
    "old_sql_main"
   ]
  },
  {
   "cell_type": "code",
   "execution_count": null,
   "metadata": {},
   "outputs": [],
   "source": []
  },
  {
   "cell_type": "code",
   "execution_count": null,
   "metadata": {},
   "outputs": [],
   "source": [
    "for lic in list(old_sql_main['license_number'].unique()):\n",
    "    if lic not in list(ma_cannabis_with_roll['license_number'].unique()):\n",
    "        print(lic)"
   ]
  },
  {
   "cell_type": "code",
   "execution_count": null,
   "metadata": {},
   "outputs": [],
   "source": []
  },
  {
   "cell_type": "code",
   "execution_count": null,
   "metadata": {},
   "outputs": [],
   "source": []
  },
  {
   "cell_type": "code",
   "execution_count": null,
   "metadata": {},
   "outputs": [],
   "source": []
  },
  {
   "cell_type": "code",
   "execution_count": null,
   "metadata": {},
   "outputs": [],
   "source": []
  },
  {
   "cell_type": "code",
   "execution_count": null,
   "metadata": {},
   "outputs": [],
   "source": [
    "ma_cannabis.columns"
   ]
  },
  {
   "cell_type": "code",
   "execution_count": null,
   "metadata": {},
   "outputs": [],
   "source": []
  },
  {
   "cell_type": "code",
   "execution_count": null,
   "metadata": {},
   "outputs": [],
   "source": []
  },
  {
   "cell_type": "markdown",
   "metadata": {},
   "source": [
    "## Seperate Data for SQL"
   ]
  },
  {
   "cell_type": "code",
   "execution_count": null,
   "metadata": {
    "scrolled": true
   },
   "outputs": [],
   "source": [
    "ma_main = ma_for_sql[['license_number', 'license_description',  'name_legal', 'name_dba', 'application_date', 'date_uploaded', 'is_current']]\n",
    "ma_main.head()"
   ]
  },
  {
   "cell_type": "code",
   "execution_count": null,
   "metadata": {},
   "outputs": [],
   "source": [
    "ma_contact = ma_for_sql[['license_number',\n",
    "                                    'establishment_address', 'establishment_city', 'establishment_state', 'establishment_zip_code',\n",
    "                                    'contact_address', 'contact_city', 'contact_state', 'contact_zip', \n",
    "                                    'mailing_address', 'mailing_city', 'mailing_state', 'mailing_zipcode']]\n",
    "ma_contact.head()"
   ]
  },
  {
   "cell_type": "code",
   "execution_count": null,
   "metadata": {},
   "outputs": [],
   "source": [
    "ma_roll = ma_for_sql[['license_number', 'roll_up_id', 'company_roll_up']]\n",
    "ma_roll.head()"
   ]
  },
  {
   "cell_type": "code",
   "execution_count": null,
   "metadata": {},
   "outputs": [],
   "source": []
  },
  {
   "cell_type": "code",
   "execution_count": null,
   "metadata": {},
   "outputs": [],
   "source": [
    "ma_contact['contact_state'].unique()"
   ]
  },
  {
   "cell_type": "code",
   "execution_count": null,
   "metadata": {},
   "outputs": [],
   "source": [
    "ma_contact['establishment_state'].unique()"
   ]
  },
  {
   "cell_type": "code",
   "execution_count": null,
   "metadata": {},
   "outputs": [],
   "source": [
    "ma_contact['mailing_state'].unique()"
   ]
  },
  {
   "cell_type": "code",
   "execution_count": null,
   "metadata": {},
   "outputs": [],
   "source": []
  },
  {
   "cell_type": "code",
   "execution_count": null,
   "metadata": {},
   "outputs": [],
   "source": []
  },
  {
   "cell_type": "markdown",
   "metadata": {},
   "source": [
    "### Send to SQL"
   ]
  },
  {
   "cell_type": "code",
   "execution_count": null,
   "metadata": {},
   "outputs": [],
   "source": []
  },
  {
   "cell_type": "code",
   "execution_count": null,
   "metadata": {},
   "outputs": [],
   "source": [
    "ma_main.to_sql(name='ma_main', con=engine_con, index=False, if_exists='append')"
   ]
  },
  {
   "cell_type": "code",
   "execution_count": null,
   "metadata": {},
   "outputs": [],
   "source": [
    "ma_roll.to_sql(name='ma_roll', con=engine_con, index=False, if_exists='append')"
   ]
  },
  {
   "cell_type": "code",
   "execution_count": null,
   "metadata": {},
   "outputs": [],
   "source": [
    "ma_contact.to_sql(name='ma_contact', con=engine_con, index=False, if_exists='append')"
   ]
  },
  {
   "cell_type": "code",
   "execution_count": null,
   "metadata": {},
   "outputs": [],
   "source": []
  },
  {
   "cell_type": "code",
   "execution_count": null,
   "metadata": {},
   "outputs": [],
   "source": []
  },
  {
   "cell_type": "code",
   "execution_count": null,
   "metadata": {},
   "outputs": [],
   "source": []
  },
  {
   "cell_type": "markdown",
   "metadata": {},
   "source": [
    "### Create main_alter and run query"
   ]
  },
  {
   "cell_type": "code",
   "execution_count": null,
   "metadata": {},
   "outputs": [],
   "source": []
  },
  {
   "cell_type": "code",
   "execution_count": null,
   "metadata": {},
   "outputs": [],
   "source": [
    "for lic in list(old_sql_main['license_number'].unique()):\n",
    "    if lic not in list(ma_cannabis['license_number'].unique()):\n",
    "        print(lic)"
   ]
  },
  {
   "cell_type": "code",
   "execution_count": null,
   "metadata": {},
   "outputs": [],
   "source": []
  },
  {
   "cell_type": "code",
   "execution_count": null,
   "metadata": {},
   "outputs": [],
   "source": [
    "ma_lic_for_alter = []\n",
    "\n",
    "for lic in old_sql_main['license_number'].unique():\n",
    "    if list(ma_cannabis[ma_cannabis['license_number'] == lic]['license_description'])[0] != list(old_sql_main[old_sql_main['license_number'] == lic]['license_description'])[0]:\n",
    "        ma_lic_for_alter.append(lic)\n",
    "    elif list(ma_cannabis[ma_cannabis['license_number'] == lic]['name_legal'])[0] != list(old_sql_main[old_sql_main['license_number'] == lic]['name_legal'])[0]:\n",
    "        ma_lic_for_alter.append(lic)\n",
    "    elif list(ma_cannabis[ma_cannabis['license_number'] == lic]['is_current'])[0] != list(old_sql_main[old_sql_main['license_number'] == lic]['is_current'])[0]:\n",
    "        ma_lic_for_alter.append(lic)\n",
    "        \n",
    "ma_for_alter = ma_cannabis[ma_cannabis['license_number'].isin(ma_lic_for_alter)][['license_number', 'license_description',  'name_legal', 'name_dba', 'application_date', 'date_uploaded', 'is_current']]"
   ]
  },
  {
   "cell_type": "code",
   "execution_count": null,
   "metadata": {},
   "outputs": [],
   "source": [
    "ma_for_alter"
   ]
  },
  {
   "cell_type": "code",
   "execution_count": null,
   "metadata": {},
   "outputs": [],
   "source": []
  },
  {
   "cell_type": "code",
   "execution_count": null,
   "metadata": {},
   "outputs": [],
   "source": [
    "ma_for_alter.to_sql('ma_main_alter', con=engine_con, index=False, if_exists='replace')"
   ]
  },
  {
   "cell_type": "code",
   "execution_count": null,
   "metadata": {},
   "outputs": [],
   "source": []
  },
  {
   "cell_type": "code",
   "execution_count": null,
   "metadata": {},
   "outputs": [],
   "source": [
    "# This code runs the query noramally run in SQL to update ma_main using ma_main_alter\n",
    "\n",
    "ma_conn = pyodbc.connect('DRIVER={ODBC Driver 17 for SQL Server};'\n",
    "                      'SERVER=bespoke-database-1.cmevrozrcs7c.us-west-2.rds.amazonaws.com;'\n",
    "                      'DATABASE=ma_cannabis;'\n",
    "                      'UID=admin;'\n",
    "                      'PWD=N19lrqxnurTUJLJT6GFe;')\n",
    "\n",
    "ma_cursor = ma_conn.cursor()\n",
    "\n",
    "ma_cursor.execute('SELECT * FROM ma_cannabis.dbo.ma_main')\n",
    "\n",
    "ma_cursor.execute('''\n",
    "Update t1\n",
    "SET t1.[license_description] = t2.[license_description],\n",
    "    t1.[name_legal] = t2.[name_legal],\n",
    "    t1.[is_current] = t2.[is_current]\n",
    "FROM [ma_cannabis].[dbo].[ma_main] as t1\n",
    "INNER JOIN [ma_cannabis].[dbo].[ma_main_alter] as t2\n",
    "ON t1.[license_number] = t2.[license_number];\n",
    "                  ''')\n",
    "\n",
    "ma_conn.commit()"
   ]
  },
  {
   "cell_type": "code",
   "execution_count": null,
   "metadata": {},
   "outputs": [],
   "source": []
  },
  {
   "cell_type": "code",
   "execution_count": null,
   "metadata": {},
   "outputs": [],
   "source": []
  },
  {
   "cell_type": "code",
   "execution_count": null,
   "metadata": {},
   "outputs": [],
   "source": []
  },
  {
   "cell_type": "markdown",
   "metadata": {},
   "source": [
    "### SQL all_main"
   ]
  },
  {
   "cell_type": "code",
   "execution_count": null,
   "metadata": {},
   "outputs": [],
   "source": []
  },
  {
   "cell_type": "code",
   "execution_count": null,
   "metadata": {},
   "outputs": [],
   "source": [
    "# This creates the connection to the all_main file in SQL\n",
    "\n",
    "all_cannabis_params = urllib.parse.quote_plus(\"DRIVER={ODBC Driver 17 for SQL Server};\"\n",
    "                                 \"SERVER=bespoke-database-1.cmevrozrcs7c.us-west-2.rds.amazonaws.com;\"\n",
    "                                 \"DATABASE=all_cannabis;\"\n",
    "                                 \"UID=admin;\"\n",
    "                                 \"PWD=N19lrqxnurTUJLJT6GFe\")\n",
    "all_cannabis_con = create_engine(\"mssql+pyodbc:///?odbc_connect={}\".format(all_cannabis_params))"
   ]
  },
  {
   "cell_type": "code",
   "execution_count": null,
   "metadata": {},
   "outputs": [],
   "source": [
    "# This reads in the all_main data and narrows it down to the relevent data\n",
    "all_main_sql = pd.read_sql('all_main', con=all_cannabis_con)\n",
    "ma_main_sql = all_main_sql[all_main_sql['us_state'] == 'MA']\n",
    "ma_main_sql = ma_main_sql.reset_index().drop(columns='index')"
   ]
  },
  {
   "cell_type": "code",
   "execution_count": null,
   "metadata": {},
   "outputs": [],
   "source": [
    "# This re-reads in and merges the ca_annabis data in SQL\n",
    "updated_ma_main = pd.read_sql('ma_main', con=engine_con)\n",
    "updated_ma_roll = pd.read_sql('ma_roll', con=engine_con)\n",
    "updated_ma_cannabis = updated_ma_main.merge(updated_ma_roll, on='license_number')"
   ]
  },
  {
   "cell_type": "code",
   "execution_count": null,
   "metadata": {},
   "outputs": [],
   "source": [
    "updated_ma_cannabis['license_status'] = ''\n",
    "updated_ma_cannabis['expiration_date'] = ''"
   ]
  },
  {
   "cell_type": "code",
   "execution_count": null,
   "metadata": {},
   "outputs": [],
   "source": [
    "new_all_main = updated_ma_cannabis[['license_number', 'roll_up_id', 'name_legal', 'license_status', 'is_current', 'license_description', 'expiration_date']]\n",
    "new_all_main['us_state'] = 'MA'\n",
    "new_all_main['license_category'] = ''\n",
    "\n",
    "for n in range(len(new_all_main)):\n",
    "    if new_all_main['license_description'][n] in ['Marijuana Cultivator', 'Craft Marijuana Cooperative']:\n",
    "        new_all_main['license_category'][n] = 'Cultivator'\n",
    "    if new_all_main['license_description'][n] in ['Marijuana Retailer']:\n",
    "        new_all_main['license_category'][n] = 'Retailer'\n",
    "    if new_all_main['license_description'][n] in ['Marijuana Product Manufacturer']:\n",
    "        new_all_main['license_category'][n] = 'Manufacturer'\n",
    "    if new_all_main['license_description'][n] in ['Marijuana Transporter with Other Existing ME License', 'Third Party Marijuana Transporter']:\n",
    "        new_all_main['license_category'][n] = 'Distributor'\n",
    "    if new_all_main['license_description'][n] in ['Independent Testing Laboratory']:\n",
    "        new_all_main['license_category'][n] = 'Laboratory'\n",
    "    if new_all_main['license_description'][n] in ['Medical Research Development Cultivation', 'Medical Operator', 'Retail Operator', 'Medical Hospitality']:\n",
    "        new_all_main['license_category'][n] = 'Other'\n",
    "    if new_all_main['license_description'][n] in ['Marijuana Microbusiness']:\n",
    "        new_all_main['license_category'][n] = 'Multiple'"
   ]
  },
  {
   "cell_type": "code",
   "execution_count": null,
   "metadata": {},
   "outputs": [],
   "source": [
    "# This takes out everything already there\n",
    "new_main_for_sql = new_all_main[~new_all_main['license_number'].isin(list(ma_main_sql['license_number'].unique()))]"
   ]
  },
  {
   "cell_type": "code",
   "execution_count": null,
   "metadata": {},
   "outputs": [],
   "source": [
    "new_main_for_sql = new_main_for_sql.rename(columns={'roll_up_id':'rollup_id', 'name_legal':'legal_name'})\n",
    "new_main_for_sql"
   ]
  },
  {
   "cell_type": "code",
   "execution_count": null,
   "metadata": {},
   "outputs": [],
   "source": [
    "new_main_for_sql['expiration_date'] = np.nan\n",
    "new_main_for_sql['expiration_date'] = pd.to_datetime(new_main_for_sql['expiration_date'])"
   ]
  },
  {
   "cell_type": "code",
   "execution_count": null,
   "metadata": {},
   "outputs": [],
   "source": [
    "# And this uploads the new licenses to SQL\n",
    "new_main_for_sql.to_sql('all_main', con=all_cannabis_con, index=False, if_exists='append')"
   ]
  },
  {
   "cell_type": "code",
   "execution_count": null,
   "metadata": {},
   "outputs": [],
   "source": []
  },
  {
   "cell_type": "code",
   "execution_count": null,
   "metadata": {},
   "outputs": [],
   "source": []
  },
  {
   "cell_type": "code",
   "execution_count": null,
   "metadata": {},
   "outputs": [],
   "source": []
  },
  {
   "cell_type": "code",
   "execution_count": null,
   "metadata": {},
   "outputs": [],
   "source": []
  },
  {
   "cell_type": "code",
   "execution_count": null,
   "metadata": {},
   "outputs": [],
   "source": []
  },
  {
   "cell_type": "code",
   "execution_count": null,
   "metadata": {},
   "outputs": [],
   "source": []
  },
  {
   "cell_type": "code",
   "execution_count": null,
   "metadata": {},
   "outputs": [],
   "source": [
    "all_main_sql_for_alter = pd.read_sql('all_main', con=all_cannabis_con)\n",
    "ma_main_sql_for_alter = all_main_sql_for_alter[all_main_sql_for_alter['us_state'] == 'MA']\n",
    "ma_main_sql_for_alter = ma_main_sql_for_alter.reset_index().drop(columns='index')"
   ]
  },
  {
   "cell_type": "code",
   "execution_count": null,
   "metadata": {},
   "outputs": [],
   "source": []
  },
  {
   "cell_type": "code",
   "execution_count": null,
   "metadata": {},
   "outputs": [],
   "source": [
    "len(ma_main_sql_for_alter)"
   ]
  },
  {
   "cell_type": "code",
   "execution_count": null,
   "metadata": {},
   "outputs": [],
   "source": [
    "len(new_all_main)"
   ]
  },
  {
   "cell_type": "code",
   "execution_count": null,
   "metadata": {},
   "outputs": [],
   "source": [
    "new_all_main.columns"
   ]
  },
  {
   "cell_type": "code",
   "execution_count": null,
   "metadata": {},
   "outputs": [],
   "source": [
    "for lic in new_all_main['license_number'].unique():\n",
    "    if lic not in ma_main_sql_for_alter['license_number'].unique():\n",
    "        print(lic)"
   ]
  },
  {
   "cell_type": "code",
   "execution_count": null,
   "metadata": {},
   "outputs": [],
   "source": []
  },
  {
   "cell_type": "code",
   "execution_count": null,
   "metadata": {},
   "outputs": [],
   "source": []
  },
  {
   "cell_type": "code",
   "execution_count": null,
   "metadata": {},
   "outputs": [],
   "source": []
  },
  {
   "cell_type": "code",
   "execution_count": null,
   "metadata": {},
   "outputs": [],
   "source": [
    "# This creates a df of all the lciense numbers that will need to be altered\n",
    "\n",
    "ma_lic_to_alter = []\n",
    "\n",
    "for lic in list(new_all_main['license_number'].unique()):\n",
    "    if list(new_all_main[new_all_main['license_number'] == lic]['is_current'])[0] != list(ma_main_sql_for_alter[ma_main_sql_for_alter['license_number'] == lic]['is_current'])[0]:\n",
    "        ma_lic_to_alter.append(lic)\n",
    "        print(lic, 'current')\n",
    "    if list(new_all_main[new_all_main['license_number'] == lic]['roll_up_id'])[0] != list(ma_main_sql_for_alter[ma_main_sql_for_alter['license_number'] == lic]['rollup_id'])[0]:\n",
    "        ma_lic_to_alter.append(lic)\n",
    "        print(lic, 'roll')\n",
    "    if list(new_all_main[new_all_main['license_number'] == lic]['name_legal'])[0] != list(ma_main_sql_for_alter[ma_main_sql_for_alter['license_number'] == lic]['legal_name'])[0]:\n",
    "        ma_lic_to_alter.append(lic)\n",
    "        print(lic, 'name')\n",
    "    elif list(new_all_main[new_all_main['license_number'] == lic]['license_status'])[0] != list(ma_main_sql_for_alter[ma_main_sql_for_alter['license_number'] == lic]['license_status'])[0]:\n",
    "        ma_lic_to_alter.append(lic)\n",
    "        print(lic, 'status')\n",
    "    elif list(new_all_main[new_all_main['license_number'] == lic]['license_description'])[0] != list(ma_main_sql_for_alter[ma_main_sql_for_alter['license_number'] == lic]['license_description'])[0]:\n",
    "        ma_lic_to_alter.append(lic)\n",
    "        print(lic, 'description')\n",
    "    elif list(new_all_main[new_all_main['license_number'] == lic]['license_category'])[0] != list(ma_main_sql_for_alter[ma_main_sql_for_alter['license_number'] == lic]['license_category'])[0]:\n",
    "        ma_lic_to_alter.append(lic)\n",
    "        print(lic, 'category')\n",
    "        \n",
    "ma_all_main_for_alter = new_all_main[new_all_main['license_number'].isin(ma_lic_to_alter)]"
   ]
  },
  {
   "cell_type": "code",
   "execution_count": null,
   "metadata": {},
   "outputs": [],
   "source": [
    "ma_all_main_for_alter"
   ]
  },
  {
   "cell_type": "code",
   "execution_count": null,
   "metadata": {},
   "outputs": [],
   "source": []
  },
  {
   "cell_type": "code",
   "execution_count": null,
   "metadata": {},
   "outputs": [],
   "source": [
    "print(stop)"
   ]
  },
  {
   "cell_type": "code",
   "execution_count": null,
   "metadata": {},
   "outputs": [],
   "source": []
  },
  {
   "cell_type": "code",
   "execution_count": null,
   "metadata": {},
   "outputs": [],
   "source": [
    "# And this creates a table in the database so we can alter the needed columns\n",
    "ma_all_main_for_alter.to_sql('ma_to_alter', con=all_cannabis_con, index=False, if_exists='replace')"
   ]
  },
  {
   "cell_type": "code",
   "execution_count": null,
   "metadata": {},
   "outputs": [],
   "source": []
  },
  {
   "cell_type": "code",
   "execution_count": null,
   "metadata": {},
   "outputs": [],
   "source": [
    "# This code runs the query noramally run in SQL to update ma_main using ma_main_alter\n",
    "\n",
    "all_conn = pyodbc.connect('DRIVER={ODBC Driver 17 for SQL Server};'\n",
    "                      'SERVER=bespoke-database-1.cmevrozrcs7c.us-west-2.rds.amazonaws.com;'\n",
    "                      'DATABASE=all_cannabis;'\n",
    "                      'UID=admin;'\n",
    "                      'PWD=N19lrqxnurTUJLJT6GFe;')\n",
    "\n",
    "all_cursor = all_conn.cursor()\n",
    "\n",
    "all_cursor.execute('SELECT * FROM all_cannabis.dbo.all_main')\n",
    "\n",
    "all_cursor.execute('''\n",
    "Update t1\n",
    "SET t1.[legal_name] = t2.[name_legal],\n",
    "    t1.[is_current] = t2.[is_current],\n",
    "    t1.[rollup_id] = t2.[roll_up_id],\n",
    "    t1.[license_description] = t2.[license_description],\n",
    "    t1.[license_category] = t2.[license_category]\n",
    "FROM [all_cannabis].[dbo].[all_main] as t1\n",
    "INNER JOIN [all_cannabis].[dbo].[ma_to_alter] as t2\n",
    "ON t1.[license_number] = t2.[license_number];\n",
    "                  ''')\n",
    "\n",
    "all_conn.commit()"
   ]
  },
  {
   "cell_type": "code",
   "execution_count": null,
   "metadata": {},
   "outputs": [],
   "source": []
  },
  {
   "cell_type": "code",
   "execution_count": null,
   "metadata": {},
   "outputs": [],
   "source": [
    "ma_all_main_for_alter['license_description']"
   ]
  },
  {
   "cell_type": "code",
   "execution_count": null,
   "metadata": {},
   "outputs": [],
   "source": []
  },
  {
   "cell_type": "code",
   "execution_count": null,
   "metadata": {},
   "outputs": [],
   "source": []
  },
  {
   "cell_type": "markdown",
   "metadata": {},
   "source": [
    "### Bespoke / Sweat Equity API"
   ]
  },
  {
   "cell_type": "code",
   "execution_count": null,
   "metadata": {},
   "outputs": [],
   "source": []
  },
  {
   "cell_type": "code",
   "execution_count": null,
   "metadata": {},
   "outputs": [],
   "source": [
    "new_main = new_main_for_sql.append(ma_all_main_for_alter.rename(columns={'roll_up_id':'rollup_id', 'name_legal':'legal_name'}))"
   ]
  },
  {
   "cell_type": "code",
   "execution_count": null,
   "metadata": {},
   "outputs": [],
   "source": [
    "ma_all_main_for_alter"
   ]
  },
  {
   "cell_type": "code",
   "execution_count": null,
   "metadata": {},
   "outputs": [],
   "source": []
  },
  {
   "cell_type": "code",
   "execution_count": null,
   "metadata": {},
   "outputs": [],
   "source": [
    "new_main = new_main.reset_index().drop(columns='index')\n",
    "new_main"
   ]
  },
  {
   "cell_type": "code",
   "execution_count": null,
   "metadata": {},
   "outputs": [],
   "source": []
  },
  {
   "cell_type": "code",
   "execution_count": null,
   "metadata": {},
   "outputs": [],
   "source": [
    "for n in range(0, len(new_main)):\n",
    "    \n",
    "        if new_main['is_current'].iloc[n] == 1:\n",
    "            is_current_1 = True\n",
    "        else:\n",
    "            is_current_1 = False\n",
    "                    \n",
    "                    \n",
    "        requests.post(\n",
    "        'https://bespoke-api-server-production.herokuapp.com/api/v1/licenses/bulk_update_licenses',\n",
    "        json= {\n",
    "        'company_licenses': [\n",
    "                            {\n",
    "                        'license_number': new_main['license_number'].iloc[n],\n",
    "                        'rollup_id': new_main['rollup_id'].iloc[n],\n",
    "                        'legal_name': new_main['legal_name'].iloc[n],\n",
    "                        'license_status': new_main['license_status'].iloc[n],\n",
    "                        'is_current': is_current_1,\n",
    "                        'license_description': new_main['license_description'].iloc[n],\n",
    "                        'us_state': new_main['us_state'].iloc[n],\n",
    "                        'expiration_date': new_main['expiration_date'].iloc[n],\n",
    "                        'license_category': new_main['license_category'].iloc[n]\n",
    "                                },\n",
    "                              ],\n",
    "                            },\n",
    "            headers={'x-api-key': 'ASYNC-SERVER-API-KEY-6Lfy84qn9ew93ZwMXSYhdwqj'})\n",
    "        \n",
    "        time.sleep(5)"
   ]
  },
  {
   "cell_type": "code",
   "execution_count": null,
   "metadata": {},
   "outputs": [],
   "source": []
  },
  {
   "cell_type": "code",
   "execution_count": null,
   "metadata": {},
   "outputs": [],
   "source": []
  },
  {
   "cell_type": "code",
   "execution_count": null,
   "metadata": {},
   "outputs": [],
   "source": []
  }
 ],
 "metadata": {
  "kernelspec": {
   "display_name": "Python 3",
   "language": "python",
   "name": "python3"
  },
  "language_info": {
   "codemirror_mode": {
    "name": "ipython",
    "version": 3
   },
   "file_extension": ".py",
   "mimetype": "text/x-python",
   "name": "python",
   "nbconvert_exporter": "python",
   "pygments_lexer": "ipython3",
   "version": "3.7.3"
  }
 },
 "nbformat": 4,
 "nbformat_minor": 2
}
