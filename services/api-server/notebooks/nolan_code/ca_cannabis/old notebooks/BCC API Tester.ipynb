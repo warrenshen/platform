{
 "cells": [
  {
   "cell_type": "code",
   "execution_count": 1,
   "metadata": {},
   "outputs": [],
   "source": [
    "import requests\n",
    "import json\n",
    "import pandas as pd"
   ]
  },
  {
   "cell_type": "code",
   "execution_count": 2,
   "metadata": {},
   "outputs": [],
   "source": [
    "pd.options.display.max_rows = 50\n",
    "pd.options.display.max_columns = 100"
   ]
  },
  {
   "cell_type": "code",
   "execution_count": 3,
   "metadata": {},
   "outputs": [],
   "source": [
    "# This is the curl code given by https://iservices.dca.ca.gov/docs/bcclicensereadservices#/\n",
    "# curl -X GET --header \"Accept: */*\" --header \"app_id: 6c4528f5\" --header \"app_key: f82d0e73e4b21beb466a0e10f19339dc\" \"https://iservices.dca.ca.gov/api/bcclicenseread/getAllBccLicenses\"\n",
    "\n",
    "# This is the curl code translated to Python with https://curl.trillworks.com/\n",
    "\n",
    "headers = {\n",
    "    'Accept': '*/*',\n",
    "    'app_id': '6c4528f5',\n",
    "    'app_key': 'f82d0e73e4b21beb466a0e10f19339dc',\n",
    "}\n",
    "\n",
    "response = requests.get('https://iservices.dca.ca.gov/api/bcclicenseread/getAllBccLicenses', headers=headers)"
   ]
  },
  {
   "cell_type": "code",
   "execution_count": 4,
   "metadata": {},
   "outputs": [],
   "source": [
    "# This translates it to a Pandas dataframe\n",
    "\n",
    "bcc_df = pd.DataFrame(response.json())"
   ]
  },
  {
   "cell_type": "code",
   "execution_count": null,
   "metadata": {},
   "outputs": [],
   "source": []
  },
  {
   "cell_type": "code",
   "execution_count": 5,
   "metadata": {},
   "outputs": [
    {
     "data": {
      "text/plain": [
       "Index(['licenseNumber', 'licenseType', 'issuedDate', 'addressLine1',\n",
       "       'addressLine2', 'premiseCity', 'premiseState', 'premiseZip',\n",
       "       'premiseCounty', 'licenseStatus', 'businessStructure', 'medicinal',\n",
       "       'adultUse', 'microActivityRetailerNonStorefront',\n",
       "       'microActivityRetailer', 'microActivityDistributor',\n",
       "       'microActivityDistributorTransportOnly',\n",
       "       'microActivityLevel1Manufacturer', 'microActivityCultivator',\n",
       "       'expiryDate', 'businessName', 'businessDBA', 'businessOwner', 'website',\n",
       "       'phone', 'email'],\n",
       "      dtype='object')"
      ]
     },
     "execution_count": 5,
     "metadata": {},
     "output_type": "execute_result"
    }
   ],
   "source": [
    "bcc_df.columns"
   ]
  },
  {
   "cell_type": "code",
   "execution_count": null,
   "metadata": {},
   "outputs": [],
   "source": []
  },
  {
   "cell_type": "code",
   "execution_count": null,
   "metadata": {},
   "outputs": [],
   "source": []
  },
  {
   "cell_type": "markdown",
   "metadata": {},
   "source": [
    "## Data Cleaning"
   ]
  },
  {
   "cell_type": "code",
   "execution_count": 6,
   "metadata": {},
   "outputs": [],
   "source": [
    "# This changes all the yes/blank columns to binary\n",
    "bcc_df['microActivityRetailerNonStorefront'] = bcc_df['microActivityRetailerNonStorefront'].replace('YES', 1).replace('', 0)\n",
    "bcc_df['microActivityRetailer'] = bcc_df['microActivityRetailer'].replace('YES', 1).replace('', 0)\n",
    "bcc_df['microActivityDistributor'] = bcc_df['microActivityDistributor'].replace('YES', 1).replace('', 0)\n",
    "bcc_df['microActivityDistributorTransportOnly'] = bcc_df['microActivityDistributorTransportOnly'].replace('YES', 1).replace('', 0)\n",
    "bcc_df['microActivityLevel1Manufacturer'] = bcc_df['microActivityLevel1Manufacturer'].replace('YES', 1).replace('', 0)\n",
    "bcc_df['microActivityCultivator'] = bcc_df['microActivityCultivator'].replace('YES', 1).replace('', 0)"
   ]
  },
  {
   "cell_type": "code",
   "execution_count": 7,
   "metadata": {},
   "outputs": [
    {
     "data": {
      "text/plain": [
       "0    5877\n",
       "1     622\n",
       "Name: microActivityLevel1Manufacturer, dtype: int64"
      ]
     },
     "execution_count": 7,
     "metadata": {},
     "output_type": "execute_result"
    }
   ],
   "source": [
    "bcc_df['microActivityLevel1Manufacturer'].value_counts()"
   ]
  },
  {
   "cell_type": "code",
   "execution_count": 8,
   "metadata": {},
   "outputs": [
    {
     "data": {
      "text/plain": [
       "0    6021\n",
       "1     478\n",
       "Name: microActivityCultivator, dtype: int64"
      ]
     },
     "execution_count": 8,
     "metadata": {},
     "output_type": "execute_result"
    }
   ],
   "source": [
    "bcc_df['microActivityCultivator'].value_counts()"
   ]
  },
  {
   "cell_type": "code",
   "execution_count": 9,
   "metadata": {},
   "outputs": [],
   "source": [
    "# This changes all the yes/no columns to binary\n",
    "bcc_df['medicinal'] = bcc_df['medicinal'].replace('YES', 1).replace('NO', 0)\n",
    "bcc_df['adultUse'] = bcc_df['adultUse'].replace('YES', 1).replace('NO', 0)"
   ]
  },
  {
   "cell_type": "code",
   "execution_count": null,
   "metadata": {},
   "outputs": [],
   "source": []
  },
  {
   "cell_type": "code",
   "execution_count": 10,
   "metadata": {},
   "outputs": [
    {
     "data": {
      "text/html": [
       "<div>\n",
       "<style scoped>\n",
       "    .dataframe tbody tr th:only-of-type {\n",
       "        vertical-align: middle;\n",
       "    }\n",
       "\n",
       "    .dataframe tbody tr th {\n",
       "        vertical-align: top;\n",
       "    }\n",
       "\n",
       "    .dataframe thead th {\n",
       "        text-align: right;\n",
       "    }\n",
       "</style>\n",
       "<table border=\"1\" class=\"dataframe\">\n",
       "  <thead>\n",
       "    <tr style=\"text-align: right;\">\n",
       "      <th></th>\n",
       "      <th>licenseNumber</th>\n",
       "      <th>licenseType</th>\n",
       "      <th>issuedDate</th>\n",
       "      <th>addressLine1</th>\n",
       "      <th>addressLine2</th>\n",
       "      <th>premiseCity</th>\n",
       "      <th>premiseState</th>\n",
       "      <th>premiseZip</th>\n",
       "      <th>premiseCounty</th>\n",
       "      <th>licenseStatus</th>\n",
       "      <th>businessStructure</th>\n",
       "      <th>medicinal</th>\n",
       "      <th>adultUse</th>\n",
       "      <th>microActivityRetailerNonStorefront</th>\n",
       "      <th>microActivityRetailer</th>\n",
       "      <th>microActivityDistributor</th>\n",
       "      <th>microActivityDistributorTransportOnly</th>\n",
       "      <th>microActivityLevel1Manufacturer</th>\n",
       "      <th>microActivityCultivator</th>\n",
       "      <th>expiryDate</th>\n",
       "      <th>businessName</th>\n",
       "      <th>businessDBA</th>\n",
       "      <th>businessOwner</th>\n",
       "      <th>website</th>\n",
       "      <th>phone</th>\n",
       "      <th>email</th>\n",
       "    </tr>\n",
       "  </thead>\n",
       "  <tbody>\n",
       "    <tr>\n",
       "      <th>6474</th>\n",
       "      <td>C11-0001269-LIC</td>\n",
       "      <td>Cannabis - Distributor License</td>\n",
       "      <td>11/17/2020</td>\n",
       "      <td></td>\n",
       "      <td></td>\n",
       "      <td>MARYSVILLE</td>\n",
       "      <td>CA</td>\n",
       "      <td>959014800</td>\n",
       "      <td>YUBA</td>\n",
       "      <td>Active</td>\n",
       "      <td>Corporation</td>\n",
       "      <td>1</td>\n",
       "      <td>1</td>\n",
       "      <td>0</td>\n",
       "      <td>0</td>\n",
       "      <td>0</td>\n",
       "      <td>0</td>\n",
       "      <td>0</td>\n",
       "      <td>0</td>\n",
       "      <td>11/17/2021</td>\n",
       "      <td>Bio Cani Rx Inc</td>\n",
       "      <td>BioCani Rx Inc</td>\n",
       "      <td>michael shipp</td>\n",
       "      <td></td>\n",
       "      <td>7143171101</td>\n",
       "      <td>michael@biocanirx.com</td>\n",
       "    </tr>\n",
       "  </tbody>\n",
       "</table>\n",
       "</div>"
      ],
      "text/plain": [
       "        licenseNumber                     licenseType  issuedDate  \\\n",
       "6474  C11-0001269-LIC  Cannabis - Distributor License  11/17/2020   \n",
       "\n",
       "     addressLine1 addressLine2 premiseCity premiseState premiseZip  \\\n",
       "6474                            MARYSVILLE           CA  959014800   \n",
       "\n",
       "     premiseCounty licenseStatus businessStructure  medicinal  adultUse  \\\n",
       "6474         YUBA         Active       Corporation          1         1   \n",
       "\n",
       "      microActivityRetailerNonStorefront  microActivityRetailer  \\\n",
       "6474                                   0                      0   \n",
       "\n",
       "      microActivityDistributor  microActivityDistributorTransportOnly  \\\n",
       "6474                         0                                      0   \n",
       "\n",
       "      microActivityLevel1Manufacturer  microActivityCultivator  expiryDate  \\\n",
       "6474                                0                        0  11/17/2021   \n",
       "\n",
       "         businessName     businessDBA  businessOwner website       phone  \\\n",
       "6474  Bio Cani Rx Inc  BioCani Rx Inc  michael shipp          7143171101   \n",
       "\n",
       "                      email  \n",
       "6474  michael@biocanirx.com  "
      ]
     },
     "execution_count": 10,
     "metadata": {},
     "output_type": "execute_result"
    }
   ],
   "source": [
    "bcc_df[bcc_df.licenseNumber == 'C11-0001269-LIC']"
   ]
  },
  {
   "cell_type": "code",
   "execution_count": null,
   "metadata": {},
   "outputs": [],
   "source": []
  },
  {
   "cell_type": "markdown",
   "metadata": {},
   "source": [
    "## Change Column Names"
   ]
  },
  {
   "cell_type": "code",
   "execution_count": 11,
   "metadata": {},
   "outputs": [],
   "source": [
    "# Clean Control section of clean_combine ends with dataframe called df_control\n",
    "# This dataframe has the following columns\n",
    "\n",
    "intended_columns = ['license_number', 'license_description', 'business_company_type',\n",
    "                    'premise_address', 'date_issue', 'date_expiration',\n",
    "                    'business_description', 'in_db', 'license_adult', 'license_medicinal',\n",
    "                    'status_active', 'status_canceled', 'status_expired', 'status_inactive',\n",
    "                    'status_revoked', 'status_surrendered', 'status_suspended',\n",
    "                    'license_category', 'name_legal', 'name_dba', 'contact_email',\n",
    "                    'contact_phone', 'contact_website', 'contact_owner_1', 'contact_owner_2']"
   ]
  },
  {
   "cell_type": "code",
   "execution_count": 12,
   "metadata": {},
   "outputs": [],
   "source": [
    "# bcc_df.head(3)"
   ]
  },
  {
   "cell_type": "code",
   "execution_count": 13,
   "metadata": {},
   "outputs": [],
   "source": [
    "# Matching columns to df_final_date_to_edit format and column titles\n",
    "\n",
    "bcc_edited = pd.DataFrame(bcc_df['licenseNumber'])\n",
    "bcc_edited.rename(columns={'licenseNumber': 'license_number'}, inplace=True)"
   ]
  },
  {
   "cell_type": "code",
   "execution_count": 14,
   "metadata": {},
   "outputs": [],
   "source": [
    "# This renames licenseType for license_descriptions, and then drops all of the rows for the temp files\n",
    "\n",
    "bcc_edited['license_description'] = bcc_df['licenseType'].replace('Cannabis - Event Organizer License', 'Event Organizer').replace('Cannabis - Retailer Nonstorefront License', 'Retailer Nonstorefront').replace('Cannabis - Testing Laboratory License', 'Testing Laboratory').replace('Cannabis - Distributor-Transport Only License', 'Distributor-Transport Only').replace('Cannabis - Microbusiness License', 'Microbusiness').replace('Cannabis - Distributor License', 'Distributor').replace('Cannabis - Retailer License', 'Retailer')\n",
    "\n",
    "bcc_edited = bcc_edited[~bcc_edited['license_description'].str.contains('Temp')]"
   ]
  },
  {
   "cell_type": "code",
   "execution_count": 15,
   "metadata": {},
   "outputs": [],
   "source": [
    "bcc_edited['business_company_type'] = bcc_df['businessStructure']\n",
    "\n",
    "bcc_edited['premise_address'] = bcc_df['addressLine1'] + '' + bcc_df['premiseCity'] + ', ' + bcc_df['premiseState'] + bcc_df['premiseZip'] + ' County: ' + bcc_df['premiseCounty']\n",
    "\n",
    "bcc_edited['date_issue'] = bcc_df['issuedDate']\n",
    "\n",
    "bcc_edited['date_expiration'] = bcc_df['expiryDate']"
   ]
  },
  {
   "cell_type": "code",
   "execution_count": 16,
   "metadata": {},
   "outputs": [
    {
     "data": {
      "text/html": [
       "<div>\n",
       "<style scoped>\n",
       "    .dataframe tbody tr th:only-of-type {\n",
       "        vertical-align: middle;\n",
       "    }\n",
       "\n",
       "    .dataframe tbody tr th {\n",
       "        vertical-align: top;\n",
       "    }\n",
       "\n",
       "    .dataframe thead th {\n",
       "        text-align: right;\n",
       "    }\n",
       "</style>\n",
       "<table border=\"1\" class=\"dataframe\">\n",
       "  <thead>\n",
       "    <tr style=\"text-align: right;\">\n",
       "      <th></th>\n",
       "      <th>license_number</th>\n",
       "      <th>license_description</th>\n",
       "      <th>business_company_type</th>\n",
       "      <th>premise_address</th>\n",
       "      <th>date_issue</th>\n",
       "      <th>date_expiration</th>\n",
       "    </tr>\n",
       "  </thead>\n",
       "  <tbody>\n",
       "    <tr>\n",
       "      <th>0</th>\n",
       "      <td>CEO14-0000115-LIC</td>\n",
       "      <td>Event Organizer</td>\n",
       "      <td>Limited Liability Company</td>\n",
       "      <td>OAKLAND, CA94608 County: ALAMEDA</td>\n",
       "      <td>12/20/2019</td>\n",
       "      <td>12/19/2020</td>\n",
       "    </tr>\n",
       "    <tr>\n",
       "      <th>1</th>\n",
       "      <td>CEO14-0000114-LIC</td>\n",
       "      <td>Event Organizer</td>\n",
       "      <td>undefined</td>\n",
       "      <td>HESPERIA, CA92394 County: null</td>\n",
       "      <td>12/12/2019</td>\n",
       "      <td>12/11/2020</td>\n",
       "    </tr>\n",
       "    <tr>\n",
       "      <th>2</th>\n",
       "      <td>CEO14-0000111-LIC</td>\n",
       "      <td>Event Organizer</td>\n",
       "      <td>Corporation</td>\n",
       "      <td>MURRIETA, CA92562 County: null</td>\n",
       "      <td>12/02/2019</td>\n",
       "      <td>12/01/2020</td>\n",
       "    </tr>\n",
       "    <tr>\n",
       "      <th>3</th>\n",
       "      <td>CEO14-0000109-LIC</td>\n",
       "      <td>Event Organizer</td>\n",
       "      <td>Foreign Corporation</td>\n",
       "      <td>SAN FRANCISCO, CA94111 County: SAN FRANCISCO</td>\n",
       "      <td>10/22/2019</td>\n",
       "      <td>10/21/2021</td>\n",
       "    </tr>\n",
       "    <tr>\n",
       "      <th>4</th>\n",
       "      <td>CEO14-0000110-LIC</td>\n",
       "      <td>Event Organizer</td>\n",
       "      <td>Limited Liability Company</td>\n",
       "      <td>HAYWARD, CA94541 County: ALAMEDA</td>\n",
       "      <td>11/26/2019</td>\n",
       "      <td>11/25/2020</td>\n",
       "    </tr>\n",
       "    <tr>\n",
       "      <th>...</th>\n",
       "      <td>...</td>\n",
       "      <td>...</td>\n",
       "      <td>...</td>\n",
       "      <td>...</td>\n",
       "      <td>...</td>\n",
       "      <td>...</td>\n",
       "    </tr>\n",
       "    <tr>\n",
       "      <th>6494</th>\n",
       "      <td>C10-0000765-LIC</td>\n",
       "      <td>Retailer</td>\n",
       "      <td>Corporation</td>\n",
       "      <td>872  WASHINGTON STPERRIS, CA925718835 County: ...</td>\n",
       "      <td>12/07/2020</td>\n",
       "      <td>12/07/2021</td>\n",
       "    </tr>\n",
       "    <tr>\n",
       "      <th>6495</th>\n",
       "      <td>C11-0001277-LIC</td>\n",
       "      <td>Distributor</td>\n",
       "      <td>Corporation</td>\n",
       "      <td>LONG BEACH, CA90813 County: LOS ANGELES</td>\n",
       "      <td>12/08/2020</td>\n",
       "      <td>12/08/2021</td>\n",
       "    </tr>\n",
       "    <tr>\n",
       "      <th>6496</th>\n",
       "      <td>C9-0000391-LIC</td>\n",
       "      <td>Retailer Nonstorefront</td>\n",
       "      <td>Corporation</td>\n",
       "      <td>TRUCKEE, CA961610263 County: NEVADA</td>\n",
       "      <td>12/09/2020</td>\n",
       "      <td>12/09/2021</td>\n",
       "    </tr>\n",
       "    <tr>\n",
       "      <th>6497</th>\n",
       "      <td>C12-0000333-LIC</td>\n",
       "      <td>Microbusiness</td>\n",
       "      <td>Limited Liability Company</td>\n",
       "      <td>SAN JOSE, CA951113103 County: SANTA CLARA</td>\n",
       "      <td>12/09/2020</td>\n",
       "      <td>12/09/2021</td>\n",
       "    </tr>\n",
       "    <tr>\n",
       "      <th>6498</th>\n",
       "      <td>C10-0000766-LIC</td>\n",
       "      <td>Retailer</td>\n",
       "      <td>Corporation</td>\n",
       "      <td>1474 W RAMSEY STBANNING, CA922204427 County: R...</td>\n",
       "      <td>12/09/2020</td>\n",
       "      <td>12/09/2021</td>\n",
       "    </tr>\n",
       "  </tbody>\n",
       "</table>\n",
       "<p>3101 rows × 6 columns</p>\n",
       "</div>"
      ],
      "text/plain": [
       "         license_number     license_description      business_company_type  \\\n",
       "0     CEO14-0000115-LIC         Event Organizer  Limited Liability Company   \n",
       "1     CEO14-0000114-LIC         Event Organizer                  undefined   \n",
       "2     CEO14-0000111-LIC         Event Organizer                Corporation   \n",
       "3     CEO14-0000109-LIC         Event Organizer        Foreign Corporation   \n",
       "4     CEO14-0000110-LIC         Event Organizer  Limited Liability Company   \n",
       "...                 ...                     ...                        ...   \n",
       "6494    C10-0000765-LIC                Retailer                Corporation   \n",
       "6495    C11-0001277-LIC             Distributor                Corporation   \n",
       "6496     C9-0000391-LIC  Retailer Nonstorefront                Corporation   \n",
       "6497    C12-0000333-LIC           Microbusiness  Limited Liability Company   \n",
       "6498    C10-0000766-LIC                Retailer                Corporation   \n",
       "\n",
       "                                        premise_address  date_issue  \\\n",
       "0                      OAKLAND, CA94608 County: ALAMEDA  12/20/2019   \n",
       "1                        HESPERIA, CA92394 County: null  12/12/2019   \n",
       "2                        MURRIETA, CA92562 County: null  12/02/2019   \n",
       "3         SAN FRANCISCO, CA94111 County: SAN FRANCISCO   10/22/2019   \n",
       "4                     HAYWARD, CA94541 County: ALAMEDA   11/26/2019   \n",
       "...                                                 ...         ...   \n",
       "6494  872  WASHINGTON STPERRIS, CA925718835 County: ...  12/07/2020   \n",
       "6495           LONG BEACH, CA90813 County: LOS ANGELES   12/08/2020   \n",
       "6496               TRUCKEE, CA961610263 County: NEVADA   12/09/2020   \n",
       "6497         SAN JOSE, CA951113103 County: SANTA CLARA   12/09/2020   \n",
       "6498  1474 W RAMSEY STBANNING, CA922204427 County: R...  12/09/2020   \n",
       "\n",
       "     date_expiration  \n",
       "0         12/19/2020  \n",
       "1         12/11/2020  \n",
       "2         12/01/2020  \n",
       "3         10/21/2021  \n",
       "4         11/25/2020  \n",
       "...              ...  \n",
       "6494      12/07/2021  \n",
       "6495      12/08/2021  \n",
       "6496      12/09/2021  \n",
       "6497      12/09/2021  \n",
       "6498      12/09/2021  \n",
       "\n",
       "[3101 rows x 6 columns]"
      ]
     },
     "execution_count": 16,
     "metadata": {},
     "output_type": "execute_result"
    }
   ],
   "source": [
    "bcc_edited"
   ]
  },
  {
   "cell_type": "code",
   "execution_count": 17,
   "metadata": {},
   "outputs": [],
   "source": [
    "# This doesn't seem to have as much data as the other file\n",
    "\n",
    "bcc_edited['business_description'] = ''\n",
    "\n",
    "for n in range(len(bcc_df)):\n",
    "    description = []\n",
    "    if bcc_df['microActivityRetailer'][n] == 1:\n",
    "        description.append('Retailer')\n",
    "    if bcc_df['microActivityRetailerNonStorefront'][n] == 1:\n",
    "        description.append('Retailer Non-Storefront')\n",
    "    if bcc_df['microActivityDistributor'][n] == 1:\n",
    "        description.append('Distributor')\n",
    "    if bcc_df['microActivityDistributorTransportOnly'][n] == 1:\n",
    "        description.append('Distributor-Transport Only')\n",
    "    if bcc_df['microActivityLevel1Manufacturer'][n] == 1:\n",
    "        description.append('Level 1 Manufacturer')    \n",
    "    if bcc_df['microActivityCultivator'][n] == 1:\n",
    "        description.append('Cultivator (less than 10K sq ft)')\n",
    "\n",
    "    bcc_edited['business_description'][n] = description"
   ]
  },
  {
   "cell_type": "code",
   "execution_count": 18,
   "metadata": {},
   "outputs": [],
   "source": [
    "bcc_edited['in_db'] = 0"
   ]
  },
  {
   "cell_type": "code",
   "execution_count": 19,
   "metadata": {},
   "outputs": [],
   "source": [
    "# This renames the adultUse and medicinal columns\n",
    "\n",
    "bcc_edited['license_adult'] = bcc_df['adultUse']\n",
    "bcc_edited['license_medicinal'] = bcc_df['medicinal']"
   ]
  },
  {
   "cell_type": "code",
   "execution_count": 20,
   "metadata": {},
   "outputs": [],
   "source": [
    "# This splits up the licenseStatus into seperate columns\n",
    "\n",
    "bcc_edited['status_active'] = (bcc_df['licenseStatus'] == 'Active').astype(int)\n",
    "bcc_edited['status_canceled'] = (bcc_df['licenseStatus'] == 'Canceled').astype(int)\n",
    "bcc_edited['status_expired'] = (bcc_df['licenseStatus'] == 'Expired').astype(int)\n",
    "bcc_edited['status_inactive'] = (bcc_df['licenseStatus'] == 'Inactive').astype(int)\n",
    "bcc_edited['status_revoked'] = (bcc_df['licenseStatus'] == 'Revoked').astype(int)\n",
    "bcc_edited['status_surrendered'] = (bcc_df['licenseStatus'] == 'Surrendered').astype(int)\n",
    "bcc_edited['status_suspended'] = (bcc_df['licenseStatus'] == 'Suspended').astype(int)"
   ]
  },
  {
   "cell_type": "code",
   "execution_count": 21,
   "metadata": {},
   "outputs": [],
   "source": [
    "# This just indicates where the data comes from for when it is combined with other data\n",
    "\n",
    "bcc_edited['license_category'] = 'Bureau of Cannabis Control'"
   ]
  },
  {
   "cell_type": "code",
   "execution_count": 22,
   "metadata": {},
   "outputs": [],
   "source": [
    "# This moves the name's over to the new dataframe\n",
    "\n",
    "bcc_edited['name_legal'] = bcc_df['businessName']\n",
    "bcc_edited['name_dba'] = bcc_df['businessDBA']"
   ]
  },
  {
   "cell_type": "code",
   "execution_count": 23,
   "metadata": {},
   "outputs": [],
   "source": [
    "# This moves the contact info over to the new dataframe\n",
    "\n",
    "bcc_edited['contact_email'] = bcc_df['email']\n",
    "bcc_edited['contact_phone'] = bcc_df['phone']\n",
    "bcc_edited['contact_website'] = bcc_df['website']"
   ]
  },
  {
   "cell_type": "code",
   "execution_count": 24,
   "metadata": {},
   "outputs": [
    {
     "name": "stderr",
     "output_type": "stream",
     "text": [
      "C:\\Users\\nolan\\Anaconda3\\lib\\site-packages\\ipykernel_launcher.py:5: SettingWithCopyWarning: \n",
      "A value is trying to be set on a copy of a slice from a DataFrame\n",
      "\n",
      "See the caveats in the documentation: https://pandas.pydata.org/pandas-docs/stable/user_guide/indexing.html#returning-a-view-versus-a-copy\n",
      "  \"\"\"\n"
     ]
    },
    {
     "ename": "KeyError",
     "evalue": "2879",
     "output_type": "error",
     "traceback": [
      "\u001b[1;31m---------------------------------------------------------------------------\u001b[0m",
      "\u001b[1;31mKeyError\u001b[0m                                  Traceback (most recent call last)",
      "\u001b[1;32m~\\Anaconda3\\lib\\site-packages\\pandas\\core\\indexes\\base.py\u001b[0m in \u001b[0;36mget_loc\u001b[1;34m(self, key, method, tolerance)\u001b[0m\n\u001b[0;32m   2897\u001b[0m             \u001b[1;32mtry\u001b[0m\u001b[1;33m:\u001b[0m\u001b[1;33m\u001b[0m\u001b[1;33m\u001b[0m\u001b[0m\n\u001b[1;32m-> 2898\u001b[1;33m                 \u001b[1;32mreturn\u001b[0m \u001b[0mself\u001b[0m\u001b[1;33m.\u001b[0m\u001b[0m_engine\u001b[0m\u001b[1;33m.\u001b[0m\u001b[0mget_loc\u001b[0m\u001b[1;33m(\u001b[0m\u001b[0mcasted_key\u001b[0m\u001b[1;33m)\u001b[0m\u001b[1;33m\u001b[0m\u001b[1;33m\u001b[0m\u001b[0m\n\u001b[0m\u001b[0;32m   2899\u001b[0m             \u001b[1;32mexcept\u001b[0m \u001b[0mKeyError\u001b[0m \u001b[1;32mas\u001b[0m \u001b[0merr\u001b[0m\u001b[1;33m:\u001b[0m\u001b[1;33m\u001b[0m\u001b[1;33m\u001b[0m\u001b[0m\n",
      "\u001b[1;32mpandas\\_libs\\index.pyx\u001b[0m in \u001b[0;36mpandas._libs.index.IndexEngine.get_loc\u001b[1;34m()\u001b[0m\n",
      "\u001b[1;32mpandas\\_libs\\index.pyx\u001b[0m in \u001b[0;36mpandas._libs.index.IndexEngine.get_loc\u001b[1;34m()\u001b[0m\n",
      "\u001b[1;32mpandas\\_libs\\hashtable_class_helper.pxi\u001b[0m in \u001b[0;36mpandas._libs.hashtable.Int64HashTable.get_item\u001b[1;34m()\u001b[0m\n",
      "\u001b[1;32mpandas\\_libs\\hashtable_class_helper.pxi\u001b[0m in \u001b[0;36mpandas._libs.hashtable.Int64HashTable.get_item\u001b[1;34m()\u001b[0m\n",
      "\u001b[1;31mKeyError\u001b[0m: 2879",
      "\nThe above exception was the direct cause of the following exception:\n",
      "\u001b[1;31mKeyError\u001b[0m                                  Traceback (most recent call last)",
      "\u001b[1;32m<ipython-input-24-013c04ab7be8>\u001b[0m in \u001b[0;36m<module>\u001b[1;34m\u001b[0m\n\u001b[0;32m      3\u001b[0m \u001b[0mbcc_edited\u001b[0m\u001b[1;33m[\u001b[0m\u001b[1;34m'contact_owners'\u001b[0m\u001b[1;33m]\u001b[0m \u001b[1;33m=\u001b[0m \u001b[0mbcc_df\u001b[0m\u001b[1;33m[\u001b[0m\u001b[1;34m'businessOwner'\u001b[0m\u001b[1;33m]\u001b[0m\u001b[1;33m\u001b[0m\u001b[1;33m\u001b[0m\u001b[0m\n\u001b[0;32m      4\u001b[0m \u001b[1;32mfor\u001b[0m \u001b[0mn\u001b[0m \u001b[1;32min\u001b[0m \u001b[0mrange\u001b[0m\u001b[1;33m(\u001b[0m\u001b[0mlen\u001b[0m\u001b[1;33m(\u001b[0m\u001b[0mbcc_edited\u001b[0m\u001b[1;33m)\u001b[0m\u001b[1;33m)\u001b[0m\u001b[1;33m:\u001b[0m\u001b[1;33m\u001b[0m\u001b[1;33m\u001b[0m\u001b[0m\n\u001b[1;32m----> 5\u001b[1;33m     \u001b[0mbcc_edited\u001b[0m\u001b[1;33m[\u001b[0m\u001b[1;34m'contact_owners'\u001b[0m\u001b[1;33m]\u001b[0m\u001b[1;33m[\u001b[0m\u001b[0mn\u001b[0m\u001b[1;33m]\u001b[0m \u001b[1;33m=\u001b[0m \u001b[0mbcc_edited\u001b[0m\u001b[1;33m[\u001b[0m\u001b[1;34m'contact_owners'\u001b[0m\u001b[1;33m]\u001b[0m\u001b[1;33m[\u001b[0m\u001b[0mn\u001b[0m\u001b[1;33m]\u001b[0m\u001b[1;33m.\u001b[0m\u001b[0msplit\u001b[0m\u001b[1;33m(\u001b[0m\u001b[1;34m','\u001b[0m\u001b[1;33m)\u001b[0m\u001b[1;33m\u001b[0m\u001b[1;33m\u001b[0m\u001b[0m\n\u001b[0m\u001b[0;32m      6\u001b[0m \u001b[1;33m\u001b[0m\u001b[0m\n\u001b[0;32m      7\u001b[0m \u001b[0mbcc_edited\u001b[0m\u001b[1;33m[\u001b[0m\u001b[1;34m'contact_owner_1'\u001b[0m\u001b[1;33m]\u001b[0m \u001b[1;33m=\u001b[0m \u001b[0mbcc_edited\u001b[0m\u001b[1;33m[\u001b[0m\u001b[1;34m'contact_owners'\u001b[0m\u001b[1;33m]\u001b[0m\u001b[1;33m\u001b[0m\u001b[1;33m\u001b[0m\u001b[0m\n",
      "\u001b[1;32m~\\Anaconda3\\lib\\site-packages\\pandas\\core\\series.py\u001b[0m in \u001b[0;36m__getitem__\u001b[1;34m(self, key)\u001b[0m\n\u001b[0;32m    880\u001b[0m \u001b[1;33m\u001b[0m\u001b[0m\n\u001b[0;32m    881\u001b[0m         \u001b[1;32melif\u001b[0m \u001b[0mkey_is_scalar\u001b[0m\u001b[1;33m:\u001b[0m\u001b[1;33m\u001b[0m\u001b[1;33m\u001b[0m\u001b[0m\n\u001b[1;32m--> 882\u001b[1;33m             \u001b[1;32mreturn\u001b[0m \u001b[0mself\u001b[0m\u001b[1;33m.\u001b[0m\u001b[0m_get_value\u001b[0m\u001b[1;33m(\u001b[0m\u001b[0mkey\u001b[0m\u001b[1;33m)\u001b[0m\u001b[1;33m\u001b[0m\u001b[1;33m\u001b[0m\u001b[0m\n\u001b[0m\u001b[0;32m    883\u001b[0m \u001b[1;33m\u001b[0m\u001b[0m\n\u001b[0;32m    884\u001b[0m         \u001b[1;32mif\u001b[0m \u001b[0mis_hashable\u001b[0m\u001b[1;33m(\u001b[0m\u001b[0mkey\u001b[0m\u001b[1;33m)\u001b[0m\u001b[1;33m:\u001b[0m\u001b[1;33m\u001b[0m\u001b[1;33m\u001b[0m\u001b[0m\n",
      "\u001b[1;32m~\\Anaconda3\\lib\\site-packages\\pandas\\core\\series.py\u001b[0m in \u001b[0;36m_get_value\u001b[1;34m(self, label, takeable)\u001b[0m\n\u001b[0;32m    988\u001b[0m \u001b[1;33m\u001b[0m\u001b[0m\n\u001b[0;32m    989\u001b[0m         \u001b[1;31m# Similar to Index.get_value, but we do not fall back to positional\u001b[0m\u001b[1;33m\u001b[0m\u001b[1;33m\u001b[0m\u001b[1;33m\u001b[0m\u001b[0m\n\u001b[1;32m--> 990\u001b[1;33m         \u001b[0mloc\u001b[0m \u001b[1;33m=\u001b[0m \u001b[0mself\u001b[0m\u001b[1;33m.\u001b[0m\u001b[0mindex\u001b[0m\u001b[1;33m.\u001b[0m\u001b[0mget_loc\u001b[0m\u001b[1;33m(\u001b[0m\u001b[0mlabel\u001b[0m\u001b[1;33m)\u001b[0m\u001b[1;33m\u001b[0m\u001b[1;33m\u001b[0m\u001b[0m\n\u001b[0m\u001b[0;32m    991\u001b[0m         \u001b[1;32mreturn\u001b[0m \u001b[0mself\u001b[0m\u001b[1;33m.\u001b[0m\u001b[0mindex\u001b[0m\u001b[1;33m.\u001b[0m\u001b[0m_get_values_for_loc\u001b[0m\u001b[1;33m(\u001b[0m\u001b[0mself\u001b[0m\u001b[1;33m,\u001b[0m \u001b[0mloc\u001b[0m\u001b[1;33m,\u001b[0m \u001b[0mlabel\u001b[0m\u001b[1;33m)\u001b[0m\u001b[1;33m\u001b[0m\u001b[1;33m\u001b[0m\u001b[0m\n\u001b[0;32m    992\u001b[0m \u001b[1;33m\u001b[0m\u001b[0m\n",
      "\u001b[1;32m~\\Anaconda3\\lib\\site-packages\\pandas\\core\\indexes\\base.py\u001b[0m in \u001b[0;36mget_loc\u001b[1;34m(self, key, method, tolerance)\u001b[0m\n\u001b[0;32m   2898\u001b[0m                 \u001b[1;32mreturn\u001b[0m \u001b[0mself\u001b[0m\u001b[1;33m.\u001b[0m\u001b[0m_engine\u001b[0m\u001b[1;33m.\u001b[0m\u001b[0mget_loc\u001b[0m\u001b[1;33m(\u001b[0m\u001b[0mcasted_key\u001b[0m\u001b[1;33m)\u001b[0m\u001b[1;33m\u001b[0m\u001b[1;33m\u001b[0m\u001b[0m\n\u001b[0;32m   2899\u001b[0m             \u001b[1;32mexcept\u001b[0m \u001b[0mKeyError\u001b[0m \u001b[1;32mas\u001b[0m \u001b[0merr\u001b[0m\u001b[1;33m:\u001b[0m\u001b[1;33m\u001b[0m\u001b[1;33m\u001b[0m\u001b[0m\n\u001b[1;32m-> 2900\u001b[1;33m                 \u001b[1;32mraise\u001b[0m \u001b[0mKeyError\u001b[0m\u001b[1;33m(\u001b[0m\u001b[0mkey\u001b[0m\u001b[1;33m)\u001b[0m \u001b[1;32mfrom\u001b[0m \u001b[0merr\u001b[0m\u001b[1;33m\u001b[0m\u001b[1;33m\u001b[0m\u001b[0m\n\u001b[0m\u001b[0;32m   2901\u001b[0m \u001b[1;33m\u001b[0m\u001b[0m\n\u001b[0;32m   2902\u001b[0m         \u001b[1;32mif\u001b[0m \u001b[0mtolerance\u001b[0m \u001b[1;32mis\u001b[0m \u001b[1;32mnot\u001b[0m \u001b[1;32mNone\u001b[0m\u001b[1;33m:\u001b[0m\u001b[1;33m\u001b[0m\u001b[1;33m\u001b[0m\u001b[0m\n",
      "\u001b[1;31mKeyError\u001b[0m: 2879"
     ]
    }
   ],
   "source": [
    "# This moves over and slits the contact list\n",
    "\n",
    "bcc_edited['contact_owners'] = bcc_df['businessOwner']\n",
    "for n in range(len(bcc_edited)):\n",
    "    bcc_edited['contact_owners'][n] = bcc_edited['contact_owners'][n].split(',')\n",
    "\n",
    "bcc_edited['contact_owner_1'] = bcc_edited['contact_owners']\n",
    "bcc_edited['contact_owner_2'] = bcc_edited['contact_owners']\n",
    "for n in range(len(bcc_edited)):\n",
    "    bcc_edited['contact_owner_1'][n] = bcc_edited['contact_owner_1'][n][0]\n",
    "    if len(bcc_edited['contact_owner_2'][n]) > 1:\n",
    "        bcc_edited['contact_owner_2'][n] = bcc_edited['contact_owner_2'][n][1]\n",
    "    else:\n",
    "        bcc_edited['contact_owner_2'][n] = ''\n",
    "\n",
    "# bcc_edited = bcc_edited.drop(columns='contact_owners')"
   ]
  },
  {
   "cell_type": "code",
   "execution_count": null,
   "metadata": {},
   "outputs": [],
   "source": [
    "bcc_df[bcc_df['licenseNumber'] == 'C12-0000301-LIC']"
   ]
  },
  {
   "cell_type": "code",
   "execution_count": null,
   "metadata": {},
   "outputs": [],
   "source": [
    "bcc_edited[bcc_edited['license_number'] == 'C12-0000301-LIC']"
   ]
  },
  {
   "cell_type": "code",
   "execution_count": null,
   "metadata": {},
   "outputs": [],
   "source": [
    "bcc_edited.head(3)"
   ]
  },
  {
   "cell_type": "code",
   "execution_count": null,
   "metadata": {},
   "outputs": [],
   "source": []
  }
 ],
 "metadata": {
  "kernelspec": {
   "display_name": "Python 3",
   "language": "python",
   "name": "python3"
  },
  "language_info": {
   "codemirror_mode": {
    "name": "ipython",
    "version": 3
   },
   "file_extension": ".py",
   "mimetype": "text/x-python",
   "name": "python",
   "nbconvert_exporter": "python",
   "pygments_lexer": "ipython3",
   "version": "3.7.3"
  }
 },
 "nbformat": 4,
 "nbformat_minor": 2
}
