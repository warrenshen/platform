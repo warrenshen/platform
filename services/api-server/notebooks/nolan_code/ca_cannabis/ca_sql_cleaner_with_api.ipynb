{
 "cells": [
  {
   "cell_type": "code",
   "execution_count": null,
   "metadata": {},
   "outputs": [],
   "source": [
    "import pandas as pd\n",
    "import pyodbc\n",
    "import pymssql\n",
    "from pathlib import Path\n",
    "from sqlalchemy import create_engine\n",
    "import numpy as np\n",
    "import urllib\n",
    "import datetime as dt\n",
    "import re\n",
    "import requests\n",
    "import mysql.connector\n",
    "from time import sleep"
   ]
  },
  {
   "cell_type": "code",
   "execution_count": null,
   "metadata": {},
   "outputs": [],
   "source": [
    "# https://search.cannabis.ca.gov/"
   ]
  },
  {
   "cell_type": "code",
   "execution_count": null,
   "metadata": {},
   "outputs": [],
   "source": [
    "pd.options.display.max_columns = 100"
   ]
  },
  {
   "cell_type": "code",
   "execution_count": null,
   "metadata": {},
   "outputs": [],
   "source": [
    "# Start off by creating the data information for the files\n",
    "\n",
    "current_date = dt.date(2021, 10, 6)\n",
    "\n",
    "current_day = current_date.strftime(\"%d\")\n",
    "current_month = current_date.strftime(\"%m\")\n",
    "current_year = current_date.strftime(\"%Y\")"
   ]
  },
  {
   "cell_type": "code",
   "execution_count": null,
   "metadata": {},
   "outputs": [],
   "source": []
  },
  {
   "cell_type": "markdown",
   "metadata": {},
   "source": [
    "### Create SQL Connection"
   ]
  },
  {
   "cell_type": "code",
   "execution_count": null,
   "metadata": {},
   "outputs": [],
   "source": [
    "# # This creates the local connection to SQL\n",
    "\n",
    "# driver = \"ODBC Driver 17 for SQL Server\"\n",
    "# engine = create_engine(f'mssql://LAPTOP-E6QKON1L/ca_cannabis?driver={driver}')\n",
    "# engine_con = engine.connect()"
   ]
  },
  {
   "cell_type": "code",
   "execution_count": null,
   "metadata": {},
   "outputs": [],
   "source": [
    "# This creates the connection to the California Cannabis files in SQL\n",
    "\n",
    "params = urllib.parse.quote_plus(\"DRIVER={ODBC Driver 17 for SQL Server};\"\n",
    "                                 \"SERVER=bespoke-database-1.cmevrozrcs7c.us-west-2.rds.amazonaws.com;\"\n",
    "                                 \"DATABASE=ca_cannabis;\"\n",
    "                                 \"UID=admin;\"\n",
    "                                 \"PWD=N19lrqxnurTUJLJT6GFe\")\n",
    "engine_con = create_engine(\"mssql+pyodbc:///?odbc_connect={}\".format(params))"
   ]
  },
  {
   "cell_type": "code",
   "execution_count": null,
   "metadata": {},
   "outputs": [],
   "source": []
  },
  {
   "cell_type": "code",
   "execution_count": null,
   "metadata": {},
   "outputs": [],
   "source": [
    "# This reads in the 3 old SQL tables that we're working with\n",
    "\n",
    "ca_main_old = pd.read_sql(\"SELECT * FROM ca_main\", engine_con)\n",
    "ca_roll_old = pd.read_sql(\"SELECT * FROM ca_roll\", engine_con)\n",
    "ca_contact_old = pd.read_sql(\"SELECT * FROM ca_contact\", engine_con)"
   ]
  },
  {
   "cell_type": "code",
   "execution_count": null,
   "metadata": {},
   "outputs": [],
   "source": []
  },
  {
   "cell_type": "markdown",
   "metadata": {},
   "source": [
    "### Read in the California Cannabis Portal Data"
   ]
  },
  {
   "cell_type": "code",
   "execution_count": null,
   "metadata": {},
   "outputs": [],
   "source": [
    "# Start by reading in and combining the two file types from the CCP site\n",
    "# https://search.cannabis.ca.gov/\n",
    "# Do not forget to choose All Data instead of only Visible Data\n",
    "\n",
    "annual_df = pd.read_csv(f\"license_repository/ccp_annual_{current_year}_{current_month}_{current_day}.csv\")\n",
    "provisional_df = pd.read_csv(f\"license_repository/ccp_provisional_{current_year}_{current_month}_{current_day}.csv\")\n",
    "\n",
    "ccp_df = annual_df.append(provisional_df)"
   ]
  },
  {
   "cell_type": "code",
   "execution_count": null,
   "metadata": {},
   "outputs": [],
   "source": []
  },
  {
   "cell_type": "markdown",
   "metadata": {},
   "source": [
    "### Read in the API"
   ]
  },
  {
   "cell_type": "code",
   "execution_count": null,
   "metadata": {},
   "outputs": [],
   "source": [
    "# This is the curl code given by https://iservices.dca.ca.gov/docs/bcclicensereadservices#/\n",
    "# curl -X GET --header \"Accept: */*\" --header \"app_id: 6c4528f5\" --header \"app_key: f82d0e73e4b21beb466a0e10f19339dc\" \"https://iservices.dca.ca.gov/api/bcclicenseread/getAllBccLicenses\"\n",
    "\n",
    "# This is the curl code translated to Python with https://curl.trillworks.com/\n",
    "\n",
    "headers = {\n",
    "    'Accept': '*/*',\n",
    "    'app_id': '6c4528f5',\n",
    "    'app_key': 'f82d0e73e4b21beb466a0e10f19339dc',\n",
    "}\n",
    "\n",
    "response = requests.get('https://iservices.dca.ca.gov/api/bcclicenseread/getAllBccLicenses', headers=headers)"
   ]
  },
  {
   "cell_type": "code",
   "execution_count": null,
   "metadata": {},
   "outputs": [],
   "source": [
    "# This translates it to a Pandas dataframe\n",
    "\n",
    "api_df = pd.DataFrame(response.json())"
   ]
  },
  {
   "cell_type": "code",
   "execution_count": null,
   "metadata": {},
   "outputs": [],
   "source": [
    "api_df.head()"
   ]
  },
  {
   "cell_type": "code",
   "execution_count": null,
   "metadata": {},
   "outputs": [],
   "source": []
  },
  {
   "cell_type": "code",
   "execution_count": null,
   "metadata": {},
   "outputs": [],
   "source": []
  },
  {
   "cell_type": "markdown",
   "metadata": {},
   "source": [
    "### Combine API Data and CCP Data"
   ]
  },
  {
   "cell_type": "code",
   "execution_count": null,
   "metadata": {},
   "outputs": [],
   "source": [
    "# We start by just merging the two\n",
    "# Since the API data is only for data from the BCC licencing authority, it will need to be recombined with the rest later\n",
    "\n",
    "bcc_combined = ccp_df.merge(api_df, on='licenseNumber', how='inner', suffixes=('_ccp', '_api'))"
   ]
  },
  {
   "cell_type": "code",
   "execution_count": null,
   "metadata": {},
   "outputs": [],
   "source": [
    "bcc_combined.head()"
   ]
  },
  {
   "cell_type": "code",
   "execution_count": null,
   "metadata": {},
   "outputs": [],
   "source": []
  },
  {
   "cell_type": "code",
   "execution_count": null,
   "metadata": {},
   "outputs": [],
   "source": [
    "# Then we seperate out what information we need\n",
    "\n",
    "bcc_df = pd.DataFrame(bcc_combined['licenseNumber']).rename(columns={'licenseNumber': 'license_number'})\n",
    "\n",
    "# bcc_df['license_category'] = bcc_combined['licensingAuthority']\n",
    "bcc_df['license_description'] = bcc_combined['licenseType_ccp']\n",
    "bcc_df['license_term'] = bcc_combined['licenseTerm']\n",
    "bcc_df['license_status'] = bcc_combined['licenseStatus_ccp']\n",
    "\n",
    "bcc_df['name_legal'] = bcc_combined['businessLegalName']\n",
    "bcc_df['name_dba'] = bcc_combined['businessDbaName']\n",
    "\n",
    "bcc_df['date_issue'] = bcc_combined['issueDate']\n",
    "bcc_df['date_expiration'] = bcc_combined['expirationDate']\n",
    "\n",
    "bcc_df['business_description'] = bcc_combined['activity']\n",
    "bcc_df['business_structure'] = bcc_combined['businessStructure_api']\n",
    "\n",
    "bcc_df['adult_medicinal'] = bcc_combined['licenseDesignation']\n",
    "\n",
    "bcc_df['contact_email'] = bcc_combined['email']\n",
    "bcc_df['contact_phone'] = bcc_combined['phone']\n",
    "bcc_df['contact_website'] = bcc_combined['website']\n",
    "bcc_df['business_owner'] = bcc_combined['businessOwner']\n",
    "bcc_df['contact_street'] = bcc_combined['premiseStreetAddress']\n",
    "bcc_df['contact_city'] = bcc_combined['premiseCity_api']\n",
    "bcc_df['contact_county'] = bcc_combined['premiseCounty_api']\n",
    "bcc_df['contact_state'] = 'CA'\n",
    "bcc_df['contact_zip'] = bcc_combined['premiseZip']"
   ]
  },
  {
   "cell_type": "code",
   "execution_count": null,
   "metadata": {},
   "outputs": [],
   "source": []
  },
  {
   "cell_type": "code",
   "execution_count": null,
   "metadata": {},
   "outputs": [],
   "source": []
  },
  {
   "cell_type": "markdown",
   "metadata": {},
   "source": [
    "### Clean Non BCC Data"
   ]
  },
  {
   "cell_type": "code",
   "execution_count": null,
   "metadata": {},
   "outputs": [],
   "source": [
    "## Start by removing the BCC rows from the CCP df\n",
    "\n",
    "# bcc_removed = ccp_df[ccp_df['licensingAuthorityId'] != 'BCC']\n",
    "\n",
    "# Welp, it seems they removed that column, so let's do it this way now\n",
    "\n",
    "bcc_types_list = ['Commercial -  Distributor', 'Commercial -  Distributor - Transport Only', 'Commercial -  Event Organizer', 'Commercial -  Retailer', 'Commercial -  Retailer - Non-Storefront', 'Commercial -  Microbusiness']\n",
    "\n",
    "bcc_removed = ccp_df[~ccp_df['licenseType'].isin(bcc_types_list)]"
   ]
  },
  {
   "cell_type": "code",
   "execution_count": null,
   "metadata": {},
   "outputs": [],
   "source": [
    "bcc_removed.licenseDesignation.value_counts()"
   ]
  },
  {
   "cell_type": "code",
   "execution_count": null,
   "metadata": {},
   "outputs": [],
   "source": []
  },
  {
   "cell_type": "code",
   "execution_count": null,
   "metadata": {},
   "outputs": [],
   "source": [
    "non_bcc_df = pd.DataFrame(bcc_removed['licenseNumber']).rename(columns={'licenseNumber':'license_number'})"
   ]
  },
  {
   "cell_type": "code",
   "execution_count": null,
   "metadata": {},
   "outputs": [],
   "source": [
    "non_bcc_df"
   ]
  },
  {
   "cell_type": "code",
   "execution_count": null,
   "metadata": {},
   "outputs": [],
   "source": []
  },
  {
   "cell_type": "code",
   "execution_count": null,
   "metadata": {},
   "outputs": [],
   "source": []
  },
  {
   "cell_type": "code",
   "execution_count": null,
   "metadata": {},
   "outputs": [],
   "source": [
    "bcc_removed.columns"
   ]
  },
  {
   "cell_type": "code",
   "execution_count": null,
   "metadata": {},
   "outputs": [],
   "source": [
    "# non_bcc_df['license_category'] = bcc_removed['licensingAuthority']\n",
    "non_bcc_df['license_description'] = bcc_removed['licenseType']\n",
    "non_bcc_df['license_term'] = bcc_removed['licenseTerm']\n",
    "non_bcc_df['license_status'] = bcc_removed['licenseStatus']\n",
    "\n",
    "non_bcc_df['name_legal'] = bcc_removed['businessLegalName']\n",
    "non_bcc_df['name_dba'] = bcc_removed['businessDbaName']\n",
    "\n",
    "non_bcc_df['date_issue'] = bcc_removed['issueDate']\n",
    "non_bcc_df['date_expiration'] = bcc_removed['expirationDate']\n",
    "\n",
    "non_bcc_df['business_description'] = bcc_removed['activity']\n",
    "non_bcc_df['business_structure'] = bcc_removed['businessStructure']\n",
    "\n",
    "non_bcc_df['adult_medicinal'] = bcc_removed['licenseDesignation']\n",
    "\n",
    "non_bcc_df['contact_email'] = bcc_removed['businessEmail']\n",
    "non_bcc_df['contact_phone'] = bcc_removed['businessPhone']\n",
    "non_bcc_df['contact_website'] = ''\n",
    "non_bcc_df['business_owner'] = bcc_removed['businessOwnerName']\n",
    "non_bcc_df['contact_street'] = bcc_removed['premiseStreetAddress']\n",
    "non_bcc_df['contact_city'] = bcc_removed['premiseCity']\n",
    "non_bcc_df['contact_county'] = bcc_removed['premiseCounty']\n",
    "non_bcc_df['contact_state'] = 'CA'\n",
    "non_bcc_df['contact_zip'] = ''"
   ]
  },
  {
   "cell_type": "code",
   "execution_count": null,
   "metadata": {},
   "outputs": [],
   "source": [
    "non_bcc_df"
   ]
  },
  {
   "cell_type": "code",
   "execution_count": null,
   "metadata": {},
   "outputs": [],
   "source": []
  },
  {
   "cell_type": "code",
   "execution_count": null,
   "metadata": {},
   "outputs": [],
   "source": []
  },
  {
   "cell_type": "markdown",
   "metadata": {},
   "source": [
    "### Combine BCC and Non BCC"
   ]
  },
  {
   "cell_type": "code",
   "execution_count": null,
   "metadata": {},
   "outputs": [],
   "source": [
    "# This gives us the \"df_all\" CSV used in other sheets, so we can mostly copy over \n",
    "\n",
    "df_all = bcc_df.append(non_bcc_df)"
   ]
  },
  {
   "cell_type": "code",
   "execution_count": null,
   "metadata": {},
   "outputs": [],
   "source": [
    "df_all"
   ]
  },
  {
   "cell_type": "code",
   "execution_count": null,
   "metadata": {},
   "outputs": [],
   "source": []
  },
  {
   "cell_type": "code",
   "execution_count": null,
   "metadata": {},
   "outputs": [],
   "source": [
    "df_all.adult_medicinal.value_counts()"
   ]
  },
  {
   "cell_type": "code",
   "execution_count": null,
   "metadata": {},
   "outputs": [],
   "source": []
  },
  {
   "cell_type": "code",
   "execution_count": null,
   "metadata": {},
   "outputs": [],
   "source": []
  },
  {
   "cell_type": "markdown",
   "metadata": {},
   "source": [
    "#### Change Data"
   ]
  },
  {
   "cell_type": "code",
   "execution_count": null,
   "metadata": {},
   "outputs": [],
   "source": []
  },
  {
   "cell_type": "code",
   "execution_count": null,
   "metadata": {},
   "outputs": [],
   "source": [
    "# # This changes the License Category section from initials to names\n",
    "\n",
    "# df_all.license_category.replace('Bureau of Cannabis Control (BCC)', 'Bureau of Cannabis Control', inplace=True)\n",
    "# df_all.license_category.replace('CalCannabis Cultivation Licensing (CCL)', 'Cannabis Cultivation License', inplace=True)\n",
    "# df_all.license_category.replace('Manufactured Cannabis Safety Branch (MCSB)', 'Manufactured Cannabis License', inplace=True)"
   ]
  },
  {
   "cell_type": "code",
   "execution_count": null,
   "metadata": {},
   "outputs": [],
   "source": [
    "# This creates columns for Annual and Procisional type licenses by extracting from license_term\n",
    "\n",
    "df_all['license_annual'] = df_all.license_term.replace('Annual', '1').replace('Provisional', '0')\n",
    "df_all['license_provisional'] = df_all.license_term.replace('Provisional', '1').replace('Annual', '0')"
   ]
  },
  {
   "cell_type": "code",
   "execution_count": null,
   "metadata": {},
   "outputs": [],
   "source": [
    "# This creates columns for Medical and Adult Use type licenses by extracting from adult_medical\n",
    "\n",
    "df_all['license_adult'] = df_all.adult_medicinal.str.contains('Adult').astype(int)\n",
    "df_all['license_medical'] = df_all.adult_medicinal.str.contains('Med').astype(int)"
   ]
  },
  {
   "cell_type": "code",
   "execution_count": null,
   "metadata": {},
   "outputs": [],
   "source": [
    "# This removes the unnecessary information from the license_description column\n",
    "\n",
    "# idk why inplace=True didn't work, but w/e, this'll do\n",
    "df_all.license_description = df_all.license_description.str.replace(\"Commercial -  \", \"\")\n",
    "df_all.license_description = df_all.license_description.str.replace(\"Cultivation -  \", \"\")\n",
    "df_all.license_description = df_all.license_description.str.replace(\"Manufacturer - \", \"\")\n",
    "\n",
    "# This is just a minor formating thing\n",
    "df_all.license_description = df_all.license_description.str.replace(\" - \", \"-\")"
   ]
  },
  {
   "cell_type": "code",
   "execution_count": null,
   "metadata": {},
   "outputs": [],
   "source": [
    "# This creates columns for each status type by creating boolian values and converting them to int\n",
    "\n",
    "df_all['status_active'] = (df_all.license_status == 'Active').astype(int)\n",
    "df_all['status_canceled'] = (df_all.license_status == 'Canceled').astype(int)\n",
    "df_all['status_expired'] = (df_all.license_status == 'Expired').astype(int)\n",
    "df_all['status_inactive'] = (df_all.license_status == 'Inactive').astype(int)\n",
    "df_all['status_revoked'] = (df_all.license_status == 'Revoked').astype(int)\n",
    "df_all['status_surrendered'] = (df_all.license_status == 'Surrendered').astype(int)\n",
    "df_all['status_suspended'] = (df_all.license_status == 'Suspended').astype(int)"
   ]
  },
  {
   "cell_type": "code",
   "execution_count": null,
   "metadata": {},
   "outputs": [],
   "source": [
    "# This changes the date data to the correct datetime format\n",
    "# It looks like the wrong format in Pandas, but when converted to csv it is in the correct format\n",
    "\n",
    "df_all['date_issue'] = pd.to_datetime(df_all[\"date_issue\"])\n",
    "df_all['date_expiration'] = pd.to_datetime(df_all[\"date_expiration\"])"
   ]
  },
  {
   "cell_type": "code",
   "execution_count": null,
   "metadata": {},
   "outputs": [],
   "source": [
    "# This may not be necessary, but makes the code a bit cleaner\n",
    "\n",
    "df_all['business_description'] = df_all['business_description'].replace(to_replace='Data Not Available', value='')"
   ]
  },
  {
   "cell_type": "code",
   "execution_count": null,
   "metadata": {},
   "outputs": [],
   "source": []
  },
  {
   "cell_type": "code",
   "execution_count": null,
   "metadata": {},
   "outputs": [],
   "source": [
    "# This changes the contact_phone into a number instead of a string\n",
    "\n",
    "for n in range(len(df_all)):\n",
    "    df_all['contact_phone'].iloc[n] = ''.join(re.findall(r'\\d+', str(df_all['contact_phone'].iloc[n])))"
   ]
  },
  {
   "cell_type": "code",
   "execution_count": null,
   "metadata": {},
   "outputs": [],
   "source": []
  },
  {
   "cell_type": "code",
   "execution_count": null,
   "metadata": {},
   "outputs": [],
   "source": [
    "df_all.business_owner.value_counts()"
   ]
  },
  {
   "cell_type": "code",
   "execution_count": null,
   "metadata": {},
   "outputs": [],
   "source": [
    "df_all.business_owner.iloc[-5].split(', ')"
   ]
  },
  {
   "cell_type": "code",
   "execution_count": null,
   "metadata": {},
   "outputs": [],
   "source": []
  },
  {
   "cell_type": "code",
   "execution_count": null,
   "metadata": {},
   "outputs": [],
   "source": []
  },
  {
   "cell_type": "code",
   "execution_count": null,
   "metadata": {},
   "outputs": [],
   "source": []
  },
  {
   "cell_type": "code",
   "execution_count": null,
   "metadata": {},
   "outputs": [],
   "source": [
    "# This creates a list of the lists of business owners\n",
    "\n",
    "list_of_business_owner = []\n",
    "\n",
    "for n in range(len(df_all)):\n",
    "    list_of_business_owner.append(df_all.business_owner.iloc[n].split(', '))"
   ]
  },
  {
   "cell_type": "code",
   "execution_count": null,
   "metadata": {},
   "outputs": [],
   "source": [
    "# This creates 2 seperate lists for contact owners 1 and 2, when there are multiple\n",
    "\n",
    "owner_1 = []\n",
    "owner_2 = []\n",
    "\n",
    "for n in range(len(list_of_business_owner)):\n",
    "    owner_1.append(list_of_business_owner[n][0])\n",
    "    if len(list_of_business_owner[n]) == 1:\n",
    "        owner_2.append('None')\n",
    "    else:\n",
    "        owner_2.append(list_of_business_owner[n][1])"
   ]
  },
  {
   "cell_type": "code",
   "execution_count": null,
   "metadata": {},
   "outputs": [],
   "source": [
    "# This converts the lists we just created into columns for the dataframe\n",
    "\n",
    "df_all['contact_owner_1'] = owner_1\n",
    "df_all['contact_owner_2'] = owner_2"
   ]
  },
  {
   "cell_type": "code",
   "execution_count": null,
   "metadata": {},
   "outputs": [],
   "source": []
  },
  {
   "cell_type": "code",
   "execution_count": null,
   "metadata": {},
   "outputs": [],
   "source": []
  },
  {
   "cell_type": "markdown",
   "metadata": {},
   "source": [
    "#### Add Columns"
   ]
  },
  {
   "cell_type": "code",
   "execution_count": null,
   "metadata": {},
   "outputs": [],
   "source": [
    "# This creates the name_legal_clean column by using the name_legal column as a starting point and cleaning from there\n",
    "\n",
    "df_all['name_legal_clean'] = df_all['name_legal']\n",
    "\n",
    "df_all['name_legal_clean'] = df_all['name_legal_clean'].str.lower() \n",
    "df_all['name_legal_clean'] = df_all['name_legal_clean'].str.replace(r\"\\b, inc.\\b\", \"\")\n",
    "df_all['name_legal_clean'] = df_all['name_legal_clean'].str.replace(r\"\\binc.\\b\", \"\")\n",
    "df_all['name_legal_clean'] = df_all['name_legal_clean'].str.replace(r\"\\binc\\b\", \"\")\n",
    "df_all['name_legal_clean'] = df_all['name_legal_clean'].str.replace(r\"\\b, llc.\\b\", \"\") \n",
    "df_all['name_legal_clean'] = df_all['name_legal_clean'].str.replace(r\"\\b, llc\\b\", \"\")\n",
    "df_all['name_legal_clean'] = df_all['name_legal_clean'].str.replace(r\"\\b, l.l.c.\\b\", \"\") \n",
    "df_all['name_legal_clean'] = df_all['name_legal_clean'].str.replace(r\"\\bllc\\b\", \"\")\n",
    "df_all['name_legal_clean'] = df_all['name_legal_clean'].str.replace(r\"\\bcorp.\\b\", \"\")\n",
    "df_all['name_legal_clean'] = df_all['name_legal_clean'].str.replace(r\"\\bcorp\\b\", \"\")\n",
    "df_all['name_legal_clean'] = df_all['name_legal_clean'].str.replace(r\"\\bcorporation\\b\", \"\")\n",
    "df_all['name_legal_clean'] = df_all['name_legal_clean'].str.replace(r\"\\bco.\\b\", \"\")\n",
    "df_all['name_legal_clean'] = df_all['name_legal_clean'].str.replace(r\"\\bco\\b\", \"\")\n",
    "df_all['name_legal_clean'] = df_all['name_legal_clean'].str.replace(\",\", \"\")\n",
    "df_all['name_legal_clean'] = df_all['name_legal_clean'].str.replace(\".\", \"\")\n",
    "df_all['name_legal_clean'] = df_all['name_legal_clean'].str.replace(\"'\", \"\")\n",
    "df_all['name_legal_clean'] = df_all['name_legal_clean'].str.strip()\n",
    "\n",
    "df_all['is_current'] = 1"
   ]
  },
  {
   "cell_type": "code",
   "execution_count": null,
   "metadata": {},
   "outputs": [],
   "source": [
    "# Let's just give this a glance\n",
    "\n",
    "df_all[['name_legal', 'name_legal_clean']].head()"
   ]
  },
  {
   "cell_type": "code",
   "execution_count": null,
   "metadata": {},
   "outputs": [],
   "source": []
  },
  {
   "cell_type": "code",
   "execution_count": null,
   "metadata": {},
   "outputs": [],
   "source": [
    "# It seems that a few of the websittes given are actually addresses\n",
    "# Ugh\n",
    "\n",
    "df_all[df_all['contact_website'].str.contains('Street')]"
   ]
  },
  {
   "cell_type": "code",
   "execution_count": null,
   "metadata": {},
   "outputs": [],
   "source": []
  },
  {
   "cell_type": "code",
   "execution_count": null,
   "metadata": {},
   "outputs": [],
   "source": []
  },
  {
   "cell_type": "markdown",
   "metadata": {},
   "source": [
    "## Add Data From SQL"
   ]
  },
  {
   "cell_type": "code",
   "execution_count": null,
   "metadata": {},
   "outputs": [],
   "source": []
  },
  {
   "cell_type": "code",
   "execution_count": null,
   "metadata": {},
   "outputs": [],
   "source": [
    "# This reads in the 3 old SQL tables that we're working with\n",
    "\n",
    "ca_main_old = pd.read_sql(\"SELECT * FROM ca_main\", engine_con)\n",
    "ca_roll_old = pd.read_sql(\"SELECT * FROM ca_roll\", engine_con)\n",
    "ca_contact_old = pd.read_sql(\"SELECT * FROM ca_contact\", engine_con)"
   ]
  },
  {
   "cell_type": "code",
   "execution_count": null,
   "metadata": {},
   "outputs": [],
   "source": [
    "# Will probably change this to just one of the 3, but I need to see which of them matter\n",
    "\n",
    "ca_main_old['in_main'] = 1\n",
    "ca_roll_old['in_roll'] = 1\n",
    "ca_contact_old['in_contact'] = 1"
   ]
  },
  {
   "cell_type": "code",
   "execution_count": null,
   "metadata": {},
   "outputs": [],
   "source": []
  },
  {
   "cell_type": "code",
   "execution_count": null,
   "metadata": {},
   "outputs": [],
   "source": [
    "old_main = list(ca_main_old['license_number'].unique())"
   ]
  },
  {
   "cell_type": "code",
   "execution_count": null,
   "metadata": {},
   "outputs": [],
   "source": [
    "new_main = list(df_all['license_number'].unique())"
   ]
  },
  {
   "cell_type": "code",
   "execution_count": null,
   "metadata": {},
   "outputs": [],
   "source": [
    "len(old_main)"
   ]
  },
  {
   "cell_type": "code",
   "execution_count": null,
   "metadata": {},
   "outputs": [],
   "source": [
    "len(new_main)"
   ]
  },
  {
   "cell_type": "code",
   "execution_count": null,
   "metadata": {},
   "outputs": [],
   "source": [
    "for lic in old_main:\n",
    "    if lic not in new_main:\n",
    "        print(lic)"
   ]
  },
  {
   "cell_type": "code",
   "execution_count": null,
   "metadata": {},
   "outputs": [],
   "source": []
  },
  {
   "cell_type": "code",
   "execution_count": null,
   "metadata": {},
   "outputs": [],
   "source": [
    "# Since the California database not longer has this info, we'll just use this code to help add it back in\n",
    "bcc_license_types = list(ca_main_old[ca_main_old['license_category'] == 'Bureau of Cannabis Control']['license_description'].unique())\n",
    "ccl_license_types = list(ca_main_old[ca_main_old['license_category'] == 'Cannabis Cultivation License']['license_description'].unique())\n",
    "mcl_license_types = list(ca_main_old[ca_main_old['license_category'] == 'Manufactured Cannabis License']['license_description'].unique())\n",
    "\n",
    "df_all['license_category'] = ''\n",
    "\n",
    "bcc_all = df_all[df_all['license_description'].isin(bcc_license_types)]\n",
    "ccl_all = df_all[df_all['license_description'].isin(ccl_license_types)]\n",
    "mcl_all = df_all[df_all['license_description'].isin(mcl_license_types)]\n",
    "# the_rest = df_all[~df_all['license_description'].isin(bcc_license_types.append(ccl_license_types).append(mcl_license_types))]\n",
    "\n",
    "bcc_all['license_category'] = 'Bureau of Cannabis Control'\n",
    "ccl_all['license_category'] = 'Cannabis Cultivation License'\n",
    "mcl_all['license_category'] = 'Manufactured Cannabis License'\n",
    "\n",
    "\n",
    "df_with_category = bcc_all.append(ccl_all).append(mcl_all)\n",
    "\n",
    "\n",
    "# for n in range(len(df_all)):\n",
    "#     if df_all['license_description'][n] in bcc_license_types:\n",
    "#         df_all['license_category'][n] = 'Bureau of Cannabis Control'\n",
    "#     elif df_all['license_description'][n] in ccl_license_types:\n",
    "#         df_all['license_category'][n] = 'Cannabis Cultivation License'\n",
    "#     elif df_all['license_description'][n] in mcl_license_types:\n",
    "#         df_all['license_category'][n] = 'Manufactured Cannabis License'\n",
    "#     else:\n",
    "#         df_all['license_category'][n] = ''"
   ]
  },
  {
   "cell_type": "code",
   "execution_count": null,
   "metadata": {},
   "outputs": [],
   "source": [
    "bcc_license_types"
   ]
  },
  {
   "cell_type": "code",
   "execution_count": null,
   "metadata": {},
   "outputs": [],
   "source": [
    "if len(df_all) == len(df_with_category):\n",
    "    df_all = df_with_category\n",
    "else:\n",
    "    print(error)"
   ]
  },
  {
   "cell_type": "code",
   "execution_count": null,
   "metadata": {},
   "outputs": [],
   "source": []
  },
  {
   "cell_type": "code",
   "execution_count": null,
   "metadata": {},
   "outputs": [],
   "source": []
  },
  {
   "cell_type": "code",
   "execution_count": null,
   "metadata": {},
   "outputs": [],
   "source": []
  },
  {
   "cell_type": "code",
   "execution_count": null,
   "metadata": {},
   "outputs": [],
   "source": [
    "df_all.columns"
   ]
  },
  {
   "cell_type": "code",
   "execution_count": null,
   "metadata": {},
   "outputs": [],
   "source": [
    "ca_main_old.columns"
   ]
  },
  {
   "cell_type": "markdown",
   "metadata": {},
   "source": [
    "### From CA Roll"
   ]
  },
  {
   "cell_type": "code",
   "execution_count": null,
   "metadata": {},
   "outputs": [],
   "source": []
  },
  {
   "cell_type": "code",
   "execution_count": null,
   "metadata": {},
   "outputs": [],
   "source": [
    "# This adds the roll_up_id, company_roll_up, and in_roll columns\n",
    "\n",
    "df_with_roll = df_all.merge(ca_roll_old, on='license_number', suffixes=('', '_sql'), how='left')"
   ]
  },
  {
   "cell_type": "code",
   "execution_count": null,
   "metadata": {},
   "outputs": [],
   "source": [
    "df_with_roll.in_roll.value_counts()"
   ]
  },
  {
   "cell_type": "code",
   "execution_count": null,
   "metadata": {},
   "outputs": [],
   "source": [
    "# This fills the in_roll columns\n",
    "\n",
    "df_with_roll['in_roll'] = df_with_roll.in_roll.fillna(0).astype(int)"
   ]
  },
  {
   "cell_type": "code",
   "execution_count": null,
   "metadata": {},
   "outputs": [],
   "source": [
    "df_with_roll.in_roll.value_counts()"
   ]
  },
  {
   "cell_type": "code",
   "execution_count": null,
   "metadata": {},
   "outputs": [],
   "source": [
    "df_with_roll[df_with_roll.in_roll == 0]"
   ]
  },
  {
   "cell_type": "code",
   "execution_count": null,
   "metadata": {},
   "outputs": [],
   "source": []
  },
  {
   "cell_type": "code",
   "execution_count": null,
   "metadata": {},
   "outputs": [],
   "source": []
  },
  {
   "cell_type": "markdown",
   "metadata": {},
   "source": [
    "### CA Contact"
   ]
  },
  {
   "cell_type": "code",
   "execution_count": null,
   "metadata": {},
   "outputs": [],
   "source": []
  },
  {
   "cell_type": "code",
   "execution_count": null,
   "metadata": {},
   "outputs": [],
   "source": [
    "# Don't know if this matters, but the numbers were coiming up weird\n",
    "\n",
    "ca_contact_old.contact_phone = ca_contact_old.contact_phone.astype(str)\n",
    "\n",
    "for n in range(len(ca_contact_old)):\n",
    "    ca_contact_old.contact_phone[n] = ca_contact_old.contact_phone[n][:10]\n",
    "    \n",
    "ca_contact_old.contact_phone.tail()"
   ]
  },
  {
   "cell_type": "code",
   "execution_count": null,
   "metadata": {},
   "outputs": [],
   "source": [
    "# This adds the needed info from the ca_contact database in SQL\n",
    "\n",
    "df_with_contact = df_with_roll.merge(ca_contact_old[['license_number', 'contact_website', 'contact_owner_1', 'contact_owner_2', 'in_contact']], suffixes=('', '_sql'), on='license_number', how='left')"
   ]
  },
  {
   "cell_type": "code",
   "execution_count": null,
   "metadata": {},
   "outputs": [],
   "source": [
    "df_with_contact.in_contact.value_counts()"
   ]
  },
  {
   "cell_type": "code",
   "execution_count": null,
   "metadata": {},
   "outputs": [],
   "source": [
    "# This fills the in_contact columns\n",
    "\n",
    "df_with_contact['in_contact'] = df_with_contact.in_contact.fillna(0).astype(int)"
   ]
  },
  {
   "cell_type": "code",
   "execution_count": null,
   "metadata": {},
   "outputs": [],
   "source": [
    "df_with_contact.in_contact.value_counts()"
   ]
  },
  {
   "cell_type": "code",
   "execution_count": null,
   "metadata": {},
   "outputs": [],
   "source": [
    "df_with_contact.in_roll.value_counts()"
   ]
  },
  {
   "cell_type": "code",
   "execution_count": null,
   "metadata": {},
   "outputs": [],
   "source": [
    "# df_with_contact.columns"
   ]
  },
  {
   "cell_type": "code",
   "execution_count": null,
   "metadata": {},
   "outputs": [],
   "source": [
    "df_with_contact"
   ]
  },
  {
   "cell_type": "code",
   "execution_count": null,
   "metadata": {},
   "outputs": [],
   "source": []
  },
  {
   "cell_type": "code",
   "execution_count": null,
   "metadata": {},
   "outputs": [],
   "source": []
  },
  {
   "cell_type": "markdown",
   "metadata": {},
   "source": [
    "### CA Main"
   ]
  },
  {
   "cell_type": "code",
   "execution_count": null,
   "metadata": {},
   "outputs": [],
   "source": [
    "# This adds the needed columns from ca_main \n",
    "\n",
    "df_with_main = df_with_contact.merge(ca_main_old[['license_number', 'date_uploaded', 'in_main', 'is_current']], suffixes=('', '_sql'), on='license_number', how='left')"
   ]
  },
  {
   "cell_type": "code",
   "execution_count": null,
   "metadata": {},
   "outputs": [],
   "source": [
    "df_with_main.head()"
   ]
  },
  {
   "cell_type": "code",
   "execution_count": null,
   "metadata": {},
   "outputs": [],
   "source": [
    "# This will handle the is_current\n",
    "\n",
    "current_licenses = df_all['license_number'].unique()\n",
    "\n",
    "for n in range(len(df_with_main)):\n",
    "    if df_with_main['license_number'][n] not in current_licenses:\n",
    "        df_with_main['is_current'][n] = 0\n",
    "    else:\n",
    "        df_with_main['is_current'][n] = 1\n",
    "\n",
    "df_with_main['is_current'] = df_with_main['is_current'].astype(int)"
   ]
  },
  {
   "cell_type": "code",
   "execution_count": null,
   "metadata": {},
   "outputs": [],
   "source": [
    "df_with_main.in_main.value_counts()"
   ]
  },
  {
   "cell_type": "code",
   "execution_count": null,
   "metadata": {},
   "outputs": [],
   "source": [
    "# This fills the \n",
    "\n",
    "df_with_main['in_main'] = df_with_main.in_main.fillna(0).astype(int)"
   ]
  },
  {
   "cell_type": "code",
   "execution_count": null,
   "metadata": {},
   "outputs": [],
   "source": [
    "df_with_main.in_main.value_counts()"
   ]
  },
  {
   "cell_type": "code",
   "execution_count": null,
   "metadata": {},
   "outputs": [],
   "source": [
    "df_with_main.in_contact.value_counts()"
   ]
  },
  {
   "cell_type": "code",
   "execution_count": null,
   "metadata": {},
   "outputs": [],
   "source": [
    "df_with_main.in_roll.value_counts()"
   ]
  },
  {
   "cell_type": "code",
   "execution_count": null,
   "metadata": {},
   "outputs": [],
   "source": [
    "df_with_main[df_with_main.license_number == 'CCL20-0000338']"
   ]
  },
  {
   "cell_type": "code",
   "execution_count": null,
   "metadata": {},
   "outputs": [],
   "source": [
    "df_with_main.head()"
   ]
  },
  {
   "cell_type": "code",
   "execution_count": null,
   "metadata": {},
   "outputs": [],
   "source": []
  },
  {
   "cell_type": "code",
   "execution_count": null,
   "metadata": {},
   "outputs": [],
   "source": []
  },
  {
   "cell_type": "markdown",
   "metadata": {},
   "source": [
    "## Converting File to df_to_edit Format"
   ]
  },
  {
   "cell_type": "code",
   "execution_count": null,
   "metadata": {},
   "outputs": [],
   "source": [
    "df_with_sql = df_with_main"
   ]
  },
  {
   "cell_type": "code",
   "execution_count": null,
   "metadata": {},
   "outputs": [],
   "source": [
    "# Not fully sure what this is for, but I'm following the steps in the orignial file\n",
    "\n",
    "df_with_sql['changed_contact_info'] = 0\n",
    "df_with_sql['in_db'] = 0"
   ]
  },
  {
   "cell_type": "code",
   "execution_count": null,
   "metadata": {},
   "outputs": [],
   "source": [
    "# Just wanna check that theses are the same\n",
    "\n",
    "differences = (df_with_sql['in_roll'] == df_with_sql['in_contact']).astype(int).sum() - len(df_with_sql)\n",
    "\n",
    "if differences == 0:\n",
    "    print(differences)\n",
    "else:\n",
    "    print(error)"
   ]
  },
  {
   "cell_type": "code",
   "execution_count": null,
   "metadata": {},
   "outputs": [],
   "source": [
    "# This adds the in_sql column by picking the max of in_roll and in_contact\n",
    "# They are usually the same,  but this in just in case\n",
    "\n",
    "df_with_sql['in_sql'] = df_with_sql['in_roll']\n",
    "\n",
    "df_with_sql.in_sql.value_counts()"
   ]
  },
  {
   "cell_type": "code",
   "execution_count": null,
   "metadata": {},
   "outputs": [],
   "source": []
  },
  {
   "cell_type": "code",
   "execution_count": null,
   "metadata": {},
   "outputs": [],
   "source": []
  },
  {
   "cell_type": "markdown",
   "metadata": {},
   "source": [
    "### Fixing the Website Columns"
   ]
  },
  {
   "cell_type": "code",
   "execution_count": null,
   "metadata": {},
   "outputs": [],
   "source": []
  },
  {
   "cell_type": "code",
   "execution_count": null,
   "metadata": {},
   "outputs": [],
   "source": [
    "# I hate how many types of \"None\" there are and I'm fixing this\n",
    "\n",
    "def clean_nones(column, none):\n",
    "    column.replace(np.nan, none, inplace=True)\n",
    "    column.replace('', none, inplace=True)\n",
    "    column.replace('None', none, inplace=True)\n",
    "    column.replace('none', none, inplace=True)\n",
    "    column.replace('N/A', none, inplace=True)\n",
    "    column.replace('n/a', none, inplace=True)\n",
    "    column.replace('0', none, inplace=True)\n",
    "    column.replace('Data Not Found', none, inplace=True)"
   ]
  },
  {
   "cell_type": "code",
   "execution_count": null,
   "metadata": {},
   "outputs": [],
   "source": [
    "# And then we run this for the two website columns so we can actually work with them\n",
    "\n",
    "clean_nones(df_with_sql['contact_website'], 'None')\n",
    "clean_nones(df_with_sql['contact_website_sql'], 'None')"
   ]
  },
  {
   "cell_type": "code",
   "execution_count": null,
   "metadata": {},
   "outputs": [],
   "source": []
  },
  {
   "cell_type": "code",
   "execution_count": null,
   "metadata": {},
   "outputs": [],
   "source": [
    "for n in range(len(df_with_sql)):\n",
    "    if df_with_sql['contact_website_sql'].iloc[n] == 'None':\n",
    "        if '.co' in df_with_sql['contact_website'].iloc[n]:\n",
    "            df_with_sql['contact_website_sql'].iloc[n] = df_with_sql['contact_website'].iloc[n]\n",
    "        elif '.net' in df_with_sql['contact_website'].iloc[n]:\n",
    "            df_with_sql['contact_website_sql'].iloc[n] = df_with_sql['contact_website'].iloc[n]\n",
    "        elif '.org' in df_with_sql['contact_website'].iloc[n]:\n",
    "            df_with_sql['contact_website_sql'].iloc[n] = df_with_sql['contact_website'].iloc[n]"
   ]
  },
  {
   "cell_type": "code",
   "execution_count": null,
   "metadata": {},
   "outputs": [],
   "source": []
  },
  {
   "cell_type": "code",
   "execution_count": null,
   "metadata": {},
   "outputs": [],
   "source": [
    "df_with_sql[df_with_sql['contact_website'] != df_with_sql['contact_website_sql']][['contact_website', 'contact_website_sql']]"
   ]
  },
  {
   "cell_type": "code",
   "execution_count": null,
   "metadata": {},
   "outputs": [],
   "source": []
  },
  {
   "cell_type": "code",
   "execution_count": null,
   "metadata": {},
   "outputs": [],
   "source": [
    "df_with_sql['contact_website'].value_counts()"
   ]
  },
  {
   "cell_type": "code",
   "execution_count": null,
   "metadata": {},
   "outputs": [],
   "source": [
    "df_with_sql['contact_website_sql'].value_counts()"
   ]
  },
  {
   "cell_type": "code",
   "execution_count": null,
   "metadata": {},
   "outputs": [],
   "source": []
  },
  {
   "cell_type": "code",
   "execution_count": null,
   "metadata": {},
   "outputs": [],
   "source": [
    "df_with_sql['license_term'].value_counts()"
   ]
  },
  {
   "cell_type": "code",
   "execution_count": null,
   "metadata": {},
   "outputs": [],
   "source": []
  },
  {
   "cell_type": "code",
   "execution_count": null,
   "metadata": {},
   "outputs": [],
   "source": []
  },
  {
   "cell_type": "markdown",
   "metadata": {},
   "source": [
    "### Creating the to_edit DataFrame"
   ]
  },
  {
   "cell_type": "code",
   "execution_count": null,
   "metadata": {},
   "outputs": [],
   "source": [
    "# First let's create the starter DataFrame\n",
    "\n",
    "df_to_edit = pd.DataFrame()"
   ]
  },
  {
   "cell_type": "code",
   "execution_count": null,
   "metadata": {},
   "outputs": [],
   "source": [
    "# This is easier than removing all the unnneded columns manually\n",
    "\n",
    "df_to_edit['license_number'] = df_with_sql['license_number']\n",
    "df_to_edit['license_category'] = df_with_sql['license_category']\n",
    "df_to_edit['license_description'] = df_with_sql['license_description']\n",
    "df_to_edit['license_adult'] = df_with_sql['license_adult']\n",
    "df_to_edit['license_medicinal'] = df_with_sql['license_medical']\n",
    "df_to_edit['license_annual'] = df_with_sql['license_annual']\n",
    "df_to_edit['license_provisional'] = df_with_sql['license_provisional']\n",
    "\n",
    "df_to_edit['name_legal'] = df_with_sql['name_legal']\n",
    "df_to_edit['name_dba'] = df_with_sql['name_dba']\n",
    "df_to_edit['name_legal_clean'] = df_with_sql['name_legal_clean']\n",
    "df_to_edit['roll_up_id'] = df_with_sql['roll_up_id']\n",
    "df_to_edit['company_roll_up'] = df_with_sql['company_roll_up']\n",
    "df_to_edit['date_issue'] = df_with_sql['date_issue']\n",
    "df_to_edit['date_expiration'] = df_with_sql['date_expiration']\n",
    "\n",
    "df_to_edit['status_active'] = df_with_sql['status_active']\n",
    "df_to_edit['status_canceled'] = df_with_sql['status_canceled']\n",
    "df_to_edit['status_expired'] = df_with_sql['status_expired']\n",
    "df_to_edit['status_inactive'] = df_with_sql['status_inactive']\n",
    "df_to_edit['status_revoked'] = df_with_sql['status_revoked']\n",
    "df_to_edit['status_surrendered'] = df_with_sql['status_surrendered']\n",
    "df_to_edit['status_suspended'] = df_with_sql['status_suspended']\n",
    "\n",
    "df_to_edit['business_description'] = df_with_sql['business_description']\n",
    "df_to_edit['business_company_type'] = df_with_sql['business_structure']\n",
    "\n",
    "df_to_edit['contact_email'] = df_with_sql['contact_email']\n",
    "df_to_edit['contact_phone'] = df_with_sql['contact_phone']\n",
    "df_to_edit['contact_website'] = df_with_sql['contact_website_sql']\n",
    "df_to_edit['contact_owner_1'] = df_with_sql['contact_owner_1']\n",
    "df_to_edit['contact_owner_2'] = df_with_sql['contact_owner_2']\n",
    "df_to_edit['contact_street'] = df_with_sql['contact_street']\n",
    "df_to_edit['contact_city'] = df_with_sql['contact_city']\n",
    "df_to_edit['contact_county'] = df_with_sql['contact_county']\n",
    "df_to_edit['contact_state'] = df_with_sql['contact_state']\n",
    "df_to_edit['contact_zip'] = df_with_sql['contact_zip']\n",
    "df_to_edit['changed_contact_info'] = df_with_sql['changed_contact_info']\n",
    "\n",
    "df_to_edit['date_uploaded'] = df_with_sql['date_uploaded']\n",
    "\n",
    "df_to_edit['in_db'] = df_with_sql['in_main']\n",
    "df_to_edit['in_sql'] = df_with_sql['in_sql']\n",
    "df_to_edit['is_current'] = df_with_sql['is_current']"
   ]
  },
  {
   "cell_type": "code",
   "execution_count": null,
   "metadata": {},
   "outputs": [],
   "source": []
  },
  {
   "cell_type": "code",
   "execution_count": null,
   "metadata": {
    "scrolled": true
   },
   "outputs": [],
   "source": [
    "df_with_sql.in_sql.value_counts()"
   ]
  },
  {
   "cell_type": "code",
   "execution_count": null,
   "metadata": {},
   "outputs": [],
   "source": [
    "df_to_edit.in_db.value_counts()"
   ]
  },
  {
   "cell_type": "code",
   "execution_count": null,
   "metadata": {},
   "outputs": [],
   "source": []
  },
  {
   "cell_type": "code",
   "execution_count": null,
   "metadata": {},
   "outputs": [],
   "source": [
    "df_to_edit.sort_values(by='date_issue', ascending=False).head()"
   ]
  },
  {
   "cell_type": "code",
   "execution_count": null,
   "metadata": {},
   "outputs": [],
   "source": []
  },
  {
   "cell_type": "code",
   "execution_count": null,
   "metadata": {},
   "outputs": [],
   "source": [
    "# Sorting by name_legal_clean\n",
    "\n",
    "df_to_edit.sort_values(by='name_legal_clean', inplace=True)"
   ]
  },
  {
   "cell_type": "code",
   "execution_count": null,
   "metadata": {
    "scrolled": false
   },
   "outputs": [],
   "source": [
    "df_to_edit.reset_index(inplace=True)"
   ]
  },
  {
   "cell_type": "code",
   "execution_count": null,
   "metadata": {},
   "outputs": [],
   "source": [
    "df_to_edit.drop(axis='columns', labels='index', inplace=True)"
   ]
  },
  {
   "cell_type": "code",
   "execution_count": null,
   "metadata": {},
   "outputs": [],
   "source": [
    "df_to_edit.head()"
   ]
  },
  {
   "cell_type": "code",
   "execution_count": null,
   "metadata": {},
   "outputs": [],
   "source": []
  },
  {
   "cell_type": "code",
   "execution_count": null,
   "metadata": {},
   "outputs": [],
   "source": [
    "df_to_edit.isnull().sum()"
   ]
  },
  {
   "cell_type": "code",
   "execution_count": null,
   "metadata": {},
   "outputs": [],
   "source": []
  },
  {
   "cell_type": "code",
   "execution_count": null,
   "metadata": {},
   "outputs": [],
   "source": [
    "df_to_edit.head()"
   ]
  },
  {
   "cell_type": "code",
   "execution_count": null,
   "metadata": {},
   "outputs": [],
   "source": []
  },
  {
   "cell_type": "code",
   "execution_count": null,
   "metadata": {},
   "outputs": [],
   "source": [
    "df_to_edit.shape"
   ]
  },
  {
   "cell_type": "code",
   "execution_count": null,
   "metadata": {},
   "outputs": [],
   "source": [
    "df_to_edit.drop_duplicates().shape"
   ]
  },
  {
   "cell_type": "code",
   "execution_count": null,
   "metadata": {},
   "outputs": [],
   "source": [
    "# Apparently there are a lot of duplicates\n",
    "\n",
    "df_to_edit = df_to_edit.drop_duplicates()"
   ]
  },
  {
   "cell_type": "code",
   "execution_count": null,
   "metadata": {},
   "outputs": [],
   "source": []
  },
  {
   "cell_type": "markdown",
   "metadata": {},
   "source": [
    "## Convert to CSV and Edit"
   ]
  },
  {
   "cell_type": "code",
   "execution_count": null,
   "metadata": {},
   "outputs": [],
   "source": [
    "# # Date should change to Date entered at the begining of the notebook\n",
    "\n",
    "df_to_edit.to_csv(f'edited_files/df_with_api_final_{current_year}_{current_month}_{current_day}_to_edit.csv', index=False)"
   ]
  },
  {
   "cell_type": "code",
   "execution_count": null,
   "metadata": {},
   "outputs": [],
   "source": []
  },
  {
   "cell_type": "markdown",
   "metadata": {},
   "source": [
    "# TASK LEFT BEFORE CONTINUING"
   ]
  },
  {
   "cell_type": "code",
   "execution_count": null,
   "metadata": {},
   "outputs": [],
   "source": [
    "# Make sure that the correct files are being read in, i.e. SQL instead of New Read ins or Visa Versa"
   ]
  },
  {
   "cell_type": "code",
   "execution_count": null,
   "metadata": {},
   "outputs": [],
   "source": []
  },
  {
   "cell_type": "markdown",
   "metadata": {},
   "source": [
    "##### Make Changes to the company_roll_up File in the CSV Before Reuploading"
   ]
  },
  {
   "cell_type": "code",
   "execution_count": null,
   "metadata": {},
   "outputs": [],
   "source": [
    "# This checks that the changes were made and prevets read in if they were not\n",
    "if pd.read_csv(f'edited_files/df_with_api_final_{current_year}_{current_month}_{current_day}_to_edit.csv')['company_roll_up'].isnull().sum() > 0:\n",
    "    print(error)\n",
    "else:\n",
    "    df_edited = pd.read_csv(f'edited_files/df_with_api_final_{current_year}_{current_month}_{current_day}_to_edit.csv', index_col=False)"
   ]
  },
  {
   "cell_type": "code",
   "execution_count": null,
   "metadata": {},
   "outputs": [],
   "source": [
    "df_edited.head()"
   ]
  },
  {
   "cell_type": "code",
   "execution_count": null,
   "metadata": {},
   "outputs": [],
   "source": []
  },
  {
   "cell_type": "code",
   "execution_count": null,
   "metadata": {},
   "outputs": [],
   "source": [
    "# # This removes the Unnamed: 0 Column\n",
    "\n",
    "# df_edited = df_edited.drop(axis='columns', labels='Unnamed: 0')"
   ]
  },
  {
   "cell_type": "code",
   "execution_count": null,
   "metadata": {},
   "outputs": [],
   "source": [
    "# This splits the edited dataframe into two seperate dataframes to work with\n",
    "\n",
    "df_edited_fill = df_edited.dropna(subset=['roll_up_id'])\n",
    "df_edited_null = df_edited[df_edited.roll_up_id.isnull()]"
   ]
  },
  {
   "cell_type": "code",
   "execution_count": null,
   "metadata": {},
   "outputs": [],
   "source": []
  },
  {
   "cell_type": "code",
   "execution_count": null,
   "metadata": {},
   "outputs": [],
   "source": [
    "# This makes a list of the company_roll_ups of the licenses being added\n",
    "\n",
    "names_missing = df_edited_null['company_roll_up'].unique()"
   ]
  },
  {
   "cell_type": "code",
   "execution_count": null,
   "metadata": {},
   "outputs": [],
   "source": [
    "names_missing"
   ]
  },
  {
   "cell_type": "code",
   "execution_count": null,
   "metadata": {},
   "outputs": [],
   "source": [
    "df_edited_null.head()"
   ]
  },
  {
   "cell_type": "code",
   "execution_count": null,
   "metadata": {},
   "outputs": [],
   "source": []
  },
  {
   "cell_type": "code",
   "execution_count": null,
   "metadata": {},
   "outputs": [],
   "source": []
  },
  {
   "cell_type": "code",
   "execution_count": null,
   "metadata": {},
   "outputs": [],
   "source": []
  },
  {
   "cell_type": "markdown",
   "metadata": {},
   "source": [
    "### Makes Changes to df_edited_null"
   ]
  },
  {
   "cell_type": "code",
   "execution_count": null,
   "metadata": {},
   "outputs": [],
   "source": [
    "# Making this list lets up group up new additions with the same company_roll_up name so they can get the id number\n",
    "\n",
    "new_roll_ups = df_edited_null.company_roll_up.unique()\n",
    "new_roll_ups"
   ]
  },
  {
   "cell_type": "code",
   "execution_count": null,
   "metadata": {},
   "outputs": [],
   "source": [
    "# This adds the new roll_up_ids\n",
    "\n",
    "# Since we've started making the roll up ids start with CA-, this code removes them to make the value numeric\n",
    "num_roll_list= []\n",
    "for roll in df_edited_fill.roll_up_id:\n",
    "    num_roll_list.append(int(roll[3:]))\n",
    "    \n",
    "max_roll = max(num_roll_list) + 1\n",
    "\n",
    "for new in new_roll_ups:\n",
    "    df_edited_null['roll_up_id'][df_edited_null['company_roll_up'] == new] = max_roll\n",
    "    max_roll += 1\n",
    "    \n",
    "# This adds back on the CA- and the number of 0s needed back onto the roll up ids\n",
    "roll_with_ca = []\n",
    "for roll in df_edited_null['roll_up_id']:\n",
    "    while len(str(roll)) < 5:\n",
    "        roll = '0' + str(roll)\n",
    "    roll = 'CA-' + roll\n",
    "    roll_with_ca.append(roll)\n",
    "df_edited_null['roll_up_id'] = roll_with_ca"
   ]
  },
  {
   "cell_type": "code",
   "execution_count": null,
   "metadata": {},
   "outputs": [],
   "source": [
    "df_edited_null.sort_values(by='roll_up_id')['roll_up_id']"
   ]
  },
  {
   "cell_type": "code",
   "execution_count": null,
   "metadata": {},
   "outputs": [],
   "source": []
  },
  {
   "cell_type": "code",
   "execution_count": null,
   "metadata": {},
   "outputs": [],
   "source": [
    "# This reconnects the \n",
    "df_edited_all = df_edited_null.append(df_edited_fill)\n",
    "df_edited_all = df_edited_all.sort_index()"
   ]
  },
  {
   "cell_type": "code",
   "execution_count": null,
   "metadata": {},
   "outputs": [],
   "source": [
    "df_edited_all['license_annual'].sum()"
   ]
  },
  {
   "cell_type": "code",
   "execution_count": null,
   "metadata": {},
   "outputs": [],
   "source": []
  },
  {
   "cell_type": "code",
   "execution_count": null,
   "metadata": {},
   "outputs": [],
   "source": []
  },
  {
   "cell_type": "markdown",
   "metadata": {},
   "source": [
    "### New SQL Files"
   ]
  },
  {
   "cell_type": "code",
   "execution_count": null,
   "metadata": {},
   "outputs": [],
   "source": [
    "# This creates the dataframes for the new additions to the ca_roll and ca_contact databases\n",
    "\n",
    "ca_roll_new = df_edited_all[['license_number', 'roll_up_id', 'company_roll_up']].reset_index().drop(columns=['index'])\n",
    "\n",
    "ca_contact_new = df_edited_all[['license_number', 'contact_email', 'contact_phone', 'contact_website',\n",
    "                                 'contact_owner_1', 'contact_owner_2', 'contact_street', 'contact_city',\n",
    "                                 'contact_county', 'contact_state', 'contact_zip']].reset_index().drop(columns=['index'])\n",
    "\n",
    "ca_main_new = df_edited_all[['license_number', 'license_category', 'license_description', 'license_adult', 'license_medicinal',\n",
    "                              'license_annual', 'license_provisional', 'name_legal', 'name_dba', 'date_issue', 'date_expiration', \n",
    "                              'status_active', 'status_canceled', 'status_expired', 'status_inactive', 'status_revoked', 'status_surrendered', 'status_suspended',\n",
    "                              'business_description', 'business_company_type', 'date_uploaded', 'in_db', 'is_current']]"
   ]
  },
  {
   "cell_type": "code",
   "execution_count": null,
   "metadata": {},
   "outputs": [],
   "source": []
  },
  {
   "cell_type": "code",
   "execution_count": null,
   "metadata": {},
   "outputs": [],
   "source": [
    "df_edited_null.columns"
   ]
  },
  {
   "cell_type": "markdown",
   "metadata": {},
   "source": [
    "#### Subtract the Old Data"
   ]
  },
  {
   "cell_type": "code",
   "execution_count": null,
   "metadata": {},
   "outputs": [],
   "source": []
  },
  {
   "cell_type": "code",
   "execution_count": null,
   "metadata": {},
   "outputs": [],
   "source": [
    "# Let's read back in the SQL databse for ca_roll so we can add to it\n",
    "\n",
    "sql_ca_roll = pd.read_sql(\"SELECT * FROM ca_cannabis.dbo.ca_roll\", engine_con)"
   ]
  },
  {
   "cell_type": "code",
   "execution_count": null,
   "metadata": {},
   "outputs": [],
   "source": [
    "# This makes the lists of unique licenses in sql and new dataframe so we can find the uniques\n",
    "\n",
    "sql_lic_list = list(sql_ca_roll.license_number.unique())\n",
    "df_lic_list = list(df_edited_all.license_number.unique())\n",
    "\n",
    "new_lic_list = [x for x in df_lic_list if x not in sql_lic_list]"
   ]
  },
  {
   "cell_type": "code",
   "execution_count": null,
   "metadata": {},
   "outputs": [],
   "source": [
    "# This creates a single column dataframe of all of the new licenses so we can join the other dataframes to it\n",
    "new_lic_df = pd.DataFrame(new_lic_list, columns={'license_number'})"
   ]
  },
  {
   "cell_type": "code",
   "execution_count": null,
   "metadata": {},
   "outputs": [],
   "source": [
    "# And this creates the new dataframes for sending to sql\n",
    "\n",
    "ca_contact_new = new_lic_df.merge(ca_contact_new, on='license_number', how='left')\n",
    "ca_main_new = new_lic_df.merge(ca_main_new, on='license_number', how='left')\n",
    "ca_roll_new = new_lic_df.merge(ca_roll_new, on='license_number', how='left')"
   ]
  },
  {
   "cell_type": "code",
   "execution_count": null,
   "metadata": {},
   "outputs": [],
   "source": [
    "# This adds the date to the date_uploaded columns\n",
    "ca_main_new['date_uploaded'] = current_date"
   ]
  },
  {
   "cell_type": "code",
   "execution_count": null,
   "metadata": {},
   "outputs": [],
   "source": []
  },
  {
   "cell_type": "markdown",
   "metadata": {},
   "source": [
    "## Upload to SQL"
   ]
  },
  {
   "cell_type": "code",
   "execution_count": null,
   "metadata": {},
   "outputs": [],
   "source": []
  },
  {
   "cell_type": "markdown",
   "metadata": {},
   "source": [
    "### CA Roll"
   ]
  },
  {
   "cell_type": "code",
   "execution_count": null,
   "metadata": {},
   "outputs": [],
   "source": []
  },
  {
   "cell_type": "code",
   "execution_count": null,
   "metadata": {},
   "outputs": [],
   "source": [
    "ca_roll_new.to_sql('ca_roll', con=engine_con, if_exists='append', index=False)"
   ]
  },
  {
   "cell_type": "code",
   "execution_count": null,
   "metadata": {},
   "outputs": [],
   "source": [
    "ca_roll_new"
   ]
  },
  {
   "cell_type": "code",
   "execution_count": null,
   "metadata": {},
   "outputs": [],
   "source": []
  },
  {
   "cell_type": "markdown",
   "metadata": {},
   "source": [
    "### CA Contact"
   ]
  },
  {
   "cell_type": "code",
   "execution_count": null,
   "metadata": {},
   "outputs": [],
   "source": []
  },
  {
   "cell_type": "code",
   "execution_count": null,
   "metadata": {},
   "outputs": [],
   "source": [
    "ca_contact_new.head()"
   ]
  },
  {
   "cell_type": "code",
   "execution_count": null,
   "metadata": {},
   "outputs": [],
   "source": []
  },
  {
   "cell_type": "code",
   "execution_count": null,
   "metadata": {},
   "outputs": [],
   "source": [
    "# # This changes the format of the phone number so that contact_phone can be changed to a float, and then changes it\n",
    "\n",
    "# for n in range(len(ca_contact_new)):\n",
    "#     ca_contact_new['contact_phone'].iloc[n] = ''.join(re.findall(r'\\d+', str(ca_contact_new['contact_phone'].iloc[n])))\n",
    "    \n",
    "# ca_contact_new['contact_phone'] = ca_contact_new['contact_phone'].astype(float)"
   ]
  },
  {
   "cell_type": "code",
   "execution_count": null,
   "metadata": {},
   "outputs": [],
   "source": []
  },
  {
   "cell_type": "code",
   "execution_count": null,
   "metadata": {},
   "outputs": [],
   "source": [
    "# This changes the format of the zip code so that contact_zip can be changed to a float, and then changes it\n",
    "\n",
    "for n in range(len(ca_contact_new)):\n",
    "    if len(re.findall(r'\\d+', str(ca_contact_new['contact_zip'].iloc[n]))) == 0:\n",
    "        ca_contact_new['contact_zip'].iloc[n] = 0\n",
    "    else:\n",
    "        ca_contact_new['contact_zip'].iloc[n] = ''.join(re.findall(r'\\d+', str(ca_contact_new['contact_zip'].iloc[n])))\n",
    "        \n",
    "ca_contact_new['contact_zip'] = ca_contact_new['contact_zip'].astype(float)\n",
    "ca_contact_new['contact_zip'] = ca_contact_new['contact_zip'].astype(int)"
   ]
  },
  {
   "cell_type": "code",
   "execution_count": null,
   "metadata": {},
   "outputs": [],
   "source": []
  },
  {
   "cell_type": "code",
   "execution_count": null,
   "metadata": {},
   "outputs": [],
   "source": [
    "# This is just so I can test if the command will change the old info\n",
    "# ca_contact_new['new_contact'] = 1"
   ]
  },
  {
   "cell_type": "code",
   "execution_count": null,
   "metadata": {},
   "outputs": [],
   "source": []
  },
  {
   "cell_type": "code",
   "execution_count": null,
   "metadata": {},
   "outputs": [],
   "source": [
    "# This sends the file to the correct location, which is currently the test file\n",
    "ca_contact_new.to_sql('ca_contact', con=engine_con, if_exists='append', index=False)"
   ]
  },
  {
   "cell_type": "code",
   "execution_count": null,
   "metadata": {},
   "outputs": [],
   "source": [
    "ca_contact_new"
   ]
  },
  {
   "cell_type": "code",
   "execution_count": null,
   "metadata": {},
   "outputs": [],
   "source": []
  },
  {
   "cell_type": "code",
   "execution_count": null,
   "metadata": {},
   "outputs": [],
   "source": []
  },
  {
   "cell_type": "markdown",
   "metadata": {},
   "source": [
    "### CA Main"
   ]
  },
  {
   "cell_type": "code",
   "execution_count": null,
   "metadata": {},
   "outputs": [],
   "source": []
  },
  {
   "cell_type": "code",
   "execution_count": null,
   "metadata": {},
   "outputs": [],
   "source": [
    "# I guess these weren't in datetime format\n",
    "ca_main_new.date_expiration = pd.to_datetime(ca_main_new.date_expiration)\n",
    "ca_main_new.date_issue = pd.to_datetime(ca_main_new.date_issue)\n",
    "ca_main_new.date_uploaded = pd.to_datetime(ca_main_new.date_uploaded)"
   ]
  },
  {
   "cell_type": "code",
   "execution_count": null,
   "metadata": {},
   "outputs": [],
   "source": []
  },
  {
   "cell_type": "code",
   "execution_count": null,
   "metadata": {},
   "outputs": [],
   "source": [
    "ca_main_new.dtypes"
   ]
  },
  {
   "cell_type": "code",
   "execution_count": null,
   "metadata": {},
   "outputs": [],
   "source": []
  },
  {
   "cell_type": "code",
   "execution_count": null,
   "metadata": {
    "scrolled": false
   },
   "outputs": [],
   "source": [
    "ca_main_new.to_sql('ca_main', con=engine_con, if_exists='append', index=False)"
   ]
  },
  {
   "cell_type": "code",
   "execution_count": null,
   "metadata": {},
   "outputs": [],
   "source": [
    "ca_main_new"
   ]
  },
  {
   "cell_type": "code",
   "execution_count": null,
   "metadata": {},
   "outputs": [],
   "source": []
  },
  {
   "cell_type": "code",
   "execution_count": null,
   "metadata": {},
   "outputs": [],
   "source": []
  },
  {
   "cell_type": "code",
   "execution_count": null,
   "metadata": {},
   "outputs": [],
   "source": []
  },
  {
   "cell_type": "code",
   "execution_count": null,
   "metadata": {},
   "outputs": [],
   "source": []
  },
  {
   "cell_type": "markdown",
   "metadata": {},
   "source": [
    "### Create main_alter"
   ]
  },
  {
   "cell_type": "code",
   "execution_count": null,
   "metadata": {},
   "outputs": [],
   "source": []
  },
  {
   "cell_type": "code",
   "execution_count": null,
   "metadata": {},
   "outputs": [],
   "source": [
    "sql_main = pd.read_sql(\"SELECT * FROM ca_main\", engine_con)"
   ]
  },
  {
   "cell_type": "code",
   "execution_count": null,
   "metadata": {},
   "outputs": [],
   "source": [
    "sql_main.columns"
   ]
  },
  {
   "cell_type": "code",
   "execution_count": null,
   "metadata": {},
   "outputs": [],
   "source": []
  },
  {
   "cell_type": "code",
   "execution_count": null,
   "metadata": {},
   "outputs": [],
   "source": [
    "df_main = df_edited[['license_number', 'license_category', 'license_description',\n",
    "       'license_adult', 'license_medicinal', 'license_annual',\n",
    "       'license_provisional', 'name_legal', 'name_dba', 'date_issue',\n",
    "       'date_expiration', 'status_active', 'status_canceled', 'status_expired',\n",
    "       'status_revoked', 'status_surrendered', 'status_suspended', 'status_inactive',\n",
    "       'business_description', 'business_company_type', 'date_uploaded',\n",
    "       'in_db', 'is_current']]"
   ]
  },
  {
   "cell_type": "code",
   "execution_count": null,
   "metadata": {},
   "outputs": [],
   "source": []
  },
  {
   "cell_type": "code",
   "execution_count": null,
   "metadata": {},
   "outputs": [],
   "source": [
    "sql_main.dtypes"
   ]
  },
  {
   "cell_type": "code",
   "execution_count": null,
   "metadata": {},
   "outputs": [],
   "source": [
    "df_main.dtypes"
   ]
  },
  {
   "cell_type": "code",
   "execution_count": null,
   "metadata": {},
   "outputs": [],
   "source": [
    "# This changes all the column types to match the sql column types\n",
    "\n",
    "# df_main.license_number.astype(object)\n",
    "# df_main.license_category.astype(objec)\n",
    "# df_main.license_description.astype(object)\n",
    "df_main.license_adult = df_main.license_adult.astype(float)\n",
    "df_main.license_medicinal = df_main.license_medicinal.astype(float)\n",
    "df_main.license_annual = df_main.license_annual.astype(float)\n",
    "df_main.license_provisional = df_main.license_provisional.astype(float)\n",
    "# df_main.name_legal.astype(object)\n",
    "# df_main.name_dba.astype(object)\n",
    "df_main.date_issue = df_main.date_issue = pd.to_datetime(df_main.date_issue)\n",
    "df_main.date_expiration = df_main.date_expiration = pd.to_datetime(df_main.date_expiration)\n",
    "df_main.status_active = df_main.status_active.astype(float)\n",
    "df_main.status_canceled = df_main.status_canceled.astype(float)\n",
    "df_main.status_expired = df_main.status_expired.astype(float)\n",
    "df_main.status_revoked = df_main.status_revoked.astype(float)\n",
    "df_main.status_surrendered = df_main.status_surrendered.astype(float)\n",
    "df_main.status_suspended = df_main.status_suspended.astype(float)\n",
    "# df_main.business_description.astype(object)\n",
    "# df_main.business_company_type.astype(object)\n",
    "df_main.date_uploaded = pd.to_datetime(df_main.date_uploaded)\n",
    "df_main.in_db = df_main.in_db.astype(float)"
   ]
  },
  {
   "cell_type": "code",
   "execution_count": null,
   "metadata": {},
   "outputs": [],
   "source": []
  },
  {
   "cell_type": "code",
   "execution_count": null,
   "metadata": {},
   "outputs": [],
   "source": []
  },
  {
   "cell_type": "code",
   "execution_count": null,
   "metadata": {},
   "outputs": [],
   "source": [
    "ca_main_old = pd.read_sql(\"SELECT * FROM ca_main\", engine_con)"
   ]
  },
  {
   "cell_type": "code",
   "execution_count": null,
   "metadata": {},
   "outputs": [],
   "source": [
    "# This creates a list of all of the license_numbers of rows that belong in the main_alter csv\n",
    "\n",
    "to_alter = []\n",
    "\n",
    "for lic in df_main['license_number']:\n",
    "    if list(df_main[df_main['license_number'] == lic]['license_description'])[0] != list(ca_main_old[ca_main_old['license_number'] == lic]['license_description'])[0]:\n",
    "        to_alter.append(lic)\n",
    "        print(lic, 'description')\n",
    "    elif list(df_main[df_main['license_number'] == lic]['license_category'])[0] != list(ca_main_old[ca_main_old['license_number'] == lic]['license_category'])[0]:\n",
    "        to_alter.append(lic)\n",
    "        print(lic, 'category')\n",
    "    elif list(df_main[df_main['license_number'] == lic]['license_adult'])[0] != list(ca_main_old[ca_main_old['license_number'] == lic]['license_adult'])[0]:\n",
    "        to_alter.append(lic)\n",
    "        print(lic, 'adult')\n",
    "    elif list(df_main[df_main['license_number'] == lic]['license_medicinal'])[0] != list(ca_main_old[ca_main_old['license_number'] == lic]['license_medicinal'])[0]:\n",
    "        to_alter.append(lic)\n",
    "        print(lic, 'medical')\n",
    "    elif list(df_main[df_main['license_number'] == lic]['license_annual'])[0] != list(ca_main_old[ca_main_old['license_number'] == lic]['license_annual'])[0]:\n",
    "        to_alter.append(lic)\n",
    "        print(lic, 'annual')\n",
    "    elif list(df_main[df_main['license_number'] == lic]['license_provisional'])[0] != list(ca_main_old[ca_main_old['license_number'] == lic]['license_provisional'])[0]:\n",
    "        to_alter.append(lic)\n",
    "        print(lic, 'provisional')\n",
    "    elif list(df_main[df_main['license_number'] == lic]['status_active'])[0] != list(ca_main_old[ca_main_old['license_number'] == lic]['status_active'])[0]:\n",
    "        to_alter.append(lic)\n",
    "        print(lic, 'active')\n",
    "    elif list(df_main[df_main['license_number'] == lic]['status_canceled'])[0] != list(ca_main_old[ca_main_old['license_number'] == lic]['status_canceled'])[0]:\n",
    "        to_alter.append(lic)\n",
    "        print(lic, 'canceled')\n",
    "    elif list(df_main[df_main['license_number'] == lic]['status_expired'])[0] != list(ca_main_old[ca_main_old['license_number'] == lic]['status_expired'])[0]:\n",
    "        to_alter.append(lic)\n",
    "        print(lic, 'expired')\n",
    "    elif list(df_main[df_main['license_number'] == lic]['status_revoked'])[0] != list(ca_main_old[ca_main_old['license_number'] == lic]['status_revoked'])[0]:\n",
    "        to_alter.append(lic)\n",
    "        print(lic, 'revoked')\n",
    "    elif list(df_main[df_main['license_number'] == lic]['status_surrendered'])[0] != list(ca_main_old[ca_main_old['license_number'] == lic]['status_surrendered'])[0]:\n",
    "        to_alter.append(lic)\n",
    "        print(lic, 'surrendrered')\n",
    "    elif list(df_main[df_main['license_number'] == lic]['status_suspended'])[0] != list(ca_main_old[ca_main_old['license_number'] == lic]['status_suspended'])[0]:\n",
    "        to_alter.append(lic)\n",
    "        print(lic, 'suspended')\n",
    "    elif list(df_main[df_main['license_number'] == lic]['status_inactive'])[0] != list(ca_main_old[ca_main_old['license_number'] == lic]['status_inactive'])[0]:\n",
    "        to_alter.append(lic)\n",
    "        print(lic, 'inactive')\n",
    "    elif list(df_main[df_main['license_number'] == lic]['date_expiration'])[0] != list(ca_main_old[ca_main_old['license_number'] == lic]['date_expiration'])[0]:\n",
    "        to_alter.append(lic)\n",
    "        print(lic, 'date_expiration')\n",
    "    elif list(df_main[df_main['license_number'] == lic]['is_current'])[0] != list(ca_main_old[ca_main_old['license_number'] == lic]['is_current'])[0]:\n",
    "        to_alter.append(lic)\n",
    "        print(lic, 'is_current')\n",
    "    \n",
    "    \n",
    "\n",
    "# for lic in df_main['license_number']:\n",
    "#     if lic not in list(sql_main['license_number']):\n",
    "#         to_alter.append(lic)\n",
    "#     elif lic in list(sql_main['license_number']):\n",
    "#         if False in (sql_main[sql_main['license_number'] == lic].values == df_main[df_main['license_number'] == lic].values):\n",
    "#             to_alter.append(lic)\n",
    "#         else:\n",
    "#             print(sql_main[sql_main['license_number'] == lic].values == df_main[df_main['license_number'] == lic].values)"
   ]
  },
  {
   "cell_type": "code",
   "execution_count": null,
   "metadata": {},
   "outputs": [],
   "source": [
    "df_for_alter = df_main[df_main['license_number'].isin(to_alter)]\n",
    "len(df_for_alter)\n",
    "df_for_alter.shape"
   ]
  },
  {
   "cell_type": "code",
   "execution_count": null,
   "metadata": {},
   "outputs": [],
   "source": []
  },
  {
   "cell_type": "code",
   "execution_count": null,
   "metadata": {},
   "outputs": [],
   "source": [
    "print(stop)"
   ]
  },
  {
   "cell_type": "code",
   "execution_count": null,
   "metadata": {},
   "outputs": [],
   "source": []
  },
  {
   "cell_type": "code",
   "execution_count": null,
   "metadata": {
    "scrolled": true
   },
   "outputs": [],
   "source": [
    "# This replaces the ca_main_alter table \n",
    "df_for_alter.to_sql('ca_main_alter', con=engine_con, if_exists='replace', index=False)"
   ]
  },
  {
   "cell_type": "code",
   "execution_count": null,
   "metadata": {},
   "outputs": [],
   "source": []
  },
  {
   "cell_type": "code",
   "execution_count": null,
   "metadata": {},
   "outputs": [],
   "source": [
    "# This code runs the query noramally run in SQL to update ca_main using ca_main_alter\n",
    "\n",
    "ca_conn = pyodbc.connect('DRIVER={ODBC Driver 17 for SQL Server};'\n",
    "                      'SERVER=bespoke-database-1.cmevrozrcs7c.us-west-2.rds.amazonaws.com;'\n",
    "                      'DATABASE=ca_cannabis;'\n",
    "                      'UID=admin;'\n",
    "                      'PWD=N19lrqxnurTUJLJT6GFe;')\n",
    "\n",
    "ca_cursor = ca_conn.cursor()\n",
    "\n",
    "ca_cursor.execute('SELECT * FROM ca_cannabis.dbo.ca_main')\n",
    "\n",
    "ca_cursor.execute('''\n",
    "Update t1\n",
    "SET t1.[license_category] = t2.[license_category],\n",
    "    t1.[license_description] = t2.[license_description],\n",
    "    \n",
    "    t1.[license_adult] = t2.[license_adult],\n",
    "    t1.[license_medicinal] = t2.[license_medicinal],\n",
    "    t1.[license_annual] = t2.[license_annual],\n",
    "    t1.[license_provisional] = t2.[license_provisional],\n",
    "    \n",
    "    t1.[date_expiration] = t2.[date_expiration],\n",
    "    \n",
    "    t1.[status_active] = t2.[status_active],\n",
    "    t1.[status_canceled] = t2.[status_canceled],\n",
    "    t1.[status_expired] = t2.[status_expired],\n",
    "    t1.[status_revoked] = t2.[status_revoked],\n",
    "    t1.[status_surrendered] = t2.[status_surrendered],\n",
    "    t1.[status_suspended] = t2.[status_suspended],\n",
    "    t1.[status_inactive] = t2.[status_inactive],\n",
    "    \n",
    "    t1.[is_current] = t2.[is_current]\n",
    "    \n",
    "FROM [ca_cannabis].[dbo].[ca_main] as t1\n",
    "INNER JOIN [ca_cannabis].[dbo].[ca_main_alter] as t2\n",
    "ON t1.[license_number] = t2.[license_number];\n",
    "                  ''')\n",
    "\n",
    "ca_conn.commit()"
   ]
  },
  {
   "cell_type": "code",
   "execution_count": null,
   "metadata": {},
   "outputs": [],
   "source": []
  },
  {
   "cell_type": "code",
   "execution_count": null,
   "metadata": {},
   "outputs": [],
   "source": []
  },
  {
   "cell_type": "code",
   "execution_count": null,
   "metadata": {},
   "outputs": [],
   "source": []
  },
  {
   "cell_type": "code",
   "execution_count": null,
   "metadata": {},
   "outputs": [],
   "source": []
  },
  {
   "cell_type": "markdown",
   "metadata": {},
   "source": [
    "### Add to all_main"
   ]
  },
  {
   "cell_type": "code",
   "execution_count": null,
   "metadata": {},
   "outputs": [],
   "source": []
  },
  {
   "cell_type": "code",
   "execution_count": null,
   "metadata": {},
   "outputs": [],
   "source": [
    "# This creates the connection to the all_main file in SQL\n",
    "\n",
    "all_cannabis_params = urllib.parse.quote_plus(\"DRIVER={ODBC Driver 17 for SQL Server};\"\n",
    "                                 \"SERVER=bespoke-database-1.cmevrozrcs7c.us-west-2.rds.amazonaws.com;\"\n",
    "                                 \"DATABASE=all_cannabis;\"\n",
    "                                 \"UID=admin;\"\n",
    "                                 \"PWD=N19lrqxnurTUJLJT6GFe\")\n",
    "all_cannabis_con = create_engine(\"mssql+pyodbc:///?odbc_connect={}\".format(all_cannabis_params))"
   ]
  },
  {
   "cell_type": "code",
   "execution_count": null,
   "metadata": {},
   "outputs": [],
   "source": [
    "# This reads in the all_main data and narrows it down to the relevent data\n",
    "all_main_sql = pd.read_sql('all_main', con=all_cannabis_con)\n",
    "ca_main_sql = all_main_sql[all_main_sql['us_state'] == 'CA']\n",
    "ca_main_sql = ca_main_sql.reset_index().drop(columns='index')"
   ]
  },
  {
   "cell_type": "code",
   "execution_count": null,
   "metadata": {},
   "outputs": [],
   "source": [
    "# This re-reads in and merges the ca_annabis data in SQL\n",
    "updated_ca_main = pd.read_sql('ca_main', con=engine_con)\n",
    "updated_ca_roll = pd.read_sql('ca_roll', con=engine_con)\n",
    "updated_ca_cannabis = updated_ca_main.merge(updated_ca_roll, on='license_number')"
   ]
  },
  {
   "cell_type": "code",
   "execution_count": null,
   "metadata": {},
   "outputs": [],
   "source": []
  },
  {
   "cell_type": "code",
   "execution_count": null,
   "metadata": {},
   "outputs": [],
   "source": [
    "updated_ca_cannabis['license_status'] = ''\n",
    "for n in range(len(updated_ca_cannabis)):\n",
    "    if updated_ca_cannabis['status_active'][n] == 1:\n",
    "        updated_ca_cannabis['license_status'][n] = 'Active'\n",
    "    if updated_ca_cannabis['status_canceled'][n] == 1:\n",
    "        updated_ca_cannabis['license_status'][n] = 'Canceled'\n",
    "    if updated_ca_cannabis['status_expired'][n] == 1:\n",
    "        updated_ca_cannabis['license_status'][n] = 'Expired'\n",
    "    if updated_ca_cannabis['status_revoked'][n] == 1:\n",
    "        updated_ca_cannabis['license_status'][n] = 'Revoked'\n",
    "    if updated_ca_cannabis['status_surrendered'][n] == 1:\n",
    "        updated_ca_cannabis['license_status'][n] = 'Surrendered'\n",
    "    if updated_ca_cannabis['status_suspended'][n] == 1:\n",
    "        updated_ca_cannabis['license_status'][n] = 'Suspended'\n",
    "    if updated_ca_cannabis['status_inactive'][n] == 1:\n",
    "        updated_ca_cannabis['license_status'][n] = 'Inactive'"
   ]
  },
  {
   "cell_type": "code",
   "execution_count": null,
   "metadata": {},
   "outputs": [],
   "source": [
    "ca_main_sql.head()"
   ]
  },
  {
   "cell_type": "code",
   "execution_count": null,
   "metadata": {},
   "outputs": [],
   "source": [
    "# This reformats the data for the all_main\n",
    "new_all_main = updated_ca_cannabis[['license_number', 'roll_up_id', 'name_legal', 'license_status', 'is_current', 'license_description', 'date_expiration']]\n",
    "new_all_main['state'] = 'CA'\n",
    "new_all_main['license_sub_category'] = ''\n",
    "for n in range(len(new_all_main)):\n",
    "    if new_all_main['license_description'][n] in ['Specialty Cottage Indoor', 'Specialty Cottage Outdoor',\n",
    "                        'Medium Outdoor', 'Medium Indoor', 'Small Outdoor', 'Small Indoor', 'Specialty Outdoor',\n",
    "                        'Small Mixed-Light Tier 1', 'Specialty Cottage Mixed-Light Tier 1','Medium Mixed-Light Tier 1', \n",
    "                        'Small Mixed-Light Tier 2', 'Specialty Cottage Mixed-Light Tier 2', 'Medium Mixed-Light Tier 2',\n",
    "                        'Specialty Mixed-Light Tier 1', 'Specialty Mixed-Light Tier 2', 'Specialty Outdoor', 'Specialty Indoor',\n",
    "                        'Nursery']:\n",
    "        new_all_main['license_sub_category'][n] = 'Cultivator'\n",
    "    \n",
    "    if new_all_main['license_description'][n] in ['Retailer', 'Retailer Nonstorefront', 'Retailer-Non-Storefront']:\n",
    "        new_all_main['license_sub_category'][n] = 'Retailer'\n",
    "    \n",
    "    if new_all_main['license_description'][n] in ['Type 6', 'Type 7', 'Type S', 'Type N', 'Type P', 'Processor']:\n",
    "        new_all_main['license_sub_category'][n] = 'Manufacturer'\n",
    "    \n",
    "    if new_all_main['license_description'][n] in ['Distributor', 'Medical Transporter', 'Retail Transporter',\n",
    "                                                   'Medical Delivery', 'Retail Delivery', 'Distributor-Transport Only', ]:\n",
    "        new_all_main['license_sub_category'][n] = 'Distributor'\n",
    "    \n",
    "    if new_all_main['license_description'][n] in ['Testing Laboratory']:\n",
    "        new_all_main['license_sub_category'][n] = 'Laboratory'\n",
    "    \n",
    "    if new_all_main['license_description'][n] in ['Medical Research Development Cultivation', 'Medical Operator',\n",
    "                                                  'Retail Operator', 'Medical Hospitality', 'Event Organizer']:\n",
    "        new_all_main['license_sub_category'][n] = 'Other'\n",
    "    \n",
    "    if new_all_main['license_description'][n] in ['Microbusiness']:\n",
    "        new_all_main['license_sub_category'][n] = 'Multiple'"
   ]
  },
  {
   "cell_type": "code",
   "execution_count": null,
   "metadata": {},
   "outputs": [],
   "source": [
    "# This takes out everything already there\n",
    "new_main_for_sql = new_all_main[~new_all_main['license_number'].isin(list(ca_main_sql['license_number'].unique()))]"
   ]
  },
  {
   "cell_type": "code",
   "execution_count": null,
   "metadata": {},
   "outputs": [],
   "source": [
    "# Renaming the data, since we changed the column names\n",
    "new_main_for_sql.rename(columns={\n",
    "    'license_number':'license_number',\n",
    "    'roll_up_id':'rollup_id',\n",
    "    'name_legal':'legal_name',\n",
    "    'license_status':'license_status',\n",
    "    'is_current':'is_current',\n",
    "    'license_description':'license_description',\n",
    "    'state':'us_state',\n",
    "    'license_sub_category':'license_category',\n",
    "    'date_expiration':'expiration_date'\n",
    "})"
   ]
  },
  {
   "cell_type": "code",
   "execution_count": null,
   "metadata": {},
   "outputs": [],
   "source": [
    "new_main_for_sql = new_main_for_sql.rename(columns={\n",
    "    'roll_up_id': 'rollup_id',\n",
    "    'license_sub_category': 'license_category',\n",
    "    'state': 'us_state',\n",
    "    'name_legal': 'legal_name',\n",
    "    'date_expiration': 'expiration_date'\n",
    "})"
   ]
  },
  {
   "cell_type": "code",
   "execution_count": null,
   "metadata": {},
   "outputs": [],
   "source": [
    "new_main_for_sql"
   ]
  },
  {
   "cell_type": "code",
   "execution_count": null,
   "metadata": {
    "scrolled": false
   },
   "outputs": [],
   "source": [
    "# And this uploads the new licenses to SQL\n",
    "new_main_for_sql.to_sql('all_main', con=all_cannabis_con, index=False, if_exists='append')"
   ]
  },
  {
   "cell_type": "code",
   "execution_count": null,
   "metadata": {},
   "outputs": [],
   "source": []
  },
  {
   "cell_type": "code",
   "execution_count": null,
   "metadata": {},
   "outputs": [],
   "source": []
  },
  {
   "cell_type": "markdown",
   "metadata": {},
   "source": [
    "### Alter the CA data in all_main"
   ]
  },
  {
   "cell_type": "code",
   "execution_count": null,
   "metadata": {},
   "outputs": [],
   "source": [
    "# This re-reads in the California database to check for any need to alter\n",
    "ca_main_sql_for_alter = pd.read_sql('ca_main', con=engine_con)\n",
    "ca_roll_sql_for_alter = pd.read_sql('ca_roll', con=engine_con)\n",
    "ca_sql_data = ca_main_sql_for_alter.merge(ca_roll_sql_for_alter, on='license_number')"
   ]
  },
  {
   "cell_type": "code",
   "execution_count": null,
   "metadata": {},
   "outputs": [],
   "source": [
    "# This reads in the all_main database and narrows in down to California licenses to do the same\n",
    "all_main_sql_for_alter = pd.read_sql('all_main', con=all_cannabis_con)\n",
    "ca_main_sql_for_alter = all_main_sql_for_alter[all_main_sql_for_alter['us_state'] == 'CA']\n",
    "ca_main_sql_for_alter = ca_main_sql_for_alter.reset_index().drop(columns='index')"
   ]
  },
  {
   "cell_type": "code",
   "execution_count": null,
   "metadata": {},
   "outputs": [],
   "source": []
  },
  {
   "cell_type": "code",
   "execution_count": null,
   "metadata": {},
   "outputs": [],
   "source": [
    "ca_sql_data"
   ]
  },
  {
   "cell_type": "code",
   "execution_count": null,
   "metadata": {},
   "outputs": [],
   "source": [
    "ca_sql_data"
   ]
  },
  {
   "cell_type": "code",
   "execution_count": null,
   "metadata": {},
   "outputs": [],
   "source": [
    "ca_sql_data['license_status'] = ''\n",
    "for n in range(len(updated_ca_cannabis)):\n",
    "    if ca_sql_data['status_active'][n] == 1:\n",
    "        ca_sql_data['license_status'][n] = 'Active'\n",
    "    if ca_sql_data['status_canceled'][n] == 1:\n",
    "        ca_sql_data['license_status'][n] = 'Canceled'\n",
    "    if ca_sql_data['status_expired'][n] == 1:\n",
    "        ca_sql_data['license_status'][n] = 'Expired'\n",
    "    if ca_sql_data['status_revoked'][n] == 1:\n",
    "        ca_sql_data['license_status'][n] = 'Revoked'\n",
    "    if ca_sql_data['status_surrendered'][n] == 1:\n",
    "        ca_sql_data['license_status'][n] = 'Surrendered'\n",
    "    if ca_sql_data['status_suspended'][n] == 1:\n",
    "        ca_sql_data['license_status'][n] = 'Suspended'\n",
    "    if ca_sql_data['status_inactive'][n] == 1:\n",
    "        ca_sql_data['license_status'][n] = 'Inactive'"
   ]
  },
  {
   "cell_type": "code",
   "execution_count": null,
   "metadata": {},
   "outputs": [],
   "source": []
  },
  {
   "cell_type": "code",
   "execution_count": null,
   "metadata": {},
   "outputs": [],
   "source": [
    "ca_sql_data['license_sub_category'] = ''\n",
    "for n in range(len(ca_sql_data)):\n",
    "    if ca_sql_data['license_description'][n] in ['Specialty Cottage Indoor', 'Specialty Cottage Outdoor',\n",
    "                        'Medium Outdoor', 'Medium Indoor', 'Small Outdoor', 'Small Indoor', 'Specialty Outdoor',\n",
    "                        'Small Mixed-Light Tier 1', 'Specialty Cottage Mixed-Light Tier 1','Medium Mixed-Light Tier 1', \n",
    "                        'Small Mixed-Light Tier 2', 'Specialty Cottage Mixed-Light Tier 2', 'Medium Mixed-Light Tier 2',\n",
    "                        'Specialty Mixed-Light Tier 1', 'Specialty Mixed-Light Tier 2', 'Specialty Outdoor', 'Specialty Indoor',\n",
    "                        'Nursery']:\n",
    "        ca_sql_data['license_sub_category'][n] = 'Cultivator'\n",
    "    \n",
    "    if ca_sql_data['license_description'][n] in ['Retailer', 'Retailer Nonstorefront', 'Retailer-Non-Storefront']:\n",
    "        ca_sql_data['license_sub_category'][n] = 'Retailer'\n",
    "    \n",
    "    if ca_sql_data['license_description'][n] in ['Type 6', 'Type 7', 'Type S', 'Type N', 'Type P', 'Processor']:\n",
    "        ca_sql_data['license_sub_category'][n] = 'Manufacturer'\n",
    "    \n",
    "    if ca_sql_data['license_description'][n] in ['Distributor', 'Medical Transporter', 'Retail Transporter',\n",
    "                                                   'Medical Delivery', 'Retail Delivery', 'Distributor-Transport Only', ]:\n",
    "        ca_sql_data['license_sub_category'][n] = 'Distributor'\n",
    "    \n",
    "    if ca_sql_data['license_description'][n] in ['Testing Laboratory']:\n",
    "        ca_sql_data['license_sub_category'][n] = 'Laboratory'\n",
    "    \n",
    "    if ca_sql_data['license_description'][n] in ['Medical Research Development Cultivation', 'Medical Operator',\n",
    "                                                  'Retail Operator', 'Medical Hospitality', 'Event Organizer']:\n",
    "        ca_sql_data['license_sub_category'][n] = 'Other'\n",
    "    \n",
    "    if ca_sql_data['license_description'][n] in ['Microbusiness']:\n",
    "        ca_sql_data['license_sub_category'][n] = 'Multiple'\n"
   ]
  },
  {
   "cell_type": "code",
   "execution_count": null,
   "metadata": {},
   "outputs": [],
   "source": [
    "ca_sql_data = ca_sql_data.drop(columns='license_category')"
   ]
  },
  {
   "cell_type": "code",
   "execution_count": null,
   "metadata": {},
   "outputs": [],
   "source": [
    "ca_sql_data['license_sub_category']"
   ]
  },
  {
   "cell_type": "code",
   "execution_count": null,
   "metadata": {},
   "outputs": [],
   "source": [
    "# This cleans the data so the columns names match\n",
    "ca_sql_for_alter = ca_main_sql_for_alter.rename(columns={\n",
    "    'roll_up_id': 'rollup_id',\n",
    "    'license_sub_category': 'license_category',\n",
    "    'state': 'us_state',\n",
    "    'name_legal': 'legal_name',\n",
    "    'date_expiration': 'expiration_date'\n",
    "})\n",
    "\n",
    "ca_sql_data = ca_sql_data.rename(columns={\n",
    "    'roll_up_id': 'rollup_id',\n",
    "    'license_sub_category': 'license_category',\n",
    "    'state': 'us_state',\n",
    "    'name_legal': 'legal_name',\n",
    "    'date_expiration': 'expiration_date'\n",
    "})"
   ]
  },
  {
   "cell_type": "code",
   "execution_count": null,
   "metadata": {},
   "outputs": [],
   "source": []
  },
  {
   "cell_type": "code",
   "execution_count": null,
   "metadata": {},
   "outputs": [],
   "source": []
  },
  {
   "cell_type": "code",
   "execution_count": null,
   "metadata": {},
   "outputs": [],
   "source": [
    "ca_sql_data['license_category']"
   ]
  },
  {
   "cell_type": "code",
   "execution_count": null,
   "metadata": {
    "scrolled": true
   },
   "outputs": [],
   "source": [
    "ca_all_main_alter_list = []\n",
    "\n",
    "for lic in ca_sql_for_alter['license_number']:\n",
    "    if list(ca_sql_for_alter[ca_sql_for_alter['license_number'] == lic]['rollup_id'])[0] != list(ca_sql_data[ca_sql_data['license_number'] == lic]['rollup_id'])[0]:\n",
    "        print(lic, 'rollup')\n",
    "        ca_all_main_alter_list.append(lic)\n",
    "    elif list(ca_sql_for_alter[ca_sql_for_alter['license_number'] == lic]['license_category'])[0] != list(ca_sql_data[ca_sql_data['license_number'] == lic]['license_category'])[0]:\n",
    "        print(lic, 'category')\n",
    "        ca_all_main_alter_list.append(lic)\n",
    "    elif list(ca_sql_for_alter[ca_sql_for_alter['license_number'] == lic]['is_current'])[0] != list(ca_sql_data[ca_sql_data['license_number'] == lic]['is_current'])[0]:\n",
    "        print(lic, 'current')\n",
    "        ca_all_main_alter_list.append(lic)\n",
    "    elif list(ca_sql_for_alter[ca_sql_for_alter['license_number'] == lic]['legal_name'])[0] != list(ca_sql_data[ca_sql_data['license_number'] == lic]['legal_name'])[0]:\n",
    "        print(lic, 'name')\n",
    "        ca_all_main_alter_list.append(lic)\n",
    "    elif list(ca_sql_for_alter[ca_sql_for_alter['license_number'] == lic]['rollup_id'])[0] != list(ca_sql_data[ca_sql_data['license_number'] == lic]['rollup_id'])[0]:\n",
    "        print(lic, 'roll')\n",
    "        ca_all_main_alter_list.append(lic)\n",
    "    elif list(ca_sql_for_alter[ca_sql_for_alter['license_number'] == lic]['expiration_date'])[0] != list(ca_sql_data[ca_sql_data['license_number'] == lic]['expiration_date'])[0]:\n",
    "        print(lic, 'expiration')\n",
    "        ca_all_main_alter_list.append(lic)\n",
    "    elif list(ca_sql_for_alter[ca_sql_for_alter['license_number'] == lic]['license_status'])[0] != list(ca_sql_data[ca_sql_data['license_number'] == lic]['license_status'])[0]:\n",
    "        print(lic, 'status')\n",
    "        ca_all_main_alter_list.append(lic)\n",
    "        \n",
    "# ca_all_main_alter_list"
   ]
  },
  {
   "cell_type": "code",
   "execution_count": null,
   "metadata": {},
   "outputs": [],
   "source": [
    "len(ca_all_main_alter_list)"
   ]
  },
  {
   "cell_type": "code",
   "execution_count": null,
   "metadata": {},
   "outputs": [],
   "source": []
  },
  {
   "cell_type": "code",
   "execution_count": null,
   "metadata": {},
   "outputs": [],
   "source": []
  },
  {
   "cell_type": "code",
   "execution_count": null,
   "metadata": {},
   "outputs": [],
   "source": [
    "ca_all_main_alter_df = ca_sql_data[ca_sql_data['license_number'].isin(ca_all_main_alter_list)]"
   ]
  },
  {
   "cell_type": "code",
   "execution_count": null,
   "metadata": {},
   "outputs": [],
   "source": [
    "ca_all_main_alter_df = ca_all_main_alter_df.rename(columns={\n",
    "    'roll_up_id': 'rollup_id',\n",
    "    'license_sub_category': 'license_category',\n",
    "    'state': 'us_state',\n",
    "    'name_legal': 'legal_name',\n",
    "    'date_expiration': 'expiration_date'\n",
    "})"
   ]
  },
  {
   "cell_type": "code",
   "execution_count": null,
   "metadata": {},
   "outputs": [],
   "source": [
    "ca_all_main_alter_df['us_state'] = 'CA'"
   ]
  },
  {
   "cell_type": "code",
   "execution_count": null,
   "metadata": {},
   "outputs": [],
   "source": [
    "ca_all_main_alter_df = ca_all_main_alter_df[['license_number', 'rollup_id', 'legal_name', 'license_status', 'is_current', 'license_description', 'expiration_date', 'us_state', 'license_category']]"
   ]
  },
  {
   "cell_type": "code",
   "execution_count": null,
   "metadata": {},
   "outputs": [],
   "source": []
  },
  {
   "cell_type": "code",
   "execution_count": null,
   "metadata": {},
   "outputs": [],
   "source": [
    "# This sends the df of data to alter into a state specific sql table\n",
    "ca_all_main_alter_df.to_sql('ca_to_alter', con=all_cannabis_con, index=False, if_exists='replace')"
   ]
  },
  {
   "cell_type": "code",
   "execution_count": null,
   "metadata": {},
   "outputs": [],
   "source": []
  },
  {
   "cell_type": "code",
   "execution_count": null,
   "metadata": {},
   "outputs": [],
   "source": [
    "# And this code runs the query to update the sql_main table with the ca_to_alter table\n",
    "\n",
    "all_conn = pyodbc.connect('DRIVER={ODBC Driver 17 for SQL Server};'\n",
    "                      'SERVER=bespoke-database-1.cmevrozrcs7c.us-west-2.rds.amazonaws.com;'\n",
    "                      'DATABASE=all_cannabis;'\n",
    "                      'UID=admin;'\n",
    "                      'PWD=N19lrqxnurTUJLJT6GFe;')\n",
    "\n",
    "all_cursor = all_conn.cursor()\n",
    "\n",
    "all_cursor.execute('SELECT * FROM all_cannabis.dbo.all_main')\n",
    "\n",
    "all_cursor.execute('''\n",
    "Update t1\n",
    "SET t1.[license_status] = t2.[license_status],\n",
    "    t1.[license_description] = t2.[license_description],\n",
    "    t1.[license_category] = t2.[license_category],\n",
    "    t1.[is_current] = t2.[is_current],\n",
    "    t1.[rollup_id] = t2.[rollup_id],\n",
    "    t1.[expiration_date] = t2.[expiration_date]\n",
    "FROM [all_cannabis].[dbo].[all_main] as t1\n",
    "INNER JOIN [all_cannabis].[dbo].[ca_to_alter] as t2\n",
    "ON t1.[license_number] = t2.[license_number];\n",
    "''')\n",
    "\n",
    "all_conn.commit()"
   ]
  },
  {
   "cell_type": "code",
   "execution_count": null,
   "metadata": {},
   "outputs": [],
   "source": []
  },
  {
   "cell_type": "code",
   "execution_count": null,
   "metadata": {},
   "outputs": [],
   "source": []
  },
  {
   "cell_type": "markdown",
   "metadata": {},
   "source": [
    "### Bespoke / Sweat Equity API"
   ]
  },
  {
   "cell_type": "code",
   "execution_count": null,
   "metadata": {},
   "outputs": [],
   "source": []
  },
  {
   "cell_type": "code",
   "execution_count": null,
   "metadata": {},
   "outputs": [],
   "source": [
    "new_main = new_main_for_sql.append(ca_all_main_alter_df)"
   ]
  },
  {
   "cell_type": "code",
   "execution_count": null,
   "metadata": {},
   "outputs": [],
   "source": [
    "# First 2 are expiration_date\n",
    "new_main['expiration_date'] = new_main['expiration_date'].astype(str)\n",
    "new_main"
   ]
  },
  {
   "cell_type": "code",
   "execution_count": null,
   "metadata": {},
   "outputs": [],
   "source": [
    "new_main['is_current'].iloc[0] == 1"
   ]
  },
  {
   "cell_type": "code",
   "execution_count": null,
   "metadata": {},
   "outputs": [],
   "source": [
    "pd.set_option('display.max_colwidth', None)\n"
   ]
  },
  {
   "cell_type": "code",
   "execution_count": null,
   "metadata": {},
   "outputs": [],
   "source": [
    "new_main[new_main['license_number'] == 'C10-0000439-LIC']"
   ]
  },
  {
   "cell_type": "code",
   "execution_count": null,
   "metadata": {},
   "outputs": [],
   "source": [
    "# requests.post(\n",
    "#             'https://bespoke-api-server-production.herokuapp.com/api/v1/licenses/bulk_update_licenses',\n",
    "#             json= {\n",
    "#           'company_licenses': [\n",
    "              \n",
    "#               {\n",
    "#             'license_number': 'C10-0000439-LIC',\n",
    "#             'Rollup ID': 'CA-01466',\n",
    "#             'Legal Name': 'GREEN CROSS SOCIETY OF SOUTHERN CALIFORNIA CORPORATION',\n",
    "#             'license_status': 'Active',\n",
    "#             'Is Current': True,\n",
    "#             'License Description': 'Retailer',\n",
    "#             'Us State': 'CA',\n",
    "#             'Expiration Date': '2022-07-15',\n",
    "#             'License Category': 'Retailer'\n",
    "#             },\n",
    "#           ],\n",
    "#         },\n",
    "#             headers={'x-api-key': 'ASYNC-SERVER-API-KEY-6Lfy84qn9ew93ZwMXSYhdwqj'}\n",
    "#         )"
   ]
  },
  {
   "cell_type": "code",
   "execution_count": null,
   "metadata": {},
   "outputs": [],
   "source": [
    "new_main = new_main.reset_index().drop(columns='index')"
   ]
  },
  {
   "cell_type": "code",
   "execution_count": null,
   "metadata": {},
   "outputs": [],
   "source": [
    "new_main.dtypes"
   ]
  },
  {
   "cell_type": "code",
   "execution_count": null,
   "metadata": {},
   "outputs": [],
   "source": []
  },
  {
   "cell_type": "code",
   "execution_count": null,
   "metadata": {},
   "outputs": [],
   "source": [
    "new_main.shape"
   ]
  },
  {
   "cell_type": "code",
   "execution_count": null,
   "metadata": {},
   "outputs": [],
   "source": []
  },
  {
   "cell_type": "code",
   "execution_count": null,
   "metadata": {},
   "outputs": [],
   "source": []
  },
  {
   "cell_type": "code",
   "execution_count": null,
   "metadata": {},
   "outputs": [],
   "source": [
    "### This is just code for adding missing datapoints if I check and find any\n",
    "\n",
    "# params = urllib.parse.quote_plus(\"DRIVER={ODBC Driver 17 for SQL Server};\"\n",
    "#                                  \"SERVER=bespoke-database-1.cmevrozrcs7c.us-west-2.rds.amazonaws.com;\"\n",
    "#                                  \"DATABASE=all_cannabis;\"\n",
    "#                                  \"UID=admin;\"\n",
    "#                                  \"PWD=N19lrqxnurTUJLJT6GFe\")\n",
    "# all_con = create_engine(\"mssql+pyodbc:///?odbc_connect={}\".format(params))\n",
    "\n",
    "# all_main = pd.read_sql('all_main', all_con)\n",
    "\n",
    "# not_in_meta = pd.read_csv('../file_of_combined_data/not_in_meta.csv')\n",
    "\n",
    "# new_main = all_main[all_main['license_number'].isin(list(not_in_meta['0']))]\n",
    "\n",
    "# new_main = new_main.reset_index().drop(columns='index')\n",
    "\n",
    "# new_main['expiration_date'] = new_main['expiration_date'].astype(str)"
   ]
  },
  {
   "cell_type": "code",
   "execution_count": null,
   "metadata": {},
   "outputs": [],
   "source": []
  },
  {
   "cell_type": "code",
   "execution_count": null,
   "metadata": {},
   "outputs": [],
   "source": []
  },
  {
   "cell_type": "code",
   "execution_count": null,
   "metadata": {
    "scrolled": false
   },
   "outputs": [],
   "source": [
    "num_of_lic_sent = 0\n",
    "\n",
    "while len(new_main) - num_of_lic_sent >= 10:\n",
    "\n",
    "    n = num_of_lic_sent\n",
    "    \n",
    "    if new_main['is_current'].iloc[n] == 1:\n",
    "        is_current_1 = True\n",
    "    else:\n",
    "        is_current_1 = False\n",
    "            \n",
    "    if new_main['is_current'].iloc[n+1] == 1:\n",
    "        is_current_2 = True\n",
    "    else:\n",
    "        is_current_2 = False\n",
    "          \n",
    "    if new_main['is_current'].iloc[n+2] == 1:\n",
    "        is_current_3 = True\n",
    "    else:\n",
    "        is_current_3 = False\n",
    "            \n",
    "    if new_main['is_current'].iloc[n+3] == 1:\n",
    "        is_current_4 = True\n",
    "    else:\n",
    "        is_current_4 = False\n",
    "            \n",
    "    if new_main['is_current'].iloc[n+4] == 1:\n",
    "        is_current_5 = True\n",
    "    else:\n",
    "        is_current_5 = False\n",
    "            \n",
    "    if new_main['is_current'].iloc[n+5] == 1:\n",
    "        is_current_6 = True\n",
    "    else:\n",
    "        is_current_6 = False\n",
    "            \n",
    "    if new_main['is_current'].iloc[n+6] == 1:\n",
    "        is_current_7 = True\n",
    "    else:\n",
    "        is_current_7 = False\n",
    "            \n",
    "    if new_main['is_current'].iloc[n+7] == 1:\n",
    "        is_current_8 = True\n",
    "    else:\n",
    "        is_current_8 = False\n",
    "            \n",
    "    if new_main['is_current'].iloc[n+8] == 1:\n",
    "        is_current_9 = True\n",
    "    else:\n",
    "        is_current_9 = False\n",
    "            \n",
    "    if new_main['is_current'].iloc[n+9] == 1:\n",
    "        is_current_10 = True\n",
    "    else:\n",
    "        is_current_10 = False\n",
    "            \n",
    "\n",
    "    requests.post(\n",
    "#             'https://bespoke-api-server-staging.herokuapp.com/api/v1/licenses/bulk_update_licenses',\n",
    "            'https://bespoke-api-server-production.herokuapp.com/api/v1/licenses/bulk_update_licenses',\n",
    "            json= {\n",
    "          'company_licenses': [\n",
    "              \n",
    "              {\n",
    "            'license_number': new_main['license_number'][n],\n",
    "            'rollup_id': new_main['rollup_id'][n],\n",
    "            'legal_name': new_main['legal_name'][n],\n",
    "            'license_status': new_main['license_status'][n],\n",
    "            'is_current': is_current_1,\n",
    "            'license_description': new_main['license_description'][n],\n",
    "            'us_state': new_main['us_state'][n],\n",
    "            'expiration_date': new_main['expiration_date'][n],\n",
    "            'license_category': new_main['license_category'][n]\n",
    "            },\n",
    "            \n",
    "              \n",
    "              {\n",
    "            'license_number': new_main['license_number'][n+1],\n",
    "            'rollup_id': new_main['rollup_id'][n+1],\n",
    "            'legal_name': new_main['legal_name'][n+1],\n",
    "            'license_status': new_main['license_status'][n+1],\n",
    "            'is_current': is_current_2,\n",
    "            'license_description': new_main['license_description'][n+1],\n",
    "            'us_state': new_main['us_state'][n+1],\n",
    "            'expiration_date': new_main['expiration_date'][n+1],\n",
    "            'license_category': new_main['license_category'][n+1]\n",
    "            },\n",
    "              \n",
    "              \n",
    "              {\n",
    "            'license_number': new_main['license_number'][n+2],\n",
    "            'rollup_id': new_main['rollup_id'][n+2],\n",
    "            'legal_name': new_main['legal_name'][n+2],\n",
    "            'license_status': new_main['license_status'][n+2],\n",
    "            'is_current': is_current_3,\n",
    "            'license_description': new_main['license_description'][n+2],\n",
    "            'us_state': new_main['us_state'][n+2],\n",
    "            'expiration_date': new_main['expiration_date'][n+2],\n",
    "            'license_category': new_main['license_category'][n+2]\n",
    "            },\n",
    "\n",
    "              \n",
    "              {\n",
    "            'license_number': new_main['license_number'][n+3],\n",
    "            'rollup_id': new_main['rollup_id'][n+3],\n",
    "            'legal_name': new_main['legal_name'][n+3],\n",
    "            'license_status': new_main['license_status'][n+3],\n",
    "            'is_current': is_current_4,\n",
    "            'license_description': new_main['license_description'][n+3],\n",
    "            'us_state': new_main['us_state'][n+3],\n",
    "            'expiration_date': new_main['expiration_date'][n+3],\n",
    "            'license_category': new_main['license_category'][n+3]\n",
    "            },\n",
    "              \n",
    "              \n",
    "              {\n",
    "            'license_number': new_main['license_number'][n+4],\n",
    "            'rollup_id': new_main['rollup_id'][n+4],\n",
    "            'legal_name': new_main['legal_name'][n+4],\n",
    "            'license_status': new_main['license_status'][n+4],\n",
    "            'is_current': is_current_5,\n",
    "            'license_description': new_main['license_description'][n+4],\n",
    "            'us_state': new_main['us_state'][n+4],\n",
    "            'expiration_date': new_main['expiration_date'][n+4],\n",
    "            'license_category': new_main['license_category'][n+4]\n",
    "            },\n",
    "              \n",
    "              \n",
    "              {\n",
    "            'license_number': new_main['license_number'][n+5],\n",
    "            'rollup_id': new_main['rollup_id'][n+5],\n",
    "            'legal_name': new_main['legal_name'][n+5],\n",
    "            'license_status': new_main['license_status'][n+5],\n",
    "            'is_current': is_current_6,\n",
    "            'license_description': new_main['license_description'][n+5],\n",
    "            'us_state': new_main['us_state'][n+5],\n",
    "            'expiration_date': new_main['expiration_date'][n+5],\n",
    "            'license_category': new_main['license_category'][n+5]\n",
    "            },\n",
    "\n",
    "              \n",
    "              {\n",
    "            'license_number': new_main['license_number'][n+6],\n",
    "            'rollup_id': new_main['rollup_id'][n+6],\n",
    "            'legal_name': new_main['legal_name'][n+6],\n",
    "            'license_status': new_main['license_status'][n+6],\n",
    "            'is_current': is_current_7,\n",
    "            'license_description': new_main['license_description'][n+6],\n",
    "            'us_state': new_main['us_state'][n+6],\n",
    "            'expiration_date': new_main['expiration_date'][n+6],\n",
    "            'license_category': new_main['license_category'][n+6]\n",
    "            },\n",
    "              \n",
    "              \n",
    "              {\n",
    "            'license_number': new_main['license_number'][n+7],\n",
    "            'rollup_id': new_main['rollup_id'][n+7],\n",
    "            'legal_name': new_main['legal_name'][n+7],\n",
    "            'license_status': new_main['license_status'][n+7],\n",
    "            'is_current': is_current_8,\n",
    "            'license_description': new_main['license_description'][n+7],\n",
    "            'us_state': new_main['us_state'][n+7],\n",
    "            'expiration_date': new_main['expiration_date'][n+7],\n",
    "            'license_category': new_main['license_category'][n+7]\n",
    "            },\n",
    "              \n",
    "              \n",
    "              {\n",
    "            'license_number': new_main['license_number'][n+8],\n",
    "            'rollup_id': new_main['rollup_id'][n+8],\n",
    "            'legal_name': new_main['legal_name'][n+8],\n",
    "            'license_status': new_main['license_status'][n+8],\n",
    "            'is_current': is_current_9,\n",
    "            'license_description': new_main['license_description'][n+8],\n",
    "            'us_state': new_main['us_state'][n+8],\n",
    "            'expiration_date': new_main['expiration_date'][n+8],\n",
    "            'license_category': new_main['license_category'][n+8]\n",
    "            },\n",
    "\n",
    "              \n",
    "              {\n",
    "            'license_number': new_main['license_number'][n+9],\n",
    "            'rollup_id': new_main['rollup_id'][n+9],\n",
    "            'legal_name': new_main['legal_name'][n+9],\n",
    "            'license_status': new_main['license_status'][n+9],\n",
    "            'is_current': is_current_10,\n",
    "            'license_description': new_main['license_description'][n+9],\n",
    "            'us_state': new_main['us_state'][n+9],\n",
    "            'expiration_date': new_main['expiration_date'][n+9],\n",
    "            'license_category': new_main['license_category'][n+9]\n",
    "            },\n",
    "\n",
    "              \n",
    "          ],\n",
    "        },\n",
    "            headers={'x-api-key': 'ASYNC-SERVER-API-KEY-6Lfy84qn9ew93ZwMXSYhdwqj'}\n",
    "#             {'x-api-key': '80030179832729980933'}\n",
    "        )\n",
    "        \n",
    "    num_of_lic_sent += 10\n",
    "    \n",
    "    print(num_of_lic_sent)\n",
    "        \n",
    "    sleep(5)\n",
    "        \n",
    "    if len(new_main) - num_of_lic_sent < 10:\n",
    "            \n",
    "        for n in range(num_of_lic_sent, len(new_main)):\n",
    "    \n",
    "            if new_main['is_current'].iloc[n] == 1:\n",
    "                is_current_1 = True\n",
    "            else:\n",
    "                is_current_1 = False\n",
    "                    \n",
    "        \n",
    "        \n",
    "for n in range(num_of_lic_sent, len(new_main)):\n",
    "    \n",
    "    requests.post('https://bespoke-api-server-production.herokuapp.com/api/v1/licenses/bulk_update_licenses',\n",
    "              json= {\n",
    "              'company_licenses': [\n",
    "                                      {\n",
    "                                    'license_number': new_main['license_number'].iloc[n],\n",
    "                                    'rollup_id': new_main['rollup_id'].iloc[n],\n",
    "                                    'legal_name': new_main['legal_name'].iloc[n],\n",
    "                                    'license_status': new_main['license_status'].iloc[n],\n",
    "                                    'is_current': is_current_1,\n",
    "                                    'license_description': new_main['license_description'].iloc[n],\n",
    "                                    'us_state': 'CA',\n",
    "                                    'expiration_date': new_main['expiration_date'].iloc[n],\n",
    "                                    'license_category': new_main['license_category'].iloc[n]\n",
    "                                    },\n",
    "                                  ],\n",
    "                                },\n",
    "                                    headers={'x-api-key': 'ASYNC-SERVER-API-KEY-6Lfy84qn9ew93ZwMXSYhdwqj'}\n",
    "                                )\n",
    "    print(n)"
   ]
  },
  {
   "cell_type": "code",
   "execution_count": null,
   "metadata": {},
   "outputs": [],
   "source": [
    "new_main"
   ]
  },
  {
   "cell_type": "code",
   "execution_count": null,
   "metadata": {},
   "outputs": [],
   "source": [
    "range(num_of_lic_sent, len(new_main))"
   ]
  },
  {
   "cell_type": "code",
   "execution_count": null,
   "metadata": {},
   "outputs": [],
   "source": []
  },
  {
   "cell_type": "code",
   "execution_count": null,
   "metadata": {},
   "outputs": [],
   "source": []
  },
  {
   "cell_type": "code",
   "execution_count": null,
   "metadata": {},
   "outputs": [],
   "source": []
  },
  {
   "cell_type": "code",
   "execution_count": null,
   "metadata": {},
   "outputs": [],
   "source": []
  },
  {
   "cell_type": "code",
   "execution_count": null,
   "metadata": {},
   "outputs": [],
   "source": [
    "print(stop)"
   ]
  },
  {
   "cell_type": "code",
   "execution_count": null,
   "metadata": {},
   "outputs": [],
   "source": []
  },
  {
   "cell_type": "markdown",
   "metadata": {},
   "source": [
    "### Check The Metabase"
   ]
  },
  {
   "cell_type": "code",
   "execution_count": null,
   "metadata": {},
   "outputs": [],
   "source": []
  },
  {
   "cell_type": "code",
   "execution_count": null,
   "metadata": {},
   "outputs": [],
   "source": [
    "metabase_ca = pd.read_json('query_result_2021-09-30T16_29_55.806Z.json')"
   ]
  },
  {
   "cell_type": "code",
   "execution_count": null,
   "metadata": {},
   "outputs": [],
   "source": [
    "sql_ca = pd.read_sql('all_main', con=all_cannabis_con)"
   ]
  },
  {
   "cell_type": "code",
   "execution_count": null,
   "metadata": {},
   "outputs": [],
   "source": [
    "sql_ca = sql_ca[sql_ca['us_state'] == 'CA']"
   ]
  },
  {
   "cell_type": "code",
   "execution_count": null,
   "metadata": {},
   "outputs": [],
   "source": [
    "sql_ca['expiration_date'] = sql_ca['expiration_date'].astype(str)"
   ]
  },
  {
   "cell_type": "code",
   "execution_count": null,
   "metadata": {},
   "outputs": [],
   "source": []
  },
  {
   "cell_type": "code",
   "execution_count": null,
   "metadata": {},
   "outputs": [],
   "source": [
    "other_changes = []\n",
    "\n",
    "for lic in metabase_ca['License Number'].unique():\n",
    "    if list(metabase_ca[metabase_ca['License Number'] == lic]['License Status'])[0] != list(sql_ca[sql_ca['license_number'] == lic]['license_status'])[0]:\n",
    "        print(lic, 'status')\n",
    "        other_changes.append(lic)\n",
    "    elif list(metabase_ca[metabase_ca['License Number'] == lic]['Expiration Date'])[0] != list(sql_ca[sql_ca['license_number'] == lic]['expiration_date'])[0]:\n",
    "        print(lic, 'expiration')\n",
    "        other_changes.append(lic)\n",
    "    elif list(metabase_ca[metabase_ca['License Number'] == lic]['Rollup ID'])[0] != list(sql_ca[sql_ca['license_number'] == lic]['rollup_id'])[0]:\n",
    "        print(lic, 'roll')\n",
    "        other_changes.append(lic)\n",
    "    elif list(metabase_ca[metabase_ca['License Number'] == lic]['License Description'])[0] != list(sql_ca[sql_ca['license_number'] == lic]['license_description'])[0]:\n",
    "        print(lic, 'description')\n",
    "        other_changes.append(lic)\n",
    "    elif list(metabase_ca[metabase_ca['License Number'] == lic]['License Category'])[0] != list(sql_ca[sql_ca['license_number'] == lic]['license_category'])[0]:\n",
    "        print(lic, 'category')\n",
    "        other_changes.append(lic)\n",
    "    elif list(metabase_ca[metabase_ca['License Number'] == lic]['Is Current'])[0] != list(sql_ca[sql_ca['license_number'] == lic]['is_current'])[0]:\n",
    "        print(lic, 'current')\n",
    "        other_changes.append(lic)"
   ]
  },
  {
   "cell_type": "code",
   "execution_count": null,
   "metadata": {},
   "outputs": [],
   "source": [
    "len(other_changes)"
   ]
  },
  {
   "cell_type": "code",
   "execution_count": null,
   "metadata": {},
   "outputs": [],
   "source": [
    "other_changes"
   ]
  },
  {
   "cell_type": "code",
   "execution_count": null,
   "metadata": {},
   "outputs": [],
   "source": []
  },
  {
   "cell_type": "code",
   "execution_count": null,
   "metadata": {},
   "outputs": [],
   "source": [
    "metabase_ca[metabase_ca['License Number'] == 'C9-0000281-LIC']"
   ]
  },
  {
   "cell_type": "code",
   "execution_count": null,
   "metadata": {},
   "outputs": [],
   "source": []
  },
  {
   "cell_type": "code",
   "execution_count": null,
   "metadata": {},
   "outputs": [],
   "source": []
  },
  {
   "cell_type": "code",
   "execution_count": null,
   "metadata": {},
   "outputs": [],
   "source": [
    "other_changes_df = sql_ca[sql_ca['license_number'].isin(other_changes)]"
   ]
  },
  {
   "cell_type": "code",
   "execution_count": null,
   "metadata": {},
   "outputs": [],
   "source": [
    "other_changes_df[other_changes_df['license_number'] == 'C11-0000602-LIC']"
   ]
  },
  {
   "cell_type": "code",
   "execution_count": null,
   "metadata": {},
   "outputs": [],
   "source": [
    "other_changes_df = other_changes_df.reset_index().drop(columns='index')"
   ]
  },
  {
   "cell_type": "code",
   "execution_count": null,
   "metadata": {},
   "outputs": [],
   "source": [
    "new_main = other_changes_df"
   ]
  },
  {
   "cell_type": "code",
   "execution_count": null,
   "metadata": {},
   "outputs": [],
   "source": [
    "new_main[new_main['license_number'] == 'C11-0000602-LIC']"
   ]
  },
  {
   "cell_type": "code",
   "execution_count": null,
   "metadata": {},
   "outputs": [],
   "source": []
  },
  {
   "cell_type": "code",
   "execution_count": null,
   "metadata": {},
   "outputs": [],
   "source": [
    "new_main"
   ]
  },
  {
   "cell_type": "code",
   "execution_count": null,
   "metadata": {},
   "outputs": [],
   "source": []
  },
  {
   "cell_type": "code",
   "execution_count": null,
   "metadata": {},
   "outputs": [],
   "source": []
  },
  {
   "cell_type": "code",
   "execution_count": null,
   "metadata": {},
   "outputs": [],
   "source": []
  },
  {
   "cell_type": "code",
   "execution_count": null,
   "metadata": {},
   "outputs": [],
   "source": [
    "# requests.post(\n",
    "# #             'https://bespoke-api-server-staging.herokuapp.com/api/v1/licenses/bulk_update_licenses',\n",
    "#             'https://bespoke-api-server-production.herokuapp.com/api/v1/licenses/bulk_update_licenses',\n",
    "#             json= {\n",
    "#           'company_licenses': [\n",
    "              \n",
    "#               {\n",
    "#             'license_number': 'CDPH-10004633',\n",
    "#             'rollup_id': 'CA-01424'\n",
    "#             },\n",
    "#           ],\n",
    "#         },\n",
    "#             headers={'x-api-key': 'ASYNC-SERVER-API-KEY-6Lfy84qn9ew93ZwMXSYhdwqj'}\n",
    "# #             {'x-api-key': '80030179832729980933'}\n",
    "#         )\n",
    "              "
   ]
  },
  {
   "cell_type": "code",
   "execution_count": null,
   "metadata": {},
   "outputs": [],
   "source": []
  },
  {
   "cell_type": "code",
   "execution_count": null,
   "metadata": {},
   "outputs": [],
   "source": []
  }
 ],
 "metadata": {
  "kernelspec": {
   "display_name": "Python 3",
   "language": "python",
   "name": "python3"
  },
  "language_info": {
   "codemirror_mode": {
    "name": "ipython",
    "version": 3
   },
   "file_extension": ".py",
   "mimetype": "text/x-python",
   "name": "python",
   "nbconvert_exporter": "python",
   "pygments_lexer": "ipython3",
   "version": "3.7.3"
  }
 },
 "nbformat": 4,
 "nbformat_minor": 2
}
