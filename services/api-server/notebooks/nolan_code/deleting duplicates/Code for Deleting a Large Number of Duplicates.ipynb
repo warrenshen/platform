{
 "cells": [
  {
   "cell_type": "markdown",
   "metadata": {},
   "source": [
    "### Probably won't need this again, but here's how I deleted all of the 55 duplicates in Colorado"
   ]
  },
  {
   "cell_type": "code",
   "execution_count": null,
   "metadata": {},
   "outputs": [],
   "source": []
  },
  {
   "cell_type": "code",
   "execution_count": null,
   "metadata": {},
   "outputs": [],
   "source": [
    "all_conn = pyodbc.connect('DRIVER={ODBC Driver 17 for SQL Server};'\n",
    "                      'SERVER=bespoke-database-1.cmevrozrcs7c.us-west-2.rds.amazonaws.com;'\n",
    "                      'DATABASE=co_cannabis;'\n",
    "                      'UID=admin;'\n",
    "                      'PWD=N19lrqxnurTUJLJT6GFe;')\n",
    "\n",
    "all_cursor = all_conn.cursor()\n",
    "\n",
    "all_cursor.execute('SELECT * FROM co_cannabis.dbo.co_roll')\n",
    "\n",
    "results = all_cursor.fetchall()"
   ]
  },
  {
   "cell_type": "code",
   "execution_count": null,
   "metadata": {},
   "outputs": [],
   "source": [
    "list_of_lic = []\n",
    "for n in range(len(pd.DataFrame(results)[0])):\n",
    "    list_of_lic.append(pd.DataFrame(results)[0][n][0])"
   ]
  },
  {
   "cell_type": "code",
   "execution_count": null,
   "metadata": {},
   "outputs": [],
   "source": [
    "list_of_dupes = []\n",
    "for n in range(len(pd.DataFrame(list_of_lic)[0].value_counts())):\n",
    "    if pd.DataFrame(list_of_lic)[0].value_counts()[n] > 1:\n",
    "        list_of_dupes.append(pd.DataFrame(list_of_lic)[0].value_counts().index[n])"
   ]
  },
  {
   "cell_type": "code",
   "execution_count": null,
   "metadata": {},
   "outputs": [],
   "source": [
    "for lic in list_of_dupes:\n",
    "    \n",
    "    print(lic)\n",
    "    \n",
    "    all_conn = pyodbc.connect('DRIVER={ODBC Driver 17 for SQL Server};'\n",
    "                      'SERVER=bespoke-database-1.cmevrozrcs7c.us-west-2.rds.amazonaws.com;'\n",
    "                      'DATABASE=co_cannabis;'\n",
    "                      'UID=admin;'\n",
    "                      'PWD=N19lrqxnurTUJLJT6GFe;')\n",
    "\n",
    "    all_cursor = all_conn.cursor()\n",
    "\n",
    "    all_cursor.execute('SELECT * FROM co_cannabis.dbo.co_contact')\n",
    "    \n",
    "    all_cursor.execute(f\"\"\"\n",
    "    DELETE TOP(1) FROM co_cannabis.dbo.co_contact WHERE license_number = '{lic}'\n",
    "    \"\"\")\n",
    "    \n",
    "    all_conn.commit()"
   ]
  },
  {
   "cell_type": "code",
   "execution_count": null,
   "metadata": {},
   "outputs": [],
   "source": []
  }
 ],
 "metadata": {
  "kernelspec": {
   "display_name": "Python 3",
   "language": "python",
   "name": "python3"
  },
  "language_info": {
   "codemirror_mode": {
    "name": "ipython",
    "version": 3
   },
   "file_extension": ".py",
   "mimetype": "text/x-python",
   "name": "python",
   "nbconvert_exporter": "python",
   "pygments_lexer": "ipython3",
   "version": "3.7.3"
  }
 },
 "nbformat": 4,
 "nbformat_minor": 2
}
