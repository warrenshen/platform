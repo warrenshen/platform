{
 "cells": [
  {
   "cell_type": "code",
   "execution_count": 1,
   "metadata": {},
   "outputs": [],
   "source": [
    "import pandas as pd\n",
    "import pyodbc\n",
    "import pymssql\n",
    "from pathlib import Path\n",
    "from sqlalchemy import create_engine\n",
    "import numpy as np\n",
    "import urllib\n",
    "import datetime as dt\n",
    "import re\n",
    "import requests"
   ]
  },
  {
   "cell_type": "code",
   "execution_count": null,
   "metadata": {},
   "outputs": [],
   "source": []
  },
  {
   "cell_type": "code",
   "execution_count": 2,
   "metadata": {},
   "outputs": [],
   "source": [
    "# This creates the connection to the California Cannabis files in SQL\n",
    "\n",
    "ca_params = urllib.parse.quote_plus(\"DRIVER={ODBC Driver 17 for SQL Server};\"\n",
    "                                 \"SERVER=bespoke-database-1.cmevrozrcs7c.us-west-2.rds.amazonaws.com;\"\n",
    "                                 \"DATABASE=ca_cannabis;\"\n",
    "                                 \"UID=admin;\"\n",
    "                                 \"PWD=N19lrqxnurTUJLJT6GFe\")\n",
    "ca_engine_con = create_engine(\"mssql+pyodbc:///?odbc_connect={}\".format(ca_params))\n",
    "\n",
    "# This creates the local connection to SQL\n",
    "\n",
    "ca_driver = \"ODBC Driver 17 for SQL Server\"\n",
    "ca_engine = create_engine(f'mssql://LAPTOP-E6QKON1L/ca_cannabis?driver={ca_driver}')\n",
    "ca_local_con = ca_engine.connect()"
   ]
  },
  {
   "cell_type": "code",
   "execution_count": null,
   "metadata": {},
   "outputs": [],
   "source": []
  },
  {
   "cell_type": "code",
   "execution_count": 15,
   "metadata": {},
   "outputs": [],
   "source": [
    "# This reads in the 3 old SQL tables that we're working with\n",
    "\n",
    "ca_main_bespoke = pd.read_sql(\"SELECT * FROM ca_main\", ca_engine_con)\n",
    "ca_roll_bespoke = pd.read_sql(\"SELECT * FROM ca_roll\", ca_engine_con)\n",
    "ca_contact_bespoke = pd.read_sql(\"SELECT * FROM ca_contact\", ca_engine_con)\n",
    "\n",
    "# And this copies them over to my loca SQL server\n",
    "\n",
    "ca_main_bespoke.to_sql('ca_main', ca_local_con, if_exists='replace', index=False)\n",
    "ca_roll_bespoke.to_sql('ca_roll', ca_local_con, if_exists='replace', index=False)\n",
    "ca_contact_bespoke.to_sql('ca_contact', ca_local_con, if_exists='replace', index=False)"
   ]
  },
  {
   "cell_type": "code",
   "execution_count": null,
   "metadata": {},
   "outputs": [],
   "source": []
  },
  {
   "cell_type": "code",
   "execution_count": null,
   "metadata": {},
   "outputs": [],
   "source": []
  },
  {
   "cell_type": "code",
   "execution_count": 20,
   "metadata": {},
   "outputs": [],
   "source": [
    "# This creates the connection to the Colorado Cannabis files in SQL\n",
    "\n",
    "co_params = urllib.parse.quote_plus(\"DRIVER={ODBC Driver 17 for SQL Server};\"\n",
    "                                 \"SERVER=bespoke-database-1.cmevrozrcs7c.us-west-2.rds.amazonaws.com;\"\n",
    "                                 \"DATABASE=co_cannabis;\"\n",
    "                                 \"UID=admin;\"\n",
    "                                 \"PWD=N19lrqxnurTUJLJT6GFe\")\n",
    "co_engine_con = create_engine(\"mssql+pyodbc:///?odbc_connect={}\".format(co_params))\n",
    "\n",
    "# This creates the local connection to SQL\n",
    "\n",
    "co_driver = \"ODBC Driver 17 for SQL Server\"\n",
    "co_engine = create_engine(f'mssql://LAPTOP-E6QKON1L/co_cannabis?driver={co_driver}')\n",
    "co_local_con = co_engine.connect()"
   ]
  },
  {
   "cell_type": "code",
   "execution_count": null,
   "metadata": {},
   "outputs": [],
   "source": []
  },
  {
   "cell_type": "code",
   "execution_count": 21,
   "metadata": {},
   "outputs": [],
   "source": [
    "# This reads in the 3 old SQL tables that we're working with\n",
    "\n",
    "co_main_bespoke = pd.read_sql(\"SELECT * FROM co_main\", co_engine_con)\n",
    "co_roll_bespoke = pd.read_sql(\"SELECT * FROM co_roll\", co_engine_con)\n",
    "co_contact_bespoke = pd.read_sql(\"SELECT * FROM co_contact\", co_engine_con)\n",
    "\n",
    "# And this copies them over to my loca SQL server\n",
    "\n",
    "co_main_bespoke.to_sql('co_main', co_local_con, if_exists='replace', index=False)\n",
    "co_roll_bespoke.to_sql('co_roll', co_local_con, if_exists='replace', index=False)\n",
    "co_contact_bespoke.to_sql('co_contact', co_local_con, if_exists='replace', index=False)"
   ]
  },
  {
   "cell_type": "code",
   "execution_count": null,
   "metadata": {},
   "outputs": [],
   "source": []
  },
  {
   "cell_type": "code",
   "execution_count": null,
   "metadata": {},
   "outputs": [],
   "source": []
  },
  {
   "cell_type": "code",
   "execution_count": 22,
   "metadata": {},
   "outputs": [],
   "source": [
    "# This creates the connection to the Illinois Cannabis files in SQL\n",
    "\n",
    "il_params = urllib.parse.quote_plus(\"DRIVER={ODBC Driver 17 for SQL Server};\"\n",
    "                                 \"SERVER=bespoke-database-1.cmevrozrcs7c.us-west-2.rds.amazonaws.com;\"\n",
    "                                 \"DATABASE=il_cannabis;\"\n",
    "                                 \"UID=admin;\"\n",
    "                                 \"PWD=N19lrqxnurTUJLJT6GFe\")\n",
    "il_engine_con = create_engine(\"mssql+pyodbc:///?odbc_connect={}\".format(il_params))\n",
    "\n",
    "# This creates the local connection to SQL\n",
    "\n",
    "il_driver = \"ODBC Driver 17 for SQL Server\"\n",
    "il_engine = create_engine(f'mssql://LAPTOP-E6QKON1L/il_cannabis?driver={il_driver}')\n",
    "il_local_con = il_engine.connect()"
   ]
  },
  {
   "cell_type": "code",
   "execution_count": null,
   "metadata": {},
   "outputs": [],
   "source": []
  },
  {
   "cell_type": "code",
   "execution_count": 23,
   "metadata": {},
   "outputs": [],
   "source": [
    "# This reads in the 3 old SQL tables that we're working with\n",
    "\n",
    "il_main_bespoke = pd.read_sql(\"SELECT * FROM il_main\", il_engine_con)\n",
    "il_roll_bespoke = pd.read_sql(\"SELECT * FROM il_roll\", il_engine_con)\n",
    "il_contact_bespoke = pd.read_sql(\"SELECT * FROM il_contact\", il_engine_con)\n",
    "\n",
    "# And this copies them over to my loca SQL server\n",
    "\n",
    "il_main_bespoke.to_sql('il_main', il_local_con, if_exists='replace', index=False)\n",
    "il_roll_bespoke.to_sql('il_roll', il_local_con, if_exists='replace', index=False)\n",
    "il_contact_bespoke.to_sql('il_contact', il_local_con, if_exists='replace', index=False)"
   ]
  },
  {
   "cell_type": "code",
   "execution_count": null,
   "metadata": {},
   "outputs": [],
   "source": []
  },
  {
   "cell_type": "code",
   "execution_count": null,
   "metadata": {},
   "outputs": [],
   "source": []
  },
  {
   "cell_type": "code",
   "execution_count": 24,
   "metadata": {},
   "outputs": [],
   "source": [
    "# This creates the connection to the Nevada Cannabis files in SQL\n",
    "\n",
    "nv_params = urllib.parse.quote_plus(\"DRIVER={ODBC Driver 17 for SQL Server};\"\n",
    "                                 \"SERVER=bespoke-database-1.cmevrozrcs7c.us-west-2.rds.amazonaws.com;\"\n",
    "                                 \"DATABASE=nv_cannabis;\"\n",
    "                                 \"UID=admin;\"\n",
    "                                 \"PWD=N19lrqxnurTUJLJT6GFe\")\n",
    "nv_engine_con = create_engine(\"mssql+pyodbc:///?odbc_connect={}\".format(nv_params))\n",
    "\n",
    "# This creates the local connection to SQL\n",
    "\n",
    "nv_driver = \"ODBC Driver 17 for SQL Server\"\n",
    "nv_engine = create_engine(f'mssql://LAPTOP-E6QKON1L/nv_cannabis?driver={nv_driver}')\n",
    "nv_local_con = co_engine.connect()"
   ]
  },
  {
   "cell_type": "code",
   "execution_count": null,
   "metadata": {},
   "outputs": [],
   "source": []
  },
  {
   "cell_type": "code",
   "execution_count": 25,
   "metadata": {},
   "outputs": [],
   "source": [
    "# This reads in the 3 old SQL tables that we're working with\n",
    "\n",
    "nv_main_bespoke = pd.read_sql(\"SELECT * FROM nv_main\", nv_engine_con)\n",
    "nv_roll_bespoke = pd.read_sql(\"SELECT * FROM nv_roll\", nv_engine_con)\n",
    "nv_contact_bespoke = pd.read_sql(\"SELECT * FROM nv_contact\", nv_engine_con)\n",
    "\n",
    "# And this copies them over to my loca SQL server\n",
    "\n",
    "nv_main_bespoke.to_sql('nv_main', nv_local_con, if_exists='replace', index=False)\n",
    "nv_roll_bespoke.to_sql('nv_roll', nv_local_con, if_exists='replace', index=False)\n",
    "nv_contact_bespoke.to_sql('nv_contact', nv_local_con, if_exists='replace', index=False)"
   ]
  },
  {
   "cell_type": "code",
   "execution_count": null,
   "metadata": {},
   "outputs": [],
   "source": []
  },
  {
   "cell_type": "code",
   "execution_count": null,
   "metadata": {},
   "outputs": [],
   "source": []
  },
  {
   "cell_type": "code",
   "execution_count": 26,
   "metadata": {},
   "outputs": [],
   "source": [
    "# This creates the connection to the Oregon Cannabis files in SQL\n",
    "\n",
    "or_params = urllib.parse.quote_plus(\"DRIVER={ODBC Driver 17 for SQL Server};\"\n",
    "                                 \"SERVER=bespoke-database-1.cmevrozrcs7c.us-west-2.rds.amazonaws.com;\"\n",
    "                                 \"DATABASE=or_cannabis;\"\n",
    "                                 \"UID=admin;\"\n",
    "                                 \"PWD=N19lrqxnurTUJLJT6GFe\")\n",
    "or_engine_con = create_engine(\"mssql+pyodbc:///?odbc_connect={}\".format(or_params))\n",
    "\n",
    "# This creates the local connection to SQL\n",
    "\n",
    "or_driver = \"ODBC Driver 17 for SQL Server\"\n",
    "or_engine = create_engine(f'mssql://LAPTOP-E6QKON1L/or_cannabis?driver={or_driver}')\n",
    "or_local_con = co_engine.connect()"
   ]
  },
  {
   "cell_type": "code",
   "execution_count": null,
   "metadata": {},
   "outputs": [],
   "source": []
  },
  {
   "cell_type": "code",
   "execution_count": 27,
   "metadata": {},
   "outputs": [],
   "source": [
    "# This reads in the 3 old SQL tables that we're working with\n",
    "\n",
    "or_main_bespoke = pd.read_sql(\"SELECT * FROM or_main\", or_engine_con)\n",
    "or_roll_bespoke = pd.read_sql(\"SELECT * FROM or_roll\", or_engine_con)\n",
    "or_contact_bespoke = pd.read_sql(\"SELECT * FROM or_contact\", or_engine_con)\n",
    "\n",
    "# And this copies them over to my loca SQL server\n",
    "\n",
    "or_main_bespoke.to_sql('or_main', or_local_con, if_exists='replace', index=False)\n",
    "or_roll_bespoke.to_sql('or_roll', or_local_con, if_exists='replace', index=False)\n",
    "or_contact_bespoke.to_sql('or_contact', or_local_con, if_exists='replace', index=False)"
   ]
  },
  {
   "cell_type": "code",
   "execution_count": null,
   "metadata": {},
   "outputs": [],
   "source": []
  },
  {
   "cell_type": "code",
   "execution_count": null,
   "metadata": {},
   "outputs": [],
   "source": []
  },
  {
   "cell_type": "code",
   "execution_count": 28,
   "metadata": {},
   "outputs": [],
   "source": [
    "# This creates the connection to the California Cannabis files in SQL\n",
    "\n",
    "wa_params = urllib.parse.quote_plus(\"DRIVER={ODBC Driver 17 for SQL Server};\"\n",
    "                                 \"SERVER=bespoke-database-1.cmevrozrcs7c.us-west-2.rds.amazonaws.com;\"\n",
    "                                 \"DATABASE=wa_cannabis;\"\n",
    "                                 \"UID=admin;\"\n",
    "                                 \"PWD=N19lrqxnurTUJLJT6GFe\")\n",
    "wa_engine_con = create_engine(\"mssql+pyodbc:///?odbc_connect={}\".format(wa_params))\n",
    "\n",
    "# This creates the local connection to SQL\n",
    "\n",
    "wa_driver = \"ODBC Driver 17 for SQL Server\"\n",
    "wa_engine = create_engine(f'mssql://LAPTOP-E6QKON1L/wa_cannabis?driver={wa_driver}')\n",
    "wa_local_con = co_engine.connect()"
   ]
  },
  {
   "cell_type": "code",
   "execution_count": null,
   "metadata": {},
   "outputs": [],
   "source": []
  },
  {
   "cell_type": "code",
   "execution_count": 29,
   "metadata": {},
   "outputs": [],
   "source": [
    "# This reads in the 3 old SQL tables that we're working with\n",
    "\n",
    "wa_main_bespoke = pd.read_sql(\"SELECT * FROM wa_main\", wa_engine_con)\n",
    "wa_roll_bespoke = pd.read_sql(\"SELECT * FROM wa_roll\", wa_engine_con)\n",
    "wa_contact_bespoke = pd.read_sql(\"SELECT * FROM wa_contact\", wa_engine_con)\n",
    "\n",
    "# And this copies them over to my loca SQL server\n",
    "\n",
    "wa_main_bespoke.to_sql('wa_main', wa_local_con, if_exists='replace', index=False)\n",
    "wa_roll_bespoke.to_sql('wa_roll', wa_local_con, if_exists='replace', index=False)\n",
    "wa_contact_bespoke.to_sql('wa_contact', wa_local_con, if_exists='replace', index=False)"
   ]
  },
  {
   "cell_type": "code",
   "execution_count": null,
   "metadata": {},
   "outputs": [],
   "source": []
  },
  {
   "cell_type": "code",
   "execution_count": null,
   "metadata": {},
   "outputs": [],
   "source": []
  },
  {
   "cell_type": "code",
   "execution_count": 30,
   "metadata": {},
   "outputs": [],
   "source": [
    "# This creates the connection to the California Cannabis files in SQL\n",
    "\n",
    "client_tracker_params = urllib.parse.quote_plus(\"DRIVER={ODBC Driver 17 for SQL Server};\"\n",
    "                                 \"SERVER=bespoke-database-1.cmevrozrcs7c.us-west-2.rds.amazonaws.com;\"\n",
    "                                 \"DATABASE=client_surveillance;\"\n",
    "                                 \"UID=admin;\"\n",
    "                                 \"PWD=N19lrqxnurTUJLJT6GFe\")\n",
    "client_tracker_engine_con = create_engine(\"mssql+pyodbc:///?odbc_connect={}\".format(client_tracker_params))\n",
    "\n",
    "# This creates the local connection to SQL\n",
    "\n",
    "client_tracker_driver = \"ODBC Driver 17 for SQL Server\"\n",
    "client_tracker_engine = create_engine(f'mssql://LAPTOP-E6QKON1L/client_surveillance?driver={client_tracker_driver}')\n",
    "client_tracker_local_con = co_engine.connect()"
   ]
  },
  {
   "cell_type": "code",
   "execution_count": null,
   "metadata": {},
   "outputs": [],
   "source": []
  },
  {
   "cell_type": "code",
   "execution_count": 31,
   "metadata": {},
   "outputs": [],
   "source": [
    "client_tracker_bespoke = pd.read_sql(\"SELECT * FROM client_tracker_new\", client_tracker_engine_con)\n",
    "client_tracker_bespoke.to_sql('client_tracker_new', client_tracker_local_con, if_exists='replace', index=False)"
   ]
  },
  {
   "cell_type": "code",
   "execution_count": null,
   "metadata": {},
   "outputs": [],
   "source": []
  },
  {
   "cell_type": "code",
   "execution_count": null,
   "metadata": {},
   "outputs": [],
   "source": []
  },
  {
   "cell_type": "code",
   "execution_count": null,
   "metadata": {},
   "outputs": [],
   "source": []
  },
  {
   "cell_type": "code",
   "execution_count": null,
   "metadata": {},
   "outputs": [],
   "source": []
  }
 ],
 "metadata": {
  "kernelspec": {
   "display_name": "Python 3",
   "language": "python",
   "name": "python3"
  },
  "language_info": {
   "codemirror_mode": {
    "name": "ipython",
    "version": 3
   },
   "file_extension": ".py",
   "mimetype": "text/x-python",
   "name": "python",
   "nbconvert_exporter": "python",
   "pygments_lexer": "ipython3",
   "version": "3.7.3"
  }
 },
 "nbformat": 4,
 "nbformat_minor": 2
}
