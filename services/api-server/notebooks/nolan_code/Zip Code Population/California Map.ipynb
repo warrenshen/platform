{
 "cells": [
  {
   "cell_type": "code",
   "execution_count": null,
   "metadata": {},
   "outputs": [],
   "source": [
    "import pandas as pd\n",
    "import plotly.express as px\n",
    "import seaborn as sns\n",
    "from geopy.geocoders import Nominatim\n",
    "from geopy.extra.rate_limiter import RateLimiter\n",
    "from sqlalchemy import create_engine\n",
    "import urllib"
   ]
  },
  {
   "cell_type": "code",
   "execution_count": null,
   "metadata": {},
   "outputs": [],
   "source": [
    "ca_zip_population = pd.read_csv('CA Zip with Lon and Lat.csv').drop(columns=('Unnamed: 0'))"
   ]
  },
  {
   "cell_type": "code",
   "execution_count": null,
   "metadata": {},
   "outputs": [],
   "source": [
    "ca_zip_population"
   ]
  },
  {
   "cell_type": "code",
   "execution_count": null,
   "metadata": {},
   "outputs": [],
   "source": [
    "# ca_zip_population['latitude'] = ''\n",
    "# ca_zip_population['longitude'] = ''\n",
    "\n",
    "# for n in range(len(ca_zip_population)):\n",
    "#     location = geolocator.geocode(ca_zip_population['zip'][n])\n",
    "#     ca_zip_population['latitude'][n] = location[1][0]\n",
    "#     ca_zip_population['longitude'][n] = location[1][1]\n",
    "    \n",
    "# ca_zip_population.to_csv('CA Zip with Lon and Lat.csv')"
   ]
  },
  {
   "cell_type": "code",
   "execution_count": null,
   "metadata": {},
   "outputs": [],
   "source": [
    "ca_zip_population.dtypes"
   ]
  },
  {
   "cell_type": "code",
   "execution_count": null,
   "metadata": {},
   "outputs": [],
   "source": []
  },
  {
   "cell_type": "code",
   "execution_count": null,
   "metadata": {},
   "outputs": [],
   "source": [
    "# This creates the connection to the California Cannabis files in SQL\n",
    "\n",
    "params = urllib.parse.quote_plus(\"DRIVER={ODBC Driver 17 for SQL Server};\"\n",
    "                                 \"SERVER=bespoke-database-1.cmevrozrcs7c.us-west-2.rds.amazonaws.com;\"\n",
    "                                 \"DATABASE=ca_cannabis;\"\n",
    "                                 \"UID=admin;\"\n",
    "                                 \"PWD=N19lrqxnurTUJLJT6GFe\")\n",
    "engine_con = create_engine(\"mssql+pyodbc:///?odbc_connect={}\".format(params))\n",
    "\n",
    "ca_main = pd.read_sql(\"SELECT * FROM ca_main\", engine_con)\n",
    "ca_contact = pd.read_sql(\"SELECT * FROM ca_contact\", engine_con)"
   ]
  },
  {
   "cell_type": "code",
   "execution_count": null,
   "metadata": {},
   "outputs": [],
   "source": [
    "# This gives us the count of retailers per zipcode and puts it into a clean df\n",
    "company_count = pd.DataFrame(ca_contact[ca_contact['license_number'].isin(ca_main[ca_main['license_description'] == 'Retailer']['license_number'])]['contact_zip'].value_counts())\n",
    "company_count_df = company_count.reset_index().rename(columns={'index': 'zip', 'contact_zip': 'company_count'})"
   ]
  },
  {
   "cell_type": "code",
   "execution_count": null,
   "metadata": {},
   "outputs": [],
   "source": [
    "company_count_df['zip'] = company_count_df['zip'].astype(int)"
   ]
  },
  {
   "cell_type": "code",
   "execution_count": null,
   "metadata": {},
   "outputs": [],
   "source": []
  },
  {
   "cell_type": "code",
   "execution_count": null,
   "metadata": {},
   "outputs": [],
   "source": [
    "ca_zip_population_and_retail_count = pd.merge(ca_zip_population, company_count_df, how='left', on='zip')"
   ]
  },
  {
   "cell_type": "code",
   "execution_count": null,
   "metadata": {},
   "outputs": [],
   "source": [
    "ca_zip_population_and_retail_count['population_per_retailer'] = (ca_zip_population_and_retail_count['population']/ca_zip_population_and_retail_count['company_count']).fillna(0).astype(int)"
   ]
  },
  {
   "cell_type": "code",
   "execution_count": null,
   "metadata": {},
   "outputs": [],
   "source": [
    "ca_zip_population_and_retail_count.head()"
   ]
  },
  {
   "cell_type": "code",
   "execution_count": null,
   "metadata": {},
   "outputs": [],
   "source": []
  },
  {
   "cell_type": "code",
   "execution_count": null,
   "metadata": {},
   "outputs": [],
   "source": [
    "fig = px.scatter_mapbox(ca_zip_population_and_retail_count, lat='latitude', lon='longitude',\n",
    "                        hover_name='zip', \n",
    "                        center = {'lat': 37, 'lon': -120},\n",
    "                        color='population_per_retailer',\n",
    "                        size='population',\n",
    "#                         color_continuous_scale=px.colors.cyclical.IceFire,\n",
    "                        zoom=5, width=1000, height=1000\n",
    "               )\n",
    "fig.update_layout(mapbox_style=\"open-street-map\")\n",
    "# fig.figure(figsize=(20, 20))\n",
    "fig.show()"
   ]
  },
  {
   "cell_type": "code",
   "execution_count": null,
   "metadata": {},
   "outputs": [],
   "source": []
  },
  {
   "cell_type": "code",
   "execution_count": null,
   "metadata": {},
   "outputs": [],
   "source": [
    "fig = px.scatter_mapbox(ca_zip_population_and_retail_count, lat='latitude', lon='longitude',\n",
    "                        hover_name='zip', \n",
    "                        center = {'lat': 37, 'lon': -120},\n",
    "                        color='population_per_retailer',\n",
    "#                         size='population',\n",
    "#                         color_continuous_scale=px.colors.cyclical.IceFire,\n",
    "                        zoom=5, width=1000, height=1000\n",
    "               )\n",
    "fig.update_layout(mapbox_style=\"open-street-map\")\n",
    "# fig.figure(figsize=(20, 20))\n",
    "fig.show()"
   ]
  },
  {
   "cell_type": "code",
   "execution_count": null,
   "metadata": {},
   "outputs": [],
   "source": []
  }
 ],
 "metadata": {
  "kernelspec": {
   "display_name": "Python 3",
   "language": "python",
   "name": "python3"
  },
  "language_info": {
   "codemirror_mode": {
    "name": "ipython",
    "version": 3
   },
   "file_extension": ".py",
   "mimetype": "text/x-python",
   "name": "python",
   "nbconvert_exporter": "python",
   "pygments_lexer": "ipython3",
   "version": "3.7.3"
  }
 },
 "nbformat": 4,
 "nbformat_minor": 2
}
