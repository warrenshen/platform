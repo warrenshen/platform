{
 "cells": [
  {
   "cell_type": "code",
   "execution_count": null,
   "metadata": {},
   "outputs": [],
   "source": [
    "import pandas as pd\n",
    "import numpy as np\n",
    "import tabula\n",
    "from bs4 import BeautifulSoup"
   ]
  },
  {
   "cell_type": "code",
   "execution_count": null,
   "metadata": {},
   "outputs": [],
   "source": [
    "pd.options.display.max_rows = 500\n",
    "pd.options.display.min_rows = 500"
   ]
  },
  {
   "cell_type": "code",
   "execution_count": null,
   "metadata": {},
   "outputs": [],
   "source": []
  },
  {
   "cell_type": "code",
   "execution_count": null,
   "metadata": {},
   "outputs": [],
   "source": []
  },
  {
   "cell_type": "code",
   "execution_count": null,
   "metadata": {},
   "outputs": [],
   "source": []
  },
  {
   "cell_type": "code",
   "execution_count": null,
   "metadata": {},
   "outputs": [],
   "source": []
  },
  {
   "cell_type": "markdown",
   "metadata": {},
   "source": [
    "### Create Function for Cleaning the Data"
   ]
  },
  {
   "cell_type": "code",
   "execution_count": null,
   "metadata": {},
   "outputs": [],
   "source": [
    "def clean_data(dataframe):\n",
    "    for n in range(len(dataframe)):\n",
    "        if 'Trade Name:' in str(dataframe['name_legal'][n]):\n",
    "            dataframe['name_dba'][n-1] = dataframe['name_legal'][n]\n",
    "        if dataframe['name_legal'][n] == '':\n",
    "            if 'Trade Name:' in str(dataframe['name_dba']):\n",
    "                if dataframe['name_legal'][n-1] != '':\n",
    "                    dataframe['name_legal'][n] = dataframe['name_legal'][n-1]\n",
    "                else:\n",
    "                    dataframe['name_legal'][n] = dataframe['name_legal'][n-2]\n",
    "        \n",
    "        if dataframe['contact_email'][n] == '':\n",
    "            if 'Trade Name:' in str(dataframe['name_dba']):\n",
    "                if dataframe['contact_email'][n-1] == 'EMAIL':\n",
    "                    dataframe['contact_email'][n] = dataframe['contact_email'][n+1]\n",
    "                else:\n",
    "                    dataframe['contact_email'][n] = dataframe['contact_email'][n-1]\n",
    "                \n",
    "#                 if not dataframe['contact_email'][n].endswith('.COM'):\n",
    "#                     dataframe['contact_email'][n] = dataframe['contact_email'][n] + dataframe['contact_email'][n+1]\n",
    "                \n",
    "            \n",
    "                    \n",
    "        \n",
    "        if dataframe['contact_phone'][n] == '':\n",
    "            if 'Trade Name:' in str(dataframe['name_dba']):\n",
    "                if dataframe['contact_phone'][n-1] == 'PHONE':\n",
    "                    dataframe['contact_phone'][n] = dataframe['contact_phone'][n+1]\n",
    "                else:\n",
    "                    dataframe['contact_phone'][n] = dataframe['contact_phone'][n-1]\n",
    "             \n",
    "        if dataframe['contact_city'][n] == '':\n",
    "            if 'Trade Name:' in str(dataframe['name_dba']):\n",
    "                if dataframe['contact_city'][n-1] == 'CITY':\n",
    "                    dataframe['contact_city'][n] = dataframe['contact_city'][n+1]\n",
    "                else:\n",
    "                    dataframe['contact_city'][n] = dataframe['contact_city'][n-1]\n",
    "        \n",
    "        if dataframe['contact_zip'][n] == '':\n",
    "            if 'Trade Name:' in str(dataframe['name_dba']):\n",
    "                if dataframe['contact_zip'][n-1] == 'ZIP':\n",
    "                    dataframe['contact_zip'][n] = dataframe['contact_zip'][n+1]\n",
    "                else:\n",
    "                    dataframe['contact_zip'][n] = dataframe['contact_zip'][n-1]\n",
    "        \n",
    "        if dataframe['contact_county'][n] == '':\n",
    "            if 'Trade Name:' in str(dataframe['name_dba']):\n",
    "                if dataframe['contact_county'][n-1] == 'COUNTY':\n",
    "                    dataframe['contact_county'][n] = dataframe['contact_county'][n+1]\n",
    "                else:\n",
    "                    dataframe['contact_county'][n] = dataframe['contact_county'][n-1]\n",
    "        \n",
    "        \n",
    "        if str(dataframe['license_number'][n]).endswith('-'):\n",
    "            dataframe['license_number'][n] = dataframe['license_number'][n] + dataframe['license_number'][n+1]\n",
    "        if str(dataframe['license_number'][n]).endswith('-'):\n",
    "            dataframe['license_number'][n] = dataframe['license_number'][n] + dataframe['license_number'][n+2]"
   ]
  },
  {
   "cell_type": "code",
   "execution_count": null,
   "metadata": {},
   "outputs": [],
   "source": []
  },
  {
   "cell_type": "code",
   "execution_count": null,
   "metadata": {},
   "outputs": [],
   "source": []
  },
  {
   "cell_type": "code",
   "execution_count": null,
   "metadata": {},
   "outputs": [],
   "source": []
  },
  {
   "cell_type": "code",
   "execution_count": null,
   "metadata": {},
   "outputs": [],
   "source": []
  },
  {
   "cell_type": "code",
   "execution_count": null,
   "metadata": {},
   "outputs": [],
   "source": []
  },
  {
   "cell_type": "markdown",
   "metadata": {},
   "source": [
    "### Read in the Data"
   ]
  },
  {
   "cell_type": "code",
   "execution_count": null,
   "metadata": {},
   "outputs": [],
   "source": []
  },
  {
   "cell_type": "code",
   "execution_count": null,
   "metadata": {},
   "outputs": [],
   "source": [
    "dispensaries_df = pd.read_excel('licenses/omma_dispensaries_list_2021_06_30.xlsx')"
   ]
  },
  {
   "cell_type": "code",
   "execution_count": null,
   "metadata": {},
   "outputs": [],
   "source": []
  },
  {
   "cell_type": "code",
   "execution_count": null,
   "metadata": {},
   "outputs": [],
   "source": [
    "dispensaries_df['name_dba'] = ''\n",
    "dispensaries_df['license_type'] = 'Dispensary'"
   ]
  },
  {
   "cell_type": "code",
   "execution_count": null,
   "metadata": {},
   "outputs": [],
   "source": [
    "dispensaries_df = dispensaries_df.rename(columns={'Unnamed: 0':'name_legal', 'Unnamed: 1': 'license_number', 'Unnamed: 2': 'contact_email', 'Unnamed: 3': 'contact_phone', 'Unnamed: 4': 'contact_city', 'Unnamed: 5': 'contact_zip', 'Unnamed: 6': 'contact_county'})"
   ]
  },
  {
   "cell_type": "code",
   "execution_count": null,
   "metadata": {},
   "outputs": [],
   "source": [
    "dispensaries_df = dispensaries_df.replace(np.NaN, '')"
   ]
  },
  {
   "cell_type": "code",
   "execution_count": null,
   "metadata": {},
   "outputs": [],
   "source": [
    "dispensaries_df.head()"
   ]
  },
  {
   "cell_type": "code",
   "execution_count": null,
   "metadata": {},
   "outputs": [],
   "source": [
    "clean_data(dispensaries_df)"
   ]
  },
  {
   "cell_type": "code",
   "execution_count": null,
   "metadata": {},
   "outputs": [],
   "source": [
    "for n in range(len(dispensaries_df)):\n",
    "    if str(dispensaries_df['license_number'][n]).endswith('-'):\n",
    "        dispensaries_df['license_number'][n] = dispensaries_df['license_number'][n] + dispensaries_df['license_number'][n+1]\n",
    "    if str(dispensaries_df['license_number'][n]).endswith('-'):\n",
    "        dispensaries_df['license_number'][n] = dispensaries_df['license_number'][n] + dispensaries_df['license_number'][n+2]"
   ]
  },
  {
   "cell_type": "code",
   "execution_count": null,
   "metadata": {},
   "outputs": [],
   "source": [
    "dispensaries_df['name_dba'] = dispensaries_df['name_dba'].str.replace('Trade Name: ', '')\n",
    "dispensaries_df['name_dba'] = dispensaries_df['name_dba'].str.replace('Trade Name:', '')\n",
    "dispensaries_df.head()"
   ]
  },
  {
   "cell_type": "code",
   "execution_count": null,
   "metadata": {},
   "outputs": [],
   "source": [
    "dispensaries_df = dispensaries_df[dispensaries_df['name_dba'] != ''].reset_index().drop(columns={'index'})"
   ]
  },
  {
   "cell_type": "code",
   "execution_count": null,
   "metadata": {},
   "outputs": [],
   "source": [
    "dispensaries_df['name_legal'] = dispensaries_df['name_legal'].astype(str)"
   ]
  },
  {
   "cell_type": "code",
   "execution_count": null,
   "metadata": {},
   "outputs": [],
   "source": [
    "dispensaries_df.shape"
   ]
  },
  {
   "cell_type": "code",
   "execution_count": null,
   "metadata": {},
   "outputs": [],
   "source": [
    "dispensaries_df[dispensaries_df['license_number'].str[-1] == '-']"
   ]
  },
  {
   "cell_type": "code",
   "execution_count": null,
   "metadata": {},
   "outputs": [],
   "source": []
  },
  {
   "cell_type": "code",
   "execution_count": null,
   "metadata": {},
   "outputs": [],
   "source": [
    "laboratory_df = pd.read_excel('licenses/omma_laboratory_list_2021_06_30.xlsx')"
   ]
  },
  {
   "cell_type": "code",
   "execution_count": null,
   "metadata": {},
   "outputs": [],
   "source": [
    "laboratory_df['name_dba'] = ''\n",
    "laboratory_df['license_type'] = 'Laboratory'"
   ]
  },
  {
   "cell_type": "code",
   "execution_count": null,
   "metadata": {},
   "outputs": [],
   "source": [
    "laboratory_df = laboratory_df.rename(columns={'Unnamed: 0':'name_legal', 'Unnamed: 1': 'license_number', 'Unnamed: 2': 'contact_email', 'Unnamed: 3': 'contact_phone', 'Unnamed: 4': 'contact_city', 'Unnamed: 5': 'contact_zip', 'Unnamed: 6': 'contact_county'})"
   ]
  },
  {
   "cell_type": "code",
   "execution_count": null,
   "metadata": {},
   "outputs": [],
   "source": [
    "laboratory_df = laboratory_df.replace(np.NaN, '')"
   ]
  },
  {
   "cell_type": "code",
   "execution_count": null,
   "metadata": {},
   "outputs": [],
   "source": [
    "clean_data(laboratory_df)"
   ]
  },
  {
   "cell_type": "code",
   "execution_count": null,
   "metadata": {},
   "outputs": [],
   "source": [
    "laboratory_df['name_dba'] = laboratory_df['name_dba'].str.replace('Trade Name: ', '')\n",
    "laboratory_df['name_dba'] = laboratory_df['name_dba'].str.replace('Trade Name:', '')\n",
    "laboratory_df.head()"
   ]
  },
  {
   "cell_type": "code",
   "execution_count": null,
   "metadata": {},
   "outputs": [],
   "source": [
    "laboratory_df = laboratory_df[laboratory_df['name_dba'] != ''].reset_index().drop(columns={'index'})"
   ]
  },
  {
   "cell_type": "code",
   "execution_count": null,
   "metadata": {},
   "outputs": [],
   "source": [
    "laboratory_df.head()"
   ]
  },
  {
   "cell_type": "code",
   "execution_count": null,
   "metadata": {},
   "outputs": [],
   "source": []
  },
  {
   "cell_type": "code",
   "execution_count": null,
   "metadata": {},
   "outputs": [],
   "source": [
    "laboratory_df['name_legal'] = laboratory_df['name_legal'].astype(str)"
   ]
  },
  {
   "cell_type": "code",
   "execution_count": null,
   "metadata": {},
   "outputs": [],
   "source": [
    "laboratory_df.shape"
   ]
  },
  {
   "cell_type": "code",
   "execution_count": null,
   "metadata": {},
   "outputs": [],
   "source": [
    "laboratory_df[laboratory_df['license_number'].str[-1] == '-']"
   ]
  },
  {
   "cell_type": "code",
   "execution_count": null,
   "metadata": {},
   "outputs": [],
   "source": []
  },
  {
   "cell_type": "code",
   "execution_count": null,
   "metadata": {},
   "outputs": [],
   "source": []
  },
  {
   "cell_type": "code",
   "execution_count": null,
   "metadata": {},
   "outputs": [],
   "source": [
    "processors_df = pd.read_excel('licenses/omma_processors_list_2021_06_30.xlsx')"
   ]
  },
  {
   "cell_type": "code",
   "execution_count": null,
   "metadata": {},
   "outputs": [],
   "source": [
    "processors_df['name_dba'] = ''\n",
    "processors_df['license_type'] = 'Processors'"
   ]
  },
  {
   "cell_type": "code",
   "execution_count": null,
   "metadata": {},
   "outputs": [],
   "source": [
    "processors_df = processors_df.rename(columns={'Unnamed: 0':'name_legal', 'Unnamed: 1': 'license_number', 'Unnamed: 2': 'contact_email', 'Unnamed: 3': 'contact_phone', 'Unnamed: 4': 'contact_city', 'Unnamed: 5': 'contact_zip', 'Unnamed: 6': 'contact_county'})"
   ]
  },
  {
   "cell_type": "code",
   "execution_count": null,
   "metadata": {},
   "outputs": [],
   "source": [
    "processors_df = processors_df.replace(np.NaN, '')"
   ]
  },
  {
   "cell_type": "code",
   "execution_count": null,
   "metadata": {},
   "outputs": [],
   "source": [
    "clean_data(processors_df)"
   ]
  },
  {
   "cell_type": "code",
   "execution_count": null,
   "metadata": {},
   "outputs": [],
   "source": [
    "processors_df['name_dba'] = processors_df['name_dba'].str.replace('Trade Name: ', '')\n",
    "processors_df['name_dba'] = processors_df['name_dba'].str.replace('Trade Name:', '')\n",
    "processors_df.head()"
   ]
  },
  {
   "cell_type": "code",
   "execution_count": null,
   "metadata": {},
   "outputs": [],
   "source": [
    "processors_df = processors_df[processors_df['name_dba'] != ''].reset_index().drop(columns={'index'})"
   ]
  },
  {
   "cell_type": "code",
   "execution_count": null,
   "metadata": {},
   "outputs": [],
   "source": [
    "processors_df.head()"
   ]
  },
  {
   "cell_type": "code",
   "execution_count": null,
   "metadata": {},
   "outputs": [],
   "source": []
  },
  {
   "cell_type": "code",
   "execution_count": null,
   "metadata": {},
   "outputs": [],
   "source": [
    "processors_df['name_legal'] = processors_df['name_legal'].astype(str)"
   ]
  },
  {
   "cell_type": "code",
   "execution_count": null,
   "metadata": {},
   "outputs": [],
   "source": [
    "processors_df.shape"
   ]
  },
  {
   "cell_type": "code",
   "execution_count": null,
   "metadata": {},
   "outputs": [],
   "source": [
    "processors_df[processors_df['license_number'].str[-1] == '-']"
   ]
  },
  {
   "cell_type": "code",
   "execution_count": null,
   "metadata": {},
   "outputs": [],
   "source": []
  },
  {
   "cell_type": "code",
   "execution_count": null,
   "metadata": {},
   "outputs": [],
   "source": []
  },
  {
   "cell_type": "code",
   "execution_count": null,
   "metadata": {},
   "outputs": [],
   "source": [
    "transporter_df = pd.read_excel('licenses/omma_transporter_list_2021_06_30.xlsx')"
   ]
  },
  {
   "cell_type": "code",
   "execution_count": null,
   "metadata": {},
   "outputs": [],
   "source": [
    "transporter_df['name_dba'] = ''\n",
    "transporter_df['license_type'] = 'Transporter'"
   ]
  },
  {
   "cell_type": "code",
   "execution_count": null,
   "metadata": {},
   "outputs": [],
   "source": [
    "transporter_df = transporter_df.rename(columns={'Unnamed: 0':'name_legal', 'Unnamed: 1': 'license_number', 'Unnamed: 2': 'contact_email', 'Unnamed: 3': 'contact_phone', 'Unnamed: 4': 'contact_city', 'Unnamed: 5': 'contact_zip', 'Unnamed: 6': 'contact_county'})"
   ]
  },
  {
   "cell_type": "code",
   "execution_count": null,
   "metadata": {},
   "outputs": [],
   "source": [
    "transporter_df = transporter_df.replace(np.NaN, '')"
   ]
  },
  {
   "cell_type": "code",
   "execution_count": null,
   "metadata": {},
   "outputs": [],
   "source": [
    "clean_data(transporter_df)"
   ]
  },
  {
   "cell_type": "code",
   "execution_count": null,
   "metadata": {},
   "outputs": [],
   "source": [
    "transporter_df['name_dba'] = transporter_df['name_dba'].str.replace('Trade Name: ', '')\n",
    "transporter_df['name_dba'] = transporter_df['name_dba'].str.replace('Trade Name:', '')\n",
    "transporter_df.head()"
   ]
  },
  {
   "cell_type": "code",
   "execution_count": null,
   "metadata": {},
   "outputs": [],
   "source": [
    "transporter_df = transporter_df[transporter_df['name_dba'] != ''].reset_index().drop(columns={'index'})"
   ]
  },
  {
   "cell_type": "code",
   "execution_count": null,
   "metadata": {},
   "outputs": [],
   "source": [
    "transporter_df.head()"
   ]
  },
  {
   "cell_type": "code",
   "execution_count": null,
   "metadata": {},
   "outputs": [],
   "source": []
  },
  {
   "cell_type": "code",
   "execution_count": null,
   "metadata": {},
   "outputs": [],
   "source": [
    "transporter_df['name_legal'] = transporter_df['name_legal'].astype(str)"
   ]
  },
  {
   "cell_type": "code",
   "execution_count": null,
   "metadata": {},
   "outputs": [],
   "source": [
    "transporter_df.shape"
   ]
  },
  {
   "cell_type": "code",
   "execution_count": null,
   "metadata": {},
   "outputs": [],
   "source": [
    "transporter_df[transporter_df['license_number'].str[-1] == '-']"
   ]
  },
  {
   "cell_type": "code",
   "execution_count": null,
   "metadata": {},
   "outputs": [],
   "source": []
  },
  {
   "cell_type": "code",
   "execution_count": null,
   "metadata": {},
   "outputs": [],
   "source": []
  },
  {
   "cell_type": "code",
   "execution_count": null,
   "metadata": {},
   "outputs": [],
   "source": [
    "waste_disposal_df = pd.read_excel('licenses/omma_waste_disposal_list_2021_06_30.xlsx')"
   ]
  },
  {
   "cell_type": "code",
   "execution_count": null,
   "metadata": {},
   "outputs": [],
   "source": [
    "waste_disposal_df.head(7)"
   ]
  },
  {
   "cell_type": "code",
   "execution_count": null,
   "metadata": {},
   "outputs": [],
   "source": [
    "waste_disposal_df['name_dba'] = ''\n",
    "waste_disposal_df['license_type'] = 'Waste Disposal'"
   ]
  },
  {
   "cell_type": "code",
   "execution_count": null,
   "metadata": {},
   "outputs": [],
   "source": [
    "waste_disposal_df = waste_disposal_df.rename(columns={'Unnamed: 0':'name_legal', 'Unnamed: 1': 'license_number', 'Unnamed: 2': 'contact_email', 'Unnamed: 3': 'contact_phone', 'Unnamed: 4': 'contact_city', 'Unnamed: 5': 'contact_zip', 'Unnamed: 6': 'contact_county'})"
   ]
  },
  {
   "cell_type": "code",
   "execution_count": null,
   "metadata": {},
   "outputs": [],
   "source": [
    "waste_disposal_df[waste_disposal_df['license_number'] == 'WAAA-2XVW-XVWM']"
   ]
  },
  {
   "cell_type": "code",
   "execution_count": null,
   "metadata": {},
   "outputs": [],
   "source": []
  },
  {
   "cell_type": "code",
   "execution_count": null,
   "metadata": {},
   "outputs": [],
   "source": [
    "waste_disposal_df = waste_disposal_df.replace(np.NaN, '')"
   ]
  },
  {
   "cell_type": "code",
   "execution_count": null,
   "metadata": {},
   "outputs": [],
   "source": [
    "clean_data(waste_disposal_df)"
   ]
  },
  {
   "cell_type": "code",
   "execution_count": null,
   "metadata": {},
   "outputs": [],
   "source": [
    "waste_disposal_df['name_dba'] = waste_disposal_df['name_dba'].str.replace('Trade Name: ', '')\n",
    "waste_disposal_df['name_dba'] = waste_disposal_df['name_dba'].str.replace('Trade Name:', '')\n",
    "waste_disposal_df.head()"
   ]
  },
  {
   "cell_type": "code",
   "execution_count": null,
   "metadata": {},
   "outputs": [],
   "source": [
    "waste_disposal_df = waste_disposal_df[waste_disposal_df['name_dba'] != ''].reset_index().drop(columns={'index'})"
   ]
  },
  {
   "cell_type": "code",
   "execution_count": null,
   "metadata": {},
   "outputs": [],
   "source": [
    "waste_disposal_df.head()"
   ]
  },
  {
   "cell_type": "code",
   "execution_count": null,
   "metadata": {},
   "outputs": [],
   "source": []
  },
  {
   "cell_type": "code",
   "execution_count": null,
   "metadata": {},
   "outputs": [],
   "source": [
    "waste_disposal_df['name_legal'] = waste_disposal_df['name_legal'].astype(str)"
   ]
  },
  {
   "cell_type": "code",
   "execution_count": null,
   "metadata": {},
   "outputs": [],
   "source": [
    "waste_disposal_df.shape"
   ]
  },
  {
   "cell_type": "code",
   "execution_count": null,
   "metadata": {},
   "outputs": [],
   "source": [
    "waste_disposal_df[waste_disposal_df['license_number'].str[-1] == '-']"
   ]
  },
  {
   "cell_type": "code",
   "execution_count": null,
   "metadata": {},
   "outputs": [],
   "source": []
  },
  {
   "cell_type": "code",
   "execution_count": null,
   "metadata": {},
   "outputs": [],
   "source": []
  },
  {
   "cell_type": "code",
   "execution_count": null,
   "metadata": {},
   "outputs": [],
   "source": []
  },
  {
   "cell_type": "code",
   "execution_count": null,
   "metadata": {},
   "outputs": [],
   "source": []
  },
  {
   "cell_type": "code",
   "execution_count": null,
   "metadata": {},
   "outputs": [],
   "source": []
  },
  {
   "cell_type": "code",
   "execution_count": null,
   "metadata": {},
   "outputs": [],
   "source": []
  },
  {
   "cell_type": "code",
   "execution_count": null,
   "metadata": {},
   "outputs": [],
   "source": []
  },
  {
   "cell_type": "code",
   "execution_count": null,
   "metadata": {},
   "outputs": [],
   "source": [
    "# growers_1_df = pd.read_excel('licenses/omma_growers_list_2021_06_30-1.xlsx')\n",
    "# growers_2_df = pd.read_excel('licenses/omma_growers_list_2021_06_30-2.xlsx')\n",
    "# growers_3_df = pd.read_excel('licenses/omma_growers_list_2021_06_30-3.xlsx')\n",
    "# growers_4_df = pd.read_excel('licenses/omma_growers_list_2021_06_30-4.xlsx')\n",
    "# growers_df = growers_1_df.append(growers_2_df).append(growers_3_df).append(growers_4_df)"
   ]
  },
  {
   "cell_type": "code",
   "execution_count": null,
   "metadata": {},
   "outputs": [],
   "source": [
    "# growers_df.dtypes"
   ]
  },
  {
   "cell_type": "code",
   "execution_count": null,
   "metadata": {},
   "outputs": [],
   "source": [
    "# growers_df.head()"
   ]
  },
  {
   "cell_type": "code",
   "execution_count": null,
   "metadata": {},
   "outputs": [],
   "source": [
    "# growers_df['name_dba'] = ''"
   ]
  },
  {
   "cell_type": "code",
   "execution_count": null,
   "metadata": {},
   "outputs": [],
   "source": [
    "# growers_df = growers_df.rename(columns={'Unnamed: 0':'name_legal', 'Unnamed: 1': 'license_number', 'Unnamed: 2': 'contact_email', 'Unnamed: 3': 'contact_phone', 'Unnamed: 4': 'contact_city', 'Unnamed: 5': 'contact_zip', 'Unnamed: 6': 'contact_county'})"
   ]
  },
  {
   "cell_type": "code",
   "execution_count": null,
   "metadata": {},
   "outputs": [],
   "source": [
    "# growers_df = growers_df.replace(np.NaN, '')"
   ]
  },
  {
   "cell_type": "code",
   "execution_count": null,
   "metadata": {},
   "outputs": [],
   "source": [
    "# growers_df"
   ]
  },
  {
   "cell_type": "code",
   "execution_count": null,
   "metadata": {},
   "outputs": [],
   "source": [
    "# for n in range(len(growers_df)):\n",
    "#     if 'Trade Name:' in str(growers_df['name_legal'][n]):\n",
    "#         growers_df['name_dba'][n-1] = growers_df['name_legal'][n]\n",
    "#     if growers_df['name_legal'][n] == '':\n",
    "#         if 'Trade Name:' in str(growers_df['name_dba']):\n",
    "#             growers_df['name_legal'][n] = growers_df['name_legal'][n-1]\n",
    "#     if growers_df['contact_email'][n] == '':\n",
    "#         if 'Trade Name:' in str(growers_df['name_dba']):\n",
    "#             growers_df['contact_email'][n] = growers_df['contact_email'][n-1]\n",
    "#     if growers_df['contact_phone'][n] == '':\n",
    "#         if 'Trade Name:' in str(growers_df['name_dba']):\n",
    "#             growers_df['contact_phone'][n] = growers_df['contact_phone'][n-1]\n",
    "#     if growers_df['contact_city'][n] == '':\n",
    "#         if 'Trade Name:' in str(growers_df['name_dba']):\n",
    "#             growers_df['contact_city'][n] = growers_df['contact_city'][n-1]\n",
    "#     if growers_df['contact_zip'][n] == '':\n",
    "#         if 'Trade Name:' in str(growers_df['name_dba']):\n",
    "#             growers_df['contact_zip'][n] = growers_df['contact_zip'][n-1]\n",
    "#     if growers_df['contact_county'][n] == '':\n",
    "#         if 'Trade Name:' in str(growers_df['name_dba']):\n",
    "#             growers_df['contact_county'][n] = growers_df['contact_county'][n-1]"
   ]
  },
  {
   "cell_type": "code",
   "execution_count": null,
   "metadata": {},
   "outputs": [],
   "source": [
    "# growers_df.head()"
   ]
  },
  {
   "cell_type": "code",
   "execution_count": null,
   "metadata": {},
   "outputs": [],
   "source": [
    "# growers_df = growers_df[growers_df['name_dba'] != ''].reset_index().drop(columns={'index'})"
   ]
  },
  {
   "cell_type": "code",
   "execution_count": null,
   "metadata": {},
   "outputs": [],
   "source": [
    "# growers_df.head()"
   ]
  },
  {
   "cell_type": "code",
   "execution_count": null,
   "metadata": {},
   "outputs": [],
   "source": []
  },
  {
   "cell_type": "code",
   "execution_count": null,
   "metadata": {},
   "outputs": [],
   "source": []
  },
  {
   "cell_type": "code",
   "execution_count": null,
   "metadata": {},
   "outputs": [],
   "source": []
  },
  {
   "cell_type": "markdown",
   "metadata": {},
   "source": [
    "### Combine the Data"
   ]
  },
  {
   "cell_type": "code",
   "execution_count": null,
   "metadata": {},
   "outputs": [],
   "source": []
  },
  {
   "cell_type": "code",
   "execution_count": null,
   "metadata": {},
   "outputs": [],
   "source": [
    "# This combines the other dataframes\n",
    "all_licenses_df = dispensaries_df.append(laboratory_df).append(processors_df).append(transporter_df).append(waste_disposal_df)\n",
    "all_licenses_df = all_licenses_df.reset_index().drop(columns=['index'])\n",
    "all_licenses_df"
   ]
  },
  {
   "cell_type": "code",
   "execution_count": null,
   "metadata": {},
   "outputs": [],
   "source": []
  },
  {
   "cell_type": "code",
   "execution_count": null,
   "metadata": {},
   "outputs": [],
   "source": []
  },
  {
   "cell_type": "code",
   "execution_count": null,
   "metadata": {},
   "outputs": [],
   "source": [
    "all_licenses_df[all_licenses_df['contact_phone'] == 'PHONE']"
   ]
  },
  {
   "cell_type": "code",
   "execution_count": null,
   "metadata": {},
   "outputs": [],
   "source": []
  },
  {
   "cell_type": "code",
   "execution_count": null,
   "metadata": {},
   "outputs": [],
   "source": []
  },
  {
   "cell_type": "markdown",
   "metadata": {},
   "source": [
    "### Add Roll Up Columns"
   ]
  },
  {
   "cell_type": "code",
   "execution_count": null,
   "metadata": {},
   "outputs": [],
   "source": []
  },
  {
   "cell_type": "code",
   "execution_count": null,
   "metadata": {},
   "outputs": [],
   "source": []
  },
  {
   "cell_type": "code",
   "execution_count": null,
   "metadata": {},
   "outputs": [],
   "source": [
    "all_licenses_df['roll_up_id'] = ''\n",
    "all_licenses_df['company_roll_up'] = ''"
   ]
  },
  {
   "cell_type": "code",
   "execution_count": null,
   "metadata": {},
   "outputs": [],
   "source": []
  },
  {
   "cell_type": "code",
   "execution_count": null,
   "metadata": {},
   "outputs": [],
   "source": []
  },
  {
   "cell_type": "code",
   "execution_count": null,
   "metadata": {},
   "outputs": [],
   "source": []
  },
  {
   "cell_type": "code",
   "execution_count": null,
   "metadata": {},
   "outputs": [],
   "source": []
  },
  {
   "cell_type": "code",
   "execution_count": null,
   "metadata": {},
   "outputs": [],
   "source": [
    "for email in all_licenses_df['contact_email']:\n",
    "    if not email.endswith('.COM') and not email.endswith('.NET'):\n",
    "        print(email)"
   ]
  },
  {
   "cell_type": "code",
   "execution_count": null,
   "metadata": {},
   "outputs": [],
   "source": []
  },
  {
   "cell_type": "code",
   "execution_count": null,
   "metadata": {},
   "outputs": [],
   "source": []
  },
  {
   "cell_type": "code",
   "execution_count": null,
   "metadata": {
    "scrolled": true
   },
   "outputs": [],
   "source": [
    "# This just reorders the columns\n",
    "all_licenses_df = all_licenses_df[['license_number', 'name_legal', 'name_dba', 'roll_up_id', 'company_roll_up', 'license_type', 'contact_email', 'contact_phone', 'contact_city', 'contact_zip', 'contact_county']]\n",
    "all_licenses_df"
   ]
  },
  {
   "cell_type": "code",
   "execution_count": null,
   "metadata": {},
   "outputs": [],
   "source": []
  },
  {
   "cell_type": "code",
   "execution_count": null,
   "metadata": {},
   "outputs": [],
   "source": [
    "all_licenses_df = all_licenses_df.sort_values(by='name_legal').reset_index().drop(columns=['index'])"
   ]
  },
  {
   "cell_type": "code",
   "execution_count": null,
   "metadata": {},
   "outputs": [],
   "source": []
  },
  {
   "cell_type": "code",
   "execution_count": null,
   "metadata": {},
   "outputs": [],
   "source": [
    "all_licenses_df.to_csv('edited_files/df_2021_08_to_edit.csv', index=False)"
   ]
  },
  {
   "cell_type": "code",
   "execution_count": null,
   "metadata": {},
   "outputs": [],
   "source": []
  },
  {
   "cell_type": "code",
   "execution_count": null,
   "metadata": {},
   "outputs": [],
   "source": [
    "all_licenses_df[all_licenses_df['license_number'] == '']"
   ]
  },
  {
   "cell_type": "code",
   "execution_count": null,
   "metadata": {},
   "outputs": [],
   "source": []
  },
  {
   "cell_type": "code",
   "execution_count": null,
   "metadata": {},
   "outputs": [],
   "source": []
  },
  {
   "cell_type": "code",
   "execution_count": null,
   "metadata": {},
   "outputs": [],
   "source": [
    "all_licenses_df[all_licenses_df['contact_email'] == 'EMAIL']"
   ]
  },
  {
   "cell_type": "code",
   "execution_count": null,
   "metadata": {},
   "outputs": [],
   "source": [
    "all_licenses_df[all_licenses_df['contact_phone'] == 'PHONE']"
   ]
  },
  {
   "cell_type": "code",
   "execution_count": null,
   "metadata": {},
   "outputs": [],
   "source": [
    "all_licenses_df[all_licenses_df['contact_city'] == 'CITY']"
   ]
  },
  {
   "cell_type": "code",
   "execution_count": null,
   "metadata": {},
   "outputs": [],
   "source": [
    "all_licenses_df[all_licenses_df['contact_zip'] == 'ZIP']"
   ]
  },
  {
   "cell_type": "code",
   "execution_count": null,
   "metadata": {},
   "outputs": [],
   "source": [
    "all_licenses_df[all_licenses_df['contact_county'] == 'COUNTY']"
   ]
  },
  {
   "cell_type": "code",
   "execution_count": null,
   "metadata": {},
   "outputs": [],
   "source": []
  },
  {
   "cell_type": "code",
   "execution_count": null,
   "metadata": {},
   "outputs": [],
   "source": [
    "print(stop)"
   ]
  },
  {
   "cell_type": "code",
   "execution_count": null,
   "metadata": {},
   "outputs": [],
   "source": []
  },
  {
   "cell_type": "code",
   "execution_count": null,
   "metadata": {},
   "outputs": [],
   "source": [
    "all_licenses_df.to_csv('testing.csv')"
   ]
  },
  {
   "cell_type": "code",
   "execution_count": null,
   "metadata": {},
   "outputs": [],
   "source": []
  },
  {
   "cell_type": "code",
   "execution_count": null,
   "metadata": {},
   "outputs": [],
   "source": []
  },
  {
   "cell_type": "code",
   "execution_count": null,
   "metadata": {},
   "outputs": [],
   "source": []
  }
 ],
 "metadata": {
  "kernelspec": {
   "display_name": "Python 3",
   "language": "python",
   "name": "python3"
  },
  "language_info": {
   "codemirror_mode": {
    "name": "ipython",
    "version": 3
   },
   "file_extension": ".py",
   "mimetype": "text/x-python",
   "name": "python",
   "nbconvert_exporter": "python",
   "pygments_lexer": "ipython3",
   "version": "3.7.3"
  }
 },
 "nbformat": 4,
 "nbformat_minor": 2
}
