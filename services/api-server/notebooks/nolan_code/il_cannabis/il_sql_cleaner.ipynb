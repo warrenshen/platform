{
 "cells": [
  {
   "cell_type": "code",
   "execution_count": null,
   "metadata": {},
   "outputs": [],
   "source": [
    "import pandas as pd\n",
    "import numpy as np\n",
    "import datetime as dt\n",
    "import re\n",
    "from sqlalchemy import create_engine\n",
    "import urllib"
   ]
  },
  {
   "cell_type": "code",
   "execution_count": null,
   "metadata": {},
   "outputs": [],
   "source": [
    "# https://online-dfpr.micropact.com/\n",
    "# Copy Paste from Adult Use and Medical\n",
    "\n",
    "# Eventually, switch to bulk lookup\n",
    "# https://www.idfpr.com/LicenseLookUp/BulkLookup.asp"
   ]
  },
  {
   "cell_type": "code",
   "execution_count": null,
   "metadata": {},
   "outputs": [],
   "source": [
    "pd.options.display.max_rows = 250\n",
    "pd.options.display.min_rows = 250"
   ]
  },
  {
   "cell_type": "code",
   "execution_count": null,
   "metadata": {},
   "outputs": [],
   "source": []
  },
  {
   "cell_type": "code",
   "execution_count": null,
   "metadata": {},
   "outputs": [],
   "source": [
    "# This sets the date for all of the points in the data that need the date\n",
    "\n",
    "# this_date = dt.date.today()\n",
    "this_date = dt.date(2021, 8, 10)\n",
    "\n",
    "this_day = this_date.strftime('%d')\n",
    "this_month = this_date.strftime('%m')\n",
    "this_year = this_date.strftime('%Y')"
   ]
  },
  {
   "cell_type": "code",
   "execution_count": null,
   "metadata": {},
   "outputs": [],
   "source": []
  },
  {
   "cell_type": "code",
   "execution_count": null,
   "metadata": {},
   "outputs": [],
   "source": [
    "pd.options.display.max_rows = 100\n",
    "pd.options.display.min_rows = 100\n",
    "pd.options.display.max_columns = 100\n",
    "pd.set_option('display.max_colwidth', None)"
   ]
  },
  {
   "cell_type": "code",
   "execution_count": null,
   "metadata": {},
   "outputs": [],
   "source": []
  },
  {
   "cell_type": "code",
   "execution_count": null,
   "metadata": {},
   "outputs": [],
   "source": []
  },
  {
   "cell_type": "code",
   "execution_count": null,
   "metadata": {},
   "outputs": [],
   "source": []
  },
  {
   "cell_type": "code",
   "execution_count": null,
   "metadata": {},
   "outputs": [],
   "source": [
    "# Download this PDF https://www.idfpr.com/LicenseLookup/AdultUseDispensaries.pdf or check https://www.idfpr.com/profs/adultusecan.asp\n",
    "# Use this to convert the PDF to Excel https://www.adobe.com/acrobat/online/pdf-to-excel.html\n",
    "\n",
    "# The current link is only for Dispensaries, so this will all need new formatting if we get a new list"
   ]
  },
  {
   "cell_type": "code",
   "execution_count": null,
   "metadata": {},
   "outputs": [],
   "source": []
  },
  {
   "cell_type": "code",
   "execution_count": null,
   "metadata": {},
   "outputs": [],
   "source": [
    "# These are the types of cannabis licenses Illinois provides, though I've only found licneses for that last one so far\n",
    "\n",
    "# Cultivation centers\n",
    "# Craft growers\n",
    "# Processors\n",
    "# Transporting organizations\n",
    "# Dispensing organizations"
   ]
  },
  {
   "cell_type": "code",
   "execution_count": null,
   "metadata": {},
   "outputs": [],
   "source": []
  },
  {
   "cell_type": "code",
   "execution_count": null,
   "metadata": {},
   "outputs": [],
   "source": []
  },
  {
   "cell_type": "code",
   "execution_count": null,
   "metadata": {},
   "outputs": [],
   "source": []
  },
  {
   "cell_type": "markdown",
   "metadata": {},
   "source": [
    "### SQL Connection"
   ]
  },
  {
   "cell_type": "code",
   "execution_count": null,
   "metadata": {},
   "outputs": [],
   "source": [
    "# # Typing the driver directly into the create_engine kept not working, so I'm trying it this way\n",
    "# driver=\"ODBC Driver 17 for SQL Server\"\n",
    "# engine = create_engine(f'mssql://LAPTOP-E6QKON1L/il_cannabis?driver={driver}')\n",
    "# engine_con = engine.connect()"
   ]
  },
  {
   "cell_type": "code",
   "execution_count": null,
   "metadata": {},
   "outputs": [],
   "source": [
    "# This creates the connection to the Bespoke Engine's Oregon Cannabis files in SQL\n",
    "params = urllib.parse.quote_plus(\"DRIVER={ODBC Driver 17 for SQL Server};\"\n",
    "                                 \"SERVER=bespoke-database-1.cmevrozrcs7c.us-west-2.rds.amazonaws.com;\"\n",
    "                                 \"DATABASE=il_cannabis;\"\n",
    "                                 \"UID=admin;\"\n",
    "                                 \"PWD=N19lrqxnurTUJLJT6GFe\")\n",
    "engine = create_engine(\"mssql+pyodbc:///?odbc_connect={}\".format(params))\n",
    "engine_con = engine.connect()"
   ]
  },
  {
   "cell_type": "code",
   "execution_count": null,
   "metadata": {},
   "outputs": [],
   "source": []
  },
  {
   "cell_type": "code",
   "execution_count": null,
   "metadata": {},
   "outputs": [],
   "source": []
  },
  {
   "cell_type": "code",
   "execution_count": null,
   "metadata": {},
   "outputs": [],
   "source": []
  },
  {
   "cell_type": "code",
   "execution_count": null,
   "metadata": {},
   "outputs": [],
   "source": []
  },
  {
   "cell_type": "code",
   "execution_count": null,
   "metadata": {},
   "outputs": [],
   "source": []
  },
  {
   "cell_type": "markdown",
   "metadata": {},
   "source": [
    "### Read in the Data"
   ]
  },
  {
   "cell_type": "code",
   "execution_count": null,
   "metadata": {},
   "outputs": [],
   "source": [
    "# This reads in the date from https://www.idfpr.com/LicenseLookup/AdultUseDispensaries.pdf\n",
    "\n",
    "# il_dispensaries = pd.read_excel(f'licenses/il_licenses_{this_year}_{this_month}_{this_day}.xlsx', header=5)\n",
    "il_adult_use = pd.read_excel(f'licenses/il_licenses_{this_year}_{this_month}_{this_day}.xlsx')"
   ]
  },
  {
   "cell_type": "code",
   "execution_count": null,
   "metadata": {},
   "outputs": [],
   "source": [
    "il_adult_use = il_adult_use.rename(columns={'Original':'Original Issue Date'})\n",
    "il_adult_use.head()"
   ]
  },
  {
   "cell_type": "code",
   "execution_count": null,
   "metadata": {},
   "outputs": [],
   "source": [
    "for col in il_adult_use.columns:\n",
    "    if col[:7] == 'Unnamed':\n",
    "        il_adult_use = il_adult_use.drop(columns={col})\n",
    "        \n",
    "il_adult_use.head()"
   ]
  },
  {
   "cell_type": "code",
   "execution_count": null,
   "metadata": {},
   "outputs": [],
   "source": [
    "il_adult_use['License Type'] = 'Adult Use'"
   ]
  },
  {
   "cell_type": "code",
   "execution_count": null,
   "metadata": {},
   "outputs": [],
   "source": []
  },
  {
   "cell_type": "code",
   "execution_count": null,
   "metadata": {},
   "outputs": [],
   "source": []
  },
  {
   "cell_type": "code",
   "execution_count": null,
   "metadata": {},
   "outputs": [],
   "source": [
    "il_medical = pd.read_excel(f'licenses/il_medical_{this_year}_{this_month}_{this_day}.xlsx')"
   ]
  },
  {
   "cell_type": "code",
   "execution_count": null,
   "metadata": {},
   "outputs": [],
   "source": [
    "il_medical = il_medical.rename(columns={'Original':'Original Issue Date'})\n",
    "il_medical.head()"
   ]
  },
  {
   "cell_type": "code",
   "execution_count": null,
   "metadata": {},
   "outputs": [],
   "source": [
    "for col in il_medical.columns:\n",
    "    if col[:7] == 'Unnamed':\n",
    "        il_medical = il_medical.drop(columns={col})\n",
    "        \n",
    "il_medical.head()"
   ]
  },
  {
   "cell_type": "code",
   "execution_count": null,
   "metadata": {},
   "outputs": [],
   "source": [
    "il_medical['License Type'] = 'Medical'"
   ]
  },
  {
   "cell_type": "code",
   "execution_count": null,
   "metadata": {},
   "outputs": [],
   "source": []
  },
  {
   "cell_type": "code",
   "execution_count": null,
   "metadata": {},
   "outputs": [],
   "source": []
  },
  {
   "cell_type": "code",
   "execution_count": null,
   "metadata": {},
   "outputs": [],
   "source": []
  },
  {
   "cell_type": "code",
   "execution_count": null,
   "metadata": {},
   "outputs": [],
   "source": [
    "il_cannabis = il_adult_use.append(il_medical)"
   ]
  },
  {
   "cell_type": "code",
   "execution_count": null,
   "metadata": {},
   "outputs": [],
   "source": []
  },
  {
   "cell_type": "markdown",
   "metadata": {},
   "source": [
    "### Data Cleaning"
   ]
  },
  {
   "cell_type": "code",
   "execution_count": null,
   "metadata": {},
   "outputs": [],
   "source": [
    "# This just removes the rows with null in the license column\n",
    "il_cannabis = il_cannabis[il_cannabis['Credential'].notna()]"
   ]
  },
  {
   "cell_type": "code",
   "execution_count": null,
   "metadata": {},
   "outputs": [],
   "source": []
  },
  {
   "cell_type": "code",
   "execution_count": null,
   "metadata": {},
   "outputs": [],
   "source": [
    "# This function will remove all of the \\ns from each of the columns\n",
    "\n",
    "def remove_slash_n(column):\n",
    "    \n",
    "    old_list = list(il_cannabis[column])\n",
    "    new_list = []\n",
    "    \n",
    "    for cell in old_list:\n",
    "        cell = str(cell).replace('\\n', ' ')\n",
    "        new_list.append(cell)    \n",
    "        \n",
    "    il_cannabis[column] = new_list"
   ]
  },
  {
   "cell_type": "code",
   "execution_count": null,
   "metadata": {},
   "outputs": [],
   "source": [
    "il_cannabis.columns"
   ]
  },
  {
   "cell_type": "code",
   "execution_count": null,
   "metadata": {},
   "outputs": [],
   "source": [
    "# I think these are all of the columns that need this\n",
    "remove_slash_n('DBA / AKA')\n",
    "remove_slash_n('Name')\n",
    "# remove_slash_n('Address & Phone Number')"
   ]
  },
  {
   "cell_type": "code",
   "execution_count": null,
   "metadata": {},
   "outputs": [],
   "source": [
    "str_list_dba = []\n",
    "for dba in il_cannabis['DBA / AKA']:\n",
    "    dba_str = str(dba)\n",
    "    str_list_dba.append(dba_str)\n",
    "il_cannabis['DBA / AKA'] = str_list_dba"
   ]
  },
  {
   "cell_type": "code",
   "execution_count": null,
   "metadata": {},
   "outputs": [],
   "source": []
  },
  {
   "cell_type": "code",
   "execution_count": null,
   "metadata": {},
   "outputs": [],
   "source": [
    "# This should remove the unneeded spaces by removing spaces followed by lowercase letters\n",
    "# All spaces followed by capital letters are supposed to be there, since all words start with capital letters in the names\n",
    "# Hopefully this doesn't get screwed up by some words not starting with capital letters\n",
    "\n",
    "def remove_spaces(column):\n",
    "        \n",
    "    old_list = list(il_cannabis[column])\n",
    "    new_list = []\n",
    "    \n",
    "    for cell in old_list:\n",
    "        while re.search(' [a-z]', cell) != None: # This specifies spaces followed by lowercase letters\n",
    "            cell = cell[:re.search(' [a-z]', cell).span()[0]] + cell[re.search(' [a-z]', cell).span()[0]+1:]\n",
    "        new_list.append(cell)\n",
    "    \n",
    "    il_cannabis[column] = new_list"
   ]
  },
  {
   "cell_type": "code",
   "execution_count": null,
   "metadata": {},
   "outputs": [],
   "source": []
  },
  {
   "cell_type": "code",
   "execution_count": null,
   "metadata": {},
   "outputs": [],
   "source": [
    "il_cannabis['Name'][20:30]"
   ]
  },
  {
   "cell_type": "code",
   "execution_count": null,
   "metadata": {},
   "outputs": [],
   "source": [
    "remove_spaces('Name')"
   ]
  },
  {
   "cell_type": "code",
   "execution_count": null,
   "metadata": {},
   "outputs": [],
   "source": [
    "il_cannabis['Name'][20:30]"
   ]
  },
  {
   "cell_type": "code",
   "execution_count": null,
   "metadata": {},
   "outputs": [],
   "source": []
  },
  {
   "cell_type": "code",
   "execution_count": null,
   "metadata": {},
   "outputs": [],
   "source": [
    "il_cannabis['DBA / AKA'][40:50]"
   ]
  },
  {
   "cell_type": "code",
   "execution_count": null,
   "metadata": {},
   "outputs": [],
   "source": [
    "remove_spaces('DBA / AKA')"
   ]
  },
  {
   "cell_type": "code",
   "execution_count": null,
   "metadata": {},
   "outputs": [],
   "source": [
    "il_cannabis['DBA / AKA'][40:50]"
   ]
  },
  {
   "cell_type": "code",
   "execution_count": null,
   "metadata": {},
   "outputs": [],
   "source": []
  },
  {
   "cell_type": "code",
   "execution_count": null,
   "metadata": {},
   "outputs": [],
   "source": [
    "# This is just a simple line to remove unneeded periods\n",
    "# Idk if it's needed, but it'll make it a bit cleaner\n",
    "new_lic_holder_col = []\n",
    "for cell in il_cannabis['DBA / AKA']:\n",
    "    cell = cell.replace('LLC.', 'LLC')\n",
    "    cell = cell.replace('Inc.', 'Inc')\n",
    "    cell = cell.replace(', LLC', ' LLC')\n",
    "    cell = cell.replace(', Inc', ' Inc')\n",
    "    new_lic_holder_col.append(cell)\n",
    "il_cannabis['License Holder'] = new_lic_holder_col"
   ]
  },
  {
   "cell_type": "code",
   "execution_count": null,
   "metadata": {},
   "outputs": [],
   "source": [
    "il_cannabis['DBA / AKA'].unique()"
   ]
  },
  {
   "cell_type": "code",
   "execution_count": null,
   "metadata": {},
   "outputs": [],
   "source": []
  },
  {
   "cell_type": "code",
   "execution_count": null,
   "metadata": {},
   "outputs": [],
   "source": [
    "# This just exctracs the State from City/State so we can show the contact city\n",
    "city_list = []\n",
    "il_cannabis['City/State'] = il_cannabis['City/State'].fillna(', IL')\n",
    "for city in il_cannabis['City/State']:\n",
    "    city = city.replace(', IL', '')\n",
    "    city_list.append(city)\n",
    "il_cannabis['City/State'] = city_list"
   ]
  },
  {
   "cell_type": "code",
   "execution_count": null,
   "metadata": {},
   "outputs": [],
   "source": []
  },
  {
   "cell_type": "code",
   "execution_count": null,
   "metadata": {},
   "outputs": [],
   "source": [
    "il_cannabis.head()"
   ]
  },
  {
   "cell_type": "code",
   "execution_count": null,
   "metadata": {},
   "outputs": [],
   "source": []
  },
  {
   "cell_type": "code",
   "execution_count": null,
   "metadata": {},
   "outputs": [],
   "source": [
    "# These are the \n",
    "# il_cannabis[il_cannabis['Original'].isnull()]"
   ]
  },
  {
   "cell_type": "code",
   "execution_count": null,
   "metadata": {},
   "outputs": [],
   "source": []
  },
  {
   "cell_type": "code",
   "execution_count": null,
   "metadata": {},
   "outputs": [],
   "source": []
  },
  {
   "cell_type": "markdown",
   "metadata": {},
   "source": [
    "### New Columns"
   ]
  },
  {
   "cell_type": "code",
   "execution_count": null,
   "metadata": {},
   "outputs": [],
   "source": [
    "# Address and Phone column not present currently"
   ]
  },
  {
   "cell_type": "code",
   "execution_count": null,
   "metadata": {},
   "outputs": [],
   "source": [
    "# # This extracts the phone number column from the Address & Phone Number column\n",
    "# phone_list = []\n",
    "# for info in il_cannabis['Address & Phone Number']:\n",
    "#     info = info[-14:]\n",
    "#     info = info.replace('(', '').replace(')', '').replace('-', '').replace(' ', '')\n",
    "#     phone_list.append(info)\n",
    "# il_cannabis['contact_phone'] = phone_list"
   ]
  },
  {
   "cell_type": "code",
   "execution_count": null,
   "metadata": {},
   "outputs": [],
   "source": [
    "# # This extracts the address column from the Address & Phone Number column\n",
    "# address_list = []\n",
    "# for info in il_cannabis['Address & Phone Number']:\n",
    "#     info = info.split(',')[0]\n",
    "#     address_list.append(info)\n",
    "# il_cannabis['contact_address'] = address_list"
   ]
  },
  {
   "cell_type": "code",
   "execution_count": null,
   "metadata": {},
   "outputs": [],
   "source": [
    "# # This extracts the zip code column from the Address & Phone Number column\n",
    "# zip_list = []\n",
    "# for info in il_cannabis['Address & Phone Number']:\n",
    "#     info = info.split(sep=',')\n",
    "#     info = info[-1]\n",
    "#     info = info.replace('Illinois ', '')\n",
    "#     info = info.replace('IL ', '')\n",
    "#     info = info.replace(' ', '')\n",
    "#     info = info[:5]\n",
    "#     zip_list.append(info)\n",
    "# il_cannabis['contact_zip'] = zip_list"
   ]
  },
  {
   "cell_type": "code",
   "execution_count": null,
   "metadata": {},
   "outputs": [],
   "source": [
    "# # This extracts the zip code column from the Address & Phone Number column\n",
    "# zip_list = []\n",
    "# for info in il_cannabis['Address & Phone Number']:\n",
    "#     info = info[:-14]\n",
    "#     while info[-1] == ' ':\n",
    "#         info = info[:-1]\n",
    "#     while info[-1] == '.':\n",
    "#         info = info[:-1]\n",
    "#     if info[-5] == '-':\n",
    "#         info = info[:-5]\n",
    "#     zip_list.append(int(info[-5:]))\n",
    "# il_cannabis['contact_zip'] = zip_list"
   ]
  },
  {
   "cell_type": "code",
   "execution_count": null,
   "metadata": {},
   "outputs": [],
   "source": [
    "# This just adds the state, which doesn't really need extraction\n",
    "il_cannabis['contact_state'] = 'IL'"
   ]
  },
  {
   "cell_type": "code",
   "execution_count": null,
   "metadata": {},
   "outputs": [],
   "source": []
  },
  {
   "cell_type": "code",
   "execution_count": null,
   "metadata": {},
   "outputs": [],
   "source": [
    "il_cannabis.head()"
   ]
  },
  {
   "cell_type": "code",
   "execution_count": null,
   "metadata": {},
   "outputs": [],
   "source": []
  },
  {
   "cell_type": "code",
   "execution_count": null,
   "metadata": {},
   "outputs": [],
   "source": []
  },
  {
   "cell_type": "markdown",
   "metadata": {},
   "source": [
    "### Renaming and Reorganizing Columns"
   ]
  },
  {
   "cell_type": "code",
   "execution_count": null,
   "metadata": {},
   "outputs": [],
   "source": [
    "renamed_data = pd.DataFrame()"
   ]
  },
  {
   "cell_type": "code",
   "execution_count": null,
   "metadata": {},
   "outputs": [],
   "source": [
    "renamed_data['license_number'] = il_cannabis['Credential']\n",
    "renamed_data['license_description'] = il_cannabis['License Type']\n",
    "renamed_data['name_legal'] = il_cannabis['Name']\n",
    "renamed_data['name_dba'] = il_cannabis['DBA / AKA']\n",
    "renamed_data['license_status'] = il_cannabis['License Status']\n",
    "# renamed_data['medical'] = il_cannabis['Serve medical patients?']\n",
    "# renamed_data['company_roll_up'] = il_cannabis['company_roll_up']\n",
    "# renamed_data['roll_up_id'] = il_cannabis['roll_up_id']\n",
    "# renamed_data['contact_phone'] = il_cannabis['contact_phone']\n",
    "# renamed_data['contact_address'] = il_cannabis['contact_address']\n",
    "# renamed_data['contact_zip'] = il_cannabis['contact_zip']\n",
    "renamed_data['contact_city'] = il_cannabis['City/State']\n",
    "renamed_data['contact_state'] = il_cannabis['contact_state']\n",
    "renamed_data['date_issued'] = il_cannabis['Original Issue Date']\n",
    "renamed_data['expiration_date'] = il_cannabis['Current Expiration Date']\n",
    "renamed_data['is_current'] = 1"
   ]
  },
  {
   "cell_type": "code",
   "execution_count": null,
   "metadata": {},
   "outputs": [],
   "source": [
    "# renamed_data['medical'] = renamed_data['medical'].replace('Yes', 1).replace('No', 0).astype(int)"
   ]
  },
  {
   "cell_type": "code",
   "execution_count": null,
   "metadata": {},
   "outputs": [],
   "source": []
  },
  {
   "cell_type": "code",
   "execution_count": null,
   "metadata": {},
   "outputs": [],
   "source": [
    "renamed_data['date_uploaded'] = this_date"
   ]
  },
  {
   "cell_type": "code",
   "execution_count": null,
   "metadata": {},
   "outputs": [],
   "source": []
  },
  {
   "cell_type": "code",
   "execution_count": null,
   "metadata": {},
   "outputs": [],
   "source": [
    "renamed_data.head()"
   ]
  },
  {
   "cell_type": "code",
   "execution_count": null,
   "metadata": {},
   "outputs": [],
   "source": []
  },
  {
   "cell_type": "code",
   "execution_count": null,
   "metadata": {},
   "outputs": [],
   "source": []
  },
  {
   "cell_type": "code",
   "execution_count": null,
   "metadata": {},
   "outputs": [],
   "source": []
  },
  {
   "cell_type": "markdown",
   "metadata": {},
   "source": [
    "### Add Info From SQL"
   ]
  },
  {
   "cell_type": "code",
   "execution_count": null,
   "metadata": {},
   "outputs": [],
   "source": []
  },
  {
   "cell_type": "code",
   "execution_count": null,
   "metadata": {},
   "outputs": [],
   "source": [
    "old_rolls = pd.read_sql('il_roll', con=engine_con)"
   ]
  },
  {
   "cell_type": "code",
   "execution_count": null,
   "metadata": {},
   "outputs": [],
   "source": [
    "combined_data = renamed_data.merge(old_rolls, how='left', on='license_number')"
   ]
  },
  {
   "cell_type": "code",
   "execution_count": null,
   "metadata": {},
   "outputs": [],
   "source": []
  },
  {
   "cell_type": "code",
   "execution_count": null,
   "metadata": {},
   "outputs": [],
   "source": [
    "# Idk if there will be nas that need filling, but I'll toss this here just in case\n",
    "combined_data['company_roll_up'] = combined_data['company_roll_up'].fillna('')\n",
    "combined_data['roll_up_id'] = combined_data['roll_up_id'].fillna('')"
   ]
  },
  {
   "cell_type": "code",
   "execution_count": null,
   "metadata": {},
   "outputs": [],
   "source": [
    "combined_data.columns"
   ]
  },
  {
   "cell_type": "code",
   "execution_count": null,
   "metadata": {},
   "outputs": [],
   "source": [
    "# This just reorders the columns, since it's easier to work with the roll up info if the column is closer to the name columns\n",
    "combined_data = pd.DataFrame.reindex(combined_data,\n",
    "                    columns=['license_number', 'license_description', 'name_legal', 'name_dba', 'company_roll_up', 'roll_up_id',\n",
    "                             'medical', 'contact_phone', 'contact_address', 'contact_zip', 'contact_state', 'date_issued', \n",
    "                             'license_status', 'is_current', 'date_uploaded'])"
   ]
  },
  {
   "cell_type": "code",
   "execution_count": null,
   "metadata": {},
   "outputs": [],
   "source": [
    "combined_data.head()"
   ]
  },
  {
   "cell_type": "code",
   "execution_count": null,
   "metadata": {},
   "outputs": [],
   "source": []
  },
  {
   "cell_type": "code",
   "execution_count": null,
   "metadata": {},
   "outputs": [],
   "source": []
  },
  {
   "cell_type": "code",
   "execution_count": null,
   "metadata": {},
   "outputs": [],
   "source": [
    "# This will create a df of all of the companies no longer on the list so we can change the is_active to 0\n",
    "new_lic = list(combined_data['license_number'].unique())\n",
    "old_lic = list(old_rolls['license_number'].unique())\n",
    "null_lic = []\n",
    "for lic in old_lic:\n",
    "    if lic not in new_lic:\n",
    "        null_lic.append(lic)  "
   ]
  },
  {
   "cell_type": "code",
   "execution_count": null,
   "metadata": {},
   "outputs": [],
   "source": [
    "# This reads in the data that will be merged into the null_df\n",
    "old_main = pd.read_sql('il_main', con=engine_con)\n",
    "old_contact = pd.read_sql('il_contact', con=engine_con)"
   ]
  },
  {
   "cell_type": "code",
   "execution_count": null,
   "metadata": {},
   "outputs": [],
   "source": [
    "# And this fully creates the data that will be merged into the end\n",
    "null_df = pd.DataFrame(null_lic, columns={'license_number'})\n",
    "null_df = null_df.merge(old_main)\n",
    "null_df = null_df.merge(old_rolls)\n",
    "null_df = null_df.merge(old_contact)\n",
    "null_df['is_current'] = 0\n",
    "null_df.head()"
   ]
  },
  {
   "cell_type": "code",
   "execution_count": null,
   "metadata": {},
   "outputs": [],
   "source": []
  },
  {
   "cell_type": "code",
   "execution_count": null,
   "metadata": {},
   "outputs": [],
   "source": [
    "# And this adds the new data to the end of the combindexd_data\n",
    "combined_data = combined_data.append(null_df).sort_values(by='name_dba').reset_index().drop(columns={'index'})"
   ]
  },
  {
   "cell_type": "code",
   "execution_count": null,
   "metadata": {},
   "outputs": [],
   "source": []
  },
  {
   "cell_type": "code",
   "execution_count": null,
   "metadata": {},
   "outputs": [],
   "source": []
  },
  {
   "cell_type": "code",
   "execution_count": null,
   "metadata": {},
   "outputs": [],
   "source": [
    "# And a quick cleaning before sending this to excel\n",
    "combined_data = combined_data.reset_index().drop(columns='index')\n",
    "combined_data = combined_data.replace('nan', '').sort_values('name_legal')\n",
    "combined_data.head()"
   ]
  },
  {
   "cell_type": "code",
   "execution_count": null,
   "metadata": {},
   "outputs": [],
   "source": []
  },
  {
   "cell_type": "code",
   "execution_count": null,
   "metadata": {},
   "outputs": [],
   "source": [
    "combined_data[['license_number', 'license_status']].to_csv('add_lic.csv')"
   ]
  },
  {
   "cell_type": "code",
   "execution_count": null,
   "metadata": {},
   "outputs": [],
   "source": [
    "combined_data[combined_data['license_number'].str.contains('284-')]"
   ]
  },
  {
   "cell_type": "code",
   "execution_count": null,
   "metadata": {},
   "outputs": [],
   "source": [
    "combined_data[combined_data['name_legal'].str.contains('Trini')]"
   ]
  },
  {
   "cell_type": "code",
   "execution_count": null,
   "metadata": {},
   "outputs": [],
   "source": []
  },
  {
   "cell_type": "code",
   "execution_count": null,
   "metadata": {},
   "outputs": [],
   "source": []
  },
  {
   "cell_type": "markdown",
   "metadata": {},
   "source": [
    "### To CSV for Editing"
   ]
  },
  {
   "cell_type": "code",
   "execution_count": null,
   "metadata": {},
   "outputs": [],
   "source": [
    "combined_data.to_excel(f'edited_files/df_{this_year}_{this_month}_{this_day}_to_edit.xlsx', index=False)"
   ]
  },
  {
   "cell_type": "code",
   "execution_count": null,
   "metadata": {},
   "outputs": [],
   "source": []
  },
  {
   "cell_type": "markdown",
   "metadata": {},
   "source": [
    "#### Make Changes, Then Read Back In"
   ]
  },
  {
   "cell_type": "code",
   "execution_count": null,
   "metadata": {},
   "outputs": [],
   "source": [
    "if pd.read_excel(f'edited_files/df_{this_year}_{this_month}_{this_day}_to_edit.xlsx')['company_roll_up'].isnull().sum() == 0:\n",
    "    df_edited = pd.read_excel(f'edited_files/df_{this_year}_{this_month}_{this_day}_to_edit.xlsx')\n",
    "else:\n",
    "    print(error)"
   ]
  },
  {
   "cell_type": "code",
   "execution_count": null,
   "metadata": {},
   "outputs": [],
   "source": [
    "df_edited.head()"
   ]
  },
  {
   "cell_type": "code",
   "execution_count": null,
   "metadata": {},
   "outputs": [],
   "source": []
  },
  {
   "cell_type": "code",
   "execution_count": null,
   "metadata": {},
   "outputs": [],
   "source": []
  },
  {
   "cell_type": "code",
   "execution_count": null,
   "metadata": {},
   "outputs": [],
   "source": []
  },
  {
   "cell_type": "code",
   "execution_count": null,
   "metadata": {},
   "outputs": [],
   "source": []
  },
  {
   "cell_type": "markdown",
   "metadata": {},
   "source": [
    "### Roll Up Id"
   ]
  },
  {
   "cell_type": "code",
   "execution_count": null,
   "metadata": {},
   "outputs": [],
   "source": []
  },
  {
   "cell_type": "code",
   "execution_count": null,
   "metadata": {},
   "outputs": [],
   "source": [
    "df_edited_null = df_edited[df_edited['roll_up_id'].isnull()]\n",
    "df_edited_fill = df_edited[df_edited['roll_up_id'].notnull()]"
   ]
  },
  {
   "cell_type": "code",
   "execution_count": null,
   "metadata": {},
   "outputs": [],
   "source": []
  },
  {
   "cell_type": "code",
   "execution_count": null,
   "metadata": {},
   "outputs": [],
   "source": [
    "# This helps fix some later code\n",
    "df_edited_null = df_edited_null.reset_index().drop(columns={'index'})"
   ]
  },
  {
   "cell_type": "code",
   "execution_count": null,
   "metadata": {},
   "outputs": [],
   "source": []
  },
  {
   "cell_type": "code",
   "execution_count": null,
   "metadata": {},
   "outputs": [],
   "source": [
    "# This creates a list of unique company roll up for companies without roll up ids and another for roll up ids to match to them\n",
    "comp_roll_list = list(df_edited_null[df_edited_null['roll_up_id'].isnull()]['company_roll_up'].unique())\n",
    "roll_id_list = []"
   ]
  },
  {
   "cell_type": "code",
   "execution_count": null,
   "metadata": {},
   "outputs": [],
   "source": [
    "# This sets the max roll up id to a numerical value for adding more ids\n",
    "if len(df_edited_fill['roll_up_id']) == 0:\n",
    "    max_roll = 0\n",
    "else:\n",
    "    max_roll = max(df_edited_fill['roll_up_id'].str[3:].astype(int))"
   ]
  },
  {
   "cell_type": "code",
   "execution_count": null,
   "metadata": {},
   "outputs": [],
   "source": [
    "# This adds roll_up_ids to the list for each new company_roll_up\n",
    "for comp in comp_roll_list:\n",
    "    max_roll += 1\n",
    "    new_roll = str(max_roll)\n",
    "    while len(new_roll) < 5:\n",
    "        new_roll = '0' + new_roll\n",
    "    new_roll = 'IL-' + new_roll\n",
    "    roll_id_list.append(new_roll)"
   ]
  },
  {
   "cell_type": "code",
   "execution_count": null,
   "metadata": {},
   "outputs": [],
   "source": [
    "# This creates a dicitonary of the new company_roll_ups and the matching roll_up_ids\n",
    "roll_dict = {}\n",
    "for n in range(len(roll_id_list)):\n",
    "    new_roll = {list(df_edited_null['company_roll_up'].unique())[n]:roll_id_list[n]}\n",
    "    roll_dict.update(new_roll)"
   ]
  },
  {
   "cell_type": "code",
   "execution_count": null,
   "metadata": {},
   "outputs": [],
   "source": [
    "list(df_edited_null['company_roll_up'].unique())"
   ]
  },
  {
   "cell_type": "code",
   "execution_count": null,
   "metadata": {},
   "outputs": [],
   "source": [
    "roll_id_list"
   ]
  },
  {
   "cell_type": "code",
   "execution_count": null,
   "metadata": {},
   "outputs": [],
   "source": [
    "roll_dict"
   ]
  },
  {
   "cell_type": "code",
   "execution_count": null,
   "metadata": {},
   "outputs": [],
   "source": []
  },
  {
   "cell_type": "code",
   "execution_count": null,
   "metadata": {
    "scrolled": true
   },
   "outputs": [],
   "source": [
    "# And then we just use the dictionary to add roll_up_ids to the DataFrame\n",
    "for n in range(len(df_edited_null)):\n",
    "    df_edited_null['roll_up_id'][n] = roll_dict[df_edited_null['company_roll_up'][n]]"
   ]
  },
  {
   "cell_type": "code",
   "execution_count": null,
   "metadata": {},
   "outputs": [],
   "source": []
  },
  {
   "cell_type": "code",
   "execution_count": null,
   "metadata": {},
   "outputs": [],
   "source": [
    "df_edited_null"
   ]
  },
  {
   "cell_type": "code",
   "execution_count": null,
   "metadata": {},
   "outputs": [],
   "source": []
  },
  {
   "cell_type": "code",
   "execution_count": null,
   "metadata": {},
   "outputs": [],
   "source": []
  },
  {
   "cell_type": "code",
   "execution_count": null,
   "metadata": {},
   "outputs": [],
   "source": [
    "# And now let's toss these two DataFrames back togther\n",
    "df_edited_all = df_edited_fill.append(df_edited_null).reset_index().drop(columns={'index'})"
   ]
  },
  {
   "cell_type": "code",
   "execution_count": null,
   "metadata": {},
   "outputs": [],
   "source": []
  },
  {
   "cell_type": "code",
   "execution_count": null,
   "metadata": {},
   "outputs": [],
   "source": [
    "df_edited_all.head()"
   ]
  },
  {
   "cell_type": "code",
   "execution_count": null,
   "metadata": {},
   "outputs": [],
   "source": []
  },
  {
   "cell_type": "markdown",
   "metadata": {},
   "source": [
    "### Create the main_alter DataFrame"
   ]
  },
  {
   "cell_type": "code",
   "execution_count": null,
   "metadata": {},
   "outputs": [],
   "source": [
    "# Let's narrow this with to the main columns\n",
    "df_for_alter = pd.DataFrame(list(old_main.license_number.unique()), columns={'license_number'})\n",
    "df_for_alter = df_for_alter.merge(df_edited_all[list(old_main.columns)])"
   ]
  },
  {
   "cell_type": "code",
   "execution_count": null,
   "metadata": {},
   "outputs": [],
   "source": [
    "# This narrows it down to all of the licenses with changes\n",
    "for_alter = []\n",
    "for lic in old_main.license_number:\n",
    "    if old_main[old_main['license_number'] == lic]['license_description'].item() != df_for_alter[df_for_alter['license_number'] == lic]['license_description'].item():\n",
    "        for_alter.append(lic)\n",
    "    elif old_main[old_main['license_number'] == lic]['name_legal'].item() != df_for_alter[df_for_alter['license_number'] == lic]['name_legal'].item():\n",
    "        for_alter.append(lic)\n",
    "    elif old_main[old_main['license_number'] == lic]['name_dba'].item() != df_for_alter[df_for_alter['license_number'] == lic]['name_dba'].item():\n",
    "        for_alter.append(lic)\n",
    "    elif old_main[old_main['license_number'] == lic]['medical'].item() != df_for_alter[df_for_alter['license_number'] == lic]['medical'].item():\n",
    "        for_alter.append(lic)\n",
    "    elif old_main[old_main['license_number'] == lic]['is_current'].item() != df_for_alter[df_for_alter['license_number'] == lic]['is_current'].item():\n",
    "        for_alter.append(lic)"
   ]
  },
  {
   "cell_type": "code",
   "execution_count": null,
   "metadata": {},
   "outputs": [],
   "source": [
    "# And this creates the final DataFrame\n",
    "df_main_alter = pd.DataFrame(for_alter, columns={'license_number'})\n",
    "df_main_alter = df_main_alter.merge(df_for_alter)"
   ]
  },
  {
   "cell_type": "code",
   "execution_count": null,
   "metadata": {},
   "outputs": [],
   "source": [
    "# And now we send it to a Excel\n",
    "# df_main_alter.to_excel(f'edited_files/main_alter_{this_year}_{this_month}_{this_day}.xlsx', sheet_name='il_main_alter', index=False)\n",
    "\n",
    "# Trying to change the tactic here\n",
    "df_main_alter.to_sql('il_main_alter', con=engine_con, if_exists='replace', index=False)"
   ]
  },
  {
   "cell_type": "code",
   "execution_count": null,
   "metadata": {},
   "outputs": [],
   "source": []
  },
  {
   "cell_type": "code",
   "execution_count": null,
   "metadata": {},
   "outputs": [],
   "source": [
    "old_main.head()"
   ]
  },
  {
   "cell_type": "code",
   "execution_count": null,
   "metadata": {},
   "outputs": [],
   "source": [
    "print(stop)"
   ]
  },
  {
   "cell_type": "code",
   "execution_count": null,
   "metadata": {},
   "outputs": [],
   "source": []
  },
  {
   "cell_type": "code",
   "execution_count": null,
   "metadata": {},
   "outputs": [],
   "source": []
  },
  {
   "cell_type": "markdown",
   "metadata": {},
   "source": [
    "### Seperate for SQL"
   ]
  },
  {
   "cell_type": "code",
   "execution_count": null,
   "metadata": {},
   "outputs": [],
   "source": []
  },
  {
   "cell_type": "code",
   "execution_count": null,
   "metadata": {},
   "outputs": [],
   "source": [
    "# This seperates out the new stuff\n",
    "list_of_old_lic = list(old_rolls['license_number'].unique())\n",
    "list_of_all_lic = list(df_edited_all['license_number'].unique())\n",
    "list_of_new_lic = []\n",
    "for lic in list_of_all_lic:\n",
    "    if lic not in list_of_old_lic:\n",
    "        list_of_new_lic.append(lic)"
   ]
  },
  {
   "cell_type": "code",
   "execution_count": null,
   "metadata": {},
   "outputs": [],
   "source": [
    "# And now we just make a DataFrame out of it\n",
    "new_rolls_df = pd.DataFrame(list_of_new_lic, columns=['license_number'])\n",
    "new_rolls_df = new_rolls_df.merge(df_edited_all)"
   ]
  },
  {
   "cell_type": "code",
   "execution_count": null,
   "metadata": {},
   "outputs": [],
   "source": []
  },
  {
   "cell_type": "code",
   "execution_count": null,
   "metadata": {},
   "outputs": [],
   "source": []
  },
  {
   "cell_type": "code",
   "execution_count": null,
   "metadata": {},
   "outputs": [],
   "source": []
  },
  {
   "cell_type": "code",
   "execution_count": null,
   "metadata": {},
   "outputs": [],
   "source": [
    "new_rolls_df"
   ]
  },
  {
   "cell_type": "code",
   "execution_count": null,
   "metadata": {},
   "outputs": [],
   "source": []
  },
  {
   "cell_type": "code",
   "execution_count": null,
   "metadata": {},
   "outputs": [],
   "source": [
    "new_rolls_df = new_rolls_df[new_rolls_df['license_number'] != 'DOPODOPO']\n",
    "new_rolls_df"
   ]
  },
  {
   "cell_type": "code",
   "execution_count": null,
   "metadata": {},
   "outputs": [],
   "source": []
  },
  {
   "cell_type": "code",
   "execution_count": null,
   "metadata": {},
   "outputs": [],
   "source": []
  },
  {
   "cell_type": "code",
   "execution_count": null,
   "metadata": {},
   "outputs": [],
   "source": [
    "# This creates the three needed dataframes so that the \n",
    "df_il_main = new_rolls_df[['license_number', 'license_description', 'name_legal', 'name_dba', 'medical', 'date_issued', 'is_current', 'date_uploaded']]\n",
    "df_il_contact = new_rolls_df[['license_number', 'contact_phone', 'contact_address', 'contact_zip', 'contact_state']]\n",
    "df_il_roll = new_rolls_df[['license_number', 'company_roll_up', 'roll_up_id']]"
   ]
  },
  {
   "cell_type": "code",
   "execution_count": null,
   "metadata": {},
   "outputs": [],
   "source": []
  },
  {
   "cell_type": "code",
   "execution_count": null,
   "metadata": {},
   "outputs": [],
   "source": [
    "# I'll move this, but this clears out the bad phone numbers\n",
    "for n in range(len(df_il_contact)):\n",
    "    if 'TBD' in str(df_il_contact.contact_phone[n]):\n",
    "        df_il_contact.contact_phone[n] = 0"
   ]
  },
  {
   "cell_type": "code",
   "execution_count": null,
   "metadata": {},
   "outputs": [],
   "source": []
  },
  {
   "cell_type": "code",
   "execution_count": null,
   "metadata": {},
   "outputs": [],
   "source": []
  },
  {
   "cell_type": "code",
   "execution_count": null,
   "metadata": {},
   "outputs": [],
   "source": [
    "# If this won't run, double check both and fix them\n",
    "# df_il_contact.contact_phone = df_il_contact.contact_phone.astype(np.int64)\n",
    "# df_il_contact.contact_zip = df_il_contact.contact_zip.astype(np.int64)"
   ]
  },
  {
   "cell_type": "code",
   "execution_count": null,
   "metadata": {},
   "outputs": [],
   "source": []
  },
  {
   "cell_type": "code",
   "execution_count": null,
   "metadata": {},
   "outputs": [],
   "source": [
    "df_il_main.sort_values(by='date_issued')"
   ]
  },
  {
   "cell_type": "code",
   "execution_count": null,
   "metadata": {},
   "outputs": [],
   "source": []
  },
  {
   "cell_type": "code",
   "execution_count": null,
   "metadata": {},
   "outputs": [],
   "source": []
  },
  {
   "cell_type": "code",
   "execution_count": null,
   "metadata": {
    "scrolled": true
   },
   "outputs": [],
   "source": [
    "print(stop)"
   ]
  },
  {
   "cell_type": "code",
   "execution_count": null,
   "metadata": {},
   "outputs": [],
   "source": []
  },
  {
   "cell_type": "code",
   "execution_count": null,
   "metadata": {},
   "outputs": [],
   "source": [
    "df_il_roll.to_sql('il_roll', con=engine_con, if_exists='append', index=False)"
   ]
  },
  {
   "cell_type": "code",
   "execution_count": null,
   "metadata": {},
   "outputs": [],
   "source": [
    "df_il_main.to_sql('il_main', con=engine_con, if_exists='append', index=False)"
   ]
  },
  {
   "cell_type": "code",
   "execution_count": null,
   "metadata": {},
   "outputs": [],
   "source": [
    "df_il_contact.to_sql('il_contact', con=engine_con, if_exists='append', index=False)"
   ]
  },
  {
   "cell_type": "code",
   "execution_count": null,
   "metadata": {},
   "outputs": [],
   "source": []
  },
  {
   "cell_type": "code",
   "execution_count": null,
   "metadata": {},
   "outputs": [],
   "source": []
  }
 ],
 "metadata": {
  "kernelspec": {
   "display_name": "Python 3",
   "language": "python",
   "name": "python3"
  },
  "language_info": {
   "codemirror_mode": {
    "name": "ipython",
    "version": 3
   },
   "file_extension": ".py",
   "mimetype": "text/x-python",
   "name": "python",
   "nbconvert_exporter": "python",
   "pygments_lexer": "ipython3",
   "version": "3.7.3"
  }
 },
 "nbformat": 4,
 "nbformat_minor": 2
}
