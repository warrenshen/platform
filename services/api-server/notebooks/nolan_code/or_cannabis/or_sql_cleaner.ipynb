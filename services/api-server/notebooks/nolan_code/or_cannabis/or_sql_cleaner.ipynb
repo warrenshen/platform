{
 "cells": [
  {
   "cell_type": "code",
   "execution_count": null,
   "metadata": {},
   "outputs": [],
   "source": [
    "import pandas as pd\n",
    "import numpy as np\n",
    "import datetime as dt\n",
    "import sys\n",
    "from sqlalchemy import create_engine\n",
    "import urllib\n",
    "import pyodbc\n",
    "import requests\n",
    "from time import sleep"
   ]
  },
  {
   "cell_type": "code",
   "execution_count": null,
   "metadata": {},
   "outputs": [],
   "source": [
    "# https://www.oregon.gov/olcc/marijuana/Pages/Recreational-Marijuana-Licensing.aspx"
   ]
  },
  {
   "cell_type": "code",
   "execution_count": null,
   "metadata": {},
   "outputs": [],
   "source": [
    "# Just so I see the whole DataFrame\n",
    "pd.options.display.max_columns = 100\n",
    "pd.options.display.min_rows = 100\n",
    "pd.options.display.max_rows = 100"
   ]
  },
  {
   "cell_type": "code",
   "execution_count": null,
   "metadata": {},
   "outputs": [],
   "source": [
    "# Creating a dt file of today's date\n",
    "today = dt.date(2021, 9, 20)"
   ]
  },
  {
   "cell_type": "code",
   "execution_count": null,
   "metadata": {},
   "outputs": [],
   "source": [
    "# This creates the 2 digit versions of the day, month, and year that will be used in file names\n",
    "today_day = today.strftime(\"%d\")\n",
    "today_month = today.strftime(\"%m\")\n",
    "today_year = today.strftime(\"%Y\")"
   ]
  },
  {
   "cell_type": "code",
   "execution_count": null,
   "metadata": {},
   "outputs": [],
   "source": []
  },
  {
   "cell_type": "markdown",
   "metadata": {},
   "source": [
    "### Creating SQL Connection"
   ]
  },
  {
   "cell_type": "code",
   "execution_count": null,
   "metadata": {},
   "outputs": [],
   "source": []
  },
  {
   "cell_type": "code",
   "execution_count": null,
   "metadata": {},
   "outputs": [],
   "source": [
    "# # This creates the connection to my local Oregon Cannabis files in SQL\n",
    "# driver = \"ODBC Driver 17 for SQL Server\"\n",
    "# engine = create_engine(f'mssql://LAPTOP-E6QKON1L/or_cannabis?driver={driver}')\n",
    "# engine_con = engine.connect()"
   ]
  },
  {
   "cell_type": "code",
   "execution_count": null,
   "metadata": {},
   "outputs": [],
   "source": [
    "# This creates the connection to the Bespoke Engine's Oregon Cannabis files in SQL\n",
    "params = urllib.parse.quote_plus(\"DRIVER={ODBC Driver 17 for SQL Server};\"\n",
    "                                 \"SERVER=bespoke-database-1.cmevrozrcs7c.us-west-2.rds.amazonaws.com;\"\n",
    "                                 \"DATABASE=or_cannabis;\"\n",
    "                                 \"UID=admin;\"\n",
    "                                 \"PWD=N19lrqxnurTUJLJT6GFe\")\n",
    "engine = create_engine(\"mssql+pyodbc:///?odbc_connect={}\".format(params))\n",
    "engine_con = engine.connect()"
   ]
  },
  {
   "cell_type": "code",
   "execution_count": null,
   "metadata": {},
   "outputs": [],
   "source": []
  },
  {
   "cell_type": "markdown",
   "metadata": {},
   "source": [
    "## Read in Data"
   ]
  },
  {
   "cell_type": "code",
   "execution_count": null,
   "metadata": {},
   "outputs": [],
   "source": [
    "# This reads in the data provided by https://www.oregon.gov/olcc/marijuana/Pages/Recreational-Marijuana-Licensing.aspx\n",
    "all_licenses = pd.read_excel(f\"license_repository/{today.year}_{today_month}_{today_day} Licenses.xlsx\", header=2)"
   ]
  },
  {
   "cell_type": "code",
   "execution_count": null,
   "metadata": {},
   "outputs": [],
   "source": [
    "# Couldn't use license number because of something that appeared at the bottom after a few nulls\n",
    "all_licenses = all_licenses[all_licenses['LICENSEE NAME'].notnull()]"
   ]
  },
  {
   "cell_type": "code",
   "execution_count": null,
   "metadata": {},
   "outputs": [],
   "source": [
    "# This changes the yes/nul columns to binary\n",
    "all_licenses[['Retail Delivery', 'Medical Grade', 'Hemp']] = all_licenses[['Retail Delivery', 'Medical Grade', 'Hemp']].replace('Yes', 1).replace(np.nan, 0).astype(int)"
   ]
  },
  {
   "cell_type": "code",
   "execution_count": null,
   "metadata": {},
   "outputs": [],
   "source": [
    "all_licenses.head()"
   ]
  },
  {
   "cell_type": "code",
   "execution_count": null,
   "metadata": {},
   "outputs": [],
   "source": []
  },
  {
   "cell_type": "code",
   "execution_count": null,
   "metadata": {},
   "outputs": [],
   "source": []
  },
  {
   "cell_type": "markdown",
   "metadata": {},
   "source": [
    "### Data Cleaning"
   ]
  },
  {
   "cell_type": "code",
   "execution_count": null,
   "metadata": {},
   "outputs": [],
   "source": []
  },
  {
   "cell_type": "code",
   "execution_count": null,
   "metadata": {},
   "outputs": [],
   "source": [
    "# This cleans the spaces from the beggining and end of names and such\n",
    "\n",
    "all_licenses['LICENSEE NAME'] = all_licenses['LICENSEE NAME'].str.strip()\n",
    "all_licenses['BUSINESS NAME'] = all_licenses['BUSINESS NAME'].str.strip()\n",
    "all_licenses['LICENSE NUMBER'] = all_licenses['LICENSE NUMBER'].str.strip().str.replace(' ', '-')"
   ]
  },
  {
   "cell_type": "code",
   "execution_count": null,
   "metadata": {},
   "outputs": [],
   "source": []
  },
  {
   "cell_type": "markdown",
   "metadata": {},
   "source": [
    "### Rename Data"
   ]
  },
  {
   "cell_type": "code",
   "execution_count": null,
   "metadata": {},
   "outputs": [],
   "source": [
    "renamed_data = pd.DataFrame(data=all_licenses['LICENSE NUMBER'].rename('license_number'))\n",
    "\n",
    "renamed_data['license_description'] = all_licenses['LICENSE TYPE']\n",
    "\n",
    "renamed_data['name_legal'] = all_licenses['LICENSEE NAME']\n",
    "renamed_data['name_dba'] = all_licenses['BUSINESS NAME']\n",
    "\n",
    "renamed_data['contact_county'] = all_licenses['COUNTY']\n",
    "renamed_data['contact_state'] = 'OR'\n",
    "\n",
    "renamed_data['license_type_retail_delivery'] = all_licenses['Retail Delivery']\n",
    "renamed_data['license_type_medical_grade'] = all_licenses['Medical Grade']\n",
    "renamed_data['license_type_hemp'] = all_licenses['Hemp']\n",
    "\n",
    "renamed_data['is_current'] = 1\n",
    "\n",
    "renamed_data['date_uploaded'] = today"
   ]
  },
  {
   "cell_type": "code",
   "execution_count": null,
   "metadata": {},
   "outputs": [],
   "source": []
  },
  {
   "cell_type": "code",
   "execution_count": null,
   "metadata": {},
   "outputs": [],
   "source": [
    "renamed_data"
   ]
  },
  {
   "cell_type": "code",
   "execution_count": null,
   "metadata": {},
   "outputs": [],
   "source": []
  },
  {
   "cell_type": "code",
   "execution_count": null,
   "metadata": {},
   "outputs": [],
   "source": []
  },
  {
   "cell_type": "code",
   "execution_count": null,
   "metadata": {},
   "outputs": [],
   "source": []
  },
  {
   "cell_type": "code",
   "execution_count": null,
   "metadata": {},
   "outputs": [],
   "source": [
    "pd.read_sql('or_main', con=engine_con)"
   ]
  },
  {
   "cell_type": "code",
   "execution_count": null,
   "metadata": {},
   "outputs": [],
   "source": []
  },
  {
   "cell_type": "code",
   "execution_count": null,
   "metadata": {},
   "outputs": [],
   "source": []
  },
  {
   "cell_type": "markdown",
   "metadata": {},
   "source": [
    "### Merging Info From SQL"
   ]
  },
  {
   "cell_type": "code",
   "execution_count": null,
   "metadata": {},
   "outputs": [],
   "source": []
  },
  {
   "cell_type": "code",
   "execution_count": null,
   "metadata": {},
   "outputs": [],
   "source": [
    "# This reads in the databases so that can be merged\n",
    "sql_old_main = pd.read_sql('or_main', con=engine_con)\n",
    "sql_old_roll = pd.read_sql('or_roll', con=engine_con)\n",
    "sql_old_contact = pd.read_sql('or_contact', con=engine_con)"
   ]
  },
  {
   "cell_type": "code",
   "execution_count": null,
   "metadata": {},
   "outputs": [],
   "source": []
  },
  {
   "cell_type": "code",
   "execution_count": null,
   "metadata": {},
   "outputs": [],
   "source": [
    "# This merges in the roll up information for companies that have already been given company roll_ups and roll_up_ids\n",
    "df_with_roll = renamed_data.merge(sql_old_roll, how='left')"
   ]
  },
  {
   "cell_type": "code",
   "execution_count": null,
   "metadata": {},
   "outputs": [],
   "source": [
    "# This merges in the contact information for companies from SQL\n",
    "df_with_contact = df_with_roll.merge(sql_old_contact, how='left')"
   ]
  },
  {
   "cell_type": "code",
   "execution_count": null,
   "metadata": {},
   "outputs": [],
   "source": []
  },
  {
   "cell_type": "code",
   "execution_count": null,
   "metadata": {},
   "outputs": [],
   "source": [
    "# This will be fiddled with in the long run, but will create the csv for company_roll_ups to be added to the first time\n",
    "df_for_csv = df_with_contact[[\n",
    "              'license_number', 'license_description', 'name_legal', 'name_dba', 'roll_up_id', 'company_roll_up',\n",
    "              'contact_email', 'contact_website', 'contact_phone', 'contact_county', 'contact_state',\n",
    "              'license_type_retail_delivery', 'license_type_medical_grade', 'license_type_hemp', 'is_current', 'date_uploaded'\n",
    "                            ]]"
   ]
  },
  {
   "cell_type": "code",
   "execution_count": null,
   "metadata": {},
   "outputs": [],
   "source": []
  },
  {
   "cell_type": "code",
   "execution_count": null,
   "metadata": {},
   "outputs": [],
   "source": [
    "# This drops the Nones from the contact info columns\n",
    "df_for_csv[['contact_email', 'contact_website', 'contact_phone']] = df_for_csv[['contact_email', 'contact_website', 'contact_phone']].fillna('')"
   ]
  },
  {
   "cell_type": "code",
   "execution_count": null,
   "metadata": {},
   "outputs": [],
   "source": [
    "df_for_csv['is_current'].value_counts()"
   ]
  },
  {
   "cell_type": "code",
   "execution_count": null,
   "metadata": {},
   "outputs": [],
   "source": []
  },
  {
   "cell_type": "code",
   "execution_count": null,
   "metadata": {},
   "outputs": [],
   "source": []
  },
  {
   "cell_type": "code",
   "execution_count": null,
   "metadata": {},
   "outputs": [],
   "source": []
  },
  {
   "cell_type": "markdown",
   "metadata": {},
   "source": [
    "### Create CSV to Add Company Roll Up"
   ]
  },
  {
   "cell_type": "code",
   "execution_count": null,
   "metadata": {},
   "outputs": [],
   "source": [
    "df_for_csv.sort_values(by='name_dba', inplace=True)"
   ]
  },
  {
   "cell_type": "code",
   "execution_count": null,
   "metadata": {},
   "outputs": [],
   "source": [
    "df_for_csv.to_csv(f\"edited_files/df_{today_year}_{today_month}_{today_day}_to_edit.csv\", index=False)"
   ]
  },
  {
   "cell_type": "code",
   "execution_count": null,
   "metadata": {},
   "outputs": [],
   "source": []
  },
  {
   "cell_type": "markdown",
   "metadata": {},
   "source": [
    "#### Add company_roll_ups Where Needed then Read Back In"
   ]
  },
  {
   "cell_type": "code",
   "execution_count": null,
   "metadata": {},
   "outputs": [],
   "source": []
  },
  {
   "cell_type": "code",
   "execution_count": null,
   "metadata": {},
   "outputs": [],
   "source": [
    "# This reads the file back in after checking that no company_roll_ups were missed\n",
    "# Switch to f\"edited_files/df_to_edit_{today_month}_{today_day}_{today_year}.csv\" after SQL is done\n",
    "\n",
    "if pd.read_csv(f\"edited_files/df_{today_year}_{today_month}_{today_day}_to_edit.csv\")['company_roll_up'].isnull().sum() > 0:\n",
    "    print(error)\n",
    "else:\n",
    "    df_edited = pd.read_csv(f\"edited_files/df_{today_year}_{today_month}_{today_day}_to_edit.csv\")"
   ]
  },
  {
   "cell_type": "code",
   "execution_count": null,
   "metadata": {},
   "outputs": [],
   "source": [
    "df_edited.head(3)"
   ]
  },
  {
   "cell_type": "code",
   "execution_count": null,
   "metadata": {},
   "outputs": [],
   "source": []
  },
  {
   "cell_type": "code",
   "execution_count": null,
   "metadata": {},
   "outputs": [],
   "source": []
  },
  {
   "cell_type": "code",
   "execution_count": null,
   "metadata": {},
   "outputs": [],
   "source": []
  },
  {
   "cell_type": "markdown",
   "metadata": {},
   "source": [
    "### Contact Info"
   ]
  },
  {
   "cell_type": "code",
   "execution_count": null,
   "metadata": {},
   "outputs": [],
   "source": [
    "# Since I'm trying to add the contact info through Excel, I'll clean it here before continuing"
   ]
  },
  {
   "cell_type": "code",
   "execution_count": null,
   "metadata": {},
   "outputs": [],
   "source": []
  },
  {
   "cell_type": "code",
   "execution_count": null,
   "metadata": {},
   "outputs": [],
   "source": [
    "df_contact_edit = df_edited"
   ]
  },
  {
   "cell_type": "code",
   "execution_count": null,
   "metadata": {},
   "outputs": [],
   "source": [
    "# This cleans the contact_phone section\n",
    "\n",
    "df_contact_edit['contact_phone'] = df_contact_edit['contact_phone'].astype(str).replace('tel','')\n",
    "df_contact_edit['contact_phone'] = df_contact_edit['contact_phone'].astype(str).replace('-','')\n",
    "df_contact_edit['contact_phone'] = df_contact_edit['contact_phone'].astype(str).replace('+','')\n",
    "df_contact_edit['contact_phone'] = df_contact_edit['contact_phone'].astype(str).replace('.','')\n",
    "df_contact_edit['contact_phone'] = df_contact_edit['contact_phone'].astype(str).replace('?','')\n",
    "df_contact_edit['contact_phone'] = df_contact_edit['contact_phone'].astype(str).replace('!','')\n",
    "df_contact_edit['contact_phone'] = df_contact_edit['contact_phone'].astype(str).replace(':','')\n",
    "df_contact_edit['contact_phone'] = df_contact_edit['contact_phone'].astype(str).replace('(','')\n",
    "df_contact_edit['contact_phone'] = df_contact_edit['contact_phone'].astype(str).replace(')','')\n",
    "df_contact_edit['contact_phone'] = df_contact_edit['contact_phone'].astype(str).replace('\\n','')\n",
    "df_contact_edit['contact_phone'] = df_contact_edit['contact_phone'].astype(str).replace(' ','')"
   ]
  },
  {
   "cell_type": "code",
   "execution_count": null,
   "metadata": {},
   "outputs": [],
   "source": [
    "# Writing code for this would take ot long, so just gonna replace it manually\n",
    "df_contact_edit['contact_phone'] = df_contact_edit['contact_phone'].str.replace('1833RIPWEED', '18337479333')\n",
    "df_contact_edit['contact_phone'] = df_contact_edit['contact_phone'].str.replace('35385219753', '')"
   ]
  },
  {
   "cell_type": "code",
   "execution_count": null,
   "metadata": {},
   "outputs": [],
   "source": []
  },
  {
   "cell_type": "code",
   "execution_count": null,
   "metadata": {},
   "outputs": [],
   "source": [
    "# This will enable a little bit more cleaning of each\n",
    "\n",
    "all_phones = list(df_contact_edit['contact_phone'])\n",
    "all_emails = list(df_contact_edit['contact_email'])\n",
    "all_websites = list(df_contact_edit['contact_website'])"
   ]
  },
  {
   "cell_type": "code",
   "execution_count": null,
   "metadata": {},
   "outputs": [],
   "source": []
  },
  {
   "cell_type": "code",
   "execution_count": null,
   "metadata": {},
   "outputs": [],
   "source": [
    "# This drops all of the phone numbers that are too short to be phone numbers\n",
    "\n",
    "for x in range(len(all_phones)):\n",
    "    if len(str(all_phones[x])) < 10:\n",
    "        all_phones[x] = ''"
   ]
  },
  {
   "cell_type": "code",
   "execution_count": null,
   "metadata": {},
   "outputs": [],
   "source": [
    "# This drops all of the phone numbers that are too long to be phone numbers\n",
    "\n",
    "for x in range(len(all_phones)):\n",
    "    if len(str(all_phones[x])) > 11:\n",
    "        all_phones[x] = ''"
   ]
  },
  {
   "cell_type": "code",
   "execution_count": null,
   "metadata": {},
   "outputs": [],
   "source": []
  },
  {
   "cell_type": "code",
   "execution_count": null,
   "metadata": {},
   "outputs": [],
   "source": [
    "# This drops all of the instragram accounts and other non-email methods of contact\n",
    "\n",
    "for x in range(len(all_emails)):\n",
    "    if '@' not in str(all_emails[x]):\n",
    "        all_emails[x] = ''"
   ]
  },
  {
   "cell_type": "code",
   "execution_count": null,
   "metadata": {},
   "outputs": [],
   "source": []
  },
  {
   "cell_type": "code",
   "execution_count": null,
   "metadata": {},
   "outputs": [],
   "source": [
    "# This drops all of the instragram accounts\n",
    "\n",
    "for x in range(len(all_websites)):\n",
    "    if 'insta' in str(all_websites[x]):\n",
    "        all_websites[x] = ''"
   ]
  },
  {
   "cell_type": "code",
   "execution_count": null,
   "metadata": {},
   "outputs": [],
   "source": [
    "# This drops all of the facebook accounts\n",
    "\n",
    "for x in range(len(all_websites)):\n",
    "    if 'facebook' in str(all_websites[x]):\n",
    "        all_websites[x] = ''"
   ]
  },
  {
   "cell_type": "code",
   "execution_count": null,
   "metadata": {},
   "outputs": [],
   "source": []
  },
  {
   "cell_type": "code",
   "execution_count": null,
   "metadata": {},
   "outputs": [],
   "source": [
    "# And then we just add the edited lists back in to the dataframe\n",
    "\n",
    "df_contact_edit['contact_phone'] = all_phones\n",
    "df_contact_edit['contact_email'] = all_emails\n",
    "df_contact_edit['contact_website'] = all_websites"
   ]
  },
  {
   "cell_type": "code",
   "execution_count": null,
   "metadata": {},
   "outputs": [],
   "source": []
  },
  {
   "cell_type": "code",
   "execution_count": null,
   "metadata": {},
   "outputs": [],
   "source": [
    "# Just filling the NaNs\n",
    "\n",
    "df_contact_edit['contact_phone'] = df_contact_edit['contact_phone'].fillna('')\n",
    "df_contact_edit['contact_email'] = df_contact_edit['contact_email'].fillna('')\n",
    "df_contact_edit['contact_website'] = df_contact_edit['contact_website'].fillna('')"
   ]
  },
  {
   "cell_type": "code",
   "execution_count": null,
   "metadata": {},
   "outputs": [],
   "source": []
  },
  {
   "cell_type": "code",
   "execution_count": null,
   "metadata": {},
   "outputs": [],
   "source": [
    "df_contact_edit"
   ]
  },
  {
   "cell_type": "code",
   "execution_count": null,
   "metadata": {},
   "outputs": [],
   "source": []
  },
  {
   "cell_type": "code",
   "execution_count": null,
   "metadata": {},
   "outputs": [],
   "source": []
  },
  {
   "cell_type": "markdown",
   "metadata": {},
   "source": [
    "### Checking if Licenses Still Current"
   ]
  },
  {
   "cell_type": "code",
   "execution_count": null,
   "metadata": {},
   "outputs": [],
   "source": []
  },
  {
   "cell_type": "code",
   "execution_count": null,
   "metadata": {},
   "outputs": [],
   "source": [
    "# Idk why this turned itself back into a Boolean, but now it's numbers again\n",
    "sql_old_main['is_current'] = sql_old_main['is_current'].astype(int)"
   ]
  },
  {
   "cell_type": "code",
   "execution_count": null,
   "metadata": {},
   "outputs": [],
   "source": [
    "# This creates the lists of old and new license number\n",
    "old_lic_list = list(sql_old_main.license_number)\n",
    "new_lic_list = list(df_contact_edit.license_number)"
   ]
  },
  {
   "cell_type": "code",
   "execution_count": null,
   "metadata": {},
   "outputs": [],
   "source": [
    "# This creates the list of licenses that are no longer current\n",
    "not_current_list = []\n",
    "for lic in old_lic_list:\n",
    "    if lic not in new_lic_list:\n",
    "        not_current_list.append(lic)"
   ]
  },
  {
   "cell_type": "code",
   "execution_count": null,
   "metadata": {},
   "outputs": [],
   "source": [
    "not_current_list"
   ]
  },
  {
   "cell_type": "code",
   "execution_count": null,
   "metadata": {},
   "outputs": [],
   "source": [
    "len(sql_old_main)"
   ]
  },
  {
   "cell_type": "code",
   "execution_count": null,
   "metadata": {},
   "outputs": [],
   "source": [
    "len(df_edited)"
   ]
  },
  {
   "cell_type": "code",
   "execution_count": null,
   "metadata": {},
   "outputs": [],
   "source": [
    "sql_old_main"
   ]
  },
  {
   "cell_type": "code",
   "execution_count": null,
   "metadata": {},
   "outputs": [],
   "source": [
    "# This creates a df of the licenses that aren't current, changes the is_current to 0, and appends the df to the end of \n",
    "not_current_df = pd.DataFrame(not_current_list, columns={'license_number'})\n",
    "not_current_df = not_current_df.merge(sql_old_main, how='left').merge(sql_old_roll, how='left').merge(sql_old_contact, how='left')\n",
    "not_current_df['is_current'] = 0\n",
    "df_edited_current = df_contact_edit.append(not_current_df).sort_values(by='name_legal').reset_index().drop(columns=['index'])"
   ]
  },
  {
   "cell_type": "code",
   "execution_count": null,
   "metadata": {},
   "outputs": [],
   "source": [
    "# Just a quick check\n",
    "df_edited_current[df_edited_current['is_current'] == 0]"
   ]
  },
  {
   "cell_type": "code",
   "execution_count": null,
   "metadata": {},
   "outputs": [],
   "source": []
  },
  {
   "cell_type": "code",
   "execution_count": null,
   "metadata": {},
   "outputs": [],
   "source": [
    "df_edited_current.is_current.value_counts()"
   ]
  },
  {
   "cell_type": "code",
   "execution_count": null,
   "metadata": {},
   "outputs": [],
   "source": []
  },
  {
   "cell_type": "markdown",
   "metadata": {},
   "source": [
    "### Creating a Dataframe for Making Changes to SQL"
   ]
  },
  {
   "cell_type": "code",
   "execution_count": null,
   "metadata": {},
   "outputs": [],
   "source": []
  },
  {
   "cell_type": "code",
   "execution_count": null,
   "metadata": {},
   "outputs": [],
   "source": [
    "df_edited_current.head(3)"
   ]
  },
  {
   "cell_type": "code",
   "execution_count": null,
   "metadata": {},
   "outputs": [],
   "source": []
  },
  {
   "cell_type": "code",
   "execution_count": null,
   "metadata": {},
   "outputs": [],
   "source": [
    "sql_old_main.columns"
   ]
  },
  {
   "cell_type": "code",
   "execution_count": null,
   "metadata": {},
   "outputs": [],
   "source": [
    "to_alter = []\n",
    "\n",
    "for lic in df_edited_current['license_number']:\n",
    "    if list(df_edited_current[df_edited_current['license_number'] == lic]['license_description'])[0] != list(sql_old_main[sql_old_main['license_number'] == lic]['license_description'])[0]:\n",
    "        to_alter.append(lic)\n",
    "    elif list(df_edited_current[df_edited_current['license_number'] == lic]['license_type_retail_delivery'])[0] != list(sql_old_main[sql_old_main['license_number'] == lic]['license_type_retail_delivery'])[0]:\n",
    "        to_alter.append(lic)\n",
    "    elif list(df_edited_current[df_edited_current['license_number'] == lic]['license_type_medical_grade'])[0] != list(sql_old_main[sql_old_main['license_number'] == lic]['license_type_medical_grade'])[0]:\n",
    "        to_alter.append(lic)\n",
    "    elif list(df_edited_current[df_edited_current['license_number'] == lic]['license_type_hemp'])[0] != list(sql_old_main[sql_old_main['license_number'] == lic]['license_type_hemp'])[0]:\n",
    "        to_alter.append(lic)\n",
    "    elif list(df_edited_current[df_edited_current['license_number'] == lic]['is_current'])[0] != list(sql_old_main[sql_old_main['license_number'] == lic]['is_current'])[0]:\n",
    "        to_alter.append(lic)\n",
    "    \n",
    "df_for_alter = df_edited_current[df_edited_current['license_number'].isin(to_alter)]"
   ]
  },
  {
   "cell_type": "code",
   "execution_count": null,
   "metadata": {},
   "outputs": [],
   "source": [
    "df_for_alter.shape"
   ]
  },
  {
   "cell_type": "code",
   "execution_count": null,
   "metadata": {},
   "outputs": [],
   "source": []
  },
  {
   "cell_type": "code",
   "execution_count": null,
   "metadata": {},
   "outputs": [],
   "source": [
    "# # This creates a list of all of the license_numbers of rows that have a change in them\n",
    "\n",
    "# df_for_alter = df_edited_current\n",
    "# to_alter = []\n",
    "\n",
    "# # There's probably a cleaner way to do this, but this gets the list of all licenses where there is some change in information\n",
    "# for lic in sql_old_main['license_number']:\n",
    "#     if 'False' in str(df_for_alter[df_for_alter['license_number'] == lic][['license_number', 'name_legal', 'name_dba', 'license_description', 'license_type_retail_delivery', 'license_type_medical_grade', 'license_type_hemp', 'is_current']].values == sql_old_main[sql_old_main['license_number'] == lic][['license_number', 'name_legal', 'name_dba', 'license_description', 'license_type_retail_delivery', 'license_type_medical_grade', 'license_type_hemp', 'is_current']].values):\n",
    "#         to_alter.append(lic)\n",
    "        \n",
    "# # This may be only needed the first time\n",
    "# for x in range(len(df_for_alter)):\n",
    "#     if df_for_alter.loc[x]['is_current'] == 0:\n",
    "#         to_alter.append(df_for_alter.loc[x]['license_number'])"
   ]
  },
  {
   "cell_type": "code",
   "execution_count": null,
   "metadata": {},
   "outputs": [],
   "source": []
  },
  {
   "cell_type": "code",
   "execution_count": null,
   "metadata": {},
   "outputs": [],
   "source": [
    "df_for_alter"
   ]
  },
  {
   "cell_type": "code",
   "execution_count": null,
   "metadata": {},
   "outputs": [],
   "source": [
    "# And then we turn that list into a DataFrame\n",
    "main_alter = pd.DataFrame(list(to_alter), columns=['license_number']).merge(df_for_alter, how='left')"
   ]
  },
  {
   "cell_type": "code",
   "execution_count": null,
   "metadata": {},
   "outputs": [],
   "source": [
    "main_alter"
   ]
  },
  {
   "cell_type": "code",
   "execution_count": null,
   "metadata": {},
   "outputs": [],
   "source": []
  },
  {
   "cell_type": "code",
   "execution_count": null,
   "metadata": {},
   "outputs": [],
   "source": [
    "# And let's toss this into a csv/sql\n",
    "\n",
    "# main_alter.to_excel(f'edited_files/main_alter_{today.year}_{today_month}_{today_day}.xlsx', index=False, sheet_name='or_main_alter')\n",
    "main_alter.to_sql('or_main_alter', con=engine_con, if_exists='replace', index=False)"
   ]
  },
  {
   "cell_type": "code",
   "execution_count": null,
   "metadata": {},
   "outputs": [],
   "source": []
  },
  {
   "cell_type": "code",
   "execution_count": null,
   "metadata": {},
   "outputs": [],
   "source": []
  },
  {
   "cell_type": "markdown",
   "metadata": {},
   "source": [
    "#### Back to Cleaning the Data"
   ]
  },
  {
   "cell_type": "code",
   "execution_count": null,
   "metadata": {},
   "outputs": [],
   "source": []
  },
  {
   "cell_type": "code",
   "execution_count": null,
   "metadata": {},
   "outputs": [],
   "source": [
    "# This creates two seperate dataframes for rows needing roll_up_ids and those that don't\n",
    "\n",
    "df_edited_null = df_edited[df_edited['roll_up_id'].isnull()]\n",
    "df_edited_fill = df_edited[df_edited['roll_up_id'].notnull()]"
   ]
  },
  {
   "cell_type": "code",
   "execution_count": null,
   "metadata": {},
   "outputs": [],
   "source": []
  },
  {
   "cell_type": "code",
   "execution_count": null,
   "metadata": {},
   "outputs": [],
   "source": [
    "# This creates all the roll_up_id numbers\n",
    "\n",
    "new_comp = list(df_edited_null['company_roll_up'].unique())\n",
    "\n",
    "max_roll = df_edited_fill['roll_up_id'].map(lambda x: x.lstrip('OR-')).astype(int).max()\n",
    "# max_roll = 0 # Only for used the first time\n",
    "    \n",
    "new_roll = []\n",
    "for n in range(len(new_comp)):\n",
    "    max_roll += 1\n",
    "    new_roll.append(max_roll)\n",
    "    \n",
    "new_or_roll = []\n",
    "for num in new_roll:\n",
    "    num = str(num)\n",
    "    \n",
    "    # This should hopefully add the 0s properly\n",
    "    while len(num) < 5:\n",
    "        num = '0' + num\n",
    "        \n",
    "    new_or_roll.append(f'OR-{num}')"
   ]
  },
  {
   "cell_type": "code",
   "execution_count": null,
   "metadata": {},
   "outputs": [],
   "source": []
  },
  {
   "cell_type": "code",
   "execution_count": null,
   "metadata": {},
   "outputs": [],
   "source": [
    "df_edited_null"
   ]
  },
  {
   "cell_type": "code",
   "execution_count": null,
   "metadata": {},
   "outputs": [],
   "source": []
  },
  {
   "cell_type": "code",
   "execution_count": null,
   "metadata": {
    "scrolled": true
   },
   "outputs": [],
   "source": [
    "# This uses the two lists created above to add roll_up_ids to the matching company_roll_ups to the df_edited\n",
    "\n",
    "for n in list(df_edited_null.index):\n",
    "    df_edited_null['roll_up_id'][n] = new_or_roll[new_comp.index(df_edited_null['company_roll_up'][n])]"
   ]
  },
  {
   "cell_type": "code",
   "execution_count": null,
   "metadata": {},
   "outputs": [],
   "source": []
  },
  {
   "cell_type": "code",
   "execution_count": null,
   "metadata": {},
   "outputs": [],
   "source": [
    "df_edited_null.head(3)"
   ]
  },
  {
   "cell_type": "code",
   "execution_count": null,
   "metadata": {},
   "outputs": [],
   "source": []
  },
  {
   "cell_type": "code",
   "execution_count": null,
   "metadata": {},
   "outputs": [],
   "source": []
  },
  {
   "cell_type": "code",
   "execution_count": null,
   "metadata": {},
   "outputs": [],
   "source": [
    "# Probably more stuff will go here after the first upload"
   ]
  },
  {
   "cell_type": "code",
   "execution_count": null,
   "metadata": {},
   "outputs": [],
   "source": []
  },
  {
   "cell_type": "code",
   "execution_count": null,
   "metadata": {},
   "outputs": [],
   "source": []
  },
  {
   "cell_type": "code",
   "execution_count": null,
   "metadata": {},
   "outputs": [],
   "source": [
    "# This reattaches the two dataframes now that the roll_up_ids have been filled\n",
    "\n",
    "df_populated = df_edited_fill.append(df_edited_null)"
   ]
  },
  {
   "cell_type": "code",
   "execution_count": null,
   "metadata": {},
   "outputs": [],
   "source": []
  },
  {
   "cell_type": "code",
   "execution_count": null,
   "metadata": {},
   "outputs": [],
   "source": [
    "df_populated"
   ]
  },
  {
   "cell_type": "code",
   "execution_count": null,
   "metadata": {},
   "outputs": [],
   "source": []
  },
  {
   "cell_type": "code",
   "execution_count": null,
   "metadata": {},
   "outputs": [],
   "source": [
    "df_populated.columns"
   ]
  },
  {
   "cell_type": "code",
   "execution_count": null,
   "metadata": {},
   "outputs": [],
   "source": []
  },
  {
   "cell_type": "code",
   "execution_count": null,
   "metadata": {},
   "outputs": [],
   "source": [
    "# This is to serperate out the licenses that aren't already in the SQL database\n",
    "\n",
    "lic_df = list(df_populated['license_number'].unique())\n",
    "lic_sql = list(sql_old_roll['license_number'].unique())\n",
    "lic_new = []\n",
    "\n",
    "for lic in lic_df:\n",
    "    if lic not in lic_sql:\n",
    "        lic_new.append(lic)\n",
    "\n",
    "lic_new"
   ]
  },
  {
   "cell_type": "code",
   "execution_count": null,
   "metadata": {},
   "outputs": [],
   "source": []
  },
  {
   "cell_type": "code",
   "execution_count": null,
   "metadata": {},
   "outputs": [],
   "source": [
    "# This creates the final dataframe for sending data to SQL\n",
    "\n",
    "df_to_add = pd.DataFrame(lic_new, columns=['license_number'])\n",
    "df_to_add = df_to_add.merge(df_populated, how='left')"
   ]
  },
  {
   "cell_type": "code",
   "execution_count": null,
   "metadata": {},
   "outputs": [],
   "source": []
  },
  {
   "cell_type": "code",
   "execution_count": null,
   "metadata": {},
   "outputs": [],
   "source": [
    "# This adds the current date to the new data being added to SQL\n",
    "df_to_add['date_uploaded'] = today"
   ]
  },
  {
   "cell_type": "code",
   "execution_count": null,
   "metadata": {},
   "outputs": [],
   "source": [
    "df_to_add"
   ]
  },
  {
   "cell_type": "code",
   "execution_count": null,
   "metadata": {},
   "outputs": [],
   "source": []
  },
  {
   "cell_type": "code",
   "execution_count": null,
   "metadata": {},
   "outputs": [],
   "source": []
  },
  {
   "cell_type": "markdown",
   "metadata": {},
   "source": [
    "### Seperate Data for SQL"
   ]
  },
  {
   "cell_type": "code",
   "execution_count": null,
   "metadata": {},
   "outputs": [],
   "source": []
  },
  {
   "cell_type": "code",
   "execution_count": null,
   "metadata": {},
   "outputs": [],
   "source": [
    "# This just seperates the dataframe into the main and roll information that will be put into SQL\n",
    "\n",
    "df_or_main = df_to_add[['license_number', 'name_legal', 'name_dba', 'license_description', 'license_type_retail_delivery', 'license_type_medical_grade', 'license_type_hemp', 'is_current', 'date_uploaded']]\n",
    "\n",
    "df_or_roll = df_to_add[['license_number', 'roll_up_id', 'company_roll_up']]\n",
    "\n",
    "df_or_contact = df_to_add[['license_number', 'contact_email', 'contact_website', 'contact_phone', 'contact_county', 'contact_state']]"
   ]
  },
  {
   "cell_type": "code",
   "execution_count": null,
   "metadata": {},
   "outputs": [],
   "source": [
    "# # This turned all of the roll_up_ids into 5 digit numbers so they'll actually list in order properly\n",
    "# # Probably won't need to rerun, but might as well leave here\n",
    "# new_roll_up_id_list = []\n",
    "# for roll in list(df_or_roll.roll_up_id):\n",
    "#     roll_num = str(roll)[3:]\n",
    "#     while len(roll_num) < 5:\n",
    "#         roll_num = '0' + roll_num\n",
    "#     new_roll_up_id_list.append(str('OR-' + roll_num))"
   ]
  },
  {
   "cell_type": "code",
   "execution_count": null,
   "metadata": {},
   "outputs": [],
   "source": []
  },
  {
   "cell_type": "code",
   "execution_count": null,
   "metadata": {},
   "outputs": [],
   "source": []
  },
  {
   "cell_type": "markdown",
   "metadata": {},
   "source": [
    "### To SQL"
   ]
  },
  {
   "cell_type": "code",
   "execution_count": null,
   "metadata": {},
   "outputs": [],
   "source": [
    "df_or_roll.to_sql('or_roll', con=engine_con, if_exists='append', index=False)"
   ]
  },
  {
   "cell_type": "code",
   "execution_count": null,
   "metadata": {},
   "outputs": [],
   "source": [
    "df_or_main.to_sql('or_main', con=engine_con, if_exists='append', index=False)"
   ]
  },
  {
   "cell_type": "code",
   "execution_count": null,
   "metadata": {},
   "outputs": [],
   "source": [
    "df_or_contact.to_sql('or_contact', con=engine_con, if_exists='append', index=False)"
   ]
  },
  {
   "cell_type": "code",
   "execution_count": null,
   "metadata": {},
   "outputs": [],
   "source": []
  },
  {
   "cell_type": "code",
   "execution_count": null,
   "metadata": {},
   "outputs": [],
   "source": [
    "df_or_main"
   ]
  },
  {
   "cell_type": "code",
   "execution_count": null,
   "metadata": {},
   "outputs": [],
   "source": []
  },
  {
   "cell_type": "code",
   "execution_count": null,
   "metadata": {},
   "outputs": [],
   "source": [
    "df_populated"
   ]
  },
  {
   "cell_type": "code",
   "execution_count": null,
   "metadata": {},
   "outputs": [],
   "source": []
  },
  {
   "cell_type": "code",
   "execution_count": null,
   "metadata": {},
   "outputs": [],
   "source": []
  },
  {
   "cell_type": "markdown",
   "metadata": {},
   "source": [
    "### Add to all_main"
   ]
  },
  {
   "cell_type": "code",
   "execution_count": null,
   "metadata": {},
   "outputs": [],
   "source": []
  },
  {
   "cell_type": "code",
   "execution_count": null,
   "metadata": {},
   "outputs": [],
   "source": [
    "# This creates the connection to the all_main file in SQL\n",
    "\n",
    "all_cannabis_params = urllib.parse.quote_plus(\"DRIVER={ODBC Driver 17 for SQL Server};\"\n",
    "                                 \"SERVER=bespoke-database-1.cmevrozrcs7c.us-west-2.rds.amazonaws.com;\"\n",
    "                                 \"DATABASE=all_cannabis;\"\n",
    "                                 \"UID=admin;\"\n",
    "                                 \"PWD=N19lrqxnurTUJLJT6GFe\")\n",
    "all_cannabis_con = create_engine(\"mssql+pyodbc:///?odbc_connect={}\".format(all_cannabis_params))"
   ]
  },
  {
   "cell_type": "code",
   "execution_count": null,
   "metadata": {},
   "outputs": [],
   "source": [
    "# This reads in the all_main data and narrows it down to the relevent data\n",
    "all_main_sql = pd.read_sql('all_main', con=all_cannabis_con)\n",
    "old_or_main_sql = all_main_sql[all_main_sql['us_state'] == 'OR']\n",
    "old_or_main_sql = old_or_main_sql.reset_index().drop(columns='index')"
   ]
  },
  {
   "cell_type": "code",
   "execution_count": null,
   "metadata": {},
   "outputs": [],
   "source": [
    "# This re-reads in and merges the ca_annabis data in SQL\n",
    "new_or_main = pd.read_sql('or_main', con=engine_con)\n",
    "new_or_roll = pd.read_sql('or_roll', con=engine_con)\n",
    "or_with_roll = new_or_main.merge(new_or_roll, on='license_number')"
   ]
  },
  {
   "cell_type": "code",
   "execution_count": null,
   "metadata": {},
   "outputs": [],
   "source": []
  },
  {
   "cell_type": "code",
   "execution_count": null,
   "metadata": {},
   "outputs": [],
   "source": [
    "old_or_main_sql"
   ]
  },
  {
   "cell_type": "code",
   "execution_count": null,
   "metadata": {},
   "outputs": [],
   "source": [
    "or_with_roll"
   ]
  },
  {
   "cell_type": "code",
   "execution_count": null,
   "metadata": {},
   "outputs": [],
   "source": []
  },
  {
   "cell_type": "code",
   "execution_count": null,
   "metadata": {},
   "outputs": [],
   "source": [
    "or_with_roll['license_category'] = ''\n",
    "or_with_roll['license_status'] = ''\n",
    "or_with_roll['date_expiration'] = None"
   ]
  },
  {
   "cell_type": "code",
   "execution_count": null,
   "metadata": {},
   "outputs": [],
   "source": [
    "for n in range(len(or_with_roll)):\n",
    "    if or_with_roll['license_description'][n] in ['Recreational Producer']:\n",
    "        or_with_roll['license_category'][n] = 'Cultivator'\n",
    "    if or_with_roll['license_description'][n] in ['Recreational Retailer']:\n",
    "        or_with_roll['license_category'][n] = 'Retailer'\n",
    "    if or_with_roll['license_description'][n] in ['Recreational Processor']:\n",
    "        or_with_roll['license_category'][n] = 'Manufacturer'\n",
    "    if or_with_roll['license_description'][n] in ['Recreational Wholesaler']:\n",
    "        or_with_roll['license_category'][n] = 'Distributor'\n",
    "    if or_with_roll['license_description'][n] in ['Laboratory']:\n",
    "        or_with_roll['license_category'][n] = 'Laboratory'\n",
    "    if or_with_roll['license_description'][n] in ['Research Certificate']:\n",
    "        or_with_roll['license_category'][n] = 'Other'"
   ]
  },
  {
   "cell_type": "code",
   "execution_count": null,
   "metadata": {},
   "outputs": [],
   "source": []
  },
  {
   "cell_type": "code",
   "execution_count": null,
   "metadata": {},
   "outputs": [],
   "source": []
  },
  {
   "cell_type": "code",
   "execution_count": null,
   "metadata": {},
   "outputs": [],
   "source": [
    "# This reformats the data for the all_main\n",
    "new_main_for_sql = or_with_roll[['license_number', 'roll_up_id', 'name_legal', 'license_status', 'is_current', 'license_description', 'date_expiration', 'license_category']]\n",
    "new_main_for_sql['state'] = 'OR'"
   ]
  },
  {
   "cell_type": "code",
   "execution_count": null,
   "metadata": {},
   "outputs": [],
   "source": [
    "new_main_for_sql"
   ]
  },
  {
   "cell_type": "code",
   "execution_count": null,
   "metadata": {},
   "outputs": [],
   "source": []
  },
  {
   "cell_type": "code",
   "execution_count": null,
   "metadata": {},
   "outputs": [],
   "source": [
    "# Renaming the data, since we changed the column names\n",
    "new_main_for_sql = new_main_for_sql.rename(columns={\n",
    "    'license_number':'license_number',\n",
    "    'roll_up_id':'rollup_id',\n",
    "    'name_legal':'legal_name',\n",
    "    'license_status':'license_status',\n",
    "    'is_current':'is_current',\n",
    "    'license_description':'license_description',\n",
    "    'state':'us_state',\n",
    "    'license_sub_category':'license_category',\n",
    "    'date_expiration':'expiration_date'\n",
    "})"
   ]
  },
  {
   "cell_type": "code",
   "execution_count": null,
   "metadata": {},
   "outputs": [],
   "source": []
  },
  {
   "cell_type": "code",
   "execution_count": null,
   "metadata": {},
   "outputs": [],
   "source": [
    "new_or_for_sql = new_main_for_sql[~new_main_for_sql['license_number'].isin(list(old_or_main_sql['license_number'].unique()))]"
   ]
  },
  {
   "cell_type": "code",
   "execution_count": null,
   "metadata": {},
   "outputs": [],
   "source": []
  },
  {
   "cell_type": "code",
   "execution_count": null,
   "metadata": {},
   "outputs": [],
   "source": [
    "new_or_for_sql"
   ]
  },
  {
   "cell_type": "code",
   "execution_count": null,
   "metadata": {},
   "outputs": [],
   "source": []
  },
  {
   "cell_type": "code",
   "execution_count": null,
   "metadata": {},
   "outputs": [],
   "source": [
    "# And this uploads the new licenses to SQL\n",
    "new_or_for_sql.to_sql('all_main', con=all_cannabis_con, index=False, if_exists='append')"
   ]
  },
  {
   "cell_type": "code",
   "execution_count": null,
   "metadata": {},
   "outputs": [],
   "source": []
  },
  {
   "cell_type": "code",
   "execution_count": null,
   "metadata": {},
   "outputs": [],
   "source": []
  },
  {
   "cell_type": "markdown",
   "metadata": {},
   "source": [
    "### Alter the OR data in all_main"
   ]
  },
  {
   "cell_type": "code",
   "execution_count": null,
   "metadata": {},
   "outputs": [],
   "source": []
  },
  {
   "cell_type": "code",
   "execution_count": null,
   "metadata": {},
   "outputs": [],
   "source": [
    "# This re-reads in the Oregon database to check for any need to alter\n",
    "or_main_sql_for_alter = pd.read_sql('or_main', con=engine_con)\n",
    "or_roll_sql_for_alter = pd.read_sql('or_roll', con=engine_con)\n",
    "or_roll_sql_for_alter = or_roll_sql_for_alter\n",
    "or_sql_data = or_main_sql_for_alter.merge(or_roll_sql_for_alter, on='license_number').rename(columns={'roll_up_id': 'rollup_id', 'name_legal': 'legal_name'})"
   ]
  },
  {
   "cell_type": "code",
   "execution_count": null,
   "metadata": {},
   "outputs": [],
   "source": [
    "# This reads in the all_main database and narrows in down to California licenses to do the same\n",
    "all_main_sql_for_alter = pd.read_sql('all_main', con=all_cannabis_con)\n",
    "or_main_sql_for_alter = all_main_sql_for_alter[all_main_sql_for_alter['us_state'] == 'OR']\n",
    "or_main_sql_for_alter = or_main_sql_for_alter.reset_index().drop(columns='index')"
   ]
  },
  {
   "cell_type": "code",
   "execution_count": null,
   "metadata": {},
   "outputs": [],
   "source": []
  },
  {
   "cell_type": "code",
   "execution_count": null,
   "metadata": {},
   "outputs": [],
   "source": [
    "or_sql_data['license_category'] = ''\n",
    "\n",
    "for n in range(len(or_with_roll)):\n",
    "    if or_sql_data['license_description'][n] in ['Recreational Producer']:\n",
    "        or_sql_data['license_category'][n] = 'Cultivator'\n",
    "    if or_sql_data['license_description'][n] in ['Recreational Retailer']:\n",
    "        or_sql_data['license_category'][n] = 'Retailer'\n",
    "    if or_sql_data['license_description'][n] in ['Recreational Processor']:\n",
    "        or_sql_data['license_category'][n] = 'Manufacturer'\n",
    "    if or_sql_data['license_description'][n] in ['Recreational Wholesaler']:\n",
    "        or_sql_data['license_category'][n] = 'Distributor'\n",
    "    if or_sql_data['license_description'][n] in ['Laboratory']:\n",
    "        or_sql_data['license_category'][n] = 'Laboratory'\n",
    "    if or_sql_data['license_description'][n] in ['Research Certificate']:\n",
    "        or_sql_data['license_category'][n] = 'Other'"
   ]
  },
  {
   "cell_type": "code",
   "execution_count": null,
   "metadata": {},
   "outputs": [],
   "source": []
  },
  {
   "cell_type": "code",
   "execution_count": null,
   "metadata": {},
   "outputs": [],
   "source": [
    "or_sql_data"
   ]
  },
  {
   "cell_type": "code",
   "execution_count": null,
   "metadata": {},
   "outputs": [],
   "source": []
  },
  {
   "cell_type": "code",
   "execution_count": null,
   "metadata": {},
   "outputs": [],
   "source": [
    "or_all_main_alter_list = []\n",
    "\n",
    "for lic in or_sql_for_alter['license_number']:\n",
    "    if list(or_sql_for_alter[or_sql_for_alter['license_number'] == lic]['rollup_id'])[0] != list(or_sql_data[or_sql_data['license_number'] == lic]['rollup_id'])[0]:\n",
    "        print(lic, 'rollup')\n",
    "        or_all_main_alter_list.append(lic)\n",
    "    elif list(or_sql_for_alter[or_sql_for_alter['license_number'] == lic]['license_category'])[0] != list(or_sql_data[or_sql_data['license_number'] == lic]['license_category'])[0]:\n",
    "        print(lic, 'category')\n",
    "        or_all_main_alter_list.append(lic)\n",
    "    elif list(or_sql_for_alter[or_sql_for_alter['license_number'] == lic]['is_current'])[0] != list(or_sql_data[or_sql_data['license_number'] == lic]['is_current'])[0]:\n",
    "        print(lic, 'current')\n",
    "        or_all_main_alter_list.append(lic)\n",
    "    elif list(or_sql_for_alter[or_sql_for_alter['license_number'] == lic]['legal_name'])[0] != list(or_sql_data[or_sql_data['license_number'] == lic]['legal_name'])[0]:\n",
    "        print(lic, 'name')\n",
    "        or_all_main_alter_list.append(lic)\n",
    "        \n",
    "# or_all_main_alter_list"
   ]
  },
  {
   "cell_type": "code",
   "execution_count": null,
   "metadata": {},
   "outputs": [],
   "source": []
  },
  {
   "cell_type": "code",
   "execution_count": null,
   "metadata": {},
   "outputs": [],
   "source": [
    "or_all_main_alter_df = or_sql_data[or_sql_data['license_number'].isin(or_all_main_alter_list)]\n",
    "or_all_main_alter_df.shape"
   ]
  },
  {
   "cell_type": "code",
   "execution_count": null,
   "metadata": {},
   "outputs": [],
   "source": []
  },
  {
   "cell_type": "code",
   "execution_count": null,
   "metadata": {},
   "outputs": [],
   "source": [
    "or_all_main_alter_df['us_state'] = 'OR'"
   ]
  },
  {
   "cell_type": "code",
   "execution_count": null,
   "metadata": {},
   "outputs": [],
   "source": []
  },
  {
   "cell_type": "code",
   "execution_count": null,
   "metadata": {},
   "outputs": [],
   "source": [
    "or_all_main_alter_df = or_all_main_alter_df[['license_number', 'rollup_id', 'legal_name', 'is_current', 'license_description', 'us_state', 'license_category']]"
   ]
  },
  {
   "cell_type": "code",
   "execution_count": null,
   "metadata": {},
   "outputs": [],
   "source": [
    "or_all_main_alter_df"
   ]
  },
  {
   "cell_type": "code",
   "execution_count": null,
   "metadata": {},
   "outputs": [],
   "source": []
  },
  {
   "cell_type": "code",
   "execution_count": null,
   "metadata": {},
   "outputs": [],
   "source": [
    "# This sends the df of data to alter into a state specific sql table\n",
    "or_all_main_alter_df.to_sql('or_to_alter', con=all_cannabis_con, index=False, if_exists='replace')"
   ]
  },
  {
   "cell_type": "code",
   "execution_count": null,
   "metadata": {},
   "outputs": [],
   "source": []
  },
  {
   "cell_type": "code",
   "execution_count": null,
   "metadata": {},
   "outputs": [],
   "source": [
    "# And this code runs the query to update the sql_main table with the ca_to_alter table\n",
    "\n",
    "all_conn = pyodbc.connect('DRIVER={ODBC Driver 17 for SQL Server};'\n",
    "                      'SERVER=bespoke-database-1.cmevrozrcs7c.us-west-2.rds.amazonaws.com;'\n",
    "                      'DATABASE=all_cannabis;'\n",
    "                      'UID=admin;'\n",
    "                      'PWD=N19lrqxnurTUJLJT6GFe;')\n",
    "\n",
    "all_cursor = all_conn.cursor()\n",
    "\n",
    "all_cursor.execute('SELECT * FROM all_cannabis.dbo.all_main')\n",
    "\n",
    "all_cursor.execute('''\n",
    "Update t1\n",
    "SET t1.[license_description] = t2.[license_description],\n",
    "    t1.[license_category] = t2.[license_category],\n",
    "    t1.[is_current] = t2.[is_current]\n",
    "FROM [all_cannabis].[dbo].[all_main] as t1\n",
    "INNER JOIN [all_cannabis].[dbo].[or_to_alter] as t2\n",
    "ON t1.[license_number] = t2.[license_number];\n",
    "''')\n",
    "\n",
    "all_conn.commit()"
   ]
  },
  {
   "cell_type": "code",
   "execution_count": null,
   "metadata": {},
   "outputs": [],
   "source": []
  },
  {
   "cell_type": "code",
   "execution_count": null,
   "metadata": {},
   "outputs": [],
   "source": []
  },
  {
   "cell_type": "code",
   "execution_count": null,
   "metadata": {},
   "outputs": [],
   "source": []
  },
  {
   "cell_type": "markdown",
   "metadata": {},
   "source": [
    "### Bespoke / Sweat Equity API"
   ]
  },
  {
   "cell_type": "code",
   "execution_count": null,
   "metadata": {},
   "outputs": [],
   "source": [
    "new_main_for_api.shape"
   ]
  },
  {
   "cell_type": "code",
   "execution_count": null,
   "metadata": {},
   "outputs": [],
   "source": []
  },
  {
   "cell_type": "code",
   "execution_count": null,
   "metadata": {},
   "outputs": [],
   "source": [
    "new_main_for_api = new_or_for_sql.append(or_all_main_alter_df)"
   ]
  },
  {
   "cell_type": "code",
   "execution_count": null,
   "metadata": {},
   "outputs": [],
   "source": [
    "new_main_for_api['license_status'] = ''\n",
    "new_main_for_api['expiration_date'] = None"
   ]
  },
  {
   "cell_type": "code",
   "execution_count": null,
   "metadata": {},
   "outputs": [],
   "source": [
    "new_main_for_api"
   ]
  },
  {
   "cell_type": "code",
   "execution_count": null,
   "metadata": {},
   "outputs": [],
   "source": [
    "new_main_for_api[new_main_for_api['license_number'] == '050 1011139BD62']"
   ]
  },
  {
   "cell_type": "code",
   "execution_count": null,
   "metadata": {},
   "outputs": [],
   "source": []
  },
  {
   "cell_type": "code",
   "execution_count": null,
   "metadata": {},
   "outputs": [],
   "source": [
    "new_main_for_api = new_main_for_api.reset_index().drop(columns='index')"
   ]
  },
  {
   "cell_type": "code",
   "execution_count": null,
   "metadata": {},
   "outputs": [],
   "source": []
  },
  {
   "cell_type": "code",
   "execution_count": null,
   "metadata": {},
   "outputs": [],
   "source": [
    "new_main = pd.read_sql()"
   ]
  },
  {
   "cell_type": "code",
   "execution_count": null,
   "metadata": {},
   "outputs": [],
   "source": []
  },
  {
   "cell_type": "code",
   "execution_count": null,
   "metadata": {},
   "outputs": [],
   "source": [
    "for n in range(len(new_main_for_api)):\n",
    "    \n",
    "    if new_main_for_api['is_current'].iloc[n] == 1:\n",
    "        is_current_1 = True\n",
    "    else:\n",
    "        is_current_1 = False\n",
    "        \n",
    "        \n",
    "    requests.post(\n",
    "#             'https://bespoke-api-server-staging.herokuapp.com/api/v1/licenses/bulk_update_licenses',\n",
    "            'https://bespoke-api-server-production.herokuapp.com/api/v1/licenses/bulk_update_licenses',\n",
    "            json= {\n",
    "          'company_licenses': [\n",
    "              \n",
    "              {\n",
    "            'license_number': new_main_for_api['license_number'][n],\n",
    "            'rollup_id': new_main_for_api['rollup_id'][n],\n",
    "            'legal_name': new_main_for_api['legal_name'][n],\n",
    "            'license_status': new_main_for_api['license_status'][n],\n",
    "            'is_current': is_current_1,\n",
    "            'license_description': new_main_for_api['license_description'][n],\n",
    "            'us_state': new_main_for_api['us_state'][n],\n",
    "            'expiration_date': new_main_for_api['expiration_date'][n],\n",
    "            'license_category': new_main_for_api['license_category'][n]\n",
    "            }\n",
    "              \n",
    "              \n",
    "    \n",
    "              \n",
    "          ],\n",
    "        },\n",
    "            headers={'x-api-key': 'ASYNC-SERVER-API-KEY-6Lfy84qn9ew93ZwMXSYhdwqj'}\n",
    "#             {'x-api-key': '80030179832729980933'}\n",
    "        )\n",
    "        \n",
    "    sleep(5)"
   ]
  },
  {
   "cell_type": "code",
   "execution_count": null,
   "metadata": {},
   "outputs": [],
   "source": [
    "print(stop)"
   ]
  },
  {
   "cell_type": "code",
   "execution_count": null,
   "metadata": {
    "scrolled": false
   },
   "outputs": [],
   "source": [
    "num_of_lic_sent = 0\n",
    "\n",
    "while len(new_main_for_api) - num_of_lic_sent >= 10:\n",
    "\n",
    "    for n in range(num_of_lic_sent, num_of_lic_sent+10):\n",
    "    \n",
    "        if new_main_for_api['is_current'].iloc[n] == 1:\n",
    "            is_current_1 = True\n",
    "        else:\n",
    "            is_current_1 = False\n",
    "            \n",
    "        if new_main_for_api['is_current'].iloc[n+1] == 1:\n",
    "            is_current_2 = True\n",
    "        else:\n",
    "            is_current_2 = False\n",
    "            \n",
    "        if new_main_for_api['is_current'].iloc[n+2] == 1:\n",
    "            is_current_3 = True\n",
    "        else:\n",
    "            is_current_3 = False\n",
    "            \n",
    "        if new_main_for_api['is_current'].iloc[n+3] == 1:\n",
    "            is_current_4 = True\n",
    "        else:\n",
    "            is_current_4 = False\n",
    "            \n",
    "        if new_main_for_api['is_current'].iloc[n+4] == 1:\n",
    "            is_current_5 = True\n",
    "        else:\n",
    "            is_current_5 = False\n",
    "            \n",
    "        if new_main_for_api['is_current'].iloc[n+5] == 1:\n",
    "            is_current_6 = True\n",
    "        else:\n",
    "            is_current_6 = False\n",
    "            \n",
    "        if new_main_for_api['is_current'].iloc[n+6] == 1:\n",
    "            is_current_7 = True\n",
    "        else:\n",
    "            is_current_7 = False\n",
    "            \n",
    "        if new_main_for_api['is_current'].iloc[n+7] == 1:\n",
    "            is_current_8 = True\n",
    "        else:\n",
    "            is_current_8 = False\n",
    "            \n",
    "        if new_main_for_api['is_current'].iloc[n+8] == 1:\n",
    "            is_current_9 = True\n",
    "        else:\n",
    "            is_current_9 = False\n",
    "            \n",
    "        if new_main_for_api['is_current'].iloc[n+9] == 1:\n",
    "            is_current_10 = True\n",
    "        else:\n",
    "            is_current_10 = False\n",
    "            \n",
    "\n",
    "        requests.post(\n",
    "#             'https://bespoke-api-server-staging.herokuapp.com/api/v1/licenses/bulk_update_licenses',\n",
    "            'https://bespoke-api-server-production.herokuapp.com/api/v1/licenses/bulk_update_licenses',\n",
    "            json= {\n",
    "          'company_licenses': [\n",
    "              \n",
    "              {\n",
    "            'license_number': new_main_for_api['license_number'][n],\n",
    "            'rollup_id': new_main_for_api['rollup_id'][n],\n",
    "            'legal_name': new_main_for_api['legal_name'][n],\n",
    "            'license_status': new_main_for_api['license_status'][n],\n",
    "            'is_current': is_current_1,\n",
    "            'license_description': new_main_for_api['license_description'][n],\n",
    "            'us_state': new_main_for_api['us_state'][n],\n",
    "            'expiration_date': new_main_for_api['expiration_date'][n],\n",
    "            'license_category': new_main_for_api['license_category'][n]\n",
    "            },\n",
    "            \n",
    "              \n",
    "              {\n",
    "            'license_number': new_main_for_api['license_number'][n+1],\n",
    "            'rollup_id': new_main_for_api['rollup_id'][n+1],\n",
    "            'legal_name': new_main_for_api['legal_name'][n+1],\n",
    "            'license_status': new_main_for_api['license_status'][n+1],\n",
    "            'is_current': is_current_2,\n",
    "            'license_description': new_main_for_api['license_description'][n+1],\n",
    "            'us_state': new_main_for_api['us_state'][n+1],\n",
    "            'expiration_date': new_main_for_api['expiration_date'][n+1],\n",
    "            'license_category': new_main_for_api['license_category'][n+1]\n",
    "            },\n",
    "              \n",
    "              \n",
    "              {\n",
    "            'license_number': new_main_for_api['license_number'][n+2],\n",
    "            'rollup_id': new_main_for_api['rollup_id'][n+2],\n",
    "            'legal_name': new_main_for_api['legal_name'][n+2],\n",
    "            'license_status': new_main_for_api['license_status'][n+2],\n",
    "            'is_current': is_current_3,\n",
    "            'license_description': new_main_for_api['license_description'][n+2],\n",
    "            'us_state': new_main_for_api['us_state'][n+2],\n",
    "            'expiration_date': new_main_for_api['expiration_date'][n+2],\n",
    "            'license_category': new_main_for_api['license_category'][n+2]\n",
    "            },\n",
    "\n",
    "              \n",
    "              {\n",
    "            'license_number': new_main_for_api['license_number'][n+3],\n",
    "            'rollup_id': new_main_for_api['rollup_id'][n+3],\n",
    "            'legal_name': new_main_for_api['legal_name'][n+3],\n",
    "            'license_status': new_main_for_api['license_status'][n+3],\n",
    "            'is_current': is_current_4,\n",
    "            'license_description': new_main_for_api['license_description'][n+3],\n",
    "            'us_state': new_main_for_api['us_state'][n+3],\n",
    "            'expiration_date': new_main_for_api['expiration_date'][n+3],\n",
    "            'license_category': new_main_for_api['license_category'][n+3]\n",
    "            },\n",
    "              \n",
    "              \n",
    "              {\n",
    "            'license_number': new_main_for_api['license_number'][n+4],\n",
    "            'rollup_id': new_main_for_api['rollup_id'][n+4],\n",
    "            'legal_name': new_main_for_api['legal_name'][n+4],\n",
    "            'license_status': new_main_for_api['license_status'][n+4],\n",
    "            'is_current': is_current_5,\n",
    "            'license_description': new_main_for_api['license_description'][n+4],\n",
    "            'us_state': new_main_for_api['us_state'][n+4],\n",
    "            'expiration_date': new_main_for_api['expiration_date'][n+4],\n",
    "            'license_category': new_main_for_api['license_category'][n+4]\n",
    "            },\n",
    "              \n",
    "              \n",
    "              {\n",
    "            'license_number': new_main_for_api['license_number'][n+5],\n",
    "            'rollup_id': new_main_for_api['rollup_id'][n+5],\n",
    "            'legal_name': new_main_for_api['legal_name'][n+5],\n",
    "            'license_status': new_main_for_api['license_status'][n+5],\n",
    "            'is_current': is_current_6,\n",
    "            'license_description': new_main_for_api['license_description'][n+5],\n",
    "            'us_state': new_main_for_api['us_state'][n+5],\n",
    "            'expiration_date': new_main_for_api['expiration_date'][n+5],\n",
    "            'license_category': new_main_for_api['license_category'][n+5]\n",
    "            },\n",
    "\n",
    "              \n",
    "              {\n",
    "            'license_number': new_main_for_api['license_number'][n+6],\n",
    "            'rollup_id': new_main_for_api['rollup_id'][n+6],\n",
    "            'legal_name': new_main_for_api['legal_name'][n+6],\n",
    "            'license_status': new_main_for_api['license_status'][n+6],\n",
    "            'is_current': is_current_7,\n",
    "            'license_description': new_main_for_api['license_description'][n+6],\n",
    "            'us_state': new_main_for_api['us_state'][n+6],\n",
    "            'expiration_date': new_main_for_api['expiration_date'][n+6],\n",
    "            'license_category': new_main_for_api['license_category'][n+6]\n",
    "            },\n",
    "              \n",
    "              \n",
    "              {\n",
    "            'license_number': new_main_for_api['license_number'][n+7],\n",
    "            'rollup_id': new_main_for_api['rollup_id'][n+7],\n",
    "            'legal_name': new_main_for_api['legal_name'][n+7],\n",
    "            'license_status': new_main_for_api['license_status'][n+7],\n",
    "            'is_current': is_current_8,\n",
    "            'license_description': new_main_for_api['license_description'][n+7],\n",
    "            'us_state': new_main_for_api['us_state'][n+7],\n",
    "            'expiration_date': new_main_for_api['expiration_date'][n+7],\n",
    "            'license_category': new_main_for_api['license_category'][n+7]\n",
    "            },\n",
    "              \n",
    "              \n",
    "              {\n",
    "            'license_number': new_main_for_api['license_number'][n+8],\n",
    "            'rollup_id': new_main_for_api['rollup_id'][n+8],\n",
    "            'legal_name': new_main_for_api['legal_name'][n+8],\n",
    "            'license_status': new_main_for_api['license_status'][n+8],\n",
    "            'is_current': is_current_9,\n",
    "            'license_description': new_main_for_api['license_description'][n+8],\n",
    "            'us_state': new_main_for_api['us_state'][n+8],\n",
    "            'expiration_date': new_main_for_api['expiration_date'][n+8],\n",
    "            'license_category': new_main_for_api['license_category'][n+8]\n",
    "            },\n",
    "\n",
    "              \n",
    "              {\n",
    "            'license_number': new_main_for_api['license_number'][n+9],\n",
    "            'rollup_id': new_main_for_api['rollup_id'][n+9],\n",
    "            'legal_name': new_main_for_api['legal_name'][n+9],\n",
    "            'license_status': new_main_for_api['license_status'][n+9],\n",
    "            'is_current': is_current_10,\n",
    "            'license_description': new_main_for_api['license_description'][n+9],\n",
    "            'us_state': new_main_for_api['us_state'][n+9],\n",
    "            'expiration_date': new_main_for_api['expiration_date'][n+9],\n",
    "            'license_category': new_main_for_api['license_category'][n+9]\n",
    "            },\n",
    "\n",
    "              \n",
    "          ],\n",
    "        },\n",
    "            headers={'x-api-key': 'ASYNC-SERVER-API-KEY-6Lfy84qn9ew93ZwMXSYhdwqj'}\n",
    "#             {'x-api-key': '80030179832729980933'}\n",
    "        )\n",
    "        \n",
    "        num_of_lic_sent += 10\n",
    "        \n",
    "        sleep(5)\n",
    "        \n",
    "        if len(new_main_for_api) - num_of_lic_sent < 10:\n",
    "            \n",
    "            for n in range(num_of_lic_sent, len(new_main_for_api)):\n",
    "    \n",
    "                if new_main_for_api['is_current'].iloc[n] == 1:\n",
    "                    is_current_1 = True\n",
    "                else:\n",
    "                    is_current_1 = False\n",
    "                    \n",
    "                    \n",
    "            requests.post(\n",
    "#                 'https://bespoke-api-server-staging.herokuapp.com/api/v1/licenses/bulk_update_licenses', \n",
    "                'https://bespoke-api-server-production.herokuapp.com/api/v1/licenses/bulk_update_licenses',\n",
    "                json= {\n",
    "                'company_licenses': [\n",
    "              \n",
    "                                      {\n",
    "                                    'license_number': new_main_for_api['license_number'].iloc[n],\n",
    "                                    'rollup_id': new_main_for_api['rollup_id'].iloc[n],\n",
    "                                    'Legal Name': new_main_for_api['legal_name'].iloc[n],\n",
    "                                    'legal_name': new_main_for_api['license_status'].iloc[n],\n",
    "                                    'is_current': is_current_1,\n",
    "                                    'license_description': new_main_for_api['license_description'].iloc[n],\n",
    "                                    'us_state': new_main_for_api['us_state'].iloc[n],\n",
    "                                    'expiration_date': new_main_for_api['expiration_date'].iloc[n],\n",
    "                                    'license_category': new_main_for_api['license_category'].iloc[n]\n",
    "                                    },\n",
    "                                  ],\n",
    "                                },\n",
    "                                    headers={'x-api-key': 'ASYNC-SERVER-API-KEY-6Lfy84qn9ew93ZwMXSYhdwqj'}\n",
    "#                                             {'x-api-key': '80030179832729980933'}\n",
    "                                )\n",
    "        print(num_of_lic_sent)"
   ]
  },
  {
   "cell_type": "code",
   "execution_count": null,
   "metadata": {},
   "outputs": [],
   "source": [
    "new_main_for_api"
   ]
  },
  {
   "cell_type": "code",
   "execution_count": null,
   "metadata": {},
   "outputs": [],
   "source": []
  },
  {
   "cell_type": "code",
   "execution_count": null,
   "metadata": {},
   "outputs": [],
   "source": []
  },
  {
   "cell_type": "code",
   "execution_count": null,
   "metadata": {},
   "outputs": [],
   "source": []
  },
  {
   "cell_type": "code",
   "execution_count": null,
   "metadata": {},
   "outputs": [],
   "source": []
  },
  {
   "cell_type": "code",
   "execution_count": null,
   "metadata": {},
   "outputs": [],
   "source": []
  },
  {
   "cell_type": "code",
   "execution_count": null,
   "metadata": {},
   "outputs": [],
   "source": []
  },
  {
   "cell_type": "code",
   "execution_count": null,
   "metadata": {},
   "outputs": [],
   "source": [
    "print(stop)"
   ]
  },
  {
   "cell_type": "code",
   "execution_count": null,
   "metadata": {},
   "outputs": [],
   "source": []
  },
  {
   "cell_type": "markdown",
   "metadata": {},
   "source": [
    "### Code to Double Check the Metabase Data"
   ]
  },
  {
   "cell_type": "code",
   "execution_count": null,
   "metadata": {},
   "outputs": [],
   "source": []
  },
  {
   "cell_type": "code",
   "execution_count": null,
   "metadata": {},
   "outputs": [],
   "source": [
    "all_main = pd.read_json('../sweat_equity/query_result_2021-09-20T21_51_21.859Z.json')"
   ]
  },
  {
   "cell_type": "code",
   "execution_count": null,
   "metadata": {},
   "outputs": [],
   "source": [
    "all_main"
   ]
  },
  {
   "cell_type": "code",
   "execution_count": null,
   "metadata": {},
   "outputs": [],
   "source": [
    "all_main = all_main[~all_main['Us State'].isna()]"
   ]
  },
  {
   "cell_type": "code",
   "execution_count": null,
   "metadata": {},
   "outputs": [],
   "source": [
    "all_main_or = all_main[all_main['Us State'] == 'OR']"
   ]
  },
  {
   "cell_type": "code",
   "execution_count": null,
   "metadata": {},
   "outputs": [],
   "source": [
    "all_main_or = all_main_or.reset_index().drop(columns='index')"
   ]
  },
  {
   "cell_type": "code",
   "execution_count": null,
   "metadata": {},
   "outputs": [],
   "source": []
  },
  {
   "cell_type": "code",
   "execution_count": null,
   "metadata": {},
   "outputs": [],
   "source": [
    "all_main_or.columns"
   ]
  },
  {
   "cell_type": "code",
   "execution_count": null,
   "metadata": {},
   "outputs": [],
   "source": []
  },
  {
   "cell_type": "code",
   "execution_count": null,
   "metadata": {},
   "outputs": [],
   "source": [
    "to_alter = []\n",
    "\n",
    "for lic in or_sql_data['license_number']:\n",
    "    if list(or_sql_data[or_sql_data['license_number'] == lic]['license_description'])[0] != list(all_main_or[all_main_or['License Number'] == lic]['License Description'])[0]:\n",
    "        print(lic, 'description')\n",
    "        to_alter.append(lic)\n",
    "    if list(or_sql_data[or_sql_data['license_number'] == lic]['license_category'])[0] != list(all_main_or[all_main_or['License Number'] == lic]['License Category'])[0]:\n",
    "        print(lic, 'category')\n",
    "        to_alter.append(lic)\n",
    "    if list(or_sql_data[or_sql_data['license_number'] == lic]['legal_name'])[0] != list(all_main_or[all_main_or['License Number'] == lic]['Legal Name'])[0]:\n",
    "        print(lic, 'name')\n",
    "        to_alter.append(lic)\n",
    "    if list(or_sql_data[or_sql_data['license_number'] == lic]['is_current'])[0] != list(all_main_or[all_main_or['License Number'] == lic]['Is Current'])[0]:\n",
    "        print(lic, 'current')\n",
    "        to_alter.append(lic)\n",
    "        \n",
    "df_for_alter = df_edited_current[df_edited_current['license_number'].isin(to_alter)]"
   ]
  },
  {
   "cell_type": "code",
   "execution_count": null,
   "metadata": {},
   "outputs": [],
   "source": []
  },
  {
   "cell_type": "code",
   "execution_count": null,
   "metadata": {},
   "outputs": [],
   "source": []
  },
  {
   "cell_type": "code",
   "execution_count": null,
   "metadata": {},
   "outputs": [],
   "source": []
  }
 ],
 "metadata": {
  "kernelspec": {
   "display_name": "Python 3",
   "language": "python",
   "name": "python3"
  },
  "language_info": {
   "codemirror_mode": {
    "name": "ipython",
    "version": 3
   },
   "file_extension": ".py",
   "mimetype": "text/x-python",
   "name": "python",
   "nbconvert_exporter": "python",
   "pygments_lexer": "ipython3",
   "version": "3.7.3"
  }
 },
 "nbformat": 4,
 "nbformat_minor": 2
}
