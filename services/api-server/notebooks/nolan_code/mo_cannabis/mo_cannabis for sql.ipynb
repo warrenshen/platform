{
 "cells": [
  {
   "cell_type": "code",
   "execution_count": null,
   "metadata": {},
   "outputs": [],
   "source": [
    "import numpy as np\n",
    "import pandas as pd\n",
    "import datetime as dt\n",
    "from sqlalchemy import create_engine\n",
    "import urllib\n",
    "import pyodbc\n",
    "import requests\n",
    "from time import sleep"
   ]
  },
  {
   "cell_type": "code",
   "execution_count": null,
   "metadata": {},
   "outputs": [],
   "source": [
    "pd.options.display.min_rows = 100"
   ]
  },
  {
   "cell_type": "code",
   "execution_count": null,
   "metadata": {},
   "outputs": [],
   "source": []
  },
  {
   "cell_type": "markdown",
   "metadata": {},
   "source": [
    "### Create SQL Connection"
   ]
  },
  {
   "cell_type": "code",
   "execution_count": null,
   "metadata": {},
   "outputs": [],
   "source": [
    "# This creates the connection to the California Cannabis files in SQL\n",
    "params = urllib.parse.quote_plus(\"DRIVER={ODBC Driver 17 for SQL Server};\"\n",
    "                                 \"SERVER=bespoke-database-1.cmevrozrcs7c.us-west-2.rds.amazonaws.com;\"\n",
    "                                 \"DATABASE=mo_cannabis;\"\n",
    "                                 \"UID=admin;\"\n",
    "                                 \"PWD=N19lrqxnurTUJLJT6GFe\")\n",
    "engine_con = create_engine(\"mssql+pyodbc:///?odbc_connect={}\".format(params))"
   ]
  },
  {
   "cell_type": "code",
   "execution_count": null,
   "metadata": {},
   "outputs": [],
   "source": []
  },
  {
   "cell_type": "code",
   "execution_count": null,
   "metadata": {},
   "outputs": [],
   "source": [
    "today_date = dt.date.today()\n",
    "today_date = dt.date(2021, 9, 24)\n",
    "\n",
    "today_year = today_date.strftime(\"%Y\")\n",
    "today_month = today_date.strftime(\"%m\")\n",
    "today_day = today_date.strftime(\"%d\")"
   ]
  },
  {
   "cell_type": "code",
   "execution_count": null,
   "metadata": {},
   "outputs": [],
   "source": []
  },
  {
   "cell_type": "code",
   "execution_count": null,
   "metadata": {},
   "outputs": [],
   "source": []
  },
  {
   "cell_type": "markdown",
   "metadata": {},
   "source": [
    "### Read in the Data"
   ]
  },
  {
   "cell_type": "code",
   "execution_count": null,
   "metadata": {},
   "outputs": [],
   "source": []
  },
  {
   "cell_type": "code",
   "execution_count": null,
   "metadata": {},
   "outputs": [],
   "source": [
    "cultivation_df = pd.read_excel(f'licenses/licensed_cultivation_{today_year}_{today_month}_{today_day}.xlsx', header=1)"
   ]
  },
  {
   "cell_type": "code",
   "execution_count": null,
   "metadata": {},
   "outputs": [],
   "source": [
    "dispensary_df = pd.read_excel(f'licenses/licensed_dispensary_{today_year}_{today_month}_{today_day}.xlsx', header=1)"
   ]
  },
  {
   "cell_type": "code",
   "execution_count": null,
   "metadata": {},
   "outputs": [],
   "source": [
    "manufacturing_df = pd.read_excel(f'licenses/licensed_infused_product_manufacturing_{today_year}_{today_month}_{today_day}.xlsx', header=1)"
   ]
  },
  {
   "cell_type": "code",
   "execution_count": null,
   "metadata": {},
   "outputs": [],
   "source": [
    "laboratory_df = pd.read_excel(f'licenses/licensed_laboratory_testing_{today_year}_{today_month}_{today_day}.xlsx', header=1)"
   ]
  },
  {
   "cell_type": "code",
   "execution_count": null,
   "metadata": {},
   "outputs": [],
   "source": [
    "transportation_df = pd.read_excel(f'licenses/licensed_transportation_{today_year}_{today_month}_{today_day}.xlsx', header=1)"
   ]
  },
  {
   "cell_type": "code",
   "execution_count": null,
   "metadata": {},
   "outputs": [],
   "source": []
  },
  {
   "cell_type": "code",
   "execution_count": null,
   "metadata": {},
   "outputs": [],
   "source": [
    "cultivation_df['license_description'] = 'Cultivation'"
   ]
  },
  {
   "cell_type": "code",
   "execution_count": null,
   "metadata": {},
   "outputs": [],
   "source": [
    "dispensary_df['license_description'] = 'Dispensary'"
   ]
  },
  {
   "cell_type": "code",
   "execution_count": null,
   "metadata": {},
   "outputs": [],
   "source": [
    "manufacturing_df['license_description'] = 'Manufacturing'"
   ]
  },
  {
   "cell_type": "code",
   "execution_count": null,
   "metadata": {},
   "outputs": [],
   "source": [
    "laboratory_df['license_description'] = 'Laboratory'"
   ]
  },
  {
   "cell_type": "code",
   "execution_count": null,
   "metadata": {},
   "outputs": [],
   "source": [
    "transportation_df['license_description'] = 'Laboratory'"
   ]
  },
  {
   "cell_type": "code",
   "execution_count": null,
   "metadata": {},
   "outputs": [],
   "source": []
  },
  {
   "cell_type": "code",
   "execution_count": null,
   "metadata": {},
   "outputs": [],
   "source": [
    "manufacturing_df = manufacturing_df.rename(columns={' Contact \\nInformation 1':'Contact \\nInformation 1'})"
   ]
  },
  {
   "cell_type": "code",
   "execution_count": null,
   "metadata": {},
   "outputs": [],
   "source": []
  },
  {
   "cell_type": "code",
   "execution_count": null,
   "metadata": {},
   "outputs": [],
   "source": [
    "all_licenses_df = cultivation_df.append(dispensary_df).append(manufacturing_df).append(laboratory_df).append(transportation_df)"
   ]
  },
  {
   "cell_type": "code",
   "execution_count": null,
   "metadata": {},
   "outputs": [],
   "source": []
  },
  {
   "cell_type": "code",
   "execution_count": null,
   "metadata": {},
   "outputs": [],
   "source": [
    "all_licenses_df = all_licenses_df.sort_values(by='Entity Name')\n",
    "all_licenses_df = all_licenses_df.reset_index().drop(columns='index')"
   ]
  },
  {
   "cell_type": "code",
   "execution_count": null,
   "metadata": {},
   "outputs": [],
   "source": []
  },
  {
   "cell_type": "code",
   "execution_count": null,
   "metadata": {},
   "outputs": [],
   "source": []
  },
  {
   "cell_type": "markdown",
   "metadata": {},
   "source": [
    "### Data Cleaning"
   ]
  },
  {
   "cell_type": "code",
   "execution_count": null,
   "metadata": {},
   "outputs": [],
   "source": []
  },
  {
   "cell_type": "code",
   "execution_count": null,
   "metadata": {},
   "outputs": [],
   "source": [
    "all_licenses_df = all_licenses_df.rename(columns={\n",
    "    'Approved to Operate':'license_approved',\n",
    "    'License \\nNumber':'license_number',\n",
    "    'Entity Name':'name_legal',\n",
    "    'City':'contact_city',\n",
    "    'State':'contact_state',\n",
    "    'Postal Code':'contact_zip',\n",
    "    'Contact \\nInformation 1':'contact_owner_1',\n",
    "    'Contact \\nInformation 2':'contact_owner_2',\n",
    "    'Contact \\nPhone':'contact_phone'\n",
    "})"
   ]
  },
  {
   "cell_type": "code",
   "execution_count": null,
   "metadata": {},
   "outputs": [],
   "source": []
  },
  {
   "cell_type": "code",
   "execution_count": null,
   "metadata": {},
   "outputs": [],
   "source": [
    "all_licenses_df['license_approved'] = all_licenses_df['license_approved'].fillna(0).replace('ü', 1)"
   ]
  },
  {
   "cell_type": "code",
   "execution_count": null,
   "metadata": {},
   "outputs": [],
   "source": []
  },
  {
   "cell_type": "code",
   "execution_count": null,
   "metadata": {},
   "outputs": [],
   "source": [
    "phone_list = []\n",
    "for num in all_licenses_df['contact_phone']:\n",
    "    num = str(num).replace(' ', '').replace('(', '').replace(')', '').replace('-', '')\n",
    "    phone_list.append(num)\n",
    "all_licenses_df['contact_phone'] = phone_list"
   ]
  },
  {
   "cell_type": "code",
   "execution_count": null,
   "metadata": {},
   "outputs": [],
   "source": []
  },
  {
   "cell_type": "code",
   "execution_count": null,
   "metadata": {},
   "outputs": [],
   "source": [
    "all_licenses_df['company_roll_up'] = ''\n",
    "all_licenses_df['roll_up_id'] = ''"
   ]
  },
  {
   "cell_type": "code",
   "execution_count": null,
   "metadata": {},
   "outputs": [],
   "source": []
  },
  {
   "cell_type": "code",
   "execution_count": null,
   "metadata": {},
   "outputs": [],
   "source": [
    "all_licenses_df = all_licenses_df[['license_number', 'license_description', 'name_legal', 'roll_up_id', 'company_roll_up', 'contact_city', 'contact_state', 'contact_zip', 'contact_owner_1', 'contact_owner_2', 'contact_phone', 'license_approved']]\n",
    "all_licenses_df.head()"
   ]
  },
  {
   "cell_type": "code",
   "execution_count": null,
   "metadata": {},
   "outputs": [],
   "source": []
  },
  {
   "cell_type": "code",
   "execution_count": null,
   "metadata": {},
   "outputs": [],
   "source": []
  },
  {
   "cell_type": "markdown",
   "metadata": {},
   "source": [
    "### Add Data from SQL"
   ]
  },
  {
   "cell_type": "code",
   "execution_count": null,
   "metadata": {},
   "outputs": [],
   "source": []
  },
  {
   "cell_type": "code",
   "execution_count": null,
   "metadata": {},
   "outputs": [],
   "source": [
    "old_sql_roll = pd.read_sql('mo_roll', con=engine_con)"
   ]
  },
  {
   "cell_type": "code",
   "execution_count": null,
   "metadata": {},
   "outputs": [],
   "source": [
    "all_licenses_df = all_licenses_df.drop(columns='roll_up_id').drop(columns='company_roll_up')"
   ]
  },
  {
   "cell_type": "code",
   "execution_count": null,
   "metadata": {},
   "outputs": [],
   "source": [
    "all_licenses_df = all_licenses_df.merge(old_sql_roll, how='left', on='license_number')"
   ]
  },
  {
   "cell_type": "code",
   "execution_count": null,
   "metadata": {},
   "outputs": [],
   "source": [
    "all_licenses_df = all_licenses_df[['license_number', 'license_description', 'name_legal', 'roll_up_id', 'company_roll_up', \n",
    "                                   'contact_city', 'contact_state', 'contact_zip', 'contact_owner_1', 'contact_owner_2',\n",
    "                                   'contact_phone', 'license_approved']]\n",
    "\n",
    "all_licenses_df['is_current'] = 1"
   ]
  },
  {
   "cell_type": "code",
   "execution_count": null,
   "metadata": {},
   "outputs": [],
   "source": [
    "all_licenses_df.head()"
   ]
  },
  {
   "cell_type": "code",
   "execution_count": null,
   "metadata": {},
   "outputs": [],
   "source": []
  },
  {
   "cell_type": "code",
   "execution_count": null,
   "metadata": {},
   "outputs": [],
   "source": []
  },
  {
   "cell_type": "markdown",
   "metadata": {},
   "source": [
    "### Send to CSV to add Roll Up Info"
   ]
  },
  {
   "cell_type": "code",
   "execution_count": null,
   "metadata": {},
   "outputs": [],
   "source": []
  },
  {
   "cell_type": "code",
   "execution_count": null,
   "metadata": {},
   "outputs": [],
   "source": [
    "all_licenses_df.to_csv(f'edited_files/df_to_edit_{today_year}{today_month}{today_day}.csv', index=False)"
   ]
  },
  {
   "cell_type": "code",
   "execution_count": null,
   "metadata": {},
   "outputs": [],
   "source": []
  },
  {
   "cell_type": "code",
   "execution_count": null,
   "metadata": {},
   "outputs": [],
   "source": []
  },
  {
   "cell_type": "code",
   "execution_count": null,
   "metadata": {},
   "outputs": [],
   "source": []
  },
  {
   "cell_type": "code",
   "execution_count": null,
   "metadata": {},
   "outputs": [],
   "source": [
    "if sum(pd.read_csv(f'edited_files/df_to_edit_{today_year}{today_month}{today_day}.csv')['company_roll_up'].isnull()) == 0:\n",
    "    df_comp_roll_added = pd.read_csv(f'edited_files/df_to_edit_{today_year}{today_month}{today_day}.csv')\n",
    "else:\n",
    "    print(error)"
   ]
  },
  {
   "cell_type": "code",
   "execution_count": null,
   "metadata": {},
   "outputs": [],
   "source": []
  },
  {
   "cell_type": "code",
   "execution_count": null,
   "metadata": {},
   "outputs": [],
   "source": []
  },
  {
   "cell_type": "markdown",
   "metadata": {},
   "source": [
    "### Add roll_up_ids"
   ]
  },
  {
   "cell_type": "code",
   "execution_count": null,
   "metadata": {},
   "outputs": [],
   "source": []
  },
  {
   "cell_type": "code",
   "execution_count": null,
   "metadata": {},
   "outputs": [],
   "source": [
    "df_comp_roll_added['roll_up_id'] = df_comp_roll_added['roll_up_id'].fillna('')"
   ]
  },
  {
   "cell_type": "code",
   "execution_count": null,
   "metadata": {},
   "outputs": [],
   "source": []
  },
  {
   "cell_type": "code",
   "execution_count": null,
   "metadata": {},
   "outputs": [],
   "source": [
    "df_with_roll = df_comp_roll_added[df_comp_roll_added['roll_up_id'] != '']"
   ]
  },
  {
   "cell_type": "code",
   "execution_count": null,
   "metadata": {},
   "outputs": [],
   "source": [
    "df_without_roll = df_comp_roll_added[df_comp_roll_added['roll_up_id'] == '']"
   ]
  },
  {
   "cell_type": "code",
   "execution_count": null,
   "metadata": {},
   "outputs": [],
   "source": []
  },
  {
   "cell_type": "code",
   "execution_count": null,
   "metadata": {},
   "outputs": [],
   "source": [
    "new_comp_rolls = list(df_without_roll['company_roll_up'].unique())"
   ]
  },
  {
   "cell_type": "code",
   "execution_count": null,
   "metadata": {},
   "outputs": [],
   "source": [
    "new_roll_id = []"
   ]
  },
  {
   "cell_type": "code",
   "execution_count": null,
   "metadata": {},
   "outputs": [],
   "source": []
  },
  {
   "cell_type": "code",
   "execution_count": null,
   "metadata": {},
   "outputs": [],
   "source": [
    "max_roll = int(str(list(df_with_roll.sort_values(by='roll_up_id')['roll_up_id'])[-1])[-5:])"
   ]
  },
  {
   "cell_type": "code",
   "execution_count": null,
   "metadata": {},
   "outputs": [],
   "source": []
  },
  {
   "cell_type": "code",
   "execution_count": null,
   "metadata": {},
   "outputs": [],
   "source": [
    "for n in new_comp_rolls:\n",
    "    max_roll += 1\n",
    "    new_roll_id.append(max_roll)"
   ]
  },
  {
   "cell_type": "code",
   "execution_count": null,
   "metadata": {},
   "outputs": [],
   "source": []
  },
  {
   "cell_type": "code",
   "execution_count": null,
   "metadata": {},
   "outputs": [],
   "source": []
  },
  {
   "cell_type": "code",
   "execution_count": null,
   "metadata": {},
   "outputs": [],
   "source": [
    "for n in range(len(new_comp_rolls)):\n",
    "    location_list = list(df_without_roll[df_comp_roll_added['company_roll_up'] == new_comp_rolls[n]].index)\n",
    "    for x in location_list:\n",
    "        df_without_roll['roll_up_id'][x] = new_roll_id[n]"
   ]
  },
  {
   "cell_type": "code",
   "execution_count": null,
   "metadata": {},
   "outputs": [],
   "source": []
  },
  {
   "cell_type": "code",
   "execution_count": null,
   "metadata": {},
   "outputs": [],
   "source": [
    "list(df_without_roll.index)"
   ]
  },
  {
   "cell_type": "code",
   "execution_count": null,
   "metadata": {},
   "outputs": [],
   "source": [
    "new_roll_id_with_mo = []\n",
    "for n in list(df_without_roll.index):\n",
    "    roll_string = str(df_without_roll['roll_up_id'][n])\n",
    "    while len(roll_string) < 5:\n",
    "        roll_string = '0' + roll_string\n",
    "    roll_string = 'MO-' + roll_string\n",
    "    new_roll_id_with_mo.append(roll_string)\n",
    "df_without_roll['roll_up_id'] = new_roll_id_with_mo"
   ]
  },
  {
   "cell_type": "code",
   "execution_count": null,
   "metadata": {},
   "outputs": [],
   "source": []
  },
  {
   "cell_type": "code",
   "execution_count": null,
   "metadata": {},
   "outputs": [],
   "source": [
    "df_without_roll"
   ]
  },
  {
   "cell_type": "code",
   "execution_count": null,
   "metadata": {},
   "outputs": [],
   "source": []
  },
  {
   "cell_type": "code",
   "execution_count": null,
   "metadata": {},
   "outputs": [],
   "source": [
    "df_total = df_with_roll.append(df_without_roll).sort_index()"
   ]
  },
  {
   "cell_type": "code",
   "execution_count": null,
   "metadata": {},
   "outputs": [],
   "source": [
    "df_total"
   ]
  },
  {
   "cell_type": "code",
   "execution_count": null,
   "metadata": {},
   "outputs": [],
   "source": []
  },
  {
   "cell_type": "code",
   "execution_count": null,
   "metadata": {},
   "outputs": [],
   "source": []
  },
  {
   "cell_type": "markdown",
   "metadata": {},
   "source": [
    "### Compare to SQL"
   ]
  },
  {
   "cell_type": "code",
   "execution_count": null,
   "metadata": {},
   "outputs": [],
   "source": [
    "old_sql_main = pd.read_sql('mo_main', con=engine_con)"
   ]
  },
  {
   "cell_type": "code",
   "execution_count": null,
   "metadata": {},
   "outputs": [],
   "source": [
    "new_lic_list = []\n",
    "no_longer_current_list = []\n",
    "\n",
    "for lic in list(df_total['license_number']):\n",
    "    if lic not in list(old_sql_main['license_number']):\n",
    "        new_lic_list.append(lic)\n",
    "        \n",
    "for lic in list(old_sql_main['license_number']):\n",
    "    if lic not in list(df_total['license_number']):\n",
    "        no_longer_current_list.append(lic)"
   ]
  },
  {
   "cell_type": "code",
   "execution_count": null,
   "metadata": {},
   "outputs": [],
   "source": []
  },
  {
   "cell_type": "code",
   "execution_count": null,
   "metadata": {},
   "outputs": [],
   "source": [
    "df_for_sql = df_total[df_total['license_number'].isin(new_lic_list)]"
   ]
  },
  {
   "cell_type": "code",
   "execution_count": null,
   "metadata": {},
   "outputs": [],
   "source": [
    "df_for_sql"
   ]
  },
  {
   "cell_type": "code",
   "execution_count": null,
   "metadata": {},
   "outputs": [],
   "source": []
  },
  {
   "cell_type": "code",
   "execution_count": null,
   "metadata": {},
   "outputs": [],
   "source": []
  },
  {
   "cell_type": "code",
   "execution_count": null,
   "metadata": {},
   "outputs": [],
   "source": [
    "df_not_current = old_sql_main[old_sql_main['license_number'].isin(no_longer_current_list)]"
   ]
  },
  {
   "cell_type": "code",
   "execution_count": null,
   "metadata": {},
   "outputs": [],
   "source": [
    "df_not_current['is_current'] = 0"
   ]
  },
  {
   "cell_type": "code",
   "execution_count": null,
   "metadata": {},
   "outputs": [],
   "source": []
  },
  {
   "cell_type": "code",
   "execution_count": null,
   "metadata": {},
   "outputs": [],
   "source": [
    "df_with_not_current = df_total.append(df_not_current)[['license_number', 'license_description', 'name_legal', 'license_approved', 'is_current']]"
   ]
  },
  {
   "cell_type": "code",
   "execution_count": null,
   "metadata": {},
   "outputs": [],
   "source": [
    "df_with_not_current['is_current'] = df_with_not_current['is_current'].fillna(1).astype(int)"
   ]
  },
  {
   "cell_type": "code",
   "execution_count": null,
   "metadata": {},
   "outputs": [],
   "source": [
    "df_with_not_current"
   ]
  },
  {
   "cell_type": "code",
   "execution_count": null,
   "metadata": {},
   "outputs": [],
   "source": []
  },
  {
   "cell_type": "markdown",
   "metadata": {},
   "source": [
    "### Seperate for SQL"
   ]
  },
  {
   "cell_type": "code",
   "execution_count": null,
   "metadata": {},
   "outputs": [],
   "source": []
  },
  {
   "cell_type": "code",
   "execution_count": null,
   "metadata": {},
   "outputs": [],
   "source": [
    "mo_main_for_sql = df_for_sql[['license_number', 'name_legal', 'license_description', 'license_approved', 'is_current']]"
   ]
  },
  {
   "cell_type": "code",
   "execution_count": null,
   "metadata": {},
   "outputs": [],
   "source": [
    "mo_roll_for_sql = df_for_sql[['license_number', 'roll_up_id', 'company_roll_up']]"
   ]
  },
  {
   "cell_type": "code",
   "execution_count": null,
   "metadata": {},
   "outputs": [],
   "source": [
    "mo_contact_for_sql = df_for_sql[['license_number', 'contact_owner_1', 'contact_owner_2', 'contact_phone', 'contact_city', 'contact_zip', 'contact_state']]"
   ]
  },
  {
   "cell_type": "code",
   "execution_count": null,
   "metadata": {},
   "outputs": [],
   "source": []
  },
  {
   "cell_type": "code",
   "execution_count": null,
   "metadata": {},
   "outputs": [],
   "source": [
    "mo_main_for_sql.to_sql('mo_main', con=engine_con, index=False, if_exists='append')"
   ]
  },
  {
   "cell_type": "code",
   "execution_count": null,
   "metadata": {},
   "outputs": [],
   "source": [
    "mo_roll_for_sql.to_sql('mo_roll', con=engine_con, index=False, if_exists='append')"
   ]
  },
  {
   "cell_type": "code",
   "execution_count": null,
   "metadata": {},
   "outputs": [],
   "source": [
    "mo_contact_for_sql.to_sql('mo_contact', con=engine_con, index=False, if_exists='append')"
   ]
  },
  {
   "cell_type": "code",
   "execution_count": null,
   "metadata": {},
   "outputs": [],
   "source": []
  },
  {
   "cell_type": "code",
   "execution_count": null,
   "metadata": {},
   "outputs": [],
   "source": []
  },
  {
   "cell_type": "markdown",
   "metadata": {},
   "source": [
    "### Creating and Running main_alter"
   ]
  },
  {
   "cell_type": "code",
   "execution_count": null,
   "metadata": {},
   "outputs": [],
   "source": []
  },
  {
   "cell_type": "code",
   "execution_count": null,
   "metadata": {},
   "outputs": [],
   "source": [
    "mo_main_sql_for_alter = pd.read_sql('mo_main', con=engine_con)"
   ]
  },
  {
   "cell_type": "code",
   "execution_count": null,
   "metadata": {},
   "outputs": [],
   "source": []
  },
  {
   "cell_type": "code",
   "execution_count": null,
   "metadata": {},
   "outputs": [],
   "source": []
  },
  {
   "cell_type": "code",
   "execution_count": null,
   "metadata": {},
   "outputs": [],
   "source": [
    "to_alter_list = []\n",
    "\n",
    "for lic in list(df_with_not_current['license_number'].unique()):\n",
    "    if list(mo_main_sql_for_alter[mo_main_sql_for_alter['license_number'] == lic]['is_current'])[0] != list(df_with_not_current[df_with_not_current['license_number'] == lic]['is_current'])[0]:\n",
    "        print(lic, 'current')\n",
    "        to_alter_list.append(lic)\n",
    "    elif list(mo_main_sql_for_alter[mo_main_sql_for_alter['license_number'] == lic]['license_approved'])[0] != list(df_with_not_current[df_with_not_current['license_number'] == lic]['license_approved'])[0]:\n",
    "        print(lic, 'approved')\n",
    "        to_alter_list.append(lic)\n",
    "    elif list(mo_main_sql_for_alter[mo_main_sql_for_alter['license_number'] == lic]['license_description'])[0] != list(df_with_not_current[df_with_not_current['license_number'] == lic]['license_description'])[0]:\n",
    "        print(lic, 'type')\n",
    "        to_alter_list.append(lic)"
   ]
  },
  {
   "cell_type": "code",
   "execution_count": null,
   "metadata": {},
   "outputs": [],
   "source": []
  },
  {
   "cell_type": "code",
   "execution_count": null,
   "metadata": {},
   "outputs": [],
   "source": [
    "mo_main_alter = df_with_not_current[df_with_not_current['license_number'].isin(to_alter_list)]"
   ]
  },
  {
   "cell_type": "code",
   "execution_count": null,
   "metadata": {},
   "outputs": [],
   "source": [
    "mo_main_alter"
   ]
  },
  {
   "cell_type": "code",
   "execution_count": null,
   "metadata": {},
   "outputs": [],
   "source": []
  },
  {
   "cell_type": "code",
   "execution_count": null,
   "metadata": {},
   "outputs": [],
   "source": [
    "mo_main_alter.to_sql('mo_main_alter', con=engine_con, index=False, if_exists='replace')"
   ]
  },
  {
   "cell_type": "code",
   "execution_count": null,
   "metadata": {},
   "outputs": [],
   "source": []
  },
  {
   "cell_type": "code",
   "execution_count": null,
   "metadata": {},
   "outputs": [],
   "source": [
    "# This code runs the query noramally run in SQL to update mo_main using mo_main_alter\n",
    "\n",
    "mo_conn = pyodbc.connect('DRIVER={ODBC Driver 17 for SQL Server};'\n",
    "                      'SERVER=bespoke-database-1.cmevrozrcs7c.us-west-2.rds.amazonaws.com;'\n",
    "                      'DATABASE=mo_cannabis;'\n",
    "                      'UID=admin;'\n",
    "                      'PWD=N19lrqxnurTUJLJT6GFe;')\n",
    "\n",
    "mo_cursor = mo_conn.cursor()\n",
    "\n",
    "mo_cursor.execute('SELECT * FROM mo_cannabis.dbo.mo_main')\n",
    "\n",
    "mo_cursor.execute('''\n",
    "Update t1\n",
    "SET t1.[license_description] = t2.[license_description],\n",
    "    t1.[license_approved] = t2.[license_approved],\n",
    "    t1.[is_current] = t2.[is_current]\n",
    "    \n",
    "FROM [mo_cannabis].[dbo].[mo_main] as t1\n",
    "INNER JOIN [mo_cannabis].[dbo].[mo_main_alter] as t2\n",
    "ON t1.[license_number] = t2.[license_number];\n",
    "                  ''')\n",
    "\n",
    "mo_conn.commit()"
   ]
  },
  {
   "cell_type": "code",
   "execution_count": null,
   "metadata": {},
   "outputs": [],
   "source": []
  },
  {
   "cell_type": "code",
   "execution_count": null,
   "metadata": {},
   "outputs": [],
   "source": []
  },
  {
   "cell_type": "markdown",
   "metadata": {},
   "source": [
    "### all_main"
   ]
  },
  {
   "cell_type": "code",
   "execution_count": null,
   "metadata": {},
   "outputs": [],
   "source": []
  },
  {
   "cell_type": "code",
   "execution_count": null,
   "metadata": {},
   "outputs": [],
   "source": [
    "mo_main_for_all_main = pd.read_sql('mo_main', con=engine_con)\n",
    "mo_roll_for_all_main = pd.read_sql('mo_roll', con=engine_con)"
   ]
  },
  {
   "cell_type": "code",
   "execution_count": null,
   "metadata": {},
   "outputs": [],
   "source": [
    "mo_for_all_main = mo_main_for_all_main.merge(mo_roll_for_all_main, on='license_number')"
   ]
  },
  {
   "cell_type": "code",
   "execution_count": null,
   "metadata": {},
   "outputs": [],
   "source": [
    "mo_for_all_main"
   ]
  },
  {
   "cell_type": "code",
   "execution_count": null,
   "metadata": {},
   "outputs": [],
   "source": []
  },
  {
   "cell_type": "code",
   "execution_count": null,
   "metadata": {},
   "outputs": [],
   "source": [
    "# This creates the connection to the all_main file in SQL\n",
    "\n",
    "all_cannabis_params = urllib.parse.quote_plus(\"DRIVER={ODBC Driver 17 for SQL Server};\"\n",
    "                                 \"SERVER=bespoke-database-1.cmevrozrcs7c.us-west-2.rds.amazonaws.com;\"\n",
    "                                 \"DATABASE=all_cannabis;\"\n",
    "                                 \"UID=admin;\"\n",
    "                                 \"PWD=N19lrqxnurTUJLJT6GFe\")\n",
    "all_cannabis_con = create_engine(\"mssql+pyodbc:///?odbc_connect={}\".format(all_cannabis_params))"
   ]
  },
  {
   "cell_type": "code",
   "execution_count": null,
   "metadata": {},
   "outputs": [],
   "source": [
    "# This reads in the all_main data and narrows it down to the relevent data\n",
    "all_main_sql = pd.read_sql('all_main', con=all_cannabis_con)\n",
    "all_main_sql_mo = all_main_sql[all_main_sql['us_state'] == 'MO']\n",
    "all_main_sql_mo = all_main_sql_mo.reset_index().drop(columns='index')"
   ]
  },
  {
   "cell_type": "code",
   "execution_count": null,
   "metadata": {},
   "outputs": [],
   "source": []
  },
  {
   "cell_type": "code",
   "execution_count": null,
   "metadata": {},
   "outputs": [],
   "source": [
    "mo_for_all_main['license_status'] = mo_for_all_main['license_approved'].replace({1: 'Active', 0:'Inactive'})\n",
    "mo_for_all_main['us_state'] = 'MO'\n",
    "mo_for_all_main['license_category'] = mo_for_all_main['license_description']\n",
    "mo_for_all_main['expiration_date'] = None"
   ]
  },
  {
   "cell_type": "code",
   "execution_count": null,
   "metadata": {},
   "outputs": [],
   "source": [
    "mo_for_all_main = mo_for_all_main[['license_number', 'name_legal', 'roll_up_id', 'license_status', 'is_current', 'license_description', 'us_state', 'license_category', 'expiration_date']]\n",
    "mo_for_all_main['license_category'].value_counts()"
   ]
  },
  {
   "cell_type": "code",
   "execution_count": null,
   "metadata": {},
   "outputs": [],
   "source": [
    "mo_for_all_main['license_category'] = mo_for_all_main['license_category'].replace({'Dispensary': 'Retailer', 'Cultivation': 'Cultivator', 'Manufacturing': 'Manufacturer'})"
   ]
  },
  {
   "cell_type": "code",
   "execution_count": null,
   "metadata": {},
   "outputs": [],
   "source": [
    "mo_for_all_main_cleaned = mo_for_all_main.rename(columns={'roll_up_id': 'rollup_id', 'name_legal': 'legal_name'})"
   ]
  },
  {
   "cell_type": "code",
   "execution_count": null,
   "metadata": {},
   "outputs": [],
   "source": [
    "# This prevents duplicates\n",
    "mo_for_all_main_cleaned = mo_for_all_main_cleaned[~mo_for_all_main_cleaned['license_number'].isin(all_main_sql_mo['license_number'].unique())]"
   ]
  },
  {
   "cell_type": "code",
   "execution_count": null,
   "metadata": {},
   "outputs": [],
   "source": [
    "mo_for_all_main_cleaned"
   ]
  },
  {
   "cell_type": "code",
   "execution_count": null,
   "metadata": {},
   "outputs": [],
   "source": []
  },
  {
   "cell_type": "code",
   "execution_count": null,
   "metadata": {},
   "outputs": [],
   "source": [
    "mo_for_all_main_cleaned.to_sql('all_main', con=all_cannabis_con, index=False, if_exists='append')"
   ]
  },
  {
   "cell_type": "code",
   "execution_count": null,
   "metadata": {},
   "outputs": [],
   "source": []
  },
  {
   "cell_type": "code",
   "execution_count": null,
   "metadata": {},
   "outputs": [],
   "source": []
  },
  {
   "cell_type": "markdown",
   "metadata": {},
   "source": [
    "### Alter all_main"
   ]
  },
  {
   "cell_type": "code",
   "execution_count": null,
   "metadata": {},
   "outputs": [],
   "source": []
  },
  {
   "cell_type": "code",
   "execution_count": null,
   "metadata": {},
   "outputs": [],
   "source": []
  },
  {
   "cell_type": "code",
   "execution_count": null,
   "metadata": {},
   "outputs": [],
   "source": []
  },
  {
   "cell_type": "code",
   "execution_count": null,
   "metadata": {},
   "outputs": [],
   "source": []
  },
  {
   "cell_type": "code",
   "execution_count": null,
   "metadata": {},
   "outputs": [],
   "source": []
  },
  {
   "cell_type": "code",
   "execution_count": null,
   "metadata": {},
   "outputs": [],
   "source": []
  },
  {
   "cell_type": "code",
   "execution_count": null,
   "metadata": {},
   "outputs": [],
   "source": [
    "mo_for_all_main_cleaned"
   ]
  },
  {
   "cell_type": "code",
   "execution_count": null,
   "metadata": {},
   "outputs": [],
   "source": []
  },
  {
   "cell_type": "markdown",
   "metadata": {},
   "source": [
    "### Bespoke Metabase"
   ]
  },
  {
   "cell_type": "code",
   "execution_count": null,
   "metadata": {},
   "outputs": [],
   "source": []
  },
  {
   "cell_type": "code",
   "execution_count": null,
   "metadata": {},
   "outputs": [],
   "source": [
    "new_main = mo_for_all_main_cleaned"
   ]
  },
  {
   "cell_type": "code",
   "execution_count": null,
   "metadata": {},
   "outputs": [],
   "source": []
  },
  {
   "cell_type": "code",
   "execution_count": null,
   "metadata": {},
   "outputs": [],
   "source": [
    "new_main"
   ]
  },
  {
   "cell_type": "code",
   "execution_count": null,
   "metadata": {},
   "outputs": [],
   "source": [
    "new_main.shape"
   ]
  },
  {
   "cell_type": "code",
   "execution_count": null,
   "metadata": {},
   "outputs": [],
   "source": []
  },
  {
   "cell_type": "code",
   "execution_count": null,
   "metadata": {},
   "outputs": [],
   "source": [
    "new_main['expiration_date'] = new_main['expiration_date'].replace({None: np.nan})"
   ]
  },
  {
   "cell_type": "code",
   "execution_count": null,
   "metadata": {},
   "outputs": [],
   "source": [
    "new_main = new_main.reset_index().drop(columns='index')"
   ]
  },
  {
   "cell_type": "code",
   "execution_count": null,
   "metadata": {},
   "outputs": [],
   "source": []
  },
  {
   "cell_type": "code",
   "execution_count": null,
   "metadata": {},
   "outputs": [],
   "source": [
    "print(stop)"
   ]
  },
  {
   "cell_type": "code",
   "execution_count": null,
   "metadata": {},
   "outputs": [],
   "source": []
  },
  {
   "cell_type": "code",
   "execution_count": null,
   "metadata": {
    "scrolled": false
   },
   "outputs": [],
   "source": [
    "num_of_lic_sent = 0\n",
    "    \n",
    "state = 'MA'\n",
    "\n",
    "while len(new_main) - num_of_lic_sent >= 10:\n",
    "    \n",
    "    n = num_of_lic_sent\n",
    "    \n",
    "    if new_main['is_current'].iloc[n] == 1:\n",
    "        is_current_1 = True\n",
    "    else:\n",
    "        is_current_1 = False\n",
    "            \n",
    "    if new_main['is_current'].iloc[n+1] == 1:\n",
    "        is_current_2 = True\n",
    "    else:\n",
    "        is_current_2 = False\n",
    "            \n",
    "    if new_main['is_current'].iloc[n+2] == 1:\n",
    "        is_current_3 = True\n",
    "    else:\n",
    "        is_current_3 = False\n",
    "            \n",
    "    if new_main['is_current'].iloc[n+3] == 1:\n",
    "        is_current_4 = True\n",
    "    else:\n",
    "        is_current_4 = False\n",
    "            \n",
    "    if new_main['is_current'].iloc[n+4] == 1:\n",
    "        is_current_5 = True\n",
    "    else:\n",
    "        is_current_5 = False\n",
    "            \n",
    "    if new_main['is_current'].iloc[n+5] == 1:\n",
    "        is_current_6 = True\n",
    "    else:\n",
    "        is_current_6 = False\n",
    "            \n",
    "    if new_main['is_current'].iloc[n+6] == 1:\n",
    "        is_current_7 = True\n",
    "    else:\n",
    "        is_current_7 = False\n",
    "            \n",
    "    if new_main['is_current'].iloc[n+7] == 1:\n",
    "        is_current_8 = True\n",
    "    else:\n",
    "        is_current_8 = False\n",
    "            \n",
    "    if new_main['is_current'].iloc[n+8] == 1:\n",
    "        is_current_9 = True\n",
    "    else:\n",
    "        is_current_9 = False\n",
    "            \n",
    "    if new_main['is_current'].iloc[n+9] == 1:\n",
    "        is_current_10 = True\n",
    "    else:\n",
    "        is_current_10 = False\n",
    "            \n",
    "\n",
    "    requests.post(\n",
    "#             'https://bespoke-api-server-staging.herokuapp.com/api/v1/licenses/bulk_update_licenses',\n",
    "            'https://bespoke-api-server-production.herokuapp.com/api/v1/licenses/bulk_update_licenses',\n",
    "            json= {\n",
    "          'company_licenses': [\n",
    "              \n",
    "              {\n",
    "            'license_number': new_main['license_number'][n],\n",
    "            'rollup_id': new_main['rollup_id'][n],\n",
    "            'legal_name': new_main['legal_name'][n],\n",
    "            'license_status': new_main['license_status'][n],\n",
    "            'is_current': is_current_1,\n",
    "            'license_description': new_main['license_description'][n],\n",
    "            'us_state': state,\n",
    "            'expiration_date': None,\n",
    "            'license_category': new_main['license_category'][n]\n",
    "            },\n",
    "            \n",
    "              \n",
    "              {\n",
    "            'license_number': new_main['license_number'][n+1],\n",
    "            'rollup_id': new_main['rollup_id'][n+1],\n",
    "            'legal_name': new_main['legal_name'][n+1],\n",
    "            'license_status': new_main['license_status'][n+1],\n",
    "            'is_current': is_current_2,\n",
    "            'license_description': new_main['license_description'][n+1],\n",
    "            'us_state': state,\n",
    "            'expiration_date': None,\n",
    "            'license_category': new_main['license_category'][n+1]\n",
    "            },\n",
    "              \n",
    "              \n",
    "              {\n",
    "            'license_number': new_main['license_number'][n+2],\n",
    "            'rollup_id': new_main['rollup_id'][n+2],\n",
    "            'legal_name': new_main['legal_name'][n+2],\n",
    "            'license_status': new_main['license_status'][n+2],\n",
    "            'is_current': is_current_3,\n",
    "            'license_description': new_main['license_description'][n+2],\n",
    "            'us_state': state,\n",
    "            'expiration_date': None,\n",
    "            'license_category': new_main['license_category'][n+2]\n",
    "            },\n",
    "\n",
    "              \n",
    "              {\n",
    "            'license_number': new_main['license_number'][n+3],\n",
    "            'rollup_id': new_main['rollup_id'][n+3],\n",
    "            'legal_name': new_main['legal_name'][n+3],\n",
    "            'license_status': new_main['license_status'][n+3],\n",
    "            'is_current': is_current_4,\n",
    "            'license_description': new_main['license_description'][n+3],\n",
    "            'us_state': state,\n",
    "            'expiration_date': None,\n",
    "            'license_category': new_main['license_category'][n+3]\n",
    "            },\n",
    "              \n",
    "              \n",
    "              {\n",
    "            'license_number': new_main['license_number'][n+4],\n",
    "            'rollup_id': new_main['rollup_id'][n+4],\n",
    "            'legal_name': new_main['legal_name'][n+4],\n",
    "            'license_status': new_main['license_status'][n+4],\n",
    "            'is_current': is_current_5,\n",
    "            'license_description': new_main['license_description'][n+4],\n",
    "            'us_state': state,\n",
    "            'expiration_date': None,\n",
    "            'license_category': new_main['license_category'][n+4]\n",
    "            },\n",
    "              \n",
    "              \n",
    "              {\n",
    "            'license_number': new_main['license_number'][n+5],\n",
    "            'rollup_id': new_main['rollup_id'][n+5],\n",
    "            'legal_name': new_main['legal_name'][n+5],\n",
    "            'license_status': new_main['license_status'][n+5],\n",
    "            'is_current': is_current_6,\n",
    "            'license_description': new_main['license_description'][n+5],\n",
    "            'us_state': state,\n",
    "            'expiration_date': None,\n",
    "            'license_category': new_main['license_category'][n+5]\n",
    "            },\n",
    "\n",
    "              \n",
    "              {\n",
    "            'license_number': new_main['license_number'][n+6],\n",
    "            'rollup_id': new_main['rollup_id'][n+6],\n",
    "            'legal_name': new_main['legal_name'][n+6],\n",
    "            'license_status': new_main['license_status'][n+6],\n",
    "            'is_current': is_current_7,\n",
    "            'license_description': new_main['license_description'][n+6],\n",
    "            'us_state': state,\n",
    "            'expiration_date': None,\n",
    "            'license_category': new_main['license_category'][n+6]\n",
    "            },\n",
    "              \n",
    "              \n",
    "              {\n",
    "            'license_number': new_main['license_number'][n+7],\n",
    "            'rollup_id': new_main['rollup_id'][n+7],\n",
    "            'legal_name': new_main['legal_name'][n+7],\n",
    "            'license_status': new_main['license_status'][n+7],\n",
    "            'is_current': is_current_8,\n",
    "            'license_description': new_main['license_description'][n+7],\n",
    "            'us_state': state,\n",
    "            'expiration_date': None,\n",
    "            'license_category': new_main['license_category'][n+7]\n",
    "            },\n",
    "              \n",
    "              \n",
    "              {\n",
    "            'license_number': new_main['license_number'][n+8],\n",
    "            'rollup_id': new_main['rollup_id'][n+8],\n",
    "            'legal_name': new_main['legal_name'][n+8],\n",
    "            'license_status': new_main['license_status'][n+8],\n",
    "            'is_current': is_current_9,\n",
    "            'license_description': new_main['license_description'][n+8],\n",
    "            'us_state': state,\n",
    "            'expiration_date': None,\n",
    "            'license_category': new_main['license_category'][n+8]\n",
    "            },\n",
    "\n",
    "              \n",
    "              {\n",
    "            'license_number': new_main['license_number'][n+9],\n",
    "            'rollup_id': new_main['rollup_id'][n+9],\n",
    "            'legal_name': new_main['legal_name'][n+9],\n",
    "            'license_status': new_main['license_status'][n+9],\n",
    "            'is_current': is_current_10,\n",
    "            'license_description': new_main['license_description'][n+9],\n",
    "            'us_state': state,\n",
    "            'expiration_date': None,\n",
    "            'license_category': new_main['license_category'][n+9]\n",
    "            },\n",
    "\n",
    "              \n",
    "          ],\n",
    "        },\n",
    "            headers={'x-api-key': 'ASYNC-SERVER-API-KEY-6Lfy84qn9ew93ZwMXSYhdwqj'}\n",
    "#             {'x-api-key': '80030179832729980933'}\n",
    "        )\n",
    "        \n",
    "    num_of_lic_sent += 10\n",
    "        \n",
    "    print(num_of_lic_sent)\n",
    "        \n",
    "    sleep(10)\n",
    "        \n",
    "            \n",
    "for n in range(num_of_lic_sent, len(new_main)):\n",
    "    \n",
    "    if new_main['is_current'].iloc[n] == 1:\n",
    "        is_current_1 = True\n",
    "    else:\n",
    "        is_current_1 = False\n",
    "                    \n",
    "                    \n",
    "    requests.post(\n",
    "#                 'https://bespoke-api-server-staging.herokuapp.com/api/v1/licenses/bulk_update_licenses', \n",
    "                'https://bespoke-api-server-production.herokuapp.com/api/v1/licenses/bulk_update_licenses',\n",
    "                json= {\n",
    "                'company_licenses': [\n",
    "              \n",
    "                                      {\n",
    "                                    'license_number': new_main['license_number'].iloc[n],\n",
    "                                    'rollup_id': new_main['rollup_id'].iloc[n],\n",
    "                                    'legal_name': new_main['legal_name'].iloc[n],\n",
    "                                    'license_status': new_main['license_status'].iloc[n],\n",
    "                                    'is_current': is_current_1,\n",
    "                                    'license_description': new_main['license_description'].iloc[n],\n",
    "                                    'us_state': state,\n",
    "                                    'expiration_date': None,\n",
    "                                    'license_category': new_main['license_category'].iloc[n]\n",
    "                                    },\n",
    "                                  ],\n",
    "                                },\n",
    "                                    headers={'x-api-key': 'ASYNC-SERVER-API-KEY-6Lfy84qn9ew93ZwMXSYhdwqj'}\n",
    "#                                             {'x-api-key': '80030179832729980933'}\n",
    "                                )\n",
    "    print(n)"
   ]
  },
  {
   "cell_type": "code",
   "execution_count": null,
   "metadata": {},
   "outputs": [],
   "source": []
  },
  {
   "cell_type": "code",
   "execution_count": null,
   "metadata": {},
   "outputs": [],
   "source": []
  },
  {
   "cell_type": "code",
   "execution_count": null,
   "metadata": {},
   "outputs": [],
   "source": [
    "new_main[new_main['is_current'] == 0]"
   ]
  },
  {
   "cell_type": "code",
   "execution_count": null,
   "metadata": {},
   "outputs": [],
   "source": []
  },
  {
   "cell_type": "code",
   "execution_count": null,
   "metadata": {},
   "outputs": [],
   "source": [
    "requests.post(\n",
    "#             'https://bespoke-api-server-staging.herokuapp.com/api/v1/licenses/bulk_update_licenses',\n",
    "            'https://bespoke-api-server-production.herokuapp.com/api/v1/licenses/bulk_update_licenses',\n",
    "            json= {\n",
    "          'company_licenses': [\n",
    "              \n",
    "              {\n",
    "            'license_number': 'DIS000091',\n",
    "            'rollup_id': 'MO-00013',\n",
    "            'legal_name': 'Astro Farms Gamma LLC',\n",
    "            'license_status': 'Active',\n",
    "            'is_current': True,\n",
    "            'license_description': 'Dispensary',\n",
    "            'us_state': 'MO',\n",
    "            'expiration_date': None,\n",
    "            'license_category': 'Retailer'\n",
    "            },\n",
    "        ],\n",
    "    },\n",
    "            headers={'x-api-key': 'ASYNC-SERVER-API-KEY-6Lfy84qn9ew93ZwMXSYhdwqj'}\n",
    "#             {'x-api-key': '80030179832729980933'}\n",
    "        )"
   ]
  },
  {
   "cell_type": "code",
   "execution_count": null,
   "metadata": {},
   "outputs": [],
   "source": []
  },
  {
   "cell_type": "code",
   "execution_count": null,
   "metadata": {},
   "outputs": [],
   "source": []
  },
  {
   "cell_type": "code",
   "execution_count": null,
   "metadata": {},
   "outputs": [],
   "source": []
  },
  {
   "cell_type": "code",
   "execution_count": null,
   "metadata": {},
   "outputs": [],
   "source": []
  },
  {
   "cell_type": "code",
   "execution_count": null,
   "metadata": {},
   "outputs": [],
   "source": [
    "new_main[new_main['license_number'] == 'DIS000091']"
   ]
  },
  {
   "cell_type": "code",
   "execution_count": null,
   "metadata": {},
   "outputs": [],
   "source": []
  },
  {
   "cell_type": "code",
   "execution_count": null,
   "metadata": {},
   "outputs": [],
   "source": []
  },
  {
   "cell_type": "code",
   "execution_count": null,
   "metadata": {},
   "outputs": [],
   "source": []
  },
  {
   "cell_type": "code",
   "execution_count": null,
   "metadata": {},
   "outputs": [],
   "source": []
  },
  {
   "cell_type": "code",
   "execution_count": null,
   "metadata": {},
   "outputs": [],
   "source": [
    "print(stop)"
   ]
  },
  {
   "cell_type": "code",
   "execution_count": null,
   "metadata": {},
   "outputs": [],
   "source": []
  },
  {
   "cell_type": "markdown",
   "metadata": {},
   "source": [
    "#### In Case Double Checking is Needed"
   ]
  },
  {
   "cell_type": "code",
   "execution_count": null,
   "metadata": {},
   "outputs": [],
   "source": []
  },
  {
   "cell_type": "code",
   "execution_count": null,
   "metadata": {},
   "outputs": [],
   "source": [
    "in_metabase = pd.read_json('query_result_2021-09-27T19_06_51.847Z.json')"
   ]
  },
  {
   "cell_type": "code",
   "execution_count": null,
   "metadata": {},
   "outputs": [],
   "source": []
  },
  {
   "cell_type": "code",
   "execution_count": null,
   "metadata": {},
   "outputs": [],
   "source": [
    "missing_list = []\n",
    "\n",
    "for lic in new_main['license_number'].unique():\n",
    "    if lic not in list(in_metabase['License Number'].unique()):\n",
    "        missing_list.append(lic)"
   ]
  },
  {
   "cell_type": "code",
   "execution_count": null,
   "metadata": {},
   "outputs": [],
   "source": []
  },
  {
   "cell_type": "code",
   "execution_count": null,
   "metadata": {},
   "outputs": [],
   "source": [
    "new_main = new_main[new_main['license_number'].isin(missing_list)]"
   ]
  },
  {
   "cell_type": "code",
   "execution_count": null,
   "metadata": {},
   "outputs": [],
   "source": []
  },
  {
   "cell_type": "code",
   "execution_count": null,
   "metadata": {},
   "outputs": [],
   "source": [
    "new_main"
   ]
  },
  {
   "cell_type": "code",
   "execution_count": null,
   "metadata": {},
   "outputs": [],
   "source": []
  }
 ],
 "metadata": {
  "kernelspec": {
   "display_name": "Python 3",
   "language": "python",
   "name": "python3"
  },
  "language_info": {
   "codemirror_mode": {
    "name": "ipython",
    "version": 3
   },
   "file_extension": ".py",
   "mimetype": "text/x-python",
   "name": "python",
   "nbconvert_exporter": "python",
   "pygments_lexer": "ipython3",
   "version": "3.7.3"
  }
 },
 "nbformat": 4,
 "nbformat_minor": 2
}
