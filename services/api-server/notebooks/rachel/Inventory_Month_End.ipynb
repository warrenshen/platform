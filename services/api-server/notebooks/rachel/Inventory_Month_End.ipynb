{
 "cells": [
  {
   "cell_type": "code",
   "execution_count": null,
   "id": "e5481ef2",
   "metadata": {},
   "outputs": [],
   "source": [
    "# Steps to install\n",
    "# 1. pip install sqlalchemy-bigquery \n",
    "    #google-cloud-bigquery-storage \n",
    "    #pyarrow\n",
    "# 2. Copy the credentials file to wherever you set BIGQUERY_CREDENTIALS_PATH to"
   ]
  },
  {
   "cell_type": "code",
   "execution_count": null,
   "id": "a9ed957a",
   "metadata": {},
   "outputs": [],
   "source": [
    "import json\n",
    "import os\n",
    "import pandas as pd\n",
    "import pyarrow\n",
    "\n",
    "import sys\n",
    "from os import path\n",
    "import numpy\n",
    "\n",
    "from dotenv import load_dotenv\n",
    "from sqlalchemy import create_engine\n",
    "\n",
    "\n",
    "load_dotenv(verbose=True)\n",
    "BIGQUERY_CREDENTIALS_PATH = os.environ.get('BIGQUERY_CREDENTIALS_PATH')"
   ]
  },
  {
   "cell_type": "code",
   "execution_count": null,
   "id": "447e2730",
   "metadata": {},
   "outputs": [],
   "source": [
    "sys.path.append(path.realpath(path.join(os.getcwd(), \"../core\")))\n",
    "import create_queries\n",
    "%load_ext autoreload\n",
    "%autoreload 2"
   ]
  },
  {
   "cell_type": "code",
   "execution_count": null,
   "id": "b953f1f5",
   "metadata": {},
   "outputs": [],
   "source": [
    "import prepare_data"
   ]
  },
  {
   "cell_type": "markdown",
   "id": "a6112f83",
   "metadata": {},
   "source": [
    "### Below edit for customer abbreviation and today's date"
   ]
  },
  {
   "cell_type": "code",
   "execution_count": null,
   "id": "bfbeadfb",
   "metadata": {},
   "outputs": [],
   "source": [
    "COMPANY_NAME = 'DP'\n",
    "COMPANY_IDENTIFIER = 'DP'\n",
    "\n",
    "\n",
    "INVENTORY_DATE = '10/28/2021'"
   ]
  },
  {
   "cell_type": "code",
   "execution_count": null,
   "id": "a2e70d81",
   "metadata": {},
   "outputs": [],
   "source": [
    "company_inventory_packages_query = create_queries.create_company_inventory_packages_query(COMPANY_IDENTIFIER)\n",
    "\n",
    "engine = create_engine('bigquery://bespoke-financial/ProdMetrcData', credentials_path=os.path.expanduser(BIGQUERY_CREDENTIALS_PATH))\n",
    "company_inventory_packages_dataframe = pd.read_sql_query(company_inventory_packages_query, engine)"
   ]
  },
  {
   "cell_type": "markdown",
   "id": "8701cc2c",
   "metadata": {},
   "source": [
    "## create code to upload inventory report to the inventory_month_end SQL table"
   ]
  },
  {
   "cell_type": "code",
   "execution_count": null,
   "id": "2d11bfbc",
   "metadata": {},
   "outputs": [],
   "source": []
  }
 ],
 "metadata": {
  "kernelspec": {
   "display_name": "Python 3 (ipykernel)",
   "language": "python",
   "name": "python3"
  },
  "language_info": {
   "codemirror_mode": {
    "name": "ipython",
    "version": 3
   },
   "file_extension": ".py",
   "mimetype": "text/x-python",
   "name": "python",
   "nbconvert_exporter": "python",
   "pygments_lexer": "ipython3",
   "version": "3.7.7"
  }
 },
 "nbformat": 4,
 "nbformat_minor": 5
}
