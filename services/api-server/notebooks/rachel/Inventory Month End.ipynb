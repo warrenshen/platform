{
 "cells": [
  {
   "cell_type": "code",
   "execution_count": null,
   "id": "e5481ef2",
   "metadata": {},
   "outputs": [],
   "source": [
    "# Steps to install\n",
    "# 1. pip install sqlalchemy-bigquery \n",
    "    #google-cloud-bigquery-storage \n",
    "    #pyarrow\n",
    "# 2. Copy the credentials file to wherever you set BIGQUERY_CREDENTIALS_PATH to"
   ]
  },
  {
   "cell_type": "code",
   "execution_count": null,
   "id": "a9ed957a",
   "metadata": {},
   "outputs": [],
   "source": [
    "import json\n",
    "import os\n",
    "import pandas as pd\n",
    "import pyarrow\n",
    "\n",
    "import sys\n",
    "from os import path\n",
    "import numpy\n",
    "\n",
    "from dotenv import load_dotenv\n",
    "from sqlalchemy import create_engine\n",
    "\n",
    "\n",
    "load_dotenv(verbose=True)\n",
    "BIGQUERY_CREDENTIALS_PATH = os.environ.get('BIGQUERY_CREDENTIALS_PATH')"
   ]
  },
  {
   "cell_type": "code",
   "execution_count": null,
   "id": "447e2730",
   "metadata": {},
   "outputs": [],
   "source": [
    "sys.path.append(path.realpath(path.join(os.getcwd(), \"../core\")))\n",
    "import create_queries\n",
    "%load_ext autoreload\n",
    "%autoreload 2"
   ]
  },
  {
   "cell_type": "code",
   "execution_count": null,
   "id": "b953f1f5",
   "metadata": {},
   "outputs": [],
   "source": [
    "import prepare_data"
   ]
  },
  {
   "cell_type": "code",
   "execution_count": null,
   "id": "e1165d26",
   "metadata": {},
   "outputs": [],
   "source": []
  },
  {
   "cell_type": "code",
   "execution_count": null,
   "id": "18290c6d",
   "metadata": {},
   "outputs": [],
   "source": []
  },
  {
   "cell_type": "markdown",
   "id": "a6112f83",
   "metadata": {},
   "source": [
    "### Below edit for customer abbreviation and today's date"
   ]
  },
  {
   "cell_type": "code",
   "execution_count": null,
   "id": "9d872dd1",
   "metadata": {},
   "outputs": [],
   "source": []
  },
  {
   "cell_type": "code",
   "execution_count": null,
   "id": "e9985ff8",
   "metadata": {},
   "outputs": [],
   "source": []
  },
  {
   "cell_type": "code",
   "execution_count": null,
   "id": "bfbeadfb",
   "metadata": {},
   "outputs": [],
   "source": [
    "COMPANY_NAME = 'DP'\n",
    "COMPANY_IDENTIFIER = 'DP'\n",
    "\n",
    "\n",
    "INVENTORY_DATE = '11/1/2021'"
   ]
  },
  {
   "cell_type": "code",
   "execution_count": null,
   "id": "a2e70d81",
   "metadata": {},
   "outputs": [],
   "source": [
    "company_inventory_packages_query = create_queries.create_company_inventory_packages_query(COMPANY_IDENTIFIER)\n",
    "\n",
    "engine = create_engine('bigquery://bespoke-financial/ProdMetrcData', credentials_path=os.path.expanduser(BIGQUERY_CREDENTIALS_PATH))\n",
    "company_inventory_packages_dataframe = pd.read_sql_query(company_inventory_packages_query, engine)"
   ]
  },
  {
   "cell_type": "code",
   "execution_count": null,
   "id": "12f22cce",
   "metadata": {},
   "outputs": [],
   "source": [
    "company_inventory_packages_dataframe['is_trade_sample'].value_counts()"
   ]
  },
  {
   "cell_type": "code",
   "execution_count": null,
   "id": "ed0a6b68",
   "metadata": {},
   "outputs": [],
   "source": []
  },
  {
   "cell_type": "markdown",
   "id": "8701cc2c",
   "metadata": {},
   "source": [
    "## create code to upload inventory report to the inventory_month_end SQL table"
   ]
  },
  {
   "cell_type": "code",
   "execution_count": null,
   "id": "15b54f8e",
   "metadata": {},
   "outputs": [],
   "source": []
  },
  {
   "cell_type": "code",
   "execution_count": null,
   "id": "0f6b17a4",
   "metadata": {},
   "outputs": [],
   "source": [
    "from sqlalchemy import create_engine\n",
    "import urllib\n",
    "import pyodbc\n",
    "import datetime as dt"
   ]
  },
  {
   "cell_type": "code",
   "execution_count": null,
   "id": "67d5f5ad",
   "metadata": {},
   "outputs": [],
   "source": []
  },
  {
   "cell_type": "code",
   "execution_count": null,
   "id": "ca22068d",
   "metadata": {},
   "outputs": [],
   "source": [
    "# Bespoke Engine\n",
    "params = urllib.parse.quote_plus(\"DRIVER={ODBC Driver 17 for SQL Server};\"\n",
    "                                 \"SERVER=bespoke-database-1.cmevrozrcs7c.us-west-2.rds.amazonaws.com;\"\n",
    "                                 \"DATABASE=metrc;\"\n",
    "                                 \"UID=admin;\"\n",
    "                                 \"PWD=N19lrqxnurTUJLJT6GFe\")\n",
    "engine = create_engine(\"mssql+pyodbc:///?odbc_connect={}\".format(params))\n",
    "engine_con = engine.connect()"
   ]
  },
  {
   "cell_type": "code",
   "execution_count": null,
   "id": "63a9997e",
   "metadata": {},
   "outputs": [],
   "source": []
  },
  {
   "cell_type": "code",
   "execution_count": null,
   "id": "edcfe9be",
   "metadata": {},
   "outputs": [],
   "source": [
    "this_date = dt.date(2021, 11, 1)\n",
    "\n",
    "this_year = this_date.year\n",
    "this_month = this_date.strftime('%m')\n",
    "this_day = this_date.strftime('%d')"
   ]
  },
  {
   "cell_type": "code",
   "execution_count": null,
   "id": "0d8ee4d8",
   "metadata": {},
   "outputs": [],
   "source": []
  },
  {
   "cell_type": "code",
   "execution_count": null,
   "id": "e5839e2c",
   "metadata": {},
   "outputs": [],
   "source": [
    "abbreviations_df = pd.read_sql('abbreviations', con=engine_con)"
   ]
  },
  {
   "cell_type": "code",
   "execution_count": null,
   "id": "849b9c4d",
   "metadata": {},
   "outputs": [],
   "source": []
  },
  {
   "cell_type": "code",
   "execution_count": null,
   "id": "5a744bb5",
   "metadata": {},
   "outputs": [],
   "source": [
    "for n in range(len(abbreviations_df)):\n",
    "    \n",
    "#     print(f\"{abbreviations_df['abbreviation'].iloc[n]} is short for {abbreviations_df['company'].iloc[n]}\")\n",
    "    \n",
    "    COMPANY_NAME = abbreviations_df['company'].iloc[n]\n",
    "    COMPANY_IDENTIFIER = abbreviations_df['abbreviation'].iloc[n]\n",
    "    company_name = COMPANY_NAME.lower().replace(' ', '_')\n",
    "    \n",
    "    company_inventory_packages_query = create_queries.create_company_inventory_packages_query(COMPANY_IDENTIFIER)\n",
    "    \n",
    "    engine = create_engine('bigquery://bespoke-financial/ProdMetrcData', credentials_path=os.path.expanduser(BIGQUERY_CREDENTIALS_PATH))\n",
    "    company_inventory_packages_dataframe = pd.read_sql_query(company_inventory_packages_query, engine)\n",
    "    \n",
    "    company_inventory_packages_dataframe['abbreviation'] = COMPANY_IDENTIFIER\n",
    "    company_inventory_packages_dataframe['inventory_report_date'] = this_date\n",
    "    \n",
    "    company_inventory_packages_dataframe['inventory_report_date'] = pd.to_datetime(company_inventory_packages_dataframe['inventory_report_date'])\n",
    "    company_inventory_packages_dataframe['packaged_date'] = pd.to_datetime(company_inventory_packages_dataframe['packaged_date'])\n",
    "    company_inventory_packages_dataframe['archived_date'] = pd.to_datetime(company_inventory_packages_dataframe['archived_date'])\n",
    "    company_inventory_packages_dataframe['finished_date'] = pd.to_datetime(company_inventory_packages_dataframe['finished_date'])\n",
    "    \n",
    "    company_inventory_packages_dataframe.to_sql('inventory_month_end', con=engine_con, if_exists='append', index=False)\n",
    "    \n",
    "    print(f'{COMPANY_NAME} is added')\n",
    "    print(f'{COMPANY_NAME} was {len(company_inventory_packages_dataframe)} entries long')"
   ]
  },
  {
   "cell_type": "code",
   "execution_count": null,
   "id": "7b0fa0f0",
   "metadata": {},
   "outputs": [],
   "source": []
  },
  {
   "cell_type": "code",
   "execution_count": null,
   "id": "2d11bfbc",
   "metadata": {},
   "outputs": [],
   "source": []
  }
 ],
 "metadata": {
  "kernelspec": {
   "display_name": "Python 3 (ipykernel)",
   "language": "python",
   "name": "python3"
  },
  "language_info": {
   "codemirror_mode": {
    "name": "ipython",
    "version": 3
   },
   "file_extension": ".py",
   "mimetype": "text/x-python",
   "name": "python",
   "nbconvert_exporter": "python",
   "pygments_lexer": "ipython3",
   "version": "3.7.7"
  }
 },
 "nbformat": 4,
 "nbformat_minor": 5
}
