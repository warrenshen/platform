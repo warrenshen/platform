{
 "cells": [
  {
   "cell_type": "code",
   "execution_count": null,
   "id": "601d396f",
   "metadata": {},
   "outputs": [],
   "source": [
    "# Steps to install\n",
    "# 1. pip install sqlalchemy-bigquery google-cloud-bigquery-storage pyarrow\n",
    "# 2. Copy the credentials file to wherever you set BIGQUERY_CREDENTIALS_PATH to"
   ]
  },
  {
   "cell_type": "code",
   "execution_count": 1,
   "id": "170c442e-f0fb-4421-a3bf-5f87863f8277",
   "metadata": {},
   "outputs": [],
   "source": [
    "import json\n",
    "import os\n",
    "import pandas as pd\n",
    "import pyarrow\n",
    "\n",
    "import sys\n",
    "from os import path\n",
    "import numpy\n",
    "\n",
    "from dotenv import load_dotenv\n",
    "from sqlalchemy import create_engine\n",
    "\n",
    "\n",
    "load_dotenv(verbose=True)\n",
    "BIGQUERY_CREDENTIALS_PATH = os.environ.get('BIGQUERY_CREDENTIALS_PATH')"
   ]
  },
  {
   "cell_type": "code",
   "execution_count": 2,
   "id": "38f9a288-03bc-43c5-82f8-a7c5a55f7286",
   "metadata": {},
   "outputs": [],
   "source": [
    "sys.path.append(path.realpath(path.join(os.getcwd(), \"../core\")))\n",
    "import create_queries\n",
    "%load_ext autoreload\n",
    "%autoreload 2"
   ]
  },
  {
   "cell_type": "code",
   "execution_count": 6,
   "id": "55535e4b",
   "metadata": {},
   "outputs": [],
   "source": [
    "import prepare_data"
   ]
  },
  {
   "cell_type": "code",
   "execution_count": 163,
   "id": "fbfe06bc-cc79-41cc-814e-1d2166177496",
   "metadata": {},
   "outputs": [],
   "source": [
    "COMPANY_NAME = 'PL'\n",
    "COMPANY_IDENTIFIER = 'PL'\n",
    "TRANSFER_PACKAGES_START_DATE = '2020-01-01'\n",
    "SALES_TRANSACTIONS_START_DATE = '2020-01-01'\n",
    "\n",
    "INVENTORY_DATE = '10/17/2021'"
   ]
  },
  {
   "cell_type": "code",
   "execution_count": 164,
   "id": "d9eccd84-a327-4299-8876-456c6c9f574c",
   "metadata": {},
   "outputs": [],
   "source": [
    "company_incoming_transfer_packages_query = create_queries.create_company_incoming_transfer_packages_query(COMPANY_IDENTIFIER, TRANSFER_PACKAGES_START_DATE)\n",
    "company_outgoing_transfer_packages_query = create_queries.create_company_outgoing_transfer_packages_query(COMPANY_IDENTIFIER, TRANSFER_PACKAGES_START_DATE)\n",
    "company_sales_transactions_query = create_queries.create_company_sales_transactions_query(COMPANY_IDENTIFIER, SALES_TRANSACTIONS_START_DATE)\n",
    "company_inventory_packages_query = create_queries.create_company_inventory_packages_query(COMPANY_IDENTIFIER)\n",
    "\n",
    "engine = create_engine('bigquery://bespoke-financial/ProdMetrcData', credentials_path=os.path.expanduser(BIGQUERY_CREDENTIALS_PATH))\n",
    "company_incoming_transfer_packages_dataframe = pd.read_sql_query(company_incoming_transfer_packages_query, engine)\n",
    "company_outgoing_transfer_packages_dataframe = pd.read_sql_query(company_outgoing_transfer_packages_query, engine)\n",
    "company_sales_transactions_dataframe = pd.read_sql_query(company_sales_transactions_query, engine)\n",
    "company_inventory_packages_dataframe = pd.read_sql_query(company_inventory_packages_query, engine)"
   ]
  },
  {
   "cell_type": "code",
   "execution_count": 165,
   "id": "62be4499",
   "metadata": {},
   "outputs": [],
   "source": [
    "deduped_sales_receipts_dataframe = prepare_data.dedupe_sales_transactions(company_sales_transactions_dataframe)"
   ]
  },
  {
   "cell_type": "code",
   "execution_count": 166,
   "id": "d9c61f28",
   "metadata": {},
   "outputs": [],
   "source": [
    "df_in = company_incoming_transfer_packages_dataframe\n",
    "df_out = company_outgoing_transfer_packages_dataframe\n",
    "df_sales = deduped_sales_receipts_dataframe\n",
    "df_inventory = company_inventory_packages_dataframe"
   ]
  },
  {
   "cell_type": "code",
   "execution_count": 167,
   "id": "c9d633ed",
   "metadata": {},
   "outputs": [],
   "source": [
    "pd.options.display.float_format = '{:,.2f}'.format"
   ]
  },
  {
   "cell_type": "markdown",
   "id": "dabac9b0",
   "metadata": {},
   "source": [
    "## Sales"
   ]
  },
  {
   "cell_type": "code",
   "execution_count": 168,
   "id": "fa3934c6",
   "metadata": {},
   "outputs": [
    {
     "name": "stdout",
     "output_type": "stream",
     "text": [
      "<class 'pandas.core.frame.DataFrame'>\n",
      "RangeIndex: 988992 entries, 0 to 988991\n",
      "Data columns (total 16 columns):\n",
      " #   Column                    Non-Null Count   Dtype              \n",
      "---  ------                    --------------   -----              \n",
      " 0   id                        988992 non-null  object             \n",
      " 1   license_number            988992 non-null  object             \n",
      " 2   receipt_number            988992 non-null  object             \n",
      " 3   rt_type                   988992 non-null  object             \n",
      " 4   sales_customer_type       988992 non-null  object             \n",
      " 5   sales_datetime            988992 non-null  datetime64[ns, UTC]\n",
      " 6   total_packages            988992 non-null  int64              \n",
      " 7   rt_total_price            988992 non-null  float64            \n",
      " 8   tx_type                   988992 non-null  object             \n",
      " 9   tx_package_id             988992 non-null  object             \n",
      " 10  tx_package_label          988992 non-null  object             \n",
      " 11  tx_product_name           988992 non-null  object             \n",
      " 12  tx_product_category_name  988992 non-null  object             \n",
      " 13  tx_unit_of_measure        988992 non-null  object             \n",
      " 14  tx_quantity_sold          988992 non-null  float64            \n",
      " 15  tx_total_price            988992 non-null  float64            \n",
      "dtypes: datetime64[ns, UTC](1), float64(3), int64(1), object(11)\n",
      "memory usage: 120.7+ MB\n"
     ]
    }
   ],
   "source": [
    "df_sales.info()"
   ]
  },
  {
   "cell_type": "code",
   "execution_count": 13,
   "id": "b8d26f02",
   "metadata": {},
   "outputs": [],
   "source": [
    "# df_sales[df_sales['tx_quantity_sold'] <1]"
   ]
  },
  {
   "cell_type": "code",
   "execution_count": 169,
   "id": "13619ec3",
   "metadata": {},
   "outputs": [],
   "source": [
    "df_sales['per_unit'] = df_sales['tx_total_price'] / df_sales['tx_quantity_sold']\n",
    "df_sales['year_month'] = df_sales['sales_datetime'].dt.strftime(\"%Y-%m\")"
   ]
  },
  {
   "cell_type": "code",
   "execution_count": 172,
   "id": "39902b28",
   "metadata": {},
   "outputs": [],
   "source": [
    "s_total_count = df_sales.groupby('year_month')['tx_total_price'].count()\n",
    "df_total_count = pd.Series(s_total_count).to_frame()\n",
    "df_total_count = df_total_count.reset_index()\n",
    "df_total_count.rename(columns={'tx_total_price':'total_count'}, inplace=True)"
   ]
  },
  {
   "cell_type": "code",
   "execution_count": 175,
   "id": "5fc46d2c",
   "metadata": {},
   "outputs": [],
   "source": [
    "s_revenue = df_sales.groupby('year_month')['tx_total_price'].sum()\n",
    "df_revenue = pd.Series(s_revenue).to_frame()\n",
    "df_revenue = df_revenue.reset_index()\n",
    "df_revenue.rename(columns={'tx_total_price': 'revenue'}, inplace=True)"
   ]
  },
  {
   "cell_type": "markdown",
   "id": "664c5215",
   "metadata": {},
   "source": [
    "## Incoming"
   ]
  },
  {
   "cell_type": "code",
   "execution_count": 179,
   "id": "7d25a58f",
   "metadata": {},
   "outputs": [
    {
     "name": "stdout",
     "output_type": "stream",
     "text": [
      "<class 'pandas.core.frame.DataFrame'>\n",
      "RangeIndex: 18784 entries, 0 to 18783\n",
      "Data columns (total 28 columns):\n",
      " #   Column                                 Non-Null Count  Dtype              \n",
      "---  ------                                 --------------  -----              \n",
      " 0   package_row_id                         18784 non-null  object             \n",
      " 1   delivery_type                          18784 non-null  object             \n",
      " 2   license_number                         18784 non-null  object             \n",
      " 3   manifest_number                        18784 non-null  object             \n",
      " 4   created_date                           18784 non-null  object             \n",
      " 5   received_datetime                      18715 non-null  datetime64[ns, UTC]\n",
      " 6   shipper_facility_license_number        18784 non-null  object             \n",
      " 7   shipper_facility_name                  18784 non-null  object             \n",
      " 8   recipient_facility_license_number      18784 non-null  object             \n",
      " 9   recipient_facility_name                18784 non-null  object             \n",
      " 10  shipment_type_name                     18784 non-null  object             \n",
      " 11  shipment_transaction_type              18784 non-null  object             \n",
      " 12  package_id                             18784 non-null  object             \n",
      " 13  package_label                          18784 non-null  object             \n",
      " 14  type                                   18784 non-null  object             \n",
      " 15  shipment_package_state                 18784 non-null  object             \n",
      " 16  is_testing_sample                      18784 non-null  bool               \n",
      " 17  is_trade_sample                        18784 non-null  bool               \n",
      " 18  product_category_name                  18784 non-null  object             \n",
      " 19  product_name                           18784 non-null  object             \n",
      " 20  package_lab_results_status             18784 non-null  object             \n",
      " 21  shipper_wholesale_price                18507 non-null  float64            \n",
      " 22  shipped_quantity                       18784 non-null  float64            \n",
      " 23  shipped_unit_of_measure                18784 non-null  object             \n",
      " 24  received_quantity                      18493 non-null  float64            \n",
      " 25  received_unit_of_measure               18493 non-null  object             \n",
      " 26  item_unit_weight                       12661 non-null  float64            \n",
      " 27  item_unit_weight_unit_of_measure_name  12661 non-null  object             \n",
      "dtypes: bool(2), datetime64[ns, UTC](1), float64(4), object(21)\n",
      "memory usage: 3.8+ MB\n"
     ]
    }
   ],
   "source": [
    "df_in.info()"
   ]
  },
  {
   "cell_type": "code",
   "execution_count": 180,
   "id": "378ca9d1",
   "metadata": {},
   "outputs": [],
   "source": [
    "df_in['per_unit_incoming'] = df_in['shipper_wholesale_price'] / df_in['shipped_quantity']"
   ]
  },
  {
   "cell_type": "code",
   "execution_count": 181,
   "id": "3fdd26c3",
   "metadata": {},
   "outputs": [],
   "source": [
    "average_incoming_package_id = df_in.groupby('package_id')['per_unit_incoming'].mean()"
   ]
  },
  {
   "cell_type": "code",
   "execution_count": 183,
   "id": "72aa14d6",
   "metadata": {},
   "outputs": [],
   "source": [
    "df_avg_incoming_price = pd.Series(average_incoming_package_id).to_frame()\n",
    "df_avg_incoming_price = df_avg_incoming_price.reset_index()"
   ]
  },
  {
   "cell_type": "code",
   "execution_count": 211,
   "id": "6b57e29a",
   "metadata": {},
   "outputs": [],
   "source": [
    "average_incoming_product = df_in.groupby('product_name')['per_unit_incoming'].mean()"
   ]
  },
  {
   "cell_type": "code",
   "execution_count": 212,
   "id": "59ecc3a5",
   "metadata": {},
   "outputs": [],
   "source": [
    "df_avg_product = pd.Series(average_incoming_product).to_frame()"
   ]
  },
  {
   "cell_type": "code",
   "execution_count": 213,
   "id": "98933344",
   "metadata": {},
   "outputs": [],
   "source": [
    "df_avg_product = df_avg_product.reset_index()"
   ]
  },
  {
   "cell_type": "code",
   "execution_count": 215,
   "id": "2a5ff2e1",
   "metadata": {},
   "outputs": [],
   "source": [
    "df_avg_product.rename(columns={'per_unit_incoming':'per_unit_product'}, inplace=True)"
   ]
  },
  {
   "cell_type": "code",
   "execution_count": 218,
   "id": "2f2fd2fb",
   "metadata": {},
   "outputs": [
    {
     "data": {
      "text/html": [
       "<div>\n",
       "<style scoped>\n",
       "    .dataframe tbody tr th:only-of-type {\n",
       "        vertical-align: middle;\n",
       "    }\n",
       "\n",
       "    .dataframe tbody tr th {\n",
       "        vertical-align: top;\n",
       "    }\n",
       "\n",
       "    .dataframe thead th {\n",
       "        text-align: right;\n",
       "    }\n",
       "</style>\n",
       "<table border=\"1\" class=\"dataframe\">\n",
       "  <thead>\n",
       "    <tr style=\"text-align: right;\">\n",
       "      <th></th>\n",
       "      <th>product_name</th>\n",
       "      <th>per_unit_product</th>\n",
       "    </tr>\n",
       "  </thead>\n",
       "  <tbody>\n",
       "    <tr>\n",
       "      <th>0</th>\n",
       "      <td>\"1943\" - Balanced Pre-Packaged 1/8th</td>\n",
       "      <td>0.00</td>\n",
       "    </tr>\n",
       "    <tr>\n",
       "      <th>1</th>\n",
       "      <td>(AL/FF) - (Melonade) - .5g Cured Resin Cartridge</td>\n",
       "      <td>17.00</td>\n",
       "    </tr>\n",
       "  </tbody>\n",
       "</table>\n",
       "</div>"
      ],
      "text/plain": [
       "                                       product_name  per_unit_product\n",
       "0              \"1943\" - Balanced Pre-Packaged 1/8th              0.00\n",
       "1  (AL/FF) - (Melonade) - .5g Cured Resin Cartridge             17.00"
      ]
     },
     "execution_count": 218,
     "metadata": {},
     "output_type": "execute_result"
    }
   ],
   "source": [
    "df_avg_product.head(2)"
   ]
  },
  {
   "cell_type": "markdown",
   "id": "9316be3c",
   "metadata": {},
   "source": [
    "## COGS"
   ]
  },
  {
   "cell_type": "code",
   "execution_count": 225,
   "id": "f812a381",
   "metadata": {},
   "outputs": [],
   "source": [
    "df_cogs = pd.merge(df_sales, df_avg_incoming_price, left_on='tx_package_id', right_on='package_id', how='left')"
   ]
  },
  {
   "cell_type": "code",
   "execution_count": 226,
   "id": "b6068171",
   "metadata": {},
   "outputs": [
    {
     "name": "stdout",
     "output_type": "stream",
     "text": [
      "<class 'pandas.core.frame.DataFrame'>\n",
      "Int64Index: 988992 entries, 0 to 988991\n",
      "Data columns (total 20 columns):\n",
      " #   Column                    Non-Null Count   Dtype              \n",
      "---  ------                    --------------   -----              \n",
      " 0   id                        988992 non-null  object             \n",
      " 1   license_number            988992 non-null  object             \n",
      " 2   receipt_number            988992 non-null  object             \n",
      " 3   rt_type                   988992 non-null  object             \n",
      " 4   sales_customer_type       988992 non-null  object             \n",
      " 5   sales_datetime            988992 non-null  datetime64[ns, UTC]\n",
      " 6   total_packages            988992 non-null  int64              \n",
      " 7   rt_total_price            988992 non-null  float64            \n",
      " 8   tx_type                   988992 non-null  object             \n",
      " 9   tx_package_id             988992 non-null  object             \n",
      " 10  tx_package_label          988992 non-null  object             \n",
      " 11  tx_product_name           988992 non-null  object             \n",
      " 12  tx_product_category_name  988992 non-null  object             \n",
      " 13  tx_unit_of_measure        988992 non-null  object             \n",
      " 14  tx_quantity_sold          988992 non-null  float64            \n",
      " 15  tx_total_price            988992 non-null  float64            \n",
      " 16  per_unit                  988992 non-null  float64            \n",
      " 17  year_month                988992 non-null  object             \n",
      " 18  package_id                854167 non-null  object             \n",
      " 19  per_unit_incoming         827921 non-null  float64            \n",
      "dtypes: datetime64[ns, UTC](1), float64(5), int64(1), object(13)\n",
      "memory usage: 158.5+ MB\n"
     ]
    }
   ],
   "source": [
    "df_cogs.info()"
   ]
  },
  {
   "cell_type": "code",
   "execution_count": 228,
   "id": "f193551e",
   "metadata": {},
   "outputs": [],
   "source": [
    "df_cogs_null = df_cogs[df_cogs['per_unit_incoming'].isnull()]"
   ]
  },
  {
   "cell_type": "code",
   "execution_count": 229,
   "id": "f9bf3fd6",
   "metadata": {},
   "outputs": [],
   "source": [
    "df_cogs_null_product = pd.merge(df_cogs_null, df_avg_product, left_on='tx_product_name', right_on='product_name', how='left')"
   ]
  },
  {
   "cell_type": "code",
   "execution_count": 232,
   "id": "d89eada1",
   "metadata": {},
   "outputs": [],
   "source": [
    "df_cogs_product = df_cogs_null_product[df_cogs_null_product['per_unit_product'].notnull()]"
   ]
  },
  {
   "cell_type": "code",
   "execution_count": 234,
   "id": "d6e23ead",
   "metadata": {},
   "outputs": [
    {
     "name": "stderr",
     "output_type": "stream",
     "text": [
      "C:\\Users\\Rachel\\GitHub\\venvs\\bespoke\\lib\\site-packages\\ipykernel_launcher.py:1: SettingWithCopyWarning: \n",
      "A value is trying to be set on a copy of a slice from a DataFrame.\n",
      "Try using .loc[row_indexer,col_indexer] = value instead\n",
      "\n",
      "See the caveats in the documentation: https://pandas.pydata.org/pandas-docs/stable/user_guide/indexing.html#returning-a-view-versus-a-copy\n",
      "  \"\"\"Entry point for launching an IPython kernel.\n"
     ]
    }
   ],
   "source": [
    "df_cogs_product['total_product'] = df_cogs_product['tx_quantity_sold'] * df_cogs_product['per_unit_product']"
   ]
  },
  {
   "cell_type": "code",
   "execution_count": 236,
   "id": "835de7e4",
   "metadata": {},
   "outputs": [
    {
     "data": {
      "text/plain": [
       "year_month\n",
       "2020-01    7137\n",
       "2020-02     668\n",
       "2020-03      64\n",
       "2020-04      47\n",
       "2020-05       4\n",
       "2020-06       5\n",
       "2020-07     186\n",
       "2020-08     280\n",
       "2020-09     837\n",
       "2020-10    1991\n",
       "2020-11    1685\n",
       "2020-12    1633\n",
       "2021-01     442\n",
       "2021-02     435\n",
       "2021-03     104\n",
       "2021-04     374\n",
       "2021-05     697\n",
       "2021-06     526\n",
       "2021-07     892\n",
       "2021-08     169\n",
       "2021-10     116\n",
       "Name: total_product, dtype: int64"
      ]
     },
     "execution_count": 236,
     "metadata": {},
     "output_type": "execute_result"
    }
   ],
   "source": [
    "df_cogs_product.groupby('year_month')['total_product'].count()"
   ]
  },
  {
   "cell_type": "code",
   "execution_count": 239,
   "id": "debf4da4",
   "metadata": {},
   "outputs": [
    {
     "data": {
      "text/plain": [
       "53774"
      ]
     },
     "execution_count": 239,
     "metadata": {},
     "output_type": "execute_result"
    }
   ],
   "source": [
    "52882 + 892"
   ]
  },
  {
   "cell_type": "code",
   "execution_count": 241,
   "id": "4b6bfb8a",
   "metadata": {},
   "outputs": [
    {
     "data": {
      "text/plain": [
       "0.8476222001544742"
      ]
     },
     "execution_count": 241,
     "metadata": {},
     "output_type": "execute_result"
    }
   ],
   "source": [
    "53774/63441"
   ]
  },
  {
   "cell_type": "code",
   "execution_count": 186,
   "id": "001927a6",
   "metadata": {},
   "outputs": [],
   "source": [
    "df_cogs['total_incoming'] = df_cogs['per_unit_incoming'] * df_cogs['tx_quantity_sold']"
   ]
  },
  {
   "cell_type": "code",
   "execution_count": null,
   "id": "e5bc3c06",
   "metadata": {},
   "outputs": [],
   "source": []
  },
  {
   "cell_type": "code",
   "execution_count": null,
   "id": "3afdec9d",
   "metadata": {},
   "outputs": [],
   "source": []
  },
  {
   "cell_type": "code",
   "execution_count": 221,
   "id": "4495fd66",
   "metadata": {},
   "outputs": [],
   "source": [
    "df_cogs = pd.merge(df_cogs, df_avg_product, left_on='tx_product_name', right_on='product_name', how='left')"
   ]
  },
  {
   "cell_type": "code",
   "execution_count": null,
   "id": "6c15eb79",
   "metadata": {},
   "outputs": [],
   "source": []
  },
  {
   "cell_type": "code",
   "execution_count": 224,
   "id": "b8b6b54c",
   "metadata": {},
   "outputs": [],
   "source": [
    "# df_cogs[df_cogs['per_unit_incoming'].isnull() & df_cogs['per_unit_product'].notnull()]"
   ]
  },
  {
   "cell_type": "code",
   "execution_count": 187,
   "id": "a30dc337",
   "metadata": {},
   "outputs": [],
   "source": [
    "s_cogs_count = df_cogs.groupby('year_month')['total_incoming'].count()\n",
    "df_cogs_count = pd.Series(s_cogs_count).to_frame()\n",
    "df_cogs_count = df_cogs_count.reset_index()\n",
    "df_cogs_count.rename(columns={'total_incoming':'count_incoming'}, inplace=True)"
   ]
  },
  {
   "cell_type": "code",
   "execution_count": 190,
   "id": "830ca0f3",
   "metadata": {},
   "outputs": [],
   "source": [
    "s_cogs = df_cogs.groupby('year_month')['total_incoming'].sum()\n",
    "df_cogs_2 = pd.Series(s_cogs).to_frame()\n",
    "df_cogs_2 = df_cogs_2.reset_index()"
   ]
  },
  {
   "cell_type": "code",
   "execution_count": 191,
   "id": "c6b70839",
   "metadata": {},
   "outputs": [],
   "source": []
  },
  {
   "cell_type": "markdown",
   "id": "7bda242d",
   "metadata": {},
   "source": [
    "## Summary"
   ]
  },
  {
   "cell_type": "code",
   "execution_count": 193,
   "id": "2bcbaeb9",
   "metadata": {},
   "outputs": [],
   "source": [
    "df_summary = pd.merge(df_revenue, df_cogs_2)"
   ]
  },
  {
   "cell_type": "code",
   "execution_count": 194,
   "id": "81b613b0",
   "metadata": {},
   "outputs": [],
   "source": [
    "df_summary['margin_$'] = df_summary['revenue'] - df_summary['total_incoming']\n",
    "df_summary['margin_%'] = df_summary['margin_$'] / df_summary['revenue']"
   ]
  },
  {
   "cell_type": "code",
   "execution_count": 197,
   "id": "725aa7ef",
   "metadata": {},
   "outputs": [],
   "source": [
    "df_summary = pd.merge(df_summary, df_cogs_count)\n",
    "df_summary = pd.merge(df_summary, df_total_count)"
   ]
  },
  {
   "cell_type": "code",
   "execution_count": 199,
   "id": "196660bb",
   "metadata": {},
   "outputs": [],
   "source": [
    "df_summary['coverage'] = df_summary['count_incoming'] / df_summary['total_count']"
   ]
  },
  {
   "cell_type": "code",
   "execution_count": 200,
   "id": "561a7939",
   "metadata": {},
   "outputs": [
    {
     "data": {
      "text/html": [
       "<div>\n",
       "<style scoped>\n",
       "    .dataframe tbody tr th:only-of-type {\n",
       "        vertical-align: middle;\n",
       "    }\n",
       "\n",
       "    .dataframe tbody tr th {\n",
       "        vertical-align: top;\n",
       "    }\n",
       "\n",
       "    .dataframe thead th {\n",
       "        text-align: right;\n",
       "    }\n",
       "</style>\n",
       "<table border=\"1\" class=\"dataframe\">\n",
       "  <thead>\n",
       "    <tr style=\"text-align: right;\">\n",
       "      <th></th>\n",
       "      <th>year_month</th>\n",
       "      <th>revenue</th>\n",
       "      <th>total_incoming</th>\n",
       "      <th>margin_$</th>\n",
       "      <th>margin_%</th>\n",
       "      <th>count_incoming</th>\n",
       "      <th>total_count</th>\n",
       "      <th>coverage</th>\n",
       "    </tr>\n",
       "  </thead>\n",
       "  <tbody>\n",
       "    <tr>\n",
       "      <th>0</th>\n",
       "      <td>2020-01</td>\n",
       "      <td>1,404,088.07</td>\n",
       "      <td>323,586.13</td>\n",
       "      <td>1,080,501.94</td>\n",
       "      <td>0.77</td>\n",
       "      <td>20467</td>\n",
       "      <td>43877</td>\n",
       "      <td>0.47</td>\n",
       "    </tr>\n",
       "    <tr>\n",
       "      <th>1</th>\n",
       "      <td>2020-02</td>\n",
       "      <td>1,342,798.27</td>\n",
       "      <td>537,508.72</td>\n",
       "      <td>805,289.55</td>\n",
       "      <td>0.60</td>\n",
       "      <td>31606</td>\n",
       "      <td>43366</td>\n",
       "      <td>0.73</td>\n",
       "    </tr>\n",
       "    <tr>\n",
       "      <th>2</th>\n",
       "      <td>2020-03</td>\n",
       "      <td>1,575,122.34</td>\n",
       "      <td>694,260.26</td>\n",
       "      <td>880,862.08</td>\n",
       "      <td>0.56</td>\n",
       "      <td>42528</td>\n",
       "      <td>49114</td>\n",
       "      <td>0.87</td>\n",
       "    </tr>\n",
       "    <tr>\n",
       "      <th>3</th>\n",
       "      <td>2020-04</td>\n",
       "      <td>1,797,969.95</td>\n",
       "      <td>777,819.93</td>\n",
       "      <td>1,020,150.02</td>\n",
       "      <td>0.57</td>\n",
       "      <td>48656</td>\n",
       "      <td>54122</td>\n",
       "      <td>0.90</td>\n",
       "    </tr>\n",
       "    <tr>\n",
       "      <th>4</th>\n",
       "      <td>2020-05</td>\n",
       "      <td>2,045,620.79</td>\n",
       "      <td>849,484.47</td>\n",
       "      <td>1,196,136.32</td>\n",
       "      <td>0.58</td>\n",
       "      <td>55630</td>\n",
       "      <td>59021</td>\n",
       "      <td>0.94</td>\n",
       "    </tr>\n",
       "    <tr>\n",
       "      <th>5</th>\n",
       "      <td>2020-06</td>\n",
       "      <td>2,017,956.21</td>\n",
       "      <td>849,524.95</td>\n",
       "      <td>1,168,431.26</td>\n",
       "      <td>0.58</td>\n",
       "      <td>53637</td>\n",
       "      <td>56866</td>\n",
       "      <td>0.94</td>\n",
       "    </tr>\n",
       "    <tr>\n",
       "      <th>6</th>\n",
       "      <td>2020-07</td>\n",
       "      <td>2,076,954.20</td>\n",
       "      <td>782,518.99</td>\n",
       "      <td>1,294,435.21</td>\n",
       "      <td>0.62</td>\n",
       "      <td>52251</td>\n",
       "      <td>59013</td>\n",
       "      <td>0.89</td>\n",
       "    </tr>\n",
       "    <tr>\n",
       "      <th>7</th>\n",
       "      <td>2020-08</td>\n",
       "      <td>1,976,309.93</td>\n",
       "      <td>744,093.45</td>\n",
       "      <td>1,232,216.48</td>\n",
       "      <td>0.62</td>\n",
       "      <td>48038</td>\n",
       "      <td>53862</td>\n",
       "      <td>0.89</td>\n",
       "    </tr>\n",
       "    <tr>\n",
       "      <th>8</th>\n",
       "      <td>2020-09</td>\n",
       "      <td>1,476,503.57</td>\n",
       "      <td>553,883.88</td>\n",
       "      <td>922,619.69</td>\n",
       "      <td>0.62</td>\n",
       "      <td>35327</td>\n",
       "      <td>40628</td>\n",
       "      <td>0.87</td>\n",
       "    </tr>\n",
       "    <tr>\n",
       "      <th>9</th>\n",
       "      <td>2020-10</td>\n",
       "      <td>1,793,659.60</td>\n",
       "      <td>655,092.02</td>\n",
       "      <td>1,138,567.58</td>\n",
       "      <td>0.63</td>\n",
       "      <td>43224</td>\n",
       "      <td>51365</td>\n",
       "      <td>0.84</td>\n",
       "    </tr>\n",
       "    <tr>\n",
       "      <th>10</th>\n",
       "      <td>2020-11</td>\n",
       "      <td>1,726,988.80</td>\n",
       "      <td>641,683.42</td>\n",
       "      <td>1,085,305.38</td>\n",
       "      <td>0.63</td>\n",
       "      <td>42019</td>\n",
       "      <td>53967</td>\n",
       "      <td>0.78</td>\n",
       "    </tr>\n",
       "    <tr>\n",
       "      <th>11</th>\n",
       "      <td>2020-12</td>\n",
       "      <td>1,941,105.70</td>\n",
       "      <td>797,863.80</td>\n",
       "      <td>1,143,241.90</td>\n",
       "      <td>0.59</td>\n",
       "      <td>51261</td>\n",
       "      <td>61535</td>\n",
       "      <td>0.83</td>\n",
       "    </tr>\n",
       "    <tr>\n",
       "      <th>12</th>\n",
       "      <td>2021-01</td>\n",
       "      <td>1,899,443.65</td>\n",
       "      <td>790,882.86</td>\n",
       "      <td>1,108,560.79</td>\n",
       "      <td>0.58</td>\n",
       "      <td>47495</td>\n",
       "      <td>56937</td>\n",
       "      <td>0.83</td>\n",
       "    </tr>\n",
       "    <tr>\n",
       "      <th>13</th>\n",
       "      <td>2021-02</td>\n",
       "      <td>827,440.25</td>\n",
       "      <td>306,775.35</td>\n",
       "      <td>520,664.90</td>\n",
       "      <td>0.63</td>\n",
       "      <td>19372</td>\n",
       "      <td>23735</td>\n",
       "      <td>0.82</td>\n",
       "    </tr>\n",
       "    <tr>\n",
       "      <th>14</th>\n",
       "      <td>2021-03</td>\n",
       "      <td>879,670.08</td>\n",
       "      <td>347,988.75</td>\n",
       "      <td>531,681.33</td>\n",
       "      <td>0.60</td>\n",
       "      <td>22482</td>\n",
       "      <td>26237</td>\n",
       "      <td>0.86</td>\n",
       "    </tr>\n",
       "    <tr>\n",
       "      <th>15</th>\n",
       "      <td>2021-04</td>\n",
       "      <td>1,907,309.94</td>\n",
       "      <td>749,123.15</td>\n",
       "      <td>1,158,186.79</td>\n",
       "      <td>0.61</td>\n",
       "      <td>49757</td>\n",
       "      <td>58314</td>\n",
       "      <td>0.85</td>\n",
       "    </tr>\n",
       "    <tr>\n",
       "      <th>16</th>\n",
       "      <td>2021-05</td>\n",
       "      <td>1,958,307.70</td>\n",
       "      <td>779,164.11</td>\n",
       "      <td>1,179,143.59</td>\n",
       "      <td>0.60</td>\n",
       "      <td>51997</td>\n",
       "      <td>60912</td>\n",
       "      <td>0.85</td>\n",
       "    </tr>\n",
       "    <tr>\n",
       "      <th>17</th>\n",
       "      <td>2021-06</td>\n",
       "      <td>1,916,939.14</td>\n",
       "      <td>744,120.88</td>\n",
       "      <td>1,172,818.26</td>\n",
       "      <td>0.61</td>\n",
       "      <td>48668</td>\n",
       "      <td>59814</td>\n",
       "      <td>0.81</td>\n",
       "    </tr>\n",
       "    <tr>\n",
       "      <th>18</th>\n",
       "      <td>2021-07</td>\n",
       "      <td>1,993,624.05</td>\n",
       "      <td>769,717.89</td>\n",
       "      <td>1,223,906.16</td>\n",
       "      <td>0.61</td>\n",
       "      <td>52882</td>\n",
       "      <td>63441</td>\n",
       "      <td>0.83</td>\n",
       "    </tr>\n",
       "    <tr>\n",
       "      <th>19</th>\n",
       "      <td>2021-08</td>\n",
       "      <td>200,458.91</td>\n",
       "      <td>76,625.83</td>\n",
       "      <td>123,833.08</td>\n",
       "      <td>0.62</td>\n",
       "      <td>5206</td>\n",
       "      <td>6284</td>\n",
       "      <td>0.83</td>\n",
       "    </tr>\n",
       "    <tr>\n",
       "      <th>20</th>\n",
       "      <td>2021-10</td>\n",
       "      <td>216,965.21</td>\n",
       "      <td>79,498.39</td>\n",
       "      <td>137,466.82</td>\n",
       "      <td>0.63</td>\n",
       "      <td>5418</td>\n",
       "      <td>6582</td>\n",
       "      <td>0.82</td>\n",
       "    </tr>\n",
       "  </tbody>\n",
       "</table>\n",
       "</div>"
      ],
      "text/plain": [
       "   year_month      revenue  total_incoming     margin_$  margin_%  \\\n",
       "0     2020-01 1,404,088.07      323,586.13 1,080,501.94      0.77   \n",
       "1     2020-02 1,342,798.27      537,508.72   805,289.55      0.60   \n",
       "2     2020-03 1,575,122.34      694,260.26   880,862.08      0.56   \n",
       "3     2020-04 1,797,969.95      777,819.93 1,020,150.02      0.57   \n",
       "4     2020-05 2,045,620.79      849,484.47 1,196,136.32      0.58   \n",
       "5     2020-06 2,017,956.21      849,524.95 1,168,431.26      0.58   \n",
       "6     2020-07 2,076,954.20      782,518.99 1,294,435.21      0.62   \n",
       "7     2020-08 1,976,309.93      744,093.45 1,232,216.48      0.62   \n",
       "8     2020-09 1,476,503.57      553,883.88   922,619.69      0.62   \n",
       "9     2020-10 1,793,659.60      655,092.02 1,138,567.58      0.63   \n",
       "10    2020-11 1,726,988.80      641,683.42 1,085,305.38      0.63   \n",
       "11    2020-12 1,941,105.70      797,863.80 1,143,241.90      0.59   \n",
       "12    2021-01 1,899,443.65      790,882.86 1,108,560.79      0.58   \n",
       "13    2021-02   827,440.25      306,775.35   520,664.90      0.63   \n",
       "14    2021-03   879,670.08      347,988.75   531,681.33      0.60   \n",
       "15    2021-04 1,907,309.94      749,123.15 1,158,186.79      0.61   \n",
       "16    2021-05 1,958,307.70      779,164.11 1,179,143.59      0.60   \n",
       "17    2021-06 1,916,939.14      744,120.88 1,172,818.26      0.61   \n",
       "18    2021-07 1,993,624.05      769,717.89 1,223,906.16      0.61   \n",
       "19    2021-08   200,458.91       76,625.83   123,833.08      0.62   \n",
       "20    2021-10   216,965.21       79,498.39   137,466.82      0.63   \n",
       "\n",
       "    count_incoming  total_count  coverage  \n",
       "0            20467        43877      0.47  \n",
       "1            31606        43366      0.73  \n",
       "2            42528        49114      0.87  \n",
       "3            48656        54122      0.90  \n",
       "4            55630        59021      0.94  \n",
       "5            53637        56866      0.94  \n",
       "6            52251        59013      0.89  \n",
       "7            48038        53862      0.89  \n",
       "8            35327        40628      0.87  \n",
       "9            43224        51365      0.84  \n",
       "10           42019        53967      0.78  \n",
       "11           51261        61535      0.83  \n",
       "12           47495        56937      0.83  \n",
       "13           19372        23735      0.82  \n",
       "14           22482        26237      0.86  \n",
       "15           49757        58314      0.85  \n",
       "16           51997        60912      0.85  \n",
       "17           48668        59814      0.81  \n",
       "18           52882        63441      0.83  \n",
       "19            5206         6284      0.83  \n",
       "20            5418         6582      0.82  "
      ]
     },
     "execution_count": 200,
     "metadata": {},
     "output_type": "execute_result"
    }
   ],
   "source": [
    "df_summary"
   ]
  },
  {
   "cell_type": "markdown",
   "id": "6290682d",
   "metadata": {},
   "source": [
    "## Inventory"
   ]
  },
  {
   "cell_type": "code",
   "execution_count": 201,
   "id": "64b41745",
   "metadata": {},
   "outputs": [
    {
     "name": "stdout",
     "output_type": "stream",
     "text": [
      "<class 'pandas.core.frame.DataFrame'>\n",
      "RangeIndex: 5090 entries, 0 to 5089\n",
      "Data columns (total 15 columns):\n",
      " #   Column                 Non-Null Count  Dtype  \n",
      "---  ------                 --------------  -----  \n",
      " 0   license_number         5090 non-null   object \n",
      " 1   package_id             5090 non-null   object \n",
      " 2   package_label          5090 non-null   object \n",
      " 3   type                   5090 non-null   object \n",
      " 4   packaged_date          5090 non-null   object \n",
      " 5   package_type           5090 non-null   object \n",
      " 6   product_name           5090 non-null   object \n",
      " 7   product_category_name  5090 non-null   object \n",
      " 8   quantity               5090 non-null   float64\n",
      " 9   unit_of_measure        5090 non-null   object \n",
      " 10  is_testing_sample      5090 non-null   bool   \n",
      " 11  is_trade_sample        5090 non-null   bool   \n",
      " 12  is_on_hold             5090 non-null   bool   \n",
      " 13  archived_date          0 non-null      object \n",
      " 14  finished_date          6 non-null      object \n",
      "dtypes: bool(3), float64(1), object(11)\n",
      "memory usage: 492.2+ KB\n"
     ]
    }
   ],
   "source": [
    "df_inventory.info()"
   ]
  },
  {
   "cell_type": "code",
   "execution_count": 242,
   "id": "e8b30981",
   "metadata": {},
   "outputs": [],
   "source": [
    "df_inventory_incoming = pd.merge(df_inventory, df_avg_incoming_price, on='package_id', how='left')"
   ]
  },
  {
   "cell_type": "code",
   "execution_count": 243,
   "id": "1ecf1286",
   "metadata": {},
   "outputs": [
    {
     "name": "stdout",
     "output_type": "stream",
     "text": [
      "2,091,299.11\n"
     ]
    }
   ],
   "source": [
    "df_inventory_incoming['total_price'] = df_inventory_incoming['quantity'] * df_inventory_incoming['per_unit_incoming']\n",
    "inventory_value = df_inventory_incoming['total_price'].sum()\n",
    "print(f'{inventory_value:,.2f}')"
   ]
  },
  {
   "cell_type": "code",
   "execution_count": 244,
   "id": "a08ee6e2",
   "metadata": {},
   "outputs": [
    {
     "name": "stdout",
     "output_type": "stream",
     "text": [
      "86%\n"
     ]
    }
   ],
   "source": [
    "inv_count_incoming = df_inventory_incoming['per_unit_incoming'].count()\n",
    "inv_count_total = df_inventory_incoming['quantity'].count()\n",
    "inventory_coverage = inv_count_incoming / inv_count_total\n",
    "print(f'{inventory_coverage:,.0%}')"
   ]
  },
  {
   "cell_type": "code",
   "execution_count": 207,
   "id": "bbb7a887",
   "metadata": {},
   "outputs": [],
   "source": []
  },
  {
   "cell_type": "code",
   "execution_count": 208,
   "id": "bf6f31f1",
   "metadata": {},
   "outputs": [],
   "source": []
  },
  {
   "cell_type": "code",
   "execution_count": 209,
   "id": "2826c695",
   "metadata": {},
   "outputs": [
    {
     "name": "stdout",
     "output_type": "stream",
     "text": [
      "86%\n"
     ]
    }
   ],
   "source": []
  },
  {
   "cell_type": "code",
   "execution_count": null,
   "id": "9344f66e",
   "metadata": {},
   "outputs": [],
   "source": []
  },
  {
   "cell_type": "code",
   "execution_count": null,
   "id": "d990d742",
   "metadata": {},
   "outputs": [],
   "source": []
  },
  {
   "cell_type": "markdown",
   "id": "cf007bf4",
   "metadata": {},
   "source": [
    "# Notes"
   ]
  },
  {
   "cell_type": "code",
   "execution_count": null,
   "id": "fd73ec9b",
   "metadata": {},
   "outputs": [],
   "source": [
    "# df_in[df_in.duplicated('package_id')]\n",
    "# df_sales[df_sales.duplicated('tx_package_id')]"
   ]
  },
  {
   "cell_type": "code",
   "execution_count": 48,
   "id": "3e04fc47",
   "metadata": {},
   "outputs": [],
   "source": [
    "# pd.merge(df_sales, df_in[['package_id','per_unit_incoming']], left_on='tx_package_id', right_on='package_id', how='left')"
   ]
  },
  {
   "cell_type": "code",
   "execution_count": 49,
   "id": "74f5cc4f",
   "metadata": {},
   "outputs": [],
   "source": [
    "# df_sales.merge(df_in['package_id','per_unit_incoming'], left_on='tx_package_id', right_on='package_id', how='left')"
   ]
  },
  {
   "cell_type": "code",
   "execution_count": 58,
   "id": "ac320030",
   "metadata": {},
   "outputs": [],
   "source": [
    "# incoming_transfer_simp = company_incoming_transfer_packages_dataframe[[\n",
    "# 'license_number',\n",
    "# 'created_date',\n",
    "# 'package_id',\n",
    "# 'product_category_name',\n",
    "# 'product_name',\n",
    "# 'shipper_wholesale_price',\n",
    "# 'shipped_quantity',\n",
    "# 'shipped_unit_of_measure',\n",
    "# 'item_unit_weight',\n",
    "# 'item_unit_weight_unit_of_measure_name']]"
   ]
  },
  {
   "cell_type": "code",
   "execution_count": 30,
   "id": "3073f693",
   "metadata": {},
   "outputs": [],
   "source": [
    "# incoming_transfer_simp"
   ]
  },
  {
   "cell_type": "code",
   "execution_count": 59,
   "id": "c23f1ea3-e036-4add-bf26-56cb6652ee45",
   "metadata": {},
   "outputs": [],
   "source": [
    "# outgoing_transfer_simp = company_outgoing_transfer_packages_dataframe[[\n",
    "# 'license_number',\n",
    "# 'created_date',\n",
    "# 'package_id',\n",
    "# 'product_category_name',\n",
    "# 'product_name',\n",
    "# 'shipper_wholesale_price',\n",
    "# 'shipped_quantity',\n",
    "# 'shipped_unit_of_measure',\n",
    "# 'item_unit_weight',\n",
    "# 'item_unit_weight_unit_of_measure_name']]"
   ]
  },
  {
   "cell_type": "code",
   "execution_count": 53,
   "id": "6f185f88",
   "metadata": {},
   "outputs": [],
   "source": [
    "# company_sales_transactions_dataframe.to_csv('hpcc_all_sales_10_13_21.csv')"
   ]
  },
  {
   "cell_type": "code",
   "execution_count": 110,
   "id": "13c280d0",
   "metadata": {},
   "outputs": [],
   "source": [
    "# company_sales_transactions_dataframe.info()"
   ]
  },
  {
   "cell_type": "code",
   "execution_count": 60,
   "id": "fb9fe2f1-92b1-401e-b706-20c90ce0787a",
   "metadata": {},
   "outputs": [],
   "source": [
    "# sales_simp = company_sales_transactions_dataframe[[\n",
    "# 'license_number',\n",
    "# 'sales_datetime',\n",
    "# 'tx_package_id',\n",
    "# 'tx_product_name',\n",
    "# 'tx_product_category_name',\n",
    "# 'tx_unit_of_measure',\n",
    "# 'tx_quantity_sold',\n",
    "# 'tx_total_price']]"
   ]
  },
  {
   "cell_type": "code",
   "execution_count": 61,
   "id": "efdf2d6c-f232-441b-902d-ae9f4923482a",
   "metadata": {},
   "outputs": [],
   "source": [
    "# inventory_simp = company_inventory_packages_dataframe[[\n",
    "# 'license_number',\n",
    "# 'package_id',\n",
    "# 'packaged_date',\n",
    "# 'product_name',\n",
    "# 'product_category_name',\n",
    "# 'quantity',\n",
    "# 'unit_of_measure'\n",
    "# ]]"
   ]
  },
  {
   "cell_type": "code",
   "execution_count": 109,
   "id": "df09761f",
   "metadata": {},
   "outputs": [],
   "source": [
    "# sales_simp['year_month'] = sales_simp['sales_datetime'].dt.strftime(\"%Y-%m\")"
   ]
  },
  {
   "cell_type": "code",
   "execution_count": 108,
   "id": "2f70eeac",
   "metadata": {},
   "outputs": [],
   "source": [
    "# sales_simp.groupby(by=['year_month'], as_index=False).count()"
   ]
  },
  {
   "cell_type": "code",
   "execution_count": 51,
   "id": "f30c597f",
   "metadata": {},
   "outputs": [],
   "source": [
    "# sales_drop = sales_simp.drop(['sales_datetime', 'month_year'], axis=1)"
   ]
  },
  {
   "cell_type": "code",
   "execution_count": 52,
   "id": "d435207c",
   "metadata": {},
   "outputs": [],
   "source": [
    "# sales_simp.to_csv('./hpcc_sales_2021_10_13.csv')"
   ]
  },
  {
   "cell_type": "code",
   "execution_count": null,
   "id": "d8cea73c",
   "metadata": {},
   "outputs": [],
   "source": [
    "# INVENTORY_DATES = [\n",
    "#     '09/30/2020',\n",
    "#     '10/31/2020',\n",
    "#     '11/30/2020',\n",
    "#     '12/31/2020',\n",
    "#     '01/31/2021',\n",
    "#     '02/28/2021',\n",
    "#     '03/31/2021',\n",
    "#     '04/30/2021',\n",
    "#     '05/31/2021',\n",
    "#     '06/30/2021',\n",
    "#     '07/31/2021',\n",
    "#     '08/31/2021',\n",
    "#     '09/30/2021',\n",
    "# ]"
   ]
  },
  {
   "cell_type": "code",
   "execution_count": 12,
   "id": "106a034d-fb76-4e8e-bce6-4e3b525b175e",
   "metadata": {},
   "outputs": [],
   "source": [
    "# %autoreload 2\n",
    "\n",
    "# sys.path.append(path.realpath(path.join(os.getcwd(), \"../../scripts/analysis\")))\n",
    "# sys.path.append(path.realpath(path.join(os.getcwd(), \"../../src\")))\n",
    "\n",
    "# from util import active_inventory_util as util"
   ]
  },
  {
   "cell_type": "code",
   "execution_count": 13,
   "id": "c2af6220-2ebc-4447-a17e-0e3d9f3a7bbd",
   "metadata": {},
   "outputs": [],
   "source": [
    "# d = util.Download()\n",
    "# d.download_dataframes(\n",
    "#     incoming_transfer_packages_dataframe=company_incoming_transfer_packages_dataframe,\n",
    "#     outgoing_transfer_packages_dataframe=company_outgoing_transfer_packages_dataframe,\n",
    "#     sales_transactions_dataframe=company_sales_transactions_dataframe,\n",
    "# )"
   ]
  },
  {
   "cell_type": "code",
   "execution_count": 19,
   "id": "5fbbbfe7-87c0-4409-9e6a-b6dc2b63ce54",
   "metadata": {
    "tags": []
   },
   "outputs": [],
   "source": [
    "# q = util.Query()\n",
    "# q.inventory_dates = INVENTORY_DATES\n",
    "# q.company_name = COMPANY_NAME\n",
    "\n",
    "# id_to_history = util.get_histories(d)\n",
    "# util.print_counts(id_to_history)\n",
    "# util.create_inventory_xlsx(id_to_history, q)"
   ]
  },
  {
   "cell_type": "code",
   "execution_count": 20,
   "id": "4de368e2-44ab-4885-86d2-54b989f091f2",
   "metadata": {
    "tags": []
   },
   "outputs": [],
   "source": [
    "# computed_inventory_package_records = util.create_inventory_dataframe_by_date(id_to_history, INVENTORY_DATE)\n",
    "# computed_inventory_packages_dataframe = pandas.DataFrame(\n",
    "#     computed_inventory_package_records,\n",
    "#     columns=[\n",
    "#         'package_id',\n",
    "#         'Arrived Date',\n",
    "#         'Product Category',\n",
    "#         'Product Name',\n",
    "#         'Current Quantity',\n",
    "#         'Sold Date',\n",
    "#     ]\n",
    "# )\n",
    "# computed_inventory_packages_dataframe"
   ]
  },
  {
   "cell_type": "code",
   "execution_count": 21,
   "id": "8cf09fb6-7890-4a77-9c5a-b78873a8a420",
   "metadata": {},
   "outputs": [],
   "source": [
    "# date_to_inventory_dataframe = {}\n",
    "# for date, inventory_records in date_to_inventory_records.items():\n",
    "#     date_to_inventory_dataframe[date] = pandas.DataFrame(\n",
    "#         inventory_records,\n",
    "#         columns=[\n",
    "#             'package_id',\n",
    "#             'Arrived Date',\n",
    "#             'Product Category',\n",
    "#             'Product Name',\n",
    "#             'Current Quantity',\n",
    "#             'Sold Date',\n",
    "#         ]\n",
    "#     )\n",
    "    \n",
    "# date_to_inventory_dataframe[list(date_to_inventory_dataframe.keys())[0]]"
   ]
  },
  {
   "cell_type": "code",
   "execution_count": 17,
   "id": "c17de11e-05e9-4c94-997d-cdc0d69912b7",
   "metadata": {},
   "outputs": [],
   "source": [
    "# raw_incoming_transfer_packages_dataframe = pandas.read_excel('data/20210930/royal_apothecary_incoming_transfer_packages_20200101_20210930.xlsx', header=0)\n",
    "# len(raw_incoming_transfer_packages_dataframe.index), raw_incoming_transfer_packages_dataframe.columns"
   ]
  },
  {
   "cell_type": "code",
   "execution_count": 88,
   "id": "3548e8c0-db51-43c3-8fe9-cb93ef3088cd",
   "metadata": {},
   "outputs": [],
   "source": [
    "# incoming_transfer_packages_dataframe = raw_incoming_transfer_packages_dataframe[[\n",
    "#     'date_type',\n",
    "#     'transfer_row_id',\n",
    "#     'delivery_row_id',\n",
    "#     'package_row_id',\n",
    "#     'delivery_type',\n",
    "#     'manifest_number',\n",
    "#     'created_date',\n",
    "#     'received_datetime',\n",
    "#     'shipper_facility_license_number',\n",
    "#     'shipper_facility_name',\n",
    "#     'recipient_facility_license_number',\n",
    "#     'recipient_facility_name',\n",
    "#     'shipment_type_name',\n",
    "#     'shipment_transaction_type',\n",
    "#     'package_id',\n",
    "#     'package_label',\n",
    "#     'type',\n",
    "#     'product_category_name',\n",
    "#     'product_name',\n",
    "#     'shipper_wholesale_price',\n",
    "#     'shipped_quantity',\n",
    "#     'package_lab_results_status',\n",
    "#     'shipment_package_state',\n",
    "#     'is_testing_sample',\n",
    "#     'is_trade_sample'\n",
    "# ]]"
   ]
  },
  {
   "cell_type": "code",
   "execution_count": null,
   "id": "bba6d3dc-2949-4ab5-aedb-e37110298e1d",
   "metadata": {},
   "outputs": [],
   "source": []
  },
  {
   "cell_type": "code",
   "execution_count": 18,
   "id": "5e7c281b-9ccb-4162-abd0-fe89b36592c0",
   "metadata": {},
   "outputs": [],
   "source": [
    "# for date, inventory_dataframe in date_to_inventory_dataframe.items():\n",
    "#     print(date)\n",
    "#     print(f'# of packages in inventory: {len(inventory_dataframe.index)}')\n",
    "\n",
    "#     inventory_with_incoming_transfer_packages_dataframe = inventory_dataframe.astype({'package_id': 'int64'}).merge(incoming_transfer_packages_dataframe, on='package_id', how='inner', suffixes=('_l', '_r'))\n",
    "# #     print(f'# of packages in inventory with incoming package: {len(inventory_with_incoming_transfer_packages_dataframe.index)}')\n",
    "    \n",
    "#     inventory_with_cost_records = inventory_with_incoming_transfer_packages_dataframe.to_dict('record')\n",
    "\n",
    "#     total_valuation_cost = 0\n",
    "#     import math\n",
    "#     for inventory_with_cost_record in inventory_with_cost_records:\n",
    "#         incoming_shipped_price = inventory_with_cost_record['shipper_wholesale_price']\n",
    "#         if math.isnan(incoming_shipped_price):\n",
    "#             incoming_shipped_price = 0\n",
    "#         incoming_shipped_quantity = inventory_with_cost_record['shipped_quantity']\n",
    "#         current_quantity = inventory_with_cost_record['Current Quantity']\n",
    "#         total_valuation_cost += float(current_quantity) * (incoming_shipped_price / incoming_shipped_quantity)\n",
    "\n",
    "#     print(f'Inventory valuation (based on COST): ${total_valuation_cost}')\n",
    "#     print('')"
   ]
  },
  {
   "cell_type": "code",
   "execution_count": null,
   "id": "784c3521-f47d-4443-90cb-d06e934a9a1d",
   "metadata": {},
   "outputs": [],
   "source": [
    "# import json\n",
    "# import pandas\n",
    "# import numpy\n",
    "# import os\n",
    "# import sys\n",
    "# from os import path"
   ]
  }
 ],
 "metadata": {
  "kernelspec": {
   "display_name": "Python 3 (ipykernel)",
   "language": "python",
   "name": "python3"
  },
  "language_info": {
   "codemirror_mode": {
    "name": "ipython",
    "version": 3
   },
   "file_extension": ".py",
   "mimetype": "text/x-python",
   "name": "python",
   "nbconvert_exporter": "python",
   "pygments_lexer": "ipython3",
   "version": "3.7.7"
  }
 },
 "nbformat": 4,
 "nbformat_minor": 5
}
