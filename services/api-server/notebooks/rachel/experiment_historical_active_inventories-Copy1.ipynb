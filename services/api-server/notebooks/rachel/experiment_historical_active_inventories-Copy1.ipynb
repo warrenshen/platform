{
 "cells": [
  {
   "cell_type": "code",
   "execution_count": null,
   "id": "601d396f",
   "metadata": {},
   "outputs": [],
   "source": [
    "# Steps to install\n",
    "# 1. pip install sqlalchemy-bigquery google-cloud-bigquery-storage pyarrow\n",
    "# 2. Copy the credentials file to wherever you set BIGQUERY_CREDENTIALS_PATH to"
   ]
  },
  {
   "cell_type": "code",
   "execution_count": 1,
   "id": "170c442e-f0fb-4421-a3bf-5f87863f8277",
   "metadata": {},
   "outputs": [],
   "source": [
    "import json\n",
    "import os\n",
    "import pandas as pd\n",
    "import pyarrow\n",
    "import numpy as np\n",
    "\n",
    "import sys\n",
    "from os import path\n",
    "import numpy\n",
    "\n",
    "from dotenv import load_dotenv\n",
    "from sqlalchemy import create_engine\n",
    "\n",
    "\n",
    "load_dotenv(verbose=True)\n",
    "BIGQUERY_CREDENTIALS_PATH = os.environ.get('BIGQUERY_CREDENTIALS_PATH')"
   ]
  },
  {
   "cell_type": "code",
   "execution_count": 2,
   "id": "38f9a288-03bc-43c5-82f8-a7c5a55f7286",
   "metadata": {},
   "outputs": [],
   "source": [
    "sys.path.append(path.realpath(path.join(os.getcwd(), \"../core\")))\n",
    "import create_queries\n",
    "%load_ext autoreload\n",
    "%autoreload 2"
   ]
  },
  {
   "cell_type": "code",
   "execution_count": 3,
   "id": "55535e4b",
   "metadata": {},
   "outputs": [],
   "source": [
    "import prepare_data"
   ]
  },
  {
   "cell_type": "code",
   "execution_count": 4,
   "id": "fbfe06bc-cc79-41cc-814e-1d2166177496",
   "metadata": {},
   "outputs": [],
   "source": [
    "COMPANY_NAME = 'BBF'\n",
    "COMPANY_IDENTIFIER = 'BBF'\n",
    "TRANSFER_PACKAGES_START_DATE = '2020-01-01'\n",
    "SALES_TRANSACTIONS_START_DATE = '2020-01-01'\n",
    "\n",
    "INVENTORY_DATE = '11/05/2021'"
   ]
  },
  {
   "cell_type": "code",
   "execution_count": 5,
   "id": "d9eccd84-a327-4299-8876-456c6c9f574c",
   "metadata": {},
   "outputs": [
    {
     "ename": "AttributeError",
     "evalue": "module 'create_queries' has no attribute 'create_company_incoming_transfer_packages_query'",
     "output_type": "error",
     "traceback": [
      "\u001b[1;31m---------------------------------------------------------------------------\u001b[0m",
      "\u001b[1;31mAttributeError\u001b[0m                            Traceback (most recent call last)",
      "\u001b[1;32m~\\AppData\\Local\\Temp/ipykernel_19428/3082384560.py\u001b[0m in \u001b[0;36m<module>\u001b[1;34m\u001b[0m\n\u001b[1;32m----> 1\u001b[1;33m \u001b[0mcompany_incoming_transfer_packages_query\u001b[0m \u001b[1;33m=\u001b[0m \u001b[0mcreate_queries\u001b[0m\u001b[1;33m.\u001b[0m\u001b[0mcreate_company_incoming_transfer_packages_query\u001b[0m\u001b[1;33m(\u001b[0m\u001b[0mCOMPANY_IDENTIFIER\u001b[0m\u001b[1;33m,\u001b[0m \u001b[0mTRANSFER_PACKAGES_START_DATE\u001b[0m\u001b[1;33m)\u001b[0m\u001b[1;33m\u001b[0m\u001b[1;33m\u001b[0m\u001b[0m\n\u001b[0m\u001b[0;32m      2\u001b[0m \u001b[0mcompany_outgoing_transfer_packages_query\u001b[0m \u001b[1;33m=\u001b[0m \u001b[0mcreate_queries\u001b[0m\u001b[1;33m.\u001b[0m\u001b[0mcreate_company_outgoing_transfer_packages_query\u001b[0m\u001b[1;33m(\u001b[0m\u001b[0mCOMPANY_IDENTIFIER\u001b[0m\u001b[1;33m,\u001b[0m \u001b[0mTRANSFER_PACKAGES_START_DATE\u001b[0m\u001b[1;33m)\u001b[0m\u001b[1;33m\u001b[0m\u001b[1;33m\u001b[0m\u001b[0m\n\u001b[0;32m      3\u001b[0m \u001b[0mcompany_sales_transactions_query\u001b[0m \u001b[1;33m=\u001b[0m \u001b[0mcreate_queries\u001b[0m\u001b[1;33m.\u001b[0m\u001b[0mcreate_company_sales_transactions_query\u001b[0m\u001b[1;33m(\u001b[0m\u001b[0mCOMPANY_IDENTIFIER\u001b[0m\u001b[1;33m,\u001b[0m \u001b[0mSALES_TRANSACTIONS_START_DATE\u001b[0m\u001b[1;33m)\u001b[0m\u001b[1;33m\u001b[0m\u001b[1;33m\u001b[0m\u001b[0m\n\u001b[0;32m      4\u001b[0m \u001b[0mcompany_inventory_packages_query\u001b[0m \u001b[1;33m=\u001b[0m \u001b[0mcreate_queries\u001b[0m\u001b[1;33m.\u001b[0m\u001b[0mcreate_company_inventory_packages_query\u001b[0m\u001b[1;33m(\u001b[0m\u001b[0mCOMPANY_IDENTIFIER\u001b[0m\u001b[1;33m)\u001b[0m\u001b[1;33m\u001b[0m\u001b[1;33m\u001b[0m\u001b[0m\n\u001b[0;32m      5\u001b[0m \u001b[1;33m\u001b[0m\u001b[0m\n",
      "\u001b[1;31mAttributeError\u001b[0m: module 'create_queries' has no attribute 'create_company_incoming_transfer_packages_query'"
     ]
    }
   ],
   "source": [
    "company_incoming_transfer_packages_query = create_queries.create_company_incoming_transfer_packages_query(COMPANY_IDENTIFIER, TRANSFER_PACKAGES_START_DATE)\n",
    "company_outgoing_transfer_packages_query = create_queries.create_company_outgoing_transfer_packages_query(COMPANY_IDENTIFIER, TRANSFER_PACKAGES_START_DATE)\n",
    "company_sales_transactions_query = create_queries.create_company_sales_transactions_query(COMPANY_IDENTIFIER, SALES_TRANSACTIONS_START_DATE)\n",
    "company_inventory_packages_query = create_queries.create_company_inventory_packages_query(COMPANY_IDENTIFIER)\n",
    "\n",
    "engine = create_engine('bigquery://bespoke-financial/ProdMetrcData', credentials_path=os.path.expanduser(BIGQUERY_CREDENTIALS_PATH))\n",
    "company_incoming_transfer_packages_dataframe = pd.read_sql_query(company_incoming_transfer_packages_query, engine)\n",
    "company_outgoing_transfer_packages_dataframe = pd.read_sql_query(company_outgoing_transfer_packages_query, engine)\n",
    "company_sales_transactions_dataframe = pd.read_sql_query(company_sales_transactions_query, engine)\n",
    "company_inventory_packages_dataframe = pd.read_sql_query(company_inventory_packages_query, engine)"
   ]
  },
  {
   "cell_type": "code",
   "execution_count": 6,
   "id": "62be4499",
   "metadata": {},
   "outputs": [],
   "source": [
    "deduped_sales_receipts_dataframe = prepare_data.dedupe_sales_transactions(company_sales_transactions_dataframe)"
   ]
  },
  {
   "cell_type": "code",
   "execution_count": 7,
   "id": "7a7cc54e",
   "metadata": {},
   "outputs": [],
   "source": [
    "df_in = company_incoming_transfer_packages_dataframe\n",
    "df_out = company_outgoing_transfer_packages_dataframe"
   ]
  },
  {
   "cell_type": "code",
   "execution_count": 8,
   "id": "15d9a0a3",
   "metadata": {},
   "outputs": [],
   "source": [
    "df_inventory = company_inventory_packages_dataframe"
   ]
  },
  {
   "cell_type": "code",
   "execution_count": 9,
   "id": "d9c61f28",
   "metadata": {},
   "outputs": [],
   "source": [
    "df_sales = deduped_sales_receipts_dataframe"
   ]
  },
  {
   "cell_type": "code",
   "execution_count": 10,
   "id": "670d43d1",
   "metadata": {},
   "outputs": [
    {
     "data": {
      "text/html": [
       "<div>\n",
       "<style scoped>\n",
       "    .dataframe tbody tr th:only-of-type {\n",
       "        vertical-align: middle;\n",
       "    }\n",
       "\n",
       "    .dataframe tbody tr th {\n",
       "        vertical-align: top;\n",
       "    }\n",
       "\n",
       "    .dataframe thead th {\n",
       "        text-align: right;\n",
       "    }\n",
       "</style>\n",
       "<table border=\"1\" class=\"dataframe\">\n",
       "  <thead>\n",
       "    <tr style=\"text-align: right;\">\n",
       "      <th></th>\n",
       "      <th>total_packages</th>\n",
       "      <th>rt_total_price</th>\n",
       "      <th>tx_quantity_sold</th>\n",
       "      <th>tx_total_price</th>\n",
       "    </tr>\n",
       "    <tr>\n",
       "      <th>license_number</th>\n",
       "      <th></th>\n",
       "      <th></th>\n",
       "      <th></th>\n",
       "      <th></th>\n",
       "    </tr>\n",
       "  </thead>\n",
       "  <tbody>\n",
       "    <tr>\n",
       "      <th>MR281525</th>\n",
       "      <td>84950</td>\n",
       "      <td>3184667.99</td>\n",
       "      <td>56353.5558</td>\n",
       "      <td>1119179.63</td>\n",
       "    </tr>\n",
       "  </tbody>\n",
       "</table>\n",
       "</div>"
      ],
      "text/plain": [
       "                total_packages  rt_total_price  tx_quantity_sold  \\\n",
       "license_number                                                     \n",
       "MR281525                 84950      3184667.99        56353.5558   \n",
       "\n",
       "                tx_total_price  \n",
       "license_number                  \n",
       "MR281525            1119179.63  "
      ]
     },
     "execution_count": 10,
     "metadata": {},
     "output_type": "execute_result"
    }
   ],
   "source": [
    "df_sales.groupby('license_number').sum()"
   ]
  },
  {
   "cell_type": "code",
   "execution_count": 48,
   "id": "1d338c5c",
   "metadata": {},
   "outputs": [
    {
     "name": "stdout",
     "output_type": "stream",
     "text": [
      "<class 'pandas.core.frame.DataFrame'>\n",
      "RangeIndex: 30858 entries, 0 to 30857\n",
      "Data columns (total 19 columns):\n",
      " #   Column                    Non-Null Count  Dtype              \n",
      "---  ------                    --------------  -----              \n",
      " 0   id                        30858 non-null  object             \n",
      " 1   license_number            30858 non-null  object             \n",
      " 2   receipt_number            30858 non-null  object             \n",
      " 3   rt_type                   30858 non-null  object             \n",
      " 4   sales_customer_type       30858 non-null  object             \n",
      " 5   sales_datetime            30858 non-null  datetime64[ns, UTC]\n",
      " 6   total_packages            30858 non-null  int64              \n",
      " 7   rt_total_price            30858 non-null  float64            \n",
      " 8   tx_type                   30858 non-null  object             \n",
      " 9   tx_package_id             30858 non-null  object             \n",
      " 10  tx_package_label          30858 non-null  object             \n",
      " 11  tx_product_name           30858 non-null  object             \n",
      " 12  tx_product_category_name  30858 non-null  object             \n",
      " 13  tx_unit_of_measure        30858 non-null  object             \n",
      " 14  tx_quantity_sold          30858 non-null  float64            \n",
      " 15  tx_total_price            30858 non-null  float64            \n",
      " 16  tx_is_deleted             8 non-null      object             \n",
      " 17  per_unit                  30858 non-null  float64            \n",
      " 18  year_month                30858 non-null  object             \n",
      "dtypes: datetime64[ns, UTC](1), float64(4), int64(1), object(13)\n",
      "memory usage: 4.5+ MB\n"
     ]
    }
   ],
   "source": [
    "df_sales.count()"
   ]
  },
  {
   "cell_type": "code",
   "execution_count": 12,
   "id": "d1bfdf36",
   "metadata": {},
   "outputs": [
    {
     "data": {
      "text/html": [
       "<div>\n",
       "<style scoped>\n",
       "    .dataframe tbody tr th:only-of-type {\n",
       "        vertical-align: middle;\n",
       "    }\n",
       "\n",
       "    .dataframe tbody tr th {\n",
       "        vertical-align: top;\n",
       "    }\n",
       "\n",
       "    .dataframe thead th {\n",
       "        text-align: right;\n",
       "    }\n",
       "</style>\n",
       "<table border=\"1\" class=\"dataframe\">\n",
       "  <thead>\n",
       "    <tr style=\"text-align: right;\">\n",
       "      <th></th>\n",
       "      <th>quantity</th>\n",
       "      <th>is_testing_sample</th>\n",
       "      <th>is_trade_sample</th>\n",
       "      <th>is_on_hold</th>\n",
       "    </tr>\n",
       "    <tr>\n",
       "      <th>license_number</th>\n",
       "      <th></th>\n",
       "      <th></th>\n",
       "      <th></th>\n",
       "      <th></th>\n",
       "    </tr>\n",
       "  </thead>\n",
       "  <tbody>\n",
       "    <tr>\n",
       "      <th>MP281397</th>\n",
       "      <td>22459.65</td>\n",
       "      <td>0</td>\n",
       "      <td>0</td>\n",
       "      <td>0</td>\n",
       "    </tr>\n",
       "    <tr>\n",
       "      <th>MR281525</th>\n",
       "      <td>14793.40</td>\n",
       "      <td>0</td>\n",
       "      <td>0</td>\n",
       "      <td>0</td>\n",
       "    </tr>\n",
       "  </tbody>\n",
       "</table>\n",
       "</div>"
      ],
      "text/plain": [
       "                quantity  is_testing_sample  is_trade_sample  is_on_hold\n",
       "license_number                                                          \n",
       "MP281397        22459.65                  0                0           0\n",
       "MR281525        14793.40                  0                0           0"
      ]
     },
     "execution_count": 12,
     "metadata": {},
     "output_type": "execute_result"
    }
   ],
   "source": [
    "df_inventory.groupby('license_number').sum()"
   ]
  },
  {
   "cell_type": "code",
   "execution_count": 11,
   "id": "d51d2982",
   "metadata": {},
   "outputs": [],
   "source": [
    "# df_sales['per_unit'] = df_sales['tx_total_price'] / df_sales['tx_quantity_sold']\n",
    "# df_sales['year_month'] = df_sales['sales_datetime'].dt.strftime(\"%Y-%m\")"
   ]
  },
  {
   "cell_type": "code",
   "execution_count": 13,
   "id": "c9d633ed",
   "metadata": {},
   "outputs": [],
   "source": [
    "pd.options.display.float_format = '{:,.2f}'.format"
   ]
  },
  {
   "cell_type": "code",
   "execution_count": 504,
   "id": "13a3eca2",
   "metadata": {},
   "outputs": [],
   "source": [
    "# df_sales = df_sales[df_sales['license_number'] == 'C10-0000824-LIC']"
   ]
  },
  {
   "cell_type": "code",
   "execution_count": 505,
   "id": "ba53a611",
   "metadata": {},
   "outputs": [],
   "source": [
    "# df_inventory = df_inventory[df_inventory['license_number'] == 'C10-0000824-LIC']"
   ]
  },
  {
   "cell_type": "markdown",
   "id": "dabac9b0",
   "metadata": {},
   "source": [
    "## Sales"
   ]
  },
  {
   "cell_type": "code",
   "execution_count": 14,
   "id": "13619ec3",
   "metadata": {},
   "outputs": [],
   "source": [
    "df_sales['per_unit'] = df_sales['tx_total_price'] / df_sales['tx_quantity_sold']\n",
    "df_sales['year_month'] = df_sales['sales_datetime'].dt.strftime(\"%Y-%m\")"
   ]
  },
  {
   "cell_type": "code",
   "execution_count": 15,
   "id": "39902b28",
   "metadata": {},
   "outputs": [],
   "source": [
    "s_total_count = df_sales.groupby('year_month')['tx_total_price'].count()\n",
    "df_total_count = pd.Series(s_total_count).to_frame()\n",
    "df_total_count = df_total_count.reset_index()\n",
    "df_total_count.rename(columns={'tx_total_price':'total_count'}, inplace=True)"
   ]
  },
  {
   "cell_type": "code",
   "execution_count": 16,
   "id": "5fc46d2c",
   "metadata": {},
   "outputs": [],
   "source": [
    "s_revenue = df_sales.groupby('year_month')['tx_total_price'].sum()\n",
    "df_revenue = pd.Series(s_revenue).to_frame()\n",
    "df_revenue = df_revenue.reset_index()\n",
    "df_revenue.rename(columns={'tx_total_price': 'revenue'}, inplace=True)"
   ]
  },
  {
   "cell_type": "code",
   "execution_count": 17,
   "id": "7ec668a2",
   "metadata": {},
   "outputs": [],
   "source": [
    "df_sales_oct = df_sales[df_sales['year_month'] == '2021-10']"
   ]
  },
  {
   "cell_type": "code",
   "execution_count": 564,
   "id": "e6edae16",
   "metadata": {},
   "outputs": [],
   "source": [
    "# df_sales_oct.to_csv('./CCC_sales_2021_10.csv')"
   ]
  },
  {
   "cell_type": "markdown",
   "id": "664c5215",
   "metadata": {},
   "source": [
    "## Incoming"
   ]
  },
  {
   "cell_type": "code",
   "execution_count": 54,
   "id": "c2f3deeb",
   "metadata": {},
   "outputs": [
    {
     "data": {
      "text/html": [
       "<div>\n",
       "<style scoped>\n",
       "    .dataframe tbody tr th:only-of-type {\n",
       "        vertical-align: middle;\n",
       "    }\n",
       "\n",
       "    .dataframe tbody tr th {\n",
       "        vertical-align: top;\n",
       "    }\n",
       "\n",
       "    .dataframe thead th {\n",
       "        text-align: right;\n",
       "    }\n",
       "</style>\n",
       "<table border=\"1\" class=\"dataframe\">\n",
       "  <thead>\n",
       "    <tr style=\"text-align: right;\">\n",
       "      <th></th>\n",
       "      <th>package_row_id</th>\n",
       "      <th>delivery_type</th>\n",
       "      <th>license_number</th>\n",
       "      <th>manifest_number</th>\n",
       "      <th>created_date</th>\n",
       "      <th>received_datetime</th>\n",
       "      <th>shipper_facility_license_number</th>\n",
       "      <th>shipper_facility_name</th>\n",
       "      <th>recipient_facility_license_number</th>\n",
       "      <th>recipient_facility_name</th>\n",
       "      <th>...</th>\n",
       "      <th>product_name</th>\n",
       "      <th>package_lab_results_status</th>\n",
       "      <th>shipper_wholesale_price</th>\n",
       "      <th>shipped_quantity</th>\n",
       "      <th>shipped_unit_of_measure</th>\n",
       "      <th>received_quantity</th>\n",
       "      <th>received_unit_of_measure</th>\n",
       "      <th>item_unit_weight</th>\n",
       "      <th>item_unit_weight_unit_of_measure_name</th>\n",
       "      <th>per_unit_incoming</th>\n",
       "    </tr>\n",
       "  </thead>\n",
       "  <tbody>\n",
       "    <tr>\n",
       "      <th>0</th>\n",
       "      <td>30e8168f-4e94-4ccb-8d28-ca984fae85df</td>\n",
       "      <td>INCOMING_FROM_VENDOR</td>\n",
       "      <td>MR281525</td>\n",
       "      <td>0000798113</td>\n",
       "      <td>2021-11-03</td>\n",
       "      <td>2021-11-04 16:58:10+00:00</td>\n",
       "      <td>MP281303</td>\n",
       "      <td>SIRA NATURALS, INC.</td>\n",
       "      <td>MR281525</td>\n",
       "      <td>Boston Bud Factory Inc.</td>\n",
       "      <td>...</td>\n",
       "      <td>M00001057253: Sira MAC1 Preroll 1g</td>\n",
       "      <td>passed</td>\n",
       "      <td>136.50</td>\n",
       "      <td>21.00</td>\n",
       "      <td>Grams</td>\n",
       "      <td>21.00</td>\n",
       "      <td>Grams</td>\n",
       "      <td>None</td>\n",
       "      <td>None</td>\n",
       "      <td>6.50</td>\n",
       "    </tr>\n",
       "    <tr>\n",
       "      <th>1</th>\n",
       "      <td>ee5c5b4e-b42e-4c1e-906a-afe1e711083c</td>\n",
       "      <td>INCOMING_FROM_VENDOR</td>\n",
       "      <td>MR281525</td>\n",
       "      <td>0000798113</td>\n",
       "      <td>2021-11-03</td>\n",
       "      <td>2021-11-04 16:58:10+00:00</td>\n",
       "      <td>MP281303</td>\n",
       "      <td>SIRA NATURALS, INC.</td>\n",
       "      <td>MR281525</td>\n",
       "      <td>Boston Bud Factory Inc.</td>\n",
       "      <td>...</td>\n",
       "      <td>M00001057253: Sira MAC1 Preroll 1g</td>\n",
       "      <td>passed</td>\n",
       "      <td>188.50</td>\n",
       "      <td>29.00</td>\n",
       "      <td>Grams</td>\n",
       "      <td>29.00</td>\n",
       "      <td>Grams</td>\n",
       "      <td>None</td>\n",
       "      <td>None</td>\n",
       "      <td>6.50</td>\n",
       "    </tr>\n",
       "    <tr>\n",
       "      <th>2</th>\n",
       "      <td>f6bf506d-50f5-4407-a0ea-8b0ff0a9014d</td>\n",
       "      <td>INCOMING_FROM_VENDOR</td>\n",
       "      <td>MR281525</td>\n",
       "      <td>0000798113</td>\n",
       "      <td>2021-11-03</td>\n",
       "      <td>2021-11-04 16:58:10+00:00</td>\n",
       "      <td>MP281303</td>\n",
       "      <td>SIRA NATURALS, INC.</td>\n",
       "      <td>MR281525</td>\n",
       "      <td>Boston Bud Factory Inc.</td>\n",
       "      <td>...</td>\n",
       "      <td>M00000975801: Sira Dosido #22 Preroll 1g</td>\n",
       "      <td>passed</td>\n",
       "      <td>390.00</td>\n",
       "      <td>60.00</td>\n",
       "      <td>Grams</td>\n",
       "      <td>60.00</td>\n",
       "      <td>Grams</td>\n",
       "      <td>None</td>\n",
       "      <td>None</td>\n",
       "      <td>6.50</td>\n",
       "    </tr>\n",
       "    <tr>\n",
       "      <th>3</th>\n",
       "      <td>f9fcbfd1-15ec-4a76-ad29-35a86caece21</td>\n",
       "      <td>INCOMING_FROM_VENDOR</td>\n",
       "      <td>MR281525</td>\n",
       "      <td>0000798113</td>\n",
       "      <td>2021-11-03</td>\n",
       "      <td>2021-11-04 16:58:10+00:00</td>\n",
       "      <td>MP281303</td>\n",
       "      <td>SIRA NATURALS, INC.</td>\n",
       "      <td>MR281525</td>\n",
       "      <td>Boston Bud Factory Inc.</td>\n",
       "      <td>...</td>\n",
       "      <td>M00001074741: Sira Blueberry Preroll 1g</td>\n",
       "      <td>passed</td>\n",
       "      <td>559.00</td>\n",
       "      <td>86.00</td>\n",
       "      <td>Grams</td>\n",
       "      <td>86.00</td>\n",
       "      <td>Grams</td>\n",
       "      <td>None</td>\n",
       "      <td>None</td>\n",
       "      <td>6.50</td>\n",
       "    </tr>\n",
       "    <tr>\n",
       "      <th>4</th>\n",
       "      <td>40cc2c14-b30d-4053-b39d-1c825523ce4a</td>\n",
       "      <td>INCOMING_FROM_VENDOR</td>\n",
       "      <td>MR281525</td>\n",
       "      <td>0000798113</td>\n",
       "      <td>2021-11-03</td>\n",
       "      <td>2021-11-04 16:58:10+00:00</td>\n",
       "      <td>MP281303</td>\n",
       "      <td>SIRA NATURALS, INC.</td>\n",
       "      <td>MR281525</td>\n",
       "      <td>Boston Bud Factory Inc.</td>\n",
       "      <td>...</td>\n",
       "      <td>M00001057253: Sira MAC1 Preroll 1g</td>\n",
       "      <td>passed</td>\n",
       "      <td>162.50</td>\n",
       "      <td>25.00</td>\n",
       "      <td>Grams</td>\n",
       "      <td>25.00</td>\n",
       "      <td>Grams</td>\n",
       "      <td>None</td>\n",
       "      <td>None</td>\n",
       "      <td>6.50</td>\n",
       "    </tr>\n",
       "    <tr>\n",
       "      <th>...</th>\n",
       "      <td>...</td>\n",
       "      <td>...</td>\n",
       "      <td>...</td>\n",
       "      <td>...</td>\n",
       "      <td>...</td>\n",
       "      <td>...</td>\n",
       "      <td>...</td>\n",
       "      <td>...</td>\n",
       "      <td>...</td>\n",
       "      <td>...</td>\n",
       "      <td>...</td>\n",
       "      <td>...</td>\n",
       "      <td>...</td>\n",
       "      <td>...</td>\n",
       "      <td>...</td>\n",
       "      <td>...</td>\n",
       "      <td>...</td>\n",
       "      <td>...</td>\n",
       "      <td>...</td>\n",
       "      <td>...</td>\n",
       "      <td>...</td>\n",
       "    </tr>\n",
       "    <tr>\n",
       "      <th>708</th>\n",
       "      <td>f842972b-7322-449b-986b-7375c068c6b2</td>\n",
       "      <td>INCOMING_FROM_VENDOR</td>\n",
       "      <td>MR281525</td>\n",
       "      <td>0000115711</td>\n",
       "      <td>2020-06-04</td>\n",
       "      <td>2020-06-05 15:15:36+00:00</td>\n",
       "      <td>MC281252</td>\n",
       "      <td>SIRA NATURALS, INC.</td>\n",
       "      <td>MR281525</td>\n",
       "      <td>Boston Bud Factory Inc.</td>\n",
       "      <td>...</td>\n",
       "      <td>M00000211450: Sira Mother of Grapes Preroll 1g</td>\n",
       "      <td>passed</td>\n",
       "      <td>80.00</td>\n",
       "      <td>10.00</td>\n",
       "      <td>Grams</td>\n",
       "      <td>10.00</td>\n",
       "      <td>Grams</td>\n",
       "      <td>None</td>\n",
       "      <td>None</td>\n",
       "      <td>8.00</td>\n",
       "    </tr>\n",
       "    <tr>\n",
       "      <th>709</th>\n",
       "      <td>87553ab7-8fe4-4b2a-941e-b5820189fd13</td>\n",
       "      <td>INCOMING_FROM_VENDOR</td>\n",
       "      <td>MR281525</td>\n",
       "      <td>0000115810</td>\n",
       "      <td>2020-06-04</td>\n",
       "      <td>2020-06-05 16:41:20+00:00</td>\n",
       "      <td>MP281303</td>\n",
       "      <td>SIRA NATURALS, INC.</td>\n",
       "      <td>MR281525</td>\n",
       "      <td>Boston Bud Factory Inc.</td>\n",
       "      <td>...</td>\n",
       "      <td>M00000197846: Vape Product - EHO - Sira Headba...</td>\n",
       "      <td>passed</td>\n",
       "      <td>300.00</td>\n",
       "      <td>10.00</td>\n",
       "      <td>Each</td>\n",
       "      <td>10.00</td>\n",
       "      <td>Each</td>\n",
       "      <td>None</td>\n",
       "      <td>None</td>\n",
       "      <td>30.00</td>\n",
       "    </tr>\n",
       "    <tr>\n",
       "      <th>710</th>\n",
       "      <td>8650a5fa-3c68-4f46-b13c-57f18efe2743</td>\n",
       "      <td>INCOMING_FROM_VENDOR</td>\n",
       "      <td>MR281525</td>\n",
       "      <td>0000115810</td>\n",
       "      <td>2020-06-04</td>\n",
       "      <td>2020-06-05 16:41:20+00:00</td>\n",
       "      <td>MP281303</td>\n",
       "      <td>SIRA NATURALS, INC.</td>\n",
       "      <td>MR281525</td>\n",
       "      <td>Boston Bud Factory Inc.</td>\n",
       "      <td>...</td>\n",
       "      <td>Sira Dosido #22 Wax 1g</td>\n",
       "      <td>passed</td>\n",
       "      <td>300.00</td>\n",
       "      <td>10.00</td>\n",
       "      <td>Grams</td>\n",
       "      <td>10.00</td>\n",
       "      <td>Grams</td>\n",
       "      <td>None</td>\n",
       "      <td>None</td>\n",
       "      <td>30.00</td>\n",
       "    </tr>\n",
       "    <tr>\n",
       "      <th>711</th>\n",
       "      <td>af583a5d-73b6-410a-aec1-cb1c3a6d7ae6</td>\n",
       "      <td>INCOMING_FROM_VENDOR</td>\n",
       "      <td>MR281525</td>\n",
       "      <td>0000115810</td>\n",
       "      <td>2020-06-04</td>\n",
       "      <td>2020-06-05 16:41:20+00:00</td>\n",
       "      <td>MP281303</td>\n",
       "      <td>SIRA NATURALS, INC.</td>\n",
       "      <td>MR281525</td>\n",
       "      <td>Boston Bud Factory Inc.</td>\n",
       "      <td>...</td>\n",
       "      <td>M00000245541: Vape Product - EHO - Entourage S...</td>\n",
       "      <td>passed</td>\n",
       "      <td>185.00</td>\n",
       "      <td>10.00</td>\n",
       "      <td>Each</td>\n",
       "      <td>10.00</td>\n",
       "      <td>Each</td>\n",
       "      <td>None</td>\n",
       "      <td>None</td>\n",
       "      <td>18.50</td>\n",
       "    </tr>\n",
       "    <tr>\n",
       "      <th>712</th>\n",
       "      <td>01333ec0-01be-410d-80c3-a6363f1eae7d</td>\n",
       "      <td>INCOMING_FROM_VENDOR</td>\n",
       "      <td>MR281525</td>\n",
       "      <td>0000115711</td>\n",
       "      <td>2020-06-04</td>\n",
       "      <td>2020-06-05 15:15:36+00:00</td>\n",
       "      <td>MC281252</td>\n",
       "      <td>SIRA NATURALS, INC.</td>\n",
       "      <td>MR281525</td>\n",
       "      <td>Boston Bud Factory Inc.</td>\n",
       "      <td>...</td>\n",
       "      <td>Sira Premium Tangie Flower 3.5g</td>\n",
       "      <td>passed</td>\n",
       "      <td>335.00</td>\n",
       "      <td>35.00</td>\n",
       "      <td>Grams</td>\n",
       "      <td>35.00</td>\n",
       "      <td>Grams</td>\n",
       "      <td>None</td>\n",
       "      <td>None</td>\n",
       "      <td>9.57</td>\n",
       "    </tr>\n",
       "  </tbody>\n",
       "</table>\n",
       "<p>713 rows × 29 columns</p>\n",
       "</div>"
      ],
      "text/plain": [
       "                           package_row_id         delivery_type  \\\n",
       "0    30e8168f-4e94-4ccb-8d28-ca984fae85df  INCOMING_FROM_VENDOR   \n",
       "1    ee5c5b4e-b42e-4c1e-906a-afe1e711083c  INCOMING_FROM_VENDOR   \n",
       "2    f6bf506d-50f5-4407-a0ea-8b0ff0a9014d  INCOMING_FROM_VENDOR   \n",
       "3    f9fcbfd1-15ec-4a76-ad29-35a86caece21  INCOMING_FROM_VENDOR   \n",
       "4    40cc2c14-b30d-4053-b39d-1c825523ce4a  INCOMING_FROM_VENDOR   \n",
       "..                                    ...                   ...   \n",
       "708  f842972b-7322-449b-986b-7375c068c6b2  INCOMING_FROM_VENDOR   \n",
       "709  87553ab7-8fe4-4b2a-941e-b5820189fd13  INCOMING_FROM_VENDOR   \n",
       "710  8650a5fa-3c68-4f46-b13c-57f18efe2743  INCOMING_FROM_VENDOR   \n",
       "711  af583a5d-73b6-410a-aec1-cb1c3a6d7ae6  INCOMING_FROM_VENDOR   \n",
       "712  01333ec0-01be-410d-80c3-a6363f1eae7d  INCOMING_FROM_VENDOR   \n",
       "\n",
       "    license_number manifest_number created_date         received_datetime  \\\n",
       "0         MR281525      0000798113   2021-11-03 2021-11-04 16:58:10+00:00   \n",
       "1         MR281525      0000798113   2021-11-03 2021-11-04 16:58:10+00:00   \n",
       "2         MR281525      0000798113   2021-11-03 2021-11-04 16:58:10+00:00   \n",
       "3         MR281525      0000798113   2021-11-03 2021-11-04 16:58:10+00:00   \n",
       "4         MR281525      0000798113   2021-11-03 2021-11-04 16:58:10+00:00   \n",
       "..             ...             ...          ...                       ...   \n",
       "708       MR281525      0000115711   2020-06-04 2020-06-05 15:15:36+00:00   \n",
       "709       MR281525      0000115810   2020-06-04 2020-06-05 16:41:20+00:00   \n",
       "710       MR281525      0000115810   2020-06-04 2020-06-05 16:41:20+00:00   \n",
       "711       MR281525      0000115810   2020-06-04 2020-06-05 16:41:20+00:00   \n",
       "712       MR281525      0000115711   2020-06-04 2020-06-05 15:15:36+00:00   \n",
       "\n",
       "    shipper_facility_license_number shipper_facility_name  \\\n",
       "0                          MP281303   SIRA NATURALS, INC.   \n",
       "1                          MP281303   SIRA NATURALS, INC.   \n",
       "2                          MP281303   SIRA NATURALS, INC.   \n",
       "3                          MP281303   SIRA NATURALS, INC.   \n",
       "4                          MP281303   SIRA NATURALS, INC.   \n",
       "..                              ...                   ...   \n",
       "708                        MC281252   SIRA NATURALS, INC.   \n",
       "709                        MP281303   SIRA NATURALS, INC.   \n",
       "710                        MP281303   SIRA NATURALS, INC.   \n",
       "711                        MP281303   SIRA NATURALS, INC.   \n",
       "712                        MC281252   SIRA NATURALS, INC.   \n",
       "\n",
       "    recipient_facility_license_number  recipient_facility_name  ...  \\\n",
       "0                            MR281525  Boston Bud Factory Inc.  ...   \n",
       "1                            MR281525  Boston Bud Factory Inc.  ...   \n",
       "2                            MR281525  Boston Bud Factory Inc.  ...   \n",
       "3                            MR281525  Boston Bud Factory Inc.  ...   \n",
       "4                            MR281525  Boston Bud Factory Inc.  ...   \n",
       "..                                ...                      ...  ...   \n",
       "708                          MR281525  Boston Bud Factory Inc.  ...   \n",
       "709                          MR281525  Boston Bud Factory Inc.  ...   \n",
       "710                          MR281525  Boston Bud Factory Inc.  ...   \n",
       "711                          MR281525  Boston Bud Factory Inc.  ...   \n",
       "712                          MR281525  Boston Bud Factory Inc.  ...   \n",
       "\n",
       "                                          product_name  \\\n",
       "0                   M00001057253: Sira MAC1 Preroll 1g   \n",
       "1                   M00001057253: Sira MAC1 Preroll 1g   \n",
       "2             M00000975801: Sira Dosido #22 Preroll 1g   \n",
       "3              M00001074741: Sira Blueberry Preroll 1g   \n",
       "4                   M00001057253: Sira MAC1 Preroll 1g   \n",
       "..                                                 ...   \n",
       "708     M00000211450: Sira Mother of Grapes Preroll 1g   \n",
       "709  M00000197846: Vape Product - EHO - Sira Headba...   \n",
       "710                             Sira Dosido #22 Wax 1g   \n",
       "711  M00000245541: Vape Product - EHO - Entourage S...   \n",
       "712                    Sira Premium Tangie Flower 3.5g   \n",
       "\n",
       "    package_lab_results_status shipper_wholesale_price shipped_quantity  \\\n",
       "0                       passed                  136.50            21.00   \n",
       "1                       passed                  188.50            29.00   \n",
       "2                       passed                  390.00            60.00   \n",
       "3                       passed                  559.00            86.00   \n",
       "4                       passed                  162.50            25.00   \n",
       "..                         ...                     ...              ...   \n",
       "708                     passed                   80.00            10.00   \n",
       "709                     passed                  300.00            10.00   \n",
       "710                     passed                  300.00            10.00   \n",
       "711                     passed                  185.00            10.00   \n",
       "712                     passed                  335.00            35.00   \n",
       "\n",
       "    shipped_unit_of_measure received_quantity  received_unit_of_measure  \\\n",
       "0                     Grams             21.00                     Grams   \n",
       "1                     Grams             29.00                     Grams   \n",
       "2                     Grams             60.00                     Grams   \n",
       "3                     Grams             86.00                     Grams   \n",
       "4                     Grams             25.00                     Grams   \n",
       "..                      ...               ...                       ...   \n",
       "708                   Grams             10.00                     Grams   \n",
       "709                    Each             10.00                      Each   \n",
       "710                   Grams             10.00                     Grams   \n",
       "711                    Each             10.00                      Each   \n",
       "712                   Grams             35.00                     Grams   \n",
       "\n",
       "     item_unit_weight item_unit_weight_unit_of_measure_name per_unit_incoming  \n",
       "0                None                                  None              6.50  \n",
       "1                None                                  None              6.50  \n",
       "2                None                                  None              6.50  \n",
       "3                None                                  None              6.50  \n",
       "4                None                                  None              6.50  \n",
       "..                ...                                   ...               ...  \n",
       "708              None                                  None              8.00  \n",
       "709              None                                  None             30.00  \n",
       "710              None                                  None             30.00  \n",
       "711              None                                  None             18.50  \n",
       "712              None                                  None              9.57  \n",
       "\n",
       "[713 rows x 29 columns]"
      ]
     },
     "execution_count": 54,
     "metadata": {},
     "output_type": "execute_result"
    }
   ],
   "source": [
    "df_in"
   ]
  },
  {
   "cell_type": "code",
   "execution_count": 49,
   "id": "1e89c968",
   "metadata": {},
   "outputs": [
    {
     "data": {
      "text/plain": [
       "501779.83999999997"
      ]
     },
     "execution_count": 49,
     "metadata": {},
     "output_type": "execute_result"
    }
   ],
   "source": [
    "df_in['shipper_wholesale_price'].sum()"
   ]
  },
  {
   "cell_type": "code",
   "execution_count": 51,
   "id": "f748e57a",
   "metadata": {},
   "outputs": [
    {
     "data": {
      "text/plain": [
       "1119179.63"
      ]
     },
     "execution_count": 51,
     "metadata": {},
     "output_type": "execute_result"
    }
   ],
   "source": [
    "df_sales['tx_total_price'].sum()"
   ]
  },
  {
   "cell_type": "code",
   "execution_count": 53,
   "id": "ab2a4537",
   "metadata": {},
   "outputs": [
    {
     "data": {
      "text/plain": [
       "0.5516538841937285"
      ]
     },
     "execution_count": 53,
     "metadata": {},
     "output_type": "execute_result"
    }
   ],
   "source": [
    "(1119179.63 - 501779.83999999997) / 1119179.63"
   ]
  },
  {
   "cell_type": "code",
   "execution_count": 18,
   "id": "378ca9d1",
   "metadata": {},
   "outputs": [],
   "source": [
    "df_in['per_unit_incoming'] = df_in['shipper_wholesale_price'] / df_in['shipped_quantity']"
   ]
  },
  {
   "cell_type": "code",
   "execution_count": 19,
   "id": "ae45c557",
   "metadata": {},
   "outputs": [],
   "source": [
    "df_in_price = df_in[df_in['shipper_wholesale_price'].notnull()]"
   ]
  },
  {
   "cell_type": "markdown",
   "id": "cf5c0969",
   "metadata": {},
   "source": [
    "#### getting the average price per package id"
   ]
  },
  {
   "cell_type": "code",
   "execution_count": 20,
   "id": "3fdd26c3",
   "metadata": {},
   "outputs": [],
   "source": [
    "average_incoming_package_id = df_in_price.groupby('package_id')['per_unit_incoming'].mean()\n",
    "df_avg_incoming_price = pd.Series(average_incoming_package_id).to_frame()\n",
    "df_avg_incoming_price = df_avg_incoming_price.reset_index()"
   ]
  },
  {
   "cell_type": "markdown",
   "id": "40bea709",
   "metadata": {},
   "source": [
    "#### getting average price per product name"
   ]
  },
  {
   "cell_type": "code",
   "execution_count": 21,
   "id": "59ecc3a5",
   "metadata": {},
   "outputs": [],
   "source": [
    "average_incoming_product = df_in_price.groupby('product_name')['per_unit_incoming'].mean()\n",
    "df_avg_product = pd.Series(average_incoming_product).to_frame()\n",
    "df_avg_product = df_avg_product.reset_index()\n",
    "df_avg_product.rename(columns={'per_unit_incoming':'per_unit_product'}, inplace=True)"
   ]
  },
  {
   "cell_type": "markdown",
   "id": "9316be3c",
   "metadata": {},
   "source": [
    "## COGS"
   ]
  },
  {
   "cell_type": "markdown",
   "id": "d2299795",
   "metadata": {},
   "source": [
    "#### Incoming Price - Package ID"
   ]
  },
  {
   "cell_type": "code",
   "execution_count": 22,
   "id": "f812a381",
   "metadata": {},
   "outputs": [],
   "source": [
    "df_cogs_package_id = pd.merge(df_sales, df_avg_incoming_price, left_on='tx_package_id', right_on='package_id', how='left')"
   ]
  },
  {
   "cell_type": "code",
   "execution_count": 23,
   "id": "93620abe",
   "metadata": {},
   "outputs": [],
   "source": [
    "df_cogs_package_id['total_incoming'] = df_cogs_package_id['per_unit_incoming'] * df_cogs_package_id['tx_quantity_sold']"
   ]
  },
  {
   "cell_type": "code",
   "execution_count": 24,
   "id": "dbec5e86",
   "metadata": {},
   "outputs": [],
   "source": [
    "df_cogs_package_id.replace([np.inf], np.nan, inplace=True)"
   ]
  },
  {
   "cell_type": "code",
   "execution_count": 25,
   "id": "bbf9f4ab",
   "metadata": {},
   "outputs": [],
   "source": [
    "df_cogs_package_id_notnull = df_cogs_package_id[df_cogs_package_id['total_incoming'].notnull()]"
   ]
  },
  {
   "cell_type": "code",
   "execution_count": 26,
   "id": "6af7b920",
   "metadata": {},
   "outputs": [],
   "source": [
    "s_cogs = df_cogs_package_id_notnull.groupby('year_month')['total_incoming'].sum()\n",
    "df_cogs_id = pd.Series(s_cogs).to_frame()\n",
    "df_cogs_id = df_cogs_id.reset_index()"
   ]
  },
  {
   "cell_type": "code",
   "execution_count": 27,
   "id": "279ee65b",
   "metadata": {},
   "outputs": [],
   "source": [
    "s_cogs_count = df_cogs_package_id_notnull.groupby('year_month')['total_incoming'].count()\n",
    "df_cogs_count = pd.Series(s_cogs_count).to_frame()\n",
    "df_cogs_count = df_cogs_count.reset_index()\n",
    "df_cogs_count.rename(columns={'total_incoming':'count_incoming'}, inplace=True)"
   ]
  },
  {
   "cell_type": "code",
   "execution_count": null,
   "id": "bd145d5a",
   "metadata": {},
   "outputs": [],
   "source": []
  },
  {
   "cell_type": "markdown",
   "id": "2ec0da02",
   "metadata": {},
   "source": [
    "#### Incoming Price - Average Product Price"
   ]
  },
  {
   "cell_type": "code",
   "execution_count": 28,
   "id": "00532d53",
   "metadata": {},
   "outputs": [],
   "source": [
    "df_cogs_average_product = pd.merge(df_cogs_package_id, df_avg_product, left_on='tx_product_name', right_on='product_name', how='left')"
   ]
  },
  {
   "cell_type": "code",
   "execution_count": 29,
   "id": "15f59efd",
   "metadata": {},
   "outputs": [],
   "source": [
    "df_cogs_average_product['total_product'] = df_cogs_average_product['tx_quantity_sold'] * df_cogs_average_product['per_unit_product']"
   ]
  },
  {
   "cell_type": "code",
   "execution_count": 30,
   "id": "a47d7d8c",
   "metadata": {},
   "outputs": [],
   "source": [
    "df_cogs_null = df_cogs_average_product[df_cogs_average_product['per_unit_incoming'].isnull()]"
   ]
  },
  {
   "cell_type": "code",
   "execution_count": 31,
   "id": "f193551e",
   "metadata": {},
   "outputs": [],
   "source": [
    "df_cogs_product = df_cogs_null[df_cogs_null['per_unit_product'].notnull()]"
   ]
  },
  {
   "cell_type": "code",
   "execution_count": 32,
   "id": "cf543886",
   "metadata": {},
   "outputs": [],
   "source": [
    "product_sum = df_cogs_product.groupby('year_month')['total_product'].sum()\n",
    "df_product_sum = pd.Series(product_sum).to_frame()\n",
    "df_product_sum = df_product_sum.reset_index()\n",
    "df_product_sum.rename(columns={'total_product':'product_sum'}, inplace=True)"
   ]
  },
  {
   "cell_type": "code",
   "execution_count": 33,
   "id": "835de7e4",
   "metadata": {},
   "outputs": [],
   "source": [
    "product_count = df_cogs_product.groupby('year_month')['total_product'].count()\n",
    "df_product_count = pd.Series(product_count).to_frame()\n",
    "df_product_count = df_product_count.reset_index()\n",
    "df_product_count.rename(columns={'total_product':'product_count'}, inplace=True)"
   ]
  },
  {
   "cell_type": "code",
   "execution_count": 34,
   "id": "1444f818",
   "metadata": {},
   "outputs": [],
   "source": [
    "df_cogs_product = pd.merge(df_product_sum, df_product_count)"
   ]
  },
  {
   "cell_type": "code",
   "execution_count": 35,
   "id": "b8b6b54c",
   "metadata": {},
   "outputs": [],
   "source": [
    "# df_cogs[df_cogs['per_unit_incoming'].isnull() & df_cogs['per_unit_product'].notnull()]"
   ]
  },
  {
   "cell_type": "markdown",
   "id": "7bda242d",
   "metadata": {},
   "source": [
    "## Summary"
   ]
  },
  {
   "cell_type": "code",
   "execution_count": 36,
   "id": "d064fec7",
   "metadata": {},
   "outputs": [],
   "source": [
    "df_summary = pd.merge(df_revenue, df_cogs_product, how='left')"
   ]
  },
  {
   "cell_type": "code",
   "execution_count": 37,
   "id": "5c03fe46",
   "metadata": {},
   "outputs": [],
   "source": [
    "df_summary = pd.merge(df_summary, df_cogs_id, how='left')"
   ]
  },
  {
   "cell_type": "code",
   "execution_count": 38,
   "id": "758d2e93",
   "metadata": {},
   "outputs": [],
   "source": [
    "df_summary['product_sum'] = df_summary['product_sum'].fillna(0)"
   ]
  },
  {
   "cell_type": "code",
   "execution_count": 39,
   "id": "2251a7f7",
   "metadata": {},
   "outputs": [],
   "source": [
    "df_summary['product_count'] = df_summary['product_count'].fillna(0)"
   ]
  },
  {
   "cell_type": "code",
   "execution_count": 40,
   "id": "b589e7ba",
   "metadata": {},
   "outputs": [],
   "source": [
    "df_summary['cogs'] = df_summary['total_incoming'] + df_summary['product_sum']"
   ]
  },
  {
   "cell_type": "code",
   "execution_count": 41,
   "id": "f643e2f1",
   "metadata": {},
   "outputs": [],
   "source": [
    "df_summary = pd.merge(df_summary, df_cogs_count)\n",
    "df_summary = pd.merge(df_summary, df_total_count)"
   ]
  },
  {
   "cell_type": "code",
   "execution_count": 42,
   "id": "df75a811",
   "metadata": {},
   "outputs": [],
   "source": [
    "df_summary['total_count_incoming'] = df_summary['product_count'] + df_summary['count_incoming']"
   ]
  },
  {
   "cell_type": "code",
   "execution_count": 43,
   "id": "81b613b0",
   "metadata": {},
   "outputs": [],
   "source": [
    "df_summary['margin_$'] = df_summary['revenue'] - df_summary['cogs']\n",
    "df_summary['margin_%'] = df_summary['margin_$'] / df_summary['revenue']"
   ]
  },
  {
   "cell_type": "code",
   "execution_count": 44,
   "id": "196660bb",
   "metadata": {},
   "outputs": [],
   "source": [
    "df_summary['coverage'] = df_summary['total_count_incoming'] / df_summary['total_count']"
   ]
  },
  {
   "cell_type": "code",
   "execution_count": 45,
   "id": "791ccf7e",
   "metadata": {},
   "outputs": [],
   "source": [
    "df_summary_simp = df_summary[['year_month', 'revenue', 'cogs', 'margin_$', 'margin_%', 'total_count_incoming', 'total_count', 'coverage']]"
   ]
  },
  {
   "cell_type": "code",
   "execution_count": 46,
   "id": "8ab041dc",
   "metadata": {},
   "outputs": [
    {
     "data": {
      "text/html": [
       "<div>\n",
       "<style scoped>\n",
       "    .dataframe tbody tr th:only-of-type {\n",
       "        vertical-align: middle;\n",
       "    }\n",
       "\n",
       "    .dataframe tbody tr th {\n",
       "        vertical-align: top;\n",
       "    }\n",
       "\n",
       "    .dataframe thead th {\n",
       "        text-align: right;\n",
       "    }\n",
       "</style>\n",
       "<table border=\"1\" class=\"dataframe\">\n",
       "  <thead>\n",
       "    <tr style=\"text-align: right;\">\n",
       "      <th></th>\n",
       "      <th>year_month</th>\n",
       "      <th>revenue</th>\n",
       "      <th>cogs</th>\n",
       "      <th>margin_$</th>\n",
       "      <th>margin_%</th>\n",
       "      <th>total_count_incoming</th>\n",
       "      <th>total_count</th>\n",
       "      <th>coverage</th>\n",
       "    </tr>\n",
       "  </thead>\n",
       "  <tbody>\n",
       "    <tr>\n",
       "      <th>0</th>\n",
       "      <td>2020-07</td>\n",
       "      <td>18,987.45</td>\n",
       "      <td>7,915.67</td>\n",
       "      <td>11,071.78</td>\n",
       "      <td>0.58</td>\n",
       "      <td>555</td>\n",
       "      <td>555</td>\n",
       "      <td>1.00</td>\n",
       "    </tr>\n",
       "    <tr>\n",
       "      <th>1</th>\n",
       "      <td>2020-08</td>\n",
       "      <td>48,676.69</td>\n",
       "      <td>11,197.32</td>\n",
       "      <td>37,479.37</td>\n",
       "      <td>0.77</td>\n",
       "      <td>955</td>\n",
       "      <td>1234</td>\n",
       "      <td>0.77</td>\n",
       "    </tr>\n",
       "    <tr>\n",
       "      <th>2</th>\n",
       "      <td>2020-09</td>\n",
       "      <td>57,498.43</td>\n",
       "      <td>12,230.65</td>\n",
       "      <td>45,267.78</td>\n",
       "      <td>0.79</td>\n",
       "      <td>830</td>\n",
       "      <td>1729</td>\n",
       "      <td>0.48</td>\n",
       "    </tr>\n",
       "    <tr>\n",
       "      <th>3</th>\n",
       "      <td>2020-10</td>\n",
       "      <td>54,418.89</td>\n",
       "      <td>10,922.78</td>\n",
       "      <td>43,496.11</td>\n",
       "      <td>0.80</td>\n",
       "      <td>741</td>\n",
       "      <td>1600</td>\n",
       "      <td>0.46</td>\n",
       "    </tr>\n",
       "    <tr>\n",
       "      <th>4</th>\n",
       "      <td>2020-11</td>\n",
       "      <td>53,743.43</td>\n",
       "      <td>8,114.20</td>\n",
       "      <td>45,629.23</td>\n",
       "      <td>0.85</td>\n",
       "      <td>707</td>\n",
       "      <td>1580</td>\n",
       "      <td>0.45</td>\n",
       "    </tr>\n",
       "    <tr>\n",
       "      <th>5</th>\n",
       "      <td>2020-12</td>\n",
       "      <td>70,496.93</td>\n",
       "      <td>6,469.26</td>\n",
       "      <td>64,027.67</td>\n",
       "      <td>0.91</td>\n",
       "      <td>758</td>\n",
       "      <td>1796</td>\n",
       "      <td>0.42</td>\n",
       "    </tr>\n",
       "    <tr>\n",
       "      <th>6</th>\n",
       "      <td>2021-01</td>\n",
       "      <td>84,761.20</td>\n",
       "      <td>8,666.21</td>\n",
       "      <td>76,094.99</td>\n",
       "      <td>0.90</td>\n",
       "      <td>1047</td>\n",
       "      <td>2259</td>\n",
       "      <td>0.46</td>\n",
       "    </tr>\n",
       "    <tr>\n",
       "      <th>7</th>\n",
       "      <td>2021-02</td>\n",
       "      <td>73,902.73</td>\n",
       "      <td>8,221.32</td>\n",
       "      <td>65,681.41</td>\n",
       "      <td>0.89</td>\n",
       "      <td>850</td>\n",
       "      <td>1933</td>\n",
       "      <td>0.44</td>\n",
       "    </tr>\n",
       "    <tr>\n",
       "      <th>8</th>\n",
       "      <td>2021-03</td>\n",
       "      <td>84,178.99</td>\n",
       "      <td>11,398.77</td>\n",
       "      <td>72,780.22</td>\n",
       "      <td>0.86</td>\n",
       "      <td>1448</td>\n",
       "      <td>2331</td>\n",
       "      <td>0.62</td>\n",
       "    </tr>\n",
       "    <tr>\n",
       "      <th>9</th>\n",
       "      <td>2021-04</td>\n",
       "      <td>79,262.08</td>\n",
       "      <td>8,701.31</td>\n",
       "      <td>70,560.77</td>\n",
       "      <td>0.89</td>\n",
       "      <td>1278</td>\n",
       "      <td>2108</td>\n",
       "      <td>0.61</td>\n",
       "    </tr>\n",
       "    <tr>\n",
       "      <th>10</th>\n",
       "      <td>2021-05</td>\n",
       "      <td>77,595.86</td>\n",
       "      <td>6,883.20</td>\n",
       "      <td>70,712.66</td>\n",
       "      <td>0.91</td>\n",
       "      <td>963</td>\n",
       "      <td>1993</td>\n",
       "      <td>0.48</td>\n",
       "    </tr>\n",
       "    <tr>\n",
       "      <th>11</th>\n",
       "      <td>2021-06</td>\n",
       "      <td>71,843.81</td>\n",
       "      <td>10,815.58</td>\n",
       "      <td>61,028.23</td>\n",
       "      <td>0.85</td>\n",
       "      <td>1043</td>\n",
       "      <td>1951</td>\n",
       "      <td>0.53</td>\n",
       "    </tr>\n",
       "    <tr>\n",
       "      <th>12</th>\n",
       "      <td>2021-07</td>\n",
       "      <td>80,718.84</td>\n",
       "      <td>10,894.21</td>\n",
       "      <td>69,824.63</td>\n",
       "      <td>0.87</td>\n",
       "      <td>1276</td>\n",
       "      <td>2229</td>\n",
       "      <td>0.57</td>\n",
       "    </tr>\n",
       "    <tr>\n",
       "      <th>13</th>\n",
       "      <td>2021-08</td>\n",
       "      <td>93,408.19</td>\n",
       "      <td>15,286.00</td>\n",
       "      <td>78,122.19</td>\n",
       "      <td>0.84</td>\n",
       "      <td>1342</td>\n",
       "      <td>2543</td>\n",
       "      <td>0.53</td>\n",
       "    </tr>\n",
       "    <tr>\n",
       "      <th>14</th>\n",
       "      <td>2021-09</td>\n",
       "      <td>81,063.24</td>\n",
       "      <td>14,979.17</td>\n",
       "      <td>66,084.07</td>\n",
       "      <td>0.82</td>\n",
       "      <td>1130</td>\n",
       "      <td>2287</td>\n",
       "      <td>0.49</td>\n",
       "    </tr>\n",
       "    <tr>\n",
       "      <th>15</th>\n",
       "      <td>2021-10</td>\n",
       "      <td>82,229.22</td>\n",
       "      <td>19,017.30</td>\n",
       "      <td>63,211.92</td>\n",
       "      <td>0.77</td>\n",
       "      <td>1274</td>\n",
       "      <td>2518</td>\n",
       "      <td>0.51</td>\n",
       "    </tr>\n",
       "    <tr>\n",
       "      <th>16</th>\n",
       "      <td>2021-11</td>\n",
       "      <td>6,393.65</td>\n",
       "      <td>1,196.15</td>\n",
       "      <td>5,197.50</td>\n",
       "      <td>0.81</td>\n",
       "      <td>85</td>\n",
       "      <td>212</td>\n",
       "      <td>0.40</td>\n",
       "    </tr>\n",
       "  </tbody>\n",
       "</table>\n",
       "</div>"
      ],
      "text/plain": [
       "   year_month   revenue      cogs  margin_$  margin_%  total_count_incoming  \\\n",
       "0     2020-07 18,987.45  7,915.67 11,071.78      0.58                   555   \n",
       "1     2020-08 48,676.69 11,197.32 37,479.37      0.77                   955   \n",
       "2     2020-09 57,498.43 12,230.65 45,267.78      0.79                   830   \n",
       "3     2020-10 54,418.89 10,922.78 43,496.11      0.80                   741   \n",
       "4     2020-11 53,743.43  8,114.20 45,629.23      0.85                   707   \n",
       "5     2020-12 70,496.93  6,469.26 64,027.67      0.91                   758   \n",
       "6     2021-01 84,761.20  8,666.21 76,094.99      0.90                  1047   \n",
       "7     2021-02 73,902.73  8,221.32 65,681.41      0.89                   850   \n",
       "8     2021-03 84,178.99 11,398.77 72,780.22      0.86                  1448   \n",
       "9     2021-04 79,262.08  8,701.31 70,560.77      0.89                  1278   \n",
       "10    2021-05 77,595.86  6,883.20 70,712.66      0.91                   963   \n",
       "11    2021-06 71,843.81 10,815.58 61,028.23      0.85                  1043   \n",
       "12    2021-07 80,718.84 10,894.21 69,824.63      0.87                  1276   \n",
       "13    2021-08 93,408.19 15,286.00 78,122.19      0.84                  1342   \n",
       "14    2021-09 81,063.24 14,979.17 66,084.07      0.82                  1130   \n",
       "15    2021-10 82,229.22 19,017.30 63,211.92      0.77                  1274   \n",
       "16    2021-11  6,393.65  1,196.15  5,197.50      0.81                    85   \n",
       "\n",
       "    total_count  coverage  \n",
       "0           555      1.00  \n",
       "1          1234      0.77  \n",
       "2          1729      0.48  \n",
       "3          1600      0.46  \n",
       "4          1580      0.45  \n",
       "5          1796      0.42  \n",
       "6          2259      0.46  \n",
       "7          1933      0.44  \n",
       "8          2331      0.62  \n",
       "9          2108      0.61  \n",
       "10         1993      0.48  \n",
       "11         1951      0.53  \n",
       "12         2229      0.57  \n",
       "13         2543      0.53  \n",
       "14         2287      0.49  \n",
       "15         2518      0.51  \n",
       "16          212      0.40  "
      ]
     },
     "execution_count": 46,
     "metadata": {},
     "output_type": "execute_result"
    }
   ],
   "source": [
    "df_summary_simp"
   ]
  },
  {
   "cell_type": "code",
   "execution_count": 593,
   "id": "561a7939",
   "metadata": {},
   "outputs": [],
   "source": [
    "# df_summary_simp.to_excel('./CCC_analysis.xlsx')"
   ]
  },
  {
   "cell_type": "markdown",
   "id": "6290682d",
   "metadata": {},
   "source": [
    "## Inventory"
   ]
  },
  {
   "cell_type": "code",
   "execution_count": 55,
   "id": "e8b30981",
   "metadata": {},
   "outputs": [],
   "source": [
    "df_inventory_incoming = pd.merge(df_inventory, df_avg_incoming_price, on='package_id', how='left')"
   ]
  },
  {
   "cell_type": "code",
   "execution_count": 56,
   "id": "2e39880c",
   "metadata": {},
   "outputs": [],
   "source": [
    "df_inventory_incoming.replace([np.inf], np.nan, inplace=True)"
   ]
  },
  {
   "cell_type": "code",
   "execution_count": 57,
   "id": "825e2e13",
   "metadata": {},
   "outputs": [],
   "source": [
    "df_inv_null = df_inventory_incoming[df_inventory_incoming['per_unit_incoming'].isnull()]"
   ]
  },
  {
   "cell_type": "code",
   "execution_count": 58,
   "id": "a56c90b4",
   "metadata": {},
   "outputs": [],
   "source": [
    "df_inv_product = pd.merge(df_inv_null, df_avg_product, on='product_name', how='left')"
   ]
  },
  {
   "cell_type": "code",
   "execution_count": 59,
   "id": "ece80e4c",
   "metadata": {},
   "outputs": [],
   "source": [
    "df_inv_product.replace([np.inf], np.nan, inplace=True)"
   ]
  },
  {
   "cell_type": "code",
   "execution_count": 60,
   "id": "b742a732",
   "metadata": {},
   "outputs": [],
   "source": [
    "df_inv_product_price = df_inv_product[df_inv_product['per_unit_product'].notnull()]"
   ]
  },
  {
   "cell_type": "code",
   "execution_count": 61,
   "id": "e399a39e",
   "metadata": {},
   "outputs": [
    {
     "name": "stderr",
     "output_type": "stream",
     "text": [
      "C:\\Users\\Rachel\\GitHub\\venvs\\bespoke\\lib\\site-packages\\ipykernel_launcher.py:1: SettingWithCopyWarning: \n",
      "A value is trying to be set on a copy of a slice from a DataFrame.\n",
      "Try using .loc[row_indexer,col_indexer] = value instead\n",
      "\n",
      "See the caveats in the documentation: https://pandas.pydata.org/pandas-docs/stable/user_guide/indexing.html#returning-a-view-versus-a-copy\n",
      "  \"\"\"Entry point for launching an IPython kernel.\n"
     ]
    }
   ],
   "source": [
    "df_inv_product_price['total_price'] = df_inv_product_price['quantity'] * df_inv_product_price['per_unit_product']"
   ]
  },
  {
   "cell_type": "code",
   "execution_count": 62,
   "id": "7b702974",
   "metadata": {},
   "outputs": [
    {
     "name": "stdout",
     "output_type": "stream",
     "text": [
      "94.49\n"
     ]
    }
   ],
   "source": [
    "inventory_product_value = df_inv_product_price['total_price'].sum()\n",
    "# print(f'{inventory_product_value:,.2f}')"
   ]
  },
  {
   "cell_type": "code",
   "execution_count": 63,
   "id": "1ecf1286",
   "metadata": {},
   "outputs": [
    {
     "name": "stdout",
     "output_type": "stream",
     "text": [
      "68,357.27\n"
     ]
    }
   ],
   "source": [
    "df_inventory_incoming['total_price'] = df_inventory_incoming['quantity'] * df_inventory_incoming['per_unit_incoming']\n",
    "inventory_value = df_inventory_incoming['total_price'].sum()\n",
    "# print(f'{inventory_value:,.2f}')"
   ]
  },
  {
   "cell_type": "code",
   "execution_count": 64,
   "id": "bc070e9b",
   "metadata": {},
   "outputs": [
    {
     "name": "stdout",
     "output_type": "stream",
     "text": [
      "68,451.76\n"
     ]
    }
   ],
   "source": [
    "total_inv_value = inventory_product_value + inventory_value\n",
    "print(f'{total_inv_value:,.2f}')"
   ]
  },
  {
   "cell_type": "code",
   "execution_count": 65,
   "id": "e18eaedb",
   "metadata": {},
   "outputs": [],
   "source": [
    "inv_count_product = df_inv_product_price['per_unit_product'].count()"
   ]
  },
  {
   "cell_type": "code",
   "execution_count": 67,
   "id": "a08ee6e2",
   "metadata": {},
   "outputs": [],
   "source": [
    "inv_count_incoming = df_inventory_incoming['per_unit_incoming'].count()\n",
    "inv_count_total = df_inventory_incoming['quantity'].count()"
   ]
  },
  {
   "cell_type": "code",
   "execution_count": 68,
   "id": "8e11a1af",
   "metadata": {},
   "outputs": [],
   "source": [
    "inv_total_incoming = inv_count_product + inv_count_incoming"
   ]
  },
  {
   "cell_type": "code",
   "execution_count": 69,
   "id": "7f1f34cf",
   "metadata": {},
   "outputs": [
    {
     "data": {
      "text/plain": [
       "180"
      ]
     },
     "execution_count": 69,
     "metadata": {},
     "output_type": "execute_result"
    }
   ],
   "source": [
    "inv_total_incoming"
   ]
  },
  {
   "cell_type": "code",
   "execution_count": 70,
   "id": "c66dc0de",
   "metadata": {},
   "outputs": [
    {
     "data": {
      "text/plain": [
       "255"
      ]
     },
     "execution_count": 70,
     "metadata": {},
     "output_type": "execute_result"
    }
   ],
   "source": [
    "inv_count_total"
   ]
  },
  {
   "cell_type": "code",
   "execution_count": 71,
   "id": "bbb7a887",
   "metadata": {},
   "outputs": [
    {
     "name": "stdout",
     "output_type": "stream",
     "text": [
      "71%\n"
     ]
    }
   ],
   "source": [
    "inventory_coverage = inv_total_incoming / inv_count_total\n",
    "print(f'{inventory_coverage:,.0%}')"
   ]
  },
  {
   "cell_type": "code",
   "execution_count": 68,
   "id": "bf6f31f1",
   "metadata": {},
   "outputs": [],
   "source": [
    "# df_inventory_incoming.to_csv('./ccc_inventory.csv')"
   ]
  },
  {
   "cell_type": "code",
   "execution_count": null,
   "id": "2826c695",
   "metadata": {},
   "outputs": [],
   "source": []
  },
  {
   "cell_type": "code",
   "execution_count": null,
   "id": "9344f66e",
   "metadata": {},
   "outputs": [],
   "source": []
  },
  {
   "cell_type": "code",
   "execution_count": null,
   "id": "d990d742",
   "metadata": {},
   "outputs": [],
   "source": []
  },
  {
   "cell_type": "markdown",
   "id": "cf007bf4",
   "metadata": {},
   "source": [
    "# Notes"
   ]
  },
  {
   "cell_type": "code",
   "execution_count": null,
   "id": "fd73ec9b",
   "metadata": {},
   "outputs": [],
   "source": [
    "# df_in[df_in.duplicated('package_id')]\n",
    "# df_sales[df_sales.duplicated('tx_package_id')]"
   ]
  },
  {
   "cell_type": "code",
   "execution_count": null,
   "id": "3e04fc47",
   "metadata": {},
   "outputs": [],
   "source": [
    "# pd.merge(df_sales, df_in[['package_id','per_unit_incoming']], left_on='tx_package_id', right_on='package_id', how='left')"
   ]
  },
  {
   "cell_type": "code",
   "execution_count": null,
   "id": "74f5cc4f",
   "metadata": {},
   "outputs": [],
   "source": [
    "# df_sales.merge(df_in['package_id','per_unit_incoming'], left_on='tx_package_id', right_on='package_id', how='left')"
   ]
  },
  {
   "cell_type": "code",
   "execution_count": null,
   "id": "3073f693",
   "metadata": {},
   "outputs": [],
   "source": [
    "# incoming_transfer_simp"
   ]
  },
  {
   "cell_type": "code",
   "execution_count": null,
   "id": "6f185f88",
   "metadata": {},
   "outputs": [],
   "source": [
    "# company_sales_transactions_dataframe.to_csv('hpcc_all_sales_10_13_21.csv')"
   ]
  },
  {
   "cell_type": "code",
   "execution_count": null,
   "id": "13c280d0",
   "metadata": {},
   "outputs": [],
   "source": [
    "# company_sales_transactions_dataframe.info()"
   ]
  },
  {
   "cell_type": "code",
   "execution_count": null,
   "id": "df09761f",
   "metadata": {},
   "outputs": [],
   "source": [
    "# sales_simp['year_month'] = sales_simp['sales_datetime'].dt.strftime(\"%Y-%m\")"
   ]
  },
  {
   "cell_type": "code",
   "execution_count": null,
   "id": "2f70eeac",
   "metadata": {},
   "outputs": [],
   "source": [
    "# sales_simp.groupby(by=['year_month'], as_index=False).count()"
   ]
  },
  {
   "cell_type": "code",
   "execution_count": null,
   "id": "f30c597f",
   "metadata": {},
   "outputs": [],
   "source": [
    "# sales_drop = sales_simp.drop(['sales_datetime', 'month_year'], axis=1)"
   ]
  },
  {
   "cell_type": "code",
   "execution_count": null,
   "id": "d435207c",
   "metadata": {},
   "outputs": [],
   "source": [
    "# sales_simp.to_csv('./hpcc_sales_2021_10_13.csv')"
   ]
  },
  {
   "cell_type": "code",
   "execution_count": null,
   "id": "d8cea73c",
   "metadata": {},
   "outputs": [],
   "source": [
    "# INVENTORY_DATES = [\n",
    "#     '09/30/2020',\n",
    "#     '10/31/2020',\n",
    "#     '11/30/2020',\n",
    "#     '12/31/2020',\n",
    "#     '01/31/2021',\n",
    "#     '02/28/2021',\n",
    "#     '03/31/2021',\n",
    "#     '04/30/2021',\n",
    "#     '05/31/2021',\n",
    "#     '06/30/2021',\n",
    "#     '07/31/2021',\n",
    "#     '08/31/2021',\n",
    "#     '09/30/2021',\n",
    "# ]"
   ]
  },
  {
   "cell_type": "code",
   "execution_count": null,
   "id": "106a034d-fb76-4e8e-bce6-4e3b525b175e",
   "metadata": {},
   "outputs": [],
   "source": [
    "# %autoreload 2\n",
    "\n",
    "# sys.path.append(path.realpath(path.join(os.getcwd(), \"../../scripts/analysis\")))\n",
    "# sys.path.append(path.realpath(path.join(os.getcwd(), \"../../src\")))\n",
    "\n",
    "# from util import active_inventory_util as util"
   ]
  },
  {
   "cell_type": "code",
   "execution_count": null,
   "id": "c2af6220-2ebc-4447-a17e-0e3d9f3a7bbd",
   "metadata": {},
   "outputs": [],
   "source": [
    "# d = util.Download()\n",
    "# d.download_dataframes(\n",
    "#     incoming_transfer_packages_dataframe=company_incoming_transfer_packages_dataframe,\n",
    "#     outgoing_transfer_packages_dataframe=company_outgoing_transfer_packages_dataframe,\n",
    "#     sales_transactions_dataframe=company_sales_transactions_dataframe,\n",
    "# )"
   ]
  },
  {
   "cell_type": "code",
   "execution_count": null,
   "id": "5fbbbfe7-87c0-4409-9e6a-b6dc2b63ce54",
   "metadata": {
    "tags": []
   },
   "outputs": [],
   "source": [
    "# q = util.Query()\n",
    "# q.inventory_dates = INVENTORY_DATES\n",
    "# q.company_name = COMPANY_NAME\n",
    "\n",
    "# id_to_history = util.get_histories(d)\n",
    "# util.print_counts(id_to_history)\n",
    "# util.create_inventory_xlsx(id_to_history, q)"
   ]
  },
  {
   "cell_type": "code",
   "execution_count": null,
   "id": "4de368e2-44ab-4885-86d2-54b989f091f2",
   "metadata": {
    "tags": []
   },
   "outputs": [],
   "source": [
    "# computed_inventory_package_records = util.create_inventory_dataframe_by_date(id_to_history, INVENTORY_DATE)\n",
    "# computed_inventory_packages_dataframe = pandas.DataFrame(\n",
    "#     computed_inventory_package_records,\n",
    "#     columns=[\n",
    "#         'package_id',\n",
    "#         'Arrived Date',\n",
    "#         'Product Category',\n",
    "#         'Product Name',\n",
    "#         'Current Quantity',\n",
    "#         'Sold Date',\n",
    "#     ]\n",
    "# )\n",
    "# computed_inventory_packages_dataframe"
   ]
  },
  {
   "cell_type": "code",
   "execution_count": null,
   "id": "8cf09fb6-7890-4a77-9c5a-b78873a8a420",
   "metadata": {},
   "outputs": [],
   "source": [
    "# date_to_inventory_dataframe = {}\n",
    "# for date, inventory_records in date_to_inventory_records.items():\n",
    "#     date_to_inventory_dataframe[date] = pandas.DataFrame(\n",
    "#         inventory_records,\n",
    "#         columns=[\n",
    "#             'package_id',\n",
    "#             'Arrived Date',\n",
    "#             'Product Category',\n",
    "#             'Product Name',\n",
    "#             'Current Quantity',\n",
    "#             'Sold Date',\n",
    "#         ]\n",
    "#     )\n",
    "    \n",
    "# date_to_inventory_dataframe[list(date_to_inventory_dataframe.keys())[0]]"
   ]
  },
  {
   "cell_type": "code",
   "execution_count": null,
   "id": "c17de11e-05e9-4c94-997d-cdc0d69912b7",
   "metadata": {},
   "outputs": [],
   "source": [
    "# raw_incoming_transfer_packages_dataframe = pandas.read_excel('data/20210930/royal_apothecary_incoming_transfer_packages_20200101_20210930.xlsx', header=0)\n",
    "# len(raw_incoming_transfer_packages_dataframe.index), raw_incoming_transfer_packages_dataframe.columns"
   ]
  },
  {
   "cell_type": "code",
   "execution_count": null,
   "id": "bba6d3dc-2949-4ab5-aedb-e37110298e1d",
   "metadata": {},
   "outputs": [],
   "source": []
  },
  {
   "cell_type": "code",
   "execution_count": null,
   "id": "5e7c281b-9ccb-4162-abd0-fe89b36592c0",
   "metadata": {},
   "outputs": [],
   "source": [
    "# for date, inventory_dataframe in date_to_inventory_dataframe.items():\n",
    "#     print(date)\n",
    "#     print(f'# of packages in inventory: {len(inventory_dataframe.index)}')\n",
    "\n",
    "#     inventory_with_incoming_transfer_packages_dataframe = inventory_dataframe.astype({'package_id': 'int64'}).merge(incoming_transfer_packages_dataframe, on='package_id', how='inner', suffixes=('_l', '_r'))\n",
    "# #     print(f'# of packages in inventory with incoming package: {len(inventory_with_incoming_transfer_packages_dataframe.index)}')\n",
    "    \n",
    "#     inventory_with_cost_records = inventory_with_incoming_transfer_packages_dataframe.to_dict('record')\n",
    "\n",
    "#     total_valuation_cost = 0\n",
    "#     import math\n",
    "#     for inventory_with_cost_record in inventory_with_cost_records:\n",
    "#         incoming_shipped_price = inventory_with_cost_record['shipper_wholesale_price']\n",
    "#         if math.isnan(incoming_shipped_price):\n",
    "#             incoming_shipped_price = 0\n",
    "#         incoming_shipped_quantity = inventory_with_cost_record['shipped_quantity']\n",
    "#         current_quantity = inventory_with_cost_record['Current Quantity']\n",
    "#         total_valuation_cost += float(current_quantity) * (incoming_shipped_price / incoming_shipped_quantity)\n",
    "\n",
    "#     print(f'Inventory valuation (based on COST): ${total_valuation_cost}')\n",
    "#     print('')"
   ]
  },
  {
   "cell_type": "code",
   "execution_count": null,
   "id": "784c3521-f47d-4443-90cb-d06e934a9a1d",
   "metadata": {},
   "outputs": [],
   "source": [
    "# import json\n",
    "# import pandas\n",
    "# import numpy\n",
    "# import os\n",
    "# import sys\n",
    "# from os import path"
   ]
  },
  {
   "cell_type": "code",
   "execution_count": null,
   "id": "f16bee6b",
   "metadata": {},
   "outputs": [],
   "source": [
    "# df_cogs_2020_04 = df_cogs_package_id_notnull[df_cogs_package_id_notnull['year_month'] == '2020-04']\n",
    "# df_cogs_2020_04.sum()\n",
    "# df_cogs_2020_04.to_csv('./gf_2020_04.csv')\n",
    "# df_cogs_package_id_notnull.to_csv('./gf_cogs_not_null.csv')\n",
    "# df_cogs_package_id_notnull[df_cogs_package_id_notnull['year_month'] == '2021-04']"
   ]
  },
  {
   "cell_type": "code",
   "execution_count": null,
   "id": "c2da5394",
   "metadata": {},
   "outputs": [],
   "source": [
    "Outgoing\n",
    "# df_out.info()\n",
    "# df_out['per_unit'] = df_out['shipper_wholesale_price'] / df_out['shipped_quantity']\n",
    "# df_out['year_month'] = df_out['received_datetime'].dt.strftime(\"%Y-%m\")\n",
    "# df_out.groupby('year_month').sum()"
   ]
  }
 ],
 "metadata": {
  "kernelspec": {
   "display_name": "Python 3 (ipykernel)",
   "language": "python",
   "name": "python3"
  },
  "language_info": {
   "codemirror_mode": {
    "name": "ipython",
    "version": 3
   },
   "file_extension": ".py",
   "mimetype": "text/x-python",
   "name": "python",
   "nbconvert_exporter": "python",
   "pygments_lexer": "ipython3",
   "version": "3.7.7"
  }
 },
 "nbformat": 4,
 "nbformat_minor": 5
}
