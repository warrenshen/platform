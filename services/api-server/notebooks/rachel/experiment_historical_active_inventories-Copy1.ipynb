{
 "cells": [
  {
   "cell_type": "code",
   "execution_count": null,
   "id": "601d396f",
   "metadata": {},
   "outputs": [],
   "source": [
    "# Steps to install\n",
    "# 1. pip install sqlalchemy-bigquery google-cloud-bigquery-storage pyarrow\n",
    "# 2. Copy the credentials file to wherever you set BIGQUERY_CREDENTIALS_PATH to"
   ]
  },
  {
   "cell_type": "code",
   "execution_count": 1,
   "id": "170c442e-f0fb-4421-a3bf-5f87863f8277",
   "metadata": {},
   "outputs": [
    {
     "name": "stderr",
     "output_type": "stream",
     "text": [
      "/Users/victoria/GitHub/venvs/bespoke/lib/python3.8/site-packages/pandas/compat/__init__.py:124: UserWarning: Could not import the lzma module. Your installed Python is incomplete. Attempting to use lzma compression will result in a RuntimeError.\n",
      "  warnings.warn(msg)\n"
     ]
    }
   ],
   "source": [
    "import json\n",
    "import os\n",
    "import pandas as pd\n",
    "import pyarrow\n",
    "import numpy as np\n",
    "\n",
    "import sys\n",
    "from os import path\n",
    "import numpy\n",
    "\n",
    "from dotenv import load_dotenv\n",
    "from sqlalchemy import create_engine\n",
    "\n",
    "\n",
    "load_dotenv(verbose=True)\n",
    "BIGQUERY_CREDENTIALS_PATH = os.environ.get('BIGQUERY_CREDENTIALS_PATH')"
   ]
  },
  {
   "cell_type": "code",
   "execution_count": 2,
   "id": "38f9a288-03bc-43c5-82f8-a7c5a55f7286",
   "metadata": {},
   "outputs": [],
   "source": [
    "sys.path.append(path.realpath(path.join(os.getcwd(), \"../core\")))\n",
    "import create_queries\n",
    "%load_ext autoreload\n",
    "%autoreload 2"
   ]
  },
  {
   "cell_type": "code",
   "execution_count": 3,
   "id": "55535e4b",
   "metadata": {},
   "outputs": [],
   "source": [
    "import prepare_data"
   ]
  },
  {
   "cell_type": "code",
   "execution_count": 4,
   "id": "34d0729c",
   "metadata": {},
   "outputs": [],
   "source": [
    "pd.options.display.float_format = '{:,.2f}'.format"
   ]
  },
  {
   "cell_type": "code",
   "execution_count": 5,
   "id": "203e6e02",
   "metadata": {},
   "outputs": [],
   "source": [
    "from datetime import date"
   ]
  },
  {
   "cell_type": "code",
   "execution_count": 6,
   "id": "f524c171",
   "metadata": {},
   "outputs": [
    {
     "data": {
      "text/plain": [
       "datetime.date(2022, 2, 12)"
      ]
     },
     "execution_count": 6,
     "metadata": {},
     "output_type": "execute_result"
    }
   ],
   "source": [
    "today = date.today()\n",
    "today"
   ]
  },
  {
   "cell_type": "code",
   "execution_count": 7,
   "id": "fbfe06bc-cc79-41cc-814e-1d2166177496",
   "metadata": {},
   "outputs": [],
   "source": [
    "COMPANY_NAME = 'DL'\n",
    "COMPANY_IDENTIFIER = 'DL'\n",
    "TRANSFER_PACKAGES_START_DATE = '2020-01-01'\n",
    "SALES_TRANSACTIONS_START_DATE = '2020-01-01'\n",
    "\n",
    "INVENTORY_DATE = '02/07/2022'"
   ]
  },
  {
   "cell_type": "code",
   "execution_count": 8,
   "id": "d9eccd84-a327-4299-8876-456c6c9f574c",
   "metadata": {},
   "outputs": [],
   "source": [
    "company_incoming_transfer_packages_query = create_queries.create_company_incoming_transfer_packages_query(COMPANY_IDENTIFIER, TRANSFER_PACKAGES_START_DATE)\n",
    "company_outgoing_transfer_packages_query = create_queries.create_company_outgoing_transfer_packages_query(COMPANY_IDENTIFIER, TRANSFER_PACKAGES_START_DATE)\n",
    "company_sales_transactions_query = create_queries.create_company_sales_transactions_query(COMPANY_IDENTIFIER, SALES_TRANSACTIONS_START_DATE)\n",
    "company_inventory_packages_query = create_queries.create_company_inventory_packages_query(COMPANY_IDENTIFIER)\n",
    "\n",
    "engine = create_engine('bigquery://bespoke-financial/ProdMetrcData', credentials_path=os.path.expanduser(BIGQUERY_CREDENTIALS_PATH))\n",
    "company_incoming_transfer_packages_dataframe = pd.read_sql_query(company_incoming_transfer_packages_query, engine)\n",
    "company_outgoing_transfer_packages_dataframe = pd.read_sql_query(company_outgoing_transfer_packages_query, engine)\n",
    "company_sales_transactions_dataframe = pd.read_sql_query(company_sales_transactions_query, engine)\n",
    "company_inventory_packages_dataframe = pd.read_sql_query(company_inventory_packages_query, engine)"
   ]
  },
  {
   "cell_type": "code",
   "execution_count": 9,
   "id": "62be4499",
   "metadata": {},
   "outputs": [],
   "source": [
    "deduped_sales_receipts_dataframe = prepare_data.dedupe_sales_transactions(company_sales_transactions_dataframe)"
   ]
  },
  {
   "cell_type": "code",
   "execution_count": 10,
   "id": "e3bc55cf",
   "metadata": {},
   "outputs": [],
   "source": [
    "df_in_og = company_incoming_transfer_packages_dataframe\n",
    "df_inventory_og = company_inventory_packages_dataframe\n",
    "df_sales_og = deduped_sales_receipts_dataframe"
   ]
  },
  {
   "cell_type": "code",
   "execution_count": 11,
   "id": "cdb81046",
   "metadata": {},
   "outputs": [],
   "source": [
    "df_in = df_in_og\n",
    "df_inventory = df_inventory_og\n",
    "df_sales = df_sales_og"
   ]
  },
  {
   "cell_type": "code",
   "execution_count": 12,
   "id": "7584e1c9",
   "metadata": {},
   "outputs": [
    {
     "data": {
      "text/plain": [
       "['MR283369']"
      ]
     },
     "execution_count": 12,
     "metadata": {},
     "output_type": "execute_result"
    }
   ],
   "source": [
    "license_numbers = list(df_in['license_number'].unique())\n",
    "license_numbers"
   ]
  },
  {
   "cell_type": "code",
   "execution_count": 13,
   "id": "fa854236",
   "metadata": {},
   "outputs": [],
   "source": [
    "license_number = license_numbers[0]"
   ]
  },
  {
   "cell_type": "code",
   "execution_count": 14,
   "id": "911b9468",
   "metadata": {},
   "outputs": [],
   "source": [
    "df_license_specific = df_in[df_in['license_number'] == license_number]\n",
    "df_license_specific.reset_index(drop=True, inplace=True)\n",
    "legal_name = df_license_specific['recipient_facility_name'][0]"
   ]
  },
  {
   "cell_type": "code",
   "execution_count": 15,
   "id": "574add20",
   "metadata": {},
   "outputs": [],
   "source": [
    "df_sales = df_sales[df_sales['license_number'] == license_number]\n",
    "df_inventory = df_inventory[df_inventory['license_number'] == license_number]"
   ]
  },
  {
   "cell_type": "code",
   "execution_count": null,
   "id": "2be4d5df",
   "metadata": {},
   "outputs": [],
   "source": [
    "# df_in.groupby('recipient_facility_name').sum()\n",
    "# df_sales_licenses = df_sales.groupby('license_number').sum()\n",
    "# df_sales_licenses.to_csv('./TL_licenses.csv')\n",
    "# df_inventory.groupby('license_number').sum()\n",
    "# df_sales = df_sales[(df_sales['license_number'] == '402-00473') | (df_sales['license_number'] == '402R-00536')]\n",
    "# df_inventory = df_inventory[(df_inventory['license_number'] == '402-00473') | (df_inventory['license_number'] == '402R-00536')]"
   ]
  },
  {
   "cell_type": "markdown",
   "id": "dabac9b0",
   "metadata": {},
   "source": [
    "## Sales"
   ]
  },
  {
   "cell_type": "code",
   "execution_count": 16,
   "id": "13619ec3",
   "metadata": {},
   "outputs": [],
   "source": [
    "df_sales['per_unit'] = df_sales['tx_total_price'] / df_sales['tx_quantity_sold']\n",
    "df_sales['year_month'] = df_sales['sales_datetime'].dt.strftime(\"%Y-%m\")"
   ]
  },
  {
   "cell_type": "code",
   "execution_count": 17,
   "id": "9e3ffc07",
   "metadata": {},
   "outputs": [],
   "source": [
    "s_revenue = df_sales.groupby('year_month')['tx_total_price'].sum()\n",
    "df_revenue = pd.Series(s_revenue).to_frame()\n",
    "df_revenue = df_revenue.reset_index()\n",
    "df_revenue.rename(columns={'tx_total_price': 'revenue'}, inplace=True)"
   ]
  },
  {
   "cell_type": "code",
   "execution_count": 18,
   "id": "39902b28",
   "metadata": {},
   "outputs": [],
   "source": [
    "s_total_count = df_sales.groupby('year_month')['tx_total_price'].count()\n",
    "df_total_count = pd.Series(s_total_count).to_frame()\n",
    "df_total_count = df_total_count.reset_index()\n",
    "df_total_count.rename(columns={'tx_total_price':'total_count'}, inplace=True)"
   ]
  },
  {
   "cell_type": "code",
   "execution_count": null,
   "id": "b0b53497",
   "metadata": {},
   "outputs": [],
   "source": [
    "# df_sales.to_csv('./WTH_sales.csv')"
   ]
  },
  {
   "cell_type": "markdown",
   "id": "5964e551",
   "metadata": {},
   "source": [
    "## Vendor Churn"
   ]
  },
  {
   "cell_type": "code",
   "execution_count": null,
   "id": "eaf6ff96",
   "metadata": {},
   "outputs": [],
   "source": [
    "df_in.to_csv('./verts_incoming.csv')"
   ]
  },
  {
   "cell_type": "code",
   "execution_count": null,
   "id": "8707e65b",
   "metadata": {},
   "outputs": [],
   "source": [
    "df_vendor_churn = df_in[df_in['license_number'] == license_number]"
   ]
  },
  {
   "cell_type": "code",
   "execution_count": null,
   "id": "ac83a634",
   "metadata": {},
   "outputs": [],
   "source": [
    "df_vendor_churn.to_csv('./' + license_number + '_incoming.csv')"
   ]
  },
  {
   "cell_type": "code",
   "execution_count": null,
   "id": "cbb6f3ce",
   "metadata": {},
   "outputs": [],
   "source": [
    "# df_sales.to_csv('./' + license_number + '_sales.csv')"
   ]
  },
  {
   "cell_type": "code",
   "execution_count": null,
   "id": "83461a36",
   "metadata": {},
   "outputs": [],
   "source": [
    "# df_vendor_churn = df_in[(df_in['license_number'] == '402-01142') | (df_in['license_number'] == '402R-00573')]"
   ]
  },
  {
   "cell_type": "code",
   "execution_count": null,
   "id": "3f88c61c",
   "metadata": {},
   "outputs": [],
   "source": [
    "# df_vendor_churn.to_csv('./Tweedleaf_Jason_incoming.csv')"
   ]
  },
  {
   "cell_type": "markdown",
   "id": "664c5215",
   "metadata": {},
   "source": [
    "## Incoming - get the avg price per package id then product name"
   ]
  },
  {
   "cell_type": "code",
   "execution_count": null,
   "id": "c2dbf640",
   "metadata": {},
   "outputs": [],
   "source": [
    "# df_in = df_in[df_in['shipper_wholesale_price'] > 1]"
   ]
  },
  {
   "cell_type": "code",
   "execution_count": 19,
   "id": "378ca9d1",
   "metadata": {},
   "outputs": [],
   "source": [
    "df_in['per_unit_incoming'] = df_in['shipper_wholesale_price'] / df_in['shipped_quantity']\n",
    "df_in_price = df_in[df_in['shipper_wholesale_price'].notnull()]"
   ]
  },
  {
   "cell_type": "code",
   "execution_count": 20,
   "id": "3fdd26c3",
   "metadata": {},
   "outputs": [],
   "source": [
    "average_incoming_package_id = df_in_price.groupby('package_id')['per_unit_incoming'].mean()\n",
    "df_avg_incoming_price = pd.Series(average_incoming_package_id).to_frame()\n",
    "df_avg_incoming_price = df_avg_incoming_price.reset_index()"
   ]
  },
  {
   "cell_type": "code",
   "execution_count": 21,
   "id": "59ecc3a5",
   "metadata": {},
   "outputs": [],
   "source": [
    "average_incoming_product = df_in_price.groupby('product_name')['per_unit_incoming'].mean()\n",
    "df_avg_product = pd.Series(average_incoming_product).to_frame()\n",
    "df_avg_product = df_avg_product.reset_index()\n",
    "df_avg_product.rename(columns={'per_unit_incoming':'per_unit_product'}, inplace=True)"
   ]
  },
  {
   "cell_type": "markdown",
   "id": "9316be3c",
   "metadata": {},
   "source": [
    "## COGS"
   ]
  },
  {
   "cell_type": "code",
   "execution_count": null,
   "id": "f812a381",
   "metadata": {},
   "outputs": [],
   "source": [
    "df_cogs_package_id = pd.merge(df_sales, df_avg_incoming_price, left_on='tx_package_id', right_on='package_id', how='left')\n",
    "df_cogs_package_id['total_incoming'] = df_cogs_package_id['per_unit_incoming'] * df_cogs_package_id['tx_quantity_sold']\n",
    "df_cogs_package_id.replace([np.inf], np.nan, inplace=True)\n",
    "df_cogs_package_id_notnull = df_cogs_package_id[df_cogs_package_id['total_incoming'].notnull()]"
   ]
  },
  {
   "cell_type": "code",
   "execution_count": null,
   "id": "6af7b920",
   "metadata": {},
   "outputs": [],
   "source": [
    "s_cogs = df_cogs_package_id_notnull.groupby('year_month')['total_incoming'].sum()\n",
    "df_cogs_id = pd.Series(s_cogs).to_frame()\n",
    "df_cogs_id = df_cogs_id.reset_index()"
   ]
  },
  {
   "cell_type": "code",
   "execution_count": null,
   "id": "279ee65b",
   "metadata": {},
   "outputs": [],
   "source": [
    "s_cogs_count = df_cogs_package_id_notnull.groupby('year_month')['total_incoming'].count()\n",
    "df_cogs_count = pd.Series(s_cogs_count).to_frame()\n",
    "df_cogs_count = df_cogs_count.reset_index()\n",
    "df_cogs_count.rename(columns={'total_incoming':'count_incoming'}, inplace=True)"
   ]
  },
  {
   "cell_type": "code",
   "execution_count": null,
   "id": "00532d53",
   "metadata": {},
   "outputs": [],
   "source": [
    "df_cogs_average_product = pd.merge(df_cogs_package_id, df_avg_product, left_on='tx_product_name', right_on='product_name', how='left')\n",
    "df_cogs_average_product['total_product'] = df_cogs_average_product['tx_quantity_sold'] * df_cogs_average_product['per_unit_product']\n",
    "df_cogs_null = df_cogs_average_product[df_cogs_average_product['per_unit_incoming'].isnull()]\n",
    "df_cogs_product = df_cogs_null[df_cogs_null['per_unit_product'].notnull()]"
   ]
  },
  {
   "cell_type": "code",
   "execution_count": null,
   "id": "cf543886",
   "metadata": {},
   "outputs": [],
   "source": [
    "product_sum = df_cogs_product.groupby('year_month')['total_product'].sum()\n",
    "df_product_sum = pd.Series(product_sum).to_frame()\n",
    "df_product_sum = df_product_sum.reset_index()\n",
    "df_product_sum.rename(columns={'total_product':'product_sum'}, inplace=True)"
   ]
  },
  {
   "cell_type": "code",
   "execution_count": null,
   "id": "835de7e4",
   "metadata": {},
   "outputs": [],
   "source": [
    "product_count = df_cogs_product.groupby('year_month')['total_product'].count()\n",
    "df_product_count = pd.Series(product_count).to_frame()\n",
    "df_product_count = df_product_count.reset_index()\n",
    "df_product_count.rename(columns={'total_product':'product_count'}, inplace=True)"
   ]
  },
  {
   "cell_type": "code",
   "execution_count": null,
   "id": "1444f818",
   "metadata": {},
   "outputs": [],
   "source": [
    "df_cogs_product = pd.merge(df_product_sum, df_product_count)"
   ]
  },
  {
   "cell_type": "code",
   "execution_count": null,
   "id": "a7210e77",
   "metadata": {},
   "outputs": [],
   "source": [
    "# df_cogs_package_id.to_csv('./UHHC_cogs.csv')"
   ]
  },
  {
   "cell_type": "markdown",
   "id": "7bda242d",
   "metadata": {},
   "source": [
    "## Summary"
   ]
  },
  {
   "cell_type": "code",
   "execution_count": null,
   "id": "d064fec7",
   "metadata": {},
   "outputs": [],
   "source": [
    "df_summary = pd.merge(df_revenue, df_cogs_product, how='left')\n",
    "df_summary = pd.merge(df_summary, df_cogs_id, how='left')\n",
    "df_summary['product_sum'] = df_summary['product_sum'].fillna(0)\n",
    "df_summary['product_count'] = df_summary['product_count'].fillna(0)\n",
    "df_summary['cogs'] = df_summary['total_incoming'] + df_summary['product_sum']\n",
    "df_summary = pd.merge(df_summary, df_cogs_count)\n",
    "df_summary = pd.merge(df_summary, df_total_count)\n",
    "df_summary['total_count_incoming'] = df_summary['product_count'] + df_summary['count_incoming']\n",
    "df_summary['margin_$'] = df_summary['revenue'] - df_summary['cogs']\n",
    "df_summary['margin_%'] = df_summary['margin_$'] / df_summary['revenue']\n",
    "df_summary['coverage'] = df_summary['total_count_incoming'] / df_summary['total_count']"
   ]
  },
  {
   "cell_type": "code",
   "execution_count": null,
   "id": "791ccf7e",
   "metadata": {},
   "outputs": [],
   "source": [
    "df_summary_simp = df_summary[['year_month', 'revenue', 'cogs', 'margin_$', 'margin_%', 'total_count_incoming', 'total_count', 'coverage']]"
   ]
  },
  {
   "cell_type": "code",
   "execution_count": null,
   "id": "c779868d",
   "metadata": {},
   "outputs": [],
   "source": [
    "df_summary_simp"
   ]
  },
  {
   "cell_type": "code",
   "execution_count": null,
   "id": "561a7939",
   "metadata": {},
   "outputs": [],
   "source": [
    "df_summary_simp.to_excel('./' + license_number + '_analysis.xlsx')"
   ]
  },
  {
   "cell_type": "code",
   "execution_count": null,
   "id": "5f375a08",
   "metadata": {},
   "outputs": [],
   "source": [
    "df_summary_simp.to_excel('./verts_analysis.xlsx')"
   ]
  },
  {
   "cell_type": "markdown",
   "id": "6290682d",
   "metadata": {},
   "source": [
    "## Inventory"
   ]
  },
  {
   "cell_type": "code",
   "execution_count": 22,
   "id": "e8b30981",
   "metadata": {},
   "outputs": [
    {
     "name": "stderr",
     "output_type": "stream",
     "text": [
      "<ipython-input-22-3085e3cf9e2f>:7: SettingWithCopyWarning: \n",
      "A value is trying to be set on a copy of a slice from a DataFrame.\n",
      "Try using .loc[row_indexer,col_indexer] = value instead\n",
      "\n",
      "See the caveats in the documentation: https://pandas.pydata.org/pandas-docs/stable/user_guide/indexing.html#returning-a-view-versus-a-copy\n",
      "  df_inv_product_price['total_price'] = df_inv_product_price['quantity'] * df_inv_product_price['per_unit_product']\n"
     ]
    }
   ],
   "source": [
    "df_inventory_incoming = pd.merge(df_inventory, df_avg_incoming_price, on='package_id', how='left')\n",
    "df_inventory_incoming.replace([np.inf], np.nan, inplace=True)\n",
    "df_inv_null = df_inventory_incoming[df_inventory_incoming['per_unit_incoming'].isnull()]\n",
    "df_inv_product = pd.merge(df_inv_null, df_avg_product, on='product_name', how='left')\n",
    "df_inv_product.replace([np.inf], np.nan, inplace=True)\n",
    "df_inv_product_price = df_inv_product[df_inv_product['per_unit_product'].notnull()]\n",
    "df_inv_product_price['total_price'] = df_inv_product_price['quantity'] * df_inv_product_price['per_unit_product']"
   ]
  },
  {
   "cell_type": "code",
   "execution_count": 23,
   "id": "7b702974",
   "metadata": {},
   "outputs": [],
   "source": [
    "inventory_product_value = df_inv_product_price['total_price'].sum()"
   ]
  },
  {
   "cell_type": "code",
   "execution_count": 24,
   "id": "1ecf1286",
   "metadata": {},
   "outputs": [],
   "source": [
    "df_inventory_incoming['total_price'] = df_inventory_incoming['quantity'] * df_inventory_incoming['per_unit_incoming']\n",
    "inventory_value = df_inventory_incoming['total_price'].sum()"
   ]
  },
  {
   "cell_type": "code",
   "execution_count": 25,
   "id": "80b0fed2",
   "metadata": {},
   "outputs": [],
   "source": [
    "# inventory_product_value"
   ]
  },
  {
   "cell_type": "code",
   "execution_count": 26,
   "id": "bc070e9b",
   "metadata": {},
   "outputs": [],
   "source": [
    "total_inv_value = inventory_product_value + inventory_value\n"
   ]
  },
  {
   "cell_type": "code",
   "execution_count": 27,
   "id": "206d0ec7",
   "metadata": {},
   "outputs": [
    {
     "name": "stdout",
     "output_type": "stream",
     "text": [
      "184,148.99\n"
     ]
    }
   ],
   "source": [
    "print(f'{total_inv_value:,.2f}')"
   ]
  },
  {
   "cell_type": "code",
   "execution_count": 28,
   "id": "e18eaedb",
   "metadata": {},
   "outputs": [],
   "source": [
    "inv_count_product = df_inv_product_price['per_unit_product'].count()\n",
    "inv_count_incoming = df_inventory_incoming['per_unit_incoming'].count()\n",
    "inv_count_total = df_inventory_incoming['quantity'].count()\n",
    "inv_total_incoming = inv_count_product + inv_count_incoming"
   ]
  },
  {
   "cell_type": "code",
   "execution_count": 29,
   "id": "30685a45",
   "metadata": {},
   "outputs": [
    {
     "data": {
      "text/plain": [
       "353"
      ]
     },
     "execution_count": 29,
     "metadata": {},
     "output_type": "execute_result"
    }
   ],
   "source": [
    "inv_count_total"
   ]
  },
  {
   "cell_type": "code",
   "execution_count": 30,
   "id": "a08ee6e2",
   "metadata": {},
   "outputs": [],
   "source": [
    "# inv_count_total"
   ]
  },
  {
   "cell_type": "code",
   "execution_count": 31,
   "id": "bbb7a887",
   "metadata": {},
   "outputs": [
    {
     "name": "stdout",
     "output_type": "stream",
     "text": [
      "88%\n"
     ]
    }
   ],
   "source": [
    "inventory_coverage = inv_total_incoming / inv_count_total\n",
    "print(f'{inventory_coverage:,.0%}')"
   ]
  },
  {
   "cell_type": "code",
   "execution_count": 32,
   "id": "eb9c836f",
   "metadata": {},
   "outputs": [],
   "source": [
    "data = [['Date', today], \n",
    "        ['Value', total_inv_value], \n",
    "        ['Total Incoming', inv_total_incoming], \n",
    "        ['Total', inv_count_total], \n",
    "        ['Coverage', inventory_coverage],\n",
    "        ['License', license_number],\n",
    "        ['Legal Name', legal_name]]"
   ]
  },
  {
   "cell_type": "code",
   "execution_count": 33,
   "id": "882d5be1",
   "metadata": {},
   "outputs": [],
   "source": [
    "df_inventory_license = pd.DataFrame(data, columns = ['0', '1'])"
   ]
  },
  {
   "cell_type": "code",
   "execution_count": 34,
   "id": "6ffee562",
   "metadata": {},
   "outputs": [
    {
     "data": {
      "text/html": [
       "<div>\n",
       "<style scoped>\n",
       "    .dataframe tbody tr th:only-of-type {\n",
       "        vertical-align: middle;\n",
       "    }\n",
       "\n",
       "    .dataframe tbody tr th {\n",
       "        vertical-align: top;\n",
       "    }\n",
       "\n",
       "    .dataframe thead th {\n",
       "        text-align: right;\n",
       "    }\n",
       "</style>\n",
       "<table border=\"1\" class=\"dataframe\">\n",
       "  <thead>\n",
       "    <tr style=\"text-align: right;\">\n",
       "      <th></th>\n",
       "      <th>0</th>\n",
       "      <th>1</th>\n",
       "    </tr>\n",
       "  </thead>\n",
       "  <tbody>\n",
       "    <tr>\n",
       "      <th>0</th>\n",
       "      <td>Date</td>\n",
       "      <td>2022-02-12</td>\n",
       "    </tr>\n",
       "    <tr>\n",
       "      <th>1</th>\n",
       "      <td>Value</td>\n",
       "      <td>184,148.99</td>\n",
       "    </tr>\n",
       "    <tr>\n",
       "      <th>2</th>\n",
       "      <td>Total Incoming</td>\n",
       "      <td>311</td>\n",
       "    </tr>\n",
       "    <tr>\n",
       "      <th>3</th>\n",
       "      <td>Total</td>\n",
       "      <td>353</td>\n",
       "    </tr>\n",
       "    <tr>\n",
       "      <th>4</th>\n",
       "      <td>Coverage</td>\n",
       "      <td>0.88</td>\n",
       "    </tr>\n",
       "    <tr>\n",
       "      <th>5</th>\n",
       "      <td>License</td>\n",
       "      <td>MR283369</td>\n",
       "    </tr>\n",
       "    <tr>\n",
       "      <th>6</th>\n",
       "      <td>Legal Name</td>\n",
       "      <td>Diem Lynn, LLC</td>\n",
       "    </tr>\n",
       "  </tbody>\n",
       "</table>\n",
       "</div>"
      ],
      "text/plain": [
       "                0               1\n",
       "0            Date      2022-02-12\n",
       "1           Value      184,148.99\n",
       "2  Total Incoming             311\n",
       "3           Total             353\n",
       "4        Coverage            0.88\n",
       "5         License        MR283369\n",
       "6      Legal Name  Diem Lynn, LLC"
      ]
     },
     "execution_count": 34,
     "metadata": {},
     "output_type": "execute_result"
    }
   ],
   "source": [
    "df_inventory_license"
   ]
  },
  {
   "cell_type": "code",
   "execution_count": null,
   "id": "e70be8cf",
   "metadata": {},
   "outputs": [],
   "source": [
    "#df_inventory_license.to_csv('../analysis/surveillance/'+COMPANY_IDENTIFIER+'/INV/' + COMPANY_IDENTIFIER + '_'+ str(today) + '_' +license_number +'_inventory_val.csv')\n",
    "\n",
    "\n"
   ]
  },
  {
   "cell_type": "code",
   "execution_count": null,
   "id": "f674b170",
   "metadata": {},
   "outputs": [],
   "source": [
    "#df_inventory_license.to_excel('./' + license_number + '_inventory_name.xlsx')"
   ]
  },
  {
   "cell_type": "code",
   "execution_count": null,
   "id": "d990d742",
   "metadata": {},
   "outputs": [],
   "source": [
    "#df_inventory_license.to_csv('dw_2022_01_inventory.csv')"
   ]
  },
  {
   "cell_type": "markdown",
   "id": "cf007bf4",
   "metadata": {},
   "source": [
    "# Notes"
   ]
  },
  {
   "cell_type": "code",
   "execution_count": null,
   "id": "a0e5bdf2",
   "metadata": {},
   "outputs": [],
   "source": [
    "# df_cogs[df_cogs['per_unit_incoming'].isnull() & df_cogs['per_unit_product'].notnull()]\n",
    "# df_sales = df_sales[df_sales['license_number'] == 'C10-0000824-LIC']\n",
    "# df_inventory = df_inventory[df_inventory['license_number'] == 'C10-0000824-LIC']\n",
    "# df_sales['tx_total_price'].count()"
   ]
  },
  {
   "cell_type": "code",
   "execution_count": null,
   "id": "106a034d-fb76-4e8e-bce6-4e3b525b175e",
   "metadata": {},
   "outputs": [],
   "source": [
    "# %autoreload 2\n",
    "\n",
    "# sys.path.append(path.realpath(path.join(os.getcwd(), \"../../scripts/analysis\")))\n",
    "# sys.path.append(path.realpath(path.join(os.getcwd(), \"../../src\")))\n",
    "\n",
    "# from util import active_inventory_util as util"
   ]
  },
  {
   "cell_type": "code",
   "execution_count": null,
   "id": "c2af6220-2ebc-4447-a17e-0e3d9f3a7bbd",
   "metadata": {},
   "outputs": [],
   "source": [
    "# d = util.Download()\n",
    "# d.download_dataframes(\n",
    "#     incoming_transfer_packages_dataframe=company_incoming_transfer_packages_dataframe,\n",
    "#     outgoing_transfer_packages_dataframe=company_outgoing_transfer_packages_dataframe,\n",
    "#     sales_transactions_dataframe=company_sales_transactions_dataframe,\n",
    "# )"
   ]
  },
  {
   "cell_type": "code",
   "execution_count": null,
   "id": "5fbbbfe7-87c0-4409-9e6a-b6dc2b63ce54",
   "metadata": {
    "tags": []
   },
   "outputs": [],
   "source": [
    "# q = util.Query()\n",
    "# q.inventory_dates = INVENTORY_DATES\n",
    "# q.company_name = COMPANY_NAME\n",
    "\n",
    "# id_to_history = util.get_histories(d)\n",
    "# util.print_counts(id_to_history)\n",
    "# util.create_inventory_xlsx(id_to_history, q)"
   ]
  },
  {
   "cell_type": "code",
   "execution_count": null,
   "id": "4de368e2-44ab-4885-86d2-54b989f091f2",
   "metadata": {
    "tags": []
   },
   "outputs": [],
   "source": [
    "# computed_inventory_package_records = util.create_inventory_dataframe_by_date(id_to_history, INVENTORY_DATE)\n",
    "# computed_inventory_packages_dataframe = pandas.DataFrame(\n",
    "#     computed_inventory_package_records,\n",
    "#     columns=[\n",
    "#         'package_id',\n",
    "#         'Arrived Date',\n",
    "#         'Product Category',\n",
    "#         'Product Name',\n",
    "#         'Current Quantity',\n",
    "#         'Sold Date',\n",
    "#     ]\n",
    "# )\n",
    "# computed_inventory_packages_dataframe"
   ]
  },
  {
   "cell_type": "code",
   "execution_count": null,
   "id": "8cf09fb6-7890-4a77-9c5a-b78873a8a420",
   "metadata": {},
   "outputs": [],
   "source": [
    "# date_to_inventory_dataframe = {}\n",
    "# for date, inventory_records in date_to_inventory_records.items():\n",
    "#     date_to_inventory_dataframe[date] = pandas.DataFrame(\n",
    "#         inventory_records,\n",
    "#         columns=[\n",
    "#             'package_id',\n",
    "#             'Arrived Date',\n",
    "#             'Product Category',\n",
    "#             'Product Name',\n",
    "#             'Current Quantity',\n",
    "#             'Sold Date',\n",
    "#         ]\n",
    "#     )\n",
    "    \n",
    "# date_to_inventory_dataframe[list(date_to_inventory_dataframe.keys())[0]]"
   ]
  },
  {
   "cell_type": "code",
   "execution_count": null,
   "id": "c17de11e-05e9-4c94-997d-cdc0d69912b7",
   "metadata": {},
   "outputs": [],
   "source": [
    "# raw_incoming_transfer_packages_dataframe = pandas.read_excel('data/20210930/royal_apothecary_incoming_transfer_packages_20200101_20210930.xlsx', header=0)\n",
    "# len(raw_incoming_transfer_packages_dataframe.index), raw_incoming_transfer_packages_dataframe.columns"
   ]
  },
  {
   "cell_type": "code",
   "execution_count": null,
   "id": "5e7c281b-9ccb-4162-abd0-fe89b36592c0",
   "metadata": {},
   "outputs": [],
   "source": [
    "# for date, inventory_dataframe in date_to_inventory_dataframe.items():\n",
    "#     print(date)\n",
    "#     print(f'# of packages in inventory: {len(inventory_dataframe.index)}')\n",
    "\n",
    "#     inventory_with_incoming_transfer_packages_dataframe = inventory_dataframe.astype({'package_id': 'int64'}).merge(incoming_transfer_packages_dataframe, on='package_id', how='inner', suffixes=('_l', '_r'))\n",
    "# #     print(f'# of packages in inventory with incoming package: {len(inventory_with_incoming_transfer_packages_dataframe.index)}')\n",
    "    \n",
    "#     inventory_with_cost_records = inventory_with_incoming_transfer_packages_dataframe.to_dict('record')\n",
    "\n",
    "#     total_valuation_cost = 0\n",
    "#     import math\n",
    "#     for inventory_with_cost_record in inventory_with_cost_records:\n",
    "#         incoming_shipped_price = inventory_with_cost_record['shipper_wholesale_price']\n",
    "#         if math.isnan(incoming_shipped_price):\n",
    "#             incoming_shipped_price = 0\n",
    "#         incoming_shipped_quantity = inventory_with_cost_record['shipped_quantity']\n",
    "#         current_quantity = inventory_with_cost_record['Current Quantity']\n",
    "#         total_valuation_cost += float(current_quantity) * (incoming_shipped_price / incoming_shipped_quantity)\n",
    "\n",
    "#     print(f'Inventory valuation (based on COST): ${total_valuation_cost}')\n",
    "#     print('')"
   ]
  }
 ],
 "metadata": {
  "kernelspec": {
   "display_name": "Python 3",
   "language": "python",
   "name": "python3"
  },
  "language_info": {
   "codemirror_mode": {
    "name": "ipython",
    "version": 3
   },
   "file_extension": ".py",
   "mimetype": "text/x-python",
   "name": "python",
   "nbconvert_exporter": "python",
   "pygments_lexer": "ipython3",
   "version": "3.8.10"
  }
 },
 "nbformat": 4,
 "nbformat_minor": 5
}
