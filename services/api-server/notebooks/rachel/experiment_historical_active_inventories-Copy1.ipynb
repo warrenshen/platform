{
 "cells": [
  {
   "cell_type": "code",
   "execution_count": null,
   "id": "601d396f",
   "metadata": {},
   "outputs": [],
   "source": [
    "# Steps to install\n",
    "# 1. pip install sqlalchemy-bigquery google-cloud-bigquery-storage pyarrow\n",
    "# 2. Copy the credentials file to wherever you set BIGQUERY_CREDENTIALS_PATH to"
   ]
  },
  {
   "cell_type": "code",
   "execution_count": 110,
   "id": "170c442e-f0fb-4421-a3bf-5f87863f8277",
   "metadata": {},
   "outputs": [],
   "source": [
    "import json\n",
    "import os\n",
    "import pandas as pd\n",
    "import pyarrow\n",
    "\n",
    "import sys\n",
    "from os import path\n",
    "import numpy\n",
    "\n",
    "from dotenv import load_dotenv\n",
    "from sqlalchemy import create_engine\n",
    "\n",
    "\n",
    "load_dotenv(verbose=True)\n",
    "BIGQUERY_CREDENTIALS_PATH = os.environ.get('BIGQUERY_CREDENTIALS_PATH')"
   ]
  },
  {
   "cell_type": "code",
   "execution_count": 111,
   "id": "38f9a288-03bc-43c5-82f8-a7c5a55f7286",
   "metadata": {},
   "outputs": [
    {
     "name": "stdout",
     "output_type": "stream",
     "text": [
      "The autoreload extension is already loaded. To reload it, use:\n",
      "  %reload_ext autoreload\n"
     ]
    }
   ],
   "source": [
    "sys.path.append(path.realpath(path.join(os.getcwd(), \"../core\")))\n",
    "import create_queries\n",
    "%load_ext autoreload\n",
    "%autoreload 2"
   ]
  },
  {
   "cell_type": "code",
   "execution_count": 112,
   "id": "55535e4b",
   "metadata": {},
   "outputs": [],
   "source": [
    "import prepare_data"
   ]
  },
  {
   "cell_type": "code",
   "execution_count": 179,
   "id": "fbfe06bc-cc79-41cc-814e-1d2166177496",
   "metadata": {},
   "outputs": [],
   "source": [
    "COMPANY_NAME = 'GF'\n",
    "COMPANY_IDENTIFIER = 'GF'\n",
    "TRANSFER_PACKAGES_START_DATE = '2020-01-01'\n",
    "SALES_TRANSACTIONS_START_DATE = '2020-01-01'\n",
    "\n",
    "INVENTORY_DATE = '10/29/2021'"
   ]
  },
  {
   "cell_type": "code",
   "execution_count": 180,
   "id": "d9eccd84-a327-4299-8876-456c6c9f574c",
   "metadata": {},
   "outputs": [],
   "source": [
    "company_incoming_transfer_packages_query = create_queries.create_company_incoming_transfer_packages_query(COMPANY_IDENTIFIER, TRANSFER_PACKAGES_START_DATE)\n",
    "company_outgoing_transfer_packages_query = create_queries.create_company_outgoing_transfer_packages_query(COMPANY_IDENTIFIER, TRANSFER_PACKAGES_START_DATE)\n",
    "company_sales_transactions_query = create_queries.create_company_sales_transactions_query(COMPANY_IDENTIFIER, SALES_TRANSACTIONS_START_DATE)\n",
    "company_inventory_packages_query = create_queries.create_company_inventory_packages_query(COMPANY_IDENTIFIER)\n",
    "\n",
    "engine = create_engine('bigquery://bespoke-financial/ProdMetrcData', credentials_path=os.path.expanduser(BIGQUERY_CREDENTIALS_PATH))\n",
    "company_incoming_transfer_packages_dataframe = pd.read_sql_query(company_incoming_transfer_packages_query, engine)\n",
    "company_outgoing_transfer_packages_dataframe = pd.read_sql_query(company_outgoing_transfer_packages_query, engine)\n",
    "company_sales_transactions_dataframe = pd.read_sql_query(company_sales_transactions_query, engine)\n",
    "company_inventory_packages_dataframe = pd.read_sql_query(company_inventory_packages_query, engine)"
   ]
  },
  {
   "cell_type": "code",
   "execution_count": 181,
   "id": "62be4499",
   "metadata": {},
   "outputs": [],
   "source": [
    "deduped_sales_receipts_dataframe = prepare_data.dedupe_sales_transactions(company_sales_transactions_dataframe)"
   ]
  },
  {
   "cell_type": "code",
   "execution_count": 182,
   "id": "7a7cc54e",
   "metadata": {},
   "outputs": [],
   "source": [
    "df_in = company_incoming_transfer_packages_dataframe\n",
    "df_out = company_outgoing_transfer_packages_dataframe\n",
    "df_inventory = company_inventory_packages_dataframe"
   ]
  },
  {
   "cell_type": "code",
   "execution_count": 199,
   "id": "240dfd08",
   "metadata": {},
   "outputs": [
    {
     "data": {
      "text/html": [
       "<div>\n",
       "<style scoped>\n",
       "    .dataframe tbody tr th:only-of-type {\n",
       "        vertical-align: middle;\n",
       "    }\n",
       "\n",
       "    .dataframe tbody tr th {\n",
       "        vertical-align: top;\n",
       "    }\n",
       "\n",
       "    .dataframe thead th {\n",
       "        text-align: right;\n",
       "    }\n",
       "</style>\n",
       "<table border=\"1\" class=\"dataframe\">\n",
       "  <thead>\n",
       "    <tr style=\"text-align: right;\">\n",
       "      <th></th>\n",
       "      <th>license_number</th>\n",
       "      <th>package_id</th>\n",
       "      <th>package_label</th>\n",
       "      <th>type</th>\n",
       "      <th>packaged_date</th>\n",
       "      <th>package_type</th>\n",
       "      <th>product_name</th>\n",
       "      <th>product_category_name</th>\n",
       "      <th>quantity</th>\n",
       "      <th>unit_of_measure</th>\n",
       "      <th>is_testing_sample</th>\n",
       "      <th>is_trade_sample</th>\n",
       "      <th>is_on_hold</th>\n",
       "      <th>archived_date</th>\n",
       "      <th>finished_date</th>\n",
       "    </tr>\n",
       "  </thead>\n",
       "  <tbody>\n",
       "    <tr>\n",
       "      <th>0</th>\n",
       "      <td>C10-0000824-LIC</td>\n",
       "      <td>19191360</td>\n",
       "      <td>1A4060300004FB1000078582</td>\n",
       "      <td>active</td>\n",
       "      <td>2021-10-29</td>\n",
       "      <td>Product</td>\n",
       "      <td>STIIIZY - Juicy Melon Pod - 0.5g</td>\n",
       "      <td>Vape Cartridge (volume - each)</td>\n",
       "      <td>30.00</td>\n",
       "      <td>Each</td>\n",
       "      <td>False</td>\n",
       "      <td>False</td>\n",
       "      <td>False</td>\n",
       "      <td>None</td>\n",
       "      <td>None</td>\n",
       "    </tr>\n",
       "    <tr>\n",
       "      <th>1</th>\n",
       "      <td>C10-0000224-LIC</td>\n",
       "      <td>19141387</td>\n",
       "      <td>1A4060300004FB1000078439</td>\n",
       "      <td>active</td>\n",
       "      <td>2021-10-28</td>\n",
       "      <td>Product</td>\n",
       "      <td>Smokestacks - Strawberry Banana - Other Concen...</td>\n",
       "      <td>Other Concentrate (weight - each)</td>\n",
       "      <td>24.00</td>\n",
       "      <td>Each</td>\n",
       "      <td>False</td>\n",
       "      <td>False</td>\n",
       "      <td>False</td>\n",
       "      <td>None</td>\n",
       "      <td>None</td>\n",
       "    </tr>\n",
       "    <tr>\n",
       "      <th>2</th>\n",
       "      <td>C10-0000224-LIC</td>\n",
       "      <td>19140933</td>\n",
       "      <td>1A4060300004FB1000078425</td>\n",
       "      <td>active</td>\n",
       "      <td>2021-10-28</td>\n",
       "      <td>Product</td>\n",
       "      <td>Firesale - Sensi Star - Preroll(0.7g)</td>\n",
       "      <td>Pre-Roll Leaf</td>\n",
       "      <td>500.00</td>\n",
       "      <td>Each</td>\n",
       "      <td>False</td>\n",
       "      <td>False</td>\n",
       "      <td>False</td>\n",
       "      <td>None</td>\n",
       "      <td>None</td>\n",
       "    </tr>\n",
       "    <tr>\n",
       "      <th>3</th>\n",
       "      <td>C10-0000224-LIC</td>\n",
       "      <td>19140960</td>\n",
       "      <td>1A4060300004FB1000078435</td>\n",
       "      <td>active</td>\n",
       "      <td>2021-10-28</td>\n",
       "      <td>Product</td>\n",
       "      <td>Smokestacks - Cloud 9 - Extract - SUGAR(1g)</td>\n",
       "      <td>Extract (weight - each)</td>\n",
       "      <td>48.00</td>\n",
       "      <td>Each</td>\n",
       "      <td>False</td>\n",
       "      <td>False</td>\n",
       "      <td>False</td>\n",
       "      <td>None</td>\n",
       "      <td>None</td>\n",
       "    </tr>\n",
       "    <tr>\n",
       "      <th>4</th>\n",
       "      <td>C10-0000224-LIC</td>\n",
       "      <td>19140959</td>\n",
       "      <td>1A4060300004FB1000078434</td>\n",
       "      <td>active</td>\n",
       "      <td>2021-10-28</td>\n",
       "      <td>Product</td>\n",
       "      <td>LITLZ - Churro - Preroll(1g)</td>\n",
       "      <td>Pre-Roll Flower</td>\n",
       "      <td>64.00</td>\n",
       "      <td>Each</td>\n",
       "      <td>False</td>\n",
       "      <td>False</td>\n",
       "      <td>False</td>\n",
       "      <td>None</td>\n",
       "      <td>None</td>\n",
       "    </tr>\n",
       "  </tbody>\n",
       "</table>\n",
       "</div>"
      ],
      "text/plain": [
       "    license_number package_id             package_label    type packaged_date  \\\n",
       "0  C10-0000824-LIC   19191360  1A4060300004FB1000078582  active    2021-10-29   \n",
       "1  C10-0000224-LIC   19141387  1A4060300004FB1000078439  active    2021-10-28   \n",
       "2  C10-0000224-LIC   19140933  1A4060300004FB1000078425  active    2021-10-28   \n",
       "3  C10-0000224-LIC   19140960  1A4060300004FB1000078435  active    2021-10-28   \n",
       "4  C10-0000224-LIC   19140959  1A4060300004FB1000078434  active    2021-10-28   \n",
       "\n",
       "  package_type                                       product_name  \\\n",
       "0      Product                   STIIIZY - Juicy Melon Pod - 0.5g   \n",
       "1      Product  Smokestacks - Strawberry Banana - Other Concen...   \n",
       "2      Product              Firesale - Sensi Star - Preroll(0.7g)   \n",
       "3      Product        Smokestacks - Cloud 9 - Extract - SUGAR(1g)   \n",
       "4      Product                       LITLZ - Churro - Preroll(1g)   \n",
       "\n",
       "               product_category_name  quantity unit_of_measure  \\\n",
       "0     Vape Cartridge (volume - each)     30.00            Each   \n",
       "1  Other Concentrate (weight - each)     24.00            Each   \n",
       "2                      Pre-Roll Leaf    500.00            Each   \n",
       "3            Extract (weight - each)     48.00            Each   \n",
       "4                    Pre-Roll Flower     64.00            Each   \n",
       "\n",
       "   is_testing_sample  is_trade_sample  is_on_hold archived_date finished_date  \n",
       "0              False            False       False          None          None  \n",
       "1              False            False       False          None          None  \n",
       "2              False            False       False          None          None  \n",
       "3              False            False       False          None          None  \n",
       "4              False            False       False          None          None  "
      ]
     },
     "execution_count": 199,
     "metadata": {},
     "output_type": "execute_result"
    }
   ],
   "source": [
    "df_inventory.head(5)"
   ]
  },
  {
   "cell_type": "code",
   "execution_count": 183,
   "id": "d9c61f28",
   "metadata": {},
   "outputs": [],
   "source": [
    "df_sales = deduped_sales_receipts_dataframe"
   ]
  },
  {
   "cell_type": "code",
   "execution_count": 184,
   "id": "c9d633ed",
   "metadata": {},
   "outputs": [],
   "source": [
    "pd.options.display.float_format = '{:,.2f}'.format"
   ]
  },
  {
   "cell_type": "code",
   "execution_count": 187,
   "id": "04b0abcc",
   "metadata": {},
   "outputs": [],
   "source": [
    "df_sales_117 = df_sales[df_sales['license_number'] == 'C10-0000117-LIC']"
   ]
  },
  {
   "cell_type": "code",
   "execution_count": 198,
   "id": "8e6c3137",
   "metadata": {},
   "outputs": [
    {
     "name": "stderr",
     "output_type": "stream",
     "text": [
      "C:\\Users\\Rachel\\GitHub\\venvs\\bespoke\\lib\\site-packages\\ipykernel_launcher.py:1: SettingWithCopyWarning: \n",
      "A value is trying to be set on a copy of a slice from a DataFrame.\n",
      "Try using .loc[row_indexer,col_indexer] = value instead\n",
      "\n",
      "See the caveats in the documentation: https://pandas.pydata.org/pandas-docs/stable/user_guide/indexing.html#returning-a-view-versus-a-copy\n",
      "  \"\"\"Entry point for launching an IPython kernel.\n",
      "C:\\Users\\Rachel\\GitHub\\venvs\\bespoke\\lib\\site-packages\\ipykernel_launcher.py:2: SettingWithCopyWarning: \n",
      "A value is trying to be set on a copy of a slice from a DataFrame.\n",
      "Try using .loc[row_indexer,col_indexer] = value instead\n",
      "\n",
      "See the caveats in the documentation: https://pandas.pydata.org/pandas-docs/stable/user_guide/indexing.html#returning-a-view-versus-a-copy\n",
      "  \n"
     ]
    }
   ],
   "source": [
    "df_sales_117['per_unit'] = df_sales_117['tx_total_price'] / df_sales_117['tx_quantity_sold']\n",
    "df_sales_117['year_month'] = df_sales_117['sales_datetime'].dt.strftime(\"%Y-%m\")"
   ]
  },
  {
   "cell_type": "code",
   "execution_count": 189,
   "id": "55f83c11",
   "metadata": {},
   "outputs": [],
   "source": [
    "df_sales_224 = df_sales[df_sales['license_number'] == 'C10-0000224-LIC']"
   ]
  },
  {
   "cell_type": "code",
   "execution_count": null,
   "id": "a8e60d3b",
   "metadata": {},
   "outputs": [],
   "source": [
    "df_sales_224['per_unit'] = df_sales_224['tx_total_price'] / df_sales_224['tx_quantity_sold']\n",
    "df_sales_224['year_month'] = df_sales_224['sales_datetime'].dt.strftime(\"%Y-%m\")"
   ]
  },
  {
   "cell_type": "code",
   "execution_count": 190,
   "id": "ac011ec6",
   "metadata": {},
   "outputs": [],
   "source": [
    "df_sales_700 = df_sales[df_sales['license_number'] == 'C10-0000700-LIC']"
   ]
  },
  {
   "cell_type": "code",
   "execution_count": null,
   "id": "477593ef",
   "metadata": {},
   "outputs": [],
   "source": [
    "df_sales_700['per_unit'] = df_sales_700['tx_total_price'] / df_sales_700['tx_quantity_sold']\n",
    "df_sales_700['year_month'] = df_sales_700['sales_datetime'].dt.strftime(\"%Y-%m\")"
   ]
  },
  {
   "cell_type": "code",
   "execution_count": 191,
   "id": "d78e7f39",
   "metadata": {},
   "outputs": [],
   "source": [
    "df_sales_805 = df_sales[df_sales['license_number'] == 'C10-0000805-LIC']"
   ]
  },
  {
   "cell_type": "code",
   "execution_count": null,
   "id": "9b4bfb40",
   "metadata": {},
   "outputs": [],
   "source": [
    "df_sales_805['per_unit'] = df_sales_805['tx_total_price'] / df_sales_805['tx_quantity_sold']\n",
    "df_sales_805['year_month'] = df_sales_805['sales_datetime'].dt.strftime(\"%Y-%m\")"
   ]
  },
  {
   "cell_type": "code",
   "execution_count": 196,
   "id": "dd3e4cf7",
   "metadata": {},
   "outputs": [],
   "source": [
    "df_sales_824 = df_sales[df_sales['license_number'] == 'C10-0000824-LIC']"
   ]
  },
  {
   "cell_type": "code",
   "execution_count": null,
   "id": "72fc36a9",
   "metadata": {},
   "outputs": [],
   "source": [
    "df_sales_824['per_unit'] = df_sales_824['tx_total_price'] / df_sales_824['tx_quantity_sold']\n",
    "df_sales_824['year_month'] = df_sales_824['sales_datetime'].dt.strftime(\"%Y-%m\")"
   ]
  },
  {
   "cell_type": "code",
   "execution_count": 197,
   "id": "f07db5ea",
   "metadata": {},
   "outputs": [],
   "source": [
    "df_sales_191 = df_sales[df_sales['license_number'] == 'C12-0000191-LIC']"
   ]
  },
  {
   "cell_type": "code",
   "execution_count": null,
   "id": "e43cec6d",
   "metadata": {},
   "outputs": [],
   "source": [
    "df_sales_824['per_unit'] = df_sales_824['tx_total_price'] / df_sales_824['tx_quantity_sold']\n",
    "df_sales_824['year_month'] = df_sales_824['sales_datetime'].dt.strftime(\"%Y-%m\")"
   ]
  },
  {
   "cell_type": "code",
   "execution_count": 195,
   "id": "32a5fc32",
   "metadata": {},
   "outputs": [
    {
     "name": "stdout",
     "output_type": "stream",
     "text": [
      "<class 'pandas.core.frame.DataFrame'>\n",
      "Int64Index: 765343 entries, 0 to 2428470\n",
      "Data columns (total 17 columns):\n",
      " #   Column                    Non-Null Count   Dtype              \n",
      "---  ------                    --------------   -----              \n",
      " 0   id                        765343 non-null  object             \n",
      " 1   license_number            765343 non-null  object             \n",
      " 2   receipt_number            765343 non-null  object             \n",
      " 3   rt_type                   765343 non-null  object             \n",
      " 4   sales_customer_type       765343 non-null  object             \n",
      " 5   sales_datetime            765343 non-null  datetime64[ns, UTC]\n",
      " 6   total_packages            765343 non-null  int64              \n",
      " 7   rt_total_price            765343 non-null  float64            \n",
      " 8   tx_type                   765343 non-null  object             \n",
      " 9   tx_package_id             765343 non-null  object             \n",
      " 10  tx_package_label          765343 non-null  object             \n",
      " 11  tx_product_name           765343 non-null  object             \n",
      " 12  tx_product_category_name  765343 non-null  object             \n",
      " 13  tx_unit_of_measure        765343 non-null  object             \n",
      " 14  tx_quantity_sold          765343 non-null  float64            \n",
      " 15  tx_total_price            765343 non-null  float64            \n",
      " 16  tx_is_deleted             20090 non-null   object             \n",
      "dtypes: datetime64[ns, UTC](1), float64(3), int64(1), object(12)\n",
      "memory usage: 105.1+ MB\n"
     ]
    }
   ],
   "source": [
    "df_sales_117.info()"
   ]
  },
  {
   "cell_type": "code",
   "execution_count": null,
   "id": "f3290d4c",
   "metadata": {},
   "outputs": [],
   "source": []
  },
  {
   "cell_type": "code",
   "execution_count": null,
   "id": "7975f411",
   "metadata": {},
   "outputs": [],
   "source": []
  },
  {
   "cell_type": "code",
   "execution_count": 107,
   "id": "e868bc48",
   "metadata": {},
   "outputs": [],
   "source": [
    "# df_in.to_csv('./BBF_in.csv')\n",
    "# df_sales.to_csv('./BBF_sales.csv')\n",
    "# df_inventory.to_csv('./BBF_inventory.csv')"
   ]
  },
  {
   "cell_type": "markdown",
   "id": "dabac9b0",
   "metadata": {},
   "source": [
    "## Sales"
   ]
  },
  {
   "cell_type": "code",
   "execution_count": 185,
   "id": "e3eb5246",
   "metadata": {},
   "outputs": [
    {
     "data": {
      "text/html": [
       "<div>\n",
       "<style scoped>\n",
       "    .dataframe tbody tr th:only-of-type {\n",
       "        vertical-align: middle;\n",
       "    }\n",
       "\n",
       "    .dataframe tbody tr th {\n",
       "        vertical-align: top;\n",
       "    }\n",
       "\n",
       "    .dataframe thead th {\n",
       "        text-align: right;\n",
       "    }\n",
       "</style>\n",
       "<table border=\"1\" class=\"dataframe\">\n",
       "  <thead>\n",
       "    <tr style=\"text-align: right;\">\n",
       "      <th></th>\n",
       "      <th>total_packages</th>\n",
       "      <th>rt_total_price</th>\n",
       "      <th>tx_quantity_sold</th>\n",
       "      <th>tx_total_price</th>\n",
       "    </tr>\n",
       "    <tr>\n",
       "      <th>license_number</th>\n",
       "      <th></th>\n",
       "      <th></th>\n",
       "      <th></th>\n",
       "      <th></th>\n",
       "    </tr>\n",
       "  </thead>\n",
       "  <tbody>\n",
       "    <tr>\n",
       "      <th>C10-0000117-LIC</th>\n",
       "      <td>2375487</td>\n",
       "      <td>52,214,455.24</td>\n",
       "      <td>1,100,241.45</td>\n",
       "      <td>18,739,930.30</td>\n",
       "    </tr>\n",
       "    <tr>\n",
       "      <th>C10-0000224-LIC</th>\n",
       "      <td>3865274</td>\n",
       "      <td>95,539,001.85</td>\n",
       "      <td>1,804,946.46</td>\n",
       "      <td>35,504,891.07</td>\n",
       "    </tr>\n",
       "    <tr>\n",
       "      <th>C10-0000700-LIC</th>\n",
       "      <td>677767</td>\n",
       "      <td>15,827,434.93</td>\n",
       "      <td>216,256.50</td>\n",
       "      <td>4,477,583.95</td>\n",
       "    </tr>\n",
       "    <tr>\n",
       "      <th>C10-0000805-LIC</th>\n",
       "      <td>148582</td>\n",
       "      <td>3,085,478.53</td>\n",
       "      <td>48,515.00</td>\n",
       "      <td>1,003,570.37</td>\n",
       "    </tr>\n",
       "    <tr>\n",
       "      <th>C10-0000824-LIC</th>\n",
       "      <td>391907</td>\n",
       "      <td>8,705,014.98</td>\n",
       "      <td>140,236.00</td>\n",
       "      <td>2,977,088.61</td>\n",
       "    </tr>\n",
       "    <tr>\n",
       "      <th>C12-0000191-LIC</th>\n",
       "      <td>221750</td>\n",
       "      <td>4,923,826.94</td>\n",
       "      <td>101,305.00</td>\n",
       "      <td>1,677,496.92</td>\n",
       "    </tr>\n",
       "  </tbody>\n",
       "</table>\n",
       "</div>"
      ],
      "text/plain": [
       "                 total_packages  rt_total_price  tx_quantity_sold  \\\n",
       "license_number                                                      \n",
       "C10-0000117-LIC         2375487   52,214,455.24      1,100,241.45   \n",
       "C10-0000224-LIC         3865274   95,539,001.85      1,804,946.46   \n",
       "C10-0000700-LIC          677767   15,827,434.93        216,256.50   \n",
       "C10-0000805-LIC          148582    3,085,478.53         48,515.00   \n",
       "C10-0000824-LIC          391907    8,705,014.98        140,236.00   \n",
       "C12-0000191-LIC          221750    4,923,826.94        101,305.00   \n",
       "\n",
       "                 tx_total_price  \n",
       "license_number                   \n",
       "C10-0000117-LIC   18,739,930.30  \n",
       "C10-0000224-LIC   35,504,891.07  \n",
       "C10-0000700-LIC    4,477,583.95  \n",
       "C10-0000805-LIC    1,003,570.37  \n",
       "C10-0000824-LIC    2,977,088.61  \n",
       "C12-0000191-LIC    1,677,496.92  "
      ]
     },
     "execution_count": 185,
     "metadata": {},
     "output_type": "execute_result"
    }
   ],
   "source": [
    "df_sales.groupby('license_number').sum()"
   ]
  },
  {
   "cell_type": "code",
   "execution_count": 120,
   "id": "fa3934c6",
   "metadata": {},
   "outputs": [
    {
     "data": {
      "text/plain": [
       "id                          6395\n",
       "license_number              6395\n",
       "receipt_number              6395\n",
       "rt_type                     6395\n",
       "sales_customer_type         6395\n",
       "sales_datetime              6395\n",
       "total_packages              6395\n",
       "rt_total_price              6395\n",
       "tx_type                     6395\n",
       "tx_package_id               6395\n",
       "tx_package_label            6395\n",
       "tx_product_name             6395\n",
       "tx_product_category_name    6395\n",
       "tx_unit_of_measure          6395\n",
       "tx_quantity_sold            6395\n",
       "tx_total_price              6395\n",
       "tx_is_deleted                  0\n",
       "dtype: int64"
      ]
     },
     "execution_count": 120,
     "metadata": {},
     "output_type": "execute_result"
    }
   ],
   "source": [
    "df_sales.count()"
   ]
  },
  {
   "cell_type": "code",
   "execution_count": null,
   "id": "0e718672",
   "metadata": {},
   "outputs": [],
   "source": [
    "# df_sales.to_csv('./MW_sales.csv')"
   ]
  },
  {
   "cell_type": "code",
   "execution_count": 121,
   "id": "13619ec3",
   "metadata": {},
   "outputs": [],
   "source": [
    "df_sales['per_unit'] = df_sales['tx_total_price'] / df_sales['tx_quantity_sold']\n",
    "df_sales['year_month'] = df_sales['sales_datetime'].dt.strftime(\"%Y-%m\")"
   ]
  },
  {
   "cell_type": "code",
   "execution_count": null,
   "id": "b59d6d85",
   "metadata": {},
   "outputs": [],
   "source": [
    "# df_sales.groupby('year_month').sum()"
   ]
  },
  {
   "cell_type": "code",
   "execution_count": 122,
   "id": "39902b28",
   "metadata": {},
   "outputs": [],
   "source": [
    "s_total_count = df_sales.groupby('year_month')['tx_total_price'].count()\n",
    "df_total_count = pd.Series(s_total_count).to_frame()\n",
    "df_total_count = df_total_count.reset_index()\n",
    "df_total_count.rename(columns={'tx_total_price':'total_count'}, inplace=True)"
   ]
  },
  {
   "cell_type": "code",
   "execution_count": 123,
   "id": "5fc46d2c",
   "metadata": {},
   "outputs": [],
   "source": [
    "s_revenue = df_sales.groupby('year_month')['tx_total_price'].sum()\n",
    "df_revenue = pd.Series(s_revenue).to_frame()\n",
    "df_revenue = df_revenue.reset_index()\n",
    "df_revenue.rename(columns={'tx_total_price': 'revenue'}, inplace=True)"
   ]
  },
  {
   "cell_type": "code",
   "execution_count": 124,
   "id": "7ec668a2",
   "metadata": {},
   "outputs": [],
   "source": [
    "# df_sales_sept = df_sales[df_sales['year_month'] == '2021-09']"
   ]
  },
  {
   "cell_type": "code",
   "execution_count": 17,
   "id": "e6edae16",
   "metadata": {},
   "outputs": [],
   "source": [
    "# df_sales_sept.to_csv('./ND_sales_2021_09.csv')"
   ]
  },
  {
   "cell_type": "code",
   "execution_count": null,
   "id": "2c717c26",
   "metadata": {},
   "outputs": [],
   "source": [
    "# df_revenue"
   ]
  },
  {
   "cell_type": "markdown",
   "id": "e639a44f",
   "metadata": {},
   "source": [
    "### Outgoing"
   ]
  },
  {
   "cell_type": "code",
   "execution_count": null,
   "id": "b8511907",
   "metadata": {},
   "outputs": [],
   "source": [
    "# df_out.info()"
   ]
  },
  {
   "cell_type": "code",
   "execution_count": 125,
   "id": "e5df784b",
   "metadata": {},
   "outputs": [],
   "source": [
    "# df_out['per_unit'] = df_out['shipper_wholesale_price'] / df_out['shipped_quantity']\n",
    "# df_out['year_month'] = df_out['received_datetime'].dt.strftime(\"%Y-%m\")"
   ]
  },
  {
   "cell_type": "code",
   "execution_count": null,
   "id": "baf872aa",
   "metadata": {},
   "outputs": [],
   "source": [
    "# df_out.groupby('year_month').sum()"
   ]
  },
  {
   "cell_type": "markdown",
   "id": "664c5215",
   "metadata": {},
   "source": [
    "## Incoming"
   ]
  },
  {
   "cell_type": "code",
   "execution_count": 126,
   "id": "7d25a58f",
   "metadata": {},
   "outputs": [
    {
     "name": "stdout",
     "output_type": "stream",
     "text": [
      "<class 'pandas.core.frame.DataFrame'>\n",
      "RangeIndex: 1205 entries, 0 to 1204\n",
      "Data columns (total 28 columns):\n",
      " #   Column                                 Non-Null Count  Dtype              \n",
      "---  ------                                 --------------  -----              \n",
      " 0   package_row_id                         1205 non-null   object             \n",
      " 1   delivery_type                          1205 non-null   object             \n",
      " 2   license_number                         1205 non-null   object             \n",
      " 3   manifest_number                        1205 non-null   object             \n",
      " 4   created_date                           1205 non-null   object             \n",
      " 5   received_datetime                      1187 non-null   datetime64[ns, UTC]\n",
      " 6   shipper_facility_license_number        1205 non-null   object             \n",
      " 7   shipper_facility_name                  1205 non-null   object             \n",
      " 8   recipient_facility_license_number      1205 non-null   object             \n",
      " 9   recipient_facility_name                1205 non-null   object             \n",
      " 10  shipment_type_name                     1205 non-null   object             \n",
      " 11  shipment_transaction_type              1205 non-null   object             \n",
      " 12  package_id                             1205 non-null   object             \n",
      " 13  package_label                          1205 non-null   object             \n",
      " 14  type                                   1205 non-null   object             \n",
      " 15  shipment_package_state                 1205 non-null   object             \n",
      " 16  is_testing_sample                      1205 non-null   bool               \n",
      " 17  is_trade_sample                        1205 non-null   bool               \n",
      " 18  product_category_name                  1205 non-null   object             \n",
      " 19  product_name                           1205 non-null   object             \n",
      " 20  package_lab_results_status             1205 non-null   object             \n",
      " 21  shipper_wholesale_price                686 non-null    float64            \n",
      " 22  shipped_quantity                       1205 non-null   float64            \n",
      " 23  shipped_unit_of_measure                1205 non-null   object             \n",
      " 24  received_quantity                      1149 non-null   float64            \n",
      " 25  received_unit_of_measure               1149 non-null   object             \n",
      " 26  item_unit_weight                       1118 non-null   float64            \n",
      " 27  item_unit_weight_unit_of_measure_name  1118 non-null   object             \n",
      "dtypes: bool(2), datetime64[ns, UTC](1), float64(4), object(21)\n",
      "memory usage: 247.2+ KB\n"
     ]
    }
   ],
   "source": [
    "df_in.info()"
   ]
  },
  {
   "cell_type": "code",
   "execution_count": 127,
   "id": "378ca9d1",
   "metadata": {},
   "outputs": [],
   "source": [
    "df_in['per_unit_incoming'] = df_in['shipper_wholesale_price'] / df_in['shipped_quantity']"
   ]
  },
  {
   "cell_type": "code",
   "execution_count": 128,
   "id": "ae45c557",
   "metadata": {},
   "outputs": [],
   "source": [
    "df_in_price = df_in[df_in['shipper_wholesale_price'].notnull()]"
   ]
  },
  {
   "cell_type": "code",
   "execution_count": null,
   "id": "8a752894",
   "metadata": {},
   "outputs": [],
   "source": [
    "# df_in_price[df_in_price['per_unit_incoming'].isnull()]"
   ]
  },
  {
   "cell_type": "markdown",
   "id": "cf5c0969",
   "metadata": {},
   "source": [
    "#### getting the average price per package id"
   ]
  },
  {
   "cell_type": "code",
   "execution_count": 129,
   "id": "3fdd26c3",
   "metadata": {},
   "outputs": [],
   "source": [
    "average_incoming_package_id = df_in_price.groupby('package_id')['per_unit_incoming'].mean()\n",
    "df_avg_incoming_price = pd.Series(average_incoming_package_id).to_frame()\n",
    "df_avg_incoming_price = df_avg_incoming_price.reset_index()"
   ]
  },
  {
   "cell_type": "markdown",
   "id": "40bea709",
   "metadata": {},
   "source": [
    "#### getting average price per product name"
   ]
  },
  {
   "cell_type": "code",
   "execution_count": 130,
   "id": "59ecc3a5",
   "metadata": {},
   "outputs": [],
   "source": [
    "average_incoming_product = df_in_price.groupby('product_name')['per_unit_incoming'].mean()\n",
    "df_avg_product = pd.Series(average_incoming_product).to_frame()\n",
    "df_avg_product = df_avg_product.reset_index()\n",
    "df_avg_product.rename(columns={'per_unit_incoming':'per_unit_product'}, inplace=True)"
   ]
  },
  {
   "cell_type": "markdown",
   "id": "9316be3c",
   "metadata": {},
   "source": [
    "## COGS"
   ]
  },
  {
   "cell_type": "markdown",
   "id": "d2299795",
   "metadata": {},
   "source": [
    "#### Incoming Price - Package ID"
   ]
  },
  {
   "cell_type": "code",
   "execution_count": 131,
   "id": "f812a381",
   "metadata": {},
   "outputs": [],
   "source": [
    "df_cogs_package_id = pd.merge(df_sales, df_avg_incoming_price, left_on='tx_package_id', right_on='package_id', how='left')"
   ]
  },
  {
   "cell_type": "code",
   "execution_count": 132,
   "id": "93620abe",
   "metadata": {},
   "outputs": [],
   "source": [
    "df_cogs_package_id['total_incoming'] = df_cogs_package_id['per_unit_incoming'] * df_cogs_package_id['tx_quantity_sold']"
   ]
  },
  {
   "cell_type": "code",
   "execution_count": 133,
   "id": "d66d1a2e",
   "metadata": {},
   "outputs": [],
   "source": [
    "import numpy as np"
   ]
  },
  {
   "cell_type": "code",
   "execution_count": 134,
   "id": "dbec5e86",
   "metadata": {},
   "outputs": [],
   "source": [
    "df_cogs_package_id.replace([np.inf], np.nan, inplace=True)"
   ]
  },
  {
   "cell_type": "code",
   "execution_count": 135,
   "id": "bbf9f4ab",
   "metadata": {},
   "outputs": [],
   "source": [
    "df_cogs_package_id_notnull = df_cogs_package_id[df_cogs_package_id['total_incoming'].notnull()]"
   ]
  },
  {
   "cell_type": "code",
   "execution_count": 64,
   "id": "d56779f9",
   "metadata": {},
   "outputs": [],
   "source": [
    "# df_cogs_package_id[df_cogs_package_id['tx_package_id'] == '3798016']"
   ]
  },
  {
   "cell_type": "code",
   "execution_count": 136,
   "id": "ab4f087f",
   "metadata": {},
   "outputs": [
    {
     "data": {
      "text/plain": [
       "4147"
      ]
     },
     "execution_count": 136,
     "metadata": {},
     "output_type": "execute_result"
    }
   ],
   "source": [
    "df_cogs_package_id_notnull['total_incoming'].count()"
   ]
  },
  {
   "cell_type": "code",
   "execution_count": 137,
   "id": "f7771094",
   "metadata": {},
   "outputs": [],
   "source": [
    "# df_cogs_package_id_notnull.groupby('year_month')['total_incoming'].sum()"
   ]
  },
  {
   "cell_type": "code",
   "execution_count": 138,
   "id": "6af7b920",
   "metadata": {},
   "outputs": [],
   "source": [
    "s_cogs = df_cogs_package_id_notnull.groupby('year_month')['total_incoming'].sum()\n",
    "df_cogs_id = pd.Series(s_cogs).to_frame()\n",
    "df_cogs_id = df_cogs_id.reset_index()"
   ]
  },
  {
   "cell_type": "code",
   "execution_count": 139,
   "id": "279ee65b",
   "metadata": {},
   "outputs": [],
   "source": [
    "s_cogs_count = df_cogs_package_id_notnull.groupby('year_month')['total_incoming'].count()\n",
    "df_cogs_count = pd.Series(s_cogs_count).to_frame()\n",
    "df_cogs_count = df_cogs_count.reset_index()\n",
    "df_cogs_count.rename(columns={'total_incoming':'count_incoming'}, inplace=True)"
   ]
  },
  {
   "cell_type": "code",
   "execution_count": 140,
   "id": "e422dace",
   "metadata": {},
   "outputs": [
    {
     "data": {
      "text/html": [
       "<div>\n",
       "<style scoped>\n",
       "    .dataframe tbody tr th:only-of-type {\n",
       "        vertical-align: middle;\n",
       "    }\n",
       "\n",
       "    .dataframe tbody tr th {\n",
       "        vertical-align: top;\n",
       "    }\n",
       "\n",
       "    .dataframe thead th {\n",
       "        text-align: right;\n",
       "    }\n",
       "</style>\n",
       "<table border=\"1\" class=\"dataframe\">\n",
       "  <thead>\n",
       "    <tr style=\"text-align: right;\">\n",
       "      <th></th>\n",
       "      <th>year_month</th>\n",
       "      <th>total_incoming</th>\n",
       "    </tr>\n",
       "  </thead>\n",
       "  <tbody>\n",
       "    <tr>\n",
       "      <th>0</th>\n",
       "      <td>2021-07</td>\n",
       "      <td>23,402.22</td>\n",
       "    </tr>\n",
       "    <tr>\n",
       "      <th>1</th>\n",
       "      <td>2021-08</td>\n",
       "      <td>40,584.19</td>\n",
       "    </tr>\n",
       "    <tr>\n",
       "      <th>2</th>\n",
       "      <td>2021-09</td>\n",
       "      <td>26,904.34</td>\n",
       "    </tr>\n",
       "    <tr>\n",
       "      <th>3</th>\n",
       "      <td>2021-10</td>\n",
       "      <td>32,486.99</td>\n",
       "    </tr>\n",
       "  </tbody>\n",
       "</table>\n",
       "</div>"
      ],
      "text/plain": [
       "  year_month  total_incoming\n",
       "0    2021-07       23,402.22\n",
       "1    2021-08       40,584.19\n",
       "2    2021-09       26,904.34\n",
       "3    2021-10       32,486.99"
      ]
     },
     "execution_count": 140,
     "metadata": {},
     "output_type": "execute_result"
    }
   ],
   "source": [
    "df_cogs_id"
   ]
  },
  {
   "cell_type": "code",
   "execution_count": 34,
   "id": "8ba523a6",
   "metadata": {},
   "outputs": [],
   "source": [
    "# df_cogs_2020_04 = df_cogs_package_id_notnull[df_cogs_package_id_notnull['year_month'] == '2020-04']"
   ]
  },
  {
   "cell_type": "code",
   "execution_count": 35,
   "id": "4caf874d",
   "metadata": {},
   "outputs": [],
   "source": [
    "# df_cogs_2020_04.sum()"
   ]
  },
  {
   "cell_type": "code",
   "execution_count": 44,
   "id": "c9528f0d",
   "metadata": {},
   "outputs": [],
   "source": [
    "# df_cogs_2020_04.to_csv('./gf_2020_04.csv')"
   ]
  },
  {
   "cell_type": "code",
   "execution_count": 40,
   "id": "fca58c29",
   "metadata": {},
   "outputs": [],
   "source": [
    "# df_cogs_package_id_notnull.to_csv('./gf_cogs_not_null.csv')"
   ]
  },
  {
   "cell_type": "code",
   "execution_count": 68,
   "id": "571f0eec",
   "metadata": {},
   "outputs": [],
   "source": [
    "# df_cogs_package_id_notnull[df_cogs_package_id_notnull['year_month'] == '2021-04']"
   ]
  },
  {
   "cell_type": "code",
   "execution_count": null,
   "id": "bd145d5a",
   "metadata": {},
   "outputs": [],
   "source": []
  },
  {
   "cell_type": "markdown",
   "id": "2ec0da02",
   "metadata": {},
   "source": [
    "#### Incoming Price - Average Product Price"
   ]
  },
  {
   "cell_type": "code",
   "execution_count": 141,
   "id": "00532d53",
   "metadata": {},
   "outputs": [],
   "source": [
    "df_cogs_average_product = pd.merge(df_cogs_package_id, df_avg_product, left_on='tx_product_name', right_on='product_name', how='left')"
   ]
  },
  {
   "cell_type": "code",
   "execution_count": 72,
   "id": "936e710a",
   "metadata": {},
   "outputs": [],
   "source": [
    "# df_cogs_average_product.info()"
   ]
  },
  {
   "cell_type": "code",
   "execution_count": 142,
   "id": "15f59efd",
   "metadata": {},
   "outputs": [],
   "source": [
    "df_cogs_average_product['total_product'] = df_cogs_average_product['tx_quantity_sold'] * df_cogs_average_product['per_unit_product']"
   ]
  },
  {
   "cell_type": "code",
   "execution_count": 143,
   "id": "a47d7d8c",
   "metadata": {},
   "outputs": [],
   "source": [
    "df_cogs_null = df_cogs_average_product[df_cogs_average_product['per_unit_incoming'].isnull()]"
   ]
  },
  {
   "cell_type": "code",
   "execution_count": 144,
   "id": "f193551e",
   "metadata": {},
   "outputs": [],
   "source": [
    "# df_cogs_null_product = pd.merge(df_cogs_null, df_avg_product, left_on='tx_product_name', right_on='product_name', how='left')\n",
    "df_cogs_product = df_cogs_null[df_cogs_null['per_unit_product'].notnull()]"
   ]
  },
  {
   "cell_type": "code",
   "execution_count": 145,
   "id": "cf543886",
   "metadata": {},
   "outputs": [],
   "source": [
    "product_sum = df_cogs_product.groupby('year_month')['total_product'].sum()\n",
    "df_product_sum = pd.Series(product_sum).to_frame()\n",
    "df_product_sum = df_product_sum.reset_index()\n",
    "df_product_sum.rename(columns={'total_product':'product_sum'}, inplace=True)"
   ]
  },
  {
   "cell_type": "code",
   "execution_count": 146,
   "id": "835de7e4",
   "metadata": {},
   "outputs": [],
   "source": [
    "product_count = df_cogs_product.groupby('year_month')['total_product'].count()\n",
    "df_product_count = pd.Series(product_count).to_frame()\n",
    "df_product_count = df_product_count.reset_index()\n",
    "df_product_count.rename(columns={'total_product':'product_count'}, inplace=True)"
   ]
  },
  {
   "cell_type": "code",
   "execution_count": 147,
   "id": "1444f818",
   "metadata": {},
   "outputs": [],
   "source": [
    "df_cogs_product = pd.merge(df_product_sum, df_product_count)"
   ]
  },
  {
   "cell_type": "code",
   "execution_count": 148,
   "id": "97d451f5",
   "metadata": {},
   "outputs": [
    {
     "data": {
      "text/html": [
       "<div>\n",
       "<style scoped>\n",
       "    .dataframe tbody tr th:only-of-type {\n",
       "        vertical-align: middle;\n",
       "    }\n",
       "\n",
       "    .dataframe tbody tr th {\n",
       "        vertical-align: top;\n",
       "    }\n",
       "\n",
       "    .dataframe thead th {\n",
       "        text-align: right;\n",
       "    }\n",
       "</style>\n",
       "<table border=\"1\" class=\"dataframe\">\n",
       "  <thead>\n",
       "    <tr style=\"text-align: right;\">\n",
       "      <th></th>\n",
       "      <th>year_month</th>\n",
       "      <th>product_sum</th>\n",
       "    </tr>\n",
       "  </thead>\n",
       "  <tbody>\n",
       "    <tr>\n",
       "      <th>0</th>\n",
       "      <td>2021-07</td>\n",
       "      <td>5,355.83</td>\n",
       "    </tr>\n",
       "    <tr>\n",
       "      <th>1</th>\n",
       "      <td>2021-08</td>\n",
       "      <td>1,517.06</td>\n",
       "    </tr>\n",
       "    <tr>\n",
       "      <th>2</th>\n",
       "      <td>2021-09</td>\n",
       "      <td>888.00</td>\n",
       "    </tr>\n",
       "    <tr>\n",
       "      <th>3</th>\n",
       "      <td>2021-10</td>\n",
       "      <td>872.00</td>\n",
       "    </tr>\n",
       "  </tbody>\n",
       "</table>\n",
       "</div>"
      ],
      "text/plain": [
       "  year_month  product_sum\n",
       "0    2021-07     5,355.83\n",
       "1    2021-08     1,517.06\n",
       "2    2021-09       888.00\n",
       "3    2021-10       872.00"
      ]
     },
     "execution_count": 148,
     "metadata": {},
     "output_type": "execute_result"
    }
   ],
   "source": [
    "df_product_sum"
   ]
  },
  {
   "cell_type": "code",
   "execution_count": null,
   "id": "2ad961aa",
   "metadata": {},
   "outputs": [],
   "source": [
    "# cogs_null = df_cogs_null[df_cogs_null['per_unit_product'].isnull()]"
   ]
  },
  {
   "cell_type": "code",
   "execution_count": null,
   "id": "1c248e23",
   "metadata": {},
   "outputs": [],
   "source": [
    "# cogs_null['sales_datetime'] = cogs_null['sales_datetime'].dt.strftime(\"%Y-%m-%d\")"
   ]
  },
  {
   "cell_type": "code",
   "execution_count": null,
   "id": "e94885ed",
   "metadata": {},
   "outputs": [],
   "source": [
    "# cogs_null.to_excel('./purple_lotus_import/PL_incoming_null.xlsx')"
   ]
  },
  {
   "cell_type": "code",
   "execution_count": null,
   "id": "b8b6b54c",
   "metadata": {},
   "outputs": [],
   "source": [
    "# df_cogs[df_cogs['per_unit_incoming'].isnull() & df_cogs['per_unit_product'].notnull()]"
   ]
  },
  {
   "cell_type": "markdown",
   "id": "7bda242d",
   "metadata": {},
   "source": [
    "## Summary"
   ]
  },
  {
   "cell_type": "code",
   "execution_count": 149,
   "id": "d064fec7",
   "metadata": {},
   "outputs": [],
   "source": [
    "df_summary = pd.merge(df_revenue, df_cogs_product, how='left')"
   ]
  },
  {
   "cell_type": "code",
   "execution_count": 150,
   "id": "5c03fe46",
   "metadata": {},
   "outputs": [],
   "source": [
    "df_summary = pd.merge(df_summary, df_cogs_id, how='left')"
   ]
  },
  {
   "cell_type": "code",
   "execution_count": 151,
   "id": "758d2e93",
   "metadata": {},
   "outputs": [],
   "source": [
    "df_summary['product_sum'] = df_summary['product_sum'].fillna(0)"
   ]
  },
  {
   "cell_type": "code",
   "execution_count": 152,
   "id": "2251a7f7",
   "metadata": {},
   "outputs": [],
   "source": [
    "df_summary['product_count'] = df_summary['product_count'].fillna(0)"
   ]
  },
  {
   "cell_type": "code",
   "execution_count": 153,
   "id": "b589e7ba",
   "metadata": {},
   "outputs": [],
   "source": [
    "df_summary['cogs'] = df_summary['total_incoming'] + df_summary['product_sum']"
   ]
  },
  {
   "cell_type": "code",
   "execution_count": 154,
   "id": "f643e2f1",
   "metadata": {},
   "outputs": [],
   "source": [
    "df_summary = pd.merge(df_summary, df_cogs_count)\n",
    "df_summary = pd.merge(df_summary, df_total_count)"
   ]
  },
  {
   "cell_type": "code",
   "execution_count": 155,
   "id": "df75a811",
   "metadata": {},
   "outputs": [],
   "source": [
    "df_summary['total_count_incoming'] = df_summary['product_count'] + df_summary['count_incoming']"
   ]
  },
  {
   "cell_type": "code",
   "execution_count": 156,
   "id": "81b613b0",
   "metadata": {},
   "outputs": [],
   "source": [
    "df_summary['margin_$'] = df_summary['revenue'] - df_summary['cogs']\n",
    "df_summary['margin_%'] = df_summary['margin_$'] / df_summary['revenue']"
   ]
  },
  {
   "cell_type": "code",
   "execution_count": 157,
   "id": "196660bb",
   "metadata": {},
   "outputs": [],
   "source": [
    "df_summary['coverage'] = df_summary['total_count_incoming'] / df_summary['total_count']"
   ]
  },
  {
   "cell_type": "code",
   "execution_count": 158,
   "id": "791ccf7e",
   "metadata": {},
   "outputs": [],
   "source": [
    "df_summary_simp = df_summary[['year_month', 'revenue', 'cogs', 'margin_$', 'margin_%', 'total_count_incoming', 'total_count', 'coverage']]"
   ]
  },
  {
   "cell_type": "code",
   "execution_count": 159,
   "id": "8ab041dc",
   "metadata": {},
   "outputs": [
    {
     "data": {
      "text/html": [
       "<div>\n",
       "<style scoped>\n",
       "    .dataframe tbody tr th:only-of-type {\n",
       "        vertical-align: middle;\n",
       "    }\n",
       "\n",
       "    .dataframe tbody tr th {\n",
       "        vertical-align: top;\n",
       "    }\n",
       "\n",
       "    .dataframe thead th {\n",
       "        text-align: right;\n",
       "    }\n",
       "</style>\n",
       "<table border=\"1\" class=\"dataframe\">\n",
       "  <thead>\n",
       "    <tr style=\"text-align: right;\">\n",
       "      <th></th>\n",
       "      <th>year_month</th>\n",
       "      <th>revenue</th>\n",
       "      <th>cogs</th>\n",
       "      <th>margin_$</th>\n",
       "      <th>margin_%</th>\n",
       "      <th>total_count_incoming</th>\n",
       "      <th>total_count</th>\n",
       "      <th>coverage</th>\n",
       "    </tr>\n",
       "  </thead>\n",
       "  <tbody>\n",
       "    <tr>\n",
       "      <th>0</th>\n",
       "      <td>2021-07</td>\n",
       "      <td>69,418.14</td>\n",
       "      <td>28,758.05</td>\n",
       "      <td>40,660.09</td>\n",
       "      <td>0.59</td>\n",
       "      <td>710</td>\n",
       "      <td>1296</td>\n",
       "      <td>0.55</td>\n",
       "    </tr>\n",
       "    <tr>\n",
       "      <th>1</th>\n",
       "      <td>2021-08</td>\n",
       "      <td>87,961.54</td>\n",
       "      <td>42,101.24</td>\n",
       "      <td>45,860.30</td>\n",
       "      <td>0.52</td>\n",
       "      <td>1345</td>\n",
       "      <td>1976</td>\n",
       "      <td>0.68</td>\n",
       "    </tr>\n",
       "    <tr>\n",
       "      <th>2</th>\n",
       "      <td>2021-09</td>\n",
       "      <td>59,167.55</td>\n",
       "      <td>27,792.34</td>\n",
       "      <td>31,375.21</td>\n",
       "      <td>0.53</td>\n",
       "      <td>1113</td>\n",
       "      <td>1559</td>\n",
       "      <td>0.71</td>\n",
       "    </tr>\n",
       "    <tr>\n",
       "      <th>3</th>\n",
       "      <td>2021-10</td>\n",
       "      <td>55,255.52</td>\n",
       "      <td>33,358.99</td>\n",
       "      <td>21,896.53</td>\n",
       "      <td>0.40</td>\n",
       "      <td>1300</td>\n",
       "      <td>1564</td>\n",
       "      <td>0.83</td>\n",
       "    </tr>\n",
       "  </tbody>\n",
       "</table>\n",
       "</div>"
      ],
      "text/plain": [
       "  year_month   revenue      cogs  margin_$  margin_%  total_count_incoming  \\\n",
       "0    2021-07 69,418.14 28,758.05 40,660.09      0.59                   710   \n",
       "1    2021-08 87,961.54 42,101.24 45,860.30      0.52                  1345   \n",
       "2    2021-09 59,167.55 27,792.34 31,375.21      0.53                  1113   \n",
       "3    2021-10 55,255.52 33,358.99 21,896.53      0.40                  1300   \n",
       "\n",
       "   total_count  coverage  \n",
       "0         1296      0.55  \n",
       "1         1976      0.68  \n",
       "2         1559      0.71  \n",
       "3         1564      0.83  "
      ]
     },
     "execution_count": 159,
     "metadata": {},
     "output_type": "execute_result"
    }
   ],
   "source": [
    "df_summary_simp"
   ]
  },
  {
   "cell_type": "code",
   "execution_count": 160,
   "id": "561a7939",
   "metadata": {},
   "outputs": [],
   "source": [
    "df_summary_simp.to_excel('./ND_analysis.xlsx')"
   ]
  },
  {
   "cell_type": "markdown",
   "id": "6290682d",
   "metadata": {},
   "source": [
    "## Inventory"
   ]
  },
  {
   "cell_type": "code",
   "execution_count": 161,
   "id": "64b41745",
   "metadata": {},
   "outputs": [
    {
     "name": "stdout",
     "output_type": "stream",
     "text": [
      "<class 'pandas.core.frame.DataFrame'>\n",
      "RangeIndex: 274 entries, 0 to 273\n",
      "Data columns (total 15 columns):\n",
      " #   Column                 Non-Null Count  Dtype  \n",
      "---  ------                 --------------  -----  \n",
      " 0   license_number         274 non-null    object \n",
      " 1   package_id             274 non-null    object \n",
      " 2   package_label          274 non-null    object \n",
      " 3   type                   274 non-null    object \n",
      " 4   packaged_date          274 non-null    object \n",
      " 5   package_type           274 non-null    object \n",
      " 6   product_name           274 non-null    object \n",
      " 7   product_category_name  274 non-null    object \n",
      " 8   quantity               274 non-null    float64\n",
      " 9   unit_of_measure        274 non-null    object \n",
      " 10  is_testing_sample      274 non-null    bool   \n",
      " 11  is_trade_sample        274 non-null    bool   \n",
      " 12  is_on_hold             274 non-null    bool   \n",
      " 13  archived_date          0 non-null      object \n",
      " 14  finished_date          0 non-null      object \n",
      "dtypes: bool(3), float64(1), object(11)\n",
      "memory usage: 26.6+ KB\n"
     ]
    }
   ],
   "source": [
    "df_inventory.info()"
   ]
  },
  {
   "cell_type": "code",
   "execution_count": 162,
   "id": "e8b30981",
   "metadata": {},
   "outputs": [],
   "source": [
    "df_inventory_incoming = pd.merge(df_inventory, df_avg_incoming_price, on='package_id', how='left')"
   ]
  },
  {
   "cell_type": "code",
   "execution_count": 163,
   "id": "2e39880c",
   "metadata": {},
   "outputs": [],
   "source": [
    "df_inventory_incoming.replace([np.inf], np.nan, inplace=True)"
   ]
  },
  {
   "cell_type": "code",
   "execution_count": 164,
   "id": "825e2e13",
   "metadata": {},
   "outputs": [],
   "source": [
    "df_inv_null = df_inventory_incoming[df_inventory_incoming['per_unit_incoming'].isnull()]"
   ]
  },
  {
   "cell_type": "code",
   "execution_count": 165,
   "id": "a56c90b4",
   "metadata": {},
   "outputs": [],
   "source": [
    "df_inv_product = pd.merge(df_inv_null, df_avg_product, on='product_name', how='left')"
   ]
  },
  {
   "cell_type": "code",
   "execution_count": 166,
   "id": "ece80e4c",
   "metadata": {},
   "outputs": [],
   "source": [
    "df_inv_product.replace([np.inf], np.nan, inplace=True)"
   ]
  },
  {
   "cell_type": "code",
   "execution_count": 167,
   "id": "b742a732",
   "metadata": {},
   "outputs": [],
   "source": [
    "df_inv_product_price = df_inv_product[df_inv_product['per_unit_product'].notnull()]"
   ]
  },
  {
   "cell_type": "code",
   "execution_count": 168,
   "id": "e399a39e",
   "metadata": {},
   "outputs": [
    {
     "name": "stderr",
     "output_type": "stream",
     "text": [
      "C:\\Users\\Rachel\\GitHub\\venvs\\bespoke\\lib\\site-packages\\ipykernel_launcher.py:1: SettingWithCopyWarning: \n",
      "A value is trying to be set on a copy of a slice from a DataFrame.\n",
      "Try using .loc[row_indexer,col_indexer] = value instead\n",
      "\n",
      "See the caveats in the documentation: https://pandas.pydata.org/pandas-docs/stable/user_guide/indexing.html#returning-a-view-versus-a-copy\n",
      "  \"\"\"Entry point for launching an IPython kernel.\n"
     ]
    }
   ],
   "source": [
    "df_inv_product_price['total_price'] = df_inv_product_price['quantity'] * df_inv_product_price['per_unit_product']"
   ]
  },
  {
   "cell_type": "code",
   "execution_count": 169,
   "id": "7b702974",
   "metadata": {},
   "outputs": [
    {
     "name": "stdout",
     "output_type": "stream",
     "text": [
      "1,476.04\n"
     ]
    }
   ],
   "source": [
    "inventory_product_value = df_inv_product_price['total_price'].sum()\n",
    "print(f'{inventory_product_value:,.2f}')"
   ]
  },
  {
   "cell_type": "code",
   "execution_count": 170,
   "id": "1ecf1286",
   "metadata": {},
   "outputs": [
    {
     "name": "stdout",
     "output_type": "stream",
     "text": [
      "36,674.48\n"
     ]
    }
   ],
   "source": [
    "df_inventory_incoming['total_price'] = df_inventory_incoming['quantity'] * df_inventory_incoming['per_unit_incoming']\n",
    "inventory_value = df_inventory_incoming['total_price'].sum()\n",
    "print(f'{inventory_value:,.2f}')"
   ]
  },
  {
   "cell_type": "code",
   "execution_count": 171,
   "id": "bc070e9b",
   "metadata": {},
   "outputs": [
    {
     "name": "stdout",
     "output_type": "stream",
     "text": [
      "38,150.52\n"
     ]
    }
   ],
   "source": [
    "total_inv_value = inventory_product_value + inventory_value\n",
    "print(f'{total_inv_value:,.2f}')"
   ]
  },
  {
   "cell_type": "code",
   "execution_count": 172,
   "id": "e18eaedb",
   "metadata": {},
   "outputs": [],
   "source": [
    "inv_count_product = df_inv_product_price['per_unit_product'].count()"
   ]
  },
  {
   "cell_type": "code",
   "execution_count": 173,
   "id": "2d4b506b",
   "metadata": {},
   "outputs": [
    {
     "data": {
      "text/plain": [
       "14"
      ]
     },
     "execution_count": 173,
     "metadata": {},
     "output_type": "execute_result"
    }
   ],
   "source": [
    "inv_count_product"
   ]
  },
  {
   "cell_type": "code",
   "execution_count": 174,
   "id": "a08ee6e2",
   "metadata": {},
   "outputs": [],
   "source": [
    "inv_count_incoming = df_inventory_incoming['per_unit_incoming'].count()\n",
    "inv_count_total = df_inventory_incoming['quantity'].count()\n"
   ]
  },
  {
   "cell_type": "code",
   "execution_count": 175,
   "id": "8e11a1af",
   "metadata": {},
   "outputs": [],
   "source": [
    "inv_total_incoming = inv_count_product + inv_count_incoming"
   ]
  },
  {
   "cell_type": "code",
   "execution_count": 176,
   "id": "7f1f34cf",
   "metadata": {},
   "outputs": [
    {
     "data": {
      "text/plain": [
       "168"
      ]
     },
     "execution_count": 176,
     "metadata": {},
     "output_type": "execute_result"
    }
   ],
   "source": [
    "inv_total_incoming"
   ]
  },
  {
   "cell_type": "code",
   "execution_count": 177,
   "id": "c66dc0de",
   "metadata": {},
   "outputs": [
    {
     "data": {
      "text/plain": [
       "274"
      ]
     },
     "execution_count": 177,
     "metadata": {},
     "output_type": "execute_result"
    }
   ],
   "source": [
    "inv_count_total"
   ]
  },
  {
   "cell_type": "code",
   "execution_count": 178,
   "id": "bbb7a887",
   "metadata": {},
   "outputs": [
    {
     "name": "stdout",
     "output_type": "stream",
     "text": [
      "61%\n"
     ]
    }
   ],
   "source": [
    "inventory_coverage = inv_total_incoming / inv_count_total\n",
    "print(f'{inventory_coverage:,.0%}')"
   ]
  },
  {
   "cell_type": "code",
   "execution_count": null,
   "id": "bf6f31f1",
   "metadata": {},
   "outputs": [],
   "source": []
  },
  {
   "cell_type": "code",
   "execution_count": null,
   "id": "2826c695",
   "metadata": {},
   "outputs": [],
   "source": []
  },
  {
   "cell_type": "code",
   "execution_count": null,
   "id": "9344f66e",
   "metadata": {},
   "outputs": [],
   "source": []
  },
  {
   "cell_type": "code",
   "execution_count": null,
   "id": "d990d742",
   "metadata": {},
   "outputs": [],
   "source": []
  },
  {
   "cell_type": "markdown",
   "id": "cf007bf4",
   "metadata": {},
   "source": [
    "# Notes"
   ]
  },
  {
   "cell_type": "code",
   "execution_count": null,
   "id": "fd73ec9b",
   "metadata": {},
   "outputs": [],
   "source": [
    "# df_in[df_in.duplicated('package_id')]\n",
    "# df_sales[df_sales.duplicated('tx_package_id')]"
   ]
  },
  {
   "cell_type": "code",
   "execution_count": null,
   "id": "3e04fc47",
   "metadata": {},
   "outputs": [],
   "source": [
    "# pd.merge(df_sales, df_in[['package_id','per_unit_incoming']], left_on='tx_package_id', right_on='package_id', how='left')"
   ]
  },
  {
   "cell_type": "code",
   "execution_count": null,
   "id": "74f5cc4f",
   "metadata": {},
   "outputs": [],
   "source": [
    "# df_sales.merge(df_in['package_id','per_unit_incoming'], left_on='tx_package_id', right_on='package_id', how='left')"
   ]
  },
  {
   "cell_type": "code",
   "execution_count": null,
   "id": "ac320030",
   "metadata": {},
   "outputs": [],
   "source": [
    "# incoming_transfer_simp = company_incoming_transfer_packages_dataframe[[\n",
    "# 'license_number',\n",
    "# 'created_date',\n",
    "# 'package_id',\n",
    "# 'product_category_name',\n",
    "# 'product_name',\n",
    "# 'shipper_wholesale_price',\n",
    "# 'shipped_quantity',\n",
    "# 'shipped_unit_of_measure',\n",
    "# 'item_unit_weight',\n",
    "# 'item_unit_weight_unit_of_measure_name']]"
   ]
  },
  {
   "cell_type": "code",
   "execution_count": null,
   "id": "3073f693",
   "metadata": {},
   "outputs": [],
   "source": [
    "# incoming_transfer_simp"
   ]
  },
  {
   "cell_type": "code",
   "execution_count": null,
   "id": "c23f1ea3-e036-4add-bf26-56cb6652ee45",
   "metadata": {},
   "outputs": [],
   "source": [
    "# outgoing_transfer_simp = company_outgoing_transfer_packages_dataframe[[\n",
    "# 'license_number',\n",
    "# 'created_date',\n",
    "# 'package_id',\n",
    "# 'product_category_name',\n",
    "# 'product_name',\n",
    "# 'shipper_wholesale_price',\n",
    "# 'shipped_quantity',\n",
    "# 'shipped_unit_of_measure',\n",
    "# 'item_unit_weight',\n",
    "# 'item_unit_weight_unit_of_measure_name']]"
   ]
  },
  {
   "cell_type": "code",
   "execution_count": null,
   "id": "6f185f88",
   "metadata": {},
   "outputs": [],
   "source": [
    "# company_sales_transactions_dataframe.to_csv('hpcc_all_sales_10_13_21.csv')"
   ]
  },
  {
   "cell_type": "code",
   "execution_count": null,
   "id": "13c280d0",
   "metadata": {},
   "outputs": [],
   "source": [
    "# company_sales_transactions_dataframe.info()"
   ]
  },
  {
   "cell_type": "code",
   "execution_count": null,
   "id": "fb9fe2f1-92b1-401e-b706-20c90ce0787a",
   "metadata": {},
   "outputs": [],
   "source": [
    "# sales_simp = company_sales_transactions_dataframe[[\n",
    "# 'license_number',\n",
    "# 'sales_datetime',\n",
    "# 'tx_package_id',\n",
    "# 'tx_product_name',\n",
    "# 'tx_product_category_name',\n",
    "# 'tx_unit_of_measure',\n",
    "# 'tx_quantity_sold',\n",
    "# 'tx_total_price']]"
   ]
  },
  {
   "cell_type": "code",
   "execution_count": null,
   "id": "efdf2d6c-f232-441b-902d-ae9f4923482a",
   "metadata": {},
   "outputs": [],
   "source": [
    "# inventory_simp = company_inventory_packages_dataframe[[\n",
    "# 'license_number',\n",
    "# 'package_id',\n",
    "# 'packaged_date',\n",
    "# 'product_name',\n",
    "# 'product_category_name',\n",
    "# 'quantity',\n",
    "# 'unit_of_measure'\n",
    "# ]]"
   ]
  },
  {
   "cell_type": "code",
   "execution_count": null,
   "id": "df09761f",
   "metadata": {},
   "outputs": [],
   "source": [
    "# sales_simp['year_month'] = sales_simp['sales_datetime'].dt.strftime(\"%Y-%m\")"
   ]
  },
  {
   "cell_type": "code",
   "execution_count": null,
   "id": "2f70eeac",
   "metadata": {},
   "outputs": [],
   "source": [
    "# sales_simp.groupby(by=['year_month'], as_index=False).count()"
   ]
  },
  {
   "cell_type": "code",
   "execution_count": null,
   "id": "f30c597f",
   "metadata": {},
   "outputs": [],
   "source": [
    "# sales_drop = sales_simp.drop(['sales_datetime', 'month_year'], axis=1)"
   ]
  },
  {
   "cell_type": "code",
   "execution_count": null,
   "id": "d435207c",
   "metadata": {},
   "outputs": [],
   "source": [
    "# sales_simp.to_csv('./hpcc_sales_2021_10_13.csv')"
   ]
  },
  {
   "cell_type": "code",
   "execution_count": null,
   "id": "d8cea73c",
   "metadata": {},
   "outputs": [],
   "source": [
    "# INVENTORY_DATES = [\n",
    "#     '09/30/2020',\n",
    "#     '10/31/2020',\n",
    "#     '11/30/2020',\n",
    "#     '12/31/2020',\n",
    "#     '01/31/2021',\n",
    "#     '02/28/2021',\n",
    "#     '03/31/2021',\n",
    "#     '04/30/2021',\n",
    "#     '05/31/2021',\n",
    "#     '06/30/2021',\n",
    "#     '07/31/2021',\n",
    "#     '08/31/2021',\n",
    "#     '09/30/2021',\n",
    "# ]"
   ]
  },
  {
   "cell_type": "code",
   "execution_count": null,
   "id": "106a034d-fb76-4e8e-bce6-4e3b525b175e",
   "metadata": {},
   "outputs": [],
   "source": [
    "# %autoreload 2\n",
    "\n",
    "# sys.path.append(path.realpath(path.join(os.getcwd(), \"../../scripts/analysis\")))\n",
    "# sys.path.append(path.realpath(path.join(os.getcwd(), \"../../src\")))\n",
    "\n",
    "# from util import active_inventory_util as util"
   ]
  },
  {
   "cell_type": "code",
   "execution_count": null,
   "id": "c2af6220-2ebc-4447-a17e-0e3d9f3a7bbd",
   "metadata": {},
   "outputs": [],
   "source": [
    "# d = util.Download()\n",
    "# d.download_dataframes(\n",
    "#     incoming_transfer_packages_dataframe=company_incoming_transfer_packages_dataframe,\n",
    "#     outgoing_transfer_packages_dataframe=company_outgoing_transfer_packages_dataframe,\n",
    "#     sales_transactions_dataframe=company_sales_transactions_dataframe,\n",
    "# )"
   ]
  },
  {
   "cell_type": "code",
   "execution_count": null,
   "id": "5fbbbfe7-87c0-4409-9e6a-b6dc2b63ce54",
   "metadata": {
    "tags": []
   },
   "outputs": [],
   "source": [
    "# q = util.Query()\n",
    "# q.inventory_dates = INVENTORY_DATES\n",
    "# q.company_name = COMPANY_NAME\n",
    "\n",
    "# id_to_history = util.get_histories(d)\n",
    "# util.print_counts(id_to_history)\n",
    "# util.create_inventory_xlsx(id_to_history, q)"
   ]
  },
  {
   "cell_type": "code",
   "execution_count": null,
   "id": "4de368e2-44ab-4885-86d2-54b989f091f2",
   "metadata": {
    "tags": []
   },
   "outputs": [],
   "source": [
    "# computed_inventory_package_records = util.create_inventory_dataframe_by_date(id_to_history, INVENTORY_DATE)\n",
    "# computed_inventory_packages_dataframe = pandas.DataFrame(\n",
    "#     computed_inventory_package_records,\n",
    "#     columns=[\n",
    "#         'package_id',\n",
    "#         'Arrived Date',\n",
    "#         'Product Category',\n",
    "#         'Product Name',\n",
    "#         'Current Quantity',\n",
    "#         'Sold Date',\n",
    "#     ]\n",
    "# )\n",
    "# computed_inventory_packages_dataframe"
   ]
  },
  {
   "cell_type": "code",
   "execution_count": null,
   "id": "8cf09fb6-7890-4a77-9c5a-b78873a8a420",
   "metadata": {},
   "outputs": [],
   "source": [
    "# date_to_inventory_dataframe = {}\n",
    "# for date, inventory_records in date_to_inventory_records.items():\n",
    "#     date_to_inventory_dataframe[date] = pandas.DataFrame(\n",
    "#         inventory_records,\n",
    "#         columns=[\n",
    "#             'package_id',\n",
    "#             'Arrived Date',\n",
    "#             'Product Category',\n",
    "#             'Product Name',\n",
    "#             'Current Quantity',\n",
    "#             'Sold Date',\n",
    "#         ]\n",
    "#     )\n",
    "    \n",
    "# date_to_inventory_dataframe[list(date_to_inventory_dataframe.keys())[0]]"
   ]
  },
  {
   "cell_type": "code",
   "execution_count": null,
   "id": "c17de11e-05e9-4c94-997d-cdc0d69912b7",
   "metadata": {},
   "outputs": [],
   "source": [
    "# raw_incoming_transfer_packages_dataframe = pandas.read_excel('data/20210930/royal_apothecary_incoming_transfer_packages_20200101_20210930.xlsx', header=0)\n",
    "# len(raw_incoming_transfer_packages_dataframe.index), raw_incoming_transfer_packages_dataframe.columns"
   ]
  },
  {
   "cell_type": "code",
   "execution_count": null,
   "id": "3548e8c0-db51-43c3-8fe9-cb93ef3088cd",
   "metadata": {},
   "outputs": [],
   "source": [
    "# incoming_transfer_packages_dataframe = raw_incoming_transfer_packages_dataframe[[\n",
    "#     'date_type',\n",
    "#     'transfer_row_id',\n",
    "#     'delivery_row_id',\n",
    "#     'package_row_id',\n",
    "#     'delivery_type',\n",
    "#     'manifest_number',\n",
    "#     'created_date',\n",
    "#     'received_datetime',\n",
    "#     'shipper_facility_license_number',\n",
    "#     'shipper_facility_name',\n",
    "#     'recipient_facility_license_number',\n",
    "#     'recipient_facility_name',\n",
    "#     'shipment_type_name',\n",
    "#     'shipment_transaction_type',\n",
    "#     'package_id',\n",
    "#     'package_label',\n",
    "#     'type',\n",
    "#     'product_category_name',\n",
    "#     'product_name',\n",
    "#     'shipper_wholesale_price',\n",
    "#     'shipped_quantity',\n",
    "#     'package_lab_results_status',\n",
    "#     'shipment_package_state',\n",
    "#     'is_testing_sample',\n",
    "#     'is_trade_sample'\n",
    "# ]]"
   ]
  },
  {
   "cell_type": "code",
   "execution_count": null,
   "id": "bba6d3dc-2949-4ab5-aedb-e37110298e1d",
   "metadata": {},
   "outputs": [],
   "source": []
  },
  {
   "cell_type": "code",
   "execution_count": null,
   "id": "5e7c281b-9ccb-4162-abd0-fe89b36592c0",
   "metadata": {},
   "outputs": [],
   "source": [
    "# for date, inventory_dataframe in date_to_inventory_dataframe.items():\n",
    "#     print(date)\n",
    "#     print(f'# of packages in inventory: {len(inventory_dataframe.index)}')\n",
    "\n",
    "#     inventory_with_incoming_transfer_packages_dataframe = inventory_dataframe.astype({'package_id': 'int64'}).merge(incoming_transfer_packages_dataframe, on='package_id', how='inner', suffixes=('_l', '_r'))\n",
    "# #     print(f'# of packages in inventory with incoming package: {len(inventory_with_incoming_transfer_packages_dataframe.index)}')\n",
    "    \n",
    "#     inventory_with_cost_records = inventory_with_incoming_transfer_packages_dataframe.to_dict('record')\n",
    "\n",
    "#     total_valuation_cost = 0\n",
    "#     import math\n",
    "#     for inventory_with_cost_record in inventory_with_cost_records:\n",
    "#         incoming_shipped_price = inventory_with_cost_record['shipper_wholesale_price']\n",
    "#         if math.isnan(incoming_shipped_price):\n",
    "#             incoming_shipped_price = 0\n",
    "#         incoming_shipped_quantity = inventory_with_cost_record['shipped_quantity']\n",
    "#         current_quantity = inventory_with_cost_record['Current Quantity']\n",
    "#         total_valuation_cost += float(current_quantity) * (incoming_shipped_price / incoming_shipped_quantity)\n",
    "\n",
    "#     print(f'Inventory valuation (based on COST): ${total_valuation_cost}')\n",
    "#     print('')"
   ]
  },
  {
   "cell_type": "code",
   "execution_count": null,
   "id": "784c3521-f47d-4443-90cb-d06e934a9a1d",
   "metadata": {},
   "outputs": [],
   "source": [
    "# import json\n",
    "# import pandas\n",
    "# import numpy\n",
    "# import os\n",
    "# import sys\n",
    "# from os import path"
   ]
  }
 ],
 "metadata": {
  "kernelspec": {
   "display_name": "Python 3 (ipykernel)",
   "language": "python",
   "name": "python3"
  },
  "language_info": {
   "codemirror_mode": {
    "name": "ipython",
    "version": 3
   },
   "file_extension": ".py",
   "mimetype": "text/x-python",
   "name": "python",
   "nbconvert_exporter": "python",
   "pygments_lexer": "ipython3",
   "version": "3.7.7"
  }
 },
 "nbformat": 4,
 "nbformat_minor": 5
}
