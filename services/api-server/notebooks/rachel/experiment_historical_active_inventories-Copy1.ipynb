{
 "cells": [
  {
   "cell_type": "code",
   "execution_count": null,
   "id": "601d396f",
   "metadata": {},
   "outputs": [],
   "source": [
    "# Steps to install\n",
    "# 1. pip install sqlalchemy-bigquery google-cloud-bigquery-storage pyarrow\n",
    "# 2. Copy the credentials file to wherever you set BIGQUERY_CREDENTIALS_PATH to"
   ]
  },
  {
   "cell_type": "code",
   "execution_count": 1,
   "id": "170c442e-f0fb-4421-a3bf-5f87863f8277",
   "metadata": {},
   "outputs": [],
   "source": [
    "import json\n",
    "import os\n",
    "import pandas as pd\n",
    "import pyarrow\n",
    "import numpy as np\n",
    "\n",
    "import sys\n",
    "from os import path\n",
    "import numpy\n",
    "\n",
    "from dotenv import load_dotenv\n",
    "from sqlalchemy import create_engine\n",
    "\n",
    "\n",
    "load_dotenv(verbose=True)\n",
    "BIGQUERY_CREDENTIALS_PATH = os.environ.get('BIGQUERY_CREDENTIALS_PATH')"
   ]
  },
  {
   "cell_type": "code",
   "execution_count": 2,
   "id": "38f9a288-03bc-43c5-82f8-a7c5a55f7286",
   "metadata": {},
   "outputs": [],
   "source": [
    "sys.path.append(path.realpath(path.join(os.getcwd(), \"../core\")))\n",
    "import create_queries\n",
    "%load_ext autoreload\n",
    "%autoreload 2"
   ]
  },
  {
   "cell_type": "code",
   "execution_count": 3,
   "id": "55535e4b",
   "metadata": {},
   "outputs": [],
   "source": [
    "import prepare_data"
   ]
  },
  {
   "cell_type": "code",
   "execution_count": 4,
   "id": "34d0729c",
   "metadata": {},
   "outputs": [],
   "source": [
    "pd.options.display.float_format = '{:,.2f}'.format"
   ]
  },
  {
   "cell_type": "code",
   "execution_count": 5,
   "id": "203e6e02",
   "metadata": {},
   "outputs": [],
   "source": [
    "from datetime import date"
   ]
  },
  {
   "cell_type": "code",
   "execution_count": 6,
   "id": "f524c171",
   "metadata": {},
   "outputs": [],
   "source": [
    "today = date.today()"
   ]
  },
  {
   "cell_type": "code",
   "execution_count": 7,
   "id": "fbfe06bc-cc79-41cc-814e-1d2166177496",
   "metadata": {},
   "outputs": [],
   "source": [
    "COMPANY_NAME = 'CTE'\n",
    "COMPANY_IDENTIFIER = 'CTE'\n",
    "TRANSFER_PACKAGES_START_DATE = '2020-01-01'\n",
    "SALES_TRANSACTIONS_START_DATE = '2020-01-01'\n",
    "\n",
    "INVENTORY_DATE = '01/10/2022'"
   ]
  },
  {
   "cell_type": "code",
   "execution_count": 8,
   "id": "d9eccd84-a327-4299-8876-456c6c9f574c",
   "metadata": {},
   "outputs": [],
   "source": [
    "company_incoming_transfer_packages_query = create_queries.create_company_incoming_transfer_packages_query(COMPANY_IDENTIFIER, TRANSFER_PACKAGES_START_DATE)\n",
    "company_outgoing_transfer_packages_query = create_queries.create_company_outgoing_transfer_packages_query(COMPANY_IDENTIFIER, TRANSFER_PACKAGES_START_DATE)\n",
    "company_sales_transactions_query = create_queries.create_company_sales_transactions_query(COMPANY_IDENTIFIER, SALES_TRANSACTIONS_START_DATE)\n",
    "company_inventory_packages_query = create_queries.create_company_inventory_packages_query(COMPANY_IDENTIFIER)\n",
    "\n",
    "engine = create_engine('bigquery://bespoke-financial/ProdMetrcData', credentials_path=os.path.expanduser(BIGQUERY_CREDENTIALS_PATH))\n",
    "company_incoming_transfer_packages_dataframe = pd.read_sql_query(company_incoming_transfer_packages_query, engine)\n",
    "company_outgoing_transfer_packages_dataframe = pd.read_sql_query(company_outgoing_transfer_packages_query, engine)\n",
    "company_sales_transactions_dataframe = pd.read_sql_query(company_sales_transactions_query, engine)\n",
    "company_inventory_packages_dataframe = pd.read_sql_query(company_inventory_packages_query, engine)"
   ]
  },
  {
   "cell_type": "code",
   "execution_count": 9,
   "id": "62be4499",
   "metadata": {},
   "outputs": [],
   "source": [
    "deduped_sales_receipts_dataframe = prepare_data.dedupe_sales_transactions(company_sales_transactions_dataframe)"
   ]
  },
  {
   "cell_type": "code",
   "execution_count": 10,
   "id": "e3bc55cf",
   "metadata": {},
   "outputs": [],
   "source": [
    "df_in_og = company_incoming_transfer_packages_dataframe\n",
    "df_inventory_og = company_inventory_packages_dataframe\n",
    "df_sales_og = deduped_sales_receipts_dataframe"
   ]
  },
  {
   "cell_type": "code",
   "execution_count": 11,
   "id": "cdb81046",
   "metadata": {},
   "outputs": [],
   "source": [
    "df_in = df_in_og\n",
    "df_inventory = df_inventory_og\n",
    "df_sales = df_sales_og"
   ]
  },
  {
   "cell_type": "code",
   "execution_count": 16,
   "id": "a6ecd29d",
   "metadata": {},
   "outputs": [
    {
     "data": {
      "text/html": [
       "<div>\n",
       "<style scoped>\n",
       "    .dataframe tbody tr th:only-of-type {\n",
       "        vertical-align: middle;\n",
       "    }\n",
       "\n",
       "    .dataframe tbody tr th {\n",
       "        vertical-align: top;\n",
       "    }\n",
       "\n",
       "    .dataframe thead th {\n",
       "        text-align: right;\n",
       "    }\n",
       "</style>\n",
       "<table border=\"1\" class=\"dataframe\">\n",
       "  <thead>\n",
       "    <tr style=\"text-align: right;\">\n",
       "      <th></th>\n",
       "      <th>license_number</th>\n",
       "      <th>package_id</th>\n",
       "      <th>package_label</th>\n",
       "      <th>type</th>\n",
       "      <th>packaged_date</th>\n",
       "      <th>last_modified_at</th>\n",
       "      <th>package_type</th>\n",
       "      <th>product_name</th>\n",
       "      <th>product_category_name</th>\n",
       "      <th>quantity</th>\n",
       "      <th>...</th>\n",
       "      <th>item_id</th>\n",
       "      <th>item_product_category_type</th>\n",
       "      <th>production_batch_number</th>\n",
       "      <th>source_production_batch_numbers</th>\n",
       "      <th>source_harvest_names</th>\n",
       "      <th>is_testing_sample</th>\n",
       "      <th>is_trade_sample</th>\n",
       "      <th>is_on_hold</th>\n",
       "      <th>archived_date</th>\n",
       "      <th>finished_date</th>\n",
       "    </tr>\n",
       "  </thead>\n",
       "  <tbody>\n",
       "  </tbody>\n",
       "</table>\n",
       "<p>0 rows × 21 columns</p>\n",
       "</div>"
      ],
      "text/plain": [
       "Empty DataFrame\n",
       "Columns: [license_number, package_id, package_label, type, packaged_date, last_modified_at, package_type, product_name, product_category_name, quantity, unit_of_measure, item_id, item_product_category_type, production_batch_number, source_production_batch_numbers, source_harvest_names, is_testing_sample, is_trade_sample, is_on_hold, archived_date, finished_date]\n",
       "Index: []\n",
       "\n",
       "[0 rows x 21 columns]"
      ]
     },
     "execution_count": 16,
     "metadata": {},
     "output_type": "execute_result"
    }
   ],
   "source": [
    "company_inventory_packages_dataframe"
   ]
  },
  {
   "cell_type": "code",
   "execution_count": 13,
   "id": "6130654a",
   "metadata": {},
   "outputs": [
    {
     "data": {
      "text/html": [
       "<div>\n",
       "<style scoped>\n",
       "    .dataframe tbody tr th:only-of-type {\n",
       "        vertical-align: middle;\n",
       "    }\n",
       "\n",
       "    .dataframe tbody tr th {\n",
       "        vertical-align: top;\n",
       "    }\n",
       "\n",
       "    .dataframe thead th {\n",
       "        text-align: right;\n",
       "    }\n",
       "</style>\n",
       "<table border=\"1\" class=\"dataframe\">\n",
       "  <thead>\n",
       "    <tr style=\"text-align: right;\">\n",
       "      <th></th>\n",
       "    </tr>\n",
       "    <tr>\n",
       "      <th>license_number</th>\n",
       "    </tr>\n",
       "  </thead>\n",
       "  <tbody>\n",
       "  </tbody>\n",
       "</table>\n",
       "</div>"
      ],
      "text/plain": [
       "Empty DataFrame\n",
       "Columns: []\n",
       "Index: []"
      ]
     },
     "execution_count": 13,
     "metadata": {},
     "output_type": "execute_result"
    }
   ],
   "source": [
    "df_in.groupby('license_number').sum()"
   ]
  },
  {
   "cell_type": "code",
   "execution_count": 78,
   "id": "fa854236",
   "metadata": {},
   "outputs": [],
   "source": [
    "license_number = 'AU-R-000156'"
   ]
  },
  {
   "cell_type": "code",
   "execution_count": 79,
   "id": "911b9468",
   "metadata": {},
   "outputs": [],
   "source": [
    "df_license_specific = df_in[df_in['license_number'] == license_number]\n",
    "df_license_specific.reset_index(drop=True, inplace=True)\n",
    "legal_name = df_license_specific['recipient_facility_name'][0]"
   ]
  },
  {
   "cell_type": "code",
   "execution_count": 80,
   "id": "574add20",
   "metadata": {},
   "outputs": [],
   "source": [
    "df_sales = df_sales[df_sales['license_number'] == license_number]\n",
    "df_inventory = df_inventory[df_inventory['license_number'] == license_number]"
   ]
  },
  {
   "cell_type": "code",
   "execution_count": 158,
   "id": "2be4d5df",
   "metadata": {},
   "outputs": [],
   "source": [
    "# df_in.groupby('recipient_facility_name').sum()\n",
    "# df_sales_licenses = df_sales.groupby('license_number').sum()\n",
    "# df_sales_licenses.to_csv('./TL_licenses.csv')\n",
    "# df_inventory.groupby('license_number').sum()\n",
    "# df_sales = df_sales[(df_sales['license_number'] == '402-00473') | (df_sales['license_number'] == '402R-00536')]\n",
    "# df_inventory = df_inventory[(df_inventory['license_number'] == '402-00473') | (df_inventory['license_number'] == '402R-00536')]"
   ]
  },
  {
   "cell_type": "markdown",
   "id": "dabac9b0",
   "metadata": {},
   "source": [
    "## Sales"
   ]
  },
  {
   "cell_type": "code",
   "execution_count": 81,
   "id": "13619ec3",
   "metadata": {},
   "outputs": [
    {
     "name": "stderr",
     "output_type": "stream",
     "text": [
      "C:\\Users\\Rachel\\GitHub\\venvs\\bespoke\\lib\\site-packages\\ipykernel_launcher.py:1: SettingWithCopyWarning: \n",
      "A value is trying to be set on a copy of a slice from a DataFrame.\n",
      "Try using .loc[row_indexer,col_indexer] = value instead\n",
      "\n",
      "See the caveats in the documentation: https://pandas.pydata.org/pandas-docs/stable/user_guide/indexing.html#returning-a-view-versus-a-copy\n",
      "  \"\"\"Entry point for launching an IPython kernel.\n",
      "C:\\Users\\Rachel\\GitHub\\venvs\\bespoke\\lib\\site-packages\\ipykernel_launcher.py:2: SettingWithCopyWarning: \n",
      "A value is trying to be set on a copy of a slice from a DataFrame.\n",
      "Try using .loc[row_indexer,col_indexer] = value instead\n",
      "\n",
      "See the caveats in the documentation: https://pandas.pydata.org/pandas-docs/stable/user_guide/indexing.html#returning-a-view-versus-a-copy\n",
      "  \n"
     ]
    }
   ],
   "source": [
    "df_sales['per_unit'] = df_sales['tx_total_price'] / df_sales['tx_quantity_sold']\n",
    "df_sales['year_month'] = df_sales['sales_datetime'].dt.strftime(\"%Y-%m\")"
   ]
  },
  {
   "cell_type": "code",
   "execution_count": 82,
   "id": "9e3ffc07",
   "metadata": {},
   "outputs": [],
   "source": [
    "s_revenue = df_sales.groupby('year_month')['tx_total_price'].sum()\n",
    "df_revenue = pd.Series(s_revenue).to_frame()\n",
    "df_revenue = df_revenue.reset_index()\n",
    "df_revenue.rename(columns={'tx_total_price': 'revenue'}, inplace=True)"
   ]
  },
  {
   "cell_type": "code",
   "execution_count": 83,
   "id": "39902b28",
   "metadata": {},
   "outputs": [],
   "source": [
    "s_total_count = df_sales.groupby('year_month')['tx_total_price'].count()\n",
    "df_total_count = pd.Series(s_total_count).to_frame()\n",
    "df_total_count = df_total_count.reset_index()\n",
    "df_total_count.rename(columns={'tx_total_price':'total_count'}, inplace=True)"
   ]
  },
  {
   "cell_type": "code",
   "execution_count": 29,
   "id": "b0b53497",
   "metadata": {},
   "outputs": [],
   "source": [
    "# df_sales.to_csv('./WTH_sales.csv')"
   ]
  },
  {
   "cell_type": "markdown",
   "id": "5964e551",
   "metadata": {},
   "source": [
    "## Vendor Churn"
   ]
  },
  {
   "cell_type": "code",
   "execution_count": 22,
   "id": "eaf6ff96",
   "metadata": {},
   "outputs": [],
   "source": [
    "df_in.to_csv('./verts_incoming.csv')"
   ]
  },
  {
   "cell_type": "code",
   "execution_count": 163,
   "id": "8707e65b",
   "metadata": {},
   "outputs": [],
   "source": [
    "df_vendor_churn = df_in[df_in['license_number'] == license_number]"
   ]
  },
  {
   "cell_type": "code",
   "execution_count": 164,
   "id": "ac83a634",
   "metadata": {},
   "outputs": [],
   "source": [
    "df_vendor_churn.to_csv('./' + license_number + '_incoming.csv')"
   ]
  },
  {
   "cell_type": "code",
   "execution_count": 165,
   "id": "cbb6f3ce",
   "metadata": {},
   "outputs": [],
   "source": [
    "# df_sales.to_csv('./' + license_number + '_sales.csv')"
   ]
  },
  {
   "cell_type": "code",
   "execution_count": 166,
   "id": "83461a36",
   "metadata": {},
   "outputs": [],
   "source": [
    "# df_vendor_churn = df_in[(df_in['license_number'] == '402-01142') | (df_in['license_number'] == '402R-00573')]"
   ]
  },
  {
   "cell_type": "code",
   "execution_count": 167,
   "id": "3f88c61c",
   "metadata": {},
   "outputs": [],
   "source": [
    "# df_vendor_churn.to_csv('./Tweedleaf_Jason_incoming.csv')"
   ]
  },
  {
   "cell_type": "markdown",
   "id": "664c5215",
   "metadata": {},
   "source": [
    "## Incoming - get the avg price per package id then product name"
   ]
  },
  {
   "cell_type": "code",
   "execution_count": 168,
   "id": "c2dbf640",
   "metadata": {},
   "outputs": [],
   "source": [
    "# df_in = df_in[df_in['shipper_wholesale_price'] > 1]"
   ]
  },
  {
   "cell_type": "code",
   "execution_count": 84,
   "id": "378ca9d1",
   "metadata": {},
   "outputs": [],
   "source": [
    "df_in['per_unit_incoming'] = df_in['shipper_wholesale_price'] / df_in['shipped_quantity']\n",
    "df_in_price = df_in[df_in['shipper_wholesale_price'].notnull()]"
   ]
  },
  {
   "cell_type": "code",
   "execution_count": 85,
   "id": "3fdd26c3",
   "metadata": {},
   "outputs": [],
   "source": [
    "average_incoming_package_id = df_in_price.groupby('package_id')['per_unit_incoming'].mean()\n",
    "df_avg_incoming_price = pd.Series(average_incoming_package_id).to_frame()\n",
    "df_avg_incoming_price = df_avg_incoming_price.reset_index()"
   ]
  },
  {
   "cell_type": "code",
   "execution_count": 86,
   "id": "59ecc3a5",
   "metadata": {},
   "outputs": [],
   "source": [
    "average_incoming_product = df_in_price.groupby('product_name')['per_unit_incoming'].mean()\n",
    "df_avg_product = pd.Series(average_incoming_product).to_frame()\n",
    "df_avg_product = df_avg_product.reset_index()\n",
    "df_avg_product.rename(columns={'per_unit_incoming':'per_unit_product'}, inplace=True)"
   ]
  },
  {
   "cell_type": "markdown",
   "id": "9316be3c",
   "metadata": {},
   "source": [
    "## COGS"
   ]
  },
  {
   "cell_type": "code",
   "execution_count": 87,
   "id": "f812a381",
   "metadata": {},
   "outputs": [],
   "source": [
    "df_cogs_package_id = pd.merge(df_sales, df_avg_incoming_price, left_on='tx_package_id', right_on='package_id', how='left')\n",
    "df_cogs_package_id['total_incoming'] = df_cogs_package_id['per_unit_incoming'] * df_cogs_package_id['tx_quantity_sold']\n",
    "df_cogs_package_id.replace([np.inf], np.nan, inplace=True)\n",
    "df_cogs_package_id_notnull = df_cogs_package_id[df_cogs_package_id['total_incoming'].notnull()]"
   ]
  },
  {
   "cell_type": "code",
   "execution_count": 88,
   "id": "6af7b920",
   "metadata": {},
   "outputs": [],
   "source": [
    "s_cogs = df_cogs_package_id_notnull.groupby('year_month')['total_incoming'].sum()\n",
    "df_cogs_id = pd.Series(s_cogs).to_frame()\n",
    "df_cogs_id = df_cogs_id.reset_index()"
   ]
  },
  {
   "cell_type": "code",
   "execution_count": 89,
   "id": "279ee65b",
   "metadata": {},
   "outputs": [],
   "source": [
    "s_cogs_count = df_cogs_package_id_notnull.groupby('year_month')['total_incoming'].count()\n",
    "df_cogs_count = pd.Series(s_cogs_count).to_frame()\n",
    "df_cogs_count = df_cogs_count.reset_index()\n",
    "df_cogs_count.rename(columns={'total_incoming':'count_incoming'}, inplace=True)"
   ]
  },
  {
   "cell_type": "code",
   "execution_count": 90,
   "id": "00532d53",
   "metadata": {},
   "outputs": [],
   "source": [
    "df_cogs_average_product = pd.merge(df_cogs_package_id, df_avg_product, left_on='tx_product_name', right_on='product_name', how='left')\n",
    "df_cogs_average_product['total_product'] = df_cogs_average_product['tx_quantity_sold'] * df_cogs_average_product['per_unit_product']\n",
    "df_cogs_null = df_cogs_average_product[df_cogs_average_product['per_unit_incoming'].isnull()]\n",
    "df_cogs_product = df_cogs_null[df_cogs_null['per_unit_product'].notnull()]"
   ]
  },
  {
   "cell_type": "code",
   "execution_count": 91,
   "id": "cf543886",
   "metadata": {},
   "outputs": [],
   "source": [
    "product_sum = df_cogs_product.groupby('year_month')['total_product'].sum()\n",
    "df_product_sum = pd.Series(product_sum).to_frame()\n",
    "df_product_sum = df_product_sum.reset_index()\n",
    "df_product_sum.rename(columns={'total_product':'product_sum'}, inplace=True)"
   ]
  },
  {
   "cell_type": "code",
   "execution_count": 92,
   "id": "835de7e4",
   "metadata": {},
   "outputs": [],
   "source": [
    "product_count = df_cogs_product.groupby('year_month')['total_product'].count()\n",
    "df_product_count = pd.Series(product_count).to_frame()\n",
    "df_product_count = df_product_count.reset_index()\n",
    "df_product_count.rename(columns={'total_product':'product_count'}, inplace=True)"
   ]
  },
  {
   "cell_type": "code",
   "execution_count": 93,
   "id": "1444f818",
   "metadata": {},
   "outputs": [],
   "source": [
    "df_cogs_product = pd.merge(df_product_sum, df_product_count)"
   ]
  },
  {
   "cell_type": "code",
   "execution_count": 94,
   "id": "a7210e77",
   "metadata": {},
   "outputs": [],
   "source": [
    "# df_cogs_package_id.to_csv('./UHHC_cogs.csv')"
   ]
  },
  {
   "cell_type": "markdown",
   "id": "7bda242d",
   "metadata": {},
   "source": [
    "## Summary"
   ]
  },
  {
   "cell_type": "code",
   "execution_count": 95,
   "id": "d064fec7",
   "metadata": {},
   "outputs": [],
   "source": [
    "df_summary = pd.merge(df_revenue, df_cogs_product, how='left')\n",
    "df_summary = pd.merge(df_summary, df_cogs_id, how='left')\n",
    "df_summary['product_sum'] = df_summary['product_sum'].fillna(0)\n",
    "df_summary['product_count'] = df_summary['product_count'].fillna(0)\n",
    "df_summary['cogs'] = df_summary['total_incoming'] + df_summary['product_sum']\n",
    "df_summary = pd.merge(df_summary, df_cogs_count)\n",
    "df_summary = pd.merge(df_summary, df_total_count)\n",
    "df_summary['total_count_incoming'] = df_summary['product_count'] + df_summary['count_incoming']\n",
    "df_summary['margin_$'] = df_summary['revenue'] - df_summary['cogs']\n",
    "df_summary['margin_%'] = df_summary['margin_$'] / df_summary['revenue']\n",
    "df_summary['coverage'] = df_summary['total_count_incoming'] / df_summary['total_count']"
   ]
  },
  {
   "cell_type": "code",
   "execution_count": 96,
   "id": "791ccf7e",
   "metadata": {},
   "outputs": [],
   "source": [
    "df_summary_simp = df_summary[['year_month', 'revenue', 'cogs', 'margin_$', 'margin_%', 'total_count_incoming', 'total_count', 'coverage']]"
   ]
  },
  {
   "cell_type": "code",
   "execution_count": 97,
   "id": "c779868d",
   "metadata": {},
   "outputs": [
    {
     "data": {
      "text/html": [
       "<div>\n",
       "<style scoped>\n",
       "    .dataframe tbody tr th:only-of-type {\n",
       "        vertical-align: middle;\n",
       "    }\n",
       "\n",
       "    .dataframe tbody tr th {\n",
       "        vertical-align: top;\n",
       "    }\n",
       "\n",
       "    .dataframe thead th {\n",
       "        text-align: right;\n",
       "    }\n",
       "</style>\n",
       "<table border=\"1\" class=\"dataframe\">\n",
       "  <thead>\n",
       "    <tr style=\"text-align: right;\">\n",
       "      <th></th>\n",
       "      <th>year_month</th>\n",
       "      <th>revenue</th>\n",
       "      <th>cogs</th>\n",
       "      <th>margin_$</th>\n",
       "      <th>margin_%</th>\n",
       "      <th>total_count_incoming</th>\n",
       "      <th>total_count</th>\n",
       "      <th>coverage</th>\n",
       "    </tr>\n",
       "  </thead>\n",
       "  <tbody>\n",
       "    <tr>\n",
       "      <th>0</th>\n",
       "      <td>2020-01</td>\n",
       "      <td>27,652.06</td>\n",
       "      <td>2,856.00</td>\n",
       "      <td>24,796.06</td>\n",
       "      <td>0.90</td>\n",
       "      <td>77.00</td>\n",
       "      <td>581</td>\n",
       "      <td>0.13</td>\n",
       "    </tr>\n",
       "    <tr>\n",
       "      <th>1</th>\n",
       "      <td>2020-02</td>\n",
       "      <td>139,241.20</td>\n",
       "      <td>34,716.67</td>\n",
       "      <td>104,524.53</td>\n",
       "      <td>0.75</td>\n",
       "      <td>1,948.00</td>\n",
       "      <td>3607</td>\n",
       "      <td>0.54</td>\n",
       "    </tr>\n",
       "    <tr>\n",
       "      <th>2</th>\n",
       "      <td>2020-03</td>\n",
       "      <td>182,948.84</td>\n",
       "      <td>177,831.00</td>\n",
       "      <td>5,117.84</td>\n",
       "      <td>0.03</td>\n",
       "      <td>3,275.00</td>\n",
       "      <td>5260</td>\n",
       "      <td>0.62</td>\n",
       "    </tr>\n",
       "    <tr>\n",
       "      <th>3</th>\n",
       "      <td>2020-04</td>\n",
       "      <td>170,204.18</td>\n",
       "      <td>61,550.89</td>\n",
       "      <td>108,653.29</td>\n",
       "      <td>0.64</td>\n",
       "      <td>3,828.00</td>\n",
       "      <td>5389</td>\n",
       "      <td>0.71</td>\n",
       "    </tr>\n",
       "    <tr>\n",
       "      <th>4</th>\n",
       "      <td>2020-05</td>\n",
       "      <td>193,976.07</td>\n",
       "      <td>74,715.97</td>\n",
       "      <td>119,260.10</td>\n",
       "      <td>0.61</td>\n",
       "      <td>3,950.00</td>\n",
       "      <td>5316</td>\n",
       "      <td>0.74</td>\n",
       "    </tr>\n",
       "    <tr>\n",
       "      <th>5</th>\n",
       "      <td>2020-06</td>\n",
       "      <td>209,691.07</td>\n",
       "      <td>95,929.30</td>\n",
       "      <td>113,761.77</td>\n",
       "      <td>0.54</td>\n",
       "      <td>5,286.00</td>\n",
       "      <td>5906</td>\n",
       "      <td>0.90</td>\n",
       "    </tr>\n",
       "    <tr>\n",
       "      <th>6</th>\n",
       "      <td>2020-07</td>\n",
       "      <td>209,833.14</td>\n",
       "      <td>73,081.06</td>\n",
       "      <td>136,752.08</td>\n",
       "      <td>0.65</td>\n",
       "      <td>4,576.00</td>\n",
       "      <td>6195</td>\n",
       "      <td>0.74</td>\n",
       "    </tr>\n",
       "    <tr>\n",
       "      <th>7</th>\n",
       "      <td>2020-08</td>\n",
       "      <td>184,908.18</td>\n",
       "      <td>97,059.36</td>\n",
       "      <td>87,848.82</td>\n",
       "      <td>0.48</td>\n",
       "      <td>5,160.00</td>\n",
       "      <td>5161</td>\n",
       "      <td>1.00</td>\n",
       "    </tr>\n",
       "    <tr>\n",
       "      <th>8</th>\n",
       "      <td>2020-09</td>\n",
       "      <td>139,216.47</td>\n",
       "      <td>74,890.96</td>\n",
       "      <td>64,325.51</td>\n",
       "      <td>0.46</td>\n",
       "      <td>3,786.00</td>\n",
       "      <td>3814</td>\n",
       "      <td>0.99</td>\n",
       "    </tr>\n",
       "    <tr>\n",
       "      <th>9</th>\n",
       "      <td>2020-10</td>\n",
       "      <td>94,740.27</td>\n",
       "      <td>35,134.03</td>\n",
       "      <td>59,606.24</td>\n",
       "      <td>0.63</td>\n",
       "      <td>1,675.00</td>\n",
       "      <td>2411</td>\n",
       "      <td>0.69</td>\n",
       "    </tr>\n",
       "    <tr>\n",
       "      <th>10</th>\n",
       "      <td>2020-11</td>\n",
       "      <td>71,144.37</td>\n",
       "      <td>17,774.64</td>\n",
       "      <td>53,369.73</td>\n",
       "      <td>0.75</td>\n",
       "      <td>938.00</td>\n",
       "      <td>1996</td>\n",
       "      <td>0.47</td>\n",
       "    </tr>\n",
       "    <tr>\n",
       "      <th>11</th>\n",
       "      <td>2020-12</td>\n",
       "      <td>67,424.75</td>\n",
       "      <td>17,980.99</td>\n",
       "      <td>49,443.76</td>\n",
       "      <td>0.73</td>\n",
       "      <td>971.00</td>\n",
       "      <td>1909</td>\n",
       "      <td>0.51</td>\n",
       "    </tr>\n",
       "    <tr>\n",
       "      <th>12</th>\n",
       "      <td>2021-01</td>\n",
       "      <td>69,662.38</td>\n",
       "      <td>13,299.23</td>\n",
       "      <td>56,363.15</td>\n",
       "      <td>0.81</td>\n",
       "      <td>923.00</td>\n",
       "      <td>2156</td>\n",
       "      <td>0.43</td>\n",
       "    </tr>\n",
       "    <tr>\n",
       "      <th>13</th>\n",
       "      <td>2021-02</td>\n",
       "      <td>77,516.93</td>\n",
       "      <td>18,337.70</td>\n",
       "      <td>59,179.23</td>\n",
       "      <td>0.76</td>\n",
       "      <td>1,079.00</td>\n",
       "      <td>2234</td>\n",
       "      <td>0.48</td>\n",
       "    </tr>\n",
       "    <tr>\n",
       "      <th>14</th>\n",
       "      <td>2021-03</td>\n",
       "      <td>98,861.85</td>\n",
       "      <td>24,772.39</td>\n",
       "      <td>74,089.46</td>\n",
       "      <td>0.75</td>\n",
       "      <td>1,324.00</td>\n",
       "      <td>2887</td>\n",
       "      <td>0.46</td>\n",
       "    </tr>\n",
       "    <tr>\n",
       "      <th>15</th>\n",
       "      <td>2021-04</td>\n",
       "      <td>57,883.24</td>\n",
       "      <td>15,887.09</td>\n",
       "      <td>41,996.15</td>\n",
       "      <td>0.73</td>\n",
       "      <td>1,197.00</td>\n",
       "      <td>2106</td>\n",
       "      <td>0.57</td>\n",
       "    </tr>\n",
       "    <tr>\n",
       "      <th>16</th>\n",
       "      <td>2021-05</td>\n",
       "      <td>68,495.37</td>\n",
       "      <td>15,991.63</td>\n",
       "      <td>52,503.74</td>\n",
       "      <td>0.77</td>\n",
       "      <td>1,327.00</td>\n",
       "      <td>2517</td>\n",
       "      <td>0.53</td>\n",
       "    </tr>\n",
       "    <tr>\n",
       "      <th>17</th>\n",
       "      <td>2021-06</td>\n",
       "      <td>81,447.73</td>\n",
       "      <td>20,628.16</td>\n",
       "      <td>60,819.57</td>\n",
       "      <td>0.75</td>\n",
       "      <td>1,521.00</td>\n",
       "      <td>3139</td>\n",
       "      <td>0.48</td>\n",
       "    </tr>\n",
       "    <tr>\n",
       "      <th>18</th>\n",
       "      <td>2021-07</td>\n",
       "      <td>81,950.65</td>\n",
       "      <td>21,836.97</td>\n",
       "      <td>60,113.68</td>\n",
       "      <td>0.73</td>\n",
       "      <td>1,619.00</td>\n",
       "      <td>3553</td>\n",
       "      <td>0.46</td>\n",
       "    </tr>\n",
       "    <tr>\n",
       "      <th>19</th>\n",
       "      <td>2021-08</td>\n",
       "      <td>97,373.52</td>\n",
       "      <td>33,602.48</td>\n",
       "      <td>63,771.04</td>\n",
       "      <td>0.65</td>\n",
       "      <td>2,183.00</td>\n",
       "      <td>4309</td>\n",
       "      <td>0.51</td>\n",
       "    </tr>\n",
       "    <tr>\n",
       "      <th>20</th>\n",
       "      <td>2021-09</td>\n",
       "      <td>85,451.56</td>\n",
       "      <td>23,321.86</td>\n",
       "      <td>62,129.70</td>\n",
       "      <td>0.73</td>\n",
       "      <td>1,676.00</td>\n",
       "      <td>3810</td>\n",
       "      <td>0.44</td>\n",
       "    </tr>\n",
       "    <tr>\n",
       "      <th>21</th>\n",
       "      <td>2021-10</td>\n",
       "      <td>78,953.11</td>\n",
       "      <td>16,557.21</td>\n",
       "      <td>62,395.90</td>\n",
       "      <td>0.79</td>\n",
       "      <td>1,214.00</td>\n",
       "      <td>3702</td>\n",
       "      <td>0.33</td>\n",
       "    </tr>\n",
       "    <tr>\n",
       "      <th>22</th>\n",
       "      <td>2021-11</td>\n",
       "      <td>83,223.08</td>\n",
       "      <td>17,454.06</td>\n",
       "      <td>65,769.02</td>\n",
       "      <td>0.79</td>\n",
       "      <td>1,649.00</td>\n",
       "      <td>4185</td>\n",
       "      <td>0.39</td>\n",
       "    </tr>\n",
       "    <tr>\n",
       "      <th>23</th>\n",
       "      <td>2021-12</td>\n",
       "      <td>83,045.24</td>\n",
       "      <td>15,024.92</td>\n",
       "      <td>68,020.32</td>\n",
       "      <td>0.82</td>\n",
       "      <td>1,504.00</td>\n",
       "      <td>4162</td>\n",
       "      <td>0.36</td>\n",
       "    </tr>\n",
       "    <tr>\n",
       "      <th>24</th>\n",
       "      <td>2022-01</td>\n",
       "      <td>7,893.23</td>\n",
       "      <td>1,330.17</td>\n",
       "      <td>6,563.06</td>\n",
       "      <td>0.83</td>\n",
       "      <td>127.00</td>\n",
       "      <td>401</td>\n",
       "      <td>0.32</td>\n",
       "    </tr>\n",
       "  </tbody>\n",
       "</table>\n",
       "</div>"
      ],
      "text/plain": [
       "   year_month    revenue       cogs   margin_$  margin_%  \\\n",
       "0     2020-01  27,652.06   2,856.00  24,796.06      0.90   \n",
       "1     2020-02 139,241.20  34,716.67 104,524.53      0.75   \n",
       "2     2020-03 182,948.84 177,831.00   5,117.84      0.03   \n",
       "3     2020-04 170,204.18  61,550.89 108,653.29      0.64   \n",
       "4     2020-05 193,976.07  74,715.97 119,260.10      0.61   \n",
       "5     2020-06 209,691.07  95,929.30 113,761.77      0.54   \n",
       "6     2020-07 209,833.14  73,081.06 136,752.08      0.65   \n",
       "7     2020-08 184,908.18  97,059.36  87,848.82      0.48   \n",
       "8     2020-09 139,216.47  74,890.96  64,325.51      0.46   \n",
       "9     2020-10  94,740.27  35,134.03  59,606.24      0.63   \n",
       "10    2020-11  71,144.37  17,774.64  53,369.73      0.75   \n",
       "11    2020-12  67,424.75  17,980.99  49,443.76      0.73   \n",
       "12    2021-01  69,662.38  13,299.23  56,363.15      0.81   \n",
       "13    2021-02  77,516.93  18,337.70  59,179.23      0.76   \n",
       "14    2021-03  98,861.85  24,772.39  74,089.46      0.75   \n",
       "15    2021-04  57,883.24  15,887.09  41,996.15      0.73   \n",
       "16    2021-05  68,495.37  15,991.63  52,503.74      0.77   \n",
       "17    2021-06  81,447.73  20,628.16  60,819.57      0.75   \n",
       "18    2021-07  81,950.65  21,836.97  60,113.68      0.73   \n",
       "19    2021-08  97,373.52  33,602.48  63,771.04      0.65   \n",
       "20    2021-09  85,451.56  23,321.86  62,129.70      0.73   \n",
       "21    2021-10  78,953.11  16,557.21  62,395.90      0.79   \n",
       "22    2021-11  83,223.08  17,454.06  65,769.02      0.79   \n",
       "23    2021-12  83,045.24  15,024.92  68,020.32      0.82   \n",
       "24    2022-01   7,893.23   1,330.17   6,563.06      0.83   \n",
       "\n",
       "    total_count_incoming  total_count  coverage  \n",
       "0                  77.00          581      0.13  \n",
       "1               1,948.00         3607      0.54  \n",
       "2               3,275.00         5260      0.62  \n",
       "3               3,828.00         5389      0.71  \n",
       "4               3,950.00         5316      0.74  \n",
       "5               5,286.00         5906      0.90  \n",
       "6               4,576.00         6195      0.74  \n",
       "7               5,160.00         5161      1.00  \n",
       "8               3,786.00         3814      0.99  \n",
       "9               1,675.00         2411      0.69  \n",
       "10                938.00         1996      0.47  \n",
       "11                971.00         1909      0.51  \n",
       "12                923.00         2156      0.43  \n",
       "13              1,079.00         2234      0.48  \n",
       "14              1,324.00         2887      0.46  \n",
       "15              1,197.00         2106      0.57  \n",
       "16              1,327.00         2517      0.53  \n",
       "17              1,521.00         3139      0.48  \n",
       "18              1,619.00         3553      0.46  \n",
       "19              2,183.00         4309      0.51  \n",
       "20              1,676.00         3810      0.44  \n",
       "21              1,214.00         3702      0.33  \n",
       "22              1,649.00         4185      0.39  \n",
       "23              1,504.00         4162      0.36  \n",
       "24                127.00          401      0.32  "
      ]
     },
     "execution_count": 97,
     "metadata": {},
     "output_type": "execute_result"
    }
   ],
   "source": [
    "df_summary_simp"
   ]
  },
  {
   "cell_type": "code",
   "execution_count": 56,
   "id": "561a7939",
   "metadata": {},
   "outputs": [],
   "source": [
    "df_summary_simp.to_excel('./' + license_number + '_analysis.xlsx')"
   ]
  },
  {
   "cell_type": "code",
   "execution_count": 57,
   "id": "5f375a08",
   "metadata": {},
   "outputs": [],
   "source": [
    "df_summary_simp.to_excel('./verts_analysis.xlsx')"
   ]
  },
  {
   "cell_type": "markdown",
   "id": "6290682d",
   "metadata": {},
   "source": [
    "## Inventory"
   ]
  },
  {
   "cell_type": "code",
   "execution_count": 58,
   "id": "e8b30981",
   "metadata": {},
   "outputs": [
    {
     "name": "stderr",
     "output_type": "stream",
     "text": [
      "C:\\Users\\Rachel\\GitHub\\venvs\\bespoke\\lib\\site-packages\\ipykernel_launcher.py:7: SettingWithCopyWarning: \n",
      "A value is trying to be set on a copy of a slice from a DataFrame.\n",
      "Try using .loc[row_indexer,col_indexer] = value instead\n",
      "\n",
      "See the caveats in the documentation: https://pandas.pydata.org/pandas-docs/stable/user_guide/indexing.html#returning-a-view-versus-a-copy\n",
      "  import sys\n"
     ]
    }
   ],
   "source": [
    "df_inventory_incoming = pd.merge(df_inventory, df_avg_incoming_price, on='package_id', how='left')\n",
    "df_inventory_incoming.replace([np.inf], np.nan, inplace=True)\n",
    "df_inv_null = df_inventory_incoming[df_inventory_incoming['per_unit_incoming'].isnull()]\n",
    "df_inv_product = pd.merge(df_inv_null, df_avg_product, on='product_name', how='left')\n",
    "df_inv_product.replace([np.inf], np.nan, inplace=True)\n",
    "df_inv_product_price = df_inv_product[df_inv_product['per_unit_product'].notnull()]\n",
    "df_inv_product_price['total_price'] = df_inv_product_price['quantity'] * df_inv_product_price['per_unit_product']"
   ]
  },
  {
   "cell_type": "code",
   "execution_count": 59,
   "id": "7b702974",
   "metadata": {},
   "outputs": [],
   "source": [
    "inventory_product_value = df_inv_product_price['total_price'].sum()"
   ]
  },
  {
   "cell_type": "code",
   "execution_count": 60,
   "id": "1ecf1286",
   "metadata": {},
   "outputs": [],
   "source": [
    "df_inventory_incoming['total_price'] = df_inventory_incoming['quantity'] * df_inventory_incoming['per_unit_incoming']\n",
    "inventory_value = df_inventory_incoming['total_price'].sum()"
   ]
  },
  {
   "cell_type": "code",
   "execution_count": 61,
   "id": "80b0fed2",
   "metadata": {},
   "outputs": [],
   "source": [
    "# inventory_product_value"
   ]
  },
  {
   "cell_type": "code",
   "execution_count": 62,
   "id": "bc070e9b",
   "metadata": {},
   "outputs": [],
   "source": [
    "total_inv_value = inventory_product_value + inventory_value\n"
   ]
  },
  {
   "cell_type": "code",
   "execution_count": 63,
   "id": "206d0ec7",
   "metadata": {},
   "outputs": [
    {
     "name": "stdout",
     "output_type": "stream",
     "text": [
      "36,930.99\n"
     ]
    }
   ],
   "source": [
    "print(f'{total_inv_value:,.2f}')"
   ]
  },
  {
   "cell_type": "code",
   "execution_count": 64,
   "id": "e18eaedb",
   "metadata": {},
   "outputs": [],
   "source": [
    "inv_count_product = df_inv_product_price['per_unit_product'].count()\n",
    "inv_count_incoming = df_inventory_incoming['per_unit_incoming'].count()\n",
    "inv_count_total = df_inventory_incoming['quantity'].count()\n",
    "inv_total_incoming = inv_count_product + inv_count_incoming"
   ]
  },
  {
   "cell_type": "code",
   "execution_count": 65,
   "id": "30685a45",
   "metadata": {},
   "outputs": [
    {
     "data": {
      "text/plain": [
       "223"
      ]
     },
     "execution_count": 65,
     "metadata": {},
     "output_type": "execute_result"
    }
   ],
   "source": [
    "inv_count_total"
   ]
  },
  {
   "cell_type": "code",
   "execution_count": 66,
   "id": "a08ee6e2",
   "metadata": {},
   "outputs": [],
   "source": [
    "# inv_count_total"
   ]
  },
  {
   "cell_type": "code",
   "execution_count": 67,
   "id": "bbb7a887",
   "metadata": {},
   "outputs": [
    {
     "name": "stdout",
     "output_type": "stream",
     "text": [
      "93%\n"
     ]
    }
   ],
   "source": [
    "inventory_coverage = inv_total_incoming / inv_count_total\n",
    "print(f'{inventory_coverage:,.0%}')"
   ]
  },
  {
   "cell_type": "code",
   "execution_count": 68,
   "id": "eb9c836f",
   "metadata": {},
   "outputs": [],
   "source": [
    "data = [['Date', today], \n",
    "        ['Value', total_inv_value], \n",
    "        ['Total Incoming', inv_total_incoming], \n",
    "        ['Total', inv_count_total], \n",
    "        ['Coverage', inventory_coverage],\n",
    "        ['License', license_number],\n",
    "        ['Legal Name', legal_name]]"
   ]
  },
  {
   "cell_type": "code",
   "execution_count": 69,
   "id": "882d5be1",
   "metadata": {},
   "outputs": [],
   "source": [
    "df_inventory_license = pd.DataFrame(data, columns = ['0', '1'])"
   ]
  },
  {
   "cell_type": "code",
   "execution_count": 70,
   "id": "6ffee562",
   "metadata": {},
   "outputs": [
    {
     "data": {
      "text/html": [
       "<div>\n",
       "<style scoped>\n",
       "    .dataframe tbody tr th:only-of-type {\n",
       "        vertical-align: middle;\n",
       "    }\n",
       "\n",
       "    .dataframe tbody tr th {\n",
       "        vertical-align: top;\n",
       "    }\n",
       "\n",
       "    .dataframe thead th {\n",
       "        text-align: right;\n",
       "    }\n",
       "</style>\n",
       "<table border=\"1\" class=\"dataframe\">\n",
       "  <thead>\n",
       "    <tr style=\"text-align: right;\">\n",
       "      <th></th>\n",
       "      <th>0</th>\n",
       "      <th>1</th>\n",
       "    </tr>\n",
       "  </thead>\n",
       "  <tbody>\n",
       "    <tr>\n",
       "      <th>0</th>\n",
       "      <td>Date</td>\n",
       "      <td>2022-01-04</td>\n",
       "    </tr>\n",
       "    <tr>\n",
       "      <th>1</th>\n",
       "      <td>Value</td>\n",
       "      <td>36,930.99</td>\n",
       "    </tr>\n",
       "    <tr>\n",
       "      <th>2</th>\n",
       "      <td>Total Incoming</td>\n",
       "      <td>208</td>\n",
       "    </tr>\n",
       "    <tr>\n",
       "      <th>3</th>\n",
       "      <td>Total</td>\n",
       "      <td>223</td>\n",
       "    </tr>\n",
       "    <tr>\n",
       "      <th>4</th>\n",
       "      <td>Coverage</td>\n",
       "      <td>0.93</td>\n",
       "    </tr>\n",
       "    <tr>\n",
       "      <th>5</th>\n",
       "      <td>License</td>\n",
       "      <td>402R-00804</td>\n",
       "    </tr>\n",
       "    <tr>\n",
       "      <th>6</th>\n",
       "      <td>Legal Name</td>\n",
       "      <td>BUFFALO BIOTECH LLC</td>\n",
       "    </tr>\n",
       "  </tbody>\n",
       "</table>\n",
       "</div>"
      ],
      "text/plain": [
       "                0                    1\n",
       "0            Date           2022-01-04\n",
       "1           Value            36,930.99\n",
       "2  Total Incoming                  208\n",
       "3           Total                  223\n",
       "4        Coverage                 0.93\n",
       "5         License           402R-00804\n",
       "6      Legal Name  BUFFALO BIOTECH LLC"
      ]
     },
     "execution_count": 70,
     "metadata": {},
     "output_type": "execute_result"
    }
   ],
   "source": [
    "df_inventory_license"
   ]
  },
  {
   "cell_type": "code",
   "execution_count": 71,
   "id": "f674b170",
   "metadata": {},
   "outputs": [],
   "source": [
    "df_inventory_license.to_excel('./' + license_number + '_inventory_name.xlsx')"
   ]
  },
  {
   "cell_type": "code",
   "execution_count": null,
   "id": "d990d742",
   "metadata": {},
   "outputs": [],
   "source": []
  },
  {
   "cell_type": "markdown",
   "id": "cf007bf4",
   "metadata": {},
   "source": [
    "# Notes"
   ]
  },
  {
   "cell_type": "code",
   "execution_count": null,
   "id": "a0e5bdf2",
   "metadata": {},
   "outputs": [],
   "source": [
    "# df_cogs[df_cogs['per_unit_incoming'].isnull() & df_cogs['per_unit_product'].notnull()]\n",
    "# df_sales = df_sales[df_sales['license_number'] == 'C10-0000824-LIC']\n",
    "# df_inventory = df_inventory[df_inventory['license_number'] == 'C10-0000824-LIC']\n",
    "# df_sales['tx_total_price'].count()"
   ]
  },
  {
   "cell_type": "code",
   "execution_count": null,
   "id": "106a034d-fb76-4e8e-bce6-4e3b525b175e",
   "metadata": {},
   "outputs": [],
   "source": [
    "# %autoreload 2\n",
    "\n",
    "# sys.path.append(path.realpath(path.join(os.getcwd(), \"../../scripts/analysis\")))\n",
    "# sys.path.append(path.realpath(path.join(os.getcwd(), \"../../src\")))\n",
    "\n",
    "# from util import active_inventory_util as util"
   ]
  },
  {
   "cell_type": "code",
   "execution_count": null,
   "id": "c2af6220-2ebc-4447-a17e-0e3d9f3a7bbd",
   "metadata": {},
   "outputs": [],
   "source": [
    "# d = util.Download()\n",
    "# d.download_dataframes(\n",
    "#     incoming_transfer_packages_dataframe=company_incoming_transfer_packages_dataframe,\n",
    "#     outgoing_transfer_packages_dataframe=company_outgoing_transfer_packages_dataframe,\n",
    "#     sales_transactions_dataframe=company_sales_transactions_dataframe,\n",
    "# )"
   ]
  },
  {
   "cell_type": "code",
   "execution_count": null,
   "id": "5fbbbfe7-87c0-4409-9e6a-b6dc2b63ce54",
   "metadata": {
    "tags": []
   },
   "outputs": [],
   "source": [
    "# q = util.Query()\n",
    "# q.inventory_dates = INVENTORY_DATES\n",
    "# q.company_name = COMPANY_NAME\n",
    "\n",
    "# id_to_history = util.get_histories(d)\n",
    "# util.print_counts(id_to_history)\n",
    "# util.create_inventory_xlsx(id_to_history, q)"
   ]
  },
  {
   "cell_type": "code",
   "execution_count": null,
   "id": "4de368e2-44ab-4885-86d2-54b989f091f2",
   "metadata": {
    "tags": []
   },
   "outputs": [],
   "source": [
    "# computed_inventory_package_records = util.create_inventory_dataframe_by_date(id_to_history, INVENTORY_DATE)\n",
    "# computed_inventory_packages_dataframe = pandas.DataFrame(\n",
    "#     computed_inventory_package_records,\n",
    "#     columns=[\n",
    "#         'package_id',\n",
    "#         'Arrived Date',\n",
    "#         'Product Category',\n",
    "#         'Product Name',\n",
    "#         'Current Quantity',\n",
    "#         'Sold Date',\n",
    "#     ]\n",
    "# )\n",
    "# computed_inventory_packages_dataframe"
   ]
  },
  {
   "cell_type": "code",
   "execution_count": null,
   "id": "8cf09fb6-7890-4a77-9c5a-b78873a8a420",
   "metadata": {},
   "outputs": [],
   "source": [
    "# date_to_inventory_dataframe = {}\n",
    "# for date, inventory_records in date_to_inventory_records.items():\n",
    "#     date_to_inventory_dataframe[date] = pandas.DataFrame(\n",
    "#         inventory_records,\n",
    "#         columns=[\n",
    "#             'package_id',\n",
    "#             'Arrived Date',\n",
    "#             'Product Category',\n",
    "#             'Product Name',\n",
    "#             'Current Quantity',\n",
    "#             'Sold Date',\n",
    "#         ]\n",
    "#     )\n",
    "    \n",
    "# date_to_inventory_dataframe[list(date_to_inventory_dataframe.keys())[0]]"
   ]
  },
  {
   "cell_type": "code",
   "execution_count": null,
   "id": "c17de11e-05e9-4c94-997d-cdc0d69912b7",
   "metadata": {},
   "outputs": [],
   "source": [
    "# raw_incoming_transfer_packages_dataframe = pandas.read_excel('data/20210930/royal_apothecary_incoming_transfer_packages_20200101_20210930.xlsx', header=0)\n",
    "# len(raw_incoming_transfer_packages_dataframe.index), raw_incoming_transfer_packages_dataframe.columns"
   ]
  },
  {
   "cell_type": "code",
   "execution_count": null,
   "id": "5e7c281b-9ccb-4162-abd0-fe89b36592c0",
   "metadata": {},
   "outputs": [],
   "source": [
    "# for date, inventory_dataframe in date_to_inventory_dataframe.items():\n",
    "#     print(date)\n",
    "#     print(f'# of packages in inventory: {len(inventory_dataframe.index)}')\n",
    "\n",
    "#     inventory_with_incoming_transfer_packages_dataframe = inventory_dataframe.astype({'package_id': 'int64'}).merge(incoming_transfer_packages_dataframe, on='package_id', how='inner', suffixes=('_l', '_r'))\n",
    "# #     print(f'# of packages in inventory with incoming package: {len(inventory_with_incoming_transfer_packages_dataframe.index)}')\n",
    "    \n",
    "#     inventory_with_cost_records = inventory_with_incoming_transfer_packages_dataframe.to_dict('record')\n",
    "\n",
    "#     total_valuation_cost = 0\n",
    "#     import math\n",
    "#     for inventory_with_cost_record in inventory_with_cost_records:\n",
    "#         incoming_shipped_price = inventory_with_cost_record['shipper_wholesale_price']\n",
    "#         if math.isnan(incoming_shipped_price):\n",
    "#             incoming_shipped_price = 0\n",
    "#         incoming_shipped_quantity = inventory_with_cost_record['shipped_quantity']\n",
    "#         current_quantity = inventory_with_cost_record['Current Quantity']\n",
    "#         total_valuation_cost += float(current_quantity) * (incoming_shipped_price / incoming_shipped_quantity)\n",
    "\n",
    "#     print(f'Inventory valuation (based on COST): ${total_valuation_cost}')\n",
    "#     print('')"
   ]
  }
 ],
 "metadata": {
  "kernelspec": {
   "display_name": "Python 3 (ipykernel)",
   "language": "python",
   "name": "python3"
  },
  "language_info": {
   "codemirror_mode": {
    "name": "ipython",
    "version": 3
   },
   "file_extension": ".py",
   "mimetype": "text/x-python",
   "name": "python",
   "nbconvert_exporter": "python",
   "pygments_lexer": "ipython3",
   "version": "3.7.7"
  }
 },
 "nbformat": 4,
 "nbformat_minor": 5
}
