{
 "cells": [
  {
   "cell_type": "code",
   "execution_count": null,
   "id": "601d396f",
   "metadata": {},
   "outputs": [],
   "source": [
    "# Steps to install\n",
    "# 1. pip install sqlalchemy-bigquery google-cloud-bigquery-storage pyarrow\n",
    "# 2. Copy the credentials file to wherever you set BIGQUERY_CREDENTIALS_PATH to"
   ]
  },
  {
   "cell_type": "code",
   "execution_count": 11,
   "id": "170c442e-f0fb-4421-a3bf-5f87863f8277",
   "metadata": {},
   "outputs": [],
   "source": [
    "import json\n",
    "import os\n",
    "import pandas as pd\n",
    "import pyarrow\n",
    "\n",
    "import sys\n",
    "from os import path\n",
    "import numpy\n",
    "\n",
    "from dotenv import load_dotenv\n",
    "from sqlalchemy import create_engine\n",
    "\n",
    "\n",
    "load_dotenv(verbose=True)\n",
    "BIGQUERY_CREDENTIALS_PATH = os.environ.get('BIGQUERY_CREDENTIALS_PATH')"
   ]
  },
  {
   "cell_type": "code",
   "execution_count": 12,
   "id": "38f9a288-03bc-43c5-82f8-a7c5a55f7286",
   "metadata": {},
   "outputs": [
    {
     "name": "stdout",
     "output_type": "stream",
     "text": [
      "The autoreload extension is already loaded. To reload it, use:\n",
      "  %reload_ext autoreload\n"
     ]
    }
   ],
   "source": [
    "sys.path.append(path.realpath(path.join(os.getcwd(), \"../core\")))\n",
    "import create_queries\n",
    "%load_ext autoreload\n",
    "%autoreload 2"
   ]
  },
  {
   "cell_type": "code",
   "execution_count": 13,
   "id": "55535e4b",
   "metadata": {},
   "outputs": [],
   "source": [
    "import prepare_data"
   ]
  },
  {
   "cell_type": "code",
   "execution_count": 14,
   "id": "fbfe06bc-cc79-41cc-814e-1d2166177496",
   "metadata": {},
   "outputs": [],
   "source": [
    "COMPANY_NAME = 'DP'\n",
    "COMPANY_IDENTIFIER = 'DP'\n",
    "TRANSFER_PACKAGES_START_DATE = '2020-01-01'\n",
    "SALES_TRANSACTIONS_START_DATE = '2020-01-01'\n",
    "\n",
    "INVENTORY_DATE = '10/28/2021'"
   ]
  },
  {
   "cell_type": "code",
   "execution_count": 15,
   "id": "d9eccd84-a327-4299-8876-456c6c9f574c",
   "metadata": {},
   "outputs": [],
   "source": [
    "company_incoming_transfer_packages_query = create_queries.create_company_incoming_transfer_packages_query(COMPANY_IDENTIFIER, TRANSFER_PACKAGES_START_DATE)\n",
    "company_outgoing_transfer_packages_query = create_queries.create_company_outgoing_transfer_packages_query(COMPANY_IDENTIFIER, TRANSFER_PACKAGES_START_DATE)\n",
    "company_sales_transactions_query = create_queries.create_company_sales_transactions_query(COMPANY_IDENTIFIER, SALES_TRANSACTIONS_START_DATE)\n",
    "company_inventory_packages_query = create_queries.create_company_inventory_packages_query(COMPANY_IDENTIFIER)\n",
    "\n",
    "engine = create_engine('bigquery://bespoke-financial/ProdMetrcData', credentials_path=os.path.expanduser(BIGQUERY_CREDENTIALS_PATH))\n",
    "company_incoming_transfer_packages_dataframe = pd.read_sql_query(company_incoming_transfer_packages_query, engine)\n",
    "company_outgoing_transfer_packages_dataframe = pd.read_sql_query(company_outgoing_transfer_packages_query, engine)\n",
    "company_sales_transactions_dataframe = pd.read_sql_query(company_sales_transactions_query, engine)\n",
    "company_inventory_packages_dataframe = pd.read_sql_query(company_inventory_packages_query, engine)"
   ]
  },
  {
   "cell_type": "code",
   "execution_count": 6,
   "id": "62be4499",
   "metadata": {},
   "outputs": [],
   "source": [
    "deduped_sales_receipts_dataframe = prepare_data.dedupe_sales_transactions(company_sales_transactions_dataframe)"
   ]
  },
  {
   "cell_type": "code",
   "execution_count": 16,
   "id": "7a7cc54e",
   "metadata": {},
   "outputs": [],
   "source": [
    "df_in = company_incoming_transfer_packages_dataframe\n",
    "df_out = company_outgoing_transfer_packages_dataframe\n",
    "df_inventory = company_inventory_packages_dataframe"
   ]
  },
  {
   "cell_type": "code",
   "execution_count": 7,
   "id": "d9c61f28",
   "metadata": {},
   "outputs": [],
   "source": [
    "\n",
    "df_sales = deduped_sales_receipts_dataframe\n"
   ]
  },
  {
   "cell_type": "code",
   "execution_count": 17,
   "id": "c9d633ed",
   "metadata": {},
   "outputs": [],
   "source": [
    "pd.options.display.float_format = '{:,.2f}'.format"
   ]
  },
  {
   "cell_type": "markdown",
   "id": "dabac9b0",
   "metadata": {},
   "source": [
    "## Sales"
   ]
  },
  {
   "cell_type": "code",
   "execution_count": 9,
   "id": "fa3934c6",
   "metadata": {},
   "outputs": [
    {
     "name": "stdout",
     "output_type": "stream",
     "text": [
      "<class 'pandas.core.frame.DataFrame'>\n",
      "Index: 0 entries\n",
      "Data columns (total 17 columns):\n",
      " #   Column                    Non-Null Count  Dtype \n",
      "---  ------                    --------------  ----- \n",
      " 0   id                        0 non-null      object\n",
      " 1   license_number            0 non-null      object\n",
      " 2   receipt_number            0 non-null      object\n",
      " 3   rt_type                   0 non-null      object\n",
      " 4   sales_customer_type       0 non-null      object\n",
      " 5   sales_datetime            0 non-null      object\n",
      " 6   total_packages            0 non-null      object\n",
      " 7   rt_total_price            0 non-null      object\n",
      " 8   tx_type                   0 non-null      object\n",
      " 9   tx_package_id             0 non-null      object\n",
      " 10  tx_package_label          0 non-null      object\n",
      " 11  tx_product_name           0 non-null      object\n",
      " 12  tx_product_category_name  0 non-null      object\n",
      " 13  tx_unit_of_measure        0 non-null      object\n",
      " 14  tx_quantity_sold          0 non-null      object\n",
      " 15  tx_total_price            0 non-null      object\n",
      " 16  tx_is_deleted             0 non-null      object\n",
      "dtypes: object(17)\n",
      "memory usage: 0.0+ bytes\n"
     ]
    }
   ],
   "source": [
    "df_sales.info()"
   ]
  },
  {
   "cell_type": "code",
   "execution_count": 143,
   "id": "0e718672",
   "metadata": {},
   "outputs": [],
   "source": [
    "# df_sales.to_csv('./MW_sales.csv')"
   ]
  },
  {
   "cell_type": "code",
   "execution_count": 10,
   "id": "13619ec3",
   "metadata": {},
   "outputs": [],
   "source": [
    "df_sales['per_unit'] = df_sales['tx_total_price'] / df_sales['tx_quantity_sold']\n",
    "df_sales['year_month'] = df_sales['sales_datetime'].dt.strftime(\"%Y-%m\")"
   ]
  },
  {
   "cell_type": "code",
   "execution_count": 11,
   "id": "b59d6d85",
   "metadata": {},
   "outputs": [
    {
     "data": {
      "text/html": [
       "<div>\n",
       "<style scoped>\n",
       "    .dataframe tbody tr th:only-of-type {\n",
       "        vertical-align: middle;\n",
       "    }\n",
       "\n",
       "    .dataframe tbody tr th {\n",
       "        vertical-align: top;\n",
       "    }\n",
       "\n",
       "    .dataframe thead th {\n",
       "        text-align: right;\n",
       "    }\n",
       "</style>\n",
       "<table border=\"1\" class=\"dataframe\">\n",
       "  <thead>\n",
       "    <tr style=\"text-align: right;\">\n",
       "      <th></th>\n",
       "      <th>total_packages</th>\n",
       "      <th>rt_total_price</th>\n",
       "      <th>tx_quantity_sold</th>\n",
       "      <th>tx_total_price</th>\n",
       "      <th>per_unit</th>\n",
       "    </tr>\n",
       "    <tr>\n",
       "      <th>year_month</th>\n",
       "      <th></th>\n",
       "      <th></th>\n",
       "      <th></th>\n",
       "      <th></th>\n",
       "      <th></th>\n",
       "    </tr>\n",
       "  </thead>\n",
       "  <tbody>\n",
       "    <tr>\n",
       "      <th>2020-01</th>\n",
       "      <td>226125</td>\n",
       "      <td>5,514,642.60</td>\n",
       "      <td>176,257.82</td>\n",
       "      <td>2,244,143.75</td>\n",
       "      <td>1,476,546.14</td>\n",
       "    </tr>\n",
       "    <tr>\n",
       "      <th>2020-02</th>\n",
       "      <td>257748</td>\n",
       "      <td>5,765,387.15</td>\n",
       "      <td>173,109.34</td>\n",
       "      <td>2,299,761.12</td>\n",
       "      <td>1,538,756.27</td>\n",
       "    </tr>\n",
       "    <tr>\n",
       "      <th>2020-03</th>\n",
       "      <td>272156</td>\n",
       "      <td>6,831,152.88</td>\n",
       "      <td>184,994.58</td>\n",
       "      <td>2,589,911.90</td>\n",
       "      <td>1,786,150.29</td>\n",
       "    </tr>\n",
       "    <tr>\n",
       "      <th>2020-04</th>\n",
       "      <td>255702</td>\n",
       "      <td>6,865,193.66</td>\n",
       "      <td>151,115.06</td>\n",
       "      <td>2,432,639.72</td>\n",
       "      <td>1,871,813.53</td>\n",
       "    </tr>\n",
       "    <tr>\n",
       "      <th>2020-05</th>\n",
       "      <td>274049</td>\n",
       "      <td>7,848,426.37</td>\n",
       "      <td>179,104.35</td>\n",
       "      <td>2,874,144.58</td>\n",
       "      <td>2,252,517.84</td>\n",
       "    </tr>\n",
       "    <tr>\n",
       "      <th>2020-06</th>\n",
       "      <td>285761</td>\n",
       "      <td>7,889,127.54</td>\n",
       "      <td>157,793.25</td>\n",
       "      <td>2,865,584.60</td>\n",
       "      <td>2,297,075.57</td>\n",
       "    </tr>\n",
       "    <tr>\n",
       "      <th>2020-07</th>\n",
       "      <td>348676</td>\n",
       "      <td>8,846,268.60</td>\n",
       "      <td>160,140.00</td>\n",
       "      <td>3,108,843.55</td>\n",
       "      <td>2,612,570.00</td>\n",
       "    </tr>\n",
       "    <tr>\n",
       "      <th>2020-08</th>\n",
       "      <td>389810</td>\n",
       "      <td>8,765,135.40</td>\n",
       "      <td>161,643.75</td>\n",
       "      <td>3,018,253.05</td>\n",
       "      <td>2,553,867.57</td>\n",
       "    </tr>\n",
       "    <tr>\n",
       "      <th>2020-09</th>\n",
       "      <td>376265</td>\n",
       "      <td>8,535,706.31</td>\n",
       "      <td>156,742.00</td>\n",
       "      <td>2,960,355.28</td>\n",
       "      <td>2,521,820.38</td>\n",
       "    </tr>\n",
       "    <tr>\n",
       "      <th>2020-10</th>\n",
       "      <td>367725</td>\n",
       "      <td>8,369,187.65</td>\n",
       "      <td>147,668.25</td>\n",
       "      <td>2,929,401.65</td>\n",
       "      <td>2,567,872.00</td>\n",
       "    </tr>\n",
       "    <tr>\n",
       "      <th>2020-11</th>\n",
       "      <td>335199</td>\n",
       "      <td>7,542,563.31</td>\n",
       "      <td>136,237.50</td>\n",
       "      <td>2,686,716.74</td>\n",
       "      <td>2,366,905.12</td>\n",
       "    </tr>\n",
       "    <tr>\n",
       "      <th>2020-12</th>\n",
       "      <td>345605</td>\n",
       "      <td>8,077,306.26</td>\n",
       "      <td>139,700.50</td>\n",
       "      <td>2,864,969.15</td>\n",
       "      <td>2,544,096.54</td>\n",
       "    </tr>\n",
       "    <tr>\n",
       "      <th>2021-01</th>\n",
       "      <td>358136</td>\n",
       "      <td>8,320,352.57</td>\n",
       "      <td>140,383.25</td>\n",
       "      <td>2,956,744.91</td>\n",
       "      <td>2,668,266.38</td>\n",
       "    </tr>\n",
       "    <tr>\n",
       "      <th>2021-02</th>\n",
       "      <td>309646</td>\n",
       "      <td>6,800,998.88</td>\n",
       "      <td>116,065.25</td>\n",
       "      <td>2,443,133.54</td>\n",
       "      <td>2,216,646.45</td>\n",
       "    </tr>\n",
       "    <tr>\n",
       "      <th>2021-03</th>\n",
       "      <td>378651</td>\n",
       "      <td>8,955,822.14</td>\n",
       "      <td>140,892.50</td>\n",
       "      <td>3,065,023.54</td>\n",
       "      <td>2,788,974.02</td>\n",
       "    </tr>\n",
       "    <tr>\n",
       "      <th>2021-04</th>\n",
       "      <td>420221</td>\n",
       "      <td>9,433,676.38</td>\n",
       "      <td>148,949.50</td>\n",
       "      <td>3,173,389.45</td>\n",
       "      <td>2,884,989.24</td>\n",
       "    </tr>\n",
       "    <tr>\n",
       "      <th>2021-05</th>\n",
       "      <td>384261</td>\n",
       "      <td>9,003,326.48</td>\n",
       "      <td>144,181.00</td>\n",
       "      <td>3,111,813.15</td>\n",
       "      <td>2,835,201.87</td>\n",
       "    </tr>\n",
       "    <tr>\n",
       "      <th>2021-06</th>\n",
       "      <td>363034</td>\n",
       "      <td>8,449,919.75</td>\n",
       "      <td>136,833.50</td>\n",
       "      <td>2,990,595.59</td>\n",
       "      <td>2,734,468.25</td>\n",
       "    </tr>\n",
       "    <tr>\n",
       "      <th>2021-07</th>\n",
       "      <td>451972</td>\n",
       "      <td>10,296,958.40</td>\n",
       "      <td>168,192.00</td>\n",
       "      <td>3,598,895.44</td>\n",
       "      <td>3,309,557.07</td>\n",
       "    </tr>\n",
       "    <tr>\n",
       "      <th>2021-08</th>\n",
       "      <td>449374</td>\n",
       "      <td>10,124,240.01</td>\n",
       "      <td>171,860.00</td>\n",
       "      <td>3,598,238.61</td>\n",
       "      <td>3,309,967.82</td>\n",
       "    </tr>\n",
       "    <tr>\n",
       "      <th>2021-09</th>\n",
       "      <td>429494</td>\n",
       "      <td>9,436,209.91</td>\n",
       "      <td>166,734.00</td>\n",
       "      <td>3,423,421.31</td>\n",
       "      <td>3,133,917.19</td>\n",
       "    </tr>\n",
       "    <tr>\n",
       "      <th>2021-10</th>\n",
       "      <td>348762</td>\n",
       "      <td>7,470,881.92</td>\n",
       "      <td>132,999.00</td>\n",
       "      <td>2,724,371.20</td>\n",
       "      <td>2,506,236.05</td>\n",
       "    </tr>\n",
       "  </tbody>\n",
       "</table>\n",
       "</div>"
      ],
      "text/plain": [
       "            total_packages  rt_total_price  tx_quantity_sold  tx_total_price  \\\n",
       "year_month                                                                     \n",
       "2020-01             226125    5,514,642.60        176,257.82    2,244,143.75   \n",
       "2020-02             257748    5,765,387.15        173,109.34    2,299,761.12   \n",
       "2020-03             272156    6,831,152.88        184,994.58    2,589,911.90   \n",
       "2020-04             255702    6,865,193.66        151,115.06    2,432,639.72   \n",
       "2020-05             274049    7,848,426.37        179,104.35    2,874,144.58   \n",
       "2020-06             285761    7,889,127.54        157,793.25    2,865,584.60   \n",
       "2020-07             348676    8,846,268.60        160,140.00    3,108,843.55   \n",
       "2020-08             389810    8,765,135.40        161,643.75    3,018,253.05   \n",
       "2020-09             376265    8,535,706.31        156,742.00    2,960,355.28   \n",
       "2020-10             367725    8,369,187.65        147,668.25    2,929,401.65   \n",
       "2020-11             335199    7,542,563.31        136,237.50    2,686,716.74   \n",
       "2020-12             345605    8,077,306.26        139,700.50    2,864,969.15   \n",
       "2021-01             358136    8,320,352.57        140,383.25    2,956,744.91   \n",
       "2021-02             309646    6,800,998.88        116,065.25    2,443,133.54   \n",
       "2021-03             378651    8,955,822.14        140,892.50    3,065,023.54   \n",
       "2021-04             420221    9,433,676.38        148,949.50    3,173,389.45   \n",
       "2021-05             384261    9,003,326.48        144,181.00    3,111,813.15   \n",
       "2021-06             363034    8,449,919.75        136,833.50    2,990,595.59   \n",
       "2021-07             451972   10,296,958.40        168,192.00    3,598,895.44   \n",
       "2021-08             449374   10,124,240.01        171,860.00    3,598,238.61   \n",
       "2021-09             429494    9,436,209.91        166,734.00    3,423,421.31   \n",
       "2021-10             348762    7,470,881.92        132,999.00    2,724,371.20   \n",
       "\n",
       "               per_unit  \n",
       "year_month               \n",
       "2020-01    1,476,546.14  \n",
       "2020-02    1,538,756.27  \n",
       "2020-03    1,786,150.29  \n",
       "2020-04    1,871,813.53  \n",
       "2020-05    2,252,517.84  \n",
       "2020-06    2,297,075.57  \n",
       "2020-07    2,612,570.00  \n",
       "2020-08    2,553,867.57  \n",
       "2020-09    2,521,820.38  \n",
       "2020-10    2,567,872.00  \n",
       "2020-11    2,366,905.12  \n",
       "2020-12    2,544,096.54  \n",
       "2021-01    2,668,266.38  \n",
       "2021-02    2,216,646.45  \n",
       "2021-03    2,788,974.02  \n",
       "2021-04    2,884,989.24  \n",
       "2021-05    2,835,201.87  \n",
       "2021-06    2,734,468.25  \n",
       "2021-07    3,309,557.07  \n",
       "2021-08    3,309,967.82  \n",
       "2021-09    3,133,917.19  \n",
       "2021-10    2,506,236.05  "
      ]
     },
     "execution_count": 11,
     "metadata": {},
     "output_type": "execute_result"
    }
   ],
   "source": [
    "df_sales.groupby('year_month').sum()"
   ]
  },
  {
   "cell_type": "code",
   "execution_count": 12,
   "id": "39902b28",
   "metadata": {},
   "outputs": [],
   "source": [
    "s_total_count = df_sales.groupby('year_month')['tx_total_price'].count()\n",
    "df_total_count = pd.Series(s_total_count).to_frame()\n",
    "df_total_count = df_total_count.reset_index()\n",
    "df_total_count.rename(columns={'tx_total_price':'total_count'}, inplace=True)"
   ]
  },
  {
   "cell_type": "code",
   "execution_count": 13,
   "id": "5fc46d2c",
   "metadata": {},
   "outputs": [],
   "source": [
    "s_revenue = df_sales.groupby('year_month')['tx_total_price'].sum()\n",
    "df_revenue = pd.Series(s_revenue).to_frame()\n",
    "df_revenue = df_revenue.reset_index()\n",
    "df_revenue.rename(columns={'tx_total_price': 'revenue'}, inplace=True)"
   ]
  },
  {
   "cell_type": "code",
   "execution_count": 14,
   "id": "2c717c26",
   "metadata": {},
   "outputs": [
    {
     "data": {
      "text/html": [
       "<div>\n",
       "<style scoped>\n",
       "    .dataframe tbody tr th:only-of-type {\n",
       "        vertical-align: middle;\n",
       "    }\n",
       "\n",
       "    .dataframe tbody tr th {\n",
       "        vertical-align: top;\n",
       "    }\n",
       "\n",
       "    .dataframe thead th {\n",
       "        text-align: right;\n",
       "    }\n",
       "</style>\n",
       "<table border=\"1\" class=\"dataframe\">\n",
       "  <thead>\n",
       "    <tr style=\"text-align: right;\">\n",
       "      <th></th>\n",
       "      <th>year_month</th>\n",
       "      <th>revenue</th>\n",
       "    </tr>\n",
       "  </thead>\n",
       "  <tbody>\n",
       "    <tr>\n",
       "      <th>0</th>\n",
       "      <td>2020-01</td>\n",
       "      <td>2,244,143.75</td>\n",
       "    </tr>\n",
       "    <tr>\n",
       "      <th>1</th>\n",
       "      <td>2020-02</td>\n",
       "      <td>2,299,761.12</td>\n",
       "    </tr>\n",
       "    <tr>\n",
       "      <th>2</th>\n",
       "      <td>2020-03</td>\n",
       "      <td>2,589,911.90</td>\n",
       "    </tr>\n",
       "    <tr>\n",
       "      <th>3</th>\n",
       "      <td>2020-04</td>\n",
       "      <td>2,432,639.72</td>\n",
       "    </tr>\n",
       "    <tr>\n",
       "      <th>4</th>\n",
       "      <td>2020-05</td>\n",
       "      <td>2,874,144.58</td>\n",
       "    </tr>\n",
       "    <tr>\n",
       "      <th>5</th>\n",
       "      <td>2020-06</td>\n",
       "      <td>2,865,584.60</td>\n",
       "    </tr>\n",
       "    <tr>\n",
       "      <th>6</th>\n",
       "      <td>2020-07</td>\n",
       "      <td>3,108,843.55</td>\n",
       "    </tr>\n",
       "    <tr>\n",
       "      <th>7</th>\n",
       "      <td>2020-08</td>\n",
       "      <td>3,018,253.05</td>\n",
       "    </tr>\n",
       "    <tr>\n",
       "      <th>8</th>\n",
       "      <td>2020-09</td>\n",
       "      <td>2,960,355.28</td>\n",
       "    </tr>\n",
       "    <tr>\n",
       "      <th>9</th>\n",
       "      <td>2020-10</td>\n",
       "      <td>2,929,401.65</td>\n",
       "    </tr>\n",
       "    <tr>\n",
       "      <th>10</th>\n",
       "      <td>2020-11</td>\n",
       "      <td>2,686,716.74</td>\n",
       "    </tr>\n",
       "    <tr>\n",
       "      <th>11</th>\n",
       "      <td>2020-12</td>\n",
       "      <td>2,864,969.15</td>\n",
       "    </tr>\n",
       "    <tr>\n",
       "      <th>12</th>\n",
       "      <td>2021-01</td>\n",
       "      <td>2,956,744.91</td>\n",
       "    </tr>\n",
       "    <tr>\n",
       "      <th>13</th>\n",
       "      <td>2021-02</td>\n",
       "      <td>2,443,133.54</td>\n",
       "    </tr>\n",
       "    <tr>\n",
       "      <th>14</th>\n",
       "      <td>2021-03</td>\n",
       "      <td>3,065,023.54</td>\n",
       "    </tr>\n",
       "    <tr>\n",
       "      <th>15</th>\n",
       "      <td>2021-04</td>\n",
       "      <td>3,173,389.45</td>\n",
       "    </tr>\n",
       "    <tr>\n",
       "      <th>16</th>\n",
       "      <td>2021-05</td>\n",
       "      <td>3,111,813.15</td>\n",
       "    </tr>\n",
       "    <tr>\n",
       "      <th>17</th>\n",
       "      <td>2021-06</td>\n",
       "      <td>2,990,595.59</td>\n",
       "    </tr>\n",
       "    <tr>\n",
       "      <th>18</th>\n",
       "      <td>2021-07</td>\n",
       "      <td>3,598,895.44</td>\n",
       "    </tr>\n",
       "    <tr>\n",
       "      <th>19</th>\n",
       "      <td>2021-08</td>\n",
       "      <td>3,598,238.61</td>\n",
       "    </tr>\n",
       "    <tr>\n",
       "      <th>20</th>\n",
       "      <td>2021-09</td>\n",
       "      <td>3,423,421.31</td>\n",
       "    </tr>\n",
       "    <tr>\n",
       "      <th>21</th>\n",
       "      <td>2021-10</td>\n",
       "      <td>2,724,371.20</td>\n",
       "    </tr>\n",
       "  </tbody>\n",
       "</table>\n",
       "</div>"
      ],
      "text/plain": [
       "   year_month      revenue\n",
       "0     2020-01 2,244,143.75\n",
       "1     2020-02 2,299,761.12\n",
       "2     2020-03 2,589,911.90\n",
       "3     2020-04 2,432,639.72\n",
       "4     2020-05 2,874,144.58\n",
       "5     2020-06 2,865,584.60\n",
       "6     2020-07 3,108,843.55\n",
       "7     2020-08 3,018,253.05\n",
       "8     2020-09 2,960,355.28\n",
       "9     2020-10 2,929,401.65\n",
       "10    2020-11 2,686,716.74\n",
       "11    2020-12 2,864,969.15\n",
       "12    2021-01 2,956,744.91\n",
       "13    2021-02 2,443,133.54\n",
       "14    2021-03 3,065,023.54\n",
       "15    2021-04 3,173,389.45\n",
       "16    2021-05 3,111,813.15\n",
       "17    2021-06 2,990,595.59\n",
       "18    2021-07 3,598,895.44\n",
       "19    2021-08 3,598,238.61\n",
       "20    2021-09 3,423,421.31\n",
       "21    2021-10 2,724,371.20"
      ]
     },
     "execution_count": 14,
     "metadata": {},
     "output_type": "execute_result"
    }
   ],
   "source": [
    "df_revenue"
   ]
  },
  {
   "cell_type": "markdown",
   "id": "e639a44f",
   "metadata": {},
   "source": [
    "### Outgoing"
   ]
  },
  {
   "cell_type": "code",
   "execution_count": 18,
   "id": "b8511907",
   "metadata": {},
   "outputs": [
    {
     "name": "stdout",
     "output_type": "stream",
     "text": [
      "<class 'pandas.core.frame.DataFrame'>\n",
      "RangeIndex: 66022 entries, 0 to 66021\n",
      "Data columns (total 28 columns):\n",
      " #   Column                                 Non-Null Count  Dtype              \n",
      "---  ------                                 --------------  -----              \n",
      " 0   package_row_id                         66022 non-null  object             \n",
      " 1   delivery_type                          66022 non-null  object             \n",
      " 2   license_number                         66022 non-null  object             \n",
      " 3   manifest_number                        66022 non-null  object             \n",
      " 4   created_date                           66022 non-null  object             \n",
      " 5   received_datetime                      65104 non-null  datetime64[ns, UTC]\n",
      " 6   shipper_facility_license_number        66022 non-null  object             \n",
      " 7   shipper_facility_name                  66022 non-null  object             \n",
      " 8   recipient_facility_license_number      66022 non-null  object             \n",
      " 9   recipient_facility_name                66022 non-null  object             \n",
      " 10  shipment_type_name                     66022 non-null  object             \n",
      " 11  shipment_transaction_type              66022 non-null  object             \n",
      " 12  package_id                             66022 non-null  object             \n",
      " 13  package_label                          66022 non-null  object             \n",
      " 14  type                                   66022 non-null  object             \n",
      " 15  shipment_package_state                 66022 non-null  object             \n",
      " 16  is_testing_sample                      66022 non-null  bool               \n",
      " 17  is_trade_sample                        66022 non-null  bool               \n",
      " 18  product_category_name                  66022 non-null  object             \n",
      " 19  product_name                           66022 non-null  object             \n",
      " 20  package_lab_results_status             66022 non-null  object             \n",
      " 21  shipper_wholesale_price                63618 non-null  float64            \n",
      " 22  shipped_quantity                       66022 non-null  float64            \n",
      " 23  shipped_unit_of_measure                66022 non-null  object             \n",
      " 24  received_quantity                      64194 non-null  float64            \n",
      " 25  received_unit_of_measure               64194 non-null  object             \n",
      " 26  item_unit_weight                       65980 non-null  float64            \n",
      " 27  item_unit_weight_unit_of_measure_name  65980 non-null  object             \n",
      "dtypes: bool(2), datetime64[ns, UTC](1), float64(4), object(21)\n",
      "memory usage: 13.2+ MB\n"
     ]
    }
   ],
   "source": [
    "df_out.info()"
   ]
  },
  {
   "cell_type": "code",
   "execution_count": 19,
   "id": "e5df784b",
   "metadata": {},
   "outputs": [],
   "source": [
    "df_out['per_unit'] = df_out['shipper_wholesale_price'] / df_out['shipped_quantity']\n",
    "df_out['year_month'] = df_out['received_datetime'].dt.strftime(\"%Y-%m\")"
   ]
  },
  {
   "cell_type": "code",
   "execution_count": 20,
   "id": "baf872aa",
   "metadata": {},
   "outputs": [
    {
     "data": {
      "text/html": [
       "<div>\n",
       "<style scoped>\n",
       "    .dataframe tbody tr th:only-of-type {\n",
       "        vertical-align: middle;\n",
       "    }\n",
       "\n",
       "    .dataframe tbody tr th {\n",
       "        vertical-align: top;\n",
       "    }\n",
       "\n",
       "    .dataframe thead th {\n",
       "        text-align: right;\n",
       "    }\n",
       "</style>\n",
       "<table border=\"1\" class=\"dataframe\">\n",
       "  <thead>\n",
       "    <tr style=\"text-align: right;\">\n",
       "      <th></th>\n",
       "      <th>is_testing_sample</th>\n",
       "      <th>is_trade_sample</th>\n",
       "      <th>shipper_wholesale_price</th>\n",
       "      <th>shipped_quantity</th>\n",
       "      <th>received_quantity</th>\n",
       "      <th>item_unit_weight</th>\n",
       "      <th>per_unit</th>\n",
       "    </tr>\n",
       "    <tr>\n",
       "      <th>year_month</th>\n",
       "      <th></th>\n",
       "      <th></th>\n",
       "      <th></th>\n",
       "      <th></th>\n",
       "      <th></th>\n",
       "      <th></th>\n",
       "      <th></th>\n",
       "    </tr>\n",
       "  </thead>\n",
       "  <tbody>\n",
       "    <tr>\n",
       "      <th>2020-11</th>\n",
       "      <td>0</td>\n",
       "      <td>299</td>\n",
       "      <td>337,650.75</td>\n",
       "      <td>101,585.00</td>\n",
       "      <td>100,895.00</td>\n",
       "      <td>48,505.60</td>\n",
       "      <td>10,677.27</td>\n",
       "    </tr>\n",
       "    <tr>\n",
       "      <th>2020-12</th>\n",
       "      <td>0</td>\n",
       "      <td>553</td>\n",
       "      <td>435,871.85</td>\n",
       "      <td>145,320.00</td>\n",
       "      <td>144,678.00</td>\n",
       "      <td>54,761.50</td>\n",
       "      <td>11,087.69</td>\n",
       "    </tr>\n",
       "    <tr>\n",
       "      <th>2021-01</th>\n",
       "      <td>0</td>\n",
       "      <td>199</td>\n",
       "      <td>736,300.95</td>\n",
       "      <td>161,942.00</td>\n",
       "      <td>159,389.00</td>\n",
       "      <td>52,942.30</td>\n",
       "      <td>17,314.72</td>\n",
       "    </tr>\n",
       "    <tr>\n",
       "      <th>2021-02</th>\n",
       "      <td>0</td>\n",
       "      <td>218</td>\n",
       "      <td>457,395.03</td>\n",
       "      <td>145,588.00</td>\n",
       "      <td>143,323.00</td>\n",
       "      <td>47,970.70</td>\n",
       "      <td>11,404.14</td>\n",
       "    </tr>\n",
       "    <tr>\n",
       "      <th>2021-03</th>\n",
       "      <td>0</td>\n",
       "      <td>432</td>\n",
       "      <td>505,702.80</td>\n",
       "      <td>174,411.00</td>\n",
       "      <td>172,061.00</td>\n",
       "      <td>55,205.20</td>\n",
       "      <td>12,054.81</td>\n",
       "    </tr>\n",
       "    <tr>\n",
       "      <th>2021-04</th>\n",
       "      <td>0</td>\n",
       "      <td>595</td>\n",
       "      <td>778,365.67</td>\n",
       "      <td>245,143.00</td>\n",
       "      <td>241,271.00</td>\n",
       "      <td>77,041.70</td>\n",
       "      <td>17,982.47</td>\n",
       "    </tr>\n",
       "    <tr>\n",
       "      <th>2021-05</th>\n",
       "      <td>3</td>\n",
       "      <td>931</td>\n",
       "      <td>635,557.14</td>\n",
       "      <td>210,302.00</td>\n",
       "      <td>208,007.00</td>\n",
       "      <td>70,137.60</td>\n",
       "      <td>15,680.33</td>\n",
       "    </tr>\n",
       "    <tr>\n",
       "      <th>2021-06</th>\n",
       "      <td>26</td>\n",
       "      <td>964</td>\n",
       "      <td>711,308.80</td>\n",
       "      <td>234,790.25</td>\n",
       "      <td>233,370.25</td>\n",
       "      <td>76,048.70</td>\n",
       "      <td>17,228.76</td>\n",
       "    </tr>\n",
       "    <tr>\n",
       "      <th>2021-07</th>\n",
       "      <td>38</td>\n",
       "      <td>1608</td>\n",
       "      <td>952,267.20</td>\n",
       "      <td>318,802.33</td>\n",
       "      <td>316,126.33</td>\n",
       "      <td>99,818.10</td>\n",
       "      <td>24,616.15</td>\n",
       "    </tr>\n",
       "    <tr>\n",
       "      <th>2021-08</th>\n",
       "      <td>41</td>\n",
       "      <td>1462</td>\n",
       "      <td>958,381.05</td>\n",
       "      <td>286,664.55</td>\n",
       "      <td>281,738.55</td>\n",
       "      <td>90,140.20</td>\n",
       "      <td>30,676.67</td>\n",
       "    </tr>\n",
       "    <tr>\n",
       "      <th>2021-09</th>\n",
       "      <td>32</td>\n",
       "      <td>1095</td>\n",
       "      <td>1,067,802.41</td>\n",
       "      <td>322,846.05</td>\n",
       "      <td>316,685.05</td>\n",
       "      <td>90,961.20</td>\n",
       "      <td>32,047.59</td>\n",
       "    </tr>\n",
       "    <tr>\n",
       "      <th>2021-10</th>\n",
       "      <td>27</td>\n",
       "      <td>1223</td>\n",
       "      <td>901,573.17</td>\n",
       "      <td>266,867.00</td>\n",
       "      <td>264,814.00</td>\n",
       "      <td>83,752.10</td>\n",
       "      <td>28,429.35</td>\n",
       "    </tr>\n",
       "  </tbody>\n",
       "</table>\n",
       "</div>"
      ],
      "text/plain": [
       "            is_testing_sample  is_trade_sample  shipper_wholesale_price  \\\n",
       "year_month                                                                \n",
       "2020-11                     0              299               337,650.75   \n",
       "2020-12                     0              553               435,871.85   \n",
       "2021-01                     0              199               736,300.95   \n",
       "2021-02                     0              218               457,395.03   \n",
       "2021-03                     0              432               505,702.80   \n",
       "2021-04                     0              595               778,365.67   \n",
       "2021-05                     3              931               635,557.14   \n",
       "2021-06                    26              964               711,308.80   \n",
       "2021-07                    38             1608               952,267.20   \n",
       "2021-08                    41             1462               958,381.05   \n",
       "2021-09                    32             1095             1,067,802.41   \n",
       "2021-10                    27             1223               901,573.17   \n",
       "\n",
       "            shipped_quantity  received_quantity  item_unit_weight  per_unit  \n",
       "year_month                                                                   \n",
       "2020-11           101,585.00         100,895.00         48,505.60 10,677.27  \n",
       "2020-12           145,320.00         144,678.00         54,761.50 11,087.69  \n",
       "2021-01           161,942.00         159,389.00         52,942.30 17,314.72  \n",
       "2021-02           145,588.00         143,323.00         47,970.70 11,404.14  \n",
       "2021-03           174,411.00         172,061.00         55,205.20 12,054.81  \n",
       "2021-04           245,143.00         241,271.00         77,041.70 17,982.47  \n",
       "2021-05           210,302.00         208,007.00         70,137.60 15,680.33  \n",
       "2021-06           234,790.25         233,370.25         76,048.70 17,228.76  \n",
       "2021-07           318,802.33         316,126.33         99,818.10 24,616.15  \n",
       "2021-08           286,664.55         281,738.55         90,140.20 30,676.67  \n",
       "2021-09           322,846.05         316,685.05         90,961.20 32,047.59  \n",
       "2021-10           266,867.00         264,814.00         83,752.10 28,429.35  "
      ]
     },
     "execution_count": 20,
     "metadata": {},
     "output_type": "execute_result"
    }
   ],
   "source": [
    "df_out.groupby('year_month').sum()"
   ]
  },
  {
   "cell_type": "markdown",
   "id": "664c5215",
   "metadata": {},
   "source": [
    "## Incoming"
   ]
  },
  {
   "cell_type": "code",
   "execution_count": 10,
   "id": "7d25a58f",
   "metadata": {},
   "outputs": [
    {
     "name": "stdout",
     "output_type": "stream",
     "text": [
      "<class 'pandas.core.frame.DataFrame'>\n",
      "RangeIndex: 1299 entries, 0 to 1298\n",
      "Data columns (total 28 columns):\n",
      " #   Column                                 Non-Null Count  Dtype              \n",
      "---  ------                                 --------------  -----              \n",
      " 0   package_row_id                         1299 non-null   object             \n",
      " 1   delivery_type                          1299 non-null   object             \n",
      " 2   license_number                         1299 non-null   object             \n",
      " 3   manifest_number                        1299 non-null   object             \n",
      " 4   created_date                           1299 non-null   object             \n",
      " 5   received_datetime                      1299 non-null   datetime64[ns, UTC]\n",
      " 6   shipper_facility_license_number        1299 non-null   object             \n",
      " 7   shipper_facility_name                  1299 non-null   object             \n",
      " 8   recipient_facility_license_number      1299 non-null   object             \n",
      " 9   recipient_facility_name                1299 non-null   object             \n",
      " 10  shipment_type_name                     1299 non-null   object             \n",
      " 11  shipment_transaction_type              1299 non-null   object             \n",
      " 12  package_id                             1299 non-null   object             \n",
      " 13  package_label                          1299 non-null   object             \n",
      " 14  type                                   1299 non-null   object             \n",
      " 15  shipment_package_state                 1299 non-null   object             \n",
      " 16  is_testing_sample                      1299 non-null   bool               \n",
      " 17  is_trade_sample                        1299 non-null   bool               \n",
      " 18  product_category_name                  1299 non-null   object             \n",
      " 19  product_name                           1299 non-null   object             \n",
      " 20  package_lab_results_status             1299 non-null   object             \n",
      " 21  shipper_wholesale_price                6 non-null      float64            \n",
      " 22  shipped_quantity                       1299 non-null   float64            \n",
      " 23  shipped_unit_of_measure                1299 non-null   object             \n",
      " 24  received_quantity                      1294 non-null   float64            \n",
      " 25  received_unit_of_measure               1294 non-null   object             \n",
      " 26  item_unit_weight                       1198 non-null   float64            \n",
      " 27  item_unit_weight_unit_of_measure_name  1198 non-null   object             \n",
      "dtypes: bool(2), datetime64[ns, UTC](1), float64(4), object(21)\n",
      "memory usage: 266.5+ KB\n"
     ]
    }
   ],
   "source": [
    "df_in.info()"
   ]
  },
  {
   "cell_type": "code",
   "execution_count": 16,
   "id": "378ca9d1",
   "metadata": {},
   "outputs": [],
   "source": [
    "df_in['per_unit_incoming'] = df_in['shipper_wholesale_price'] / df_in['shipped_quantity']"
   ]
  },
  {
   "cell_type": "code",
   "execution_count": 62,
   "id": "ae45c557",
   "metadata": {},
   "outputs": [],
   "source": [
    "df_in_price = df_in[df_in['shipper_wholesale_price'].notnull()]"
   ]
  },
  {
   "cell_type": "code",
   "execution_count": 63,
   "id": "3fdd26c3",
   "metadata": {},
   "outputs": [],
   "source": [
    "average_incoming_package_id = df_in_price.groupby('package_id')['per_unit_incoming'].mean()\n",
    "df_avg_incoming_price = pd.Series(average_incoming_package_id).to_frame()\n",
    "df_avg_incoming_price = df_avg_incoming_price.reset_index()"
   ]
  },
  {
   "cell_type": "code",
   "execution_count": 64,
   "id": "59ecc3a5",
   "metadata": {},
   "outputs": [],
   "source": [
    "average_incoming_product = df_in.groupby('product_name')['per_unit_incoming'].mean()\n",
    "df_avg_product = pd.Series(average_incoming_product).to_frame()\n",
    "df_avg_product = df_avg_product.reset_index()\n",
    "df_avg_product.rename(columns={'per_unit_incoming':'per_unit_product'}, inplace=True)"
   ]
  },
  {
   "cell_type": "markdown",
   "id": "9316be3c",
   "metadata": {},
   "source": [
    "## COGS"
   ]
  },
  {
   "cell_type": "markdown",
   "id": "d2299795",
   "metadata": {},
   "source": [
    "#### Incoming Price - Package ID"
   ]
  },
  {
   "cell_type": "code",
   "execution_count": 65,
   "id": "f812a381",
   "metadata": {},
   "outputs": [],
   "source": [
    "df_cogs = pd.merge(df_sales, df_avg_incoming_price, left_on='tx_package_id', right_on='package_id', how='left')"
   ]
  },
  {
   "cell_type": "code",
   "execution_count": 66,
   "id": "93620abe",
   "metadata": {},
   "outputs": [],
   "source": [
    "df_cogs['total_incoming'] = df_cogs['per_unit_incoming'] * df_cogs['tx_quantity_sold']"
   ]
  },
  {
   "cell_type": "code",
   "execution_count": 67,
   "id": "6af7b920",
   "metadata": {},
   "outputs": [],
   "source": [
    "s_cogs = df_cogs.groupby('year_month')['total_incoming'].sum()\n",
    "df_cogs_id = pd.Series(s_cogs).to_frame()\n",
    "df_cogs_id = df_cogs_id.reset_index()"
   ]
  },
  {
   "cell_type": "code",
   "execution_count": 68,
   "id": "279ee65b",
   "metadata": {},
   "outputs": [],
   "source": [
    "s_cogs_count = df_cogs.groupby('year_month')['total_incoming'].count()\n",
    "df_cogs_count = pd.Series(s_cogs_count).to_frame()\n",
    "df_cogs_count = df_cogs_count.reset_index()\n",
    "df_cogs_count.rename(columns={'total_incoming':'count_incoming'}, inplace=True)"
   ]
  },
  {
   "cell_type": "markdown",
   "id": "2ec0da02",
   "metadata": {},
   "source": [
    "#### Incoming Price - Average Product Price"
   ]
  },
  {
   "cell_type": "code",
   "execution_count": 69,
   "id": "00532d53",
   "metadata": {},
   "outputs": [],
   "source": [
    "df_cogs = pd.merge(df_cogs, df_avg_product, left_on='tx_product_name', right_on='product_name', how='left')"
   ]
  },
  {
   "cell_type": "code",
   "execution_count": 70,
   "id": "15f59efd",
   "metadata": {},
   "outputs": [],
   "source": [
    "df_cogs['total_product'] = df_cogs['tx_quantity_sold'] * df_cogs['per_unit_product']"
   ]
  },
  {
   "cell_type": "code",
   "execution_count": 71,
   "id": "a47d7d8c",
   "metadata": {},
   "outputs": [],
   "source": [
    "df_cogs_null = df_cogs[df_cogs['per_unit_incoming'].isnull()]"
   ]
  },
  {
   "cell_type": "code",
   "execution_count": 72,
   "id": "f193551e",
   "metadata": {},
   "outputs": [],
   "source": [
    "# df_cogs_null_product = pd.merge(df_cogs_null, df_avg_product, left_on='tx_product_name', right_on='product_name', how='left')\n",
    "df_cogs_product = df_cogs_null[df_cogs_null['per_unit_product'].notnull()]"
   ]
  },
  {
   "cell_type": "code",
   "execution_count": 73,
   "id": "cf543886",
   "metadata": {},
   "outputs": [],
   "source": [
    "product_sum = df_cogs_product.groupby('year_month')['total_product'].sum()\n",
    "df_product_sum = pd.Series(product_sum).to_frame()\n",
    "df_product_sum = df_product_sum.reset_index()\n",
    "df_product_sum.rename(columns={'total_product':'product_sum'}, inplace=True)"
   ]
  },
  {
   "cell_type": "code",
   "execution_count": 74,
   "id": "835de7e4",
   "metadata": {},
   "outputs": [],
   "source": [
    "product_count = df_cogs_product.groupby('year_month')['total_product'].count()\n",
    "df_product_count = pd.Series(product_count).to_frame()\n",
    "df_product_count = df_product_count.reset_index()\n",
    "df_product_count.rename(columns={'total_product':'product_count'}, inplace=True)"
   ]
  },
  {
   "cell_type": "code",
   "execution_count": 75,
   "id": "1444f818",
   "metadata": {},
   "outputs": [],
   "source": [
    "df_cogs_product = pd.merge(df_product_sum, df_product_count)"
   ]
  },
  {
   "cell_type": "code",
   "execution_count": 34,
   "id": "2ad961aa",
   "metadata": {},
   "outputs": [],
   "source": [
    "# cogs_null = df_cogs_null[df_cogs_null['per_unit_product'].isnull()]"
   ]
  },
  {
   "cell_type": "code",
   "execution_count": 38,
   "id": "1c248e23",
   "metadata": {},
   "outputs": [
    {
     "name": "stderr",
     "output_type": "stream",
     "text": [
      "C:\\Users\\Rachel\\GitHub\\venvs\\bespoke\\lib\\site-packages\\ipykernel_launcher.py:1: SettingWithCopyWarning: \n",
      "A value is trying to be set on a copy of a slice from a DataFrame.\n",
      "Try using .loc[row_indexer,col_indexer] = value instead\n",
      "\n",
      "See the caveats in the documentation: https://pandas.pydata.org/pandas-docs/stable/user_guide/indexing.html#returning-a-view-versus-a-copy\n",
      "  \"\"\"Entry point for launching an IPython kernel.\n"
     ]
    }
   ],
   "source": [
    "# cogs_null['sales_datetime'] = cogs_null['sales_datetime'].dt.strftime(\"%Y-%m-%d\")"
   ]
  },
  {
   "cell_type": "code",
   "execution_count": 39,
   "id": "e94885ed",
   "metadata": {},
   "outputs": [],
   "source": [
    "# cogs_null.to_excel('./purple_lotus_import/PL_incoming_null.xlsx')"
   ]
  },
  {
   "cell_type": "code",
   "execution_count": null,
   "id": "b8b6b54c",
   "metadata": {},
   "outputs": [],
   "source": [
    "# df_cogs[df_cogs['per_unit_incoming'].isnull() & df_cogs['per_unit_product'].notnull()]"
   ]
  },
  {
   "cell_type": "markdown",
   "id": "7bda242d",
   "metadata": {},
   "source": [
    "## Summary"
   ]
  },
  {
   "cell_type": "code",
   "execution_count": 76,
   "id": "d064fec7",
   "metadata": {},
   "outputs": [],
   "source": [
    "df_summary = pd.merge(df_revenue, df_cogs_product, how='left')"
   ]
  },
  {
   "cell_type": "code",
   "execution_count": 77,
   "id": "5c03fe46",
   "metadata": {},
   "outputs": [],
   "source": [
    "df_summary = pd.merge(df_summary, df_cogs_id, how='left')"
   ]
  },
  {
   "cell_type": "code",
   "execution_count": 78,
   "id": "758d2e93",
   "metadata": {},
   "outputs": [],
   "source": [
    "df_summary['product_sum'] = df_summary['product_sum'].fillna(0)"
   ]
  },
  {
   "cell_type": "code",
   "execution_count": 79,
   "id": "2251a7f7",
   "metadata": {},
   "outputs": [],
   "source": [
    "df_summary['product_count'] = df_summary['product_count'].fillna(0)"
   ]
  },
  {
   "cell_type": "code",
   "execution_count": 80,
   "id": "b589e7ba",
   "metadata": {},
   "outputs": [],
   "source": [
    "df_summary['cogs'] = df_summary['total_incoming'] + df_summary['product_sum']"
   ]
  },
  {
   "cell_type": "code",
   "execution_count": 81,
   "id": "f643e2f1",
   "metadata": {},
   "outputs": [],
   "source": [
    "df_summary = pd.merge(df_summary, df_cogs_count)\n",
    "df_summary = pd.merge(df_summary, df_total_count)"
   ]
  },
  {
   "cell_type": "code",
   "execution_count": 82,
   "id": "df75a811",
   "metadata": {},
   "outputs": [],
   "source": [
    "df_summary['total_count_incoming'] = df_summary['product_count'] + df_summary['count_incoming']"
   ]
  },
  {
   "cell_type": "code",
   "execution_count": 84,
   "id": "81b613b0",
   "metadata": {},
   "outputs": [],
   "source": [
    "df_summary['margin_$'] = df_summary['revenue'] - df_summary['cogs']\n",
    "df_summary['margin_%'] = df_summary['margin_$'] / df_summary['revenue']"
   ]
  },
  {
   "cell_type": "code",
   "execution_count": 85,
   "id": "196660bb",
   "metadata": {},
   "outputs": [],
   "source": [
    "df_summary['coverage'] = df_summary['total_count_incoming'] / df_summary['total_count']"
   ]
  },
  {
   "cell_type": "code",
   "execution_count": 86,
   "id": "791ccf7e",
   "metadata": {},
   "outputs": [],
   "source": [
    "df_summary_simp = df_summary[['year_month', 'revenue', 'cogs', 'margin_$', 'margin_%', 'total_count_incoming', 'total_count', 'coverage']]"
   ]
  },
  {
   "cell_type": "code",
   "execution_count": 87,
   "id": "8ab041dc",
   "metadata": {},
   "outputs": [
    {
     "data": {
      "text/html": [
       "<div>\n",
       "<style scoped>\n",
       "    .dataframe tbody tr th:only-of-type {\n",
       "        vertical-align: middle;\n",
       "    }\n",
       "\n",
       "    .dataframe tbody tr th {\n",
       "        vertical-align: top;\n",
       "    }\n",
       "\n",
       "    .dataframe thead th {\n",
       "        text-align: right;\n",
       "    }\n",
       "</style>\n",
       "<table border=\"1\" class=\"dataframe\">\n",
       "  <thead>\n",
       "    <tr style=\"text-align: right;\">\n",
       "      <th></th>\n",
       "      <th>year_month</th>\n",
       "      <th>revenue</th>\n",
       "      <th>cogs</th>\n",
       "      <th>margin_$</th>\n",
       "      <th>margin_%</th>\n",
       "      <th>total_count_incoming</th>\n",
       "      <th>total_count</th>\n",
       "      <th>coverage</th>\n",
       "    </tr>\n",
       "  </thead>\n",
       "  <tbody>\n",
       "    <tr>\n",
       "      <th>0</th>\n",
       "      <td>2020-01</td>\n",
       "      <td>2,244,143.75</td>\n",
       "      <td>453,434.00</td>\n",
       "      <td>1,790,709.75</td>\n",
       "      <td>0.80</td>\n",
       "      <td>44084</td>\n",
       "      <td>85291</td>\n",
       "      <td>0.52</td>\n",
       "    </tr>\n",
       "    <tr>\n",
       "      <th>1</th>\n",
       "      <td>2020-02</td>\n",
       "      <td>2,299,761.12</td>\n",
       "      <td>597,745.07</td>\n",
       "      <td>1,702,016.05</td>\n",
       "      <td>0.74</td>\n",
       "      <td>49738</td>\n",
       "      <td>91822</td>\n",
       "      <td>0.54</td>\n",
       "    </tr>\n",
       "    <tr>\n",
       "      <th>2</th>\n",
       "      <td>2020-03</td>\n",
       "      <td>2,589,911.90</td>\n",
       "      <td>810,062.16</td>\n",
       "      <td>1,779,849.74</td>\n",
       "      <td>0.69</td>\n",
       "      <td>59458</td>\n",
       "      <td>93766</td>\n",
       "      <td>0.63</td>\n",
       "    </tr>\n",
       "    <tr>\n",
       "      <th>3</th>\n",
       "      <td>2020-04</td>\n",
       "      <td>2,432,639.72</td>\n",
       "      <td>NaN</td>\n",
       "      <td>NaN</td>\n",
       "      <td>NaN</td>\n",
       "      <td>63012</td>\n",
       "      <td>81016</td>\n",
       "      <td>0.78</td>\n",
       "    </tr>\n",
       "    <tr>\n",
       "      <th>4</th>\n",
       "      <td>2020-05</td>\n",
       "      <td>2,874,144.58</td>\n",
       "      <td>NaN</td>\n",
       "      <td>NaN</td>\n",
       "      <td>NaN</td>\n",
       "      <td>76263</td>\n",
       "      <td>93213</td>\n",
       "      <td>0.82</td>\n",
       "    </tr>\n",
       "    <tr>\n",
       "      <th>5</th>\n",
       "      <td>2020-06</td>\n",
       "      <td>2,865,584.60</td>\n",
       "      <td>897,627.45</td>\n",
       "      <td>1,967,957.15</td>\n",
       "      <td>0.69</td>\n",
       "      <td>74911</td>\n",
       "      <td>96721</td>\n",
       "      <td>0.77</td>\n",
       "    </tr>\n",
       "    <tr>\n",
       "      <th>6</th>\n",
       "      <td>2020-07</td>\n",
       "      <td>3,108,843.55</td>\n",
       "      <td>808,980.48</td>\n",
       "      <td>2,299,863.07</td>\n",
       "      <td>0.74</td>\n",
       "      <td>71956</td>\n",
       "      <td>110904</td>\n",
       "      <td>0.65</td>\n",
       "    </tr>\n",
       "    <tr>\n",
       "      <th>7</th>\n",
       "      <td>2020-08</td>\n",
       "      <td>3,018,253.05</td>\n",
       "      <td>731,940.63</td>\n",
       "      <td>2,286,312.42</td>\n",
       "      <td>0.76</td>\n",
       "      <td>63141</td>\n",
       "      <td>115236</td>\n",
       "      <td>0.55</td>\n",
       "    </tr>\n",
       "    <tr>\n",
       "      <th>8</th>\n",
       "      <td>2020-09</td>\n",
       "      <td>2,960,355.28</td>\n",
       "      <td>692,645.31</td>\n",
       "      <td>2,267,709.97</td>\n",
       "      <td>0.77</td>\n",
       "      <td>61699</td>\n",
       "      <td>113565</td>\n",
       "      <td>0.54</td>\n",
       "    </tr>\n",
       "    <tr>\n",
       "      <th>9</th>\n",
       "      <td>2020-10</td>\n",
       "      <td>2,929,401.65</td>\n",
       "      <td>643,332.02</td>\n",
       "      <td>2,286,069.63</td>\n",
       "      <td>0.78</td>\n",
       "      <td>59602</td>\n",
       "      <td>112335</td>\n",
       "      <td>0.53</td>\n",
       "    </tr>\n",
       "    <tr>\n",
       "      <th>10</th>\n",
       "      <td>2020-11</td>\n",
       "      <td>2,686,716.74</td>\n",
       "      <td>635,135.96</td>\n",
       "      <td>2,051,580.78</td>\n",
       "      <td>0.76</td>\n",
       "      <td>58204</td>\n",
       "      <td>104631</td>\n",
       "      <td>0.56</td>\n",
       "    </tr>\n",
       "    <tr>\n",
       "      <th>11</th>\n",
       "      <td>2020-12</td>\n",
       "      <td>2,864,969.15</td>\n",
       "      <td>652,234.57</td>\n",
       "      <td>2,212,734.58</td>\n",
       "      <td>0.77</td>\n",
       "      <td>57993</td>\n",
       "      <td>108805</td>\n",
       "      <td>0.53</td>\n",
       "    </tr>\n",
       "    <tr>\n",
       "      <th>12</th>\n",
       "      <td>2021-01</td>\n",
       "      <td>2,956,744.91</td>\n",
       "      <td>702,816.86</td>\n",
       "      <td>2,253,928.05</td>\n",
       "      <td>0.76</td>\n",
       "      <td>59234</td>\n",
       "      <td>113130</td>\n",
       "      <td>0.52</td>\n",
       "    </tr>\n",
       "    <tr>\n",
       "      <th>13</th>\n",
       "      <td>2021-02</td>\n",
       "      <td>2,443,133.54</td>\n",
       "      <td>588,756.86</td>\n",
       "      <td>1,854,376.68</td>\n",
       "      <td>0.76</td>\n",
       "      <td>49595</td>\n",
       "      <td>94802</td>\n",
       "      <td>0.52</td>\n",
       "    </tr>\n",
       "    <tr>\n",
       "      <th>14</th>\n",
       "      <td>2021-03</td>\n",
       "      <td>3,065,023.54</td>\n",
       "      <td>598,781.94</td>\n",
       "      <td>2,466,241.60</td>\n",
       "      <td>0.80</td>\n",
       "      <td>52454</td>\n",
       "      <td>115969</td>\n",
       "      <td>0.45</td>\n",
       "    </tr>\n",
       "    <tr>\n",
       "      <th>15</th>\n",
       "      <td>2021-04</td>\n",
       "      <td>3,173,389.45</td>\n",
       "      <td>205,750.40</td>\n",
       "      <td>2,967,639.05</td>\n",
       "      <td>0.94</td>\n",
       "      <td>20348</td>\n",
       "      <td>122399</td>\n",
       "      <td>0.17</td>\n",
       "    </tr>\n",
       "    <tr>\n",
       "      <th>16</th>\n",
       "      <td>2021-05</td>\n",
       "      <td>3,111,813.15</td>\n",
       "      <td>118,174.10</td>\n",
       "      <td>2,993,639.05</td>\n",
       "      <td>0.96</td>\n",
       "      <td>11380</td>\n",
       "      <td>119569</td>\n",
       "      <td>0.10</td>\n",
       "    </tr>\n",
       "    <tr>\n",
       "      <th>17</th>\n",
       "      <td>2021-06</td>\n",
       "      <td>2,990,595.59</td>\n",
       "      <td>49,090.59</td>\n",
       "      <td>2,941,505.00</td>\n",
       "      <td>0.98</td>\n",
       "      <td>4859</td>\n",
       "      <td>114672</td>\n",
       "      <td>0.04</td>\n",
       "    </tr>\n",
       "    <tr>\n",
       "      <th>18</th>\n",
       "      <td>2021-07</td>\n",
       "      <td>3,598,895.44</td>\n",
       "      <td>69,815.99</td>\n",
       "      <td>3,529,079.45</td>\n",
       "      <td>0.98</td>\n",
       "      <td>7840</td>\n",
       "      <td>142040</td>\n",
       "      <td>0.06</td>\n",
       "    </tr>\n",
       "    <tr>\n",
       "      <th>19</th>\n",
       "      <td>2021-08</td>\n",
       "      <td>3,598,238.61</td>\n",
       "      <td>447,775.36</td>\n",
       "      <td>3,150,463.25</td>\n",
       "      <td>0.88</td>\n",
       "      <td>43035</td>\n",
       "      <td>143124</td>\n",
       "      <td>0.30</td>\n",
       "    </tr>\n",
       "    <tr>\n",
       "      <th>20</th>\n",
       "      <td>2021-09</td>\n",
       "      <td>3,423,421.31</td>\n",
       "      <td>575,341.64</td>\n",
       "      <td>2,848,079.67</td>\n",
       "      <td>0.83</td>\n",
       "      <td>53467</td>\n",
       "      <td>137708</td>\n",
       "      <td>0.39</td>\n",
       "    </tr>\n",
       "    <tr>\n",
       "      <th>21</th>\n",
       "      <td>2021-10</td>\n",
       "      <td>2,724,371.20</td>\n",
       "      <td>488,786.38</td>\n",
       "      <td>2,235,584.82</td>\n",
       "      <td>0.82</td>\n",
       "      <td>46301</td>\n",
       "      <td>110762</td>\n",
       "      <td>0.42</td>\n",
       "    </tr>\n",
       "  </tbody>\n",
       "</table>\n",
       "</div>"
      ],
      "text/plain": [
       "   year_month      revenue       cogs     margin_$  margin_%  \\\n",
       "0     2020-01 2,244,143.75 453,434.00 1,790,709.75      0.80   \n",
       "1     2020-02 2,299,761.12 597,745.07 1,702,016.05      0.74   \n",
       "2     2020-03 2,589,911.90 810,062.16 1,779,849.74      0.69   \n",
       "3     2020-04 2,432,639.72        NaN          NaN       NaN   \n",
       "4     2020-05 2,874,144.58        NaN          NaN       NaN   \n",
       "5     2020-06 2,865,584.60 897,627.45 1,967,957.15      0.69   \n",
       "6     2020-07 3,108,843.55 808,980.48 2,299,863.07      0.74   \n",
       "7     2020-08 3,018,253.05 731,940.63 2,286,312.42      0.76   \n",
       "8     2020-09 2,960,355.28 692,645.31 2,267,709.97      0.77   \n",
       "9     2020-10 2,929,401.65 643,332.02 2,286,069.63      0.78   \n",
       "10    2020-11 2,686,716.74 635,135.96 2,051,580.78      0.76   \n",
       "11    2020-12 2,864,969.15 652,234.57 2,212,734.58      0.77   \n",
       "12    2021-01 2,956,744.91 702,816.86 2,253,928.05      0.76   \n",
       "13    2021-02 2,443,133.54 588,756.86 1,854,376.68      0.76   \n",
       "14    2021-03 3,065,023.54 598,781.94 2,466,241.60      0.80   \n",
       "15    2021-04 3,173,389.45 205,750.40 2,967,639.05      0.94   \n",
       "16    2021-05 3,111,813.15 118,174.10 2,993,639.05      0.96   \n",
       "17    2021-06 2,990,595.59  49,090.59 2,941,505.00      0.98   \n",
       "18    2021-07 3,598,895.44  69,815.99 3,529,079.45      0.98   \n",
       "19    2021-08 3,598,238.61 447,775.36 3,150,463.25      0.88   \n",
       "20    2021-09 3,423,421.31 575,341.64 2,848,079.67      0.83   \n",
       "21    2021-10 2,724,371.20 488,786.38 2,235,584.82      0.82   \n",
       "\n",
       "    total_count_incoming  total_count  coverage  \n",
       "0                  44084        85291      0.52  \n",
       "1                  49738        91822      0.54  \n",
       "2                  59458        93766      0.63  \n",
       "3                  63012        81016      0.78  \n",
       "4                  76263        93213      0.82  \n",
       "5                  74911        96721      0.77  \n",
       "6                  71956       110904      0.65  \n",
       "7                  63141       115236      0.55  \n",
       "8                  61699       113565      0.54  \n",
       "9                  59602       112335      0.53  \n",
       "10                 58204       104631      0.56  \n",
       "11                 57993       108805      0.53  \n",
       "12                 59234       113130      0.52  \n",
       "13                 49595        94802      0.52  \n",
       "14                 52454       115969      0.45  \n",
       "15                 20348       122399      0.17  \n",
       "16                 11380       119569      0.10  \n",
       "17                  4859       114672      0.04  \n",
       "18                  7840       142040      0.06  \n",
       "19                 43035       143124      0.30  \n",
       "20                 53467       137708      0.39  \n",
       "21                 46301       110762      0.42  "
      ]
     },
     "execution_count": 87,
     "metadata": {},
     "output_type": "execute_result"
    }
   ],
   "source": [
    "df_summary_simp"
   ]
  },
  {
   "cell_type": "code",
   "execution_count": 78,
   "id": "561a7939",
   "metadata": {},
   "outputs": [],
   "source": [
    "df_summary_simp.to_excel('./Eskar_Holdings_analysis.xlsx')"
   ]
  },
  {
   "cell_type": "markdown",
   "id": "6290682d",
   "metadata": {},
   "source": [
    "## Inventory"
   ]
  },
  {
   "cell_type": "code",
   "execution_count": 42,
   "id": "64b41745",
   "metadata": {},
   "outputs": [
    {
     "name": "stdout",
     "output_type": "stream",
     "text": [
      "<class 'pandas.core.frame.DataFrame'>\n",
      "RangeIndex: 23518 entries, 0 to 23517\n",
      "Data columns (total 15 columns):\n",
      " #   Column                 Non-Null Count  Dtype  \n",
      "---  ------                 --------------  -----  \n",
      " 0   license_number         23518 non-null  object \n",
      " 1   package_id             23518 non-null  object \n",
      " 2   package_label          23518 non-null  object \n",
      " 3   type                   23518 non-null  object \n",
      " 4   packaged_date          23518 non-null  object \n",
      " 5   package_type           23518 non-null  object \n",
      " 6   product_name           23518 non-null  object \n",
      " 7   product_category_name  23518 non-null  object \n",
      " 8   quantity               23518 non-null  float64\n",
      " 9   unit_of_measure        23518 non-null  object \n",
      " 10  is_testing_sample      23518 non-null  bool   \n",
      " 11  is_trade_sample        23518 non-null  bool   \n",
      " 12  is_on_hold             23518 non-null  bool   \n",
      " 13  archived_date          0 non-null      object \n",
      " 14  finished_date          205 non-null    object \n",
      "dtypes: bool(3), float64(1), object(11)\n",
      "memory usage: 2.2+ MB\n"
     ]
    }
   ],
   "source": [
    "df_inventory.info()"
   ]
  },
  {
   "cell_type": "code",
   "execution_count": 43,
   "id": "e8b30981",
   "metadata": {},
   "outputs": [],
   "source": [
    "df_inventory_incoming = pd.merge(df_inventory, df_avg_incoming_price, on='package_id', how='left')"
   ]
  },
  {
   "cell_type": "code",
   "execution_count": 44,
   "id": "825e2e13",
   "metadata": {},
   "outputs": [],
   "source": [
    "df_inv_null = df_inventory_incoming[df_inventory_incoming['per_unit_incoming'].isnull()]"
   ]
  },
  {
   "cell_type": "code",
   "execution_count": 45,
   "id": "a56c90b4",
   "metadata": {},
   "outputs": [],
   "source": [
    "df_inv_product = pd.merge(df_inv_null, df_avg_product, on='product_name', how='left')"
   ]
  },
  {
   "cell_type": "code",
   "execution_count": null,
   "id": "29d1e50d",
   "metadata": {},
   "outputs": [],
   "source": [
    "# df_inv_product"
   ]
  },
  {
   "cell_type": "code",
   "execution_count": 46,
   "id": "b742a732",
   "metadata": {},
   "outputs": [],
   "source": [
    "df_inv_product_price = df_inv_product[df_inv_product['per_unit_product'].notnull()]"
   ]
  },
  {
   "cell_type": "code",
   "execution_count": 47,
   "id": "e399a39e",
   "metadata": {},
   "outputs": [
    {
     "name": "stderr",
     "output_type": "stream",
     "text": [
      "C:\\Users\\Rachel\\GitHub\\venvs\\bespoke\\lib\\site-packages\\ipykernel_launcher.py:1: SettingWithCopyWarning: \n",
      "A value is trying to be set on a copy of a slice from a DataFrame.\n",
      "Try using .loc[row_indexer,col_indexer] = value instead\n",
      "\n",
      "See the caveats in the documentation: https://pandas.pydata.org/pandas-docs/stable/user_guide/indexing.html#returning-a-view-versus-a-copy\n",
      "  \"\"\"Entry point for launching an IPython kernel.\n"
     ]
    }
   ],
   "source": [
    "df_inv_product_price['total_price'] = df_inv_product_price['quantity'] * df_inv_product_price['per_unit_product']"
   ]
  },
  {
   "cell_type": "code",
   "execution_count": 48,
   "id": "7b702974",
   "metadata": {},
   "outputs": [
    {
     "name": "stdout",
     "output_type": "stream",
     "text": [
      "1,148,676.52\n"
     ]
    }
   ],
   "source": [
    "inventory_product_value = df_inv_product_price['total_price'].sum()\n",
    "print(f'{inventory_product_value:,.2f}')"
   ]
  },
  {
   "cell_type": "code",
   "execution_count": 49,
   "id": "1ecf1286",
   "metadata": {},
   "outputs": [
    {
     "name": "stdout",
     "output_type": "stream",
     "text": [
      "inf\n"
     ]
    }
   ],
   "source": [
    "df_inventory_incoming['total_price'] = df_inventory_incoming['quantity'] * df_inventory_incoming['per_unit_incoming']\n",
    "inventory_value = df_inventory_incoming['total_price'].sum()\n",
    "print(f'{inventory_value:,.2f}')"
   ]
  },
  {
   "cell_type": "code",
   "execution_count": 50,
   "id": "bc070e9b",
   "metadata": {},
   "outputs": [
    {
     "name": "stdout",
     "output_type": "stream",
     "text": [
      "inf\n"
     ]
    }
   ],
   "source": [
    "total_inv_value = inventory_product_value + inventory_value\n",
    "print(f'{total_inv_value:,.2f}')"
   ]
  },
  {
   "cell_type": "code",
   "execution_count": 51,
   "id": "e18eaedb",
   "metadata": {},
   "outputs": [],
   "source": [
    "inv_count_product = df_inv_product_price['per_unit_product'].count()"
   ]
  },
  {
   "cell_type": "code",
   "execution_count": 52,
   "id": "2d4b506b",
   "metadata": {},
   "outputs": [
    {
     "data": {
      "text/plain": [
       "9459"
      ]
     },
     "execution_count": 52,
     "metadata": {},
     "output_type": "execute_result"
    }
   ],
   "source": [
    "inv_count_product"
   ]
  },
  {
   "cell_type": "code",
   "execution_count": 53,
   "id": "a08ee6e2",
   "metadata": {},
   "outputs": [],
   "source": [
    "inv_count_incoming = df_inventory_incoming['per_unit_incoming'].count()\n",
    "inv_count_total = df_inventory_incoming['quantity'].count()\n"
   ]
  },
  {
   "cell_type": "code",
   "execution_count": 54,
   "id": "8e11a1af",
   "metadata": {},
   "outputs": [],
   "source": [
    "inv_total_incoming = inv_count_product + inv_count_incoming"
   ]
  },
  {
   "cell_type": "code",
   "execution_count": 55,
   "id": "7f1f34cf",
   "metadata": {},
   "outputs": [
    {
     "data": {
      "text/plain": [
       "10953"
      ]
     },
     "execution_count": 55,
     "metadata": {},
     "output_type": "execute_result"
    }
   ],
   "source": [
    "inv_total_incoming"
   ]
  },
  {
   "cell_type": "code",
   "execution_count": 56,
   "id": "c66dc0de",
   "metadata": {},
   "outputs": [
    {
     "data": {
      "text/plain": [
       "23518"
      ]
     },
     "execution_count": 56,
     "metadata": {},
     "output_type": "execute_result"
    }
   ],
   "source": [
    "inv_count_total"
   ]
  },
  {
   "cell_type": "code",
   "execution_count": 57,
   "id": "bbb7a887",
   "metadata": {},
   "outputs": [
    {
     "name": "stdout",
     "output_type": "stream",
     "text": [
      "47%\n"
     ]
    }
   ],
   "source": [
    "inventory_coverage = inv_total_incoming / inv_count_total\n",
    "print(f'{inventory_coverage:,.0%}')"
   ]
  },
  {
   "cell_type": "code",
   "execution_count": null,
   "id": "bf6f31f1",
   "metadata": {},
   "outputs": [],
   "source": []
  },
  {
   "cell_type": "code",
   "execution_count": null,
   "id": "2826c695",
   "metadata": {},
   "outputs": [],
   "source": []
  },
  {
   "cell_type": "code",
   "execution_count": null,
   "id": "9344f66e",
   "metadata": {},
   "outputs": [],
   "source": []
  },
  {
   "cell_type": "code",
   "execution_count": null,
   "id": "d990d742",
   "metadata": {},
   "outputs": [],
   "source": []
  },
  {
   "cell_type": "markdown",
   "id": "cf007bf4",
   "metadata": {},
   "source": [
    "# Notes"
   ]
  },
  {
   "cell_type": "code",
   "execution_count": null,
   "id": "fd73ec9b",
   "metadata": {},
   "outputs": [],
   "source": [
    "# df_in[df_in.duplicated('package_id')]\n",
    "# df_sales[df_sales.duplicated('tx_package_id')]"
   ]
  },
  {
   "cell_type": "code",
   "execution_count": null,
   "id": "3e04fc47",
   "metadata": {},
   "outputs": [],
   "source": [
    "# pd.merge(df_sales, df_in[['package_id','per_unit_incoming']], left_on='tx_package_id', right_on='package_id', how='left')"
   ]
  },
  {
   "cell_type": "code",
   "execution_count": null,
   "id": "74f5cc4f",
   "metadata": {},
   "outputs": [],
   "source": [
    "# df_sales.merge(df_in['package_id','per_unit_incoming'], left_on='tx_package_id', right_on='package_id', how='left')"
   ]
  },
  {
   "cell_type": "code",
   "execution_count": null,
   "id": "ac320030",
   "metadata": {},
   "outputs": [],
   "source": [
    "# incoming_transfer_simp = company_incoming_transfer_packages_dataframe[[\n",
    "# 'license_number',\n",
    "# 'created_date',\n",
    "# 'package_id',\n",
    "# 'product_category_name',\n",
    "# 'product_name',\n",
    "# 'shipper_wholesale_price',\n",
    "# 'shipped_quantity',\n",
    "# 'shipped_unit_of_measure',\n",
    "# 'item_unit_weight',\n",
    "# 'item_unit_weight_unit_of_measure_name']]"
   ]
  },
  {
   "cell_type": "code",
   "execution_count": null,
   "id": "3073f693",
   "metadata": {},
   "outputs": [],
   "source": [
    "# incoming_transfer_simp"
   ]
  },
  {
   "cell_type": "code",
   "execution_count": null,
   "id": "c23f1ea3-e036-4add-bf26-56cb6652ee45",
   "metadata": {},
   "outputs": [],
   "source": [
    "# outgoing_transfer_simp = company_outgoing_transfer_packages_dataframe[[\n",
    "# 'license_number',\n",
    "# 'created_date',\n",
    "# 'package_id',\n",
    "# 'product_category_name',\n",
    "# 'product_name',\n",
    "# 'shipper_wholesale_price',\n",
    "# 'shipped_quantity',\n",
    "# 'shipped_unit_of_measure',\n",
    "# 'item_unit_weight',\n",
    "# 'item_unit_weight_unit_of_measure_name']]"
   ]
  },
  {
   "cell_type": "code",
   "execution_count": null,
   "id": "6f185f88",
   "metadata": {},
   "outputs": [],
   "source": [
    "# company_sales_transactions_dataframe.to_csv('hpcc_all_sales_10_13_21.csv')"
   ]
  },
  {
   "cell_type": "code",
   "execution_count": null,
   "id": "13c280d0",
   "metadata": {},
   "outputs": [],
   "source": [
    "# company_sales_transactions_dataframe.info()"
   ]
  },
  {
   "cell_type": "code",
   "execution_count": null,
   "id": "fb9fe2f1-92b1-401e-b706-20c90ce0787a",
   "metadata": {},
   "outputs": [],
   "source": [
    "# sales_simp = company_sales_transactions_dataframe[[\n",
    "# 'license_number',\n",
    "# 'sales_datetime',\n",
    "# 'tx_package_id',\n",
    "# 'tx_product_name',\n",
    "# 'tx_product_category_name',\n",
    "# 'tx_unit_of_measure',\n",
    "# 'tx_quantity_sold',\n",
    "# 'tx_total_price']]"
   ]
  },
  {
   "cell_type": "code",
   "execution_count": null,
   "id": "efdf2d6c-f232-441b-902d-ae9f4923482a",
   "metadata": {},
   "outputs": [],
   "source": [
    "# inventory_simp = company_inventory_packages_dataframe[[\n",
    "# 'license_number',\n",
    "# 'package_id',\n",
    "# 'packaged_date',\n",
    "# 'product_name',\n",
    "# 'product_category_name',\n",
    "# 'quantity',\n",
    "# 'unit_of_measure'\n",
    "# ]]"
   ]
  },
  {
   "cell_type": "code",
   "execution_count": null,
   "id": "df09761f",
   "metadata": {},
   "outputs": [],
   "source": [
    "# sales_simp['year_month'] = sales_simp['sales_datetime'].dt.strftime(\"%Y-%m\")"
   ]
  },
  {
   "cell_type": "code",
   "execution_count": null,
   "id": "2f70eeac",
   "metadata": {},
   "outputs": [],
   "source": [
    "# sales_simp.groupby(by=['year_month'], as_index=False).count()"
   ]
  },
  {
   "cell_type": "code",
   "execution_count": null,
   "id": "f30c597f",
   "metadata": {},
   "outputs": [],
   "source": [
    "# sales_drop = sales_simp.drop(['sales_datetime', 'month_year'], axis=1)"
   ]
  },
  {
   "cell_type": "code",
   "execution_count": null,
   "id": "d435207c",
   "metadata": {},
   "outputs": [],
   "source": [
    "# sales_simp.to_csv('./hpcc_sales_2021_10_13.csv')"
   ]
  },
  {
   "cell_type": "code",
   "execution_count": null,
   "id": "d8cea73c",
   "metadata": {},
   "outputs": [],
   "source": [
    "# INVENTORY_DATES = [\n",
    "#     '09/30/2020',\n",
    "#     '10/31/2020',\n",
    "#     '11/30/2020',\n",
    "#     '12/31/2020',\n",
    "#     '01/31/2021',\n",
    "#     '02/28/2021',\n",
    "#     '03/31/2021',\n",
    "#     '04/30/2021',\n",
    "#     '05/31/2021',\n",
    "#     '06/30/2021',\n",
    "#     '07/31/2021',\n",
    "#     '08/31/2021',\n",
    "#     '09/30/2021',\n",
    "# ]"
   ]
  },
  {
   "cell_type": "code",
   "execution_count": null,
   "id": "106a034d-fb76-4e8e-bce6-4e3b525b175e",
   "metadata": {},
   "outputs": [],
   "source": [
    "# %autoreload 2\n",
    "\n",
    "# sys.path.append(path.realpath(path.join(os.getcwd(), \"../../scripts/analysis\")))\n",
    "# sys.path.append(path.realpath(path.join(os.getcwd(), \"../../src\")))\n",
    "\n",
    "# from util import active_inventory_util as util"
   ]
  },
  {
   "cell_type": "code",
   "execution_count": null,
   "id": "c2af6220-2ebc-4447-a17e-0e3d9f3a7bbd",
   "metadata": {},
   "outputs": [],
   "source": [
    "# d = util.Download()\n",
    "# d.download_dataframes(\n",
    "#     incoming_transfer_packages_dataframe=company_incoming_transfer_packages_dataframe,\n",
    "#     outgoing_transfer_packages_dataframe=company_outgoing_transfer_packages_dataframe,\n",
    "#     sales_transactions_dataframe=company_sales_transactions_dataframe,\n",
    "# )"
   ]
  },
  {
   "cell_type": "code",
   "execution_count": null,
   "id": "5fbbbfe7-87c0-4409-9e6a-b6dc2b63ce54",
   "metadata": {
    "tags": []
   },
   "outputs": [],
   "source": [
    "# q = util.Query()\n",
    "# q.inventory_dates = INVENTORY_DATES\n",
    "# q.company_name = COMPANY_NAME\n",
    "\n",
    "# id_to_history = util.get_histories(d)\n",
    "# util.print_counts(id_to_history)\n",
    "# util.create_inventory_xlsx(id_to_history, q)"
   ]
  },
  {
   "cell_type": "code",
   "execution_count": null,
   "id": "4de368e2-44ab-4885-86d2-54b989f091f2",
   "metadata": {
    "tags": []
   },
   "outputs": [],
   "source": [
    "# computed_inventory_package_records = util.create_inventory_dataframe_by_date(id_to_history, INVENTORY_DATE)\n",
    "# computed_inventory_packages_dataframe = pandas.DataFrame(\n",
    "#     computed_inventory_package_records,\n",
    "#     columns=[\n",
    "#         'package_id',\n",
    "#         'Arrived Date',\n",
    "#         'Product Category',\n",
    "#         'Product Name',\n",
    "#         'Current Quantity',\n",
    "#         'Sold Date',\n",
    "#     ]\n",
    "# )\n",
    "# computed_inventory_packages_dataframe"
   ]
  },
  {
   "cell_type": "code",
   "execution_count": null,
   "id": "8cf09fb6-7890-4a77-9c5a-b78873a8a420",
   "metadata": {},
   "outputs": [],
   "source": [
    "# date_to_inventory_dataframe = {}\n",
    "# for date, inventory_records in date_to_inventory_records.items():\n",
    "#     date_to_inventory_dataframe[date] = pandas.DataFrame(\n",
    "#         inventory_records,\n",
    "#         columns=[\n",
    "#             'package_id',\n",
    "#             'Arrived Date',\n",
    "#             'Product Category',\n",
    "#             'Product Name',\n",
    "#             'Current Quantity',\n",
    "#             'Sold Date',\n",
    "#         ]\n",
    "#     )\n",
    "    \n",
    "# date_to_inventory_dataframe[list(date_to_inventory_dataframe.keys())[0]]"
   ]
  },
  {
   "cell_type": "code",
   "execution_count": null,
   "id": "c17de11e-05e9-4c94-997d-cdc0d69912b7",
   "metadata": {},
   "outputs": [],
   "source": [
    "# raw_incoming_transfer_packages_dataframe = pandas.read_excel('data/20210930/royal_apothecary_incoming_transfer_packages_20200101_20210930.xlsx', header=0)\n",
    "# len(raw_incoming_transfer_packages_dataframe.index), raw_incoming_transfer_packages_dataframe.columns"
   ]
  },
  {
   "cell_type": "code",
   "execution_count": null,
   "id": "3548e8c0-db51-43c3-8fe9-cb93ef3088cd",
   "metadata": {},
   "outputs": [],
   "source": [
    "# incoming_transfer_packages_dataframe = raw_incoming_transfer_packages_dataframe[[\n",
    "#     'date_type',\n",
    "#     'transfer_row_id',\n",
    "#     'delivery_row_id',\n",
    "#     'package_row_id',\n",
    "#     'delivery_type',\n",
    "#     'manifest_number',\n",
    "#     'created_date',\n",
    "#     'received_datetime',\n",
    "#     'shipper_facility_license_number',\n",
    "#     'shipper_facility_name',\n",
    "#     'recipient_facility_license_number',\n",
    "#     'recipient_facility_name',\n",
    "#     'shipment_type_name',\n",
    "#     'shipment_transaction_type',\n",
    "#     'package_id',\n",
    "#     'package_label',\n",
    "#     'type',\n",
    "#     'product_category_name',\n",
    "#     'product_name',\n",
    "#     'shipper_wholesale_price',\n",
    "#     'shipped_quantity',\n",
    "#     'package_lab_results_status',\n",
    "#     'shipment_package_state',\n",
    "#     'is_testing_sample',\n",
    "#     'is_trade_sample'\n",
    "# ]]"
   ]
  },
  {
   "cell_type": "code",
   "execution_count": null,
   "id": "bba6d3dc-2949-4ab5-aedb-e37110298e1d",
   "metadata": {},
   "outputs": [],
   "source": []
  },
  {
   "cell_type": "code",
   "execution_count": null,
   "id": "5e7c281b-9ccb-4162-abd0-fe89b36592c0",
   "metadata": {},
   "outputs": [],
   "source": [
    "# for date, inventory_dataframe in date_to_inventory_dataframe.items():\n",
    "#     print(date)\n",
    "#     print(f'# of packages in inventory: {len(inventory_dataframe.index)}')\n",
    "\n",
    "#     inventory_with_incoming_transfer_packages_dataframe = inventory_dataframe.astype({'package_id': 'int64'}).merge(incoming_transfer_packages_dataframe, on='package_id', how='inner', suffixes=('_l', '_r'))\n",
    "# #     print(f'# of packages in inventory with incoming package: {len(inventory_with_incoming_transfer_packages_dataframe.index)}')\n",
    "    \n",
    "#     inventory_with_cost_records = inventory_with_incoming_transfer_packages_dataframe.to_dict('record')\n",
    "\n",
    "#     total_valuation_cost = 0\n",
    "#     import math\n",
    "#     for inventory_with_cost_record in inventory_with_cost_records:\n",
    "#         incoming_shipped_price = inventory_with_cost_record['shipper_wholesale_price']\n",
    "#         if math.isnan(incoming_shipped_price):\n",
    "#             incoming_shipped_price = 0\n",
    "#         incoming_shipped_quantity = inventory_with_cost_record['shipped_quantity']\n",
    "#         current_quantity = inventory_with_cost_record['Current Quantity']\n",
    "#         total_valuation_cost += float(current_quantity) * (incoming_shipped_price / incoming_shipped_quantity)\n",
    "\n",
    "#     print(f'Inventory valuation (based on COST): ${total_valuation_cost}')\n",
    "#     print('')"
   ]
  },
  {
   "cell_type": "code",
   "execution_count": null,
   "id": "784c3521-f47d-4443-90cb-d06e934a9a1d",
   "metadata": {},
   "outputs": [],
   "source": [
    "# import json\n",
    "# import pandas\n",
    "# import numpy\n",
    "# import os\n",
    "# import sys\n",
    "# from os import path"
   ]
  }
 ],
 "metadata": {
  "kernelspec": {
   "display_name": "Python 3 (ipykernel)",
   "language": "python",
   "name": "python3"
  },
  "language_info": {
   "codemirror_mode": {
    "name": "ipython",
    "version": 3
   },
   "file_extension": ".py",
   "mimetype": "text/x-python",
   "name": "python",
   "nbconvert_exporter": "python",
   "pygments_lexer": "ipython3",
   "version": "3.7.7"
  }
 },
 "nbformat": 4,
 "nbformat_minor": 5
}
